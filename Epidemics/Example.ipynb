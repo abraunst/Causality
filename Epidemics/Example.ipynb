{
 "cells": [
  {
   "cell_type": "markdown",
   "metadata": {},
   "source": [
    "# CVA method for Epidemic Inference\n",
    "This notebook is aimed at explaining how to use the code for the CVA method applied to epidemics inference. We'll do so by generating a graph and simulationg an SI epidemics at continuous time using a simple markovian dynamical model. Then, we are going to simulate some observations on the population (clinical tests) and from those observations we'll run CVA in order to resconstruct the original epidemics. \n",
    "In the second part of this notebook we have also implemented some other methods existent in literature in order to perform a comparison of performances."
   ]
  },
  {
   "cell_type": "code",
   "execution_count": 118,
   "metadata": {},
   "outputs": [],
   "source": [
    "using SparseArrays, LinearAlgebra, IndexedGraphs\n",
    "#using Pkg\n",
    "#Pkg.activ§ate(\"../\")\n",
    "using Causality\n",
    "using Plots"
   ]
  },
  {
   "cell_type": "markdown",
   "metadata": {
    "tags": []
   },
   "source": [
    "# Simulation Part\n",
    "Here we simulate the graph generation and the epidemic spreading"
   ]
  },
  {
   "cell_type": "markdown",
   "metadata": {
    "tags": []
   },
   "source": [
    "## Graph Generation \n"
   ]
  },
  {
   "cell_type": "code",
   "execution_count": 141,
   "metadata": {},
   "outputs": [
    {
     "data": {
      "text/plain": [
       "{40, 220} directed sparse Int64 graph\n",
       "⠀⠀⠈⠀⡐⠑⠀⠑⢂⠈⠁⠈⠢⢈⠐⠀⠀⠀⠂⠀\n",
       "⠂⠀⠀⠀⠀⠀⠨⠀⠀⡠⠂⠑⠀⠐⡁⡀⢐⠀⠐⠀\n",
       "⢔⠈⠀⠀⢀⠐⠀⢴⡌⠀⢔⠈⡄⠈⢠⠨⠀⢀⡄⠄\n",
       "⢄⠀⠂⠂⢀⣄⠄⠁⡀⠸⠄⠀⡀⠀⢀⠀⠀⠁⡄⡬\n",
       "⡈⠐⠀⡠⠂⠉⣀⡈⠠⠂⠁⠀⠑⠄⠈⠎⠀⡀⠁⢁\n",
       "⡁⠀⢌⠀⡐⠑⠀⠁⠁⠀⡀⠈⠁⢈⠄⢈⠂⠐⢁⠀\n",
       "⡈⢂⢀⠀⡀⠉⠀⠈⠑⠄⡁⢀⠀⠀⠈⠌⢀⠀⢁⠀\n",
       "⠐⠀⠁⠨⡀⡒⠀⠐⡢⠄⡀⢁⡂⠄⠀⠀⠈⢀⡂⠂\n",
       "⠀⠀⠐⠐⠀⢀⠄⠀⠀⠠⢈⠀⠀⠐⠂⢀⡀⠈⠐⠠\n",
       "⠈⠀⠐⠀⠀⠍⡀⡭⠅⢀⠁⠐⠁⠐⠨⠈⠐⡀⠄⡡"
      ]
     },
     "execution_count": 141,
     "metadata": {},
     "output_type": "execute_result"
    }
   ],
   "source": [
    "# We first have to set the total time of the epidemics and the number of individuals.\n",
    "T, N = 20.0, 40\n",
    "\n",
    "#Then we can set the model for graph generation. You can comment/uncomment for changing graph or you can code it \n",
    "G = Causality.makeProximity(N,2.1/N)\n",
    "#G = Causality.makeBarabasi(N,k=2)\n",
    "#G = Causality.makeGNP(N,3/N)"
   ]
  },
  {
   "cell_type": "markdown",
   "metadata": {
    "tags": []
   },
   "source": [
    "## Epidemic Generation"
   ]
  },
  {
   "cell_type": "code",
   "execution_count": 142,
   "metadata": {},
   "outputs": [
    {
     "data": {
      "text/plain": [
       "getpargen (generic function with 1 method)"
      ]
     },
     "execution_count": 142,
     "metadata": {},
     "output_type": "execute_result"
    }
   ],
   "source": [
    "#This cell contains the definition of getpar\n",
    "#This function returns the matrix of transition rates.\n",
    "\n",
    "getpar(pseed,autoinf::GaussianRate,inf_in::GaussianRate) = \n",
    "    [fill(pseed, 1, N);\n",
    "     fill(autoinf.a, 1, N); fill(autoinf.b, 1, N); fill(autoinf.c, 1, N);\n",
    "     fill(inf_in.a,   1, N); fill(inf_in.b, 1, N); fill(inf_in.c, 1, N);\n",
    "    ]\n",
    "\n",
    "getpargen(pseed, autoinf::GaussianRate, inf_out::GaussianRate) = \n",
    "    [pseed autoinf.a autoinf.b autoinf.c inf_out.a inf_out.b inf_out.c]\n"
   ]
  },
  {
   "cell_type": "code",
   "execution_count": 143,
   "metadata": {},
   "outputs": [],
   "source": [
    "#In this cell we set all the generating parameters to simulate the SI epidemics\n",
    "\n",
    "ε = 1e-10 # a small number that will be used later for e.g. autoinfection\n",
    "λ = 0.08 # infection rate \n",
    "pseed = 1/N #probability of being the zero patient\n",
    "autoinf = GaussianRate(ε, T/2, 1/ε) # autoinfection rate at nonzero times\n",
    "\n",
    "# the following is the gaussian representing the incoming infection. We fix it to 1\n",
    "# with average T/2 and std dev ≈ ∞\n",
    "inf_in = GaussianRate(1.0, T/2, 1/ε) \n",
    "\n",
    "# the following is the outgoing infection rate. The product of outgoing and incoming is the total infection. \n",
    "#Since the incoming is 1 and the ougoing is λ we have the desired infection\n",
    "#The reason why we build two quantities is for the inference part. See later.\n",
    "inf_out = GaussianRate(λ, T/2, 1/ε)\n",
    "\n",
    "#We finally build the model parameters. We give the pseed, the autoinfection gaussian, the infection gaussian\n",
    "θp = getpar(pseed, autoinf, inf_in); #this is a 7 x N  matrix which plays an important role in inference. Not for simulation\n",
    "θpgen = getpargen(pseed, autoinf, inf_out); # this is a vector of 7 values which is the generative vactor of parameters"
   ]
  },
  {
   "cell_type": "code",
   "execution_count": 144,
   "metadata": {},
   "outputs": [],
   "source": [
    "#Initialize min/max boundaries\n",
    "T = Float64(T)\n",
    "pseed_min = ε\n",
    "pseed_max = 1-ε\n",
    "rate_min = GaussianRate(ε  ,  -T,   ε)\n",
    "rate_max = GaussianRate(1/ε  ,  2T,   1/ε)\n",
    "\n",
    "inf_min = GaussianRate(ε  ,  -T,   ε)\n",
    "inf_max = GaussianRate(1/ε  ,  2T, 1. )\n",
    "\n",
    "θmin = getpar(pseed_min , rate_min, rate_min);\n",
    "θmax = getpar(pseed_max , rate_max, rate_max);\n",
    "\n",
    "rate_min = GaussianRate(ε  ,  -T,   ε)\n",
    "rate_max = GaussianRate(1/ε  ,  T,   T)\n",
    "\n",
    "θgenmin = getpargen(pseed_min, rate_min, rate_min);\n",
    "θgenmax = getpargen(pseed_max, rate_max, rate_max);"
   ]
  },
  {
   "cell_type": "code",
   "execution_count": 145,
   "metadata": {},
   "outputs": [
    {
     "data": {
      "text/plain": [
       "GaussianInferentialSI"
      ]
     },
     "execution_count": 145,
     "metadata": {},
     "output_type": "execute_result"
    }
   ],
   "source": [
    "#this is to specify that the generative rates and inferential rates are gaussians\n",
    "const Igen = GenerativeSI{GaussianRate,GaussianRate} \n",
    "const Igauss = GaussianInferentialSI"
   ]
  },
  {
   "cell_type": "code",
   "execution_count": 150,
   "metadata": {},
   "outputs": [
    {
     "name": "stdout",
     "output_type": "stream",
     "text": [
      "Total fraction of infected at final time: 0.625\n"
     ]
    },
    {
     "data": {
      "image/svg+xml": [
       "<?xml version=\"1.0\" encoding=\"utf-8\"?>\n",
       "<svg xmlns=\"http://www.w3.org/2000/svg\" xmlns:xlink=\"http://www.w3.org/1999/xlink\" width=\"600\" height=\"400\" viewBox=\"0 0 2400 1600\">\n",
       "<defs>\n",
       "  <clipPath id=\"clip310\">\n",
       "    <rect x=\"0\" y=\"0\" width=\"2400\" height=\"1600\"/>\n",
       "  </clipPath>\n",
       "</defs>\n",
       "<path clip-path=\"url(#clip310)\" d=\"\n",
       "M0 1600 L2400 1600 L2400 0 L0 0  Z\n",
       "  \" fill=\"#ffffff\" fill-rule=\"evenodd\" fill-opacity=\"1\"/>\n",
       "<defs>\n",
       "  <clipPath id=\"clip311\">\n",
       "    <rect x=\"480\" y=\"0\" width=\"1681\" height=\"1600\"/>\n",
       "  </clipPath>\n",
       "</defs>\n",
       "<path clip-path=\"url(#clip310)\" d=\"\n",
       "M140.696 1486.45 L2352.76 1486.45 L2352.76 47.2441 L140.696 47.2441  Z\n",
       "  \" fill=\"#ffffff\" fill-rule=\"evenodd\" fill-opacity=\"1\"/>\n",
       "<defs>\n",
       "  <clipPath id=\"clip312\">\n",
       "    <rect x=\"140\" y=\"47\" width=\"2213\" height=\"1440\"/>\n",
       "  </clipPath>\n",
       "</defs>\n",
       "<polyline clip-path=\"url(#clip312)\" style=\"stroke:#000000; stroke-linecap:round; stroke-linejoin:round; stroke-width:2; stroke-opacity:0.1; fill:none\" points=\"\n",
       "  149.792,1486.45 149.792,47.2441 \n",
       "  \"/>\n",
       "<polyline clip-path=\"url(#clip312)\" style=\"stroke:#000000; stroke-linecap:round; stroke-linejoin:round; stroke-width:2; stroke-opacity:0.1; fill:none\" points=\"\n",
       "  684.882,1486.45 684.882,47.2441 \n",
       "  \"/>\n",
       "<polyline clip-path=\"url(#clip312)\" style=\"stroke:#000000; stroke-linecap:round; stroke-linejoin:round; stroke-width:2; stroke-opacity:0.1; fill:none\" points=\"\n",
       "  1219.97,1486.45 1219.97,47.2441 \n",
       "  \"/>\n",
       "<polyline clip-path=\"url(#clip312)\" style=\"stroke:#000000; stroke-linecap:round; stroke-linejoin:round; stroke-width:2; stroke-opacity:0.1; fill:none\" points=\"\n",
       "  1755.06,1486.45 1755.06,47.2441 \n",
       "  \"/>\n",
       "<polyline clip-path=\"url(#clip312)\" style=\"stroke:#000000; stroke-linecap:round; stroke-linejoin:round; stroke-width:2; stroke-opacity:0.1; fill:none\" points=\"\n",
       "  2290.15,1486.45 2290.15,47.2441 \n",
       "  \"/>\n",
       "<polyline clip-path=\"url(#clip310)\" style=\"stroke:#000000; stroke-linecap:round; stroke-linejoin:round; stroke-width:4; stroke-opacity:1; fill:none\" points=\"\n",
       "  140.696,1486.45 2352.76,1486.45 \n",
       "  \"/>\n",
       "<polyline clip-path=\"url(#clip310)\" style=\"stroke:#000000; stroke-linecap:round; stroke-linejoin:round; stroke-width:4; stroke-opacity:1; fill:none\" points=\"\n",
       "  149.792,1486.45 149.792,1467.55 \n",
       "  \"/>\n",
       "<polyline clip-path=\"url(#clip310)\" style=\"stroke:#000000; stroke-linecap:round; stroke-linejoin:round; stroke-width:4; stroke-opacity:1; fill:none\" points=\"\n",
       "  684.882,1486.45 684.882,1467.55 \n",
       "  \"/>\n",
       "<polyline clip-path=\"url(#clip310)\" style=\"stroke:#000000; stroke-linecap:round; stroke-linejoin:round; stroke-width:4; stroke-opacity:1; fill:none\" points=\"\n",
       "  1219.97,1486.45 1219.97,1467.55 \n",
       "  \"/>\n",
       "<polyline clip-path=\"url(#clip310)\" style=\"stroke:#000000; stroke-linecap:round; stroke-linejoin:round; stroke-width:4; stroke-opacity:1; fill:none\" points=\"\n",
       "  1755.06,1486.45 1755.06,1467.55 \n",
       "  \"/>\n",
       "<polyline clip-path=\"url(#clip310)\" style=\"stroke:#000000; stroke-linecap:round; stroke-linejoin:round; stroke-width:4; stroke-opacity:1; fill:none\" points=\"\n",
       "  2290.15,1486.45 2290.15,1467.55 \n",
       "  \"/>\n",
       "<path clip-path=\"url(#clip310)\" d=\"M149.792 1517.37 Q146.181 1517.37 144.352 1520.93 Q142.547 1524.47 142.547 1531.6 Q142.547 1538.71 144.352 1542.27 Q146.181 1545.82 149.792 1545.82 Q153.426 1545.82 155.232 1542.27 Q157.061 1538.71 157.061 1531.6 Q157.061 1524.47 155.232 1520.93 Q153.426 1517.37 149.792 1517.37 M149.792 1513.66 Q155.602 1513.66 158.658 1518.27 Q161.736 1522.85 161.736 1531.6 Q161.736 1540.33 158.658 1544.94 Q155.602 1549.52 149.792 1549.52 Q143.982 1549.52 140.903 1544.94 Q137.848 1540.33 137.848 1531.6 Q137.848 1522.85 140.903 1518.27 Q143.982 1513.66 149.792 1513.66 Z\" fill=\"#000000\" fill-rule=\"evenodd\" fill-opacity=\"1\" /><path clip-path=\"url(#clip310)\" d=\"M659.569 1544.91 L667.208 1544.91 L667.208 1518.55 L658.898 1520.21 L658.898 1515.95 L667.162 1514.29 L671.838 1514.29 L671.838 1544.91 L679.477 1544.91 L679.477 1548.85 L659.569 1548.85 L659.569 1544.91 Z\" fill=\"#000000\" fill-rule=\"evenodd\" fill-opacity=\"1\" /><path clip-path=\"url(#clip310)\" d=\"M698.921 1517.37 Q695.31 1517.37 693.481 1520.93 Q691.676 1524.47 691.676 1531.6 Q691.676 1538.71 693.481 1542.27 Q695.31 1545.82 698.921 1545.82 Q702.555 1545.82 704.361 1542.27 Q706.189 1538.71 706.189 1531.6 Q706.189 1524.47 704.361 1520.93 Q702.555 1517.37 698.921 1517.37 M698.921 1513.66 Q704.731 1513.66 707.787 1518.27 Q710.865 1522.85 710.865 1531.6 Q710.865 1540.33 707.787 1544.94 Q704.731 1549.52 698.921 1549.52 Q693.111 1549.52 690.032 1544.94 Q686.977 1540.33 686.977 1531.6 Q686.977 1522.85 690.032 1518.27 Q693.111 1513.66 698.921 1513.66 Z\" fill=\"#000000\" fill-rule=\"evenodd\" fill-opacity=\"1\" /><path clip-path=\"url(#clip310)\" d=\"M1198.74 1544.91 L1215.06 1544.91 L1215.06 1548.85 L1193.12 1548.85 L1193.12 1544.91 Q1195.78 1542.16 1200.36 1537.53 Q1204.97 1532.88 1206.15 1531.53 Q1208.4 1529.01 1209.28 1527.27 Q1210.18 1525.51 1210.18 1523.82 Q1210.18 1521.07 1208.24 1519.33 Q1206.31 1517.6 1203.21 1517.6 Q1201.01 1517.6 1198.56 1518.36 Q1196.13 1519.13 1193.35 1520.68 L1193.35 1515.95 Q1196.18 1514.82 1198.63 1514.24 Q1201.08 1513.66 1203.12 1513.66 Q1208.49 1513.66 1211.68 1516.35 Q1214.88 1519.03 1214.88 1523.52 Q1214.88 1525.65 1214.07 1527.57 Q1213.28 1529.47 1211.17 1532.07 Q1210.6 1532.74 1207.49 1535.95 Q1204.39 1539.15 1198.74 1544.91 Z\" fill=\"#000000\" fill-rule=\"evenodd\" fill-opacity=\"1\" /><path clip-path=\"url(#clip310)\" d=\"M1234.88 1517.37 Q1231.27 1517.37 1229.44 1520.93 Q1227.63 1524.47 1227.63 1531.6 Q1227.63 1538.71 1229.44 1542.27 Q1231.27 1545.82 1234.88 1545.82 Q1238.51 1545.82 1240.32 1542.27 Q1242.15 1538.71 1242.15 1531.6 Q1242.15 1524.47 1240.32 1520.93 Q1238.51 1517.37 1234.88 1517.37 M1234.88 1513.66 Q1240.69 1513.66 1243.74 1518.27 Q1246.82 1522.85 1246.82 1531.6 Q1246.82 1540.33 1243.74 1544.94 Q1240.69 1549.52 1234.88 1549.52 Q1229.07 1549.52 1225.99 1544.94 Q1222.93 1540.33 1222.93 1531.6 Q1222.93 1522.85 1225.99 1518.27 Q1229.07 1513.66 1234.88 1513.66 Z\" fill=\"#000000\" fill-rule=\"evenodd\" fill-opacity=\"1\" /><path clip-path=\"url(#clip310)\" d=\"M1743.9 1530.21 Q1747.26 1530.93 1749.13 1533.2 Q1751.03 1535.47 1751.03 1538.8 Q1751.03 1543.92 1747.51 1546.72 Q1744 1549.52 1737.51 1549.52 Q1735.34 1549.52 1733.02 1549.08 Q1730.73 1548.66 1728.28 1547.81 L1728.28 1543.29 Q1730.22 1544.43 1732.54 1545.01 Q1734.85 1545.58 1737.38 1545.58 Q1741.77 1545.58 1744.07 1543.85 Q1746.38 1542.11 1746.38 1538.8 Q1746.38 1535.75 1744.23 1534.03 Q1742.1 1532.3 1738.28 1532.3 L1734.25 1532.3 L1734.25 1528.45 L1738.46 1528.45 Q1741.91 1528.45 1743.74 1527.09 Q1745.57 1525.7 1745.57 1523.11 Q1745.57 1520.45 1743.67 1519.03 Q1741.8 1517.6 1738.28 1517.6 Q1736.36 1517.6 1734.16 1518.01 Q1731.96 1518.43 1729.32 1519.31 L1729.32 1515.14 Q1731.98 1514.4 1734.3 1514.03 Q1736.64 1513.66 1738.7 1513.66 Q1744.02 1513.66 1747.12 1516.09 Q1750.22 1518.5 1750.22 1522.62 Q1750.22 1525.49 1748.58 1527.48 Q1746.94 1529.45 1743.9 1530.21 Z\" fill=\"#000000\" fill-rule=\"evenodd\" fill-opacity=\"1\" /><path clip-path=\"url(#clip310)\" d=\"M1769.9 1517.37 Q1766.29 1517.37 1764.46 1520.93 Q1762.65 1524.47 1762.65 1531.6 Q1762.65 1538.71 1764.46 1542.27 Q1766.29 1545.82 1769.9 1545.82 Q1773.53 1545.82 1775.34 1542.27 Q1777.17 1538.71 1777.17 1531.6 Q1777.17 1524.47 1775.34 1520.93 Q1773.53 1517.37 1769.9 1517.37 M1769.9 1513.66 Q1775.71 1513.66 1778.76 1518.27 Q1781.84 1522.85 1781.84 1531.6 Q1781.84 1540.33 1778.76 1544.94 Q1775.71 1549.52 1769.9 1549.52 Q1764.09 1549.52 1761.01 1544.94 Q1757.95 1540.33 1757.95 1531.6 Q1757.95 1522.85 1761.01 1518.27 Q1764.09 1513.66 1769.9 1513.66 Z\" fill=\"#000000\" fill-rule=\"evenodd\" fill-opacity=\"1\" /><path clip-path=\"url(#clip310)\" d=\"M2278.32 1518.36 L2266.52 1536.81 L2278.32 1536.81 L2278.32 1518.36 M2277.09 1514.29 L2282.97 1514.29 L2282.97 1536.81 L2287.91 1536.81 L2287.91 1540.7 L2282.97 1540.7 L2282.97 1548.85 L2278.32 1548.85 L2278.32 1540.7 L2262.72 1540.7 L2262.72 1536.19 L2277.09 1514.29 Z\" fill=\"#000000\" fill-rule=\"evenodd\" fill-opacity=\"1\" /><path clip-path=\"url(#clip310)\" d=\"M2305.64 1517.37 Q2302.03 1517.37 2300.2 1520.93 Q2298.39 1524.47 2298.39 1531.6 Q2298.39 1538.71 2300.2 1542.27 Q2302.03 1545.82 2305.64 1545.82 Q2309.27 1545.82 2311.08 1542.27 Q2312.9 1538.71 2312.9 1531.6 Q2312.9 1524.47 2311.08 1520.93 Q2309.27 1517.37 2305.64 1517.37 M2305.64 1513.66 Q2311.45 1513.66 2314.5 1518.27 Q2317.58 1522.85 2317.58 1531.6 Q2317.58 1540.33 2314.5 1544.94 Q2311.45 1549.52 2305.64 1549.52 Q2299.83 1549.52 2296.75 1544.94 Q2293.69 1540.33 2293.69 1531.6 Q2293.69 1522.85 2296.75 1518.27 Q2299.83 1513.66 2305.64 1513.66 Z\" fill=\"#000000\" fill-rule=\"evenodd\" fill-opacity=\"1\" /><polyline clip-path=\"url(#clip312)\" style=\"stroke:#000000; stroke-linecap:round; stroke-linejoin:round; stroke-width:2; stroke-opacity:0.1; fill:none\" points=\"\n",
       "  140.696,1445.72 2352.76,1445.72 \n",
       "  \"/>\n",
       "<polyline clip-path=\"url(#clip312)\" style=\"stroke:#000000; stroke-linecap:round; stroke-linejoin:round; stroke-width:2; stroke-opacity:0.1; fill:none\" points=\"\n",
       "  140.696,1106.28 2352.76,1106.28 \n",
       "  \"/>\n",
       "<polyline clip-path=\"url(#clip312)\" style=\"stroke:#000000; stroke-linecap:round; stroke-linejoin:round; stroke-width:2; stroke-opacity:0.1; fill:none\" points=\"\n",
       "  140.696,766.846 2352.76,766.846 \n",
       "  \"/>\n",
       "<polyline clip-path=\"url(#clip312)\" style=\"stroke:#000000; stroke-linecap:round; stroke-linejoin:round; stroke-width:2; stroke-opacity:0.1; fill:none\" points=\"\n",
       "  140.696,427.411 2352.76,427.411 \n",
       "  \"/>\n",
       "<polyline clip-path=\"url(#clip312)\" style=\"stroke:#000000; stroke-linecap:round; stroke-linejoin:round; stroke-width:2; stroke-opacity:0.1; fill:none\" points=\"\n",
       "  140.696,87.9763 2352.76,87.9763 \n",
       "  \"/>\n",
       "<polyline clip-path=\"url(#clip310)\" style=\"stroke:#000000; stroke-linecap:round; stroke-linejoin:round; stroke-width:4; stroke-opacity:1; fill:none\" points=\"\n",
       "  140.696,1486.45 140.696,47.2441 \n",
       "  \"/>\n",
       "<polyline clip-path=\"url(#clip310)\" style=\"stroke:#000000; stroke-linecap:round; stroke-linejoin:round; stroke-width:4; stroke-opacity:1; fill:none\" points=\"\n",
       "  140.696,1445.72 159.593,1445.72 \n",
       "  \"/>\n",
       "<polyline clip-path=\"url(#clip310)\" style=\"stroke:#000000; stroke-linecap:round; stroke-linejoin:round; stroke-width:4; stroke-opacity:1; fill:none\" points=\"\n",
       "  140.696,1106.28 159.593,1106.28 \n",
       "  \"/>\n",
       "<polyline clip-path=\"url(#clip310)\" style=\"stroke:#000000; stroke-linecap:round; stroke-linejoin:round; stroke-width:4; stroke-opacity:1; fill:none\" points=\"\n",
       "  140.696,766.846 159.593,766.846 \n",
       "  \"/>\n",
       "<polyline clip-path=\"url(#clip310)\" style=\"stroke:#000000; stroke-linecap:round; stroke-linejoin:round; stroke-width:4; stroke-opacity:1; fill:none\" points=\"\n",
       "  140.696,427.411 159.593,427.411 \n",
       "  \"/>\n",
       "<polyline clip-path=\"url(#clip310)\" style=\"stroke:#000000; stroke-linecap:round; stroke-linejoin:round; stroke-width:4; stroke-opacity:1; fill:none\" points=\"\n",
       "  140.696,87.9763 159.593,87.9763 \n",
       "  \"/>\n",
       "<path clip-path=\"url(#clip310)\" d=\"M92.7512 1431.51 Q89.1401 1431.51 87.3114 1435.08 Q85.5058 1438.62 85.5058 1445.75 Q85.5058 1452.86 87.3114 1456.42 Q89.1401 1459.96 92.7512 1459.96 Q96.3854 1459.96 98.1909 1456.42 Q100.02 1452.86 100.02 1445.75 Q100.02 1438.62 98.1909 1435.08 Q96.3854 1431.51 92.7512 1431.51 M92.7512 1427.81 Q98.5613 1427.81 101.617 1432.42 Q104.696 1437 104.696 1445.75 Q104.696 1454.48 101.617 1459.08 Q98.5613 1463.67 92.7512 1463.67 Q86.941 1463.67 83.8623 1459.08 Q80.8068 1454.48 80.8068 1445.75 Q80.8068 1437 83.8623 1432.42 Q86.941 1427.81 92.7512 1427.81 Z\" fill=\"#000000\" fill-rule=\"evenodd\" fill-opacity=\"1\" /><path clip-path=\"url(#clip310)\" d=\"M83.7929 1089 L102.149 1089 L102.149 1092.94 L88.0753 1092.94 L88.0753 1101.41 Q89.0938 1101.06 90.1123 1100.9 Q91.1308 1100.71 92.1493 1100.71 Q97.9363 1100.71 101.316 1103.89 Q104.696 1107.06 104.696 1112.47 Q104.696 1118.05 101.223 1121.15 Q97.7511 1124.23 91.4317 1124.23 Q89.2558 1124.23 86.9873 1123.86 Q84.7419 1123.49 82.3346 1122.75 L82.3346 1118.05 Q84.4179 1119.19 86.6401 1119.74 Q88.8623 1120.3 91.3391 1120.3 Q95.3437 1120.3 97.6817 1118.19 Q100.02 1116.08 100.02 1112.47 Q100.02 1108.86 97.6817 1106.76 Q95.3437 1104.65 91.3391 1104.65 Q89.4641 1104.65 87.5892 1105.07 Q85.7373 1105.48 83.7929 1106.36 L83.7929 1089 Z\" fill=\"#000000\" fill-rule=\"evenodd\" fill-opacity=\"1\" /><path clip-path=\"url(#clip310)\" d=\"M53.3995 780.191 L61.0384 780.191 L61.0384 753.825 L52.7282 755.492 L52.7282 751.233 L60.9921 749.566 L65.668 749.566 L65.668 780.191 L73.3068 780.191 L73.3068 784.126 L53.3995 784.126 L53.3995 780.191 Z\" fill=\"#000000\" fill-rule=\"evenodd\" fill-opacity=\"1\" /><path clip-path=\"url(#clip310)\" d=\"M92.7512 752.645 Q89.1401 752.645 87.3114 756.209 Q85.5058 759.751 85.5058 766.881 Q85.5058 773.987 87.3114 777.552 Q89.1401 781.094 92.7512 781.094 Q96.3854 781.094 98.1909 777.552 Q100.02 773.987 100.02 766.881 Q100.02 759.751 98.1909 756.209 Q96.3854 752.645 92.7512 752.645 M92.7512 748.941 Q98.5613 748.941 101.617 753.547 Q104.696 758.131 104.696 766.881 Q104.696 775.608 101.617 780.214 Q98.5613 784.797 92.7512 784.797 Q86.941 784.797 83.8623 780.214 Q80.8068 775.608 80.8068 766.881 Q80.8068 758.131 83.8623 753.547 Q86.941 748.941 92.7512 748.941 Z\" fill=\"#000000\" fill-rule=\"evenodd\" fill-opacity=\"1\" /><path clip-path=\"url(#clip310)\" d=\"M54.3949 440.756 L62.0337 440.756 L62.0337 414.39 L53.7236 416.057 L53.7236 411.798 L61.9874 410.131 L66.6633 410.131 L66.6633 440.756 L74.3022 440.756 L74.3022 444.691 L54.3949 444.691 L54.3949 440.756 Z\" fill=\"#000000\" fill-rule=\"evenodd\" fill-opacity=\"1\" /><path clip-path=\"url(#clip310)\" d=\"M83.7929 410.131 L102.149 410.131 L102.149 414.066 L88.0753 414.066 L88.0753 422.538 Q89.0938 422.191 90.1123 422.029 Q91.1308 421.844 92.1493 421.844 Q97.9363 421.844 101.316 425.015 Q104.696 428.187 104.696 433.603 Q104.696 439.182 101.223 442.284 Q97.7511 445.362 91.4317 445.362 Q89.2558 445.362 86.9873 444.992 Q84.7419 444.622 82.3346 443.881 L82.3346 439.182 Q84.4179 440.316 86.6401 440.872 Q88.8623 441.427 91.3391 441.427 Q95.3437 441.427 97.6817 439.321 Q100.02 437.214 100.02 433.603 Q100.02 429.992 97.6817 427.886 Q95.3437 425.779 91.3391 425.779 Q89.4641 425.779 87.5892 426.196 Q85.7373 426.613 83.7929 427.492 L83.7929 410.131 Z\" fill=\"#000000\" fill-rule=\"evenodd\" fill-opacity=\"1\" /><path clip-path=\"url(#clip310)\" d=\"M56.6171 101.321 L72.9365 101.321 L72.9365 105.256 L50.9921 105.256 L50.9921 101.321 Q53.6541 98.5665 58.2375 93.9369 Q62.8439 89.2841 64.0245 87.9416 Q66.2698 85.4184 67.1494 83.6823 Q68.0522 81.9231 68.0522 80.2333 Q68.0522 77.4786 66.1078 75.7425 Q64.1865 74.0064 61.0847 74.0064 Q58.8856 74.0064 56.4319 74.7703 Q54.0014 75.5342 51.2236 77.0851 L51.2236 72.3629 Q54.0477 71.2287 56.5014 70.65 Q58.955 70.0713 60.9921 70.0713 Q66.3624 70.0713 69.5568 72.7565 Q72.7513 75.4416 72.7513 79.9323 Q72.7513 82.062 71.9411 83.9832 Q71.1541 85.8814 69.0476 88.474 Q68.4689 89.1453 65.367 92.3628 Q62.2652 95.5573 56.6171 101.321 Z\" fill=\"#000000\" fill-rule=\"evenodd\" fill-opacity=\"1\" /><path clip-path=\"url(#clip310)\" d=\"M92.7512 73.775 Q89.1401 73.775 87.3114 77.3398 Q85.5058 80.8814 85.5058 88.011 Q85.5058 95.1174 87.3114 98.6822 Q89.1401 102.224 92.7512 102.224 Q96.3854 102.224 98.1909 98.6822 Q100.02 95.1174 100.02 88.011 Q100.02 80.8814 98.1909 77.3398 Q96.3854 73.775 92.7512 73.775 M92.7512 70.0713 Q98.5613 70.0713 101.617 74.6777 Q104.696 79.261 104.696 88.011 Q104.696 96.7378 101.617 101.344 Q98.5613 105.928 92.7512 105.928 Q86.941 105.928 83.8623 101.344 Q80.8068 96.7378 80.8068 88.011 Q80.8068 79.261 83.8623 74.6777 Q86.941 70.0713 92.7512 70.0713 Z\" fill=\"#000000\" fill-rule=\"evenodd\" fill-opacity=\"1\" /><circle clip-path=\"url(#clip312)\" cx=\"203.301\" cy=\"850.768\" r=\"14.4\" fill=\"#009af9\" fill-rule=\"evenodd\" fill-opacity=\"1\" stroke=\"#000000\" stroke-opacity=\"1\" stroke-width=\"3.2\"/>\n",
       "<circle clip-path=\"url(#clip312)\" cx=\"256.81\" cy=\"1151.72\" r=\"14.4\" fill=\"#009af9\" fill-rule=\"evenodd\" fill-opacity=\"1\" stroke=\"#000000\" stroke-opacity=\"1\" stroke-width=\"3.2\"/>\n",
       "<circle clip-path=\"url(#clip312)\" cx=\"310.319\" cy=\"87.9763\" r=\"14.4\" fill=\"#009af9\" fill-rule=\"evenodd\" fill-opacity=\"1\" stroke=\"#000000\" stroke-opacity=\"1\" stroke-width=\"3.2\"/>\n",
       "<circle clip-path=\"url(#clip312)\" cx=\"363.828\" cy=\"669.81\" r=\"14.4\" fill=\"#009af9\" fill-rule=\"evenodd\" fill-opacity=\"1\" stroke=\"#000000\" stroke-opacity=\"1\" stroke-width=\"3.2\"/>\n",
       "<circle clip-path=\"url(#clip312)\" cx=\"417.337\" cy=\"87.9763\" r=\"14.4\" fill=\"#009af9\" fill-rule=\"evenodd\" fill-opacity=\"1\" stroke=\"#000000\" stroke-opacity=\"1\" stroke-width=\"3.2\"/>\n",
       "<circle clip-path=\"url(#clip312)\" cx=\"470.846\" cy=\"691.837\" r=\"14.4\" fill=\"#009af9\" fill-rule=\"evenodd\" fill-opacity=\"1\" stroke=\"#000000\" stroke-opacity=\"1\" stroke-width=\"3.2\"/>\n",
       "<circle clip-path=\"url(#clip312)\" cx=\"524.355\" cy=\"87.9763\" r=\"14.4\" fill=\"#009af9\" fill-rule=\"evenodd\" fill-opacity=\"1\" stroke=\"#000000\" stroke-opacity=\"1\" stroke-width=\"3.2\"/>\n",
       "<circle clip-path=\"url(#clip312)\" cx=\"577.864\" cy=\"87.9763\" r=\"14.4\" fill=\"#009af9\" fill-rule=\"evenodd\" fill-opacity=\"1\" stroke=\"#000000\" stroke-opacity=\"1\" stroke-width=\"3.2\"/>\n",
       "<circle clip-path=\"url(#clip312)\" cx=\"631.373\" cy=\"235.431\" r=\"14.4\" fill=\"#009af9\" fill-rule=\"evenodd\" fill-opacity=\"1\" stroke=\"#000000\" stroke-opacity=\"1\" stroke-width=\"3.2\"/>\n",
       "<circle clip-path=\"url(#clip312)\" cx=\"684.882\" cy=\"1146.03\" r=\"14.4\" fill=\"#009af9\" fill-rule=\"evenodd\" fill-opacity=\"1\" stroke=\"#000000\" stroke-opacity=\"1\" stroke-width=\"3.2\"/>\n",
       "<circle clip-path=\"url(#clip312)\" cx=\"738.391\" cy=\"1272.97\" r=\"14.4\" fill=\"#009af9\" fill-rule=\"evenodd\" fill-opacity=\"1\" stroke=\"#000000\" stroke-opacity=\"1\" stroke-width=\"3.2\"/>\n",
       "<circle clip-path=\"url(#clip312)\" cx=\"791.9\" cy=\"1244.97\" r=\"14.4\" fill=\"#009af9\" fill-rule=\"evenodd\" fill-opacity=\"1\" stroke=\"#000000\" stroke-opacity=\"1\" stroke-width=\"3.2\"/>\n",
       "<circle clip-path=\"url(#clip312)\" cx=\"845.409\" cy=\"209.164\" r=\"14.4\" fill=\"#009af9\" fill-rule=\"evenodd\" fill-opacity=\"1\" stroke=\"#000000\" stroke-opacity=\"1\" stroke-width=\"3.2\"/>\n",
       "<circle clip-path=\"url(#clip312)\" cx=\"898.917\" cy=\"334.852\" r=\"14.4\" fill=\"#009af9\" fill-rule=\"evenodd\" fill-opacity=\"1\" stroke=\"#000000\" stroke-opacity=\"1\" stroke-width=\"3.2\"/>\n",
       "<circle clip-path=\"url(#clip312)\" cx=\"952.426\" cy=\"614.524\" r=\"14.4\" fill=\"#009af9\" fill-rule=\"evenodd\" fill-opacity=\"1\" stroke=\"#000000\" stroke-opacity=\"1\" stroke-width=\"3.2\"/>\n",
       "<circle clip-path=\"url(#clip312)\" cx=\"1005.94\" cy=\"1445.72\" r=\"14.4\" fill=\"#009af9\" fill-rule=\"evenodd\" fill-opacity=\"1\" stroke=\"#000000\" stroke-opacity=\"1\" stroke-width=\"3.2\"/>\n",
       "<circle clip-path=\"url(#clip312)\" cx=\"1059.44\" cy=\"1330.68\" r=\"14.4\" fill=\"#009af9\" fill-rule=\"evenodd\" fill-opacity=\"1\" stroke=\"#000000\" stroke-opacity=\"1\" stroke-width=\"3.2\"/>\n",
       "<circle clip-path=\"url(#clip312)\" cx=\"1112.95\" cy=\"87.9763\" r=\"14.4\" fill=\"#009af9\" fill-rule=\"evenodd\" fill-opacity=\"1\" stroke=\"#000000\" stroke-opacity=\"1\" stroke-width=\"3.2\"/>\n",
       "<circle clip-path=\"url(#clip312)\" cx=\"1166.46\" cy=\"87.9763\" r=\"14.4\" fill=\"#009af9\" fill-rule=\"evenodd\" fill-opacity=\"1\" stroke=\"#000000\" stroke-opacity=\"1\" stroke-width=\"3.2\"/>\n",
       "<circle clip-path=\"url(#clip312)\" cx=\"1219.97\" cy=\"359.364\" r=\"14.4\" fill=\"#009af9\" fill-rule=\"evenodd\" fill-opacity=\"1\" stroke=\"#000000\" stroke-opacity=\"1\" stroke-width=\"3.2\"/>\n",
       "<circle clip-path=\"url(#clip312)\" cx=\"1273.48\" cy=\"1019.85\" r=\"14.4\" fill=\"#009af9\" fill-rule=\"evenodd\" fill-opacity=\"1\" stroke=\"#000000\" stroke-opacity=\"1\" stroke-width=\"3.2\"/>\n",
       "<circle clip-path=\"url(#clip312)\" cx=\"1326.99\" cy=\"138.96\" r=\"14.4\" fill=\"#009af9\" fill-rule=\"evenodd\" fill-opacity=\"1\" stroke=\"#000000\" stroke-opacity=\"1\" stroke-width=\"3.2\"/>\n",
       "<circle clip-path=\"url(#clip312)\" cx=\"1380.5\" cy=\"87.9763\" r=\"14.4\" fill=\"#009af9\" fill-rule=\"evenodd\" fill-opacity=\"1\" stroke=\"#000000\" stroke-opacity=\"1\" stroke-width=\"3.2\"/>\n",
       "<circle clip-path=\"url(#clip312)\" cx=\"1434.01\" cy=\"678.759\" r=\"14.4\" fill=\"#009af9\" fill-rule=\"evenodd\" fill-opacity=\"1\" stroke=\"#000000\" stroke-opacity=\"1\" stroke-width=\"3.2\"/>\n",
       "<circle clip-path=\"url(#clip312)\" cx=\"1487.52\" cy=\"1305.52\" r=\"14.4\" fill=\"#009af9\" fill-rule=\"evenodd\" fill-opacity=\"1\" stroke=\"#000000\" stroke-opacity=\"1\" stroke-width=\"3.2\"/>\n",
       "<circle clip-path=\"url(#clip312)\" cx=\"1541.02\" cy=\"87.9763\" r=\"14.4\" fill=\"#009af9\" fill-rule=\"evenodd\" fill-opacity=\"1\" stroke=\"#000000\" stroke-opacity=\"1\" stroke-width=\"3.2\"/>\n",
       "<circle clip-path=\"url(#clip312)\" cx=\"1594.53\" cy=\"87.9763\" r=\"14.4\" fill=\"#009af9\" fill-rule=\"evenodd\" fill-opacity=\"1\" stroke=\"#000000\" stroke-opacity=\"1\" stroke-width=\"3.2\"/>\n",
       "<circle clip-path=\"url(#clip312)\" cx=\"1648.04\" cy=\"780.813\" r=\"14.4\" fill=\"#009af9\" fill-rule=\"evenodd\" fill-opacity=\"1\" stroke=\"#000000\" stroke-opacity=\"1\" stroke-width=\"3.2\"/>\n",
       "<circle clip-path=\"url(#clip312)\" cx=\"1701.55\" cy=\"87.9763\" r=\"14.4\" fill=\"#009af9\" fill-rule=\"evenodd\" fill-opacity=\"1\" stroke=\"#000000\" stroke-opacity=\"1\" stroke-width=\"3.2\"/>\n",
       "<circle clip-path=\"url(#clip312)\" cx=\"1755.06\" cy=\"1021.24\" r=\"14.4\" fill=\"#009af9\" fill-rule=\"evenodd\" fill-opacity=\"1\" stroke=\"#000000\" stroke-opacity=\"1\" stroke-width=\"3.2\"/>\n",
       "<circle clip-path=\"url(#clip312)\" cx=\"1808.57\" cy=\"87.9763\" r=\"14.4\" fill=\"#009af9\" fill-rule=\"evenodd\" fill-opacity=\"1\" stroke=\"#000000\" stroke-opacity=\"1\" stroke-width=\"3.2\"/>\n",
       "<circle clip-path=\"url(#clip312)\" cx=\"1862.08\" cy=\"1004.3\" r=\"14.4\" fill=\"#009af9\" fill-rule=\"evenodd\" fill-opacity=\"1\" stroke=\"#000000\" stroke-opacity=\"1\" stroke-width=\"3.2\"/>\n",
       "<circle clip-path=\"url(#clip312)\" cx=\"1915.59\" cy=\"87.9763\" r=\"14.4\" fill=\"#009af9\" fill-rule=\"evenodd\" fill-opacity=\"1\" stroke=\"#000000\" stroke-opacity=\"1\" stroke-width=\"3.2\"/>\n",
       "<circle clip-path=\"url(#clip312)\" cx=\"1969.1\" cy=\"87.9763\" r=\"14.4\" fill=\"#009af9\" fill-rule=\"evenodd\" fill-opacity=\"1\" stroke=\"#000000\" stroke-opacity=\"1\" stroke-width=\"3.2\"/>\n",
       "<circle clip-path=\"url(#clip312)\" cx=\"2022.61\" cy=\"161.555\" r=\"14.4\" fill=\"#009af9\" fill-rule=\"evenodd\" fill-opacity=\"1\" stroke=\"#000000\" stroke-opacity=\"1\" stroke-width=\"3.2\"/>\n",
       "<circle clip-path=\"url(#clip312)\" cx=\"2076.11\" cy=\"618.883\" r=\"14.4\" fill=\"#009af9\" fill-rule=\"evenodd\" fill-opacity=\"1\" stroke=\"#000000\" stroke-opacity=\"1\" stroke-width=\"3.2\"/>\n",
       "<circle clip-path=\"url(#clip312)\" cx=\"2129.62\" cy=\"1251.53\" r=\"14.4\" fill=\"#009af9\" fill-rule=\"evenodd\" fill-opacity=\"1\" stroke=\"#000000\" stroke-opacity=\"1\" stroke-width=\"3.2\"/>\n",
       "<circle clip-path=\"url(#clip312)\" cx=\"2183.13\" cy=\"87.9763\" r=\"14.4\" fill=\"#009af9\" fill-rule=\"evenodd\" fill-opacity=\"1\" stroke=\"#000000\" stroke-opacity=\"1\" stroke-width=\"3.2\"/>\n",
       "<circle clip-path=\"url(#clip312)\" cx=\"2236.64\" cy=\"977.726\" r=\"14.4\" fill=\"#009af9\" fill-rule=\"evenodd\" fill-opacity=\"1\" stroke=\"#000000\" stroke-opacity=\"1\" stroke-width=\"3.2\"/>\n",
       "<circle clip-path=\"url(#clip312)\" cx=\"2290.15\" cy=\"87.9763\" r=\"14.4\" fill=\"#009af9\" fill-rule=\"evenodd\" fill-opacity=\"1\" stroke=\"#000000\" stroke-opacity=\"1\" stroke-width=\"3.2\"/>\n",
       "<path clip-path=\"url(#clip310)\" d=\"\n",
       "M2005.38 1438.47 L2279.02 1438.47 L2279.02 1334.79 L2005.38 1334.79  Z\n",
       "  \" fill=\"#ffffff\" fill-rule=\"evenodd\" fill-opacity=\"1\"/>\n",
       "<polyline clip-path=\"url(#clip310)\" style=\"stroke:#000000; stroke-linecap:round; stroke-linejoin:round; stroke-width:4; stroke-opacity:1; fill:none\" points=\"\n",
       "  2005.38,1438.47 2279.02,1438.47 2279.02,1334.79 2005.38,1334.79 2005.38,1438.47 \n",
       "  \"/>\n",
       "<circle clip-path=\"url(#clip310)\" cx=\"2103.7\" cy=\"1386.63\" r=\"23.04\" fill=\"#009af9\" fill-rule=\"evenodd\" fill-opacity=\"1\" stroke=\"#000000\" stroke-opacity=\"1\" stroke-width=\"5.12\"/>\n",
       "<path clip-path=\"url(#clip310)\" d=\"M2215.85 1406.32 Q2214.05 1410.95 2212.34 1412.36 Q2210.62 1413.78 2207.75 1413.78 L2204.35 1413.78 L2204.35 1410.21 L2206.85 1410.21 Q2208.61 1410.21 2209.58 1409.38 Q2210.55 1408.54 2211.73 1405.44 L2212.5 1403.5 L2202.01 1377.99 L2206.53 1377.99 L2214.63 1398.27 L2222.73 1377.99 L2227.24 1377.99 L2215.85 1406.32 Z\" fill=\"#000000\" fill-rule=\"evenodd\" fill-opacity=\"1\" /><path clip-path=\"url(#clip310)\" d=\"M2234.53 1399.98 L2242.17 1399.98 L2242.17 1373.61 L2233.86 1375.28 L2233.86 1371.02 L2242.13 1369.35 L2246.8 1369.35 L2246.8 1399.98 L2254.44 1399.98 L2254.44 1403.91 L2234.53 1403.91 L2234.53 1399.98 Z\" fill=\"#000000\" fill-rule=\"evenodd\" fill-opacity=\"1\" /></svg>\n"
      ]
     },
     "execution_count": 150,
     "metadata": {},
     "output_type": "execute_result"
    }
   ],
   "source": [
    "# V is a vector containing the time interval of each contact in the graph\n",
    "# In this example we are studying a static graph so we set all the time intevals to be  [0,T]\n",
    "V = fill(MaskedRate(UnitRate(),Causality.intervalUnion(0,T)), ne(G));\n",
    "#We initialize the generative SI model\n",
    "Mp = StochasticModel(Igen, T, θp, G, θpgen, V);\n",
    "#We sample from the generative model a trajectory x\n",
    "sample! = Sampler(Mp);\n",
    "xtrue = zeros(N)\n",
    "sample!(xtrue)\n",
    "\n",
    "#We plot the infection time of each individual. If this time is T it means no infection happened\n",
    "println(\"Total fraction of infected at final time: \", sum(xtrue .< T)/N)\n",
    "scatter(xtrue)\n",
    "#scatter!(xtrue .+ 1)\n",
    "#scatter!(xtrue .- 1)"
   ]
  },
  {
   "cell_type": "markdown",
   "metadata": {
    "tags": []
   },
   "source": [
    "## Simulation of clinical tests"
   ]
  },
  {
   "cell_type": "code",
   "execution_count": 151,
   "metadata": {},
   "outputs": [],
   "source": [
    "# herer we fix the \n",
    "nobs = 35 #number of observations\n",
    "p = 1e-5 # false rate (noise of observations)\n",
    "O = [(ti = T; (i,xtrue[i] < ti,ti,p)) for i=1:nobs]; #array of all the observations"
   ]
  },
  {
   "cell_type": "markdown",
   "metadata": {
    "tags": []
   },
   "source": [
    "# Inference with CVA\n",
    "Here we use the observations in order to reconstruct the epidemics with the CVA method."
   ]
  },
  {
   "cell_type": "code",
   "execution_count": 152,
   "metadata": {},
   "outputs": [],
   "source": [
    "#Softened model.\n",
    "# Now we rebuild an auxiliary model which is the one we will use for inference\n",
    "ε = 2e-3 #This time the \"small number\" is higher in order to avoid numerical issues in gradient descent\n",
    "autoinf = GaussianRate(ε, T/2, T); #we initialize the autoinfeciton as before. \n",
    "θp2gen = getpargen(pseed, autoinf, inf_out);\n",
    "inf_in = GaussianRate(1., T/2, 3*T ); # the incoming infection is initialized to 1 but it will move in inference\n",
    "\n",
    "#notice that also the std deviations are smaller now.\n",
    "\n",
    "θp2 = getpar(pseed, autoinf, inf_in); #the softened generative model\n",
    "Mp2 = StochasticModel(Igen, T, θp2, G, θp2gen, V);"
   ]
  },
  {
   "cell_type": "code",
   "execution_count": 153,
   "metadata": {},
   "outputs": [],
   "source": [
    "θ = getpar(pseed, autoinf, inf_in); #this is the matrix of inference parameters\n",
    "autoinf = GaussianRate(1., T/2, T);\n",
    "M = StochasticModel(Igauss, T, θ, G, θp2gen, V);"
   ]
  },
  {
   "cell_type": "markdown",
   "metadata": {},
   "source": [
    "## The descent"
   ]
  },
  {
   "cell_type": "code",
   "execution_count": 154,
   "metadata": {
    "tags": []
   },
   "outputs": [
    {
     "name": "stderr",
     "output_type": "stream",
     "text": [
      "\u001b[32mProgress: 100%|█████████████████████████████████████████| Time: 0:00:05\u001b[39m\n",
      "\u001b[34m  F:  12.227942179646782\u001b[39m\n"
     ]
    }
   ],
   "source": [
    "# This is the crucial point. We do a descent to make M the most similar to Mp2.\n",
    "# Recall that Mp2 is a \"soft\" version of the TRUE stochastic model Mp with which we simulated the epidemics.\n",
    "# Recall that M is the effective stochastic model (the core of CVA) that approximates the posterior\n",
    "ProgressMeter.ijulia_behavior(:clear)\n",
    "F = Causality.newdescend!(Mp2, O; M=M, numsamples=500, numiters=50, \n",
    "         θmin=θmin, θmax=θmax,θgenmin=θgenmin, θgenmax=θgenmax, descender=SignDescender(0.1),\n",
    "         hyperdescender=SignDescender(0.));\n",
    "F = Causality.newdescend!(Mp2, O; M=M, numsamples=500, numiters=50, \n",
    "         θmin=θmin, θmax=θmax,θgenmin=θgenmin, θgenmax=θgenmax, descender=SignDescender(0.03),\n",
    "         hyperdescender=SignDescender(0.));"
   ]
  },
  {
   "cell_type": "code",
   "execution_count": 155,
   "metadata": {},
   "outputs": [
    {
     "name": "stderr",
     "output_type": "stream",
     "text": [
      "\u001b[32mProgress: 100%|█████████████████████████████████████████| Time: 0:00:00\u001b[39m\n"
     ]
    }
   ],
   "source": [
    "statscaunew = prior(M, numsamples=3000); #here we collect a set of independent parameters from the effective model M"
   ]
  },
  {
   "cell_type": "markdown",
   "metadata": {
    "tags": []
   },
   "source": [
    "# Comparison with other methods\n"
   ]
  },
  {
   "cell_type": "markdown",
   "metadata": {
    "tags": []
   },
   "source": [
    "## SoftMarg"
   ]
  },
  {
   "cell_type": "code",
   "execution_count": 156,
   "metadata": {},
   "outputs": [],
   "source": [
    "Osoft = [(o[1],o[2],o[3],p) for o in O];"
   ]
  },
  {
   "cell_type": "code",
   "execution_count": 157,
   "metadata": {},
   "outputs": [
    {
     "name": "stderr",
     "output_type": "stream",
     "text": [
      "\u001b[32mProgress: 100%|█████████████████████████████████████████| Time: 0:00:02\u001b[39m\n"
     ]
    }
   ],
   "source": [
    "stats, weights = softpostnoise(Mp, Osoft; numsamples=3 * 10^4);"
   ]
  },
  {
   "cell_type": "markdown",
   "metadata": {
    "tags": []
   },
   "source": [
    "## Sib"
   ]
  },
  {
   "cell_type": "code",
   "execution_count": 158,
   "metadata": {},
   "outputs": [
    {
     "data": {
      "text/plain": [
       "sibyl (generic function with 1 method)"
      ]
     },
     "execution_count": 158,
     "metadata": {},
     "output_type": "execute_result"
    }
   ],
   "source": [
    "using PyCall\n",
    "@pyimport sib\n",
    "function sibyl(N, T_cont, Λ, O, γ, λ ; dt=1/5, maxit = 400, tol = 1e-14)\n",
    "    \n",
    "    T = Int(round(T_cont / dt))\n",
    "    contacts = [(i-1,j-1,t, λ * dt) for t in 1:T for (j,i,v) in zip(findnz(Λ.A)...)];\n",
    "    obs = [[(i,-1,t) for t=1:T for i=0:N-1];\n",
    "           [(i-1,s,Int(round(t/dt))) for (i,s,t,p) in O]]\n",
    "    sort!(obs, lt=((i1,s1,t1),(i2,s2,t2))->(t1<t2))\n",
    "    prob_sus = 0.5\n",
    "    prob_seed=γ\n",
    "    pseed = prob_seed / (2 - prob_seed)\n",
    "    psus = prob_sus * (1 - pseed)\n",
    "    params = sib.Params(prob_r=sib.Exponential(mu=0), pseed=pseed, psus=psus,pautoinf=0)\n",
    "    f = sib.FactorGraph(contacts=contacts, observations=obs, params=params)\n",
    "    sib.iterate(f, maxit=maxit,tol=tol)\n",
    "    sib.iterate(f, maxit=maxit, damping=0.5, tol=tol)\n",
    "    sib.iterate(f, maxit=maxit, damping=0.9, tol=tol)\n",
    "    p_sib=[collect(n.bt) for n in f.nodes]\n",
    "    m_sib = zeros(N, T)\n",
    "    for i=1:N\n",
    "        m_sib[i,1] = p_sib[i][1] \n",
    "        for t=2:T\n",
    "            m_sib[i,t] = m_sib[i,t-1] + p_sib[i][t]\n",
    "        end\n",
    "    end \n",
    "    return m_sib\n",
    "end\n"
   ]
  },
  {
   "cell_type": "code",
   "execution_count": 159,
   "metadata": {},
   "outputs": [
    {
     "name": "stdout",
     "output_type": "stream",
     "text": [
      "sib.iterate(damp=0.0): 19/20 1.582e-02/1e-07      \n",
      "sib.iterate(damp=0.5): 19/20 6.717e-03/1e-07      \n",
      "3.1446349620819090.9): 19/20 2.146e-03/1e-07      \n",
      "\n"
     ]
    }
   ],
   "source": [
    "a=time()\n",
    "dt = 1/4\n",
    "p_sib = sibyl(N, T, G, O, pseed, λ; dt=dt, maxit = 20, tol = 1e-7);\n",
    "b=time()\n",
    "println(b-a)"
   ]
  },
  {
   "cell_type": "markdown",
   "metadata": {
    "tags": []
   },
   "source": [
    "## Heuristic MF"
   ]
  },
  {
   "cell_type": "code",
   "execution_count": 160,
   "metadata": {},
   "outputs": [
    {
     "name": "stderr",
     "output_type": "stream",
     "text": [
      "\u001b[32mProgress: 100%|█████████████████████████████████████████| Time: 0:00:00\u001b[39m\n"
     ]
    }
   ],
   "source": [
    "using IntervalUnionArithmetic\n",
    "T = Float64(T)\n",
    "struct HeuristicSI <: SI end\n",
    "θp2gen = getpargen(pseed, autoinf, inf_out);\n",
    "maskauto = fill(intervalUnion(0., T),N)\n",
    "maskinf = fill(intervalUnion(0., T),N)\n",
    "θfrench = getpar(pseed, autoinf, inf_in);\n",
    "Causality.individual(M::StochasticModel{HeuristicSI}, i::Int, θi = @view(M.θ[:,i]), θg = M.θgen ) = \n",
    "@views IndividualSI(θi[1], \n",
    "    MaskedRate(GaussianRate(θi[2:4]...),maskauto[i]), \n",
    "    MaskedRate(UnitRate(),maskinf[i]), \n",
    "    GaussianRate(θg[5:7]...),)\n",
    "inf_start_time = T * ones(N)\n",
    "for o in O\n",
    "    if o[2] == 1\n",
    "        inf_start_time[o[1]] = min(inf_start_time[o[1]], o[3] - 5)\n",
    "        maskauto[o[1]] = maskauto[o[1]] ∩ intervalUnion(o[3]-5, T)       \n",
    "        θfrench[2,o[1]] = 10^10\n",
    "        θfrench[3,o[1]] = o[3] - 5\n",
    "        θfrench[4,o[1]] = 100 * T\n",
    "    elseif o[2] == 0\n",
    "        maskinf[o[1]] = maskinf[o[1]] ∩ intervalUnion(o[3], T)\n",
    "        maskauto[o[1]] = maskauto[o[1]] ∩ intervalUnion(o[3], T)\n",
    "        θfrench[1,o[1]] = 1e-10\n",
    "    end\n",
    "end\n",
    "for i=1:N\n",
    "    if inf_start_time[i] != T \n",
    "        maskauto[i] = maskauto[i] ∩ intervalUnion(inf_start_time[i], T)\n",
    "    end\n",
    "end\n",
    "Mfrench = StochasticModel(HeuristicSI, T, θfrench, G, θp2gen);\n",
    "statsfre = prior(Mfrench,numsamples=10000); "
   ]
  },
  {
   "cell_type": "code",
   "execution_count": 161,
   "metadata": {},
   "outputs": [
    {
     "data": {
      "text/plain": [
       "MF_heu (generic function with 1 method)"
      ]
     },
     "execution_count": 161,
     "metadata": {},
     "output_type": "execute_result"
    }
   ],
   "source": [
    "function MF_heu(N, T_cont, Λ, O, γ, λ ; dt=1/5, maxit = 400)\n",
    "    T = Int(round(T_cont / dt))\n",
    "    p_MF = zeros(N,T) #prob to be S\n",
    "    p_MF[:,1] .= 1 - γ \n",
    "    obs_I = [o[1] for o in O if o[2] == 1]\n",
    "    obs_S = [o[1] for o in O if o[2] == 0]\n",
    "    for st = 1:maxit\n",
    "        for t = 2:T\n",
    "            for i = 1:N\n",
    "                p_MF[i,t] = p_MF[i,t-1]\n",
    "                for j in collect(Causality.outedges(Λ,1))\n",
    "                    p_MF[i,t] *= 1 - λ*(1 - p_MF[j.dst,t-1])\n",
    "                end\n",
    "                if i in obs_I                    \n",
    "                    o = O[i]\n",
    "                    p_MF[i, Int(round((o[3]-5)/dt)) : end] .= 0\n",
    "                end\n",
    "                if i in obs_S\n",
    "                    o = O[i]\n",
    "                    p_MF[i, 1 : Int(round(o[3]/dt))] .= 1\n",
    "                end\n",
    "            end\n",
    "        end\n",
    "    end\n",
    "    return 1 .- p_MF\n",
    "end"
   ]
  },
  {
   "cell_type": "code",
   "execution_count": 162,
   "metadata": {},
   "outputs": [],
   "source": [
    "p_MF = MF_heu(N, T, G, [], 1/N, λ ; dt=dt, maxit = 100);"
   ]
  },
  {
   "cell_type": "markdown",
   "metadata": {
    "tags": []
   },
   "source": [
    "## Metropolis Monte Carlo"
   ]
  },
  {
   "cell_type": "code",
   "execution_count": 163,
   "metadata": {
    "tags": []
   },
   "outputs": [
    {
     "name": "stderr",
     "output_type": "stream",
     "text": [
      "\u001b[32mProgress: 100%|█████████████████████████████████████████| Time: 0:00:16\u001b[39m\n",
      "\u001b[34m  acc_ratio:  0.525\u001b[39m\n"
     ]
    }
   ],
   "source": [
    "K =  Causality.RectifiedGaussMove(4.0)\n",
    "#stats_mh = Causality.metropolis_sampling_parallel(Mp, O, K; numsamples = 10^3,numsteps=10^3,nfirst = 10^3)\n",
    "stats_mh = Causality.metropolis_sampling_sequential(Mp, O, K; numsamples = 5 * 10^2,numsteps=10^2,nfirst = 10^2);"
   ]
  },
  {
   "cell_type": "markdown",
   "metadata": {},
   "source": [
    "\n",
    "# Comparisons among methods: Marginals and ROC curve"
   ]
  },
  {
   "cell_type": "code",
   "execution_count": 164,
   "metadata": {},
   "outputs": [
    {
     "data": {
      "text/plain": [
       "AUROC (generic function with 1 method)"
      ]
     },
     "execution_count": 164,
     "metadata": {},
     "output_type": "execute_result"
    }
   ],
   "source": [
    "function marginal(i, t, stats)\n",
    "    numsamp = size(stats,1)\n",
    "    sum(stats[:,i] .< t)/numsamp\n",
    "end\n",
    "\n",
    "function reweighted_marginal(i, t, stats, weights)\n",
    "    numsamp = size(stats,1)\n",
    "    @assert numsamp == size(weights,1)\n",
    "    weights ./= maximum(weights)\n",
    "    sum(weights .* (stats[:,i] .< t))/sum(weights)\n",
    "end\n",
    "\n",
    "function tpr(xtrue, rank) \n",
    "    cumsum(xtrue[rank]) ./( cumsum(xtrue[rank])[end])\n",
    "end\n",
    "\n",
    "function fpr(xtrue, rank) \n",
    "    N = size(rank,1)\n",
    "    return (range(1,N,length=N) .- cumsum(xtrue[rank])) ./ (range(1,N,length=N) .- cumsum(xtrue[rank]) )[end]\n",
    "end\n",
    "\n",
    "function ROC(xtrue, p)\n",
    "    N = size(xtrue,1)\n",
    "    rank = sortperm(p, rev=true)\n",
    "    \n",
    "    return fpr(xtrue, rank) , tpr(xtrue, rank)\n",
    "end\n",
    "\n",
    "function AUROC(ROC)\n",
    "    N = size(ROC[1],1) \n",
    "    AU = 0\n",
    "    for t = 1:N-1\n",
    "        AU += ROC[2][t] * (ROC[1][t+1] - ROC[1][t])\n",
    "    end\n",
    "    return AU\n",
    "end"
   ]
  },
  {
   "cell_type": "code",
   "execution_count": 165,
   "metadata": {},
   "outputs": [],
   "source": [
    "#Marginals\n",
    "bins = 2 * Int(T)\n",
    "using Plots\n",
    "p_cau = zeros(N,bins)\n",
    "p_caunew = zeros(N,bins)\n",
    "p_french = zeros(N,bins)\n",
    "p_mh = zeros(N,bins)\n",
    "p_soft = zeros(N,bins)\n",
    "for i = 1:N\n",
    "    for t = 1:bins\n",
    "       p_cau[i,t] = marginal(i, t*T/bins, statscau)\n",
    "       p_caunew[i,t] = marginal(i, t*T/bins, statscau)\n",
    "       p_french[i,t] = marginal(i, t*T/bins, statsfre)\n",
    "      # p_mh[i,t] = marginal(i, t*T/bins, stats_mh)\n",
    "       p_soft[i,t] = reweighted_marginal(i, t*T/bins, stats, weights)\n",
    "    end\n",
    "end"
   ]
  },
  {
   "cell_type": "code",
   "execution_count": 166,
   "metadata": {},
   "outputs": [
    {
     "data": {
      "image/svg+xml": [
       "<?xml version=\"1.0\" encoding=\"utf-8\"?>\n",
       "<svg xmlns=\"http://www.w3.org/2000/svg\" xmlns:xlink=\"http://www.w3.org/1999/xlink\" width=\"600\" height=\"400\" viewBox=\"0 0 2400 1600\">\n",
       "<defs>\n",
       "  <clipPath id=\"clip350\">\n",
       "    <rect x=\"0\" y=\"0\" width=\"2400\" height=\"1600\"/>\n",
       "  </clipPath>\n",
       "</defs>\n",
       "<path clip-path=\"url(#clip350)\" d=\"\n",
       "M0 1600 L2400 1600 L2400 0 L0 0  Z\n",
       "  \" fill=\"#ffffff\" fill-rule=\"evenodd\" fill-opacity=\"1\"/>\n",
       "<defs>\n",
       "  <clipPath id=\"clip351\">\n",
       "    <rect x=\"480\" y=\"0\" width=\"1681\" height=\"1600\"/>\n",
       "  </clipPath>\n",
       "</defs>\n",
       "<path clip-path=\"url(#clip350)\" d=\"\n",
       "M219.542 1423.18 L2352.76 1423.18 L2352.76 47.2441 L219.542 47.2441  Z\n",
       "  \" fill=\"#ffffff\" fill-rule=\"evenodd\" fill-opacity=\"1\"/>\n",
       "<defs>\n",
       "  <clipPath id=\"clip352\">\n",
       "    <rect x=\"219\" y=\"47\" width=\"2134\" height=\"1377\"/>\n",
       "  </clipPath>\n",
       "</defs>\n",
       "<polyline clip-path=\"url(#clip352)\" style=\"stroke:#000000; stroke-linecap:round; stroke-linejoin:round; stroke-width:2; stroke-opacity:0.1; fill:none\" points=\"\n",
       "  703.593,1423.18 703.593,47.2441 \n",
       "  \"/>\n",
       "<polyline clip-path=\"url(#clip352)\" style=\"stroke:#000000; stroke-linecap:round; stroke-linejoin:round; stroke-width:2; stroke-opacity:0.1; fill:none\" points=\"\n",
       "  1233.19,1423.18 1233.19,47.2441 \n",
       "  \"/>\n",
       "<polyline clip-path=\"url(#clip352)\" style=\"stroke:#000000; stroke-linecap:round; stroke-linejoin:round; stroke-width:2; stroke-opacity:0.1; fill:none\" points=\"\n",
       "  1762.79,1423.18 1762.79,47.2441 \n",
       "  \"/>\n",
       "<polyline clip-path=\"url(#clip352)\" style=\"stroke:#000000; stroke-linecap:round; stroke-linejoin:round; stroke-width:2; stroke-opacity:0.1; fill:none\" points=\"\n",
       "  2292.38,1423.18 2292.38,47.2441 \n",
       "  \"/>\n",
       "<polyline clip-path=\"url(#clip350)\" style=\"stroke:#000000; stroke-linecap:round; stroke-linejoin:round; stroke-width:4; stroke-opacity:1; fill:none\" points=\"\n",
       "  219.542,1423.18 2352.76,1423.18 \n",
       "  \"/>\n",
       "<polyline clip-path=\"url(#clip350)\" style=\"stroke:#000000; stroke-linecap:round; stroke-linejoin:round; stroke-width:4; stroke-opacity:1; fill:none\" points=\"\n",
       "  703.593,1423.18 703.593,1404.28 \n",
       "  \"/>\n",
       "<polyline clip-path=\"url(#clip350)\" style=\"stroke:#000000; stroke-linecap:round; stroke-linejoin:round; stroke-width:4; stroke-opacity:1; fill:none\" points=\"\n",
       "  1233.19,1423.18 1233.19,1404.28 \n",
       "  \"/>\n",
       "<polyline clip-path=\"url(#clip350)\" style=\"stroke:#000000; stroke-linecap:round; stroke-linejoin:round; stroke-width:4; stroke-opacity:1; fill:none\" points=\"\n",
       "  1762.79,1423.18 1762.79,1404.28 \n",
       "  \"/>\n",
       "<polyline clip-path=\"url(#clip350)\" style=\"stroke:#000000; stroke-linecap:round; stroke-linejoin:round; stroke-width:4; stroke-opacity:1; fill:none\" points=\"\n",
       "  2292.38,1423.18 2292.38,1404.28 \n",
       "  \"/>\n",
       "<path clip-path=\"url(#clip350)\" d=\"M693.871 1451.02 L712.227 1451.02 L712.227 1454.96 L698.153 1454.96 L698.153 1463.43 Q699.172 1463.08 700.19 1462.92 Q701.209 1462.73 702.227 1462.73 Q708.014 1462.73 711.394 1465.9 Q714.774 1469.08 714.774 1474.49 Q714.774 1480.07 711.301 1483.17 Q707.829 1486.25 701.51 1486.25 Q699.334 1486.25 697.065 1485.88 Q694.82 1485.51 692.413 1484.77 L692.413 1480.07 Q694.496 1481.2 696.718 1481.76 Q698.94 1482.32 701.417 1482.32 Q705.422 1482.32 707.76 1480.21 Q710.098 1478.1 710.098 1474.49 Q710.098 1470.88 707.76 1468.77 Q705.422 1466.67 701.417 1466.67 Q699.542 1466.67 697.667 1467.08 Q695.815 1467.5 693.871 1468.38 L693.871 1451.02 Z\" fill=\"#000000\" fill-rule=\"evenodd\" fill-opacity=\"1\" /><path clip-path=\"url(#clip350)\" d=\"M1207.88 1481.64 L1215.52 1481.64 L1215.52 1455.28 L1207.21 1456.95 L1207.21 1452.69 L1215.47 1451.02 L1220.15 1451.02 L1220.15 1481.64 L1227.78 1481.64 L1227.78 1485.58 L1207.88 1485.58 L1207.88 1481.64 Z\" fill=\"#000000\" fill-rule=\"evenodd\" fill-opacity=\"1\" /><path clip-path=\"url(#clip350)\" d=\"M1247.23 1454.1 Q1243.62 1454.1 1241.79 1457.66 Q1239.98 1461.2 1239.98 1468.33 Q1239.98 1475.44 1241.79 1479.01 Q1243.62 1482.55 1247.23 1482.55 Q1250.86 1482.55 1252.67 1479.01 Q1254.5 1475.44 1254.5 1468.33 Q1254.5 1461.2 1252.67 1457.66 Q1250.86 1454.1 1247.23 1454.1 M1247.23 1450.39 Q1253.04 1450.39 1256.09 1455 Q1259.17 1459.58 1259.17 1468.33 Q1259.17 1477.06 1256.09 1481.67 Q1253.04 1486.25 1247.23 1486.25 Q1241.42 1486.25 1238.34 1481.67 Q1235.28 1477.06 1235.28 1468.33 Q1235.28 1459.58 1238.34 1455 Q1241.42 1450.39 1247.23 1450.39 Z\" fill=\"#000000\" fill-rule=\"evenodd\" fill-opacity=\"1\" /><path clip-path=\"url(#clip350)\" d=\"M1737.97 1481.64 L1745.61 1481.64 L1745.61 1455.28 L1737.3 1456.95 L1737.3 1452.69 L1745.56 1451.02 L1750.24 1451.02 L1750.24 1481.64 L1757.88 1481.64 L1757.88 1485.58 L1737.97 1485.58 L1737.97 1481.64 Z\" fill=\"#000000\" fill-rule=\"evenodd\" fill-opacity=\"1\" /><path clip-path=\"url(#clip350)\" d=\"M1767.37 1451.02 L1785.73 1451.02 L1785.73 1454.96 L1771.65 1454.96 L1771.65 1463.43 Q1772.67 1463.08 1773.69 1462.92 Q1774.71 1462.73 1775.73 1462.73 Q1781.51 1462.73 1784.89 1465.9 Q1788.27 1469.08 1788.27 1474.49 Q1788.27 1480.07 1784.8 1483.17 Q1781.33 1486.25 1775.01 1486.25 Q1772.83 1486.25 1770.56 1485.88 Q1768.32 1485.51 1765.91 1484.77 L1765.91 1480.07 Q1767.99 1481.2 1770.22 1481.76 Q1772.44 1482.32 1774.92 1482.32 Q1778.92 1482.32 1781.26 1480.21 Q1783.6 1478.1 1783.6 1474.49 Q1783.6 1470.88 1781.26 1468.77 Q1778.92 1466.67 1774.92 1466.67 Q1773.04 1466.67 1771.17 1467.08 Q1769.31 1467.5 1767.37 1468.38 L1767.37 1451.02 Z\" fill=\"#000000\" fill-rule=\"evenodd\" fill-opacity=\"1\" /><path clip-path=\"url(#clip350)\" d=\"M2271.16 1481.64 L2287.47 1481.64 L2287.47 1485.58 L2265.53 1485.58 L2265.53 1481.64 Q2268.19 1478.89 2272.78 1474.26 Q2277.38 1469.61 2278.56 1468.27 Q2280.81 1465.74 2281.69 1464.01 Q2282.59 1462.25 2282.59 1460.56 Q2282.59 1457.8 2280.65 1456.07 Q2278.72 1454.33 2275.62 1454.33 Q2273.42 1454.33 2270.97 1455.09 Q2268.54 1455.86 2265.76 1457.41 L2265.76 1452.69 Q2268.59 1451.55 2271.04 1450.97 Q2273.49 1450.39 2275.53 1450.39 Q2280.9 1450.39 2284.09 1453.08 Q2287.29 1455.77 2287.29 1460.26 Q2287.29 1462.39 2286.48 1464.31 Q2285.69 1466.2 2283.59 1468.8 Q2283.01 1469.47 2279.91 1472.69 Q2276.8 1475.88 2271.16 1481.64 Z\" fill=\"#000000\" fill-rule=\"evenodd\" fill-opacity=\"1\" /><path clip-path=\"url(#clip350)\" d=\"M2307.29 1454.1 Q2303.68 1454.1 2301.85 1457.66 Q2300.04 1461.2 2300.04 1468.33 Q2300.04 1475.44 2301.85 1479.01 Q2303.68 1482.55 2307.29 1482.55 Q2310.92 1482.55 2312.73 1479.01 Q2314.56 1475.44 2314.56 1468.33 Q2314.56 1461.2 2312.73 1457.66 Q2310.92 1454.1 2307.29 1454.1 M2307.29 1450.39 Q2313.1 1450.39 2316.15 1455 Q2319.23 1459.58 2319.23 1468.33 Q2319.23 1477.06 2316.15 1481.67 Q2313.1 1486.25 2307.29 1486.25 Q2301.48 1486.25 2298.4 1481.67 Q2295.34 1477.06 2295.34 1468.33 Q2295.34 1459.58 2298.4 1455 Q2301.48 1450.39 2307.29 1450.39 Z\" fill=\"#000000\" fill-rule=\"evenodd\" fill-opacity=\"1\" /><path clip-path=\"url(#clip350)\" d=\"M1285.21 1522.27 L1285.21 1532.4 L1297.27 1532.4 L1297.27 1536.95 L1285.21 1536.95 L1285.21 1556.3 Q1285.21 1560.66 1286.39 1561.9 Q1287.6 1563.14 1291.26 1563.14 L1297.27 1563.14 L1297.27 1568.04 L1291.26 1568.04 Q1284.48 1568.04 1281.9 1565.53 Q1279.32 1562.98 1279.32 1556.3 L1279.32 1536.95 L1275.02 1536.95 L1275.02 1532.4 L1279.32 1532.4 L1279.32 1522.27 L1285.21 1522.27 Z\" fill=\"#000000\" fill-rule=\"evenodd\" fill-opacity=\"1\" /><polyline clip-path=\"url(#clip352)\" style=\"stroke:#000000; stroke-linecap:round; stroke-linejoin:round; stroke-width:2; stroke-opacity:0.1; fill:none\" points=\"\n",
       "  219.542,1339.48 2352.76,1339.48 \n",
       "  \"/>\n",
       "<polyline clip-path=\"url(#clip352)\" style=\"stroke:#000000; stroke-linecap:round; stroke-linejoin:round; stroke-width:2; stroke-opacity:0.1; fill:none\" points=\"\n",
       "  219.542,1088.82 2352.76,1088.82 \n",
       "  \"/>\n",
       "<polyline clip-path=\"url(#clip352)\" style=\"stroke:#000000; stroke-linecap:round; stroke-linejoin:round; stroke-width:2; stroke-opacity:0.1; fill:none\" points=\"\n",
       "  219.542,838.161 2352.76,838.161 \n",
       "  \"/>\n",
       "<polyline clip-path=\"url(#clip352)\" style=\"stroke:#000000; stroke-linecap:round; stroke-linejoin:round; stroke-width:2; stroke-opacity:0.1; fill:none\" points=\"\n",
       "  219.542,587.503 2352.76,587.503 \n",
       "  \"/>\n",
       "<polyline clip-path=\"url(#clip352)\" style=\"stroke:#000000; stroke-linecap:round; stroke-linejoin:round; stroke-width:2; stroke-opacity:0.1; fill:none\" points=\"\n",
       "  219.542,336.844 2352.76,336.844 \n",
       "  \"/>\n",
       "<polyline clip-path=\"url(#clip352)\" style=\"stroke:#000000; stroke-linecap:round; stroke-linejoin:round; stroke-width:2; stroke-opacity:0.1; fill:none\" points=\"\n",
       "  219.542,86.1857 2352.76,86.1857 \n",
       "  \"/>\n",
       "<polyline clip-path=\"url(#clip350)\" style=\"stroke:#000000; stroke-linecap:round; stroke-linejoin:round; stroke-width:4; stroke-opacity:1; fill:none\" points=\"\n",
       "  219.542,1423.18 219.542,47.2441 \n",
       "  \"/>\n",
       "<polyline clip-path=\"url(#clip350)\" style=\"stroke:#000000; stroke-linecap:round; stroke-linejoin:round; stroke-width:4; stroke-opacity:1; fill:none\" points=\"\n",
       "  219.542,1339.48 238.44,1339.48 \n",
       "  \"/>\n",
       "<polyline clip-path=\"url(#clip350)\" style=\"stroke:#000000; stroke-linecap:round; stroke-linejoin:round; stroke-width:4; stroke-opacity:1; fill:none\" points=\"\n",
       "  219.542,1088.82 238.44,1088.82 \n",
       "  \"/>\n",
       "<polyline clip-path=\"url(#clip350)\" style=\"stroke:#000000; stroke-linecap:round; stroke-linejoin:round; stroke-width:4; stroke-opacity:1; fill:none\" points=\"\n",
       "  219.542,838.161 238.44,838.161 \n",
       "  \"/>\n",
       "<polyline clip-path=\"url(#clip350)\" style=\"stroke:#000000; stroke-linecap:round; stroke-linejoin:round; stroke-width:4; stroke-opacity:1; fill:none\" points=\"\n",
       "  219.542,587.503 238.44,587.503 \n",
       "  \"/>\n",
       "<polyline clip-path=\"url(#clip350)\" style=\"stroke:#000000; stroke-linecap:round; stroke-linejoin:round; stroke-width:4; stroke-opacity:1; fill:none\" points=\"\n",
       "  219.542,336.844 238.44,336.844 \n",
       "  \"/>\n",
       "<polyline clip-path=\"url(#clip350)\" style=\"stroke:#000000; stroke-linecap:round; stroke-linejoin:round; stroke-width:4; stroke-opacity:1; fill:none\" points=\"\n",
       "  219.542,86.1857 238.44,86.1857 \n",
       "  \"/>\n",
       "<path clip-path=\"url(#clip350)\" d=\"M127.362 1325.28 Q123.751 1325.28 121.922 1328.84 Q120.117 1332.38 120.117 1339.51 Q120.117 1346.62 121.922 1350.18 Q123.751 1353.73 127.362 1353.73 Q130.996 1353.73 132.802 1350.18 Q134.63 1346.62 134.63 1339.51 Q134.63 1332.38 132.802 1328.84 Q130.996 1325.28 127.362 1325.28 M127.362 1321.57 Q133.172 1321.57 136.228 1326.18 Q139.306 1330.76 139.306 1339.51 Q139.306 1348.24 136.228 1352.85 Q133.172 1357.43 127.362 1357.43 Q121.552 1357.43 118.473 1352.85 Q115.418 1348.24 115.418 1339.51 Q115.418 1330.76 118.473 1326.18 Q121.552 1321.57 127.362 1321.57 Z\" fill=\"#000000\" fill-rule=\"evenodd\" fill-opacity=\"1\" /><path clip-path=\"url(#clip350)\" d=\"M147.524 1350.88 L152.408 1350.88 L152.408 1356.76 L147.524 1356.76 L147.524 1350.88 Z\" fill=\"#000000\" fill-rule=\"evenodd\" fill-opacity=\"1\" /><path clip-path=\"url(#clip350)\" d=\"M162.64 1322.2 L180.996 1322.2 L180.996 1326.13 L166.922 1326.13 L166.922 1334.61 Q167.94 1334.26 168.959 1334.1 Q169.977 1333.91 170.996 1333.91 Q176.783 1333.91 180.163 1337.08 Q183.542 1340.25 183.542 1345.67 Q183.542 1351.25 180.07 1354.35 Q176.598 1357.43 170.278 1357.43 Q168.102 1357.43 165.834 1357.06 Q163.589 1356.69 161.181 1355.95 L161.181 1351.25 Q163.265 1352.38 165.487 1352.94 Q167.709 1353.49 170.186 1353.49 Q174.19 1353.49 176.528 1351.39 Q178.866 1349.28 178.866 1345.67 Q178.866 1342.06 176.528 1339.95 Q174.19 1337.85 170.186 1337.85 Q168.311 1337.85 166.436 1338.26 Q164.584 1338.68 162.64 1339.56 L162.64 1322.2 Z\" fill=\"#000000\" fill-rule=\"evenodd\" fill-opacity=\"1\" /><path clip-path=\"url(#clip350)\" d=\"M126.205 1074.62 Q122.593 1074.62 120.765 1078.18 Q118.959 1081.72 118.959 1088.85 Q118.959 1095.96 120.765 1099.53 Q122.593 1103.07 126.205 1103.07 Q129.839 1103.07 131.644 1099.53 Q133.473 1095.96 133.473 1088.85 Q133.473 1081.72 131.644 1078.18 Q129.839 1074.62 126.205 1074.62 M126.205 1070.91 Q132.015 1070.91 135.07 1075.52 Q138.149 1080.1 138.149 1088.85 Q138.149 1097.58 135.07 1102.19 Q132.015 1106.77 126.205 1106.77 Q120.394 1106.77 117.316 1102.19 Q114.26 1097.58 114.26 1088.85 Q114.26 1080.1 117.316 1075.52 Q120.394 1070.91 126.205 1070.91 Z\" fill=\"#000000\" fill-rule=\"evenodd\" fill-opacity=\"1\" /><path clip-path=\"url(#clip350)\" d=\"M146.366 1100.22 L151.251 1100.22 L151.251 1106.1 L146.366 1106.1 L146.366 1100.22 Z\" fill=\"#000000\" fill-rule=\"evenodd\" fill-opacity=\"1\" /><path clip-path=\"url(#clip350)\" d=\"M172.014 1086.96 Q168.866 1086.96 167.015 1089.11 Q165.186 1091.26 165.186 1095.01 Q165.186 1098.74 167.015 1100.91 Q168.866 1103.07 172.014 1103.07 Q175.163 1103.07 176.991 1100.91 Q178.843 1098.74 178.843 1095.01 Q178.843 1091.26 176.991 1089.11 Q175.163 1086.96 172.014 1086.96 M181.297 1072.3 L181.297 1076.56 Q179.538 1075.73 177.732 1075.29 Q175.95 1074.85 174.19 1074.85 Q169.561 1074.85 167.107 1077.97 Q164.677 1081.1 164.329 1087.42 Q165.695 1085.41 167.755 1084.34 Q169.815 1083.25 172.292 1083.25 Q177.501 1083.25 180.51 1086.42 Q183.542 1089.57 183.542 1095.01 Q183.542 1100.34 180.394 1103.55 Q177.246 1106.77 172.014 1106.77 Q166.019 1106.77 162.848 1102.19 Q159.677 1097.58 159.677 1088.85 Q159.677 1080.66 163.565 1075.8 Q167.454 1070.91 174.005 1070.91 Q175.764 1070.91 177.547 1071.26 Q179.352 1071.61 181.297 1072.3 Z\" fill=\"#000000\" fill-rule=\"evenodd\" fill-opacity=\"1\" /><path clip-path=\"url(#clip350)\" d=\"M127.269 823.96 Q123.658 823.96 121.83 827.524 Q120.024 831.066 120.024 838.196 Q120.024 845.302 121.83 848.867 Q123.658 852.409 127.269 852.409 Q130.904 852.409 132.709 848.867 Q134.538 845.302 134.538 838.196 Q134.538 831.066 132.709 827.524 Q130.904 823.96 127.269 823.96 M127.269 820.256 Q133.08 820.256 136.135 824.862 Q139.214 829.446 139.214 838.196 Q139.214 846.922 136.135 851.529 Q133.08 856.112 127.269 856.112 Q121.459 856.112 118.381 851.529 Q115.325 846.922 115.325 838.196 Q115.325 829.446 118.381 824.862 Q121.459 820.256 127.269 820.256 Z\" fill=\"#000000\" fill-rule=\"evenodd\" fill-opacity=\"1\" /><path clip-path=\"url(#clip350)\" d=\"M147.431 849.561 L152.316 849.561 L152.316 855.441 L147.431 855.441 L147.431 849.561 Z\" fill=\"#000000\" fill-rule=\"evenodd\" fill-opacity=\"1\" /><path clip-path=\"url(#clip350)\" d=\"M161.32 820.881 L183.542 820.881 L183.542 822.872 L170.996 855.441 L166.112 855.441 L177.917 824.816 L161.32 824.816 L161.32 820.881 Z\" fill=\"#000000\" fill-rule=\"evenodd\" fill-opacity=\"1\" /><path clip-path=\"url(#clip350)\" d=\"M126.459 573.301 Q122.848 573.301 121.019 576.866 Q119.214 580.408 119.214 587.537 Q119.214 594.644 121.019 598.208 Q122.848 601.75 126.459 601.75 Q130.093 601.75 131.899 598.208 Q133.728 594.644 133.728 587.537 Q133.728 580.408 131.899 576.866 Q130.093 573.301 126.459 573.301 M126.459 569.598 Q132.269 569.598 135.325 574.204 Q138.404 578.787 138.404 587.537 Q138.404 596.264 135.325 600.871 Q132.269 605.454 126.459 605.454 Q120.649 605.454 117.57 600.871 Q114.515 596.264 114.515 587.537 Q114.515 578.787 117.57 574.204 Q120.649 569.598 126.459 569.598 Z\" fill=\"#000000\" fill-rule=\"evenodd\" fill-opacity=\"1\" /><path clip-path=\"url(#clip350)\" d=\"M146.621 598.903 L151.505 598.903 L151.505 604.783 L146.621 604.783 L146.621 598.903 Z\" fill=\"#000000\" fill-rule=\"evenodd\" fill-opacity=\"1\" /><path clip-path=\"url(#clip350)\" d=\"M171.69 588.371 Q168.357 588.371 166.436 590.153 Q164.538 591.935 164.538 595.06 Q164.538 598.185 166.436 599.968 Q168.357 601.75 171.69 601.75 Q175.024 601.75 176.945 599.968 Q178.866 598.162 178.866 595.06 Q178.866 591.935 176.945 590.153 Q175.047 588.371 171.69 588.371 M167.015 586.38 Q164.005 585.639 162.315 583.579 Q160.649 581.519 160.649 578.556 Q160.649 574.412 163.589 572.005 Q166.552 569.598 171.69 569.598 Q176.852 569.598 179.792 572.005 Q182.732 574.412 182.732 578.556 Q182.732 581.519 181.042 583.579 Q179.376 585.639 176.389 586.38 Q179.769 587.167 181.644 589.459 Q183.542 591.75 183.542 595.06 Q183.542 600.083 180.464 602.769 Q177.408 605.454 171.69 605.454 Q165.973 605.454 162.894 602.769 Q159.839 600.083 159.839 595.06 Q159.839 591.75 161.737 589.459 Q163.635 587.167 167.015 586.38 M165.302 578.996 Q165.302 581.681 166.968 583.185 Q168.658 584.69 171.69 584.69 Q174.7 584.69 176.389 583.185 Q178.102 581.681 178.102 578.996 Q178.102 576.31 176.389 574.806 Q174.7 573.301 171.69 573.301 Q168.658 573.301 166.968 574.806 Q165.302 576.31 165.302 578.996 Z\" fill=\"#000000\" fill-rule=\"evenodd\" fill-opacity=\"1\" /><path clip-path=\"url(#clip350)\" d=\"M126.552 322.643 Q122.941 322.643 121.112 326.208 Q119.306 329.749 119.306 336.879 Q119.306 343.985 121.112 347.55 Q122.941 351.092 126.552 351.092 Q130.186 351.092 131.992 347.55 Q133.82 343.985 133.82 336.879 Q133.82 329.749 131.992 326.208 Q130.186 322.643 126.552 322.643 M126.552 318.939 Q132.362 318.939 135.417 323.546 Q138.496 328.129 138.496 336.879 Q138.496 345.606 135.417 350.212 Q132.362 354.795 126.552 354.795 Q120.742 354.795 117.663 350.212 Q114.607 345.606 114.607 336.879 Q114.607 328.129 117.663 323.546 Q120.742 318.939 126.552 318.939 Z\" fill=\"#000000\" fill-rule=\"evenodd\" fill-opacity=\"1\" /><path clip-path=\"url(#clip350)\" d=\"M146.714 348.245 L151.598 348.245 L151.598 354.124 L146.714 354.124 L146.714 348.245 Z\" fill=\"#000000\" fill-rule=\"evenodd\" fill-opacity=\"1\" /><path clip-path=\"url(#clip350)\" d=\"M161.922 353.407 L161.922 349.147 Q163.681 349.981 165.487 350.42 Q167.292 350.86 169.028 350.86 Q173.658 350.86 176.089 347.758 Q178.542 344.633 178.889 338.291 Q177.547 340.282 175.487 341.346 Q173.427 342.411 170.927 342.411 Q165.741 342.411 162.709 339.286 Q159.7 336.138 159.7 330.698 Q159.7 325.374 162.848 322.157 Q165.996 318.939 171.227 318.939 Q177.223 318.939 180.371 323.546 Q183.542 328.129 183.542 336.879 Q183.542 345.05 179.653 349.934 Q175.788 354.795 169.237 354.795 Q167.477 354.795 165.672 354.448 Q163.866 354.101 161.922 353.407 M171.227 338.754 Q174.376 338.754 176.204 336.601 Q178.056 334.448 178.056 330.698 Q178.056 326.971 176.204 324.819 Q174.376 322.643 171.227 322.643 Q168.079 322.643 166.227 324.819 Q164.399 326.971 164.399 330.698 Q164.399 334.448 166.227 336.601 Q168.079 338.754 171.227 338.754 Z\" fill=\"#000000\" fill-rule=\"evenodd\" fill-opacity=\"1\" /><path clip-path=\"url(#clip350)\" d=\"M117.177 99.5305 L124.816 99.5305 L124.816 73.1649 L116.506 74.8316 L116.506 70.5723 L124.769 68.9057 L129.445 68.9057 L129.445 99.5305 L137.084 99.5305 L137.084 103.466 L117.177 103.466 L117.177 99.5305 Z\" fill=\"#000000\" fill-rule=\"evenodd\" fill-opacity=\"1\" /><path clip-path=\"url(#clip350)\" d=\"M146.529 97.5861 L151.413 97.5861 L151.413 103.466 L146.529 103.466 L146.529 97.5861 Z\" fill=\"#000000\" fill-rule=\"evenodd\" fill-opacity=\"1\" /><path clip-path=\"url(#clip350)\" d=\"M171.598 71.9844 Q167.987 71.9844 166.158 75.5492 Q164.352 79.0908 164.352 86.2204 Q164.352 93.3268 166.158 96.8916 Q167.987 100.433 171.598 100.433 Q175.232 100.433 177.038 96.8916 Q178.866 93.3268 178.866 86.2204 Q178.866 79.0908 177.038 75.5492 Q175.232 71.9844 171.598 71.9844 M171.598 68.2807 Q177.408 68.2807 180.464 72.8871 Q183.542 77.4704 183.542 86.2204 Q183.542 94.9472 180.464 99.5537 Q177.408 104.137 171.598 104.137 Q165.788 104.137 162.709 99.5537 Q159.653 94.9472 159.653 86.2204 Q159.653 77.4704 162.709 72.8871 Q165.788 68.2807 171.598 68.2807 Z\" fill=\"#000000\" fill-rule=\"evenodd\" fill-opacity=\"1\" /><path clip-path=\"url(#clip350)\" d=\"M22.818 780.329 L46.4666 789.05 L46.4666 771.576 L22.818 780.329 M16.4842 783.957 L16.4842 776.669 L64.0042 758.558 L64.0042 765.242 L51.8138 769.571 L51.8138 790.991 L64.0042 795.32 L64.0042 802.1 L16.4842 783.957 Z\" fill=\"#000000\" fill-rule=\"evenodd\" fill-opacity=\"1\" /><path clip-path=\"url(#clip350)\" d=\"M16.4842 752.352 L16.4842 745.89 L45.3526 745.89 Q52.9915 745.89 56.3653 743.121 Q59.7073 740.352 59.7073 734.146 Q59.7073 727.971 56.3653 725.202 Q52.9915 722.433 45.3526 722.433 L16.4842 722.433 L16.4842 715.972 L46.1484 715.972 Q55.4423 715.972 60.1847 720.587 Q64.9272 725.17 64.9272 734.146 Q64.9272 743.153 60.1847 747.768 Q55.4423 752.352 46.1484 752.352 L16.4842 752.352 Z\" fill=\"#000000\" fill-rule=\"evenodd\" fill-opacity=\"1\" /><path clip-path=\"url(#clip350)\" d=\"M20.1444 668.324 L26.9239 668.324 Q23.9002 671.571 22.4043 675.263 Q20.9083 678.923 20.9083 683.061 Q20.9083 691.209 25.9054 695.538 Q30.8707 699.866 40.2919 699.866 Q49.6813 699.866 54.6784 695.538 Q59.6436 691.209 59.6436 683.061 Q59.6436 678.923 58.1477 675.263 Q56.6518 671.571 53.6281 668.324 L60.3439 668.324 Q62.6355 671.698 63.7814 675.486 Q64.9272 679.241 64.9272 683.443 Q64.9272 694.233 58.3387 700.439 Q51.7183 706.646 40.2919 706.646 Q28.8336 706.646 22.2451 700.439 Q15.6248 694.233 15.6248 683.443 Q15.6248 679.178 16.7706 675.422 Q17.8846 671.634 20.1444 668.324 Z\" fill=\"#000000\" fill-rule=\"evenodd\" fill-opacity=\"1\" /><polyline clip-path=\"url(#clip352)\" style=\"stroke:#009af9; stroke-linecap:round; stroke-linejoin:round; stroke-width:12; stroke-opacity:1; fill:none\" points=\"\n",
       "  279.916,279 385.835,218.111 491.755,159.909 597.674,159.909 703.593,213.473 809.512,203.682 915.432,123.486 1021.35,130.946 1127.27,136.175 1233.19,175.707 \n",
       "  1339.11,168.82 1445.03,252.864 1550.95,211.829 1656.87,211.829 1762.79,211.829 1868.7,205.547 1974.62,211.829 2080.54,187.462 2186.46,144.934 2292.38,106.238 \n",
       "  \n",
       "  \"/>\n",
       "<polyline clip-path=\"url(#clip352)\" style=\"stroke:#e26f46; stroke-linecap:round; stroke-linejoin:round; stroke-width:4; stroke-opacity:1; fill:none\" points=\"\n",
       "  279.916,343.271 385.835,383.018 491.755,368.791 597.674,270.493 703.593,213.473 809.512,184.099 915.432,168.246 1021.35,138.406 1127.27,164.74 1233.19,196.365 \n",
       "  1339.11,189.479 1445.03,342.614 1550.95,287.215 1656.87,280.933 1762.79,262.086 1868.7,268.368 1974.62,293.497 2080.54,295.068 2186.46,203.682 2292.38,179.765 \n",
       "  \n",
       "  \"/>\n",
       "<circle clip-path=\"url(#clip352)\" cx=\"279.916\" cy=\"343.271\" r=\"14.4\" fill=\"#e26f46\" fill-rule=\"evenodd\" fill-opacity=\"1\" stroke=\"#000000\" stroke-opacity=\"1\" stroke-width=\"3.2\"/>\n",
       "<circle clip-path=\"url(#clip352)\" cx=\"385.835\" cy=\"383.018\" r=\"14.4\" fill=\"#e26f46\" fill-rule=\"evenodd\" fill-opacity=\"1\" stroke=\"#000000\" stroke-opacity=\"1\" stroke-width=\"3.2\"/>\n",
       "<circle clip-path=\"url(#clip352)\" cx=\"491.755\" cy=\"368.791\" r=\"14.4\" fill=\"#e26f46\" fill-rule=\"evenodd\" fill-opacity=\"1\" stroke=\"#000000\" stroke-opacity=\"1\" stroke-width=\"3.2\"/>\n",
       "<circle clip-path=\"url(#clip352)\" cx=\"597.674\" cy=\"270.493\" r=\"14.4\" fill=\"#e26f46\" fill-rule=\"evenodd\" fill-opacity=\"1\" stroke=\"#000000\" stroke-opacity=\"1\" stroke-width=\"3.2\"/>\n",
       "<circle clip-path=\"url(#clip352)\" cx=\"703.593\" cy=\"213.473\" r=\"14.4\" fill=\"#e26f46\" fill-rule=\"evenodd\" fill-opacity=\"1\" stroke=\"#000000\" stroke-opacity=\"1\" stroke-width=\"3.2\"/>\n",
       "<circle clip-path=\"url(#clip352)\" cx=\"809.512\" cy=\"184.099\" r=\"14.4\" fill=\"#e26f46\" fill-rule=\"evenodd\" fill-opacity=\"1\" stroke=\"#000000\" stroke-opacity=\"1\" stroke-width=\"3.2\"/>\n",
       "<circle clip-path=\"url(#clip352)\" cx=\"915.432\" cy=\"168.246\" r=\"14.4\" fill=\"#e26f46\" fill-rule=\"evenodd\" fill-opacity=\"1\" stroke=\"#000000\" stroke-opacity=\"1\" stroke-width=\"3.2\"/>\n",
       "<circle clip-path=\"url(#clip352)\" cx=\"1021.35\" cy=\"138.406\" r=\"14.4\" fill=\"#e26f46\" fill-rule=\"evenodd\" fill-opacity=\"1\" stroke=\"#000000\" stroke-opacity=\"1\" stroke-width=\"3.2\"/>\n",
       "<circle clip-path=\"url(#clip352)\" cx=\"1127.27\" cy=\"164.74\" r=\"14.4\" fill=\"#e26f46\" fill-rule=\"evenodd\" fill-opacity=\"1\" stroke=\"#000000\" stroke-opacity=\"1\" stroke-width=\"3.2\"/>\n",
       "<circle clip-path=\"url(#clip352)\" cx=\"1233.19\" cy=\"196.365\" r=\"14.4\" fill=\"#e26f46\" fill-rule=\"evenodd\" fill-opacity=\"1\" stroke=\"#000000\" stroke-opacity=\"1\" stroke-width=\"3.2\"/>\n",
       "<circle clip-path=\"url(#clip352)\" cx=\"1339.11\" cy=\"189.479\" r=\"14.4\" fill=\"#e26f46\" fill-rule=\"evenodd\" fill-opacity=\"1\" stroke=\"#000000\" stroke-opacity=\"1\" stroke-width=\"3.2\"/>\n",
       "<circle clip-path=\"url(#clip352)\" cx=\"1445.03\" cy=\"342.614\" r=\"14.4\" fill=\"#e26f46\" fill-rule=\"evenodd\" fill-opacity=\"1\" stroke=\"#000000\" stroke-opacity=\"1\" stroke-width=\"3.2\"/>\n",
       "<circle clip-path=\"url(#clip352)\" cx=\"1550.95\" cy=\"287.215\" r=\"14.4\" fill=\"#e26f46\" fill-rule=\"evenodd\" fill-opacity=\"1\" stroke=\"#000000\" stroke-opacity=\"1\" stroke-width=\"3.2\"/>\n",
       "<circle clip-path=\"url(#clip352)\" cx=\"1656.87\" cy=\"280.933\" r=\"14.4\" fill=\"#e26f46\" fill-rule=\"evenodd\" fill-opacity=\"1\" stroke=\"#000000\" stroke-opacity=\"1\" stroke-width=\"3.2\"/>\n",
       "<circle clip-path=\"url(#clip352)\" cx=\"1762.79\" cy=\"262.086\" r=\"14.4\" fill=\"#e26f46\" fill-rule=\"evenodd\" fill-opacity=\"1\" stroke=\"#000000\" stroke-opacity=\"1\" stroke-width=\"3.2\"/>\n",
       "<circle clip-path=\"url(#clip352)\" cx=\"1868.7\" cy=\"268.368\" r=\"14.4\" fill=\"#e26f46\" fill-rule=\"evenodd\" fill-opacity=\"1\" stroke=\"#000000\" stroke-opacity=\"1\" stroke-width=\"3.2\"/>\n",
       "<circle clip-path=\"url(#clip352)\" cx=\"1974.62\" cy=\"293.497\" r=\"14.4\" fill=\"#e26f46\" fill-rule=\"evenodd\" fill-opacity=\"1\" stroke=\"#000000\" stroke-opacity=\"1\" stroke-width=\"3.2\"/>\n",
       "<circle clip-path=\"url(#clip352)\" cx=\"2080.54\" cy=\"295.068\" r=\"14.4\" fill=\"#e26f46\" fill-rule=\"evenodd\" fill-opacity=\"1\" stroke=\"#000000\" stroke-opacity=\"1\" stroke-width=\"3.2\"/>\n",
       "<circle clip-path=\"url(#clip352)\" cx=\"2186.46\" cy=\"203.682\" r=\"14.4\" fill=\"#e26f46\" fill-rule=\"evenodd\" fill-opacity=\"1\" stroke=\"#000000\" stroke-opacity=\"1\" stroke-width=\"3.2\"/>\n",
       "<circle clip-path=\"url(#clip352)\" cx=\"2292.38\" cy=\"179.765\" r=\"14.4\" fill=\"#e26f46\" fill-rule=\"evenodd\" fill-opacity=\"1\" stroke=\"#000000\" stroke-opacity=\"1\" stroke-width=\"3.2\"/>\n",
       "<polyline clip-path=\"url(#clip352)\" style=\"stroke:#3da44d; stroke-linecap:round; stroke-linejoin:round; stroke-width:4; stroke-opacity:1; fill:none\" points=\"\n",
       "  279.916,600.357 385.835,547.925 491.755,442.514 597.674,417.939 703.593,565.962 809.512,556.17 915.432,384.589 1021.35,384.589 1127.27,393.26 1233.19,402.952 \n",
       "  1339.11,416.724 1445.03,477.238 1550.95,337.472 1656.87,337.472 1762.79,324.908 1868.7,463.116 1974.62,356.319 2080.54,250.759 2186.46,151.461 2292.38,92.8699 \n",
       "  \n",
       "  \"/>\n",
       "<path clip-path=\"url(#clip352)\" d=\"M279.916 584.357 L263.916 616.357 L295.916 616.357 L279.916 584.357 Z\" fill=\"#3da44d\" fill-rule=\"evenodd\" fill-opacity=\"1\" stroke=\"#000000\" stroke-opacity=\"1\" stroke-width=\"3.2\"/>\n",
       "<path clip-path=\"url(#clip352)\" d=\"M385.835 531.925 L369.835 563.925 L401.835 563.925 L385.835 531.925 Z\" fill=\"#3da44d\" fill-rule=\"evenodd\" fill-opacity=\"1\" stroke=\"#000000\" stroke-opacity=\"1\" stroke-width=\"3.2\"/>\n",
       "<path clip-path=\"url(#clip352)\" d=\"M491.755 426.514 L475.755 458.514 L507.755 458.514 L491.755 426.514 Z\" fill=\"#3da44d\" fill-rule=\"evenodd\" fill-opacity=\"1\" stroke=\"#000000\" stroke-opacity=\"1\" stroke-width=\"3.2\"/>\n",
       "<path clip-path=\"url(#clip352)\" d=\"M597.674 401.939 L581.674 433.939 L613.674 433.939 L597.674 401.939 Z\" fill=\"#3da44d\" fill-rule=\"evenodd\" fill-opacity=\"1\" stroke=\"#000000\" stroke-opacity=\"1\" stroke-width=\"3.2\"/>\n",
       "<path clip-path=\"url(#clip352)\" d=\"M703.593 549.962 L687.593 581.962 L719.593 581.962 L703.593 549.962 Z\" fill=\"#3da44d\" fill-rule=\"evenodd\" fill-opacity=\"1\" stroke=\"#000000\" stroke-opacity=\"1\" stroke-width=\"3.2\"/>\n",
       "<path clip-path=\"url(#clip352)\" d=\"M809.512 540.17 L793.512 572.17 L825.512 572.17 L809.512 540.17 Z\" fill=\"#3da44d\" fill-rule=\"evenodd\" fill-opacity=\"1\" stroke=\"#000000\" stroke-opacity=\"1\" stroke-width=\"3.2\"/>\n",
       "<path clip-path=\"url(#clip352)\" d=\"M915.432 368.589 L899.432 400.589 L931.432 400.589 L915.432 368.589 Z\" fill=\"#3da44d\" fill-rule=\"evenodd\" fill-opacity=\"1\" stroke=\"#000000\" stroke-opacity=\"1\" stroke-width=\"3.2\"/>\n",
       "<path clip-path=\"url(#clip352)\" d=\"M1021.35 368.589 L1005.35 400.589 L1037.35 400.589 L1021.35 368.589 Z\" fill=\"#3da44d\" fill-rule=\"evenodd\" fill-opacity=\"1\" stroke=\"#000000\" stroke-opacity=\"1\" stroke-width=\"3.2\"/>\n",
       "<path clip-path=\"url(#clip352)\" d=\"M1127.27 377.26 L1111.27 409.26 L1143.27 409.26 L1127.27 377.26 Z\" fill=\"#3da44d\" fill-rule=\"evenodd\" fill-opacity=\"1\" stroke=\"#000000\" stroke-opacity=\"1\" stroke-width=\"3.2\"/>\n",
       "<path clip-path=\"url(#clip352)\" d=\"M1233.19 386.952 L1217.19 418.952 L1249.19 418.952 L1233.19 386.952 Z\" fill=\"#3da44d\" fill-rule=\"evenodd\" fill-opacity=\"1\" stroke=\"#000000\" stroke-opacity=\"1\" stroke-width=\"3.2\"/>\n",
       "<path clip-path=\"url(#clip352)\" d=\"M1339.11 400.724 L1323.11 432.724 L1355.11 432.724 L1339.11 400.724 Z\" fill=\"#3da44d\" fill-rule=\"evenodd\" fill-opacity=\"1\" stroke=\"#000000\" stroke-opacity=\"1\" stroke-width=\"3.2\"/>\n",
       "<path clip-path=\"url(#clip352)\" d=\"M1445.03 461.238 L1429.03 493.238 L1461.03 493.238 L1445.03 461.238 Z\" fill=\"#3da44d\" fill-rule=\"evenodd\" fill-opacity=\"1\" stroke=\"#000000\" stroke-opacity=\"1\" stroke-width=\"3.2\"/>\n",
       "<path clip-path=\"url(#clip352)\" d=\"M1550.95 321.472 L1534.95 353.472 L1566.95 353.472 L1550.95 321.472 Z\" fill=\"#3da44d\" fill-rule=\"evenodd\" fill-opacity=\"1\" stroke=\"#000000\" stroke-opacity=\"1\" stroke-width=\"3.2\"/>\n",
       "<path clip-path=\"url(#clip352)\" d=\"M1656.87 321.472 L1640.87 353.472 L1672.87 353.472 L1656.87 321.472 Z\" fill=\"#3da44d\" fill-rule=\"evenodd\" fill-opacity=\"1\" stroke=\"#000000\" stroke-opacity=\"1\" stroke-width=\"3.2\"/>\n",
       "<path clip-path=\"url(#clip352)\" d=\"M1762.79 308.908 L1746.79 340.908 L1778.79 340.908 L1762.79 308.908 Z\" fill=\"#3da44d\" fill-rule=\"evenodd\" fill-opacity=\"1\" stroke=\"#000000\" stroke-opacity=\"1\" stroke-width=\"3.2\"/>\n",
       "<path clip-path=\"url(#clip352)\" d=\"M1868.7 447.116 L1852.7 479.116 L1884.7 479.116 L1868.7 447.116 Z\" fill=\"#3da44d\" fill-rule=\"evenodd\" fill-opacity=\"1\" stroke=\"#000000\" stroke-opacity=\"1\" stroke-width=\"3.2\"/>\n",
       "<path clip-path=\"url(#clip352)\" d=\"M1974.62 340.319 L1958.62 372.319 L1990.62 372.319 L1974.62 340.319 Z\" fill=\"#3da44d\" fill-rule=\"evenodd\" fill-opacity=\"1\" stroke=\"#000000\" stroke-opacity=\"1\" stroke-width=\"3.2\"/>\n",
       "<path clip-path=\"url(#clip352)\" d=\"M2080.54 234.759 L2064.54 266.759 L2096.54 266.759 L2080.54 234.759 Z\" fill=\"#3da44d\" fill-rule=\"evenodd\" fill-opacity=\"1\" stroke=\"#000000\" stroke-opacity=\"1\" stroke-width=\"3.2\"/>\n",
       "<path clip-path=\"url(#clip352)\" d=\"M2186.46 135.461 L2170.46 167.461 L2202.46 167.461 L2186.46 135.461 Z\" fill=\"#3da44d\" fill-rule=\"evenodd\" fill-opacity=\"1\" stroke=\"#000000\" stroke-opacity=\"1\" stroke-width=\"3.2\"/>\n",
       "<path clip-path=\"url(#clip352)\" d=\"M2292.38 76.8699 L2276.38 108.87 L2308.38 108.87 L2292.38 76.8699 Z\" fill=\"#3da44d\" fill-rule=\"evenodd\" fill-opacity=\"1\" stroke=\"#000000\" stroke-opacity=\"1\" stroke-width=\"3.2\"/>\n",
       "<polyline clip-path=\"url(#clip352)\" style=\"stroke:#c271d2; stroke-linecap:round; stroke-linejoin:round; stroke-width:4; stroke-opacity:1; fill:none\" points=\"\n",
       "  279.916,86.1857 385.835,152.148 491.755,209.057 597.674,209.057 703.593,184.099 809.512,203.682 915.432,108.566 1021.35,130.946 1127.27,129.033 1233.19,182.593 \n",
       "  1339.11,189.479 1445.03,278.507 1550.95,218.111 1656.87,224.393 1762.79,224.393 1868.7,218.111 1974.62,211.829 2080.54,206.451 2186.46,157.989 2292.38,92.8699 \n",
       "  \n",
       "  \"/>\n",
       "<path clip-path=\"url(#clip352)\" d=\"M279.916 70.1857 L276.156 81.0017 L264.7 81.2417 L273.836 88.1697 L270.508 99.1297 L279.916 92.5857 L289.324 99.1297 L285.996 88.1697 L295.132 81.2417 L283.676 81.0017 L279.916 70.1857 Z\" fill=\"#c271d2\" fill-rule=\"evenodd\" fill-opacity=\"1\" stroke=\"#000000\" stroke-opacity=\"1\" stroke-width=\"3.2\"/>\n",
       "<path clip-path=\"url(#clip352)\" d=\"M385.835 136.148 L382.075 146.964 L370.619 147.204 L379.755 154.132 L376.427 165.092 L385.835 158.548 L395.243 165.092 L391.915 154.132 L401.051 147.204 L389.595 146.964 L385.835 136.148 Z\" fill=\"#c271d2\" fill-rule=\"evenodd\" fill-opacity=\"1\" stroke=\"#000000\" stroke-opacity=\"1\" stroke-width=\"3.2\"/>\n",
       "<path clip-path=\"url(#clip352)\" d=\"M491.755 193.057 L487.995 203.873 L476.539 204.113 L485.675 211.041 L482.347 222.001 L491.755 215.457 L501.163 222.001 L497.835 211.041 L506.971 204.113 L495.515 203.873 L491.755 193.057 Z\" fill=\"#c271d2\" fill-rule=\"evenodd\" fill-opacity=\"1\" stroke=\"#000000\" stroke-opacity=\"1\" stroke-width=\"3.2\"/>\n",
       "<path clip-path=\"url(#clip352)\" d=\"M597.674 193.057 L593.914 203.873 L582.458 204.113 L591.594 211.041 L588.266 222.001 L597.674 215.457 L607.082 222.001 L603.754 211.041 L612.89 204.113 L601.434 203.873 L597.674 193.057 Z\" fill=\"#c271d2\" fill-rule=\"evenodd\" fill-opacity=\"1\" stroke=\"#000000\" stroke-opacity=\"1\" stroke-width=\"3.2\"/>\n",
       "<path clip-path=\"url(#clip352)\" d=\"M703.593 168.099 L699.833 178.915 L688.377 179.155 L697.513 186.083 L694.185 197.043 L703.593 190.499 L713.001 197.043 L709.673 186.083 L718.809 179.155 L707.353 178.915 L703.593 168.099 Z\" fill=\"#c271d2\" fill-rule=\"evenodd\" fill-opacity=\"1\" stroke=\"#000000\" stroke-opacity=\"1\" stroke-width=\"3.2\"/>\n",
       "<path clip-path=\"url(#clip352)\" d=\"M809.512 187.682 L805.752 198.498 L794.296 198.738 L803.432 205.666 L800.104 216.626 L809.512 210.082 L818.92 216.626 L815.592 205.666 L824.728 198.738 L813.272 198.498 L809.512 187.682 Z\" fill=\"#c271d2\" fill-rule=\"evenodd\" fill-opacity=\"1\" stroke=\"#000000\" stroke-opacity=\"1\" stroke-width=\"3.2\"/>\n",
       "<path clip-path=\"url(#clip352)\" d=\"M915.432 92.5659 L911.672 103.382 L900.216 103.622 L909.352 110.55 L906.024 121.51 L915.432 114.966 L924.84 121.51 L921.512 110.55 L930.648 103.622 L919.192 103.382 L915.432 92.5659 Z\" fill=\"#c271d2\" fill-rule=\"evenodd\" fill-opacity=\"1\" stroke=\"#000000\" stroke-opacity=\"1\" stroke-width=\"3.2\"/>\n",
       "<path clip-path=\"url(#clip352)\" d=\"M1021.35 114.946 L1017.59 125.762 L1006.13 126.002 L1015.27 132.93 L1011.94 143.89 L1021.35 137.346 L1030.76 143.89 L1027.43 132.93 L1036.57 126.002 L1025.11 125.762 L1021.35 114.946 Z\" fill=\"#c271d2\" fill-rule=\"evenodd\" fill-opacity=\"1\" stroke=\"#000000\" stroke-opacity=\"1\" stroke-width=\"3.2\"/>\n",
       "<path clip-path=\"url(#clip352)\" d=\"M1127.27 113.033 L1123.51 123.849 L1112.05 124.089 L1121.19 131.017 L1117.86 141.977 L1127.27 135.433 L1136.68 141.977 L1133.35 131.017 L1142.49 124.089 L1131.03 123.849 L1127.27 113.033 Z\" fill=\"#c271d2\" fill-rule=\"evenodd\" fill-opacity=\"1\" stroke=\"#000000\" stroke-opacity=\"1\" stroke-width=\"3.2\"/>\n",
       "<path clip-path=\"url(#clip352)\" d=\"M1233.19 166.593 L1229.43 177.409 L1217.97 177.649 L1227.11 184.577 L1223.78 195.537 L1233.19 188.993 L1242.6 195.537 L1239.27 184.577 L1248.41 177.649 L1236.95 177.409 L1233.19 166.593 Z\" fill=\"#c271d2\" fill-rule=\"evenodd\" fill-opacity=\"1\" stroke=\"#000000\" stroke-opacity=\"1\" stroke-width=\"3.2\"/>\n",
       "<path clip-path=\"url(#clip352)\" d=\"M1339.11 173.479 L1335.35 184.295 L1323.89 184.535 L1333.03 191.463 L1329.7 202.423 L1339.11 195.879 L1348.52 202.423 L1345.19 191.463 L1354.32 184.535 L1342.87 184.295 L1339.11 173.479 Z\" fill=\"#c271d2\" fill-rule=\"evenodd\" fill-opacity=\"1\" stroke=\"#000000\" stroke-opacity=\"1\" stroke-width=\"3.2\"/>\n",
       "<path clip-path=\"url(#clip352)\" d=\"M1445.03 262.507 L1441.27 273.323 L1429.81 273.563 L1438.95 280.491 L1435.62 291.451 L1445.03 284.907 L1454.44 291.451 L1451.11 280.491 L1460.24 273.563 L1448.79 273.323 L1445.03 262.507 Z\" fill=\"#c271d2\" fill-rule=\"evenodd\" fill-opacity=\"1\" stroke=\"#000000\" stroke-opacity=\"1\" stroke-width=\"3.2\"/>\n",
       "<path clip-path=\"url(#clip352)\" d=\"M1550.95 202.111 L1547.19 212.927 L1535.73 213.167 L1544.87 220.095 L1541.54 231.055 L1550.95 224.511 L1560.36 231.055 L1557.03 220.095 L1566.16 213.167 L1554.71 212.927 L1550.95 202.111 Z\" fill=\"#c271d2\" fill-rule=\"evenodd\" fill-opacity=\"1\" stroke=\"#000000\" stroke-opacity=\"1\" stroke-width=\"3.2\"/>\n",
       "<path clip-path=\"url(#clip352)\" d=\"M1656.87 208.393 L1653.11 219.209 L1641.65 219.449 L1650.79 226.377 L1647.46 237.337 L1656.87 230.793 L1666.27 237.337 L1662.95 226.377 L1672.08 219.449 L1660.63 219.209 L1656.87 208.393 Z\" fill=\"#c271d2\" fill-rule=\"evenodd\" fill-opacity=\"1\" stroke=\"#000000\" stroke-opacity=\"1\" stroke-width=\"3.2\"/>\n",
       "<path clip-path=\"url(#clip352)\" d=\"M1762.79 208.393 L1759.03 219.209 L1747.57 219.449 L1756.71 226.377 L1753.38 237.337 L1762.79 230.793 L1772.19 237.337 L1768.87 226.377 L1778 219.449 L1766.55 219.209 L1762.79 208.393 Z\" fill=\"#c271d2\" fill-rule=\"evenodd\" fill-opacity=\"1\" stroke=\"#000000\" stroke-opacity=\"1\" stroke-width=\"3.2\"/>\n",
       "<path clip-path=\"url(#clip352)\" d=\"M1868.7 202.111 L1864.94 212.927 L1853.49 213.167 L1862.62 220.095 L1859.3 231.055 L1868.7 224.511 L1878.11 231.055 L1874.78 220.095 L1883.92 213.167 L1872.46 212.927 L1868.7 202.111 Z\" fill=\"#c271d2\" fill-rule=\"evenodd\" fill-opacity=\"1\" stroke=\"#000000\" stroke-opacity=\"1\" stroke-width=\"3.2\"/>\n",
       "<path clip-path=\"url(#clip352)\" d=\"M1974.62 195.829 L1970.86 206.645 L1959.41 206.885 L1968.54 213.813 L1965.22 224.773 L1974.62 218.229 L1984.03 224.773 L1980.7 213.813 L1989.84 206.885 L1978.38 206.645 L1974.62 195.829 Z\" fill=\"#c271d2\" fill-rule=\"evenodd\" fill-opacity=\"1\" stroke=\"#000000\" stroke-opacity=\"1\" stroke-width=\"3.2\"/>\n",
       "<path clip-path=\"url(#clip352)\" d=\"M2080.54 190.451 L2076.78 201.267 L2065.33 201.507 L2074.46 208.435 L2071.14 219.395 L2080.54 212.851 L2089.95 219.395 L2086.62 208.435 L2095.76 201.507 L2084.3 201.267 L2080.54 190.451 Z\" fill=\"#c271d2\" fill-rule=\"evenodd\" fill-opacity=\"1\" stroke=\"#000000\" stroke-opacity=\"1\" stroke-width=\"3.2\"/>\n",
       "<path clip-path=\"url(#clip352)\" d=\"M2186.46 141.989 L2182.7 152.805 L2171.25 153.045 L2180.38 159.973 L2177.05 170.933 L2186.46 164.389 L2195.87 170.933 L2192.54 159.973 L2201.68 153.045 L2190.22 152.805 L2186.46 141.989 Z\" fill=\"#c271d2\" fill-rule=\"evenodd\" fill-opacity=\"1\" stroke=\"#000000\" stroke-opacity=\"1\" stroke-width=\"3.2\"/>\n",
       "<path clip-path=\"url(#clip352)\" d=\"M2292.38 76.8699 L2288.62 87.6859 L2277.17 87.9259 L2286.3 94.8539 L2282.97 105.814 L2292.38 99.2699 L2301.79 105.814 L2298.46 94.8539 L2307.6 87.9259 L2296.14 87.6859 L2292.38 76.8699 Z\" fill=\"#c271d2\" fill-rule=\"evenodd\" fill-opacity=\"1\" stroke=\"#000000\" stroke-opacity=\"1\" stroke-width=\"3.2\"/>\n",
       "<polyline clip-path=\"url(#clip352)\" style=\"stroke:#ac8d18; stroke-linecap:round; stroke-linejoin:round; stroke-width:4; stroke-opacity:1; fill:none\" points=\"\n",
       "  279.916,471.814 385.835,547.925 491.755,577.673 597.674,540.811 703.593,487.631 809.512,350.552 915.432,220.467 1021.35,175.707 1127.27,179.022 1233.19,203.251 \n",
       "  1339.11,196.365 1445.03,291.328 1550.95,255.804 1656.87,255.804 1762.79,236.958 1868.7,230.675 1974.62,211.829 2080.54,206.451 2186.46,144.934 2292.38,92.8699 \n",
       "  \n",
       "  \"/>\n",
       "<path clip-path=\"url(#clip352)\" d=\"M263.916 455.814 L263.916 487.814 L295.916 487.814 L295.916 455.814 L263.916 455.814 Z\" fill=\"#ac8d18\" fill-rule=\"evenodd\" fill-opacity=\"1\" stroke=\"#000000\" stroke-opacity=\"1\" stroke-width=\"3.2\"/>\n",
       "<path clip-path=\"url(#clip352)\" d=\"M369.835 531.925 L369.835 563.925 L401.835 563.925 L401.835 531.925 L369.835 531.925 Z\" fill=\"#ac8d18\" fill-rule=\"evenodd\" fill-opacity=\"1\" stroke=\"#000000\" stroke-opacity=\"1\" stroke-width=\"3.2\"/>\n",
       "<path clip-path=\"url(#clip352)\" d=\"M475.755 561.673 L475.755 593.673 L507.755 593.673 L507.755 561.673 L475.755 561.673 Z\" fill=\"#ac8d18\" fill-rule=\"evenodd\" fill-opacity=\"1\" stroke=\"#000000\" stroke-opacity=\"1\" stroke-width=\"3.2\"/>\n",
       "<path clip-path=\"url(#clip352)\" d=\"M581.674 524.811 L581.674 556.811 L613.674 556.811 L613.674 524.811 L581.674 524.811 Z\" fill=\"#ac8d18\" fill-rule=\"evenodd\" fill-opacity=\"1\" stroke=\"#000000\" stroke-opacity=\"1\" stroke-width=\"3.2\"/>\n",
       "<path clip-path=\"url(#clip352)\" d=\"M687.593 471.631 L687.593 503.631 L719.593 503.631 L719.593 471.631 L687.593 471.631 Z\" fill=\"#ac8d18\" fill-rule=\"evenodd\" fill-opacity=\"1\" stroke=\"#000000\" stroke-opacity=\"1\" stroke-width=\"3.2\"/>\n",
       "<path clip-path=\"url(#clip352)\" d=\"M793.512 334.552 L793.512 366.552 L825.512 366.552 L825.512 334.552 L793.512 334.552 Z\" fill=\"#ac8d18\" fill-rule=\"evenodd\" fill-opacity=\"1\" stroke=\"#000000\" stroke-opacity=\"1\" stroke-width=\"3.2\"/>\n",
       "<path clip-path=\"url(#clip352)\" d=\"M899.432 204.467 L899.432 236.467 L931.432 236.467 L931.432 204.467 L899.432 204.467 Z\" fill=\"#ac8d18\" fill-rule=\"evenodd\" fill-opacity=\"1\" stroke=\"#000000\" stroke-opacity=\"1\" stroke-width=\"3.2\"/>\n",
       "<path clip-path=\"url(#clip352)\" d=\"M1005.35 159.707 L1005.35 191.707 L1037.35 191.707 L1037.35 159.707 L1005.35 159.707 Z\" fill=\"#ac8d18\" fill-rule=\"evenodd\" fill-opacity=\"1\" stroke=\"#000000\" stroke-opacity=\"1\" stroke-width=\"3.2\"/>\n",
       "<path clip-path=\"url(#clip352)\" d=\"M1111.27 163.022 L1111.27 195.022 L1143.27 195.022 L1143.27 163.022 L1111.27 163.022 Z\" fill=\"#ac8d18\" fill-rule=\"evenodd\" fill-opacity=\"1\" stroke=\"#000000\" stroke-opacity=\"1\" stroke-width=\"3.2\"/>\n",
       "<path clip-path=\"url(#clip352)\" d=\"M1217.19 187.251 L1217.19 219.251 L1249.19 219.251 L1249.19 187.251 L1217.19 187.251 Z\" fill=\"#ac8d18\" fill-rule=\"evenodd\" fill-opacity=\"1\" stroke=\"#000000\" stroke-opacity=\"1\" stroke-width=\"3.2\"/>\n",
       "<path clip-path=\"url(#clip352)\" d=\"M1323.11 180.365 L1323.11 212.365 L1355.11 212.365 L1355.11 180.365 L1323.11 180.365 Z\" fill=\"#ac8d18\" fill-rule=\"evenodd\" fill-opacity=\"1\" stroke=\"#000000\" stroke-opacity=\"1\" stroke-width=\"3.2\"/>\n",
       "<path clip-path=\"url(#clip352)\" d=\"M1429.03 275.328 L1429.03 307.328 L1461.03 307.328 L1461.03 275.328 L1429.03 275.328 Z\" fill=\"#ac8d18\" fill-rule=\"evenodd\" fill-opacity=\"1\" stroke=\"#000000\" stroke-opacity=\"1\" stroke-width=\"3.2\"/>\n",
       "<path clip-path=\"url(#clip352)\" d=\"M1534.95 239.804 L1534.95 271.804 L1566.95 271.804 L1566.95 239.804 L1534.95 239.804 Z\" fill=\"#ac8d18\" fill-rule=\"evenodd\" fill-opacity=\"1\" stroke=\"#000000\" stroke-opacity=\"1\" stroke-width=\"3.2\"/>\n",
       "<path clip-path=\"url(#clip352)\" d=\"M1640.87 239.804 L1640.87 271.804 L1672.87 271.804 L1672.87 239.804 L1640.87 239.804 Z\" fill=\"#ac8d18\" fill-rule=\"evenodd\" fill-opacity=\"1\" stroke=\"#000000\" stroke-opacity=\"1\" stroke-width=\"3.2\"/>\n",
       "<path clip-path=\"url(#clip352)\" d=\"M1746.79 220.958 L1746.79 252.958 L1778.79 252.958 L1778.79 220.958 L1746.79 220.958 Z\" fill=\"#ac8d18\" fill-rule=\"evenodd\" fill-opacity=\"1\" stroke=\"#000000\" stroke-opacity=\"1\" stroke-width=\"3.2\"/>\n",
       "<path clip-path=\"url(#clip352)\" d=\"M1852.7 214.675 L1852.7 246.675 L1884.7 246.675 L1884.7 214.675 L1852.7 214.675 Z\" fill=\"#ac8d18\" fill-rule=\"evenodd\" fill-opacity=\"1\" stroke=\"#000000\" stroke-opacity=\"1\" stroke-width=\"3.2\"/>\n",
       "<path clip-path=\"url(#clip352)\" d=\"M1958.62 195.829 L1958.62 227.829 L1990.62 227.829 L1990.62 195.829 L1958.62 195.829 Z\" fill=\"#ac8d18\" fill-rule=\"evenodd\" fill-opacity=\"1\" stroke=\"#000000\" stroke-opacity=\"1\" stroke-width=\"3.2\"/>\n",
       "<path clip-path=\"url(#clip352)\" d=\"M2064.54 190.451 L2064.54 222.451 L2096.54 222.451 L2096.54 190.451 L2064.54 190.451 Z\" fill=\"#ac8d18\" fill-rule=\"evenodd\" fill-opacity=\"1\" stroke=\"#000000\" stroke-opacity=\"1\" stroke-width=\"3.2\"/>\n",
       "<path clip-path=\"url(#clip352)\" d=\"M2170.46 128.934 L2170.46 160.934 L2202.46 160.934 L2202.46 128.934 L2170.46 128.934 Z\" fill=\"#ac8d18\" fill-rule=\"evenodd\" fill-opacity=\"1\" stroke=\"#000000\" stroke-opacity=\"1\" stroke-width=\"3.2\"/>\n",
       "<path clip-path=\"url(#clip352)\" d=\"M2276.38 76.8699 L2276.38 108.87 L2308.38 108.87 L2308.38 76.8699 L2276.38 76.8699 Z\" fill=\"#ac8d18\" fill-rule=\"evenodd\" fill-opacity=\"1\" stroke=\"#000000\" stroke-opacity=\"1\" stroke-width=\"3.2\"/>\n",
       "<polyline clip-path=\"url(#clip352)\" style=\"stroke:#00a9ad; stroke-linecap:round; stroke-linejoin:round; stroke-width:4; stroke-opacity:1; fill:none\" points=\"\n",
       "  279.916,1050.26 385.835,1075.63 491.755,1278.04 597.674,1278.04 703.593,1006.57 809.512,1006.57 915.432,1384.24 1021.35,1384.24 1127.27,1243.07 1233.19,1298.16 \n",
       "  1339.11,1298.16 1445.03,1124.72 1550.95,1191.85 1656.87,1191.85 1762.79,1191.85 1868.7,1191.85 1974.62,1147.87 2080.54,1073.63 2186.46,1111.01 2292.38,1115.56 \n",
       "  \n",
       "  \"/>\n",
       "<path clip-path=\"url(#clip352)\" d=\"M295.916 1034.26 L263.916 1034.26 L279.916 1066.26 L295.916 1034.26 Z\" fill=\"#00a9ad\" fill-rule=\"evenodd\" fill-opacity=\"1\" stroke=\"#000000\" stroke-opacity=\"1\" stroke-width=\"3.2\"/>\n",
       "<path clip-path=\"url(#clip352)\" d=\"M401.835 1059.63 L369.835 1059.63 L385.835 1091.63 L401.835 1059.63 Z\" fill=\"#00a9ad\" fill-rule=\"evenodd\" fill-opacity=\"1\" stroke=\"#000000\" stroke-opacity=\"1\" stroke-width=\"3.2\"/>\n",
       "<path clip-path=\"url(#clip352)\" d=\"M507.755 1262.04 L475.755 1262.04 L491.755 1294.04 L507.755 1262.04 Z\" fill=\"#00a9ad\" fill-rule=\"evenodd\" fill-opacity=\"1\" stroke=\"#000000\" stroke-opacity=\"1\" stroke-width=\"3.2\"/>\n",
       "<path clip-path=\"url(#clip352)\" d=\"M613.674 1262.04 L581.674 1262.04 L597.674 1294.04 L613.674 1262.04 Z\" fill=\"#00a9ad\" fill-rule=\"evenodd\" fill-opacity=\"1\" stroke=\"#000000\" stroke-opacity=\"1\" stroke-width=\"3.2\"/>\n",
       "<path clip-path=\"url(#clip352)\" d=\"M719.593 990.572 L687.593 990.572 L703.593 1022.57 L719.593 990.572 Z\" fill=\"#00a9ad\" fill-rule=\"evenodd\" fill-opacity=\"1\" stroke=\"#000000\" stroke-opacity=\"1\" stroke-width=\"3.2\"/>\n",
       "<path clip-path=\"url(#clip352)\" d=\"M825.512 990.572 L793.512 990.572 L809.512 1022.57 L825.512 990.572 Z\" fill=\"#00a9ad\" fill-rule=\"evenodd\" fill-opacity=\"1\" stroke=\"#000000\" stroke-opacity=\"1\" stroke-width=\"3.2\"/>\n",
       "<path clip-path=\"url(#clip352)\" d=\"M931.432 1368.24 L899.432 1368.24 L915.432 1400.24 L931.432 1368.24 Z\" fill=\"#00a9ad\" fill-rule=\"evenodd\" fill-opacity=\"1\" stroke=\"#000000\" stroke-opacity=\"1\" stroke-width=\"3.2\"/>\n",
       "<path clip-path=\"url(#clip352)\" d=\"M1037.35 1368.24 L1005.35 1368.24 L1021.35 1400.24 L1037.35 1368.24 Z\" fill=\"#00a9ad\" fill-rule=\"evenodd\" fill-opacity=\"1\" stroke=\"#000000\" stroke-opacity=\"1\" stroke-width=\"3.2\"/>\n",
       "<path clip-path=\"url(#clip352)\" d=\"M1143.27 1227.07 L1111.27 1227.07 L1127.27 1259.07 L1143.27 1227.07 Z\" fill=\"#00a9ad\" fill-rule=\"evenodd\" fill-opacity=\"1\" stroke=\"#000000\" stroke-opacity=\"1\" stroke-width=\"3.2\"/>\n",
       "<path clip-path=\"url(#clip352)\" d=\"M1249.19 1282.16 L1217.19 1282.16 L1233.19 1314.16 L1249.19 1282.16 Z\" fill=\"#00a9ad\" fill-rule=\"evenodd\" fill-opacity=\"1\" stroke=\"#000000\" stroke-opacity=\"1\" stroke-width=\"3.2\"/>\n",
       "<path clip-path=\"url(#clip352)\" d=\"M1355.11 1282.16 L1323.11 1282.16 L1339.11 1314.16 L1355.11 1282.16 Z\" fill=\"#00a9ad\" fill-rule=\"evenodd\" fill-opacity=\"1\" stroke=\"#000000\" stroke-opacity=\"1\" stroke-width=\"3.2\"/>\n",
       "<path clip-path=\"url(#clip352)\" d=\"M1461.03 1108.72 L1429.03 1108.72 L1445.03 1140.72 L1461.03 1108.72 Z\" fill=\"#00a9ad\" fill-rule=\"evenodd\" fill-opacity=\"1\" stroke=\"#000000\" stroke-opacity=\"1\" stroke-width=\"3.2\"/>\n",
       "<path clip-path=\"url(#clip352)\" d=\"M1566.95 1175.85 L1534.95 1175.85 L1550.95 1207.85 L1566.95 1175.85 Z\" fill=\"#00a9ad\" fill-rule=\"evenodd\" fill-opacity=\"1\" stroke=\"#000000\" stroke-opacity=\"1\" stroke-width=\"3.2\"/>\n",
       "<path clip-path=\"url(#clip352)\" d=\"M1672.87 1175.85 L1640.87 1175.85 L1656.87 1207.85 L1672.87 1175.85 Z\" fill=\"#00a9ad\" fill-rule=\"evenodd\" fill-opacity=\"1\" stroke=\"#000000\" stroke-opacity=\"1\" stroke-width=\"3.2\"/>\n",
       "<path clip-path=\"url(#clip352)\" d=\"M1778.79 1175.85 L1746.79 1175.85 L1762.79 1207.85 L1778.79 1175.85 Z\" fill=\"#00a9ad\" fill-rule=\"evenodd\" fill-opacity=\"1\" stroke=\"#000000\" stroke-opacity=\"1\" stroke-width=\"3.2\"/>\n",
       "<path clip-path=\"url(#clip352)\" d=\"M1884.7 1175.85 L1852.7 1175.85 L1868.7 1207.85 L1884.7 1175.85 Z\" fill=\"#00a9ad\" fill-rule=\"evenodd\" fill-opacity=\"1\" stroke=\"#000000\" stroke-opacity=\"1\" stroke-width=\"3.2\"/>\n",
       "<path clip-path=\"url(#clip352)\" d=\"M1990.62 1131.87 L1958.62 1131.87 L1974.62 1163.87 L1990.62 1131.87 Z\" fill=\"#00a9ad\" fill-rule=\"evenodd\" fill-opacity=\"1\" stroke=\"#000000\" stroke-opacity=\"1\" stroke-width=\"3.2\"/>\n",
       "<path clip-path=\"url(#clip352)\" d=\"M2096.54 1057.63 L2064.54 1057.63 L2080.54 1089.63 L2096.54 1057.63 Z\" fill=\"#00a9ad\" fill-rule=\"evenodd\" fill-opacity=\"1\" stroke=\"#000000\" stroke-opacity=\"1\" stroke-width=\"3.2\"/>\n",
       "<path clip-path=\"url(#clip352)\" d=\"M2202.46 1095.01 L2170.46 1095.01 L2186.46 1127.01 L2202.46 1095.01 Z\" fill=\"#00a9ad\" fill-rule=\"evenodd\" fill-opacity=\"1\" stroke=\"#000000\" stroke-opacity=\"1\" stroke-width=\"3.2\"/>\n",
       "<path clip-path=\"url(#clip352)\" d=\"M2308.38 1099.56 L2276.38 1099.56 L2292.38 1131.56 L2308.38 1099.56 Z\" fill=\"#00a9ad\" fill-rule=\"evenodd\" fill-opacity=\"1\" stroke=\"#000000\" stroke-opacity=\"1\" stroke-width=\"3.2\"/>\n",
       "<path clip-path=\"url(#clip350)\" d=\"\n",
       "M290.649 1377.32 L665.266 1377.32 L665.266 1014.44 L290.649 1014.44  Z\n",
       "  \" fill=\"#ffffff\" fill-rule=\"evenodd\" fill-opacity=\"1\"/>\n",
       "<polyline clip-path=\"url(#clip350)\" style=\"stroke:#000000; stroke-linecap:round; stroke-linejoin:round; stroke-width:4; stroke-opacity:1; fill:none\" points=\"\n",
       "  290.649,1377.32 665.266,1377.32 665.266,1014.44 290.649,1014.44 290.649,1377.32 \n",
       "  \"/>\n",
       "<polyline clip-path=\"url(#clip350)\" style=\"stroke:#009af9; stroke-linecap:round; stroke-linejoin:round; stroke-width:12; stroke-opacity:1; fill:none\" points=\"\n",
       "  314.352,1066.28 456.566,1066.28 \n",
       "  \"/>\n",
       "<path clip-path=\"url(#clip350)\" d=\"M496.102 1053.6 L489.759 1070.8 L502.467 1070.8 L496.102 1053.6 M493.463 1049 L498.764 1049 L511.935 1083.56 L507.074 1083.56 L503.926 1074.69 L488.347 1074.69 L485.199 1083.56 L480.268 1083.56 L493.463 1049 Z\" fill=\"#000000\" fill-rule=\"evenodd\" fill-opacity=\"1\" /><path clip-path=\"url(#clip350)\" d=\"M516.449 1049 L521.148 1049 L521.148 1069.99 Q521.148 1075.55 523.162 1078 Q525.175 1080.43 529.689 1080.43 Q534.18 1080.43 536.194 1078 Q538.208 1075.55 538.208 1069.99 L538.208 1049 L542.907 1049 L542.907 1070.57 Q542.907 1077.33 539.55 1080.78 Q536.217 1084.23 529.689 1084.23 Q523.138 1084.23 519.782 1080.78 Q516.449 1077.33 516.449 1070.57 L516.449 1049 Z\" fill=\"#000000\" fill-rule=\"evenodd\" fill-opacity=\"1\" /><path clip-path=\"url(#clip350)\" d=\"M577.559 1051.66 L577.559 1056.59 Q575.198 1054.39 572.513 1053.3 Q569.851 1052.21 566.842 1052.21 Q560.916 1052.21 557.768 1055.85 Q554.62 1059.46 554.62 1066.31 Q554.62 1073.14 557.768 1076.77 Q560.916 1080.38 566.842 1080.38 Q569.851 1080.38 572.513 1079.3 Q575.198 1078.21 577.559 1076.01 L577.559 1080.89 Q575.106 1082.56 572.351 1083.39 Q569.62 1084.23 566.564 1084.23 Q558.717 1084.23 554.203 1079.43 Q549.689 1074.62 549.689 1066.31 Q549.689 1057.98 554.203 1053.19 Q558.717 1048.37 566.564 1048.37 Q569.666 1048.37 572.397 1049.2 Q575.152 1050.01 577.559 1051.66 Z\" fill=\"#000000\" fill-rule=\"evenodd\" fill-opacity=\"1\" /><path clip-path=\"url(#clip350)\" d=\"M593.694 1083.56 L580.499 1049 L585.383 1049 L596.333 1078.09 L607.305 1049 L612.166 1049 L598.995 1083.56 L593.694 1083.56 Z\" fill=\"#000000\" fill-rule=\"evenodd\" fill-opacity=\"1\" /><path clip-path=\"url(#clip350)\" d=\"M625.73 1053.6 L619.388 1070.8 L632.096 1070.8 L625.73 1053.6 M623.092 1049 L628.393 1049 L641.564 1083.56 L636.703 1083.56 L633.555 1074.69 L617.976 1074.69 L614.828 1083.56 L609.897 1083.56 L623.092 1049 Z\" fill=\"#000000\" fill-rule=\"evenodd\" fill-opacity=\"1\" /><polyline clip-path=\"url(#clip350)\" style=\"stroke:#e26f46; stroke-linecap:round; stroke-linejoin:round; stroke-width:4; stroke-opacity:1; fill:none\" points=\"\n",
       "  314.352,1118.12 456.566,1118.12 \n",
       "  \"/>\n",
       "<circle clip-path=\"url(#clip350)\" cx=\"385.459\" cy=\"1118.12\" r=\"19.752\" fill=\"#e26f46\" fill-rule=\"evenodd\" fill-opacity=\"1\" stroke=\"#000000\" stroke-opacity=\"1\" stroke-width=\"5.12\"/>\n",
       "<path clip-path=\"url(#clip350)\" d=\"M496.102 1105.44 L489.759 1122.64 L502.467 1122.64 L496.102 1105.44 M493.463 1100.84 L498.764 1100.84 L511.935 1135.4 L507.074 1135.4 L503.926 1126.53 L488.347 1126.53 L485.199 1135.4 L480.268 1135.4 L493.463 1100.84 Z\" fill=\"#000000\" fill-rule=\"evenodd\" fill-opacity=\"1\" /><path clip-path=\"url(#clip350)\" d=\"M516.449 1100.84 L521.148 1100.84 L521.148 1121.83 Q521.148 1127.39 523.162 1129.84 Q525.175 1132.27 529.689 1132.27 Q534.18 1132.27 536.194 1129.84 Q538.208 1127.39 538.208 1121.83 L538.208 1100.84 L542.907 1100.84 L542.907 1122.41 Q542.907 1129.17 539.55 1132.62 Q536.217 1136.07 529.689 1136.07 Q523.138 1136.07 519.782 1132.62 Q516.449 1129.17 516.449 1122.41 L516.449 1100.84 Z\" fill=\"#000000\" fill-rule=\"evenodd\" fill-opacity=\"1\" /><path clip-path=\"url(#clip350)\" d=\"M572.397 1101.97 L572.397 1106.53 Q569.735 1105.26 567.374 1104.63 Q565.013 1104.01 562.814 1104.01 Q558.995 1104.01 556.911 1105.49 Q554.851 1106.97 554.851 1109.7 Q554.851 1111.99 556.217 1113.17 Q557.606 1114.33 561.448 1115.05 L564.272 1115.63 Q569.504 1116.62 571.981 1119.15 Q574.481 1121.65 574.481 1125.86 Q574.481 1130.88 571.101 1133.47 Q567.745 1136.07 561.24 1136.07 Q558.786 1136.07 556.009 1135.51 Q553.254 1134.96 550.291 1133.87 L550.291 1129.05 Q553.138 1130.65 555.87 1131.46 Q558.601 1132.27 561.24 1132.27 Q565.245 1132.27 567.421 1130.7 Q569.597 1129.12 569.597 1126.21 Q569.597 1123.66 568.022 1122.22 Q566.472 1120.79 562.907 1120.07 L560.06 1119.52 Q554.828 1118.47 552.49 1116.25 Q550.152 1114.03 550.152 1110.07 Q550.152 1105.49 553.37 1102.85 Q556.61 1100.21 562.282 1100.21 Q564.712 1100.21 567.235 1100.65 Q569.759 1101.09 572.397 1101.97 Z\" fill=\"#000000\" fill-rule=\"evenodd\" fill-opacity=\"1\" /><path clip-path=\"url(#clip350)\" d=\"M591.633 1112.46 Q588.208 1112.46 586.217 1115.14 Q584.226 1117.8 584.226 1122.46 Q584.226 1127.11 586.194 1129.79 Q588.184 1132.46 591.633 1132.46 Q595.036 1132.46 597.027 1129.77 Q599.018 1127.09 599.018 1122.46 Q599.018 1117.85 597.027 1115.16 Q595.036 1112.46 591.633 1112.46 M591.633 1108.84 Q597.189 1108.84 600.36 1112.46 Q603.532 1116.07 603.532 1122.46 Q603.532 1128.82 600.36 1132.46 Q597.189 1136.07 591.633 1136.07 Q586.055 1136.07 582.884 1132.46 Q579.735 1128.82 579.735 1122.46 Q579.735 1116.07 582.884 1112.46 Q586.055 1108.84 591.633 1108.84 Z\" fill=\"#000000\" fill-rule=\"evenodd\" fill-opacity=\"1\" /><path clip-path=\"url(#clip350)\" d=\"M623.717 1099.38 L623.717 1102.92 L619.643 1102.92 Q617.351 1102.92 616.448 1103.84 Q615.569 1104.77 615.569 1107.18 L615.569 1109.47 L622.582 1109.47 L622.582 1112.78 L615.569 1112.78 L615.569 1135.4 L611.286 1135.4 L611.286 1112.78 L607.212 1112.78 L607.212 1109.47 L611.286 1109.47 L611.286 1107.66 Q611.286 1103.34 613.3 1101.37 Q615.314 1099.38 619.689 1099.38 L623.717 1099.38 Z\" fill=\"#000000\" fill-rule=\"evenodd\" fill-opacity=\"1\" /><path clip-path=\"url(#clip350)\" d=\"M630.661 1102.11 L630.661 1109.47 L639.434 1109.47 L639.434 1112.78 L630.661 1112.78 L630.661 1126.85 Q630.661 1130.02 631.518 1130.93 Q632.397 1131.83 635.059 1131.83 L639.434 1131.83 L639.434 1135.4 L635.059 1135.4 Q630.129 1135.4 628.254 1133.57 Q626.379 1131.71 626.379 1126.85 L626.379 1112.78 L623.254 1112.78 L623.254 1109.47 L626.379 1109.47 L626.379 1102.11 L630.661 1102.11 Z\" fill=\"#000000\" fill-rule=\"evenodd\" fill-opacity=\"1\" /><polyline clip-path=\"url(#clip350)\" style=\"stroke:#3da44d; stroke-linecap:round; stroke-linejoin:round; stroke-width:4; stroke-opacity:1; fill:none\" points=\"\n",
       "  314.352,1169.96 456.566,1169.96 \n",
       "  \"/>\n",
       "<path clip-path=\"url(#clip350)\" d=\"M385.459 1148.01 L363.512 1191.9 L407.405 1191.9 L385.459 1148.01 Z\" fill=\"#3da44d\" fill-rule=\"evenodd\" fill-opacity=\"1\" stroke=\"#000000\" stroke-opacity=\"1\" stroke-width=\"5.12\"/>\n",
       "<path clip-path=\"url(#clip350)\" d=\"M496.102 1157.28 L489.759 1174.48 L502.467 1174.48 L496.102 1157.28 M493.463 1152.68 L498.764 1152.68 L511.935 1187.24 L507.074 1187.24 L503.926 1178.37 L488.347 1178.37 L485.199 1187.24 L480.268 1187.24 L493.463 1152.68 Z\" fill=\"#000000\" fill-rule=\"evenodd\" fill-opacity=\"1\" /><path clip-path=\"url(#clip350)\" d=\"M516.449 1152.68 L521.148 1152.68 L521.148 1173.67 Q521.148 1179.23 523.162 1181.68 Q525.175 1184.11 529.689 1184.11 Q534.18 1184.11 536.194 1181.68 Q538.208 1179.23 538.208 1173.67 L538.208 1152.68 L542.907 1152.68 L542.907 1174.25 Q542.907 1181.01 539.55 1184.46 Q536.217 1187.91 529.689 1187.91 Q523.138 1187.91 519.782 1184.46 Q516.449 1181.01 516.449 1174.25 L516.449 1152.68 Z\" fill=\"#000000\" fill-rule=\"evenodd\" fill-opacity=\"1\" /><path clip-path=\"url(#clip350)\" d=\"M551.68 1152.68 L558.648 1152.68 L567.467 1176.19 L576.333 1152.68 L583.3 1152.68 L583.3 1187.24 L578.74 1187.24 L578.74 1156.89 L569.828 1180.59 L565.129 1180.59 L556.217 1156.89 L556.217 1187.24 L551.68 1187.24 L551.68 1152.68 Z\" fill=\"#000000\" fill-rule=\"evenodd\" fill-opacity=\"1\" /><path clip-path=\"url(#clip350)\" d=\"M592.583 1152.68 L612.444 1152.68 L612.444 1156.61 L597.258 1156.61 L597.258 1166.8 L610.962 1166.8 L610.962 1170.73 L597.258 1170.73 L597.258 1187.24 L592.583 1187.24 L592.583 1152.68 Z\" fill=\"#000000\" fill-rule=\"evenodd\" fill-opacity=\"1\" /><polyline clip-path=\"url(#clip350)\" style=\"stroke:#c271d2; stroke-linecap:round; stroke-linejoin:round; stroke-width:4; stroke-opacity:1; fill:none\" points=\"\n",
       "  314.352,1221.8 456.566,1221.8 \n",
       "  \"/>\n",
       "<path clip-path=\"url(#clip350)\" d=\"M385.459 1199.85 L380.301 1214.68 L364.588 1215.01 L377.119 1224.52 L372.554 1239.55 L385.459 1230.57 L398.363 1239.55 L393.799 1224.52 L406.33 1215.01 L390.616 1214.68 L385.459 1199.85 Z\" fill=\"#c271d2\" fill-rule=\"evenodd\" fill-opacity=\"1\" stroke=\"#000000\" stroke-opacity=\"1\" stroke-width=\"5.12\"/>\n",
       "<path clip-path=\"url(#clip350)\" d=\"M496.102 1209.12 L489.759 1226.32 L502.467 1226.32 L496.102 1209.12 M493.463 1204.52 L498.764 1204.52 L511.935 1239.08 L507.074 1239.08 L503.926 1230.21 L488.347 1230.21 L485.199 1239.08 L480.268 1239.08 L493.463 1204.52 Z\" fill=\"#000000\" fill-rule=\"evenodd\" fill-opacity=\"1\" /><path clip-path=\"url(#clip350)\" d=\"M516.449 1204.52 L521.148 1204.52 L521.148 1225.51 Q521.148 1231.07 523.162 1233.52 Q525.175 1235.95 529.689 1235.95 Q534.18 1235.95 536.194 1233.52 Q538.208 1231.07 538.208 1225.51 L538.208 1204.52 L542.907 1204.52 L542.907 1226.09 Q542.907 1232.85 539.55 1236.3 Q536.217 1239.75 529.689 1239.75 Q523.138 1239.75 519.782 1236.3 Q516.449 1232.85 516.449 1226.09 L516.449 1204.52 Z\" fill=\"#000000\" fill-rule=\"evenodd\" fill-opacity=\"1\" /><path clip-path=\"url(#clip350)\" d=\"M551.68 1204.52 L558.648 1204.52 L567.467 1228.03 L576.333 1204.52 L583.3 1204.52 L583.3 1239.08 L578.74 1239.08 L578.74 1208.73 L569.828 1232.43 L565.129 1232.43 L556.217 1208.73 L556.217 1239.08 L551.68 1239.08 L551.68 1204.52 Z\" fill=\"#000000\" fill-rule=\"evenodd\" fill-opacity=\"1\" /><path clip-path=\"url(#clip350)\" d=\"M592.583 1204.52 L597.258 1204.52 L597.258 1218.68 L614.249 1218.68 L614.249 1204.52 L618.925 1204.52 L618.925 1239.08 L614.249 1239.08 L614.249 1222.62 L597.258 1222.62 L597.258 1239.08 L592.583 1239.08 L592.583 1204.52 Z\" fill=\"#000000\" fill-rule=\"evenodd\" fill-opacity=\"1\" /><polyline clip-path=\"url(#clip350)\" style=\"stroke:#ac8d18; stroke-linecap:round; stroke-linejoin:round; stroke-width:4; stroke-opacity:1; fill:none\" points=\"\n",
       "  314.352,1273.64 456.566,1273.64 \n",
       "  \"/>\n",
       "<path clip-path=\"url(#clip350)\" d=\"M363.512 1251.69 L363.512 1295.58 L407.405 1295.58 L407.405 1251.69 L363.512 1251.69 Z\" fill=\"#ac8d18\" fill-rule=\"evenodd\" fill-opacity=\"1\" stroke=\"#000000\" stroke-opacity=\"1\" stroke-width=\"5.12\"/>\n",
       "<path clip-path=\"url(#clip350)\" d=\"M496.102 1260.96 L489.759 1278.16 L502.467 1278.16 L496.102 1260.96 M493.463 1256.36 L498.764 1256.36 L511.935 1290.92 L507.074 1290.92 L503.926 1282.05 L488.347 1282.05 L485.199 1290.92 L480.268 1290.92 L493.463 1256.36 Z\" fill=\"#000000\" fill-rule=\"evenodd\" fill-opacity=\"1\" /><path clip-path=\"url(#clip350)\" d=\"M516.449 1256.36 L521.148 1256.36 L521.148 1277.35 Q521.148 1282.91 523.162 1285.36 Q525.175 1287.79 529.689 1287.79 Q534.18 1287.79 536.194 1285.36 Q538.208 1282.91 538.208 1277.35 L538.208 1256.36 L542.907 1256.36 L542.907 1277.93 Q542.907 1284.69 539.55 1288.14 Q536.217 1291.59 529.689 1291.59 Q523.138 1291.59 519.782 1288.14 Q516.449 1284.69 516.449 1277.93 L516.449 1256.36 Z\" fill=\"#000000\" fill-rule=\"evenodd\" fill-opacity=\"1\" /><path clip-path=\"url(#clip350)\" d=\"M568.022 1265.75 L568.022 1269.78 Q566.217 1268.86 564.272 1268.39 Q562.328 1267.93 560.245 1267.93 Q557.073 1267.93 555.476 1268.9 Q553.902 1269.87 553.902 1271.82 Q553.902 1273.3 555.036 1274.16 Q556.171 1274.99 559.597 1275.75 L561.055 1276.08 Q565.592 1277.05 567.49 1278.83 Q569.411 1280.59 569.411 1283.76 Q569.411 1287.37 566.541 1289.48 Q563.694 1291.59 558.694 1291.59 Q556.61 1291.59 554.342 1291.17 Q552.097 1290.78 549.597 1289.97 L549.597 1285.57 Q551.958 1286.79 554.249 1287.42 Q556.541 1288.02 558.786 1288.02 Q561.796 1288.02 563.416 1287 Q565.036 1285.96 565.036 1284.09 Q565.036 1282.35 563.856 1281.42 Q562.698 1280.5 558.74 1279.64 L557.259 1279.3 Q553.3 1278.46 551.541 1276.75 Q549.782 1275.01 549.782 1272 Q549.782 1268.35 552.374 1266.36 Q554.967 1264.36 559.735 1264.36 Q562.097 1264.36 564.18 1264.71 Q566.263 1265.06 568.022 1265.75 Z\" fill=\"#000000\" fill-rule=\"evenodd\" fill-opacity=\"1\" /><path clip-path=\"url(#clip350)\" d=\"M576.194 1264.99 L580.453 1264.99 L580.453 1290.92 L576.194 1290.92 L576.194 1264.99 M576.194 1254.9 L580.453 1254.9 L580.453 1260.29 L576.194 1260.29 L576.194 1254.9 Z\" fill=\"#000000\" fill-rule=\"evenodd\" fill-opacity=\"1\" /><path clip-path=\"url(#clip350)\" d=\"M607.976 1277.98 Q607.976 1273.28 606.032 1270.61 Q604.11 1267.93 600.731 1267.93 Q597.351 1267.93 595.407 1270.61 Q593.485 1273.28 593.485 1277.98 Q593.485 1282.67 595.407 1285.36 Q597.351 1288.02 600.731 1288.02 Q604.11 1288.02 606.032 1285.36 Q607.976 1282.67 607.976 1277.98 M593.485 1268.92 Q594.828 1266.61 596.865 1265.5 Q598.925 1264.36 601.772 1264.36 Q606.494 1264.36 609.434 1268.11 Q612.397 1271.86 612.397 1277.98 Q612.397 1284.09 609.434 1287.84 Q606.494 1291.59 601.772 1291.59 Q598.925 1291.59 596.865 1290.48 Q594.828 1289.34 593.485 1287.03 L593.485 1290.92 L589.203 1290.92 L589.203 1254.9 L593.485 1254.9 L593.485 1268.92 Z\" fill=\"#000000\" fill-rule=\"evenodd\" fill-opacity=\"1\" /><polyline clip-path=\"url(#clip350)\" style=\"stroke:#00a9ad; stroke-linecap:round; stroke-linejoin:round; stroke-width:4; stroke-opacity:1; fill:none\" points=\"\n",
       "  314.352,1325.48 456.566,1325.48 \n",
       "  \"/>\n",
       "<path clip-path=\"url(#clip350)\" d=\"M407.405 1303.53 L363.512 1303.53 L385.459 1347.42 L407.405 1303.53 Z\" fill=\"#00a9ad\" fill-rule=\"evenodd\" fill-opacity=\"1\" stroke=\"#000000\" stroke-opacity=\"1\" stroke-width=\"5.12\"/>\n",
       "<path clip-path=\"url(#clip350)\" d=\"M496.102 1312.8 L489.759 1330 L502.467 1330 L496.102 1312.8 M493.463 1308.2 L498.764 1308.2 L511.935 1342.76 L507.074 1342.76 L503.926 1333.89 L488.347 1333.89 L485.199 1342.76 L480.268 1342.76 L493.463 1308.2 Z\" fill=\"#000000\" fill-rule=\"evenodd\" fill-opacity=\"1\" /><path clip-path=\"url(#clip350)\" d=\"M516.449 1308.2 L521.148 1308.2 L521.148 1329.19 Q521.148 1334.75 523.162 1337.2 Q525.175 1339.63 529.689 1339.63 Q534.18 1339.63 536.194 1337.2 Q538.208 1334.75 538.208 1329.19 L538.208 1308.2 L542.907 1308.2 L542.907 1329.77 Q542.907 1336.53 539.55 1339.98 Q536.217 1343.43 529.689 1343.43 Q523.138 1343.43 519.782 1339.98 Q516.449 1336.53 516.449 1329.77 L516.449 1308.2 Z\" fill=\"#000000\" fill-rule=\"evenodd\" fill-opacity=\"1\" /><path clip-path=\"url(#clip350)\" d=\"M551.68 1308.2 L558.648 1308.2 L567.467 1331.71 L576.333 1308.2 L583.3 1308.2 L583.3 1342.76 L578.74 1342.76 L578.74 1312.41 L569.828 1336.11 L565.129 1336.11 L556.217 1312.41 L556.217 1342.76 L551.68 1342.76 L551.68 1308.2 Z\" fill=\"#000000\" fill-rule=\"evenodd\" fill-opacity=\"1\" /><path clip-path=\"url(#clip350)\" d=\"M592.583 1308.2 L612.444 1308.2 L612.444 1312.13 L597.258 1312.13 L597.258 1322.32 L610.962 1322.32 L610.962 1326.25 L597.258 1326.25 L597.258 1342.76 L592.583 1342.76 L592.583 1308.2 Z\" fill=\"#000000\" fill-rule=\"evenodd\" fill-opacity=\"1\" /></svg>\n"
      ]
     },
     "execution_count": 166,
     "metadata": {},
     "output_type": "execute_result"
    }
   ],
   "source": [
    "#AUROC curves\n",
    "\n",
    "T = Int(T)\n",
    "AU_curvenew=zeros(T)\n",
    "AU_sib=zeros(T)\n",
    "AU_MF=zeros(T)\n",
    "AU_french = zeros(T)\n",
    "AU_soft = zeros(T)\n",
    "AU_MH = zeros(T)\n",
    "for t = 1:T\n",
    "    cau_risknew=zeros(N)\n",
    "    sib_risk = zeros(N)\n",
    "    MF_risk = zeros(N)\n",
    "    french_risk = zeros(N)\n",
    "    MH_risk = zeros(N)\n",
    "    soft_risk = zeros(N)\n",
    "    for i=1:N\n",
    "       cau_risknew[i]= marginal(i,t,statscaunew)\n",
    "       french_risk[i] = marginal(i,t,statsfre)\n",
    "       MH_risk[i] = marginal(i,t,stats_mh)\n",
    "       sib_risk[i] = p_sib[i,Int(round(t/dt))]\n",
    "        MF_risk[i] = p_MF[i,Int(round(t/dt))]\n",
    "       soft_risk[i] = reweighted_marginal(i, t*T/bins, stats, weights)\n",
    "    end\n",
    "    xt = xtrue .< t\n",
    "    AU_soft[t] = AUROC(ROC(xt, soft_risk))\n",
    "    AU_curvenew[t] = AUROC(ROC(xt, cau_risknew))\n",
    "    AU_french[t] = AUROC(ROC(xt, french_risk))\n",
    "    AU_MH[t] = AUROC(ROC(xt, MH_risk))\n",
    "    AU_sib[t] = AUROC(ROC(xt, sib_risk))\n",
    "    AU_MF[t] = AUROC(ROC(xt, MF_risk))\n",
    "end\n",
    "\n",
    "plot(LinRange(1,T,T),AU_curvenew, width=3, label=\"AUCVA\")\n",
    "plot!(LinRange(1,T,T),AU_soft, marker=:c, label=\"AUSoft\",legend=:bottomleft)\n",
    "plot!(LinRange(1,T,T),AU_french, marker=:ut, label=\"AUMF\")\n",
    "plot!(LinRange(1,T,T),AU_MH,marker=:star, label=\"AUMH\")\n",
    "plot!(LinRange(1,T,T), AU_sib, marker=:square,label=\"AUsib\")\n",
    "plot!(LinRange(1,T,T), AU_MF,marker=:dt, label=\"AUMF\")\n",
    "xlabel!(\"t\")\n",
    "ylabel!(\"AUC\")\n",
    "#ylims!(0.5,1.01)"
   ]
  }
 ],
 "metadata": {
  "kernelspec": {
   "display_name": "Julia 1.7.0-rc2",
   "language": "julia",
   "name": "julia-1.7"
  },
  "language_info": {
   "file_extension": ".jl",
   "mimetype": "application/julia",
   "name": "julia",
   "version": "1.7.0"
  }
 },
 "nbformat": 4,
 "nbformat_minor": 4
}
