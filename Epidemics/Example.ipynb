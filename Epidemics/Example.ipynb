{
 "cells": [
  {
   "cell_type": "markdown",
   "metadata": {},
   "source": [
    "# CVA method for Epidemic Inference\n",
    "This notebook is aimed at explaining how to use the code for the CVA method applied to epidemics inference. We'll do so by generating a graph and simulationg an SI epidemics at continuous time using a simple markovian dynamical model. Then, we are going to simulate some observations on the population (clinical tests) and from those observations we'll run CVA in order to resconstruct the original epidemics. \n",
    "In the second part of this notebook we have also implemented some other methods existent in literature in order to perform a comparison of performances."
   ]
  },
  {
   "cell_type": "code",
   "execution_count": 36,
   "metadata": {},
   "outputs": [],
   "source": [
    "using SparseArrays, LinearAlgebra, IndexedGraphs\n",
    "using ProgressMeter\n",
    "#using Pkg\n",
    "#Pkg.activ§ate(\"../\")\n",
    "using Causality\n",
    "using Plots"
   ]
  },
  {
   "cell_type": "markdown",
   "metadata": {
    "tags": []
   },
   "source": [
    "# Simulation Part\n",
    "Here we simulate the graph generation and the epidemic spreading"
   ]
  },
  {
   "cell_type": "markdown",
   "metadata": {
    "tags": []
   },
   "source": [
    "## Graph Generation \n"
   ]
  },
  {
   "cell_type": "code",
   "execution_count": 37,
   "metadata": {},
   "outputs": [
    {
     "data": {
      "text/plain": [
       "{40, 166} directed sparse Int64 graph\n",
       "⠄⠁⠀⠀⠐⠂⠀⠕⠀⠀⠅⠀⠀⠅⠁⡀⡀⡀⠰⠈\n",
       "⠀⠀⠄⠁⠀⠀⠀⠐⠅⢀⠨⠪⢁⠐⢀⠐⠐⢀⠂⠀\n",
       "⠰⠀⠀⠀⠠⠂⢁⠖⠀⠀⠀⢀⠀⠀⠀⠈⠀⠄⠰⡀\n",
       "⢄⠄⢀⠀⢡⠔⠀⠀⠀⠀⠄⠐⠀⠄⠀⠈⢀⠀⠠⠀\n",
       "⠀⠀⠁⢁⠀⠀⠀⠀⠀⠀⠈⠈⢀⠀⢄⠀⠐⢀⠀⠂\n",
       "⠁⠁⡢⡂⠀⢀⢀⠁⡂⠀⢀⠐⠂⠡⠁⠀⠠⠀⠄⠉\n",
       "⠄⠄⢁⠐⠀⠀⠀⠄⠀⠐⠌⡀⠀⠀⠐⠀⢀⠂⡁⠠\n",
       "⠁⠠⢀⠐⡀⠀⡀⠀⠀⠑⠁⠀⠐⠀⠀⠀⠄⠔⠀⠉\n",
       "⠀⠨⠐⢀⠀⠄⠀⠐⠐⢀⠀⠂⠠⠐⢀⠅⠄⠁⠀⠂\n",
       "⡐⠂⠈⠀⠐⠢⠀⠂⠠⠀⡄⠁⠁⡈⡄⠀⠠⠀⠀⠀"
      ]
     },
     "execution_count": 37,
     "metadata": {},
     "output_type": "execute_result"
    }
   ],
   "source": [
    "# We first have to set the total time of the epidemics and the number of individuals.\n",
    "T, N = 20.0, 40\n",
    "\n",
    "#Then we can set the model for graph generation. You can comment/uncomment for changing graph or you can code it \n",
    "G = Causality.makeProximity(N,2.1/N)\n",
    "#G = Causality.makeBarabasi(N,k=2)\n",
    "#G = Causality.makeGNP(N,3/N)"
   ]
  },
  {
   "cell_type": "markdown",
   "metadata": {
    "tags": []
   },
   "source": [
    "## Epidemic Generation"
   ]
  },
  {
   "cell_type": "code",
   "execution_count": 38,
   "metadata": {},
   "outputs": [
    {
     "data": {
      "text/plain": [
       "getpargen (generic function with 1 method)"
      ]
     },
     "execution_count": 38,
     "metadata": {},
     "output_type": "execute_result"
    }
   ],
   "source": [
    "#This cell contains the definition of getpar\n",
    "#This function returns the matrix of transition rates.\n",
    "\n",
    "getpar(pseed,autoinf::GaussianRate,inf_in::GaussianRate) = \n",
    "    [fill(pseed, 1, N);\n",
    "     fill(autoinf.a, 1, N); fill(autoinf.b, 1, N); fill(autoinf.c, 1, N);\n",
    "     fill(inf_in.a,   1, N); fill(inf_in.b, 1, N); fill(inf_in.c, 1, N);\n",
    "    ]\n",
    "\n",
    "getpargen(pseed, autoinf::GaussianRate, inf_out::GaussianRate) = \n",
    "    [pseed autoinf.a autoinf.b autoinf.c inf_out.a inf_out.b inf_out.c]\n"
   ]
  },
  {
   "cell_type": "code",
   "execution_count": 39,
   "metadata": {},
   "outputs": [],
   "source": [
    "#In this cell we set all the generating parameters to simulate the SI epidemics\n",
    "\n",
    "ε = 1e-10 # a small number that will be used later for e.g. autoinfection\n",
    "λ = 0.08 # infection rate \n",
    "pseed = 1/N #probability of being the zero patient\n",
    "autoinf = GaussianRate(ε, T/2, 1/ε) # autoinfection rate at nonzero times\n",
    "\n",
    "# the following is the gaussian representing the incoming infection. We fix it to 1\n",
    "# with average T/2 and std dev ≈ ∞\n",
    "inf_in = GaussianRate(1.0, T/2, 1/ε) \n",
    "\n",
    "# the following is the outgoing infection rate. The product of outgoing and incoming is the total infection. \n",
    "#Since the incoming is 1 and the ougoing is λ we have the desired infection\n",
    "#The reason why we build two quantities is for the inference part. The inf_in will play the role of the set of inference\n",
    "#parameters, while the inf_out is the generating model. See later.\n",
    "inf_out = GaussianRate(λ, T/2, 1/ε)\n",
    "#if you want to use a non markovian model, it is sufficient to impose a non constant rate, as: inf_out = GaussianRate(λ, 3.0, 1.0)\n",
    "#where for example we state that the peak of infectivity is after 3 unit times form infection with a fluctuation of 1 unit time.\n",
    "\n",
    "\n",
    "#We finally build the model parameters. We give the pseed, the autoinfection gaussian, the infection gaussian\n",
    "θp = getpar(pseed, autoinf, inf_in); #this is a 7 x N  matrix which plays an important role in inference. Not for simulation\n",
    "θpgen = getpargen(pseed, autoinf, inf_out); # this is a vector of 7 values which is the generative vactor of parameters"
   ]
  },
  {
   "cell_type": "code",
   "execution_count": 40,
   "metadata": {},
   "outputs": [],
   "source": [
    "#Initialize min/max boundaries\n",
    "T = Float64(T)\n",
    "pseed_min = ε\n",
    "pseed_max = 1-ε\n",
    "rate_min = GaussianRate(ε  ,  -T,   ε)\n",
    "rate_max = GaussianRate(1/ε  ,  2T,   1/ε)\n",
    "\n",
    "inf_min = GaussianRate(ε  ,  -T,   ε)\n",
    "inf_max = GaussianRate(1/ε  ,  2T, 1. )\n",
    "\n",
    "θmin = getpar(pseed_min , rate_min, rate_min);\n",
    "θmax = getpar(pseed_max , rate_max, rate_max);\n",
    "\n",
    "rate_min = GaussianRate(ε  ,  -T,   ε)\n",
    "rate_max = GaussianRate(1/ε  ,  T,   T)\n",
    "\n",
    "θgenmin = getpargen(pseed_min, rate_min, rate_min);\n",
    "θgenmax = getpargen(pseed_max, rate_max, rate_max);"
   ]
  },
  {
   "cell_type": "code",
   "execution_count": 41,
   "metadata": {},
   "outputs": [
    {
     "data": {
      "text/plain": [
       "GaussianInferentialSI"
      ]
     },
     "execution_count": 41,
     "metadata": {},
     "output_type": "execute_result"
    }
   ],
   "source": [
    "#this is to specify that the generative rates and inferential rates are gaussians\n",
    "const Igen = GenerativeSI{GaussianRate,GaussianRate} \n",
    "const Igauss = GaussianInferentialSI"
   ]
  },
  {
   "cell_type": "code",
   "execution_count": 43,
   "metadata": {},
   "outputs": [
    {
     "name": "stdout",
     "output_type": "stream",
     "text": [
      "Total fraction of infected at final time: 0.75\n"
     ]
    },
    {
     "data": {
      "image/svg+xml": [
       "<?xml version=\"1.0\" encoding=\"utf-8\"?>\n",
       "<svg xmlns=\"http://www.w3.org/2000/svg\" xmlns:xlink=\"http://www.w3.org/1999/xlink\" width=\"600\" height=\"400\" viewBox=\"0 0 2400 1600\">\n",
       "<defs>\n",
       "  <clipPath id=\"clip570\">\n",
       "    <rect x=\"0\" y=\"0\" width=\"2400\" height=\"1600\"/>\n",
       "  </clipPath>\n",
       "</defs>\n",
       "<path clip-path=\"url(#clip570)\" d=\"\n",
       "M0 1600 L2400 1600 L2400 0 L0 0  Z\n",
       "  \" fill=\"#ffffff\" fill-rule=\"evenodd\" fill-opacity=\"1\"/>\n",
       "<defs>\n",
       "  <clipPath id=\"clip571\">\n",
       "    <rect x=\"480\" y=\"0\" width=\"1681\" height=\"1600\"/>\n",
       "  </clipPath>\n",
       "</defs>\n",
       "<path clip-path=\"url(#clip570)\" d=\"\n",
       "M140.696 1486.45 L2352.76 1486.45 L2352.76 47.2441 L140.696 47.2441  Z\n",
       "  \" fill=\"#ffffff\" fill-rule=\"evenodd\" fill-opacity=\"1\"/>\n",
       "<defs>\n",
       "  <clipPath id=\"clip572\">\n",
       "    <rect x=\"140\" y=\"47\" width=\"2213\" height=\"1440\"/>\n",
       "  </clipPath>\n",
       "</defs>\n",
       "<polyline clip-path=\"url(#clip572)\" style=\"stroke:#000000; stroke-linecap:round; stroke-linejoin:round; stroke-width:2; stroke-opacity:0.1; fill:none\" points=\"\n",
       "  149.792,1486.45 149.792,47.2441 \n",
       "  \"/>\n",
       "<polyline clip-path=\"url(#clip572)\" style=\"stroke:#000000; stroke-linecap:round; stroke-linejoin:round; stroke-width:2; stroke-opacity:0.1; fill:none\" points=\"\n",
       "  684.882,1486.45 684.882,47.2441 \n",
       "  \"/>\n",
       "<polyline clip-path=\"url(#clip572)\" style=\"stroke:#000000; stroke-linecap:round; stroke-linejoin:round; stroke-width:2; stroke-opacity:0.1; fill:none\" points=\"\n",
       "  1219.97,1486.45 1219.97,47.2441 \n",
       "  \"/>\n",
       "<polyline clip-path=\"url(#clip572)\" style=\"stroke:#000000; stroke-linecap:round; stroke-linejoin:round; stroke-width:2; stroke-opacity:0.1; fill:none\" points=\"\n",
       "  1755.06,1486.45 1755.06,47.2441 \n",
       "  \"/>\n",
       "<polyline clip-path=\"url(#clip572)\" style=\"stroke:#000000; stroke-linecap:round; stroke-linejoin:round; stroke-width:2; stroke-opacity:0.1; fill:none\" points=\"\n",
       "  2290.15,1486.45 2290.15,47.2441 \n",
       "  \"/>\n",
       "<polyline clip-path=\"url(#clip570)\" style=\"stroke:#000000; stroke-linecap:round; stroke-linejoin:round; stroke-width:4; stroke-opacity:1; fill:none\" points=\"\n",
       "  140.696,1486.45 2352.76,1486.45 \n",
       "  \"/>\n",
       "<polyline clip-path=\"url(#clip570)\" style=\"stroke:#000000; stroke-linecap:round; stroke-linejoin:round; stroke-width:4; stroke-opacity:1; fill:none\" points=\"\n",
       "  149.792,1486.45 149.792,1467.55 \n",
       "  \"/>\n",
       "<polyline clip-path=\"url(#clip570)\" style=\"stroke:#000000; stroke-linecap:round; stroke-linejoin:round; stroke-width:4; stroke-opacity:1; fill:none\" points=\"\n",
       "  684.882,1486.45 684.882,1467.55 \n",
       "  \"/>\n",
       "<polyline clip-path=\"url(#clip570)\" style=\"stroke:#000000; stroke-linecap:round; stroke-linejoin:round; stroke-width:4; stroke-opacity:1; fill:none\" points=\"\n",
       "  1219.97,1486.45 1219.97,1467.55 \n",
       "  \"/>\n",
       "<polyline clip-path=\"url(#clip570)\" style=\"stroke:#000000; stroke-linecap:round; stroke-linejoin:round; stroke-width:4; stroke-opacity:1; fill:none\" points=\"\n",
       "  1755.06,1486.45 1755.06,1467.55 \n",
       "  \"/>\n",
       "<polyline clip-path=\"url(#clip570)\" style=\"stroke:#000000; stroke-linecap:round; stroke-linejoin:round; stroke-width:4; stroke-opacity:1; fill:none\" points=\"\n",
       "  2290.15,1486.45 2290.15,1467.55 \n",
       "  \"/>\n",
       "<path clip-path=\"url(#clip570)\" d=\"M149.792 1517.37 Q146.181 1517.37 144.352 1520.93 Q142.547 1524.47 142.547 1531.6 Q142.547 1538.71 144.352 1542.27 Q146.181 1545.82 149.792 1545.82 Q153.426 1545.82 155.232 1542.27 Q157.061 1538.71 157.061 1531.6 Q157.061 1524.47 155.232 1520.93 Q153.426 1517.37 149.792 1517.37 M149.792 1513.66 Q155.602 1513.66 158.658 1518.27 Q161.736 1522.85 161.736 1531.6 Q161.736 1540.33 158.658 1544.94 Q155.602 1549.52 149.792 1549.52 Q143.982 1549.52 140.903 1544.94 Q137.848 1540.33 137.848 1531.6 Q137.848 1522.85 140.903 1518.27 Q143.982 1513.66 149.792 1513.66 Z\" fill=\"#000000\" fill-rule=\"evenodd\" fill-opacity=\"1\" /><path clip-path=\"url(#clip570)\" d=\"M659.569 1544.91 L667.208 1544.91 L667.208 1518.55 L658.898 1520.21 L658.898 1515.95 L667.162 1514.29 L671.838 1514.29 L671.838 1544.91 L679.477 1544.91 L679.477 1548.85 L659.569 1548.85 L659.569 1544.91 Z\" fill=\"#000000\" fill-rule=\"evenodd\" fill-opacity=\"1\" /><path clip-path=\"url(#clip570)\" d=\"M698.921 1517.37 Q695.31 1517.37 693.481 1520.93 Q691.676 1524.47 691.676 1531.6 Q691.676 1538.71 693.481 1542.27 Q695.31 1545.82 698.921 1545.82 Q702.555 1545.82 704.361 1542.27 Q706.189 1538.71 706.189 1531.6 Q706.189 1524.47 704.361 1520.93 Q702.555 1517.37 698.921 1517.37 M698.921 1513.66 Q704.731 1513.66 707.787 1518.27 Q710.865 1522.85 710.865 1531.6 Q710.865 1540.33 707.787 1544.94 Q704.731 1549.52 698.921 1549.52 Q693.111 1549.52 690.032 1544.94 Q686.977 1540.33 686.977 1531.6 Q686.977 1522.85 690.032 1518.27 Q693.111 1513.66 698.921 1513.66 Z\" fill=\"#000000\" fill-rule=\"evenodd\" fill-opacity=\"1\" /><path clip-path=\"url(#clip570)\" d=\"M1198.74 1544.91 L1215.06 1544.91 L1215.06 1548.85 L1193.12 1548.85 L1193.12 1544.91 Q1195.78 1542.16 1200.36 1537.53 Q1204.97 1532.88 1206.15 1531.53 Q1208.4 1529.01 1209.28 1527.27 Q1210.18 1525.51 1210.18 1523.82 Q1210.18 1521.07 1208.24 1519.33 Q1206.31 1517.6 1203.21 1517.6 Q1201.01 1517.6 1198.56 1518.36 Q1196.13 1519.13 1193.35 1520.68 L1193.35 1515.95 Q1196.18 1514.82 1198.63 1514.24 Q1201.08 1513.66 1203.12 1513.66 Q1208.49 1513.66 1211.68 1516.35 Q1214.88 1519.03 1214.88 1523.52 Q1214.88 1525.65 1214.07 1527.57 Q1213.28 1529.47 1211.17 1532.07 Q1210.6 1532.74 1207.49 1535.95 Q1204.39 1539.15 1198.74 1544.91 Z\" fill=\"#000000\" fill-rule=\"evenodd\" fill-opacity=\"1\" /><path clip-path=\"url(#clip570)\" d=\"M1234.88 1517.37 Q1231.27 1517.37 1229.44 1520.93 Q1227.63 1524.47 1227.63 1531.6 Q1227.63 1538.71 1229.44 1542.27 Q1231.27 1545.82 1234.88 1545.82 Q1238.51 1545.82 1240.32 1542.27 Q1242.15 1538.71 1242.15 1531.6 Q1242.15 1524.47 1240.32 1520.93 Q1238.51 1517.37 1234.88 1517.37 M1234.88 1513.66 Q1240.69 1513.66 1243.74 1518.27 Q1246.82 1522.85 1246.82 1531.6 Q1246.82 1540.33 1243.74 1544.94 Q1240.69 1549.52 1234.88 1549.52 Q1229.07 1549.52 1225.99 1544.94 Q1222.93 1540.33 1222.93 1531.6 Q1222.93 1522.85 1225.99 1518.27 Q1229.07 1513.66 1234.88 1513.66 Z\" fill=\"#000000\" fill-rule=\"evenodd\" fill-opacity=\"1\" /><path clip-path=\"url(#clip570)\" d=\"M1743.9 1530.21 Q1747.26 1530.93 1749.13 1533.2 Q1751.03 1535.47 1751.03 1538.8 Q1751.03 1543.92 1747.51 1546.72 Q1744 1549.52 1737.51 1549.52 Q1735.34 1549.52 1733.02 1549.08 Q1730.73 1548.66 1728.28 1547.81 L1728.28 1543.29 Q1730.22 1544.43 1732.54 1545.01 Q1734.85 1545.58 1737.38 1545.58 Q1741.77 1545.58 1744.07 1543.85 Q1746.38 1542.11 1746.38 1538.8 Q1746.38 1535.75 1744.23 1534.03 Q1742.1 1532.3 1738.28 1532.3 L1734.25 1532.3 L1734.25 1528.45 L1738.46 1528.45 Q1741.91 1528.45 1743.74 1527.09 Q1745.57 1525.7 1745.57 1523.11 Q1745.57 1520.45 1743.67 1519.03 Q1741.8 1517.6 1738.28 1517.6 Q1736.36 1517.6 1734.16 1518.01 Q1731.96 1518.43 1729.32 1519.31 L1729.32 1515.14 Q1731.98 1514.4 1734.3 1514.03 Q1736.64 1513.66 1738.7 1513.66 Q1744.02 1513.66 1747.12 1516.09 Q1750.22 1518.5 1750.22 1522.62 Q1750.22 1525.49 1748.58 1527.48 Q1746.94 1529.45 1743.9 1530.21 Z\" fill=\"#000000\" fill-rule=\"evenodd\" fill-opacity=\"1\" /><path clip-path=\"url(#clip570)\" d=\"M1769.9 1517.37 Q1766.29 1517.37 1764.46 1520.93 Q1762.65 1524.47 1762.65 1531.6 Q1762.65 1538.71 1764.46 1542.27 Q1766.29 1545.82 1769.9 1545.82 Q1773.53 1545.82 1775.34 1542.27 Q1777.17 1538.71 1777.17 1531.6 Q1777.17 1524.47 1775.34 1520.93 Q1773.53 1517.37 1769.9 1517.37 M1769.9 1513.66 Q1775.71 1513.66 1778.76 1518.27 Q1781.84 1522.85 1781.84 1531.6 Q1781.84 1540.33 1778.76 1544.94 Q1775.71 1549.52 1769.9 1549.52 Q1764.09 1549.52 1761.01 1544.94 Q1757.95 1540.33 1757.95 1531.6 Q1757.95 1522.85 1761.01 1518.27 Q1764.09 1513.66 1769.9 1513.66 Z\" fill=\"#000000\" fill-rule=\"evenodd\" fill-opacity=\"1\" /><path clip-path=\"url(#clip570)\" d=\"M2278.32 1518.36 L2266.52 1536.81 L2278.32 1536.81 L2278.32 1518.36 M2277.09 1514.29 L2282.97 1514.29 L2282.97 1536.81 L2287.91 1536.81 L2287.91 1540.7 L2282.97 1540.7 L2282.97 1548.85 L2278.32 1548.85 L2278.32 1540.7 L2262.72 1540.7 L2262.72 1536.19 L2277.09 1514.29 Z\" fill=\"#000000\" fill-rule=\"evenodd\" fill-opacity=\"1\" /><path clip-path=\"url(#clip570)\" d=\"M2305.64 1517.37 Q2302.03 1517.37 2300.2 1520.93 Q2298.39 1524.47 2298.39 1531.6 Q2298.39 1538.71 2300.2 1542.27 Q2302.03 1545.82 2305.64 1545.82 Q2309.27 1545.82 2311.08 1542.27 Q2312.9 1538.71 2312.9 1531.6 Q2312.9 1524.47 2311.08 1520.93 Q2309.27 1517.37 2305.64 1517.37 M2305.64 1513.66 Q2311.45 1513.66 2314.5 1518.27 Q2317.58 1522.85 2317.58 1531.6 Q2317.58 1540.33 2314.5 1544.94 Q2311.45 1549.52 2305.64 1549.52 Q2299.83 1549.52 2296.75 1544.94 Q2293.69 1540.33 2293.69 1531.6 Q2293.69 1522.85 2296.75 1518.27 Q2299.83 1513.66 2305.64 1513.66 Z\" fill=\"#000000\" fill-rule=\"evenodd\" fill-opacity=\"1\" /><polyline clip-path=\"url(#clip572)\" style=\"stroke:#000000; stroke-linecap:round; stroke-linejoin:round; stroke-width:2; stroke-opacity:0.1; fill:none\" points=\"\n",
       "  140.696,1445.72 2352.76,1445.72 \n",
       "  \"/>\n",
       "<polyline clip-path=\"url(#clip572)\" style=\"stroke:#000000; stroke-linecap:round; stroke-linejoin:round; stroke-width:2; stroke-opacity:0.1; fill:none\" points=\"\n",
       "  140.696,1106.28 2352.76,1106.28 \n",
       "  \"/>\n",
       "<polyline clip-path=\"url(#clip572)\" style=\"stroke:#000000; stroke-linecap:round; stroke-linejoin:round; stroke-width:2; stroke-opacity:0.1; fill:none\" points=\"\n",
       "  140.696,766.846 2352.76,766.846 \n",
       "  \"/>\n",
       "<polyline clip-path=\"url(#clip572)\" style=\"stroke:#000000; stroke-linecap:round; stroke-linejoin:round; stroke-width:2; stroke-opacity:0.1; fill:none\" points=\"\n",
       "  140.696,427.411 2352.76,427.411 \n",
       "  \"/>\n",
       "<polyline clip-path=\"url(#clip572)\" style=\"stroke:#000000; stroke-linecap:round; stroke-linejoin:round; stroke-width:2; stroke-opacity:0.1; fill:none\" points=\"\n",
       "  140.696,87.9763 2352.76,87.9763 \n",
       "  \"/>\n",
       "<polyline clip-path=\"url(#clip570)\" style=\"stroke:#000000; stroke-linecap:round; stroke-linejoin:round; stroke-width:4; stroke-opacity:1; fill:none\" points=\"\n",
       "  140.696,1486.45 140.696,47.2441 \n",
       "  \"/>\n",
       "<polyline clip-path=\"url(#clip570)\" style=\"stroke:#000000; stroke-linecap:round; stroke-linejoin:round; stroke-width:4; stroke-opacity:1; fill:none\" points=\"\n",
       "  140.696,1445.72 159.593,1445.72 \n",
       "  \"/>\n",
       "<polyline clip-path=\"url(#clip570)\" style=\"stroke:#000000; stroke-linecap:round; stroke-linejoin:round; stroke-width:4; stroke-opacity:1; fill:none\" points=\"\n",
       "  140.696,1106.28 159.593,1106.28 \n",
       "  \"/>\n",
       "<polyline clip-path=\"url(#clip570)\" style=\"stroke:#000000; stroke-linecap:round; stroke-linejoin:round; stroke-width:4; stroke-opacity:1; fill:none\" points=\"\n",
       "  140.696,766.846 159.593,766.846 \n",
       "  \"/>\n",
       "<polyline clip-path=\"url(#clip570)\" style=\"stroke:#000000; stroke-linecap:round; stroke-linejoin:round; stroke-width:4; stroke-opacity:1; fill:none\" points=\"\n",
       "  140.696,427.411 159.593,427.411 \n",
       "  \"/>\n",
       "<polyline clip-path=\"url(#clip570)\" style=\"stroke:#000000; stroke-linecap:round; stroke-linejoin:round; stroke-width:4; stroke-opacity:1; fill:none\" points=\"\n",
       "  140.696,87.9763 159.593,87.9763 \n",
       "  \"/>\n",
       "<path clip-path=\"url(#clip570)\" d=\"M92.7512 1431.51 Q89.1401 1431.51 87.3114 1435.08 Q85.5058 1438.62 85.5058 1445.75 Q85.5058 1452.86 87.3114 1456.42 Q89.1401 1459.96 92.7512 1459.96 Q96.3854 1459.96 98.1909 1456.42 Q100.02 1452.86 100.02 1445.75 Q100.02 1438.62 98.1909 1435.08 Q96.3854 1431.51 92.7512 1431.51 M92.7512 1427.81 Q98.5613 1427.81 101.617 1432.42 Q104.696 1437 104.696 1445.75 Q104.696 1454.48 101.617 1459.08 Q98.5613 1463.67 92.7512 1463.67 Q86.941 1463.67 83.8623 1459.08 Q80.8068 1454.48 80.8068 1445.75 Q80.8068 1437 83.8623 1432.42 Q86.941 1427.81 92.7512 1427.81 Z\" fill=\"#000000\" fill-rule=\"evenodd\" fill-opacity=\"1\" /><path clip-path=\"url(#clip570)\" d=\"M83.7929 1089 L102.149 1089 L102.149 1092.94 L88.0753 1092.94 L88.0753 1101.41 Q89.0938 1101.06 90.1123 1100.9 Q91.1308 1100.71 92.1493 1100.71 Q97.9363 1100.71 101.316 1103.89 Q104.696 1107.06 104.696 1112.47 Q104.696 1118.05 101.223 1121.15 Q97.7511 1124.23 91.4317 1124.23 Q89.2558 1124.23 86.9873 1123.86 Q84.7419 1123.49 82.3346 1122.75 L82.3346 1118.05 Q84.4179 1119.19 86.6401 1119.74 Q88.8623 1120.3 91.3391 1120.3 Q95.3437 1120.3 97.6817 1118.19 Q100.02 1116.08 100.02 1112.47 Q100.02 1108.86 97.6817 1106.76 Q95.3437 1104.65 91.3391 1104.65 Q89.4641 1104.65 87.5892 1105.07 Q85.7373 1105.48 83.7929 1106.36 L83.7929 1089 Z\" fill=\"#000000\" fill-rule=\"evenodd\" fill-opacity=\"1\" /><path clip-path=\"url(#clip570)\" d=\"M53.3995 780.191 L61.0384 780.191 L61.0384 753.825 L52.7282 755.492 L52.7282 751.233 L60.9921 749.566 L65.668 749.566 L65.668 780.191 L73.3068 780.191 L73.3068 784.126 L53.3995 784.126 L53.3995 780.191 Z\" fill=\"#000000\" fill-rule=\"evenodd\" fill-opacity=\"1\" /><path clip-path=\"url(#clip570)\" d=\"M92.7512 752.645 Q89.1401 752.645 87.3114 756.209 Q85.5058 759.751 85.5058 766.881 Q85.5058 773.987 87.3114 777.552 Q89.1401 781.094 92.7512 781.094 Q96.3854 781.094 98.1909 777.552 Q100.02 773.987 100.02 766.881 Q100.02 759.751 98.1909 756.209 Q96.3854 752.645 92.7512 752.645 M92.7512 748.941 Q98.5613 748.941 101.617 753.547 Q104.696 758.131 104.696 766.881 Q104.696 775.608 101.617 780.214 Q98.5613 784.797 92.7512 784.797 Q86.941 784.797 83.8623 780.214 Q80.8068 775.608 80.8068 766.881 Q80.8068 758.131 83.8623 753.547 Q86.941 748.941 92.7512 748.941 Z\" fill=\"#000000\" fill-rule=\"evenodd\" fill-opacity=\"1\" /><path clip-path=\"url(#clip570)\" d=\"M54.3949 440.756 L62.0337 440.756 L62.0337 414.39 L53.7236 416.057 L53.7236 411.798 L61.9874 410.131 L66.6633 410.131 L66.6633 440.756 L74.3022 440.756 L74.3022 444.691 L54.3949 444.691 L54.3949 440.756 Z\" fill=\"#000000\" fill-rule=\"evenodd\" fill-opacity=\"1\" /><path clip-path=\"url(#clip570)\" d=\"M83.7929 410.131 L102.149 410.131 L102.149 414.066 L88.0753 414.066 L88.0753 422.538 Q89.0938 422.191 90.1123 422.029 Q91.1308 421.844 92.1493 421.844 Q97.9363 421.844 101.316 425.015 Q104.696 428.187 104.696 433.603 Q104.696 439.182 101.223 442.284 Q97.7511 445.362 91.4317 445.362 Q89.2558 445.362 86.9873 444.992 Q84.7419 444.622 82.3346 443.881 L82.3346 439.182 Q84.4179 440.316 86.6401 440.872 Q88.8623 441.427 91.3391 441.427 Q95.3437 441.427 97.6817 439.321 Q100.02 437.214 100.02 433.603 Q100.02 429.992 97.6817 427.886 Q95.3437 425.779 91.3391 425.779 Q89.4641 425.779 87.5892 426.196 Q85.7373 426.613 83.7929 427.492 L83.7929 410.131 Z\" fill=\"#000000\" fill-rule=\"evenodd\" fill-opacity=\"1\" /><path clip-path=\"url(#clip570)\" d=\"M56.6171 101.321 L72.9365 101.321 L72.9365 105.256 L50.9921 105.256 L50.9921 101.321 Q53.6541 98.5665 58.2375 93.9369 Q62.8439 89.2841 64.0245 87.9416 Q66.2698 85.4184 67.1494 83.6823 Q68.0522 81.9231 68.0522 80.2333 Q68.0522 77.4786 66.1078 75.7425 Q64.1865 74.0064 61.0847 74.0064 Q58.8856 74.0064 56.4319 74.7703 Q54.0014 75.5342 51.2236 77.0851 L51.2236 72.3629 Q54.0477 71.2287 56.5014 70.65 Q58.955 70.0713 60.9921 70.0713 Q66.3624 70.0713 69.5568 72.7565 Q72.7513 75.4416 72.7513 79.9323 Q72.7513 82.062 71.9411 83.9832 Q71.1541 85.8814 69.0476 88.474 Q68.4689 89.1453 65.367 92.3628 Q62.2652 95.5573 56.6171 101.321 Z\" fill=\"#000000\" fill-rule=\"evenodd\" fill-opacity=\"1\" /><path clip-path=\"url(#clip570)\" d=\"M92.7512 73.775 Q89.1401 73.775 87.3114 77.3398 Q85.5058 80.8814 85.5058 88.011 Q85.5058 95.1174 87.3114 98.6822 Q89.1401 102.224 92.7512 102.224 Q96.3854 102.224 98.1909 98.6822 Q100.02 95.1174 100.02 88.011 Q100.02 80.8814 98.1909 77.3398 Q96.3854 73.775 92.7512 73.775 M92.7512 70.0713 Q98.5613 70.0713 101.617 74.6777 Q104.696 79.261 104.696 88.011 Q104.696 96.7378 101.617 101.344 Q98.5613 105.928 92.7512 105.928 Q86.941 105.928 83.8623 101.344 Q80.8068 96.7378 80.8068 88.011 Q80.8068 79.261 83.8623 74.6777 Q86.941 70.0713 92.7512 70.0713 Z\" fill=\"#000000\" fill-rule=\"evenodd\" fill-opacity=\"1\" /><circle clip-path=\"url(#clip572)\" cx=\"203.301\" cy=\"154.77\" r=\"14.4\" fill=\"#009af9\" fill-rule=\"evenodd\" fill-opacity=\"1\" stroke=\"#000000\" stroke-opacity=\"1\" stroke-width=\"3.2\"/>\n",
       "<circle clip-path=\"url(#clip572)\" cx=\"256.81\" cy=\"1071.53\" r=\"14.4\" fill=\"#009af9\" fill-rule=\"evenodd\" fill-opacity=\"1\" stroke=\"#000000\" stroke-opacity=\"1\" stroke-width=\"3.2\"/>\n",
       "<circle clip-path=\"url(#clip572)\" cx=\"310.319\" cy=\"339.016\" r=\"14.4\" fill=\"#009af9\" fill-rule=\"evenodd\" fill-opacity=\"1\" stroke=\"#000000\" stroke-opacity=\"1\" stroke-width=\"3.2\"/>\n",
       "<circle clip-path=\"url(#clip572)\" cx=\"363.828\" cy=\"957.014\" r=\"14.4\" fill=\"#009af9\" fill-rule=\"evenodd\" fill-opacity=\"1\" stroke=\"#000000\" stroke-opacity=\"1\" stroke-width=\"3.2\"/>\n",
       "<circle clip-path=\"url(#clip572)\" cx=\"417.337\" cy=\"87.9763\" r=\"14.4\" fill=\"#009af9\" fill-rule=\"evenodd\" fill-opacity=\"1\" stroke=\"#000000\" stroke-opacity=\"1\" stroke-width=\"3.2\"/>\n",
       "<circle clip-path=\"url(#clip572)\" cx=\"470.846\" cy=\"1445.72\" r=\"14.4\" fill=\"#009af9\" fill-rule=\"evenodd\" fill-opacity=\"1\" stroke=\"#000000\" stroke-opacity=\"1\" stroke-width=\"3.2\"/>\n",
       "<circle clip-path=\"url(#clip572)\" cx=\"524.355\" cy=\"87.9763\" r=\"14.4\" fill=\"#009af9\" fill-rule=\"evenodd\" fill-opacity=\"1\" stroke=\"#000000\" stroke-opacity=\"1\" stroke-width=\"3.2\"/>\n",
       "<circle clip-path=\"url(#clip572)\" cx=\"577.864\" cy=\"306.495\" r=\"14.4\" fill=\"#009af9\" fill-rule=\"evenodd\" fill-opacity=\"1\" stroke=\"#000000\" stroke-opacity=\"1\" stroke-width=\"3.2\"/>\n",
       "<circle clip-path=\"url(#clip572)\" cx=\"631.373\" cy=\"542.729\" r=\"14.4\" fill=\"#009af9\" fill-rule=\"evenodd\" fill-opacity=\"1\" stroke=\"#000000\" stroke-opacity=\"1\" stroke-width=\"3.2\"/>\n",
       "<circle clip-path=\"url(#clip572)\" cx=\"684.882\" cy=\"1036.97\" r=\"14.4\" fill=\"#009af9\" fill-rule=\"evenodd\" fill-opacity=\"1\" stroke=\"#000000\" stroke-opacity=\"1\" stroke-width=\"3.2\"/>\n",
       "<circle clip-path=\"url(#clip572)\" cx=\"738.391\" cy=\"929.457\" r=\"14.4\" fill=\"#009af9\" fill-rule=\"evenodd\" fill-opacity=\"1\" stroke=\"#000000\" stroke-opacity=\"1\" stroke-width=\"3.2\"/>\n",
       "<circle clip-path=\"url(#clip572)\" cx=\"791.9\" cy=\"329.013\" r=\"14.4\" fill=\"#009af9\" fill-rule=\"evenodd\" fill-opacity=\"1\" stroke=\"#000000\" stroke-opacity=\"1\" stroke-width=\"3.2\"/>\n",
       "<circle clip-path=\"url(#clip572)\" cx=\"845.409\" cy=\"528.301\" r=\"14.4\" fill=\"#009af9\" fill-rule=\"evenodd\" fill-opacity=\"1\" stroke=\"#000000\" stroke-opacity=\"1\" stroke-width=\"3.2\"/>\n",
       "<circle clip-path=\"url(#clip572)\" cx=\"898.917\" cy=\"87.9763\" r=\"14.4\" fill=\"#009af9\" fill-rule=\"evenodd\" fill-opacity=\"1\" stroke=\"#000000\" stroke-opacity=\"1\" stroke-width=\"3.2\"/>\n",
       "<circle clip-path=\"url(#clip572)\" cx=\"952.426\" cy=\"477.298\" r=\"14.4\" fill=\"#009af9\" fill-rule=\"evenodd\" fill-opacity=\"1\" stroke=\"#000000\" stroke-opacity=\"1\" stroke-width=\"3.2\"/>\n",
       "<circle clip-path=\"url(#clip572)\" cx=\"1005.94\" cy=\"1177.74\" r=\"14.4\" fill=\"#009af9\" fill-rule=\"evenodd\" fill-opacity=\"1\" stroke=\"#000000\" stroke-opacity=\"1\" stroke-width=\"3.2\"/>\n",
       "<circle clip-path=\"url(#clip572)\" cx=\"1059.44\" cy=\"87.9763\" r=\"14.4\" fill=\"#009af9\" fill-rule=\"evenodd\" fill-opacity=\"1\" stroke=\"#000000\" stroke-opacity=\"1\" stroke-width=\"3.2\"/>\n",
       "<circle clip-path=\"url(#clip572)\" cx=\"1112.95\" cy=\"1445.72\" r=\"14.4\" fill=\"#009af9\" fill-rule=\"evenodd\" fill-opacity=\"1\" stroke=\"#000000\" stroke-opacity=\"1\" stroke-width=\"3.2\"/>\n",
       "<circle clip-path=\"url(#clip572)\" cx=\"1166.46\" cy=\"101.613\" r=\"14.4\" fill=\"#009af9\" fill-rule=\"evenodd\" fill-opacity=\"1\" stroke=\"#000000\" stroke-opacity=\"1\" stroke-width=\"3.2\"/>\n",
       "<circle clip-path=\"url(#clip572)\" cx=\"1219.97\" cy=\"608.045\" r=\"14.4\" fill=\"#009af9\" fill-rule=\"evenodd\" fill-opacity=\"1\" stroke=\"#000000\" stroke-opacity=\"1\" stroke-width=\"3.2\"/>\n",
       "<circle clip-path=\"url(#clip572)\" cx=\"1273.48\" cy=\"99.4115\" r=\"14.4\" fill=\"#009af9\" fill-rule=\"evenodd\" fill-opacity=\"1\" stroke=\"#000000\" stroke-opacity=\"1\" stroke-width=\"3.2\"/>\n",
       "<circle clip-path=\"url(#clip572)\" cx=\"1326.99\" cy=\"87.9763\" r=\"14.4\" fill=\"#009af9\" fill-rule=\"evenodd\" fill-opacity=\"1\" stroke=\"#000000\" stroke-opacity=\"1\" stroke-width=\"3.2\"/>\n",
       "<circle clip-path=\"url(#clip572)\" cx=\"1380.5\" cy=\"1315.61\" r=\"14.4\" fill=\"#009af9\" fill-rule=\"evenodd\" fill-opacity=\"1\" stroke=\"#000000\" stroke-opacity=\"1\" stroke-width=\"3.2\"/>\n",
       "<circle clip-path=\"url(#clip572)\" cx=\"1434.01\" cy=\"87.9763\" r=\"14.4\" fill=\"#009af9\" fill-rule=\"evenodd\" fill-opacity=\"1\" stroke=\"#000000\" stroke-opacity=\"1\" stroke-width=\"3.2\"/>\n",
       "<circle clip-path=\"url(#clip572)\" cx=\"1487.52\" cy=\"87.9763\" r=\"14.4\" fill=\"#009af9\" fill-rule=\"evenodd\" fill-opacity=\"1\" stroke=\"#000000\" stroke-opacity=\"1\" stroke-width=\"3.2\"/>\n",
       "<circle clip-path=\"url(#clip572)\" cx=\"1541.02\" cy=\"1035.2\" r=\"14.4\" fill=\"#009af9\" fill-rule=\"evenodd\" fill-opacity=\"1\" stroke=\"#000000\" stroke-opacity=\"1\" stroke-width=\"3.2\"/>\n",
       "<circle clip-path=\"url(#clip572)\" cx=\"1594.53\" cy=\"87.9763\" r=\"14.4\" fill=\"#009af9\" fill-rule=\"evenodd\" fill-opacity=\"1\" stroke=\"#000000\" stroke-opacity=\"1\" stroke-width=\"3.2\"/>\n",
       "<circle clip-path=\"url(#clip572)\" cx=\"1648.04\" cy=\"1267.6\" r=\"14.4\" fill=\"#009af9\" fill-rule=\"evenodd\" fill-opacity=\"1\" stroke=\"#000000\" stroke-opacity=\"1\" stroke-width=\"3.2\"/>\n",
       "<circle clip-path=\"url(#clip572)\" cx=\"1701.55\" cy=\"162.945\" r=\"14.4\" fill=\"#009af9\" fill-rule=\"evenodd\" fill-opacity=\"1\" stroke=\"#000000\" stroke-opacity=\"1\" stroke-width=\"3.2\"/>\n",
       "<circle clip-path=\"url(#clip572)\" cx=\"1755.06\" cy=\"261.387\" r=\"14.4\" fill=\"#009af9\" fill-rule=\"evenodd\" fill-opacity=\"1\" stroke=\"#000000\" stroke-opacity=\"1\" stroke-width=\"3.2\"/>\n",
       "<circle clip-path=\"url(#clip572)\" cx=\"1808.57\" cy=\"855.652\" r=\"14.4\" fill=\"#009af9\" fill-rule=\"evenodd\" fill-opacity=\"1\" stroke=\"#000000\" stroke-opacity=\"1\" stroke-width=\"3.2\"/>\n",
       "<circle clip-path=\"url(#clip572)\" cx=\"1862.08\" cy=\"766.569\" r=\"14.4\" fill=\"#009af9\" fill-rule=\"evenodd\" fill-opacity=\"1\" stroke=\"#000000\" stroke-opacity=\"1\" stroke-width=\"3.2\"/>\n",
       "<circle clip-path=\"url(#clip572)\" cx=\"1915.59\" cy=\"1111.39\" r=\"14.4\" fill=\"#009af9\" fill-rule=\"evenodd\" fill-opacity=\"1\" stroke=\"#000000\" stroke-opacity=\"1\" stroke-width=\"3.2\"/>\n",
       "<circle clip-path=\"url(#clip572)\" cx=\"1969.1\" cy=\"1102.07\" r=\"14.4\" fill=\"#009af9\" fill-rule=\"evenodd\" fill-opacity=\"1\" stroke=\"#000000\" stroke-opacity=\"1\" stroke-width=\"3.2\"/>\n",
       "<circle clip-path=\"url(#clip572)\" cx=\"2022.61\" cy=\"1445.72\" r=\"14.4\" fill=\"#009af9\" fill-rule=\"evenodd\" fill-opacity=\"1\" stroke=\"#000000\" stroke-opacity=\"1\" stroke-width=\"3.2\"/>\n",
       "<circle clip-path=\"url(#clip572)\" cx=\"2076.11\" cy=\"230.849\" r=\"14.4\" fill=\"#009af9\" fill-rule=\"evenodd\" fill-opacity=\"1\" stroke=\"#000000\" stroke-opacity=\"1\" stroke-width=\"3.2\"/>\n",
       "<circle clip-path=\"url(#clip572)\" cx=\"2129.62\" cy=\"87.9763\" r=\"14.4\" fill=\"#009af9\" fill-rule=\"evenodd\" fill-opacity=\"1\" stroke=\"#000000\" stroke-opacity=\"1\" stroke-width=\"3.2\"/>\n",
       "<circle clip-path=\"url(#clip572)\" cx=\"2183.13\" cy=\"654.026\" r=\"14.4\" fill=\"#009af9\" fill-rule=\"evenodd\" fill-opacity=\"1\" stroke=\"#000000\" stroke-opacity=\"1\" stroke-width=\"3.2\"/>\n",
       "<circle clip-path=\"url(#clip572)\" cx=\"2236.64\" cy=\"1250.02\" r=\"14.4\" fill=\"#009af9\" fill-rule=\"evenodd\" fill-opacity=\"1\" stroke=\"#000000\" stroke-opacity=\"1\" stroke-width=\"3.2\"/>\n",
       "<circle clip-path=\"url(#clip572)\" cx=\"2290.15\" cy=\"87.9763\" r=\"14.4\" fill=\"#009af9\" fill-rule=\"evenodd\" fill-opacity=\"1\" stroke=\"#000000\" stroke-opacity=\"1\" stroke-width=\"3.2\"/>\n",
       "<path clip-path=\"url(#clip570)\" d=\"\n",
       "M214.431 1438.47 L488.067 1438.47 L488.067 1334.79 L214.431 1334.79  Z\n",
       "  \" fill=\"#ffffff\" fill-rule=\"evenodd\" fill-opacity=\"1\"/>\n",
       "<polyline clip-path=\"url(#clip570)\" style=\"stroke:#000000; stroke-linecap:round; stroke-linejoin:round; stroke-width:4; stroke-opacity:1; fill:none\" points=\"\n",
       "  214.431,1438.47 488.067,1438.47 488.067,1334.79 214.431,1334.79 214.431,1438.47 \n",
       "  \"/>\n",
       "<circle clip-path=\"url(#clip570)\" cx=\"312.745\" cy=\"1386.63\" r=\"23.04\" fill=\"#009af9\" fill-rule=\"evenodd\" fill-opacity=\"1\" stroke=\"#000000\" stroke-opacity=\"1\" stroke-width=\"5.12\"/>\n",
       "<path clip-path=\"url(#clip570)\" d=\"M424.901 1406.32 Q423.095 1410.95 421.382 1412.36 Q419.67 1413.78 416.799 1413.78 L413.396 1413.78 L413.396 1410.21 L415.896 1410.21 Q417.656 1410.21 418.628 1409.38 Q419.6 1408.54 420.781 1405.44 L421.545 1403.5 L411.058 1377.99 L415.572 1377.99 L423.674 1398.27 L431.776 1377.99 L436.29 1377.99 L424.901 1406.32 Z\" fill=\"#000000\" fill-rule=\"evenodd\" fill-opacity=\"1\" /><path clip-path=\"url(#clip570)\" d=\"M443.581 1399.98 L451.22 1399.98 L451.22 1373.61 L442.91 1375.28 L442.91 1371.02 L451.174 1369.35 L455.85 1369.35 L455.85 1399.98 L463.489 1399.98 L463.489 1403.91 L443.581 1403.91 L443.581 1399.98 Z\" fill=\"#000000\" fill-rule=\"evenodd\" fill-opacity=\"1\" /></svg>\n"
      ]
     },
     "execution_count": 43,
     "metadata": {},
     "output_type": "execute_result"
    }
   ],
   "source": [
    "# V is a vector containing the time interval of each contact in the graph\n",
    "# In this example we are studying a static graph so we set all the time intevals to be  [0,T]\n",
    "V = fill(MaskedRate(UnitRate(),Causality.intervalUnion(0,T)), ne(G));\n",
    "#We initialize the generative SI model\n",
    "Mp = StochasticModel(Igen, T, θp, G, θpgen, V);\n",
    "#We sample from the generative model a trajectory x\n",
    "sample! = Sampler(Mp);\n",
    "xtrue = zeros(N)\n",
    "sample!(xtrue)\n",
    "\n",
    "#We plot the infection time of each individual. If this time is T it means no infection happened\n",
    "println(\"Total fraction of infected at final time: \", sum(xtrue .< T)/N)\n",
    "scatter(xtrue)\n",
    "#scatter!(xtrue .+ 1)\n",
    "#scatter!(xtrue .- 1)"
   ]
  },
  {
   "cell_type": "markdown",
   "metadata": {
    "tags": []
   },
   "source": [
    "## Simulation of clinical tests"
   ]
  },
  {
   "cell_type": "code",
   "execution_count": 44,
   "metadata": {},
   "outputs": [],
   "source": [
    "# herer we fix the \n",
    "nobs = 35 #number of observations\n",
    "p = 1e-5 # false rate (noise of observations)\n",
    "O = [(ti = T; (i,xtrue[i] < ti,ti,p)) for i=1:nobs]; #array of all the observations"
   ]
  },
  {
   "cell_type": "markdown",
   "metadata": {
    "tags": []
   },
   "source": [
    "# Inference with CVA\n",
    "Here we use the observations in order to reconstruct the epidemics with the CVA method."
   ]
  },
  {
   "cell_type": "code",
   "execution_count": 45,
   "metadata": {},
   "outputs": [],
   "source": [
    "#Softened model.\n",
    "# Now we rebuild an auxiliary model which is the one we will use for inference\n",
    "ε = 2e-3 #This time the \"small number\" is higher in order to avoid numerical issues in gradient descent\n",
    "autoinf = GaussianRate(ε, T/2, T); #we initialize the autoinfeciton as before. \n",
    "θp2gen = getpargen(pseed, autoinf, inf_out);\n",
    "inf_in = GaussianRate(1., T/2, 3*T ); # the incoming infection is initialized to 1 but it will move in inference\n",
    "\n",
    "#notice that also the std deviations are smaller now.\n",
    "\n",
    "θp2 = getpar(pseed, autoinf, inf_in); #the softened generative model\n",
    "Mp2 = StochasticModel(Igen, T, θp2, G, θp2gen, V);"
   ]
  },
  {
   "cell_type": "code",
   "execution_count": 46,
   "metadata": {},
   "outputs": [],
   "source": [
    "θ = getpar(pseed, autoinf, inf_in); #this is the matrix of inference parameters\n",
    "autoinf = GaussianRate(1., T/2, T);\n",
    "M = StochasticModel(Igauss, T, θ, G, θp2gen, V);"
   ]
  },
  {
   "cell_type": "markdown",
   "metadata": {},
   "source": [
    "## The descent"
   ]
  },
  {
   "cell_type": "code",
   "execution_count": 47,
   "metadata": {
    "tags": []
   },
   "outputs": [
    {
     "name": "stderr",
     "output_type": "stream",
     "text": [
      "\u001b[32mProgress: 100%|█████████████████████████████████████████| Time: 0:00:05\u001b[39m\n",
      "\u001b[34m  F:  18.273598276209878\u001b[39m\n"
     ]
    }
   ],
   "source": [
    "# This is the crucial point. We do a descent to make M the most similar to Mp2.\n",
    "# Recall that Mp2 is a \"soft\" version of the TRUE stochastic model Mp with which we simulated the epidemics.\n",
    "# Recall that M is the effective stochastic model (the core of CVA) that approximates the posterior\n",
    "ProgressMeter.ijulia_behavior(:clear)\n",
    "F = descend!(Mp2, O; M=M, numsamples=500, numiters=50, \n",
    "         θmin=θmin, θmax=θmax,θgenmin=θgenmin, θgenmax=θgenmax, descender=SignDescender(0.1),\n",
    "         hyperdescender=SignDescender(0.));\n",
    "F = descend!(Mp2, O; M=M, numsamples=500, numiters=50, \n",
    "         θmin=θmin, θmax=θmax,θgenmin=θgenmin, θgenmax=θgenmax, descender=SignDescender(0.03),\n",
    "         hyperdescender=SignDescender(0.));"
   ]
  },
  {
   "cell_type": "code",
   "execution_count": 48,
   "metadata": {},
   "outputs": [
    {
     "name": "stderr",
     "output_type": "stream",
     "text": [
      "\u001b[32mProgress: 100%|█████████████████████████████████████████| Time: 0:00:00\u001b[39m\n"
     ]
    }
   ],
   "source": [
    "statscaunew = prior(M, numsamples=3000); #here we collect a set of independent parameters from the effective model M"
   ]
  },
  {
   "cell_type": "markdown",
   "metadata": {
    "tags": []
   },
   "source": [
    "# Comparison with other methods\n"
   ]
  },
  {
   "cell_type": "markdown",
   "metadata": {
    "tags": []
   },
   "source": [
    "## SoftMarg"
   ]
  },
  {
   "cell_type": "code",
   "execution_count": 49,
   "metadata": {},
   "outputs": [],
   "source": [
    "Osoft = [(o[1],o[2],o[3],p) for o in O];"
   ]
  },
  {
   "cell_type": "code",
   "execution_count": 50,
   "metadata": {},
   "outputs": [
    {
     "name": "stderr",
     "output_type": "stream",
     "text": [
      "\u001b[32mProgress: 100%|█████████████████████████████████████████| Time: 0:00:01\u001b[39m\n"
     ]
    }
   ],
   "source": [
    "stats, weights = softpostnoise(Mp, Osoft; numsamples=3 * 10^4);"
   ]
  },
  {
   "cell_type": "markdown",
   "metadata": {
    "tags": []
   },
   "source": [
    "## Sib"
   ]
  },
  {
   "cell_type": "code",
   "execution_count": 51,
   "metadata": {},
   "outputs": [
    {
     "data": {
      "text/plain": [
       "sibyl (generic function with 1 method)"
      ]
     },
     "execution_count": 51,
     "metadata": {},
     "output_type": "execute_result"
    }
   ],
   "source": [
    "using PyCall\n",
    "@pyimport sib\n",
    "function sibyl(N, T_cont, Λ, O, γ, λ ; dt=1/5, maxit = 400, tol = 1e-14)\n",
    "    \n",
    "    T = Int(round(T_cont / dt))\n",
    "    contacts = [(i-1,j-1,t, λ * dt) for t in 1:T for (j,i,v) in zip(findnz(Λ.A)...)];\n",
    "    obs = [[(i,-1,t) for t=1:T for i=0:N-1];\n",
    "           [(i-1,s,Int(round(t/dt))) for (i,s,t,p) in O]]\n",
    "    sort!(obs, lt=((i1,s1,t1),(i2,s2,t2))->(t1<t2))\n",
    "    prob_sus = 0.5\n",
    "    prob_seed=γ\n",
    "    pseed = prob_seed / (2 - prob_seed)\n",
    "    psus = prob_sus * (1 - pseed)\n",
    "    params = sib.Params(prob_r=sib.Exponential(mu=0), pseed=pseed, psus=psus,pautoinf=0)\n",
    "    f = sib.FactorGraph(contacts=contacts, observations=obs, params=params)\n",
    "    sib.iterate(f, maxit=maxit,tol=tol)\n",
    "    sib.iterate(f, maxit=maxit, damping=0.5, tol=tol)\n",
    "    sib.iterate(f, maxit=maxit, damping=0.9, tol=tol)\n",
    "    p_sib=[collect(n.bt) for n in f.nodes]\n",
    "    m_sib = zeros(N, T)\n",
    "    for i=1:N\n",
    "        m_sib[i,1] = p_sib[i][1] \n",
    "        for t=2:T\n",
    "            m_sib[i,t] = m_sib[i,t-1] + p_sib[i][t]\n",
    "        end\n",
    "    end \n",
    "    return m_sib\n",
    "end\n"
   ]
  },
  {
   "cell_type": "code",
   "execution_count": 52,
   "metadata": {},
   "outputs": [
    {
     "name": "stdout",
     "output_type": "stream",
     "text": [
      "sib.iterate(damp=0.0): 19/20 6.641e-03/1e-07      \n",
      "sib.iterate(damp=0.5): 19/20 7.211e-04/1e-07      \n",
      "2.0058131217956543.9): 19/20 3.380e-04/1e-07      \n",
      "\n"
     ]
    }
   ],
   "source": [
    "a=time()\n",
    "dt = 1/4\n",
    "p_sib = sibyl(N, T, G, O, pseed, λ; dt=dt, maxit = 20, tol = 1e-7);\n",
    "b=time()\n",
    "println(b-a)"
   ]
  },
  {
   "cell_type": "markdown",
   "metadata": {
    "tags": []
   },
   "source": [
    "## Heuristic MF"
   ]
  },
  {
   "cell_type": "code",
   "execution_count": 53,
   "metadata": {},
   "outputs": [
    {
     "name": "stderr",
     "output_type": "stream",
     "text": [
      "\u001b[32mProgress: 100%|█████████████████████████████████████████| Time: 0:00:00\u001b[39m\n"
     ]
    }
   ],
   "source": [
    "using IntervalUnionArithmetic\n",
    "T = Float64(T)\n",
    "struct HeuristicSI <: SI end\n",
    "θp2gen = getpargen(pseed, autoinf, inf_out);\n",
    "maskauto = fill(intervalUnion(0., T),N)\n",
    "maskinf = fill(intervalUnion(0., T),N)\n",
    "θfrench = getpar(pseed, autoinf, inf_in);\n",
    "Causality.individual(M::StochasticModel{HeuristicSI}, i::Int, θi = @view(M.θ[:,i]), θg = M.θgen ) = \n",
    "@views IndividualSI(θi[1], \n",
    "    MaskedRate(GaussianRate(θi[2:4]...),maskauto[i]), \n",
    "    MaskedRate(UnitRate(),maskinf[i]), \n",
    "    GaussianRate(θg[5:7]...),)\n",
    "inf_start_time = T * ones(N)\n",
    "for o in O\n",
    "    if o[2] == 1\n",
    "        inf_start_time[o[1]] = min(inf_start_time[o[1]], o[3] - 5)\n",
    "        maskauto[o[1]] = maskauto[o[1]] ∩ intervalUnion(o[3]-5, T)       \n",
    "        θfrench[2,o[1]] = 10^10\n",
    "        θfrench[3,o[1]] = o[3] - 5\n",
    "        θfrench[4,o[1]] = 100 * T\n",
    "    elseif o[2] == 0\n",
    "        maskinf[o[1]] = maskinf[o[1]] ∩ intervalUnion(o[3], T)\n",
    "        maskauto[o[1]] = maskauto[o[1]] ∩ intervalUnion(o[3], T)\n",
    "        θfrench[1,o[1]] = 1e-10\n",
    "    end\n",
    "end\n",
    "for i=1:N\n",
    "    if inf_start_time[i] != T \n",
    "        maskauto[i] = maskauto[i] ∩ intervalUnion(inf_start_time[i], T)\n",
    "    end\n",
    "end\n",
    "Mfrench = StochasticModel(HeuristicSI, T, θfrench, G, θp2gen);\n",
    "statsfre = prior(Mfrench,numsamples=10000); "
   ]
  },
  {
   "cell_type": "code",
   "execution_count": 54,
   "metadata": {},
   "outputs": [
    {
     "data": {
      "text/plain": [
       "MF_heu (generic function with 1 method)"
      ]
     },
     "execution_count": 54,
     "metadata": {},
     "output_type": "execute_result"
    }
   ],
   "source": [
    "function MF_heu(N, T_cont, Λ, O, γ, λ ; dt=1/5, maxit = 400)\n",
    "    T = Int(round(T_cont / dt))\n",
    "    p_MF = zeros(N,T) #prob to be S\n",
    "    p_MF[:,1] .= 1 - γ \n",
    "    obs_I = [o[1] for o in O if o[2] == 1]\n",
    "    obs_S = [o[1] for o in O if o[2] == 0]\n",
    "    for st = 1:maxit\n",
    "        for t = 2:T\n",
    "            for i = 1:N\n",
    "                p_MF[i,t] = p_MF[i,t-1]\n",
    "                for j in collect(Causality.outedges(Λ,1))\n",
    "                    p_MF[i,t] *= 1 - λ*(1 - p_MF[j.dst,t-1])\n",
    "                end\n",
    "                if i in obs_I                    \n",
    "                    o = O[i]\n",
    "                    p_MF[i, Int(round((o[3]-5)/dt)) : end] .= 0\n",
    "                end\n",
    "                if i in obs_S\n",
    "                    o = O[i]\n",
    "                    p_MF[i, 1 : Int(round(o[3]/dt))] .= 1\n",
    "                end\n",
    "            end\n",
    "        end\n",
    "    end\n",
    "    return 1 .- p_MF\n",
    "end"
   ]
  },
  {
   "cell_type": "code",
   "execution_count": 55,
   "metadata": {},
   "outputs": [],
   "source": [
    "p_MF = MF_heu(N, T, G, [], 1/N, λ ; dt=dt, maxit = 100);"
   ]
  },
  {
   "cell_type": "markdown",
   "metadata": {
    "tags": []
   },
   "source": [
    "## Metropolis Monte Carlo"
   ]
  },
  {
   "cell_type": "code",
   "execution_count": 56,
   "metadata": {
    "tags": []
   },
   "outputs": [
    {
     "name": "stderr",
     "output_type": "stream",
     "text": [
      "\u001b[32mProgress: 100%|█████████████████████████████████████████| Time: 0:00:11\u001b[39m\n",
      "\u001b[34m  acc_ratio:  0.55\u001b[39m\n"
     ]
    }
   ],
   "source": [
    "K =  Causality.RectifiedGaussMove(4.0)\n",
    "#stats_mh = Causality.metropolis_sampling_parallel(Mp, O, K; numsamples = 10^3,numsteps=10^3,nfirst = 10^3)\n",
    "stats_mh = Causality.metropolis_sampling_sequential(Mp, O, K; numsamples = 5 * 10^2,numsteps=10^2,nfirst = 10^2);"
   ]
  },
  {
   "cell_type": "markdown",
   "metadata": {},
   "source": [
    "\n",
    "# Comparisons among methods: Marginals and ROC curve"
   ]
  },
  {
   "cell_type": "code",
   "execution_count": 57,
   "metadata": {},
   "outputs": [
    {
     "data": {
      "text/plain": [
       "AUROC (generic function with 1 method)"
      ]
     },
     "execution_count": 57,
     "metadata": {},
     "output_type": "execute_result"
    }
   ],
   "source": [
    "function marginal(i, t, stats)\n",
    "    numsamp = size(stats,1)\n",
    "    sum(stats[:,i] .< t)/numsamp\n",
    "end\n",
    "\n",
    "function reweighted_marginal(i, t, stats, weights)\n",
    "    numsamp = size(stats,1)\n",
    "    @assert numsamp == size(weights,1)\n",
    "    weights ./= maximum(weights)\n",
    "    sum(weights .* (stats[:,i] .< t))/sum(weights)\n",
    "end\n",
    "\n",
    "function tpr(xtrue, rank) \n",
    "    cumsum(xtrue[rank]) ./( cumsum(xtrue[rank])[end])\n",
    "end\n",
    "\n",
    "function fpr(xtrue, rank) \n",
    "    N = size(rank,1)\n",
    "    return (range(1,N,length=N) .- cumsum(xtrue[rank])) ./ (range(1,N,length=N) .- cumsum(xtrue[rank]) )[end]\n",
    "end\n",
    "\n",
    "function ROC(xtrue, p)\n",
    "    N = size(xtrue,1)\n",
    "    rank = sortperm(p, rev=true)\n",
    "    \n",
    "    return fpr(xtrue, rank) , tpr(xtrue, rank)\n",
    "end\n",
    "\n",
    "function AUROC(ROC)\n",
    "    N = size(ROC[1],1) \n",
    "    AU = 0\n",
    "    for t = 1:N-1\n",
    "        AU += ROC[2][t] * (ROC[1][t+1] - ROC[1][t])\n",
    "    end\n",
    "    return AU\n",
    "end"
   ]
  },
  {
   "cell_type": "code",
   "execution_count": 60,
   "metadata": {},
   "outputs": [
    {
     "data": {
      "image/svg+xml": [
       "<?xml version=\"1.0\" encoding=\"utf-8\"?>\n",
       "<svg xmlns=\"http://www.w3.org/2000/svg\" xmlns:xlink=\"http://www.w3.org/1999/xlink\" width=\"600\" height=\"400\" viewBox=\"0 0 2400 1600\">\n",
       "<defs>\n",
       "  <clipPath id=\"clip650\">\n",
       "    <rect x=\"0\" y=\"0\" width=\"2400\" height=\"1600\"/>\n",
       "  </clipPath>\n",
       "</defs>\n",
       "<path clip-path=\"url(#clip650)\" d=\"\n",
       "M0 1600 L2400 1600 L2400 0 L0 0  Z\n",
       "  \" fill=\"#ffffff\" fill-rule=\"evenodd\" fill-opacity=\"1\"/>\n",
       "<defs>\n",
       "  <clipPath id=\"clip651\">\n",
       "    <rect x=\"480\" y=\"0\" width=\"1681\" height=\"1600\"/>\n",
       "  </clipPath>\n",
       "</defs>\n",
       "<path clip-path=\"url(#clip650)\" d=\"\n",
       "M219.866 1423.18 L2352.76 1423.18 L2352.76 47.2441 L219.866 47.2441  Z\n",
       "  \" fill=\"#ffffff\" fill-rule=\"evenodd\" fill-opacity=\"1\"/>\n",
       "<defs>\n",
       "  <clipPath id=\"clip652\">\n",
       "    <rect x=\"219\" y=\"47\" width=\"2134\" height=\"1377\"/>\n",
       "  </clipPath>\n",
       "</defs>\n",
       "<polyline clip-path=\"url(#clip652)\" style=\"stroke:#000000; stroke-linecap:round; stroke-linejoin:round; stroke-width:2; stroke-opacity:0.1; fill:none\" points=\"\n",
       "  703.844,1423.18 703.844,47.2441 \n",
       "  \"/>\n",
       "<polyline clip-path=\"url(#clip652)\" style=\"stroke:#000000; stroke-linecap:round; stroke-linejoin:round; stroke-width:2; stroke-opacity:0.1; fill:none\" points=\"\n",
       "  1233.36,1423.18 1233.36,47.2441 \n",
       "  \"/>\n",
       "<polyline clip-path=\"url(#clip652)\" style=\"stroke:#000000; stroke-linecap:round; stroke-linejoin:round; stroke-width:2; stroke-opacity:0.1; fill:none\" points=\"\n",
       "  1762.88,1423.18 1762.88,47.2441 \n",
       "  \"/>\n",
       "<polyline clip-path=\"url(#clip652)\" style=\"stroke:#000000; stroke-linecap:round; stroke-linejoin:round; stroke-width:2; stroke-opacity:0.1; fill:none\" points=\"\n",
       "  2292.39,1423.18 2292.39,47.2441 \n",
       "  \"/>\n",
       "<polyline clip-path=\"url(#clip650)\" style=\"stroke:#000000; stroke-linecap:round; stroke-linejoin:round; stroke-width:4; stroke-opacity:1; fill:none\" points=\"\n",
       "  219.866,1423.18 2352.76,1423.18 \n",
       "  \"/>\n",
       "<polyline clip-path=\"url(#clip650)\" style=\"stroke:#000000; stroke-linecap:round; stroke-linejoin:round; stroke-width:4; stroke-opacity:1; fill:none\" points=\"\n",
       "  703.844,1423.18 703.844,1404.28 \n",
       "  \"/>\n",
       "<polyline clip-path=\"url(#clip650)\" style=\"stroke:#000000; stroke-linecap:round; stroke-linejoin:round; stroke-width:4; stroke-opacity:1; fill:none\" points=\"\n",
       "  1233.36,1423.18 1233.36,1404.28 \n",
       "  \"/>\n",
       "<polyline clip-path=\"url(#clip650)\" style=\"stroke:#000000; stroke-linecap:round; stroke-linejoin:round; stroke-width:4; stroke-opacity:1; fill:none\" points=\"\n",
       "  1762.88,1423.18 1762.88,1404.28 \n",
       "  \"/>\n",
       "<polyline clip-path=\"url(#clip650)\" style=\"stroke:#000000; stroke-linecap:round; stroke-linejoin:round; stroke-width:4; stroke-opacity:1; fill:none\" points=\"\n",
       "  2292.39,1423.18 2292.39,1404.28 \n",
       "  \"/>\n",
       "<path clip-path=\"url(#clip650)\" d=\"M694.122 1451.02 L712.478 1451.02 L712.478 1454.96 L698.404 1454.96 L698.404 1463.43 Q699.422 1463.08 700.441 1462.92 Q701.459 1462.73 702.478 1462.73 Q708.265 1462.73 711.645 1465.9 Q715.024 1469.08 715.024 1474.49 Q715.024 1480.07 711.552 1483.17 Q708.08 1486.25 701.76 1486.25 Q699.584 1486.25 697.316 1485.88 Q695.071 1485.51 692.663 1484.77 L692.663 1480.07 Q694.747 1481.2 696.969 1481.76 Q699.191 1482.32 701.668 1482.32 Q705.672 1482.32 708.01 1480.21 Q710.348 1478.1 710.348 1474.49 Q710.348 1470.88 708.01 1468.77 Q705.672 1466.67 701.668 1466.67 Q699.793 1466.67 697.918 1467.08 Q696.066 1467.5 694.122 1468.38 L694.122 1451.02 Z\" fill=\"#000000\" fill-rule=\"evenodd\" fill-opacity=\"1\" /><path clip-path=\"url(#clip650)\" d=\"M1208.05 1481.64 L1215.69 1481.64 L1215.69 1455.28 L1207.38 1456.95 L1207.38 1452.69 L1215.64 1451.02 L1220.32 1451.02 L1220.32 1481.64 L1227.95 1481.64 L1227.95 1485.58 L1208.05 1485.58 L1208.05 1481.64 Z\" fill=\"#000000\" fill-rule=\"evenodd\" fill-opacity=\"1\" /><path clip-path=\"url(#clip650)\" d=\"M1247.4 1454.1 Q1243.79 1454.1 1241.96 1457.66 Q1240.15 1461.2 1240.15 1468.33 Q1240.15 1475.44 1241.96 1479.01 Q1243.79 1482.55 1247.4 1482.55 Q1251.03 1482.55 1252.84 1479.01 Q1254.67 1475.44 1254.67 1468.33 Q1254.67 1461.2 1252.84 1457.66 Q1251.03 1454.1 1247.4 1454.1 M1247.4 1450.39 Q1253.21 1450.39 1256.26 1455 Q1259.34 1459.58 1259.34 1468.33 Q1259.34 1477.06 1256.26 1481.67 Q1253.21 1486.25 1247.4 1486.25 Q1241.59 1486.25 1238.51 1481.67 Q1235.45 1477.06 1235.45 1468.33 Q1235.45 1459.58 1238.51 1455 Q1241.59 1450.39 1247.4 1450.39 Z\" fill=\"#000000\" fill-rule=\"evenodd\" fill-opacity=\"1\" /><path clip-path=\"url(#clip650)\" d=\"M1738.06 1481.64 L1745.7 1481.64 L1745.7 1455.28 L1737.39 1456.95 L1737.39 1452.69 L1745.65 1451.02 L1750.33 1451.02 L1750.33 1481.64 L1757.97 1481.64 L1757.97 1485.58 L1738.06 1485.58 L1738.06 1481.64 Z\" fill=\"#000000\" fill-rule=\"evenodd\" fill-opacity=\"1\" /><path clip-path=\"url(#clip650)\" d=\"M1767.46 1451.02 L1785.81 1451.02 L1785.81 1454.96 L1771.74 1454.96 L1771.74 1463.43 Q1772.76 1463.08 1773.78 1462.92 Q1774.8 1462.73 1775.82 1462.73 Q1781.6 1462.73 1784.98 1465.9 Q1788.36 1469.08 1788.36 1474.49 Q1788.36 1480.07 1784.89 1483.17 Q1781.42 1486.25 1775.1 1486.25 Q1772.92 1486.25 1770.65 1485.88 Q1768.41 1485.51 1766 1484.77 L1766 1480.07 Q1768.08 1481.2 1770.31 1481.76 Q1772.53 1482.32 1775 1482.32 Q1779.01 1482.32 1781.35 1480.21 Q1783.69 1478.1 1783.69 1474.49 Q1783.69 1470.88 1781.35 1468.77 Q1779.01 1466.67 1775 1466.67 Q1773.13 1466.67 1771.25 1467.08 Q1769.4 1467.5 1767.46 1468.38 L1767.46 1451.02 Z\" fill=\"#000000\" fill-rule=\"evenodd\" fill-opacity=\"1\" /><path clip-path=\"url(#clip650)\" d=\"M2271.16 1481.64 L2287.48 1481.64 L2287.48 1485.58 L2265.54 1485.58 L2265.54 1481.64 Q2268.2 1478.89 2272.78 1474.26 Q2277.39 1469.61 2278.57 1468.27 Q2280.82 1465.74 2281.7 1464.01 Q2282.6 1462.25 2282.6 1460.56 Q2282.6 1457.8 2280.66 1456.07 Q2278.73 1454.33 2275.63 1454.33 Q2273.43 1454.33 2270.98 1455.09 Q2268.55 1455.86 2265.77 1457.41 L2265.77 1452.69 Q2268.59 1451.55 2271.05 1450.97 Q2273.5 1450.39 2275.54 1450.39 Q2280.91 1450.39 2284.1 1453.08 Q2287.3 1455.77 2287.3 1460.26 Q2287.3 1462.39 2286.49 1464.31 Q2285.7 1466.2 2283.59 1468.8 Q2283.02 1469.47 2279.91 1472.69 Q2276.81 1475.88 2271.16 1481.64 Z\" fill=\"#000000\" fill-rule=\"evenodd\" fill-opacity=\"1\" /><path clip-path=\"url(#clip650)\" d=\"M2307.3 1454.1 Q2303.69 1454.1 2301.86 1457.66 Q2300.05 1461.2 2300.05 1468.33 Q2300.05 1475.44 2301.86 1479.01 Q2303.69 1482.55 2307.3 1482.55 Q2310.93 1482.55 2312.74 1479.01 Q2314.57 1475.44 2314.57 1468.33 Q2314.57 1461.2 2312.74 1457.66 Q2310.93 1454.1 2307.3 1454.1 M2307.3 1450.39 Q2313.11 1450.39 2316.16 1455 Q2319.24 1459.58 2319.24 1468.33 Q2319.24 1477.06 2316.16 1481.67 Q2313.11 1486.25 2307.3 1486.25 Q2301.49 1486.25 2298.41 1481.67 Q2295.35 1477.06 2295.35 1468.33 Q2295.35 1459.58 2298.41 1455 Q2301.49 1450.39 2307.3 1450.39 Z\" fill=\"#000000\" fill-rule=\"evenodd\" fill-opacity=\"1\" /><path clip-path=\"url(#clip650)\" d=\"M1285.37 1522.27 L1285.37 1532.4 L1297.44 1532.4 L1297.44 1536.95 L1285.37 1536.95 L1285.37 1556.3 Q1285.37 1560.66 1286.55 1561.9 Q1287.76 1563.14 1291.42 1563.14 L1297.44 1563.14 L1297.44 1568.04 L1291.42 1568.04 Q1284.64 1568.04 1282.06 1565.53 Q1279.48 1562.98 1279.48 1556.3 L1279.48 1536.95 L1275.19 1536.95 L1275.19 1532.4 L1279.48 1532.4 L1279.48 1522.27 L1285.37 1522.27 Z\" fill=\"#000000\" fill-rule=\"evenodd\" fill-opacity=\"1\" /><polyline clip-path=\"url(#clip652)\" style=\"stroke:#000000; stroke-linecap:round; stroke-linejoin:round; stroke-width:2; stroke-opacity:0.1; fill:none\" points=\"\n",
       "  219.866,1316.93 2352.76,1316.93 \n",
       "  \"/>\n",
       "<polyline clip-path=\"url(#clip652)\" style=\"stroke:#000000; stroke-linecap:round; stroke-linejoin:round; stroke-width:2; stroke-opacity:0.1; fill:none\" points=\"\n",
       "  219.866,1111.81 2352.76,1111.81 \n",
       "  \"/>\n",
       "<polyline clip-path=\"url(#clip652)\" style=\"stroke:#000000; stroke-linecap:round; stroke-linejoin:round; stroke-width:2; stroke-opacity:0.1; fill:none\" points=\"\n",
       "  219.866,906.683 2352.76,906.683 \n",
       "  \"/>\n",
       "<polyline clip-path=\"url(#clip652)\" style=\"stroke:#000000; stroke-linecap:round; stroke-linejoin:round; stroke-width:2; stroke-opacity:0.1; fill:none\" points=\"\n",
       "  219.866,701.559 2352.76,701.559 \n",
       "  \"/>\n",
       "<polyline clip-path=\"url(#clip652)\" style=\"stroke:#000000; stroke-linecap:round; stroke-linejoin:round; stroke-width:2; stroke-opacity:0.1; fill:none\" points=\"\n",
       "  219.866,496.434 2352.76,496.434 \n",
       "  \"/>\n",
       "<polyline clip-path=\"url(#clip652)\" style=\"stroke:#000000; stroke-linecap:round; stroke-linejoin:round; stroke-width:2; stroke-opacity:0.1; fill:none\" points=\"\n",
       "  219.866,291.31 2352.76,291.31 \n",
       "  \"/>\n",
       "<polyline clip-path=\"url(#clip652)\" style=\"stroke:#000000; stroke-linecap:round; stroke-linejoin:round; stroke-width:2; stroke-opacity:0.1; fill:none\" points=\"\n",
       "  219.866,86.1857 2352.76,86.1857 \n",
       "  \"/>\n",
       "<polyline clip-path=\"url(#clip650)\" style=\"stroke:#000000; stroke-linecap:round; stroke-linejoin:round; stroke-width:4; stroke-opacity:1; fill:none\" points=\"\n",
       "  219.866,1423.18 219.866,47.2441 \n",
       "  \"/>\n",
       "<polyline clip-path=\"url(#clip650)\" style=\"stroke:#000000; stroke-linecap:round; stroke-linejoin:round; stroke-width:4; stroke-opacity:1; fill:none\" points=\"\n",
       "  219.866,1316.93 238.764,1316.93 \n",
       "  \"/>\n",
       "<polyline clip-path=\"url(#clip650)\" style=\"stroke:#000000; stroke-linecap:round; stroke-linejoin:round; stroke-width:4; stroke-opacity:1; fill:none\" points=\"\n",
       "  219.866,1111.81 238.764,1111.81 \n",
       "  \"/>\n",
       "<polyline clip-path=\"url(#clip650)\" style=\"stroke:#000000; stroke-linecap:round; stroke-linejoin:round; stroke-width:4; stroke-opacity:1; fill:none\" points=\"\n",
       "  219.866,906.683 238.764,906.683 \n",
       "  \"/>\n",
       "<polyline clip-path=\"url(#clip650)\" style=\"stroke:#000000; stroke-linecap:round; stroke-linejoin:round; stroke-width:4; stroke-opacity:1; fill:none\" points=\"\n",
       "  219.866,701.559 238.764,701.559 \n",
       "  \"/>\n",
       "<polyline clip-path=\"url(#clip650)\" style=\"stroke:#000000; stroke-linecap:round; stroke-linejoin:round; stroke-width:4; stroke-opacity:1; fill:none\" points=\"\n",
       "  219.866,496.434 238.764,496.434 \n",
       "  \"/>\n",
       "<polyline clip-path=\"url(#clip650)\" style=\"stroke:#000000; stroke-linecap:round; stroke-linejoin:round; stroke-width:4; stroke-opacity:1; fill:none\" points=\"\n",
       "  219.866,291.31 238.764,291.31 \n",
       "  \"/>\n",
       "<polyline clip-path=\"url(#clip650)\" style=\"stroke:#000000; stroke-linecap:round; stroke-linejoin:round; stroke-width:4; stroke-opacity:1; fill:none\" points=\"\n",
       "  219.866,86.1857 238.764,86.1857 \n",
       "  \"/>\n",
       "<path clip-path=\"url(#clip650)\" d=\"M126.205 1302.73 Q122.593 1302.73 120.765 1306.3 Q118.959 1309.84 118.959 1316.97 Q118.959 1324.07 120.765 1327.64 Q122.593 1331.18 126.205 1331.18 Q129.839 1331.18 131.644 1327.64 Q133.473 1324.07 133.473 1316.97 Q133.473 1309.84 131.644 1306.3 Q129.839 1302.73 126.205 1302.73 M126.205 1299.03 Q132.015 1299.03 135.07 1303.63 Q138.149 1308.22 138.149 1316.97 Q138.149 1325.69 135.07 1330.3 Q132.015 1334.88 126.205 1334.88 Q120.394 1334.88 117.316 1330.3 Q114.26 1325.69 114.26 1316.97 Q114.26 1308.22 117.316 1303.63 Q120.394 1299.03 126.205 1299.03 Z\" fill=\"#000000\" fill-rule=\"evenodd\" fill-opacity=\"1\" /><path clip-path=\"url(#clip650)\" d=\"M146.366 1328.33 L151.251 1328.33 L151.251 1334.21 L146.366 1334.21 L146.366 1328.33 Z\" fill=\"#000000\" fill-rule=\"evenodd\" fill-opacity=\"1\" /><path clip-path=\"url(#clip650)\" d=\"M174.283 1303.73 L162.477 1322.17 L174.283 1322.17 L174.283 1303.73 M173.056 1299.65 L178.936 1299.65 L178.936 1322.17 L183.866 1322.17 L183.866 1326.06 L178.936 1326.06 L178.936 1334.21 L174.283 1334.21 L174.283 1326.06 L158.681 1326.06 L158.681 1321.55 L173.056 1299.65 Z\" fill=\"#000000\" fill-rule=\"evenodd\" fill-opacity=\"1\" /><path clip-path=\"url(#clip650)\" d=\"M127.686 1097.61 Q124.075 1097.61 122.246 1101.17 Q120.441 1104.71 120.441 1111.84 Q120.441 1118.95 122.246 1122.51 Q124.075 1126.06 127.686 1126.06 Q131.32 1126.06 133.126 1122.51 Q134.954 1118.95 134.954 1111.84 Q134.954 1104.71 133.126 1101.17 Q131.32 1097.61 127.686 1097.61 M127.686 1093.9 Q133.496 1093.9 136.552 1098.51 Q139.63 1103.09 139.63 1111.84 Q139.63 1120.57 136.552 1125.18 Q133.496 1129.76 127.686 1129.76 Q121.876 1129.76 118.797 1125.18 Q115.742 1120.57 115.742 1111.84 Q115.742 1103.09 118.797 1098.51 Q121.876 1093.9 127.686 1093.9 Z\" fill=\"#000000\" fill-rule=\"evenodd\" fill-opacity=\"1\" /><path clip-path=\"url(#clip650)\" d=\"M147.848 1123.21 L152.732 1123.21 L152.732 1129.09 L147.848 1129.09 L147.848 1123.21 Z\" fill=\"#000000\" fill-rule=\"evenodd\" fill-opacity=\"1\" /><path clip-path=\"url(#clip650)\" d=\"M162.964 1094.53 L181.32 1094.53 L181.32 1098.46 L167.246 1098.46 L167.246 1106.93 Q168.264 1106.59 169.283 1106.43 Q170.302 1106.24 171.32 1106.24 Q177.107 1106.24 180.487 1109.41 Q183.866 1112.58 183.866 1118 Q183.866 1123.58 180.394 1126.68 Q176.922 1129.76 170.602 1129.76 Q168.427 1129.76 166.158 1129.39 Q163.913 1129.02 161.505 1128.28 L161.505 1123.58 Q163.589 1124.71 165.811 1125.27 Q168.033 1125.82 170.51 1125.82 Q174.514 1125.82 176.852 1123.72 Q179.19 1121.61 179.19 1118 Q179.19 1114.39 176.852 1112.28 Q174.514 1110.18 170.51 1110.18 Q168.635 1110.18 166.76 1110.59 Q164.908 1111.01 162.964 1111.89 L162.964 1094.53 Z\" fill=\"#000000\" fill-rule=\"evenodd\" fill-opacity=\"1\" /><path clip-path=\"url(#clip650)\" d=\"M126.529 892.482 Q122.918 892.482 121.089 896.047 Q119.283 899.588 119.283 906.718 Q119.283 913.824 121.089 917.389 Q122.918 920.931 126.529 920.931 Q130.163 920.931 131.968 917.389 Q133.797 913.824 133.797 906.718 Q133.797 899.588 131.968 896.047 Q130.163 892.482 126.529 892.482 M126.529 888.778 Q132.339 888.778 135.394 893.385 Q138.473 897.968 138.473 906.718 Q138.473 915.445 135.394 920.051 Q132.339 924.634 126.529 924.634 Q120.718 924.634 117.64 920.051 Q114.584 915.445 114.584 906.718 Q114.584 897.968 117.64 893.385 Q120.718 888.778 126.529 888.778 Z\" fill=\"#000000\" fill-rule=\"evenodd\" fill-opacity=\"1\" /><path clip-path=\"url(#clip650)\" d=\"M146.691 918.084 L151.575 918.084 L151.575 923.963 L146.691 923.963 L146.691 918.084 Z\" fill=\"#000000\" fill-rule=\"evenodd\" fill-opacity=\"1\" /><path clip-path=\"url(#clip650)\" d=\"M172.339 904.82 Q169.19 904.82 167.339 906.972 Q165.51 909.125 165.51 912.875 Q165.51 916.602 167.339 918.778 Q169.19 920.931 172.339 920.931 Q175.487 920.931 177.315 918.778 Q179.167 916.602 179.167 912.875 Q179.167 909.125 177.315 906.972 Q175.487 904.82 172.339 904.82 M181.621 890.167 L181.621 894.426 Q179.862 893.593 178.056 893.153 Q176.274 892.713 174.514 892.713 Q169.885 892.713 167.431 895.838 Q165.001 898.963 164.653 905.283 Q166.019 903.269 168.079 902.204 Q170.139 901.116 172.616 901.116 Q177.825 901.116 180.834 904.287 Q183.866 907.435 183.866 912.875 Q183.866 918.199 180.718 921.417 Q177.57 924.634 172.339 924.634 Q166.343 924.634 163.172 920.051 Q160.001 915.445 160.001 906.718 Q160.001 898.523 163.89 893.662 Q167.778 888.778 174.329 888.778 Q176.089 888.778 177.871 889.125 Q179.676 889.473 181.621 890.167 Z\" fill=\"#000000\" fill-rule=\"evenodd\" fill-opacity=\"1\" /><path clip-path=\"url(#clip650)\" d=\"M127.593 687.357 Q123.982 687.357 122.154 690.922 Q120.348 694.464 120.348 701.593 Q120.348 708.7 122.154 712.265 Q123.982 715.806 127.593 715.806 Q131.228 715.806 133.033 712.265 Q134.862 708.7 134.862 701.593 Q134.862 694.464 133.033 690.922 Q131.228 687.357 127.593 687.357 M127.593 683.654 Q133.404 683.654 136.459 688.26 Q139.538 692.844 139.538 701.593 Q139.538 710.32 136.459 714.927 Q133.404 719.51 127.593 719.51 Q121.783 719.51 118.705 714.927 Q115.649 710.32 115.649 701.593 Q115.649 692.844 118.705 688.26 Q121.783 683.654 127.593 683.654 Z\" fill=\"#000000\" fill-rule=\"evenodd\" fill-opacity=\"1\" /><path clip-path=\"url(#clip650)\" d=\"M147.755 712.959 L152.64 712.959 L152.64 718.839 L147.755 718.839 L147.755 712.959 Z\" fill=\"#000000\" fill-rule=\"evenodd\" fill-opacity=\"1\" /><path clip-path=\"url(#clip650)\" d=\"M161.644 684.279 L183.866 684.279 L183.866 686.269 L171.32 718.839 L166.436 718.839 L178.241 688.214 L161.644 688.214 L161.644 684.279 Z\" fill=\"#000000\" fill-rule=\"evenodd\" fill-opacity=\"1\" /><path clip-path=\"url(#clip650)\" d=\"M126.783 482.233 Q123.172 482.233 121.343 485.798 Q119.538 489.34 119.538 496.469 Q119.538 503.576 121.343 507.14 Q123.172 510.682 126.783 510.682 Q130.417 510.682 132.223 507.14 Q134.052 503.576 134.052 496.469 Q134.052 489.34 132.223 485.798 Q130.417 482.233 126.783 482.233 M126.783 478.529 Q132.593 478.529 135.649 483.136 Q138.728 487.719 138.728 496.469 Q138.728 505.196 135.649 509.802 Q132.593 514.386 126.783 514.386 Q120.973 514.386 117.894 509.802 Q114.839 505.196 114.839 496.469 Q114.839 487.719 117.894 483.136 Q120.973 478.529 126.783 478.529 Z\" fill=\"#000000\" fill-rule=\"evenodd\" fill-opacity=\"1\" /><path clip-path=\"url(#clip650)\" d=\"M146.945 507.835 L151.829 507.835 L151.829 513.714 L146.945 513.714 L146.945 507.835 Z\" fill=\"#000000\" fill-rule=\"evenodd\" fill-opacity=\"1\" /><path clip-path=\"url(#clip650)\" d=\"M172.014 497.302 Q168.681 497.302 166.76 499.085 Q164.862 500.867 164.862 503.992 Q164.862 507.117 166.76 508.9 Q168.681 510.682 172.014 510.682 Q175.348 510.682 177.269 508.9 Q179.19 507.094 179.19 503.992 Q179.19 500.867 177.269 499.085 Q175.371 497.302 172.014 497.302 M167.339 495.312 Q164.329 494.571 162.64 492.511 Q160.973 490.451 160.973 487.488 Q160.973 483.344 163.913 480.937 Q166.876 478.529 172.014 478.529 Q177.176 478.529 180.116 480.937 Q183.056 483.344 183.056 487.488 Q183.056 490.451 181.366 492.511 Q179.7 494.571 176.714 495.312 Q180.093 496.099 181.968 498.39 Q183.866 500.682 183.866 503.992 Q183.866 509.015 180.788 511.701 Q177.732 514.386 172.014 514.386 Q166.297 514.386 163.218 511.701 Q160.163 509.015 160.163 503.992 Q160.163 500.682 162.061 498.39 Q163.959 496.099 167.339 495.312 M165.626 487.927 Q165.626 490.613 167.292 492.117 Q168.982 493.622 172.014 493.622 Q175.024 493.622 176.714 492.117 Q178.426 490.613 178.426 487.927 Q178.426 485.242 176.714 483.738 Q175.024 482.233 172.014 482.233 Q168.982 482.233 167.292 483.738 Q165.626 485.242 165.626 487.927 Z\" fill=\"#000000\" fill-rule=\"evenodd\" fill-opacity=\"1\" /><path clip-path=\"url(#clip650)\" d=\"M126.876 277.109 Q123.265 277.109 121.436 280.674 Q119.63 284.215 119.63 291.345 Q119.63 298.451 121.436 302.016 Q123.265 305.558 126.876 305.558 Q130.51 305.558 132.316 302.016 Q134.144 298.451 134.144 291.345 Q134.144 284.215 132.316 280.674 Q130.51 277.109 126.876 277.109 M126.876 273.405 Q132.686 273.405 135.742 278.011 Q138.82 282.595 138.82 291.345 Q138.82 300.072 135.742 304.678 Q132.686 309.261 126.876 309.261 Q121.066 309.261 117.987 304.678 Q114.931 300.072 114.931 291.345 Q114.931 282.595 117.987 278.011 Q121.066 273.405 126.876 273.405 Z\" fill=\"#000000\" fill-rule=\"evenodd\" fill-opacity=\"1\" /><path clip-path=\"url(#clip650)\" d=\"M147.038 302.71 L151.922 302.71 L151.922 308.59 L147.038 308.59 L147.038 302.71 Z\" fill=\"#000000\" fill-rule=\"evenodd\" fill-opacity=\"1\" /><path clip-path=\"url(#clip650)\" d=\"M162.246 307.872 L162.246 303.613 Q164.005 304.447 165.811 304.886 Q167.616 305.326 169.352 305.326 Q173.982 305.326 176.413 302.224 Q178.866 299.099 179.214 292.757 Q177.871 294.748 175.811 295.812 Q173.751 296.877 171.251 296.877 Q166.065 296.877 163.033 293.752 Q160.024 290.604 160.024 285.164 Q160.024 279.84 163.172 276.623 Q166.32 273.405 171.552 273.405 Q177.547 273.405 180.695 278.011 Q183.866 282.595 183.866 291.345 Q183.866 299.516 179.977 304.4 Q176.112 309.261 169.561 309.261 Q167.802 309.261 165.996 308.914 Q164.19 308.567 162.246 307.872 M171.552 293.22 Q174.7 293.22 176.528 291.067 Q178.38 288.914 178.38 285.164 Q178.38 281.437 176.528 279.285 Q174.7 277.109 171.552 277.109 Q168.403 277.109 166.552 279.285 Q164.723 281.437 164.723 285.164 Q164.723 288.914 166.552 291.067 Q168.403 293.22 171.552 293.22 Z\" fill=\"#000000\" fill-rule=\"evenodd\" fill-opacity=\"1\" /><path clip-path=\"url(#clip650)\" d=\"M117.501 99.5305 L125.14 99.5305 L125.14 73.1649 L116.83 74.8316 L116.83 70.5723 L125.093 68.9057 L129.769 68.9057 L129.769 99.5305 L137.408 99.5305 L137.408 103.466 L117.501 103.466 L117.501 99.5305 Z\" fill=\"#000000\" fill-rule=\"evenodd\" fill-opacity=\"1\" /><path clip-path=\"url(#clip650)\" d=\"M146.853 97.5861 L151.737 97.5861 L151.737 103.466 L146.853 103.466 L146.853 97.5861 Z\" fill=\"#000000\" fill-rule=\"evenodd\" fill-opacity=\"1\" /><path clip-path=\"url(#clip650)\" d=\"M171.922 71.9844 Q168.311 71.9844 166.482 75.5492 Q164.677 79.0908 164.677 86.2204 Q164.677 93.3268 166.482 96.8916 Q168.311 100.433 171.922 100.433 Q175.556 100.433 177.362 96.8916 Q179.19 93.3268 179.19 86.2204 Q179.19 79.0908 177.362 75.5492 Q175.556 71.9844 171.922 71.9844 M171.922 68.2807 Q177.732 68.2807 180.788 72.8871 Q183.866 77.4704 183.866 86.2204 Q183.866 94.9472 180.788 99.5537 Q177.732 104.137 171.922 104.137 Q166.112 104.137 163.033 99.5537 Q159.978 94.9472 159.978 86.2204 Q159.978 77.4704 163.033 72.8871 Q166.112 68.2807 171.922 68.2807 Z\" fill=\"#000000\" fill-rule=\"evenodd\" fill-opacity=\"1\" /><path clip-path=\"url(#clip650)\" d=\"M22.818 780.329 L46.4666 789.05 L46.4666 771.576 L22.818 780.329 M16.4842 783.957 L16.4842 776.669 L64.0042 758.558 L64.0042 765.242 L51.8138 769.571 L51.8138 790.991 L64.0042 795.32 L64.0042 802.1 L16.4842 783.957 Z\" fill=\"#000000\" fill-rule=\"evenodd\" fill-opacity=\"1\" /><path clip-path=\"url(#clip650)\" d=\"M16.4842 752.352 L16.4842 745.89 L45.3526 745.89 Q52.9915 745.89 56.3653 743.121 Q59.7073 740.352 59.7073 734.146 Q59.7073 727.971 56.3653 725.202 Q52.9915 722.433 45.3526 722.433 L16.4842 722.433 L16.4842 715.972 L46.1484 715.972 Q55.4423 715.972 60.1847 720.587 Q64.9272 725.17 64.9272 734.146 Q64.9272 743.153 60.1847 747.768 Q55.4423 752.352 46.1484 752.352 L16.4842 752.352 Z\" fill=\"#000000\" fill-rule=\"evenodd\" fill-opacity=\"1\" /><path clip-path=\"url(#clip650)\" d=\"M20.1444 668.324 L26.9239 668.324 Q23.9002 671.571 22.4043 675.263 Q20.9083 678.923 20.9083 683.061 Q20.9083 691.209 25.9054 695.538 Q30.8707 699.866 40.2919 699.866 Q49.6813 699.866 54.6784 695.538 Q59.6436 691.209 59.6436 683.061 Q59.6436 678.923 58.1477 675.263 Q56.6518 671.571 53.6281 668.324 L60.3439 668.324 Q62.6355 671.698 63.7814 675.486 Q64.9272 679.241 64.9272 683.443 Q64.9272 694.233 58.3387 700.439 Q51.7183 706.646 40.2919 706.646 Q28.8336 706.646 22.2451 700.439 Q15.6248 694.233 15.6248 683.443 Q15.6248 679.178 16.7706 675.422 Q17.8846 671.634 20.1444 668.324 Z\" fill=\"#000000\" fill-rule=\"evenodd\" fill-opacity=\"1\" /><polyline clip-path=\"url(#clip652)\" style=\"stroke:#009af9; stroke-linecap:round; stroke-linejoin:round; stroke-width:12; stroke-opacity:1; fill:none\" points=\"\n",
       "  280.231,326.421 386.134,499.283 492.037,528.611 597.941,468.019 703.844,526.883 809.747,380.197 915.65,287.647 1021.55,266.515 1127.46,250.285 1233.36,239.345 \n",
       "  1339.26,171.654 1445.17,196.355 1551.07,179.424 1656.97,204.132 1762.88,189.005 1868.78,219.851 1974.68,246.439 2080.58,260.879 2186.49,179.69 2292.39,86.1857 \n",
       "  \n",
       "  \"/>\n",
       "<polyline clip-path=\"url(#clip652)\" style=\"stroke:#e26f46; stroke-linecap:round; stroke-linejoin:round; stroke-width:4; stroke-opacity:1; fill:none\" points=\"\n",
       "  280.231,843.852 386.134,741.444 492.037,810.154 597.941,672.255 703.844,671.111 809.747,571.647 915.65,446.374 1021.55,520.103 1127.46,469.084 1233.36,447.205 \n",
       "  1339.26,374.642 1445.17,348.493 1551.07,443.599 1656.97,557.972 1762.88,394.643 1868.78,332.952 1974.68,406.692 2080.58,413.032 2186.49,419.294 2292.39,229.773 \n",
       "  \n",
       "  \"/>\n",
       "<circle clip-path=\"url(#clip652)\" cx=\"280.231\" cy=\"843.852\" r=\"14.4\" fill=\"#e26f46\" fill-rule=\"evenodd\" fill-opacity=\"1\" stroke=\"#000000\" stroke-opacity=\"1\" stroke-width=\"3.2\"/>\n",
       "<circle clip-path=\"url(#clip652)\" cx=\"386.134\" cy=\"741.444\" r=\"14.4\" fill=\"#e26f46\" fill-rule=\"evenodd\" fill-opacity=\"1\" stroke=\"#000000\" stroke-opacity=\"1\" stroke-width=\"3.2\"/>\n",
       "<circle clip-path=\"url(#clip652)\" cx=\"492.037\" cy=\"810.154\" r=\"14.4\" fill=\"#e26f46\" fill-rule=\"evenodd\" fill-opacity=\"1\" stroke=\"#000000\" stroke-opacity=\"1\" stroke-width=\"3.2\"/>\n",
       "<circle clip-path=\"url(#clip652)\" cx=\"597.941\" cy=\"672.255\" r=\"14.4\" fill=\"#e26f46\" fill-rule=\"evenodd\" fill-opacity=\"1\" stroke=\"#000000\" stroke-opacity=\"1\" stroke-width=\"3.2\"/>\n",
       "<circle clip-path=\"url(#clip652)\" cx=\"703.844\" cy=\"671.111\" r=\"14.4\" fill=\"#e26f46\" fill-rule=\"evenodd\" fill-opacity=\"1\" stroke=\"#000000\" stroke-opacity=\"1\" stroke-width=\"3.2\"/>\n",
       "<circle clip-path=\"url(#clip652)\" cx=\"809.747\" cy=\"571.647\" r=\"14.4\" fill=\"#e26f46\" fill-rule=\"evenodd\" fill-opacity=\"1\" stroke=\"#000000\" stroke-opacity=\"1\" stroke-width=\"3.2\"/>\n",
       "<circle clip-path=\"url(#clip652)\" cx=\"915.65\" cy=\"446.374\" r=\"14.4\" fill=\"#e26f46\" fill-rule=\"evenodd\" fill-opacity=\"1\" stroke=\"#000000\" stroke-opacity=\"1\" stroke-width=\"3.2\"/>\n",
       "<circle clip-path=\"url(#clip652)\" cx=\"1021.55\" cy=\"520.103\" r=\"14.4\" fill=\"#e26f46\" fill-rule=\"evenodd\" fill-opacity=\"1\" stroke=\"#000000\" stroke-opacity=\"1\" stroke-width=\"3.2\"/>\n",
       "<circle clip-path=\"url(#clip652)\" cx=\"1127.46\" cy=\"469.084\" r=\"14.4\" fill=\"#e26f46\" fill-rule=\"evenodd\" fill-opacity=\"1\" stroke=\"#000000\" stroke-opacity=\"1\" stroke-width=\"3.2\"/>\n",
       "<circle clip-path=\"url(#clip652)\" cx=\"1233.36\" cy=\"447.205\" r=\"14.4\" fill=\"#e26f46\" fill-rule=\"evenodd\" fill-opacity=\"1\" stroke=\"#000000\" stroke-opacity=\"1\" stroke-width=\"3.2\"/>\n",
       "<circle clip-path=\"url(#clip652)\" cx=\"1339.26\" cy=\"374.642\" r=\"14.4\" fill=\"#e26f46\" fill-rule=\"evenodd\" fill-opacity=\"1\" stroke=\"#000000\" stroke-opacity=\"1\" stroke-width=\"3.2\"/>\n",
       "<circle clip-path=\"url(#clip652)\" cx=\"1445.17\" cy=\"348.493\" r=\"14.4\" fill=\"#e26f46\" fill-rule=\"evenodd\" fill-opacity=\"1\" stroke=\"#000000\" stroke-opacity=\"1\" stroke-width=\"3.2\"/>\n",
       "<circle clip-path=\"url(#clip652)\" cx=\"1551.07\" cy=\"443.599\" r=\"14.4\" fill=\"#e26f46\" fill-rule=\"evenodd\" fill-opacity=\"1\" stroke=\"#000000\" stroke-opacity=\"1\" stroke-width=\"3.2\"/>\n",
       "<circle clip-path=\"url(#clip652)\" cx=\"1656.97\" cy=\"557.972\" r=\"14.4\" fill=\"#e26f46\" fill-rule=\"evenodd\" fill-opacity=\"1\" stroke=\"#000000\" stroke-opacity=\"1\" stroke-width=\"3.2\"/>\n",
       "<circle clip-path=\"url(#clip652)\" cx=\"1762.88\" cy=\"394.643\" r=\"14.4\" fill=\"#e26f46\" fill-rule=\"evenodd\" fill-opacity=\"1\" stroke=\"#000000\" stroke-opacity=\"1\" stroke-width=\"3.2\"/>\n",
       "<circle clip-path=\"url(#clip652)\" cx=\"1868.78\" cy=\"332.952\" r=\"14.4\" fill=\"#e26f46\" fill-rule=\"evenodd\" fill-opacity=\"1\" stroke=\"#000000\" stroke-opacity=\"1\" stroke-width=\"3.2\"/>\n",
       "<circle clip-path=\"url(#clip652)\" cx=\"1974.68\" cy=\"406.692\" r=\"14.4\" fill=\"#e26f46\" fill-rule=\"evenodd\" fill-opacity=\"1\" stroke=\"#000000\" stroke-opacity=\"1\" stroke-width=\"3.2\"/>\n",
       "<circle clip-path=\"url(#clip652)\" cx=\"2080.58\" cy=\"413.032\" r=\"14.4\" fill=\"#e26f46\" fill-rule=\"evenodd\" fill-opacity=\"1\" stroke=\"#000000\" stroke-opacity=\"1\" stroke-width=\"3.2\"/>\n",
       "<circle clip-path=\"url(#clip652)\" cx=\"2186.49\" cy=\"419.294\" r=\"14.4\" fill=\"#e26f46\" fill-rule=\"evenodd\" fill-opacity=\"1\" stroke=\"#000000\" stroke-opacity=\"1\" stroke-width=\"3.2\"/>\n",
       "<circle clip-path=\"url(#clip652)\" cx=\"2292.39\" cy=\"229.773\" r=\"14.4\" fill=\"#e26f46\" fill-rule=\"evenodd\" fill-opacity=\"1\" stroke=\"#000000\" stroke-opacity=\"1\" stroke-width=\"3.2\"/>\n",
       "<polyline clip-path=\"url(#clip652)\" style=\"stroke:#3da44d; stroke-linecap:round; stroke-linejoin:round; stroke-width:4; stroke-opacity:1; fill:none\" points=\"\n",
       "  280.231,973.21 386.134,1026.34 492.037,779.989 597.941,840.972 703.844,943.541 809.747,893.008 915.65,885.926 1021.55,903.302 1127.46,944.973 1233.36,955.913 \n",
       "  1339.26,994.288 1445.17,883.6 1551.07,894.251 1656.97,1004.12 1762.88,929.303 1868.78,667.114 1974.68,422.718 2080.58,435.573 2186.49,413.45 2292.39,99.8606 \n",
       "  \n",
       "  \"/>\n",
       "<path clip-path=\"url(#clip652)\" d=\"M280.231 957.21 L264.231 989.21 L296.231 989.21 L280.231 957.21 Z\" fill=\"#3da44d\" fill-rule=\"evenodd\" fill-opacity=\"1\" stroke=\"#000000\" stroke-opacity=\"1\" stroke-width=\"3.2\"/>\n",
       "<path clip-path=\"url(#clip652)\" d=\"M386.134 1010.34 L370.134 1042.34 L402.134 1042.34 L386.134 1010.34 Z\" fill=\"#3da44d\" fill-rule=\"evenodd\" fill-opacity=\"1\" stroke=\"#000000\" stroke-opacity=\"1\" stroke-width=\"3.2\"/>\n",
       "<path clip-path=\"url(#clip652)\" d=\"M492.037 763.989 L476.037 795.989 L508.037 795.989 L492.037 763.989 Z\" fill=\"#3da44d\" fill-rule=\"evenodd\" fill-opacity=\"1\" stroke=\"#000000\" stroke-opacity=\"1\" stroke-width=\"3.2\"/>\n",
       "<path clip-path=\"url(#clip652)\" d=\"M597.941 824.972 L581.941 856.972 L613.941 856.972 L597.941 824.972 Z\" fill=\"#3da44d\" fill-rule=\"evenodd\" fill-opacity=\"1\" stroke=\"#000000\" stroke-opacity=\"1\" stroke-width=\"3.2\"/>\n",
       "<path clip-path=\"url(#clip652)\" d=\"M703.844 927.541 L687.844 959.541 L719.844 959.541 L703.844 927.541 Z\" fill=\"#3da44d\" fill-rule=\"evenodd\" fill-opacity=\"1\" stroke=\"#000000\" stroke-opacity=\"1\" stroke-width=\"3.2\"/>\n",
       "<path clip-path=\"url(#clip652)\" d=\"M809.747 877.008 L793.747 909.008 L825.747 909.008 L809.747 877.008 Z\" fill=\"#3da44d\" fill-rule=\"evenodd\" fill-opacity=\"1\" stroke=\"#000000\" stroke-opacity=\"1\" stroke-width=\"3.2\"/>\n",
       "<path clip-path=\"url(#clip652)\" d=\"M915.65 869.926 L899.65 901.926 L931.65 901.926 L915.65 869.926 Z\" fill=\"#3da44d\" fill-rule=\"evenodd\" fill-opacity=\"1\" stroke=\"#000000\" stroke-opacity=\"1\" stroke-width=\"3.2\"/>\n",
       "<path clip-path=\"url(#clip652)\" d=\"M1021.55 887.302 L1005.55 919.302 L1037.55 919.302 L1021.55 887.302 Z\" fill=\"#3da44d\" fill-rule=\"evenodd\" fill-opacity=\"1\" stroke=\"#000000\" stroke-opacity=\"1\" stroke-width=\"3.2\"/>\n",
       "<path clip-path=\"url(#clip652)\" d=\"M1127.46 928.973 L1111.46 960.973 L1143.46 960.973 L1127.46 928.973 Z\" fill=\"#3da44d\" fill-rule=\"evenodd\" fill-opacity=\"1\" stroke=\"#000000\" stroke-opacity=\"1\" stroke-width=\"3.2\"/>\n",
       "<path clip-path=\"url(#clip652)\" d=\"M1233.36 939.913 L1217.36 971.913 L1249.36 971.913 L1233.36 939.913 Z\" fill=\"#3da44d\" fill-rule=\"evenodd\" fill-opacity=\"1\" stroke=\"#000000\" stroke-opacity=\"1\" stroke-width=\"3.2\"/>\n",
       "<path clip-path=\"url(#clip652)\" d=\"M1339.26 978.288 L1323.26 1010.29 L1355.26 1010.29 L1339.26 978.288 Z\" fill=\"#3da44d\" fill-rule=\"evenodd\" fill-opacity=\"1\" stroke=\"#000000\" stroke-opacity=\"1\" stroke-width=\"3.2\"/>\n",
       "<path clip-path=\"url(#clip652)\" d=\"M1445.17 867.6 L1429.17 899.6 L1461.17 899.6 L1445.17 867.6 Z\" fill=\"#3da44d\" fill-rule=\"evenodd\" fill-opacity=\"1\" stroke=\"#000000\" stroke-opacity=\"1\" stroke-width=\"3.2\"/>\n",
       "<path clip-path=\"url(#clip652)\" d=\"M1551.07 878.251 L1535.07 910.251 L1567.07 910.251 L1551.07 878.251 Z\" fill=\"#3da44d\" fill-rule=\"evenodd\" fill-opacity=\"1\" stroke=\"#000000\" stroke-opacity=\"1\" stroke-width=\"3.2\"/>\n",
       "<path clip-path=\"url(#clip652)\" d=\"M1656.97 988.117 L1640.97 1020.12 L1672.97 1020.12 L1656.97 988.117 Z\" fill=\"#3da44d\" fill-rule=\"evenodd\" fill-opacity=\"1\" stroke=\"#000000\" stroke-opacity=\"1\" stroke-width=\"3.2\"/>\n",
       "<path clip-path=\"url(#clip652)\" d=\"M1762.88 913.303 L1746.88 945.303 L1778.88 945.303 L1762.88 913.303 Z\" fill=\"#3da44d\" fill-rule=\"evenodd\" fill-opacity=\"1\" stroke=\"#000000\" stroke-opacity=\"1\" stroke-width=\"3.2\"/>\n",
       "<path clip-path=\"url(#clip652)\" d=\"M1868.78 651.114 L1852.78 683.114 L1884.78 683.114 L1868.78 651.114 Z\" fill=\"#3da44d\" fill-rule=\"evenodd\" fill-opacity=\"1\" stroke=\"#000000\" stroke-opacity=\"1\" stroke-width=\"3.2\"/>\n",
       "<path clip-path=\"url(#clip652)\" d=\"M1974.68 406.718 L1958.68 438.718 L1990.68 438.718 L1974.68 406.718 Z\" fill=\"#3da44d\" fill-rule=\"evenodd\" fill-opacity=\"1\" stroke=\"#000000\" stroke-opacity=\"1\" stroke-width=\"3.2\"/>\n",
       "<path clip-path=\"url(#clip652)\" d=\"M2080.58 419.573 L2064.58 451.573 L2096.58 451.573 L2080.58 419.573 Z\" fill=\"#3da44d\" fill-rule=\"evenodd\" fill-opacity=\"1\" stroke=\"#000000\" stroke-opacity=\"1\" stroke-width=\"3.2\"/>\n",
       "<path clip-path=\"url(#clip652)\" d=\"M2186.49 397.45 L2170.49 429.45 L2202.49 429.45 L2186.49 397.45 Z\" fill=\"#3da44d\" fill-rule=\"evenodd\" fill-opacity=\"1\" stroke=\"#000000\" stroke-opacity=\"1\" stroke-width=\"3.2\"/>\n",
       "<path clip-path=\"url(#clip652)\" d=\"M2292.39 83.8606 L2276.39 115.861 L2308.39 115.861 L2292.39 83.8606 Z\" fill=\"#3da44d\" fill-rule=\"evenodd\" fill-opacity=\"1\" stroke=\"#000000\" stroke-opacity=\"1\" stroke-width=\"3.2\"/>\n",
       "<polyline clip-path=\"url(#clip652)\" style=\"stroke:#c271d2; stroke-linecap:round; stroke-linejoin:round; stroke-width:4; stroke-opacity:1; fill:none\" points=\"\n",
       "  280.231,363.381 386.134,442.304 492.037,548.721 597.941,468.019 703.844,446.756 809.747,332.335 915.65,275.437 1021.55,193.256 1127.46,168.235 1233.36,157.295 \n",
       "  1339.26,107.553 1445.17,117.663 1551.07,112.085 1656.97,173.364 1762.88,163.3 1868.78,158.159 1974.68,251.781 2080.58,260.879 2186.49,168.002 2292.39,93.0232 \n",
       "  \n",
       "  \"/>\n",
       "<path clip-path=\"url(#clip652)\" d=\"M280.231 347.381 L276.471 358.197 L265.015 358.437 L274.151 365.365 L270.823 376.325 L280.231 369.781 L289.639 376.325 L286.311 365.365 L295.447 358.437 L283.991 358.197 L280.231 347.381 Z\" fill=\"#c271d2\" fill-rule=\"evenodd\" fill-opacity=\"1\" stroke=\"#000000\" stroke-opacity=\"1\" stroke-width=\"3.2\"/>\n",
       "<path clip-path=\"url(#clip652)\" d=\"M386.134 426.304 L382.374 437.12 L370.918 437.36 L380.054 444.288 L376.726 455.248 L386.134 448.704 L395.542 455.248 L392.214 444.288 L401.35 437.36 L389.894 437.12 L386.134 426.304 Z\" fill=\"#c271d2\" fill-rule=\"evenodd\" fill-opacity=\"1\" stroke=\"#000000\" stroke-opacity=\"1\" stroke-width=\"3.2\"/>\n",
       "<path clip-path=\"url(#clip652)\" d=\"M492.037 532.721 L488.277 543.537 L476.821 543.777 L485.957 550.705 L482.629 561.665 L492.037 555.121 L501.445 561.665 L498.117 550.705 L507.253 543.777 L495.797 543.537 L492.037 532.721 Z\" fill=\"#c271d2\" fill-rule=\"evenodd\" fill-opacity=\"1\" stroke=\"#000000\" stroke-opacity=\"1\" stroke-width=\"3.2\"/>\n",
       "<path clip-path=\"url(#clip652)\" d=\"M597.941 452.019 L594.181 462.835 L582.725 463.075 L591.861 470.003 L588.533 480.963 L597.941 474.419 L607.349 480.963 L604.021 470.003 L613.157 463.075 L601.701 462.835 L597.941 452.019 Z\" fill=\"#c271d2\" fill-rule=\"evenodd\" fill-opacity=\"1\" stroke=\"#000000\" stroke-opacity=\"1\" stroke-width=\"3.2\"/>\n",
       "<path clip-path=\"url(#clip652)\" d=\"M703.844 430.756 L700.084 441.572 L688.628 441.812 L697.764 448.74 L694.436 459.7 L703.844 453.156 L713.252 459.7 L709.924 448.74 L719.06 441.812 L707.604 441.572 L703.844 430.756 Z\" fill=\"#c271d2\" fill-rule=\"evenodd\" fill-opacity=\"1\" stroke=\"#000000\" stroke-opacity=\"1\" stroke-width=\"3.2\"/>\n",
       "<path clip-path=\"url(#clip652)\" d=\"M809.747 316.335 L805.987 327.151 L794.531 327.391 L803.667 334.319 L800.339 345.279 L809.747 338.735 L819.155 345.279 L815.827 334.319 L824.963 327.391 L813.507 327.151 L809.747 316.335 Z\" fill=\"#c271d2\" fill-rule=\"evenodd\" fill-opacity=\"1\" stroke=\"#000000\" stroke-opacity=\"1\" stroke-width=\"3.2\"/>\n",
       "<path clip-path=\"url(#clip652)\" d=\"M915.65 259.437 L911.89 270.253 L900.434 270.493 L909.57 277.421 L906.242 288.381 L915.65 281.837 L925.058 288.381 L921.73 277.421 L930.866 270.493 L919.41 270.253 L915.65 259.437 Z\" fill=\"#c271d2\" fill-rule=\"evenodd\" fill-opacity=\"1\" stroke=\"#000000\" stroke-opacity=\"1\" stroke-width=\"3.2\"/>\n",
       "<path clip-path=\"url(#clip652)\" d=\"M1021.55 177.256 L1017.79 188.072 L1006.34 188.312 L1015.47 195.24 L1012.15 206.2 L1021.55 199.656 L1030.96 206.2 L1027.63 195.24 L1036.77 188.312 L1025.31 188.072 L1021.55 177.256 Z\" fill=\"#c271d2\" fill-rule=\"evenodd\" fill-opacity=\"1\" stroke=\"#000000\" stroke-opacity=\"1\" stroke-width=\"3.2\"/>\n",
       "<path clip-path=\"url(#clip652)\" d=\"M1127.46 152.235 L1123.7 163.051 L1112.24 163.291 L1121.38 170.219 L1118.05 181.179 L1127.46 174.635 L1136.86 181.179 L1133.54 170.219 L1142.67 163.291 L1131.22 163.051 L1127.46 152.235 Z\" fill=\"#c271d2\" fill-rule=\"evenodd\" fill-opacity=\"1\" stroke=\"#000000\" stroke-opacity=\"1\" stroke-width=\"3.2\"/>\n",
       "<path clip-path=\"url(#clip652)\" d=\"M1233.36 141.295 L1229.6 152.111 L1218.14 152.351 L1227.28 159.279 L1223.95 170.239 L1233.36 163.695 L1242.77 170.239 L1239.44 159.279 L1248.58 152.351 L1237.12 152.111 L1233.36 141.295 Z\" fill=\"#c271d2\" fill-rule=\"evenodd\" fill-opacity=\"1\" stroke=\"#000000\" stroke-opacity=\"1\" stroke-width=\"3.2\"/>\n",
       "<path clip-path=\"url(#clip652)\" d=\"M1339.26 91.5528 L1335.5 102.369 L1324.05 102.609 L1333.18 109.537 L1329.85 120.497 L1339.26 113.953 L1348.67 120.497 L1345.34 109.537 L1354.48 102.609 L1343.02 102.369 L1339.26 91.5528 Z\" fill=\"#c271d2\" fill-rule=\"evenodd\" fill-opacity=\"1\" stroke=\"#000000\" stroke-opacity=\"1\" stroke-width=\"3.2\"/>\n",
       "<path clip-path=\"url(#clip652)\" d=\"M1445.17 101.663 L1441.41 112.479 L1429.95 112.719 L1439.09 119.647 L1435.76 130.607 L1445.17 124.063 L1454.57 130.607 L1451.25 119.647 L1460.38 112.719 L1448.93 112.479 L1445.17 101.663 Z\" fill=\"#c271d2\" fill-rule=\"evenodd\" fill-opacity=\"1\" stroke=\"#000000\" stroke-opacity=\"1\" stroke-width=\"3.2\"/>\n",
       "<path clip-path=\"url(#clip652)\" d=\"M1551.07 96.0852 L1547.31 106.901 L1535.85 107.141 L1544.99 114.069 L1541.66 125.029 L1551.07 118.485 L1560.48 125.029 L1557.15 114.069 L1566.28 107.141 L1554.83 106.901 L1551.07 96.0852 Z\" fill=\"#c271d2\" fill-rule=\"evenodd\" fill-opacity=\"1\" stroke=\"#000000\" stroke-opacity=\"1\" stroke-width=\"3.2\"/>\n",
       "<path clip-path=\"url(#clip652)\" d=\"M1656.97 157.364 L1653.21 168.18 L1641.76 168.42 L1650.89 175.348 L1647.56 186.308 L1656.97 179.764 L1666.38 186.308 L1663.05 175.348 L1672.19 168.42 L1660.73 168.18 L1656.97 157.364 Z\" fill=\"#c271d2\" fill-rule=\"evenodd\" fill-opacity=\"1\" stroke=\"#000000\" stroke-opacity=\"1\" stroke-width=\"3.2\"/>\n",
       "<path clip-path=\"url(#clip652)\" d=\"M1762.88 147.3 L1759.12 158.116 L1747.66 158.356 L1756.8 165.284 L1753.47 176.244 L1762.88 169.7 L1772.28 176.244 L1768.96 165.284 L1778.09 158.356 L1766.64 158.116 L1762.88 147.3 Z\" fill=\"#c271d2\" fill-rule=\"evenodd\" fill-opacity=\"1\" stroke=\"#000000\" stroke-opacity=\"1\" stroke-width=\"3.2\"/>\n",
       "<path clip-path=\"url(#clip652)\" d=\"M1868.78 142.159 L1865.02 152.975 L1853.56 153.215 L1862.7 160.143 L1859.37 171.103 L1868.78 164.559 L1878.19 171.103 L1874.86 160.143 L1883.99 153.215 L1872.54 152.975 L1868.78 142.159 Z\" fill=\"#c271d2\" fill-rule=\"evenodd\" fill-opacity=\"1\" stroke=\"#000000\" stroke-opacity=\"1\" stroke-width=\"3.2\"/>\n",
       "<path clip-path=\"url(#clip652)\" d=\"M1974.68 235.781 L1970.92 246.597 L1959.47 246.837 L1968.6 253.765 L1965.27 264.725 L1974.68 258.181 L1984.09 264.725 L1980.76 253.765 L1989.9 246.837 L1978.44 246.597 L1974.68 235.781 Z\" fill=\"#c271d2\" fill-rule=\"evenodd\" fill-opacity=\"1\" stroke=\"#000000\" stroke-opacity=\"1\" stroke-width=\"3.2\"/>\n",
       "<path clip-path=\"url(#clip652)\" d=\"M2080.58 244.879 L2076.82 255.695 L2065.37 255.935 L2074.5 262.863 L2071.18 273.823 L2080.58 267.279 L2089.99 273.823 L2086.66 262.863 L2095.8 255.935 L2084.34 255.695 L2080.58 244.879 Z\" fill=\"#c271d2\" fill-rule=\"evenodd\" fill-opacity=\"1\" stroke=\"#000000\" stroke-opacity=\"1\" stroke-width=\"3.2\"/>\n",
       "<path clip-path=\"url(#clip652)\" d=\"M2186.49 152.002 L2182.73 162.818 L2171.27 163.058 L2180.41 169.986 L2177.08 180.946 L2186.49 174.402 L2195.9 180.946 L2192.57 169.986 L2201.7 163.058 L2190.25 162.818 L2186.49 152.002 Z\" fill=\"#c271d2\" fill-rule=\"evenodd\" fill-opacity=\"1\" stroke=\"#000000\" stroke-opacity=\"1\" stroke-width=\"3.2\"/>\n",
       "<path clip-path=\"url(#clip652)\" d=\"M2292.39 77.0232 L2288.63 87.8392 L2277.18 88.0792 L2286.31 95.0072 L2282.98 105.967 L2292.39 99.4232 L2301.8 105.967 L2298.47 95.0072 L2307.61 88.0792 L2296.15 87.8392 L2292.39 77.0232 Z\" fill=\"#c271d2\" fill-rule=\"evenodd\" fill-opacity=\"1\" stroke=\"#000000\" stroke-opacity=\"1\" stroke-width=\"3.2\"/>\n",
       "<polyline clip-path=\"url(#clip652)\" style=\"stroke:#ac8d18; stroke-linecap:round; stroke-linejoin:round; stroke-width:4; stroke-opacity:1; fill:none\" points=\"\n",
       "  280.231,437.299 386.134,485.039 492.037,629.162 597.941,512.418 703.844,462.781 809.747,393.872 915.65,379.22 1021.55,384.856 1127.46,332.335 1233.36,315.925 \n",
       "  1339.26,230.414 1445.17,248.816 1551.07,200.144 1656.97,214.388 1762.88,240.415 1868.78,235.274 1974.68,278.49 2080.58,272.15 2186.49,156.314 2292.39,86.1857 \n",
       "  \n",
       "  \"/>\n",
       "<path clip-path=\"url(#clip652)\" d=\"M264.231 421.299 L264.231 453.299 L296.231 453.299 L296.231 421.299 L264.231 421.299 Z\" fill=\"#ac8d18\" fill-rule=\"evenodd\" fill-opacity=\"1\" stroke=\"#000000\" stroke-opacity=\"1\" stroke-width=\"3.2\"/>\n",
       "<path clip-path=\"url(#clip652)\" d=\"M370.134 469.039 L370.134 501.039 L402.134 501.039 L402.134 469.039 L370.134 469.039 Z\" fill=\"#ac8d18\" fill-rule=\"evenodd\" fill-opacity=\"1\" stroke=\"#000000\" stroke-opacity=\"1\" stroke-width=\"3.2\"/>\n",
       "<path clip-path=\"url(#clip652)\" d=\"M476.037 613.162 L476.037 645.162 L508.037 645.162 L508.037 613.162 L476.037 613.162 Z\" fill=\"#ac8d18\" fill-rule=\"evenodd\" fill-opacity=\"1\" stroke=\"#000000\" stroke-opacity=\"1\" stroke-width=\"3.2\"/>\n",
       "<path clip-path=\"url(#clip652)\" d=\"M581.941 496.418 L581.941 528.418 L613.941 528.418 L613.941 496.418 L581.941 496.418 Z\" fill=\"#ac8d18\" fill-rule=\"evenodd\" fill-opacity=\"1\" stroke=\"#000000\" stroke-opacity=\"1\" stroke-width=\"3.2\"/>\n",
       "<path clip-path=\"url(#clip652)\" d=\"M687.844 446.781 L687.844 478.781 L719.844 478.781 L719.844 446.781 L687.844 446.781 Z\" fill=\"#ac8d18\" fill-rule=\"evenodd\" fill-opacity=\"1\" stroke=\"#000000\" stroke-opacity=\"1\" stroke-width=\"3.2\"/>\n",
       "<path clip-path=\"url(#clip652)\" d=\"M793.747 377.872 L793.747 409.872 L825.747 409.872 L825.747 377.872 L793.747 377.872 Z\" fill=\"#ac8d18\" fill-rule=\"evenodd\" fill-opacity=\"1\" stroke=\"#000000\" stroke-opacity=\"1\" stroke-width=\"3.2\"/>\n",
       "<path clip-path=\"url(#clip652)\" d=\"M899.65 363.22 L899.65 395.22 L931.65 395.22 L931.65 363.22 L899.65 363.22 Z\" fill=\"#ac8d18\" fill-rule=\"evenodd\" fill-opacity=\"1\" stroke=\"#000000\" stroke-opacity=\"1\" stroke-width=\"3.2\"/>\n",
       "<path clip-path=\"url(#clip652)\" d=\"M1005.55 368.856 L1005.55 400.856 L1037.55 400.856 L1037.55 368.856 L1005.55 368.856 Z\" fill=\"#ac8d18\" fill-rule=\"evenodd\" fill-opacity=\"1\" stroke=\"#000000\" stroke-opacity=\"1\" stroke-width=\"3.2\"/>\n",
       "<path clip-path=\"url(#clip652)\" d=\"M1111.46 316.335 L1111.46 348.335 L1143.46 348.335 L1143.46 316.335 L1111.46 316.335 Z\" fill=\"#ac8d18\" fill-rule=\"evenodd\" fill-opacity=\"1\" stroke=\"#000000\" stroke-opacity=\"1\" stroke-width=\"3.2\"/>\n",
       "<path clip-path=\"url(#clip652)\" d=\"M1217.36 299.925 L1217.36 331.925 L1249.36 331.925 L1249.36 299.925 L1217.36 299.925 Z\" fill=\"#ac8d18\" fill-rule=\"evenodd\" fill-opacity=\"1\" stroke=\"#000000\" stroke-opacity=\"1\" stroke-width=\"3.2\"/>\n",
       "<path clip-path=\"url(#clip652)\" d=\"M1323.26 214.414 L1323.26 246.414 L1355.26 246.414 L1355.26 214.414 L1323.26 214.414 Z\" fill=\"#ac8d18\" fill-rule=\"evenodd\" fill-opacity=\"1\" stroke=\"#000000\" stroke-opacity=\"1\" stroke-width=\"3.2\"/>\n",
       "<path clip-path=\"url(#clip652)\" d=\"M1429.17 232.816 L1429.17 264.816 L1461.17 264.816 L1461.17 232.816 L1429.17 232.816 Z\" fill=\"#ac8d18\" fill-rule=\"evenodd\" fill-opacity=\"1\" stroke=\"#000000\" stroke-opacity=\"1\" stroke-width=\"3.2\"/>\n",
       "<path clip-path=\"url(#clip652)\" d=\"M1535.07 184.144 L1535.07 216.144 L1567.07 216.144 L1567.07 184.144 L1535.07 184.144 Z\" fill=\"#ac8d18\" fill-rule=\"evenodd\" fill-opacity=\"1\" stroke=\"#000000\" stroke-opacity=\"1\" stroke-width=\"3.2\"/>\n",
       "<path clip-path=\"url(#clip652)\" d=\"M1640.97 198.388 L1640.97 230.388 L1672.97 230.388 L1672.97 198.388 L1640.97 198.388 Z\" fill=\"#ac8d18\" fill-rule=\"evenodd\" fill-opacity=\"1\" stroke=\"#000000\" stroke-opacity=\"1\" stroke-width=\"3.2\"/>\n",
       "<path clip-path=\"url(#clip652)\" d=\"M1746.88 224.415 L1746.88 256.415 L1778.88 256.415 L1778.88 224.415 L1746.88 224.415 Z\" fill=\"#ac8d18\" fill-rule=\"evenodd\" fill-opacity=\"1\" stroke=\"#000000\" stroke-opacity=\"1\" stroke-width=\"3.2\"/>\n",
       "<path clip-path=\"url(#clip652)\" d=\"M1852.78 219.274 L1852.78 251.274 L1884.78 251.274 L1884.78 219.274 L1852.78 219.274 Z\" fill=\"#ac8d18\" fill-rule=\"evenodd\" fill-opacity=\"1\" stroke=\"#000000\" stroke-opacity=\"1\" stroke-width=\"3.2\"/>\n",
       "<path clip-path=\"url(#clip652)\" d=\"M1958.68 262.49 L1958.68 294.49 L1990.68 294.49 L1990.68 262.49 L1958.68 262.49 Z\" fill=\"#ac8d18\" fill-rule=\"evenodd\" fill-opacity=\"1\" stroke=\"#000000\" stroke-opacity=\"1\" stroke-width=\"3.2\"/>\n",
       "<path clip-path=\"url(#clip652)\" d=\"M2064.58 256.15 L2064.58 288.15 L2096.58 288.15 L2096.58 256.15 L2064.58 256.15 Z\" fill=\"#ac8d18\" fill-rule=\"evenodd\" fill-opacity=\"1\" stroke=\"#000000\" stroke-opacity=\"1\" stroke-width=\"3.2\"/>\n",
       "<path clip-path=\"url(#clip652)\" d=\"M2170.49 140.314 L2170.49 172.314 L2202.49 172.314 L2202.49 140.314 L2170.49 140.314 Z\" fill=\"#ac8d18\" fill-rule=\"evenodd\" fill-opacity=\"1\" stroke=\"#000000\" stroke-opacity=\"1\" stroke-width=\"3.2\"/>\n",
       "<path clip-path=\"url(#clip652)\" d=\"M2276.39 70.1857 L2276.39 102.186 L2308.39 102.186 L2308.39 70.1857 L2276.39 70.1857 Z\" fill=\"#ac8d18\" fill-rule=\"evenodd\" fill-opacity=\"1\" stroke=\"#000000\" stroke-opacity=\"1\" stroke-width=\"3.2\"/>\n",
       "<polyline clip-path=\"url(#clip652)\" style=\"stroke:#00a9ad; stroke-linecap:round; stroke-linejoin:round; stroke-width:4; stroke-opacity:1; fill:none\" points=\"\n",
       "  280.231,1065.61 386.134,1111.81 492.037,1373.24 597.941,1302.72 703.844,1384.24 809.747,1310.09 915.65,1258.32 1021.55,1100.54 1127.46,1158.3 1233.36,1158.3 \n",
       "  1339.26,1218.64 1445.17,1308.54 1551.07,1303.46 1656.97,1204.11 1762.88,1176.07 1868.78,1176.07 1974.68,972.921 2080.58,1106.17 2186.49,1155.64 2292.39,1022.92 \n",
       "  \n",
       "  \"/>\n",
       "<path clip-path=\"url(#clip652)\" d=\"M296.231 1049.61 L264.231 1049.61 L280.231 1081.61 L296.231 1049.61 Z\" fill=\"#00a9ad\" fill-rule=\"evenodd\" fill-opacity=\"1\" stroke=\"#000000\" stroke-opacity=\"1\" stroke-width=\"3.2\"/>\n",
       "<path clip-path=\"url(#clip652)\" d=\"M402.134 1095.81 L370.134 1095.81 L386.134 1127.81 L402.134 1095.81 Z\" fill=\"#00a9ad\" fill-rule=\"evenodd\" fill-opacity=\"1\" stroke=\"#000000\" stroke-opacity=\"1\" stroke-width=\"3.2\"/>\n",
       "<path clip-path=\"url(#clip652)\" d=\"M508.037 1357.24 L476.037 1357.24 L492.037 1389.24 L508.037 1357.24 Z\" fill=\"#00a9ad\" fill-rule=\"evenodd\" fill-opacity=\"1\" stroke=\"#000000\" stroke-opacity=\"1\" stroke-width=\"3.2\"/>\n",
       "<path clip-path=\"url(#clip652)\" d=\"M613.941 1286.72 L581.941 1286.72 L597.941 1318.72 L613.941 1286.72 Z\" fill=\"#00a9ad\" fill-rule=\"evenodd\" fill-opacity=\"1\" stroke=\"#000000\" stroke-opacity=\"1\" stroke-width=\"3.2\"/>\n",
       "<path clip-path=\"url(#clip652)\" d=\"M719.844 1368.24 L687.844 1368.24 L703.844 1400.24 L719.844 1368.24 Z\" fill=\"#00a9ad\" fill-rule=\"evenodd\" fill-opacity=\"1\" stroke=\"#000000\" stroke-opacity=\"1\" stroke-width=\"3.2\"/>\n",
       "<path clip-path=\"url(#clip652)\" d=\"M825.747 1294.09 L793.747 1294.09 L809.747 1326.09 L825.747 1294.09 Z\" fill=\"#00a9ad\" fill-rule=\"evenodd\" fill-opacity=\"1\" stroke=\"#000000\" stroke-opacity=\"1\" stroke-width=\"3.2\"/>\n",
       "<path clip-path=\"url(#clip652)\" d=\"M931.65 1242.32 L899.65 1242.32 L915.65 1274.32 L931.65 1242.32 Z\" fill=\"#00a9ad\" fill-rule=\"evenodd\" fill-opacity=\"1\" stroke=\"#000000\" stroke-opacity=\"1\" stroke-width=\"3.2\"/>\n",
       "<path clip-path=\"url(#clip652)\" d=\"M1037.55 1084.54 L1005.55 1084.54 L1021.55 1116.54 L1037.55 1084.54 Z\" fill=\"#00a9ad\" fill-rule=\"evenodd\" fill-opacity=\"1\" stroke=\"#000000\" stroke-opacity=\"1\" stroke-width=\"3.2\"/>\n",
       "<path clip-path=\"url(#clip652)\" d=\"M1143.46 1142.3 L1111.46 1142.3 L1127.46 1174.3 L1143.46 1142.3 Z\" fill=\"#00a9ad\" fill-rule=\"evenodd\" fill-opacity=\"1\" stroke=\"#000000\" stroke-opacity=\"1\" stroke-width=\"3.2\"/>\n",
       "<path clip-path=\"url(#clip652)\" d=\"M1249.36 1142.3 L1217.36 1142.3 L1233.36 1174.3 L1249.36 1142.3 Z\" fill=\"#00a9ad\" fill-rule=\"evenodd\" fill-opacity=\"1\" stroke=\"#000000\" stroke-opacity=\"1\" stroke-width=\"3.2\"/>\n",
       "<path clip-path=\"url(#clip652)\" d=\"M1355.26 1202.64 L1323.26 1202.64 L1339.26 1234.64 L1355.26 1202.64 Z\" fill=\"#00a9ad\" fill-rule=\"evenodd\" fill-opacity=\"1\" stroke=\"#000000\" stroke-opacity=\"1\" stroke-width=\"3.2\"/>\n",
       "<path clip-path=\"url(#clip652)\" d=\"M1461.17 1292.54 L1429.17 1292.54 L1445.17 1324.54 L1461.17 1292.54 Z\" fill=\"#00a9ad\" fill-rule=\"evenodd\" fill-opacity=\"1\" stroke=\"#000000\" stroke-opacity=\"1\" stroke-width=\"3.2\"/>\n",
       "<path clip-path=\"url(#clip652)\" d=\"M1567.07 1287.46 L1535.07 1287.46 L1551.07 1319.46 L1567.07 1287.46 Z\" fill=\"#00a9ad\" fill-rule=\"evenodd\" fill-opacity=\"1\" stroke=\"#000000\" stroke-opacity=\"1\" stroke-width=\"3.2\"/>\n",
       "<path clip-path=\"url(#clip652)\" d=\"M1672.97 1188.11 L1640.97 1188.11 L1656.97 1220.11 L1672.97 1188.11 Z\" fill=\"#00a9ad\" fill-rule=\"evenodd\" fill-opacity=\"1\" stroke=\"#000000\" stroke-opacity=\"1\" stroke-width=\"3.2\"/>\n",
       "<path clip-path=\"url(#clip652)\" d=\"M1778.88 1160.07 L1746.88 1160.07 L1762.88 1192.07 L1778.88 1160.07 Z\" fill=\"#00a9ad\" fill-rule=\"evenodd\" fill-opacity=\"1\" stroke=\"#000000\" stroke-opacity=\"1\" stroke-width=\"3.2\"/>\n",
       "<path clip-path=\"url(#clip652)\" d=\"M1884.78 1160.07 L1852.78 1160.07 L1868.78 1192.07 L1884.78 1160.07 Z\" fill=\"#00a9ad\" fill-rule=\"evenodd\" fill-opacity=\"1\" stroke=\"#000000\" stroke-opacity=\"1\" stroke-width=\"3.2\"/>\n",
       "<path clip-path=\"url(#clip652)\" d=\"M1990.68 956.921 L1958.68 956.921 L1974.68 988.921 L1990.68 956.921 Z\" fill=\"#00a9ad\" fill-rule=\"evenodd\" fill-opacity=\"1\" stroke=\"#000000\" stroke-opacity=\"1\" stroke-width=\"3.2\"/>\n",
       "<path clip-path=\"url(#clip652)\" d=\"M2096.58 1090.17 L2064.58 1090.17 L2080.58 1122.17 L2096.58 1090.17 Z\" fill=\"#00a9ad\" fill-rule=\"evenodd\" fill-opacity=\"1\" stroke=\"#000000\" stroke-opacity=\"1\" stroke-width=\"3.2\"/>\n",
       "<path clip-path=\"url(#clip652)\" d=\"M2202.49 1139.64 L2170.49 1139.64 L2186.49 1171.64 L2202.49 1139.64 Z\" fill=\"#00a9ad\" fill-rule=\"evenodd\" fill-opacity=\"1\" stroke=\"#000000\" stroke-opacity=\"1\" stroke-width=\"3.2\"/>\n",
       "<path clip-path=\"url(#clip652)\" d=\"M2308.39 1006.92 L2276.39 1006.92 L2292.39 1038.92 L2308.39 1006.92 Z\" fill=\"#00a9ad\" fill-rule=\"evenodd\" fill-opacity=\"1\" stroke=\"#000000\" stroke-opacity=\"1\" stroke-width=\"3.2\"/>\n",
       "<path clip-path=\"url(#clip650)\" d=\"\n",
       "M290.963 1377.32 L665.547 1377.32 L665.547 1014.44 L290.963 1014.44  Z\n",
       "  \" fill=\"#ffffff\" fill-rule=\"evenodd\" fill-opacity=\"1\"/>\n",
       "<polyline clip-path=\"url(#clip650)\" style=\"stroke:#000000; stroke-linecap:round; stroke-linejoin:round; stroke-width:4; stroke-opacity:1; fill:none\" points=\"\n",
       "  290.963,1377.32 665.547,1377.32 665.547,1014.44 290.963,1014.44 290.963,1377.32 \n",
       "  \"/>\n",
       "<polyline clip-path=\"url(#clip650)\" style=\"stroke:#009af9; stroke-linecap:round; stroke-linejoin:round; stroke-width:12; stroke-opacity:1; fill:none\" points=\"\n",
       "  314.661,1066.28 456.854,1066.28 \n",
       "  \"/>\n",
       "<path clip-path=\"url(#clip650)\" d=\"M496.386 1053.6 L490.043 1070.8 L502.752 1070.8 L496.386 1053.6 M493.747 1049 L499.048 1049 L512.219 1083.56 L507.358 1083.56 L504.21 1074.69 L488.631 1074.69 L485.483 1083.56 L480.553 1083.56 L493.747 1049 Z\" fill=\"#000000\" fill-rule=\"evenodd\" fill-opacity=\"1\" /><path clip-path=\"url(#clip650)\" d=\"M516.733 1049 L521.432 1049 L521.432 1069.99 Q521.432 1075.55 523.446 1078 Q525.46 1080.43 529.974 1080.43 Q534.465 1080.43 536.478 1078 Q538.492 1075.55 538.492 1069.99 L538.492 1049 L543.191 1049 L543.191 1070.57 Q543.191 1077.33 539.835 1080.78 Q536.502 1084.23 529.974 1084.23 Q523.423 1084.23 520.066 1080.78 Q516.733 1077.33 516.733 1070.57 L516.733 1049 Z\" fill=\"#000000\" fill-rule=\"evenodd\" fill-opacity=\"1\" /><path clip-path=\"url(#clip650)\" d=\"M577.844 1051.66 L577.844 1056.59 Q575.483 1054.39 572.798 1053.3 Q570.136 1052.21 567.126 1052.21 Q561.2 1052.21 558.052 1055.85 Q554.904 1059.46 554.904 1066.31 Q554.904 1073.14 558.052 1076.77 Q561.2 1080.38 567.126 1080.38 Q570.136 1080.38 572.798 1079.3 Q575.483 1078.21 577.844 1076.01 L577.844 1080.89 Q575.39 1082.56 572.636 1083.39 Q569.904 1084.23 566.849 1084.23 Q559.001 1084.23 554.488 1079.43 Q549.974 1074.62 549.974 1066.31 Q549.974 1057.98 554.488 1053.19 Q559.001 1048.37 566.849 1048.37 Q569.95 1048.37 572.682 1049.2 Q575.437 1050.01 577.844 1051.66 Z\" fill=\"#000000\" fill-rule=\"evenodd\" fill-opacity=\"1\" /><path clip-path=\"url(#clip650)\" d=\"M593.978 1083.56 L580.784 1049 L585.668 1049 L596.617 1078.09 L607.589 1049 L612.45 1049 L599.279 1083.56 L593.978 1083.56 Z\" fill=\"#000000\" fill-rule=\"evenodd\" fill-opacity=\"1\" /><path clip-path=\"url(#clip650)\" d=\"M626.015 1053.6 L619.672 1070.8 L632.381 1070.8 L626.015 1053.6 M623.376 1049 L628.677 1049 L641.848 1083.56 L636.987 1083.56 L633.839 1074.69 L618.26 1074.69 L615.112 1083.56 L610.182 1083.56 L623.376 1049 Z\" fill=\"#000000\" fill-rule=\"evenodd\" fill-opacity=\"1\" /><polyline clip-path=\"url(#clip650)\" style=\"stroke:#e26f46; stroke-linecap:round; stroke-linejoin:round; stroke-width:4; stroke-opacity:1; fill:none\" points=\"\n",
       "  314.661,1118.12 456.854,1118.12 \n",
       "  \"/>\n",
       "<circle clip-path=\"url(#clip650)\" cx=\"385.758\" cy=\"1118.12\" r=\"19.749\" fill=\"#e26f46\" fill-rule=\"evenodd\" fill-opacity=\"1\" stroke=\"#000000\" stroke-opacity=\"1\" stroke-width=\"5.12\"/>\n",
       "<path clip-path=\"url(#clip650)\" d=\"M496.386 1105.44 L490.043 1122.64 L502.752 1122.64 L496.386 1105.44 M493.747 1100.84 L499.048 1100.84 L512.219 1135.4 L507.358 1135.4 L504.21 1126.53 L488.631 1126.53 L485.483 1135.4 L480.553 1135.4 L493.747 1100.84 Z\" fill=\"#000000\" fill-rule=\"evenodd\" fill-opacity=\"1\" /><path clip-path=\"url(#clip650)\" d=\"M516.733 1100.84 L521.432 1100.84 L521.432 1121.83 Q521.432 1127.39 523.446 1129.84 Q525.46 1132.27 529.974 1132.27 Q534.465 1132.27 536.478 1129.84 Q538.492 1127.39 538.492 1121.83 L538.492 1100.84 L543.191 1100.84 L543.191 1122.41 Q543.191 1129.17 539.835 1132.62 Q536.502 1136.07 529.974 1136.07 Q523.423 1136.07 520.066 1132.62 Q516.733 1129.17 516.733 1122.41 L516.733 1100.84 Z\" fill=\"#000000\" fill-rule=\"evenodd\" fill-opacity=\"1\" /><path clip-path=\"url(#clip650)\" d=\"M572.682 1101.97 L572.682 1106.53 Q570.02 1105.26 567.659 1104.63 Q565.298 1104.01 563.099 1104.01 Q559.279 1104.01 557.196 1105.49 Q555.136 1106.97 555.136 1109.7 Q555.136 1111.99 556.501 1113.17 Q557.89 1114.33 561.733 1115.05 L564.557 1115.63 Q569.788 1116.62 572.265 1119.15 Q574.765 1121.65 574.765 1125.86 Q574.765 1130.88 571.386 1133.47 Q568.029 1136.07 561.525 1136.07 Q559.071 1136.07 556.293 1135.51 Q553.538 1134.96 550.576 1133.87 L550.576 1129.05 Q553.423 1130.65 556.154 1131.46 Q558.886 1132.27 561.525 1132.27 Q565.529 1132.27 567.705 1130.7 Q569.881 1129.12 569.881 1126.21 Q569.881 1123.66 568.307 1122.22 Q566.756 1120.79 563.191 1120.07 L560.344 1119.52 Q555.113 1118.47 552.775 1116.25 Q550.437 1114.03 550.437 1110.07 Q550.437 1105.49 553.654 1102.85 Q556.895 1100.21 562.566 1100.21 Q564.997 1100.21 567.52 1100.65 Q570.043 1101.09 572.682 1101.97 Z\" fill=\"#000000\" fill-rule=\"evenodd\" fill-opacity=\"1\" /><path clip-path=\"url(#clip650)\" d=\"M591.918 1112.46 Q588.492 1112.46 586.501 1115.14 Q584.511 1117.8 584.511 1122.46 Q584.511 1127.11 586.478 1129.79 Q588.469 1132.46 591.918 1132.46 Q595.321 1132.46 597.311 1129.77 Q599.302 1127.09 599.302 1122.46 Q599.302 1117.85 597.311 1115.16 Q595.321 1112.46 591.918 1112.46 M591.918 1108.84 Q597.473 1108.84 600.645 1112.46 Q603.816 1116.07 603.816 1122.46 Q603.816 1128.82 600.645 1132.46 Q597.473 1136.07 591.918 1136.07 Q586.339 1136.07 583.168 1132.46 Q580.02 1128.82 580.02 1122.46 Q580.02 1116.07 583.168 1112.46 Q586.339 1108.84 591.918 1108.84 Z\" fill=\"#000000\" fill-rule=\"evenodd\" fill-opacity=\"1\" /><path clip-path=\"url(#clip650)\" d=\"M624.001 1099.38 L624.001 1102.92 L619.927 1102.92 Q617.635 1102.92 616.733 1103.84 Q615.853 1104.77 615.853 1107.18 L615.853 1109.47 L622.867 1109.47 L622.867 1112.78 L615.853 1112.78 L615.853 1135.4 L611.571 1135.4 L611.571 1112.78 L607.497 1112.78 L607.497 1109.47 L611.571 1109.47 L611.571 1107.66 Q611.571 1103.34 613.584 1101.37 Q615.598 1099.38 619.973 1099.38 L624.001 1099.38 Z\" fill=\"#000000\" fill-rule=\"evenodd\" fill-opacity=\"1\" /><path clip-path=\"url(#clip650)\" d=\"M630.945 1102.11 L630.945 1109.47 L639.719 1109.47 L639.719 1112.78 L630.945 1112.78 L630.945 1126.85 Q630.945 1130.02 631.802 1130.93 Q632.682 1131.83 635.344 1131.83 L639.719 1131.83 L639.719 1135.4 L635.344 1135.4 Q630.413 1135.4 628.538 1133.57 Q626.663 1131.71 626.663 1126.85 L626.663 1112.78 L623.538 1112.78 L623.538 1109.47 L626.663 1109.47 L626.663 1102.11 L630.945 1102.11 Z\" fill=\"#000000\" fill-rule=\"evenodd\" fill-opacity=\"1\" /><polyline clip-path=\"url(#clip650)\" style=\"stroke:#3da44d; stroke-linecap:round; stroke-linejoin:round; stroke-width:4; stroke-opacity:1; fill:none\" points=\"\n",
       "  314.661,1169.96 456.854,1169.96 \n",
       "  \"/>\n",
       "<path clip-path=\"url(#clip650)\" d=\"M385.758 1148.01 L363.814 1191.9 L407.701 1191.9 L385.758 1148.01 Z\" fill=\"#3da44d\" fill-rule=\"evenodd\" fill-opacity=\"1\" stroke=\"#000000\" stroke-opacity=\"1\" stroke-width=\"5.12\"/>\n",
       "<path clip-path=\"url(#clip650)\" d=\"M496.386 1157.28 L490.043 1174.48 L502.752 1174.48 L496.386 1157.28 M493.747 1152.68 L499.048 1152.68 L512.219 1187.24 L507.358 1187.24 L504.21 1178.37 L488.631 1178.37 L485.483 1187.24 L480.553 1187.24 L493.747 1152.68 Z\" fill=\"#000000\" fill-rule=\"evenodd\" fill-opacity=\"1\" /><path clip-path=\"url(#clip650)\" d=\"M516.733 1152.68 L521.432 1152.68 L521.432 1173.67 Q521.432 1179.23 523.446 1181.68 Q525.46 1184.11 529.974 1184.11 Q534.465 1184.11 536.478 1181.68 Q538.492 1179.23 538.492 1173.67 L538.492 1152.68 L543.191 1152.68 L543.191 1174.25 Q543.191 1181.01 539.835 1184.46 Q536.502 1187.91 529.974 1187.91 Q523.423 1187.91 520.066 1184.46 Q516.733 1181.01 516.733 1174.25 L516.733 1152.68 Z\" fill=\"#000000\" fill-rule=\"evenodd\" fill-opacity=\"1\" /><path clip-path=\"url(#clip650)\" d=\"M551.964 1152.68 L558.932 1152.68 L567.751 1176.19 L576.617 1152.68 L583.585 1152.68 L583.585 1187.24 L579.024 1187.24 L579.024 1156.89 L570.112 1180.59 L565.413 1180.59 L556.501 1156.89 L556.501 1187.24 L551.964 1187.24 L551.964 1152.68 Z\" fill=\"#000000\" fill-rule=\"evenodd\" fill-opacity=\"1\" /><path clip-path=\"url(#clip650)\" d=\"M592.867 1152.68 L612.728 1152.68 L612.728 1156.61 L597.543 1156.61 L597.543 1166.8 L611.247 1166.8 L611.247 1170.73 L597.543 1170.73 L597.543 1187.24 L592.867 1187.24 L592.867 1152.68 Z\" fill=\"#000000\" fill-rule=\"evenodd\" fill-opacity=\"1\" /><polyline clip-path=\"url(#clip650)\" style=\"stroke:#c271d2; stroke-linecap:round; stroke-linejoin:round; stroke-width:4; stroke-opacity:1; fill:none\" points=\"\n",
       "  314.661,1221.8 456.854,1221.8 \n",
       "  \"/>\n",
       "<path clip-path=\"url(#clip650)\" d=\"M385.758 1199.85 L380.601 1214.69 L364.89 1215.01 L377.419 1224.52 L372.855 1239.55 L385.758 1230.57 L398.66 1239.55 L394.096 1224.52 L406.626 1215.01 L390.914 1214.69 L385.758 1199.85 Z\" fill=\"#c271d2\" fill-rule=\"evenodd\" fill-opacity=\"1\" stroke=\"#000000\" stroke-opacity=\"1\" stroke-width=\"5.12\"/>\n",
       "<path clip-path=\"url(#clip650)\" d=\"M496.386 1209.12 L490.043 1226.32 L502.752 1226.32 L496.386 1209.12 M493.747 1204.52 L499.048 1204.52 L512.219 1239.08 L507.358 1239.08 L504.21 1230.21 L488.631 1230.21 L485.483 1239.08 L480.553 1239.08 L493.747 1204.52 Z\" fill=\"#000000\" fill-rule=\"evenodd\" fill-opacity=\"1\" /><path clip-path=\"url(#clip650)\" d=\"M516.733 1204.52 L521.432 1204.52 L521.432 1225.51 Q521.432 1231.07 523.446 1233.52 Q525.46 1235.95 529.974 1235.95 Q534.465 1235.95 536.478 1233.52 Q538.492 1231.07 538.492 1225.51 L538.492 1204.52 L543.191 1204.52 L543.191 1226.09 Q543.191 1232.85 539.835 1236.3 Q536.502 1239.75 529.974 1239.75 Q523.423 1239.75 520.066 1236.3 Q516.733 1232.85 516.733 1226.09 L516.733 1204.52 Z\" fill=\"#000000\" fill-rule=\"evenodd\" fill-opacity=\"1\" /><path clip-path=\"url(#clip650)\" d=\"M551.964 1204.52 L558.932 1204.52 L567.751 1228.03 L576.617 1204.52 L583.585 1204.52 L583.585 1239.08 L579.024 1239.08 L579.024 1208.73 L570.112 1232.43 L565.413 1232.43 L556.501 1208.73 L556.501 1239.08 L551.964 1239.08 L551.964 1204.52 Z\" fill=\"#000000\" fill-rule=\"evenodd\" fill-opacity=\"1\" /><path clip-path=\"url(#clip650)\" d=\"M592.867 1204.52 L597.543 1204.52 L597.543 1218.68 L614.534 1218.68 L614.534 1204.52 L619.209 1204.52 L619.209 1239.08 L614.534 1239.08 L614.534 1222.62 L597.543 1222.62 L597.543 1239.08 L592.867 1239.08 L592.867 1204.52 Z\" fill=\"#000000\" fill-rule=\"evenodd\" fill-opacity=\"1\" /><polyline clip-path=\"url(#clip650)\" style=\"stroke:#ac8d18; stroke-linecap:round; stroke-linejoin:round; stroke-width:4; stroke-opacity:1; fill:none\" points=\"\n",
       "  314.661,1273.64 456.854,1273.64 \n",
       "  \"/>\n",
       "<path clip-path=\"url(#clip650)\" d=\"M363.814 1251.69 L363.814 1295.58 L407.701 1295.58 L407.701 1251.69 L363.814 1251.69 Z\" fill=\"#ac8d18\" fill-rule=\"evenodd\" fill-opacity=\"1\" stroke=\"#000000\" stroke-opacity=\"1\" stroke-width=\"5.12\"/>\n",
       "<path clip-path=\"url(#clip650)\" d=\"M496.386 1260.96 L490.043 1278.16 L502.752 1278.16 L496.386 1260.96 M493.747 1256.36 L499.048 1256.36 L512.219 1290.92 L507.358 1290.92 L504.21 1282.05 L488.631 1282.05 L485.483 1290.92 L480.553 1290.92 L493.747 1256.36 Z\" fill=\"#000000\" fill-rule=\"evenodd\" fill-opacity=\"1\" /><path clip-path=\"url(#clip650)\" d=\"M516.733 1256.36 L521.432 1256.36 L521.432 1277.35 Q521.432 1282.91 523.446 1285.36 Q525.46 1287.79 529.974 1287.79 Q534.465 1287.79 536.478 1285.36 Q538.492 1282.91 538.492 1277.35 L538.492 1256.36 L543.191 1256.36 L543.191 1277.93 Q543.191 1284.69 539.835 1288.14 Q536.502 1291.59 529.974 1291.59 Q523.423 1291.59 520.066 1288.14 Q516.733 1284.69 516.733 1277.93 L516.733 1256.36 Z\" fill=\"#000000\" fill-rule=\"evenodd\" fill-opacity=\"1\" /><path clip-path=\"url(#clip650)\" d=\"M568.307 1265.75 L568.307 1269.78 Q566.501 1268.86 564.557 1268.39 Q562.613 1267.93 560.529 1267.93 Q557.358 1267.93 555.761 1268.9 Q554.187 1269.87 554.187 1271.82 Q554.187 1273.3 555.321 1274.16 Q556.455 1274.99 559.881 1275.75 L561.339 1276.08 Q565.876 1277.05 567.775 1278.83 Q569.696 1280.59 569.696 1283.76 Q569.696 1287.37 566.825 1289.48 Q563.978 1291.59 558.978 1291.59 Q556.895 1291.59 554.626 1291.17 Q552.381 1290.78 549.881 1289.97 L549.881 1285.57 Q552.242 1286.79 554.534 1287.42 Q556.826 1288.02 559.071 1288.02 Q562.08 1288.02 563.7 1287 Q565.321 1285.96 565.321 1284.09 Q565.321 1282.35 564.14 1281.42 Q562.983 1280.5 559.025 1279.64 L557.543 1279.3 Q553.585 1278.46 551.826 1276.75 Q550.066 1275.01 550.066 1272 Q550.066 1268.35 552.659 1266.36 Q555.251 1264.36 560.02 1264.36 Q562.381 1264.36 564.464 1264.71 Q566.548 1265.06 568.307 1265.75 Z\" fill=\"#000000\" fill-rule=\"evenodd\" fill-opacity=\"1\" /><path clip-path=\"url(#clip650)\" d=\"M576.478 1264.99 L580.737 1264.99 L580.737 1290.92 L576.478 1290.92 L576.478 1264.99 M576.478 1254.9 L580.737 1254.9 L580.737 1260.29 L576.478 1260.29 L576.478 1254.9 Z\" fill=\"#000000\" fill-rule=\"evenodd\" fill-opacity=\"1\" /><path clip-path=\"url(#clip650)\" d=\"M608.26 1277.98 Q608.26 1273.28 606.316 1270.61 Q604.395 1267.93 601.015 1267.93 Q597.635 1267.93 595.691 1270.61 Q593.77 1273.28 593.77 1277.98 Q593.77 1282.67 595.691 1285.36 Q597.635 1288.02 601.015 1288.02 Q604.395 1288.02 606.316 1285.36 Q608.26 1282.67 608.26 1277.98 M593.77 1268.92 Q595.112 1266.61 597.149 1265.5 Q599.21 1264.36 602.057 1264.36 Q606.779 1264.36 609.719 1268.11 Q612.682 1271.86 612.682 1277.98 Q612.682 1284.09 609.719 1287.84 Q606.779 1291.59 602.057 1291.59 Q599.21 1291.59 597.149 1290.48 Q595.112 1289.34 593.77 1287.03 L593.77 1290.92 L589.487 1290.92 L589.487 1254.9 L593.77 1254.9 L593.77 1268.92 Z\" fill=\"#000000\" fill-rule=\"evenodd\" fill-opacity=\"1\" /><polyline clip-path=\"url(#clip650)\" style=\"stroke:#00a9ad; stroke-linecap:round; stroke-linejoin:round; stroke-width:4; stroke-opacity:1; fill:none\" points=\"\n",
       "  314.661,1325.48 456.854,1325.48 \n",
       "  \"/>\n",
       "<path clip-path=\"url(#clip650)\" d=\"M407.701 1303.53 L363.814 1303.53 L385.758 1347.42 L407.701 1303.53 Z\" fill=\"#00a9ad\" fill-rule=\"evenodd\" fill-opacity=\"1\" stroke=\"#000000\" stroke-opacity=\"1\" stroke-width=\"5.12\"/>\n",
       "<path clip-path=\"url(#clip650)\" d=\"M496.386 1312.8 L490.043 1330 L502.752 1330 L496.386 1312.8 M493.747 1308.2 L499.048 1308.2 L512.219 1342.76 L507.358 1342.76 L504.21 1333.89 L488.631 1333.89 L485.483 1342.76 L480.553 1342.76 L493.747 1308.2 Z\" fill=\"#000000\" fill-rule=\"evenodd\" fill-opacity=\"1\" /><path clip-path=\"url(#clip650)\" d=\"M516.733 1308.2 L521.432 1308.2 L521.432 1329.19 Q521.432 1334.75 523.446 1337.2 Q525.46 1339.63 529.974 1339.63 Q534.465 1339.63 536.478 1337.2 Q538.492 1334.75 538.492 1329.19 L538.492 1308.2 L543.191 1308.2 L543.191 1329.77 Q543.191 1336.53 539.835 1339.98 Q536.502 1343.43 529.974 1343.43 Q523.423 1343.43 520.066 1339.98 Q516.733 1336.53 516.733 1329.77 L516.733 1308.2 Z\" fill=\"#000000\" fill-rule=\"evenodd\" fill-opacity=\"1\" /><path clip-path=\"url(#clip650)\" d=\"M551.964 1308.2 L558.932 1308.2 L567.751 1331.71 L576.617 1308.2 L583.585 1308.2 L583.585 1342.76 L579.024 1342.76 L579.024 1312.41 L570.112 1336.11 L565.413 1336.11 L556.501 1312.41 L556.501 1342.76 L551.964 1342.76 L551.964 1308.2 Z\" fill=\"#000000\" fill-rule=\"evenodd\" fill-opacity=\"1\" /><path clip-path=\"url(#clip650)\" d=\"M592.867 1308.2 L612.728 1308.2 L612.728 1312.13 L597.543 1312.13 L597.543 1322.32 L611.247 1322.32 L611.247 1326.25 L597.543 1326.25 L597.543 1342.76 L592.867 1342.76 L592.867 1308.2 Z\" fill=\"#000000\" fill-rule=\"evenodd\" fill-opacity=\"1\" /></svg>\n"
      ]
     },
     "execution_count": 60,
     "metadata": {},
     "output_type": "execute_result"
    }
   ],
   "source": [
    "#AUROC curves\n",
    "\n",
    "T = Int(T)\n",
    "AU_curvenew=zeros(T)\n",
    "AU_sib=zeros(T)\n",
    "AU_MF=zeros(T)\n",
    "AU_french = zeros(T)\n",
    "AU_soft = zeros(T)\n",
    "AU_MH = zeros(T)\n",
    "for t = 1:T\n",
    "    cau_risknew=zeros(N)\n",
    "    sib_risk = zeros(N)\n",
    "    MF_risk = zeros(N)\n",
    "    french_risk = zeros(N)\n",
    "    MH_risk = zeros(N)\n",
    "    soft_risk = zeros(N)\n",
    "    for i=1:N\n",
    "       cau_risknew[i]= marginal(i,t,statscaunew)\n",
    "       french_risk[i] = marginal(i,t,statsfre)\n",
    "       MH_risk[i] = marginal(i,t,stats_mh)\n",
    "       sib_risk[i] = p_sib[i,Int(round(t/dt))]\n",
    "        MF_risk[i] = p_MF[i,Int(round(t/dt))]\n",
    "       soft_risk[i] = reweighted_marginal(i, t*T/bins, stats, weights)\n",
    "    end\n",
    "    xt = xtrue .< t\n",
    "    AU_soft[t] = AUROC(ROC(xt, soft_risk))\n",
    "    AU_curvenew[t] = AUROC(ROC(xt, cau_risknew))\n",
    "    AU_french[t] = AUROC(ROC(xt, french_risk))\n",
    "    AU_MH[t] = AUROC(ROC(xt, MH_risk))\n",
    "    AU_sib[t] = AUROC(ROC(xt, sib_risk))\n",
    "    AU_MF[t] = AUROC(ROC(xt, MF_risk))\n",
    "end\n",
    "\n",
    "plot(LinRange(1,T,T),AU_curvenew, width=3, label=\"AUCVA\")\n",
    "plot!(LinRange(1,T,T),AU_soft, marker=:c, label=\"AUSoft\",legend=:bottomleft)\n",
    "plot!(LinRange(1,T,T),AU_french, marker=:ut, label=\"AUMF\")\n",
    "plot!(LinRange(1,T,T),AU_MH,marker=:star, label=\"AUMH\")\n",
    "plot!(LinRange(1,T,T), AU_sib, marker=:square,label=\"AUsib\")\n",
    "plot!(LinRange(1,T,T), AU_MF,marker=:dt, label=\"AUMF\")\n",
    "xlabel!(\"t\")\n",
    "ylabel!(\"AUC\")\n",
    "#ylims!(0.5,1.01)"
   ]
  }
 ],
 "metadata": {
  "kernelspec": {
   "display_name": "Julia 1.7.0-rc2",
   "language": "julia",
   "name": "julia-1.7"
  },
  "language_info": {
   "file_extension": ".jl",
   "mimetype": "application/julia",
   "name": "julia",
   "version": "1.7.0"
  }
 },
 "nbformat": 4,
 "nbformat_minor": 4
}
