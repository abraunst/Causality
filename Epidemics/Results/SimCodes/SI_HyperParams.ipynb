{
 "cells": [
  {
   "cell_type": "code",
   "execution_count": 9,
   "metadata": {},
   "outputs": [],
   "source": [
    "using SparseArrays, LinearAlgebra\n",
    "#using Pkg\n",
    "#Pkg.activate(\"../\")\n",
    "using Causality\n",
    "using Plots"
   ]
  },
  {
   "cell_type": "markdown",
   "metadata": {},
   "source": [
    "# Generation of Epidemics"
   ]
  },
  {
   "cell_type": "code",
   "execution_count": 10,
   "metadata": {},
   "outputs": [
    {
     "data": {
      "text/plain": [
       "100×100 SparseMatrixCSC{IndexedGraphs.NullNumber, Int64} with 638 stored entries:\n",
       "⠀⠀⠠⢀⠀⢄⠄⡀⠀⠂⠒⠠⠀⠊⠀⡄⡀⡀⢀⠂⠄⠤⠄⠀⠈⠀⠐⠀⢔⠀⠂⠀⢀⢀⠀⠀⠀⠀⠀⠀\n",
       "⠀⢂⠀⠀⠀⢂⠠⡀⠀⠀⠀⠄⠀⡀⠀⠂⠀⡀⢀⠄⠀⠂⠀⠁⠀⠀⠀⠀⢀⠀⠄⠀⠠⢀⠁⠤⠤⠁⠈⠀\n",
       "⠀⢄⠠⢀⠀⠀⠐⡀⠀⠄⠐⠀⠀⠀⠂⡄⡀⡀⢀⠀⠐⠀⠀⠂⠀⠀⠀⠁⢀⠁⠐⠐⢁⢀⠂⠀⠐⠂⠈⠀\n",
       "⠀⠡⠀⠢⠐⠠⢀⠐⠀⠀⠐⡊⠄⠅⠂⠄⠄⠄⠠⠀⢐⠈⠠⠀⠀⠀⠀⠀⠡⠀⠐⠀⢐⠠⠀⢐⣐⠀⠀⠀\n",
       "⠠⠀⠀⠀⠀⠄⠀⠀⠀⠄⠄⠀⢀⠅⢀⠄⠀⢀⠀⢄⠈⠀⠂⠀⡈⢀⠠⠀⠠⠀⠔⠀⠀⠀⢈⠀⠀⠈⠀⠈\n",
       "⠘⡀⠀⠄⠐⠀⡰⠠⠀⠁⠊⠀⠀⡀⠂⠀⠀⡀⠄⠃⡰⢀⠠⢀⢀⠀⠌⠠⡈⢀⠳⠀⠤⠀⠢⠠⠴⠠⠠⠣\n",
       "⡠⠀⠀⠠⠀⠀⠄⠅⠄⠔⠀⠠⠀⠀⠐⠀⠀⠐⠀⠐⠠⠠⠈⠀⢢⠐⠠⠀⠤⠀⠀⠀⠀⠠⠐⠀⠀⠠⠀⠄\n",
       "⠀⠤⠠⠀⠈⠤⠈⠄⠀⠔⠈⠀⠐⠀⠀⠀⠄⠐⠠⠐⠈⠀⠄⠁⠀⠐⠀⡀⠀⡀⠈⠈⠠⠀⠁⠀⠈⠁⡀⠁\n",
       "⠀⠨⠀⠠⠀⠨⠀⠅⠀⢀⠀⠠⢀⠀⢀⠁⠀⠀⠨⢀⠄⠀⠀⠠⡀⢀⠐⠀⠨⠠⠀⠀⠈⠠⢀⠀⠀⠀⠀⠀\n",
       "⠠⠐⠀⠔⠀⠐⠀⠂⠀⢄⠤⠁⢀⠀⢀⠂⠂⢂⠀⠀⠀⠀⠈⠀⡀⢀⠡⠈⠐⠀⠄⠀⠑⠐⢈⠀⠀⠀⠨⠈\n",
       "⠀⡅⠠⠀⠐⠀⡐⠐⠂⠀⠐⢊⠀⡂⠂⠀⠀⠁⠀⠀⡀⠈⠄⠈⢐⠀⠀⠀⡁⠈⠐⠀⠐⠀⠐⠐⠐⠐⠀⠐\n",
       "⠀⠁⠄⠀⠠⠀⠀⠂⠈⠀⠀⢂⠂⠀⠄⠁⠀⡀⠂⠀⡀⠁⠀⠀⠀⠀⠂⠐⠀⢀⠨⠀⠂⠀⠔⠀⠀⠔⠐⠔\n",
       "⠂⠀⠀⠀⠀⠀⠀⠀⠂⢈⠀⠐⢈⠒⢀⠀⠀⢈⠀⢈⠐⠐⠀⠀⡀⠈⠀⠀⠂⠀⠀⠡⠀⠀⢈⠄⠀⠐⠠⠀\n",
       "⠐⠀⠀⠀⠄⠀⠀⠀⠀⠂⠂⡁⠀⠂⠀⠠⠐⠀⡁⠂⠀⠀⢈⠀⠀⠀⡀⠈⠐⠄⠂⠀⡁⠀⢀⠀⠀⢀⢀⢂\n",
       "⠐⠑⠀⠐⠄⠐⠁⠂⠀⠂⠂⢈⠀⠃⠀⠠⠂⡂⠐⠀⡁⠈⠀⢀⠈⠀⠐⠄⠀⠀⠀⠀⠀⠐⠀⠀⠀⠀⠄⠂\n",
       "⠈⠀⠀⠁⢐⠀⠐⠀⠐⠁⠙⠂⠀⠀⡂⠀⠀⠀⠀⠁⠐⠀⠂⠂⠄⡀⠈⠀⠀⠀⢀⠐⠀⠀⡢⠀⠐⡂⠀⠀\n",
       "⠀⢐⠀⢂⠁⢐⠐⡐⠀⠀⠀⠃⠀⡀⠀⠂⠂⡀⢑⠀⠐⠀⠈⠀⠀⠀⠁⠈⢀⠀⠀⠀⠀⠀⠀⠰⠖⠀⠈⠀\n",
       "⠀⠀⠁⡄⠈⠀⢀⢀⠂⠐⠈⡂⠐⠀⠁⠀⠀⠐⠂⠐⢐⠀⠐⠁⠂⠔⠀⠐⠀⠀⠈⠊⢀⡀⠀⠀⣈⠑⠐⠑\n",
       "⠀⠀⠄⠃⠰⠀⠐⠘⡀⠀⠐⡃⠀⡀⠆⠀⠀⠀⠀⠀⢐⠀⢀⠄⢀⠀⠀⢀⠀⠀⠰⠠⠘⠁⢆⠘⠰⠂⢀⢀\n",
       "⠀⠀⠂⠀⠂⠀⠀⠀⡀⠀⠤⡂⠀⠄⠄⠈⠀⠀⡂⠂⢀⠀⢐⠄⠀⠂⠠⢐⠠⠁⠀⠀⠂⠀⢔⠀⠀⢐⢀⠐"
      ]
     },
     "execution_count": 10,
     "metadata": {},
     "output_type": "execute_result"
    }
   ],
   "source": [
    "T, N = 20.0, 100\n",
    "#G = Causality.makeBarabasi(N,k=2)\n",
    "#ρ = 3/N\n",
    "#G = Causality.makeGNP(N,ρ)\n",
    "G = Causality.makeProximity(N,2.2/N)\n",
    "G.A "
   ]
  },
  {
   "cell_type": "code",
   "execution_count": 11,
   "metadata": {},
   "outputs": [
    {
     "data": {
      "text/plain": [
       "getpargen (generic function with 1 method)"
      ]
     },
     "execution_count": 11,
     "metadata": {},
     "output_type": "execute_result"
    }
   ],
   "source": [
    "getpar(pseed,autoinf::GaussianRate,inf_in::GaussianRate) = \n",
    "    [fill(pseed, 1, N);\n",
    "     fill(autoinf.a, 1, N); fill(autoinf.b, 1, N); fill(autoinf.c, 1, N);\n",
    "     fill(inf_in.a,   1, N); fill(inf_in.b, 1, N); fill(inf_in.c, 1, N);\n",
    "    ]\n",
    "\n",
    "getpargen(pseed, autoinf::GaussianRate, inf_out::GaussianRate) = \n",
    "    [pseed autoinf.a autoinf.b autoinf.c inf_out.a inf_out.b inf_out.c]\n"
   ]
  },
  {
   "cell_type": "code",
   "execution_count": 12,
   "metadata": {},
   "outputs": [],
   "source": [
    "#Initialize generation parameters\n",
    "λ = 0.2\n",
    "pseed = 5/N\n",
    "ε = 1e-3\n",
    "autoinf = GaussianRate(ε, T/2, 3T);\n",
    "inf_in = GaussianRate(1.0, T/2, 3T)\n",
    "inf_out = GaussianRate(λ, T/2, 3T)\n",
    "\n",
    "θp = getpar(pseed, autoinf, inf_in);\n",
    "θpgen = getpargen(pseed, autoinf, inf_out);"
   ]
  },
  {
   "cell_type": "code",
   "execution_count": 13,
   "metadata": {},
   "outputs": [],
   "source": [
    "#Initialize min/max boundaies\n",
    "T = Float64(T)\n",
    "pseed_min = ε\n",
    "pseed_max = 1-ε\n",
    "rate_min = GaussianRate(ε  ,  -T,   ε)\n",
    "rate_max = GaussianRate(1/ε  ,  2T,   1/ε)\n",
    "\n",
    "θmin = getpar(pseed_min , rate_min, rate_min);\n",
    "θmax = getpar(pseed_max , rate_max, rate_max);\n",
    "\n",
    "rate_min = GaussianRate(ε  ,  -T,   ε)\n",
    "rate_max = GaussianRate(1/ε  ,  T,   T)\n",
    "\n",
    "θgenmin = getpargen(pseed_min, rate_min, rate_min);\n",
    "θgenmax = getpargen(pseed_max, rate_max, rate_max);"
   ]
  },
  {
   "cell_type": "code",
   "execution_count": 14,
   "metadata": {},
   "outputs": [
    {
     "data": {
      "text/plain": [
       "GaussianInferentialSI"
      ]
     },
     "execution_count": 14,
     "metadata": {},
     "output_type": "execute_result"
    }
   ],
   "source": [
    "const Igen = GenerativeSI{GaussianRate,GaussianRate} \n",
    "const Igauss = GaussianInferentialSI"
   ]
  },
  {
   "cell_type": "code",
   "execution_count": 15,
   "metadata": {},
   "outputs": [
    {
     "data": {
      "text/plain": [
       "0.85"
      ]
     },
     "execution_count": 15,
     "metadata": {},
     "output_type": "execute_result"
    }
   ],
   "source": [
    "Mp = StochasticModel(Igen, T, θp, G, θpgen);\n",
    "sample! = Sampler(Mp);\n",
    "\n",
    "xtrue = zeros(N)\n",
    "sample!(xtrue)\n",
    "nobs, p = 500, 1e-5\n",
    "#nobs, p = N, 1e-5\n",
    "O = [(i = rand(1:N); ti = T*rand(); (i,xtrue[i] < ti,ti,p)) for r=1:nobs]\n",
    "sum(xtrue .< T)/N"
   ]
  },
  {
   "cell_type": "markdown",
   "metadata": {},
   "source": [
    "# CVA inference of Infection Hyperparameters"
   ]
  },
  {
   "cell_type": "code",
   "execution_count": 17,
   "metadata": {},
   "outputs": [],
   "source": [
    "lattice_size = 3\n",
    "F_lattice = zeros(lattice_size,lattice_size);"
   ]
  },
  {
   "cell_type": "code",
   "execution_count": 18,
   "metadata": {
    "tags": []
   },
   "outputs": [
    {
     "name": "stderr",
     "output_type": "stream",
     "text": [
      "\u001b[33m\u001b[1m┌ \u001b[22m\u001b[39m\u001b[33m\u001b[1mWarning: \u001b[22m\u001b[39mProgressMeter by default refresh meters with additional information in IJulia via `IJulia.clear_output`, which clears all outputs in the cell. \n",
      "\u001b[33m\u001b[1m│ \u001b[22m\u001b[39m - To prevent this behaviour, do `ProgressMeter.ijulia_behavior(:append)`. \n",
      "\u001b[33m\u001b[1m│ \u001b[22m\u001b[39m - To disable this warning message, do `ProgressMeter.ijulia_behavior(:clear)`.\n",
      "\u001b[33m\u001b[1m└ \u001b[22m\u001b[39m\u001b[90m@ ProgressMeter ~/.julia/packages/ProgressMeter/Vf8un/src/ProgressMeter.jl:620\u001b[39m\n",
      "\u001b[32mProgress: 100%|█████████████████████████████████████████| Time: 0:00:24\u001b[39m\n",
      "\u001b[34m  F:  133.7231481683355\u001b[39m\n"
     ]
    }
   ],
   "source": [
    "#Softened model\n",
    "T = Float64(T)\n",
    "inf_in = GaussianRate(1., T/2, 3*T );\n",
    "ε = 1e-3\n",
    "autoinf = GaussianRate(ε, T/2, T);\n",
    "\n",
    "\n",
    "pseed_min = 1/(10*N)\n",
    "pseed_max = 0.1\n",
    "inf_min = 0.01\n",
    "inf_max = 0.2\n",
    "pseed, inf_out = pseed_min, GaussianRate(inf_min, T/2, 3*T)\n",
    "\n",
    "step_inf = (inf_max - inf_min) / (lattice_size)\n",
    "step_seed = (pseed_max - pseed_min) / (lattice_size)\n",
    "\n",
    "for iinf in 1:lattice_size\n",
    "    pseed = pseed_min\n",
    "    for iseed in 1:lattice_size\n",
    "        θp2gen = getpargen(pseed, autoinf, inf_out);\n",
    "        θp2 = getpar(pseed, autoinf, inf_in);\n",
    "        Mp2 = StochasticModel(Igen, T, θp2, G, θp2gen);\n",
    "        θ = getpar(pseed, autoinf, inf_in);\n",
    "        M = StochasticModel(Igauss, T, θ, G, θp2gen);\n",
    "        descend!(Mp2, O; M=M, numsamples=600, numiters=100, \n",
    "             θmin=θmin, θmax=θmax,θgenmin=θgenmin, θgenmax=θgenmax, descender=SignDescender(0.1),\n",
    "             hyperdescender=SignDescender(0.),hyper_mask=[2,3,4,6,7]);\n",
    "        F_lattice[iinf,iseed] = descend!(Mp2, O; M=M, numsamples=600, numiters=100, \n",
    "             θmin=θmin, θmax=θmax,θgenmin=θgenmin, θgenmax=θgenmax, descender=SignDescender(0.02),\n",
    "             hyperdescender=SignDescender(0.),hyper_mask=[2,3,4,6,7]);\n",
    "        pseed += step_seed\n",
    "    end\n",
    "    inf_out = GaussianRate(inf_min + iinf*step_inf, T/2, 3*T)\n",
    "end"
   ]
  },
  {
   "cell_type": "code",
   "execution_count": null,
   "metadata": {
    "tags": []
   },
   "outputs": [],
   "source": [
    "#now we do the descent\n",
    "path = zeros(2,200)\n",
    "pseed, inf_out = 5/N , GaussianRate(0.2, T/2, 9*T) #initial point\n",
    "θp2gen = getpargen(pseed, autoinf, inf_out);\n",
    "θp2 = getpar(pseed, autoinf, inf_in);\n",
    "Mp2 = StochasticModel(Igen, T, θp2, G, θp2gen);\n",
    "θ = getpar(pseed, autoinf, inf_in);\n",
    "M = StochasticModel(Igauss, T, θ, G, θp2gen);\n",
    "for st = 1:100\n",
    "     descend!(Mp2, O; M=M, numsamples=600, numiters=1, \n",
    "         θmin=θmin, θmax=θmax,θgenmin=θgenmin, θgenmax=θgenmax, descender=SignDescender(0.1),\n",
    "         hyperdescender=SignDescender(0.1),hyper_mask=[2,3,4,6,7]);\n",
    "     path[1,st] = M.θgen[1]\n",
    "     path[2,st] = M.θgen[5]\n",
    "end\n",
    "for st = 101:200\n",
    "     descend!(Mp2, O; M=M, numsamples=600, numiters=1, \n",
    "         θmin=θmin, θmax=θmax,θgenmin=θgenmin, θgenmax=θgenmax, descender=SignDescender(0.02),\n",
    "         hyperdescender=SignDescender(0.02),hyper_mask=[2,3,4,6,7]);\n",
    "     path[1,st] = M.θgen[1]\n",
    "     path[2,st] = M.θgen[5]\n",
    "end"
   ]
  },
  {
   "cell_type": "code",
   "execution_count": null,
   "metadata": {},
   "outputs": [],
   "source": [
    "using Plots\n",
    "heatmap(LinRange(pseed_min,pseed_max,lattice_size),LinRange(inf_min,inf_max,lattice_size),((F_lattice)), xlabel=\"pseed\", ylabel=\"infection peak\",title=\"Heat map for free energy in function of hyperparams\")\n",
    "plot!(path[1,1:end],path[2,1:end],label=\"descent\")\n",
    "scatter!(path[1,1:1],path[2,1:1],label=\"initial point\")\n",
    "scatter!(path[1,end:end],path[2,end:end],label=\"final point\")\n",
    "scatter!([Mp.θgen[1],],[Mp.θgen[5],],label=\"true solution\")\n",
    "#savefig(\"descentVSmap\")"
   ]
  },
  {
   "cell_type": "markdown",
   "metadata": {
    "tags": []
   },
   "source": [
    "# A study on parameters variation"
   ]
  },
  {
   "cell_type": "code",
   "execution_count": null,
   "metadata": {
    "tags": []
   },
   "outputs": [],
   "source": [
    "pseed = 3/N\n",
    "ε = 1e-6\n",
    "final_st = 1\n",
    "lam = LinRange(0.04,0.4,15)\n",
    "infer_lam = zeros(length(lam))\n",
    "n_infected = zeros(length(lam))\n",
    "for st = 1:final_st\n",
    "    for lam_num = 1:length(lam)\n",
    "        λ = lam[lam_num] \n",
    "        autoinf = GaussianRate(ε, T/2, 6T);\n",
    "        inf_in = GaussianRate(1.0, T/2, 6T)\n",
    "        inf_out = GaussianRate(λ, T/2, 6T)\n",
    "\n",
    "        θp = getpar(pseed, autoinf, inf_in);\n",
    "        θpgen = getpargen(pseed, autoinf, inf_out);\n",
    "\n",
    "\n",
    "        Mp = StochasticModel(Igen, T, θp, G, θpgen);\n",
    "        sample! = Sampler(Mp);\n",
    "        nobs, p = 900, 1e-5\n",
    "        ni = 0\n",
    "        while ni<0.1 || ni>0.99\n",
    "            sample!(xtrue)\n",
    "            ni = sum(xtrue .< T) / N\n",
    "            #@show ni           \n",
    "        end\n",
    "        n_infected[lam_num] += ni/final_st \n",
    "        O = [(i = rand(1:N); ti = T * (1.0 + rand())/2; (i,xtrue[i] < ti,ti,p)) for r=1:nobs]\n",
    "        θp2gen = getpargen(pseed, autoinf, inf_out);\n",
    "        θp2 = getpar(pseed, autoinf, inf_in);\n",
    "        Mp2 = StochasticModel(Igen, T, θp2, G, θp2gen);\n",
    "        θ = getpar(pseed, autoinf, inf_in);\n",
    "        M = StochasticModel(Igauss, T, θ, G, θp2gen);\n",
    "        descend!(Mp2, O; M=M, numsamples=400, numiters=100, \n",
    "             θmin=θmin, θmax=θmax,θgenmin=θgenmin, θgenmax=θgenmax, descender=SignDescender(0.1),\n",
    "             hyperdescender=SignDescender(0.1),hyper_mask=[1,2,3,4,6,7]);\n",
    "        Causality.newdescend!(Mp2, O; M=M, numsamples=400, numiters=100, \n",
    "             θmin=θmin, θmax=θmax,θgenmin=θgenmin, θgenmax=θgenmax, descender=SignDescender(0.02),\n",
    "             hyperdescender=SignDescender(0.02),hyper_mask=[1,2,3,4,6,7]);\n",
    "        infer_lam[lam_num] += M.θgen[5] / final_st\n",
    "    end\n",
    "end"
   ]
  },
  {
   "cell_type": "code",
   "execution_count": 259,
   "metadata": {},
   "outputs": [
    {
     "data": {
      "image/svg+xml": [
       "<?xml version=\"1.0\" encoding=\"utf-8\"?>\n",
       "<svg xmlns=\"http://www.w3.org/2000/svg\" xmlns:xlink=\"http://www.w3.org/1999/xlink\" width=\"600\" height=\"400\" viewBox=\"0 0 2400 1600\">\n",
       "<defs>\n",
       "  <clipPath id=\"clip310\">\n",
       "    <rect x=\"0\" y=\"0\" width=\"2400\" height=\"1600\"/>\n",
       "  </clipPath>\n",
       "</defs>\n",
       "<path clip-path=\"url(#clip310)\" d=\"\n",
       "M0 1600 L2400 1600 L2400 0 L0 0  Z\n",
       "  \" fill=\"#ffffff\" fill-rule=\"evenodd\" fill-opacity=\"1\"/>\n",
       "<defs>\n",
       "  <clipPath id=\"clip311\">\n",
       "    <rect x=\"480\" y=\"0\" width=\"1681\" height=\"1600\"/>\n",
       "  </clipPath>\n",
       "</defs>\n",
       "<path clip-path=\"url(#clip310)\" d=\"\n",
       "M219.866 1423.18 L2352.76 1423.18 L2352.76 47.2441 L219.866 47.2441  Z\n",
       "  \" fill=\"#ffffff\" fill-rule=\"evenodd\" fill-opacity=\"1\"/>\n",
       "<defs>\n",
       "  <clipPath id=\"clip312\">\n",
       "    <rect x=\"219\" y=\"47\" width=\"2134\" height=\"1377\"/>\n",
       "  </clipPath>\n",
       "</defs>\n",
       "<polyline clip-path=\"url(#clip312)\" style=\"stroke:#000000; stroke-linecap:round; stroke-linejoin:round; stroke-width:2; stroke-opacity:0.1; fill:none\" points=\"\n",
       "  615.591,1423.18 615.591,47.2441 \n",
       "  \"/>\n",
       "<polyline clip-path=\"url(#clip312)\" style=\"stroke:#000000; stroke-linecap:round; stroke-linejoin:round; stroke-width:2; stroke-opacity:0.1; fill:none\" points=\"\n",
       "  1174.52,1423.18 1174.52,47.2441 \n",
       "  \"/>\n",
       "<polyline clip-path=\"url(#clip312)\" style=\"stroke:#000000; stroke-linecap:round; stroke-linejoin:round; stroke-width:2; stroke-opacity:0.1; fill:none\" points=\"\n",
       "  1733.46,1423.18 1733.46,47.2441 \n",
       "  \"/>\n",
       "<polyline clip-path=\"url(#clip312)\" style=\"stroke:#000000; stroke-linecap:round; stroke-linejoin:round; stroke-width:2; stroke-opacity:0.1; fill:none\" points=\"\n",
       "  2292.39,1423.18 2292.39,47.2441 \n",
       "  \"/>\n",
       "<polyline clip-path=\"url(#clip310)\" style=\"stroke:#000000; stroke-linecap:round; stroke-linejoin:round; stroke-width:4; stroke-opacity:1; fill:none\" points=\"\n",
       "  219.866,1423.18 2352.76,1423.18 \n",
       "  \"/>\n",
       "<polyline clip-path=\"url(#clip310)\" style=\"stroke:#000000; stroke-linecap:round; stroke-linejoin:round; stroke-width:4; stroke-opacity:1; fill:none\" points=\"\n",
       "  615.591,1423.18 615.591,1404.28 \n",
       "  \"/>\n",
       "<polyline clip-path=\"url(#clip310)\" style=\"stroke:#000000; stroke-linecap:round; stroke-linejoin:round; stroke-width:4; stroke-opacity:1; fill:none\" points=\"\n",
       "  1174.52,1423.18 1174.52,1404.28 \n",
       "  \"/>\n",
       "<polyline clip-path=\"url(#clip310)\" style=\"stroke:#000000; stroke-linecap:round; stroke-linejoin:round; stroke-width:4; stroke-opacity:1; fill:none\" points=\"\n",
       "  1733.46,1423.18 1733.46,1404.28 \n",
       "  \"/>\n",
       "<polyline clip-path=\"url(#clip310)\" style=\"stroke:#000000; stroke-linecap:round; stroke-linejoin:round; stroke-width:4; stroke-opacity:1; fill:none\" points=\"\n",
       "  2292.39,1423.18 2292.39,1404.28 \n",
       "  \"/>\n",
       "<path clip-path=\"url(#clip310)\" d=\"M593.589 1454.1 Q589.978 1454.1 588.149 1457.66 Q586.344 1461.2 586.344 1468.33 Q586.344 1475.44 588.149 1479.01 Q589.978 1482.55 593.589 1482.55 Q597.223 1482.55 599.029 1479.01 Q600.857 1475.44 600.857 1468.33 Q600.857 1461.2 599.029 1457.66 Q597.223 1454.1 593.589 1454.1 M593.589 1450.39 Q599.399 1450.39 602.455 1455 Q605.533 1459.58 605.533 1468.33 Q605.533 1477.06 602.455 1481.67 Q599.399 1486.25 593.589 1486.25 Q587.779 1486.25 584.7 1481.67 Q581.644 1477.06 581.644 1468.33 Q581.644 1459.58 584.7 1455 Q587.779 1450.39 593.589 1450.39 Z\" fill=\"#000000\" fill-rule=\"evenodd\" fill-opacity=\"1\" /><path clip-path=\"url(#clip310)\" d=\"M613.751 1479.7 L618.635 1479.7 L618.635 1485.58 L613.751 1485.58 L613.751 1479.7 Z\" fill=\"#000000\" fill-rule=\"evenodd\" fill-opacity=\"1\" /><path clip-path=\"url(#clip310)\" d=\"M629.63 1481.64 L637.269 1481.64 L637.269 1455.28 L628.959 1456.95 L628.959 1452.69 L637.223 1451.02 L641.899 1451.02 L641.899 1481.64 L649.538 1481.64 L649.538 1485.58 L629.63 1485.58 L629.63 1481.64 Z\" fill=\"#000000\" fill-rule=\"evenodd\" fill-opacity=\"1\" /><path clip-path=\"url(#clip310)\" d=\"M1152.71 1454.1 Q1149.1 1454.1 1147.27 1457.66 Q1145.46 1461.2 1145.46 1468.33 Q1145.46 1475.44 1147.27 1479.01 Q1149.1 1482.55 1152.71 1482.55 Q1156.34 1482.55 1158.15 1479.01 Q1159.98 1475.44 1159.98 1468.33 Q1159.98 1461.2 1158.15 1457.66 Q1156.34 1454.1 1152.71 1454.1 M1152.71 1450.39 Q1158.52 1450.39 1161.57 1455 Q1164.65 1459.58 1164.65 1468.33 Q1164.65 1477.06 1161.57 1481.67 Q1158.52 1486.25 1152.71 1486.25 Q1146.9 1486.25 1143.82 1481.67 Q1140.76 1477.06 1140.76 1468.33 Q1140.76 1459.58 1143.82 1455 Q1146.9 1450.39 1152.71 1450.39 Z\" fill=\"#000000\" fill-rule=\"evenodd\" fill-opacity=\"1\" /><path clip-path=\"url(#clip310)\" d=\"M1172.87 1479.7 L1177.75 1479.7 L1177.75 1485.58 L1172.87 1485.58 L1172.87 1479.7 Z\" fill=\"#000000\" fill-rule=\"evenodd\" fill-opacity=\"1\" /><path clip-path=\"url(#clip310)\" d=\"M1191.97 1481.64 L1208.29 1481.64 L1208.29 1485.58 L1186.34 1485.58 L1186.34 1481.64 Q1189 1478.89 1193.59 1474.26 Q1198.19 1469.61 1199.37 1468.27 Q1201.62 1465.74 1202.5 1464.01 Q1203.4 1462.25 1203.4 1460.56 Q1203.4 1457.8 1201.46 1456.07 Q1199.54 1454.33 1196.43 1454.33 Q1194.23 1454.33 1191.78 1455.09 Q1189.35 1455.86 1186.57 1457.41 L1186.57 1452.69 Q1189.4 1451.55 1191.85 1450.97 Q1194.3 1450.39 1196.34 1450.39 Q1201.71 1450.39 1204.91 1453.08 Q1208.1 1455.77 1208.1 1460.26 Q1208.1 1462.39 1207.29 1464.31 Q1206.5 1466.2 1204.4 1468.8 Q1203.82 1469.47 1200.72 1472.69 Q1197.61 1475.88 1191.97 1481.64 Z\" fill=\"#000000\" fill-rule=\"evenodd\" fill-opacity=\"1\" /><path clip-path=\"url(#clip310)\" d=\"M1711.17 1454.1 Q1707.56 1454.1 1705.73 1457.66 Q1703.92 1461.2 1703.92 1468.33 Q1703.92 1475.44 1705.73 1479.01 Q1707.56 1482.55 1711.17 1482.55 Q1714.8 1482.55 1716.61 1479.01 Q1718.43 1475.44 1718.43 1468.33 Q1718.43 1461.2 1716.61 1457.66 Q1714.8 1454.1 1711.17 1454.1 M1711.17 1450.39 Q1716.98 1450.39 1720.03 1455 Q1723.11 1459.58 1723.11 1468.33 Q1723.11 1477.06 1720.03 1481.67 Q1716.98 1486.25 1711.17 1486.25 Q1705.36 1486.25 1702.28 1481.67 Q1699.22 1477.06 1699.22 1468.33 Q1699.22 1459.58 1702.28 1455 Q1705.36 1450.39 1711.17 1450.39 Z\" fill=\"#000000\" fill-rule=\"evenodd\" fill-opacity=\"1\" /><path clip-path=\"url(#clip310)\" d=\"M1731.33 1479.7 L1736.21 1479.7 L1736.21 1485.58 L1731.33 1485.58 L1731.33 1479.7 Z\" fill=\"#000000\" fill-rule=\"evenodd\" fill-opacity=\"1\" /><path clip-path=\"url(#clip310)\" d=\"M1760.56 1466.95 Q1763.92 1467.66 1765.8 1469.93 Q1767.69 1472.2 1767.69 1475.53 Q1767.69 1480.65 1764.18 1483.45 Q1760.66 1486.25 1754.18 1486.25 Q1752 1486.25 1749.68 1485.81 Q1747.39 1485.39 1744.94 1484.54 L1744.94 1480.02 Q1746.88 1481.16 1749.2 1481.74 Q1751.51 1482.32 1754.04 1482.32 Q1758.43 1482.32 1760.73 1480.58 Q1763.04 1478.84 1763.04 1475.53 Q1763.04 1472.48 1760.89 1470.77 Q1758.76 1469.03 1754.94 1469.03 L1750.91 1469.03 L1750.91 1465.19 L1755.12 1465.19 Q1758.57 1465.19 1760.4 1463.82 Q1762.23 1462.43 1762.23 1459.84 Q1762.23 1457.18 1760.33 1455.77 Q1758.46 1454.33 1754.94 1454.33 Q1753.02 1454.33 1750.82 1454.75 Q1748.62 1455.16 1745.98 1456.04 L1745.98 1451.88 Q1748.64 1451.14 1750.96 1450.77 Q1753.3 1450.39 1755.36 1450.39 Q1760.68 1450.39 1763.78 1452.83 Q1766.88 1455.23 1766.88 1459.35 Q1766.88 1462.22 1765.24 1464.21 Q1763.6 1466.18 1760.56 1466.95 Z\" fill=\"#000000\" fill-rule=\"evenodd\" fill-opacity=\"1\" /><path clip-path=\"url(#clip310)\" d=\"M2269.53 1454.1 Q2265.92 1454.1 2264.09 1457.66 Q2262.29 1461.2 2262.29 1468.33 Q2262.29 1475.44 2264.09 1479.01 Q2265.92 1482.55 2269.53 1482.55 Q2273.17 1482.55 2274.97 1479.01 Q2276.8 1475.44 2276.8 1468.33 Q2276.8 1461.2 2274.97 1457.66 Q2273.17 1454.1 2269.53 1454.1 M2269.53 1450.39 Q2275.34 1450.39 2278.4 1455 Q2281.48 1459.58 2281.48 1468.33 Q2281.48 1477.06 2278.4 1481.67 Q2275.34 1486.25 2269.53 1486.25 Q2263.72 1486.25 2260.64 1481.67 Q2257.59 1477.06 2257.59 1468.33 Q2257.59 1459.58 2260.64 1455 Q2263.72 1450.39 2269.53 1450.39 Z\" fill=\"#000000\" fill-rule=\"evenodd\" fill-opacity=\"1\" /><path clip-path=\"url(#clip310)\" d=\"M2289.69 1479.7 L2294.58 1479.7 L2294.58 1485.58 L2289.69 1485.58 L2289.69 1479.7 Z\" fill=\"#000000\" fill-rule=\"evenodd\" fill-opacity=\"1\" /><path clip-path=\"url(#clip310)\" d=\"M2317.61 1455.09 L2305.81 1473.54 L2317.61 1473.54 L2317.61 1455.09 M2316.38 1451.02 L2322.26 1451.02 L2322.26 1473.54 L2327.19 1473.54 L2327.19 1477.43 L2322.26 1477.43 L2322.26 1485.58 L2317.61 1485.58 L2317.61 1477.43 L2302.01 1477.43 L2302.01 1472.92 L2316.38 1451.02 Z\" fill=\"#000000\" fill-rule=\"evenodd\" fill-opacity=\"1\" /><path clip-path=\"url(#clip310)\" d=\"M1232.22 1522.27 L1232.22 1532.4 L1244.28 1532.4 L1244.28 1536.95 L1232.22 1536.95 L1232.22 1556.3 Q1232.22 1560.66 1233.4 1561.9 Q1234.61 1563.14 1238.27 1563.14 L1244.28 1563.14 L1244.28 1568.04 L1238.27 1568.04 Q1231.49 1568.04 1228.91 1565.53 Q1226.33 1562.98 1226.33 1556.3 L1226.33 1536.95 L1222.03 1536.95 L1222.03 1532.4 L1226.33 1532.4 L1226.33 1522.27 L1232.22 1522.27 Z\" fill=\"#000000\" fill-rule=\"evenodd\" fill-opacity=\"1\" /><path clip-path=\"url(#clip310)\" d=\"M1272.64 1537.87 Q1271.65 1537.3 1270.48 1537.04 Q1269.33 1536.76 1267.93 1536.76 Q1262.96 1536.76 1260.29 1540 Q1257.65 1543.22 1257.65 1549.27 L1257.65 1568.04 L1251.76 1568.04 L1251.76 1532.4 L1257.65 1532.4 L1257.65 1537.93 Q1259.5 1534.69 1262.46 1533.13 Q1265.42 1531.54 1269.65 1531.54 Q1270.25 1531.54 1270.99 1531.63 Q1271.72 1531.7 1272.61 1531.85 L1272.64 1537.87 Z\" fill=\"#000000\" fill-rule=\"evenodd\" fill-opacity=\"1\" /><path clip-path=\"url(#clip310)\" d=\"M1278.18 1553.98 L1278.18 1532.4 L1284.04 1532.4 L1284.04 1553.75 Q1284.04 1558.81 1286.01 1561.36 Q1287.98 1563.87 1291.93 1563.87 Q1296.67 1563.87 1299.41 1560.85 Q1302.18 1557.83 1302.18 1552.61 L1302.18 1532.4 L1308.03 1532.4 L1308.03 1568.04 L1302.18 1568.04 L1302.18 1562.57 Q1300.05 1565.82 1297.21 1567.41 Q1294.41 1568.97 1290.69 1568.97 Q1284.54 1568.97 1281.36 1565.15 Q1278.18 1561.33 1278.18 1553.98 M1292.92 1531.54 L1292.92 1531.54 Z\" fill=\"#000000\" fill-rule=\"evenodd\" fill-opacity=\"1\" /><path clip-path=\"url(#clip310)\" d=\"M1350.59 1548.76 L1350.59 1551.62 L1323.66 1551.62 Q1324.04 1557.67 1327.29 1560.85 Q1330.57 1564 1336.39 1564 Q1339.77 1564 1342.92 1563.17 Q1346.1 1562.35 1349.22 1560.69 L1349.22 1566.23 Q1346.07 1567.57 1342.76 1568.27 Q1339.45 1568.97 1336.04 1568.97 Q1327.51 1568.97 1322.52 1564 Q1317.55 1559.04 1317.55 1550.57 Q1317.55 1541.82 1322.26 1536.69 Q1327 1531.54 1335.02 1531.54 Q1342.22 1531.54 1346.39 1536.18 Q1350.59 1540.8 1350.59 1548.76 M1344.73 1547.04 Q1344.67 1542.23 1342.03 1539.37 Q1339.42 1536.5 1335.09 1536.5 Q1330.19 1536.5 1327.23 1539.27 Q1324.3 1542.04 1323.85 1547.07 L1344.73 1547.04 Z\" fill=\"#000000\" fill-rule=\"evenodd\" fill-opacity=\"1\" /><polyline clip-path=\"url(#clip312)\" style=\"stroke:#000000; stroke-linecap:round; stroke-linejoin:round; stroke-width:2; stroke-opacity:0.1; fill:none\" points=\"\n",
       "  219.866,1162.09 2352.76,1162.09 \n",
       "  \"/>\n",
       "<polyline clip-path=\"url(#clip312)\" style=\"stroke:#000000; stroke-linecap:round; stroke-linejoin:round; stroke-width:2; stroke-opacity:0.1; fill:none\" points=\"\n",
       "  219.866,889.707 2352.76,889.707 \n",
       "  \"/>\n",
       "<polyline clip-path=\"url(#clip312)\" style=\"stroke:#000000; stroke-linecap:round; stroke-linejoin:round; stroke-width:2; stroke-opacity:0.1; fill:none\" points=\"\n",
       "  219.866,617.327 2352.76,617.327 \n",
       "  \"/>\n",
       "<polyline clip-path=\"url(#clip312)\" style=\"stroke:#000000; stroke-linecap:round; stroke-linejoin:round; stroke-width:2; stroke-opacity:0.1; fill:none\" points=\"\n",
       "  219.866,344.947 2352.76,344.947 \n",
       "  \"/>\n",
       "<polyline clip-path=\"url(#clip312)\" style=\"stroke:#000000; stroke-linecap:round; stroke-linejoin:round; stroke-width:2; stroke-opacity:0.1; fill:none\" points=\"\n",
       "  219.866,72.5667 2352.76,72.5667 \n",
       "  \"/>\n",
       "<polyline clip-path=\"url(#clip310)\" style=\"stroke:#000000; stroke-linecap:round; stroke-linejoin:round; stroke-width:4; stroke-opacity:1; fill:none\" points=\"\n",
       "  219.866,1423.18 219.866,47.2441 \n",
       "  \"/>\n",
       "<polyline clip-path=\"url(#clip310)\" style=\"stroke:#000000; stroke-linecap:round; stroke-linejoin:round; stroke-width:4; stroke-opacity:1; fill:none\" points=\"\n",
       "  219.866,1162.09 238.764,1162.09 \n",
       "  \"/>\n",
       "<polyline clip-path=\"url(#clip310)\" style=\"stroke:#000000; stroke-linecap:round; stroke-linejoin:round; stroke-width:4; stroke-opacity:1; fill:none\" points=\"\n",
       "  219.866,889.707 238.764,889.707 \n",
       "  \"/>\n",
       "<polyline clip-path=\"url(#clip310)\" style=\"stroke:#000000; stroke-linecap:round; stroke-linejoin:round; stroke-width:4; stroke-opacity:1; fill:none\" points=\"\n",
       "  219.866,617.327 238.764,617.327 \n",
       "  \"/>\n",
       "<polyline clip-path=\"url(#clip310)\" style=\"stroke:#000000; stroke-linecap:round; stroke-linejoin:round; stroke-width:4; stroke-opacity:1; fill:none\" points=\"\n",
       "  219.866,344.947 238.764,344.947 \n",
       "  \"/>\n",
       "<polyline clip-path=\"url(#clip310)\" style=\"stroke:#000000; stroke-linecap:round; stroke-linejoin:round; stroke-width:4; stroke-opacity:1; fill:none\" points=\"\n",
       "  219.866,72.5667 238.764,72.5667 \n",
       "  \"/>\n",
       "<path clip-path=\"url(#clip310)\" d=\"M128.288 1147.89 Q124.677 1147.89 122.848 1151.45 Q121.043 1154.99 121.043 1162.12 Q121.043 1169.23 122.848 1172.79 Q124.677 1176.33 128.288 1176.33 Q131.922 1176.33 133.728 1172.79 Q135.556 1169.23 135.556 1162.12 Q135.556 1154.99 133.728 1151.45 Q131.922 1147.89 128.288 1147.89 M128.288 1144.18 Q134.098 1144.18 137.154 1148.79 Q140.232 1153.37 140.232 1162.12 Q140.232 1170.85 137.154 1175.45 Q134.098 1180.04 128.288 1180.04 Q122.478 1180.04 119.399 1175.45 Q116.343 1170.85 116.343 1162.12 Q116.343 1153.37 119.399 1148.79 Q122.478 1144.18 128.288 1144.18 Z\" fill=\"#000000\" fill-rule=\"evenodd\" fill-opacity=\"1\" /><path clip-path=\"url(#clip310)\" d=\"M148.45 1173.49 L153.334 1173.49 L153.334 1179.37 L148.45 1179.37 L148.45 1173.49 Z\" fill=\"#000000\" fill-rule=\"evenodd\" fill-opacity=\"1\" /><path clip-path=\"url(#clip310)\" d=\"M167.547 1175.43 L183.866 1175.43 L183.866 1179.37 L161.922 1179.37 L161.922 1175.43 Q164.584 1172.68 169.167 1168.05 Q173.774 1163.39 174.954 1162.05 Q177.2 1159.53 178.079 1157.79 Q178.982 1156.03 178.982 1154.34 Q178.982 1151.59 177.038 1149.85 Q175.116 1148.12 172.014 1148.12 Q169.815 1148.12 167.362 1148.88 Q164.931 1149.64 162.153 1151.2 L162.153 1146.47 Q164.977 1145.34 167.431 1144.76 Q169.885 1144.18 171.922 1144.18 Q177.292 1144.18 180.487 1146.87 Q183.681 1149.55 183.681 1154.04 Q183.681 1156.17 182.871 1158.09 Q182.084 1159.99 179.977 1162.58 Q179.399 1163.26 176.297 1166.47 Q173.195 1169.67 167.547 1175.43 Z\" fill=\"#000000\" fill-rule=\"evenodd\" fill-opacity=\"1\" /><path clip-path=\"url(#clip310)\" d=\"M126.205 875.506 Q122.593 875.506 120.765 879.07 Q118.959 882.612 118.959 889.742 Q118.959 896.848 120.765 900.413 Q122.593 903.954 126.205 903.954 Q129.839 903.954 131.644 900.413 Q133.473 896.848 133.473 889.742 Q133.473 882.612 131.644 879.07 Q129.839 875.506 126.205 875.506 M126.205 871.802 Q132.015 871.802 135.07 876.408 Q138.149 880.992 138.149 889.742 Q138.149 898.468 135.07 903.075 Q132.015 907.658 126.205 907.658 Q120.394 907.658 117.316 903.075 Q114.26 898.468 114.26 889.742 Q114.26 880.992 117.316 876.408 Q120.394 871.802 126.205 871.802 Z\" fill=\"#000000\" fill-rule=\"evenodd\" fill-opacity=\"1\" /><path clip-path=\"url(#clip310)\" d=\"M146.366 901.107 L151.251 901.107 L151.251 906.987 L146.366 906.987 L146.366 901.107 Z\" fill=\"#000000\" fill-rule=\"evenodd\" fill-opacity=\"1\" /><path clip-path=\"url(#clip310)\" d=\"M174.283 876.501 L162.477 894.95 L174.283 894.95 L174.283 876.501 M173.056 872.427 L178.936 872.427 L178.936 894.95 L183.866 894.95 L183.866 898.839 L178.936 898.839 L178.936 906.987 L174.283 906.987 L174.283 898.839 L158.681 898.839 L158.681 894.325 L173.056 872.427 Z\" fill=\"#000000\" fill-rule=\"evenodd\" fill-opacity=\"1\" /><path clip-path=\"url(#clip310)\" d=\"M126.529 603.125 Q122.918 603.125 121.089 606.69 Q119.283 610.232 119.283 617.362 Q119.283 624.468 121.089 628.033 Q122.918 631.574 126.529 631.574 Q130.163 631.574 131.968 628.033 Q133.797 624.468 133.797 617.362 Q133.797 610.232 131.968 606.69 Q130.163 603.125 126.529 603.125 M126.529 599.422 Q132.339 599.422 135.394 604.028 Q138.473 608.612 138.473 617.362 Q138.473 626.088 135.394 630.695 Q132.339 635.278 126.529 635.278 Q120.718 635.278 117.64 630.695 Q114.584 626.088 114.584 617.362 Q114.584 608.612 117.64 604.028 Q120.718 599.422 126.529 599.422 Z\" fill=\"#000000\" fill-rule=\"evenodd\" fill-opacity=\"1\" /><path clip-path=\"url(#clip310)\" d=\"M146.691 628.727 L151.575 628.727 L151.575 634.607 L146.691 634.607 L146.691 628.727 Z\" fill=\"#000000\" fill-rule=\"evenodd\" fill-opacity=\"1\" /><path clip-path=\"url(#clip310)\" d=\"M172.339 615.463 Q169.19 615.463 167.339 617.616 Q165.51 619.769 165.51 623.519 Q165.51 627.246 167.339 629.422 Q169.19 631.574 172.339 631.574 Q175.487 631.574 177.315 629.422 Q179.167 627.246 179.167 623.519 Q179.167 619.769 177.315 617.616 Q175.487 615.463 172.339 615.463 M181.621 600.811 L181.621 605.07 Q179.862 604.237 178.056 603.797 Q176.274 603.357 174.514 603.357 Q169.885 603.357 167.431 606.482 Q165.001 609.607 164.653 615.926 Q166.019 613.912 168.079 612.848 Q170.139 611.76 172.616 611.76 Q177.825 611.76 180.834 614.931 Q183.866 618.079 183.866 623.519 Q183.866 628.843 180.718 632.061 Q177.57 635.278 172.339 635.278 Q166.343 635.278 163.172 630.695 Q160.001 626.088 160.001 617.362 Q160.001 609.167 163.89 604.306 Q167.778 599.422 174.329 599.422 Q176.089 599.422 177.871 599.769 Q179.676 600.116 181.621 600.811 Z\" fill=\"#000000\" fill-rule=\"evenodd\" fill-opacity=\"1\" /><path clip-path=\"url(#clip310)\" d=\"M126.783 330.745 Q123.172 330.745 121.343 334.31 Q119.538 337.852 119.538 344.981 Q119.538 352.088 121.343 355.653 Q123.172 359.194 126.783 359.194 Q130.417 359.194 132.223 355.653 Q134.052 352.088 134.052 344.981 Q134.052 337.852 132.223 334.31 Q130.417 330.745 126.783 330.745 M126.783 327.042 Q132.593 327.042 135.649 331.648 Q138.728 336.231 138.728 344.981 Q138.728 353.708 135.649 358.315 Q132.593 362.898 126.783 362.898 Q120.973 362.898 117.894 358.315 Q114.839 353.708 114.839 344.981 Q114.839 336.231 117.894 331.648 Q120.973 327.042 126.783 327.042 Z\" fill=\"#000000\" fill-rule=\"evenodd\" fill-opacity=\"1\" /><path clip-path=\"url(#clip310)\" d=\"M146.945 356.347 L151.829 356.347 L151.829 362.227 L146.945 362.227 L146.945 356.347 Z\" fill=\"#000000\" fill-rule=\"evenodd\" fill-opacity=\"1\" /><path clip-path=\"url(#clip310)\" d=\"M172.014 345.815 Q168.681 345.815 166.76 347.597 Q164.862 349.38 164.862 352.505 Q164.862 355.63 166.76 357.412 Q168.681 359.194 172.014 359.194 Q175.348 359.194 177.269 357.412 Q179.19 355.606 179.19 352.505 Q179.19 349.38 177.269 347.597 Q175.371 345.815 172.014 345.815 M167.339 343.824 Q164.329 343.083 162.64 341.023 Q160.973 338.963 160.973 336 Q160.973 331.857 163.913 329.449 Q166.876 327.042 172.014 327.042 Q177.176 327.042 180.116 329.449 Q183.056 331.857 183.056 336 Q183.056 338.963 181.366 341.023 Q179.7 343.083 176.714 343.824 Q180.093 344.611 181.968 346.903 Q183.866 349.194 183.866 352.505 Q183.866 357.528 180.788 360.213 Q177.732 362.898 172.014 362.898 Q166.297 362.898 163.218 360.213 Q160.163 357.528 160.163 352.505 Q160.163 349.194 162.061 346.903 Q163.959 344.611 167.339 343.824 M165.626 336.44 Q165.626 339.125 167.292 340.63 Q168.982 342.134 172.014 342.134 Q175.024 342.134 176.714 340.63 Q178.426 339.125 178.426 336.44 Q178.426 333.755 176.714 332.25 Q175.024 330.745 172.014 330.745 Q168.982 330.745 167.292 332.25 Q165.626 333.755 165.626 336.44 Z\" fill=\"#000000\" fill-rule=\"evenodd\" fill-opacity=\"1\" /><path clip-path=\"url(#clip310)\" d=\"M117.501 85.9115 L125.14 85.9115 L125.14 59.5459 L116.83 61.2126 L116.83 56.9533 L125.093 55.2867 L129.769 55.2867 L129.769 85.9115 L137.408 85.9115 L137.408 89.8467 L117.501 89.8467 L117.501 85.9115 Z\" fill=\"#000000\" fill-rule=\"evenodd\" fill-opacity=\"1\" /><path clip-path=\"url(#clip310)\" d=\"M146.853 83.9671 L151.737 83.9671 L151.737 89.8467 L146.853 89.8467 L146.853 83.9671 Z\" fill=\"#000000\" fill-rule=\"evenodd\" fill-opacity=\"1\" /><path clip-path=\"url(#clip310)\" d=\"M171.922 58.3654 Q168.311 58.3654 166.482 61.9302 Q164.677 65.4718 164.677 72.6014 Q164.677 79.7078 166.482 83.2726 Q168.311 86.8143 171.922 86.8143 Q175.556 86.8143 177.362 83.2726 Q179.19 79.7078 179.19 72.6014 Q179.19 65.4718 177.362 61.9302 Q175.556 58.3654 171.922 58.3654 M171.922 54.6617 Q177.732 54.6617 180.788 59.2681 Q183.866 63.8514 183.866 72.6014 Q183.866 81.3282 180.788 85.9347 Q177.732 90.518 171.922 90.518 Q166.112 90.518 163.033 85.9347 Q159.978 81.3282 159.978 72.6014 Q159.978 63.8514 163.033 59.2681 Q166.112 54.6617 171.922 54.6617 Z\" fill=\"#000000\" fill-rule=\"evenodd\" fill-opacity=\"1\" /><path clip-path=\"url(#clip310)\" d=\"M28.3562 856.67 L28.3562 850.813 L64.0042 850.813 L64.0042 856.67 L28.3562 856.67 M14.479 856.67 L14.479 850.813 L21.895 850.813 L21.895 856.67 L14.479 856.67 Z\" fill=\"#000000\" fill-rule=\"evenodd\" fill-opacity=\"1\" /><path clip-path=\"url(#clip310)\" d=\"M42.4881 808.927 L64.0042 808.927 L64.0042 814.783 L42.679 814.783 Q37.6183 814.783 35.1038 816.757 Q32.5894 818.73 32.5894 822.677 Q32.5894 827.419 35.6131 830.156 Q38.6368 832.894 43.8567 832.894 L64.0042 832.894 L64.0042 838.782 L28.3562 838.782 L28.3562 832.894 L33.8944 832.894 Q30.6797 830.793 29.0883 827.96 Q27.4968 825.096 27.4968 821.372 Q27.4968 815.229 31.3163 812.078 Q35.1038 808.927 42.4881 808.927 Z\" fill=\"#000000\" fill-rule=\"evenodd\" fill-opacity=\"1\" /><path clip-path=\"url(#clip310)\" d=\"M14.479 779.199 L19.3487 779.199 L19.3487 784.801 Q19.3487 787.952 20.6219 789.193 Q21.895 790.403 25.2052 790.403 L28.3562 790.403 L28.3562 780.759 L32.9077 780.759 L32.9077 790.403 L64.0042 790.403 L64.0042 796.291 L32.9077 796.291 L32.9077 801.893 L28.3562 801.893 L28.3562 796.291 L25.8736 796.291 Q19.9216 796.291 17.2162 793.522 Q14.479 790.753 14.479 784.737 L14.479 779.199 Z\" fill=\"#000000\" fill-rule=\"evenodd\" fill-opacity=\"1\" /><path clip-path=\"url(#clip310)\" d=\"M44.7161 743.806 L47.5806 743.806 L47.5806 770.733 Q53.6281 770.351 56.8109 767.104 Q59.9619 763.826 59.9619 758.001 Q59.9619 754.627 59.1344 751.476 Q58.3069 748.293 56.6518 745.174 L62.1899 745.174 Q63.5267 748.325 64.227 751.635 Q64.9272 754.946 64.9272 758.351 Q64.9272 766.881 59.9619 771.878 Q54.9967 776.844 46.5303 776.844 Q37.7774 776.844 32.6531 772.133 Q27.4968 767.391 27.4968 759.37 Q27.4968 752.177 32.1438 748.007 Q36.7589 743.806 44.7161 743.806 M42.9973 749.662 Q38.1912 749.726 35.3266 752.368 Q32.4621 754.977 32.4621 759.306 Q32.4621 764.208 35.2312 767.168 Q38.0002 770.096 43.0292 770.542 L42.9973 749.662 Z\" fill=\"#000000\" fill-rule=\"evenodd\" fill-opacity=\"1\" /><path clip-path=\"url(#clip310)\" d=\"M33.8307 713.537 Q33.2578 714.523 33.0032 715.701 Q32.7167 716.847 32.7167 718.247 Q32.7167 723.213 35.9632 725.886 Q39.1779 728.528 45.2253 728.528 L64.0042 728.528 L64.0042 734.416 L28.3562 734.416 L28.3562 728.528 L33.8944 728.528 Q30.6479 726.682 29.0883 723.722 Q27.4968 720.762 27.4968 716.529 Q27.4968 715.924 27.5923 715.192 Q27.656 714.46 27.8151 713.569 L33.8307 713.537 Z\" fill=\"#000000\" fill-rule=\"evenodd\" fill-opacity=\"1\" /><path clip-path=\"url(#clip310)\" d=\"M33.8307 687.883 Q33.2578 688.87 33.0032 690.047 Q32.7167 691.193 32.7167 692.594 Q32.7167 697.559 35.9632 700.232 Q39.1779 702.874 45.2253 702.874 L64.0042 702.874 L64.0042 708.762 L28.3562 708.762 L28.3562 702.874 L33.8944 702.874 Q30.6479 701.028 29.0883 698.068 Q27.4968 695.108 27.4968 690.875 Q27.4968 690.27 27.5923 689.538 Q27.656 688.806 27.8151 687.915 L33.8307 687.883 Z\" fill=\"#000000\" fill-rule=\"evenodd\" fill-opacity=\"1\" /><path clip-path=\"url(#clip310)\" d=\"M44.7161 652.681 L47.5806 652.681 L47.5806 679.608 Q53.6281 679.226 56.8109 675.979 Q59.9619 672.701 59.9619 666.876 Q59.9619 663.502 59.1344 660.351 Q58.3069 657.168 56.6518 654.049 L62.1899 654.049 Q63.5267 657.2 64.227 660.51 Q64.9272 663.821 64.9272 667.226 Q64.9272 675.756 59.9619 680.753 Q54.9967 685.719 46.5303 685.719 Q37.7774 685.719 32.6531 681.008 Q27.4968 676.266 27.4968 668.245 Q27.4968 661.051 32.1438 656.882 Q36.7589 652.681 44.7161 652.681 M42.9973 658.537 Q38.1912 658.601 35.3266 661.242 Q32.4621 663.852 32.4621 668.181 Q32.4621 673.083 35.2312 676.043 Q38.0002 678.971 43.0292 679.417 L42.9973 658.537 Z\" fill=\"#000000\" fill-rule=\"evenodd\" fill-opacity=\"1\" /><path clip-path=\"url(#clip310)\" d=\"M33.7671 619.611 L14.479 619.611 L14.479 613.754 L64.0042 613.754 L64.0042 619.611 L58.657 619.611 Q61.8398 621.457 63.3994 624.29 Q64.9272 627.09 64.9272 631.037 Q64.9272 637.498 59.771 641.572 Q54.6147 645.615 46.212 645.615 Q37.8093 645.615 32.6531 641.572 Q27.4968 637.498 27.4968 631.037 Q27.4968 627.09 29.0564 624.29 Q30.5842 621.457 33.7671 619.611 M46.212 639.567 Q52.6732 639.567 56.3653 636.925 Q60.0256 634.252 60.0256 629.605 Q60.0256 624.958 56.3653 622.284 Q52.6732 619.611 46.212 619.611 Q39.7508 619.611 36.0905 622.284 Q32.3984 624.958 32.3984 629.605 Q32.3984 634.252 36.0905 636.925 Q39.7508 639.567 46.212 639.567 Z\" fill=\"#000000\" fill-rule=\"evenodd\" fill-opacity=\"1\" /><circle clip-path=\"url(#clip312)\" cx=\"280.231\" cy=\"1384.24\" r=\"14.4\" fill=\"#009af9\" fill-rule=\"evenodd\" fill-opacity=\"1\" stroke=\"#000000\" stroke-opacity=\"1\" stroke-width=\"3.2\"/>\n",
       "<circle clip-path=\"url(#clip312)\" cx=\"423.957\" cy=\"1364.2\" r=\"14.4\" fill=\"#009af9\" fill-rule=\"evenodd\" fill-opacity=\"1\" stroke=\"#000000\" stroke-opacity=\"1\" stroke-width=\"3.2\"/>\n",
       "<circle clip-path=\"url(#clip312)\" cx=\"567.683\" cy=\"1305.02\" r=\"14.4\" fill=\"#009af9\" fill-rule=\"evenodd\" fill-opacity=\"1\" stroke=\"#000000\" stroke-opacity=\"1\" stroke-width=\"3.2\"/>\n",
       "<circle clip-path=\"url(#clip312)\" cx=\"711.408\" cy=\"1298.68\" r=\"14.4\" fill=\"#009af9\" fill-rule=\"evenodd\" fill-opacity=\"1\" stroke=\"#000000\" stroke-opacity=\"1\" stroke-width=\"3.2\"/>\n",
       "<circle clip-path=\"url(#clip312)\" cx=\"855.134\" cy=\"1304.38\" r=\"14.4\" fill=\"#009af9\" fill-rule=\"evenodd\" fill-opacity=\"1\" stroke=\"#000000\" stroke-opacity=\"1\" stroke-width=\"3.2\"/>\n",
       "<circle clip-path=\"url(#clip312)\" cx=\"998.86\" cy=\"1222.79\" r=\"14.4\" fill=\"#009af9\" fill-rule=\"evenodd\" fill-opacity=\"1\" stroke=\"#000000\" stroke-opacity=\"1\" stroke-width=\"3.2\"/>\n",
       "<circle clip-path=\"url(#clip312)\" cx=\"1142.59\" cy=\"1234.99\" r=\"14.4\" fill=\"#009af9\" fill-rule=\"evenodd\" fill-opacity=\"1\" stroke=\"#000000\" stroke-opacity=\"1\" stroke-width=\"3.2\"/>\n",
       "<circle clip-path=\"url(#clip312)\" cx=\"1286.31\" cy=\"1169.04\" r=\"14.4\" fill=\"#009af9\" fill-rule=\"evenodd\" fill-opacity=\"1\" stroke=\"#000000\" stroke-opacity=\"1\" stroke-width=\"3.2\"/>\n",
       "<circle clip-path=\"url(#clip312)\" cx=\"1430.04\" cy=\"1210.71\" r=\"14.4\" fill=\"#009af9\" fill-rule=\"evenodd\" fill-opacity=\"1\" stroke=\"#000000\" stroke-opacity=\"1\" stroke-width=\"3.2\"/>\n",
       "<circle clip-path=\"url(#clip312)\" cx=\"1573.76\" cy=\"1050.17\" r=\"14.4\" fill=\"#009af9\" fill-rule=\"evenodd\" fill-opacity=\"1\" stroke=\"#000000\" stroke-opacity=\"1\" stroke-width=\"3.2\"/>\n",
       "<circle clip-path=\"url(#clip312)\" cx=\"1717.49\" cy=\"1141.53\" r=\"14.4\" fill=\"#009af9\" fill-rule=\"evenodd\" fill-opacity=\"1\" stroke=\"#000000\" stroke-opacity=\"1\" stroke-width=\"3.2\"/>\n",
       "<circle clip-path=\"url(#clip312)\" cx=\"1861.21\" cy=\"1203.35\" r=\"14.4\" fill=\"#009af9\" fill-rule=\"evenodd\" fill-opacity=\"1\" stroke=\"#000000\" stroke-opacity=\"1\" stroke-width=\"3.2\"/>\n",
       "<circle clip-path=\"url(#clip312)\" cx=\"2004.94\" cy=\"806.25\" r=\"14.4\" fill=\"#009af9\" fill-rule=\"evenodd\" fill-opacity=\"1\" stroke=\"#000000\" stroke-opacity=\"1\" stroke-width=\"3.2\"/>\n",
       "<circle clip-path=\"url(#clip312)\" cx=\"2148.67\" cy=\"1247.91\" r=\"14.4\" fill=\"#009af9\" fill-rule=\"evenodd\" fill-opacity=\"1\" stroke=\"#000000\" stroke-opacity=\"1\" stroke-width=\"3.2\"/>\n",
       "<circle clip-path=\"url(#clip312)\" cx=\"2292.39\" cy=\"821.746\" r=\"14.4\" fill=\"#009af9\" fill-rule=\"evenodd\" fill-opacity=\"1\" stroke=\"#000000\" stroke-opacity=\"1\" stroke-width=\"3.2\"/>\n",
       "<polyline clip-path=\"url(#clip312)\" style=\"stroke:#e26f46; stroke-linecap:round; stroke-linejoin:round; stroke-width:4; stroke-opacity:1; fill:none\" points=\"\n",
       "  280.231,1379.99 423.957,1344.97 567.683,1309.95 711.408,1274.93 855.134,1239.91 998.86,1204.89 1142.59,1169.87 1286.31,1134.85 1430.04,1099.83 1573.76,1064.81 \n",
       "  1717.49,1029.79 1861.21,994.768 2004.94,959.747 2148.67,924.727 2292.39,889.707 \n",
       "  \"/>\n",
       "<polyline clip-path=\"url(#clip312)\" style=\"stroke:#3da44d; stroke-linecap:round; stroke-linejoin:round; stroke-width:4; stroke-opacity:1; fill:none\" points=\"\n",
       "  280.231,835.231 423.957,685.422 567.683,467.518 711.408,440.28 855.134,195.138 998.86,848.85 1142.59,86.1857 1286.31,113.424 1430.04,113.424 1573.76,113.424 \n",
       "  1717.49,113.424 1861.21,181.519 2004.94,113.424 2148.67,399.423 2292.39,113.424 \n",
       "  \"/>\n",
       "</svg>\n"
      ]
     },
     "execution_count": 259,
     "metadata": {},
     "output_type": "execute_result"
    }
   ],
   "source": [
    "using Plots\n",
    "scatter(lam,infer_lam,xlabel=\"true\",ylabel=\"inferred\",legend=false)\n",
    "plot!(lam,lam)\n",
    "plot!(lam,n_infected)"
   ]
  },
  {
   "cell_type": "code",
   "execution_count": 260,
   "metadata": {},
   "outputs": [],
   "source": [
    "using DelimitedFiles\n",
    "open(\"../Hyperparams/2lam0.04_0.4.txt\",\"w\") do io\n",
    "    writedlm(io,infer_lam) \n",
    "end\n",
    "\n",
    "open(\"../Hyperparams/2lam0.04_0.4infected.txt\",\"w\") do io\n",
    "    writedlm(io,n_infected) \n",
    "end"
   ]
  }
 ],
 "metadata": {
  "kernelspec": {
   "display_name": "Julia 1.7.0-rc2",
   "language": "julia",
   "name": "julia-1.7"
  },
  "language_info": {
   "file_extension": ".jl",
   "mimetype": "application/julia",
   "name": "julia",
   "version": "1.7.0"
  }
 },
 "nbformat": 4,
 "nbformat_minor": 4
}
