{
 "cells": [
  {
   "cell_type": "code",
   "execution_count": 14,
   "metadata": {},
   "outputs": [],
   "source": [
    "using SparseArrays, LinearAlgebra\n",
    "#using Pkg\n",
    "#Pkg.activate(\"../\")\n",
    "using Causality"
   ]
  },
  {
   "cell_type": "markdown",
   "metadata": {},
   "source": [
    "# Generation of Epidemics"
   ]
  },
  {
   "cell_type": "code",
   "execution_count": 15,
   "metadata": {},
   "outputs": [
    {
     "data": {
      "text/plain": [
       "40×40 SparseMatrixCSC{IndexedGraphs.NullNumber, Int64} with 192 stored entries:\n",
       "⠀⠀⢀⠄⠄⠠⠒⡁⠄⠀⠄⢁⠀⡐⠂⠀⠀⠂⢉⠀\n",
       "⠀⠔⠄⠁⠄⠤⠈⢀⠅⠀⢅⠐⠀⠀⠀⠂⠐⠐⠐⠐\n",
       "⠀⡁⠀⡅⡀⠈⠀⠔⡁⠁⡁⠄⠊⠄⠐⠀⠂⠀⠀⠂\n",
       "⠜⠠⠂⢀⢀⠄⠊⠀⢀⠀⠀⠥⡀⠜⠃⠈⡀⠀⠠⠀\n",
       "⠀⠁⠁⠁⠅⠈⠀⠐⠀⠀⠁⠀⠂⠀⠀⡀⠀⠀⠀⣀\n",
       "⠄⢁⢁⠑⠁⠌⠄⡄⠁⠀⠀⠀⠀⠄⠄⡀⢀⠀⢀⢀\n",
       "⢀⠠⠀⠀⠊⠄⣀⠌⠈⠀⠀⠄⠀⠀⡈⢀⠁⡀⠀⠀\n",
       "⠈⠀⠠⠀⠐⠀⡉⠀⠀⠠⠀⠡⠂⢈⡀⠈⠢⡠⠠⠢\n",
       "⠠⠀⢐⠀⠈⠀⠀⠈⠀⠀⠀⠐⠁⠠⠈⡢⢀⠐⡐⠑\n",
       "⠃⠐⢐⠀⠠⠀⠀⠂⠀⢠⠀⢐⠀⠀⠠⡂⢔⠈⠊⡠"
      ]
     },
     "execution_count": 15,
     "metadata": {},
     "output_type": "execute_result"
    }
   ],
   "source": [
    "T, N = 20.0, 40\n",
    "#G = Causality.makeBarabasi(N,k=2)\n",
    "#ρ = 3/N\n",
    "#G = Causality.makeGNP(N,ρ)\n",
    "G = Causality.makeProximity(N,2.05/N)\n",
    "G.A "
   ]
  },
  {
   "cell_type": "code",
   "execution_count": 16,
   "metadata": {},
   "outputs": [
    {
     "data": {
      "text/plain": [
       "getpargen (generic function with 1 method)"
      ]
     },
     "execution_count": 16,
     "metadata": {},
     "output_type": "execute_result"
    }
   ],
   "source": [
    "getpar(pseed,autoinf::GaussianRate,inf_in::GaussianRate) = \n",
    "    [fill(pseed, 1, N);\n",
    "     fill(autoinf.a, 1, N); fill(autoinf.b, 1, N); fill(autoinf.c, 1, N);\n",
    "     fill(inf_in.a,   1, N); fill(inf_in.b, 1, N); fill(inf_in.c, 1, N);\n",
    "    ]\n",
    "\n",
    "getpargen(pseed, autoinf::GaussianRate, inf_out::GaussianRate) = \n",
    "    [pseed autoinf.a autoinf.b autoinf.c inf_out.a inf_out.b inf_out.c]\n"
   ]
  },
  {
   "cell_type": "code",
   "execution_count": 17,
   "metadata": {},
   "outputs": [],
   "source": [
    "#Initialize generation parameters\n",
    "ε = 1e-10\n",
    "λ = 0.1\n",
    "pseed = 1/N\n",
    "ε = 1e-3\n",
    "autoinf = GaussianRate(ε, T/2, 3T);\n",
    "inf_in = GaussianRate(1.0, T/2, 3T)\n",
    "inf_out = GaussianRate(λ, T/2, 3T)\n",
    "\n",
    "θp = getpar(pseed, autoinf, inf_in);\n",
    "θpgen = getpargen(pseed, autoinf, inf_out);"
   ]
  },
  {
   "cell_type": "code",
   "execution_count": 18,
   "metadata": {},
   "outputs": [],
   "source": [
    "#Initialize min/max boundaies\n",
    "T = Float64(T)\n",
    "pseed_min = ε\n",
    "pseed_max = 1-ε\n",
    "rate_min = GaussianRate(ε  ,  -T,   ε)\n",
    "rate_max = GaussianRate(1/ε  ,  2T,   1/ε)\n",
    "\n",
    "θmin = getpar(pseed_min , rate_min, rate_min);\n",
    "θmax = getpar(pseed_max , rate_max, rate_max);\n",
    "\n",
    "rate_min = GaussianRate(ε  ,  -T,   ε)\n",
    "rate_max = GaussianRate(1/ε  ,  T,   T)\n",
    "\n",
    "θgenmin = getpargen(pseed_min, rate_min, rate_min);\n",
    "θgenmax = getpargen(pseed_max, rate_max, rate_max);"
   ]
  },
  {
   "cell_type": "code",
   "execution_count": 19,
   "metadata": {},
   "outputs": [
    {
     "data": {
      "text/plain": [
       "GaussianInferentialSI"
      ]
     },
     "execution_count": 19,
     "metadata": {},
     "output_type": "execute_result"
    }
   ],
   "source": [
    "const Igen = GenerativeSI{GaussianRate,GaussianRate} \n",
    "const Igauss = GaussianInferentialSI"
   ]
  },
  {
   "cell_type": "code",
   "execution_count": 21,
   "metadata": {},
   "outputs": [
    {
     "data": {
      "text/plain": [
       "0.5"
      ]
     },
     "execution_count": 21,
     "metadata": {},
     "output_type": "execute_result"
    }
   ],
   "source": [
    "Mp = StochasticModel(Igen, T, θp, G, θpgen);\n",
    "sample! = Sampler(Mp);\n",
    "\n",
    "xtrue = zeros(N)\n",
    "sample!(xtrue)\n",
    "nobs, p = 90, 1e-5\n",
    "#nobs, p = N, 1e-5\n",
    "O = [(i = rand(1:N); ti = T*rand(); (i,xtrue[i] < ti,ti,p)) for r=1:nobs]\n",
    "sum(xtrue .< T)/N"
   ]
  },
  {
   "cell_type": "markdown",
   "metadata": {},
   "source": [
    "## Causality (with inference of Infection Hyperparameter)"
   ]
  },
  {
   "cell_type": "code",
   "execution_count": 24,
   "metadata": {},
   "outputs": [],
   "source": [
    "lattice_size = 10\n",
    "F_lattice = zeros(lattice_size,lattice_size);"
   ]
  },
  {
   "cell_type": "code",
   "execution_count": null,
   "metadata": {},
   "outputs": [
    {
     "name": "stderr",
     "output_type": "stream",
     "text": [
      "┌ Warning: ProgressMeter by default refresh meters with additional information in IJulia via `IJulia.clear_output`, which clears all outputs in the cell. \n",
      "│  - To prevent this behaviour, do `ProgressMeter.ijulia_behavior(:append)`. \n",
      "│  - To disable this warning message, do `ProgressMeter.ijulia_behavior(:clear)`.\n",
      "└ @ ProgressMeter /home/students/mmariani/.julia/packages/ProgressMeter/Vf8un/src/ProgressMeter.jl:620\n",
      "\u001b[32mProgress:  11%|████▌                                    |  ETA: 0:00:10\u001b[39m\n",
      "\u001b[34m  F:  339.2276998317507\u001b[39m"
     ]
    }
   ],
   "source": [
    "#Softened model\n",
    "T = Float64(T)\n",
    "inf_in = GaussianRate(1., T/2, 3*T );\n",
    "ε = 1e-3\n",
    "autoinf = GaussianRate(ε, T/2, T);\n",
    "\n",
    "\n",
    "pseed_min = 1/(10*N)\n",
    "pseed_max = 0.25\n",
    "inf_min = 0.01\n",
    "inf_max = 0.7\n",
    "pseed, inf_out = pseed_min, GaussianRate(inf_min, T/2, 3*T)\n",
    "\n",
    "step_inf = (inf_max - inf_min) / (lattice_size)\n",
    "step_seed = (pseed_max - pseed_min) / (lattice_size)\n",
    "\n",
    "for iinf in 1:lattice_size\n",
    "    pseed = pseed_min\n",
    "    for iseed in 1:lattice_size\n",
    "        θp2gen = getpargen(pseed, autoinf, inf_out);\n",
    "        θp2 = getpar(pseed, autoinf, inf_in);\n",
    "        Mp2 = StochasticModel(Igen, T, θp2, G, θp2gen);\n",
    "        θ = getpar(pseed, autoinf, inf_in);\n",
    "        M = StochasticModel(Igauss, T, θ, G, θp2gen);\n",
    "        descend!(Mp2, O; M=M, numsamples=1000, numiters=100, \n",
    "             θmin=θmin, θmax=θmax,θgenmin=θgenmin, θgenmax=θgenmax, descender=SignDescender(0.1),\n",
    "             hyperdescender=SignDescender(0.),hyper_mask=[2,3,4,6,7]);\n",
    "        F_lattice[iinf,iseed] = descend!(Mp2, O; M=M, numsamples=1000, numiters=100, \n",
    "             θmin=θmin, θmax=θmax,θgenmin=θgenmin, θgenmax=θgenmax, descender=SignDescender(0.02),\n",
    "             hyperdescender=SignDescender(0.),hyper_mask=[2,3,4,6,7]);\n",
    "        pseed += step_seed\n",
    "    end\n",
    "    inf_out = GaussianRate(inf_min + iinf*step_inf, T/2, 3*T)\n",
    "end"
   ]
  },
  {
   "cell_type": "code",
   "execution_count": null,
   "metadata": {
    "tags": []
   },
   "outputs": [],
   "source": [
    "using DelimitedFiles\n",
    "open(\"../Hyperparams/provah.txt\",\"w\") do io\n",
    "       writedlm(io,F_lattice') \n",
    "end"
   ]
  },
  {
   "cell_type": "code",
   "execution_count": null,
   "metadata": {},
   "outputs": [],
   "source": [
    "#now we do the descent\n",
    "path = zeros(2,200)\n",
    "pseed, inf_out = 0.2 , GaussianRate(0.4, T/2, 3*T) #initial point\n",
    "θp2gen = getpargen(pseed, autoinf, inf_out);\n",
    "θp2 = getpar(pseed, autoinf, inf_in);\n",
    "Mp2 = StochasticModel(Igen, T, θp2, G, θp2gen);\n",
    "θ = getpar(pseed, autoinf, inf_in);\n",
    "M = StochasticModel(Igauss, T, θ, G, θp2gen);\n",
    "for st = 1:100\n",
    "     descend!(Mp2, O; M=M, numsamples=4000, numiters=1, \n",
    "         θmin=θmin, θmax=θmax,θgenmin=θgenmin, θgenmax=θgenmax, descender=SignDescender(0.1),\n",
    "         hyperdescender=SignDescender(0.1),hyper_mask=[2,3,4,6,7]);\n",
    "     path[1,st] = M.θgen[1]\n",
    "     path[2,st] = M.θgen[5]\n",
    "end\n",
    "for st = 101:200\n",
    "     descend!(Mp2, O; M=M, numsamples=4000, numiters=1, \n",
    "         θmin=θmin, θmax=θmax,θgenmin=θgenmin, θgenmax=θgenmax, descender=SignDescender(0.02),\n",
    "         hyperdescender=SignDescender(0.02),hyper_mask=[2,3,4,6,7]);\n",
    "     path[1,st] = M.θgen[1]\n",
    "     path[2,st] = M.θgen[5]\n",
    "end\n",
    "open(\"../Hyperparams/descent55.txt\",\"w\") do io\n",
    "    writedlm(io,path') \n",
    "end"
   ]
  },
  {
   "cell_type": "code",
   "execution_count": null,
   "metadata": {},
   "outputs": [],
   "source": [
    "using Plots\n",
    "heatmap(LinRange(pseed_min,pseed_max,lattice_size),LinRange(inf_min,inf_max,lattice_size),log.(F_lattice), xlabel=\"pseed\", ylabel=\"infection peak\",title=\"Heat map for free energy in function of hyperparams\")\n",
    "plot!(path[1,1:end],path[2,1:end],label=\"descent\")\n",
    "scatter!(path[1,1:1],path[2,1:1],label=\"initial point\")\n",
    "scatter!(path[1,end:end],path[2,end:end],label=\"final point\")\n",
    "scatter!([Mp.θgen[1],],[Mp.θgen[5],],label=\"true solution\")\n",
    "#savefig(\"descentVSmap\")"
   ]
  },
  {
   "cell_type": "markdown",
   "metadata": {},
   "source": [
    "## Comparison of free energy landascapes Causality vs \"Exact\" \n",
    "We want to see if the free energy landscape provided by causality is trustable or not. We need an exact profile to compare with. However, no exact method exists for epidemic problems. Therefore, we use the softmargin method which is close to the exact solution if few observations are made on the system. So we generate an instance with few observations and we compare the free energy profile of causality and softmargin"
   ]
  },
  {
   "cell_type": "code",
   "execution_count": null,
   "metadata": {},
   "outputs": [
    {
     "name": "stderr",
     "output_type": "stream",
     "text": [
      "┌ Warning: ProgressMeter by default refresh meters with additional information in IJulia via `IJulia.clear_output`, which clears all outputs in the cell. \n",
      "│  - To prevent this behaviour, do `ProgressMeter.ijulia_behavior(:append)`. \n",
      "│  - To disable this warning message, do `ProgressMeter.ijulia_behavior(:clear)`.\n",
      "└ @ ProgressMeter /home/students/mmariani/.julia/packages/ProgressMeter/Vf8un/src/ProgressMeter.jl:620\n",
      "\u001b[32mProgress: 100%|█████████████████████████████████████████| Time: 0:00:10\u001b[39m\n",
      "\u001b[34m  F:  9.26287294427819\u001b[39m\n",
      "\u001b[32mProgress: 100%|█████████████████████████████████████████| Time: 0:00:13\u001b[39m\n",
      "\u001b[32mProgress:  51%|████████████████████▉                    |  ETA: 0:00:58\u001b[39m"
     ]
    }
   ],
   "source": [
    "using Plots\n",
    "#We discard some observations in order to make softmargin almost exact.\n",
    "Osoft = O[1:15]\n",
    "totsamples = 2 * 10^5\n",
    "\n",
    "lattice_size = 20\n",
    "Fcau_lattice = zeros(lattice_size,lattice_size);\n",
    "Fsoft_lattice = zeros(lattice_size,lattice_size);\n",
    "FSsoft_lattice = zeros(lattice_size,lattice_size);\n",
    "\n",
    "T = Float64(T)\n",
    "inf_in = GaussianRate(1., T/2, 3*T );\n",
    "ε = 1e-3\n",
    "autoinf = GaussianRate(ε, T/2, T);\n",
    "\n",
    "\n",
    "pseed_min = 1/(10*N)\n",
    "pseed_max = 0.25\n",
    "inf_min = 0.01\n",
    "inf_max = 0.7\n",
    "pseed, inf_out = pseed_min, GaussianRate(inf_min, T/2, 3*T)\n",
    "\n",
    "step_inf = (inf_max - inf_min) / (lattice_size)\n",
    "step_seed = (pseed_max - pseed_min) / (lattice_size)\n",
    "\n",
    "for iinf in 1:lattice_size\n",
    "    pseed = pseed_min\n",
    "    for iseed in 1:lattice_size\n",
    "        θp2gen = getpargen(pseed, autoinf, inf_out);\n",
    "        θp2 = getpar(pseed, autoinf, inf_in);\n",
    "        Mp2 = StochasticModel(Igen, T, θp2, G, θp2gen);\n",
    "        θ = getpar(pseed, autoinf, inf_in);\n",
    "        M = StochasticModel(Igauss, T, θ, G, θp2gen);\n",
    "        descend!(Mp2, Osoft; M=M, numsamples=1000, numiters=100, \n",
    "             θmin=θmin, θmax=θmax,θgenmin=θgenmin, θgenmax=θgenmax, descender=SignDescender(0.1),\n",
    "             hyperdescender=SignDescender(0.),hyper_mask=[2,3,4,6,7]);\n",
    "        Fcau_lattice[iinf,iseed] = descend!(Mp2, Osoft; M=M, numsamples=1000, numiters=100, \n",
    "             θmin=θmin, θmax=θmax,θgenmin=θgenmin, θgenmax=θgenmax, descender=SignDescender(0.02),\n",
    "             hyperdescender=SignDescender(0.),hyper_mask=[2,3,4,6,7]);\n",
    "        stats, weight = softpostnoise(Mp2, Osoft; numsamples=totsamples);\n",
    "        Fsoft_lattice[iinf,iseed] = - log(sum(weight)/totsamples)\n",
    "        Sstats,Sweight = softpostnoise(Mp2, Osoft; numsamples=10*totsamples);\n",
    "        FSsoft_lattice[iinf,iseed] = - log(sum(Sweight)/(10*totsamples))\n",
    "        pseed += step_seed\n",
    "    end\n",
    "    inf_out = GaussianRate(inf_min + iinf*step_inf, T/2, 3*T)\n",
    "end\n"
   ]
  },
  {
   "cell_type": "code",
   "execution_count": null,
   "metadata": {},
   "outputs": [],
   "source": [
    "heatmap(LinRange(pseed_min,pseed_max,lattice_size),LinRange(inf_min,inf_max,lattice_size),log.(Fcau_lattice), xlabel=\"pseed\", ylabel=\"infection peak\")\n",
    "savefig(\"cau_hyper\")"
   ]
  },
  {
   "cell_type": "code",
   "execution_count": null,
   "metadata": {},
   "outputs": [],
   "source": [
    "heatmap(LinRange(pseed_min,pseed_max,lattice_size),LinRange(inf_min,inf_max,lattice_size),log.(Fsoft_lattice), xlabel=\"pseed\", ylabel=\"infection peak\")\n",
    "savefig(\"soft_hyper\")"
   ]
  },
  {
   "cell_type": "code",
   "execution_count": null,
   "metadata": {},
   "outputs": [],
   "source": [
    "heatmap(LinRange(pseed_min,pseed_max,lattice_size),LinRange(inf_min,inf_max,lattice_size),log.(FSsoft_lattice), xlabel=\"pseed\", ylabel=\"infection peak\")\n",
    "savefig(\"supersoft_hyper\")"
   ]
  },
  {
   "cell_type": "code",
   "execution_count": null,
   "metadata": {},
   "outputs": [],
   "source": [
    "using DelimitedFiles\n",
    "open(\"../hyper_fe_soft.txt\",\"w\") do io\n",
    "       writedlm(io,Fsoft_lattice) \n",
    "end\n",
    "open(\"../hyper_fe_cau.txt\",\"w\") do io\n",
    "       writedlm(io,Fcau_lattice) \n",
    "end\n",
    "open(\"../hyper_fe_Ssoft.txt\",\"w\") do io\n",
    "       writedlm(io,FSsoft_lattice) \n",
    "end"
   ]
  },
  {
   "cell_type": "code",
   "execution_count": 33,
   "metadata": {},
   "outputs": [
    {
     "name": "stderr",
     "output_type": "stream",
     "text": [
      "┌ Warning: ProgressMeter by default refresh meters with additional information in IJulia via `IJulia.clear_output`, which clears all outputs in the cell. \n",
      "│  - To prevent this behaviour, do `ProgressMeter.ijulia_behavior(:append)`. \n",
      "│  - To disable this warning message, do `ProgressMeter.ijulia_behavior(:clear)`.\n",
      "└ @ ProgressMeter /home/students/mmariani/.julia/packages/ProgressMeter/Vf8un/src/ProgressMeter.jl:620\n",
      "\u001b[32mProgress: 100%|█████████████████████████████████████████| Time: 0:00:14\u001b[39m\n",
      "\u001b[34m  F:  11.863642379034113\u001b[39m\n",
      "\u001b[32mProgress:   7%|███                                      |  ETA: 0:00:10\u001b[39m"
     ]
    },
    {
     "ename": "LoadError",
     "evalue": "InterruptException:",
     "output_type": "error",
     "traceback": [
      "InterruptException:",
      "",
      "Stacktrace:",
      "  [1] reshape",
      "    @ ./reshapedarray.jl:51 [inlined]",
      "  [2] reshape",
      "    @ ./reshapedarray.jl:111 [inlined]",
      "  [3] reshape",
      "    @ ./reshapedarray.jl:141 [inlined]",
      "  [4] _maybe_reshape_parent",
      "    @ ./subarray.jl:124 [inlined]",
      "  [5] view",
      "    @ ./subarray.jl:178 [inlined]",
      "  [6] maybeview",
      "    @ ./views.jl:146 [inlined]",
      "  [7] individual(#unused#::Type{GenerativeSI{GaussianRate, GaussianRate}}, θi::SubArray{Float64, 1, Matrix{Float64}, Tuple{Base.Slice{Base.OneTo{Int64}}, Int64}, true}, θgen::Matrix{Float64})",
      "    @ Causality ~/git/Causality/src/si.jl:40",
      "  [8] individual (repeats 3 times)",
      "    @ ~/git/Causality/src/stochasticmodel.jl:51 [inlined]",
      "  [9] (::Causality.var\"#sample!#43\"{StochasticModel{GenerativeSI{GaussianRate, GaussianRate}, IndexedGraphs.IndexedBiDiGraph{Int64}, Vector{UnitRate}}, TrackingHeaps.TrackingHeap{Int64, Float64, 2, TrackingHeaps.MinHeapOrder, TrackingHeaps.NoTrainingWheels}, BitVector, Int64})(x::Vector{Float64})",
      "    @ Causality ~/git/Causality/src/si.jl:70",
      " [10] macro expansion",
      "    @ ~/git/Causality/src/sampler.jl:58 [inlined]",
      " [11] macro expansion",
      "    @ ~/.julia/packages/ProgressMeter/Vf8un/src/ProgressMeter.jl:940 [inlined]",
      " [12] softpostnoise(Mp::StochasticModel{GenerativeSI{GaussianRate, GaussianRate}, IndexedGraphs.IndexedBiDiGraph{Int64}, Vector{UnitRate}}, O::Vector{Tuple{Int64, Bool, Float64, Float64}}; numsamples::Int64)",
      "    @ Causality ~/git/Causality/src/sampler.jl:57",
      " [13] top-level scope",
      "    @ In[33]:19",
      " [14] eval",
      "    @ ./boot.jl:373 [inlined]",
      " [15] include_string(mapexpr::typeof(REPL.softscope), mod::Module, code::String, filename::String)",
      "    @ Base ./loading.jl:1196"
     ]
    }
   ],
   "source": [
    "Osoft = O[1:15]\n",
    "totsamples = 2 * 10^5\n",
    "T = Float64(T)\n",
    "inf_in = GaussianRate(1., T/2, 3*T );\n",
    "ε = 1e-3\n",
    "autoinf = GaussianRate(ε, T/2, T);\n",
    "\n",
    "θp2gen = getpargen(pseed, autoinf, inf_out);\n",
    "θp2 = getpar(pseed, autoinf, inf_in);\n",
    "Mp2 = StochasticModel(Igen, T, θp2, G, θp2gen);\n",
    "θ = getpar(pseed, autoinf, inf_in);\n",
    "M = StochasticModel(Igauss, T, θ, G, θp2gen);\n",
    "descend!(Mp2, Osoft; M=M, numsamples=1000, numiters=100, \n",
    "     θmin=θmin, θmax=θmax,θgenmin=θgenmin, θgenmax=θgenmax, descender=SignDescender(0.1),\n",
    "     hyperdescender=SignDescender(0.),hyper_mask=[2,3,4,6,7]);\n",
    "fcau = descend!(Mp2, Osoft; M=M, numsamples=1000, numiters=100, \n",
    "     θmin=θmin, θmax=θmax,θgenmin=θgenmin, θgenmax=θgenmax, descender=SignDescender(0.01),\n",
    "     hyperdescender=SignDescender(0.),hyper_mask=[2,3,4,6,7]);\n",
    "stats,weight = softpostnoise(Mp2, Osoft; numsamples=totsamples);\n",
    "fsoft = - log(sum(weight)/totsamples)\n",
    "Sstats,Sweight = softpostnoise(Mp2, Osoft; numsamples=10*totsamples);\n",
    "fSsoft = - log(sum(Sweight)/(10*totsamples))"
   ]
  },
  {
   "cell_type": "code",
   "execution_count": 32,
   "metadata": {},
   "outputs": [
    {
     "data": {
      "text/plain": [
       "(11.126572951676515, 9.90355355122395, 5.513142174121107)"
      ]
     },
     "execution_count": 32,
     "metadata": {},
     "output_type": "execute_result"
    }
   ],
   "source": [
    "fcau,fsoft,fSsoft"
   ]
  },
  {
   "cell_type": "code",
   "execution_count": null,
   "metadata": {},
   "outputs": [],
   "source": []
  }
 ],
 "metadata": {
  "kernelspec": {
   "display_name": "Julia 1.7.0-rc2",
   "language": "julia",
   "name": "julia-1.7"
  },
  "language_info": {
   "file_extension": ".jl",
   "mimetype": "application/julia",
   "name": "julia",
   "version": "1.7.0"
  }
 },
 "nbformat": 4,
 "nbformat_minor": 4
}
