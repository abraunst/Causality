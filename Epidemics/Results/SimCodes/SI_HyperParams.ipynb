{
 "cells": [
  {
   "cell_type": "code",
   "execution_count": 1,
   "metadata": {},
   "outputs": [],
   "source": [
    "using SparseArrays, LinearAlgebra\n",
    "#using Pkg\n",
    "#Pkg.activate(\"../\")\n",
    "using Causality\n",
    "using Plots"
   ]
  },
  {
   "cell_type": "markdown",
   "metadata": {},
   "source": [
    "# Generation of Epidemics"
   ]
  },
  {
   "cell_type": "code",
   "execution_count": 14,
   "metadata": {},
   "outputs": [
    {
     "data": {
      "text/plain": [
       "300×300 SparseMatrixCSC{IndexedGraphs.NullNumber, Int64} with 1834 stored entries:\n",
       "⠀⠀⠞⠀⠢⠜⠐⠀⣁⠐⢴⡆⠄⠰⢀⣰⢱⠉⡂⠡⢔⠢⢂⡠⠀⡀⠄⠡⢀⠐⢔⡀⠀⣠⣀⡀⡐⢴⠣⠀\n",
       "⠚⠁⠄⠁⠰⠔⣀⠤⠈⢄⠂⠐⢁⡈⠠⠍⠎⠚⠠⡂⠨⢀⡐⠈⠈⠰⡱⡂⠀⠢⠐⠄⠄⠉⡈⢀⢄⠘⠂⠠\n",
       "⣈⠆⢐⠆⡊⡨⢉⠀⠀⢂⠕⠃⠀⠀⠀⡄⡚⣐⠀⡀⠠⠁⣃⠠⠢⠔⠐⣂⠌⠐⠁⣬⠄⠃⠀⠡⠂⢈⠠⠜\n",
       "⠐⠀⠀⡜⠃⠐⠊⠀⠐⡑⠡⠁⡁⠑⠨⠈⠀⠆⢒⣀⠰⡨⡀⢈⡑⠆⢂⢡⠚⡠⠁⢖⠢⢁⢁⠀⠸⠁⠢⢢\n",
       "⢁⠘⠂⢄⠠⢀⢔⠠⠎⠁⠠⢇⠬⢐⡚⠀⠄⡠⡣⠊⢀⠠⠐⠫⠌⠤⡰⠀⠃⠅⠨⡀⡀⠆⠁⢂⢓⠂⢡⠀\n",
       "⠰⠷⢈⠀⠵⠁⠅⠂⠤⢆⠀⠀⣁⡀⡨⠰⠄⢒⢍⠌⢓⠔⠄⠬⡃⢂⠈⠼⠈⠴⢋⠊⡛⠄⠄⢌⠔⢈⣂⠠\n",
       "⢀⡁⡁⠰⠀⠀⢅⠈⢂⢃⠁⠸⡤⠋⠮⢉⠈⡐⠈⠐⠇⣨⠨⠂⡅⠨⡐⠤⠀⡪⡁⠠⠀⢁⠇⠸⠄⠄⠐⡅\n",
       "⢀⣰⡄⠆⠀⠤⡂⠂⠚⠈⢂⡊⡎⢃⢠⠒⠰⠀⡂⠑⢮⡠⠈⢂⡂⡁⠊⢢⠸⠢⠈⡦⠕⡂⠸⢊⠎⠉⠙⠔\n",
       "⡕⠒⣪⠁⢚⢨⠠⠄⠀⡡⢠⢁⢂⠠⠐⠂⡄⡩⠈⣅⢄⢀⠂⡈⡀⡈⠌⡅⠐⠉⠆⠂⣀⣚⡸⠂⢀⢒⡈⠄\n",
       "⠌⡈⠠⠢⠀⠠⠘⢰⡩⠊⡃⠕⢂⠀⢌⠈⠆⢤⠀⠀⡀⡡⠠⡩⡚⠀⠸⠴⡈⠅⠐⢐⣂⠠⠠⠐⠡⠄⠄⢀\n",
       "⠰⡑⠂⢂⠄⠂⡐⡢⠀⡐⢙⠔⡉⣡⠊⡳⠀⢑⠄⡨⡀⠈⠍⠀⡇⡂⡀⣔⠀⢘⡁⡢⣚⢠⠄⢐⢑⣄⠒⡡\n",
       "⠈⡰⡐⠈⠉⡘⡀⢈⡴⡀⡀⡅⠢⠂⠢⢀⡈⠠⡄⡢⠃⠁⠁⠀⣈⠂⠐⢃⢔⡐⠐⠈⠐⢕⠆⠅⠖⠚⢂⠊\n",
       "⠀⠠⢂⡀⢈⠆⠱⠌⠂⡅⠩⢈⡁⡉⠌⠨⡀⠨⠚⠈⠩⠩⠢⠘⢐⠐⢈⠠⠐⠃⠱⡬⠬⠩⡠⠀⠠⠡⠅⡆\n",
       "⠄⡁⠱⠪⠰⢠⠌⣐⠐⠊⣂⡄⠐⡌⠪⣀⠆⠥⢒⡆⢀⢬⠴⢀⠂⡐⠄⠁⠐⠣⠁⣁⢈⢍⠅⠐⢝⠏⠐⠠\n",
       "⢀⠐⠠⡀⢂⠁⠚⡠⠍⠄⢂⡄⡠⡠⠲⡂⡔⠀⠆⠌⣀⢀⢐⠱⠴⠀⠴⡀⠐⠀⠠⡂⠑⡢⢐⠂⣒⠂⠢⣁\n",
       "⠐⠱⠐⠄⡁⣤⢡⢄⠂⠢⡫⠐⠁⡈⠢⡤⠨⠁⢐⢀⠡⡨⡐⠀⡑⡦⠅⢠⠠⠢⠀⠀⡤⠜⢠⠠⠄⠙⡂⢀\n",
       "⠀⣠⡄⠁⠤⠁⠌⢂⠠⠌⠛⠌⠄⢀⠱⠡⣠⢸⠈⡘⠚⣘⢔⢄⡆⡃⡆⢔⠱⡠⣀⠏⠊⡠⠨⠬⠔⣠⢑⠁\n",
       "⠀⠸⠂⢈⠄⡀⠁⠐⠡⢀⡀⢅⣉⡁⡲⢂⠲⠊⢀⠂⢀⢁⠌⠅⠀⠊⢁⠁⠰⠐⠀⡒⡂⡆⠐⠀⠗⠃⢒⠂\n",
       "⢐⣌⣀⠑⡈⢀⠖⠂⠹⠐⡐⢁⠀⠅⡎⠁⢠⢐⠁⠆⠑⢴⣸⠁⠄⡂⡷⠕⠸⠘⣄⠁⠐⣡⠽⠁⠡⡢⡆⠈\n",
       "⠉⠂⠈⡀⣀⠆⠨⣂⠁⠒⠈⡘⠔⠤⢓⠄⠂⠌⠀⢁⠜⡠⡨⠐⠡⠥⠐⡀⠌⢢⠈⢈⠕⠐⠸⠐⡈⠉⠎⠅"
      ]
     },
     "execution_count": 14,
     "metadata": {},
     "output_type": "execute_result"
    }
   ],
   "source": [
    "T, N = 20.0, 300\n",
    "#G = Causality.makeBarabasi(N,k=2)\n",
    "#ρ = 3/N\n",
    "#G = Causality.makeGNP(N,ρ)\n",
    "G = Causality.makeProximity(N,2.05/N)\n",
    "G.A "
   ]
  },
  {
   "cell_type": "code",
   "execution_count": 15,
   "metadata": {},
   "outputs": [
    {
     "data": {
      "text/plain": [
       "getpargen (generic function with 1 method)"
      ]
     },
     "execution_count": 15,
     "metadata": {},
     "output_type": "execute_result"
    }
   ],
   "source": [
    "getpar(pseed,autoinf::GaussianRate,inf_in::GaussianRate) = \n",
    "    [fill(pseed, 1, N);\n",
    "     fill(autoinf.a, 1, N); fill(autoinf.b, 1, N); fill(autoinf.c, 1, N);\n",
    "     fill(inf_in.a,   1, N); fill(inf_in.b, 1, N); fill(inf_in.c, 1, N);\n",
    "    ]\n",
    "\n",
    "getpargen(pseed, autoinf::GaussianRate, inf_out::GaussianRate) = \n",
    "    [pseed autoinf.a autoinf.b autoinf.c inf_out.a inf_out.b inf_out.c]\n"
   ]
  },
  {
   "cell_type": "code",
   "execution_count": 16,
   "metadata": {},
   "outputs": [],
   "source": [
    "#Initialize generation parameters\n",
    "λ = 0.15\n",
    "pseed = 1/N\n",
    "ε = 1e-3\n",
    "autoinf = GaussianRate(ε, T/2, 3T);\n",
    "inf_in = GaussianRate(1.0, T/2, 3T)\n",
    "inf_out = GaussianRate(λ, T/2, 3T)\n",
    "\n",
    "θp = getpar(pseed, autoinf, inf_in);\n",
    "θpgen = getpargen(pseed, autoinf, inf_out);"
   ]
  },
  {
   "cell_type": "code",
   "execution_count": 17,
   "metadata": {},
   "outputs": [],
   "source": [
    "#Initialize min/max boundaies\n",
    "T = Float64(T)\n",
    "pseed_min = ε\n",
    "pseed_max = 1-ε\n",
    "rate_min = GaussianRate(ε  ,  -T,   ε)\n",
    "rate_max = GaussianRate(1/ε  ,  2T,   1/ε)\n",
    "\n",
    "θmin = getpar(pseed_min , rate_min, rate_min);\n",
    "θmax = getpar(pseed_max , rate_max, rate_max);\n",
    "\n",
    "rate_min = GaussianRate(ε  ,  -T,   ε)\n",
    "rate_max = GaussianRate(1/ε  ,  T,   T)\n",
    "\n",
    "θgenmin = getpargen(pseed_min, rate_min, rate_min);\n",
    "θgenmax = getpargen(pseed_max, rate_max, rate_max);"
   ]
  },
  {
   "cell_type": "code",
   "execution_count": 18,
   "metadata": {},
   "outputs": [
    {
     "data": {
      "text/plain": [
       "GaussianInferentialSI"
      ]
     },
     "execution_count": 18,
     "metadata": {},
     "output_type": "execute_result"
    }
   ],
   "source": [
    "const Igen = GenerativeSI{GaussianRate,GaussianRate} \n",
    "const Igauss = GaussianInferentialSI"
   ]
  },
  {
   "cell_type": "code",
   "execution_count": 19,
   "metadata": {},
   "outputs": [
    {
     "data": {
      "text/plain": [
       "0.7433333333333333"
      ]
     },
     "execution_count": 19,
     "metadata": {},
     "output_type": "execute_result"
    }
   ],
   "source": [
    "Mp = StochasticModel(Igen, T, θp, G, θpgen);\n",
    "sample! = Sampler(Mp);\n",
    "\n",
    "xtrue = zeros(N)\n",
    "sample!(xtrue)\n",
    "nobs, p = 500, 1e-5\n",
    "#nobs, p = N, 1e-5\n",
    "O = [(i = rand(1:N); ti = T*rand(); (i,xtrue[i] < ti,ti,p)) for r=1:nobs]\n",
    "sum(xtrue .< T)/N"
   ]
  },
  {
   "cell_type": "markdown",
   "metadata": {},
   "source": [
    "## Causality (with inference of Infection Hyperparameter)"
   ]
  },
  {
   "cell_type": "code",
   "execution_count": 294,
   "metadata": {},
   "outputs": [],
   "source": [
    "lattice_size = 10\n",
    "F_lattice = zeros(lattice_size,lattice_size);"
   ]
  },
  {
   "cell_type": "code",
   "execution_count": null,
   "metadata": {},
   "outputs": [
    {
     "name": "stderr",
     "output_type": "stream",
     "text": [
      "┌ Warning: ProgressMeter by default refresh meters with additional information in IJulia via `IJulia.clear_output`, which clears all outputs in the cell. \n",
      "│  - To prevent this behaviour, do `ProgressMeter.ijulia_behavior(:append)`. \n",
      "│  - To disable this warning message, do `ProgressMeter.ijulia_behavior(:clear)`.\n",
      "└ @ ProgressMeter /home/students/mmariani/.julia/packages/ProgressMeter/Vf8un/src/ProgressMeter.jl:620\n",
      "\u001b[32mProgress:  11%|████▌                                    |  ETA: 0:00:10\u001b[39m\n",
      "\u001b[34m  F:  339.2276998317507\u001b[39m"
     ]
    }
   ],
   "source": [
    "#Softened model\n",
    "T = Float64(T)\n",
    "inf_in = GaussianRate(1., T/2, 3*T );\n",
    "ε = 1e-3\n",
    "autoinf = GaussianRate(ε, T/2, T);\n",
    "\n",
    "\n",
    "pseed_min = 1/(10*N)\n",
    "pseed_max = 0.25\n",
    "inf_min = 0.01\n",
    "inf_max = 0.7\n",
    "pseed, inf_out = pseed_min, GaussianRate(inf_min, T/2, 3*T)\n",
    "\n",
    "step_inf = (inf_max - inf_min) / (lattice_size)\n",
    "step_seed = (pseed_max - pseed_min) / (lattice_size)\n",
    "\n",
    "for iinf in 1:lattice_size\n",
    "    pseed = pseed_min\n",
    "    for iseed in 1:lattice_size\n",
    "        θp2gen = getpargen(pseed, autoinf, inf_out);\n",
    "        θp2 = getpar(pseed, autoinf, inf_in);\n",
    "        Mp2 = StochasticModel(Igen, T, θp2, G, θp2gen);\n",
    "        θ = getpar(pseed, autoinf, inf_in);\n",
    "        M = StochasticModel(Igauss, T, θ, G, θp2gen);\n",
    "        descend!(Mp2, O; M=M, numsamples=1000, numiters=100, \n",
    "             θmin=θmin, θmax=θmax,θgenmin=θgenmin, θgenmax=θgenmax, descender=SignDescender(0.1),\n",
    "             hyperdescender=SignDescender(0.),hyper_mask=[2,3,4,6,7]);\n",
    "        F_lattice[iinf,iseed] = descend!(Mp2, O; M=M, numsamples=1000, numiters=100, \n",
    "             θmin=θmin, θmax=θmax,θgenmin=θgenmin, θgenmax=θgenmax, descender=SignDescender(0.02),\n",
    "             hyperdescender=SignDescender(0.),hyper_mask=[2,3,4,6,7]);\n",
    "        pseed += step_seed\n",
    "    end\n",
    "    inf_out = GaussianRate(inf_min + iinf*step_inf, T/2, 3*T)\n",
    "end"
   ]
  },
  {
   "cell_type": "code",
   "execution_count": null,
   "metadata": {
    "tags": []
   },
   "outputs": [],
   "source": [
    "using DelimitedFiles\n",
    "open(\"../Hyperparams/provah.txt\",\"w\") do io\n",
    "       writedlm(io,F_lattice') \n",
    "end"
   ]
  },
  {
   "cell_type": "code",
   "execution_count": null,
   "metadata": {},
   "outputs": [],
   "source": [
    "#now we do the descent\n",
    "path = zeros(2,200)\n",
    "pseed, inf_out = 0.2 , GaussianRate(0.4, T/2, 3*T) #initial point\n",
    "θp2gen = getpargen(pseed, autoinf, inf_out);\n",
    "θp2 = getpar(pseed, autoinf, inf_in);\n",
    "Mp2 = StochasticModel(Igen, T, θp2, G, θp2gen);\n",
    "θ = getpar(pseed, autoinf, inf_in);\n",
    "M = StochasticModel(Igauss, T, θ, G, θp2gen);\n",
    "for st = 1:100\n",
    "     descend!(Mp2, O; M=M, numsamples=4000, numiters=1, \n",
    "         θmin=θmin, θmax=θmax,θgenmin=θgenmin, θgenmax=θgenmax, descender=SignDescender(0.1),\n",
    "         hyperdescender=SignDescender(0.1),hyper_mask=[2,3,4,6,7]);\n",
    "     path[1,st] = M.θgen[1]\n",
    "     path[2,st] = M.θgen[5]\n",
    "end\n",
    "for st = 101:200\n",
    "     descend!(Mp2, O; M=M, numsamples=4000, numiters=1, \n",
    "         θmin=θmin, θmax=θmax,θgenmin=θgenmin, θgenmax=θgenmax, descender=SignDescender(0.02),\n",
    "         hyperdescender=SignDescender(0.02),hyper_mask=[2,3,4,6,7]);\n",
    "     path[1,st] = M.θgen[1]\n",
    "     path[2,st] = M.θgen[5]\n",
    "end\n",
    "open(\"../Hyperparams/descent55.txt\",\"w\") do io\n",
    "    writedlm(io,path') \n",
    "end"
   ]
  },
  {
   "cell_type": "code",
   "execution_count": null,
   "metadata": {},
   "outputs": [],
   "source": [
    "using Plots\n",
    "heatmap(LinRange(pseed_min,pseed_max,lattice_size),LinRange(inf_min,inf_max,lattice_size),log.(F_lattice), xlabel=\"pseed\", ylabel=\"infection peak\",title=\"Heat map for free energy in function of hyperparams\")\n",
    "plot!(path[1,1:end],path[2,1:end],label=\"descent\")\n",
    "scatter!(path[1,1:1],path[2,1:1],label=\"initial point\")\n",
    "scatter!(path[1,end:end],path[2,end:end],label=\"final point\")\n",
    "scatter!([Mp.θgen[1],],[Mp.θgen[5],],label=\"true solution\")\n",
    "#savefig(\"descentVSmap\")"
   ]
  },
  {
   "cell_type": "markdown",
   "metadata": {},
   "source": [
    "# A study on parameters variation"
   ]
  },
  {
   "cell_type": "code",
   "execution_count": null,
   "metadata": {},
   "outputs": [
    {
     "name": "stderr",
     "output_type": "stream",
     "text": [
      "┌ Warning: ProgressMeter by default refresh meters with additional information in IJulia via `IJulia.clear_output`, which clears all outputs in the cell. \n",
      "│  - To prevent this behaviour, do `ProgressMeter.ijulia_behavior(:append)`. \n",
      "│  - To disable this warning message, do `ProgressMeter.ijulia_behavior(:clear)`.\n",
      "└ @ ProgressMeter /home/students/mmariani/.julia/packages/ProgressMeter/Vf8un/src/ProgressMeter.jl:620\n",
      "\u001b[32mProgress:   6%|██▌                                      |  ETA: 0:03:16\u001b[39m\n",
      "\u001b[34m  F:  1324.6956756115906\u001b[39m"
     ]
    }
   ],
   "source": [
    "pseed = 1/N\n",
    "ε = 1e-3\n",
    "\n",
    "lam = LinRange(0.04,0.2,10)\n",
    "infer_lam = zeros(length(lam))\n",
    "n_infected = zeros(length(lam))\n",
    "for st = 1:5\n",
    "    for lam_num = 1:length(lam)\n",
    "        λ = lam[lam_num] \n",
    "        autoinf = GaussianRate(ε, T/2, 3T);\n",
    "        inf_in = GaussianRate(1.0, T/2, 3T)\n",
    "        inf_out = GaussianRate(λ, T/2, 3T)\n",
    "\n",
    "        θp = getpar(pseed, autoinf, inf_in);\n",
    "        θpgen = getpargen(pseed, autoinf, inf_out);\n",
    "\n",
    "\n",
    "        Mp = StochasticModel(Igen, T, θp, G, θpgen);\n",
    "        sample! = Sampler(Mp);\n",
    "        nobs, p = 600, 1e-5\n",
    "        ni = 0\n",
    "        while ni<0.06 || ni>0.999\n",
    "            sample!(xtrue)\n",
    "            ni = sum(xtrue .< T) / N\n",
    "        end\n",
    "        n_infected[lam_num] = ni \n",
    "        O = [(i = rand(1:N); ti = T*rand(); (i,xtrue[i] < ti,ti,p)) for r=1:nobs]\n",
    "        θp2gen = getpargen(pseed, autoinf, inf_out);\n",
    "        θp2 = getpar(pseed, autoinf, inf_in);\n",
    "        Mp2 = StochasticModel(Igen, T, θp2, G, θp2gen);\n",
    "        θ = getpar(pseed, autoinf, inf_in);\n",
    "        M = StochasticModel(Igauss, T, θ, G, θp2gen);\n",
    "        descend!(Mp2, O; M=M, numsamples=3000, numiters=100, \n",
    "             θmin=θmin, θmax=θmax,θgenmin=θgenmin, θgenmax=θgenmax, descender=SignDescender(0.1),\n",
    "             hyperdescender=SignDescender(0.1),hyper_mask=[2,3,4,6,7]);\n",
    "        descend!(Mp2, O; M=M, numsamples=3000, numiters=100, \n",
    "             θmin=θmin, θmax=θmax,θgenmin=θgenmin, θgenmax=θgenmax, descender=SignDescender(0.02),\n",
    "             hyperdescender=SignDescender(0.02),hyper_mask=[2,3,4,6,7]);\n",
    "        infer_lam[lam_num] += M.θgen[5] / 5\n",
    "    end\n",
    "end"
   ]
  },
  {
   "cell_type": "code",
   "execution_count": null,
   "metadata": {},
   "outputs": [],
   "source": [
    "using Plots\n",
    "scatter(lam,infer_lam,xlabel=\"true\",ylabel=\"inferred\",legend=false)\n",
    "plot!(lam,lam)\n",
    "#plot!(lam,n_infected)"
   ]
  },
  {
   "cell_type": "code",
   "execution_count": null,
   "metadata": {},
   "outputs": [],
   "source": [
    "using DelimitedFiles\n",
    "open(\"../Hyperparams/2lam0.04_0.2.txt\",\"w\") do io\n",
    "    writedlm(io,infer_lam) \n",
    "end\n",
    "\n",
    "open(\"../Hyperparams/2lam0.04_0.2infected.txt\",\"w\") do io\n",
    "    writedlm(io,n_infected) \n",
    "end"
   ]
  },
  {
   "cell_type": "markdown",
   "metadata": {},
   "source": [
    "## Comparison of free energy landascapes Causality vs \"Exact\" \n",
    "We want to see if the free energy landscape provided by causality is trustable or not. We need an exact profile to compare with. However, no exact method exists for epidemic problems. Therefore, we use the softmargin method which is close to the exact solution if few observations are made on the system. So we generate an instance with few observations and we compare the free energy profile of causality and softmargin"
   ]
  },
  {
   "cell_type": "code",
   "execution_count": null,
   "metadata": {},
   "outputs": [
    {
     "name": "stderr",
     "output_type": "stream",
     "text": [
      "┌ Warning: ProgressMeter by default refresh meters with additional information in IJulia via `IJulia.clear_output`, which clears all outputs in the cell. \n",
      "│  - To prevent this behaviour, do `ProgressMeter.ijulia_behavior(:append)`. \n",
      "│  - To disable this warning message, do `ProgressMeter.ijulia_behavior(:clear)`.\n",
      "└ @ ProgressMeter /home/students/mmariani/.julia/packages/ProgressMeter/Vf8un/src/ProgressMeter.jl:620\n",
      "\u001b[32mProgress: 100%|█████████████████████████████████████████| Time: 0:00:10\u001b[39m\n",
      "\u001b[34m  F:  9.26287294427819\u001b[39m\n",
      "\u001b[32mProgress: 100%|█████████████████████████████████████████| Time: 0:00:13\u001b[39m\n",
      "\u001b[32mProgress:  51%|████████████████████▉                    |  ETA: 0:00:58\u001b[39m"
     ]
    }
   ],
   "source": [
    "using Plots\n",
    "#We discard some observations in order to make softmargin almost exact.\n",
    "Osoft = O[1:15]\n",
    "totsamples = 2 * 10^5\n",
    "\n",
    "lattice_size = 20\n",
    "Fcau_lattice = zeros(lattice_size,lattice_size);\n",
    "Fsoft_lattice = zeros(lattice_size,lattice_size);\n",
    "FSsoft_lattice = zeros(lattice_size,lattice_size);\n",
    "\n",
    "T = Float64(T)\n",
    "inf_in = GaussianRate(1., T/2, 3*T );\n",
    "ε = 1e-3\n",
    "autoinf = GaussianRate(ε, T/2, T);\n",
    "\n",
    "\n",
    "pseed_min = 1/(10*N)\n",
    "pseed_max = 0.25\n",
    "inf_min = 0.01\n",
    "inf_max = 0.7\n",
    "pseed, inf_out = pseed_min, GaussianRate(inf_min, T/2, 3*T)\n",
    "\n",
    "step_inf = (inf_max - inf_min) / (lattice_size)\n",
    "step_seed = (pseed_max - pseed_min) / (lattice_size)\n",
    "\n",
    "for iinf in 1:lattice_size\n",
    "    pseed = pseed_min\n",
    "    for iseed in 1:lattice_size\n",
    "        θp2gen = getpargen(pseed, autoinf, inf_out);\n",
    "        θp2 = getpar(pseed, autoinf, inf_in);\n",
    "        Mp2 = StochasticModel(Igen, T, θp2, G, θp2gen);\n",
    "        θ = getpar(pseed, autoinf, inf_in);\n",
    "        M = StochasticModel(Igauss, T, θ, G, θp2gen);\n",
    "        descend!(Mp2, Osoft; M=M, numsamples=1000, numiters=100, \n",
    "             θmin=θmin, θmax=θmax,θgenmin=θgenmin, θgenmax=θgenmax, descender=SignDescender(0.1),\n",
    "             hyperdescender=SignDescender(0.),hyper_mask=[2,3,4,6,7]);\n",
    "        Fcau_lattice[iinf,iseed] = descend!(Mp2, Osoft; M=M, numsamples=1000, numiters=100, \n",
    "             θmin=θmin, θmax=θmax,θgenmin=θgenmin, θgenmax=θgenmax, descender=SignDescender(0.02),\n",
    "             hyperdescender=SignDescender(0.),hyper_mask=[2,3,4,6,7]);\n",
    "        stats, weight = softpostnoise(Mp2, Osoft; numsamples=totsamples);\n",
    "        Fsoft_lattice[iinf,iseed] = - log(sum(weight)/totsamples)\n",
    "        Sstats,Sweight = softpostnoise(Mp2, Osoft; numsamples=10*totsamples);\n",
    "        FSsoft_lattice[iinf,iseed] = - log(sum(Sweight)/(10*totsamples))\n",
    "        pseed += step_seed\n",
    "    end\n",
    "    inf_out = GaussianRate(inf_min + iinf*step_inf, T/2, 3*T)\n",
    "end\n"
   ]
  },
  {
   "cell_type": "code",
   "execution_count": null,
   "metadata": {},
   "outputs": [],
   "source": [
    "heatmap(LinRange(pseed_min,pseed_max,lattice_size),LinRange(inf_min,inf_max,lattice_size),log.(Fcau_lattice), xlabel=\"pseed\", ylabel=\"infection peak\")"
   ]
  },
  {
   "cell_type": "code",
   "execution_count": null,
   "metadata": {},
   "outputs": [],
   "source": [
    "heatmap(LinRange(pseed_min,pseed_max,lattice_size),LinRange(inf_min,inf_max,lattice_size),log.(Fsoft_lattice), xlabel=\"pseed\", ylabel=\"infection peak\")"
   ]
  },
  {
   "cell_type": "code",
   "execution_count": null,
   "metadata": {},
   "outputs": [],
   "source": [
    "heatmap(LinRange(pseed_min,pseed_max,lattice_size),LinRange(inf_min,inf_max,lattice_size),log.(FSsoft_lattice), xlabel=\"pseed\", ylabel=\"infection peak\")"
   ]
  },
  {
   "cell_type": "raw",
   "metadata": {},
   "source": [
    "using DelimitedFiles\n",
    "open(\"../hyper_fe_soft.txt\",\"w\") do io\n",
    "       writedlm(io,Fsoft_lattice) \n",
    "end\n",
    "open(\"../hyper_fe_cau.txt\",\"w\") do io\n",
    "       writedlm(io,Fcau_lattice) \n",
    "end\n",
    "open(\"../hyper_fe_Ssoft.txt\",\"w\") do io\n",
    "       writedlm(io,FSsoft_lattice) \n",
    "end"
   ]
  },
  {
   "cell_type": "raw",
   "metadata": {
    "jupyter": {
     "source_hidden": true
    },
    "tags": []
   },
   "source": [
    "Osoft = O[1:15]\n",
    "totsamples = 2 * 10^5\n",
    "T = Float64(T)\n",
    "inf_in = GaussianRate(1., T/2, 3*T );\n",
    "ε = 1e-3\n",
    "autoinf = GaussianRate(ε, T/2, T);\n",
    "\n",
    "θp2gen = getpargen(pseed, autoinf, inf_out);\n",
    "θp2 = getpar(pseed, autoinf, inf_in);\n",
    "Mp2 = StochasticModel(Igen, T, θp2, G, θp2gen);\n",
    "θ = getpar(pseed, autoinf, inf_in);\n",
    "M = StochasticModel(Igauss, T, θ, G, θp2gen);\n",
    "descend!(Mp2, Osoft; M=M, numsamples=1000, numiters=100, \n",
    "     θmin=θmin, θmax=θmax,θgenmin=θgenmin, θgenmax=θgenmax, descender=SignDescender(0.1),\n",
    "     hyperdescender=SignDescender(0.),hyper_mask=[2,3,4,6,7]);\n",
    "fcau = descend!(Mp2, Osoft; M=M, numsamples=1000, numiters=100, \n",
    "     θmin=θmin, θmax=θmax,θgenmin=θgenmin, θgenmax=θgenmax, descender=SignDescender(0.01),\n",
    "     hyperdescender=SignDescender(0.),hyper_mask=[2,3,4,6,7]);\n",
    "stats,weight = softpostnoise(Mp2, Osoft; numsamples=totsamples);\n",
    "fsoft = - log(sum(weight)/totsamples)\n",
    "Sstats,Sweight = softpostnoise(Mp2, Osoft; numsamples=10*totsamples);\n",
    "fSsoft = - log(sum(Sweight)/(10*totsamples))"
   ]
  }
 ],
 "metadata": {
  "kernelspec": {
   "display_name": "Julia 1.7.0-rc2",
   "language": "julia",
   "name": "julia-1.7"
  },
  "language_info": {
   "file_extension": ".jl",
   "mimetype": "application/julia",
   "name": "julia",
   "version": "1.7.0"
  }
 },
 "nbformat": 4,
 "nbformat_minor": 4
}
