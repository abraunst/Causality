{
 "cells": [
  {
   "cell_type": "code",
   "execution_count": 9,
   "metadata": {},
   "outputs": [],
   "source": [
    "using SparseArrays, LinearAlgebra, IndexedGraphs, DelimitedFiles\n",
    "#using Pkg\n",
    "#Pkg.activ§ate(\"../\")\n",
    "using Causality\n",
    "using IntervalUnionArithmetic\n",
    "using ProgressMeter"
   ]
  },
  {
   "cell_type": "markdown",
   "metadata": {},
   "source": [
    "# Generation of Epidemics"
   ]
  },
  {
   "cell_type": "code",
   "execution_count": 5,
   "metadata": {},
   "outputs": [
    {
     "data": {
      "text/plain": [
       "20.0"
      ]
     },
     "execution_count": 5,
     "metadata": {},
     "output_type": "execute_result"
    }
   ],
   "source": [
    "T = 20.0 "
   ]
  },
  {
   "cell_type": "code",
   "execution_count": 6,
   "metadata": {},
   "outputs": [
    {
     "data": {
      "text/plain": [
       "GaussianInferentialSI"
      ]
     },
     "execution_count": 6,
     "metadata": {},
     "output_type": "execute_result"
    }
   ],
   "source": [
    "folderstring = \"../Scaling/try1/\"\n",
    "const Igen = GenerativeSI{GaussianRate,GaussianRate} \n",
    "const Igauss = GaussianInferentialSI"
   ]
  },
  {
   "cell_type": "code",
   "execution_count": null,
   "metadata": {},
   "outputs": [],
   "source": [
    "numsamplesList = [50,100,200,300,400,500,700,850,1000,1500,2000,3000,4000]\n",
    "Nlist = [500,750,1000,1300,1500,2000]\n",
    "λlist = [0.24,0.28,0.32,0.36,0.39,0.43]\n",
    "@assert length(Nlist) == length(λlist)\n",
    "for Ncount=1:length(Nlist)\n",
    "    N = Nlist[Ncount]\n",
    "    for trial = 1:2\n",
    "        G = Causality.makeProximity(N,2.1/N)\n",
    "        T = Float64(T)\n",
    "        getpar(pseed,autoinf::GaussianRate,inf_in::GaussianRate) = \n",
    "            [fill(pseed, 1, N);\n",
    "             fill(autoinf.a, 1, N); fill(autoinf.b, 1, N); fill(autoinf.c, 1, N);\n",
    "             fill(inf_in.a,   1, N); fill(inf_in.b, 1, N); fill(inf_in.c, 1, N);\n",
    "            ]\n",
    "\n",
    "        getpargen(pseed, autoinf::GaussianRate, inf_out::GaussianRate) = \n",
    "            [pseed autoinf.a autoinf.b autoinf.c inf_out.a inf_out.b inf_out.c]\n",
    "\n",
    "        #Initialize generation parameters\n",
    "        ε = 1e-10\n",
    "        λ = λlist[Ncount]\n",
    "        pseed = 1/N\n",
    "        autoinf = GaussianRate(ε, T/2, 1/ε)\n",
    "        inf_in = GaussianRate(1.0, T/2, 1/ε)\n",
    "        inf_out = GaussianRate(λ, T/2, 1/ε)\n",
    "\n",
    "        θp = getpar(pseed, autoinf, inf_in);\n",
    "        θpgen = getpargen(pseed, autoinf, inf_out);\n",
    "\n",
    "        pseed_min = ε\n",
    "        pseed_max = 1-ε\n",
    "        rate_min = GaussianRate(ε  ,  -T,   ε)\n",
    "        rate_max = GaussianRate(1/ε  ,  2T,   1/ε)\n",
    "\n",
    "        θmin = getpar(pseed_min , rate_min, rate_min);\n",
    "        θmax = getpar(pseed_max , rate_max, rate_max);\n",
    "\n",
    "        rate_min = GaussianRate(ε  ,  -T,   ε)\n",
    "        rate_max = GaussianRate(1/ε  ,  T,   T)\n",
    "\n",
    "        θgenmin = getpargen(pseed_min, rate_min, rate_min);\n",
    "        θgenmax = getpargen(pseed_max, rate_max, rate_max);\n",
    "\n",
    "\n",
    "        V = fill(MaskedRate(UnitRate(),Causality.intervalUnion(0,T)), ne(G));\n",
    "        Mp = StochasticModel(Igen, T, θp, G, θpgen, V);\n",
    "        sample! = Sampler(Mp);\n",
    "        xtrue = zeros(N)\n",
    "        ni = 0\n",
    "        while !(0.4<ni<0.6)\n",
    "            sample!(xtrue)\n",
    "            ni = sum(xtrue .< T)/N\n",
    "        end\n",
    "        ni\n",
    "        nobs = Int(round(N/10))\n",
    "        p = 1e-5 #p is mute\n",
    "        O = [(ti = T; (i,xtrue[i] < ti,ti,p)) for i=1:nobs]\n",
    "        for numsamples in numsamplesList\n",
    "            T = Float64(T)\n",
    "            ε = 2e-3\n",
    "            autoinf = GaussianRate(ε, T/2, T);\n",
    "            θp2gen = getpargen(pseed, autoinf, inf_out);\n",
    "            inf_in = GaussianRate(1., T/2, 3*T );\n",
    "\n",
    "            θp2 = getpar(pseed, autoinf, inf_in);\n",
    "            Mp2 = StochasticModel(Igen, T, θp2, G, θp2gen, V);\n",
    "\n",
    "            θ = getpar(pseed, autoinf, inf_in);\n",
    "            autoinf = GaussianRate(0.01, T/2, T);\n",
    "            M = StochasticModel(Igauss, T, θ, G, θp2gen, V);\n",
    "            ProgressMeter.ijulia_behavior(:clear)\n",
    "            F = descend!(Mp2, O; M=M, numsamples=numsamples, numiters=50, \n",
    "                     θmin=θmin, θmax=θmax,θgenmin=θgenmin, θgenmax=θgenmax, descender=SignDescender(0.1),\n",
    "                     hyperdescender=SignDescender(0.));\n",
    "            F = descend!(Mp2, O; M=M, numsamples=numsamples, numiters=50, \n",
    "                     θmin=θmin, θmax=θmax,θgenmin=θgenmin, θgenmax=θgenmax, descender=SignDescender(0.03),\n",
    "                     hyperdescender=SignDescender(0.));\n",
    "            statscau = prior(M, numsamples=10000);\n",
    "\n",
    "            T = Float64(T)\n",
    "\n",
    "            function marginal(i, t, stats)\n",
    "                numsamp = size(stats,1)\n",
    "                sum(stats[:,i] .< t)/numsamp\n",
    "            end\n",
    "\n",
    "            function reweighted_marginal(i, t, stats, weights)\n",
    "                numsamp = size(stats,1)\n",
    "                @assert numsamp == size(weights,1)\n",
    "                weights ./= maximum(weights)\n",
    "                sum(weights .* (stats[:,i] .< t))/sum(weights)\n",
    "            end\n",
    "\n",
    "            function tpr(xtrue, rank) \n",
    "                cumsum(xtrue[rank]) ./( cumsum(xtrue[rank])[end])\n",
    "            end\n",
    "\n",
    "            function fpr(xtrue, rank) \n",
    "                N = size(rank,1)\n",
    "                return (range(1,N,length=N) .- cumsum(xtrue[rank])) ./ (range(1,N,length=N) .- cumsum(xtrue[rank]) )[end]\n",
    "            end\n",
    "\n",
    "            function ROC(xtrue, p)\n",
    "                N = size(xtrue,1)\n",
    "                rank = sortperm(p, rev=true)\n",
    "\n",
    "                return fpr(xtrue, rank) , tpr(xtrue, rank)\n",
    "            end\n",
    "\n",
    "            function AUROC(ROC)\n",
    "                N = size(ROC[1],1) \n",
    "                AU = 0\n",
    "                for t = 1:N-1\n",
    "                    AU += ROC[2][t] * (ROC[1][t+1] - ROC[1][t])\n",
    "                end\n",
    "                return AU\n",
    "            end\n",
    "\n",
    "            bins = Int(T)\n",
    "            using Plots\n",
    "            p_cau = zeros(N,bins)\n",
    "            for i = 1:N\n",
    "                for t = 1:bins\n",
    "                   p_cau[i,t] = marginal(i, t*T/bins, statscau)\n",
    "                end\n",
    "            end\n",
    "\n",
    "            T = Int(T)\n",
    "            AU_curve=zeros(T)\n",
    "            for t = 1:T\n",
    "                cau_risk=zeros(N)\n",
    "                for i=1:N\n",
    "                   cau_risk[i] = marginal(i,t,statscau)\n",
    "                end\n",
    "                xt = xtrue .< t\n",
    "                AU_curve[t] = AUROC(ROC(xt, cau_risk))\n",
    "            end\n",
    "            open(\"$(folderstring)try$(trial)numsamp$(numsamples)N$(N)cau.txt\",\"w\") do io\n",
    "                    writedlm(io,AU_curve') \n",
    "            end\n",
    "        end\n",
    "    end\n",
    "end"
   ]
  },
  {
   "cell_type": "code",
   "execution_count": 8,
   "metadata": {},
   "outputs": [
    {
     "data": {
      "text/plain": [
       "0.5667949999999999"
      ]
     },
     "execution_count": 8,
     "metadata": {},
     "output_type": "execute_result"
    }
   ],
   "source": [
    "N = 2000\n",
    "G = Causality.makeProximity(N,2.1/N)\n",
    "    T = Float64(T)\n",
    "    getpar(pseed,autoinf::GaussianRate,inf_in::GaussianRate) = \n",
    "        [fill(pseed, 1, N);\n",
    "         fill(autoinf.a, 1, N); fill(autoinf.b, 1, N); fill(autoinf.c, 1, N);\n",
    "         fill(inf_in.a,   1, N); fill(inf_in.b, 1, N); fill(inf_in.c, 1, N);\n",
    "        ]\n",
    "\n",
    "    getpargen(pseed, autoinf::GaussianRate, inf_out::GaussianRate) = \n",
    "        [pseed autoinf.a autoinf.b autoinf.c inf_out.a inf_out.b inf_out.c]\n",
    "\n",
    "    #Initialize generation parameters\n",
    "    ε = 1e-10\n",
    "    λ = 0.43\n",
    "    pseed = 1/N\n",
    "    autoinf = GaussianRate(ε, T/2, 1/ε)\n",
    "    inf_in = GaussianRate(1.0, T/2, 1/ε)\n",
    "    inf_out = GaussianRate(λ, T/2, 1/ε)\n",
    "\n",
    "    θp = getpar(pseed, autoinf, inf_in);\n",
    "    θpgen = getpargen(pseed, autoinf, inf_out);\n",
    "\n",
    "    pseed_min = ε\n",
    "    pseed_max = 1-ε\n",
    "    rate_min = GaussianRate(ε  ,  -T,   ε)\n",
    "    rate_max = GaussianRate(1/ε  ,  2T,   1/ε)\n",
    "\n",
    "    θmin = getpar(pseed_min , rate_min, rate_min);\n",
    "    θmax = getpar(pseed_max , rate_max, rate_max);\n",
    "\n",
    "    rate_min = GaussianRate(ε  ,  -T,   ε)\n",
    "    rate_max = GaussianRate(1/ε  ,  T,   T)\n",
    "\n",
    "    θgenmin = getpargen(pseed_min, rate_min, rate_min);\n",
    "    θgenmax = getpargen(pseed_max, rate_max, rate_max);\n",
    "\n",
    "    \n",
    "    V = fill(MaskedRate(UnitRate(),Causality.intervalUnion(0,T)), ne(G));\n",
    "    Mp = StochasticModel(Igen, T, θp, G, θpgen, V);\n",
    "    sample! = Sampler(Mp);\n",
    "    xtrue = zeros(N)\n",
    "    ni = 0\n",
    "    count=0\n",
    "    for st = 1:100\n",
    "        sample!(xtrue)\n",
    "        ni = sum(xtrue .< T)/N\n",
    "        count += ni\n",
    "    end\n",
    "    count / 100"
   ]
  },
  {
   "cell_type": "code",
   "execution_count": null,
   "metadata": {},
   "outputs": [],
   "source": []
  },
  {
   "cell_type": "code",
   "execution_count": null,
   "metadata": {},
   "outputs": [],
   "source": []
  }
 ],
 "metadata": {
  "kernelspec": {
   "display_name": "Julia 1.7.0-rc2",
   "language": "julia",
   "name": "julia-1.7"
  },
  "language_info": {
   "file_extension": ".jl",
   "mimetype": "application/julia",
   "name": "julia",
   "version": "1.7.0"
  }
 },
 "nbformat": 4,
 "nbformat_minor": 4
}
