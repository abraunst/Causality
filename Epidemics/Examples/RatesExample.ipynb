{
 "cells": [
  {
   "cell_type": "code",
   "execution_count": 1,
   "metadata": {},
   "outputs": [
    {
     "ename": "LoadError",
     "evalue": "UndefVarError: infect not defined",
     "output_type": "error",
     "traceback": [
      "UndefVarError: infect not defined",
      "",
      "Stacktrace:",
      " [1] eval",
      "   @ ./boot.jl:373 [inlined]",
      " [2] include_string(mapexpr::typeof(REPL.softscope), mod::Module, code::String, filename::String)",
      "   @ Base ./loading.jl:1196"
     ]
    }
   ],
   "source": [
    "using Causality\n",
    "using Causality: infect, cumulated, density\n",
    "using IntervalUnionArithmetic"
   ]
  },
  {
   "cell_type": "code",
   "execution_count": 2,
   "metadata": {},
   "outputs": [
    {
     "data": {
      "text/plain": [
       "doplot (generic function with 1 method)"
      ]
     },
     "execution_count": 2,
     "metadata": {},
     "output_type": "execute_result"
    }
   ],
   "source": [
    "using Plots: xlims!, histogram, plot!\n",
    "\n",
    "function doplot(r)\n",
    "    xmax = 15\n",
    "    tt=0:xmax/1000:xmax; \n",
    "    tj=1.0\n",
    "    xlims!((0,xmax))\n",
    "    histogram(min.(xmax+1, [infect(r,tj) for i=1:10^6]), normalize=:true, label=\"samples\", nbins=:auto)\n",
    "    rho(t, tj) = exp(cumulated(r,tj)-cumulated(r, t)) * density(r, t) * (t≥tj)\n",
    "    xlims!((0,xmax))\n",
    "    plot!(tt, rho.(tt, tj), label=\"analytic\")\n",
    "end"
   ]
  },
  {
   "cell_type": "code",
   "execution_count": 3,
   "metadata": {},
   "outputs": [
    {
     "ename": "LoadError",
     "evalue": "UndefVarError: Interval not defined",
     "output_type": "error",
     "traceback": [
      "UndefVarError: Interval not defined",
      "",
      "Stacktrace:",
      " [1] top-level scope",
      "   @ In[3]:2",
      " [2] eval",
      "   @ ./boot.jl:373 [inlined]",
      " [3] include_string(mapexpr::typeof(REPL.softscope), mod::Module, code::String, filename::String)",
      "   @ Base ./loading.jl:1196"
     ]
    }
   ],
   "source": [
    "g = GaussianRate(0.9,5.0,5.0)\n",
    "mask = Interval(0.1,4.0)∪Interval(5.0,7.0)∪Interval(8.,15.)\n",
    "mg = MaskedRate(g, mask)\n",
    "doplot(mg)"
   ]
  },
  {
   "cell_type": "code",
   "execution_count": 4,
   "metadata": {},
   "outputs": [
    {
     "ename": "LoadError",
     "evalue": "UndefVarError: mask not defined",
     "output_type": "error",
     "traceback": [
      "UndefVarError: mask not defined",
      "",
      "Stacktrace:",
      " [1] top-level scope",
      "   @ In[4]:2",
      " [2] eval",
      "   @ ./boot.jl:373 [inlined]",
      " [3] include_string(mapexpr::typeof(REPL.softscope), mod::Module, code::String, filename::String)",
      "   @ Base ./loading.jl:1196"
     ]
    }
   ],
   "source": [
    "c = ConstantRate(0.3)\n",
    "mc = MaskedRate(c, mask)\n",
    "doplot(mc)"
   ]
  },
  {
   "cell_type": "code",
   "execution_count": 5,
   "metadata": {},
   "outputs": [
    {
     "data": {
      "text/plain": [
       "UnitRate()"
      ]
     },
     "execution_count": 5,
     "metadata": {},
     "output_type": "execute_result"
    }
   ],
   "source": [
    "UnitRate()"
   ]
  },
  {
   "cell_type": "code",
   "execution_count": null,
   "metadata": {},
   "outputs": [],
   "source": []
  }
 ],
 "metadata": {
  "kernelspec": {
   "display_name": "Julia 1.7.0-rc2",
   "language": "julia",
   "name": "julia-1.7"
  },
  "language_info": {
   "file_extension": ".jl",
   "mimetype": "application/julia",
   "name": "julia",
   "version": "1.7.0"
  }
 },
 "nbformat": 4,
 "nbformat_minor": 4
}
