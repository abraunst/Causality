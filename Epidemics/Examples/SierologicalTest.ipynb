{
 "cells": [
  {
   "cell_type": "code",
   "execution_count": 1,
   "metadata": {},
   "outputs": [],
   "source": [
    "using Causality, IntervalUnionArithmetic, Plots"
   ]
  },
  {
   "cell_type": "markdown",
   "metadata": {},
   "source": [
    "# Generation of Epidemics"
   ]
  },
  {
   "cell_type": "code",
   "execution_count": 2,
   "metadata": {},
   "outputs": [
    {
     "data": {
      "text/plain": [
       "{100, 586} directed sparse Int64 graph\n",
       "⠀⡠⠀⠄⠄⠀⡀⢑⢀⠁⠀⠅⠀⠈⠀⠀⠀⠀⢢⠂⠀⠄⠈⠀⠤⠀⠡⠀⢁⠢⠂⠀⢀⠀⠄⠂⠀⠀⠠⠀\n",
       "⠀⠄⡠⠊⠴⠀⠀⠀⠀⠀⠀⠄⠀⡀⠄⠀⠀⡁⠀⠀⠀⠄⠀⠀⠤⡀⢨⠀⠀⠠⠠⠀⠀⠀⠆⠀⠈⠀⠰⠰\n",
       "⠀⠁⠐⠃⠀⠀⠠⠀⠀⠠⠄⠁⡀⠄⢀⠀⠀⠠⠀⠄⠤⠀⣀⠠⠐⠀⠀⡀⠀⠀⠀⠀⠀⠀⠒⠀⡀⠄⡐⠐\n",
       "⢄⢈⠀⠀⠀⠂⡀⠈⠀⠀⠀⠀⠀⠢⠀⠄⠀⠐⠀⠂⠔⠀⠀⠠⠀⠠⠀⠀⠌⠀⠀⠀⠈⠠⠠⡁⠠⠂⠐⠄\n",
       "⠄⠐⠀⠀⠀⡀⠀⠀⠀⠀⠀⠀⠐⠀⠀⠀⠀⠀⠀⠠⢀⠠⠠⠄⠀⠀⠄⠠⠴⠀⠐⠀⠠⠀⠀⠀⠀⡈⠀⠂\n",
       "⠄⠄⠀⠄⠄⠁⠀⠀⠀⠀⠀⠀⠀⠠⠀⡀⠀⠈⠀⠁⠁⠄⠠⠈⠤⠀⠠⠀⠀⢀⢀⠀⡀⠠⠀⠀⢀⠀⠠⠀\n",
       "⡀⠀⠀⠠⠀⠌⠠⡀⠐⠀⠀⡀⠀⠀⠈⠀⠠⠀⠀⠀⠠⠀⢉⠀⠀⠄⠀⠡⠂⠀⠐⠔⠠⠄⢀⠀⠐⠄⠀⠂\n",
       "⠀⠀⠀⠁⠀⠐⠀⠄⠀⠀⠀⠠⠂⠀⢀⠐⠀⠀⠀⠀⢔⠁⠂⠠⢉⠠⠈⠂⢀⠨⠨⠀⠄⠠⢀⠀⠠⠀⠀⠀\n",
       "⠀⠀⠄⠠⠀⡀⢀⠀⠀⠀⡀⠀⠀⠂⠀⠀⠠⠂⠀⡀⠀⠀⠀⠀⠀⠂⠠⠰⠀⠀⠈⠎⠀⠂⠀⠰⠦⠀⠆⠀\n",
       "⠨⠒⠀⠀⠀⠄⠠⠀⠀⡀⠄⠀⠀⠀⠀⠀⠀⠠⠄⠁⠄⢀⠀⡠⠀⠀⠀⢀⠀⠄⠅⠀⠀⠀⠂⠄⠀⠀⠸⠀\n",
       "⠀⠄⠀⠄⠀⠃⠐⠁⠀⡐⠁⠄⠀⠂⠔⠑⠀⠀⠀⢁⠀⠀⠀⡈⠴⠀⠠⢀⠐⠠⠀⠀⠀⠈⠐⠀⠀⠂⠀⠀\n",
       "⠂⠀⠀⠀⠀⡘⠀⡀⠀⠆⡀⠂⠃⠐⠈⡀⠀⠀⠀⡠⡀⠠⠊⠀⠀⠀⠀⠃⠀⠀⠀⠀⠀⢐⠀⠀⠃⠀⢑⠀\n",
       "⠀⠃⠀⠣⠐⠀⠀⡀⠀⠀⠀⠃⠀⠄⠃⡐⠠⠀⠀⠀⠐⠃⠀⠀⠊⠀⠘⠠⠐⠘⠐⠄⠀⢄⠐⠀⠀⠀⠀⠐\n",
       "⠁⠂⠂⠒⠀⠠⠀⠀⠀⡁⠀⠂⠄⡀⠢⠀⢀⡂⠀⢀⠀⢂⠤⠀⠒⡀⠀⠀⠉⠐⠐⡂⠈⡀⠀⠀⡐⠀⠀⠁\n",
       "⠡⡐⠀⡀⠀⠀⠂⠁⠐⠃⠀⢀⠈⠀⡀⡐⠀⠀⠀⠄⠐⡀⠀⠀⣐⠀⢃⠀⠊⠀⢄⠀⡘⠀⠐⠄⠀⠀⠀⠑\n",
       "⠈⠀⠀⠂⠀⠀⠀⠀⠐⠀⠀⠐⢐⠄⠂⠂⡢⠄⠁⠁⠀⠀⠀⠀⠐⠄⠰⠠⠀⠑⢀⠐⠂⠄⠀⢰⢄⠀⡄⠂\n",
       "⠀⠐⠀⠀⠀⠀⠂⡀⠀⠂⠀⡈⠀⠆⠀⡁⠠⠀⠀⠀⡀⠀⢀⢀⠀⢄⠂⠠⠒⠈⠈⠄⠐⠀⠀⠀⠈⠀⢀⠀\n",
       "⠠⠁⠈⠁⠘⠀⠄⠢⠀⠀⠀⠀⠀⠐⠀⠐⢀⡀⠈⠄⠐⠀⠀⠀⠐⠀⠀⠀⠐⠄⢀⣀⠀⠀⠀⠀⣐⠀⡈⠘\n",
       "⠀⠀⠂⠀⠀⠌⠠⠂⡀⠠⠀⠐⠐⠄⠀⠂⠈⠃⠀⠀⠠⠀⠉⠀⠀⠀⠐⠈⠀⠀⠀⠑⠂⠀⠐⠘⠀⠀⠁⠂\n",
       "⠀⠂⢐⡂⢐⠈⠐⠄⠠⠀⠀⠂⠠⠀⠀⠀⠈⠁⠒⠂⠀⠀⠑⠐⢀⠀⠄⠀⢄⠀⠠⠉⠀⠐⣂⠈⠡⠀⢀⠐"
      ]
     },
     "execution_count": 2,
     "metadata": {},
     "output_type": "execute_result"
    }
   ],
   "source": [
    "using SparseArrays, IndexedGraphs\n",
    "T, N = 20., 100\n",
    "#G = Causality.makeBarabasi(N,k=2)\n",
    "ρ = 2.2/N\n",
    "#G = Causality.makeGNP(N,ρ)\n",
    "G = Causality.makeProximity(N,ρ)\n",
    "#=A = spdiagm(1=>[i%2 for i=1:N-1], -1=>[i%2 for i=1:N-1])\n",
    "A = spdiagm(1=>[i%20 for i=1:N-1], -1=>[i%20 for i=1:N-1])\n",
    "G = IndexedBiDiGraph(dropzeros!(A))=#"
   ]
  },
  {
   "cell_type": "code",
   "execution_count": 3,
   "metadata": {},
   "outputs": [
    {
     "data": {
      "text/plain": [
       "getpargenSI (generic function with 1 method)"
      ]
     },
     "execution_count": 3,
     "metadata": {},
     "output_type": "execute_result"
    }
   ],
   "source": [
    "getpargen(pseed, autoinf::GaussianRate, inf_out::GaussianRate, lat_gen::GaussianRate, rec_gen::GaussianRate) = \n",
    "    [pseed autoinf.a autoinf.b autoinf.c inf_out.a inf_out.b inf_out.c lat_gen.a lat_gen.b lat_gen.c rec_gen.a rec_gen.b rec_gen.c]\n",
    "\n",
    "getpar(pseed,autoinf::GaussianRate,inf_in::GaussianRate, latency::GaussianRate, recov::GaussianRate) = \n",
    "    [fill(pseed, 1, N);\n",
    "     fill(autoinf.a, 1, N); fill(autoinf.b, 1, N); fill(autoinf.c, 1, N);\n",
    "     fill(inf_in.a,   1, N); fill(inf_in.b, 1, N); fill(inf_in.c, 1, N);\n",
    "     fill(latency.a, 1, N); fill(latency.b, 1, N); fill(latency.c, 1, N);\n",
    "     fill(recov.a, 1, N); fill(recov.b, 1, N); fill(recov.c, 1, N)\n",
    "    ]\n",
    "\n",
    "getparSI(pseed,autoinf::GaussianRate,inf_in::GaussianRate) = \n",
    "    [fill(pseed, 1, N);\n",
    "     fill(autoinf.a, 1, N); fill(autoinf.b, 1, N); fill(autoinf.c, 1, N);\n",
    "     fill(inf_in.a,   1, N); fill(inf_in.b, 1, N); fill(inf_in.c, 1, N);\n",
    "    ]\n",
    "\n",
    "getpargenSI(pseed, autoinf::GaussianRate, inf_out::GaussianRate) = \n",
    "    [pseed autoinf.a autoinf.b autoinf.c inf_out.a inf_out.b inf_out.c]\n",
    "\n"
   ]
  },
  {
   "cell_type": "code",
   "execution_count": 4,
   "metadata": {},
   "outputs": [],
   "source": [
    "#Initialize generation parameters\n",
    "ε = 1e-10\n",
    "λ = 0.3\n",
    "\n",
    "pseed = 1/N\n",
    "autoinf = GaussianRate(ε, T/2, 1/ε)\n",
    "inf_in = GaussianRate(1.0, T/2, 1/ε)\n",
    "latency = GaussianRate(1., T/2, 1/ε)\n",
    "recov = GaussianRate(1., T/2, 1/ε)\n",
    "\n",
    "inf_out = GaussianRate(λ, T/2, 1/ε)\n",
    "l_delay = GaussianRate(0.5, T/2, 1/ε)\n",
    "r_delay = GaussianRate(0.1, T/2, 1/ε)\n",
    "\n",
    "\n",
    "#=inf_out = GaussianRate(λ, T/2, 2T)\n",
    "l_delay = GaussianRate(0.57, 8., 5.)\n",
    "r_delay = GaussianRate(0.23, 18., 10.)=#\n",
    "\n",
    "θp = getpar(pseed, autoinf, inf_in, latency, recov);\n",
    "θpgen = getpargen(pseed, autoinf, inf_out, l_delay, r_delay);"
   ]
  },
  {
   "cell_type": "code",
   "execution_count": 5,
   "metadata": {},
   "outputs": [
    {
     "data": {
      "text/plain": [
       "GenerativeSEIR{GaussianRate, GaussianRate, GaussianRate, GaussianRate}"
      ]
     },
     "execution_count": 5,
     "metadata": {},
     "output_type": "execute_result"
    }
   ],
   "source": [
    "const Igauss = GaussianInferentialSEIR\n",
    "const Igen = GenerativeSEIR{GaussianRate,GaussianRate,GaussianRate,GaussianRate} "
   ]
  },
  {
   "cell_type": "code",
   "execution_count": 25,
   "metadata": {},
   "outputs": [
    {
     "data": {
      "text/plain": [
       "0.5960799999999999"
      ]
     },
     "execution_count": 25,
     "metadata": {},
     "output_type": "execute_result"
    }
   ],
   "source": [
    "Mp = StochasticModel(Igen, T, θp, G, θpgen);\n",
    "sample! = Sampler(Mp);\n",
    "xtrue = zeros(N,3)\n",
    "ni = 0\n",
    "trials = 1000\n",
    "for st=1:trials\n",
    "    sample!(xtrue)\n",
    "    ni += sum(xtrue[:,1] .< T)\n",
    "end\n",
    "ni/trials/N"
   ]
  },
  {
   "cell_type": "code",
   "execution_count": 7,
   "metadata": {},
   "outputs": [
    {
     "name": "stdout",
     "output_type": "stream",
     "text": [
      "0.62\n"
     ]
    },
    {
     "data": {
      "image/svg+xml": [
       "<?xml version=\"1.0\" encoding=\"utf-8\"?>\n",
       "<svg xmlns=\"http://www.w3.org/2000/svg\" xmlns:xlink=\"http://www.w3.org/1999/xlink\" width=\"600\" height=\"400\" viewBox=\"0 0 2400 1600\">\n",
       "<defs>\n",
       "  <clipPath id=\"clip860\">\n",
       "    <rect x=\"0\" y=\"0\" width=\"2400\" height=\"1600\"/>\n",
       "  </clipPath>\n",
       "</defs>\n",
       "<path clip-path=\"url(#clip860)\" d=\"\n",
       "M0 1600 L2400 1600 L2400 0 L0 0  Z\n",
       "  \" fill=\"#ffffff\" fill-rule=\"evenodd\" fill-opacity=\"1\"/>\n",
       "<defs>\n",
       "  <clipPath id=\"clip861\">\n",
       "    <rect x=\"480\" y=\"0\" width=\"1681\" height=\"1600\"/>\n",
       "  </clipPath>\n",
       "</defs>\n",
       "<path clip-path=\"url(#clip860)\" d=\"\n",
       "M140.696 1486.45 L2352.76 1486.45 L2352.76 47.2441 L140.696 47.2441  Z\n",
       "  \" fill=\"#ffffff\" fill-rule=\"evenodd\" fill-opacity=\"1\"/>\n",
       "<defs>\n",
       "  <clipPath id=\"clip862\">\n",
       "    <rect x=\"140\" y=\"47\" width=\"2213\" height=\"1440\"/>\n",
       "  </clipPath>\n",
       "</defs>\n",
       "<polyline clip-path=\"url(#clip862)\" style=\"stroke:#000000; stroke-linecap:butt; stroke-linejoin:round; stroke-width:2; stroke-opacity:0.1; fill:none\" points=\"\n",
       "  182.222,1486.45 182.222,47.2441 \n",
       "  \"/>\n",
       "<polyline clip-path=\"url(#clip862)\" style=\"stroke:#000000; stroke-linecap:butt; stroke-linejoin:round; stroke-width:2; stroke-opacity:0.1; fill:none\" points=\"\n",
       "  709.204,1486.45 709.204,47.2441 \n",
       "  \"/>\n",
       "<polyline clip-path=\"url(#clip862)\" style=\"stroke:#000000; stroke-linecap:butt; stroke-linejoin:round; stroke-width:2; stroke-opacity:0.1; fill:none\" points=\"\n",
       "  1236.19,1486.45 1236.19,47.2441 \n",
       "  \"/>\n",
       "<polyline clip-path=\"url(#clip862)\" style=\"stroke:#000000; stroke-linecap:butt; stroke-linejoin:round; stroke-width:2; stroke-opacity:0.1; fill:none\" points=\"\n",
       "  1763.17,1486.45 1763.17,47.2441 \n",
       "  \"/>\n",
       "<polyline clip-path=\"url(#clip862)\" style=\"stroke:#000000; stroke-linecap:butt; stroke-linejoin:round; stroke-width:2; stroke-opacity:0.1; fill:none\" points=\"\n",
       "  2290.15,1486.45 2290.15,47.2441 \n",
       "  \"/>\n",
       "<polyline clip-path=\"url(#clip860)\" style=\"stroke:#000000; stroke-linecap:butt; stroke-linejoin:round; stroke-width:4; stroke-opacity:1; fill:none\" points=\"\n",
       "  140.696,1486.45 2352.76,1486.45 \n",
       "  \"/>\n",
       "<polyline clip-path=\"url(#clip860)\" style=\"stroke:#000000; stroke-linecap:butt; stroke-linejoin:round; stroke-width:4; stroke-opacity:1; fill:none\" points=\"\n",
       "  182.222,1486.45 182.222,1467.55 \n",
       "  \"/>\n",
       "<polyline clip-path=\"url(#clip860)\" style=\"stroke:#000000; stroke-linecap:butt; stroke-linejoin:round; stroke-width:4; stroke-opacity:1; fill:none\" points=\"\n",
       "  709.204,1486.45 709.204,1467.55 \n",
       "  \"/>\n",
       "<polyline clip-path=\"url(#clip860)\" style=\"stroke:#000000; stroke-linecap:butt; stroke-linejoin:round; stroke-width:4; stroke-opacity:1; fill:none\" points=\"\n",
       "  1236.19,1486.45 1236.19,1467.55 \n",
       "  \"/>\n",
       "<polyline clip-path=\"url(#clip860)\" style=\"stroke:#000000; stroke-linecap:butt; stroke-linejoin:round; stroke-width:4; stroke-opacity:1; fill:none\" points=\"\n",
       "  1763.17,1486.45 1763.17,1467.55 \n",
       "  \"/>\n",
       "<polyline clip-path=\"url(#clip860)\" style=\"stroke:#000000; stroke-linecap:butt; stroke-linejoin:round; stroke-width:4; stroke-opacity:1; fill:none\" points=\"\n",
       "  2290.15,1486.45 2290.15,1467.55 \n",
       "  \"/>\n",
       "<path clip-path=\"url(#clip860)\" d=\"M182.222 1517.37 Q178.611 1517.37 176.782 1520.93 Q174.976 1524.47 174.976 1531.6 Q174.976 1538.71 176.782 1542.27 Q178.611 1545.82 182.222 1545.82 Q185.856 1545.82 187.662 1542.27 Q189.49 1538.71 189.49 1531.6 Q189.49 1524.47 187.662 1520.93 Q185.856 1517.37 182.222 1517.37 M182.222 1513.66 Q188.032 1513.66 191.087 1518.27 Q194.166 1522.85 194.166 1531.6 Q194.166 1540.33 191.087 1544.94 Q188.032 1549.52 182.222 1549.52 Q176.412 1549.52 173.333 1544.94 Q170.277 1540.33 170.277 1531.6 Q170.277 1522.85 173.333 1518.27 Q176.412 1513.66 182.222 1513.66 Z\" fill=\"#000000\" fill-rule=\"evenodd\" fill-opacity=\"1\" /><path clip-path=\"url(#clip860)\" d=\"M688.475 1544.91 L704.794 1544.91 L704.794 1548.85 L682.85 1548.85 L682.85 1544.91 Q685.512 1542.16 690.095 1537.53 Q694.702 1532.88 695.882 1531.53 Q698.128 1529.01 699.007 1527.27 Q699.91 1525.51 699.91 1523.82 Q699.91 1521.07 697.966 1519.33 Q696.044 1517.6 692.942 1517.6 Q690.743 1517.6 688.29 1518.36 Q685.859 1519.13 683.081 1520.68 L683.081 1515.95 Q685.905 1514.82 688.359 1514.24 Q690.813 1513.66 692.85 1513.66 Q698.22 1513.66 701.415 1516.35 Q704.609 1519.03 704.609 1523.52 Q704.609 1525.65 703.799 1527.57 Q703.012 1529.47 700.905 1532.07 Q700.327 1532.74 697.225 1535.95 Q694.123 1539.15 688.475 1544.91 Z\" fill=\"#000000\" fill-rule=\"evenodd\" fill-opacity=\"1\" /><path clip-path=\"url(#clip860)\" d=\"M714.655 1514.29 L733.012 1514.29 L733.012 1518.22 L718.938 1518.22 L718.938 1526.7 Q719.956 1526.35 720.975 1526.19 Q721.993 1526 723.012 1526 Q728.799 1526 732.178 1529.17 Q735.558 1532.34 735.558 1537.76 Q735.558 1543.34 732.086 1546.44 Q728.614 1549.52 722.294 1549.52 Q720.118 1549.52 717.85 1549.15 Q715.604 1548.78 713.197 1548.04 L713.197 1543.34 Q715.28 1544.47 717.502 1545.03 Q719.725 1545.58 722.202 1545.58 Q726.206 1545.58 728.544 1543.48 Q730.882 1541.37 730.882 1537.76 Q730.882 1534.15 728.544 1532.04 Q726.206 1529.94 722.202 1529.94 Q720.327 1529.94 718.452 1530.35 Q716.6 1530.77 714.655 1531.65 L714.655 1514.29 Z\" fill=\"#000000\" fill-rule=\"evenodd\" fill-opacity=\"1\" /><path clip-path=\"url(#clip860)\" d=\"M1210.89 1514.29 L1229.24 1514.29 L1229.24 1518.22 L1215.17 1518.22 L1215.17 1526.7 Q1216.19 1526.35 1217.2 1526.19 Q1218.22 1526 1219.24 1526 Q1225.03 1526 1228.41 1529.17 Q1231.79 1532.34 1231.79 1537.76 Q1231.79 1543.34 1228.32 1546.44 Q1224.84 1549.52 1218.52 1549.52 Q1216.35 1549.52 1214.08 1549.15 Q1211.83 1548.78 1209.43 1548.04 L1209.43 1543.34 Q1211.51 1544.47 1213.73 1545.03 Q1215.95 1545.58 1218.43 1545.58 Q1222.44 1545.58 1224.77 1543.48 Q1227.11 1541.37 1227.11 1537.76 Q1227.11 1534.15 1224.77 1532.04 Q1222.44 1529.94 1218.43 1529.94 Q1216.56 1529.94 1214.68 1530.35 Q1212.83 1530.77 1210.89 1531.65 L1210.89 1514.29 Z\" fill=\"#000000\" fill-rule=\"evenodd\" fill-opacity=\"1\" /><path clip-path=\"url(#clip860)\" d=\"M1251 1517.37 Q1247.39 1517.37 1245.56 1520.93 Q1243.76 1524.47 1243.76 1531.6 Q1243.76 1538.71 1245.56 1542.27 Q1247.39 1545.82 1251 1545.82 Q1254.64 1545.82 1256.44 1542.27 Q1258.27 1538.71 1258.27 1531.6 Q1258.27 1524.47 1256.44 1520.93 Q1254.64 1517.37 1251 1517.37 M1251 1513.66 Q1256.81 1513.66 1259.87 1518.27 Q1262.95 1522.85 1262.95 1531.6 Q1262.95 1540.33 1259.87 1544.94 Q1256.81 1549.52 1251 1549.52 Q1245.19 1549.52 1242.11 1544.94 Q1239.06 1540.33 1239.06 1531.6 Q1239.06 1522.85 1242.11 1518.27 Q1245.19 1513.66 1251 1513.66 Z\" fill=\"#000000\" fill-rule=\"evenodd\" fill-opacity=\"1\" /><path clip-path=\"url(#clip860)\" d=\"M1737.02 1514.29 L1759.24 1514.29 L1759.24 1516.28 L1746.7 1548.85 L1741.81 1548.85 L1753.62 1518.22 L1737.02 1518.22 L1737.02 1514.29 Z\" fill=\"#000000\" fill-rule=\"evenodd\" fill-opacity=\"1\" /><path clip-path=\"url(#clip860)\" d=\"M1768.41 1514.29 L1786.77 1514.29 L1786.77 1518.22 L1772.69 1518.22 L1772.69 1526.7 Q1773.71 1526.35 1774.73 1526.19 Q1775.75 1526 1776.77 1526 Q1782.55 1526 1785.93 1529.17 Q1789.31 1532.34 1789.31 1537.76 Q1789.31 1543.34 1785.84 1546.44 Q1782.37 1549.52 1776.05 1549.52 Q1773.87 1549.52 1771.61 1549.15 Q1769.36 1548.78 1766.95 1548.04 L1766.95 1543.34 Q1769.04 1544.47 1771.26 1545.03 Q1773.48 1545.58 1775.96 1545.58 Q1779.96 1545.58 1782.3 1543.48 Q1784.64 1541.37 1784.64 1537.76 Q1784.64 1534.15 1782.3 1532.04 Q1779.96 1529.94 1775.96 1529.94 Q1774.08 1529.94 1772.21 1530.35 Q1770.36 1530.77 1768.41 1531.65 L1768.41 1514.29 Z\" fill=\"#000000\" fill-rule=\"evenodd\" fill-opacity=\"1\" /><path clip-path=\"url(#clip860)\" d=\"M2249.76 1544.91 L2257.4 1544.91 L2257.4 1518.55 L2249.09 1520.21 L2249.09 1515.95 L2257.35 1514.29 L2262.03 1514.29 L2262.03 1544.91 L2269.66 1544.91 L2269.66 1548.85 L2249.76 1548.85 L2249.76 1544.91 Z\" fill=\"#000000\" fill-rule=\"evenodd\" fill-opacity=\"1\" /><path clip-path=\"url(#clip860)\" d=\"M2289.11 1517.37 Q2285.5 1517.37 2283.67 1520.93 Q2281.86 1524.47 2281.86 1531.6 Q2281.86 1538.71 2283.67 1542.27 Q2285.5 1545.82 2289.11 1545.82 Q2292.74 1545.82 2294.55 1542.27 Q2296.38 1538.71 2296.38 1531.6 Q2296.38 1524.47 2294.55 1520.93 Q2292.74 1517.37 2289.11 1517.37 M2289.11 1513.66 Q2294.92 1513.66 2297.97 1518.27 Q2301.05 1522.85 2301.05 1531.6 Q2301.05 1540.33 2297.97 1544.94 Q2294.92 1549.52 2289.11 1549.52 Q2283.3 1549.52 2280.22 1544.94 Q2277.16 1540.33 2277.16 1531.6 Q2277.16 1522.85 2280.22 1518.27 Q2283.3 1513.66 2289.11 1513.66 Z\" fill=\"#000000\" fill-rule=\"evenodd\" fill-opacity=\"1\" /><path clip-path=\"url(#clip860)\" d=\"M2319.27 1517.37 Q2315.66 1517.37 2313.83 1520.93 Q2312.03 1524.47 2312.03 1531.6 Q2312.03 1538.71 2313.83 1542.27 Q2315.66 1545.82 2319.27 1545.82 Q2322.9 1545.82 2324.71 1542.27 Q2326.54 1538.71 2326.54 1531.6 Q2326.54 1524.47 2324.71 1520.93 Q2322.9 1517.37 2319.27 1517.37 M2319.27 1513.66 Q2325.08 1513.66 2328.14 1518.27 Q2331.22 1522.85 2331.22 1531.6 Q2331.22 1540.33 2328.14 1544.94 Q2325.08 1549.52 2319.27 1549.52 Q2313.46 1549.52 2310.38 1544.94 Q2307.33 1540.33 2307.33 1531.6 Q2307.33 1522.85 2310.38 1518.27 Q2313.46 1513.66 2319.27 1513.66 Z\" fill=\"#000000\" fill-rule=\"evenodd\" fill-opacity=\"1\" /><polyline clip-path=\"url(#clip862)\" style=\"stroke:#000000; stroke-linecap:butt; stroke-linejoin:round; stroke-width:2; stroke-opacity:0.1; fill:none\" points=\"\n",
       "  140.696,1445.72 2352.76,1445.72 \n",
       "  \"/>\n",
       "<polyline clip-path=\"url(#clip862)\" style=\"stroke:#000000; stroke-linecap:butt; stroke-linejoin:round; stroke-width:2; stroke-opacity:0.1; fill:none\" points=\"\n",
       "  140.696,1106.28 2352.76,1106.28 \n",
       "  \"/>\n",
       "<polyline clip-path=\"url(#clip862)\" style=\"stroke:#000000; stroke-linecap:butt; stroke-linejoin:round; stroke-width:2; stroke-opacity:0.1; fill:none\" points=\"\n",
       "  140.696,766.846 2352.76,766.846 \n",
       "  \"/>\n",
       "<polyline clip-path=\"url(#clip862)\" style=\"stroke:#000000; stroke-linecap:butt; stroke-linejoin:round; stroke-width:2; stroke-opacity:0.1; fill:none\" points=\"\n",
       "  140.696,427.411 2352.76,427.411 \n",
       "  \"/>\n",
       "<polyline clip-path=\"url(#clip862)\" style=\"stroke:#000000; stroke-linecap:butt; stroke-linejoin:round; stroke-width:2; stroke-opacity:0.1; fill:none\" points=\"\n",
       "  140.696,87.9763 2352.76,87.9763 \n",
       "  \"/>\n",
       "<polyline clip-path=\"url(#clip860)\" style=\"stroke:#000000; stroke-linecap:butt; stroke-linejoin:round; stroke-width:4; stroke-opacity:1; fill:none\" points=\"\n",
       "  140.696,1486.45 140.696,47.2441 \n",
       "  \"/>\n",
       "<polyline clip-path=\"url(#clip860)\" style=\"stroke:#000000; stroke-linecap:butt; stroke-linejoin:round; stroke-width:4; stroke-opacity:1; fill:none\" points=\"\n",
       "  140.696,1445.72 159.593,1445.72 \n",
       "  \"/>\n",
       "<polyline clip-path=\"url(#clip860)\" style=\"stroke:#000000; stroke-linecap:butt; stroke-linejoin:round; stroke-width:4; stroke-opacity:1; fill:none\" points=\"\n",
       "  140.696,1106.28 159.593,1106.28 \n",
       "  \"/>\n",
       "<polyline clip-path=\"url(#clip860)\" style=\"stroke:#000000; stroke-linecap:butt; stroke-linejoin:round; stroke-width:4; stroke-opacity:1; fill:none\" points=\"\n",
       "  140.696,766.846 159.593,766.846 \n",
       "  \"/>\n",
       "<polyline clip-path=\"url(#clip860)\" style=\"stroke:#000000; stroke-linecap:butt; stroke-linejoin:round; stroke-width:4; stroke-opacity:1; fill:none\" points=\"\n",
       "  140.696,427.411 159.593,427.411 \n",
       "  \"/>\n",
       "<polyline clip-path=\"url(#clip860)\" style=\"stroke:#000000; stroke-linecap:butt; stroke-linejoin:round; stroke-width:4; stroke-opacity:1; fill:none\" points=\"\n",
       "  140.696,87.9763 159.593,87.9763 \n",
       "  \"/>\n",
       "<path clip-path=\"url(#clip860)\" d=\"M92.7512 1431.51 Q89.1401 1431.51 87.3114 1435.08 Q85.5058 1438.62 85.5058 1445.75 Q85.5058 1452.86 87.3114 1456.42 Q89.1401 1459.96 92.7512 1459.96 Q96.3854 1459.96 98.1909 1456.42 Q100.02 1452.86 100.02 1445.75 Q100.02 1438.62 98.1909 1435.08 Q96.3854 1431.51 92.7512 1431.51 M92.7512 1427.81 Q98.5613 1427.81 101.617 1432.42 Q104.696 1437 104.696 1445.75 Q104.696 1454.48 101.617 1459.08 Q98.5613 1463.67 92.7512 1463.67 Q86.941 1463.67 83.8623 1459.08 Q80.8068 1454.48 80.8068 1445.75 Q80.8068 1437 83.8623 1432.42 Q86.941 1427.81 92.7512 1427.81 Z\" fill=\"#000000\" fill-rule=\"evenodd\" fill-opacity=\"1\" /><path clip-path=\"url(#clip860)\" d=\"M83.7929 1089 L102.149 1089 L102.149 1092.94 L88.0753 1092.94 L88.0753 1101.41 Q89.0938 1101.06 90.1123 1100.9 Q91.1308 1100.71 92.1493 1100.71 Q97.9363 1100.71 101.316 1103.89 Q104.696 1107.06 104.696 1112.47 Q104.696 1118.05 101.223 1121.15 Q97.7511 1124.23 91.4317 1124.23 Q89.2558 1124.23 86.9873 1123.86 Q84.7419 1123.49 82.3346 1122.75 L82.3346 1118.05 Q84.4179 1119.19 86.6401 1119.74 Q88.8623 1120.3 91.3391 1120.3 Q95.3437 1120.3 97.6817 1118.19 Q100.02 1116.08 100.02 1112.47 Q100.02 1108.86 97.6817 1106.76 Q95.3437 1104.65 91.3391 1104.65 Q89.4641 1104.65 87.5892 1105.07 Q85.7373 1105.48 83.7929 1106.36 L83.7929 1089 Z\" fill=\"#000000\" fill-rule=\"evenodd\" fill-opacity=\"1\" /><path clip-path=\"url(#clip860)\" d=\"M53.3995 780.191 L61.0384 780.191 L61.0384 753.825 L52.7282 755.492 L52.7282 751.233 L60.9921 749.566 L65.668 749.566 L65.668 780.191 L73.3068 780.191 L73.3068 784.126 L53.3995 784.126 L53.3995 780.191 Z\" fill=\"#000000\" fill-rule=\"evenodd\" fill-opacity=\"1\" /><path clip-path=\"url(#clip860)\" d=\"M92.7512 752.645 Q89.1401 752.645 87.3114 756.209 Q85.5058 759.751 85.5058 766.881 Q85.5058 773.987 87.3114 777.552 Q89.1401 781.094 92.7512 781.094 Q96.3854 781.094 98.1909 777.552 Q100.02 773.987 100.02 766.881 Q100.02 759.751 98.1909 756.209 Q96.3854 752.645 92.7512 752.645 M92.7512 748.941 Q98.5613 748.941 101.617 753.547 Q104.696 758.131 104.696 766.881 Q104.696 775.608 101.617 780.214 Q98.5613 784.797 92.7512 784.797 Q86.941 784.797 83.8623 780.214 Q80.8068 775.608 80.8068 766.881 Q80.8068 758.131 83.8623 753.547 Q86.941 748.941 92.7512 748.941 Z\" fill=\"#000000\" fill-rule=\"evenodd\" fill-opacity=\"1\" /><path clip-path=\"url(#clip860)\" d=\"M54.3949 440.756 L62.0337 440.756 L62.0337 414.39 L53.7236 416.057 L53.7236 411.798 L61.9874 410.131 L66.6633 410.131 L66.6633 440.756 L74.3022 440.756 L74.3022 444.691 L54.3949 444.691 L54.3949 440.756 Z\" fill=\"#000000\" fill-rule=\"evenodd\" fill-opacity=\"1\" /><path clip-path=\"url(#clip860)\" d=\"M83.7929 410.131 L102.149 410.131 L102.149 414.066 L88.0753 414.066 L88.0753 422.538 Q89.0938 422.191 90.1123 422.029 Q91.1308 421.844 92.1493 421.844 Q97.9363 421.844 101.316 425.015 Q104.696 428.187 104.696 433.603 Q104.696 439.182 101.223 442.284 Q97.7511 445.362 91.4317 445.362 Q89.2558 445.362 86.9873 444.992 Q84.7419 444.622 82.3346 443.881 L82.3346 439.182 Q84.4179 440.316 86.6401 440.872 Q88.8623 441.427 91.3391 441.427 Q95.3437 441.427 97.6817 439.321 Q100.02 437.214 100.02 433.603 Q100.02 429.992 97.6817 427.886 Q95.3437 425.779 91.3391 425.779 Q89.4641 425.779 87.5892 426.196 Q85.7373 426.613 83.7929 427.492 L83.7929 410.131 Z\" fill=\"#000000\" fill-rule=\"evenodd\" fill-opacity=\"1\" /><path clip-path=\"url(#clip860)\" d=\"M56.6171 101.321 L72.9365 101.321 L72.9365 105.256 L50.9921 105.256 L50.9921 101.321 Q53.6541 98.5665 58.2375 93.9369 Q62.8439 89.2841 64.0245 87.9416 Q66.2698 85.4184 67.1494 83.6823 Q68.0522 81.9231 68.0522 80.2333 Q68.0522 77.4786 66.1078 75.7425 Q64.1865 74.0064 61.0847 74.0064 Q58.8856 74.0064 56.4319 74.7703 Q54.0014 75.5342 51.2236 77.0851 L51.2236 72.3629 Q54.0477 71.2287 56.5014 70.65 Q58.955 70.0713 60.9921 70.0713 Q66.3624 70.0713 69.5568 72.7565 Q72.7513 75.4416 72.7513 79.9323 Q72.7513 82.062 71.9411 83.9832 Q71.1541 85.8814 69.0476 88.474 Q68.4689 89.1453 65.367 92.3628 Q62.2652 95.5573 56.6171 101.321 Z\" fill=\"#000000\" fill-rule=\"evenodd\" fill-opacity=\"1\" /><path clip-path=\"url(#clip860)\" d=\"M92.7512 73.775 Q89.1401 73.775 87.3114 77.3398 Q85.5058 80.8814 85.5058 88.011 Q85.5058 95.1174 87.3114 98.6822 Q89.1401 102.224 92.7512 102.224 Q96.3854 102.224 98.1909 98.6822 Q100.02 95.1174 100.02 88.011 Q100.02 80.8814 98.1909 77.3398 Q96.3854 73.775 92.7512 73.775 M92.7512 70.0713 Q98.5613 70.0713 101.617 74.6777 Q104.696 79.261 104.696 88.011 Q104.696 96.7378 101.617 101.344 Q98.5613 105.928 92.7512 105.928 Q86.941 105.928 83.8623 101.344 Q80.8068 96.7378 80.8068 88.011 Q80.8068 79.261 83.8623 74.6777 Q86.941 70.0713 92.7512 70.0713 Z\" fill=\"#000000\" fill-rule=\"evenodd\" fill-opacity=\"1\" /><circle clip-path=\"url(#clip862)\" cx=\"203.301\" cy=\"1119.23\" r=\"14\" fill=\"#009af9\" fill-rule=\"evenodd\" fill-opacity=\"1\" stroke=\"#000000\" stroke-opacity=\"1\" stroke-width=\"3.2\"/>\n",
       "<circle clip-path=\"url(#clip862)\" cx=\"224.38\" cy=\"768.064\" r=\"14\" fill=\"#009af9\" fill-rule=\"evenodd\" fill-opacity=\"1\" stroke=\"#000000\" stroke-opacity=\"1\" stroke-width=\"3.2\"/>\n",
       "<circle clip-path=\"url(#clip862)\" cx=\"245.46\" cy=\"725.403\" r=\"14\" fill=\"#009af9\" fill-rule=\"evenodd\" fill-opacity=\"1\" stroke=\"#000000\" stroke-opacity=\"1\" stroke-width=\"3.2\"/>\n",
       "<circle clip-path=\"url(#clip862)\" cx=\"266.539\" cy=\"87.9763\" r=\"14\" fill=\"#009af9\" fill-rule=\"evenodd\" fill-opacity=\"1\" stroke=\"#000000\" stroke-opacity=\"1\" stroke-width=\"3.2\"/>\n",
       "<circle clip-path=\"url(#clip862)\" cx=\"287.618\" cy=\"850.809\" r=\"14\" fill=\"#009af9\" fill-rule=\"evenodd\" fill-opacity=\"1\" stroke=\"#000000\" stroke-opacity=\"1\" stroke-width=\"3.2\"/>\n",
       "<circle clip-path=\"url(#clip862)\" cx=\"308.697\" cy=\"294.714\" r=\"14\" fill=\"#009af9\" fill-rule=\"evenodd\" fill-opacity=\"1\" stroke=\"#000000\" stroke-opacity=\"1\" stroke-width=\"3.2\"/>\n",
       "<circle clip-path=\"url(#clip862)\" cx=\"329.777\" cy=\"87.9763\" r=\"14\" fill=\"#009af9\" fill-rule=\"evenodd\" fill-opacity=\"1\" stroke=\"#000000\" stroke-opacity=\"1\" stroke-width=\"3.2\"/>\n",
       "<circle clip-path=\"url(#clip862)\" cx=\"350.856\" cy=\"345.532\" r=\"14\" fill=\"#009af9\" fill-rule=\"evenodd\" fill-opacity=\"1\" stroke=\"#000000\" stroke-opacity=\"1\" stroke-width=\"3.2\"/>\n",
       "<circle clip-path=\"url(#clip862)\" cx=\"371.935\" cy=\"87.9763\" r=\"14\" fill=\"#009af9\" fill-rule=\"evenodd\" fill-opacity=\"1\" stroke=\"#000000\" stroke-opacity=\"1\" stroke-width=\"3.2\"/>\n",
       "<circle clip-path=\"url(#clip862)\" cx=\"393.015\" cy=\"87.9763\" r=\"14\" fill=\"#009af9\" fill-rule=\"evenodd\" fill-opacity=\"1\" stroke=\"#000000\" stroke-opacity=\"1\" stroke-width=\"3.2\"/>\n",
       "<circle clip-path=\"url(#clip862)\" cx=\"414.094\" cy=\"87.9763\" r=\"14\" fill=\"#009af9\" fill-rule=\"evenodd\" fill-opacity=\"1\" stroke=\"#000000\" stroke-opacity=\"1\" stroke-width=\"3.2\"/>\n",
       "<circle clip-path=\"url(#clip862)\" cx=\"435.173\" cy=\"130.944\" r=\"14\" fill=\"#009af9\" fill-rule=\"evenodd\" fill-opacity=\"1\" stroke=\"#000000\" stroke-opacity=\"1\" stroke-width=\"3.2\"/>\n",
       "<circle clip-path=\"url(#clip862)\" cx=\"456.252\" cy=\"703.558\" r=\"14\" fill=\"#009af9\" fill-rule=\"evenodd\" fill-opacity=\"1\" stroke=\"#000000\" stroke-opacity=\"1\" stroke-width=\"3.2\"/>\n",
       "<circle clip-path=\"url(#clip862)\" cx=\"477.332\" cy=\"672.607\" r=\"14\" fill=\"#009af9\" fill-rule=\"evenodd\" fill-opacity=\"1\" stroke=\"#000000\" stroke-opacity=\"1\" stroke-width=\"3.2\"/>\n",
       "<circle clip-path=\"url(#clip862)\" cx=\"498.411\" cy=\"87.9763\" r=\"14\" fill=\"#009af9\" fill-rule=\"evenodd\" fill-opacity=\"1\" stroke=\"#000000\" stroke-opacity=\"1\" stroke-width=\"3.2\"/>\n",
       "<circle clip-path=\"url(#clip862)\" cx=\"519.49\" cy=\"1060.49\" r=\"14\" fill=\"#009af9\" fill-rule=\"evenodd\" fill-opacity=\"1\" stroke=\"#000000\" stroke-opacity=\"1\" stroke-width=\"3.2\"/>\n",
       "<circle clip-path=\"url(#clip862)\" cx=\"540.57\" cy=\"793.75\" r=\"14\" fill=\"#009af9\" fill-rule=\"evenodd\" fill-opacity=\"1\" stroke=\"#000000\" stroke-opacity=\"1\" stroke-width=\"3.2\"/>\n",
       "<circle clip-path=\"url(#clip862)\" cx=\"561.649\" cy=\"800.785\" r=\"14\" fill=\"#009af9\" fill-rule=\"evenodd\" fill-opacity=\"1\" stroke=\"#000000\" stroke-opacity=\"1\" stroke-width=\"3.2\"/>\n",
       "<circle clip-path=\"url(#clip862)\" cx=\"582.728\" cy=\"1068.58\" r=\"14\" fill=\"#009af9\" fill-rule=\"evenodd\" fill-opacity=\"1\" stroke=\"#000000\" stroke-opacity=\"1\" stroke-width=\"3.2\"/>\n",
       "<circle clip-path=\"url(#clip862)\" cx=\"603.807\" cy=\"709.203\" r=\"14\" fill=\"#009af9\" fill-rule=\"evenodd\" fill-opacity=\"1\" stroke=\"#000000\" stroke-opacity=\"1\" stroke-width=\"3.2\"/>\n",
       "<circle clip-path=\"url(#clip862)\" cx=\"624.887\" cy=\"87.9763\" r=\"14\" fill=\"#009af9\" fill-rule=\"evenodd\" fill-opacity=\"1\" stroke=\"#000000\" stroke-opacity=\"1\" stroke-width=\"3.2\"/>\n",
       "<circle clip-path=\"url(#clip862)\" cx=\"645.966\" cy=\"1021.19\" r=\"14\" fill=\"#009af9\" fill-rule=\"evenodd\" fill-opacity=\"1\" stroke=\"#000000\" stroke-opacity=\"1\" stroke-width=\"3.2\"/>\n",
       "<circle clip-path=\"url(#clip862)\" cx=\"667.045\" cy=\"118.194\" r=\"14\" fill=\"#009af9\" fill-rule=\"evenodd\" fill-opacity=\"1\" stroke=\"#000000\" stroke-opacity=\"1\" stroke-width=\"3.2\"/>\n",
       "<circle clip-path=\"url(#clip862)\" cx=\"688.125\" cy=\"1445.72\" r=\"14\" fill=\"#009af9\" fill-rule=\"evenodd\" fill-opacity=\"1\" stroke=\"#000000\" stroke-opacity=\"1\" stroke-width=\"3.2\"/>\n",
       "<circle clip-path=\"url(#clip862)\" cx=\"709.204\" cy=\"552.128\" r=\"14\" fill=\"#009af9\" fill-rule=\"evenodd\" fill-opacity=\"1\" stroke=\"#000000\" stroke-opacity=\"1\" stroke-width=\"3.2\"/>\n",
       "<circle clip-path=\"url(#clip862)\" cx=\"730.283\" cy=\"641.549\" r=\"14\" fill=\"#009af9\" fill-rule=\"evenodd\" fill-opacity=\"1\" stroke=\"#000000\" stroke-opacity=\"1\" stroke-width=\"3.2\"/>\n",
       "<circle clip-path=\"url(#clip862)\" cx=\"751.362\" cy=\"87.9763\" r=\"14\" fill=\"#009af9\" fill-rule=\"evenodd\" fill-opacity=\"1\" stroke=\"#000000\" stroke-opacity=\"1\" stroke-width=\"3.2\"/>\n",
       "<circle clip-path=\"url(#clip862)\" cx=\"772.442\" cy=\"87.9763\" r=\"14\" fill=\"#009af9\" fill-rule=\"evenodd\" fill-opacity=\"1\" stroke=\"#000000\" stroke-opacity=\"1\" stroke-width=\"3.2\"/>\n",
       "<circle clip-path=\"url(#clip862)\" cx=\"793.521\" cy=\"948.185\" r=\"14\" fill=\"#009af9\" fill-rule=\"evenodd\" fill-opacity=\"1\" stroke=\"#000000\" stroke-opacity=\"1\" stroke-width=\"3.2\"/>\n",
       "<circle clip-path=\"url(#clip862)\" cx=\"814.6\" cy=\"87.9763\" r=\"14\" fill=\"#009af9\" fill-rule=\"evenodd\" fill-opacity=\"1\" stroke=\"#000000\" stroke-opacity=\"1\" stroke-width=\"3.2\"/>\n",
       "<circle clip-path=\"url(#clip862)\" cx=\"835.68\" cy=\"87.9763\" r=\"14\" fill=\"#009af9\" fill-rule=\"evenodd\" fill-opacity=\"1\" stroke=\"#000000\" stroke-opacity=\"1\" stroke-width=\"3.2\"/>\n",
       "<circle clip-path=\"url(#clip862)\" cx=\"856.759\" cy=\"1112.13\" r=\"14\" fill=\"#009af9\" fill-rule=\"evenodd\" fill-opacity=\"1\" stroke=\"#000000\" stroke-opacity=\"1\" stroke-width=\"3.2\"/>\n",
       "<circle clip-path=\"url(#clip862)\" cx=\"877.838\" cy=\"206.259\" r=\"14\" fill=\"#009af9\" fill-rule=\"evenodd\" fill-opacity=\"1\" stroke=\"#000000\" stroke-opacity=\"1\" stroke-width=\"3.2\"/>\n",
       "<circle clip-path=\"url(#clip862)\" cx=\"898.917\" cy=\"938.038\" r=\"14\" fill=\"#009af9\" fill-rule=\"evenodd\" fill-opacity=\"1\" stroke=\"#000000\" stroke-opacity=\"1\" stroke-width=\"3.2\"/>\n",
       "<circle clip-path=\"url(#clip862)\" cx=\"919.997\" cy=\"1028.66\" r=\"14\" fill=\"#009af9\" fill-rule=\"evenodd\" fill-opacity=\"1\" stroke=\"#000000\" stroke-opacity=\"1\" stroke-width=\"3.2\"/>\n",
       "<circle clip-path=\"url(#clip862)\" cx=\"941.076\" cy=\"87.9763\" r=\"14\" fill=\"#009af9\" fill-rule=\"evenodd\" fill-opacity=\"1\" stroke=\"#000000\" stroke-opacity=\"1\" stroke-width=\"3.2\"/>\n",
       "<circle clip-path=\"url(#clip862)\" cx=\"962.155\" cy=\"87.9763\" r=\"14\" fill=\"#009af9\" fill-rule=\"evenodd\" fill-opacity=\"1\" stroke=\"#000000\" stroke-opacity=\"1\" stroke-width=\"3.2\"/>\n",
       "<circle clip-path=\"url(#clip862)\" cx=\"983.235\" cy=\"87.9763\" r=\"14\" fill=\"#009af9\" fill-rule=\"evenodd\" fill-opacity=\"1\" stroke=\"#000000\" stroke-opacity=\"1\" stroke-width=\"3.2\"/>\n",
       "<circle clip-path=\"url(#clip862)\" cx=\"1004.31\" cy=\"752.986\" r=\"14\" fill=\"#009af9\" fill-rule=\"evenodd\" fill-opacity=\"1\" stroke=\"#000000\" stroke-opacity=\"1\" stroke-width=\"3.2\"/>\n",
       "<circle clip-path=\"url(#clip862)\" cx=\"1025.39\" cy=\"87.9763\" r=\"14\" fill=\"#009af9\" fill-rule=\"evenodd\" fill-opacity=\"1\" stroke=\"#000000\" stroke-opacity=\"1\" stroke-width=\"3.2\"/>\n",
       "<circle clip-path=\"url(#clip862)\" cx=\"1046.47\" cy=\"87.9763\" r=\"14\" fill=\"#009af9\" fill-rule=\"evenodd\" fill-opacity=\"1\" stroke=\"#000000\" stroke-opacity=\"1\" stroke-width=\"3.2\"/>\n",
       "<circle clip-path=\"url(#clip862)\" cx=\"1067.55\" cy=\"345.625\" r=\"14\" fill=\"#009af9\" fill-rule=\"evenodd\" fill-opacity=\"1\" stroke=\"#000000\" stroke-opacity=\"1\" stroke-width=\"3.2\"/>\n",
       "<circle clip-path=\"url(#clip862)\" cx=\"1088.63\" cy=\"119.338\" r=\"14\" fill=\"#009af9\" fill-rule=\"evenodd\" fill-opacity=\"1\" stroke=\"#000000\" stroke-opacity=\"1\" stroke-width=\"3.2\"/>\n",
       "<circle clip-path=\"url(#clip862)\" cx=\"1109.71\" cy=\"199.101\" r=\"14\" fill=\"#009af9\" fill-rule=\"evenodd\" fill-opacity=\"1\" stroke=\"#000000\" stroke-opacity=\"1\" stroke-width=\"3.2\"/>\n",
       "<circle clip-path=\"url(#clip862)\" cx=\"1130.79\" cy=\"637.424\" r=\"14\" fill=\"#009af9\" fill-rule=\"evenodd\" fill-opacity=\"1\" stroke=\"#000000\" stroke-opacity=\"1\" stroke-width=\"3.2\"/>\n",
       "<circle clip-path=\"url(#clip862)\" cx=\"1151.87\" cy=\"575.335\" r=\"14\" fill=\"#009af9\" fill-rule=\"evenodd\" fill-opacity=\"1\" stroke=\"#000000\" stroke-opacity=\"1\" stroke-width=\"3.2\"/>\n",
       "<circle clip-path=\"url(#clip862)\" cx=\"1172.95\" cy=\"802.431\" r=\"14\" fill=\"#009af9\" fill-rule=\"evenodd\" fill-opacity=\"1\" stroke=\"#000000\" stroke-opacity=\"1\" stroke-width=\"3.2\"/>\n",
       "<circle clip-path=\"url(#clip862)\" cx=\"1194.03\" cy=\"771.317\" r=\"14\" fill=\"#009af9\" fill-rule=\"evenodd\" fill-opacity=\"1\" stroke=\"#000000\" stroke-opacity=\"1\" stroke-width=\"3.2\"/>\n",
       "<circle clip-path=\"url(#clip862)\" cx=\"1215.11\" cy=\"689.668\" r=\"14\" fill=\"#009af9\" fill-rule=\"evenodd\" fill-opacity=\"1\" stroke=\"#000000\" stroke-opacity=\"1\" stroke-width=\"3.2\"/>\n",
       "<circle clip-path=\"url(#clip862)\" cx=\"1236.19\" cy=\"87.9763\" r=\"14\" fill=\"#009af9\" fill-rule=\"evenodd\" fill-opacity=\"1\" stroke=\"#000000\" stroke-opacity=\"1\" stroke-width=\"3.2\"/>\n",
       "<circle clip-path=\"url(#clip862)\" cx=\"1257.27\" cy=\"728.303\" r=\"14\" fill=\"#009af9\" fill-rule=\"evenodd\" fill-opacity=\"1\" stroke=\"#000000\" stroke-opacity=\"1\" stroke-width=\"3.2\"/>\n",
       "<circle clip-path=\"url(#clip862)\" cx=\"1278.34\" cy=\"87.9763\" r=\"14\" fill=\"#009af9\" fill-rule=\"evenodd\" fill-opacity=\"1\" stroke=\"#000000\" stroke-opacity=\"1\" stroke-width=\"3.2\"/>\n",
       "<circle clip-path=\"url(#clip862)\" cx=\"1299.42\" cy=\"610.575\" r=\"14\" fill=\"#009af9\" fill-rule=\"evenodd\" fill-opacity=\"1\" stroke=\"#000000\" stroke-opacity=\"1\" stroke-width=\"3.2\"/>\n",
       "<circle clip-path=\"url(#clip862)\" cx=\"1320.5\" cy=\"87.9763\" r=\"14\" fill=\"#009af9\" fill-rule=\"evenodd\" fill-opacity=\"1\" stroke=\"#000000\" stroke-opacity=\"1\" stroke-width=\"3.2\"/>\n",
       "<circle clip-path=\"url(#clip862)\" cx=\"1341.58\" cy=\"87.9763\" r=\"14\" fill=\"#009af9\" fill-rule=\"evenodd\" fill-opacity=\"1\" stroke=\"#000000\" stroke-opacity=\"1\" stroke-width=\"3.2\"/>\n",
       "<circle clip-path=\"url(#clip862)\" cx=\"1362.66\" cy=\"87.9763\" r=\"14\" fill=\"#009af9\" fill-rule=\"evenodd\" fill-opacity=\"1\" stroke=\"#000000\" stroke-opacity=\"1\" stroke-width=\"3.2\"/>\n",
       "<circle clip-path=\"url(#clip862)\" cx=\"1383.74\" cy=\"1221.86\" r=\"14\" fill=\"#009af9\" fill-rule=\"evenodd\" fill-opacity=\"1\" stroke=\"#000000\" stroke-opacity=\"1\" stroke-width=\"3.2\"/>\n",
       "<circle clip-path=\"url(#clip862)\" cx=\"1404.82\" cy=\"87.9763\" r=\"14\" fill=\"#009af9\" fill-rule=\"evenodd\" fill-opacity=\"1\" stroke=\"#000000\" stroke-opacity=\"1\" stroke-width=\"3.2\"/>\n",
       "<circle clip-path=\"url(#clip862)\" cx=\"1425.9\" cy=\"87.9763\" r=\"14\" fill=\"#009af9\" fill-rule=\"evenodd\" fill-opacity=\"1\" stroke=\"#000000\" stroke-opacity=\"1\" stroke-width=\"3.2\"/>\n",
       "<circle clip-path=\"url(#clip862)\" cx=\"1446.98\" cy=\"858.227\" r=\"14\" fill=\"#009af9\" fill-rule=\"evenodd\" fill-opacity=\"1\" stroke=\"#000000\" stroke-opacity=\"1\" stroke-width=\"3.2\"/>\n",
       "<circle clip-path=\"url(#clip862)\" cx=\"1468.06\" cy=\"87.9763\" r=\"14\" fill=\"#009af9\" fill-rule=\"evenodd\" fill-opacity=\"1\" stroke=\"#000000\" stroke-opacity=\"1\" stroke-width=\"3.2\"/>\n",
       "<circle clip-path=\"url(#clip862)\" cx=\"1489.14\" cy=\"87.9763\" r=\"14\" fill=\"#009af9\" fill-rule=\"evenodd\" fill-opacity=\"1\" stroke=\"#000000\" stroke-opacity=\"1\" stroke-width=\"3.2\"/>\n",
       "<circle clip-path=\"url(#clip862)\" cx=\"1510.22\" cy=\"87.9763\" r=\"14\" fill=\"#009af9\" fill-rule=\"evenodd\" fill-opacity=\"1\" stroke=\"#000000\" stroke-opacity=\"1\" stroke-width=\"3.2\"/>\n",
       "<circle clip-path=\"url(#clip862)\" cx=\"1531.3\" cy=\"87.9763\" r=\"14\" fill=\"#009af9\" fill-rule=\"evenodd\" fill-opacity=\"1\" stroke=\"#000000\" stroke-opacity=\"1\" stroke-width=\"3.2\"/>\n",
       "<circle clip-path=\"url(#clip862)\" cx=\"1552.38\" cy=\"669.509\" r=\"14\" fill=\"#009af9\" fill-rule=\"evenodd\" fill-opacity=\"1\" stroke=\"#000000\" stroke-opacity=\"1\" stroke-width=\"3.2\"/>\n",
       "<circle clip-path=\"url(#clip862)\" cx=\"1573.45\" cy=\"1116.46\" r=\"14\" fill=\"#009af9\" fill-rule=\"evenodd\" fill-opacity=\"1\" stroke=\"#000000\" stroke-opacity=\"1\" stroke-width=\"3.2\"/>\n",
       "<circle clip-path=\"url(#clip862)\" cx=\"1594.53\" cy=\"131.261\" r=\"14\" fill=\"#009af9\" fill-rule=\"evenodd\" fill-opacity=\"1\" stroke=\"#000000\" stroke-opacity=\"1\" stroke-width=\"3.2\"/>\n",
       "<circle clip-path=\"url(#clip862)\" cx=\"1615.61\" cy=\"87.9763\" r=\"14\" fill=\"#009af9\" fill-rule=\"evenodd\" fill-opacity=\"1\" stroke=\"#000000\" stroke-opacity=\"1\" stroke-width=\"3.2\"/>\n",
       "<circle clip-path=\"url(#clip862)\" cx=\"1636.69\" cy=\"87.9763\" r=\"14\" fill=\"#009af9\" fill-rule=\"evenodd\" fill-opacity=\"1\" stroke=\"#000000\" stroke-opacity=\"1\" stroke-width=\"3.2\"/>\n",
       "<circle clip-path=\"url(#clip862)\" cx=\"1657.77\" cy=\"173.626\" r=\"14\" fill=\"#009af9\" fill-rule=\"evenodd\" fill-opacity=\"1\" stroke=\"#000000\" stroke-opacity=\"1\" stroke-width=\"3.2\"/>\n",
       "<circle clip-path=\"url(#clip862)\" cx=\"1678.85\" cy=\"1208.76\" r=\"14\" fill=\"#009af9\" fill-rule=\"evenodd\" fill-opacity=\"1\" stroke=\"#000000\" stroke-opacity=\"1\" stroke-width=\"3.2\"/>\n",
       "<circle clip-path=\"url(#clip862)\" cx=\"1699.93\" cy=\"87.9763\" r=\"14\" fill=\"#009af9\" fill-rule=\"evenodd\" fill-opacity=\"1\" stroke=\"#000000\" stroke-opacity=\"1\" stroke-width=\"3.2\"/>\n",
       "<circle clip-path=\"url(#clip862)\" cx=\"1721.01\" cy=\"1165.52\" r=\"14\" fill=\"#009af9\" fill-rule=\"evenodd\" fill-opacity=\"1\" stroke=\"#000000\" stroke-opacity=\"1\" stroke-width=\"3.2\"/>\n",
       "<circle clip-path=\"url(#clip862)\" cx=\"1742.09\" cy=\"603.262\" r=\"14\" fill=\"#009af9\" fill-rule=\"evenodd\" fill-opacity=\"1\" stroke=\"#000000\" stroke-opacity=\"1\" stroke-width=\"3.2\"/>\n",
       "<circle clip-path=\"url(#clip862)\" cx=\"1763.17\" cy=\"87.9763\" r=\"14\" fill=\"#009af9\" fill-rule=\"evenodd\" fill-opacity=\"1\" stroke=\"#000000\" stroke-opacity=\"1\" stroke-width=\"3.2\"/>\n",
       "<circle clip-path=\"url(#clip862)\" cx=\"1784.25\" cy=\"665.768\" r=\"14\" fill=\"#009af9\" fill-rule=\"evenodd\" fill-opacity=\"1\" stroke=\"#000000\" stroke-opacity=\"1\" stroke-width=\"3.2\"/>\n",
       "<circle clip-path=\"url(#clip862)\" cx=\"1805.33\" cy=\"87.9763\" r=\"14\" fill=\"#009af9\" fill-rule=\"evenodd\" fill-opacity=\"1\" stroke=\"#000000\" stroke-opacity=\"1\" stroke-width=\"3.2\"/>\n",
       "<circle clip-path=\"url(#clip862)\" cx=\"1826.41\" cy=\"890.712\" r=\"14\" fill=\"#009af9\" fill-rule=\"evenodd\" fill-opacity=\"1\" stroke=\"#000000\" stroke-opacity=\"1\" stroke-width=\"3.2\"/>\n",
       "<circle clip-path=\"url(#clip862)\" cx=\"1847.49\" cy=\"311.202\" r=\"14\" fill=\"#009af9\" fill-rule=\"evenodd\" fill-opacity=\"1\" stroke=\"#000000\" stroke-opacity=\"1\" stroke-width=\"3.2\"/>\n",
       "<circle clip-path=\"url(#clip862)\" cx=\"1868.56\" cy=\"253.128\" r=\"14\" fill=\"#009af9\" fill-rule=\"evenodd\" fill-opacity=\"1\" stroke=\"#000000\" stroke-opacity=\"1\" stroke-width=\"3.2\"/>\n",
       "<circle clip-path=\"url(#clip862)\" cx=\"1889.64\" cy=\"87.9763\" r=\"14\" fill=\"#009af9\" fill-rule=\"evenodd\" fill-opacity=\"1\" stroke=\"#000000\" stroke-opacity=\"1\" stroke-width=\"3.2\"/>\n",
       "<circle clip-path=\"url(#clip862)\" cx=\"1910.72\" cy=\"1027.95\" r=\"14\" fill=\"#009af9\" fill-rule=\"evenodd\" fill-opacity=\"1\" stroke=\"#000000\" stroke-opacity=\"1\" stroke-width=\"3.2\"/>\n",
       "<circle clip-path=\"url(#clip862)\" cx=\"1931.8\" cy=\"1020.05\" r=\"14\" fill=\"#009af9\" fill-rule=\"evenodd\" fill-opacity=\"1\" stroke=\"#000000\" stroke-opacity=\"1\" stroke-width=\"3.2\"/>\n",
       "<circle clip-path=\"url(#clip862)\" cx=\"1952.88\" cy=\"87.9763\" r=\"14\" fill=\"#009af9\" fill-rule=\"evenodd\" fill-opacity=\"1\" stroke=\"#000000\" stroke-opacity=\"1\" stroke-width=\"3.2\"/>\n",
       "<circle clip-path=\"url(#clip862)\" cx=\"1973.96\" cy=\"932.53\" r=\"14\" fill=\"#009af9\" fill-rule=\"evenodd\" fill-opacity=\"1\" stroke=\"#000000\" stroke-opacity=\"1\" stroke-width=\"3.2\"/>\n",
       "<circle clip-path=\"url(#clip862)\" cx=\"1995.04\" cy=\"456.797\" r=\"14\" fill=\"#009af9\" fill-rule=\"evenodd\" fill-opacity=\"1\" stroke=\"#000000\" stroke-opacity=\"1\" stroke-width=\"3.2\"/>\n",
       "<circle clip-path=\"url(#clip862)\" cx=\"2016.12\" cy=\"87.9763\" r=\"14\" fill=\"#009af9\" fill-rule=\"evenodd\" fill-opacity=\"1\" stroke=\"#000000\" stroke-opacity=\"1\" stroke-width=\"3.2\"/>\n",
       "<circle clip-path=\"url(#clip862)\" cx=\"2037.2\" cy=\"836.093\" r=\"14\" fill=\"#009af9\" fill-rule=\"evenodd\" fill-opacity=\"1\" stroke=\"#000000\" stroke-opacity=\"1\" stroke-width=\"3.2\"/>\n",
       "<circle clip-path=\"url(#clip862)\" cx=\"2058.28\" cy=\"937.557\" r=\"14\" fill=\"#009af9\" fill-rule=\"evenodd\" fill-opacity=\"1\" stroke=\"#000000\" stroke-opacity=\"1\" stroke-width=\"3.2\"/>\n",
       "<circle clip-path=\"url(#clip862)\" cx=\"2079.36\" cy=\"531.457\" r=\"14\" fill=\"#009af9\" fill-rule=\"evenodd\" fill-opacity=\"1\" stroke=\"#000000\" stroke-opacity=\"1\" stroke-width=\"3.2\"/>\n",
       "<circle clip-path=\"url(#clip862)\" cx=\"2100.44\" cy=\"161.495\" r=\"14\" fill=\"#009af9\" fill-rule=\"evenodd\" fill-opacity=\"1\" stroke=\"#000000\" stroke-opacity=\"1\" stroke-width=\"3.2\"/>\n",
       "<circle clip-path=\"url(#clip862)\" cx=\"2121.52\" cy=\"715.91\" r=\"14\" fill=\"#009af9\" fill-rule=\"evenodd\" fill-opacity=\"1\" stroke=\"#000000\" stroke-opacity=\"1\" stroke-width=\"3.2\"/>\n",
       "<circle clip-path=\"url(#clip862)\" cx=\"2142.6\" cy=\"87.9763\" r=\"14\" fill=\"#009af9\" fill-rule=\"evenodd\" fill-opacity=\"1\" stroke=\"#000000\" stroke-opacity=\"1\" stroke-width=\"3.2\"/>\n",
       "<circle clip-path=\"url(#clip862)\" cx=\"2163.67\" cy=\"826.571\" r=\"14\" fill=\"#009af9\" fill-rule=\"evenodd\" fill-opacity=\"1\" stroke=\"#000000\" stroke-opacity=\"1\" stroke-width=\"3.2\"/>\n",
       "<circle clip-path=\"url(#clip862)\" cx=\"2184.75\" cy=\"87.9763\" r=\"14\" fill=\"#009af9\" fill-rule=\"evenodd\" fill-opacity=\"1\" stroke=\"#000000\" stroke-opacity=\"1\" stroke-width=\"3.2\"/>\n",
       "<circle clip-path=\"url(#clip862)\" cx=\"2205.83\" cy=\"87.9763\" r=\"14\" fill=\"#009af9\" fill-rule=\"evenodd\" fill-opacity=\"1\" stroke=\"#000000\" stroke-opacity=\"1\" stroke-width=\"3.2\"/>\n",
       "<circle clip-path=\"url(#clip862)\" cx=\"2226.91\" cy=\"481.009\" r=\"14\" fill=\"#009af9\" fill-rule=\"evenodd\" fill-opacity=\"1\" stroke=\"#000000\" stroke-opacity=\"1\" stroke-width=\"3.2\"/>\n",
       "<circle clip-path=\"url(#clip862)\" cx=\"2247.99\" cy=\"901.185\" r=\"14\" fill=\"#009af9\" fill-rule=\"evenodd\" fill-opacity=\"1\" stroke=\"#000000\" stroke-opacity=\"1\" stroke-width=\"3.2\"/>\n",
       "<circle clip-path=\"url(#clip862)\" cx=\"2269.07\" cy=\"980.107\" r=\"14\" fill=\"#009af9\" fill-rule=\"evenodd\" fill-opacity=\"1\" stroke=\"#000000\" stroke-opacity=\"1\" stroke-width=\"3.2\"/>\n",
       "<circle clip-path=\"url(#clip862)\" cx=\"2290.15\" cy=\"324.704\" r=\"14\" fill=\"#009af9\" fill-rule=\"evenodd\" fill-opacity=\"1\" stroke=\"#000000\" stroke-opacity=\"1\" stroke-width=\"3.2\"/>\n",
       "<path clip-path=\"url(#clip860)\" d=\"\n",
       "M1980.81 198.898 L2279.02 198.898 L2279.02 95.2176 L1980.81 95.2176  Z\n",
       "  \" fill=\"#ffffff\" fill-rule=\"evenodd\" fill-opacity=\"1\"/>\n",
       "<polyline clip-path=\"url(#clip860)\" style=\"stroke:#000000; stroke-linecap:butt; stroke-linejoin:round; stroke-width:4; stroke-opacity:1; fill:none\" points=\"\n",
       "  1980.81,198.898 2279.02,198.898 2279.02,95.2176 1980.81,95.2176 1980.81,198.898 \n",
       "  \"/>\n",
       "<circle clip-path=\"url(#clip860)\" cx=\"2079.12\" cy=\"147.058\" r=\"23\" fill=\"#009af9\" fill-rule=\"evenodd\" fill-opacity=\"1\" stroke=\"#000000\" stroke-opacity=\"1\" stroke-width=\"5.12\"/>\n",
       "<path clip-path=\"url(#clip860)\" d=\"M2191.28 166.745 Q2189.47 171.375 2187.76 172.787 Q2186.04 174.199 2183.17 174.199 L2179.77 174.199 L2179.77 170.634 L2182.27 170.634 Q2184.03 170.634 2185 169.8 Q2185.98 168.967 2187.16 165.865 L2187.92 163.921 L2177.43 138.412 L2181.95 138.412 L2190.05 158.689 L2198.15 138.412 L2202.66 138.412 L2191.28 166.745 Z\" fill=\"#000000\" fill-rule=\"evenodd\" fill-opacity=\"1\" /><path clip-path=\"url(#clip860)\" d=\"M2209.96 160.402 L2217.6 160.402 L2217.6 134.037 L2209.29 135.703 L2209.29 131.444 L2217.55 129.778 L2222.22 129.778 L2222.22 160.402 L2229.86 160.402 L2229.86 164.338 L2209.96 164.338 L2209.96 160.402 Z\" fill=\"#000000\" fill-rule=\"evenodd\" fill-opacity=\"1\" /></svg>\n"
      ]
     },
     "execution_count": 7,
     "metadata": {},
     "output_type": "execute_result"
    }
   ],
   "source": [
    "sample!(xtrue)\n",
    "nobs, p = 10, 1e-6\n",
    "println(sum(xtrue[:,1] .< T)/N)\n",
    "O = [(ti = T ; i=rand(1:N); (i,xtrue[i,1] < ti ,ti,p)) for r=1:nobs]\n",
    "scatter(xtrue[:,1])"
   ]
  },
  {
   "cell_type": "markdown",
   "metadata": {},
   "source": [
    "## Inference with Causality (SEIR)"
   ]
  },
  {
   "cell_type": "code",
   "execution_count": 237,
   "metadata": {},
   "outputs": [],
   "source": [
    "#Initialize min/max boundaies\n",
    "T = Float64(T)\n",
    "pseed_min = 1e-4\n",
    "pseed_max = 1-ε\n",
    "rate_min = GaussianRate(ε  ,  -T,   ε)\n",
    "rate_max = GaussianRate(1/ε  ,  2T,   1/ε)\n",
    "\n",
    "θmin = getpar(pseed_min , rate_min, rate_min, rate_min, rate_min);\n",
    "θmax = getpar(pseed_max , rate_max, rate_max, rate_max, rate_max);\n",
    "\n",
    "\n",
    "rate_min = GaussianRate(ε  ,  0.,   ε)\n",
    "rate_max = GaussianRate(1/ε  ,  T,   T)\n",
    "\n",
    "θgenmin = getpargen(pseed_min, rate_min, rate_min, rate_min, rate_min);\n",
    "θgenmax = getpargen(pseed_max, rate_max, rate_max, rate_max, rate_max);\n",
    "\n",
    "\n",
    "#Softened model\n",
    "T = Float64(T)\n",
    "ε = 1e-3\n",
    "autoinf = GaussianRate(ε, T/2, T/2)\n",
    "\n",
    "θp2gen = getpargen(pseed, autoinf, inf_out, l_delay, r_delay);\n",
    "\n",
    "θp2 = getpar(pseed, autoinf, inf_in, latency, recov);\n",
    "Mp2 = StochasticModel(Igen, T, θp2, G, θp2gen);"
   ]
  },
  {
   "cell_type": "code",
   "execution_count": 238,
   "metadata": {},
   "outputs": [],
   "source": [
    "#Initialize the parameters to learn\n",
    "\n",
    "autoinf = GaussianRate(2e-3, T/2, 2T)\n",
    "inf_in = GaussianRate(1.0, T/2, 2T)\n",
    "latency = GaussianRate(1., T/2, 2T)\n",
    "recov = GaussianRate(1., T/2, 2T)\n",
    "\n",
    "\n",
    "θ = getpar(pseed, autoinf, inf_in,  latency, recov);\n",
    "M = StochasticModel(Igauss, T, θ, G, θp2gen);"
   ]
  },
  {
   "cell_type": "code",
   "execution_count": 239,
   "metadata": {
    "tags": []
   },
   "outputs": [
    {
     "name": "stderr",
     "output_type": "stream",
     "text": [
      "\u001b[32mProgress: 100%|█████████████████████████████████████████| Time: 0:00:53\u001b[39m\n",
      "\u001b[34m  F:  8.25004197992879\u001b[39m\n"
     ]
    }
   ],
   "source": [
    "using ProgressMeter\n",
    "ProgressMeter.ijulia_behavior(:clear)\n",
    "descend!(Mp2, O; M=M, numsamples=1000, numiters=100, \n",
    "         θmin=θmin, θmax=θmax,θgenmin=θgenmin, θgenmax=θgenmax, descender=SignDescender(0.1),\n",
    "         hyperdescender=SignDescender(0.1),hyper_mask=[1,3,4,8,9,10,11,12,13]);\n",
    "descend!(Mp2, O; M=M, numsamples=1000, numiters=30, \n",
    "         θmin=θmin, θmax=θmax,θgenmin=θgenmin, θgenmax=θgenmax, descender=SignDescender(0.02),\n",
    "         hyperdescender=SignDescender(0.02),hyper_mask=[1,3,4,8,9,10,11,12,13]);\n",
    "\n"
   ]
  },
  {
   "cell_type": "code",
   "execution_count": 240,
   "metadata": {},
   "outputs": [
    {
     "data": {
      "text/plain": [
       "0.1"
      ]
     },
     "execution_count": 240,
     "metadata": {},
     "output_type": "execute_result"
    }
   ],
   "source": [
    "rate_inf = M.θgen[5]\n",
    "rate_lat = M.θgen[8]\n",
    "rate_rec = M.θgen[11]"
   ]
  },
  {
   "cell_type": "code",
   "execution_count": 241,
   "metadata": {},
   "outputs": [
    {
     "name": "stderr",
     "output_type": "stream",
     "text": [
      "\u001b[32mProgress: 100%|█████████████████████████████████████████| Time: 0:00:04\u001b[39m\n"
     ]
    }
   ],
   "source": [
    "statscauSEIR = prior(M);"
   ]
  },
  {
   "cell_type": "markdown",
   "metadata": {},
   "source": [
    "## Inference with Causality (SI)"
   ]
  },
  {
   "cell_type": "code",
   "execution_count": 242,
   "metadata": {},
   "outputs": [],
   "source": [
    "const IgenSI = GenerativeSI{GaussianRate,GaussianRate} \n",
    "const IgaussSI = GaussianInferentialSI\n",
    "\n",
    "#inf_max = GaussianRate(1., 2T, 1/ε) \n",
    "θmin = getparSI(pseed_min , rate_min, rate_min);\n",
    "θmax = getparSI(pseed_max , rate_max, rate_max);\n",
    "\n",
    "ε = 1e-10\n",
    "rate_min = GaussianRate(ε  ,  0.,   ε)\n",
    "rate_max = GaussianRate(1/ε  ,  T,   T)\n",
    "\n",
    "θgenmin = getpargenSI(pseed_min, rate_min, rate_min);\n",
    "θgenmax = getpargenSI(pseed_max, rate_max, rate_max);\n",
    "\n",
    "\n",
    "#Softened model\n",
    "T = Float64(T)\n",
    "ε = 1e-3\n",
    "autoinf = GaussianRate(ε, T/2, T/2)\n",
    "\n",
    "θp2gen = getpargenSI(pseed, autoinf, inf_out);\n",
    "\n",
    "θp2 = getparSI(pseed, autoinf, inf_in);\n",
    "Mp2SI = StochasticModel(IgenSI, T, θp2, G, θp2gen);"
   ]
  },
  {
   "cell_type": "code",
   "execution_count": 243,
   "metadata": {},
   "outputs": [],
   "source": [
    "#Initialize the parameters to learn\n",
    "\n",
    "#autoinf = GaussianRate(1/(N*T), T/2, 2T)\n",
    "inf_in = GaussianRate(1.0, T/2, 2T)\n",
    "\n",
    "\n",
    "θ = getparSI(pseed, autoinf, inf_in);\n",
    "MSI = StochasticModel(IgaussSI, T, θ, G, θp2gen);"
   ]
  },
  {
   "cell_type": "code",
   "execution_count": 244,
   "metadata": {},
   "outputs": [
    {
     "data": {
      "text/plain": [
       "1×7 Matrix{Float64}:\n",
       " 0.01  0.001  10.0  10.0  0.3  10.0  1.0e10"
      ]
     },
     "execution_count": 244,
     "metadata": {},
     "output_type": "execute_result"
    }
   ],
   "source": [
    "MSI.θgen"
   ]
  },
  {
   "cell_type": "code",
   "execution_count": 245,
   "metadata": {},
   "outputs": [
    {
     "name": "stderr",
     "output_type": "stream",
     "text": [
      "\u001b[32mProgress: 100%|█████████████████████████████████████████| Time: 0:00:57\u001b[39m\n",
      "\u001b[34m  F:  9.895420364639122\u001b[39m\n"
     ]
    }
   ],
   "source": [
    "using ProgressMeter\n",
    "ProgressMeter.ijulia_behavior(:clear)\n",
    "descend!(Mp2SI, O; M=MSI, numsamples=1000, numiters=100, \n",
    "         θmin=θmin, θmax=θmax,θgenmin=θgenmin, θgenmax=θgenmax, descender=SignDescender(0.1),\n",
    "         hyperdescender=SignDescender(0.1),hyper_mask=[1,3,4]);"
   ]
  },
  {
   "cell_type": "code",
   "execution_count": 246,
   "metadata": {
    "tags": []
   },
   "outputs": [
    {
     "name": "stderr",
     "output_type": "stream",
     "text": [
      "\u001b[32mProgress: 100%|█████████████████████████████████████████| Time: 0:00:16\u001b[39m\n",
      "\u001b[34m  F:  8.642446323927736\u001b[39m\n"
     ]
    },
    {
     "data": {
      "text/plain": [
       "1×7 Matrix{Float64}:\n",
       " 0.01  0.00265432  10.0  10.0  0.0610626  10.98  9.69145"
      ]
     },
     "execution_count": 246,
     "metadata": {},
     "output_type": "execute_result"
    }
   ],
   "source": [
    "descend!(Mp2SI, O; M=MSI, numsamples=1000, numiters=30, \n",
    "         θmin=θmin, θmax=θmax,θgenmin=θgenmin, θgenmax=θgenmax, descender=SignDescender(0.02),\n",
    "         hyperdescender=SignDescender(0.02),hyper_mask=[1,3,4]);\n",
    "MSI.θgen"
   ]
  },
  {
   "cell_type": "code",
   "execution_count": 247,
   "metadata": {},
   "outputs": [
    {
     "name": "stderr",
     "output_type": "stream",
     "text": [
      "\u001b[32mProgress: 100%|█████████████████████████████████████████| Time: 0:00:01\u001b[39m\n"
     ]
    }
   ],
   "source": [
    "statscauSI = prior(MSI);"
   ]
  },
  {
   "cell_type": "code",
   "execution_count": 248,
   "metadata": {},
   "outputs": [
    {
     "data": {
      "text/plain": [
       "0.3"
      ]
     },
     "execution_count": 248,
     "metadata": {},
     "output_type": "execute_result"
    }
   ],
   "source": [
    "Mp.θgen[5]"
   ]
  },
  {
   "cell_type": "code",
   "execution_count": 249,
   "metadata": {},
   "outputs": [
    {
     "data": {
      "text/plain": [
       "0.061062646875021644"
      ]
     },
     "execution_count": 249,
     "metadata": {},
     "output_type": "execute_result"
    }
   ],
   "source": [
    "MSI.θgen[5]"
   ]
  },
  {
   "cell_type": "code",
   "execution_count": 250,
   "metadata": {},
   "outputs": [
    {
     "data": {
      "text/plain": [
       "0.004150258514227797"
      ]
     },
     "execution_count": 250,
     "metadata": {},
     "output_type": "execute_result"
    }
   ],
   "source": [
    "M.θgen[5]"
   ]
  },
  {
   "cell_type": "markdown",
   "metadata": {},
   "source": [
    "## Check of Hyperparameters\n",
    "we now see if the hyperparameters found are consistent with the prior distribution"
   ]
  },
  {
   "cell_type": "raw",
   "metadata": {},
   "source": [
    "using Plots\n",
    "inferred_inf = GaussianRate(MSI.θgen[5], MSI.θgen[6] , MSI.θgen[7])\n",
    "\n",
    "\n",
    "rate_inf = inf_out.a\n",
    "rate_lat = l_delay.a \n",
    "rate_rec = r_delay.a \n",
    "\n",
    "real_trans = [rate_inf * rate_lat * exp(-(rate_inf+rate_rec)*t) *(exp((rate_inf-rate_lat+rate_rec)*t) - 1)/(rate_inf-rate_lat+rate_rec) for t=1:T]\n",
    "inferred_trans=[Causality.density(inferred_inf,t) * exp(-Causality.cumulated(inferred_inf,t)) for t=1:T];\n",
    "\n",
    "plot(real_trans, label = \"SEIR_effective\")\n",
    "plot!(inferred_trans,label=\"SI_Inferred\")\n",
    "#savefig(\"comparisonHyperparams.pdf\")"
   ]
  },
  {
   "cell_type": "raw",
   "metadata": {},
   "source": [
    "using Plots\n",
    "x = LinRange(0,T,Int(T))\n",
    "gauss(a,b,c,x) = a .* exp.(-((x .- b)/c) .^ 2)\n",
    "plot(gauss(MSI.θgen[5], MSI.θgen[6] , MSI.θgen[7], x),label=\"Inferred SI infection delay\",legend=:right,title=\"Hyperparams comparison\")\n",
    "plot!(gauss(inf_out.a,inf_out.b,inf_out.c,x),label=\"True infection delay\")\n",
    "plot!(gauss(l_delay.a, l_delay.b, l_delay.c,x),label=\"True latency delay \")\n",
    "plot!(gauss(r_delay.a, r_delay.b, r_delay.c,x),label=\"True recovery delay \")\n",
    "#plot!(gauss(0.47, 8., sqrt(3.56),x),label=\"True latency delay \")\n",
    "#plot!(gauss(0.23, 16., sqrt(6.),x),label=\"True recovery delay \")\n",
    "#savefig(\"Hyperparams_SEIRvsSI\")"
   ]
  },
  {
   "cell_type": "markdown",
   "metadata": {},
   "source": [
    "## Marginals and ROC curve"
   ]
  },
  {
   "cell_type": "code",
   "execution_count": 251,
   "metadata": {},
   "outputs": [
    {
     "data": {
      "text/plain": [
       "AUROC (generic function with 1 method)"
      ]
     },
     "execution_count": 251,
     "metadata": {},
     "output_type": "execute_result"
    }
   ],
   "source": [
    "function marginal(i, t, stats)\n",
    "    numsamp = size(stats,1)\n",
    "    sum( stats[:,i,1] .< t ) / numsamp\n",
    "end\n",
    "\n",
    "function marginalSI(i, t, stats)\n",
    "    numsamp = size(stats,1)\n",
    "    sum( stats[:,i] .< t ) / numsamp\n",
    "end\n",
    "\n",
    "\n",
    "function tpr(xtrue, rank) \n",
    "    den = sum(xtrue[rank])\n",
    "    if den != 0\n",
    "        return cumsum(xtrue[rank]) ./ den\n",
    "    else\n",
    "        return ones(size(rank))\n",
    "    end\n",
    "end\n",
    "\n",
    "function fpr(xtrue, rank) \n",
    "    N = size(rank,1)\n",
    "    return (range(1,N,length=N) .- cumsum(xtrue[rank])) ./ (range(1,N,length=N) .- cumsum(xtrue[rank]) )[end]\n",
    "end\n",
    "\n",
    "function ROC(xtrue, p)\n",
    "    N = size(xtrue,1)\n",
    "    rank = sortperm(p, rev=true)\n",
    "    \n",
    "    return fpr(xtrue, rank) , tpr(xtrue, rank)\n",
    "end\n",
    "\n",
    "function AUROC(ROC)\n",
    "    N = size(ROC[1],1) \n",
    "    AU = 0\n",
    "    for t = 1:N-1\n",
    "        AU += ROC[2][t] * (ROC[1][t+1] - ROC[1][t])\n",
    "    end\n",
    "    return AU\n",
    "end"
   ]
  },
  {
   "cell_type": "code",
   "execution_count": 252,
   "metadata": {},
   "outputs": [
    {
     "data": {
      "text/plain": [
       "10-element Vector{Tuple{Int64, Bool, Float64, Float64}}:\n",
       " (37, 1, 20.0, 1.0e-6)\n",
       " (61, 0, 20.0, 1.0e-6)\n",
       " (100, 0, 20.0, 1.0e-6)\n",
       " (7, 0, 20.0, 1.0e-6)\n",
       " (97, 0, 20.0, 1.0e-6)\n",
       " (90, 1, 20.0, 1.0e-6)\n",
       " (45, 0, 20.0, 1.0e-6)\n",
       " (29, 0, 20.0, 1.0e-6)\n",
       " (90, 1, 20.0, 1.0e-6)\n",
       " (83, 0, 20.0, 1.0e-6)"
      ]
     },
     "execution_count": 252,
     "metadata": {},
     "output_type": "execute_result"
    }
   ],
   "source": [
    "O"
   ]
  },
  {
   "cell_type": "code",
   "execution_count": 261,
   "metadata": {},
   "outputs": [
    {
     "data": {
      "image/svg+xml": [
       "<?xml version=\"1.0\" encoding=\"utf-8\"?>\n",
       "<svg xmlns=\"http://www.w3.org/2000/svg\" xmlns:xlink=\"http://www.w3.org/1999/xlink\" width=\"600\" height=\"400\" viewBox=\"0 0 2400 1600\">\n",
       "<defs>\n",
       "  <clipPath id=\"clip600\">\n",
       "    <rect x=\"0\" y=\"0\" width=\"2400\" height=\"1600\"/>\n",
       "  </clipPath>\n",
       "</defs>\n",
       "<path clip-path=\"url(#clip600)\" d=\"\n",
       "M0 1600 L2400 1600 L2400 0 L0 0  Z\n",
       "  \" fill=\"#ffffff\" fill-rule=\"evenodd\" fill-opacity=\"1\"/>\n",
       "<defs>\n",
       "  <clipPath id=\"clip601\">\n",
       "    <rect x=\"480\" y=\"0\" width=\"1681\" height=\"1600\"/>\n",
       "  </clipPath>\n",
       "</defs>\n",
       "<path clip-path=\"url(#clip600)\" d=\"\n",
       "M156.598 1486.45 L2352.76 1486.45 L2352.76 47.2441 L156.598 47.2441  Z\n",
       "  \" fill=\"#ffffff\" fill-rule=\"evenodd\" fill-opacity=\"1\"/>\n",
       "<defs>\n",
       "  <clipPath id=\"clip602\">\n",
       "    <rect x=\"156\" y=\"47\" width=\"2197\" height=\"1440\"/>\n",
       "  </clipPath>\n",
       "</defs>\n",
       "<polyline clip-path=\"url(#clip602)\" style=\"stroke:#000000; stroke-linecap:butt; stroke-linejoin:round; stroke-width:2; stroke-opacity:0.1; fill:none\" points=\"\n",
       "  654.932,1486.45 654.932,47.2441 \n",
       "  \"/>\n",
       "<polyline clip-path=\"url(#clip602)\" style=\"stroke:#000000; stroke-linecap:butt; stroke-linejoin:round; stroke-width:2; stroke-opacity:0.1; fill:none\" points=\"\n",
       "  1200.15,1486.45 1200.15,47.2441 \n",
       "  \"/>\n",
       "<polyline clip-path=\"url(#clip602)\" style=\"stroke:#000000; stroke-linecap:butt; stroke-linejoin:round; stroke-width:2; stroke-opacity:0.1; fill:none\" points=\"\n",
       "  1745.38,1486.45 1745.38,47.2441 \n",
       "  \"/>\n",
       "<polyline clip-path=\"url(#clip602)\" style=\"stroke:#000000; stroke-linecap:butt; stroke-linejoin:round; stroke-width:2; stroke-opacity:0.1; fill:none\" points=\"\n",
       "  2290.6,1486.45 2290.6,47.2441 \n",
       "  \"/>\n",
       "<polyline clip-path=\"url(#clip600)\" style=\"stroke:#000000; stroke-linecap:butt; stroke-linejoin:round; stroke-width:4; stroke-opacity:1; fill:none\" points=\"\n",
       "  156.598,1486.45 2352.76,1486.45 \n",
       "  \"/>\n",
       "<polyline clip-path=\"url(#clip600)\" style=\"stroke:#000000; stroke-linecap:butt; stroke-linejoin:round; stroke-width:4; stroke-opacity:1; fill:none\" points=\"\n",
       "  654.932,1486.45 654.932,1467.55 \n",
       "  \"/>\n",
       "<polyline clip-path=\"url(#clip600)\" style=\"stroke:#000000; stroke-linecap:butt; stroke-linejoin:round; stroke-width:4; stroke-opacity:1; fill:none\" points=\"\n",
       "  1200.15,1486.45 1200.15,1467.55 \n",
       "  \"/>\n",
       "<polyline clip-path=\"url(#clip600)\" style=\"stroke:#000000; stroke-linecap:butt; stroke-linejoin:round; stroke-width:4; stroke-opacity:1; fill:none\" points=\"\n",
       "  1745.38,1486.45 1745.38,1467.55 \n",
       "  \"/>\n",
       "<polyline clip-path=\"url(#clip600)\" style=\"stroke:#000000; stroke-linecap:butt; stroke-linejoin:round; stroke-width:4; stroke-opacity:1; fill:none\" points=\"\n",
       "  2290.6,1486.45 2290.6,1467.55 \n",
       "  \"/>\n",
       "<path clip-path=\"url(#clip600)\" d=\"M645.21 1514.29 L663.566 1514.29 L663.566 1518.22 L649.492 1518.22 L649.492 1526.7 Q650.511 1526.35 651.529 1526.19 Q652.548 1526 653.566 1526 Q659.353 1526 662.733 1529.17 Q666.112 1532.34 666.112 1537.76 Q666.112 1543.34 662.64 1546.44 Q659.168 1549.52 652.849 1549.52 Q650.673 1549.52 648.404 1549.15 Q646.159 1548.78 643.751 1548.04 L643.751 1543.34 Q645.835 1544.47 648.057 1545.03 Q650.279 1545.58 652.756 1545.58 Q656.761 1545.58 659.099 1543.48 Q661.437 1541.37 661.437 1537.76 Q661.437 1534.15 659.099 1532.04 Q656.761 1529.94 652.756 1529.94 Q650.881 1529.94 649.006 1530.35 Q647.154 1530.77 645.21 1531.65 L645.21 1514.29 Z\" fill=\"#000000\" fill-rule=\"evenodd\" fill-opacity=\"1\" /><path clip-path=\"url(#clip600)\" d=\"M1174.84 1544.91 L1182.48 1544.91 L1182.48 1518.55 L1174.17 1520.21 L1174.17 1515.95 L1182.43 1514.29 L1187.11 1514.29 L1187.11 1544.91 L1194.75 1544.91 L1194.75 1548.85 L1174.84 1548.85 L1174.84 1544.91 Z\" fill=\"#000000\" fill-rule=\"evenodd\" fill-opacity=\"1\" /><path clip-path=\"url(#clip600)\" d=\"M1214.19 1517.37 Q1210.58 1517.37 1208.75 1520.93 Q1206.95 1524.47 1206.95 1531.6 Q1206.95 1538.71 1208.75 1542.27 Q1210.58 1545.82 1214.19 1545.82 Q1217.83 1545.82 1219.63 1542.27 Q1221.46 1538.71 1221.46 1531.6 Q1221.46 1524.47 1219.63 1520.93 Q1217.83 1517.37 1214.19 1517.37 M1214.19 1513.66 Q1220 1513.66 1223.06 1518.27 Q1226.14 1522.85 1226.14 1531.6 Q1226.14 1540.33 1223.06 1544.94 Q1220 1549.52 1214.19 1549.52 Q1208.38 1549.52 1205.31 1544.94 Q1202.25 1540.33 1202.25 1531.6 Q1202.25 1522.85 1205.31 1518.27 Q1208.38 1513.66 1214.19 1513.66 Z\" fill=\"#000000\" fill-rule=\"evenodd\" fill-opacity=\"1\" /><path clip-path=\"url(#clip600)\" d=\"M1720.56 1544.91 L1728.2 1544.91 L1728.2 1518.55 L1719.89 1520.21 L1719.89 1515.95 L1728.16 1514.29 L1732.83 1514.29 L1732.83 1544.91 L1740.47 1544.91 L1740.47 1548.85 L1720.56 1548.85 L1720.56 1544.91 Z\" fill=\"#000000\" fill-rule=\"evenodd\" fill-opacity=\"1\" /><path clip-path=\"url(#clip600)\" d=\"M1749.96 1514.29 L1768.32 1514.29 L1768.32 1518.22 L1754.24 1518.22 L1754.24 1526.7 Q1755.26 1526.35 1756.28 1526.19 Q1757.3 1526 1758.32 1526 Q1764.1 1526 1767.48 1529.17 Q1770.86 1532.34 1770.86 1537.76 Q1770.86 1543.34 1767.39 1546.44 Q1763.92 1549.52 1757.6 1549.52 Q1755.42 1549.52 1753.16 1549.15 Q1750.91 1548.78 1748.5 1548.04 L1748.5 1543.34 Q1750.59 1544.47 1752.81 1545.03 Q1755.03 1545.58 1757.51 1545.58 Q1761.51 1545.58 1763.85 1543.48 Q1766.19 1541.37 1766.19 1537.76 Q1766.19 1534.15 1763.85 1532.04 Q1761.51 1529.94 1757.51 1529.94 Q1755.63 1529.94 1753.76 1530.35 Q1751.91 1530.77 1749.96 1531.65 L1749.96 1514.29 Z\" fill=\"#000000\" fill-rule=\"evenodd\" fill-opacity=\"1\" /><path clip-path=\"url(#clip600)\" d=\"M2269.37 1544.91 L2285.69 1544.91 L2285.69 1548.85 L2263.75 1548.85 L2263.75 1544.91 Q2266.41 1542.16 2270.99 1537.53 Q2275.6 1532.88 2276.78 1531.53 Q2279.03 1529.01 2279.91 1527.27 Q2280.81 1525.51 2280.81 1523.82 Q2280.81 1521.07 2278.86 1519.33 Q2276.94 1517.6 2273.84 1517.6 Q2271.64 1517.6 2269.19 1518.36 Q2266.76 1519.13 2263.98 1520.68 L2263.98 1515.95 Q2266.8 1514.82 2269.26 1514.24 Q2271.71 1513.66 2273.75 1513.66 Q2279.12 1513.66 2282.31 1516.35 Q2285.51 1519.03 2285.51 1523.52 Q2285.51 1525.65 2284.7 1527.57 Q2283.91 1529.47 2281.8 1532.07 Q2281.23 1532.74 2278.12 1535.95 Q2275.02 1539.15 2269.37 1544.91 Z\" fill=\"#000000\" fill-rule=\"evenodd\" fill-opacity=\"1\" /><path clip-path=\"url(#clip600)\" d=\"M2305.51 1517.37 Q2301.9 1517.37 2300.07 1520.93 Q2298.26 1524.47 2298.26 1531.6 Q2298.26 1538.71 2300.07 1542.27 Q2301.9 1545.82 2305.51 1545.82 Q2309.14 1545.82 2310.95 1542.27 Q2312.78 1538.71 2312.78 1531.6 Q2312.78 1524.47 2310.95 1520.93 Q2309.14 1517.37 2305.51 1517.37 M2305.51 1513.66 Q2311.32 1513.66 2314.37 1518.27 Q2317.45 1522.85 2317.45 1531.6 Q2317.45 1540.33 2314.37 1544.94 Q2311.32 1549.52 2305.51 1549.52 Q2299.7 1549.52 2296.62 1544.94 Q2293.56 1540.33 2293.56 1531.6 Q2293.56 1522.85 2296.62 1518.27 Q2299.7 1513.66 2305.51 1513.66 Z\" fill=\"#000000\" fill-rule=\"evenodd\" fill-opacity=\"1\" /><polyline clip-path=\"url(#clip602)\" style=\"stroke:#000000; stroke-linecap:butt; stroke-linejoin:round; stroke-width:2; stroke-opacity:0.1; fill:none\" points=\"\n",
       "  156.598,1486.45 2352.76,1486.45 \n",
       "  \"/>\n",
       "<polyline clip-path=\"url(#clip602)\" style=\"stroke:#000000; stroke-linecap:butt; stroke-linejoin:round; stroke-width:2; stroke-opacity:0.1; fill:none\" points=\"\n",
       "  156.598,1198.61 2352.76,1198.61 \n",
       "  \"/>\n",
       "<polyline clip-path=\"url(#clip602)\" style=\"stroke:#000000; stroke-linecap:butt; stroke-linejoin:round; stroke-width:2; stroke-opacity:0.1; fill:none\" points=\"\n",
       "  156.598,910.766 2352.76,910.766 \n",
       "  \"/>\n",
       "<polyline clip-path=\"url(#clip602)\" style=\"stroke:#000000; stroke-linecap:butt; stroke-linejoin:round; stroke-width:2; stroke-opacity:0.1; fill:none\" points=\"\n",
       "  156.598,622.926 2352.76,622.926 \n",
       "  \"/>\n",
       "<polyline clip-path=\"url(#clip602)\" style=\"stroke:#000000; stroke-linecap:butt; stroke-linejoin:round; stroke-width:2; stroke-opacity:0.1; fill:none\" points=\"\n",
       "  156.598,335.085 2352.76,335.085 \n",
       "  \"/>\n",
       "<polyline clip-path=\"url(#clip602)\" style=\"stroke:#000000; stroke-linecap:butt; stroke-linejoin:round; stroke-width:2; stroke-opacity:0.1; fill:none\" points=\"\n",
       "  156.598,47.2441 2352.76,47.2441 \n",
       "  \"/>\n",
       "<polyline clip-path=\"url(#clip600)\" style=\"stroke:#000000; stroke-linecap:butt; stroke-linejoin:round; stroke-width:4; stroke-opacity:1; fill:none\" points=\"\n",
       "  156.598,1486.45 156.598,47.2441 \n",
       "  \"/>\n",
       "<polyline clip-path=\"url(#clip600)\" style=\"stroke:#000000; stroke-linecap:butt; stroke-linejoin:round; stroke-width:4; stroke-opacity:1; fill:none\" points=\"\n",
       "  156.598,1486.45 175.496,1486.45 \n",
       "  \"/>\n",
       "<polyline clip-path=\"url(#clip600)\" style=\"stroke:#000000; stroke-linecap:butt; stroke-linejoin:round; stroke-width:4; stroke-opacity:1; fill:none\" points=\"\n",
       "  156.598,1198.61 175.496,1198.61 \n",
       "  \"/>\n",
       "<polyline clip-path=\"url(#clip600)\" style=\"stroke:#000000; stroke-linecap:butt; stroke-linejoin:round; stroke-width:4; stroke-opacity:1; fill:none\" points=\"\n",
       "  156.598,910.766 175.496,910.766 \n",
       "  \"/>\n",
       "<polyline clip-path=\"url(#clip600)\" style=\"stroke:#000000; stroke-linecap:butt; stroke-linejoin:round; stroke-width:4; stroke-opacity:1; fill:none\" points=\"\n",
       "  156.598,622.926 175.496,622.926 \n",
       "  \"/>\n",
       "<polyline clip-path=\"url(#clip600)\" style=\"stroke:#000000; stroke-linecap:butt; stroke-linejoin:round; stroke-width:4; stroke-opacity:1; fill:none\" points=\"\n",
       "  156.598,335.085 175.496,335.085 \n",
       "  \"/>\n",
       "<polyline clip-path=\"url(#clip600)\" style=\"stroke:#000000; stroke-linecap:butt; stroke-linejoin:round; stroke-width:4; stroke-opacity:1; fill:none\" points=\"\n",
       "  156.598,47.2441 175.496,47.2441 \n",
       "  \"/>\n",
       "<path clip-path=\"url(#clip600)\" d=\"M63.4226 1472.25 Q59.8115 1472.25 57.9828 1475.81 Q56.1773 1479.35 56.1773 1486.48 Q56.1773 1493.59 57.9828 1497.15 Q59.8115 1500.7 63.4226 1500.7 Q67.0569 1500.7 68.8624 1497.15 Q70.6911 1493.59 70.6911 1486.48 Q70.6911 1479.35 68.8624 1475.81 Q67.0569 1472.25 63.4226 1472.25 M63.4226 1468.54 Q69.2328 1468.54 72.2883 1473.15 Q75.367 1477.73 75.367 1486.48 Q75.367 1495.21 72.2883 1499.82 Q69.2328 1504.4 63.4226 1504.4 Q57.6125 1504.4 54.5338 1499.82 Q51.4782 1495.21 51.4782 1486.48 Q51.4782 1477.73 54.5338 1473.15 Q57.6125 1468.54 63.4226 1468.54 Z\" fill=\"#000000\" fill-rule=\"evenodd\" fill-opacity=\"1\" /><path clip-path=\"url(#clip600)\" d=\"M83.5845 1497.85 L88.4688 1497.85 L88.4688 1503.73 L83.5845 1503.73 L83.5845 1497.85 Z\" fill=\"#000000\" fill-rule=\"evenodd\" fill-opacity=\"1\" /><path clip-path=\"url(#clip600)\" d=\"M108.654 1472.25 Q105.043 1472.25 103.214 1475.81 Q101.409 1479.35 101.409 1486.48 Q101.409 1493.59 103.214 1497.15 Q105.043 1500.7 108.654 1500.7 Q112.288 1500.7 114.094 1497.15 Q115.922 1493.59 115.922 1486.48 Q115.922 1479.35 114.094 1475.81 Q112.288 1472.25 108.654 1472.25 M108.654 1468.54 Q114.464 1468.54 117.52 1473.15 Q120.598 1477.73 120.598 1486.48 Q120.598 1495.21 117.52 1499.82 Q114.464 1504.4 108.654 1504.4 Q102.844 1504.4 99.765 1499.82 Q96.7095 1495.21 96.7095 1486.48 Q96.7095 1477.73 99.765 1473.15 Q102.844 1468.54 108.654 1468.54 Z\" fill=\"#000000\" fill-rule=\"evenodd\" fill-opacity=\"1\" /><path clip-path=\"url(#clip600)\" d=\"M65.0198 1184.41 Q61.4087 1184.41 59.58 1187.97 Q57.7745 1191.51 57.7745 1198.64 Q57.7745 1205.75 59.58 1209.31 Q61.4087 1212.85 65.0198 1212.85 Q68.6541 1212.85 70.4596 1209.31 Q72.2883 1205.75 72.2883 1198.64 Q72.2883 1191.51 70.4596 1187.97 Q68.6541 1184.41 65.0198 1184.41 M65.0198 1180.7 Q70.83 1180.7 73.8855 1185.31 Q76.9642 1189.89 76.9642 1198.64 Q76.9642 1207.37 73.8855 1211.98 Q70.83 1216.56 65.0198 1216.56 Q59.2097 1216.56 56.131 1211.98 Q53.0754 1207.37 53.0754 1198.64 Q53.0754 1189.89 56.131 1185.31 Q59.2097 1180.7 65.0198 1180.7 Z\" fill=\"#000000\" fill-rule=\"evenodd\" fill-opacity=\"1\" /><path clip-path=\"url(#clip600)\" d=\"M85.1818 1210.01 L90.066 1210.01 L90.066 1215.89 L85.1818 1215.89 L85.1818 1210.01 Z\" fill=\"#000000\" fill-rule=\"evenodd\" fill-opacity=\"1\" /><path clip-path=\"url(#clip600)\" d=\"M104.279 1211.95 L120.598 1211.95 L120.598 1215.89 L98.6539 1215.89 L98.6539 1211.95 Q101.316 1209.2 105.899 1204.57 Q110.506 1199.91 111.686 1198.57 Q113.932 1196.05 114.811 1194.31 Q115.714 1192.55 115.714 1190.86 Q115.714 1188.11 113.77 1186.37 Q111.848 1184.64 108.746 1184.64 Q106.547 1184.64 104.094 1185.4 Q101.663 1186.17 98.8854 1187.72 L98.8854 1182.99 Q101.709 1181.86 104.163 1181.28 Q106.617 1180.7 108.654 1180.7 Q114.024 1180.7 117.219 1183.39 Q120.413 1186.07 120.413 1190.56 Q120.413 1192.69 119.603 1194.61 Q118.816 1196.51 116.709 1199.1 Q116.131 1199.78 113.029 1202.99 Q109.927 1206.19 104.279 1211.95 Z\" fill=\"#000000\" fill-rule=\"evenodd\" fill-opacity=\"1\" /><path clip-path=\"url(#clip600)\" d=\"M62.9365 896.565 Q59.3254 896.565 57.4967 900.13 Q55.6912 903.671 55.6912 910.801 Q55.6912 917.908 57.4967 921.472 Q59.3254 925.014 62.9365 925.014 Q66.5707 925.014 68.3763 921.472 Q70.205 917.908 70.205 910.801 Q70.205 903.671 68.3763 900.13 Q66.5707 896.565 62.9365 896.565 M62.9365 892.861 Q68.7467 892.861 71.8022 897.468 Q74.8809 902.051 74.8809 910.801 Q74.8809 919.528 71.8022 924.134 Q68.7467 928.718 62.9365 928.718 Q57.1264 928.718 54.0477 924.134 Q50.9921 919.528 50.9921 910.801 Q50.9921 902.051 54.0477 897.468 Q57.1264 892.861 62.9365 892.861 Z\" fill=\"#000000\" fill-rule=\"evenodd\" fill-opacity=\"1\" /><path clip-path=\"url(#clip600)\" d=\"M83.0984 922.167 L87.9827 922.167 L87.9827 928.046 L83.0984 928.046 L83.0984 922.167 Z\" fill=\"#000000\" fill-rule=\"evenodd\" fill-opacity=\"1\" /><path clip-path=\"url(#clip600)\" d=\"M111.015 897.56 L99.2095 916.009 L111.015 916.009 L111.015 897.56 M109.788 893.486 L115.668 893.486 L115.668 916.009 L120.598 916.009 L120.598 919.898 L115.668 919.898 L115.668 928.046 L111.015 928.046 L111.015 919.898 L95.4132 919.898 L95.4132 915.384 L109.788 893.486 Z\" fill=\"#000000\" fill-rule=\"evenodd\" fill-opacity=\"1\" /><path clip-path=\"url(#clip600)\" d=\"M63.2606 608.724 Q59.6495 608.724 57.8208 612.289 Q56.0152 615.831 56.0152 622.96 Q56.0152 630.067 57.8208 633.632 Q59.6495 637.173 63.2606 637.173 Q66.8948 637.173 68.7004 633.632 Q70.5291 630.067 70.5291 622.96 Q70.5291 615.831 68.7004 612.289 Q66.8948 608.724 63.2606 608.724 M63.2606 605.021 Q69.0707 605.021 72.1263 609.627 Q75.205 614.21 75.205 622.96 Q75.205 631.687 72.1263 636.294 Q69.0707 640.877 63.2606 640.877 Q57.4504 640.877 54.3717 636.294 Q51.3162 631.687 51.3162 622.96 Q51.3162 614.21 54.3717 609.627 Q57.4504 605.021 63.2606 605.021 Z\" fill=\"#000000\" fill-rule=\"evenodd\" fill-opacity=\"1\" /><path clip-path=\"url(#clip600)\" d=\"M83.4225 634.326 L88.3067 634.326 L88.3067 640.206 L83.4225 640.206 L83.4225 634.326 Z\" fill=\"#000000\" fill-rule=\"evenodd\" fill-opacity=\"1\" /><path clip-path=\"url(#clip600)\" d=\"M109.071 621.062 Q105.922 621.062 104.071 623.215 Q102.242 625.368 102.242 629.118 Q102.242 632.845 104.071 635.02 Q105.922 637.173 109.071 637.173 Q112.219 637.173 114.047 635.02 Q115.899 632.845 115.899 629.118 Q115.899 625.368 114.047 623.215 Q112.219 621.062 109.071 621.062 M118.353 606.409 L118.353 610.669 Q116.594 609.835 114.788 609.396 Q113.006 608.956 111.246 608.956 Q106.617 608.956 104.163 612.081 Q101.733 615.206 101.385 621.525 Q102.751 619.511 104.811 618.446 Q106.871 617.359 109.348 617.359 Q114.557 617.359 117.566 620.53 Q120.598 623.678 120.598 629.118 Q120.598 634.442 117.45 637.659 Q114.302 640.877 109.071 640.877 Q103.075 640.877 99.9039 636.294 Q96.7326 631.687 96.7326 622.96 Q96.7326 614.766 100.621 609.905 Q104.51 605.021 111.061 605.021 Q112.82 605.021 114.603 605.368 Q116.408 605.715 118.353 606.409 Z\" fill=\"#000000\" fill-rule=\"evenodd\" fill-opacity=\"1\" /><path clip-path=\"url(#clip600)\" d=\"M63.5152 320.884 Q59.9041 320.884 58.0754 324.448 Q56.2699 327.99 56.2699 335.12 Q56.2699 342.226 58.0754 345.791 Q59.9041 349.332 63.5152 349.332 Q67.1494 349.332 68.955 345.791 Q70.7837 342.226 70.7837 335.12 Q70.7837 327.99 68.955 324.448 Q67.1494 320.884 63.5152 320.884 M63.5152 317.18 Q69.3254 317.18 72.3809 321.786 Q75.4596 326.37 75.4596 335.12 Q75.4596 343.846 72.3809 348.453 Q69.3254 353.036 63.5152 353.036 Q57.7051 353.036 54.6264 348.453 Q51.5708 343.846 51.5708 335.12 Q51.5708 326.37 54.6264 321.786 Q57.7051 317.18 63.5152 317.18 Z\" fill=\"#000000\" fill-rule=\"evenodd\" fill-opacity=\"1\" /><path clip-path=\"url(#clip600)\" d=\"M83.6771 346.485 L88.5614 346.485 L88.5614 352.365 L83.6771 352.365 L83.6771 346.485 Z\" fill=\"#000000\" fill-rule=\"evenodd\" fill-opacity=\"1\" /><path clip-path=\"url(#clip600)\" d=\"M108.746 335.953 Q105.413 335.953 103.492 337.735 Q101.594 339.518 101.594 342.643 Q101.594 345.768 103.492 347.55 Q105.413 349.332 108.746 349.332 Q112.08 349.332 114.001 347.55 Q115.922 345.745 115.922 342.643 Q115.922 339.518 114.001 337.735 Q112.103 335.953 108.746 335.953 M104.071 333.962 Q101.061 333.221 99.3715 331.161 Q97.7048 329.101 97.7048 326.138 Q97.7048 321.995 100.645 319.587 Q103.608 317.18 108.746 317.18 Q113.908 317.18 116.848 319.587 Q119.788 321.995 119.788 326.138 Q119.788 329.101 118.098 331.161 Q116.432 333.221 113.445 333.962 Q116.825 334.749 118.7 337.041 Q120.598 339.333 120.598 342.643 Q120.598 347.666 117.52 350.351 Q114.464 353.036 108.746 353.036 Q103.029 353.036 99.9502 350.351 Q96.8947 347.666 96.8947 342.643 Q96.8947 339.333 98.7928 337.041 Q100.691 334.749 104.071 333.962 M102.358 326.578 Q102.358 329.263 104.024 330.768 Q105.714 332.272 108.746 332.272 Q111.756 332.272 113.445 330.768 Q115.158 329.263 115.158 326.578 Q115.158 323.893 113.445 322.388 Q111.756 320.884 108.746 320.884 Q105.714 320.884 104.024 322.388 Q102.358 323.893 102.358 326.578 Z\" fill=\"#000000\" fill-rule=\"evenodd\" fill-opacity=\"1\" /><path clip-path=\"url(#clip600)\" d=\"M54.2328 60.5889 L61.8717 60.5889 L61.8717 34.2233 L53.5616 35.89 L53.5616 31.6308 L61.8254 29.9641 L66.5013 29.9641 L66.5013 60.5889 L74.1402 60.5889 L74.1402 64.5241 L54.2328 64.5241 L54.2328 60.5889 Z\" fill=\"#000000\" fill-rule=\"evenodd\" fill-opacity=\"1\" /><path clip-path=\"url(#clip600)\" d=\"M83.5845 58.6445 L88.4688 58.6445 L88.4688 64.5241 L83.5845 64.5241 L83.5845 58.6445 Z\" fill=\"#000000\" fill-rule=\"evenodd\" fill-opacity=\"1\" /><path clip-path=\"url(#clip600)\" d=\"M108.654 33.0428 Q105.043 33.0428 103.214 36.6076 Q101.409 40.1492 101.409 47.2788 Q101.409 54.3853 103.214 57.9501 Q105.043 61.4917 108.654 61.4917 Q112.288 61.4917 114.094 57.9501 Q115.922 54.3853 115.922 47.2788 Q115.922 40.1492 114.094 36.6076 Q112.288 33.0428 108.654 33.0428 M108.654 29.3391 Q114.464 29.3391 117.52 33.9456 Q120.598 38.5289 120.598 47.2788 Q120.598 56.0056 117.52 60.6121 Q114.464 65.1954 108.654 65.1954 Q102.844 65.1954 99.765 60.6121 Q96.7095 56.0056 96.7095 47.2788 Q96.7095 38.5289 99.765 33.9456 Q102.844 29.3391 108.654 29.3391 Z\" fill=\"#000000\" fill-rule=\"evenodd\" fill-opacity=\"1\" /><polyline clip-path=\"url(#clip602)\" style=\"stroke:#009af9; stroke-linecap:butt; stroke-linejoin:round; stroke-width:4; stroke-opacity:1; fill:none\" points=\"\n",
       "  218.754,1382.39 327.798,1353.9 436.843,1314.75 545.887,1271.86 654.932,1222.79 763.976,1161.91 873.021,1102.32 982.066,1028.06 1091.11,948.33 1200.15,859.962 \n",
       "  1309.2,762.241 1418.24,644.802 1527.29,508.653 1636.33,368.187 1745.38,242.976 1854.42,158.207 1963.47,108.266 2072.51,79.914 2181.56,66.0977 2290.6,58.7577 \n",
       "  \n",
       "  \"/>\n",
       "<polyline clip-path=\"url(#clip602)\" style=\"stroke:#e26f46; stroke-linecap:butt; stroke-linejoin:round; stroke-width:4; stroke-opacity:1; fill:none\" points=\"\n",
       "  218.754,779.799 327.798,674.017 436.843,581.189 545.887,494.549 654.932,423.452 763.976,358.688 873.021,305.869 982.066,254.489 1091.11,213.328 1200.15,175.621 \n",
       "  1309.2,152.018 1418.24,131.15 1527.29,115.75 1636.33,102.653 1745.38,89.2688 1854.42,80.7775 1963.47,72.2862 2072.51,66.2416 2181.56,62.2118 2290.6,58.6138 \n",
       "  \n",
       "  \"/>\n",
       "<path clip-path=\"url(#clip600)\" d=\"\n",
       "M1847.39 250.738 L2279.55 250.738 L2279.55 95.2176 L1847.39 95.2176  Z\n",
       "  \" fill=\"#ffffff\" fill-rule=\"evenodd\" fill-opacity=\"1\"/>\n",
       "<polyline clip-path=\"url(#clip600)\" style=\"stroke:#000000; stroke-linecap:butt; stroke-linejoin:round; stroke-width:4; stroke-opacity:1; fill:none\" points=\"\n",
       "  1847.39,250.738 2279.55,250.738 2279.55,95.2176 1847.39,95.2176 1847.39,250.738 \n",
       "  \"/>\n",
       "<polyline clip-path=\"url(#clip600)\" style=\"stroke:#009af9; stroke-linecap:butt; stroke-linejoin:round; stroke-width:4; stroke-opacity:1; fill:none\" points=\"\n",
       "  1871.79,147.058 2018.2,147.058 \n",
       "  \"/>\n",
       "<path clip-path=\"url(#clip600)\" d=\"M2063.11 139.407 L2063.11 143.389 Q2061.3 142.393 2059.47 141.907 Q2057.67 141.398 2055.82 141.398 Q2051.67 141.398 2049.38 144.037 Q2047.09 146.652 2047.09 151.398 Q2047.09 156.143 2049.38 158.782 Q2051.67 161.398 2055.82 161.398 Q2057.67 161.398 2059.47 160.912 Q2061.3 160.402 2063.11 159.407 L2063.11 163.342 Q2061.33 164.176 2059.41 164.592 Q2057.51 165.009 2055.35 165.009 Q2049.5 165.009 2046.05 161.328 Q2042.6 157.648 2042.6 151.398 Q2042.6 145.055 2046.07 141.421 Q2049.57 137.787 2055.63 137.787 Q2057.6 137.787 2059.47 138.203 Q2061.35 138.597 2063.11 139.407 Z\" fill=\"#000000\" fill-rule=\"evenodd\" fill-opacity=\"1\" /><path clip-path=\"url(#clip600)\" d=\"M2082.3 151.305 Q2077.14 151.305 2075.15 152.486 Q2073.16 153.666 2073.16 156.514 Q2073.16 158.782 2074.64 160.125 Q2076.14 161.444 2078.71 161.444 Q2082.25 161.444 2084.38 158.944 Q2086.53 156.421 2086.53 152.254 L2086.53 151.305 L2082.3 151.305 M2090.79 149.546 L2090.79 164.338 L2086.53 164.338 L2086.53 160.402 Q2085.08 162.763 2082.9 163.898 Q2080.72 165.009 2077.58 165.009 Q2073.6 165.009 2071.23 162.787 Q2068.9 160.541 2068.9 156.791 Q2068.9 152.416 2071.81 150.194 Q2074.75 147.972 2080.56 147.972 L2086.53 147.972 L2086.53 147.555 Q2086.53 144.615 2084.59 143.018 Q2082.67 141.398 2079.17 141.398 Q2076.95 141.398 2074.85 141.93 Q2072.74 142.463 2070.79 143.527 L2070.79 139.592 Q2073.13 138.69 2075.33 138.25 Q2077.53 137.787 2079.61 137.787 Q2085.24 137.787 2088.02 140.703 Q2090.79 143.62 2090.79 149.546 Z\" fill=\"#000000\" fill-rule=\"evenodd\" fill-opacity=\"1\" /><path clip-path=\"url(#clip600)\" d=\"M2099.13 154.106 L2099.13 138.412 L2103.39 138.412 L2103.39 153.944 Q2103.39 157.625 2104.82 159.476 Q2106.26 161.305 2109.13 161.305 Q2112.58 161.305 2114.57 159.106 Q2116.58 156.907 2116.58 153.111 L2116.58 138.412 L2120.84 138.412 L2120.84 164.338 L2116.58 164.338 L2116.58 160.356 Q2115.03 162.717 2112.97 163.875 Q2110.93 165.009 2108.22 165.009 Q2103.76 165.009 2101.44 162.231 Q2099.13 159.453 2099.13 154.106 M2109.85 137.787 L2109.85 137.787 Z\" fill=\"#000000\" fill-rule=\"evenodd\" fill-opacity=\"1\" /><path clip-path=\"url(#clip600)\" d=\"M2150.52 130.912 L2150.52 135.472 Q2147.85 134.199 2145.49 133.574 Q2143.13 132.949 2140.93 132.949 Q2137.11 132.949 2135.03 134.43 Q2132.97 135.912 2132.97 138.643 Q2132.97 140.935 2134.34 142.115 Q2135.72 143.273 2139.57 143.99 L2142.39 144.569 Q2147.62 145.565 2150.1 148.088 Q2152.6 150.588 2152.6 154.801 Q2152.6 159.824 2149.22 162.416 Q2145.86 165.009 2139.36 165.009 Q2136.91 165.009 2134.13 164.453 Q2131.37 163.898 2128.41 162.81 L2128.41 157.995 Q2131.26 159.592 2133.99 160.402 Q2136.72 161.213 2139.36 161.213 Q2143.36 161.213 2145.54 159.639 Q2147.72 158.064 2147.72 155.148 Q2147.72 152.602 2146.14 151.166 Q2144.59 149.731 2141.03 149.014 L2138.18 148.458 Q2132.95 147.416 2130.61 145.194 Q2128.27 142.972 2128.27 139.014 Q2128.27 134.43 2131.49 131.791 Q2134.73 129.153 2140.4 129.153 Q2142.83 129.153 2145.35 129.592 Q2147.88 130.032 2150.52 130.912 Z\" fill=\"#000000\" fill-rule=\"evenodd\" fill-opacity=\"1\" /><path clip-path=\"url(#clip600)\" d=\"M2159.89 129.778 L2164.57 129.778 L2164.57 164.338 L2159.89 164.338 L2159.89 129.778 Z\" fill=\"#000000\" fill-rule=\"evenodd\" fill-opacity=\"1\" /><polyline clip-path=\"url(#clip600)\" style=\"stroke:#e26f46; stroke-linecap:butt; stroke-linejoin:round; stroke-width:4; stroke-opacity:1; fill:none\" points=\"\n",
       "  1871.79,198.898 2018.2,198.898 \n",
       "  \"/>\n",
       "<path clip-path=\"url(#clip600)\" d=\"M2063.11 191.247 L2063.11 195.229 Q2061.3 194.233 2059.47 193.747 Q2057.67 193.238 2055.82 193.238 Q2051.67 193.238 2049.38 195.877 Q2047.09 198.492 2047.09 203.238 Q2047.09 207.983 2049.38 210.622 Q2051.67 213.238 2055.82 213.238 Q2057.67 213.238 2059.47 212.752 Q2061.3 212.242 2063.11 211.247 L2063.11 215.182 Q2061.33 216.016 2059.41 216.432 Q2057.51 216.849 2055.35 216.849 Q2049.5 216.849 2046.05 213.168 Q2042.6 209.488 2042.6 203.238 Q2042.6 196.895 2046.07 193.261 Q2049.57 189.627 2055.63 189.627 Q2057.6 189.627 2059.47 190.043 Q2061.35 190.437 2063.11 191.247 Z\" fill=\"#000000\" fill-rule=\"evenodd\" fill-opacity=\"1\" /><path clip-path=\"url(#clip600)\" d=\"M2082.3 203.145 Q2077.14 203.145 2075.15 204.326 Q2073.16 205.506 2073.16 208.354 Q2073.16 210.622 2074.64 211.965 Q2076.14 213.284 2078.71 213.284 Q2082.25 213.284 2084.38 210.784 Q2086.53 208.261 2086.53 204.094 L2086.53 203.145 L2082.3 203.145 M2090.79 201.386 L2090.79 216.178 L2086.53 216.178 L2086.53 212.242 Q2085.08 214.603 2082.9 215.738 Q2080.72 216.849 2077.58 216.849 Q2073.6 216.849 2071.23 214.627 Q2068.9 212.381 2068.9 208.631 Q2068.9 204.256 2071.81 202.034 Q2074.75 199.812 2080.56 199.812 L2086.53 199.812 L2086.53 199.395 Q2086.53 196.455 2084.59 194.858 Q2082.67 193.238 2079.17 193.238 Q2076.95 193.238 2074.85 193.77 Q2072.74 194.303 2070.79 195.367 L2070.79 191.432 Q2073.13 190.53 2075.33 190.09 Q2077.53 189.627 2079.61 189.627 Q2085.24 189.627 2088.02 192.543 Q2090.79 195.46 2090.79 201.386 Z\" fill=\"#000000\" fill-rule=\"evenodd\" fill-opacity=\"1\" /><path clip-path=\"url(#clip600)\" d=\"M2099.13 205.946 L2099.13 190.252 L2103.39 190.252 L2103.39 205.784 Q2103.39 209.465 2104.82 211.316 Q2106.26 213.145 2109.13 213.145 Q2112.58 213.145 2114.57 210.946 Q2116.58 208.747 2116.58 204.951 L2116.58 190.252 L2120.84 190.252 L2120.84 216.178 L2116.58 216.178 L2116.58 212.196 Q2115.03 214.557 2112.97 215.715 Q2110.93 216.849 2108.22 216.849 Q2103.76 216.849 2101.44 214.071 Q2099.13 211.293 2099.13 205.946 M2109.85 189.627 L2109.85 189.627 Z\" fill=\"#000000\" fill-rule=\"evenodd\" fill-opacity=\"1\" /><path clip-path=\"url(#clip600)\" d=\"M2150.52 182.752 L2150.52 187.312 Q2147.85 186.039 2145.49 185.414 Q2143.13 184.789 2140.93 184.789 Q2137.11 184.789 2135.03 186.27 Q2132.97 187.752 2132.97 190.483 Q2132.97 192.775 2134.34 193.955 Q2135.72 195.113 2139.57 195.83 L2142.39 196.409 Q2147.62 197.405 2150.1 199.928 Q2152.6 202.428 2152.6 206.641 Q2152.6 211.664 2149.22 214.256 Q2145.86 216.849 2139.36 216.849 Q2136.91 216.849 2134.13 216.293 Q2131.37 215.738 2128.41 214.65 L2128.41 209.835 Q2131.26 211.432 2133.99 212.242 Q2136.72 213.053 2139.36 213.053 Q2143.36 213.053 2145.54 211.479 Q2147.72 209.904 2147.72 206.988 Q2147.72 204.442 2146.14 203.006 Q2144.59 201.571 2141.03 200.854 L2138.18 200.298 Q2132.95 199.256 2130.61 197.034 Q2128.27 194.812 2128.27 190.854 Q2128.27 186.27 2131.49 183.631 Q2134.73 180.993 2140.4 180.993 Q2142.83 180.993 2145.35 181.432 Q2147.88 181.872 2150.52 182.752 Z\" fill=\"#000000\" fill-rule=\"evenodd\" fill-opacity=\"1\" /><path clip-path=\"url(#clip600)\" d=\"M2159.89 181.618 L2181.74 181.618 L2181.74 185.553 L2164.57 185.553 L2164.57 195.784 L2181.03 195.784 L2181.03 199.719 L2164.57 199.719 L2164.57 212.242 L2182.16 212.242 L2182.16 216.178 L2159.89 216.178 L2159.89 181.618 Z\" fill=\"#000000\" fill-rule=\"evenodd\" fill-opacity=\"1\" /><path clip-path=\"url(#clip600)\" d=\"M2189.84 181.618 L2194.52 181.618 L2194.52 216.178 L2189.84 216.178 L2189.84 181.618 Z\" fill=\"#000000\" fill-rule=\"evenodd\" fill-opacity=\"1\" /><path clip-path=\"url(#clip600)\" d=\"M2220.21 199.974 Q2221.72 200.483 2223.13 202.15 Q2224.57 203.817 2226 206.733 L2230.75 216.178 L2225.72 216.178 L2221.3 207.312 Q2219.59 203.84 2217.97 202.705 Q2216.37 201.571 2213.59 201.571 L2208.5 201.571 L2208.5 216.178 L2203.83 216.178 L2203.83 181.618 L2214.38 181.618 Q2220.31 181.618 2223.22 184.094 Q2226.14 186.571 2226.14 191.571 Q2226.14 194.835 2224.61 196.988 Q2223.11 199.141 2220.21 199.974 M2208.5 185.46 L2208.5 197.729 L2214.38 197.729 Q2217.76 197.729 2219.47 196.178 Q2221.21 194.604 2221.21 191.571 Q2221.21 188.539 2219.47 187.011 Q2217.76 185.46 2214.38 185.46 L2208.5 185.46 Z\" fill=\"#000000\" fill-rule=\"evenodd\" fill-opacity=\"1\" /></svg>\n"
      ]
     },
     "execution_count": 261,
     "metadata": {},
     "output_type": "execute_result"
    }
   ],
   "source": [
    "using Plots\n",
    "p_cauSEIR = zeros(N,Int(T))\n",
    "p_cauSI = zeros(N,Int(T))\n",
    "for i = 1:N\n",
    "    for t = 1:Int(T)\n",
    "       p_cauSEIR[i,t] = marginal(i, t, statscauSEIR)\n",
    "       p_cauSI[i,t] = marginalSI(i, t, statscauSI)\n",
    "    end\n",
    "end\n",
    "i = 90\n",
    "plot(p_cauSI[i,1:end], label = \"cauSI\")\n",
    "plot!(p_cauSEIR[i,1:end], label = \"cauSEIR\")\n",
    "#savefig(\"SEIRmarkov.pdf\")\n",
    "ylims!(0,1)"
   ]
  },
  {
   "cell_type": "code",
   "execution_count": 254,
   "metadata": {},
   "outputs": [
    {
     "data": {
      "text/plain": [
       "100-element Vector{Int64}:\n",
       "  90\n",
       "  11\n",
       "  37\n",
       "  66\n",
       "  12\n",
       "  18\n",
       "  87\n",
       "   6\n",
       "  71\n",
       "  26\n",
       "  94\n",
       "  42\n",
       "  84\n",
       "   ⋮\n",
       "  80\n",
       "  75\n",
       "  22\n",
       "  74\n",
       "  33\n",
       " 100\n",
       "  83\n",
       "  61\n",
       "  97\n",
       "  29\n",
       "  45\n",
       "   7"
      ]
     },
     "execution_count": 254,
     "metadata": {},
     "output_type": "execute_result"
    }
   ],
   "source": [
    "sortperm(p_cauSI[:,end],rev=true)"
   ]
  },
  {
   "cell_type": "code",
   "execution_count": 255,
   "metadata": {},
   "outputs": [
    {
     "data": {
      "image/svg+xml": [
       "<?xml version=\"1.0\" encoding=\"utf-8\"?>\n",
       "<svg xmlns=\"http://www.w3.org/2000/svg\" xmlns:xlink=\"http://www.w3.org/1999/xlink\" width=\"600\" height=\"400\" viewBox=\"0 0 2400 1600\">\n",
       "<defs>\n",
       "  <clipPath id=\"clip400\">\n",
       "    <rect x=\"0\" y=\"0\" width=\"2400\" height=\"1600\"/>\n",
       "  </clipPath>\n",
       "</defs>\n",
       "<path clip-path=\"url(#clip400)\" d=\"\n",
       "M0 1600 L2400 1600 L2400 0 L0 0  Z\n",
       "  \" fill=\"#ffffff\" fill-rule=\"evenodd\" fill-opacity=\"1\"/>\n",
       "<defs>\n",
       "  <clipPath id=\"clip401\">\n",
       "    <rect x=\"480\" y=\"0\" width=\"1681\" height=\"1600\"/>\n",
       "  </clipPath>\n",
       "</defs>\n",
       "<path clip-path=\"url(#clip400)\" d=\"\n",
       "M186.274 1486.45 L2352.76 1486.45 L2352.76 47.2441 L186.274 47.2441  Z\n",
       "  \" fill=\"#ffffff\" fill-rule=\"evenodd\" fill-opacity=\"1\"/>\n",
       "<defs>\n",
       "  <clipPath id=\"clip402\">\n",
       "    <rect x=\"186\" y=\"47\" width=\"2167\" height=\"1440\"/>\n",
       "  </clipPath>\n",
       "</defs>\n",
       "<polyline clip-path=\"url(#clip402)\" style=\"stroke:#000000; stroke-linecap:butt; stroke-linejoin:round; stroke-width:2; stroke-opacity:0.1; fill:none\" points=\"\n",
       "  226.945,1486.45 226.945,47.2441 \n",
       "  \"/>\n",
       "<polyline clip-path=\"url(#clip402)\" style=\"stroke:#000000; stroke-linecap:butt; stroke-linejoin:round; stroke-width:2; stroke-opacity:0.1; fill:none\" points=\"\n",
       "  743.069,1486.45 743.069,47.2441 \n",
       "  \"/>\n",
       "<polyline clip-path=\"url(#clip402)\" style=\"stroke:#000000; stroke-linecap:butt; stroke-linejoin:round; stroke-width:2; stroke-opacity:0.1; fill:none\" points=\"\n",
       "  1259.19,1486.45 1259.19,47.2441 \n",
       "  \"/>\n",
       "<polyline clip-path=\"url(#clip402)\" style=\"stroke:#000000; stroke-linecap:butt; stroke-linejoin:round; stroke-width:2; stroke-opacity:0.1; fill:none\" points=\"\n",
       "  1775.32,1486.45 1775.32,47.2441 \n",
       "  \"/>\n",
       "<polyline clip-path=\"url(#clip402)\" style=\"stroke:#000000; stroke-linecap:butt; stroke-linejoin:round; stroke-width:2; stroke-opacity:0.1; fill:none\" points=\"\n",
       "  2291.44,1486.45 2291.44,47.2441 \n",
       "  \"/>\n",
       "<polyline clip-path=\"url(#clip400)\" style=\"stroke:#000000; stroke-linecap:butt; stroke-linejoin:round; stroke-width:4; stroke-opacity:1; fill:none\" points=\"\n",
       "  186.274,1486.45 2352.76,1486.45 \n",
       "  \"/>\n",
       "<polyline clip-path=\"url(#clip400)\" style=\"stroke:#000000; stroke-linecap:butt; stroke-linejoin:round; stroke-width:4; stroke-opacity:1; fill:none\" points=\"\n",
       "  226.945,1486.45 226.945,1467.55 \n",
       "  \"/>\n",
       "<polyline clip-path=\"url(#clip400)\" style=\"stroke:#000000; stroke-linecap:butt; stroke-linejoin:round; stroke-width:4; stroke-opacity:1; fill:none\" points=\"\n",
       "  743.069,1486.45 743.069,1467.55 \n",
       "  \"/>\n",
       "<polyline clip-path=\"url(#clip400)\" style=\"stroke:#000000; stroke-linecap:butt; stroke-linejoin:round; stroke-width:4; stroke-opacity:1; fill:none\" points=\"\n",
       "  1259.19,1486.45 1259.19,1467.55 \n",
       "  \"/>\n",
       "<polyline clip-path=\"url(#clip400)\" style=\"stroke:#000000; stroke-linecap:butt; stroke-linejoin:round; stroke-width:4; stroke-opacity:1; fill:none\" points=\"\n",
       "  1775.32,1486.45 1775.32,1467.55 \n",
       "  \"/>\n",
       "<polyline clip-path=\"url(#clip400)\" style=\"stroke:#000000; stroke-linecap:butt; stroke-linejoin:round; stroke-width:4; stroke-opacity:1; fill:none\" points=\"\n",
       "  2291.44,1486.45 2291.44,1467.55 \n",
       "  \"/>\n",
       "<path clip-path=\"url(#clip400)\" d=\"M226.945 1517.37 Q223.333 1517.37 221.505 1520.93 Q219.699 1524.47 219.699 1531.6 Q219.699 1538.71 221.505 1542.27 Q223.333 1545.82 226.945 1545.82 Q230.579 1545.82 232.384 1542.27 Q234.213 1538.71 234.213 1531.6 Q234.213 1524.47 232.384 1520.93 Q230.579 1517.37 226.945 1517.37 M226.945 1513.66 Q232.755 1513.66 235.81 1518.27 Q238.889 1522.85 238.889 1531.6 Q238.889 1540.33 235.81 1544.94 Q232.755 1549.52 226.945 1549.52 Q221.134 1549.52 218.056 1544.94 Q215 1540.33 215 1531.6 Q215 1522.85 218.056 1518.27 Q221.134 1513.66 226.945 1513.66 Z\" fill=\"#000000\" fill-rule=\"evenodd\" fill-opacity=\"1\" /><path clip-path=\"url(#clip400)\" d=\"M722.339 1544.91 L738.659 1544.91 L738.659 1548.85 L716.714 1548.85 L716.714 1544.91 Q719.377 1542.16 723.96 1537.53 Q728.566 1532.88 729.747 1531.53 Q731.992 1529.01 732.872 1527.27 Q733.775 1525.51 733.775 1523.82 Q733.775 1521.07 731.83 1519.33 Q729.909 1517.6 726.807 1517.6 Q724.608 1517.6 722.154 1518.36 Q719.724 1519.13 716.946 1520.68 L716.946 1515.95 Q719.77 1514.82 722.224 1514.24 Q724.677 1513.66 726.714 1513.66 Q732.085 1513.66 735.279 1516.35 Q738.474 1519.03 738.474 1523.52 Q738.474 1525.65 737.663 1527.57 Q736.876 1529.47 734.77 1532.07 Q734.191 1532.74 731.089 1535.95 Q727.988 1539.15 722.339 1544.91 Z\" fill=\"#000000\" fill-rule=\"evenodd\" fill-opacity=\"1\" /><path clip-path=\"url(#clip400)\" d=\"M748.52 1514.29 L766.876 1514.29 L766.876 1518.22 L752.802 1518.22 L752.802 1526.7 Q753.821 1526.35 754.839 1526.19 Q755.858 1526 756.876 1526 Q762.663 1526 766.043 1529.17 Q769.423 1532.34 769.423 1537.76 Q769.423 1543.34 765.95 1546.44 Q762.478 1549.52 756.159 1549.52 Q753.983 1549.52 751.714 1549.15 Q749.469 1548.78 747.062 1548.04 L747.062 1543.34 Q749.145 1544.47 751.367 1545.03 Q753.589 1545.58 756.066 1545.58 Q760.071 1545.58 762.409 1543.48 Q764.747 1541.37 764.747 1537.76 Q764.747 1534.15 762.409 1532.04 Q760.071 1529.94 756.066 1529.94 Q754.191 1529.94 752.316 1530.35 Q750.464 1530.77 748.52 1531.65 L748.52 1514.29 Z\" fill=\"#000000\" fill-rule=\"evenodd\" fill-opacity=\"1\" /><path clip-path=\"url(#clip400)\" d=\"M1233.89 1514.29 L1252.25 1514.29 L1252.25 1518.22 L1238.17 1518.22 L1238.17 1526.7 Q1239.19 1526.35 1240.21 1526.19 Q1241.23 1526 1242.25 1526 Q1248.04 1526 1251.41 1529.17 Q1254.79 1532.34 1254.79 1537.76 Q1254.79 1543.34 1251.32 1546.44 Q1247.85 1549.52 1241.53 1549.52 Q1239.35 1549.52 1237.09 1549.15 Q1234.84 1548.78 1232.43 1548.04 L1232.43 1543.34 Q1234.52 1544.47 1236.74 1545.03 Q1238.96 1545.58 1241.44 1545.58 Q1245.44 1545.58 1247.78 1543.48 Q1250.12 1541.37 1250.12 1537.76 Q1250.12 1534.15 1247.78 1532.04 Q1245.44 1529.94 1241.44 1529.94 Q1239.56 1529.94 1237.69 1530.35 Q1235.84 1530.77 1233.89 1531.65 L1233.89 1514.29 Z\" fill=\"#000000\" fill-rule=\"evenodd\" fill-opacity=\"1\" /><path clip-path=\"url(#clip400)\" d=\"M1274.01 1517.37 Q1270.4 1517.37 1268.57 1520.93 Q1266.76 1524.47 1266.76 1531.6 Q1266.76 1538.71 1268.57 1542.27 Q1270.4 1545.82 1274.01 1545.82 Q1277.64 1545.82 1279.45 1542.27 Q1281.28 1538.71 1281.28 1531.6 Q1281.28 1524.47 1279.45 1520.93 Q1277.64 1517.37 1274.01 1517.37 M1274.01 1513.66 Q1279.82 1513.66 1282.87 1518.27 Q1285.95 1522.85 1285.95 1531.6 Q1285.95 1540.33 1282.87 1544.94 Q1279.82 1549.52 1274.01 1549.52 Q1268.2 1549.52 1265.12 1544.94 Q1262.06 1540.33 1262.06 1531.6 Q1262.06 1522.85 1265.12 1518.27 Q1268.2 1513.66 1274.01 1513.66 Z\" fill=\"#000000\" fill-rule=\"evenodd\" fill-opacity=\"1\" /><path clip-path=\"url(#clip400)\" d=\"M1749.17 1514.29 L1771.39 1514.29 L1771.39 1516.28 L1758.85 1548.85 L1753.96 1548.85 L1765.77 1518.22 L1749.17 1518.22 L1749.17 1514.29 Z\" fill=\"#000000\" fill-rule=\"evenodd\" fill-opacity=\"1\" /><path clip-path=\"url(#clip400)\" d=\"M1780.56 1514.29 L1798.92 1514.29 L1798.92 1518.22 L1784.84 1518.22 L1784.84 1526.7 Q1785.86 1526.35 1786.88 1526.19 Q1787.9 1526 1788.92 1526 Q1794.7 1526 1798.08 1529.17 Q1801.46 1532.34 1801.46 1537.76 Q1801.46 1543.34 1797.99 1546.44 Q1794.52 1549.52 1788.2 1549.52 Q1786.02 1549.52 1783.75 1549.15 Q1781.51 1548.78 1779.1 1548.04 L1779.1 1543.34 Q1781.18 1544.47 1783.41 1545.03 Q1785.63 1545.58 1788.11 1545.58 Q1792.11 1545.58 1794.45 1543.48 Q1796.79 1541.37 1796.79 1537.76 Q1796.79 1534.15 1794.45 1532.04 Q1792.11 1529.94 1788.11 1529.94 Q1786.23 1529.94 1784.36 1530.35 Q1782.5 1530.77 1780.56 1531.65 L1780.56 1514.29 Z\" fill=\"#000000\" fill-rule=\"evenodd\" fill-opacity=\"1\" /><path clip-path=\"url(#clip400)\" d=\"M2251.05 1544.91 L2258.69 1544.91 L2258.69 1518.55 L2250.38 1520.21 L2250.38 1515.95 L2258.64 1514.29 L2263.32 1514.29 L2263.32 1544.91 L2270.95 1544.91 L2270.95 1548.85 L2251.05 1548.85 L2251.05 1544.91 Z\" fill=\"#000000\" fill-rule=\"evenodd\" fill-opacity=\"1\" /><path clip-path=\"url(#clip400)\" d=\"M2290.4 1517.37 Q2286.79 1517.37 2284.96 1520.93 Q2283.15 1524.47 2283.15 1531.6 Q2283.15 1538.71 2284.96 1542.27 Q2286.79 1545.82 2290.4 1545.82 Q2294.03 1545.82 2295.84 1542.27 Q2297.67 1538.71 2297.67 1531.6 Q2297.67 1524.47 2295.84 1520.93 Q2294.03 1517.37 2290.4 1517.37 M2290.4 1513.66 Q2296.21 1513.66 2299.26 1518.27 Q2302.34 1522.85 2302.34 1531.6 Q2302.34 1540.33 2299.26 1544.94 Q2296.21 1549.52 2290.4 1549.52 Q2284.59 1549.52 2281.51 1544.94 Q2278.45 1540.33 2278.45 1531.6 Q2278.45 1522.85 2281.51 1518.27 Q2284.59 1513.66 2290.4 1513.66 Z\" fill=\"#000000\" fill-rule=\"evenodd\" fill-opacity=\"1\" /><path clip-path=\"url(#clip400)\" d=\"M2320.56 1517.37 Q2316.95 1517.37 2315.12 1520.93 Q2313.32 1524.47 2313.32 1531.6 Q2313.32 1538.71 2315.12 1542.27 Q2316.95 1545.82 2320.56 1545.82 Q2324.19 1545.82 2326 1542.27 Q2327.83 1538.71 2327.83 1531.6 Q2327.83 1524.47 2326 1520.93 Q2324.19 1517.37 2320.56 1517.37 M2320.56 1513.66 Q2326.37 1513.66 2329.43 1518.27 Q2332.5 1522.85 2332.5 1531.6 Q2332.5 1540.33 2329.43 1544.94 Q2326.37 1549.52 2320.56 1549.52 Q2314.75 1549.52 2311.67 1544.94 Q2308.62 1540.33 2308.62 1531.6 Q2308.62 1522.85 2311.67 1518.27 Q2314.75 1513.66 2320.56 1513.66 Z\" fill=\"#000000\" fill-rule=\"evenodd\" fill-opacity=\"1\" /><polyline clip-path=\"url(#clip402)\" style=\"stroke:#000000; stroke-linecap:butt; stroke-linejoin:round; stroke-width:2; stroke-opacity:0.1; fill:none\" points=\"\n",
       "  186.274,1445.72 2352.76,1445.72 \n",
       "  \"/>\n",
       "<polyline clip-path=\"url(#clip402)\" style=\"stroke:#000000; stroke-linecap:butt; stroke-linejoin:round; stroke-width:2; stroke-opacity:0.1; fill:none\" points=\"\n",
       "  186.274,1106.28 2352.76,1106.28 \n",
       "  \"/>\n",
       "<polyline clip-path=\"url(#clip402)\" style=\"stroke:#000000; stroke-linecap:butt; stroke-linejoin:round; stroke-width:2; stroke-opacity:0.1; fill:none\" points=\"\n",
       "  186.274,766.846 2352.76,766.846 \n",
       "  \"/>\n",
       "<polyline clip-path=\"url(#clip402)\" style=\"stroke:#000000; stroke-linecap:butt; stroke-linejoin:round; stroke-width:2; stroke-opacity:0.1; fill:none\" points=\"\n",
       "  186.274,427.411 2352.76,427.411 \n",
       "  \"/>\n",
       "<polyline clip-path=\"url(#clip402)\" style=\"stroke:#000000; stroke-linecap:butt; stroke-linejoin:round; stroke-width:2; stroke-opacity:0.1; fill:none\" points=\"\n",
       "  186.274,87.9763 2352.76,87.9763 \n",
       "  \"/>\n",
       "<polyline clip-path=\"url(#clip400)\" style=\"stroke:#000000; stroke-linecap:butt; stroke-linejoin:round; stroke-width:4; stroke-opacity:1; fill:none\" points=\"\n",
       "  186.274,1486.45 186.274,47.2441 \n",
       "  \"/>\n",
       "<polyline clip-path=\"url(#clip400)\" style=\"stroke:#000000; stroke-linecap:butt; stroke-linejoin:round; stroke-width:4; stroke-opacity:1; fill:none\" points=\"\n",
       "  186.274,1445.72 205.172,1445.72 \n",
       "  \"/>\n",
       "<polyline clip-path=\"url(#clip400)\" style=\"stroke:#000000; stroke-linecap:butt; stroke-linejoin:round; stroke-width:4; stroke-opacity:1; fill:none\" points=\"\n",
       "  186.274,1106.28 205.172,1106.28 \n",
       "  \"/>\n",
       "<polyline clip-path=\"url(#clip400)\" style=\"stroke:#000000; stroke-linecap:butt; stroke-linejoin:round; stroke-width:4; stroke-opacity:1; fill:none\" points=\"\n",
       "  186.274,766.846 205.172,766.846 \n",
       "  \"/>\n",
       "<polyline clip-path=\"url(#clip400)\" style=\"stroke:#000000; stroke-linecap:butt; stroke-linejoin:round; stroke-width:4; stroke-opacity:1; fill:none\" points=\"\n",
       "  186.274,427.411 205.172,427.411 \n",
       "  \"/>\n",
       "<polyline clip-path=\"url(#clip400)\" style=\"stroke:#000000; stroke-linecap:butt; stroke-linejoin:round; stroke-width:4; stroke-opacity:1; fill:none\" points=\"\n",
       "  186.274,87.9763 205.172,87.9763 \n",
       "  \"/>\n",
       "<path clip-path=\"url(#clip400)\" d=\"M62.9365 1431.51 Q59.3254 1431.51 57.4967 1435.08 Q55.6912 1438.62 55.6912 1445.75 Q55.6912 1452.86 57.4967 1456.42 Q59.3254 1459.96 62.9365 1459.96 Q66.5707 1459.96 68.3763 1456.42 Q70.205 1452.86 70.205 1445.75 Q70.205 1438.62 68.3763 1435.08 Q66.5707 1431.51 62.9365 1431.51 M62.9365 1427.81 Q68.7467 1427.81 71.8022 1432.42 Q74.8809 1437 74.8809 1445.75 Q74.8809 1454.48 71.8022 1459.08 Q68.7467 1463.67 62.9365 1463.67 Q57.1264 1463.67 54.0477 1459.08 Q50.9921 1454.48 50.9921 1445.75 Q50.9921 1437 54.0477 1432.42 Q57.1264 1427.81 62.9365 1427.81 Z\" fill=\"#000000\" fill-rule=\"evenodd\" fill-opacity=\"1\" /><path clip-path=\"url(#clip400)\" d=\"M83.0984 1457.12 L87.9827 1457.12 L87.9827 1463 L83.0984 1463 L83.0984 1457.12 Z\" fill=\"#000000\" fill-rule=\"evenodd\" fill-opacity=\"1\" /><path clip-path=\"url(#clip400)\" d=\"M108.168 1431.51 Q104.557 1431.51 102.728 1435.08 Q100.922 1438.62 100.922 1445.75 Q100.922 1452.86 102.728 1456.42 Q104.557 1459.96 108.168 1459.96 Q111.802 1459.96 113.608 1456.42 Q115.436 1452.86 115.436 1445.75 Q115.436 1438.62 113.608 1435.08 Q111.802 1431.51 108.168 1431.51 M108.168 1427.81 Q113.978 1427.81 117.033 1432.42 Q120.112 1437 120.112 1445.75 Q120.112 1454.48 117.033 1459.08 Q113.978 1463.67 108.168 1463.67 Q102.358 1463.67 99.2789 1459.08 Q96.2234 1454.48 96.2234 1445.75 Q96.2234 1437 99.2789 1432.42 Q102.358 1427.81 108.168 1427.81 Z\" fill=\"#000000\" fill-rule=\"evenodd\" fill-opacity=\"1\" /><path clip-path=\"url(#clip400)\" d=\"M138.33 1431.51 Q134.719 1431.51 132.89 1435.08 Q131.084 1438.62 131.084 1445.75 Q131.084 1452.86 132.89 1456.42 Q134.719 1459.96 138.33 1459.96 Q141.964 1459.96 143.769 1456.42 Q145.598 1452.86 145.598 1445.75 Q145.598 1438.62 143.769 1435.08 Q141.964 1431.51 138.33 1431.51 M138.33 1427.81 Q144.14 1427.81 147.195 1432.42 Q150.274 1437 150.274 1445.75 Q150.274 1454.48 147.195 1459.08 Q144.14 1463.67 138.33 1463.67 Q132.519 1463.67 129.441 1459.08 Q126.385 1454.48 126.385 1445.75 Q126.385 1437 129.441 1432.42 Q132.519 1427.81 138.33 1427.81 Z\" fill=\"#000000\" fill-rule=\"evenodd\" fill-opacity=\"1\" /><path clip-path=\"url(#clip400)\" d=\"M63.9319 1092.08 Q60.3208 1092.08 58.4921 1095.64 Q56.6865 1099.19 56.6865 1106.32 Q56.6865 1113.42 58.4921 1116.99 Q60.3208 1120.53 63.9319 1120.53 Q67.5661 1120.53 69.3717 1116.99 Q71.2004 1113.42 71.2004 1106.32 Q71.2004 1099.19 69.3717 1095.64 Q67.5661 1092.08 63.9319 1092.08 M63.9319 1088.38 Q69.742 1088.38 72.7976 1092.98 Q75.8763 1097.57 75.8763 1106.32 Q75.8763 1115.04 72.7976 1119.65 Q69.742 1124.23 63.9319 1124.23 Q58.1217 1124.23 55.043 1119.65 Q51.9875 1115.04 51.9875 1106.32 Q51.9875 1097.57 55.043 1092.98 Q58.1217 1088.38 63.9319 1088.38 Z\" fill=\"#000000\" fill-rule=\"evenodd\" fill-opacity=\"1\" /><path clip-path=\"url(#clip400)\" d=\"M84.0938 1117.68 L88.978 1117.68 L88.978 1123.56 L84.0938 1123.56 L84.0938 1117.68 Z\" fill=\"#000000\" fill-rule=\"evenodd\" fill-opacity=\"1\" /><path clip-path=\"url(#clip400)\" d=\"M103.191 1119.63 L119.51 1119.63 L119.51 1123.56 L97.566 1123.56 L97.566 1119.63 Q100.228 1116.87 104.811 1112.24 Q109.418 1107.59 110.598 1106.25 Q112.844 1103.72 113.723 1101.99 Q114.626 1100.23 114.626 1098.54 Q114.626 1095.78 112.682 1094.05 Q110.76 1092.31 107.658 1092.31 Q105.459 1092.31 103.006 1093.07 Q100.575 1093.84 97.7974 1095.39 L97.7974 1090.67 Q100.621 1089.53 103.075 1088.95 Q105.529 1088.38 107.566 1088.38 Q112.936 1088.38 116.131 1091.06 Q119.325 1093.75 119.325 1098.24 Q119.325 1100.37 118.515 1102.29 Q117.728 1104.19 115.621 1106.78 Q115.043 1107.45 111.941 1110.67 Q108.839 1113.86 103.191 1119.63 Z\" fill=\"#000000\" fill-rule=\"evenodd\" fill-opacity=\"1\" /><path clip-path=\"url(#clip400)\" d=\"M129.371 1089 L147.728 1089 L147.728 1092.94 L133.654 1092.94 L133.654 1101.41 Q134.672 1101.06 135.691 1100.9 Q136.709 1100.71 137.728 1100.71 Q143.515 1100.71 146.894 1103.89 Q150.274 1107.06 150.274 1112.47 Q150.274 1118.05 146.802 1121.15 Q143.33 1124.23 137.01 1124.23 Q134.834 1124.23 132.566 1123.86 Q130.32 1123.49 127.913 1122.75 L127.913 1118.05 Q129.996 1119.19 132.219 1119.74 Q134.441 1120.3 136.918 1120.3 Q140.922 1120.3 143.26 1118.19 Q145.598 1116.08 145.598 1112.47 Q145.598 1108.86 143.26 1106.76 Q140.922 1104.65 136.918 1104.65 Q135.043 1104.65 133.168 1105.07 Q131.316 1105.48 129.371 1106.36 L129.371 1089 Z\" fill=\"#000000\" fill-rule=\"evenodd\" fill-opacity=\"1\" /><path clip-path=\"url(#clip400)\" d=\"M62.9365 752.645 Q59.3254 752.645 57.4967 756.209 Q55.6912 759.751 55.6912 766.881 Q55.6912 773.987 57.4967 777.552 Q59.3254 781.094 62.9365 781.094 Q66.5707 781.094 68.3763 777.552 Q70.205 773.987 70.205 766.881 Q70.205 759.751 68.3763 756.209 Q66.5707 752.645 62.9365 752.645 M62.9365 748.941 Q68.7467 748.941 71.8022 753.547 Q74.8809 758.131 74.8809 766.881 Q74.8809 775.608 71.8022 780.214 Q68.7467 784.797 62.9365 784.797 Q57.1264 784.797 54.0477 780.214 Q50.9921 775.608 50.9921 766.881 Q50.9921 758.131 54.0477 753.547 Q57.1264 748.941 62.9365 748.941 Z\" fill=\"#000000\" fill-rule=\"evenodd\" fill-opacity=\"1\" /><path clip-path=\"url(#clip400)\" d=\"M83.0984 778.246 L87.9827 778.246 L87.9827 784.126 L83.0984 784.126 L83.0984 778.246 Z\" fill=\"#000000\" fill-rule=\"evenodd\" fill-opacity=\"1\" /><path clip-path=\"url(#clip400)\" d=\"M98.2141 749.566 L116.57 749.566 L116.57 753.501 L102.496 753.501 L102.496 761.973 Q103.515 761.626 104.534 761.464 Q105.552 761.279 106.571 761.279 Q112.358 761.279 115.737 764.45 Q119.117 767.621 119.117 773.038 Q119.117 778.617 115.645 781.719 Q112.172 784.797 105.853 784.797 Q103.677 784.797 101.409 784.427 Q99.1632 784.057 96.7558 783.316 L96.7558 778.617 Q98.8391 779.751 101.061 780.307 Q103.284 780.862 105.76 780.862 Q109.765 780.862 112.103 778.756 Q114.441 776.649 114.441 773.038 Q114.441 769.427 112.103 767.321 Q109.765 765.214 105.76 765.214 Q103.885 765.214 102.01 765.631 Q100.159 766.047 98.2141 766.927 L98.2141 749.566 Z\" fill=\"#000000\" fill-rule=\"evenodd\" fill-opacity=\"1\" /><path clip-path=\"url(#clip400)\" d=\"M138.33 752.645 Q134.719 752.645 132.89 756.209 Q131.084 759.751 131.084 766.881 Q131.084 773.987 132.89 777.552 Q134.719 781.094 138.33 781.094 Q141.964 781.094 143.769 777.552 Q145.598 773.987 145.598 766.881 Q145.598 759.751 143.769 756.209 Q141.964 752.645 138.33 752.645 M138.33 748.941 Q144.14 748.941 147.195 753.547 Q150.274 758.131 150.274 766.881 Q150.274 775.608 147.195 780.214 Q144.14 784.797 138.33 784.797 Q132.519 784.797 129.441 780.214 Q126.385 775.608 126.385 766.881 Q126.385 758.131 129.441 753.547 Q132.519 748.941 138.33 748.941 Z\" fill=\"#000000\" fill-rule=\"evenodd\" fill-opacity=\"1\" /><path clip-path=\"url(#clip400)\" d=\"M63.9319 413.21 Q60.3208 413.21 58.4921 416.775 Q56.6865 420.316 56.6865 427.446 Q56.6865 434.552 58.4921 438.117 Q60.3208 441.659 63.9319 441.659 Q67.5661 441.659 69.3717 438.117 Q71.2004 434.552 71.2004 427.446 Q71.2004 420.316 69.3717 416.775 Q67.5661 413.21 63.9319 413.21 M63.9319 409.506 Q69.742 409.506 72.7976 414.113 Q75.8763 418.696 75.8763 427.446 Q75.8763 436.173 72.7976 440.779 Q69.742 445.362 63.9319 445.362 Q58.1217 445.362 55.043 440.779 Q51.9875 436.173 51.9875 427.446 Q51.9875 418.696 55.043 414.113 Q58.1217 409.506 63.9319 409.506 Z\" fill=\"#000000\" fill-rule=\"evenodd\" fill-opacity=\"1\" /><path clip-path=\"url(#clip400)\" d=\"M84.0938 438.812 L88.978 438.812 L88.978 444.691 L84.0938 444.691 L84.0938 438.812 Z\" fill=\"#000000\" fill-rule=\"evenodd\" fill-opacity=\"1\" /><path clip-path=\"url(#clip400)\" d=\"M97.9826 410.131 L120.205 410.131 L120.205 412.122 L107.658 444.691 L102.774 444.691 L114.58 414.066 L97.9826 414.066 L97.9826 410.131 Z\" fill=\"#000000\" fill-rule=\"evenodd\" fill-opacity=\"1\" /><path clip-path=\"url(#clip400)\" d=\"M129.371 410.131 L147.728 410.131 L147.728 414.066 L133.654 414.066 L133.654 422.538 Q134.672 422.191 135.691 422.029 Q136.709 421.844 137.728 421.844 Q143.515 421.844 146.894 425.015 Q150.274 428.187 150.274 433.603 Q150.274 439.182 146.802 442.284 Q143.33 445.362 137.01 445.362 Q134.834 445.362 132.566 444.992 Q130.32 444.622 127.913 443.881 L127.913 439.182 Q129.996 440.316 132.219 440.872 Q134.441 441.427 136.918 441.427 Q140.922 441.427 143.26 439.321 Q145.598 437.214 145.598 433.603 Q145.598 429.992 143.26 427.886 Q140.922 425.779 136.918 425.779 Q135.043 425.779 133.168 426.196 Q131.316 426.613 129.371 427.492 L129.371 410.131 Z\" fill=\"#000000\" fill-rule=\"evenodd\" fill-opacity=\"1\" /><path clip-path=\"url(#clip400)\" d=\"M53.7467 101.321 L61.3856 101.321 L61.3856 74.9555 L53.0754 76.6222 L53.0754 72.3629 L61.3393 70.6963 L66.0152 70.6963 L66.0152 101.321 L73.654 101.321 L73.654 105.256 L53.7467 105.256 L53.7467 101.321 Z\" fill=\"#000000\" fill-rule=\"evenodd\" fill-opacity=\"1\" /><path clip-path=\"url(#clip400)\" d=\"M83.0984 99.3767 L87.9827 99.3767 L87.9827 105.256 L83.0984 105.256 L83.0984 99.3767 Z\" fill=\"#000000\" fill-rule=\"evenodd\" fill-opacity=\"1\" /><path clip-path=\"url(#clip400)\" d=\"M108.168 73.775 Q104.557 73.775 102.728 77.3398 Q100.922 80.8814 100.922 88.011 Q100.922 95.1174 102.728 98.6822 Q104.557 102.224 108.168 102.224 Q111.802 102.224 113.608 98.6822 Q115.436 95.1174 115.436 88.011 Q115.436 80.8814 113.608 77.3398 Q111.802 73.775 108.168 73.775 M108.168 70.0713 Q113.978 70.0713 117.033 74.6777 Q120.112 79.261 120.112 88.011 Q120.112 96.7378 117.033 101.344 Q113.978 105.928 108.168 105.928 Q102.358 105.928 99.2789 101.344 Q96.2234 96.7378 96.2234 88.011 Q96.2234 79.261 99.2789 74.6777 Q102.358 70.0713 108.168 70.0713 Z\" fill=\"#000000\" fill-rule=\"evenodd\" fill-opacity=\"1\" /><path clip-path=\"url(#clip400)\" d=\"M138.33 73.775 Q134.719 73.775 132.89 77.3398 Q131.084 80.8814 131.084 88.011 Q131.084 95.1174 132.89 98.6822 Q134.719 102.224 138.33 102.224 Q141.964 102.224 143.769 98.6822 Q145.598 95.1174 145.598 88.011 Q145.598 80.8814 143.769 77.3398 Q141.964 73.775 138.33 73.775 M138.33 70.0713 Q144.14 70.0713 147.195 74.6777 Q150.274 79.261 150.274 88.011 Q150.274 96.7378 147.195 101.344 Q144.14 105.928 138.33 105.928 Q132.519 105.928 129.441 101.344 Q126.385 96.7378 126.385 88.011 Q126.385 79.261 129.441 74.6777 Q132.519 70.0713 138.33 70.0713 Z\" fill=\"#000000\" fill-rule=\"evenodd\" fill-opacity=\"1\" /><circle clip-path=\"url(#clip402)\" cx=\"247.59\" cy=\"1445.72\" r=\"14\" fill=\"#009af9\" fill-rule=\"evenodd\" fill-opacity=\"1\" stroke=\"#000000\" stroke-opacity=\"1\" stroke-width=\"3.2\"/>\n",
       "<circle clip-path=\"url(#clip402)\" cx=\"268.234\" cy=\"1445.72\" r=\"14\" fill=\"#009af9\" fill-rule=\"evenodd\" fill-opacity=\"1\" stroke=\"#000000\" stroke-opacity=\"1\" stroke-width=\"3.2\"/>\n",
       "<circle clip-path=\"url(#clip402)\" cx=\"288.879\" cy=\"1445.72\" r=\"14\" fill=\"#009af9\" fill-rule=\"evenodd\" fill-opacity=\"1\" stroke=\"#000000\" stroke-opacity=\"1\" stroke-width=\"3.2\"/>\n",
       "<circle clip-path=\"url(#clip402)\" cx=\"309.524\" cy=\"1445.72\" r=\"14\" fill=\"#009af9\" fill-rule=\"evenodd\" fill-opacity=\"1\" stroke=\"#000000\" stroke-opacity=\"1\" stroke-width=\"3.2\"/>\n",
       "<circle clip-path=\"url(#clip402)\" cx=\"330.169\" cy=\"1445.72\" r=\"14\" fill=\"#009af9\" fill-rule=\"evenodd\" fill-opacity=\"1\" stroke=\"#000000\" stroke-opacity=\"1\" stroke-width=\"3.2\"/>\n",
       "<circle clip-path=\"url(#clip402)\" cx=\"350.814\" cy=\"87.9763\" r=\"14\" fill=\"#009af9\" fill-rule=\"evenodd\" fill-opacity=\"1\" stroke=\"#000000\" stroke-opacity=\"1\" stroke-width=\"3.2\"/>\n",
       "<circle clip-path=\"url(#clip402)\" cx=\"371.459\" cy=\"1445.72\" r=\"14\" fill=\"#009af9\" fill-rule=\"evenodd\" fill-opacity=\"1\" stroke=\"#000000\" stroke-opacity=\"1\" stroke-width=\"3.2\"/>\n",
       "<circle clip-path=\"url(#clip402)\" cx=\"392.104\" cy=\"1445.72\" r=\"14\" fill=\"#009af9\" fill-rule=\"evenodd\" fill-opacity=\"1\" stroke=\"#000000\" stroke-opacity=\"1\" stroke-width=\"3.2\"/>\n",
       "<circle clip-path=\"url(#clip402)\" cx=\"412.749\" cy=\"1445.72\" r=\"14\" fill=\"#009af9\" fill-rule=\"evenodd\" fill-opacity=\"1\" stroke=\"#000000\" stroke-opacity=\"1\" stroke-width=\"3.2\"/>\n",
       "<circle clip-path=\"url(#clip402)\" cx=\"433.394\" cy=\"1445.72\" r=\"14\" fill=\"#009af9\" fill-rule=\"evenodd\" fill-opacity=\"1\" stroke=\"#000000\" stroke-opacity=\"1\" stroke-width=\"3.2\"/>\n",
       "<circle clip-path=\"url(#clip402)\" cx=\"454.039\" cy=\"1445.72\" r=\"14\" fill=\"#009af9\" fill-rule=\"evenodd\" fill-opacity=\"1\" stroke=\"#000000\" stroke-opacity=\"1\" stroke-width=\"3.2\"/>\n",
       "<circle clip-path=\"url(#clip402)\" cx=\"474.684\" cy=\"87.9763\" r=\"14\" fill=\"#009af9\" fill-rule=\"evenodd\" fill-opacity=\"1\" stroke=\"#000000\" stroke-opacity=\"1\" stroke-width=\"3.2\"/>\n",
       "<circle clip-path=\"url(#clip402)\" cx=\"495.329\" cy=\"1445.72\" r=\"14\" fill=\"#009af9\" fill-rule=\"evenodd\" fill-opacity=\"1\" stroke=\"#000000\" stroke-opacity=\"1\" stroke-width=\"3.2\"/>\n",
       "<circle clip-path=\"url(#clip402)\" cx=\"515.974\" cy=\"87.9763\" r=\"14\" fill=\"#009af9\" fill-rule=\"evenodd\" fill-opacity=\"1\" stroke=\"#000000\" stroke-opacity=\"1\" stroke-width=\"3.2\"/>\n",
       "<circle clip-path=\"url(#clip402)\" cx=\"536.619\" cy=\"1445.72\" r=\"14\" fill=\"#009af9\" fill-rule=\"evenodd\" fill-opacity=\"1\" stroke=\"#000000\" stroke-opacity=\"1\" stroke-width=\"3.2\"/>\n",
       "<circle clip-path=\"url(#clip402)\" cx=\"557.264\" cy=\"1445.72\" r=\"14\" fill=\"#009af9\" fill-rule=\"evenodd\" fill-opacity=\"1\" stroke=\"#000000\" stroke-opacity=\"1\" stroke-width=\"3.2\"/>\n",
       "<circle clip-path=\"url(#clip402)\" cx=\"577.909\" cy=\"1445.72\" r=\"14\" fill=\"#009af9\" fill-rule=\"evenodd\" fill-opacity=\"1\" stroke=\"#000000\" stroke-opacity=\"1\" stroke-width=\"3.2\"/>\n",
       "<circle clip-path=\"url(#clip402)\" cx=\"598.554\" cy=\"1445.72\" r=\"14\" fill=\"#009af9\" fill-rule=\"evenodd\" fill-opacity=\"1\" stroke=\"#000000\" stroke-opacity=\"1\" stroke-width=\"3.2\"/>\n",
       "<circle clip-path=\"url(#clip402)\" cx=\"619.199\" cy=\"1445.72\" r=\"14\" fill=\"#009af9\" fill-rule=\"evenodd\" fill-opacity=\"1\" stroke=\"#000000\" stroke-opacity=\"1\" stroke-width=\"3.2\"/>\n",
       "<circle clip-path=\"url(#clip402)\" cx=\"639.844\" cy=\"1445.72\" r=\"14\" fill=\"#009af9\" fill-rule=\"evenodd\" fill-opacity=\"1\" stroke=\"#000000\" stroke-opacity=\"1\" stroke-width=\"3.2\"/>\n",
       "<circle clip-path=\"url(#clip402)\" cx=\"660.489\" cy=\"1445.72\" r=\"14\" fill=\"#009af9\" fill-rule=\"evenodd\" fill-opacity=\"1\" stroke=\"#000000\" stroke-opacity=\"1\" stroke-width=\"3.2\"/>\n",
       "<circle clip-path=\"url(#clip402)\" cx=\"681.134\" cy=\"1445.72\" r=\"14\" fill=\"#009af9\" fill-rule=\"evenodd\" fill-opacity=\"1\" stroke=\"#000000\" stroke-opacity=\"1\" stroke-width=\"3.2\"/>\n",
       "<circle clip-path=\"url(#clip402)\" cx=\"701.779\" cy=\"1445.72\" r=\"14\" fill=\"#009af9\" fill-rule=\"evenodd\" fill-opacity=\"1\" stroke=\"#000000\" stroke-opacity=\"1\" stroke-width=\"3.2\"/>\n",
       "<circle clip-path=\"url(#clip402)\" cx=\"722.424\" cy=\"1445.72\" r=\"14\" fill=\"#009af9\" fill-rule=\"evenodd\" fill-opacity=\"1\" stroke=\"#000000\" stroke-opacity=\"1\" stroke-width=\"3.2\"/>\n",
       "<circle clip-path=\"url(#clip402)\" cx=\"743.069\" cy=\"1445.72\" r=\"14\" fill=\"#009af9\" fill-rule=\"evenodd\" fill-opacity=\"1\" stroke=\"#000000\" stroke-opacity=\"1\" stroke-width=\"3.2\"/>\n",
       "<circle clip-path=\"url(#clip402)\" cx=\"763.713\" cy=\"1445.72\" r=\"14\" fill=\"#009af9\" fill-rule=\"evenodd\" fill-opacity=\"1\" stroke=\"#000000\" stroke-opacity=\"1\" stroke-width=\"3.2\"/>\n",
       "<circle clip-path=\"url(#clip402)\" cx=\"784.358\" cy=\"1445.72\" r=\"14\" fill=\"#009af9\" fill-rule=\"evenodd\" fill-opacity=\"1\" stroke=\"#000000\" stroke-opacity=\"1\" stroke-width=\"3.2\"/>\n",
       "<circle clip-path=\"url(#clip402)\" cx=\"805.003\" cy=\"1445.72\" r=\"14\" fill=\"#009af9\" fill-rule=\"evenodd\" fill-opacity=\"1\" stroke=\"#000000\" stroke-opacity=\"1\" stroke-width=\"3.2\"/>\n",
       "<circle clip-path=\"url(#clip402)\" cx=\"825.648\" cy=\"87.9763\" r=\"14\" fill=\"#009af9\" fill-rule=\"evenodd\" fill-opacity=\"1\" stroke=\"#000000\" stroke-opacity=\"1\" stroke-width=\"3.2\"/>\n",
       "<circle clip-path=\"url(#clip402)\" cx=\"846.293\" cy=\"1445.72\" r=\"14\" fill=\"#009af9\" fill-rule=\"evenodd\" fill-opacity=\"1\" stroke=\"#000000\" stroke-opacity=\"1\" stroke-width=\"3.2\"/>\n",
       "<circle clip-path=\"url(#clip402)\" cx=\"866.938\" cy=\"1445.72\" r=\"14\" fill=\"#009af9\" fill-rule=\"evenodd\" fill-opacity=\"1\" stroke=\"#000000\" stroke-opacity=\"1\" stroke-width=\"3.2\"/>\n",
       "<circle clip-path=\"url(#clip402)\" cx=\"887.583\" cy=\"87.9763\" r=\"14\" fill=\"#009af9\" fill-rule=\"evenodd\" fill-opacity=\"1\" stroke=\"#000000\" stroke-opacity=\"1\" stroke-width=\"3.2\"/>\n",
       "<circle clip-path=\"url(#clip402)\" cx=\"908.228\" cy=\"87.9763\" r=\"14\" fill=\"#009af9\" fill-rule=\"evenodd\" fill-opacity=\"1\" stroke=\"#000000\" stroke-opacity=\"1\" stroke-width=\"3.2\"/>\n",
       "<circle clip-path=\"url(#clip402)\" cx=\"928.873\" cy=\"1445.72\" r=\"14\" fill=\"#009af9\" fill-rule=\"evenodd\" fill-opacity=\"1\" stroke=\"#000000\" stroke-opacity=\"1\" stroke-width=\"3.2\"/>\n",
       "<circle clip-path=\"url(#clip402)\" cx=\"949.518\" cy=\"87.9763\" r=\"14\" fill=\"#009af9\" fill-rule=\"evenodd\" fill-opacity=\"1\" stroke=\"#000000\" stroke-opacity=\"1\" stroke-width=\"3.2\"/>\n",
       "<circle clip-path=\"url(#clip402)\" cx=\"970.163\" cy=\"87.9763\" r=\"14\" fill=\"#009af9\" fill-rule=\"evenodd\" fill-opacity=\"1\" stroke=\"#000000\" stroke-opacity=\"1\" stroke-width=\"3.2\"/>\n",
       "<circle clip-path=\"url(#clip402)\" cx=\"990.808\" cy=\"87.9763\" r=\"14\" fill=\"#009af9\" fill-rule=\"evenodd\" fill-opacity=\"1\" stroke=\"#000000\" stroke-opacity=\"1\" stroke-width=\"3.2\"/>\n",
       "<circle clip-path=\"url(#clip402)\" cx=\"1011.45\" cy=\"1445.72\" r=\"14\" fill=\"#009af9\" fill-rule=\"evenodd\" fill-opacity=\"1\" stroke=\"#000000\" stroke-opacity=\"1\" stroke-width=\"3.2\"/>\n",
       "<circle clip-path=\"url(#clip402)\" cx=\"1032.1\" cy=\"1445.72\" r=\"14\" fill=\"#009af9\" fill-rule=\"evenodd\" fill-opacity=\"1\" stroke=\"#000000\" stroke-opacity=\"1\" stroke-width=\"3.2\"/>\n",
       "<circle clip-path=\"url(#clip402)\" cx=\"1052.74\" cy=\"1445.72\" r=\"14\" fill=\"#009af9\" fill-rule=\"evenodd\" fill-opacity=\"1\" stroke=\"#000000\" stroke-opacity=\"1\" stroke-width=\"3.2\"/>\n",
       "<circle clip-path=\"url(#clip402)\" cx=\"1073.39\" cy=\"1445.72\" r=\"14\" fill=\"#009af9\" fill-rule=\"evenodd\" fill-opacity=\"1\" stroke=\"#000000\" stroke-opacity=\"1\" stroke-width=\"3.2\"/>\n",
       "<circle clip-path=\"url(#clip402)\" cx=\"1094.03\" cy=\"87.9763\" r=\"14\" fill=\"#009af9\" fill-rule=\"evenodd\" fill-opacity=\"1\" stroke=\"#000000\" stroke-opacity=\"1\" stroke-width=\"3.2\"/>\n",
       "<circle clip-path=\"url(#clip402)\" cx=\"1114.68\" cy=\"1445.72\" r=\"14\" fill=\"#009af9\" fill-rule=\"evenodd\" fill-opacity=\"1\" stroke=\"#000000\" stroke-opacity=\"1\" stroke-width=\"3.2\"/>\n",
       "<circle clip-path=\"url(#clip402)\" cx=\"1135.32\" cy=\"1445.72\" r=\"14\" fill=\"#009af9\" fill-rule=\"evenodd\" fill-opacity=\"1\" stroke=\"#000000\" stroke-opacity=\"1\" stroke-width=\"3.2\"/>\n",
       "<circle clip-path=\"url(#clip402)\" cx=\"1155.97\" cy=\"87.9763\" r=\"14\" fill=\"#009af9\" fill-rule=\"evenodd\" fill-opacity=\"1\" stroke=\"#000000\" stroke-opacity=\"1\" stroke-width=\"3.2\"/>\n",
       "<circle clip-path=\"url(#clip402)\" cx=\"1176.61\" cy=\"1445.72\" r=\"14\" fill=\"#009af9\" fill-rule=\"evenodd\" fill-opacity=\"1\" stroke=\"#000000\" stroke-opacity=\"1\" stroke-width=\"3.2\"/>\n",
       "<circle clip-path=\"url(#clip402)\" cx=\"1197.26\" cy=\"1445.72\" r=\"14\" fill=\"#009af9\" fill-rule=\"evenodd\" fill-opacity=\"1\" stroke=\"#000000\" stroke-opacity=\"1\" stroke-width=\"3.2\"/>\n",
       "<circle clip-path=\"url(#clip402)\" cx=\"1217.9\" cy=\"1445.72\" r=\"14\" fill=\"#009af9\" fill-rule=\"evenodd\" fill-opacity=\"1\" stroke=\"#000000\" stroke-opacity=\"1\" stroke-width=\"3.2\"/>\n",
       "<circle clip-path=\"url(#clip402)\" cx=\"1238.55\" cy=\"1445.72\" r=\"14\" fill=\"#009af9\" fill-rule=\"evenodd\" fill-opacity=\"1\" stroke=\"#000000\" stroke-opacity=\"1\" stroke-width=\"3.2\"/>\n",
       "<circle clip-path=\"url(#clip402)\" cx=\"1259.19\" cy=\"1445.72\" r=\"14\" fill=\"#009af9\" fill-rule=\"evenodd\" fill-opacity=\"1\" stroke=\"#000000\" stroke-opacity=\"1\" stroke-width=\"3.2\"/>\n",
       "<circle clip-path=\"url(#clip402)\" cx=\"1279.84\" cy=\"1445.72\" r=\"14\" fill=\"#009af9\" fill-rule=\"evenodd\" fill-opacity=\"1\" stroke=\"#000000\" stroke-opacity=\"1\" stroke-width=\"3.2\"/>\n",
       "<circle clip-path=\"url(#clip402)\" cx=\"1300.48\" cy=\"87.9763\" r=\"14\" fill=\"#009af9\" fill-rule=\"evenodd\" fill-opacity=\"1\" stroke=\"#000000\" stroke-opacity=\"1\" stroke-width=\"3.2\"/>\n",
       "<circle clip-path=\"url(#clip402)\" cx=\"1321.13\" cy=\"1445.72\" r=\"14\" fill=\"#009af9\" fill-rule=\"evenodd\" fill-opacity=\"1\" stroke=\"#000000\" stroke-opacity=\"1\" stroke-width=\"3.2\"/>\n",
       "<circle clip-path=\"url(#clip402)\" cx=\"1341.77\" cy=\"87.9763\" r=\"14\" fill=\"#009af9\" fill-rule=\"evenodd\" fill-opacity=\"1\" stroke=\"#000000\" stroke-opacity=\"1\" stroke-width=\"3.2\"/>\n",
       "<circle clip-path=\"url(#clip402)\" cx=\"1362.42\" cy=\"87.9763\" r=\"14\" fill=\"#009af9\" fill-rule=\"evenodd\" fill-opacity=\"1\" stroke=\"#000000\" stroke-opacity=\"1\" stroke-width=\"3.2\"/>\n",
       "<circle clip-path=\"url(#clip402)\" cx=\"1383.06\" cy=\"1445.72\" r=\"14\" fill=\"#009af9\" fill-rule=\"evenodd\" fill-opacity=\"1\" stroke=\"#000000\" stroke-opacity=\"1\" stroke-width=\"3.2\"/>\n",
       "<circle clip-path=\"url(#clip402)\" cx=\"1403.71\" cy=\"87.9763\" r=\"14\" fill=\"#009af9\" fill-rule=\"evenodd\" fill-opacity=\"1\" stroke=\"#000000\" stroke-opacity=\"1\" stroke-width=\"3.2\"/>\n",
       "<circle clip-path=\"url(#clip402)\" cx=\"1424.35\" cy=\"87.9763\" r=\"14\" fill=\"#009af9\" fill-rule=\"evenodd\" fill-opacity=\"1\" stroke=\"#000000\" stroke-opacity=\"1\" stroke-width=\"3.2\"/>\n",
       "<circle clip-path=\"url(#clip402)\" cx=\"1445\" cy=\"87.9763\" r=\"14\" fill=\"#009af9\" fill-rule=\"evenodd\" fill-opacity=\"1\" stroke=\"#000000\" stroke-opacity=\"1\" stroke-width=\"3.2\"/>\n",
       "<circle clip-path=\"url(#clip402)\" cx=\"1465.64\" cy=\"87.9763\" r=\"14\" fill=\"#009af9\" fill-rule=\"evenodd\" fill-opacity=\"1\" stroke=\"#000000\" stroke-opacity=\"1\" stroke-width=\"3.2\"/>\n",
       "<circle clip-path=\"url(#clip402)\" cx=\"1486.29\" cy=\"87.9763\" r=\"14\" fill=\"#009af9\" fill-rule=\"evenodd\" fill-opacity=\"1\" stroke=\"#000000\" stroke-opacity=\"1\" stroke-width=\"3.2\"/>\n",
       "<circle clip-path=\"url(#clip402)\" cx=\"1506.93\" cy=\"87.9763\" r=\"14\" fill=\"#009af9\" fill-rule=\"evenodd\" fill-opacity=\"1\" stroke=\"#000000\" stroke-opacity=\"1\" stroke-width=\"3.2\"/>\n",
       "<circle clip-path=\"url(#clip402)\" cx=\"1527.58\" cy=\"87.9763\" r=\"14\" fill=\"#009af9\" fill-rule=\"evenodd\" fill-opacity=\"1\" stroke=\"#000000\" stroke-opacity=\"1\" stroke-width=\"3.2\"/>\n",
       "<circle clip-path=\"url(#clip402)\" cx=\"1548.22\" cy=\"87.9763\" r=\"14\" fill=\"#009af9\" fill-rule=\"evenodd\" fill-opacity=\"1\" stroke=\"#000000\" stroke-opacity=\"1\" stroke-width=\"3.2\"/>\n",
       "<circle clip-path=\"url(#clip402)\" cx=\"1568.87\" cy=\"87.9763\" r=\"14\" fill=\"#009af9\" fill-rule=\"evenodd\" fill-opacity=\"1\" stroke=\"#000000\" stroke-opacity=\"1\" stroke-width=\"3.2\"/>\n",
       "<circle clip-path=\"url(#clip402)\" cx=\"1589.51\" cy=\"87.9763\" r=\"14\" fill=\"#009af9\" fill-rule=\"evenodd\" fill-opacity=\"1\" stroke=\"#000000\" stroke-opacity=\"1\" stroke-width=\"3.2\"/>\n",
       "<circle clip-path=\"url(#clip402)\" cx=\"1610.16\" cy=\"87.9763\" r=\"14\" fill=\"#009af9\" fill-rule=\"evenodd\" fill-opacity=\"1\" stroke=\"#000000\" stroke-opacity=\"1\" stroke-width=\"3.2\"/>\n",
       "<circle clip-path=\"url(#clip402)\" cx=\"1630.8\" cy=\"87.9763\" r=\"14\" fill=\"#009af9\" fill-rule=\"evenodd\" fill-opacity=\"1\" stroke=\"#000000\" stroke-opacity=\"1\" stroke-width=\"3.2\"/>\n",
       "<circle clip-path=\"url(#clip402)\" cx=\"1651.45\" cy=\"87.9763\" r=\"14\" fill=\"#009af9\" fill-rule=\"evenodd\" fill-opacity=\"1\" stroke=\"#000000\" stroke-opacity=\"1\" stroke-width=\"3.2\"/>\n",
       "<circle clip-path=\"url(#clip402)\" cx=\"1672.09\" cy=\"87.9763\" r=\"14\" fill=\"#009af9\" fill-rule=\"evenodd\" fill-opacity=\"1\" stroke=\"#000000\" stroke-opacity=\"1\" stroke-width=\"3.2\"/>\n",
       "<circle clip-path=\"url(#clip402)\" cx=\"1692.74\" cy=\"87.9763\" r=\"14\" fill=\"#009af9\" fill-rule=\"evenodd\" fill-opacity=\"1\" stroke=\"#000000\" stroke-opacity=\"1\" stroke-width=\"3.2\"/>\n",
       "<circle clip-path=\"url(#clip402)\" cx=\"1713.38\" cy=\"87.9763\" r=\"14\" fill=\"#009af9\" fill-rule=\"evenodd\" fill-opacity=\"1\" stroke=\"#000000\" stroke-opacity=\"1\" stroke-width=\"3.2\"/>\n",
       "<circle clip-path=\"url(#clip402)\" cx=\"1734.03\" cy=\"87.9763\" r=\"14\" fill=\"#009af9\" fill-rule=\"evenodd\" fill-opacity=\"1\" stroke=\"#000000\" stroke-opacity=\"1\" stroke-width=\"3.2\"/>\n",
       "<circle clip-path=\"url(#clip402)\" cx=\"1754.67\" cy=\"87.9763\" r=\"14\" fill=\"#009af9\" fill-rule=\"evenodd\" fill-opacity=\"1\" stroke=\"#000000\" stroke-opacity=\"1\" stroke-width=\"3.2\"/>\n",
       "<circle clip-path=\"url(#clip402)\" cx=\"1775.32\" cy=\"87.9763\" r=\"14\" fill=\"#009af9\" fill-rule=\"evenodd\" fill-opacity=\"1\" stroke=\"#000000\" stroke-opacity=\"1\" stroke-width=\"3.2\"/>\n",
       "<circle clip-path=\"url(#clip402)\" cx=\"1795.96\" cy=\"87.9763\" r=\"14\" fill=\"#009af9\" fill-rule=\"evenodd\" fill-opacity=\"1\" stroke=\"#000000\" stroke-opacity=\"1\" stroke-width=\"3.2\"/>\n",
       "<circle clip-path=\"url(#clip402)\" cx=\"1816.61\" cy=\"87.9763\" r=\"14\" fill=\"#009af9\" fill-rule=\"evenodd\" fill-opacity=\"1\" stroke=\"#000000\" stroke-opacity=\"1\" stroke-width=\"3.2\"/>\n",
       "<circle clip-path=\"url(#clip402)\" cx=\"1837.25\" cy=\"87.9763\" r=\"14\" fill=\"#009af9\" fill-rule=\"evenodd\" fill-opacity=\"1\" stroke=\"#000000\" stroke-opacity=\"1\" stroke-width=\"3.2\"/>\n",
       "<circle clip-path=\"url(#clip402)\" cx=\"1857.9\" cy=\"87.9763\" r=\"14\" fill=\"#009af9\" fill-rule=\"evenodd\" fill-opacity=\"1\" stroke=\"#000000\" stroke-opacity=\"1\" stroke-width=\"3.2\"/>\n",
       "<circle clip-path=\"url(#clip402)\" cx=\"1878.54\" cy=\"87.9763\" r=\"14\" fill=\"#009af9\" fill-rule=\"evenodd\" fill-opacity=\"1\" stroke=\"#000000\" stroke-opacity=\"1\" stroke-width=\"3.2\"/>\n",
       "<circle clip-path=\"url(#clip402)\" cx=\"1899.19\" cy=\"87.9763\" r=\"14\" fill=\"#009af9\" fill-rule=\"evenodd\" fill-opacity=\"1\" stroke=\"#000000\" stroke-opacity=\"1\" stroke-width=\"3.2\"/>\n",
       "<circle clip-path=\"url(#clip402)\" cx=\"1919.83\" cy=\"87.9763\" r=\"14\" fill=\"#009af9\" fill-rule=\"evenodd\" fill-opacity=\"1\" stroke=\"#000000\" stroke-opacity=\"1\" stroke-width=\"3.2\"/>\n",
       "<circle clip-path=\"url(#clip402)\" cx=\"1940.48\" cy=\"87.9763\" r=\"14\" fill=\"#009af9\" fill-rule=\"evenodd\" fill-opacity=\"1\" stroke=\"#000000\" stroke-opacity=\"1\" stroke-width=\"3.2\"/>\n",
       "<circle clip-path=\"url(#clip402)\" cx=\"1961.12\" cy=\"87.9763\" r=\"14\" fill=\"#009af9\" fill-rule=\"evenodd\" fill-opacity=\"1\" stroke=\"#000000\" stroke-opacity=\"1\" stroke-width=\"3.2\"/>\n",
       "<circle clip-path=\"url(#clip402)\" cx=\"1981.77\" cy=\"87.9763\" r=\"14\" fill=\"#009af9\" fill-rule=\"evenodd\" fill-opacity=\"1\" stroke=\"#000000\" stroke-opacity=\"1\" stroke-width=\"3.2\"/>\n",
       "<circle clip-path=\"url(#clip402)\" cx=\"2002.41\" cy=\"87.9763\" r=\"14\" fill=\"#009af9\" fill-rule=\"evenodd\" fill-opacity=\"1\" stroke=\"#000000\" stroke-opacity=\"1\" stroke-width=\"3.2\"/>\n",
       "<circle clip-path=\"url(#clip402)\" cx=\"2023.06\" cy=\"87.9763\" r=\"14\" fill=\"#009af9\" fill-rule=\"evenodd\" fill-opacity=\"1\" stroke=\"#000000\" stroke-opacity=\"1\" stroke-width=\"3.2\"/>\n",
       "<circle clip-path=\"url(#clip402)\" cx=\"2043.7\" cy=\"87.9763\" r=\"14\" fill=\"#009af9\" fill-rule=\"evenodd\" fill-opacity=\"1\" stroke=\"#000000\" stroke-opacity=\"1\" stroke-width=\"3.2\"/>\n",
       "<circle clip-path=\"url(#clip402)\" cx=\"2064.35\" cy=\"87.9763\" r=\"14\" fill=\"#009af9\" fill-rule=\"evenodd\" fill-opacity=\"1\" stroke=\"#000000\" stroke-opacity=\"1\" stroke-width=\"3.2\"/>\n",
       "<circle clip-path=\"url(#clip402)\" cx=\"2084.99\" cy=\"87.9763\" r=\"14\" fill=\"#009af9\" fill-rule=\"evenodd\" fill-opacity=\"1\" stroke=\"#000000\" stroke-opacity=\"1\" stroke-width=\"3.2\"/>\n",
       "<circle clip-path=\"url(#clip402)\" cx=\"2105.64\" cy=\"87.9763\" r=\"14\" fill=\"#009af9\" fill-rule=\"evenodd\" fill-opacity=\"1\" stroke=\"#000000\" stroke-opacity=\"1\" stroke-width=\"3.2\"/>\n",
       "<circle clip-path=\"url(#clip402)\" cx=\"2126.28\" cy=\"87.9763\" r=\"14\" fill=\"#009af9\" fill-rule=\"evenodd\" fill-opacity=\"1\" stroke=\"#000000\" stroke-opacity=\"1\" stroke-width=\"3.2\"/>\n",
       "<circle clip-path=\"url(#clip402)\" cx=\"2146.93\" cy=\"87.9763\" r=\"14\" fill=\"#009af9\" fill-rule=\"evenodd\" fill-opacity=\"1\" stroke=\"#000000\" stroke-opacity=\"1\" stroke-width=\"3.2\"/>\n",
       "<circle clip-path=\"url(#clip402)\" cx=\"2167.57\" cy=\"87.9763\" r=\"14\" fill=\"#009af9\" fill-rule=\"evenodd\" fill-opacity=\"1\" stroke=\"#000000\" stroke-opacity=\"1\" stroke-width=\"3.2\"/>\n",
       "<circle clip-path=\"url(#clip402)\" cx=\"2188.22\" cy=\"87.9763\" r=\"14\" fill=\"#009af9\" fill-rule=\"evenodd\" fill-opacity=\"1\" stroke=\"#000000\" stroke-opacity=\"1\" stroke-width=\"3.2\"/>\n",
       "<circle clip-path=\"url(#clip402)\" cx=\"2208.86\" cy=\"87.9763\" r=\"14\" fill=\"#009af9\" fill-rule=\"evenodd\" fill-opacity=\"1\" stroke=\"#000000\" stroke-opacity=\"1\" stroke-width=\"3.2\"/>\n",
       "<circle clip-path=\"url(#clip402)\" cx=\"2229.51\" cy=\"87.9763\" r=\"14\" fill=\"#009af9\" fill-rule=\"evenodd\" fill-opacity=\"1\" stroke=\"#000000\" stroke-opacity=\"1\" stroke-width=\"3.2\"/>\n",
       "<circle clip-path=\"url(#clip402)\" cx=\"2250.15\" cy=\"87.9763\" r=\"14\" fill=\"#009af9\" fill-rule=\"evenodd\" fill-opacity=\"1\" stroke=\"#000000\" stroke-opacity=\"1\" stroke-width=\"3.2\"/>\n",
       "<circle clip-path=\"url(#clip402)\" cx=\"2270.8\" cy=\"87.9763\" r=\"14\" fill=\"#009af9\" fill-rule=\"evenodd\" fill-opacity=\"1\" stroke=\"#000000\" stroke-opacity=\"1\" stroke-width=\"3.2\"/>\n",
       "<circle clip-path=\"url(#clip402)\" cx=\"2291.44\" cy=\"87.9763\" r=\"14\" fill=\"#009af9\" fill-rule=\"evenodd\" fill-opacity=\"1\" stroke=\"#000000\" stroke-opacity=\"1\" stroke-width=\"3.2\"/>\n",
       "<path clip-path=\"url(#clip400)\" d=\"\n",
       "M1987.39 198.898 L2280.54 198.898 L2280.54 95.2176 L1987.39 95.2176  Z\n",
       "  \" fill=\"#ffffff\" fill-rule=\"evenodd\" fill-opacity=\"1\"/>\n",
       "<polyline clip-path=\"url(#clip400)\" style=\"stroke:#000000; stroke-linecap:butt; stroke-linejoin:round; stroke-width:4; stroke-opacity:1; fill:none\" points=\"\n",
       "  1987.39,198.898 2280.54,198.898 2280.54,95.2176 1987.39,95.2176 1987.39,198.898 \n",
       "  \"/>\n",
       "<circle clip-path=\"url(#clip400)\" cx=\"2083.68\" cy=\"147.058\" r=\"23\" fill=\"#009af9\" fill-rule=\"evenodd\" fill-opacity=\"1\" stroke=\"#000000\" stroke-opacity=\"1\" stroke-width=\"5.12\"/>\n",
       "<path clip-path=\"url(#clip400)\" d=\"M2193.81 166.745 Q2192 171.375 2190.29 172.787 Q2188.58 174.199 2185.71 174.199 L2182.3 174.199 L2182.3 170.634 L2184.8 170.634 Q2186.56 170.634 2187.53 169.8 Q2188.51 168.967 2189.69 165.865 L2190.45 163.921 L2179.97 138.412 L2184.48 138.412 L2192.58 158.689 L2200.68 138.412 L2205.2 138.412 L2193.81 166.745 Z\" fill=\"#000000\" fill-rule=\"evenodd\" fill-opacity=\"1\" /><path clip-path=\"url(#clip400)\" d=\"M2212.49 160.402 L2220.13 160.402 L2220.13 134.037 L2211.82 135.703 L2211.82 131.444 L2220.08 129.778 L2224.76 129.778 L2224.76 160.402 L2232.4 160.402 L2232.4 164.338 L2212.49 164.338 L2212.49 160.402 Z\" fill=\"#000000\" fill-rule=\"evenodd\" fill-opacity=\"1\" /></svg>\n"
      ]
     },
     "execution_count": 255,
     "metadata": {},
     "output_type": "execute_result"
    }
   ],
   "source": [
    "scatter(xtrue[sortperm(p_cauSI[:,end],rev=true),1] .== T)"
   ]
  },
  {
   "cell_type": "code",
   "execution_count": 256,
   "metadata": {},
   "outputs": [
    {
     "data": {
      "image/svg+xml": [
       "<?xml version=\"1.0\" encoding=\"utf-8\"?>\n",
       "<svg xmlns=\"http://www.w3.org/2000/svg\" xmlns:xlink=\"http://www.w3.org/1999/xlink\" width=\"600\" height=\"400\" viewBox=\"0 0 2400 1600\">\n",
       "<defs>\n",
       "  <clipPath id=\"clip440\">\n",
       "    <rect x=\"0\" y=\"0\" width=\"2400\" height=\"1600\"/>\n",
       "  </clipPath>\n",
       "</defs>\n",
       "<path clip-path=\"url(#clip440)\" d=\"\n",
       "M0 1600 L2400 1600 L2400 0 L0 0  Z\n",
       "  \" fill=\"#ffffff\" fill-rule=\"evenodd\" fill-opacity=\"1\"/>\n",
       "<defs>\n",
       "  <clipPath id=\"clip441\">\n",
       "    <rect x=\"480\" y=\"0\" width=\"1681\" height=\"1600\"/>\n",
       "  </clipPath>\n",
       "</defs>\n",
       "<path clip-path=\"url(#clip440)\" d=\"\n",
       "M219.542 1423.18 L2352.76 1423.18 L2352.76 123.472 L219.542 123.472  Z\n",
       "  \" fill=\"#ffffff\" fill-rule=\"evenodd\" fill-opacity=\"1\"/>\n",
       "<defs>\n",
       "  <clipPath id=\"clip442\">\n",
       "    <rect x=\"219\" y=\"123\" width=\"2134\" height=\"1301\"/>\n",
       "  </clipPath>\n",
       "</defs>\n",
       "<polyline clip-path=\"url(#clip442)\" style=\"stroke:#000000; stroke-linecap:butt; stroke-linejoin:round; stroke-width:2; stroke-opacity:0.1; fill:none\" points=\"\n",
       "  703.593,1423.18 703.593,123.472 \n",
       "  \"/>\n",
       "<polyline clip-path=\"url(#clip442)\" style=\"stroke:#000000; stroke-linecap:butt; stroke-linejoin:round; stroke-width:2; stroke-opacity:0.1; fill:none\" points=\"\n",
       "  1233.19,1423.18 1233.19,123.472 \n",
       "  \"/>\n",
       "<polyline clip-path=\"url(#clip442)\" style=\"stroke:#000000; stroke-linecap:butt; stroke-linejoin:round; stroke-width:2; stroke-opacity:0.1; fill:none\" points=\"\n",
       "  1762.79,1423.18 1762.79,123.472 \n",
       "  \"/>\n",
       "<polyline clip-path=\"url(#clip442)\" style=\"stroke:#000000; stroke-linecap:butt; stroke-linejoin:round; stroke-width:2; stroke-opacity:0.1; fill:none\" points=\"\n",
       "  2292.38,1423.18 2292.38,123.472 \n",
       "  \"/>\n",
       "<polyline clip-path=\"url(#clip440)\" style=\"stroke:#000000; stroke-linecap:butt; stroke-linejoin:round; stroke-width:4; stroke-opacity:1; fill:none\" points=\"\n",
       "  219.542,1423.18 2352.76,1423.18 \n",
       "  \"/>\n",
       "<polyline clip-path=\"url(#clip440)\" style=\"stroke:#000000; stroke-linecap:butt; stroke-linejoin:round; stroke-width:4; stroke-opacity:1; fill:none\" points=\"\n",
       "  703.593,1423.18 703.593,1404.28 \n",
       "  \"/>\n",
       "<polyline clip-path=\"url(#clip440)\" style=\"stroke:#000000; stroke-linecap:butt; stroke-linejoin:round; stroke-width:4; stroke-opacity:1; fill:none\" points=\"\n",
       "  1233.19,1423.18 1233.19,1404.28 \n",
       "  \"/>\n",
       "<polyline clip-path=\"url(#clip440)\" style=\"stroke:#000000; stroke-linecap:butt; stroke-linejoin:round; stroke-width:4; stroke-opacity:1; fill:none\" points=\"\n",
       "  1762.79,1423.18 1762.79,1404.28 \n",
       "  \"/>\n",
       "<polyline clip-path=\"url(#clip440)\" style=\"stroke:#000000; stroke-linecap:butt; stroke-linejoin:round; stroke-width:4; stroke-opacity:1; fill:none\" points=\"\n",
       "  2292.38,1423.18 2292.38,1404.28 \n",
       "  \"/>\n",
       "<path clip-path=\"url(#clip440)\" d=\"M693.871 1451.02 L712.227 1451.02 L712.227 1454.96 L698.153 1454.96 L698.153 1463.43 Q699.172 1463.08 700.19 1462.92 Q701.209 1462.73 702.227 1462.73 Q708.014 1462.73 711.394 1465.9 Q714.774 1469.08 714.774 1474.49 Q714.774 1480.07 711.301 1483.17 Q707.829 1486.25 701.51 1486.25 Q699.334 1486.25 697.065 1485.88 Q694.82 1485.51 692.413 1484.77 L692.413 1480.07 Q694.496 1481.2 696.718 1481.76 Q698.94 1482.32 701.417 1482.32 Q705.422 1482.32 707.76 1480.21 Q710.098 1478.1 710.098 1474.49 Q710.098 1470.88 707.76 1468.77 Q705.422 1466.67 701.417 1466.67 Q699.542 1466.67 697.667 1467.08 Q695.815 1467.5 693.871 1468.38 L693.871 1451.02 Z\" fill=\"#000000\" fill-rule=\"evenodd\" fill-opacity=\"1\" /><path clip-path=\"url(#clip440)\" d=\"M1207.88 1481.64 L1215.52 1481.64 L1215.52 1455.28 L1207.21 1456.95 L1207.21 1452.69 L1215.47 1451.02 L1220.15 1451.02 L1220.15 1481.64 L1227.78 1481.64 L1227.78 1485.58 L1207.88 1485.58 L1207.88 1481.64 Z\" fill=\"#000000\" fill-rule=\"evenodd\" fill-opacity=\"1\" /><path clip-path=\"url(#clip440)\" d=\"M1247.23 1454.1 Q1243.62 1454.1 1241.79 1457.66 Q1239.98 1461.2 1239.98 1468.33 Q1239.98 1475.44 1241.79 1479.01 Q1243.62 1482.55 1247.23 1482.55 Q1250.86 1482.55 1252.67 1479.01 Q1254.5 1475.44 1254.5 1468.33 Q1254.5 1461.2 1252.67 1457.66 Q1250.86 1454.1 1247.23 1454.1 M1247.23 1450.39 Q1253.04 1450.39 1256.09 1455 Q1259.17 1459.58 1259.17 1468.33 Q1259.17 1477.06 1256.09 1481.67 Q1253.04 1486.25 1247.23 1486.25 Q1241.42 1486.25 1238.34 1481.67 Q1235.28 1477.06 1235.28 1468.33 Q1235.28 1459.58 1238.34 1455 Q1241.42 1450.39 1247.23 1450.39 Z\" fill=\"#000000\" fill-rule=\"evenodd\" fill-opacity=\"1\" /><path clip-path=\"url(#clip440)\" d=\"M1737.97 1481.64 L1745.61 1481.64 L1745.61 1455.28 L1737.3 1456.95 L1737.3 1452.69 L1745.56 1451.02 L1750.24 1451.02 L1750.24 1481.64 L1757.88 1481.64 L1757.88 1485.58 L1737.97 1485.58 L1737.97 1481.64 Z\" fill=\"#000000\" fill-rule=\"evenodd\" fill-opacity=\"1\" /><path clip-path=\"url(#clip440)\" d=\"M1767.37 1451.02 L1785.73 1451.02 L1785.73 1454.96 L1771.65 1454.96 L1771.65 1463.43 Q1772.67 1463.08 1773.69 1462.92 Q1774.71 1462.73 1775.73 1462.73 Q1781.51 1462.73 1784.89 1465.9 Q1788.27 1469.08 1788.27 1474.49 Q1788.27 1480.07 1784.8 1483.17 Q1781.33 1486.25 1775.01 1486.25 Q1772.83 1486.25 1770.56 1485.88 Q1768.32 1485.51 1765.91 1484.77 L1765.91 1480.07 Q1767.99 1481.2 1770.22 1481.76 Q1772.44 1482.32 1774.92 1482.32 Q1778.92 1482.32 1781.26 1480.21 Q1783.6 1478.1 1783.6 1474.49 Q1783.6 1470.88 1781.26 1468.77 Q1778.92 1466.67 1774.92 1466.67 Q1773.04 1466.67 1771.17 1467.08 Q1769.31 1467.5 1767.37 1468.38 L1767.37 1451.02 Z\" fill=\"#000000\" fill-rule=\"evenodd\" fill-opacity=\"1\" /><path clip-path=\"url(#clip440)\" d=\"M2271.16 1481.64 L2287.47 1481.64 L2287.47 1485.58 L2265.53 1485.58 L2265.53 1481.64 Q2268.19 1478.89 2272.78 1474.26 Q2277.38 1469.61 2278.56 1468.27 Q2280.81 1465.74 2281.69 1464.01 Q2282.59 1462.25 2282.59 1460.56 Q2282.59 1457.8 2280.65 1456.07 Q2278.72 1454.33 2275.62 1454.33 Q2273.42 1454.33 2270.97 1455.09 Q2268.54 1455.86 2265.76 1457.41 L2265.76 1452.69 Q2268.59 1451.55 2271.04 1450.97 Q2273.49 1450.39 2275.53 1450.39 Q2280.9 1450.39 2284.09 1453.08 Q2287.29 1455.77 2287.29 1460.26 Q2287.29 1462.39 2286.48 1464.31 Q2285.69 1466.2 2283.59 1468.8 Q2283.01 1469.47 2279.91 1472.69 Q2276.8 1475.88 2271.16 1481.64 Z\" fill=\"#000000\" fill-rule=\"evenodd\" fill-opacity=\"1\" /><path clip-path=\"url(#clip440)\" d=\"M2307.29 1454.1 Q2303.68 1454.1 2301.85 1457.66 Q2300.04 1461.2 2300.04 1468.33 Q2300.04 1475.44 2301.85 1479.01 Q2303.68 1482.55 2307.29 1482.55 Q2310.92 1482.55 2312.73 1479.01 Q2314.56 1475.44 2314.56 1468.33 Q2314.56 1461.2 2312.73 1457.66 Q2310.92 1454.1 2307.29 1454.1 M2307.29 1450.39 Q2313.1 1450.39 2316.15 1455 Q2319.23 1459.58 2319.23 1468.33 Q2319.23 1477.06 2316.15 1481.67 Q2313.1 1486.25 2307.29 1486.25 Q2301.48 1486.25 2298.4 1481.67 Q2295.34 1477.06 2295.34 1468.33 Q2295.34 1459.58 2298.4 1455 Q2301.48 1450.39 2307.29 1450.39 Z\" fill=\"#000000\" fill-rule=\"evenodd\" fill-opacity=\"1\" /><path clip-path=\"url(#clip440)\" d=\"M1285.21 1522.27 L1285.21 1532.4 L1297.27 1532.4 L1297.27 1536.95 L1285.21 1536.95 L1285.21 1556.3 Q1285.21 1560.66 1286.39 1561.9 Q1287.6 1563.14 1291.26 1563.14 L1297.27 1563.14 L1297.27 1568.04 L1291.26 1568.04 Q1284.48 1568.04 1281.9 1565.53 Q1279.32 1562.98 1279.32 1556.3 L1279.32 1536.95 L1275.02 1536.95 L1275.02 1532.4 L1279.32 1532.4 L1279.32 1522.27 L1285.21 1522.27 Z\" fill=\"#000000\" fill-rule=\"evenodd\" fill-opacity=\"1\" /><polyline clip-path=\"url(#clip442)\" style=\"stroke:#000000; stroke-linecap:butt; stroke-linejoin:round; stroke-width:2; stroke-opacity:0.1; fill:none\" points=\"\n",
       "  219.542,1250.03 2352.76,1250.03 \n",
       "  \"/>\n",
       "<polyline clip-path=\"url(#clip442)\" style=\"stroke:#000000; stroke-linecap:butt; stroke-linejoin:round; stroke-width:2; stroke-opacity:0.1; fill:none\" points=\"\n",
       "  219.542,902.281 2352.76,902.281 \n",
       "  \"/>\n",
       "<polyline clip-path=\"url(#clip442)\" style=\"stroke:#000000; stroke-linecap:butt; stroke-linejoin:round; stroke-width:2; stroke-opacity:0.1; fill:none\" points=\"\n",
       "  219.542,554.537 2352.76,554.537 \n",
       "  \"/>\n",
       "<polyline clip-path=\"url(#clip442)\" style=\"stroke:#000000; stroke-linecap:butt; stroke-linejoin:round; stroke-width:2; stroke-opacity:0.1; fill:none\" points=\"\n",
       "  219.542,206.793 2352.76,206.793 \n",
       "  \"/>\n",
       "<polyline clip-path=\"url(#clip440)\" style=\"stroke:#000000; stroke-linecap:butt; stroke-linejoin:round; stroke-width:4; stroke-opacity:1; fill:none\" points=\"\n",
       "  219.542,1423.18 219.542,123.472 \n",
       "  \"/>\n",
       "<polyline clip-path=\"url(#clip440)\" style=\"stroke:#000000; stroke-linecap:butt; stroke-linejoin:round; stroke-width:4; stroke-opacity:1; fill:none\" points=\"\n",
       "  219.542,1250.03 238.44,1250.03 \n",
       "  \"/>\n",
       "<polyline clip-path=\"url(#clip440)\" style=\"stroke:#000000; stroke-linecap:butt; stroke-linejoin:round; stroke-width:4; stroke-opacity:1; fill:none\" points=\"\n",
       "  219.542,902.281 238.44,902.281 \n",
       "  \"/>\n",
       "<polyline clip-path=\"url(#clip440)\" style=\"stroke:#000000; stroke-linecap:butt; stroke-linejoin:round; stroke-width:4; stroke-opacity:1; fill:none\" points=\"\n",
       "  219.542,554.537 238.44,554.537 \n",
       "  \"/>\n",
       "<polyline clip-path=\"url(#clip440)\" style=\"stroke:#000000; stroke-linecap:butt; stroke-linejoin:round; stroke-width:4; stroke-opacity:1; fill:none\" points=\"\n",
       "  219.542,206.793 238.44,206.793 \n",
       "  \"/>\n",
       "<path clip-path=\"url(#clip440)\" d=\"M126.205 1235.82 Q122.593 1235.82 120.765 1239.39 Q118.959 1242.93 118.959 1250.06 Q118.959 1257.17 120.765 1260.73 Q122.593 1264.27 126.205 1264.27 Q129.839 1264.27 131.644 1260.73 Q133.473 1257.17 133.473 1250.06 Q133.473 1242.93 131.644 1239.39 Q129.839 1235.82 126.205 1235.82 M126.205 1232.12 Q132.015 1232.12 135.07 1236.73 Q138.149 1241.31 138.149 1250.06 Q138.149 1258.79 135.07 1263.39 Q132.015 1267.98 126.205 1267.98 Q120.394 1267.98 117.316 1263.39 Q114.26 1258.79 114.26 1250.06 Q114.26 1241.31 117.316 1236.73 Q120.394 1232.12 126.205 1232.12 Z\" fill=\"#000000\" fill-rule=\"evenodd\" fill-opacity=\"1\" /><path clip-path=\"url(#clip440)\" d=\"M146.366 1261.43 L151.251 1261.43 L151.251 1267.31 L146.366 1267.31 L146.366 1261.43 Z\" fill=\"#000000\" fill-rule=\"evenodd\" fill-opacity=\"1\" /><path clip-path=\"url(#clip440)\" d=\"M172.014 1248.16 Q168.866 1248.16 167.015 1250.31 Q165.186 1252.47 165.186 1256.22 Q165.186 1259.94 167.015 1262.12 Q168.866 1264.27 172.014 1264.27 Q175.163 1264.27 176.991 1262.12 Q178.843 1259.94 178.843 1256.22 Q178.843 1252.47 176.991 1250.31 Q175.163 1248.16 172.014 1248.16 M181.297 1233.51 L181.297 1237.77 Q179.538 1236.94 177.732 1236.5 Q175.95 1236.06 174.19 1236.06 Q169.561 1236.06 167.107 1239.18 Q164.677 1242.31 164.329 1248.63 Q165.695 1246.61 167.755 1245.55 Q169.815 1244.46 172.292 1244.46 Q177.501 1244.46 180.51 1247.63 Q183.542 1250.78 183.542 1256.22 Q183.542 1261.54 180.394 1264.76 Q177.246 1267.98 172.014 1267.98 Q166.019 1267.98 162.848 1263.39 Q159.677 1258.79 159.677 1250.06 Q159.677 1241.87 163.565 1237 Q167.454 1232.12 174.005 1232.12 Q175.764 1232.12 177.547 1232.47 Q179.352 1232.81 181.297 1233.51 Z\" fill=\"#000000\" fill-rule=\"evenodd\" fill-opacity=\"1\" /><path clip-path=\"url(#clip440)\" d=\"M127.269 888.08 Q123.658 888.08 121.83 891.645 Q120.024 895.187 120.024 902.316 Q120.024 909.423 121.83 912.987 Q123.658 916.529 127.269 916.529 Q130.904 916.529 132.709 912.987 Q134.538 909.423 134.538 902.316 Q134.538 895.187 132.709 891.645 Q130.904 888.08 127.269 888.08 M127.269 884.376 Q133.08 884.376 136.135 888.983 Q139.214 893.566 139.214 902.316 Q139.214 911.043 136.135 915.649 Q133.08 920.233 127.269 920.233 Q121.459 920.233 118.381 915.649 Q115.325 911.043 115.325 902.316 Q115.325 893.566 118.381 888.983 Q121.459 884.376 127.269 884.376 Z\" fill=\"#000000\" fill-rule=\"evenodd\" fill-opacity=\"1\" /><path clip-path=\"url(#clip440)\" d=\"M147.431 913.682 L152.316 913.682 L152.316 919.561 L147.431 919.561 L147.431 913.682 Z\" fill=\"#000000\" fill-rule=\"evenodd\" fill-opacity=\"1\" /><path clip-path=\"url(#clip440)\" d=\"M161.32 885.001 L183.542 885.001 L183.542 886.992 L170.996 919.561 L166.112 919.561 L177.917 888.937 L161.32 888.937 L161.32 885.001 Z\" fill=\"#000000\" fill-rule=\"evenodd\" fill-opacity=\"1\" /><path clip-path=\"url(#clip440)\" d=\"M126.459 540.336 Q122.848 540.336 121.019 543.901 Q119.214 547.443 119.214 554.572 Q119.214 561.679 121.019 565.243 Q122.848 568.785 126.459 568.785 Q130.093 568.785 131.899 565.243 Q133.728 561.679 133.728 554.572 Q133.728 547.443 131.899 543.901 Q130.093 540.336 126.459 540.336 M126.459 536.632 Q132.269 536.632 135.325 541.239 Q138.404 545.822 138.404 554.572 Q138.404 563.299 135.325 567.905 Q132.269 572.489 126.459 572.489 Q120.649 572.489 117.57 567.905 Q114.515 563.299 114.515 554.572 Q114.515 545.822 117.57 541.239 Q120.649 536.632 126.459 536.632 Z\" fill=\"#000000\" fill-rule=\"evenodd\" fill-opacity=\"1\" /><path clip-path=\"url(#clip440)\" d=\"M146.621 565.938 L151.505 565.938 L151.505 571.817 L146.621 571.817 L146.621 565.938 Z\" fill=\"#000000\" fill-rule=\"evenodd\" fill-opacity=\"1\" /><path clip-path=\"url(#clip440)\" d=\"M171.69 555.406 Q168.357 555.406 166.436 557.188 Q164.538 558.97 164.538 562.095 Q164.538 565.22 166.436 567.003 Q168.357 568.785 171.69 568.785 Q175.024 568.785 176.945 567.003 Q178.866 565.197 178.866 562.095 Q178.866 558.97 176.945 557.188 Q175.047 555.406 171.69 555.406 M167.015 553.415 Q164.005 552.674 162.315 550.614 Q160.649 548.554 160.649 545.591 Q160.649 541.447 163.589 539.04 Q166.552 536.632 171.69 536.632 Q176.852 536.632 179.792 539.04 Q182.732 541.447 182.732 545.591 Q182.732 548.554 181.042 550.614 Q179.376 552.674 176.389 553.415 Q179.769 554.202 181.644 556.493 Q183.542 558.785 183.542 562.095 Q183.542 567.118 180.464 569.804 Q177.408 572.489 171.69 572.489 Q165.973 572.489 162.894 569.804 Q159.839 567.118 159.839 562.095 Q159.839 558.785 161.737 556.493 Q163.635 554.202 167.015 553.415 M165.302 546.031 Q165.302 548.716 166.968 550.22 Q168.658 551.725 171.69 551.725 Q174.7 551.725 176.389 550.22 Q178.102 548.716 178.102 546.031 Q178.102 543.345 176.389 541.841 Q174.7 540.336 171.69 540.336 Q168.658 540.336 166.968 541.841 Q165.302 543.345 165.302 546.031 Z\" fill=\"#000000\" fill-rule=\"evenodd\" fill-opacity=\"1\" /><path clip-path=\"url(#clip440)\" d=\"M126.552 192.592 Q122.941 192.592 121.112 196.157 Q119.306 199.699 119.306 206.828 Q119.306 213.935 121.112 217.499 Q122.941 221.041 126.552 221.041 Q130.186 221.041 131.992 217.499 Q133.82 213.935 133.82 206.828 Q133.82 199.699 131.992 196.157 Q130.186 192.592 126.552 192.592 M126.552 188.888 Q132.362 188.888 135.417 193.495 Q138.496 198.078 138.496 206.828 Q138.496 215.555 135.417 220.161 Q132.362 224.745 126.552 224.745 Q120.742 224.745 117.663 220.161 Q114.607 215.555 114.607 206.828 Q114.607 198.078 117.663 193.495 Q120.742 188.888 126.552 188.888 Z\" fill=\"#000000\" fill-rule=\"evenodd\" fill-opacity=\"1\" /><path clip-path=\"url(#clip440)\" d=\"M146.714 218.194 L151.598 218.194 L151.598 224.073 L146.714 224.073 L146.714 218.194 Z\" fill=\"#000000\" fill-rule=\"evenodd\" fill-opacity=\"1\" /><path clip-path=\"url(#clip440)\" d=\"M161.922 223.356 L161.922 219.097 Q163.681 219.93 165.487 220.37 Q167.292 220.81 169.028 220.81 Q173.658 220.81 176.089 217.708 Q178.542 214.583 178.889 208.24 Q177.547 210.231 175.487 211.296 Q173.427 212.361 170.927 212.361 Q165.741 212.361 162.709 209.236 Q159.7 206.087 159.7 200.648 Q159.7 195.324 162.848 192.106 Q165.996 188.888 171.227 188.888 Q177.223 188.888 180.371 193.495 Q183.542 198.078 183.542 206.828 Q183.542 214.999 179.653 219.884 Q175.788 224.745 169.237 224.745 Q167.477 224.745 165.672 224.398 Q163.866 224.05 161.922 223.356 M171.227 208.703 Q174.376 208.703 176.204 206.55 Q178.056 204.398 178.056 200.648 Q178.056 196.921 176.204 194.768 Q174.376 192.592 171.227 192.592 Q168.079 192.592 166.227 194.768 Q164.399 196.921 164.399 200.648 Q164.399 204.398 166.227 206.55 Q168.079 208.703 171.227 208.703 Z\" fill=\"#000000\" fill-rule=\"evenodd\" fill-opacity=\"1\" /><path clip-path=\"url(#clip440)\" d=\"M22.818 866.743 L46.4666 875.464 L46.4666 857.99 L22.818 866.743 M16.4842 870.371 L16.4842 863.082 L64.0042 844.972 L64.0042 851.656 L51.8138 855.985 L51.8138 877.405 L64.0042 881.734 L64.0042 888.513 L16.4842 870.371 Z\" fill=\"#000000\" fill-rule=\"evenodd\" fill-opacity=\"1\" /><path clip-path=\"url(#clip440)\" d=\"M16.4842 838.765 L16.4842 832.304 L45.3526 832.304 Q52.9915 832.304 56.3653 829.535 Q59.7073 826.766 59.7073 820.56 Q59.7073 814.385 56.3653 811.616 Q52.9915 808.847 45.3526 808.847 L16.4842 808.847 L16.4842 802.385 L46.1484 802.385 Q55.4423 802.385 60.1847 807.001 Q64.9272 811.584 64.9272 820.56 Q64.9272 829.567 60.1847 834.182 Q55.4423 838.765 46.1484 838.765 L16.4842 838.765 Z\" fill=\"#000000\" fill-rule=\"evenodd\" fill-opacity=\"1\" /><path clip-path=\"url(#clip440)\" d=\"M41.7242 767.788 Q42.4244 765.719 44.7161 763.777 Q47.0077 761.804 51.0181 759.831 L64.0042 753.306 L64.0042 760.213 L51.8138 766.292 Q47.0395 768.647 45.48 770.875 Q43.9204 773.071 43.9204 776.891 L43.9204 783.893 L64.0042 783.893 L64.0042 790.322 L16.4842 790.322 L16.4842 775.809 Q16.4842 767.661 19.8898 763.65 Q23.2955 759.64 30.1704 759.64 Q34.6582 759.64 37.6183 761.74 Q40.5784 763.809 41.7242 767.788 M21.7677 783.893 L38.6368 783.893 L38.6368 775.809 Q38.6368 771.162 36.5043 768.806 Q34.34 766.419 30.1704 766.419 Q26.0009 766.419 23.9002 768.806 Q21.7677 771.162 21.7677 775.809 L21.7677 783.893 Z\" fill=\"#000000\" fill-rule=\"evenodd\" fill-opacity=\"1\" /><path clip-path=\"url(#clip440)\" d=\"M20.8447 725.742 Q20.8447 732.745 26.0645 736.882 Q31.2844 740.988 40.2919 740.988 Q49.2675 740.988 54.4874 736.882 Q59.7073 732.745 59.7073 725.742 Q59.7073 718.74 54.4874 714.666 Q49.2675 710.56 40.2919 710.56 Q31.2844 710.56 26.0645 714.666 Q20.8447 718.74 20.8447 725.742 M15.6248 725.742 Q15.6248 715.748 22.3406 709.764 Q29.0246 703.781 40.2919 703.781 Q51.5274 703.781 58.2432 709.764 Q64.9272 715.748 64.9272 725.742 Q64.9272 735.768 58.2432 741.784 Q51.5592 747.768 40.2919 747.768 Q29.0246 747.768 22.3406 741.784 Q15.6248 735.768 15.6248 725.742 Z\" fill=\"#000000\" fill-rule=\"evenodd\" fill-opacity=\"1\" /><path clip-path=\"url(#clip440)\" d=\"M20.1444 658.139 L26.9239 658.139 Q23.9002 661.385 22.4043 665.077 Q20.9083 668.737 20.9083 672.875 Q20.9083 681.023 25.9054 685.352 Q30.8707 689.681 40.2919 689.681 Q49.6813 689.681 54.6784 685.352 Q59.6436 681.023 59.6436 672.875 Q59.6436 668.737 58.1477 665.077 Q56.6518 661.385 53.6281 658.139 L60.3439 658.139 Q62.6355 661.512 63.7814 665.3 Q64.9272 669.056 64.9272 673.257 Q64.9272 684.047 58.3387 690.254 Q51.7183 696.46 40.2919 696.46 Q28.8336 696.46 22.2451 690.254 Q15.6248 684.047 15.6248 673.257 Q15.6248 668.992 16.7706 665.236 Q17.8846 661.449 20.1444 658.139 Z\" fill=\"#000000\" fill-rule=\"evenodd\" fill-opacity=\"1\" /><path clip-path=\"url(#clip440)\" d=\"M531.891 14.0809 L531.891 22.0612 Q527.232 19.8332 523.1 18.7395 Q518.969 17.6457 515.12 17.6457 Q508.436 17.6457 504.79 20.2383 Q501.185 22.8309 501.185 27.611 Q501.185 31.6214 503.575 33.6873 Q506.006 35.7128 512.73 36.9686 L517.672 37.9813 Q526.827 39.7232 531.162 44.1387 Q535.537 48.5136 535.537 55.8863 Q535.537 64.6767 529.622 69.2137 Q523.749 73.7508 512.366 73.7508 Q508.072 73.7508 503.211 72.7785 Q498.39 71.8063 493.205 69.9024 L493.205 61.4765 Q498.187 64.2716 502.967 65.6895 Q507.748 67.1073 512.366 67.1073 Q519.374 67.1073 523.181 64.3527 Q526.989 61.598 526.989 56.4939 Q526.989 52.0379 524.235 49.5264 Q521.521 47.0148 515.282 45.759 L510.3 44.7868 Q501.145 42.9639 497.053 39.075 Q492.962 35.1862 492.962 28.2591 Q492.962 20.2383 498.593 15.6203 Q504.264 11.0023 514.188 11.0023 Q518.442 11.0023 522.857 11.7719 Q527.273 12.5416 531.891 14.0809 Z\" fill=\"#000000\" fill-rule=\"evenodd\" fill-opacity=\"1\" /><path clip-path=\"url(#clip440)\" d=\"M548.297 12.096 L586.538 12.096 L586.538 18.9825 L556.48 18.9825 L556.48 36.8875 L585.282 36.8875 L585.282 43.7741 L556.48 43.7741 L556.48 65.6895 L587.267 65.6895 L587.267 72.576 L548.297 72.576 L548.297 12.096 Z\" fill=\"#000000\" fill-rule=\"evenodd\" fill-opacity=\"1\" /><path clip-path=\"url(#clip440)\" d=\"M600.716 12.096 L608.899 12.096 L608.899 72.576 L600.716 72.576 L600.716 12.096 Z\" fill=\"#000000\" fill-rule=\"evenodd\" fill-opacity=\"1\" /><path clip-path=\"url(#clip440)\" d=\"M653.864 44.2197 Q656.497 45.1109 658.968 48.0275 Q661.479 50.9442 663.991 56.0483 L672.295 72.576 L663.505 72.576 L655.768 57.061 Q652.77 50.9847 649.934 48.9997 Q647.139 47.0148 642.278 47.0148 L633.366 47.0148 L633.366 72.576 L625.183 72.576 L625.183 12.096 L643.655 12.096 Q654.026 12.096 659.13 16.4305 Q664.234 20.7649 664.234 29.5149 Q664.234 35.2267 661.56 38.994 Q658.927 42.7613 653.864 44.2197 M633.366 18.8205 L633.366 40.2903 L643.655 40.2903 Q649.57 40.2903 652.567 37.5762 Q655.606 34.8216 655.606 29.5149 Q655.606 24.2082 652.567 21.5346 Q649.57 18.8205 643.655 18.8205 L633.366 18.8205 Z\" fill=\"#000000\" fill-rule=\"evenodd\" fill-opacity=\"1\" /><path clip-path=\"url(#clip440)\" d=\"M724.795 72.576 L701.705 12.096 L710.252 12.096 L729.413 63.0159 L748.614 12.096 L757.121 12.096 L734.072 72.576 L724.795 72.576 Z\" fill=\"#000000\" fill-rule=\"evenodd\" fill-opacity=\"1\" /><path clip-path=\"url(#clip440)\" d=\"M802.208 14.0809 L802.208 22.0612 Q797.549 19.8332 793.417 18.7395 Q789.285 17.6457 785.437 17.6457 Q778.753 17.6457 775.107 20.2383 Q771.502 22.8309 771.502 27.611 Q771.502 31.6214 773.892 33.6873 Q776.322 35.7128 783.047 36.9686 L787.989 37.9813 Q797.144 39.7232 801.479 44.1387 Q805.854 48.5136 805.854 55.8863 Q805.854 64.6767 799.939 69.2137 Q794.065 73.7508 782.682 73.7508 Q778.388 73.7508 773.527 72.7785 Q768.707 71.8063 763.522 69.9024 L763.522 61.4765 Q768.504 64.2716 773.284 65.6895 Q778.064 67.1073 782.682 67.1073 Q789.69 67.1073 793.498 64.3527 Q797.306 61.598 797.306 56.4939 Q797.306 52.0379 794.552 49.5264 Q791.837 47.0148 785.599 45.759 L780.616 44.7868 Q771.461 42.9639 767.37 39.075 Q763.279 35.1862 763.279 28.2591 Q763.279 20.2383 768.909 15.6203 Q774.581 11.0023 784.505 11.0023 Q788.759 11.0023 793.174 11.7719 Q797.59 12.5416 802.208 14.0809 Z\" fill=\"#000000\" fill-rule=\"evenodd\" fill-opacity=\"1\" /><path clip-path=\"url(#clip440)\" d=\"M881.241 14.0809 L881.241 22.0612 Q876.582 19.8332 872.45 18.7395 Q868.319 17.6457 864.47 17.6457 Q857.786 17.6457 854.14 20.2383 Q850.535 22.8309 850.535 27.611 Q850.535 31.6214 852.925 33.6873 Q855.356 35.7128 862.08 36.9686 L867.022 37.9813 Q876.177 39.7232 880.512 44.1387 Q884.887 48.5136 884.887 55.8863 Q884.887 64.6767 878.972 69.2137 Q873.099 73.7508 861.716 73.7508 Q857.422 73.7508 852.561 72.7785 Q847.74 71.8063 842.555 69.9024 L842.555 61.4765 Q847.537 64.2716 852.317 65.6895 Q857.098 67.1073 861.716 67.1073 Q868.724 67.1073 872.531 64.3527 Q876.339 61.598 876.339 56.4939 Q876.339 52.0379 873.585 49.5264 Q870.871 47.0148 864.632 45.759 L859.65 44.7868 Q850.495 42.9639 846.403 39.075 Q842.312 35.1862 842.312 28.2591 Q842.312 20.2383 847.942 15.6203 Q853.614 11.0023 863.538 11.0023 Q867.792 11.0023 872.207 11.7719 Q876.623 12.5416 881.241 14.0809 Z\" fill=\"#000000\" fill-rule=\"evenodd\" fill-opacity=\"1\" /><path clip-path=\"url(#clip440)\" d=\"M897.647 12.096 L905.83 12.096 L905.83 72.576 L897.647 72.576 L897.647 12.096 Z\" fill=\"#000000\" fill-rule=\"evenodd\" fill-opacity=\"1\" /><path clip-path=\"url(#clip440)\" d=\"M950.795 44.2197 Q953.428 45.1109 955.899 48.0275 Q958.411 50.9442 960.922 56.0483 L969.227 72.576 L960.436 72.576 L952.699 57.061 Q949.701 50.9847 946.866 48.9997 Q944.07 47.0148 939.209 47.0148 L930.297 47.0148 L930.297 72.576 L922.115 72.576 L922.115 12.096 L940.587 12.096 Q950.957 12.096 956.061 16.4305 Q961.165 20.7649 961.165 29.5149 Q961.165 35.2267 958.492 38.994 Q955.859 42.7613 950.795 44.2197 M930.297 18.8205 L930.297 40.2903 L940.587 40.2903 Q946.501 40.2903 949.499 37.5762 Q952.537 34.8216 952.537 29.5149 Q952.537 24.2082 949.499 21.5346 Q946.501 18.8205 940.587 18.8205 L930.297 18.8205 Z\" fill=\"#000000\" fill-rule=\"evenodd\" fill-opacity=\"1\" /><path clip-path=\"url(#clip440)\" d=\"M1026.34 20.1573 L1015.24 50.2555 L1037.48 50.2555 L1026.34 20.1573 M1021.73 12.096 L1031 12.096 L1054.05 72.576 L1045.55 72.576 L1040.04 57.061 L1012.77 57.061 L1007.26 72.576 L998.636 72.576 L1021.73 12.096 Z\" fill=\"#000000\" fill-rule=\"evenodd\" fill-opacity=\"1\" /><path clip-path=\"url(#clip440)\" d=\"M1061.95 12.096 L1070.18 12.096 L1070.18 48.8377 Q1070.18 58.5599 1073.7 62.8538 Q1077.22 67.1073 1085.12 67.1073 Q1092.98 67.1073 1096.51 62.8538 Q1100.03 58.5599 1100.03 48.8377 L1100.03 12.096 L1108.25 12.096 L1108.25 49.8504 Q1108.25 61.6791 1102.38 67.7149 Q1096.55 73.7508 1085.12 73.7508 Q1073.66 73.7508 1067.79 67.7149 Q1061.95 61.6791 1061.95 49.8504 L1061.95 12.096 Z\" fill=\"#000000\" fill-rule=\"evenodd\" fill-opacity=\"1\" /><path clip-path=\"url(#clip440)\" d=\"M1152.29 44.2197 Q1154.92 45.1109 1157.39 48.0275 Q1159.9 50.9442 1162.41 56.0483 L1170.72 72.576 L1161.93 72.576 L1154.19 57.061 Q1151.19 50.9847 1148.36 48.9997 Q1145.56 47.0148 1140.7 47.0148 L1131.79 47.0148 L1131.79 72.576 L1123.61 72.576 L1123.61 12.096 L1142.08 12.096 Q1152.45 12.096 1157.55 16.4305 Q1162.66 20.7649 1162.66 29.5149 Q1162.66 35.2267 1159.98 38.994 Q1157.35 42.7613 1152.29 44.2197 M1131.79 18.8205 L1131.79 40.2903 L1142.08 40.2903 Q1147.99 40.2903 1150.99 37.5762 Q1154.03 34.8216 1154.03 29.5149 Q1154.03 24.2082 1150.99 21.5346 Q1147.99 18.8205 1142.08 18.8205 L1131.79 18.8205 Z\" fill=\"#000000\" fill-rule=\"evenodd\" fill-opacity=\"1\" /><path clip-path=\"url(#clip440)\" d=\"M1205.8 17.6457 Q1196.89 17.6457 1191.62 24.2892 Q1186.4 30.9327 1186.4 42.3968 Q1186.4 53.8203 1191.62 60.4638 Q1196.89 67.1073 1205.8 67.1073 Q1214.71 67.1073 1219.9 60.4638 Q1225.12 53.8203 1225.12 42.3968 Q1225.12 30.9327 1219.9 24.2892 Q1214.71 17.6457 1205.8 17.6457 M1205.8 11.0023 Q1218.52 11.0023 1226.13 19.5497 Q1233.75 28.0566 1233.75 42.3968 Q1233.75 56.6965 1226.13 65.2439 Q1218.52 73.7508 1205.8 73.7508 Q1193.04 73.7508 1185.38 65.2439 Q1177.77 56.737 1177.77 42.3968 Q1177.77 28.0566 1185.38 19.5497 Q1193.04 11.0023 1205.8 11.0023 Z\" fill=\"#000000\" fill-rule=\"evenodd\" fill-opacity=\"1\" /><path clip-path=\"url(#clip440)\" d=\"M1291.84 16.7545 L1291.84 25.383 Q1287.71 21.5346 1283.01 19.6307 Q1278.35 17.7268 1273.08 17.7268 Q1262.71 17.7268 1257.21 24.0867 Q1251.7 30.4061 1251.7 42.3968 Q1251.7 54.3469 1257.21 60.7069 Q1262.71 67.0263 1273.08 67.0263 Q1278.35 67.0263 1283.01 65.1223 Q1287.71 63.2184 1291.84 59.3701 L1291.84 67.9175 Q1287.55 70.8341 1282.73 72.2924 Q1277.95 73.7508 1272.6 73.7508 Q1258.87 73.7508 1250.97 65.3654 Q1243.07 56.9395 1243.07 42.3968 Q1243.07 27.8135 1250.97 19.4281 Q1258.87 11.0023 1272.6 11.0023 Q1278.03 11.0023 1282.81 12.4606 Q1287.63 13.8784 1291.84 16.7545 Z\" fill=\"#000000\" fill-rule=\"evenodd\" fill-opacity=\"1\" /><path clip-path=\"url(#clip440)\" d=\"M1330.53 27.2059 L1337.98 27.2059 L1337.98 72.576 L1330.53 72.576 L1330.53 27.2059 M1330.53 9.54393 L1337.98 9.54393 L1337.98 18.9825 L1330.53 18.9825 L1330.53 9.54393 Z\" fill=\"#000000\" fill-rule=\"evenodd\" fill-opacity=\"1\" /><path clip-path=\"url(#clip440)\" d=\"M1391.29 45.1919 L1391.29 72.576 L1383.84 72.576 L1383.84 45.4349 Q1383.84 38.994 1381.33 35.7938 Q1378.81 32.5936 1373.79 32.5936 Q1367.75 32.5936 1364.27 36.4419 Q1360.79 40.2903 1360.79 46.9338 L1360.79 72.576 L1353.29 72.576 L1353.29 27.2059 L1360.79 27.2059 L1360.79 34.2544 Q1363.46 30.163 1367.07 28.1376 Q1370.71 26.1121 1375.45 26.1121 Q1383.27 26.1121 1387.28 30.9732 Q1391.29 35.7938 1391.29 45.1919 Z\" fill=\"#000000\" fill-rule=\"evenodd\" fill-opacity=\"1\" /><path clip-path=\"url(#clip440)\" d=\"M1455.5 9.54393 L1455.5 15.7418 L1448.37 15.7418 Q1444.36 15.7418 1442.78 17.3622 Q1441.24 18.9825 1441.24 23.1955 L1441.24 27.2059 L1453.51 27.2059 L1453.51 32.9987 L1441.24 32.9987 L1441.24 72.576 L1433.74 72.576 L1433.74 32.9987 L1426.61 32.9987 L1426.61 27.2059 L1433.74 27.2059 L1433.74 24.0462 Q1433.74 16.471 1437.27 13.0277 Q1440.79 9.54393 1448.45 9.54393 L1455.5 9.54393 Z\" fill=\"#000000\" fill-rule=\"evenodd\" fill-opacity=\"1\" /><path clip-path=\"url(#clip440)\" d=\"M1460.97 54.671 L1460.97 27.2059 L1468.42 27.2059 L1468.42 54.3874 Q1468.42 60.8284 1470.93 64.0691 Q1473.44 67.2693 1478.47 67.2693 Q1484.5 67.2693 1487.99 63.421 Q1491.51 59.5726 1491.51 52.9291 L1491.51 27.2059 L1498.96 27.2059 L1498.96 72.576 L1491.51 72.576 L1491.51 65.6084 Q1488.8 69.7404 1485.19 71.7658 Q1481.63 73.7508 1476.89 73.7508 Q1469.07 73.7508 1465.02 68.8897 Q1460.97 64.0286 1460.97 54.671 M1479.72 26.1121 L1479.72 26.1121 Z\" fill=\"#000000\" fill-rule=\"evenodd\" fill-opacity=\"1\" /><path clip-path=\"url(#clip440)\" d=\"M1552.03 45.1919 L1552.03 72.576 L1544.58 72.576 L1544.58 45.4349 Q1544.58 38.994 1542.06 35.7938 Q1539.55 32.5936 1534.53 32.5936 Q1528.49 32.5936 1525.01 36.4419 Q1521.53 40.2903 1521.53 46.9338 L1521.53 72.576 L1514.03 72.576 L1514.03 27.2059 L1521.53 27.2059 L1521.53 34.2544 Q1524.2 30.163 1527.81 28.1376 Q1531.45 26.1121 1536.19 26.1121 Q1544.01 26.1121 1548.02 30.9732 Q1552.03 35.7938 1552.03 45.1919 Z\" fill=\"#000000\" fill-rule=\"evenodd\" fill-opacity=\"1\" /><path clip-path=\"url(#clip440)\" d=\"M1599.55 28.9478 L1599.55 35.9153 Q1596.39 34.1734 1593.19 33.3227 Q1590.03 32.4315 1586.79 32.4315 Q1579.54 32.4315 1575.53 37.0496 Q1571.51 41.6271 1571.51 49.9314 Q1571.51 58.2358 1575.53 62.8538 Q1579.54 67.4314 1586.79 67.4314 Q1590.03 67.4314 1593.19 66.5807 Q1596.39 65.6895 1599.55 63.9476 L1599.55 70.8341 Q1596.43 72.2924 1593.07 73.0216 Q1589.74 73.7508 1585.98 73.7508 Q1575.73 73.7508 1569.69 67.3098 Q1563.66 60.8689 1563.66 49.9314 Q1563.66 38.832 1569.73 32.472 Q1575.85 26.1121 1586.46 26.1121 Q1589.91 26.1121 1593.19 26.8413 Q1596.47 27.5299 1599.55 28.9478 Z\" fill=\"#000000\" fill-rule=\"evenodd\" fill-opacity=\"1\" /><path clip-path=\"url(#clip440)\" d=\"M1619.88 14.324 L1619.88 27.2059 L1635.24 27.2059 L1635.24 32.9987 L1619.88 32.9987 L1619.88 57.6282 Q1619.88 63.1779 1621.38 64.7578 Q1622.92 66.3376 1627.58 66.3376 L1635.24 66.3376 L1635.24 72.576 L1627.58 72.576 Q1618.95 72.576 1615.67 69.3758 Q1612.39 66.1351 1612.39 57.6282 L1612.39 32.9987 L1606.92 32.9987 L1606.92 27.2059 L1612.39 27.2059 L1612.39 14.324 L1619.88 14.324 Z\" fill=\"#000000\" fill-rule=\"evenodd\" fill-opacity=\"1\" /><path clip-path=\"url(#clip440)\" d=\"M1645.04 27.2059 L1652.49 27.2059 L1652.49 72.576 L1645.04 72.576 L1645.04 27.2059 M1645.04 9.54393 L1652.49 9.54393 L1652.49 18.9825 L1645.04 18.9825 L1645.04 9.54393 Z\" fill=\"#000000\" fill-rule=\"evenodd\" fill-opacity=\"1\" /><path clip-path=\"url(#clip440)\" d=\"M1685.67 32.4315 Q1679.67 32.4315 1676.19 37.1306 Q1672.71 41.7891 1672.71 49.9314 Q1672.71 58.0738 1676.15 62.7728 Q1679.63 67.4314 1685.67 67.4314 Q1691.62 67.4314 1695.11 62.7323 Q1698.59 58.0333 1698.59 49.9314 Q1698.59 41.8701 1695.11 37.1711 Q1691.62 32.4315 1685.67 32.4315 M1685.67 26.1121 Q1695.39 26.1121 1700.94 32.4315 Q1706.49 38.7509 1706.49 49.9314 Q1706.49 61.0714 1700.94 67.4314 Q1695.39 73.7508 1685.67 73.7508 Q1675.91 73.7508 1670.36 67.4314 Q1664.85 61.0714 1664.85 49.9314 Q1664.85 38.7509 1670.36 32.4315 Q1675.91 26.1121 1685.67 26.1121 Z\" fill=\"#000000\" fill-rule=\"evenodd\" fill-opacity=\"1\" /><path clip-path=\"url(#clip440)\" d=\"M1756.56 45.1919 L1756.56 72.576 L1749.11 72.576 L1749.11 45.4349 Q1749.11 38.994 1746.6 35.7938 Q1744.08 32.5936 1739.06 32.5936 Q1733.02 32.5936 1729.54 36.4419 Q1726.06 40.2903 1726.06 46.9338 L1726.06 72.576 L1718.56 72.576 L1718.56 27.2059 L1726.06 27.2059 L1726.06 34.2544 Q1728.73 30.163 1732.34 28.1376 Q1735.98 26.1121 1740.72 26.1121 Q1748.54 26.1121 1752.55 30.9732 Q1756.56 35.7938 1756.56 45.1919 Z\" fill=\"#000000\" fill-rule=\"evenodd\" fill-opacity=\"1\" /><path clip-path=\"url(#clip440)\" d=\"M1815.38 32.4315 Q1809.38 32.4315 1805.9 37.1306 Q1802.42 41.7891 1802.42 49.9314 Q1802.42 58.0738 1805.86 62.7728 Q1809.34 67.4314 1815.38 67.4314 Q1821.33 67.4314 1824.82 62.7323 Q1828.3 58.0333 1828.3 49.9314 Q1828.3 41.8701 1824.82 37.1711 Q1821.33 32.4315 1815.38 32.4315 M1815.38 26.1121 Q1825.1 26.1121 1830.65 32.4315 Q1836.2 38.7509 1836.2 49.9314 Q1836.2 61.0714 1830.65 67.4314 Q1825.1 73.7508 1815.38 73.7508 Q1805.62 73.7508 1800.07 67.4314 Q1794.56 61.0714 1794.56 49.9314 Q1794.56 38.7509 1800.07 32.4315 Q1805.62 26.1121 1815.38 26.1121 Z\" fill=\"#000000\" fill-rule=\"evenodd\" fill-opacity=\"1\" /><path clip-path=\"url(#clip440)\" d=\"M1871.52 9.54393 L1871.52 15.7418 L1864.4 15.7418 Q1860.38 15.7418 1858.81 17.3622 Q1857.27 18.9825 1857.27 23.1955 L1857.27 27.2059 L1869.54 27.2059 L1869.54 32.9987 L1857.27 32.9987 L1857.27 72.576 L1849.77 72.576 L1849.77 32.9987 L1842.64 32.9987 L1842.64 27.2059 L1849.77 27.2059 L1849.77 24.0462 Q1849.77 16.471 1853.3 13.0277 Q1856.82 9.54393 1864.48 9.54393 L1871.52 9.54393 Z\" fill=\"#000000\" fill-rule=\"evenodd\" fill-opacity=\"1\" /><path clip-path=\"url(#clip440)\" d=\"M1911.51 14.324 L1911.51 27.2059 L1926.86 27.2059 L1926.86 32.9987 L1911.51 32.9987 L1911.51 57.6282 Q1911.51 63.1779 1913.01 64.7578 Q1914.55 66.3376 1919.2 66.3376 L1926.86 66.3376 L1926.86 72.576 L1919.2 72.576 Q1910.58 72.576 1907.29 69.3758 Q1904.01 66.1351 1904.01 57.6282 L1904.01 32.9987 L1898.54 32.9987 L1898.54 27.2059 L1904.01 27.2059 L1904.01 14.324 L1911.51 14.324 Z\" fill=\"#000000\" fill-rule=\"evenodd\" fill-opacity=\"1\" /><path clip-path=\"url(#clip440)\" d=\"M1936.66 27.2059 L1944.12 27.2059 L1944.12 72.576 L1936.66 72.576 L1936.66 27.2059 M1936.66 9.54393 L1944.12 9.54393 L1944.12 18.9825 L1936.66 18.9825 L1936.66 9.54393 Z\" fill=\"#000000\" fill-rule=\"evenodd\" fill-opacity=\"1\" /><path clip-path=\"url(#clip440)\" d=\"M1995.04 35.9153 Q1997.83 30.8922 2001.72 28.5022 Q2005.61 26.1121 2010.88 26.1121 Q2017.97 26.1121 2021.81 31.0947 Q2025.66 36.0368 2025.66 45.1919 L2025.66 72.576 L2018.17 72.576 L2018.17 45.4349 Q2018.17 38.913 2015.86 35.7533 Q2013.55 32.5936 2008.81 32.5936 Q2003.02 32.5936 1999.66 36.4419 Q1996.29 40.2903 1996.29 46.9338 L1996.29 72.576 L1988.8 72.576 L1988.8 45.4349 Q1988.8 38.8725 1986.49 35.7533 Q1984.18 32.5936 1979.36 32.5936 Q1973.65 32.5936 1970.29 36.4824 Q1966.92 40.3308 1966.92 46.9338 L1966.92 72.576 L1959.43 72.576 L1959.43 27.2059 L1966.92 27.2059 L1966.92 34.2544 Q1969.48 30.082 1973.04 28.0971 Q1976.61 26.1121 1981.51 26.1121 Q1986.45 26.1121 1989.89 28.6237 Q1993.38 31.1352 1995.04 35.9153 Z\" fill=\"#000000\" fill-rule=\"evenodd\" fill-opacity=\"1\" /><path clip-path=\"url(#clip440)\" d=\"M2079.34 48.0275 L2079.34 51.6733 L2045.07 51.6733 Q2045.55 59.3701 2049.68 63.421 Q2053.86 67.4314 2061.27 67.4314 Q2065.56 67.4314 2069.57 66.3781 Q2073.62 65.3249 2077.59 63.2184 L2077.59 70.267 Q2073.58 71.9684 2069.37 72.8596 Q2065.16 73.7508 2060.82 73.7508 Q2049.97 73.7508 2043.61 67.4314 Q2037.29 61.1119 2037.29 50.3365 Q2037.29 39.1965 2043.28 32.6746 Q2049.32 26.1121 2059.53 26.1121 Q2068.68 26.1121 2073.99 32.0264 Q2079.34 37.9003 2079.34 48.0275 M2071.88 45.84 Q2071.8 39.7232 2068.44 36.0774 Q2065.12 32.4315 2059.61 32.4315 Q2053.37 32.4315 2049.6 35.9558 Q2045.88 39.4801 2045.31 45.8805 L2071.88 45.84 Z\" fill=\"#000000\" fill-rule=\"evenodd\" fill-opacity=\"1\" /><circle clip-path=\"url(#clip442)\" cx=\"279.916\" cy=\"886.747\" r=\"14\" fill=\"#009af9\" fill-rule=\"evenodd\" fill-opacity=\"1\" stroke=\"#000000\" stroke-opacity=\"1\" stroke-width=\"3.2\"/>\n",
       "<circle clip-path=\"url(#clip442)\" cx=\"385.835\" cy=\"862.847\" r=\"14\" fill=\"#009af9\" fill-rule=\"evenodd\" fill-opacity=\"1\" stroke=\"#000000\" stroke-opacity=\"1\" stroke-width=\"3.2\"/>\n",
       "<circle clip-path=\"url(#clip442)\" cx=\"491.755\" cy=\"869.337\" r=\"14\" fill=\"#009af9\" fill-rule=\"evenodd\" fill-opacity=\"1\" stroke=\"#000000\" stroke-opacity=\"1\" stroke-width=\"3.2\"/>\n",
       "<circle clip-path=\"url(#clip442)\" cx=\"597.674\" cy=\"1007.51\" r=\"14\" fill=\"#009af9\" fill-rule=\"evenodd\" fill-opacity=\"1\" stroke=\"#000000\" stroke-opacity=\"1\" stroke-width=\"3.2\"/>\n",
       "<circle clip-path=\"url(#clip442)\" cx=\"703.593\" cy=\"977.94\" r=\"14\" fill=\"#009af9\" fill-rule=\"evenodd\" fill-opacity=\"1\" stroke=\"#000000\" stroke-opacity=\"1\" stroke-width=\"3.2\"/>\n",
       "<circle clip-path=\"url(#clip442)\" cx=\"809.512\" cy=\"960.921\" r=\"14\" fill=\"#009af9\" fill-rule=\"evenodd\" fill-opacity=\"1\" stroke=\"#000000\" stroke-opacity=\"1\" stroke-width=\"3.2\"/>\n",
       "<circle clip-path=\"url(#clip442)\" cx=\"915.432\" cy=\"908.936\" r=\"14\" fill=\"#009af9\" fill-rule=\"evenodd\" fill-opacity=\"1\" stroke=\"#000000\" stroke-opacity=\"1\" stroke-width=\"3.2\"/>\n",
       "<circle clip-path=\"url(#clip442)\" cx=\"1021.35\" cy=\"789.204\" r=\"14\" fill=\"#009af9\" fill-rule=\"evenodd\" fill-opacity=\"1\" stroke=\"#000000\" stroke-opacity=\"1\" stroke-width=\"3.2\"/>\n",
       "<circle clip-path=\"url(#clip442)\" cx=\"1127.27\" cy=\"790.076\" r=\"14\" fill=\"#009af9\" fill-rule=\"evenodd\" fill-opacity=\"1\" stroke=\"#000000\" stroke-opacity=\"1\" stroke-width=\"3.2\"/>\n",
       "<circle clip-path=\"url(#clip442)\" cx=\"1233.19\" cy=\"748.291\" r=\"14\" fill=\"#009af9\" fill-rule=\"evenodd\" fill-opacity=\"1\" stroke=\"#000000\" stroke-opacity=\"1\" stroke-width=\"3.2\"/>\n",
       "<circle clip-path=\"url(#clip442)\" cx=\"1339.11\" cy=\"762.75\" r=\"14\" fill=\"#009af9\" fill-rule=\"evenodd\" fill-opacity=\"1\" stroke=\"#000000\" stroke-opacity=\"1\" stroke-width=\"3.2\"/>\n",
       "<circle clip-path=\"url(#clip442)\" cx=\"1445.03\" cy=\"745.659\" r=\"14\" fill=\"#009af9\" fill-rule=\"evenodd\" fill-opacity=\"1\" stroke=\"#000000\" stroke-opacity=\"1\" stroke-width=\"3.2\"/>\n",
       "<circle clip-path=\"url(#clip442)\" cx=\"1550.95\" cy=\"657.205\" r=\"14\" fill=\"#009af9\" fill-rule=\"evenodd\" fill-opacity=\"1\" stroke=\"#000000\" stroke-opacity=\"1\" stroke-width=\"3.2\"/>\n",
       "<circle clip-path=\"url(#clip442)\" cx=\"1656.87\" cy=\"549.424\" r=\"14\" fill=\"#009af9\" fill-rule=\"evenodd\" fill-opacity=\"1\" stroke=\"#000000\" stroke-opacity=\"1\" stroke-width=\"3.2\"/>\n",
       "<circle clip-path=\"url(#clip442)\" cx=\"1762.79\" cy=\"527.485\" r=\"14\" fill=\"#009af9\" fill-rule=\"evenodd\" fill-opacity=\"1\" stroke=\"#000000\" stroke-opacity=\"1\" stroke-width=\"3.2\"/>\n",
       "<circle clip-path=\"url(#clip442)\" cx=\"1868.7\" cy=\"480.464\" r=\"14\" fill=\"#009af9\" fill-rule=\"evenodd\" fill-opacity=\"1\" stroke=\"#000000\" stroke-opacity=\"1\" stroke-width=\"3.2\"/>\n",
       "<circle clip-path=\"url(#clip442)\" cx=\"1974.62\" cy=\"447.539\" r=\"14\" fill=\"#009af9\" fill-rule=\"evenodd\" fill-opacity=\"1\" stroke=\"#000000\" stroke-opacity=\"1\" stroke-width=\"3.2\"/>\n",
       "<circle clip-path=\"url(#clip442)\" cx=\"2080.54\" cy=\"415.983\" r=\"14\" fill=\"#009af9\" fill-rule=\"evenodd\" fill-opacity=\"1\" stroke=\"#000000\" stroke-opacity=\"1\" stroke-width=\"3.2\"/>\n",
       "<circle clip-path=\"url(#clip442)\" cx=\"2186.46\" cy=\"206.793\" r=\"14\" fill=\"#009af9\" fill-rule=\"evenodd\" fill-opacity=\"1\" stroke=\"#000000\" stroke-opacity=\"1\" stroke-width=\"3.2\"/>\n",
       "<circle clip-path=\"url(#clip442)\" cx=\"2292.38\" cy=\"160.256\" r=\"14\" fill=\"#009af9\" fill-rule=\"evenodd\" fill-opacity=\"1\" stroke=\"#000000\" stroke-opacity=\"1\" stroke-width=\"3.2\"/>\n",
       "<circle clip-path=\"url(#clip442)\" cx=\"279.916\" cy=\"1149.65\" r=\"14\" fill=\"#e26f46\" fill-rule=\"evenodd\" fill-opacity=\"1\" stroke=\"#000000\" stroke-opacity=\"1\" stroke-width=\"3.2\"/>\n",
       "<circle clip-path=\"url(#clip442)\" cx=\"385.835\" cy=\"1149.65\" r=\"14\" fill=\"#e26f46\" fill-rule=\"evenodd\" fill-opacity=\"1\" stroke=\"#000000\" stroke-opacity=\"1\" stroke-width=\"3.2\"/>\n",
       "<circle clip-path=\"url(#clip442)\" cx=\"491.755\" cy=\"1030.4\" r=\"14\" fill=\"#e26f46\" fill-rule=\"evenodd\" fill-opacity=\"1\" stroke=\"#000000\" stroke-opacity=\"1\" stroke-width=\"3.2\"/>\n",
       "<circle clip-path=\"url(#clip442)\" cx=\"597.674\" cy=\"1306.65\" r=\"14\" fill=\"#e26f46\" fill-rule=\"evenodd\" fill-opacity=\"1\" stroke=\"#000000\" stroke-opacity=\"1\" stroke-width=\"3.2\"/>\n",
       "<circle clip-path=\"url(#clip442)\" cx=\"703.593\" cy=\"1354.46\" r=\"14\" fill=\"#e26f46\" fill-rule=\"evenodd\" fill-opacity=\"1\" stroke=\"#000000\" stroke-opacity=\"1\" stroke-width=\"3.2\"/>\n",
       "<circle clip-path=\"url(#clip442)\" cx=\"809.512\" cy=\"1386.4\" r=\"14\" fill=\"#e26f46\" fill-rule=\"evenodd\" fill-opacity=\"1\" stroke=\"#000000\" stroke-opacity=\"1\" stroke-width=\"3.2\"/>\n",
       "<circle clip-path=\"url(#clip442)\" cx=\"915.432\" cy=\"1377.19\" r=\"14\" fill=\"#e26f46\" fill-rule=\"evenodd\" fill-opacity=\"1\" stroke=\"#000000\" stroke-opacity=\"1\" stroke-width=\"3.2\"/>\n",
       "<circle clip-path=\"url(#clip442)\" cx=\"1021.35\" cy=\"1334.33\" r=\"14\" fill=\"#e26f46\" fill-rule=\"evenodd\" fill-opacity=\"1\" stroke=\"#000000\" stroke-opacity=\"1\" stroke-width=\"3.2\"/>\n",
       "<circle clip-path=\"url(#clip442)\" cx=\"1127.27\" cy=\"1270.43\" r=\"14\" fill=\"#e26f46\" fill-rule=\"evenodd\" fill-opacity=\"1\" stroke=\"#000000\" stroke-opacity=\"1\" stroke-width=\"3.2\"/>\n",
       "<circle clip-path=\"url(#clip442)\" cx=\"1233.19\" cy=\"1245.33\" r=\"14\" fill=\"#e26f46\" fill-rule=\"evenodd\" fill-opacity=\"1\" stroke=\"#000000\" stroke-opacity=\"1\" stroke-width=\"3.2\"/>\n",
       "<circle clip-path=\"url(#clip442)\" cx=\"1339.11\" cy=\"1263.4\" r=\"14\" fill=\"#e26f46\" fill-rule=\"evenodd\" fill-opacity=\"1\" stroke=\"#000000\" stroke-opacity=\"1\" stroke-width=\"3.2\"/>\n",
       "<circle clip-path=\"url(#clip442)\" cx=\"1445.03\" cy=\"1287.28\" r=\"14\" fill=\"#e26f46\" fill-rule=\"evenodd\" fill-opacity=\"1\" stroke=\"#000000\" stroke-opacity=\"1\" stroke-width=\"3.2\"/>\n",
       "<circle clip-path=\"url(#clip442)\" cx=\"1550.95\" cy=\"1372.56\" r=\"14\" fill=\"#e26f46\" fill-rule=\"evenodd\" fill-opacity=\"1\" stroke=\"#000000\" stroke-opacity=\"1\" stroke-width=\"3.2\"/>\n",
       "<circle clip-path=\"url(#clip442)\" cx=\"1656.87\" cy=\"1308.52\" r=\"14\" fill=\"#e26f46\" fill-rule=\"evenodd\" fill-opacity=\"1\" stroke=\"#000000\" stroke-opacity=\"1\" stroke-width=\"3.2\"/>\n",
       "<circle clip-path=\"url(#clip442)\" cx=\"1762.79\" cy=\"1345.34\" r=\"14\" fill=\"#e26f46\" fill-rule=\"evenodd\" fill-opacity=\"1\" stroke=\"#000000\" stroke-opacity=\"1\" stroke-width=\"3.2\"/>\n",
       "<circle clip-path=\"url(#clip442)\" cx=\"1868.7\" cy=\"1278.54\" r=\"14\" fill=\"#e26f46\" fill-rule=\"evenodd\" fill-opacity=\"1\" stroke=\"#000000\" stroke-opacity=\"1\" stroke-width=\"3.2\"/>\n",
       "<circle clip-path=\"url(#clip442)\" cx=\"1974.62\" cy=\"1213.34\" r=\"14\" fill=\"#e26f46\" fill-rule=\"evenodd\" fill-opacity=\"1\" stroke=\"#000000\" stroke-opacity=\"1\" stroke-width=\"3.2\"/>\n",
       "<circle clip-path=\"url(#clip442)\" cx=\"2080.54\" cy=\"1194.78\" r=\"14\" fill=\"#e26f46\" fill-rule=\"evenodd\" fill-opacity=\"1\" stroke=\"#000000\" stroke-opacity=\"1\" stroke-width=\"3.2\"/>\n",
       "<circle clip-path=\"url(#clip442)\" cx=\"2186.46\" cy=\"1009.5\" r=\"14\" fill=\"#e26f46\" fill-rule=\"evenodd\" fill-opacity=\"1\" stroke=\"#000000\" stroke-opacity=\"1\" stroke-width=\"3.2\"/>\n",
       "<circle clip-path=\"url(#clip442)\" cx=\"2292.38\" cy=\"939.683\" r=\"14\" fill=\"#e26f46\" fill-rule=\"evenodd\" fill-opacity=\"1\" stroke=\"#000000\" stroke-opacity=\"1\" stroke-width=\"3.2\"/>\n",
       "<path clip-path=\"url(#clip440)\" d=\"\n",
       "M1787.1 825.166 L2281.65 825.166 L2281.65 669.646 L1787.1 669.646  Z\n",
       "  \" fill=\"#ffffff\" fill-rule=\"evenodd\" fill-opacity=\"1\"/>\n",
       "<polyline clip-path=\"url(#clip440)\" style=\"stroke:#000000; stroke-linecap:butt; stroke-linejoin:round; stroke-width:4; stroke-opacity:1; fill:none\" points=\"\n",
       "  1787.1,825.166 2281.65,825.166 2281.65,669.646 1787.1,669.646 1787.1,825.166 \n",
       "  \"/>\n",
       "<circle clip-path=\"url(#clip440)\" cx=\"1881.91\" cy=\"721.486\" r=\"23\" fill=\"#009af9\" fill-rule=\"evenodd\" fill-opacity=\"1\" stroke=\"#000000\" stroke-opacity=\"1\" stroke-width=\"5.12\"/>\n",
       "<path clip-path=\"url(#clip440)\" d=\"M1992.56 708.812 L1986.21 726.011 L1998.92 726.011 L1992.56 708.812 M1989.92 704.206 L1995.22 704.206 L2008.39 738.766 L2003.53 738.766 L2000.38 729.9 L1984.8 729.9 L1981.65 738.766 L1976.72 738.766 L1989.92 704.206 Z\" fill=\"#000000\" fill-rule=\"evenodd\" fill-opacity=\"1\" /><path clip-path=\"url(#clip440)\" d=\"M2012.9 704.206 L2017.6 704.206 L2017.6 725.201 Q2017.6 730.757 2019.62 733.21 Q2021.63 735.641 2026.14 735.641 Q2030.63 735.641 2032.65 733.21 Q2034.66 730.757 2034.66 725.201 L2034.66 704.206 L2039.36 704.206 L2039.36 725.78 Q2039.36 732.539 2036 735.988 Q2032.67 739.437 2026.14 739.437 Q2019.59 739.437 2016.24 735.988 Q2012.9 732.539 2012.9 725.78 L2012.9 704.206 Z\" fill=\"#000000\" fill-rule=\"evenodd\" fill-opacity=\"1\" /><path clip-path=\"url(#clip440)\" d=\"M2066.61 713.836 L2066.61 717.817 Q2064.8 716.822 2062.97 716.336 Q2061.17 715.826 2059.31 715.826 Q2055.17 715.826 2052.88 718.465 Q2050.59 721.081 2050.59 725.826 Q2050.59 730.572 2052.88 733.21 Q2055.17 735.826 2059.31 735.826 Q2061.17 735.826 2062.97 735.34 Q2064.8 734.831 2066.61 733.835 L2066.61 737.771 Q2064.82 738.604 2062.9 739.021 Q2061 739.437 2058.85 739.437 Q2053 739.437 2049.55 735.757 Q2046.1 732.076 2046.1 725.826 Q2046.1 719.484 2049.57 715.849 Q2053.06 712.215 2059.13 712.215 Q2061.1 712.215 2062.97 712.632 Q2064.85 713.025 2066.61 713.836 Z\" fill=\"#000000\" fill-rule=\"evenodd\" fill-opacity=\"1\" /><path clip-path=\"url(#clip440)\" d=\"M2085.8 725.734 Q2080.63 725.734 2078.64 726.914 Q2076.65 728.095 2076.65 730.942 Q2076.65 733.21 2078.13 734.553 Q2079.64 735.872 2082.21 735.872 Q2085.75 735.872 2087.88 733.372 Q2090.03 730.849 2090.03 726.683 L2090.03 725.734 L2085.8 725.734 M2094.29 723.974 L2094.29 738.766 L2090.03 738.766 L2090.03 734.831 Q2088.57 737.192 2086.4 738.326 Q2084.22 739.437 2081.07 739.437 Q2077.09 739.437 2074.73 737.215 Q2072.39 734.97 2072.39 731.22 Q2072.39 726.845 2075.31 724.623 Q2078.25 722.4 2084.06 722.4 L2090.03 722.4 L2090.03 721.984 Q2090.03 719.044 2088.09 717.447 Q2086.17 715.826 2082.67 715.826 Q2080.45 715.826 2078.34 716.359 Q2076.24 716.891 2074.29 717.956 L2074.29 714.021 Q2076.63 713.118 2078.83 712.678 Q2081.03 712.215 2083.11 712.215 Q2088.74 712.215 2091.51 715.132 Q2094.29 718.049 2094.29 723.974 Z\" fill=\"#000000\" fill-rule=\"evenodd\" fill-opacity=\"1\" /><path clip-path=\"url(#clip440)\" d=\"M2102.62 728.535 L2102.62 712.84 L2106.88 712.84 L2106.88 728.373 Q2106.88 732.053 2108.32 733.905 Q2109.75 735.734 2112.62 735.734 Q2116.07 735.734 2118.06 733.535 Q2120.08 731.335 2120.08 727.539 L2120.08 712.84 L2124.34 712.84 L2124.34 738.766 L2120.08 738.766 L2120.08 734.785 Q2118.53 737.146 2116.47 738.303 Q2114.43 739.437 2111.72 739.437 Q2107.25 739.437 2104.94 736.66 Q2102.62 733.882 2102.62 728.535 M2113.34 712.215 L2113.34 712.215 Z\" fill=\"#000000\" fill-rule=\"evenodd\" fill-opacity=\"1\" /><path clip-path=\"url(#clip440)\" d=\"M2154.01 705.34 L2154.01 709.9 Q2151.35 708.627 2148.99 708.002 Q2146.63 707.377 2144.43 707.377 Q2140.61 707.377 2138.53 708.859 Q2136.47 710.34 2136.47 713.072 Q2136.47 715.363 2137.83 716.544 Q2139.22 717.701 2143.06 718.419 L2145.89 718.998 Q2151.12 719.993 2153.6 722.516 Q2156.1 725.016 2156.1 729.229 Q2156.1 734.252 2152.72 736.845 Q2149.36 739.437 2142.86 739.437 Q2140.4 739.437 2137.62 738.882 Q2134.87 738.326 2131.91 737.238 L2131.91 732.423 Q2134.75 734.021 2137.49 734.831 Q2140.22 735.641 2142.86 735.641 Q2146.86 735.641 2149.04 734.067 Q2151.21 732.493 2151.21 729.576 Q2151.21 727.03 2149.64 725.595 Q2148.09 724.16 2144.52 723.442 L2141.68 722.886 Q2136.44 721.845 2134.11 719.623 Q2131.77 717.4 2131.77 713.442 Q2131.77 708.859 2134.99 706.22 Q2138.23 703.581 2143.9 703.581 Q2146.33 703.581 2148.85 704.021 Q2151.37 704.461 2154.01 705.34 Z\" fill=\"#000000\" fill-rule=\"evenodd\" fill-opacity=\"1\" /><path clip-path=\"url(#clip440)\" d=\"M2163.39 704.206 L2168.06 704.206 L2168.06 738.766 L2163.39 738.766 L2163.39 704.206 Z\" fill=\"#000000\" fill-rule=\"evenodd\" fill-opacity=\"1\" /><circle clip-path=\"url(#clip440)\" cx=\"1881.91\" cy=\"773.326\" r=\"23\" fill=\"#e26f46\" fill-rule=\"evenodd\" fill-opacity=\"1\" stroke=\"#000000\" stroke-opacity=\"1\" stroke-width=\"5.12\"/>\n",
       "<path clip-path=\"url(#clip440)\" d=\"M1992.56 760.652 L1986.21 777.851 L1998.92 777.851 L1992.56 760.652 M1989.92 756.046 L1995.22 756.046 L2008.39 790.606 L2003.53 790.606 L2000.38 781.74 L1984.8 781.74 L1981.65 790.606 L1976.72 790.606 L1989.92 756.046 Z\" fill=\"#000000\" fill-rule=\"evenodd\" fill-opacity=\"1\" /><path clip-path=\"url(#clip440)\" d=\"M2012.9 756.046 L2017.6 756.046 L2017.6 777.041 Q2017.6 782.597 2019.62 785.05 Q2021.63 787.481 2026.14 787.481 Q2030.63 787.481 2032.65 785.05 Q2034.66 782.597 2034.66 777.041 L2034.66 756.046 L2039.36 756.046 L2039.36 777.62 Q2039.36 784.379 2036 787.828 Q2032.67 791.277 2026.14 791.277 Q2019.59 791.277 2016.24 787.828 Q2012.9 784.379 2012.9 777.62 L2012.9 756.046 Z\" fill=\"#000000\" fill-rule=\"evenodd\" fill-opacity=\"1\" /><path clip-path=\"url(#clip440)\" d=\"M2066.61 765.676 L2066.61 769.657 Q2064.8 768.662 2062.97 768.176 Q2061.17 767.666 2059.31 767.666 Q2055.17 767.666 2052.88 770.305 Q2050.59 772.921 2050.59 777.666 Q2050.59 782.412 2052.88 785.05 Q2055.17 787.666 2059.31 787.666 Q2061.17 787.666 2062.97 787.18 Q2064.8 786.671 2066.61 785.675 L2066.61 789.611 Q2064.82 790.444 2062.9 790.861 Q2061 791.277 2058.85 791.277 Q2053 791.277 2049.55 787.597 Q2046.1 783.916 2046.1 777.666 Q2046.1 771.324 2049.57 767.689 Q2053.06 764.055 2059.13 764.055 Q2061.1 764.055 2062.97 764.472 Q2064.85 764.865 2066.61 765.676 Z\" fill=\"#000000\" fill-rule=\"evenodd\" fill-opacity=\"1\" /><path clip-path=\"url(#clip440)\" d=\"M2085.8 777.574 Q2080.63 777.574 2078.64 778.754 Q2076.65 779.935 2076.65 782.782 Q2076.65 785.05 2078.13 786.393 Q2079.64 787.712 2082.21 787.712 Q2085.75 787.712 2087.88 785.212 Q2090.03 782.689 2090.03 778.523 L2090.03 777.574 L2085.8 777.574 M2094.29 775.814 L2094.29 790.606 L2090.03 790.606 L2090.03 786.671 Q2088.57 789.032 2086.4 790.166 Q2084.22 791.277 2081.07 791.277 Q2077.09 791.277 2074.73 789.055 Q2072.39 786.81 2072.39 783.06 Q2072.39 778.685 2075.31 776.463 Q2078.25 774.24 2084.06 774.24 L2090.03 774.24 L2090.03 773.824 Q2090.03 770.884 2088.09 769.287 Q2086.17 767.666 2082.67 767.666 Q2080.45 767.666 2078.34 768.199 Q2076.24 768.731 2074.29 769.796 L2074.29 765.861 Q2076.63 764.958 2078.83 764.518 Q2081.03 764.055 2083.11 764.055 Q2088.74 764.055 2091.51 766.972 Q2094.29 769.889 2094.29 775.814 Z\" fill=\"#000000\" fill-rule=\"evenodd\" fill-opacity=\"1\" /><path clip-path=\"url(#clip440)\" d=\"M2102.62 780.375 L2102.62 764.68 L2106.88 764.68 L2106.88 780.213 Q2106.88 783.893 2108.32 785.745 Q2109.75 787.574 2112.62 787.574 Q2116.07 787.574 2118.06 785.375 Q2120.08 783.175 2120.08 779.379 L2120.08 764.68 L2124.34 764.68 L2124.34 790.606 L2120.08 790.606 L2120.08 786.625 Q2118.53 788.986 2116.47 790.143 Q2114.43 791.277 2111.72 791.277 Q2107.25 791.277 2104.94 788.5 Q2102.62 785.722 2102.62 780.375 M2113.34 764.055 L2113.34 764.055 Z\" fill=\"#000000\" fill-rule=\"evenodd\" fill-opacity=\"1\" /><path clip-path=\"url(#clip440)\" d=\"M2154.01 757.18 L2154.01 761.74 Q2151.35 760.467 2148.99 759.842 Q2146.63 759.217 2144.43 759.217 Q2140.61 759.217 2138.53 760.699 Q2136.47 762.18 2136.47 764.912 Q2136.47 767.203 2137.83 768.384 Q2139.22 769.541 2143.06 770.259 L2145.89 770.838 Q2151.12 771.833 2153.6 774.356 Q2156.1 776.856 2156.1 781.069 Q2156.1 786.092 2152.72 788.685 Q2149.36 791.277 2142.86 791.277 Q2140.4 791.277 2137.62 790.722 Q2134.87 790.166 2131.91 789.078 L2131.91 784.263 Q2134.75 785.861 2137.49 786.671 Q2140.22 787.481 2142.86 787.481 Q2146.86 787.481 2149.04 785.907 Q2151.21 784.333 2151.21 781.416 Q2151.21 778.87 2149.64 777.435 Q2148.09 776 2144.52 775.282 L2141.68 774.726 Q2136.44 773.685 2134.11 771.463 Q2131.77 769.24 2131.77 765.282 Q2131.77 760.699 2134.99 758.06 Q2138.23 755.421 2143.9 755.421 Q2146.33 755.421 2148.85 755.861 Q2151.37 756.301 2154.01 757.18 Z\" fill=\"#000000\" fill-rule=\"evenodd\" fill-opacity=\"1\" /><path clip-path=\"url(#clip440)\" d=\"M2163.39 756.046 L2185.24 756.046 L2185.24 759.981 L2168.06 759.981 L2168.06 770.213 L2184.52 770.213 L2184.52 774.148 L2168.06 774.148 L2168.06 786.671 L2185.66 786.671 L2185.66 790.606 L2163.39 790.606 L2163.39 756.046 Z\" fill=\"#000000\" fill-rule=\"evenodd\" fill-opacity=\"1\" /><path clip-path=\"url(#clip440)\" d=\"M2193.34 756.046 L2198.02 756.046 L2198.02 790.606 L2193.34 790.606 L2193.34 756.046 Z\" fill=\"#000000\" fill-rule=\"evenodd\" fill-opacity=\"1\" /><path clip-path=\"url(#clip440)\" d=\"M2223.71 774.402 Q2225.22 774.912 2226.63 776.578 Q2228.06 778.245 2229.5 781.162 L2234.24 790.606 L2229.22 790.606 L2224.8 781.74 Q2223.09 778.268 2221.47 777.134 Q2219.87 776 2217.09 776 L2212 776 L2212 790.606 L2207.32 790.606 L2207.32 756.046 L2217.88 756.046 Q2223.8 756.046 2226.72 758.523 Q2229.64 761 2229.64 766 Q2229.64 769.264 2228.11 771.416 Q2226.61 773.569 2223.71 774.402 M2212 759.889 L2212 772.157 L2217.88 772.157 Q2221.26 772.157 2222.97 770.606 Q2224.71 769.032 2224.71 766 Q2224.71 762.967 2222.97 761.439 Q2221.26 759.889 2217.88 759.889 L2212 759.889 Z\" fill=\"#000000\" fill-rule=\"evenodd\" fill-opacity=\"1\" /></svg>\n"
      ]
     },
     "execution_count": 256,
     "metadata": {},
     "output_type": "execute_result"
    }
   ],
   "source": [
    "T = Int(T)\n",
    "AU_cauSEIR=zeros(T)\n",
    "AU_cauSI=zeros(T)\n",
    "for t = 1:T\n",
    "    cauSEIR_risk=zeros(N)\n",
    "    cauSI_risk=zeros(N)\n",
    "    for i=1:N\n",
    "       cauSEIR_risk[i] = marginal(i,t,statscauSEIR)\n",
    "       cauSI_risk[i] = marginalSI(i,t,statscauSI)\n",
    "    end\n",
    "    xt = xtrue[:,1] .< t-1e-3 \n",
    "    AU_cauSEIR[t] = AUROC(ROC(xt, cauSEIR_risk))\n",
    "    AU_cauSI[t] = AUROC(ROC(xt, cauSI_risk))\n",
    "end\n",
    "\n",
    "scatter(LinRange(1,T,T),AU_cauSI, label=\"AUcauSI\",legend=:right)\n",
    "scatter!(LinRange(1,T,T),AU_cauSEIR, label=\"AUcauSEIR\", title=\"SEIR VS SIR AUROC in function of time\")\n",
    "\n",
    "T = Float64(T)\n",
    "#ylims!(0.5,1.05)\n",
    "#savefig(\"SierologicalAUROC\")\n",
    "xlabel!(\"t\")\n",
    "ylabel!(\"AUROC\")"
   ]
  },
  {
   "cell_type": "code",
   "execution_count": 378,
   "metadata": {
    "tags": []
   },
   "outputs": [
    {
     "name": "stderr",
     "output_type": "stream",
     "text": [
      "\u001b[32mProgress: 100%|█████████████████████████████████████████| Time: 0:02:39\u001b[39m\n",
      "\u001b[34m  F:  7.950505816557817\u001b[39m\n"
     ]
    }
   ],
   "source": [
    "\n",
    "\n",
    "pseed = 1/N\n",
    "ε = 1e-10\n",
    "autoinf = GaussianRate(ε, T/2, 1/ε)\n",
    "inf_in = GaussianRate(1.0, T/2, 1/ε)\n",
    "latency = GaussianRate(1., T/2, 1/ε)\n",
    "recov = GaussianRate(1., T/2, 1/ε)\n",
    "\n",
    "T = Float64(T)\n",
    "pseed_min = 1e-4\n",
    "pseed_max = 1-ε\n",
    "rate_min = GaussianRate(ε  ,  -T,   ε)\n",
    "rate_max = GaussianRate(1/ε  ,  2T,   1/ε)\n",
    "\n",
    "θmin = getpar(pseed_min , rate_min, rate_min, rate_min, rate_min);\n",
    "θmax = getpar(pseed_max , rate_max, rate_max, rate_max, rate_max);\n",
    "\n",
    "\n",
    "rate_min = GaussianRate(ε  ,  0.,   ε)\n",
    "rate_max = GaussianRate(1/ε  ,  T,   T)\n",
    "\n",
    "θgenmin = getpargen(pseed_min, rate_min, rate_min, rate_min, rate_min);\n",
    "θgenmax = getpargen(pseed_max, rate_max, rate_max, rate_max, rate_max);\n",
    "\n",
    "\n",
    "θp2 = getpar(pseed, autoinf, inf_in, latency, recov);\n",
    "\n",
    "latency = GaussianRate(1., T/2, 2T)\n",
    "recov = GaussianRate(1., T/2, 2T)\n",
    "\n",
    "l_delay = GaussianRate(100., T/2, 2T)\n",
    "r_delay = GaussianRate(0.01, T/2, 2T)\n",
    "\n",
    "\n",
    "θemb=getpar(pseed, autoinf, inf_in, latency, recov)\n",
    "θemb[[1,2,3,4,5,6,7],:] .= MSI.θ\n",
    "\n",
    "θgenemb=getpargen(pseed, autoinf, inf_out, l_delay, r_delay)\n",
    "θgenemb[[1,2,3,4,5,6,7]] = MSI.θgen\n",
    "\n",
    "Memb = StochasticModel(Igauss, T, θemb, G, θgenemb);\n",
    "Mp2 = StochasticModel(Igen, T, θp2, G, θgenemb);\n",
    "descend!(Mp2, O; M=Memb, numsamples=1000, numiters=100, \n",
    "         θmin=θmin, θmax=θmax,θgenmin=θgenmin, θgenmax=θgenmax, descender=SignDescender(0.02),\n",
    "       hyperdescender=SignDescender(0.02),hyper_mask=[1,3,4]);"
   ]
  },
  {
   "cell_type": "code",
   "execution_count": 379,
   "metadata": {},
   "outputs": [
    {
     "data": {
      "text/plain": [
       "1×2 Matrix{Float64}:\n",
       " 0.0622963  0.0610626"
      ]
     },
     "execution_count": 379,
     "metadata": {},
     "output_type": "execute_result"
    }
   ],
   "source": [
    "[θgenemb[5] MSI.θgen[5]]"
   ]
  },
  {
   "cell_type": "markdown",
   "metadata": {},
   "source": [
    "θ number of infected"
   ]
  },
  {
   "cell_type": "code",
   "execution_count": null,
   "metadata": {},
   "outputs": [
    {
     "data": {
      "image/svg+xml": [
       "<?xml version=\"1.0\" encoding=\"utf-8\"?>\n",
       "<svg xmlns=\"http://www.w3.org/2000/svg\" xmlns:xlink=\"http://www.w3.org/1999/xlink\" width=\"600\" height=\"400\" viewBox=\"0 0 2400 1600\">\n",
       "<defs>\n",
       "  <clipPath id=\"clip680\">\n",
       "    <rect x=\"0\" y=\"0\" width=\"2400\" height=\"1600\"/>\n",
       "  </clipPath>\n",
       "</defs>\n",
       "<path clip-path=\"url(#clip680)\" d=\"\n",
       "M0 1600 L2400 1600 L2400 0 L0 0  Z\n",
       "  \" fill=\"#ffffff\" fill-rule=\"evenodd\" fill-opacity=\"1\"/>\n",
       "<defs>\n",
       "  <clipPath id=\"clip681\">\n",
       "    <rect x=\"480\" y=\"0\" width=\"1681\" height=\"1600\"/>\n",
       "  </clipPath>\n",
       "</defs>\n",
       "<path clip-path=\"url(#clip680)\" d=\"\n",
       "M156.598 1486.45 L2352.76 1486.45 L2352.76 47.2441 L156.598 47.2441  Z\n",
       "  \" fill=\"#ffffff\" fill-rule=\"evenodd\" fill-opacity=\"1\"/>\n",
       "<defs>\n",
       "  <clipPath id=\"clip682\">\n",
       "    <rect x=\"156\" y=\"47\" width=\"2197\" height=\"1440\"/>\n",
       "  </clipPath>\n",
       "</defs>\n",
       "<polyline clip-path=\"url(#clip682)\" style=\"stroke:#000000; stroke-linecap:butt; stroke-linejoin:round; stroke-width:2; stroke-opacity:0.1; fill:none\" points=\"\n",
       "  654.932,1486.45 654.932,47.2441 \n",
       "  \"/>\n",
       "<polyline clip-path=\"url(#clip682)\" style=\"stroke:#000000; stroke-linecap:butt; stroke-linejoin:round; stroke-width:2; stroke-opacity:0.1; fill:none\" points=\"\n",
       "  1200.15,1486.45 1200.15,47.2441 \n",
       "  \"/>\n",
       "<polyline clip-path=\"url(#clip682)\" style=\"stroke:#000000; stroke-linecap:butt; stroke-linejoin:round; stroke-width:2; stroke-opacity:0.1; fill:none\" points=\"\n",
       "  1745.38,1486.45 1745.38,47.2441 \n",
       "  \"/>\n",
       "<polyline clip-path=\"url(#clip682)\" style=\"stroke:#000000; stroke-linecap:butt; stroke-linejoin:round; stroke-width:2; stroke-opacity:0.1; fill:none\" points=\"\n",
       "  2290.6,1486.45 2290.6,47.2441 \n",
       "  \"/>\n",
       "<polyline clip-path=\"url(#clip680)\" style=\"stroke:#000000; stroke-linecap:butt; stroke-linejoin:round; stroke-width:4; stroke-opacity:1; fill:none\" points=\"\n",
       "  156.598,1486.45 2352.76,1486.45 \n",
       "  \"/>\n",
       "<polyline clip-path=\"url(#clip680)\" style=\"stroke:#000000; stroke-linecap:butt; stroke-linejoin:round; stroke-width:4; stroke-opacity:1; fill:none\" points=\"\n",
       "  654.932,1486.45 654.932,1467.55 \n",
       "  \"/>\n",
       "<polyline clip-path=\"url(#clip680)\" style=\"stroke:#000000; stroke-linecap:butt; stroke-linejoin:round; stroke-width:4; stroke-opacity:1; fill:none\" points=\"\n",
       "  1200.15,1486.45 1200.15,1467.55 \n",
       "  \"/>\n",
       "<polyline clip-path=\"url(#clip680)\" style=\"stroke:#000000; stroke-linecap:butt; stroke-linejoin:round; stroke-width:4; stroke-opacity:1; fill:none\" points=\"\n",
       "  1745.38,1486.45 1745.38,1467.55 \n",
       "  \"/>\n",
       "<polyline clip-path=\"url(#clip680)\" style=\"stroke:#000000; stroke-linecap:butt; stroke-linejoin:round; stroke-width:4; stroke-opacity:1; fill:none\" points=\"\n",
       "  2290.6,1486.45 2290.6,1467.55 \n",
       "  \"/>\n",
       "<path clip-path=\"url(#clip680)\" d=\"M645.21 1514.29 L663.566 1514.29 L663.566 1518.22 L649.492 1518.22 L649.492 1526.7 Q650.511 1526.35 651.529 1526.19 Q652.548 1526 653.566 1526 Q659.353 1526 662.733 1529.17 Q666.112 1532.34 666.112 1537.76 Q666.112 1543.34 662.64 1546.44 Q659.168 1549.52 652.849 1549.52 Q650.673 1549.52 648.404 1549.15 Q646.159 1548.78 643.751 1548.04 L643.751 1543.34 Q645.835 1544.47 648.057 1545.03 Q650.279 1545.58 652.756 1545.58 Q656.761 1545.58 659.099 1543.48 Q661.437 1541.37 661.437 1537.76 Q661.437 1534.15 659.099 1532.04 Q656.761 1529.94 652.756 1529.94 Q650.881 1529.94 649.006 1530.35 Q647.154 1530.77 645.21 1531.65 L645.21 1514.29 Z\" fill=\"#000000\" fill-rule=\"evenodd\" fill-opacity=\"1\" /><path clip-path=\"url(#clip680)\" d=\"M1174.84 1544.91 L1182.48 1544.91 L1182.48 1518.55 L1174.17 1520.21 L1174.17 1515.95 L1182.43 1514.29 L1187.11 1514.29 L1187.11 1544.91 L1194.75 1544.91 L1194.75 1548.85 L1174.84 1548.85 L1174.84 1544.91 Z\" fill=\"#000000\" fill-rule=\"evenodd\" fill-opacity=\"1\" /><path clip-path=\"url(#clip680)\" d=\"M1214.19 1517.37 Q1210.58 1517.37 1208.75 1520.93 Q1206.95 1524.47 1206.95 1531.6 Q1206.95 1538.71 1208.75 1542.27 Q1210.58 1545.82 1214.19 1545.82 Q1217.83 1545.82 1219.63 1542.27 Q1221.46 1538.71 1221.46 1531.6 Q1221.46 1524.47 1219.63 1520.93 Q1217.83 1517.37 1214.19 1517.37 M1214.19 1513.66 Q1220 1513.66 1223.06 1518.27 Q1226.14 1522.85 1226.14 1531.6 Q1226.14 1540.33 1223.06 1544.94 Q1220 1549.52 1214.19 1549.52 Q1208.38 1549.52 1205.31 1544.94 Q1202.25 1540.33 1202.25 1531.6 Q1202.25 1522.85 1205.31 1518.27 Q1208.38 1513.66 1214.19 1513.66 Z\" fill=\"#000000\" fill-rule=\"evenodd\" fill-opacity=\"1\" /><path clip-path=\"url(#clip680)\" d=\"M1720.56 1544.91 L1728.2 1544.91 L1728.2 1518.55 L1719.89 1520.21 L1719.89 1515.95 L1728.16 1514.29 L1732.83 1514.29 L1732.83 1544.91 L1740.47 1544.91 L1740.47 1548.85 L1720.56 1548.85 L1720.56 1544.91 Z\" fill=\"#000000\" fill-rule=\"evenodd\" fill-opacity=\"1\" /><path clip-path=\"url(#clip680)\" d=\"M1749.96 1514.29 L1768.32 1514.29 L1768.32 1518.22 L1754.24 1518.22 L1754.24 1526.7 Q1755.26 1526.35 1756.28 1526.19 Q1757.3 1526 1758.32 1526 Q1764.1 1526 1767.48 1529.17 Q1770.86 1532.34 1770.86 1537.76 Q1770.86 1543.34 1767.39 1546.44 Q1763.92 1549.52 1757.6 1549.52 Q1755.42 1549.52 1753.16 1549.15 Q1750.91 1548.78 1748.5 1548.04 L1748.5 1543.34 Q1750.59 1544.47 1752.81 1545.03 Q1755.03 1545.58 1757.51 1545.58 Q1761.51 1545.58 1763.85 1543.48 Q1766.19 1541.37 1766.19 1537.76 Q1766.19 1534.15 1763.85 1532.04 Q1761.51 1529.94 1757.51 1529.94 Q1755.63 1529.94 1753.76 1530.35 Q1751.91 1530.77 1749.96 1531.65 L1749.96 1514.29 Z\" fill=\"#000000\" fill-rule=\"evenodd\" fill-opacity=\"1\" /><path clip-path=\"url(#clip680)\" d=\"M2269.37 1544.91 L2285.69 1544.91 L2285.69 1548.85 L2263.75 1548.85 L2263.75 1544.91 Q2266.41 1542.16 2270.99 1537.53 Q2275.6 1532.88 2276.78 1531.53 Q2279.03 1529.01 2279.91 1527.27 Q2280.81 1525.51 2280.81 1523.82 Q2280.81 1521.07 2278.86 1519.33 Q2276.94 1517.6 2273.84 1517.6 Q2271.64 1517.6 2269.19 1518.36 Q2266.76 1519.13 2263.98 1520.68 L2263.98 1515.95 Q2266.8 1514.82 2269.26 1514.24 Q2271.71 1513.66 2273.75 1513.66 Q2279.12 1513.66 2282.31 1516.35 Q2285.51 1519.03 2285.51 1523.52 Q2285.51 1525.65 2284.7 1527.57 Q2283.91 1529.47 2281.8 1532.07 Q2281.23 1532.74 2278.12 1535.95 Q2275.02 1539.15 2269.37 1544.91 Z\" fill=\"#000000\" fill-rule=\"evenodd\" fill-opacity=\"1\" /><path clip-path=\"url(#clip680)\" d=\"M2305.51 1517.37 Q2301.9 1517.37 2300.07 1520.93 Q2298.26 1524.47 2298.26 1531.6 Q2298.26 1538.71 2300.07 1542.27 Q2301.9 1545.82 2305.51 1545.82 Q2309.14 1545.82 2310.95 1542.27 Q2312.78 1538.71 2312.78 1531.6 Q2312.78 1524.47 2310.95 1520.93 Q2309.14 1517.37 2305.51 1517.37 M2305.51 1513.66 Q2311.32 1513.66 2314.37 1518.27 Q2317.45 1522.85 2317.45 1531.6 Q2317.45 1540.33 2314.37 1544.94 Q2311.32 1549.52 2305.51 1549.52 Q2299.7 1549.52 2296.62 1544.94 Q2293.56 1540.33 2293.56 1531.6 Q2293.56 1522.85 2296.62 1518.27 Q2299.7 1513.66 2305.51 1513.66 Z\" fill=\"#000000\" fill-rule=\"evenodd\" fill-opacity=\"1\" /><polyline clip-path=\"url(#clip682)\" style=\"stroke:#000000; stroke-linecap:butt; stroke-linejoin:round; stroke-width:2; stroke-opacity:0.1; fill:none\" points=\"\n",
       "  156.598,1172.84 2352.76,1172.84 \n",
       "  \"/>\n",
       "<polyline clip-path=\"url(#clip682)\" style=\"stroke:#000000; stroke-linecap:butt; stroke-linejoin:round; stroke-width:2; stroke-opacity:0.1; fill:none\" points=\"\n",
       "  156.598,836.612 2352.76,836.612 \n",
       "  \"/>\n",
       "<polyline clip-path=\"url(#clip682)\" style=\"stroke:#000000; stroke-linecap:butt; stroke-linejoin:round; stroke-width:2; stroke-opacity:0.1; fill:none\" points=\"\n",
       "  156.598,500.389 2352.76,500.389 \n",
       "  \"/>\n",
       "<polyline clip-path=\"url(#clip682)\" style=\"stroke:#000000; stroke-linecap:butt; stroke-linejoin:round; stroke-width:2; stroke-opacity:0.1; fill:none\" points=\"\n",
       "  156.598,164.165 2352.76,164.165 \n",
       "  \"/>\n",
       "<polyline clip-path=\"url(#clip680)\" style=\"stroke:#000000; stroke-linecap:butt; stroke-linejoin:round; stroke-width:4; stroke-opacity:1; fill:none\" points=\"\n",
       "  156.598,1486.45 156.598,47.2441 \n",
       "  \"/>\n",
       "<polyline clip-path=\"url(#clip680)\" style=\"stroke:#000000; stroke-linecap:butt; stroke-linejoin:round; stroke-width:4; stroke-opacity:1; fill:none\" points=\"\n",
       "  156.598,1172.84 175.496,1172.84 \n",
       "  \"/>\n",
       "<polyline clip-path=\"url(#clip680)\" style=\"stroke:#000000; stroke-linecap:butt; stroke-linejoin:round; stroke-width:4; stroke-opacity:1; fill:none\" points=\"\n",
       "  156.598,836.612 175.496,836.612 \n",
       "  \"/>\n",
       "<polyline clip-path=\"url(#clip680)\" style=\"stroke:#000000; stroke-linecap:butt; stroke-linejoin:round; stroke-width:4; stroke-opacity:1; fill:none\" points=\"\n",
       "  156.598,500.389 175.496,500.389 \n",
       "  \"/>\n",
       "<polyline clip-path=\"url(#clip680)\" style=\"stroke:#000000; stroke-linecap:butt; stroke-linejoin:round; stroke-width:4; stroke-opacity:1; fill:none\" points=\"\n",
       "  156.598,164.165 175.496,164.165 \n",
       "  \"/>\n",
       "<path clip-path=\"url(#clip680)\" d=\"M64.6495 1158.64 Q61.0384 1158.64 59.2097 1162.2 Q57.4041 1165.74 57.4041 1172.87 Q57.4041 1179.98 59.2097 1183.54 Q61.0384 1187.08 64.6495 1187.08 Q68.2837 1187.08 70.0892 1183.54 Q71.9179 1179.98 71.9179 1172.87 Q71.9179 1165.74 70.0892 1162.2 Q68.2837 1158.64 64.6495 1158.64 M64.6495 1154.93 Q70.4596 1154.93 73.5152 1159.54 Q76.5938 1164.12 76.5938 1172.87 Q76.5938 1181.6 73.5152 1186.2 Q70.4596 1190.79 64.6495 1190.79 Q58.8393 1190.79 55.7606 1186.2 Q52.7051 1181.6 52.7051 1172.87 Q52.7051 1164.12 55.7606 1159.54 Q58.8393 1154.93 64.6495 1154.93 Z\" fill=\"#000000\" fill-rule=\"evenodd\" fill-opacity=\"1\" /><path clip-path=\"url(#clip680)\" d=\"M84.8114 1184.24 L89.6956 1184.24 L89.6956 1190.12 L84.8114 1190.12 L84.8114 1184.24 Z\" fill=\"#000000\" fill-rule=\"evenodd\" fill-opacity=\"1\" /><path clip-path=\"url(#clip680)\" d=\"M100.691 1186.18 L108.33 1186.18 L108.33 1159.82 L100.02 1161.48 L100.02 1157.22 L108.283 1155.56 L112.959 1155.56 L112.959 1186.18 L120.598 1186.18 L120.598 1190.12 L100.691 1190.12 L100.691 1186.18 Z\" fill=\"#000000\" fill-rule=\"evenodd\" fill-opacity=\"1\" /><path clip-path=\"url(#clip680)\" d=\"M65.0198 822.411 Q61.4087 822.411 59.58 825.976 Q57.7745 829.518 57.7745 836.647 Q57.7745 843.754 59.58 847.318 Q61.4087 850.86 65.0198 850.86 Q68.6541 850.86 70.4596 847.318 Q72.2883 843.754 72.2883 836.647 Q72.2883 829.518 70.4596 825.976 Q68.6541 822.411 65.0198 822.411 M65.0198 818.707 Q70.83 818.707 73.8855 823.314 Q76.9642 827.897 76.9642 836.647 Q76.9642 845.374 73.8855 849.98 Q70.83 854.564 65.0198 854.564 Q59.2097 854.564 56.131 849.98 Q53.0754 845.374 53.0754 836.647 Q53.0754 827.897 56.131 823.314 Q59.2097 818.707 65.0198 818.707 Z\" fill=\"#000000\" fill-rule=\"evenodd\" fill-opacity=\"1\" /><path clip-path=\"url(#clip680)\" d=\"M85.1818 848.013 L90.066 848.013 L90.066 853.892 L85.1818 853.892 L85.1818 848.013 Z\" fill=\"#000000\" fill-rule=\"evenodd\" fill-opacity=\"1\" /><path clip-path=\"url(#clip680)\" d=\"M104.279 849.957 L120.598 849.957 L120.598 853.892 L98.6539 853.892 L98.6539 849.957 Q101.316 847.203 105.899 842.573 Q110.506 837.92 111.686 836.578 Q113.932 834.055 114.811 832.318 Q115.714 830.559 115.714 828.869 Q115.714 826.115 113.77 824.379 Q111.848 822.643 108.746 822.643 Q106.547 822.643 104.094 823.406 Q101.663 824.17 98.8854 825.721 L98.8854 820.999 Q101.709 819.865 104.163 819.286 Q106.617 818.707 108.654 818.707 Q114.024 818.707 117.219 821.393 Q120.413 824.078 120.413 828.569 Q120.413 830.698 119.603 832.619 Q118.816 834.518 116.709 837.11 Q116.131 837.781 113.029 840.999 Q109.927 844.193 104.279 849.957 Z\" fill=\"#000000\" fill-rule=\"evenodd\" fill-opacity=\"1\" /><path clip-path=\"url(#clip680)\" d=\"M64.0708 486.187 Q60.4597 486.187 58.631 489.752 Q56.8254 493.294 56.8254 500.423 Q56.8254 507.53 58.631 511.094 Q60.4597 514.636 64.0708 514.636 Q67.705 514.636 69.5105 511.094 Q71.3392 507.53 71.3392 500.423 Q71.3392 493.294 69.5105 489.752 Q67.705 486.187 64.0708 486.187 M64.0708 482.484 Q69.8809 482.484 72.9365 487.09 Q76.0151 491.673 76.0151 500.423 Q76.0151 509.15 72.9365 513.757 Q69.8809 518.34 64.0708 518.34 Q58.2606 518.34 55.1819 513.757 Q52.1264 509.15 52.1264 500.423 Q52.1264 491.673 55.1819 487.09 Q58.2606 482.484 64.0708 482.484 Z\" fill=\"#000000\" fill-rule=\"evenodd\" fill-opacity=\"1\" /><path clip-path=\"url(#clip680)\" d=\"M84.2327 511.789 L89.1169 511.789 L89.1169 517.669 L84.2327 517.669 L84.2327 511.789 Z\" fill=\"#000000\" fill-rule=\"evenodd\" fill-opacity=\"1\" /><path clip-path=\"url(#clip680)\" d=\"M113.469 499.034 Q116.825 499.752 118.7 502.02 Q120.598 504.289 120.598 507.622 Q120.598 512.738 117.08 515.539 Q113.561 518.34 107.08 518.34 Q104.904 518.34 102.589 517.9 Q100.297 517.483 97.8437 516.627 L97.8437 512.113 Q99.7882 513.247 102.103 513.826 Q104.418 514.405 106.941 514.405 Q111.339 514.405 113.631 512.669 Q115.945 510.932 115.945 507.622 Q115.945 504.567 113.793 502.854 Q111.663 501.118 107.844 501.118 L103.816 501.118 L103.816 497.275 L108.029 497.275 Q111.478 497.275 113.307 495.909 Q115.135 494.521 115.135 491.928 Q115.135 489.266 113.237 487.854 Q111.362 486.419 107.844 486.419 Q105.922 486.419 103.723 486.835 Q101.524 487.252 98.8854 488.132 L98.8854 483.965 Q101.547 483.224 103.862 482.854 Q106.2 482.484 108.26 482.484 Q113.584 482.484 116.686 484.914 Q119.788 487.321 119.788 491.442 Q119.788 494.312 118.145 496.303 Q116.501 498.27 113.469 499.034 Z\" fill=\"#000000\" fill-rule=\"evenodd\" fill-opacity=\"1\" /><path clip-path=\"url(#clip680)\" d=\"M62.9365 149.963 Q59.3254 149.963 57.4967 153.528 Q55.6912 157.07 55.6912 164.199 Q55.6912 171.306 57.4967 174.871 Q59.3254 178.412 62.9365 178.412 Q66.5707 178.412 68.3763 174.871 Q70.205 171.306 70.205 164.199 Q70.205 157.07 68.3763 153.528 Q66.5707 149.963 62.9365 149.963 M62.9365 146.26 Q68.7467 146.26 71.8022 150.866 Q74.8809 155.449 74.8809 164.199 Q74.8809 172.926 71.8022 177.533 Q68.7467 182.116 62.9365 182.116 Q57.1264 182.116 54.0477 177.533 Q50.9921 172.926 50.9921 164.199 Q50.9921 155.449 54.0477 150.866 Q57.1264 146.26 62.9365 146.26 Z\" fill=\"#000000\" fill-rule=\"evenodd\" fill-opacity=\"1\" /><path clip-path=\"url(#clip680)\" d=\"M83.0984 175.565 L87.9827 175.565 L87.9827 181.445 L83.0984 181.445 L83.0984 175.565 Z\" fill=\"#000000\" fill-rule=\"evenodd\" fill-opacity=\"1\" /><path clip-path=\"url(#clip680)\" d=\"M111.015 150.959 L99.2095 169.408 L111.015 169.408 L111.015 150.959 M109.788 146.885 L115.668 146.885 L115.668 169.408 L120.598 169.408 L120.598 173.297 L115.668 173.297 L115.668 181.445 L111.015 181.445 L111.015 173.297 L95.4132 173.297 L95.4132 168.783 L109.788 146.885 Z\" fill=\"#000000\" fill-rule=\"evenodd\" fill-opacity=\"1\" /><polyline clip-path=\"url(#clip682)\" style=\"stroke:#009af9; stroke-linecap:butt; stroke-linejoin:round; stroke-width:4; stroke-opacity:1; fill:none\" points=\"\n",
       "  218.754,1437.11 327.798,1393.1 436.843,1331.87 545.887,1263.58 654.932,1189.55 763.976,1118.2 873.021,1046.65 982.066,975.372 1091.11,902.68 1200.15,828.61 \n",
       "  1309.2,755.213 1418.24,681.781 1527.29,608.249 1636.33,533.473 1745.38,456.814 1854.42,381.836 1963.47,306.118 2072.51,230.905 2181.56,156.969 2290.6,87.9763 \n",
       "  \n",
       "  \"/>\n",
       "<polyline clip-path=\"url(#clip682)\" style=\"stroke:#e26f46; stroke-linecap:butt; stroke-linejoin:round; stroke-width:4; stroke-opacity:1; fill:none\" points=\"\n",
       "  218.754,1445.72 327.798,1433.44 436.843,1416.73 545.887,1396.29 654.932,1371.71 763.976,1341.92 873.021,1306.55 982.066,1267.72 1091.11,1222.87 1200.15,1174.45 \n",
       "  1309.2,1124.59 1418.24,1072.47 1527.29,1014.98 1636.33,954.963 1745.38,895.485 1854.42,834.124 1963.47,770.477 2072.51,705.283 2181.56,640.997 2290.6,576.14 \n",
       "  \n",
       "  \"/>\n",
       "<polyline clip-path=\"url(#clip682)\" style=\"stroke:#3da44d; stroke-linecap:butt; stroke-linejoin:round; stroke-width:4; stroke-opacity:1; fill:none\" points=\"\n",
       "  218.754,1444.98 327.798,1431.73 436.843,1416.97 545.887,1395.15 654.932,1370.07 763.976,1340.01 873.021,1304.1 982.066,1264.22 1091.11,1217.99 1200.15,1171.83 \n",
       "  1309.2,1118.6 1418.24,1063.46 1527.29,1007.04 1636.33,946.255 1745.38,885.466 1854.42,823.029 1963.47,757.667 2072.51,692.978 2181.56,629.734 2290.6,566.423 \n",
       "  \n",
       "  \"/>\n",
       "<path clip-path=\"url(#clip680)\" d=\"\n",
       "M1933.06 302.578 L2279.55 302.578 L2279.55 95.2176 L1933.06 95.2176  Z\n",
       "  \" fill=\"#ffffff\" fill-rule=\"evenodd\" fill-opacity=\"1\"/>\n",
       "<polyline clip-path=\"url(#clip680)\" style=\"stroke:#000000; stroke-linecap:butt; stroke-linejoin:round; stroke-width:4; stroke-opacity:1; fill:none\" points=\"\n",
       "  1933.06,302.578 2279.55,302.578 2279.55,95.2176 1933.06,95.2176 1933.06,302.578 \n",
       "  \"/>\n",
       "<polyline clip-path=\"url(#clip680)\" style=\"stroke:#009af9; stroke-linecap:butt; stroke-linejoin:round; stroke-width:4; stroke-opacity:1; fill:none\" points=\"\n",
       "  1957.46,147.058 2103.87,147.058 \n",
       "  \"/>\n",
       "<path clip-path=\"url(#clip680)\" d=\"M2135.68 131.051 L2135.68 138.412 L2144.45 138.412 L2144.45 141.722 L2135.68 141.722 L2135.68 155.796 Q2135.68 158.967 2136.53 159.87 Q2137.41 160.773 2140.08 160.773 L2144.45 160.773 L2144.45 164.338 L2140.08 164.338 Q2135.15 164.338 2133.27 162.509 Q2131.4 160.657 2131.4 155.796 L2131.4 141.722 L2128.27 141.722 L2128.27 138.412 L2131.4 138.412 L2131.4 131.051 L2135.68 131.051 Z\" fill=\"#000000\" fill-rule=\"evenodd\" fill-opacity=\"1\" /><path clip-path=\"url(#clip680)\" d=\"M2165.08 142.393 Q2164.36 141.977 2163.5 141.791 Q2162.67 141.583 2161.65 141.583 Q2158.04 141.583 2156.09 143.944 Q2154.17 146.282 2154.17 150.68 L2154.17 164.338 L2149.89 164.338 L2149.89 138.412 L2154.17 138.412 L2154.17 142.44 Q2155.52 140.078 2157.67 138.944 Q2159.82 137.787 2162.9 137.787 Q2163.34 137.787 2163.87 137.856 Q2164.4 137.903 2165.05 138.018 L2165.08 142.393 Z\" fill=\"#000000\" fill-rule=\"evenodd\" fill-opacity=\"1\" /><path clip-path=\"url(#clip680)\" d=\"M2169.1 154.106 L2169.1 138.412 L2173.36 138.412 L2173.36 153.944 Q2173.36 157.625 2174.8 159.476 Q2176.23 161.305 2179.1 161.305 Q2182.55 161.305 2184.54 159.106 Q2186.56 156.907 2186.56 153.111 L2186.56 138.412 L2190.82 138.412 L2190.82 164.338 L2186.56 164.338 L2186.56 160.356 Q2185.01 162.717 2182.95 163.875 Q2180.91 165.009 2178.2 165.009 Q2173.73 165.009 2171.42 162.231 Q2169.1 159.453 2169.1 154.106 M2179.82 137.787 L2179.82 137.787 Z\" fill=\"#000000\" fill-rule=\"evenodd\" fill-opacity=\"1\" /><path clip-path=\"url(#clip680)\" d=\"M2221.77 150.31 L2221.77 152.393 L2202.18 152.393 Q2202.46 156.791 2204.82 159.106 Q2207.21 161.398 2211.44 161.398 Q2213.9 161.398 2216.19 160.796 Q2218.5 160.194 2220.77 158.99 L2220.77 163.018 Q2218.48 163.99 2216.07 164.5 Q2213.66 165.009 2211.19 165.009 Q2204.98 165.009 2201.35 161.398 Q2197.74 157.787 2197.74 151.629 Q2197.74 145.264 2201.16 141.537 Q2204.61 137.787 2210.45 137.787 Q2215.68 137.787 2218.71 141.166 Q2221.77 144.523 2221.77 150.31 M2217.51 149.06 Q2217.46 145.565 2215.54 143.481 Q2213.64 141.398 2210.49 141.398 Q2206.93 141.398 2204.78 143.412 Q2202.65 145.426 2202.32 149.083 L2217.51 149.06 Z\" fill=\"#000000\" fill-rule=\"evenodd\" fill-opacity=\"1\" /><polyline clip-path=\"url(#clip680)\" style=\"stroke:#e26f46; stroke-linecap:butt; stroke-linejoin:round; stroke-width:4; stroke-opacity:1; fill:none\" points=\"\n",
       "  1957.46,198.898 2103.87,198.898 \n",
       "  \"/>\n",
       "<path clip-path=\"url(#clip680)\" d=\"M2150.52 182.752 L2150.52 187.312 Q2147.85 186.039 2145.49 185.414 Q2143.13 184.789 2140.93 184.789 Q2137.11 184.789 2135.03 186.27 Q2132.97 187.752 2132.97 190.483 Q2132.97 192.775 2134.34 193.955 Q2135.72 195.113 2139.57 195.83 L2142.39 196.409 Q2147.62 197.405 2150.1 199.928 Q2152.6 202.428 2152.6 206.641 Q2152.6 211.664 2149.22 214.256 Q2145.86 216.849 2139.36 216.849 Q2136.91 216.849 2134.13 216.293 Q2131.37 215.738 2128.41 214.65 L2128.41 209.835 Q2131.26 211.432 2133.99 212.242 Q2136.72 213.053 2139.36 213.053 Q2143.36 213.053 2145.54 211.479 Q2147.72 209.904 2147.72 206.988 Q2147.72 204.442 2146.14 203.006 Q2144.59 201.571 2141.03 200.854 L2138.18 200.298 Q2132.95 199.256 2130.61 197.034 Q2128.27 194.812 2128.27 190.854 Q2128.27 186.27 2131.49 183.631 Q2134.73 180.993 2140.4 180.993 Q2142.83 180.993 2145.35 181.432 Q2147.88 181.872 2150.52 182.752 Z\" fill=\"#000000\" fill-rule=\"evenodd\" fill-opacity=\"1\" /><path clip-path=\"url(#clip680)\" d=\"M2159.89 181.618 L2164.57 181.618 L2164.57 216.178 L2159.89 216.178 L2159.89 181.618 Z\" fill=\"#000000\" fill-rule=\"evenodd\" fill-opacity=\"1\" /><polyline clip-path=\"url(#clip680)\" style=\"stroke:#3da44d; stroke-linecap:butt; stroke-linejoin:round; stroke-width:4; stroke-opacity:1; fill:none\" points=\"\n",
       "  1957.46,250.738 2103.87,250.738 \n",
       "  \"/>\n",
       "<path clip-path=\"url(#clip680)\" d=\"M2150.52 234.592 L2150.52 239.152 Q2147.85 237.879 2145.49 237.254 Q2143.13 236.629 2140.93 236.629 Q2137.11 236.629 2135.03 238.11 Q2132.97 239.592 2132.97 242.323 Q2132.97 244.615 2134.34 245.795 Q2135.72 246.953 2139.57 247.67 L2142.39 248.249 Q2147.62 249.245 2150.1 251.768 Q2152.6 254.268 2152.6 258.481 Q2152.6 263.504 2149.22 266.096 Q2145.86 268.689 2139.36 268.689 Q2136.91 268.689 2134.13 268.133 Q2131.37 267.578 2128.41 266.49 L2128.41 261.675 Q2131.26 263.272 2133.99 264.082 Q2136.72 264.893 2139.36 264.893 Q2143.36 264.893 2145.54 263.319 Q2147.72 261.744 2147.72 258.828 Q2147.72 256.282 2146.14 254.846 Q2144.59 253.411 2141.03 252.694 L2138.18 252.138 Q2132.95 251.096 2130.61 248.874 Q2128.27 246.652 2128.27 242.694 Q2128.27 238.11 2131.49 235.471 Q2134.73 232.833 2140.4 232.833 Q2142.83 232.833 2145.35 233.272 Q2147.88 233.712 2150.52 234.592 Z\" fill=\"#000000\" fill-rule=\"evenodd\" fill-opacity=\"1\" /><path clip-path=\"url(#clip680)\" d=\"M2159.89 233.458 L2181.74 233.458 L2181.74 237.393 L2164.57 237.393 L2164.57 247.624 L2181.03 247.624 L2181.03 251.559 L2164.57 251.559 L2164.57 264.082 L2182.16 264.082 L2182.16 268.018 L2159.89 268.018 L2159.89 233.458 Z\" fill=\"#000000\" fill-rule=\"evenodd\" fill-opacity=\"1\" /><path clip-path=\"url(#clip680)\" d=\"M2189.84 233.458 L2194.52 233.458 L2194.52 268.018 L2189.84 268.018 L2189.84 233.458 Z\" fill=\"#000000\" fill-rule=\"evenodd\" fill-opacity=\"1\" /><path clip-path=\"url(#clip680)\" d=\"M2220.21 251.814 Q2221.72 252.323 2223.13 253.99 Q2224.57 255.657 2226 258.573 L2230.75 268.018 L2225.72 268.018 L2221.3 259.152 Q2219.59 255.68 2217.97 254.545 Q2216.37 253.411 2213.59 253.411 L2208.5 253.411 L2208.5 268.018 L2203.83 268.018 L2203.83 233.458 L2214.38 233.458 Q2220.31 233.458 2223.22 235.934 Q2226.14 238.411 2226.14 243.411 Q2226.14 246.675 2224.61 248.828 Q2223.11 250.981 2220.21 251.814 M2208.5 237.3 L2208.5 249.569 L2214.38 249.569 Q2217.76 249.569 2219.47 248.018 Q2221.21 246.444 2221.21 243.411 Q2221.21 240.379 2219.47 238.851 Q2217.76 237.3 2214.38 237.3 L2208.5 237.3 Z\" fill=\"#000000\" fill-rule=\"evenodd\" fill-opacity=\"1\" /></svg>\n"
      ]
     },
     "execution_count": 380,
     "metadata": {},
     "output_type": "execute_result"
    }
   ],
   "source": [
    "trials = 1000\n",
    "xSI = zeros(N)\n",
    "xSEIR = zeros(N, Int(T))\n",
    "xorig = zeros(N,Int(T))\n",
    "sampleSI! = Sampler(Mp2SI)\n",
    "sampleSEIR! = Sampler(Mp2)\n",
    "ni_orig = zeros(Int(T))\n",
    "ni_SEIR = zeros(Int(T))\n",
    "ni_SI = zeros(Int(T))\n",
    "ni_planted = zeros(Int(T))\n",
    "for st = 1:trials\n",
    "    sampleSI!(xSI)\n",
    "    sample!(xorig)\n",
    "    sampleSEIR!(xSEIR)\n",
    "    for t = 1:Int(T)\n",
    "        ni_orig[t] += sum(xorig[:,1] .< t)\n",
    "        ni_SEIR[t] += sum(xSEIR[:,1] .< t)\n",
    "        ni_SI[t] += sum(xSI .< t)\n",
    "        ni_planted[t] = sum(xtrue[:,1] .< t)\n",
    "    end\n",
    "end\n",
    "plot(ni_orig./trials/N,label=\"true\")\n",
    "plot!(ni_SI./trials/N,label=\"SI\")\n",
    "plot!(ni_SEIR./trials/N,label=\"SEIR\")\n",
    "#plot!(ni_planted/N,label=\"planted\")"
   ]
  },
  {
   "cell_type": "code",
   "execution_count": null,
   "metadata": {},
   "outputs": [],
   "source": []
  },
  {
   "cell_type": "code",
   "execution_count": null,
   "metadata": {},
   "outputs": [],
   "source": []
  }
 ],
 "metadata": {
  "kernelspec": {
   "display_name": "Julia 1.7.0-rc2",
   "language": "julia",
   "name": "julia-1.7"
  },
  "language_info": {
   "file_extension": ".jl",
   "mimetype": "application/julia",
   "name": "julia",
   "version": "1.7.0"
  }
 },
 "nbformat": 4,
 "nbformat_minor": 4
}
