{
 "cells": [
  {
   "cell_type": "code",
   "execution_count": 1,
   "metadata": {},
   "outputs": [],
   "source": [
    "using SparseArrays, LinearAlgebra\n",
    "#using Pkg\n",
    "#Pkg.activate(\"../\")\n",
    "using Causality"
   ]
  },
  {
   "cell_type": "markdown",
   "metadata": {},
   "source": [
    "# Generation of Epidemics"
   ]
  },
  {
   "cell_type": "code",
   "execution_count": 2,
   "metadata": {},
   "outputs": [
    {
     "data": {
      "text/plain": [
       "50×50 SparseMatrixCSC{IndexedGraphs.NullNumber, Int64} with 98 stored entries:\n",
       "⢎⠑⠑⠉⠒⠉⠂⠉⠉⠁⠉⠀⠑⠈⠀⡀⠁⠀⠈⠁⠀⠂⠉⠉⠉\n",
       "⡕⠀⠀⠀⠀⠀⠠⠀⠀⠀⠀⠠⠀⠀⠀⠀⠈⠀⠀⠐⠀⠀⠀⠀⠀\n",
       "⡜⠀⠀⠀⠀⠀⠀⠀⠀⠀⠀⠂⠀⠀⠑⠀⠀⢄⠀⠀⡀⠀⠀⠀⠀\n",
       "⡌⠀⠀⠂⠀⠀⠀⠀⠀⠠⠀⠀⠀⠄⠀⠀⠀⠀⡀⠀⠀⠀⠀⠀⠀\n",
       "⠇⠀⠀⠀⠀⠀⠀⡀⠀⠀⠀⠀⠀⠀⠀⠀⠀⠀⠀⠀⠀⠀⠀⠀⠀\n",
       "⠃⠀⠀⡀⠠⠀⠀⠀⠀⠀⠀⠀⠀⠀⠀⠀⠀⠀⠀⠀⠀⠀⠀⠀⠀\n",
       "⡑⠀⠀⠀⠀⠀⠀⠄⠀⠀⠀⠀⠀⠀⠀⠀⠀⠀⠀⠀⠀⠀⠀⠀⠀\n",
       "⠀⠠⠀⠀⠑⠀⠀⠀⠀⠀⠀⠀⠀⠀⡀⠈⠀⠀⠀⠀⠀⠀⠀⠀⠀\n",
       "⠁⠀⠂⠀⠀⢄⠀⠀⠀⠀⠀⠀⠀⠀⠀⠀⠀⠀⠀⠀⠐⠐⠀⠀⠀\n",
       "⠆⠀⢀⠀⠀⠀⠀⠈⠀⠀⠀⠀⠀⠀⠀⠀⠀⠀⠀⠀⠀⠀⠀⠀⠀\n",
       "⠠⠀⠀⠀⠀⠈⠀⠀⠀⠀⠀⠀⠀⠀⠀⠀⢐⠀⠀⠀⠀⠀⠀⠀⠀\n",
       "⡇⠀⠀⠀⠀⠀⠀⠀⠀⠀⠀⠀⠀⠀⠀⠀⠀⠀⠀⠀⠀⠀⠀⠀⠀\n",
       "⠃⠀⠀⠀⠀⠀⠀⠀⠀⠀⠀⠀⠀⠀⠀⠀⠀⠀⠀⠀⠀⠀⠀⠀⠀"
      ]
     },
     "execution_count": 2,
     "metadata": {},
     "output_type": "execute_result"
    }
   ],
   "source": [
    "T, N = 30.0, 50\n",
    "#G = Causality.makeBarabasi(N,k=1)\n",
    "#ρ = 3/N\n",
    "#G = Causality.makeGNP(N,ρ)\n",
    "G = Causality.makeProximity(N,3.5/N)\n",
    "G.A "
   ]
  },
  {
   "cell_type": "code",
   "execution_count": 3,
   "metadata": {},
   "outputs": [
    {
     "data": {
      "text/plain": [
       "getpargen (generic function with 1 method)"
      ]
     },
     "execution_count": 3,
     "metadata": {},
     "output_type": "execute_result"
    }
   ],
   "source": [
    "getpar(pseed,autoinf::GaussianRate,inf_in::GaussianRate) = \n",
    "    [fill(pseed, 1, N);\n",
    "     fill(autoinf.a, 1, N); fill(autoinf.b, 1, N); fill(autoinf.c, 1, N);\n",
    "     fill(inf_in.a,   1, N); fill(inf_in.b, 1, N); fill(inf_in.c, 1, N);\n",
    "    ]\n",
    "\n",
    "getpargen(pseed, autoinf::GaussianRate, inf_out::GaussianRate) = \n",
    "    [pseed autoinf.a autoinf.b autoinf.c inf_out.a inf_out.b inf_out.c]\n"
   ]
  },
  {
   "cell_type": "code",
   "execution_count": 4,
   "metadata": {},
   "outputs": [],
   "source": [
    "#Initialize generation parameters\n",
    "ε = 1e-10\n",
    "λ = 0.3\n",
    "pseed = 1/N\n",
    "autoinf = GaussianRate(ε, T/2, 1/ε)\n",
    "inf_in = GaussianRate(1.0, T/2, 1/ε)\n",
    "inf_out = GaussianRate(λ, 3., 2.)\n",
    "\n",
    "θp = getpar(pseed, autoinf, inf_in);\n",
    "θpgen = getpargen(pseed, autoinf, inf_out);"
   ]
  },
  {
   "cell_type": "code",
   "execution_count": 5,
   "metadata": {},
   "outputs": [],
   "source": [
    "#Initialize min/max boundaies\n",
    "T = Float64(T)\n",
    "pseed_min = ε\n",
    "pseed_max = 1-ε\n",
    "rate_min = GaussianRate(ε  ,  -T,   ε)\n",
    "rate_max = GaussianRate(1/ε  ,  2T,   1/ε)\n",
    "\n",
    "θmin = getpar(pseed_min , rate_min, rate_min);\n",
    "θmax = getpar(pseed_max , rate_max, rate_max);\n",
    "\n",
    "rate_min = GaussianRate(ε  ,  -T,   ε)\n",
    "rate_max = GaussianRate(1/ε  ,  T,   T)\n",
    "\n",
    "θgenmin = getpargen(pseed_min, rate_min, rate_min);\n",
    "θgenmax = getpargen(pseed_max, rate_max, rate_max);"
   ]
  },
  {
   "cell_type": "code",
   "execution_count": 6,
   "metadata": {},
   "outputs": [
    {
     "data": {
      "text/plain": [
       "GaussianInferentialSI"
      ]
     },
     "execution_count": 6,
     "metadata": {},
     "output_type": "execute_result"
    }
   ],
   "source": [
    "const Igen = GenerativeSI{GaussianRate,GaussianRate} \n",
    "const Igauss = GaussianInferentialSI"
   ]
  },
  {
   "cell_type": "code",
   "execution_count": 17,
   "metadata": {},
   "outputs": [
    {
     "data": {
      "text/plain": [
       "0.44"
      ]
     },
     "execution_count": 17,
     "metadata": {},
     "output_type": "execute_result"
    }
   ],
   "source": [
    "Mp = StochasticModel(Igen, T, θp, G, θpgen);\n",
    "sample! = Sampler(Mp);\n",
    "\n",
    "xtrue = zeros(N)\n",
    "sample!(xtrue)\n",
    "nobs, p = Int(round(N/30)), 1e-5\n",
    "#nobs, p = N, 1e-5\n",
    "O = [(ti = T*(1+rand())/2; (i,xtrue[i] < ti,ti,p)) for i=1:nobs]\n",
    "sum(xtrue .< T) / N"
   ]
  },
  {
   "cell_type": "markdown",
   "metadata": {},
   "source": [
    "## Causality "
   ]
  },
  {
   "cell_type": "code",
   "execution_count": 18,
   "metadata": {},
   "outputs": [],
   "source": [
    "#Softened model\n",
    "T = Float64(T)\n",
    "ε = 2e-3\n",
    "autoinf = GaussianRate(ε, T/2, T);\n",
    "θp2gen = getpargen(pseed, autoinf, inf_out);\n",
    "inf_in = GaussianRate(1., T/2, 3*T );\n",
    "\n",
    "θp2 = getpar(pseed, autoinf, inf_in);\n",
    "Mp2 = StochasticModel(Igen, T, θp2, G, θp2gen);"
   ]
  },
  {
   "cell_type": "code",
   "execution_count": 19,
   "metadata": {},
   "outputs": [],
   "source": [
    "θ = getpar(pseed, autoinf, inf_in);\n",
    "M = StochasticModel(Igauss, T, θ, G, θp2gen);"
   ]
  },
  {
   "cell_type": "code",
   "execution_count": 20,
   "metadata": {},
   "outputs": [
    {
     "name": "stderr",
     "output_type": "stream",
     "text": [
      "\u001b[32mProgress: 100%|█████████████████████████████████████████| Time: 0:00:11\u001b[39m\n",
      "\u001b[34m  F:  2.5402217441857866\u001b[39m\n"
     ]
    },
    {
     "data": {
      "text/plain": [
       "2.5402217441857866"
      ]
     },
     "execution_count": 20,
     "metadata": {},
     "output_type": "execute_result"
    }
   ],
   "source": [
    "using ProgressMeter\n",
    "ProgressMeter.ijulia_behavior(:clear)\n",
    "F = descend!(Mp2, O; M=M, numsamples=1000, numiters=100, \n",
    "         θmin=θmin, θmax=θmax,θgenmin=θgenmin, θgenmax=θgenmax, descender=SignDescender(0.1),\n",
    "         hyperdescender=SignDescender(0.));\n",
    "F = descend!(Mp2, O; M=M, numsamples=1000, numiters=100, \n",
    "         θmin=θmin, θmax=θmax,θgenmin=θgenmin, θgenmax=θgenmax, descender=SignDescender(0.03),\n",
    "         hyperdescender=SignDescender(0.));\n",
    "F"
   ]
  },
  {
   "cell_type": "code",
   "execution_count": 21,
   "metadata": {},
   "outputs": [
    {
     "name": "stderr",
     "output_type": "stream",
     "text": [
      "\u001b[32mProgress: 100%|█████████████████████████████████████████| Time: 0:00:00\u001b[39m\n"
     ]
    }
   ],
   "source": [
    "statscau = prior(M, numsamples=10000);"
   ]
  },
  {
   "cell_type": "markdown",
   "metadata": {},
   "source": [
    "## SoftMarg"
   ]
  },
  {
   "cell_type": "code",
   "execution_count": 22,
   "metadata": {},
   "outputs": [
    {
     "name": "stderr",
     "output_type": "stream",
     "text": [
      "\u001b[32mProgress: 100%|█████████████████████████████████████████| Time: 0:00:03\u001b[39m\n"
     ]
    }
   ],
   "source": [
    "stats, weights_soft = softpostnoise(Mp, O; numsamples=10^5);"
   ]
  },
  {
   "cell_type": "markdown",
   "metadata": {},
   "source": [
    "## Sib"
   ]
  },
  {
   "cell_type": "code",
   "execution_count": 23,
   "metadata": {},
   "outputs": [
    {
     "data": {
      "text/plain": [
       "NonMarkovSibyl (generic function with 1 method)"
      ]
     },
     "execution_count": 23,
     "metadata": {},
     "output_type": "execute_result"
    }
   ],
   "source": [
    "using PyCall\n",
    "@pyimport sib\n",
    "function NonMarkovSibyl(N, T_cont, Λ, a, b, c, O, γ; dt=1/5, maxit = 400, tol = 1e-14)\n",
    "    \n",
    "    T = Int(round(T_cont / dt))\n",
    "    contacts = [(i-1,j-1,t, 1.0) for t in 1:T for (i,j,v) in zip(findnz(Λ.A)...)];\n",
    "    obs = [[(i,-1,t) for t=1:T for i=0:N-1];\n",
    "           [(i-1,s,Int(round(t/dt))) for (i,s,t,p) in O]]\n",
    "    sort!(obs, lt=((i1,s1,t1),(i2,s2,t2))->(t1<t2))\n",
    "    prob_sus = 0.5\n",
    "    prob_seed=γ\n",
    "    pseed = prob_seed / (2 - prob_seed)\n",
    "    psus = prob_sus * (1 - pseed)\n",
    "    g = sib.PiecewiseLinear(pycall(sib.RealParams, PyObject, [a*exp(-((t-b)/c)^2) * dt for t =1:T]))\n",
    "    params = sib.Params(prob_r=sib.Exponential(mu=0), pseed=pseed, psus=psus,pautoinf=1e-10,fp_rate=1e-10,fn_rate=1e-10, prob_i = g)\n",
    "    f = sib.FactorGraph(contacts=contacts, observations=obs, params=params)\n",
    "    sib.iterate(f, maxit=maxit,tol=tol)\n",
    "    sib.iterate(f, maxit=maxit, damping=0.5, tol=tol)\n",
    "    sib.iterate(f, maxit=maxit, damping=0.9, tol=tol)\n",
    "    p_sib=[collect(n.bt) for n in f.nodes]\n",
    "    m_sib = zeros(N, T)\n",
    "    for i=1:N\n",
    "        m_sib[i,1] = p_sib[i][1] \n",
    "        for t=2:T\n",
    "            m_sib[i,t] = m_sib[i,t-1] + p_sib[i][t]\n",
    "        end\n",
    "    end \n",
    "    return m_sib\n",
    "end"
   ]
  },
  {
   "cell_type": "code",
   "execution_count": 24,
   "metadata": {},
   "outputs": [
    {
     "name": "stdout",
     "output_type": "stream",
     "text": [
      "sib.iterate(damp=0.0): 7/40 4.178e-08/1e-07      \n",
      "sib.iterate(damp=0.5): 0/40 0.000e+00/1e-07      \n",
      "526.26875495910640.9): 0/40 0.000e+00/1e-07      \n"
     ]
    },
    {
     "name": "stderr",
     "output_type": "stream",
     "text": [
      "┌ Warning: `vendor()` is deprecated, use `BLAS.get_config()` and inspect the output instead\n",
      "│   caller = npyinitialize() at numpy.jl:67\n",
      "└ @ PyCall /home/students/mmariani/.julia/packages/PyCall/3fwVL/src/numpy.jl:67\n"
     ]
    }
   ],
   "source": [
    "a=time()\n",
    "dt = 1/20\n",
    "p_sib = NonMarkovSibyl(N, T, G, inf_out.a, inf_out.b, inf_out.c, O, 1/N; dt=dt, maxit = 40, tol = 1e-7);\n",
    "b=time()\n",
    "println(b-a)"
   ]
  },
  {
   "cell_type": "markdown",
   "metadata": {},
   "source": [
    "# Heuristic"
   ]
  },
  {
   "cell_type": "code",
   "execution_count": 25,
   "metadata": {},
   "outputs": [
    {
     "name": "stderr",
     "output_type": "stream",
     "text": [
      "\u001b[32mProgress: 100%|█████████████████████████████████████████| Time: 0:00:00\u001b[39m\n"
     ]
    }
   ],
   "source": [
    "using IntervalUnionArithmetic\n",
    "T = Float64(T)\n",
    "struct HeuristicSI <: SI end\n",
    "maskauto = fill(intervalUnion(0., T),N)\n",
    "maskinf = fill(intervalUnion(0., T),N)\n",
    "θfrench = getpar(pseed, GaussianRate(1e-10,T,T), inf_in);\n",
    "Causality.individual(M::StochasticModel{HeuristicSI}, i::Int, θi = @view(M.θ[:,i]), θg = M.θgen ) = \n",
    "@views IndividualSI(θi[1], \n",
    "    MaskedRate(GaussianRate(θi[2:4]...),maskauto[i]), \n",
    "    MaskedRate(UnitRate(),maskinf[i]), \n",
    "    GaussianRate(θg[5:7]...),)\n",
    "\n",
    "\n",
    "for o in O\n",
    "    if o[2] == 1 \n",
    "        maskauto[o[1]] = maskauto[o[1]] ∩ intervalUnion(o[3]-5, T)        \n",
    "        θfrench[2,o[1]] = 10\n",
    "        θfrench[3,o[1]] = o[3] - 5\n",
    "        θfrench[4,o[1]] = 10\n",
    "    elseif o[2] == 0\n",
    "        maskinf[o[1]] = maskinf[o[1]] ∩ intervalUnion(o[3], T)\n",
    "        θfrench[1,o[1]] = 1e-10\n",
    "    end\n",
    "end\n",
    "\n",
    "Mfrench = StochasticModel(HeuristicSI, T, θfrench, G, θp2gen);\n",
    "statsfre = prior(Mfrench,numsamples=10000);"
   ]
  },
  {
   "cell_type": "markdown",
   "metadata": {},
   "source": [
    "## Metropolis Monte Carlo"
   ]
  },
  {
   "cell_type": "code",
   "execution_count": 26,
   "metadata": {},
   "outputs": [
    {
     "name": "stderr",
     "output_type": "stream",
     "text": [
      "\u001b[32mProgress: 100%|█████████████████████████████████████████| Time: 0:00:03\u001b[39m\n",
      "\u001b[34m  acc_ratio:  0.457\u001b[39m\n"
     ]
    }
   ],
   "source": [
    "K = Causality.GaussMove(2.)\n",
    "#stats_mh = Causality.metropolis_sampling_parallel(Mp, O, K; numsamples = 10^3,numsteps=10^3)\n",
    "stats_mh = Causality.metropolis_sampling_sequential(Mp, O, K; numsamples = 10^3,numsteps=10^3);"
   ]
  },
  {
   "cell_type": "markdown",
   "metadata": {},
   "source": [
    "## Marginals and ROC curve"
   ]
  },
  {
   "cell_type": "code",
   "execution_count": 27,
   "metadata": {},
   "outputs": [
    {
     "data": {
      "text/plain": [
       "AUROC (generic function with 1 method)"
      ]
     },
     "execution_count": 27,
     "metadata": {},
     "output_type": "execute_result"
    }
   ],
   "source": [
    "function marginal(i, t, stats)\n",
    "    numsamp = size(stats,1)\n",
    "    sum(stats[:,i] .< t)/numsamp\n",
    "end\n",
    "\n",
    "function tpr(xtrue, rank) \n",
    "    cumsum(xtrue[rank]) ./( cumsum(xtrue[rank])[end])\n",
    "end\n",
    "\n",
    "function fpr(xtrue, rank) \n",
    "    N = size(rank,1)\n",
    "    return (range(1,N,length=N) .- cumsum(xtrue[rank])) ./ (range(1,N,length=N) .- cumsum(xtrue[rank]) )[end]\n",
    "end\n",
    "\n",
    "function ROC(xtrue, p)\n",
    "    N = size(xtrue,1)\n",
    "    rank = sortperm(p, rev=true)\n",
    "    \n",
    "    return fpr(xtrue, rank) , tpr(xtrue, rank)\n",
    "end\n",
    "\n",
    "function AUROC(ROC)\n",
    "    N = size(ROC[1],1) \n",
    "    AU = 0\n",
    "    for t = 1:N-1\n",
    "        AU += ROC[2][t] * (ROC[1][t+1] - ROC[1][t])\n",
    "    end\n",
    "    return AU\n",
    "end"
   ]
  },
  {
   "cell_type": "code",
   "execution_count": 28,
   "metadata": {},
   "outputs": [
    {
     "data": {
      "text/plain": [
       "2-element Vector{Tuple{Int64, Bool, Float64, Float64}}:\n",
       " (1, 1, 22.74824570301173, 1.0e-5)\n",
       " (2, 0, 15.910963026258631, 1.0e-5)"
      ]
     },
     "execution_count": 28,
     "metadata": {},
     "output_type": "execute_result"
    }
   ],
   "source": [
    "O"
   ]
  },
  {
   "cell_type": "code",
   "execution_count": 29,
   "metadata": {},
   "outputs": [
    {
     "data": {
      "image/svg+xml": [
       "<?xml version=\"1.0\" encoding=\"utf-8\"?>\n",
       "<svg xmlns=\"http://www.w3.org/2000/svg\" xmlns:xlink=\"http://www.w3.org/1999/xlink\" width=\"600\" height=\"400\" viewBox=\"0 0 2400 1600\">\n",
       "<defs>\n",
       "  <clipPath id=\"clip900\">\n",
       "    <rect x=\"0\" y=\"0\" width=\"2400\" height=\"1600\"/>\n",
       "  </clipPath>\n",
       "</defs>\n",
       "<path clip-path=\"url(#clip900)\" d=\"\n",
       "M0 1600 L2400 1600 L2400 0 L0 0  Z\n",
       "  \" fill=\"#ffffff\" fill-rule=\"evenodd\" fill-opacity=\"1\"/>\n",
       "<defs>\n",
       "  <clipPath id=\"clip901\">\n",
       "    <rect x=\"480\" y=\"0\" width=\"1681\" height=\"1600\"/>\n",
       "  </clipPath>\n",
       "</defs>\n",
       "<path clip-path=\"url(#clip900)\" d=\"\n",
       "M156.598 1486.45 L2352.76 1486.45 L2352.76 47.2441 L156.598 47.2441  Z\n",
       "  \" fill=\"#ffffff\" fill-rule=\"evenodd\" fill-opacity=\"1\"/>\n",
       "<defs>\n",
       "  <clipPath id=\"clip902\">\n",
       "    <rect x=\"156\" y=\"47\" width=\"2197\" height=\"1440\"/>\n",
       "  </clipPath>\n",
       "</defs>\n",
       "<polyline clip-path=\"url(#clip902)\" style=\"stroke:#000000; stroke-linecap:butt; stroke-linejoin:round; stroke-width:2; stroke-opacity:0.1; fill:none\" points=\"\n",
       "  504.526,1486.45 504.526,47.2441 \n",
       "  \"/>\n",
       "<polyline clip-path=\"url(#clip902)\" style=\"stroke:#000000; stroke-linecap:butt; stroke-linejoin:round; stroke-width:2; stroke-opacity:0.1; fill:none\" points=\"\n",
       "  861.741,1486.45 861.741,47.2441 \n",
       "  \"/>\n",
       "<polyline clip-path=\"url(#clip902)\" style=\"stroke:#000000; stroke-linecap:butt; stroke-linejoin:round; stroke-width:2; stroke-opacity:0.1; fill:none\" points=\"\n",
       "  1218.96,1486.45 1218.96,47.2441 \n",
       "  \"/>\n",
       "<polyline clip-path=\"url(#clip902)\" style=\"stroke:#000000; stroke-linecap:butt; stroke-linejoin:round; stroke-width:2; stroke-opacity:0.1; fill:none\" points=\"\n",
       "  1576.17,1486.45 1576.17,47.2441 \n",
       "  \"/>\n",
       "<polyline clip-path=\"url(#clip902)\" style=\"stroke:#000000; stroke-linecap:butt; stroke-linejoin:round; stroke-width:2; stroke-opacity:0.1; fill:none\" points=\"\n",
       "  1933.39,1486.45 1933.39,47.2441 \n",
       "  \"/>\n",
       "<polyline clip-path=\"url(#clip902)\" style=\"stroke:#000000; stroke-linecap:butt; stroke-linejoin:round; stroke-width:2; stroke-opacity:0.1; fill:none\" points=\"\n",
       "  2290.6,1486.45 2290.6,47.2441 \n",
       "  \"/>\n",
       "<polyline clip-path=\"url(#clip900)\" style=\"stroke:#000000; stroke-linecap:butt; stroke-linejoin:round; stroke-width:4; stroke-opacity:1; fill:none\" points=\"\n",
       "  156.598,1486.45 2352.76,1486.45 \n",
       "  \"/>\n",
       "<polyline clip-path=\"url(#clip900)\" style=\"stroke:#000000; stroke-linecap:butt; stroke-linejoin:round; stroke-width:4; stroke-opacity:1; fill:none\" points=\"\n",
       "  504.526,1486.45 504.526,1467.55 \n",
       "  \"/>\n",
       "<polyline clip-path=\"url(#clip900)\" style=\"stroke:#000000; stroke-linecap:butt; stroke-linejoin:round; stroke-width:4; stroke-opacity:1; fill:none\" points=\"\n",
       "  861.741,1486.45 861.741,1467.55 \n",
       "  \"/>\n",
       "<polyline clip-path=\"url(#clip900)\" style=\"stroke:#000000; stroke-linecap:butt; stroke-linejoin:round; stroke-width:4; stroke-opacity:1; fill:none\" points=\"\n",
       "  1218.96,1486.45 1218.96,1467.55 \n",
       "  \"/>\n",
       "<polyline clip-path=\"url(#clip900)\" style=\"stroke:#000000; stroke-linecap:butt; stroke-linejoin:round; stroke-width:4; stroke-opacity:1; fill:none\" points=\"\n",
       "  1576.17,1486.45 1576.17,1467.55 \n",
       "  \"/>\n",
       "<polyline clip-path=\"url(#clip900)\" style=\"stroke:#000000; stroke-linecap:butt; stroke-linejoin:round; stroke-width:4; stroke-opacity:1; fill:none\" points=\"\n",
       "  1933.39,1486.45 1933.39,1467.55 \n",
       "  \"/>\n",
       "<polyline clip-path=\"url(#clip900)\" style=\"stroke:#000000; stroke-linecap:butt; stroke-linejoin:round; stroke-width:4; stroke-opacity:1; fill:none\" points=\"\n",
       "  2290.6,1486.45 2290.6,1467.55 \n",
       "  \"/>\n",
       "<path clip-path=\"url(#clip900)\" d=\"M494.803 1514.29 L513.16 1514.29 L513.16 1518.22 L499.086 1518.22 L499.086 1526.7 Q500.104 1526.35 501.123 1526.19 Q502.141 1526 503.16 1526 Q508.947 1526 512.327 1529.17 Q515.706 1532.34 515.706 1537.76 Q515.706 1543.34 512.234 1546.44 Q508.762 1549.52 502.442 1549.52 Q500.266 1549.52 497.998 1549.15 Q495.753 1548.78 493.345 1548.04 L493.345 1543.34 Q495.428 1544.47 497.651 1545.03 Q499.873 1545.58 502.35 1545.58 Q506.354 1545.58 508.692 1543.48 Q511.03 1541.37 511.03 1537.76 Q511.03 1534.15 508.692 1532.04 Q506.354 1529.94 502.35 1529.94 Q500.475 1529.94 498.6 1530.35 Q496.748 1530.77 494.803 1531.65 L494.803 1514.29 Z\" fill=\"#000000\" fill-rule=\"evenodd\" fill-opacity=\"1\" /><path clip-path=\"url(#clip900)\" d=\"M836.428 1544.91 L844.067 1544.91 L844.067 1518.55 L835.757 1520.21 L835.757 1515.95 L844.021 1514.29 L848.697 1514.29 L848.697 1544.91 L856.336 1544.91 L856.336 1548.85 L836.428 1548.85 L836.428 1544.91 Z\" fill=\"#000000\" fill-rule=\"evenodd\" fill-opacity=\"1\" /><path clip-path=\"url(#clip900)\" d=\"M875.78 1517.37 Q872.169 1517.37 870.34 1520.93 Q868.535 1524.47 868.535 1531.6 Q868.535 1538.71 870.34 1542.27 Q872.169 1545.82 875.78 1545.82 Q879.414 1545.82 881.22 1542.27 Q883.048 1538.71 883.048 1531.6 Q883.048 1524.47 881.22 1520.93 Q879.414 1517.37 875.78 1517.37 M875.78 1513.66 Q881.59 1513.66 884.646 1518.27 Q887.724 1522.85 887.724 1531.6 Q887.724 1540.33 884.646 1544.94 Q881.59 1549.52 875.78 1549.52 Q869.97 1549.52 866.891 1544.94 Q863.835 1540.33 863.835 1531.6 Q863.835 1522.85 866.891 1518.27 Q869.97 1513.66 875.78 1513.66 Z\" fill=\"#000000\" fill-rule=\"evenodd\" fill-opacity=\"1\" /><path clip-path=\"url(#clip900)\" d=\"M1194.14 1544.91 L1201.78 1544.91 L1201.78 1518.55 L1193.47 1520.21 L1193.47 1515.95 L1201.73 1514.29 L1206.41 1514.29 L1206.41 1544.91 L1214.05 1544.91 L1214.05 1548.85 L1194.14 1548.85 L1194.14 1544.91 Z\" fill=\"#000000\" fill-rule=\"evenodd\" fill-opacity=\"1\" /><path clip-path=\"url(#clip900)\" d=\"M1223.54 1514.29 L1241.9 1514.29 L1241.9 1518.22 L1227.82 1518.22 L1227.82 1526.7 Q1228.84 1526.35 1229.86 1526.19 Q1230.88 1526 1231.9 1526 Q1237.68 1526 1241.06 1529.17 Q1244.44 1532.34 1244.44 1537.76 Q1244.44 1543.34 1240.97 1546.44 Q1237.5 1549.52 1231.18 1549.52 Q1229 1549.52 1226.73 1549.15 Q1224.49 1548.78 1222.08 1548.04 L1222.08 1543.34 Q1224.16 1544.47 1226.39 1545.03 Q1228.61 1545.58 1231.09 1545.58 Q1235.09 1545.58 1237.43 1543.48 Q1239.77 1541.37 1239.77 1537.76 Q1239.77 1534.15 1237.43 1532.04 Q1235.09 1529.94 1231.09 1529.94 Q1229.21 1529.94 1227.34 1530.35 Q1225.48 1530.77 1223.54 1531.65 L1223.54 1514.29 Z\" fill=\"#000000\" fill-rule=\"evenodd\" fill-opacity=\"1\" /><path clip-path=\"url(#clip900)\" d=\"M1554.94 1544.91 L1571.26 1544.91 L1571.26 1548.85 L1549.32 1548.85 L1549.32 1544.91 Q1551.98 1542.16 1556.56 1537.53 Q1561.17 1532.88 1562.35 1531.53 Q1564.6 1529.01 1565.48 1527.27 Q1566.38 1525.51 1566.38 1523.82 Q1566.38 1521.07 1564.43 1519.33 Q1562.51 1517.6 1559.41 1517.6 Q1557.21 1517.6 1554.76 1518.36 Q1552.33 1519.13 1549.55 1520.68 L1549.55 1515.95 Q1552.37 1514.82 1554.83 1514.24 Q1557.28 1513.66 1559.32 1513.66 Q1564.69 1513.66 1567.88 1516.35 Q1571.08 1519.03 1571.08 1523.52 Q1571.08 1525.65 1570.27 1527.57 Q1569.48 1529.47 1567.37 1532.07 Q1566.8 1532.74 1563.69 1535.95 Q1560.59 1539.15 1554.94 1544.91 Z\" fill=\"#000000\" fill-rule=\"evenodd\" fill-opacity=\"1\" /><path clip-path=\"url(#clip900)\" d=\"M1591.08 1517.37 Q1587.47 1517.37 1585.64 1520.93 Q1583.83 1524.47 1583.83 1531.6 Q1583.83 1538.71 1585.64 1542.27 Q1587.47 1545.82 1591.08 1545.82 Q1594.71 1545.82 1596.52 1542.27 Q1598.35 1538.71 1598.35 1531.6 Q1598.35 1524.47 1596.52 1520.93 Q1594.71 1517.37 1591.08 1517.37 M1591.08 1513.66 Q1596.89 1513.66 1599.94 1518.27 Q1603.02 1522.85 1603.02 1531.6 Q1603.02 1540.33 1599.94 1544.94 Q1596.89 1549.52 1591.08 1549.52 Q1585.27 1549.52 1582.19 1544.94 Q1579.13 1540.33 1579.13 1531.6 Q1579.13 1522.85 1582.19 1518.27 Q1585.27 1513.66 1591.08 1513.66 Z\" fill=\"#000000\" fill-rule=\"evenodd\" fill-opacity=\"1\" /><path clip-path=\"url(#clip900)\" d=\"M1912.66 1544.91 L1928.98 1544.91 L1928.98 1548.85 L1907.03 1548.85 L1907.03 1544.91 Q1909.69 1542.16 1914.28 1537.53 Q1918.88 1532.88 1920.06 1531.53 Q1922.31 1529.01 1923.19 1527.27 Q1924.09 1525.51 1924.09 1523.82 Q1924.09 1521.07 1922.15 1519.33 Q1920.23 1517.6 1917.12 1517.6 Q1914.92 1517.6 1912.47 1518.36 Q1910.04 1519.13 1907.26 1520.68 L1907.26 1515.95 Q1910.09 1514.82 1912.54 1514.24 Q1914.99 1513.66 1917.03 1513.66 Q1922.4 1513.66 1925.6 1516.35 Q1928.79 1519.03 1928.79 1523.52 Q1928.79 1525.65 1927.98 1527.57 Q1927.19 1529.47 1925.09 1532.07 Q1924.51 1532.74 1921.41 1535.95 Q1918.3 1539.15 1912.66 1544.91 Z\" fill=\"#000000\" fill-rule=\"evenodd\" fill-opacity=\"1\" /><path clip-path=\"url(#clip900)\" d=\"M1938.84 1514.29 L1957.19 1514.29 L1957.19 1518.22 L1943.12 1518.22 L1943.12 1526.7 Q1944.14 1526.35 1945.16 1526.19 Q1946.17 1526 1947.19 1526 Q1952.98 1526 1956.36 1529.17 Q1959.74 1532.34 1959.74 1537.76 Q1959.74 1543.34 1956.27 1546.44 Q1952.8 1549.52 1946.48 1549.52 Q1944.3 1549.52 1942.03 1549.15 Q1939.79 1548.78 1937.38 1548.04 L1937.38 1543.34 Q1939.46 1544.47 1941.68 1545.03 Q1943.91 1545.58 1946.38 1545.58 Q1950.39 1545.58 1952.73 1543.48 Q1955.06 1541.37 1955.06 1537.76 Q1955.06 1534.15 1952.73 1532.04 Q1950.39 1529.94 1946.38 1529.94 Q1944.51 1529.94 1942.63 1530.35 Q1940.78 1530.77 1938.84 1531.65 L1938.84 1514.29 Z\" fill=\"#000000\" fill-rule=\"evenodd\" fill-opacity=\"1\" /><path clip-path=\"url(#clip900)\" d=\"M2279.44 1530.21 Q2282.8 1530.93 2284.67 1533.2 Q2286.57 1535.47 2286.57 1538.8 Q2286.57 1543.92 2283.05 1546.72 Q2279.54 1549.52 2273.05 1549.52 Q2270.88 1549.52 2268.56 1549.08 Q2266.27 1548.66 2263.82 1547.81 L2263.82 1543.29 Q2265.76 1544.43 2268.08 1545.01 Q2270.39 1545.58 2272.92 1545.58 Q2277.31 1545.58 2279.61 1543.85 Q2281.92 1542.11 2281.92 1538.8 Q2281.92 1535.75 2279.77 1534.03 Q2277.64 1532.3 2273.82 1532.3 L2269.79 1532.3 L2269.79 1528.45 L2274 1528.45 Q2277.45 1528.45 2279.28 1527.09 Q2281.11 1525.7 2281.11 1523.11 Q2281.11 1520.45 2279.21 1519.03 Q2277.34 1517.6 2273.82 1517.6 Q2271.9 1517.6 2269.7 1518.01 Q2267.5 1518.43 2264.86 1519.31 L2264.86 1515.14 Q2267.52 1514.4 2269.84 1514.03 Q2272.17 1513.66 2274.23 1513.66 Q2279.56 1513.66 2282.66 1516.09 Q2285.76 1518.5 2285.76 1522.62 Q2285.76 1525.49 2284.12 1527.48 Q2282.48 1529.45 2279.44 1530.21 Z\" fill=\"#000000\" fill-rule=\"evenodd\" fill-opacity=\"1\" /><path clip-path=\"url(#clip900)\" d=\"M2305.44 1517.37 Q2301.83 1517.37 2300 1520.93 Q2298.19 1524.47 2298.19 1531.6 Q2298.19 1538.71 2300 1542.27 Q2301.83 1545.82 2305.44 1545.82 Q2309.07 1545.82 2310.88 1542.27 Q2312.71 1538.71 2312.71 1531.6 Q2312.71 1524.47 2310.88 1520.93 Q2309.07 1517.37 2305.44 1517.37 M2305.44 1513.66 Q2311.25 1513.66 2314.3 1518.27 Q2317.38 1522.85 2317.38 1531.6 Q2317.38 1540.33 2314.3 1544.94 Q2311.25 1549.52 2305.44 1549.52 Q2299.63 1549.52 2296.55 1544.94 Q2293.49 1540.33 2293.49 1531.6 Q2293.49 1522.85 2296.55 1518.27 Q2299.63 1513.66 2305.44 1513.66 Z\" fill=\"#000000\" fill-rule=\"evenodd\" fill-opacity=\"1\" /><polyline clip-path=\"url(#clip902)\" style=\"stroke:#000000; stroke-linecap:butt; stroke-linejoin:round; stroke-width:2; stroke-opacity:0.1; fill:none\" points=\"\n",
       "  156.598,1462.39 2352.76,1462.39 \n",
       "  \"/>\n",
       "<polyline clip-path=\"url(#clip902)\" style=\"stroke:#000000; stroke-linecap:butt; stroke-linejoin:round; stroke-width:2; stroke-opacity:0.1; fill:none\" points=\"\n",
       "  156.598,1111.33 2352.76,1111.33 \n",
       "  \"/>\n",
       "<polyline clip-path=\"url(#clip902)\" style=\"stroke:#000000; stroke-linecap:butt; stroke-linejoin:round; stroke-width:2; stroke-opacity:0.1; fill:none\" points=\"\n",
       "  156.598,760.264 2352.76,760.264 \n",
       "  \"/>\n",
       "<polyline clip-path=\"url(#clip902)\" style=\"stroke:#000000; stroke-linecap:butt; stroke-linejoin:round; stroke-width:2; stroke-opacity:0.1; fill:none\" points=\"\n",
       "  156.598,409.2 2352.76,409.2 \n",
       "  \"/>\n",
       "<polyline clip-path=\"url(#clip902)\" style=\"stroke:#000000; stroke-linecap:butt; stroke-linejoin:round; stroke-width:2; stroke-opacity:0.1; fill:none\" points=\"\n",
       "  156.598,58.1359 2352.76,58.1359 \n",
       "  \"/>\n",
       "<polyline clip-path=\"url(#clip900)\" style=\"stroke:#000000; stroke-linecap:butt; stroke-linejoin:round; stroke-width:4; stroke-opacity:1; fill:none\" points=\"\n",
       "  156.598,1486.45 156.598,47.2441 \n",
       "  \"/>\n",
       "<polyline clip-path=\"url(#clip900)\" style=\"stroke:#000000; stroke-linecap:butt; stroke-linejoin:round; stroke-width:4; stroke-opacity:1; fill:none\" points=\"\n",
       "  156.598,1462.39 175.496,1462.39 \n",
       "  \"/>\n",
       "<polyline clip-path=\"url(#clip900)\" style=\"stroke:#000000; stroke-linecap:butt; stroke-linejoin:round; stroke-width:4; stroke-opacity:1; fill:none\" points=\"\n",
       "  156.598,1111.33 175.496,1111.33 \n",
       "  \"/>\n",
       "<polyline clip-path=\"url(#clip900)\" style=\"stroke:#000000; stroke-linecap:butt; stroke-linejoin:round; stroke-width:4; stroke-opacity:1; fill:none\" points=\"\n",
       "  156.598,760.264 175.496,760.264 \n",
       "  \"/>\n",
       "<polyline clip-path=\"url(#clip900)\" style=\"stroke:#000000; stroke-linecap:butt; stroke-linejoin:round; stroke-width:4; stroke-opacity:1; fill:none\" points=\"\n",
       "  156.598,409.2 175.496,409.2 \n",
       "  \"/>\n",
       "<polyline clip-path=\"url(#clip900)\" style=\"stroke:#000000; stroke-linecap:butt; stroke-linejoin:round; stroke-width:4; stroke-opacity:1; fill:none\" points=\"\n",
       "  156.598,58.1359 175.496,58.1359 \n",
       "  \"/>\n",
       "<path clip-path=\"url(#clip900)\" d=\"M63.4226 1448.19 Q59.8115 1448.19 57.9828 1451.75 Q56.1773 1455.3 56.1773 1462.43 Q56.1773 1469.53 57.9828 1473.1 Q59.8115 1476.64 63.4226 1476.64 Q67.0569 1476.64 68.8624 1473.1 Q70.6911 1469.53 70.6911 1462.43 Q70.6911 1455.3 68.8624 1451.75 Q67.0569 1448.19 63.4226 1448.19 M63.4226 1444.49 Q69.2328 1444.49 72.2883 1449.09 Q75.367 1453.68 75.367 1462.43 Q75.367 1471.15 72.2883 1475.76 Q69.2328 1480.34 63.4226 1480.34 Q57.6125 1480.34 54.5338 1475.76 Q51.4782 1471.15 51.4782 1462.43 Q51.4782 1453.68 54.5338 1449.09 Q57.6125 1444.49 63.4226 1444.49 Z\" fill=\"#000000\" fill-rule=\"evenodd\" fill-opacity=\"1\" /><path clip-path=\"url(#clip900)\" d=\"M83.5845 1473.79 L88.4688 1473.79 L88.4688 1479.67 L83.5845 1479.67 L83.5845 1473.79 Z\" fill=\"#000000\" fill-rule=\"evenodd\" fill-opacity=\"1\" /><path clip-path=\"url(#clip900)\" d=\"M108.654 1448.19 Q105.043 1448.19 103.214 1451.75 Q101.409 1455.3 101.409 1462.43 Q101.409 1469.53 103.214 1473.1 Q105.043 1476.64 108.654 1476.64 Q112.288 1476.64 114.094 1473.1 Q115.922 1469.53 115.922 1462.43 Q115.922 1455.3 114.094 1451.75 Q112.288 1448.19 108.654 1448.19 M108.654 1444.49 Q114.464 1444.49 117.52 1449.09 Q120.598 1453.68 120.598 1462.43 Q120.598 1471.15 117.52 1475.76 Q114.464 1480.34 108.654 1480.34 Q102.844 1480.34 99.765 1475.76 Q96.7095 1471.15 96.7095 1462.43 Q96.7095 1453.68 99.765 1449.09 Q102.844 1444.49 108.654 1444.49 Z\" fill=\"#000000\" fill-rule=\"evenodd\" fill-opacity=\"1\" /><path clip-path=\"url(#clip900)\" d=\"M65.0198 1097.13 Q61.4087 1097.13 59.58 1100.69 Q57.7745 1104.23 57.7745 1111.36 Q57.7745 1118.47 59.58 1122.03 Q61.4087 1125.57 65.0198 1125.57 Q68.6541 1125.57 70.4596 1122.03 Q72.2883 1118.47 72.2883 1111.36 Q72.2883 1104.23 70.4596 1100.69 Q68.6541 1097.13 65.0198 1097.13 M65.0198 1093.42 Q70.83 1093.42 73.8855 1098.03 Q76.9642 1102.61 76.9642 1111.36 Q76.9642 1120.09 73.8855 1124.7 Q70.83 1129.28 65.0198 1129.28 Q59.2097 1129.28 56.131 1124.7 Q53.0754 1120.09 53.0754 1111.36 Q53.0754 1102.61 56.131 1098.03 Q59.2097 1093.42 65.0198 1093.42 Z\" fill=\"#000000\" fill-rule=\"evenodd\" fill-opacity=\"1\" /><path clip-path=\"url(#clip900)\" d=\"M85.1818 1122.73 L90.066 1122.73 L90.066 1128.61 L85.1818 1128.61 L85.1818 1122.73 Z\" fill=\"#000000\" fill-rule=\"evenodd\" fill-opacity=\"1\" /><path clip-path=\"url(#clip900)\" d=\"M104.279 1124.67 L120.598 1124.67 L120.598 1128.61 L98.6539 1128.61 L98.6539 1124.67 Q101.316 1121.92 105.899 1117.29 Q110.506 1112.64 111.686 1111.29 Q113.932 1108.77 114.811 1107.03 Q115.714 1105.27 115.714 1103.58 Q115.714 1100.83 113.77 1099.09 Q111.848 1097.36 108.746 1097.36 Q106.547 1097.36 104.094 1098.12 Q101.663 1098.89 98.8854 1100.44 L98.8854 1095.71 Q101.709 1094.58 104.163 1094 Q106.617 1093.42 108.654 1093.42 Q114.024 1093.42 117.219 1096.11 Q120.413 1098.79 120.413 1103.28 Q120.413 1105.41 119.603 1107.33 Q118.816 1109.23 116.709 1111.83 Q116.131 1112.5 113.029 1115.71 Q109.927 1118.91 104.279 1124.67 Z\" fill=\"#000000\" fill-rule=\"evenodd\" fill-opacity=\"1\" /><path clip-path=\"url(#clip900)\" d=\"M62.9365 746.062 Q59.3254 746.062 57.4967 749.627 Q55.6912 753.169 55.6912 760.298 Q55.6912 767.405 57.4967 770.969 Q59.3254 774.511 62.9365 774.511 Q66.5707 774.511 68.3763 770.969 Q70.205 767.405 70.205 760.298 Q70.205 753.169 68.3763 749.627 Q66.5707 746.062 62.9365 746.062 M62.9365 742.359 Q68.7467 742.359 71.8022 746.965 Q74.8809 751.548 74.8809 760.298 Q74.8809 769.025 71.8022 773.632 Q68.7467 778.215 62.9365 778.215 Q57.1264 778.215 54.0477 773.632 Q50.9921 769.025 50.9921 760.298 Q50.9921 751.548 54.0477 746.965 Q57.1264 742.359 62.9365 742.359 Z\" fill=\"#000000\" fill-rule=\"evenodd\" fill-opacity=\"1\" /><path clip-path=\"url(#clip900)\" d=\"M83.0984 771.664 L87.9827 771.664 L87.9827 777.544 L83.0984 777.544 L83.0984 771.664 Z\" fill=\"#000000\" fill-rule=\"evenodd\" fill-opacity=\"1\" /><path clip-path=\"url(#clip900)\" d=\"M111.015 747.058 L99.2095 765.507 L111.015 765.507 L111.015 747.058 M109.788 742.984 L115.668 742.984 L115.668 765.507 L120.598 765.507 L120.598 769.395 L115.668 769.395 L115.668 777.544 L111.015 777.544 L111.015 769.395 L95.4132 769.395 L95.4132 764.882 L109.788 742.984 Z\" fill=\"#000000\" fill-rule=\"evenodd\" fill-opacity=\"1\" /><path clip-path=\"url(#clip900)\" d=\"M63.2606 394.998 Q59.6495 394.998 57.8208 398.563 Q56.0152 402.105 56.0152 409.234 Q56.0152 416.341 57.8208 419.906 Q59.6495 423.447 63.2606 423.447 Q66.8948 423.447 68.7004 419.906 Q70.5291 416.341 70.5291 409.234 Q70.5291 402.105 68.7004 398.563 Q66.8948 394.998 63.2606 394.998 M63.2606 391.295 Q69.0707 391.295 72.1263 395.901 Q75.205 400.484 75.205 409.234 Q75.205 417.961 72.1263 422.568 Q69.0707 427.151 63.2606 427.151 Q57.4504 427.151 54.3717 422.568 Q51.3162 417.961 51.3162 409.234 Q51.3162 400.484 54.3717 395.901 Q57.4504 391.295 63.2606 391.295 Z\" fill=\"#000000\" fill-rule=\"evenodd\" fill-opacity=\"1\" /><path clip-path=\"url(#clip900)\" d=\"M83.4225 420.6 L88.3067 420.6 L88.3067 426.48 L83.4225 426.48 L83.4225 420.6 Z\" fill=\"#000000\" fill-rule=\"evenodd\" fill-opacity=\"1\" /><path clip-path=\"url(#clip900)\" d=\"M109.071 407.336 Q105.922 407.336 104.071 409.489 Q102.242 411.642 102.242 415.392 Q102.242 419.119 104.071 421.295 Q105.922 423.447 109.071 423.447 Q112.219 423.447 114.047 421.295 Q115.899 419.119 115.899 415.392 Q115.899 411.642 114.047 409.489 Q112.219 407.336 109.071 407.336 M118.353 392.684 L118.353 396.943 Q116.594 396.109 114.788 395.67 Q113.006 395.23 111.246 395.23 Q106.617 395.23 104.163 398.355 Q101.733 401.48 101.385 407.799 Q102.751 405.785 104.811 404.721 Q106.871 403.633 109.348 403.633 Q114.557 403.633 117.566 406.804 Q120.598 409.952 120.598 415.392 Q120.598 420.716 117.45 423.933 Q114.302 427.151 109.071 427.151 Q103.075 427.151 99.9039 422.568 Q96.7326 417.961 96.7326 409.234 Q96.7326 401.04 100.621 396.179 Q104.51 391.295 111.061 391.295 Q112.82 391.295 114.603 391.642 Q116.408 391.989 118.353 392.684 Z\" fill=\"#000000\" fill-rule=\"evenodd\" fill-opacity=\"1\" /><path clip-path=\"url(#clip900)\" d=\"M63.5152 43.9345 Q59.9041 43.9345 58.0754 47.4993 Q56.2699 51.041 56.2699 58.1706 Q56.2699 65.277 58.0754 68.8418 Q59.9041 72.3835 63.5152 72.3835 Q67.1494 72.3835 68.955 68.8418 Q70.7837 65.277 70.7837 58.1706 Q70.7837 51.041 68.955 47.4993 Q67.1494 43.9345 63.5152 43.9345 M63.5152 40.2309 Q69.3254 40.2309 72.3809 44.8373 Q75.4596 49.4206 75.4596 58.1706 Q75.4596 66.8974 72.3809 71.5038 Q69.3254 76.0871 63.5152 76.0871 Q57.7051 76.0871 54.6264 71.5038 Q51.5708 66.8974 51.5708 58.1706 Q51.5708 49.4206 54.6264 44.8373 Q57.7051 40.2309 63.5152 40.2309 Z\" fill=\"#000000\" fill-rule=\"evenodd\" fill-opacity=\"1\" /><path clip-path=\"url(#clip900)\" d=\"M83.6771 69.5363 L88.5614 69.5363 L88.5614 75.4159 L83.6771 75.4159 L83.6771 69.5363 Z\" fill=\"#000000\" fill-rule=\"evenodd\" fill-opacity=\"1\" /><path clip-path=\"url(#clip900)\" d=\"M108.746 59.0039 Q105.413 59.0039 103.492 60.7863 Q101.594 62.5687 101.594 65.6937 Q101.594 68.8187 103.492 70.6011 Q105.413 72.3835 108.746 72.3835 Q112.08 72.3835 114.001 70.6011 Q115.922 68.7955 115.922 65.6937 Q115.922 62.5687 114.001 60.7863 Q112.103 59.0039 108.746 59.0039 M104.071 57.0132 Q101.061 56.2724 99.3715 54.2123 Q97.7048 52.1521 97.7048 49.1891 Q97.7048 45.0456 100.645 42.6382 Q103.608 40.2309 108.746 40.2309 Q113.908 40.2309 116.848 42.6382 Q119.788 45.0456 119.788 49.1891 Q119.788 52.1521 118.098 54.2123 Q116.432 56.2724 113.445 57.0132 Q116.825 57.8002 118.7 60.0919 Q120.598 62.3835 120.598 65.6937 Q120.598 70.7168 117.52 73.402 Q114.464 76.0871 108.746 76.0871 Q103.029 76.0871 99.9502 73.402 Q96.8947 70.7168 96.8947 65.6937 Q96.8947 62.3835 98.7928 60.0919 Q100.691 57.8002 104.071 57.0132 M102.358 49.629 Q102.358 52.3141 104.024 53.8187 Q105.714 55.3234 108.746 55.3234 Q111.756 55.3234 113.445 53.8187 Q115.158 52.3141 115.158 49.629 Q115.158 46.9438 113.445 45.4392 Q111.756 43.9345 108.746 43.9345 Q105.714 43.9345 104.024 45.4392 Q102.358 46.9438 102.358 49.629 Z\" fill=\"#000000\" fill-rule=\"evenodd\" fill-opacity=\"1\" /><polyline clip-path=\"url(#clip902)\" style=\"stroke:#009af9; stroke-linecap:butt; stroke-linejoin:round; stroke-width:4; stroke-opacity:1; fill:none\" points=\"\n",
       "  218.754,1445.72 225.683,1445.36 232.612,1445.01 239.541,1444.66 246.471,1444.49 253.4,1444.31 260.329,1444.14 267.258,1443.96 274.188,1443.61 281.117,1442.91 \n",
       "  288.046,1442.38 294.975,1442.03 301.905,1441.15 308.834,1440.63 315.763,1440.1 322.692,1439.75 329.622,1439.22 336.551,1438.69 343.48,1438.17 350.409,1437.82 \n",
       "  357.339,1437.47 364.268,1437.11 371.197,1436.76 378.126,1436.24 385.056,1435.71 391.985,1435.18 398.914,1433.6 405.843,1433.25 412.773,1432.55 419.702,1432.38 \n",
       "  426.631,1432.2 433.561,1431.5 440.49,1431.15 447.419,1430.8 454.348,1430.27 461.278,1429.57 468.207,1428.86 475.136,1428.51 482.065,1428.16 488.995,1427.28 \n",
       "  495.924,1426.93 502.853,1426.58 509.782,1425.88 516.712,1425.53 523.641,1425.35 530.57,1425 537.499,1424.83 544.429,1424.48 551.358,1424.13 558.287,1423.6 \n",
       "  565.216,1422.9 572.146,1422.55 579.075,1421.84 586.004,1421.84 592.933,1420.79 599.863,1420.44 606.792,1419.91 613.721,1419.91 620.65,1419.91 627.58,1419.74 \n",
       "  634.509,1419.74 641.438,1419.39 648.367,1419.21 655.297,1419.21 662.226,1418.86 669.155,1418.86 676.084,1418.33 683.014,1417.81 689.943,1417.46 696.872,1417.1 \n",
       "  703.801,1416.75 710.731,1416.58 717.66,1416.23 724.589,1415.88 731.518,1415.7 738.448,1415.7 745.377,1415.17 752.306,1414.65 759.235,1414.47 766.165,1413.94 \n",
       "  773.094,1413.94 780.023,1413.94 786.952,1413.77 793.882,1413.77 800.811,1413.59 807.74,1413.42 814.669,1413.24 821.599,1413.07 828.528,1412.54 835.457,1411.66 \n",
       "  842.386,1411.31 849.316,1411.14 856.245,1410.96 863.174,1410.96 870.103,1410.61 877.033,1410.26 883.962,1409.73 890.891,1409.56 897.821,1409.38 904.75,1409.03 \n",
       "  911.679,1408.68 918.608,1408.5 925.538,1408.15 932.467,1407.8 939.396,1407.63 946.325,1407.63 953.255,1407.63 960.184,1407.27 967.113,1406.57 974.042,1406.4 \n",
       "  980.972,1405.69 987.901,1405.52 994.83,1405.34 1001.76,1405.34 1008.69,1404.99 1015.62,1404.64 1022.55,1403.94 1029.48,1403.59 1036.41,1403.59 1043.33,1403.24 \n",
       "  1050.26,1403.24 1057.19,1403.06 1064.12,1402.53 1071.05,1402.36 1077.98,1402.01 1084.91,1401.66 1091.84,1401.13 1098.77,1400.43 1105.7,1400.25 1112.63,1400.25 \n",
       "  1119.56,1399.73 1126.49,1399.38 1133.42,1398.85 1140.34,1398.85 1147.27,1398.32 1154.2,1397.97 1161.13,1397.09 1168.06,1396.74 1174.99,1396.57 1181.92,1396.39 \n",
       "  1188.85,1396.04 1195.78,1395.51 1202.71,1395.34 1209.64,1395.16 1216.57,1394.81 1223.5,1394.11 1230.42,1393.76 1237.35,1393.58 1244.28,1393.23 1251.21,1393.06 \n",
       "  1258.14,1392.71 1265.07,1392.53 1272,1392.53 1278.93,1392.18 1285.86,1391.83 1292.79,1391.83 1299.72,1391.48 1306.65,1391.3 1313.58,1390.95 1320.5,1390.25 \n",
       "  1327.43,1390.07 1334.36,1389.9 1341.29,1389.19 1348.22,1388.32 1355.15,1387.79 1362.08,1387.44 1369.01,1387.44 1375.94,1387.26 1382.87,1386.91 1389.8,1386.39 \n",
       "  1396.73,1386.03 1403.66,1385.86 1410.59,1385.86 1417.51,1385.16 1424.44,1384.98 1431.37,1384.46 1438.3,1383.58 1445.23,1383.23 1452.16,1382.88 1459.09,1382 \n",
       "  1466.02,1381.82 1472.95,1381.3 1479.88,1381.12 1486.81,1380.24 1493.74,1379.89 1500.67,1379.36 1507.59,1378.66 1514.52,1378.49 1521.45,1378.14 1528.38,1377.96 \n",
       "  1535.31,1377.96 1542.24,1377.78 1549.17,1377.26 1556.1,1376.56 1563.03,1376.56 1569.96,1376.21 1576.89,1376.03 1583.82,1375.33 1590.75,1375.33 1597.68,1375.15 \n",
       "  1604.6,1374.98 1611.53,1374.8 1618.46,1374.45 1625.39,1374.45 1632.32,1374.1 1639.25,1373.75 1646.18,1372.87 1653.11,1371.82 1660.04,1371.64 1666.97,1371.11 \n",
       "  1673.9,1370.76 1680.83,1369.89 1687.76,1369.71 1694.68,1369.18 1701.61,1369.18 1708.54,1368.66 1715.47,1368.31 1722.4,1367.43 1729.33,1367.25 1736.26,1366.9 \n",
       "  1743.19,1366.55 1750.12,1366.02 1757.05,1366.02 1763.98,1365.85 1770.91,1365.5 1777.84,1365.15 1784.76,1364.97 1791.69,1364.8 1798.62,1364.09 1805.55,1363.74 \n",
       "  1812.48,1363.39 1819.41,1362.86 1826.34,1361.81 1833.27,1361.28 1840.2,1360.41 1847.13,1359.71 1854.06,1359 1860.99,1358.65 1867.92,1358.3 1874.85,1358.13 \n",
       "  1881.77,1357.6 1888.7,1357.25 1895.63,1356.55 1902.56,1356.02 1909.49,1355.49 1916.42,1354.61 1923.35,1353.56 1930.28,1352.51 1937.21,1351.63 1944.14,1351.1 \n",
       "  1951.07,1350.4 1958,1349.52 1964.93,1348.82 1971.85,1348.65 1978.78,1348.12 1985.71,1347.59 1992.64,1346.89 1999.57,1346.54 2006.5,1346.19 2013.43,1345.66 \n",
       "  2020.36,1345.31 2027.29,1344.78 2034.22,1344.61 2041.15,1344.43 2048.08,1344.43 2055.01,1343.91 2061.94,1343.38 2068.86,1343.38 2075.79,1342.85 2082.72,1342.5 \n",
       "  2089.65,1342.5 2096.58,1341.98 2103.51,1341.63 2110.44,1341.1 2117.37,1340.75 2124.3,1340.4 2131.23,1340.4 2138.16,1340.05 2145.09,1339.17 2152.02,1337.24 \n",
       "  2158.94,1336.71 2165.87,1336.53 2172.8,1336.36 2179.73,1336.36 2186.66,1335.66 2193.59,1334.96 2200.52,1334.25 2207.45,1333.55 2214.38,1332.85 2221.31,1332.32 \n",
       "  2228.24,1331.27 2235.17,1330.22 2242.1,1329.34 2249.02,1328.64 2255.95,1327.58 2262.88,1327.58 2269.81,1327.23 2276.74,1326.71 2283.67,1326.71 2290.6,1326.53 \n",
       "  \n",
       "  \"/>\n",
       "<polyline clip-path=\"url(#clip902)\" style=\"stroke:#e26f46; stroke-linecap:butt; stroke-linejoin:round; stroke-width:4; stroke-opacity:1; fill:none\" points=\"\n",
       "  218.754,1427.46 225.683,1427.28 232.612,1427.28 239.541,1427.28 246.471,1427.28 253.4,1427.28 260.329,1427.11 267.258,1426.93 274.188,1426.58 281.117,1426.58 \n",
       "  288.046,1426.06 294.975,1425.35 301.905,1425 308.834,1424.83 315.763,1424.3 322.692,1423.25 329.622,1423.07 336.551,1422.37 343.48,1422.02 350.409,1422.02 \n",
       "  357.339,1421.49 364.268,1420.97 371.197,1420.09 378.126,1419.91 385.056,1419.39 391.985,1418.68 398.914,1417.63 405.843,1417.1 412.773,1416.58 419.702,1415.7 \n",
       "  426.631,1415 433.561,1414.65 440.49,1413.77 447.419,1413.24 454.348,1412.54 461.278,1411.49 468.207,1410.96 475.136,1410.43 482.065,1409.73 488.995,1409.03 \n",
       "  495.924,1408.68 502.853,1407.98 509.782,1407.8 516.712,1407.63 523.641,1407.45 530.57,1407.27 537.499,1407.27 544.429,1406.92 551.358,1406.75 558.287,1406.57 \n",
       "  565.216,1406.57 572.146,1406.4 579.075,1406.4 586.004,1406.4 592.933,1406.4 599.863,1406.4 606.792,1406.4 613.721,1406.4 620.65,1406.4 627.58,1406.4 \n",
       "  634.509,1406.4 641.438,1406.4 648.367,1406.4 655.297,1406.4 662.226,1406.4 669.155,1406.22 676.084,1406.22 683.014,1406.22 689.943,1406.22 696.872,1406.22 \n",
       "  703.801,1406.22 710.731,1406.22 717.66,1406.22 724.589,1406.22 731.518,1406.22 738.448,1406.22 745.377,1406.22 752.306,1406.22 759.235,1406.22 766.165,1406.22 \n",
       "  773.094,1406.22 780.023,1406.22 786.952,1406.22 793.882,1406.22 800.811,1406.22 807.74,1406.22 814.669,1406.22 821.599,1406.22 828.528,1406.22 835.457,1406.22 \n",
       "  842.386,1406.22 849.316,1406.22 856.245,1406.22 863.174,1406.22 870.103,1406.22 877.033,1406.22 883.962,1406.22 890.891,1406.22 897.821,1406.22 904.75,1406.22 \n",
       "  911.679,1406.22 918.608,1406.22 925.538,1406.22 932.467,1406.22 939.396,1406.22 946.325,1406.22 953.255,1406.22 960.184,1406.22 967.113,1406.22 974.042,1406.22 \n",
       "  980.972,1406.22 987.901,1406.22 994.83,1406.22 1001.76,1406.22 1008.69,1406.22 1015.62,1406.22 1022.55,1406.22 1029.48,1406.22 1036.41,1406.22 1043.33,1406.22 \n",
       "  1050.26,1406.22 1057.19,1406.22 1064.12,1406.22 1071.05,1406.22 1077.98,1406.22 1084.91,1406.22 1091.84,1406.22 1098.77,1406.22 1105.7,1406.22 1112.63,1406.22 \n",
       "  1119.56,1406.22 1126.49,1406.22 1133.42,1406.22 1140.34,1406.22 1147.27,1406.22 1154.2,1406.22 1161.13,1406.22 1168.06,1406.22 1174.99,1406.22 1181.92,1406.22 \n",
       "  1188.85,1406.22 1195.78,1406.22 1202.71,1406.22 1209.64,1406.22 1216.57,1406.22 1223.5,1406.22 1230.42,1406.22 1237.35,1406.22 1244.28,1406.22 1251.21,1406.22 \n",
       "  1258.14,1406.22 1265.07,1406.22 1272,1406.22 1278.93,1406.22 1285.86,1406.22 1292.79,1406.22 1299.72,1406.22 1306.65,1406.22 1313.58,1406.22 1320.5,1406.22 \n",
       "  1327.43,1406.22 1334.36,1406.22 1341.29,1406.22 1348.22,1406.22 1355.15,1406.22 1362.08,1406.22 1369.01,1406.22 1375.94,1406.22 1382.87,1406.22 1389.8,1406.22 \n",
       "  1396.73,1406.22 1403.66,1406.22 1410.59,1406.22 1417.51,1406.22 1424.44,1406.22 1431.37,1406.22 1438.3,1406.22 1445.23,1406.22 1452.16,1406.22 1459.09,1406.22 \n",
       "  1466.02,1406.22 1472.95,1406.22 1479.88,1405.87 1486.81,1405.87 1493.74,1405.34 1500.67,1405.17 1507.59,1405.17 1514.52,1405.17 1521.45,1404.82 1528.38,1404.29 \n",
       "  1535.31,1403.94 1542.24,1403.41 1549.17,1402.71 1556.1,1401.66 1563.03,1400.6 1569.96,1398.85 1576.89,1396.74 1583.82,1394.28 1590.75,1393.06 1597.68,1391.3 \n",
       "  1604.6,1388.14 1611.53,1384.81 1618.46,1382.17 1625.39,1379.01 1632.32,1371.82 1639.25,1366.9 1646.18,1361.64 1653.11,1357.42 1660.04,1352.33 1666.97,1347.59 \n",
       "  1673.9,1340.57 1680.83,1335.31 1687.76,1329.86 1694.68,1324.42 1701.61,1315.65 1708.54,1306.52 1715.47,1298.44 1722.4,1289.84 1729.33,1281.24 1736.26,1273.17 \n",
       "  1743.19,1264.04 1750.12,1253.16 1757.05,1244.73 1763.98,1236.83 1770.91,1228.76 1777.84,1220.16 1784.76,1210.5 1791.69,1199.44 1798.62,1187.68 1805.55,1178.38 \n",
       "  1812.48,1164.51 1819.41,1153.28 1826.34,1143.27 1833.27,1133.62 1840.2,1123.26 1847.13,1113.78 1854.06,1105.89 1860.99,1095.88 1867.92,1087.63 1874.85,1080.26 \n",
       "  1881.77,1073.94 1888.7,1066.57 1895.63,1059.9 1902.56,1052.17 1909.49,1044.8 1916.42,1037.96 1923.35,1031.99 1930.28,1026.37 1937.21,1018.65 1944.14,1013.03 \n",
       "  1951.07,1007.41 1958,1002.85 1964.93,997.583 1971.85,993.37 1978.78,989.333 1985.71,986.524 1992.64,983.365 1999.57,978.801 2006.5,974.588 2013.43,972.131 \n",
       "  2020.36,970.551 2027.29,967.567 2034.22,965.636 2041.15,962.476 2048.08,961.072 2055.01,959.843 2061.94,958.79 2068.86,957.561 2075.79,955.455 2082.72,954.753 \n",
       "  2089.65,953.875 2096.58,952.998 2103.51,951.769 2110.44,950.189 2117.37,949.311 2124.3,948.434 2131.23,947.907 2138.16,947.556 2145.09,946.678 2152.02,946.327 \n",
       "  2158.94,945.801 2165.87,944.923 2172.8,944.923 2179.73,944.748 2186.66,944.748 2193.59,944.572 2200.52,944.397 2207.45,944.397 2214.38,944.221 2221.31,943.87 \n",
       "  2228.24,943.519 2235.17,943.519 2242.1,943.519 2249.02,943.343 2255.95,943.343 2262.88,943.343 2269.81,943.343 2276.74,943.343 2283.67,943.343 2290.6,943.343 \n",
       "  \n",
       "  \"/>\n",
       "<polyline clip-path=\"url(#clip902)\" style=\"stroke:#3da44d; stroke-linecap:butt; stroke-linejoin:round; stroke-width:4; stroke-opacity:1; fill:none\" points=\"\n",
       "  218.754,1428.37 225.683,1428.06 232.612,1427.72 239.541,1427.2 246.471,1426.93 253.4,1426.64 260.329,1426.14 267.258,1425.53 274.188,1424.84 281.117,1423.91 \n",
       "  288.046,1423.05 294.975,1422.19 301.905,1421.19 308.834,1420.04 315.763,1418.6 322.692,1417.4 329.622,1416.19 336.551,1414.54 343.48,1412.7 350.409,1411.1 \n",
       "  357.339,1409.35 364.268,1407.84 371.197,1405.94 378.126,1403.75 385.056,1401.82 391.985,1399.8 398.914,1397.53 405.843,1395.27 412.773,1392.63 419.702,1390.23 \n",
       "  426.631,1387.32 433.561,1384.49 440.49,1381.63 447.419,1378.87 454.348,1376.38 461.278,1373.26 468.207,1370.13 475.136,1367.53 482.065,1364.09 488.995,1361.09 \n",
       "  495.924,1358.3 502.853,1354.93 509.782,1351.23 516.712,1347.47 523.641,1343.99 530.57,1340.03 537.499,1336.36 544.429,1332.73 551.358,1328.79 558.287,1324.91 \n",
       "  565.216,1320.81 572.146,1316.03 579.075,1311.66 586.004,1307.19 592.933,1302.92 599.863,1298.27 606.792,1293.88 613.721,1288.79 620.65,1284.33 627.58,1280.05 \n",
       "  634.509,1275.24 641.438,1270.1 648.367,1265.43 655.297,1260.86 662.226,1256.28 669.155,1251.52 676.084,1246.14 683.014,1241.24 689.943,1236.73 696.872,1231.99 \n",
       "  703.801,1226.77 710.731,1222.02 717.66,1217.23 724.589,1211.98 731.518,1207.2 738.448,1202.73 745.377,1198.13 752.306,1193.86 759.235,1189.81 766.165,1185.56 \n",
       "  773.094,1180.72 780.023,1176.29 786.952,1172.04 793.882,1168.29 800.811,1164.07 807.74,1160.06 814.669,1155.53 821.599,1151.95 828.528,1147.8 835.457,1143.71 \n",
       "  842.386,1140.11 849.316,1136.38 856.245,1133.16 863.174,1129.93 870.103,1126.74 877.033,1123.42 883.962,1120.16 890.891,1117.45 897.821,1114.15 904.75,1111.4 \n",
       "  911.679,1108.73 918.608,1106.24 925.538,1103.67 932.467,1101.6 939.396,1099.46 946.325,1096.88 953.255,1094.48 960.184,1092.35 967.113,1089.93 974.042,1088.03 \n",
       "  980.972,1085.91 987.901,1083.75 994.83,1082.12 1001.76,1080.63 1008.69,1079.12 1015.62,1077.68 1022.55,1076.19 1029.48,1074.69 1036.41,1073.43 1043.33,1072.46 \n",
       "  1050.26,1070.94 1057.19,1069.92 1064.12,1068.92 1071.05,1067.99 1077.98,1067.06 1084.91,1066.29 1091.84,1065.37 1098.77,1064.64 1105.7,1063.74 1112.63,1062.79 \n",
       "  1119.56,1062.04 1126.49,1061.32 1133.42,1060.49 1140.34,1059.86 1147.27,1059.33 1154.2,1058.95 1161.13,1058.33 1168.06,1057.9 1174.99,1057.4 1181.92,1057.12 \n",
       "  1188.85,1056.81 1195.78,1056.56 1202.71,1056.32 1209.64,1055.81 1216.57,1055.4 1223.5,1055.07 1230.42,1054.77 1237.35,1054.6 1244.28,1054.38 1251.21,1054.16 \n",
       "  1258.14,1053.86 1265.07,1053.75 1272,1053.45 1278.93,1053.33 1285.86,1053.1 1292.79,1052.98 1299.72,1052.79 1306.65,1052.7 1313.58,1052.56 1320.5,1052.47 \n",
       "  1327.43,1052.35 1334.36,1052.21 1341.29,1052.1 1348.22,1052 1355.15,1051.87 1362.08,1051.77 1369.01,1051.7 1375.94,1051.63 1382.87,1051.54 1389.8,1051.51 \n",
       "  1396.73,1051.47 1403.66,1051.44 1410.59,1051.42 1417.51,1051.37 1424.44,1051.33 1431.37,1051.3 1438.3,1051.24 1445.23,1051.21 1452.16,1051.14 1459.09,1051.14 \n",
       "  1466.02,1051.12 1472.95,1051.1 1479.88,1051.05 1486.81,1051 1493.74,1050.96 1500.67,1050.94 1507.59,1050.93 1514.52,1050.91 1521.45,1050.91 1528.38,1050.91 \n",
       "  1535.31,1050.91 1542.24,1050.89 1549.17,1050.87 1556.1,1050.86 1563.03,1050.86 1569.96,1050.86 1576.89,1050.86 1583.82,1050.82 1590.75,1050.82 1597.68,1050.82 \n",
       "  1604.6,1050.8 1611.53,1050.8 1618.46,1050.8 1625.39,1050.8 1632.32,1050.79 1639.25,1050.79 1646.18,1050.77 1653.11,1050.77 1660.04,1050.77 1666.97,1050.77 \n",
       "  1673.9,1050.75 1680.83,1050.75 1687.76,1050.75 1694.68,1050.75 1701.61,1050.75 1708.54,1050.75 1715.47,1050.75 1722.4,1050.75 1729.33,1050.75 1736.26,1050.75 \n",
       "  1743.19,1050.75 1750.12,1050.75 1757.05,1050.75 1763.98,1050.75 1770.91,1050.75 1777.84,1050.75 1784.76,1050.75 1791.69,1050.75 1798.62,1050.75 1805.55,1050.75 \n",
       "  1812.48,1050.75 1819.41,1050.75 1826.34,1050.75 1833.27,1050.75 1840.2,1050.75 1847.13,1050.75 1854.06,1050.75 1860.99,1050.75 1867.92,1050.75 1874.85,1050.75 \n",
       "  1881.77,1050.75 1888.7,1050.75 1895.63,1050.75 1902.56,1050.75 1909.49,1050.75 1916.42,1050.75 1923.35,1050.75 1930.28,1050.75 1937.21,1050.75 1944.14,1050.75 \n",
       "  1951.07,1050.75 1958,1050.75 1964.93,1050.75 1971.85,1050.75 1978.78,1050.75 1985.71,1050.75 1992.64,1050.75 1999.57,1050.75 2006.5,1050.75 2013.43,1050.75 \n",
       "  2020.36,1050.75 2027.29,1050.75 2034.22,1050.75 2041.15,1050.75 2048.08,1050.75 2055.01,1050.75 2061.94,1050.75 2068.86,1050.75 2075.79,1050.75 2082.72,1050.75 \n",
       "  2089.65,1050.75 2096.58,1050.75 2103.51,1050.75 2110.44,1050.75 2117.37,1050.75 2124.3,1050.75 2131.23,1050.75 2138.16,1050.75 2145.09,1050.75 2152.02,1050.75 \n",
       "  2158.94,1050.75 2165.87,1050.75 2172.8,1050.75 2179.73,1050.75 2186.66,1050.75 2193.59,1050.75 2200.52,1050.75 2207.45,1050.75 2214.38,1050.75 2221.31,1050.75 \n",
       "  2228.24,1050.75 2235.17,1050.75 2242.1,1050.75 2249.02,1050.75 2255.95,1050.75 2262.88,1050.75 2269.81,1050.75 2276.74,1050.75 2283.67,1050.75 2290.6,1050.75 \n",
       "  \n",
       "  \"/>\n",
       "<polyline clip-path=\"url(#clip902)\" style=\"stroke:#c271d2; stroke-linecap:butt; stroke-linejoin:round; stroke-width:4; stroke-opacity:1; fill:none\" points=\"\n",
       "  218.754,602.285 225.683,597.019 232.612,591.753 239.541,589.998 246.471,579.466 253.4,574.2 260.329,567.178 267.258,561.912 274.188,554.891 281.117,546.115 \n",
       "  288.046,537.338 294.975,523.295 301.905,509.253 308.834,505.742 315.763,491.7 322.692,479.412 329.622,470.636 336.551,454.838 343.48,444.306 350.409,433.774 \n",
       "  357.339,419.732 364.268,407.444 371.197,393.402 378.126,381.115 385.056,367.072 391.985,358.295 398.914,342.498 405.843,319.678 412.773,314.412 419.702,295.104 \n",
       "  426.631,282.817 433.561,261.753 440.49,249.466 447.419,240.689 454.348,228.402 461.278,221.381 468.207,205.583 475.136,193.295 482.065,182.764 488.995,173.987 \n",
       "  495.924,166.966 502.853,161.7 509.782,154.678 516.712,142.391 523.641,138.881 530.57,133.615 537.499,130.104 544.429,130.104 551.358,126.593 558.287,126.593 \n",
       "  565.216,123.083 572.146,116.061 579.075,110.795 586.004,110.795 592.933,109.04 599.863,109.04 606.792,107.285 613.721,103.774 620.65,103.774 627.58,103.774 \n",
       "  634.509,102.019 641.438,102.019 648.367,102.019 655.297,100.264 662.226,100.264 669.155,98.5082 676.084,96.7529 683.014,96.7529 689.943,96.7529 696.872,96.7529 \n",
       "  703.801,94.9976 710.731,94.9976 717.66,94.9976 724.589,94.9976 731.518,93.2422 738.448,93.2422 745.377,93.2422 752.306,93.2422 759.235,93.2422 766.165,93.2422 \n",
       "  773.094,93.2422 780.023,93.2422 786.952,93.2422 793.882,93.2422 800.811,93.2422 807.74,93.2422 814.669,93.2422 821.599,93.2422 828.528,93.2422 835.457,93.2422 \n",
       "  842.386,93.2422 849.316,93.2422 856.245,93.2422 863.174,93.2422 870.103,93.2422 877.033,93.2422 883.962,93.2422 890.891,93.2422 897.821,93.2422 904.75,93.2422 \n",
       "  911.679,93.2422 918.608,93.2422 925.538,93.2422 932.467,93.2422 939.396,93.2422 946.325,93.2422 953.255,93.2422 960.184,93.2422 967.113,93.2422 974.042,93.2422 \n",
       "  980.972,93.2422 987.901,93.2422 994.83,93.2422 1001.76,93.2422 1008.69,93.2422 1015.62,93.2422 1022.55,93.2422 1029.48,93.2422 1036.41,93.2422 1043.33,93.2422 \n",
       "  1050.26,93.2422 1057.19,93.2422 1064.12,93.2422 1071.05,93.2422 1077.98,93.2422 1084.91,93.2422 1091.84,93.2422 1098.77,93.2422 1105.7,93.2422 1112.63,93.2422 \n",
       "  1119.56,93.2422 1126.49,93.2422 1133.42,93.2422 1140.34,93.2422 1147.27,93.2422 1154.2,93.2422 1161.13,93.2422 1168.06,93.2422 1174.99,93.2422 1181.92,93.2422 \n",
       "  1188.85,93.2422 1195.78,93.2422 1202.71,93.2422 1209.64,93.2422 1216.57,93.2422 1223.5,93.2422 1230.42,93.2422 1237.35,93.2422 1244.28,93.2422 1251.21,93.2422 \n",
       "  1258.14,93.2422 1265.07,93.2422 1272,93.2422 1278.93,93.2422 1285.86,93.2422 1292.79,93.2422 1299.72,93.2422 1306.65,93.2422 1313.58,93.2422 1320.5,93.2422 \n",
       "  1327.43,93.2422 1334.36,93.2422 1341.29,93.2422 1348.22,93.2422 1355.15,93.2422 1362.08,93.2422 1369.01,93.2422 1375.94,93.2422 1382.87,93.2422 1389.8,93.2422 \n",
       "  1396.73,93.2422 1403.66,93.2422 1410.59,93.2422 1417.51,93.2422 1424.44,93.2422 1431.37,93.2422 1438.3,93.2422 1445.23,93.2422 1452.16,93.2422 1459.09,93.2422 \n",
       "  1466.02,93.2422 1472.95,93.2422 1479.88,93.2422 1486.81,93.2422 1493.74,93.2422 1500.67,93.2422 1507.59,93.2422 1514.52,93.2422 1521.45,93.2422 1528.38,93.2422 \n",
       "  1535.31,93.2422 1542.24,93.2422 1549.17,93.2422 1556.1,93.2422 1563.03,93.2422 1569.96,93.2422 1576.89,93.2422 1583.82,93.2422 1590.75,93.2422 1597.68,93.2422 \n",
       "  1604.6,93.2422 1611.53,93.2422 1618.46,93.2422 1625.39,93.2422 1632.32,93.2422 1639.25,93.2422 1646.18,93.2422 1653.11,93.2422 1660.04,93.2422 1666.97,93.2422 \n",
       "  1673.9,93.2422 1680.83,91.4869 1687.76,91.4869 1694.68,91.4869 1701.61,91.4869 1708.54,91.4869 1715.47,91.4869 1722.4,91.4869 1729.33,91.4869 1736.26,91.4869 \n",
       "  1743.19,91.4869 1750.12,91.4869 1757.05,91.4869 1763.98,91.4869 1770.91,89.7316 1777.84,89.7316 1784.76,89.7316 1791.69,89.7316 1798.62,89.7316 1805.55,89.7316 \n",
       "  1812.48,89.7316 1819.41,89.7316 1826.34,89.7316 1833.27,89.7316 1840.2,89.7316 1847.13,89.7316 1854.06,89.7316 1860.99,89.7316 1867.92,89.7316 1874.85,89.7316 \n",
       "  1881.77,89.7316 1888.7,89.7316 1895.63,89.7316 1902.56,89.7316 1909.49,89.7316 1916.42,89.7316 1923.35,89.7316 1930.28,89.7316 1937.21,89.7316 1944.14,89.7316 \n",
       "  1951.07,89.7316 1958,89.7316 1964.93,89.7316 1971.85,89.7316 1978.78,89.7316 1985.71,89.7316 1992.64,89.7316 1999.57,89.7316 2006.5,89.7316 2013.43,89.7316 \n",
       "  2020.36,89.7316 2027.29,89.7316 2034.22,89.7316 2041.15,89.7316 2048.08,89.7316 2055.01,89.7316 2061.94,89.7316 2068.86,89.7316 2075.79,89.7316 2082.72,89.7316 \n",
       "  2089.65,89.7316 2096.58,89.7316 2103.51,89.7316 2110.44,89.7316 2117.37,89.7316 2124.3,89.7316 2131.23,89.7316 2138.16,89.7316 2145.09,89.7316 2152.02,89.7316 \n",
       "  2158.94,89.7316 2165.87,89.7316 2172.8,89.7316 2179.73,89.7316 2186.66,89.7316 2193.59,89.7316 2200.52,89.7316 2207.45,89.7316 2214.38,89.7316 2221.31,89.7316 \n",
       "  2228.24,89.7316 2235.17,89.7316 2242.1,89.7316 2249.02,89.7316 2255.95,89.7316 2262.88,87.9763 2269.81,87.9763 2276.74,87.9763 2283.67,87.9763 2290.6,87.9763 \n",
       "  \n",
       "  \"/>\n",
       "<polyline clip-path=\"url(#clip902)\" style=\"stroke:#ac8d18; stroke-linecap:butt; stroke-linejoin:round; stroke-width:4; stroke-opacity:1; fill:none\" points=\"\n",
       "  218.754,1428.44 222.212,1427.95 225.671,1427.57 229.13,1427.4 232.589,1427.35 236.048,1427.34 239.507,1427.34 242.966,1427.34 246.424,1427.34 249.883,1427.34 \n",
       "  253.342,1427.34 256.801,1427.34 260.26,1427.34 263.719,1427.34 267.177,1427.34 270.636,1427.34 274.095,1427.34 277.554,1427.34 281.013,1427.34 284.472,1427.34 \n",
       "  287.93,1427.34 291.389,1427.34 294.848,1427.34 298.307,1427.34 301.766,1427.34 305.225,1427.34 308.684,1427.34 312.142,1427.34 315.601,1427.34 319.06,1427.34 \n",
       "  322.519,1427.34 325.978,1427.34 329.437,1427.34 332.895,1427.34 336.354,1427.34 339.813,1427.34 343.272,1427.34 346.731,1427.34 350.19,1427.34 353.649,1427.34 \n",
       "  357.107,1427.34 360.566,1427.34 364.025,1427.34 367.484,1427.34 370.943,1427.34 374.402,1427.34 377.86,1427.34 381.319,1427.34 384.778,1427.34 388.237,1427.34 \n",
       "  391.696,1427.34 395.155,1427.34 398.613,1427.34 402.072,1427.34 405.531,1427.34 408.99,1427.34 412.449,1427.34 415.908,1427.34 419.367,1427.34 422.825,1427.34 \n",
       "  426.284,1427.34 429.743,1427.34 433.202,1427.34 436.661,1427.34 440.12,1427.34 443.578,1427.34 447.037,1427.34 450.496,1427.34 453.955,1427.34 457.414,1427.34 \n",
       "  460.873,1427.34 464.331,1427.34 467.79,1427.34 471.249,1427.34 474.708,1427.34 478.167,1427.34 481.626,1427.34 485.085,1427.34 488.543,1427.34 492.002,1427.34 \n",
       "  495.461,1427.34 498.92,1427.34 502.379,1427.34 505.838,1427.34 509.296,1427.34 512.755,1427.34 516.214,1427.34 519.673,1427.34 523.132,1427.34 526.591,1427.34 \n",
       "  530.049,1427.34 533.508,1427.34 536.967,1427.34 540.426,1427.34 543.885,1427.34 547.344,1427.34 550.803,1427.34 554.261,1427.34 557.72,1427.34 561.179,1427.34 \n",
       "  564.638,1427.34 568.097,1427.34 571.556,1427.34 575.014,1427.34 578.473,1427.34 581.932,1427.34 585.391,1427.34 588.85,1427.34 592.309,1427.34 595.768,1427.34 \n",
       "  599.226,1427.34 602.685,1427.34 606.144,1427.34 609.603,1427.34 613.062,1427.34 616.521,1427.34 619.979,1427.34 623.438,1427.34 626.897,1427.34 630.356,1427.34 \n",
       "  633.815,1427.34 637.274,1427.34 640.732,1427.34 644.191,1427.34 647.65,1427.34 651.109,1427.34 654.568,1427.34 658.027,1427.34 661.486,1427.34 664.944,1427.34 \n",
       "  668.403,1427.34 671.862,1427.34 675.321,1427.34 678.78,1427.34 682.239,1427.34 685.697,1427.34 689.156,1427.34 692.615,1427.34 696.074,1427.34 699.533,1427.34 \n",
       "  702.992,1427.34 706.45,1427.34 709.909,1427.34 713.368,1427.34 716.827,1427.34 720.286,1427.34 723.745,1427.34 727.204,1427.34 730.662,1427.34 734.121,1427.34 \n",
       "  737.58,1427.34 741.039,1427.34 744.498,1427.34 747.957,1427.34 751.415,1427.34 754.874,1427.34 758.333,1427.34 761.792,1427.34 765.251,1427.34 768.71,1427.34 \n",
       "  772.168,1427.34 775.627,1427.34 779.086,1427.34 782.545,1427.34 786.004,1427.34 789.463,1427.34 792.922,1427.34 796.38,1427.34 799.839,1427.34 803.298,1427.34 \n",
       "  806.757,1427.34 810.216,1427.34 813.675,1427.34 817.133,1427.34 820.592,1427.34 824.051,1427.34 827.51,1427.34 830.969,1427.34 834.428,1427.34 837.887,1427.34 \n",
       "  841.345,1427.34 844.804,1427.34 848.263,1427.34 851.722,1427.34 855.181,1427.34 858.64,1427.34 862.098,1427.34 865.557,1427.34 869.016,1427.34 872.475,1427.34 \n",
       "  875.934,1427.34 879.393,1427.34 882.851,1427.34 886.31,1427.34 889.769,1427.34 893.228,1427.34 896.687,1427.34 900.146,1427.34 903.605,1427.34 907.063,1427.34 \n",
       "  910.522,1427.34 913.981,1427.34 917.44,1427.34 920.899,1427.34 924.358,1427.34 927.816,1427.34 931.275,1427.34 934.734,1427.34 938.193,1427.34 941.652,1427.34 \n",
       "  945.111,1427.34 948.569,1427.34 952.028,1427.34 955.487,1427.34 958.946,1427.34 962.405,1427.34 965.864,1427.34 969.323,1427.34 972.781,1427.34 976.24,1427.34 \n",
       "  979.699,1427.34 983.158,1427.34 986.617,1427.34 990.076,1427.34 993.534,1427.34 996.993,1427.34 1000.45,1427.34 1003.91,1427.34 1007.37,1427.34 1010.83,1427.34 \n",
       "  1014.29,1427.34 1017.75,1427.34 1021.21,1427.34 1024.66,1427.34 1028.12,1427.34 1031.58,1427.34 1035.04,1427.34 1038.5,1427.34 1041.96,1427.34 1045.42,1427.34 \n",
       "  1048.88,1427.34 1052.33,1427.34 1055.79,1427.34 1059.25,1427.34 1062.71,1427.34 1066.17,1427.34 1069.63,1427.34 1073.09,1427.34 1076.55,1427.34 1080.01,1427.34 \n",
       "  1083.46,1427.34 1086.92,1427.34 1090.38,1427.34 1093.84,1427.34 1097.3,1427.34 1100.76,1427.34 1104.22,1427.34 1107.68,1427.34 1111.14,1427.34 1114.59,1427.34 \n",
       "  1118.05,1427.34 1121.51,1427.34 1124.97,1427.34 1128.43,1427.34 1131.89,1427.34 1135.35,1427.34 1138.81,1427.34 1142.26,1427.34 1145.72,1427.34 1149.18,1427.34 \n",
       "  1152.64,1427.34 1156.1,1427.34 1159.56,1427.34 1163.02,1427.34 1166.48,1427.34 1169.94,1427.34 1173.39,1427.34 1176.85,1427.34 1180.31,1427.34 1183.77,1427.34 \n",
       "  1187.23,1427.34 1190.69,1427.34 1194.15,1427.34 1197.61,1427.34 1201.07,1427.34 1204.52,1427.34 1207.98,1427.34 1211.44,1427.34 1214.9,1427.34 1218.36,1427.34 \n",
       "  1221.82,1427.34 1225.28,1427.34 1228.74,1427.34 1232.19,1427.34 1235.65,1427.34 1239.11,1427.34 1242.57,1427.34 1246.03,1427.34 1249.49,1427.34 1252.95,1427.34 \n",
       "  1256.41,1427.34 1259.87,1427.34 1263.32,1427.34 1266.78,1427.34 1270.24,1427.34 1273.7,1427.34 1277.16,1427.34 1280.62,1427.34 1284.08,1427.34 1287.54,1427.34 \n",
       "  1290.99,1427.34 1294.45,1427.34 1297.91,1427.34 1301.37,1427.34 1304.83,1427.34 1308.29,1427.34 1311.75,1427.34 1315.21,1427.34 1318.67,1427.34 1322.12,1427.34 \n",
       "  1325.58,1427.34 1329.04,1427.34 1332.5,1427.34 1335.96,1427.34 1339.42,1427.34 1342.88,1427.34 1346.34,1427.34 1349.8,1427.34 1353.25,1427.34 1356.71,1427.34 \n",
       "  1360.17,1427.34 1363.63,1427.34 1367.09,1427.34 1370.55,1427.34 1374.01,1427.34 1377.47,1427.34 1380.92,1427.34 1384.38,1427.34 1387.84,1427.34 1391.3,1427.34 \n",
       "  1394.76,1427.34 1398.22,1427.34 1401.68,1427.34 1405.14,1427.34 1408.6,1427.34 1412.05,1427.34 1415.51,1427.34 1418.97,1427.34 1422.43,1427.34 1425.89,1427.34 \n",
       "  1429.35,1427.34 1432.81,1427.34 1436.27,1427.34 1439.73,1427.34 1443.18,1427.34 1446.64,1427.34 1450.1,1427.34 1453.56,1427.34 1457.02,1427.34 1460.48,1427.34 \n",
       "  1463.94,1427.34 1467.4,1427.34 1470.85,1427.34 1474.31,1427.34 1477.77,1427.34 1481.23,1427.34 1484.69,1427.34 1488.15,1427.34 1491.61,1427.34 1495.07,1427.34 \n",
       "  1498.53,1427.34 1501.98,1427.34 1505.44,1427.34 1508.9,1427.34 1512.36,1427.34 1515.82,1427.34 1519.28,1427.34 1522.74,1427.34 1526.2,1427.34 1529.66,1427.34 \n",
       "  1533.11,1427.34 1536.57,1427.34 1540.03,1427.34 1543.49,1427.34 1546.95,1427.34 1550.41,1427.34 1553.87,1427.34 1557.33,1427.34 1560.78,1427.34 1564.24,1427.34 \n",
       "  1567.7,1427.34 1571.16,1427.34 1574.62,1427.34 1578.08,1427.34 1581.54,1427.34 1585,1427.34 1588.46,1427.34 1591.91,1427.34 1595.37,1427.34 1598.83,1427.34 \n",
       "  1602.29,1427.34 1605.75,1427.34 1609.21,1427.34 1612.67,1427.34 1616.13,1427.34 1619.58,1427.34 1623.04,1427.34 1626.5,1427.34 1629.96,1427.34 1633.42,1427.34 \n",
       "  1636.88,1427.34 1640.34,1427.34 1643.8,1427.34 1647.26,1427.34 1650.71,1427.34 1654.17,1427.34 1657.63,1427.34 1661.09,1427.34 1664.55,1427.34 1668.01,1427.34 \n",
       "  1671.47,1427.34 1674.93,1427.34 1678.39,1427.34 1681.84,1427.34 1685.3,1427.34 1688.76,1427.34 1692.22,1427.34 1695.68,1427.34 1699.14,1427.34 1702.6,1427.34 \n",
       "  1706.06,1427.34 1709.51,1427.34 1712.97,1427.34 1716.43,1427.34 1719.89,1427.34 1723.35,1427.34 1726.81,1427.34 1730.27,1427.34 1733.73,1427.34 1737.19,1427.34 \n",
       "  1740.64,1427.34 1744.1,1427.34 1747.56,1427.34 1751.02,1427.34 1754.48,1427.34 1757.94,1427.34 1761.4,1427.34 1764.86,1427.34 1768.32,1427.34 1771.77,1427.34 \n",
       "  1775.23,1427.34 1778.69,1427.34 1782.15,1427.34 1785.61,1427.34 1789.07,1427.34 1792.53,1427.34 1795.99,1427.34 1799.44,1427.34 1802.9,1427.34 1806.36,1427.34 \n",
       "  1809.82,1427.34 1813.28,1427.34 1816.74,1427.34 1820.2,1427.34 1823.66,1427.34 1827.12,1427.34 1830.57,1427.34 1834.03,1427.34 1837.49,1427.34 1840.95,1427.34 \n",
       "  1844.41,1427.34 1847.87,1427.34 1851.33,1427.34 1854.79,1427.34 1858.25,1427.34 1861.7,1427.34 1865.16,1427.34 1868.62,1427.34 1872.08,1427.34 1875.54,1427.34 \n",
       "  1879,1427.34 1882.46,1427.34 1885.92,1427.34 1889.37,1427.34 1892.83,1427.34 1896.29,1427.34 1899.75,1427.34 1903.21,1427.34 1906.67,1427.34 1910.13,1427.34 \n",
       "  1913.59,1427.34 1917.05,1427.34 1920.5,1427.34 1923.96,1427.34 1927.42,1427.34 1930.88,1427.34 1934.34,1427.34 1937.8,1427.34 1941.26,1427.34 1944.72,1427.34 \n",
       "  1948.18,1427.34 1951.63,1427.34 1955.09,1427.34 1958.55,1427.34 1962.01,1427.34 1965.47,1427.34 1968.93,1427.34 1972.39,1427.34 1975.85,1427.34 1979.3,1427.34 \n",
       "  1982.76,1427.34 1986.22,1427.34 1989.68,1427.34 1993.14,1427.34 1996.6,1427.34 2000.06,1427.34 2003.52,1427.34 2006.98,1427.34 2010.43,1427.34 2013.89,1427.34 \n",
       "  2017.35,1427.34 2020.81,1427.34 2024.27,1427.34 2027.73,1427.34 2031.19,1427.34 2034.65,1427.34 2038.1,1427.34 2041.56,1427.34 2045.02,1427.34 2048.48,1427.34 \n",
       "  2051.94,1427.34 2055.4,1427.34 2058.86,1427.34 2062.32,1427.34 2065.78,1427.34 2069.23,1427.34 2072.69,1427.34 2076.15,1427.34 2079.61,1427.34 2083.07,1427.34 \n",
       "  2086.53,1427.34 2089.99,1427.34 2093.45,1427.34 2096.91,1427.34 2100.36,1427.34 2103.82,1427.34 2107.28,1427.34 2110.74,1427.34 2114.2,1427.34 2117.66,1427.34 \n",
       "  2121.12,1427.34 2124.58,1427.34 2128.03,1427.34 2131.49,1427.34 2134.95,1427.34 2138.41,1427.34 2141.87,1427.34 2145.33,1427.34 2148.79,1427.34 2152.25,1427.34 \n",
       "  2155.71,1427.34 2159.16,1427.34 2162.62,1427.34 2166.08,1427.34 2169.54,1427.34 2173,1427.34 2176.46,1427.34 2179.92,1427.34 2183.38,1427.34 2186.84,1427.34 \n",
       "  2190.29,1427.34 2193.75,1427.34 2197.21,1427.34 2200.67,1427.34 2204.13,1427.34 2207.59,1427.34 2211.05,1427.34 2214.51,1427.34 2217.96,1427.34 2221.42,1427.34 \n",
       "  2224.88,1427.34 2228.34,1427.34 2231.8,1427.34 2235.26,1427.34 2238.72,1427.34 2242.18,1427.34 2245.64,1427.34 2249.09,1427.34 2252.55,1427.34 2256.01,1427.34 \n",
       "  2259.47,1427.34 2262.93,1427.34 2266.39,1427.34 2269.85,1427.34 2273.31,1427.34 2276.77,1427.34 2280.22,1427.34 2283.68,1427.34 2287.14,1427.34 2290.6,1427.34 \n",
       "  \n",
       "  \"/>\n",
       "<path clip-path=\"url(#clip900)\" d=\"\n",
       "M1890.19 406.258 L2279.55 406.258 L2279.55 95.2176 L1890.19 95.2176  Z\n",
       "  \" fill=\"#ffffff\" fill-rule=\"evenodd\" fill-opacity=\"1\"/>\n",
       "<polyline clip-path=\"url(#clip900)\" style=\"stroke:#000000; stroke-linecap:butt; stroke-linejoin:round; stroke-width:4; stroke-opacity:1; fill:none\" points=\"\n",
       "  1890.19,406.258 2279.55,406.258 2279.55,95.2176 1890.19,95.2176 1890.19,406.258 \n",
       "  \"/>\n",
       "<polyline clip-path=\"url(#clip900)\" style=\"stroke:#009af9; stroke-linecap:butt; stroke-linejoin:round; stroke-width:4; stroke-opacity:1; fill:none\" points=\"\n",
       "  1914.59,147.058 2061,147.058 \n",
       "  \"/>\n",
       "<path clip-path=\"url(#clip900)\" d=\"M2105.91 139.407 L2105.91 143.389 Q2104.1 142.393 2102.28 141.907 Q2100.47 141.398 2098.62 141.398 Q2094.47 141.398 2092.18 144.037 Q2089.89 146.652 2089.89 151.398 Q2089.89 156.143 2092.18 158.782 Q2094.47 161.398 2098.62 161.398 Q2100.47 161.398 2102.28 160.912 Q2104.1 160.402 2105.91 159.407 L2105.91 163.342 Q2104.13 164.176 2102.21 164.592 Q2100.31 165.009 2098.16 165.009 Q2092.3 165.009 2088.85 161.328 Q2085.4 157.648 2085.4 151.398 Q2085.4 145.055 2088.87 141.421 Q2092.37 137.787 2098.43 137.787 Q2100.4 137.787 2102.28 138.203 Q2104.15 138.597 2105.91 139.407 Z\" fill=\"#000000\" fill-rule=\"evenodd\" fill-opacity=\"1\" /><path clip-path=\"url(#clip900)\" d=\"M2125.1 151.305 Q2119.94 151.305 2117.95 152.486 Q2115.96 153.666 2115.96 156.514 Q2115.96 158.782 2117.44 160.125 Q2118.94 161.444 2121.51 161.444 Q2125.05 161.444 2127.18 158.944 Q2129.34 156.421 2129.34 152.254 L2129.34 151.305 L2125.1 151.305 M2133.59 149.546 L2133.59 164.338 L2129.34 164.338 L2129.34 160.402 Q2127.88 162.763 2125.7 163.898 Q2123.53 165.009 2120.38 165.009 Q2116.4 165.009 2114.03 162.787 Q2111.7 160.541 2111.7 156.791 Q2111.7 152.416 2114.61 150.194 Q2117.55 147.972 2123.36 147.972 L2129.34 147.972 L2129.34 147.555 Q2129.34 144.615 2127.39 143.018 Q2125.47 141.398 2121.97 141.398 Q2119.75 141.398 2117.65 141.93 Q2115.54 142.463 2113.59 143.527 L2113.59 139.592 Q2115.93 138.69 2118.13 138.25 Q2120.33 137.787 2122.41 137.787 Q2128.04 137.787 2130.82 140.703 Q2133.59 143.62 2133.59 149.546 Z\" fill=\"#000000\" fill-rule=\"evenodd\" fill-opacity=\"1\" /><path clip-path=\"url(#clip900)\" d=\"M2141.93 154.106 L2141.93 138.412 L2146.19 138.412 L2146.19 153.944 Q2146.19 157.625 2147.62 159.476 Q2149.06 161.305 2151.93 161.305 Q2155.38 161.305 2157.37 159.106 Q2159.38 156.907 2159.38 153.111 L2159.38 138.412 L2163.64 138.412 L2163.64 164.338 L2159.38 164.338 L2159.38 160.356 Q2157.83 162.717 2155.77 163.875 Q2153.73 165.009 2151.03 165.009 Q2146.56 165.009 2144.24 162.231 Q2141.93 159.453 2141.93 154.106 M2152.65 137.787 L2152.65 137.787 Z\" fill=\"#000000\" fill-rule=\"evenodd\" fill-opacity=\"1\" /><polyline clip-path=\"url(#clip900)\" style=\"stroke:#e26f46; stroke-linecap:butt; stroke-linejoin:round; stroke-width:4; stroke-opacity:1; fill:none\" points=\"\n",
       "  1914.59,198.898 2061,198.898 \n",
       "  \"/>\n",
       "<path clip-path=\"url(#clip900)\" d=\"M2101.91 180.159 L2101.91 183.701 L2097.83 183.701 Q2095.54 183.701 2094.64 184.627 Q2093.76 185.553 2093.76 187.96 L2093.76 190.252 L2100.77 190.252 L2100.77 193.562 L2093.76 193.562 L2093.76 216.178 L2089.47 216.178 L2089.47 193.562 L2085.4 193.562 L2085.4 190.252 L2089.47 190.252 L2089.47 188.446 Q2089.47 184.118 2091.49 182.15 Q2093.5 180.159 2097.88 180.159 L2101.91 180.159 Z\" fill=\"#000000\" fill-rule=\"evenodd\" fill-opacity=\"1\" /><path clip-path=\"url(#clip900)\" d=\"M2120.49 194.233 Q2119.78 193.817 2118.92 193.631 Q2118.09 193.423 2117.07 193.423 Q2113.46 193.423 2111.51 195.784 Q2109.59 198.122 2109.59 202.52 L2109.59 216.178 L2105.31 216.178 L2105.31 190.252 L2109.59 190.252 L2109.59 194.28 Q2110.93 191.918 2113.09 190.784 Q2115.24 189.627 2118.32 189.627 Q2118.76 189.627 2119.29 189.696 Q2119.82 189.743 2120.47 189.858 L2120.49 194.233 Z\" fill=\"#000000\" fill-rule=\"evenodd\" fill-opacity=\"1\" /><path clip-path=\"url(#clip900)\" d=\"M2146.09 202.15 L2146.09 204.233 L2126.51 204.233 Q2126.79 208.631 2129.15 210.946 Q2131.53 213.238 2135.77 213.238 Q2138.22 213.238 2140.52 212.636 Q2142.83 212.034 2145.1 210.83 L2145.1 214.858 Q2142.81 215.83 2140.4 216.34 Q2137.99 216.849 2135.52 216.849 Q2129.31 216.849 2125.68 213.238 Q2122.07 209.627 2122.07 203.469 Q2122.07 197.104 2125.49 193.377 Q2128.94 189.627 2134.78 189.627 Q2140.01 189.627 2143.04 193.006 Q2146.09 196.363 2146.09 202.15 M2141.84 200.9 Q2141.79 197.405 2139.87 195.321 Q2137.97 193.238 2134.82 193.238 Q2131.26 193.238 2129.1 195.252 Q2126.97 197.266 2126.65 200.923 L2141.84 200.9 Z\" fill=\"#000000\" fill-rule=\"evenodd\" fill-opacity=\"1\" /><path clip-path=\"url(#clip900)\" d=\"M2174.64 200.529 L2174.64 216.178 L2170.38 216.178 L2170.38 200.668 Q2170.38 196.988 2168.94 195.159 Q2167.51 193.33 2164.64 193.33 Q2161.19 193.33 2159.2 195.53 Q2157.21 197.729 2157.21 201.525 L2157.21 216.178 L2152.92 216.178 L2152.92 190.252 L2157.21 190.252 L2157.21 194.28 Q2158.73 191.942 2160.79 190.784 Q2162.88 189.627 2165.59 189.627 Q2170.05 189.627 2172.34 192.405 Q2174.64 195.159 2174.64 200.529 Z\" fill=\"#000000\" fill-rule=\"evenodd\" fill-opacity=\"1\" /><path clip-path=\"url(#clip900)\" d=\"M2201.79 191.247 L2201.79 195.229 Q2199.98 194.233 2198.15 193.747 Q2196.35 193.238 2194.5 193.238 Q2190.35 193.238 2188.06 195.877 Q2185.77 198.492 2185.77 203.238 Q2185.77 207.983 2188.06 210.622 Q2190.35 213.238 2194.5 213.238 Q2196.35 213.238 2198.15 212.752 Q2199.98 212.242 2201.79 211.247 L2201.79 215.182 Q2200.01 216.016 2198.09 216.432 Q2196.19 216.849 2194.03 216.849 Q2188.18 216.849 2184.73 213.168 Q2181.28 209.488 2181.28 203.238 Q2181.28 196.895 2184.75 193.261 Q2188.25 189.627 2194.31 189.627 Q2196.28 189.627 2198.15 190.043 Q2200.03 190.437 2201.79 191.247 Z\" fill=\"#000000\" fill-rule=\"evenodd\" fill-opacity=\"1\" /><path clip-path=\"url(#clip900)\" d=\"M2230.75 200.529 L2230.75 216.178 L2226.49 216.178 L2226.49 200.668 Q2226.49 196.988 2225.05 195.159 Q2223.62 193.33 2220.75 193.33 Q2217.3 193.33 2215.31 195.53 Q2213.32 197.729 2213.32 201.525 L2213.32 216.178 L2209.03 216.178 L2209.03 180.159 L2213.32 180.159 L2213.32 194.28 Q2214.84 191.942 2216.9 190.784 Q2218.99 189.627 2221.7 189.627 Q2226.16 189.627 2228.46 192.405 Q2230.75 195.159 2230.75 200.529 Z\" fill=\"#000000\" fill-rule=\"evenodd\" fill-opacity=\"1\" /><polyline clip-path=\"url(#clip900)\" style=\"stroke:#3da44d; stroke-linecap:butt; stroke-linejoin:round; stroke-width:4; stroke-opacity:1; fill:none\" points=\"\n",
       "  1914.59,250.738 2061,250.738 \n",
       "  \"/>\n",
       "<path clip-path=\"url(#clip900)\" d=\"M2103.83 242.856 L2103.83 246.883 Q2102.02 245.957 2100.08 245.495 Q2098.13 245.032 2096.05 245.032 Q2092.88 245.032 2091.28 246.004 Q2089.71 246.976 2089.71 248.92 Q2089.71 250.402 2090.84 251.258 Q2091.97 252.092 2095.4 252.856 L2096.86 253.18 Q2101.4 254.152 2103.29 255.934 Q2105.22 257.694 2105.22 260.865 Q2105.22 264.476 2102.35 266.582 Q2099.5 268.689 2094.5 268.689 Q2092.41 268.689 2090.15 268.272 Q2087.9 267.879 2085.4 267.068 L2085.4 262.67 Q2087.76 263.897 2090.05 264.522 Q2092.35 265.124 2094.59 265.124 Q2097.6 265.124 2099.22 264.106 Q2100.84 263.064 2100.84 261.189 Q2100.84 259.453 2099.66 258.527 Q2098.5 257.601 2094.54 256.744 L2093.06 256.397 Q2089.1 255.564 2087.35 253.851 Q2085.59 252.115 2085.59 249.106 Q2085.59 245.448 2088.18 243.458 Q2090.77 241.467 2095.54 241.467 Q2097.9 241.467 2099.98 241.814 Q2102.07 242.161 2103.83 242.856 Z\" fill=\"#000000\" fill-rule=\"evenodd\" fill-opacity=\"1\" /><path clip-path=\"url(#clip900)\" d=\"M2122.04 245.078 Q2118.62 245.078 2116.63 247.763 Q2114.64 250.425 2114.64 255.078 Q2114.64 259.731 2116.6 262.416 Q2118.59 265.078 2122.04 265.078 Q2125.45 265.078 2127.44 262.393 Q2129.43 259.707 2129.43 255.078 Q2129.43 250.471 2127.44 247.786 Q2125.45 245.078 2122.04 245.078 M2122.04 241.467 Q2127.6 241.467 2130.77 245.078 Q2133.94 248.689 2133.94 255.078 Q2133.94 261.444 2130.77 265.078 Q2127.6 268.689 2122.04 268.689 Q2116.47 268.689 2113.29 265.078 Q2110.15 261.444 2110.15 255.078 Q2110.15 248.689 2113.29 245.078 Q2116.47 241.467 2122.04 241.467 Z\" fill=\"#000000\" fill-rule=\"evenodd\" fill-opacity=\"1\" /><path clip-path=\"url(#clip900)\" d=\"M2154.13 231.999 L2154.13 235.541 L2150.05 235.541 Q2147.76 235.541 2146.86 236.467 Q2145.98 237.393 2145.98 239.8 L2145.98 242.092 L2152.99 242.092 L2152.99 245.402 L2145.98 245.402 L2145.98 268.018 L2141.7 268.018 L2141.7 245.402 L2137.62 245.402 L2137.62 242.092 L2141.7 242.092 L2141.7 240.286 Q2141.7 235.958 2143.71 233.99 Q2145.72 231.999 2150.1 231.999 L2154.13 231.999 Z\" fill=\"#000000\" fill-rule=\"evenodd\" fill-opacity=\"1\" /><path clip-path=\"url(#clip900)\" d=\"M2161.07 234.731 L2161.07 242.092 L2169.84 242.092 L2169.84 245.402 L2161.07 245.402 L2161.07 259.476 Q2161.07 262.647 2161.93 263.55 Q2162.81 264.453 2165.47 264.453 L2169.84 264.453 L2169.84 268.018 L2165.47 268.018 Q2160.54 268.018 2158.66 266.189 Q2156.79 264.337 2156.79 259.476 L2156.79 245.402 L2153.66 245.402 L2153.66 242.092 L2156.79 242.092 L2156.79 234.731 L2161.07 234.731 Z\" fill=\"#000000\" fill-rule=\"evenodd\" fill-opacity=\"1\" /><polyline clip-path=\"url(#clip900)\" style=\"stroke:#c271d2; stroke-linecap:butt; stroke-linejoin:round; stroke-width:4; stroke-opacity:1; fill:none\" points=\"\n",
       "  1914.59,302.578 2061,302.578 \n",
       "  \"/>\n",
       "<path clip-path=\"url(#clip900)\" d=\"M2085.4 285.298 L2092.37 285.298 L2101.19 308.816 L2110.05 285.298 L2117.02 285.298 L2117.02 319.858 L2112.46 319.858 L2112.46 289.51 L2103.55 313.214 L2098.85 313.214 L2089.94 289.51 L2089.94 319.858 L2085.4 319.858 L2085.4 285.298 Z\" fill=\"#000000\" fill-rule=\"evenodd\" fill-opacity=\"1\" /><path clip-path=\"url(#clip900)\" d=\"M2126.3 285.298 L2130.98 285.298 L2130.98 299.464 L2147.97 299.464 L2147.97 285.298 L2152.65 285.298 L2152.65 319.858 L2147.97 319.858 L2147.97 303.399 L2130.98 303.399 L2130.98 319.858 L2126.3 319.858 L2126.3 285.298 Z\" fill=\"#000000\" fill-rule=\"evenodd\" fill-opacity=\"1\" /><polyline clip-path=\"url(#clip900)\" style=\"stroke:#ac8d18; stroke-linecap:butt; stroke-linejoin:round; stroke-width:4; stroke-opacity:1; fill:none\" points=\"\n",
       "  1914.59,354.418 2061,354.418 \n",
       "  \"/>\n",
       "<path clip-path=\"url(#clip900)\" d=\"M2103.83 346.536 L2103.83 350.563 Q2102.02 349.637 2100.08 349.175 Q2098.13 348.712 2096.05 348.712 Q2092.88 348.712 2091.28 349.684 Q2089.71 350.656 2089.71 352.6 Q2089.71 354.082 2090.84 354.938 Q2091.97 355.772 2095.4 356.536 L2096.86 356.86 Q2101.4 357.832 2103.29 359.614 Q2105.22 361.374 2105.22 364.545 Q2105.22 368.156 2102.35 370.262 Q2099.5 372.369 2094.5 372.369 Q2092.41 372.369 2090.15 371.952 Q2087.9 371.559 2085.4 370.748 L2085.4 366.35 Q2087.76 367.577 2090.05 368.202 Q2092.35 368.804 2094.59 368.804 Q2097.6 368.804 2099.22 367.786 Q2100.84 366.744 2100.84 364.869 Q2100.84 363.133 2099.66 362.207 Q2098.5 361.281 2094.54 360.424 L2093.06 360.077 Q2089.1 359.244 2087.35 357.531 Q2085.59 355.795 2085.59 352.786 Q2085.59 349.128 2088.18 347.138 Q2090.77 345.147 2095.54 345.147 Q2097.9 345.147 2099.98 345.494 Q2102.07 345.841 2103.83 346.536 Z\" fill=\"#000000\" fill-rule=\"evenodd\" fill-opacity=\"1\" /><path clip-path=\"url(#clip900)\" d=\"M2112 345.772 L2116.26 345.772 L2116.26 371.698 L2112 371.698 L2112 345.772 M2112 335.679 L2116.26 335.679 L2116.26 341.073 L2112 341.073 L2112 335.679 Z\" fill=\"#000000\" fill-rule=\"evenodd\" fill-opacity=\"1\" /><path clip-path=\"url(#clip900)\" d=\"M2143.78 358.758 Q2143.78 354.059 2141.84 351.397 Q2139.91 348.712 2136.53 348.712 Q2133.16 348.712 2131.21 351.397 Q2129.29 354.059 2129.29 358.758 Q2129.29 363.457 2131.21 366.142 Q2133.16 368.804 2136.53 368.804 Q2139.91 368.804 2141.84 366.142 Q2143.78 363.457 2143.78 358.758 M2129.29 349.707 Q2130.63 347.392 2132.67 346.281 Q2134.73 345.147 2137.58 345.147 Q2142.3 345.147 2145.24 348.897 Q2148.2 352.647 2148.2 358.758 Q2148.2 364.869 2145.24 368.619 Q2142.3 372.369 2137.58 372.369 Q2134.73 372.369 2132.67 371.258 Q2130.63 370.123 2129.29 367.809 L2129.29 371.698 L2125.01 371.698 L2125.01 335.679 L2129.29 335.679 L2129.29 349.707 Z\" fill=\"#000000\" fill-rule=\"evenodd\" fill-opacity=\"1\" /></svg>\n"
      ]
     },
     "execution_count": 29,
     "metadata": {},
     "output_type": "execute_result"
    }
   ],
   "source": [
    "#Marginals\n",
    "bins = 10 * Int(T)\n",
    "using Plots\n",
    "p_cau = zeros(N,bins)\n",
    "p_french = zeros(N,bins)\n",
    "p_mh = zeros(N,bins)\n",
    "p_soft = zeros(N,bins)\n",
    "for i = 1:N\n",
    "    for t = 1:bins\n",
    "       p_cau[i,t] = marginal(i, t*T/bins, statscau)\n",
    "       p_french[i,t] = marginal(i, t*T/bins, statsfre)\n",
    "       p_mh[i,t] = marginal(i, t*T/bins, stats_mh)\n",
    "       p_soft[i,t] = marginal(i, t*T/bins, stats)\n",
    "    end\n",
    "end\n",
    "i = 4\n",
    "plot(LinRange(1,Int(T),bins),p_cau[i,:], label = \"cau\")\n",
    "plot!(LinRange(1,Int(T),bins),p_french[i,:], label = \"french\")\n",
    "plot!(LinRange(1,Int(T),bins),p_soft[i,:], label = \"soft\")\n",
    "plot!(LinRange(1,Int(T),bins),p_mh[i,:], label = \"MH\")\n",
    "plot!(LinRange(1,Int(T),Int(round(T/dt))),p_sib[i,:], label = \"sib\")"
   ]
  },
  {
   "cell_type": "code",
   "execution_count": 30,
   "metadata": {},
   "outputs": [
    {
     "data": {
      "image/svg+xml": [
       "<?xml version=\"1.0\" encoding=\"utf-8\"?>\n",
       "<svg xmlns=\"http://www.w3.org/2000/svg\" xmlns:xlink=\"http://www.w3.org/1999/xlink\" width=\"600\" height=\"400\" viewBox=\"0 0 2400 1600\">\n",
       "<defs>\n",
       "  <clipPath id=\"clip940\">\n",
       "    <rect x=\"0\" y=\"0\" width=\"2400\" height=\"1600\"/>\n",
       "  </clipPath>\n",
       "</defs>\n",
       "<path clip-path=\"url(#clip940)\" d=\"\n",
       "M0 1600 L2400 1600 L2400 0 L0 0  Z\n",
       "  \" fill=\"#ffffff\" fill-rule=\"evenodd\" fill-opacity=\"1\"/>\n",
       "<defs>\n",
       "  <clipPath id=\"clip941\">\n",
       "    <rect x=\"480\" y=\"0\" width=\"1681\" height=\"1600\"/>\n",
       "  </clipPath>\n",
       "</defs>\n",
       "<path clip-path=\"url(#clip940)\" d=\"\n",
       "M219.866 1423.18 L2352.76 1423.18 L2352.76 123.472 L219.866 123.472  Z\n",
       "  \" fill=\"#ffffff\" fill-rule=\"evenodd\" fill-opacity=\"1\"/>\n",
       "<defs>\n",
       "  <clipPath id=\"clip942\">\n",
       "    <rect x=\"219\" y=\"123\" width=\"2134\" height=\"1301\"/>\n",
       "  </clipPath>\n",
       "</defs>\n",
       "<polyline clip-path=\"url(#clip942)\" style=\"stroke:#000000; stroke-linecap:butt; stroke-linejoin:round; stroke-width:2; stroke-opacity:0.1; fill:none\" points=\"\n",
       "  557.77,1423.18 557.77,123.472 \n",
       "  \"/>\n",
       "<polyline clip-path=\"url(#clip942)\" style=\"stroke:#000000; stroke-linecap:butt; stroke-linejoin:round; stroke-width:2; stroke-opacity:0.1; fill:none\" points=\"\n",
       "  904.695,1423.18 904.695,123.472 \n",
       "  \"/>\n",
       "<polyline clip-path=\"url(#clip942)\" style=\"stroke:#000000; stroke-linecap:butt; stroke-linejoin:round; stroke-width:2; stroke-opacity:0.1; fill:none\" points=\"\n",
       "  1251.62,1423.18 1251.62,123.472 \n",
       "  \"/>\n",
       "<polyline clip-path=\"url(#clip942)\" style=\"stroke:#000000; stroke-linecap:butt; stroke-linejoin:round; stroke-width:2; stroke-opacity:0.1; fill:none\" points=\"\n",
       "  1598.54,1423.18 1598.54,123.472 \n",
       "  \"/>\n",
       "<polyline clip-path=\"url(#clip942)\" style=\"stroke:#000000; stroke-linecap:butt; stroke-linejoin:round; stroke-width:2; stroke-opacity:0.1; fill:none\" points=\"\n",
       "  1945.47,1423.18 1945.47,123.472 \n",
       "  \"/>\n",
       "<polyline clip-path=\"url(#clip942)\" style=\"stroke:#000000; stroke-linecap:butt; stroke-linejoin:round; stroke-width:2; stroke-opacity:0.1; fill:none\" points=\"\n",
       "  2292.39,1423.18 2292.39,123.472 \n",
       "  \"/>\n",
       "<polyline clip-path=\"url(#clip940)\" style=\"stroke:#000000; stroke-linecap:butt; stroke-linejoin:round; stroke-width:4; stroke-opacity:1; fill:none\" points=\"\n",
       "  219.866,1423.18 2352.76,1423.18 \n",
       "  \"/>\n",
       "<polyline clip-path=\"url(#clip940)\" style=\"stroke:#000000; stroke-linecap:butt; stroke-linejoin:round; stroke-width:4; stroke-opacity:1; fill:none\" points=\"\n",
       "  557.77,1423.18 557.77,1404.28 \n",
       "  \"/>\n",
       "<polyline clip-path=\"url(#clip940)\" style=\"stroke:#000000; stroke-linecap:butt; stroke-linejoin:round; stroke-width:4; stroke-opacity:1; fill:none\" points=\"\n",
       "  904.695,1423.18 904.695,1404.28 \n",
       "  \"/>\n",
       "<polyline clip-path=\"url(#clip940)\" style=\"stroke:#000000; stroke-linecap:butt; stroke-linejoin:round; stroke-width:4; stroke-opacity:1; fill:none\" points=\"\n",
       "  1251.62,1423.18 1251.62,1404.28 \n",
       "  \"/>\n",
       "<polyline clip-path=\"url(#clip940)\" style=\"stroke:#000000; stroke-linecap:butt; stroke-linejoin:round; stroke-width:4; stroke-opacity:1; fill:none\" points=\"\n",
       "  1598.54,1423.18 1598.54,1404.28 \n",
       "  \"/>\n",
       "<polyline clip-path=\"url(#clip940)\" style=\"stroke:#000000; stroke-linecap:butt; stroke-linejoin:round; stroke-width:4; stroke-opacity:1; fill:none\" points=\"\n",
       "  1945.47,1423.18 1945.47,1404.28 \n",
       "  \"/>\n",
       "<polyline clip-path=\"url(#clip940)\" style=\"stroke:#000000; stroke-linecap:butt; stroke-linejoin:round; stroke-width:4; stroke-opacity:1; fill:none\" points=\"\n",
       "  2292.39,1423.18 2292.39,1404.28 \n",
       "  \"/>\n",
       "<path clip-path=\"url(#clip940)\" d=\"M548.048 1451.02 L566.405 1451.02 L566.405 1454.96 L552.331 1454.96 L552.331 1463.43 Q553.349 1463.08 554.368 1462.92 Q555.386 1462.73 556.405 1462.73 Q562.192 1462.73 565.571 1465.9 Q568.951 1469.08 568.951 1474.49 Q568.951 1480.07 565.479 1483.17 Q562.006 1486.25 555.687 1486.25 Q553.511 1486.25 551.243 1485.88 Q548.997 1485.51 546.59 1484.77 L546.59 1480.07 Q548.673 1481.2 550.895 1481.76 Q553.118 1482.32 555.594 1482.32 Q559.599 1482.32 561.937 1480.21 Q564.275 1478.1 564.275 1474.49 Q564.275 1470.88 561.937 1468.77 Q559.599 1466.67 555.594 1466.67 Q553.719 1466.67 551.844 1467.08 Q549.993 1467.5 548.048 1468.38 L548.048 1451.02 Z\" fill=\"#000000\" fill-rule=\"evenodd\" fill-opacity=\"1\" /><path clip-path=\"url(#clip940)\" d=\"M879.382 1481.64 L887.021 1481.64 L887.021 1455.28 L878.711 1456.95 L878.711 1452.69 L886.975 1451.02 L891.651 1451.02 L891.651 1481.64 L899.289 1481.64 L899.289 1485.58 L879.382 1485.58 L879.382 1481.64 Z\" fill=\"#000000\" fill-rule=\"evenodd\" fill-opacity=\"1\" /><path clip-path=\"url(#clip940)\" d=\"M918.734 1454.1 Q915.123 1454.1 913.294 1457.66 Q911.488 1461.2 911.488 1468.33 Q911.488 1475.44 913.294 1479.01 Q915.123 1482.55 918.734 1482.55 Q922.368 1482.55 924.174 1479.01 Q926.002 1475.44 926.002 1468.33 Q926.002 1461.2 924.174 1457.66 Q922.368 1454.1 918.734 1454.1 M918.734 1450.39 Q924.544 1450.39 927.599 1455 Q930.678 1459.58 930.678 1468.33 Q930.678 1477.06 927.599 1481.67 Q924.544 1486.25 918.734 1486.25 Q912.924 1486.25 909.845 1481.67 Q906.789 1477.06 906.789 1468.33 Q906.789 1459.58 909.845 1455 Q912.924 1450.39 918.734 1450.39 Z\" fill=\"#000000\" fill-rule=\"evenodd\" fill-opacity=\"1\" /><path clip-path=\"url(#clip940)\" d=\"M1226.8 1481.64 L1234.44 1481.64 L1234.44 1455.28 L1226.13 1456.95 L1226.13 1452.69 L1234.4 1451.02 L1239.07 1451.02 L1239.07 1481.64 L1246.71 1481.64 L1246.71 1485.58 L1226.8 1485.58 L1226.8 1481.64 Z\" fill=\"#000000\" fill-rule=\"evenodd\" fill-opacity=\"1\" /><path clip-path=\"url(#clip940)\" d=\"M1256.2 1451.02 L1274.56 1451.02 L1274.56 1454.96 L1260.48 1454.96 L1260.48 1463.43 Q1261.5 1463.08 1262.52 1462.92 Q1263.54 1462.73 1264.56 1462.73 Q1270.35 1462.73 1273.73 1465.9 Q1277.1 1469.08 1277.1 1474.49 Q1277.1 1480.07 1273.63 1483.17 Q1270.16 1486.25 1263.84 1486.25 Q1261.66 1486.25 1259.4 1485.88 Q1257.15 1485.51 1254.74 1484.77 L1254.74 1480.07 Q1256.83 1481.2 1259.05 1481.76 Q1261.27 1482.32 1263.75 1482.32 Q1267.75 1482.32 1270.09 1480.21 Q1272.43 1478.1 1272.43 1474.49 Q1272.43 1470.88 1270.09 1468.77 Q1267.75 1466.67 1263.75 1466.67 Q1261.87 1466.67 1260 1467.08 Q1258.15 1467.5 1256.2 1468.38 L1256.2 1451.02 Z\" fill=\"#000000\" fill-rule=\"evenodd\" fill-opacity=\"1\" /><path clip-path=\"url(#clip940)\" d=\"M1577.32 1481.64 L1593.64 1481.64 L1593.64 1485.58 L1571.69 1485.58 L1571.69 1481.64 Q1574.35 1478.89 1578.94 1474.26 Q1583.54 1469.61 1584.72 1468.27 Q1586.97 1465.74 1587.85 1464.01 Q1588.75 1462.25 1588.75 1460.56 Q1588.75 1457.8 1586.81 1456.07 Q1584.89 1454.33 1581.78 1454.33 Q1579.58 1454.33 1577.13 1455.09 Q1574.7 1455.86 1571.92 1457.41 L1571.92 1452.69 Q1574.75 1451.55 1577.2 1450.97 Q1579.65 1450.39 1581.69 1450.39 Q1587.06 1450.39 1590.26 1453.08 Q1593.45 1455.77 1593.45 1460.26 Q1593.45 1462.39 1592.64 1464.31 Q1591.85 1466.2 1589.75 1468.8 Q1589.17 1469.47 1586.07 1472.69 Q1582.96 1475.88 1577.32 1481.64 Z\" fill=\"#000000\" fill-rule=\"evenodd\" fill-opacity=\"1\" /><path clip-path=\"url(#clip940)\" d=\"M1613.45 1454.1 Q1609.84 1454.1 1608.01 1457.66 Q1606.2 1461.2 1606.2 1468.33 Q1606.2 1475.44 1608.01 1479.01 Q1609.84 1482.55 1613.45 1482.55 Q1617.08 1482.55 1618.89 1479.01 Q1620.72 1475.44 1620.72 1468.33 Q1620.72 1461.2 1618.89 1457.66 Q1617.08 1454.1 1613.45 1454.1 M1613.45 1450.39 Q1619.26 1450.39 1622.32 1455 Q1625.39 1459.58 1625.39 1468.33 Q1625.39 1477.06 1622.32 1481.67 Q1619.26 1486.25 1613.45 1486.25 Q1607.64 1486.25 1604.56 1481.67 Q1601.51 1477.06 1601.51 1468.33 Q1601.51 1459.58 1604.56 1455 Q1607.64 1450.39 1613.45 1450.39 Z\" fill=\"#000000\" fill-rule=\"evenodd\" fill-opacity=\"1\" /><path clip-path=\"url(#clip940)\" d=\"M1924.74 1481.64 L1941.06 1481.64 L1941.06 1485.58 L1919.11 1485.58 L1919.11 1481.64 Q1921.77 1478.89 1926.36 1474.26 Q1930.96 1469.61 1932.15 1468.27 Q1934.39 1465.74 1935.27 1464.01 Q1936.17 1462.25 1936.17 1460.56 Q1936.17 1457.8 1934.23 1456.07 Q1932.31 1454.33 1929.21 1454.33 Q1927.01 1454.33 1924.55 1455.09 Q1922.12 1455.86 1919.34 1457.41 L1919.34 1452.69 Q1922.17 1451.55 1924.62 1450.97 Q1927.08 1450.39 1929.11 1450.39 Q1934.48 1450.39 1937.68 1453.08 Q1940.87 1455.77 1940.87 1460.26 Q1940.87 1462.39 1940.06 1464.31 Q1939.27 1466.2 1937.17 1468.8 Q1936.59 1469.47 1933.49 1472.69 Q1930.39 1475.88 1924.74 1481.64 Z\" fill=\"#000000\" fill-rule=\"evenodd\" fill-opacity=\"1\" /><path clip-path=\"url(#clip940)\" d=\"M1950.92 1451.02 L1969.27 1451.02 L1969.27 1454.96 L1955.2 1454.96 L1955.2 1463.43 Q1956.22 1463.08 1957.24 1462.92 Q1958.26 1462.73 1959.27 1462.73 Q1965.06 1462.73 1968.44 1465.9 Q1971.82 1469.08 1971.82 1474.49 Q1971.82 1480.07 1968.35 1483.17 Q1964.88 1486.25 1958.56 1486.25 Q1956.38 1486.25 1954.11 1485.88 Q1951.87 1485.51 1949.46 1484.77 L1949.46 1480.07 Q1951.54 1481.2 1953.77 1481.76 Q1955.99 1482.32 1958.46 1482.32 Q1962.47 1482.32 1964.81 1480.21 Q1967.15 1478.1 1967.15 1474.49 Q1967.15 1470.88 1964.81 1468.77 Q1962.47 1466.67 1958.46 1466.67 Q1956.59 1466.67 1954.71 1467.08 Q1952.86 1467.5 1950.92 1468.38 L1950.92 1451.02 Z\" fill=\"#000000\" fill-rule=\"evenodd\" fill-opacity=\"1\" /><path clip-path=\"url(#clip940)\" d=\"M2281.23 1466.95 Q2284.59 1467.66 2286.47 1469.93 Q2288.36 1472.2 2288.36 1475.53 Q2288.36 1480.65 2284.84 1483.45 Q2281.33 1486.25 2274.84 1486.25 Q2272.67 1486.25 2270.35 1485.81 Q2268.06 1485.39 2265.61 1484.54 L2265.61 1480.02 Q2267.55 1481.16 2269.87 1481.74 Q2272.18 1482.32 2274.71 1482.32 Q2279.1 1482.32 2281.4 1480.58 Q2283.71 1478.84 2283.71 1475.53 Q2283.71 1472.48 2281.56 1470.77 Q2279.43 1469.03 2275.61 1469.03 L2271.58 1469.03 L2271.58 1465.19 L2275.79 1465.19 Q2279.24 1465.19 2281.07 1463.82 Q2282.9 1462.43 2282.9 1459.84 Q2282.9 1457.18 2281 1455.77 Q2279.13 1454.33 2275.61 1454.33 Q2273.69 1454.33 2271.49 1454.75 Q2269.29 1455.16 2266.65 1456.04 L2266.65 1451.88 Q2269.31 1451.14 2271.63 1450.77 Q2273.97 1450.39 2276.03 1450.39 Q2281.35 1450.39 2284.45 1452.83 Q2287.55 1455.23 2287.55 1459.35 Q2287.55 1462.22 2285.91 1464.21 Q2284.27 1466.18 2281.23 1466.95 Z\" fill=\"#000000\" fill-rule=\"evenodd\" fill-opacity=\"1\" /><path clip-path=\"url(#clip940)\" d=\"M2307.23 1454.1 Q2303.62 1454.1 2301.79 1457.66 Q2299.98 1461.2 2299.98 1468.33 Q2299.98 1475.44 2301.79 1479.01 Q2303.62 1482.55 2307.23 1482.55 Q2310.86 1482.55 2312.67 1479.01 Q2314.5 1475.44 2314.5 1468.33 Q2314.5 1461.2 2312.67 1457.66 Q2310.86 1454.1 2307.23 1454.1 M2307.23 1450.39 Q2313.04 1450.39 2316.09 1455 Q2319.17 1459.58 2319.17 1468.33 Q2319.17 1477.06 2316.09 1481.67 Q2313.04 1486.25 2307.23 1486.25 Q2301.42 1486.25 2298.34 1481.67 Q2295.28 1477.06 2295.28 1468.33 Q2295.28 1459.58 2298.34 1455 Q2301.42 1450.39 2307.23 1450.39 Z\" fill=\"#000000\" fill-rule=\"evenodd\" fill-opacity=\"1\" /><path clip-path=\"url(#clip940)\" d=\"M1285.37 1522.27 L1285.37 1532.4 L1297.44 1532.4 L1297.44 1536.95 L1285.37 1536.95 L1285.37 1556.3 Q1285.37 1560.66 1286.55 1561.9 Q1287.76 1563.14 1291.42 1563.14 L1297.44 1563.14 L1297.44 1568.04 L1291.42 1568.04 Q1284.64 1568.04 1282.06 1565.53 Q1279.48 1562.98 1279.48 1556.3 L1279.48 1536.95 L1275.19 1536.95 L1275.19 1532.4 L1279.48 1532.4 L1279.48 1522.27 L1285.37 1522.27 Z\" fill=\"#000000\" fill-rule=\"evenodd\" fill-opacity=\"1\" /><polyline clip-path=\"url(#clip942)\" style=\"stroke:#000000; stroke-linecap:butt; stroke-linejoin:round; stroke-width:2; stroke-opacity:0.1; fill:none\" points=\"\n",
       "  219.866,1168.96 2352.76,1168.96 \n",
       "  \"/>\n",
       "<polyline clip-path=\"url(#clip942)\" style=\"stroke:#000000; stroke-linecap:butt; stroke-linejoin:round; stroke-width:2; stroke-opacity:0.1; fill:none\" points=\"\n",
       "  219.866,855.604 2352.76,855.604 \n",
       "  \"/>\n",
       "<polyline clip-path=\"url(#clip942)\" style=\"stroke:#000000; stroke-linecap:butt; stroke-linejoin:round; stroke-width:2; stroke-opacity:0.1; fill:none\" points=\"\n",
       "  219.866,542.245 2352.76,542.245 \n",
       "  \"/>\n",
       "<polyline clip-path=\"url(#clip942)\" style=\"stroke:#000000; stroke-linecap:butt; stroke-linejoin:round; stroke-width:2; stroke-opacity:0.1; fill:none\" points=\"\n",
       "  219.866,228.887 2352.76,228.887 \n",
       "  \"/>\n",
       "<polyline clip-path=\"url(#clip940)\" style=\"stroke:#000000; stroke-linecap:butt; stroke-linejoin:round; stroke-width:4; stroke-opacity:1; fill:none\" points=\"\n",
       "  219.866,1423.18 219.866,123.472 \n",
       "  \"/>\n",
       "<polyline clip-path=\"url(#clip940)\" style=\"stroke:#000000; stroke-linecap:butt; stroke-linejoin:round; stroke-width:4; stroke-opacity:1; fill:none\" points=\"\n",
       "  219.866,1168.96 238.764,1168.96 \n",
       "  \"/>\n",
       "<polyline clip-path=\"url(#clip940)\" style=\"stroke:#000000; stroke-linecap:butt; stroke-linejoin:round; stroke-width:4; stroke-opacity:1; fill:none\" points=\"\n",
       "  219.866,855.604 238.764,855.604 \n",
       "  \"/>\n",
       "<polyline clip-path=\"url(#clip940)\" style=\"stroke:#000000; stroke-linecap:butt; stroke-linejoin:round; stroke-width:4; stroke-opacity:1; fill:none\" points=\"\n",
       "  219.866,542.245 238.764,542.245 \n",
       "  \"/>\n",
       "<polyline clip-path=\"url(#clip940)\" style=\"stroke:#000000; stroke-linecap:butt; stroke-linejoin:round; stroke-width:4; stroke-opacity:1; fill:none\" points=\"\n",
       "  219.866,228.887 238.764,228.887 \n",
       "  \"/>\n",
       "<path clip-path=\"url(#clip940)\" d=\"M128.288 1154.76 Q124.677 1154.76 122.848 1158.33 Q121.043 1161.87 121.043 1169 Q121.043 1176.1 122.848 1179.67 Q124.677 1183.21 128.288 1183.21 Q131.922 1183.21 133.728 1179.67 Q135.556 1176.1 135.556 1169 Q135.556 1161.87 133.728 1158.33 Q131.922 1154.76 128.288 1154.76 M128.288 1151.06 Q134.098 1151.06 137.154 1155.66 Q140.232 1160.25 140.232 1169 Q140.232 1177.72 137.154 1182.33 Q134.098 1186.91 128.288 1186.91 Q122.478 1186.91 119.399 1182.33 Q116.343 1177.72 116.343 1169 Q116.343 1160.25 119.399 1155.66 Q122.478 1151.06 128.288 1151.06 Z\" fill=\"#000000\" fill-rule=\"evenodd\" fill-opacity=\"1\" /><path clip-path=\"url(#clip940)\" d=\"M148.45 1180.36 L153.334 1180.36 L153.334 1186.24 L148.45 1186.24 L148.45 1180.36 Z\" fill=\"#000000\" fill-rule=\"evenodd\" fill-opacity=\"1\" /><path clip-path=\"url(#clip940)\" d=\"M167.547 1182.31 L183.866 1182.31 L183.866 1186.24 L161.922 1186.24 L161.922 1182.31 Q164.584 1179.55 169.167 1174.92 Q173.774 1170.27 174.954 1168.93 Q177.2 1166.41 178.079 1164.67 Q178.982 1162.91 178.982 1161.22 Q178.982 1158.47 177.038 1156.73 Q175.116 1154.99 172.014 1154.99 Q169.815 1154.99 167.362 1155.76 Q164.931 1156.52 162.153 1158.07 L162.153 1153.35 Q164.977 1152.22 167.431 1151.64 Q169.885 1151.06 171.922 1151.06 Q177.292 1151.06 180.487 1153.74 Q183.681 1156.43 183.681 1160.92 Q183.681 1163.05 182.871 1164.97 Q182.084 1166.87 179.977 1169.46 Q179.399 1170.13 176.297 1173.35 Q173.195 1176.54 167.547 1182.31 Z\" fill=\"#000000\" fill-rule=\"evenodd\" fill-opacity=\"1\" /><path clip-path=\"url(#clip940)\" d=\"M126.205 841.403 Q122.593 841.403 120.765 844.968 Q118.959 848.509 118.959 855.639 Q118.959 862.745 120.765 866.31 Q122.593 869.852 126.205 869.852 Q129.839 869.852 131.644 866.31 Q133.473 862.745 133.473 855.639 Q133.473 848.509 131.644 844.968 Q129.839 841.403 126.205 841.403 M126.205 837.699 Q132.015 837.699 135.07 842.306 Q138.149 846.889 138.149 855.639 Q138.149 864.366 135.07 868.972 Q132.015 873.556 126.205 873.556 Q120.394 873.556 117.316 868.972 Q114.26 864.366 114.26 855.639 Q114.26 846.889 117.316 842.306 Q120.394 837.699 126.205 837.699 Z\" fill=\"#000000\" fill-rule=\"evenodd\" fill-opacity=\"1\" /><path clip-path=\"url(#clip940)\" d=\"M146.366 867.005 L151.251 867.005 L151.251 872.884 L146.366 872.884 L146.366 867.005 Z\" fill=\"#000000\" fill-rule=\"evenodd\" fill-opacity=\"1\" /><path clip-path=\"url(#clip940)\" d=\"M174.283 842.398 L162.477 860.847 L174.283 860.847 L174.283 842.398 M173.056 838.324 L178.936 838.324 L178.936 860.847 L183.866 860.847 L183.866 864.736 L178.936 864.736 L178.936 872.884 L174.283 872.884 L174.283 864.736 L158.681 864.736 L158.681 860.222 L173.056 838.324 Z\" fill=\"#000000\" fill-rule=\"evenodd\" fill-opacity=\"1\" /><path clip-path=\"url(#clip940)\" d=\"M126.529 528.044 Q122.918 528.044 121.089 531.609 Q119.283 535.151 119.283 542.28 Q119.283 549.387 121.089 552.951 Q122.918 556.493 126.529 556.493 Q130.163 556.493 131.968 552.951 Q133.797 549.387 133.797 542.28 Q133.797 535.151 131.968 531.609 Q130.163 528.044 126.529 528.044 M126.529 524.34 Q132.339 524.34 135.394 528.947 Q138.473 533.53 138.473 542.28 Q138.473 551.007 135.394 555.613 Q132.339 560.197 126.529 560.197 Q120.718 560.197 117.64 555.613 Q114.584 551.007 114.584 542.28 Q114.584 533.53 117.64 528.947 Q120.718 524.34 126.529 524.34 Z\" fill=\"#000000\" fill-rule=\"evenodd\" fill-opacity=\"1\" /><path clip-path=\"url(#clip940)\" d=\"M146.691 553.646 L151.575 553.646 L151.575 559.525 L146.691 559.525 L146.691 553.646 Z\" fill=\"#000000\" fill-rule=\"evenodd\" fill-opacity=\"1\" /><path clip-path=\"url(#clip940)\" d=\"M172.339 540.382 Q169.19 540.382 167.339 542.535 Q165.51 544.688 165.51 548.438 Q165.51 552.164 167.339 554.34 Q169.19 556.493 172.339 556.493 Q175.487 556.493 177.315 554.34 Q179.167 552.164 179.167 548.438 Q179.167 544.688 177.315 542.535 Q175.487 540.382 172.339 540.382 M181.621 525.729 L181.621 529.989 Q179.862 529.155 178.056 528.715 Q176.274 528.276 174.514 528.276 Q169.885 528.276 167.431 531.401 Q165.001 534.526 164.653 540.845 Q166.019 538.831 168.079 537.766 Q170.139 536.678 172.616 536.678 Q177.825 536.678 180.834 539.85 Q183.866 542.998 183.866 548.438 Q183.866 553.762 180.718 556.979 Q177.57 560.197 172.339 560.197 Q166.343 560.197 163.172 555.613 Q160.001 551.007 160.001 542.28 Q160.001 534.086 163.89 529.225 Q167.778 524.34 174.329 524.34 Q176.089 524.34 177.871 524.688 Q179.676 525.035 181.621 525.729 Z\" fill=\"#000000\" fill-rule=\"evenodd\" fill-opacity=\"1\" /><path clip-path=\"url(#clip940)\" d=\"M126.783 214.685 Q123.172 214.685 121.343 218.25 Q119.538 221.792 119.538 228.921 Q119.538 236.028 121.343 239.593 Q123.172 243.134 126.783 243.134 Q130.417 243.134 132.223 239.593 Q134.052 236.028 134.052 228.921 Q134.052 221.792 132.223 218.25 Q130.417 214.685 126.783 214.685 M126.783 210.982 Q132.593 210.982 135.649 215.588 Q138.728 220.171 138.728 228.921 Q138.728 237.648 135.649 242.255 Q132.593 246.838 126.783 246.838 Q120.973 246.838 117.894 242.255 Q114.839 237.648 114.839 228.921 Q114.839 220.171 117.894 215.588 Q120.973 210.982 126.783 210.982 Z\" fill=\"#000000\" fill-rule=\"evenodd\" fill-opacity=\"1\" /><path clip-path=\"url(#clip940)\" d=\"M146.945 240.287 L151.829 240.287 L151.829 246.167 L146.945 246.167 L146.945 240.287 Z\" fill=\"#000000\" fill-rule=\"evenodd\" fill-opacity=\"1\" /><path clip-path=\"url(#clip940)\" d=\"M172.014 229.755 Q168.681 229.755 166.76 231.537 Q164.862 233.32 164.862 236.444 Q164.862 239.569 166.76 241.352 Q168.681 243.134 172.014 243.134 Q175.348 243.134 177.269 241.352 Q179.19 239.546 179.19 236.444 Q179.19 233.32 177.269 231.537 Q175.371 229.755 172.014 229.755 M167.339 227.764 Q164.329 227.023 162.64 224.963 Q160.973 222.903 160.973 219.94 Q160.973 215.796 163.913 213.389 Q166.876 210.982 172.014 210.982 Q177.176 210.982 180.116 213.389 Q183.056 215.796 183.056 219.94 Q183.056 222.903 181.366 224.963 Q179.7 227.023 176.714 227.764 Q180.093 228.551 181.968 230.843 Q183.866 233.134 183.866 236.444 Q183.866 241.468 180.788 244.153 Q177.732 246.838 172.014 246.838 Q166.297 246.838 163.218 244.153 Q160.163 241.468 160.163 236.444 Q160.163 233.134 162.061 230.843 Q163.959 228.551 167.339 227.764 M165.626 220.38 Q165.626 223.065 167.292 224.57 Q168.982 226.074 172.014 226.074 Q175.024 226.074 176.714 224.57 Q178.426 223.065 178.426 220.38 Q178.426 217.695 176.714 216.19 Q175.024 214.685 172.014 214.685 Q168.982 214.685 167.292 216.19 Q165.626 217.695 165.626 220.38 Z\" fill=\"#000000\" fill-rule=\"evenodd\" fill-opacity=\"1\" /><path clip-path=\"url(#clip940)\" d=\"M22.818 866.743 L46.4666 875.464 L46.4666 857.99 L22.818 866.743 M16.4842 870.371 L16.4842 863.082 L64.0042 844.972 L64.0042 851.656 L51.8138 855.985 L51.8138 877.405 L64.0042 881.734 L64.0042 888.513 L16.4842 870.371 Z\" fill=\"#000000\" fill-rule=\"evenodd\" fill-opacity=\"1\" /><path clip-path=\"url(#clip940)\" d=\"M16.4842 838.765 L16.4842 832.304 L45.3526 832.304 Q52.9915 832.304 56.3653 829.535 Q59.7073 826.766 59.7073 820.56 Q59.7073 814.385 56.3653 811.616 Q52.9915 808.847 45.3526 808.847 L16.4842 808.847 L16.4842 802.385 L46.1484 802.385 Q55.4423 802.385 60.1847 807.001 Q64.9272 811.584 64.9272 820.56 Q64.9272 829.567 60.1847 834.182 Q55.4423 838.765 46.1484 838.765 L16.4842 838.765 Z\" fill=\"#000000\" fill-rule=\"evenodd\" fill-opacity=\"1\" /><path clip-path=\"url(#clip940)\" d=\"M41.7242 767.788 Q42.4244 765.719 44.7161 763.777 Q47.0077 761.804 51.0181 759.831 L64.0042 753.306 L64.0042 760.213 L51.8138 766.292 Q47.0395 768.647 45.48 770.875 Q43.9204 773.071 43.9204 776.891 L43.9204 783.893 L64.0042 783.893 L64.0042 790.322 L16.4842 790.322 L16.4842 775.809 Q16.4842 767.661 19.8898 763.65 Q23.2955 759.64 30.1704 759.64 Q34.6582 759.64 37.6183 761.74 Q40.5784 763.809 41.7242 767.788 M21.7677 783.893 L38.6368 783.893 L38.6368 775.809 Q38.6368 771.162 36.5043 768.806 Q34.34 766.419 30.1704 766.419 Q26.0009 766.419 23.9002 768.806 Q21.7677 771.162 21.7677 775.809 L21.7677 783.893 Z\" fill=\"#000000\" fill-rule=\"evenodd\" fill-opacity=\"1\" /><path clip-path=\"url(#clip940)\" d=\"M20.8447 725.742 Q20.8447 732.745 26.0645 736.882 Q31.2844 740.988 40.2919 740.988 Q49.2675 740.988 54.4874 736.882 Q59.7073 732.745 59.7073 725.742 Q59.7073 718.74 54.4874 714.666 Q49.2675 710.56 40.2919 710.56 Q31.2844 710.56 26.0645 714.666 Q20.8447 718.74 20.8447 725.742 M15.6248 725.742 Q15.6248 715.748 22.3406 709.764 Q29.0246 703.781 40.2919 703.781 Q51.5274 703.781 58.2432 709.764 Q64.9272 715.748 64.9272 725.742 Q64.9272 735.768 58.2432 741.784 Q51.5592 747.768 40.2919 747.768 Q29.0246 747.768 22.3406 741.784 Q15.6248 735.768 15.6248 725.742 Z\" fill=\"#000000\" fill-rule=\"evenodd\" fill-opacity=\"1\" /><path clip-path=\"url(#clip940)\" d=\"M20.1444 658.139 L26.9239 658.139 Q23.9002 661.385 22.4043 665.077 Q20.9083 668.737 20.9083 672.875 Q20.9083 681.023 25.9054 685.352 Q30.8707 689.681 40.2919 689.681 Q49.6813 689.681 54.6784 685.352 Q59.6436 681.023 59.6436 672.875 Q59.6436 668.737 58.1477 665.077 Q56.6518 661.385 53.6281 658.139 L60.3439 658.139 Q62.6355 661.512 63.7814 665.3 Q64.9272 669.056 64.9272 673.257 Q64.9272 684.047 58.3387 690.254 Q51.7183 696.46 40.2919 696.46 Q28.8336 696.46 22.2451 690.254 Q15.6248 684.047 15.6248 673.257 Q15.6248 668.992 16.7706 665.236 Q17.8846 661.449 20.1444 658.139 Z\" fill=\"#000000\" fill-rule=\"evenodd\" fill-opacity=\"1\" /><path clip-path=\"url(#clip940)\" d=\"M446.721 16.7545 L446.721 25.383 Q442.589 21.5346 437.89 19.6307 Q433.231 17.7268 427.965 17.7268 Q417.595 17.7268 412.085 24.0867 Q406.576 30.4061 406.576 42.3968 Q406.576 54.3469 412.085 60.7069 Q417.595 67.0263 427.965 67.0263 Q433.231 67.0263 437.89 65.1223 Q442.589 63.2184 446.721 59.3701 L446.721 67.9175 Q442.427 70.8341 437.606 72.2924 Q432.826 73.7508 427.479 73.7508 Q413.746 73.7508 405.847 65.3654 Q397.948 56.9395 397.948 42.3968 Q397.948 27.8135 405.847 19.4281 Q413.746 11.0023 427.479 11.0023 Q432.907 11.0023 437.687 12.4606 Q442.508 13.8784 446.721 16.7545 Z\" fill=\"#000000\" fill-rule=\"evenodd\" fill-opacity=\"1\" /><path clip-path=\"url(#clip940)\" d=\"M479.655 49.7694 Q470.621 49.7694 467.137 51.8354 Q463.653 53.9013 463.653 58.8839 Q463.653 62.8538 466.246 65.2034 Q468.879 67.5124 473.376 67.5124 Q479.574 67.5124 483.3 63.1374 Q487.068 58.7219 487.068 51.4303 L487.068 49.7694 L479.655 49.7694 M494.521 46.6907 L494.521 72.576 L487.068 72.576 L487.068 65.6895 Q484.516 69.8214 480.708 71.8063 Q476.9 73.7508 471.391 73.7508 Q464.423 73.7508 460.291 69.8619 Q456.2 65.9325 456.2 59.3701 Q456.2 51.7138 461.304 47.825 Q466.449 43.9361 476.616 43.9361 L487.068 43.9361 L487.068 43.2069 Q487.068 38.0623 483.665 35.2672 Q480.303 32.4315 474.186 32.4315 Q470.297 32.4315 466.611 33.3632 Q462.924 34.295 459.522 36.1584 L459.522 29.2718 Q463.613 27.692 467.461 26.9223 Q471.31 26.1121 474.955 26.1121 Q484.799 26.1121 489.66 31.2163 Q494.521 36.3204 494.521 46.6907 Z\" fill=\"#000000\" fill-rule=\"evenodd\" fill-opacity=\"1\" /><path clip-path=\"url(#clip940)\" d=\"M509.105 54.671 L509.105 27.2059 L516.558 27.2059 L516.558 54.3874 Q516.558 60.8284 519.07 64.0691 Q521.581 67.2693 526.605 67.2693 Q532.64 67.2693 536.124 63.421 Q539.648 59.5726 539.648 52.9291 L539.648 27.2059 L547.102 27.2059 L547.102 72.576 L539.648 72.576 L539.648 65.6084 Q536.934 69.7404 533.329 71.7658 Q529.764 73.7508 525.025 73.7508 Q517.206 73.7508 513.156 68.8897 Q509.105 64.0286 509.105 54.671 M527.86 26.1121 L527.86 26.1121 Z\" fill=\"#000000\" fill-rule=\"evenodd\" fill-opacity=\"1\" /><path clip-path=\"url(#clip940)\" d=\"M591.378 28.5427 L591.378 35.5912 Q588.219 33.9709 584.816 33.1607 Q581.413 32.3505 577.767 32.3505 Q572.218 32.3505 569.423 34.0519 Q566.668 35.7533 566.668 39.156 Q566.668 41.7486 568.653 43.2475 Q570.638 44.7058 576.633 46.0426 L579.185 46.6097 Q587.125 48.3111 590.447 51.4303 Q593.809 54.509 593.809 60.0587 Q593.809 66.3781 588.786 70.0644 Q583.803 73.7508 575.053 73.7508 Q571.408 73.7508 567.438 73.0216 Q563.508 72.3329 559.133 70.9151 L559.133 63.2184 Q563.265 65.3654 567.276 66.4591 Q571.286 67.5124 575.215 67.5124 Q580.482 67.5124 583.317 65.73 Q586.153 63.9071 586.153 60.6258 Q586.153 57.5877 584.087 55.9673 Q582.061 54.3469 575.134 52.8481 L572.542 52.2405 Q565.615 50.7821 562.536 47.7845 Q559.457 44.7463 559.457 39.4801 Q559.457 33.0797 563.994 29.5959 Q568.531 26.1121 576.876 26.1121 Q581.008 26.1121 584.654 26.7198 Q588.3 27.3274 591.378 28.5427 Z\" fill=\"#000000\" fill-rule=\"evenodd\" fill-opacity=\"1\" /><path clip-path=\"url(#clip940)\" d=\"M626.297 49.7694 Q617.264 49.7694 613.78 51.8354 Q610.296 53.9013 610.296 58.8839 Q610.296 62.8538 612.889 65.2034 Q615.522 67.5124 620.018 67.5124 Q626.216 67.5124 629.943 63.1374 Q633.71 58.7219 633.71 51.4303 L633.71 49.7694 L626.297 49.7694 M641.164 46.6907 L641.164 72.576 L633.71 72.576 L633.71 65.6895 Q631.158 69.8214 627.35 71.8063 Q623.543 73.7508 618.033 73.7508 Q611.066 73.7508 606.934 69.8619 Q602.843 65.9325 602.843 59.3701 Q602.843 51.7138 607.947 47.825 Q613.091 43.9361 623.259 43.9361 L633.71 43.9361 L633.71 43.2069 Q633.71 38.0623 630.308 35.2672 Q626.945 32.4315 620.829 32.4315 Q616.94 32.4315 613.253 33.3632 Q609.567 34.295 606.164 36.1584 L606.164 29.2718 Q610.256 27.692 614.104 26.9223 Q617.952 26.1121 621.598 26.1121 Q631.442 26.1121 636.303 31.2163 Q641.164 36.3204 641.164 46.6907 Z\" fill=\"#000000\" fill-rule=\"evenodd\" fill-opacity=\"1\" /><path clip-path=\"url(#clip940)\" d=\"M656.517 9.54393 L663.971 9.54393 L663.971 72.576 L656.517 72.576 L656.517 9.54393 Z\" fill=\"#000000\" fill-rule=\"evenodd\" fill-opacity=\"1\" /><path clip-path=\"url(#clip940)\" d=\"M679.567 27.2059 L687.02 27.2059 L687.02 72.576 L679.567 72.576 L679.567 27.2059 M679.567 9.54393 L687.02 9.54393 L687.02 18.9825 L679.567 18.9825 L679.567 9.54393 Z\" fill=\"#000000\" fill-rule=\"evenodd\" fill-opacity=\"1\" /><path clip-path=\"url(#clip940)\" d=\"M709.989 14.324 L709.989 27.2059 L725.342 27.2059 L725.342 32.9987 L709.989 32.9987 L709.989 57.6282 Q709.989 63.1779 711.488 64.7578 Q713.027 66.3376 717.686 66.3376 L725.342 66.3376 L725.342 72.576 L717.686 72.576 Q709.057 72.576 705.776 69.3758 Q702.495 66.1351 702.495 57.6282 L702.495 32.9987 L697.026 32.9987 L697.026 27.2059 L702.495 27.2059 L702.495 14.324 L709.989 14.324 Z\" fill=\"#000000\" fill-rule=\"evenodd\" fill-opacity=\"1\" /><path clip-path=\"url(#clip940)\" d=\"M754.022 76.7889 Q750.863 84.8907 747.865 87.3618 Q744.867 89.8329 739.844 89.8329 L733.889 89.8329 L733.889 83.5945 L738.264 83.5945 Q741.343 83.5945 743.044 82.1361 Q744.746 80.6778 746.812 75.2496 L748.148 71.8468 L729.798 27.2059 L737.697 27.2059 L751.875 62.6918 L766.053 27.2059 L773.953 27.2059 L754.022 76.7889 Z\" fill=\"#000000\" fill-rule=\"evenodd\" fill-opacity=\"1\" /><path clip-path=\"url(#clip940)\" d=\"M826.533 72.576 L803.443 12.096 L811.991 12.096 L831.151 63.0159 L850.353 12.096 L858.86 12.096 L835.81 72.576 L826.533 72.576 Z\" fill=\"#000000\" fill-rule=\"evenodd\" fill-opacity=\"1\" /><path clip-path=\"url(#clip940)\" d=\"M903.946 14.0809 L903.946 22.0612 Q899.288 19.8332 895.156 18.7395 Q891.024 17.6457 887.175 17.6457 Q880.492 17.6457 876.846 20.2383 Q873.24 22.8309 873.24 27.611 Q873.24 31.6214 875.63 33.6873 Q878.061 35.7128 884.785 36.9686 L889.728 37.9813 Q898.883 39.7232 903.217 44.1387 Q907.592 48.5136 907.592 55.8863 Q907.592 64.6767 901.678 69.2137 Q895.804 73.7508 884.421 73.7508 Q880.127 73.7508 875.266 72.7785 Q870.445 71.8063 865.26 69.9024 L865.26 61.4765 Q870.243 64.2716 875.023 65.6895 Q879.803 67.1073 884.421 67.1073 Q891.429 67.1073 895.237 64.3527 Q899.045 61.598 899.045 56.4939 Q899.045 52.0379 896.29 49.5264 Q893.576 47.0148 887.338 45.759 L882.355 44.7868 Q873.2 42.9639 869.108 39.075 Q865.017 35.1862 865.017 28.2591 Q865.017 20.2383 870.648 15.6203 Q876.319 11.0023 886.244 11.0023 Q890.497 11.0023 894.913 11.7719 Q899.328 12.5416 903.946 14.0809 Z\" fill=\"#000000\" fill-rule=\"evenodd\" fill-opacity=\"1\" /><path clip-path=\"url(#clip940)\" d=\"M982.979 14.0809 L982.979 22.0612 Q978.321 19.8332 974.189 18.7395 Q970.057 17.6457 966.209 17.6457 Q959.525 17.6457 955.879 20.2383 Q952.274 22.8309 952.274 27.611 Q952.274 31.6214 954.664 33.6873 Q957.094 35.7128 963.819 36.9686 L968.761 37.9813 Q977.916 39.7232 982.25 44.1387 Q986.625 48.5136 986.625 55.8863 Q986.625 64.6767 980.711 69.2137 Q974.837 73.7508 963.454 73.7508 Q959.16 73.7508 954.299 72.7785 Q949.478 71.8063 944.293 69.9024 L944.293 61.4765 Q949.276 64.2716 954.056 65.6895 Q958.836 67.1073 963.454 67.1073 Q970.462 67.1073 974.27 64.3527 Q978.078 61.598 978.078 56.4939 Q978.078 52.0379 975.323 49.5264 Q972.609 47.0148 966.371 45.759 L961.388 44.7868 Q952.233 42.9639 948.142 39.075 Q944.05 35.1862 944.05 28.2591 Q944.05 20.2383 949.681 15.6203 Q955.352 11.0023 965.277 11.0023 Q969.53 11.0023 973.946 11.7719 Q978.361 12.5416 982.979 14.0809 Z\" fill=\"#000000\" fill-rule=\"evenodd\" fill-opacity=\"1\" /><path clip-path=\"url(#clip940)\" d=\"M999.061 27.2059 L1006.52 27.2059 L1006.52 72.576 L999.061 72.576 L999.061 27.2059 M999.061 9.54393 L1006.52 9.54393 L1006.52 18.9825 L999.061 18.9825 L999.061 9.54393 Z\" fill=\"#000000\" fill-rule=\"evenodd\" fill-opacity=\"1\" /><path clip-path=\"url(#clip940)\" d=\"M1054.68 49.9314 Q1054.68 41.7081 1051.28 37.0496 Q1047.92 32.3505 1042 32.3505 Q1036.09 32.3505 1032.68 37.0496 Q1029.32 41.7081 1029.32 49.9314 Q1029.32 58.1548 1032.68 62.8538 Q1036.09 67.5124 1042 67.5124 Q1047.92 67.5124 1051.28 62.8538 Q1054.68 58.1548 1054.68 49.9314 M1029.32 34.0924 Q1031.67 30.0415 1035.24 28.0971 Q1038.84 26.1121 1043.82 26.1121 Q1052.09 26.1121 1057.23 32.6746 Q1062.42 39.2371 1062.42 49.9314 Q1062.42 60.6258 1057.23 67.1883 Q1052.09 73.7508 1043.82 73.7508 Q1038.84 73.7508 1035.24 71.8063 Q1031.67 69.8214 1029.32 65.7705 L1029.32 72.576 L1021.83 72.576 L1021.83 9.54393 L1029.32 9.54393 L1029.32 34.0924 Z\" fill=\"#000000\" fill-rule=\"evenodd\" fill-opacity=\"1\" /><path clip-path=\"url(#clip940)\" d=\"M1121.68 20.1573 L1110.58 50.2555 L1132.82 50.2555 L1121.68 20.1573 M1117.06 12.096 L1126.34 12.096 L1149.39 72.576 L1140.88 72.576 L1135.37 57.061 L1108.11 57.061 L1102.6 72.576 L1093.97 72.576 L1117.06 12.096 Z\" fill=\"#000000\" fill-rule=\"evenodd\" fill-opacity=\"1\" /><path clip-path=\"url(#clip940)\" d=\"M1157.29 12.096 L1165.51 12.096 L1165.51 48.8377 Q1165.51 58.5599 1169.04 62.8538 Q1172.56 67.1073 1180.46 67.1073 Q1188.32 67.1073 1191.84 62.8538 Q1195.37 58.5599 1195.37 48.8377 L1195.37 12.096 L1203.59 12.096 L1203.59 49.8504 Q1203.59 61.6791 1197.72 67.7149 Q1191.88 73.7508 1180.46 73.7508 Q1169 73.7508 1163.12 67.7149 Q1157.29 61.6791 1157.29 49.8504 L1157.29 12.096 Z\" fill=\"#000000\" fill-rule=\"evenodd\" fill-opacity=\"1\" /><path clip-path=\"url(#clip940)\" d=\"M1247.62 44.2197 Q1250.26 45.1109 1252.73 48.0275 Q1255.24 50.9442 1257.75 56.0483 L1266.06 72.576 L1257.27 72.576 L1249.53 57.061 Q1246.53 50.9847 1243.7 48.9997 Q1240.9 47.0148 1236.04 47.0148 L1227.13 47.0148 L1227.13 72.576 L1218.94 72.576 L1218.94 12.096 L1237.42 12.096 Q1247.79 12.096 1252.89 16.4305 Q1258 20.7649 1258 29.5149 Q1258 35.2267 1255.32 38.994 Q1252.69 42.7613 1247.62 44.2197 M1227.13 18.8205 L1227.13 40.2903 L1237.42 40.2903 Q1243.33 40.2903 1246.33 37.5762 Q1249.37 34.8216 1249.37 29.5149 Q1249.37 24.2082 1246.33 21.5346 Q1243.33 18.8205 1237.42 18.8205 L1227.13 18.8205 Z\" fill=\"#000000\" fill-rule=\"evenodd\" fill-opacity=\"1\" /><path clip-path=\"url(#clip940)\" d=\"M1301.14 17.6457 Q1292.23 17.6457 1286.96 24.2892 Q1281.73 30.9327 1281.73 42.3968 Q1281.73 53.8203 1286.96 60.4638 Q1292.23 67.1073 1301.14 67.1073 Q1310.05 67.1073 1315.23 60.4638 Q1320.46 53.8203 1320.46 42.3968 Q1320.46 30.9327 1315.23 24.2892 Q1310.05 17.6457 1301.14 17.6457 M1301.14 11.0023 Q1313.86 11.0023 1321.47 19.5497 Q1329.09 28.0566 1329.09 42.3968 Q1329.09 56.6965 1321.47 65.2439 Q1313.86 73.7508 1301.14 73.7508 Q1288.38 73.7508 1280.72 65.2439 Q1273.11 56.737 1273.11 42.3968 Q1273.11 28.0566 1280.72 19.5497 Q1288.38 11.0023 1301.14 11.0023 Z\" fill=\"#000000\" fill-rule=\"evenodd\" fill-opacity=\"1\" /><path clip-path=\"url(#clip940)\" d=\"M1387.18 16.7545 L1387.18 25.383 Q1383.05 21.5346 1378.35 19.6307 Q1373.69 17.7268 1368.42 17.7268 Q1358.05 17.7268 1352.54 24.0867 Q1347.03 30.4061 1347.03 42.3968 Q1347.03 54.3469 1352.54 60.7069 Q1358.05 67.0263 1368.42 67.0263 Q1373.69 67.0263 1378.35 65.1223 Q1383.05 63.2184 1387.18 59.3701 L1387.18 67.9175 Q1382.88 70.8341 1378.06 72.2924 Q1373.28 73.7508 1367.94 73.7508 Q1354.2 73.7508 1346.3 65.3654 Q1338.41 56.9395 1338.41 42.3968 Q1338.41 27.8135 1346.3 19.4281 Q1354.2 11.0023 1367.94 11.0023 Q1373.37 11.0023 1378.15 12.4606 Q1382.97 13.8784 1387.18 16.7545 Z\" fill=\"#000000\" fill-rule=\"evenodd\" fill-opacity=\"1\" /><path clip-path=\"url(#clip940)\" d=\"M1425.86 27.2059 L1433.32 27.2059 L1433.32 72.576 L1425.86 72.576 L1425.86 27.2059 M1425.86 9.54393 L1433.32 9.54393 L1433.32 18.9825 L1425.86 18.9825 L1425.86 9.54393 Z\" fill=\"#000000\" fill-rule=\"evenodd\" fill-opacity=\"1\" /><path clip-path=\"url(#clip940)\" d=\"M1486.63 45.1919 L1486.63 72.576 L1479.17 72.576 L1479.17 45.4349 Q1479.17 38.994 1476.66 35.7938 Q1474.15 32.5936 1469.13 32.5936 Q1463.09 32.5936 1459.61 36.4419 Q1456.12 40.2903 1456.12 46.9338 L1456.12 72.576 L1448.63 72.576 L1448.63 27.2059 L1456.12 27.2059 L1456.12 34.2544 Q1458.8 30.163 1462.4 28.1376 Q1466.05 26.1121 1470.79 26.1121 Q1478.61 26.1121 1482.62 30.9732 Q1486.63 35.7938 1486.63 45.1919 Z\" fill=\"#000000\" fill-rule=\"evenodd\" fill-opacity=\"1\" /><path clip-path=\"url(#clip940)\" d=\"M1550.84 9.54393 L1550.84 15.7418 L1543.71 15.7418 Q1539.7 15.7418 1538.12 17.3622 Q1536.58 18.9825 1536.58 23.1955 L1536.58 27.2059 L1548.85 27.2059 L1548.85 32.9987 L1536.58 32.9987 L1536.58 72.576 L1529.08 72.576 L1529.08 32.9987 L1521.95 32.9987 L1521.95 27.2059 L1529.08 27.2059 L1529.08 24.0462 Q1529.08 16.471 1532.61 13.0277 Q1536.13 9.54393 1543.79 9.54393 L1550.84 9.54393 Z\" fill=\"#000000\" fill-rule=\"evenodd\" fill-opacity=\"1\" /><path clip-path=\"url(#clip940)\" d=\"M1556.3 54.671 L1556.3 27.2059 L1563.76 27.2059 L1563.76 54.3874 Q1563.76 60.8284 1566.27 64.0691 Q1568.78 67.2693 1573.8 67.2693 Q1579.84 67.2693 1583.32 63.421 Q1586.85 59.5726 1586.85 52.9291 L1586.85 27.2059 L1594.3 27.2059 L1594.3 72.576 L1586.85 72.576 L1586.85 65.6084 Q1584.13 69.7404 1580.53 71.7658 Q1576.96 73.7508 1572.22 73.7508 Q1564.41 73.7508 1560.35 68.8897 Q1556.3 64.0286 1556.3 54.671 M1575.06 26.1121 L1575.06 26.1121 Z\" fill=\"#000000\" fill-rule=\"evenodd\" fill-opacity=\"1\" /><path clip-path=\"url(#clip940)\" d=\"M1647.37 45.1919 L1647.37 72.576 L1639.91 72.576 L1639.91 45.4349 Q1639.91 38.994 1637.4 35.7938 Q1634.89 32.5936 1629.87 32.5936 Q1623.83 32.5936 1620.35 36.4419 Q1616.86 40.2903 1616.86 46.9338 L1616.86 72.576 L1609.37 72.576 L1609.37 27.2059 L1616.86 27.2059 L1616.86 34.2544 Q1619.54 30.163 1623.14 28.1376 Q1626.79 26.1121 1631.53 26.1121 Q1639.35 26.1121 1643.36 30.9732 Q1647.37 35.7938 1647.37 45.1919 Z\" fill=\"#000000\" fill-rule=\"evenodd\" fill-opacity=\"1\" /><path clip-path=\"url(#clip940)\" d=\"M1694.89 28.9478 L1694.89 35.9153 Q1691.73 34.1734 1688.53 33.3227 Q1685.37 32.4315 1682.12 32.4315 Q1674.87 32.4315 1670.86 37.0496 Q1666.85 41.6271 1666.85 49.9314 Q1666.85 58.2358 1670.86 62.8538 Q1674.87 67.4314 1682.12 67.4314 Q1685.37 67.4314 1688.53 66.5807 Q1691.73 65.6895 1694.89 63.9476 L1694.89 70.8341 Q1691.77 72.2924 1688.4 73.0216 Q1685.08 73.7508 1681.31 73.7508 Q1671.07 73.7508 1665.03 67.3098 Q1658.99 60.8689 1658.99 49.9314 Q1658.99 38.832 1665.07 32.472 Q1671.19 26.1121 1681.8 26.1121 Q1685.24 26.1121 1688.53 26.8413 Q1691.81 27.5299 1694.89 28.9478 Z\" fill=\"#000000\" fill-rule=\"evenodd\" fill-opacity=\"1\" /><path clip-path=\"url(#clip940)\" d=\"M1715.22 14.324 L1715.22 27.2059 L1730.57 27.2059 L1730.57 32.9987 L1715.22 32.9987 L1715.22 57.6282 Q1715.22 63.1779 1716.72 64.7578 Q1718.26 66.3376 1722.92 66.3376 L1730.57 66.3376 L1730.57 72.576 L1722.92 72.576 Q1714.29 72.576 1711.01 69.3758 Q1707.73 66.1351 1707.73 57.6282 L1707.73 32.9987 L1702.26 32.9987 L1702.26 27.2059 L1707.73 27.2059 L1707.73 14.324 L1715.22 14.324 Z\" fill=\"#000000\" fill-rule=\"evenodd\" fill-opacity=\"1\" /><path clip-path=\"url(#clip940)\" d=\"M1740.38 27.2059 L1747.83 27.2059 L1747.83 72.576 L1740.38 72.576 L1740.38 27.2059 M1740.38 9.54393 L1747.83 9.54393 L1747.83 18.9825 L1740.38 18.9825 L1740.38 9.54393 Z\" fill=\"#000000\" fill-rule=\"evenodd\" fill-opacity=\"1\" /><path clip-path=\"url(#clip940)\" d=\"M1781.01 32.4315 Q1775.01 32.4315 1771.53 37.1306 Q1768.04 41.7891 1768.04 49.9314 Q1768.04 58.0738 1771.49 62.7728 Q1774.97 67.4314 1781.01 67.4314 Q1786.96 67.4314 1790.45 62.7323 Q1793.93 58.0333 1793.93 49.9314 Q1793.93 41.8701 1790.45 37.1711 Q1786.96 32.4315 1781.01 32.4315 M1781.01 26.1121 Q1790.73 26.1121 1796.28 32.4315 Q1801.83 38.7509 1801.83 49.9314 Q1801.83 61.0714 1796.28 67.4314 Q1790.73 73.7508 1781.01 73.7508 Q1771.24 73.7508 1765.7 67.4314 Q1760.19 61.0714 1760.19 49.9314 Q1760.19 38.7509 1765.7 32.4315 Q1771.24 26.1121 1781.01 26.1121 Z\" fill=\"#000000\" fill-rule=\"evenodd\" fill-opacity=\"1\" /><path clip-path=\"url(#clip940)\" d=\"M1851.9 45.1919 L1851.9 72.576 L1844.44 72.576 L1844.44 45.4349 Q1844.44 38.994 1841.93 35.7938 Q1839.42 32.5936 1834.4 32.5936 Q1828.36 32.5936 1824.88 36.4419 Q1821.4 40.2903 1821.4 46.9338 L1821.4 72.576 L1813.9 72.576 L1813.9 27.2059 L1821.4 27.2059 L1821.4 34.2544 Q1824.07 30.163 1827.67 28.1376 Q1831.32 26.1121 1836.06 26.1121 Q1843.88 26.1121 1847.89 30.9732 Q1851.9 35.7938 1851.9 45.1919 Z\" fill=\"#000000\" fill-rule=\"evenodd\" fill-opacity=\"1\" /><path clip-path=\"url(#clip940)\" d=\"M1910.72 32.4315 Q1904.72 32.4315 1901.24 37.1306 Q1897.75 41.7891 1897.75 49.9314 Q1897.75 58.0738 1901.2 62.7728 Q1904.68 67.4314 1910.72 67.4314 Q1916.67 67.4314 1920.16 62.7323 Q1923.64 58.0333 1923.64 49.9314 Q1923.64 41.8701 1920.16 37.1711 Q1916.67 32.4315 1910.72 32.4315 M1910.72 26.1121 Q1920.44 26.1121 1925.99 32.4315 Q1931.54 38.7509 1931.54 49.9314 Q1931.54 61.0714 1925.99 67.4314 Q1920.44 73.7508 1910.72 73.7508 Q1900.95 73.7508 1895.41 67.4314 Q1889.9 61.0714 1889.9 49.9314 Q1889.9 38.7509 1895.41 32.4315 Q1900.95 26.1121 1910.72 26.1121 Z\" fill=\"#000000\" fill-rule=\"evenodd\" fill-opacity=\"1\" /><path clip-path=\"url(#clip940)\" d=\"M1966.86 9.54393 L1966.86 15.7418 L1959.73 15.7418 Q1955.72 15.7418 1954.14 17.3622 Q1952.6 18.9825 1952.6 23.1955 L1952.6 27.2059 L1964.88 27.2059 L1964.88 32.9987 L1952.6 32.9987 L1952.6 72.576 L1945.11 72.576 L1945.11 32.9987 L1937.98 32.9987 L1937.98 27.2059 L1945.11 27.2059 L1945.11 24.0462 Q1945.11 16.471 1948.63 13.0277 Q1952.16 9.54393 1959.81 9.54393 L1966.86 9.54393 Z\" fill=\"#000000\" fill-rule=\"evenodd\" fill-opacity=\"1\" /><path clip-path=\"url(#clip940)\" d=\"M2006.85 14.324 L2006.85 27.2059 L2022.2 27.2059 L2022.2 32.9987 L2006.85 32.9987 L2006.85 57.6282 Q2006.85 63.1779 2008.34 64.7578 Q2009.88 66.3376 2014.54 66.3376 L2022.2 66.3376 L2022.2 72.576 L2014.54 72.576 Q2005.91 72.576 2002.63 69.3758 Q1999.35 66.1351 1999.35 57.6282 L1999.35 32.9987 L1993.88 32.9987 L1993.88 27.2059 L1999.35 27.2059 L1999.35 14.324 L2006.85 14.324 Z\" fill=\"#000000\" fill-rule=\"evenodd\" fill-opacity=\"1\" /><path clip-path=\"url(#clip940)\" d=\"M2032 27.2059 L2039.46 27.2059 L2039.46 72.576 L2032 72.576 L2032 27.2059 M2032 9.54393 L2039.46 9.54393 L2039.46 18.9825 L2032 18.9825 L2032 9.54393 Z\" fill=\"#000000\" fill-rule=\"evenodd\" fill-opacity=\"1\" /><path clip-path=\"url(#clip940)\" d=\"M2090.38 35.9153 Q2093.17 30.8922 2097.06 28.5022 Q2100.95 26.1121 2106.21 26.1121 Q2113.3 26.1121 2117.15 31.0947 Q2121 36.0368 2121 45.1919 L2121 72.576 L2113.51 72.576 L2113.51 45.4349 Q2113.51 38.913 2111.2 35.7533 Q2108.89 32.5936 2104.15 32.5936 Q2098.36 32.5936 2094.99 36.4419 Q2091.63 40.2903 2091.63 46.9338 L2091.63 72.576 L2084.14 72.576 L2084.14 45.4349 Q2084.14 38.8725 2081.83 35.7533 Q2079.52 32.5936 2074.7 32.5936 Q2068.99 32.5936 2065.62 36.4824 Q2062.26 40.3308 2062.26 46.9338 L2062.26 72.576 L2054.77 72.576 L2054.77 27.2059 L2062.26 27.2059 L2062.26 34.2544 Q2064.81 30.082 2068.38 28.0971 Q2071.94 26.1121 2076.85 26.1121 Q2081.79 26.1121 2085.23 28.6237 Q2088.71 31.1352 2090.38 35.9153 Z\" fill=\"#000000\" fill-rule=\"evenodd\" fill-opacity=\"1\" /><path clip-path=\"url(#clip940)\" d=\"M2174.67 48.0275 L2174.67 51.6733 L2140.4 51.6733 Q2140.89 59.3701 2145.02 63.421 Q2149.19 67.4314 2156.61 67.4314 Q2160.9 67.4314 2164.91 66.3781 Q2168.96 65.3249 2172.93 63.2184 L2172.93 70.267 Q2168.92 71.9684 2164.71 72.8596 Q2160.5 73.7508 2156.16 73.7508 Q2145.31 73.7508 2138.95 67.4314 Q2132.63 61.1119 2132.63 50.3365 Q2132.63 39.1965 2138.62 32.6746 Q2144.66 26.1121 2154.87 26.1121 Q2164.02 26.1121 2169.33 32.0264 Q2174.67 37.9003 2174.67 48.0275 M2167.22 45.84 Q2167.14 39.7232 2163.78 36.0774 Q2160.46 32.4315 2154.95 32.4315 Q2148.71 32.4315 2144.94 35.9558 Q2141.21 39.4801 2140.65 45.8805 L2167.22 45.84 Z\" fill=\"#000000\" fill-rule=\"evenodd\" fill-opacity=\"1\" /><polyline clip-path=\"url(#clip942)\" style=\"stroke:#009af9; stroke-linecap:butt; stroke-linejoin:round; stroke-width:4; stroke-opacity:1; fill:none\" points=\"\n",
       "  280.231,1034.67 349.616,1002.69 419.001,486.755 488.386,503.076 557.77,582.249 627.155,400.893 696.54,352.773 765.925,251.037 835.31,257.487 904.695,245.379 \n",
       "  974.079,258.9 1043.46,261.443 1112.85,263.987 1182.23,258.9 1251.62,258.9 1321,258.9 1390.39,258.9 1459.77,258.9 1529.16,253.813 1598.54,256.356 \n",
       "  1667.93,256.356 1737.31,258.9 1806.7,256.356 1876.08,256.356 1945.47,256.356 2014.85,258.9 2084.24,258.9 2153.62,256.356 2223.01,256.356 2292.39,253.813 \n",
       "  \n",
       "  \"/>\n",
       "<circle clip-path=\"url(#clip942)\" cx=\"280.231\" cy=\"1290.47\" r=\"14\" fill=\"#e26f46\" fill-rule=\"evenodd\" fill-opacity=\"1\" stroke=\"#000000\" stroke-opacity=\"1\" stroke-width=\"3.2\"/>\n",
       "<circle clip-path=\"url(#clip942)\" cx=\"349.616\" cy=\"1258.49\" r=\"14\" fill=\"#e26f46\" fill-rule=\"evenodd\" fill-opacity=\"1\" stroke=\"#000000\" stroke-opacity=\"1\" stroke-width=\"3.2\"/>\n",
       "<circle clip-path=\"url(#clip942)\" cx=\"419.001\" cy=\"568.359\" r=\"14\" fill=\"#e26f46\" fill-rule=\"evenodd\" fill-opacity=\"1\" stroke=\"#000000\" stroke-opacity=\"1\" stroke-width=\"3.2\"/>\n",
       "<circle clip-path=\"url(#clip942)\" cx=\"488.386\" cy=\"601\" r=\"14\" fill=\"#e26f46\" fill-rule=\"evenodd\" fill-opacity=\"1\" stroke=\"#000000\" stroke-opacity=\"1\" stroke-width=\"3.2\"/>\n",
       "<circle clip-path=\"url(#clip942)\" cx=\"557.77\" cy=\"804.489\" r=\"14\" fill=\"#e26f46\" fill-rule=\"evenodd\" fill-opacity=\"1\" stroke=\"#000000\" stroke-opacity=\"1\" stroke-width=\"3.2\"/>\n",
       "<circle clip-path=\"url(#clip942)\" cx=\"627.155\" cy=\"537.136\" r=\"14\" fill=\"#e26f46\" fill-rule=\"evenodd\" fill-opacity=\"1\" stroke=\"#000000\" stroke-opacity=\"1\" stroke-width=\"3.2\"/>\n",
       "<circle clip-path=\"url(#clip942)\" cx=\"696.54\" cy=\"482.905\" r=\"14\" fill=\"#e26f46\" fill-rule=\"evenodd\" fill-opacity=\"1\" stroke=\"#000000\" stroke-opacity=\"1\" stroke-width=\"3.2\"/>\n",
       "<circle clip-path=\"url(#clip942)\" cx=\"765.925\" cy=\"446.479\" r=\"14\" fill=\"#e26f46\" fill-rule=\"evenodd\" fill-opacity=\"1\" stroke=\"#000000\" stroke-opacity=\"1\" stroke-width=\"3.2\"/>\n",
       "<circle clip-path=\"url(#clip942)\" cx=\"835.31\" cy=\"397.379\" r=\"14\" fill=\"#e26f46\" fill-rule=\"evenodd\" fill-opacity=\"1\" stroke=\"#000000\" stroke-opacity=\"1\" stroke-width=\"3.2\"/>\n",
       "<circle clip-path=\"url(#clip942)\" cx=\"904.695\" cy=\"306.561\" r=\"14\" fill=\"#e26f46\" fill-rule=\"evenodd\" fill-opacity=\"1\" stroke=\"#000000\" stroke-opacity=\"1\" stroke-width=\"3.2\"/>\n",
       "<circle clip-path=\"url(#clip942)\" cx=\"974.079\" cy=\"398.792\" r=\"14\" fill=\"#e26f46\" fill-rule=\"evenodd\" fill-opacity=\"1\" stroke=\"#000000\" stroke-opacity=\"1\" stroke-width=\"3.2\"/>\n",
       "<circle clip-path=\"url(#clip942)\" cx=\"1043.46\" cy=\"378.444\" r=\"14\" fill=\"#e26f46\" fill-rule=\"evenodd\" fill-opacity=\"1\" stroke=\"#000000\" stroke-opacity=\"1\" stroke-width=\"3.2\"/>\n",
       "<circle clip-path=\"url(#clip942)\" cx=\"1112.85\" cy=\"375.901\" r=\"14\" fill=\"#e26f46\" fill-rule=\"evenodd\" fill-opacity=\"1\" stroke=\"#000000\" stroke-opacity=\"1\" stroke-width=\"3.2\"/>\n",
       "<circle clip-path=\"url(#clip942)\" cx=\"1182.23\" cy=\"365.727\" r=\"14\" fill=\"#e26f46\" fill-rule=\"evenodd\" fill-opacity=\"1\" stroke=\"#000000\" stroke-opacity=\"1\" stroke-width=\"3.2\"/>\n",
       "<circle clip-path=\"url(#clip942)\" cx=\"1251.62\" cy=\"373.357\" r=\"14\" fill=\"#e26f46\" fill-rule=\"evenodd\" fill-opacity=\"1\" stroke=\"#000000\" stroke-opacity=\"1\" stroke-width=\"3.2\"/>\n",
       "<circle clip-path=\"url(#clip942)\" cx=\"1321\" cy=\"386.075\" r=\"14\" fill=\"#e26f46\" fill-rule=\"evenodd\" fill-opacity=\"1\" stroke=\"#000000\" stroke-opacity=\"1\" stroke-width=\"3.2\"/>\n",
       "<circle clip-path=\"url(#clip942)\" cx=\"1390.39\" cy=\"386.075\" r=\"14\" fill=\"#e26f46\" fill-rule=\"evenodd\" fill-opacity=\"1\" stroke=\"#000000\" stroke-opacity=\"1\" stroke-width=\"3.2\"/>\n",
       "<circle clip-path=\"url(#clip942)\" cx=\"1459.77\" cy=\"383.531\" r=\"14\" fill=\"#e26f46\" fill-rule=\"evenodd\" fill-opacity=\"1\" stroke=\"#000000\" stroke-opacity=\"1\" stroke-width=\"3.2\"/>\n",
       "<circle clip-path=\"url(#clip942)\" cx=\"1529.16\" cy=\"383.531\" r=\"14\" fill=\"#e26f46\" fill-rule=\"evenodd\" fill-opacity=\"1\" stroke=\"#000000\" stroke-opacity=\"1\" stroke-width=\"3.2\"/>\n",
       "<circle clip-path=\"url(#clip942)\" cx=\"1598.54\" cy=\"386.075\" r=\"14\" fill=\"#e26f46\" fill-rule=\"evenodd\" fill-opacity=\"1\" stroke=\"#000000\" stroke-opacity=\"1\" stroke-width=\"3.2\"/>\n",
       "<circle clip-path=\"url(#clip942)\" cx=\"1667.93\" cy=\"386.075\" r=\"14\" fill=\"#e26f46\" fill-rule=\"evenodd\" fill-opacity=\"1\" stroke=\"#000000\" stroke-opacity=\"1\" stroke-width=\"3.2\"/>\n",
       "<circle clip-path=\"url(#clip942)\" cx=\"1737.31\" cy=\"386.075\" r=\"14\" fill=\"#e26f46\" fill-rule=\"evenodd\" fill-opacity=\"1\" stroke=\"#000000\" stroke-opacity=\"1\" stroke-width=\"3.2\"/>\n",
       "<circle clip-path=\"url(#clip942)\" cx=\"1806.7\" cy=\"386.075\" r=\"14\" fill=\"#e26f46\" fill-rule=\"evenodd\" fill-opacity=\"1\" stroke=\"#000000\" stroke-opacity=\"1\" stroke-width=\"3.2\"/>\n",
       "<circle clip-path=\"url(#clip942)\" cx=\"1876.08\" cy=\"386.075\" r=\"14\" fill=\"#e26f46\" fill-rule=\"evenodd\" fill-opacity=\"1\" stroke=\"#000000\" stroke-opacity=\"1\" stroke-width=\"3.2\"/>\n",
       "<circle clip-path=\"url(#clip942)\" cx=\"1945.47\" cy=\"386.075\" r=\"14\" fill=\"#e26f46\" fill-rule=\"evenodd\" fill-opacity=\"1\" stroke=\"#000000\" stroke-opacity=\"1\" stroke-width=\"3.2\"/>\n",
       "<circle clip-path=\"url(#clip942)\" cx=\"2014.85\" cy=\"386.075\" r=\"14\" fill=\"#e26f46\" fill-rule=\"evenodd\" fill-opacity=\"1\" stroke=\"#000000\" stroke-opacity=\"1\" stroke-width=\"3.2\"/>\n",
       "<circle clip-path=\"url(#clip942)\" cx=\"2084.24\" cy=\"386.075\" r=\"14\" fill=\"#e26f46\" fill-rule=\"evenodd\" fill-opacity=\"1\" stroke=\"#000000\" stroke-opacity=\"1\" stroke-width=\"3.2\"/>\n",
       "<circle clip-path=\"url(#clip942)\" cx=\"2153.62\" cy=\"386.075\" r=\"14\" fill=\"#e26f46\" fill-rule=\"evenodd\" fill-opacity=\"1\" stroke=\"#000000\" stroke-opacity=\"1\" stroke-width=\"3.2\"/>\n",
       "<circle clip-path=\"url(#clip942)\" cx=\"2223.01\" cy=\"386.075\" r=\"14\" fill=\"#e26f46\" fill-rule=\"evenodd\" fill-opacity=\"1\" stroke=\"#000000\" stroke-opacity=\"1\" stroke-width=\"3.2\"/>\n",
       "<circle clip-path=\"url(#clip942)\" cx=\"2292.39\" cy=\"386.075\" r=\"14\" fill=\"#e26f46\" fill-rule=\"evenodd\" fill-opacity=\"1\" stroke=\"#000000\" stroke-opacity=\"1\" stroke-width=\"3.2\"/>\n",
       "<circle clip-path=\"url(#clip942)\" cx=\"280.231\" cy=\"1354.42\" r=\"14\" fill=\"#3da44d\" fill-rule=\"evenodd\" fill-opacity=\"1\" stroke=\"#000000\" stroke-opacity=\"1\" stroke-width=\"3.2\"/>\n",
       "<circle clip-path=\"url(#clip942)\" cx=\"349.616\" cy=\"1386.4\" r=\"14\" fill=\"#3da44d\" fill-rule=\"evenodd\" fill-opacity=\"1\" stroke=\"#000000\" stroke-opacity=\"1\" stroke-width=\"3.2\"/>\n",
       "<circle clip-path=\"url(#clip942)\" cx=\"419.001\" cy=\"633.642\" r=\"14\" fill=\"#3da44d\" fill-rule=\"evenodd\" fill-opacity=\"1\" stroke=\"#000000\" stroke-opacity=\"1\" stroke-width=\"3.2\"/>\n",
       "<circle clip-path=\"url(#clip942)\" cx=\"488.386\" cy=\"535.717\" r=\"14\" fill=\"#3da44d\" fill-rule=\"evenodd\" fill-opacity=\"1\" stroke=\"#000000\" stroke-opacity=\"1\" stroke-width=\"3.2\"/>\n",
       "<circle clip-path=\"url(#clip942)\" cx=\"557.77\" cy=\"582.249\" r=\"14\" fill=\"#3da44d\" fill-rule=\"evenodd\" fill-opacity=\"1\" stroke=\"#000000\" stroke-opacity=\"1\" stroke-width=\"3.2\"/>\n",
       "<circle clip-path=\"url(#clip942)\" cx=\"627.155\" cy=\"400.893\" r=\"14\" fill=\"#3da44d\" fill-rule=\"evenodd\" fill-opacity=\"1\" stroke=\"#000000\" stroke-opacity=\"1\" stroke-width=\"3.2\"/>\n",
       "<circle clip-path=\"url(#clip942)\" cx=\"696.54\" cy=\"399.62\" r=\"14\" fill=\"#3da44d\" fill-rule=\"evenodd\" fill-opacity=\"1\" stroke=\"#000000\" stroke-opacity=\"1\" stroke-width=\"3.2\"/>\n",
       "<circle clip-path=\"url(#clip942)\" cx=\"765.925\" cy=\"332.471\" r=\"14\" fill=\"#3da44d\" fill-rule=\"evenodd\" fill-opacity=\"1\" stroke=\"#000000\" stroke-opacity=\"1\" stroke-width=\"3.2\"/>\n",
       "<circle clip-path=\"url(#clip942)\" cx=\"835.31\" cy=\"301.009\" r=\"14\" fill=\"#3da44d\" fill-rule=\"evenodd\" fill-opacity=\"1\" stroke=\"#000000\" stroke-opacity=\"1\" stroke-width=\"3.2\"/>\n",
       "<circle clip-path=\"url(#clip942)\" cx=\"904.695\" cy=\"237.399\" r=\"14\" fill=\"#3da44d\" fill-rule=\"evenodd\" fill-opacity=\"1\" stroke=\"#000000\" stroke-opacity=\"1\" stroke-width=\"3.2\"/>\n",
       "<circle clip-path=\"url(#clip942)\" cx=\"974.079\" cy=\"274.161\" r=\"14\" fill=\"#3da44d\" fill-rule=\"evenodd\" fill-opacity=\"1\" stroke=\"#000000\" stroke-opacity=\"1\" stroke-width=\"3.2\"/>\n",
       "<circle clip-path=\"url(#clip942)\" cx=\"1043.46\" cy=\"279.248\" r=\"14\" fill=\"#3da44d\" fill-rule=\"evenodd\" fill-opacity=\"1\" stroke=\"#000000\" stroke-opacity=\"1\" stroke-width=\"3.2\"/>\n",
       "<circle clip-path=\"url(#clip942)\" cx=\"1112.85\" cy=\"276.704\" r=\"14\" fill=\"#3da44d\" fill-rule=\"evenodd\" fill-opacity=\"1\" stroke=\"#000000\" stroke-opacity=\"1\" stroke-width=\"3.2\"/>\n",
       "<circle clip-path=\"url(#clip942)\" cx=\"1182.23\" cy=\"276.704\" r=\"14\" fill=\"#3da44d\" fill-rule=\"evenodd\" fill-opacity=\"1\" stroke=\"#000000\" stroke-opacity=\"1\" stroke-width=\"3.2\"/>\n",
       "<circle clip-path=\"url(#clip942)\" cx=\"1251.62\" cy=\"276.704\" r=\"14\" fill=\"#3da44d\" fill-rule=\"evenodd\" fill-opacity=\"1\" stroke=\"#000000\" stroke-opacity=\"1\" stroke-width=\"3.2\"/>\n",
       "<circle clip-path=\"url(#clip942)\" cx=\"1321\" cy=\"279.248\" r=\"14\" fill=\"#3da44d\" fill-rule=\"evenodd\" fill-opacity=\"1\" stroke=\"#000000\" stroke-opacity=\"1\" stroke-width=\"3.2\"/>\n",
       "<circle clip-path=\"url(#clip942)\" cx=\"1390.39\" cy=\"271.617\" r=\"14\" fill=\"#3da44d\" fill-rule=\"evenodd\" fill-opacity=\"1\" stroke=\"#000000\" stroke-opacity=\"1\" stroke-width=\"3.2\"/>\n",
       "<circle clip-path=\"url(#clip942)\" cx=\"1459.77\" cy=\"266.53\" r=\"14\" fill=\"#3da44d\" fill-rule=\"evenodd\" fill-opacity=\"1\" stroke=\"#000000\" stroke-opacity=\"1\" stroke-width=\"3.2\"/>\n",
       "<circle clip-path=\"url(#clip942)\" cx=\"1529.16\" cy=\"238.552\" r=\"14\" fill=\"#3da44d\" fill-rule=\"evenodd\" fill-opacity=\"1\" stroke=\"#000000\" stroke-opacity=\"1\" stroke-width=\"3.2\"/>\n",
       "<circle clip-path=\"url(#clip942)\" cx=\"1598.54\" cy=\"243.639\" r=\"14\" fill=\"#3da44d\" fill-rule=\"evenodd\" fill-opacity=\"1\" stroke=\"#000000\" stroke-opacity=\"1\" stroke-width=\"3.2\"/>\n",
       "<circle clip-path=\"url(#clip942)\" cx=\"1667.93\" cy=\"241.095\" r=\"14\" fill=\"#3da44d\" fill-rule=\"evenodd\" fill-opacity=\"1\" stroke=\"#000000\" stroke-opacity=\"1\" stroke-width=\"3.2\"/>\n",
       "<circle clip-path=\"url(#clip942)\" cx=\"1737.31\" cy=\"256.356\" r=\"14\" fill=\"#3da44d\" fill-rule=\"evenodd\" fill-opacity=\"1\" stroke=\"#000000\" stroke-opacity=\"1\" stroke-width=\"3.2\"/>\n",
       "<circle clip-path=\"url(#clip942)\" cx=\"1806.7\" cy=\"236.008\" r=\"14\" fill=\"#3da44d\" fill-rule=\"evenodd\" fill-opacity=\"1\" stroke=\"#000000\" stroke-opacity=\"1\" stroke-width=\"3.2\"/>\n",
       "<circle clip-path=\"url(#clip942)\" cx=\"1876.08\" cy=\"215.66\" r=\"14\" fill=\"#3da44d\" fill-rule=\"evenodd\" fill-opacity=\"1\" stroke=\"#000000\" stroke-opacity=\"1\" stroke-width=\"3.2\"/>\n",
       "<circle clip-path=\"url(#clip942)\" cx=\"1945.47\" cy=\"213.117\" r=\"14\" fill=\"#3da44d\" fill-rule=\"evenodd\" fill-opacity=\"1\" stroke=\"#000000\" stroke-opacity=\"1\" stroke-width=\"3.2\"/>\n",
       "<circle clip-path=\"url(#clip942)\" cx=\"2014.85\" cy=\"197.856\" r=\"14\" fill=\"#3da44d\" fill-rule=\"evenodd\" fill-opacity=\"1\" stroke=\"#000000\" stroke-opacity=\"1\" stroke-width=\"3.2\"/>\n",
       "<circle clip-path=\"url(#clip942)\" cx=\"2084.24\" cy=\"202.943\" r=\"14\" fill=\"#3da44d\" fill-rule=\"evenodd\" fill-opacity=\"1\" stroke=\"#000000\" stroke-opacity=\"1\" stroke-width=\"3.2\"/>\n",
       "<circle clip-path=\"url(#clip942)\" cx=\"2153.62\" cy=\"202.943\" r=\"14\" fill=\"#3da44d\" fill-rule=\"evenodd\" fill-opacity=\"1\" stroke=\"#000000\" stroke-opacity=\"1\" stroke-width=\"3.2\"/>\n",
       "<circle clip-path=\"url(#clip942)\" cx=\"2223.01\" cy=\"202.943\" r=\"14\" fill=\"#3da44d\" fill-rule=\"evenodd\" fill-opacity=\"1\" stroke=\"#000000\" stroke-opacity=\"1\" stroke-width=\"3.2\"/>\n",
       "<circle clip-path=\"url(#clip942)\" cx=\"2292.39\" cy=\"202.943\" r=\"14\" fill=\"#3da44d\" fill-rule=\"evenodd\" fill-opacity=\"1\" stroke=\"#000000\" stroke-opacity=\"1\" stroke-width=\"3.2\"/>\n",
       "<circle clip-path=\"url(#clip942)\" cx=\"280.231\" cy=\"842.814\" r=\"14\" fill=\"#c271d2\" fill-rule=\"evenodd\" fill-opacity=\"1\" stroke=\"#000000\" stroke-opacity=\"1\" stroke-width=\"3.2\"/>\n",
       "<circle clip-path=\"url(#clip942)\" cx=\"349.616\" cy=\"1098.62\" r=\"14\" fill=\"#c271d2\" fill-rule=\"evenodd\" fill-opacity=\"1\" stroke=\"#000000\" stroke-opacity=\"1\" stroke-width=\"3.2\"/>\n",
       "<circle clip-path=\"url(#clip942)\" cx=\"419.001\" cy=\"731.566\" r=\"14\" fill=\"#c271d2\" fill-rule=\"evenodd\" fill-opacity=\"1\" stroke=\"#000000\" stroke-opacity=\"1\" stroke-width=\"3.2\"/>\n",
       "<circle clip-path=\"url(#clip942)\" cx=\"488.386\" cy=\"682.604\" r=\"14\" fill=\"#c271d2\" fill-rule=\"evenodd\" fill-opacity=\"1\" stroke=\"#000000\" stroke-opacity=\"1\" stroke-width=\"3.2\"/>\n",
       "<circle clip-path=\"url(#clip942)\" cx=\"557.77\" cy=\"737.817\" r=\"14\" fill=\"#c271d2\" fill-rule=\"evenodd\" fill-opacity=\"1\" stroke=\"#000000\" stroke-opacity=\"1\" stroke-width=\"3.2\"/>\n",
       "<circle clip-path=\"url(#clip942)\" cx=\"627.155\" cy=\"503.076\" r=\"14\" fill=\"#c271d2\" fill-rule=\"evenodd\" fill-opacity=\"1\" stroke=\"#000000\" stroke-opacity=\"1\" stroke-width=\"3.2\"/>\n",
       "<circle clip-path=\"url(#clip942)\" cx=\"696.54\" cy=\"477.7\" r=\"14\" fill=\"#c271d2\" fill-rule=\"evenodd\" fill-opacity=\"1\" stroke=\"#000000\" stroke-opacity=\"1\" stroke-width=\"3.2\"/>\n",
       "<circle clip-path=\"url(#clip942)\" cx=\"765.925\" cy=\"446.479\" r=\"14\" fill=\"#c271d2\" fill-rule=\"evenodd\" fill-opacity=\"1\" stroke=\"#000000\" stroke-opacity=\"1\" stroke-width=\"3.2\"/>\n",
       "<circle clip-path=\"url(#clip942)\" cx=\"835.31\" cy=\"341.422\" r=\"14\" fill=\"#c271d2\" fill-rule=\"evenodd\" fill-opacity=\"1\" stroke=\"#000000\" stroke-opacity=\"1\" stroke-width=\"3.2\"/>\n",
       "<circle clip-path=\"url(#clip942)\" cx=\"904.695\" cy=\"349.123\" r=\"14\" fill=\"#c271d2\" fill-rule=\"evenodd\" fill-opacity=\"1\" stroke=\"#000000\" stroke-opacity=\"1\" stroke-width=\"3.2\"/>\n",
       "<circle clip-path=\"url(#clip942)\" cx=\"974.079\" cy=\"332.661\" r=\"14\" fill=\"#c271d2\" fill-rule=\"evenodd\" fill-opacity=\"1\" stroke=\"#000000\" stroke-opacity=\"1\" stroke-width=\"3.2\"/>\n",
       "<circle clip-path=\"url(#clip942)\" cx=\"1043.46\" cy=\"312.313\" r=\"14\" fill=\"#c271d2\" fill-rule=\"evenodd\" fill-opacity=\"1\" stroke=\"#000000\" stroke-opacity=\"1\" stroke-width=\"3.2\"/>\n",
       "<circle clip-path=\"url(#clip942)\" cx=\"1112.85\" cy=\"261.443\" r=\"14\" fill=\"#c271d2\" fill-rule=\"evenodd\" fill-opacity=\"1\" stroke=\"#000000\" stroke-opacity=\"1\" stroke-width=\"3.2\"/>\n",
       "<circle clip-path=\"url(#clip942)\" cx=\"1182.23\" cy=\"276.704\" r=\"14\" fill=\"#c271d2\" fill-rule=\"evenodd\" fill-opacity=\"1\" stroke=\"#000000\" stroke-opacity=\"1\" stroke-width=\"3.2\"/>\n",
       "<circle clip-path=\"url(#clip942)\" cx=\"1251.62\" cy=\"291.965\" r=\"14\" fill=\"#c271d2\" fill-rule=\"evenodd\" fill-opacity=\"1\" stroke=\"#000000\" stroke-opacity=\"1\" stroke-width=\"3.2\"/>\n",
       "<circle clip-path=\"url(#clip942)\" cx=\"1321\" cy=\"253.813\" r=\"14\" fill=\"#c271d2\" fill-rule=\"evenodd\" fill-opacity=\"1\" stroke=\"#000000\" stroke-opacity=\"1\" stroke-width=\"3.2\"/>\n",
       "<circle clip-path=\"url(#clip942)\" cx=\"1390.39\" cy=\"284.335\" r=\"14\" fill=\"#c271d2\" fill-rule=\"evenodd\" fill-opacity=\"1\" stroke=\"#000000\" stroke-opacity=\"1\" stroke-width=\"3.2\"/>\n",
       "<circle clip-path=\"url(#clip942)\" cx=\"1459.77\" cy=\"284.335\" r=\"14\" fill=\"#c271d2\" fill-rule=\"evenodd\" fill-opacity=\"1\" stroke=\"#000000\" stroke-opacity=\"1\" stroke-width=\"3.2\"/>\n",
       "<circle clip-path=\"url(#clip942)\" cx=\"1529.16\" cy=\"291.965\" r=\"14\" fill=\"#c271d2\" fill-rule=\"evenodd\" fill-opacity=\"1\" stroke=\"#000000\" stroke-opacity=\"1\" stroke-width=\"3.2\"/>\n",
       "<circle clip-path=\"url(#clip942)\" cx=\"1598.54\" cy=\"274.161\" r=\"14\" fill=\"#c271d2\" fill-rule=\"evenodd\" fill-opacity=\"1\" stroke=\"#000000\" stroke-opacity=\"1\" stroke-width=\"3.2\"/>\n",
       "<circle clip-path=\"url(#clip942)\" cx=\"1667.93\" cy=\"279.248\" r=\"14\" fill=\"#c271d2\" fill-rule=\"evenodd\" fill-opacity=\"1\" stroke=\"#000000\" stroke-opacity=\"1\" stroke-width=\"3.2\"/>\n",
       "<circle clip-path=\"url(#clip942)\" cx=\"1737.31\" cy=\"279.248\" r=\"14\" fill=\"#c271d2\" fill-rule=\"evenodd\" fill-opacity=\"1\" stroke=\"#000000\" stroke-opacity=\"1\" stroke-width=\"3.2\"/>\n",
       "<circle clip-path=\"url(#clip942)\" cx=\"1806.7\" cy=\"279.248\" r=\"14\" fill=\"#c271d2\" fill-rule=\"evenodd\" fill-opacity=\"1\" stroke=\"#000000\" stroke-opacity=\"1\" stroke-width=\"3.2\"/>\n",
       "<circle clip-path=\"url(#clip942)\" cx=\"1876.08\" cy=\"279.248\" r=\"14\" fill=\"#c271d2\" fill-rule=\"evenodd\" fill-opacity=\"1\" stroke=\"#000000\" stroke-opacity=\"1\" stroke-width=\"3.2\"/>\n",
       "<circle clip-path=\"url(#clip942)\" cx=\"1945.47\" cy=\"291.965\" r=\"14\" fill=\"#c271d2\" fill-rule=\"evenodd\" fill-opacity=\"1\" stroke=\"#000000\" stroke-opacity=\"1\" stroke-width=\"3.2\"/>\n",
       "<circle clip-path=\"url(#clip942)\" cx=\"2014.85\" cy=\"291.965\" r=\"14\" fill=\"#c271d2\" fill-rule=\"evenodd\" fill-opacity=\"1\" stroke=\"#000000\" stroke-opacity=\"1\" stroke-width=\"3.2\"/>\n",
       "<circle clip-path=\"url(#clip942)\" cx=\"2084.24\" cy=\"291.965\" r=\"14\" fill=\"#c271d2\" fill-rule=\"evenodd\" fill-opacity=\"1\" stroke=\"#000000\" stroke-opacity=\"1\" stroke-width=\"3.2\"/>\n",
       "<circle clip-path=\"url(#clip942)\" cx=\"2153.62\" cy=\"291.965\" r=\"14\" fill=\"#c271d2\" fill-rule=\"evenodd\" fill-opacity=\"1\" stroke=\"#000000\" stroke-opacity=\"1\" stroke-width=\"3.2\"/>\n",
       "<circle clip-path=\"url(#clip942)\" cx=\"2223.01\" cy=\"291.965\" r=\"14\" fill=\"#c271d2\" fill-rule=\"evenodd\" fill-opacity=\"1\" stroke=\"#000000\" stroke-opacity=\"1\" stroke-width=\"3.2\"/>\n",
       "<circle clip-path=\"url(#clip942)\" cx=\"2292.39\" cy=\"291.965\" r=\"14\" fill=\"#c271d2\" fill-rule=\"evenodd\" fill-opacity=\"1\" stroke=\"#000000\" stroke-opacity=\"1\" stroke-width=\"3.2\"/>\n",
       "<circle clip-path=\"url(#clip942)\" cx=\"280.231\" cy=\"810.839\" r=\"14\" fill=\"#ac8d18\" fill-rule=\"evenodd\" fill-opacity=\"1\" stroke=\"#000000\" stroke-opacity=\"1\" stroke-width=\"3.2\"/>\n",
       "<circle clip-path=\"url(#clip942)\" cx=\"349.616\" cy=\"746.888\" r=\"14\" fill=\"#ac8d18\" fill-rule=\"evenodd\" fill-opacity=\"1\" stroke=\"#000000\" stroke-opacity=\"1\" stroke-width=\"3.2\"/>\n",
       "<circle clip-path=\"url(#clip942)\" cx=\"419.001\" cy=\"339.868\" r=\"14\" fill=\"#ac8d18\" fill-rule=\"evenodd\" fill-opacity=\"1\" stroke=\"#000000\" stroke-opacity=\"1\" stroke-width=\"3.2\"/>\n",
       "<circle clip-path=\"url(#clip942)\" cx=\"488.386\" cy=\"339.868\" r=\"14\" fill=\"#ac8d18\" fill-rule=\"evenodd\" fill-opacity=\"1\" stroke=\"#000000\" stroke-opacity=\"1\" stroke-width=\"3.2\"/>\n",
       "<circle clip-path=\"url(#clip942)\" cx=\"557.77\" cy=\"482.241\" r=\"14\" fill=\"#ac8d18\" fill-rule=\"evenodd\" fill-opacity=\"1\" stroke=\"#000000\" stroke-opacity=\"1\" stroke-width=\"3.2\"/>\n",
       "<circle clip-path=\"url(#clip942)\" cx=\"627.155\" cy=\"324.257\" r=\"14\" fill=\"#ac8d18\" fill-rule=\"evenodd\" fill-opacity=\"1\" stroke=\"#000000\" stroke-opacity=\"1\" stroke-width=\"3.2\"/>\n",
       "<circle clip-path=\"url(#clip942)\" cx=\"696.54\" cy=\"300.72\" r=\"14\" fill=\"#ac8d18\" fill-rule=\"evenodd\" fill-opacity=\"1\" stroke=\"#000000\" stroke-opacity=\"1\" stroke-width=\"3.2\"/>\n",
       "<circle clip-path=\"url(#clip942)\" cx=\"765.925\" cy=\"247.779\" r=\"14\" fill=\"#ac8d18\" fill-rule=\"evenodd\" fill-opacity=\"1\" stroke=\"#000000\" stroke-opacity=\"1\" stroke-width=\"3.2\"/>\n",
       "<circle clip-path=\"url(#clip942)\" cx=\"835.31\" cy=\"226.4\" r=\"14\" fill=\"#ac8d18\" fill-rule=\"evenodd\" fill-opacity=\"1\" stroke=\"#000000\" stroke-opacity=\"1\" stroke-width=\"3.2\"/>\n",
       "<circle clip-path=\"url(#clip942)\" cx=\"904.695\" cy=\"160.256\" r=\"14\" fill=\"#ac8d18\" fill-rule=\"evenodd\" fill-opacity=\"1\" stroke=\"#000000\" stroke-opacity=\"1\" stroke-width=\"3.2\"/>\n",
       "<circle clip-path=\"url(#clip942)\" cx=\"974.079\" cy=\"208.03\" r=\"14\" fill=\"#ac8d18\" fill-rule=\"evenodd\" fill-opacity=\"1\" stroke=\"#000000\" stroke-opacity=\"1\" stroke-width=\"3.2\"/>\n",
       "<circle clip-path=\"url(#clip942)\" cx=\"1043.46\" cy=\"213.117\" r=\"14\" fill=\"#ac8d18\" fill-rule=\"evenodd\" fill-opacity=\"1\" stroke=\"#000000\" stroke-opacity=\"1\" stroke-width=\"3.2\"/>\n",
       "<circle clip-path=\"url(#clip942)\" cx=\"1112.85\" cy=\"208.03\" r=\"14\" fill=\"#ac8d18\" fill-rule=\"evenodd\" fill-opacity=\"1\" stroke=\"#000000\" stroke-opacity=\"1\" stroke-width=\"3.2\"/>\n",
       "<circle clip-path=\"url(#clip942)\" cx=\"1182.23\" cy=\"213.117\" r=\"14\" fill=\"#ac8d18\" fill-rule=\"evenodd\" fill-opacity=\"1\" stroke=\"#000000\" stroke-opacity=\"1\" stroke-width=\"3.2\"/>\n",
       "<circle clip-path=\"url(#clip942)\" cx=\"1251.62\" cy=\"210.573\" r=\"14\" fill=\"#ac8d18\" fill-rule=\"evenodd\" fill-opacity=\"1\" stroke=\"#000000\" stroke-opacity=\"1\" stroke-width=\"3.2\"/>\n",
       "<circle clip-path=\"url(#clip942)\" cx=\"1321\" cy=\"213.117\" r=\"14\" fill=\"#ac8d18\" fill-rule=\"evenodd\" fill-opacity=\"1\" stroke=\"#000000\" stroke-opacity=\"1\" stroke-width=\"3.2\"/>\n",
       "<circle clip-path=\"url(#clip942)\" cx=\"1390.39\" cy=\"218.204\" r=\"14\" fill=\"#ac8d18\" fill-rule=\"evenodd\" fill-opacity=\"1\" stroke=\"#000000\" stroke-opacity=\"1\" stroke-width=\"3.2\"/>\n",
       "<circle clip-path=\"url(#clip942)\" cx=\"1459.77\" cy=\"213.117\" r=\"14\" fill=\"#ac8d18\" fill-rule=\"evenodd\" fill-opacity=\"1\" stroke=\"#000000\" stroke-opacity=\"1\" stroke-width=\"3.2\"/>\n",
       "<circle clip-path=\"url(#clip942)\" cx=\"1529.16\" cy=\"208.03\" r=\"14\" fill=\"#ac8d18\" fill-rule=\"evenodd\" fill-opacity=\"1\" stroke=\"#000000\" stroke-opacity=\"1\" stroke-width=\"3.2\"/>\n",
       "<circle clip-path=\"url(#clip942)\" cx=\"1598.54\" cy=\"215.66\" r=\"14\" fill=\"#ac8d18\" fill-rule=\"evenodd\" fill-opacity=\"1\" stroke=\"#000000\" stroke-opacity=\"1\" stroke-width=\"3.2\"/>\n",
       "<circle clip-path=\"url(#clip942)\" cx=\"1667.93\" cy=\"230.921\" r=\"14\" fill=\"#ac8d18\" fill-rule=\"evenodd\" fill-opacity=\"1\" stroke=\"#000000\" stroke-opacity=\"1\" stroke-width=\"3.2\"/>\n",
       "<circle clip-path=\"url(#clip942)\" cx=\"1737.31\" cy=\"236.008\" r=\"14\" fill=\"#ac8d18\" fill-rule=\"evenodd\" fill-opacity=\"1\" stroke=\"#000000\" stroke-opacity=\"1\" stroke-width=\"3.2\"/>\n",
       "<circle clip-path=\"url(#clip942)\" cx=\"1806.7\" cy=\"243.639\" r=\"14\" fill=\"#ac8d18\" fill-rule=\"evenodd\" fill-opacity=\"1\" stroke=\"#000000\" stroke-opacity=\"1\" stroke-width=\"3.2\"/>\n",
       "<circle clip-path=\"url(#clip942)\" cx=\"1876.08\" cy=\"243.639\" r=\"14\" fill=\"#ac8d18\" fill-rule=\"evenodd\" fill-opacity=\"1\" stroke=\"#000000\" stroke-opacity=\"1\" stroke-width=\"3.2\"/>\n",
       "<circle clip-path=\"url(#clip942)\" cx=\"1945.47\" cy=\"243.639\" r=\"14\" fill=\"#ac8d18\" fill-rule=\"evenodd\" fill-opacity=\"1\" stroke=\"#000000\" stroke-opacity=\"1\" stroke-width=\"3.2\"/>\n",
       "<circle clip-path=\"url(#clip942)\" cx=\"2014.85\" cy=\"243.639\" r=\"14\" fill=\"#ac8d18\" fill-rule=\"evenodd\" fill-opacity=\"1\" stroke=\"#000000\" stroke-opacity=\"1\" stroke-width=\"3.2\"/>\n",
       "<circle clip-path=\"url(#clip942)\" cx=\"2084.24\" cy=\"243.639\" r=\"14\" fill=\"#ac8d18\" fill-rule=\"evenodd\" fill-opacity=\"1\" stroke=\"#000000\" stroke-opacity=\"1\" stroke-width=\"3.2\"/>\n",
       "<circle clip-path=\"url(#clip942)\" cx=\"2153.62\" cy=\"243.639\" r=\"14\" fill=\"#ac8d18\" fill-rule=\"evenodd\" fill-opacity=\"1\" stroke=\"#000000\" stroke-opacity=\"1\" stroke-width=\"3.2\"/>\n",
       "<circle clip-path=\"url(#clip942)\" cx=\"2223.01\" cy=\"243.639\" r=\"14\" fill=\"#ac8d18\" fill-rule=\"evenodd\" fill-opacity=\"1\" stroke=\"#000000\" stroke-opacity=\"1\" stroke-width=\"3.2\"/>\n",
       "<circle clip-path=\"url(#clip942)\" cx=\"2292.39\" cy=\"243.639\" r=\"14\" fill=\"#ac8d18\" fill-rule=\"evenodd\" fill-opacity=\"1\" stroke=\"#000000\" stroke-opacity=\"1\" stroke-width=\"3.2\"/>\n",
       "<path clip-path=\"url(#clip940)\" d=\"\n",
       "M290.963 1379.86 L748.273 1379.86 L748.273 1068.82 L290.963 1068.82  Z\n",
       "  \" fill=\"#ffffff\" fill-rule=\"evenodd\" fill-opacity=\"1\"/>\n",
       "<polyline clip-path=\"url(#clip940)\" style=\"stroke:#000000; stroke-linecap:butt; stroke-linejoin:round; stroke-width:4; stroke-opacity:1; fill:none\" points=\"\n",
       "  290.963,1379.86 748.273,1379.86 748.273,1068.82 290.963,1068.82 290.963,1379.86 \n",
       "  \"/>\n",
       "<polyline clip-path=\"url(#clip940)\" style=\"stroke:#009af9; stroke-linecap:butt; stroke-linejoin:round; stroke-width:4; stroke-opacity:1; fill:none\" points=\"\n",
       "  314.661,1120.66 456.854,1120.66 \n",
       "  \"/>\n",
       "<path clip-path=\"url(#clip940)\" d=\"M496.386 1107.98 L490.043 1125.18 L502.752 1125.18 L496.386 1107.98 M493.747 1103.38 L499.048 1103.38 L512.219 1137.94 L507.358 1137.94 L504.21 1129.07 L488.631 1129.07 L485.483 1137.94 L480.553 1137.94 L493.747 1103.38 Z\" fill=\"#000000\" fill-rule=\"evenodd\" fill-opacity=\"1\" /><path clip-path=\"url(#clip940)\" d=\"M516.733 1103.38 L521.432 1103.38 L521.432 1124.37 Q521.432 1129.93 523.446 1132.38 Q525.46 1134.81 529.974 1134.81 Q534.465 1134.81 536.478 1132.38 Q538.492 1129.93 538.492 1124.37 L538.492 1103.38 L543.191 1103.38 L543.191 1124.95 Q543.191 1131.71 539.835 1135.16 Q536.502 1138.61 529.974 1138.61 Q523.423 1138.61 520.066 1135.16 Q516.733 1131.71 516.733 1124.95 L516.733 1103.38 Z\" fill=\"#000000\" fill-rule=\"evenodd\" fill-opacity=\"1\" /><path clip-path=\"url(#clip940)\" d=\"M577.844 1106.04 L577.844 1110.97 Q575.483 1108.77 572.798 1107.68 Q570.136 1106.59 567.126 1106.59 Q561.2 1106.59 558.052 1110.23 Q554.904 1113.84 554.904 1120.69 Q554.904 1127.52 558.052 1131.15 Q561.2 1134.76 567.126 1134.76 Q570.136 1134.76 572.798 1133.68 Q575.483 1132.59 577.844 1130.39 L577.844 1135.27 Q575.39 1136.94 572.636 1137.77 Q569.904 1138.61 566.849 1138.61 Q559.001 1138.61 554.488 1133.82 Q549.974 1129 549.974 1120.69 Q549.974 1112.36 554.488 1107.57 Q559.001 1102.75 566.849 1102.75 Q569.95 1102.75 572.682 1103.58 Q575.437 1104.39 577.844 1106.04 Z\" fill=\"#000000\" fill-rule=\"evenodd\" fill-opacity=\"1\" /><path clip-path=\"url(#clip940)\" d=\"M596.663 1124.9 Q591.501 1124.9 589.511 1126.08 Q587.52 1127.27 587.52 1130.11 Q587.52 1132.38 589.001 1133.72 Q590.506 1135.04 593.075 1135.04 Q596.617 1135.04 598.747 1132.54 Q600.899 1130.02 600.899 1125.85 L600.899 1124.9 L596.663 1124.9 M605.159 1123.14 L605.159 1137.94 L600.899 1137.94 L600.899 1134 Q599.441 1136.36 597.265 1137.5 Q595.089 1138.61 591.941 1138.61 Q587.96 1138.61 585.599 1136.39 Q583.261 1134.14 583.261 1130.39 Q583.261 1126.02 586.177 1123.79 Q589.117 1121.57 594.927 1121.57 L600.899 1121.57 L600.899 1121.15 Q600.899 1118.21 598.955 1116.62 Q597.034 1115 593.538 1115 Q591.316 1115 589.21 1115.53 Q587.103 1116.06 585.159 1117.13 L585.159 1113.19 Q587.497 1112.29 589.696 1111.85 Q591.895 1111.39 593.978 1111.39 Q599.603 1111.39 602.381 1114.3 Q605.159 1117.22 605.159 1123.14 Z\" fill=\"#000000\" fill-rule=\"evenodd\" fill-opacity=\"1\" /><path clip-path=\"url(#clip940)\" d=\"M613.492 1127.7 L613.492 1112.01 L617.751 1112.01 L617.751 1127.54 Q617.751 1131.22 619.186 1133.08 Q620.621 1134.9 623.492 1134.9 Q626.941 1134.9 628.932 1132.7 Q630.945 1130.51 630.945 1126.71 L630.945 1112.01 L635.205 1112.01 L635.205 1137.94 L630.945 1137.94 L630.945 1133.95 Q629.395 1136.32 627.334 1137.47 Q625.297 1138.61 622.589 1138.61 Q618.121 1138.61 615.807 1135.83 Q613.492 1133.05 613.492 1127.7 M624.209 1111.39 L624.209 1111.39 Z\" fill=\"#000000\" fill-rule=\"evenodd\" fill-opacity=\"1\" /><circle clip-path=\"url(#clip940)\" cx=\"385.758\" cy=\"1172.5\" r=\"23\" fill=\"#e26f46\" fill-rule=\"evenodd\" fill-opacity=\"1\" stroke=\"#000000\" stroke-opacity=\"1\" stroke-width=\"5.12\"/>\n",
       "<path clip-path=\"url(#clip940)\" d=\"M496.386 1159.82 L490.043 1177.02 L502.752 1177.02 L496.386 1159.82 M493.747 1155.22 L499.048 1155.22 L512.219 1189.78 L507.358 1189.78 L504.21 1180.91 L488.631 1180.91 L485.483 1189.78 L480.553 1189.78 L493.747 1155.22 Z\" fill=\"#000000\" fill-rule=\"evenodd\" fill-opacity=\"1\" /><path clip-path=\"url(#clip940)\" d=\"M516.733 1155.22 L521.432 1155.22 L521.432 1176.21 Q521.432 1181.77 523.446 1184.22 Q525.46 1186.65 529.974 1186.65 Q534.465 1186.65 536.478 1184.22 Q538.492 1181.77 538.492 1176.21 L538.492 1155.22 L543.191 1155.22 L543.191 1176.79 Q543.191 1183.55 539.835 1187 Q536.502 1190.45 529.974 1190.45 Q523.423 1190.45 520.066 1187 Q516.733 1183.55 516.733 1176.79 L516.733 1155.22 Z\" fill=\"#000000\" fill-rule=\"evenodd\" fill-opacity=\"1\" /><path clip-path=\"url(#clip940)\" d=\"M572.682 1156.35 L572.682 1160.91 Q570.02 1159.64 567.659 1159.01 Q565.298 1158.39 563.099 1158.39 Q559.279 1158.39 557.196 1159.87 Q555.136 1161.35 555.136 1164.08 Q555.136 1166.37 556.501 1167.55 Q557.89 1168.71 561.733 1169.43 L564.557 1170.01 Q569.788 1171 572.265 1173.53 Q574.765 1176.03 574.765 1180.24 Q574.765 1185.26 571.386 1187.85 Q568.029 1190.45 561.525 1190.45 Q559.071 1190.45 556.293 1189.89 Q553.538 1189.34 550.576 1188.25 L550.576 1183.43 Q553.423 1185.03 556.154 1185.84 Q558.886 1186.65 561.525 1186.65 Q565.529 1186.65 567.705 1185.08 Q569.881 1183.5 569.881 1180.59 Q569.881 1178.04 568.307 1176.61 Q566.756 1175.17 563.191 1174.45 L560.344 1173.9 Q555.113 1172.86 552.775 1170.63 Q550.437 1168.41 550.437 1164.45 Q550.437 1159.87 553.654 1157.23 Q556.895 1154.59 562.566 1154.59 Q564.997 1154.59 567.52 1155.03 Q570.043 1155.47 572.682 1156.35 Z\" fill=\"#000000\" fill-rule=\"evenodd\" fill-opacity=\"1\" /><path clip-path=\"url(#clip940)\" d=\"M591.918 1166.84 Q588.492 1166.84 586.501 1169.52 Q584.511 1172.18 584.511 1176.84 Q584.511 1181.49 586.478 1184.17 Q588.469 1186.84 591.918 1186.84 Q595.321 1186.84 597.311 1184.15 Q599.302 1181.47 599.302 1176.84 Q599.302 1172.23 597.311 1169.54 Q595.321 1166.84 591.918 1166.84 M591.918 1163.23 Q597.473 1163.23 600.645 1166.84 Q603.816 1170.45 603.816 1176.84 Q603.816 1183.2 600.645 1186.84 Q597.473 1190.45 591.918 1190.45 Q586.339 1190.45 583.168 1186.84 Q580.02 1183.2 580.02 1176.84 Q580.02 1170.45 583.168 1166.84 Q586.339 1163.23 591.918 1163.23 Z\" fill=\"#000000\" fill-rule=\"evenodd\" fill-opacity=\"1\" /><path clip-path=\"url(#clip940)\" d=\"M624.001 1153.76 L624.001 1157.3 L619.927 1157.3 Q617.635 1157.3 616.733 1158.23 Q615.853 1159.15 615.853 1161.56 L615.853 1163.85 L622.867 1163.85 L622.867 1167.16 L615.853 1167.16 L615.853 1189.78 L611.571 1189.78 L611.571 1167.16 L607.497 1167.16 L607.497 1163.85 L611.571 1163.85 L611.571 1162.04 Q611.571 1157.72 613.584 1155.75 Q615.598 1153.76 619.973 1153.76 L624.001 1153.76 Z\" fill=\"#000000\" fill-rule=\"evenodd\" fill-opacity=\"1\" /><path clip-path=\"url(#clip940)\" d=\"M630.945 1156.49 L630.945 1163.85 L639.719 1163.85 L639.719 1167.16 L630.945 1167.16 L630.945 1181.23 Q630.945 1184.41 631.802 1185.31 Q632.682 1186.21 635.344 1186.21 L639.719 1186.21 L639.719 1189.78 L635.344 1189.78 Q630.413 1189.78 628.538 1187.95 Q626.663 1186.1 626.663 1181.23 L626.663 1167.16 L623.538 1167.16 L623.538 1163.85 L626.663 1163.85 L626.663 1156.49 L630.945 1156.49 Z\" fill=\"#000000\" fill-rule=\"evenodd\" fill-opacity=\"1\" /><circle clip-path=\"url(#clip940)\" cx=\"385.758\" cy=\"1224.34\" r=\"23\" fill=\"#3da44d\" fill-rule=\"evenodd\" fill-opacity=\"1\" stroke=\"#000000\" stroke-opacity=\"1\" stroke-width=\"5.12\"/>\n",
       "<path clip-path=\"url(#clip940)\" d=\"M496.386 1211.66 L490.043 1228.86 L502.752 1228.86 L496.386 1211.66 M493.747 1207.06 L499.048 1207.06 L512.219 1241.62 L507.358 1241.62 L504.21 1232.75 L488.631 1232.75 L485.483 1241.62 L480.553 1241.62 L493.747 1207.06 Z\" fill=\"#000000\" fill-rule=\"evenodd\" fill-opacity=\"1\" /><path clip-path=\"url(#clip940)\" d=\"M516.733 1207.06 L521.432 1207.06 L521.432 1228.05 Q521.432 1233.61 523.446 1236.06 Q525.46 1238.49 529.974 1238.49 Q534.465 1238.49 536.478 1236.06 Q538.492 1233.61 538.492 1228.05 L538.492 1207.06 L543.191 1207.06 L543.191 1228.63 Q543.191 1235.39 539.835 1238.84 Q536.502 1242.29 529.974 1242.29 Q523.423 1242.29 520.066 1238.84 Q516.733 1235.39 516.733 1228.63 L516.733 1207.06 Z\" fill=\"#000000\" fill-rule=\"evenodd\" fill-opacity=\"1\" /><path clip-path=\"url(#clip940)\" d=\"M551.964 1207.06 L571.825 1207.06 L571.825 1210.99 L556.64 1210.99 L556.64 1221.18 L570.344 1221.18 L570.344 1225.11 L556.64 1225.11 L556.64 1241.62 L551.964 1241.62 L551.964 1207.06 Z\" fill=\"#000000\" fill-rule=\"evenodd\" fill-opacity=\"1\" /><path clip-path=\"url(#clip940)\" d=\"M590.622 1219.67 Q589.904 1219.26 589.048 1219.07 Q588.214 1218.86 587.196 1218.86 Q583.585 1218.86 581.64 1221.22 Q579.719 1223.56 579.719 1227.96 L579.719 1241.62 L575.437 1241.62 L575.437 1215.69 L579.719 1215.69 L579.719 1219.72 Q581.061 1217.36 583.214 1216.22 Q585.367 1215.07 588.446 1215.07 Q588.886 1215.07 589.418 1215.13 Q589.95 1215.18 590.598 1215.3 L590.622 1219.67 Z\" fill=\"#000000\" fill-rule=\"evenodd\" fill-opacity=\"1\" /><path clip-path=\"url(#clip940)\" d=\"M616.223 1227.59 L616.223 1229.67 L596.64 1229.67 Q596.918 1234.07 599.279 1236.38 Q601.663 1238.68 605.899 1238.68 Q608.353 1238.68 610.645 1238.07 Q612.959 1237.47 615.228 1236.27 L615.228 1240.3 Q612.936 1241.27 610.529 1241.78 Q608.122 1242.29 605.645 1242.29 Q599.441 1242.29 595.807 1238.68 Q592.196 1235.07 592.196 1228.91 Q592.196 1222.54 595.622 1218.82 Q599.071 1215.07 604.904 1215.07 Q610.135 1215.07 613.168 1218.45 Q616.223 1221.8 616.223 1227.59 M611.964 1226.34 Q611.918 1222.84 609.997 1220.76 Q608.098 1218.68 604.95 1218.68 Q601.385 1218.68 599.233 1220.69 Q597.103 1222.7 596.779 1226.36 L611.964 1226.34 Z\" fill=\"#000000\" fill-rule=\"evenodd\" fill-opacity=\"1\" /><path clip-path=\"url(#clip940)\" d=\"M644.765 1225.97 L644.765 1241.62 L640.506 1241.62 L640.506 1226.11 Q640.506 1222.43 639.07 1220.6 Q637.635 1218.77 634.765 1218.77 Q631.316 1218.77 629.325 1220.97 Q627.334 1223.17 627.334 1226.96 L627.334 1241.62 L623.052 1241.62 L623.052 1215.69 L627.334 1215.69 L627.334 1219.72 Q628.862 1217.38 630.922 1216.22 Q633.006 1215.07 635.714 1215.07 Q640.182 1215.07 642.473 1217.84 Q644.765 1220.6 644.765 1225.97 Z\" fill=\"#000000\" fill-rule=\"evenodd\" fill-opacity=\"1\" /><path clip-path=\"url(#clip940)\" d=\"M671.917 1216.69 L671.917 1220.67 Q670.112 1219.67 668.283 1219.19 Q666.478 1218.68 664.626 1218.68 Q660.482 1218.68 658.191 1221.32 Q655.899 1223.93 655.899 1228.68 Q655.899 1233.42 658.191 1236.06 Q660.482 1238.68 664.626 1238.68 Q666.478 1238.68 668.283 1238.19 Q670.112 1237.68 671.917 1236.69 L671.917 1240.62 Q670.135 1241.45 668.214 1241.87 Q666.316 1242.29 664.163 1242.29 Q658.306 1242.29 654.857 1238.61 Q651.408 1234.93 651.408 1228.68 Q651.408 1222.33 654.881 1218.7 Q658.376 1215.07 664.441 1215.07 Q666.408 1215.07 668.283 1215.48 Q670.158 1215.88 671.917 1216.69 Z\" fill=\"#000000\" fill-rule=\"evenodd\" fill-opacity=\"1\" /><path clip-path=\"url(#clip940)\" d=\"M700.876 1225.97 L700.876 1241.62 L696.616 1241.62 L696.616 1226.11 Q696.616 1222.43 695.181 1220.6 Q693.746 1218.77 690.876 1218.77 Q687.427 1218.77 685.436 1220.97 Q683.445 1223.17 683.445 1226.96 L683.445 1241.62 L679.163 1241.62 L679.163 1205.6 L683.445 1205.6 L683.445 1219.72 Q684.973 1217.38 687.033 1216.22 Q689.116 1215.07 691.825 1215.07 Q696.292 1215.07 698.584 1217.84 Q700.876 1220.6 700.876 1225.97 Z\" fill=\"#000000\" fill-rule=\"evenodd\" fill-opacity=\"1\" /><circle clip-path=\"url(#clip940)\" cx=\"385.758\" cy=\"1276.18\" r=\"23\" fill=\"#c271d2\" fill-rule=\"evenodd\" fill-opacity=\"1\" stroke=\"#000000\" stroke-opacity=\"1\" stroke-width=\"5.12\"/>\n",
       "<path clip-path=\"url(#clip940)\" d=\"M496.386 1263.5 L490.043 1280.7 L502.752 1280.7 L496.386 1263.5 M493.747 1258.9 L499.048 1258.9 L512.219 1293.46 L507.358 1293.46 L504.21 1284.59 L488.631 1284.59 L485.483 1293.46 L480.553 1293.46 L493.747 1258.9 Z\" fill=\"#000000\" fill-rule=\"evenodd\" fill-opacity=\"1\" /><path clip-path=\"url(#clip940)\" d=\"M516.733 1258.9 L521.432 1258.9 L521.432 1279.89 Q521.432 1285.45 523.446 1287.9 Q525.46 1290.33 529.974 1290.33 Q534.465 1290.33 536.478 1287.9 Q538.492 1285.45 538.492 1279.89 L538.492 1258.9 L543.191 1258.9 L543.191 1280.47 Q543.191 1287.23 539.835 1290.68 Q536.502 1294.13 529.974 1294.13 Q523.423 1294.13 520.066 1290.68 Q516.733 1287.23 516.733 1280.47 L516.733 1258.9 Z\" fill=\"#000000\" fill-rule=\"evenodd\" fill-opacity=\"1\" /><path clip-path=\"url(#clip940)\" d=\"M551.964 1258.9 L558.932 1258.9 L567.751 1282.41 L576.617 1258.9 L583.585 1258.9 L583.585 1293.46 L579.024 1293.46 L579.024 1263.11 L570.112 1286.81 L565.413 1286.81 L556.501 1263.11 L556.501 1293.46 L551.964 1293.46 L551.964 1258.9 Z\" fill=\"#000000\" fill-rule=\"evenodd\" fill-opacity=\"1\" /><path clip-path=\"url(#clip940)\" d=\"M592.867 1258.9 L597.543 1258.9 L597.543 1273.06 L614.534 1273.06 L614.534 1258.9 L619.209 1258.9 L619.209 1293.46 L614.534 1293.46 L614.534 1277 L597.543 1277 L597.543 1293.46 L592.867 1293.46 L592.867 1258.9 Z\" fill=\"#000000\" fill-rule=\"evenodd\" fill-opacity=\"1\" /><circle clip-path=\"url(#clip940)\" cx=\"385.758\" cy=\"1328.02\" r=\"23\" fill=\"#ac8d18\" fill-rule=\"evenodd\" fill-opacity=\"1\" stroke=\"#000000\" stroke-opacity=\"1\" stroke-width=\"5.12\"/>\n",
       "<path clip-path=\"url(#clip940)\" d=\"M496.386 1315.34 L490.043 1332.54 L502.752 1332.54 L496.386 1315.34 M493.747 1310.74 L499.048 1310.74 L512.219 1345.3 L507.358 1345.3 L504.21 1336.43 L488.631 1336.43 L485.483 1345.3 L480.553 1345.3 L493.747 1310.74 Z\" fill=\"#000000\" fill-rule=\"evenodd\" fill-opacity=\"1\" /><path clip-path=\"url(#clip940)\" d=\"M516.733 1310.74 L521.432 1310.74 L521.432 1331.73 Q521.432 1337.29 523.446 1339.74 Q525.46 1342.17 529.974 1342.17 Q534.465 1342.17 536.478 1339.74 Q538.492 1337.29 538.492 1331.73 L538.492 1310.74 L543.191 1310.74 L543.191 1332.31 Q543.191 1339.07 539.835 1342.52 Q536.502 1345.97 529.974 1345.97 Q523.423 1345.97 520.066 1342.52 Q516.733 1339.07 516.733 1332.31 L516.733 1310.74 Z\" fill=\"#000000\" fill-rule=\"evenodd\" fill-opacity=\"1\" /><path clip-path=\"url(#clip940)\" d=\"M568.307 1320.13 L568.307 1324.16 Q566.501 1323.24 564.557 1322.77 Q562.613 1322.31 560.529 1322.31 Q557.358 1322.31 555.761 1323.28 Q554.187 1324.25 554.187 1326.2 Q554.187 1327.68 555.321 1328.54 Q556.455 1329.37 559.881 1330.13 L561.339 1330.46 Q565.876 1331.43 567.775 1333.21 Q569.696 1334.97 569.696 1338.14 Q569.696 1341.75 566.825 1343.86 Q563.978 1345.97 558.978 1345.97 Q556.895 1345.97 554.626 1345.55 Q552.381 1345.16 549.881 1344.35 L549.881 1339.95 Q552.242 1341.18 554.534 1341.8 Q556.826 1342.4 559.071 1342.4 Q562.08 1342.4 563.7 1341.38 Q565.321 1340.34 565.321 1338.47 Q565.321 1336.73 564.14 1335.81 Q562.983 1334.88 559.025 1334.02 L557.543 1333.68 Q553.585 1332.84 551.826 1331.13 Q550.066 1329.39 550.066 1326.38 Q550.066 1322.73 552.659 1320.74 Q555.251 1318.75 560.02 1318.75 Q562.381 1318.75 564.464 1319.09 Q566.548 1319.44 568.307 1320.13 Z\" fill=\"#000000\" fill-rule=\"evenodd\" fill-opacity=\"1\" /><path clip-path=\"url(#clip940)\" d=\"M576.478 1319.37 L580.737 1319.37 L580.737 1345.3 L576.478 1345.3 L576.478 1319.37 M576.478 1309.28 L580.737 1309.28 L580.737 1314.67 L576.478 1314.67 L576.478 1309.28 Z\" fill=\"#000000\" fill-rule=\"evenodd\" fill-opacity=\"1\" /><path clip-path=\"url(#clip940)\" d=\"M608.26 1332.36 Q608.26 1327.66 606.316 1325 Q604.395 1322.31 601.015 1322.31 Q597.635 1322.31 595.691 1325 Q593.77 1327.66 593.77 1332.36 Q593.77 1337.06 595.691 1339.74 Q597.635 1342.4 601.015 1342.4 Q604.395 1342.4 606.316 1339.74 Q608.26 1337.06 608.26 1332.36 M593.77 1323.31 Q595.112 1320.99 597.149 1319.88 Q599.21 1318.75 602.057 1318.75 Q606.779 1318.75 609.719 1322.5 Q612.682 1326.25 612.682 1332.36 Q612.682 1338.47 609.719 1342.22 Q606.779 1345.97 602.057 1345.97 Q599.21 1345.97 597.149 1344.86 Q595.112 1343.72 593.77 1341.41 L593.77 1345.3 L589.487 1345.3 L589.487 1309.28 L593.77 1309.28 L593.77 1323.31 Z\" fill=\"#000000\" fill-rule=\"evenodd\" fill-opacity=\"1\" /></svg>\n"
      ]
     },
     "execution_count": 30,
     "metadata": {},
     "output_type": "execute_result"
    }
   ],
   "source": [
    "#AUROC curves\n",
    "\n",
    "T = Int(T)\n",
    "AU_curve=zeros(T)\n",
    "AU_sib=zeros(T)\n",
    "AU_french = zeros(T)\n",
    "AU_soft = zeros(T)\n",
    "AU_MH = zeros(T)\n",
    "for t = 1:T\n",
    "    cau_risk=zeros(N)\n",
    "    sib_risk = zeros(N)\n",
    "    french_risk = zeros(N)\n",
    "    MH_risk = zeros(N)\n",
    "    soft_risk = zeros(N)\n",
    "    for i=1:N\n",
    "       cau_risk[i] = marginal(i,t,statscau)\n",
    "       french_risk[i] = marginal(i,t,statsfre)\n",
    "       MH_risk[i] = marginal(i,t,stats_mh)\n",
    "       sib_risk[i] = p_sib[i,Int(round(t/dt))]\n",
    "       soft_risk[i] = marginal(i,t,stats) \n",
    "    end\n",
    "    xt = xtrue .< t\n",
    "    AU_soft[t] = AUROC(ROC(xt, soft_risk))\n",
    "    AU_curve[t] = AUROC(ROC(xt, cau_risk))\n",
    "    AU_french[t] = AUROC(ROC(xt, french_risk))\n",
    "    AU_MH[t] = AUROC(ROC(xt, MH_risk))\n",
    "    AU_sib[t] = AUROC(ROC(xt, sib_risk))\n",
    "end\n",
    "plot(LinRange(1,T,T),AU_curve, label=\"AUCau\", title=\"Causality VS Sib AUROC in function of time\")\n",
    "scatter!(LinRange(1,T,T),AU_soft, label=\"AUSoft\",legend=:bottomleft)\n",
    "scatter!(LinRange(1,T,T),AU_french, label=\"AUFrench\")\n",
    "scatter!(LinRange(1,T,T),AU_MH, label=\"AUMH\")\n",
    "scatter!(LinRange(1,T,T), AU_sib, label=\"AUsib\")\n",
    "xlabel!(\"t\")\n",
    "ylabel!(\"AUROC\")\n",
    "#savefig(\"confronti.pdf\")\n",
    "#ylims!(0.5,1.01)"
   ]
  },
  {
   "cell_type": "code",
   "execution_count": null,
   "metadata": {},
   "outputs": [],
   "source": []
  }
 ],
 "metadata": {
  "kernelspec": {
   "display_name": "Julia 1.7.0-rc2",
   "language": "julia",
   "name": "julia-1.7"
  },
  "language_info": {
   "file_extension": ".jl",
   "mimetype": "application/julia",
   "name": "julia",
   "version": "1.7.0"
  }
 },
 "nbformat": 4,
 "nbformat_minor": 4
}
