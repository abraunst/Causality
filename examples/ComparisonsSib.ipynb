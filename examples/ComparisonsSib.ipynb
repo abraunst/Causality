{
 "cells": [
  {
   "cell_type": "markdown",
   "metadata": {},
   "source": [
    "Continuous-time model\n",
    "---\n",
    "\n",
    "Let's order the infection times $t_{\\pi_{1}}<t_{\\pi_{2}}<\\dots<t_{\\pi_{N}}$\n",
    ". Let $\\lambda_{i}\\left(t\\right)$ be a time-dependent transmission\n",
    "rate and $L_{i}\\left(t\\right)=\\int_{0}^{t}\\lambda_{ij}\\left(s\\right)ds$\n",
    "its primitive. Then $\\rho_{i}\\left(t_i; t_j\\right)=\\lambda_{i}\\left(t_i\\right)e^{-\\int_{t_j}^{t_i}\\lambda_{i}\\left(s\\right)ds} = \\lambda_{i}\\left(t_j\\right)e^{L_{i}(t_j) - L_{i}(t_i) }$\n",
    "will be the transmission ``delay'' density distribution. "
   ]
  },
  {
   "cell_type": "markdown",
   "metadata": {},
   "source": [
    "\\begin{align*}p\\left(t_{1},\\dots,t_{N}\\right) & =\\prod_{i=1}^{N}\\lim_{ds\\to0^{+}}\\frac{\\prod_{j\\in\\partial i:t_{j}<t_{i}}e^{L_{i}(t_{j})-L_{i}(t_{i}-ds)}-\\prod_{j\\in\\partial i:t_{j}<t_{i}}e^{L_{i}(t_{j})-L_{i}(t_{i})}}{ds}\\\\\n",
    " & =\\prod_{i=1}^{N}\\frac{d}{ds}_{|s=0}\\prod_{j\\in\\partial i:t_{j}<t_{i}}e^{L_{i}(t_{j})-L_{i}(t_{i}-ds)}\\\\\n",
    " & =\\prod_{i=1}^{N}\\left\\{ \\left(\\prod_{j\\in\\partial i:t_{j}<t_{i}}e^{L_{i}(t_{j})-L_{i}(t_{i})}\\right)\\sum_{j\\in\\partial i:t_{j}<t_{i}}\\lambda_{i}\\left(t_{i}\\right)\\right\\} \\\\\n",
    "\\mathcal{L}_{0}\\left(t_{1},\\dots,t_{N}\\right) & =\\log p\\left(t_{1},\\dots,t_{N}\\right)\\\\\n",
    " & =-\\sum_{i=1}^{N}\\left\\{ \\sum_{j\\in\\partial i:t_{j}<t_{i}}\\left(L_{i}(t_{i})-L_{i}(t_{j})\\right)-\\log\\left(\\sum_{j\\in\\partial i:t_{j}<t_{i}}\\lambda_{i}\\left(t_{i}\\right)\\right)\\right\\} \n",
    "\\end{align*}"
   ]
  },
  {
   "cell_type": "markdown",
   "metadata": {},
   "source": [
    "Note that $$\\int_{t_j}^{t_i} \\rho_{i}(s; t_j) ds = 1-e^{-\\left(L_{i}(t_i) - L_{i}(t_j)\\right)}$$ so $$\\lambda_{i}(t) = -\\frac{d}{dt}\\log \\left(1-\\int_{t_j}^{t_i} \\rho_{i}(s) ds\\right)$$"
   ]
  },
  {
   "cell_type": "markdown",
   "metadata": {},
   "source": [
    "\n",
    "\\begin{align}\\lambda(t) & =ae^{-\\left(\\frac{t-b}{c}\\right)^{2}}\\\\\n",
    "\\frac{x-b}{c} & =\\frac{y}{\\sqrt{2}}\\\\\n",
    "dx & =\\frac{c}{\\sqrt{2}}dy\\\\\n",
    "L(t)=\\int_{0}^{t}ae^{-\\left(\\frac{x-b}{c}\\right)^{2}}dx & = ac\\int_{\\frac{0-b}{c}}^{\\frac{t-b}{c}}e^{-y^{2}}dy\\\\\n",
    " & =ac\\sqrt{\\pi}\\frac{1}{\\sqrt{\\pi}}\\int_{-\\frac{b}{c}}^{\\frac{t-b}{c}}e^{-y^{2}}dy\\\\\n",
    " & =\\frac{ac\\sqrt{\\pi}}{2}\\left(\\mathrm{erfc}\\left(-\\frac{t-b}{c}\\right)-\\mathrm{erfc}\\left(\\frac{b}{c}\\right)\\right)\\\\\n",
    "\\rho_{i}\\left(t_{i};t_{j}\\right) & =\\lambda_{i}\\left(t_{i}\\right)e^{-\\int_{t_{j}}^{t_{i}}\\lambda_{i}\\left(s\\right)ds}=\\lambda_{i}\\left(t_{i}\\right)e^{L_{i}(t_{j})-L_{i}(t_{i})}\\\\\n",
    "\\frac{d}{ds}-e^{L_{i}(t_{j})-L_{i}(s)} & =\\lambda\\left(s\\right)e^{L_{i}(t_{j})-L_{i}(s)}=\\rho_{i}\\left(s;t_{j}\\right)\\\\\n",
    "\\end{align}"
   ]
  },
  {
   "cell_type": "markdown",
   "metadata": {},
   "source": [
    "Sampling \n",
    "---\n",
    "\\begin{align}\n",
    "\\int_{t_{j}}^{t}\\rho(s;t_{j})ds & =1-e^{L_{i}(t_{j})-L_{i}(t)}=1-r\\sim U(0,1)\\\\\n",
    "e^{L_{i}(t_{j})-L_{i}(t)} & =r\\\\\n",
    "L_{i}(t) & =L_{i}\\left(t_{j}\\right)-\\log(r)\\\\\n",
    "\\mathrm{erfc}\\left(-\\frac{t-b}{c}\\right) & =\\frac{2}{ac\\sqrt{\\pi}}\\left(L_{i}\\left(t_{j}\\right)-\\log(r)\\right)+\\mathrm{erfc}\\left(\\frac{b}{c}\\right)\\\\\n",
    "t & =-c\\,\\mathrm{ierfc}\\left(\\frac{2}{ac\\sqrt{\\pi}}\\left(L_{i}\\left(t_{j}\\right)-\\log(r)\\right)+\\mathrm{erfc}\\left(\\frac{b}{c}\\right)\\right)+b\n",
    "\\end{align}"
   ]
  },
  {
   "cell_type": "code",
   "execution_count": 218,
   "metadata": {},
   "outputs": [
    {
     "data": {
      "text/plain": [
       "sibyl (generic function with 1 method)"
      ]
     },
     "execution_count": 218,
     "metadata": {},
     "output_type": "execute_result"
    }
   ],
   "source": [
    "using PyCall\n",
    "@pyimport sib\n",
    "function sibyl(N, T_cont, Λ, O, γ, λ ; dt=1/5, maxit = 400, tol = 1e-14)\n",
    "    \n",
    "    T = Int(round(T_cont / dt))\n",
    "    contacts = [(i-1,j-1,t, λ * dt) for t in 1:T for (i,j,v) in zip(findnz(Λ.A)...)];\n",
    "    obs = [[(i,-1,t) for t=1:T for i=0:N-1];\n",
    "           [(i-1,s,Int(round(t/dt))) for (i,s,t,p) in O]]\n",
    "    sort!(obs, lt=((i1,s1,t1),(i2,s2,t2))->(t1<t2))\n",
    "    prob_sus = 0.5\n",
    "    prob_seed=γ\n",
    "    pseed = prob_seed / (2 - prob_seed)\n",
    "    psus = prob_sus * (1 - pseed)\n",
    "    params = sib.Params(prob_r=sib.Exponential(mu=0), pseed=pseed, psus=psus,pautoinf=1e-10,fp_rate=1e-10,fn_rate=1e-10)\n",
    "    f = sib.FactorGraph(contacts=contacts, observations=obs, params=params)\n",
    "    sib.iterate(f, maxit=maxit,tol=tol)\n",
    "    sib.iterate(f, maxit=maxit, damping=0.5, tol=tol)\n",
    "    sib.iterate(f, maxit=maxit, damping=0.9, tol=tol)\n",
    "    p_sib=[collect(n.bt) for n in f.nodes]\n",
    "    m_sib = zeros(N, T)\n",
    "    for i=1:N\n",
    "        m_sib[i,1] = p_sib[i][1] \n",
    "        for t=2:T\n",
    "            m_sib[i,t] = m_sib[i,t-1] + p_sib[i][t]\n",
    "        end\n",
    "    end \n",
    "    return m_sib\n",
    "end\n"
   ]
  },
  {
   "cell_type": "code",
   "execution_count": 222,
   "metadata": {},
   "outputs": [
    {
     "data": {
      "text/plain": [
       "Causality.SparseMatrixDiGraph{Int64}(sparse([13, 239, 403, 488, 825, 976, 538, 248, 351, 655  …  738, 110, 653, 700, 525, 820, 907, 125, 478, 608], [1, 1, 1, 1, 1, 1, 2, 3, 3, 3  …  997, 998, 998, 998, 999, 999, 999, 1000, 1000, 1000], [π, π, π, π, π, π, π, π, π, π  …  π, π, π, π, π, π, π, π, π, π], 1000, 1000), sparse([13, 239, 403, 488, 825, 976, 538, 248, 351, 655  …  738, 110, 653, 700, 525, 820, 907, 125, 478, 608], [1, 1, 1, 1, 1, 1, 2, 3, 3, 3  …  997, 998, 998, 998, 999, 999, 999, 1000, 1000, 1000], [39, 711, 1194, 1454, 2439, 2854, 1597, 733, 1037, 1935  …  2180, 322, 1929, 2062, 1565, 2429, 2660, 367, 1431, 1796], 1000, 1000))"
      ]
     },
     "execution_count": 222,
     "metadata": {},
     "output_type": "execute_result"
    }
   ],
   "source": [
    "using SparseArrays, LinearAlgebra\n",
    "using Causality\n",
    "T, N = 20.0, 1000\n",
    "ρ = 3/N\n",
    "G = Causality.makeGNP(N,ρ)"
   ]
  },
  {
   "cell_type": "code",
   "execution_count": 223,
   "metadata": {},
   "outputs": [
    {
     "data": {
      "text/plain": [
       "getpar (generic function with 1 method)"
      ]
     },
     "execution_count": 223,
     "metadata": {},
     "output_type": "execute_result"
    }
   ],
   "source": [
    "getpar(p,a1,b1,c1,a2,b2,c2) = [fill(p, 1, N);\n",
    "     fill(a1, 1, N); fill(b1, 1, N); fill(c1, 1, N);\n",
    "     fill(a2,   1, N); fill(b2, 1, N); fill(c2, 1, N)]"
   ]
  },
  {
   "cell_type": "code",
   "execution_count": 224,
   "metadata": {},
   "outputs": [
    {
     "data": {
      "text/plain": [
       "IndividualSI{GaussianRate, GaussianRate}"
      ]
     },
     "execution_count": 224,
     "metadata": {},
     "output_type": "execute_result"
    }
   ],
   "source": [
    "ε = 1e-10\n",
    "λ = 0.2\n",
    "θp = getpar(1/N, ε, T/2, 1/ε,   1.0, T/2, 1/ε)\n",
    "θmin = getpar(ε  , ε  ,  -T,   ε,   ε,  -T, ε  )\n",
    "θmax = getpar(1-ε, 1/ε,  2T, 1/ε, 1/ε,  2T, 1/ε)\n",
    "const I = IndividualSI{GaussianRate,GaussianRate}"
   ]
  },
  {
   "cell_type": "code",
   "execution_count": 225,
   "metadata": {},
   "outputs": [],
   "source": [
    "Mp = StochasticModel(I,T, θp, G, ConstantRate(λ));\n",
    "sample! = Sampler(Mp);"
   ]
  },
  {
   "cell_type": "code",
   "execution_count": 226,
   "metadata": {},
   "outputs": [],
   "source": [
    "ε = 2e-3\n",
    "θp2 = getpar(1/N, ε, T/2, 1/ε,   1.0, T/2, 1/ε)\n",
    "Mp2 = StochasticModel(I, T, θp2, G, ConstantRate(λ));"
   ]
  },
  {
   "cell_type": "code",
   "execution_count": 227,
   "metadata": {},
   "outputs": [],
   "source": [
    "θ = getpar(2/N  , 2/N  ,  T/2,   2*T,   1,  T/2, 3*T  )\n",
    "M = StochasticModel(I, T, θ, G, ConstantRate(λ));"
   ]
  },
  {
   "cell_type": "code",
   "execution_count": 228,
   "metadata": {},
   "outputs": [
    {
     "data": {
      "text/plain": [
       "100-element Vector{Tuple{Int64, Bool, Float64, Float64}}:\n",
       " (1, 0, 17.312809459877577, 1.0e-6)\n",
       " (2, 0, 13.018998090437321, 1.0e-6)\n",
       " (3, 1, 17.53683209177236, 1.0e-6)\n",
       " (4, 0, 10.018027897966679, 1.0e-6)\n",
       " (5, 0, 12.552266979130259, 1.0e-6)\n",
       " (6, 1, 18.646720405296723, 1.0e-6)\n",
       " (7, 0, 13.195465186741835, 1.0e-6)\n",
       " (8, 1, 17.709452137820616, 1.0e-6)\n",
       " (9, 1, 15.170169139080567, 1.0e-6)\n",
       " (10, 1, 17.2275398265541, 1.0e-6)\n",
       " (11, 0, 12.509291998174675, 1.0e-6)\n",
       " (12, 0, 17.744511397905175, 1.0e-6)\n",
       " (13, 1, 18.233006741185903, 1.0e-6)\n",
       " ⋮\n",
       " (89, 0, 14.669646878698451, 1.0e-6)\n",
       " (90, 1, 18.956779520888382, 1.0e-6)\n",
       " (91, 0, 10.359743882345175, 1.0e-6)\n",
       " (92, 0, 11.35243318349768, 1.0e-6)\n",
       " (93, 0, 12.742321995086483, 1.0e-6)\n",
       " (94, 1, 18.13512724897685, 1.0e-6)\n",
       " (95, 0, 14.459333952236864, 1.0e-6)\n",
       " (96, 1, 16.74292145331544, 1.0e-6)\n",
       " (97, 0, 17.393153651869284, 1.0e-6)\n",
       " (98, 1, 13.762549982957072, 1.0e-6)\n",
       " (99, 1, 17.917969383134544, 1.0e-6)\n",
       " (100, 1, 15.479666840185756, 1.0e-6)"
      ]
     },
     "execution_count": 228,
     "metadata": {},
     "output_type": "execute_result"
    }
   ],
   "source": [
    "xtrue = zeros(N)\n",
    "sample!(xtrue)\n",
    "nobs, p = 100, 1e-6\n",
    "O = [(ti = T*(1+rand())/2; (i,xtrue[i] < ti,ti,p)) for i=1:nobs]"
   ]
  },
  {
   "cell_type": "code",
   "execution_count": 229,
   "metadata": {},
   "outputs": [
    {
     "name": "stderr",
     "output_type": "stream",
     "text": [
      "\u001b[32mProgress: 100%|█████████████████████████████████████████| Time: 0:03:09\u001b[39m\n",
      "\u001b[34m  F:  357.8730001309345\u001b[39m\n"
     ]
    }
   ],
   "source": [
    "using ProgressMeter\n",
    "ProgressMeter.ijulia_behavior(:clear)\n",
    "descend!(Mp2, O; M=M, numsamples=2000, numiters=50, \n",
    "         θmin=θmin, θmax=θmax, descender=SignDescender(0.1));\n",
    "descend!(Mp2, O; M=M, numsamples=2000, numiters=100, \n",
    "         θmin=θmin, θmax=θmax, descender=SignDescender(0.04));"
   ]
  },
  {
   "cell_type": "code",
   "execution_count": 239,
   "metadata": {},
   "outputs": [
    {
     "name": "stderr",
     "output_type": "stream",
     "text": [
      "\u001b[32mProgress: 100%|█████████████████████████████████████████| Time: 0:12:43\u001b[39m\n",
      "\u001b[34m  F:  224.806246366324\u001b[39m\n"
     ]
    }
   ],
   "source": [
    "descend!(Mp2, O; M=M, numsamples=8000, numiters=100, \n",
    "         θmin=θmin, θmax=θmax, descender=SignDescender(0.04));"
   ]
  },
  {
   "cell_type": "code",
   "execution_count": 243,
   "metadata": {},
   "outputs": [
    {
     "name": "stderr",
     "output_type": "stream",
     "text": [
      "\u001b[32mProgress: 100%|█████████████████████████████████████████| Time: 0:25:23\u001b[39m\n",
      "\u001b[34m  F:  165.68278222971367\u001b[39m\n"
     ]
    }
   ],
   "source": [
    "descend!(Mp2, O; M=M, numsamples=16000, numiters=100, \n",
    "         θmin=θmin, θmax=θmax, descender=SignDescender(0.04));"
   ]
  },
  {
   "cell_type": "code",
   "execution_count": 244,
   "metadata": {},
   "outputs": [
    {
     "name": "stderr",
     "output_type": "stream",
     "text": [
      "\u001b[32mProgress: 100%|█████████████████████████████████████████| Time: 0:00:03\u001b[39m\n"
     ]
    }
   ],
   "source": [
    "sample! = Sampler(M)\n",
    "statscau = prior(M);"
   ]
  },
  {
   "cell_type": "code",
   "execution_count": 231,
   "metadata": {},
   "outputs": [
    {
     "name": "stdout",
     "output_type": "stream",
     "text": [
      "\n",
      "sib.iterate(damp=0.0): 399/400 7.471e-01/1e-15      \n",
      "sib.iterate(damp=0.5): 399/400 3.211e-01/1e-15      \n",
      "sib.iterate(damp=0.9): 399/400 1.553e-01/1e-15      \r"
     ]
    }
   ],
   "source": [
    "dt = 1/5\n",
    "p_sib = sibyl(N, T, G, O, 1/N, λ; dt=dt, maxit = 400, tol = 1e-15);"
   ]
  },
  {
   "cell_type": "code",
   "execution_count": 247,
   "metadata": {},
   "outputs": [
    {
     "name": "stderr",
     "output_type": "stream",
     "text": [
      "\u001b[32mProgress: 100%|█████████████████████████████████████████| Time: 0:01:19\u001b[39m\n"
     ]
    }
   ],
   "source": [
    "statsw, w = reweighted_post(Mp2, M, O; numsamples=10^5);\n"
   ]
  },
  {
   "cell_type": "markdown",
   "metadata": {},
   "source": [
    "## Marginals and ROC curve"
   ]
  },
  {
   "cell_type": "code",
   "execution_count": 250,
   "metadata": {},
   "outputs": [
    {
     "data": {
      "text/plain": [
       "AUROC (generic function with 1 method)"
      ]
     },
     "execution_count": 250,
     "metadata": {},
     "output_type": "execute_result"
    }
   ],
   "source": [
    "function marginal(i, t, stats)\n",
    "    numsamp = size(stats,1)\n",
    "    sum(stats[:,i] .< t)/numsamp\n",
    "end\n",
    "\n",
    "function marginalweight(i, t, stats, weight)\n",
    "    sum((stats[:,i] .< t) .* weight)\n",
    "end\n",
    "\n",
    "function tpr(xtrue, rank) \n",
    "    cumsum(xtrue[rank]) ./( cumsum(xtrue[rank])[end])\n",
    "end\n",
    "\n",
    "function fpr(xtrue, rank) \n",
    "    N = size(rank,1)\n",
    "    return (range(1,N,length=N) .- cumsum(xtrue[rank])) ./ (range(1,N,length=N) .- cumsum(xtrue[rank]) )[end]\n",
    "end\n",
    "\n",
    "function ROC(xtrue, p)\n",
    "    N = size(xtrue,1)\n",
    "    rank = sortperm(p, rev=true)\n",
    "    \n",
    "    return fpr(xtrue, rank) , tpr(xtrue, rank)\n",
    "end\n",
    "\n",
    "function AUROC(ROC)\n",
    "    N = size(ROC[1],1) \n",
    "    AU = 0\n",
    "    for t = 1:N-1\n",
    "        AU += ROC[2][t] * (ROC[1][t+1] - ROC[1][t])\n",
    "    end\n",
    "    return AU\n",
    "end"
   ]
  },
  {
   "cell_type": "code",
   "execution_count": 251,
   "metadata": {},
   "outputs": [
    {
     "data": {
      "image/svg+xml": [
       "<?xml version=\"1.0\" encoding=\"utf-8\"?>\n",
       "<svg xmlns=\"http://www.w3.org/2000/svg\" xmlns:xlink=\"http://www.w3.org/1999/xlink\" width=\"600\" height=\"400\" viewBox=\"0 0 2400 1600\">\n",
       "<defs>\n",
       "  <clipPath id=\"clip580\">\n",
       "    <rect x=\"0\" y=\"0\" width=\"2400\" height=\"1600\"/>\n",
       "  </clipPath>\n",
       "</defs>\n",
       "<path clip-path=\"url(#clip580)\" d=\"\n",
       "M0 1600 L2400 1600 L2400 0 L0 0  Z\n",
       "  \" fill=\"#ffffff\" fill-rule=\"evenodd\" fill-opacity=\"1\"/>\n",
       "<defs>\n",
       "  <clipPath id=\"clip581\">\n",
       "    <rect x=\"480\" y=\"0\" width=\"1681\" height=\"1600\"/>\n",
       "  </clipPath>\n",
       "</defs>\n",
       "<path clip-path=\"url(#clip580)\" d=\"\n",
       "M186.274 1486.45 L2352.76 1486.45 L2352.76 47.2441 L186.274 47.2441  Z\n",
       "  \" fill=\"#ffffff\" fill-rule=\"evenodd\" fill-opacity=\"1\"/>\n",
       "<defs>\n",
       "  <clipPath id=\"clip582\">\n",
       "    <rect x=\"186\" y=\"47\" width=\"2167\" height=\"1440\"/>\n",
       "  </clipPath>\n",
       "</defs>\n",
       "<polyline clip-path=\"url(#clip582)\" style=\"stroke:#000000; stroke-linecap:butt; stroke-linejoin:round; stroke-width:2; stroke-opacity:0.1; fill:none\" points=\"\n",
       "  677.874,1486.45 677.874,47.2441 \n",
       "  \"/>\n",
       "<polyline clip-path=\"url(#clip582)\" style=\"stroke:#000000; stroke-linecap:butt; stroke-linejoin:round; stroke-width:2; stroke-opacity:0.1; fill:none\" points=\"\n",
       "  1215.73,1486.45 1215.73,47.2441 \n",
       "  \"/>\n",
       "<polyline clip-path=\"url(#clip582)\" style=\"stroke:#000000; stroke-linecap:butt; stroke-linejoin:round; stroke-width:2; stroke-opacity:0.1; fill:none\" points=\"\n",
       "  1753.58,1486.45 1753.58,47.2441 \n",
       "  \"/>\n",
       "<polyline clip-path=\"url(#clip582)\" style=\"stroke:#000000; stroke-linecap:butt; stroke-linejoin:round; stroke-width:2; stroke-opacity:0.1; fill:none\" points=\"\n",
       "  2291.44,1486.45 2291.44,47.2441 \n",
       "  \"/>\n",
       "<polyline clip-path=\"url(#clip580)\" style=\"stroke:#000000; stroke-linecap:butt; stroke-linejoin:round; stroke-width:4; stroke-opacity:1; fill:none\" points=\"\n",
       "  186.274,1486.45 2352.76,1486.45 \n",
       "  \"/>\n",
       "<polyline clip-path=\"url(#clip580)\" style=\"stroke:#000000; stroke-linecap:butt; stroke-linejoin:round; stroke-width:4; stroke-opacity:1; fill:none\" points=\"\n",
       "  677.874,1486.45 677.874,1467.55 \n",
       "  \"/>\n",
       "<polyline clip-path=\"url(#clip580)\" style=\"stroke:#000000; stroke-linecap:butt; stroke-linejoin:round; stroke-width:4; stroke-opacity:1; fill:none\" points=\"\n",
       "  1215.73,1486.45 1215.73,1467.55 \n",
       "  \"/>\n",
       "<polyline clip-path=\"url(#clip580)\" style=\"stroke:#000000; stroke-linecap:butt; stroke-linejoin:round; stroke-width:4; stroke-opacity:1; fill:none\" points=\"\n",
       "  1753.58,1486.45 1753.58,1467.55 \n",
       "  \"/>\n",
       "<polyline clip-path=\"url(#clip580)\" style=\"stroke:#000000; stroke-linecap:butt; stroke-linejoin:round; stroke-width:4; stroke-opacity:1; fill:none\" points=\"\n",
       "  2291.44,1486.45 2291.44,1467.55 \n",
       "  \"/>\n",
       "<path clip-path=\"url(#clip580)\" d=\"M668.152 1514.29 L686.508 1514.29 L686.508 1518.22 L672.434 1518.22 L672.434 1526.7 Q673.453 1526.35 674.471 1526.19 Q675.49 1526 676.508 1526 Q682.295 1526 685.675 1529.17 Q689.054 1532.34 689.054 1537.76 Q689.054 1543.34 685.582 1546.44 Q682.11 1549.52 675.791 1549.52 Q673.615 1549.52 671.346 1549.15 Q669.101 1548.78 666.693 1548.04 L666.693 1543.34 Q668.777 1544.47 670.999 1545.03 Q673.221 1545.58 675.698 1545.58 Q679.703 1545.58 682.041 1543.48 Q684.379 1541.37 684.379 1537.76 Q684.379 1534.15 682.041 1532.04 Q679.703 1529.94 675.698 1529.94 Q673.823 1529.94 671.948 1530.35 Q670.096 1530.77 668.152 1531.65 L668.152 1514.29 Z\" fill=\"#000000\" fill-rule=\"evenodd\" fill-opacity=\"1\" /><path clip-path=\"url(#clip580)\" d=\"M1190.42 1544.91 L1198.06 1544.91 L1198.06 1518.55 L1189.75 1520.21 L1189.75 1515.95 L1198.01 1514.29 L1202.69 1514.29 L1202.69 1544.91 L1210.32 1544.91 L1210.32 1548.85 L1190.42 1548.85 L1190.42 1544.91 Z\" fill=\"#000000\" fill-rule=\"evenodd\" fill-opacity=\"1\" /><path clip-path=\"url(#clip580)\" d=\"M1229.77 1517.37 Q1226.16 1517.37 1224.33 1520.93 Q1222.52 1524.47 1222.52 1531.6 Q1222.52 1538.71 1224.33 1542.27 Q1226.16 1545.82 1229.77 1545.82 Q1233.4 1545.82 1235.21 1542.27 Q1237.04 1538.71 1237.04 1531.6 Q1237.04 1524.47 1235.21 1520.93 Q1233.4 1517.37 1229.77 1517.37 M1229.77 1513.66 Q1235.58 1513.66 1238.63 1518.27 Q1241.71 1522.85 1241.71 1531.6 Q1241.71 1540.33 1238.63 1544.94 Q1235.58 1549.52 1229.77 1549.52 Q1223.96 1549.52 1220.88 1544.94 Q1217.82 1540.33 1217.82 1531.6 Q1217.82 1522.85 1220.88 1518.27 Q1223.96 1513.66 1229.77 1513.66 Z\" fill=\"#000000\" fill-rule=\"evenodd\" fill-opacity=\"1\" /><path clip-path=\"url(#clip580)\" d=\"M1728.77 1544.91 L1736.41 1544.91 L1736.41 1518.55 L1728.1 1520.21 L1728.1 1515.95 L1736.36 1514.29 L1741.04 1514.29 L1741.04 1544.91 L1748.68 1544.91 L1748.68 1548.85 L1728.77 1548.85 L1728.77 1544.91 Z\" fill=\"#000000\" fill-rule=\"evenodd\" fill-opacity=\"1\" /><path clip-path=\"url(#clip580)\" d=\"M1758.17 1514.29 L1776.52 1514.29 L1776.52 1518.22 L1762.45 1518.22 L1762.45 1526.7 Q1763.47 1526.35 1764.49 1526.19 Q1765.51 1526 1766.52 1526 Q1772.31 1526 1775.69 1529.17 Q1779.07 1532.34 1779.07 1537.76 Q1779.07 1543.34 1775.6 1546.44 Q1772.13 1549.52 1765.81 1549.52 Q1763.63 1549.52 1761.36 1549.15 Q1759.12 1548.78 1756.71 1548.04 L1756.71 1543.34 Q1758.79 1544.47 1761.02 1545.03 Q1763.24 1545.58 1765.71 1545.58 Q1769.72 1545.58 1772.06 1543.48 Q1774.39 1541.37 1774.39 1537.76 Q1774.39 1534.15 1772.06 1532.04 Q1769.72 1529.94 1765.71 1529.94 Q1763.84 1529.94 1761.96 1530.35 Q1760.11 1530.77 1758.17 1531.65 L1758.17 1514.29 Z\" fill=\"#000000\" fill-rule=\"evenodd\" fill-opacity=\"1\" /><path clip-path=\"url(#clip580)\" d=\"M2270.21 1544.91 L2286.53 1544.91 L2286.53 1548.85 L2264.59 1548.85 L2264.59 1544.91 Q2267.25 1542.16 2271.83 1537.53 Q2276.44 1532.88 2277.62 1531.53 Q2279.87 1529.01 2280.75 1527.27 Q2281.65 1525.51 2281.65 1523.82 Q2281.65 1521.07 2279.7 1519.33 Q2277.78 1517.6 2274.68 1517.6 Q2272.48 1517.6 2270.03 1518.36 Q2267.6 1519.13 2264.82 1520.68 L2264.82 1515.95 Q2267.64 1514.82 2270.1 1514.24 Q2272.55 1513.66 2274.59 1513.66 Q2279.96 1513.66 2283.15 1516.35 Q2286.35 1519.03 2286.35 1523.52 Q2286.35 1525.65 2285.54 1527.57 Q2284.75 1529.47 2282.64 1532.07 Q2282.07 1532.74 2278.96 1535.95 Q2275.86 1539.15 2270.21 1544.91 Z\" fill=\"#000000\" fill-rule=\"evenodd\" fill-opacity=\"1\" /><path clip-path=\"url(#clip580)\" d=\"M2306.35 1517.37 Q2302.74 1517.37 2300.91 1520.93 Q2299.1 1524.47 2299.1 1531.6 Q2299.1 1538.71 2300.91 1542.27 Q2302.74 1545.82 2306.35 1545.82 Q2309.98 1545.82 2311.79 1542.27 Q2313.62 1538.71 2313.62 1531.6 Q2313.62 1524.47 2311.79 1520.93 Q2309.98 1517.37 2306.35 1517.37 M2306.35 1513.66 Q2312.16 1513.66 2315.21 1518.27 Q2318.29 1522.85 2318.29 1531.6 Q2318.29 1540.33 2315.21 1544.94 Q2312.16 1549.52 2306.35 1549.52 Q2300.54 1549.52 2297.46 1544.94 Q2294.4 1540.33 2294.4 1531.6 Q2294.4 1522.85 2297.46 1518.27 Q2300.54 1513.66 2306.35 1513.66 Z\" fill=\"#000000\" fill-rule=\"evenodd\" fill-opacity=\"1\" /><polyline clip-path=\"url(#clip582)\" style=\"stroke:#000000; stroke-linecap:butt; stroke-linejoin:round; stroke-width:2; stroke-opacity:0.1; fill:none\" points=\"\n",
       "  186.274,1445.72 2352.76,1445.72 \n",
       "  \"/>\n",
       "<polyline clip-path=\"url(#clip582)\" style=\"stroke:#000000; stroke-linecap:butt; stroke-linejoin:round; stroke-width:2; stroke-opacity:0.1; fill:none\" points=\"\n",
       "  186.274,1106.28 2352.76,1106.28 \n",
       "  \"/>\n",
       "<polyline clip-path=\"url(#clip582)\" style=\"stroke:#000000; stroke-linecap:butt; stroke-linejoin:round; stroke-width:2; stroke-opacity:0.1; fill:none\" points=\"\n",
       "  186.274,766.846 2352.76,766.846 \n",
       "  \"/>\n",
       "<polyline clip-path=\"url(#clip582)\" style=\"stroke:#000000; stroke-linecap:butt; stroke-linejoin:round; stroke-width:2; stroke-opacity:0.1; fill:none\" points=\"\n",
       "  186.274,427.411 2352.76,427.411 \n",
       "  \"/>\n",
       "<polyline clip-path=\"url(#clip582)\" style=\"stroke:#000000; stroke-linecap:butt; stroke-linejoin:round; stroke-width:2; stroke-opacity:0.1; fill:none\" points=\"\n",
       "  186.274,87.9763 2352.76,87.9763 \n",
       "  \"/>\n",
       "<polyline clip-path=\"url(#clip580)\" style=\"stroke:#000000; stroke-linecap:butt; stroke-linejoin:round; stroke-width:4; stroke-opacity:1; fill:none\" points=\"\n",
       "  186.274,1486.45 186.274,47.2441 \n",
       "  \"/>\n",
       "<polyline clip-path=\"url(#clip580)\" style=\"stroke:#000000; stroke-linecap:butt; stroke-linejoin:round; stroke-width:4; stroke-opacity:1; fill:none\" points=\"\n",
       "  186.274,1445.72 205.172,1445.72 \n",
       "  \"/>\n",
       "<polyline clip-path=\"url(#clip580)\" style=\"stroke:#000000; stroke-linecap:butt; stroke-linejoin:round; stroke-width:4; stroke-opacity:1; fill:none\" points=\"\n",
       "  186.274,1106.28 205.172,1106.28 \n",
       "  \"/>\n",
       "<polyline clip-path=\"url(#clip580)\" style=\"stroke:#000000; stroke-linecap:butt; stroke-linejoin:round; stroke-width:4; stroke-opacity:1; fill:none\" points=\"\n",
       "  186.274,766.846 205.172,766.846 \n",
       "  \"/>\n",
       "<polyline clip-path=\"url(#clip580)\" style=\"stroke:#000000; stroke-linecap:butt; stroke-linejoin:round; stroke-width:4; stroke-opacity:1; fill:none\" points=\"\n",
       "  186.274,427.411 205.172,427.411 \n",
       "  \"/>\n",
       "<polyline clip-path=\"url(#clip580)\" style=\"stroke:#000000; stroke-linecap:butt; stroke-linejoin:round; stroke-width:4; stroke-opacity:1; fill:none\" points=\"\n",
       "  186.274,87.9763 205.172,87.9763 \n",
       "  \"/>\n",
       "<path clip-path=\"url(#clip580)\" d=\"M62.9365 1431.51 Q59.3254 1431.51 57.4967 1435.08 Q55.6912 1438.62 55.6912 1445.75 Q55.6912 1452.86 57.4967 1456.42 Q59.3254 1459.96 62.9365 1459.96 Q66.5707 1459.96 68.3763 1456.42 Q70.205 1452.86 70.205 1445.75 Q70.205 1438.62 68.3763 1435.08 Q66.5707 1431.51 62.9365 1431.51 M62.9365 1427.81 Q68.7467 1427.81 71.8022 1432.42 Q74.8809 1437 74.8809 1445.75 Q74.8809 1454.48 71.8022 1459.08 Q68.7467 1463.67 62.9365 1463.67 Q57.1264 1463.67 54.0477 1459.08 Q50.9921 1454.48 50.9921 1445.75 Q50.9921 1437 54.0477 1432.42 Q57.1264 1427.81 62.9365 1427.81 Z\" fill=\"#000000\" fill-rule=\"evenodd\" fill-opacity=\"1\" /><path clip-path=\"url(#clip580)\" d=\"M83.0984 1457.12 L87.9827 1457.12 L87.9827 1463 L83.0984 1463 L83.0984 1457.12 Z\" fill=\"#000000\" fill-rule=\"evenodd\" fill-opacity=\"1\" /><path clip-path=\"url(#clip580)\" d=\"M108.168 1431.51 Q104.557 1431.51 102.728 1435.08 Q100.922 1438.62 100.922 1445.75 Q100.922 1452.86 102.728 1456.42 Q104.557 1459.96 108.168 1459.96 Q111.802 1459.96 113.608 1456.42 Q115.436 1452.86 115.436 1445.75 Q115.436 1438.62 113.608 1435.08 Q111.802 1431.51 108.168 1431.51 M108.168 1427.81 Q113.978 1427.81 117.033 1432.42 Q120.112 1437 120.112 1445.75 Q120.112 1454.48 117.033 1459.08 Q113.978 1463.67 108.168 1463.67 Q102.358 1463.67 99.2789 1459.08 Q96.2234 1454.48 96.2234 1445.75 Q96.2234 1437 99.2789 1432.42 Q102.358 1427.81 108.168 1427.81 Z\" fill=\"#000000\" fill-rule=\"evenodd\" fill-opacity=\"1\" /><path clip-path=\"url(#clip580)\" d=\"M138.33 1431.51 Q134.719 1431.51 132.89 1435.08 Q131.084 1438.62 131.084 1445.75 Q131.084 1452.86 132.89 1456.42 Q134.719 1459.96 138.33 1459.96 Q141.964 1459.96 143.769 1456.42 Q145.598 1452.86 145.598 1445.75 Q145.598 1438.62 143.769 1435.08 Q141.964 1431.51 138.33 1431.51 M138.33 1427.81 Q144.14 1427.81 147.195 1432.42 Q150.274 1437 150.274 1445.75 Q150.274 1454.48 147.195 1459.08 Q144.14 1463.67 138.33 1463.67 Q132.519 1463.67 129.441 1459.08 Q126.385 1454.48 126.385 1445.75 Q126.385 1437 129.441 1432.42 Q132.519 1427.81 138.33 1427.81 Z\" fill=\"#000000\" fill-rule=\"evenodd\" fill-opacity=\"1\" /><path clip-path=\"url(#clip580)\" d=\"M63.9319 1092.08 Q60.3208 1092.08 58.4921 1095.64 Q56.6865 1099.19 56.6865 1106.32 Q56.6865 1113.42 58.4921 1116.99 Q60.3208 1120.53 63.9319 1120.53 Q67.5661 1120.53 69.3717 1116.99 Q71.2004 1113.42 71.2004 1106.32 Q71.2004 1099.19 69.3717 1095.64 Q67.5661 1092.08 63.9319 1092.08 M63.9319 1088.38 Q69.742 1088.38 72.7976 1092.98 Q75.8763 1097.57 75.8763 1106.32 Q75.8763 1115.04 72.7976 1119.65 Q69.742 1124.23 63.9319 1124.23 Q58.1217 1124.23 55.043 1119.65 Q51.9875 1115.04 51.9875 1106.32 Q51.9875 1097.57 55.043 1092.98 Q58.1217 1088.38 63.9319 1088.38 Z\" fill=\"#000000\" fill-rule=\"evenodd\" fill-opacity=\"1\" /><path clip-path=\"url(#clip580)\" d=\"M84.0938 1117.68 L88.978 1117.68 L88.978 1123.56 L84.0938 1123.56 L84.0938 1117.68 Z\" fill=\"#000000\" fill-rule=\"evenodd\" fill-opacity=\"1\" /><path clip-path=\"url(#clip580)\" d=\"M103.191 1119.63 L119.51 1119.63 L119.51 1123.56 L97.566 1123.56 L97.566 1119.63 Q100.228 1116.87 104.811 1112.24 Q109.418 1107.59 110.598 1106.25 Q112.844 1103.72 113.723 1101.99 Q114.626 1100.23 114.626 1098.54 Q114.626 1095.78 112.682 1094.05 Q110.76 1092.31 107.658 1092.31 Q105.459 1092.31 103.006 1093.07 Q100.575 1093.84 97.7974 1095.39 L97.7974 1090.67 Q100.621 1089.53 103.075 1088.95 Q105.529 1088.38 107.566 1088.38 Q112.936 1088.38 116.131 1091.06 Q119.325 1093.75 119.325 1098.24 Q119.325 1100.37 118.515 1102.29 Q117.728 1104.19 115.621 1106.78 Q115.043 1107.45 111.941 1110.67 Q108.839 1113.86 103.191 1119.63 Z\" fill=\"#000000\" fill-rule=\"evenodd\" fill-opacity=\"1\" /><path clip-path=\"url(#clip580)\" d=\"M129.371 1089 L147.728 1089 L147.728 1092.94 L133.654 1092.94 L133.654 1101.41 Q134.672 1101.06 135.691 1100.9 Q136.709 1100.71 137.728 1100.71 Q143.515 1100.71 146.894 1103.89 Q150.274 1107.06 150.274 1112.47 Q150.274 1118.05 146.802 1121.15 Q143.33 1124.23 137.01 1124.23 Q134.834 1124.23 132.566 1123.86 Q130.32 1123.49 127.913 1122.75 L127.913 1118.05 Q129.996 1119.19 132.219 1119.74 Q134.441 1120.3 136.918 1120.3 Q140.922 1120.3 143.26 1118.19 Q145.598 1116.08 145.598 1112.47 Q145.598 1108.86 143.26 1106.76 Q140.922 1104.65 136.918 1104.65 Q135.043 1104.65 133.168 1105.07 Q131.316 1105.48 129.371 1106.36 L129.371 1089 Z\" fill=\"#000000\" fill-rule=\"evenodd\" fill-opacity=\"1\" /><path clip-path=\"url(#clip580)\" d=\"M62.9365 752.645 Q59.3254 752.645 57.4967 756.209 Q55.6912 759.751 55.6912 766.881 Q55.6912 773.987 57.4967 777.552 Q59.3254 781.094 62.9365 781.094 Q66.5707 781.094 68.3763 777.552 Q70.205 773.987 70.205 766.881 Q70.205 759.751 68.3763 756.209 Q66.5707 752.645 62.9365 752.645 M62.9365 748.941 Q68.7467 748.941 71.8022 753.547 Q74.8809 758.131 74.8809 766.881 Q74.8809 775.608 71.8022 780.214 Q68.7467 784.797 62.9365 784.797 Q57.1264 784.797 54.0477 780.214 Q50.9921 775.608 50.9921 766.881 Q50.9921 758.131 54.0477 753.547 Q57.1264 748.941 62.9365 748.941 Z\" fill=\"#000000\" fill-rule=\"evenodd\" fill-opacity=\"1\" /><path clip-path=\"url(#clip580)\" d=\"M83.0984 778.246 L87.9827 778.246 L87.9827 784.126 L83.0984 784.126 L83.0984 778.246 Z\" fill=\"#000000\" fill-rule=\"evenodd\" fill-opacity=\"1\" /><path clip-path=\"url(#clip580)\" d=\"M98.2141 749.566 L116.57 749.566 L116.57 753.501 L102.496 753.501 L102.496 761.973 Q103.515 761.626 104.534 761.464 Q105.552 761.279 106.571 761.279 Q112.358 761.279 115.737 764.45 Q119.117 767.621 119.117 773.038 Q119.117 778.617 115.645 781.719 Q112.172 784.797 105.853 784.797 Q103.677 784.797 101.409 784.427 Q99.1632 784.057 96.7558 783.316 L96.7558 778.617 Q98.8391 779.751 101.061 780.307 Q103.284 780.862 105.76 780.862 Q109.765 780.862 112.103 778.756 Q114.441 776.649 114.441 773.038 Q114.441 769.427 112.103 767.321 Q109.765 765.214 105.76 765.214 Q103.885 765.214 102.01 765.631 Q100.159 766.047 98.2141 766.927 L98.2141 749.566 Z\" fill=\"#000000\" fill-rule=\"evenodd\" fill-opacity=\"1\" /><path clip-path=\"url(#clip580)\" d=\"M138.33 752.645 Q134.719 752.645 132.89 756.209 Q131.084 759.751 131.084 766.881 Q131.084 773.987 132.89 777.552 Q134.719 781.094 138.33 781.094 Q141.964 781.094 143.769 777.552 Q145.598 773.987 145.598 766.881 Q145.598 759.751 143.769 756.209 Q141.964 752.645 138.33 752.645 M138.33 748.941 Q144.14 748.941 147.195 753.547 Q150.274 758.131 150.274 766.881 Q150.274 775.608 147.195 780.214 Q144.14 784.797 138.33 784.797 Q132.519 784.797 129.441 780.214 Q126.385 775.608 126.385 766.881 Q126.385 758.131 129.441 753.547 Q132.519 748.941 138.33 748.941 Z\" fill=\"#000000\" fill-rule=\"evenodd\" fill-opacity=\"1\" /><path clip-path=\"url(#clip580)\" d=\"M63.9319 413.21 Q60.3208 413.21 58.4921 416.775 Q56.6865 420.316 56.6865 427.446 Q56.6865 434.552 58.4921 438.117 Q60.3208 441.659 63.9319 441.659 Q67.5661 441.659 69.3717 438.117 Q71.2004 434.552 71.2004 427.446 Q71.2004 420.316 69.3717 416.775 Q67.5661 413.21 63.9319 413.21 M63.9319 409.506 Q69.742 409.506 72.7976 414.113 Q75.8763 418.696 75.8763 427.446 Q75.8763 436.173 72.7976 440.779 Q69.742 445.362 63.9319 445.362 Q58.1217 445.362 55.043 440.779 Q51.9875 436.173 51.9875 427.446 Q51.9875 418.696 55.043 414.113 Q58.1217 409.506 63.9319 409.506 Z\" fill=\"#000000\" fill-rule=\"evenodd\" fill-opacity=\"1\" /><path clip-path=\"url(#clip580)\" d=\"M84.0938 438.812 L88.978 438.812 L88.978 444.691 L84.0938 444.691 L84.0938 438.812 Z\" fill=\"#000000\" fill-rule=\"evenodd\" fill-opacity=\"1\" /><path clip-path=\"url(#clip580)\" d=\"M97.9826 410.131 L120.205 410.131 L120.205 412.122 L107.658 444.691 L102.774 444.691 L114.58 414.066 L97.9826 414.066 L97.9826 410.131 Z\" fill=\"#000000\" fill-rule=\"evenodd\" fill-opacity=\"1\" /><path clip-path=\"url(#clip580)\" d=\"M129.371 410.131 L147.728 410.131 L147.728 414.066 L133.654 414.066 L133.654 422.538 Q134.672 422.191 135.691 422.029 Q136.709 421.844 137.728 421.844 Q143.515 421.844 146.894 425.015 Q150.274 428.187 150.274 433.603 Q150.274 439.182 146.802 442.284 Q143.33 445.362 137.01 445.362 Q134.834 445.362 132.566 444.992 Q130.32 444.622 127.913 443.881 L127.913 439.182 Q129.996 440.316 132.219 440.872 Q134.441 441.427 136.918 441.427 Q140.922 441.427 143.26 439.321 Q145.598 437.214 145.598 433.603 Q145.598 429.992 143.26 427.886 Q140.922 425.779 136.918 425.779 Q135.043 425.779 133.168 426.196 Q131.316 426.613 129.371 427.492 L129.371 410.131 Z\" fill=\"#000000\" fill-rule=\"evenodd\" fill-opacity=\"1\" /><path clip-path=\"url(#clip580)\" d=\"M53.7467 101.321 L61.3856 101.321 L61.3856 74.9555 L53.0754 76.6222 L53.0754 72.3629 L61.3393 70.6963 L66.0152 70.6963 L66.0152 101.321 L73.654 101.321 L73.654 105.256 L53.7467 105.256 L53.7467 101.321 Z\" fill=\"#000000\" fill-rule=\"evenodd\" fill-opacity=\"1\" /><path clip-path=\"url(#clip580)\" d=\"M83.0984 99.3767 L87.9827 99.3767 L87.9827 105.256 L83.0984 105.256 L83.0984 99.3767 Z\" fill=\"#000000\" fill-rule=\"evenodd\" fill-opacity=\"1\" /><path clip-path=\"url(#clip580)\" d=\"M108.168 73.775 Q104.557 73.775 102.728 77.3398 Q100.922 80.8814 100.922 88.011 Q100.922 95.1174 102.728 98.6822 Q104.557 102.224 108.168 102.224 Q111.802 102.224 113.608 98.6822 Q115.436 95.1174 115.436 88.011 Q115.436 80.8814 113.608 77.3398 Q111.802 73.775 108.168 73.775 M108.168 70.0713 Q113.978 70.0713 117.033 74.6777 Q120.112 79.261 120.112 88.011 Q120.112 96.7378 117.033 101.344 Q113.978 105.928 108.168 105.928 Q102.358 105.928 99.2789 101.344 Q96.2234 96.7378 96.2234 88.011 Q96.2234 79.261 99.2789 74.6777 Q102.358 70.0713 108.168 70.0713 Z\" fill=\"#000000\" fill-rule=\"evenodd\" fill-opacity=\"1\" /><path clip-path=\"url(#clip580)\" d=\"M138.33 73.775 Q134.719 73.775 132.89 77.3398 Q131.084 80.8814 131.084 88.011 Q131.084 95.1174 132.89 98.6822 Q134.719 102.224 138.33 102.224 Q141.964 102.224 143.769 98.6822 Q145.598 95.1174 145.598 88.011 Q145.598 80.8814 143.769 77.3398 Q141.964 73.775 138.33 73.775 M138.33 70.0713 Q144.14 70.0713 147.195 74.6777 Q150.274 79.261 150.274 88.011 Q150.274 96.7378 147.195 101.344 Q144.14 105.928 138.33 105.928 Q132.519 105.928 129.441 101.344 Q126.385 96.7378 126.385 88.011 Q126.385 79.261 129.441 74.6777 Q132.519 70.0713 138.33 70.0713 Z\" fill=\"#000000\" fill-rule=\"evenodd\" fill-opacity=\"1\" /><polyline clip-path=\"url(#clip582)\" style=\"stroke:#009af9; stroke-linecap:butt; stroke-linejoin:round; stroke-width:4; stroke-opacity:1; fill:none\" points=\"\n",
       "  247.59,1428.34 355.161,1411.09 462.732,1374.57 570.303,1318.09 677.874,1234.59 785.445,1104.79 893.016,938.328 1000.59,754.219 1108.16,576.219 1215.73,409.625 \n",
       "  1323.3,272.357 1430.87,183.425 1538.44,135.769 1646.01,109.7 1753.58,96.53 1861.16,91.6422 1968.73,88.9267 2076.3,88.1121 2183.87,88.1121 2291.44,87.9763 \n",
       "  \n",
       "  \"/>\n",
       "<polyline clip-path=\"url(#clip582)\" style=\"stroke:#e26f46; stroke-linecap:butt; stroke-linejoin:round; stroke-width:4; stroke-opacity:1; fill:none\" points=\"\n",
       "  247.59,1445.72 355.161,1445.72 462.732,1445.72 570.303,1445.72 677.874,1445.72 785.445,1445.72 893.016,1445.35 1000.59,1445.19 1108.16,1367.73 1215.73,88.6471 \n",
       "  1323.3,87.9835 1430.87,87.9767 1538.44,87.9763 1646.01,87.9763 1753.58,87.9763 1861.16,87.9763 1968.73,87.9763 2076.3,87.9763 2183.87,87.9763 2291.44,87.9763 \n",
       "  \n",
       "  \"/>\n",
       "<polyline clip-path=\"url(#clip582)\" style=\"stroke:#3da44d; stroke-linecap:butt; stroke-linejoin:round; stroke-width:4; stroke-opacity:1; fill:none\" points=\"\n",
       "  247.59,1426.85 268.234,1419.8 288.879,1411.05 309.524,1400.43 330.169,1387.89 350.814,1373.5 371.459,1357.37 392.104,1339.64 412.749,1320.47 433.394,1300 \n",
       "  454.039,1278.37 474.684,1255.73 495.329,1232.18 515.974,1207.84 536.619,1182.81 557.264,1157.17 577.909,1131.01 598.554,1104.39 619.199,1077.38 639.844,1050.03 \n",
       "  660.489,1022.41 681.134,994.563 701.779,966.536 722.424,938.374 743.069,910.123 763.713,881.824 784.358,853.518 805.003,825.248 825.648,797.052 846.293,768.971 \n",
       "  866.938,741.044 887.583,713.31 908.228,685.808 928.873,658.574 949.518,631.647 970.163,605.064 990.808,578.858 1011.45,553.066 1032.1,527.72 1052.74,502.851 \n",
       "  1073.39,478.491 1094.03,454.668 1114.68,431.408 1135.32,408.735 1155.97,386.673 1176.61,365.242 1197.26,344.46 1217.9,324.343 1238.55,304.903 1259.19,286.153 \n",
       "  1279.84,268.1 1300.48,250.752 1321.13,234.11 1341.77,218.178 1362.42,202.954 1383.06,188.434 1403.71,174.614 1424.35,161.486 1445,149.04 1465.64,137.265 \n",
       "  1486.29,126.148 1506.93,115.676 1527.58,105.834 1548.22,96.6057 1568.87,87.9763 1589.51,87.9763 1610.16,87.9763 1630.8,87.9763 1651.45,87.9763 1672.09,87.9763 \n",
       "  1692.74,87.9763 1713.38,87.9763 1734.03,87.9763 1754.67,87.9763 1775.32,87.9763 1795.96,87.9763 1816.61,87.9763 1837.25,87.9763 1857.9,87.9763 1878.54,87.9763 \n",
       "  1899.19,87.9763 1919.83,87.9763 1940.48,87.9763 1961.12,87.9763 1981.77,87.9763 2002.41,87.9763 2023.06,87.9763 2043.7,87.9763 2064.35,87.9763 2084.99,87.9763 \n",
       "  2105.64,87.9763 2126.28,87.9763 2146.93,87.9763 2167.57,87.9763 2188.22,87.9763 2208.86,87.9763 2229.51,87.9763 2250.15,87.9763 2270.8,87.9763 2291.44,87.9763 \n",
       "  \n",
       "  \"/>\n",
       "<path clip-path=\"url(#clip580)\" d=\"\n",
       "M1883.11 302.578 L2280.54 302.578 L2280.54 95.2176 L1883.11 95.2176  Z\n",
       "  \" fill=\"#ffffff\" fill-rule=\"evenodd\" fill-opacity=\"1\"/>\n",
       "<polyline clip-path=\"url(#clip580)\" style=\"stroke:#000000; stroke-linecap:butt; stroke-linejoin:round; stroke-width:4; stroke-opacity:1; fill:none\" points=\"\n",
       "  1883.11,302.578 2280.54,302.578 2280.54,95.2176 1883.11,95.2176 1883.11,302.578 \n",
       "  \"/>\n",
       "<polyline clip-path=\"url(#clip580)\" style=\"stroke:#009af9; stroke-linecap:butt; stroke-linejoin:round; stroke-width:4; stroke-opacity:1; fill:none\" points=\"\n",
       "  1907.18,147.058 2051.61,147.058 \n",
       "  \"/>\n",
       "<path clip-path=\"url(#clip580)\" d=\"M2096.19 139.407 L2096.19 143.389 Q2094.39 142.393 2092.56 141.907 Q2090.75 141.398 2088.9 141.398 Q2084.76 141.398 2082.47 144.037 Q2080.17 146.652 2080.17 151.398 Q2080.17 156.143 2082.47 158.782 Q2084.76 161.398 2088.9 161.398 Q2090.75 161.398 2092.56 160.912 Q2094.39 160.402 2096.19 159.407 L2096.19 163.342 Q2094.41 164.176 2092.49 164.592 Q2090.59 165.009 2088.44 165.009 Q2082.58 165.009 2079.13 161.328 Q2075.68 157.648 2075.68 151.398 Q2075.68 145.055 2079.16 141.421 Q2082.65 137.787 2088.72 137.787 Q2090.68 137.787 2092.56 138.203 Q2094.43 138.597 2096.19 139.407 Z\" fill=\"#000000\" fill-rule=\"evenodd\" fill-opacity=\"1\" /><path clip-path=\"url(#clip580)\" d=\"M2115.38 151.305 Q2110.22 151.305 2108.23 152.486 Q2106.24 153.666 2106.24 156.514 Q2106.24 158.782 2107.72 160.125 Q2109.23 161.444 2111.79 161.444 Q2115.34 161.444 2117.47 158.944 Q2119.62 156.421 2119.62 152.254 L2119.62 151.305 L2115.38 151.305 M2123.88 149.546 L2123.88 164.338 L2119.62 164.338 L2119.62 160.402 Q2118.16 162.763 2115.98 163.898 Q2113.81 165.009 2110.66 165.009 Q2106.68 165.009 2104.32 162.787 Q2101.98 160.541 2101.98 156.791 Q2101.98 152.416 2104.9 150.194 Q2107.84 147.972 2113.65 147.972 L2119.62 147.972 L2119.62 147.555 Q2119.62 144.615 2117.67 143.018 Q2115.75 141.398 2112.26 141.398 Q2110.04 141.398 2107.93 141.93 Q2105.82 142.463 2103.88 143.527 L2103.88 139.592 Q2106.22 138.69 2108.41 138.25 Q2110.61 137.787 2112.7 137.787 Q2118.32 137.787 2121.1 140.703 Q2123.88 143.62 2123.88 149.546 Z\" fill=\"#000000\" fill-rule=\"evenodd\" fill-opacity=\"1\" /><path clip-path=\"url(#clip580)\" d=\"M2132.21 154.106 L2132.21 138.412 L2136.47 138.412 L2136.47 153.944 Q2136.47 157.625 2137.91 159.476 Q2139.34 161.305 2142.21 161.305 Q2145.66 161.305 2147.65 159.106 Q2149.66 156.907 2149.66 153.111 L2149.66 138.412 L2153.92 138.412 L2153.92 164.338 L2149.66 164.338 L2149.66 160.356 Q2148.11 162.717 2146.05 163.875 Q2144.02 165.009 2141.31 165.009 Q2136.84 165.009 2134.53 162.231 Q2132.21 159.453 2132.21 154.106 M2142.93 137.787 L2142.93 137.787 Z\" fill=\"#000000\" fill-rule=\"evenodd\" fill-opacity=\"1\" /><polyline clip-path=\"url(#clip580)\" style=\"stroke:#e26f46; stroke-linecap:butt; stroke-linejoin:round; stroke-width:4; stroke-opacity:1; fill:none\" points=\"\n",
       "  1907.18,198.898 2051.61,198.898 \n",
       "  \"/>\n",
       "<path clip-path=\"url(#clip580)\" d=\"M2075.68 190.252 L2079.94 190.252 L2085.27 210.483 L2090.57 190.252 L2095.59 190.252 L2100.92 210.483 L2106.22 190.252 L2110.48 190.252 L2103.69 216.178 L2098.67 216.178 L2093.09 194.928 L2087.49 216.178 L2082.47 216.178 L2075.68 190.252 Z\" fill=\"#000000\" fill-rule=\"evenodd\" fill-opacity=\"1\" /><path clip-path=\"url(#clip580)\" d=\"M2139.11 202.15 L2139.11 204.233 L2119.53 204.233 Q2119.8 208.631 2122.16 210.946 Q2124.55 213.238 2128.79 213.238 Q2131.24 213.238 2133.53 212.636 Q2135.85 212.034 2138.11 210.83 L2138.11 214.858 Q2135.82 215.83 2133.41 216.34 Q2131.01 216.849 2128.53 216.849 Q2122.33 216.849 2118.69 213.238 Q2115.08 209.627 2115.08 203.469 Q2115.08 197.104 2118.51 193.377 Q2121.96 189.627 2127.79 189.627 Q2133.02 189.627 2136.05 193.006 Q2139.11 196.363 2139.11 202.15 M2134.85 200.9 Q2134.8 197.405 2132.88 195.321 Q2130.98 193.238 2127.84 193.238 Q2124.27 193.238 2122.12 195.252 Q2119.99 197.266 2119.66 200.923 L2134.85 200.9 Z\" fill=\"#000000\" fill-rule=\"evenodd\" fill-opacity=\"1\" /><path clip-path=\"url(#clip580)\" d=\"M2146.1 190.252 L2150.36 190.252 L2150.36 216.178 L2146.1 216.178 L2146.1 190.252 M2146.1 180.159 L2150.36 180.159 L2150.36 185.553 L2146.1 185.553 L2146.1 180.159 Z\" fill=\"#000000\" fill-rule=\"evenodd\" fill-opacity=\"1\" /><path clip-path=\"url(#clip580)\" d=\"M2176.33 202.914 Q2176.33 198.284 2174.41 195.738 Q2172.51 193.192 2169.06 193.192 Q2165.64 193.192 2163.72 195.738 Q2161.82 198.284 2161.82 202.914 Q2161.82 207.52 2163.72 210.066 Q2165.64 212.613 2169.06 212.613 Q2172.51 212.613 2174.41 210.066 Q2176.33 207.52 2176.33 202.914 M2180.59 212.96 Q2180.59 219.58 2177.65 222.798 Q2174.71 226.039 2168.65 226.039 Q2166.4 226.039 2164.41 225.691 Q2162.42 225.367 2160.54 224.673 L2160.54 220.529 Q2162.42 221.548 2164.25 222.034 Q2166.08 222.52 2167.97 222.52 Q2172.16 222.52 2174.25 220.321 Q2176.33 218.145 2176.33 213.724 L2176.33 211.617 Q2175.01 213.909 2172.95 215.043 Q2170.89 216.178 2168.02 216.178 Q2163.25 216.178 2160.34 212.543 Q2157.42 208.909 2157.42 202.914 Q2157.42 196.895 2160.34 193.261 Q2163.25 189.627 2168.02 189.627 Q2170.89 189.627 2172.95 190.761 Q2175.01 191.895 2176.33 194.187 L2176.33 190.252 L2180.59 190.252 L2180.59 212.96 Z\" fill=\"#000000\" fill-rule=\"evenodd\" fill-opacity=\"1\" /><path clip-path=\"url(#clip580)\" d=\"M2210.91 200.529 L2210.91 216.178 L2206.66 216.178 L2206.66 200.668 Q2206.66 196.988 2205.22 195.159 Q2203.78 193.33 2200.91 193.33 Q2197.47 193.33 2195.47 195.53 Q2193.48 197.729 2193.48 201.525 L2193.48 216.178 L2189.2 216.178 L2189.2 180.159 L2193.48 180.159 L2193.48 194.28 Q2195.01 191.942 2197.07 190.784 Q2199.16 189.627 2201.86 189.627 Q2206.33 189.627 2208.62 192.405 Q2210.91 195.159 2210.91 200.529 Z\" fill=\"#000000\" fill-rule=\"evenodd\" fill-opacity=\"1\" /><path clip-path=\"url(#clip580)\" d=\"M2223.62 182.891 L2223.62 190.252 L2232.4 190.252 L2232.4 193.562 L2223.62 193.562 L2223.62 207.636 Q2223.62 210.807 2224.48 211.71 Q2225.36 212.613 2228.02 212.613 L2232.4 212.613 L2232.4 216.178 L2228.02 216.178 Q2223.09 216.178 2221.22 214.349 Q2219.34 212.497 2219.34 207.636 L2219.34 193.562 L2216.22 193.562 L2216.22 190.252 L2219.34 190.252 L2219.34 182.891 L2223.62 182.891 Z\" fill=\"#000000\" fill-rule=\"evenodd\" fill-opacity=\"1\" /><polyline clip-path=\"url(#clip580)\" style=\"stroke:#3da44d; stroke-linecap:butt; stroke-linejoin:round; stroke-width:4; stroke-opacity:1; fill:none\" points=\"\n",
       "  1907.18,250.738 2051.61,250.738 \n",
       "  \"/>\n",
       "<path clip-path=\"url(#clip580)\" d=\"M2094.11 242.856 L2094.11 246.883 Q2092.3 245.957 2090.36 245.495 Q2088.42 245.032 2086.33 245.032 Q2083.16 245.032 2081.56 246.004 Q2079.99 246.976 2079.99 248.92 Q2079.99 250.402 2081.12 251.258 Q2082.26 252.092 2085.68 252.856 L2087.14 253.18 Q2091.68 254.152 2093.58 255.934 Q2095.5 257.694 2095.5 260.865 Q2095.5 264.476 2092.63 266.582 Q2089.78 268.689 2084.78 268.689 Q2082.7 268.689 2080.43 268.272 Q2078.18 267.879 2075.68 267.068 L2075.68 262.67 Q2078.04 263.897 2080.34 264.522 Q2082.63 265.124 2084.87 265.124 Q2087.88 265.124 2089.5 264.106 Q2091.12 263.064 2091.12 261.189 Q2091.12 259.453 2089.94 258.527 Q2088.79 257.601 2084.83 256.744 L2083.35 256.397 Q2079.39 255.564 2077.63 253.851 Q2075.87 252.115 2075.87 249.106 Q2075.87 245.448 2078.46 243.458 Q2081.05 241.467 2085.82 241.467 Q2088.18 241.467 2090.27 241.814 Q2092.35 242.161 2094.11 242.856 Z\" fill=\"#000000\" fill-rule=\"evenodd\" fill-opacity=\"1\" /><path clip-path=\"url(#clip580)\" d=\"M2102.28 242.092 L2106.54 242.092 L2106.54 268.018 L2102.28 268.018 L2102.28 242.092 M2102.28 231.999 L2106.54 231.999 L2106.54 237.393 L2102.28 237.393 L2102.28 231.999 Z\" fill=\"#000000\" fill-rule=\"evenodd\" fill-opacity=\"1\" /><path clip-path=\"url(#clip580)\" d=\"M2134.06 255.078 Q2134.06 250.379 2132.12 247.717 Q2130.2 245.032 2126.82 245.032 Q2123.44 245.032 2121.49 247.717 Q2119.57 250.379 2119.57 255.078 Q2119.57 259.777 2121.49 262.462 Q2123.44 265.124 2126.82 265.124 Q2130.2 265.124 2132.12 262.462 Q2134.06 259.777 2134.06 255.078 M2119.57 246.027 Q2120.91 243.712 2122.95 242.601 Q2125.01 241.467 2127.86 241.467 Q2132.58 241.467 2135.52 245.217 Q2138.48 248.967 2138.48 255.078 Q2138.48 261.189 2135.52 264.939 Q2132.58 268.689 2127.86 268.689 Q2125.01 268.689 2122.95 267.578 Q2120.91 266.443 2119.57 264.129 L2119.57 268.018 L2115.29 268.018 L2115.29 231.999 L2119.57 231.999 L2119.57 246.027 Z\" fill=\"#000000\" fill-rule=\"evenodd\" fill-opacity=\"1\" /></svg>\n"
      ]
     },
     "execution_count": 251,
     "metadata": {},
     "output_type": "execute_result"
    }
   ],
   "source": [
    "#Marginals\n",
    "\n",
    "using Plots\n",
    "p_cau = zeros(N,Int(T))\n",
    "p_weight = zeros(N,Int(T))\n",
    "p_post = zeros(N, Int(T))\n",
    "for i = 1:N\n",
    "    for t = 1:Int(T)\n",
    "       p_cau[i,t] = marginal(i, t, statscau)  \n",
    "       p_weight[i,t] = marginalweight(i, t, statsw, w)  \n",
    "       #p_post[i,t] = marginal(i, t, stats)  \n",
    "    end\n",
    "end\n",
    "i = 39\n",
    "plot(p_cau[i,:], label = \"cau\")\n",
    "plot!(p_weight[i,:], label = \"weight\")\n",
    "#plot!(p_post[i,:])\n",
    "plot!(LinRange(1,Int(T),Int(round(T/dt))),p_sib[i,:], label = \"sib\")"
   ]
  },
  {
   "cell_type": "code",
   "execution_count": 252,
   "metadata": {},
   "outputs": [
    {
     "data": {
      "image/svg+xml": [
       "<?xml version=\"1.0\" encoding=\"utf-8\"?>\n",
       "<svg xmlns=\"http://www.w3.org/2000/svg\" xmlns:xlink=\"http://www.w3.org/1999/xlink\" width=\"600\" height=\"400\" viewBox=\"0 0 2400 1600\">\n",
       "<defs>\n",
       "  <clipPath id=\"clip620\">\n",
       "    <rect x=\"0\" y=\"0\" width=\"2400\" height=\"1600\"/>\n",
       "  </clipPath>\n",
       "</defs>\n",
       "<path clip-path=\"url(#clip620)\" d=\"\n",
       "M0 1600 L2400 1600 L2400 0 L0 0  Z\n",
       "  \" fill=\"#ffffff\" fill-rule=\"evenodd\" fill-opacity=\"1\"/>\n",
       "<defs>\n",
       "  <clipPath id=\"clip621\">\n",
       "    <rect x=\"480\" y=\"0\" width=\"1681\" height=\"1600\"/>\n",
       "  </clipPath>\n",
       "</defs>\n",
       "<path clip-path=\"url(#clip620)\" d=\"\n",
       "M219.542 1423.18 L2352.76 1423.18 L2352.76 123.472 L219.542 123.472  Z\n",
       "  \" fill=\"#ffffff\" fill-rule=\"evenodd\" fill-opacity=\"1\"/>\n",
       "<defs>\n",
       "  <clipPath id=\"clip622\">\n",
       "    <rect x=\"219\" y=\"123\" width=\"2134\" height=\"1301\"/>\n",
       "  </clipPath>\n",
       "</defs>\n",
       "<polyline clip-path=\"url(#clip622)\" style=\"stroke:#000000; stroke-linecap:butt; stroke-linejoin:round; stroke-width:2; stroke-opacity:0.1; fill:none\" points=\"\n",
       "  703.593,1423.18 703.593,123.472 \n",
       "  \"/>\n",
       "<polyline clip-path=\"url(#clip622)\" style=\"stroke:#000000; stroke-linecap:butt; stroke-linejoin:round; stroke-width:2; stroke-opacity:0.1; fill:none\" points=\"\n",
       "  1233.19,1423.18 1233.19,123.472 \n",
       "  \"/>\n",
       "<polyline clip-path=\"url(#clip622)\" style=\"stroke:#000000; stroke-linecap:butt; stroke-linejoin:round; stroke-width:2; stroke-opacity:0.1; fill:none\" points=\"\n",
       "  1762.79,1423.18 1762.79,123.472 \n",
       "  \"/>\n",
       "<polyline clip-path=\"url(#clip622)\" style=\"stroke:#000000; stroke-linecap:butt; stroke-linejoin:round; stroke-width:2; stroke-opacity:0.1; fill:none\" points=\"\n",
       "  2292.38,1423.18 2292.38,123.472 \n",
       "  \"/>\n",
       "<polyline clip-path=\"url(#clip620)\" style=\"stroke:#000000; stroke-linecap:butt; stroke-linejoin:round; stroke-width:4; stroke-opacity:1; fill:none\" points=\"\n",
       "  219.542,1423.18 2352.76,1423.18 \n",
       "  \"/>\n",
       "<polyline clip-path=\"url(#clip620)\" style=\"stroke:#000000; stroke-linecap:butt; stroke-linejoin:round; stroke-width:4; stroke-opacity:1; fill:none\" points=\"\n",
       "  703.593,1423.18 703.593,1404.28 \n",
       "  \"/>\n",
       "<polyline clip-path=\"url(#clip620)\" style=\"stroke:#000000; stroke-linecap:butt; stroke-linejoin:round; stroke-width:4; stroke-opacity:1; fill:none\" points=\"\n",
       "  1233.19,1423.18 1233.19,1404.28 \n",
       "  \"/>\n",
       "<polyline clip-path=\"url(#clip620)\" style=\"stroke:#000000; stroke-linecap:butt; stroke-linejoin:round; stroke-width:4; stroke-opacity:1; fill:none\" points=\"\n",
       "  1762.79,1423.18 1762.79,1404.28 \n",
       "  \"/>\n",
       "<polyline clip-path=\"url(#clip620)\" style=\"stroke:#000000; stroke-linecap:butt; stroke-linejoin:round; stroke-width:4; stroke-opacity:1; fill:none\" points=\"\n",
       "  2292.38,1423.18 2292.38,1404.28 \n",
       "  \"/>\n",
       "<path clip-path=\"url(#clip620)\" d=\"M693.871 1451.02 L712.227 1451.02 L712.227 1454.96 L698.153 1454.96 L698.153 1463.43 Q699.172 1463.08 700.19 1462.92 Q701.209 1462.73 702.227 1462.73 Q708.014 1462.73 711.394 1465.9 Q714.774 1469.08 714.774 1474.49 Q714.774 1480.07 711.301 1483.17 Q707.829 1486.25 701.51 1486.25 Q699.334 1486.25 697.065 1485.88 Q694.82 1485.51 692.413 1484.77 L692.413 1480.07 Q694.496 1481.2 696.718 1481.76 Q698.94 1482.32 701.417 1482.32 Q705.422 1482.32 707.76 1480.21 Q710.098 1478.1 710.098 1474.49 Q710.098 1470.88 707.76 1468.77 Q705.422 1466.67 701.417 1466.67 Q699.542 1466.67 697.667 1467.08 Q695.815 1467.5 693.871 1468.38 L693.871 1451.02 Z\" fill=\"#000000\" fill-rule=\"evenodd\" fill-opacity=\"1\" /><path clip-path=\"url(#clip620)\" d=\"M1207.88 1481.64 L1215.52 1481.64 L1215.52 1455.28 L1207.21 1456.95 L1207.21 1452.69 L1215.47 1451.02 L1220.15 1451.02 L1220.15 1481.64 L1227.78 1481.64 L1227.78 1485.58 L1207.88 1485.58 L1207.88 1481.64 Z\" fill=\"#000000\" fill-rule=\"evenodd\" fill-opacity=\"1\" /><path clip-path=\"url(#clip620)\" d=\"M1247.23 1454.1 Q1243.62 1454.1 1241.79 1457.66 Q1239.98 1461.2 1239.98 1468.33 Q1239.98 1475.44 1241.79 1479.01 Q1243.62 1482.55 1247.23 1482.55 Q1250.86 1482.55 1252.67 1479.01 Q1254.5 1475.44 1254.5 1468.33 Q1254.5 1461.2 1252.67 1457.66 Q1250.86 1454.1 1247.23 1454.1 M1247.23 1450.39 Q1253.04 1450.39 1256.09 1455 Q1259.17 1459.58 1259.17 1468.33 Q1259.17 1477.06 1256.09 1481.67 Q1253.04 1486.25 1247.23 1486.25 Q1241.42 1486.25 1238.34 1481.67 Q1235.28 1477.06 1235.28 1468.33 Q1235.28 1459.58 1238.34 1455 Q1241.42 1450.39 1247.23 1450.39 Z\" fill=\"#000000\" fill-rule=\"evenodd\" fill-opacity=\"1\" /><path clip-path=\"url(#clip620)\" d=\"M1737.97 1481.64 L1745.61 1481.64 L1745.61 1455.28 L1737.3 1456.95 L1737.3 1452.69 L1745.56 1451.02 L1750.24 1451.02 L1750.24 1481.64 L1757.88 1481.64 L1757.88 1485.58 L1737.97 1485.58 L1737.97 1481.64 Z\" fill=\"#000000\" fill-rule=\"evenodd\" fill-opacity=\"1\" /><path clip-path=\"url(#clip620)\" d=\"M1767.37 1451.02 L1785.73 1451.02 L1785.73 1454.96 L1771.65 1454.96 L1771.65 1463.43 Q1772.67 1463.08 1773.69 1462.92 Q1774.71 1462.73 1775.73 1462.73 Q1781.51 1462.73 1784.89 1465.9 Q1788.27 1469.08 1788.27 1474.49 Q1788.27 1480.07 1784.8 1483.17 Q1781.33 1486.25 1775.01 1486.25 Q1772.83 1486.25 1770.56 1485.88 Q1768.32 1485.51 1765.91 1484.77 L1765.91 1480.07 Q1767.99 1481.2 1770.22 1481.76 Q1772.44 1482.32 1774.92 1482.32 Q1778.92 1482.32 1781.26 1480.21 Q1783.6 1478.1 1783.6 1474.49 Q1783.6 1470.88 1781.26 1468.77 Q1778.92 1466.67 1774.92 1466.67 Q1773.04 1466.67 1771.17 1467.08 Q1769.31 1467.5 1767.37 1468.38 L1767.37 1451.02 Z\" fill=\"#000000\" fill-rule=\"evenodd\" fill-opacity=\"1\" /><path clip-path=\"url(#clip620)\" d=\"M2271.16 1481.64 L2287.47 1481.64 L2287.47 1485.58 L2265.53 1485.58 L2265.53 1481.64 Q2268.19 1478.89 2272.78 1474.26 Q2277.38 1469.61 2278.56 1468.27 Q2280.81 1465.74 2281.69 1464.01 Q2282.59 1462.25 2282.59 1460.56 Q2282.59 1457.8 2280.65 1456.07 Q2278.72 1454.33 2275.62 1454.33 Q2273.42 1454.33 2270.97 1455.09 Q2268.54 1455.86 2265.76 1457.41 L2265.76 1452.69 Q2268.59 1451.55 2271.04 1450.97 Q2273.49 1450.39 2275.53 1450.39 Q2280.9 1450.39 2284.09 1453.08 Q2287.29 1455.77 2287.29 1460.26 Q2287.29 1462.39 2286.48 1464.31 Q2285.69 1466.2 2283.59 1468.8 Q2283.01 1469.47 2279.91 1472.69 Q2276.8 1475.88 2271.16 1481.64 Z\" fill=\"#000000\" fill-rule=\"evenodd\" fill-opacity=\"1\" /><path clip-path=\"url(#clip620)\" d=\"M2307.29 1454.1 Q2303.68 1454.1 2301.85 1457.66 Q2300.04 1461.2 2300.04 1468.33 Q2300.04 1475.44 2301.85 1479.01 Q2303.68 1482.55 2307.29 1482.55 Q2310.92 1482.55 2312.73 1479.01 Q2314.56 1475.44 2314.56 1468.33 Q2314.56 1461.2 2312.73 1457.66 Q2310.92 1454.1 2307.29 1454.1 M2307.29 1450.39 Q2313.1 1450.39 2316.15 1455 Q2319.23 1459.58 2319.23 1468.33 Q2319.23 1477.06 2316.15 1481.67 Q2313.1 1486.25 2307.29 1486.25 Q2301.48 1486.25 2298.4 1481.67 Q2295.34 1477.06 2295.34 1468.33 Q2295.34 1459.58 2298.4 1455 Q2301.48 1450.39 2307.29 1450.39 Z\" fill=\"#000000\" fill-rule=\"evenodd\" fill-opacity=\"1\" /><path clip-path=\"url(#clip620)\" d=\"M1285.21 1522.27 L1285.21 1532.4 L1297.27 1532.4 L1297.27 1536.95 L1285.21 1536.95 L1285.21 1556.3 Q1285.21 1560.66 1286.39 1561.9 Q1287.6 1563.14 1291.26 1563.14 L1297.27 1563.14 L1297.27 1568.04 L1291.26 1568.04 Q1284.48 1568.04 1281.9 1565.53 Q1279.32 1562.98 1279.32 1556.3 L1279.32 1536.95 L1275.02 1536.95 L1275.02 1532.4 L1279.32 1532.4 L1279.32 1522.27 L1285.21 1522.27 Z\" fill=\"#000000\" fill-rule=\"evenodd\" fill-opacity=\"1\" /><polyline clip-path=\"url(#clip622)\" style=\"stroke:#000000; stroke-linecap:butt; stroke-linejoin:round; stroke-width:2; stroke-opacity:0.1; fill:none\" points=\"\n",
       "  219.542,1322.24 2352.76,1322.24 \n",
       "  \"/>\n",
       "<polyline clip-path=\"url(#clip622)\" style=\"stroke:#000000; stroke-linecap:butt; stroke-linejoin:round; stroke-width:2; stroke-opacity:0.1; fill:none\" points=\"\n",
       "  219.542,1022.75 2352.76,1022.75 \n",
       "  \"/>\n",
       "<polyline clip-path=\"url(#clip622)\" style=\"stroke:#000000; stroke-linecap:butt; stroke-linejoin:round; stroke-width:2; stroke-opacity:0.1; fill:none\" points=\"\n",
       "  219.542,723.261 2352.76,723.261 \n",
       "  \"/>\n",
       "<polyline clip-path=\"url(#clip622)\" style=\"stroke:#000000; stroke-linecap:butt; stroke-linejoin:round; stroke-width:2; stroke-opacity:0.1; fill:none\" points=\"\n",
       "  219.542,423.771 2352.76,423.771 \n",
       "  \"/>\n",
       "<polyline clip-path=\"url(#clip622)\" style=\"stroke:#000000; stroke-linecap:butt; stroke-linejoin:round; stroke-width:2; stroke-opacity:0.1; fill:none\" points=\"\n",
       "  219.542,124.282 2352.76,124.282 \n",
       "  \"/>\n",
       "<polyline clip-path=\"url(#clip620)\" style=\"stroke:#000000; stroke-linecap:butt; stroke-linejoin:round; stroke-width:4; stroke-opacity:1; fill:none\" points=\"\n",
       "  219.542,1423.18 219.542,123.472 \n",
       "  \"/>\n",
       "<polyline clip-path=\"url(#clip620)\" style=\"stroke:#000000; stroke-linecap:butt; stroke-linejoin:round; stroke-width:4; stroke-opacity:1; fill:none\" points=\"\n",
       "  219.542,1322.24 238.44,1322.24 \n",
       "  \"/>\n",
       "<polyline clip-path=\"url(#clip620)\" style=\"stroke:#000000; stroke-linecap:butt; stroke-linejoin:round; stroke-width:4; stroke-opacity:1; fill:none\" points=\"\n",
       "  219.542,1022.75 238.44,1022.75 \n",
       "  \"/>\n",
       "<polyline clip-path=\"url(#clip620)\" style=\"stroke:#000000; stroke-linecap:butt; stroke-linejoin:round; stroke-width:4; stroke-opacity:1; fill:none\" points=\"\n",
       "  219.542,723.261 238.44,723.261 \n",
       "  \"/>\n",
       "<polyline clip-path=\"url(#clip620)\" style=\"stroke:#000000; stroke-linecap:butt; stroke-linejoin:round; stroke-width:4; stroke-opacity:1; fill:none\" points=\"\n",
       "  219.542,423.771 238.44,423.771 \n",
       "  \"/>\n",
       "<polyline clip-path=\"url(#clip620)\" style=\"stroke:#000000; stroke-linecap:butt; stroke-linejoin:round; stroke-width:4; stroke-opacity:1; fill:none\" points=\"\n",
       "  219.542,124.282 238.44,124.282 \n",
       "  \"/>\n",
       "<path clip-path=\"url(#clip620)\" d=\"M126.205 1308.04 Q122.593 1308.04 120.765 1311.6 Q118.959 1315.15 118.959 1322.28 Q118.959 1329.38 120.765 1332.95 Q122.593 1336.49 126.205 1336.49 Q129.839 1336.49 131.644 1332.95 Q133.473 1329.38 133.473 1322.28 Q133.473 1315.15 131.644 1311.6 Q129.839 1308.04 126.205 1308.04 M126.205 1304.34 Q132.015 1304.34 135.07 1308.94 Q138.149 1313.53 138.149 1322.28 Q138.149 1331 135.07 1335.61 Q132.015 1340.19 126.205 1340.19 Q120.394 1340.19 117.316 1335.61 Q114.26 1331 114.26 1322.28 Q114.26 1313.53 117.316 1308.94 Q120.394 1304.34 126.205 1304.34 Z\" fill=\"#000000\" fill-rule=\"evenodd\" fill-opacity=\"1\" /><path clip-path=\"url(#clip620)\" d=\"M146.366 1333.64 L151.251 1333.64 L151.251 1339.52 L146.366 1339.52 L146.366 1333.64 Z\" fill=\"#000000\" fill-rule=\"evenodd\" fill-opacity=\"1\" /><path clip-path=\"url(#clip620)\" d=\"M172.014 1320.38 Q168.866 1320.38 167.015 1322.53 Q165.186 1324.68 165.186 1328.43 Q165.186 1332.16 167.015 1334.34 Q168.866 1336.49 172.014 1336.49 Q175.163 1336.49 176.991 1334.34 Q178.843 1332.16 178.843 1328.43 Q178.843 1324.68 176.991 1322.53 Q175.163 1320.38 172.014 1320.38 M181.297 1305.72 L181.297 1309.98 Q179.538 1309.15 177.732 1308.71 Q175.95 1308.27 174.19 1308.27 Q169.561 1308.27 167.107 1311.4 Q164.677 1314.52 164.329 1320.84 Q165.695 1318.83 167.755 1317.76 Q169.815 1316.67 172.292 1316.67 Q177.501 1316.67 180.51 1319.84 Q183.542 1322.99 183.542 1328.43 Q183.542 1333.76 180.394 1336.97 Q177.246 1340.19 172.014 1340.19 Q166.019 1340.19 162.848 1335.61 Q159.677 1331 159.677 1322.28 Q159.677 1314.08 163.565 1309.22 Q167.454 1304.34 174.005 1304.34 Q175.764 1304.34 177.547 1304.68 Q179.352 1305.03 181.297 1305.72 Z\" fill=\"#000000\" fill-rule=\"evenodd\" fill-opacity=\"1\" /><path clip-path=\"url(#clip620)\" d=\"M127.269 1008.55 Q123.658 1008.55 121.83 1012.11 Q120.024 1015.66 120.024 1022.79 Q120.024 1029.89 121.83 1033.46 Q123.658 1037 127.269 1037 Q130.904 1037 132.709 1033.46 Q134.538 1029.89 134.538 1022.79 Q134.538 1015.66 132.709 1012.11 Q130.904 1008.55 127.269 1008.55 M127.269 1004.85 Q133.08 1004.85 136.135 1009.45 Q139.214 1014.04 139.214 1022.79 Q139.214 1031.51 136.135 1036.12 Q133.08 1040.7 127.269 1040.7 Q121.459 1040.7 118.381 1036.12 Q115.325 1031.51 115.325 1022.79 Q115.325 1014.04 118.381 1009.45 Q121.459 1004.85 127.269 1004.85 Z\" fill=\"#000000\" fill-rule=\"evenodd\" fill-opacity=\"1\" /><path clip-path=\"url(#clip620)\" d=\"M147.431 1034.15 L152.316 1034.15 L152.316 1040.03 L147.431 1040.03 L147.431 1034.15 Z\" fill=\"#000000\" fill-rule=\"evenodd\" fill-opacity=\"1\" /><path clip-path=\"url(#clip620)\" d=\"M161.32 1005.47 L183.542 1005.47 L183.542 1007.46 L170.996 1040.03 L166.112 1040.03 L177.917 1009.41 L161.32 1009.41 L161.32 1005.47 Z\" fill=\"#000000\" fill-rule=\"evenodd\" fill-opacity=\"1\" /><path clip-path=\"url(#clip620)\" d=\"M126.459 709.06 Q122.848 709.06 121.019 712.625 Q119.214 716.166 119.214 723.296 Q119.214 730.402 121.019 733.967 Q122.848 737.509 126.459 737.509 Q130.093 737.509 131.899 733.967 Q133.728 730.402 133.728 723.296 Q133.728 716.166 131.899 712.625 Q130.093 709.06 126.459 709.06 M126.459 705.356 Q132.269 705.356 135.325 709.963 Q138.404 714.546 138.404 723.296 Q138.404 732.023 135.325 736.629 Q132.269 741.212 126.459 741.212 Q120.649 741.212 117.57 736.629 Q114.515 732.023 114.515 723.296 Q114.515 714.546 117.57 709.963 Q120.649 705.356 126.459 705.356 Z\" fill=\"#000000\" fill-rule=\"evenodd\" fill-opacity=\"1\" /><path clip-path=\"url(#clip620)\" d=\"M146.621 734.662 L151.505 734.662 L151.505 740.541 L146.621 740.541 L146.621 734.662 Z\" fill=\"#000000\" fill-rule=\"evenodd\" fill-opacity=\"1\" /><path clip-path=\"url(#clip620)\" d=\"M171.69 724.129 Q168.357 724.129 166.436 725.912 Q164.538 727.694 164.538 730.819 Q164.538 733.944 166.436 735.726 Q168.357 737.509 171.69 737.509 Q175.024 737.509 176.945 735.726 Q178.866 733.921 178.866 730.819 Q178.866 727.694 176.945 725.912 Q175.047 724.129 171.69 724.129 M167.015 722.138 Q164.005 721.398 162.315 719.338 Q160.649 717.277 160.649 714.314 Q160.649 710.171 163.589 707.764 Q166.552 705.356 171.69 705.356 Q176.852 705.356 179.792 707.764 Q182.732 710.171 182.732 714.314 Q182.732 717.277 181.042 719.338 Q179.376 721.398 176.389 722.138 Q179.769 722.925 181.644 725.217 Q183.542 727.509 183.542 730.819 Q183.542 735.842 180.464 738.527 Q177.408 741.212 171.69 741.212 Q165.973 741.212 162.894 738.527 Q159.839 735.842 159.839 730.819 Q159.839 727.509 161.737 725.217 Q163.635 722.925 167.015 722.138 M165.302 714.754 Q165.302 717.439 166.968 718.944 Q168.658 720.449 171.69 720.449 Q174.7 720.449 176.389 718.944 Q178.102 717.439 178.102 714.754 Q178.102 712.069 176.389 710.564 Q174.7 709.06 171.69 709.06 Q168.658 709.06 166.968 710.564 Q165.302 712.069 165.302 714.754 Z\" fill=\"#000000\" fill-rule=\"evenodd\" fill-opacity=\"1\" /><path clip-path=\"url(#clip620)\" d=\"M126.552 409.57 Q122.941 409.57 121.112 413.135 Q119.306 416.676 119.306 423.806 Q119.306 430.913 121.112 434.477 Q122.941 438.019 126.552 438.019 Q130.186 438.019 131.992 434.477 Q133.82 430.913 133.82 423.806 Q133.82 416.676 131.992 413.135 Q130.186 409.57 126.552 409.57 M126.552 405.866 Q132.362 405.866 135.417 410.473 Q138.496 415.056 138.496 423.806 Q138.496 432.533 135.417 437.139 Q132.362 441.723 126.552 441.723 Q120.742 441.723 117.663 437.139 Q114.607 432.533 114.607 423.806 Q114.607 415.056 117.663 410.473 Q120.742 405.866 126.552 405.866 Z\" fill=\"#000000\" fill-rule=\"evenodd\" fill-opacity=\"1\" /><path clip-path=\"url(#clip620)\" d=\"M146.714 435.172 L151.598 435.172 L151.598 441.051 L146.714 441.051 L146.714 435.172 Z\" fill=\"#000000\" fill-rule=\"evenodd\" fill-opacity=\"1\" /><path clip-path=\"url(#clip620)\" d=\"M161.922 440.334 L161.922 436.075 Q163.681 436.908 165.487 437.348 Q167.292 437.787 169.028 437.787 Q173.658 437.787 176.089 434.686 Q178.542 431.561 178.889 425.218 Q177.547 427.209 175.487 428.274 Q173.427 429.338 170.927 429.338 Q165.741 429.338 162.709 426.213 Q159.7 423.065 159.7 417.626 Q159.7 412.301 162.848 409.084 Q165.996 405.866 171.227 405.866 Q177.223 405.866 180.371 410.473 Q183.542 415.056 183.542 423.806 Q183.542 431.977 179.653 436.862 Q175.788 441.723 169.237 441.723 Q167.477 441.723 165.672 441.375 Q163.866 441.028 161.922 440.334 M171.227 425.681 Q174.376 425.681 176.204 423.528 Q178.056 421.376 178.056 417.626 Q178.056 413.899 176.204 411.746 Q174.376 409.57 171.227 409.57 Q168.079 409.57 166.227 411.746 Q164.399 413.899 164.399 417.626 Q164.399 421.376 166.227 423.528 Q168.079 425.681 171.227 425.681 Z\" fill=\"#000000\" fill-rule=\"evenodd\" fill-opacity=\"1\" /><path clip-path=\"url(#clip620)\" d=\"M117.177 137.626 L124.816 137.626 L124.816 111.261 L116.506 112.927 L116.506 108.668 L124.769 107.002 L129.445 107.002 L129.445 137.626 L137.084 137.626 L137.084 141.562 L117.177 141.562 L117.177 137.626 Z\" fill=\"#000000\" fill-rule=\"evenodd\" fill-opacity=\"1\" /><path clip-path=\"url(#clip620)\" d=\"M146.529 135.682 L151.413 135.682 L151.413 141.562 L146.529 141.562 L146.529 135.682 Z\" fill=\"#000000\" fill-rule=\"evenodd\" fill-opacity=\"1\" /><path clip-path=\"url(#clip620)\" d=\"M171.598 110.08 Q167.987 110.08 166.158 113.645 Q164.352 117.187 164.352 124.316 Q164.352 131.423 166.158 134.988 Q167.987 138.529 171.598 138.529 Q175.232 138.529 177.038 134.988 Q178.866 131.423 178.866 124.316 Q178.866 117.187 177.038 113.645 Q175.232 110.08 171.598 110.08 M171.598 106.377 Q177.408 106.377 180.464 110.983 Q183.542 115.566 183.542 124.316 Q183.542 133.043 180.464 137.65 Q177.408 142.233 171.598 142.233 Q165.788 142.233 162.709 137.65 Q159.653 133.043 159.653 124.316 Q159.653 115.566 162.709 110.983 Q165.788 106.377 171.598 106.377 Z\" fill=\"#000000\" fill-rule=\"evenodd\" fill-opacity=\"1\" /><path clip-path=\"url(#clip620)\" d=\"M22.818 866.743 L46.4666 875.464 L46.4666 857.99 L22.818 866.743 M16.4842 870.371 L16.4842 863.082 L64.0042 844.972 L64.0042 851.656 L51.8138 855.985 L51.8138 877.405 L64.0042 881.734 L64.0042 888.513 L16.4842 870.371 Z\" fill=\"#000000\" fill-rule=\"evenodd\" fill-opacity=\"1\" /><path clip-path=\"url(#clip620)\" d=\"M16.4842 838.765 L16.4842 832.304 L45.3526 832.304 Q52.9915 832.304 56.3653 829.535 Q59.7073 826.766 59.7073 820.56 Q59.7073 814.385 56.3653 811.616 Q52.9915 808.847 45.3526 808.847 L16.4842 808.847 L16.4842 802.385 L46.1484 802.385 Q55.4423 802.385 60.1847 807.001 Q64.9272 811.584 64.9272 820.56 Q64.9272 829.567 60.1847 834.182 Q55.4423 838.765 46.1484 838.765 L16.4842 838.765 Z\" fill=\"#000000\" fill-rule=\"evenodd\" fill-opacity=\"1\" /><path clip-path=\"url(#clip620)\" d=\"M41.7242 767.788 Q42.4244 765.719 44.7161 763.777 Q47.0077 761.804 51.0181 759.831 L64.0042 753.306 L64.0042 760.213 L51.8138 766.292 Q47.0395 768.647 45.48 770.875 Q43.9204 773.071 43.9204 776.891 L43.9204 783.893 L64.0042 783.893 L64.0042 790.322 L16.4842 790.322 L16.4842 775.809 Q16.4842 767.661 19.8898 763.65 Q23.2955 759.64 30.1704 759.64 Q34.6582 759.64 37.6183 761.74 Q40.5784 763.809 41.7242 767.788 M21.7677 783.893 L38.6368 783.893 L38.6368 775.809 Q38.6368 771.162 36.5043 768.806 Q34.34 766.419 30.1704 766.419 Q26.0009 766.419 23.9002 768.806 Q21.7677 771.162 21.7677 775.809 L21.7677 783.893 Z\" fill=\"#000000\" fill-rule=\"evenodd\" fill-opacity=\"1\" /><path clip-path=\"url(#clip620)\" d=\"M20.8447 725.742 Q20.8447 732.745 26.0645 736.882 Q31.2844 740.988 40.2919 740.988 Q49.2675 740.988 54.4874 736.882 Q59.7073 732.745 59.7073 725.742 Q59.7073 718.74 54.4874 714.666 Q49.2675 710.56 40.2919 710.56 Q31.2844 710.56 26.0645 714.666 Q20.8447 718.74 20.8447 725.742 M15.6248 725.742 Q15.6248 715.748 22.3406 709.764 Q29.0246 703.781 40.2919 703.781 Q51.5274 703.781 58.2432 709.764 Q64.9272 715.748 64.9272 725.742 Q64.9272 735.768 58.2432 741.784 Q51.5592 747.768 40.2919 747.768 Q29.0246 747.768 22.3406 741.784 Q15.6248 735.768 15.6248 725.742 Z\" fill=\"#000000\" fill-rule=\"evenodd\" fill-opacity=\"1\" /><path clip-path=\"url(#clip620)\" d=\"M20.1444 658.139 L26.9239 658.139 Q23.9002 661.385 22.4043 665.077 Q20.9083 668.737 20.9083 672.875 Q20.9083 681.023 25.9054 685.352 Q30.8707 689.681 40.2919 689.681 Q49.6813 689.681 54.6784 685.352 Q59.6436 681.023 59.6436 672.875 Q59.6436 668.737 58.1477 665.077 Q56.6518 661.385 53.6281 658.139 L60.3439 658.139 Q62.6355 661.512 63.7814 665.3 Q64.9272 669.056 64.9272 673.257 Q64.9272 684.047 58.3387 690.254 Q51.7183 696.46 40.2919 696.46 Q28.8336 696.46 22.2451 690.254 Q15.6248 684.047 15.6248 673.257 Q15.6248 668.992 16.7706 665.236 Q17.8846 661.449 20.1444 658.139 Z\" fill=\"#000000\" fill-rule=\"evenodd\" fill-opacity=\"1\" /><path clip-path=\"url(#clip620)\" d=\"M395.497 16.7545 L395.497 25.383 Q391.365 21.5346 386.666 19.6307 Q382.007 17.7268 376.741 17.7268 Q366.371 17.7268 360.862 24.0867 Q355.353 30.4061 355.353 42.3968 Q355.353 54.3469 360.862 60.7069 Q366.371 67.0263 376.741 67.0263 Q382.007 67.0263 386.666 65.1223 Q391.365 63.2184 395.497 59.3701 L395.497 67.9175 Q391.203 70.8341 386.382 72.2924 Q381.602 73.7508 376.255 73.7508 Q362.523 73.7508 354.623 65.3654 Q346.724 56.9395 346.724 42.3968 Q346.724 27.8135 354.623 19.4281 Q362.523 11.0023 376.255 11.0023 Q381.683 11.0023 386.463 12.4606 Q391.284 13.8784 395.497 16.7545 Z\" fill=\"#000000\" fill-rule=\"evenodd\" fill-opacity=\"1\" /><path clip-path=\"url(#clip620)\" d=\"M428.431 49.7694 Q419.397 49.7694 415.914 51.8354 Q412.43 53.9013 412.43 58.8839 Q412.43 62.8538 415.022 65.2034 Q417.655 67.5124 422.152 67.5124 Q428.35 67.5124 432.077 63.1374 Q435.844 58.7219 435.844 51.4303 L435.844 49.7694 L428.431 49.7694 M443.298 46.6907 L443.298 72.576 L435.844 72.576 L435.844 65.6895 Q433.292 69.8214 429.484 71.8063 Q425.676 73.7508 420.167 73.7508 Q413.199 73.7508 409.068 69.8619 Q404.976 65.9325 404.976 59.3701 Q404.976 51.7138 410.08 47.825 Q415.225 43.9361 425.393 43.9361 L435.844 43.9361 L435.844 43.2069 Q435.844 38.0623 432.441 35.2672 Q429.079 32.4315 422.962 32.4315 Q419.073 32.4315 415.387 33.3632 Q411.701 34.295 408.298 36.1584 L408.298 29.2718 Q412.389 27.692 416.238 26.9223 Q420.086 26.1121 423.732 26.1121 Q433.575 26.1121 438.437 31.2163 Q443.298 36.3204 443.298 46.6907 Z\" fill=\"#000000\" fill-rule=\"evenodd\" fill-opacity=\"1\" /><path clip-path=\"url(#clip620)\" d=\"M457.881 54.671 L457.881 27.2059 L465.335 27.2059 L465.335 54.3874 Q465.335 60.8284 467.846 64.0691 Q470.358 67.2693 475.381 67.2693 Q481.417 67.2693 484.9 63.421 Q488.425 59.5726 488.425 52.9291 L488.425 27.2059 L495.878 27.2059 L495.878 72.576 L488.425 72.576 L488.425 65.6084 Q485.711 69.7404 482.105 71.7658 Q478.541 73.7508 473.801 73.7508 Q465.983 73.7508 461.932 68.8897 Q457.881 64.0286 457.881 54.671 M476.637 26.1121 L476.637 26.1121 Z\" fill=\"#000000\" fill-rule=\"evenodd\" fill-opacity=\"1\" /><path clip-path=\"url(#clip620)\" d=\"M540.155 28.5427 L540.155 35.5912 Q536.995 33.9709 533.592 33.1607 Q530.19 32.3505 526.544 32.3505 Q520.994 32.3505 518.199 34.0519 Q515.444 35.7533 515.444 39.156 Q515.444 41.7486 517.429 43.2475 Q519.414 44.7058 525.409 46.0426 L527.962 46.6097 Q535.901 48.3111 539.223 51.4303 Q542.585 54.509 542.585 60.0587 Q542.585 66.3781 537.562 70.0644 Q532.58 73.7508 523.83 73.7508 Q520.184 73.7508 516.214 73.0216 Q512.285 72.3329 507.91 70.9151 L507.91 63.2184 Q512.042 65.3654 516.052 66.4591 Q520.062 67.5124 523.992 67.5124 Q529.258 67.5124 532.093 65.73 Q534.929 63.9071 534.929 60.6258 Q534.929 57.5877 532.863 55.9673 Q530.838 54.3469 523.911 52.8481 L521.318 52.2405 Q514.391 50.7821 511.312 47.7845 Q508.234 44.7463 508.234 39.4801 Q508.234 33.0797 512.771 29.5959 Q517.308 26.1121 525.653 26.1121 Q529.784 26.1121 533.43 26.7198 Q537.076 27.3274 540.155 28.5427 Z\" fill=\"#000000\" fill-rule=\"evenodd\" fill-opacity=\"1\" /><path clip-path=\"url(#clip620)\" d=\"M575.074 49.7694 Q566.04 49.7694 562.556 51.8354 Q559.073 53.9013 559.073 58.8839 Q559.073 62.8538 561.665 65.2034 Q564.298 67.5124 568.795 67.5124 Q574.993 67.5124 578.719 63.1374 Q582.487 58.7219 582.487 51.4303 L582.487 49.7694 L575.074 49.7694 M589.94 46.6907 L589.94 72.576 L582.487 72.576 L582.487 65.6895 Q579.935 69.8214 576.127 71.8063 Q572.319 73.7508 566.81 73.7508 Q559.842 73.7508 555.71 69.8619 Q551.619 65.9325 551.619 59.3701 Q551.619 51.7138 556.723 47.825 Q561.868 43.9361 572.035 43.9361 L582.487 43.9361 L582.487 43.2069 Q582.487 38.0623 579.084 35.2672 Q575.722 32.4315 569.605 32.4315 Q565.716 32.4315 562.03 33.3632 Q558.343 34.295 554.941 36.1584 L554.941 29.2718 Q559.032 27.692 562.88 26.9223 Q566.729 26.1121 570.375 26.1121 Q580.218 26.1121 585.079 31.2163 Q589.94 36.3204 589.94 46.6907 Z\" fill=\"#000000\" fill-rule=\"evenodd\" fill-opacity=\"1\" /><path clip-path=\"url(#clip620)\" d=\"M605.293 9.54393 L612.747 9.54393 L612.747 72.576 L605.293 72.576 L605.293 9.54393 Z\" fill=\"#000000\" fill-rule=\"evenodd\" fill-opacity=\"1\" /><path clip-path=\"url(#clip620)\" d=\"M628.343 27.2059 L635.797 27.2059 L635.797 72.576 L628.343 72.576 L628.343 27.2059 M628.343 9.54393 L635.797 9.54393 L635.797 18.9825 L628.343 18.9825 L628.343 9.54393 Z\" fill=\"#000000\" fill-rule=\"evenodd\" fill-opacity=\"1\" /><path clip-path=\"url(#clip620)\" d=\"M658.765 14.324 L658.765 27.2059 L674.118 27.2059 L674.118 32.9987 L658.765 32.9987 L658.765 57.6282 Q658.765 63.1779 660.264 64.7578 Q661.803 66.3376 666.462 66.3376 L674.118 66.3376 L674.118 72.576 L666.462 72.576 Q657.834 72.576 654.552 69.3758 Q651.271 66.1351 651.271 57.6282 L651.271 32.9987 L645.802 32.9987 L645.802 27.2059 L651.271 27.2059 L651.271 14.324 L658.765 14.324 Z\" fill=\"#000000\" fill-rule=\"evenodd\" fill-opacity=\"1\" /><path clip-path=\"url(#clip620)\" d=\"M702.799 76.7889 Q699.639 84.8907 696.641 87.3618 Q693.644 89.8329 688.62 89.8329 L682.666 89.8329 L682.666 83.5945 L687.041 83.5945 Q690.119 83.5945 691.821 82.1361 Q693.522 80.6778 695.588 75.2496 L696.925 71.8468 L678.574 27.2059 L686.473 27.2059 L700.652 62.6918 L714.83 27.2059 L722.729 27.2059 L702.799 76.7889 Z\" fill=\"#000000\" fill-rule=\"evenodd\" fill-opacity=\"1\" /><path clip-path=\"url(#clip620)\" d=\"M775.31 72.576 L752.22 12.096 L760.767 12.096 L779.928 63.0159 L799.129 12.096 L807.636 12.096 L784.586 72.576 L775.31 72.576 Z\" fill=\"#000000\" fill-rule=\"evenodd\" fill-opacity=\"1\" /><path clip-path=\"url(#clip620)\" d=\"M852.723 14.0809 L852.723 22.0612 Q848.064 19.8332 843.932 18.7395 Q839.8 17.6457 835.952 17.6457 Q829.268 17.6457 825.622 20.2383 Q822.017 22.8309 822.017 27.611 Q822.017 31.6214 824.407 33.6873 Q826.837 35.7128 833.562 36.9686 L838.504 37.9813 Q847.659 39.7232 851.993 44.1387 Q856.368 48.5136 856.368 55.8863 Q856.368 64.6767 850.454 69.2137 Q844.58 73.7508 833.197 73.7508 Q828.903 73.7508 824.042 72.7785 Q819.222 71.8063 814.036 69.9024 L814.036 61.4765 Q819.019 64.2716 823.799 65.6895 Q828.579 67.1073 833.197 67.1073 Q840.205 67.1073 844.013 64.3527 Q847.821 61.598 847.821 56.4939 Q847.821 52.0379 845.066 49.5264 Q842.352 47.0148 836.114 45.759 L831.131 44.7868 Q821.976 42.9639 817.885 39.075 Q813.793 35.1862 813.793 28.2591 Q813.793 20.2383 819.424 15.6203 Q825.095 11.0023 835.02 11.0023 Q839.274 11.0023 843.689 11.7719 Q848.105 12.5416 852.723 14.0809 Z\" fill=\"#000000\" fill-rule=\"evenodd\" fill-opacity=\"1\" /><path clip-path=\"url(#clip620)\" d=\"M895.5 12.096 L933.741 12.096 L933.741 18.9825 L903.683 18.9825 L903.683 36.8875 L932.485 36.8875 L932.485 43.7741 L903.683 43.7741 L903.683 65.6895 L934.47 65.6895 L934.47 72.576 L895.5 72.576 L895.5 12.096 Z\" fill=\"#000000\" fill-rule=\"evenodd\" fill-opacity=\"1\" /><path clip-path=\"url(#clip620)\" d=\"M985.309 27.2059 L968.902 49.2833 L986.159 72.576 L977.369 72.576 L964.163 54.752 L950.957 72.576 L942.167 72.576 L959.788 48.8377 L943.665 27.2059 L952.456 27.2059 L964.487 43.369 L976.518 27.2059 L985.309 27.2059 Z\" fill=\"#000000\" fill-rule=\"evenodd\" fill-opacity=\"1\" /><path clip-path=\"url(#clip620)\" d=\"M1017.31 49.7694 Q1008.28 49.7694 1004.79 51.8354 Q1001.31 53.9013 1001.31 58.8839 Q1001.31 62.8538 1003.9 65.2034 Q1006.54 67.5124 1011.03 67.5124 Q1017.23 67.5124 1020.96 63.1374 Q1024.72 58.7219 1024.72 51.4303 L1024.72 49.7694 L1017.31 49.7694 M1032.18 46.6907 L1032.18 72.576 L1024.72 72.576 L1024.72 65.6895 Q1022.17 69.8214 1018.36 71.8063 Q1014.56 73.7508 1009.05 73.7508 Q1002.08 73.7508 997.947 69.8619 Q993.856 65.9325 993.856 59.3701 Q993.856 51.7138 998.96 47.825 Q1004.1 43.9361 1014.27 43.9361 L1024.72 43.9361 L1024.72 43.2069 Q1024.72 38.0623 1021.32 35.2672 Q1017.96 32.4315 1011.84 32.4315 Q1007.95 32.4315 1004.27 33.3632 Q1000.58 34.295 997.178 36.1584 L997.178 29.2718 Q1001.27 27.692 1005.12 26.9223 Q1008.97 26.1121 1012.61 26.1121 Q1022.46 26.1121 1027.32 31.2163 Q1032.18 36.3204 1032.18 46.6907 Z\" fill=\"#000000\" fill-rule=\"evenodd\" fill-opacity=\"1\" /><path clip-path=\"url(#clip620)\" d=\"M1080.18 28.9478 L1080.18 35.9153 Q1077.02 34.1734 1073.82 33.3227 Q1070.66 32.4315 1067.42 32.4315 Q1060.17 32.4315 1056.16 37.0496 Q1052.15 41.6271 1052.15 49.9314 Q1052.15 58.2358 1056.16 62.8538 Q1060.17 67.4314 1067.42 67.4314 Q1070.66 67.4314 1073.82 66.5807 Q1077.02 65.6895 1080.18 63.9476 L1080.18 70.8341 Q1077.06 72.2924 1073.7 73.0216 Q1070.38 73.7508 1066.61 73.7508 Q1056.36 73.7508 1050.33 67.3098 Q1044.29 60.8689 1044.29 49.9314 Q1044.29 38.832 1050.37 32.472 Q1056.48 26.1121 1067.1 26.1121 Q1070.54 26.1121 1073.82 26.8413 Q1077.1 27.5299 1080.18 28.9478 Z\" fill=\"#000000\" fill-rule=\"evenodd\" fill-opacity=\"1\" /><path clip-path=\"url(#clip620)\" d=\"M1100.52 14.324 L1100.52 27.2059 L1115.87 27.2059 L1115.87 32.9987 L1100.52 32.9987 L1100.52 57.6282 Q1100.52 63.1779 1102.02 64.7578 Q1103.55 66.3376 1108.21 66.3376 L1115.87 66.3376 L1115.87 72.576 L1108.21 72.576 Q1099.58 72.576 1096.3 69.3758 Q1093.02 66.1351 1093.02 57.6282 L1093.02 32.9987 L1087.55 32.9987 L1087.55 27.2059 L1093.02 27.2059 L1093.02 14.324 L1100.52 14.324 Z\" fill=\"#000000\" fill-rule=\"evenodd\" fill-opacity=\"1\" /><path clip-path=\"url(#clip620)\" d=\"M1172.58 20.1573 L1161.48 50.2555 L1183.72 50.2555 L1172.58 20.1573 M1167.96 12.096 L1177.24 12.096 L1200.29 72.576 L1191.78 72.576 L1186.27 57.061 L1159.01 57.061 L1153.5 72.576 L1144.87 72.576 L1167.96 12.096 Z\" fill=\"#000000\" fill-rule=\"evenodd\" fill-opacity=\"1\" /><path clip-path=\"url(#clip620)\" d=\"M1208.19 12.096 L1216.41 12.096 L1216.41 48.8377 Q1216.41 58.5599 1219.94 62.8538 Q1223.46 67.1073 1231.36 67.1073 Q1239.22 67.1073 1242.74 62.8538 Q1246.27 58.5599 1246.27 48.8377 L1246.27 12.096 L1254.49 12.096 L1254.49 49.8504 Q1254.49 61.6791 1248.62 67.7149 Q1242.78 73.7508 1231.36 73.7508 Q1219.9 73.7508 1214.02 67.7149 Q1208.19 61.6791 1208.19 49.8504 L1208.19 12.096 Z\" fill=\"#000000\" fill-rule=\"evenodd\" fill-opacity=\"1\" /><path clip-path=\"url(#clip620)\" d=\"M1298.52 44.2197 Q1301.16 45.1109 1303.63 48.0275 Q1306.14 50.9442 1308.65 56.0483 L1316.96 72.576 L1308.17 72.576 L1300.43 57.061 Q1297.43 50.9847 1294.6 48.9997 Q1291.8 47.0148 1286.94 47.0148 L1278.03 47.0148 L1278.03 72.576 L1269.84 72.576 L1269.84 12.096 L1288.32 12.096 Q1298.69 12.096 1303.79 16.4305 Q1308.89 20.7649 1308.89 29.5149 Q1308.89 35.2267 1306.22 38.994 Q1303.59 42.7613 1298.52 44.2197 M1278.03 18.8205 L1278.03 40.2903 L1288.32 40.2903 Q1294.23 40.2903 1297.23 37.5762 Q1300.27 34.8216 1300.27 29.5149 Q1300.27 24.2082 1297.23 21.5346 Q1294.23 18.8205 1288.32 18.8205 L1278.03 18.8205 Z\" fill=\"#000000\" fill-rule=\"evenodd\" fill-opacity=\"1\" /><path clip-path=\"url(#clip620)\" d=\"M1352.04 17.6457 Q1343.13 17.6457 1337.86 24.2892 Q1332.63 30.9327 1332.63 42.3968 Q1332.63 53.8203 1337.86 60.4638 Q1343.13 67.1073 1352.04 67.1073 Q1360.95 67.1073 1366.13 60.4638 Q1371.36 53.8203 1371.36 42.3968 Q1371.36 30.9327 1366.13 24.2892 Q1360.95 17.6457 1352.04 17.6457 M1352.04 11.0023 Q1364.76 11.0023 1372.37 19.5497 Q1379.99 28.0566 1379.99 42.3968 Q1379.99 56.6965 1372.37 65.2439 Q1364.76 73.7508 1352.04 73.7508 Q1339.28 73.7508 1331.62 65.2439 Q1324 56.737 1324 42.3968 Q1324 28.0566 1331.62 19.5497 Q1339.28 11.0023 1352.04 11.0023 Z\" fill=\"#000000\" fill-rule=\"evenodd\" fill-opacity=\"1\" /><path clip-path=\"url(#clip620)\" d=\"M1438.08 16.7545 L1438.08 25.383 Q1433.95 21.5346 1429.25 19.6307 Q1424.59 17.7268 1419.32 17.7268 Q1408.95 17.7268 1403.44 24.0867 Q1397.93 30.4061 1397.93 42.3968 Q1397.93 54.3469 1403.44 60.7069 Q1408.95 67.0263 1419.32 67.0263 Q1424.59 67.0263 1429.25 65.1223 Q1433.95 63.2184 1438.08 59.3701 L1438.08 67.9175 Q1433.78 70.8341 1428.96 72.2924 Q1424.18 73.7508 1418.84 73.7508 Q1405.1 73.7508 1397.2 65.3654 Q1389.31 56.9395 1389.31 42.3968 Q1389.31 27.8135 1397.2 19.4281 Q1405.1 11.0023 1418.84 11.0023 Q1424.26 11.0023 1429.04 12.4606 Q1433.87 13.8784 1438.08 16.7545 Z\" fill=\"#000000\" fill-rule=\"evenodd\" fill-opacity=\"1\" /><path clip-path=\"url(#clip620)\" d=\"M1476.76 27.2059 L1484.22 27.2059 L1484.22 72.576 L1476.76 72.576 L1476.76 27.2059 M1476.76 9.54393 L1484.22 9.54393 L1484.22 18.9825 L1476.76 18.9825 L1476.76 9.54393 Z\" fill=\"#000000\" fill-rule=\"evenodd\" fill-opacity=\"1\" /><path clip-path=\"url(#clip620)\" d=\"M1537.53 45.1919 L1537.53 72.576 L1530.07 72.576 L1530.07 45.4349 Q1530.07 38.994 1527.56 35.7938 Q1525.05 32.5936 1520.03 32.5936 Q1513.99 32.5936 1510.51 36.4419 Q1507.02 40.2903 1507.02 46.9338 L1507.02 72.576 L1499.53 72.576 L1499.53 27.2059 L1507.02 27.2059 L1507.02 34.2544 Q1509.7 30.163 1513.3 28.1376 Q1516.95 26.1121 1521.69 26.1121 Q1529.51 26.1121 1533.52 30.9732 Q1537.53 35.7938 1537.53 45.1919 Z\" fill=\"#000000\" fill-rule=\"evenodd\" fill-opacity=\"1\" /><path clip-path=\"url(#clip620)\" d=\"M1601.73 9.54393 L1601.73 15.7418 L1594.61 15.7418 Q1590.59 15.7418 1589.01 17.3622 Q1587.48 18.9825 1587.48 23.1955 L1587.48 27.2059 L1599.75 27.2059 L1599.75 32.9987 L1587.48 32.9987 L1587.48 72.576 L1579.98 72.576 L1579.98 32.9987 L1572.85 32.9987 L1572.85 27.2059 L1579.98 27.2059 L1579.98 24.0462 Q1579.98 16.471 1583.51 13.0277 Q1587.03 9.54393 1594.69 9.54393 L1601.73 9.54393 Z\" fill=\"#000000\" fill-rule=\"evenodd\" fill-opacity=\"1\" /><path clip-path=\"url(#clip620)\" d=\"M1607.2 54.671 L1607.2 27.2059 L1614.66 27.2059 L1614.66 54.3874 Q1614.66 60.8284 1617.17 64.0691 Q1619.68 67.2693 1624.7 67.2693 Q1630.74 67.2693 1634.22 63.421 Q1637.75 59.5726 1637.75 52.9291 L1637.75 27.2059 L1645.2 27.2059 L1645.2 72.576 L1637.75 72.576 L1637.75 65.6084 Q1635.03 69.7404 1631.43 71.7658 Q1627.86 73.7508 1623.12 73.7508 Q1615.31 73.7508 1611.25 68.8897 Q1607.2 64.0286 1607.2 54.671 M1625.96 26.1121 L1625.96 26.1121 Z\" fill=\"#000000\" fill-rule=\"evenodd\" fill-opacity=\"1\" /><path clip-path=\"url(#clip620)\" d=\"M1698.27 45.1919 L1698.27 72.576 L1690.81 72.576 L1690.81 45.4349 Q1690.81 38.994 1688.3 35.7938 Q1685.79 32.5936 1680.77 32.5936 Q1674.73 32.5936 1671.25 36.4419 Q1667.76 40.2903 1667.76 46.9338 L1667.76 72.576 L1660.27 72.576 L1660.27 27.2059 L1667.76 27.2059 L1667.76 34.2544 Q1670.44 30.163 1674.04 28.1376 Q1677.69 26.1121 1682.43 26.1121 Q1690.25 26.1121 1694.26 30.9732 Q1698.27 35.7938 1698.27 45.1919 Z\" fill=\"#000000\" fill-rule=\"evenodd\" fill-opacity=\"1\" /><path clip-path=\"url(#clip620)\" d=\"M1745.78 28.9478 L1745.78 35.9153 Q1742.63 34.1734 1739.42 33.3227 Q1736.27 32.4315 1733.02 32.4315 Q1725.77 32.4315 1721.76 37.0496 Q1717.75 41.6271 1717.75 49.9314 Q1717.75 58.2358 1721.76 62.8538 Q1725.77 67.4314 1733.02 67.4314 Q1736.27 67.4314 1739.42 66.5807 Q1742.63 65.6895 1745.78 63.9476 L1745.78 70.8341 Q1742.67 72.2924 1739.3 73.0216 Q1735.98 73.7508 1732.21 73.7508 Q1721.97 73.7508 1715.93 67.3098 Q1709.89 60.8689 1709.89 49.9314 Q1709.89 38.832 1715.97 32.472 Q1722.09 26.1121 1732.7 26.1121 Q1736.14 26.1121 1739.42 26.8413 Q1742.71 27.5299 1745.78 28.9478 Z\" fill=\"#000000\" fill-rule=\"evenodd\" fill-opacity=\"1\" /><path clip-path=\"url(#clip620)\" d=\"M1766.12 14.324 L1766.12 27.2059 L1781.47 27.2059 L1781.47 32.9987 L1766.12 32.9987 L1766.12 57.6282 Q1766.12 63.1779 1767.62 64.7578 Q1769.16 66.3376 1773.82 66.3376 L1781.47 66.3376 L1781.47 72.576 L1773.82 72.576 Q1765.19 72.576 1761.91 69.3758 Q1758.63 66.1351 1758.63 57.6282 L1758.63 32.9987 L1753.16 32.9987 L1753.16 27.2059 L1758.63 27.2059 L1758.63 14.324 L1766.12 14.324 Z\" fill=\"#000000\" fill-rule=\"evenodd\" fill-opacity=\"1\" /><path clip-path=\"url(#clip620)\" d=\"M1791.28 27.2059 L1798.73 27.2059 L1798.73 72.576 L1791.28 72.576 L1791.28 27.2059 M1791.28 9.54393 L1798.73 9.54393 L1798.73 18.9825 L1791.28 18.9825 L1791.28 9.54393 Z\" fill=\"#000000\" fill-rule=\"evenodd\" fill-opacity=\"1\" /><path clip-path=\"url(#clip620)\" d=\"M1831.91 32.4315 Q1825.91 32.4315 1822.43 37.1306 Q1818.94 41.7891 1818.94 49.9314 Q1818.94 58.0738 1822.39 62.7728 Q1825.87 67.4314 1831.91 67.4314 Q1837.86 67.4314 1841.35 62.7323 Q1844.83 58.0333 1844.83 49.9314 Q1844.83 41.8701 1841.35 37.1711 Q1837.86 32.4315 1831.91 32.4315 M1831.91 26.1121 Q1841.63 26.1121 1847.18 32.4315 Q1852.73 38.7509 1852.73 49.9314 Q1852.73 61.0714 1847.18 67.4314 Q1841.63 73.7508 1831.91 73.7508 Q1822.14 73.7508 1816.59 67.4314 Q1811.09 61.0714 1811.09 49.9314 Q1811.09 38.7509 1816.59 32.4315 Q1822.14 26.1121 1831.91 26.1121 Z\" fill=\"#000000\" fill-rule=\"evenodd\" fill-opacity=\"1\" /><path clip-path=\"url(#clip620)\" d=\"M1902.8 45.1919 L1902.8 72.576 L1895.34 72.576 L1895.34 45.4349 Q1895.34 38.994 1892.83 35.7938 Q1890.32 32.5936 1885.3 32.5936 Q1879.26 32.5936 1875.78 36.4419 Q1872.29 40.2903 1872.29 46.9338 L1872.29 72.576 L1864.8 72.576 L1864.8 27.2059 L1872.29 27.2059 L1872.29 34.2544 Q1874.97 30.163 1878.57 28.1376 Q1882.22 26.1121 1886.96 26.1121 Q1894.78 26.1121 1898.79 30.9732 Q1902.8 35.7938 1902.8 45.1919 Z\" fill=\"#000000\" fill-rule=\"evenodd\" fill-opacity=\"1\" /><path clip-path=\"url(#clip620)\" d=\"M1961.62 32.4315 Q1955.62 32.4315 1952.14 37.1306 Q1948.65 41.7891 1948.65 49.9314 Q1948.65 58.0738 1952.1 62.7728 Q1955.58 67.4314 1961.62 67.4314 Q1967.57 67.4314 1971.06 62.7323 Q1974.54 58.0333 1974.54 49.9314 Q1974.54 41.8701 1971.06 37.1711 Q1967.57 32.4315 1961.62 32.4315 M1961.62 26.1121 Q1971.34 26.1121 1976.89 32.4315 Q1982.44 38.7509 1982.44 49.9314 Q1982.44 61.0714 1976.89 67.4314 Q1971.34 73.7508 1961.62 73.7508 Q1951.85 73.7508 1946.3 67.4314 Q1940.8 61.0714 1940.8 49.9314 Q1940.8 38.7509 1946.3 32.4315 Q1951.85 26.1121 1961.62 26.1121 Z\" fill=\"#000000\" fill-rule=\"evenodd\" fill-opacity=\"1\" /><path clip-path=\"url(#clip620)\" d=\"M2017.76 9.54393 L2017.76 15.7418 L2010.63 15.7418 Q2006.62 15.7418 2005.04 17.3622 Q2003.5 18.9825 2003.5 23.1955 L2003.5 27.2059 L2015.78 27.2059 L2015.78 32.9987 L2003.5 32.9987 L2003.5 72.576 L1996.01 72.576 L1996.01 32.9987 L1988.88 32.9987 L1988.88 27.2059 L1996.01 27.2059 L1996.01 24.0462 Q1996.01 16.471 1999.53 13.0277 Q2003.06 9.54393 2010.71 9.54393 L2017.76 9.54393 Z\" fill=\"#000000\" fill-rule=\"evenodd\" fill-opacity=\"1\" /><path clip-path=\"url(#clip620)\" d=\"M2057.75 14.324 L2057.75 27.2059 L2073.1 27.2059 L2073.1 32.9987 L2057.75 32.9987 L2057.75 57.6282 Q2057.75 63.1779 2059.24 64.7578 Q2060.78 66.3376 2065.44 66.3376 L2073.1 66.3376 L2073.1 72.576 L2065.44 72.576 Q2056.81 72.576 2053.53 69.3758 Q2050.25 66.1351 2050.25 57.6282 L2050.25 32.9987 L2044.78 32.9987 L2044.78 27.2059 L2050.25 27.2059 L2050.25 14.324 L2057.75 14.324 Z\" fill=\"#000000\" fill-rule=\"evenodd\" fill-opacity=\"1\" /><path clip-path=\"url(#clip620)\" d=\"M2082.9 27.2059 L2090.35 27.2059 L2090.35 72.576 L2082.9 72.576 L2082.9 27.2059 M2082.9 9.54393 L2090.35 9.54393 L2090.35 18.9825 L2082.9 18.9825 L2082.9 9.54393 Z\" fill=\"#000000\" fill-rule=\"evenodd\" fill-opacity=\"1\" /><path clip-path=\"url(#clip620)\" d=\"M2141.27 35.9153 Q2144.07 30.8922 2147.96 28.5022 Q2151.85 26.1121 2157.11 26.1121 Q2164.2 26.1121 2168.05 31.0947 Q2171.9 36.0368 2171.9 45.1919 L2171.9 72.576 L2164.41 72.576 L2164.41 45.4349 Q2164.41 38.913 2162.1 35.7533 Q2159.79 32.5936 2155.05 32.5936 Q2149.25 32.5936 2145.89 36.4419 Q2142.53 40.2903 2142.53 46.9338 L2142.53 72.576 L2135.04 72.576 L2135.04 45.4349 Q2135.04 38.8725 2132.73 35.7533 Q2130.42 32.5936 2125.6 32.5936 Q2119.89 32.5936 2116.52 36.4824 Q2113.16 40.3308 2113.16 46.9338 L2113.16 72.576 L2105.67 72.576 L2105.67 27.2059 L2113.16 27.2059 L2113.16 34.2544 Q2115.71 30.082 2119.28 28.0971 Q2122.84 26.1121 2127.74 26.1121 Q2132.69 26.1121 2136.13 28.6237 Q2139.61 31.1352 2141.27 35.9153 Z\" fill=\"#000000\" fill-rule=\"evenodd\" fill-opacity=\"1\" /><path clip-path=\"url(#clip620)\" d=\"M2225.57 48.0275 L2225.57 51.6733 L2191.3 51.6733 Q2191.79 59.3701 2195.92 63.421 Q2200.09 67.4314 2207.51 67.4314 Q2211.8 67.4314 2215.81 66.3781 Q2219.86 65.3249 2223.83 63.2184 L2223.83 70.267 Q2219.82 71.9684 2215.61 72.8596 Q2211.4 73.7508 2207.06 73.7508 Q2196.2 73.7508 2189.85 67.4314 Q2183.53 61.1119 2183.53 50.3365 Q2183.53 39.1965 2189.52 32.6746 Q2195.56 26.1121 2205.77 26.1121 Q2214.92 26.1121 2220.23 32.0264 Q2225.57 37.9003 2225.57 48.0275 M2218.12 45.84 Q2218.04 39.7232 2214.68 36.0774 Q2211.36 32.4315 2205.85 32.4315 Q2199.61 32.4315 2195.84 35.9558 Q2192.11 39.4801 2191.55 45.8805 L2218.12 45.84 Z\" fill=\"#000000\" fill-rule=\"evenodd\" fill-opacity=\"1\" /><polyline clip-path=\"url(#clip622)\" style=\"stroke:#009af9; stroke-linecap:butt; stroke-linejoin:round; stroke-width:4; stroke-opacity:1; fill:none\" points=\"\n",
       "  279.916,415.077 385.835,254.451 491.755,299.536 597.674,307.396 703.593,311.085 809.512,369.057 915.432,439.417 1021.35,483.875 1127.27,573.756 1233.19,715.905 \n",
       "  1339.11,767.028 1445.03,769.579 1550.95,800.515 1656.87,829.546 1762.79,816.58 1868.7,795.738 1974.62,753.223 2080.54,717.93 2186.46,683.527 2292.38,622.828 \n",
       "  \n",
       "  \"/>\n",
       "<polyline clip-path=\"url(#clip622)\" style=\"stroke:#e26f46; stroke-linecap:butt; stroke-linejoin:round; stroke-width:4; stroke-opacity:1; fill:none\" points=\"\n",
       "  279.916,160.256 385.835,383.619 491.755,656.574 597.674,863.635 703.593,782.057 809.512,633.788 915.432,692.75 1021.35,742.61 1127.27,634.006 1233.19,698.857 \n",
       "  1339.11,797.946 1445.03,866.745 1550.95,916.336 1656.87,957.289 1762.79,929.656 1868.7,951.697 1974.62,920.183 2080.54,841.043 2186.46,785.169 2292.38,709.39 \n",
       "  \n",
       "  \"/>\n",
       "<polyline clip-path=\"url(#clip622)\" style=\"stroke:#3da44d; stroke-linecap:butt; stroke-linejoin:round; stroke-width:4; stroke-opacity:1; fill:none\" points=\"\n",
       "  279.916,1386.4 385.835,838.211 491.755,848.902 597.674,744.718 703.593,661.673 809.512,531.988 915.432,497.461 1021.35,550.051 1127.27,633.625 1233.19,765.348 \n",
       "  1339.11,831.503 1445.03,825.754 1550.95,837.983 1656.87,852.419 1762.79,831.38 1868.7,816.602 1974.62,752.083 2080.54,703.24 2186.46,650.145 2292.38,570.932 \n",
       "  \n",
       "  \"/>\n",
       "<path clip-path=\"url(#clip620)\" d=\"\n",
       "M1819.16 374.156 L2281.65 374.156 L2281.65 166.796 L1819.16 166.796  Z\n",
       "  \" fill=\"#ffffff\" fill-rule=\"evenodd\" fill-opacity=\"1\"/>\n",
       "<polyline clip-path=\"url(#clip620)\" style=\"stroke:#000000; stroke-linecap:butt; stroke-linejoin:round; stroke-width:4; stroke-opacity:1; fill:none\" points=\"\n",
       "  1819.16,374.156 2281.65,374.156 2281.65,166.796 1819.16,166.796 1819.16,374.156 \n",
       "  \"/>\n",
       "<polyline clip-path=\"url(#clip620)\" style=\"stroke:#009af9; stroke-linecap:butt; stroke-linejoin:round; stroke-width:4; stroke-opacity:1; fill:none\" points=\"\n",
       "  1842.87,218.636 1985.08,218.636 \n",
       "  \"/>\n",
       "<path clip-path=\"url(#clip620)\" d=\"M2024.62 205.962 L2018.27 223.161 L2030.98 223.161 L2024.62 205.962 M2021.98 201.356 L2027.28 201.356 L2040.45 235.916 L2035.59 235.916 L2032.44 227.05 L2016.86 227.05 L2013.71 235.916 L2008.78 235.916 L2021.98 201.356 Z\" fill=\"#000000\" fill-rule=\"evenodd\" fill-opacity=\"1\" /><path clip-path=\"url(#clip620)\" d=\"M2044.96 201.356 L2049.66 201.356 L2049.66 222.351 Q2049.66 227.907 2051.68 230.36 Q2053.69 232.791 2058.2 232.791 Q2062.69 232.791 2064.71 230.36 Q2066.72 227.907 2066.72 222.351 L2066.72 201.356 L2071.42 201.356 L2071.42 222.93 Q2071.42 229.689 2068.06 233.138 Q2064.73 236.587 2058.2 236.587 Q2051.65 236.587 2048.3 233.138 Q2044.96 229.689 2044.96 222.93 L2044.96 201.356 Z\" fill=\"#000000\" fill-rule=\"evenodd\" fill-opacity=\"1\" /><path clip-path=\"url(#clip620)\" d=\"M2096.58 219.712 Q2098.09 220.221 2099.5 221.888 Q2100.93 223.555 2102.37 226.471 L2107.12 235.916 L2102.09 235.916 L2097.67 227.05 Q2095.96 223.578 2094.34 222.444 Q2092.74 221.309 2089.96 221.309 L2084.87 221.309 L2084.87 235.916 L2080.19 235.916 L2080.19 201.356 L2090.75 201.356 Q2096.68 201.356 2099.59 203.833 Q2102.51 206.309 2102.51 211.309 Q2102.51 214.573 2100.98 216.726 Q2099.48 218.879 2096.58 219.712 M2084.87 205.198 L2084.87 217.467 L2090.75 217.467 Q2094.13 217.467 2095.84 215.916 Q2097.58 214.342 2097.58 211.309 Q2097.58 208.277 2095.84 206.749 Q2094.13 205.198 2090.75 205.198 L2084.87 205.198 Z\" fill=\"#000000\" fill-rule=\"evenodd\" fill-opacity=\"1\" /><path clip-path=\"url(#clip620)\" d=\"M2127.16 204.527 Q2122.07 204.527 2119.06 208.323 Q2116.07 212.12 2116.07 218.67 Q2116.07 225.198 2119.06 228.994 Q2122.07 232.791 2127.16 232.791 Q2132.25 232.791 2135.22 228.994 Q2138.2 225.198 2138.2 218.67 Q2138.2 212.12 2135.22 208.323 Q2132.25 204.527 2127.16 204.527 M2127.16 200.731 Q2134.43 200.731 2138.78 205.615 Q2143.13 210.476 2143.13 218.67 Q2143.13 226.842 2138.78 231.726 Q2134.43 236.587 2127.16 236.587 Q2119.87 236.587 2115.49 231.726 Q2111.14 226.865 2111.14 218.67 Q2111.14 210.476 2115.49 205.615 Q2119.87 200.731 2127.16 200.731 Z\" fill=\"#000000\" fill-rule=\"evenodd\" fill-opacity=\"1\" /><path clip-path=\"url(#clip620)\" d=\"M2176.33 204.018 L2176.33 208.948 Q2173.97 206.749 2171.28 205.661 Q2168.62 204.573 2165.61 204.573 Q2159.68 204.573 2156.54 208.208 Q2153.39 211.819 2153.39 218.67 Q2153.39 225.499 2156.54 229.133 Q2159.68 232.744 2165.61 232.744 Q2168.62 232.744 2171.28 231.656 Q2173.97 230.569 2176.33 228.369 L2176.33 233.254 Q2173.87 234.92 2171.12 235.754 Q2168.39 236.587 2165.33 236.587 Q2157.49 236.587 2152.97 231.795 Q2148.46 226.981 2148.46 218.67 Q2148.46 210.337 2152.97 205.546 Q2157.49 200.731 2165.33 200.731 Q2168.43 200.731 2171.17 201.564 Q2173.92 202.374 2176.33 204.018 Z\" fill=\"#000000\" fill-rule=\"evenodd\" fill-opacity=\"1\" /><polyline clip-path=\"url(#clip620)\" style=\"stroke:#e26f46; stroke-linecap:butt; stroke-linejoin:round; stroke-width:4; stroke-opacity:1; fill:none\" points=\"\n",
       "  1842.87,270.476 1985.08,270.476 \n",
       "  \"/>\n",
       "<path clip-path=\"url(#clip620)\" d=\"M2024.62 257.802 L2018.27 275.001 L2030.98 275.001 L2024.62 257.802 M2021.98 253.196 L2027.28 253.196 L2040.45 287.756 L2035.59 287.756 L2032.44 278.89 L2016.86 278.89 L2013.71 287.756 L2008.78 287.756 L2021.98 253.196 Z\" fill=\"#000000\" fill-rule=\"evenodd\" fill-opacity=\"1\" /><path clip-path=\"url(#clip620)\" d=\"M2044.96 253.196 L2049.66 253.196 L2049.66 274.191 Q2049.66 279.747 2051.68 282.2 Q2053.69 284.631 2058.2 284.631 Q2062.69 284.631 2064.71 282.2 Q2066.72 279.747 2066.72 274.191 L2066.72 253.196 L2071.42 253.196 L2071.42 274.77 Q2071.42 281.529 2068.06 284.978 Q2064.73 288.427 2058.2 288.427 Q2051.65 288.427 2048.3 284.978 Q2044.96 281.529 2044.96 274.77 L2044.96 253.196 Z\" fill=\"#000000\" fill-rule=\"evenodd\" fill-opacity=\"1\" /><path clip-path=\"url(#clip620)\" d=\"M2077.53 261.83 L2081.79 261.83 L2087.12 282.061 L2092.42 261.83 L2097.44 261.83 L2102.76 282.061 L2108.06 261.83 L2112.32 261.83 L2105.54 287.756 L2100.52 287.756 L2094.94 266.506 L2089.34 287.756 L2084.31 287.756 L2077.53 261.83 Z\" fill=\"#000000\" fill-rule=\"evenodd\" fill-opacity=\"1\" /><path clip-path=\"url(#clip620)\" d=\"M2140.96 273.728 L2140.96 275.811 L2121.37 275.811 Q2121.65 280.209 2124.01 282.524 Q2126.4 284.816 2130.63 284.816 Q2133.09 284.816 2135.38 284.214 Q2137.69 283.612 2139.96 282.409 L2139.96 286.436 Q2137.67 287.408 2135.26 287.918 Q2132.86 288.427 2130.38 288.427 Q2124.18 288.427 2120.54 284.816 Q2116.93 281.205 2116.93 275.047 Q2116.93 268.682 2120.36 264.955 Q2123.8 261.205 2129.64 261.205 Q2134.87 261.205 2137.9 264.585 Q2140.96 267.941 2140.96 273.728 M2136.7 272.478 Q2136.65 268.983 2134.73 266.899 Q2132.83 264.816 2129.68 264.816 Q2126.12 264.816 2123.97 266.83 Q2121.84 268.844 2121.51 272.501 L2136.7 272.478 Z\" fill=\"#000000\" fill-rule=\"evenodd\" fill-opacity=\"1\" /><path clip-path=\"url(#clip620)\" d=\"M2147.95 261.83 L2152.21 261.83 L2152.21 287.756 L2147.95 287.756 L2147.95 261.83 M2147.95 251.737 L2152.21 251.737 L2152.21 257.131 L2147.95 257.131 L2147.95 251.737 Z\" fill=\"#000000\" fill-rule=\"evenodd\" fill-opacity=\"1\" /><path clip-path=\"url(#clip620)\" d=\"M2178.18 274.492 Q2178.18 269.862 2176.26 267.316 Q2174.36 264.77 2170.91 264.77 Q2167.49 264.77 2165.56 267.316 Q2163.67 269.862 2163.67 274.492 Q2163.67 279.098 2165.56 281.645 Q2167.49 284.191 2170.91 284.191 Q2174.36 284.191 2176.26 281.645 Q2178.18 279.098 2178.18 274.492 M2182.44 284.538 Q2182.44 291.158 2179.5 294.376 Q2176.56 297.617 2170.49 297.617 Q2168.25 297.617 2166.26 297.27 Q2164.27 296.945 2162.39 296.251 L2162.39 292.108 Q2164.27 293.126 2166.1 293.612 Q2167.92 294.098 2169.82 294.098 Q2174.01 294.098 2176.1 291.899 Q2178.18 289.723 2178.18 285.302 L2178.18 283.196 Q2176.86 285.487 2174.8 286.621 Q2172.74 287.756 2169.87 287.756 Q2165.1 287.756 2162.18 284.121 Q2159.27 280.487 2159.27 274.492 Q2159.27 268.473 2162.18 264.839 Q2165.1 261.205 2169.87 261.205 Q2172.74 261.205 2174.8 262.339 Q2176.86 263.473 2178.18 265.765 L2178.18 261.83 L2182.44 261.83 L2182.44 284.538 Z\" fill=\"#000000\" fill-rule=\"evenodd\" fill-opacity=\"1\" /><path clip-path=\"url(#clip620)\" d=\"M2212.76 272.108 L2212.76 287.756 L2208.5 287.756 L2208.5 272.247 Q2208.5 268.566 2207.07 266.737 Q2205.63 264.909 2202.76 264.909 Q2199.31 264.909 2197.32 267.108 Q2195.33 269.307 2195.33 273.103 L2195.33 287.756 L2191.05 287.756 L2191.05 251.737 L2195.33 251.737 L2195.33 265.858 Q2196.86 263.52 2198.92 262.362 Q2201 261.205 2203.71 261.205 Q2208.18 261.205 2210.47 263.983 Q2212.76 266.737 2212.76 272.108 Z\" fill=\"#000000\" fill-rule=\"evenodd\" fill-opacity=\"1\" /><path clip-path=\"url(#clip620)\" d=\"M2225.47 254.469 L2225.47 261.83 L2234.24 261.83 L2234.24 265.14 L2225.47 265.14 L2225.47 279.214 Q2225.47 282.385 2226.33 283.288 Q2227.21 284.191 2229.87 284.191 L2234.24 284.191 L2234.24 287.756 L2229.87 287.756 Q2224.94 287.756 2223.06 285.927 Q2221.19 284.075 2221.19 279.214 L2221.19 265.14 L2218.06 265.14 L2218.06 261.83 L2221.19 261.83 L2221.19 254.469 L2225.47 254.469 Z\" fill=\"#000000\" fill-rule=\"evenodd\" fill-opacity=\"1\" /><polyline clip-path=\"url(#clip620)\" style=\"stroke:#3da44d; stroke-linecap:butt; stroke-linejoin:round; stroke-width:4; stroke-opacity:1; fill:none\" points=\"\n",
       "  1842.87,322.316 1985.08,322.316 \n",
       "  \"/>\n",
       "<path clip-path=\"url(#clip620)\" d=\"M2024.62 309.642 L2018.27 326.841 L2030.98 326.841 L2024.62 309.642 M2021.98 305.036 L2027.28 305.036 L2040.45 339.596 L2035.59 339.596 L2032.44 330.73 L2016.86 330.73 L2013.71 339.596 L2008.78 339.596 L2021.98 305.036 Z\" fill=\"#000000\" fill-rule=\"evenodd\" fill-opacity=\"1\" /><path clip-path=\"url(#clip620)\" d=\"M2044.96 305.036 L2049.66 305.036 L2049.66 326.031 Q2049.66 331.587 2051.68 334.04 Q2053.69 336.471 2058.2 336.471 Q2062.69 336.471 2064.71 334.04 Q2066.72 331.587 2066.72 326.031 L2066.72 305.036 L2071.42 305.036 L2071.42 326.61 Q2071.42 333.369 2068.06 336.818 Q2064.73 340.267 2058.2 340.267 Q2051.65 340.267 2048.3 336.818 Q2044.96 333.369 2044.96 326.61 L2044.96 305.036 Z\" fill=\"#000000\" fill-rule=\"evenodd\" fill-opacity=\"1\" /><path clip-path=\"url(#clip620)\" d=\"M2096.54 314.434 L2096.54 318.462 Q2094.73 317.536 2092.79 317.073 Q2090.84 316.61 2088.76 316.61 Q2085.59 316.61 2083.99 317.582 Q2082.42 318.554 2082.42 320.499 Q2082.42 321.98 2083.55 322.837 Q2084.68 323.67 2088.11 324.434 L2089.57 324.758 Q2094.11 325.73 2096 327.512 Q2097.93 329.272 2097.93 332.443 Q2097.93 336.054 2095.05 338.161 Q2092.21 340.267 2087.21 340.267 Q2085.12 340.267 2082.86 339.85 Q2080.61 339.457 2078.11 338.647 L2078.11 334.249 Q2080.47 335.475 2082.76 336.1 Q2085.06 336.702 2087.3 336.702 Q2090.31 336.702 2091.93 335.684 Q2093.55 334.642 2093.55 332.767 Q2093.55 331.031 2092.37 330.105 Q2091.21 329.179 2087.25 328.323 L2085.77 327.975 Q2081.81 327.142 2080.06 325.429 Q2078.3 323.693 2078.3 320.684 Q2078.3 317.026 2080.89 315.036 Q2083.48 313.045 2088.25 313.045 Q2090.61 313.045 2092.69 313.392 Q2094.78 313.739 2096.54 314.434 Z\" fill=\"#000000\" fill-rule=\"evenodd\" fill-opacity=\"1\" /><path clip-path=\"url(#clip620)\" d=\"M2104.71 313.67 L2108.97 313.67 L2108.97 339.596 L2104.71 339.596 L2104.71 313.67 M2104.71 303.577 L2108.97 303.577 L2108.97 308.971 L2104.71 308.971 L2104.71 303.577 Z\" fill=\"#000000\" fill-rule=\"evenodd\" fill-opacity=\"1\" /><path clip-path=\"url(#clip620)\" d=\"M2136.49 326.656 Q2136.49 321.957 2134.55 319.295 Q2132.62 316.61 2129.24 316.61 Q2125.86 316.61 2123.92 319.295 Q2122 321.957 2122 326.656 Q2122 331.355 2123.92 334.04 Q2125.86 336.702 2129.24 336.702 Q2132.62 336.702 2134.55 334.04 Q2136.49 331.355 2136.49 326.656 M2122 317.605 Q2123.34 315.29 2125.38 314.179 Q2127.44 313.045 2130.29 313.045 Q2135.01 313.045 2137.95 316.795 Q2140.91 320.545 2140.91 326.656 Q2140.91 332.767 2137.95 336.517 Q2135.01 340.267 2130.29 340.267 Q2127.44 340.267 2125.38 339.156 Q2123.34 338.022 2122 335.707 L2122 339.596 L2117.72 339.596 L2117.72 303.577 L2122 303.577 L2122 317.605 Z\" fill=\"#000000\" fill-rule=\"evenodd\" fill-opacity=\"1\" /></svg>\n"
      ]
     },
     "execution_count": 252,
     "metadata": {},
     "output_type": "execute_result"
    }
   ],
   "source": [
    "#AUROC curves\n",
    "\n",
    "T = Int(T)\n",
    "AU_curve=zeros(T)\n",
    "AU_weight=zeros(T)\n",
    "AU_exact=zeros(T)\n",
    "AU_sib=zeros(T)\n",
    "for t = 1:T\n",
    "    epidemic_risk=zeros(N)\n",
    "    true_risk=zeros(N)\n",
    "    weight_risk = zeros(N)\n",
    "    sib_risk = zeros(N)\n",
    "    for i=1:N\n",
    "       epidemic_risk[i] = marginal(i,t,statscau)\n",
    "       #true_risk[i] = marginal(i,t,stats)   \n",
    "       weight_risk[i] = marginalweight(i,t,statsw, w)\n",
    "       sib_risk[i] = p_sib[i,Int(round(t/dt))] \n",
    "    end\n",
    "    xt = xtrue .< t\n",
    "    AU_curve[t] = AUROC(ROC(xt, epidemic_risk))\n",
    "    AU_weight[t] = AUROC(ROC(xt, weight_risk))\n",
    "    #AU_exact[t] = AUROC(ROC(xt, true_risk))\n",
    "    AU_sib[t] = AUROC(ROC(xt, sib_risk))\n",
    "end\n",
    "\n",
    "plot(LinRange(1,T,T),AU_curve, label=\"AUROC\", title=\"Causality VS Exact AUROC in function of time\")\n",
    "plot!(LinRange(1,T,T),AU_weight, label=\"AUweight\")\n",
    "#plot!(LinRange(1,T,T),AU_exact, label=\"AUexact\")\n",
    "plot!(LinRange(1,T,T), AU_sib, label=\"AUsib\")\n",
    "xlabel!(\"t\")\n",
    "ylabel!(\"AUROC\")"
   ]
  },
  {
   "cell_type": "code",
   "execution_count": null,
   "metadata": {},
   "outputs": [],
   "source": []
  }
 ],
 "metadata": {
  "kernelspec": {
   "display_name": "Julia 1.7.0-rc2",
   "language": "julia",
   "name": "julia-1.7"
  },
  "language_info": {
   "file_extension": ".jl",
   "mimetype": "application/julia",
   "name": "julia",
   "version": "1.7.0"
  }
 },
 "nbformat": 4,
 "nbformat_minor": 4
}
