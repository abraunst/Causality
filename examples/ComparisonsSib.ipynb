{
 "cells": [
  {
   "cell_type": "markdown",
   "metadata": {},
   "source": [
    "Continuous-time model\n",
    "---\n",
    "\n",
    "Let's order the infection times $t_{\\pi_{1}}<t_{\\pi_{2}}<\\dots<t_{\\pi_{N}}$\n",
    ". Let $\\lambda_{i}\\left(t\\right)$ be a time-dependent transmission\n",
    "rate and $L_{i}\\left(t\\right)=\\int_{0}^{t}\\lambda_{ij}\\left(s\\right)ds$\n",
    "its primitive. Then $\\rho_{i}\\left(t_i; t_j\\right)=\\lambda_{i}\\left(t_i\\right)e^{-\\int_{t_j}^{t_i}\\lambda_{i}\\left(s\\right)ds} = \\lambda_{i}\\left(t_j\\right)e^{L_{i}(t_j) - L_{i}(t_i) }$\n",
    "will be the transmission ``delay'' density distribution. "
   ]
  },
  {
   "cell_type": "markdown",
   "metadata": {},
   "source": [
    "\\begin{align*}p\\left(t_{1},\\dots,t_{N}\\right) & =\\prod_{i=1}^{N}\\lim_{ds\\to0^{+}}\\frac{\\prod_{j\\in\\partial i:t_{j}<t_{i}}e^{L_{i}(t_{j})-L_{i}(t_{i}-ds)}-\\prod_{j\\in\\partial i:t_{j}<t_{i}}e^{L_{i}(t_{j})-L_{i}(t_{i})}}{ds}\\\\\n",
    " & =\\prod_{i=1}^{N}\\frac{d}{ds}_{|s=0}\\prod_{j\\in\\partial i:t_{j}<t_{i}}e^{L_{i}(t_{j})-L_{i}(t_{i}-ds)}\\\\\n",
    " & =\\prod_{i=1}^{N}\\left\\{ \\left(\\prod_{j\\in\\partial i:t_{j}<t_{i}}e^{L_{i}(t_{j})-L_{i}(t_{i})}\\right)\\sum_{j\\in\\partial i:t_{j}<t_{i}}\\lambda_{i}\\left(t_{i}\\right)\\right\\} \\\\\n",
    "\\mathcal{L}_{0}\\left(t_{1},\\dots,t_{N}\\right) & =\\log p\\left(t_{1},\\dots,t_{N}\\right)\\\\\n",
    " & =-\\sum_{i=1}^{N}\\left\\{ \\sum_{j\\in\\partial i:t_{j}<t_{i}}\\left(L_{i}(t_{i})-L_{i}(t_{j})\\right)-\\log\\left(\\sum_{j\\in\\partial i:t_{j}<t_{i}}\\lambda_{i}\\left(t_{i}\\right)\\right)\\right\\} \n",
    "\\end{align*}"
   ]
  },
  {
   "cell_type": "markdown",
   "metadata": {},
   "source": [
    "Note that $$\\int_{t_j}^{t_i} \\rho_{i}(s; t_j) ds = 1-e^{-\\left(L_{i}(t_i) - L_{i}(t_j)\\right)}$$ so $$\\lambda_{i}(t) = -\\frac{d}{dt}\\log \\left(1-\\int_{t_j}^{t_i} \\rho_{i}(s) ds\\right)$$"
   ]
  },
  {
   "cell_type": "markdown",
   "metadata": {},
   "source": [
    "\n",
    "\\begin{align}\\lambda(t) & =ae^{-\\left(\\frac{t-b}{c}\\right)^{2}}\\\\\n",
    "\\frac{x-b}{c} & =\\frac{y}{\\sqrt{2}}\\\\\n",
    "dx & =\\frac{c}{\\sqrt{2}}dy\\\\\n",
    "L(t)=\\int_{0}^{t}ae^{-\\left(\\frac{x-b}{c}\\right)^{2}}dx & = ac\\int_{\\frac{0-b}{c}}^{\\frac{t-b}{c}}e^{-y^{2}}dy\\\\\n",
    " & =ac\\sqrt{\\pi}\\frac{1}{\\sqrt{\\pi}}\\int_{-\\frac{b}{c}}^{\\frac{t-b}{c}}e^{-y^{2}}dy\\\\\n",
    " & =\\frac{ac\\sqrt{\\pi}}{2}\\left(\\mathrm{erfc}\\left(-\\frac{t-b}{c}\\right)-\\mathrm{erfc}\\left(\\frac{b}{c}\\right)\\right)\\\\\n",
    "\\rho_{i}\\left(t_{i};t_{j}\\right) & =\\lambda_{i}\\left(t_{i}\\right)e^{-\\int_{t_{j}}^{t_{i}}\\lambda_{i}\\left(s\\right)ds}=\\lambda_{i}\\left(t_{i}\\right)e^{L_{i}(t_{j})-L_{i}(t_{i})}\\\\\n",
    "\\frac{d}{ds}-e^{L_{i}(t_{j})-L_{i}(s)} & =\\lambda\\left(s\\right)e^{L_{i}(t_{j})-L_{i}(s)}=\\rho_{i}\\left(s;t_{j}\\right)\\\\\n",
    "\\end{align}"
   ]
  },
  {
   "cell_type": "markdown",
   "metadata": {},
   "source": [
    "Sampling \n",
    "---\n",
    "\\begin{align}\n",
    "\\int_{t_{j}}^{t}\\rho(s;t_{j})ds & =1-e^{L_{i}(t_{j})-L_{i}(t)}=1-r\\sim U(0,1)\\\\\n",
    "e^{L_{i}(t_{j})-L_{i}(t)} & =r\\\\\n",
    "L_{i}(t) & =L_{i}\\left(t_{j}\\right)-\\log(r)\\\\\n",
    "\\mathrm{erfc}\\left(-\\frac{t-b}{c}\\right) & =\\frac{2}{ac\\sqrt{\\pi}}\\left(L_{i}\\left(t_{j}\\right)-\\log(r)\\right)+\\mathrm{erfc}\\left(\\frac{b}{c}\\right)\\\\\n",
    "t & =-c\\,\\mathrm{ierfc}\\left(\\frac{2}{ac\\sqrt{\\pi}}\\left(L_{i}\\left(t_{j}\\right)-\\log(r)\\right)+\\mathrm{erfc}\\left(\\frac{b}{c}\\right)\\right)+b\n",
    "\\end{align}"
   ]
  },
  {
   "cell_type": "code",
   "execution_count": 1,
   "metadata": {},
   "outputs": [
    {
     "data": {
      "text/plain": [
       "sibyl (generic function with 1 method)"
      ]
     },
     "execution_count": 1,
     "metadata": {},
     "output_type": "execute_result"
    }
   ],
   "source": [
    "using PyCall\n",
    "@pyimport sib\n",
    "function sibyl(N, T_cont, Λ, O, γ, λ ; dt=1/5, maxit = 400, tol = 1e-14)\n",
    "    \n",
    "    T = Int(round(T_cont / dt))\n",
    "    contacts = [(i-1,j-1,t, λ * dt) for t in 1:T for (i,j,v) in zip(findnz(Λ.A)...)];\n",
    "    obs = [[(i,-1,t) for t=1:T for i=0:N-1];\n",
    "           [(i-1,s,Int(round(t/dt))) for (i,s,t,p) in O]]\n",
    "    sort!(obs, lt=((i1,s1,t1),(i2,s2,t2))->(t1<t2))\n",
    "    prob_sus = 0.5\n",
    "    prob_seed=γ\n",
    "    pseed = prob_seed / (2 - prob_seed)\n",
    "    psus = prob_sus * (1 - pseed)\n",
    "    params = sib.Params(prob_r=sib.Exponential(mu=0), pseed=pseed, psus=psus,pautoinf=1e-10,fp_rate=1e-10,fn_rate=1e-10)\n",
    "    f = sib.FactorGraph(contacts=contacts, observations=obs, params=params)\n",
    "    sib.iterate(f, maxit=maxit,tol=tol)\n",
    "    sib.iterate(f, maxit=maxit, damping=0.5, tol=tol)\n",
    "    sib.iterate(f, maxit=maxit, damping=0.9, tol=tol)\n",
    "    p_sib=[collect(n.bt) for n in f.nodes]\n",
    "    m_sib = zeros(N, T)\n",
    "    for i=1:N\n",
    "        m_sib[i,1] = p_sib[i][1] \n",
    "        for t=2:T\n",
    "            m_sib[i,t] = m_sib[i,t-1] + p_sib[i][t]\n",
    "        end\n",
    "    end \n",
    "    return m_sib\n",
    "end\n"
   ]
  },
  {
   "cell_type": "code",
   "execution_count": 3,
   "metadata": {},
   "outputs": [
    {
     "data": {
      "text/plain": [
       "Causality.SparseMatrixDiGraph{Int64}(sparse([2, 27, 28, 98, 114, 214, 262, 284, 323, 678  …  1427, 969, 4403, 4422, 3392, 2389, 399, 4605, 2768, 1099], [1, 1, 1, 1, 1, 1, 1, 1, 1, 1  …  4991, 4992, 4993, 4994, 4995, 4996, 4997, 4998, 4999, 5000], [π, π, π, π, π, π, π, π, π, π  …  π, π, π, π, π, π, π, π, π, π], 5000, 5000), sparse([2, 27, 28, 98, 114, 214, 262, 284, 323, 678  …  1427, 969, 4403, 4422, 3392, 2389, 399, 4605, 2768, 1099], [1, 1, 1, 1, 1, 1, 1, 1, 1, 1  …  4991, 4992, 4993, 4994, 4995, 4996, 4997, 4998, 4999, 5000], [22, 720, 731, 1396, 1515, 1987, 2189, 2261, 2436, 3635  …  5313, 4399, 9373, 9394, 8221, 6868, 2723, 9591, 7411, 4658], 5000, 5000))"
      ]
     },
     "execution_count": 3,
     "metadata": {},
     "output_type": "execute_result"
    }
   ],
   "source": [
    "using SparseArrays, LinearAlgebra\n",
    "using Causality\n",
    "T, N = 20.0, 5000\n",
    "ρ = 3/N\n",
    "G = Causality.makeBarabasi(N)"
   ]
  },
  {
   "cell_type": "code",
   "execution_count": 4,
   "metadata": {},
   "outputs": [
    {
     "data": {
      "text/plain": [
       "getpar (generic function with 1 method)"
      ]
     },
     "execution_count": 4,
     "metadata": {},
     "output_type": "execute_result"
    }
   ],
   "source": [
    "getpar(p,a1,b1,c1,a2,b2,c2) = [fill(p, 1, N);\n",
    "     fill(a1, 1, N); fill(b1, 1, N); fill(c1, 1, N);\n",
    "     fill(a2,   1, N); fill(b2, 1, N); fill(c2, 1, N)]"
   ]
  },
  {
   "cell_type": "code",
   "execution_count": 5,
   "metadata": {},
   "outputs": [
    {
     "data": {
      "text/plain": [
       "IndividualSI{GaussianRate, GaussianRate}"
      ]
     },
     "execution_count": 5,
     "metadata": {},
     "output_type": "execute_result"
    }
   ],
   "source": [
    "ε = 1e-10\n",
    "λ = 0.2\n",
    "θp = getpar(1/N, ε, T/2, 1/ε,   1.0, T/2, 1/ε)\n",
    "θmin = getpar(ε  , ε  ,  -T,   ε,   ε,  -T, ε  )\n",
    "θmax = getpar(1-ε, 1/ε,  2T, 1/ε, 1/ε,  2T, 1/ε)\n",
    "const I = IndividualSI{GaussianRate,GaussianRate}"
   ]
  },
  {
   "cell_type": "code",
   "execution_count": 6,
   "metadata": {},
   "outputs": [],
   "source": [
    "Mp = StochasticModel(I,T, θp, G, ConstantRate(λ));\n",
    "sample! = Sampler(Mp);"
   ]
  },
  {
   "cell_type": "code",
   "execution_count": 7,
   "metadata": {},
   "outputs": [],
   "source": [
    "ε = 2e-3\n",
    "θp2 = getpar(1/N, ε, T/2, 1/ε,   1.0, T/2, 1/ε)\n",
    "Mp2 = StochasticModel(I, T, θp2, G, ConstantRate(λ));"
   ]
  },
  {
   "cell_type": "code",
   "execution_count": 8,
   "metadata": {},
   "outputs": [],
   "source": [
    "θ = getpar(2/N  , 2/N  ,  T/2,   2*T,   1,  T/2, 3*T  )\n",
    "M = StochasticModel(I, T, θ, G, ConstantRate(λ));"
   ]
  },
  {
   "cell_type": "code",
   "execution_count": 11,
   "metadata": {},
   "outputs": [
    {
     "data": {
      "text/plain": [
       "460-element Vector{Tuple{Int64, Bool, Float64, Float64}}:\n",
       " (1, 1, 14.769963396926006, 1.0e-6)\n",
       " (2, 1, 11.107808867604456, 1.0e-6)\n",
       " (3, 1, 15.958616424809575, 1.0e-6)\n",
       " (4, 1, 16.184458803766894, 1.0e-6)\n",
       " (6, 1, 19.67840442151846, 1.0e-6)\n",
       " (7, 1, 16.7282235606287, 1.0e-6)\n",
       " (8, 1, 18.733145545292974, 1.0e-6)\n",
       " (9, 1, 18.96196366539311, 1.0e-6)\n",
       " (12, 1, 19.04813039018467, 1.0e-6)\n",
       " (15, 1, 17.124924868728648, 1.0e-6)\n",
       " (16, 1, 18.75973817771652, 1.0e-6)\n",
       " (18, 1, 16.605610728719242, 1.0e-6)\n",
       " (19, 1, 17.237745895562195, 1.0e-6)\n",
       " ⋮\n",
       " (1208, 1, 16.261547296865313, 1.0e-6)\n",
       " (1210, 1, 18.39212125537236, 1.0e-6)\n",
       " (1211, 1, 12.483214418462772, 1.0e-6)\n",
       " (1214, 1, 12.693079360283633, 1.0e-6)\n",
       " (1216, 1, 17.75419469875237, 1.0e-6)\n",
       " (1225, 1, 14.022938258198954, 1.0e-6)\n",
       " (1235, 1, 12.640405223129141, 1.0e-6)\n",
       " (1237, 1, 13.968908348260518, 1.0e-6)\n",
       " (1241, 1, 19.776419160458907, 1.0e-6)\n",
       " (1244, 1, 19.440769680772757, 1.0e-6)\n",
       " (1245, 1, 17.67816615964424, 1.0e-6)\n",
       " (1248, 1, 19.846305070474923, 1.0e-6)"
      ]
     },
     "execution_count": 11,
     "metadata": {},
     "output_type": "execute_result"
    }
   ],
   "source": [
    "xtrue = zeros(N)\n",
    "sample!(xtrue)\n",
    "nobs, p = Int(round(N/4)), 1e-6\n",
    "O = [(ti = T*(1+rand())/2; (i,xtrue[i] < ti,ti,p)) for i=1:nobs]\n",
    "[o for o in O if o[2] == 1]"
   ]
  },
  {
   "cell_type": "raw",
   "metadata": {
    "jupyter": {
     "outputs_hidden": true
    }
   },
   "source": [
    "using ProgressMeter\n",
    "ProgressMeter.ijulia_behavior(:clear)\n",
    "θ = getpar(2/N  , 2/N  ,  T/2,   2*T,   1,  T/2, 3*T  )\n",
    "M = StochasticModel(I, T, θ, G, ConstantRate(λ));\n",
    "descend!(Mp2, O; M=M, numsamples=1000, numiters=100, \n",
    "         θmin=θmin, θmax=θmax, descender=SignDescender(0.1));\n",
    "descend!(Mp2, O; M=M, numsamples=2000, numiters=100, \n",
    "         θmin=θmin, θmax=θmax, descender=SignDescender(0.1));\n",
    "descend!(Mp2, O; M=M, numsamples=8000, numiters=100, \n",
    "         θmin=θmin, θmax=θmax, descender=SignDescender(0.1));\n",
    "descend!(Mp2, O; M=M, numsamples=32000, numiters=100, \n",
    "         θmin=θmin, θmax=θmax, descender=SignDescender(0.1));\n",
    "descend!(Mp2, O; M=M, numsamples=32000, numiters=100, \n",
    "         θmin=θmin, θmax=θmax, descender=SignDescender(0.03));"
   ]
  },
  {
   "cell_type": "raw",
   "metadata": {},
   "source": [
    "using ProgressMeter\n",
    "ProgressMeter.ijulia_behavior(:clear)\n",
    "θ = getpar(2/N  , 2/N  ,  T/2,   2*T,   1,  T/2, 3*T  )\n",
    "M_ = StochasticModel(I, T, θ, G, ConstantRate(λ));\n",
    "descend!(Mp2, O; M=M_, numsamples=4000, numiters=200, \n",
    "         θmin=θmin, θmax=θmax, descender=SignDescender(0.1));\n",
    "descend!(Mp2, O; M=M_, numsamples=4000, numiters=200, \n",
    "         θmin=θmin, θmax=θmax, descender=SignDescender(0.03));\n",
    "descend!(Mp2, O; M=M_, numsamples=4000, numiters=200, \n",
    "         θmin=θmin, θmax=θmax, descender=SignDescender(0.01));\n"
   ]
  },
  {
   "cell_type": "raw",
   "metadata": {},
   "source": [
    "θ = getpar(2/N  , 2/N  ,  T/2,   2*T,   1,  T/2, 3*T  )\n",
    "M = StochasticModel(I, T, θ, G, ConstantRate(λ));\n",
    "descend!(Mp2, O; M=M, numsamples=1000, numiters=200, \n",
    "         θmin=θmin, θmax=θmax, descender=SignDescender(0.1));\n",
    "descend!(Mp2, O; M=M, numsamples=1000, numiters=200, \n",
    "         θmin=θmin, θmax=θmax, descender=SignDescender(0.03));\n",
    "descend!(Mp2, O; M=M, numsamples=2000, numiters=100, \n",
    "         θmin=θmin, θmax=θmax, descender=SignDescender(0.01));"
   ]
  },
  {
   "cell_type": "code",
   "execution_count": 12,
   "metadata": {},
   "outputs": [
    {
     "name": "stderr",
     "output_type": "stream",
     "text": [
      "┌ Warning: ProgressMeter by default refresh meters with additional information in IJulia via `IJulia.clear_output`, which clears all outputs in the cell. \n",
      "│  - To prevent this behaviour, do `ProgressMeter.ijulia_behavior(:append)`. \n",
      "│  - To disable this warning message, do `ProgressMeter.ijulia_behavior(:clear)`.\n",
      "└ @ ProgressMeter /home/students/mmariani/.julia/packages/ProgressMeter/Vf8un/src/ProgressMeter.jl:620\n",
      "\u001b[32mProgress: 100%|█████████████████████████████████████████| Time: 0:12:17\u001b[39m\n",
      "\u001b[34m  F:  4011.2752983655423\u001b[39m\n"
     ]
    }
   ],
   "source": [
    "θ = getpar(2/N  , 2/N  ,  T/2,   2*T,   1,  T/2, 3*T  )\n",
    "M = StochasticModel(I, T, θ, G, ConstantRate(λ));\n",
    "descend!(Mp2, O; M=M, numsamples=10000, numiters=20, \n",
    "         θmin=θmin, θmax=θmax, descender=SignDescender(0.1));\n",
    "descend!(Mp2, O; M=M, numsamples=20000, numiters=10, \n",
    "         θmin=θmin, θmax=θmax, descender=SignDescender(0.1));\n",
    "descend!(Mp2, O; M=M, numsamples=20000, numiters=10, \n",
    "         θmin=θmin, θmax=θmax, descender=SignDescender(0.03));"
   ]
  },
  {
   "cell_type": "code",
   "execution_count": 13,
   "metadata": {},
   "outputs": [
    {
     "name": "stderr",
     "output_type": "stream",
     "text": [
      "\u001b[32mProgress: 100%|█████████████████████████████████████████| Time: 0:00:14\u001b[39m\n"
     ]
    }
   ],
   "source": [
    "sample! = Sampler(M)\n",
    "statscau = prior(M);"
   ]
  },
  {
   "cell_type": "raw",
   "metadata": {},
   "source": [
    "sample!_ = Sampler(M_)\n",
    "statscau_ = prior(M_);"
   ]
  },
  {
   "cell_type": "code",
   "execution_count": 14,
   "metadata": {},
   "outputs": [
    {
     "name": "stdout",
     "output_type": "stream",
     "text": [
      "sib.iterate(damp=0.0): 17/20 3.772e-16/1e-15      \n",
      "sib.iterate(damp=0.5): 0/20 0.000e+00/1e-15      \n",
      "sib.iterate(damp=0.9): 19/20 8.242e-13/1e-15      \r"
     ]
    }
   ],
   "source": [
    "dt = 1/5\n",
    "p_sib = sibyl(N, T, G, O, 1/N, λ; dt=dt, maxit = 20, tol = 1e-15);"
   ]
  },
  {
   "cell_type": "markdown",
   "metadata": {},
   "source": [
    "## Marginals and ROC curve"
   ]
  },
  {
   "cell_type": "code",
   "execution_count": 15,
   "metadata": {},
   "outputs": [
    {
     "data": {
      "text/plain": [
       "AUROC (generic function with 1 method)"
      ]
     },
     "execution_count": 15,
     "metadata": {},
     "output_type": "execute_result"
    }
   ],
   "source": [
    "function marginal(i, t, stats)\n",
    "    numsamp = size(stats,1)\n",
    "    sum(stats[:,i] .< t)/numsamp\n",
    "end\n",
    "\n",
    "function tpr(xtrue, rank) \n",
    "    cumsum(xtrue[rank]) ./( cumsum(xtrue[rank])[end])\n",
    "end\n",
    "\n",
    "function fpr(xtrue, rank) \n",
    "    N = size(rank,1)\n",
    "    return (range(1,N,length=N) .- cumsum(xtrue[rank])) ./ (range(1,N,length=N) .- cumsum(xtrue[rank]) )[end]\n",
    "end\n",
    "\n",
    "function ROC(xtrue, p)\n",
    "    N = size(xtrue,1)\n",
    "    rank = sortperm(p, rev=true)\n",
    "    \n",
    "    return fpr(xtrue, rank) , tpr(xtrue, rank)\n",
    "end\n",
    "\n",
    "function AUROC(ROC)\n",
    "    N = size(ROC[1],1) \n",
    "    AU = 0\n",
    "    for t = 1:N-1\n",
    "        AU += ROC[2][t] * (ROC[1][t+1] - ROC[1][t])\n",
    "    end\n",
    "    return AU\n",
    "end"
   ]
  },
  {
   "cell_type": "code",
   "execution_count": 16,
   "metadata": {},
   "outputs": [
    {
     "data": {
      "image/svg+xml": [
       "<?xml version=\"1.0\" encoding=\"utf-8\"?>\n",
       "<svg xmlns=\"http://www.w3.org/2000/svg\" xmlns:xlink=\"http://www.w3.org/1999/xlink\" width=\"600\" height=\"400\" viewBox=\"0 0 2400 1600\">\n",
       "<defs>\n",
       "  <clipPath id=\"clip590\">\n",
       "    <rect x=\"0\" y=\"0\" width=\"2400\" height=\"1600\"/>\n",
       "  </clipPath>\n",
       "</defs>\n",
       "<path clip-path=\"url(#clip590)\" d=\"\n",
       "M0 1600 L2400 1600 L2400 0 L0 0  Z\n",
       "  \" fill=\"#ffffff\" fill-rule=\"evenodd\" fill-opacity=\"1\"/>\n",
       "<defs>\n",
       "  <clipPath id=\"clip591\">\n",
       "    <rect x=\"480\" y=\"0\" width=\"1681\" height=\"1600\"/>\n",
       "  </clipPath>\n",
       "</defs>\n",
       "<path clip-path=\"url(#clip590)\" d=\"\n",
       "M186.274 1486.45 L2352.76 1486.45 L2352.76 47.2441 L186.274 47.2441  Z\n",
       "  \" fill=\"#ffffff\" fill-rule=\"evenodd\" fill-opacity=\"1\"/>\n",
       "<defs>\n",
       "  <clipPath id=\"clip592\">\n",
       "    <rect x=\"186\" y=\"47\" width=\"2167\" height=\"1440\"/>\n",
       "  </clipPath>\n",
       "</defs>\n",
       "<polyline clip-path=\"url(#clip592)\" style=\"stroke:#000000; stroke-linecap:butt; stroke-linejoin:round; stroke-width:2; stroke-opacity:0.1; fill:none\" points=\"\n",
       "  677.874,1486.45 677.874,47.2441 \n",
       "  \"/>\n",
       "<polyline clip-path=\"url(#clip592)\" style=\"stroke:#000000; stroke-linecap:butt; stroke-linejoin:round; stroke-width:2; stroke-opacity:0.1; fill:none\" points=\"\n",
       "  1215.73,1486.45 1215.73,47.2441 \n",
       "  \"/>\n",
       "<polyline clip-path=\"url(#clip592)\" style=\"stroke:#000000; stroke-linecap:butt; stroke-linejoin:round; stroke-width:2; stroke-opacity:0.1; fill:none\" points=\"\n",
       "  1753.58,1486.45 1753.58,47.2441 \n",
       "  \"/>\n",
       "<polyline clip-path=\"url(#clip592)\" style=\"stroke:#000000; stroke-linecap:butt; stroke-linejoin:round; stroke-width:2; stroke-opacity:0.1; fill:none\" points=\"\n",
       "  2291.44,1486.45 2291.44,47.2441 \n",
       "  \"/>\n",
       "<polyline clip-path=\"url(#clip590)\" style=\"stroke:#000000; stroke-linecap:butt; stroke-linejoin:round; stroke-width:4; stroke-opacity:1; fill:none\" points=\"\n",
       "  186.274,1486.45 2352.76,1486.45 \n",
       "  \"/>\n",
       "<polyline clip-path=\"url(#clip590)\" style=\"stroke:#000000; stroke-linecap:butt; stroke-linejoin:round; stroke-width:4; stroke-opacity:1; fill:none\" points=\"\n",
       "  677.874,1486.45 677.874,1467.55 \n",
       "  \"/>\n",
       "<polyline clip-path=\"url(#clip590)\" style=\"stroke:#000000; stroke-linecap:butt; stroke-linejoin:round; stroke-width:4; stroke-opacity:1; fill:none\" points=\"\n",
       "  1215.73,1486.45 1215.73,1467.55 \n",
       "  \"/>\n",
       "<polyline clip-path=\"url(#clip590)\" style=\"stroke:#000000; stroke-linecap:butt; stroke-linejoin:round; stroke-width:4; stroke-opacity:1; fill:none\" points=\"\n",
       "  1753.58,1486.45 1753.58,1467.55 \n",
       "  \"/>\n",
       "<polyline clip-path=\"url(#clip590)\" style=\"stroke:#000000; stroke-linecap:butt; stroke-linejoin:round; stroke-width:4; stroke-opacity:1; fill:none\" points=\"\n",
       "  2291.44,1486.45 2291.44,1467.55 \n",
       "  \"/>\n",
       "<path clip-path=\"url(#clip590)\" d=\"M668.152 1514.29 L686.508 1514.29 L686.508 1518.22 L672.434 1518.22 L672.434 1526.7 Q673.453 1526.35 674.471 1526.19 Q675.49 1526 676.508 1526 Q682.295 1526 685.675 1529.17 Q689.054 1532.34 689.054 1537.76 Q689.054 1543.34 685.582 1546.44 Q682.11 1549.52 675.791 1549.52 Q673.615 1549.52 671.346 1549.15 Q669.101 1548.78 666.693 1548.04 L666.693 1543.34 Q668.777 1544.47 670.999 1545.03 Q673.221 1545.58 675.698 1545.58 Q679.703 1545.58 682.041 1543.48 Q684.379 1541.37 684.379 1537.76 Q684.379 1534.15 682.041 1532.04 Q679.703 1529.94 675.698 1529.94 Q673.823 1529.94 671.948 1530.35 Q670.096 1530.77 668.152 1531.65 L668.152 1514.29 Z\" fill=\"#000000\" fill-rule=\"evenodd\" fill-opacity=\"1\" /><path clip-path=\"url(#clip590)\" d=\"M1190.42 1544.91 L1198.06 1544.91 L1198.06 1518.55 L1189.75 1520.21 L1189.75 1515.95 L1198.01 1514.29 L1202.69 1514.29 L1202.69 1544.91 L1210.32 1544.91 L1210.32 1548.85 L1190.42 1548.85 L1190.42 1544.91 Z\" fill=\"#000000\" fill-rule=\"evenodd\" fill-opacity=\"1\" /><path clip-path=\"url(#clip590)\" d=\"M1229.77 1517.37 Q1226.16 1517.37 1224.33 1520.93 Q1222.52 1524.47 1222.52 1531.6 Q1222.52 1538.71 1224.33 1542.27 Q1226.16 1545.82 1229.77 1545.82 Q1233.4 1545.82 1235.21 1542.27 Q1237.04 1538.71 1237.04 1531.6 Q1237.04 1524.47 1235.21 1520.93 Q1233.4 1517.37 1229.77 1517.37 M1229.77 1513.66 Q1235.58 1513.66 1238.63 1518.27 Q1241.71 1522.85 1241.71 1531.6 Q1241.71 1540.33 1238.63 1544.94 Q1235.58 1549.52 1229.77 1549.52 Q1223.96 1549.52 1220.88 1544.94 Q1217.82 1540.33 1217.82 1531.6 Q1217.82 1522.85 1220.88 1518.27 Q1223.96 1513.66 1229.77 1513.66 Z\" fill=\"#000000\" fill-rule=\"evenodd\" fill-opacity=\"1\" /><path clip-path=\"url(#clip590)\" d=\"M1728.77 1544.91 L1736.41 1544.91 L1736.41 1518.55 L1728.1 1520.21 L1728.1 1515.95 L1736.36 1514.29 L1741.04 1514.29 L1741.04 1544.91 L1748.68 1544.91 L1748.68 1548.85 L1728.77 1548.85 L1728.77 1544.91 Z\" fill=\"#000000\" fill-rule=\"evenodd\" fill-opacity=\"1\" /><path clip-path=\"url(#clip590)\" d=\"M1758.17 1514.29 L1776.52 1514.29 L1776.52 1518.22 L1762.45 1518.22 L1762.45 1526.7 Q1763.47 1526.35 1764.49 1526.19 Q1765.51 1526 1766.52 1526 Q1772.31 1526 1775.69 1529.17 Q1779.07 1532.34 1779.07 1537.76 Q1779.07 1543.34 1775.6 1546.44 Q1772.13 1549.52 1765.81 1549.52 Q1763.63 1549.52 1761.36 1549.15 Q1759.12 1548.78 1756.71 1548.04 L1756.71 1543.34 Q1758.79 1544.47 1761.02 1545.03 Q1763.24 1545.58 1765.71 1545.58 Q1769.72 1545.58 1772.06 1543.48 Q1774.39 1541.37 1774.39 1537.76 Q1774.39 1534.15 1772.06 1532.04 Q1769.72 1529.94 1765.71 1529.94 Q1763.84 1529.94 1761.96 1530.35 Q1760.11 1530.77 1758.17 1531.65 L1758.17 1514.29 Z\" fill=\"#000000\" fill-rule=\"evenodd\" fill-opacity=\"1\" /><path clip-path=\"url(#clip590)\" d=\"M2270.21 1544.91 L2286.53 1544.91 L2286.53 1548.85 L2264.59 1548.85 L2264.59 1544.91 Q2267.25 1542.16 2271.83 1537.53 Q2276.44 1532.88 2277.62 1531.53 Q2279.87 1529.01 2280.75 1527.27 Q2281.65 1525.51 2281.65 1523.82 Q2281.65 1521.07 2279.7 1519.33 Q2277.78 1517.6 2274.68 1517.6 Q2272.48 1517.6 2270.03 1518.36 Q2267.6 1519.13 2264.82 1520.68 L2264.82 1515.95 Q2267.64 1514.82 2270.1 1514.24 Q2272.55 1513.66 2274.59 1513.66 Q2279.96 1513.66 2283.15 1516.35 Q2286.35 1519.03 2286.35 1523.52 Q2286.35 1525.65 2285.54 1527.57 Q2284.75 1529.47 2282.64 1532.07 Q2282.07 1532.74 2278.96 1535.95 Q2275.86 1539.15 2270.21 1544.91 Z\" fill=\"#000000\" fill-rule=\"evenodd\" fill-opacity=\"1\" /><path clip-path=\"url(#clip590)\" d=\"M2306.35 1517.37 Q2302.74 1517.37 2300.91 1520.93 Q2299.1 1524.47 2299.1 1531.6 Q2299.1 1538.71 2300.91 1542.27 Q2302.74 1545.82 2306.35 1545.82 Q2309.98 1545.82 2311.79 1542.27 Q2313.62 1538.71 2313.62 1531.6 Q2313.62 1524.47 2311.79 1520.93 Q2309.98 1517.37 2306.35 1517.37 M2306.35 1513.66 Q2312.16 1513.66 2315.21 1518.27 Q2318.29 1522.85 2318.29 1531.6 Q2318.29 1540.33 2315.21 1544.94 Q2312.16 1549.52 2306.35 1549.52 Q2300.54 1549.52 2297.46 1544.94 Q2294.4 1540.33 2294.4 1531.6 Q2294.4 1522.85 2297.46 1518.27 Q2300.54 1513.66 2306.35 1513.66 Z\" fill=\"#000000\" fill-rule=\"evenodd\" fill-opacity=\"1\" /><polyline clip-path=\"url(#clip592)\" style=\"stroke:#000000; stroke-linecap:butt; stroke-linejoin:round; stroke-width:2; stroke-opacity:0.1; fill:none\" points=\"\n",
       "  186.274,1450.25 2352.76,1450.25 \n",
       "  \"/>\n",
       "<polyline clip-path=\"url(#clip592)\" style=\"stroke:#000000; stroke-linecap:butt; stroke-linejoin:round; stroke-width:2; stroke-opacity:0.1; fill:none\" points=\"\n",
       "  186.274,1109.68 2352.76,1109.68 \n",
       "  \"/>\n",
       "<polyline clip-path=\"url(#clip592)\" style=\"stroke:#000000; stroke-linecap:butt; stroke-linejoin:round; stroke-width:2; stroke-opacity:0.1; fill:none\" points=\"\n",
       "  186.274,769.112 2352.76,769.112 \n",
       "  \"/>\n",
       "<polyline clip-path=\"url(#clip592)\" style=\"stroke:#000000; stroke-linecap:butt; stroke-linejoin:round; stroke-width:2; stroke-opacity:0.1; fill:none\" points=\"\n",
       "  186.274,428.544 2352.76,428.544 \n",
       "  \"/>\n",
       "<polyline clip-path=\"url(#clip592)\" style=\"stroke:#000000; stroke-linecap:butt; stroke-linejoin:round; stroke-width:2; stroke-opacity:0.1; fill:none\" points=\"\n",
       "  186.274,87.9763 2352.76,87.9763 \n",
       "  \"/>\n",
       "<polyline clip-path=\"url(#clip590)\" style=\"stroke:#000000; stroke-linecap:butt; stroke-linejoin:round; stroke-width:4; stroke-opacity:1; fill:none\" points=\"\n",
       "  186.274,1486.45 186.274,47.2441 \n",
       "  \"/>\n",
       "<polyline clip-path=\"url(#clip590)\" style=\"stroke:#000000; stroke-linecap:butt; stroke-linejoin:round; stroke-width:4; stroke-opacity:1; fill:none\" points=\"\n",
       "  186.274,1450.25 205.172,1450.25 \n",
       "  \"/>\n",
       "<polyline clip-path=\"url(#clip590)\" style=\"stroke:#000000; stroke-linecap:butt; stroke-linejoin:round; stroke-width:4; stroke-opacity:1; fill:none\" points=\"\n",
       "  186.274,1109.68 205.172,1109.68 \n",
       "  \"/>\n",
       "<polyline clip-path=\"url(#clip590)\" style=\"stroke:#000000; stroke-linecap:butt; stroke-linejoin:round; stroke-width:4; stroke-opacity:1; fill:none\" points=\"\n",
       "  186.274,769.112 205.172,769.112 \n",
       "  \"/>\n",
       "<polyline clip-path=\"url(#clip590)\" style=\"stroke:#000000; stroke-linecap:butt; stroke-linejoin:round; stroke-width:4; stroke-opacity:1; fill:none\" points=\"\n",
       "  186.274,428.544 205.172,428.544 \n",
       "  \"/>\n",
       "<polyline clip-path=\"url(#clip590)\" style=\"stroke:#000000; stroke-linecap:butt; stroke-linejoin:round; stroke-width:4; stroke-opacity:1; fill:none\" points=\"\n",
       "  186.274,87.9763 205.172,87.9763 \n",
       "  \"/>\n",
       "<path clip-path=\"url(#clip590)\" d=\"M62.9365 1436.05 Q59.3254 1436.05 57.4967 1439.61 Q55.6912 1443.15 55.6912 1450.28 Q55.6912 1457.39 57.4967 1460.95 Q59.3254 1464.5 62.9365 1464.5 Q66.5707 1464.5 68.3763 1460.95 Q70.205 1457.39 70.205 1450.28 Q70.205 1443.15 68.3763 1439.61 Q66.5707 1436.05 62.9365 1436.05 M62.9365 1432.34 Q68.7467 1432.34 71.8022 1436.95 Q74.8809 1441.53 74.8809 1450.28 Q74.8809 1459.01 71.8022 1463.62 Q68.7467 1468.2 62.9365 1468.2 Q57.1264 1468.2 54.0477 1463.62 Q50.9921 1459.01 50.9921 1450.28 Q50.9921 1441.53 54.0477 1436.95 Q57.1264 1432.34 62.9365 1432.34 Z\" fill=\"#000000\" fill-rule=\"evenodd\" fill-opacity=\"1\" /><path clip-path=\"url(#clip590)\" d=\"M83.0984 1461.65 L87.9827 1461.65 L87.9827 1467.53 L83.0984 1467.53 L83.0984 1461.65 Z\" fill=\"#000000\" fill-rule=\"evenodd\" fill-opacity=\"1\" /><path clip-path=\"url(#clip590)\" d=\"M108.168 1436.05 Q104.557 1436.05 102.728 1439.61 Q100.922 1443.15 100.922 1450.28 Q100.922 1457.39 102.728 1460.95 Q104.557 1464.5 108.168 1464.5 Q111.802 1464.5 113.608 1460.95 Q115.436 1457.39 115.436 1450.28 Q115.436 1443.15 113.608 1439.61 Q111.802 1436.05 108.168 1436.05 M108.168 1432.34 Q113.978 1432.34 117.033 1436.95 Q120.112 1441.53 120.112 1450.28 Q120.112 1459.01 117.033 1463.62 Q113.978 1468.2 108.168 1468.2 Q102.358 1468.2 99.2789 1463.62 Q96.2234 1459.01 96.2234 1450.28 Q96.2234 1441.53 99.2789 1436.95 Q102.358 1432.34 108.168 1432.34 Z\" fill=\"#000000\" fill-rule=\"evenodd\" fill-opacity=\"1\" /><path clip-path=\"url(#clip590)\" d=\"M138.33 1436.05 Q134.719 1436.05 132.89 1439.61 Q131.084 1443.15 131.084 1450.28 Q131.084 1457.39 132.89 1460.95 Q134.719 1464.5 138.33 1464.5 Q141.964 1464.5 143.769 1460.95 Q145.598 1457.39 145.598 1450.28 Q145.598 1443.15 143.769 1439.61 Q141.964 1436.05 138.33 1436.05 M138.33 1432.34 Q144.14 1432.34 147.195 1436.95 Q150.274 1441.53 150.274 1450.28 Q150.274 1459.01 147.195 1463.62 Q144.14 1468.2 138.33 1468.2 Q132.519 1468.2 129.441 1463.62 Q126.385 1459.01 126.385 1450.28 Q126.385 1441.53 129.441 1436.95 Q132.519 1432.34 138.33 1432.34 Z\" fill=\"#000000\" fill-rule=\"evenodd\" fill-opacity=\"1\" /><path clip-path=\"url(#clip590)\" d=\"M63.9319 1095.48 Q60.3208 1095.48 58.4921 1099.04 Q56.6865 1102.59 56.6865 1109.72 Q56.6865 1116.82 58.4921 1120.39 Q60.3208 1123.93 63.9319 1123.93 Q67.5661 1123.93 69.3717 1120.39 Q71.2004 1116.82 71.2004 1109.72 Q71.2004 1102.59 69.3717 1099.04 Q67.5661 1095.48 63.9319 1095.48 M63.9319 1091.78 Q69.742 1091.78 72.7976 1096.38 Q75.8763 1100.97 75.8763 1109.72 Q75.8763 1118.44 72.7976 1123.05 Q69.742 1127.63 63.9319 1127.63 Q58.1217 1127.63 55.043 1123.05 Q51.9875 1118.44 51.9875 1109.72 Q51.9875 1100.97 55.043 1096.38 Q58.1217 1091.78 63.9319 1091.78 Z\" fill=\"#000000\" fill-rule=\"evenodd\" fill-opacity=\"1\" /><path clip-path=\"url(#clip590)\" d=\"M84.0938 1121.08 L88.978 1121.08 L88.978 1126.96 L84.0938 1126.96 L84.0938 1121.08 Z\" fill=\"#000000\" fill-rule=\"evenodd\" fill-opacity=\"1\" /><path clip-path=\"url(#clip590)\" d=\"M103.191 1123.03 L119.51 1123.03 L119.51 1126.96 L97.566 1126.96 L97.566 1123.03 Q100.228 1120.27 104.811 1115.64 Q109.418 1110.99 110.598 1109.65 Q112.844 1107.12 113.723 1105.39 Q114.626 1103.63 114.626 1101.94 Q114.626 1099.18 112.682 1097.45 Q110.76 1095.71 107.658 1095.71 Q105.459 1095.71 103.006 1096.47 Q100.575 1097.24 97.7974 1098.79 L97.7974 1094.07 Q100.621 1092.93 103.075 1092.35 Q105.529 1091.78 107.566 1091.78 Q112.936 1091.78 116.131 1094.46 Q119.325 1097.15 119.325 1101.64 Q119.325 1103.77 118.515 1105.69 Q117.728 1107.59 115.621 1110.18 Q115.043 1110.85 111.941 1114.07 Q108.839 1117.26 103.191 1123.03 Z\" fill=\"#000000\" fill-rule=\"evenodd\" fill-opacity=\"1\" /><path clip-path=\"url(#clip590)\" d=\"M129.371 1092.4 L147.728 1092.4 L147.728 1096.34 L133.654 1096.34 L133.654 1104.81 Q134.672 1104.46 135.691 1104.3 Q136.709 1104.11 137.728 1104.11 Q143.515 1104.11 146.894 1107.28 Q150.274 1110.46 150.274 1115.87 Q150.274 1121.45 146.802 1124.55 Q143.33 1127.63 137.01 1127.63 Q134.834 1127.63 132.566 1127.26 Q130.32 1126.89 127.913 1126.15 L127.913 1121.45 Q129.996 1122.59 132.219 1123.14 Q134.441 1123.7 136.918 1123.7 Q140.922 1123.7 143.26 1121.59 Q145.598 1119.48 145.598 1115.87 Q145.598 1112.26 143.26 1110.16 Q140.922 1108.05 136.918 1108.05 Q135.043 1108.05 133.168 1108.47 Q131.316 1108.88 129.371 1109.76 L129.371 1092.4 Z\" fill=\"#000000\" fill-rule=\"evenodd\" fill-opacity=\"1\" /><path clip-path=\"url(#clip590)\" d=\"M62.9365 754.911 Q59.3254 754.911 57.4967 758.476 Q55.6912 762.018 55.6912 769.147 Q55.6912 776.254 57.4967 779.818 Q59.3254 783.36 62.9365 783.36 Q66.5707 783.36 68.3763 779.818 Q70.205 776.254 70.205 769.147 Q70.205 762.018 68.3763 758.476 Q66.5707 754.911 62.9365 754.911 M62.9365 751.207 Q68.7467 751.207 71.8022 755.814 Q74.8809 760.397 74.8809 769.147 Q74.8809 777.874 71.8022 782.48 Q68.7467 787.064 62.9365 787.064 Q57.1264 787.064 54.0477 782.48 Q50.9921 777.874 50.9921 769.147 Q50.9921 760.397 54.0477 755.814 Q57.1264 751.207 62.9365 751.207 Z\" fill=\"#000000\" fill-rule=\"evenodd\" fill-opacity=\"1\" /><path clip-path=\"url(#clip590)\" d=\"M83.0984 780.513 L87.9827 780.513 L87.9827 786.392 L83.0984 786.392 L83.0984 780.513 Z\" fill=\"#000000\" fill-rule=\"evenodd\" fill-opacity=\"1\" /><path clip-path=\"url(#clip590)\" d=\"M98.2141 751.832 L116.57 751.832 L116.57 755.768 L102.496 755.768 L102.496 764.24 Q103.515 763.893 104.534 763.731 Q105.552 763.545 106.571 763.545 Q112.358 763.545 115.737 766.717 Q119.117 769.888 119.117 775.305 Q119.117 780.883 115.645 783.985 Q112.172 787.064 105.853 787.064 Q103.677 787.064 101.409 786.693 Q99.1632 786.323 96.7558 785.582 L96.7558 780.883 Q98.8391 782.018 101.061 782.573 Q103.284 783.129 105.76 783.129 Q109.765 783.129 112.103 781.022 Q114.441 778.916 114.441 775.305 Q114.441 771.693 112.103 769.587 Q109.765 767.481 105.76 767.481 Q103.885 767.481 102.01 767.897 Q100.159 768.314 98.2141 769.194 L98.2141 751.832 Z\" fill=\"#000000\" fill-rule=\"evenodd\" fill-opacity=\"1\" /><path clip-path=\"url(#clip590)\" d=\"M138.33 754.911 Q134.719 754.911 132.89 758.476 Q131.084 762.018 131.084 769.147 Q131.084 776.254 132.89 779.818 Q134.719 783.36 138.33 783.36 Q141.964 783.36 143.769 779.818 Q145.598 776.254 145.598 769.147 Q145.598 762.018 143.769 758.476 Q141.964 754.911 138.33 754.911 M138.33 751.207 Q144.14 751.207 147.195 755.814 Q150.274 760.397 150.274 769.147 Q150.274 777.874 147.195 782.48 Q144.14 787.064 138.33 787.064 Q132.519 787.064 129.441 782.48 Q126.385 777.874 126.385 769.147 Q126.385 760.397 129.441 755.814 Q132.519 751.207 138.33 751.207 Z\" fill=\"#000000\" fill-rule=\"evenodd\" fill-opacity=\"1\" /><path clip-path=\"url(#clip590)\" d=\"M63.9319 414.343 Q60.3208 414.343 58.4921 417.908 Q56.6865 421.45 56.6865 428.579 Q56.6865 435.686 58.4921 439.25 Q60.3208 442.792 63.9319 442.792 Q67.5661 442.792 69.3717 439.25 Q71.2004 435.686 71.2004 428.579 Q71.2004 421.45 69.3717 417.908 Q67.5661 414.343 63.9319 414.343 M63.9319 410.639 Q69.742 410.639 72.7976 415.246 Q75.8763 419.829 75.8763 428.579 Q75.8763 437.306 72.7976 441.912 Q69.742 446.496 63.9319 446.496 Q58.1217 446.496 55.043 441.912 Q51.9875 437.306 51.9875 428.579 Q51.9875 419.829 55.043 415.246 Q58.1217 410.639 63.9319 410.639 Z\" fill=\"#000000\" fill-rule=\"evenodd\" fill-opacity=\"1\" /><path clip-path=\"url(#clip590)\" d=\"M84.0938 439.945 L88.978 439.945 L88.978 445.824 L84.0938 445.824 L84.0938 439.945 Z\" fill=\"#000000\" fill-rule=\"evenodd\" fill-opacity=\"1\" /><path clip-path=\"url(#clip590)\" d=\"M97.9826 411.264 L120.205 411.264 L120.205 413.255 L107.658 445.824 L102.774 445.824 L114.58 415.2 L97.9826 415.2 L97.9826 411.264 Z\" fill=\"#000000\" fill-rule=\"evenodd\" fill-opacity=\"1\" /><path clip-path=\"url(#clip590)\" d=\"M129.371 411.264 L147.728 411.264 L147.728 415.2 L133.654 415.2 L133.654 423.672 Q134.672 423.325 135.691 423.162 Q136.709 422.977 137.728 422.977 Q143.515 422.977 146.894 426.149 Q150.274 429.32 150.274 434.736 Q150.274 440.315 146.802 443.417 Q143.33 446.496 137.01 446.496 Q134.834 446.496 132.566 446.125 Q130.32 445.755 127.913 445.014 L127.913 440.315 Q129.996 441.449 132.219 442.005 Q134.441 442.561 136.918 442.561 Q140.922 442.561 143.26 440.454 Q145.598 438.348 145.598 434.736 Q145.598 431.125 143.26 429.019 Q140.922 426.912 136.918 426.912 Q135.043 426.912 133.168 427.329 Q131.316 427.746 129.371 428.625 L129.371 411.264 Z\" fill=\"#000000\" fill-rule=\"evenodd\" fill-opacity=\"1\" /><path clip-path=\"url(#clip590)\" d=\"M53.7467 101.321 L61.3856 101.321 L61.3856 74.9555 L53.0754 76.6222 L53.0754 72.3629 L61.3393 70.6963 L66.0152 70.6963 L66.0152 101.321 L73.654 101.321 L73.654 105.256 L53.7467 105.256 L53.7467 101.321 Z\" fill=\"#000000\" fill-rule=\"evenodd\" fill-opacity=\"1\" /><path clip-path=\"url(#clip590)\" d=\"M83.0984 99.3767 L87.9827 99.3767 L87.9827 105.256 L83.0984 105.256 L83.0984 99.3767 Z\" fill=\"#000000\" fill-rule=\"evenodd\" fill-opacity=\"1\" /><path clip-path=\"url(#clip590)\" d=\"M108.168 73.775 Q104.557 73.775 102.728 77.3398 Q100.922 80.8814 100.922 88.011 Q100.922 95.1174 102.728 98.6822 Q104.557 102.224 108.168 102.224 Q111.802 102.224 113.608 98.6822 Q115.436 95.1174 115.436 88.011 Q115.436 80.8814 113.608 77.3398 Q111.802 73.775 108.168 73.775 M108.168 70.0713 Q113.978 70.0713 117.033 74.6777 Q120.112 79.261 120.112 88.011 Q120.112 96.7378 117.033 101.344 Q113.978 105.928 108.168 105.928 Q102.358 105.928 99.2789 101.344 Q96.2234 96.7378 96.2234 88.011 Q96.2234 79.261 99.2789 74.6777 Q102.358 70.0713 108.168 70.0713 Z\" fill=\"#000000\" fill-rule=\"evenodd\" fill-opacity=\"1\" /><path clip-path=\"url(#clip590)\" d=\"M138.33 73.775 Q134.719 73.775 132.89 77.3398 Q131.084 80.8814 131.084 88.011 Q131.084 95.1174 132.89 98.6822 Q134.719 102.224 138.33 102.224 Q141.964 102.224 143.769 98.6822 Q145.598 95.1174 145.598 88.011 Q145.598 80.8814 143.769 77.3398 Q141.964 73.775 138.33 73.775 M138.33 70.0713 Q144.14 70.0713 147.195 74.6777 Q150.274 79.261 150.274 88.011 Q150.274 96.7378 147.195 101.344 Q144.14 105.928 138.33 105.928 Q132.519 105.928 129.441 101.344 Q126.385 96.7378 126.385 88.011 Q126.385 79.261 129.441 74.6777 Q132.519 70.0713 138.33 70.0713 Z\" fill=\"#000000\" fill-rule=\"evenodd\" fill-opacity=\"1\" /><polyline clip-path=\"url(#clip592)\" style=\"stroke:#009af9; stroke-linecap:butt; stroke-linejoin:round; stroke-width:4; stroke-opacity:1; fill:none\" points=\"\n",
       "  247.59,1417.01 355.161,1344.54 462.732,1239.64 570.303,1109.54 677.874,976.178 785.445,842.948 893.016,717.074 1000.59,606.73 1108.16,513.005 1215.73,429.634 \n",
       "  1323.3,368.741 1430.87,314.658 1538.44,272.156 1646.01,239.189 1753.58,213.714 1861.16,192.054 1968.73,175.025 2076.3,159.087 2183.87,148.189 2291.44,139.606 \n",
       "  \n",
       "  \"/>\n",
       "<polyline clip-path=\"url(#clip592)\" style=\"stroke:#e26f46; stroke-linecap:butt; stroke-linejoin:round; stroke-width:4; stroke-opacity:1; fill:none\" points=\"\n",
       "  247.59,1445.72 268.234,1445.14 288.879,1444.5 309.524,1443.78 330.169,1442.94 350.814,1441.92 371.459,1440.64 392.104,1438.99 412.749,1436.81 433.394,1433.92 \n",
       "  454.039,1430.07 474.684,1424.96 495.329,1418.24 515.974,1409.52 536.619,1398.37 557.264,1384.37 577.909,1367.11 598.554,1346.28 619.199,1321.62 639.844,1293.01 \n",
       "  660.489,1260.42 681.134,1224.01 701.779,1184.05 722.424,1141 743.069,1095.5 763.713,1048.31 784.358,1000.29 805.003,952.232 825.648,904.847 846.293,858.663 \n",
       "  866.938,814.035 887.583,771.16 908.228,730.12 928.873,690.925 949.518,653.54 970.163,617.91 990.808,583.973 1011.45,551.662 1032.1,520.914 1052.74,491.666 \n",
       "  1073.39,463.858 1094.03,437.433 1114.68,412.336 1135.32,388.512 1155.97,365.912 1176.61,344.486 1197.26,324.187 1217.9,304.97 1238.55,286.792 1259.19,269.611 \n",
       "  1279.84,253.388 1300.48,238.084 1321.13,223.662 1341.77,210.087 1362.42,197.326 1383.06,185.344 1403.71,174.113 1424.35,163.6 1445,153.778 1465.64,144.619 \n",
       "  1486.29,136.097 1506.93,128.185 1527.58,120.86 1548.22,114.098 1568.87,107.877 1589.51,102.174 1610.16,96.9696 1630.8,92.2434 1651.45,87.9763 1672.09,87.9763 \n",
       "  1692.74,87.9763 1713.38,87.9763 1734.03,87.9763 1754.67,87.9763 1775.32,87.9763 1795.96,87.9763 1816.61,87.9763 1837.25,87.9763 1857.9,87.9763 1878.54,87.9763 \n",
       "  1899.19,87.9763 1919.83,87.9763 1940.48,87.9763 1961.12,87.9763 1981.77,87.9763 2002.41,87.9763 2023.06,87.9763 2043.7,87.9763 2064.35,87.9763 2084.99,87.9763 \n",
       "  2105.64,87.9763 2126.28,87.9763 2146.93,87.9763 2167.57,87.9763 2188.22,87.9763 2208.86,87.9763 2229.51,87.9763 2250.15,87.9763 2270.8,87.9763 2291.44,87.9763 \n",
       "  \n",
       "  \"/>\n",
       "<path clip-path=\"url(#clip590)\" d=\"\n",
       "M1977.02 250.738 L2280.54 250.738 L2280.54 95.2176 L1977.02 95.2176  Z\n",
       "  \" fill=\"#ffffff\" fill-rule=\"evenodd\" fill-opacity=\"1\"/>\n",
       "<polyline clip-path=\"url(#clip590)\" style=\"stroke:#000000; stroke-linecap:butt; stroke-linejoin:round; stroke-width:4; stroke-opacity:1; fill:none\" points=\"\n",
       "  1977.02,250.738 2280.54,250.738 2280.54,95.2176 1977.02,95.2176 1977.02,250.738 \n",
       "  \"/>\n",
       "<polyline clip-path=\"url(#clip590)\" style=\"stroke:#009af9; stroke-linecap:butt; stroke-linejoin:round; stroke-width:4; stroke-opacity:1; fill:none\" points=\"\n",
       "  2001.09,147.058 2145.52,147.058 \n",
       "  \"/>\n",
       "<path clip-path=\"url(#clip590)\" d=\"M2169.6 129.778 L2175.89 129.778 L2191.22 158.689 L2191.22 129.778 L2195.75 129.778 L2195.75 164.338 L2189.46 164.338 L2174.13 135.426 L2174.13 164.338 L2169.6 164.338 L2169.6 129.778 Z\" fill=\"#000000\" fill-rule=\"evenodd\" fill-opacity=\"1\" /><polyline clip-path=\"url(#clip590)\" style=\"stroke:#e26f46; stroke-linecap:butt; stroke-linejoin:round; stroke-width:4; stroke-opacity:1; fill:none\" points=\"\n",
       "  2001.09,198.898 2145.52,198.898 \n",
       "  \"/>\n",
       "<path clip-path=\"url(#clip590)\" d=\"M2188.02 191.016 L2188.02 195.043 Q2186.22 194.117 2184.27 193.655 Q2182.33 193.192 2180.24 193.192 Q2177.07 193.192 2175.47 194.164 Q2173.9 195.136 2173.9 197.08 Q2173.9 198.562 2175.03 199.418 Q2176.17 200.252 2179.6 201.016 L2181.05 201.34 Q2185.59 202.312 2187.49 204.094 Q2189.41 205.854 2189.41 209.025 Q2189.41 212.636 2186.54 214.742 Q2183.69 216.849 2178.69 216.849 Q2176.61 216.849 2174.34 216.432 Q2172.1 216.039 2169.6 215.228 L2169.6 210.83 Q2171.96 212.057 2174.25 212.682 Q2176.54 213.284 2178.78 213.284 Q2181.79 213.284 2183.41 212.266 Q2185.03 211.224 2185.03 209.349 Q2185.03 207.613 2183.85 206.687 Q2182.7 205.761 2178.74 204.904 L2177.26 204.557 Q2173.3 203.724 2171.54 202.011 Q2169.78 200.275 2169.78 197.266 Q2169.78 193.608 2172.37 191.618 Q2174.97 189.627 2179.73 189.627 Q2182.1 189.627 2184.18 189.974 Q2186.26 190.321 2188.02 191.016 Z\" fill=\"#000000\" fill-rule=\"evenodd\" fill-opacity=\"1\" /><path clip-path=\"url(#clip590)\" d=\"M2196.19 190.252 L2200.45 190.252 L2200.45 216.178 L2196.19 216.178 L2196.19 190.252 M2196.19 180.159 L2200.45 180.159 L2200.45 185.553 L2196.19 185.553 L2196.19 180.159 Z\" fill=\"#000000\" fill-rule=\"evenodd\" fill-opacity=\"1\" /><path clip-path=\"url(#clip590)\" d=\"M2227.97 203.238 Q2227.97 198.539 2226.03 195.877 Q2224.11 193.192 2220.73 193.192 Q2217.35 193.192 2215.41 195.877 Q2213.48 198.539 2213.48 203.238 Q2213.48 207.937 2215.41 210.622 Q2217.35 213.284 2220.73 213.284 Q2224.11 213.284 2226.03 210.622 Q2227.97 207.937 2227.97 203.238 M2213.48 194.187 Q2214.83 191.872 2216.86 190.761 Q2218.92 189.627 2221.77 189.627 Q2226.49 189.627 2229.43 193.377 Q2232.4 197.127 2232.4 203.238 Q2232.4 209.349 2229.43 213.099 Q2226.49 216.849 2221.77 216.849 Q2218.92 216.849 2216.86 215.738 Q2214.83 214.603 2213.48 212.289 L2213.48 216.178 L2209.2 216.178 L2209.2 180.159 L2213.48 180.159 L2213.48 194.187 Z\" fill=\"#000000\" fill-rule=\"evenodd\" fill-opacity=\"1\" /></svg>\n"
      ]
     },
     "execution_count": 16,
     "metadata": {},
     "output_type": "execute_result"
    }
   ],
   "source": [
    "#Marginals\n",
    "\n",
    "using Plots\n",
    "p_cau = zeros(N,Int(T))\n",
    "p_fast = zeros(N,Int(T))\n",
    "for i = 1:N\n",
    "    for t = 1:Int(T)\n",
    "       p_cau[i,t] = marginal(i, t, statscau)\n",
    "       #p_fast[i,t] = marginal(i, t, statscau_)\n",
    "    end\n",
    "end\n",
    "i = 43\n",
    "plot(p_cau[i,:], label = \"N\")\n",
    "#plot!(p_fast[i,:], label = \"N 2\")\n",
    "plot!(LinRange(1,Int(T),Int(round(T/dt))),p_sib[i,:], label = \"sib\")"
   ]
  },
  {
   "cell_type": "code",
   "execution_count": 17,
   "metadata": {},
   "outputs": [
    {
     "data": {
      "image/svg+xml": [
       "<?xml version=\"1.0\" encoding=\"utf-8\"?>\n",
       "<svg xmlns=\"http://www.w3.org/2000/svg\" xmlns:xlink=\"http://www.w3.org/1999/xlink\" width=\"600\" height=\"400\" viewBox=\"0 0 2400 1600\">\n",
       "<defs>\n",
       "  <clipPath id=\"clip630\">\n",
       "    <rect x=\"0\" y=\"0\" width=\"2400\" height=\"1600\"/>\n",
       "  </clipPath>\n",
       "</defs>\n",
       "<path clip-path=\"url(#clip630)\" d=\"\n",
       "M0 1600 L2400 1600 L2400 0 L0 0  Z\n",
       "  \" fill=\"#ffffff\" fill-rule=\"evenodd\" fill-opacity=\"1\"/>\n",
       "<defs>\n",
       "  <clipPath id=\"clip631\">\n",
       "    <rect x=\"480\" y=\"0\" width=\"1681\" height=\"1600\"/>\n",
       "  </clipPath>\n",
       "</defs>\n",
       "<path clip-path=\"url(#clip630)\" d=\"\n",
       "M249.542 1423.18 L2352.76 1423.18 L2352.76 123.472 L249.542 123.472  Z\n",
       "  \" fill=\"#ffffff\" fill-rule=\"evenodd\" fill-opacity=\"1\"/>\n",
       "<defs>\n",
       "  <clipPath id=\"clip632\">\n",
       "    <rect x=\"249\" y=\"123\" width=\"2104\" height=\"1301\"/>\n",
       "  </clipPath>\n",
       "</defs>\n",
       "<polyline clip-path=\"url(#clip632)\" style=\"stroke:#000000; stroke-linecap:butt; stroke-linejoin:round; stroke-width:2; stroke-opacity:0.1; fill:none\" points=\"\n",
       "  726.786,1423.18 726.786,123.472 \n",
       "  \"/>\n",
       "<polyline clip-path=\"url(#clip632)\" style=\"stroke:#000000; stroke-linecap:butt; stroke-linejoin:round; stroke-width:2; stroke-opacity:0.1; fill:none\" points=\"\n",
       "  1248.93,1423.18 1248.93,123.472 \n",
       "  \"/>\n",
       "<polyline clip-path=\"url(#clip632)\" style=\"stroke:#000000; stroke-linecap:butt; stroke-linejoin:round; stroke-width:2; stroke-opacity:0.1; fill:none\" points=\"\n",
       "  1771.08,1423.18 1771.08,123.472 \n",
       "  \"/>\n",
       "<polyline clip-path=\"url(#clip632)\" style=\"stroke:#000000; stroke-linecap:butt; stroke-linejoin:round; stroke-width:2; stroke-opacity:0.1; fill:none\" points=\"\n",
       "  2293.23,1423.18 2293.23,123.472 \n",
       "  \"/>\n",
       "<polyline clip-path=\"url(#clip630)\" style=\"stroke:#000000; stroke-linecap:butt; stroke-linejoin:round; stroke-width:4; stroke-opacity:1; fill:none\" points=\"\n",
       "  249.542,1423.18 2352.76,1423.18 \n",
       "  \"/>\n",
       "<polyline clip-path=\"url(#clip630)\" style=\"stroke:#000000; stroke-linecap:butt; stroke-linejoin:round; stroke-width:4; stroke-opacity:1; fill:none\" points=\"\n",
       "  726.786,1423.18 726.786,1404.28 \n",
       "  \"/>\n",
       "<polyline clip-path=\"url(#clip630)\" style=\"stroke:#000000; stroke-linecap:butt; stroke-linejoin:round; stroke-width:4; stroke-opacity:1; fill:none\" points=\"\n",
       "  1248.93,1423.18 1248.93,1404.28 \n",
       "  \"/>\n",
       "<polyline clip-path=\"url(#clip630)\" style=\"stroke:#000000; stroke-linecap:butt; stroke-linejoin:round; stroke-width:4; stroke-opacity:1; fill:none\" points=\"\n",
       "  1771.08,1423.18 1771.08,1404.28 \n",
       "  \"/>\n",
       "<polyline clip-path=\"url(#clip630)\" style=\"stroke:#000000; stroke-linecap:butt; stroke-linejoin:round; stroke-width:4; stroke-opacity:1; fill:none\" points=\"\n",
       "  2293.23,1423.18 2293.23,1404.28 \n",
       "  \"/>\n",
       "<path clip-path=\"url(#clip630)\" d=\"M717.064 1451.02 L735.42 1451.02 L735.42 1454.96 L721.346 1454.96 L721.346 1463.43 Q722.364 1463.08 723.383 1462.92 Q724.401 1462.73 725.42 1462.73 Q731.207 1462.73 734.587 1465.9 Q737.966 1469.08 737.966 1474.49 Q737.966 1480.07 734.494 1483.17 Q731.022 1486.25 724.702 1486.25 Q722.526 1486.25 720.258 1485.88 Q718.013 1485.51 715.605 1484.77 L715.605 1480.07 Q717.689 1481.2 719.911 1481.76 Q722.133 1482.32 724.61 1482.32 Q728.614 1482.32 730.952 1480.21 Q733.29 1478.1 733.29 1474.49 Q733.29 1470.88 730.952 1468.77 Q728.614 1466.67 724.61 1466.67 Q722.735 1466.67 720.86 1467.08 Q719.008 1467.5 717.064 1468.38 L717.064 1451.02 Z\" fill=\"#000000\" fill-rule=\"evenodd\" fill-opacity=\"1\" /><path clip-path=\"url(#clip630)\" d=\"M1223.62 1481.64 L1231.26 1481.64 L1231.26 1455.28 L1222.95 1456.95 L1222.95 1452.69 L1231.21 1451.02 L1235.89 1451.02 L1235.89 1481.64 L1243.53 1481.64 L1243.53 1485.58 L1223.62 1485.58 L1223.62 1481.64 Z\" fill=\"#000000\" fill-rule=\"evenodd\" fill-opacity=\"1\" /><path clip-path=\"url(#clip630)\" d=\"M1262.97 1454.1 Q1259.36 1454.1 1257.53 1457.66 Q1255.73 1461.2 1255.73 1468.33 Q1255.73 1475.44 1257.53 1479.01 Q1259.36 1482.55 1262.97 1482.55 Q1266.61 1482.55 1268.41 1479.01 Q1270.24 1475.44 1270.24 1468.33 Q1270.24 1461.2 1268.41 1457.66 Q1266.61 1454.1 1262.97 1454.1 M1262.97 1450.39 Q1268.78 1450.39 1271.84 1455 Q1274.92 1459.58 1274.92 1468.33 Q1274.92 1477.06 1271.84 1481.67 Q1268.78 1486.25 1262.97 1486.25 Q1257.16 1486.25 1254.08 1481.67 Q1251.03 1477.06 1251.03 1468.33 Q1251.03 1459.58 1254.08 1455 Q1257.16 1450.39 1262.97 1450.39 Z\" fill=\"#000000\" fill-rule=\"evenodd\" fill-opacity=\"1\" /><path clip-path=\"url(#clip630)\" d=\"M1746.27 1481.64 L1753.91 1481.64 L1753.91 1455.28 L1745.6 1456.95 L1745.6 1452.69 L1753.86 1451.02 L1758.54 1451.02 L1758.54 1481.64 L1766.18 1481.64 L1766.18 1485.58 L1746.27 1485.58 L1746.27 1481.64 Z\" fill=\"#000000\" fill-rule=\"evenodd\" fill-opacity=\"1\" /><path clip-path=\"url(#clip630)\" d=\"M1775.67 1451.02 L1794.02 1451.02 L1794.02 1454.96 L1779.95 1454.96 L1779.95 1463.43 Q1780.97 1463.08 1781.99 1462.92 Q1783 1462.73 1784.02 1462.73 Q1789.81 1462.73 1793.19 1465.9 Q1796.57 1469.08 1796.57 1474.49 Q1796.57 1480.07 1793.1 1483.17 Q1789.62 1486.25 1783.3 1486.25 Q1781.13 1486.25 1778.86 1485.88 Q1776.61 1485.51 1774.21 1484.77 L1774.21 1480.07 Q1776.29 1481.2 1778.51 1481.76 Q1780.74 1482.32 1783.21 1482.32 Q1787.22 1482.32 1789.55 1480.21 Q1791.89 1478.1 1791.89 1474.49 Q1791.89 1470.88 1789.55 1468.77 Q1787.22 1466.67 1783.21 1466.67 Q1781.34 1466.67 1779.46 1467.08 Q1777.61 1467.5 1775.67 1468.38 L1775.67 1451.02 Z\" fill=\"#000000\" fill-rule=\"evenodd\" fill-opacity=\"1\" /><path clip-path=\"url(#clip630)\" d=\"M2272 1481.64 L2288.32 1481.64 L2288.32 1485.58 L2266.38 1485.58 L2266.38 1481.64 Q2269.04 1478.89 2273.62 1474.26 Q2278.23 1469.61 2279.41 1468.27 Q2281.66 1465.74 2282.54 1464.01 Q2283.44 1462.25 2283.44 1460.56 Q2283.44 1457.8 2281.49 1456.07 Q2279.57 1454.33 2276.47 1454.33 Q2274.27 1454.33 2271.82 1455.09 Q2269.39 1455.86 2266.61 1457.41 L2266.61 1452.69 Q2269.43 1451.55 2271.89 1450.97 Q2274.34 1450.39 2276.38 1450.39 Q2281.75 1450.39 2284.94 1453.08 Q2288.14 1455.77 2288.14 1460.26 Q2288.14 1462.39 2287.33 1464.31 Q2286.54 1466.2 2284.43 1468.8 Q2283.86 1469.47 2280.75 1472.69 Q2277.65 1475.88 2272 1481.64 Z\" fill=\"#000000\" fill-rule=\"evenodd\" fill-opacity=\"1\" /><path clip-path=\"url(#clip630)\" d=\"M2308.14 1454.1 Q2304.53 1454.1 2302.7 1457.66 Q2300.89 1461.2 2300.89 1468.33 Q2300.89 1475.44 2302.7 1479.01 Q2304.53 1482.55 2308.14 1482.55 Q2311.77 1482.55 2313.58 1479.01 Q2315.41 1475.44 2315.41 1468.33 Q2315.41 1461.2 2313.58 1457.66 Q2311.77 1454.1 2308.14 1454.1 M2308.14 1450.39 Q2313.95 1450.39 2317 1455 Q2320.08 1459.58 2320.08 1468.33 Q2320.08 1477.06 2317 1481.67 Q2313.95 1486.25 2308.14 1486.25 Q2302.33 1486.25 2299.25 1481.67 Q2296.19 1477.06 2296.19 1468.33 Q2296.19 1459.58 2299.25 1455 Q2302.33 1450.39 2308.14 1450.39 Z\" fill=\"#000000\" fill-rule=\"evenodd\" fill-opacity=\"1\" /><path clip-path=\"url(#clip630)\" d=\"M1300.21 1522.27 L1300.21 1532.4 L1312.27 1532.4 L1312.27 1536.95 L1300.21 1536.95 L1300.21 1556.3 Q1300.21 1560.66 1301.39 1561.9 Q1302.6 1563.14 1306.26 1563.14 L1312.27 1563.14 L1312.27 1568.04 L1306.26 1568.04 Q1299.48 1568.04 1296.9 1565.53 Q1294.32 1562.98 1294.32 1556.3 L1294.32 1536.95 L1290.02 1536.95 L1290.02 1532.4 L1294.32 1532.4 L1294.32 1522.27 L1300.21 1522.27 Z\" fill=\"#000000\" fill-rule=\"evenodd\" fill-opacity=\"1\" /><polyline clip-path=\"url(#clip632)\" style=\"stroke:#000000; stroke-linecap:butt; stroke-linejoin:round; stroke-width:2; stroke-opacity:0.1; fill:none\" points=\"\n",
       "  249.542,1229.33 2352.76,1229.33 \n",
       "  \"/>\n",
       "<polyline clip-path=\"url(#clip632)\" style=\"stroke:#000000; stroke-linecap:butt; stroke-linejoin:round; stroke-width:2; stroke-opacity:0.1; fill:none\" points=\"\n",
       "  249.542,930.511 2352.76,930.511 \n",
       "  \"/>\n",
       "<polyline clip-path=\"url(#clip632)\" style=\"stroke:#000000; stroke-linecap:butt; stroke-linejoin:round; stroke-width:2; stroke-opacity:0.1; fill:none\" points=\"\n",
       "  249.542,631.692 2352.76,631.692 \n",
       "  \"/>\n",
       "<polyline clip-path=\"url(#clip632)\" style=\"stroke:#000000; stroke-linecap:butt; stroke-linejoin:round; stroke-width:2; stroke-opacity:0.1; fill:none\" points=\"\n",
       "  249.542,332.873 2352.76,332.873 \n",
       "  \"/>\n",
       "<polyline clip-path=\"url(#clip630)\" style=\"stroke:#000000; stroke-linecap:butt; stroke-linejoin:round; stroke-width:4; stroke-opacity:1; fill:none\" points=\"\n",
       "  249.542,1423.18 249.542,123.472 \n",
       "  \"/>\n",
       "<polyline clip-path=\"url(#clip630)\" style=\"stroke:#000000; stroke-linecap:butt; stroke-linejoin:round; stroke-width:4; stroke-opacity:1; fill:none\" points=\"\n",
       "  249.542,1229.33 268.44,1229.33 \n",
       "  \"/>\n",
       "<polyline clip-path=\"url(#clip630)\" style=\"stroke:#000000; stroke-linecap:butt; stroke-linejoin:round; stroke-width:4; stroke-opacity:1; fill:none\" points=\"\n",
       "  249.542,930.511 268.44,930.511 \n",
       "  \"/>\n",
       "<polyline clip-path=\"url(#clip630)\" style=\"stroke:#000000; stroke-linecap:butt; stroke-linejoin:round; stroke-width:4; stroke-opacity:1; fill:none\" points=\"\n",
       "  249.542,631.692 268.44,631.692 \n",
       "  \"/>\n",
       "<polyline clip-path=\"url(#clip630)\" style=\"stroke:#000000; stroke-linecap:butt; stroke-linejoin:round; stroke-width:4; stroke-opacity:1; fill:none\" points=\"\n",
       "  249.542,332.873 268.44,332.873 \n",
       "  \"/>\n",
       "<path clip-path=\"url(#clip630)\" d=\"M126.205 1215.13 Q122.593 1215.13 120.765 1218.69 Q118.959 1222.24 118.959 1229.36 Q118.959 1236.47 120.765 1240.04 Q122.593 1243.58 126.205 1243.58 Q129.839 1243.58 131.644 1240.04 Q133.473 1236.47 133.473 1229.36 Q133.473 1222.24 131.644 1218.69 Q129.839 1215.13 126.205 1215.13 M126.205 1211.43 Q132.015 1211.43 135.07 1216.03 Q138.149 1220.61 138.149 1229.36 Q138.149 1238.09 135.07 1242.7 Q132.015 1247.28 126.205 1247.28 Q120.394 1247.28 117.316 1242.7 Q114.26 1238.09 114.26 1229.36 Q114.26 1220.61 117.316 1216.03 Q120.394 1211.43 126.205 1211.43 Z\" fill=\"#000000\" fill-rule=\"evenodd\" fill-opacity=\"1\" /><path clip-path=\"url(#clip630)\" d=\"M146.366 1240.73 L151.251 1240.73 L151.251 1246.61 L146.366 1246.61 L146.366 1240.73 Z\" fill=\"#000000\" fill-rule=\"evenodd\" fill-opacity=\"1\" /><path clip-path=\"url(#clip630)\" d=\"M171.436 1230.2 Q168.102 1230.2 166.181 1231.98 Q164.283 1233.76 164.283 1236.89 Q164.283 1240.01 166.181 1241.8 Q168.102 1243.58 171.436 1243.58 Q174.769 1243.58 176.69 1241.8 Q178.612 1239.99 178.612 1236.89 Q178.612 1233.76 176.69 1231.98 Q174.792 1230.2 171.436 1230.2 M166.76 1228.21 Q163.751 1227.47 162.061 1225.41 Q160.394 1223.35 160.394 1220.38 Q160.394 1216.24 163.334 1213.83 Q166.297 1211.43 171.436 1211.43 Q176.598 1211.43 179.538 1213.83 Q182.477 1216.24 182.477 1220.38 Q182.477 1223.35 180.788 1225.41 Q179.121 1227.47 176.135 1228.21 Q179.514 1228.99 181.389 1231.29 Q183.288 1233.58 183.288 1236.89 Q183.288 1241.91 180.209 1244.6 Q177.153 1247.28 171.436 1247.28 Q165.718 1247.28 162.64 1244.6 Q159.584 1241.91 159.584 1236.89 Q159.584 1233.58 161.482 1231.29 Q163.38 1228.99 166.76 1228.21 M165.047 1220.82 Q165.047 1223.51 166.714 1225.01 Q168.403 1226.52 171.436 1226.52 Q174.445 1226.52 176.135 1225.01 Q177.848 1223.51 177.848 1220.82 Q177.848 1218.14 176.135 1216.63 Q174.445 1215.13 171.436 1215.13 Q168.403 1215.13 166.714 1216.63 Q165.047 1218.14 165.047 1220.82 Z\" fill=\"#000000\" fill-rule=\"evenodd\" fill-opacity=\"1\" /><path clip-path=\"url(#clip630)\" d=\"M201.598 1215.13 Q197.987 1215.13 196.158 1218.69 Q194.352 1222.24 194.352 1229.36 Q194.352 1236.47 196.158 1240.04 Q197.987 1243.58 201.598 1243.58 Q205.232 1243.58 207.037 1240.04 Q208.866 1236.47 208.866 1229.36 Q208.866 1222.24 207.037 1218.69 Q205.232 1215.13 201.598 1215.13 M201.598 1211.43 Q207.408 1211.43 210.463 1216.03 Q213.542 1220.61 213.542 1229.36 Q213.542 1238.09 210.463 1242.7 Q207.408 1247.28 201.598 1247.28 Q195.787 1247.28 192.709 1242.7 Q189.653 1238.09 189.653 1229.36 Q189.653 1220.61 192.709 1216.03 Q195.787 1211.43 201.598 1211.43 Z\" fill=\"#000000\" fill-rule=\"evenodd\" fill-opacity=\"1\" /><path clip-path=\"url(#clip630)\" d=\"M127.2 916.31 Q123.589 916.31 121.76 919.875 Q119.955 923.416 119.955 930.546 Q119.955 937.652 121.76 941.217 Q123.589 944.759 127.2 944.759 Q130.834 944.759 132.64 941.217 Q134.468 937.652 134.468 930.546 Q134.468 923.416 132.64 919.875 Q130.834 916.31 127.2 916.31 M127.2 912.606 Q133.01 912.606 136.066 917.213 Q139.144 921.796 139.144 930.546 Q139.144 939.273 136.066 943.879 Q133.01 948.462 127.2 948.462 Q121.39 948.462 118.311 943.879 Q115.256 939.273 115.256 930.546 Q115.256 921.796 118.311 917.213 Q121.39 912.606 127.2 912.606 Z\" fill=\"#000000\" fill-rule=\"evenodd\" fill-opacity=\"1\" /><path clip-path=\"url(#clip630)\" d=\"M147.362 941.911 L152.246 941.911 L152.246 947.791 L147.362 947.791 L147.362 941.911 Z\" fill=\"#000000\" fill-rule=\"evenodd\" fill-opacity=\"1\" /><path clip-path=\"url(#clip630)\" d=\"M172.431 931.379 Q169.098 931.379 167.177 933.162 Q165.278 934.944 165.278 938.069 Q165.278 941.194 167.177 942.976 Q169.098 944.759 172.431 944.759 Q175.764 944.759 177.686 942.976 Q179.607 941.171 179.607 938.069 Q179.607 934.944 177.686 933.162 Q175.788 931.379 172.431 931.379 M167.755 929.388 Q164.746 928.648 163.056 926.587 Q161.39 924.527 161.39 921.564 Q161.39 917.421 164.329 915.013 Q167.292 912.606 172.431 912.606 Q177.593 912.606 180.533 915.013 Q183.473 917.421 183.473 921.564 Q183.473 924.527 181.783 926.587 Q180.116 928.648 177.13 929.388 Q180.51 930.175 182.385 932.467 Q184.283 934.759 184.283 938.069 Q184.283 943.092 181.204 945.777 Q178.149 948.462 172.431 948.462 Q166.714 948.462 163.635 945.777 Q160.579 943.092 160.579 938.069 Q160.579 934.759 162.477 932.467 Q164.376 930.175 167.755 929.388 M166.042 922.004 Q166.042 924.689 167.709 926.194 Q169.399 927.699 172.431 927.699 Q175.44 927.699 177.13 926.194 Q178.843 924.689 178.843 922.004 Q178.843 919.319 177.13 917.814 Q175.44 916.31 172.431 916.31 Q169.399 916.31 167.709 917.814 Q166.042 919.319 166.042 922.004 Z\" fill=\"#000000\" fill-rule=\"evenodd\" fill-opacity=\"1\" /><path clip-path=\"url(#clip630)\" d=\"M192.639 913.231 L210.996 913.231 L210.996 917.166 L196.922 917.166 L196.922 925.638 Q197.94 925.291 198.959 925.129 Q199.977 924.944 200.996 924.944 Q206.783 924.944 210.162 928.115 Q213.542 931.287 213.542 936.703 Q213.542 942.282 210.07 945.384 Q206.598 948.462 200.278 948.462 Q198.102 948.462 195.834 948.092 Q193.588 947.722 191.181 946.981 L191.181 942.282 Q193.264 943.416 195.487 943.972 Q197.709 944.527 200.186 944.527 Q204.19 944.527 206.528 942.421 Q208.866 940.314 208.866 936.703 Q208.866 933.092 206.528 930.986 Q204.19 928.879 200.186 928.879 Q198.311 928.879 196.436 929.296 Q194.584 929.712 192.639 930.592 L192.639 913.231 Z\" fill=\"#000000\" fill-rule=\"evenodd\" fill-opacity=\"1\" /><path clip-path=\"url(#clip630)\" d=\"M126.205 617.491 Q122.593 617.491 120.765 621.055 Q118.959 624.597 118.959 631.727 Q118.959 638.833 120.765 642.398 Q122.593 645.94 126.205 645.94 Q129.839 645.94 131.644 642.398 Q133.473 638.833 133.473 631.727 Q133.473 624.597 131.644 621.055 Q129.839 617.491 126.205 617.491 M126.205 613.787 Q132.015 613.787 135.07 618.393 Q138.149 622.977 138.149 631.727 Q138.149 640.453 135.07 645.06 Q132.015 649.643 126.205 649.643 Q120.394 649.643 117.316 645.06 Q114.26 640.453 114.26 631.727 Q114.26 622.977 117.316 618.393 Q120.394 613.787 126.205 613.787 Z\" fill=\"#000000\" fill-rule=\"evenodd\" fill-opacity=\"1\" /><path clip-path=\"url(#clip630)\" d=\"M146.366 643.092 L151.251 643.092 L151.251 648.972 L146.366 648.972 L146.366 643.092 Z\" fill=\"#000000\" fill-rule=\"evenodd\" fill-opacity=\"1\" /><path clip-path=\"url(#clip630)\" d=\"M161.575 648.254 L161.575 643.995 Q163.334 644.828 165.14 645.268 Q166.945 645.708 168.681 645.708 Q173.311 645.708 175.741 642.606 Q178.195 639.481 178.542 633.139 Q177.2 635.129 175.139 636.194 Q173.079 637.259 170.579 637.259 Q165.394 637.259 162.362 634.134 Q159.353 630.986 159.353 625.546 Q159.353 620.222 162.501 617.005 Q165.649 613.787 170.88 613.787 Q176.876 613.787 180.024 618.393 Q183.195 622.977 183.195 631.727 Q183.195 639.898 179.306 644.782 Q175.44 649.643 168.889 649.643 Q167.13 649.643 165.325 649.296 Q163.519 648.949 161.575 648.254 M170.88 633.602 Q174.028 633.602 175.857 631.449 Q177.709 629.296 177.709 625.546 Q177.709 621.819 175.857 619.667 Q174.028 617.491 170.88 617.491 Q167.732 617.491 165.88 619.667 Q164.052 621.819 164.052 625.546 Q164.052 629.296 165.88 631.449 Q167.732 633.602 170.88 633.602 Z\" fill=\"#000000\" fill-rule=\"evenodd\" fill-opacity=\"1\" /><path clip-path=\"url(#clip630)\" d=\"M201.598 617.491 Q197.987 617.491 196.158 621.055 Q194.352 624.597 194.352 631.727 Q194.352 638.833 196.158 642.398 Q197.987 645.94 201.598 645.94 Q205.232 645.94 207.037 642.398 Q208.866 638.833 208.866 631.727 Q208.866 624.597 207.037 621.055 Q205.232 617.491 201.598 617.491 M201.598 613.787 Q207.408 613.787 210.463 618.393 Q213.542 622.977 213.542 631.727 Q213.542 640.453 210.463 645.06 Q207.408 649.643 201.598 649.643 Q195.787 649.643 192.709 645.06 Q189.653 640.453 189.653 631.727 Q189.653 622.977 192.709 618.393 Q195.787 613.787 201.598 613.787 Z\" fill=\"#000000\" fill-rule=\"evenodd\" fill-opacity=\"1\" /><path clip-path=\"url(#clip630)\" d=\"M127.2 318.671 Q123.589 318.671 121.76 322.236 Q119.955 325.778 119.955 332.908 Q119.955 340.014 121.76 343.579 Q123.589 347.12 127.2 347.12 Q130.834 347.12 132.64 343.579 Q134.468 340.014 134.468 332.908 Q134.468 325.778 132.64 322.236 Q130.834 318.671 127.2 318.671 M127.2 314.968 Q133.01 314.968 136.066 319.574 Q139.144 324.158 139.144 332.908 Q139.144 341.634 136.066 346.241 Q133.01 350.824 127.2 350.824 Q121.39 350.824 118.311 346.241 Q115.256 341.634 115.256 332.908 Q115.256 324.158 118.311 319.574 Q121.39 314.968 127.2 314.968 Z\" fill=\"#000000\" fill-rule=\"evenodd\" fill-opacity=\"1\" /><path clip-path=\"url(#clip630)\" d=\"M147.362 344.273 L152.246 344.273 L152.246 350.153 L147.362 350.153 L147.362 344.273 Z\" fill=\"#000000\" fill-rule=\"evenodd\" fill-opacity=\"1\" /><path clip-path=\"url(#clip630)\" d=\"M162.57 349.435 L162.57 345.176 Q164.329 346.009 166.135 346.449 Q167.94 346.889 169.677 346.889 Q174.306 346.889 176.737 343.787 Q179.19 340.662 179.538 334.32 Q178.195 336.31 176.135 337.375 Q174.075 338.44 171.575 338.44 Q166.39 338.44 163.357 335.315 Q160.348 332.167 160.348 326.727 Q160.348 321.403 163.496 318.185 Q166.644 314.968 171.876 314.968 Q177.871 314.968 181.019 319.574 Q184.19 324.158 184.19 332.908 Q184.19 341.079 180.301 345.963 Q176.436 350.824 169.885 350.824 Q168.126 350.824 166.32 350.477 Q164.515 350.13 162.57 349.435 M171.876 334.783 Q175.024 334.783 176.852 332.63 Q178.704 330.477 178.704 326.727 Q178.704 323 176.852 320.847 Q175.024 318.671 171.876 318.671 Q168.727 318.671 166.876 320.847 Q165.047 323 165.047 326.727 Q165.047 330.477 166.876 332.63 Q168.727 334.783 171.876 334.783 Z\" fill=\"#000000\" fill-rule=\"evenodd\" fill-opacity=\"1\" /><path clip-path=\"url(#clip630)\" d=\"M192.639 315.593 L210.996 315.593 L210.996 319.528 L196.922 319.528 L196.922 328 Q197.94 327.653 198.959 327.491 Q199.977 327.306 200.996 327.306 Q206.783 327.306 210.162 330.477 Q213.542 333.648 213.542 339.065 Q213.542 344.644 210.07 347.745 Q206.598 350.824 200.278 350.824 Q198.102 350.824 195.834 350.454 Q193.588 350.083 191.181 349.343 L191.181 344.644 Q193.264 345.778 195.487 346.333 Q197.709 346.889 200.186 346.889 Q204.19 346.889 206.528 344.782 Q208.866 342.676 208.866 339.065 Q208.866 335.454 206.528 333.347 Q204.19 331.241 200.186 331.241 Q198.311 331.241 196.436 331.658 Q194.584 332.074 192.639 332.954 L192.639 315.593 Z\" fill=\"#000000\" fill-rule=\"evenodd\" fill-opacity=\"1\" /><path clip-path=\"url(#clip630)\" d=\"M22.818 866.743 L46.4666 875.464 L46.4666 857.99 L22.818 866.743 M16.4842 870.371 L16.4842 863.082 L64.0042 844.972 L64.0042 851.656 L51.8138 855.985 L51.8138 877.405 L64.0042 881.734 L64.0042 888.513 L16.4842 870.371 Z\" fill=\"#000000\" fill-rule=\"evenodd\" fill-opacity=\"1\" /><path clip-path=\"url(#clip630)\" d=\"M16.4842 838.765 L16.4842 832.304 L45.3526 832.304 Q52.9915 832.304 56.3653 829.535 Q59.7073 826.766 59.7073 820.56 Q59.7073 814.385 56.3653 811.616 Q52.9915 808.847 45.3526 808.847 L16.4842 808.847 L16.4842 802.385 L46.1484 802.385 Q55.4423 802.385 60.1847 807.001 Q64.9272 811.584 64.9272 820.56 Q64.9272 829.567 60.1847 834.182 Q55.4423 838.765 46.1484 838.765 L16.4842 838.765 Z\" fill=\"#000000\" fill-rule=\"evenodd\" fill-opacity=\"1\" /><path clip-path=\"url(#clip630)\" d=\"M41.7242 767.788 Q42.4244 765.719 44.7161 763.777 Q47.0077 761.804 51.0181 759.831 L64.0042 753.306 L64.0042 760.213 L51.8138 766.292 Q47.0395 768.647 45.48 770.875 Q43.9204 773.071 43.9204 776.891 L43.9204 783.893 L64.0042 783.893 L64.0042 790.322 L16.4842 790.322 L16.4842 775.809 Q16.4842 767.661 19.8898 763.65 Q23.2955 759.64 30.1704 759.64 Q34.6582 759.64 37.6183 761.74 Q40.5784 763.809 41.7242 767.788 M21.7677 783.893 L38.6368 783.893 L38.6368 775.809 Q38.6368 771.162 36.5043 768.806 Q34.34 766.419 30.1704 766.419 Q26.0009 766.419 23.9002 768.806 Q21.7677 771.162 21.7677 775.809 L21.7677 783.893 Z\" fill=\"#000000\" fill-rule=\"evenodd\" fill-opacity=\"1\" /><path clip-path=\"url(#clip630)\" d=\"M20.8447 725.742 Q20.8447 732.745 26.0645 736.882 Q31.2844 740.988 40.2919 740.988 Q49.2675 740.988 54.4874 736.882 Q59.7073 732.745 59.7073 725.742 Q59.7073 718.74 54.4874 714.666 Q49.2675 710.56 40.2919 710.56 Q31.2844 710.56 26.0645 714.666 Q20.8447 718.74 20.8447 725.742 M15.6248 725.742 Q15.6248 715.748 22.3406 709.764 Q29.0246 703.781 40.2919 703.781 Q51.5274 703.781 58.2432 709.764 Q64.9272 715.748 64.9272 725.742 Q64.9272 735.768 58.2432 741.784 Q51.5592 747.768 40.2919 747.768 Q29.0246 747.768 22.3406 741.784 Q15.6248 735.768 15.6248 725.742 Z\" fill=\"#000000\" fill-rule=\"evenodd\" fill-opacity=\"1\" /><path clip-path=\"url(#clip630)\" d=\"M20.1444 658.139 L26.9239 658.139 Q23.9002 661.385 22.4043 665.077 Q20.9083 668.737 20.9083 672.875 Q20.9083 681.023 25.9054 685.352 Q30.8707 689.681 40.2919 689.681 Q49.6813 689.681 54.6784 685.352 Q59.6436 681.023 59.6436 672.875 Q59.6436 668.737 58.1477 665.077 Q56.6518 661.385 53.6281 658.139 L60.3439 658.139 Q62.6355 661.512 63.7814 665.3 Q64.9272 669.056 64.9272 673.257 Q64.9272 684.047 58.3387 690.254 Q51.7183 696.46 40.2919 696.46 Q28.8336 696.46 22.2451 690.254 Q15.6248 684.047 15.6248 673.257 Q15.6248 668.992 16.7706 665.236 Q17.8846 661.449 20.1444 658.139 Z\" fill=\"#000000\" fill-rule=\"evenodd\" fill-opacity=\"1\" /><path clip-path=\"url(#clip630)\" d=\"M410.497 16.7545 L410.497 25.383 Q406.365 21.5346 401.666 19.6307 Q397.007 17.7268 391.741 17.7268 Q381.371 17.7268 375.862 24.0867 Q370.352 30.4061 370.352 42.3968 Q370.352 54.3469 375.862 60.7069 Q381.371 67.0263 391.741 67.0263 Q397.007 67.0263 401.666 65.1223 Q406.365 63.2184 410.497 59.3701 L410.497 67.9175 Q406.203 70.8341 401.382 72.2924 Q396.602 73.7508 391.255 73.7508 Q377.523 73.7508 369.623 65.3654 Q361.724 56.9395 361.724 42.3968 Q361.724 27.8135 369.623 19.4281 Q377.523 11.0023 391.255 11.0023 Q396.683 11.0023 401.463 12.4606 Q406.284 13.8784 410.497 16.7545 Z\" fill=\"#000000\" fill-rule=\"evenodd\" fill-opacity=\"1\" /><path clip-path=\"url(#clip630)\" d=\"M443.431 49.7694 Q434.397 49.7694 430.913 51.8354 Q427.43 53.9013 427.43 58.8839 Q427.43 62.8538 430.022 65.2034 Q432.655 67.5124 437.152 67.5124 Q443.35 67.5124 447.077 63.1374 Q450.844 58.7219 450.844 51.4303 L450.844 49.7694 L443.431 49.7694 M458.298 46.6907 L458.298 72.576 L450.844 72.576 L450.844 65.6895 Q448.292 69.8214 444.484 71.8063 Q440.676 73.7508 435.167 73.7508 Q428.199 73.7508 424.067 69.8619 Q419.976 65.9325 419.976 59.3701 Q419.976 51.7138 425.08 47.825 Q430.225 43.9361 440.393 43.9361 L450.844 43.9361 L450.844 43.2069 Q450.844 38.0623 447.441 35.2672 Q444.079 32.4315 437.962 32.4315 Q434.073 32.4315 430.387 33.3632 Q426.701 34.295 423.298 36.1584 L423.298 29.2718 Q427.389 27.692 431.238 26.9223 Q435.086 26.1121 438.732 26.1121 Q448.575 26.1121 453.436 31.2163 Q458.298 36.3204 458.298 46.6907 Z\" fill=\"#000000\" fill-rule=\"evenodd\" fill-opacity=\"1\" /><path clip-path=\"url(#clip630)\" d=\"M472.881 54.671 L472.881 27.2059 L480.335 27.2059 L480.335 54.3874 Q480.335 60.8284 482.846 64.0691 Q485.358 67.2693 490.381 67.2693 Q496.417 67.2693 499.9 63.421 Q503.425 59.5726 503.425 52.9291 L503.425 27.2059 L510.878 27.2059 L510.878 72.576 L503.425 72.576 L503.425 65.6084 Q500.711 69.7404 497.105 71.7658 Q493.54 73.7508 488.801 73.7508 Q480.983 73.7508 476.932 68.8897 Q472.881 64.0286 472.881 54.671 M491.637 26.1121 L491.637 26.1121 Z\" fill=\"#000000\" fill-rule=\"evenodd\" fill-opacity=\"1\" /><path clip-path=\"url(#clip630)\" d=\"M555.155 28.5427 L555.155 35.5912 Q551.995 33.9709 548.592 33.1607 Q545.189 32.3505 541.544 32.3505 Q535.994 32.3505 533.199 34.0519 Q530.444 35.7533 530.444 39.156 Q530.444 41.7486 532.429 43.2475 Q534.414 44.7058 540.409 46.0426 L542.961 46.6097 Q550.901 48.3111 554.223 51.4303 Q557.585 54.509 557.585 60.0587 Q557.585 66.3781 552.562 70.0644 Q547.58 73.7508 538.83 73.7508 Q535.184 73.7508 531.214 73.0216 Q527.284 72.3329 522.91 70.9151 L522.91 63.2184 Q527.041 65.3654 531.052 66.4591 Q535.062 67.5124 538.992 67.5124 Q544.258 67.5124 547.093 65.73 Q549.929 63.9071 549.929 60.6258 Q549.929 57.5877 547.863 55.9673 Q545.838 54.3469 538.911 52.8481 L536.318 52.2405 Q529.391 50.7821 526.312 47.7845 Q523.234 44.7463 523.234 39.4801 Q523.234 33.0797 527.771 29.5959 Q532.308 26.1121 540.652 26.1121 Q544.784 26.1121 548.43 26.7198 Q552.076 27.3274 555.155 28.5427 Z\" fill=\"#000000\" fill-rule=\"evenodd\" fill-opacity=\"1\" /><path clip-path=\"url(#clip630)\" d=\"M590.073 49.7694 Q581.04 49.7694 577.556 51.8354 Q574.072 53.9013 574.072 58.8839 Q574.072 62.8538 576.665 65.2034 Q579.298 67.5124 583.795 67.5124 Q589.992 67.5124 593.719 63.1374 Q597.487 58.7219 597.487 51.4303 L597.487 49.7694 L590.073 49.7694 M604.94 46.6907 L604.94 72.576 L597.487 72.576 L597.487 65.6895 Q594.935 69.8214 591.127 71.8063 Q587.319 73.7508 581.81 73.7508 Q574.842 73.7508 570.71 69.8619 Q566.619 65.9325 566.619 59.3701 Q566.619 51.7138 571.723 47.825 Q576.868 43.9361 587.035 43.9361 L597.487 43.9361 L597.487 43.2069 Q597.487 38.0623 594.084 35.2672 Q590.722 32.4315 584.605 32.4315 Q580.716 32.4315 577.03 33.3632 Q573.343 34.295 569.941 36.1584 L569.941 29.2718 Q574.032 27.692 577.88 26.9223 Q581.729 26.1121 585.374 26.1121 Q595.218 26.1121 600.079 31.2163 Q604.94 36.3204 604.94 46.6907 Z\" fill=\"#000000\" fill-rule=\"evenodd\" fill-opacity=\"1\" /><path clip-path=\"url(#clip630)\" d=\"M620.293 9.54393 L627.747 9.54393 L627.747 72.576 L620.293 72.576 L620.293 9.54393 Z\" fill=\"#000000\" fill-rule=\"evenodd\" fill-opacity=\"1\" /><path clip-path=\"url(#clip630)\" d=\"M643.343 27.2059 L650.797 27.2059 L650.797 72.576 L643.343 72.576 L643.343 27.2059 M643.343 9.54393 L650.797 9.54393 L650.797 18.9825 L643.343 18.9825 L643.343 9.54393 Z\" fill=\"#000000\" fill-rule=\"evenodd\" fill-opacity=\"1\" /><path clip-path=\"url(#clip630)\" d=\"M673.765 14.324 L673.765 27.2059 L689.118 27.2059 L689.118 32.9987 L673.765 32.9987 L673.765 57.6282 Q673.765 63.1779 675.264 64.7578 Q676.803 66.3376 681.462 66.3376 L689.118 66.3376 L689.118 72.576 L681.462 72.576 Q672.833 72.576 669.552 69.3758 Q666.271 66.1351 666.271 57.6282 L666.271 32.9987 L660.802 32.9987 L660.802 27.2059 L666.271 27.2059 L666.271 14.324 L673.765 14.324 Z\" fill=\"#000000\" fill-rule=\"evenodd\" fill-opacity=\"1\" /><path clip-path=\"url(#clip630)\" d=\"M717.799 76.7889 Q714.639 84.8907 711.641 87.3618 Q708.643 89.8329 703.62 89.8329 L697.666 89.8329 L697.666 83.5945 L702.04 83.5945 Q705.119 83.5945 706.821 82.1361 Q708.522 80.6778 710.588 75.2496 L711.925 71.8468 L693.574 27.2059 L701.473 27.2059 L715.652 62.6918 L729.83 27.2059 L737.729 27.2059 L717.799 76.7889 Z\" fill=\"#000000\" fill-rule=\"evenodd\" fill-opacity=\"1\" /><path clip-path=\"url(#clip630)\" d=\"M790.31 72.576 L767.22 12.096 L775.767 12.096 L794.928 63.0159 L814.129 12.096 L822.636 12.096 L799.586 72.576 L790.31 72.576 Z\" fill=\"#000000\" fill-rule=\"evenodd\" fill-opacity=\"1\" /><path clip-path=\"url(#clip630)\" d=\"M867.722 14.0809 L867.722 22.0612 Q863.064 19.8332 858.932 18.7395 Q854.8 17.6457 850.952 17.6457 Q844.268 17.6457 840.622 20.2383 Q837.017 22.8309 837.017 27.611 Q837.017 31.6214 839.407 33.6873 Q841.837 35.7128 848.562 36.9686 L853.504 37.9813 Q862.659 39.7232 866.993 44.1387 Q871.368 48.5136 871.368 55.8863 Q871.368 64.6767 865.454 69.2137 Q859.58 73.7508 848.197 73.7508 Q843.903 73.7508 839.042 72.7785 Q834.221 71.8063 829.036 69.9024 L829.036 61.4765 Q834.019 64.2716 838.799 65.6895 Q843.579 67.1073 848.197 67.1073 Q855.205 67.1073 859.013 64.3527 Q862.821 61.598 862.821 56.4939 Q862.821 52.0379 860.066 49.5264 Q857.352 47.0148 851.114 45.759 L846.131 44.7868 Q836.976 42.9639 832.885 39.075 Q828.793 35.1862 828.793 28.2591 Q828.793 20.2383 834.424 15.6203 Q840.095 11.0023 850.02 11.0023 Q854.273 11.0023 858.689 11.7719 Q863.104 12.5416 867.722 14.0809 Z\" fill=\"#000000\" fill-rule=\"evenodd\" fill-opacity=\"1\" /><path clip-path=\"url(#clip630)\" d=\"M910.5 12.096 L948.741 12.096 L948.741 18.9825 L918.683 18.9825 L918.683 36.8875 L947.485 36.8875 L947.485 43.7741 L918.683 43.7741 L918.683 65.6895 L949.47 65.6895 L949.47 72.576 L910.5 72.576 L910.5 12.096 Z\" fill=\"#000000\" fill-rule=\"evenodd\" fill-opacity=\"1\" /><path clip-path=\"url(#clip630)\" d=\"M1000.31 27.2059 L983.902 49.2833 L1001.16 72.576 L992.369 72.576 L979.163 54.752 L965.957 72.576 L957.166 72.576 L974.788 48.8377 L958.665 27.2059 L967.456 27.2059 L979.487 43.369 L991.518 27.2059 L1000.31 27.2059 Z\" fill=\"#000000\" fill-rule=\"evenodd\" fill-opacity=\"1\" /><path clip-path=\"url(#clip630)\" d=\"M1032.31 49.7694 Q1023.28 49.7694 1019.79 51.8354 Q1016.31 53.9013 1016.31 58.8839 Q1016.31 62.8538 1018.9 65.2034 Q1021.54 67.5124 1026.03 67.5124 Q1032.23 67.5124 1035.96 63.1374 Q1039.72 58.7219 1039.72 51.4303 L1039.72 49.7694 L1032.31 49.7694 M1047.18 46.6907 L1047.18 72.576 L1039.72 72.576 L1039.72 65.6895 Q1037.17 69.8214 1033.36 71.8063 Q1029.56 73.7508 1024.05 73.7508 Q1017.08 73.7508 1012.95 69.8619 Q1008.86 65.9325 1008.86 59.3701 Q1008.86 51.7138 1013.96 47.825 Q1019.1 43.9361 1029.27 43.9361 L1039.72 43.9361 L1039.72 43.2069 Q1039.72 38.0623 1036.32 35.2672 Q1032.96 32.4315 1026.84 32.4315 Q1022.95 32.4315 1019.27 33.3632 Q1015.58 34.295 1012.18 36.1584 L1012.18 29.2718 Q1016.27 27.692 1020.12 26.9223 Q1023.97 26.1121 1027.61 26.1121 Q1037.46 26.1121 1042.32 31.2163 Q1047.18 36.3204 1047.18 46.6907 Z\" fill=\"#000000\" fill-rule=\"evenodd\" fill-opacity=\"1\" /><path clip-path=\"url(#clip630)\" d=\"M1095.18 28.9478 L1095.18 35.9153 Q1092.02 34.1734 1088.82 33.3227 Q1085.66 32.4315 1082.42 32.4315 Q1075.17 32.4315 1071.16 37.0496 Q1067.15 41.6271 1067.15 49.9314 Q1067.15 58.2358 1071.16 62.8538 Q1075.17 67.4314 1082.42 67.4314 Q1085.66 67.4314 1088.82 66.5807 Q1092.02 65.6895 1095.18 63.9476 L1095.18 70.8341 Q1092.06 72.2924 1088.7 73.0216 Q1085.38 73.7508 1081.61 73.7508 Q1071.36 73.7508 1065.33 67.3098 Q1059.29 60.8689 1059.29 49.9314 Q1059.29 38.832 1065.37 32.472 Q1071.48 26.1121 1082.1 26.1121 Q1085.54 26.1121 1088.82 26.8413 Q1092.1 27.5299 1095.18 28.9478 Z\" fill=\"#000000\" fill-rule=\"evenodd\" fill-opacity=\"1\" /><path clip-path=\"url(#clip630)\" d=\"M1115.52 14.324 L1115.52 27.2059 L1130.87 27.2059 L1130.87 32.9987 L1115.52 32.9987 L1115.52 57.6282 Q1115.52 63.1779 1117.02 64.7578 Q1118.55 66.3376 1123.21 66.3376 L1130.87 66.3376 L1130.87 72.576 L1123.21 72.576 Q1114.58 72.576 1111.3 69.3758 Q1108.02 66.1351 1108.02 57.6282 L1108.02 32.9987 L1102.55 32.9987 L1102.55 27.2059 L1108.02 27.2059 L1108.02 14.324 L1115.52 14.324 Z\" fill=\"#000000\" fill-rule=\"evenodd\" fill-opacity=\"1\" /><path clip-path=\"url(#clip630)\" d=\"M1187.58 20.1573 L1176.48 50.2555 L1198.72 50.2555 L1187.58 20.1573 M1182.96 12.096 L1192.24 12.096 L1215.29 72.576 L1206.78 72.576 L1201.27 57.061 L1174.01 57.061 L1168.5 72.576 L1159.87 72.576 L1182.96 12.096 Z\" fill=\"#000000\" fill-rule=\"evenodd\" fill-opacity=\"1\" /><path clip-path=\"url(#clip630)\" d=\"M1223.19 12.096 L1231.41 12.096 L1231.41 48.8377 Q1231.41 58.5599 1234.94 62.8538 Q1238.46 67.1073 1246.36 67.1073 Q1254.22 67.1073 1257.74 62.8538 Q1261.27 58.5599 1261.27 48.8377 L1261.27 12.096 L1269.49 12.096 L1269.49 49.8504 Q1269.49 61.6791 1263.62 67.7149 Q1257.78 73.7508 1246.36 73.7508 Q1234.9 73.7508 1229.02 67.7149 Q1223.19 61.6791 1223.19 49.8504 L1223.19 12.096 Z\" fill=\"#000000\" fill-rule=\"evenodd\" fill-opacity=\"1\" /><path clip-path=\"url(#clip630)\" d=\"M1313.52 44.2197 Q1316.16 45.1109 1318.63 48.0275 Q1321.14 50.9442 1323.65 56.0483 L1331.96 72.576 L1323.17 72.576 L1315.43 57.061 Q1312.43 50.9847 1309.6 48.9997 Q1306.8 47.0148 1301.94 47.0148 L1293.03 47.0148 L1293.03 72.576 L1284.84 72.576 L1284.84 12.096 L1303.32 12.096 Q1313.69 12.096 1318.79 16.4305 Q1323.89 20.7649 1323.89 29.5149 Q1323.89 35.2267 1321.22 38.994 Q1318.59 42.7613 1313.52 44.2197 M1293.03 18.8205 L1293.03 40.2903 L1303.32 40.2903 Q1309.23 40.2903 1312.23 37.5762 Q1315.27 34.8216 1315.27 29.5149 Q1315.27 24.2082 1312.23 21.5346 Q1309.23 18.8205 1303.32 18.8205 L1293.03 18.8205 Z\" fill=\"#000000\" fill-rule=\"evenodd\" fill-opacity=\"1\" /><path clip-path=\"url(#clip630)\" d=\"M1367.04 17.6457 Q1358.12 17.6457 1352.86 24.2892 Q1347.63 30.9327 1347.63 42.3968 Q1347.63 53.8203 1352.86 60.4638 Q1358.12 67.1073 1367.04 67.1073 Q1375.95 67.1073 1381.13 60.4638 Q1386.36 53.8203 1386.36 42.3968 Q1386.36 30.9327 1381.13 24.2892 Q1375.95 17.6457 1367.04 17.6457 M1367.04 11.0023 Q1379.76 11.0023 1387.37 19.5497 Q1394.99 28.0566 1394.99 42.3968 Q1394.99 56.6965 1387.37 65.2439 Q1379.76 73.7508 1367.04 73.7508 Q1354.28 73.7508 1346.62 65.2439 Q1339 56.737 1339 42.3968 Q1339 28.0566 1346.62 19.5497 Q1354.28 11.0023 1367.04 11.0023 Z\" fill=\"#000000\" fill-rule=\"evenodd\" fill-opacity=\"1\" /><path clip-path=\"url(#clip630)\" d=\"M1453.08 16.7545 L1453.08 25.383 Q1448.95 21.5346 1444.25 19.6307 Q1439.59 17.7268 1434.32 17.7268 Q1423.95 17.7268 1418.44 24.0867 Q1412.93 30.4061 1412.93 42.3968 Q1412.93 54.3469 1418.44 60.7069 Q1423.95 67.0263 1434.32 67.0263 Q1439.59 67.0263 1444.25 65.1223 Q1448.95 63.2184 1453.08 59.3701 L1453.08 67.9175 Q1448.78 70.8341 1443.96 72.2924 Q1439.18 73.7508 1433.84 73.7508 Q1420.1 73.7508 1412.2 65.3654 Q1404.31 56.9395 1404.31 42.3968 Q1404.31 27.8135 1412.2 19.4281 Q1420.1 11.0023 1433.84 11.0023 Q1439.26 11.0023 1444.04 12.4606 Q1448.87 13.8784 1453.08 16.7545 Z\" fill=\"#000000\" fill-rule=\"evenodd\" fill-opacity=\"1\" /><path clip-path=\"url(#clip630)\" d=\"M1491.76 27.2059 L1499.22 27.2059 L1499.22 72.576 L1491.76 72.576 L1491.76 27.2059 M1491.76 9.54393 L1499.22 9.54393 L1499.22 18.9825 L1491.76 18.9825 L1491.76 9.54393 Z\" fill=\"#000000\" fill-rule=\"evenodd\" fill-opacity=\"1\" /><path clip-path=\"url(#clip630)\" d=\"M1552.53 45.1919 L1552.53 72.576 L1545.07 72.576 L1545.07 45.4349 Q1545.07 38.994 1542.56 35.7938 Q1540.05 32.5936 1535.03 32.5936 Q1528.99 32.5936 1525.51 36.4419 Q1522.02 40.2903 1522.02 46.9338 L1522.02 72.576 L1514.53 72.576 L1514.53 27.2059 L1522.02 27.2059 L1522.02 34.2544 Q1524.7 30.163 1528.3 28.1376 Q1531.95 26.1121 1536.69 26.1121 Q1544.51 26.1121 1548.52 30.9732 Q1552.53 35.7938 1552.53 45.1919 Z\" fill=\"#000000\" fill-rule=\"evenodd\" fill-opacity=\"1\" /><path clip-path=\"url(#clip630)\" d=\"M1616.73 9.54393 L1616.73 15.7418 L1609.61 15.7418 Q1605.59 15.7418 1604.01 17.3622 Q1602.48 18.9825 1602.48 23.1955 L1602.48 27.2059 L1614.75 27.2059 L1614.75 32.9987 L1602.48 32.9987 L1602.48 72.576 L1594.98 72.576 L1594.98 32.9987 L1587.85 32.9987 L1587.85 27.2059 L1594.98 27.2059 L1594.98 24.0462 Q1594.98 16.471 1598.51 13.0277 Q1602.03 9.54393 1609.69 9.54393 L1616.73 9.54393 Z\" fill=\"#000000\" fill-rule=\"evenodd\" fill-opacity=\"1\" /><path clip-path=\"url(#clip630)\" d=\"M1622.2 54.671 L1622.2 27.2059 L1629.66 27.2059 L1629.66 54.3874 Q1629.66 60.8284 1632.17 64.0691 Q1634.68 67.2693 1639.7 67.2693 Q1645.74 67.2693 1649.22 63.421 Q1652.75 59.5726 1652.75 52.9291 L1652.75 27.2059 L1660.2 27.2059 L1660.2 72.576 L1652.75 72.576 L1652.75 65.6084 Q1650.03 69.7404 1646.43 71.7658 Q1642.86 73.7508 1638.12 73.7508 Q1630.31 73.7508 1626.25 68.8897 Q1622.2 64.0286 1622.2 54.671 M1640.96 26.1121 L1640.96 26.1121 Z\" fill=\"#000000\" fill-rule=\"evenodd\" fill-opacity=\"1\" /><path clip-path=\"url(#clip630)\" d=\"M1713.27 45.1919 L1713.27 72.576 L1705.81 72.576 L1705.81 45.4349 Q1705.81 38.994 1703.3 35.7938 Q1700.79 32.5936 1695.77 32.5936 Q1689.73 32.5936 1686.25 36.4419 Q1682.76 40.2903 1682.76 46.9338 L1682.76 72.576 L1675.27 72.576 L1675.27 27.2059 L1682.76 27.2059 L1682.76 34.2544 Q1685.44 30.163 1689.04 28.1376 Q1692.69 26.1121 1697.43 26.1121 Q1705.25 26.1121 1709.26 30.9732 Q1713.27 35.7938 1713.27 45.1919 Z\" fill=\"#000000\" fill-rule=\"evenodd\" fill-opacity=\"1\" /><path clip-path=\"url(#clip630)\" d=\"M1760.78 28.9478 L1760.78 35.9153 Q1757.63 34.1734 1754.42 33.3227 Q1751.27 32.4315 1748.02 32.4315 Q1740.77 32.4315 1736.76 37.0496 Q1732.75 41.6271 1732.75 49.9314 Q1732.75 58.2358 1736.76 62.8538 Q1740.77 67.4314 1748.02 67.4314 Q1751.27 67.4314 1754.42 66.5807 Q1757.63 65.6895 1760.78 63.9476 L1760.78 70.8341 Q1757.67 72.2924 1754.3 73.0216 Q1750.98 73.7508 1747.21 73.7508 Q1736.97 73.7508 1730.93 67.3098 Q1724.89 60.8689 1724.89 49.9314 Q1724.89 38.832 1730.97 32.472 Q1737.09 26.1121 1747.7 26.1121 Q1751.14 26.1121 1754.42 26.8413 Q1757.71 27.5299 1760.78 28.9478 Z\" fill=\"#000000\" fill-rule=\"evenodd\" fill-opacity=\"1\" /><path clip-path=\"url(#clip630)\" d=\"M1781.12 14.324 L1781.12 27.2059 L1796.47 27.2059 L1796.47 32.9987 L1781.12 32.9987 L1781.12 57.6282 Q1781.12 63.1779 1782.62 64.7578 Q1784.16 66.3376 1788.82 66.3376 L1796.47 66.3376 L1796.47 72.576 L1788.82 72.576 Q1780.19 72.576 1776.91 69.3758 Q1773.63 66.1351 1773.63 57.6282 L1773.63 32.9987 L1768.16 32.9987 L1768.16 27.2059 L1773.63 27.2059 L1773.63 14.324 L1781.12 14.324 Z\" fill=\"#000000\" fill-rule=\"evenodd\" fill-opacity=\"1\" /><path clip-path=\"url(#clip630)\" d=\"M1806.28 27.2059 L1813.73 27.2059 L1813.73 72.576 L1806.28 72.576 L1806.28 27.2059 M1806.28 9.54393 L1813.73 9.54393 L1813.73 18.9825 L1806.28 18.9825 L1806.28 9.54393 Z\" fill=\"#000000\" fill-rule=\"evenodd\" fill-opacity=\"1\" /><path clip-path=\"url(#clip630)\" d=\"M1846.91 32.4315 Q1840.91 32.4315 1837.43 37.1306 Q1833.94 41.7891 1833.94 49.9314 Q1833.94 58.0738 1837.39 62.7728 Q1840.87 67.4314 1846.91 67.4314 Q1852.86 67.4314 1856.35 62.7323 Q1859.83 58.0333 1859.83 49.9314 Q1859.83 41.8701 1856.35 37.1711 Q1852.86 32.4315 1846.91 32.4315 M1846.91 26.1121 Q1856.63 26.1121 1862.18 32.4315 Q1867.73 38.7509 1867.73 49.9314 Q1867.73 61.0714 1862.18 67.4314 Q1856.63 73.7508 1846.91 73.7508 Q1837.14 73.7508 1831.59 67.4314 Q1826.09 61.0714 1826.09 49.9314 Q1826.09 38.7509 1831.59 32.4315 Q1837.14 26.1121 1846.91 26.1121 Z\" fill=\"#000000\" fill-rule=\"evenodd\" fill-opacity=\"1\" /><path clip-path=\"url(#clip630)\" d=\"M1917.8 45.1919 L1917.8 72.576 L1910.34 72.576 L1910.34 45.4349 Q1910.34 38.994 1907.83 35.7938 Q1905.32 32.5936 1900.3 32.5936 Q1894.26 32.5936 1890.78 36.4419 Q1887.29 40.2903 1887.29 46.9338 L1887.29 72.576 L1879.8 72.576 L1879.8 27.2059 L1887.29 27.2059 L1887.29 34.2544 Q1889.97 30.163 1893.57 28.1376 Q1897.22 26.1121 1901.96 26.1121 Q1909.78 26.1121 1913.79 30.9732 Q1917.8 35.7938 1917.8 45.1919 Z\" fill=\"#000000\" fill-rule=\"evenodd\" fill-opacity=\"1\" /><path clip-path=\"url(#clip630)\" d=\"M1976.62 32.4315 Q1970.62 32.4315 1967.14 37.1306 Q1963.65 41.7891 1963.65 49.9314 Q1963.65 58.0738 1967.1 62.7728 Q1970.58 67.4314 1976.62 67.4314 Q1982.57 67.4314 1986.06 62.7323 Q1989.54 58.0333 1989.54 49.9314 Q1989.54 41.8701 1986.06 37.1711 Q1982.57 32.4315 1976.62 32.4315 M1976.62 26.1121 Q1986.34 26.1121 1991.89 32.4315 Q1997.44 38.7509 1997.44 49.9314 Q1997.44 61.0714 1991.89 67.4314 Q1986.34 73.7508 1976.62 73.7508 Q1966.85 73.7508 1961.3 67.4314 Q1955.8 61.0714 1955.8 49.9314 Q1955.8 38.7509 1961.3 32.4315 Q1966.85 26.1121 1976.62 26.1121 Z\" fill=\"#000000\" fill-rule=\"evenodd\" fill-opacity=\"1\" /><path clip-path=\"url(#clip630)\" d=\"M2032.76 9.54393 L2032.76 15.7418 L2025.63 15.7418 Q2021.62 15.7418 2020.04 17.3622 Q2018.5 18.9825 2018.5 23.1955 L2018.5 27.2059 L2030.78 27.2059 L2030.78 32.9987 L2018.5 32.9987 L2018.5 72.576 L2011.01 72.576 L2011.01 32.9987 L2003.88 32.9987 L2003.88 27.2059 L2011.01 27.2059 L2011.01 24.0462 Q2011.01 16.471 2014.53 13.0277 Q2018.06 9.54393 2025.71 9.54393 L2032.76 9.54393 Z\" fill=\"#000000\" fill-rule=\"evenodd\" fill-opacity=\"1\" /><path clip-path=\"url(#clip630)\" d=\"M2072.74 14.324 L2072.74 27.2059 L2088.1 27.2059 L2088.1 32.9987 L2072.74 32.9987 L2072.74 57.6282 Q2072.74 63.1779 2074.24 64.7578 Q2075.78 66.3376 2080.44 66.3376 L2088.1 66.3376 L2088.1 72.576 L2080.44 72.576 Q2071.81 72.576 2068.53 69.3758 Q2065.25 66.1351 2065.25 57.6282 L2065.25 32.9987 L2059.78 32.9987 L2059.78 27.2059 L2065.25 27.2059 L2065.25 14.324 L2072.74 14.324 Z\" fill=\"#000000\" fill-rule=\"evenodd\" fill-opacity=\"1\" /><path clip-path=\"url(#clip630)\" d=\"M2097.9 27.2059 L2105.35 27.2059 L2105.35 72.576 L2097.9 72.576 L2097.9 27.2059 M2097.9 9.54393 L2105.35 9.54393 L2105.35 18.9825 L2097.9 18.9825 L2097.9 9.54393 Z\" fill=\"#000000\" fill-rule=\"evenodd\" fill-opacity=\"1\" /><path clip-path=\"url(#clip630)\" d=\"M2156.27 35.9153 Q2159.07 30.8922 2162.96 28.5022 Q2166.85 26.1121 2172.11 26.1121 Q2179.2 26.1121 2183.05 31.0947 Q2186.9 36.0368 2186.9 45.1919 L2186.9 72.576 L2179.41 72.576 L2179.41 45.4349 Q2179.41 38.913 2177.1 35.7533 Q2174.79 32.5936 2170.05 32.5936 Q2164.25 32.5936 2160.89 36.4419 Q2157.53 40.2903 2157.53 46.9338 L2157.53 72.576 L2150.04 72.576 L2150.04 45.4349 Q2150.04 38.8725 2147.73 35.7533 Q2145.42 32.5936 2140.6 32.5936 Q2134.89 32.5936 2131.52 36.4824 Q2128.16 40.3308 2128.16 46.9338 L2128.16 72.576 L2120.67 72.576 L2120.67 27.2059 L2128.16 27.2059 L2128.16 34.2544 Q2130.71 30.082 2134.28 28.0971 Q2137.84 26.1121 2142.74 26.1121 Q2147.69 26.1121 2151.13 28.6237 Q2154.61 31.1352 2156.27 35.9153 Z\" fill=\"#000000\" fill-rule=\"evenodd\" fill-opacity=\"1\" /><path clip-path=\"url(#clip630)\" d=\"M2240.57 48.0275 L2240.57 51.6733 L2206.3 51.6733 Q2206.79 59.3701 2210.92 63.421 Q2215.09 67.4314 2222.51 67.4314 Q2226.8 67.4314 2230.81 66.3781 Q2234.86 65.3249 2238.83 63.2184 L2238.83 70.267 Q2234.82 71.9684 2230.61 72.8596 Q2226.4 73.7508 2222.06 73.7508 Q2211.2 73.7508 2204.84 67.4314 Q2198.53 61.1119 2198.53 50.3365 Q2198.53 39.1965 2204.52 32.6746 Q2210.56 26.1121 2220.76 26.1121 Q2229.92 26.1121 2235.23 32.0264 Q2240.57 37.9003 2240.57 48.0275 M2233.12 45.84 Q2233.04 39.7232 2229.68 36.0774 Q2226.36 32.4315 2220.85 32.4315 Q2214.61 32.4315 2210.84 35.9558 Q2207.11 39.4801 2206.55 45.8805 L2233.12 45.84 Z\" fill=\"#000000\" fill-rule=\"evenodd\" fill-opacity=\"1\" /><circle clip-path=\"url(#clip632)\" cx=\"309.067\" cy=\"1357.62\" r=\"14\" fill=\"#009af9\" fill-rule=\"evenodd\" fill-opacity=\"1\" stroke=\"#000000\" stroke-opacity=\"1\" stroke-width=\"3.2\"/>\n",
       "<circle clip-path=\"url(#clip632)\" cx=\"413.497\" cy=\"1361.27\" r=\"14\" fill=\"#009af9\" fill-rule=\"evenodd\" fill-opacity=\"1\" stroke=\"#000000\" stroke-opacity=\"1\" stroke-width=\"3.2\"/>\n",
       "<circle clip-path=\"url(#clip632)\" cx=\"517.926\" cy=\"1386.4\" r=\"14\" fill=\"#009af9\" fill-rule=\"evenodd\" fill-opacity=\"1\" stroke=\"#000000\" stroke-opacity=\"1\" stroke-width=\"3.2\"/>\n",
       "<circle clip-path=\"url(#clip632)\" cx=\"622.356\" cy=\"422.007\" r=\"14\" fill=\"#009af9\" fill-rule=\"evenodd\" fill-opacity=\"1\" stroke=\"#000000\" stroke-opacity=\"1\" stroke-width=\"3.2\"/>\n",
       "<circle clip-path=\"url(#clip632)\" cx=\"726.786\" cy=\"323.302\" r=\"14\" fill=\"#009af9\" fill-rule=\"evenodd\" fill-opacity=\"1\" stroke=\"#000000\" stroke-opacity=\"1\" stroke-width=\"3.2\"/>\n",
       "<circle clip-path=\"url(#clip632)\" cx=\"831.215\" cy=\"362.277\" r=\"14\" fill=\"#009af9\" fill-rule=\"evenodd\" fill-opacity=\"1\" stroke=\"#000000\" stroke-opacity=\"1\" stroke-width=\"3.2\"/>\n",
       "<circle clip-path=\"url(#clip632)\" cx=\"935.645\" cy=\"345.308\" r=\"14\" fill=\"#009af9\" fill-rule=\"evenodd\" fill-opacity=\"1\" stroke=\"#000000\" stroke-opacity=\"1\" stroke-width=\"3.2\"/>\n",
       "<circle clip-path=\"url(#clip632)\" cx=\"1040.07\" cy=\"369.938\" r=\"14\" fill=\"#009af9\" fill-rule=\"evenodd\" fill-opacity=\"1\" stroke=\"#000000\" stroke-opacity=\"1\" stroke-width=\"3.2\"/>\n",
       "<circle clip-path=\"url(#clip632)\" cx=\"1144.5\" cy=\"390.486\" r=\"14\" fill=\"#009af9\" fill-rule=\"evenodd\" fill-opacity=\"1\" stroke=\"#000000\" stroke-opacity=\"1\" stroke-width=\"3.2\"/>\n",
       "<circle clip-path=\"url(#clip632)\" cx=\"1248.93\" cy=\"410.924\" r=\"14\" fill=\"#009af9\" fill-rule=\"evenodd\" fill-opacity=\"1\" stroke=\"#000000\" stroke-opacity=\"1\" stroke-width=\"3.2\"/>\n",
       "<circle clip-path=\"url(#clip632)\" cx=\"1353.36\" cy=\"481.159\" r=\"14\" fill=\"#009af9\" fill-rule=\"evenodd\" fill-opacity=\"1\" stroke=\"#000000\" stroke-opacity=\"1\" stroke-width=\"3.2\"/>\n",
       "<circle clip-path=\"url(#clip632)\" cx=\"1457.79\" cy=\"560.578\" r=\"14\" fill=\"#009af9\" fill-rule=\"evenodd\" fill-opacity=\"1\" stroke=\"#000000\" stroke-opacity=\"1\" stroke-width=\"3.2\"/>\n",
       "<circle clip-path=\"url(#clip632)\" cx=\"1562.22\" cy=\"633.259\" r=\"14\" fill=\"#009af9\" fill-rule=\"evenodd\" fill-opacity=\"1\" stroke=\"#000000\" stroke-opacity=\"1\" stroke-width=\"3.2\"/>\n",
       "<circle clip-path=\"url(#clip632)\" cx=\"1666.65\" cy=\"668.821\" r=\"14\" fill=\"#009af9\" fill-rule=\"evenodd\" fill-opacity=\"1\" stroke=\"#000000\" stroke-opacity=\"1\" stroke-width=\"3.2\"/>\n",
       "<circle clip-path=\"url(#clip632)\" cx=\"1771.08\" cy=\"688.232\" r=\"14\" fill=\"#009af9\" fill-rule=\"evenodd\" fill-opacity=\"1\" stroke=\"#000000\" stroke-opacity=\"1\" stroke-width=\"3.2\"/>\n",
       "<circle clip-path=\"url(#clip632)\" cx=\"1875.51\" cy=\"735.675\" r=\"14\" fill=\"#009af9\" fill-rule=\"evenodd\" fill-opacity=\"1\" stroke=\"#000000\" stroke-opacity=\"1\" stroke-width=\"3.2\"/>\n",
       "<circle clip-path=\"url(#clip632)\" cx=\"1979.94\" cy=\"784.063\" r=\"14\" fill=\"#009af9\" fill-rule=\"evenodd\" fill-opacity=\"1\" stroke=\"#000000\" stroke-opacity=\"1\" stroke-width=\"3.2\"/>\n",
       "<circle clip-path=\"url(#clip632)\" cx=\"2084.37\" cy=\"809.016\" r=\"14\" fill=\"#009af9\" fill-rule=\"evenodd\" fill-opacity=\"1\" stroke=\"#000000\" stroke-opacity=\"1\" stroke-width=\"3.2\"/>\n",
       "<circle clip-path=\"url(#clip632)\" cx=\"2188.8\" cy=\"811.066\" r=\"14\" fill=\"#009af9\" fill-rule=\"evenodd\" fill-opacity=\"1\" stroke=\"#000000\" stroke-opacity=\"1\" stroke-width=\"3.2\"/>\n",
       "<circle clip-path=\"url(#clip632)\" cx=\"2293.23\" cy=\"819.201\" r=\"14\" fill=\"#009af9\" fill-rule=\"evenodd\" fill-opacity=\"1\" stroke=\"#000000\" stroke-opacity=\"1\" stroke-width=\"3.2\"/>\n",
       "<circle clip-path=\"url(#clip632)\" cx=\"309.067\" cy=\"191.925\" r=\"14\" fill=\"#e26f46\" fill-rule=\"evenodd\" fill-opacity=\"1\" stroke=\"#000000\" stroke-opacity=\"1\" stroke-width=\"3.2\"/>\n",
       "<circle clip-path=\"url(#clip632)\" cx=\"413.497\" cy=\"172.518\" r=\"14\" fill=\"#e26f46\" fill-rule=\"evenodd\" fill-opacity=\"1\" stroke=\"#000000\" stroke-opacity=\"1\" stroke-width=\"3.2\"/>\n",
       "<circle clip-path=\"url(#clip632)\" cx=\"517.926\" cy=\"160.256\" r=\"14\" fill=\"#e26f46\" fill-rule=\"evenodd\" fill-opacity=\"1\" stroke=\"#000000\" stroke-opacity=\"1\" stroke-width=\"3.2\"/>\n",
       "<circle clip-path=\"url(#clip632)\" cx=\"622.356\" cy=\"186.449\" r=\"14\" fill=\"#e26f46\" fill-rule=\"evenodd\" fill-opacity=\"1\" stroke=\"#000000\" stroke-opacity=\"1\" stroke-width=\"3.2\"/>\n",
       "<circle clip-path=\"url(#clip632)\" cx=\"726.786\" cy=\"206.02\" r=\"14\" fill=\"#e26f46\" fill-rule=\"evenodd\" fill-opacity=\"1\" stroke=\"#000000\" stroke-opacity=\"1\" stroke-width=\"3.2\"/>\n",
       "<circle clip-path=\"url(#clip632)\" cx=\"831.215\" cy=\"247.432\" r=\"14\" fill=\"#e26f46\" fill-rule=\"evenodd\" fill-opacity=\"1\" stroke=\"#000000\" stroke-opacity=\"1\" stroke-width=\"3.2\"/>\n",
       "<circle clip-path=\"url(#clip632)\" cx=\"935.645\" cy=\"232.691\" r=\"14\" fill=\"#e26f46\" fill-rule=\"evenodd\" fill-opacity=\"1\" stroke=\"#000000\" stroke-opacity=\"1\" stroke-width=\"3.2\"/>\n",
       "<circle clip-path=\"url(#clip632)\" cx=\"1040.07\" cy=\"242.735\" r=\"14\" fill=\"#e26f46\" fill-rule=\"evenodd\" fill-opacity=\"1\" stroke=\"#000000\" stroke-opacity=\"1\" stroke-width=\"3.2\"/>\n",
       "<circle clip-path=\"url(#clip632)\" cx=\"1144.5\" cy=\"245.596\" r=\"14\" fill=\"#e26f46\" fill-rule=\"evenodd\" fill-opacity=\"1\" stroke=\"#000000\" stroke-opacity=\"1\" stroke-width=\"3.2\"/>\n",
       "<circle clip-path=\"url(#clip632)\" cx=\"1248.93\" cy=\"256.233\" r=\"14\" fill=\"#e26f46\" fill-rule=\"evenodd\" fill-opacity=\"1\" stroke=\"#000000\" stroke-opacity=\"1\" stroke-width=\"3.2\"/>\n",
       "<circle clip-path=\"url(#clip632)\" cx=\"1353.36\" cy=\"267.582\" r=\"14\" fill=\"#e26f46\" fill-rule=\"evenodd\" fill-opacity=\"1\" stroke=\"#000000\" stroke-opacity=\"1\" stroke-width=\"3.2\"/>\n",
       "<circle clip-path=\"url(#clip632)\" cx=\"1457.79\" cy=\"288.412\" r=\"14\" fill=\"#e26f46\" fill-rule=\"evenodd\" fill-opacity=\"1\" stroke=\"#000000\" stroke-opacity=\"1\" stroke-width=\"3.2\"/>\n",
       "<circle clip-path=\"url(#clip632)\" cx=\"1562.22\" cy=\"301.16\" r=\"14\" fill=\"#e26f46\" fill-rule=\"evenodd\" fill-opacity=\"1\" stroke=\"#000000\" stroke-opacity=\"1\" stroke-width=\"3.2\"/>\n",
       "<circle clip-path=\"url(#clip632)\" cx=\"1666.65\" cy=\"304.289\" r=\"14\" fill=\"#e26f46\" fill-rule=\"evenodd\" fill-opacity=\"1\" stroke=\"#000000\" stroke-opacity=\"1\" stroke-width=\"3.2\"/>\n",
       "<circle clip-path=\"url(#clip632)\" cx=\"1771.08\" cy=\"322.765\" r=\"14\" fill=\"#e26f46\" fill-rule=\"evenodd\" fill-opacity=\"1\" stroke=\"#000000\" stroke-opacity=\"1\" stroke-width=\"3.2\"/>\n",
       "<circle clip-path=\"url(#clip632)\" cx=\"1875.51\" cy=\"329.024\" r=\"14\" fill=\"#e26f46\" fill-rule=\"evenodd\" fill-opacity=\"1\" stroke=\"#000000\" stroke-opacity=\"1\" stroke-width=\"3.2\"/>\n",
       "<circle clip-path=\"url(#clip632)\" cx=\"1979.94\" cy=\"344.071\" r=\"14\" fill=\"#e26f46\" fill-rule=\"evenodd\" fill-opacity=\"1\" stroke=\"#000000\" stroke-opacity=\"1\" stroke-width=\"3.2\"/>\n",
       "<circle clip-path=\"url(#clip632)\" cx=\"2084.37\" cy=\"338.771\" r=\"14\" fill=\"#e26f46\" fill-rule=\"evenodd\" fill-opacity=\"1\" stroke=\"#000000\" stroke-opacity=\"1\" stroke-width=\"3.2\"/>\n",
       "<circle clip-path=\"url(#clip632)\" cx=\"2188.8\" cy=\"338.732\" r=\"14\" fill=\"#e26f46\" fill-rule=\"evenodd\" fill-opacity=\"1\" stroke=\"#000000\" stroke-opacity=\"1\" stroke-width=\"3.2\"/>\n",
       "<circle clip-path=\"url(#clip632)\" cx=\"2293.23\" cy=\"352.858\" r=\"14\" fill=\"#e26f46\" fill-rule=\"evenodd\" fill-opacity=\"1\" stroke=\"#000000\" stroke-opacity=\"1\" stroke-width=\"3.2\"/>\n",
       "<path clip-path=\"url(#clip630)\" d=\"\n",
       "M1916.83 322.316 L2282.65 322.316 L2282.65 166.796 L1916.83 166.796  Z\n",
       "  \" fill=\"#ffffff\" fill-rule=\"evenodd\" fill-opacity=\"1\"/>\n",
       "<polyline clip-path=\"url(#clip630)\" style=\"stroke:#000000; stroke-linecap:butt; stroke-linejoin:round; stroke-width:4; stroke-opacity:1; fill:none\" points=\"\n",
       "  1916.83,322.316 2282.65,322.316 2282.65,166.796 1916.83,166.796 1916.83,322.316 \n",
       "  \"/>\n",
       "<circle clip-path=\"url(#clip630)\" cx=\"2010.31\" cy=\"218.636\" r=\"23\" fill=\"#009af9\" fill-rule=\"evenodd\" fill-opacity=\"1\" stroke=\"#000000\" stroke-opacity=\"1\" stroke-width=\"5.12\"/>\n",
       "<path clip-path=\"url(#clip630)\" d=\"M2119.62 205.962 L2113.27 223.161 L2125.98 223.161 L2119.62 205.962 M2116.98 201.356 L2122.28 201.356 L2135.45 235.916 L2130.59 235.916 L2127.44 227.05 L2111.86 227.05 L2108.71 235.916 L2103.78 235.916 L2116.98 201.356 Z\" fill=\"#000000\" fill-rule=\"evenodd\" fill-opacity=\"1\" /><path clip-path=\"url(#clip630)\" d=\"M2139.96 201.356 L2144.66 201.356 L2144.66 222.351 Q2144.66 227.907 2146.68 230.36 Q2148.69 232.791 2153.2 232.791 Q2157.69 232.791 2159.71 230.36 Q2161.72 227.907 2161.72 222.351 L2161.72 201.356 L2166.42 201.356 L2166.42 222.93 Q2166.42 229.689 2163.06 233.138 Q2159.73 236.587 2153.2 236.587 Q2146.65 236.587 2143.3 233.138 Q2139.96 229.689 2139.96 222.93 L2139.96 201.356 Z\" fill=\"#000000\" fill-rule=\"evenodd\" fill-opacity=\"1\" /><path clip-path=\"url(#clip630)\" d=\"M2175.19 201.356 L2181.49 201.356 L2196.81 230.268 L2196.81 201.356 L2201.35 201.356 L2201.35 235.916 L2195.05 235.916 L2179.73 207.004 L2179.73 235.916 L2175.19 235.916 L2175.19 201.356 Z\" fill=\"#000000\" fill-rule=\"evenodd\" fill-opacity=\"1\" /><circle clip-path=\"url(#clip630)\" cx=\"2010.31\" cy=\"270.476\" r=\"23\" fill=\"#e26f46\" fill-rule=\"evenodd\" fill-opacity=\"1\" stroke=\"#000000\" stroke-opacity=\"1\" stroke-width=\"5.12\"/>\n",
       "<path clip-path=\"url(#clip630)\" d=\"M2119.62 257.802 L2113.27 275.001 L2125.98 275.001 L2119.62 257.802 M2116.98 253.196 L2122.28 253.196 L2135.45 287.756 L2130.59 287.756 L2127.44 278.89 L2111.86 278.89 L2108.71 287.756 L2103.78 287.756 L2116.98 253.196 Z\" fill=\"#000000\" fill-rule=\"evenodd\" fill-opacity=\"1\" /><path clip-path=\"url(#clip630)\" d=\"M2139.96 253.196 L2144.66 253.196 L2144.66 274.191 Q2144.66 279.747 2146.68 282.2 Q2148.69 284.631 2153.2 284.631 Q2157.69 284.631 2159.71 282.2 Q2161.72 279.747 2161.72 274.191 L2161.72 253.196 L2166.42 253.196 L2166.42 274.77 Q2166.42 281.529 2163.06 284.978 Q2159.73 288.427 2153.2 288.427 Q2146.65 288.427 2143.3 284.978 Q2139.96 281.529 2139.96 274.77 L2139.96 253.196 Z\" fill=\"#000000\" fill-rule=\"evenodd\" fill-opacity=\"1\" /><path clip-path=\"url(#clip630)\" d=\"M2191.54 262.594 L2191.54 266.622 Q2189.73 265.696 2187.79 265.233 Q2185.84 264.77 2183.76 264.77 Q2180.59 264.77 2178.99 265.742 Q2177.42 266.714 2177.42 268.659 Q2177.42 270.14 2178.55 270.997 Q2179.68 271.83 2183.11 272.594 L2184.57 272.918 Q2189.11 273.89 2191 275.672 Q2192.92 277.432 2192.92 280.603 Q2192.92 284.214 2190.05 286.321 Q2187.21 288.427 2182.21 288.427 Q2180.12 288.427 2177.86 288.01 Q2175.61 287.617 2173.11 286.807 L2173.11 282.409 Q2175.47 283.635 2177.76 284.26 Q2180.05 284.862 2182.3 284.862 Q2185.31 284.862 2186.93 283.844 Q2188.55 282.802 2188.55 280.927 Q2188.55 279.191 2187.37 278.265 Q2186.21 277.339 2182.25 276.483 L2180.77 276.135 Q2176.81 275.302 2175.05 273.589 Q2173.3 271.853 2173.3 268.844 Q2173.3 265.186 2175.89 263.196 Q2178.48 261.205 2183.25 261.205 Q2185.61 261.205 2187.69 261.552 Q2189.78 261.899 2191.54 262.594 Z\" fill=\"#000000\" fill-rule=\"evenodd\" fill-opacity=\"1\" /><path clip-path=\"url(#clip630)\" d=\"M2199.71 261.83 L2203.97 261.83 L2203.97 287.756 L2199.71 287.756 L2199.71 261.83 M2199.71 251.737 L2203.97 251.737 L2203.97 257.131 L2199.71 257.131 L2199.71 251.737 Z\" fill=\"#000000\" fill-rule=\"evenodd\" fill-opacity=\"1\" /><path clip-path=\"url(#clip630)\" d=\"M2231.49 274.816 Q2231.49 270.117 2229.54 267.455 Q2227.62 264.77 2224.24 264.77 Q2220.86 264.77 2218.92 267.455 Q2217 270.117 2217 274.816 Q2217 279.515 2218.92 282.2 Q2220.86 284.862 2224.24 284.862 Q2227.62 284.862 2229.54 282.2 Q2231.49 279.515 2231.49 274.816 M2217 265.765 Q2218.34 263.45 2220.38 262.339 Q2222.44 261.205 2225.29 261.205 Q2230.01 261.205 2232.95 264.955 Q2235.91 268.705 2235.91 274.816 Q2235.91 280.927 2232.95 284.677 Q2230.01 288.427 2225.29 288.427 Q2222.44 288.427 2220.38 287.316 Q2218.34 286.182 2217 283.867 L2217 287.756 L2212.72 287.756 L2212.72 251.737 L2217 251.737 L2217 265.765 Z\" fill=\"#000000\" fill-rule=\"evenodd\" fill-opacity=\"1\" /></svg>\n"
      ]
     },
     "execution_count": 17,
     "metadata": {},
     "output_type": "execute_result"
    }
   ],
   "source": [
    "#AUROC curves\n",
    "\n",
    "T = Int(T)\n",
    "AU_curve=zeros(T)\n",
    "AU_fast=zeros(T)\n",
    "AU_sib=zeros(T)\n",
    "for t = 1:T\n",
    "    cau_risk=zeros(N)\n",
    "    fast_risk=zeros(N)\n",
    "    sib_risk = zeros(N)\n",
    "    for i=1:N\n",
    "       cau_risk[i] = marginal(i,t,statscau)\n",
    "       #fast_risk[i] = marginal(i,t,statscau_)\n",
    "       sib_risk[i] = p_sib[i,Int(round(t/dt))] \n",
    "    end\n",
    "    xt = xtrue .< t\n",
    "    AU_curve[t] = AUROC(ROC(xt, cau_risk))\n",
    "    #AU_fast[t]  = AUROC(ROC(xt, fast_risk))\n",
    "    AU_sib[t] = AUROC(ROC(xt, sib_risk))\n",
    "end\n",
    "\n",
    "scatter(LinRange(1,T,T),AU_curve, label=\"AUN\", title=\"Causality VS Exact AUROC in function of time\")\n",
    "scatter!(LinRange(1,T,T), AU_sib, label=\"AUsib\")\n",
    "#plot!(LinRange(1,T,T), AU_fast, label=\"AUN2\")\n",
    "xlabel!(\"t\")\n",
    "ylabel!(\"AUROC\")"
   ]
  }
 ],
 "metadata": {
  "kernelspec": {
   "display_name": "Julia 1.7.0-rc2",
   "language": "julia",
   "name": "julia-1.7"
  },
  "language_info": {
   "file_extension": ".jl",
   "mimetype": "application/julia",
   "name": "julia",
   "version": "1.7.0"
  }
 },
 "nbformat": 4,
 "nbformat_minor": 4
}
