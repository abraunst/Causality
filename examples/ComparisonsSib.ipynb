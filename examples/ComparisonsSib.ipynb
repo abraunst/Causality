{
 "cells": [
  {
   "cell_type": "markdown",
   "metadata": {},
   "source": [
    "Continuous-time model\n",
    "---\n",
    "\n",
    "Let's order the infection times $t_{\\pi_{1}}<t_{\\pi_{2}}<\\dots<t_{\\pi_{N}}$\n",
    ". Let $\\lambda_{i}\\left(t\\right)$ be a time-dependent transmission\n",
    "rate and $L_{i}\\left(t\\right)=\\int_{0}^{t}\\lambda_{ij}\\left(s\\right)ds$\n",
    "its primitive. Then $\\rho_{i}\\left(t_i; t_j\\right)=\\lambda_{i}\\left(t_i\\right)e^{-\\int_{t_j}^{t_i}\\lambda_{i}\\left(s\\right)ds} = \\lambda_{i}\\left(t_j\\right)e^{L_{i}(t_j) - L_{i}(t_i) }$\n",
    "will be the transmission ``delay'' density distribution. "
   ]
  },
  {
   "cell_type": "markdown",
   "metadata": {},
   "source": [
    "\\begin{align*}p\\left(t_{1},\\dots,t_{N}\\right) & =\\prod_{i=1}^{N}\\lim_{ds\\to0^{+}}\\frac{\\prod_{j\\in\\partial i:t_{j}<t_{i}}e^{L_{i}(t_{j})-L_{i}(t_{i}-ds)}-\\prod_{j\\in\\partial i:t_{j}<t_{i}}e^{L_{i}(t_{j})-L_{i}(t_{i})}}{ds}\\\\\n",
    " & =\\prod_{i=1}^{N}\\frac{d}{ds}_{|s=0}\\prod_{j\\in\\partial i:t_{j}<t_{i}}e^{L_{i}(t_{j})-L_{i}(t_{i}-ds)}\\\\\n",
    " & =\\prod_{i=1}^{N}\\left\\{ \\left(\\prod_{j\\in\\partial i:t_{j}<t_{i}}e^{L_{i}(t_{j})-L_{i}(t_{i})}\\right)\\sum_{j\\in\\partial i:t_{j}<t_{i}}\\lambda_{i}\\left(t_{i}\\right)\\right\\} \\\\\n",
    "\\mathcal{L}_{0}\\left(t_{1},\\dots,t_{N}\\right) & =\\log p\\left(t_{1},\\dots,t_{N}\\right)\\\\\n",
    " & =-\\sum_{i=1}^{N}\\left\\{ \\sum_{j\\in\\partial i:t_{j}<t_{i}}\\left(L_{i}(t_{i})-L_{i}(t_{j})\\right)-\\log\\left(\\sum_{j\\in\\partial i:t_{j}<t_{i}}\\lambda_{i}\\left(t_{i}\\right)\\right)\\right\\} \n",
    "\\end{align*}"
   ]
  },
  {
   "cell_type": "markdown",
   "metadata": {},
   "source": [
    "Note that $$\\int_{t_j}^{t_i} \\rho_{i}(s; t_j) ds = 1-e^{-\\left(L_{i}(t_i) - L_{i}(t_j)\\right)}$$ so $$\\lambda_{i}(t) = -\\frac{d}{dt}\\log \\left(1-\\int_{t_j}^{t_i} \\rho_{i}(s) ds\\right)$$"
   ]
  },
  {
   "cell_type": "markdown",
   "metadata": {},
   "source": [
    "\n",
    "\\begin{align}\\lambda(t) & =ae^{-\\left(\\frac{t-b}{c}\\right)^{2}}\\\\\n",
    "\\frac{x-b}{c} & =\\frac{y}{\\sqrt{2}}\\\\\n",
    "dx & =\\frac{c}{\\sqrt{2}}dy\\\\\n",
    "L(t)=\\int_{0}^{t}ae^{-\\left(\\frac{x-b}{c}\\right)^{2}}dx & = ac\\int_{\\frac{0-b}{c}}^{\\frac{t-b}{c}}e^{-y^{2}}dy\\\\\n",
    " & =ac\\sqrt{\\pi}\\frac{1}{\\sqrt{\\pi}}\\int_{-\\frac{b}{c}}^{\\frac{t-b}{c}}e^{-y^{2}}dy\\\\\n",
    " & =\\frac{ac\\sqrt{\\pi}}{2}\\left(\\mathrm{erfc}\\left(-\\frac{t-b}{c}\\right)-\\mathrm{erfc}\\left(\\frac{b}{c}\\right)\\right)\\\\\n",
    "\\rho_{i}\\left(t_{i};t_{j}\\right) & =\\lambda_{i}\\left(t_{i}\\right)e^{-\\int_{t_{j}}^{t_{i}}\\lambda_{i}\\left(s\\right)ds}=\\lambda_{i}\\left(t_{i}\\right)e^{L_{i}(t_{j})-L_{i}(t_{i})}\\\\\n",
    "\\frac{d}{ds}-e^{L_{i}(t_{j})-L_{i}(s)} & =\\lambda\\left(s\\right)e^{L_{i}(t_{j})-L_{i}(s)}=\\rho_{i}\\left(s;t_{j}\\right)\\\\\n",
    "\\end{align}"
   ]
  },
  {
   "cell_type": "markdown",
   "metadata": {},
   "source": [
    "Sampling \n",
    "---\n",
    "\\begin{align}\n",
    "\\int_{t_{j}}^{t}\\rho(s;t_{j})ds & =1-e^{L_{i}(t_{j})-L_{i}(t)}=1-r\\sim U(0,1)\\\\\n",
    "e^{L_{i}(t_{j})-L_{i}(t)} & =r\\\\\n",
    "L_{i}(t) & =L_{i}\\left(t_{j}\\right)-\\log(r)\\\\\n",
    "\\mathrm{erfc}\\left(-\\frac{t-b}{c}\\right) & =\\frac{2}{ac\\sqrt{\\pi}}\\left(L_{i}\\left(t_{j}\\right)-\\log(r)\\right)+\\mathrm{erfc}\\left(\\frac{b}{c}\\right)\\\\\n",
    "t & =-c\\,\\mathrm{ierfc}\\left(\\frac{2}{ac\\sqrt{\\pi}}\\left(L_{i}\\left(t_{j}\\right)-\\log(r)\\right)+\\mathrm{erfc}\\left(\\frac{b}{c}\\right)\\right)+b\n",
    "\\end{align}"
   ]
  },
  {
   "cell_type": "code",
   "execution_count": 3,
   "metadata": {},
   "outputs": [
    {
     "data": {
      "text/plain": [
       "sibyl (generic function with 1 method)"
      ]
     },
     "execution_count": 3,
     "metadata": {},
     "output_type": "execute_result"
    }
   ],
   "source": [
    "using PyCall\n",
    "@pyimport sib\n",
    "function sibyl(N, T_cont, Λ, O, γ, λ ; dt=1/5, maxit = 400, tol = 1e-14)\n",
    "    \n",
    "    T = Int(round(T_cont / dt))\n",
    "    contacts = [(i-1,j-1,t, λ * dt) for t in 1:T for (i,j,v) in zip(findnz(Λ.A)...)];\n",
    "    obs = [[(i,-1,t) for t=1:T for i=0:N-1];\n",
    "           [(i-1,s,Int(round(t/dt))) for (i,s,t,p) in O]]\n",
    "    sort!(obs, lt=((i1,s1,t1),(i2,s2,t2))->(t1<t2))\n",
    "    prob_sus = 0.5\n",
    "    prob_seed=γ\n",
    "    pseed = prob_seed / (2 - prob_seed)\n",
    "    psus = prob_sus * (1 - pseed)\n",
    "    params = sib.Params(prob_r=sib.Exponential(mu=0), pseed=pseed, psus=psus,pautoinf=1e-10,fp_rate=1e-10,fn_rate=1e-10)\n",
    "    f = sib.FactorGraph(contacts=contacts, observations=obs, params=params)\n",
    "    sib.iterate(f, maxit=maxit,tol=tol)\n",
    "    sib.iterate(f, maxit=maxit, damping=0.5, tol=tol)\n",
    "    sib.iterate(f, maxit=maxit, damping=0.9, tol=tol)\n",
    "    p_sib=[collect(n.bt) for n in f.nodes]\n",
    "    m_sib = zeros(N, T)\n",
    "    for i=1:N\n",
    "        m_sib[i,1] = p_sib[i][1] \n",
    "        for t=2:T\n",
    "            m_sib[i,t] = m_sib[i,t-1] + p_sib[i][t]\n",
    "        end\n",
    "    end \n",
    "    return m_sib\n",
    "end\n"
   ]
  },
  {
   "cell_type": "code",
   "execution_count": 58,
   "metadata": {},
   "outputs": [
    {
     "data": {
      "text/plain": [
       "200×200 SparseMatrixCSC{Irrational{:π}, Int64} with 1626 stored entries:\n",
       "⠤⠃⠠⡀⠀⡄⠀⠆⠐⠐⠐⠠⢅⠑⠆⢨⢀⠁⠴⡀⠅⠔⣄⠀⠠⠈⠔⠡⠀⠀⠀⡴⡂⠍⠠⠠⠀⠀⣊⠐\n",
       "⠀⠢⡊⠈⠀⠐⢤⠤⠐⠓⠥⡌⠠⢈⠐⠜⠢⠀⠃⠀⠌⠆⠄⠈⠈⡔⡁⠊⠔⡄⠣⠆⡄⠀⠙⠤⠂⢴⠠⢄\n",
       "⠀⠤⢀⠀⡠⠊⢌⠼⠖⢀⢸⠂⠨⠀⢀⠡⡡⢺⠠⠄⢌⠈⠄⡁⠄⠒⠆⡠⡥⢈⡡⠅⠴⠂⠀⠈⠀⢀⠤⡁\n",
       "⠠⠄⠀⡗⣂⡕⢅⠑⡲⠁⣸⠂⠨⠠⢄⠩⠺⢀⠠⠑⢅⢀⠐⡀⠄⠒⠀⠀⡈⠒⠈⡱⢗⠀⡀⣂⠊⡐⠬⠃\n",
       "⢐⠀⢴⠀⠘⢁⠜⠊⢀⢐⠝⠢⠀⢐⣲⠠⡀⡪⢐⢔⠠⠀⡐⡠⠠⠒⡁⡀⠤⢀⠀⠔⠘⢂⠄⠦⠂⢐⠂⠀\n",
       "⠐⡀⡁⠧⠲⠒⠲⠚⠳⡁⡀⠈⡀⠐⢈⠒⢠⢄⠂⢀⢊⡄⡄⣘⢈⠤⡀⠄⠁⠄⡀⡁⡶⢄⣋⠉⡀⠱⠒⠂\n",
       "⢅⠑⡀⢂⠂⠂⠂⡂⢀⢀⢀⠈⠤⠃⡀⠖⠐⠀⣀⠂⠇⠁⡀⠰⡚⡀⡀⠀⣠⠀⠑⢂⠂⠅⠄⢐⢰⠆⡒⠂\n",
       "⡈⣁⣐⠄⠄⡐⡄⡑⠘⡚⢢⠐⢠⠌⠀⠀⢂⠙⡈⡀⡐⡈⡁⠢⠕⠀⠈⠂⢂⠂⠧⡊⡀⡐⢒⠲⠠⠔⣱⠌\n",
       "⠄⠐⠈⠂⣡⣊⠚⢂⡠⡨⠀⢖⠐⠀⣌⠐⢀⠐⠀⠢⢂⣆⠆⡄⢐⠮⣰⠅⠀⠪⡃⡂⢢⡄⡠⢀⠀⠘⠐⠁\n",
       "⠐⠣⠉⠀⠀⠆⢄⠂⢐⢔⠈⢀⠠⠘⠂⠨⠠⡀⢊⠐⠇⠁⣢⡀⠂⡂⡁⢐⡢⣂⠀⢕⠄⢁⢐⡈⡠⢐⠢⠀\n",
       "⢁⠅⠢⠅⡂⠑⠁⢑⠀⠂⠊⠴⠍⠁⡐⠨⠨⢴⠍⠁⢀⠐⠁⡂⠰⠤⢡⠈⠂⠀⠄⡆⠁⠁⠢⢲⠀⠦⠈⢃\n",
       "⠀⠙⡀⠁⠄⠡⠐⠠⠐⡨⣀⢩⢀⡈⠡⡈⠈⠥⠈⠺⠡⠠⠄⠁⣁⠑⠥⠄⢁⠕⠀⠞⠁⠨⣤⠢⢇⡀⠡⠄\n",
       "⡀⠂⢂⠤⢠⠁⢠⠁⢠⠂⠂⡔⠚⠨⠑⠁⡰⡔⠨⠠⠐⡆⢅⠘⠄⡡⠀⡀⠭⠄⠊⢊⢤⢄⢺⡐⡨⠡⠉⠀\n",
       "⠔⡁⡡⠈⠈⡡⠀⠀⠁⠨⠀⠌⠀⠈⠢⠀⠔⠞⢁⢈⡁⠒⠁⠇⠀⠠⠀⠄⡄⡄⡆⠀⠨⠨⢠⠀⢁⢠⠠⠐\n",
       "⠀⠀⠐⠥⡁⢋⢢⠈⠀⢃⠁⠄⠀⠚⠨⠐⡠⡀⠨⢪⠈⠀⢅⠔⠃⠇⠀⠭⠎⠁⠀⢁⠄⠠⠻⡙⠘⠩⠠⡀\n",
       "⢀⡤⠩⠆⠅⠎⢆⡠⢀⠄⠄⠨⠱⢀⡩⠣⠩⠨⢄⢄⠠⠥⣠⠄⡪⢀⠈⠉⠄⢀⠊⠀⠆⠀⠤⡤⡀⠄⡶⠂\n",
       "⡌⠌⠀⠉⠰⠃⠙⠑⠲⢀⠘⢏⠌⠄⢀⠨⠈⠶⠄⢁⠅⠀⡁⡀⠀⢗⡂⡂⠀⡁⠈⠁⠠⠂⢐⠀⡁⠀⢩⠈\n",
       "⠀⡂⠓⡄⡀⠀⠠⢨⠠⡅⡏⠘⢀⢁⢸⡐⠀⢊⡐⠰⢨⣂⠠⡛⢚⠲⠀⠒⣟⠢⠀⡧⠐⠐⣄⡹⢔⡄⠀⠀\n",
       "⠀⠀⢈⣄⠀⢀⢊⠠⢈⢀⢄⡈⠰⠖⢀⠆⣀⠀⢀⢊⠠⡄⠉⠱⠆⡊⠁⣐⡖⡀⠀⠌⠁⠈⠐⠵⠠⠂⠀⢀\n",
       "⢊⠘⠀⢆⠄⠣⠦⠃⠈⠀⠸⠀⠸⠈⡑⠞⠔⠀⠈⠂⠦⢀⠁⠆⠃⠀⢀⠂⠀⠢⠸⠋⡃⠒⠀⠀⠀⢀⠪⠂"
      ]
     },
     "execution_count": 58,
     "metadata": {},
     "output_type": "execute_result"
    }
   ],
   "source": [
    "using SparseArrays, LinearAlgebra\n",
    "using Causality\n",
    "T, N = 20.0, 200\n",
    "#G = Causality.makeBarabasi(N,k=2)\n",
    "G = Causality.makeProximity(N,3/N)\n",
    "G.A "
   ]
  },
  {
   "cell_type": "code",
   "execution_count": 33,
   "metadata": {},
   "outputs": [
    {
     "data": {
      "text/plain": [
       "getpar (generic function with 1 method)"
      ]
     },
     "execution_count": 33,
     "metadata": {},
     "output_type": "execute_result"
    }
   ],
   "source": [
    "getpar(p,a1,b1,c1,a2,b2,c2) = [fill(p, 1, N);\n",
    "     fill(a1, 1, N); fill(b1, 1, N); fill(c1, 1, N);\n",
    "     fill(a2,   1, N); fill(b2, 1, N); fill(c2, 1, N)]"
   ]
  },
  {
   "cell_type": "code",
   "execution_count": 60,
   "metadata": {},
   "outputs": [
    {
     "data": {
      "text/plain": [
       "IndividualSI{GaussianRate, GaussianRate}"
      ]
     },
     "execution_count": 60,
     "metadata": {},
     "output_type": "execute_result"
    }
   ],
   "source": [
    "ε = 1e-10\n",
    "λ = 0.1\n",
    "θp = getpar(1/N, ε, T/2, 1/ε,   1.0, T/2, 1/ε)\n",
    "θmin = getpar(ε  , ε  ,  -T,   ε,   ε,  -T, ε  )\n",
    "θmax = getpar(1-ε, 1/ε,  2T, 1/ε, 1/ε,  2T, 1/ε)\n",
    "const I = IndividualSI{GaussianRate,GaussianRate}"
   ]
  },
  {
   "cell_type": "code",
   "execution_count": 61,
   "metadata": {},
   "outputs": [],
   "source": [
    "Mp = StochasticModel(I,T, θp, G, ConstantRate(λ));\n",
    "sample! = Sampler(Mp);"
   ]
  },
  {
   "cell_type": "code",
   "execution_count": 62,
   "metadata": {},
   "outputs": [],
   "source": [
    "ε = 2e-3\n",
    "θp2 = getpar(1/N, ε, T/2, 1/ε,   1.0, T/2, 1/ε)\n",
    "Mp2 = StochasticModel(I, T, θp2, G, ConstantRate(λ));"
   ]
  },
  {
   "cell_type": "code",
   "execution_count": 63,
   "metadata": {},
   "outputs": [],
   "source": [
    "θ = getpar(1e-1  , 1e-1  ,  T/2,   2*T,   1,  T/2, 3*T  )\n",
    "M = StochasticModel(I, T, θ, G, ConstantRate(λ));"
   ]
  },
  {
   "cell_type": "code",
   "execution_count": 64,
   "metadata": {},
   "outputs": [
    {
     "name": "stdout",
     "output_type": "stream",
     "text": [
      "96\n"
     ]
    },
    {
     "data": {
      "text/plain": [
       "3-element Vector{Tuple{Int64, Bool, Float64, Float64}}:\n",
       " (2, 1, 18.659147048957117, 0.001)\n",
       " (6, 1, 15.685717727147118, 0.001)\n",
       " (9, 1, 16.259994751871115, 0.001)"
      ]
     },
     "execution_count": 64,
     "metadata": {},
     "output_type": "execute_result"
    }
   ],
   "source": [
    "xtrue = zeros(N)\n",
    "infec=0\n",
    "while infec==0\n",
    "    sample!(xtrue)\n",
    "    infec = sum(xtrue .< T)\n",
    "end\n",
    "nobs = Int(round(N/20))\n",
    "p = 1e-3\n",
    "O = [(ti = T*(1+rand())/2; (i,xtrue[i] < ti,ti,p)) for i=1:nobs]\n",
    "println(infec)\n",
    "[o for o in O if o[2] == 1]"
   ]
  },
  {
   "cell_type": "code",
   "execution_count": 65,
   "metadata": {},
   "outputs": [],
   "source": [
    "θ = getpar(1/N  , 1/N  ,  T/2,   2*T,   1,  T/2, 3*T  )\n",
    "M = StochasticModel(I, T, θ, G, ConstantRate(λ));\n",
    "#positive = [o[1] for o in O if o[2]==1]\n",
    "#negative = [o[1] for o in O if o[2]==0]\n",
    "#M.θ[[1,2,5],positive] .= 1/2\n",
    "#M.θ[[1,2,5],negative] .= 1e-10;"
   ]
  },
  {
   "cell_type": "code",
   "execution_count": 66,
   "metadata": {},
   "outputs": [
    {
     "name": "stderr",
     "output_type": "stream",
     "text": [
      "┌ Warning: ProgressMeter by default refresh meters with additional information in IJulia via `IJulia.clear_output`, which clears all outputs in the cell. \n",
      "│  - To prevent this behaviour, do `ProgressMeter.ijulia_behavior(:append)`. \n",
      "│  - To disable this warning message, do `ProgressMeter.ijulia_behavior(:clear)`.\n",
      "└ @ ProgressMeter /home/students/mmariani/.julia/packages/ProgressMeter/Vf8un/src/ProgressMeter.jl:620\n",
      "\u001b[32mProgress: 100%|█████████████████████████████████████████| Time: 0:00:32\u001b[39m\n",
      "\u001b[34m  F:  4.482723338830619\u001b[39m\n"
     ]
    },
    {
     "name": "stdout",
     "output_type": "stream",
     "text": [
      "98.57061195373535\n"
     ]
    }
   ],
   "source": [
    "a=time()\n",
    "O = [(o[1],o[2],o[3],1e-3) for o in O]\n",
    "descend!(Mp2, O; M=M, numsamples=4000, numiters=100, \n",
    "         θmin=θmin, θmax=θmax, descender=SignDescender(0.1));\n",
    "O = [(o[1],o[2],o[3],1e-6) for o in O]\n",
    "descend!(Mp2, O; M=M, numsamples=4000, numiters=50, \n",
    "         θmin=θmin, θmax=θmax, descender=SignDescender(0.03));\n",
    "b=time()\n",
    "println(b-a)"
   ]
  },
  {
   "cell_type": "code",
   "execution_count": 67,
   "metadata": {},
   "outputs": [
    {
     "name": "stderr",
     "output_type": "stream",
     "text": [
      "\u001b[32mProgress: 100%|█████████████████████████████████████████| Time: 0:00:01\u001b[39m\n"
     ]
    }
   ],
   "source": [
    "statscau = prior(M);"
   ]
  },
  {
   "cell_type": "raw",
   "metadata": {},
   "source": [
    "sample!_ = Sampler(M_)\n",
    "statscau_ = prior(M_);"
   ]
  },
  {
   "cell_type": "code",
   "execution_count": 68,
   "metadata": {},
   "outputs": [
    {
     "name": "stdout",
     "output_type": "stream",
     "text": [
      "\n",
      "sib.iterate(damp=0.0): 59/60 6.721e-04/1e-07      \n",
      "sib.iterate(damp=0.5): 59/60 1.304e-04/1e-07      \n",
      "198.21659207344055.9): 59/60 6.871e-05/1e-07      \n"
     ]
    }
   ],
   "source": [
    "a=time()\n",
    "dt = 1/5\n",
    "p_sib = sibyl(N, T, G, O, 1/N, λ; dt=dt, maxit = 60, tol = 1e-7);\n",
    "b=time()\n",
    "println(b-a)"
   ]
  },
  {
   "cell_type": "markdown",
   "metadata": {},
   "source": [
    "## Marginals and ROC curve"
   ]
  },
  {
   "cell_type": "code",
   "execution_count": 69,
   "metadata": {},
   "outputs": [
    {
     "data": {
      "text/plain": [
       "AUROC (generic function with 1 method)"
      ]
     },
     "execution_count": 69,
     "metadata": {},
     "output_type": "execute_result"
    }
   ],
   "source": [
    "function marginal(i, t, stats)\n",
    "    numsamp = size(stats,1)\n",
    "    sum(stats[:,i] .< t)/numsamp\n",
    "end\n",
    "\n",
    "function tpr(xtrue, rank) \n",
    "    cumsum(xtrue[rank]) ./( cumsum(xtrue[rank])[end])\n",
    "end\n",
    "\n",
    "function fpr(xtrue, rank) \n",
    "    N = size(rank,1)\n",
    "    return (range(1,N,length=N) .- cumsum(xtrue[rank])) ./ (range(1,N,length=N) .- cumsum(xtrue[rank]) )[end]\n",
    "end\n",
    "\n",
    "function ROC(xtrue, p)\n",
    "    N = size(xtrue,1)\n",
    "    rank = sortperm(p, rev=true)\n",
    "    \n",
    "    return fpr(xtrue, rank) , tpr(xtrue, rank)\n",
    "end\n",
    "\n",
    "function AUROC(ROC)\n",
    "    N = size(ROC[1],1) \n",
    "    AU = 0\n",
    "    for t = 1:N-1\n",
    "        AU += ROC[2][t] * (ROC[1][t+1] - ROC[1][t])\n",
    "    end\n",
    "    return AU\n",
    "end"
   ]
  },
  {
   "cell_type": "code",
   "execution_count": 70,
   "metadata": {},
   "outputs": [
    {
     "data": {
      "text/plain": [
       "10-element Vector{Tuple{Int64, Bool, Float64, Float64}}:\n",
       " (1, 0, 13.644260936161796, 1.0e-6)\n",
       " (2, 1, 18.659147048957117, 1.0e-6)\n",
       " (3, 0, 12.189304679594525, 1.0e-6)\n",
       " (4, 0, 11.02673340144838, 1.0e-6)\n",
       " (5, 0, 10.506438249988438, 1.0e-6)\n",
       " (6, 1, 15.685717727147118, 1.0e-6)\n",
       " (7, 0, 12.661495232288233, 1.0e-6)\n",
       " (8, 0, 11.739944734308947, 1.0e-6)\n",
       " (9, 1, 16.259994751871115, 1.0e-6)\n",
       " (10, 0, 10.96997783569812, 1.0e-6)"
      ]
     },
     "execution_count": 70,
     "metadata": {},
     "output_type": "execute_result"
    }
   ],
   "source": [
    "O"
   ]
  },
  {
   "cell_type": "code",
   "execution_count": 71,
   "metadata": {},
   "outputs": [
    {
     "data": {
      "image/svg+xml": [
       "<?xml version=\"1.0\" encoding=\"utf-8\"?>\n",
       "<svg xmlns=\"http://www.w3.org/2000/svg\" xmlns:xlink=\"http://www.w3.org/1999/xlink\" width=\"600\" height=\"400\" viewBox=\"0 0 2400 1600\">\n",
       "<defs>\n",
       "  <clipPath id=\"clip660\">\n",
       "    <rect x=\"0\" y=\"0\" width=\"2400\" height=\"1600\"/>\n",
       "  </clipPath>\n",
       "</defs>\n",
       "<path clip-path=\"url(#clip660)\" d=\"\n",
       "M0 1600 L2400 1600 L2400 0 L0 0  Z\n",
       "  \" fill=\"#ffffff\" fill-rule=\"evenodd\" fill-opacity=\"1\"/>\n",
       "<defs>\n",
       "  <clipPath id=\"clip661\">\n",
       "    <rect x=\"480\" y=\"0\" width=\"1681\" height=\"1600\"/>\n",
       "  </clipPath>\n",
       "</defs>\n",
       "<path clip-path=\"url(#clip660)\" d=\"\n",
       "M186.274 1486.45 L2352.76 1486.45 L2352.76 47.2441 L186.274 47.2441  Z\n",
       "  \" fill=\"#ffffff\" fill-rule=\"evenodd\" fill-opacity=\"1\"/>\n",
       "<defs>\n",
       "  <clipPath id=\"clip662\">\n",
       "    <rect x=\"186\" y=\"47\" width=\"2167\" height=\"1440\"/>\n",
       "  </clipPath>\n",
       "</defs>\n",
       "<polyline clip-path=\"url(#clip662)\" style=\"stroke:#000000; stroke-linecap:butt; stroke-linejoin:round; stroke-width:2; stroke-opacity:0.1; fill:none\" points=\"\n",
       "  677.874,1486.45 677.874,47.2441 \n",
       "  \"/>\n",
       "<polyline clip-path=\"url(#clip662)\" style=\"stroke:#000000; stroke-linecap:butt; stroke-linejoin:round; stroke-width:2; stroke-opacity:0.1; fill:none\" points=\"\n",
       "  1215.73,1486.45 1215.73,47.2441 \n",
       "  \"/>\n",
       "<polyline clip-path=\"url(#clip662)\" style=\"stroke:#000000; stroke-linecap:butt; stroke-linejoin:round; stroke-width:2; stroke-opacity:0.1; fill:none\" points=\"\n",
       "  1753.58,1486.45 1753.58,47.2441 \n",
       "  \"/>\n",
       "<polyline clip-path=\"url(#clip662)\" style=\"stroke:#000000; stroke-linecap:butt; stroke-linejoin:round; stroke-width:2; stroke-opacity:0.1; fill:none\" points=\"\n",
       "  2291.44,1486.45 2291.44,47.2441 \n",
       "  \"/>\n",
       "<polyline clip-path=\"url(#clip660)\" style=\"stroke:#000000; stroke-linecap:butt; stroke-linejoin:round; stroke-width:4; stroke-opacity:1; fill:none\" points=\"\n",
       "  186.274,1486.45 2352.76,1486.45 \n",
       "  \"/>\n",
       "<polyline clip-path=\"url(#clip660)\" style=\"stroke:#000000; stroke-linecap:butt; stroke-linejoin:round; stroke-width:4; stroke-opacity:1; fill:none\" points=\"\n",
       "  677.874,1486.45 677.874,1467.55 \n",
       "  \"/>\n",
       "<polyline clip-path=\"url(#clip660)\" style=\"stroke:#000000; stroke-linecap:butt; stroke-linejoin:round; stroke-width:4; stroke-opacity:1; fill:none\" points=\"\n",
       "  1215.73,1486.45 1215.73,1467.55 \n",
       "  \"/>\n",
       "<polyline clip-path=\"url(#clip660)\" style=\"stroke:#000000; stroke-linecap:butt; stroke-linejoin:round; stroke-width:4; stroke-opacity:1; fill:none\" points=\"\n",
       "  1753.58,1486.45 1753.58,1467.55 \n",
       "  \"/>\n",
       "<polyline clip-path=\"url(#clip660)\" style=\"stroke:#000000; stroke-linecap:butt; stroke-linejoin:round; stroke-width:4; stroke-opacity:1; fill:none\" points=\"\n",
       "  2291.44,1486.45 2291.44,1467.55 \n",
       "  \"/>\n",
       "<path clip-path=\"url(#clip660)\" d=\"M668.152 1514.29 L686.508 1514.29 L686.508 1518.22 L672.434 1518.22 L672.434 1526.7 Q673.453 1526.35 674.471 1526.19 Q675.49 1526 676.508 1526 Q682.295 1526 685.675 1529.17 Q689.054 1532.34 689.054 1537.76 Q689.054 1543.34 685.582 1546.44 Q682.11 1549.52 675.791 1549.52 Q673.615 1549.52 671.346 1549.15 Q669.101 1548.78 666.693 1548.04 L666.693 1543.34 Q668.777 1544.47 670.999 1545.03 Q673.221 1545.58 675.698 1545.58 Q679.703 1545.58 682.041 1543.48 Q684.379 1541.37 684.379 1537.76 Q684.379 1534.15 682.041 1532.04 Q679.703 1529.94 675.698 1529.94 Q673.823 1529.94 671.948 1530.35 Q670.096 1530.77 668.152 1531.65 L668.152 1514.29 Z\" fill=\"#000000\" fill-rule=\"evenodd\" fill-opacity=\"1\" /><path clip-path=\"url(#clip660)\" d=\"M1190.42 1544.91 L1198.06 1544.91 L1198.06 1518.55 L1189.75 1520.21 L1189.75 1515.95 L1198.01 1514.29 L1202.69 1514.29 L1202.69 1544.91 L1210.32 1544.91 L1210.32 1548.85 L1190.42 1548.85 L1190.42 1544.91 Z\" fill=\"#000000\" fill-rule=\"evenodd\" fill-opacity=\"1\" /><path clip-path=\"url(#clip660)\" d=\"M1229.77 1517.37 Q1226.16 1517.37 1224.33 1520.93 Q1222.52 1524.47 1222.52 1531.6 Q1222.52 1538.71 1224.33 1542.27 Q1226.16 1545.82 1229.77 1545.82 Q1233.4 1545.82 1235.21 1542.27 Q1237.04 1538.71 1237.04 1531.6 Q1237.04 1524.47 1235.21 1520.93 Q1233.4 1517.37 1229.77 1517.37 M1229.77 1513.66 Q1235.58 1513.66 1238.63 1518.27 Q1241.71 1522.85 1241.71 1531.6 Q1241.71 1540.33 1238.63 1544.94 Q1235.58 1549.52 1229.77 1549.52 Q1223.96 1549.52 1220.88 1544.94 Q1217.82 1540.33 1217.82 1531.6 Q1217.82 1522.85 1220.88 1518.27 Q1223.96 1513.66 1229.77 1513.66 Z\" fill=\"#000000\" fill-rule=\"evenodd\" fill-opacity=\"1\" /><path clip-path=\"url(#clip660)\" d=\"M1728.77 1544.91 L1736.41 1544.91 L1736.41 1518.55 L1728.1 1520.21 L1728.1 1515.95 L1736.36 1514.29 L1741.04 1514.29 L1741.04 1544.91 L1748.68 1544.91 L1748.68 1548.85 L1728.77 1548.85 L1728.77 1544.91 Z\" fill=\"#000000\" fill-rule=\"evenodd\" fill-opacity=\"1\" /><path clip-path=\"url(#clip660)\" d=\"M1758.17 1514.29 L1776.52 1514.29 L1776.52 1518.22 L1762.45 1518.22 L1762.45 1526.7 Q1763.47 1526.35 1764.49 1526.19 Q1765.51 1526 1766.52 1526 Q1772.31 1526 1775.69 1529.17 Q1779.07 1532.34 1779.07 1537.76 Q1779.07 1543.34 1775.6 1546.44 Q1772.13 1549.52 1765.81 1549.52 Q1763.63 1549.52 1761.36 1549.15 Q1759.12 1548.78 1756.71 1548.04 L1756.71 1543.34 Q1758.79 1544.47 1761.02 1545.03 Q1763.24 1545.58 1765.71 1545.58 Q1769.72 1545.58 1772.06 1543.48 Q1774.39 1541.37 1774.39 1537.76 Q1774.39 1534.15 1772.06 1532.04 Q1769.72 1529.94 1765.71 1529.94 Q1763.84 1529.94 1761.96 1530.35 Q1760.11 1530.77 1758.17 1531.65 L1758.17 1514.29 Z\" fill=\"#000000\" fill-rule=\"evenodd\" fill-opacity=\"1\" /><path clip-path=\"url(#clip660)\" d=\"M2270.21 1544.91 L2286.53 1544.91 L2286.53 1548.85 L2264.59 1548.85 L2264.59 1544.91 Q2267.25 1542.16 2271.83 1537.53 Q2276.44 1532.88 2277.62 1531.53 Q2279.87 1529.01 2280.75 1527.27 Q2281.65 1525.51 2281.65 1523.82 Q2281.65 1521.07 2279.7 1519.33 Q2277.78 1517.6 2274.68 1517.6 Q2272.48 1517.6 2270.03 1518.36 Q2267.6 1519.13 2264.82 1520.68 L2264.82 1515.95 Q2267.64 1514.82 2270.1 1514.24 Q2272.55 1513.66 2274.59 1513.66 Q2279.96 1513.66 2283.15 1516.35 Q2286.35 1519.03 2286.35 1523.52 Q2286.35 1525.65 2285.54 1527.57 Q2284.75 1529.47 2282.64 1532.07 Q2282.07 1532.74 2278.96 1535.95 Q2275.86 1539.15 2270.21 1544.91 Z\" fill=\"#000000\" fill-rule=\"evenodd\" fill-opacity=\"1\" /><path clip-path=\"url(#clip660)\" d=\"M2306.35 1517.37 Q2302.74 1517.37 2300.91 1520.93 Q2299.1 1524.47 2299.1 1531.6 Q2299.1 1538.71 2300.91 1542.27 Q2302.74 1545.82 2306.35 1545.82 Q2309.98 1545.82 2311.79 1542.27 Q2313.62 1538.71 2313.62 1531.6 Q2313.62 1524.47 2311.79 1520.93 Q2309.98 1517.37 2306.35 1517.37 M2306.35 1513.66 Q2312.16 1513.66 2315.21 1518.27 Q2318.29 1522.85 2318.29 1531.6 Q2318.29 1540.33 2315.21 1544.94 Q2312.16 1549.52 2306.35 1549.52 Q2300.54 1549.52 2297.46 1544.94 Q2294.4 1540.33 2294.4 1531.6 Q2294.4 1522.85 2297.46 1518.27 Q2300.54 1513.66 2306.35 1513.66 Z\" fill=\"#000000\" fill-rule=\"evenodd\" fill-opacity=\"1\" /><polyline clip-path=\"url(#clip662)\" style=\"stroke:#000000; stroke-linecap:butt; stroke-linejoin:round; stroke-width:2; stroke-opacity:0.1; fill:none\" points=\"\n",
       "  186.274,1447.46 2352.76,1447.46 \n",
       "  \"/>\n",
       "<polyline clip-path=\"url(#clip662)\" style=\"stroke:#000000; stroke-linecap:butt; stroke-linejoin:round; stroke-width:2; stroke-opacity:0.1; fill:none\" points=\"\n",
       "  186.274,1107.59 2352.76,1107.59 \n",
       "  \"/>\n",
       "<polyline clip-path=\"url(#clip662)\" style=\"stroke:#000000; stroke-linecap:butt; stroke-linejoin:round; stroke-width:2; stroke-opacity:0.1; fill:none\" points=\"\n",
       "  186.274,767.72 2352.76,767.72 \n",
       "  \"/>\n",
       "<polyline clip-path=\"url(#clip662)\" style=\"stroke:#000000; stroke-linecap:butt; stroke-linejoin:round; stroke-width:2; stroke-opacity:0.1; fill:none\" points=\"\n",
       "  186.274,427.848 2352.76,427.848 \n",
       "  \"/>\n",
       "<polyline clip-path=\"url(#clip662)\" style=\"stroke:#000000; stroke-linecap:butt; stroke-linejoin:round; stroke-width:2; stroke-opacity:0.1; fill:none\" points=\"\n",
       "  186.274,87.9753 2352.76,87.9753 \n",
       "  \"/>\n",
       "<polyline clip-path=\"url(#clip660)\" style=\"stroke:#000000; stroke-linecap:butt; stroke-linejoin:round; stroke-width:4; stroke-opacity:1; fill:none\" points=\"\n",
       "  186.274,1486.45 186.274,47.2441 \n",
       "  \"/>\n",
       "<polyline clip-path=\"url(#clip660)\" style=\"stroke:#000000; stroke-linecap:butt; stroke-linejoin:round; stroke-width:4; stroke-opacity:1; fill:none\" points=\"\n",
       "  186.274,1447.46 205.172,1447.46 \n",
       "  \"/>\n",
       "<polyline clip-path=\"url(#clip660)\" style=\"stroke:#000000; stroke-linecap:butt; stroke-linejoin:round; stroke-width:4; stroke-opacity:1; fill:none\" points=\"\n",
       "  186.274,1107.59 205.172,1107.59 \n",
       "  \"/>\n",
       "<polyline clip-path=\"url(#clip660)\" style=\"stroke:#000000; stroke-linecap:butt; stroke-linejoin:round; stroke-width:4; stroke-opacity:1; fill:none\" points=\"\n",
       "  186.274,767.72 205.172,767.72 \n",
       "  \"/>\n",
       "<polyline clip-path=\"url(#clip660)\" style=\"stroke:#000000; stroke-linecap:butt; stroke-linejoin:round; stroke-width:4; stroke-opacity:1; fill:none\" points=\"\n",
       "  186.274,427.848 205.172,427.848 \n",
       "  \"/>\n",
       "<polyline clip-path=\"url(#clip660)\" style=\"stroke:#000000; stroke-linecap:butt; stroke-linejoin:round; stroke-width:4; stroke-opacity:1; fill:none\" points=\"\n",
       "  186.274,87.9753 205.172,87.9753 \n",
       "  \"/>\n",
       "<path clip-path=\"url(#clip660)\" d=\"M62.9365 1433.26 Q59.3254 1433.26 57.4967 1436.83 Q55.6912 1440.37 55.6912 1447.5 Q55.6912 1454.61 57.4967 1458.17 Q59.3254 1461.71 62.9365 1461.71 Q66.5707 1461.71 68.3763 1458.17 Q70.205 1454.61 70.205 1447.5 Q70.205 1440.37 68.3763 1436.83 Q66.5707 1433.26 62.9365 1433.26 M62.9365 1429.56 Q68.7467 1429.56 71.8022 1434.17 Q74.8809 1438.75 74.8809 1447.5 Q74.8809 1456.23 71.8022 1460.83 Q68.7467 1465.42 62.9365 1465.42 Q57.1264 1465.42 54.0477 1460.83 Q50.9921 1456.23 50.9921 1447.5 Q50.9921 1438.75 54.0477 1434.17 Q57.1264 1429.56 62.9365 1429.56 Z\" fill=\"#000000\" fill-rule=\"evenodd\" fill-opacity=\"1\" /><path clip-path=\"url(#clip660)\" d=\"M83.0984 1458.86 L87.9827 1458.86 L87.9827 1464.74 L83.0984 1464.74 L83.0984 1458.86 Z\" fill=\"#000000\" fill-rule=\"evenodd\" fill-opacity=\"1\" /><path clip-path=\"url(#clip660)\" d=\"M108.168 1433.26 Q104.557 1433.26 102.728 1436.83 Q100.922 1440.37 100.922 1447.5 Q100.922 1454.61 102.728 1458.17 Q104.557 1461.71 108.168 1461.71 Q111.802 1461.71 113.608 1458.17 Q115.436 1454.61 115.436 1447.5 Q115.436 1440.37 113.608 1436.83 Q111.802 1433.26 108.168 1433.26 M108.168 1429.56 Q113.978 1429.56 117.033 1434.17 Q120.112 1438.75 120.112 1447.5 Q120.112 1456.23 117.033 1460.83 Q113.978 1465.42 108.168 1465.42 Q102.358 1465.42 99.2789 1460.83 Q96.2234 1456.23 96.2234 1447.5 Q96.2234 1438.75 99.2789 1434.17 Q102.358 1429.56 108.168 1429.56 Z\" fill=\"#000000\" fill-rule=\"evenodd\" fill-opacity=\"1\" /><path clip-path=\"url(#clip660)\" d=\"M138.33 1433.26 Q134.719 1433.26 132.89 1436.83 Q131.084 1440.37 131.084 1447.5 Q131.084 1454.61 132.89 1458.17 Q134.719 1461.71 138.33 1461.71 Q141.964 1461.71 143.769 1458.17 Q145.598 1454.61 145.598 1447.5 Q145.598 1440.37 143.769 1436.83 Q141.964 1433.26 138.33 1433.26 M138.33 1429.56 Q144.14 1429.56 147.195 1434.17 Q150.274 1438.75 150.274 1447.5 Q150.274 1456.23 147.195 1460.83 Q144.14 1465.42 138.33 1465.42 Q132.519 1465.42 129.441 1460.83 Q126.385 1456.23 126.385 1447.5 Q126.385 1438.75 129.441 1434.17 Q132.519 1429.56 138.33 1429.56 Z\" fill=\"#000000\" fill-rule=\"evenodd\" fill-opacity=\"1\" /><path clip-path=\"url(#clip660)\" d=\"M63.9319 1093.39 Q60.3208 1093.39 58.4921 1096.96 Q56.6865 1100.5 56.6865 1107.63 Q56.6865 1114.73 58.4921 1118.3 Q60.3208 1121.84 63.9319 1121.84 Q67.5661 1121.84 69.3717 1118.3 Q71.2004 1114.73 71.2004 1107.63 Q71.2004 1100.5 69.3717 1096.96 Q67.5661 1093.39 63.9319 1093.39 M63.9319 1089.69 Q69.742 1089.69 72.7976 1094.29 Q75.8763 1098.88 75.8763 1107.63 Q75.8763 1116.35 72.7976 1120.96 Q69.742 1125.54 63.9319 1125.54 Q58.1217 1125.54 55.043 1120.96 Q51.9875 1116.35 51.9875 1107.63 Q51.9875 1098.88 55.043 1094.29 Q58.1217 1089.69 63.9319 1089.69 Z\" fill=\"#000000\" fill-rule=\"evenodd\" fill-opacity=\"1\" /><path clip-path=\"url(#clip660)\" d=\"M84.0938 1118.99 L88.978 1118.99 L88.978 1124.87 L84.0938 1124.87 L84.0938 1118.99 Z\" fill=\"#000000\" fill-rule=\"evenodd\" fill-opacity=\"1\" /><path clip-path=\"url(#clip660)\" d=\"M103.191 1120.94 L119.51 1120.94 L119.51 1124.87 L97.566 1124.87 L97.566 1120.94 Q100.228 1118.18 104.811 1113.55 Q109.418 1108.9 110.598 1107.56 Q112.844 1105.03 113.723 1103.3 Q114.626 1101.54 114.626 1099.85 Q114.626 1097.09 112.682 1095.36 Q110.76 1093.62 107.658 1093.62 Q105.459 1093.62 103.006 1094.39 Q100.575 1095.15 97.7974 1096.7 L97.7974 1091.98 Q100.621 1090.84 103.075 1090.27 Q105.529 1089.69 107.566 1089.69 Q112.936 1089.69 116.131 1092.37 Q119.325 1095.06 119.325 1099.55 Q119.325 1101.68 118.515 1103.6 Q117.728 1105.5 115.621 1108.09 Q115.043 1108.76 111.941 1111.98 Q108.839 1115.17 103.191 1120.94 Z\" fill=\"#000000\" fill-rule=\"evenodd\" fill-opacity=\"1\" /><path clip-path=\"url(#clip660)\" d=\"M129.371 1090.31 L147.728 1090.31 L147.728 1094.25 L133.654 1094.25 L133.654 1102.72 Q134.672 1102.37 135.691 1102.21 Q136.709 1102.03 137.728 1102.03 Q143.515 1102.03 146.894 1105.2 Q150.274 1108.37 150.274 1113.78 Q150.274 1119.36 146.802 1122.46 Q143.33 1125.54 137.01 1125.54 Q134.834 1125.54 132.566 1125.17 Q130.32 1124.8 127.913 1124.06 L127.913 1119.36 Q129.996 1120.5 132.219 1121.05 Q134.441 1121.61 136.918 1121.61 Q140.922 1121.61 143.26 1119.5 Q145.598 1117.4 145.598 1113.78 Q145.598 1110.17 143.26 1108.07 Q140.922 1105.96 136.918 1105.96 Q135.043 1105.96 133.168 1106.38 Q131.316 1106.79 129.371 1107.67 L129.371 1090.31 Z\" fill=\"#000000\" fill-rule=\"evenodd\" fill-opacity=\"1\" /><path clip-path=\"url(#clip660)\" d=\"M62.9365 753.519 Q59.3254 753.519 57.4967 757.083 Q55.6912 760.625 55.6912 767.755 Q55.6912 774.861 57.4967 778.426 Q59.3254 781.967 62.9365 781.967 Q66.5707 781.967 68.3763 778.426 Q70.205 774.861 70.205 767.755 Q70.205 760.625 68.3763 757.083 Q66.5707 753.519 62.9365 753.519 M62.9365 749.815 Q68.7467 749.815 71.8022 754.421 Q74.8809 759.005 74.8809 767.755 Q74.8809 776.481 71.8022 781.088 Q68.7467 785.671 62.9365 785.671 Q57.1264 785.671 54.0477 781.088 Q50.9921 776.481 50.9921 767.755 Q50.9921 759.005 54.0477 754.421 Q57.1264 749.815 62.9365 749.815 Z\" fill=\"#000000\" fill-rule=\"evenodd\" fill-opacity=\"1\" /><path clip-path=\"url(#clip660)\" d=\"M83.0984 779.12 L87.9827 779.12 L87.9827 785 L83.0984 785 L83.0984 779.12 Z\" fill=\"#000000\" fill-rule=\"evenodd\" fill-opacity=\"1\" /><path clip-path=\"url(#clip660)\" d=\"M98.2141 750.44 L116.57 750.44 L116.57 754.375 L102.496 754.375 L102.496 762.847 Q103.515 762.5 104.534 762.338 Q105.552 762.153 106.571 762.153 Q112.358 762.153 115.737 765.324 Q119.117 768.495 119.117 773.912 Q119.117 779.491 115.645 782.592 Q112.172 785.671 105.853 785.671 Q103.677 785.671 101.409 785.301 Q99.1632 784.93 96.7558 784.19 L96.7558 779.491 Q98.8391 780.625 101.061 781.18 Q103.284 781.736 105.76 781.736 Q109.765 781.736 112.103 779.63 Q114.441 777.523 114.441 773.912 Q114.441 770.301 112.103 768.194 Q109.765 766.088 105.76 766.088 Q103.885 766.088 102.01 766.505 Q100.159 766.921 98.2141 767.801 L98.2141 750.44 Z\" fill=\"#000000\" fill-rule=\"evenodd\" fill-opacity=\"1\" /><path clip-path=\"url(#clip660)\" d=\"M138.33 753.519 Q134.719 753.519 132.89 757.083 Q131.084 760.625 131.084 767.755 Q131.084 774.861 132.89 778.426 Q134.719 781.967 138.33 781.967 Q141.964 781.967 143.769 778.426 Q145.598 774.861 145.598 767.755 Q145.598 760.625 143.769 757.083 Q141.964 753.519 138.33 753.519 M138.33 749.815 Q144.14 749.815 147.195 754.421 Q150.274 759.005 150.274 767.755 Q150.274 776.481 147.195 781.088 Q144.14 785.671 138.33 785.671 Q132.519 785.671 129.441 781.088 Q126.385 776.481 126.385 767.755 Q126.385 759.005 129.441 754.421 Q132.519 749.815 138.33 749.815 Z\" fill=\"#000000\" fill-rule=\"evenodd\" fill-opacity=\"1\" /><path clip-path=\"url(#clip660)\" d=\"M63.9319 413.646 Q60.3208 413.646 58.4921 417.211 Q56.6865 420.753 56.6865 427.882 Q56.6865 434.989 58.4921 438.554 Q60.3208 442.095 63.9319 442.095 Q67.5661 442.095 69.3717 438.554 Q71.2004 434.989 71.2004 427.882 Q71.2004 420.753 69.3717 417.211 Q67.5661 413.646 63.9319 413.646 M63.9319 409.943 Q69.742 409.943 72.7976 414.549 Q75.8763 419.132 75.8763 427.882 Q75.8763 436.609 72.7976 441.216 Q69.742 445.799 63.9319 445.799 Q58.1217 445.799 55.043 441.216 Q51.9875 436.609 51.9875 427.882 Q51.9875 419.132 55.043 414.549 Q58.1217 409.943 63.9319 409.943 Z\" fill=\"#000000\" fill-rule=\"evenodd\" fill-opacity=\"1\" /><path clip-path=\"url(#clip660)\" d=\"M84.0938 439.248 L88.978 439.248 L88.978 445.128 L84.0938 445.128 L84.0938 439.248 Z\" fill=\"#000000\" fill-rule=\"evenodd\" fill-opacity=\"1\" /><path clip-path=\"url(#clip660)\" d=\"M97.9826 410.568 L120.205 410.568 L120.205 412.558 L107.658 445.128 L102.774 445.128 L114.58 414.503 L97.9826 414.503 L97.9826 410.568 Z\" fill=\"#000000\" fill-rule=\"evenodd\" fill-opacity=\"1\" /><path clip-path=\"url(#clip660)\" d=\"M129.371 410.568 L147.728 410.568 L147.728 414.503 L133.654 414.503 L133.654 422.975 Q134.672 422.628 135.691 422.466 Q136.709 422.28 137.728 422.28 Q143.515 422.28 146.894 425.452 Q150.274 428.623 150.274 434.04 Q150.274 439.618 146.802 442.72 Q143.33 445.799 137.01 445.799 Q134.834 445.799 132.566 445.428 Q130.32 445.058 127.913 444.317 L127.913 439.618 Q129.996 440.753 132.219 441.308 Q134.441 441.864 136.918 441.864 Q140.922 441.864 143.26 439.757 Q145.598 437.651 145.598 434.04 Q145.598 430.429 143.26 428.322 Q140.922 426.216 136.918 426.216 Q135.043 426.216 133.168 426.632 Q131.316 427.049 129.371 427.929 L129.371 410.568 Z\" fill=\"#000000\" fill-rule=\"evenodd\" fill-opacity=\"1\" /><path clip-path=\"url(#clip660)\" d=\"M53.7467 101.32 L61.3856 101.32 L61.3856 74.9545 L53.0754 76.6212 L53.0754 72.3619 L61.3393 70.6953 L66.0152 70.6953 L66.0152 101.32 L73.654 101.32 L73.654 105.255 L53.7467 105.255 L53.7467 101.32 Z\" fill=\"#000000\" fill-rule=\"evenodd\" fill-opacity=\"1\" /><path clip-path=\"url(#clip660)\" d=\"M83.0984 99.3757 L87.9827 99.3757 L87.9827 105.255 L83.0984 105.255 L83.0984 99.3757 Z\" fill=\"#000000\" fill-rule=\"evenodd\" fill-opacity=\"1\" /><path clip-path=\"url(#clip660)\" d=\"M108.168 73.7739 Q104.557 73.7739 102.728 77.3387 Q100.922 80.8804 100.922 88.01 Q100.922 95.1164 102.728 98.6812 Q104.557 102.223 108.168 102.223 Q111.802 102.223 113.608 98.6812 Q115.436 95.1164 115.436 88.01 Q115.436 80.8804 113.608 77.3387 Q111.802 73.7739 108.168 73.7739 M108.168 70.0703 Q113.978 70.0703 117.033 74.6767 Q120.112 79.26 120.112 88.01 Q120.112 96.7368 117.033 101.343 Q113.978 105.927 108.168 105.927 Q102.358 105.927 99.2789 101.343 Q96.2234 96.7368 96.2234 88.01 Q96.2234 79.26 99.2789 74.6767 Q102.358 70.0703 108.168 70.0703 Z\" fill=\"#000000\" fill-rule=\"evenodd\" fill-opacity=\"1\" /><path clip-path=\"url(#clip660)\" d=\"M138.33 73.7739 Q134.719 73.7739 132.89 77.3387 Q131.084 80.8804 131.084 88.01 Q131.084 95.1164 132.89 98.6812 Q134.719 102.223 138.33 102.223 Q141.964 102.223 143.769 98.6812 Q145.598 95.1164 145.598 88.01 Q145.598 80.8804 143.769 77.3387 Q141.964 73.7739 138.33 73.7739 M138.33 70.0703 Q144.14 70.0703 147.195 74.6767 Q150.274 79.26 150.274 88.01 Q150.274 96.7368 147.195 101.343 Q144.14 105.927 138.33 105.927 Q132.519 105.927 129.441 101.343 Q126.385 96.7368 126.385 88.01 Q126.385 79.26 129.441 74.6767 Q132.519 70.0703 138.33 70.0703 Z\" fill=\"#000000\" fill-rule=\"evenodd\" fill-opacity=\"1\" /><polyline clip-path=\"url(#clip662)\" style=\"stroke:#009af9; stroke-linecap:butt; stroke-linejoin:round; stroke-width:4; stroke-opacity:1; fill:none\" points=\"\n",
       "  247.59,1412.39 355.161,1368.21 462.732,1288.68 570.303,1191.74 677.874,1080.13 785.445,949.755 893.016,829.441 1000.59,694.987 1108.16,563.389 1215.73,441.171 \n",
       "  1323.3,342.879 1430.87,263.621 1538.44,205.027 1646.01,158.397 1753.58,133.11 1861.16,115.573 1968.73,102.522 2076.3,97.3557 2183.87,93.4132 2291.44,91.9178 \n",
       "  \n",
       "  \"/>\n",
       "<polyline clip-path=\"url(#clip662)\" style=\"stroke:#e26f46; stroke-linecap:butt; stroke-linejoin:round; stroke-width:4; stroke-opacity:1; fill:none\" points=\"\n",
       "  247.59,1445.72 268.234,1445.54 288.879,1445.34 309.524,1445.09 330.169,1444.78 350.814,1444.42 371.459,1443.97 392.104,1443.43 412.749,1442.78 433.394,1441.99 \n",
       "  454.039,1441.02 474.684,1439.85 495.329,1438.43 515.974,1436.7 536.619,1434.61 557.264,1432.06 577.909,1428.98 598.554,1425.25 619.199,1420.73 639.844,1415.28 \n",
       "  660.489,1408.72 681.134,1400.82 701.779,1391.36 722.424,1380.06 743.069,1366.6 763.713,1350.63 784.358,1331.78 805.003,1309.65 825.648,1283.84 846.293,1253.94 \n",
       "  866.938,1219.59 887.583,1180.48 908.228,1136.44 928.873,1087.42 949.518,1033.57 970.163,975.265 990.808,913.117 1011.45,847.988 1032.1,780.946 1052.74,713.213 \n",
       "  1073.39,646.084 1094.03,580.83 1114.68,518.61 1135.32,460.387 1155.97,406.882 1176.61,358.545 1197.26,315.567 1217.9,277.911 1238.55,245.354 1259.19,217.541 \n",
       "  1279.84,194.032 1300.48,174.348 1321.13,158.002 1341.77,144.526 1362.42,133.486 1383.06,124.491 1403.71,117.196 1424.35,111.305 1445,106.565 1465.64,102.761 \n",
       "  1486.29,99.7178 1506.93,97.2884 1527.58,95.3529 1548.22,93.8136 1568.87,92.5912 1589.51,91.6218 1610.16,90.854 1630.8,90.2464 1651.45,89.766 1672.09,89.3865 \n",
       "  1692.74,89.087 1713.38,88.8507 1734.03,88.6644 1754.67,88.5175 1775.32,88.4019 1795.96,88.3108 1816.61,88.2391 1837.25,88.1827 1857.9,88.1383 1878.54,88.1034 \n",
       "  1899.19,88.0759 1919.83,88.0544 1940.48,88.0374 1961.12,88.0241 1981.77,88.0136 2002.41,88.0054 2023.06,87.9989 2043.7,87.9938 2064.35,87.9898 2084.99,87.9867 \n",
       "  2105.64,87.9843 2126.28,87.9823 2146.93,87.9808 2167.57,87.9796 2188.22,87.9787 2208.86,87.9779 2229.51,87.9774 2250.15,87.9769 2270.8,87.9766 2291.44,87.9763 \n",
       "  \n",
       "  \"/>\n",
       "<path clip-path=\"url(#clip660)\" d=\"\n",
       "M1977.02 250.738 L2280.54 250.738 L2280.54 95.2176 L1977.02 95.2176  Z\n",
       "  \" fill=\"#ffffff\" fill-rule=\"evenodd\" fill-opacity=\"1\"/>\n",
       "<polyline clip-path=\"url(#clip660)\" style=\"stroke:#000000; stroke-linecap:butt; stroke-linejoin:round; stroke-width:4; stroke-opacity:1; fill:none\" points=\"\n",
       "  1977.02,250.738 2280.54,250.738 2280.54,95.2176 1977.02,95.2176 1977.02,250.738 \n",
       "  \"/>\n",
       "<polyline clip-path=\"url(#clip660)\" style=\"stroke:#009af9; stroke-linecap:butt; stroke-linejoin:round; stroke-width:4; stroke-opacity:1; fill:none\" points=\"\n",
       "  2001.09,147.058 2145.52,147.058 \n",
       "  \"/>\n",
       "<path clip-path=\"url(#clip660)\" d=\"M2169.6 129.778 L2175.89 129.778 L2191.22 158.689 L2191.22 129.778 L2195.75 129.778 L2195.75 164.338 L2189.46 164.338 L2174.13 135.426 L2174.13 164.338 L2169.6 164.338 L2169.6 129.778 Z\" fill=\"#000000\" fill-rule=\"evenodd\" fill-opacity=\"1\" /><polyline clip-path=\"url(#clip660)\" style=\"stroke:#e26f46; stroke-linecap:butt; stroke-linejoin:round; stroke-width:4; stroke-opacity:1; fill:none\" points=\"\n",
       "  2001.09,198.898 2145.52,198.898 \n",
       "  \"/>\n",
       "<path clip-path=\"url(#clip660)\" d=\"M2188.02 191.016 L2188.02 195.043 Q2186.22 194.117 2184.27 193.655 Q2182.33 193.192 2180.24 193.192 Q2177.07 193.192 2175.47 194.164 Q2173.9 195.136 2173.9 197.08 Q2173.9 198.562 2175.03 199.418 Q2176.17 200.252 2179.6 201.016 L2181.05 201.34 Q2185.59 202.312 2187.49 204.094 Q2189.41 205.854 2189.41 209.025 Q2189.41 212.636 2186.54 214.742 Q2183.69 216.849 2178.69 216.849 Q2176.61 216.849 2174.34 216.432 Q2172.1 216.039 2169.6 215.228 L2169.6 210.83 Q2171.96 212.057 2174.25 212.682 Q2176.54 213.284 2178.78 213.284 Q2181.79 213.284 2183.41 212.266 Q2185.03 211.224 2185.03 209.349 Q2185.03 207.613 2183.85 206.687 Q2182.7 205.761 2178.74 204.904 L2177.26 204.557 Q2173.3 203.724 2171.54 202.011 Q2169.78 200.275 2169.78 197.266 Q2169.78 193.608 2172.37 191.618 Q2174.97 189.627 2179.73 189.627 Q2182.1 189.627 2184.18 189.974 Q2186.26 190.321 2188.02 191.016 Z\" fill=\"#000000\" fill-rule=\"evenodd\" fill-opacity=\"1\" /><path clip-path=\"url(#clip660)\" d=\"M2196.19 190.252 L2200.45 190.252 L2200.45 216.178 L2196.19 216.178 L2196.19 190.252 M2196.19 180.159 L2200.45 180.159 L2200.45 185.553 L2196.19 185.553 L2196.19 180.159 Z\" fill=\"#000000\" fill-rule=\"evenodd\" fill-opacity=\"1\" /><path clip-path=\"url(#clip660)\" d=\"M2227.97 203.238 Q2227.97 198.539 2226.03 195.877 Q2224.11 193.192 2220.73 193.192 Q2217.35 193.192 2215.41 195.877 Q2213.48 198.539 2213.48 203.238 Q2213.48 207.937 2215.41 210.622 Q2217.35 213.284 2220.73 213.284 Q2224.11 213.284 2226.03 210.622 Q2227.97 207.937 2227.97 203.238 M2213.48 194.187 Q2214.83 191.872 2216.86 190.761 Q2218.92 189.627 2221.77 189.627 Q2226.49 189.627 2229.43 193.377 Q2232.4 197.127 2232.4 203.238 Q2232.4 209.349 2229.43 213.099 Q2226.49 216.849 2221.77 216.849 Q2218.92 216.849 2216.86 215.738 Q2214.83 214.603 2213.48 212.289 L2213.48 216.178 L2209.2 216.178 L2209.2 180.159 L2213.48 180.159 L2213.48 194.187 Z\" fill=\"#000000\" fill-rule=\"evenodd\" fill-opacity=\"1\" /></svg>\n"
      ]
     },
     "execution_count": 71,
     "metadata": {},
     "output_type": "execute_result"
    }
   ],
   "source": [
    "#Marginals\n",
    "\n",
    "using Plots\n",
    "p_cau = zeros(N,Int(T))\n",
    "p_fast = zeros(N,Int(T))\n",
    "for i = 1:N\n",
    "    for t = 1:Int(T)\n",
    "       p_cau[i,t] = marginal(i, t, statscau)\n",
    "       #p_fast[i,t] = marginal(i, t, statscau_)\n",
    "    end\n",
    "end\n",
    "i = 27\n",
    "plot(p_cau[i,:], label = \"N\")\n",
    "#plot!(p_fast[i,:], label = \"N 2\")\n",
    "plot!(LinRange(1,Int(T),Int(round(T/dt))),p_sib[i,:], label = \"sib\")"
   ]
  },
  {
   "cell_type": "code",
   "execution_count": 72,
   "metadata": {},
   "outputs": [
    {
     "data": {
      "image/svg+xml": [
       "<?xml version=\"1.0\" encoding=\"utf-8\"?>\n",
       "<svg xmlns=\"http://www.w3.org/2000/svg\" xmlns:xlink=\"http://www.w3.org/1999/xlink\" width=\"600\" height=\"400\" viewBox=\"0 0 2400 1600\">\n",
       "<defs>\n",
       "  <clipPath id=\"clip700\">\n",
       "    <rect x=\"0\" y=\"0\" width=\"2400\" height=\"1600\"/>\n",
       "  </clipPath>\n",
       "</defs>\n",
       "<path clip-path=\"url(#clip700)\" d=\"\n",
       "M0 1600 L2400 1600 L2400 0 L0 0  Z\n",
       "  \" fill=\"#ffffff\" fill-rule=\"evenodd\" fill-opacity=\"1\"/>\n",
       "<defs>\n",
       "  <clipPath id=\"clip701\">\n",
       "    <rect x=\"480\" y=\"0\" width=\"1681\" height=\"1600\"/>\n",
       "  </clipPath>\n",
       "</defs>\n",
       "<path clip-path=\"url(#clip700)\" d=\"\n",
       "M249.542 1423.18 L2352.76 1423.18 L2352.76 123.472 L249.542 123.472  Z\n",
       "  \" fill=\"#ffffff\" fill-rule=\"evenodd\" fill-opacity=\"1\"/>\n",
       "<defs>\n",
       "  <clipPath id=\"clip702\">\n",
       "    <rect x=\"249\" y=\"123\" width=\"2104\" height=\"1301\"/>\n",
       "  </clipPath>\n",
       "</defs>\n",
       "<polyline clip-path=\"url(#clip702)\" style=\"stroke:#000000; stroke-linecap:butt; stroke-linejoin:round; stroke-width:2; stroke-opacity:0.1; fill:none\" points=\"\n",
       "  726.786,1423.18 726.786,123.472 \n",
       "  \"/>\n",
       "<polyline clip-path=\"url(#clip702)\" style=\"stroke:#000000; stroke-linecap:butt; stroke-linejoin:round; stroke-width:2; stroke-opacity:0.1; fill:none\" points=\"\n",
       "  1248.93,1423.18 1248.93,123.472 \n",
       "  \"/>\n",
       "<polyline clip-path=\"url(#clip702)\" style=\"stroke:#000000; stroke-linecap:butt; stroke-linejoin:round; stroke-width:2; stroke-opacity:0.1; fill:none\" points=\"\n",
       "  1771.08,1423.18 1771.08,123.472 \n",
       "  \"/>\n",
       "<polyline clip-path=\"url(#clip702)\" style=\"stroke:#000000; stroke-linecap:butt; stroke-linejoin:round; stroke-width:2; stroke-opacity:0.1; fill:none\" points=\"\n",
       "  2293.23,1423.18 2293.23,123.472 \n",
       "  \"/>\n",
       "<polyline clip-path=\"url(#clip700)\" style=\"stroke:#000000; stroke-linecap:butt; stroke-linejoin:round; stroke-width:4; stroke-opacity:1; fill:none\" points=\"\n",
       "  249.542,1423.18 2352.76,1423.18 \n",
       "  \"/>\n",
       "<polyline clip-path=\"url(#clip700)\" style=\"stroke:#000000; stroke-linecap:butt; stroke-linejoin:round; stroke-width:4; stroke-opacity:1; fill:none\" points=\"\n",
       "  726.786,1423.18 726.786,1404.28 \n",
       "  \"/>\n",
       "<polyline clip-path=\"url(#clip700)\" style=\"stroke:#000000; stroke-linecap:butt; stroke-linejoin:round; stroke-width:4; stroke-opacity:1; fill:none\" points=\"\n",
       "  1248.93,1423.18 1248.93,1404.28 \n",
       "  \"/>\n",
       "<polyline clip-path=\"url(#clip700)\" style=\"stroke:#000000; stroke-linecap:butt; stroke-linejoin:round; stroke-width:4; stroke-opacity:1; fill:none\" points=\"\n",
       "  1771.08,1423.18 1771.08,1404.28 \n",
       "  \"/>\n",
       "<polyline clip-path=\"url(#clip700)\" style=\"stroke:#000000; stroke-linecap:butt; stroke-linejoin:round; stroke-width:4; stroke-opacity:1; fill:none\" points=\"\n",
       "  2293.23,1423.18 2293.23,1404.28 \n",
       "  \"/>\n",
       "<path clip-path=\"url(#clip700)\" d=\"M717.064 1451.02 L735.42 1451.02 L735.42 1454.96 L721.346 1454.96 L721.346 1463.43 Q722.364 1463.08 723.383 1462.92 Q724.401 1462.73 725.42 1462.73 Q731.207 1462.73 734.587 1465.9 Q737.966 1469.08 737.966 1474.49 Q737.966 1480.07 734.494 1483.17 Q731.022 1486.25 724.702 1486.25 Q722.526 1486.25 720.258 1485.88 Q718.013 1485.51 715.605 1484.77 L715.605 1480.07 Q717.689 1481.2 719.911 1481.76 Q722.133 1482.32 724.61 1482.32 Q728.614 1482.32 730.952 1480.21 Q733.29 1478.1 733.29 1474.49 Q733.29 1470.88 730.952 1468.77 Q728.614 1466.67 724.61 1466.67 Q722.735 1466.67 720.86 1467.08 Q719.008 1467.5 717.064 1468.38 L717.064 1451.02 Z\" fill=\"#000000\" fill-rule=\"evenodd\" fill-opacity=\"1\" /><path clip-path=\"url(#clip700)\" d=\"M1223.62 1481.64 L1231.26 1481.64 L1231.26 1455.28 L1222.95 1456.95 L1222.95 1452.69 L1231.21 1451.02 L1235.89 1451.02 L1235.89 1481.64 L1243.53 1481.64 L1243.53 1485.58 L1223.62 1485.58 L1223.62 1481.64 Z\" fill=\"#000000\" fill-rule=\"evenodd\" fill-opacity=\"1\" /><path clip-path=\"url(#clip700)\" d=\"M1262.97 1454.1 Q1259.36 1454.1 1257.53 1457.66 Q1255.73 1461.2 1255.73 1468.33 Q1255.73 1475.44 1257.53 1479.01 Q1259.36 1482.55 1262.97 1482.55 Q1266.61 1482.55 1268.41 1479.01 Q1270.24 1475.44 1270.24 1468.33 Q1270.24 1461.2 1268.41 1457.66 Q1266.61 1454.1 1262.97 1454.1 M1262.97 1450.39 Q1268.78 1450.39 1271.84 1455 Q1274.92 1459.58 1274.92 1468.33 Q1274.92 1477.06 1271.84 1481.67 Q1268.78 1486.25 1262.97 1486.25 Q1257.16 1486.25 1254.08 1481.67 Q1251.03 1477.06 1251.03 1468.33 Q1251.03 1459.58 1254.08 1455 Q1257.16 1450.39 1262.97 1450.39 Z\" fill=\"#000000\" fill-rule=\"evenodd\" fill-opacity=\"1\" /><path clip-path=\"url(#clip700)\" d=\"M1746.27 1481.64 L1753.91 1481.64 L1753.91 1455.28 L1745.6 1456.95 L1745.6 1452.69 L1753.86 1451.02 L1758.54 1451.02 L1758.54 1481.64 L1766.18 1481.64 L1766.18 1485.58 L1746.27 1485.58 L1746.27 1481.64 Z\" fill=\"#000000\" fill-rule=\"evenodd\" fill-opacity=\"1\" /><path clip-path=\"url(#clip700)\" d=\"M1775.67 1451.02 L1794.02 1451.02 L1794.02 1454.96 L1779.95 1454.96 L1779.95 1463.43 Q1780.97 1463.08 1781.99 1462.92 Q1783 1462.73 1784.02 1462.73 Q1789.81 1462.73 1793.19 1465.9 Q1796.57 1469.08 1796.57 1474.49 Q1796.57 1480.07 1793.1 1483.17 Q1789.62 1486.25 1783.3 1486.25 Q1781.13 1486.25 1778.86 1485.88 Q1776.61 1485.51 1774.21 1484.77 L1774.21 1480.07 Q1776.29 1481.2 1778.51 1481.76 Q1780.74 1482.32 1783.21 1482.32 Q1787.22 1482.32 1789.55 1480.21 Q1791.89 1478.1 1791.89 1474.49 Q1791.89 1470.88 1789.55 1468.77 Q1787.22 1466.67 1783.21 1466.67 Q1781.34 1466.67 1779.46 1467.08 Q1777.61 1467.5 1775.67 1468.38 L1775.67 1451.02 Z\" fill=\"#000000\" fill-rule=\"evenodd\" fill-opacity=\"1\" /><path clip-path=\"url(#clip700)\" d=\"M2272 1481.64 L2288.32 1481.64 L2288.32 1485.58 L2266.38 1485.58 L2266.38 1481.64 Q2269.04 1478.89 2273.62 1474.26 Q2278.23 1469.61 2279.41 1468.27 Q2281.66 1465.74 2282.54 1464.01 Q2283.44 1462.25 2283.44 1460.56 Q2283.44 1457.8 2281.49 1456.07 Q2279.57 1454.33 2276.47 1454.33 Q2274.27 1454.33 2271.82 1455.09 Q2269.39 1455.86 2266.61 1457.41 L2266.61 1452.69 Q2269.43 1451.55 2271.89 1450.97 Q2274.34 1450.39 2276.38 1450.39 Q2281.75 1450.39 2284.94 1453.08 Q2288.14 1455.77 2288.14 1460.26 Q2288.14 1462.39 2287.33 1464.31 Q2286.54 1466.2 2284.43 1468.8 Q2283.86 1469.47 2280.75 1472.69 Q2277.65 1475.88 2272 1481.64 Z\" fill=\"#000000\" fill-rule=\"evenodd\" fill-opacity=\"1\" /><path clip-path=\"url(#clip700)\" d=\"M2308.14 1454.1 Q2304.53 1454.1 2302.7 1457.66 Q2300.89 1461.2 2300.89 1468.33 Q2300.89 1475.44 2302.7 1479.01 Q2304.53 1482.55 2308.14 1482.55 Q2311.77 1482.55 2313.58 1479.01 Q2315.41 1475.44 2315.41 1468.33 Q2315.41 1461.2 2313.58 1457.66 Q2311.77 1454.1 2308.14 1454.1 M2308.14 1450.39 Q2313.95 1450.39 2317 1455 Q2320.08 1459.58 2320.08 1468.33 Q2320.08 1477.06 2317 1481.67 Q2313.95 1486.25 2308.14 1486.25 Q2302.33 1486.25 2299.25 1481.67 Q2296.19 1477.06 2296.19 1468.33 Q2296.19 1459.58 2299.25 1455 Q2302.33 1450.39 2308.14 1450.39 Z\" fill=\"#000000\" fill-rule=\"evenodd\" fill-opacity=\"1\" /><path clip-path=\"url(#clip700)\" d=\"M1300.21 1522.27 L1300.21 1532.4 L1312.27 1532.4 L1312.27 1536.95 L1300.21 1536.95 L1300.21 1556.3 Q1300.21 1560.66 1301.39 1561.9 Q1302.6 1563.14 1306.26 1563.14 L1312.27 1563.14 L1312.27 1568.04 L1306.26 1568.04 Q1299.48 1568.04 1296.9 1565.53 Q1294.32 1562.98 1294.32 1556.3 L1294.32 1536.95 L1290.02 1536.95 L1290.02 1532.4 L1294.32 1532.4 L1294.32 1522.27 L1300.21 1522.27 Z\" fill=\"#000000\" fill-rule=\"evenodd\" fill-opacity=\"1\" /><polyline clip-path=\"url(#clip702)\" style=\"stroke:#000000; stroke-linecap:butt; stroke-linejoin:round; stroke-width:2; stroke-opacity:0.1; fill:none\" points=\"\n",
       "  249.542,1266.52 2352.76,1266.52 \n",
       "  \"/>\n",
       "<polyline clip-path=\"url(#clip702)\" style=\"stroke:#000000; stroke-linecap:butt; stroke-linejoin:round; stroke-width:2; stroke-opacity:0.1; fill:none\" points=\"\n",
       "  249.542,989.679 2352.76,989.679 \n",
       "  \"/>\n",
       "<polyline clip-path=\"url(#clip702)\" style=\"stroke:#000000; stroke-linecap:butt; stroke-linejoin:round; stroke-width:2; stroke-opacity:0.1; fill:none\" points=\"\n",
       "  249.542,712.834 2352.76,712.834 \n",
       "  \"/>\n",
       "<polyline clip-path=\"url(#clip702)\" style=\"stroke:#000000; stroke-linecap:butt; stroke-linejoin:round; stroke-width:2; stroke-opacity:0.1; fill:none\" points=\"\n",
       "  249.542,435.989 2352.76,435.989 \n",
       "  \"/>\n",
       "<polyline clip-path=\"url(#clip702)\" style=\"stroke:#000000; stroke-linecap:butt; stroke-linejoin:round; stroke-width:2; stroke-opacity:0.1; fill:none\" points=\"\n",
       "  249.542,159.143 2352.76,159.143 \n",
       "  \"/>\n",
       "<polyline clip-path=\"url(#clip700)\" style=\"stroke:#000000; stroke-linecap:butt; stroke-linejoin:round; stroke-width:4; stroke-opacity:1; fill:none\" points=\"\n",
       "  249.542,1423.18 249.542,123.472 \n",
       "  \"/>\n",
       "<polyline clip-path=\"url(#clip700)\" style=\"stroke:#000000; stroke-linecap:butt; stroke-linejoin:round; stroke-width:4; stroke-opacity:1; fill:none\" points=\"\n",
       "  249.542,1266.52 268.44,1266.52 \n",
       "  \"/>\n",
       "<polyline clip-path=\"url(#clip700)\" style=\"stroke:#000000; stroke-linecap:butt; stroke-linejoin:round; stroke-width:4; stroke-opacity:1; fill:none\" points=\"\n",
       "  249.542,989.679 268.44,989.679 \n",
       "  \"/>\n",
       "<polyline clip-path=\"url(#clip700)\" style=\"stroke:#000000; stroke-linecap:butt; stroke-linejoin:round; stroke-width:4; stroke-opacity:1; fill:none\" points=\"\n",
       "  249.542,712.834 268.44,712.834 \n",
       "  \"/>\n",
       "<polyline clip-path=\"url(#clip700)\" style=\"stroke:#000000; stroke-linecap:butt; stroke-linejoin:round; stroke-width:4; stroke-opacity:1; fill:none\" points=\"\n",
       "  249.542,435.989 268.44,435.989 \n",
       "  \"/>\n",
       "<polyline clip-path=\"url(#clip700)\" style=\"stroke:#000000; stroke-linecap:butt; stroke-linejoin:round; stroke-width:4; stroke-opacity:1; fill:none\" points=\"\n",
       "  249.542,159.143 268.44,159.143 \n",
       "  \"/>\n",
       "<path clip-path=\"url(#clip700)\" d=\"M126.205 1252.32 Q122.593 1252.32 120.765 1255.89 Q118.959 1259.43 118.959 1266.56 Q118.959 1273.67 120.765 1277.23 Q122.593 1280.77 126.205 1280.77 Q129.839 1280.77 131.644 1277.23 Q133.473 1273.67 133.473 1266.56 Q133.473 1259.43 131.644 1255.89 Q129.839 1252.32 126.205 1252.32 M126.205 1248.62 Q132.015 1248.62 135.07 1253.23 Q138.149 1257.81 138.149 1266.56 Q138.149 1275.29 135.07 1279.89 Q132.015 1284.48 126.205 1284.48 Q120.394 1284.48 117.316 1279.89 Q114.26 1275.29 114.26 1266.56 Q114.26 1257.81 117.316 1253.23 Q120.394 1248.62 126.205 1248.62 Z\" fill=\"#000000\" fill-rule=\"evenodd\" fill-opacity=\"1\" /><path clip-path=\"url(#clip700)\" d=\"M146.366 1277.92 L151.251 1277.92 L151.251 1283.8 L146.366 1283.8 L146.366 1277.92 Z\" fill=\"#000000\" fill-rule=\"evenodd\" fill-opacity=\"1\" /><path clip-path=\"url(#clip700)\" d=\"M171.436 1267.39 Q168.102 1267.39 166.181 1269.17 Q164.283 1270.96 164.283 1274.08 Q164.283 1277.21 166.181 1278.99 Q168.102 1280.77 171.436 1280.77 Q174.769 1280.77 176.69 1278.99 Q178.612 1277.18 178.612 1274.08 Q178.612 1270.96 176.69 1269.17 Q174.792 1267.39 171.436 1267.39 M166.76 1265.4 Q163.751 1264.66 162.061 1262.6 Q160.394 1260.54 160.394 1257.58 Q160.394 1253.43 163.334 1251.03 Q166.297 1248.62 171.436 1248.62 Q176.598 1248.62 179.538 1251.03 Q182.477 1253.43 182.477 1257.58 Q182.477 1260.54 180.788 1262.6 Q179.121 1264.66 176.135 1265.4 Q179.514 1266.19 181.389 1268.48 Q183.288 1270.77 183.288 1274.08 Q183.288 1279.11 180.209 1281.79 Q177.153 1284.48 171.436 1284.48 Q165.718 1284.48 162.64 1281.79 Q159.584 1279.11 159.584 1274.08 Q159.584 1270.77 161.482 1268.48 Q163.38 1266.19 166.76 1265.4 M165.047 1258.02 Q165.047 1260.7 166.714 1262.21 Q168.403 1263.71 171.436 1263.71 Q174.445 1263.71 176.135 1262.21 Q177.848 1260.7 177.848 1258.02 Q177.848 1255.33 176.135 1253.83 Q174.445 1252.32 171.436 1252.32 Q168.403 1252.32 166.714 1253.83 Q165.047 1255.33 165.047 1258.02 Z\" fill=\"#000000\" fill-rule=\"evenodd\" fill-opacity=\"1\" /><path clip-path=\"url(#clip700)\" d=\"M201.598 1252.32 Q197.987 1252.32 196.158 1255.89 Q194.352 1259.43 194.352 1266.56 Q194.352 1273.67 196.158 1277.23 Q197.987 1280.77 201.598 1280.77 Q205.232 1280.77 207.037 1277.23 Q208.866 1273.67 208.866 1266.56 Q208.866 1259.43 207.037 1255.89 Q205.232 1252.32 201.598 1252.32 M201.598 1248.62 Q207.408 1248.62 210.463 1253.23 Q213.542 1257.81 213.542 1266.56 Q213.542 1275.29 210.463 1279.89 Q207.408 1284.48 201.598 1284.48 Q195.787 1284.48 192.709 1279.89 Q189.653 1275.29 189.653 1266.56 Q189.653 1257.81 192.709 1253.23 Q195.787 1248.62 201.598 1248.62 Z\" fill=\"#000000\" fill-rule=\"evenodd\" fill-opacity=\"1\" /><path clip-path=\"url(#clip700)\" d=\"M127.2 975.478 Q123.589 975.478 121.76 979.043 Q119.955 982.584 119.955 989.714 Q119.955 996.82 121.76 1000.39 Q123.589 1003.93 127.2 1003.93 Q130.834 1003.93 132.64 1000.39 Q134.468 996.82 134.468 989.714 Q134.468 982.584 132.64 979.043 Q130.834 975.478 127.2 975.478 M127.2 971.774 Q133.01 971.774 136.066 976.381 Q139.144 980.964 139.144 989.714 Q139.144 998.441 136.066 1003.05 Q133.01 1007.63 127.2 1007.63 Q121.39 1007.63 118.311 1003.05 Q115.256 998.441 115.256 989.714 Q115.256 980.964 118.311 976.381 Q121.39 971.774 127.2 971.774 Z\" fill=\"#000000\" fill-rule=\"evenodd\" fill-opacity=\"1\" /><path clip-path=\"url(#clip700)\" d=\"M147.362 1001.08 L152.246 1001.08 L152.246 1006.96 L147.362 1006.96 L147.362 1001.08 Z\" fill=\"#000000\" fill-rule=\"evenodd\" fill-opacity=\"1\" /><path clip-path=\"url(#clip700)\" d=\"M172.431 990.547 Q169.098 990.547 167.177 992.33 Q165.278 994.112 165.278 997.237 Q165.278 1000.36 167.177 1002.14 Q169.098 1003.93 172.431 1003.93 Q175.764 1003.93 177.686 1002.14 Q179.607 1000.34 179.607 997.237 Q179.607 994.112 177.686 992.33 Q175.788 990.547 172.431 990.547 M167.755 988.557 Q164.746 987.816 163.056 985.756 Q161.39 983.695 161.39 980.733 Q161.39 976.589 164.329 974.182 Q167.292 971.774 172.431 971.774 Q177.593 971.774 180.533 974.182 Q183.473 976.589 183.473 980.733 Q183.473 983.695 181.783 985.756 Q180.116 987.816 177.13 988.557 Q180.51 989.344 182.385 991.635 Q184.283 993.927 184.283 997.237 Q184.283 1002.26 181.204 1004.95 Q178.149 1007.63 172.431 1007.63 Q166.714 1007.63 163.635 1004.95 Q160.579 1002.26 160.579 997.237 Q160.579 993.927 162.477 991.635 Q164.376 989.344 167.755 988.557 M166.042 981.172 Q166.042 983.858 167.709 985.362 Q169.399 986.867 172.431 986.867 Q175.44 986.867 177.13 985.362 Q178.843 983.858 178.843 981.172 Q178.843 978.487 177.13 976.983 Q175.44 975.478 172.431 975.478 Q169.399 975.478 167.709 976.983 Q166.042 978.487 166.042 981.172 Z\" fill=\"#000000\" fill-rule=\"evenodd\" fill-opacity=\"1\" /><path clip-path=\"url(#clip700)\" d=\"M192.639 972.399 L210.996 972.399 L210.996 976.334 L196.922 976.334 L196.922 984.807 Q197.94 984.459 198.959 984.297 Q199.977 984.112 200.996 984.112 Q206.783 984.112 210.162 987.283 Q213.542 990.455 213.542 995.871 Q213.542 1001.45 210.07 1004.55 Q206.598 1007.63 200.278 1007.63 Q198.102 1007.63 195.834 1007.26 Q193.588 1006.89 191.181 1006.15 L191.181 1001.45 Q193.264 1002.58 195.487 1003.14 Q197.709 1003.7 200.186 1003.7 Q204.19 1003.7 206.528 1001.59 Q208.866 999.482 208.866 995.871 Q208.866 992.26 206.528 990.154 Q204.19 988.047 200.186 988.047 Q198.311 988.047 196.436 988.464 Q194.584 988.881 192.639 989.76 L192.639 972.399 Z\" fill=\"#000000\" fill-rule=\"evenodd\" fill-opacity=\"1\" /><path clip-path=\"url(#clip700)\" d=\"M126.205 698.633 Q122.593 698.633 120.765 702.197 Q118.959 705.739 118.959 712.869 Q118.959 719.975 120.765 723.54 Q122.593 727.082 126.205 727.082 Q129.839 727.082 131.644 723.54 Q133.473 719.975 133.473 712.869 Q133.473 705.739 131.644 702.197 Q129.839 698.633 126.205 698.633 M126.205 694.929 Q132.015 694.929 135.07 699.535 Q138.149 704.119 138.149 712.869 Q138.149 721.596 135.07 726.202 Q132.015 730.785 126.205 730.785 Q120.394 730.785 117.316 726.202 Q114.26 721.596 114.26 712.869 Q114.26 704.119 117.316 699.535 Q120.394 694.929 126.205 694.929 Z\" fill=\"#000000\" fill-rule=\"evenodd\" fill-opacity=\"1\" /><path clip-path=\"url(#clip700)\" d=\"M146.366 724.234 L151.251 724.234 L151.251 730.114 L146.366 730.114 L146.366 724.234 Z\" fill=\"#000000\" fill-rule=\"evenodd\" fill-opacity=\"1\" /><path clip-path=\"url(#clip700)\" d=\"M161.575 729.396 L161.575 725.137 Q163.334 725.97 165.14 726.41 Q166.945 726.85 168.681 726.85 Q173.311 726.85 175.741 723.748 Q178.195 720.623 178.542 714.281 Q177.2 716.271 175.139 717.336 Q173.079 718.401 170.579 718.401 Q165.394 718.401 162.362 715.276 Q159.353 712.128 159.353 706.688 Q159.353 701.364 162.501 698.147 Q165.649 694.929 170.88 694.929 Q176.876 694.929 180.024 699.535 Q183.195 704.119 183.195 712.869 Q183.195 721.04 179.306 725.924 Q175.44 730.785 168.889 730.785 Q167.13 730.785 165.325 730.438 Q163.519 730.091 161.575 729.396 M170.88 714.744 Q174.028 714.744 175.857 712.591 Q177.709 710.438 177.709 706.688 Q177.709 702.961 175.857 700.809 Q174.028 698.633 170.88 698.633 Q167.732 698.633 165.88 700.809 Q164.052 702.961 164.052 706.688 Q164.052 710.438 165.88 712.591 Q167.732 714.744 170.88 714.744 Z\" fill=\"#000000\" fill-rule=\"evenodd\" fill-opacity=\"1\" /><path clip-path=\"url(#clip700)\" d=\"M201.598 698.633 Q197.987 698.633 196.158 702.197 Q194.352 705.739 194.352 712.869 Q194.352 719.975 196.158 723.54 Q197.987 727.082 201.598 727.082 Q205.232 727.082 207.037 723.54 Q208.866 719.975 208.866 712.869 Q208.866 705.739 207.037 702.197 Q205.232 698.633 201.598 698.633 M201.598 694.929 Q207.408 694.929 210.463 699.535 Q213.542 704.119 213.542 712.869 Q213.542 721.596 210.463 726.202 Q207.408 730.785 201.598 730.785 Q195.787 730.785 192.709 726.202 Q189.653 721.596 189.653 712.869 Q189.653 704.119 192.709 699.535 Q195.787 694.929 201.598 694.929 Z\" fill=\"#000000\" fill-rule=\"evenodd\" fill-opacity=\"1\" /><path clip-path=\"url(#clip700)\" d=\"M127.2 421.787 Q123.589 421.787 121.76 425.352 Q119.955 428.894 119.955 436.023 Q119.955 443.13 121.76 446.695 Q123.589 450.236 127.2 450.236 Q130.834 450.236 132.64 446.695 Q134.468 443.13 134.468 436.023 Q134.468 428.894 132.64 425.352 Q130.834 421.787 127.2 421.787 M127.2 418.084 Q133.01 418.084 136.066 422.69 Q139.144 427.274 139.144 436.023 Q139.144 444.75 136.066 449.357 Q133.01 453.94 127.2 453.94 Q121.39 453.94 118.311 449.357 Q115.256 444.75 115.256 436.023 Q115.256 427.274 118.311 422.69 Q121.39 418.084 127.2 418.084 Z\" fill=\"#000000\" fill-rule=\"evenodd\" fill-opacity=\"1\" /><path clip-path=\"url(#clip700)\" d=\"M147.362 447.389 L152.246 447.389 L152.246 453.269 L147.362 453.269 L147.362 447.389 Z\" fill=\"#000000\" fill-rule=\"evenodd\" fill-opacity=\"1\" /><path clip-path=\"url(#clip700)\" d=\"M162.57 452.551 L162.57 448.292 Q164.329 449.125 166.135 449.565 Q167.94 450.005 169.677 450.005 Q174.306 450.005 176.737 446.903 Q179.19 443.778 179.538 437.435 Q178.195 439.426 176.135 440.491 Q174.075 441.556 171.575 441.556 Q166.39 441.556 163.357 438.431 Q160.348 435.283 160.348 429.843 Q160.348 424.519 163.496 421.301 Q166.644 418.084 171.876 418.084 Q177.871 418.084 181.019 422.69 Q184.19 427.274 184.19 436.023 Q184.19 444.195 180.301 449.079 Q176.436 453.94 169.885 453.94 Q168.126 453.94 166.32 453.593 Q164.515 453.246 162.57 452.551 M171.876 437.898 Q175.024 437.898 176.852 435.746 Q178.704 433.593 178.704 429.843 Q178.704 426.116 176.852 423.963 Q175.024 421.787 171.876 421.787 Q168.727 421.787 166.876 423.963 Q165.047 426.116 165.047 429.843 Q165.047 433.593 166.876 435.746 Q168.727 437.898 171.876 437.898 Z\" fill=\"#000000\" fill-rule=\"evenodd\" fill-opacity=\"1\" /><path clip-path=\"url(#clip700)\" d=\"M192.639 418.709 L210.996 418.709 L210.996 422.644 L196.922 422.644 L196.922 431.116 Q197.94 430.769 198.959 430.607 Q199.977 430.422 200.996 430.422 Q206.783 430.422 210.162 433.593 Q213.542 436.764 213.542 442.181 Q213.542 447.76 210.07 450.861 Q206.598 453.94 200.278 453.94 Q198.102 453.94 195.834 453.57 Q193.588 453.199 191.181 452.459 L191.181 447.76 Q193.264 448.894 195.487 449.449 Q197.709 450.005 200.186 450.005 Q204.19 450.005 206.528 447.898 Q208.866 445.792 208.866 442.181 Q208.866 438.57 206.528 436.463 Q204.19 434.357 200.186 434.357 Q198.311 434.357 196.436 434.773 Q194.584 435.19 192.639 436.07 L192.639 418.709 Z\" fill=\"#000000\" fill-rule=\"evenodd\" fill-opacity=\"1\" /><path clip-path=\"url(#clip700)\" d=\"M117.015 172.488 L124.654 172.488 L124.654 146.123 L116.343 147.789 L116.343 143.53 L124.607 141.863 L129.283 141.863 L129.283 172.488 L136.922 172.488 L136.922 176.423 L117.015 176.423 L117.015 172.488 Z\" fill=\"#000000\" fill-rule=\"evenodd\" fill-opacity=\"1\" /><path clip-path=\"url(#clip700)\" d=\"M146.366 170.544 L151.251 170.544 L151.251 176.423 L146.366 176.423 L146.366 170.544 Z\" fill=\"#000000\" fill-rule=\"evenodd\" fill-opacity=\"1\" /><path clip-path=\"url(#clip700)\" d=\"M171.436 144.942 Q167.825 144.942 165.996 148.507 Q164.19 152.049 164.19 159.178 Q164.19 166.285 165.996 169.849 Q167.825 173.391 171.436 173.391 Q175.07 173.391 176.876 169.849 Q178.704 166.285 178.704 159.178 Q178.704 152.049 176.876 148.507 Q175.07 144.942 171.436 144.942 M171.436 141.238 Q177.246 141.238 180.301 145.845 Q183.38 150.428 183.38 159.178 Q183.38 167.905 180.301 172.511 Q177.246 177.095 171.436 177.095 Q165.626 177.095 162.547 172.511 Q159.491 167.905 159.491 159.178 Q159.491 150.428 162.547 145.845 Q165.626 141.238 171.436 141.238 Z\" fill=\"#000000\" fill-rule=\"evenodd\" fill-opacity=\"1\" /><path clip-path=\"url(#clip700)\" d=\"M201.598 144.942 Q197.987 144.942 196.158 148.507 Q194.352 152.049 194.352 159.178 Q194.352 166.285 196.158 169.849 Q197.987 173.391 201.598 173.391 Q205.232 173.391 207.037 169.849 Q208.866 166.285 208.866 159.178 Q208.866 152.049 207.037 148.507 Q205.232 144.942 201.598 144.942 M201.598 141.238 Q207.408 141.238 210.463 145.845 Q213.542 150.428 213.542 159.178 Q213.542 167.905 210.463 172.511 Q207.408 177.095 201.598 177.095 Q195.787 177.095 192.709 172.511 Q189.653 167.905 189.653 159.178 Q189.653 150.428 192.709 145.845 Q195.787 141.238 201.598 141.238 Z\" fill=\"#000000\" fill-rule=\"evenodd\" fill-opacity=\"1\" /><path clip-path=\"url(#clip700)\" d=\"M22.818 866.743 L46.4666 875.464 L46.4666 857.99 L22.818 866.743 M16.4842 870.371 L16.4842 863.082 L64.0042 844.972 L64.0042 851.656 L51.8138 855.985 L51.8138 877.405 L64.0042 881.734 L64.0042 888.513 L16.4842 870.371 Z\" fill=\"#000000\" fill-rule=\"evenodd\" fill-opacity=\"1\" /><path clip-path=\"url(#clip700)\" d=\"M16.4842 838.765 L16.4842 832.304 L45.3526 832.304 Q52.9915 832.304 56.3653 829.535 Q59.7073 826.766 59.7073 820.56 Q59.7073 814.385 56.3653 811.616 Q52.9915 808.847 45.3526 808.847 L16.4842 808.847 L16.4842 802.385 L46.1484 802.385 Q55.4423 802.385 60.1847 807.001 Q64.9272 811.584 64.9272 820.56 Q64.9272 829.567 60.1847 834.182 Q55.4423 838.765 46.1484 838.765 L16.4842 838.765 Z\" fill=\"#000000\" fill-rule=\"evenodd\" fill-opacity=\"1\" /><path clip-path=\"url(#clip700)\" d=\"M41.7242 767.788 Q42.4244 765.719 44.7161 763.777 Q47.0077 761.804 51.0181 759.831 L64.0042 753.306 L64.0042 760.213 L51.8138 766.292 Q47.0395 768.647 45.48 770.875 Q43.9204 773.071 43.9204 776.891 L43.9204 783.893 L64.0042 783.893 L64.0042 790.322 L16.4842 790.322 L16.4842 775.809 Q16.4842 767.661 19.8898 763.65 Q23.2955 759.64 30.1704 759.64 Q34.6582 759.64 37.6183 761.74 Q40.5784 763.809 41.7242 767.788 M21.7677 783.893 L38.6368 783.893 L38.6368 775.809 Q38.6368 771.162 36.5043 768.806 Q34.34 766.419 30.1704 766.419 Q26.0009 766.419 23.9002 768.806 Q21.7677 771.162 21.7677 775.809 L21.7677 783.893 Z\" fill=\"#000000\" fill-rule=\"evenodd\" fill-opacity=\"1\" /><path clip-path=\"url(#clip700)\" d=\"M20.8447 725.742 Q20.8447 732.745 26.0645 736.882 Q31.2844 740.988 40.2919 740.988 Q49.2675 740.988 54.4874 736.882 Q59.7073 732.745 59.7073 725.742 Q59.7073 718.74 54.4874 714.666 Q49.2675 710.56 40.2919 710.56 Q31.2844 710.56 26.0645 714.666 Q20.8447 718.74 20.8447 725.742 M15.6248 725.742 Q15.6248 715.748 22.3406 709.764 Q29.0246 703.781 40.2919 703.781 Q51.5274 703.781 58.2432 709.764 Q64.9272 715.748 64.9272 725.742 Q64.9272 735.768 58.2432 741.784 Q51.5592 747.768 40.2919 747.768 Q29.0246 747.768 22.3406 741.784 Q15.6248 735.768 15.6248 725.742 Z\" fill=\"#000000\" fill-rule=\"evenodd\" fill-opacity=\"1\" /><path clip-path=\"url(#clip700)\" d=\"M20.1444 658.139 L26.9239 658.139 Q23.9002 661.385 22.4043 665.077 Q20.9083 668.737 20.9083 672.875 Q20.9083 681.023 25.9054 685.352 Q30.8707 689.681 40.2919 689.681 Q49.6813 689.681 54.6784 685.352 Q59.6436 681.023 59.6436 672.875 Q59.6436 668.737 58.1477 665.077 Q56.6518 661.385 53.6281 658.139 L60.3439 658.139 Q62.6355 661.512 63.7814 665.3 Q64.9272 669.056 64.9272 673.257 Q64.9272 684.047 58.3387 690.254 Q51.7183 696.46 40.2919 696.46 Q28.8336 696.46 22.2451 690.254 Q15.6248 684.047 15.6248 673.257 Q15.6248 668.992 16.7706 665.236 Q17.8846 661.449 20.1444 658.139 Z\" fill=\"#000000\" fill-rule=\"evenodd\" fill-opacity=\"1\" /><path clip-path=\"url(#clip700)\" d=\"M461.559 16.7545 L461.559 25.383 Q457.427 21.5346 452.728 19.6307 Q448.069 17.7268 442.803 17.7268 Q432.433 17.7268 426.923 24.0867 Q421.414 30.4061 421.414 42.3968 Q421.414 54.3469 426.923 60.7069 Q432.433 67.0263 442.803 67.0263 Q448.069 67.0263 452.728 65.1223 Q457.427 63.2184 461.559 59.3701 L461.559 67.9175 Q457.265 70.8341 452.444 72.2924 Q447.664 73.7508 442.317 73.7508 Q428.584 73.7508 420.685 65.3654 Q412.786 56.9395 412.786 42.3968 Q412.786 27.8135 420.685 19.4281 Q428.584 11.0023 442.317 11.0023 Q447.745 11.0023 452.525 12.4606 Q457.346 13.8784 461.559 16.7545 Z\" fill=\"#000000\" fill-rule=\"evenodd\" fill-opacity=\"1\" /><path clip-path=\"url(#clip700)\" d=\"M494.492 49.7694 Q485.459 49.7694 481.975 51.8354 Q478.491 53.9013 478.491 58.8839 Q478.491 62.8538 481.084 65.2034 Q483.717 67.5124 488.214 67.5124 Q494.411 67.5124 498.138 63.1374 Q501.906 58.7219 501.906 51.4303 L501.906 49.7694 L494.492 49.7694 M509.359 46.6907 L509.359 72.576 L501.906 72.576 L501.906 65.6895 Q499.353 69.8214 495.546 71.8063 Q491.738 73.7508 486.229 73.7508 Q479.261 73.7508 475.129 69.8619 Q471.038 65.9325 471.038 59.3701 Q471.038 51.7138 476.142 47.825 Q481.286 43.9361 491.454 43.9361 L501.906 43.9361 L501.906 43.2069 Q501.906 38.0623 498.503 35.2672 Q495.141 32.4315 489.024 32.4315 Q485.135 32.4315 481.449 33.3632 Q477.762 34.295 474.359 36.1584 L474.359 29.2718 Q478.451 27.692 482.299 26.9223 Q486.148 26.1121 489.793 26.1121 Q499.637 26.1121 504.498 31.2163 Q509.359 36.3204 509.359 46.6907 Z\" fill=\"#000000\" fill-rule=\"evenodd\" fill-opacity=\"1\" /><path clip-path=\"url(#clip700)\" d=\"M523.942 54.671 L523.942 27.2059 L531.396 27.2059 L531.396 54.3874 Q531.396 60.8284 533.908 64.0691 Q536.419 67.2693 541.442 67.2693 Q547.478 67.2693 550.962 63.421 Q554.486 59.5726 554.486 52.9291 L554.486 27.2059 L561.94 27.2059 L561.94 72.576 L554.486 72.576 L554.486 65.6084 Q551.772 69.7404 548.167 71.7658 Q544.602 73.7508 539.863 73.7508 Q532.044 73.7508 527.993 68.8897 Q523.942 64.0286 523.942 54.671 M542.698 26.1121 L542.698 26.1121 Z\" fill=\"#000000\" fill-rule=\"evenodd\" fill-opacity=\"1\" /><path clip-path=\"url(#clip700)\" d=\"M606.216 28.5427 L606.216 35.5912 Q603.057 33.9709 599.654 33.1607 Q596.251 32.3505 592.605 32.3505 Q587.056 32.3505 584.26 34.0519 Q581.506 35.7533 581.506 39.156 Q581.506 41.7486 583.491 43.2475 Q585.476 44.7058 591.471 46.0426 L594.023 46.6097 Q601.963 48.3111 605.285 51.4303 Q608.647 54.509 608.647 60.0587 Q608.647 66.3781 603.624 70.0644 Q598.641 73.7508 589.891 73.7508 Q586.245 73.7508 582.276 73.0216 Q578.346 72.3329 573.971 70.9151 L573.971 63.2184 Q578.103 65.3654 582.113 66.4591 Q586.124 67.5124 590.053 67.5124 Q595.319 67.5124 598.155 65.73 Q600.991 63.9071 600.991 60.6258 Q600.991 57.5877 598.925 55.9673 Q596.899 54.3469 589.972 52.8481 L587.38 52.2405 Q580.453 50.7821 577.374 47.7845 Q574.295 44.7463 574.295 39.4801 Q574.295 33.0797 578.832 29.5959 Q583.369 26.1121 591.714 26.1121 Q595.846 26.1121 599.492 26.7198 Q603.138 27.3274 606.216 28.5427 Z\" fill=\"#000000\" fill-rule=\"evenodd\" fill-opacity=\"1\" /><path clip-path=\"url(#clip700)\" d=\"M641.135 49.7694 Q632.102 49.7694 628.618 51.8354 Q625.134 53.9013 625.134 58.8839 Q625.134 62.8538 627.727 65.2034 Q630.36 67.5124 634.856 67.5124 Q641.054 67.5124 644.781 63.1374 Q648.548 58.7219 648.548 51.4303 L648.548 49.7694 L641.135 49.7694 M656.002 46.6907 L656.002 72.576 L648.548 72.576 L648.548 65.6895 Q645.996 69.8214 642.188 71.8063 Q638.381 73.7508 632.871 73.7508 Q625.904 73.7508 621.772 69.8619 Q617.68 65.9325 617.68 59.3701 Q617.68 51.7138 622.785 47.825 Q627.929 43.9361 638.097 43.9361 L648.548 43.9361 L648.548 43.2069 Q648.548 38.0623 645.146 35.2672 Q641.783 32.4315 635.666 32.4315 Q631.778 32.4315 628.091 33.3632 Q624.405 34.295 621.002 36.1584 L621.002 29.2718 Q625.094 27.692 628.942 26.9223 Q632.79 26.1121 636.436 26.1121 Q646.28 26.1121 651.141 31.2163 Q656.002 36.3204 656.002 46.6907 Z\" fill=\"#000000\" fill-rule=\"evenodd\" fill-opacity=\"1\" /><path clip-path=\"url(#clip700)\" d=\"M671.355 9.54393 L678.809 9.54393 L678.809 72.576 L671.355 72.576 L671.355 9.54393 Z\" fill=\"#000000\" fill-rule=\"evenodd\" fill-opacity=\"1\" /><path clip-path=\"url(#clip700)\" d=\"M694.405 27.2059 L701.858 27.2059 L701.858 72.576 L694.405 72.576 L694.405 27.2059 M694.405 9.54393 L701.858 9.54393 L701.858 18.9825 L694.405 18.9825 L694.405 9.54393 Z\" fill=\"#000000\" fill-rule=\"evenodd\" fill-opacity=\"1\" /><path clip-path=\"url(#clip700)\" d=\"M724.827 14.324 L724.827 27.2059 L740.18 27.2059 L740.18 32.9987 L724.827 32.9987 L724.827 57.6282 Q724.827 63.1779 726.326 64.7578 Q727.865 66.3376 732.524 66.3376 L740.18 66.3376 L740.18 72.576 L732.524 72.576 Q723.895 72.576 720.614 69.3758 Q717.333 66.1351 717.333 57.6282 L717.333 32.9987 L711.864 32.9987 L711.864 27.2059 L717.333 27.2059 L717.333 14.324 L724.827 14.324 Z\" fill=\"#000000\" fill-rule=\"evenodd\" fill-opacity=\"1\" /><path clip-path=\"url(#clip700)\" d=\"M768.86 76.7889 Q765.7 84.8907 762.703 87.3618 Q759.705 89.8329 754.682 89.8329 L748.727 89.8329 L748.727 83.5945 L753.102 83.5945 Q756.181 83.5945 757.882 82.1361 Q759.584 80.6778 761.65 75.2496 L762.986 71.8468 L744.636 27.2059 L752.535 27.2059 L766.713 62.6918 L780.891 27.2059 L788.791 27.2059 L768.86 76.7889 Z\" fill=\"#000000\" fill-rule=\"evenodd\" fill-opacity=\"1\" /><path clip-path=\"url(#clip700)\" d=\"M841.371 72.576 L818.281 12.096 L826.829 12.096 L845.989 63.0159 L865.191 12.096 L873.698 12.096 L850.648 72.576 L841.371 72.576 Z\" fill=\"#000000\" fill-rule=\"evenodd\" fill-opacity=\"1\" /><path clip-path=\"url(#clip700)\" d=\"M918.784 14.0809 L918.784 22.0612 Q914.126 19.8332 909.994 18.7395 Q905.862 17.6457 902.013 17.6457 Q895.329 17.6457 891.684 20.2383 Q888.078 22.8309 888.078 27.611 Q888.078 31.6214 890.468 33.6873 Q892.899 35.7128 899.623 36.9686 L904.565 37.9813 Q913.72 39.7232 918.055 44.1387 Q922.43 48.5136 922.43 55.8863 Q922.43 64.6767 916.516 69.2137 Q910.642 73.7508 899.259 73.7508 Q894.965 73.7508 890.104 72.7785 Q885.283 71.8063 880.098 69.9024 L880.098 61.4765 Q885.081 64.2716 889.861 65.6895 Q894.641 67.1073 899.259 67.1073 Q906.267 67.1073 910.075 64.3527 Q913.883 61.598 913.883 56.4939 Q913.883 52.0379 911.128 49.5264 Q908.414 47.0148 902.175 45.759 L897.193 44.7868 Q888.038 42.9639 883.946 39.075 Q879.855 35.1862 879.855 28.2591 Q879.855 20.2383 885.486 15.6203 Q891.157 11.0023 901.082 11.0023 Q905.335 11.0023 909.751 11.7719 Q914.166 12.5416 918.784 14.0809 Z\" fill=\"#000000\" fill-rule=\"evenodd\" fill-opacity=\"1\" /><path clip-path=\"url(#clip700)\" d=\"M997.817 14.0809 L997.817 22.0612 Q993.159 19.8332 989.027 18.7395 Q984.895 17.6457 981.047 17.6457 Q974.363 17.6457 970.717 20.2383 Q967.111 22.8309 967.111 27.611 Q967.111 31.6214 969.501 33.6873 Q971.932 35.7128 978.656 36.9686 L983.599 37.9813 Q992.754 39.7232 997.088 44.1387 Q1001.46 48.5136 1001.46 55.8863 Q1001.46 64.6767 995.549 69.2137 Q989.675 73.7508 978.292 73.7508 Q973.998 73.7508 969.137 72.7785 Q964.316 71.8063 959.131 69.9024 L959.131 61.4765 Q964.114 64.2716 968.894 65.6895 Q973.674 67.1073 978.292 67.1073 Q985.3 67.1073 989.108 64.3527 Q992.916 61.598 992.916 56.4939 Q992.916 52.0379 990.161 49.5264 Q987.447 47.0148 981.209 45.759 L976.226 44.7868 Q967.071 42.9639 962.979 39.075 Q958.888 35.1862 958.888 28.2591 Q958.888 20.2383 964.519 15.6203 Q970.19 11.0023 980.115 11.0023 Q984.368 11.0023 988.784 11.7719 Q993.199 12.5416 997.817 14.0809 Z\" fill=\"#000000\" fill-rule=\"evenodd\" fill-opacity=\"1\" /><path clip-path=\"url(#clip700)\" d=\"M1013.9 27.2059 L1021.35 27.2059 L1021.35 72.576 L1013.9 72.576 L1013.9 27.2059 M1013.9 9.54393 L1021.35 9.54393 L1021.35 18.9825 L1013.9 18.9825 L1013.9 9.54393 Z\" fill=\"#000000\" fill-rule=\"evenodd\" fill-opacity=\"1\" /><path clip-path=\"url(#clip700)\" d=\"M1069.52 49.9314 Q1069.52 41.7081 1066.12 37.0496 Q1062.75 32.3505 1056.84 32.3505 Q1050.92 32.3505 1047.52 37.0496 Q1044.16 41.7081 1044.16 49.9314 Q1044.16 58.1548 1047.52 62.8538 Q1050.92 67.5124 1056.84 67.5124 Q1062.75 67.5124 1066.12 62.8538 Q1069.52 58.1548 1069.52 49.9314 M1044.16 34.0924 Q1046.51 30.0415 1050.07 28.0971 Q1053.68 26.1121 1058.66 26.1121 Q1066.93 26.1121 1072.07 32.6746 Q1077.26 39.2371 1077.26 49.9314 Q1077.26 60.6258 1072.07 67.1883 Q1066.93 73.7508 1058.66 73.7508 Q1053.68 73.7508 1050.07 71.8063 Q1046.51 69.8214 1044.16 65.7705 L1044.16 72.576 L1036.67 72.576 L1036.67 9.54393 L1044.16 9.54393 L1044.16 34.0924 Z\" fill=\"#000000\" fill-rule=\"evenodd\" fill-opacity=\"1\" /><path clip-path=\"url(#clip700)\" d=\"M1136.52 20.1573 L1125.42 50.2555 L1147.66 50.2555 L1136.52 20.1573 M1131.9 12.096 L1141.18 12.096 L1164.23 72.576 L1155.72 72.576 L1150.21 57.061 L1122.95 57.061 L1117.44 72.576 L1108.81 72.576 L1131.9 12.096 Z\" fill=\"#000000\" fill-rule=\"evenodd\" fill-opacity=\"1\" /><path clip-path=\"url(#clip700)\" d=\"M1172.13 12.096 L1180.35 12.096 L1180.35 48.8377 Q1180.35 58.5599 1183.88 62.8538 Q1187.4 67.1073 1195.3 67.1073 Q1203.16 67.1073 1206.68 62.8538 Q1210.21 58.5599 1210.21 48.8377 L1210.21 12.096 L1218.43 12.096 L1218.43 49.8504 Q1218.43 61.6791 1212.56 67.7149 Q1206.72 73.7508 1195.3 73.7508 Q1183.83 73.7508 1177.96 67.7149 Q1172.13 61.6791 1172.13 49.8504 L1172.13 12.096 Z\" fill=\"#000000\" fill-rule=\"evenodd\" fill-opacity=\"1\" /><path clip-path=\"url(#clip700)\" d=\"M1262.46 44.2197 Q1265.1 45.1109 1267.57 48.0275 Q1270.08 50.9442 1272.59 56.0483 L1280.89 72.576 L1272.1 72.576 L1264.37 57.061 Q1261.37 50.9847 1258.53 48.9997 Q1255.74 47.0148 1250.88 47.0148 L1241.97 47.0148 L1241.97 72.576 L1233.78 72.576 L1233.78 12.096 L1252.25 12.096 Q1262.62 12.096 1267.73 16.4305 Q1272.83 20.7649 1272.83 29.5149 Q1272.83 35.2267 1270.16 38.994 Q1267.53 42.7613 1262.46 44.2197 M1241.97 18.8205 L1241.97 40.2903 L1252.25 40.2903 Q1258.17 40.2903 1261.17 37.5762 Q1264.2 34.8216 1264.2 29.5149 Q1264.2 24.2082 1261.17 21.5346 Q1258.17 18.8205 1252.25 18.8205 L1241.97 18.8205 Z\" fill=\"#000000\" fill-rule=\"evenodd\" fill-opacity=\"1\" /><path clip-path=\"url(#clip700)\" d=\"M1315.98 17.6457 Q1307.06 17.6457 1301.8 24.2892 Q1296.57 30.9327 1296.57 42.3968 Q1296.57 53.8203 1301.8 60.4638 Q1307.06 67.1073 1315.98 67.1073 Q1324.89 67.1073 1330.07 60.4638 Q1335.3 53.8203 1335.3 42.3968 Q1335.3 30.9327 1330.07 24.2892 Q1324.89 17.6457 1315.98 17.6457 M1315.98 11.0023 Q1328.7 11.0023 1336.31 19.5497 Q1343.93 28.0566 1343.93 42.3968 Q1343.93 56.6965 1336.31 65.2439 Q1328.7 73.7508 1315.98 73.7508 Q1303.21 73.7508 1295.56 65.2439 Q1287.94 56.737 1287.94 42.3968 Q1287.94 28.0566 1295.56 19.5497 Q1303.21 11.0023 1315.98 11.0023 Z\" fill=\"#000000\" fill-rule=\"evenodd\" fill-opacity=\"1\" /><path clip-path=\"url(#clip700)\" d=\"M1402.02 16.7545 L1402.02 25.383 Q1397.88 21.5346 1393.19 19.6307 Q1388.53 17.7268 1383.26 17.7268 Q1372.89 17.7268 1367.38 24.0867 Q1361.87 30.4061 1361.87 42.3968 Q1361.87 54.3469 1367.38 60.7069 Q1372.89 67.0263 1383.26 67.0263 Q1388.53 67.0263 1393.19 65.1223 Q1397.88 63.2184 1402.02 59.3701 L1402.02 67.9175 Q1397.72 70.8341 1392.9 72.2924 Q1388.12 73.7508 1382.77 73.7508 Q1369.04 73.7508 1361.14 65.3654 Q1353.24 56.9395 1353.24 42.3968 Q1353.24 27.8135 1361.14 19.4281 Q1369.04 11.0023 1382.77 11.0023 Q1388.2 11.0023 1392.98 12.4606 Q1397.8 13.8784 1402.02 16.7545 Z\" fill=\"#000000\" fill-rule=\"evenodd\" fill-opacity=\"1\" /><path clip-path=\"url(#clip700)\" d=\"M1440.7 27.2059 L1448.16 27.2059 L1448.16 72.576 L1440.7 72.576 L1440.7 27.2059 M1440.7 9.54393 L1448.16 9.54393 L1448.16 18.9825 L1440.7 18.9825 L1440.7 9.54393 Z\" fill=\"#000000\" fill-rule=\"evenodd\" fill-opacity=\"1\" /><path clip-path=\"url(#clip700)\" d=\"M1501.47 45.1919 L1501.47 72.576 L1494.01 72.576 L1494.01 45.4349 Q1494.01 38.994 1491.5 35.7938 Q1488.99 32.5936 1483.97 32.5936 Q1477.93 32.5936 1474.45 36.4419 Q1470.96 40.2903 1470.96 46.9338 L1470.96 72.576 L1463.47 72.576 L1463.47 27.2059 L1470.96 27.2059 L1470.96 34.2544 Q1473.64 30.163 1477.24 28.1376 Q1480.89 26.1121 1485.63 26.1121 Q1493.45 26.1121 1497.46 30.9732 Q1501.47 35.7938 1501.47 45.1919 Z\" fill=\"#000000\" fill-rule=\"evenodd\" fill-opacity=\"1\" /><path clip-path=\"url(#clip700)\" d=\"M1565.67 9.54393 L1565.67 15.7418 L1558.54 15.7418 Q1554.53 15.7418 1552.95 17.3622 Q1551.41 18.9825 1551.41 23.1955 L1551.41 27.2059 L1563.69 27.2059 L1563.69 32.9987 L1551.41 32.9987 L1551.41 72.576 L1543.92 72.576 L1543.92 32.9987 L1536.79 32.9987 L1536.79 27.2059 L1543.92 27.2059 L1543.92 24.0462 Q1543.92 16.471 1547.44 13.0277 Q1550.97 9.54393 1558.62 9.54393 L1565.67 9.54393 Z\" fill=\"#000000\" fill-rule=\"evenodd\" fill-opacity=\"1\" /><path clip-path=\"url(#clip700)\" d=\"M1571.14 54.671 L1571.14 27.2059 L1578.6 27.2059 L1578.6 54.3874 Q1578.6 60.8284 1581.11 64.0691 Q1583.62 67.2693 1588.64 67.2693 Q1594.68 67.2693 1598.16 63.421 Q1601.69 59.5726 1601.69 52.9291 L1601.69 27.2059 L1609.14 27.2059 L1609.14 72.576 L1601.69 72.576 L1601.69 65.6084 Q1598.97 69.7404 1595.37 71.7658 Q1591.8 73.7508 1587.06 73.7508 Q1579.24 73.7508 1575.19 68.8897 Q1571.14 64.0286 1571.14 54.671 M1589.9 26.1121 L1589.9 26.1121 Z\" fill=\"#000000\" fill-rule=\"evenodd\" fill-opacity=\"1\" /><path clip-path=\"url(#clip700)\" d=\"M1662.21 45.1919 L1662.21 72.576 L1654.75 72.576 L1654.75 45.4349 Q1654.75 38.994 1652.24 35.7938 Q1649.73 32.5936 1644.71 32.5936 Q1638.67 32.5936 1635.19 36.4419 Q1631.7 40.2903 1631.7 46.9338 L1631.7 72.576 L1624.21 72.576 L1624.21 27.2059 L1631.7 27.2059 L1631.7 34.2544 Q1634.38 30.163 1637.98 28.1376 Q1641.63 26.1121 1646.37 26.1121 Q1654.19 26.1121 1658.2 30.9732 Q1662.21 35.7938 1662.21 45.1919 Z\" fill=\"#000000\" fill-rule=\"evenodd\" fill-opacity=\"1\" /><path clip-path=\"url(#clip700)\" d=\"M1709.72 28.9478 L1709.72 35.9153 Q1706.56 34.1734 1703.36 33.3227 Q1700.2 32.4315 1696.96 32.4315 Q1689.71 32.4315 1685.7 37.0496 Q1681.69 41.6271 1681.69 49.9314 Q1681.69 58.2358 1685.7 62.8538 Q1689.71 67.4314 1696.96 67.4314 Q1700.2 67.4314 1703.36 66.5807 Q1706.56 65.6895 1709.72 63.9476 L1709.72 70.8341 Q1706.6 72.2924 1703.24 73.0216 Q1699.92 73.7508 1696.15 73.7508 Q1685.9 73.7508 1679.87 67.3098 Q1673.83 60.8689 1673.83 49.9314 Q1673.83 38.832 1679.91 32.472 Q1686.03 26.1121 1696.64 26.1121 Q1700.08 26.1121 1703.36 26.8413 Q1706.64 27.5299 1709.72 28.9478 Z\" fill=\"#000000\" fill-rule=\"evenodd\" fill-opacity=\"1\" /><path clip-path=\"url(#clip700)\" d=\"M1730.06 14.324 L1730.06 27.2059 L1745.41 27.2059 L1745.41 32.9987 L1730.06 32.9987 L1730.06 57.6282 Q1730.06 63.1779 1731.56 64.7578 Q1733.1 66.3376 1737.76 66.3376 L1745.41 66.3376 L1745.41 72.576 L1737.76 72.576 Q1729.13 72.576 1725.85 69.3758 Q1722.56 66.1351 1722.56 57.6282 L1722.56 32.9987 L1717.1 32.9987 L1717.1 27.2059 L1722.56 27.2059 L1722.56 14.324 L1730.06 14.324 Z\" fill=\"#000000\" fill-rule=\"evenodd\" fill-opacity=\"1\" /><path clip-path=\"url(#clip700)\" d=\"M1755.21 27.2059 L1762.67 27.2059 L1762.67 72.576 L1755.21 72.576 L1755.21 27.2059 M1755.21 9.54393 L1762.67 9.54393 L1762.67 18.9825 L1755.21 18.9825 L1755.21 9.54393 Z\" fill=\"#000000\" fill-rule=\"evenodd\" fill-opacity=\"1\" /><path clip-path=\"url(#clip700)\" d=\"M1795.85 32.4315 Q1789.85 32.4315 1786.37 37.1306 Q1782.88 41.7891 1782.88 49.9314 Q1782.88 58.0738 1786.33 62.7728 Q1789.81 67.4314 1795.85 67.4314 Q1801.8 67.4314 1805.28 62.7323 Q1808.77 58.0333 1808.77 49.9314 Q1808.77 41.8701 1805.28 37.1711 Q1801.8 32.4315 1795.85 32.4315 M1795.85 26.1121 Q1805.57 26.1121 1811.12 32.4315 Q1816.67 38.7509 1816.67 49.9314 Q1816.67 61.0714 1811.12 67.4314 Q1805.57 73.7508 1795.85 73.7508 Q1786.08 73.7508 1780.53 67.4314 Q1775.02 61.0714 1775.02 49.9314 Q1775.02 38.7509 1780.53 32.4315 Q1786.08 26.1121 1795.85 26.1121 Z\" fill=\"#000000\" fill-rule=\"evenodd\" fill-opacity=\"1\" /><path clip-path=\"url(#clip700)\" d=\"M1866.74 45.1919 L1866.74 72.576 L1859.28 72.576 L1859.28 45.4349 Q1859.28 38.994 1856.77 35.7938 Q1854.26 32.5936 1849.24 32.5936 Q1843.2 32.5936 1839.72 36.4419 Q1836.23 40.2903 1836.23 46.9338 L1836.23 72.576 L1828.74 72.576 L1828.74 27.2059 L1836.23 27.2059 L1836.23 34.2544 Q1838.91 30.163 1842.51 28.1376 Q1846.16 26.1121 1850.9 26.1121 Q1858.72 26.1121 1862.73 30.9732 Q1866.74 35.7938 1866.74 45.1919 Z\" fill=\"#000000\" fill-rule=\"evenodd\" fill-opacity=\"1\" /><path clip-path=\"url(#clip700)\" d=\"M1925.56 32.4315 Q1919.56 32.4315 1916.08 37.1306 Q1912.59 41.7891 1912.59 49.9314 Q1912.59 58.0738 1916.04 62.7728 Q1919.52 67.4314 1925.56 67.4314 Q1931.51 67.4314 1934.99 62.7323 Q1938.48 58.0333 1938.48 49.9314 Q1938.48 41.8701 1934.99 37.1711 Q1931.51 32.4315 1925.56 32.4315 M1925.56 26.1121 Q1935.28 26.1121 1940.83 32.4315 Q1946.38 38.7509 1946.38 49.9314 Q1946.38 61.0714 1940.83 67.4314 Q1935.28 73.7508 1925.56 73.7508 Q1915.79 73.7508 1910.24 67.4314 Q1904.73 61.0714 1904.73 49.9314 Q1904.73 38.7509 1910.24 32.4315 Q1915.79 26.1121 1925.56 26.1121 Z\" fill=\"#000000\" fill-rule=\"evenodd\" fill-opacity=\"1\" /><path clip-path=\"url(#clip700)\" d=\"M1981.7 9.54393 L1981.7 15.7418 L1974.57 15.7418 Q1970.56 15.7418 1968.98 17.3622 Q1967.44 18.9825 1967.44 23.1955 L1967.44 27.2059 L1979.72 27.2059 L1979.72 32.9987 L1967.44 32.9987 L1967.44 72.576 L1959.95 72.576 L1959.95 32.9987 L1952.82 32.9987 L1952.82 27.2059 L1959.95 27.2059 L1959.95 24.0462 Q1959.95 16.471 1963.47 13.0277 Q1967 9.54393 1974.65 9.54393 L1981.7 9.54393 Z\" fill=\"#000000\" fill-rule=\"evenodd\" fill-opacity=\"1\" /><path clip-path=\"url(#clip700)\" d=\"M2021.68 14.324 L2021.68 27.2059 L2037.04 27.2059 L2037.04 32.9987 L2021.68 32.9987 L2021.68 57.6282 Q2021.68 63.1779 2023.18 64.7578 Q2024.72 66.3376 2029.38 66.3376 L2037.04 66.3376 L2037.04 72.576 L2029.38 72.576 Q2020.75 72.576 2017.47 69.3758 Q2014.19 66.1351 2014.19 57.6282 L2014.19 32.9987 L2008.72 32.9987 L2008.72 27.2059 L2014.19 27.2059 L2014.19 14.324 L2021.68 14.324 Z\" fill=\"#000000\" fill-rule=\"evenodd\" fill-opacity=\"1\" /><path clip-path=\"url(#clip700)\" d=\"M2046.84 27.2059 L2054.29 27.2059 L2054.29 72.576 L2046.84 72.576 L2046.84 27.2059 M2046.84 9.54393 L2054.29 9.54393 L2054.29 18.9825 L2046.84 18.9825 L2046.84 9.54393 Z\" fill=\"#000000\" fill-rule=\"evenodd\" fill-opacity=\"1\" /><path clip-path=\"url(#clip700)\" d=\"M2105.21 35.9153 Q2108.01 30.8922 2111.9 28.5022 Q2115.79 26.1121 2121.05 26.1121 Q2128.14 26.1121 2131.99 31.0947 Q2135.84 36.0368 2135.84 45.1919 L2135.84 72.576 L2128.34 72.576 L2128.34 45.4349 Q2128.34 38.913 2126.03 35.7533 Q2123.73 32.5936 2118.99 32.5936 Q2113.19 32.5936 2109.83 36.4419 Q2106.47 40.2903 2106.47 46.9338 L2106.47 72.576 L2098.97 72.576 L2098.97 45.4349 Q2098.97 38.8725 2096.67 35.7533 Q2094.36 32.5936 2089.54 32.5936 Q2083.82 32.5936 2080.46 36.4824 Q2077.1 40.3308 2077.1 46.9338 L2077.1 72.576 L2069.61 72.576 L2069.61 27.2059 L2077.1 27.2059 L2077.1 34.2544 Q2079.65 30.082 2083.22 28.0971 Q2086.78 26.1121 2091.68 26.1121 Q2096.63 26.1121 2100.07 28.6237 Q2103.55 31.1352 2105.21 35.9153 Z\" fill=\"#000000\" fill-rule=\"evenodd\" fill-opacity=\"1\" /><path clip-path=\"url(#clip700)\" d=\"M2189.51 48.0275 L2189.51 51.6733 L2155.24 51.6733 Q2155.73 59.3701 2159.86 63.421 Q2164.03 67.4314 2171.45 67.4314 Q2175.74 67.4314 2179.75 66.3781 Q2183.8 65.3249 2187.77 63.2184 L2187.77 70.267 Q2183.76 71.9684 2179.55 72.8596 Q2175.33 73.7508 2171 73.7508 Q2160.14 73.7508 2153.78 67.4314 Q2147.46 61.1119 2147.46 50.3365 Q2147.46 39.1965 2153.46 32.6746 Q2159.5 26.1121 2169.7 26.1121 Q2178.86 26.1121 2184.17 32.0264 Q2189.51 37.9003 2189.51 48.0275 M2182.06 45.84 Q2181.98 39.7232 2178.62 36.0774 Q2175.29 32.4315 2169.78 32.4315 Q2163.55 32.4315 2159.78 35.9558 Q2156.05 39.4801 2155.48 45.8805 L2182.06 45.84 Z\" fill=\"#000000\" fill-rule=\"evenodd\" fill-opacity=\"1\" /><circle clip-path=\"url(#clip702)\" cx=\"309.067\" cy=\"1310.29\" r=\"14\" fill=\"#009af9\" fill-rule=\"evenodd\" fill-opacity=\"1\" stroke=\"#000000\" stroke-opacity=\"1\" stroke-width=\"3.2\"/>\n",
       "<circle clip-path=\"url(#clip702)\" cx=\"413.497\" cy=\"1386.4\" r=\"14\" fill=\"#009af9\" fill-rule=\"evenodd\" fill-opacity=\"1\" stroke=\"#000000\" stroke-opacity=\"1\" stroke-width=\"3.2\"/>\n",
       "<circle clip-path=\"url(#clip702)\" cx=\"517.926\" cy=\"1222.81\" r=\"14\" fill=\"#009af9\" fill-rule=\"evenodd\" fill-opacity=\"1\" stroke=\"#000000\" stroke-opacity=\"1\" stroke-width=\"3.2\"/>\n",
       "<circle clip-path=\"url(#clip702)\" cx=\"622.356\" cy=\"893.319\" r=\"14\" fill=\"#009af9\" fill-rule=\"evenodd\" fill-opacity=\"1\" stroke=\"#000000\" stroke-opacity=\"1\" stroke-width=\"3.2\"/>\n",
       "<circle clip-path=\"url(#clip702)\" cx=\"726.786\" cy=\"862.884\" r=\"14\" fill=\"#009af9\" fill-rule=\"evenodd\" fill-opacity=\"1\" stroke=\"#000000\" stroke-opacity=\"1\" stroke-width=\"3.2\"/>\n",
       "<circle clip-path=\"url(#clip702)\" cx=\"831.215\" cy=\"749.747\" r=\"14\" fill=\"#009af9\" fill-rule=\"evenodd\" fill-opacity=\"1\" stroke=\"#000000\" stroke-opacity=\"1\" stroke-width=\"3.2\"/>\n",
       "<circle clip-path=\"url(#clip702)\" cx=\"935.645\" cy=\"571.324\" r=\"14\" fill=\"#009af9\" fill-rule=\"evenodd\" fill-opacity=\"1\" stroke=\"#000000\" stroke-opacity=\"1\" stroke-width=\"3.2\"/>\n",
       "<circle clip-path=\"url(#clip702)\" cx=\"1040.07\" cy=\"397.401\" r=\"14\" fill=\"#009af9\" fill-rule=\"evenodd\" fill-opacity=\"1\" stroke=\"#000000\" stroke-opacity=\"1\" stroke-width=\"3.2\"/>\n",
       "<circle clip-path=\"url(#clip702)\" cx=\"1144.5\" cy=\"312.602\" r=\"14\" fill=\"#009af9\" fill-rule=\"evenodd\" fill-opacity=\"1\" stroke=\"#000000\" stroke-opacity=\"1\" stroke-width=\"3.2\"/>\n",
       "<circle clip-path=\"url(#clip702)\" cx=\"1248.93\" cy=\"254.931\" r=\"14\" fill=\"#009af9\" fill-rule=\"evenodd\" fill-opacity=\"1\" stroke=\"#000000\" stroke-opacity=\"1\" stroke-width=\"3.2\"/>\n",
       "<circle clip-path=\"url(#clip702)\" cx=\"1353.36\" cy=\"224.029\" r=\"14\" fill=\"#009af9\" fill-rule=\"evenodd\" fill-opacity=\"1\" stroke=\"#000000\" stroke-opacity=\"1\" stroke-width=\"3.2\"/>\n",
       "<circle clip-path=\"url(#clip702)\" cx=\"1457.79\" cy=\"211.174\" r=\"14\" fill=\"#009af9\" fill-rule=\"evenodd\" fill-opacity=\"1\" stroke=\"#000000\" stroke-opacity=\"1\" stroke-width=\"3.2\"/>\n",
       "<circle clip-path=\"url(#clip702)\" cx=\"1562.22\" cy=\"202.401\" r=\"14\" fill=\"#009af9\" fill-rule=\"evenodd\" fill-opacity=\"1\" stroke=\"#000000\" stroke-opacity=\"1\" stroke-width=\"3.2\"/>\n",
       "<circle clip-path=\"url(#clip702)\" cx=\"1666.65\" cy=\"176.191\" r=\"14\" fill=\"#009af9\" fill-rule=\"evenodd\" fill-opacity=\"1\" stroke=\"#000000\" stroke-opacity=\"1\" stroke-width=\"3.2\"/>\n",
       "<circle clip-path=\"url(#clip702)\" cx=\"1771.08\" cy=\"167.028\" r=\"14\" fill=\"#009af9\" fill-rule=\"evenodd\" fill-opacity=\"1\" stroke=\"#000000\" stroke-opacity=\"1\" stroke-width=\"3.2\"/>\n",
       "<circle clip-path=\"url(#clip702)\" cx=\"1875.51\" cy=\"167.028\" r=\"14\" fill=\"#009af9\" fill-rule=\"evenodd\" fill-opacity=\"1\" stroke=\"#000000\" stroke-opacity=\"1\" stroke-width=\"3.2\"/>\n",
       "<circle clip-path=\"url(#clip702)\" cx=\"1979.94\" cy=\"163.627\" r=\"14\" fill=\"#009af9\" fill-rule=\"evenodd\" fill-opacity=\"1\" stroke=\"#000000\" stroke-opacity=\"1\" stroke-width=\"3.2\"/>\n",
       "<circle clip-path=\"url(#clip702)\" cx=\"2084.37\" cy=\"161.376\" r=\"14\" fill=\"#009af9\" fill-rule=\"evenodd\" fill-opacity=\"1\" stroke=\"#000000\" stroke-opacity=\"1\" stroke-width=\"3.2\"/>\n",
       "<circle clip-path=\"url(#clip702)\" cx=\"2188.8\" cy=\"160.256\" r=\"14\" fill=\"#009af9\" fill-rule=\"evenodd\" fill-opacity=\"1\" stroke=\"#000000\" stroke-opacity=\"1\" stroke-width=\"3.2\"/>\n",
       "<circle clip-path=\"url(#clip702)\" cx=\"2293.23\" cy=\"185.763\" r=\"14\" fill=\"#009af9\" fill-rule=\"evenodd\" fill-opacity=\"1\" stroke=\"#000000\" stroke-opacity=\"1\" stroke-width=\"3.2\"/>\n",
       "<circle clip-path=\"url(#clip702)\" cx=\"309.067\" cy=\"744.229\" r=\"14\" fill=\"#e26f46\" fill-rule=\"evenodd\" fill-opacity=\"1\" stroke=\"#000000\" stroke-opacity=\"1\" stroke-width=\"3.2\"/>\n",
       "<circle clip-path=\"url(#clip702)\" cx=\"413.497\" cy=\"882.176\" r=\"14\" fill=\"#e26f46\" fill-rule=\"evenodd\" fill-opacity=\"1\" stroke=\"#000000\" stroke-opacity=\"1\" stroke-width=\"3.2\"/>\n",
       "<circle clip-path=\"url(#clip702)\" cx=\"517.926\" cy=\"814.83\" r=\"14\" fill=\"#e26f46\" fill-rule=\"evenodd\" fill-opacity=\"1\" stroke=\"#000000\" stroke-opacity=\"1\" stroke-width=\"3.2\"/>\n",
       "<circle clip-path=\"url(#clip702)\" cx=\"622.356\" cy=\"682.404\" r=\"14\" fill=\"#e26f46\" fill-rule=\"evenodd\" fill-opacity=\"1\" stroke=\"#000000\" stroke-opacity=\"1\" stroke-width=\"3.2\"/>\n",
       "<circle clip-path=\"url(#clip702)\" cx=\"726.786\" cy=\"775.987\" r=\"14\" fill=\"#e26f46\" fill-rule=\"evenodd\" fill-opacity=\"1\" stroke=\"#000000\" stroke-opacity=\"1\" stroke-width=\"3.2\"/>\n",
       "<circle clip-path=\"url(#clip702)\" cx=\"831.215\" cy=\"770.84\" r=\"14\" fill=\"#e26f46\" fill-rule=\"evenodd\" fill-opacity=\"1\" stroke=\"#000000\" stroke-opacity=\"1\" stroke-width=\"3.2\"/>\n",
       "<circle clip-path=\"url(#clip702)\" cx=\"935.645\" cy=\"615.546\" r=\"14\" fill=\"#e26f46\" fill-rule=\"evenodd\" fill-opacity=\"1\" stroke=\"#000000\" stroke-opacity=\"1\" stroke-width=\"3.2\"/>\n",
       "<circle clip-path=\"url(#clip702)\" cx=\"1040.07\" cy=\"441.344\" r=\"14\" fill=\"#e26f46\" fill-rule=\"evenodd\" fill-opacity=\"1\" stroke=\"#000000\" stroke-opacity=\"1\" stroke-width=\"3.2\"/>\n",
       "<circle clip-path=\"url(#clip702)\" cx=\"1144.5\" cy=\"344.599\" r=\"14\" fill=\"#e26f46\" fill-rule=\"evenodd\" fill-opacity=\"1\" stroke=\"#000000\" stroke-opacity=\"1\" stroke-width=\"3.2\"/>\n",
       "<circle clip-path=\"url(#clip702)\" cx=\"1248.93\" cy=\"298.13\" r=\"14\" fill=\"#e26f46\" fill-rule=\"evenodd\" fill-opacity=\"1\" stroke=\"#000000\" stroke-opacity=\"1\" stroke-width=\"3.2\"/>\n",
       "<circle clip-path=\"url(#clip702)\" cx=\"1353.36\" cy=\"257.073\" r=\"14\" fill=\"#e26f46\" fill-rule=\"evenodd\" fill-opacity=\"1\" stroke=\"#000000\" stroke-opacity=\"1\" stroke-width=\"3.2\"/>\n",
       "<circle clip-path=\"url(#clip702)\" cx=\"1457.79\" cy=\"236.898\" r=\"14\" fill=\"#e26f46\" fill-rule=\"evenodd\" fill-opacity=\"1\" stroke=\"#000000\" stroke-opacity=\"1\" stroke-width=\"3.2\"/>\n",
       "<circle clip-path=\"url(#clip702)\" cx=\"1562.22\" cy=\"228.355\" r=\"14\" fill=\"#e26f46\" fill-rule=\"evenodd\" fill-opacity=\"1\" stroke=\"#000000\" stroke-opacity=\"1\" stroke-width=\"3.2\"/>\n",
       "<circle clip-path=\"url(#clip702)\" cx=\"1666.65\" cy=\"184.714\" r=\"14\" fill=\"#e26f46\" fill-rule=\"evenodd\" fill-opacity=\"1\" stroke=\"#000000\" stroke-opacity=\"1\" stroke-width=\"3.2\"/>\n",
       "<circle clip-path=\"url(#clip702)\" cx=\"1771.08\" cy=\"170.971\" r=\"14\" fill=\"#e26f46\" fill-rule=\"evenodd\" fill-opacity=\"1\" stroke=\"#000000\" stroke-opacity=\"1\" stroke-width=\"3.2\"/>\n",
       "<circle clip-path=\"url(#clip702)\" cx=\"1875.51\" cy=\"170.971\" r=\"14\" fill=\"#e26f46\" fill-rule=\"evenodd\" fill-opacity=\"1\" stroke=\"#000000\" stroke-opacity=\"1\" stroke-width=\"3.2\"/>\n",
       "<circle clip-path=\"url(#clip702)\" cx=\"1979.94\" cy=\"165.309\" r=\"14\" fill=\"#e26f46\" fill-rule=\"evenodd\" fill-opacity=\"1\" stroke=\"#000000\" stroke-opacity=\"1\" stroke-width=\"3.2\"/>\n",
       "<circle clip-path=\"url(#clip702)\" cx=\"2084.37\" cy=\"169.191\" r=\"14\" fill=\"#e26f46\" fill-rule=\"evenodd\" fill-opacity=\"1\" stroke=\"#000000\" stroke-opacity=\"1\" stroke-width=\"3.2\"/>\n",
       "<circle clip-path=\"url(#clip702)\" cx=\"2188.8\" cy=\"177.505\" r=\"14\" fill=\"#e26f46\" fill-rule=\"evenodd\" fill-opacity=\"1\" stroke=\"#000000\" stroke-opacity=\"1\" stroke-width=\"3.2\"/>\n",
       "<circle clip-path=\"url(#clip702)\" cx=\"2293.23\" cy=\"231.793\" r=\"14\" fill=\"#e26f46\" fill-rule=\"evenodd\" fill-opacity=\"1\" stroke=\"#000000\" stroke-opacity=\"1\" stroke-width=\"3.2\"/>\n",
       "<path clip-path=\"url(#clip700)\" d=\"\n",
       "M1894.31 322.316 L2282.65 322.316 L2282.65 166.796 L1894.31 166.796  Z\n",
       "  \" fill=\"#ffffff\" fill-rule=\"evenodd\" fill-opacity=\"1\"/>\n",
       "<polyline clip-path=\"url(#clip700)\" style=\"stroke:#000000; stroke-linecap:butt; stroke-linejoin:round; stroke-width:4; stroke-opacity:1; fill:none\" points=\"\n",
       "  1894.31,322.316 2282.65,322.316 2282.65,166.796 1894.31,166.796 1894.31,322.316 \n",
       "  \"/>\n",
       "<circle clip-path=\"url(#clip700)\" cx=\"1987.78\" cy=\"218.636\" r=\"23\" fill=\"#009af9\" fill-rule=\"evenodd\" fill-opacity=\"1\" stroke=\"#000000\" stroke-opacity=\"1\" stroke-width=\"5.12\"/>\n",
       "<path clip-path=\"url(#clip700)\" d=\"M2097.09 205.962 L2090.75 223.161 L2103.46 223.161 L2097.09 205.962 M2094.45 201.356 L2099.75 201.356 L2112.93 235.916 L2108.06 235.916 L2104.92 227.05 L2089.34 227.05 L2086.19 235.916 L2081.26 235.916 L2094.45 201.356 Z\" fill=\"#000000\" fill-rule=\"evenodd\" fill-opacity=\"1\" /><path clip-path=\"url(#clip700)\" d=\"M2117.44 201.356 L2122.14 201.356 L2122.14 222.351 Q2122.14 227.907 2124.15 230.36 Q2126.17 232.791 2130.68 232.791 Q2135.17 232.791 2137.18 230.36 Q2139.2 227.907 2139.2 222.351 L2139.2 201.356 L2143.9 201.356 L2143.9 222.93 Q2143.9 229.689 2140.54 233.138 Q2137.21 236.587 2130.68 236.587 Q2124.13 236.587 2120.77 233.138 Q2117.44 229.689 2117.44 222.93 L2117.44 201.356 Z\" fill=\"#000000\" fill-rule=\"evenodd\" fill-opacity=\"1\" /><path clip-path=\"url(#clip700)\" d=\"M2178.55 204.018 L2178.55 208.948 Q2176.19 206.749 2173.5 205.661 Q2170.84 204.573 2167.83 204.573 Q2161.91 204.573 2158.76 208.208 Q2155.61 211.819 2155.61 218.67 Q2155.61 225.499 2158.76 229.133 Q2161.91 232.744 2167.83 232.744 Q2170.84 232.744 2173.5 231.656 Q2176.19 230.569 2178.55 228.369 L2178.55 233.254 Q2176.1 234.92 2173.34 235.754 Q2170.61 236.587 2167.55 236.587 Q2159.71 236.587 2155.19 231.795 Q2150.68 226.981 2150.68 218.67 Q2150.68 210.337 2155.19 205.546 Q2159.71 200.731 2167.55 200.731 Q2170.66 200.731 2173.39 201.564 Q2176.14 202.374 2178.55 204.018 Z\" fill=\"#000000\" fill-rule=\"evenodd\" fill-opacity=\"1\" /><path clip-path=\"url(#clip700)\" d=\"M2197.37 222.883 Q2192.21 222.883 2190.22 224.064 Q2188.23 225.244 2188.23 228.092 Q2188.23 230.36 2189.71 231.703 Q2191.21 233.022 2193.78 233.022 Q2197.32 233.022 2199.45 230.522 Q2201.61 227.999 2201.61 223.832 L2201.61 222.883 L2197.37 222.883 M2205.86 221.124 L2205.86 235.916 L2201.61 235.916 L2201.61 231.981 Q2200.15 234.342 2197.97 235.476 Q2195.8 236.587 2192.65 236.587 Q2188.67 236.587 2186.3 234.365 Q2183.97 232.119 2183.97 228.369 Q2183.97 223.994 2186.88 221.772 Q2189.82 219.55 2195.63 219.55 L2201.61 219.55 L2201.61 219.133 Q2201.61 216.194 2199.66 214.596 Q2197.74 212.976 2194.24 212.976 Q2192.02 212.976 2189.92 213.508 Q2187.81 214.041 2185.86 215.106 L2185.86 211.17 Q2188.2 210.268 2190.4 209.828 Q2192.6 209.365 2194.68 209.365 Q2200.31 209.365 2203.09 212.282 Q2205.86 215.198 2205.86 221.124 Z\" fill=\"#000000\" fill-rule=\"evenodd\" fill-opacity=\"1\" /><path clip-path=\"url(#clip700)\" d=\"M2214.2 225.684 L2214.2 209.99 L2218.46 209.99 L2218.46 225.522 Q2218.46 229.203 2219.89 231.055 Q2221.33 232.883 2224.2 232.883 Q2227.65 232.883 2229.64 230.684 Q2231.65 228.485 2231.65 224.689 L2231.65 209.99 L2235.91 209.99 L2235.91 235.916 L2231.65 235.916 L2231.65 231.934 Q2230.1 234.295 2228.04 235.453 Q2226 236.587 2223.3 236.587 Q2218.83 236.587 2216.51 233.809 Q2214.2 231.031 2214.2 225.684 M2224.92 209.365 L2224.92 209.365 Z\" fill=\"#000000\" fill-rule=\"evenodd\" fill-opacity=\"1\" /><circle clip-path=\"url(#clip700)\" cx=\"1987.78\" cy=\"270.476\" r=\"23\" fill=\"#e26f46\" fill-rule=\"evenodd\" fill-opacity=\"1\" stroke=\"#000000\" stroke-opacity=\"1\" stroke-width=\"5.12\"/>\n",
       "<path clip-path=\"url(#clip700)\" d=\"M2097.09 257.802 L2090.75 275.001 L2103.46 275.001 L2097.09 257.802 M2094.45 253.196 L2099.75 253.196 L2112.93 287.756 L2108.06 287.756 L2104.92 278.89 L2089.34 278.89 L2086.19 287.756 L2081.26 287.756 L2094.45 253.196 Z\" fill=\"#000000\" fill-rule=\"evenodd\" fill-opacity=\"1\" /><path clip-path=\"url(#clip700)\" d=\"M2117.44 253.196 L2122.14 253.196 L2122.14 274.191 Q2122.14 279.747 2124.15 282.2 Q2126.17 284.631 2130.68 284.631 Q2135.17 284.631 2137.18 282.2 Q2139.2 279.747 2139.2 274.191 L2139.2 253.196 L2143.9 253.196 L2143.9 274.77 Q2143.9 281.529 2140.54 284.978 Q2137.21 288.427 2130.68 288.427 Q2124.13 288.427 2120.77 284.978 Q2117.44 281.529 2117.44 274.77 L2117.44 253.196 Z\" fill=\"#000000\" fill-rule=\"evenodd\" fill-opacity=\"1\" /><path clip-path=\"url(#clip700)\" d=\"M2169.01 262.594 L2169.01 266.622 Q2167.21 265.696 2165.26 265.233 Q2163.32 264.77 2161.24 264.77 Q2158.06 264.77 2156.47 265.742 Q2154.89 266.714 2154.89 268.659 Q2154.89 270.14 2156.03 270.997 Q2157.16 271.83 2160.59 272.594 L2162.05 272.918 Q2166.58 273.89 2168.48 275.672 Q2170.4 277.432 2170.4 280.603 Q2170.4 284.214 2167.53 286.321 Q2164.68 288.427 2159.68 288.427 Q2157.6 288.427 2155.33 288.01 Q2153.09 287.617 2150.59 286.807 L2150.59 282.409 Q2152.95 283.635 2155.24 284.26 Q2157.53 284.862 2159.78 284.862 Q2162.79 284.862 2164.41 283.844 Q2166.03 282.802 2166.03 280.927 Q2166.03 279.191 2164.85 278.265 Q2163.69 277.339 2159.73 276.483 L2158.25 276.135 Q2154.29 275.302 2152.53 273.589 Q2150.77 271.853 2150.77 268.844 Q2150.77 265.186 2153.36 263.196 Q2155.96 261.205 2160.73 261.205 Q2163.09 261.205 2165.17 261.552 Q2167.25 261.899 2169.01 262.594 Z\" fill=\"#000000\" fill-rule=\"evenodd\" fill-opacity=\"1\" /><path clip-path=\"url(#clip700)\" d=\"M2177.18 261.83 L2181.44 261.83 L2181.44 287.756 L2177.18 287.756 L2177.18 261.83 M2177.18 251.737 L2181.44 251.737 L2181.44 257.131 L2177.18 257.131 L2177.18 251.737 Z\" fill=\"#000000\" fill-rule=\"evenodd\" fill-opacity=\"1\" /><path clip-path=\"url(#clip700)\" d=\"M2208.97 274.816 Q2208.97 270.117 2207.02 267.455 Q2205.1 264.77 2201.72 264.77 Q2198.34 264.77 2196.4 267.455 Q2194.48 270.117 2194.48 274.816 Q2194.48 279.515 2196.4 282.2 Q2198.34 284.862 2201.72 284.862 Q2205.1 284.862 2207.02 282.2 Q2208.97 279.515 2208.97 274.816 M2194.48 265.765 Q2195.82 263.45 2197.86 262.339 Q2199.92 261.205 2202.76 261.205 Q2207.48 261.205 2210.42 264.955 Q2213.39 268.705 2213.39 274.816 Q2213.39 280.927 2210.42 284.677 Q2207.48 288.427 2202.76 288.427 Q2199.92 288.427 2197.86 287.316 Q2195.82 286.182 2194.48 283.867 L2194.48 287.756 L2190.19 287.756 L2190.19 251.737 L2194.48 251.737 L2194.48 265.765 Z\" fill=\"#000000\" fill-rule=\"evenodd\" fill-opacity=\"1\" /></svg>\n"
      ]
     },
     "execution_count": 72,
     "metadata": {},
     "output_type": "execute_result"
    }
   ],
   "source": [
    "#AUROC curves\n",
    "\n",
    "T = Int(T)\n",
    "AU_curve=zeros(T)\n",
    "AU_fast=zeros(T)\n",
    "AU_sib=zeros(T)\n",
    "for t = 1:T\n",
    "    cau_risk=zeros(N)\n",
    "    fast_risk=zeros(N)\n",
    "    sib_risk = zeros(N)\n",
    "    for i=1:N\n",
    "       cau_risk[i] = marginal(i,t,statscau)\n",
    "       #fast_risk[i] = marginal(i,t,statscau_)\n",
    "       sib_risk[i] = p_sib[i,Int(round(t/dt))] \n",
    "    end\n",
    "    xt = xtrue .< t\n",
    "    AU_curve[t] = AUROC(ROC(xt, cau_risk))\n",
    "    #AU_fast[t]  = AUROC(ROC(xt, fast_risk))\n",
    "    AU_sib[t] = AUROC(ROC(xt, sib_risk))\n",
    "end\n",
    "\n",
    "scatter(LinRange(1,T,T),AU_curve, label=\"AUCau\", title=\"Causality VS Sib AUROC in function of time\")\n",
    "scatter!(LinRange(1,T,T), AU_sib, label=\"AUsib\")\n",
    "#plot!(LinRange(1,T,T), AU_fast, label=\"AUN2\")\n",
    "xlabel!(\"t\")\n",
    "ylabel!(\"AUROC\")\n",
    "#savefig(\"confronti.pdf\")\n"
   ]
  },
  {
   "cell_type": "code",
   "execution_count": 80,
   "metadata": {},
   "outputs": [],
   "source": [
    "open(\"sib.txt\", \"a\") do io \n",
    "    for s in AU_sib\n",
    "        write(io, \"$s \")\n",
    "    end\n",
    "    write(io, \"\\n\")\n",
    "end;\n",
    "\n",
    "open(\"cau.txt\", \"a\") do io \n",
    "    for s in AU_curve\n",
    "        write(io,\"$s \")\n",
    "    end\n",
    "    write(io,\"\\n\")\n",
    "end;"
   ]
  },
  {
   "cell_type": "code",
   "execution_count": 77,
   "metadata": {},
   "outputs": [
    {
     "data": {
      "text/plain": [
       "20-element Vector{Float64}:\n",
       " 0.8943298969072165\n",
       " 0.8694158075601375\n",
       " 0.8815789473684211\n",
       " 0.9054957836580402\n",
       " 0.8885941644562335\n",
       " 0.8895238095238094\n",
       " 0.9175708257986739\n",
       " 0.9490327380952381\n",
       " 0.9665054841372803\n",
       " 0.974898236092266\n",
       " 0.9823133680555556\n",
       " 0.9859571322985957\n",
       " 0.9874999999999999\n",
       " 0.9953817733990148\n",
       " 0.9978638999084529\n",
       " 0.9978638999084529\n",
       " 0.9988865269764147\n",
       " 0.9981853009375945\n",
       " 0.9966837503768465\n",
       " 0.9868790064102565"
      ]
     },
     "execution_count": 77,
     "metadata": {},
     "output_type": "execute_result"
    }
   ],
   "source": [
    "AU_sib"
   ]
  },
  {
   "cell_type": "code",
   "execution_count": null,
   "metadata": {},
   "outputs": [],
   "source": []
  }
 ],
 "metadata": {
  "kernelspec": {
   "display_name": "Julia 1.7.0-rc2",
   "language": "julia",
   "name": "julia-1.7"
  },
  "language_info": {
   "file_extension": ".jl",
   "mimetype": "application/julia",
   "name": "julia",
   "version": "1.7.0"
  }
 },
 "nbformat": 4,
 "nbformat_minor": 4
}
