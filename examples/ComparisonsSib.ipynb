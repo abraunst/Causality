{
 "cells": [
  {
   "cell_type": "markdown",
   "metadata": {},
   "source": [
    "Continuous-time model\n",
    "---\n",
    "\n",
    "Let's order the infection times $t_{\\pi_{1}}<t_{\\pi_{2}}<\\dots<t_{\\pi_{N}}$\n",
    ". Let $\\lambda_{i}\\left(t\\right)$ be a time-dependent transmission\n",
    "rate and $L_{i}\\left(t\\right)=\\int_{0}^{t}\\lambda_{ij}\\left(s\\right)ds$\n",
    "its primitive. Then $\\rho_{i}\\left(t_i; t_j\\right)=\\lambda_{i}\\left(t_i\\right)e^{-\\int_{t_j}^{t_i}\\lambda_{i}\\left(s\\right)ds} = \\lambda_{i}\\left(t_j\\right)e^{L_{i}(t_j) - L_{i}(t_i) }$\n",
    "will be the transmission ``delay'' density distribution. "
   ]
  },
  {
   "cell_type": "markdown",
   "metadata": {},
   "source": [
    "\\begin{align*}p\\left(t_{1},\\dots,t_{N}\\right) & =\\prod_{i=1}^{N}\\lim_{ds\\to0^{+}}\\frac{\\prod_{j\\in\\partial i:t_{j}<t_{i}}e^{L_{i}(t_{j})-L_{i}(t_{i}-ds)}-\\prod_{j\\in\\partial i:t_{j}<t_{i}}e^{L_{i}(t_{j})-L_{i}(t_{i})}}{ds}\\\\\n",
    " & =\\prod_{i=1}^{N}\\frac{d}{ds}_{|s=0}\\prod_{j\\in\\partial i:t_{j}<t_{i}}e^{L_{i}(t_{j})-L_{i}(t_{i}-ds)}\\\\\n",
    " & =\\prod_{i=1}^{N}\\left\\{ \\left(\\prod_{j\\in\\partial i:t_{j}<t_{i}}e^{L_{i}(t_{j})-L_{i}(t_{i})}\\right)\\sum_{j\\in\\partial i:t_{j}<t_{i}}\\lambda_{i}\\left(t_{i}\\right)\\right\\} \\\\\n",
    "\\mathcal{L}_{0}\\left(t_{1},\\dots,t_{N}\\right) & =\\log p\\left(t_{1},\\dots,t_{N}\\right)\\\\\n",
    " & =-\\sum_{i=1}^{N}\\left\\{ \\sum_{j\\in\\partial i:t_{j}<t_{i}}\\left(L_{i}(t_{i})-L_{i}(t_{j})\\right)-\\log\\left(\\sum_{j\\in\\partial i:t_{j}<t_{i}}\\lambda_{i}\\left(t_{i}\\right)\\right)\\right\\} \n",
    "\\end{align*}"
   ]
  },
  {
   "cell_type": "markdown",
   "metadata": {},
   "source": [
    "Note that $$\\int_{t_j}^{t_i} \\rho_{i}(s; t_j) ds = 1-e^{-\\left(L_{i}(t_i) - L_{i}(t_j)\\right)}$$ so $$\\lambda_{i}(t) = -\\frac{d}{dt}\\log \\left(1-\\int_{t_j}^{t_i} \\rho_{i}(s) ds\\right)$$"
   ]
  },
  {
   "cell_type": "markdown",
   "metadata": {},
   "source": [
    "\n",
    "\\begin{align}\\lambda(t) & =ae^{-\\left(\\frac{t-b}{c}\\right)^{2}}\\\\\n",
    "\\frac{x-b}{c} & =\\frac{y}{\\sqrt{2}}\\\\\n",
    "dx & =\\frac{c}{\\sqrt{2}}dy\\\\\n",
    "L(t)=\\int_{0}^{t}ae^{-\\left(\\frac{x-b}{c}\\right)^{2}}dx & = ac\\int_{\\frac{0-b}{c}}^{\\frac{t-b}{c}}e^{-y^{2}}dy\\\\\n",
    " & =ac\\sqrt{\\pi}\\frac{1}{\\sqrt{\\pi}}\\int_{-\\frac{b}{c}}^{\\frac{t-b}{c}}e^{-y^{2}}dy\\\\\n",
    " & =\\frac{ac\\sqrt{\\pi}}{2}\\left(\\mathrm{erfc}\\left(-\\frac{t-b}{c}\\right)-\\mathrm{erfc}\\left(\\frac{b}{c}\\right)\\right)\\\\\n",
    "\\rho_{i}\\left(t_{i};t_{j}\\right) & =\\lambda_{i}\\left(t_{i}\\right)e^{-\\int_{t_{j}}^{t_{i}}\\lambda_{i}\\left(s\\right)ds}=\\lambda_{i}\\left(t_{i}\\right)e^{L_{i}(t_{j})-L_{i}(t_{i})}\\\\\n",
    "\\frac{d}{ds}-e^{L_{i}(t_{j})-L_{i}(s)} & =\\lambda\\left(s\\right)e^{L_{i}(t_{j})-L_{i}(s)}=\\rho_{i}\\left(s;t_{j}\\right)\\\\\n",
    "\\end{align}"
   ]
  },
  {
   "cell_type": "markdown",
   "metadata": {},
   "source": [
    "Sampling \n",
    "---\n",
    "\\begin{align}\n",
    "\\int_{t_{j}}^{t}\\rho(s;t_{j})ds & =1-e^{L_{i}(t_{j})-L_{i}(t)}=1-r\\sim U(0,1)\\\\\n",
    "e^{L_{i}(t_{j})-L_{i}(t)} & =r\\\\\n",
    "L_{i}(t) & =L_{i}\\left(t_{j}\\right)-\\log(r)\\\\\n",
    "\\mathrm{erfc}\\left(-\\frac{t-b}{c}\\right) & =\\frac{2}{ac\\sqrt{\\pi}}\\left(L_{i}\\left(t_{j}\\right)-\\log(r)\\right)+\\mathrm{erfc}\\left(\\frac{b}{c}\\right)\\\\\n",
    "t & =-c\\,\\mathrm{ierfc}\\left(\\frac{2}{ac\\sqrt{\\pi}}\\left(L_{i}\\left(t_{j}\\right)-\\log(r)\\right)+\\mathrm{erfc}\\left(\\frac{b}{c}\\right)\\right)+b\n",
    "\\end{align}"
   ]
  },
  {
   "cell_type": "code",
   "execution_count": 1,
   "metadata": {},
   "outputs": [
    {
     "data": {
      "text/plain": [
       "sibyl (generic function with 1 method)"
      ]
     },
     "execution_count": 1,
     "metadata": {},
     "output_type": "execute_result"
    }
   ],
   "source": [
    "using PyCall\n",
    "@pyimport sib\n",
    "function sibyl(N, T_cont, Λ, O, γ, λ ; dt=1/5, maxit = 400, tol = 1e-14)\n",
    "    \n",
    "    T = Int(round(T_cont / dt))\n",
    "    contacts = [(i-1,j-1,t, λ * dt) for t in 1:T for (i,j,v) in zip(findnz(Λ.A)...)];\n",
    "    obs = [[(i,-1,t) for t=1:T for i=0:N-1];\n",
    "           [(i-1,s,Int(round(t/dt))) for (i,s,t,p) in O]]\n",
    "    sort!(obs, lt=((i1,s1,t1),(i2,s2,t2))->(t1<t2))\n",
    "    prob_sus = 0.5\n",
    "    prob_seed=γ\n",
    "    pseed = prob_seed / (2 - prob_seed)\n",
    "    psus = prob_sus * (1 - pseed)\n",
    "    params = sib.Params(prob_r=sib.Exponential(mu=0), pseed=pseed, psus=psus,pautoinf=1e-10,fp_rate=1e-10,fn_rate=1e-10)\n",
    "    f = sib.FactorGraph(contacts=contacts, observations=obs, params=params)\n",
    "    sib.iterate(f, maxit=maxit,tol=tol)\n",
    "    sib.iterate(f, maxit=maxit, damping=0.5, tol=tol)\n",
    "    sib.iterate(f, maxit=maxit, damping=0.9, tol=tol)\n",
    "    p_sib=[collect(n.bt) for n in f.nodes]\n",
    "    m_sib = zeros(N, T)\n",
    "    for i=1:N\n",
    "        m_sib[i,1] = p_sib[i][1] \n",
    "        for t=2:T\n",
    "            m_sib[i,t] = m_sib[i,t-1] + p_sib[i][t]\n",
    "        end\n",
    "    end \n",
    "    return m_sib\n",
    "end\n"
   ]
  },
  {
   "cell_type": "code",
   "execution_count": 2,
   "metadata": {},
   "outputs": [
    {
     "name": "stderr",
     "output_type": "stream",
     "text": [
      "┌ Info: Precompiling Causality [943c2df0-3341-4665-8895-8aff0dd63d80]\n",
      "└ @ Base loading.jl:1423\n",
      "\u001b[33m\u001b[1m┌ \u001b[22m\u001b[39m\u001b[33m\u001b[1mWarning: \u001b[22m\u001b[39mPackage CRlibm does not have Libdl in its dependencies:\n",
      "\u001b[33m\u001b[1m│ \u001b[22m\u001b[39m- If you have CRlibm checked out for development and have\n",
      "\u001b[33m\u001b[1m│ \u001b[22m\u001b[39m  added Libdl as a dependency but haven't updated your primary\n",
      "\u001b[33m\u001b[1m│ \u001b[22m\u001b[39m  environment's manifest file, try `Pkg.resolve()`.\n",
      "\u001b[33m\u001b[1m│ \u001b[22m\u001b[39m- Otherwise you may need to report an issue with CRlibm\n",
      "\u001b[33m\u001b[1m└ \u001b[22m\u001b[39mLoading Libdl into CRlibm from project dependency, future warnings for CRlibm are suppressed.\n",
      "\u001b[33m\u001b[1m┌ \u001b[22m\u001b[39m\u001b[33m\u001b[1mWarning: \u001b[22m\u001b[39mThe call to compilecache failed to create a usable precompiled cache file for IntervalArithmetic [d1acc4aa-44c8-5952-acd4-ba5d80a2a253]\n",
      "\u001b[33m\u001b[1m│ \u001b[22m\u001b[39m  exception = Required dependency CRlibm [96374032-68de-5a5b-8d9e-752f78720389] failed to load from a cache file.\n",
      "\u001b[33m\u001b[1m└ \u001b[22m\u001b[39m\u001b[90m@ Base loading.jl:1132\u001b[39m\n",
      "\u001b[33m\u001b[1m┌ \u001b[22m\u001b[39m\u001b[33m\u001b[1mWarning: \u001b[22m\u001b[39mPackage CRlibm does not have Libdl in its dependencies:\n",
      "\u001b[33m\u001b[1m│ \u001b[22m\u001b[39m- If you have CRlibm checked out for development and have\n",
      "\u001b[33m\u001b[1m│ \u001b[22m\u001b[39m  added Libdl as a dependency but haven't updated your primary\n",
      "\u001b[33m\u001b[1m│ \u001b[22m\u001b[39m  environment's manifest file, try `Pkg.resolve()`.\n",
      "\u001b[33m\u001b[1m│ \u001b[22m\u001b[39m- Otherwise you may need to report an issue with CRlibm\n",
      "\u001b[33m\u001b[1m└ \u001b[22m\u001b[39mLoading Libdl into CRlibm from project dependency, future warnings for CRlibm are suppressed.\n",
      "WARNING: Method definition union(IntervalArithmetic.Interval{T} where T<:Real, IntervalArithmetic.Interval{T} where T<:Real) in module IntervalArithmetic at /home/students/mmariani/.julia/packages/IntervalArithmetic/UR6Qe/src/intervals/set_operations.jl:137 overwritten in module IntervalUnionArithmetic at /home/students/mmariani/.julia/packages/IntervalUnionArithmetic/4sZoD/src/interval_unions.jl:52.\n",
      "  ** incremental compilation may be fatally broken for this module **\n",
      "\n",
      "WARNING: Method definition \\(IntervalUnionArithmetic.IntervalUnion{T} where T<:Real, IntervalUnionArithmetic.IntervalUnion{T} where T<:Real) in module IntervalUnionArithmetic at /home/students/mmariani/.julia/packages/IntervalUnionArithmetic/4sZoD/src/set_operations.jl:77 overwritten at /home/students/mmariani/.julia/packages/IntervalUnionArithmetic/4sZoD/src/set_operations.jl:79.\n",
      "  ** incremental compilation may be fatally broken for this module **\n",
      "\n",
      "\u001b[33m\u001b[1m┌ \u001b[22m\u001b[39m\u001b[33m\u001b[1mWarning: \u001b[22m\u001b[39mThe call to compilecache failed to create a usable precompiled cache file for IntervalUnionArithmetic [bbd57523-681a-4e6b-a941-369dddcfdba8]\n",
      "\u001b[33m\u001b[1m│ \u001b[22m\u001b[39m  exception = Required dependency CRlibm [96374032-68de-5a5b-8d9e-752f78720389] failed to load from a cache file.\n",
      "\u001b[33m\u001b[1m└ \u001b[22m\u001b[39m\u001b[90m@ Base loading.jl:1132\u001b[39m\n",
      "\u001b[33m\u001b[1m┌ \u001b[22m\u001b[39m\u001b[33m\u001b[1mWarning: \u001b[22m\u001b[39mPackage CRlibm does not have Libdl in its dependencies:\n",
      "\u001b[33m\u001b[1m│ \u001b[22m\u001b[39m- If you have CRlibm checked out for development and have\n",
      "\u001b[33m\u001b[1m│ \u001b[22m\u001b[39m  added Libdl as a dependency but haven't updated your primary\n",
      "\u001b[33m\u001b[1m│ \u001b[22m\u001b[39m  environment's manifest file, try `Pkg.resolve()`.\n",
      "\u001b[33m\u001b[1m│ \u001b[22m\u001b[39m- Otherwise you may need to report an issue with CRlibm\n",
      "\u001b[33m\u001b[1m└ \u001b[22m\u001b[39mLoading Libdl into CRlibm from project dependency, future warnings for CRlibm are suppressed.\n",
      "\u001b[33m\u001b[1m┌ \u001b[22m\u001b[39m\u001b[33m\u001b[1mWarning: \u001b[22m\u001b[39mThe call to compilecache failed to create a usable precompiled cache file for IntervalArithmetic [d1acc4aa-44c8-5952-acd4-ba5d80a2a253]\n",
      "\u001b[33m\u001b[1m│ \u001b[22m\u001b[39m  exception = Required dependency CRlibm [96374032-68de-5a5b-8d9e-752f78720389] failed to load from a cache file.\n",
      "\u001b[33m\u001b[1m└ \u001b[22m\u001b[39m\u001b[90m@ Base loading.jl:1132\u001b[39m\n",
      "\u001b[33m\u001b[1m┌ \u001b[22m\u001b[39m\u001b[33m\u001b[1mWarning: \u001b[22m\u001b[39mPackage CRlibm does not have Libdl in its dependencies:\n",
      "\u001b[33m\u001b[1m│ \u001b[22m\u001b[39m- If you have CRlibm checked out for development and have\n",
      "\u001b[33m\u001b[1m│ \u001b[22m\u001b[39m  added Libdl as a dependency but haven't updated your primary\n",
      "\u001b[33m\u001b[1m│ \u001b[22m\u001b[39m  environment's manifest file, try `Pkg.resolve()`.\n",
      "\u001b[33m\u001b[1m│ \u001b[22m\u001b[39m- Otherwise you may need to report an issue with CRlibm\n",
      "\u001b[33m\u001b[1m└ \u001b[22m\u001b[39mLoading Libdl into CRlibm from project dependency, future warnings for CRlibm are suppressed.\n",
      "WARNING: Method definition union(IntervalArithmetic.Interval{T} where T<:Real, IntervalArithmetic.Interval{T} where T<:Real) in module IntervalArithmetic at /home/students/mmariani/.julia/packages/IntervalArithmetic/UR6Qe/src/intervals/set_operations.jl:137 overwritten in module IntervalUnionArithmetic at /home/students/mmariani/.julia/packages/IntervalUnionArithmetic/4sZoD/src/interval_unions.jl:52.\n",
      "  ** incremental compilation may be fatally broken for this module **\n",
      "\n",
      "WARNING: Method definition \\(IntervalUnionArithmetic.IntervalUnion{T} where T<:Real, IntervalUnionArithmetic.IntervalUnion{T} where T<:Real) in module IntervalUnionArithmetic at /home/students/mmariani/.julia/packages/IntervalUnionArithmetic/4sZoD/src/set_operations.jl:77 overwritten at /home/students/mmariani/.julia/packages/IntervalUnionArithmetic/4sZoD/src/set_operations.jl:79.\n",
      "  ** incremental compilation may be fatally broken for this module **\n",
      "\n",
      "┌ Warning: The call to compilecache failed to create a usable precompiled cache file for Causality [943c2df0-3341-4665-8895-8aff0dd63d80]\n",
      "│   exception = ErrorException(\"Required dependency CRlibm [96374032-68de-5a5b-8d9e-752f78720389] failed to load from a cache file.\")\n",
      "└ @ Base loading.jl:1132\n",
      "┌ Info: Precompiling IntervalUnionArithmetic [bbd57523-681a-4e6b-a941-369dddcfdba8]\n",
      "└ @ Base loading.jl:1423\n",
      "\u001b[33m\u001b[1m┌ \u001b[22m\u001b[39m\u001b[33m\u001b[1mWarning: \u001b[22m\u001b[39mPackage CRlibm does not have Libdl in its dependencies:\n",
      "\u001b[33m\u001b[1m│ \u001b[22m\u001b[39m- If you have CRlibm checked out for development and have\n",
      "\u001b[33m\u001b[1m│ \u001b[22m\u001b[39m  added Libdl as a dependency but haven't updated your primary\n",
      "\u001b[33m\u001b[1m│ \u001b[22m\u001b[39m  environment's manifest file, try `Pkg.resolve()`.\n",
      "\u001b[33m\u001b[1m│ \u001b[22m\u001b[39m- Otherwise you may need to report an issue with CRlibm\n",
      "\u001b[33m\u001b[1m└ \u001b[22m\u001b[39mLoading Libdl into CRlibm from project dependency, future warnings for CRlibm are suppressed.\n",
      "\u001b[33m\u001b[1m┌ \u001b[22m\u001b[39m\u001b[33m\u001b[1mWarning: \u001b[22m\u001b[39mThe call to compilecache failed to create a usable precompiled cache file for IntervalArithmetic [d1acc4aa-44c8-5952-acd4-ba5d80a2a253]\n",
      "\u001b[33m\u001b[1m│ \u001b[22m\u001b[39m  exception = Required dependency CRlibm [96374032-68de-5a5b-8d9e-752f78720389] failed to load from a cache file.\n",
      "\u001b[33m\u001b[1m└ \u001b[22m\u001b[39m\u001b[90m@ Base loading.jl:1132\u001b[39m\n",
      "\u001b[33m\u001b[1m┌ \u001b[22m\u001b[39m\u001b[33m\u001b[1mWarning: \u001b[22m\u001b[39mPackage CRlibm does not have Libdl in its dependencies:\n",
      "\u001b[33m\u001b[1m│ \u001b[22m\u001b[39m- If you have CRlibm checked out for development and have\n",
      "\u001b[33m\u001b[1m│ \u001b[22m\u001b[39m  added Libdl as a dependency but haven't updated your primary\n",
      "\u001b[33m\u001b[1m│ \u001b[22m\u001b[39m  environment's manifest file, try `Pkg.resolve()`.\n",
      "\u001b[33m\u001b[1m│ \u001b[22m\u001b[39m- Otherwise you may need to report an issue with CRlibm\n",
      "\u001b[33m\u001b[1m└ \u001b[22m\u001b[39mLoading Libdl into CRlibm from project dependency, future warnings for CRlibm are suppressed.\n",
      "WARNING: Method definition union(IntervalArithmetic.Interval{T} where T<:Real, IntervalArithmetic.Interval{T} where T<:Real) in module IntervalArithmetic at /home/students/mmariani/.julia/packages/IntervalArithmetic/UR6Qe/src/intervals/set_operations.jl:137 overwritten in module IntervalUnionArithmetic at /home/students/mmariani/.julia/packages/IntervalUnionArithmetic/4sZoD/src/interval_unions.jl:52.\n",
      "  ** incremental compilation may be fatally broken for this module **\n",
      "\n",
      "WARNING: Method definition \\(IntervalUnionArithmetic.IntervalUnion{T} where T<:Real, IntervalUnionArithmetic.IntervalUnion{T} where T<:Real) in module IntervalUnionArithmetic at /home/students/mmariani/.julia/packages/IntervalUnionArithmetic/4sZoD/src/set_operations.jl:77 overwritten at /home/students/mmariani/.julia/packages/IntervalUnionArithmetic/4sZoD/src/set_operations.jl:79.\n",
      "  ** incremental compilation may be fatally broken for this module **\n",
      "\n",
      "┌ Warning: The call to compilecache failed to create a usable precompiled cache file for IntervalUnionArithmetic [bbd57523-681a-4e6b-a941-369dddcfdba8]\n",
      "│   exception = ErrorException(\"Required dependency CRlibm [96374032-68de-5a5b-8d9e-752f78720389] failed to load from a cache file.\")\n",
      "└ @ Base loading.jl:1132\n",
      "┌ Info: Precompiling IntervalArithmetic [d1acc4aa-44c8-5952-acd4-ba5d80a2a253]\n",
      "└ @ Base loading.jl:1423\n",
      "\u001b[33m\u001b[1m┌ \u001b[22m\u001b[39m\u001b[33m\u001b[1mWarning: \u001b[22m\u001b[39mPackage CRlibm does not have Libdl in its dependencies:\n",
      "\u001b[33m\u001b[1m│ \u001b[22m\u001b[39m- If you have CRlibm checked out for development and have\n",
      "\u001b[33m\u001b[1m│ \u001b[22m\u001b[39m  added Libdl as a dependency but haven't updated your primary\n",
      "\u001b[33m\u001b[1m│ \u001b[22m\u001b[39m  environment's manifest file, try `Pkg.resolve()`.\n",
      "\u001b[33m\u001b[1m│ \u001b[22m\u001b[39m- Otherwise you may need to report an issue with CRlibm\n",
      "\u001b[33m\u001b[1m└ \u001b[22m\u001b[39mLoading Libdl into CRlibm from project dependency, future warnings for CRlibm are suppressed.\n",
      "┌ Warning: The call to compilecache failed to create a usable precompiled cache file for IntervalArithmetic [d1acc4aa-44c8-5952-acd4-ba5d80a2a253]\n",
      "│   exception = ErrorException(\"Required dependency CRlibm [96374032-68de-5a5b-8d9e-752f78720389] failed to load from a cache file.\")\n",
      "└ @ Base loading.jl:1132\n",
      "┌ Info: Precompiling CRlibm [96374032-68de-5a5b-8d9e-752f78720389]\n",
      "└ @ Base loading.jl:1423\n",
      "\u001b[33m\u001b[1m┌ \u001b[22m\u001b[39m\u001b[33m\u001b[1mWarning: \u001b[22m\u001b[39mPackage CRlibm does not have Libdl in its dependencies:\n",
      "\u001b[33m\u001b[1m│ \u001b[22m\u001b[39m- If you have CRlibm checked out for development and have\n",
      "\u001b[33m\u001b[1m│ \u001b[22m\u001b[39m  added Libdl as a dependency but haven't updated your primary\n",
      "\u001b[33m\u001b[1m│ \u001b[22m\u001b[39m  environment's manifest file, try `Pkg.resolve()`.\n",
      "\u001b[33m\u001b[1m│ \u001b[22m\u001b[39m- Otherwise you may need to report an issue with CRlibm\n",
      "\u001b[33m\u001b[1m└ \u001b[22m\u001b[39mLoading Libdl into CRlibm from project dependency, future warnings for CRlibm are suppressed.\n"
     ]
    }
   ],
   "source": [
    "using SparseArrays, LinearAlgebra\n",
    "using Causality"
   ]
  },
  {
   "cell_type": "code",
   "execution_count": 5,
   "metadata": {},
   "outputs": [
    {
     "data": {
      "text/plain": [
       "1000×1000 SparseMatrixCSC{IndexedGraphs.NullNumber, Int64} with 8890 stored entries:\n",
       "⢔⣱⢾⣧⢧⡼⡖⣻⣂⢿⢹⣷⣧⣮⡾⡶⣳⡿⣿⣿⣿⣤⢶⢷⣷⢲⢶⣕⣾⣯⣗⣶⡵⣲⣯⠾⢢⣳⢷⣷\n",
       "⠾⣷⡏⣭⠷⢽⢛⢿⣻⣭⡯⡿⠷⣗⣿⢾⡿⢯⣟⢶⣍⠞⣗⢻⠾⡿⣇⢦⢿⣮⡷⣽⣷⣵⡟⣿⢶⣕⡻⣿\n",
       "⣉⡷⣝⣇⣎⢙⢿⣛⣿⡅⣧⣿⡛⡽⢿⣿⣿⣻⣷⢷⠝⡿⠓⣒⣙⣕⡸⡾⣾⢿⡸⢧⠞⢙⡿⣟⠻⡛⠺⢗\n",
       "⣼⣩⣿⣔⣿⢳⣟⢝⢳⢍⣍⣶⣧⡯⣟⣕⢾⣓⢮⢾⢣⢯⣹⣿⠗⣿⢽⡯⢎⣔⢭⡿⢯⡯⢭⣯⢿⣛⣯⡕\n",
       "⣬⣜⡟⣾⠟⠿⡝⢖⣾⣿⣟⢿⣷⣖⣿⡿⢾⣻⣷⣾⣯⠬⣷⣷⣫⣗⣿⣧⡬⣻⣡⣆⣿⣻⣽⣻⢫⣷⡽⣏\n",
       "⢷⣶⣯⡯⣭⣿⢣⣽⣿⣝⣔⡹⣿⣱⡾⣧⣭⣻⣿⣼⡏⣯⡾⣒⣵⣺⡾⢏⡿⣵⡶⣽⡿⣮⠫⡻⣾⣭⠯⣋\n",
       "⡩⣿⢽⢧⣟⡬⡭⡿⢹⢿⢟⣻⣮⡻⣮⡿⣮⣿⣽⡷⣿⣾⣻⣿⡳⣕⣯⣿⣻⣟⣽⣵⣼⡏⣮⣜⣞⣺⡓⡓\n",
       "⢺⡯⣻⣟⣿⣷⢟⢽⣿⡿⠾⣯⣮⡿⢪⣲⣂⢷⢞⠻⢯⡯⣿⣳⣿⡯⣭⣯⢛⣼⢿⡙⣿⣷⣾⣮⣸⣺⣿⣵\n",
       "⣽⡾⡿⣏⣿⣻⢾⢳⣾⣳⣧⣻⣮⣿⢬⣜⣿⠛⣿⡾⣷⡷⢇⣿⣚⡦⢧⣷⢿⣦⡞⢮⢵⣽⡿⣭⣽⡝⣯⣶\n",
       "⣿⣿⢻⣝⢽⣟⣪⣗⣹⣿⣛⣿⢷⡿⣾⡑⣻⡿⡾⢋⢽⣽⣃⣿⣋⡟⢽⣿⢿⣿⡕⡿⡲⣭⣽⣶⡲⣎⣯⡉\n",
       "⠛⣿⣣⠝⣷⡥⡭⣖⡋⡟⡯⣭⣻⣿⡯⡷⢽⡿⣗⣷⣾⣿⣿⢃⣿⢸⣃⠿⣧⡽⣥⣟⣉⢛⣧⢛⡶⢻⣏⣻\n",
       "⢼⣗⣽⣙⢹⢠⣷⣾⢽⣿⢺⢫⣿⣾⢿⣻⣭⣵⣭⣼⠿⢛⢫⡶⣺⣟⢕⡷⣣⢷⡿⣹⣤⣷⠿⡭⡽⢻⢲⣇\n",
       "⢹⣛⣾⡧⢗⢼⣽⣥⢯⢾⣱⣻⢝⢮⡿⡿⠺⡼⣯⠼⣛⣛⣾⢾⣟⡽⣿⣯⣚⣽⣣⢯⣭⣟⡋⣤⣭⣷⣞⣽\n",
       "⢜⢷⠩⣝⣲⡮⡷⡷⠿⣿⡾⢏⣯⣿⡧⣿⢭⣷⣷⣷⣭⡜⢵⡵⡿⣿⣾⡻⡾⣛⢷⡮⣿⣷⡮⣿⣳⣗⠽⢓\n",
       "⡾⣿⡻⣷⣾⣟⢊⢵⣦⣫⢟⣯⣿⢾⣛⣴⠻⣷⣿⣷⣍⡿⢭⣞⣞⣼⣾⢫⢅⢕⢻⠻⢽⡷⡞⣷⢾⣿⣚⡆\n",
       "⢹⣽⣝⣯⠶⣎⣧⡷⠡⢾⣜⣯⢗⣿⣟⠳⡺⣍⣵⡭⣥⢿⣟⣫⡭⣞⡹⡷⣿⡒⡿⡯⣼⠼⣻⣾⣛⢅⣇⣧\n",
       "⢱⣫⢝⣿⣞⢁⡯⡷⣿⣻⡻⣯⡶⠿⢿⣿⣕⣷⡜⣮⣧⢘⢤⣿⣧⢿⢿⣿⢷⡷⣒⡟⢯⠗⣫⣴⣿⢿⣞⣗\n",
       "⣫⡟⣿⣭⣿⢯⡧⣷⣷⣻⣯⡢⣊⢿⡺⣿⡟⣯⢳⣿⣭⢛⡟⡧⠋⣬⣮⣯⢾⣭⣻⣾⢋⣾⡰⣪⣟⢟⢛⡆\n",
       "⢬⣲⢜⢷⣿⠢⣿⢳⢯⣶⡞⣿⣺⣹⣲⣺⣗⠿⡸⢮⣼⣋⣷⣋⢧⣿⢽⢾⣾⣷⠟⢜⣿⣟⣿⢝⣫⡺⣾⠩\n",
       "⢽⣷⣿⣮⢾⢆⢏⠿⡷⢯⡯⢣⢽⠨⢟⣿⢫⣿⡏⠻⣯⣹⠼⢶⣞⣽⢷⢃⠺⠼⠭⣽⢾⢽⠻⠴⡞⡛⣏⡹"
      ]
     },
     "execution_count": 5,
     "metadata": {},
     "output_type": "execute_result"
    }
   ],
   "source": [
    "T, N = 20.0, 1000\n",
    "#G = Causality.makeBarabasi(N,k=2)\n",
    "#ρ = 3/N\n",
    "#G = Causality.makeGNP(N,ρ)\n",
    "G = Causality.makeProximity(N,3/N)\n",
    "G.A "
   ]
  },
  {
   "cell_type": "code",
   "execution_count": 6,
   "metadata": {},
   "outputs": [
    {
     "data": {
      "text/plain": [
       "getpargen (generic function with 1 method)"
      ]
     },
     "execution_count": 6,
     "metadata": {},
     "output_type": "execute_result"
    }
   ],
   "source": [
    "getpar(pseed,autoinf::GaussianRate,inf_in::GaussianRate) = \n",
    "    [fill(pseed, 1, N);\n",
    "     fill(autoinf.a, 1, N); fill(autoinf.b, 1, N); fill(autoinf.c, 1, N);\n",
    "     fill(inf_in.a,   1, N); fill(inf_in.b, 1, N); fill(inf_in.c, 1, N);\n",
    "    ]\n",
    "\n",
    "getpargen(pseed, autoinf::GaussianRate, inf_out::GaussianRate) = \n",
    "    [pseed autoinf.a autoinf.b autoinf.c inf_out.a inf_out.b inf_out.c]\n"
   ]
  },
  {
   "cell_type": "code",
   "execution_count": 7,
   "metadata": {},
   "outputs": [],
   "source": [
    "#Initialize generation parameters\n",
    "ε = 1e-10\n",
    "λ = 0.2\n",
    "pseed = 1/N\n",
    "autoinf = GaussianRate(ε, T/2, 1/ε)\n",
    "inf_in = GaussianRate(1.0, T/2, 1/ε)\n",
    "inf_out = GaussianRate(λ, T/2, 1/ε)\n",
    "\n",
    "θp = getpar(pseed, autoinf, inf_in);\n",
    "θpgen = getpargen(pseed, autoinf, inf_out);"
   ]
  },
  {
   "cell_type": "code",
   "execution_count": 8,
   "metadata": {},
   "outputs": [],
   "source": [
    "#Initialize min/max boundaies\n",
    "T = Float64(T)\n",
    "pseed_min = ε\n",
    "pseed_max = 1-ε\n",
    "rate_min = GaussianRate(ε  ,  -T,   ε)\n",
    "rate_max = GaussianRate(1/ε  ,  2T,   1/ε)\n",
    "\n",
    "θmin = getpar(pseed_min , rate_min, rate_min);\n",
    "θmax = getpar(pseed_max , rate_max, rate_max);\n",
    "\n",
    "rate_min = GaussianRate(ε  ,  -T,   ε)\n",
    "rate_max = GaussianRate(1/ε  ,  T,   T)\n",
    "\n",
    "θgenmin = getpargen(pseed_min, rate_min, rate_min);\n",
    "θgenmax = getpargen(pseed_max, rate_max, rate_max);"
   ]
  },
  {
   "cell_type": "code",
   "execution_count": 9,
   "metadata": {},
   "outputs": [],
   "source": [
    "struct MaskedInferentialSI <: SI end\n",
    "\n",
    "Causality.individual(M::StochasticModel{MaskedInferentialSI}, i::Int, θi = @view(M.θ[:,i]), θg = M.θgen ) = \n",
    "@views IndividualSI(θi[1], \n",
    "    MaskedRate(GaussianRate(θi[2:4]...),mask[i]), \n",
    "    MaskedRate(GaussianRate(θi[5:7]...),mask[i]), \n",
    "    GaussianRate(θg[5:7]...))"
   ]
  },
  {
   "cell_type": "code",
   "execution_count": 10,
   "metadata": {},
   "outputs": [
    {
     "data": {
      "text/plain": [
       "GaussianInferentialSI"
      ]
     },
     "execution_count": 10,
     "metadata": {},
     "output_type": "execute_result"
    }
   ],
   "source": [
    "const Ig = GenerativeSI{GaussianRate,GaussianRate} \n",
    "const Ii = GaussianInferentialSI"
   ]
  },
  {
   "cell_type": "code",
   "execution_count": 11,
   "metadata": {},
   "outputs": [
    {
     "data": {
      "text/plain": [
       "772"
      ]
     },
     "execution_count": 11,
     "metadata": {},
     "output_type": "execute_result"
    }
   ],
   "source": [
    "Mp = StochasticModel(Ig, T, θp, G, θpgen);\n",
    "sample! = Sampler(Mp);\n",
    "\n",
    "xtrue = zeros(N)\n",
    "sample!(xtrue)\n",
    "nobs, p = Int(round(N/10)), 1e-5\n",
    "#nobs, p = N, 1e-5\n",
    "O = [(ti = T*(1+rand())/2; (i,xtrue[i] < ti,ti,p)) for i=1:nobs]\n",
    "sum(xtrue .< T)"
   ]
  },
  {
   "cell_type": "code",
   "execution_count": 12,
   "metadata": {},
   "outputs": [
    {
     "data": {
      "text/plain": [
       "100-element Vector{Tuple{Int64, Bool, Float64, Float64}}:\n",
       " (1, 0, 17.075968910883546, 1.0e-5)\n",
       " (2, 1, 19.724931315899294, 1.0e-5)\n",
       " (3, 0, 18.1613097628383, 1.0e-5)\n",
       " (4, 0, 12.608056693575303, 1.0e-5)\n",
       " (5, 1, 17.097886856248756, 1.0e-5)\n",
       " (6, 1, 14.2066053048433, 1.0e-5)\n",
       " (7, 1, 10.320158675779258, 1.0e-5)\n",
       " (8, 1, 16.14853888140616, 1.0e-5)\n",
       " (9, 0, 14.939856454349755, 1.0e-5)\n",
       " (10, 0, 17.165093786049198, 1.0e-5)\n",
       " (11, 0, 16.431507617946735, 1.0e-5)\n",
       " (12, 0, 15.764671008550259, 1.0e-5)\n",
       " (13, 1, 10.319089107736739, 1.0e-5)\n",
       " ⋮\n",
       " (89, 0, 14.199579906004098, 1.0e-5)\n",
       " (90, 1, 17.65251361222012, 1.0e-5)\n",
       " (91, 1, 16.714834419544943, 1.0e-5)\n",
       " (92, 1, 13.057038321910571, 1.0e-5)\n",
       " (93, 0, 15.518908169935477, 1.0e-5)\n",
       " (94, 0, 11.298978687463155, 1.0e-5)\n",
       " (95, 1, 13.953883187124795, 1.0e-5)\n",
       " (96, 1, 18.647968406894236, 1.0e-5)\n",
       " (97, 1, 19.04604729475771, 1.0e-5)\n",
       " (98, 0, 10.984389958153491, 1.0e-5)\n",
       " (99, 1, 17.7699242137416, 1.0e-5)\n",
       " (100, 0, 16.174970664858485, 1.0e-5)"
      ]
     },
     "execution_count": 12,
     "metadata": {},
     "output_type": "execute_result"
    }
   ],
   "source": [
    "O"
   ]
  },
  {
   "cell_type": "code",
   "execution_count": 13,
   "metadata": {},
   "outputs": [],
   "source": [
    "#Softened model\n",
    "T = Float64(T)\n",
    "ε = 2e-3\n",
    "autoinf = GaussianRate(ε, T/2, T);\n",
    "θp2gen = getpargen(pseed, autoinf, inf_out);\n",
    "inf_in = GaussianRate(1., T/2, 3*T );\n",
    "\n",
    "θp2 = getpar(pseed, autoinf, inf_in);\n",
    "Mp2 = StochasticModel(Ig, T, θp2, G, θp2gen);"
   ]
  },
  {
   "cell_type": "code",
   "execution_count": 14,
   "metadata": {},
   "outputs": [],
   "source": [
    "using IntervalUnionArithmetic\n",
    "T = Float64(T)\n",
    "mask = fill(IntervalUnion(0., T),N)\n",
    "for o in O\n",
    "    if o[2] == 1 \n",
    "        mask[o[1]] = mask[o[1]] ∩ IntervalUnion(0., o[3])\n",
    "    elseif o[2] == 0\n",
    "        mask[o[1]] = mask[o[1]] ∩ IntervalUnion(o[3], T)\n",
    "    end\n",
    "end"
   ]
  },
  {
   "cell_type": "code",
   "execution_count": 15,
   "metadata": {},
   "outputs": [],
   "source": [
    "θ = getpar(pseed, autoinf, inf_in);\n",
    "M = StochasticModel(MaskedInferentialSI, T, θ, G, θp2gen);"
   ]
  },
  {
   "cell_type": "code",
   "execution_count": 16,
   "metadata": {},
   "outputs": [
    {
     "name": "stderr",
     "output_type": "stream",
     "text": [
      "\u001b[32mProgress: 100%|█████████████████████████████████████████| Time: 0:07:01\u001b[39m\n",
      "\u001b[34m  F:  1100.76943423112\u001b[39m\n"
     ]
    },
    {
     "data": {
      "text/plain": [
       "1100.76943423112"
      ]
     },
     "execution_count": 16,
     "metadata": {},
     "output_type": "execute_result"
    }
   ],
   "source": [
    "using ProgressMeter\n",
    "ProgressMeter.ijulia_behavior(:clear)\n",
    "F = descend!(Mp2, O; M=M, numsamples=1000, numiters=100, \n",
    "         θmin=θmin, θmax=θmax,θgenmin=θgenmin, θgenmax=θgenmax, descender=SignDescender(0.1),\n",
    "         hyperdescender=SignDescender(0.),learnhyper=1);\n",
    "F"
   ]
  },
  {
   "cell_type": "code",
   "execution_count": 17,
   "metadata": {},
   "outputs": [
    {
     "name": "stderr",
     "output_type": "stream",
     "text": [
      "\u001b[32mProgress: 100%|█████████████████████████████████████████| Time: 0:00:11\u001b[39m\n"
     ]
    }
   ],
   "source": [
    "statscau = prior(M, numsamples=5000);"
   ]
  },
  {
   "cell_type": "code",
   "execution_count": 22,
   "metadata": {},
   "outputs": [
    {
     "name": "stdout",
     "output_type": "stream",
     "text": [
      "sib.iterate(damp=0.0): 39/40 2.758e-01/1e-07      \n",
      "sib.iterate(damp=0.5): 39/40 6.006e-02/1e-07      \n",
      "344.73148989677430.9): 39/40 1.023e-01/1e-07      \n"
     ]
    }
   ],
   "source": [
    "a=time()\n",
    "dt = 1/4\n",
    "p_sib = sibyl(N, T, G, O, 1/N, λ; dt=dt, maxit = 40, tol = 1e-7);\n",
    "b=time()\n",
    "println(b-a)"
   ]
  },
  {
   "cell_type": "markdown",
   "metadata": {},
   "source": [
    "## Marginals and ROC curve"
   ]
  },
  {
   "cell_type": "code",
   "execution_count": 18,
   "metadata": {},
   "outputs": [
    {
     "data": {
      "text/plain": [
       "AUROC (generic function with 1 method)"
      ]
     },
     "execution_count": 18,
     "metadata": {},
     "output_type": "execute_result"
    }
   ],
   "source": [
    "function marginal(i, t, stats)\n",
    "    numsamp = size(stats,1)\n",
    "    sum(stats[:,i] .< t)/numsamp\n",
    "end\n",
    "\n",
    "function tpr(xtrue, rank) \n",
    "    cumsum(xtrue[rank]) ./( cumsum(xtrue[rank])[end])\n",
    "end\n",
    "\n",
    "function fpr(xtrue, rank) \n",
    "    N = size(rank,1)\n",
    "    return (range(1,N,length=N) .- cumsum(xtrue[rank])) ./ (range(1,N,length=N) .- cumsum(xtrue[rank]) )[end]\n",
    "end\n",
    "\n",
    "function ROC(xtrue, p)\n",
    "    N = size(xtrue,1)\n",
    "    rank = sortperm(p, rev=true)\n",
    "    \n",
    "    return fpr(xtrue, rank) , tpr(xtrue, rank)\n",
    "end\n",
    "\n",
    "function AUROC(ROC)\n",
    "    N = size(ROC[1],1) \n",
    "    AU = 0\n",
    "    for t = 1:N-1\n",
    "        AU += ROC[2][t] * (ROC[1][t+1] - ROC[1][t])\n",
    "    end\n",
    "    return AU\n",
    "end"
   ]
  },
  {
   "cell_type": "code",
   "execution_count": 19,
   "metadata": {},
   "outputs": [
    {
     "data": {
      "text/plain": [
       "100-element Vector{Tuple{Int64, Bool, Float64, Float64}}:\n",
       " (1, 0, 17.075968910883546, 1.0e-5)\n",
       " (2, 1, 19.724931315899294, 1.0e-5)\n",
       " (3, 0, 18.1613097628383, 1.0e-5)\n",
       " (4, 0, 12.608056693575303, 1.0e-5)\n",
       " (5, 1, 17.097886856248756, 1.0e-5)\n",
       " (6, 1, 14.2066053048433, 1.0e-5)\n",
       " (7, 1, 10.320158675779258, 1.0e-5)\n",
       " (8, 1, 16.14853888140616, 1.0e-5)\n",
       " (9, 0, 14.939856454349755, 1.0e-5)\n",
       " (10, 0, 17.165093786049198, 1.0e-5)\n",
       " (11, 0, 16.431507617946735, 1.0e-5)\n",
       " (12, 0, 15.764671008550259, 1.0e-5)\n",
       " (13, 1, 10.319089107736739, 1.0e-5)\n",
       " ⋮\n",
       " (89, 0, 14.199579906004098, 1.0e-5)\n",
       " (90, 1, 17.65251361222012, 1.0e-5)\n",
       " (91, 1, 16.714834419544943, 1.0e-5)\n",
       " (92, 1, 13.057038321910571, 1.0e-5)\n",
       " (93, 0, 15.518908169935477, 1.0e-5)\n",
       " (94, 0, 11.298978687463155, 1.0e-5)\n",
       " (95, 1, 13.953883187124795, 1.0e-5)\n",
       " (96, 1, 18.647968406894236, 1.0e-5)\n",
       " (97, 1, 19.04604729475771, 1.0e-5)\n",
       " (98, 0, 10.984389958153491, 1.0e-5)\n",
       " (99, 1, 17.7699242137416, 1.0e-5)\n",
       " (100, 0, 16.174970664858485, 1.0e-5)"
      ]
     },
     "execution_count": 19,
     "metadata": {},
     "output_type": "execute_result"
    }
   ],
   "source": [
    "O"
   ]
  },
  {
   "cell_type": "code",
   "execution_count": 21,
   "metadata": {},
   "outputs": [
    {
     "data": {
      "image/svg+xml": [
       "<?xml version=\"1.0\" encoding=\"utf-8\"?>\n",
       "<svg xmlns=\"http://www.w3.org/2000/svg\" xmlns:xlink=\"http://www.w3.org/1999/xlink\" width=\"600\" height=\"400\" viewBox=\"0 0 2400 1600\">\n",
       "<defs>\n",
       "  <clipPath id=\"clip480\">\n",
       "    <rect x=\"0\" y=\"0\" width=\"2400\" height=\"1600\"/>\n",
       "  </clipPath>\n",
       "</defs>\n",
       "<path clip-path=\"url(#clip480)\" d=\"\n",
       "M0 1600 L2400 1600 L2400 0 L0 0  Z\n",
       "  \" fill=\"#ffffff\" fill-rule=\"evenodd\" fill-opacity=\"1\"/>\n",
       "<defs>\n",
       "  <clipPath id=\"clip481\">\n",
       "    <rect x=\"480\" y=\"0\" width=\"1681\" height=\"1600\"/>\n",
       "  </clipPath>\n",
       "</defs>\n",
       "<path clip-path=\"url(#clip480)\" d=\"\n",
       "M156.598 1486.45 L2352.76 1486.45 L2352.76 47.2441 L156.598 47.2441  Z\n",
       "  \" fill=\"#ffffff\" fill-rule=\"evenodd\" fill-opacity=\"1\"/>\n",
       "<defs>\n",
       "  <clipPath id=\"clip482\">\n",
       "    <rect x=\"156\" y=\"47\" width=\"2197\" height=\"1440\"/>\n",
       "  </clipPath>\n",
       "</defs>\n",
       "<polyline clip-path=\"url(#clip482)\" style=\"stroke:#000000; stroke-linecap:butt; stroke-linejoin:round; stroke-width:2; stroke-opacity:0.1; fill:none\" points=\"\n",
       "  654.932,1486.45 654.932,47.2441 \n",
       "  \"/>\n",
       "<polyline clip-path=\"url(#clip482)\" style=\"stroke:#000000; stroke-linecap:butt; stroke-linejoin:round; stroke-width:2; stroke-opacity:0.1; fill:none\" points=\"\n",
       "  1200.15,1486.45 1200.15,47.2441 \n",
       "  \"/>\n",
       "<polyline clip-path=\"url(#clip482)\" style=\"stroke:#000000; stroke-linecap:butt; stroke-linejoin:round; stroke-width:2; stroke-opacity:0.1; fill:none\" points=\"\n",
       "  1745.38,1486.45 1745.38,47.2441 \n",
       "  \"/>\n",
       "<polyline clip-path=\"url(#clip482)\" style=\"stroke:#000000; stroke-linecap:butt; stroke-linejoin:round; stroke-width:2; stroke-opacity:0.1; fill:none\" points=\"\n",
       "  2290.6,1486.45 2290.6,47.2441 \n",
       "  \"/>\n",
       "<polyline clip-path=\"url(#clip480)\" style=\"stroke:#000000; stroke-linecap:butt; stroke-linejoin:round; stroke-width:4; stroke-opacity:1; fill:none\" points=\"\n",
       "  156.598,1486.45 2352.76,1486.45 \n",
       "  \"/>\n",
       "<polyline clip-path=\"url(#clip480)\" style=\"stroke:#000000; stroke-linecap:butt; stroke-linejoin:round; stroke-width:4; stroke-opacity:1; fill:none\" points=\"\n",
       "  654.932,1486.45 654.932,1467.55 \n",
       "  \"/>\n",
       "<polyline clip-path=\"url(#clip480)\" style=\"stroke:#000000; stroke-linecap:butt; stroke-linejoin:round; stroke-width:4; stroke-opacity:1; fill:none\" points=\"\n",
       "  1200.15,1486.45 1200.15,1467.55 \n",
       "  \"/>\n",
       "<polyline clip-path=\"url(#clip480)\" style=\"stroke:#000000; stroke-linecap:butt; stroke-linejoin:round; stroke-width:4; stroke-opacity:1; fill:none\" points=\"\n",
       "  1745.38,1486.45 1745.38,1467.55 \n",
       "  \"/>\n",
       "<polyline clip-path=\"url(#clip480)\" style=\"stroke:#000000; stroke-linecap:butt; stroke-linejoin:round; stroke-width:4; stroke-opacity:1; fill:none\" points=\"\n",
       "  2290.6,1486.45 2290.6,1467.55 \n",
       "  \"/>\n",
       "<path clip-path=\"url(#clip480)\" d=\"M645.21 1514.29 L663.566 1514.29 L663.566 1518.22 L649.492 1518.22 L649.492 1526.7 Q650.511 1526.35 651.529 1526.19 Q652.548 1526 653.566 1526 Q659.353 1526 662.733 1529.17 Q666.112 1532.34 666.112 1537.76 Q666.112 1543.34 662.64 1546.44 Q659.168 1549.52 652.849 1549.52 Q650.673 1549.52 648.404 1549.15 Q646.159 1548.78 643.751 1548.04 L643.751 1543.34 Q645.835 1544.47 648.057 1545.03 Q650.279 1545.58 652.756 1545.58 Q656.761 1545.58 659.099 1543.48 Q661.437 1541.37 661.437 1537.76 Q661.437 1534.15 659.099 1532.04 Q656.761 1529.94 652.756 1529.94 Q650.881 1529.94 649.006 1530.35 Q647.154 1530.77 645.21 1531.65 L645.21 1514.29 Z\" fill=\"#000000\" fill-rule=\"evenodd\" fill-opacity=\"1\" /><path clip-path=\"url(#clip480)\" d=\"M1174.84 1544.91 L1182.48 1544.91 L1182.48 1518.55 L1174.17 1520.21 L1174.17 1515.95 L1182.43 1514.29 L1187.11 1514.29 L1187.11 1544.91 L1194.75 1544.91 L1194.75 1548.85 L1174.84 1548.85 L1174.84 1544.91 Z\" fill=\"#000000\" fill-rule=\"evenodd\" fill-opacity=\"1\" /><path clip-path=\"url(#clip480)\" d=\"M1214.19 1517.37 Q1210.58 1517.37 1208.75 1520.93 Q1206.95 1524.47 1206.95 1531.6 Q1206.95 1538.71 1208.75 1542.27 Q1210.58 1545.82 1214.19 1545.82 Q1217.83 1545.82 1219.63 1542.27 Q1221.46 1538.71 1221.46 1531.6 Q1221.46 1524.47 1219.63 1520.93 Q1217.83 1517.37 1214.19 1517.37 M1214.19 1513.66 Q1220 1513.66 1223.06 1518.27 Q1226.14 1522.85 1226.14 1531.6 Q1226.14 1540.33 1223.06 1544.94 Q1220 1549.52 1214.19 1549.52 Q1208.38 1549.52 1205.31 1544.94 Q1202.25 1540.33 1202.25 1531.6 Q1202.25 1522.85 1205.31 1518.27 Q1208.38 1513.66 1214.19 1513.66 Z\" fill=\"#000000\" fill-rule=\"evenodd\" fill-opacity=\"1\" /><path clip-path=\"url(#clip480)\" d=\"M1720.56 1544.91 L1728.2 1544.91 L1728.2 1518.55 L1719.89 1520.21 L1719.89 1515.95 L1728.16 1514.29 L1732.83 1514.29 L1732.83 1544.91 L1740.47 1544.91 L1740.47 1548.85 L1720.56 1548.85 L1720.56 1544.91 Z\" fill=\"#000000\" fill-rule=\"evenodd\" fill-opacity=\"1\" /><path clip-path=\"url(#clip480)\" d=\"M1749.96 1514.29 L1768.32 1514.29 L1768.32 1518.22 L1754.24 1518.22 L1754.24 1526.7 Q1755.26 1526.35 1756.28 1526.19 Q1757.3 1526 1758.32 1526 Q1764.1 1526 1767.48 1529.17 Q1770.86 1532.34 1770.86 1537.76 Q1770.86 1543.34 1767.39 1546.44 Q1763.92 1549.52 1757.6 1549.52 Q1755.42 1549.52 1753.16 1549.15 Q1750.91 1548.78 1748.5 1548.04 L1748.5 1543.34 Q1750.59 1544.47 1752.81 1545.03 Q1755.03 1545.58 1757.51 1545.58 Q1761.51 1545.58 1763.85 1543.48 Q1766.19 1541.37 1766.19 1537.76 Q1766.19 1534.15 1763.85 1532.04 Q1761.51 1529.94 1757.51 1529.94 Q1755.63 1529.94 1753.76 1530.35 Q1751.91 1530.77 1749.96 1531.65 L1749.96 1514.29 Z\" fill=\"#000000\" fill-rule=\"evenodd\" fill-opacity=\"1\" /><path clip-path=\"url(#clip480)\" d=\"M2269.37 1544.91 L2285.69 1544.91 L2285.69 1548.85 L2263.75 1548.85 L2263.75 1544.91 Q2266.41 1542.16 2270.99 1537.53 Q2275.6 1532.88 2276.78 1531.53 Q2279.03 1529.01 2279.91 1527.27 Q2280.81 1525.51 2280.81 1523.82 Q2280.81 1521.07 2278.86 1519.33 Q2276.94 1517.6 2273.84 1517.6 Q2271.64 1517.6 2269.19 1518.36 Q2266.76 1519.13 2263.98 1520.68 L2263.98 1515.95 Q2266.8 1514.82 2269.26 1514.24 Q2271.71 1513.66 2273.75 1513.66 Q2279.12 1513.66 2282.31 1516.35 Q2285.51 1519.03 2285.51 1523.52 Q2285.51 1525.65 2284.7 1527.57 Q2283.91 1529.47 2281.8 1532.07 Q2281.23 1532.74 2278.12 1535.95 Q2275.02 1539.15 2269.37 1544.91 Z\" fill=\"#000000\" fill-rule=\"evenodd\" fill-opacity=\"1\" /><path clip-path=\"url(#clip480)\" d=\"M2305.51 1517.37 Q2301.9 1517.37 2300.07 1520.93 Q2298.26 1524.47 2298.26 1531.6 Q2298.26 1538.71 2300.07 1542.27 Q2301.9 1545.82 2305.51 1545.82 Q2309.14 1545.82 2310.95 1542.27 Q2312.78 1538.71 2312.78 1531.6 Q2312.78 1524.47 2310.95 1520.93 Q2309.14 1517.37 2305.51 1517.37 M2305.51 1513.66 Q2311.32 1513.66 2314.37 1518.27 Q2317.45 1522.85 2317.45 1531.6 Q2317.45 1540.33 2314.37 1544.94 Q2311.32 1549.52 2305.51 1549.52 Q2299.7 1549.52 2296.62 1544.94 Q2293.56 1540.33 2293.56 1531.6 Q2293.56 1522.85 2296.62 1518.27 Q2299.7 1513.66 2305.51 1513.66 Z\" fill=\"#000000\" fill-rule=\"evenodd\" fill-opacity=\"1\" /><polyline clip-path=\"url(#clip482)\" style=\"stroke:#000000; stroke-linecap:butt; stroke-linejoin:round; stroke-width:2; stroke-opacity:0.1; fill:none\" points=\"\n",
       "  156.598,1448.83 2352.76,1448.83 \n",
       "  \"/>\n",
       "<polyline clip-path=\"url(#clip482)\" style=\"stroke:#000000; stroke-linecap:butt; stroke-linejoin:round; stroke-width:2; stroke-opacity:0.1; fill:none\" points=\"\n",
       "  156.598,1137.28 2352.76,1137.28 \n",
       "  \"/>\n",
       "<polyline clip-path=\"url(#clip482)\" style=\"stroke:#000000; stroke-linecap:butt; stroke-linejoin:round; stroke-width:2; stroke-opacity:0.1; fill:none\" points=\"\n",
       "  156.598,825.729 2352.76,825.729 \n",
       "  \"/>\n",
       "<polyline clip-path=\"url(#clip482)\" style=\"stroke:#000000; stroke-linecap:butt; stroke-linejoin:round; stroke-width:2; stroke-opacity:0.1; fill:none\" points=\"\n",
       "  156.598,514.178 2352.76,514.178 \n",
       "  \"/>\n",
       "<polyline clip-path=\"url(#clip482)\" style=\"stroke:#000000; stroke-linecap:butt; stroke-linejoin:round; stroke-width:2; stroke-opacity:0.1; fill:none\" points=\"\n",
       "  156.598,202.627 2352.76,202.627 \n",
       "  \"/>\n",
       "<polyline clip-path=\"url(#clip480)\" style=\"stroke:#000000; stroke-linecap:butt; stroke-linejoin:round; stroke-width:4; stroke-opacity:1; fill:none\" points=\"\n",
       "  156.598,1486.45 156.598,47.2441 \n",
       "  \"/>\n",
       "<polyline clip-path=\"url(#clip480)\" style=\"stroke:#000000; stroke-linecap:butt; stroke-linejoin:round; stroke-width:4; stroke-opacity:1; fill:none\" points=\"\n",
       "  156.598,1448.83 175.496,1448.83 \n",
       "  \"/>\n",
       "<polyline clip-path=\"url(#clip480)\" style=\"stroke:#000000; stroke-linecap:butt; stroke-linejoin:round; stroke-width:4; stroke-opacity:1; fill:none\" points=\"\n",
       "  156.598,1137.28 175.496,1137.28 \n",
       "  \"/>\n",
       "<polyline clip-path=\"url(#clip480)\" style=\"stroke:#000000; stroke-linecap:butt; stroke-linejoin:round; stroke-width:4; stroke-opacity:1; fill:none\" points=\"\n",
       "  156.598,825.729 175.496,825.729 \n",
       "  \"/>\n",
       "<polyline clip-path=\"url(#clip480)\" style=\"stroke:#000000; stroke-linecap:butt; stroke-linejoin:round; stroke-width:4; stroke-opacity:1; fill:none\" points=\"\n",
       "  156.598,514.178 175.496,514.178 \n",
       "  \"/>\n",
       "<polyline clip-path=\"url(#clip480)\" style=\"stroke:#000000; stroke-linecap:butt; stroke-linejoin:round; stroke-width:4; stroke-opacity:1; fill:none\" points=\"\n",
       "  156.598,202.627 175.496,202.627 \n",
       "  \"/>\n",
       "<path clip-path=\"url(#clip480)\" d=\"M63.4226 1434.63 Q59.8115 1434.63 57.9828 1438.19 Q56.1773 1441.74 56.1773 1448.87 Q56.1773 1455.97 57.9828 1459.54 Q59.8115 1463.08 63.4226 1463.08 Q67.0569 1463.08 68.8624 1459.54 Q70.6911 1455.97 70.6911 1448.87 Q70.6911 1441.74 68.8624 1438.19 Q67.0569 1434.63 63.4226 1434.63 M63.4226 1430.93 Q69.2328 1430.93 72.2883 1435.53 Q75.367 1440.12 75.367 1448.87 Q75.367 1457.59 72.2883 1462.2 Q69.2328 1466.78 63.4226 1466.78 Q57.6125 1466.78 54.5338 1462.2 Q51.4782 1457.59 51.4782 1448.87 Q51.4782 1440.12 54.5338 1435.53 Q57.6125 1430.93 63.4226 1430.93 Z\" fill=\"#000000\" fill-rule=\"evenodd\" fill-opacity=\"1\" /><path clip-path=\"url(#clip480)\" d=\"M83.5845 1460.23 L88.4688 1460.23 L88.4688 1466.11 L83.5845 1466.11 L83.5845 1460.23 Z\" fill=\"#000000\" fill-rule=\"evenodd\" fill-opacity=\"1\" /><path clip-path=\"url(#clip480)\" d=\"M108.654 1434.63 Q105.043 1434.63 103.214 1438.19 Q101.409 1441.74 101.409 1448.87 Q101.409 1455.97 103.214 1459.54 Q105.043 1463.08 108.654 1463.08 Q112.288 1463.08 114.094 1459.54 Q115.922 1455.97 115.922 1448.87 Q115.922 1441.74 114.094 1438.19 Q112.288 1434.63 108.654 1434.63 M108.654 1430.93 Q114.464 1430.93 117.52 1435.53 Q120.598 1440.12 120.598 1448.87 Q120.598 1457.59 117.52 1462.2 Q114.464 1466.78 108.654 1466.78 Q102.844 1466.78 99.765 1462.2 Q96.7095 1457.59 96.7095 1448.87 Q96.7095 1440.12 99.765 1435.53 Q102.844 1430.93 108.654 1430.93 Z\" fill=\"#000000\" fill-rule=\"evenodd\" fill-opacity=\"1\" /><path clip-path=\"url(#clip480)\" d=\"M64.6495 1123.08 Q61.0384 1123.08 59.2097 1126.64 Q57.4041 1130.19 57.4041 1137.31 Q57.4041 1144.42 59.2097 1147.99 Q61.0384 1151.53 64.6495 1151.53 Q68.2837 1151.53 70.0892 1147.99 Q71.9179 1144.42 71.9179 1137.31 Q71.9179 1130.19 70.0892 1126.64 Q68.2837 1123.08 64.6495 1123.08 M64.6495 1119.38 Q70.4596 1119.38 73.5152 1123.98 Q76.5938 1128.56 76.5938 1137.31 Q76.5938 1146.04 73.5152 1150.65 Q70.4596 1155.23 64.6495 1155.23 Q58.8393 1155.23 55.7606 1150.65 Q52.7051 1146.04 52.7051 1137.31 Q52.7051 1128.56 55.7606 1123.98 Q58.8393 1119.38 64.6495 1119.38 Z\" fill=\"#000000\" fill-rule=\"evenodd\" fill-opacity=\"1\" /><path clip-path=\"url(#clip480)\" d=\"M84.8114 1148.68 L89.6956 1148.68 L89.6956 1154.56 L84.8114 1154.56 L84.8114 1148.68 Z\" fill=\"#000000\" fill-rule=\"evenodd\" fill-opacity=\"1\" /><path clip-path=\"url(#clip480)\" d=\"M100.691 1150.63 L108.33 1150.63 L108.33 1124.26 L100.02 1125.93 L100.02 1121.67 L108.283 1120 L112.959 1120 L112.959 1150.63 L120.598 1150.63 L120.598 1154.56 L100.691 1154.56 L100.691 1150.63 Z\" fill=\"#000000\" fill-rule=\"evenodd\" fill-opacity=\"1\" /><path clip-path=\"url(#clip480)\" d=\"M65.0198 811.528 Q61.4087 811.528 59.58 815.093 Q57.7745 818.634 57.7745 825.764 Q57.7745 832.87 59.58 836.435 Q61.4087 839.977 65.0198 839.977 Q68.6541 839.977 70.4596 836.435 Q72.2883 832.87 72.2883 825.764 Q72.2883 818.634 70.4596 815.093 Q68.6541 811.528 65.0198 811.528 M65.0198 807.824 Q70.83 807.824 73.8855 812.431 Q76.9642 817.014 76.9642 825.764 Q76.9642 834.491 73.8855 839.097 Q70.83 843.68 65.0198 843.68 Q59.2097 843.68 56.131 839.097 Q53.0754 834.491 53.0754 825.764 Q53.0754 817.014 56.131 812.431 Q59.2097 807.824 65.0198 807.824 Z\" fill=\"#000000\" fill-rule=\"evenodd\" fill-opacity=\"1\" /><path clip-path=\"url(#clip480)\" d=\"M85.1818 837.13 L90.066 837.13 L90.066 843.009 L85.1818 843.009 L85.1818 837.13 Z\" fill=\"#000000\" fill-rule=\"evenodd\" fill-opacity=\"1\" /><path clip-path=\"url(#clip480)\" d=\"M104.279 839.074 L120.598 839.074 L120.598 843.009 L98.6539 843.009 L98.6539 839.074 Q101.316 836.319 105.899 831.69 Q110.506 827.037 111.686 825.694 Q113.932 823.171 114.811 821.435 Q115.714 819.676 115.714 817.986 Q115.714 815.232 113.77 813.495 Q111.848 811.759 108.746 811.759 Q106.547 811.759 104.094 812.523 Q101.663 813.287 98.8854 814.838 L98.8854 810.116 Q101.709 808.982 104.163 808.403 Q106.617 807.824 108.654 807.824 Q114.024 807.824 117.219 810.509 Q120.413 813.194 120.413 817.685 Q120.413 819.815 119.603 821.736 Q118.816 823.634 116.709 826.227 Q116.131 826.898 113.029 830.116 Q109.927 833.31 104.279 839.074 Z\" fill=\"#000000\" fill-rule=\"evenodd\" fill-opacity=\"1\" /><path clip-path=\"url(#clip480)\" d=\"M64.0708 499.977 Q60.4597 499.977 58.631 503.542 Q56.8254 507.083 56.8254 514.213 Q56.8254 521.319 58.631 524.884 Q60.4597 528.426 64.0708 528.426 Q67.705 528.426 69.5105 524.884 Q71.3392 521.319 71.3392 514.213 Q71.3392 507.083 69.5105 503.542 Q67.705 499.977 64.0708 499.977 M64.0708 496.273 Q69.8809 496.273 72.9365 500.88 Q76.0151 505.463 76.0151 514.213 Q76.0151 522.94 72.9365 527.546 Q69.8809 532.129 64.0708 532.129 Q58.2606 532.129 55.1819 527.546 Q52.1264 522.94 52.1264 514.213 Q52.1264 505.463 55.1819 500.88 Q58.2606 496.273 64.0708 496.273 Z\" fill=\"#000000\" fill-rule=\"evenodd\" fill-opacity=\"1\" /><path clip-path=\"url(#clip480)\" d=\"M84.2327 525.578 L89.1169 525.578 L89.1169 531.458 L84.2327 531.458 L84.2327 525.578 Z\" fill=\"#000000\" fill-rule=\"evenodd\" fill-opacity=\"1\" /><path clip-path=\"url(#clip480)\" d=\"M113.469 512.824 Q116.825 513.542 118.7 515.81 Q120.598 518.079 120.598 521.412 Q120.598 526.528 117.08 529.328 Q113.561 532.129 107.08 532.129 Q104.904 532.129 102.589 531.69 Q100.297 531.273 97.8437 530.416 L97.8437 525.903 Q99.7882 527.037 102.103 527.616 Q104.418 528.194 106.941 528.194 Q111.339 528.194 113.631 526.458 Q115.945 524.722 115.945 521.412 Q115.945 518.356 113.793 516.643 Q111.663 514.907 107.844 514.907 L103.816 514.907 L103.816 511.065 L108.029 511.065 Q111.478 511.065 113.307 509.699 Q115.135 508.31 115.135 505.717 Q115.135 503.055 113.237 501.643 Q111.362 500.208 107.844 500.208 Q105.922 500.208 103.723 500.625 Q101.524 501.042 98.8854 501.921 L98.8854 497.755 Q101.547 497.014 103.862 496.643 Q106.2 496.273 108.26 496.273 Q113.584 496.273 116.686 498.704 Q119.788 501.111 119.788 505.231 Q119.788 508.102 118.145 510.092 Q116.501 512.06 113.469 512.824 Z\" fill=\"#000000\" fill-rule=\"evenodd\" fill-opacity=\"1\" /><path clip-path=\"url(#clip480)\" d=\"M62.9365 188.426 Q59.3254 188.426 57.4967 191.991 Q55.6912 195.532 55.6912 202.662 Q55.6912 209.768 57.4967 213.333 Q59.3254 216.875 62.9365 216.875 Q66.5707 216.875 68.3763 213.333 Q70.205 209.768 70.205 202.662 Q70.205 195.532 68.3763 191.991 Q66.5707 188.426 62.9365 188.426 M62.9365 184.722 Q68.7467 184.722 71.8022 189.329 Q74.8809 193.912 74.8809 202.662 Q74.8809 211.389 71.8022 215.995 Q68.7467 220.578 62.9365 220.578 Q57.1264 220.578 54.0477 215.995 Q50.9921 211.389 50.9921 202.662 Q50.9921 193.912 54.0477 189.329 Q57.1264 184.722 62.9365 184.722 Z\" fill=\"#000000\" fill-rule=\"evenodd\" fill-opacity=\"1\" /><path clip-path=\"url(#clip480)\" d=\"M83.0984 214.027 L87.9827 214.027 L87.9827 219.907 L83.0984 219.907 L83.0984 214.027 Z\" fill=\"#000000\" fill-rule=\"evenodd\" fill-opacity=\"1\" /><path clip-path=\"url(#clip480)\" d=\"M111.015 189.421 L99.2095 207.87 L111.015 207.87 L111.015 189.421 M109.788 185.347 L115.668 185.347 L115.668 207.87 L120.598 207.87 L120.598 211.759 L115.668 211.759 L115.668 219.907 L111.015 219.907 L111.015 211.759 L95.4132 211.759 L95.4132 207.245 L109.788 185.347 Z\" fill=\"#000000\" fill-rule=\"evenodd\" fill-opacity=\"1\" /><polyline clip-path=\"url(#clip482)\" style=\"stroke:#009af9; stroke-linecap:butt; stroke-linejoin:round; stroke-width:4; stroke-opacity:1; fill:none\" points=\"\n",
       "  218.754,1445.72 229.165,1445.72 239.576,1445.72 249.988,1445.72 260.399,1445.72 270.81,1445.72 281.221,1445.72 291.633,1445.72 302.044,1445.72 312.455,1445.72 \n",
       "  322.867,1445.72 333.278,1445.72 343.689,1445.72 354.1,1445.72 364.512,1445.72 374.923,1445.72 385.334,1445.72 395.746,1445.72 406.157,1445.72 416.568,1445.72 \n",
       "  426.979,1445.72 437.391,1445.72 447.802,1445.72 458.213,1445.72 468.625,1445.72 479.036,1445.72 489.447,1445.72 499.858,1445.72 510.27,1445.72 520.681,1445.72 \n",
       "  531.092,1445.72 541.504,1445.72 551.915,1445.72 562.326,1445.72 572.738,1445.72 583.149,1445.72 593.56,1445.72 603.971,1445.72 614.383,1445.72 624.794,1445.72 \n",
       "  635.205,1445.72 645.617,1445.72 656.028,1445.72 666.439,1445.72 676.85,1445.72 687.262,1445.72 697.673,1445.72 708.084,1445.72 718.496,1445.72 728.907,1445.72 \n",
       "  739.318,1445.72 749.729,1445.72 760.141,1445.72 770.552,1445.72 780.963,1445.72 791.375,1445.72 801.786,1445.72 812.197,1445.72 822.609,1445.72 833.02,1445.72 \n",
       "  843.431,1445.72 853.842,1445.72 864.254,1445.72 874.665,1445.72 885.076,1445.72 895.488,1445.72 905.899,1445.72 916.31,1445.72 926.721,1445.72 937.133,1445.72 \n",
       "  947.544,1445.72 957.955,1445.72 968.367,1445.72 978.778,1445.72 989.189,1445.72 999.6,1445.72 1010.01,1445.72 1020.42,1445.72 1030.83,1445.72 1041.25,1445.72 \n",
       "  1051.66,1445.72 1062.07,1445.72 1072.48,1445.72 1082.89,1445.72 1093.3,1445.72 1103.71,1445.72 1114.12,1445.72 1124.54,1445.72 1134.95,1445.72 1145.36,1445.72 \n",
       "  1155.77,1445.72 1166.18,1445.72 1176.59,1445.72 1187,1445.72 1197.41,1445.72 1207.83,1445.72 1218.24,1445.72 1228.65,1445.72 1239.06,1445.72 1249.47,1445.72 \n",
       "  1259.88,1445.72 1270.29,1445.72 1280.71,1445.72 1291.12,1445.72 1301.53,1445.72 1311.94,1445.72 1322.35,1445.72 1332.76,1445.72 1343.17,1445.72 1353.58,1445.72 \n",
       "  1364,1445.72 1374.41,1445.72 1384.82,1445.72 1395.23,1445.72 1405.64,1445.72 1416.05,1445.72 1426.46,1445.72 1436.87,1445.72 1447.29,1445.72 1457.7,1445.72 \n",
       "  1468.11,1445.72 1478.52,1445.72 1488.93,1445.72 1499.34,1445.72 1509.75,1445.72 1520.16,1445.72 1530.58,1445.72 1540.99,1445.72 1551.4,1445.72 1561.81,1445.72 \n",
       "  1572.22,1445.72 1582.63,1445.72 1593.04,1445.72 1603.46,1445.72 1613.87,1445.72 1624.28,1445.72 1634.69,1445.72 1645.1,1445.72 1655.51,1445.72 1665.92,1445.72 \n",
       "  1676.33,1445.72 1686.75,1445.72 1697.16,1445.72 1707.57,1445.72 1717.98,1445.72 1728.39,1445.72 1738.8,1445.72 1749.21,1445.72 1759.62,1445.72 1770.04,1445.72 \n",
       "  1780.45,1445.72 1790.86,1445.72 1801.27,1445.72 1811.68,1445.72 1822.09,1445.72 1832.5,1445.72 1842.91,1445.72 1853.33,1445.72 1863.74,1445.72 1874.15,1445.72 \n",
       "  1884.56,1445.72 1894.97,1445.72 1905.38,1445.72 1915.79,1445.72 1926.21,1445.72 1936.62,1445.72 1947.03,1445.72 1957.44,1445.72 1967.85,1445.72 1978.26,1445.72 \n",
       "  1988.67,1400.85 1999.08,1242.58 2009.5,1141.64 2019.91,1041.32 2030.32,953.465 2040.73,864.361 2051.14,797.066 2061.55,737.249 2071.96,681.793 2082.37,628.829 \n",
       "  2092.79,586.458 2103.2,545.333 2113.61,509.193 2124.02,477.415 2134.43,446.883 2144.84,415.105 2155.25,382.704 2165.67,364.634 2176.08,332.232 2186.49,299.208 \n",
       "  2196.9,277.399 2207.31,251.852 2217.72,231.913 2228.13,207.612 2238.54,182.065 2248.96,159.633 2259.37,139.071 2269.78,122.247 2280.19,107.292 2290.6,87.9763 \n",
       "  \n",
       "  \"/>\n",
       "<path clip-path=\"url(#clip480)\" d=\"\n",
       "M1957.29 198.898 L2279.55 198.898 L2279.55 95.2176 L1957.29 95.2176  Z\n",
       "  \" fill=\"#ffffff\" fill-rule=\"evenodd\" fill-opacity=\"1\"/>\n",
       "<polyline clip-path=\"url(#clip480)\" style=\"stroke:#000000; stroke-linecap:butt; stroke-linejoin:round; stroke-width:4; stroke-opacity:1; fill:none\" points=\"\n",
       "  1957.29,198.898 2279.55,198.898 2279.55,95.2176 1957.29,95.2176 1957.29,198.898 \n",
       "  \"/>\n",
       "<polyline clip-path=\"url(#clip480)\" style=\"stroke:#009af9; stroke-linecap:butt; stroke-linejoin:round; stroke-width:4; stroke-opacity:1; fill:none\" points=\"\n",
       "  1981.69,147.058 2128.11,147.058 \n",
       "  \"/>\n",
       "<path clip-path=\"url(#clip480)\" d=\"M2173.02 139.407 L2173.02 143.389 Q2171.21 142.393 2169.38 141.907 Q2167.58 141.398 2165.72 141.398 Q2161.58 141.398 2159.29 144.037 Q2157 146.652 2157 151.398 Q2157 156.143 2159.29 158.782 Q2161.58 161.398 2165.72 161.398 Q2167.58 161.398 2169.38 160.912 Q2171.21 160.402 2173.02 159.407 L2173.02 163.342 Q2171.23 164.176 2169.31 164.592 Q2167.41 165.009 2165.26 165.009 Q2159.4 165.009 2155.96 161.328 Q2152.51 157.648 2152.51 151.398 Q2152.51 145.055 2155.98 141.421 Q2159.47 137.787 2165.54 137.787 Q2167.51 137.787 2169.38 138.203 Q2171.26 138.597 2173.02 139.407 Z\" fill=\"#000000\" fill-rule=\"evenodd\" fill-opacity=\"1\" /><path clip-path=\"url(#clip480)\" d=\"M2192.21 151.305 Q2187.04 151.305 2185.05 152.486 Q2183.06 153.666 2183.06 156.514 Q2183.06 158.782 2184.54 160.125 Q2186.05 161.444 2188.62 161.444 Q2192.16 161.444 2194.29 158.944 Q2196.44 156.421 2196.44 152.254 L2196.44 151.305 L2192.21 151.305 M2200.7 149.546 L2200.7 164.338 L2196.44 164.338 L2196.44 160.402 Q2194.98 162.763 2192.81 163.898 Q2190.63 165.009 2187.48 165.009 Q2183.5 165.009 2181.14 162.787 Q2178.8 160.541 2178.8 156.791 Q2178.8 152.416 2181.72 150.194 Q2184.66 147.972 2190.47 147.972 L2196.44 147.972 L2196.44 147.555 Q2196.44 144.615 2194.5 143.018 Q2192.58 141.398 2189.08 141.398 Q2186.86 141.398 2184.75 141.93 Q2182.65 142.463 2180.7 143.527 L2180.7 139.592 Q2183.04 138.69 2185.24 138.25 Q2187.44 137.787 2189.52 137.787 Q2195.15 137.787 2197.92 140.703 Q2200.7 143.62 2200.7 149.546 Z\" fill=\"#000000\" fill-rule=\"evenodd\" fill-opacity=\"1\" /><path clip-path=\"url(#clip480)\" d=\"M2209.03 154.106 L2209.03 138.412 L2213.29 138.412 L2213.29 153.944 Q2213.29 157.625 2214.73 159.476 Q2216.16 161.305 2219.03 161.305 Q2222.48 161.305 2224.47 159.106 Q2226.49 156.907 2226.49 153.111 L2226.49 138.412 L2230.75 138.412 L2230.75 164.338 L2226.49 164.338 L2226.49 160.356 Q2224.94 162.717 2222.88 163.875 Q2220.84 165.009 2218.13 165.009 Q2213.66 165.009 2211.35 162.231 Q2209.03 159.453 2209.03 154.106 M2219.75 137.787 L2219.75 137.787 Z\" fill=\"#000000\" fill-rule=\"evenodd\" fill-opacity=\"1\" /></svg>\n"
      ]
     },
     "execution_count": 21,
     "metadata": {},
     "output_type": "execute_result"
    }
   ],
   "source": [
    "#Marginals\n",
    "bins = 10 * Int(T)\n",
    "using Plots\n",
    "p_cau = zeros(N,bins)\n",
    "for i = 1:N\n",
    "    for t = 1:bins\n",
    "       p_cau[i,t] = marginal(i, t*T/bins, statscau)\n",
    "    end\n",
    "end\n",
    "i = 1\n",
    "plot(LinRange(1,Int(T),bins),p_cau[i,:], label = \"cau\")\n",
    "#plot!(LinRange(1,Int(T),Int(round(T/dt))),p_sib[i,:], label = \"sib\")"
   ]
  },
  {
   "cell_type": "code",
   "execution_count": 95,
   "metadata": {},
   "outputs": [
    {
     "data": {
      "image/svg+xml": [
       "<?xml version=\"1.0\" encoding=\"utf-8\"?>\n",
       "<svg xmlns=\"http://www.w3.org/2000/svg\" xmlns:xlink=\"http://www.w3.org/1999/xlink\" width=\"600\" height=\"400\" viewBox=\"0 0 2400 1600\">\n",
       "<defs>\n",
       "  <clipPath id=\"clip380\">\n",
       "    <rect x=\"0\" y=\"0\" width=\"2400\" height=\"1600\"/>\n",
       "  </clipPath>\n",
       "</defs>\n",
       "<path clip-path=\"url(#clip380)\" d=\"\n",
       "M0 1600 L2400 1600 L2400 0 L0 0  Z\n",
       "  \" fill=\"#ffffff\" fill-rule=\"evenodd\" fill-opacity=\"1\"/>\n",
       "<defs>\n",
       "  <clipPath id=\"clip381\">\n",
       "    <rect x=\"480\" y=\"0\" width=\"1681\" height=\"1600\"/>\n",
       "  </clipPath>\n",
       "</defs>\n",
       "<path clip-path=\"url(#clip380)\" d=\"\n",
       "M219.542 1423.18 L2352.76 1423.18 L2352.76 123.472 L219.542 123.472  Z\n",
       "  \" fill=\"#ffffff\" fill-rule=\"evenodd\" fill-opacity=\"1\"/>\n",
       "<defs>\n",
       "  <clipPath id=\"clip382\">\n",
       "    <rect x=\"219\" y=\"123\" width=\"2134\" height=\"1301\"/>\n",
       "  </clipPath>\n",
       "</defs>\n",
       "<polyline clip-path=\"url(#clip382)\" style=\"stroke:#000000; stroke-linecap:butt; stroke-linejoin:round; stroke-width:2; stroke-opacity:0.1; fill:none\" points=\"\n",
       "  703.593,1423.18 703.593,123.472 \n",
       "  \"/>\n",
       "<polyline clip-path=\"url(#clip382)\" style=\"stroke:#000000; stroke-linecap:butt; stroke-linejoin:round; stroke-width:2; stroke-opacity:0.1; fill:none\" points=\"\n",
       "  1233.19,1423.18 1233.19,123.472 \n",
       "  \"/>\n",
       "<polyline clip-path=\"url(#clip382)\" style=\"stroke:#000000; stroke-linecap:butt; stroke-linejoin:round; stroke-width:2; stroke-opacity:0.1; fill:none\" points=\"\n",
       "  1762.79,1423.18 1762.79,123.472 \n",
       "  \"/>\n",
       "<polyline clip-path=\"url(#clip382)\" style=\"stroke:#000000; stroke-linecap:butt; stroke-linejoin:round; stroke-width:2; stroke-opacity:0.1; fill:none\" points=\"\n",
       "  2292.38,1423.18 2292.38,123.472 \n",
       "  \"/>\n",
       "<polyline clip-path=\"url(#clip380)\" style=\"stroke:#000000; stroke-linecap:butt; stroke-linejoin:round; stroke-width:4; stroke-opacity:1; fill:none\" points=\"\n",
       "  219.542,1423.18 2352.76,1423.18 \n",
       "  \"/>\n",
       "<polyline clip-path=\"url(#clip380)\" style=\"stroke:#000000; stroke-linecap:butt; stroke-linejoin:round; stroke-width:4; stroke-opacity:1; fill:none\" points=\"\n",
       "  703.593,1423.18 703.593,1404.28 \n",
       "  \"/>\n",
       "<polyline clip-path=\"url(#clip380)\" style=\"stroke:#000000; stroke-linecap:butt; stroke-linejoin:round; stroke-width:4; stroke-opacity:1; fill:none\" points=\"\n",
       "  1233.19,1423.18 1233.19,1404.28 \n",
       "  \"/>\n",
       "<polyline clip-path=\"url(#clip380)\" style=\"stroke:#000000; stroke-linecap:butt; stroke-linejoin:round; stroke-width:4; stroke-opacity:1; fill:none\" points=\"\n",
       "  1762.79,1423.18 1762.79,1404.28 \n",
       "  \"/>\n",
       "<polyline clip-path=\"url(#clip380)\" style=\"stroke:#000000; stroke-linecap:butt; stroke-linejoin:round; stroke-width:4; stroke-opacity:1; fill:none\" points=\"\n",
       "  2292.38,1423.18 2292.38,1404.28 \n",
       "  \"/>\n",
       "<path clip-path=\"url(#clip380)\" d=\"M693.871 1451.02 L712.227 1451.02 L712.227 1454.96 L698.153 1454.96 L698.153 1463.43 Q699.172 1463.08 700.19 1462.92 Q701.209 1462.73 702.227 1462.73 Q708.014 1462.73 711.394 1465.9 Q714.774 1469.08 714.774 1474.49 Q714.774 1480.07 711.301 1483.17 Q707.829 1486.25 701.51 1486.25 Q699.334 1486.25 697.065 1485.88 Q694.82 1485.51 692.413 1484.77 L692.413 1480.07 Q694.496 1481.2 696.718 1481.76 Q698.94 1482.32 701.417 1482.32 Q705.422 1482.32 707.76 1480.21 Q710.098 1478.1 710.098 1474.49 Q710.098 1470.88 707.76 1468.77 Q705.422 1466.67 701.417 1466.67 Q699.542 1466.67 697.667 1467.08 Q695.815 1467.5 693.871 1468.38 L693.871 1451.02 Z\" fill=\"#000000\" fill-rule=\"evenodd\" fill-opacity=\"1\" /><path clip-path=\"url(#clip380)\" d=\"M1207.88 1481.64 L1215.52 1481.64 L1215.52 1455.28 L1207.21 1456.95 L1207.21 1452.69 L1215.47 1451.02 L1220.15 1451.02 L1220.15 1481.64 L1227.78 1481.64 L1227.78 1485.58 L1207.88 1485.58 L1207.88 1481.64 Z\" fill=\"#000000\" fill-rule=\"evenodd\" fill-opacity=\"1\" /><path clip-path=\"url(#clip380)\" d=\"M1247.23 1454.1 Q1243.62 1454.1 1241.79 1457.66 Q1239.98 1461.2 1239.98 1468.33 Q1239.98 1475.44 1241.79 1479.01 Q1243.62 1482.55 1247.23 1482.55 Q1250.86 1482.55 1252.67 1479.01 Q1254.5 1475.44 1254.5 1468.33 Q1254.5 1461.2 1252.67 1457.66 Q1250.86 1454.1 1247.23 1454.1 M1247.23 1450.39 Q1253.04 1450.39 1256.09 1455 Q1259.17 1459.58 1259.17 1468.33 Q1259.17 1477.06 1256.09 1481.67 Q1253.04 1486.25 1247.23 1486.25 Q1241.42 1486.25 1238.34 1481.67 Q1235.28 1477.06 1235.28 1468.33 Q1235.28 1459.58 1238.34 1455 Q1241.42 1450.39 1247.23 1450.39 Z\" fill=\"#000000\" fill-rule=\"evenodd\" fill-opacity=\"1\" /><path clip-path=\"url(#clip380)\" d=\"M1737.97 1481.64 L1745.61 1481.64 L1745.61 1455.28 L1737.3 1456.95 L1737.3 1452.69 L1745.56 1451.02 L1750.24 1451.02 L1750.24 1481.64 L1757.88 1481.64 L1757.88 1485.58 L1737.97 1485.58 L1737.97 1481.64 Z\" fill=\"#000000\" fill-rule=\"evenodd\" fill-opacity=\"1\" /><path clip-path=\"url(#clip380)\" d=\"M1767.37 1451.02 L1785.73 1451.02 L1785.73 1454.96 L1771.65 1454.96 L1771.65 1463.43 Q1772.67 1463.08 1773.69 1462.92 Q1774.71 1462.73 1775.73 1462.73 Q1781.51 1462.73 1784.89 1465.9 Q1788.27 1469.08 1788.27 1474.49 Q1788.27 1480.07 1784.8 1483.17 Q1781.33 1486.25 1775.01 1486.25 Q1772.83 1486.25 1770.56 1485.88 Q1768.32 1485.51 1765.91 1484.77 L1765.91 1480.07 Q1767.99 1481.2 1770.22 1481.76 Q1772.44 1482.32 1774.92 1482.32 Q1778.92 1482.32 1781.26 1480.21 Q1783.6 1478.1 1783.6 1474.49 Q1783.6 1470.88 1781.26 1468.77 Q1778.92 1466.67 1774.92 1466.67 Q1773.04 1466.67 1771.17 1467.08 Q1769.31 1467.5 1767.37 1468.38 L1767.37 1451.02 Z\" fill=\"#000000\" fill-rule=\"evenodd\" fill-opacity=\"1\" /><path clip-path=\"url(#clip380)\" d=\"M2271.16 1481.64 L2287.47 1481.64 L2287.47 1485.58 L2265.53 1485.58 L2265.53 1481.64 Q2268.19 1478.89 2272.78 1474.26 Q2277.38 1469.61 2278.56 1468.27 Q2280.81 1465.74 2281.69 1464.01 Q2282.59 1462.25 2282.59 1460.56 Q2282.59 1457.8 2280.65 1456.07 Q2278.72 1454.33 2275.62 1454.33 Q2273.42 1454.33 2270.97 1455.09 Q2268.54 1455.86 2265.76 1457.41 L2265.76 1452.69 Q2268.59 1451.55 2271.04 1450.97 Q2273.49 1450.39 2275.53 1450.39 Q2280.9 1450.39 2284.09 1453.08 Q2287.29 1455.77 2287.29 1460.26 Q2287.29 1462.39 2286.48 1464.31 Q2285.69 1466.2 2283.59 1468.8 Q2283.01 1469.47 2279.91 1472.69 Q2276.8 1475.88 2271.16 1481.64 Z\" fill=\"#000000\" fill-rule=\"evenodd\" fill-opacity=\"1\" /><path clip-path=\"url(#clip380)\" d=\"M2307.29 1454.1 Q2303.68 1454.1 2301.85 1457.66 Q2300.04 1461.2 2300.04 1468.33 Q2300.04 1475.44 2301.85 1479.01 Q2303.68 1482.55 2307.29 1482.55 Q2310.92 1482.55 2312.73 1479.01 Q2314.56 1475.44 2314.56 1468.33 Q2314.56 1461.2 2312.73 1457.66 Q2310.92 1454.1 2307.29 1454.1 M2307.29 1450.39 Q2313.1 1450.39 2316.15 1455 Q2319.23 1459.58 2319.23 1468.33 Q2319.23 1477.06 2316.15 1481.67 Q2313.1 1486.25 2307.29 1486.25 Q2301.48 1486.25 2298.4 1481.67 Q2295.34 1477.06 2295.34 1468.33 Q2295.34 1459.58 2298.4 1455 Q2301.48 1450.39 2307.29 1450.39 Z\" fill=\"#000000\" fill-rule=\"evenodd\" fill-opacity=\"1\" /><path clip-path=\"url(#clip380)\" d=\"M1285.21 1522.27 L1285.21 1532.4 L1297.27 1532.4 L1297.27 1536.95 L1285.21 1536.95 L1285.21 1556.3 Q1285.21 1560.66 1286.39 1561.9 Q1287.6 1563.14 1291.26 1563.14 L1297.27 1563.14 L1297.27 1568.04 L1291.26 1568.04 Q1284.48 1568.04 1281.9 1565.53 Q1279.32 1562.98 1279.32 1556.3 L1279.32 1536.95 L1275.02 1536.95 L1275.02 1532.4 L1279.32 1532.4 L1279.32 1522.27 L1285.21 1522.27 Z\" fill=\"#000000\" fill-rule=\"evenodd\" fill-opacity=\"1\" /><polyline clip-path=\"url(#clip382)\" style=\"stroke:#000000; stroke-linecap:butt; stroke-linejoin:round; stroke-width:2; stroke-opacity:0.1; fill:none\" points=\"\n",
       "  219.542,1423.18 2352.76,1423.18 \n",
       "  \"/>\n",
       "<polyline clip-path=\"url(#clip382)\" style=\"stroke:#000000; stroke-linecap:butt; stroke-linejoin:round; stroke-width:2; stroke-opacity:0.1; fill:none\" points=\"\n",
       "  219.542,1168.34 2352.76,1168.34 \n",
       "  \"/>\n",
       "<polyline clip-path=\"url(#clip382)\" style=\"stroke:#000000; stroke-linecap:butt; stroke-linejoin:round; stroke-width:2; stroke-opacity:0.1; fill:none\" points=\"\n",
       "  219.542,913.491 2352.76,913.491 \n",
       "  \"/>\n",
       "<polyline clip-path=\"url(#clip382)\" style=\"stroke:#000000; stroke-linecap:butt; stroke-linejoin:round; stroke-width:2; stroke-opacity:0.1; fill:none\" points=\"\n",
       "  219.542,658.646 2352.76,658.646 \n",
       "  \"/>\n",
       "<polyline clip-path=\"url(#clip382)\" style=\"stroke:#000000; stroke-linecap:butt; stroke-linejoin:round; stroke-width:2; stroke-opacity:0.1; fill:none\" points=\"\n",
       "  219.542,403.801 2352.76,403.801 \n",
       "  \"/>\n",
       "<polyline clip-path=\"url(#clip382)\" style=\"stroke:#000000; stroke-linecap:butt; stroke-linejoin:round; stroke-width:2; stroke-opacity:0.1; fill:none\" points=\"\n",
       "  219.542,148.957 2352.76,148.957 \n",
       "  \"/>\n",
       "<polyline clip-path=\"url(#clip380)\" style=\"stroke:#000000; stroke-linecap:butt; stroke-linejoin:round; stroke-width:4; stroke-opacity:1; fill:none\" points=\"\n",
       "  219.542,1423.18 219.542,123.472 \n",
       "  \"/>\n",
       "<polyline clip-path=\"url(#clip380)\" style=\"stroke:#000000; stroke-linecap:butt; stroke-linejoin:round; stroke-width:4; stroke-opacity:1; fill:none\" points=\"\n",
       "  219.542,1423.18 238.44,1423.18 \n",
       "  \"/>\n",
       "<polyline clip-path=\"url(#clip380)\" style=\"stroke:#000000; stroke-linecap:butt; stroke-linejoin:round; stroke-width:4; stroke-opacity:1; fill:none\" points=\"\n",
       "  219.542,1168.34 238.44,1168.34 \n",
       "  \"/>\n",
       "<polyline clip-path=\"url(#clip380)\" style=\"stroke:#000000; stroke-linecap:butt; stroke-linejoin:round; stroke-width:4; stroke-opacity:1; fill:none\" points=\"\n",
       "  219.542,913.491 238.44,913.491 \n",
       "  \"/>\n",
       "<polyline clip-path=\"url(#clip380)\" style=\"stroke:#000000; stroke-linecap:butt; stroke-linejoin:round; stroke-width:4; stroke-opacity:1; fill:none\" points=\"\n",
       "  219.542,658.646 238.44,658.646 \n",
       "  \"/>\n",
       "<polyline clip-path=\"url(#clip380)\" style=\"stroke:#000000; stroke-linecap:butt; stroke-linejoin:round; stroke-width:4; stroke-opacity:1; fill:none\" points=\"\n",
       "  219.542,403.801 238.44,403.801 \n",
       "  \"/>\n",
       "<polyline clip-path=\"url(#clip380)\" style=\"stroke:#000000; stroke-linecap:butt; stroke-linejoin:round; stroke-width:4; stroke-opacity:1; fill:none\" points=\"\n",
       "  219.542,148.957 238.44,148.957 \n",
       "  \"/>\n",
       "<path clip-path=\"url(#clip380)\" d=\"M127.362 1408.98 Q123.751 1408.98 121.922 1412.54 Q120.117 1416.08 120.117 1423.21 Q120.117 1430.32 121.922 1433.89 Q123.751 1437.43 127.362 1437.43 Q130.996 1437.43 132.802 1433.89 Q134.63 1430.32 134.63 1423.21 Q134.63 1416.08 132.802 1412.54 Q130.996 1408.98 127.362 1408.98 M127.362 1405.27 Q133.172 1405.27 136.228 1409.88 Q139.306 1414.46 139.306 1423.21 Q139.306 1431.94 136.228 1436.55 Q133.172 1441.13 127.362 1441.13 Q121.552 1441.13 118.473 1436.55 Q115.418 1431.94 115.418 1423.21 Q115.418 1414.46 118.473 1409.88 Q121.552 1405.27 127.362 1405.27 Z\" fill=\"#000000\" fill-rule=\"evenodd\" fill-opacity=\"1\" /><path clip-path=\"url(#clip380)\" d=\"M147.524 1434.58 L152.408 1434.58 L152.408 1440.46 L147.524 1440.46 L147.524 1434.58 Z\" fill=\"#000000\" fill-rule=\"evenodd\" fill-opacity=\"1\" /><path clip-path=\"url(#clip380)\" d=\"M162.64 1405.9 L180.996 1405.9 L180.996 1409.84 L166.922 1409.84 L166.922 1418.31 Q167.94 1417.96 168.959 1417.8 Q169.977 1417.61 170.996 1417.61 Q176.783 1417.61 180.163 1420.78 Q183.542 1423.96 183.542 1429.37 Q183.542 1434.95 180.07 1438.05 Q176.598 1441.13 170.278 1441.13 Q168.102 1441.13 165.834 1440.76 Q163.589 1440.39 161.181 1439.65 L161.181 1434.95 Q163.265 1436.08 165.487 1436.64 Q167.709 1437.2 170.186 1437.2 Q174.19 1437.2 176.528 1435.09 Q178.866 1432.98 178.866 1429.37 Q178.866 1425.76 176.528 1423.65 Q174.19 1421.55 170.186 1421.55 Q168.311 1421.55 166.436 1421.96 Q164.584 1422.38 162.64 1423.26 L162.64 1405.9 Z\" fill=\"#000000\" fill-rule=\"evenodd\" fill-opacity=\"1\" /><path clip-path=\"url(#clip380)\" d=\"M126.205 1154.13 Q122.593 1154.13 120.765 1157.7 Q118.959 1161.24 118.959 1168.37 Q118.959 1175.48 120.765 1179.04 Q122.593 1182.58 126.205 1182.58 Q129.839 1182.58 131.644 1179.04 Q133.473 1175.48 133.473 1168.37 Q133.473 1161.24 131.644 1157.7 Q129.839 1154.13 126.205 1154.13 M126.205 1150.43 Q132.015 1150.43 135.07 1155.04 Q138.149 1159.62 138.149 1168.37 Q138.149 1177.1 135.07 1181.7 Q132.015 1186.29 126.205 1186.29 Q120.394 1186.29 117.316 1181.7 Q114.26 1177.1 114.26 1168.37 Q114.26 1159.62 117.316 1155.04 Q120.394 1150.43 126.205 1150.43 Z\" fill=\"#000000\" fill-rule=\"evenodd\" fill-opacity=\"1\" /><path clip-path=\"url(#clip380)\" d=\"M146.366 1179.74 L151.251 1179.74 L151.251 1185.62 L146.366 1185.62 L146.366 1179.74 Z\" fill=\"#000000\" fill-rule=\"evenodd\" fill-opacity=\"1\" /><path clip-path=\"url(#clip380)\" d=\"M172.014 1166.47 Q168.866 1166.47 167.015 1168.62 Q165.186 1170.78 165.186 1174.53 Q165.186 1178.25 167.015 1180.43 Q168.866 1182.58 172.014 1182.58 Q175.163 1182.58 176.991 1180.43 Q178.843 1178.25 178.843 1174.53 Q178.843 1170.78 176.991 1168.62 Q175.163 1166.47 172.014 1166.47 M181.297 1151.82 L181.297 1156.08 Q179.538 1155.24 177.732 1154.81 Q175.95 1154.37 174.19 1154.37 Q169.561 1154.37 167.107 1157.49 Q164.677 1160.62 164.329 1166.93 Q165.695 1164.92 167.755 1163.86 Q169.815 1162.77 172.292 1162.77 Q177.501 1162.77 180.51 1165.94 Q183.542 1169.09 183.542 1174.53 Q183.542 1179.85 180.394 1183.07 Q177.246 1186.29 172.014 1186.29 Q166.019 1186.29 162.848 1181.7 Q159.677 1177.1 159.677 1168.37 Q159.677 1160.18 163.565 1155.31 Q167.454 1150.43 174.005 1150.43 Q175.764 1150.43 177.547 1150.78 Q179.352 1151.12 181.297 1151.82 Z\" fill=\"#000000\" fill-rule=\"evenodd\" fill-opacity=\"1\" /><path clip-path=\"url(#clip380)\" d=\"M127.269 899.289 Q123.658 899.289 121.83 902.854 Q120.024 906.396 120.024 913.525 Q120.024 920.632 121.83 924.197 Q123.658 927.738 127.269 927.738 Q130.904 927.738 132.709 924.197 Q134.538 920.632 134.538 913.525 Q134.538 906.396 132.709 902.854 Q130.904 899.289 127.269 899.289 M127.269 895.586 Q133.08 895.586 136.135 900.192 Q139.214 904.775 139.214 913.525 Q139.214 922.252 136.135 926.859 Q133.08 931.442 127.269 931.442 Q121.459 931.442 118.381 926.859 Q115.325 922.252 115.325 913.525 Q115.325 904.775 118.381 900.192 Q121.459 895.586 127.269 895.586 Z\" fill=\"#000000\" fill-rule=\"evenodd\" fill-opacity=\"1\" /><path clip-path=\"url(#clip380)\" d=\"M147.431 924.891 L152.316 924.891 L152.316 930.771 L147.431 930.771 L147.431 924.891 Z\" fill=\"#000000\" fill-rule=\"evenodd\" fill-opacity=\"1\" /><path clip-path=\"url(#clip380)\" d=\"M161.32 896.211 L183.542 896.211 L183.542 898.201 L170.996 930.771 L166.112 930.771 L177.917 900.146 L161.32 900.146 L161.32 896.211 Z\" fill=\"#000000\" fill-rule=\"evenodd\" fill-opacity=\"1\" /><path clip-path=\"url(#clip380)\" d=\"M126.459 644.445 Q122.848 644.445 121.019 648.009 Q119.214 651.551 119.214 658.681 Q119.214 665.787 121.019 669.352 Q122.848 672.894 126.459 672.894 Q130.093 672.894 131.899 669.352 Q133.728 665.787 133.728 658.681 Q133.728 651.551 131.899 648.009 Q130.093 644.445 126.459 644.445 M126.459 640.741 Q132.269 640.741 135.325 645.347 Q138.404 649.931 138.404 658.681 Q138.404 667.407 135.325 672.014 Q132.269 676.597 126.459 676.597 Q120.649 676.597 117.57 672.014 Q114.515 667.407 114.515 658.681 Q114.515 649.931 117.57 645.347 Q120.649 640.741 126.459 640.741 Z\" fill=\"#000000\" fill-rule=\"evenodd\" fill-opacity=\"1\" /><path clip-path=\"url(#clip380)\" d=\"M146.621 670.046 L151.505 670.046 L151.505 675.926 L146.621 675.926 L146.621 670.046 Z\" fill=\"#000000\" fill-rule=\"evenodd\" fill-opacity=\"1\" /><path clip-path=\"url(#clip380)\" d=\"M171.69 659.514 Q168.357 659.514 166.436 661.296 Q164.538 663.079 164.538 666.204 Q164.538 669.329 166.436 671.111 Q168.357 672.894 171.69 672.894 Q175.024 672.894 176.945 671.111 Q178.866 669.306 178.866 666.204 Q178.866 663.079 176.945 661.296 Q175.047 659.514 171.69 659.514 M167.015 657.523 Q164.005 656.782 162.315 654.722 Q160.649 652.662 160.649 649.699 Q160.649 645.556 163.589 643.148 Q166.552 640.741 171.69 640.741 Q176.852 640.741 179.792 643.148 Q182.732 645.556 182.732 649.699 Q182.732 652.662 181.042 654.722 Q179.376 656.782 176.389 657.523 Q179.769 658.31 181.644 660.602 Q183.542 662.894 183.542 666.204 Q183.542 671.227 180.464 673.912 Q177.408 676.597 171.69 676.597 Q165.973 676.597 162.894 673.912 Q159.839 671.227 159.839 666.204 Q159.839 662.894 161.737 660.602 Q163.635 658.31 167.015 657.523 M165.302 650.139 Q165.302 652.824 166.968 654.329 Q168.658 655.833 171.69 655.833 Q174.7 655.833 176.389 654.329 Q178.102 652.824 178.102 650.139 Q178.102 647.454 176.389 645.949 Q174.7 644.445 171.69 644.445 Q168.658 644.445 166.968 645.949 Q165.302 647.454 165.302 650.139 Z\" fill=\"#000000\" fill-rule=\"evenodd\" fill-opacity=\"1\" /><path clip-path=\"url(#clip380)\" d=\"M126.552 389.6 Q122.941 389.6 121.112 393.165 Q119.306 396.706 119.306 403.836 Q119.306 410.942 121.112 414.507 Q122.941 418.049 126.552 418.049 Q130.186 418.049 131.992 414.507 Q133.82 410.942 133.82 403.836 Q133.82 396.706 131.992 393.165 Q130.186 389.6 126.552 389.6 M126.552 385.896 Q132.362 385.896 135.417 390.503 Q138.496 395.086 138.496 403.836 Q138.496 412.563 135.417 417.169 Q132.362 421.753 126.552 421.753 Q120.742 421.753 117.663 417.169 Q114.607 412.563 114.607 403.836 Q114.607 395.086 117.663 390.503 Q120.742 385.896 126.552 385.896 Z\" fill=\"#000000\" fill-rule=\"evenodd\" fill-opacity=\"1\" /><path clip-path=\"url(#clip380)\" d=\"M146.714 415.202 L151.598 415.202 L151.598 421.081 L146.714 421.081 L146.714 415.202 Z\" fill=\"#000000\" fill-rule=\"evenodd\" fill-opacity=\"1\" /><path clip-path=\"url(#clip380)\" d=\"M161.922 420.364 L161.922 416.104 Q163.681 416.938 165.487 417.378 Q167.292 417.817 169.028 417.817 Q173.658 417.817 176.089 414.716 Q178.542 411.591 178.889 405.248 Q177.547 407.239 175.487 408.304 Q173.427 409.368 170.927 409.368 Q165.741 409.368 162.709 406.243 Q159.7 403.095 159.7 397.655 Q159.7 392.331 162.848 389.114 Q165.996 385.896 171.227 385.896 Q177.223 385.896 180.371 390.503 Q183.542 395.086 183.542 403.836 Q183.542 412.007 179.653 416.891 Q175.788 421.753 169.237 421.753 Q167.477 421.753 165.672 421.405 Q163.866 421.058 161.922 420.364 M171.227 405.711 Q174.376 405.711 176.204 403.558 Q178.056 401.405 178.056 397.655 Q178.056 393.929 176.204 391.776 Q174.376 389.6 171.227 389.6 Q168.079 389.6 166.227 391.776 Q164.399 393.929 164.399 397.655 Q164.399 401.405 166.227 403.558 Q168.079 405.711 171.227 405.711 Z\" fill=\"#000000\" fill-rule=\"evenodd\" fill-opacity=\"1\" /><path clip-path=\"url(#clip380)\" d=\"M117.177 162.301 L124.816 162.301 L124.816 135.936 L116.506 137.602 L116.506 133.343 L124.769 131.677 L129.445 131.677 L129.445 162.301 L137.084 162.301 L137.084 166.237 L117.177 166.237 L117.177 162.301 Z\" fill=\"#000000\" fill-rule=\"evenodd\" fill-opacity=\"1\" /><path clip-path=\"url(#clip380)\" d=\"M146.529 160.357 L151.413 160.357 L151.413 166.237 L146.529 166.237 L146.529 160.357 Z\" fill=\"#000000\" fill-rule=\"evenodd\" fill-opacity=\"1\" /><path clip-path=\"url(#clip380)\" d=\"M171.598 134.755 Q167.987 134.755 166.158 138.32 Q164.352 141.862 164.352 148.991 Q164.352 156.098 166.158 159.663 Q167.987 163.204 171.598 163.204 Q175.232 163.204 177.038 159.663 Q178.866 156.098 178.866 148.991 Q178.866 141.862 177.038 138.32 Q175.232 134.755 171.598 134.755 M171.598 131.052 Q177.408 131.052 180.464 135.658 Q183.542 140.241 183.542 148.991 Q183.542 157.718 180.464 162.325 Q177.408 166.908 171.598 166.908 Q165.788 166.908 162.709 162.325 Q159.653 157.718 159.653 148.991 Q159.653 140.241 162.709 135.658 Q165.788 131.052 171.598 131.052 Z\" fill=\"#000000\" fill-rule=\"evenodd\" fill-opacity=\"1\" /><path clip-path=\"url(#clip380)\" d=\"M22.818 866.743 L46.4666 875.464 L46.4666 857.99 L22.818 866.743 M16.4842 870.371 L16.4842 863.082 L64.0042 844.972 L64.0042 851.656 L51.8138 855.985 L51.8138 877.405 L64.0042 881.734 L64.0042 888.513 L16.4842 870.371 Z\" fill=\"#000000\" fill-rule=\"evenodd\" fill-opacity=\"1\" /><path clip-path=\"url(#clip380)\" d=\"M16.4842 838.765 L16.4842 832.304 L45.3526 832.304 Q52.9915 832.304 56.3653 829.535 Q59.7073 826.766 59.7073 820.56 Q59.7073 814.385 56.3653 811.616 Q52.9915 808.847 45.3526 808.847 L16.4842 808.847 L16.4842 802.385 L46.1484 802.385 Q55.4423 802.385 60.1847 807.001 Q64.9272 811.584 64.9272 820.56 Q64.9272 829.567 60.1847 834.182 Q55.4423 838.765 46.1484 838.765 L16.4842 838.765 Z\" fill=\"#000000\" fill-rule=\"evenodd\" fill-opacity=\"1\" /><path clip-path=\"url(#clip380)\" d=\"M41.7242 767.788 Q42.4244 765.719 44.7161 763.777 Q47.0077 761.804 51.0181 759.831 L64.0042 753.306 L64.0042 760.213 L51.8138 766.292 Q47.0395 768.647 45.48 770.875 Q43.9204 773.071 43.9204 776.891 L43.9204 783.893 L64.0042 783.893 L64.0042 790.322 L16.4842 790.322 L16.4842 775.809 Q16.4842 767.661 19.8898 763.65 Q23.2955 759.64 30.1704 759.64 Q34.6582 759.64 37.6183 761.74 Q40.5784 763.809 41.7242 767.788 M21.7677 783.893 L38.6368 783.893 L38.6368 775.809 Q38.6368 771.162 36.5043 768.806 Q34.34 766.419 30.1704 766.419 Q26.0009 766.419 23.9002 768.806 Q21.7677 771.162 21.7677 775.809 L21.7677 783.893 Z\" fill=\"#000000\" fill-rule=\"evenodd\" fill-opacity=\"1\" /><path clip-path=\"url(#clip380)\" d=\"M20.8447 725.742 Q20.8447 732.745 26.0645 736.882 Q31.2844 740.988 40.2919 740.988 Q49.2675 740.988 54.4874 736.882 Q59.7073 732.745 59.7073 725.742 Q59.7073 718.74 54.4874 714.666 Q49.2675 710.56 40.2919 710.56 Q31.2844 710.56 26.0645 714.666 Q20.8447 718.74 20.8447 725.742 M15.6248 725.742 Q15.6248 715.748 22.3406 709.764 Q29.0246 703.781 40.2919 703.781 Q51.5274 703.781 58.2432 709.764 Q64.9272 715.748 64.9272 725.742 Q64.9272 735.768 58.2432 741.784 Q51.5592 747.768 40.2919 747.768 Q29.0246 747.768 22.3406 741.784 Q15.6248 735.768 15.6248 725.742 Z\" fill=\"#000000\" fill-rule=\"evenodd\" fill-opacity=\"1\" /><path clip-path=\"url(#clip380)\" d=\"M20.1444 658.139 L26.9239 658.139 Q23.9002 661.385 22.4043 665.077 Q20.9083 668.737 20.9083 672.875 Q20.9083 681.023 25.9054 685.352 Q30.8707 689.681 40.2919 689.681 Q49.6813 689.681 54.6784 685.352 Q59.6436 681.023 59.6436 672.875 Q59.6436 668.737 58.1477 665.077 Q56.6518 661.385 53.6281 658.139 L60.3439 658.139 Q62.6355 661.512 63.7814 665.3 Q64.9272 669.056 64.9272 673.257 Q64.9272 684.047 58.3387 690.254 Q51.7183 696.46 40.2919 696.46 Q28.8336 696.46 22.2451 690.254 Q15.6248 684.047 15.6248 673.257 Q15.6248 668.992 16.7706 665.236 Q17.8846 661.449 20.1444 658.139 Z\" fill=\"#000000\" fill-rule=\"evenodd\" fill-opacity=\"1\" /><path clip-path=\"url(#clip380)\" d=\"M446.559 16.7545 L446.559 25.383 Q442.427 21.5346 437.728 19.6307 Q433.069 17.7268 427.803 17.7268 Q417.433 17.7268 411.923 24.0867 Q406.414 30.4061 406.414 42.3968 Q406.414 54.3469 411.923 60.7069 Q417.433 67.0263 427.803 67.0263 Q433.069 67.0263 437.728 65.1223 Q442.427 63.2184 446.559 59.3701 L446.559 67.9175 Q442.265 70.8341 437.444 72.2924 Q432.664 73.7508 427.317 73.7508 Q413.584 73.7508 405.685 65.3654 Q397.786 56.9395 397.786 42.3968 Q397.786 27.8135 405.685 19.4281 Q413.584 11.0023 427.317 11.0023 Q432.745 11.0023 437.525 12.4606 Q442.346 13.8784 446.559 16.7545 Z\" fill=\"#000000\" fill-rule=\"evenodd\" fill-opacity=\"1\" /><path clip-path=\"url(#clip380)\" d=\"M479.492 49.7694 Q470.459 49.7694 466.975 51.8354 Q463.491 53.9013 463.491 58.8839 Q463.491 62.8538 466.084 65.2034 Q468.717 67.5124 473.214 67.5124 Q479.411 67.5124 483.138 63.1374 Q486.906 58.7219 486.906 51.4303 L486.906 49.7694 L479.492 49.7694 M494.359 46.6907 L494.359 72.576 L486.906 72.576 L486.906 65.6895 Q484.354 69.8214 480.546 71.8063 Q476.738 73.7508 471.229 73.7508 Q464.261 73.7508 460.129 69.8619 Q456.038 65.9325 456.038 59.3701 Q456.038 51.7138 461.142 47.825 Q466.287 43.9361 476.454 43.9361 L486.906 43.9361 L486.906 43.2069 Q486.906 38.0623 483.503 35.2672 Q480.141 32.4315 474.024 32.4315 Q470.135 32.4315 466.449 33.3632 Q462.762 34.295 459.359 36.1584 L459.359 29.2718 Q463.451 27.692 467.299 26.9223 Q471.148 26.1121 474.793 26.1121 Q484.637 26.1121 489.498 31.2163 Q494.359 36.3204 494.359 46.6907 Z\" fill=\"#000000\" fill-rule=\"evenodd\" fill-opacity=\"1\" /><path clip-path=\"url(#clip380)\" d=\"M508.943 54.671 L508.943 27.2059 L516.396 27.2059 L516.396 54.3874 Q516.396 60.8284 518.908 64.0691 Q521.419 67.2693 526.442 67.2693 Q532.478 67.2693 535.962 63.421 Q539.486 59.5726 539.486 52.9291 L539.486 27.2059 L546.94 27.2059 L546.94 72.576 L539.486 72.576 L539.486 65.6084 Q536.772 69.7404 533.167 71.7658 Q529.602 73.7508 524.863 73.7508 Q517.044 73.7508 512.993 68.8897 Q508.943 64.0286 508.943 54.671 M527.698 26.1121 L527.698 26.1121 Z\" fill=\"#000000\" fill-rule=\"evenodd\" fill-opacity=\"1\" /><path clip-path=\"url(#clip380)\" d=\"M591.216 28.5427 L591.216 35.5912 Q588.057 33.9709 584.654 33.1607 Q581.251 32.3505 577.605 32.3505 Q572.056 32.3505 569.261 34.0519 Q566.506 35.7533 566.506 39.156 Q566.506 41.7486 568.491 43.2475 Q570.476 44.7058 576.471 46.0426 L579.023 46.6097 Q586.963 48.3111 590.285 51.4303 Q593.647 54.509 593.647 60.0587 Q593.647 66.3781 588.624 70.0644 Q583.641 73.7508 574.891 73.7508 Q571.245 73.7508 567.276 73.0216 Q563.346 72.3329 558.971 70.9151 L558.971 63.2184 Q563.103 65.3654 567.114 66.4591 Q571.124 67.5124 575.053 67.5124 Q580.319 67.5124 583.155 65.73 Q585.991 63.9071 585.991 60.6258 Q585.991 57.5877 583.925 55.9673 Q581.899 54.3469 574.972 52.8481 L572.38 52.2405 Q565.453 50.7821 562.374 47.7845 Q559.295 44.7463 559.295 39.4801 Q559.295 33.0797 563.832 29.5959 Q568.369 26.1121 576.714 26.1121 Q580.846 26.1121 584.492 26.7198 Q588.138 27.3274 591.216 28.5427 Z\" fill=\"#000000\" fill-rule=\"evenodd\" fill-opacity=\"1\" /><path clip-path=\"url(#clip380)\" d=\"M626.135 49.7694 Q617.102 49.7694 613.618 51.8354 Q610.134 53.9013 610.134 58.8839 Q610.134 62.8538 612.727 65.2034 Q615.36 67.5124 619.856 67.5124 Q626.054 67.5124 629.781 63.1374 Q633.548 58.7219 633.548 51.4303 L633.548 49.7694 L626.135 49.7694 M641.002 46.6907 L641.002 72.576 L633.548 72.576 L633.548 65.6895 Q630.996 69.8214 627.188 71.8063 Q623.381 73.7508 617.871 73.7508 Q610.904 73.7508 606.772 69.8619 Q602.68 65.9325 602.68 59.3701 Q602.68 51.7138 607.785 47.825 Q612.929 43.9361 623.097 43.9361 L633.548 43.9361 L633.548 43.2069 Q633.548 38.0623 630.146 35.2672 Q626.783 32.4315 620.667 32.4315 Q616.778 32.4315 613.091 33.3632 Q609.405 34.295 606.002 36.1584 L606.002 29.2718 Q610.094 27.692 613.942 26.9223 Q617.79 26.1121 621.436 26.1121 Q631.28 26.1121 636.141 31.2163 Q641.002 36.3204 641.002 46.6907 Z\" fill=\"#000000\" fill-rule=\"evenodd\" fill-opacity=\"1\" /><path clip-path=\"url(#clip380)\" d=\"M656.355 9.54393 L663.809 9.54393 L663.809 72.576 L656.355 72.576 L656.355 9.54393 Z\" fill=\"#000000\" fill-rule=\"evenodd\" fill-opacity=\"1\" /><path clip-path=\"url(#clip380)\" d=\"M679.405 27.2059 L686.858 27.2059 L686.858 72.576 L679.405 72.576 L679.405 27.2059 M679.405 9.54393 L686.858 9.54393 L686.858 18.9825 L679.405 18.9825 L679.405 9.54393 Z\" fill=\"#000000\" fill-rule=\"evenodd\" fill-opacity=\"1\" /><path clip-path=\"url(#clip380)\" d=\"M709.827 14.324 L709.827 27.2059 L725.18 27.2059 L725.18 32.9987 L709.827 32.9987 L709.827 57.6282 Q709.827 63.1779 711.326 64.7578 Q712.865 66.3376 717.524 66.3376 L725.18 66.3376 L725.18 72.576 L717.524 72.576 Q708.895 72.576 705.614 69.3758 Q702.333 66.1351 702.333 57.6282 L702.333 32.9987 L696.864 32.9987 L696.864 27.2059 L702.333 27.2059 L702.333 14.324 L709.827 14.324 Z\" fill=\"#000000\" fill-rule=\"evenodd\" fill-opacity=\"1\" /><path clip-path=\"url(#clip380)\" d=\"M753.86 76.7889 Q750.701 84.8907 747.703 87.3618 Q744.705 89.8329 739.682 89.8329 L733.727 89.8329 L733.727 83.5945 L738.102 83.5945 Q741.181 83.5945 742.882 82.1361 Q744.584 80.6778 746.65 75.2496 L747.986 71.8468 L729.636 27.2059 L737.535 27.2059 L751.713 62.6918 L765.891 27.2059 L773.791 27.2059 L753.86 76.7889 Z\" fill=\"#000000\" fill-rule=\"evenodd\" fill-opacity=\"1\" /><path clip-path=\"url(#clip380)\" d=\"M826.371 72.576 L803.281 12.096 L811.829 12.096 L830.989 63.0159 L850.191 12.096 L858.698 12.096 L835.648 72.576 L826.371 72.576 Z\" fill=\"#000000\" fill-rule=\"evenodd\" fill-opacity=\"1\" /><path clip-path=\"url(#clip380)\" d=\"M903.784 14.0809 L903.784 22.0612 Q899.126 19.8332 894.994 18.7395 Q890.862 17.6457 887.013 17.6457 Q880.329 17.6457 876.684 20.2383 Q873.078 22.8309 873.078 27.611 Q873.078 31.6214 875.468 33.6873 Q877.899 35.7128 884.623 36.9686 L889.566 37.9813 Q898.721 39.7232 903.055 44.1387 Q907.43 48.5136 907.43 55.8863 Q907.43 64.6767 901.516 69.2137 Q895.642 73.7508 884.259 73.7508 Q879.965 73.7508 875.104 72.7785 Q870.283 71.8063 865.098 69.9024 L865.098 61.4765 Q870.081 64.2716 874.861 65.6895 Q879.641 67.1073 884.259 67.1073 Q891.267 67.1073 895.075 64.3527 Q898.883 61.598 898.883 56.4939 Q898.883 52.0379 896.128 49.5264 Q893.414 47.0148 887.175 45.759 L882.193 44.7868 Q873.038 42.9639 868.946 39.075 Q864.855 35.1862 864.855 28.2591 Q864.855 20.2383 870.486 15.6203 Q876.157 11.0023 886.082 11.0023 Q890.335 11.0023 894.751 11.7719 Q899.166 12.5416 903.784 14.0809 Z\" fill=\"#000000\" fill-rule=\"evenodd\" fill-opacity=\"1\" /><path clip-path=\"url(#clip380)\" d=\"M982.817 14.0809 L982.817 22.0612 Q978.159 19.8332 974.027 18.7395 Q969.895 17.6457 966.047 17.6457 Q959.363 17.6457 955.717 20.2383 Q952.111 22.8309 952.111 27.611 Q952.111 31.6214 954.502 33.6873 Q956.932 35.7128 963.657 36.9686 L968.599 37.9813 Q977.754 39.7232 982.088 44.1387 Q986.463 48.5136 986.463 55.8863 Q986.463 64.6767 980.549 69.2137 Q974.675 73.7508 963.292 73.7508 Q958.998 73.7508 954.137 72.7785 Q949.316 71.8063 944.131 69.9024 L944.131 61.4765 Q949.114 64.2716 953.894 65.6895 Q958.674 67.1073 963.292 67.1073 Q970.3 67.1073 974.108 64.3527 Q977.916 61.598 977.916 56.4939 Q977.916 52.0379 975.161 49.5264 Q972.447 47.0148 966.209 45.759 L961.226 44.7868 Q952.071 42.9639 947.98 39.075 Q943.888 35.1862 943.888 28.2591 Q943.888 20.2383 949.519 15.6203 Q955.19 11.0023 965.115 11.0023 Q969.368 11.0023 973.784 11.7719 Q978.199 12.5416 982.817 14.0809 Z\" fill=\"#000000\" fill-rule=\"evenodd\" fill-opacity=\"1\" /><path clip-path=\"url(#clip380)\" d=\"M998.899 27.2059 L1006.35 27.2059 L1006.35 72.576 L998.899 72.576 L998.899 27.2059 M998.899 9.54393 L1006.35 9.54393 L1006.35 18.9825 L998.899 18.9825 L998.899 9.54393 Z\" fill=\"#000000\" fill-rule=\"evenodd\" fill-opacity=\"1\" /><path clip-path=\"url(#clip380)\" d=\"M1054.52 49.9314 Q1054.52 41.7081 1051.12 37.0496 Q1047.75 32.3505 1041.84 32.3505 Q1035.92 32.3505 1032.52 37.0496 Q1029.16 41.7081 1029.16 49.9314 Q1029.16 58.1548 1032.52 62.8538 Q1035.92 67.5124 1041.84 67.5124 Q1047.75 67.5124 1051.12 62.8538 Q1054.52 58.1548 1054.52 49.9314 M1029.16 34.0924 Q1031.51 30.0415 1035.07 28.0971 Q1038.68 26.1121 1043.66 26.1121 Q1051.93 26.1121 1057.07 32.6746 Q1062.26 39.2371 1062.26 49.9314 Q1062.26 60.6258 1057.07 67.1883 Q1051.93 73.7508 1043.66 73.7508 Q1038.68 73.7508 1035.07 71.8063 Q1031.51 69.8214 1029.16 65.7705 L1029.16 72.576 L1021.67 72.576 L1021.67 9.54393 L1029.16 9.54393 L1029.16 34.0924 Z\" fill=\"#000000\" fill-rule=\"evenodd\" fill-opacity=\"1\" /><path clip-path=\"url(#clip380)\" d=\"M1121.52 20.1573 L1110.42 50.2555 L1132.66 50.2555 L1121.52 20.1573 M1116.9 12.096 L1126.18 12.096 L1149.23 72.576 L1140.72 72.576 L1135.21 57.061 L1107.95 57.061 L1102.44 72.576 L1093.81 72.576 L1116.9 12.096 Z\" fill=\"#000000\" fill-rule=\"evenodd\" fill-opacity=\"1\" /><path clip-path=\"url(#clip380)\" d=\"M1157.13 12.096 L1165.35 12.096 L1165.35 48.8377 Q1165.35 58.5599 1168.88 62.8538 Q1172.4 67.1073 1180.3 67.1073 Q1188.16 67.1073 1191.68 62.8538 Q1195.21 58.5599 1195.21 48.8377 L1195.21 12.096 L1203.43 12.096 L1203.43 49.8504 Q1203.43 61.6791 1197.56 67.7149 Q1191.72 73.7508 1180.3 73.7508 Q1168.83 73.7508 1162.96 67.7149 Q1157.13 61.6791 1157.13 49.8504 L1157.13 12.096 Z\" fill=\"#000000\" fill-rule=\"evenodd\" fill-opacity=\"1\" /><path clip-path=\"url(#clip380)\" d=\"M1247.46 44.2197 Q1250.1 45.1109 1252.57 48.0275 Q1255.08 50.9442 1257.59 56.0483 L1265.89 72.576 L1257.1 72.576 L1249.37 57.061 Q1246.37 50.9847 1243.53 48.9997 Q1240.74 47.0148 1235.88 47.0148 L1226.97 47.0148 L1226.97 72.576 L1218.78 72.576 L1218.78 12.096 L1237.25 12.096 Q1247.62 12.096 1252.73 16.4305 Q1257.83 20.7649 1257.83 29.5149 Q1257.83 35.2267 1255.16 38.994 Q1252.53 42.7613 1247.46 44.2197 M1226.97 18.8205 L1226.97 40.2903 L1237.25 40.2903 Q1243.17 40.2903 1246.17 37.5762 Q1249.2 34.8216 1249.2 29.5149 Q1249.2 24.2082 1246.17 21.5346 Q1243.17 18.8205 1237.25 18.8205 L1226.97 18.8205 Z\" fill=\"#000000\" fill-rule=\"evenodd\" fill-opacity=\"1\" /><path clip-path=\"url(#clip380)\" d=\"M1300.98 17.6457 Q1292.06 17.6457 1286.8 24.2892 Q1281.57 30.9327 1281.57 42.3968 Q1281.57 53.8203 1286.8 60.4638 Q1292.06 67.1073 1300.98 67.1073 Q1309.89 67.1073 1315.07 60.4638 Q1320.3 53.8203 1320.3 42.3968 Q1320.3 30.9327 1315.07 24.2892 Q1309.89 17.6457 1300.98 17.6457 M1300.98 11.0023 Q1313.7 11.0023 1321.31 19.5497 Q1328.93 28.0566 1328.93 42.3968 Q1328.93 56.6965 1321.31 65.2439 Q1313.7 73.7508 1300.98 73.7508 Q1288.22 73.7508 1280.56 65.2439 Q1272.94 56.737 1272.94 42.3968 Q1272.94 28.0566 1280.56 19.5497 Q1288.22 11.0023 1300.98 11.0023 Z\" fill=\"#000000\" fill-rule=\"evenodd\" fill-opacity=\"1\" /><path clip-path=\"url(#clip380)\" d=\"M1387.02 16.7545 L1387.02 25.383 Q1382.88 21.5346 1378.19 19.6307 Q1373.53 17.7268 1368.26 17.7268 Q1357.89 17.7268 1352.38 24.0867 Q1346.87 30.4061 1346.87 42.3968 Q1346.87 54.3469 1352.38 60.7069 Q1357.89 67.0263 1368.26 67.0263 Q1373.53 67.0263 1378.19 65.1223 Q1382.88 63.2184 1387.02 59.3701 L1387.02 67.9175 Q1382.72 70.8341 1377.9 72.2924 Q1373.12 73.7508 1367.77 73.7508 Q1354.04 73.7508 1346.14 65.3654 Q1338.24 56.9395 1338.24 42.3968 Q1338.24 27.8135 1346.14 19.4281 Q1354.04 11.0023 1367.77 11.0023 Q1373.2 11.0023 1377.98 12.4606 Q1382.8 13.8784 1387.02 16.7545 Z\" fill=\"#000000\" fill-rule=\"evenodd\" fill-opacity=\"1\" /><path clip-path=\"url(#clip380)\" d=\"M1425.7 27.2059 L1433.16 27.2059 L1433.16 72.576 L1425.7 72.576 L1425.7 27.2059 M1425.7 9.54393 L1433.16 9.54393 L1433.16 18.9825 L1425.7 18.9825 L1425.7 9.54393 Z\" fill=\"#000000\" fill-rule=\"evenodd\" fill-opacity=\"1\" /><path clip-path=\"url(#clip380)\" d=\"M1486.47 45.1919 L1486.47 72.576 L1479.01 72.576 L1479.01 45.4349 Q1479.01 38.994 1476.5 35.7938 Q1473.99 32.5936 1468.97 32.5936 Q1462.93 32.5936 1459.45 36.4419 Q1455.96 40.2903 1455.96 46.9338 L1455.96 72.576 L1448.47 72.576 L1448.47 27.2059 L1455.96 27.2059 L1455.96 34.2544 Q1458.64 30.163 1462.24 28.1376 Q1465.89 26.1121 1470.63 26.1121 Q1478.45 26.1121 1482.46 30.9732 Q1486.47 35.7938 1486.47 45.1919 Z\" fill=\"#000000\" fill-rule=\"evenodd\" fill-opacity=\"1\" /><path clip-path=\"url(#clip380)\" d=\"M1550.67 9.54393 L1550.67 15.7418 L1543.54 15.7418 Q1539.53 15.7418 1537.95 17.3622 Q1536.41 18.9825 1536.41 23.1955 L1536.41 27.2059 L1548.69 27.2059 L1548.69 32.9987 L1536.41 32.9987 L1536.41 72.576 L1528.92 72.576 L1528.92 32.9987 L1521.79 32.9987 L1521.79 27.2059 L1528.92 27.2059 L1528.92 24.0462 Q1528.92 16.471 1532.44 13.0277 Q1535.97 9.54393 1543.62 9.54393 L1550.67 9.54393 Z\" fill=\"#000000\" fill-rule=\"evenodd\" fill-opacity=\"1\" /><path clip-path=\"url(#clip380)\" d=\"M1556.14 54.671 L1556.14 27.2059 L1563.6 27.2059 L1563.6 54.3874 Q1563.6 60.8284 1566.11 64.0691 Q1568.62 67.2693 1573.64 67.2693 Q1579.68 67.2693 1583.16 63.421 Q1586.69 59.5726 1586.69 52.9291 L1586.69 27.2059 L1594.14 27.2059 L1594.14 72.576 L1586.69 72.576 L1586.69 65.6084 Q1583.97 69.7404 1580.37 71.7658 Q1576.8 73.7508 1572.06 73.7508 Q1564.24 73.7508 1560.19 68.8897 Q1556.14 64.0286 1556.14 54.671 M1574.9 26.1121 L1574.9 26.1121 Z\" fill=\"#000000\" fill-rule=\"evenodd\" fill-opacity=\"1\" /><path clip-path=\"url(#clip380)\" d=\"M1647.21 45.1919 L1647.21 72.576 L1639.75 72.576 L1639.75 45.4349 Q1639.75 38.994 1637.24 35.7938 Q1634.73 32.5936 1629.71 32.5936 Q1623.67 32.5936 1620.19 36.4419 Q1616.7 40.2903 1616.7 46.9338 L1616.7 72.576 L1609.21 72.576 L1609.21 27.2059 L1616.7 27.2059 L1616.7 34.2544 Q1619.38 30.163 1622.98 28.1376 Q1626.63 26.1121 1631.37 26.1121 Q1639.19 26.1121 1643.2 30.9732 Q1647.21 35.7938 1647.21 45.1919 Z\" fill=\"#000000\" fill-rule=\"evenodd\" fill-opacity=\"1\" /><path clip-path=\"url(#clip380)\" d=\"M1694.72 28.9478 L1694.72 35.9153 Q1691.56 34.1734 1688.36 33.3227 Q1685.2 32.4315 1681.96 32.4315 Q1674.71 32.4315 1670.7 37.0496 Q1666.69 41.6271 1666.69 49.9314 Q1666.69 58.2358 1670.7 62.8538 Q1674.71 67.4314 1681.96 67.4314 Q1685.2 67.4314 1688.36 66.5807 Q1691.56 65.6895 1694.72 63.9476 L1694.72 70.8341 Q1691.6 72.2924 1688.24 73.0216 Q1684.92 73.7508 1681.15 73.7508 Q1670.9 73.7508 1664.87 67.3098 Q1658.83 60.8689 1658.83 49.9314 Q1658.83 38.832 1664.91 32.472 Q1671.03 26.1121 1681.64 26.1121 Q1685.08 26.1121 1688.36 26.8413 Q1691.64 27.5299 1694.72 28.9478 Z\" fill=\"#000000\" fill-rule=\"evenodd\" fill-opacity=\"1\" /><path clip-path=\"url(#clip380)\" d=\"M1715.06 14.324 L1715.06 27.2059 L1730.41 27.2059 L1730.41 32.9987 L1715.06 32.9987 L1715.06 57.6282 Q1715.06 63.1779 1716.56 64.7578 Q1718.1 66.3376 1722.76 66.3376 L1730.41 66.3376 L1730.41 72.576 L1722.76 72.576 Q1714.13 72.576 1710.85 69.3758 Q1707.56 66.1351 1707.56 57.6282 L1707.56 32.9987 L1702.1 32.9987 L1702.1 27.2059 L1707.56 27.2059 L1707.56 14.324 L1715.06 14.324 Z\" fill=\"#000000\" fill-rule=\"evenodd\" fill-opacity=\"1\" /><path clip-path=\"url(#clip380)\" d=\"M1740.21 27.2059 L1747.67 27.2059 L1747.67 72.576 L1740.21 72.576 L1740.21 27.2059 M1740.21 9.54393 L1747.67 9.54393 L1747.67 18.9825 L1740.21 18.9825 L1740.21 9.54393 Z\" fill=\"#000000\" fill-rule=\"evenodd\" fill-opacity=\"1\" /><path clip-path=\"url(#clip380)\" d=\"M1780.85 32.4315 Q1774.85 32.4315 1771.37 37.1306 Q1767.88 41.7891 1767.88 49.9314 Q1767.88 58.0738 1771.33 62.7728 Q1774.81 67.4314 1780.85 67.4314 Q1786.8 67.4314 1790.28 62.7323 Q1793.77 58.0333 1793.77 49.9314 Q1793.77 41.8701 1790.28 37.1711 Q1786.8 32.4315 1780.85 32.4315 M1780.85 26.1121 Q1790.57 26.1121 1796.12 32.4315 Q1801.67 38.7509 1801.67 49.9314 Q1801.67 61.0714 1796.12 67.4314 Q1790.57 73.7508 1780.85 73.7508 Q1771.08 73.7508 1765.53 67.4314 Q1760.02 61.0714 1760.02 49.9314 Q1760.02 38.7509 1765.53 32.4315 Q1771.08 26.1121 1780.85 26.1121 Z\" fill=\"#000000\" fill-rule=\"evenodd\" fill-opacity=\"1\" /><path clip-path=\"url(#clip380)\" d=\"M1851.74 45.1919 L1851.74 72.576 L1844.28 72.576 L1844.28 45.4349 Q1844.28 38.994 1841.77 35.7938 Q1839.26 32.5936 1834.24 32.5936 Q1828.2 32.5936 1824.72 36.4419 Q1821.23 40.2903 1821.23 46.9338 L1821.23 72.576 L1813.74 72.576 L1813.74 27.2059 L1821.23 27.2059 L1821.23 34.2544 Q1823.91 30.163 1827.51 28.1376 Q1831.16 26.1121 1835.9 26.1121 Q1843.72 26.1121 1847.73 30.9732 Q1851.74 35.7938 1851.74 45.1919 Z\" fill=\"#000000\" fill-rule=\"evenodd\" fill-opacity=\"1\" /><path clip-path=\"url(#clip380)\" d=\"M1910.56 32.4315 Q1904.56 32.4315 1901.08 37.1306 Q1897.59 41.7891 1897.59 49.9314 Q1897.59 58.0738 1901.04 62.7728 Q1904.52 67.4314 1910.56 67.4314 Q1916.51 67.4314 1919.99 62.7323 Q1923.48 58.0333 1923.48 49.9314 Q1923.48 41.8701 1919.99 37.1711 Q1916.51 32.4315 1910.56 32.4315 M1910.56 26.1121 Q1920.28 26.1121 1925.83 32.4315 Q1931.38 38.7509 1931.38 49.9314 Q1931.38 61.0714 1925.83 67.4314 Q1920.28 73.7508 1910.56 73.7508 Q1900.79 73.7508 1895.24 67.4314 Q1889.73 61.0714 1889.73 49.9314 Q1889.73 38.7509 1895.24 32.4315 Q1900.79 26.1121 1910.56 26.1121 Z\" fill=\"#000000\" fill-rule=\"evenodd\" fill-opacity=\"1\" /><path clip-path=\"url(#clip380)\" d=\"M1966.7 9.54393 L1966.7 15.7418 L1959.57 15.7418 Q1955.56 15.7418 1953.98 17.3622 Q1952.44 18.9825 1952.44 23.1955 L1952.44 27.2059 L1964.72 27.2059 L1964.72 32.9987 L1952.44 32.9987 L1952.44 72.576 L1944.95 72.576 L1944.95 32.9987 L1937.82 32.9987 L1937.82 27.2059 L1944.95 27.2059 L1944.95 24.0462 Q1944.95 16.471 1948.47 13.0277 Q1952 9.54393 1959.65 9.54393 L1966.7 9.54393 Z\" fill=\"#000000\" fill-rule=\"evenodd\" fill-opacity=\"1\" /><path clip-path=\"url(#clip380)\" d=\"M2006.68 14.324 L2006.68 27.2059 L2022.04 27.2059 L2022.04 32.9987 L2006.68 32.9987 L2006.68 57.6282 Q2006.68 63.1779 2008.18 64.7578 Q2009.72 66.3376 2014.38 66.3376 L2022.04 66.3376 L2022.04 72.576 L2014.38 72.576 Q2005.75 72.576 2002.47 69.3758 Q1999.19 66.1351 1999.19 57.6282 L1999.19 32.9987 L1993.72 32.9987 L1993.72 27.2059 L1999.19 27.2059 L1999.19 14.324 L2006.68 14.324 Z\" fill=\"#000000\" fill-rule=\"evenodd\" fill-opacity=\"1\" /><path clip-path=\"url(#clip380)\" d=\"M2031.84 27.2059 L2039.29 27.2059 L2039.29 72.576 L2031.84 72.576 L2031.84 27.2059 M2031.84 9.54393 L2039.29 9.54393 L2039.29 18.9825 L2031.84 18.9825 L2031.84 9.54393 Z\" fill=\"#000000\" fill-rule=\"evenodd\" fill-opacity=\"1\" /><path clip-path=\"url(#clip380)\" d=\"M2090.21 35.9153 Q2093.01 30.8922 2096.9 28.5022 Q2100.79 26.1121 2106.05 26.1121 Q2113.14 26.1121 2116.99 31.0947 Q2120.84 36.0368 2120.84 45.1919 L2120.84 72.576 L2113.34 72.576 L2113.34 45.4349 Q2113.34 38.913 2111.03 35.7533 Q2108.73 32.5936 2103.99 32.5936 Q2098.19 32.5936 2094.83 36.4419 Q2091.47 40.2903 2091.47 46.9338 L2091.47 72.576 L2083.97 72.576 L2083.97 45.4349 Q2083.97 38.8725 2081.67 35.7533 Q2079.36 32.5936 2074.54 32.5936 Q2068.82 32.5936 2065.46 36.4824 Q2062.1 40.3308 2062.1 46.9338 L2062.1 72.576 L2054.61 72.576 L2054.61 27.2059 L2062.1 27.2059 L2062.1 34.2544 Q2064.65 30.082 2068.22 28.0971 Q2071.78 26.1121 2076.68 26.1121 Q2081.63 26.1121 2085.07 28.6237 Q2088.55 31.1352 2090.21 35.9153 Z\" fill=\"#000000\" fill-rule=\"evenodd\" fill-opacity=\"1\" /><path clip-path=\"url(#clip380)\" d=\"M2174.51 48.0275 L2174.51 51.6733 L2140.24 51.6733 Q2140.73 59.3701 2144.86 63.421 Q2149.03 67.4314 2156.45 67.4314 Q2160.74 67.4314 2164.75 66.3781 Q2168.8 65.3249 2172.77 63.2184 L2172.77 70.267 Q2168.76 71.9684 2164.55 72.8596 Q2160.33 73.7508 2156 73.7508 Q2145.14 73.7508 2138.78 67.4314 Q2132.46 61.1119 2132.46 50.3365 Q2132.46 39.1965 2138.46 32.6746 Q2144.5 26.1121 2154.7 26.1121 Q2163.86 26.1121 2169.17 32.0264 Q2174.51 37.9003 2174.51 48.0275 M2167.06 45.84 Q2166.98 39.7232 2163.62 36.0774 Q2160.29 32.4315 2154.78 32.4315 Q2148.55 32.4315 2144.78 35.9558 Q2141.05 39.4801 2140.48 45.8805 L2167.06 45.84 Z\" fill=\"#000000\" fill-rule=\"evenodd\" fill-opacity=\"1\" /><circle clip-path=\"url(#clip382)\" cx=\"279.916\" cy=\"569.612\" r=\"14\" fill=\"#009af9\" fill-rule=\"evenodd\" fill-opacity=\"1\" stroke=\"#000000\" stroke-opacity=\"1\" stroke-width=\"3.2\"/>\n",
       "<circle clip-path=\"url(#clip382)\" cx=\"385.835\" cy=\"581.539\" r=\"14\" fill=\"#009af9\" fill-rule=\"evenodd\" fill-opacity=\"1\" stroke=\"#000000\" stroke-opacity=\"1\" stroke-width=\"3.2\"/>\n",
       "<circle clip-path=\"url(#clip382)\" cx=\"491.755\" cy=\"615.375\" r=\"14\" fill=\"#009af9\" fill-rule=\"evenodd\" fill-opacity=\"1\" stroke=\"#000000\" stroke-opacity=\"1\" stroke-width=\"3.2\"/>\n",
       "<circle clip-path=\"url(#clip382)\" cx=\"597.674\" cy=\"587.633\" r=\"14\" fill=\"#009af9\" fill-rule=\"evenodd\" fill-opacity=\"1\" stroke=\"#000000\" stroke-opacity=\"1\" stroke-width=\"3.2\"/>\n",
       "<circle clip-path=\"url(#clip382)\" cx=\"703.593\" cy=\"586.959\" r=\"14\" fill=\"#009af9\" fill-rule=\"evenodd\" fill-opacity=\"1\" stroke=\"#000000\" stroke-opacity=\"1\" stroke-width=\"3.2\"/>\n",
       "<circle clip-path=\"url(#clip382)\" cx=\"809.512\" cy=\"530.807\" r=\"14\" fill=\"#009af9\" fill-rule=\"evenodd\" fill-opacity=\"1\" stroke=\"#000000\" stroke-opacity=\"1\" stroke-width=\"3.2\"/>\n",
       "<circle clip-path=\"url(#clip382)\" cx=\"915.432\" cy=\"412.538\" r=\"14\" fill=\"#009af9\" fill-rule=\"evenodd\" fill-opacity=\"1\" stroke=\"#000000\" stroke-opacity=\"1\" stroke-width=\"3.2\"/>\n",
       "<circle clip-path=\"url(#clip382)\" cx=\"1021.35\" cy=\"361.965\" r=\"14\" fill=\"#009af9\" fill-rule=\"evenodd\" fill-opacity=\"1\" stroke=\"#000000\" stroke-opacity=\"1\" stroke-width=\"3.2\"/>\n",
       "<circle clip-path=\"url(#clip382)\" cx=\"1127.27\" cy=\"276.455\" r=\"14\" fill=\"#009af9\" fill-rule=\"evenodd\" fill-opacity=\"1\" stroke=\"#000000\" stroke-opacity=\"1\" stroke-width=\"3.2\"/>\n",
       "<circle clip-path=\"url(#clip382)\" cx=\"1233.19\" cy=\"237.021\" r=\"14\" fill=\"#009af9\" fill-rule=\"evenodd\" fill-opacity=\"1\" stroke=\"#000000\" stroke-opacity=\"1\" stroke-width=\"3.2\"/>\n",
       "<circle clip-path=\"url(#clip382)\" cx=\"1339.11\" cy=\"202.503\" r=\"14\" fill=\"#009af9\" fill-rule=\"evenodd\" fill-opacity=\"1\" stroke=\"#000000\" stroke-opacity=\"1\" stroke-width=\"3.2\"/>\n",
       "<circle clip-path=\"url(#clip382)\" cx=\"1445.03\" cy=\"198.011\" r=\"14\" fill=\"#009af9\" fill-rule=\"evenodd\" fill-opacity=\"1\" stroke=\"#000000\" stroke-opacity=\"1\" stroke-width=\"3.2\"/>\n",
       "<circle clip-path=\"url(#clip382)\" cx=\"1550.95\" cy=\"205.673\" r=\"14\" fill=\"#009af9\" fill-rule=\"evenodd\" fill-opacity=\"1\" stroke=\"#000000\" stroke-opacity=\"1\" stroke-width=\"3.2\"/>\n",
       "<circle clip-path=\"url(#clip382)\" cx=\"1656.87\" cy=\"199.688\" r=\"14\" fill=\"#009af9\" fill-rule=\"evenodd\" fill-opacity=\"1\" stroke=\"#000000\" stroke-opacity=\"1\" stroke-width=\"3.2\"/>\n",
       "<circle clip-path=\"url(#clip382)\" cx=\"1762.79\" cy=\"207.467\" r=\"14\" fill=\"#009af9\" fill-rule=\"evenodd\" fill-opacity=\"1\" stroke=\"#000000\" stroke-opacity=\"1\" stroke-width=\"3.2\"/>\n",
       "<circle clip-path=\"url(#clip382)\" cx=\"1868.7\" cy=\"228.756\" r=\"14\" fill=\"#009af9\" fill-rule=\"evenodd\" fill-opacity=\"1\" stroke=\"#000000\" stroke-opacity=\"1\" stroke-width=\"3.2\"/>\n",
       "<circle clip-path=\"url(#clip382)\" cx=\"1974.62\" cy=\"226.764\" r=\"14\" fill=\"#009af9\" fill-rule=\"evenodd\" fill-opacity=\"1\" stroke=\"#000000\" stroke-opacity=\"1\" stroke-width=\"3.2\"/>\n",
       "<circle clip-path=\"url(#clip382)\" cx=\"2080.54\" cy=\"216.707\" r=\"14\" fill=\"#009af9\" fill-rule=\"evenodd\" fill-opacity=\"1\" stroke=\"#000000\" stroke-opacity=\"1\" stroke-width=\"3.2\"/>\n",
       "<circle clip-path=\"url(#clip382)\" cx=\"2186.46\" cy=\"213.247\" r=\"14\" fill=\"#009af9\" fill-rule=\"evenodd\" fill-opacity=\"1\" stroke=\"#000000\" stroke-opacity=\"1\" stroke-width=\"3.2\"/>\n",
       "<circle clip-path=\"url(#clip382)\" cx=\"2292.38\" cy=\"228.425\" r=\"14\" fill=\"#009af9\" fill-rule=\"evenodd\" fill-opacity=\"1\" stroke=\"#000000\" stroke-opacity=\"1\" stroke-width=\"3.2\"/>\n",
       "<circle clip-path=\"url(#clip382)\" cx=\"279.916\" cy=\"786.967\" r=\"14\" fill=\"#e26f46\" fill-rule=\"evenodd\" fill-opacity=\"1\" stroke=\"#000000\" stroke-opacity=\"1\" stroke-width=\"3.2\"/>\n",
       "<circle clip-path=\"url(#clip382)\" cx=\"385.835\" cy=\"591.154\" r=\"14\" fill=\"#e26f46\" fill-rule=\"evenodd\" fill-opacity=\"1\" stroke=\"#000000\" stroke-opacity=\"1\" stroke-width=\"3.2\"/>\n",
       "<circle clip-path=\"url(#clip382)\" cx=\"491.755\" cy=\"593.986\" r=\"14\" fill=\"#e26f46\" fill-rule=\"evenodd\" fill-opacity=\"1\" stroke=\"#000000\" stroke-opacity=\"1\" stroke-width=\"3.2\"/>\n",
       "<circle clip-path=\"url(#clip382)\" cx=\"597.674\" cy=\"609.104\" r=\"14\" fill=\"#e26f46\" fill-rule=\"evenodd\" fill-opacity=\"1\" stroke=\"#000000\" stroke-opacity=\"1\" stroke-width=\"3.2\"/>\n",
       "<circle clip-path=\"url(#clip382)\" cx=\"703.593\" cy=\"633.586\" r=\"14\" fill=\"#e26f46\" fill-rule=\"evenodd\" fill-opacity=\"1\" stroke=\"#000000\" stroke-opacity=\"1\" stroke-width=\"3.2\"/>\n",
       "<circle clip-path=\"url(#clip382)\" cx=\"809.512\" cy=\"681.028\" r=\"14\" fill=\"#e26f46\" fill-rule=\"evenodd\" fill-opacity=\"1\" stroke=\"#000000\" stroke-opacity=\"1\" stroke-width=\"3.2\"/>\n",
       "<circle clip-path=\"url(#clip382)\" cx=\"915.432\" cy=\"604.088\" r=\"14\" fill=\"#e26f46\" fill-rule=\"evenodd\" fill-opacity=\"1\" stroke=\"#000000\" stroke-opacity=\"1\" stroke-width=\"3.2\"/>\n",
       "<circle clip-path=\"url(#clip382)\" cx=\"1021.35\" cy=\"506.297\" r=\"14\" fill=\"#e26f46\" fill-rule=\"evenodd\" fill-opacity=\"1\" stroke=\"#000000\" stroke-opacity=\"1\" stroke-width=\"3.2\"/>\n",
       "<circle clip-path=\"url(#clip382)\" cx=\"1127.27\" cy=\"442.748\" r=\"14\" fill=\"#e26f46\" fill-rule=\"evenodd\" fill-opacity=\"1\" stroke=\"#000000\" stroke-opacity=\"1\" stroke-width=\"3.2\"/>\n",
       "<circle clip-path=\"url(#clip382)\" cx=\"1233.19\" cy=\"395.529\" r=\"14\" fill=\"#e26f46\" fill-rule=\"evenodd\" fill-opacity=\"1\" stroke=\"#000000\" stroke-opacity=\"1\" stroke-width=\"3.2\"/>\n",
       "<circle clip-path=\"url(#clip382)\" cx=\"1339.11\" cy=\"376.989\" r=\"14\" fill=\"#e26f46\" fill-rule=\"evenodd\" fill-opacity=\"1\" stroke=\"#000000\" stroke-opacity=\"1\" stroke-width=\"3.2\"/>\n",
       "<circle clip-path=\"url(#clip382)\" cx=\"1445.03\" cy=\"317.453\" r=\"14\" fill=\"#e26f46\" fill-rule=\"evenodd\" fill-opacity=\"1\" stroke=\"#000000\" stroke-opacity=\"1\" stroke-width=\"3.2\"/>\n",
       "<circle clip-path=\"url(#clip382)\" cx=\"1550.95\" cy=\"275.119\" r=\"14\" fill=\"#e26f46\" fill-rule=\"evenodd\" fill-opacity=\"1\" stroke=\"#000000\" stroke-opacity=\"1\" stroke-width=\"3.2\"/>\n",
       "<circle clip-path=\"url(#clip382)\" cx=\"1656.87\" cy=\"267.078\" r=\"14\" fill=\"#e26f46\" fill-rule=\"evenodd\" fill-opacity=\"1\" stroke=\"#000000\" stroke-opacity=\"1\" stroke-width=\"3.2\"/>\n",
       "<circle clip-path=\"url(#clip382)\" cx=\"1762.79\" cy=\"270.304\" r=\"14\" fill=\"#e26f46\" fill-rule=\"evenodd\" fill-opacity=\"1\" stroke=\"#000000\" stroke-opacity=\"1\" stroke-width=\"3.2\"/>\n",
       "<circle clip-path=\"url(#clip382)\" cx=\"1868.7\" cy=\"266.925\" r=\"14\" fill=\"#e26f46\" fill-rule=\"evenodd\" fill-opacity=\"1\" stroke=\"#000000\" stroke-opacity=\"1\" stroke-width=\"3.2\"/>\n",
       "<circle clip-path=\"url(#clip382)\" cx=\"1974.62\" cy=\"256.405\" r=\"14\" fill=\"#e26f46\" fill-rule=\"evenodd\" fill-opacity=\"1\" stroke=\"#000000\" stroke-opacity=\"1\" stroke-width=\"3.2\"/>\n",
       "<circle clip-path=\"url(#clip382)\" cx=\"2080.54\" cy=\"277.098\" r=\"14\" fill=\"#e26f46\" fill-rule=\"evenodd\" fill-opacity=\"1\" stroke=\"#000000\" stroke-opacity=\"1\" stroke-width=\"3.2\"/>\n",
       "<circle clip-path=\"url(#clip382)\" cx=\"2186.46\" cy=\"278.117\" r=\"14\" fill=\"#e26f46\" fill-rule=\"evenodd\" fill-opacity=\"1\" stroke=\"#000000\" stroke-opacity=\"1\" stroke-width=\"3.2\"/>\n",
       "<circle clip-path=\"url(#clip382)\" cx=\"2292.38\" cy=\"287.486\" r=\"14\" fill=\"#e26f46\" fill-rule=\"evenodd\" fill-opacity=\"1\" stroke=\"#000000\" stroke-opacity=\"1\" stroke-width=\"3.2\"/>\n",
       "<circle clip-path=\"url(#clip382)\" cx=\"279.916\" cy=\"282.955\" r=\"14\" fill=\"#3da44d\" fill-rule=\"evenodd\" fill-opacity=\"1\" stroke=\"#000000\" stroke-opacity=\"1\" stroke-width=\"3.2\"/>\n",
       "<circle clip-path=\"url(#clip382)\" cx=\"385.835\" cy=\"255.867\" r=\"14\" fill=\"#3da44d\" fill-rule=\"evenodd\" fill-opacity=\"1\" stroke=\"#000000\" stroke-opacity=\"1\" stroke-width=\"3.2\"/>\n",
       "<circle clip-path=\"url(#clip382)\" cx=\"491.755\" cy=\"266.535\" r=\"14\" fill=\"#3da44d\" fill-rule=\"evenodd\" fill-opacity=\"1\" stroke=\"#000000\" stroke-opacity=\"1\" stroke-width=\"3.2\"/>\n",
       "<circle clip-path=\"url(#clip382)\" cx=\"597.674\" cy=\"277.73\" r=\"14\" fill=\"#3da44d\" fill-rule=\"evenodd\" fill-opacity=\"1\" stroke=\"#000000\" stroke-opacity=\"1\" stroke-width=\"3.2\"/>\n",
       "<circle clip-path=\"url(#clip382)\" cx=\"703.593\" cy=\"317.692\" r=\"14\" fill=\"#3da44d\" fill-rule=\"evenodd\" fill-opacity=\"1\" stroke=\"#000000\" stroke-opacity=\"1\" stroke-width=\"3.2\"/>\n",
       "<circle clip-path=\"url(#clip382)\" cx=\"809.512\" cy=\"357.046\" r=\"14\" fill=\"#3da44d\" fill-rule=\"evenodd\" fill-opacity=\"1\" stroke=\"#000000\" stroke-opacity=\"1\" stroke-width=\"3.2\"/>\n",
       "<circle clip-path=\"url(#clip382)\" cx=\"915.432\" cy=\"369.968\" r=\"14\" fill=\"#3da44d\" fill-rule=\"evenodd\" fill-opacity=\"1\" stroke=\"#000000\" stroke-opacity=\"1\" stroke-width=\"3.2\"/>\n",
       "<circle clip-path=\"url(#clip382)\" cx=\"1021.35\" cy=\"354.826\" r=\"14\" fill=\"#3da44d\" fill-rule=\"evenodd\" fill-opacity=\"1\" stroke=\"#000000\" stroke-opacity=\"1\" stroke-width=\"3.2\"/>\n",
       "<circle clip-path=\"url(#clip382)\" cx=\"1127.27\" cy=\"310.682\" r=\"14\" fill=\"#3da44d\" fill-rule=\"evenodd\" fill-opacity=\"1\" stroke=\"#000000\" stroke-opacity=\"1\" stroke-width=\"3.2\"/>\n",
       "<circle clip-path=\"url(#clip382)\" cx=\"1233.19\" cy=\"271.905\" r=\"14\" fill=\"#3da44d\" fill-rule=\"evenodd\" fill-opacity=\"1\" stroke=\"#000000\" stroke-opacity=\"1\" stroke-width=\"3.2\"/>\n",
       "<circle clip-path=\"url(#clip382)\" cx=\"1339.11\" cy=\"273.595\" r=\"14\" fill=\"#3da44d\" fill-rule=\"evenodd\" fill-opacity=\"1\" stroke=\"#000000\" stroke-opacity=\"1\" stroke-width=\"3.2\"/>\n",
       "<circle clip-path=\"url(#clip382)\" cx=\"1445.03\" cy=\"271.19\" r=\"14\" fill=\"#3da44d\" fill-rule=\"evenodd\" fill-opacity=\"1\" stroke=\"#000000\" stroke-opacity=\"1\" stroke-width=\"3.2\"/>\n",
       "<circle clip-path=\"url(#clip382)\" cx=\"1550.95\" cy=\"292.151\" r=\"14\" fill=\"#3da44d\" fill-rule=\"evenodd\" fill-opacity=\"1\" stroke=\"#000000\" stroke-opacity=\"1\" stroke-width=\"3.2\"/>\n",
       "<circle clip-path=\"url(#clip382)\" cx=\"1656.87\" cy=\"303.662\" r=\"14\" fill=\"#3da44d\" fill-rule=\"evenodd\" fill-opacity=\"1\" stroke=\"#000000\" stroke-opacity=\"1\" stroke-width=\"3.2\"/>\n",
       "<circle clip-path=\"url(#clip382)\" cx=\"1762.79\" cy=\"292.788\" r=\"14\" fill=\"#3da44d\" fill-rule=\"evenodd\" fill-opacity=\"1\" stroke=\"#000000\" stroke-opacity=\"1\" stroke-width=\"3.2\"/>\n",
       "<circle clip-path=\"url(#clip382)\" cx=\"1868.7\" cy=\"271.315\" r=\"14\" fill=\"#3da44d\" fill-rule=\"evenodd\" fill-opacity=\"1\" stroke=\"#000000\" stroke-opacity=\"1\" stroke-width=\"3.2\"/>\n",
       "<circle clip-path=\"url(#clip382)\" cx=\"1974.62\" cy=\"281.727\" r=\"14\" fill=\"#3da44d\" fill-rule=\"evenodd\" fill-opacity=\"1\" stroke=\"#000000\" stroke-opacity=\"1\" stroke-width=\"3.2\"/>\n",
       "<circle clip-path=\"url(#clip382)\" cx=\"2080.54\" cy=\"287.799\" r=\"14\" fill=\"#3da44d\" fill-rule=\"evenodd\" fill-opacity=\"1\" stroke=\"#000000\" stroke-opacity=\"1\" stroke-width=\"3.2\"/>\n",
       "<circle clip-path=\"url(#clip382)\" cx=\"2186.46\" cy=\"265.413\" r=\"14\" fill=\"#3da44d\" fill-rule=\"evenodd\" fill-opacity=\"1\" stroke=\"#000000\" stroke-opacity=\"1\" stroke-width=\"3.2\"/>\n",
       "<circle clip-path=\"url(#clip382)\" cx=\"2292.38\" cy=\"238.931\" r=\"14\" fill=\"#3da44d\" fill-rule=\"evenodd\" fill-opacity=\"1\" stroke=\"#000000\" stroke-opacity=\"1\" stroke-width=\"3.2\"/>\n",
       "<path clip-path=\"url(#clip380)\" d=\"\n",
       "M1763.7 374.156 L2281.65 374.156 L2281.65 166.796 L1763.7 166.796  Z\n",
       "  \" fill=\"#ffffff\" fill-rule=\"evenodd\" fill-opacity=\"1\"/>\n",
       "<polyline clip-path=\"url(#clip380)\" style=\"stroke:#000000; stroke-linecap:butt; stroke-linejoin:round; stroke-width:4; stroke-opacity:1; fill:none\" points=\"\n",
       "  1763.7,374.156 2281.65,374.156 2281.65,166.796 1763.7,166.796 1763.7,374.156 \n",
       "  \"/>\n",
       "<circle clip-path=\"url(#clip380)\" cx=\"1858.51\" cy=\"218.636\" r=\"23\" fill=\"#009af9\" fill-rule=\"evenodd\" fill-opacity=\"1\" stroke=\"#000000\" stroke-opacity=\"1\" stroke-width=\"5.12\"/>\n",
       "<path clip-path=\"url(#clip380)\" d=\"M1969.15 205.962 L1962.81 223.161 L1975.52 223.161 L1969.15 205.962 M1966.51 201.356 L1971.81 201.356 L1984.99 235.916 L1980.13 235.916 L1976.98 227.05 L1961.4 227.05 L1958.25 235.916 L1953.32 235.916 L1966.51 201.356 Z\" fill=\"#000000\" fill-rule=\"evenodd\" fill-opacity=\"1\" /><path clip-path=\"url(#clip380)\" d=\"M1989.5 201.356 L1994.2 201.356 L1994.2 222.351 Q1994.2 227.907 1996.21 230.36 Q1998.23 232.791 2002.74 232.791 Q2007.23 232.791 2009.25 230.36 Q2011.26 227.907 2011.26 222.351 L2011.26 201.356 L2015.96 201.356 L2015.96 222.93 Q2015.96 229.689 2012.6 233.138 Q2009.27 236.587 2002.74 236.587 Q1996.19 236.587 1992.83 233.138 Q1989.5 229.689 1989.5 222.93 L1989.5 201.356 Z\" fill=\"#000000\" fill-rule=\"evenodd\" fill-opacity=\"1\" /><path clip-path=\"url(#clip380)\" d=\"M2050.61 204.018 L2050.61 208.948 Q2048.25 206.749 2045.56 205.661 Q2042.9 204.573 2039.89 204.573 Q2033.97 204.573 2030.82 208.208 Q2027.67 211.819 2027.67 218.67 Q2027.67 225.499 2030.82 229.133 Q2033.97 232.744 2039.89 232.744 Q2042.9 232.744 2045.56 231.656 Q2048.25 230.569 2050.61 228.369 L2050.61 233.254 Q2048.16 234.92 2045.4 235.754 Q2042.67 236.587 2039.62 236.587 Q2031.77 236.587 2027.25 231.795 Q2022.74 226.981 2022.74 218.67 Q2022.74 210.337 2027.25 205.546 Q2031.77 200.731 2039.62 200.731 Q2042.72 200.731 2045.45 201.564 Q2048.2 202.374 2050.61 204.018 Z\" fill=\"#000000\" fill-rule=\"evenodd\" fill-opacity=\"1\" /><path clip-path=\"url(#clip380)\" d=\"M2069.43 222.883 Q2064.27 222.883 2062.28 224.064 Q2060.29 225.244 2060.29 228.092 Q2060.29 230.36 2061.77 231.703 Q2063.27 233.022 2065.84 233.022 Q2069.38 233.022 2071.51 230.522 Q2073.67 227.999 2073.67 223.832 L2073.67 222.883 L2069.43 222.883 M2077.93 221.124 L2077.93 235.916 L2073.67 235.916 L2073.67 231.981 Q2072.21 234.342 2070.03 235.476 Q2067.86 236.587 2064.71 236.587 Q2060.73 236.587 2058.37 234.365 Q2056.03 232.119 2056.03 228.369 Q2056.03 223.994 2058.94 221.772 Q2061.88 219.55 2067.69 219.55 L2073.67 219.55 L2073.67 219.133 Q2073.67 216.194 2071.72 214.596 Q2069.8 212.976 2066.31 212.976 Q2064.08 212.976 2061.98 213.508 Q2059.87 214.041 2057.93 215.106 L2057.93 211.17 Q2060.26 210.268 2062.46 209.828 Q2064.66 209.365 2066.74 209.365 Q2072.37 209.365 2075.15 212.282 Q2077.93 215.198 2077.93 221.124 Z\" fill=\"#000000\" fill-rule=\"evenodd\" fill-opacity=\"1\" /><path clip-path=\"url(#clip380)\" d=\"M2086.26 225.684 L2086.26 209.99 L2090.52 209.99 L2090.52 225.522 Q2090.52 229.203 2091.95 231.055 Q2093.39 232.883 2096.26 232.883 Q2099.71 232.883 2101.7 230.684 Q2103.71 228.485 2103.71 224.689 L2103.71 209.99 L2107.97 209.99 L2107.97 235.916 L2103.71 235.916 L2103.71 231.934 Q2102.16 234.295 2100.1 235.453 Q2098.06 236.587 2095.36 236.587 Q2090.89 236.587 2088.57 233.809 Q2086.26 231.031 2086.26 225.684 M2096.98 209.365 L2096.98 209.365 Z\" fill=\"#000000\" fill-rule=\"evenodd\" fill-opacity=\"1\" /><path clip-path=\"url(#clip380)\" d=\"M2116.93 201.356 L2123.9 201.356 L2132.72 224.874 L2141.58 201.356 L2148.55 201.356 L2148.55 235.916 L2143.99 235.916 L2143.99 205.569 L2135.08 229.272 L2130.38 229.272 L2121.47 205.569 L2121.47 235.916 L2116.93 235.916 L2116.93 201.356 Z\" fill=\"#000000\" fill-rule=\"evenodd\" fill-opacity=\"1\" /><path clip-path=\"url(#clip380)\" d=\"M2169.43 222.883 Q2164.27 222.883 2162.28 224.064 Q2160.29 225.244 2160.29 228.092 Q2160.29 230.36 2161.77 231.703 Q2163.27 233.022 2165.84 233.022 Q2169.38 233.022 2171.51 230.522 Q2173.67 227.999 2173.67 223.832 L2173.67 222.883 L2169.43 222.883 M2177.92 221.124 L2177.92 235.916 L2173.67 235.916 L2173.67 231.981 Q2172.21 234.342 2170.03 235.476 Q2167.86 236.587 2164.71 236.587 Q2160.73 236.587 2158.36 234.365 Q2156.03 232.119 2156.03 228.369 Q2156.03 223.994 2158.94 221.772 Q2161.88 219.55 2167.69 219.55 L2173.67 219.55 L2173.67 219.133 Q2173.67 216.194 2171.72 214.596 Q2169.8 212.976 2166.3 212.976 Q2164.08 212.976 2161.98 213.508 Q2159.87 214.041 2157.92 215.106 L2157.92 211.17 Q2160.26 210.268 2162.46 209.828 Q2164.66 209.365 2166.74 209.365 Q2172.37 209.365 2175.15 212.282 Q2177.92 215.198 2177.92 221.124 Z\" fill=\"#000000\" fill-rule=\"evenodd\" fill-opacity=\"1\" /><path clip-path=\"url(#clip380)\" d=\"M2203.23 210.754 L2203.23 214.782 Q2201.42 213.856 2199.48 213.393 Q2197.53 212.93 2195.45 212.93 Q2192.28 212.93 2190.68 213.902 Q2189.11 214.874 2189.11 216.819 Q2189.11 218.3 2190.24 219.157 Q2191.37 219.99 2194.8 220.754 L2196.26 221.078 Q2200.8 222.05 2202.69 223.832 Q2204.61 225.592 2204.61 228.763 Q2204.61 232.374 2201.74 234.481 Q2198.9 236.587 2193.9 236.587 Q2191.81 236.587 2189.55 236.17 Q2187.3 235.777 2184.8 234.967 L2184.8 230.569 Q2187.16 231.795 2189.45 232.42 Q2191.74 233.022 2193.99 233.022 Q2197 233.022 2198.62 232.004 Q2200.24 230.962 2200.24 229.087 Q2200.24 227.351 2199.06 226.425 Q2197.9 225.499 2193.94 224.643 L2192.46 224.295 Q2188.5 223.462 2186.74 221.749 Q2184.99 220.013 2184.99 217.004 Q2184.99 213.346 2187.58 211.356 Q2190.17 209.365 2194.94 209.365 Q2197.3 209.365 2199.38 209.712 Q2201.47 210.059 2203.23 210.754 Z\" fill=\"#000000\" fill-rule=\"evenodd\" fill-opacity=\"1\" /><path clip-path=\"url(#clip380)\" d=\"M2211.23 199.897 L2215.52 199.897 L2215.52 221.17 L2228.23 209.99 L2233.67 209.99 L2219.92 222.119 L2234.24 235.916 L2228.69 235.916 L2215.52 223.254 L2215.52 235.916 L2211.23 235.916 L2211.23 199.897 Z\" fill=\"#000000\" fill-rule=\"evenodd\" fill-opacity=\"1\" /><circle clip-path=\"url(#clip380)\" cx=\"1858.51\" cy=\"270.476\" r=\"23\" fill=\"#e26f46\" fill-rule=\"evenodd\" fill-opacity=\"1\" stroke=\"#000000\" stroke-opacity=\"1\" stroke-width=\"5.12\"/>\n",
       "<path clip-path=\"url(#clip380)\" d=\"M1969.15 257.802 L1962.81 275.001 L1975.52 275.001 L1969.15 257.802 M1966.51 253.196 L1971.81 253.196 L1984.99 287.756 L1980.13 287.756 L1976.98 278.89 L1961.4 278.89 L1958.25 287.756 L1953.32 287.756 L1966.51 253.196 Z\" fill=\"#000000\" fill-rule=\"evenodd\" fill-opacity=\"1\" /><path clip-path=\"url(#clip380)\" d=\"M1989.5 253.196 L1994.2 253.196 L1994.2 274.191 Q1994.2 279.747 1996.21 282.2 Q1998.23 284.631 2002.74 284.631 Q2007.23 284.631 2009.25 282.2 Q2011.26 279.747 2011.26 274.191 L2011.26 253.196 L2015.96 253.196 L2015.96 274.77 Q2015.96 281.529 2012.6 284.978 Q2009.27 288.427 2002.74 288.427 Q1996.19 288.427 1992.83 284.978 Q1989.5 281.529 1989.5 274.77 L1989.5 253.196 Z\" fill=\"#000000\" fill-rule=\"evenodd\" fill-opacity=\"1\" /><path clip-path=\"url(#clip380)\" d=\"M2050.61 255.858 L2050.61 260.788 Q2048.25 258.589 2045.56 257.501 Q2042.9 256.413 2039.89 256.413 Q2033.97 256.413 2030.82 260.048 Q2027.67 263.659 2027.67 270.51 Q2027.67 277.339 2030.82 280.973 Q2033.97 284.584 2039.89 284.584 Q2042.9 284.584 2045.56 283.496 Q2048.25 282.409 2050.61 280.209 L2050.61 285.094 Q2048.16 286.76 2045.4 287.594 Q2042.67 288.427 2039.62 288.427 Q2031.77 288.427 2027.25 283.635 Q2022.74 278.821 2022.74 270.51 Q2022.74 262.177 2027.25 257.386 Q2031.77 252.571 2039.62 252.571 Q2042.72 252.571 2045.45 253.404 Q2048.2 254.214 2050.61 255.858 Z\" fill=\"#000000\" fill-rule=\"evenodd\" fill-opacity=\"1\" /><path clip-path=\"url(#clip380)\" d=\"M2069.43 274.723 Q2064.27 274.723 2062.28 275.904 Q2060.29 277.084 2060.29 279.932 Q2060.29 282.2 2061.77 283.543 Q2063.27 284.862 2065.84 284.862 Q2069.38 284.862 2071.51 282.362 Q2073.67 279.839 2073.67 275.672 L2073.67 274.723 L2069.43 274.723 M2077.93 272.964 L2077.93 287.756 L2073.67 287.756 L2073.67 283.821 Q2072.21 286.182 2070.03 287.316 Q2067.86 288.427 2064.71 288.427 Q2060.73 288.427 2058.37 286.205 Q2056.03 283.959 2056.03 280.209 Q2056.03 275.834 2058.94 273.612 Q2061.88 271.39 2067.69 271.39 L2073.67 271.39 L2073.67 270.973 Q2073.67 268.034 2071.72 266.436 Q2069.8 264.816 2066.31 264.816 Q2064.08 264.816 2061.98 265.348 Q2059.87 265.881 2057.93 266.946 L2057.93 263.01 Q2060.26 262.108 2062.46 261.668 Q2064.66 261.205 2066.74 261.205 Q2072.37 261.205 2075.15 264.122 Q2077.93 267.038 2077.93 272.964 Z\" fill=\"#000000\" fill-rule=\"evenodd\" fill-opacity=\"1\" /><path clip-path=\"url(#clip380)\" d=\"M2086.26 277.524 L2086.26 261.83 L2090.52 261.83 L2090.52 277.362 Q2090.52 281.043 2091.95 282.895 Q2093.39 284.723 2096.26 284.723 Q2099.71 284.723 2101.7 282.524 Q2103.71 280.325 2103.71 276.529 L2103.71 261.83 L2107.97 261.83 L2107.97 287.756 L2103.71 287.756 L2103.71 283.774 Q2102.16 286.135 2100.1 287.293 Q2098.06 288.427 2095.36 288.427 Q2090.89 288.427 2088.57 285.649 Q2086.26 282.871 2086.26 277.524 M2096.98 261.205 L2096.98 261.205 Z\" fill=\"#000000\" fill-rule=\"evenodd\" fill-opacity=\"1\" /><circle clip-path=\"url(#clip380)\" cx=\"1858.51\" cy=\"322.316\" r=\"23\" fill=\"#3da44d\" fill-rule=\"evenodd\" fill-opacity=\"1\" stroke=\"#000000\" stroke-opacity=\"1\" stroke-width=\"5.12\"/>\n",
       "<path clip-path=\"url(#clip380)\" d=\"M1969.15 309.642 L1962.81 326.841 L1975.52 326.841 L1969.15 309.642 M1966.51 305.036 L1971.81 305.036 L1984.99 339.596 L1980.13 339.596 L1976.98 330.73 L1961.4 330.73 L1958.25 339.596 L1953.32 339.596 L1966.51 305.036 Z\" fill=\"#000000\" fill-rule=\"evenodd\" fill-opacity=\"1\" /><path clip-path=\"url(#clip380)\" d=\"M1989.5 305.036 L1994.2 305.036 L1994.2 326.031 Q1994.2 331.587 1996.21 334.04 Q1998.23 336.471 2002.74 336.471 Q2007.23 336.471 2009.25 334.04 Q2011.26 331.587 2011.26 326.031 L2011.26 305.036 L2015.96 305.036 L2015.96 326.61 Q2015.96 333.369 2012.6 336.818 Q2009.27 340.267 2002.74 340.267 Q1996.19 340.267 1992.83 336.818 Q1989.5 333.369 1989.5 326.61 L1989.5 305.036 Z\" fill=\"#000000\" fill-rule=\"evenodd\" fill-opacity=\"1\" /><path clip-path=\"url(#clip380)\" d=\"M2041.07 314.434 L2041.07 318.462 Q2039.27 317.536 2037.32 317.073 Q2035.38 316.61 2033.3 316.61 Q2030.12 316.61 2028.53 317.582 Q2026.95 318.554 2026.95 320.499 Q2026.95 321.98 2028.09 322.837 Q2029.22 323.67 2032.65 324.434 L2034.11 324.758 Q2038.64 325.73 2040.54 327.512 Q2042.46 329.272 2042.46 332.443 Q2042.46 336.054 2039.59 338.161 Q2036.75 340.267 2031.75 340.267 Q2029.66 340.267 2027.39 339.85 Q2025.15 339.457 2022.65 338.647 L2022.65 334.249 Q2025.01 335.475 2027.3 336.1 Q2029.59 336.702 2031.84 336.702 Q2034.85 336.702 2036.47 335.684 Q2038.09 334.642 2038.09 332.767 Q2038.09 331.031 2036.91 330.105 Q2035.75 329.179 2031.79 328.323 L2030.31 327.975 Q2026.35 327.142 2024.59 325.429 Q2022.83 323.693 2022.83 320.684 Q2022.83 317.026 2025.43 315.036 Q2028.02 313.045 2032.79 313.045 Q2035.15 313.045 2037.23 313.392 Q2039.31 313.739 2041.07 314.434 Z\" fill=\"#000000\" fill-rule=\"evenodd\" fill-opacity=\"1\" /><path clip-path=\"url(#clip380)\" d=\"M2049.25 313.67 L2053.5 313.67 L2053.5 339.596 L2049.25 339.596 L2049.25 313.67 M2049.25 303.577 L2053.5 303.577 L2053.5 308.971 L2049.25 308.971 L2049.25 303.577 Z\" fill=\"#000000\" fill-rule=\"evenodd\" fill-opacity=\"1\" /><path clip-path=\"url(#clip380)\" d=\"M2081.03 326.656 Q2081.03 321.957 2079.08 319.295 Q2077.16 316.61 2073.78 316.61 Q2070.4 316.61 2068.46 319.295 Q2066.54 321.957 2066.54 326.656 Q2066.54 331.355 2068.46 334.04 Q2070.4 336.702 2073.78 336.702 Q2077.16 336.702 2079.08 334.04 Q2081.03 331.355 2081.03 326.656 M2066.54 317.605 Q2067.88 315.29 2069.92 314.179 Q2071.98 313.045 2074.82 313.045 Q2079.55 313.045 2082.49 316.795 Q2085.45 320.545 2085.45 326.656 Q2085.45 332.767 2082.49 336.517 Q2079.55 340.267 2074.82 340.267 Q2071.98 340.267 2069.92 339.156 Q2067.88 338.022 2066.54 335.707 L2066.54 339.596 L2062.25 339.596 L2062.25 303.577 L2066.54 303.577 L2066.54 317.605 Z\" fill=\"#000000\" fill-rule=\"evenodd\" fill-opacity=\"1\" /></svg>\n"
      ]
     },
     "execution_count": 95,
     "metadata": {},
     "output_type": "execute_result"
    }
   ],
   "source": [
    "#AUROC curves\n",
    "\n",
    "T = Int(T)\n",
    "AU_curve2=zeros(T)\n",
    "AU_sib=zeros(T)\n",
    "for t = 1:T\n",
    "    cau_risk=zeros(N)\n",
    "    sib_risk = zeros(N)\n",
    "    for i=1:N\n",
    "       cau_risk[i] = marginal(i,t,statscau)\n",
    "       sib_risk[i] = p_sib[i,Int(round(t/dt))] \n",
    "    end\n",
    "    xt = xtrue .< t\n",
    "    AU_curve2[t] = AUROC(ROC(xt, cau_risk))\n",
    "    #AU_fast[t]  = AUROC(ROC(xt, fast_risk))\n",
    "    AU_sib[t] = AUROC(ROC(xt, sib_risk))\n",
    "end\n",
    "\n",
    "scatter(LinRange(1,T,T),AU_curve, label=\"AUCauMask\", title=\"Causality VS Sib AUROC in function of time\")\n",
    "scatter!(LinRange(1,T,T),AU_curve2, label=\"AUCau\", title=\"Causality VS Sib AUROC in function of time\")\n",
    "scatter!(LinRange(1,T,T), AU_sib, label=\"AUsib\")\n",
    "#plot!(LinRange(1,T,T), AU_fast, label=\"AUN2\")\n",
    "xlabel!(\"t\")\n",
    "ylabel!(\"AUROC\")\n",
    "#savefig(\"confronti.pdf\")\n",
    "ylims!(0.5,1.01)"
   ]
  },
  {
   "cell_type": "raw",
   "metadata": {},
   "source": [
    "open(\"sib.txt\", \"a\") do io \n",
    "    for s in AU_sib\n",
    "        write(io, \"$s \")\n",
    "    end\n",
    "    write(io, \"\\n\")\n",
    "end;\n",
    "\n",
    "open(\"cau.txt\", \"a\") do io \n",
    "    for s in AU_curve\n",
    "        write(io,\"$s \")\n",
    "    end\n",
    "    write(io,\"\\n\")\n",
    "end;"
   ]
  },
  {
   "cell_type": "code",
   "execution_count": 170,
   "metadata": {},
   "outputs": [
    {
     "data": {
      "text/plain": [
       "20-element Vector{Float64}:\n",
       " 0.9347368421052631\n",
       " 0.9483695652173914\n",
       " 0.9678030303030304\n",
       " 0.969053934571176\n",
       " 0.9667774086378738\n",
       " 0.966690290574061\n",
       " 0.9579945799457994\n",
       " 0.9668474984930682\n",
       " 0.9662447257383966\n",
       " 0.9731934731934732\n",
       " 0.9734613212874083\n",
       " 0.9676535087719298\n",
       " 0.972972972972973\n",
       " 0.9914285714285714\n",
       " 0.9976624590930341\n",
       " 0.9957924263674613\n",
       " 0.9955436720142603\n",
       " 0.9770797962648559\n",
       " 0.9768499379909054\n",
       " 0.9412484700122401"
      ]
     },
     "execution_count": 170,
     "metadata": {},
     "output_type": "execute_result"
    }
   ],
   "source": [
    "AU_sib"
   ]
  },
  {
   "cell_type": "code",
   "execution_count": null,
   "metadata": {},
   "outputs": [],
   "source": []
  }
 ],
 "metadata": {
  "kernelspec": {
   "display_name": "Julia 1.7.0-rc2",
   "language": "julia",
   "name": "julia-1.7"
  },
  "language_info": {
   "file_extension": ".jl",
   "mimetype": "application/julia",
   "name": "julia",
   "version": "1.7.0"
  }
 },
 "nbformat": 4,
 "nbformat_minor": 4
}
