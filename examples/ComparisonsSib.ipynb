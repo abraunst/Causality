{
 "cells": [
  {
   "cell_type": "markdown",
   "metadata": {},
   "source": [
    "Continuous-time model\n",
    "---\n",
    "\n",
    "Let's order the infection times $t_{\\pi_{1}}<t_{\\pi_{2}}<\\dots<t_{\\pi_{N}}$\n",
    ". Let $\\lambda_{i}\\left(t\\right)$ be a time-dependent transmission\n",
    "rate and $L_{i}\\left(t\\right)=\\int_{0}^{t}\\lambda_{ij}\\left(s\\right)ds$\n",
    "its primitive. Then $\\rho_{i}\\left(t_i; t_j\\right)=\\lambda_{i}\\left(t_i\\right)e^{-\\int_{t_j}^{t_i}\\lambda_{i}\\left(s\\right)ds} = \\lambda_{i}\\left(t_j\\right)e^{L_{i}(t_j) - L_{i}(t_i) }$\n",
    "will be the transmission ``delay'' density distribution. "
   ]
  },
  {
   "cell_type": "markdown",
   "metadata": {},
   "source": [
    "\\begin{align*}p\\left(t_{1},\\dots,t_{N}\\right) & =\\prod_{i=1}^{N}\\lim_{ds\\to0^{+}}\\frac{\\prod_{j\\in\\partial i:t_{j}<t_{i}}e^{L_{i}(t_{j})-L_{i}(t_{i}-ds)}-\\prod_{j\\in\\partial i:t_{j}<t_{i}}e^{L_{i}(t_{j})-L_{i}(t_{i})}}{ds}\\\\\n",
    " & =\\prod_{i=1}^{N}\\frac{d}{ds}_{|s=0}\\prod_{j\\in\\partial i:t_{j}<t_{i}}e^{L_{i}(t_{j})-L_{i}(t_{i}-ds)}\\\\\n",
    " & =\\prod_{i=1}^{N}\\left\\{ \\left(\\prod_{j\\in\\partial i:t_{j}<t_{i}}e^{L_{i}(t_{j})-L_{i}(t_{i})}\\right)\\sum_{j\\in\\partial i:t_{j}<t_{i}}\\lambda_{i}\\left(t_{i}\\right)\\right\\} \\\\\n",
    "\\mathcal{L}_{0}\\left(t_{1},\\dots,t_{N}\\right) & =\\log p\\left(t_{1},\\dots,t_{N}\\right)\\\\\n",
    " & =-\\sum_{i=1}^{N}\\left\\{ \\sum_{j\\in\\partial i:t_{j}<t_{i}}\\left(L_{i}(t_{i})-L_{i}(t_{j})\\right)-\\log\\left(\\sum_{j\\in\\partial i:t_{j}<t_{i}}\\lambda_{i}\\left(t_{i}\\right)\\right)\\right\\} \n",
    "\\end{align*}"
   ]
  },
  {
   "cell_type": "markdown",
   "metadata": {},
   "source": [
    "Note that $$\\int_{t_j}^{t_i} \\rho_{i}(s; t_j) ds = 1-e^{-\\left(L_{i}(t_i) - L_{i}(t_j)\\right)}$$ so $$\\lambda_{i}(t) = -\\frac{d}{dt}\\log \\left(1-\\int_{t_j}^{t_i} \\rho_{i}(s) ds\\right)$$"
   ]
  },
  {
   "cell_type": "markdown",
   "metadata": {},
   "source": [
    "\n",
    "\\begin{align}\\lambda(t) & =ae^{-\\left(\\frac{t-b}{c}\\right)^{2}}\\\\\n",
    "\\frac{x-b}{c} & =\\frac{y}{\\sqrt{2}}\\\\\n",
    "dx & =\\frac{c}{\\sqrt{2}}dy\\\\\n",
    "L(t)=\\int_{0}^{t}ae^{-\\left(\\frac{x-b}{c}\\right)^{2}}dx & = ac\\int_{\\frac{0-b}{c}}^{\\frac{t-b}{c}}e^{-y^{2}}dy\\\\\n",
    " & =ac\\sqrt{\\pi}\\frac{1}{\\sqrt{\\pi}}\\int_{-\\frac{b}{c}}^{\\frac{t-b}{c}}e^{-y^{2}}dy\\\\\n",
    " & =\\frac{ac\\sqrt{\\pi}}{2}\\left(\\mathrm{erfc}\\left(-\\frac{t-b}{c}\\right)-\\mathrm{erfc}\\left(\\frac{b}{c}\\right)\\right)\\\\\n",
    "\\rho_{i}\\left(t_{i};t_{j}\\right) & =\\lambda_{i}\\left(t_{i}\\right)e^{-\\int_{t_{j}}^{t_{i}}\\lambda_{i}\\left(s\\right)ds}=\\lambda_{i}\\left(t_{i}\\right)e^{L_{i}(t_{j})-L_{i}(t_{i})}\\\\\n",
    "\\frac{d}{ds}-e^{L_{i}(t_{j})-L_{i}(s)} & =\\lambda\\left(s\\right)e^{L_{i}(t_{j})-L_{i}(s)}=\\rho_{i}\\left(s;t_{j}\\right)\\\\\n",
    "\\end{align}"
   ]
  },
  {
   "cell_type": "markdown",
   "metadata": {},
   "source": [
    "Sampling \n",
    "---\n",
    "\\begin{align}\n",
    "\\int_{t_{j}}^{t}\\rho(s;t_{j})ds & =1-e^{L_{i}(t_{j})-L_{i}(t)}=1-r\\sim U(0,1)\\\\\n",
    "e^{L_{i}(t_{j})-L_{i}(t)} & =r\\\\\n",
    "L_{i}(t) & =L_{i}\\left(t_{j}\\right)-\\log(r)\\\\\n",
    "\\mathrm{erfc}\\left(-\\frac{t-b}{c}\\right) & =\\frac{2}{ac\\sqrt{\\pi}}\\left(L_{i}\\left(t_{j}\\right)-\\log(r)\\right)+\\mathrm{erfc}\\left(\\frac{b}{c}\\right)\\\\\n",
    "t & =-c\\,\\mathrm{ierfc}\\left(\\frac{2}{ac\\sqrt{\\pi}}\\left(L_{i}\\left(t_{j}\\right)-\\log(r)\\right)+\\mathrm{erfc}\\left(\\frac{b}{c}\\right)\\right)+b\n",
    "\\end{align}"
   ]
  },
  {
   "cell_type": "code",
   "execution_count": 1,
   "metadata": {},
   "outputs": [
    {
     "data": {
      "text/plain": [
       "sibyl (generic function with 1 method)"
      ]
     },
     "execution_count": 1,
     "metadata": {},
     "output_type": "execute_result"
    }
   ],
   "source": [
    "using PyCall\n",
    "@pyimport sib\n",
    "function sibyl(N, T_cont, Λ, O, γ, λ ; dt=1/5, maxit = 400, tol = 1e-14)\n",
    "    \n",
    "    T = Int(round(T_cont / dt))\n",
    "    contacts = [(i-1,j-1,t, λ * dt) for t in 1:T for (i,j,v) in zip(findnz(Λ.A)...)];\n",
    "    obs = [[(i,-1,t) for t=1:T for i=0:N-1];\n",
    "           [(i-1,s,Int(round(t/dt))) for (i,s,t,p) in O]]\n",
    "    sort!(obs, lt=((i1,s1,t1),(i2,s2,t2))->(t1<t2))\n",
    "    prob_sus = 0.5\n",
    "    prob_seed=γ\n",
    "    pseed = prob_seed / (2 - prob_seed)\n",
    "    psus = prob_sus * (1 - pseed)\n",
    "    params = sib.Params(prob_r=sib.Exponential(mu=0), pseed=pseed, psus=psus,pautoinf=1e-10,fp_rate=1e-10,fn_rate=1e-10)\n",
    "    f = sib.FactorGraph(contacts=contacts, observations=obs, params=params)\n",
    "    sib.iterate(f, maxit=maxit,tol=tol)\n",
    "    sib.iterate(f, maxit=maxit, damping=0.5, tol=tol)\n",
    "    sib.iterate(f, maxit=maxit, damping=0.9, tol=tol)\n",
    "    p_sib=[collect(n.bt) for n in f.nodes]\n",
    "    m_sib = zeros(N, T)\n",
    "    for i=1:N\n",
    "        m_sib[i,1] = p_sib[i][1] \n",
    "        for t=2:T\n",
    "            m_sib[i,t] = m_sib[i,t-1] + p_sib[i][t]\n",
    "        end\n",
    "    end \n",
    "    return m_sib\n",
    "end\n"
   ]
  },
  {
   "cell_type": "code",
   "execution_count": 4,
   "metadata": {},
   "outputs": [
    {
     "ename": "LoadError",
     "evalue": "MethodError: no method matching sparse(::Vector{Int64}, ::Vector{Int64}, ::Array{Int64, 3})\n\u001b[0mClosest candidates are:\n\u001b[0m  sparse(::AbstractVector{Ti}, ::AbstractVector{Ti}, \u001b[91m::AbstractVector{Tv}\u001b[39m, \u001b[91m::Integer\u001b[39m, \u001b[91m::Integer\u001b[39m, \u001b[91m::Any\u001b[39m) where {Tv, Ti<:Integer} at ~/Julia1.7/julia-1.7.0-rc2/share/julia/stdlib/v1.7/SparseArrays/src/sparsematrix.jl:763\n\u001b[0m  sparse(::Any, ::Any, \u001b[91m::Number\u001b[39m) at ~/Julia1.7/julia-1.7.0-rc2/share/julia/stdlib/v1.7/SparseArrays/src/sparsematrix.jl:981\n\u001b[0m  sparse(::Any, ::Any, \u001b[91m::Number\u001b[39m, \u001b[91m::Any\u001b[39m, \u001b[91m::Any\u001b[39m) at ~/Julia1.7/julia-1.7.0-rc2/share/julia/stdlib/v1.7/SparseArrays/src/sparsematrix.jl:985\n\u001b[0m  ...",
     "output_type": "error",
     "traceback": [
      "MethodError: no method matching sparse(::Vector{Int64}, ::Vector{Int64}, ::Array{Int64, 3})\n\u001b[0mClosest candidates are:\n\u001b[0m  sparse(::AbstractVector{Ti}, ::AbstractVector{Ti}, \u001b[91m::AbstractVector{Tv}\u001b[39m, \u001b[91m::Integer\u001b[39m, \u001b[91m::Integer\u001b[39m, \u001b[91m::Any\u001b[39m) where {Tv, Ti<:Integer} at ~/Julia1.7/julia-1.7.0-rc2/share/julia/stdlib/v1.7/SparseArrays/src/sparsematrix.jl:763\n\u001b[0m  sparse(::Any, ::Any, \u001b[91m::Number\u001b[39m) at ~/Julia1.7/julia-1.7.0-rc2/share/julia/stdlib/v1.7/SparseArrays/src/sparsematrix.jl:981\n\u001b[0m  sparse(::Any, ::Any, \u001b[91m::Number\u001b[39m, \u001b[91m::Any\u001b[39m, \u001b[91m::Any\u001b[39m) at ~/Julia1.7/julia-1.7.0-rc2/share/julia/stdlib/v1.7/SparseArrays/src/sparsematrix.jl:985\n\u001b[0m  ...",
      "",
      "Stacktrace:",
      " [1] makeBarabasi(N::Int64; k::Int64)",
      "   @ Causality ~/git/Causality/src/graphs.jl:8",
      " [2] makeBarabasi(N::Int64)",
      "   @ Causality ~/git/Causality/src/graphs.jl:7",
      " [3] top-level scope",
      "   @ In[4]:5",
      " [4] eval",
      "   @ ./boot.jl:373 [inlined]",
      " [5] include_string(mapexpr::typeof(REPL.softscope), mod::Module, code::String, filename::String)",
      "   @ Base ./loading.jl:1196"
     ]
    }
   ],
   "source": [
    "using SparseArrays, LinearAlgebra\n",
    "using Causality\n",
    "T, N = 20.0, 100\n",
    "ρ = 1/N\n",
    "G = Causality.makeBarabasi(N)"
   ]
  },
  {
   "cell_type": "code",
   "execution_count": 66,
   "metadata": {},
   "outputs": [
    {
     "data": {
      "text/plain": [
       "getpar (generic function with 1 method)"
      ]
     },
     "execution_count": 66,
     "metadata": {},
     "output_type": "execute_result"
    }
   ],
   "source": [
    "getpar(p,a1,b1,c1,a2,b2,c2) = [fill(p, 1, N);\n",
    "     fill(a1, 1, N); fill(b1, 1, N); fill(c1, 1, N);\n",
    "     fill(a2,   1, N); fill(b2, 1, N); fill(c2, 1, N)]"
   ]
  },
  {
   "cell_type": "code",
   "execution_count": 85,
   "metadata": {},
   "outputs": [
    {
     "data": {
      "text/plain": [
       "IndividualSI{GaussianRate, GaussianRate}"
      ]
     },
     "execution_count": 85,
     "metadata": {},
     "output_type": "execute_result"
    }
   ],
   "source": [
    "ε = 1e-10\n",
    "λ = 0.5\n",
    "θp = getpar(1/N, ε, T/2, 1/ε,   1.0, T/2, 1/ε)\n",
    "θmin = getpar(ε  , ε  ,  -T,   ε,   ε,  -T, ε  )\n",
    "θmax = getpar(1-ε, 1/ε,  2T, 1/ε, 1/ε,  2T, 1/ε)\n",
    "const I = IndividualSI{GaussianRate,GaussianRate}"
   ]
  },
  {
   "cell_type": "code",
   "execution_count": 86,
   "metadata": {},
   "outputs": [],
   "source": [
    "Mp = StochasticModel(I,T, θp, G, ConstantRate(λ));\n",
    "sample! = Sampler(Mp);"
   ]
  },
  {
   "cell_type": "code",
   "execution_count": 87,
   "metadata": {},
   "outputs": [],
   "source": [
    "ε = 2e-3\n",
    "θp2 = getpar(1/N, ε, T/2, 1/ε,   1.0, T/2, 1/ε)\n",
    "Mp2 = StochasticModel(I, T, θp2, G, ConstantRate(λ));"
   ]
  },
  {
   "cell_type": "code",
   "execution_count": 88,
   "metadata": {},
   "outputs": [],
   "source": [
    "θ = getpar(2/N  , 2/N  ,  T/2,   2*T,   1,  T/2, 3*T  )\n",
    "M = StochasticModel(I, T, θ, G, ConstantRate(λ));"
   ]
  },
  {
   "cell_type": "code",
   "execution_count": 91,
   "metadata": {},
   "outputs": [
    {
     "data": {
      "text/plain": [
       "25-element Vector{Tuple{Int64, Bool, Float64, Float64}}:\n",
       " (1, 1, 18.28418015423328, 1.0e-6)\n",
       " (2, 0, 11.0558120321101, 1.0e-6)\n",
       " (3, 0, 10.923319520728922, 1.0e-6)\n",
       " (4, 0, 15.364366819238498, 1.0e-6)\n",
       " (5, 0, 10.066168675777863, 1.0e-6)\n",
       " (6, 0, 19.723055719094262, 1.0e-6)\n",
       " (7, 0, 15.537342661698093, 1.0e-6)\n",
       " (8, 0, 18.11467257008648, 1.0e-6)\n",
       " (9, 1, 17.662084529390945, 1.0e-6)\n",
       " (10, 0, 17.639852503524736, 1.0e-6)\n",
       " (11, 0, 18.90094349612717, 1.0e-6)\n",
       " (12, 0, 15.342141146885183, 1.0e-6)\n",
       " (13, 0, 12.546682050272185, 1.0e-6)\n",
       " (14, 1, 11.530257896823525, 1.0e-6)\n",
       " (15, 0, 19.573496727414714, 1.0e-6)\n",
       " (16, 1, 11.838301950607594, 1.0e-6)\n",
       " (17, 0, 14.88567186107824, 1.0e-6)\n",
       " (18, 1, 12.625924509608936, 1.0e-6)\n",
       " (19, 0, 12.516702308162998, 1.0e-6)\n",
       " (20, 0, 14.69544997193866, 1.0e-6)\n",
       " (21, 0, 14.829866885422904, 1.0e-6)\n",
       " (22, 0, 14.025645741898831, 1.0e-6)\n",
       " (23, 1, 15.34933837639253, 1.0e-6)\n",
       " (24, 0, 15.183688470255575, 1.0e-6)\n",
       " (25, 0, 14.338405712849681, 1.0e-6)"
      ]
     },
     "execution_count": 91,
     "metadata": {},
     "output_type": "execute_result"
    }
   ],
   "source": [
    "xtrue = zeros(N)\n",
    "sample!(xtrue)\n",
    "nobs, p = 25, 1e-6\n",
    "O = [(ti = T*(1+rand())/2; (i,xtrue[i] < ti,ti,p)) for i=1:nobs]"
   ]
  },
  {
   "cell_type": "code",
   "execution_count": 92,
   "metadata": {},
   "outputs": [
    {
     "name": "stderr",
     "output_type": "stream",
     "text": [
      "\u001b[32mProgress: 100%|█████████████████████████████████████████| Time: 0:00:15\u001b[39m\n",
      "\u001b[34m  F:  11.423903696059389\u001b[39m\n"
     ]
    }
   ],
   "source": [
    "using ProgressMeter\n",
    "ProgressMeter.ijulia_behavior(:clear)\n",
    "descend!(Mp2, O; M=M, numsamples=2000, numiters=50, \n",
    "         θmin=θmin, θmax=θmax, descender=SignDescender(0.1));\n",
    "descend!(Mp2, O; M=M, numsamples=2000, numiters=100, \n",
    "         θmin=θmin, θmax=θmax, descender=SignDescender(0.04));"
   ]
  },
  {
   "cell_type": "code",
   "execution_count": 33,
   "metadata": {
    "collapsed": true,
    "jupyter": {
     "outputs_hidden": true
    }
   },
   "outputs": [
    {
     "name": "stderr",
     "output_type": "stream",
     "text": [
      "\u001b[32mProgress:   0%|▏                                        |  ETA: 0:46:08\u001b[39m"
     ]
    },
    {
     "ename": "LoadError",
     "evalue": "InterruptException:",
     "output_type": "error",
     "traceback": [
      "InterruptException:",
      "",
      "Stacktrace:",
      "  [1] reshape",
      "    @ ./reshapedarray.jl:51 [inlined]",
      "  [2] reshape",
      "    @ ./reshapedarray.jl:111 [inlined]",
      "  [3] reshape",
      "    @ ./reshapedarray.jl:141 [inlined]",
      "  [4] _maybe_reshape_parent",
      "    @ ./subarray.jl:127 [inlined]",
      "  [5] view",
      "    @ ./subarray.jl:178 [inlined]",
      "  [6] maybeview",
      "    @ ./views.jl:146 [inlined]",
      "  [7] dotview",
      "    @ ./broadcast.jl:1200 [inlined]",
      "  [8] macro expansion",
      "    @ ~/git/Causality/src/sampler.jl:101 [inlined]",
      "  [9] macro expansion",
      "    @ ~/.julia/packages/ProgressMeter/Vf8un/src/ProgressMeter.jl:940 [inlined]",
      " [10] post(Mp::StochasticModel{IndividualSI{GaussianRate, GaussianRate}, Causality.SparseMatrixDiGraph{Int64}, ConstantRate{Float64}, Vector{UnitRate}}, O::Vector{Tuple{Int64, Bool, Float64, Float64}}; numsamples::Int64)",
      "    @ Causality ~/git/Causality/src/sampler.jl:95",
      " [11] top-level scope",
      "    @ In[33]:1",
      " [12] eval",
      "    @ ./boot.jl:373 [inlined]",
      " [13] include_string(mapexpr::typeof(REPL.softscope), mod::Module, code::String, filename::String)",
      "    @ Base ./loading.jl:1196"
     ]
    }
   ],
   "source": [
    "stats = post(Mp, O, numsamples=10000);"
   ]
  },
  {
   "cell_type": "code",
   "execution_count": 93,
   "metadata": {},
   "outputs": [
    {
     "name": "stderr",
     "output_type": "stream",
     "text": [
      "\u001b[32mProgress: 100%|█████████████████████████████████████████| Time: 0:00:00\u001b[39m\n"
     ]
    }
   ],
   "source": [
    "sample! = Sampler(M)\n",
    "statscau = prior(M);"
   ]
  },
  {
   "cell_type": "code",
   "execution_count": 94,
   "metadata": {},
   "outputs": [
    {
     "name": "stdout",
     "output_type": "stream",
     "text": [
      "\n",
      "sib.iterate(damp=0.0): 16/400 0.000e+00/1e-10      \n",
      "sib.iterate(damp=0.5): 0/400 0.000e+00/1e-10      \n",
      "sib.iterate(damp=0.9): 0/400 1.182e-16/1e-10      \r"
     ]
    }
   ],
   "source": [
    "dt = 1/5\n",
    "p_sib = sibyl(N, T, G, O, 1/N, λ; dt=dt, maxit = 400, tol = 1e-10);"
   ]
  },
  {
   "cell_type": "code",
   "execution_count": 95,
   "metadata": {},
   "outputs": [
    {
     "name": "stderr",
     "output_type": "stream",
     "text": [
      "\u001b[32mProgress: 100%|█████████████████████████████████████████| Time: 0:00:05\u001b[39m\n"
     ]
    }
   ],
   "source": [
    "statsw, w = reweighted_post(Mp2, M, O; numsamples=10^5);\n"
   ]
  },
  {
   "cell_type": "code",
   "execution_count": 96,
   "metadata": {},
   "outputs": [
    {
     "data": {
      "text/plain": [
       "histow (generic function with 1 method)"
      ]
     },
     "execution_count": 96,
     "metadata": {},
     "output_type": "execute_result"
    }
   ],
   "source": [
    "function histo(v; bins=20, up=1.0)\n",
    "    h = zeros(bins+1)\n",
    "    z = length(v)\n",
    "    for x in v\n",
    "        h[floor(Int, x*bins/up)+1]+=1/z\n",
    "    end\n",
    "    h\n",
    "end\n",
    "\n",
    "function histow(v, weights; bins=20, up=1.0)\n",
    "    h = zeros(bins+1)\n",
    "    for (x,w) in zip(v,weights)\n",
    "        h[floor(Int, x*bins/up)+1]+=w\n",
    "    end\n",
    "    h\n",
    "end"
   ]
  },
  {
   "cell_type": "markdown",
   "metadata": {},
   "source": [
    "## Marginals and ROC curve"
   ]
  },
  {
   "cell_type": "code",
   "execution_count": 97,
   "metadata": {},
   "outputs": [
    {
     "data": {
      "text/plain": [
       "AUROC (generic function with 1 method)"
      ]
     },
     "execution_count": 97,
     "metadata": {},
     "output_type": "execute_result"
    }
   ],
   "source": [
    "function marginal(i, t, stats)\n",
    "    numsamp = size(stats,1)\n",
    "    sum(stats[:,i] .< t)/numsamp\n",
    "end\n",
    "\n",
    "function marginalweight(i, t, stats, weight)\n",
    "    sum((stats[:,i] .< t) .* weight)\n",
    "end\n",
    "\n",
    "function tpr(xtrue, rank) \n",
    "    cumsum(xtrue[rank]) ./( cumsum(xtrue[rank])[end])\n",
    "end\n",
    "\n",
    "function fpr(xtrue, rank) \n",
    "    N = size(rank,1)\n",
    "    return (range(1,N,length=N) .- cumsum(xtrue[rank])) ./ (range(1,N,length=N) .- cumsum(xtrue[rank]) )[end]\n",
    "end\n",
    "\n",
    "function ROC(xtrue, p)\n",
    "    N = size(xtrue,1)\n",
    "    rank = sortperm(p, rev=true)\n",
    "    \n",
    "    return fpr(xtrue, rank) , tpr(xtrue, rank)\n",
    "end\n",
    "\n",
    "function AUROC(ROC)\n",
    "    N = size(ROC[1],1) \n",
    "    AU = 0\n",
    "    for t = 1:N-1\n",
    "        AU += ROC[2][t] * (ROC[1][t+1] - ROC[1][t])\n",
    "    end\n",
    "    return AU\n",
    "end"
   ]
  },
  {
   "cell_type": "code",
   "execution_count": 98,
   "metadata": {},
   "outputs": [
    {
     "data": {
      "image/svg+xml": [
       "<?xml version=\"1.0\" encoding=\"utf-8\"?>\n",
       "<svg xmlns=\"http://www.w3.org/2000/svg\" xmlns:xlink=\"http://www.w3.org/1999/xlink\" width=\"600\" height=\"400\" viewBox=\"0 0 2400 1600\">\n",
       "<defs>\n",
       "  <clipPath id=\"clip720\">\n",
       "    <rect x=\"0\" y=\"0\" width=\"2400\" height=\"1600\"/>\n",
       "  </clipPath>\n",
       "</defs>\n",
       "<path clip-path=\"url(#clip720)\" d=\"\n",
       "M0 1600 L2400 1600 L2400 0 L0 0  Z\n",
       "  \" fill=\"#ffffff\" fill-rule=\"evenodd\" fill-opacity=\"1\"/>\n",
       "<defs>\n",
       "  <clipPath id=\"clip721\">\n",
       "    <rect x=\"480\" y=\"0\" width=\"1681\" height=\"1600\"/>\n",
       "  </clipPath>\n",
       "</defs>\n",
       "<path clip-path=\"url(#clip720)\" d=\"\n",
       "M156.598 1486.45 L2352.76 1486.45 L2352.76 47.2441 L156.598 47.2441  Z\n",
       "  \" fill=\"#ffffff\" fill-rule=\"evenodd\" fill-opacity=\"1\"/>\n",
       "<defs>\n",
       "  <clipPath id=\"clip722\">\n",
       "    <rect x=\"156\" y=\"47\" width=\"2197\" height=\"1440\"/>\n",
       "  </clipPath>\n",
       "</defs>\n",
       "<polyline clip-path=\"url(#clip722)\" style=\"stroke:#000000; stroke-linecap:butt; stroke-linejoin:round; stroke-width:2; stroke-opacity:0.1; fill:none\" points=\"\n",
       "  654.932,1486.45 654.932,47.2441 \n",
       "  \"/>\n",
       "<polyline clip-path=\"url(#clip722)\" style=\"stroke:#000000; stroke-linecap:butt; stroke-linejoin:round; stroke-width:2; stroke-opacity:0.1; fill:none\" points=\"\n",
       "  1200.15,1486.45 1200.15,47.2441 \n",
       "  \"/>\n",
       "<polyline clip-path=\"url(#clip722)\" style=\"stroke:#000000; stroke-linecap:butt; stroke-linejoin:round; stroke-width:2; stroke-opacity:0.1; fill:none\" points=\"\n",
       "  1745.38,1486.45 1745.38,47.2441 \n",
       "  \"/>\n",
       "<polyline clip-path=\"url(#clip722)\" style=\"stroke:#000000; stroke-linecap:butt; stroke-linejoin:round; stroke-width:2; stroke-opacity:0.1; fill:none\" points=\"\n",
       "  2290.6,1486.45 2290.6,47.2441 \n",
       "  \"/>\n",
       "<polyline clip-path=\"url(#clip720)\" style=\"stroke:#000000; stroke-linecap:butt; stroke-linejoin:round; stroke-width:4; stroke-opacity:1; fill:none\" points=\"\n",
       "  156.598,1486.45 2352.76,1486.45 \n",
       "  \"/>\n",
       "<polyline clip-path=\"url(#clip720)\" style=\"stroke:#000000; stroke-linecap:butt; stroke-linejoin:round; stroke-width:4; stroke-opacity:1; fill:none\" points=\"\n",
       "  654.932,1486.45 654.932,1467.55 \n",
       "  \"/>\n",
       "<polyline clip-path=\"url(#clip720)\" style=\"stroke:#000000; stroke-linecap:butt; stroke-linejoin:round; stroke-width:4; stroke-opacity:1; fill:none\" points=\"\n",
       "  1200.15,1486.45 1200.15,1467.55 \n",
       "  \"/>\n",
       "<polyline clip-path=\"url(#clip720)\" style=\"stroke:#000000; stroke-linecap:butt; stroke-linejoin:round; stroke-width:4; stroke-opacity:1; fill:none\" points=\"\n",
       "  1745.38,1486.45 1745.38,1467.55 \n",
       "  \"/>\n",
       "<polyline clip-path=\"url(#clip720)\" style=\"stroke:#000000; stroke-linecap:butt; stroke-linejoin:round; stroke-width:4; stroke-opacity:1; fill:none\" points=\"\n",
       "  2290.6,1486.45 2290.6,1467.55 \n",
       "  \"/>\n",
       "<path clip-path=\"url(#clip720)\" d=\"M645.21 1514.29 L663.566 1514.29 L663.566 1518.22 L649.492 1518.22 L649.492 1526.7 Q650.511 1526.35 651.529 1526.19 Q652.548 1526 653.566 1526 Q659.353 1526 662.733 1529.17 Q666.112 1532.34 666.112 1537.76 Q666.112 1543.34 662.64 1546.44 Q659.168 1549.52 652.849 1549.52 Q650.673 1549.52 648.404 1549.15 Q646.159 1548.78 643.751 1548.04 L643.751 1543.34 Q645.835 1544.47 648.057 1545.03 Q650.279 1545.58 652.756 1545.58 Q656.761 1545.58 659.099 1543.48 Q661.437 1541.37 661.437 1537.76 Q661.437 1534.15 659.099 1532.04 Q656.761 1529.94 652.756 1529.94 Q650.881 1529.94 649.006 1530.35 Q647.154 1530.77 645.21 1531.65 L645.21 1514.29 Z\" fill=\"#000000\" fill-rule=\"evenodd\" fill-opacity=\"1\" /><path clip-path=\"url(#clip720)\" d=\"M1174.84 1544.91 L1182.48 1544.91 L1182.48 1518.55 L1174.17 1520.21 L1174.17 1515.95 L1182.43 1514.29 L1187.11 1514.29 L1187.11 1544.91 L1194.75 1544.91 L1194.75 1548.85 L1174.84 1548.85 L1174.84 1544.91 Z\" fill=\"#000000\" fill-rule=\"evenodd\" fill-opacity=\"1\" /><path clip-path=\"url(#clip720)\" d=\"M1214.19 1517.37 Q1210.58 1517.37 1208.75 1520.93 Q1206.95 1524.47 1206.95 1531.6 Q1206.95 1538.71 1208.75 1542.27 Q1210.58 1545.82 1214.19 1545.82 Q1217.83 1545.82 1219.63 1542.27 Q1221.46 1538.71 1221.46 1531.6 Q1221.46 1524.47 1219.63 1520.93 Q1217.83 1517.37 1214.19 1517.37 M1214.19 1513.66 Q1220 1513.66 1223.06 1518.27 Q1226.14 1522.85 1226.14 1531.6 Q1226.14 1540.33 1223.06 1544.94 Q1220 1549.52 1214.19 1549.52 Q1208.38 1549.52 1205.31 1544.94 Q1202.25 1540.33 1202.25 1531.6 Q1202.25 1522.85 1205.31 1518.27 Q1208.38 1513.66 1214.19 1513.66 Z\" fill=\"#000000\" fill-rule=\"evenodd\" fill-opacity=\"1\" /><path clip-path=\"url(#clip720)\" d=\"M1720.56 1544.91 L1728.2 1544.91 L1728.2 1518.55 L1719.89 1520.21 L1719.89 1515.95 L1728.16 1514.29 L1732.83 1514.29 L1732.83 1544.91 L1740.47 1544.91 L1740.47 1548.85 L1720.56 1548.85 L1720.56 1544.91 Z\" fill=\"#000000\" fill-rule=\"evenodd\" fill-opacity=\"1\" /><path clip-path=\"url(#clip720)\" d=\"M1749.96 1514.29 L1768.32 1514.29 L1768.32 1518.22 L1754.24 1518.22 L1754.24 1526.7 Q1755.26 1526.35 1756.28 1526.19 Q1757.3 1526 1758.32 1526 Q1764.1 1526 1767.48 1529.17 Q1770.86 1532.34 1770.86 1537.76 Q1770.86 1543.34 1767.39 1546.44 Q1763.92 1549.52 1757.6 1549.52 Q1755.42 1549.52 1753.16 1549.15 Q1750.91 1548.78 1748.5 1548.04 L1748.5 1543.34 Q1750.59 1544.47 1752.81 1545.03 Q1755.03 1545.58 1757.51 1545.58 Q1761.51 1545.58 1763.85 1543.48 Q1766.19 1541.37 1766.19 1537.76 Q1766.19 1534.15 1763.85 1532.04 Q1761.51 1529.94 1757.51 1529.94 Q1755.63 1529.94 1753.76 1530.35 Q1751.91 1530.77 1749.96 1531.65 L1749.96 1514.29 Z\" fill=\"#000000\" fill-rule=\"evenodd\" fill-opacity=\"1\" /><path clip-path=\"url(#clip720)\" d=\"M2269.37 1544.91 L2285.69 1544.91 L2285.69 1548.85 L2263.75 1548.85 L2263.75 1544.91 Q2266.41 1542.16 2270.99 1537.53 Q2275.6 1532.88 2276.78 1531.53 Q2279.03 1529.01 2279.91 1527.27 Q2280.81 1525.51 2280.81 1523.82 Q2280.81 1521.07 2278.86 1519.33 Q2276.94 1517.6 2273.84 1517.6 Q2271.64 1517.6 2269.19 1518.36 Q2266.76 1519.13 2263.98 1520.68 L2263.98 1515.95 Q2266.8 1514.82 2269.26 1514.24 Q2271.71 1513.66 2273.75 1513.66 Q2279.12 1513.66 2282.31 1516.35 Q2285.51 1519.03 2285.51 1523.52 Q2285.51 1525.65 2284.7 1527.57 Q2283.91 1529.47 2281.8 1532.07 Q2281.23 1532.74 2278.12 1535.95 Q2275.02 1539.15 2269.37 1544.91 Z\" fill=\"#000000\" fill-rule=\"evenodd\" fill-opacity=\"1\" /><path clip-path=\"url(#clip720)\" d=\"M2305.51 1517.37 Q2301.9 1517.37 2300.07 1520.93 Q2298.26 1524.47 2298.26 1531.6 Q2298.26 1538.71 2300.07 1542.27 Q2301.9 1545.82 2305.51 1545.82 Q2309.14 1545.82 2310.95 1542.27 Q2312.78 1538.71 2312.78 1531.6 Q2312.78 1524.47 2310.95 1520.93 Q2309.14 1517.37 2305.51 1517.37 M2305.51 1513.66 Q2311.32 1513.66 2314.37 1518.27 Q2317.45 1522.85 2317.45 1531.6 Q2317.45 1540.33 2314.37 1544.94 Q2311.32 1549.52 2305.51 1549.52 Q2299.7 1549.52 2296.62 1544.94 Q2293.56 1540.33 2293.56 1531.6 Q2293.56 1522.85 2296.62 1518.27 Q2299.7 1513.66 2305.51 1513.66 Z\" fill=\"#000000\" fill-rule=\"evenodd\" fill-opacity=\"1\" /><polyline clip-path=\"url(#clip722)\" style=\"stroke:#000000; stroke-linecap:butt; stroke-linejoin:round; stroke-width:2; stroke-opacity:0.1; fill:none\" points=\"\n",
       "  156.598,1455.48 2352.76,1455.48 \n",
       "  \"/>\n",
       "<polyline clip-path=\"url(#clip722)\" style=\"stroke:#000000; stroke-linecap:butt; stroke-linejoin:round; stroke-width:2; stroke-opacity:0.1; fill:none\" points=\"\n",
       "  156.598,1162.65 2352.76,1162.65 \n",
       "  \"/>\n",
       "<polyline clip-path=\"url(#clip722)\" style=\"stroke:#000000; stroke-linecap:butt; stroke-linejoin:round; stroke-width:2; stroke-opacity:0.1; fill:none\" points=\"\n",
       "  156.598,869.82 2352.76,869.82 \n",
       "  \"/>\n",
       "<polyline clip-path=\"url(#clip722)\" style=\"stroke:#000000; stroke-linecap:butt; stroke-linejoin:round; stroke-width:2; stroke-opacity:0.1; fill:none\" points=\"\n",
       "  156.598,576.988 2352.76,576.988 \n",
       "  \"/>\n",
       "<polyline clip-path=\"url(#clip722)\" style=\"stroke:#000000; stroke-linecap:butt; stroke-linejoin:round; stroke-width:2; stroke-opacity:0.1; fill:none\" points=\"\n",
       "  156.598,284.156 2352.76,284.156 \n",
       "  \"/>\n",
       "<polyline clip-path=\"url(#clip720)\" style=\"stroke:#000000; stroke-linecap:butt; stroke-linejoin:round; stroke-width:4; stroke-opacity:1; fill:none\" points=\"\n",
       "  156.598,1486.45 156.598,47.2441 \n",
       "  \"/>\n",
       "<polyline clip-path=\"url(#clip720)\" style=\"stroke:#000000; stroke-linecap:butt; stroke-linejoin:round; stroke-width:4; stroke-opacity:1; fill:none\" points=\"\n",
       "  156.598,1455.48 175.496,1455.48 \n",
       "  \"/>\n",
       "<polyline clip-path=\"url(#clip720)\" style=\"stroke:#000000; stroke-linecap:butt; stroke-linejoin:round; stroke-width:4; stroke-opacity:1; fill:none\" points=\"\n",
       "  156.598,1162.65 175.496,1162.65 \n",
       "  \"/>\n",
       "<polyline clip-path=\"url(#clip720)\" style=\"stroke:#000000; stroke-linecap:butt; stroke-linejoin:round; stroke-width:4; stroke-opacity:1; fill:none\" points=\"\n",
       "  156.598,869.82 175.496,869.82 \n",
       "  \"/>\n",
       "<polyline clip-path=\"url(#clip720)\" style=\"stroke:#000000; stroke-linecap:butt; stroke-linejoin:round; stroke-width:4; stroke-opacity:1; fill:none\" points=\"\n",
       "  156.598,576.988 175.496,576.988 \n",
       "  \"/>\n",
       "<polyline clip-path=\"url(#clip720)\" style=\"stroke:#000000; stroke-linecap:butt; stroke-linejoin:round; stroke-width:4; stroke-opacity:1; fill:none\" points=\"\n",
       "  156.598,284.156 175.496,284.156 \n",
       "  \"/>\n",
       "<path clip-path=\"url(#clip720)\" d=\"M63.4226 1441.28 Q59.8115 1441.28 57.9828 1444.85 Q56.1773 1448.39 56.1773 1455.52 Q56.1773 1462.63 57.9828 1466.19 Q59.8115 1469.73 63.4226 1469.73 Q67.0569 1469.73 68.8624 1466.19 Q70.6911 1462.63 70.6911 1455.52 Q70.6911 1448.39 68.8624 1444.85 Q67.0569 1441.28 63.4226 1441.28 M63.4226 1437.58 Q69.2328 1437.58 72.2883 1442.19 Q75.367 1446.77 75.367 1455.52 Q75.367 1464.25 72.2883 1468.85 Q69.2328 1473.44 63.4226 1473.44 Q57.6125 1473.44 54.5338 1468.85 Q51.4782 1464.25 51.4782 1455.52 Q51.4782 1446.77 54.5338 1442.19 Q57.6125 1437.58 63.4226 1437.58 Z\" fill=\"#000000\" fill-rule=\"evenodd\" fill-opacity=\"1\" /><path clip-path=\"url(#clip720)\" d=\"M83.5845 1466.89 L88.4688 1466.89 L88.4688 1472.76 L83.5845 1472.76 L83.5845 1466.89 Z\" fill=\"#000000\" fill-rule=\"evenodd\" fill-opacity=\"1\" /><path clip-path=\"url(#clip720)\" d=\"M108.654 1441.28 Q105.043 1441.28 103.214 1444.85 Q101.409 1448.39 101.409 1455.52 Q101.409 1462.63 103.214 1466.19 Q105.043 1469.73 108.654 1469.73 Q112.288 1469.73 114.094 1466.19 Q115.922 1462.63 115.922 1455.52 Q115.922 1448.39 114.094 1444.85 Q112.288 1441.28 108.654 1441.28 M108.654 1437.58 Q114.464 1437.58 117.52 1442.19 Q120.598 1446.77 120.598 1455.52 Q120.598 1464.25 117.52 1468.85 Q114.464 1473.44 108.654 1473.44 Q102.844 1473.44 99.765 1468.85 Q96.7095 1464.25 96.7095 1455.52 Q96.7095 1446.77 99.765 1442.19 Q102.844 1437.58 108.654 1437.58 Z\" fill=\"#000000\" fill-rule=\"evenodd\" fill-opacity=\"1\" /><path clip-path=\"url(#clip720)\" d=\"M65.0198 1148.45 Q61.4087 1148.45 59.58 1152.02 Q57.7745 1155.56 57.7745 1162.69 Q57.7745 1169.79 59.58 1173.36 Q61.4087 1176.9 65.0198 1176.9 Q68.6541 1176.9 70.4596 1173.36 Q72.2883 1169.79 72.2883 1162.69 Q72.2883 1155.56 70.4596 1152.02 Q68.6541 1148.45 65.0198 1148.45 M65.0198 1144.75 Q70.83 1144.75 73.8855 1149.35 Q76.9642 1153.94 76.9642 1162.69 Q76.9642 1171.41 73.8855 1176.02 Q70.83 1180.6 65.0198 1180.6 Q59.2097 1180.6 56.131 1176.02 Q53.0754 1171.41 53.0754 1162.69 Q53.0754 1153.94 56.131 1149.35 Q59.2097 1144.75 65.0198 1144.75 Z\" fill=\"#000000\" fill-rule=\"evenodd\" fill-opacity=\"1\" /><path clip-path=\"url(#clip720)\" d=\"M85.1818 1174.05 L90.066 1174.05 L90.066 1179.93 L85.1818 1179.93 L85.1818 1174.05 Z\" fill=\"#000000\" fill-rule=\"evenodd\" fill-opacity=\"1\" /><path clip-path=\"url(#clip720)\" d=\"M104.279 1176 L120.598 1176 L120.598 1179.93 L98.6539 1179.93 L98.6539 1176 Q101.316 1173.24 105.899 1168.61 Q110.506 1163.96 111.686 1162.62 Q113.932 1160.09 114.811 1158.36 Q115.714 1156.6 115.714 1154.91 Q115.714 1152.15 113.77 1150.42 Q111.848 1148.68 108.746 1148.68 Q106.547 1148.68 104.094 1149.45 Q101.663 1150.21 98.8854 1151.76 L98.8854 1147.04 Q101.709 1145.9 104.163 1145.33 Q106.617 1144.75 108.654 1144.75 Q114.024 1144.75 117.219 1147.43 Q120.413 1150.12 120.413 1154.61 Q120.413 1156.74 119.603 1158.66 Q118.816 1160.56 116.709 1163.15 Q116.131 1163.82 113.029 1167.04 Q109.927 1170.23 104.279 1176 Z\" fill=\"#000000\" fill-rule=\"evenodd\" fill-opacity=\"1\" /><path clip-path=\"url(#clip720)\" d=\"M62.9365 855.619 Q59.3254 855.619 57.4967 859.184 Q55.6912 862.725 55.6912 869.855 Q55.6912 876.961 57.4967 880.526 Q59.3254 884.068 62.9365 884.068 Q66.5707 884.068 68.3763 880.526 Q70.205 876.961 70.205 869.855 Q70.205 862.725 68.3763 859.184 Q66.5707 855.619 62.9365 855.619 M62.9365 851.915 Q68.7467 851.915 71.8022 856.522 Q74.8809 861.105 74.8809 869.855 Q74.8809 878.582 71.8022 883.188 Q68.7467 887.771 62.9365 887.771 Q57.1264 887.771 54.0477 883.188 Q50.9921 878.582 50.9921 869.855 Q50.9921 861.105 54.0477 856.522 Q57.1264 851.915 62.9365 851.915 Z\" fill=\"#000000\" fill-rule=\"evenodd\" fill-opacity=\"1\" /><path clip-path=\"url(#clip720)\" d=\"M83.0984 881.221 L87.9827 881.221 L87.9827 887.1 L83.0984 887.1 L83.0984 881.221 Z\" fill=\"#000000\" fill-rule=\"evenodd\" fill-opacity=\"1\" /><path clip-path=\"url(#clip720)\" d=\"M111.015 856.614 L99.2095 875.063 L111.015 875.063 L111.015 856.614 M109.788 852.54 L115.668 852.54 L115.668 875.063 L120.598 875.063 L120.598 878.952 L115.668 878.952 L115.668 887.1 L111.015 887.1 L111.015 878.952 L95.4132 878.952 L95.4132 874.438 L109.788 852.54 Z\" fill=\"#000000\" fill-rule=\"evenodd\" fill-opacity=\"1\" /><path clip-path=\"url(#clip720)\" d=\"M63.2606 562.787 Q59.6495 562.787 57.8208 566.351 Q56.0152 569.893 56.0152 577.023 Q56.0152 584.129 57.8208 587.694 Q59.6495 591.235 63.2606 591.235 Q66.8948 591.235 68.7004 587.694 Q70.5291 584.129 70.5291 577.023 Q70.5291 569.893 68.7004 566.351 Q66.8948 562.787 63.2606 562.787 M63.2606 559.083 Q69.0707 559.083 72.1263 563.689 Q75.205 568.273 75.205 577.023 Q75.205 585.749 72.1263 590.356 Q69.0707 594.939 63.2606 594.939 Q57.4504 594.939 54.3717 590.356 Q51.3162 585.749 51.3162 577.023 Q51.3162 568.273 54.3717 563.689 Q57.4504 559.083 63.2606 559.083 Z\" fill=\"#000000\" fill-rule=\"evenodd\" fill-opacity=\"1\" /><path clip-path=\"url(#clip720)\" d=\"M83.4225 588.388 L88.3067 588.388 L88.3067 594.268 L83.4225 594.268 L83.4225 588.388 Z\" fill=\"#000000\" fill-rule=\"evenodd\" fill-opacity=\"1\" /><path clip-path=\"url(#clip720)\" d=\"M109.071 575.124 Q105.922 575.124 104.071 577.277 Q102.242 579.43 102.242 583.18 Q102.242 586.907 104.071 589.083 Q105.922 591.235 109.071 591.235 Q112.219 591.235 114.047 589.083 Q115.899 586.907 115.899 583.18 Q115.899 579.43 114.047 577.277 Q112.219 575.124 109.071 575.124 M118.353 560.472 L118.353 564.731 Q116.594 563.898 114.788 563.458 Q113.006 563.018 111.246 563.018 Q106.617 563.018 104.163 566.143 Q101.733 569.268 101.385 575.587 Q102.751 573.574 104.811 572.509 Q106.871 571.421 109.348 571.421 Q114.557 571.421 117.566 574.592 Q120.598 577.74 120.598 583.18 Q120.598 588.504 117.45 591.722 Q114.302 594.939 109.071 594.939 Q103.075 594.939 99.9039 590.356 Q96.7326 585.749 96.7326 577.023 Q96.7326 568.828 100.621 563.967 Q104.51 559.083 111.061 559.083 Q112.82 559.083 114.603 559.43 Q116.408 559.777 118.353 560.472 Z\" fill=\"#000000\" fill-rule=\"evenodd\" fill-opacity=\"1\" /><path clip-path=\"url(#clip720)\" d=\"M63.5152 269.954 Q59.9041 269.954 58.0754 273.519 Q56.2699 277.061 56.2699 284.19 Q56.2699 291.297 58.0754 294.862 Q59.9041 298.403 63.5152 298.403 Q67.1494 298.403 68.955 294.862 Q70.7837 291.297 70.7837 284.19 Q70.7837 277.061 68.955 273.519 Q67.1494 269.954 63.5152 269.954 M63.5152 266.251 Q69.3254 266.251 72.3809 270.857 Q75.4596 275.44 75.4596 284.19 Q75.4596 292.917 72.3809 297.524 Q69.3254 302.107 63.5152 302.107 Q57.7051 302.107 54.6264 297.524 Q51.5708 292.917 51.5708 284.19 Q51.5708 275.44 54.6264 270.857 Q57.7051 266.251 63.5152 266.251 Z\" fill=\"#000000\" fill-rule=\"evenodd\" fill-opacity=\"1\" /><path clip-path=\"url(#clip720)\" d=\"M83.6771 295.556 L88.5614 295.556 L88.5614 301.436 L83.6771 301.436 L83.6771 295.556 Z\" fill=\"#000000\" fill-rule=\"evenodd\" fill-opacity=\"1\" /><path clip-path=\"url(#clip720)\" d=\"M108.746 285.024 Q105.413 285.024 103.492 286.806 Q101.594 288.588 101.594 291.713 Q101.594 294.838 103.492 296.621 Q105.413 298.403 108.746 298.403 Q112.08 298.403 114.001 296.621 Q115.922 294.815 115.922 291.713 Q115.922 288.588 114.001 286.806 Q112.103 285.024 108.746 285.024 M104.071 283.033 Q101.061 282.292 99.3715 280.232 Q97.7048 278.172 97.7048 275.209 Q97.7048 271.065 100.645 268.658 Q103.608 266.251 108.746 266.251 Q113.908 266.251 116.848 268.658 Q119.788 271.065 119.788 275.209 Q119.788 278.172 118.098 280.232 Q116.432 282.292 113.445 283.033 Q116.825 283.82 118.7 286.112 Q120.598 288.403 120.598 291.713 Q120.598 296.737 117.52 299.422 Q114.464 302.107 108.746 302.107 Q103.029 302.107 99.9502 299.422 Q96.8947 296.737 96.8947 291.713 Q96.8947 288.403 98.7928 286.112 Q100.691 283.82 104.071 283.033 M102.358 275.649 Q102.358 278.334 104.024 279.838 Q105.714 281.343 108.746 281.343 Q111.756 281.343 113.445 279.838 Q115.158 278.334 115.158 275.649 Q115.158 272.964 113.445 271.459 Q111.756 269.954 108.746 269.954 Q105.714 269.954 104.024 271.459 Q102.358 272.964 102.358 275.649 Z\" fill=\"#000000\" fill-rule=\"evenodd\" fill-opacity=\"1\" /><polyline clip-path=\"url(#clip722)\" style=\"stroke:#009af9; stroke-linecap:butt; stroke-linejoin:round; stroke-width:4; stroke-opacity:1; fill:none\" points=\"\n",
       "  218.754,1445.09 327.798,1439.82 436.843,1433.96 545.887,1426.35 654.932,1416.39 763.976,1404.39 873.021,1386.38 982.066,1352.41 1091.11,1287.4 1200.15,1188.86 \n",
       "  1309.2,1057.53 1418.24,902.471 1527.29,751.369 1636.33,597.779 1745.38,464.247 1854.42,355.46 1963.47,269.807 2072.51,197.77 2181.56,140.961 2290.6,98.3535 \n",
       "  \n",
       "  \"/>\n",
       "<polyline clip-path=\"url(#clip722)\" style=\"stroke:#e26f46; stroke-linecap:butt; stroke-linejoin:round; stroke-width:4; stroke-opacity:1; fill:none\" points=\"\n",
       "  218.754,1445.72 327.798,1439.33 436.843,1436.76 545.887,1427.29 654.932,1423.31 763.976,1416.96 873.021,1401.96 982.066,1371.66 1091.11,1329.4 1200.15,1283.3 \n",
       "  1309.2,1180.85 1418.24,1081.18 1527.29,866.296 1636.33,662.35 1745.38,504.018 1854.42,390.276 1963.47,285.554 2072.51,199.403 2181.56,139.664 2290.6,87.9763 \n",
       "  \n",
       "  \"/>\n",
       "<polyline clip-path=\"url(#clip722)\" style=\"stroke:#3da44d; stroke-linecap:butt; stroke-linejoin:round; stroke-width:4; stroke-opacity:1; fill:none\" points=\"\n",
       "  218.754,1444.17 239.681,1443.55 260.609,1442.97 281.537,1442.43 302.465,1441.93 323.392,1441.46 344.32,1441.02 365.248,1440.61 386.176,1440.22 407.103,1439.86 \n",
       "  428.031,1439.53 448.959,1439.21 469.887,1438.91 490.814,1438.63 511.742,1438.36 532.67,1438.1 553.598,1437.84 574.525,1437.59 595.453,1437.34 616.381,1437.09 \n",
       "  637.309,1436.82 658.236,1436.54 679.164,1436.24 700.092,1435.92 721.02,1435.56 741.947,1435.15 762.875,1434.69 783.803,1434.17 804.731,1433.56 825.658,1432.86 \n",
       "  846.586,1432.04 867.514,1431.08 888.442,1429.96 909.369,1428.66 930.297,1427.13 951.225,1425.34 972.152,1423.25 993.08,1420.82 1014.01,1417.99 1034.94,1414.7 \n",
       "  1055.86,1410.88 1076.79,1406.46 1097.72,1401.37 1118.65,1395.51 1139.57,1388.79 1160.5,1381.12 1181.43,1372.37 1202.36,1362.45 1223.29,1351.23 1244.21,1338.62 \n",
       "  1265.14,1324.49 1286.07,1308.75 1307,1291.3 1327.92,1272.06 1348.85,1250.98 1369.78,1228.02 1390.71,1203.18 1411.64,1176.51 1432.56,1148.07 1453.49,1117.98 \n",
       "  1474.42,1086.41 1495.35,1053.54 1516.27,1019.59 1537.2,984.767 1558.13,949.295 1579.06,913.384 1599.98,877.235 1620.91,841.04 1641.84,804.975 1662.77,769.2 \n",
       "  1683.7,733.861 1704.62,699.087 1725.55,664.99 1746.48,631.669 1767.41,599.205 1788.33,567.667 1809.26,537.112 1830.19,507.582 1851.12,479.11 1872.05,451.719 \n",
       "  1892.97,425.423 1913.9,400.227 1934.83,376.129 1955.76,353.122 1976.68,331.193 1997.61,310.323 2018.54,290.492 2039.47,271.673 2060.4,253.839 2081.32,236.959 \n",
       "  2102.25,221.003 2123.18,205.937 2144.11,191.727 2165.03,178.338 2185.96,165.736 2206.89,153.886 2227.82,142.753 2248.75,132.304 2269.67,122.505 2290.6,113.322 \n",
       "  \n",
       "  \"/>\n",
       "<path clip-path=\"url(#clip720)\" d=\"\n",
       "M1878.82 302.578 L2279.55 302.578 L2279.55 95.2176 L1878.82 95.2176  Z\n",
       "  \" fill=\"#ffffff\" fill-rule=\"evenodd\" fill-opacity=\"1\"/>\n",
       "<polyline clip-path=\"url(#clip720)\" style=\"stroke:#000000; stroke-linecap:butt; stroke-linejoin:round; stroke-width:4; stroke-opacity:1; fill:none\" points=\"\n",
       "  1878.82,302.578 2279.55,302.578 2279.55,95.2176 1878.82,95.2176 1878.82,302.578 \n",
       "  \"/>\n",
       "<polyline clip-path=\"url(#clip720)\" style=\"stroke:#009af9; stroke-linecap:butt; stroke-linejoin:round; stroke-width:4; stroke-opacity:1; fill:none\" points=\"\n",
       "  1903.22,147.058 2049.63,147.058 \n",
       "  \"/>\n",
       "<path clip-path=\"url(#clip720)\" d=\"M2094.54 139.407 L2094.54 143.389 Q2092.74 142.393 2090.91 141.907 Q2089.1 141.398 2087.25 141.398 Q2083.11 141.398 2080.82 144.037 Q2078.53 146.652 2078.53 151.398 Q2078.53 156.143 2080.82 158.782 Q2083.11 161.398 2087.25 161.398 Q2089.1 161.398 2090.91 160.912 Q2092.74 160.402 2094.54 159.407 L2094.54 163.342 Q2092.76 164.176 2090.84 164.592 Q2088.94 165.009 2086.79 165.009 Q2080.93 165.009 2077.48 161.328 Q2074.04 157.648 2074.04 151.398 Q2074.04 145.055 2077.51 141.421 Q2081 137.787 2087.07 137.787 Q2089.03 137.787 2090.91 138.203 Q2092.78 138.597 2094.54 139.407 Z\" fill=\"#000000\" fill-rule=\"evenodd\" fill-opacity=\"1\" /><path clip-path=\"url(#clip720)\" d=\"M2113.73 151.305 Q2108.57 151.305 2106.58 152.486 Q2104.59 153.666 2104.59 156.514 Q2104.59 158.782 2106.07 160.125 Q2107.58 161.444 2110.15 161.444 Q2113.69 161.444 2115.82 158.944 Q2117.97 156.421 2117.97 152.254 L2117.97 151.305 L2113.73 151.305 M2122.23 149.546 L2122.23 164.338 L2117.97 164.338 L2117.97 160.402 Q2116.51 162.763 2114.34 163.898 Q2112.16 165.009 2109.01 165.009 Q2105.03 165.009 2102.67 162.787 Q2100.33 160.541 2100.33 156.791 Q2100.33 152.416 2103.25 150.194 Q2106.19 147.972 2112 147.972 L2117.97 147.972 L2117.97 147.555 Q2117.97 144.615 2116.03 143.018 Q2114.1 141.398 2110.61 141.398 Q2108.39 141.398 2106.28 141.93 Q2104.17 142.463 2102.23 143.527 L2102.23 139.592 Q2104.57 138.69 2106.77 138.25 Q2108.97 137.787 2111.05 137.787 Q2116.67 137.787 2119.45 140.703 Q2122.23 143.62 2122.23 149.546 Z\" fill=\"#000000\" fill-rule=\"evenodd\" fill-opacity=\"1\" /><path clip-path=\"url(#clip720)\" d=\"M2130.56 154.106 L2130.56 138.412 L2134.82 138.412 L2134.82 153.944 Q2134.82 157.625 2136.26 159.476 Q2137.69 161.305 2140.56 161.305 Q2144.01 161.305 2146 159.106 Q2148.02 156.907 2148.02 153.111 L2148.02 138.412 L2152.28 138.412 L2152.28 164.338 L2148.02 164.338 L2148.02 160.356 Q2146.47 162.717 2144.41 163.875 Q2142.37 165.009 2139.66 165.009 Q2135.19 165.009 2132.88 162.231 Q2130.56 159.453 2130.56 154.106 M2141.28 137.787 L2141.28 137.787 Z\" fill=\"#000000\" fill-rule=\"evenodd\" fill-opacity=\"1\" /><polyline clip-path=\"url(#clip720)\" style=\"stroke:#e26f46; stroke-linecap:butt; stroke-linejoin:round; stroke-width:4; stroke-opacity:1; fill:none\" points=\"\n",
       "  1903.22,198.898 2049.63,198.898 \n",
       "  \"/>\n",
       "<path clip-path=\"url(#clip720)\" d=\"M2074.04 190.252 L2078.29 190.252 L2083.62 210.483 L2088.92 190.252 L2093.94 190.252 L2099.27 210.483 L2104.57 190.252 L2108.83 190.252 L2102.04 216.178 L2097.02 216.178 L2091.44 194.928 L2085.84 216.178 L2080.82 216.178 L2074.04 190.252 Z\" fill=\"#000000\" fill-rule=\"evenodd\" fill-opacity=\"1\" /><path clip-path=\"url(#clip720)\" d=\"M2137.46 202.15 L2137.46 204.233 L2117.88 204.233 Q2118.16 208.631 2120.52 210.946 Q2122.9 213.238 2127.14 213.238 Q2129.59 213.238 2131.88 212.636 Q2134.2 212.034 2136.47 210.83 L2136.47 214.858 Q2134.17 215.83 2131.77 216.34 Q2129.36 216.849 2126.88 216.849 Q2120.68 216.849 2117.04 213.238 Q2113.43 209.627 2113.43 203.469 Q2113.43 197.104 2116.86 193.377 Q2120.31 189.627 2126.14 189.627 Q2131.37 189.627 2134.41 193.006 Q2137.46 196.363 2137.46 202.15 M2133.2 200.9 Q2133.16 197.405 2131.23 195.321 Q2129.34 193.238 2126.19 193.238 Q2122.62 193.238 2120.47 195.252 Q2118.34 197.266 2118.02 200.923 L2133.2 200.9 Z\" fill=\"#000000\" fill-rule=\"evenodd\" fill-opacity=\"1\" /><path clip-path=\"url(#clip720)\" d=\"M2144.45 190.252 L2148.71 190.252 L2148.71 216.178 L2144.45 216.178 L2144.45 190.252 M2144.45 180.159 L2148.71 180.159 L2148.71 185.553 L2144.45 185.553 L2144.45 180.159 Z\" fill=\"#000000\" fill-rule=\"evenodd\" fill-opacity=\"1\" /><path clip-path=\"url(#clip720)\" d=\"M2174.68 202.914 Q2174.68 198.284 2172.76 195.738 Q2170.86 193.192 2167.41 193.192 Q2163.99 193.192 2162.07 195.738 Q2160.17 198.284 2160.17 202.914 Q2160.17 207.52 2162.07 210.066 Q2163.99 212.613 2167.41 212.613 Q2170.86 212.613 2172.76 210.066 Q2174.68 207.52 2174.68 202.914 M2178.94 212.96 Q2178.94 219.58 2176 222.798 Q2173.06 226.039 2167 226.039 Q2164.75 226.039 2162.76 225.691 Q2160.77 225.367 2158.9 224.673 L2158.9 220.529 Q2160.77 221.548 2162.6 222.034 Q2164.43 222.52 2166.33 222.52 Q2170.52 222.52 2172.6 220.321 Q2174.68 218.145 2174.68 213.724 L2174.68 211.617 Q2173.36 213.909 2171.3 215.043 Q2169.24 216.178 2166.37 216.178 Q2161.6 216.178 2158.69 212.543 Q2155.77 208.909 2155.77 202.914 Q2155.77 196.895 2158.69 193.261 Q2161.6 189.627 2166.37 189.627 Q2169.24 189.627 2171.3 190.761 Q2173.36 191.895 2174.68 194.187 L2174.68 190.252 L2178.94 190.252 L2178.94 212.96 Z\" fill=\"#000000\" fill-rule=\"evenodd\" fill-opacity=\"1\" /><path clip-path=\"url(#clip720)\" d=\"M2209.27 200.529 L2209.27 216.178 L2205.01 216.178 L2205.01 200.668 Q2205.01 196.988 2203.57 195.159 Q2202.14 193.33 2199.27 193.33 Q2195.82 193.33 2193.83 195.53 Q2191.84 197.729 2191.84 201.525 L2191.84 216.178 L2187.55 216.178 L2187.55 180.159 L2191.84 180.159 L2191.84 194.28 Q2193.36 191.942 2195.42 190.784 Q2197.51 189.627 2200.21 189.627 Q2204.68 189.627 2206.97 192.405 Q2209.27 195.159 2209.27 200.529 Z\" fill=\"#000000\" fill-rule=\"evenodd\" fill-opacity=\"1\" /><path clip-path=\"url(#clip720)\" d=\"M2221.97 182.891 L2221.97 190.252 L2230.75 190.252 L2230.75 193.562 L2221.97 193.562 L2221.97 207.636 Q2221.97 210.807 2222.83 211.71 Q2223.71 212.613 2226.37 212.613 L2230.75 212.613 L2230.75 216.178 L2226.37 216.178 Q2221.44 216.178 2219.57 214.349 Q2217.69 212.497 2217.69 207.636 L2217.69 193.562 L2214.57 193.562 L2214.57 190.252 L2217.69 190.252 L2217.69 182.891 L2221.97 182.891 Z\" fill=\"#000000\" fill-rule=\"evenodd\" fill-opacity=\"1\" /><polyline clip-path=\"url(#clip720)\" style=\"stroke:#3da44d; stroke-linecap:butt; stroke-linejoin:round; stroke-width:4; stroke-opacity:1; fill:none\" points=\"\n",
       "  1903.22,250.738 2049.63,250.738 \n",
       "  \"/>\n",
       "<path clip-path=\"url(#clip720)\" d=\"M2092.46 242.856 L2092.46 246.883 Q2090.66 245.957 2088.71 245.495 Q2086.77 245.032 2084.68 245.032 Q2081.51 245.032 2079.91 246.004 Q2078.34 246.976 2078.34 248.92 Q2078.34 250.402 2079.47 251.258 Q2080.61 252.092 2084.03 252.856 L2085.49 253.18 Q2090.03 254.152 2091.93 255.934 Q2093.85 257.694 2093.85 260.865 Q2093.85 264.476 2090.98 266.582 Q2088.13 268.689 2083.13 268.689 Q2081.05 268.689 2078.78 268.272 Q2076.54 267.879 2074.04 267.068 L2074.04 262.67 Q2076.4 263.897 2078.69 264.522 Q2080.98 265.124 2083.22 265.124 Q2086.23 265.124 2087.85 264.106 Q2089.47 263.064 2089.47 261.189 Q2089.47 259.453 2088.29 258.527 Q2087.14 257.601 2083.18 256.744 L2081.7 256.397 Q2077.74 255.564 2075.98 253.851 Q2074.22 252.115 2074.22 249.106 Q2074.22 245.448 2076.81 243.458 Q2079.41 241.467 2084.17 241.467 Q2086.53 241.467 2088.62 241.814 Q2090.7 242.161 2092.46 242.856 Z\" fill=\"#000000\" fill-rule=\"evenodd\" fill-opacity=\"1\" /><path clip-path=\"url(#clip720)\" d=\"M2100.63 242.092 L2104.89 242.092 L2104.89 268.018 L2100.63 268.018 L2100.63 242.092 M2100.63 231.999 L2104.89 231.999 L2104.89 237.393 L2100.63 237.393 L2100.63 231.999 Z\" fill=\"#000000\" fill-rule=\"evenodd\" fill-opacity=\"1\" /><path clip-path=\"url(#clip720)\" d=\"M2132.41 255.078 Q2132.41 250.379 2130.47 247.717 Q2128.55 245.032 2125.17 245.032 Q2121.79 245.032 2119.84 247.717 Q2117.92 250.379 2117.92 255.078 Q2117.92 259.777 2119.84 262.462 Q2121.79 265.124 2125.17 265.124 Q2128.55 265.124 2130.47 262.462 Q2132.41 259.777 2132.41 255.078 M2117.92 246.027 Q2119.27 243.712 2121.3 242.601 Q2123.36 241.467 2126.21 241.467 Q2130.93 241.467 2133.87 245.217 Q2136.84 248.967 2136.84 255.078 Q2136.84 261.189 2133.87 264.939 Q2130.93 268.689 2126.21 268.689 Q2123.36 268.689 2121.3 267.578 Q2119.27 266.443 2117.92 264.129 L2117.92 268.018 L2113.64 268.018 L2113.64 231.999 L2117.92 231.999 L2117.92 246.027 Z\" fill=\"#000000\" fill-rule=\"evenodd\" fill-opacity=\"1\" /></svg>\n"
      ]
     },
     "execution_count": 98,
     "metadata": {},
     "output_type": "execute_result"
    }
   ],
   "source": [
    "#Marginals\n",
    "\n",
    "p_cau = zeros(N,Int(T))\n",
    "p_weight = zeros(N,Int(T))\n",
    "p_post = zeros(N, Int(T))\n",
    "for i = 1:N\n",
    "    for t = 1:Int(T)\n",
    "       p_cau[i,t] = marginal(i, t, statscau)  \n",
    "       p_weight[i,t] = marginalweight(i, t, statsw, w)  \n",
    "      # p_post[i,t] = marginal(i, t, stats)  \n",
    "    end\n",
    "end\n",
    "i = 65\n",
    "plot(p_cau[i,:], label = \"cau\")\n",
    "plot!(p_weight[i,:], label = \"weight\")\n",
    "#plot!(p_post[i,:])\n",
    "plot!(LinRange(1,Int(T),Int(round(T/dt))),p_sib[i,:], label = \"sib\")"
   ]
  },
  {
   "cell_type": "code",
   "execution_count": 99,
   "metadata": {},
   "outputs": [
    {
     "data": {
      "image/svg+xml": [
       "<?xml version=\"1.0\" encoding=\"utf-8\"?>\n",
       "<svg xmlns=\"http://www.w3.org/2000/svg\" xmlns:xlink=\"http://www.w3.org/1999/xlink\" width=\"600\" height=\"400\" viewBox=\"0 0 2400 1600\">\n",
       "<defs>\n",
       "  <clipPath id=\"clip760\">\n",
       "    <rect x=\"0\" y=\"0\" width=\"2400\" height=\"1600\"/>\n",
       "  </clipPath>\n",
       "</defs>\n",
       "<path clip-path=\"url(#clip760)\" d=\"\n",
       "M0 1600 L2400 1600 L2400 0 L0 0  Z\n",
       "  \" fill=\"#ffffff\" fill-rule=\"evenodd\" fill-opacity=\"1\"/>\n",
       "<defs>\n",
       "  <clipPath id=\"clip761\">\n",
       "    <rect x=\"480\" y=\"0\" width=\"1681\" height=\"1600\"/>\n",
       "  </clipPath>\n",
       "</defs>\n",
       "<path clip-path=\"url(#clip760)\" d=\"\n",
       "M279.704 1423.18 L2352.76 1423.18 L2352.76 123.472 L279.704 123.472  Z\n",
       "  \" fill=\"#ffffff\" fill-rule=\"evenodd\" fill-opacity=\"1\"/>\n",
       "<defs>\n",
       "  <clipPath id=\"clip762\">\n",
       "    <rect x=\"279\" y=\"123\" width=\"2074\" height=\"1301\"/>\n",
       "  </clipPath>\n",
       "</defs>\n",
       "<polyline clip-path=\"url(#clip762)\" style=\"stroke:#000000; stroke-linecap:butt; stroke-linejoin:round; stroke-width:2; stroke-opacity:0.1; fill:none\" points=\"\n",
       "  750.103,1423.18 750.103,123.472 \n",
       "  \"/>\n",
       "<polyline clip-path=\"url(#clip762)\" style=\"stroke:#000000; stroke-linecap:butt; stroke-linejoin:round; stroke-width:2; stroke-opacity:0.1; fill:none\" points=\"\n",
       "  1264.76,1423.18 1264.76,123.472 \n",
       "  \"/>\n",
       "<polyline clip-path=\"url(#clip762)\" style=\"stroke:#000000; stroke-linecap:butt; stroke-linejoin:round; stroke-width:2; stroke-opacity:0.1; fill:none\" points=\"\n",
       "  1779.42,1423.18 1779.42,123.472 \n",
       "  \"/>\n",
       "<polyline clip-path=\"url(#clip762)\" style=\"stroke:#000000; stroke-linecap:butt; stroke-linejoin:round; stroke-width:2; stroke-opacity:0.1; fill:none\" points=\"\n",
       "  2294.08,1423.18 2294.08,123.472 \n",
       "  \"/>\n",
       "<polyline clip-path=\"url(#clip760)\" style=\"stroke:#000000; stroke-linecap:butt; stroke-linejoin:round; stroke-width:4; stroke-opacity:1; fill:none\" points=\"\n",
       "  279.704,1423.18 2352.76,1423.18 \n",
       "  \"/>\n",
       "<polyline clip-path=\"url(#clip760)\" style=\"stroke:#000000; stroke-linecap:butt; stroke-linejoin:round; stroke-width:4; stroke-opacity:1; fill:none\" points=\"\n",
       "  750.103,1423.18 750.103,1404.28 \n",
       "  \"/>\n",
       "<polyline clip-path=\"url(#clip760)\" style=\"stroke:#000000; stroke-linecap:butt; stroke-linejoin:round; stroke-width:4; stroke-opacity:1; fill:none\" points=\"\n",
       "  1264.76,1423.18 1264.76,1404.28 \n",
       "  \"/>\n",
       "<polyline clip-path=\"url(#clip760)\" style=\"stroke:#000000; stroke-linecap:butt; stroke-linejoin:round; stroke-width:4; stroke-opacity:1; fill:none\" points=\"\n",
       "  1779.42,1423.18 1779.42,1404.28 \n",
       "  \"/>\n",
       "<polyline clip-path=\"url(#clip760)\" style=\"stroke:#000000; stroke-linecap:butt; stroke-linejoin:round; stroke-width:4; stroke-opacity:1; fill:none\" points=\"\n",
       "  2294.08,1423.18 2294.08,1404.28 \n",
       "  \"/>\n",
       "<path clip-path=\"url(#clip760)\" d=\"M740.381 1451.02 L758.738 1451.02 L758.738 1454.96 L744.664 1454.96 L744.664 1463.43 Q745.682 1463.08 746.701 1462.92 Q747.719 1462.73 748.738 1462.73 Q754.525 1462.73 757.904 1465.9 Q761.284 1469.08 761.284 1474.49 Q761.284 1480.07 757.812 1483.17 Q754.34 1486.25 748.02 1486.25 Q745.844 1486.25 743.576 1485.88 Q741.33 1485.51 738.923 1484.77 L738.923 1480.07 Q741.006 1481.2 743.229 1481.76 Q745.451 1482.32 747.928 1482.32 Q751.932 1482.32 754.27 1480.21 Q756.608 1478.1 756.608 1474.49 Q756.608 1470.88 754.27 1468.77 Q751.932 1466.67 747.928 1466.67 Q746.053 1466.67 744.178 1467.08 Q742.326 1467.5 740.381 1468.38 L740.381 1451.02 Z\" fill=\"#000000\" fill-rule=\"evenodd\" fill-opacity=\"1\" /><path clip-path=\"url(#clip760)\" d=\"M1239.45 1481.64 L1247.09 1481.64 L1247.09 1455.28 L1238.78 1456.95 L1238.78 1452.69 L1247.04 1451.02 L1251.72 1451.02 L1251.72 1481.64 L1259.36 1481.64 L1259.36 1485.58 L1239.45 1485.58 L1239.45 1481.64 Z\" fill=\"#000000\" fill-rule=\"evenodd\" fill-opacity=\"1\" /><path clip-path=\"url(#clip760)\" d=\"M1278.8 1454.1 Q1275.19 1454.1 1273.36 1457.66 Q1271.56 1461.2 1271.56 1468.33 Q1271.56 1475.44 1273.36 1479.01 Q1275.19 1482.55 1278.8 1482.55 Q1282.44 1482.55 1284.24 1479.01 Q1286.07 1475.44 1286.07 1468.33 Q1286.07 1461.2 1284.24 1457.66 Q1282.44 1454.1 1278.8 1454.1 M1278.8 1450.39 Q1284.61 1450.39 1287.67 1455 Q1290.75 1459.58 1290.75 1468.33 Q1290.75 1477.06 1287.67 1481.67 Q1284.61 1486.25 1278.8 1486.25 Q1272.99 1486.25 1269.91 1481.67 Q1266.86 1477.06 1266.86 1468.33 Q1266.86 1459.58 1269.91 1455 Q1272.99 1450.39 1278.8 1450.39 Z\" fill=\"#000000\" fill-rule=\"evenodd\" fill-opacity=\"1\" /><path clip-path=\"url(#clip760)\" d=\"M1754.61 1481.64 L1762.25 1481.64 L1762.25 1455.28 L1753.94 1456.95 L1753.94 1452.69 L1762.2 1451.02 L1766.88 1451.02 L1766.88 1481.64 L1774.52 1481.64 L1774.52 1485.58 L1754.61 1485.58 L1754.61 1481.64 Z\" fill=\"#000000\" fill-rule=\"evenodd\" fill-opacity=\"1\" /><path clip-path=\"url(#clip760)\" d=\"M1784.01 1451.02 L1802.36 1451.02 L1802.36 1454.96 L1788.29 1454.96 L1788.29 1463.43 Q1789.31 1463.08 1790.33 1462.92 Q1791.35 1462.73 1792.36 1462.73 Q1798.15 1462.73 1801.53 1465.9 Q1804.91 1469.08 1804.91 1474.49 Q1804.91 1480.07 1801.44 1483.17 Q1797.97 1486.25 1791.65 1486.25 Q1789.47 1486.25 1787.2 1485.88 Q1784.96 1485.51 1782.55 1484.77 L1782.55 1480.07 Q1784.63 1481.2 1786.85 1481.76 Q1789.08 1482.32 1791.55 1482.32 Q1795.56 1482.32 1797.9 1480.21 Q1800.23 1478.1 1800.23 1474.49 Q1800.23 1470.88 1797.9 1468.77 Q1795.56 1466.67 1791.55 1466.67 Q1789.68 1466.67 1787.8 1467.08 Q1785.95 1467.5 1784.01 1468.38 L1784.01 1451.02 Z\" fill=\"#000000\" fill-rule=\"evenodd\" fill-opacity=\"1\" /><path clip-path=\"url(#clip760)\" d=\"M2272.86 1481.64 L2289.18 1481.64 L2289.18 1485.58 L2267.23 1485.58 L2267.23 1481.64 Q2269.89 1478.89 2274.48 1474.26 Q2279.08 1469.61 2280.27 1468.27 Q2282.51 1465.74 2283.39 1464.01 Q2284.29 1462.25 2284.29 1460.56 Q2284.29 1457.8 2282.35 1456.07 Q2280.43 1454.33 2277.33 1454.33 Q2275.13 1454.33 2272.67 1455.09 Q2270.24 1455.86 2267.46 1457.41 L2267.46 1452.69 Q2270.29 1451.55 2272.74 1450.97 Q2275.2 1450.39 2277.23 1450.39 Q2282.6 1450.39 2285.8 1453.08 Q2288.99 1455.77 2288.99 1460.26 Q2288.99 1462.39 2288.18 1464.31 Q2287.39 1466.2 2285.29 1468.8 Q2284.71 1469.47 2281.61 1472.69 Q2278.51 1475.88 2272.86 1481.64 Z\" fill=\"#000000\" fill-rule=\"evenodd\" fill-opacity=\"1\" /><path clip-path=\"url(#clip760)\" d=\"M2308.99 1454.1 Q2305.38 1454.1 2303.55 1457.66 Q2301.75 1461.2 2301.75 1468.33 Q2301.75 1475.44 2303.55 1479.01 Q2305.38 1482.55 2308.99 1482.55 Q2312.63 1482.55 2314.43 1479.01 Q2316.26 1475.44 2316.26 1468.33 Q2316.26 1461.2 2314.43 1457.66 Q2312.63 1454.1 2308.99 1454.1 M2308.99 1450.39 Q2314.8 1450.39 2317.86 1455 Q2320.94 1459.58 2320.94 1468.33 Q2320.94 1477.06 2317.86 1481.67 Q2314.8 1486.25 2308.99 1486.25 Q2303.18 1486.25 2300.1 1481.67 Q2297.05 1477.06 2297.05 1468.33 Q2297.05 1459.58 2300.1 1455 Q2303.18 1450.39 2308.99 1450.39 Z\" fill=\"#000000\" fill-rule=\"evenodd\" fill-opacity=\"1\" /><path clip-path=\"url(#clip760)\" d=\"M1315.29 1522.27 L1315.29 1532.4 L1327.35 1532.4 L1327.35 1536.95 L1315.29 1536.95 L1315.29 1556.3 Q1315.29 1560.66 1316.47 1561.9 Q1317.68 1563.14 1321.34 1563.14 L1327.35 1563.14 L1327.35 1568.04 L1321.34 1568.04 Q1314.56 1568.04 1311.98 1565.53 Q1309.4 1562.98 1309.4 1556.3 L1309.4 1536.95 L1305.11 1536.95 L1305.11 1532.4 L1309.4 1532.4 L1309.4 1522.27 L1315.29 1522.27 Z\" fill=\"#000000\" fill-rule=\"evenodd\" fill-opacity=\"1\" /><polyline clip-path=\"url(#clip762)\" style=\"stroke:#000000; stroke-linecap:butt; stroke-linejoin:round; stroke-width:2; stroke-opacity:0.1; fill:none\" points=\"\n",
       "  279.704,1349.79 2352.76,1349.79 \n",
       "  \"/>\n",
       "<polyline clip-path=\"url(#clip762)\" style=\"stroke:#000000; stroke-linecap:butt; stroke-linejoin:round; stroke-width:2; stroke-opacity:0.1; fill:none\" points=\"\n",
       "  279.704,1173.25 2352.76,1173.25 \n",
       "  \"/>\n",
       "<polyline clip-path=\"url(#clip762)\" style=\"stroke:#000000; stroke-linecap:butt; stroke-linejoin:round; stroke-width:2; stroke-opacity:0.1; fill:none\" points=\"\n",
       "  279.704,996.715 2352.76,996.715 \n",
       "  \"/>\n",
       "<polyline clip-path=\"url(#clip762)\" style=\"stroke:#000000; stroke-linecap:butt; stroke-linejoin:round; stroke-width:2; stroke-opacity:0.1; fill:none\" points=\"\n",
       "  279.704,820.18 2352.76,820.18 \n",
       "  \"/>\n",
       "<polyline clip-path=\"url(#clip762)\" style=\"stroke:#000000; stroke-linecap:butt; stroke-linejoin:round; stroke-width:2; stroke-opacity:0.1; fill:none\" points=\"\n",
       "  279.704,643.644 2352.76,643.644 \n",
       "  \"/>\n",
       "<polyline clip-path=\"url(#clip762)\" style=\"stroke:#000000; stroke-linecap:butt; stroke-linejoin:round; stroke-width:2; stroke-opacity:0.1; fill:none\" points=\"\n",
       "  279.704,467.109 2352.76,467.109 \n",
       "  \"/>\n",
       "<polyline clip-path=\"url(#clip762)\" style=\"stroke:#000000; stroke-linecap:butt; stroke-linejoin:round; stroke-width:2; stroke-opacity:0.1; fill:none\" points=\"\n",
       "  279.704,290.574 2352.76,290.574 \n",
       "  \"/>\n",
       "<polyline clip-path=\"url(#clip760)\" style=\"stroke:#000000; stroke-linecap:butt; stroke-linejoin:round; stroke-width:4; stroke-opacity:1; fill:none\" points=\"\n",
       "  279.704,1423.18 279.704,123.472 \n",
       "  \"/>\n",
       "<polyline clip-path=\"url(#clip760)\" style=\"stroke:#000000; stroke-linecap:butt; stroke-linejoin:round; stroke-width:4; stroke-opacity:1; fill:none\" points=\"\n",
       "  279.704,1349.79 298.602,1349.79 \n",
       "  \"/>\n",
       "<polyline clip-path=\"url(#clip760)\" style=\"stroke:#000000; stroke-linecap:butt; stroke-linejoin:round; stroke-width:4; stroke-opacity:1; fill:none\" points=\"\n",
       "  279.704,1173.25 298.602,1173.25 \n",
       "  \"/>\n",
       "<polyline clip-path=\"url(#clip760)\" style=\"stroke:#000000; stroke-linecap:butt; stroke-linejoin:round; stroke-width:4; stroke-opacity:1; fill:none\" points=\"\n",
       "  279.704,996.715 298.602,996.715 \n",
       "  \"/>\n",
       "<polyline clip-path=\"url(#clip760)\" style=\"stroke:#000000; stroke-linecap:butt; stroke-linejoin:round; stroke-width:4; stroke-opacity:1; fill:none\" points=\"\n",
       "  279.704,820.18 298.602,820.18 \n",
       "  \"/>\n",
       "<polyline clip-path=\"url(#clip760)\" style=\"stroke:#000000; stroke-linecap:butt; stroke-linejoin:round; stroke-width:4; stroke-opacity:1; fill:none\" points=\"\n",
       "  279.704,643.644 298.602,643.644 \n",
       "  \"/>\n",
       "<polyline clip-path=\"url(#clip760)\" style=\"stroke:#000000; stroke-linecap:butt; stroke-linejoin:round; stroke-width:4; stroke-opacity:1; fill:none\" points=\"\n",
       "  279.704,467.109 298.602,467.109 \n",
       "  \"/>\n",
       "<polyline clip-path=\"url(#clip760)\" style=\"stroke:#000000; stroke-linecap:butt; stroke-linejoin:round; stroke-width:4; stroke-opacity:1; fill:none\" points=\"\n",
       "  279.704,290.574 298.602,290.574 \n",
       "  \"/>\n",
       "<path clip-path=\"url(#clip760)\" d=\"M127.2 1335.58 Q123.589 1335.58 121.76 1339.15 Q119.955 1342.69 119.955 1349.82 Q119.955 1356.93 121.76 1360.49 Q123.589 1364.03 127.2 1364.03 Q130.834 1364.03 132.64 1360.49 Q134.468 1356.93 134.468 1349.82 Q134.468 1342.69 132.64 1339.15 Q130.834 1335.58 127.2 1335.58 M127.2 1331.88 Q133.01 1331.88 136.066 1336.49 Q139.144 1341.07 139.144 1349.82 Q139.144 1358.55 136.066 1363.15 Q133.01 1367.74 127.2 1367.74 Q121.39 1367.74 118.311 1363.15 Q115.256 1358.55 115.256 1349.82 Q115.256 1341.07 118.311 1336.49 Q121.39 1331.88 127.2 1331.88 Z\" fill=\"#000000\" fill-rule=\"evenodd\" fill-opacity=\"1\" /><path clip-path=\"url(#clip760)\" d=\"M147.362 1361.19 L152.246 1361.19 L152.246 1367.07 L147.362 1367.07 L147.362 1361.19 Z\" fill=\"#000000\" fill-rule=\"evenodd\" fill-opacity=\"1\" /><path clip-path=\"url(#clip760)\" d=\"M172.431 1350.65 Q169.098 1350.65 167.177 1352.44 Q165.278 1354.22 165.278 1357.34 Q165.278 1360.47 167.177 1362.25 Q169.098 1364.03 172.431 1364.03 Q175.764 1364.03 177.686 1362.25 Q179.607 1360.45 179.607 1357.34 Q179.607 1354.22 177.686 1352.44 Q175.788 1350.65 172.431 1350.65 M167.755 1348.66 Q164.746 1347.92 163.056 1345.86 Q161.39 1343.8 161.39 1340.84 Q161.39 1336.7 164.329 1334.29 Q167.292 1331.88 172.431 1331.88 Q177.593 1331.88 180.533 1334.29 Q183.473 1336.7 183.473 1340.84 Q183.473 1343.8 181.783 1345.86 Q180.116 1347.92 177.13 1348.66 Q180.51 1349.45 182.385 1351.74 Q184.283 1354.03 184.283 1357.34 Q184.283 1362.37 181.204 1365.05 Q178.149 1367.74 172.431 1367.74 Q166.714 1367.74 163.635 1365.05 Q160.579 1362.37 160.579 1357.34 Q160.579 1354.03 162.477 1351.74 Q164.376 1349.45 167.755 1348.66 M166.042 1341.28 Q166.042 1343.96 167.709 1345.47 Q169.399 1346.97 172.431 1346.97 Q175.44 1346.97 177.13 1345.47 Q178.843 1343.96 178.843 1341.28 Q178.843 1338.59 177.13 1337.09 Q175.44 1335.58 172.431 1335.58 Q169.399 1335.58 167.709 1337.09 Q166.042 1338.59 166.042 1341.28 Z\" fill=\"#000000\" fill-rule=\"evenodd\" fill-opacity=\"1\" /><path clip-path=\"url(#clip760)\" d=\"M196.621 1363.13 L212.94 1363.13 L212.94 1367.07 L190.996 1367.07 L190.996 1363.13 Q193.658 1360.38 198.241 1355.75 Q202.848 1351.09 204.028 1349.75 Q206.274 1347.23 207.153 1345.49 Q208.056 1343.73 208.056 1342.04 Q208.056 1339.29 206.112 1337.55 Q204.19 1335.82 201.088 1335.82 Q198.889 1335.82 196.436 1336.58 Q194.005 1337.34 191.227 1338.89 L191.227 1334.17 Q194.051 1333.04 196.505 1332.46 Q198.959 1331.88 200.996 1331.88 Q206.366 1331.88 209.561 1334.57 Q212.755 1337.25 212.755 1341.74 Q212.755 1343.87 211.945 1345.79 Q211.158 1347.69 209.051 1350.28 Q208.473 1350.95 205.371 1354.17 Q202.269 1357.37 196.621 1363.13 Z\" fill=\"#000000\" fill-rule=\"evenodd\" fill-opacity=\"1\" /><path clip-path=\"url(#clip760)\" d=\"M222.801 1332.51 L241.158 1332.51 L241.158 1336.44 L227.084 1336.44 L227.084 1344.91 Q228.102 1344.57 229.121 1344.4 Q230.139 1344.22 231.158 1344.22 Q236.945 1344.22 240.324 1347.39 Q243.704 1350.56 243.704 1355.98 Q243.704 1361.56 240.232 1364.66 Q236.76 1367.74 230.44 1367.74 Q228.264 1367.74 225.996 1367.37 Q223.75 1367 221.343 1366.26 L221.343 1361.56 Q223.426 1362.69 225.648 1363.25 Q227.871 1363.8 230.347 1363.8 Q234.352 1363.8 236.69 1361.7 Q239.028 1359.59 239.028 1355.98 Q239.028 1352.37 236.69 1350.26 Q234.352 1348.15 230.347 1348.15 Q228.473 1348.15 226.598 1348.57 Q224.746 1348.99 222.801 1349.87 L222.801 1332.51 Z\" fill=\"#000000\" fill-rule=\"evenodd\" fill-opacity=\"1\" /><path clip-path=\"url(#clip760)\" d=\"M126.205 1159.05 Q122.593 1159.05 120.765 1162.61 Q118.959 1166.16 118.959 1173.28 Q118.959 1180.39 120.765 1183.96 Q122.593 1187.5 126.205 1187.5 Q129.839 1187.5 131.644 1183.96 Q133.473 1180.39 133.473 1173.28 Q133.473 1166.16 131.644 1162.61 Q129.839 1159.05 126.205 1159.05 M126.205 1155.35 Q132.015 1155.35 135.07 1159.95 Q138.149 1164.53 138.149 1173.28 Q138.149 1182.01 135.07 1186.62 Q132.015 1191.2 126.205 1191.2 Q120.394 1191.2 117.316 1186.62 Q114.26 1182.01 114.26 1173.28 Q114.26 1164.53 117.316 1159.95 Q120.394 1155.35 126.205 1155.35 Z\" fill=\"#000000\" fill-rule=\"evenodd\" fill-opacity=\"1\" /><path clip-path=\"url(#clip760)\" d=\"M146.366 1184.65 L151.251 1184.65 L151.251 1190.53 L146.366 1190.53 L146.366 1184.65 Z\" fill=\"#000000\" fill-rule=\"evenodd\" fill-opacity=\"1\" /><path clip-path=\"url(#clip760)\" d=\"M171.436 1174.12 Q168.102 1174.12 166.181 1175.9 Q164.283 1177.68 164.283 1180.81 Q164.283 1183.93 166.181 1185.72 Q168.102 1187.5 171.436 1187.5 Q174.769 1187.5 176.69 1185.72 Q178.612 1183.91 178.612 1180.81 Q178.612 1177.68 176.69 1175.9 Q174.792 1174.12 171.436 1174.12 M166.76 1172.13 Q163.751 1171.39 162.061 1169.33 Q160.394 1167.27 160.394 1164.3 Q160.394 1160.16 163.334 1157.75 Q166.297 1155.35 171.436 1155.35 Q176.598 1155.35 179.538 1157.75 Q182.477 1160.16 182.477 1164.3 Q182.477 1167.27 180.788 1169.33 Q179.121 1171.39 176.135 1172.13 Q179.514 1172.91 181.389 1175.21 Q183.288 1177.5 183.288 1180.81 Q183.288 1185.83 180.209 1188.52 Q177.153 1191.2 171.436 1191.2 Q165.718 1191.2 162.64 1188.52 Q159.584 1185.83 159.584 1180.81 Q159.584 1177.5 161.482 1175.21 Q163.38 1172.91 166.76 1172.13 M165.047 1164.74 Q165.047 1167.43 166.714 1168.93 Q168.403 1170.44 171.436 1170.44 Q174.445 1170.44 176.135 1168.93 Q177.848 1167.43 177.848 1164.74 Q177.848 1162.06 176.135 1160.55 Q174.445 1159.05 171.436 1159.05 Q168.403 1159.05 166.714 1160.55 Q165.047 1162.06 165.047 1164.74 Z\" fill=\"#000000\" fill-rule=\"evenodd\" fill-opacity=\"1\" /><path clip-path=\"url(#clip760)\" d=\"M191.644 1155.97 L210 1155.97 L210 1159.91 L195.926 1159.91 L195.926 1168.38 Q196.945 1168.03 197.963 1167.87 Q198.982 1167.68 200 1167.68 Q205.787 1167.68 209.167 1170.85 Q212.547 1174.03 212.547 1179.44 Q212.547 1185.02 209.074 1188.12 Q205.602 1191.2 199.283 1191.2 Q197.107 1191.2 194.838 1190.83 Q192.593 1190.46 190.186 1189.72 L190.186 1185.02 Q192.269 1186.16 194.491 1186.71 Q196.713 1187.27 199.19 1187.27 Q203.195 1187.27 205.533 1185.16 Q207.871 1183.05 207.871 1179.44 Q207.871 1175.83 205.533 1173.72 Q203.195 1171.62 199.19 1171.62 Q197.315 1171.62 195.44 1172.03 Q193.588 1172.45 191.644 1173.33 L191.644 1155.97 Z\" fill=\"#000000\" fill-rule=\"evenodd\" fill-opacity=\"1\" /><path clip-path=\"url(#clip760)\" d=\"M231.76 1159.05 Q228.148 1159.05 226.32 1162.61 Q224.514 1166.16 224.514 1173.28 Q224.514 1180.39 226.32 1183.96 Q228.148 1187.5 231.76 1187.5 Q235.394 1187.5 237.199 1183.96 Q239.028 1180.39 239.028 1173.28 Q239.028 1166.16 237.199 1162.61 Q235.394 1159.05 231.76 1159.05 M231.76 1155.35 Q237.57 1155.35 240.625 1159.95 Q243.704 1164.53 243.704 1173.28 Q243.704 1182.01 240.625 1186.62 Q237.57 1191.2 231.76 1191.2 Q225.949 1191.2 222.871 1186.62 Q219.815 1182.01 219.815 1173.28 Q219.815 1164.53 222.871 1159.95 Q225.949 1155.35 231.76 1155.35 Z\" fill=\"#000000\" fill-rule=\"evenodd\" fill-opacity=\"1\" /><path clip-path=\"url(#clip760)\" d=\"M127.2 982.514 Q123.589 982.514 121.76 986.078 Q119.955 989.62 119.955 996.75 Q119.955 1003.86 121.76 1007.42 Q123.589 1010.96 127.2 1010.96 Q130.834 1010.96 132.64 1007.42 Q134.468 1003.86 134.468 996.75 Q134.468 989.62 132.64 986.078 Q130.834 982.514 127.2 982.514 M127.2 978.81 Q133.01 978.81 136.066 983.416 Q139.144 988 139.144 996.75 Q139.144 1005.48 136.066 1010.08 Q133.01 1014.67 127.2 1014.67 Q121.39 1014.67 118.311 1010.08 Q115.256 1005.48 115.256 996.75 Q115.256 988 118.311 983.416 Q121.39 978.81 127.2 978.81 Z\" fill=\"#000000\" fill-rule=\"evenodd\" fill-opacity=\"1\" /><path clip-path=\"url(#clip760)\" d=\"M147.362 1008.12 L152.246 1008.12 L152.246 1013.99 L147.362 1013.99 L147.362 1008.12 Z\" fill=\"#000000\" fill-rule=\"evenodd\" fill-opacity=\"1\" /><path clip-path=\"url(#clip760)\" d=\"M172.431 997.583 Q169.098 997.583 167.177 999.365 Q165.278 1001.15 165.278 1004.27 Q165.278 1007.4 167.177 1009.18 Q169.098 1010.96 172.431 1010.96 Q175.764 1010.96 177.686 1009.18 Q179.607 1007.37 179.607 1004.27 Q179.607 1001.15 177.686 999.365 Q175.788 997.583 172.431 997.583 M167.755 995.592 Q164.746 994.851 163.056 992.791 Q161.39 990.731 161.39 987.768 Q161.39 983.625 164.329 981.217 Q167.292 978.81 172.431 978.81 Q177.593 978.81 180.533 981.217 Q183.473 983.625 183.473 987.768 Q183.473 990.731 181.783 992.791 Q180.116 994.851 177.13 995.592 Q180.51 996.379 182.385 998.671 Q184.283 1000.96 184.283 1004.27 Q184.283 1009.3 181.204 1011.98 Q178.149 1014.67 172.431 1014.67 Q166.714 1014.67 163.635 1011.98 Q160.579 1009.3 160.579 1004.27 Q160.579 1000.96 162.477 998.671 Q164.376 996.379 167.755 995.592 M166.042 988.208 Q166.042 990.893 167.709 992.398 Q169.399 993.902 172.431 993.902 Q175.44 993.902 177.13 992.398 Q178.843 990.893 178.843 988.208 Q178.843 985.523 177.13 984.018 Q175.44 982.514 172.431 982.514 Q169.399 982.514 167.709 984.018 Q166.042 985.523 166.042 988.208 Z\" fill=\"#000000\" fill-rule=\"evenodd\" fill-opacity=\"1\" /><path clip-path=\"url(#clip760)\" d=\"M191.413 979.435 L213.635 979.435 L213.635 981.426 L201.088 1013.99 L196.204 1013.99 L208.01 983.37 L191.413 983.37 L191.413 979.435 Z\" fill=\"#000000\" fill-rule=\"evenodd\" fill-opacity=\"1\" /><path clip-path=\"url(#clip760)\" d=\"M222.801 979.435 L241.158 979.435 L241.158 983.37 L227.084 983.37 L227.084 991.842 Q228.102 991.495 229.121 991.333 Q230.139 991.148 231.158 991.148 Q236.945 991.148 240.324 994.319 Q243.704 997.49 243.704 1002.91 Q243.704 1008.49 240.232 1011.59 Q236.76 1014.67 230.44 1014.67 Q228.264 1014.67 225.996 1014.3 Q223.75 1013.93 221.343 1013.18 L221.343 1008.49 Q223.426 1009.62 225.648 1010.18 Q227.871 1010.73 230.347 1010.73 Q234.352 1010.73 236.69 1008.62 Q239.028 1006.52 239.028 1002.91 Q239.028 999.296 236.69 997.189 Q234.352 995.083 230.347 995.083 Q228.473 995.083 226.598 995.5 Q224.746 995.916 222.801 996.796 L222.801 979.435 Z\" fill=\"#000000\" fill-rule=\"evenodd\" fill-opacity=\"1\" /><path clip-path=\"url(#clip760)\" d=\"M126.205 805.978 Q122.593 805.978 120.765 809.543 Q118.959 813.085 118.959 820.214 Q118.959 827.321 120.765 830.886 Q122.593 834.427 126.205 834.427 Q129.839 834.427 131.644 830.886 Q133.473 827.321 133.473 820.214 Q133.473 813.085 131.644 809.543 Q129.839 805.978 126.205 805.978 M126.205 802.275 Q132.015 802.275 135.07 806.881 Q138.149 811.464 138.149 820.214 Q138.149 828.941 135.07 833.548 Q132.015 838.131 126.205 838.131 Q120.394 838.131 117.316 833.548 Q114.26 828.941 114.26 820.214 Q114.26 811.464 117.316 806.881 Q120.394 802.275 126.205 802.275 Z\" fill=\"#000000\" fill-rule=\"evenodd\" fill-opacity=\"1\" /><path clip-path=\"url(#clip760)\" d=\"M146.366 831.58 L151.251 831.58 L151.251 837.46 L146.366 837.46 L146.366 831.58 Z\" fill=\"#000000\" fill-rule=\"evenodd\" fill-opacity=\"1\" /><path clip-path=\"url(#clip760)\" d=\"M161.575 836.742 L161.575 832.483 Q163.334 833.316 165.14 833.756 Q166.945 834.196 168.681 834.196 Q173.311 834.196 175.741 831.094 Q178.195 827.969 178.542 821.626 Q177.2 823.617 175.139 824.682 Q173.079 825.747 170.579 825.747 Q165.394 825.747 162.362 822.622 Q159.353 819.474 159.353 814.034 Q159.353 808.71 162.501 805.492 Q165.649 802.275 170.88 802.275 Q176.876 802.275 180.024 806.881 Q183.195 811.464 183.195 820.214 Q183.195 828.386 179.306 833.27 Q175.44 838.131 168.889 838.131 Q167.13 838.131 165.325 837.784 Q163.519 837.436 161.575 836.742 M170.88 822.089 Q174.028 822.089 175.857 819.937 Q177.709 817.784 177.709 814.034 Q177.709 810.307 175.857 808.154 Q174.028 805.978 170.88 805.978 Q167.732 805.978 165.88 808.154 Q164.052 810.307 164.052 814.034 Q164.052 817.784 165.88 819.937 Q167.732 822.089 170.88 822.089 Z\" fill=\"#000000\" fill-rule=\"evenodd\" fill-opacity=\"1\" /><path clip-path=\"url(#clip760)\" d=\"M201.598 805.978 Q197.987 805.978 196.158 809.543 Q194.352 813.085 194.352 820.214 Q194.352 827.321 196.158 830.886 Q197.987 834.427 201.598 834.427 Q205.232 834.427 207.037 830.886 Q208.866 827.321 208.866 820.214 Q208.866 813.085 207.037 809.543 Q205.232 805.978 201.598 805.978 M201.598 802.275 Q207.408 802.275 210.463 806.881 Q213.542 811.464 213.542 820.214 Q213.542 828.941 210.463 833.548 Q207.408 838.131 201.598 838.131 Q195.787 838.131 192.709 833.548 Q189.653 828.941 189.653 820.214 Q189.653 811.464 192.709 806.881 Q195.787 802.275 201.598 802.275 Z\" fill=\"#000000\" fill-rule=\"evenodd\" fill-opacity=\"1\" /><path clip-path=\"url(#clip760)\" d=\"M231.76 805.978 Q228.148 805.978 226.32 809.543 Q224.514 813.085 224.514 820.214 Q224.514 827.321 226.32 830.886 Q228.148 834.427 231.76 834.427 Q235.394 834.427 237.199 830.886 Q239.028 827.321 239.028 820.214 Q239.028 813.085 237.199 809.543 Q235.394 805.978 231.76 805.978 M231.76 802.275 Q237.57 802.275 240.625 806.881 Q243.704 811.464 243.704 820.214 Q243.704 828.941 240.625 833.548 Q237.57 838.131 231.76 838.131 Q225.949 838.131 222.871 833.548 Q219.815 828.941 219.815 820.214 Q219.815 811.464 222.871 806.881 Q225.949 802.275 231.76 802.275 Z\" fill=\"#000000\" fill-rule=\"evenodd\" fill-opacity=\"1\" /><path clip-path=\"url(#clip760)\" d=\"M127.2 629.443 Q123.589 629.443 121.76 633.008 Q119.955 636.549 119.955 643.679 Q119.955 650.786 121.76 654.35 Q123.589 657.892 127.2 657.892 Q130.834 657.892 132.64 654.35 Q134.468 650.786 134.468 643.679 Q134.468 636.549 132.64 633.008 Q130.834 629.443 127.2 629.443 M127.2 625.739 Q133.01 625.739 136.066 630.346 Q139.144 634.929 139.144 643.679 Q139.144 652.406 136.066 657.012 Q133.01 661.596 127.2 661.596 Q121.39 661.596 118.311 657.012 Q115.256 652.406 115.256 643.679 Q115.256 634.929 118.311 630.346 Q121.39 625.739 127.2 625.739 Z\" fill=\"#000000\" fill-rule=\"evenodd\" fill-opacity=\"1\" /><path clip-path=\"url(#clip760)\" d=\"M147.362 655.045 L152.246 655.045 L152.246 660.924 L147.362 660.924 L147.362 655.045 Z\" fill=\"#000000\" fill-rule=\"evenodd\" fill-opacity=\"1\" /><path clip-path=\"url(#clip760)\" d=\"M162.57 660.207 L162.57 655.948 Q164.329 656.781 166.135 657.221 Q167.94 657.66 169.677 657.66 Q174.306 657.66 176.737 654.559 Q179.19 651.434 179.538 645.091 Q178.195 647.082 176.135 648.147 Q174.075 649.211 171.575 649.211 Q166.39 649.211 163.357 646.086 Q160.348 642.938 160.348 637.499 Q160.348 632.175 163.496 628.957 Q166.644 625.739 171.876 625.739 Q177.871 625.739 181.019 630.346 Q184.19 634.929 184.19 643.679 Q184.19 651.85 180.301 656.735 Q176.436 661.596 169.885 661.596 Q168.126 661.596 166.32 661.248 Q164.515 660.901 162.57 660.207 M171.876 645.554 Q175.024 645.554 176.852 643.401 Q178.704 641.249 178.704 637.499 Q178.704 633.772 176.852 631.619 Q175.024 629.443 171.876 629.443 Q168.727 629.443 166.876 631.619 Q165.047 633.772 165.047 637.499 Q165.047 641.249 166.876 643.401 Q168.727 645.554 171.876 645.554 Z\" fill=\"#000000\" fill-rule=\"evenodd\" fill-opacity=\"1\" /><path clip-path=\"url(#clip760)\" d=\"M196.621 656.989 L212.94 656.989 L212.94 660.924 L190.996 660.924 L190.996 656.989 Q193.658 654.235 198.241 649.605 Q202.848 644.952 204.028 643.61 Q206.274 641.086 207.153 639.35 Q208.056 637.591 208.056 635.901 Q208.056 633.147 206.112 631.411 Q204.19 629.675 201.088 629.675 Q198.889 629.675 196.436 630.438 Q194.005 631.202 191.227 632.753 L191.227 628.031 Q194.051 626.897 196.505 626.318 Q198.959 625.739 200.996 625.739 Q206.366 625.739 209.561 628.425 Q212.755 631.11 212.755 635.6 Q212.755 637.73 211.945 639.651 Q211.158 641.549 209.051 644.142 Q208.473 644.813 205.371 648.031 Q202.269 651.225 196.621 656.989 Z\" fill=\"#000000\" fill-rule=\"evenodd\" fill-opacity=\"1\" /><path clip-path=\"url(#clip760)\" d=\"M222.801 626.364 L241.158 626.364 L241.158 630.3 L227.084 630.3 L227.084 638.772 Q228.102 638.424 229.121 638.262 Q230.139 638.077 231.158 638.077 Q236.945 638.077 240.324 641.249 Q243.704 644.42 243.704 649.836 Q243.704 655.415 240.232 658.517 Q236.76 661.596 230.44 661.596 Q228.264 661.596 225.996 661.225 Q223.75 660.855 221.343 660.114 L221.343 655.415 Q223.426 656.549 225.648 657.105 Q227.871 657.66 230.347 657.66 Q234.352 657.66 236.69 655.554 Q239.028 653.448 239.028 649.836 Q239.028 646.225 236.69 644.119 Q234.352 642.012 230.347 642.012 Q228.473 642.012 226.598 642.429 Q224.746 642.846 222.801 643.725 L222.801 626.364 Z\" fill=\"#000000\" fill-rule=\"evenodd\" fill-opacity=\"1\" /><path clip-path=\"url(#clip760)\" d=\"M126.205 452.908 Q122.593 452.908 120.765 456.473 Q118.959 460.014 118.959 467.144 Q118.959 474.25 120.765 477.815 Q122.593 481.357 126.205 481.357 Q129.839 481.357 131.644 477.815 Q133.473 474.25 133.473 467.144 Q133.473 460.014 131.644 456.473 Q129.839 452.908 126.205 452.908 M126.205 449.204 Q132.015 449.204 135.07 453.811 Q138.149 458.394 138.149 467.144 Q138.149 475.871 135.07 480.477 Q132.015 485.06 126.205 485.06 Q120.394 485.06 117.316 480.477 Q114.26 475.871 114.26 467.144 Q114.26 458.394 117.316 453.811 Q120.394 449.204 126.205 449.204 Z\" fill=\"#000000\" fill-rule=\"evenodd\" fill-opacity=\"1\" /><path clip-path=\"url(#clip760)\" d=\"M146.366 478.509 L151.251 478.509 L151.251 484.389 L146.366 484.389 L146.366 478.509 Z\" fill=\"#000000\" fill-rule=\"evenodd\" fill-opacity=\"1\" /><path clip-path=\"url(#clip760)\" d=\"M161.575 483.671 L161.575 479.412 Q163.334 480.246 165.14 480.685 Q166.945 481.125 168.681 481.125 Q173.311 481.125 175.741 478.023 Q178.195 474.898 178.542 468.556 Q177.2 470.547 175.139 471.611 Q173.079 472.676 170.579 472.676 Q165.394 472.676 162.362 469.551 Q159.353 466.403 159.353 460.963 Q159.353 455.639 162.501 452.422 Q165.649 449.204 170.88 449.204 Q176.876 449.204 180.024 453.811 Q183.195 458.394 183.195 467.144 Q183.195 475.315 179.306 480.199 Q175.44 485.06 168.889 485.06 Q167.13 485.06 165.325 484.713 Q163.519 484.366 161.575 483.671 M170.88 469.019 Q174.028 469.019 175.857 466.866 Q177.709 464.713 177.709 460.963 Q177.709 457.236 175.857 455.084 Q174.028 452.908 170.88 452.908 Q167.732 452.908 165.88 455.084 Q164.052 457.236 164.052 460.963 Q164.052 464.713 165.88 466.866 Q167.732 469.019 170.88 469.019 Z\" fill=\"#000000\" fill-rule=\"evenodd\" fill-opacity=\"1\" /><path clip-path=\"url(#clip760)\" d=\"M191.644 449.829 L210 449.829 L210 453.764 L195.926 453.764 L195.926 462.236 Q196.945 461.889 197.963 461.727 Q198.982 461.542 200 461.542 Q205.787 461.542 209.167 464.713 Q212.547 467.885 212.547 473.301 Q212.547 478.88 209.074 481.982 Q205.602 485.06 199.283 485.06 Q197.107 485.06 194.838 484.69 Q192.593 484.32 190.186 483.579 L190.186 478.88 Q192.269 480.014 194.491 480.57 Q196.713 481.125 199.19 481.125 Q203.195 481.125 205.533 479.019 Q207.871 476.912 207.871 473.301 Q207.871 469.69 205.533 467.584 Q203.195 465.477 199.19 465.477 Q197.315 465.477 195.44 465.894 Q193.588 466.31 191.644 467.19 L191.644 449.829 Z\" fill=\"#000000\" fill-rule=\"evenodd\" fill-opacity=\"1\" /><path clip-path=\"url(#clip760)\" d=\"M231.76 452.908 Q228.148 452.908 226.32 456.473 Q224.514 460.014 224.514 467.144 Q224.514 474.25 226.32 477.815 Q228.148 481.357 231.76 481.357 Q235.394 481.357 237.199 477.815 Q239.028 474.25 239.028 467.144 Q239.028 460.014 237.199 456.473 Q235.394 452.908 231.76 452.908 M231.76 449.204 Q237.57 449.204 240.625 453.811 Q243.704 458.394 243.704 467.144 Q243.704 475.871 240.625 480.477 Q237.57 485.06 231.76 485.06 Q225.949 485.06 222.871 480.477 Q219.815 475.871 219.815 467.144 Q219.815 458.394 222.871 453.811 Q225.949 449.204 231.76 449.204 Z\" fill=\"#000000\" fill-rule=\"evenodd\" fill-opacity=\"1\" /><path clip-path=\"url(#clip760)\" d=\"M127.2 276.373 Q123.589 276.373 121.76 279.937 Q119.955 283.479 119.955 290.609 Q119.955 297.715 121.76 301.28 Q123.589 304.821 127.2 304.821 Q130.834 304.821 132.64 301.28 Q134.468 297.715 134.468 290.609 Q134.468 283.479 132.64 279.937 Q130.834 276.373 127.2 276.373 M127.2 272.669 Q133.01 272.669 136.066 277.275 Q139.144 281.859 139.144 290.609 Q139.144 299.335 136.066 303.942 Q133.01 308.525 127.2 308.525 Q121.39 308.525 118.311 303.942 Q115.256 299.335 115.256 290.609 Q115.256 281.859 118.311 277.275 Q121.39 272.669 127.2 272.669 Z\" fill=\"#000000\" fill-rule=\"evenodd\" fill-opacity=\"1\" /><path clip-path=\"url(#clip760)\" d=\"M147.362 301.974 L152.246 301.974 L152.246 307.854 L147.362 307.854 L147.362 301.974 Z\" fill=\"#000000\" fill-rule=\"evenodd\" fill-opacity=\"1\" /><path clip-path=\"url(#clip760)\" d=\"M162.57 307.136 L162.57 302.877 Q164.329 303.71 166.135 304.15 Q167.94 304.59 169.677 304.59 Q174.306 304.59 176.737 301.488 Q179.19 298.363 179.538 292.021 Q178.195 294.011 176.135 295.076 Q174.075 296.141 171.575 296.141 Q166.39 296.141 163.357 293.016 Q160.348 289.868 160.348 284.428 Q160.348 279.104 163.496 275.886 Q166.644 272.669 171.876 272.669 Q177.871 272.669 181.019 277.275 Q184.19 281.859 184.19 290.609 Q184.19 298.78 180.301 303.664 Q176.436 308.525 169.885 308.525 Q168.126 308.525 166.32 308.178 Q164.515 307.831 162.57 307.136 M171.876 292.484 Q175.024 292.484 176.852 290.331 Q178.704 288.178 178.704 284.428 Q178.704 280.701 176.852 278.548 Q175.024 276.373 171.876 276.373 Q168.727 276.373 166.876 278.548 Q165.047 280.701 165.047 284.428 Q165.047 288.178 166.876 290.331 Q168.727 292.484 171.876 292.484 Z\" fill=\"#000000\" fill-rule=\"evenodd\" fill-opacity=\"1\" /><path clip-path=\"url(#clip760)\" d=\"M191.413 273.294 L213.635 273.294 L213.635 275.285 L201.088 307.854 L196.204 307.854 L208.01 277.229 L191.413 277.229 L191.413 273.294 Z\" fill=\"#000000\" fill-rule=\"evenodd\" fill-opacity=\"1\" /><path clip-path=\"url(#clip760)\" d=\"M222.801 273.294 L241.158 273.294 L241.158 277.229 L227.084 277.229 L227.084 285.701 Q228.102 285.354 229.121 285.192 Q230.139 285.007 231.158 285.007 Q236.945 285.007 240.324 288.178 Q243.704 291.349 243.704 296.766 Q243.704 302.345 240.232 305.446 Q236.76 308.525 230.44 308.525 Q228.264 308.525 225.996 308.155 Q223.75 307.784 221.343 307.044 L221.343 302.345 Q223.426 303.479 225.648 304.034 Q227.871 304.59 230.347 304.59 Q234.352 304.59 236.69 302.483 Q239.028 300.377 239.028 296.766 Q239.028 293.155 236.69 291.048 Q234.352 288.942 230.347 288.942 Q228.473 288.942 226.598 289.359 Q224.746 289.775 222.801 290.655 L222.801 273.294 Z\" fill=\"#000000\" fill-rule=\"evenodd\" fill-opacity=\"1\" /><path clip-path=\"url(#clip760)\" d=\"M22.818 866.743 L46.4666 875.464 L46.4666 857.99 L22.818 866.743 M16.4842 870.371 L16.4842 863.082 L64.0042 844.972 L64.0042 851.656 L51.8138 855.985 L51.8138 877.405 L64.0042 881.734 L64.0042 888.513 L16.4842 870.371 Z\" fill=\"#000000\" fill-rule=\"evenodd\" fill-opacity=\"1\" /><path clip-path=\"url(#clip760)\" d=\"M16.4842 838.765 L16.4842 832.304 L45.3526 832.304 Q52.9915 832.304 56.3653 829.535 Q59.7073 826.766 59.7073 820.56 Q59.7073 814.385 56.3653 811.616 Q52.9915 808.847 45.3526 808.847 L16.4842 808.847 L16.4842 802.385 L46.1484 802.385 Q55.4423 802.385 60.1847 807.001 Q64.9272 811.584 64.9272 820.56 Q64.9272 829.567 60.1847 834.182 Q55.4423 838.765 46.1484 838.765 L16.4842 838.765 Z\" fill=\"#000000\" fill-rule=\"evenodd\" fill-opacity=\"1\" /><path clip-path=\"url(#clip760)\" d=\"M41.7242 767.788 Q42.4244 765.719 44.7161 763.777 Q47.0077 761.804 51.0181 759.831 L64.0042 753.306 L64.0042 760.213 L51.8138 766.292 Q47.0395 768.647 45.48 770.875 Q43.9204 773.071 43.9204 776.891 L43.9204 783.893 L64.0042 783.893 L64.0042 790.322 L16.4842 790.322 L16.4842 775.809 Q16.4842 767.661 19.8898 763.65 Q23.2955 759.64 30.1704 759.64 Q34.6582 759.64 37.6183 761.74 Q40.5784 763.809 41.7242 767.788 M21.7677 783.893 L38.6368 783.893 L38.6368 775.809 Q38.6368 771.162 36.5043 768.806 Q34.34 766.419 30.1704 766.419 Q26.0009 766.419 23.9002 768.806 Q21.7677 771.162 21.7677 775.809 L21.7677 783.893 Z\" fill=\"#000000\" fill-rule=\"evenodd\" fill-opacity=\"1\" /><path clip-path=\"url(#clip760)\" d=\"M20.8447 725.742 Q20.8447 732.745 26.0645 736.882 Q31.2844 740.988 40.2919 740.988 Q49.2675 740.988 54.4874 736.882 Q59.7073 732.745 59.7073 725.742 Q59.7073 718.74 54.4874 714.666 Q49.2675 710.56 40.2919 710.56 Q31.2844 710.56 26.0645 714.666 Q20.8447 718.74 20.8447 725.742 M15.6248 725.742 Q15.6248 715.748 22.3406 709.764 Q29.0246 703.781 40.2919 703.781 Q51.5274 703.781 58.2432 709.764 Q64.9272 715.748 64.9272 725.742 Q64.9272 735.768 58.2432 741.784 Q51.5592 747.768 40.2919 747.768 Q29.0246 747.768 22.3406 741.784 Q15.6248 735.768 15.6248 725.742 Z\" fill=\"#000000\" fill-rule=\"evenodd\" fill-opacity=\"1\" /><path clip-path=\"url(#clip760)\" d=\"M20.1444 658.139 L26.9239 658.139 Q23.9002 661.385 22.4043 665.077 Q20.9083 668.737 20.9083 672.875 Q20.9083 681.023 25.9054 685.352 Q30.8707 689.681 40.2919 689.681 Q49.6813 689.681 54.6784 685.352 Q59.6436 681.023 59.6436 672.875 Q59.6436 668.737 58.1477 665.077 Q56.6518 661.385 53.6281 658.139 L60.3439 658.139 Q62.6355 661.512 63.7814 665.3 Q64.9272 669.056 64.9272 673.257 Q64.9272 684.047 58.3387 690.254 Q51.7183 696.46 40.2919 696.46 Q28.8336 696.46 22.2451 690.254 Q15.6248 684.047 15.6248 673.257 Q15.6248 668.992 16.7706 665.236 Q17.8846 661.449 20.1444 658.139 Z\" fill=\"#000000\" fill-rule=\"evenodd\" fill-opacity=\"1\" /><path clip-path=\"url(#clip760)\" d=\"M425.578 16.7545 L425.578 25.383 Q421.446 21.5346 416.747 19.6307 Q412.088 17.7268 406.822 17.7268 Q396.452 17.7268 390.943 24.0867 Q385.433 30.4061 385.433 42.3968 Q385.433 54.3469 390.943 60.7069 Q396.452 67.0263 406.822 67.0263 Q412.088 67.0263 416.747 65.1223 Q421.446 63.2184 425.578 59.3701 L425.578 67.9175 Q421.284 70.8341 416.463 72.2924 Q411.683 73.7508 406.336 73.7508 Q392.603 73.7508 384.704 65.3654 Q376.805 56.9395 376.805 42.3968 Q376.805 27.8135 384.704 19.4281 Q392.603 11.0023 406.336 11.0023 Q411.764 11.0023 416.544 12.4606 Q421.365 13.8784 425.578 16.7545 Z\" fill=\"#000000\" fill-rule=\"evenodd\" fill-opacity=\"1\" /><path clip-path=\"url(#clip760)\" d=\"M458.512 49.7694 Q449.478 49.7694 445.994 51.8354 Q442.511 53.9013 442.511 58.8839 Q442.511 62.8538 445.103 65.2034 Q447.736 67.5124 452.233 67.5124 Q458.431 67.5124 462.158 63.1374 Q465.925 58.7219 465.925 51.4303 L465.925 49.7694 L458.512 49.7694 M473.379 46.6907 L473.379 72.576 L465.925 72.576 L465.925 65.6895 Q463.373 69.8214 459.565 71.8063 Q455.757 73.7508 450.248 73.7508 Q443.28 73.7508 439.148 69.8619 Q435.057 65.9325 435.057 59.3701 Q435.057 51.7138 440.161 47.825 Q445.306 43.9361 455.474 43.9361 L465.925 43.9361 L465.925 43.2069 Q465.925 38.0623 462.522 35.2672 Q459.16 32.4315 453.043 32.4315 Q449.154 32.4315 445.468 33.3632 Q441.781 34.295 438.379 36.1584 L438.379 29.2718 Q442.47 27.692 446.318 26.9223 Q450.167 26.1121 453.813 26.1121 Q463.656 26.1121 468.517 31.2163 Q473.379 36.3204 473.379 46.6907 Z\" fill=\"#000000\" fill-rule=\"evenodd\" fill-opacity=\"1\" /><path clip-path=\"url(#clip760)\" d=\"M487.962 54.671 L487.962 27.2059 L495.415 27.2059 L495.415 54.3874 Q495.415 60.8284 497.927 64.0691 Q500.439 67.2693 505.462 67.2693 Q511.498 67.2693 514.981 63.421 Q518.506 59.5726 518.506 52.9291 L518.506 27.2059 L525.959 27.2059 L525.959 72.576 L518.506 72.576 L518.506 65.6084 Q515.791 69.7404 512.186 71.7658 Q508.621 73.7508 503.882 73.7508 Q496.064 73.7508 492.013 68.8897 Q487.962 64.0286 487.962 54.671 M506.717 26.1121 L506.717 26.1121 Z\" fill=\"#000000\" fill-rule=\"evenodd\" fill-opacity=\"1\" /><path clip-path=\"url(#clip760)\" d=\"M570.236 28.5427 L570.236 35.5912 Q567.076 33.9709 563.673 33.1607 Q560.27 32.3505 556.625 32.3505 Q551.075 32.3505 548.28 34.0519 Q545.525 35.7533 545.525 39.156 Q545.525 41.7486 547.51 43.2475 Q549.495 44.7058 555.49 46.0426 L558.042 46.6097 Q565.982 48.3111 569.304 51.4303 Q572.666 54.509 572.666 60.0587 Q572.666 66.3781 567.643 70.0644 Q562.66 73.7508 553.91 73.7508 Q550.265 73.7508 546.295 73.0216 Q542.365 72.3329 537.99 70.9151 L537.99 63.2184 Q542.122 65.3654 546.133 66.4591 Q550.143 67.5124 554.073 67.5124 Q559.339 67.5124 562.174 65.73 Q565.01 63.9071 565.01 60.6258 Q565.01 57.5877 562.944 55.9673 Q560.919 54.3469 553.992 52.8481 L551.399 52.2405 Q544.472 50.7821 541.393 47.7845 Q538.315 44.7463 538.315 39.4801 Q538.315 33.0797 542.852 29.5959 Q547.389 26.1121 555.733 26.1121 Q559.865 26.1121 563.511 26.7198 Q567.157 27.3274 570.236 28.5427 Z\" fill=\"#000000\" fill-rule=\"evenodd\" fill-opacity=\"1\" /><path clip-path=\"url(#clip760)\" d=\"M605.154 49.7694 Q596.121 49.7694 592.637 51.8354 Q589.153 53.9013 589.153 58.8839 Q589.153 62.8538 591.746 65.2034 Q594.379 67.5124 598.876 67.5124 Q605.073 67.5124 608.8 63.1374 Q612.568 58.7219 612.568 51.4303 L612.568 49.7694 L605.154 49.7694 M620.021 46.6907 L620.021 72.576 L612.568 72.576 L612.568 65.6895 Q610.016 69.8214 606.208 71.8063 Q602.4 73.7508 596.891 73.7508 Q589.923 73.7508 585.791 69.8619 Q581.7 65.9325 581.7 59.3701 Q581.7 51.7138 586.804 47.825 Q591.948 43.9361 602.116 43.9361 L612.568 43.9361 L612.568 43.2069 Q612.568 38.0623 609.165 35.2672 Q605.803 32.4315 599.686 32.4315 Q595.797 32.4315 592.111 33.3632 Q588.424 34.295 585.021 36.1584 L585.021 29.2718 Q589.113 27.692 592.961 26.9223 Q596.81 26.1121 600.455 26.1121 Q610.299 26.1121 615.16 31.2163 Q620.021 36.3204 620.021 46.6907 Z\" fill=\"#000000\" fill-rule=\"evenodd\" fill-opacity=\"1\" /><path clip-path=\"url(#clip760)\" d=\"M635.374 9.54393 L642.828 9.54393 L642.828 72.576 L635.374 72.576 L635.374 9.54393 Z\" fill=\"#000000\" fill-rule=\"evenodd\" fill-opacity=\"1\" /><path clip-path=\"url(#clip760)\" d=\"M658.424 27.2059 L665.877 27.2059 L665.877 72.576 L658.424 72.576 L658.424 27.2059 M658.424 9.54393 L665.877 9.54393 L665.877 18.9825 L658.424 18.9825 L658.424 9.54393 Z\" fill=\"#000000\" fill-rule=\"evenodd\" fill-opacity=\"1\" /><path clip-path=\"url(#clip760)\" d=\"M688.846 14.324 L688.846 27.2059 L704.199 27.2059 L704.199 32.9987 L688.846 32.9987 L688.846 57.6282 Q688.846 63.1779 690.345 64.7578 Q691.884 66.3376 696.543 66.3376 L704.199 66.3376 L704.199 72.576 L696.543 72.576 Q687.914 72.576 684.633 69.3758 Q681.352 66.1351 681.352 57.6282 L681.352 32.9987 L675.883 32.9987 L675.883 27.2059 L681.352 27.2059 L681.352 14.324 L688.846 14.324 Z\" fill=\"#000000\" fill-rule=\"evenodd\" fill-opacity=\"1\" /><path clip-path=\"url(#clip760)\" d=\"M732.879 76.7889 Q729.72 84.8907 726.722 87.3618 Q723.724 89.8329 718.701 89.8329 L712.746 89.8329 L712.746 83.5945 L717.121 83.5945 Q720.2 83.5945 721.901 82.1361 Q723.603 80.6778 725.669 75.2496 L727.006 71.8468 L708.655 27.2059 L716.554 27.2059 L730.732 62.6918 L744.911 27.2059 L752.81 27.2059 L732.879 76.7889 Z\" fill=\"#000000\" fill-rule=\"evenodd\" fill-opacity=\"1\" /><path clip-path=\"url(#clip760)\" d=\"M805.391 72.576 L782.3 12.096 L790.848 12.096 L810.009 63.0159 L829.21 12.096 L837.717 12.096 L814.667 72.576 L805.391 72.576 Z\" fill=\"#000000\" fill-rule=\"evenodd\" fill-opacity=\"1\" /><path clip-path=\"url(#clip760)\" d=\"M882.803 14.0809 L882.803 22.0612 Q878.145 19.8332 874.013 18.7395 Q869.881 17.6457 866.033 17.6457 Q859.349 17.6457 855.703 20.2383 Q852.098 22.8309 852.098 27.611 Q852.098 31.6214 854.488 33.6873 Q856.918 35.7128 863.643 36.9686 L868.585 37.9813 Q877.74 39.7232 882.074 44.1387 Q886.449 48.5136 886.449 55.8863 Q886.449 64.6767 880.535 69.2137 Q874.661 73.7508 863.278 73.7508 Q858.984 73.7508 854.123 72.7785 Q849.302 71.8063 844.117 69.9024 L844.117 61.4765 Q849.1 64.2716 853.88 65.6895 Q858.66 67.1073 863.278 67.1073 Q870.286 67.1073 874.094 64.3527 Q877.902 61.598 877.902 56.4939 Q877.902 52.0379 875.147 49.5264 Q872.433 47.0148 866.195 45.759 L861.212 44.7868 Q852.057 42.9639 847.966 39.075 Q843.874 35.1862 843.874 28.2591 Q843.874 20.2383 849.505 15.6203 Q855.176 11.0023 865.101 11.0023 Q869.354 11.0023 873.77 11.7719 Q878.185 12.5416 882.803 14.0809 Z\" fill=\"#000000\" fill-rule=\"evenodd\" fill-opacity=\"1\" /><path clip-path=\"url(#clip760)\" d=\"M925.581 12.096 L963.821 12.096 L963.821 18.9825 L933.764 18.9825 L933.764 36.8875 L962.566 36.8875 L962.566 43.7741 L933.764 43.7741 L933.764 65.6895 L964.551 65.6895 L964.551 72.576 L925.581 72.576 L925.581 12.096 Z\" fill=\"#000000\" fill-rule=\"evenodd\" fill-opacity=\"1\" /><path clip-path=\"url(#clip760)\" d=\"M1015.39 27.2059 L998.983 49.2833 L1016.24 72.576 L1007.45 72.576 L994.244 54.752 L981.038 72.576 L972.247 72.576 L989.869 48.8377 L973.746 27.2059 L982.537 27.2059 L994.568 43.369 L1006.6 27.2059 L1015.39 27.2059 Z\" fill=\"#000000\" fill-rule=\"evenodd\" fill-opacity=\"1\" /><path clip-path=\"url(#clip760)\" d=\"M1047.39 49.7694 Q1038.36 49.7694 1034.87 51.8354 Q1031.39 53.9013 1031.39 58.8839 Q1031.39 62.8538 1033.98 65.2034 Q1036.62 67.5124 1041.11 67.5124 Q1047.31 67.5124 1051.04 63.1374 Q1054.8 58.7219 1054.8 51.4303 L1054.8 49.7694 L1047.39 49.7694 M1062.26 46.6907 L1062.26 72.576 L1054.8 72.576 L1054.8 65.6895 Q1052.25 69.8214 1048.44 71.8063 Q1044.64 73.7508 1039.13 73.7508 Q1032.16 73.7508 1028.03 69.8619 Q1023.94 65.9325 1023.94 59.3701 Q1023.94 51.7138 1029.04 47.825 Q1034.19 43.9361 1044.35 43.9361 L1054.8 43.9361 L1054.8 43.2069 Q1054.8 38.0623 1051.4 35.2672 Q1048.04 32.4315 1041.92 32.4315 Q1038.03 32.4315 1034.35 33.3632 Q1030.66 34.295 1027.26 36.1584 L1027.26 29.2718 Q1031.35 27.692 1035.2 26.9223 Q1039.05 26.1121 1042.69 26.1121 Q1052.54 26.1121 1057.4 31.2163 Q1062.26 36.3204 1062.26 46.6907 Z\" fill=\"#000000\" fill-rule=\"evenodd\" fill-opacity=\"1\" /><path clip-path=\"url(#clip760)\" d=\"M1110.26 28.9478 L1110.26 35.9153 Q1107.1 34.1734 1103.9 33.3227 Q1100.74 32.4315 1097.5 32.4315 Q1090.25 32.4315 1086.24 37.0496 Q1082.23 41.6271 1082.23 49.9314 Q1082.23 58.2358 1086.24 62.8538 Q1090.25 67.4314 1097.5 67.4314 Q1100.74 67.4314 1103.9 66.5807 Q1107.1 65.6895 1110.26 63.9476 L1110.26 70.8341 Q1107.14 72.2924 1103.78 73.0216 Q1100.46 73.7508 1096.69 73.7508 Q1086.44 73.7508 1080.41 67.3098 Q1074.37 60.8689 1074.37 49.9314 Q1074.37 38.832 1080.45 32.472 Q1086.56 26.1121 1097.18 26.1121 Q1100.62 26.1121 1103.9 26.8413 Q1107.18 27.5299 1110.26 28.9478 Z\" fill=\"#000000\" fill-rule=\"evenodd\" fill-opacity=\"1\" /><path clip-path=\"url(#clip760)\" d=\"M1130.6 14.324 L1130.6 27.2059 L1145.95 27.2059 L1145.95 32.9987 L1130.6 32.9987 L1130.6 57.6282 Q1130.6 63.1779 1132.1 64.7578 Q1133.64 66.3376 1138.29 66.3376 L1145.95 66.3376 L1145.95 72.576 L1138.29 72.576 Q1129.67 72.576 1126.38 69.3758 Q1123.1 66.1351 1123.1 57.6282 L1123.1 32.9987 L1117.63 32.9987 L1117.63 27.2059 L1123.1 27.2059 L1123.1 14.324 L1130.6 14.324 Z\" fill=\"#000000\" fill-rule=\"evenodd\" fill-opacity=\"1\" /><path clip-path=\"url(#clip760)\" d=\"M1202.66 20.1573 L1191.56 50.2555 L1213.8 50.2555 L1202.66 20.1573 M1198.04 12.096 L1207.32 12.096 L1230.37 72.576 L1221.86 72.576 L1216.35 57.061 L1189.09 57.061 L1183.58 72.576 L1174.95 72.576 L1198.04 12.096 Z\" fill=\"#000000\" fill-rule=\"evenodd\" fill-opacity=\"1\" /><path clip-path=\"url(#clip760)\" d=\"M1238.27 12.096 L1246.49 12.096 L1246.49 48.8377 Q1246.49 58.5599 1250.02 62.8538 Q1253.54 67.1073 1261.44 67.1073 Q1269.3 67.1073 1272.82 62.8538 Q1276.35 58.5599 1276.35 48.8377 L1276.35 12.096 L1284.57 12.096 L1284.57 49.8504 Q1284.57 61.6791 1278.7 67.7149 Q1272.86 73.7508 1261.44 73.7508 Q1249.98 73.7508 1244.1 67.7149 Q1238.27 61.6791 1238.27 49.8504 L1238.27 12.096 Z\" fill=\"#000000\" fill-rule=\"evenodd\" fill-opacity=\"1\" /><path clip-path=\"url(#clip760)\" d=\"M1328.61 44.2197 Q1331.24 45.1109 1333.71 48.0275 Q1336.22 50.9442 1338.73 56.0483 L1347.04 72.576 L1338.25 72.576 L1330.51 57.061 Q1327.51 50.9847 1324.68 48.9997 Q1321.88 47.0148 1317.02 47.0148 L1308.11 47.0148 L1308.11 72.576 L1299.93 72.576 L1299.93 12.096 L1318.4 12.096 Q1328.77 12.096 1333.87 16.4305 Q1338.98 20.7649 1338.98 29.5149 Q1338.98 35.2267 1336.3 38.994 Q1333.67 42.7613 1328.61 44.2197 M1308.11 18.8205 L1308.11 40.2903 L1318.4 40.2903 Q1324.31 40.2903 1327.31 37.5762 Q1330.35 34.8216 1330.35 29.5149 Q1330.35 24.2082 1327.31 21.5346 Q1324.31 18.8205 1318.4 18.8205 L1308.11 18.8205 Z\" fill=\"#000000\" fill-rule=\"evenodd\" fill-opacity=\"1\" /><path clip-path=\"url(#clip760)\" d=\"M1382.12 17.6457 Q1373.21 17.6457 1367.94 24.2892 Q1362.71 30.9327 1362.71 42.3968 Q1362.71 53.8203 1367.94 60.4638 Q1373.21 67.1073 1382.12 67.1073 Q1391.03 67.1073 1396.22 60.4638 Q1401.44 53.8203 1401.44 42.3968 Q1401.44 30.9327 1396.22 24.2892 Q1391.03 17.6457 1382.12 17.6457 M1382.12 11.0023 Q1394.84 11.0023 1402.45 19.5497 Q1410.07 28.0566 1410.07 42.3968 Q1410.07 56.6965 1402.45 65.2439 Q1394.84 73.7508 1382.12 73.7508 Q1369.36 73.7508 1361.7 65.2439 Q1354.09 56.737 1354.09 42.3968 Q1354.09 28.0566 1361.7 19.5497 Q1369.36 11.0023 1382.12 11.0023 Z\" fill=\"#000000\" fill-rule=\"evenodd\" fill-opacity=\"1\" /><path clip-path=\"url(#clip760)\" d=\"M1468.16 16.7545 L1468.16 25.383 Q1464.03 21.5346 1459.33 19.6307 Q1454.67 17.7268 1449.4 17.7268 Q1439.03 17.7268 1433.52 24.0867 Q1428.01 30.4061 1428.01 42.3968 Q1428.01 54.3469 1433.52 60.7069 Q1439.03 67.0263 1449.4 67.0263 Q1454.67 67.0263 1459.33 65.1223 Q1464.03 63.2184 1468.16 59.3701 L1468.16 67.9175 Q1463.87 70.8341 1459.04 72.2924 Q1454.26 73.7508 1448.92 73.7508 Q1435.18 73.7508 1427.29 65.3654 Q1419.39 56.9395 1419.39 42.3968 Q1419.39 27.8135 1427.29 19.4281 Q1435.18 11.0023 1448.92 11.0023 Q1454.35 11.0023 1459.13 12.4606 Q1463.95 13.8784 1468.16 16.7545 Z\" fill=\"#000000\" fill-rule=\"evenodd\" fill-opacity=\"1\" /><path clip-path=\"url(#clip760)\" d=\"M1506.85 27.2059 L1514.3 27.2059 L1514.3 72.576 L1506.85 72.576 L1506.85 27.2059 M1506.85 9.54393 L1514.3 9.54393 L1514.3 18.9825 L1506.85 18.9825 L1506.85 9.54393 Z\" fill=\"#000000\" fill-rule=\"evenodd\" fill-opacity=\"1\" /><path clip-path=\"url(#clip760)\" d=\"M1567.61 45.1919 L1567.61 72.576 L1560.16 72.576 L1560.16 45.4349 Q1560.16 38.994 1557.64 35.7938 Q1555.13 32.5936 1550.11 32.5936 Q1544.07 32.5936 1540.59 36.4419 Q1537.11 40.2903 1537.11 46.9338 L1537.11 72.576 L1529.61 72.576 L1529.61 27.2059 L1537.11 27.2059 L1537.11 34.2544 Q1539.78 30.163 1543.38 28.1376 Q1547.03 26.1121 1551.77 26.1121 Q1559.59 26.1121 1563.6 30.9732 Q1567.61 35.7938 1567.61 45.1919 Z\" fill=\"#000000\" fill-rule=\"evenodd\" fill-opacity=\"1\" /><path clip-path=\"url(#clip760)\" d=\"M1631.82 9.54393 L1631.82 15.7418 L1624.69 15.7418 Q1620.68 15.7418 1619.1 17.3622 Q1617.56 18.9825 1617.56 23.1955 L1617.56 27.2059 L1629.83 27.2059 L1629.83 32.9987 L1617.56 32.9987 L1617.56 72.576 L1610.06 72.576 L1610.06 32.9987 L1602.93 32.9987 L1602.93 27.2059 L1610.06 27.2059 L1610.06 24.0462 Q1610.06 16.471 1613.59 13.0277 Q1617.11 9.54393 1624.77 9.54393 L1631.82 9.54393 Z\" fill=\"#000000\" fill-rule=\"evenodd\" fill-opacity=\"1\" /><path clip-path=\"url(#clip760)\" d=\"M1637.28 54.671 L1637.28 27.2059 L1644.74 27.2059 L1644.74 54.3874 Q1644.74 60.8284 1647.25 64.0691 Q1649.76 67.2693 1654.78 67.2693 Q1660.82 67.2693 1664.3 63.421 Q1667.83 59.5726 1667.83 52.9291 L1667.83 27.2059 L1675.28 27.2059 L1675.28 72.576 L1667.83 72.576 L1667.83 65.6084 Q1665.11 69.7404 1661.51 71.7658 Q1657.94 73.7508 1653.2 73.7508 Q1645.39 73.7508 1641.34 68.8897 Q1637.28 64.0286 1637.28 54.671 M1656.04 26.1121 L1656.04 26.1121 Z\" fill=\"#000000\" fill-rule=\"evenodd\" fill-opacity=\"1\" /><path clip-path=\"url(#clip760)\" d=\"M1728.35 45.1919 L1728.35 72.576 L1720.89 72.576 L1720.89 45.4349 Q1720.89 38.994 1718.38 35.7938 Q1715.87 32.5936 1710.85 32.5936 Q1704.81 32.5936 1701.33 36.4419 Q1697.85 40.2903 1697.85 46.9338 L1697.85 72.576 L1690.35 72.576 L1690.35 27.2059 L1697.85 27.2059 L1697.85 34.2544 Q1700.52 30.163 1704.12 28.1376 Q1707.77 26.1121 1712.51 26.1121 Q1720.33 26.1121 1724.34 30.9732 Q1728.35 35.7938 1728.35 45.1919 Z\" fill=\"#000000\" fill-rule=\"evenodd\" fill-opacity=\"1\" /><path clip-path=\"url(#clip760)\" d=\"M1775.87 28.9478 L1775.87 35.9153 Q1772.71 34.1734 1769.51 33.3227 Q1766.35 32.4315 1763.11 32.4315 Q1755.85 32.4315 1751.84 37.0496 Q1747.83 41.6271 1747.83 49.9314 Q1747.83 58.2358 1751.84 62.8538 Q1755.85 67.4314 1763.11 67.4314 Q1766.35 67.4314 1769.51 66.5807 Q1772.71 65.6895 1775.87 63.9476 L1775.87 70.8341 Q1772.75 72.2924 1769.38 73.0216 Q1766.06 73.7508 1762.3 73.7508 Q1752.05 73.7508 1746.01 67.3098 Q1739.97 60.8689 1739.97 49.9314 Q1739.97 38.832 1746.05 32.472 Q1752.17 26.1121 1762.78 26.1121 Q1766.22 26.1121 1769.51 26.8413 Q1772.79 27.5299 1775.87 28.9478 Z\" fill=\"#000000\" fill-rule=\"evenodd\" fill-opacity=\"1\" /><path clip-path=\"url(#clip760)\" d=\"M1796.2 14.324 L1796.2 27.2059 L1811.55 27.2059 L1811.55 32.9987 L1796.2 32.9987 L1796.2 57.6282 Q1796.2 63.1779 1797.7 64.7578 Q1799.24 66.3376 1803.9 66.3376 L1811.55 66.3376 L1811.55 72.576 L1803.9 72.576 Q1795.27 72.576 1791.99 69.3758 Q1788.71 66.1351 1788.71 57.6282 L1788.71 32.9987 L1783.24 32.9987 L1783.24 27.2059 L1788.71 27.2059 L1788.71 14.324 L1796.2 14.324 Z\" fill=\"#000000\" fill-rule=\"evenodd\" fill-opacity=\"1\" /><path clip-path=\"url(#clip760)\" d=\"M1821.36 27.2059 L1828.81 27.2059 L1828.81 72.576 L1821.36 72.576 L1821.36 27.2059 M1821.36 9.54393 L1828.81 9.54393 L1828.81 18.9825 L1821.36 18.9825 L1821.36 9.54393 Z\" fill=\"#000000\" fill-rule=\"evenodd\" fill-opacity=\"1\" /><path clip-path=\"url(#clip760)\" d=\"M1861.99 32.4315 Q1855.99 32.4315 1852.51 37.1306 Q1849.03 41.7891 1849.03 49.9314 Q1849.03 58.0738 1852.47 62.7728 Q1855.95 67.4314 1861.99 67.4314 Q1867.94 67.4314 1871.43 62.7323 Q1874.91 58.0333 1874.91 49.9314 Q1874.91 41.8701 1871.43 37.1711 Q1867.94 32.4315 1861.99 32.4315 M1861.99 26.1121 Q1871.71 26.1121 1877.26 32.4315 Q1882.81 38.7509 1882.81 49.9314 Q1882.81 61.0714 1877.26 67.4314 Q1871.71 73.7508 1861.99 73.7508 Q1852.23 73.7508 1846.68 67.4314 Q1841.17 61.0714 1841.17 49.9314 Q1841.17 38.7509 1846.68 32.4315 Q1852.23 26.1121 1861.99 26.1121 Z\" fill=\"#000000\" fill-rule=\"evenodd\" fill-opacity=\"1\" /><path clip-path=\"url(#clip760)\" d=\"M1932.88 45.1919 L1932.88 72.576 L1925.43 72.576 L1925.43 45.4349 Q1925.43 38.994 1922.91 35.7938 Q1920.4 32.5936 1915.38 32.5936 Q1909.34 32.5936 1905.86 36.4419 Q1902.38 40.2903 1902.38 46.9338 L1902.38 72.576 L1894.88 72.576 L1894.88 27.2059 L1902.38 27.2059 L1902.38 34.2544 Q1905.05 30.163 1908.65 28.1376 Q1912.3 26.1121 1917.04 26.1121 Q1924.86 26.1121 1928.87 30.9732 Q1932.88 35.7938 1932.88 45.1919 Z\" fill=\"#000000\" fill-rule=\"evenodd\" fill-opacity=\"1\" /><path clip-path=\"url(#clip760)\" d=\"M1991.7 32.4315 Q1985.7 32.4315 1982.22 37.1306 Q1978.74 41.7891 1978.74 49.9314 Q1978.74 58.0738 1982.18 62.7728 Q1985.66 67.4314 1991.7 67.4314 Q1997.65 67.4314 2001.14 62.7323 Q2004.62 58.0333 2004.62 49.9314 Q2004.62 41.8701 2001.14 37.1711 Q1997.65 32.4315 1991.7 32.4315 M1991.7 26.1121 Q2001.42 26.1121 2006.97 32.4315 Q2012.52 38.7509 2012.52 49.9314 Q2012.52 61.0714 2006.97 67.4314 Q2001.42 73.7508 1991.7 73.7508 Q1981.94 73.7508 1976.39 67.4314 Q1970.88 61.0714 1970.88 49.9314 Q1970.88 38.7509 1976.39 32.4315 Q1981.94 26.1121 1991.7 26.1121 Z\" fill=\"#000000\" fill-rule=\"evenodd\" fill-opacity=\"1\" /><path clip-path=\"url(#clip760)\" d=\"M2047.84 9.54393 L2047.84 15.7418 L2040.71 15.7418 Q2036.7 15.7418 2035.12 17.3622 Q2033.58 18.9825 2033.58 23.1955 L2033.58 27.2059 L2045.86 27.2059 L2045.86 32.9987 L2033.58 32.9987 L2033.58 72.576 L2026.09 72.576 L2026.09 32.9987 L2018.96 32.9987 L2018.96 27.2059 L2026.09 27.2059 L2026.09 24.0462 Q2026.09 16.471 2029.61 13.0277 Q2033.14 9.54393 2040.79 9.54393 L2047.84 9.54393 Z\" fill=\"#000000\" fill-rule=\"evenodd\" fill-opacity=\"1\" /><path clip-path=\"url(#clip760)\" d=\"M2087.83 14.324 L2087.83 27.2059 L2103.18 27.2059 L2103.18 32.9987 L2087.83 32.9987 L2087.83 57.6282 Q2087.83 63.1779 2089.32 64.7578 Q2090.86 66.3376 2095.52 66.3376 L2103.18 66.3376 L2103.18 72.576 L2095.52 72.576 Q2086.89 72.576 2083.61 69.3758 Q2080.33 66.1351 2080.33 57.6282 L2080.33 32.9987 L2074.86 32.9987 L2074.86 27.2059 L2080.33 27.2059 L2080.33 14.324 L2087.83 14.324 Z\" fill=\"#000000\" fill-rule=\"evenodd\" fill-opacity=\"1\" /><path clip-path=\"url(#clip760)\" d=\"M2112.98 27.2059 L2120.44 27.2059 L2120.44 72.576 L2112.98 72.576 L2112.98 27.2059 M2112.98 9.54393 L2120.44 9.54393 L2120.44 18.9825 L2112.98 18.9825 L2112.98 9.54393 Z\" fill=\"#000000\" fill-rule=\"evenodd\" fill-opacity=\"1\" /><path clip-path=\"url(#clip760)\" d=\"M2171.36 35.9153 Q2174.15 30.8922 2178.04 28.5022 Q2181.93 26.1121 2187.19 26.1121 Q2194.28 26.1121 2198.13 31.0947 Q2201.98 36.0368 2201.98 45.1919 L2201.98 72.576 L2194.49 72.576 L2194.49 45.4349 Q2194.49 38.913 2192.18 35.7533 Q2189.87 32.5936 2185.13 32.5936 Q2179.34 32.5936 2175.97 36.4419 Q2172.61 40.2903 2172.61 46.9338 L2172.61 72.576 L2165.12 72.576 L2165.12 45.4349 Q2165.12 38.8725 2162.81 35.7533 Q2160.5 32.5936 2155.68 32.5936 Q2149.97 32.5936 2146.6 36.4824 Q2143.24 40.3308 2143.24 46.9338 L2143.24 72.576 L2135.75 72.576 L2135.75 27.2059 L2143.24 27.2059 L2143.24 34.2544 Q2145.79 30.082 2149.36 28.0971 Q2152.92 26.1121 2157.83 26.1121 Q2162.77 26.1121 2166.21 28.6237 Q2169.69 31.1352 2171.36 35.9153 Z\" fill=\"#000000\" fill-rule=\"evenodd\" fill-opacity=\"1\" /><path clip-path=\"url(#clip760)\" d=\"M2255.65 48.0275 L2255.65 51.6733 L2221.38 51.6733 Q2221.87 59.3701 2226 63.421 Q2230.17 67.4314 2237.59 67.4314 Q2241.88 67.4314 2245.89 66.3781 Q2249.94 65.3249 2253.91 63.2184 L2253.91 70.267 Q2249.9 71.9684 2245.69 72.8596 Q2241.48 73.7508 2237.14 73.7508 Q2226.29 73.7508 2219.93 67.4314 Q2213.61 61.1119 2213.61 50.3365 Q2213.61 39.1965 2219.6 32.6746 Q2225.64 26.1121 2235.85 26.1121 Q2245 26.1121 2250.31 32.0264 Q2255.65 37.9003 2255.65 48.0275 M2248.2 45.84 Q2248.12 39.7232 2244.76 36.0774 Q2241.44 32.4315 2235.93 32.4315 Q2229.69 32.4315 2225.92 35.9558 Q2222.19 39.4801 2221.63 45.8805 L2248.2 45.84 Z\" fill=\"#000000\" fill-rule=\"evenodd\" fill-opacity=\"1\" /><polyline clip-path=\"url(#clip762)\" style=\"stroke:#009af9; stroke-linecap:butt; stroke-linejoin:round; stroke-width:4; stroke-opacity:1; fill:none\" points=\"\n",
       "  338.375,939.083 441.307,558.766 544.239,449.839 647.171,341.573 750.103,357.265 853.036,288.857 955.968,234.148 1058.9,228.746 1161.83,219.96 1264.76,228.962 \n",
       "  1367.7,206.952 1470.63,196.44 1573.56,196.44 1676.49,196.347 1779.42,186.059 1882.36,182.629 1985.29,182.629 2088.22,167.84 2191.15,161.115 2294.08,160.256 \n",
       "  \n",
       "  \"/>\n",
       "<polyline clip-path=\"url(#clip762)\" style=\"stroke:#e26f46; stroke-linecap:butt; stroke-linejoin:round; stroke-width:4; stroke-opacity:1; fill:none\" points=\"\n",
       "  338.375,1060.41 441.307,634.696 544.239,584.16 647.171,435.725 750.103,443.571 853.036,376.266 955.968,279.188 1058.9,247.1 1161.83,250.853 1264.76,267.27 \n",
       "  1367.7,214.695 1470.63,203.605 1573.56,217.936 1676.49,220.354 1779.42,223.784 1882.36,223.784 1985.29,230.643 2088.22,218.278 2191.15,214.916 2294.08,203.173 \n",
       "  \n",
       "  \"/>\n",
       "<polyline clip-path=\"url(#clip762)\" style=\"stroke:#3da44d; stroke-linecap:butt; stroke-linejoin:round; stroke-width:4; stroke-opacity:1; fill:none\" points=\"\n",
       "  338.375,1060.41 441.307,558.766 544.239,459.434 647.171,310.189 750.103,325.881 853.036,276.37 955.968,219.134 1058.9,192.04 1161.83,347.948 1264.76,518.399 \n",
       "  1367.7,729.589 1470.63,1059.86 1573.56,1049.11 1676.49,1386.4 1779.42,1379.54 1882.36,1372.68 1985.29,1369.25 2088.22,1317.84 2191.15,1216.96 2294.08,1074.71 \n",
       "  \n",
       "  \"/>\n",
       "<path clip-path=\"url(#clip760)\" d=\"\n",
       "M1827.85 374.156 L2283.65 374.156 L2283.65 166.796 L1827.85 166.796  Z\n",
       "  \" fill=\"#ffffff\" fill-rule=\"evenodd\" fill-opacity=\"1\"/>\n",
       "<polyline clip-path=\"url(#clip760)\" style=\"stroke:#000000; stroke-linecap:butt; stroke-linejoin:round; stroke-width:4; stroke-opacity:1; fill:none\" points=\"\n",
       "  1827.85,374.156 2283.65,374.156 2283.65,166.796 1827.85,166.796 1827.85,374.156 \n",
       "  \"/>\n",
       "<polyline clip-path=\"url(#clip760)\" style=\"stroke:#009af9; stroke-linecap:butt; stroke-linejoin:round; stroke-width:4; stroke-opacity:1; fill:none\" points=\"\n",
       "  1850.89,218.636 1989.09,218.636 \n",
       "  \"/>\n",
       "<path clip-path=\"url(#clip760)\" d=\"M2027.96 205.962 L2021.62 223.161 L2034.32 223.161 L2027.96 205.962 M2025.32 201.356 L2030.62 201.356 L2043.79 235.916 L2038.93 235.916 L2035.78 227.05 L2020.2 227.05 L2017.06 235.916 L2012.12 235.916 L2025.32 201.356 Z\" fill=\"#000000\" fill-rule=\"evenodd\" fill-opacity=\"1\" /><path clip-path=\"url(#clip760)\" d=\"M2048.3 201.356 L2053 201.356 L2053 222.351 Q2053 227.907 2055.02 230.36 Q2057.03 232.791 2061.55 232.791 Q2066.04 232.791 2068.05 230.36 Q2070.06 227.907 2070.06 222.351 L2070.06 201.356 L2074.76 201.356 L2074.76 222.93 Q2074.76 229.689 2071.41 233.138 Q2068.07 236.587 2061.55 236.587 Q2054.99 236.587 2051.64 233.138 Q2048.3 229.689 2048.3 222.93 L2048.3 201.356 Z\" fill=\"#000000\" fill-rule=\"evenodd\" fill-opacity=\"1\" /><path clip-path=\"url(#clip760)\" d=\"M2099.93 219.712 Q2101.43 220.221 2102.84 221.888 Q2104.28 223.555 2105.71 226.471 L2110.46 235.916 L2105.43 235.916 L2101.01 227.05 Q2099.3 223.578 2097.68 222.444 Q2096.08 221.309 2093.3 221.309 L2088.21 221.309 L2088.21 235.916 L2083.54 235.916 L2083.54 201.356 L2094.09 201.356 Q2100.02 201.356 2102.93 203.833 Q2105.85 206.309 2105.85 211.309 Q2105.85 214.573 2104.32 216.726 Q2102.82 218.879 2099.93 219.712 M2088.21 205.198 L2088.21 217.467 L2094.09 217.467 Q2097.47 217.467 2099.18 215.916 Q2100.92 214.342 2100.92 211.309 Q2100.92 208.277 2099.18 206.749 Q2097.47 205.198 2094.09 205.198 L2088.21 205.198 Z\" fill=\"#000000\" fill-rule=\"evenodd\" fill-opacity=\"1\" /><path clip-path=\"url(#clip760)\" d=\"M2130.5 204.527 Q2125.41 204.527 2122.4 208.323 Q2119.42 212.12 2119.42 218.67 Q2119.42 225.198 2122.4 228.994 Q2125.41 232.791 2130.5 232.791 Q2135.6 232.791 2138.56 228.994 Q2141.55 225.198 2141.55 218.67 Q2141.55 212.12 2138.56 208.323 Q2135.6 204.527 2130.5 204.527 M2130.5 200.731 Q2137.77 200.731 2142.12 205.615 Q2146.48 210.476 2146.48 218.67 Q2146.48 226.842 2142.12 231.726 Q2137.77 236.587 2130.5 236.587 Q2123.21 236.587 2118.84 231.726 Q2114.49 226.865 2114.49 218.67 Q2114.49 210.476 2118.84 205.615 Q2123.21 200.731 2130.5 200.731 Z\" fill=\"#000000\" fill-rule=\"evenodd\" fill-opacity=\"1\" /><path clip-path=\"url(#clip760)\" d=\"M2179.67 204.018 L2179.67 208.948 Q2177.31 206.749 2174.62 205.661 Q2171.96 204.573 2168.95 204.573 Q2163.03 204.573 2159.88 208.208 Q2156.73 211.819 2156.73 218.67 Q2156.73 225.499 2159.88 229.133 Q2163.03 232.744 2168.95 232.744 Q2171.96 232.744 2174.62 231.656 Q2177.31 230.569 2179.67 228.369 L2179.67 233.254 Q2177.22 234.92 2174.46 235.754 Q2171.73 236.587 2168.67 236.587 Q2160.83 236.587 2156.31 231.795 Q2151.8 226.981 2151.8 218.67 Q2151.8 210.337 2156.31 205.546 Q2160.83 200.731 2168.67 200.731 Q2171.78 200.731 2174.51 201.564 Q2177.26 202.374 2179.67 204.018 Z\" fill=\"#000000\" fill-rule=\"evenodd\" fill-opacity=\"1\" /><polyline clip-path=\"url(#clip760)\" style=\"stroke:#e26f46; stroke-linecap:butt; stroke-linejoin:round; stroke-width:4; stroke-opacity:1; fill:none\" points=\"\n",
       "  1850.89,270.476 1989.09,270.476 \n",
       "  \"/>\n",
       "<path clip-path=\"url(#clip760)\" d=\"M2027.96 257.802 L2021.62 275.001 L2034.32 275.001 L2027.96 257.802 M2025.32 253.196 L2030.62 253.196 L2043.79 287.756 L2038.93 287.756 L2035.78 278.89 L2020.2 278.89 L2017.06 287.756 L2012.12 287.756 L2025.32 253.196 Z\" fill=\"#000000\" fill-rule=\"evenodd\" fill-opacity=\"1\" /><path clip-path=\"url(#clip760)\" d=\"M2048.3 253.196 L2053 253.196 L2053 274.191 Q2053 279.747 2055.02 282.2 Q2057.03 284.631 2061.55 284.631 Q2066.04 284.631 2068.05 282.2 Q2070.06 279.747 2070.06 274.191 L2070.06 253.196 L2074.76 253.196 L2074.76 274.77 Q2074.76 281.529 2071.41 284.978 Q2068.07 288.427 2061.55 288.427 Q2054.99 288.427 2051.64 284.978 Q2048.3 281.529 2048.3 274.77 L2048.3 253.196 Z\" fill=\"#000000\" fill-rule=\"evenodd\" fill-opacity=\"1\" /><path clip-path=\"url(#clip760)\" d=\"M2080.87 261.83 L2085.13 261.83 L2090.46 282.061 L2095.76 261.83 L2100.78 261.83 L2106.11 282.061 L2111.41 261.83 L2115.67 261.83 L2108.88 287.756 L2103.86 287.756 L2098.28 266.506 L2092.68 287.756 L2087.66 287.756 L2080.87 261.83 Z\" fill=\"#000000\" fill-rule=\"evenodd\" fill-opacity=\"1\" /><path clip-path=\"url(#clip760)\" d=\"M2144.3 273.728 L2144.3 275.811 L2124.72 275.811 Q2124.99 280.209 2127.36 282.524 Q2129.74 284.816 2133.98 284.816 Q2136.43 284.816 2138.72 284.214 Q2141.04 283.612 2143.3 282.409 L2143.3 286.436 Q2141.01 287.408 2138.61 287.918 Q2136.2 288.427 2133.72 288.427 Q2127.52 288.427 2123.88 284.816 Q2120.27 281.205 2120.27 275.047 Q2120.27 268.682 2123.7 264.955 Q2127.15 261.205 2132.98 261.205 Q2138.21 261.205 2141.24 264.585 Q2144.3 267.941 2144.3 273.728 M2140.04 272.478 Q2139.99 268.983 2138.07 266.899 Q2136.17 264.816 2133.03 264.816 Q2129.46 264.816 2127.31 266.83 Q2125.18 268.844 2124.86 272.501 L2140.04 272.478 Z\" fill=\"#000000\" fill-rule=\"evenodd\" fill-opacity=\"1\" /><path clip-path=\"url(#clip760)\" d=\"M2151.29 261.83 L2155.55 261.83 L2155.55 287.756 L2151.29 287.756 L2151.29 261.83 M2151.29 251.737 L2155.55 251.737 L2155.55 257.131 L2151.29 257.131 L2151.29 251.737 Z\" fill=\"#000000\" fill-rule=\"evenodd\" fill-opacity=\"1\" /><path clip-path=\"url(#clip760)\" d=\"M2181.52 274.492 Q2181.52 269.862 2179.6 267.316 Q2177.7 264.77 2174.25 264.77 Q2170.83 264.77 2168.91 267.316 Q2167.01 269.862 2167.01 274.492 Q2167.01 279.098 2168.91 281.645 Q2170.83 284.191 2174.25 284.191 Q2177.7 284.191 2179.6 281.645 Q2181.52 279.098 2181.52 274.492 M2185.78 284.538 Q2185.78 291.158 2182.84 294.376 Q2179.9 297.617 2173.84 297.617 Q2171.59 297.617 2169.6 297.27 Q2167.61 296.945 2165.73 296.251 L2165.73 292.108 Q2167.61 293.126 2169.44 293.612 Q2171.27 294.098 2173.17 294.098 Q2177.36 294.098 2179.44 291.899 Q2181.52 289.723 2181.52 285.302 L2181.52 283.196 Q2180.2 285.487 2178.14 286.621 Q2176.08 287.756 2173.21 287.756 Q2168.44 287.756 2165.53 284.121 Q2162.61 280.487 2162.61 274.492 Q2162.61 268.473 2165.53 264.839 Q2168.44 261.205 2173.21 261.205 Q2176.08 261.205 2178.14 262.339 Q2180.2 263.473 2181.52 265.765 L2181.52 261.83 L2185.78 261.83 L2185.78 284.538 Z\" fill=\"#000000\" fill-rule=\"evenodd\" fill-opacity=\"1\" /><path clip-path=\"url(#clip760)\" d=\"M2216.1 272.108 L2216.1 287.756 L2211.85 287.756 L2211.85 272.247 Q2211.85 268.566 2210.41 266.737 Q2208.98 264.909 2206.11 264.909 Q2202.66 264.909 2200.67 267.108 Q2198.67 269.307 2198.67 273.103 L2198.67 287.756 L2194.39 287.756 L2194.39 251.737 L2198.67 251.737 L2198.67 265.858 Q2200.2 263.52 2202.26 262.362 Q2204.35 261.205 2207.05 261.205 Q2211.52 261.205 2213.81 263.983 Q2216.1 266.737 2216.1 272.108 Z\" fill=\"#000000\" fill-rule=\"evenodd\" fill-opacity=\"1\" /><path clip-path=\"url(#clip760)\" d=\"M2228.81 254.469 L2228.81 261.83 L2237.59 261.83 L2237.59 265.14 L2228.81 265.14 L2228.81 279.214 Q2228.81 282.385 2229.67 283.288 Q2230.55 284.191 2233.21 284.191 L2237.59 284.191 L2237.59 287.756 L2233.21 287.756 Q2228.28 287.756 2226.41 285.927 Q2224.53 284.075 2224.53 279.214 L2224.53 265.14 L2221.41 265.14 L2221.41 261.83 L2224.53 261.83 L2224.53 254.469 L2228.81 254.469 Z\" fill=\"#000000\" fill-rule=\"evenodd\" fill-opacity=\"1\" /><polyline clip-path=\"url(#clip760)\" style=\"stroke:#3da44d; stroke-linecap:butt; stroke-linejoin:round; stroke-width:4; stroke-opacity:1; fill:none\" points=\"\n",
       "  1850.89,322.316 1989.09,322.316 \n",
       "  \"/>\n",
       "<path clip-path=\"url(#clip760)\" d=\"M2027.96 309.642 L2021.62 326.841 L2034.32 326.841 L2027.96 309.642 M2025.32 305.036 L2030.62 305.036 L2043.79 339.596 L2038.93 339.596 L2035.78 330.73 L2020.2 330.73 L2017.06 339.596 L2012.12 339.596 L2025.32 305.036 Z\" fill=\"#000000\" fill-rule=\"evenodd\" fill-opacity=\"1\" /><path clip-path=\"url(#clip760)\" d=\"M2048.3 305.036 L2053 305.036 L2053 326.031 Q2053 331.587 2055.02 334.04 Q2057.03 336.471 2061.55 336.471 Q2066.04 336.471 2068.05 334.04 Q2070.06 331.587 2070.06 326.031 L2070.06 305.036 L2074.76 305.036 L2074.76 326.61 Q2074.76 333.369 2071.41 336.818 Q2068.07 340.267 2061.55 340.267 Q2054.99 340.267 2051.64 336.818 Q2048.3 333.369 2048.3 326.61 L2048.3 305.036 Z\" fill=\"#000000\" fill-rule=\"evenodd\" fill-opacity=\"1\" /><path clip-path=\"url(#clip760)\" d=\"M2105.53 325.568 L2105.53 327.651 L2085.94 327.651 Q2086.22 332.049 2088.58 334.364 Q2090.97 336.656 2095.2 336.656 Q2097.66 336.656 2099.95 336.054 Q2102.26 335.452 2104.53 334.249 L2104.53 338.276 Q2102.24 339.248 2099.83 339.758 Q2097.43 340.267 2094.95 340.267 Q2088.74 340.267 2085.11 336.656 Q2081.5 333.045 2081.5 326.887 Q2081.5 320.522 2084.93 316.795 Q2088.37 313.045 2094.21 313.045 Q2099.44 313.045 2102.47 316.425 Q2105.53 319.781 2105.53 325.568 M2101.27 324.318 Q2101.22 320.823 2099.3 318.739 Q2097.4 316.656 2094.25 316.656 Q2090.69 316.656 2088.54 318.67 Q2086.41 320.684 2086.08 324.341 L2101.27 324.318 Z\" fill=\"#000000\" fill-rule=\"evenodd\" fill-opacity=\"1\" /><path clip-path=\"url(#clip760)\" d=\"M2133.24 313.67 L2123.86 326.286 L2133.72 339.596 L2128.7 339.596 L2121.15 329.411 L2113.61 339.596 L2108.58 339.596 L2118.65 326.031 L2109.44 313.67 L2114.46 313.67 L2121.34 322.906 L2128.21 313.67 L2133.24 313.67 Z\" fill=\"#000000\" fill-rule=\"evenodd\" fill-opacity=\"1\" /><path clip-path=\"url(#clip760)\" d=\"M2151.52 326.563 Q2146.36 326.563 2144.37 327.744 Q2142.38 328.924 2142.38 331.772 Q2142.38 334.04 2143.86 335.383 Q2145.36 336.702 2147.93 336.702 Q2151.48 336.702 2153.61 334.202 Q2155.76 331.679 2155.76 327.512 L2155.76 326.563 L2151.52 326.563 M2160.02 324.804 L2160.02 339.596 L2155.76 339.596 L2155.76 335.661 Q2154.3 338.022 2152.12 339.156 Q2149.95 340.267 2146.8 340.267 Q2142.82 340.267 2140.46 338.045 Q2138.12 335.799 2138.12 332.049 Q2138.12 327.674 2141.04 325.452 Q2143.98 323.23 2149.79 323.23 L2155.76 323.23 L2155.76 322.813 Q2155.76 319.874 2153.81 318.276 Q2151.89 316.656 2148.4 316.656 Q2146.17 316.656 2144.07 317.188 Q2141.96 317.721 2140.02 318.786 L2140.02 314.85 Q2142.36 313.948 2144.55 313.508 Q2146.75 313.045 2148.84 313.045 Q2154.46 313.045 2157.24 315.962 Q2160.02 318.878 2160.02 324.804 Z\" fill=\"#000000\" fill-rule=\"evenodd\" fill-opacity=\"1\" /><path clip-path=\"url(#clip760)\" d=\"M2187.45 314.665 L2187.45 318.647 Q2185.64 317.651 2183.81 317.165 Q2182.01 316.656 2180.16 316.656 Q2176.01 316.656 2173.72 319.295 Q2171.43 321.911 2171.43 326.656 Q2171.43 331.401 2173.72 334.04 Q2176.01 336.656 2180.16 336.656 Q2182.01 336.656 2183.81 336.17 Q2185.64 335.661 2187.45 334.665 L2187.45 338.6 Q2185.67 339.434 2183.74 339.85 Q2181.85 340.267 2179.69 340.267 Q2173.84 340.267 2170.39 336.586 Q2166.94 332.906 2166.94 326.656 Q2166.94 320.313 2170.41 316.679 Q2173.91 313.045 2179.97 313.045 Q2181.94 313.045 2183.81 313.462 Q2185.69 313.855 2187.45 314.665 Z\" fill=\"#000000\" fill-rule=\"evenodd\" fill-opacity=\"1\" /><path clip-path=\"url(#clip760)\" d=\"M2199.07 306.309 L2199.07 313.67 L2207.84 313.67 L2207.84 316.98 L2199.07 316.98 L2199.07 331.054 Q2199.07 334.225 2199.92 335.128 Q2200.8 336.031 2203.47 336.031 L2207.84 336.031 L2207.84 339.596 L2203.47 339.596 Q2198.54 339.596 2196.66 337.767 Q2194.79 335.915 2194.79 331.054 L2194.79 316.98 L2191.66 316.98 L2191.66 313.67 L2194.79 313.67 L2194.79 306.309 L2199.07 306.309 Z\" fill=\"#000000\" fill-rule=\"evenodd\" fill-opacity=\"1\" /></svg>\n"
      ]
     },
     "execution_count": 99,
     "metadata": {},
     "output_type": "execute_result"
    }
   ],
   "source": [
    "#AUROC curves\n",
    "\n",
    "T = Int(T)\n",
    "AU_curve=zeros(T)\n",
    "AU_weight=zeros(T)\n",
    "AU_exact=zeros(T)\n",
    "for t = 1:T\n",
    "    epidemic_risk=zeros(N)\n",
    "    true_risk=zeros(N)\n",
    "    weight_risk = zeros(N)\n",
    "    for i=1:N\n",
    "       epidemic_risk[i] = marginal(i,t,statscau)\n",
    "       true_risk[i] = p_sib[i,t]   \n",
    "       weight_risk[i] = marginalweight(i,t,statsw, w)\n",
    "    end\n",
    "    xt = xtrue .< t\n",
    "    AU_curve[t] = AUROC(ROC(xt, epidemic_risk))\n",
    "    AU_weight[t] = AUROC(ROC(xt, weight_risk))\n",
    "    AU_exact[t] = AUROC(ROC(xt, true_risk))\n",
    "end\n",
    "\n",
    "plot(LinRange(1,T,T),AU_curve, label=\"AUROC\", title=\"Causality VS Exact AUROC in function of time\")\n",
    "plot!(LinRange(1,T,T),AU_weight, label=\"AUweight\")\n",
    "plot!(LinRange(1,T,T),AU_exact, label=\"AUexact\")\n",
    "xlabel!(\"t\")\n",
    "ylabel!(\"AUROC\")"
   ]
  },
  {
   "cell_type": "code",
   "execution_count": null,
   "metadata": {},
   "outputs": [],
   "source": []
  }
 ],
 "metadata": {
  "kernelspec": {
   "display_name": "Julia 1.7.0-rc2",
   "language": "julia",
   "name": "julia-1.7"
  },
  "language_info": {
   "file_extension": ".jl",
   "mimetype": "application/julia",
   "name": "julia",
   "version": "1.7.0"
  }
 },
 "nbformat": 4,
 "nbformat_minor": 4
}
