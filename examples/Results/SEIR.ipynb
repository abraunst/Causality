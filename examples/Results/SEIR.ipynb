{
 "cells": [
  {
   "cell_type": "code",
   "execution_count": 1,
   "metadata": {
    "collapsed": true,
    "jupyter": {
     "outputs_hidden": true
    }
   },
   "outputs": [
    {
     "name": "stderr",
     "output_type": "stream",
     "text": [
      "┌ Info: Precompiling Causality [943c2df0-3341-4665-8895-8aff0dd63d80]\n",
      "└ @ Base loading.jl:1423\n",
      "\u001b[33m\u001b[1m┌ \u001b[22m\u001b[39m\u001b[33m\u001b[1mWarning: \u001b[22m\u001b[39mPackage CRlibm does not have Libdl in its dependencies:\n",
      "\u001b[33m\u001b[1m│ \u001b[22m\u001b[39m- If you have CRlibm checked out for development and have\n",
      "\u001b[33m\u001b[1m│ \u001b[22m\u001b[39m  added Libdl as a dependency but haven't updated your primary\n",
      "\u001b[33m\u001b[1m│ \u001b[22m\u001b[39m  environment's manifest file, try `Pkg.resolve()`.\n",
      "\u001b[33m\u001b[1m│ \u001b[22m\u001b[39m- Otherwise you may need to report an issue with CRlibm\n",
      "\u001b[33m\u001b[1m└ \u001b[22m\u001b[39mLoading Libdl into CRlibm from project dependency, future warnings for CRlibm are suppressed.\n",
      "\u001b[33m\u001b[1m┌ \u001b[22m\u001b[39m\u001b[33m\u001b[1mWarning: \u001b[22m\u001b[39mThe call to compilecache failed to create a usable precompiled cache file for IntervalArithmetic [d1acc4aa-44c8-5952-acd4-ba5d80a2a253]\n",
      "\u001b[33m\u001b[1m│ \u001b[22m\u001b[39m  exception = Required dependency CRlibm [96374032-68de-5a5b-8d9e-752f78720389] failed to load from a cache file.\n",
      "\u001b[33m\u001b[1m└ \u001b[22m\u001b[39m\u001b[90m@ Base loading.jl:1132\u001b[39m\n",
      "\u001b[33m\u001b[1m┌ \u001b[22m\u001b[39m\u001b[33m\u001b[1mWarning: \u001b[22m\u001b[39mPackage CRlibm does not have Libdl in its dependencies:\n",
      "\u001b[33m\u001b[1m│ \u001b[22m\u001b[39m- If you have CRlibm checked out for development and have\n",
      "\u001b[33m\u001b[1m│ \u001b[22m\u001b[39m  added Libdl as a dependency but haven't updated your primary\n",
      "\u001b[33m\u001b[1m│ \u001b[22m\u001b[39m  environment's manifest file, try `Pkg.resolve()`.\n",
      "\u001b[33m\u001b[1m│ \u001b[22m\u001b[39m- Otherwise you may need to report an issue with CRlibm\n",
      "\u001b[33m\u001b[1m└ \u001b[22m\u001b[39mLoading Libdl into CRlibm from project dependency, future warnings for CRlibm are suppressed.\n",
      "WARNING: Method definition union(IntervalArithmetic.Interval{T} where T<:Real, IntervalArithmetic.Interval{T} where T<:Real) in module IntervalArithmetic at /home/students/mmariani/.julia/packages/IntervalArithmetic/UR6Qe/src/intervals/set_operations.jl:137 overwritten in module IntervalUnionArithmetic at /home/students/mmariani/.julia/packages/IntervalUnionArithmetic/4sZoD/src/interval_unions.jl:52.\n",
      "  ** incremental compilation may be fatally broken for this module **\n",
      "\n",
      "WARNING: Method definition \\(IntervalUnionArithmetic.IntervalUnion{T} where T<:Real, IntervalUnionArithmetic.IntervalUnion{T} where T<:Real) in module IntervalUnionArithmetic at /home/students/mmariani/.julia/packages/IntervalUnionArithmetic/4sZoD/src/set_operations.jl:77 overwritten at /home/students/mmariani/.julia/packages/IntervalUnionArithmetic/4sZoD/src/set_operations.jl:79.\n",
      "  ** incremental compilation may be fatally broken for this module **\n",
      "\n",
      "\u001b[33m\u001b[1m┌ \u001b[22m\u001b[39m\u001b[33m\u001b[1mWarning: \u001b[22m\u001b[39mThe call to compilecache failed to create a usable precompiled cache file for IntervalUnionArithmetic [bbd57523-681a-4e6b-a941-369dddcfdba8]\n",
      "\u001b[33m\u001b[1m│ \u001b[22m\u001b[39m  exception = Required dependency CRlibm [96374032-68de-5a5b-8d9e-752f78720389] failed to load from a cache file.\n",
      "\u001b[33m\u001b[1m└ \u001b[22m\u001b[39m\u001b[90m@ Base loading.jl:1132\u001b[39m\n",
      "\u001b[33m\u001b[1m┌ \u001b[22m\u001b[39m\u001b[33m\u001b[1mWarning: \u001b[22m\u001b[39mPackage CRlibm does not have Libdl in its dependencies:\n",
      "\u001b[33m\u001b[1m│ \u001b[22m\u001b[39m- If you have CRlibm checked out for development and have\n",
      "\u001b[33m\u001b[1m│ \u001b[22m\u001b[39m  added Libdl as a dependency but haven't updated your primary\n",
      "\u001b[33m\u001b[1m│ \u001b[22m\u001b[39m  environment's manifest file, try `Pkg.resolve()`.\n",
      "\u001b[33m\u001b[1m│ \u001b[22m\u001b[39m- Otherwise you may need to report an issue with CRlibm\n",
      "\u001b[33m\u001b[1m└ \u001b[22m\u001b[39mLoading Libdl into CRlibm from project dependency, future warnings for CRlibm are suppressed.\n",
      "\u001b[33m\u001b[1m┌ \u001b[22m\u001b[39m\u001b[33m\u001b[1mWarning: \u001b[22m\u001b[39mThe call to compilecache failed to create a usable precompiled cache file for IntervalArithmetic [d1acc4aa-44c8-5952-acd4-ba5d80a2a253]\n",
      "\u001b[33m\u001b[1m│ \u001b[22m\u001b[39m  exception = Required dependency CRlibm [96374032-68de-5a5b-8d9e-752f78720389] failed to load from a cache file.\n",
      "\u001b[33m\u001b[1m└ \u001b[22m\u001b[39m\u001b[90m@ Base loading.jl:1132\u001b[39m\n",
      "\u001b[33m\u001b[1m┌ \u001b[22m\u001b[39m\u001b[33m\u001b[1mWarning: \u001b[22m\u001b[39mPackage CRlibm does not have Libdl in its dependencies:\n",
      "\u001b[33m\u001b[1m│ \u001b[22m\u001b[39m- If you have CRlibm checked out for development and have\n",
      "\u001b[33m\u001b[1m│ \u001b[22m\u001b[39m  added Libdl as a dependency but haven't updated your primary\n",
      "\u001b[33m\u001b[1m│ \u001b[22m\u001b[39m  environment's manifest file, try `Pkg.resolve()`.\n",
      "\u001b[33m\u001b[1m│ \u001b[22m\u001b[39m- Otherwise you may need to report an issue with CRlibm\n",
      "\u001b[33m\u001b[1m└ \u001b[22m\u001b[39mLoading Libdl into CRlibm from project dependency, future warnings for CRlibm are suppressed.\n",
      "WARNING: Method definition union(IntervalArithmetic.Interval{T} where T<:Real, IntervalArithmetic.Interval{T} where T<:Real) in module IntervalArithmetic at /home/students/mmariani/.julia/packages/IntervalArithmetic/UR6Qe/src/intervals/set_operations.jl:137 overwritten in module IntervalUnionArithmetic at /home/students/mmariani/.julia/packages/IntervalUnionArithmetic/4sZoD/src/interval_unions.jl:52.\n",
      "  ** incremental compilation may be fatally broken for this module **\n",
      "\n",
      "WARNING: Method definition \\(IntervalUnionArithmetic.IntervalUnion{T} where T<:Real, IntervalUnionArithmetic.IntervalUnion{T} where T<:Real) in module IntervalUnionArithmetic at /home/students/mmariani/.julia/packages/IntervalUnionArithmetic/4sZoD/src/set_operations.jl:77 overwritten at /home/students/mmariani/.julia/packages/IntervalUnionArithmetic/4sZoD/src/set_operations.jl:79.\n",
      "  ** incremental compilation may be fatally broken for this module **\n",
      "\n",
      "WARNING: Method definition nparams(Type{Causality.MaskedRate{R}}) where {R} in module Causality at /home/students/mmariani/git/Causality/src/rates.jl:109 overwritten at /home/students/mmariani/git/Causality/src/rates.jl:129.\n",
      "  ** incremental compilation may be fatally broken for this module **\n",
      "\n",
      "┌ Warning: The call to compilecache failed to create a usable precompiled cache file for Causality [943c2df0-3341-4665-8895-8aff0dd63d80]\n",
      "│   exception = ErrorException(\"Required dependency CRlibm [96374032-68de-5a5b-8d9e-752f78720389] failed to load from a cache file.\")\n",
      "└ @ Base loading.jl:1132\n",
      "┌ Info: Precompiling IntervalUnionArithmetic [bbd57523-681a-4e6b-a941-369dddcfdba8]\n",
      "└ @ Base loading.jl:1423\n",
      "\u001b[33m\u001b[1m┌ \u001b[22m\u001b[39m\u001b[33m\u001b[1mWarning: \u001b[22m\u001b[39mPackage CRlibm does not have Libdl in its dependencies:\n",
      "\u001b[33m\u001b[1m│ \u001b[22m\u001b[39m- If you have CRlibm checked out for development and have\n",
      "\u001b[33m\u001b[1m│ \u001b[22m\u001b[39m  added Libdl as a dependency but haven't updated your primary\n",
      "\u001b[33m\u001b[1m│ \u001b[22m\u001b[39m  environment's manifest file, try `Pkg.resolve()`.\n",
      "\u001b[33m\u001b[1m│ \u001b[22m\u001b[39m- Otherwise you may need to report an issue with CRlibm\n",
      "\u001b[33m\u001b[1m└ \u001b[22m\u001b[39mLoading Libdl into CRlibm from project dependency, future warnings for CRlibm are suppressed.\n",
      "\u001b[33m\u001b[1m┌ \u001b[22m\u001b[39m\u001b[33m\u001b[1mWarning: \u001b[22m\u001b[39mThe call to compilecache failed to create a usable precompiled cache file for IntervalArithmetic [d1acc4aa-44c8-5952-acd4-ba5d80a2a253]\n",
      "\u001b[33m\u001b[1m│ \u001b[22m\u001b[39m  exception = Required dependency CRlibm [96374032-68de-5a5b-8d9e-752f78720389] failed to load from a cache file.\n",
      "\u001b[33m\u001b[1m└ \u001b[22m\u001b[39m\u001b[90m@ Base loading.jl:1132\u001b[39m\n",
      "\u001b[33m\u001b[1m┌ \u001b[22m\u001b[39m\u001b[33m\u001b[1mWarning: \u001b[22m\u001b[39mPackage CRlibm does not have Libdl in its dependencies:\n",
      "\u001b[33m\u001b[1m│ \u001b[22m\u001b[39m- If you have CRlibm checked out for development and have\n",
      "\u001b[33m\u001b[1m│ \u001b[22m\u001b[39m  added Libdl as a dependency but haven't updated your primary\n",
      "\u001b[33m\u001b[1m│ \u001b[22m\u001b[39m  environment's manifest file, try `Pkg.resolve()`.\n",
      "\u001b[33m\u001b[1m│ \u001b[22m\u001b[39m- Otherwise you may need to report an issue with CRlibm\n",
      "\u001b[33m\u001b[1m└ \u001b[22m\u001b[39mLoading Libdl into CRlibm from project dependency, future warnings for CRlibm are suppressed.\n",
      "WARNING: Method definition union(IntervalArithmetic.Interval{T} where T<:Real, IntervalArithmetic.Interval{T} where T<:Real) in module IntervalArithmetic at /home/students/mmariani/.julia/packages/IntervalArithmetic/UR6Qe/src/intervals/set_operations.jl:137 overwritten in module IntervalUnionArithmetic at /home/students/mmariani/.julia/packages/IntervalUnionArithmetic/4sZoD/src/interval_unions.jl:52.\n",
      "  ** incremental compilation may be fatally broken for this module **\n",
      "\n",
      "WARNING: Method definition \\(IntervalUnionArithmetic.IntervalUnion{T} where T<:Real, IntervalUnionArithmetic.IntervalUnion{T} where T<:Real) in module IntervalUnionArithmetic at /home/students/mmariani/.julia/packages/IntervalUnionArithmetic/4sZoD/src/set_operations.jl:77 overwritten at /home/students/mmariani/.julia/packages/IntervalUnionArithmetic/4sZoD/src/set_operations.jl:79.\n",
      "  ** incremental compilation may be fatally broken for this module **\n",
      "\n",
      "┌ Warning: The call to compilecache failed to create a usable precompiled cache file for IntervalUnionArithmetic [bbd57523-681a-4e6b-a941-369dddcfdba8]\n",
      "│   exception = ErrorException(\"Required dependency CRlibm [96374032-68de-5a5b-8d9e-752f78720389] failed to load from a cache file.\")\n",
      "└ @ Base loading.jl:1132\n",
      "┌ Info: Precompiling IntervalArithmetic [d1acc4aa-44c8-5952-acd4-ba5d80a2a253]\n",
      "└ @ Base loading.jl:1423\n",
      "\u001b[33m\u001b[1m┌ \u001b[22m\u001b[39m\u001b[33m\u001b[1mWarning: \u001b[22m\u001b[39mPackage CRlibm does not have Libdl in its dependencies:\n",
      "\u001b[33m\u001b[1m│ \u001b[22m\u001b[39m- If you have CRlibm checked out for development and have\n",
      "\u001b[33m\u001b[1m│ \u001b[22m\u001b[39m  added Libdl as a dependency but haven't updated your primary\n",
      "\u001b[33m\u001b[1m│ \u001b[22m\u001b[39m  environment's manifest file, try `Pkg.resolve()`.\n",
      "\u001b[33m\u001b[1m│ \u001b[22m\u001b[39m- Otherwise you may need to report an issue with CRlibm\n",
      "\u001b[33m\u001b[1m└ \u001b[22m\u001b[39mLoading Libdl into CRlibm from project dependency, future warnings for CRlibm are suppressed.\n",
      "┌ Warning: The call to compilecache failed to create a usable precompiled cache file for IntervalArithmetic [d1acc4aa-44c8-5952-acd4-ba5d80a2a253]\n",
      "│   exception = ErrorException(\"Required dependency CRlibm [96374032-68de-5a5b-8d9e-752f78720389] failed to load from a cache file.\")\n",
      "└ @ Base loading.jl:1132\n",
      "┌ Info: Precompiling CRlibm [96374032-68de-5a5b-8d9e-752f78720389]\n",
      "└ @ Base loading.jl:1423\n",
      "\u001b[33m\u001b[1m┌ \u001b[22m\u001b[39m\u001b[33m\u001b[1mWarning: \u001b[22m\u001b[39mPackage CRlibm does not have Libdl in its dependencies:\n",
      "\u001b[33m\u001b[1m│ \u001b[22m\u001b[39m- If you have CRlibm checked out for development and have\n",
      "\u001b[33m\u001b[1m│ \u001b[22m\u001b[39m  added Libdl as a dependency but haven't updated your primary\n",
      "\u001b[33m\u001b[1m│ \u001b[22m\u001b[39m  environment's manifest file, try `Pkg.resolve()`.\n",
      "\u001b[33m\u001b[1m│ \u001b[22m\u001b[39m- Otherwise you may need to report an issue with CRlibm\n",
      "\u001b[33m\u001b[1m└ \u001b[22m\u001b[39mLoading Libdl into CRlibm from project dependency, future warnings for CRlibm are suppressed.\n"
     ]
    }
   ],
   "source": [
    "using Causality, IntervalUnionArithmetic"
   ]
  },
  {
   "cell_type": "markdown",
   "metadata": {},
   "source": [
    "# Generation of Epidemics"
   ]
  },
  {
   "cell_type": "code",
   "execution_count": 2,
   "metadata": {},
   "outputs": [
    {
     "data": {
      "text/plain": [
       "200×200 SparseArrays.SparseMatrixCSC{IndexedGraphs.NullNumber, Int64} with 1676 stored entries:\n",
       "⢴⡳⢀⠁⡀⠀⣥⣀⡌⠁⣀⡈⠠⠀⠀⠐⠬⠈⠄⢸⠌⢄⠠⡥⣡⠁⠔⡄⢲⠈⠈⡆⡀⢠⠀⠀⠄⠠⠀⡀\n",
       "⠄⠐⡀⠈⠀⡈⢞⠁⢩⠜⠂⠄⢌⠢⢀⡠⠔⠁⠐⠀⠄⢑⡁⠀⢄⠀⠌⢀⠂⢰⠄⠈⠃⠆⠙⠅⠩⠀⠡⠊\n",
       "⠀⠈⡀⠠⠊⠄⠈⡁⠁⢄⠈⢈⡤⠈⠡⠸⡈⠙⠚⠳⠔⠁⡐⠓⠈⠆⠂⠀⠔⠁⠮⠥⡘⠍⡀⡑⢁⠈⡰⢊\n",
       "⠁⢻⠞⠑⠆⠠⡀⠈⠞⠠⢂⠄⢐⠡⠂⠂⠘⢌⠑⡈⡀⣋⡊⢃⡱⡀⠅⡁⠚⠎⠈⠂⣅⢈⠔⢈⡢⠂⣌⠐\n",
       "⠆⠉⣃⠖⠁⢄⠚⡁⠐⠀⠀⡐⢐⣀⠪⢢⠈⡩⠈⠠⠤⢁⠂⠁⠚⠔⠀⠀⠌⢐⠨⠡⡀⡈⣁⠀⢁⠊⣠⢈\n",
       "⡀⠸⠈⠄⡂⢀⠈⠔⢀⠠⠊⠀⠐⠤⠂⢣⠘⠘⢘⠢⠀⠚⡀⠐⡳⠚⡀⠃⠅⢄⠕⠂⠓⠘⠢⢀⠀⠐⠠⠐\n",
       "⠀⠂⠢⡑⡀⠋⠔⡐⠐⢰⠐⡄⠀⡠⠒⠊⠁⠀⡀⠀⠊⠠⣂⠀⢐⠀⠉⠀⠀⡠⡀⠁⠄⠅⣠⠁⠊⢀⢢⡄\n",
       "⢀⠀⠀⡰⣁⡂⠨⠀⠪⣂⠬⣀⡸⠀⠔⠁⠘⠱⢜⢀⡀⠠⠠⠤⡬⠪⣀⠍⡂⠀⡜⣂⠀⡩⠃⠀⠀⠝⢐⠘\n",
       "⡂⠃⠔⠁⣆⠈⡒⢄⡆⡠⣒⠀⠁⠀⢖⡀⢠⠒⣒⢑⢉⢆⠐⢆⣠⣀⡣⡦⢒⠄⢒⡢⣀⢕⠦⢅⠬⢘⢀⢐\n",
       "⣀⣁⠐⠀⢾⡀⡑⠠⠂⡀⠲⡐⠀⠈⠒⢑⢜⢘⡀⠈⢈⡄⢨⣅⢂⠄⠃⡀⡊⠀⣕⣂⢀⠚⠒⢀⠀⠰⢀⠔\n",
       "⠂⢅⢄⢁⠔⠁⡤⢨⠄⢃⣠⠀⠊⡀⠀⡈⠣⢔⠂⠴⠀⠀⠠⠤⡀⢄⠂⡀⠡⢁⠑⠉⡰⣢⠀⠐⠕⠀⠑⠈\n",
       "⠄⡦⠁⠈⢴⠈⠮⢈⠌⠀⢀⠈⠈⠘⠀⡆⠰⢄⠆⢶⠀⡆⢠⡲⣠⡀⠄⡆⠠⠁⠦⠄⡀⢀⠀⢁⠄⡂⠀⠆\n",
       "⠅⠚⠀⠑⠢⠄⠑⠪⢚⠄⣹⠊⠐⠐⡢⡋⠀⢺⠈⠔⠀⢌⠀⠺⣮⠛⠁⡣⠔⠊⠠⠀⠡⢨⠡⠠⠀⣂⠠⠀\n",
       "⠐⠥⠂⢁⠈⠀⠅⠡⠀⠀⠤⠈⠃⠀⡄⠜⠩⡮⠉⠠⠈⠠⠠⠥⠥⡠⠀⡠⠈⠀⠠⠒⠅⡤⢅⠋⠒⢅⠁⠀\n",
       "⡘⠒⢈⣀⠔⠁⡺⠄⢂⢁⠁⢅⠀⡠⠈⠈⠘⠔⠊⠈⠅⢂⠄⠂⡰⠁⠂⠀⠀⠄⠉⠋⡀⡐⠐⠄⠀⠐⠌⠠\n",
       "⠢⠤⡀⠁⠎⡇⠢⠀⠆⡂⠱⠁⠄⠈⠲⢩⠸⡰⠱⢹⡕⠀⠈⠇⠀⠂⢠⠂⡧⠀⡤⡫⠀⠴⠆⡀⣀⠰⠀⠱\n",
       "⠀⣈⠩⠄⡖⠌⡁⢙⡀⠨⣙⠀⠄⠅⡄⡠⢄⢜⣠⠐⠰⣪⠀⢈⡁⣂⠁⡥⢀⠨⢀⡄⣄⠙⠁⠐⠈⢐⠐⢅\n",
       "⠀⠀⠗⠄⢄⠨⡐⢁⠁⠘⠈⢂⠄⠚⠉⠀⠌⢇⠘⢀⢀⠀⠄⢀⠁⡂⡥⠑⠐⠄⠈⠡⢁⠀⠊⢀⠬⠜⢑⠘\n",
       "⠀⡁⠃⠂⡁⠐⠨⠊⡡⠐⢀⠀⠊⢀⣄⠄⣂⢃⢀⡀⠑⠁⠠⠡⠠⢠⠜⢄⢀⠀⢀⡘⢂⢀⣂⠇⠊⠀⠇⢐\n",
       "⠀⠠⡡⠂⡰⢊⢂⠙⡀⢚⢀⠂⠈⠶⣐⠐⢀⢐⢀⠔⡑⠀⠠⠄⠀⠂⠁⠀⠂⡁⢄⡀⠔⢄⣑⠐⢉⢁⡀⠈"
      ]
     },
     "execution_count": 2,
     "metadata": {},
     "output_type": "execute_result"
    }
   ],
   "source": [
    "T, N = 50., 200\n",
    "#G = Causality.makeBarabasi(N,k=2)\n",
    "#ρ = 3/N\n",
    "#G = Causality.makeGNP(N,ρ)\n",
    "G = Causality.makeProximity(N,3/N)\n",
    "G.A "
   ]
  },
  {
   "cell_type": "code",
   "execution_count": 3,
   "metadata": {},
   "outputs": [
    {
     "data": {
      "text/plain": [
       "getpar (generic function with 1 method)"
      ]
     },
     "execution_count": 3,
     "metadata": {},
     "output_type": "execute_result"
    }
   ],
   "source": [
    "getpargen(pseed, autoinf::GaussianRate, inf_out::GaussianRate, lat_gen::GaussianRate, rec_gen::GaussianRate) = \n",
    "    [pseed autoinf.a autoinf.b autoinf.c inf_out.a inf_out.b inf_out.c lat_gen.a lat_gen.b lat_gen.c rec_gen.a rec_gen.b rec_gen.c]\n",
    "\n",
    "getpar(pseed,autoinf::GaussianRate,inf_in::GaussianRate, latency::GaussianRate, recov::GaussianRate) = \n",
    "    [fill(pseed, 1, N);\n",
    "     fill(autoinf.a, 1, N); fill(autoinf.b, 1, N); fill(autoinf.c, 1, N);\n",
    "     fill(inf_in.a,   1, N); fill(inf_in.b, 1, N); fill(inf_in.c, 1, N);\n",
    "     fill(latency.a, 1, N); fill(latency.b, 1, N); fill(latency.c, 1, N);\n",
    "     fill(recov.a, 1, N); fill(recov.b, 1, N); fill(recov.c, 1, N)\n",
    "    ]"
   ]
  },
  {
   "cell_type": "code",
   "execution_count": 4,
   "metadata": {},
   "outputs": [],
   "source": [
    "#Initialize generation parameters\n",
    "ε = 1e-10\n",
    "λ = 0.5\n",
    "\n",
    "pseed = 1/N \n",
    "autoinf = GaussianRate(ε, T/2, 1/ε)\n",
    "inf_in = GaussianRate(1.0, T/2, 1/ε)\n",
    "latency = GaussianRate(1., T/2, 1/ε)\n",
    "recov = GaussianRate(1., T/2, 1/ε)\n",
    "\n",
    "inf_out = GaussianRate(λ, T/2, T)\n",
    "l_delay = GaussianRate(0.27, 3., sqrt(3.56))\n",
    "r_delay = GaussianRate(0.23, 16., sqrt(6.))\n",
    "\n",
    "θp = getpar(pseed, autoinf, inf_in, latency, recov);\n",
    "θpgen = getpargen(pseed, autoinf, inf_out, l_delay, r_delay);"
   ]
  },
  {
   "cell_type": "code",
   "execution_count": 5,
   "metadata": {},
   "outputs": [],
   "source": [
    "#Initialize min/max boundaies\n",
    "pseed_min = ε\n",
    "pseed_max = 1-ε\n",
    "rate_min = GaussianRate(ε  ,  -T,   ε)\n",
    "rate_max = GaussianRate(1/ε  ,  2T,   1/ε)\n",
    "\n",
    "θmin = getpar(pseed_min , rate_min, rate_min, rate_min, rate_min);\n",
    "θmax = getpar(pseed_max , rate_max, rate_max, rate_max, rate_max);\n",
    "\n",
    "\n",
    "rate_min = GaussianRate(ε  ,  -T,   ε)\n",
    "rate_max = GaussianRate(1/ε  ,  T,   T)\n",
    "\n",
    "θgenmin = getpargen(pseed_min, rate_min, rate_min, rate_min, rate_min);\n",
    "θgenmax = getpargen(pseed_max, rate_max, rate_max, rate_max, rate_max);"
   ]
  },
  {
   "cell_type": "code",
   "execution_count": 6,
   "metadata": {},
   "outputs": [
    {
     "data": {
      "text/plain": [
       "GenerativeSEIR{GaussianRate, GaussianRate, GaussianRate, GaussianRate}"
      ]
     },
     "execution_count": 6,
     "metadata": {},
     "output_type": "execute_result"
    }
   ],
   "source": [
    "const Igauss = GaussianInferentialSEIR\n",
    "const Igen = GenerativeSEIR{GaussianRate,GaussianRate,GaussianRate,GaussianRate} "
   ]
  },
  {
   "cell_type": "code",
   "execution_count": 13,
   "metadata": {},
   "outputs": [
    {
     "data": {
      "text/plain": [
       "19"
      ]
     },
     "execution_count": 13,
     "metadata": {},
     "output_type": "execute_result"
    }
   ],
   "source": [
    "Mp = StochasticModel(Igen, T, θp, G, θpgen);\n",
    "sample! = Sampler(Mp);\n",
    "\n",
    "xtrue = zeros(N,3)\n",
    "sample!(xtrue)\n",
    "nobs, p = Int(round(N/4)), 1e-6\n",
    "O = [(ti = T*(1+rand())/2; i =rand(1:N) ; (i,xtrue[i,1] < ti < xtrue[i,3],ti,p)) for r=1:nobs]\n",
    "length([o for o in O if o[2]==1])"
   ]
  },
  {
   "cell_type": "markdown",
   "metadata": {},
   "source": [
    "## Inference with Causality (SEIR)"
   ]
  },
  {
   "cell_type": "code",
   "execution_count": 32,
   "metadata": {},
   "outputs": [],
   "source": [
    "#Softened model\n",
    "T = Float64(T)\n",
    "ε = 2e-3\n",
    "autoinf = GaussianRate(ε, T/2, 1/ε)\n",
    "\n",
    "θp2gen = getpargen(pseed, autoinf, inf_out, l_delay, r_delay);\n",
    "\n",
    "θp2 = getpar(pseed, autoinf, inf_in, latency, recov);\n",
    "Mp2 = StochasticModel(Igen, T, θp2, G, θp2gen);"
   ]
  },
  {
   "cell_type": "code",
   "execution_count": 33,
   "metadata": {},
   "outputs": [],
   "source": [
    "#Initialize the parameters to learn\n",
    "\n",
    "autoinf = GaussianRate(1/N, T/2, 2T)\n",
    "inf_in = GaussianRate(1.0, T/2, 2T)\n",
    "latency = GaussianRate(1., T/2, 2T)\n",
    "recov = GaussianRate(1., T/2, 2T)\n",
    "\n",
    "\n",
    "θ = getpar(pseed, autoinf, inf_in,  latency, recov);\n",
    "M = StochasticModel(Igauss, T, θ, G, θp2gen);"
   ]
  },
  {
   "cell_type": "code",
   "execution_count": 34,
   "metadata": {},
   "outputs": [
    {
     "name": "stderr",
     "output_type": "stream",
     "text": [
      "\u001b[32mProgress: 100%|█████████████████████████████████████████| Time: 0:06:45\u001b[39m\n",
      "\u001b[34m  F:  70.72927953369779\u001b[39m\n"
     ]
    }
   ],
   "source": [
    "using ProgressMeter\n",
    "ProgressMeter.ijulia_behavior(:clear)\n",
    "descend!(Mp2, O; M=M, numsamples=2000, numiters=100, \n",
    "         θmin=θmin, θmax=θmax,θgenmin=θgenmin, θgenmax=θgenmax, descender=SignDescender(0.1),\n",
    "         hyperdescender=SignDescender(0.),learnhyper=1);\n",
    "descend!(Mp2, O; M=M, numsamples=2000, numiters=100, \n",
    "         θmin=θmin, θmax=θmax,θgenmin=θgenmin, θgenmax=θgenmax, descender=SignDescender(0.02),\n",
    "         hyperdescender=SignDescender(0.),learnhyper=1);"
   ]
  },
  {
   "cell_type": "code",
   "execution_count": 35,
   "metadata": {},
   "outputs": [
    {
     "name": "stderr",
     "output_type": "stream",
     "text": [
      "\u001b[32mProgress: 100%|█████████████████████████████████████████| Time: 0:00:09\u001b[39m\n"
     ]
    }
   ],
   "source": [
    "statscauSEIR = prior(M);"
   ]
  },
  {
   "cell_type": "markdown",
   "metadata": {},
   "source": [
    "## Inference with Causality (SIR)"
   ]
  },
  {
   "cell_type": "code",
   "execution_count": 20,
   "metadata": {},
   "outputs": [],
   "source": [
    "#Softened model\n",
    "T = Float64(T)\n",
    "ε = 2e-3\n",
    "autoinf = GaussianRate(ε, T/2, 1/ε)\n",
    "l_delay = GaussianRate(100., 0.1, 10.)\n",
    "\n",
    "θp2gen = getpargen(pseed, autoinf, inf_out, l_delay, r_delay);\n",
    "\n",
    "θp2 = getpar(pseed, autoinf, inf_in, latency, recov);\n",
    "Mp2 = StochasticModel(Igen, T, θp2, G, θp2gen);"
   ]
  },
  {
   "cell_type": "code",
   "execution_count": 21,
   "metadata": {},
   "outputs": [],
   "source": [
    "#Initialize the parameters to learn\n",
    "\n",
    "autoinf = GaussianRate(1/N, T/2, 2T)\n",
    "inf_in = GaussianRate(1.0, T/2, 2T)\n",
    "latency = GaussianRate(1., T/2, 2T)\n",
    "recov = GaussianRate(1., T/2, 2T)\n",
    "\n",
    "\n",
    "θ = getpar(pseed, autoinf, inf_in,  latency, recov);\n",
    "M = StochasticModel(Igauss, T, θ, G, θp2gen);"
   ]
  },
  {
   "cell_type": "code",
   "execution_count": 22,
   "metadata": {},
   "outputs": [
    {
     "name": "stderr",
     "output_type": "stream",
     "text": [
      "\u001b[32mProgress: 100%|█████████████████████████████████████████| Time: 0:06:24\u001b[39m\n",
      "\u001b[34m  F:  73.12731023538952\u001b[39m\n"
     ]
    }
   ],
   "source": [
    "using ProgressMeter\n",
    "ProgressMeter.ijulia_behavior(:clear)\n",
    "descend!(Mp2, O; M=M, numsamples=2000, numiters=100, \n",
    "         θmin=θmin, θmax=θmax,θgenmin=θgenmin, θgenmax=θgenmax, descender=SignDescender(0.1),\n",
    "         hyperdescender=SignDescender(0.1),learnhyper=1);\n",
    "descend!(Mp2, O; M=M, numsamples=2000, numiters=100, \n",
    "         θmin=θmin, θmax=θmax,θgenmin=θgenmin, θgenmax=θgenmax, descender=SignDescender(0.02),\n",
    "         hyperdescender=SignDescender(0.02),learnhyper=1);"
   ]
  },
  {
   "cell_type": "code",
   "execution_count": 23,
   "metadata": {},
   "outputs": [
    {
     "name": "stderr",
     "output_type": "stream",
     "text": [
      "\u001b[32mProgress: 100%|█████████████████████████████████████████| Time: 0:00:09\u001b[39m\n"
     ]
    }
   ],
   "source": [
    "statscauSIR = prior(M);"
   ]
  },
  {
   "cell_type": "markdown",
   "metadata": {},
   "source": [
    "## Marginals and ROC curve"
   ]
  },
  {
   "cell_type": "raw",
   "metadata": {
    "jupyter": {
     "source_hidden": true
    }
   },
   "source": [
    "using Plots\n",
    "state = 1\n",
    "pl = map(22:41) do k\n",
    "    p = plot()\n",
    "    bar!(p, 0:M.T/20:M.T, histo((@view statscau[:, k, state]), up=M.T), alpha=0.5, xlims=(0,M.T+0.5), bins=20, label=\"cau\", legend=false);\n",
    "    bar!(p, 0:M.T/20:M.T, histo((@view stats[:, k, state]), up=M.T),    alpha=0.5, xlims=(0,M.T+0.5), bins=20, label=\"true\", legend=false);\n",
    "end;\n",
    "savefig(\"marginals.pdf\")\n",
    "plot(pl..., size=(800,600))"
   ]
  },
  {
   "cell_type": "code",
   "execution_count": 36,
   "metadata": {},
   "outputs": [
    {
     "data": {
      "text/plain": [
       "AUROC (generic function with 1 method)"
      ]
     },
     "execution_count": 36,
     "metadata": {},
     "output_type": "execute_result"
    }
   ],
   "source": [
    "function marginal(i, t, stats)\n",
    "    numsamp = size(stats,1)\n",
    "    sum( stats[:,i,1] .< t .<= stats[:,i,3] ) / numsamp\n",
    "end\n",
    "\n",
    "function tpr(xtrue, rank) \n",
    "    den = sum(xtrue[rank])\n",
    "    if den != 0\n",
    "        return cumsum(xtrue[rank]) ./ den\n",
    "    else\n",
    "        return ones(size(rank))\n",
    "    end\n",
    "end\n",
    "\n",
    "function fpr(xtrue, rank) \n",
    "    N = size(rank,1)\n",
    "    return (range(1,N,length=N) .- cumsum(xtrue[rank])) ./ (range(1,N,length=N) .- cumsum(xtrue[rank]) )[end]\n",
    "end\n",
    "\n",
    "function ROC(xtrue, p)\n",
    "    N = size(xtrue,1)\n",
    "    rank = sortperm(p, rev=true)\n",
    "    \n",
    "    return fpr(xtrue, rank) , tpr(xtrue, rank)\n",
    "end\n",
    "\n",
    "function AUROC(ROC)\n",
    "    N = size(ROC[1],1) \n",
    "    AU = 0\n",
    "    for t = 1:N-1\n",
    "        AU += ROC[2][t] * (ROC[1][t+1] - ROC[1][t])\n",
    "    end\n",
    "    return AU\n",
    "end"
   ]
  },
  {
   "cell_type": "code",
   "execution_count": 43,
   "metadata": {},
   "outputs": [
    {
     "data": {
      "image/svg+xml": [
       "<?xml version=\"1.0\" encoding=\"utf-8\"?>\n",
       "<svg xmlns=\"http://www.w3.org/2000/svg\" xmlns:xlink=\"http://www.w3.org/1999/xlink\" width=\"600\" height=\"400\" viewBox=\"0 0 2400 1600\">\n",
       "<defs>\n",
       "  <clipPath id=\"clip030\">\n",
       "    <rect x=\"0\" y=\"0\" width=\"2400\" height=\"1600\"/>\n",
       "  </clipPath>\n",
       "</defs>\n",
       "<path clip-path=\"url(#clip030)\" d=\"\n",
       "M0 1600 L2400 1600 L2400 0 L0 0  Z\n",
       "  \" fill=\"#ffffff\" fill-rule=\"evenodd\" fill-opacity=\"1\"/>\n",
       "<defs>\n",
       "  <clipPath id=\"clip031\">\n",
       "    <rect x=\"480\" y=\"0\" width=\"1681\" height=\"1600\"/>\n",
       "  </clipPath>\n",
       "</defs>\n",
       "<path clip-path=\"url(#clip030)\" d=\"\n",
       "M186.274 1486.45 L2352.76 1486.45 L2352.76 47.2441 L186.274 47.2441  Z\n",
       "  \" fill=\"#ffffff\" fill-rule=\"evenodd\" fill-opacity=\"1\"/>\n",
       "<defs>\n",
       "  <clipPath id=\"clip032\">\n",
       "    <rect x=\"186\" y=\"47\" width=\"2167\" height=\"1440\"/>\n",
       "  </clipPath>\n",
       "</defs>\n",
       "<polyline clip-path=\"url(#clip032)\" style=\"stroke:#000000; stroke-linecap:butt; stroke-linejoin:round; stroke-width:2; stroke-opacity:0.1; fill:none\" points=\"\n",
       "  205.878,1486.45 205.878,47.2441 \n",
       "  \"/>\n",
       "<polyline clip-path=\"url(#clip032)\" style=\"stroke:#000000; stroke-linecap:butt; stroke-linejoin:round; stroke-width:2; stroke-opacity:0.1; fill:none\" points=\"\n",
       "  622.991,1486.45 622.991,47.2441 \n",
       "  \"/>\n",
       "<polyline clip-path=\"url(#clip032)\" style=\"stroke:#000000; stroke-linecap:butt; stroke-linejoin:round; stroke-width:2; stroke-opacity:0.1; fill:none\" points=\"\n",
       "  1040.1,1486.45 1040.1,47.2441 \n",
       "  \"/>\n",
       "<polyline clip-path=\"url(#clip032)\" style=\"stroke:#000000; stroke-linecap:butt; stroke-linejoin:round; stroke-width:2; stroke-opacity:0.1; fill:none\" points=\"\n",
       "  1457.22,1486.45 1457.22,47.2441 \n",
       "  \"/>\n",
       "<polyline clip-path=\"url(#clip032)\" style=\"stroke:#000000; stroke-linecap:butt; stroke-linejoin:round; stroke-width:2; stroke-opacity:0.1; fill:none\" points=\"\n",
       "  1874.33,1486.45 1874.33,47.2441 \n",
       "  \"/>\n",
       "<polyline clip-path=\"url(#clip032)\" style=\"stroke:#000000; stroke-linecap:butt; stroke-linejoin:round; stroke-width:2; stroke-opacity:0.1; fill:none\" points=\"\n",
       "  2291.44,1486.45 2291.44,47.2441 \n",
       "  \"/>\n",
       "<polyline clip-path=\"url(#clip030)\" style=\"stroke:#000000; stroke-linecap:butt; stroke-linejoin:round; stroke-width:4; stroke-opacity:1; fill:none\" points=\"\n",
       "  186.274,1486.45 2352.76,1486.45 \n",
       "  \"/>\n",
       "<polyline clip-path=\"url(#clip030)\" style=\"stroke:#000000; stroke-linecap:butt; stroke-linejoin:round; stroke-width:4; stroke-opacity:1; fill:none\" points=\"\n",
       "  205.878,1486.45 205.878,1467.55 \n",
       "  \"/>\n",
       "<polyline clip-path=\"url(#clip030)\" style=\"stroke:#000000; stroke-linecap:butt; stroke-linejoin:round; stroke-width:4; stroke-opacity:1; fill:none\" points=\"\n",
       "  622.991,1486.45 622.991,1467.55 \n",
       "  \"/>\n",
       "<polyline clip-path=\"url(#clip030)\" style=\"stroke:#000000; stroke-linecap:butt; stroke-linejoin:round; stroke-width:4; stroke-opacity:1; fill:none\" points=\"\n",
       "  1040.1,1486.45 1040.1,1467.55 \n",
       "  \"/>\n",
       "<polyline clip-path=\"url(#clip030)\" style=\"stroke:#000000; stroke-linecap:butt; stroke-linejoin:round; stroke-width:4; stroke-opacity:1; fill:none\" points=\"\n",
       "  1457.22,1486.45 1457.22,1467.55 \n",
       "  \"/>\n",
       "<polyline clip-path=\"url(#clip030)\" style=\"stroke:#000000; stroke-linecap:butt; stroke-linejoin:round; stroke-width:4; stroke-opacity:1; fill:none\" points=\"\n",
       "  1874.33,1486.45 1874.33,1467.55 \n",
       "  \"/>\n",
       "<polyline clip-path=\"url(#clip030)\" style=\"stroke:#000000; stroke-linecap:butt; stroke-linejoin:round; stroke-width:4; stroke-opacity:1; fill:none\" points=\"\n",
       "  2291.44,1486.45 2291.44,1467.55 \n",
       "  \"/>\n",
       "<path clip-path=\"url(#clip030)\" d=\"M205.878 1517.37 Q202.267 1517.37 200.438 1520.93 Q198.633 1524.47 198.633 1531.6 Q198.633 1538.71 200.438 1542.27 Q202.267 1545.82 205.878 1545.82 Q209.513 1545.82 211.318 1542.27 Q213.147 1538.71 213.147 1531.6 Q213.147 1524.47 211.318 1520.93 Q209.513 1517.37 205.878 1517.37 M205.878 1513.66 Q211.688 1513.66 214.744 1518.27 Q217.823 1522.85 217.823 1531.6 Q217.823 1540.33 214.744 1544.94 Q211.688 1549.52 205.878 1549.52 Q200.068 1549.52 196.989 1544.94 Q193.934 1540.33 193.934 1531.6 Q193.934 1522.85 196.989 1518.27 Q200.068 1513.66 205.878 1513.66 Z\" fill=\"#000000\" fill-rule=\"evenodd\" fill-opacity=\"1\" /><path clip-path=\"url(#clip030)\" d=\"M597.678 1544.91 L605.317 1544.91 L605.317 1518.55 L597.007 1520.21 L597.007 1515.95 L605.271 1514.29 L609.947 1514.29 L609.947 1544.91 L617.586 1544.91 L617.586 1548.85 L597.678 1548.85 L597.678 1544.91 Z\" fill=\"#000000\" fill-rule=\"evenodd\" fill-opacity=\"1\" /><path clip-path=\"url(#clip030)\" d=\"M637.03 1517.37 Q633.419 1517.37 631.59 1520.93 Q629.785 1524.47 629.785 1531.6 Q629.785 1538.71 631.59 1542.27 Q633.419 1545.82 637.03 1545.82 Q640.664 1545.82 642.47 1542.27 Q644.298 1538.71 644.298 1531.6 Q644.298 1524.47 642.47 1520.93 Q640.664 1517.37 637.03 1517.37 M637.03 1513.66 Q642.84 1513.66 645.896 1518.27 Q648.974 1522.85 648.974 1531.6 Q648.974 1540.33 645.896 1544.94 Q642.84 1549.52 637.03 1549.52 Q631.22 1549.52 628.141 1544.94 Q625.086 1540.33 625.086 1531.6 Q625.086 1522.85 628.141 1518.27 Q631.22 1513.66 637.03 1513.66 Z\" fill=\"#000000\" fill-rule=\"evenodd\" fill-opacity=\"1\" /><path clip-path=\"url(#clip030)\" d=\"M1018.88 1544.91 L1035.2 1544.91 L1035.2 1548.85 L1013.25 1548.85 L1013.25 1544.91 Q1015.91 1542.16 1020.5 1537.53 Q1025.1 1532.88 1026.28 1531.53 Q1028.53 1529.01 1029.41 1527.27 Q1030.31 1525.51 1030.31 1523.82 Q1030.31 1521.07 1028.37 1519.33 Q1026.45 1517.6 1023.34 1517.6 Q1021.14 1517.6 1018.69 1518.36 Q1016.26 1519.13 1013.48 1520.68 L1013.48 1515.95 Q1016.31 1514.82 1018.76 1514.24 Q1021.21 1513.66 1023.25 1513.66 Q1028.62 1513.66 1031.82 1516.35 Q1035.01 1519.03 1035.01 1523.52 Q1035.01 1525.65 1034.2 1527.57 Q1033.41 1529.47 1031.31 1532.07 Q1030.73 1532.74 1027.63 1535.95 Q1024.52 1539.15 1018.88 1544.91 Z\" fill=\"#000000\" fill-rule=\"evenodd\" fill-opacity=\"1\" /><path clip-path=\"url(#clip030)\" d=\"M1055.01 1517.37 Q1051.4 1517.37 1049.57 1520.93 Q1047.77 1524.47 1047.77 1531.6 Q1047.77 1538.71 1049.57 1542.27 Q1051.4 1545.82 1055.01 1545.82 Q1058.64 1545.82 1060.45 1542.27 Q1062.28 1538.71 1062.28 1531.6 Q1062.28 1524.47 1060.45 1520.93 Q1058.64 1517.37 1055.01 1517.37 M1055.01 1513.66 Q1060.82 1513.66 1063.88 1518.27 Q1066.95 1522.85 1066.95 1531.6 Q1066.95 1540.33 1063.88 1544.94 Q1060.82 1549.52 1055.01 1549.52 Q1049.2 1549.52 1046.12 1544.94 Q1043.07 1540.33 1043.07 1531.6 Q1043.07 1522.85 1046.12 1518.27 Q1049.2 1513.66 1055.01 1513.66 Z\" fill=\"#000000\" fill-rule=\"evenodd\" fill-opacity=\"1\" /><path clip-path=\"url(#clip030)\" d=\"M1446.06 1530.21 Q1449.41 1530.93 1451.29 1533.2 Q1453.19 1535.47 1453.19 1538.8 Q1453.19 1543.92 1449.67 1546.72 Q1446.15 1549.52 1439.67 1549.52 Q1437.49 1549.52 1435.18 1549.08 Q1432.89 1548.66 1430.43 1547.81 L1430.43 1543.29 Q1432.38 1544.43 1434.69 1545.01 Q1437.01 1545.58 1439.53 1545.58 Q1443.93 1545.58 1446.22 1543.85 Q1448.54 1542.11 1448.54 1538.8 Q1448.54 1535.75 1446.38 1534.03 Q1444.25 1532.3 1440.43 1532.3 L1436.41 1532.3 L1436.41 1528.45 L1440.62 1528.45 Q1444.07 1528.45 1445.9 1527.09 Q1447.72 1525.7 1447.72 1523.11 Q1447.72 1520.45 1445.83 1519.03 Q1443.95 1517.6 1440.43 1517.6 Q1438.51 1517.6 1436.31 1518.01 Q1434.11 1518.43 1431.47 1519.31 L1431.47 1515.14 Q1434.14 1514.4 1436.45 1514.03 Q1438.79 1513.66 1440.85 1513.66 Q1446.17 1513.66 1449.28 1516.09 Q1452.38 1518.5 1452.38 1522.62 Q1452.38 1525.49 1450.73 1527.48 Q1449.09 1529.45 1446.06 1530.21 Z\" fill=\"#000000\" fill-rule=\"evenodd\" fill-opacity=\"1\" /><path clip-path=\"url(#clip030)\" d=\"M1472.05 1517.37 Q1468.44 1517.37 1466.61 1520.93 Q1464.81 1524.47 1464.81 1531.6 Q1464.81 1538.71 1466.61 1542.27 Q1468.44 1545.82 1472.05 1545.82 Q1475.69 1545.82 1477.49 1542.27 Q1479.32 1538.71 1479.32 1531.6 Q1479.32 1524.47 1477.49 1520.93 Q1475.69 1517.37 1472.05 1517.37 M1472.05 1513.66 Q1477.86 1513.66 1480.92 1518.27 Q1484 1522.85 1484 1531.6 Q1484 1540.33 1480.92 1544.94 Q1477.86 1549.52 1472.05 1549.52 Q1466.24 1549.52 1463.16 1544.94 Q1460.11 1540.33 1460.11 1531.6 Q1460.11 1522.85 1463.16 1518.27 Q1466.24 1513.66 1472.05 1513.66 Z\" fill=\"#000000\" fill-rule=\"evenodd\" fill-opacity=\"1\" /><path clip-path=\"url(#clip030)\" d=\"M1862.5 1518.36 L1850.69 1536.81 L1862.5 1536.81 L1862.5 1518.36 M1861.27 1514.29 L1867.15 1514.29 L1867.15 1536.81 L1872.08 1536.81 L1872.08 1540.7 L1867.15 1540.7 L1867.15 1548.85 L1862.5 1548.85 L1862.5 1540.7 L1846.9 1540.7 L1846.9 1536.19 L1861.27 1514.29 Z\" fill=\"#000000\" fill-rule=\"evenodd\" fill-opacity=\"1\" /><path clip-path=\"url(#clip030)\" d=\"M1889.81 1517.37 Q1886.2 1517.37 1884.37 1520.93 Q1882.57 1524.47 1882.57 1531.6 Q1882.57 1538.71 1884.37 1542.27 Q1886.2 1545.82 1889.81 1545.82 Q1893.45 1545.82 1895.25 1542.27 Q1897.08 1538.71 1897.08 1531.6 Q1897.08 1524.47 1895.25 1520.93 Q1893.45 1517.37 1889.81 1517.37 M1889.81 1513.66 Q1895.62 1513.66 1898.68 1518.27 Q1901.76 1522.85 1901.76 1531.6 Q1901.76 1540.33 1898.68 1544.94 Q1895.62 1549.52 1889.81 1549.52 Q1884 1549.52 1880.93 1544.94 Q1877.87 1540.33 1877.87 1531.6 Q1877.87 1522.85 1880.93 1518.27 Q1884 1513.66 1889.81 1513.66 Z\" fill=\"#000000\" fill-rule=\"evenodd\" fill-opacity=\"1\" /><path clip-path=\"url(#clip030)\" d=\"M2266.14 1514.29 L2284.5 1514.29 L2284.5 1518.22 L2270.42 1518.22 L2270.42 1526.7 Q2271.44 1526.35 2272.46 1526.19 Q2273.48 1526 2274.5 1526 Q2280.28 1526 2283.66 1529.17 Q2287.04 1532.34 2287.04 1537.76 Q2287.04 1543.34 2283.57 1546.44 Q2280.1 1549.52 2273.78 1549.52 Q2271.6 1549.52 2269.33 1549.15 Q2267.09 1548.78 2264.68 1548.04 L2264.68 1543.34 Q2266.76 1544.47 2268.99 1545.03 Q2271.21 1545.58 2273.69 1545.58 Q2277.69 1545.58 2280.03 1543.48 Q2282.37 1541.37 2282.37 1537.76 Q2282.37 1534.15 2280.03 1532.04 Q2277.69 1529.94 2273.69 1529.94 Q2271.81 1529.94 2269.94 1530.35 Q2268.08 1530.77 2266.14 1531.65 L2266.14 1514.29 Z\" fill=\"#000000\" fill-rule=\"evenodd\" fill-opacity=\"1\" /><path clip-path=\"url(#clip030)\" d=\"M2306.26 1517.37 Q2302.64 1517.37 2300.82 1520.93 Q2299.01 1524.47 2299.01 1531.6 Q2299.01 1538.71 2300.82 1542.27 Q2302.64 1545.82 2306.26 1545.82 Q2309.89 1545.82 2311.69 1542.27 Q2313.52 1538.71 2313.52 1531.6 Q2313.52 1524.47 2311.69 1520.93 Q2309.89 1517.37 2306.26 1517.37 M2306.26 1513.66 Q2312.07 1513.66 2315.12 1518.27 Q2318.2 1522.85 2318.2 1531.6 Q2318.2 1540.33 2315.12 1544.94 Q2312.07 1549.52 2306.26 1549.52 Q2300.44 1549.52 2297.37 1544.94 Q2294.31 1540.33 2294.31 1531.6 Q2294.31 1522.85 2297.37 1518.27 Q2300.44 1513.66 2306.26 1513.66 Z\" fill=\"#000000\" fill-rule=\"evenodd\" fill-opacity=\"1\" /><polyline clip-path=\"url(#clip032)\" style=\"stroke:#000000; stroke-linecap:butt; stroke-linejoin:round; stroke-width:2; stroke-opacity:0.1; fill:none\" points=\"\n",
       "  186.274,1456.26 2352.76,1456.26 \n",
       "  \"/>\n",
       "<polyline clip-path=\"url(#clip032)\" style=\"stroke:#000000; stroke-linecap:butt; stroke-linejoin:round; stroke-width:2; stroke-opacity:0.1; fill:none\" points=\"\n",
       "  186.274,1113.81 2352.76,1113.81 \n",
       "  \"/>\n",
       "<polyline clip-path=\"url(#clip032)\" style=\"stroke:#000000; stroke-linecap:butt; stroke-linejoin:round; stroke-width:2; stroke-opacity:0.1; fill:none\" points=\"\n",
       "  186.274,771.366 2352.76,771.366 \n",
       "  \"/>\n",
       "<polyline clip-path=\"url(#clip032)\" style=\"stroke:#000000; stroke-linecap:butt; stroke-linejoin:round; stroke-width:2; stroke-opacity:0.1; fill:none\" points=\"\n",
       "  186.274,428.918 2352.76,428.918 \n",
       "  \"/>\n",
       "<polyline clip-path=\"url(#clip032)\" style=\"stroke:#000000; stroke-linecap:butt; stroke-linejoin:round; stroke-width:2; stroke-opacity:0.1; fill:none\" points=\"\n",
       "  186.274,86.4695 2352.76,86.4695 \n",
       "  \"/>\n",
       "<polyline clip-path=\"url(#clip030)\" style=\"stroke:#000000; stroke-linecap:butt; stroke-linejoin:round; stroke-width:4; stroke-opacity:1; fill:none\" points=\"\n",
       "  186.274,1486.45 186.274,47.2441 \n",
       "  \"/>\n",
       "<polyline clip-path=\"url(#clip030)\" style=\"stroke:#000000; stroke-linecap:butt; stroke-linejoin:round; stroke-width:4; stroke-opacity:1; fill:none\" points=\"\n",
       "  186.274,1456.26 205.172,1456.26 \n",
       "  \"/>\n",
       "<polyline clip-path=\"url(#clip030)\" style=\"stroke:#000000; stroke-linecap:butt; stroke-linejoin:round; stroke-width:4; stroke-opacity:1; fill:none\" points=\"\n",
       "  186.274,1113.81 205.172,1113.81 \n",
       "  \"/>\n",
       "<polyline clip-path=\"url(#clip030)\" style=\"stroke:#000000; stroke-linecap:butt; stroke-linejoin:round; stroke-width:4; stroke-opacity:1; fill:none\" points=\"\n",
       "  186.274,771.366 205.172,771.366 \n",
       "  \"/>\n",
       "<polyline clip-path=\"url(#clip030)\" style=\"stroke:#000000; stroke-linecap:butt; stroke-linejoin:round; stroke-width:4; stroke-opacity:1; fill:none\" points=\"\n",
       "  186.274,428.918 205.172,428.918 \n",
       "  \"/>\n",
       "<polyline clip-path=\"url(#clip030)\" style=\"stroke:#000000; stroke-linecap:butt; stroke-linejoin:round; stroke-width:4; stroke-opacity:1; fill:none\" points=\"\n",
       "  186.274,86.4695 205.172,86.4695 \n",
       "  \"/>\n",
       "<path clip-path=\"url(#clip030)\" d=\"M62.9365 1442.06 Q59.3254 1442.06 57.4967 1445.63 Q55.6912 1449.17 55.6912 1456.3 Q55.6912 1463.4 57.4967 1466.97 Q59.3254 1470.51 62.9365 1470.51 Q66.5707 1470.51 68.3763 1466.97 Q70.205 1463.4 70.205 1456.3 Q70.205 1449.17 68.3763 1445.63 Q66.5707 1442.06 62.9365 1442.06 M62.9365 1438.36 Q68.7467 1438.36 71.8022 1442.96 Q74.8809 1447.55 74.8809 1456.3 Q74.8809 1465.02 71.8022 1469.63 Q68.7467 1474.21 62.9365 1474.21 Q57.1264 1474.21 54.0477 1469.63 Q50.9921 1465.02 50.9921 1456.3 Q50.9921 1447.55 54.0477 1442.96 Q57.1264 1438.36 62.9365 1438.36 Z\" fill=\"#000000\" fill-rule=\"evenodd\" fill-opacity=\"1\" /><path clip-path=\"url(#clip030)\" d=\"M83.0984 1467.66 L87.9827 1467.66 L87.9827 1473.54 L83.0984 1473.54 L83.0984 1467.66 Z\" fill=\"#000000\" fill-rule=\"evenodd\" fill-opacity=\"1\" /><path clip-path=\"url(#clip030)\" d=\"M108.168 1442.06 Q104.557 1442.06 102.728 1445.63 Q100.922 1449.17 100.922 1456.3 Q100.922 1463.4 102.728 1466.97 Q104.557 1470.51 108.168 1470.51 Q111.802 1470.51 113.608 1466.97 Q115.436 1463.4 115.436 1456.3 Q115.436 1449.17 113.608 1445.63 Q111.802 1442.06 108.168 1442.06 M108.168 1438.36 Q113.978 1438.36 117.033 1442.96 Q120.112 1447.55 120.112 1456.3 Q120.112 1465.02 117.033 1469.63 Q113.978 1474.21 108.168 1474.21 Q102.358 1474.21 99.2789 1469.63 Q96.2234 1465.02 96.2234 1456.3 Q96.2234 1447.55 99.2789 1442.96 Q102.358 1438.36 108.168 1438.36 Z\" fill=\"#000000\" fill-rule=\"evenodd\" fill-opacity=\"1\" /><path clip-path=\"url(#clip030)\" d=\"M138.33 1442.06 Q134.719 1442.06 132.89 1445.63 Q131.084 1449.17 131.084 1456.3 Q131.084 1463.4 132.89 1466.97 Q134.719 1470.51 138.33 1470.51 Q141.964 1470.51 143.769 1466.97 Q145.598 1463.4 145.598 1456.3 Q145.598 1449.17 143.769 1445.63 Q141.964 1442.06 138.33 1442.06 M138.33 1438.36 Q144.14 1438.36 147.195 1442.96 Q150.274 1447.55 150.274 1456.3 Q150.274 1465.02 147.195 1469.63 Q144.14 1474.21 138.33 1474.21 Q132.519 1474.21 129.441 1469.63 Q126.385 1465.02 126.385 1456.3 Q126.385 1447.55 129.441 1442.96 Q132.519 1438.36 138.33 1438.36 Z\" fill=\"#000000\" fill-rule=\"evenodd\" fill-opacity=\"1\" /><path clip-path=\"url(#clip030)\" d=\"M63.9319 1099.61 Q60.3208 1099.61 58.4921 1103.18 Q56.6865 1106.72 56.6865 1113.85 Q56.6865 1120.96 58.4921 1124.52 Q60.3208 1128.06 63.9319 1128.06 Q67.5661 1128.06 69.3717 1124.52 Q71.2004 1120.96 71.2004 1113.85 Q71.2004 1106.72 69.3717 1103.18 Q67.5661 1099.61 63.9319 1099.61 M63.9319 1095.91 Q69.742 1095.91 72.7976 1100.52 Q75.8763 1105.1 75.8763 1113.85 Q75.8763 1122.58 72.7976 1127.18 Q69.742 1131.77 63.9319 1131.77 Q58.1217 1131.77 55.043 1127.18 Q51.9875 1122.58 51.9875 1113.85 Q51.9875 1105.1 55.043 1100.52 Q58.1217 1095.91 63.9319 1095.91 Z\" fill=\"#000000\" fill-rule=\"evenodd\" fill-opacity=\"1\" /><path clip-path=\"url(#clip030)\" d=\"M84.0938 1125.22 L88.978 1125.22 L88.978 1131.09 L84.0938 1131.09 L84.0938 1125.22 Z\" fill=\"#000000\" fill-rule=\"evenodd\" fill-opacity=\"1\" /><path clip-path=\"url(#clip030)\" d=\"M103.191 1127.16 L119.51 1127.16 L119.51 1131.09 L97.566 1131.09 L97.566 1127.16 Q100.228 1124.4 104.811 1119.78 Q109.418 1115.12 110.598 1113.78 Q112.844 1111.26 113.723 1109.52 Q114.626 1107.76 114.626 1106.07 Q114.626 1103.32 112.682 1101.58 Q110.76 1099.84 107.658 1099.84 Q105.459 1099.84 103.006 1100.61 Q100.575 1101.37 97.7974 1102.92 L97.7974 1098.2 Q100.621 1097.07 103.075 1096.49 Q105.529 1095.91 107.566 1095.91 Q112.936 1095.91 116.131 1098.59 Q119.325 1101.28 119.325 1105.77 Q119.325 1107.9 118.515 1109.82 Q117.728 1111.72 115.621 1114.31 Q115.043 1114.98 111.941 1118.2 Q108.839 1121.4 103.191 1127.16 Z\" fill=\"#000000\" fill-rule=\"evenodd\" fill-opacity=\"1\" /><path clip-path=\"url(#clip030)\" d=\"M129.371 1096.53 L147.728 1096.53 L147.728 1100.47 L133.654 1100.47 L133.654 1108.94 Q134.672 1108.59 135.691 1108.43 Q136.709 1108.25 137.728 1108.25 Q143.515 1108.25 146.894 1111.42 Q150.274 1114.59 150.274 1120.01 Q150.274 1125.59 146.802 1128.69 Q143.33 1131.77 137.01 1131.77 Q134.834 1131.77 132.566 1131.4 Q130.32 1131.03 127.913 1130.28 L127.913 1125.59 Q129.996 1126.72 132.219 1127.28 Q134.441 1127.83 136.918 1127.83 Q140.922 1127.83 143.26 1125.72 Q145.598 1123.62 145.598 1120.01 Q145.598 1116.4 143.26 1114.29 Q140.922 1112.18 136.918 1112.18 Q135.043 1112.18 133.168 1112.6 Q131.316 1113.02 129.371 1113.9 L129.371 1096.53 Z\" fill=\"#000000\" fill-rule=\"evenodd\" fill-opacity=\"1\" /><path clip-path=\"url(#clip030)\" d=\"M62.9365 757.165 Q59.3254 757.165 57.4967 760.73 Q55.6912 764.271 55.6912 771.401 Q55.6912 778.507 57.4967 782.072 Q59.3254 785.614 62.9365 785.614 Q66.5707 785.614 68.3763 782.072 Q70.205 778.507 70.205 771.401 Q70.205 764.271 68.3763 760.73 Q66.5707 757.165 62.9365 757.165 M62.9365 753.461 Q68.7467 753.461 71.8022 758.068 Q74.8809 762.651 74.8809 771.401 Q74.8809 780.128 71.8022 784.734 Q68.7467 789.318 62.9365 789.318 Q57.1264 789.318 54.0477 784.734 Q50.9921 780.128 50.9921 771.401 Q50.9921 762.651 54.0477 758.068 Q57.1264 753.461 62.9365 753.461 Z\" fill=\"#000000\" fill-rule=\"evenodd\" fill-opacity=\"1\" /><path clip-path=\"url(#clip030)\" d=\"M83.0984 782.767 L87.9827 782.767 L87.9827 788.646 L83.0984 788.646 L83.0984 782.767 Z\" fill=\"#000000\" fill-rule=\"evenodd\" fill-opacity=\"1\" /><path clip-path=\"url(#clip030)\" d=\"M98.2141 754.086 L116.57 754.086 L116.57 758.021 L102.496 758.021 L102.496 766.494 Q103.515 766.146 104.534 765.984 Q105.552 765.799 106.571 765.799 Q112.358 765.799 115.737 768.97 Q119.117 772.142 119.117 777.558 Q119.117 783.137 115.645 786.239 Q112.172 789.318 105.853 789.318 Q103.677 789.318 101.409 788.947 Q99.1632 788.577 96.7558 787.836 L96.7558 783.137 Q98.8391 784.271 101.061 784.827 Q103.284 785.382 105.76 785.382 Q109.765 785.382 112.103 783.276 Q114.441 781.169 114.441 777.558 Q114.441 773.947 112.103 771.841 Q109.765 769.734 105.76 769.734 Q103.885 769.734 102.01 770.151 Q100.159 770.568 98.2141 771.447 L98.2141 754.086 Z\" fill=\"#000000\" fill-rule=\"evenodd\" fill-opacity=\"1\" /><path clip-path=\"url(#clip030)\" d=\"M138.33 757.165 Q134.719 757.165 132.89 760.73 Q131.084 764.271 131.084 771.401 Q131.084 778.507 132.89 782.072 Q134.719 785.614 138.33 785.614 Q141.964 785.614 143.769 782.072 Q145.598 778.507 145.598 771.401 Q145.598 764.271 143.769 760.73 Q141.964 757.165 138.33 757.165 M138.33 753.461 Q144.14 753.461 147.195 758.068 Q150.274 762.651 150.274 771.401 Q150.274 780.128 147.195 784.734 Q144.14 789.318 138.33 789.318 Q132.519 789.318 129.441 784.734 Q126.385 780.128 126.385 771.401 Q126.385 762.651 129.441 758.068 Q132.519 753.461 138.33 753.461 Z\" fill=\"#000000\" fill-rule=\"evenodd\" fill-opacity=\"1\" /><path clip-path=\"url(#clip030)\" d=\"M63.9319 414.717 Q60.3208 414.717 58.4921 418.281 Q56.6865 421.823 56.6865 428.953 Q56.6865 436.059 58.4921 439.624 Q60.3208 443.166 63.9319 443.166 Q67.5661 443.166 69.3717 439.624 Q71.2004 436.059 71.2004 428.953 Q71.2004 421.823 69.3717 418.281 Q67.5661 414.717 63.9319 414.717 M63.9319 411.013 Q69.742 411.013 72.7976 415.619 Q75.8763 420.203 75.8763 428.953 Q75.8763 437.679 72.7976 442.286 Q69.742 446.869 63.9319 446.869 Q58.1217 446.869 55.043 442.286 Q51.9875 437.679 51.9875 428.953 Q51.9875 420.203 55.043 415.619 Q58.1217 411.013 63.9319 411.013 Z\" fill=\"#000000\" fill-rule=\"evenodd\" fill-opacity=\"1\" /><path clip-path=\"url(#clip030)\" d=\"M84.0938 440.318 L88.978 440.318 L88.978 446.198 L84.0938 446.198 L84.0938 440.318 Z\" fill=\"#000000\" fill-rule=\"evenodd\" fill-opacity=\"1\" /><path clip-path=\"url(#clip030)\" d=\"M97.9826 411.638 L120.205 411.638 L120.205 413.629 L107.658 446.198 L102.774 446.198 L114.58 415.573 L97.9826 415.573 L97.9826 411.638 Z\" fill=\"#000000\" fill-rule=\"evenodd\" fill-opacity=\"1\" /><path clip-path=\"url(#clip030)\" d=\"M129.371 411.638 L147.728 411.638 L147.728 415.573 L133.654 415.573 L133.654 424.045 Q134.672 423.698 135.691 423.536 Q136.709 423.351 137.728 423.351 Q143.515 423.351 146.894 426.522 Q150.274 429.693 150.274 435.11 Q150.274 440.689 146.802 443.791 Q143.33 446.869 137.01 446.869 Q134.834 446.869 132.566 446.499 Q130.32 446.128 127.913 445.388 L127.913 440.689 Q129.996 441.823 132.219 442.378 Q134.441 442.934 136.918 442.934 Q140.922 442.934 143.26 440.828 Q145.598 438.721 145.598 435.11 Q145.598 431.499 143.26 429.392 Q140.922 427.286 136.918 427.286 Q135.043 427.286 133.168 427.703 Q131.316 428.119 129.371 428.999 L129.371 411.638 Z\" fill=\"#000000\" fill-rule=\"evenodd\" fill-opacity=\"1\" /><path clip-path=\"url(#clip030)\" d=\"M53.7467 99.8143 L61.3856 99.8143 L61.3856 73.4487 L53.0754 75.1154 L53.0754 70.8562 L61.3393 69.1895 L66.0152 69.1895 L66.0152 99.8143 L73.654 99.8143 L73.654 103.75 L53.7467 103.75 L53.7467 99.8143 Z\" fill=\"#000000\" fill-rule=\"evenodd\" fill-opacity=\"1\" /><path clip-path=\"url(#clip030)\" d=\"M83.0984 97.8699 L87.9827 97.8699 L87.9827 103.75 L83.0984 103.75 L83.0984 97.8699 Z\" fill=\"#000000\" fill-rule=\"evenodd\" fill-opacity=\"1\" /><path clip-path=\"url(#clip030)\" d=\"M108.168 72.2682 Q104.557 72.2682 102.728 75.833 Q100.922 79.3746 100.922 86.5042 Q100.922 93.6107 102.728 97.1755 Q104.557 100.717 108.168 100.717 Q111.802 100.717 113.608 97.1755 Q115.436 93.6107 115.436 86.5042 Q115.436 79.3746 113.608 75.833 Q111.802 72.2682 108.168 72.2682 M108.168 68.5645 Q113.978 68.5645 117.033 73.171 Q120.112 77.7543 120.112 86.5042 Q120.112 95.231 117.033 99.8375 Q113.978 104.421 108.168 104.421 Q102.358 104.421 99.2789 99.8375 Q96.2234 95.231 96.2234 86.5042 Q96.2234 77.7543 99.2789 73.171 Q102.358 68.5645 108.168 68.5645 Z\" fill=\"#000000\" fill-rule=\"evenodd\" fill-opacity=\"1\" /><path clip-path=\"url(#clip030)\" d=\"M138.33 72.2682 Q134.719 72.2682 132.89 75.833 Q131.084 79.3746 131.084 86.5042 Q131.084 93.6107 132.89 97.1755 Q134.719 100.717 138.33 100.717 Q141.964 100.717 143.769 97.1755 Q145.598 93.6107 145.598 86.5042 Q145.598 79.3746 143.769 75.833 Q141.964 72.2682 138.33 72.2682 M138.33 68.5645 Q144.14 68.5645 147.195 73.171 Q150.274 77.7543 150.274 86.5042 Q150.274 95.231 147.195 99.8375 Q144.14 104.421 138.33 104.421 Q132.519 104.421 129.441 99.8375 Q126.385 95.231 126.385 86.5042 Q126.385 77.7543 129.441 73.171 Q132.519 68.5645 138.33 68.5645 Z\" fill=\"#000000\" fill-rule=\"evenodd\" fill-opacity=\"1\" /><polyline clip-path=\"url(#clip032)\" style=\"stroke:#009af9; stroke-linecap:butt; stroke-linejoin:round; stroke-width:4; stroke-opacity:1; fill:none\" points=\"\n",
       "  247.59,1323.8 289.301,998.752 331.012,630.552 372.723,367.414 414.434,217.559 456.146,141.809 497.857,110.989 539.568,97.2909 581.279,90.8528 622.991,88.5242 \n",
       "  664.702,87.9763 706.413,91.8117 748.124,107.427 789.836,161.808 831.547,303.582 873.258,543.57 914.969,816.706 956.681,1053.82 998.392,1233.95 1040.1,1337.5 \n",
       "  1081.81,1389.69 1123.53,1420.37 1165.24,1433.94 1206.95,1441.61 1248.66,1443.93 1290.37,1444.76 1332.08,1445.3 1373.79,1445.58 1415.5,1445.72 1457.22,1445.72 \n",
       "  1498.93,1445.72 1540.64,1445.72 1582.35,1445.72 1624.06,1445.72 1665.77,1445.72 1707.48,1445.72 1749.19,1445.72 1790.91,1445.72 1832.62,1445.72 1874.33,1445.72 \n",
       "  1916.04,1445.72 1957.75,1445.72 1999.46,1445.72 2041.17,1445.72 2082.88,1445.72 2124.6,1445.72 2166.31,1445.72 2208.02,1445.72 2249.73,1445.72 2291.44,1445.72 \n",
       "  \n",
       "  \"/>\n",
       "<polyline clip-path=\"url(#clip032)\" style=\"stroke:#e26f46; stroke-linecap:butt; stroke-linejoin:round; stroke-width:4; stroke-opacity:1; fill:none\" points=\"\n",
       "  247.59,1348.73 289.301,1155.05 331.012,919.167 372.723,679.179 414.434,462.067 456.146,302.349 497.857,203.176 539.568,138.796 581.279,111.948 622.991,99.6195 \n",
       "  664.702,92.9075 706.413,91.1268 748.124,102.359 789.836,140.439 831.547,226.325 873.258,374.811 914.969,561.514 956.681,770.407 998.392,970.26 1040.1,1135.87 \n",
       "  1081.81,1254.36 1123.53,1334.35 1165.24,1378.05 1206.95,1406.27 1248.66,1420.51 1290.37,1429.55 1332.08,1432.02 1373.79,1433.8 1415.5,1434.76 1457.22,1434.89 \n",
       "  1498.93,1435.03 1540.64,1435.17 1582.35,1435.17 1624.06,1435.17 1665.77,1435.17 1707.48,1435.17 1749.19,1435.17 1790.91,1435.17 1832.62,1435.17 1874.33,1435.17 \n",
       "  1916.04,1435.17 1957.75,1435.17 1999.46,1435.17 2041.17,1435.17 2082.88,1435.17 2124.6,1435.17 2166.31,1435.17 2208.02,1435.17 2249.73,1435.17 2291.44,1435.17 \n",
       "  \n",
       "  \"/>\n",
       "<path clip-path=\"url(#clip030)\" d=\"\n",
       "M1851.67 250.738 L2280.54 250.738 L2280.54 95.2176 L1851.67 95.2176  Z\n",
       "  \" fill=\"#ffffff\" fill-rule=\"evenodd\" fill-opacity=\"1\"/>\n",
       "<polyline clip-path=\"url(#clip030)\" style=\"stroke:#000000; stroke-linecap:butt; stroke-linejoin:round; stroke-width:4; stroke-opacity:1; fill:none\" points=\"\n",
       "  1851.67,250.738 2280.54,250.738 2280.54,95.2176 1851.67,95.2176 1851.67,250.738 \n",
       "  \"/>\n",
       "<polyline clip-path=\"url(#clip030)\" style=\"stroke:#009af9; stroke-linecap:butt; stroke-linejoin:round; stroke-width:4; stroke-opacity:1; fill:none\" points=\"\n",
       "  1875.74,147.058 2020.18,147.058 \n",
       "  \"/>\n",
       "<path clip-path=\"url(#clip030)\" d=\"M2064.76 139.407 L2064.76 143.389 Q2062.95 142.393 2061.12 141.907 Q2059.32 141.398 2057.47 141.398 Q2053.32 141.398 2051.03 144.037 Q2048.74 146.652 2048.74 151.398 Q2048.74 156.143 2051.03 158.782 Q2053.32 161.398 2057.47 161.398 Q2059.32 161.398 2061.12 160.912 Q2062.95 160.402 2064.76 159.407 L2064.76 163.342 Q2062.98 164.176 2061.05 164.592 Q2059.16 165.009 2057 165.009 Q2051.15 165.009 2047.7 161.328 Q2044.25 157.648 2044.25 151.398 Q2044.25 145.055 2047.72 141.421 Q2051.22 137.787 2057.28 137.787 Q2059.25 137.787 2061.12 138.203 Q2063 138.597 2064.76 139.407 Z\" fill=\"#000000\" fill-rule=\"evenodd\" fill-opacity=\"1\" /><path clip-path=\"url(#clip030)\" d=\"M2083.95 151.305 Q2078.79 151.305 2076.79 152.486 Q2074.8 153.666 2074.8 156.514 Q2074.8 158.782 2076.29 160.125 Q2077.79 161.444 2080.36 161.444 Q2083.9 161.444 2086.03 158.944 Q2088.18 156.421 2088.18 152.254 L2088.18 151.305 L2083.95 151.305 M2092.44 149.546 L2092.44 164.338 L2088.18 164.338 L2088.18 160.402 Q2086.73 162.763 2084.55 163.898 Q2082.37 165.009 2079.23 165.009 Q2075.24 165.009 2072.88 162.787 Q2070.54 160.541 2070.54 156.791 Q2070.54 152.416 2073.46 150.194 Q2076.4 147.972 2082.21 147.972 L2088.18 147.972 L2088.18 147.555 Q2088.18 144.615 2086.24 143.018 Q2084.32 141.398 2080.82 141.398 Q2078.6 141.398 2076.49 141.93 Q2074.39 142.463 2072.44 143.527 L2072.44 139.592 Q2074.78 138.69 2076.98 138.25 Q2079.18 137.787 2081.26 137.787 Q2086.89 137.787 2089.67 140.703 Q2092.44 143.62 2092.44 149.546 Z\" fill=\"#000000\" fill-rule=\"evenodd\" fill-opacity=\"1\" /><path clip-path=\"url(#clip030)\" d=\"M2100.78 154.106 L2100.78 138.412 L2105.04 138.412 L2105.04 153.944 Q2105.04 157.625 2106.47 159.476 Q2107.91 161.305 2110.78 161.305 Q2114.23 161.305 2116.22 159.106 Q2118.23 156.907 2118.23 153.111 L2118.23 138.412 L2122.49 138.412 L2122.49 164.338 L2118.23 164.338 L2118.23 160.356 Q2116.68 162.717 2114.62 163.875 Q2112.58 165.009 2109.87 165.009 Q2105.41 165.009 2103.09 162.231 Q2100.78 159.453 2100.78 154.106 M2111.49 137.787 L2111.49 137.787 Z\" fill=\"#000000\" fill-rule=\"evenodd\" fill-opacity=\"1\" /><path clip-path=\"url(#clip030)\" d=\"M2152.16 130.912 L2152.16 135.472 Q2149.5 134.199 2147.14 133.574 Q2144.78 132.949 2142.58 132.949 Q2138.76 132.949 2136.68 134.43 Q2134.62 135.912 2134.62 138.643 Q2134.62 140.935 2135.98 142.115 Q2137.37 143.273 2141.22 143.99 L2144.04 144.569 Q2149.27 145.565 2151.75 148.088 Q2154.25 150.588 2154.25 154.801 Q2154.25 159.824 2150.87 162.416 Q2147.51 165.009 2141.01 165.009 Q2138.55 165.009 2135.78 164.453 Q2133.02 163.898 2130.06 162.81 L2130.06 157.995 Q2132.91 159.592 2135.64 160.402 Q2138.37 161.213 2141.01 161.213 Q2145.01 161.213 2147.19 159.639 Q2149.36 158.064 2149.36 155.148 Q2149.36 152.602 2147.79 151.166 Q2146.24 149.731 2142.67 149.014 L2139.83 148.458 Q2134.6 147.416 2132.26 145.194 Q2129.92 142.972 2129.92 139.014 Q2129.92 134.43 2133.14 131.791 Q2136.38 129.153 2142.05 129.153 Q2144.48 129.153 2147 129.592 Q2149.53 130.032 2152.16 130.912 Z\" fill=\"#000000\" fill-rule=\"evenodd\" fill-opacity=\"1\" /><path clip-path=\"url(#clip030)\" d=\"M2161.54 129.778 L2183.39 129.778 L2183.39 133.713 L2166.22 133.713 L2166.22 143.944 L2182.67 143.944 L2182.67 147.879 L2166.22 147.879 L2166.22 160.402 L2183.81 160.402 L2183.81 164.338 L2161.54 164.338 L2161.54 129.778 Z\" fill=\"#000000\" fill-rule=\"evenodd\" fill-opacity=\"1\" /><path clip-path=\"url(#clip030)\" d=\"M2191.49 129.778 L2196.17 129.778 L2196.17 164.338 L2191.49 164.338 L2191.49 129.778 Z\" fill=\"#000000\" fill-rule=\"evenodd\" fill-opacity=\"1\" /><path clip-path=\"url(#clip030)\" d=\"M2221.86 148.134 Q2223.37 148.643 2224.78 150.31 Q2226.22 151.977 2227.65 154.893 L2232.4 164.338 L2227.37 164.338 L2222.95 155.472 Q2221.24 152 2219.62 150.865 Q2218.02 149.731 2215.24 149.731 L2210.15 149.731 L2210.15 164.338 L2205.47 164.338 L2205.47 129.778 L2216.03 129.778 Q2221.96 129.778 2224.87 132.254 Q2227.79 134.731 2227.79 139.731 Q2227.79 142.995 2226.26 145.148 Q2224.76 147.301 2221.86 148.134 M2210.15 133.62 L2210.15 145.889 L2216.03 145.889 Q2219.41 145.889 2221.12 144.338 Q2222.86 142.764 2222.86 139.731 Q2222.86 136.699 2221.12 135.171 Q2219.41 133.62 2216.03 133.62 L2210.15 133.62 Z\" fill=\"#000000\" fill-rule=\"evenodd\" fill-opacity=\"1\" /><polyline clip-path=\"url(#clip030)\" style=\"stroke:#e26f46; stroke-linecap:butt; stroke-linejoin:round; stroke-width:4; stroke-opacity:1; fill:none\" points=\"\n",
       "  1875.74,198.898 2020.18,198.898 \n",
       "  \"/>\n",
       "<path clip-path=\"url(#clip030)\" d=\"M2064.76 191.247 L2064.76 195.229 Q2062.95 194.233 2061.12 193.747 Q2059.32 193.238 2057.47 193.238 Q2053.32 193.238 2051.03 195.877 Q2048.74 198.492 2048.74 203.238 Q2048.74 207.983 2051.03 210.622 Q2053.32 213.238 2057.47 213.238 Q2059.32 213.238 2061.12 212.752 Q2062.95 212.242 2064.76 211.247 L2064.76 215.182 Q2062.98 216.016 2061.05 216.432 Q2059.16 216.849 2057 216.849 Q2051.15 216.849 2047.7 213.168 Q2044.25 209.488 2044.25 203.238 Q2044.25 196.895 2047.72 193.261 Q2051.22 189.627 2057.28 189.627 Q2059.25 189.627 2061.12 190.043 Q2063 190.437 2064.76 191.247 Z\" fill=\"#000000\" fill-rule=\"evenodd\" fill-opacity=\"1\" /><path clip-path=\"url(#clip030)\" d=\"M2083.95 203.145 Q2078.79 203.145 2076.79 204.326 Q2074.8 205.506 2074.8 208.354 Q2074.8 210.622 2076.29 211.965 Q2077.79 213.284 2080.36 213.284 Q2083.9 213.284 2086.03 210.784 Q2088.18 208.261 2088.18 204.094 L2088.18 203.145 L2083.95 203.145 M2092.44 201.386 L2092.44 216.178 L2088.18 216.178 L2088.18 212.242 Q2086.73 214.603 2084.55 215.738 Q2082.37 216.849 2079.23 216.849 Q2075.24 216.849 2072.88 214.627 Q2070.54 212.381 2070.54 208.631 Q2070.54 204.256 2073.46 202.034 Q2076.4 199.812 2082.21 199.812 L2088.18 199.812 L2088.18 199.395 Q2088.18 196.455 2086.24 194.858 Q2084.32 193.238 2080.82 193.238 Q2078.6 193.238 2076.49 193.77 Q2074.39 194.303 2072.44 195.367 L2072.44 191.432 Q2074.78 190.53 2076.98 190.09 Q2079.18 189.627 2081.26 189.627 Q2086.89 189.627 2089.67 192.543 Q2092.44 195.46 2092.44 201.386 Z\" fill=\"#000000\" fill-rule=\"evenodd\" fill-opacity=\"1\" /><path clip-path=\"url(#clip030)\" d=\"M2100.78 205.946 L2100.78 190.252 L2105.04 190.252 L2105.04 205.784 Q2105.04 209.465 2106.47 211.316 Q2107.91 213.145 2110.78 213.145 Q2114.23 213.145 2116.22 210.946 Q2118.23 208.747 2118.23 204.951 L2118.23 190.252 L2122.49 190.252 L2122.49 216.178 L2118.23 216.178 L2118.23 212.196 Q2116.68 214.557 2114.62 215.715 Q2112.58 216.849 2109.87 216.849 Q2105.41 216.849 2103.09 214.071 Q2100.78 211.293 2100.78 205.946 M2111.49 189.627 L2111.49 189.627 Z\" fill=\"#000000\" fill-rule=\"evenodd\" fill-opacity=\"1\" /><path clip-path=\"url(#clip030)\" d=\"M2152.16 182.752 L2152.16 187.312 Q2149.5 186.039 2147.14 185.414 Q2144.78 184.789 2142.58 184.789 Q2138.76 184.789 2136.68 186.27 Q2134.62 187.752 2134.62 190.483 Q2134.62 192.775 2135.98 193.955 Q2137.37 195.113 2141.22 195.83 L2144.04 196.409 Q2149.27 197.405 2151.75 199.928 Q2154.25 202.428 2154.25 206.641 Q2154.25 211.664 2150.87 214.256 Q2147.51 216.849 2141.01 216.849 Q2138.55 216.849 2135.78 216.293 Q2133.02 215.738 2130.06 214.65 L2130.06 209.835 Q2132.91 211.432 2135.64 212.242 Q2138.37 213.053 2141.01 213.053 Q2145.01 213.053 2147.19 211.479 Q2149.36 209.904 2149.36 206.988 Q2149.36 204.442 2147.79 203.006 Q2146.24 201.571 2142.67 200.854 L2139.83 200.298 Q2134.6 199.256 2132.26 197.034 Q2129.92 194.812 2129.92 190.854 Q2129.92 186.27 2133.14 183.631 Q2136.38 180.993 2142.05 180.993 Q2144.48 180.993 2147 181.432 Q2149.53 181.872 2152.16 182.752 Z\" fill=\"#000000\" fill-rule=\"evenodd\" fill-opacity=\"1\" /><path clip-path=\"url(#clip030)\" d=\"M2161.54 181.618 L2166.22 181.618 L2166.22 216.178 L2161.54 216.178 L2161.54 181.618 Z\" fill=\"#000000\" fill-rule=\"evenodd\" fill-opacity=\"1\" /><path clip-path=\"url(#clip030)\" d=\"M2191.91 199.974 Q2193.41 200.483 2194.83 202.15 Q2196.26 203.817 2197.7 206.733 L2202.44 216.178 L2197.42 216.178 L2193 207.312 Q2191.28 203.84 2189.66 202.705 Q2188.07 201.571 2185.29 201.571 L2180.2 201.571 L2180.2 216.178 L2175.52 216.178 L2175.52 181.618 L2186.08 181.618 Q2192 181.618 2194.92 184.094 Q2197.84 186.571 2197.84 191.571 Q2197.84 194.835 2196.31 196.988 Q2194.8 199.141 2191.91 199.974 M2180.2 185.46 L2180.2 197.729 L2186.08 197.729 Q2189.46 197.729 2191.17 196.178 Q2192.91 194.604 2192.91 191.571 Q2192.91 188.539 2191.17 187.011 Q2189.46 185.46 2186.08 185.46 L2180.2 185.46 Z\" fill=\"#000000\" fill-rule=\"evenodd\" fill-opacity=\"1\" /></svg>\n"
      ]
     },
     "execution_count": 43,
     "metadata": {},
     "output_type": "execute_result"
    }
   ],
   "source": [
    "using Plots\n",
    "p_cauSEIR = zeros(N,Int(T))\n",
    "p_cauSIR = zeros(N,Int(T))\n",
    "for i = 1:N\n",
    "    for t = 1:Int(T)\n",
    "       p_cauSEIR[i,t] = marginal(i, t, statscauSEIR)\n",
    "       p_cauSIR[i,t] = marginal(i, t, statscauSIR)\n",
    "    end\n",
    "end\n",
    "i = 1\n",
    "plot(p_cauSEIR[i,1:end], label = \"cauSEIR\")\n",
    "plot!(p_cauSIR[i,1:end], label = \"cauSIR\")"
   ]
  },
  {
   "cell_type": "raw",
   "metadata": {},
   "source": [
    "#Let us find the ROC of the infected individuals at time t\n",
    "t = T\n",
    "epidemic_risk=zeros(N)\n",
    "true_risk=zeros(N)\n",
    "for i=1:N\n",
    "   epidemic_risk[i] = marginal(i,t,statscau)\n",
    "   true_risk[i] = marginal(i,t,stats)\n",
    "end\n",
    "xt = xtrue[:,2] .< t-1e-3 .< xtrue[:,3]\n",
    "plot(ROC(xt, epidemic_risk)[1],ROC(xt, epidemic_risk)[2], label=\"ROC\", title=\"Causality VS Exact ROC at time t=$t\")\n",
    "plot!(ROC(xt, true_risk)[1],ROC(xt, true_risk)[2], label=\"exactROC\")"
   ]
  },
  {
   "cell_type": "code",
   "execution_count": 38,
   "metadata": {},
   "outputs": [
    {
     "data": {
      "image/svg+xml": [
       "<?xml version=\"1.0\" encoding=\"utf-8\"?>\n",
       "<svg xmlns=\"http://www.w3.org/2000/svg\" xmlns:xlink=\"http://www.w3.org/1999/xlink\" width=\"600\" height=\"400\" viewBox=\"0 0 2400 1600\">\n",
       "<defs>\n",
       "  <clipPath id=\"clip830\">\n",
       "    <rect x=\"0\" y=\"0\" width=\"2400\" height=\"1600\"/>\n",
       "  </clipPath>\n",
       "</defs>\n",
       "<path clip-path=\"url(#clip830)\" d=\"\n",
       "M0 1600 L2400 1600 L2400 0 L0 0  Z\n",
       "  \" fill=\"#ffffff\" fill-rule=\"evenodd\" fill-opacity=\"1\"/>\n",
       "<defs>\n",
       "  <clipPath id=\"clip831\">\n",
       "    <rect x=\"480\" y=\"0\" width=\"1681\" height=\"1600\"/>\n",
       "  </clipPath>\n",
       "</defs>\n",
       "<path clip-path=\"url(#clip830)\" d=\"\n",
       "M219.866 1423.18 L2352.76 1423.18 L2352.76 123.472 L219.866 123.472  Z\n",
       "  \" fill=\"#ffffff\" fill-rule=\"evenodd\" fill-opacity=\"1\"/>\n",
       "<defs>\n",
       "  <clipPath id=\"clip832\">\n",
       "    <rect x=\"219\" y=\"123\" width=\"2134\" height=\"1301\"/>\n",
       "  </clipPath>\n",
       "</defs>\n",
       "<polyline clip-path=\"url(#clip832)\" style=\"stroke:#000000; stroke-linecap:butt; stroke-linejoin:round; stroke-width:2; stroke-opacity:0.1; fill:none\" points=\"\n",
       "  239.167,1423.18 239.167,123.472 \n",
       "  \"/>\n",
       "<polyline clip-path=\"url(#clip832)\" style=\"stroke:#000000; stroke-linecap:butt; stroke-linejoin:round; stroke-width:2; stroke-opacity:0.1; fill:none\" points=\"\n",
       "  649.811,1423.18 649.811,123.472 \n",
       "  \"/>\n",
       "<polyline clip-path=\"url(#clip832)\" style=\"stroke:#000000; stroke-linecap:butt; stroke-linejoin:round; stroke-width:2; stroke-opacity:0.1; fill:none\" points=\"\n",
       "  1060.46,1423.18 1060.46,123.472 \n",
       "  \"/>\n",
       "<polyline clip-path=\"url(#clip832)\" style=\"stroke:#000000; stroke-linecap:butt; stroke-linejoin:round; stroke-width:2; stroke-opacity:0.1; fill:none\" points=\"\n",
       "  1471.1,1423.18 1471.1,123.472 \n",
       "  \"/>\n",
       "<polyline clip-path=\"url(#clip832)\" style=\"stroke:#000000; stroke-linecap:butt; stroke-linejoin:round; stroke-width:2; stroke-opacity:0.1; fill:none\" points=\"\n",
       "  1881.75,1423.18 1881.75,123.472 \n",
       "  \"/>\n",
       "<polyline clip-path=\"url(#clip832)\" style=\"stroke:#000000; stroke-linecap:butt; stroke-linejoin:round; stroke-width:2; stroke-opacity:0.1; fill:none\" points=\"\n",
       "  2292.39,1423.18 2292.39,123.472 \n",
       "  \"/>\n",
       "<polyline clip-path=\"url(#clip830)\" style=\"stroke:#000000; stroke-linecap:butt; stroke-linejoin:round; stroke-width:4; stroke-opacity:1; fill:none\" points=\"\n",
       "  219.866,1423.18 2352.76,1423.18 \n",
       "  \"/>\n",
       "<polyline clip-path=\"url(#clip830)\" style=\"stroke:#000000; stroke-linecap:butt; stroke-linejoin:round; stroke-width:4; stroke-opacity:1; fill:none\" points=\"\n",
       "  239.167,1423.18 239.167,1404.28 \n",
       "  \"/>\n",
       "<polyline clip-path=\"url(#clip830)\" style=\"stroke:#000000; stroke-linecap:butt; stroke-linejoin:round; stroke-width:4; stroke-opacity:1; fill:none\" points=\"\n",
       "  649.811,1423.18 649.811,1404.28 \n",
       "  \"/>\n",
       "<polyline clip-path=\"url(#clip830)\" style=\"stroke:#000000; stroke-linecap:butt; stroke-linejoin:round; stroke-width:4; stroke-opacity:1; fill:none\" points=\"\n",
       "  1060.46,1423.18 1060.46,1404.28 \n",
       "  \"/>\n",
       "<polyline clip-path=\"url(#clip830)\" style=\"stroke:#000000; stroke-linecap:butt; stroke-linejoin:round; stroke-width:4; stroke-opacity:1; fill:none\" points=\"\n",
       "  1471.1,1423.18 1471.1,1404.28 \n",
       "  \"/>\n",
       "<polyline clip-path=\"url(#clip830)\" style=\"stroke:#000000; stroke-linecap:butt; stroke-linejoin:round; stroke-width:4; stroke-opacity:1; fill:none\" points=\"\n",
       "  1881.75,1423.18 1881.75,1404.28 \n",
       "  \"/>\n",
       "<polyline clip-path=\"url(#clip830)\" style=\"stroke:#000000; stroke-linecap:butt; stroke-linejoin:round; stroke-width:4; stroke-opacity:1; fill:none\" points=\"\n",
       "  2292.39,1423.18 2292.39,1404.28 \n",
       "  \"/>\n",
       "<path clip-path=\"url(#clip830)\" d=\"M239.167 1454.1 Q235.555 1454.1 233.727 1457.66 Q231.921 1461.2 231.921 1468.33 Q231.921 1475.44 233.727 1479.01 Q235.555 1482.55 239.167 1482.55 Q242.801 1482.55 244.606 1479.01 Q246.435 1475.44 246.435 1468.33 Q246.435 1461.2 244.606 1457.66 Q242.801 1454.1 239.167 1454.1 M239.167 1450.39 Q244.977 1450.39 248.032 1455 Q251.111 1459.58 251.111 1468.33 Q251.111 1477.06 248.032 1481.67 Q244.977 1486.25 239.167 1486.25 Q233.356 1486.25 230.278 1481.67 Q227.222 1477.06 227.222 1468.33 Q227.222 1459.58 230.278 1455 Q233.356 1450.39 239.167 1450.39 Z\" fill=\"#000000\" fill-rule=\"evenodd\" fill-opacity=\"1\" /><path clip-path=\"url(#clip830)\" d=\"M624.499 1481.64 L632.138 1481.64 L632.138 1455.28 L623.828 1456.95 L623.828 1452.69 L632.092 1451.02 L636.768 1451.02 L636.768 1481.64 L644.406 1481.64 L644.406 1485.58 L624.499 1485.58 L624.499 1481.64 Z\" fill=\"#000000\" fill-rule=\"evenodd\" fill-opacity=\"1\" /><path clip-path=\"url(#clip830)\" d=\"M663.851 1454.1 Q660.24 1454.1 658.411 1457.66 Q656.605 1461.2 656.605 1468.33 Q656.605 1475.44 658.411 1479.01 Q660.24 1482.55 663.851 1482.55 Q667.485 1482.55 669.291 1479.01 Q671.119 1475.44 671.119 1468.33 Q671.119 1461.2 669.291 1457.66 Q667.485 1454.1 663.851 1454.1 M663.851 1450.39 Q669.661 1450.39 672.716 1455 Q675.795 1459.58 675.795 1468.33 Q675.795 1477.06 672.716 1481.67 Q669.661 1486.25 663.851 1486.25 Q658.041 1486.25 654.962 1481.67 Q651.906 1477.06 651.906 1468.33 Q651.906 1459.58 654.962 1455 Q658.041 1450.39 663.851 1450.39 Z\" fill=\"#000000\" fill-rule=\"evenodd\" fill-opacity=\"1\" /><path clip-path=\"url(#clip830)\" d=\"M1039.23 1481.64 L1055.55 1481.64 L1055.55 1485.58 L1033.6 1485.58 L1033.6 1481.64 Q1036.27 1478.89 1040.85 1474.26 Q1045.46 1469.61 1046.64 1468.27 Q1048.88 1465.74 1049.76 1464.01 Q1050.66 1462.25 1050.66 1460.56 Q1050.66 1457.8 1048.72 1456.07 Q1046.8 1454.33 1043.7 1454.33 Q1041.5 1454.33 1039.04 1455.09 Q1036.61 1455.86 1033.84 1457.41 L1033.84 1452.69 Q1036.66 1451.55 1039.11 1450.97 Q1041.57 1450.39 1043.6 1450.39 Q1048.97 1450.39 1052.17 1453.08 Q1055.36 1455.77 1055.36 1460.26 Q1055.36 1462.39 1054.55 1464.31 Q1053.77 1466.2 1051.66 1468.8 Q1051.08 1469.47 1047.98 1472.69 Q1044.88 1475.88 1039.23 1481.64 Z\" fill=\"#000000\" fill-rule=\"evenodd\" fill-opacity=\"1\" /><path clip-path=\"url(#clip830)\" d=\"M1075.36 1454.1 Q1071.75 1454.1 1069.92 1457.66 Q1068.12 1461.2 1068.12 1468.33 Q1068.12 1475.44 1069.92 1479.01 Q1071.75 1482.55 1075.36 1482.55 Q1079 1482.55 1080.8 1479.01 Q1082.63 1475.44 1082.63 1468.33 Q1082.63 1461.2 1080.8 1457.66 Q1079 1454.1 1075.36 1454.1 M1075.36 1450.39 Q1081.17 1450.39 1084.23 1455 Q1087.31 1459.58 1087.31 1468.33 Q1087.31 1477.06 1084.23 1481.67 Q1081.17 1486.25 1075.36 1486.25 Q1069.55 1486.25 1066.47 1481.67 Q1063.42 1477.06 1063.42 1468.33 Q1063.42 1459.58 1066.47 1455 Q1069.55 1450.39 1075.36 1450.39 Z\" fill=\"#000000\" fill-rule=\"evenodd\" fill-opacity=\"1\" /><path clip-path=\"url(#clip830)\" d=\"M1459.94 1466.95 Q1463.3 1467.66 1465.18 1469.93 Q1467.07 1472.2 1467.07 1475.53 Q1467.07 1480.65 1463.56 1483.45 Q1460.04 1486.25 1453.56 1486.25 Q1451.38 1486.25 1449.06 1485.81 Q1446.77 1485.39 1444.32 1484.54 L1444.32 1480.02 Q1446.26 1481.16 1448.58 1481.74 Q1450.89 1482.32 1453.42 1482.32 Q1457.81 1482.32 1460.11 1480.58 Q1462.42 1478.84 1462.42 1475.53 Q1462.42 1472.48 1460.27 1470.77 Q1458.14 1469.03 1454.32 1469.03 L1450.29 1469.03 L1450.29 1465.19 L1454.5 1465.19 Q1457.95 1465.19 1459.78 1463.82 Q1461.61 1462.43 1461.61 1459.84 Q1461.61 1457.18 1459.71 1455.77 Q1457.84 1454.33 1454.32 1454.33 Q1452.4 1454.33 1450.2 1454.75 Q1448 1455.16 1445.36 1456.04 L1445.36 1451.88 Q1448.02 1451.14 1450.34 1450.77 Q1452.68 1450.39 1454.74 1450.39 Q1460.06 1450.39 1463.16 1452.83 Q1466.26 1455.23 1466.26 1459.35 Q1466.26 1462.22 1464.62 1464.21 Q1462.98 1466.18 1459.94 1466.95 Z\" fill=\"#000000\" fill-rule=\"evenodd\" fill-opacity=\"1\" /><path clip-path=\"url(#clip830)\" d=\"M1485.94 1454.1 Q1482.33 1454.1 1480.5 1457.66 Q1478.69 1461.2 1478.69 1468.33 Q1478.69 1475.44 1480.5 1479.01 Q1482.33 1482.55 1485.94 1482.55 Q1489.57 1482.55 1491.38 1479.01 Q1493.21 1475.44 1493.21 1468.33 Q1493.21 1461.2 1491.38 1457.66 Q1489.57 1454.1 1485.94 1454.1 M1485.94 1450.39 Q1491.75 1450.39 1494.8 1455 Q1497.88 1459.58 1497.88 1468.33 Q1497.88 1477.06 1494.8 1481.67 Q1491.75 1486.25 1485.94 1486.25 Q1480.13 1486.25 1477.05 1481.67 Q1473.99 1477.06 1473.99 1468.33 Q1473.99 1459.58 1477.05 1455 Q1480.13 1450.39 1485.94 1450.39 Z\" fill=\"#000000\" fill-rule=\"evenodd\" fill-opacity=\"1\" /><path clip-path=\"url(#clip830)\" d=\"M1869.92 1455.09 L1858.11 1473.54 L1869.92 1473.54 L1869.92 1455.09 M1868.69 1451.02 L1874.57 1451.02 L1874.57 1473.54 L1879.5 1473.54 L1879.5 1477.43 L1874.57 1477.43 L1874.57 1485.58 L1869.92 1485.58 L1869.92 1477.43 L1854.32 1477.43 L1854.32 1472.92 L1868.69 1451.02 Z\" fill=\"#000000\" fill-rule=\"evenodd\" fill-opacity=\"1\" /><path clip-path=\"url(#clip830)\" d=\"M1897.23 1454.1 Q1893.62 1454.1 1891.79 1457.66 Q1889.99 1461.2 1889.99 1468.33 Q1889.99 1475.44 1891.79 1479.01 Q1893.62 1482.55 1897.23 1482.55 Q1900.87 1482.55 1902.67 1479.01 Q1904.5 1475.44 1904.5 1468.33 Q1904.5 1461.2 1902.67 1457.66 Q1900.87 1454.1 1897.23 1454.1 M1897.23 1450.39 Q1903.04 1450.39 1906.1 1455 Q1909.18 1459.58 1909.18 1468.33 Q1909.18 1477.06 1906.1 1481.67 Q1903.04 1486.25 1897.23 1486.25 Q1891.42 1486.25 1888.34 1481.67 Q1885.29 1477.06 1885.29 1468.33 Q1885.29 1459.58 1888.34 1455 Q1891.42 1450.39 1897.23 1450.39 Z\" fill=\"#000000\" fill-rule=\"evenodd\" fill-opacity=\"1\" /><path clip-path=\"url(#clip830)\" d=\"M2267.09 1451.02 L2285.45 1451.02 L2285.45 1454.96 L2271.37 1454.96 L2271.37 1463.43 Q2272.39 1463.08 2273.41 1462.92 Q2274.43 1462.73 2275.45 1462.73 Q2281.23 1462.73 2284.61 1465.9 Q2287.99 1469.08 2287.99 1474.49 Q2287.99 1480.07 2284.52 1483.17 Q2281.05 1486.25 2274.73 1486.25 Q2272.55 1486.25 2270.28 1485.88 Q2268.04 1485.51 2265.63 1484.77 L2265.63 1480.07 Q2267.72 1481.2 2269.94 1481.76 Q2272.16 1482.32 2274.64 1482.32 Q2278.64 1482.32 2280.98 1480.21 Q2283.32 1478.1 2283.32 1474.49 Q2283.32 1470.88 2280.98 1468.77 Q2278.64 1466.67 2274.64 1466.67 Q2272.76 1466.67 2270.89 1467.08 Q2269.03 1467.5 2267.09 1468.38 L2267.09 1451.02 Z\" fill=\"#000000\" fill-rule=\"evenodd\" fill-opacity=\"1\" /><path clip-path=\"url(#clip830)\" d=\"M2307.21 1454.1 Q2303.59 1454.1 2301.77 1457.66 Q2299.96 1461.2 2299.96 1468.33 Q2299.96 1475.44 2301.77 1479.01 Q2303.59 1482.55 2307.21 1482.55 Q2310.84 1482.55 2312.65 1479.01 Q2314.47 1475.44 2314.47 1468.33 Q2314.47 1461.2 2312.65 1457.66 Q2310.84 1454.1 2307.21 1454.1 M2307.21 1450.39 Q2313.02 1450.39 2316.07 1455 Q2319.15 1459.58 2319.15 1468.33 Q2319.15 1477.06 2316.07 1481.67 Q2313.02 1486.25 2307.21 1486.25 Q2301.4 1486.25 2298.32 1481.67 Q2295.26 1477.06 2295.26 1468.33 Q2295.26 1459.58 2298.32 1455 Q2301.4 1450.39 2307.21 1450.39 Z\" fill=\"#000000\" fill-rule=\"evenodd\" fill-opacity=\"1\" /><path clip-path=\"url(#clip830)\" d=\"M1285.37 1522.27 L1285.37 1532.4 L1297.44 1532.4 L1297.44 1536.95 L1285.37 1536.95 L1285.37 1556.3 Q1285.37 1560.66 1286.55 1561.9 Q1287.76 1563.14 1291.42 1563.14 L1297.44 1563.14 L1297.44 1568.04 L1291.42 1568.04 Q1284.64 1568.04 1282.06 1565.53 Q1279.48 1562.98 1279.48 1556.3 L1279.48 1536.95 L1275.19 1536.95 L1275.19 1532.4 L1279.48 1532.4 L1279.48 1522.27 L1285.37 1522.27 Z\" fill=\"#000000\" fill-rule=\"evenodd\" fill-opacity=\"1\" /><polyline clip-path=\"url(#clip832)\" style=\"stroke:#000000; stroke-linecap:butt; stroke-linejoin:round; stroke-width:2; stroke-opacity:0.1; fill:none\" points=\"\n",
       "  219.866,1219.1 2352.76,1219.1 \n",
       "  \"/>\n",
       "<polyline clip-path=\"url(#clip832)\" style=\"stroke:#000000; stroke-linecap:butt; stroke-linejoin:round; stroke-width:2; stroke-opacity:0.1; fill:none\" points=\"\n",
       "  219.866,863.187 2352.76,863.187 \n",
       "  \"/>\n",
       "<polyline clip-path=\"url(#clip832)\" style=\"stroke:#000000; stroke-linecap:butt; stroke-linejoin:round; stroke-width:2; stroke-opacity:0.1; fill:none\" points=\"\n",
       "  219.866,507.273 2352.76,507.273 \n",
       "  \"/>\n",
       "<polyline clip-path=\"url(#clip832)\" style=\"stroke:#000000; stroke-linecap:butt; stroke-linejoin:round; stroke-width:2; stroke-opacity:0.1; fill:none\" points=\"\n",
       "  219.866,151.358 2352.76,151.358 \n",
       "  \"/>\n",
       "<polyline clip-path=\"url(#clip830)\" style=\"stroke:#000000; stroke-linecap:butt; stroke-linejoin:round; stroke-width:4; stroke-opacity:1; fill:none\" points=\"\n",
       "  219.866,1423.18 219.866,123.472 \n",
       "  \"/>\n",
       "<polyline clip-path=\"url(#clip830)\" style=\"stroke:#000000; stroke-linecap:butt; stroke-linejoin:round; stroke-width:4; stroke-opacity:1; fill:none\" points=\"\n",
       "  219.866,1219.1 238.764,1219.1 \n",
       "  \"/>\n",
       "<polyline clip-path=\"url(#clip830)\" style=\"stroke:#000000; stroke-linecap:butt; stroke-linejoin:round; stroke-width:4; stroke-opacity:1; fill:none\" points=\"\n",
       "  219.866,863.187 238.764,863.187 \n",
       "  \"/>\n",
       "<polyline clip-path=\"url(#clip830)\" style=\"stroke:#000000; stroke-linecap:butt; stroke-linejoin:round; stroke-width:4; stroke-opacity:1; fill:none\" points=\"\n",
       "  219.866,507.273 238.764,507.273 \n",
       "  \"/>\n",
       "<polyline clip-path=\"url(#clip830)\" style=\"stroke:#000000; stroke-linecap:butt; stroke-linejoin:round; stroke-width:4; stroke-opacity:1; fill:none\" points=\"\n",
       "  219.866,151.358 238.764,151.358 \n",
       "  \"/>\n",
       "<path clip-path=\"url(#clip830)\" d=\"M126.205 1204.9 Q122.593 1204.9 120.765 1208.46 Q118.959 1212.01 118.959 1219.14 Q118.959 1226.24 120.765 1229.81 Q122.593 1233.35 126.205 1233.35 Q129.839 1233.35 131.644 1229.81 Q133.473 1226.24 133.473 1219.14 Q133.473 1212.01 131.644 1208.46 Q129.839 1204.9 126.205 1204.9 M126.205 1201.2 Q132.015 1201.2 135.07 1205.8 Q138.149 1210.39 138.149 1219.14 Q138.149 1227.86 135.07 1232.47 Q132.015 1237.05 126.205 1237.05 Q120.394 1237.05 117.316 1232.47 Q114.26 1227.86 114.26 1219.14 Q114.26 1210.39 117.316 1205.8 Q120.394 1201.2 126.205 1201.2 Z\" fill=\"#000000\" fill-rule=\"evenodd\" fill-opacity=\"1\" /><path clip-path=\"url(#clip830)\" d=\"M146.366 1230.5 L151.251 1230.5 L151.251 1236.38 L146.366 1236.38 L146.366 1230.5 Z\" fill=\"#000000\" fill-rule=\"evenodd\" fill-opacity=\"1\" /><path clip-path=\"url(#clip830)\" d=\"M174.283 1205.9 L162.477 1224.34 L174.283 1224.34 L174.283 1205.9 M173.056 1201.82 L178.936 1201.82 L178.936 1224.34 L183.866 1224.34 L183.866 1228.23 L178.936 1228.23 L178.936 1236.38 L174.283 1236.38 L174.283 1228.23 L158.681 1228.23 L158.681 1223.72 L173.056 1201.82 Z\" fill=\"#000000\" fill-rule=\"evenodd\" fill-opacity=\"1\" /><path clip-path=\"url(#clip830)\" d=\"M126.529 848.986 Q122.918 848.986 121.089 852.551 Q119.283 856.092 119.283 863.222 Q119.283 870.328 121.089 873.893 Q122.918 877.435 126.529 877.435 Q130.163 877.435 131.968 873.893 Q133.797 870.328 133.797 863.222 Q133.797 856.092 131.968 852.551 Q130.163 848.986 126.529 848.986 M126.529 845.282 Q132.339 845.282 135.394 849.889 Q138.473 854.472 138.473 863.222 Q138.473 871.949 135.394 876.555 Q132.339 881.138 126.529 881.138 Q120.718 881.138 117.64 876.555 Q114.584 871.949 114.584 863.222 Q114.584 854.472 117.64 849.889 Q120.718 845.282 126.529 845.282 Z\" fill=\"#000000\" fill-rule=\"evenodd\" fill-opacity=\"1\" /><path clip-path=\"url(#clip830)\" d=\"M146.691 874.588 L151.575 874.588 L151.575 880.467 L146.691 880.467 L146.691 874.588 Z\" fill=\"#000000\" fill-rule=\"evenodd\" fill-opacity=\"1\" /><path clip-path=\"url(#clip830)\" d=\"M172.339 861.324 Q169.19 861.324 167.339 863.476 Q165.51 865.629 165.51 869.379 Q165.51 873.106 167.339 875.282 Q169.19 877.435 172.339 877.435 Q175.487 877.435 177.315 875.282 Q179.167 873.106 179.167 869.379 Q179.167 865.629 177.315 863.476 Q175.487 861.324 172.339 861.324 M181.621 846.671 L181.621 850.93 Q179.862 850.097 178.056 849.657 Q176.274 849.217 174.514 849.217 Q169.885 849.217 167.431 852.342 Q165.001 855.467 164.653 861.787 Q166.019 859.773 168.079 858.708 Q170.139 857.62 172.616 857.62 Q177.825 857.62 180.834 860.791 Q183.866 863.939 183.866 869.379 Q183.866 874.703 180.718 877.921 Q177.57 881.138 172.339 881.138 Q166.343 881.138 163.172 876.555 Q160.001 871.949 160.001 863.222 Q160.001 855.027 163.89 850.166 Q167.778 845.282 174.329 845.282 Q176.089 845.282 177.871 845.629 Q179.676 845.977 181.621 846.671 Z\" fill=\"#000000\" fill-rule=\"evenodd\" fill-opacity=\"1\" /><path clip-path=\"url(#clip830)\" d=\"M126.783 493.071 Q123.172 493.071 121.343 496.636 Q119.538 500.178 119.538 507.307 Q119.538 514.414 121.343 517.979 Q123.172 521.52 126.783 521.52 Q130.417 521.52 132.223 517.979 Q134.052 514.414 134.052 507.307 Q134.052 500.178 132.223 496.636 Q130.417 493.071 126.783 493.071 M126.783 489.368 Q132.593 489.368 135.649 493.974 Q138.728 498.558 138.728 507.307 Q138.728 516.034 135.649 520.641 Q132.593 525.224 126.783 525.224 Q120.973 525.224 117.894 520.641 Q114.839 516.034 114.839 507.307 Q114.839 498.558 117.894 493.974 Q120.973 489.368 126.783 489.368 Z\" fill=\"#000000\" fill-rule=\"evenodd\" fill-opacity=\"1\" /><path clip-path=\"url(#clip830)\" d=\"M146.945 518.673 L151.829 518.673 L151.829 524.553 L146.945 524.553 L146.945 518.673 Z\" fill=\"#000000\" fill-rule=\"evenodd\" fill-opacity=\"1\" /><path clip-path=\"url(#clip830)\" d=\"M172.014 508.141 Q168.681 508.141 166.76 509.923 Q164.862 511.706 164.862 514.831 Q164.862 517.956 166.76 519.738 Q168.681 521.52 172.014 521.52 Q175.348 521.52 177.269 519.738 Q179.19 517.932 179.19 514.831 Q179.19 511.706 177.269 509.923 Q175.371 508.141 172.014 508.141 M167.339 506.15 Q164.329 505.409 162.64 503.349 Q160.973 501.289 160.973 498.326 Q160.973 494.183 163.913 491.775 Q166.876 489.368 172.014 489.368 Q177.176 489.368 180.116 491.775 Q183.056 494.183 183.056 498.326 Q183.056 501.289 181.366 503.349 Q179.7 505.409 176.714 506.15 Q180.093 506.937 181.968 509.229 Q183.866 511.52 183.866 514.831 Q183.866 519.854 180.788 522.539 Q177.732 525.224 172.014 525.224 Q166.297 525.224 163.218 522.539 Q160.163 519.854 160.163 514.831 Q160.163 511.52 162.061 509.229 Q163.959 506.937 167.339 506.15 M165.626 498.766 Q165.626 501.451 167.292 502.956 Q168.982 504.46 172.014 504.46 Q175.024 504.46 176.714 502.956 Q178.426 501.451 178.426 498.766 Q178.426 496.081 176.714 494.576 Q175.024 493.071 172.014 493.071 Q168.982 493.071 167.292 494.576 Q165.626 496.081 165.626 498.766 Z\" fill=\"#000000\" fill-rule=\"evenodd\" fill-opacity=\"1\" /><path clip-path=\"url(#clip830)\" d=\"M117.501 164.703 L125.14 164.703 L125.14 138.338 L116.83 140.004 L116.83 135.745 L125.093 134.078 L129.769 134.078 L129.769 164.703 L137.408 164.703 L137.408 168.638 L117.501 168.638 L117.501 164.703 Z\" fill=\"#000000\" fill-rule=\"evenodd\" fill-opacity=\"1\" /><path clip-path=\"url(#clip830)\" d=\"M146.853 162.759 L151.737 162.759 L151.737 168.638 L146.853 168.638 L146.853 162.759 Z\" fill=\"#000000\" fill-rule=\"evenodd\" fill-opacity=\"1\" /><path clip-path=\"url(#clip830)\" d=\"M171.922 137.157 Q168.311 137.157 166.482 140.722 Q164.677 144.264 164.677 151.393 Q164.677 158.5 166.482 162.064 Q168.311 165.606 171.922 165.606 Q175.556 165.606 177.362 162.064 Q179.19 158.5 179.19 151.393 Q179.19 144.264 177.362 140.722 Q175.556 137.157 171.922 137.157 M171.922 133.453 Q177.732 133.453 180.788 138.06 Q183.866 142.643 183.866 151.393 Q183.866 160.12 180.788 164.726 Q177.732 169.31 171.922 169.31 Q166.112 169.31 163.033 164.726 Q159.978 160.12 159.978 151.393 Q159.978 142.643 163.033 138.06 Q166.112 133.453 171.922 133.453 Z\" fill=\"#000000\" fill-rule=\"evenodd\" fill-opacity=\"1\" /><path clip-path=\"url(#clip830)\" d=\"M22.818 866.743 L46.4666 875.464 L46.4666 857.99 L22.818 866.743 M16.4842 870.371 L16.4842 863.082 L64.0042 844.972 L64.0042 851.656 L51.8138 855.985 L51.8138 877.405 L64.0042 881.734 L64.0042 888.513 L16.4842 870.371 Z\" fill=\"#000000\" fill-rule=\"evenodd\" fill-opacity=\"1\" /><path clip-path=\"url(#clip830)\" d=\"M16.4842 838.765 L16.4842 832.304 L45.3526 832.304 Q52.9915 832.304 56.3653 829.535 Q59.7073 826.766 59.7073 820.56 Q59.7073 814.385 56.3653 811.616 Q52.9915 808.847 45.3526 808.847 L16.4842 808.847 L16.4842 802.385 L46.1484 802.385 Q55.4423 802.385 60.1847 807.001 Q64.9272 811.584 64.9272 820.56 Q64.9272 829.567 60.1847 834.182 Q55.4423 838.765 46.1484 838.765 L16.4842 838.765 Z\" fill=\"#000000\" fill-rule=\"evenodd\" fill-opacity=\"1\" /><path clip-path=\"url(#clip830)\" d=\"M41.7242 767.788 Q42.4244 765.719 44.7161 763.777 Q47.0077 761.804 51.0181 759.831 L64.0042 753.306 L64.0042 760.213 L51.8138 766.292 Q47.0395 768.647 45.48 770.875 Q43.9204 773.071 43.9204 776.891 L43.9204 783.893 L64.0042 783.893 L64.0042 790.322 L16.4842 790.322 L16.4842 775.809 Q16.4842 767.661 19.8898 763.65 Q23.2955 759.64 30.1704 759.64 Q34.6582 759.64 37.6183 761.74 Q40.5784 763.809 41.7242 767.788 M21.7677 783.893 L38.6368 783.893 L38.6368 775.809 Q38.6368 771.162 36.5043 768.806 Q34.34 766.419 30.1704 766.419 Q26.0009 766.419 23.9002 768.806 Q21.7677 771.162 21.7677 775.809 L21.7677 783.893 Z\" fill=\"#000000\" fill-rule=\"evenodd\" fill-opacity=\"1\" /><path clip-path=\"url(#clip830)\" d=\"M20.8447 725.742 Q20.8447 732.745 26.0645 736.882 Q31.2844 740.988 40.2919 740.988 Q49.2675 740.988 54.4874 736.882 Q59.7073 732.745 59.7073 725.742 Q59.7073 718.74 54.4874 714.666 Q49.2675 710.56 40.2919 710.56 Q31.2844 710.56 26.0645 714.666 Q20.8447 718.74 20.8447 725.742 M15.6248 725.742 Q15.6248 715.748 22.3406 709.764 Q29.0246 703.781 40.2919 703.781 Q51.5274 703.781 58.2432 709.764 Q64.9272 715.748 64.9272 725.742 Q64.9272 735.768 58.2432 741.784 Q51.5592 747.768 40.2919 747.768 Q29.0246 747.768 22.3406 741.784 Q15.6248 735.768 15.6248 725.742 Z\" fill=\"#000000\" fill-rule=\"evenodd\" fill-opacity=\"1\" /><path clip-path=\"url(#clip830)\" d=\"M20.1444 658.139 L26.9239 658.139 Q23.9002 661.385 22.4043 665.077 Q20.9083 668.737 20.9083 672.875 Q20.9083 681.023 25.9054 685.352 Q30.8707 689.681 40.2919 689.681 Q49.6813 689.681 54.6784 685.352 Q59.6436 681.023 59.6436 672.875 Q59.6436 668.737 58.1477 665.077 Q56.6518 661.385 53.6281 658.139 L60.3439 658.139 Q62.6355 661.512 63.7814 665.3 Q64.9272 669.056 64.9272 673.257 Q64.9272 684.047 58.3387 690.254 Q51.7183 696.46 40.2919 696.46 Q28.8336 696.46 22.2451 690.254 Q15.6248 684.047 15.6248 673.257 Q15.6248 668.992 16.7706 665.236 Q17.8846 661.449 20.1444 658.139 Z\" fill=\"#000000\" fill-rule=\"evenodd\" fill-opacity=\"1\" /><path clip-path=\"url(#clip830)\" d=\"M532.053 14.0809 L532.053 22.0612 Q527.394 19.8332 523.263 18.7395 Q519.131 17.6457 515.282 17.6457 Q508.598 17.6457 504.952 20.2383 Q501.347 22.8309 501.347 27.611 Q501.347 31.6214 503.737 33.6873 Q506.168 35.7128 512.892 36.9686 L517.834 37.9813 Q526.989 39.7232 531.324 44.1387 Q535.699 48.5136 535.699 55.8863 Q535.699 64.6767 529.784 69.2137 Q523.911 73.7508 512.528 73.7508 Q508.234 73.7508 503.373 72.7785 Q498.552 71.8063 493.367 69.9024 L493.367 61.4765 Q498.349 64.2716 503.13 65.6895 Q507.91 67.1073 512.528 67.1073 Q519.536 67.1073 523.344 64.3527 Q527.151 61.598 527.151 56.4939 Q527.151 52.0379 524.397 49.5264 Q521.683 47.0148 515.444 45.759 L510.462 44.7868 Q501.307 42.9639 497.215 39.075 Q493.124 35.1862 493.124 28.2591 Q493.124 20.2383 498.755 15.6203 Q504.426 11.0023 514.351 11.0023 Q518.604 11.0023 523.019 11.7719 Q527.435 12.5416 532.053 14.0809 Z\" fill=\"#000000\" fill-rule=\"evenodd\" fill-opacity=\"1\" /><path clip-path=\"url(#clip830)\" d=\"M548.459 12.096 L586.7 12.096 L586.7 18.9825 L556.642 18.9825 L556.642 36.8875 L585.444 36.8875 L585.444 43.7741 L556.642 43.7741 L556.642 65.6895 L587.429 65.6895 L587.429 72.576 L548.459 72.576 L548.459 12.096 Z\" fill=\"#000000\" fill-rule=\"evenodd\" fill-opacity=\"1\" /><path clip-path=\"url(#clip830)\" d=\"M600.878 12.096 L609.061 12.096 L609.061 72.576 L600.878 72.576 L600.878 12.096 Z\" fill=\"#000000\" fill-rule=\"evenodd\" fill-opacity=\"1\" /><path clip-path=\"url(#clip830)\" d=\"M654.026 44.2197 Q656.659 45.1109 659.13 48.0275 Q661.641 50.9442 664.153 56.0483 L672.457 72.576 L663.667 72.576 L655.93 57.061 Q652.932 50.9847 650.096 48.9997 Q647.301 47.0148 642.44 47.0148 L633.528 47.0148 L633.528 72.576 L625.345 72.576 L625.345 12.096 L643.817 12.096 Q654.188 12.096 659.292 16.4305 Q664.396 20.7649 664.396 29.5149 Q664.396 35.2267 661.722 38.994 Q659.089 42.7613 654.026 44.2197 M633.528 18.8205 L633.528 40.2903 L643.817 40.2903 Q649.732 40.2903 652.729 37.5762 Q655.768 34.8216 655.768 29.5149 Q655.768 24.2082 652.729 21.5346 Q649.732 18.8205 643.817 18.8205 L633.528 18.8205 Z\" fill=\"#000000\" fill-rule=\"evenodd\" fill-opacity=\"1\" /><path clip-path=\"url(#clip830)\" d=\"M724.957 72.576 L701.867 12.096 L710.414 12.096 L729.575 63.0159 L748.776 12.096 L757.283 12.096 L734.234 72.576 L724.957 72.576 Z\" fill=\"#000000\" fill-rule=\"evenodd\" fill-opacity=\"1\" /><path clip-path=\"url(#clip830)\" d=\"M802.37 14.0809 L802.37 22.0612 Q797.711 19.8332 793.579 18.7395 Q789.447 17.6457 785.599 17.6457 Q778.915 17.6457 775.269 20.2383 Q771.664 22.8309 771.664 27.611 Q771.664 31.6214 774.054 33.6873 Q776.485 35.7128 783.209 36.9686 L788.151 37.9813 Q797.306 39.7232 801.641 44.1387 Q806.016 48.5136 806.016 55.8863 Q806.016 64.6767 800.101 69.2137 Q794.227 73.7508 782.844 73.7508 Q778.55 73.7508 773.689 72.7785 Q768.869 71.8063 763.684 69.9024 L763.684 61.4765 Q768.666 64.2716 773.446 65.6895 Q778.226 67.1073 782.844 67.1073 Q789.853 67.1073 793.66 64.3527 Q797.468 61.598 797.468 56.4939 Q797.468 52.0379 794.714 49.5264 Q791.999 47.0148 785.761 45.759 L780.778 44.7868 Q771.623 42.9639 767.532 39.075 Q763.441 35.1862 763.441 28.2591 Q763.441 20.2383 769.071 15.6203 Q774.743 11.0023 784.667 11.0023 Q788.921 11.0023 793.336 11.7719 Q797.752 12.5416 802.37 14.0809 Z\" fill=\"#000000\" fill-rule=\"evenodd\" fill-opacity=\"1\" /><path clip-path=\"url(#clip830)\" d=\"M881.403 14.0809 L881.403 22.0612 Q876.744 19.8332 872.612 18.7395 Q868.481 17.6457 864.632 17.6457 Q857.948 17.6457 854.302 20.2383 Q850.697 22.8309 850.697 27.611 Q850.697 31.6214 853.087 33.6873 Q855.518 35.7128 862.242 36.9686 L867.184 37.9813 Q876.339 39.7232 880.674 44.1387 Q885.049 48.5136 885.049 55.8863 Q885.049 64.6767 879.134 69.2137 Q873.261 73.7508 861.878 73.7508 Q857.584 73.7508 852.723 72.7785 Q847.902 71.8063 842.717 69.9024 L842.717 61.4765 Q847.699 64.2716 852.479 65.6895 Q857.26 67.1073 861.878 67.1073 Q868.886 67.1073 872.694 64.3527 Q876.501 61.598 876.501 56.4939 Q876.501 52.0379 873.747 49.5264 Q871.033 47.0148 864.794 45.759 L859.812 44.7868 Q850.657 42.9639 846.565 39.075 Q842.474 35.1862 842.474 28.2591 Q842.474 20.2383 848.105 15.6203 Q853.776 11.0023 863.701 11.0023 Q867.954 11.0023 872.369 11.7719 Q876.785 12.5416 881.403 14.0809 Z\" fill=\"#000000\" fill-rule=\"evenodd\" fill-opacity=\"1\" /><path clip-path=\"url(#clip830)\" d=\"M897.809 12.096 L905.992 12.096 L905.992 72.576 L897.809 72.576 L897.809 12.096 Z\" fill=\"#000000\" fill-rule=\"evenodd\" fill-opacity=\"1\" /><path clip-path=\"url(#clip830)\" d=\"M950.957 44.2197 Q953.59 45.1109 956.061 48.0275 Q958.573 50.9442 961.084 56.0483 L969.389 72.576 L960.598 72.576 L952.861 57.061 Q949.863 50.9847 947.028 48.9997 Q944.232 47.0148 939.371 47.0148 L930.459 47.0148 L930.459 72.576 L922.277 72.576 L922.277 12.096 L940.749 12.096 Q951.119 12.096 956.223 16.4305 Q961.327 20.7649 961.327 29.5149 Q961.327 35.2267 958.654 38.994 Q956.021 42.7613 950.957 44.2197 M930.459 18.8205 L930.459 40.2903 L940.749 40.2903 Q946.663 40.2903 949.661 37.5762 Q952.699 34.8216 952.699 29.5149 Q952.699 24.2082 949.661 21.5346 Q946.663 18.8205 940.749 18.8205 L930.459 18.8205 Z\" fill=\"#000000\" fill-rule=\"evenodd\" fill-opacity=\"1\" /><path clip-path=\"url(#clip830)\" d=\"M1026.51 20.1573 L1015.41 50.2555 L1037.65 50.2555 L1026.51 20.1573 M1021.89 12.096 L1031.16 12.096 L1054.21 72.576 L1045.71 72.576 L1040.2 57.061 L1012.94 57.061 L1007.43 72.576 L998.798 72.576 L1021.89 12.096 Z\" fill=\"#000000\" fill-rule=\"evenodd\" fill-opacity=\"1\" /><path clip-path=\"url(#clip830)\" d=\"M1062.11 12.096 L1070.34 12.096 L1070.34 48.8377 Q1070.34 58.5599 1073.86 62.8538 Q1077.39 67.1073 1085.28 67.1073 Q1093.14 67.1073 1096.67 62.8538 Q1100.19 58.5599 1100.19 48.8377 L1100.19 12.096 L1108.42 12.096 L1108.42 49.8504 Q1108.42 61.6791 1102.54 67.7149 Q1096.71 73.7508 1085.28 73.7508 Q1073.82 73.7508 1067.95 67.7149 Q1062.11 61.6791 1062.11 49.8504 L1062.11 12.096 Z\" fill=\"#000000\" fill-rule=\"evenodd\" fill-opacity=\"1\" /><path clip-path=\"url(#clip830)\" d=\"M1152.45 44.2197 Q1155.08 45.1109 1157.55 48.0275 Q1160.06 50.9442 1162.58 56.0483 L1170.88 72.576 L1162.09 72.576 L1154.35 57.061 Q1151.36 50.9847 1148.52 48.9997 Q1145.72 47.0148 1140.86 47.0148 L1131.95 47.0148 L1131.95 72.576 L1123.77 72.576 L1123.77 12.096 L1142.24 12.096 Q1152.61 12.096 1157.72 16.4305 Q1162.82 20.7649 1162.82 29.5149 Q1162.82 35.2267 1160.15 38.994 Q1157.51 42.7613 1152.45 44.2197 M1131.95 18.8205 L1131.95 40.2903 L1142.24 40.2903 Q1148.15 40.2903 1151.15 37.5762 Q1154.19 34.8216 1154.19 29.5149 Q1154.19 24.2082 1151.15 21.5346 Q1148.15 18.8205 1142.24 18.8205 L1131.95 18.8205 Z\" fill=\"#000000\" fill-rule=\"evenodd\" fill-opacity=\"1\" /><path clip-path=\"url(#clip830)\" d=\"M1205.96 17.6457 Q1197.05 17.6457 1191.78 24.2892 Q1186.56 30.9327 1186.56 42.3968 Q1186.56 53.8203 1191.78 60.4638 Q1197.05 67.1073 1205.96 67.1073 Q1214.87 67.1073 1220.06 60.4638 Q1225.28 53.8203 1225.28 42.3968 Q1225.28 30.9327 1220.06 24.2892 Q1214.87 17.6457 1205.96 17.6457 M1205.96 11.0023 Q1218.68 11.0023 1226.3 19.5497 Q1233.91 28.0566 1233.91 42.3968 Q1233.91 56.6965 1226.3 65.2439 Q1218.68 73.7508 1205.96 73.7508 Q1193.2 73.7508 1185.54 65.2439 Q1177.93 56.737 1177.93 42.3968 Q1177.93 28.0566 1185.54 19.5497 Q1193.2 11.0023 1205.96 11.0023 Z\" fill=\"#000000\" fill-rule=\"evenodd\" fill-opacity=\"1\" /><path clip-path=\"url(#clip830)\" d=\"M1292 16.7545 L1292 25.383 Q1287.87 21.5346 1283.17 19.6307 Q1278.51 17.7268 1273.25 17.7268 Q1262.88 17.7268 1257.37 24.0867 Q1251.86 30.4061 1251.86 42.3968 Q1251.86 54.3469 1257.37 60.7069 Q1262.88 67.0263 1273.25 67.0263 Q1278.51 67.0263 1283.17 65.1223 Q1287.87 63.2184 1292 59.3701 L1292 67.9175 Q1287.71 70.8341 1282.89 72.2924 Q1278.11 73.7508 1272.76 73.7508 Q1259.03 73.7508 1251.13 65.3654 Q1243.23 56.9395 1243.23 42.3968 Q1243.23 27.8135 1251.13 19.4281 Q1259.03 11.0023 1272.76 11.0023 Q1278.19 11.0023 1282.97 12.4606 Q1287.79 13.8784 1292 16.7545 Z\" fill=\"#000000\" fill-rule=\"evenodd\" fill-opacity=\"1\" /><path clip-path=\"url(#clip830)\" d=\"M1330.69 27.2059 L1338.14 27.2059 L1338.14 72.576 L1330.69 72.576 L1330.69 27.2059 M1330.69 9.54393 L1338.14 9.54393 L1338.14 18.9825 L1330.69 18.9825 L1330.69 9.54393 Z\" fill=\"#000000\" fill-rule=\"evenodd\" fill-opacity=\"1\" /><path clip-path=\"url(#clip830)\" d=\"M1391.45 45.1919 L1391.45 72.576 L1384 72.576 L1384 45.4349 Q1384 38.994 1381.49 35.7938 Q1378.98 32.5936 1373.95 32.5936 Q1367.92 32.5936 1364.43 36.4419 Q1360.95 40.2903 1360.95 46.9338 L1360.95 72.576 L1353.45 72.576 L1353.45 27.2059 L1360.95 27.2059 L1360.95 34.2544 Q1363.62 30.163 1367.23 28.1376 Q1370.87 26.1121 1375.61 26.1121 Q1383.43 26.1121 1387.44 30.9732 Q1391.45 35.7938 1391.45 45.1919 Z\" fill=\"#000000\" fill-rule=\"evenodd\" fill-opacity=\"1\" /><path clip-path=\"url(#clip830)\" d=\"M1455.66 9.54393 L1455.66 15.7418 L1448.53 15.7418 Q1444.52 15.7418 1442.94 17.3622 Q1441.4 18.9825 1441.4 23.1955 L1441.4 27.2059 L1453.67 27.2059 L1453.67 32.9987 L1441.4 32.9987 L1441.4 72.576 L1433.91 72.576 L1433.91 32.9987 L1426.78 32.9987 L1426.78 27.2059 L1433.91 27.2059 L1433.91 24.0462 Q1433.91 16.471 1437.43 13.0277 Q1440.95 9.54393 1448.61 9.54393 L1455.66 9.54393 Z\" fill=\"#000000\" fill-rule=\"evenodd\" fill-opacity=\"1\" /><path clip-path=\"url(#clip830)\" d=\"M1461.13 54.671 L1461.13 27.2059 L1468.58 27.2059 L1468.58 54.3874 Q1468.58 60.8284 1471.09 64.0691 Q1473.6 67.2693 1478.63 67.2693 Q1484.66 67.2693 1488.15 63.421 Q1491.67 59.5726 1491.67 52.9291 L1491.67 27.2059 L1499.13 27.2059 L1499.13 72.576 L1491.67 72.576 L1491.67 65.6084 Q1488.96 69.7404 1485.35 71.7658 Q1481.79 73.7508 1477.05 73.7508 Q1469.23 73.7508 1465.18 68.8897 Q1461.13 64.0286 1461.13 54.671 M1479.88 26.1121 L1479.88 26.1121 Z\" fill=\"#000000\" fill-rule=\"evenodd\" fill-opacity=\"1\" /><path clip-path=\"url(#clip830)\" d=\"M1552.19 45.1919 L1552.19 72.576 L1544.74 72.576 L1544.74 45.4349 Q1544.74 38.994 1542.23 35.7938 Q1539.72 32.5936 1534.69 32.5936 Q1528.66 32.5936 1525.17 36.4419 Q1521.69 40.2903 1521.69 46.9338 L1521.69 72.576 L1514.19 72.576 L1514.19 27.2059 L1521.69 27.2059 L1521.69 34.2544 Q1524.36 30.163 1527.97 28.1376 Q1531.61 26.1121 1536.35 26.1121 Q1544.17 26.1121 1548.18 30.9732 Q1552.19 35.7938 1552.19 45.1919 Z\" fill=\"#000000\" fill-rule=\"evenodd\" fill-opacity=\"1\" /><path clip-path=\"url(#clip830)\" d=\"M1599.71 28.9478 L1599.71 35.9153 Q1596.55 34.1734 1593.35 33.3227 Q1590.19 32.4315 1586.95 32.4315 Q1579.7 32.4315 1575.69 37.0496 Q1571.68 41.6271 1571.68 49.9314 Q1571.68 58.2358 1575.69 62.8538 Q1579.7 67.4314 1586.95 67.4314 Q1590.19 67.4314 1593.35 66.5807 Q1596.55 65.6895 1599.71 63.9476 L1599.71 70.8341 Q1596.59 72.2924 1593.23 73.0216 Q1589.91 73.7508 1586.14 73.7508 Q1575.89 73.7508 1569.85 67.3098 Q1563.82 60.8689 1563.82 49.9314 Q1563.82 38.832 1569.89 32.472 Q1576.01 26.1121 1586.62 26.1121 Q1590.07 26.1121 1593.35 26.8413 Q1596.63 27.5299 1599.71 28.9478 Z\" fill=\"#000000\" fill-rule=\"evenodd\" fill-opacity=\"1\" /><path clip-path=\"url(#clip830)\" d=\"M1620.04 14.324 L1620.04 27.2059 L1635.4 27.2059 L1635.4 32.9987 L1620.04 32.9987 L1620.04 57.6282 Q1620.04 63.1779 1621.54 64.7578 Q1623.08 66.3376 1627.74 66.3376 L1635.4 66.3376 L1635.4 72.576 L1627.74 72.576 Q1619.11 72.576 1615.83 69.3758 Q1612.55 66.1351 1612.55 57.6282 L1612.55 32.9987 L1607.08 32.9987 L1607.08 27.2059 L1612.55 27.2059 L1612.55 14.324 L1620.04 14.324 Z\" fill=\"#000000\" fill-rule=\"evenodd\" fill-opacity=\"1\" /><path clip-path=\"url(#clip830)\" d=\"M1645.2 27.2059 L1652.65 27.2059 L1652.65 72.576 L1645.2 72.576 L1645.2 27.2059 M1645.2 9.54393 L1652.65 9.54393 L1652.65 18.9825 L1645.2 18.9825 L1645.2 9.54393 Z\" fill=\"#000000\" fill-rule=\"evenodd\" fill-opacity=\"1\" /><path clip-path=\"url(#clip830)\" d=\"M1685.83 32.4315 Q1679.84 32.4315 1676.35 37.1306 Q1672.87 41.7891 1672.87 49.9314 Q1672.87 58.0738 1676.31 62.7728 Q1679.8 67.4314 1685.83 67.4314 Q1691.79 67.4314 1695.27 62.7323 Q1698.75 58.0333 1698.75 49.9314 Q1698.75 41.8701 1695.27 37.1711 Q1691.79 32.4315 1685.83 32.4315 M1685.83 26.1121 Q1695.55 26.1121 1701.1 32.4315 Q1706.65 38.7509 1706.65 49.9314 Q1706.65 61.0714 1701.1 67.4314 Q1695.55 73.7508 1685.83 73.7508 Q1676.07 73.7508 1670.52 67.4314 Q1665.01 61.0714 1665.01 49.9314 Q1665.01 38.7509 1670.52 32.4315 Q1676.07 26.1121 1685.83 26.1121 Z\" fill=\"#000000\" fill-rule=\"evenodd\" fill-opacity=\"1\" /><path clip-path=\"url(#clip830)\" d=\"M1756.72 45.1919 L1756.72 72.576 L1749.27 72.576 L1749.27 45.4349 Q1749.27 38.994 1746.76 35.7938 Q1744.25 32.5936 1739.22 32.5936 Q1733.19 32.5936 1729.7 36.4419 Q1726.22 40.2903 1726.22 46.9338 L1726.22 72.576 L1718.72 72.576 L1718.72 27.2059 L1726.22 27.2059 L1726.22 34.2544 Q1728.89 30.163 1732.5 28.1376 Q1736.14 26.1121 1740.88 26.1121 Q1748.7 26.1121 1752.71 30.9732 Q1756.72 35.7938 1756.72 45.1919 Z\" fill=\"#000000\" fill-rule=\"evenodd\" fill-opacity=\"1\" /><path clip-path=\"url(#clip830)\" d=\"M1815.54 32.4315 Q1809.55 32.4315 1806.06 37.1306 Q1802.58 41.7891 1802.58 49.9314 Q1802.58 58.0738 1806.02 62.7728 Q1809.51 67.4314 1815.54 67.4314 Q1821.5 67.4314 1824.98 62.7323 Q1828.46 58.0333 1828.46 49.9314 Q1828.46 41.8701 1824.98 37.1711 Q1821.5 32.4315 1815.54 32.4315 M1815.54 26.1121 Q1825.26 26.1121 1830.81 32.4315 Q1836.36 38.7509 1836.36 49.9314 Q1836.36 61.0714 1830.81 67.4314 Q1825.26 73.7508 1815.54 73.7508 Q1805.78 73.7508 1800.23 67.4314 Q1794.72 61.0714 1794.72 49.9314 Q1794.72 38.7509 1800.23 32.4315 Q1805.78 26.1121 1815.54 26.1121 Z\" fill=\"#000000\" fill-rule=\"evenodd\" fill-opacity=\"1\" /><path clip-path=\"url(#clip830)\" d=\"M1871.69 9.54393 L1871.69 15.7418 L1864.56 15.7418 Q1860.55 15.7418 1858.97 17.3622 Q1857.43 18.9825 1857.43 23.1955 L1857.43 27.2059 L1869.7 27.2059 L1869.7 32.9987 L1857.43 32.9987 L1857.43 72.576 L1849.93 72.576 L1849.93 32.9987 L1842.8 32.9987 L1842.8 27.2059 L1849.93 27.2059 L1849.93 24.0462 Q1849.93 16.471 1853.46 13.0277 Q1856.98 9.54393 1864.64 9.54393 L1871.69 9.54393 Z\" fill=\"#000000\" fill-rule=\"evenodd\" fill-opacity=\"1\" /><path clip-path=\"url(#clip830)\" d=\"M1911.67 14.324 L1911.67 27.2059 L1927.02 27.2059 L1927.02 32.9987 L1911.67 32.9987 L1911.67 57.6282 Q1911.67 63.1779 1913.17 64.7578 Q1914.71 66.3376 1919.37 66.3376 L1927.02 66.3376 L1927.02 72.576 L1919.37 72.576 Q1910.74 72.576 1907.46 69.3758 Q1904.18 66.1351 1904.18 57.6282 L1904.18 32.9987 L1898.71 32.9987 L1898.71 27.2059 L1904.18 27.2059 L1904.18 14.324 L1911.67 14.324 Z\" fill=\"#000000\" fill-rule=\"evenodd\" fill-opacity=\"1\" /><path clip-path=\"url(#clip830)\" d=\"M1936.83 27.2059 L1944.28 27.2059 L1944.28 72.576 L1936.83 72.576 L1936.83 27.2059 M1936.83 9.54393 L1944.28 9.54393 L1944.28 18.9825 L1936.83 18.9825 L1936.83 9.54393 Z\" fill=\"#000000\" fill-rule=\"evenodd\" fill-opacity=\"1\" /><path clip-path=\"url(#clip830)\" d=\"M1995.2 35.9153 Q1997.99 30.8922 2001.88 28.5022 Q2005.77 26.1121 2011.04 26.1121 Q2018.13 26.1121 2021.98 31.0947 Q2025.82 36.0368 2025.82 45.1919 L2025.82 72.576 L2018.33 72.576 L2018.33 45.4349 Q2018.33 38.913 2016.02 35.7533 Q2013.71 32.5936 2008.97 32.5936 Q2003.18 32.5936 1999.82 36.4419 Q1996.45 40.2903 1996.45 46.9338 L1996.45 72.576 L1988.96 72.576 L1988.96 45.4349 Q1988.96 38.8725 1986.65 35.7533 Q1984.34 32.5936 1979.52 32.5936 Q1973.81 32.5936 1970.45 36.4824 Q1967.09 40.3308 1967.09 46.9338 L1967.09 72.576 L1959.59 72.576 L1959.59 27.2059 L1967.09 27.2059 L1967.09 34.2544 Q1969.64 30.082 1973.2 28.0971 Q1976.77 26.1121 1981.67 26.1121 Q1986.61 26.1121 1990.05 28.6237 Q1993.54 31.1352 1995.2 35.9153 Z\" fill=\"#000000\" fill-rule=\"evenodd\" fill-opacity=\"1\" /><path clip-path=\"url(#clip830)\" d=\"M2079.5 48.0275 L2079.5 51.6733 L2045.23 51.6733 Q2045.71 59.3701 2049.85 63.421 Q2054.02 67.4314 2061.43 67.4314 Q2065.73 67.4314 2069.74 66.3781 Q2073.79 65.3249 2077.76 63.2184 L2077.76 70.267 Q2073.75 71.9684 2069.53 72.8596 Q2065.32 73.7508 2060.99 73.7508 Q2050.13 73.7508 2043.77 67.4314 Q2037.45 61.1119 2037.45 50.3365 Q2037.45 39.1965 2043.45 32.6746 Q2049.48 26.1121 2059.69 26.1121 Q2068.84 26.1121 2074.15 32.0264 Q2079.5 37.9003 2079.5 48.0275 M2072.04 45.84 Q2071.96 39.7232 2068.6 36.0774 Q2065.28 32.4315 2059.77 32.4315 Q2053.53 32.4315 2049.76 35.9558 Q2046.04 39.4801 2045.47 45.8805 L2072.04 45.84 Z\" fill=\"#000000\" fill-rule=\"evenodd\" fill-opacity=\"1\" /><polyline clip-path=\"url(#clip832)\" style=\"stroke:#009af9; stroke-linecap:butt; stroke-linejoin:round; stroke-width:4; stroke-opacity:1; fill:none\" points=\"\n",
       "  280.231,160.256 321.296,857.822 362.36,1108.21 403.425,1152.93 444.489,1319.67 485.554,1361.83 526.618,1299.98 567.683,1259.15 608.747,1386.4 649.811,1296.33 \n",
       "  690.876,1257.28 731.94,1162.64 773.005,1111.79 814.069,1174.78 855.134,1121.22 896.198,1153.27 937.263,1074.48 978.327,1020.59 1019.39,972.273 1060.46,943.146 \n",
       "  1101.52,967.14 1142.59,983.875 1183.65,1020.91 1224.71,1032.18 1265.78,1013.41 1306.84,1055.46 1347.91,1002.46 1388.97,988.821 1430.04,989.654 1471.1,947.62 \n",
       "  1512.17,993.849 1553.23,969.942 1594.29,942.5 1635.36,931.578 1676.42,919.017 1717.49,935.82 1758.55,935.82 1799.62,931.259 1840.68,955.088 1881.75,932.68 \n",
       "  1922.81,911.567 1963.88,941.508 2004.94,913.108 2046,918.542 2087.07,898.779 2128.13,917.074 2169.2,888.439 2210.26,929.607 2251.33,948.426 2292.39,957.207 \n",
       "  \n",
       "  \"/>\n",
       "<polyline clip-path=\"url(#clip832)\" style=\"stroke:#e26f46; stroke-linecap:butt; stroke-linejoin:round; stroke-width:4; stroke-opacity:1; fill:none\" points=\"\n",
       "  280.231,160.256 321.296,1170.81 362.36,1117.16 403.425,1179.75 444.489,1277.52 485.554,1301.61 526.618,1257.83 567.683,1268.37 608.747,1309.79 649.811,1327.39 \n",
       "  690.876,1312.92 731.94,1299.86 773.005,1349.75 814.069,1291.57 855.134,1062.89 896.198,964.864 937.263,860.368 978.327,853.472 1019.39,833.913 1060.46,814.506 \n",
       "  1101.52,821.155 1142.59,827.74 1183.65,821.444 1224.71,837.343 1265.78,846.127 1306.84,874.282 1347.91,861.317 1388.97,905.855 1430.04,922.673 1471.1,979.36 \n",
       "  1512.17,978.714 1553.23,934.422 1594.29,906.75 1635.36,862.14 1676.42,880.983 1717.49,874.096 1758.55,878.044 1799.62,900.688 1840.68,887.599 1881.75,904.618 \n",
       "  1922.81,937.143 1963.88,925.428 2004.94,874.897 2046,871.036 2087.07,924.36 2128.13,928.266 2169.2,944.44 2210.26,958.999 2251.33,980.895 2292.39,992.123 \n",
       "  \n",
       "  \"/>\n",
       "<path clip-path=\"url(#clip830)\" d=\"\n",
       "M1787.15 322.316 L2281.66 322.316 L2281.66 166.796 L1787.15 166.796  Z\n",
       "  \" fill=\"#ffffff\" fill-rule=\"evenodd\" fill-opacity=\"1\"/>\n",
       "<polyline clip-path=\"url(#clip830)\" style=\"stroke:#000000; stroke-linecap:butt; stroke-linejoin:round; stroke-width:4; stroke-opacity:1; fill:none\" points=\"\n",
       "  1787.15,322.316 2281.66,322.316 2281.66,166.796 1787.15,166.796 1787.15,322.316 \n",
       "  \"/>\n",
       "<polyline clip-path=\"url(#clip830)\" style=\"stroke:#009af9; stroke-linecap:butt; stroke-linejoin:round; stroke-width:4; stroke-opacity:1; fill:none\" points=\"\n",
       "  1810.85,218.636 1953.04,218.636 \n",
       "  \"/>\n",
       "<path clip-path=\"url(#clip830)\" d=\"M1992.57 205.962 L1986.23 223.161 L1998.94 223.161 L1992.57 205.962 M1989.93 201.356 L1995.24 201.356 L2008.41 235.916 L2003.55 235.916 L2000.4 227.05 L1984.82 227.05 L1981.67 235.916 L1976.74 235.916 L1989.93 201.356 Z\" fill=\"#000000\" fill-rule=\"evenodd\" fill-opacity=\"1\" /><path clip-path=\"url(#clip830)\" d=\"M2012.92 201.356 L2017.62 201.356 L2017.62 222.351 Q2017.62 227.907 2019.63 230.36 Q2021.65 232.791 2026.16 232.791 Q2030.65 232.791 2032.67 230.36 Q2034.68 227.907 2034.68 222.351 L2034.68 201.356 L2039.38 201.356 L2039.38 222.93 Q2039.38 229.689 2036.02 233.138 Q2032.69 236.587 2026.16 236.587 Q2019.61 236.587 2016.25 233.138 Q2012.92 229.689 2012.92 222.93 L2012.92 201.356 Z\" fill=\"#000000\" fill-rule=\"evenodd\" fill-opacity=\"1\" /><path clip-path=\"url(#clip830)\" d=\"M2066.62 210.985 L2066.62 214.967 Q2064.82 213.971 2062.99 213.485 Q2061.18 212.976 2059.33 212.976 Q2055.19 212.976 2052.9 215.615 Q2050.61 218.231 2050.61 222.976 Q2050.61 227.721 2052.9 230.36 Q2055.19 232.976 2059.33 232.976 Q2061.18 232.976 2062.99 232.49 Q2064.82 231.981 2066.62 230.985 L2066.62 234.92 Q2064.84 235.754 2062.92 236.17 Q2061.02 236.587 2058.87 236.587 Q2053.01 236.587 2049.56 232.906 Q2046.11 229.226 2046.11 222.976 Q2046.11 216.633 2049.59 212.999 Q2053.08 209.365 2059.15 209.365 Q2061.11 209.365 2062.99 209.782 Q2064.86 210.175 2066.62 210.985 Z\" fill=\"#000000\" fill-rule=\"evenodd\" fill-opacity=\"1\" /><path clip-path=\"url(#clip830)\" d=\"M2085.81 222.883 Q2080.65 222.883 2078.66 224.064 Q2076.67 225.244 2076.67 228.092 Q2076.67 230.36 2078.15 231.703 Q2079.66 233.022 2082.23 233.022 Q2085.77 233.022 2087.9 230.522 Q2090.05 227.999 2090.05 223.832 L2090.05 222.883 L2085.81 222.883 M2094.31 221.124 L2094.31 235.916 L2090.05 235.916 L2090.05 231.981 Q2088.59 234.342 2086.42 235.476 Q2084.24 236.587 2081.09 236.587 Q2077.11 236.587 2074.75 234.365 Q2072.41 232.119 2072.41 228.369 Q2072.41 223.994 2075.33 221.772 Q2078.27 219.55 2084.08 219.55 L2090.05 219.55 L2090.05 219.133 Q2090.05 216.194 2088.11 214.596 Q2086.18 212.976 2082.69 212.976 Q2080.47 212.976 2078.36 213.508 Q2076.25 214.041 2074.31 215.106 L2074.31 211.17 Q2076.65 210.268 2078.85 209.828 Q2081.05 209.365 2083.13 209.365 Q2088.75 209.365 2091.53 212.282 Q2094.31 215.198 2094.31 221.124 Z\" fill=\"#000000\" fill-rule=\"evenodd\" fill-opacity=\"1\" /><path clip-path=\"url(#clip830)\" d=\"M2102.64 225.684 L2102.64 209.99 L2106.9 209.99 L2106.9 225.522 Q2106.9 229.203 2108.34 231.055 Q2109.77 232.883 2112.64 232.883 Q2116.09 232.883 2118.08 230.684 Q2120.1 228.485 2120.1 224.689 L2120.1 209.99 L2124.36 209.99 L2124.36 235.916 L2120.1 235.916 L2120.1 231.934 Q2118.55 234.295 2116.48 235.453 Q2114.45 236.587 2111.74 236.587 Q2107.27 236.587 2104.96 233.809 Q2102.64 231.031 2102.64 225.684 M2113.36 209.365 L2113.36 209.365 Z\" fill=\"#000000\" fill-rule=\"evenodd\" fill-opacity=\"1\" /><path clip-path=\"url(#clip830)\" d=\"M2154.03 202.49 L2154.03 207.05 Q2151.37 205.777 2149.01 205.152 Q2146.65 204.527 2144.45 204.527 Q2140.63 204.527 2138.54 206.008 Q2136.48 207.49 2136.48 210.221 Q2136.48 212.513 2137.85 213.694 Q2139.24 214.851 2143.08 215.569 L2145.91 216.147 Q2151.14 217.143 2153.61 219.666 Q2156.11 222.166 2156.11 226.379 Q2156.11 231.402 2152.73 233.994 Q2149.38 236.587 2142.87 236.587 Q2140.42 236.587 2137.64 236.031 Q2134.89 235.476 2131.92 234.388 L2131.92 229.573 Q2134.77 231.17 2137.5 231.981 Q2140.23 232.791 2142.87 232.791 Q2146.88 232.791 2149.05 231.217 Q2151.23 229.643 2151.23 226.726 Q2151.23 224.18 2149.66 222.744 Q2148.11 221.309 2144.54 220.592 L2141.69 220.036 Q2136.46 218.995 2134.12 216.772 Q2131.79 214.55 2131.79 210.592 Q2131.79 206.008 2135 203.37 Q2138.24 200.731 2143.92 200.731 Q2146.35 200.731 2148.87 201.171 Q2151.39 201.61 2154.03 202.49 Z\" fill=\"#000000\" fill-rule=\"evenodd\" fill-opacity=\"1\" /><path clip-path=\"url(#clip830)\" d=\"M2163.41 201.356 L2185.26 201.356 L2185.26 205.291 L2168.08 205.291 L2168.08 215.522 L2184.54 215.522 L2184.54 219.457 L2168.08 219.457 L2168.08 231.981 L2185.67 231.981 L2185.67 235.916 L2163.41 235.916 L2163.41 201.356 Z\" fill=\"#000000\" fill-rule=\"evenodd\" fill-opacity=\"1\" /><path clip-path=\"url(#clip830)\" d=\"M2193.36 201.356 L2198.04 201.356 L2198.04 235.916 L2193.36 235.916 L2193.36 201.356 Z\" fill=\"#000000\" fill-rule=\"evenodd\" fill-opacity=\"1\" /><path clip-path=\"url(#clip830)\" d=\"M2223.73 219.712 Q2225.23 220.221 2226.65 221.888 Q2228.08 223.555 2229.52 226.471 L2234.26 235.916 L2229.24 235.916 L2224.82 227.05 Q2223.1 223.578 2221.48 222.444 Q2219.89 221.309 2217.11 221.309 L2212.02 221.309 L2212.02 235.916 L2207.34 235.916 L2207.34 201.356 L2217.9 201.356 Q2223.82 201.356 2226.74 203.833 Q2229.66 206.309 2229.66 211.309 Q2229.66 214.573 2228.13 216.726 Q2226.62 218.879 2223.73 219.712 M2212.02 205.198 L2212.02 217.467 L2217.9 217.467 Q2221.28 217.467 2222.99 215.916 Q2224.73 214.342 2224.73 211.309 Q2224.73 208.277 2222.99 206.749 Q2221.28 205.198 2217.9 205.198 L2212.02 205.198 Z\" fill=\"#000000\" fill-rule=\"evenodd\" fill-opacity=\"1\" /><polyline clip-path=\"url(#clip830)\" style=\"stroke:#e26f46; stroke-linecap:butt; stroke-linejoin:round; stroke-width:4; stroke-opacity:1; fill:none\" points=\"\n",
       "  1810.85,270.476 1953.04,270.476 \n",
       "  \"/>\n",
       "<path clip-path=\"url(#clip830)\" d=\"M1992.57 257.802 L1986.23 275.001 L1998.94 275.001 L1992.57 257.802 M1989.93 253.196 L1995.24 253.196 L2008.41 287.756 L2003.55 287.756 L2000.4 278.89 L1984.82 278.89 L1981.67 287.756 L1976.74 287.756 L1989.93 253.196 Z\" fill=\"#000000\" fill-rule=\"evenodd\" fill-opacity=\"1\" /><path clip-path=\"url(#clip830)\" d=\"M2012.92 253.196 L2017.62 253.196 L2017.62 274.191 Q2017.62 279.747 2019.63 282.2 Q2021.65 284.631 2026.16 284.631 Q2030.65 284.631 2032.67 282.2 Q2034.68 279.747 2034.68 274.191 L2034.68 253.196 L2039.38 253.196 L2039.38 274.77 Q2039.38 281.529 2036.02 284.978 Q2032.69 288.427 2026.16 288.427 Q2019.61 288.427 2016.25 284.978 Q2012.92 281.529 2012.92 274.77 L2012.92 253.196 Z\" fill=\"#000000\" fill-rule=\"evenodd\" fill-opacity=\"1\" /><path clip-path=\"url(#clip830)\" d=\"M2066.62 262.825 L2066.62 266.807 Q2064.82 265.811 2062.99 265.325 Q2061.18 264.816 2059.33 264.816 Q2055.19 264.816 2052.9 267.455 Q2050.61 270.071 2050.61 274.816 Q2050.61 279.561 2052.9 282.2 Q2055.19 284.816 2059.33 284.816 Q2061.18 284.816 2062.99 284.33 Q2064.82 283.821 2066.62 282.825 L2066.62 286.76 Q2064.84 287.594 2062.92 288.01 Q2061.02 288.427 2058.87 288.427 Q2053.01 288.427 2049.56 284.746 Q2046.11 281.066 2046.11 274.816 Q2046.11 268.473 2049.59 264.839 Q2053.08 261.205 2059.15 261.205 Q2061.11 261.205 2062.99 261.622 Q2064.86 262.015 2066.62 262.825 Z\" fill=\"#000000\" fill-rule=\"evenodd\" fill-opacity=\"1\" /><path clip-path=\"url(#clip830)\" d=\"M2085.81 274.723 Q2080.65 274.723 2078.66 275.904 Q2076.67 277.084 2076.67 279.932 Q2076.67 282.2 2078.15 283.543 Q2079.66 284.862 2082.23 284.862 Q2085.77 284.862 2087.9 282.362 Q2090.05 279.839 2090.05 275.672 L2090.05 274.723 L2085.81 274.723 M2094.31 272.964 L2094.31 287.756 L2090.05 287.756 L2090.05 283.821 Q2088.59 286.182 2086.42 287.316 Q2084.24 288.427 2081.09 288.427 Q2077.11 288.427 2074.75 286.205 Q2072.41 283.959 2072.41 280.209 Q2072.41 275.834 2075.33 273.612 Q2078.27 271.39 2084.08 271.39 L2090.05 271.39 L2090.05 270.973 Q2090.05 268.034 2088.11 266.436 Q2086.18 264.816 2082.69 264.816 Q2080.47 264.816 2078.36 265.348 Q2076.25 265.881 2074.31 266.946 L2074.31 263.01 Q2076.65 262.108 2078.85 261.668 Q2081.05 261.205 2083.13 261.205 Q2088.75 261.205 2091.53 264.122 Q2094.31 267.038 2094.31 272.964 Z\" fill=\"#000000\" fill-rule=\"evenodd\" fill-opacity=\"1\" /><path clip-path=\"url(#clip830)\" d=\"M2102.64 277.524 L2102.64 261.83 L2106.9 261.83 L2106.9 277.362 Q2106.9 281.043 2108.34 282.895 Q2109.77 284.723 2112.64 284.723 Q2116.09 284.723 2118.08 282.524 Q2120.1 280.325 2120.1 276.529 L2120.1 261.83 L2124.36 261.83 L2124.36 287.756 L2120.1 287.756 L2120.1 283.774 Q2118.55 286.135 2116.48 287.293 Q2114.45 288.427 2111.74 288.427 Q2107.27 288.427 2104.96 285.649 Q2102.64 282.871 2102.64 277.524 M2113.36 261.205 L2113.36 261.205 Z\" fill=\"#000000\" fill-rule=\"evenodd\" fill-opacity=\"1\" /><path clip-path=\"url(#clip830)\" d=\"M2154.03 254.33 L2154.03 258.89 Q2151.37 257.617 2149.01 256.992 Q2146.65 256.367 2144.45 256.367 Q2140.63 256.367 2138.54 257.848 Q2136.48 259.33 2136.48 262.061 Q2136.48 264.353 2137.85 265.534 Q2139.24 266.691 2143.08 267.409 L2145.91 267.987 Q2151.14 268.983 2153.61 271.506 Q2156.11 274.006 2156.11 278.219 Q2156.11 283.242 2152.73 285.834 Q2149.38 288.427 2142.87 288.427 Q2140.42 288.427 2137.64 287.871 Q2134.89 287.316 2131.92 286.228 L2131.92 281.413 Q2134.77 283.01 2137.5 283.821 Q2140.23 284.631 2142.87 284.631 Q2146.88 284.631 2149.05 283.057 Q2151.23 281.483 2151.23 278.566 Q2151.23 276.02 2149.66 274.584 Q2148.11 273.149 2144.54 272.432 L2141.69 271.876 Q2136.46 270.835 2134.12 268.612 Q2131.79 266.39 2131.79 262.432 Q2131.79 257.848 2135 255.21 Q2138.24 252.571 2143.92 252.571 Q2146.35 252.571 2148.87 253.011 Q2151.39 253.45 2154.03 254.33 Z\" fill=\"#000000\" fill-rule=\"evenodd\" fill-opacity=\"1\" /><path clip-path=\"url(#clip830)\" d=\"M2163.41 253.196 L2168.08 253.196 L2168.08 287.756 L2163.41 287.756 L2163.41 253.196 Z\" fill=\"#000000\" fill-rule=\"evenodd\" fill-opacity=\"1\" /><path clip-path=\"url(#clip830)\" d=\"M2193.78 271.552 Q2195.28 272.061 2196.69 273.728 Q2198.13 275.395 2199.56 278.311 L2204.31 287.756 L2199.29 287.756 L2194.86 278.89 Q2193.15 275.418 2191.53 274.284 Q2189.93 273.149 2187.16 273.149 L2182.06 273.149 L2182.06 287.756 L2177.39 287.756 L2177.39 253.196 L2187.94 253.196 Q2193.87 253.196 2196.79 255.673 Q2199.7 258.149 2199.7 263.149 Q2199.7 266.413 2198.17 268.566 Q2196.67 270.719 2193.78 271.552 M2182.06 257.038 L2182.06 269.307 L2187.94 269.307 Q2191.32 269.307 2193.04 267.756 Q2194.77 266.182 2194.77 263.149 Q2194.77 260.117 2193.04 258.589 Q2191.32 257.038 2187.94 257.038 L2182.06 257.038 Z\" fill=\"#000000\" fill-rule=\"evenodd\" fill-opacity=\"1\" /></svg>\n"
      ]
     },
     "execution_count": 38,
     "metadata": {},
     "output_type": "execute_result"
    }
   ],
   "source": [
    "T = Int(T)\n",
    "AU_cauSEIR=zeros(T)\n",
    "AU_cauSIR=zeros(T)\n",
    "for t = 1:T\n",
    "    cauSEIR_risk=zeros(N)\n",
    "    cauSIR_risk=zeros(N)\n",
    "    for i=1:N\n",
    "       cauSEIR_risk[i] = marginal(i,t,statscauSEIR)\n",
    "       cauSIR_risk[i] = marginal(i,t,statscauSIR)\n",
    "    end\n",
    "    xt = xtrue[:,2] .< t-1e-3 .< xtrue[:,3]\n",
    "    AU_cauSEIR[t] = AUROC(ROC(xt, cauSEIR_risk))\n",
    "    AU_cauSIR[t] = AUROC(ROC(xt, cauSIR_risk))\n",
    "end\n",
    "\n",
    "plot(LinRange(1,T,T),AU_cauSEIR, label=\"AUcauSEIR\", title=\"SEIR VS SIR AUROC in function of time\")\n",
    "plot!(LinRange(1,T,T),AU_cauSIR, label=\"AUcauSIR\")\n",
    "T = Float64(T)\n",
    "savefig(\"SEIRvsSIR\")\n",
    "xlabel!(\"t\")\n",
    "ylabel!(\"AUROC\")"
   ]
  },
  {
   "cell_type": "code",
   "execution_count": null,
   "metadata": {},
   "outputs": [],
   "source": []
  }
 ],
 "metadata": {
  "kernelspec": {
   "display_name": "Julia 1.7.0-rc2",
   "language": "julia",
   "name": "julia-1.7"
  },
  "language_info": {
   "file_extension": ".jl",
   "mimetype": "application/julia",
   "name": "julia",
   "version": "1.7.0"
  }
 },
 "nbformat": 4,
 "nbformat_minor": 4
}
