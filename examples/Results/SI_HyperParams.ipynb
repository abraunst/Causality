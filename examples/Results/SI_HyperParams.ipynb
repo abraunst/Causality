{
 "cells": [
  {
   "cell_type": "code",
   "execution_count": 1,
   "metadata": {
    "collapsed": true,
    "jupyter": {
     "outputs_hidden": true
    }
   },
   "outputs": [
    {
     "name": "stderr",
     "output_type": "stream",
     "text": [
      "┌ Info: Precompiling Causality [943c2df0-3341-4665-8895-8aff0dd63d80]\n",
      "└ @ Base loading.jl:1423\n",
      "\u001b[33m\u001b[1m┌ \u001b[22m\u001b[39m\u001b[33m\u001b[1mWarning: \u001b[22m\u001b[39mPackage CRlibm does not have Libdl in its dependencies:\n",
      "\u001b[33m\u001b[1m│ \u001b[22m\u001b[39m- If you have CRlibm checked out for development and have\n",
      "\u001b[33m\u001b[1m│ \u001b[22m\u001b[39m  added Libdl as a dependency but haven't updated your primary\n",
      "\u001b[33m\u001b[1m│ \u001b[22m\u001b[39m  environment's manifest file, try `Pkg.resolve()`.\n",
      "\u001b[33m\u001b[1m│ \u001b[22m\u001b[39m- Otherwise you may need to report an issue with CRlibm\n",
      "\u001b[33m\u001b[1m└ \u001b[22m\u001b[39mLoading Libdl into CRlibm from project dependency, future warnings for CRlibm are suppressed.\n",
      "\u001b[33m\u001b[1m┌ \u001b[22m\u001b[39m\u001b[33m\u001b[1mWarning: \u001b[22m\u001b[39mThe call to compilecache failed to create a usable precompiled cache file for IntervalArithmetic [d1acc4aa-44c8-5952-acd4-ba5d80a2a253]\n",
      "\u001b[33m\u001b[1m│ \u001b[22m\u001b[39m  exception = Required dependency CRlibm [96374032-68de-5a5b-8d9e-752f78720389] failed to load from a cache file.\n",
      "\u001b[33m\u001b[1m└ \u001b[22m\u001b[39m\u001b[90m@ Base loading.jl:1132\u001b[39m\n",
      "\u001b[33m\u001b[1m┌ \u001b[22m\u001b[39m\u001b[33m\u001b[1mWarning: \u001b[22m\u001b[39mPackage CRlibm does not have Libdl in its dependencies:\n",
      "\u001b[33m\u001b[1m│ \u001b[22m\u001b[39m- If you have CRlibm checked out for development and have\n",
      "\u001b[33m\u001b[1m│ \u001b[22m\u001b[39m  added Libdl as a dependency but haven't updated your primary\n",
      "\u001b[33m\u001b[1m│ \u001b[22m\u001b[39m  environment's manifest file, try `Pkg.resolve()`.\n",
      "\u001b[33m\u001b[1m│ \u001b[22m\u001b[39m- Otherwise you may need to report an issue with CRlibm\n",
      "\u001b[33m\u001b[1m└ \u001b[22m\u001b[39mLoading Libdl into CRlibm from project dependency, future warnings for CRlibm are suppressed.\n",
      "WARNING: Method definition union(IntervalArithmetic.Interval{T} where T<:Real, IntervalArithmetic.Interval{T} where T<:Real) in module IntervalArithmetic at /home/students/mmariani/.julia/packages/IntervalArithmetic/UR6Qe/src/intervals/set_operations.jl:137 overwritten in module IntervalUnionArithmetic at /home/students/mmariani/.julia/packages/IntervalUnionArithmetic/4sZoD/src/interval_unions.jl:52.\n",
      "  ** incremental compilation may be fatally broken for this module **\n",
      "\n",
      "WARNING: Method definition \\(IntervalUnionArithmetic.IntervalUnion{T} where T<:Real, IntervalUnionArithmetic.IntervalUnion{T} where T<:Real) in module IntervalUnionArithmetic at /home/students/mmariani/.julia/packages/IntervalUnionArithmetic/4sZoD/src/set_operations.jl:77 overwritten at /home/students/mmariani/.julia/packages/IntervalUnionArithmetic/4sZoD/src/set_operations.jl:79.\n",
      "  ** incremental compilation may be fatally broken for this module **\n",
      "\n",
      "\u001b[33m\u001b[1m┌ \u001b[22m\u001b[39m\u001b[33m\u001b[1mWarning: \u001b[22m\u001b[39mThe call to compilecache failed to create a usable precompiled cache file for IntervalUnionArithmetic [bbd57523-681a-4e6b-a941-369dddcfdba8]\n",
      "\u001b[33m\u001b[1m│ \u001b[22m\u001b[39m  exception = Required dependency CRlibm [96374032-68de-5a5b-8d9e-752f78720389] failed to load from a cache file.\n",
      "\u001b[33m\u001b[1m└ \u001b[22m\u001b[39m\u001b[90m@ Base loading.jl:1132\u001b[39m\n",
      "\u001b[33m\u001b[1m┌ \u001b[22m\u001b[39m\u001b[33m\u001b[1mWarning: \u001b[22m\u001b[39mPackage CRlibm does not have Libdl in its dependencies:\n",
      "\u001b[33m\u001b[1m│ \u001b[22m\u001b[39m- If you have CRlibm checked out for development and have\n",
      "\u001b[33m\u001b[1m│ \u001b[22m\u001b[39m  added Libdl as a dependency but haven't updated your primary\n",
      "\u001b[33m\u001b[1m│ \u001b[22m\u001b[39m  environment's manifest file, try `Pkg.resolve()`.\n",
      "\u001b[33m\u001b[1m│ \u001b[22m\u001b[39m- Otherwise you may need to report an issue with CRlibm\n",
      "\u001b[33m\u001b[1m└ \u001b[22m\u001b[39mLoading Libdl into CRlibm from project dependency, future warnings for CRlibm are suppressed.\n",
      "\u001b[33m\u001b[1m┌ \u001b[22m\u001b[39m\u001b[33m\u001b[1mWarning: \u001b[22m\u001b[39mThe call to compilecache failed to create a usable precompiled cache file for IntervalArithmetic [d1acc4aa-44c8-5952-acd4-ba5d80a2a253]\n",
      "\u001b[33m\u001b[1m│ \u001b[22m\u001b[39m  exception = Required dependency CRlibm [96374032-68de-5a5b-8d9e-752f78720389] failed to load from a cache file.\n",
      "\u001b[33m\u001b[1m└ \u001b[22m\u001b[39m\u001b[90m@ Base loading.jl:1132\u001b[39m\n",
      "\u001b[33m\u001b[1m┌ \u001b[22m\u001b[39m\u001b[33m\u001b[1mWarning: \u001b[22m\u001b[39mPackage CRlibm does not have Libdl in its dependencies:\n",
      "\u001b[33m\u001b[1m│ \u001b[22m\u001b[39m- If you have CRlibm checked out for development and have\n",
      "\u001b[33m\u001b[1m│ \u001b[22m\u001b[39m  added Libdl as a dependency but haven't updated your primary\n",
      "\u001b[33m\u001b[1m│ \u001b[22m\u001b[39m  environment's manifest file, try `Pkg.resolve()`.\n",
      "\u001b[33m\u001b[1m│ \u001b[22m\u001b[39m- Otherwise you may need to report an issue with CRlibm\n",
      "\u001b[33m\u001b[1m└ \u001b[22m\u001b[39mLoading Libdl into CRlibm from project dependency, future warnings for CRlibm are suppressed.\n",
      "WARNING: Method definition union(IntervalArithmetic.Interval{T} where T<:Real, IntervalArithmetic.Interval{T} where T<:Real) in module IntervalArithmetic at /home/students/mmariani/.julia/packages/IntervalArithmetic/UR6Qe/src/intervals/set_operations.jl:137 overwritten in module IntervalUnionArithmetic at /home/students/mmariani/.julia/packages/IntervalUnionArithmetic/4sZoD/src/interval_unions.jl:52.\n",
      "  ** incremental compilation may be fatally broken for this module **\n",
      "\n",
      "WARNING: Method definition \\(IntervalUnionArithmetic.IntervalUnion{T} where T<:Real, IntervalUnionArithmetic.IntervalUnion{T} where T<:Real) in module IntervalUnionArithmetic at /home/students/mmariani/.julia/packages/IntervalUnionArithmetic/4sZoD/src/set_operations.jl:77 overwritten at /home/students/mmariani/.julia/packages/IntervalUnionArithmetic/4sZoD/src/set_operations.jl:79.\n",
      "  ** incremental compilation may be fatally broken for this module **\n",
      "\n",
      "WARNING: Method definition nparams(Type{Causality.MaskedRate{R}}) where {R} in module Causality at /home/students/mmariani/git/Causality/src/rates.jl:109 overwritten at /home/students/mmariani/git/Causality/src/rates.jl:129.\n",
      "  ** incremental compilation may be fatally broken for this module **\n",
      "\n",
      "┌ Warning: The call to compilecache failed to create a usable precompiled cache file for Causality [943c2df0-3341-4665-8895-8aff0dd63d80]\n",
      "│   exception = ErrorException(\"Required dependency CRlibm [96374032-68de-5a5b-8d9e-752f78720389] failed to load from a cache file.\")\n",
      "└ @ Base loading.jl:1132\n",
      "┌ Info: Precompiling IntervalUnionArithmetic [bbd57523-681a-4e6b-a941-369dddcfdba8]\n",
      "└ @ Base loading.jl:1423\n",
      "\u001b[33m\u001b[1m┌ \u001b[22m\u001b[39m\u001b[33m\u001b[1mWarning: \u001b[22m\u001b[39mPackage CRlibm does not have Libdl in its dependencies:\n",
      "\u001b[33m\u001b[1m│ \u001b[22m\u001b[39m- If you have CRlibm checked out for development and have\n",
      "\u001b[33m\u001b[1m│ \u001b[22m\u001b[39m  added Libdl as a dependency but haven't updated your primary\n",
      "\u001b[33m\u001b[1m│ \u001b[22m\u001b[39m  environment's manifest file, try `Pkg.resolve()`.\n",
      "\u001b[33m\u001b[1m│ \u001b[22m\u001b[39m- Otherwise you may need to report an issue with CRlibm\n",
      "\u001b[33m\u001b[1m└ \u001b[22m\u001b[39mLoading Libdl into CRlibm from project dependency, future warnings for CRlibm are suppressed.\n",
      "\u001b[33m\u001b[1m┌ \u001b[22m\u001b[39m\u001b[33m\u001b[1mWarning: \u001b[22m\u001b[39mThe call to compilecache failed to create a usable precompiled cache file for IntervalArithmetic [d1acc4aa-44c8-5952-acd4-ba5d80a2a253]\n",
      "\u001b[33m\u001b[1m│ \u001b[22m\u001b[39m  exception = Required dependency CRlibm [96374032-68de-5a5b-8d9e-752f78720389] failed to load from a cache file.\n",
      "\u001b[33m\u001b[1m└ \u001b[22m\u001b[39m\u001b[90m@ Base loading.jl:1132\u001b[39m\n",
      "\u001b[33m\u001b[1m┌ \u001b[22m\u001b[39m\u001b[33m\u001b[1mWarning: \u001b[22m\u001b[39mPackage CRlibm does not have Libdl in its dependencies:\n",
      "\u001b[33m\u001b[1m│ \u001b[22m\u001b[39m- If you have CRlibm checked out for development and have\n",
      "\u001b[33m\u001b[1m│ \u001b[22m\u001b[39m  added Libdl as a dependency but haven't updated your primary\n",
      "\u001b[33m\u001b[1m│ \u001b[22m\u001b[39m  environment's manifest file, try `Pkg.resolve()`.\n",
      "\u001b[33m\u001b[1m│ \u001b[22m\u001b[39m- Otherwise you may need to report an issue with CRlibm\n",
      "\u001b[33m\u001b[1m└ \u001b[22m\u001b[39mLoading Libdl into CRlibm from project dependency, future warnings for CRlibm are suppressed.\n",
      "WARNING: Method definition union(IntervalArithmetic.Interval{T} where T<:Real, IntervalArithmetic.Interval{T} where T<:Real) in module IntervalArithmetic at /home/students/mmariani/.julia/packages/IntervalArithmetic/UR6Qe/src/intervals/set_operations.jl:137 overwritten in module IntervalUnionArithmetic at /home/students/mmariani/.julia/packages/IntervalUnionArithmetic/4sZoD/src/interval_unions.jl:52.\n",
      "  ** incremental compilation may be fatally broken for this module **\n",
      "\n",
      "WARNING: Method definition \\(IntervalUnionArithmetic.IntervalUnion{T} where T<:Real, IntervalUnionArithmetic.IntervalUnion{T} where T<:Real) in module IntervalUnionArithmetic at /home/students/mmariani/.julia/packages/IntervalUnionArithmetic/4sZoD/src/set_operations.jl:77 overwritten at /home/students/mmariani/.julia/packages/IntervalUnionArithmetic/4sZoD/src/set_operations.jl:79.\n",
      "  ** incremental compilation may be fatally broken for this module **\n",
      "\n",
      "┌ Warning: The call to compilecache failed to create a usable precompiled cache file for IntervalUnionArithmetic [bbd57523-681a-4e6b-a941-369dddcfdba8]\n",
      "│   exception = ErrorException(\"Required dependency CRlibm [96374032-68de-5a5b-8d9e-752f78720389] failed to load from a cache file.\")\n",
      "└ @ Base loading.jl:1132\n",
      "┌ Info: Precompiling IntervalArithmetic [d1acc4aa-44c8-5952-acd4-ba5d80a2a253]\n",
      "└ @ Base loading.jl:1423\n",
      "\u001b[33m\u001b[1m┌ \u001b[22m\u001b[39m\u001b[33m\u001b[1mWarning: \u001b[22m\u001b[39mPackage CRlibm does not have Libdl in its dependencies:\n",
      "\u001b[33m\u001b[1m│ \u001b[22m\u001b[39m- If you have CRlibm checked out for development and have\n",
      "\u001b[33m\u001b[1m│ \u001b[22m\u001b[39m  added Libdl as a dependency but haven't updated your primary\n",
      "\u001b[33m\u001b[1m│ \u001b[22m\u001b[39m  environment's manifest file, try `Pkg.resolve()`.\n",
      "\u001b[33m\u001b[1m│ \u001b[22m\u001b[39m- Otherwise you may need to report an issue with CRlibm\n",
      "\u001b[33m\u001b[1m└ \u001b[22m\u001b[39mLoading Libdl into CRlibm from project dependency, future warnings for CRlibm are suppressed.\n",
      "┌ Warning: The call to compilecache failed to create a usable precompiled cache file for IntervalArithmetic [d1acc4aa-44c8-5952-acd4-ba5d80a2a253]\n",
      "│   exception = ErrorException(\"Required dependency CRlibm [96374032-68de-5a5b-8d9e-752f78720389] failed to load from a cache file.\")\n",
      "└ @ Base loading.jl:1132\n",
      "┌ Info: Precompiling CRlibm [96374032-68de-5a5b-8d9e-752f78720389]\n",
      "└ @ Base loading.jl:1423\n",
      "\u001b[33m\u001b[1m┌ \u001b[22m\u001b[39m\u001b[33m\u001b[1mWarning: \u001b[22m\u001b[39mPackage CRlibm does not have Libdl in its dependencies:\n",
      "\u001b[33m\u001b[1m│ \u001b[22m\u001b[39m- If you have CRlibm checked out for development and have\n",
      "\u001b[33m\u001b[1m│ \u001b[22m\u001b[39m  added Libdl as a dependency but haven't updated your primary\n",
      "\u001b[33m\u001b[1m│ \u001b[22m\u001b[39m  environment's manifest file, try `Pkg.resolve()`.\n",
      "\u001b[33m\u001b[1m│ \u001b[22m\u001b[39m- Otherwise you may need to report an issue with CRlibm\n",
      "\u001b[33m\u001b[1m└ \u001b[22m\u001b[39mLoading Libdl into CRlibm from project dependency, future warnings for CRlibm are suppressed.\n"
     ]
    }
   ],
   "source": [
    "using SparseArrays, LinearAlgebra\n",
    "#using Pkg\n",
    "#Pkg.activate(\"../\")\n",
    "using Causality"
   ]
  },
  {
   "cell_type": "markdown",
   "metadata": {},
   "source": [
    "# Generation of Epidemics"
   ]
  },
  {
   "cell_type": "code",
   "execution_count": 4,
   "metadata": {},
   "outputs": [
    {
     "data": {
      "text/plain": [
       "200×200 SparseMatrixCSC{IndexedGraphs.NullNumber, Int64} with 1174 stored entries:\n",
       "⠠⠆⠀⠷⠂⡈⠠⠀⠀⢀⠂⠑⠀⢀⣂⢶⡀⠰⡔⠨⡈⠉⠀⠡⢄⠈⠀⠀⠰⣇⡑⠈⠂⠠⠀⠀⠊⠄⠆⠐\n",
       "⢤⡄⠀⠀⠅⠀⡁⠁⠐⠀⠀⠃⢀⢀⠄⣤⠈⢨⡀⠁⠄⠌⠁⠂⠆⠄⠉⠀⢅⡂⠀⠀⢀⣁⠂⠁⠠⡈⡌⠀\n",
       "⡈⠠⠁⠁⠊⠀⠀⡀⠨⠸⢄⠠⠁⠜⠡⠠⠊⠄⠔⢁⠄⠋⢁⠀⠐⠁⠀⡠⠀⠠⡀⡀⠀⠀⠀⠀⠋⠀⠈⠂\n",
       "⠀⠂⠅⠈⠀⠠⠀⠀⠊⠂⠀⠁⠈⠈⠈⢀⠊⢠⠂⠙⡈⠀⠢⣂⢁⡀⠅⠃⠈⠀⠒⡆⢈⡘⠃⣔⠀⠃⢑⠀\n",
       "⠀⢀⠐⠀⣂⡂⠪⠀⠀⠀⢂⠂⢀⢤⠒⢀⠀⠀⡔⠀⡀⡐⡄⠀⢂⢈⠖⠉⠀⠀⡆⠀⠂⠀⠤⠀⢁⢀⠀⡀\n",
       "⢌⠀⠤⠀⠀⡑⠄⠀⠨⠐⡐⠈⢀⠀⠀⠀⠀⠀⠈⠐⡠⠲⢀⠀⠄⠢⠀⠠⠅⠔⢈⢀⡁⠀⢀⠀⢑⠀⠀⢌\n",
       "⠀⢀⠀⢐⣁⠄⡂⠀⠀⣔⠀⠐⠪⠂⡀⢀⡈⠀⠐⢋⠀⡀⠀⠀⠀⡀⠄⠁⢀⡀⠀⠄⠐⢀⠠⠀⡐⡚⠘⡀\n",
       "⢨⣜⠀⣥⠁⡂⠂⢀⠘⢀⠀⠀⠀⢈⢐⡰⡁⢠⠈⠀⠀⡂⠀⠀⢊⡁⠂⠐⢤⣕⠁⠀⠂⡀⠀⣠⠁⠄⡄⠀\n",
       "⢀⡈⡂⣀⠊⠄⠊⣀⠀⠀⠀⠀⠂⠈⠁⣈⠔⠁⠐⠊⠐⡁⠆⠠⠈⡀⠀⠅⢀⠁⢀⠁⠈⠨⠢⡩⠀⠁⡒⠀\n",
       "⡐⡉⠄⠈⠔⢁⣌⠀⠐⠉⢂⠀⡴⢀⠂⠀⡰⠀⡠⠎⢁⠀⠄⠀⠐⠈⠘⡀⢀⢀⠀⡀⠂⢈⠇⢀⡂⡁⠠⠑\n",
       "⡆⠈⡀⠅⡤⠁⠂⠈⢀⠨⢠⡊⠀⠠⠠⠠⠔⠠⠁⠐⠀⡠⠀⠁⡀⠅⠈⠀⡁⠴⠀⠂⠈⡁⠂⠈⠠⠀⠒⠀\n",
       "⠄⡀⠡⠀⠁⠐⠨⢢⠀⠉⠀⠐⠀⠀⠀⠀⠈⡁⠀⠁⠄⠀⡀⡨⠌⢤⠀⠂⠄⠄⢍⠲⠀⠄⢈⢨⠐⠈⢌⠁\n",
       "⡀⠑⠈⠅⠔⠀⠁⠰⡈⢐⠠⡁⠀⠠⠎⠰⠂⠠⡐⠀⠄⠌⠂⣅⡁⠈⠁⢄⠥⡂⡂⢀⠀⠤⠀⠴⠠⠀⠀⡃\n",
       "⠀⠀⠃⠀⠀⡠⠥⠁⡜⠁⠀⡀⠄⠁⢈⠀⠄⠄⠒⠠⠂⠀⠠⠀⠁⢄⠀⠀⠂⡀⠀⠄⡢⠢⠘⠥⠄⠼⠀⢀\n",
       "⠴⢦⠡⠱⠀⡀⠂⠀⠀⠀⢁⠅⠀⠰⢄⢷⠄⠐⠀⢐⢁⡌⠀⠅⠡⠣⠈⠠⠠⠂⠄⠠⡀⠑⠄⠈⠂⠂⠆⠉\n",
       "⡑⠈⠀⠀⠀⠨⠸⠤⠈⠉⠂⢐⠀⠄⠁⠀⠄⠐⠀⠠⠠⠀⢣⡑⠈⢈⠀⠄⠀⡁⡄⠉⠢⠠⠐⠔⢀⠄⠐⠑\n",
       "⠈⡀⠄⢰⠀⠀⣂⠰⠈⠀⠁⠈⠐⢀⠈⠠⡂⡀⡈⢀⠆⠠⠀⠄⠀⡄⠨⡊⢄⠈⠈⡂⢠⠒⠀⣢⡁⡢⠀⠈\n",
       "⠀⠀⠌⠀⠀⠀⢉⢤⠀⠃⠀⠐⠀⠂⠀⣠⡌⡢⠉⢁⡈⠀⡂⣐⢀⡄⠖⡄⡀⠁⢐⠄⠠⣠⢀⠐⠐⠀⢙⡀\n",
       "⠊⠄⡀⠢⠋⠀⠤⠀⠁⢐⠑⠐⣰⠨⠁⠄⠄⠀⠌⠨⠀⠂⡐⠀⠀⠂⣀⡅⠨⠀⠀⠔⠡⡨⠐⠀⢀⠐⠀⠈\n",
       "⢈⠁⠂⠉⠢⠀⠑⠐⠀⠠⡀⢄⠒⠠⠀⠉⠘⠈⢄⠂⠘⠀⠆⠑⠤⠠⠀⢀⡌⠁⢔⠀⡀⠀⠓⠰⡀⠀⠊⠀"
      ]
     },
     "execution_count": 4,
     "metadata": {},
     "output_type": "execute_result"
    }
   ],
   "source": [
    "T, N = 20.0, 200\n",
    "#G = Causality.makeBarabasi(N,k=2)\n",
    "#ρ = 3/N\n",
    "#G = Causality.makeGNP(N,ρ)\n",
    "G = Causality.makeProximity(N,2.05/N)\n",
    "G.A "
   ]
  },
  {
   "cell_type": "code",
   "execution_count": 5,
   "metadata": {},
   "outputs": [
    {
     "data": {
      "text/plain": [
       "getpargen (generic function with 1 method)"
      ]
     },
     "execution_count": 5,
     "metadata": {},
     "output_type": "execute_result"
    }
   ],
   "source": [
    "getpar(pseed,autoinf::GaussianRate,inf_in::GaussianRate) = \n",
    "    [fill(pseed, 1, N);\n",
    "     fill(autoinf.a, 1, N); fill(autoinf.b, 1, N); fill(autoinf.c, 1, N);\n",
    "     fill(inf_in.a,   1, N); fill(inf_in.b, 1, N); fill(inf_in.c, 1, N);\n",
    "    ]\n",
    "\n",
    "getpargen(pseed, autoinf::GaussianRate, inf_out::GaussianRate) = \n",
    "    [pseed autoinf.a autoinf.b autoinf.c inf_out.a inf_out.b inf_out.c]\n"
   ]
  },
  {
   "cell_type": "code",
   "execution_count": 6,
   "metadata": {},
   "outputs": [],
   "source": [
    "#Initialize generation parameters\n",
    "ε = 1e-10\n",
    "λ = 0.2\n",
    "pseed = 1/N\n",
    "autoinf = GaussianRate(ε, T/2, 1/ε)\n",
    "inf_in = GaussianRate(1.0, T/2, 1/ε)\n",
    "inf_out = GaussianRate(λ, T/2, 1/ε)\n",
    "\n",
    "θp = getpar(pseed, autoinf, inf_in);\n",
    "θpgen = getpargen(pseed, autoinf, inf_out);"
   ]
  },
  {
   "cell_type": "code",
   "execution_count": 7,
   "metadata": {},
   "outputs": [],
   "source": [
    "#Initialize min/max boundaies\n",
    "T = Float64(T)\n",
    "pseed_min = ε\n",
    "pseed_max = 1-ε\n",
    "rate_min = GaussianRate(ε  ,  -T,   ε)\n",
    "rate_max = GaussianRate(1/ε  ,  2T,   1/ε)\n",
    "\n",
    "θmin = getpar(pseed_min , rate_min, rate_min);\n",
    "θmax = getpar(pseed_max , rate_max, rate_max);\n",
    "\n",
    "rate_min = GaussianRate(ε  ,  -T,   ε)\n",
    "rate_max = GaussianRate(1/ε  ,  T,   T)\n",
    "\n",
    "θgenmin = getpargen(pseed_min, rate_min, rate_min);\n",
    "θgenmax = getpargen(pseed_max, rate_max, rate_max);"
   ]
  },
  {
   "cell_type": "code",
   "execution_count": 8,
   "metadata": {},
   "outputs": [
    {
     "data": {
      "text/plain": [
       "GaussianInferentialSI"
      ]
     },
     "execution_count": 8,
     "metadata": {},
     "output_type": "execute_result"
    }
   ],
   "source": [
    "const Igen = GenerativeSI{GaussianRate,GaussianRate} \n",
    "const Igauss = GaussianInferentialSI"
   ]
  },
  {
   "cell_type": "code",
   "execution_count": 16,
   "metadata": {},
   "outputs": [
    {
     "data": {
      "text/plain": [
       "168"
      ]
     },
     "execution_count": 16,
     "metadata": {},
     "output_type": "execute_result"
    }
   ],
   "source": [
    "Mp = StochasticModel(Igen, T, θp, G, θpgen);\n",
    "sample! = Sampler(Mp);\n",
    "\n",
    "xtrue = zeros(N)\n",
    "sample!(xtrue)\n",
    "nobs, p = 100, 1e-5\n",
    "#nobs, p = N, 1e-5\n",
    "O = [(ti = T*(1+rand())/2; (i,xtrue[i] < ti,ti,p)) for i=1:nobs]\n",
    "sum(xtrue .< T)"
   ]
  },
  {
   "cell_type": "markdown",
   "metadata": {},
   "source": [
    "## Causality (with inference of Infection Hyperparameter)"
   ]
  },
  {
   "cell_type": "code",
   "execution_count": 18,
   "metadata": {},
   "outputs": [],
   "source": [
    "#Softened model\n",
    "T = Float64(T)\n",
    "ε = 1e-3\n",
    "autoinf = GaussianRate(ε, T/2, T);\n",
    "inf_out = GaussianRate(1/2, T/2, 3*T)\n",
    "θp2gen = getpargen(pseed, autoinf, inf_out);\n",
    "inf_in = GaussianRate(1., T/2, 3*T );\n",
    "\n",
    "θp2 = getpar(pseed, autoinf, inf_in);\n",
    "Mp2 = StochasticModel(Igen, T, θp2, G, θp2gen);"
   ]
  },
  {
   "cell_type": "code",
   "execution_count": 19,
   "metadata": {},
   "outputs": [],
   "source": [
    "θ = getpar(pseed, autoinf, inf_in);\n",
    "M = StochasticModel(Igauss, T, θ, G, θp2gen);"
   ]
  },
  {
   "cell_type": "code",
   "execution_count": 21,
   "metadata": {},
   "outputs": [
    {
     "name": "stderr",
     "output_type": "stream",
     "text": [
      "\u001b[32mProgress: 100%|█████████████████████████████████████████| Time: 0:02:53\u001b[39m\n",
      "\u001b[34m  F:  61.52874763580482\u001b[39m\n"
     ]
    },
    {
     "data": {
      "text/plain": [
       "61.52874763580482"
      ]
     },
     "execution_count": 21,
     "metadata": {},
     "output_type": "execute_result"
    }
   ],
   "source": [
    "using ProgressMeter\n",
    "ProgressMeter.ijulia_behavior(:clear)\n",
    "F = descend!(Mp2, O; M=M, numsamples=2000, numiters=200, \n",
    "         θmin=θmin, θmax=θmax,θgenmin=θgenmin, θgenmax=θgenmax, descender=SignDescender(0.1),\n",
    "         hyperdescender=SignDescender(0.1),learnhyper=1);\n",
    "F = descend!(Mp2, O; M=M, numsamples=2000, numiters=200, \n",
    "         θmin=θmin, θmax=θmax,θgenmin=θgenmin, θgenmax=θgenmax, descender=SignDescender(0.02),\n",
    "         hyperdescender=SignDescender(0.02),learnhyper=1);\n",
    "F"
   ]
  },
  {
   "cell_type": "code",
   "execution_count": 22,
   "metadata": {},
   "outputs": [
    {
     "data": {
      "text/plain": [
       "1×7 Matrix{Float64}:\n",
       " 0.005  1.0e-10  10.0  1.0e10  0.2  10.0  1.0e10"
      ]
     },
     "execution_count": 22,
     "metadata": {},
     "output_type": "execute_result"
    }
   ],
   "source": [
    "Mp.θgen"
   ]
  },
  {
   "cell_type": "code",
   "execution_count": 23,
   "metadata": {},
   "outputs": [
    {
     "data": {
      "text/plain": [
       "1×7 Matrix{Float64}:\n",
       " 0.005  0.001  10.0  20.0  0.155852  10.0  20.0"
      ]
     },
     "execution_count": 23,
     "metadata": {},
     "output_type": "execute_result"
    }
   ],
   "source": [
    "M.θgen"
   ]
  },
  {
   "cell_type": "code",
   "execution_count": 24,
   "metadata": {},
   "outputs": [
    {
     "name": "stderr",
     "output_type": "stream",
     "text": [
      "\u001b[32mProgress: 100%|█████████████████████████████████████████| Time: 0:00:02\u001b[39m\n"
     ]
    }
   ],
   "source": [
    "statscauHyper = prior(M, numsamples=10000);"
   ]
  },
  {
   "cell_type": "markdown",
   "metadata": {},
   "source": [
    "## Causality (without inference of Hyperparameters)"
   ]
  },
  {
   "cell_type": "code",
   "execution_count": 25,
   "metadata": {},
   "outputs": [],
   "source": [
    "#Softened model\n",
    "T = Float64(T)\n",
    "ε = 1e-3\n",
    "autoinf = GaussianRate(ε, T/2, T);\n",
    "inf_out = GaussianRate(λ, T/2, 3*T)\n",
    "θp2gen = getpargen(pseed, autoinf, inf_out);\n",
    "inf_in = GaussianRate(1., T/2, 3*T );\n",
    "\n",
    "θp2 = getpar(pseed, autoinf, inf_in);\n",
    "Mp2 = StochasticModel(Igen, T, θp2, G, θp2gen);"
   ]
  },
  {
   "cell_type": "code",
   "execution_count": 26,
   "metadata": {},
   "outputs": [],
   "source": [
    "θ = getpar(pseed, autoinf, inf_in);\n",
    "M = StochasticModel(Igauss, T, θ, G, θp2gen);"
   ]
  },
  {
   "cell_type": "code",
   "execution_count": 27,
   "metadata": {},
   "outputs": [
    {
     "name": "stderr",
     "output_type": "stream",
     "text": [
      "\u001b[32mProgress: 100%|█████████████████████████████████████████| Time: 0:03:13\u001b[39m\n",
      "\u001b[34m  F:  59.85671604629056\u001b[39m\n"
     ]
    },
    {
     "data": {
      "text/plain": [
       "59.85671604629056"
      ]
     },
     "execution_count": 27,
     "metadata": {},
     "output_type": "execute_result"
    }
   ],
   "source": [
    "using ProgressMeter\n",
    "ProgressMeter.ijulia_behavior(:clear)\n",
    "F = descend!(Mp2, O; M=M, numsamples=2000, numiters=200, \n",
    "         θmin=θmin, θmax=θmax,θgenmin=θgenmin, θgenmax=θgenmax, descender=SignDescender(0.1),\n",
    "         hyperdescender=SignDescender(0.),learnhyper=1);\n",
    "F = descend!(Mp2, O; M=M, numsamples=2000, numiters=200, \n",
    "         θmin=θmin, θmax=θmax,θgenmin=θgenmin, θgenmax=θgenmax, descender=SignDescender(0.02),\n",
    "         hyperdescender=SignDescender(0.),learnhyper=1);\n",
    "F"
   ]
  },
  {
   "cell_type": "code",
   "execution_count": 28,
   "metadata": {},
   "outputs": [
    {
     "name": "stderr",
     "output_type": "stream",
     "text": [
      "\u001b[32mProgress: 100%|█████████████████████████████████████████| Time: 0:00:02\u001b[39m\n"
     ]
    }
   ],
   "source": [
    "statscau = prior(M, numsamples=10000);"
   ]
  },
  {
   "cell_type": "markdown",
   "metadata": {},
   "source": [
    "\n",
    "## Marginals and ROC curve"
   ]
  },
  {
   "cell_type": "code",
   "execution_count": 29,
   "metadata": {},
   "outputs": [
    {
     "data": {
      "text/plain": [
       "AUROC (generic function with 1 method)"
      ]
     },
     "execution_count": 29,
     "metadata": {},
     "output_type": "execute_result"
    }
   ],
   "source": [
    "function marginal(i, t, stats)\n",
    "    numsamp = size(stats,1)\n",
    "    sum(stats[:,i] .< t)/numsamp\n",
    "end\n",
    "\n",
    "function tpr(xtrue, rank) \n",
    "    cumsum(xtrue[rank]) ./( cumsum(xtrue[rank])[end])\n",
    "end\n",
    "\n",
    "function fpr(xtrue, rank) \n",
    "    N = size(rank,1)\n",
    "    return (range(1,N,length=N) .- cumsum(xtrue[rank])) ./ (range(1,N,length=N) .- cumsum(xtrue[rank]) )[end]\n",
    "end\n",
    "\n",
    "function ROC(xtrue, p)\n",
    "    N = size(xtrue,1)\n",
    "    rank = sortperm(p, rev=true)\n",
    "    \n",
    "    return fpr(xtrue, rank) , tpr(xtrue, rank)\n",
    "end\n",
    "\n",
    "function AUROC(ROC)\n",
    "    N = size(ROC[1],1) \n",
    "    AU = 0\n",
    "    for t = 1:N-1\n",
    "        AU += ROC[2][t] * (ROC[1][t+1] - ROC[1][t])\n",
    "    end\n",
    "    return AU\n",
    "end"
   ]
  },
  {
   "cell_type": "code",
   "execution_count": 30,
   "metadata": {},
   "outputs": [
    {
     "data": {
      "image/svg+xml": [
       "<?xml version=\"1.0\" encoding=\"utf-8\"?>\n",
       "<svg xmlns=\"http://www.w3.org/2000/svg\" xmlns:xlink=\"http://www.w3.org/1999/xlink\" width=\"600\" height=\"400\" viewBox=\"0 0 2400 1600\">\n",
       "<defs>\n",
       "  <clipPath id=\"clip100\">\n",
       "    <rect x=\"0\" y=\"0\" width=\"2400\" height=\"1600\"/>\n",
       "  </clipPath>\n",
       "</defs>\n",
       "<path clip-path=\"url(#clip100)\" d=\"\n",
       "M0 1600 L2400 1600 L2400 0 L0 0  Z\n",
       "  \" fill=\"#ffffff\" fill-rule=\"evenodd\" fill-opacity=\"1\"/>\n",
       "<defs>\n",
       "  <clipPath id=\"clip101\">\n",
       "    <rect x=\"480\" y=\"0\" width=\"1681\" height=\"1600\"/>\n",
       "  </clipPath>\n",
       "</defs>\n",
       "<path clip-path=\"url(#clip100)\" d=\"\n",
       "M156.598 1486.45 L2352.76 1486.45 L2352.76 47.2441 L156.598 47.2441  Z\n",
       "  \" fill=\"#ffffff\" fill-rule=\"evenodd\" fill-opacity=\"1\"/>\n",
       "<defs>\n",
       "  <clipPath id=\"clip102\">\n",
       "    <rect x=\"156\" y=\"47\" width=\"2197\" height=\"1440\"/>\n",
       "  </clipPath>\n",
       "</defs>\n",
       "<polyline clip-path=\"url(#clip102)\" style=\"stroke:#000000; stroke-linecap:butt; stroke-linejoin:round; stroke-width:2; stroke-opacity:0.1; fill:none\" points=\"\n",
       "  654.932,1486.45 654.932,47.2441 \n",
       "  \"/>\n",
       "<polyline clip-path=\"url(#clip102)\" style=\"stroke:#000000; stroke-linecap:butt; stroke-linejoin:round; stroke-width:2; stroke-opacity:0.1; fill:none\" points=\"\n",
       "  1200.15,1486.45 1200.15,47.2441 \n",
       "  \"/>\n",
       "<polyline clip-path=\"url(#clip102)\" style=\"stroke:#000000; stroke-linecap:butt; stroke-linejoin:round; stroke-width:2; stroke-opacity:0.1; fill:none\" points=\"\n",
       "  1745.38,1486.45 1745.38,47.2441 \n",
       "  \"/>\n",
       "<polyline clip-path=\"url(#clip102)\" style=\"stroke:#000000; stroke-linecap:butt; stroke-linejoin:round; stroke-width:2; stroke-opacity:0.1; fill:none\" points=\"\n",
       "  2290.6,1486.45 2290.6,47.2441 \n",
       "  \"/>\n",
       "<polyline clip-path=\"url(#clip100)\" style=\"stroke:#000000; stroke-linecap:butt; stroke-linejoin:round; stroke-width:4; stroke-opacity:1; fill:none\" points=\"\n",
       "  156.598,1486.45 2352.76,1486.45 \n",
       "  \"/>\n",
       "<polyline clip-path=\"url(#clip100)\" style=\"stroke:#000000; stroke-linecap:butt; stroke-linejoin:round; stroke-width:4; stroke-opacity:1; fill:none\" points=\"\n",
       "  654.932,1486.45 654.932,1467.55 \n",
       "  \"/>\n",
       "<polyline clip-path=\"url(#clip100)\" style=\"stroke:#000000; stroke-linecap:butt; stroke-linejoin:round; stroke-width:4; stroke-opacity:1; fill:none\" points=\"\n",
       "  1200.15,1486.45 1200.15,1467.55 \n",
       "  \"/>\n",
       "<polyline clip-path=\"url(#clip100)\" style=\"stroke:#000000; stroke-linecap:butt; stroke-linejoin:round; stroke-width:4; stroke-opacity:1; fill:none\" points=\"\n",
       "  1745.38,1486.45 1745.38,1467.55 \n",
       "  \"/>\n",
       "<polyline clip-path=\"url(#clip100)\" style=\"stroke:#000000; stroke-linecap:butt; stroke-linejoin:round; stroke-width:4; stroke-opacity:1; fill:none\" points=\"\n",
       "  2290.6,1486.45 2290.6,1467.55 \n",
       "  \"/>\n",
       "<path clip-path=\"url(#clip100)\" d=\"M645.21 1514.29 L663.566 1514.29 L663.566 1518.22 L649.492 1518.22 L649.492 1526.7 Q650.511 1526.35 651.529 1526.19 Q652.548 1526 653.566 1526 Q659.353 1526 662.733 1529.17 Q666.112 1532.34 666.112 1537.76 Q666.112 1543.34 662.64 1546.44 Q659.168 1549.52 652.849 1549.52 Q650.673 1549.52 648.404 1549.15 Q646.159 1548.78 643.751 1548.04 L643.751 1543.34 Q645.835 1544.47 648.057 1545.03 Q650.279 1545.58 652.756 1545.58 Q656.761 1545.58 659.099 1543.48 Q661.437 1541.37 661.437 1537.76 Q661.437 1534.15 659.099 1532.04 Q656.761 1529.94 652.756 1529.94 Q650.881 1529.94 649.006 1530.35 Q647.154 1530.77 645.21 1531.65 L645.21 1514.29 Z\" fill=\"#000000\" fill-rule=\"evenodd\" fill-opacity=\"1\" /><path clip-path=\"url(#clip100)\" d=\"M1174.84 1544.91 L1182.48 1544.91 L1182.48 1518.55 L1174.17 1520.21 L1174.17 1515.95 L1182.43 1514.29 L1187.11 1514.29 L1187.11 1544.91 L1194.75 1544.91 L1194.75 1548.85 L1174.84 1548.85 L1174.84 1544.91 Z\" fill=\"#000000\" fill-rule=\"evenodd\" fill-opacity=\"1\" /><path clip-path=\"url(#clip100)\" d=\"M1214.19 1517.37 Q1210.58 1517.37 1208.75 1520.93 Q1206.95 1524.47 1206.95 1531.6 Q1206.95 1538.71 1208.75 1542.27 Q1210.58 1545.82 1214.19 1545.82 Q1217.83 1545.82 1219.63 1542.27 Q1221.46 1538.71 1221.46 1531.6 Q1221.46 1524.47 1219.63 1520.93 Q1217.83 1517.37 1214.19 1517.37 M1214.19 1513.66 Q1220 1513.66 1223.06 1518.27 Q1226.14 1522.85 1226.14 1531.6 Q1226.14 1540.33 1223.06 1544.94 Q1220 1549.52 1214.19 1549.52 Q1208.38 1549.52 1205.31 1544.94 Q1202.25 1540.33 1202.25 1531.6 Q1202.25 1522.85 1205.31 1518.27 Q1208.38 1513.66 1214.19 1513.66 Z\" fill=\"#000000\" fill-rule=\"evenodd\" fill-opacity=\"1\" /><path clip-path=\"url(#clip100)\" d=\"M1720.56 1544.91 L1728.2 1544.91 L1728.2 1518.55 L1719.89 1520.21 L1719.89 1515.95 L1728.16 1514.29 L1732.83 1514.29 L1732.83 1544.91 L1740.47 1544.91 L1740.47 1548.85 L1720.56 1548.85 L1720.56 1544.91 Z\" fill=\"#000000\" fill-rule=\"evenodd\" fill-opacity=\"1\" /><path clip-path=\"url(#clip100)\" d=\"M1749.96 1514.29 L1768.32 1514.29 L1768.32 1518.22 L1754.24 1518.22 L1754.24 1526.7 Q1755.26 1526.35 1756.28 1526.19 Q1757.3 1526 1758.32 1526 Q1764.1 1526 1767.48 1529.17 Q1770.86 1532.34 1770.86 1537.76 Q1770.86 1543.34 1767.39 1546.44 Q1763.92 1549.52 1757.6 1549.52 Q1755.42 1549.52 1753.16 1549.15 Q1750.91 1548.78 1748.5 1548.04 L1748.5 1543.34 Q1750.59 1544.47 1752.81 1545.03 Q1755.03 1545.58 1757.51 1545.58 Q1761.51 1545.58 1763.85 1543.48 Q1766.19 1541.37 1766.19 1537.76 Q1766.19 1534.15 1763.85 1532.04 Q1761.51 1529.94 1757.51 1529.94 Q1755.63 1529.94 1753.76 1530.35 Q1751.91 1530.77 1749.96 1531.65 L1749.96 1514.29 Z\" fill=\"#000000\" fill-rule=\"evenodd\" fill-opacity=\"1\" /><path clip-path=\"url(#clip100)\" d=\"M2269.37 1544.91 L2285.69 1544.91 L2285.69 1548.85 L2263.75 1548.85 L2263.75 1544.91 Q2266.41 1542.16 2270.99 1537.53 Q2275.6 1532.88 2276.78 1531.53 Q2279.03 1529.01 2279.91 1527.27 Q2280.81 1525.51 2280.81 1523.82 Q2280.81 1521.07 2278.86 1519.33 Q2276.94 1517.6 2273.84 1517.6 Q2271.64 1517.6 2269.19 1518.36 Q2266.76 1519.13 2263.98 1520.68 L2263.98 1515.95 Q2266.8 1514.82 2269.26 1514.24 Q2271.71 1513.66 2273.75 1513.66 Q2279.12 1513.66 2282.31 1516.35 Q2285.51 1519.03 2285.51 1523.52 Q2285.51 1525.65 2284.7 1527.57 Q2283.91 1529.47 2281.8 1532.07 Q2281.23 1532.74 2278.12 1535.95 Q2275.02 1539.15 2269.37 1544.91 Z\" fill=\"#000000\" fill-rule=\"evenodd\" fill-opacity=\"1\" /><path clip-path=\"url(#clip100)\" d=\"M2305.51 1517.37 Q2301.9 1517.37 2300.07 1520.93 Q2298.26 1524.47 2298.26 1531.6 Q2298.26 1538.71 2300.07 1542.27 Q2301.9 1545.82 2305.51 1545.82 Q2309.14 1545.82 2310.95 1542.27 Q2312.78 1538.71 2312.78 1531.6 Q2312.78 1524.47 2310.95 1520.93 Q2309.14 1517.37 2305.51 1517.37 M2305.51 1513.66 Q2311.32 1513.66 2314.37 1518.27 Q2317.45 1522.85 2317.45 1531.6 Q2317.45 1540.33 2314.37 1544.94 Q2311.32 1549.52 2305.51 1549.52 Q2299.7 1549.52 2296.62 1544.94 Q2293.56 1540.33 2293.56 1531.6 Q2293.56 1522.85 2296.62 1518.27 Q2299.7 1513.66 2305.51 1513.66 Z\" fill=\"#000000\" fill-rule=\"evenodd\" fill-opacity=\"1\" /><polyline clip-path=\"url(#clip102)\" style=\"stroke:#000000; stroke-linecap:butt; stroke-linejoin:round; stroke-width:2; stroke-opacity:0.1; fill:none\" points=\"\n",
       "  156.598,1220.72 2352.76,1220.72 \n",
       "  \"/>\n",
       "<polyline clip-path=\"url(#clip102)\" style=\"stroke:#000000; stroke-linecap:butt; stroke-linejoin:round; stroke-width:2; stroke-opacity:0.1; fill:none\" points=\"\n",
       "  156.598,937.537 2352.76,937.537 \n",
       "  \"/>\n",
       "<polyline clip-path=\"url(#clip102)\" style=\"stroke:#000000; stroke-linecap:butt; stroke-linejoin:round; stroke-width:2; stroke-opacity:0.1; fill:none\" points=\"\n",
       "  156.598,654.35 2352.76,654.35 \n",
       "  \"/>\n",
       "<polyline clip-path=\"url(#clip102)\" style=\"stroke:#000000; stroke-linecap:butt; stroke-linejoin:round; stroke-width:2; stroke-opacity:0.1; fill:none\" points=\"\n",
       "  156.598,371.163 2352.76,371.163 \n",
       "  \"/>\n",
       "<polyline clip-path=\"url(#clip102)\" style=\"stroke:#000000; stroke-linecap:butt; stroke-linejoin:round; stroke-width:2; stroke-opacity:0.1; fill:none\" points=\"\n",
       "  156.598,87.9763 2352.76,87.9763 \n",
       "  \"/>\n",
       "<polyline clip-path=\"url(#clip100)\" style=\"stroke:#000000; stroke-linecap:butt; stroke-linejoin:round; stroke-width:4; stroke-opacity:1; fill:none\" points=\"\n",
       "  156.598,1486.45 156.598,47.2441 \n",
       "  \"/>\n",
       "<polyline clip-path=\"url(#clip100)\" style=\"stroke:#000000; stroke-linecap:butt; stroke-linejoin:round; stroke-width:4; stroke-opacity:1; fill:none\" points=\"\n",
       "  156.598,1220.72 175.496,1220.72 \n",
       "  \"/>\n",
       "<polyline clip-path=\"url(#clip100)\" style=\"stroke:#000000; stroke-linecap:butt; stroke-linejoin:round; stroke-width:4; stroke-opacity:1; fill:none\" points=\"\n",
       "  156.598,937.537 175.496,937.537 \n",
       "  \"/>\n",
       "<polyline clip-path=\"url(#clip100)\" style=\"stroke:#000000; stroke-linecap:butt; stroke-linejoin:round; stroke-width:4; stroke-opacity:1; fill:none\" points=\"\n",
       "  156.598,654.35 175.496,654.35 \n",
       "  \"/>\n",
       "<polyline clip-path=\"url(#clip100)\" style=\"stroke:#000000; stroke-linecap:butt; stroke-linejoin:round; stroke-width:4; stroke-opacity:1; fill:none\" points=\"\n",
       "  156.598,371.163 175.496,371.163 \n",
       "  \"/>\n",
       "<polyline clip-path=\"url(#clip100)\" style=\"stroke:#000000; stroke-linecap:butt; stroke-linejoin:round; stroke-width:4; stroke-opacity:1; fill:none\" points=\"\n",
       "  156.598,87.9763 175.496,87.9763 \n",
       "  \"/>\n",
       "<path clip-path=\"url(#clip100)\" d=\"M65.0198 1206.52 Q61.4087 1206.52 59.58 1210.09 Q57.7745 1213.63 57.7745 1220.76 Q57.7745 1227.86 59.58 1231.43 Q61.4087 1234.97 65.0198 1234.97 Q68.6541 1234.97 70.4596 1231.43 Q72.2883 1227.86 72.2883 1220.76 Q72.2883 1213.63 70.4596 1210.09 Q68.6541 1206.52 65.0198 1206.52 M65.0198 1202.82 Q70.83 1202.82 73.8855 1207.43 Q76.9642 1212.01 76.9642 1220.76 Q76.9642 1229.49 73.8855 1234.09 Q70.83 1238.68 65.0198 1238.68 Q59.2097 1238.68 56.131 1234.09 Q53.0754 1229.49 53.0754 1220.76 Q53.0754 1212.01 56.131 1207.43 Q59.2097 1202.82 65.0198 1202.82 Z\" fill=\"#000000\" fill-rule=\"evenodd\" fill-opacity=\"1\" /><path clip-path=\"url(#clip100)\" d=\"M85.1818 1232.12 L90.066 1232.12 L90.066 1238 L85.1818 1238 L85.1818 1232.12 Z\" fill=\"#000000\" fill-rule=\"evenodd\" fill-opacity=\"1\" /><path clip-path=\"url(#clip100)\" d=\"M104.279 1234.07 L120.598 1234.07 L120.598 1238 L98.6539 1238 L98.6539 1234.07 Q101.316 1231.31 105.899 1226.68 Q110.506 1222.03 111.686 1220.69 Q113.932 1218.17 114.811 1216.43 Q115.714 1214.67 115.714 1212.98 Q115.714 1210.23 113.77 1208.49 Q111.848 1206.75 108.746 1206.75 Q106.547 1206.75 104.094 1207.52 Q101.663 1208.28 98.8854 1209.83 L98.8854 1205.11 Q101.709 1203.98 104.163 1203.4 Q106.617 1202.82 108.654 1202.82 Q114.024 1202.82 117.219 1205.5 Q120.413 1208.19 120.413 1212.68 Q120.413 1214.81 119.603 1216.73 Q118.816 1218.63 116.709 1221.22 Q116.131 1221.89 113.029 1225.11 Q109.927 1228.3 104.279 1234.07 Z\" fill=\"#000000\" fill-rule=\"evenodd\" fill-opacity=\"1\" /><path clip-path=\"url(#clip100)\" d=\"M62.9365 923.336 Q59.3254 923.336 57.4967 926.9 Q55.6912 930.442 55.6912 937.572 Q55.6912 944.678 57.4967 948.243 Q59.3254 951.784 62.9365 951.784 Q66.5707 951.784 68.3763 948.243 Q70.205 944.678 70.205 937.572 Q70.205 930.442 68.3763 926.9 Q66.5707 923.336 62.9365 923.336 M62.9365 919.632 Q68.7467 919.632 71.8022 924.238 Q74.8809 928.822 74.8809 937.572 Q74.8809 946.298 71.8022 950.905 Q68.7467 955.488 62.9365 955.488 Q57.1264 955.488 54.0477 950.905 Q50.9921 946.298 50.9921 937.572 Q50.9921 928.822 54.0477 924.238 Q57.1264 919.632 62.9365 919.632 Z\" fill=\"#000000\" fill-rule=\"evenodd\" fill-opacity=\"1\" /><path clip-path=\"url(#clip100)\" d=\"M83.0984 948.937 L87.9827 948.937 L87.9827 954.817 L83.0984 954.817 L83.0984 948.937 Z\" fill=\"#000000\" fill-rule=\"evenodd\" fill-opacity=\"1\" /><path clip-path=\"url(#clip100)\" d=\"M111.015 924.331 L99.2095 942.78 L111.015 942.78 L111.015 924.331 M109.788 920.257 L115.668 920.257 L115.668 942.78 L120.598 942.78 L120.598 946.669 L115.668 946.669 L115.668 954.817 L111.015 954.817 L111.015 946.669 L95.4132 946.669 L95.4132 942.155 L109.788 920.257 Z\" fill=\"#000000\" fill-rule=\"evenodd\" fill-opacity=\"1\" /><path clip-path=\"url(#clip100)\" d=\"M63.2606 640.149 Q59.6495 640.149 57.8208 643.713 Q56.0152 647.255 56.0152 654.385 Q56.0152 661.491 57.8208 665.056 Q59.6495 668.598 63.2606 668.598 Q66.8948 668.598 68.7004 665.056 Q70.5291 661.491 70.5291 654.385 Q70.5291 647.255 68.7004 643.713 Q66.8948 640.149 63.2606 640.149 M63.2606 636.445 Q69.0707 636.445 72.1263 641.051 Q75.205 645.635 75.205 654.385 Q75.205 663.112 72.1263 667.718 Q69.0707 672.301 63.2606 672.301 Q57.4504 672.301 54.3717 667.718 Q51.3162 663.112 51.3162 654.385 Q51.3162 645.635 54.3717 641.051 Q57.4504 636.445 63.2606 636.445 Z\" fill=\"#000000\" fill-rule=\"evenodd\" fill-opacity=\"1\" /><path clip-path=\"url(#clip100)\" d=\"M83.4225 665.75 L88.3067 665.75 L88.3067 671.63 L83.4225 671.63 L83.4225 665.75 Z\" fill=\"#000000\" fill-rule=\"evenodd\" fill-opacity=\"1\" /><path clip-path=\"url(#clip100)\" d=\"M109.071 652.487 Q105.922 652.487 104.071 654.639 Q102.242 656.792 102.242 660.542 Q102.242 664.269 104.071 666.445 Q105.922 668.598 109.071 668.598 Q112.219 668.598 114.047 666.445 Q115.899 664.269 115.899 660.542 Q115.899 656.792 114.047 654.639 Q112.219 652.487 109.071 652.487 M118.353 637.834 L118.353 642.093 Q116.594 641.26 114.788 640.82 Q113.006 640.38 111.246 640.38 Q106.617 640.38 104.163 643.505 Q101.733 646.63 101.385 652.95 Q102.751 650.936 104.811 649.871 Q106.871 648.783 109.348 648.783 Q114.557 648.783 117.566 651.954 Q120.598 655.102 120.598 660.542 Q120.598 665.866 117.45 669.084 Q114.302 672.301 109.071 672.301 Q103.075 672.301 99.9039 667.718 Q96.7326 663.112 96.7326 654.385 Q96.7326 646.19 100.621 641.329 Q104.51 636.445 111.061 636.445 Q112.82 636.445 114.603 636.792 Q116.408 637.139 118.353 637.834 Z\" fill=\"#000000\" fill-rule=\"evenodd\" fill-opacity=\"1\" /><path clip-path=\"url(#clip100)\" d=\"M63.5152 356.962 Q59.9041 356.962 58.0754 360.527 Q56.2699 364.068 56.2699 371.198 Q56.2699 378.304 58.0754 381.869 Q59.9041 385.411 63.5152 385.411 Q67.1494 385.411 68.955 381.869 Q70.7837 378.304 70.7837 371.198 Q70.7837 364.068 68.955 360.527 Q67.1494 356.962 63.5152 356.962 M63.5152 353.258 Q69.3254 353.258 72.3809 357.865 Q75.4596 362.448 75.4596 371.198 Q75.4596 379.925 72.3809 384.531 Q69.3254 389.114 63.5152 389.114 Q57.7051 389.114 54.6264 384.531 Q51.5708 379.925 51.5708 371.198 Q51.5708 362.448 54.6264 357.865 Q57.7051 353.258 63.5152 353.258 Z\" fill=\"#000000\" fill-rule=\"evenodd\" fill-opacity=\"1\" /><path clip-path=\"url(#clip100)\" d=\"M83.6771 382.564 L88.5614 382.564 L88.5614 388.443 L83.6771 388.443 L83.6771 382.564 Z\" fill=\"#000000\" fill-rule=\"evenodd\" fill-opacity=\"1\" /><path clip-path=\"url(#clip100)\" d=\"M108.746 372.031 Q105.413 372.031 103.492 373.814 Q101.594 375.596 101.594 378.721 Q101.594 381.846 103.492 383.628 Q105.413 385.411 108.746 385.411 Q112.08 385.411 114.001 383.628 Q115.922 381.823 115.922 378.721 Q115.922 375.596 114.001 373.814 Q112.103 372.031 108.746 372.031 M104.071 370.04 Q101.061 369.3 99.3715 367.24 Q97.7048 365.179 97.7048 362.216 Q97.7048 358.073 100.645 355.666 Q103.608 353.258 108.746 353.258 Q113.908 353.258 116.848 355.666 Q119.788 358.073 119.788 362.216 Q119.788 365.179 118.098 367.24 Q116.432 369.3 113.445 370.04 Q116.825 370.827 118.7 373.119 Q120.598 375.411 120.598 378.721 Q120.598 383.744 117.52 386.429 Q114.464 389.114 108.746 389.114 Q103.029 389.114 99.9502 386.429 Q96.8947 383.744 96.8947 378.721 Q96.8947 375.411 98.7928 373.119 Q100.691 370.827 104.071 370.04 M102.358 362.656 Q102.358 365.341 104.024 366.846 Q105.714 368.351 108.746 368.351 Q111.756 368.351 113.445 366.846 Q115.158 365.341 115.158 362.656 Q115.158 359.971 113.445 358.466 Q111.756 356.962 108.746 356.962 Q105.714 356.962 104.024 358.466 Q102.358 359.971 102.358 362.656 Z\" fill=\"#000000\" fill-rule=\"evenodd\" fill-opacity=\"1\" /><path clip-path=\"url(#clip100)\" d=\"M54.2328 101.321 L61.8717 101.321 L61.8717 74.9555 L53.5616 76.6222 L53.5616 72.3629 L61.8254 70.6963 L66.5013 70.6963 L66.5013 101.321 L74.1402 101.321 L74.1402 105.256 L54.2328 105.256 L54.2328 101.321 Z\" fill=\"#000000\" fill-rule=\"evenodd\" fill-opacity=\"1\" /><path clip-path=\"url(#clip100)\" d=\"M83.5845 99.3767 L88.4688 99.3767 L88.4688 105.256 L83.5845 105.256 L83.5845 99.3767 Z\" fill=\"#000000\" fill-rule=\"evenodd\" fill-opacity=\"1\" /><path clip-path=\"url(#clip100)\" d=\"M108.654 73.775 Q105.043 73.775 103.214 77.3398 Q101.409 80.8814 101.409 88.011 Q101.409 95.1174 103.214 98.6822 Q105.043 102.224 108.654 102.224 Q112.288 102.224 114.094 98.6822 Q115.922 95.1174 115.922 88.011 Q115.922 80.8814 114.094 77.3398 Q112.288 73.775 108.654 73.775 M108.654 70.0713 Q114.464 70.0713 117.52 74.6777 Q120.598 79.261 120.598 88.011 Q120.598 96.7378 117.52 101.344 Q114.464 105.928 108.654 105.928 Q102.844 105.928 99.765 101.344 Q96.7095 96.7378 96.7095 88.011 Q96.7095 79.261 99.765 74.6777 Q102.844 70.0713 108.654 70.0713 Z\" fill=\"#000000\" fill-rule=\"evenodd\" fill-opacity=\"1\" /><polyline clip-path=\"url(#clip102)\" style=\"stroke:#009af9; stroke-linecap:butt; stroke-linejoin:round; stroke-width:4; stroke-opacity:1; fill:none\" points=\"\n",
       "  218.754,1411.45 229.165,1400.26 239.576,1387.24 249.988,1370.53 260.399,1354.39 270.81,1338.53 281.221,1323.1 291.633,1306.67 302.044,1283.02 312.455,1259.1 \n",
       "  322.867,1234.46 333.278,1209.96 343.689,1184.62 354.1,1157.57 364.512,1126.85 374.923,1094.99 385.334,1066.67 395.746,1037.79 406.157,1009.18 416.568,977.325 \n",
       "  426.979,948.015 437.391,917.289 447.802,886.988 458.213,856.545 468.625,825.961 479.036,797.784 489.447,769.89 499.858,740.014 510.27,712.828 520.681,685.217 \n",
       "  531.092,657.04 541.504,629.571 551.915,598.845 562.326,571.943 572.738,547.305 583.149,524.367 593.56,500.58 603.971,478.208 614.383,458.243 624.794,436.862 \n",
       "  635.205,418.597 645.617,401.747 656.028,385.181 666.439,367.623 676.85,350.349 687.262,332.65 697.673,318.632 708.084,303.623 718.496,291.021 728.907,276.154 \n",
       "  739.318,264.685 749.729,253.074 760.141,240.756 770.552,232.402 780.963,222.207 791.375,212.012 801.786,204.508 812.197,197.003 822.609,189.074 833.02,181.428 \n",
       "  843.431,176.189 853.842,170.1 864.254,164.437 874.665,159.198 885.076,154.95 895.488,150.561 905.899,146.738 916.31,142.49 926.721,137.817 937.133,133.853 \n",
       "  947.544,131.729 957.955,128.472 968.367,124.791 978.778,121.534 989.189,118.985 999.6,116.295 1010.01,114.879 1020.42,112.614 1030.83,110.914 1041.25,109.074 \n",
       "  1051.66,107.091 1062.07,105.534 1072.48,104.543 1082.89,102.844 1093.3,101.286 1103.71,100.012 1114.12,98.7374 1124.54,97.6046 1134.95,97.3214 1145.36,96.0471 \n",
       "  1155.77,95.0559 1166.18,94.4896 1176.59,93.7816 1187,93.4984 1197.41,93.0736 1207.83,92.5073 1218.24,92.3657 1228.65,91.5161 1239.06,91.2329 1249.47,90.6666 \n",
       "  1259.88,90.3834 1270.29,90.3834 1280.71,90.3834 1291.12,90.1002 1301.53,89.9586 1311.94,89.817 1322.35,89.6754 1332.76,89.5338 1343.17,89.2506 1353.58,89.2506 \n",
       "  1364,89.109 1374.41,88.8258 1384.82,88.8258 1395.23,88.8258 1405.64,88.8258 1416.05,88.5427 1426.46,88.5427 1436.87,88.4011 1447.29,88.4011 1457.7,88.4011 \n",
       "  1468.11,88.4011 1478.52,88.2595 1488.93,88.2595 1499.34,88.2595 1509.75,88.2595 1520.16,88.2595 1530.58,88.2595 1540.99,88.2595 1551.4,88.2595 1561.81,88.2595 \n",
       "  1572.22,88.1179 1582.63,88.1179 1593.04,88.1179 1603.46,88.1179 1613.87,88.1179 1624.28,88.1179 1634.69,88.1179 1645.1,88.1179 1655.51,88.1179 1665.92,87.9763 \n",
       "  1676.33,87.9763 1686.75,87.9763 1697.16,87.9763 1707.57,87.9763 1717.98,87.9763 1728.39,87.9763 1738.8,87.9763 1749.21,87.9763 1759.62,87.9763 1770.04,87.9763 \n",
       "  1780.45,87.9763 1790.86,87.9763 1801.27,87.9763 1811.68,87.9763 1822.09,87.9763 1832.5,87.9763 1842.91,87.9763 1853.33,87.9763 1863.74,87.9763 1874.15,87.9763 \n",
       "  1884.56,87.9763 1894.97,87.9763 1905.38,87.9763 1915.79,87.9763 1926.21,87.9763 1936.62,87.9763 1947.03,87.9763 1957.44,87.9763 1967.85,87.9763 1978.26,87.9763 \n",
       "  1988.67,87.9763 1999.08,87.9763 2009.5,87.9763 2019.91,87.9763 2030.32,87.9763 2040.73,87.9763 2051.14,87.9763 2061.55,87.9763 2071.96,87.9763 2082.37,87.9763 \n",
       "  2092.79,87.9763 2103.2,87.9763 2113.61,87.9763 2124.02,87.9763 2134.43,87.9763 2144.84,87.9763 2155.25,87.9763 2165.67,87.9763 2176.08,87.9763 2186.49,87.9763 \n",
       "  2196.9,87.9763 2207.31,87.9763 2217.72,87.9763 2228.13,87.9763 2238.54,87.9763 2248.96,87.9763 2259.37,87.9763 2269.78,87.9763 2280.19,87.9763 2290.6,87.9763 \n",
       "  \n",
       "  \"/>\n",
       "<polyline clip-path=\"url(#clip102)\" style=\"stroke:#e26f46; stroke-linecap:butt; stroke-linejoin:round; stroke-width:4; stroke-opacity:1; fill:none\" points=\"\n",
       "  218.754,1445.72 229.165,1419.1 239.576,1393.61 249.988,1365.57 260.399,1339.1 270.81,1312.62 281.221,1285.57 291.633,1261.64 302.044,1234.03 312.455,1205.29 \n",
       "  322.867,1177.25 333.278,1149.64 343.689,1124.44 354.1,1094.42 364.512,1068.37 374.923,1039.34 385.334,1012.02 395.746,984.263 406.157,956.369 416.568,927.201 \n",
       "  426.979,904.404 437.391,874.103 447.802,850.598 458.213,822.563 468.625,791.979 479.036,766.209 489.447,739.306 499.858,715.094 510.27,691.164 520.681,664.403 \n",
       "  531.092,638.775 541.504,616.403 551.915,595.73 562.326,573.642 572.738,552.828 583.149,531.164 593.56,511.199 603.971,489.535 614.383,469.146 624.794,447.482 \n",
       "  635.205,430.066 645.617,411.092 656.028,396.225 666.439,378.526 676.85,362.809 687.262,349.075 697.673,334.915 708.084,322.03 718.496,308.862 728.907,296.685 \n",
       "  739.318,284.508 749.729,272.473 760.141,261.287 770.552,250.526 780.963,240.189 791.375,229.003 801.786,217.817 812.197,207.056 822.609,199.693 833.02,193.463 \n",
       "  843.431,186.101 853.842,178.738 864.254,172.649 874.665,166.844 885.076,161.888 895.488,157.074 905.899,151.977 916.31,147.446 926.721,142.207 937.133,138.242 \n",
       "  947.544,135.268 957.955,132.578 968.367,128.472 978.778,125.074 989.189,121.534 999.6,117.711 1010.01,115.162 1020.42,113.605 1030.83,111.622 1041.25,109.215 \n",
       "  1051.66,107.091 1062.07,104.967 1072.48,104.118 1082.89,102.702 1093.3,101.569 1103.71,99.7285 1114.12,98.171 1124.54,97.6046 1134.95,96.8967 1145.36,96.0471 \n",
       "  1155.77,95.1975 1166.18,94.7728 1176.59,94.348 1187,94.0648 1197.41,93.3568 1207.83,92.7905 1218.24,92.3657 1228.65,91.9409 1239.06,91.6577 1249.47,91.2329 \n",
       "  1259.88,90.9497 1270.29,90.9497 1280.71,90.525 1291.12,90.3834 1301.53,90.1002 1311.94,89.5338 1322.35,89.109 1332.76,88.9674 1343.17,88.6842 1353.58,88.5427 \n",
       "  1364,88.5427 1374.41,88.5427 1384.82,88.5427 1395.23,88.5427 1405.64,88.5427 1416.05,88.5427 1426.46,88.4011 1436.87,88.4011 1447.29,88.2595 1457.7,88.2595 \n",
       "  1468.11,88.2595 1478.52,88.2595 1488.93,88.2595 1499.34,88.2595 1509.75,88.2595 1520.16,88.2595 1530.58,88.2595 1540.99,88.2595 1551.4,88.2595 1561.81,88.2595 \n",
       "  1572.22,88.2595 1582.63,88.2595 1593.04,88.2595 1603.46,88.2595 1613.87,88.2595 1624.28,88.2595 1634.69,88.2595 1645.1,88.2595 1655.51,88.2595 1665.92,88.2595 \n",
       "  1676.33,88.2595 1686.75,88.2595 1697.16,88.2595 1707.57,88.2595 1717.98,88.2595 1728.39,88.2595 1738.8,88.2595 1749.21,88.2595 1759.62,88.2595 1770.04,88.2595 \n",
       "  1780.45,88.2595 1790.86,88.2595 1801.27,88.2595 1811.68,88.2595 1822.09,88.2595 1832.5,88.2595 1842.91,88.2595 1853.33,88.1179 1863.74,88.1179 1874.15,88.1179 \n",
       "  1884.56,88.1179 1894.97,88.1179 1905.38,88.1179 1915.79,88.1179 1926.21,87.9763 1936.62,87.9763 1947.03,87.9763 1957.44,87.9763 1967.85,87.9763 1978.26,87.9763 \n",
       "  1988.67,87.9763 1999.08,87.9763 2009.5,87.9763 2019.91,87.9763 2030.32,87.9763 2040.73,87.9763 2051.14,87.9763 2061.55,87.9763 2071.96,87.9763 2082.37,87.9763 \n",
       "  2092.79,87.9763 2103.2,87.9763 2113.61,87.9763 2124.02,87.9763 2134.43,87.9763 2144.84,87.9763 2155.25,87.9763 2165.67,87.9763 2176.08,87.9763 2186.49,87.9763 \n",
       "  2196.9,87.9763 2207.31,87.9763 2217.72,87.9763 2228.13,87.9763 2238.54,87.9763 2248.96,87.9763 2259.37,87.9763 2269.78,87.9763 2280.19,87.9763 2290.6,87.9763 \n",
       "  \n",
       "  \"/>\n",
       "<path clip-path=\"url(#clip100)\" d=\"\n",
       "M1927.57 250.738 L2279.55 250.738 L2279.55 95.2176 L1927.57 95.2176  Z\n",
       "  \" fill=\"#ffffff\" fill-rule=\"evenodd\" fill-opacity=\"1\"/>\n",
       "<polyline clip-path=\"url(#clip100)\" style=\"stroke:#000000; stroke-linecap:butt; stroke-linejoin:round; stroke-width:4; stroke-opacity:1; fill:none\" points=\"\n",
       "  1927.57,250.738 2279.55,250.738 2279.55,95.2176 1927.57,95.2176 1927.57,250.738 \n",
       "  \"/>\n",
       "<polyline clip-path=\"url(#clip100)\" style=\"stroke:#009af9; stroke-linecap:butt; stroke-linejoin:round; stroke-width:4; stroke-opacity:1; fill:none\" points=\"\n",
       "  1951.97,147.058 2098.38,147.058 \n",
       "  \"/>\n",
       "<path clip-path=\"url(#clip100)\" d=\"M2143.29 139.407 L2143.29 143.389 Q2141.49 142.393 2139.66 141.907 Q2137.85 141.398 2136 141.398 Q2131.86 141.398 2129.57 144.037 Q2127.28 146.652 2127.28 151.398 Q2127.28 156.143 2129.57 158.782 Q2131.86 161.398 2136 161.398 Q2137.85 161.398 2139.66 160.912 Q2141.49 160.402 2143.29 159.407 L2143.29 163.342 Q2141.51 164.176 2139.59 164.592 Q2137.69 165.009 2135.54 165.009 Q2129.68 165.009 2126.23 161.328 Q2122.78 157.648 2122.78 151.398 Q2122.78 145.055 2126.26 141.421 Q2129.75 137.787 2135.82 137.787 Q2137.78 137.787 2139.66 138.203 Q2141.53 138.597 2143.29 139.407 Z\" fill=\"#000000\" fill-rule=\"evenodd\" fill-opacity=\"1\" /><path clip-path=\"url(#clip100)\" d=\"M2162.48 151.305 Q2157.32 151.305 2155.33 152.486 Q2153.34 153.666 2153.34 156.514 Q2153.34 158.782 2154.82 160.125 Q2156.33 161.444 2158.9 161.444 Q2162.44 161.444 2164.57 158.944 Q2166.72 156.421 2166.72 152.254 L2166.72 151.305 L2162.48 151.305 M2170.98 149.546 L2170.98 164.338 L2166.72 164.338 L2166.72 160.402 Q2165.26 162.763 2163.09 163.898 Q2160.91 165.009 2157.76 165.009 Q2153.78 165.009 2151.42 162.787 Q2149.08 160.541 2149.08 156.791 Q2149.08 152.416 2152 150.194 Q2154.94 147.972 2160.75 147.972 L2166.72 147.972 L2166.72 147.555 Q2166.72 144.615 2164.78 143.018 Q2162.85 141.398 2159.36 141.398 Q2157.14 141.398 2155.03 141.93 Q2152.92 142.463 2150.98 143.527 L2150.98 139.592 Q2153.32 138.69 2155.52 138.25 Q2157.72 137.787 2159.8 137.787 Q2165.42 137.787 2168.2 140.703 Q2170.98 143.62 2170.98 149.546 Z\" fill=\"#000000\" fill-rule=\"evenodd\" fill-opacity=\"1\" /><path clip-path=\"url(#clip100)\" d=\"M2179.31 154.106 L2179.31 138.412 L2183.57 138.412 L2183.57 153.944 Q2183.57 157.625 2185.01 159.476 Q2186.44 161.305 2189.31 161.305 Q2192.76 161.305 2194.75 159.106 Q2196.77 156.907 2196.77 153.111 L2196.77 138.412 L2201.03 138.412 L2201.03 164.338 L2196.77 164.338 L2196.77 160.356 Q2195.21 162.717 2193.15 163.875 Q2191.12 165.009 2188.41 165.009 Q2183.94 165.009 2181.63 162.231 Q2179.31 159.453 2179.31 154.106 M2190.03 137.787 L2190.03 137.787 Z\" fill=\"#000000\" fill-rule=\"evenodd\" fill-opacity=\"1\" /><polyline clip-path=\"url(#clip100)\" style=\"stroke:#e26f46; stroke-linecap:butt; stroke-linejoin:round; stroke-width:4; stroke-opacity:1; fill:none\" points=\"\n",
       "  1951.97,198.898 2098.38,198.898 \n",
       "  \"/>\n",
       "<path clip-path=\"url(#clip100)\" d=\"M2143.29 191.247 L2143.29 195.229 Q2141.49 194.233 2139.66 193.747 Q2137.85 193.238 2136 193.238 Q2131.86 193.238 2129.57 195.877 Q2127.28 198.492 2127.28 203.238 Q2127.28 207.983 2129.57 210.622 Q2131.86 213.238 2136 213.238 Q2137.85 213.238 2139.66 212.752 Q2141.49 212.242 2143.29 211.247 L2143.29 215.182 Q2141.51 216.016 2139.59 216.432 Q2137.69 216.849 2135.54 216.849 Q2129.68 216.849 2126.23 213.168 Q2122.78 209.488 2122.78 203.238 Q2122.78 196.895 2126.26 193.261 Q2129.75 189.627 2135.82 189.627 Q2137.78 189.627 2139.66 190.043 Q2141.53 190.437 2143.29 191.247 Z\" fill=\"#000000\" fill-rule=\"evenodd\" fill-opacity=\"1\" /><path clip-path=\"url(#clip100)\" d=\"M2162.48 203.145 Q2157.32 203.145 2155.33 204.326 Q2153.34 205.506 2153.34 208.354 Q2153.34 210.622 2154.82 211.965 Q2156.33 213.284 2158.9 213.284 Q2162.44 213.284 2164.57 210.784 Q2166.72 208.261 2166.72 204.094 L2166.72 203.145 L2162.48 203.145 M2170.98 201.386 L2170.98 216.178 L2166.72 216.178 L2166.72 212.242 Q2165.26 214.603 2163.09 215.738 Q2160.91 216.849 2157.76 216.849 Q2153.78 216.849 2151.42 214.627 Q2149.08 212.381 2149.08 208.631 Q2149.08 204.256 2152 202.034 Q2154.94 199.812 2160.75 199.812 L2166.72 199.812 L2166.72 199.395 Q2166.72 196.455 2164.78 194.858 Q2162.85 193.238 2159.36 193.238 Q2157.14 193.238 2155.03 193.77 Q2152.92 194.303 2150.98 195.367 L2150.98 191.432 Q2153.32 190.53 2155.52 190.09 Q2157.72 189.627 2159.8 189.627 Q2165.42 189.627 2168.2 192.543 Q2170.98 195.46 2170.98 201.386 Z\" fill=\"#000000\" fill-rule=\"evenodd\" fill-opacity=\"1\" /><path clip-path=\"url(#clip100)\" d=\"M2179.31 205.946 L2179.31 190.252 L2183.57 190.252 L2183.57 205.784 Q2183.57 209.465 2185.01 211.316 Q2186.44 213.145 2189.31 213.145 Q2192.76 213.145 2194.75 210.946 Q2196.77 208.747 2196.77 204.951 L2196.77 190.252 L2201.03 190.252 L2201.03 216.178 L2196.77 216.178 L2196.77 212.196 Q2195.21 214.557 2193.15 215.715 Q2191.12 216.849 2188.41 216.849 Q2183.94 216.849 2181.63 214.071 Q2179.31 211.293 2179.31 205.946 M2190.03 189.627 L2190.03 189.627 Z\" fill=\"#000000\" fill-rule=\"evenodd\" fill-opacity=\"1\" /><path clip-path=\"url(#clip100)\" d=\"M2214.43 212.242 L2230.75 212.242 L2230.75 216.178 L2208.8 216.178 L2208.8 212.242 Q2211.46 209.488 2216.05 204.858 Q2220.65 200.205 2221.84 198.863 Q2224.08 196.34 2224.96 194.604 Q2225.86 192.844 2225.86 191.155 Q2225.86 188.4 2223.92 186.664 Q2222 184.928 2218.9 184.928 Q2216.7 184.928 2214.24 185.692 Q2211.81 186.455 2209.03 188.006 L2209.03 183.284 Q2211.86 182.15 2214.31 181.571 Q2216.77 180.993 2218.8 180.993 Q2224.17 180.993 2227.37 183.678 Q2230.56 186.363 2230.56 190.854 Q2230.56 192.983 2229.75 194.905 Q2228.96 196.803 2226.86 199.395 Q2226.28 200.067 2223.18 203.284 Q2220.08 206.479 2214.43 212.242 Z\" fill=\"#000000\" fill-rule=\"evenodd\" fill-opacity=\"1\" /></svg>\n"
      ]
     },
     "execution_count": 30,
     "metadata": {},
     "output_type": "execute_result"
    }
   ],
   "source": [
    "#Marginals\n",
    "bins = 10 * Int(T)\n",
    "using Plots\n",
    "p_cau = zeros(N,bins)\n",
    "p_cauHyper = zeros(N,bins)\n",
    "for i = 1:N\n",
    "    for t = 1:bins\n",
    "       p_cau[i,t] = marginal(i, t*T/bins, statscau)\n",
    "       p_cauHyper[i,t] = marginal(i, t*T/bins, statscauHyper)\n",
    "    end\n",
    "end\n",
    "i = 4\n",
    "plot(LinRange(1,Int(T),bins),p_cau[i,:], label = \"cau\")\n",
    "plot!(LinRange(1,Int(T),bins),p_cauHyper[i,:], label = \"cauHyper\")"
   ]
  },
  {
   "cell_type": "code",
   "execution_count": 34,
   "metadata": {},
   "outputs": [
    {
     "data": {
      "image/svg+xml": [
       "<?xml version=\"1.0\" encoding=\"utf-8\"?>\n",
       "<svg xmlns=\"http://www.w3.org/2000/svg\" xmlns:xlink=\"http://www.w3.org/1999/xlink\" width=\"600\" height=\"400\" viewBox=\"0 0 2400 1600\">\n",
       "<defs>\n",
       "  <clipPath id=\"clip250\">\n",
       "    <rect x=\"0\" y=\"0\" width=\"2400\" height=\"1600\"/>\n",
       "  </clipPath>\n",
       "</defs>\n",
       "<path clip-path=\"url(#clip250)\" d=\"\n",
       "M0 1600 L2400 1600 L2400 0 L0 0  Z\n",
       "  \" fill=\"#ffffff\" fill-rule=\"evenodd\" fill-opacity=\"1\"/>\n",
       "<defs>\n",
       "  <clipPath id=\"clip251\">\n",
       "    <rect x=\"480\" y=\"0\" width=\"1681\" height=\"1600\"/>\n",
       "  </clipPath>\n",
       "</defs>\n",
       "<path clip-path=\"url(#clip250)\" d=\"\n",
       "M219.542 1423.18 L2352.76 1423.18 L2352.76 123.472 L219.542 123.472  Z\n",
       "  \" fill=\"#ffffff\" fill-rule=\"evenodd\" fill-opacity=\"1\"/>\n",
       "<defs>\n",
       "  <clipPath id=\"clip252\">\n",
       "    <rect x=\"219\" y=\"123\" width=\"2134\" height=\"1301\"/>\n",
       "  </clipPath>\n",
       "</defs>\n",
       "<polyline clip-path=\"url(#clip252)\" style=\"stroke:#000000; stroke-linecap:butt; stroke-linejoin:round; stroke-width:2; stroke-opacity:0.1; fill:none\" points=\"\n",
       "  703.593,1423.18 703.593,123.472 \n",
       "  \"/>\n",
       "<polyline clip-path=\"url(#clip252)\" style=\"stroke:#000000; stroke-linecap:butt; stroke-linejoin:round; stroke-width:2; stroke-opacity:0.1; fill:none\" points=\"\n",
       "  1233.19,1423.18 1233.19,123.472 \n",
       "  \"/>\n",
       "<polyline clip-path=\"url(#clip252)\" style=\"stroke:#000000; stroke-linecap:butt; stroke-linejoin:round; stroke-width:2; stroke-opacity:0.1; fill:none\" points=\"\n",
       "  1762.79,1423.18 1762.79,123.472 \n",
       "  \"/>\n",
       "<polyline clip-path=\"url(#clip252)\" style=\"stroke:#000000; stroke-linecap:butt; stroke-linejoin:round; stroke-width:2; stroke-opacity:0.1; fill:none\" points=\"\n",
       "  2292.38,1423.18 2292.38,123.472 \n",
       "  \"/>\n",
       "<polyline clip-path=\"url(#clip250)\" style=\"stroke:#000000; stroke-linecap:butt; stroke-linejoin:round; stroke-width:4; stroke-opacity:1; fill:none\" points=\"\n",
       "  219.542,1423.18 2352.76,1423.18 \n",
       "  \"/>\n",
       "<polyline clip-path=\"url(#clip250)\" style=\"stroke:#000000; stroke-linecap:butt; stroke-linejoin:round; stroke-width:4; stroke-opacity:1; fill:none\" points=\"\n",
       "  703.593,1423.18 703.593,1404.28 \n",
       "  \"/>\n",
       "<polyline clip-path=\"url(#clip250)\" style=\"stroke:#000000; stroke-linecap:butt; stroke-linejoin:round; stroke-width:4; stroke-opacity:1; fill:none\" points=\"\n",
       "  1233.19,1423.18 1233.19,1404.28 \n",
       "  \"/>\n",
       "<polyline clip-path=\"url(#clip250)\" style=\"stroke:#000000; stroke-linecap:butt; stroke-linejoin:round; stroke-width:4; stroke-opacity:1; fill:none\" points=\"\n",
       "  1762.79,1423.18 1762.79,1404.28 \n",
       "  \"/>\n",
       "<polyline clip-path=\"url(#clip250)\" style=\"stroke:#000000; stroke-linecap:butt; stroke-linejoin:round; stroke-width:4; stroke-opacity:1; fill:none\" points=\"\n",
       "  2292.38,1423.18 2292.38,1404.28 \n",
       "  \"/>\n",
       "<path clip-path=\"url(#clip250)\" d=\"M693.871 1451.02 L712.227 1451.02 L712.227 1454.96 L698.153 1454.96 L698.153 1463.43 Q699.172 1463.08 700.19 1462.92 Q701.209 1462.73 702.227 1462.73 Q708.014 1462.73 711.394 1465.9 Q714.774 1469.08 714.774 1474.49 Q714.774 1480.07 711.301 1483.17 Q707.829 1486.25 701.51 1486.25 Q699.334 1486.25 697.065 1485.88 Q694.82 1485.51 692.413 1484.77 L692.413 1480.07 Q694.496 1481.2 696.718 1481.76 Q698.94 1482.32 701.417 1482.32 Q705.422 1482.32 707.76 1480.21 Q710.098 1478.1 710.098 1474.49 Q710.098 1470.88 707.76 1468.77 Q705.422 1466.67 701.417 1466.67 Q699.542 1466.67 697.667 1467.08 Q695.815 1467.5 693.871 1468.38 L693.871 1451.02 Z\" fill=\"#000000\" fill-rule=\"evenodd\" fill-opacity=\"1\" /><path clip-path=\"url(#clip250)\" d=\"M1207.88 1481.64 L1215.52 1481.64 L1215.52 1455.28 L1207.21 1456.95 L1207.21 1452.69 L1215.47 1451.02 L1220.15 1451.02 L1220.15 1481.64 L1227.78 1481.64 L1227.78 1485.58 L1207.88 1485.58 L1207.88 1481.64 Z\" fill=\"#000000\" fill-rule=\"evenodd\" fill-opacity=\"1\" /><path clip-path=\"url(#clip250)\" d=\"M1247.23 1454.1 Q1243.62 1454.1 1241.79 1457.66 Q1239.98 1461.2 1239.98 1468.33 Q1239.98 1475.44 1241.79 1479.01 Q1243.62 1482.55 1247.23 1482.55 Q1250.86 1482.55 1252.67 1479.01 Q1254.5 1475.44 1254.5 1468.33 Q1254.5 1461.2 1252.67 1457.66 Q1250.86 1454.1 1247.23 1454.1 M1247.23 1450.39 Q1253.04 1450.39 1256.09 1455 Q1259.17 1459.58 1259.17 1468.33 Q1259.17 1477.06 1256.09 1481.67 Q1253.04 1486.25 1247.23 1486.25 Q1241.42 1486.25 1238.34 1481.67 Q1235.28 1477.06 1235.28 1468.33 Q1235.28 1459.58 1238.34 1455 Q1241.42 1450.39 1247.23 1450.39 Z\" fill=\"#000000\" fill-rule=\"evenodd\" fill-opacity=\"1\" /><path clip-path=\"url(#clip250)\" d=\"M1737.97 1481.64 L1745.61 1481.64 L1745.61 1455.28 L1737.3 1456.95 L1737.3 1452.69 L1745.56 1451.02 L1750.24 1451.02 L1750.24 1481.64 L1757.88 1481.64 L1757.88 1485.58 L1737.97 1485.58 L1737.97 1481.64 Z\" fill=\"#000000\" fill-rule=\"evenodd\" fill-opacity=\"1\" /><path clip-path=\"url(#clip250)\" d=\"M1767.37 1451.02 L1785.73 1451.02 L1785.73 1454.96 L1771.65 1454.96 L1771.65 1463.43 Q1772.67 1463.08 1773.69 1462.92 Q1774.71 1462.73 1775.73 1462.73 Q1781.51 1462.73 1784.89 1465.9 Q1788.27 1469.08 1788.27 1474.49 Q1788.27 1480.07 1784.8 1483.17 Q1781.33 1486.25 1775.01 1486.25 Q1772.83 1486.25 1770.56 1485.88 Q1768.32 1485.51 1765.91 1484.77 L1765.91 1480.07 Q1767.99 1481.2 1770.22 1481.76 Q1772.44 1482.32 1774.92 1482.32 Q1778.92 1482.32 1781.26 1480.21 Q1783.6 1478.1 1783.6 1474.49 Q1783.6 1470.88 1781.26 1468.77 Q1778.92 1466.67 1774.92 1466.67 Q1773.04 1466.67 1771.17 1467.08 Q1769.31 1467.5 1767.37 1468.38 L1767.37 1451.02 Z\" fill=\"#000000\" fill-rule=\"evenodd\" fill-opacity=\"1\" /><path clip-path=\"url(#clip250)\" d=\"M2271.16 1481.64 L2287.47 1481.64 L2287.47 1485.58 L2265.53 1485.58 L2265.53 1481.64 Q2268.19 1478.89 2272.78 1474.26 Q2277.38 1469.61 2278.56 1468.27 Q2280.81 1465.74 2281.69 1464.01 Q2282.59 1462.25 2282.59 1460.56 Q2282.59 1457.8 2280.65 1456.07 Q2278.72 1454.33 2275.62 1454.33 Q2273.42 1454.33 2270.97 1455.09 Q2268.54 1455.86 2265.76 1457.41 L2265.76 1452.69 Q2268.59 1451.55 2271.04 1450.97 Q2273.49 1450.39 2275.53 1450.39 Q2280.9 1450.39 2284.09 1453.08 Q2287.29 1455.77 2287.29 1460.26 Q2287.29 1462.39 2286.48 1464.31 Q2285.69 1466.2 2283.59 1468.8 Q2283.01 1469.47 2279.91 1472.69 Q2276.8 1475.88 2271.16 1481.64 Z\" fill=\"#000000\" fill-rule=\"evenodd\" fill-opacity=\"1\" /><path clip-path=\"url(#clip250)\" d=\"M2307.29 1454.1 Q2303.68 1454.1 2301.85 1457.66 Q2300.04 1461.2 2300.04 1468.33 Q2300.04 1475.44 2301.85 1479.01 Q2303.68 1482.55 2307.29 1482.55 Q2310.92 1482.55 2312.73 1479.01 Q2314.56 1475.44 2314.56 1468.33 Q2314.56 1461.2 2312.73 1457.66 Q2310.92 1454.1 2307.29 1454.1 M2307.29 1450.39 Q2313.1 1450.39 2316.15 1455 Q2319.23 1459.58 2319.23 1468.33 Q2319.23 1477.06 2316.15 1481.67 Q2313.1 1486.25 2307.29 1486.25 Q2301.48 1486.25 2298.4 1481.67 Q2295.34 1477.06 2295.34 1468.33 Q2295.34 1459.58 2298.4 1455 Q2301.48 1450.39 2307.29 1450.39 Z\" fill=\"#000000\" fill-rule=\"evenodd\" fill-opacity=\"1\" /><path clip-path=\"url(#clip250)\" d=\"M1285.21 1522.27 L1285.21 1532.4 L1297.27 1532.4 L1297.27 1536.95 L1285.21 1536.95 L1285.21 1556.3 Q1285.21 1560.66 1286.39 1561.9 Q1287.6 1563.14 1291.26 1563.14 L1297.27 1563.14 L1297.27 1568.04 L1291.26 1568.04 Q1284.48 1568.04 1281.9 1565.53 Q1279.32 1562.98 1279.32 1556.3 L1279.32 1536.95 L1275.02 1536.95 L1275.02 1532.4 L1279.32 1532.4 L1279.32 1522.27 L1285.21 1522.27 Z\" fill=\"#000000\" fill-rule=\"evenodd\" fill-opacity=\"1\" /><polyline clip-path=\"url(#clip252)\" style=\"stroke:#000000; stroke-linecap:butt; stroke-linejoin:round; stroke-width:2; stroke-opacity:0.1; fill:none\" points=\"\n",
       "  219.542,1423.18 2352.76,1423.18 \n",
       "  \"/>\n",
       "<polyline clip-path=\"url(#clip252)\" style=\"stroke:#000000; stroke-linecap:butt; stroke-linejoin:round; stroke-width:2; stroke-opacity:0.1; fill:none\" points=\"\n",
       "  219.542,1168.34 2352.76,1168.34 \n",
       "  \"/>\n",
       "<polyline clip-path=\"url(#clip252)\" style=\"stroke:#000000; stroke-linecap:butt; stroke-linejoin:round; stroke-width:2; stroke-opacity:0.1; fill:none\" points=\"\n",
       "  219.542,913.491 2352.76,913.491 \n",
       "  \"/>\n",
       "<polyline clip-path=\"url(#clip252)\" style=\"stroke:#000000; stroke-linecap:butt; stroke-linejoin:round; stroke-width:2; stroke-opacity:0.1; fill:none\" points=\"\n",
       "  219.542,658.646 2352.76,658.646 \n",
       "  \"/>\n",
       "<polyline clip-path=\"url(#clip252)\" style=\"stroke:#000000; stroke-linecap:butt; stroke-linejoin:round; stroke-width:2; stroke-opacity:0.1; fill:none\" points=\"\n",
       "  219.542,403.801 2352.76,403.801 \n",
       "  \"/>\n",
       "<polyline clip-path=\"url(#clip252)\" style=\"stroke:#000000; stroke-linecap:butt; stroke-linejoin:round; stroke-width:2; stroke-opacity:0.1; fill:none\" points=\"\n",
       "  219.542,148.957 2352.76,148.957 \n",
       "  \"/>\n",
       "<polyline clip-path=\"url(#clip250)\" style=\"stroke:#000000; stroke-linecap:butt; stroke-linejoin:round; stroke-width:4; stroke-opacity:1; fill:none\" points=\"\n",
       "  219.542,1423.18 219.542,123.472 \n",
       "  \"/>\n",
       "<polyline clip-path=\"url(#clip250)\" style=\"stroke:#000000; stroke-linecap:butt; stroke-linejoin:round; stroke-width:4; stroke-opacity:1; fill:none\" points=\"\n",
       "  219.542,1423.18 238.44,1423.18 \n",
       "  \"/>\n",
       "<polyline clip-path=\"url(#clip250)\" style=\"stroke:#000000; stroke-linecap:butt; stroke-linejoin:round; stroke-width:4; stroke-opacity:1; fill:none\" points=\"\n",
       "  219.542,1168.34 238.44,1168.34 \n",
       "  \"/>\n",
       "<polyline clip-path=\"url(#clip250)\" style=\"stroke:#000000; stroke-linecap:butt; stroke-linejoin:round; stroke-width:4; stroke-opacity:1; fill:none\" points=\"\n",
       "  219.542,913.491 238.44,913.491 \n",
       "  \"/>\n",
       "<polyline clip-path=\"url(#clip250)\" style=\"stroke:#000000; stroke-linecap:butt; stroke-linejoin:round; stroke-width:4; stroke-opacity:1; fill:none\" points=\"\n",
       "  219.542,658.646 238.44,658.646 \n",
       "  \"/>\n",
       "<polyline clip-path=\"url(#clip250)\" style=\"stroke:#000000; stroke-linecap:butt; stroke-linejoin:round; stroke-width:4; stroke-opacity:1; fill:none\" points=\"\n",
       "  219.542,403.801 238.44,403.801 \n",
       "  \"/>\n",
       "<polyline clip-path=\"url(#clip250)\" style=\"stroke:#000000; stroke-linecap:butt; stroke-linejoin:round; stroke-width:4; stroke-opacity:1; fill:none\" points=\"\n",
       "  219.542,148.957 238.44,148.957 \n",
       "  \"/>\n",
       "<path clip-path=\"url(#clip250)\" d=\"M127.362 1408.98 Q123.751 1408.98 121.922 1412.54 Q120.117 1416.08 120.117 1423.21 Q120.117 1430.32 121.922 1433.89 Q123.751 1437.43 127.362 1437.43 Q130.996 1437.43 132.802 1433.89 Q134.63 1430.32 134.63 1423.21 Q134.63 1416.08 132.802 1412.54 Q130.996 1408.98 127.362 1408.98 M127.362 1405.27 Q133.172 1405.27 136.228 1409.88 Q139.306 1414.46 139.306 1423.21 Q139.306 1431.94 136.228 1436.55 Q133.172 1441.13 127.362 1441.13 Q121.552 1441.13 118.473 1436.55 Q115.418 1431.94 115.418 1423.21 Q115.418 1414.46 118.473 1409.88 Q121.552 1405.27 127.362 1405.27 Z\" fill=\"#000000\" fill-rule=\"evenodd\" fill-opacity=\"1\" /><path clip-path=\"url(#clip250)\" d=\"M147.524 1434.58 L152.408 1434.58 L152.408 1440.46 L147.524 1440.46 L147.524 1434.58 Z\" fill=\"#000000\" fill-rule=\"evenodd\" fill-opacity=\"1\" /><path clip-path=\"url(#clip250)\" d=\"M162.64 1405.9 L180.996 1405.9 L180.996 1409.84 L166.922 1409.84 L166.922 1418.31 Q167.94 1417.96 168.959 1417.8 Q169.977 1417.61 170.996 1417.61 Q176.783 1417.61 180.163 1420.78 Q183.542 1423.96 183.542 1429.37 Q183.542 1434.95 180.07 1438.05 Q176.598 1441.13 170.278 1441.13 Q168.102 1441.13 165.834 1440.76 Q163.589 1440.39 161.181 1439.65 L161.181 1434.95 Q163.265 1436.08 165.487 1436.64 Q167.709 1437.2 170.186 1437.2 Q174.19 1437.2 176.528 1435.09 Q178.866 1432.98 178.866 1429.37 Q178.866 1425.76 176.528 1423.65 Q174.19 1421.55 170.186 1421.55 Q168.311 1421.55 166.436 1421.96 Q164.584 1422.38 162.64 1423.26 L162.64 1405.9 Z\" fill=\"#000000\" fill-rule=\"evenodd\" fill-opacity=\"1\" /><path clip-path=\"url(#clip250)\" d=\"M126.205 1154.13 Q122.593 1154.13 120.765 1157.7 Q118.959 1161.24 118.959 1168.37 Q118.959 1175.48 120.765 1179.04 Q122.593 1182.58 126.205 1182.58 Q129.839 1182.58 131.644 1179.04 Q133.473 1175.48 133.473 1168.37 Q133.473 1161.24 131.644 1157.7 Q129.839 1154.13 126.205 1154.13 M126.205 1150.43 Q132.015 1150.43 135.07 1155.04 Q138.149 1159.62 138.149 1168.37 Q138.149 1177.1 135.07 1181.7 Q132.015 1186.29 126.205 1186.29 Q120.394 1186.29 117.316 1181.7 Q114.26 1177.1 114.26 1168.37 Q114.26 1159.62 117.316 1155.04 Q120.394 1150.43 126.205 1150.43 Z\" fill=\"#000000\" fill-rule=\"evenodd\" fill-opacity=\"1\" /><path clip-path=\"url(#clip250)\" d=\"M146.366 1179.74 L151.251 1179.74 L151.251 1185.62 L146.366 1185.62 L146.366 1179.74 Z\" fill=\"#000000\" fill-rule=\"evenodd\" fill-opacity=\"1\" /><path clip-path=\"url(#clip250)\" d=\"M172.014 1166.47 Q168.866 1166.47 167.015 1168.62 Q165.186 1170.78 165.186 1174.53 Q165.186 1178.25 167.015 1180.43 Q168.866 1182.58 172.014 1182.58 Q175.163 1182.58 176.991 1180.43 Q178.843 1178.25 178.843 1174.53 Q178.843 1170.78 176.991 1168.62 Q175.163 1166.47 172.014 1166.47 M181.297 1151.82 L181.297 1156.08 Q179.538 1155.24 177.732 1154.81 Q175.95 1154.37 174.19 1154.37 Q169.561 1154.37 167.107 1157.49 Q164.677 1160.62 164.329 1166.93 Q165.695 1164.92 167.755 1163.86 Q169.815 1162.77 172.292 1162.77 Q177.501 1162.77 180.51 1165.94 Q183.542 1169.09 183.542 1174.53 Q183.542 1179.85 180.394 1183.07 Q177.246 1186.29 172.014 1186.29 Q166.019 1186.29 162.848 1181.7 Q159.677 1177.1 159.677 1168.37 Q159.677 1160.18 163.565 1155.31 Q167.454 1150.43 174.005 1150.43 Q175.764 1150.43 177.547 1150.78 Q179.352 1151.12 181.297 1151.82 Z\" fill=\"#000000\" fill-rule=\"evenodd\" fill-opacity=\"1\" /><path clip-path=\"url(#clip250)\" d=\"M127.269 899.289 Q123.658 899.289 121.83 902.854 Q120.024 906.396 120.024 913.525 Q120.024 920.632 121.83 924.197 Q123.658 927.738 127.269 927.738 Q130.904 927.738 132.709 924.197 Q134.538 920.632 134.538 913.525 Q134.538 906.396 132.709 902.854 Q130.904 899.289 127.269 899.289 M127.269 895.586 Q133.08 895.586 136.135 900.192 Q139.214 904.775 139.214 913.525 Q139.214 922.252 136.135 926.859 Q133.08 931.442 127.269 931.442 Q121.459 931.442 118.381 926.859 Q115.325 922.252 115.325 913.525 Q115.325 904.775 118.381 900.192 Q121.459 895.586 127.269 895.586 Z\" fill=\"#000000\" fill-rule=\"evenodd\" fill-opacity=\"1\" /><path clip-path=\"url(#clip250)\" d=\"M147.431 924.891 L152.316 924.891 L152.316 930.771 L147.431 930.771 L147.431 924.891 Z\" fill=\"#000000\" fill-rule=\"evenodd\" fill-opacity=\"1\" /><path clip-path=\"url(#clip250)\" d=\"M161.32 896.211 L183.542 896.211 L183.542 898.201 L170.996 930.771 L166.112 930.771 L177.917 900.146 L161.32 900.146 L161.32 896.211 Z\" fill=\"#000000\" fill-rule=\"evenodd\" fill-opacity=\"1\" /><path clip-path=\"url(#clip250)\" d=\"M126.459 644.445 Q122.848 644.445 121.019 648.009 Q119.214 651.551 119.214 658.681 Q119.214 665.787 121.019 669.352 Q122.848 672.894 126.459 672.894 Q130.093 672.894 131.899 669.352 Q133.728 665.787 133.728 658.681 Q133.728 651.551 131.899 648.009 Q130.093 644.445 126.459 644.445 M126.459 640.741 Q132.269 640.741 135.325 645.347 Q138.404 649.931 138.404 658.681 Q138.404 667.407 135.325 672.014 Q132.269 676.597 126.459 676.597 Q120.649 676.597 117.57 672.014 Q114.515 667.407 114.515 658.681 Q114.515 649.931 117.57 645.347 Q120.649 640.741 126.459 640.741 Z\" fill=\"#000000\" fill-rule=\"evenodd\" fill-opacity=\"1\" /><path clip-path=\"url(#clip250)\" d=\"M146.621 670.046 L151.505 670.046 L151.505 675.926 L146.621 675.926 L146.621 670.046 Z\" fill=\"#000000\" fill-rule=\"evenodd\" fill-opacity=\"1\" /><path clip-path=\"url(#clip250)\" d=\"M171.69 659.514 Q168.357 659.514 166.436 661.296 Q164.538 663.079 164.538 666.204 Q164.538 669.329 166.436 671.111 Q168.357 672.894 171.69 672.894 Q175.024 672.894 176.945 671.111 Q178.866 669.306 178.866 666.204 Q178.866 663.079 176.945 661.296 Q175.047 659.514 171.69 659.514 M167.015 657.523 Q164.005 656.782 162.315 654.722 Q160.649 652.662 160.649 649.699 Q160.649 645.556 163.589 643.148 Q166.552 640.741 171.69 640.741 Q176.852 640.741 179.792 643.148 Q182.732 645.556 182.732 649.699 Q182.732 652.662 181.042 654.722 Q179.376 656.782 176.389 657.523 Q179.769 658.31 181.644 660.602 Q183.542 662.894 183.542 666.204 Q183.542 671.227 180.464 673.912 Q177.408 676.597 171.69 676.597 Q165.973 676.597 162.894 673.912 Q159.839 671.227 159.839 666.204 Q159.839 662.894 161.737 660.602 Q163.635 658.31 167.015 657.523 M165.302 650.139 Q165.302 652.824 166.968 654.329 Q168.658 655.833 171.69 655.833 Q174.7 655.833 176.389 654.329 Q178.102 652.824 178.102 650.139 Q178.102 647.454 176.389 645.949 Q174.7 644.445 171.69 644.445 Q168.658 644.445 166.968 645.949 Q165.302 647.454 165.302 650.139 Z\" fill=\"#000000\" fill-rule=\"evenodd\" fill-opacity=\"1\" /><path clip-path=\"url(#clip250)\" d=\"M126.552 389.6 Q122.941 389.6 121.112 393.165 Q119.306 396.706 119.306 403.836 Q119.306 410.942 121.112 414.507 Q122.941 418.049 126.552 418.049 Q130.186 418.049 131.992 414.507 Q133.82 410.942 133.82 403.836 Q133.82 396.706 131.992 393.165 Q130.186 389.6 126.552 389.6 M126.552 385.896 Q132.362 385.896 135.417 390.503 Q138.496 395.086 138.496 403.836 Q138.496 412.563 135.417 417.169 Q132.362 421.753 126.552 421.753 Q120.742 421.753 117.663 417.169 Q114.607 412.563 114.607 403.836 Q114.607 395.086 117.663 390.503 Q120.742 385.896 126.552 385.896 Z\" fill=\"#000000\" fill-rule=\"evenodd\" fill-opacity=\"1\" /><path clip-path=\"url(#clip250)\" d=\"M146.714 415.202 L151.598 415.202 L151.598 421.081 L146.714 421.081 L146.714 415.202 Z\" fill=\"#000000\" fill-rule=\"evenodd\" fill-opacity=\"1\" /><path clip-path=\"url(#clip250)\" d=\"M161.922 420.364 L161.922 416.104 Q163.681 416.938 165.487 417.378 Q167.292 417.817 169.028 417.817 Q173.658 417.817 176.089 414.716 Q178.542 411.591 178.889 405.248 Q177.547 407.239 175.487 408.304 Q173.427 409.368 170.927 409.368 Q165.741 409.368 162.709 406.243 Q159.7 403.095 159.7 397.655 Q159.7 392.331 162.848 389.114 Q165.996 385.896 171.227 385.896 Q177.223 385.896 180.371 390.503 Q183.542 395.086 183.542 403.836 Q183.542 412.007 179.653 416.891 Q175.788 421.753 169.237 421.753 Q167.477 421.753 165.672 421.405 Q163.866 421.058 161.922 420.364 M171.227 405.711 Q174.376 405.711 176.204 403.558 Q178.056 401.405 178.056 397.655 Q178.056 393.929 176.204 391.776 Q174.376 389.6 171.227 389.6 Q168.079 389.6 166.227 391.776 Q164.399 393.929 164.399 397.655 Q164.399 401.405 166.227 403.558 Q168.079 405.711 171.227 405.711 Z\" fill=\"#000000\" fill-rule=\"evenodd\" fill-opacity=\"1\" /><path clip-path=\"url(#clip250)\" d=\"M117.177 162.301 L124.816 162.301 L124.816 135.936 L116.506 137.602 L116.506 133.343 L124.769 131.677 L129.445 131.677 L129.445 162.301 L137.084 162.301 L137.084 166.237 L117.177 166.237 L117.177 162.301 Z\" fill=\"#000000\" fill-rule=\"evenodd\" fill-opacity=\"1\" /><path clip-path=\"url(#clip250)\" d=\"M146.529 160.357 L151.413 160.357 L151.413 166.237 L146.529 166.237 L146.529 160.357 Z\" fill=\"#000000\" fill-rule=\"evenodd\" fill-opacity=\"1\" /><path clip-path=\"url(#clip250)\" d=\"M171.598 134.755 Q167.987 134.755 166.158 138.32 Q164.352 141.862 164.352 148.991 Q164.352 156.098 166.158 159.663 Q167.987 163.204 171.598 163.204 Q175.232 163.204 177.038 159.663 Q178.866 156.098 178.866 148.991 Q178.866 141.862 177.038 138.32 Q175.232 134.755 171.598 134.755 M171.598 131.052 Q177.408 131.052 180.464 135.658 Q183.542 140.241 183.542 148.991 Q183.542 157.718 180.464 162.325 Q177.408 166.908 171.598 166.908 Q165.788 166.908 162.709 162.325 Q159.653 157.718 159.653 148.991 Q159.653 140.241 162.709 135.658 Q165.788 131.052 171.598 131.052 Z\" fill=\"#000000\" fill-rule=\"evenodd\" fill-opacity=\"1\" /><path clip-path=\"url(#clip250)\" d=\"M22.818 866.743 L46.4666 875.464 L46.4666 857.99 L22.818 866.743 M16.4842 870.371 L16.4842 863.082 L64.0042 844.972 L64.0042 851.656 L51.8138 855.985 L51.8138 877.405 L64.0042 881.734 L64.0042 888.513 L16.4842 870.371 Z\" fill=\"#000000\" fill-rule=\"evenodd\" fill-opacity=\"1\" /><path clip-path=\"url(#clip250)\" d=\"M16.4842 838.765 L16.4842 832.304 L45.3526 832.304 Q52.9915 832.304 56.3653 829.535 Q59.7073 826.766 59.7073 820.56 Q59.7073 814.385 56.3653 811.616 Q52.9915 808.847 45.3526 808.847 L16.4842 808.847 L16.4842 802.385 L46.1484 802.385 Q55.4423 802.385 60.1847 807.001 Q64.9272 811.584 64.9272 820.56 Q64.9272 829.567 60.1847 834.182 Q55.4423 838.765 46.1484 838.765 L16.4842 838.765 Z\" fill=\"#000000\" fill-rule=\"evenodd\" fill-opacity=\"1\" /><path clip-path=\"url(#clip250)\" d=\"M41.7242 767.788 Q42.4244 765.719 44.7161 763.777 Q47.0077 761.804 51.0181 759.831 L64.0042 753.306 L64.0042 760.213 L51.8138 766.292 Q47.0395 768.647 45.48 770.875 Q43.9204 773.071 43.9204 776.891 L43.9204 783.893 L64.0042 783.893 L64.0042 790.322 L16.4842 790.322 L16.4842 775.809 Q16.4842 767.661 19.8898 763.65 Q23.2955 759.64 30.1704 759.64 Q34.6582 759.64 37.6183 761.74 Q40.5784 763.809 41.7242 767.788 M21.7677 783.893 L38.6368 783.893 L38.6368 775.809 Q38.6368 771.162 36.5043 768.806 Q34.34 766.419 30.1704 766.419 Q26.0009 766.419 23.9002 768.806 Q21.7677 771.162 21.7677 775.809 L21.7677 783.893 Z\" fill=\"#000000\" fill-rule=\"evenodd\" fill-opacity=\"1\" /><path clip-path=\"url(#clip250)\" d=\"M20.8447 725.742 Q20.8447 732.745 26.0645 736.882 Q31.2844 740.988 40.2919 740.988 Q49.2675 740.988 54.4874 736.882 Q59.7073 732.745 59.7073 725.742 Q59.7073 718.74 54.4874 714.666 Q49.2675 710.56 40.2919 710.56 Q31.2844 710.56 26.0645 714.666 Q20.8447 718.74 20.8447 725.742 M15.6248 725.742 Q15.6248 715.748 22.3406 709.764 Q29.0246 703.781 40.2919 703.781 Q51.5274 703.781 58.2432 709.764 Q64.9272 715.748 64.9272 725.742 Q64.9272 735.768 58.2432 741.784 Q51.5592 747.768 40.2919 747.768 Q29.0246 747.768 22.3406 741.784 Q15.6248 735.768 15.6248 725.742 Z\" fill=\"#000000\" fill-rule=\"evenodd\" fill-opacity=\"1\" /><path clip-path=\"url(#clip250)\" d=\"M20.1444 658.139 L26.9239 658.139 Q23.9002 661.385 22.4043 665.077 Q20.9083 668.737 20.9083 672.875 Q20.9083 681.023 25.9054 685.352 Q30.8707 689.681 40.2919 689.681 Q49.6813 689.681 54.6784 685.352 Q59.6436 681.023 59.6436 672.875 Q59.6436 668.737 58.1477 665.077 Q56.6518 661.385 53.6281 658.139 L60.3439 658.139 Q62.6355 661.512 63.7814 665.3 Q64.9272 669.056 64.9272 673.257 Q64.9272 684.047 58.3387 690.254 Q51.7183 696.46 40.2919 696.46 Q28.8336 696.46 22.2451 690.254 Q15.6248 684.047 15.6248 673.257 Q15.6248 668.992 16.7706 665.236 Q17.8846 661.449 20.1444 658.139 Z\" fill=\"#000000\" fill-rule=\"evenodd\" fill-opacity=\"1\" /><path clip-path=\"url(#clip250)\" d=\"M337.974 20.1573 L326.875 50.2555 L349.114 50.2555 L337.974 20.1573 M333.356 12.096 L342.633 12.096 L365.682 72.576 L357.175 72.576 L351.666 57.061 L324.404 57.061 L318.894 72.576 L310.266 72.576 L333.356 12.096 Z\" fill=\"#000000\" fill-rule=\"evenodd\" fill-opacity=\"1\" /><path clip-path=\"url(#clip250)\" d=\"M373.582 12.096 L381.805 12.096 L381.805 48.8377 Q381.805 58.5599 385.329 62.8538 Q388.854 67.1073 396.753 67.1073 Q404.612 67.1073 408.136 62.8538 Q411.66 58.5599 411.66 48.8377 L411.66 12.096 L419.883 12.096 L419.883 49.8504 Q419.883 61.6791 414.01 67.7149 Q408.176 73.7508 396.753 73.7508 Q385.289 73.7508 379.415 67.7149 Q373.582 61.6791 373.582 49.8504 L373.582 12.096 Z\" fill=\"#000000\" fill-rule=\"evenodd\" fill-opacity=\"1\" /><path clip-path=\"url(#clip250)\" d=\"M463.917 44.2197 Q466.55 45.1109 469.021 48.0275 Q471.532 50.9442 474.044 56.0483 L482.348 72.576 L473.558 72.576 L465.821 57.061 Q462.823 50.9847 459.987 48.9997 Q457.192 47.0148 452.331 47.0148 L443.419 47.0148 L443.419 72.576 L435.236 72.576 L435.236 12.096 L453.708 12.096 Q464.079 12.096 469.183 16.4305 Q474.287 20.7649 474.287 29.5149 Q474.287 35.2267 471.613 38.994 Q468.98 42.7613 463.917 44.2197 M443.419 18.8205 L443.419 40.2903 L453.708 40.2903 Q459.623 40.2903 462.62 37.5762 Q465.659 34.8216 465.659 29.5149 Q465.659 24.2082 462.62 21.5346 Q459.623 18.8205 453.708 18.8205 L443.419 18.8205 Z\" fill=\"#000000\" fill-rule=\"evenodd\" fill-opacity=\"1\" /><path clip-path=\"url(#clip250)\" d=\"M517.429 17.6457 Q508.517 17.6457 503.251 24.2892 Q498.025 30.9327 498.025 42.3968 Q498.025 53.8203 503.251 60.4638 Q508.517 67.1073 517.429 67.1073 Q526.341 67.1073 531.526 60.4638 Q536.752 53.8203 536.752 42.3968 Q536.752 30.9327 531.526 24.2892 Q526.341 17.6457 517.429 17.6457 M517.429 11.0023 Q530.149 11.0023 537.765 19.5497 Q545.38 28.0566 545.38 42.3968 Q545.38 56.6965 537.765 65.2439 Q530.149 73.7508 517.429 73.7508 Q504.669 73.7508 497.013 65.2439 Q489.397 56.737 489.397 42.3968 Q489.397 28.0566 497.013 19.5497 Q504.669 11.0023 517.429 11.0023 Z\" fill=\"#000000\" fill-rule=\"evenodd\" fill-opacity=\"1\" /><path clip-path=\"url(#clip250)\" d=\"M603.47 16.7545 L603.47 25.383 Q599.338 21.5346 594.639 19.6307 Q589.981 17.7268 584.715 17.7268 Q574.344 17.7268 568.835 24.0867 Q563.326 30.4061 563.326 42.3968 Q563.326 54.3469 568.835 60.7069 Q574.344 67.0263 584.715 67.0263 Q589.981 67.0263 594.639 65.1223 Q599.338 63.2184 603.47 59.3701 L603.47 67.9175 Q599.176 70.8341 594.356 72.2924 Q589.576 73.7508 584.229 73.7508 Q570.496 73.7508 562.597 65.3654 Q554.698 56.9395 554.698 42.3968 Q554.698 27.8135 562.597 19.4281 Q570.496 11.0023 584.229 11.0023 Q589.657 11.0023 594.437 12.4606 Q599.257 13.8784 603.47 16.7545 Z\" fill=\"#000000\" fill-rule=\"evenodd\" fill-opacity=\"1\" /><path clip-path=\"url(#clip250)\" d=\"M617.689 62.2867 L626.236 62.2867 L626.236 72.576 L617.689 72.576 L617.689 62.2867 M617.689 29.6769 L626.236 29.6769 L626.236 39.9662 L617.689 39.9662 L617.689 29.6769 Z\" fill=\"#000000\" fill-rule=\"evenodd\" fill-opacity=\"1\" /><path clip-path=\"url(#clip250)\" d=\"M665.773 27.2059 L673.227 27.2059 L682.544 62.6108 L691.821 27.2059 L700.611 27.2059 L709.928 62.6108 L719.205 27.2059 L726.658 27.2059 L714.789 72.576 L705.999 72.576 L696.236 35.3887 L686.433 72.576 L677.642 72.576 L665.773 27.2059 Z\" fill=\"#000000\" fill-rule=\"evenodd\" fill-opacity=\"1\" /><path clip-path=\"url(#clip250)\" d=\"M737.96 27.2059 L745.414 27.2059 L745.414 72.576 L737.96 72.576 L737.96 27.2059 M737.96 9.54393 L745.414 9.54393 L745.414 18.9825 L737.96 18.9825 L737.96 9.54393 Z\" fill=\"#000000\" fill-rule=\"evenodd\" fill-opacity=\"1\" /><path clip-path=\"url(#clip250)\" d=\"M768.383 14.324 L768.383 27.2059 L783.736 27.2059 L783.736 32.9987 L768.383 32.9987 L768.383 57.6282 Q768.383 63.1779 769.882 64.7578 Q771.421 66.3376 776.079 66.3376 L783.736 66.3376 L783.736 72.576 L776.079 72.576 Q767.451 72.576 764.17 69.3758 Q760.889 66.1351 760.889 57.6282 L760.889 32.9987 L755.42 32.9987 L755.42 27.2059 L760.889 27.2059 L760.889 14.324 L768.383 14.324 Z\" fill=\"#000000\" fill-rule=\"evenodd\" fill-opacity=\"1\" /><path clip-path=\"url(#clip250)\" d=\"M831.253 45.1919 L831.253 72.576 L823.799 72.576 L823.799 45.4349 Q823.799 38.994 821.288 35.7938 Q818.776 32.5936 813.753 32.5936 Q807.717 32.5936 804.233 36.4419 Q800.749 40.2903 800.749 46.9338 L800.749 72.576 L793.255 72.576 L793.255 9.54393 L800.749 9.54393 L800.749 34.2544 Q803.423 30.163 807.028 28.1376 Q810.674 26.1121 815.414 26.1121 Q823.232 26.1121 827.242 30.9732 Q831.253 35.7938 831.253 45.1919 Z\" fill=\"#000000\" fill-rule=\"evenodd\" fill-opacity=\"1\" /><path clip-path=\"url(#clip250)\" d=\"M893.11 49.7694 Q884.077 49.7694 880.593 51.8354 Q877.109 53.9013 877.109 58.8839 Q877.109 62.8538 879.702 65.2034 Q882.335 67.5124 886.831 67.5124 Q893.029 67.5124 896.756 63.1374 Q900.523 58.7219 900.523 51.4303 L900.523 49.7694 L893.11 49.7694 M907.977 46.6907 L907.977 72.576 L900.523 72.576 L900.523 65.6895 Q897.971 69.8214 894.163 71.8063 Q890.355 73.7508 884.846 73.7508 Q877.879 73.7508 873.747 69.8619 Q869.655 65.9325 869.655 59.3701 Q869.655 51.7138 874.759 47.825 Q879.904 43.9361 890.072 43.9361 L900.523 43.9361 L900.523 43.2069 Q900.523 38.0623 897.12 35.2672 Q893.758 32.4315 887.641 32.4315 Q883.752 32.4315 880.066 33.3632 Q876.38 34.295 872.977 36.1584 L872.977 29.2718 Q877.068 27.692 880.917 26.9223 Q884.765 26.1121 888.411 26.1121 Q898.255 26.1121 903.116 31.2163 Q907.977 36.3204 907.977 46.6907 Z\" fill=\"#000000\" fill-rule=\"evenodd\" fill-opacity=\"1\" /><path clip-path=\"url(#clip250)\" d=\"M961.044 45.1919 L961.044 72.576 L953.59 72.576 L953.59 45.4349 Q953.59 38.994 951.079 35.7938 Q948.567 32.5936 943.544 32.5936 Q937.508 32.5936 934.024 36.4419 Q930.54 40.2903 930.54 46.9338 L930.54 72.576 L923.046 72.576 L923.046 27.2059 L930.54 27.2059 L930.54 34.2544 Q933.214 30.163 936.819 28.1376 Q940.465 26.1121 945.205 26.1121 Q953.023 26.1121 957.033 30.9732 Q961.044 35.7938 961.044 45.1919 Z\" fill=\"#000000\" fill-rule=\"evenodd\" fill-opacity=\"1\" /><path clip-path=\"url(#clip250)\" d=\"M1005.77 34.0924 L1005.77 9.54393 L1013.22 9.54393 L1013.22 72.576 L1005.77 72.576 L1005.77 65.7705 Q1003.42 69.8214 999.811 71.8063 Q996.246 73.7508 991.223 73.7508 Q983 73.7508 977.814 67.1883 Q972.67 60.6258 972.67 49.9314 Q972.67 39.2371 977.814 32.6746 Q983 26.1121 991.223 26.1121 Q996.246 26.1121 999.811 28.0971 Q1003.42 30.0415 1005.77 34.0924 M980.367 49.9314 Q980.367 58.1548 983.729 62.8538 Q987.132 67.5124 993.046 67.5124 Q998.96 67.5124 1002.36 62.8538 Q1005.77 58.1548 1005.77 49.9314 Q1005.77 41.7081 1002.36 37.0496 Q998.96 32.3505 993.046 32.3505 Q987.132 32.3505 983.729 37.0496 Q980.367 41.7081 980.367 49.9314 Z\" fill=\"#000000\" fill-rule=\"evenodd\" fill-opacity=\"1\" /><path clip-path=\"url(#clip250)\" d=\"M1050.61 27.2059 L1058.06 27.2059 L1067.38 62.6108 L1076.66 27.2059 L1085.45 27.2059 L1094.76 62.6108 L1104.04 27.2059 L1111.49 27.2059 L1099.63 72.576 L1090.83 72.576 L1081.07 35.3887 L1071.27 72.576 L1062.48 72.576 L1050.61 27.2059 Z\" fill=\"#000000\" fill-rule=\"evenodd\" fill-opacity=\"1\" /><path clip-path=\"url(#clip250)\" d=\"M1122.8 27.2059 L1130.25 27.2059 L1130.25 72.576 L1122.8 72.576 L1122.8 27.2059 M1122.8 9.54393 L1130.25 9.54393 L1130.25 18.9825 L1122.8 18.9825 L1122.8 9.54393 Z\" fill=\"#000000\" fill-rule=\"evenodd\" fill-opacity=\"1\" /><path clip-path=\"url(#clip250)\" d=\"M1153.22 14.324 L1153.22 27.2059 L1168.57 27.2059 L1168.57 32.9987 L1153.22 32.9987 L1153.22 57.6282 Q1153.22 63.1779 1154.72 64.7578 Q1156.26 66.3376 1160.92 66.3376 L1168.57 66.3376 L1168.57 72.576 L1160.92 72.576 Q1152.29 72.576 1149.01 69.3758 Q1145.72 66.1351 1145.72 57.6282 L1145.72 32.9987 L1140.26 32.9987 L1140.26 27.2059 L1145.72 27.2059 L1145.72 14.324 L1153.22 14.324 Z\" fill=\"#000000\" fill-rule=\"evenodd\" fill-opacity=\"1\" /><path clip-path=\"url(#clip250)\" d=\"M1216.09 45.1919 L1216.09 72.576 L1208.63 72.576 L1208.63 45.4349 Q1208.63 38.994 1206.12 35.7938 Q1203.61 32.5936 1198.59 32.5936 Q1192.55 32.5936 1189.07 36.4419 Q1185.59 40.2903 1185.59 46.9338 L1185.59 72.576 L1178.09 72.576 L1178.09 9.54393 L1185.59 9.54393 L1185.59 34.2544 Q1188.26 30.163 1191.86 28.1376 Q1195.51 26.1121 1200.25 26.1121 Q1208.07 26.1121 1212.08 30.9732 Q1216.09 35.7938 1216.09 45.1919 Z\" fill=\"#000000\" fill-rule=\"evenodd\" fill-opacity=\"1\" /><path clip-path=\"url(#clip250)\" d=\"M1248.54 32.4315 Q1242.54 32.4315 1239.06 37.1306 Q1235.57 41.7891 1235.57 49.9314 Q1235.57 58.0738 1239.02 62.7728 Q1242.5 67.4314 1248.54 67.4314 Q1254.49 67.4314 1257.98 62.7323 Q1261.46 58.0333 1261.46 49.9314 Q1261.46 41.8701 1257.98 37.1711 Q1254.49 32.4315 1248.54 32.4315 M1248.54 26.1121 Q1258.26 26.1121 1263.81 32.4315 Q1269.36 38.7509 1269.36 49.9314 Q1269.36 61.0714 1263.81 67.4314 Q1258.26 73.7508 1248.54 73.7508 Q1238.77 73.7508 1233.22 67.4314 Q1227.71 61.0714 1227.71 49.9314 Q1227.71 38.7509 1233.22 32.4315 Q1238.77 26.1121 1248.54 26.1121 Z\" fill=\"#000000\" fill-rule=\"evenodd\" fill-opacity=\"1\" /><path clip-path=\"url(#clip250)\" d=\"M1280.94 54.671 L1280.94 27.2059 L1288.4 27.2059 L1288.4 54.3874 Q1288.4 60.8284 1290.91 64.0691 Q1293.42 67.2693 1298.44 67.2693 Q1304.48 67.2693 1307.96 63.421 Q1311.49 59.5726 1311.49 52.9291 L1311.49 27.2059 L1318.94 27.2059 L1318.94 72.576 L1311.49 72.576 L1311.49 65.6084 Q1308.77 69.7404 1305.17 71.7658 Q1301.6 73.7508 1296.86 73.7508 Q1289.05 73.7508 1284.99 68.8897 Q1280.94 64.0286 1280.94 54.671 M1299.7 26.1121 L1299.7 26.1121 Z\" fill=\"#000000\" fill-rule=\"evenodd\" fill-opacity=\"1\" /><path clip-path=\"url(#clip250)\" d=\"M1341.67 14.324 L1341.67 27.2059 L1357.02 27.2059 L1357.02 32.9987 L1341.67 32.9987 L1341.67 57.6282 Q1341.67 63.1779 1343.17 64.7578 Q1344.7 66.3376 1349.36 66.3376 L1357.02 66.3376 L1357.02 72.576 L1349.36 72.576 Q1340.73 72.576 1337.45 69.3758 Q1334.17 66.1351 1334.17 57.6282 L1334.17 32.9987 L1328.7 32.9987 L1328.7 27.2059 L1334.17 27.2059 L1334.17 14.324 L1341.67 14.324 Z\" fill=\"#000000\" fill-rule=\"evenodd\" fill-opacity=\"1\" /><path clip-path=\"url(#clip250)\" d=\"M1393.52 12.096 L1401.7 12.096 L1401.7 36.8875 L1431.43 36.8875 L1431.43 12.096 L1439.62 12.096 L1439.62 72.576 L1431.43 72.576 L1431.43 43.7741 L1401.7 43.7741 L1401.7 72.576 L1393.52 72.576 L1393.52 12.096 Z\" fill=\"#000000\" fill-rule=\"evenodd\" fill-opacity=\"1\" /><path clip-path=\"url(#clip250)\" d=\"M1474.46 76.7889 Q1471.3 84.8907 1468.3 87.3618 Q1465.3 89.8329 1460.28 89.8329 L1454.32 89.8329 L1454.32 83.5945 L1458.7 83.5945 Q1461.78 83.5945 1463.48 82.1361 Q1465.18 80.6778 1467.24 75.2496 L1468.58 71.8468 L1450.23 27.2059 L1458.13 27.2059 L1472.31 62.6918 L1486.49 27.2059 L1494.39 27.2059 L1474.46 76.7889 Z\" fill=\"#000000\" fill-rule=\"evenodd\" fill-opacity=\"1\" /><path clip-path=\"url(#clip250)\" d=\"M1511.89 65.7705 L1511.89 89.8329 L1504.39 89.8329 L1504.39 27.2059 L1511.89 27.2059 L1511.89 34.0924 Q1514.24 30.0415 1517.8 28.0971 Q1521.41 26.1121 1526.39 26.1121 Q1534.65 26.1121 1539.8 32.6746 Q1544.98 39.2371 1544.98 49.9314 Q1544.98 60.6258 1539.8 67.1883 Q1534.65 73.7508 1526.39 73.7508 Q1521.41 73.7508 1517.8 71.8063 Q1514.24 69.8214 1511.89 65.7705 M1537.24 49.9314 Q1537.24 41.7081 1533.84 37.0496 Q1530.48 32.3505 1524.57 32.3505 Q1518.65 32.3505 1515.25 37.0496 Q1511.89 41.7081 1511.89 49.9314 Q1511.89 58.1548 1515.25 62.8538 Q1518.65 67.5124 1524.57 67.5124 Q1530.48 67.5124 1533.84 62.8538 Q1537.24 58.1548 1537.24 49.9314 Z\" fill=\"#000000\" fill-rule=\"evenodd\" fill-opacity=\"1\" /><path clip-path=\"url(#clip250)\" d=\"M1596.14 48.0275 L1596.14 51.6733 L1561.87 51.6733 Q1562.36 59.3701 1566.49 63.421 Q1570.66 67.4314 1578.08 67.4314 Q1582.37 67.4314 1586.38 66.3781 Q1590.43 65.3249 1594.4 63.2184 L1594.4 70.267 Q1590.39 71.9684 1586.18 72.8596 Q1581.97 73.7508 1577.63 73.7508 Q1566.78 73.7508 1560.42 67.4314 Q1554.1 61.1119 1554.1 50.3365 Q1554.1 39.1965 1560.09 32.6746 Q1566.13 26.1121 1576.34 26.1121 Q1585.49 26.1121 1590.8 32.0264 Q1596.14 37.9003 1596.14 48.0275 M1588.69 45.84 Q1588.61 39.7232 1585.25 36.0774 Q1581.93 32.4315 1576.42 32.4315 Q1570.18 32.4315 1566.41 35.9558 Q1562.68 39.4801 1562.12 45.8805 L1588.69 45.84 Z\" fill=\"#000000\" fill-rule=\"evenodd\" fill-opacity=\"1\" /><path clip-path=\"url(#clip250)\" d=\"M1634.67 34.1734 Q1633.41 33.4443 1631.91 33.1202 Q1630.46 32.7556 1628.67 32.7556 Q1622.35 32.7556 1618.95 36.8875 Q1615.59 40.9789 1615.59 48.6757 L1615.59 72.576 L1608.09 72.576 L1608.09 27.2059 L1615.59 27.2059 L1615.59 34.2544 Q1617.94 30.1225 1621.71 28.1376 Q1625.47 26.1121 1630.86 26.1121 Q1631.63 26.1121 1632.56 26.2337 Q1633.49 26.3147 1634.63 26.5172 L1634.67 34.1734 Z\" fill=\"#000000\" fill-rule=\"evenodd\" fill-opacity=\"1\" /><path clip-path=\"url(#clip250)\" d=\"M1649.7 65.7705 L1649.7 89.8329 L1642.2 89.8329 L1642.2 27.2059 L1649.7 27.2059 L1649.7 34.0924 Q1652.05 30.0415 1655.61 28.0971 Q1659.22 26.1121 1664.2 26.1121 Q1672.46 26.1121 1677.61 32.6746 Q1682.79 39.2371 1682.79 49.9314 Q1682.79 60.6258 1677.61 67.1883 Q1672.46 73.7508 1664.2 73.7508 Q1659.22 73.7508 1655.61 71.8063 Q1652.05 69.8214 1649.7 65.7705 M1675.06 49.9314 Q1675.06 41.7081 1671.65 37.0496 Q1668.29 32.3505 1662.38 32.3505 Q1656.46 32.3505 1653.06 37.0496 Q1649.7 41.7081 1649.7 49.9314 Q1649.7 58.1548 1653.06 62.8538 Q1656.46 67.5124 1662.38 67.5124 Q1668.29 67.5124 1671.65 62.8538 Q1675.06 58.1548 1675.06 49.9314 Z\" fill=\"#000000\" fill-rule=\"evenodd\" fill-opacity=\"1\" /><path clip-path=\"url(#clip250)\" d=\"M1715.77 49.7694 Q1706.73 49.7694 1703.25 51.8354 Q1699.77 53.9013 1699.77 58.8839 Q1699.77 62.8538 1702.36 65.2034 Q1704.99 67.5124 1709.49 67.5124 Q1715.69 67.5124 1719.41 63.1374 Q1723.18 58.7219 1723.18 51.4303 L1723.18 49.7694 L1715.77 49.7694 M1730.63 46.6907 L1730.63 72.576 L1723.18 72.576 L1723.18 65.6895 Q1720.63 69.8214 1716.82 71.8063 Q1713.01 73.7508 1707.5 73.7508 Q1700.54 73.7508 1696.4 69.8619 Q1692.31 65.9325 1692.31 59.3701 Q1692.31 51.7138 1697.42 47.825 Q1702.56 43.9361 1712.73 43.9361 L1723.18 43.9361 L1723.18 43.2069 Q1723.18 38.0623 1719.78 35.2672 Q1716.42 32.4315 1710.3 32.4315 Q1706.41 32.4315 1702.72 33.3632 Q1699.04 34.295 1695.63 36.1584 L1695.63 29.2718 Q1699.73 27.692 1703.57 26.9223 Q1707.42 26.1121 1711.07 26.1121 Q1720.91 26.1121 1725.77 31.2163 Q1730.63 36.3204 1730.63 46.6907 Z\" fill=\"#000000\" fill-rule=\"evenodd\" fill-opacity=\"1\" /><path clip-path=\"url(#clip250)\" d=\"M1772.28 34.1734 Q1771.02 33.4443 1769.52 33.1202 Q1768.06 32.7556 1766.28 32.7556 Q1759.96 32.7556 1756.56 36.8875 Q1753.2 40.9789 1753.2 48.6757 L1753.2 72.576 L1745.7 72.576 L1745.7 27.2059 L1753.2 27.2059 L1753.2 34.2544 Q1755.55 30.1225 1759.31 28.1376 Q1763.08 26.1121 1768.47 26.1121 Q1769.24 26.1121 1770.17 26.2337 Q1771.1 26.3147 1772.24 26.5172 L1772.28 34.1734 Z\" fill=\"#000000\" fill-rule=\"evenodd\" fill-opacity=\"1\" /><path clip-path=\"url(#clip250)\" d=\"M1813.96 35.9153 Q1816.76 30.8922 1820.65 28.5022 Q1824.53 26.1121 1829.8 26.1121 Q1836.89 26.1121 1840.74 31.0947 Q1844.59 36.0368 1844.59 45.1919 L1844.59 72.576 L1837.09 72.576 L1837.09 45.4349 Q1837.09 38.913 1834.78 35.7533 Q1832.47 32.5936 1827.73 32.5936 Q1821.94 32.5936 1818.58 36.4419 Q1815.22 40.2903 1815.22 46.9338 L1815.22 72.576 L1807.72 72.576 L1807.72 45.4349 Q1807.72 38.8725 1805.41 35.7533 Q1803.11 32.5936 1798.28 32.5936 Q1792.57 32.5936 1789.21 36.4824 Q1785.85 40.3308 1785.85 46.9338 L1785.85 72.576 L1778.35 72.576 L1778.35 27.2059 L1785.85 27.2059 L1785.85 34.2544 Q1788.4 30.082 1791.97 28.0971 Q1795.53 26.1121 1800.43 26.1121 Q1805.37 26.1121 1808.82 28.6237 Q1812.3 31.1352 1813.96 35.9153 Z\" fill=\"#000000\" fill-rule=\"evenodd\" fill-opacity=\"1\" /><path clip-path=\"url(#clip250)\" d=\"M1885.82 27.2059 L1893.28 27.2059 L1893.28 72.576 L1885.82 72.576 L1885.82 27.2059 M1885.82 9.54393 L1893.28 9.54393 L1893.28 18.9825 L1885.82 18.9825 L1885.82 9.54393 Z\" fill=\"#000000\" fill-rule=\"evenodd\" fill-opacity=\"1\" /><path clip-path=\"url(#clip250)\" d=\"M1946.59 45.1919 L1946.59 72.576 L1939.13 72.576 L1939.13 45.4349 Q1939.13 38.994 1936.62 35.7938 Q1934.11 32.5936 1929.09 32.5936 Q1923.05 32.5936 1919.57 36.4419 Q1916.08 40.2903 1916.08 46.9338 L1916.08 72.576 L1908.59 72.576 L1908.59 27.2059 L1916.08 27.2059 L1916.08 34.2544 Q1918.76 30.163 1922.36 28.1376 Q1926.01 26.1121 1930.75 26.1121 Q1938.57 26.1121 1942.58 30.9732 Q1946.59 35.7938 1946.59 45.1919 Z\" fill=\"#000000\" fill-rule=\"evenodd\" fill-opacity=\"1\" /><path clip-path=\"url(#clip250)\" d=\"M1984.42 9.54393 L1984.42 15.7418 L1977.29 15.7418 Q1973.28 15.7418 1971.7 17.3622 Q1970.16 18.9825 1970.16 23.1955 L1970.16 27.2059 L1982.44 27.2059 L1982.44 32.9987 L1970.16 32.9987 L1970.16 72.576 L1962.67 72.576 L1962.67 32.9987 L1955.54 32.9987 L1955.54 27.2059 L1962.67 27.2059 L1962.67 24.0462 Q1962.67 16.471 1966.19 13.0277 Q1969.72 9.54393 1977.38 9.54393 L1984.42 9.54393 Z\" fill=\"#000000\" fill-rule=\"evenodd\" fill-opacity=\"1\" /><path clip-path=\"url(#clip250)\" d=\"M2029.47 48.0275 L2029.47 51.6733 L1995.2 51.6733 Q1995.69 59.3701 1999.82 63.421 Q2003.99 67.4314 2011.4 67.4314 Q2015.7 67.4314 2019.71 66.3781 Q2023.76 65.3249 2027.73 63.2184 L2027.73 70.267 Q2023.72 71.9684 2019.5 72.8596 Q2015.29 73.7508 2010.96 73.7508 Q2000.1 73.7508 1993.74 67.4314 Q1987.42 61.1119 1987.42 50.3365 Q1987.42 39.1965 1993.42 32.6746 Q1999.45 26.1121 2009.66 26.1121 Q2018.82 26.1121 2024.12 32.0264 Q2029.47 37.9003 2029.47 48.0275 M2022.02 45.84 Q2021.94 39.7232 2018.57 36.0774 Q2015.25 32.4315 2009.74 32.4315 Q2003.5 32.4315 1999.74 35.9558 Q1996.01 39.4801 1995.44 45.8805 L2022.02 45.84 Z\" fill=\"#000000\" fill-rule=\"evenodd\" fill-opacity=\"1\" /><path clip-path=\"url(#clip250)\" d=\"M2067.99 34.1734 Q2066.74 33.4443 2065.24 33.1202 Q2063.78 32.7556 2062 32.7556 Q2055.68 32.7556 2052.28 36.8875 Q2048.91 40.9789 2048.91 48.6757 L2048.91 72.576 L2041.42 72.576 L2041.42 27.2059 L2048.91 27.2059 L2048.91 34.2544 Q2051.26 30.1225 2055.03 28.1376 Q2058.8 26.1121 2064.19 26.1121 Q2064.96 26.1121 2065.89 26.2337 Q2066.82 26.3147 2067.95 26.5172 L2067.99 34.1734 Z\" fill=\"#000000\" fill-rule=\"evenodd\" fill-opacity=\"1\" /><path clip-path=\"url(#clip250)\" d=\"M2112.8 48.0275 L2112.8 51.6733 L2078.53 51.6733 Q2079.01 59.3701 2083.14 63.421 Q2087.32 67.4314 2094.73 67.4314 Q2099.02 67.4314 2103.03 66.3781 Q2107.09 65.3249 2111.05 63.2184 L2111.05 70.267 Q2107.04 71.9684 2102.83 72.8596 Q2098.62 73.7508 2094.28 73.7508 Q2083.43 73.7508 2077.07 67.4314 Q2070.75 61.1119 2070.75 50.3365 Q2070.75 39.1965 2076.74 32.6746 Q2082.78 26.1121 2092.99 26.1121 Q2102.14 26.1121 2107.45 32.0264 Q2112.8 37.9003 2112.8 48.0275 M2105.34 45.84 Q2105.26 39.7232 2101.9 36.0774 Q2098.58 32.4315 2093.07 32.4315 Q2086.83 32.4315 2083.06 35.9558 Q2079.34 39.4801 2078.77 45.8805 L2105.34 45.84 Z\" fill=\"#000000\" fill-rule=\"evenodd\" fill-opacity=\"1\" /><path clip-path=\"url(#clip250)\" d=\"M2162.74 45.1919 L2162.74 72.576 L2155.29 72.576 L2155.29 45.4349 Q2155.29 38.994 2152.78 35.7938 Q2150.27 32.5936 2145.24 32.5936 Q2139.21 32.5936 2135.72 36.4419 Q2132.24 40.2903 2132.24 46.9338 L2132.24 72.576 L2124.75 72.576 L2124.75 27.2059 L2132.24 27.2059 L2132.24 34.2544 Q2134.91 30.163 2138.52 28.1376 Q2142.17 26.1121 2146.91 26.1121 Q2154.72 26.1121 2158.73 30.9732 Q2162.74 35.7938 2162.74 45.1919 Z\" fill=\"#000000\" fill-rule=\"evenodd\" fill-opacity=\"1\" /><path clip-path=\"url(#clip250)\" d=\"M2210.26 28.9478 L2210.26 35.9153 Q2207.1 34.1734 2203.9 33.3227 Q2200.74 32.4315 2197.5 32.4315 Q2190.25 32.4315 2186.24 37.0496 Q2182.23 41.6271 2182.23 49.9314 Q2182.23 58.2358 2186.24 62.8538 Q2190.25 67.4314 2197.5 67.4314 Q2200.74 67.4314 2203.9 66.5807 Q2207.1 65.6895 2210.26 63.9476 L2210.26 70.8341 Q2207.14 72.2924 2203.78 73.0216 Q2200.46 73.7508 2196.69 73.7508 Q2186.44 73.7508 2180.41 67.3098 Q2174.37 60.8689 2174.37 49.9314 Q2174.37 38.832 2180.45 32.472 Q2186.56 26.1121 2197.18 26.1121 Q2200.62 26.1121 2203.9 26.8413 Q2207.18 27.5299 2210.26 28.9478 Z\" fill=\"#000000\" fill-rule=\"evenodd\" fill-opacity=\"1\" /><path clip-path=\"url(#clip250)\" d=\"M2262.03 48.0275 L2262.03 51.6733 L2227.76 51.6733 Q2228.25 59.3701 2232.38 63.421 Q2236.55 67.4314 2243.97 67.4314 Q2248.26 67.4314 2252.27 66.3781 Q2256.32 65.3249 2260.29 63.2184 L2260.29 70.267 Q2256.28 71.9684 2252.07 72.8596 Q2247.85 73.7508 2243.52 73.7508 Q2232.66 73.7508 2226.3 67.4314 Q2219.98 61.1119 2219.98 50.3365 Q2219.98 39.1965 2225.98 32.6746 Q2232.01 26.1121 2242.22 26.1121 Q2251.38 26.1121 2256.68 32.0264 Q2262.03 37.9003 2262.03 48.0275 M2254.58 45.84 Q2254.5 39.7232 2251.14 36.0774 Q2247.81 32.4315 2242.3 32.4315 Q2236.07 32.4315 2232.3 35.9558 Q2228.57 39.4801 2228 45.8805 L2254.58 45.84 Z\" fill=\"#000000\" fill-rule=\"evenodd\" fill-opacity=\"1\" /><circle clip-path=\"url(#clip252)\" cx=\"279.916\" cy=\"623.287\" r=\"14\" fill=\"#009af9\" fill-rule=\"evenodd\" fill-opacity=\"1\" stroke=\"#000000\" stroke-opacity=\"1\" stroke-width=\"3.2\"/>\n",
       "<circle clip-path=\"url(#clip252)\" cx=\"385.835\" cy=\"733.722\" r=\"14\" fill=\"#009af9\" fill-rule=\"evenodd\" fill-opacity=\"1\" stroke=\"#000000\" stroke-opacity=\"1\" stroke-width=\"3.2\"/>\n",
       "<circle clip-path=\"url(#clip252)\" cx=\"491.755\" cy=\"690.837\" r=\"14\" fill=\"#009af9\" fill-rule=\"evenodd\" fill-opacity=\"1\" stroke=\"#000000\" stroke-opacity=\"1\" stroke-width=\"3.2\"/>\n",
       "<circle clip-path=\"url(#clip252)\" cx=\"597.674\" cy=\"647.953\" r=\"14\" fill=\"#009af9\" fill-rule=\"evenodd\" fill-opacity=\"1\" stroke=\"#000000\" stroke-opacity=\"1\" stroke-width=\"3.2\"/>\n",
       "<circle clip-path=\"url(#clip252)\" cx=\"703.593\" cy=\"652.275\" r=\"14\" fill=\"#009af9\" fill-rule=\"evenodd\" fill-opacity=\"1\" stroke=\"#000000\" stroke-opacity=\"1\" stroke-width=\"3.2\"/>\n",
       "<circle clip-path=\"url(#clip252)\" cx=\"809.512\" cy=\"652.13\" r=\"14\" fill=\"#009af9\" fill-rule=\"evenodd\" fill-opacity=\"1\" stroke=\"#000000\" stroke-opacity=\"1\" stroke-width=\"3.2\"/>\n",
       "<circle clip-path=\"url(#clip252)\" cx=\"915.432\" cy=\"528.806\" r=\"14\" fill=\"#009af9\" fill-rule=\"evenodd\" fill-opacity=\"1\" stroke=\"#000000\" stroke-opacity=\"1\" stroke-width=\"3.2\"/>\n",
       "<circle clip-path=\"url(#clip252)\" cx=\"1021.35\" cy=\"359.367\" r=\"14\" fill=\"#009af9\" fill-rule=\"evenodd\" fill-opacity=\"1\" stroke=\"#000000\" stroke-opacity=\"1\" stroke-width=\"3.2\"/>\n",
       "<circle clip-path=\"url(#clip252)\" cx=\"1127.27\" cy=\"337.71\" r=\"14\" fill=\"#009af9\" fill-rule=\"evenodd\" fill-opacity=\"1\" stroke=\"#000000\" stroke-opacity=\"1\" stroke-width=\"3.2\"/>\n",
       "<circle clip-path=\"url(#clip252)\" cx=\"1233.19\" cy=\"231.357\" r=\"14\" fill=\"#009af9\" fill-rule=\"evenodd\" fill-opacity=\"1\" stroke=\"#000000\" stroke-opacity=\"1\" stroke-width=\"3.2\"/>\n",
       "<circle clip-path=\"url(#clip252)\" cx=\"1339.11\" cy=\"194.739\" r=\"14\" fill=\"#009af9\" fill-rule=\"evenodd\" fill-opacity=\"1\" stroke=\"#000000\" stroke-opacity=\"1\" stroke-width=\"3.2\"/>\n",
       "<circle clip-path=\"url(#clip252)\" cx=\"1445.03\" cy=\"189.623\" r=\"14\" fill=\"#009af9\" fill-rule=\"evenodd\" fill-opacity=\"1\" stroke=\"#000000\" stroke-opacity=\"1\" stroke-width=\"3.2\"/>\n",
       "<circle clip-path=\"url(#clip252)\" cx=\"1550.95\" cy=\"179.72\" r=\"14\" fill=\"#009af9\" fill-rule=\"evenodd\" fill-opacity=\"1\" stroke=\"#000000\" stroke-opacity=\"1\" stroke-width=\"3.2\"/>\n",
       "<circle clip-path=\"url(#clip252)\" cx=\"1656.87\" cy=\"169.218\" r=\"14\" fill=\"#009af9\" fill-rule=\"evenodd\" fill-opacity=\"1\" stroke=\"#000000\" stroke-opacity=\"1\" stroke-width=\"3.2\"/>\n",
       "<circle clip-path=\"url(#clip252)\" cx=\"1762.79\" cy=\"159.72\" r=\"14\" fill=\"#009af9\" fill-rule=\"evenodd\" fill-opacity=\"1\" stroke=\"#000000\" stroke-opacity=\"1\" stroke-width=\"3.2\"/>\n",
       "<circle clip-path=\"url(#clip252)\" cx=\"1868.7\" cy=\"195.001\" r=\"14\" fill=\"#009af9\" fill-rule=\"evenodd\" fill-opacity=\"1\" stroke=\"#000000\" stroke-opacity=\"1\" stroke-width=\"3.2\"/>\n",
       "<circle clip-path=\"url(#clip252)\" cx=\"1974.62\" cy=\"195.229\" r=\"14\" fill=\"#009af9\" fill-rule=\"evenodd\" fill-opacity=\"1\" stroke=\"#000000\" stroke-opacity=\"1\" stroke-width=\"3.2\"/>\n",
       "<circle clip-path=\"url(#clip252)\" cx=\"2080.54\" cy=\"184.635\" r=\"14\" fill=\"#009af9\" fill-rule=\"evenodd\" fill-opacity=\"1\" stroke=\"#000000\" stroke-opacity=\"1\" stroke-width=\"3.2\"/>\n",
       "<circle clip-path=\"url(#clip252)\" cx=\"2186.46\" cy=\"171.255\" r=\"14\" fill=\"#009af9\" fill-rule=\"evenodd\" fill-opacity=\"1\" stroke=\"#000000\" stroke-opacity=\"1\" stroke-width=\"3.2\"/>\n",
       "<circle clip-path=\"url(#clip252)\" cx=\"2292.38\" cy=\"192.568\" r=\"14\" fill=\"#009af9\" fill-rule=\"evenodd\" fill-opacity=\"1\" stroke=\"#000000\" stroke-opacity=\"1\" stroke-width=\"3.2\"/>\n",
       "<circle clip-path=\"url(#clip252)\" cx=\"279.916\" cy=\"601.726\" r=\"14\" fill=\"#e26f46\" fill-rule=\"evenodd\" fill-opacity=\"1\" stroke=\"#000000\" stroke-opacity=\"1\" stroke-width=\"3.2\"/>\n",
       "<circle clip-path=\"url(#clip252)\" cx=\"385.835\" cy=\"807.29\" r=\"14\" fill=\"#e26f46\" fill-rule=\"evenodd\" fill-opacity=\"1\" stroke=\"#000000\" stroke-opacity=\"1\" stroke-width=\"3.2\"/>\n",
       "<circle clip-path=\"url(#clip252)\" cx=\"491.755\" cy=\"712.297\" r=\"14\" fill=\"#e26f46\" fill-rule=\"evenodd\" fill-opacity=\"1\" stroke=\"#000000\" stroke-opacity=\"1\" stroke-width=\"3.2\"/>\n",
       "<circle clip-path=\"url(#clip252)\" cx=\"597.674\" cy=\"702.465\" r=\"14\" fill=\"#e26f46\" fill-rule=\"evenodd\" fill-opacity=\"1\" stroke=\"#000000\" stroke-opacity=\"1\" stroke-width=\"3.2\"/>\n",
       "<circle clip-path=\"url(#clip252)\" cx=\"703.593\" cy=\"710.323\" r=\"14\" fill=\"#e26f46\" fill-rule=\"evenodd\" fill-opacity=\"1\" stroke=\"#000000\" stroke-opacity=\"1\" stroke-width=\"3.2\"/>\n",
       "<circle clip-path=\"url(#clip252)\" cx=\"809.512\" cy=\"705.223\" r=\"14\" fill=\"#e26f46\" fill-rule=\"evenodd\" fill-opacity=\"1\" stroke=\"#000000\" stroke-opacity=\"1\" stroke-width=\"3.2\"/>\n",
       "<circle clip-path=\"url(#clip252)\" cx=\"915.432\" cy=\"552.547\" r=\"14\" fill=\"#e26f46\" fill-rule=\"evenodd\" fill-opacity=\"1\" stroke=\"#000000\" stroke-opacity=\"1\" stroke-width=\"3.2\"/>\n",
       "<circle clip-path=\"url(#clip252)\" cx=\"1021.35\" cy=\"379.171\" r=\"14\" fill=\"#e26f46\" fill-rule=\"evenodd\" fill-opacity=\"1\" stroke=\"#000000\" stroke-opacity=\"1\" stroke-width=\"3.2\"/>\n",
       "<circle clip-path=\"url(#clip252)\" cx=\"1127.27\" cy=\"348.071\" r=\"14\" fill=\"#e26f46\" fill-rule=\"evenodd\" fill-opacity=\"1\" stroke=\"#000000\" stroke-opacity=\"1\" stroke-width=\"3.2\"/>\n",
       "<circle clip-path=\"url(#clip252)\" cx=\"1233.19\" cy=\"225.639\" r=\"14\" fill=\"#e26f46\" fill-rule=\"evenodd\" fill-opacity=\"1\" stroke=\"#000000\" stroke-opacity=\"1\" stroke-width=\"3.2\"/>\n",
       "<circle clip-path=\"url(#clip252)\" cx=\"1339.11\" cy=\"190.902\" r=\"14\" fill=\"#e26f46\" fill-rule=\"evenodd\" fill-opacity=\"1\" stroke=\"#000000\" stroke-opacity=\"1\" stroke-width=\"3.2\"/>\n",
       "<circle clip-path=\"url(#clip252)\" cx=\"1445.03\" cy=\"206.504\" r=\"14\" fill=\"#e26f46\" fill-rule=\"evenodd\" fill-opacity=\"1\" stroke=\"#000000\" stroke-opacity=\"1\" stroke-width=\"3.2\"/>\n",
       "<circle clip-path=\"url(#clip252)\" cx=\"1550.95\" cy=\"201.099\" r=\"14\" fill=\"#e26f46\" fill-rule=\"evenodd\" fill-opacity=\"1\" stroke=\"#000000\" stroke-opacity=\"1\" stroke-width=\"3.2\"/>\n",
       "<circle clip-path=\"url(#clip252)\" cx=\"1656.87\" cy=\"191.346\" r=\"14\" fill=\"#e26f46\" fill-rule=\"evenodd\" fill-opacity=\"1\" stroke=\"#000000\" stroke-opacity=\"1\" stroke-width=\"3.2\"/>\n",
       "<circle clip-path=\"url(#clip252)\" cx=\"1762.79\" cy=\"182.591\" r=\"14\" fill=\"#e26f46\" fill-rule=\"evenodd\" fill-opacity=\"1\" stroke=\"#000000\" stroke-opacity=\"1\" stroke-width=\"3.2\"/>\n",
       "<circle clip-path=\"url(#clip252)\" cx=\"1868.7\" cy=\"212.446\" r=\"14\" fill=\"#e26f46\" fill-rule=\"evenodd\" fill-opacity=\"1\" stroke=\"#000000\" stroke-opacity=\"1\" stroke-width=\"3.2\"/>\n",
       "<circle clip-path=\"url(#clip252)\" cx=\"1974.62\" cy=\"221.805\" r=\"14\" fill=\"#e26f46\" fill-rule=\"evenodd\" fill-opacity=\"1\" stroke=\"#000000\" stroke-opacity=\"1\" stroke-width=\"3.2\"/>\n",
       "<circle clip-path=\"url(#clip252)\" cx=\"2080.54\" cy=\"211.818\" r=\"14\" fill=\"#e26f46\" fill-rule=\"evenodd\" fill-opacity=\"1\" stroke=\"#000000\" stroke-opacity=\"1\" stroke-width=\"3.2\"/>\n",
       "<circle clip-path=\"url(#clip252)\" cx=\"2186.46\" cy=\"199.129\" r=\"14\" fill=\"#e26f46\" fill-rule=\"evenodd\" fill-opacity=\"1\" stroke=\"#000000\" stroke-opacity=\"1\" stroke-width=\"3.2\"/>\n",
       "<circle clip-path=\"url(#clip252)\" cx=\"2292.38\" cy=\"214.374\" r=\"14\" fill=\"#e26f46\" fill-rule=\"evenodd\" fill-opacity=\"1\" stroke=\"#000000\" stroke-opacity=\"1\" stroke-width=\"3.2\"/>\n",
       "<path clip-path=\"url(#clip250)\" d=\"\n",
       "M1743.21 322.316 L2281.65 322.316 L2281.65 166.796 L1743.21 166.796  Z\n",
       "  \" fill=\"#ffffff\" fill-rule=\"evenodd\" fill-opacity=\"1\"/>\n",
       "<polyline clip-path=\"url(#clip250)\" style=\"stroke:#000000; stroke-linecap:butt; stroke-linejoin:round; stroke-width:4; stroke-opacity:1; fill:none\" points=\"\n",
       "  1743.21,322.316 2281.65,322.316 2281.65,166.796 1743.21,166.796 1743.21,322.316 \n",
       "  \"/>\n",
       "<circle clip-path=\"url(#clip250)\" cx=\"1838.02\" cy=\"218.636\" r=\"23\" fill=\"#009af9\" fill-rule=\"evenodd\" fill-opacity=\"1\" stroke=\"#000000\" stroke-opacity=\"1\" stroke-width=\"5.12\"/>\n",
       "<path clip-path=\"url(#clip250)\" d=\"M1948.67 205.962 L1942.32 223.161 L1955.03 223.161 L1948.67 205.962 M1946.03 201.356 L1951.33 201.356 L1964.5 235.916 L1959.64 235.916 L1956.49 227.05 L1940.91 227.05 L1937.76 235.916 L1932.83 235.916 L1946.03 201.356 Z\" fill=\"#000000\" fill-rule=\"evenodd\" fill-opacity=\"1\" /><path clip-path=\"url(#clip250)\" d=\"M1969.01 201.356 L1973.71 201.356 L1973.71 222.351 Q1973.71 227.907 1975.73 230.36 Q1977.74 232.791 1982.25 232.791 Q1986.75 232.791 1988.76 230.36 Q1990.77 227.907 1990.77 222.351 L1990.77 201.356 L1995.47 201.356 L1995.47 222.93 Q1995.47 229.689 1992.12 233.138 Q1988.78 236.587 1982.25 236.587 Q1975.7 236.587 1972.35 233.138 Q1969.01 229.689 1969.01 222.93 L1969.01 201.356 Z\" fill=\"#000000\" fill-rule=\"evenodd\" fill-opacity=\"1\" /><path clip-path=\"url(#clip250)\" d=\"M2030.12 204.018 L2030.12 208.948 Q2027.76 206.749 2025.08 205.661 Q2022.42 204.573 2019.41 204.573 Q2013.48 204.573 2010.33 208.208 Q2007.19 211.819 2007.19 218.67 Q2007.19 225.499 2010.33 229.133 Q2013.48 232.744 2019.41 232.744 Q2022.42 232.744 2025.08 231.656 Q2027.76 230.569 2030.12 228.369 L2030.12 233.254 Q2027.67 234.92 2024.92 235.754 Q2022.18 236.587 2019.13 236.587 Q2011.28 236.587 2006.77 231.795 Q2002.25 226.981 2002.25 218.67 Q2002.25 210.337 2006.77 205.546 Q2011.28 200.731 2019.13 200.731 Q2022.23 200.731 2024.96 201.564 Q2027.72 202.374 2030.12 204.018 Z\" fill=\"#000000\" fill-rule=\"evenodd\" fill-opacity=\"1\" /><path clip-path=\"url(#clip250)\" d=\"M2048.94 222.883 Q2043.78 222.883 2041.79 224.064 Q2039.8 225.244 2039.8 228.092 Q2039.8 230.36 2041.28 231.703 Q2042.79 233.022 2045.36 233.022 Q2048.9 233.022 2051.03 230.522 Q2053.18 227.999 2053.18 223.832 L2053.18 222.883 L2048.94 222.883 M2057.44 221.124 L2057.44 235.916 L2053.18 235.916 L2053.18 231.981 Q2051.72 234.342 2049.55 235.476 Q2047.37 236.587 2044.22 236.587 Q2040.24 236.587 2037.88 234.365 Q2035.54 232.119 2035.54 228.369 Q2035.54 223.994 2038.46 221.772 Q2041.4 219.55 2047.21 219.55 L2053.18 219.55 L2053.18 219.133 Q2053.18 216.194 2051.24 214.596 Q2049.31 212.976 2045.82 212.976 Q2043.6 212.976 2041.49 213.508 Q2039.38 214.041 2037.44 215.106 L2037.44 211.17 Q2039.78 210.268 2041.98 209.828 Q2044.18 209.365 2046.26 209.365 Q2051.88 209.365 2054.66 212.282 Q2057.44 215.198 2057.44 221.124 Z\" fill=\"#000000\" fill-rule=\"evenodd\" fill-opacity=\"1\" /><path clip-path=\"url(#clip250)\" d=\"M2065.77 225.684 L2065.77 209.99 L2070.03 209.99 L2070.03 225.522 Q2070.03 229.203 2071.47 231.055 Q2072.9 232.883 2075.77 232.883 Q2079.22 232.883 2081.21 230.684 Q2083.23 228.485 2083.23 224.689 L2083.23 209.99 L2087.49 209.99 L2087.49 235.916 L2083.23 235.916 L2083.23 231.934 Q2081.68 234.295 2079.62 235.453 Q2077.58 236.587 2074.87 236.587 Q2070.4 236.587 2068.09 233.809 Q2065.77 231.031 2065.77 225.684 M2076.49 209.365 L2076.49 209.365 Z\" fill=\"#000000\" fill-rule=\"evenodd\" fill-opacity=\"1\" /><circle clip-path=\"url(#clip250)\" cx=\"1838.02\" cy=\"270.476\" r=\"23\" fill=\"#e26f46\" fill-rule=\"evenodd\" fill-opacity=\"1\" stroke=\"#000000\" stroke-opacity=\"1\" stroke-width=\"5.12\"/>\n",
       "<path clip-path=\"url(#clip250)\" d=\"M1948.67 257.802 L1942.32 275.001 L1955.03 275.001 L1948.67 257.802 M1946.03 253.196 L1951.33 253.196 L1964.5 287.756 L1959.64 287.756 L1956.49 278.89 L1940.91 278.89 L1937.76 287.756 L1932.83 287.756 L1946.03 253.196 Z\" fill=\"#000000\" fill-rule=\"evenodd\" fill-opacity=\"1\" /><path clip-path=\"url(#clip250)\" d=\"M1969.01 253.196 L1973.71 253.196 L1973.71 274.191 Q1973.71 279.747 1975.73 282.2 Q1977.74 284.631 1982.25 284.631 Q1986.75 284.631 1988.76 282.2 Q1990.77 279.747 1990.77 274.191 L1990.77 253.196 L1995.47 253.196 L1995.47 274.77 Q1995.47 281.529 1992.12 284.978 Q1988.78 288.427 1982.25 288.427 Q1975.7 288.427 1972.35 284.978 Q1969.01 281.529 1969.01 274.77 L1969.01 253.196 Z\" fill=\"#000000\" fill-rule=\"evenodd\" fill-opacity=\"1\" /><path clip-path=\"url(#clip250)\" d=\"M2030.12 255.858 L2030.12 260.788 Q2027.76 258.589 2025.08 257.501 Q2022.42 256.413 2019.41 256.413 Q2013.48 256.413 2010.33 260.048 Q2007.19 263.659 2007.19 270.51 Q2007.19 277.339 2010.33 280.973 Q2013.48 284.584 2019.41 284.584 Q2022.42 284.584 2025.08 283.496 Q2027.76 282.409 2030.12 280.209 L2030.12 285.094 Q2027.67 286.76 2024.92 287.594 Q2022.18 288.427 2019.13 288.427 Q2011.28 288.427 2006.77 283.635 Q2002.25 278.821 2002.25 270.51 Q2002.25 262.177 2006.77 257.386 Q2011.28 252.571 2019.13 252.571 Q2022.23 252.571 2024.96 253.404 Q2027.72 254.214 2030.12 255.858 Z\" fill=\"#000000\" fill-rule=\"evenodd\" fill-opacity=\"1\" /><path clip-path=\"url(#clip250)\" d=\"M2048.94 274.723 Q2043.78 274.723 2041.79 275.904 Q2039.8 277.084 2039.8 279.932 Q2039.8 282.2 2041.28 283.543 Q2042.79 284.862 2045.36 284.862 Q2048.9 284.862 2051.03 282.362 Q2053.18 279.839 2053.18 275.672 L2053.18 274.723 L2048.94 274.723 M2057.44 272.964 L2057.44 287.756 L2053.18 287.756 L2053.18 283.821 Q2051.72 286.182 2049.55 287.316 Q2047.37 288.427 2044.22 288.427 Q2040.24 288.427 2037.88 286.205 Q2035.54 283.959 2035.54 280.209 Q2035.54 275.834 2038.46 273.612 Q2041.4 271.39 2047.21 271.39 L2053.18 271.39 L2053.18 270.973 Q2053.18 268.034 2051.24 266.436 Q2049.31 264.816 2045.82 264.816 Q2043.6 264.816 2041.49 265.348 Q2039.38 265.881 2037.44 266.946 L2037.44 263.01 Q2039.78 262.108 2041.98 261.668 Q2044.18 261.205 2046.26 261.205 Q2051.88 261.205 2054.66 264.122 Q2057.44 267.038 2057.44 272.964 Z\" fill=\"#000000\" fill-rule=\"evenodd\" fill-opacity=\"1\" /><path clip-path=\"url(#clip250)\" d=\"M2065.77 277.524 L2065.77 261.83 L2070.03 261.83 L2070.03 277.362 Q2070.03 281.043 2071.47 282.895 Q2072.9 284.723 2075.77 284.723 Q2079.22 284.723 2081.21 282.524 Q2083.23 280.325 2083.23 276.529 L2083.23 261.83 L2087.49 261.83 L2087.49 287.756 L2083.23 287.756 L2083.23 283.774 Q2081.68 286.135 2079.62 287.293 Q2077.58 288.427 2074.87 288.427 Q2070.4 288.427 2068.09 285.649 Q2065.77 282.871 2065.77 277.524 M2076.49 261.205 L2076.49 261.205 Z\" fill=\"#000000\" fill-rule=\"evenodd\" fill-opacity=\"1\" /><path clip-path=\"url(#clip250)\" d=\"M2096.44 253.196 L2101.12 253.196 L2101.12 267.362 L2118.11 267.362 L2118.11 253.196 L2122.79 253.196 L2122.79 287.756 L2118.11 287.756 L2118.11 271.297 L2101.12 271.297 L2101.12 287.756 L2096.44 287.756 L2096.44 253.196 Z\" fill=\"#000000\" fill-rule=\"evenodd\" fill-opacity=\"1\" /><path clip-path=\"url(#clip250)\" d=\"M2142.69 290.163 Q2140.89 294.793 2139.18 296.205 Q2137.46 297.617 2134.59 297.617 L2131.19 297.617 L2131.19 294.052 L2133.69 294.052 Q2135.45 294.052 2136.42 293.219 Q2137.39 292.385 2138.57 289.283 L2139.34 287.339 L2128.85 261.83 L2133.36 261.83 L2141.47 282.108 L2149.57 261.83 L2154.08 261.83 L2142.69 290.163 Z\" fill=\"#000000\" fill-rule=\"evenodd\" fill-opacity=\"1\" /><path clip-path=\"url(#clip250)\" d=\"M2164.08 283.867 L2164.08 297.617 L2159.8 297.617 L2159.8 261.83 L2164.08 261.83 L2164.08 265.765 Q2165.42 263.45 2167.46 262.339 Q2169.52 261.205 2172.37 261.205 Q2177.09 261.205 2180.03 264.955 Q2182.99 268.705 2182.99 274.816 Q2182.99 280.927 2180.03 284.677 Q2177.09 288.427 2172.37 288.427 Q2169.52 288.427 2167.46 287.316 Q2165.42 286.182 2164.08 283.867 M2178.57 274.816 Q2178.57 270.117 2176.63 267.455 Q2174.71 264.77 2171.33 264.77 Q2167.95 264.77 2166 267.455 Q2164.08 270.117 2164.08 274.816 Q2164.08 279.515 2166 282.2 Q2167.95 284.862 2171.33 284.862 Q2174.71 284.862 2176.63 282.2 Q2178.57 279.515 2178.57 274.816 Z\" fill=\"#000000\" fill-rule=\"evenodd\" fill-opacity=\"1\" /><path clip-path=\"url(#clip250)\" d=\"M2212.23 273.728 L2212.23 275.811 L2192.65 275.811 Q2192.92 280.209 2195.29 282.524 Q2197.67 284.816 2201.91 284.816 Q2204.36 284.816 2206.65 284.214 Q2208.97 283.612 2211.23 282.409 L2211.23 286.436 Q2208.94 287.408 2206.54 287.918 Q2204.13 288.427 2201.65 288.427 Q2195.45 288.427 2191.81 284.816 Q2188.2 281.205 2188.2 275.047 Q2188.2 268.682 2191.63 264.955 Q2195.08 261.205 2200.91 261.205 Q2206.14 261.205 2209.17 264.585 Q2212.23 267.941 2212.23 273.728 M2207.97 272.478 Q2207.92 268.983 2206 266.899 Q2204.11 264.816 2200.96 264.816 Q2197.39 264.816 2195.24 266.83 Q2193.11 268.844 2192.79 272.501 L2207.97 272.478 Z\" fill=\"#000000\" fill-rule=\"evenodd\" fill-opacity=\"1\" /><path clip-path=\"url(#clip250)\" d=\"M2234.24 265.811 Q2233.53 265.395 2232.67 265.21 Q2231.84 265.001 2230.82 265.001 Q2227.21 265.001 2225.26 267.362 Q2223.34 269.7 2223.34 274.098 L2223.34 287.756 L2219.06 287.756 L2219.06 261.83 L2223.34 261.83 L2223.34 265.858 Q2224.68 263.497 2226.84 262.362 Q2228.99 261.205 2232.07 261.205 Q2232.51 261.205 2233.04 261.274 Q2233.57 261.321 2234.22 261.436 L2234.24 265.811 Z\" fill=\"#000000\" fill-rule=\"evenodd\" fill-opacity=\"1\" /></svg>\n"
      ]
     },
     "execution_count": 34,
     "metadata": {},
     "output_type": "execute_result"
    }
   ],
   "source": [
    "#AUROC curves\n",
    "\n",
    "T = Int(T)\n",
    "AU_curve=zeros(T)\n",
    "AU_curveHyper=zeros(T)\n",
    "for t = 1:T\n",
    "    cau_risk=zeros(N)\n",
    "    cau_Hyper=zeros(N)\n",
    "    for i=1:N\n",
    "       cau_risk[i] = marginal(i,t,statscau)\n",
    "       cau_Hyper[i] = marginal(i,t,statscauHyper)\n",
    "    end\n",
    "    xt = xtrue .< t\n",
    "    AU_curve[t] = AUROC(ROC(xt, cau_risk))\n",
    "    AU_curveHyper[t] = AUROC(ROC(xt, cau_Hyper))\n",
    "end\n",
    "\n",
    "scatter(LinRange(1,T,T),AU_curve, label=\"AUCau\", title=\"AUROC: with and without Hyperparm inference\")\n",
    "scatter!(LinRange(1,T,T),AU_curveHyper, label=\"AUCauHyper\" )\n",
    "xlabel!(\"t\")\n",
    "ylabel!(\"AUROC\")\n",
    "savefig(\"confronti.pdf\")\n",
    "ylims!(0.5,1.01)"
   ]
  },
  {
   "cell_type": "code",
   "execution_count": null,
   "metadata": {},
   "outputs": [],
   "source": []
  }
 ],
 "metadata": {
  "kernelspec": {
   "display_name": "Julia 1.7.0-rc2",
   "language": "julia",
   "name": "julia-1.7"
  },
  "language_info": {
   "file_extension": ".jl",
   "mimetype": "application/julia",
   "name": "julia",
   "version": "1.7.0"
  }
 },
 "nbformat": 4,
 "nbformat_minor": 4
}
