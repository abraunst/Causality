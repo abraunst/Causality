{
 "cells": [
  {
   "cell_type": "code",
   "execution_count": 219,
   "metadata": {},
   "outputs": [],
   "source": [
    "using SparseArrays, LinearAlgebra\n",
    "#using Pkg\n",
    "#Pkg.activate(\"../\")\n",
    "using Causality"
   ]
  },
  {
   "cell_type": "markdown",
   "metadata": {},
   "source": [
    "# Generation of Epidemics"
   ]
  },
  {
   "cell_type": "code",
   "execution_count": 263,
   "metadata": {},
   "outputs": [
    {
     "data": {
      "text/plain": [
       "500×500 SparseMatrixCSC{IndexedGraphs.NullNumber, Int64} with 3240 stored entries:\n",
       "⠰⡢⡇⢱⡥⣄⢶⣫⡓⣑⠔⠒⢨⣈⣒⣐⠡⠞⠆⣹⠨⣌⠆⠰⢦⡘⢥⠌⣃⠄⡨⡗⠣⢊⠖⠢⠀⣕⣎⠲\n",
       "⢍⣉⡄⠍⡣⣀⠂⠩⡁⡆⣣⡑⢂⠐⡊⠌⡁⢃⡹⠓⠙⠰⠨⠲⡲⢺⠌⣏⣠⢃⡞⢀⠐⣅⠝⣍⢦⠳⢪⡦\n",
       "⠁⢯⠉⢪⡄⡩⠦⢐⣕⣪⣖⢁⡰⠀⡐⠶⡗⢑⠱⠧⠄⣿⠃⢴⢸⢪⠚⢘⠐⢵⡽⢔⣄⡇⡡⣫⡸⠐⡼⠚\n",
       "⡼⣳⡌⡀⢈⢃⢚⡰⠘⡡⣰⡶⡅⢈⢱⣒⠔⠓⠌⡛⣠⢈⡀⠏⠫⠑⢡⣄⢸⢚⠨⣲⠬⣖⠔⡔⠐⣸⡒⠍\n",
       "⢝⢨⠡⠬⡱⣹⠖⡠⠏⠁⠐⢓⠢⣘⢴⠕⠐⢚⡠⢪⢫⣠⡦⡌⠏⢚⠤⠐⠷⠼⣐⣒⢃⢥⠁⠺⢀⠙⡢⠒\n",
       "⢰⠁⢍⠺⠜⢙⢰⡾⢴⢀⢠⡲⠇⠋⢲⡉⣥⡧⠽⣄⡱⠈⡓⠘⠼⠮⠢⠙⡈⠢⠎⣶⡺⠏⡆⠖⠴⢀⠧⠒\n",
       "⡂⢲⢈⠐⠐⠊⡁⢉⣈⢢⡭⠁⠋⣠⢐⡂⠅⡬⡬⣚⢢⠘⠼⠯⡋⡜⠓⡜⡁⠟⠤⠋⢋⠁⠔⠙⠇⠂⢥⢂\n",
       "⢘⢸⡊⠌⢰⡌⢱⢲⢔⠗⡜⠲⠰⠰⢅⣱⣥⡬⡀⠢⠄⢠⡊⣀⠖⠅⠘⢠⣩⠩⠄⣲⡈⠿⢖⢥⢍⠓⣃⠡\n",
       "⣡⠆⠥⢈⢝⢉⢴⠁⣰⢀⠥⡿⡁⡥⡁⡿⣾⠛⡥⠥⡠⡂⡇⡨⢀⣘⡢⠉⠂⠀⠩⡸⢄⣑⣊⡈⠆⠃⠅⠦\n",
       "⣌⣡⢷⠊⠵⡆⣦⠡⡠⣊⠓⢧⣢⢫⠠⡈⠅⡏⢀⠐⡴⢠⠋⡪⡋⠾⡟⢢⡤⣩⠵⠤⡮⠁⣙⣈⠚⠤⡩⡘\n",
       "⡂⢦⢓⡀⣤⣥⡀⢚⠋⣲⡑⠊⣈⠒⠀⣁⠠⠪⠐⣋⠄⡥⡎⣟⢁⢎⢔⢂⢣⢲⡞⡀⢵⠄⠕⡍⣅⡖⡴⡂\n",
       "⢈⡁⢢⡂⢉⣄⡤⠌⡈⠯⣙⠈⡶⡇⠊⢨⡉⡩⡫⡠⣮⢭⠠⠂⣆⢏⡽⠫⠤⡯⠫⡎⣤⠀⠣⠔⢷⠟⣰⣚\n",
       "⣈⠳⣸⣊⡲⣒⢏⠂⣫⢁⡲⡇⣋⠬⠜⠅⣀⢰⣫⡌⡡⢔⡬⢝⡀⠈⡣⣈⠠⠬⡤⠡⣔⠵⡍⣤⢝⢑⠷⠜\n",
       "⡁⠗⡦⢥⣚⢀⠁⢶⢀⠃⣌⠂⣙⠤⠒⣀⡌⠊⠻⣉⠰⢑⡷⡋⡉⢪⡐⠈⡡⢣⢤⢀⡄⣀⠧⣄⢬⡃⡈⠙\n",
       "⠉⠜⠤⢚⢔⣄⣲⢒⣙⡇⠢⡈⣥⠌⡇⡚⠈⠀⡄⣫⢩⣒⡤⡧⡀⡆⠥⣊⣊⡸⡎⣆⢒⣖⠂⡁⢰⢴⠠⢥\n",
       "⢦⠮⠚⢉⢓⢏⢢⣢⢰⢸⢪⣥⡤⠃⢠⣡⣃⡢⠑⡇⠚⠩⡫⠦⠄⡋⠀⢓⠪⢭⡀⢈⣔⠦⠰⣚⢈⢼⡩⡁\n",
       "⡩⢂⠔⢤⠤⠽⢢⢧⠍⣔⡾⠎⠏⠐⣦⡌⢄⢱⠎⠋⠑⠗⠀⠛⢔⡝⠀⢩⢸⢴⠰⡝⢄⡱⣄⣹⠇⠀⠏⠁\n",
       "⠸⡁⡗⢥⡥⣪⢐⠥⣡⡀⢨⠍⣔⠁⠜⣕⡊⠸⡓⢸⡕⠥⢉⠆⠃⣭⠉⢧⠌⠠⣰⢢⣄⣹⢐⡴⢑⠁⡔⡄\n",
       "⢄⢤⢬⡓⢒⠊⣐⣠⣄⠐⠐⢃⠩⠁⢧⠑⠬⠁⠚⡄⢡⠽⣽⠗⢗⢑⠦⠳⢐⣖⣂⣔⠉⠁⠕⠐⢀⡰⠱⡳\n",
       "⢪⡙⠪⡶⣲⠋⡜⠌⢨⠊⢩⠃⠡⢓⠍⡘⠡⡅⣃⠪⠰⠫⣰⢺⣙⠇⣆⠈⠄⣆⠇⠪⠏⠁⠐⠭⢵⡢⠠⡢"
      ]
     },
     "execution_count": 263,
     "metadata": {},
     "output_type": "execute_result"
    }
   ],
   "source": [
    "T, N = 20.0, 500\n",
    "#G = Causality.makeBarabasi(N,k=2)\n",
    "#ρ = 3/N\n",
    "#G = Causality.makeGNP(N,ρ)\n",
    "G = Causality.makeProximity(N,2.2/N)\n",
    "G.A "
   ]
  },
  {
   "cell_type": "code",
   "execution_count": 264,
   "metadata": {},
   "outputs": [
    {
     "data": {
      "text/plain": [
       "getpargen (generic function with 1 method)"
      ]
     },
     "execution_count": 264,
     "metadata": {},
     "output_type": "execute_result"
    }
   ],
   "source": [
    "getpar(pseed,autoinf::GaussianRate,inf_in::GaussianRate) = \n",
    "    [fill(pseed, 1, N);\n",
    "     fill(autoinf.a, 1, N); fill(autoinf.b, 1, N); fill(autoinf.c, 1, N);\n",
    "     fill(inf_in.a,   1, N); fill(inf_in.b, 1, N); fill(inf_in.c, 1, N);\n",
    "    ]\n",
    "\n",
    "getpargen(pseed, autoinf::GaussianRate, inf_out::GaussianRate) = \n",
    "    [pseed autoinf.a autoinf.b autoinf.c inf_out.a inf_out.b inf_out.c]\n"
   ]
  },
  {
   "cell_type": "code",
   "execution_count": 269,
   "metadata": {},
   "outputs": [],
   "source": [
    "#Initialize generation parameters\n",
    "ε = 1e-10\n",
    "λ = 0.4\n",
    "pseed = 1/N\n",
    "autoinf = GaussianRate(ε, T/2, 1/ε)\n",
    "inf_in = GaussianRate(1.0, T/2, 1/ε)\n",
    "inf_out = GaussianRate(λ, T/2, 1/ε)\n",
    "\n",
    "θp = getpar(pseed, autoinf, inf_in);\n",
    "θpgen = getpargen(pseed, autoinf, inf_out);"
   ]
  },
  {
   "cell_type": "code",
   "execution_count": 270,
   "metadata": {},
   "outputs": [],
   "source": [
    "#Initialize min/max boundaies\n",
    "T = Float64(T)\n",
    "pseed_min = ε\n",
    "pseed_max = 1-ε\n",
    "rate_min = GaussianRate(ε  ,  -T,   ε)\n",
    "rate_max = GaussianRate(1/ε  ,  2T,   1/ε)\n",
    "\n",
    "θmin = getpar(pseed_min , rate_min, rate_min);\n",
    "θmax = getpar(pseed_max , rate_max, rate_max);\n",
    "\n",
    "rate_min = GaussianRate(ε  ,  -T,   ε)\n",
    "rate_max = GaussianRate(1/ε  ,  T,   T)\n",
    "\n",
    "θgenmin = getpargen(pseed_min, rate_min, rate_min);\n",
    "θgenmax = getpargen(pseed_max, rate_max, rate_max);"
   ]
  },
  {
   "cell_type": "code",
   "execution_count": 271,
   "metadata": {},
   "outputs": [
    {
     "data": {
      "text/plain": [
       "GaussianInferentialSI"
      ]
     },
     "execution_count": 271,
     "metadata": {},
     "output_type": "execute_result"
    }
   ],
   "source": [
    "const Igen = GenerativeSI{GaussianRate,GaussianRate} \n",
    "const Igauss = GaussianInferentialSI"
   ]
  },
  {
   "cell_type": "code",
   "execution_count": 278,
   "metadata": {},
   "outputs": [
    {
     "data": {
      "text/plain": [
       "392"
      ]
     },
     "execution_count": 278,
     "metadata": {},
     "output_type": "execute_result"
    }
   ],
   "source": [
    "Mp = StochasticModel(Igen, T, θp, G, θpgen);\n",
    "sample! = Sampler(Mp);\n",
    "\n",
    "xtrue = zeros(N)\n",
    "sample!(xtrue)\n",
    "nobs, p = 150, 1e-5\n",
    "#nobs, p = N, 1e-5\n",
    "O = [(ti = T*(1+rand())/2; (i,xtrue[i] < ti,ti,p)) for i=1:nobs]\n",
    "sum(xtrue .< T)"
   ]
  },
  {
   "cell_type": "markdown",
   "metadata": {},
   "source": [
    "## Causality "
   ]
  },
  {
   "cell_type": "code",
   "execution_count": 344,
   "metadata": {},
   "outputs": [],
   "source": [
    "#Softened model\n",
    "T = Float64(T)\n",
    "ε = 1e-3\n",
    "autoinf = GaussianRate(ε, T/2, T);\n",
    "inf_out = GaussianRate(λ, T/2, 3*T)\n",
    "θp2gen = getpargen(pseed, autoinf, inf_out);\n",
    "inf_in = GaussianRate(1., T/2, 3*T );\n",
    "\n",
    "θp2 = getpar(pseed, autoinf, inf_in);\n",
    "Mp2 = StochasticModel(Igen, T, θp2, G, θp2gen);"
   ]
  },
  {
   "cell_type": "code",
   "execution_count": 345,
   "metadata": {},
   "outputs": [],
   "source": [
    "θ = getpar(pseed, autoinf, inf_in);\n",
    "M = StochasticModel(Igauss, T, θ, G, θp2gen);"
   ]
  },
  {
   "cell_type": "code",
   "execution_count": 346,
   "metadata": {},
   "outputs": [
    {
     "name": "stderr",
     "output_type": "stream",
     "text": [
      "\u001b[32mProgress: 100%|█████████████████████████████████████████| Time: 0:23:05\u001b[39m\n",
      "\u001b[34m  F:  96.06573773591717\u001b[39m\n"
     ]
    },
    {
     "data": {
      "text/plain": [
       "96.06573773591717"
      ]
     },
     "execution_count": 346,
     "metadata": {},
     "output_type": "execute_result"
    }
   ],
   "source": [
    "using ProgressMeter\n",
    "ProgressMeter.ijulia_behavior(:clear)\n",
    "F = descend!(Mp2, O; M=M, numsamples=5000, numiters=200, \n",
    "         θmin=θmin, θmax=θmax,θgenmin=θgenmin, θgenmax=θgenmax, descender=SignDescender(0.1),\n",
    "         hyperdescender=SignDescender(0.),learnhyper=1);\n",
    "F = descend!(Mp2, O; M=M, numsamples=5000, numiters=200, \n",
    "         θmin=θmin, θmax=θmax,θgenmin=θgenmin, θgenmax=θgenmax, descender=SignDescender(0.02),\n",
    "         hyperdescender=SignDescender(0.),learnhyper=1);\n",
    "F"
   ]
  },
  {
   "cell_type": "code",
   "execution_count": 347,
   "metadata": {},
   "outputs": [
    {
     "data": {
      "text/plain": [
       "1×7 Matrix{Float64}:\n",
       " 0.002  1.0e-10  10.0  1.0e10  0.4  10.0  1.0e10"
      ]
     },
     "execution_count": 347,
     "metadata": {},
     "output_type": "execute_result"
    }
   ],
   "source": [
    "Mp.θgen"
   ]
  },
  {
   "cell_type": "code",
   "execution_count": 348,
   "metadata": {},
   "outputs": [
    {
     "data": {
      "text/plain": [
       "1×7 Matrix{Float64}:\n",
       " 0.002  0.001  10.0  20.0  0.4  10.0  20.0"
      ]
     },
     "execution_count": 348,
     "metadata": {},
     "output_type": "execute_result"
    }
   ],
   "source": [
    "M.θgen"
   ]
  },
  {
   "cell_type": "code",
   "execution_count": 349,
   "metadata": {},
   "outputs": [
    {
     "name": "stderr",
     "output_type": "stream",
     "text": [
      "\u001b[32mProgress: 100%|█████████████████████████████████████████| Time: 0:00:08\u001b[39m\n"
     ]
    }
   ],
   "source": [
    "statscau4 = prior(M, numsamples=10000);"
   ]
  },
  {
   "cell_type": "markdown",
   "metadata": {},
   "source": [
    "## SoftMarg"
   ]
  },
  {
   "cell_type": "code",
   "execution_count": 287,
   "metadata": {},
   "outputs": [
    {
     "name": "stderr",
     "output_type": "stream",
     "text": [
      "\u001b[32mProgress: 100%|█████████████████████████████████████████| Time: 0:00:09\u001b[39m\n"
     ]
    },
    {
     "data": {
      "text/plain": [
       "0×500 Matrix{Float64}"
      ]
     },
     "execution_count": 287,
     "metadata": {},
     "output_type": "execute_result"
    }
   ],
   "source": [
    "stats = softpost(Mp, O; numsamples=10^4)"
   ]
  },
  {
   "cell_type": "markdown",
   "metadata": {},
   "source": [
    "## Sib"
   ]
  },
  {
   "cell_type": "code",
   "execution_count": 288,
   "metadata": {},
   "outputs": [
    {
     "data": {
      "text/plain": [
       "sibyl (generic function with 1 method)"
      ]
     },
     "execution_count": 288,
     "metadata": {},
     "output_type": "execute_result"
    }
   ],
   "source": [
    "using PyCall\n",
    "@pyimport sib\n",
    "function sibyl(N, T_cont, Λ, O, γ, λ ; dt=1/5, maxit = 400, tol = 1e-14)\n",
    "    \n",
    "    T = Int(round(T_cont / dt))\n",
    "    contacts = [(i-1,j-1,t, λ * dt) for t in 1:T for (i,j,v) in zip(findnz(Λ.A)...)];\n",
    "    obs = [[(i,-1,t) for t=1:T for i=0:N-1];\n",
    "           [(i-1,s,Int(round(t/dt))) for (i,s,t,p) in O]]\n",
    "    sort!(obs, lt=((i1,s1,t1),(i2,s2,t2))->(t1<t2))\n",
    "    prob_sus = 0.5\n",
    "    prob_seed=γ\n",
    "    pseed = prob_seed / (2 - prob_seed)\n",
    "    psus = prob_sus * (1 - pseed)\n",
    "    params = sib.Params(prob_r=sib.Exponential(mu=0), pseed=pseed, psus=psus,pautoinf=1e-10,fp_rate=1e-10,fn_rate=1e-10)\n",
    "    f = sib.FactorGraph(contacts=contacts, observations=obs, params=params)\n",
    "    sib.iterate(f, maxit=maxit,tol=tol)\n",
    "    sib.iterate(f, maxit=maxit, damping=0.5, tol=tol)\n",
    "    sib.iterate(f, maxit=maxit, damping=0.9, tol=tol)\n",
    "    p_sib=[collect(n.bt) for n in f.nodes]\n",
    "    m_sib = zeros(N, T)\n",
    "    for i=1:N\n",
    "        m_sib[i,1] = p_sib[i][1] \n",
    "        for t=2:T\n",
    "            m_sib[i,t] = m_sib[i,t-1] + p_sib[i][t]\n",
    "        end\n",
    "    end \n",
    "    return m_sib\n",
    "end\n"
   ]
  },
  {
   "cell_type": "code",
   "execution_count": 289,
   "metadata": {},
   "outputs": [
    {
     "name": "stdout",
     "output_type": "stream",
     "text": [
      "\n",
      "sib.iterate(damp=0.0): 39/40 1.720e-01/1e-07      \n",
      "sib.iterate(damp=0.5): 39/40 9.449e-02/1e-07      \n",
      "105.66093611717224.9): 39/40 1.530e-01/1e-07      \n"
     ]
    }
   ],
   "source": [
    "a=time()\n",
    "dt = 1/4\n",
    "p_sib = sibyl(N, T, G, O, 1/N, λ; dt=dt, maxit = 40, tol = 1e-7);\n",
    "b=time()\n",
    "println(b-a)"
   ]
  },
  {
   "cell_type": "markdown",
   "metadata": {},
   "source": [
    "# Heuristic"
   ]
  },
  {
   "cell_type": "code",
   "execution_count": 290,
   "metadata": {},
   "outputs": [
    {
     "name": "stderr",
     "output_type": "stream",
     "text": [
      "\u001b[32mProgress: 100%|█████████████████████████████████████████| Time: 0:00:12\u001b[39m\n"
     ]
    }
   ],
   "source": [
    "using IntervalUnionArithmetic\n",
    "T = Float64(T)\n",
    "struct HeuristicSI <: SI end\n",
    "maskauto = fill(IntervalUnion(0., T),N)\n",
    "maskinf = fill(IntervalUnion(0., T),N)\n",
    "θfrench = getpar(pseed, GaussianRate(1e-10,T,T), inf_in);\n",
    "Causality.individual(M::StochasticModel{HeuristicSI}, i::Int, θi = @view(M.θ[:,i]), θg = M.θgen ) = \n",
    "@views IndividualSI(θi[1], \n",
    "    MaskedRate(GaussianRate(θi[2:4]...),maskauto[i]), \n",
    "    MaskedRate(UnitRate(),maskinf[i]), \n",
    "    GaussianRate(θg[5:7]...),)\n",
    "\n",
    "\n",
    "for o in O\n",
    "    if o[2] == 1 \n",
    "        maskauto[o[1]] = maskauto[o[1]] ∩ IntervalUnion(o[3]-5, T)        \n",
    "        θfrench[2,o[1]] = 10\n",
    "        θfrench[3,o[1]] = o[3] - 5\n",
    "        θfrench[4,o[1]] = 10\n",
    "    elseif o[2] == 0\n",
    "        maskinf[o[1]] = maskinf[o[1]] ∩ IntervalUnion(o[3], T)\n",
    "        θfrench[1,o[1]] = 1e-10\n",
    "    end\n",
    "end\n",
    "\n",
    "Mfrench = StochasticModel(HeuristicSI, T, θfrench, G, θp2gen);\n",
    "statsfre = prior(Mfrench,numsamples=10000);"
   ]
  },
  {
   "cell_type": "markdown",
   "metadata": {},
   "source": [
    "## Metropolis Monte Carlo"
   ]
  },
  {
   "cell_type": "code",
   "execution_count": 299,
   "metadata": {
    "collapsed": true,
    "jupyter": {
     "outputs_hidden": true
    }
   },
   "outputs": [
    {
     "ename": "LoadError",
     "evalue": "InterruptException:",
     "output_type": "error",
     "traceback": [
      "InterruptException:",
      "",
      "Stacktrace:",
      "  [1] reshape",
      "    @ ./reshapedarray.jl:51 [inlined]",
      "  [2] reshape",
      "    @ ./reshapedarray.jl:111 [inlined]",
      "  [3] reshape",
      "    @ ./reshapedarray.jl:141 [inlined]",
      "  [4] _maybe_reshape_parent",
      "    @ ./subarray.jl:124 [inlined]",
      "  [5] view",
      "    @ ./subarray.jl:178 [inlined]",
      "  [6] maybeview",
      "    @ ./views.jl:146 [inlined]",
      "  [7] individual(#unused#::Type{GenerativeSI{GaussianRate, GaussianRate}}, θi::SubArray{Float64, 1, Matrix{Float64}, Tuple{Base.Slice{Base.OneTo{Int64}}, Int64}, true}, θgen::Matrix{Float64})",
      "    @ Causality ~/git/Causality/src/si.jl:40",
      "  [8] individual (repeats 3 times)",
      "    @ ~/git/Causality/src/stochasticmodel.jl:51 [inlined]",
      "  [9] (::Causality.var\"#sample!#66\"{StochasticModel{GenerativeSI{GaussianRate, GaussianRate}, IndexedGraphs.IndexedBiDiGraph{Int64}, Vector{UnitRate}}, TrackingHeaps.TrackingHeap{Int64, Float64, 2, TrackingHeaps.MinHeapOrder, TrackingHeaps.NoTrainingWheels}, BitVector, Int64})(x::Vector{Float64})",
      "    @ Causality ~/git/Causality/src/si.jl:70",
      " [10] macro expansion",
      "    @ ~/git/Causality/src/sampler.jl:27 [inlined]",
      " [11] macro expansion",
      "    @ ~/.julia/packages/ProgressMeter/Vf8un/src/ProgressMeter.jl:940 [inlined]",
      " [12] post(Mp::StochasticModel{GenerativeSI{GaussianRate, GaussianRate}, IndexedGraphs.IndexedBiDiGraph{Int64}, Vector{UnitRate}}, O::Vector{Tuple{Int64, Bool, Float64, Float64}}; numsamples::Int64)",
      "    @ Causality ~/git/Causality/src/sampler.jl:24",
      " [13] top-level scope",
      "    @ In[299]:3",
      " [14] eval",
      "    @ ./boot.jl:373 [inlined]",
      " [15] include_string(mapexpr::typeof(REPL.softscope), mod::Module, code::String, filename::String)",
      "    @ Base ./loading.jl:1196"
     ]
    }
   ],
   "source": [
    "K = Causality.GaussMove(0.000020)\n",
    "#stats_mh = Causality.metropolis_sampling_parallel(Mp, O, K; numsamples = 10^3,numsteps=10^3)\n",
    "stats_mh = Causality.metropolis_sampling_sequential(Mp, O, K; numsamples = 0,numsteps=0);"
   ]
  },
  {
   "cell_type": "markdown",
   "metadata": {},
   "source": [
    "\n",
    "## Marginals and ROC curve"
   ]
  },
  {
   "cell_type": "code",
   "execution_count": 350,
   "metadata": {},
   "outputs": [
    {
     "data": {
      "text/plain": [
       "AUROC (generic function with 1 method)"
      ]
     },
     "execution_count": 350,
     "metadata": {},
     "output_type": "execute_result"
    }
   ],
   "source": [
    "function marginal(i, t, stats)\n",
    "    numsamp = size(stats,1)\n",
    "    sum(stats[:,i] .< t)/numsamp\n",
    "end\n",
    "\n",
    "function tpr(xtrue, rank) \n",
    "    cumsum(xtrue[rank]) ./( cumsum(xtrue[rank])[end])\n",
    "end\n",
    "\n",
    "function fpr(xtrue, rank) \n",
    "    N = size(rank,1)\n",
    "    return (range(1,N,length=N) .- cumsum(xtrue[rank])) ./ (range(1,N,length=N) .- cumsum(xtrue[rank]) )[end]\n",
    "end\n",
    "\n",
    "function ROC(xtrue, p)\n",
    "    N = size(xtrue,1)\n",
    "    rank = sortperm(p, rev=true)\n",
    "    \n",
    "    return fpr(xtrue, rank) , tpr(xtrue, rank)\n",
    "end\n",
    "\n",
    "function AUROC(ROC)\n",
    "    N = size(ROC[1],1) \n",
    "    AU = 0\n",
    "    for t = 1:N-1\n",
    "        AU += ROC[2][t] * (ROC[1][t+1] - ROC[1][t])\n",
    "    end\n",
    "    return AU\n",
    "end"
   ]
  },
  {
   "cell_type": "code",
   "execution_count": 351,
   "metadata": {},
   "outputs": [
    {
     "data": {
      "image/svg+xml": [
       "<?xml version=\"1.0\" encoding=\"utf-8\"?>\n",
       "<svg xmlns=\"http://www.w3.org/2000/svg\" xmlns:xlink=\"http://www.w3.org/1999/xlink\" width=\"600\" height=\"400\" viewBox=\"0 0 2400 1600\">\n",
       "<defs>\n",
       "  <clipPath id=\"clip650\">\n",
       "    <rect x=\"0\" y=\"0\" width=\"2400\" height=\"1600\"/>\n",
       "  </clipPath>\n",
       "</defs>\n",
       "<path clip-path=\"url(#clip650)\" d=\"\n",
       "M0 1600 L2400 1600 L2400 0 L0 0  Z\n",
       "  \" fill=\"#ffffff\" fill-rule=\"evenodd\" fill-opacity=\"1\"/>\n",
       "<defs>\n",
       "  <clipPath id=\"clip651\">\n",
       "    <rect x=\"480\" y=\"0\" width=\"1681\" height=\"1600\"/>\n",
       "  </clipPath>\n",
       "</defs>\n",
       "<path clip-path=\"url(#clip650)\" d=\"\n",
       "M186.274 1486.45 L2352.76 1486.45 L2352.76 47.2441 L186.274 47.2441  Z\n",
       "  \" fill=\"#ffffff\" fill-rule=\"evenodd\" fill-opacity=\"1\"/>\n",
       "<defs>\n",
       "  <clipPath id=\"clip652\">\n",
       "    <rect x=\"186\" y=\"47\" width=\"2167\" height=\"1440\"/>\n",
       "  </clipPath>\n",
       "</defs>\n",
       "<polyline clip-path=\"url(#clip652)\" style=\"stroke:#000000; stroke-linecap:butt; stroke-linejoin:round; stroke-width:2; stroke-opacity:0.1; fill:none\" points=\"\n",
       "  677.874,1486.45 677.874,47.2441 \n",
       "  \"/>\n",
       "<polyline clip-path=\"url(#clip652)\" style=\"stroke:#000000; stroke-linecap:butt; stroke-linejoin:round; stroke-width:2; stroke-opacity:0.1; fill:none\" points=\"\n",
       "  1215.73,1486.45 1215.73,47.2441 \n",
       "  \"/>\n",
       "<polyline clip-path=\"url(#clip652)\" style=\"stroke:#000000; stroke-linecap:butt; stroke-linejoin:round; stroke-width:2; stroke-opacity:0.1; fill:none\" points=\"\n",
       "  1753.58,1486.45 1753.58,47.2441 \n",
       "  \"/>\n",
       "<polyline clip-path=\"url(#clip652)\" style=\"stroke:#000000; stroke-linecap:butt; stroke-linejoin:round; stroke-width:2; stroke-opacity:0.1; fill:none\" points=\"\n",
       "  2291.44,1486.45 2291.44,47.2441 \n",
       "  \"/>\n",
       "<polyline clip-path=\"url(#clip650)\" style=\"stroke:#000000; stroke-linecap:butt; stroke-linejoin:round; stroke-width:4; stroke-opacity:1; fill:none\" points=\"\n",
       "  186.274,1486.45 2352.76,1486.45 \n",
       "  \"/>\n",
       "<polyline clip-path=\"url(#clip650)\" style=\"stroke:#000000; stroke-linecap:butt; stroke-linejoin:round; stroke-width:4; stroke-opacity:1; fill:none\" points=\"\n",
       "  677.874,1486.45 677.874,1467.55 \n",
       "  \"/>\n",
       "<polyline clip-path=\"url(#clip650)\" style=\"stroke:#000000; stroke-linecap:butt; stroke-linejoin:round; stroke-width:4; stroke-opacity:1; fill:none\" points=\"\n",
       "  1215.73,1486.45 1215.73,1467.55 \n",
       "  \"/>\n",
       "<polyline clip-path=\"url(#clip650)\" style=\"stroke:#000000; stroke-linecap:butt; stroke-linejoin:round; stroke-width:4; stroke-opacity:1; fill:none\" points=\"\n",
       "  1753.58,1486.45 1753.58,1467.55 \n",
       "  \"/>\n",
       "<polyline clip-path=\"url(#clip650)\" style=\"stroke:#000000; stroke-linecap:butt; stroke-linejoin:round; stroke-width:4; stroke-opacity:1; fill:none\" points=\"\n",
       "  2291.44,1486.45 2291.44,1467.55 \n",
       "  \"/>\n",
       "<path clip-path=\"url(#clip650)\" d=\"M668.152 1514.29 L686.508 1514.29 L686.508 1518.22 L672.434 1518.22 L672.434 1526.7 Q673.453 1526.35 674.471 1526.19 Q675.49 1526 676.508 1526 Q682.295 1526 685.675 1529.17 Q689.054 1532.34 689.054 1537.76 Q689.054 1543.34 685.582 1546.44 Q682.11 1549.52 675.791 1549.52 Q673.615 1549.52 671.346 1549.15 Q669.101 1548.78 666.693 1548.04 L666.693 1543.34 Q668.777 1544.47 670.999 1545.03 Q673.221 1545.58 675.698 1545.58 Q679.703 1545.58 682.041 1543.48 Q684.379 1541.37 684.379 1537.76 Q684.379 1534.15 682.041 1532.04 Q679.703 1529.94 675.698 1529.94 Q673.823 1529.94 671.948 1530.35 Q670.096 1530.77 668.152 1531.65 L668.152 1514.29 Z\" fill=\"#000000\" fill-rule=\"evenodd\" fill-opacity=\"1\" /><path clip-path=\"url(#clip650)\" d=\"M1190.42 1544.91 L1198.06 1544.91 L1198.06 1518.55 L1189.75 1520.21 L1189.75 1515.95 L1198.01 1514.29 L1202.69 1514.29 L1202.69 1544.91 L1210.32 1544.91 L1210.32 1548.85 L1190.42 1548.85 L1190.42 1544.91 Z\" fill=\"#000000\" fill-rule=\"evenodd\" fill-opacity=\"1\" /><path clip-path=\"url(#clip650)\" d=\"M1229.77 1517.37 Q1226.16 1517.37 1224.33 1520.93 Q1222.52 1524.47 1222.52 1531.6 Q1222.52 1538.71 1224.33 1542.27 Q1226.16 1545.82 1229.77 1545.82 Q1233.4 1545.82 1235.21 1542.27 Q1237.04 1538.71 1237.04 1531.6 Q1237.04 1524.47 1235.21 1520.93 Q1233.4 1517.37 1229.77 1517.37 M1229.77 1513.66 Q1235.58 1513.66 1238.63 1518.27 Q1241.71 1522.85 1241.71 1531.6 Q1241.71 1540.33 1238.63 1544.94 Q1235.58 1549.52 1229.77 1549.52 Q1223.96 1549.52 1220.88 1544.94 Q1217.82 1540.33 1217.82 1531.6 Q1217.82 1522.85 1220.88 1518.27 Q1223.96 1513.66 1229.77 1513.66 Z\" fill=\"#000000\" fill-rule=\"evenodd\" fill-opacity=\"1\" /><path clip-path=\"url(#clip650)\" d=\"M1728.77 1544.91 L1736.41 1544.91 L1736.41 1518.55 L1728.1 1520.21 L1728.1 1515.95 L1736.36 1514.29 L1741.04 1514.29 L1741.04 1544.91 L1748.68 1544.91 L1748.68 1548.85 L1728.77 1548.85 L1728.77 1544.91 Z\" fill=\"#000000\" fill-rule=\"evenodd\" fill-opacity=\"1\" /><path clip-path=\"url(#clip650)\" d=\"M1758.17 1514.29 L1776.52 1514.29 L1776.52 1518.22 L1762.45 1518.22 L1762.45 1526.7 Q1763.47 1526.35 1764.49 1526.19 Q1765.51 1526 1766.52 1526 Q1772.31 1526 1775.69 1529.17 Q1779.07 1532.34 1779.07 1537.76 Q1779.07 1543.34 1775.6 1546.44 Q1772.13 1549.52 1765.81 1549.52 Q1763.63 1549.52 1761.36 1549.15 Q1759.12 1548.78 1756.71 1548.04 L1756.71 1543.34 Q1758.79 1544.47 1761.02 1545.03 Q1763.24 1545.58 1765.71 1545.58 Q1769.72 1545.58 1772.06 1543.48 Q1774.39 1541.37 1774.39 1537.76 Q1774.39 1534.15 1772.06 1532.04 Q1769.72 1529.94 1765.71 1529.94 Q1763.84 1529.94 1761.96 1530.35 Q1760.11 1530.77 1758.17 1531.65 L1758.17 1514.29 Z\" fill=\"#000000\" fill-rule=\"evenodd\" fill-opacity=\"1\" /><path clip-path=\"url(#clip650)\" d=\"M2270.21 1544.91 L2286.53 1544.91 L2286.53 1548.85 L2264.59 1548.85 L2264.59 1544.91 Q2267.25 1542.16 2271.83 1537.53 Q2276.44 1532.88 2277.62 1531.53 Q2279.87 1529.01 2280.75 1527.27 Q2281.65 1525.51 2281.65 1523.82 Q2281.65 1521.07 2279.7 1519.33 Q2277.78 1517.6 2274.68 1517.6 Q2272.48 1517.6 2270.03 1518.36 Q2267.6 1519.13 2264.82 1520.68 L2264.82 1515.95 Q2267.64 1514.82 2270.1 1514.24 Q2272.55 1513.66 2274.59 1513.66 Q2279.96 1513.66 2283.15 1516.35 Q2286.35 1519.03 2286.35 1523.52 Q2286.35 1525.65 2285.54 1527.57 Q2284.75 1529.47 2282.64 1532.07 Q2282.07 1532.74 2278.96 1535.95 Q2275.86 1539.15 2270.21 1544.91 Z\" fill=\"#000000\" fill-rule=\"evenodd\" fill-opacity=\"1\" /><path clip-path=\"url(#clip650)\" d=\"M2306.35 1517.37 Q2302.74 1517.37 2300.91 1520.93 Q2299.1 1524.47 2299.1 1531.6 Q2299.1 1538.71 2300.91 1542.27 Q2302.74 1545.82 2306.35 1545.82 Q2309.98 1545.82 2311.79 1542.27 Q2313.62 1538.71 2313.62 1531.6 Q2313.62 1524.47 2311.79 1520.93 Q2309.98 1517.37 2306.35 1517.37 M2306.35 1513.66 Q2312.16 1513.66 2315.21 1518.27 Q2318.29 1522.85 2318.29 1531.6 Q2318.29 1540.33 2315.21 1544.94 Q2312.16 1549.52 2306.35 1549.52 Q2300.54 1549.52 2297.46 1544.94 Q2294.4 1540.33 2294.4 1531.6 Q2294.4 1522.85 2297.46 1518.27 Q2300.54 1513.66 2306.35 1513.66 Z\" fill=\"#000000\" fill-rule=\"evenodd\" fill-opacity=\"1\" /><polyline clip-path=\"url(#clip652)\" style=\"stroke:#000000; stroke-linecap:butt; stroke-linejoin:round; stroke-width:2; stroke-opacity:0.1; fill:none\" points=\"\n",
       "  186.274,1445.72 2352.76,1445.72 \n",
       "  \"/>\n",
       "<polyline clip-path=\"url(#clip652)\" style=\"stroke:#000000; stroke-linecap:butt; stroke-linejoin:round; stroke-width:2; stroke-opacity:0.1; fill:none\" points=\"\n",
       "  186.274,1106.28 2352.76,1106.28 \n",
       "  \"/>\n",
       "<polyline clip-path=\"url(#clip652)\" style=\"stroke:#000000; stroke-linecap:butt; stroke-linejoin:round; stroke-width:2; stroke-opacity:0.1; fill:none\" points=\"\n",
       "  186.274,766.846 2352.76,766.846 \n",
       "  \"/>\n",
       "<polyline clip-path=\"url(#clip652)\" style=\"stroke:#000000; stroke-linecap:butt; stroke-linejoin:round; stroke-width:2; stroke-opacity:0.1; fill:none\" points=\"\n",
       "  186.274,427.411 2352.76,427.411 \n",
       "  \"/>\n",
       "<polyline clip-path=\"url(#clip652)\" style=\"stroke:#000000; stroke-linecap:butt; stroke-linejoin:round; stroke-width:2; stroke-opacity:0.1; fill:none\" points=\"\n",
       "  186.274,87.9763 2352.76,87.9763 \n",
       "  \"/>\n",
       "<polyline clip-path=\"url(#clip650)\" style=\"stroke:#000000; stroke-linecap:butt; stroke-linejoin:round; stroke-width:4; stroke-opacity:1; fill:none\" points=\"\n",
       "  186.274,1486.45 186.274,47.2441 \n",
       "  \"/>\n",
       "<polyline clip-path=\"url(#clip650)\" style=\"stroke:#000000; stroke-linecap:butt; stroke-linejoin:round; stroke-width:4; stroke-opacity:1; fill:none\" points=\"\n",
       "  186.274,1445.72 205.172,1445.72 \n",
       "  \"/>\n",
       "<polyline clip-path=\"url(#clip650)\" style=\"stroke:#000000; stroke-linecap:butt; stroke-linejoin:round; stroke-width:4; stroke-opacity:1; fill:none\" points=\"\n",
       "  186.274,1106.28 205.172,1106.28 \n",
       "  \"/>\n",
       "<polyline clip-path=\"url(#clip650)\" style=\"stroke:#000000; stroke-linecap:butt; stroke-linejoin:round; stroke-width:4; stroke-opacity:1; fill:none\" points=\"\n",
       "  186.274,766.846 205.172,766.846 \n",
       "  \"/>\n",
       "<polyline clip-path=\"url(#clip650)\" style=\"stroke:#000000; stroke-linecap:butt; stroke-linejoin:round; stroke-width:4; stroke-opacity:1; fill:none\" points=\"\n",
       "  186.274,427.411 205.172,427.411 \n",
       "  \"/>\n",
       "<polyline clip-path=\"url(#clip650)\" style=\"stroke:#000000; stroke-linecap:butt; stroke-linejoin:round; stroke-width:4; stroke-opacity:1; fill:none\" points=\"\n",
       "  186.274,87.9763 205.172,87.9763 \n",
       "  \"/>\n",
       "<path clip-path=\"url(#clip650)\" d=\"M62.9365 1431.51 Q59.3254 1431.51 57.4967 1435.08 Q55.6912 1438.62 55.6912 1445.75 Q55.6912 1452.86 57.4967 1456.42 Q59.3254 1459.96 62.9365 1459.96 Q66.5707 1459.96 68.3763 1456.42 Q70.205 1452.86 70.205 1445.75 Q70.205 1438.62 68.3763 1435.08 Q66.5707 1431.51 62.9365 1431.51 M62.9365 1427.81 Q68.7467 1427.81 71.8022 1432.42 Q74.8809 1437 74.8809 1445.75 Q74.8809 1454.48 71.8022 1459.08 Q68.7467 1463.67 62.9365 1463.67 Q57.1264 1463.67 54.0477 1459.08 Q50.9921 1454.48 50.9921 1445.75 Q50.9921 1437 54.0477 1432.42 Q57.1264 1427.81 62.9365 1427.81 Z\" fill=\"#000000\" fill-rule=\"evenodd\" fill-opacity=\"1\" /><path clip-path=\"url(#clip650)\" d=\"M83.0984 1457.12 L87.9827 1457.12 L87.9827 1463 L83.0984 1463 L83.0984 1457.12 Z\" fill=\"#000000\" fill-rule=\"evenodd\" fill-opacity=\"1\" /><path clip-path=\"url(#clip650)\" d=\"M108.168 1431.51 Q104.557 1431.51 102.728 1435.08 Q100.922 1438.62 100.922 1445.75 Q100.922 1452.86 102.728 1456.42 Q104.557 1459.96 108.168 1459.96 Q111.802 1459.96 113.608 1456.42 Q115.436 1452.86 115.436 1445.75 Q115.436 1438.62 113.608 1435.08 Q111.802 1431.51 108.168 1431.51 M108.168 1427.81 Q113.978 1427.81 117.033 1432.42 Q120.112 1437 120.112 1445.75 Q120.112 1454.48 117.033 1459.08 Q113.978 1463.67 108.168 1463.67 Q102.358 1463.67 99.2789 1459.08 Q96.2234 1454.48 96.2234 1445.75 Q96.2234 1437 99.2789 1432.42 Q102.358 1427.81 108.168 1427.81 Z\" fill=\"#000000\" fill-rule=\"evenodd\" fill-opacity=\"1\" /><path clip-path=\"url(#clip650)\" d=\"M138.33 1431.51 Q134.719 1431.51 132.89 1435.08 Q131.084 1438.62 131.084 1445.75 Q131.084 1452.86 132.89 1456.42 Q134.719 1459.96 138.33 1459.96 Q141.964 1459.96 143.769 1456.42 Q145.598 1452.86 145.598 1445.75 Q145.598 1438.62 143.769 1435.08 Q141.964 1431.51 138.33 1431.51 M138.33 1427.81 Q144.14 1427.81 147.195 1432.42 Q150.274 1437 150.274 1445.75 Q150.274 1454.48 147.195 1459.08 Q144.14 1463.67 138.33 1463.67 Q132.519 1463.67 129.441 1459.08 Q126.385 1454.48 126.385 1445.75 Q126.385 1437 129.441 1432.42 Q132.519 1427.81 138.33 1427.81 Z\" fill=\"#000000\" fill-rule=\"evenodd\" fill-opacity=\"1\" /><path clip-path=\"url(#clip650)\" d=\"M63.9319 1092.08 Q60.3208 1092.08 58.4921 1095.64 Q56.6865 1099.19 56.6865 1106.32 Q56.6865 1113.42 58.4921 1116.99 Q60.3208 1120.53 63.9319 1120.53 Q67.5661 1120.53 69.3717 1116.99 Q71.2004 1113.42 71.2004 1106.32 Q71.2004 1099.19 69.3717 1095.64 Q67.5661 1092.08 63.9319 1092.08 M63.9319 1088.38 Q69.742 1088.38 72.7976 1092.98 Q75.8763 1097.57 75.8763 1106.32 Q75.8763 1115.04 72.7976 1119.65 Q69.742 1124.23 63.9319 1124.23 Q58.1217 1124.23 55.043 1119.65 Q51.9875 1115.04 51.9875 1106.32 Q51.9875 1097.57 55.043 1092.98 Q58.1217 1088.38 63.9319 1088.38 Z\" fill=\"#000000\" fill-rule=\"evenodd\" fill-opacity=\"1\" /><path clip-path=\"url(#clip650)\" d=\"M84.0938 1117.68 L88.978 1117.68 L88.978 1123.56 L84.0938 1123.56 L84.0938 1117.68 Z\" fill=\"#000000\" fill-rule=\"evenodd\" fill-opacity=\"1\" /><path clip-path=\"url(#clip650)\" d=\"M103.191 1119.63 L119.51 1119.63 L119.51 1123.56 L97.566 1123.56 L97.566 1119.63 Q100.228 1116.87 104.811 1112.24 Q109.418 1107.59 110.598 1106.25 Q112.844 1103.72 113.723 1101.99 Q114.626 1100.23 114.626 1098.54 Q114.626 1095.78 112.682 1094.05 Q110.76 1092.31 107.658 1092.31 Q105.459 1092.31 103.006 1093.07 Q100.575 1093.84 97.7974 1095.39 L97.7974 1090.67 Q100.621 1089.53 103.075 1088.95 Q105.529 1088.38 107.566 1088.38 Q112.936 1088.38 116.131 1091.06 Q119.325 1093.75 119.325 1098.24 Q119.325 1100.37 118.515 1102.29 Q117.728 1104.19 115.621 1106.78 Q115.043 1107.45 111.941 1110.67 Q108.839 1113.86 103.191 1119.63 Z\" fill=\"#000000\" fill-rule=\"evenodd\" fill-opacity=\"1\" /><path clip-path=\"url(#clip650)\" d=\"M129.371 1089 L147.728 1089 L147.728 1092.94 L133.654 1092.94 L133.654 1101.41 Q134.672 1101.06 135.691 1100.9 Q136.709 1100.71 137.728 1100.71 Q143.515 1100.71 146.894 1103.89 Q150.274 1107.06 150.274 1112.47 Q150.274 1118.05 146.802 1121.15 Q143.33 1124.23 137.01 1124.23 Q134.834 1124.23 132.566 1123.86 Q130.32 1123.49 127.913 1122.75 L127.913 1118.05 Q129.996 1119.19 132.219 1119.74 Q134.441 1120.3 136.918 1120.3 Q140.922 1120.3 143.26 1118.19 Q145.598 1116.08 145.598 1112.47 Q145.598 1108.86 143.26 1106.76 Q140.922 1104.65 136.918 1104.65 Q135.043 1104.65 133.168 1105.07 Q131.316 1105.48 129.371 1106.36 L129.371 1089 Z\" fill=\"#000000\" fill-rule=\"evenodd\" fill-opacity=\"1\" /><path clip-path=\"url(#clip650)\" d=\"M62.9365 752.645 Q59.3254 752.645 57.4967 756.209 Q55.6912 759.751 55.6912 766.881 Q55.6912 773.987 57.4967 777.552 Q59.3254 781.094 62.9365 781.094 Q66.5707 781.094 68.3763 777.552 Q70.205 773.987 70.205 766.881 Q70.205 759.751 68.3763 756.209 Q66.5707 752.645 62.9365 752.645 M62.9365 748.941 Q68.7467 748.941 71.8022 753.547 Q74.8809 758.131 74.8809 766.881 Q74.8809 775.608 71.8022 780.214 Q68.7467 784.797 62.9365 784.797 Q57.1264 784.797 54.0477 780.214 Q50.9921 775.608 50.9921 766.881 Q50.9921 758.131 54.0477 753.547 Q57.1264 748.941 62.9365 748.941 Z\" fill=\"#000000\" fill-rule=\"evenodd\" fill-opacity=\"1\" /><path clip-path=\"url(#clip650)\" d=\"M83.0984 778.246 L87.9827 778.246 L87.9827 784.126 L83.0984 784.126 L83.0984 778.246 Z\" fill=\"#000000\" fill-rule=\"evenodd\" fill-opacity=\"1\" /><path clip-path=\"url(#clip650)\" d=\"M98.2141 749.566 L116.57 749.566 L116.57 753.501 L102.496 753.501 L102.496 761.973 Q103.515 761.626 104.534 761.464 Q105.552 761.279 106.571 761.279 Q112.358 761.279 115.737 764.45 Q119.117 767.621 119.117 773.038 Q119.117 778.617 115.645 781.719 Q112.172 784.797 105.853 784.797 Q103.677 784.797 101.409 784.427 Q99.1632 784.057 96.7558 783.316 L96.7558 778.617 Q98.8391 779.751 101.061 780.307 Q103.284 780.862 105.76 780.862 Q109.765 780.862 112.103 778.756 Q114.441 776.649 114.441 773.038 Q114.441 769.427 112.103 767.321 Q109.765 765.214 105.76 765.214 Q103.885 765.214 102.01 765.631 Q100.159 766.047 98.2141 766.927 L98.2141 749.566 Z\" fill=\"#000000\" fill-rule=\"evenodd\" fill-opacity=\"1\" /><path clip-path=\"url(#clip650)\" d=\"M138.33 752.645 Q134.719 752.645 132.89 756.209 Q131.084 759.751 131.084 766.881 Q131.084 773.987 132.89 777.552 Q134.719 781.094 138.33 781.094 Q141.964 781.094 143.769 777.552 Q145.598 773.987 145.598 766.881 Q145.598 759.751 143.769 756.209 Q141.964 752.645 138.33 752.645 M138.33 748.941 Q144.14 748.941 147.195 753.547 Q150.274 758.131 150.274 766.881 Q150.274 775.608 147.195 780.214 Q144.14 784.797 138.33 784.797 Q132.519 784.797 129.441 780.214 Q126.385 775.608 126.385 766.881 Q126.385 758.131 129.441 753.547 Q132.519 748.941 138.33 748.941 Z\" fill=\"#000000\" fill-rule=\"evenodd\" fill-opacity=\"1\" /><path clip-path=\"url(#clip650)\" d=\"M63.9319 413.21 Q60.3208 413.21 58.4921 416.775 Q56.6865 420.316 56.6865 427.446 Q56.6865 434.552 58.4921 438.117 Q60.3208 441.659 63.9319 441.659 Q67.5661 441.659 69.3717 438.117 Q71.2004 434.552 71.2004 427.446 Q71.2004 420.316 69.3717 416.775 Q67.5661 413.21 63.9319 413.21 M63.9319 409.506 Q69.742 409.506 72.7976 414.113 Q75.8763 418.696 75.8763 427.446 Q75.8763 436.173 72.7976 440.779 Q69.742 445.362 63.9319 445.362 Q58.1217 445.362 55.043 440.779 Q51.9875 436.173 51.9875 427.446 Q51.9875 418.696 55.043 414.113 Q58.1217 409.506 63.9319 409.506 Z\" fill=\"#000000\" fill-rule=\"evenodd\" fill-opacity=\"1\" /><path clip-path=\"url(#clip650)\" d=\"M84.0938 438.812 L88.978 438.812 L88.978 444.691 L84.0938 444.691 L84.0938 438.812 Z\" fill=\"#000000\" fill-rule=\"evenodd\" fill-opacity=\"1\" /><path clip-path=\"url(#clip650)\" d=\"M97.9826 410.131 L120.205 410.131 L120.205 412.122 L107.658 444.691 L102.774 444.691 L114.58 414.066 L97.9826 414.066 L97.9826 410.131 Z\" fill=\"#000000\" fill-rule=\"evenodd\" fill-opacity=\"1\" /><path clip-path=\"url(#clip650)\" d=\"M129.371 410.131 L147.728 410.131 L147.728 414.066 L133.654 414.066 L133.654 422.538 Q134.672 422.191 135.691 422.029 Q136.709 421.844 137.728 421.844 Q143.515 421.844 146.894 425.015 Q150.274 428.187 150.274 433.603 Q150.274 439.182 146.802 442.284 Q143.33 445.362 137.01 445.362 Q134.834 445.362 132.566 444.992 Q130.32 444.622 127.913 443.881 L127.913 439.182 Q129.996 440.316 132.219 440.872 Q134.441 441.427 136.918 441.427 Q140.922 441.427 143.26 439.321 Q145.598 437.214 145.598 433.603 Q145.598 429.992 143.26 427.886 Q140.922 425.779 136.918 425.779 Q135.043 425.779 133.168 426.196 Q131.316 426.613 129.371 427.492 L129.371 410.131 Z\" fill=\"#000000\" fill-rule=\"evenodd\" fill-opacity=\"1\" /><path clip-path=\"url(#clip650)\" d=\"M53.7467 101.321 L61.3856 101.321 L61.3856 74.9555 L53.0754 76.6222 L53.0754 72.3629 L61.3393 70.6963 L66.0152 70.6963 L66.0152 101.321 L73.654 101.321 L73.654 105.256 L53.7467 105.256 L53.7467 101.321 Z\" fill=\"#000000\" fill-rule=\"evenodd\" fill-opacity=\"1\" /><path clip-path=\"url(#clip650)\" d=\"M83.0984 99.3767 L87.9827 99.3767 L87.9827 105.256 L83.0984 105.256 L83.0984 99.3767 Z\" fill=\"#000000\" fill-rule=\"evenodd\" fill-opacity=\"1\" /><path clip-path=\"url(#clip650)\" d=\"M108.168 73.775 Q104.557 73.775 102.728 77.3398 Q100.922 80.8814 100.922 88.011 Q100.922 95.1174 102.728 98.6822 Q104.557 102.224 108.168 102.224 Q111.802 102.224 113.608 98.6822 Q115.436 95.1174 115.436 88.011 Q115.436 80.8814 113.608 77.3398 Q111.802 73.775 108.168 73.775 M108.168 70.0713 Q113.978 70.0713 117.033 74.6777 Q120.112 79.261 120.112 88.011 Q120.112 96.7378 117.033 101.344 Q113.978 105.928 108.168 105.928 Q102.358 105.928 99.2789 101.344 Q96.2234 96.7378 96.2234 88.011 Q96.2234 79.261 99.2789 74.6777 Q102.358 70.0713 108.168 70.0713 Z\" fill=\"#000000\" fill-rule=\"evenodd\" fill-opacity=\"1\" /><path clip-path=\"url(#clip650)\" d=\"M138.33 73.775 Q134.719 73.775 132.89 77.3398 Q131.084 80.8814 131.084 88.011 Q131.084 95.1174 132.89 98.6822 Q134.719 102.224 138.33 102.224 Q141.964 102.224 143.769 98.6822 Q145.598 95.1174 145.598 88.011 Q145.598 80.8814 143.769 77.3398 Q141.964 73.775 138.33 73.775 M138.33 70.0713 Q144.14 70.0713 147.195 74.6777 Q150.274 79.261 150.274 88.011 Q150.274 96.7378 147.195 101.344 Q144.14 105.928 138.33 105.928 Q132.519 105.928 129.441 101.344 Q126.385 96.7378 126.385 88.011 Q126.385 79.261 129.441 74.6777 Q132.519 70.0713 138.33 70.0713 Z\" fill=\"#000000\" fill-rule=\"evenodd\" fill-opacity=\"1\" /><polyline clip-path=\"url(#clip652)\" style=\"stroke:#009af9; stroke-linecap:butt; stroke-linejoin:round; stroke-width:4; stroke-opacity:1; fill:none\" points=\"\n",
       "  247.59,1386.11 257.86,1349.86 268.131,1315.24 278.401,1282.11 288.672,1250.88 298.943,1218.97 309.213,1188.29 319.484,1159.91 329.754,1134.11 340.025,1105.47 \n",
       "  350.296,1078.99 360.566,1054.69 370.837,1032.01 381.107,1012.87 391.378,992.638 401.649,971.729 411.919,950.82 422.19,930.454 432.46,909.544 442.731,888.771 \n",
       "  453.002,871.256 463.272,854.692 473.543,836.091 483.813,819.798 494.084,800.789 504.355,783.139 514.625,760.465 524.896,741.049 535.167,722.312 545.437,705.476 \n",
       "  555.708,685.789 565.978,670.039 576.249,654.154 586.52,637.453 596.79,619.26 607.061,602.56 617.331,586.267 627.602,572.146 637.873,557.89 648.143,543.634 \n",
       "  658.414,530.328 668.684,512.27 678.955,498.964 689.226,484.572 699.496,470.044 709.767,456.059 720.037,439.223 730.308,423.609 740.579,411.933 750.849,399.306 \n",
       "  761.12,384.914 771.39,371.065 781.661,358.031 791.932,345.539 802.202,332.505 812.473,320.693 822.744,309.288 833.014,299.784 843.285,290.415 853.555,279.282 \n",
       "  863.826,269.099 874.097,261.088 884.367,251.448 894.638,242.351 904.908,235.427 915.179,227.823 925.45,219.677 935.72,210.309 945.991,203.248 956.261,196.188 \n",
       "  966.532,188.449 976.803,182.882 987.073,178.402 997.344,172.835 1007.61,166.046 1017.89,161.023 1028.16,156.678 1038.43,153.012 1048.7,148.26 1058.97,143.644 \n",
       "  1069.24,138.892 1079.51,134.683 1089.78,131.967 1100.05,128.573 1110.32,124.771 1120.59,122.191 1130.86,119.612 1141.13,117.982 1151.4,115.946 1161.67,113.23 \n",
       "  1171.94,111.601 1182.21,109.564 1192.49,107.799 1202.76,106.442 1213.03,105.355 1223.3,104.269 1233.57,103.726 1243.84,102.64 1254.11,101.825 1264.38,101.418 \n",
       "  1274.65,100.196 1284.92,99.5171 1295.19,99.2455 1305.46,98.974 1315.73,97.6162 1326,96.9374 1336.27,96.6658 1346.54,96.1227 1356.82,95.9869 1367.09,95.4438 \n",
       "  1377.36,94.9007 1387.63,94.765 1397.9,94.3577 1408.17,94.0861 1418.44,93.543 1428.71,92.9999 1438.98,92.5926 1449.25,92.0495 1459.52,91.9137 1469.79,91.9137 \n",
       "  1480.06,91.3706 1490.33,91.2349 1500.6,91.0991 1510.87,90.9633 1521.14,90.9633 1531.42,90.9633 1541.69,90.9633 1551.96,90.6918 1562.23,90.4202 1572.5,90.1487 \n",
       "  1582.77,89.8771 1593.04,89.8771 1603.31,89.8771 1613.58,89.8771 1623.85,89.8771 1634.12,89.7413 1644.39,89.1982 1654.66,89.0625 1664.93,88.9267 1675.2,88.6551 \n",
       "  1685.47,88.5194 1695.75,88.5194 1706.02,88.5194 1716.29,88.5194 1726.56,88.3836 1736.83,88.3836 1747.1,88.3836 1757.37,88.3836 1767.64,88.3836 1777.91,88.3836 \n",
       "  1788.18,88.3836 1798.45,88.3836 1808.72,88.3836 1818.99,88.3836 1829.26,88.3836 1839.53,88.3836 1849.8,88.3836 1860.07,88.3836 1870.35,88.3836 1880.62,88.3836 \n",
       "  1890.89,88.3836 1901.16,88.3836 1911.43,88.3836 1921.7,88.3836 1931.97,88.3836 1942.24,88.3836 1952.51,88.3836 1962.78,88.2478 1973.05,88.2478 1983.32,88.2478 \n",
       "  1993.59,88.2478 2003.86,88.2478 2014.13,88.2478 2024.4,88.1121 2034.68,88.1121 2044.95,88.1121 2055.22,88.1121 2065.49,88.1121 2075.76,88.1121 2086.03,88.1121 \n",
       "  2096.3,88.1121 2106.57,88.1121 2116.84,88.1121 2127.11,88.1121 2137.38,88.1121 2147.65,88.1121 2157.92,88.1121 2168.19,88.1121 2178.46,88.1121 2188.73,88.1121 \n",
       "  2199,88.1121 2209.28,88.1121 2219.55,88.1121 2229.82,88.1121 2240.09,88.1121 2250.36,88.1121 2260.63,88.1121 2270.9,88.1121 2281.17,88.1121 2291.44,88.1121 \n",
       "  \n",
       "  \"/>\n",
       "<polyline clip-path=\"url(#clip652)\" style=\"stroke:#e26f46; stroke-linecap:butt; stroke-linejoin:round; stroke-width:4; stroke-opacity:1; fill:none\" points=\"\n",
       "  247.59,1393.58 257.86,1390.86 268.131,1387.74 278.401,1382.45 288.672,1378.51 298.943,1374.84 309.213,1370.36 319.484,1365.2 329.754,1358.55 340.025,1352.17 \n",
       "  350.296,1346.33 360.566,1341.44 370.837,1335.6 381.107,1329.09 391.378,1323.65 401.649,1317.95 411.919,1311.03 422.19,1303.7 432.46,1295.82 442.731,1287.4 \n",
       "  453.002,1277.63 463.272,1269.62 473.543,1260.52 483.813,1252.92 494.084,1242.87 504.355,1234.99 514.625,1223.32 524.896,1210.69 535.167,1200.37 545.437,1190.19 \n",
       "  555.708,1178.78 565.978,1165.48 576.249,1154.21 586.52,1141.04 596.79,1128.82 607.061,1116.46 617.331,1099.9 627.602,1085.24 637.873,1068.94 648.143,1056.18 \n",
       "  658.414,1039.34 668.684,1025.63 678.955,1009.61 689.226,991.959 699.496,975.802 709.767,956.658 720.037,936.835 730.308,918.098 740.579,899.769 750.849,880.76 \n",
       "  761.12,863.924 771.39,844.509 781.661,822.513 791.932,804.184 802.202,783.003 812.473,761.822 822.744,736.84 833.014,718.646 843.285,698.416 853.555,679.815 \n",
       "  863.826,658.634 874.097,637.182 884.367,615.594 894.638,597.672 904.908,577.984 915.179,560.605 925.45,539.425 935.72,521.231 945.991,501.272 956.261,483.214 \n",
       "  966.532,465.428 976.803,450.628 987.073,432.299 997.344,415.599 1007.61,398.22 1017.89,381.112 1028.16,365.362 1038.43,351.378 1048.7,337.121 1058.97,321.779 \n",
       "  1069.24,306.572 1079.51,293.674 1089.78,279.825 1100.05,269.37 1110.32,261.088 1120.59,250.09 1130.86,242.351 1141.13,232.711 1151.4,224.836 1161.67,216.69 \n",
       "  1171.94,209.358 1182.21,201.483 1192.49,193.201 1202.76,184.783 1213.03,178.402 1223.3,172.02 1233.57,166.182 1243.84,159.529 1254.11,154.37 1264.38,150.568 \n",
       "  1274.65,146.495 1284.92,142.422 1295.19,138.484 1305.46,134.411 1315.73,131.288 1326,128.165 1336.27,124.907 1346.54,121.377 1356.82,118.525 1367.09,115.674 \n",
       "  1377.36,113.638 1387.63,111.465 1397.9,109.021 1408.17,107.663 1418.44,106.034 1428.71,104.676 1438.98,103.998 1449.25,103.047 1459.52,102.368 1469.79,101.689 \n",
       "  1480.06,100.196 1490.33,99.6528 1500.6,98.1593 1510.87,97.3447 1521.14,95.9869 1531.42,95.4438 1541.69,94.6292 1551.96,94.0861 1562.23,93.8146 1572.5,93.543 \n",
       "  1582.77,92.4568 1593.04,92.321 1603.31,91.6422 1613.58,91.3706 1623.85,90.9633 1634.12,90.4202 1644.39,90.1487 1654.66,90.0129 1664.93,89.8771 1675.2,89.7413 \n",
       "  1685.47,89.6056 1695.75,89.6056 1706.02,89.6056 1716.29,89.1982 1726.56,89.0625 1736.83,88.9267 1747.1,88.9267 1757.37,88.7909 1767.64,88.7909 1777.91,88.6551 \n",
       "  1788.18,88.6551 1798.45,88.5194 1808.72,88.5194 1818.99,88.5194 1829.26,88.2478 1839.53,88.2478 1849.8,88.2478 1860.07,88.2478 1870.35,88.1121 1880.62,88.1121 \n",
       "  1890.89,88.1121 1901.16,88.1121 1911.43,88.1121 1921.7,88.1121 1931.97,87.9763 1942.24,87.9763 1952.51,87.9763 1962.78,87.9763 1973.05,87.9763 1983.32,87.9763 \n",
       "  1993.59,87.9763 2003.86,87.9763 2014.13,87.9763 2024.4,87.9763 2034.68,87.9763 2044.95,87.9763 2055.22,87.9763 2065.49,87.9763 2075.76,87.9763 2086.03,87.9763 \n",
       "  2096.3,87.9763 2106.57,87.9763 2116.84,87.9763 2127.11,87.9763 2137.38,87.9763 2147.65,87.9763 2157.92,87.9763 2168.19,87.9763 2178.46,87.9763 2188.73,87.9763 \n",
       "  2199,87.9763 2209.28,87.9763 2219.55,87.9763 2229.82,87.9763 2240.09,87.9763 2250.36,87.9763 2260.63,87.9763 2270.9,87.9763 2281.17,87.9763 2291.44,87.9763 \n",
       "  \n",
       "  \"/>\n",
       "<polyline clip-path=\"url(#clip652)\" style=\"stroke:#3da44d; stroke-linecap:butt; stroke-linejoin:round; stroke-width:4; stroke-opacity:1; fill:none\" points=\"\n",
       "  247.59,1407.02 257.86,1385.98 268.131,1365.88 278.401,1347.01 288.672,1324.33 298.943,1300.98 309.213,1274.78 319.484,1252.65 329.754,1228.75 340.025,1201.59 \n",
       "  350.296,1177.02 360.566,1150.68 370.837,1124.88 381.107,1098 391.378,1074.37 401.649,1049.66 411.919,1027.4 422.19,1004.18 432.46,981.776 442.731,959.645 \n",
       "  453.002,940.365 463.272,919.456 473.543,899.497 483.813,878.588 494.084,858.358 504.355,836.362 514.625,814.638 524.896,793.865 535.167,776.079 545.437,754.491 \n",
       "  555.708,733.989 565.978,712.536 576.249,692.985 586.52,673.162 596.79,655.104 607.061,639.626 617.331,622.518 627.602,605.139 637.873,587.624 648.143,571.06 \n",
       "  658.414,554.088 668.684,538.882 678.955,522.453 689.226,505.074 699.496,489.731 709.767,475.204 720.037,459.046 730.308,446.555 740.579,431.756 750.849,418.314 \n",
       "  761.12,404.058 771.39,390.345 781.661,377.446 791.932,364.955 802.202,351.785 812.473,341.33 822.744,328.839 833.014,317.434 843.285,305.893 853.555,295.982 \n",
       "  863.826,285.392 874.097,276.159 884.367,268.148 894.638,260.681 904.908,254.707 915.179,244.252 925.45,237.056 935.72,230.946 945.991,223.479 956.261,215.061 \n",
       "  966.532,208.951 976.803,201.619 987.073,196.052 997.344,190.486 1007.61,183.968 1017.89,178.673 1028.16,174.872 1038.43,169.305 1048.7,164.417 1058.97,158.85 \n",
       "  1069.24,153.962 1079.51,148.803 1089.78,145.544 1100.05,142.422 1110.32,139.299 1120.59,136.855 1130.86,133.325 1141.13,128.844 1151.4,125.857 1161.67,123.278 \n",
       "  1171.94,121.377 1182.21,119.612 1192.49,118.254 1202.76,115.538 1213.03,112.823 1223.3,110.786 1233.57,108.071 1243.84,106.849 1254.11,105.355 1264.38,104.269 \n",
       "  1274.65,103.047 1284.92,101.418 1295.19,100.332 1305.46,99.7886 1315.73,99.1097 1326,98.7024 1336.27,98.1593 1346.54,96.9374 1356.82,96.2585 1367.09,95.7154 \n",
       "  1377.36,95.1723 1387.63,94.9007 1397.9,94.2219 1408.17,93.6788 1418.44,92.9999 1428.71,92.4568 1438.98,91.9137 1449.25,91.9137 1459.52,91.7779 1469.79,91.6422 \n",
       "  1480.06,91.3706 1490.33,91.0991 1500.6,90.9633 1510.87,90.6918 1521.14,90.556 1531.42,90.4202 1541.69,90.1487 1551.96,90.0129 1562.23,89.8771 1572.5,89.8771 \n",
       "  1582.77,89.7413 1593.04,89.4698 1603.31,89.4698 1613.58,89.334 1623.85,89.1982 1634.12,89.1982 1644.39,88.9267 1654.66,88.7909 1664.93,88.7909 1675.2,88.5194 \n",
       "  1685.47,88.5194 1695.75,88.3836 1706.02,88.2478 1716.29,88.2478 1726.56,88.2478 1736.83,88.1121 1747.1,88.1121 1757.37,88.1121 1767.64,88.1121 1777.91,88.1121 \n",
       "  1788.18,88.1121 1798.45,88.1121 1808.72,87.9763 1818.99,87.9763 1829.26,87.9763 1839.53,87.9763 1849.8,87.9763 1860.07,87.9763 1870.35,87.9763 1880.62,87.9763 \n",
       "  1890.89,87.9763 1901.16,87.9763 1911.43,87.9763 1921.7,87.9763 1931.97,87.9763 1942.24,87.9763 1952.51,87.9763 1962.78,87.9763 1973.05,87.9763 1983.32,87.9763 \n",
       "  1993.59,87.9763 2003.86,87.9763 2014.13,87.9763 2024.4,87.9763 2034.68,87.9763 2044.95,87.9763 2055.22,87.9763 2065.49,87.9763 2075.76,87.9763 2086.03,87.9763 \n",
       "  2096.3,87.9763 2106.57,87.9763 2116.84,87.9763 2127.11,87.9763 2137.38,87.9763 2147.65,87.9763 2157.92,87.9763 2168.19,87.9763 2178.46,87.9763 2188.73,87.9763 \n",
       "  2199,87.9763 2209.28,87.9763 2219.55,87.9763 2229.82,87.9763 2240.09,87.9763 2250.36,87.9763 2260.63,87.9763 2270.9,87.9763 2281.17,87.9763 2291.44,87.9763 \n",
       "  \n",
       "  \"/>\n",
       "<polyline clip-path=\"url(#clip652)\" style=\"stroke:#c271d2; stroke-linecap:butt; stroke-linejoin:round; stroke-width:4; stroke-opacity:1; fill:none\" points=\"\n",
       "  247.59,1420.19 257.86,1416.39 268.131,1412.32 278.401,1408.92 288.672,1405.53 298.943,1400.91 309.213,1395.07 319.484,1388.69 329.754,1382.45 340.025,1377.42 \n",
       "  350.296,1369.55 360.566,1362.76 370.837,1356.1 381.107,1347.96 391.378,1341.17 401.649,1335.47 411.919,1326.1 422.19,1316.73 432.46,1306.55 442.731,1298.54 \n",
       "  453.002,1288.63 463.272,1278.44 473.543,1265.14 483.813,1252.37 494.084,1241.92 504.355,1229.43 514.625,1218.57 524.896,1207.7 535.167,1193.58 545.437,1182.04 \n",
       "  555.708,1170.23 565.978,1156.79 576.249,1142.13 586.52,1129.63 596.79,1116.74 607.061,1098.27 617.331,1082.38 627.602,1067.72 637.873,1052.51 648.143,1034.86 \n",
       "  658.414,1016.81 668.684,999.019 678.955,977.974 689.226,959.102 699.496,941.587 709.767,921.764 720.037,902.62 730.308,881.303 740.579,863.381 750.849,845.052 \n",
       "  761.12,824.278 771.39,805.27 781.661,787.076 791.932,767.389 802.202,745.665 812.473,721.905 822.744,701.131 833.014,679.408 843.285,663.794 853.555,645.193 \n",
       "  863.826,629.035 874.097,609.348 884.367,590.204 894.638,569.702 904.908,549.472 915.179,531.55 925.45,512.677 935.72,494.348 945.991,476.426 956.261,459.454 \n",
       "  966.532,444.79 976.803,427.683 987.073,412.069 997.344,396.998 1007.61,382.47 1017.89,364.955 1028.16,349.477 1038.43,339.701 1048.7,325.852 1058.97,313.904 \n",
       "  1069.24,300.055 1079.51,287.292 1089.78,272.9 1100.05,261.631 1110.32,250.09 1120.59,241.129 1130.86,231.218 1141.13,222.528 1151.4,213.567 1161.67,204.199 \n",
       "  1171.94,195.509 1182.21,189.807 1192.49,182.882 1202.76,176.501 1213.03,171.206 1223.3,166.046 1233.57,161.294 1243.84,156.406 1254.11,150.84 1264.38,147.309 \n",
       "  1274.65,142.829 1284.92,138.62 1295.19,134.004 1305.46,130.474 1315.73,127.215 1326,123.956 1336.27,121.648 1346.54,118.797 1356.82,116.896 1367.09,115.267 \n",
       "  1377.36,113.23 1387.63,110.786 1397.9,109.293 1408.17,107.256 1418.44,105.627 1428.71,103.59 1438.98,102.233 1449.25,101.146 1459.52,99.9244 1469.79,99.3813 \n",
       "  1480.06,97.6162 1490.33,96.53 1500.6,95.5796 1510.87,94.9007 1521.14,94.6292 1531.42,93.8146 1541.69,92.7284 1551.96,92.0495 1562.23,91.6422 1572.5,91.3706 \n",
       "  1582.77,90.8275 1593.04,90.2844 1603.31,90.2844 1613.58,89.7413 1623.85,89.7413 1634.12,89.334 1644.39,89.1982 1654.66,89.0625 1664.93,88.9267 1675.2,88.9267 \n",
       "  1685.47,88.7909 1695.75,88.7909 1706.02,88.6551 1716.29,88.5194 1726.56,88.5194 1736.83,88.5194 1747.1,88.3836 1757.37,88.2478 1767.64,88.2478 1777.91,88.2478 \n",
       "  1788.18,88.2478 1798.45,88.2478 1808.72,88.2478 1818.99,88.2478 1829.26,88.1121 1839.53,88.1121 1849.8,88.1121 1860.07,88.1121 1870.35,88.1121 1880.62,88.1121 \n",
       "  1890.89,88.1121 1901.16,88.1121 1911.43,87.9763 1921.7,87.9763 1931.97,87.9763 1942.24,87.9763 1952.51,87.9763 1962.78,87.9763 1973.05,87.9763 1983.32,87.9763 \n",
       "  1993.59,87.9763 2003.86,87.9763 2014.13,87.9763 2024.4,87.9763 2034.68,87.9763 2044.95,87.9763 2055.22,87.9763 2065.49,87.9763 2075.76,87.9763 2086.03,87.9763 \n",
       "  2096.3,87.9763 2106.57,87.9763 2116.84,87.9763 2127.11,87.9763 2137.38,87.9763 2147.65,87.9763 2157.92,87.9763 2168.19,87.9763 2178.46,87.9763 2188.73,87.9763 \n",
       "  2199,87.9763 2209.28,87.9763 2219.55,87.9763 2229.82,87.9763 2240.09,87.9763 2250.36,87.9763 2260.63,87.9763 2270.9,87.9763 2281.17,87.9763 2291.44,87.9763 \n",
       "  \n",
       "  \"/>\n",
       "<polyline clip-path=\"url(#clip652)\" style=\"stroke:#ac8d18; stroke-linecap:butt; stroke-linejoin:round; stroke-width:4; stroke-opacity:1; fill:none\" points=\"\n",
       "  247.59,1441.78 257.86,1441.24 268.131,1441.1 278.401,1440.83 288.672,1440.83 298.943,1440.56 309.213,1440.56 319.484,1440.01 329.754,1439.33 340.025,1439.06 \n",
       "  350.296,1438.66 360.566,1438.52 370.837,1437.98 381.107,1437.71 391.378,1437.3 401.649,1437.16 411.919,1436.89 422.19,1436.48 432.46,1435.94 442.731,1435.4 \n",
       "  453.002,1434.72 463.272,1434.45 473.543,1434.04 483.813,1433.36 494.084,1433.22 504.355,1432.82 514.625,1432.27 524.896,1431.87 535.167,1431.46 545.437,1431.05 \n",
       "  555.708,1430.78 565.978,1430.51 576.249,1430.51 586.52,1430.1 596.79,1429.83 607.061,1429.42 617.331,1428.74 627.602,1428.61 637.873,1427.93 648.143,1427.11 \n",
       "  658.414,1426.84 668.684,1426.57 678.955,1426.16 689.226,1425.62 699.496,1424.94 709.767,1424.4 720.037,1423.72 730.308,1422.5 740.579,1422.09 750.849,1421.68 \n",
       "  761.12,1421.14 771.39,1420.73 781.661,1420.19 791.932,1419.78 802.202,1418.97 812.473,1418.43 822.744,1418.02 833.014,1417.2 843.285,1417.07 853.555,1416.39 \n",
       "  863.826,1415.57 874.097,1414.9 884.367,1414.22 894.638,1413.54 904.908,1413.27 915.179,1412.72 925.45,1411.77 935.72,1411.23 945.991,985.714 956.261,421.03 \n",
       "  966.532,207.593 976.803,133.868 987.073,102.64 997.344,94.3577 1007.61,89.7413 1017.89,88.3836 1028.16,88.2478 1038.43,87.9763 1048.7,87.9763 1058.97,87.9763 \n",
       "  1069.24,87.9763 1079.51,87.9763 1089.78,87.9763 1100.05,87.9763 1110.32,87.9763 1120.59,87.9763 1130.86,87.9763 1141.13,87.9763 1151.4,87.9763 1161.67,87.9763 \n",
       "  1171.94,87.9763 1182.21,87.9763 1192.49,87.9763 1202.76,87.9763 1213.03,87.9763 1223.3,87.9763 1233.57,87.9763 1243.84,87.9763 1254.11,87.9763 1264.38,87.9763 \n",
       "  1274.65,87.9763 1284.92,87.9763 1295.19,87.9763 1305.46,87.9763 1315.73,87.9763 1326,87.9763 1336.27,87.9763 1346.54,87.9763 1356.82,87.9763 1367.09,87.9763 \n",
       "  1377.36,87.9763 1387.63,87.9763 1397.9,87.9763 1408.17,87.9763 1418.44,87.9763 1428.71,87.9763 1438.98,87.9763 1449.25,87.9763 1459.52,87.9763 1469.79,87.9763 \n",
       "  1480.06,87.9763 1490.33,87.9763 1500.6,87.9763 1510.87,87.9763 1521.14,87.9763 1531.42,87.9763 1541.69,87.9763 1551.96,87.9763 1562.23,87.9763 1572.5,87.9763 \n",
       "  1582.77,87.9763 1593.04,87.9763 1603.31,87.9763 1613.58,87.9763 1623.85,87.9763 1634.12,87.9763 1644.39,87.9763 1654.66,87.9763 1664.93,87.9763 1675.2,87.9763 \n",
       "  1685.47,87.9763 1695.75,87.9763 1706.02,87.9763 1716.29,87.9763 1726.56,87.9763 1736.83,87.9763 1747.1,87.9763 1757.37,87.9763 1767.64,87.9763 1777.91,87.9763 \n",
       "  1788.18,87.9763 1798.45,87.9763 1808.72,87.9763 1818.99,87.9763 1829.26,87.9763 1839.53,87.9763 1849.8,87.9763 1860.07,87.9763 1870.35,87.9763 1880.62,87.9763 \n",
       "  1890.89,87.9763 1901.16,87.9763 1911.43,87.9763 1921.7,87.9763 1931.97,87.9763 1942.24,87.9763 1952.51,87.9763 1962.78,87.9763 1973.05,87.9763 1983.32,87.9763 \n",
       "  1993.59,87.9763 2003.86,87.9763 2014.13,87.9763 2024.4,87.9763 2034.68,87.9763 2044.95,87.9763 2055.22,87.9763 2065.49,87.9763 2075.76,87.9763 2086.03,87.9763 \n",
       "  2096.3,87.9763 2106.57,87.9763 2116.84,87.9763 2127.11,87.9763 2137.38,87.9763 2147.65,87.9763 2157.92,87.9763 2168.19,87.9763 2178.46,87.9763 2188.73,87.9763 \n",
       "  2199,87.9763 2209.28,87.9763 2219.55,87.9763 2229.82,87.9763 2240.09,87.9763 2250.36,87.9763 2260.63,87.9763 2270.9,87.9763 2281.17,87.9763 2291.44,87.9763 \n",
       "  \n",
       "  \"/>\n",
       "<polyline clip-path=\"url(#clip652)\" style=\"stroke:#ed5d92; stroke-linecap:butt; stroke-linejoin:round; stroke-width:4; stroke-opacity:1; fill:none\" points=\"\n",
       "  247.59,1445.72 257.86,1445.72 268.131,1445.72 278.401,1445.72 288.672,1445.72 298.943,1445.72 309.213,1445.72 319.484,1445.72 329.754,1445.72 340.025,1445.72 \n",
       "  350.296,1445.72 360.566,1445.72 370.837,1445.72 381.107,1445.72 391.378,1445.72 401.649,1445.72 411.919,1445.72 422.19,1445.72 432.46,1445.72 442.731,1445.72 \n",
       "  453.002,1445.72 463.272,1445.72 473.543,1445.72 483.813,1445.72 494.084,1445.72 504.355,1445.72 514.625,1445.72 524.896,1445.72 535.167,1445.72 545.437,1445.72 \n",
       "  555.708,1445.72 565.978,1445.72 576.249,1445.72 586.52,1445.72 596.79,1445.72 607.061,1445.72 617.331,1445.72 627.602,1445.72 637.873,1445.72 648.143,1445.72 \n",
       "  658.414,1445.72 668.684,1445.72 678.955,1445.72 689.226,1445.72 699.496,1445.72 709.767,1445.72 720.037,1445.72 730.308,1445.72 740.579,1445.72 750.849,1445.72 \n",
       "  761.12,1445.72 771.39,1445.72 781.661,1445.72 791.932,1445.72 802.202,1445.72 812.473,1445.72 822.744,1445.72 833.014,1445.72 843.285,1445.72 853.555,1445.72 \n",
       "  863.826,1445.72 874.097,1445.72 884.367,1445.72 894.638,1445.72 904.908,1445.72 915.179,1445.72 925.45,1445.72 935.72,1445.72 945.991,1445.72 956.261,1445.72 \n",
       "  966.532,1445.72 976.803,1445.72 987.073,1445.72 997.344,1445.72 1007.61,1445.72 1017.89,1445.72 1028.16,1445.72 1038.43,1445.72 1048.7,1445.72 1058.97,1445.72 \n",
       "  1069.24,1445.72 1079.51,1445.72 1089.78,1445.72 1100.05,1445.72 1110.32,1445.72 1120.59,1445.72 1130.86,1445.72 1141.13,1445.72 1151.4,1445.72 1161.67,1445.72 \n",
       "  1171.94,1445.72 1182.21,1445.72 1192.49,1445.72 1202.76,1445.72 1213.03,1445.72 1223.3,1445.72 1233.57,1445.72 1243.84,1445.72 1254.11,1445.72 1264.38,1445.72 \n",
       "  1274.65,1445.72 1284.92,1445.72 1295.19,1445.72 1305.46,1445.72 1315.73,1445.72 1326,1445.72 1336.27,1445.72 1346.54,1445.72 1356.82,1445.72 1367.09,1445.72 \n",
       "  1377.36,1445.72 1387.63,1445.72 1397.9,1445.72 1408.17,1445.72 1418.44,1445.72 1428.71,1445.72 1438.98,1445.72 1449.25,1445.72 1459.52,1445.72 1469.79,1445.72 \n",
       "  1480.06,1445.72 1490.33,1445.72 1500.6,1445.72 1510.87,1445.72 1521.14,1445.72 1531.42,1445.72 1541.69,1445.72 1551.96,1445.72 1562.23,1445.72 1572.5,1445.72 \n",
       "  1582.77,1445.72 1593.04,1445.72 1603.31,1445.72 1613.58,1445.72 1623.85,1445.72 1634.12,1445.72 1644.39,1445.72 1654.66,1445.72 1664.93,1445.72 1675.2,1445.72 \n",
       "  1685.47,1445.72 1695.75,1445.72 1706.02,1445.72 1716.29,1445.72 1726.56,1445.72 1736.83,1445.72 1747.1,1445.72 1757.37,1445.72 1767.64,1445.72 1777.91,1445.72 \n",
       "  1788.18,1445.72 1798.45,1445.72 1808.72,1445.72 1818.99,1445.72 1829.26,1445.72 1839.53,1445.72 1849.8,1445.72 1860.07,1445.72 1870.35,1445.72 1880.62,1445.72 \n",
       "  1890.89,1445.72 1901.16,1445.72 1911.43,1445.72 1921.7,1445.72 1931.97,1445.72 1942.24,1445.72 1952.51,1445.72 1962.78,1445.72 1973.05,1445.72 1983.32,1445.72 \n",
       "  1993.59,1445.72 2003.86,1445.72 2014.13,1445.72 2024.4,1445.72 2034.68,1445.72 2044.95,1445.72 2055.22,1445.72 2065.49,1445.72 2075.76,1445.72 2086.03,1445.72 \n",
       "  2096.3,1445.72 2106.57,1445.72 2116.84,1445.72 2127.11,1445.72 2137.38,1445.72 2147.65,1445.72 2157.92,1445.72 2168.19,1445.72 2178.46,1445.72 2188.73,1445.72 \n",
       "  2199,1445.72 2209.28,1445.72 2219.55,1445.72 2229.82,1445.72 2240.09,1445.72 2250.36,1445.72 2260.63,1445.72 2270.9,1445.72 2281.17,1445.72 2291.44,1445.72 \n",
       "  \n",
       "  \"/>\n",
       "<polyline clip-path=\"url(#clip652)\" style=\"stroke:#c68125; stroke-linecap:butt; stroke-linejoin:round; stroke-width:4; stroke-opacity:1; fill:none\" points=\"\n",
       "  247.59,1443.83 273.461,1443.06 299.333,1442.03 325.204,1440.7 351.076,1439.01 376.947,1436.91 402.819,1434.34 428.69,1431.23 454.562,1427.53 480.433,1423.16 \n",
       "  506.305,1418.04 532.176,1412.07 558.048,1405.16 583.919,1397.17 609.791,1387.96 635.662,1377.35 661.534,1365.13 687.406,1351.08 713.277,1334.93 739.149,1316.37 \n",
       "  765.02,1295.08 790.892,1270.7 816.763,1242.85 842.635,1211.14 868.506,1175.19 894.378,1134.63 920.249,1089.15 946.121,1038.5 971.992,982.583 997.864,921.417 \n",
       "  1023.74,855.244 1049.61,784.579 1075.48,710.28 1101.35,633.622 1127.22,556.317 1153.09,480.439 1178.96,408.245 1204.84,341.89 1230.71,283.117 1256.58,233.012 \n",
       "  1282.45,191.904 1308.32,159.415 1334.19,134.636 1360.07,116.354 1385.94,103.271 1411.81,94.1625 1437.68,87.9763 1463.55,87.9763 1489.42,87.9763 1515.29,87.9763 \n",
       "  1541.17,87.9763 1567.04,87.9763 1592.91,87.9763 1618.78,87.9763 1644.65,87.9763 1670.52,87.9763 1696.4,87.9763 1722.27,87.9763 1748.14,87.9763 1774.01,87.9763 \n",
       "  1799.88,87.9763 1825.75,87.9763 1851.62,87.9763 1877.5,87.9763 1903.37,87.9763 1929.24,87.9763 1955.11,87.9763 1980.98,87.9763 2006.85,87.9763 2032.73,87.9763 \n",
       "  2058.6,87.9763 2084.47,87.9763 2110.34,87.9763 2136.21,87.9763 2162.08,87.9763 2187.95,87.9763 2213.83,87.9763 2239.7,87.9763 2265.57,87.9763 2291.44,87.9763 \n",
       "  \n",
       "  \"/>\n",
       "<path clip-path=\"url(#clip650)\" d=\"\n",
       "M1894.47 561.778 L2280.54 561.778 L2280.54 95.2176 L1894.47 95.2176  Z\n",
       "  \" fill=\"#ffffff\" fill-rule=\"evenodd\" fill-opacity=\"1\"/>\n",
       "<polyline clip-path=\"url(#clip650)\" style=\"stroke:#000000; stroke-linecap:butt; stroke-linejoin:round; stroke-width:4; stroke-opacity:1; fill:none\" points=\"\n",
       "  1894.47,561.778 2280.54,561.778 2280.54,95.2176 1894.47,95.2176 1894.47,561.778 \n",
       "  \"/>\n",
       "<polyline clip-path=\"url(#clip650)\" style=\"stroke:#009af9; stroke-linecap:butt; stroke-linejoin:round; stroke-width:4; stroke-opacity:1; fill:none\" points=\"\n",
       "  1918.55,147.058 2062.98,147.058 \n",
       "  \"/>\n",
       "<path clip-path=\"url(#clip650)\" d=\"M2107.56 139.407 L2107.56 143.389 Q2105.75 142.393 2103.92 141.907 Q2102.12 141.398 2100.27 141.398 Q2096.12 141.398 2093.83 144.037 Q2091.54 146.652 2091.54 151.398 Q2091.54 156.143 2093.83 158.782 Q2096.12 161.398 2100.27 161.398 Q2102.12 161.398 2103.92 160.912 Q2105.75 160.402 2107.56 159.407 L2107.56 163.342 Q2105.78 164.176 2103.85 164.592 Q2101.96 165.009 2099.8 165.009 Q2093.95 165.009 2090.5 161.328 Q2087.05 157.648 2087.05 151.398 Q2087.05 145.055 2090.52 141.421 Q2094.02 137.787 2100.08 137.787 Q2102.05 137.787 2103.92 138.203 Q2105.8 138.597 2107.56 139.407 Z\" fill=\"#000000\" fill-rule=\"evenodd\" fill-opacity=\"1\" /><path clip-path=\"url(#clip650)\" d=\"M2126.75 151.305 Q2121.59 151.305 2119.6 152.486 Q2117.6 153.666 2117.6 156.514 Q2117.6 158.782 2119.09 160.125 Q2120.59 161.444 2123.16 161.444 Q2126.7 161.444 2128.83 158.944 Q2130.98 156.421 2130.98 152.254 L2130.98 151.305 L2126.75 151.305 M2135.24 149.546 L2135.24 164.338 L2130.98 164.338 L2130.98 160.402 Q2129.53 162.763 2127.35 163.898 Q2125.17 165.009 2122.03 165.009 Q2118.04 165.009 2115.68 162.787 Q2113.35 160.541 2113.35 156.791 Q2113.35 152.416 2116.26 150.194 Q2119.2 147.972 2125.01 147.972 L2130.98 147.972 L2130.98 147.555 Q2130.98 144.615 2129.04 143.018 Q2127.12 141.398 2123.62 141.398 Q2121.4 141.398 2119.29 141.93 Q2117.19 142.463 2115.24 143.527 L2115.24 139.592 Q2117.58 138.69 2119.78 138.25 Q2121.98 137.787 2124.06 137.787 Q2129.69 137.787 2132.47 140.703 Q2135.24 143.62 2135.24 149.546 Z\" fill=\"#000000\" fill-rule=\"evenodd\" fill-opacity=\"1\" /><path clip-path=\"url(#clip650)\" d=\"M2143.58 154.106 L2143.58 138.412 L2147.84 138.412 L2147.84 153.944 Q2147.84 157.625 2149.27 159.476 Q2150.71 161.305 2153.58 161.305 Q2157.03 161.305 2159.02 159.106 Q2161.03 156.907 2161.03 153.111 L2161.03 138.412 L2165.29 138.412 L2165.29 164.338 L2161.03 164.338 L2161.03 160.356 Q2159.48 162.717 2157.42 163.875 Q2155.38 165.009 2152.67 165.009 Q2148.21 165.009 2145.89 162.231 Q2143.58 159.453 2143.58 154.106 M2154.29 137.787 L2154.29 137.787 Z\" fill=\"#000000\" fill-rule=\"evenodd\" fill-opacity=\"1\" /><polyline clip-path=\"url(#clip650)\" style=\"stroke:#e26f46; stroke-linecap:butt; stroke-linejoin:round; stroke-width:4; stroke-opacity:1; fill:none\" points=\"\n",
       "  1918.55,198.898 2062.98,198.898 \n",
       "  \"/>\n",
       "<path clip-path=\"url(#clip650)\" d=\"M2107.56 191.247 L2107.56 195.229 Q2105.75 194.233 2103.92 193.747 Q2102.12 193.238 2100.27 193.238 Q2096.12 193.238 2093.83 195.877 Q2091.54 198.492 2091.54 203.238 Q2091.54 207.983 2093.83 210.622 Q2096.12 213.238 2100.27 213.238 Q2102.12 213.238 2103.92 212.752 Q2105.75 212.242 2107.56 211.247 L2107.56 215.182 Q2105.78 216.016 2103.85 216.432 Q2101.96 216.849 2099.8 216.849 Q2093.95 216.849 2090.5 213.168 Q2087.05 209.488 2087.05 203.238 Q2087.05 196.895 2090.52 193.261 Q2094.02 189.627 2100.08 189.627 Q2102.05 189.627 2103.92 190.043 Q2105.8 190.437 2107.56 191.247 Z\" fill=\"#000000\" fill-rule=\"evenodd\" fill-opacity=\"1\" /><path clip-path=\"url(#clip650)\" d=\"M2126.75 203.145 Q2121.59 203.145 2119.6 204.326 Q2117.6 205.506 2117.6 208.354 Q2117.6 210.622 2119.09 211.965 Q2120.59 213.284 2123.16 213.284 Q2126.7 213.284 2128.83 210.784 Q2130.98 208.261 2130.98 204.094 L2130.98 203.145 L2126.75 203.145 M2135.24 201.386 L2135.24 216.178 L2130.98 216.178 L2130.98 212.242 Q2129.53 214.603 2127.35 215.738 Q2125.17 216.849 2122.03 216.849 Q2118.04 216.849 2115.68 214.627 Q2113.35 212.381 2113.35 208.631 Q2113.35 204.256 2116.26 202.034 Q2119.2 199.812 2125.01 199.812 L2130.98 199.812 L2130.98 199.395 Q2130.98 196.455 2129.04 194.858 Q2127.12 193.238 2123.62 193.238 Q2121.4 193.238 2119.29 193.77 Q2117.19 194.303 2115.24 195.367 L2115.24 191.432 Q2117.58 190.53 2119.78 190.09 Q2121.98 189.627 2124.06 189.627 Q2129.69 189.627 2132.47 192.543 Q2135.24 195.46 2135.24 201.386 Z\" fill=\"#000000\" fill-rule=\"evenodd\" fill-opacity=\"1\" /><path clip-path=\"url(#clip650)\" d=\"M2143.58 205.946 L2143.58 190.252 L2147.84 190.252 L2147.84 205.784 Q2147.84 209.465 2149.27 211.316 Q2150.71 213.145 2153.58 213.145 Q2157.03 213.145 2159.02 210.946 Q2161.03 208.747 2161.03 204.951 L2161.03 190.252 L2165.29 190.252 L2165.29 216.178 L2161.03 216.178 L2161.03 212.196 Q2159.48 214.557 2157.42 215.715 Q2155.38 216.849 2152.67 216.849 Q2148.21 216.849 2145.89 214.071 Q2143.58 211.293 2143.58 205.946 M2154.29 189.627 L2154.29 189.627 Z\" fill=\"#000000\" fill-rule=\"evenodd\" fill-opacity=\"1\" /><path clip-path=\"url(#clip650)\" d=\"M2178.69 212.242 L2195.01 212.242 L2195.01 216.178 L2173.07 216.178 L2173.07 212.242 Q2175.73 209.488 2180.31 204.858 Q2184.92 200.205 2186.1 198.863 Q2188.35 196.34 2189.22 194.604 Q2190.13 192.844 2190.13 191.155 Q2190.13 188.4 2188.18 186.664 Q2186.26 184.928 2183.16 184.928 Q2180.96 184.928 2178.51 185.692 Q2176.08 186.455 2173.3 188.006 L2173.3 183.284 Q2176.12 182.15 2178.58 181.571 Q2181.03 180.993 2183.07 180.993 Q2188.44 180.993 2191.63 183.678 Q2194.83 186.363 2194.83 190.854 Q2194.83 192.983 2194.02 194.905 Q2193.23 196.803 2191.12 199.395 Q2190.54 200.067 2187.44 203.284 Q2184.34 206.479 2178.69 212.242 Z\" fill=\"#000000\" fill-rule=\"evenodd\" fill-opacity=\"1\" /><polyline clip-path=\"url(#clip650)\" style=\"stroke:#3da44d; stroke-linecap:butt; stroke-linejoin:round; stroke-width:4; stroke-opacity:1; fill:none\" points=\"\n",
       "  1918.55,250.738 2062.98,250.738 \n",
       "  \"/>\n",
       "<path clip-path=\"url(#clip650)\" d=\"M2107.56 243.087 L2107.56 247.069 Q2105.75 246.073 2103.92 245.587 Q2102.12 245.078 2100.27 245.078 Q2096.12 245.078 2093.83 247.717 Q2091.54 250.332 2091.54 255.078 Q2091.54 259.823 2093.83 262.462 Q2096.12 265.078 2100.27 265.078 Q2102.12 265.078 2103.92 264.592 Q2105.75 264.082 2107.56 263.087 L2107.56 267.022 Q2105.78 267.856 2103.85 268.272 Q2101.96 268.689 2099.8 268.689 Q2093.95 268.689 2090.5 265.008 Q2087.05 261.328 2087.05 255.078 Q2087.05 248.735 2090.52 245.101 Q2094.02 241.467 2100.08 241.467 Q2102.05 241.467 2103.92 241.883 Q2105.8 242.277 2107.56 243.087 Z\" fill=\"#000000\" fill-rule=\"evenodd\" fill-opacity=\"1\" /><path clip-path=\"url(#clip650)\" d=\"M2126.75 254.985 Q2121.59 254.985 2119.6 256.166 Q2117.6 257.346 2117.6 260.194 Q2117.6 262.462 2119.09 263.805 Q2120.59 265.124 2123.16 265.124 Q2126.7 265.124 2128.83 262.624 Q2130.98 260.101 2130.98 255.934 L2130.98 254.985 L2126.75 254.985 M2135.24 253.226 L2135.24 268.018 L2130.98 268.018 L2130.98 264.082 Q2129.53 266.443 2127.35 267.578 Q2125.17 268.689 2122.03 268.689 Q2118.04 268.689 2115.68 266.467 Q2113.35 264.221 2113.35 260.471 Q2113.35 256.096 2116.26 253.874 Q2119.2 251.652 2125.01 251.652 L2130.98 251.652 L2130.98 251.235 Q2130.98 248.295 2129.04 246.698 Q2127.12 245.078 2123.62 245.078 Q2121.4 245.078 2119.29 245.61 Q2117.19 246.143 2115.24 247.207 L2115.24 243.272 Q2117.58 242.37 2119.78 241.93 Q2121.98 241.467 2124.06 241.467 Q2129.69 241.467 2132.47 244.383 Q2135.24 247.3 2135.24 253.226 Z\" fill=\"#000000\" fill-rule=\"evenodd\" fill-opacity=\"1\" /><path clip-path=\"url(#clip650)\" d=\"M2143.58 257.786 L2143.58 242.092 L2147.84 242.092 L2147.84 257.624 Q2147.84 261.305 2149.27 263.156 Q2150.71 264.985 2153.58 264.985 Q2157.03 264.985 2159.02 262.786 Q2161.03 260.587 2161.03 256.791 L2161.03 242.092 L2165.29 242.092 L2165.29 268.018 L2161.03 268.018 L2161.03 264.036 Q2159.48 266.397 2157.42 267.555 Q2155.38 268.689 2152.67 268.689 Q2148.21 268.689 2145.89 265.911 Q2143.58 263.133 2143.58 257.786 M2154.29 241.467 L2154.29 241.467 Z\" fill=\"#000000\" fill-rule=\"evenodd\" fill-opacity=\"1\" /><path clip-path=\"url(#clip650)\" d=\"M2188.83 249.383 Q2192.19 250.101 2194.06 252.369 Q2195.96 254.638 2195.96 257.971 Q2195.96 263.087 2192.44 265.888 Q2188.92 268.689 2182.44 268.689 Q2180.27 268.689 2177.95 268.249 Q2175.66 267.832 2173.21 266.976 L2173.21 262.462 Q2175.15 263.596 2177.47 264.175 Q2179.78 264.754 2182.3 264.754 Q2186.7 264.754 2188.99 263.018 Q2191.31 261.281 2191.31 257.971 Q2191.31 254.916 2189.16 253.203 Q2187.03 251.467 2183.21 251.467 L2179.18 251.467 L2179.18 247.624 L2183.39 247.624 Q2186.84 247.624 2188.67 246.258 Q2190.5 244.87 2190.5 242.277 Q2190.5 239.615 2188.6 238.203 Q2186.72 236.768 2183.21 236.768 Q2181.28 236.768 2179.09 237.184 Q2176.89 237.601 2174.25 238.481 L2174.25 234.314 Q2176.91 233.573 2179.22 233.203 Q2181.56 232.833 2183.62 232.833 Q2188.95 232.833 2192.05 235.263 Q2195.15 237.67 2195.15 241.791 Q2195.15 244.661 2193.51 246.652 Q2191.86 248.62 2188.83 249.383 Z\" fill=\"#000000\" fill-rule=\"evenodd\" fill-opacity=\"1\" /><polyline clip-path=\"url(#clip650)\" style=\"stroke:#c271d2; stroke-linecap:butt; stroke-linejoin:round; stroke-width:4; stroke-opacity:1; fill:none\" points=\"\n",
       "  1918.55,302.578 2062.98,302.578 \n",
       "  \"/>\n",
       "<path clip-path=\"url(#clip650)\" d=\"M2107.56 294.927 L2107.56 298.909 Q2105.75 297.913 2103.92 297.427 Q2102.12 296.918 2100.27 296.918 Q2096.12 296.918 2093.83 299.557 Q2091.54 302.172 2091.54 306.918 Q2091.54 311.663 2093.83 314.302 Q2096.12 316.918 2100.27 316.918 Q2102.12 316.918 2103.92 316.432 Q2105.75 315.922 2107.56 314.927 L2107.56 318.862 Q2105.78 319.696 2103.85 320.112 Q2101.96 320.529 2099.8 320.529 Q2093.95 320.529 2090.5 316.848 Q2087.05 313.168 2087.05 306.918 Q2087.05 300.575 2090.52 296.941 Q2094.02 293.307 2100.08 293.307 Q2102.05 293.307 2103.92 293.723 Q2105.8 294.117 2107.56 294.927 Z\" fill=\"#000000\" fill-rule=\"evenodd\" fill-opacity=\"1\" /><path clip-path=\"url(#clip650)\" d=\"M2126.75 306.825 Q2121.59 306.825 2119.6 308.006 Q2117.6 309.186 2117.6 312.034 Q2117.6 314.302 2119.09 315.645 Q2120.59 316.964 2123.16 316.964 Q2126.7 316.964 2128.83 314.464 Q2130.98 311.941 2130.98 307.774 L2130.98 306.825 L2126.75 306.825 M2135.24 305.066 L2135.24 319.858 L2130.98 319.858 L2130.98 315.922 Q2129.53 318.283 2127.35 319.418 Q2125.17 320.529 2122.03 320.529 Q2118.04 320.529 2115.68 318.307 Q2113.35 316.061 2113.35 312.311 Q2113.35 307.936 2116.26 305.714 Q2119.2 303.492 2125.01 303.492 L2130.98 303.492 L2130.98 303.075 Q2130.98 300.135 2129.04 298.538 Q2127.12 296.918 2123.62 296.918 Q2121.4 296.918 2119.29 297.45 Q2117.19 297.983 2115.24 299.047 L2115.24 295.112 Q2117.58 294.21 2119.78 293.77 Q2121.98 293.307 2124.06 293.307 Q2129.69 293.307 2132.47 296.223 Q2135.24 299.14 2135.24 305.066 Z\" fill=\"#000000\" fill-rule=\"evenodd\" fill-opacity=\"1\" /><path clip-path=\"url(#clip650)\" d=\"M2143.58 309.626 L2143.58 293.932 L2147.84 293.932 L2147.84 309.464 Q2147.84 313.145 2149.27 314.996 Q2150.71 316.825 2153.58 316.825 Q2157.03 316.825 2159.02 314.626 Q2161.03 312.427 2161.03 308.631 L2161.03 293.932 L2165.29 293.932 L2165.29 319.858 L2161.03 319.858 L2161.03 315.876 Q2159.48 318.237 2157.42 319.395 Q2155.38 320.529 2152.67 320.529 Q2148.21 320.529 2145.89 317.751 Q2143.58 314.973 2143.58 309.626 M2154.29 293.307 L2154.29 293.307 Z\" fill=\"#000000\" fill-rule=\"evenodd\" fill-opacity=\"1\" /><path clip-path=\"url(#clip650)\" d=\"M2187.51 289.372 L2175.71 307.821 L2187.51 307.821 L2187.51 289.372 M2186.28 285.298 L2192.16 285.298 L2192.16 307.821 L2197.1 307.821 L2197.1 311.709 L2192.16 311.709 L2192.16 319.858 L2187.51 319.858 L2187.51 311.709 L2171.91 311.709 L2171.91 307.196 L2186.28 285.298 Z\" fill=\"#000000\" fill-rule=\"evenodd\" fill-opacity=\"1\" /><polyline clip-path=\"url(#clip650)\" style=\"stroke:#ac8d18; stroke-linecap:butt; stroke-linejoin:round; stroke-width:4; stroke-opacity:1; fill:none\" points=\"\n",
       "  1918.55,354.418 2062.98,354.418 \n",
       "  \"/>\n",
       "<path clip-path=\"url(#clip650)\" d=\"M2103.55 335.679 L2103.55 339.221 L2099.48 339.221 Q2097.19 339.221 2096.29 340.147 Q2095.41 341.073 2095.41 343.48 L2095.41 345.772 L2102.42 345.772 L2102.42 349.082 L2095.41 349.082 L2095.41 371.698 L2091.12 371.698 L2091.12 349.082 L2087.05 349.082 L2087.05 345.772 L2091.12 345.772 L2091.12 343.966 Q2091.12 339.638 2093.14 337.67 Q2095.15 335.679 2099.53 335.679 L2103.55 335.679 Z\" fill=\"#000000\" fill-rule=\"evenodd\" fill-opacity=\"1\" /><path clip-path=\"url(#clip650)\" d=\"M2122.14 349.753 Q2121.42 349.337 2120.57 349.151 Q2119.73 348.943 2118.72 348.943 Q2115.1 348.943 2113.16 351.304 Q2111.24 353.642 2111.24 358.04 L2111.24 371.698 L2106.96 371.698 L2106.96 345.772 L2111.24 345.772 L2111.24 349.8 Q2112.58 347.438 2114.73 346.304 Q2116.89 345.147 2119.97 345.147 Q2120.41 345.147 2120.94 345.216 Q2121.47 345.263 2122.12 345.378 L2122.14 349.753 Z\" fill=\"#000000\" fill-rule=\"evenodd\" fill-opacity=\"1\" /><path clip-path=\"url(#clip650)\" d=\"M2147.74 357.67 L2147.74 359.753 L2128.16 359.753 Q2128.44 364.151 2130.8 366.466 Q2133.18 368.758 2137.42 368.758 Q2139.87 368.758 2142.16 368.156 Q2144.48 367.554 2146.75 366.35 L2146.75 370.378 Q2144.46 371.35 2142.05 371.86 Q2139.64 372.369 2137.16 372.369 Q2130.96 372.369 2127.33 368.758 Q2123.72 365.147 2123.72 358.989 Q2123.72 352.624 2127.14 348.897 Q2130.59 345.147 2136.42 345.147 Q2141.66 345.147 2144.69 348.526 Q2147.74 351.883 2147.74 357.67 M2143.48 356.42 Q2143.44 352.925 2141.52 350.841 Q2139.62 348.758 2136.47 348.758 Q2132.91 348.758 2130.75 350.772 Q2128.62 352.786 2128.3 356.443 L2143.48 356.42 Z\" fill=\"#000000\" fill-rule=\"evenodd\" fill-opacity=\"1\" /><path clip-path=\"url(#clip650)\" d=\"M2176.28 356.049 L2176.28 371.698 L2172.03 371.698 L2172.03 356.188 Q2172.03 352.508 2170.59 350.679 Q2169.16 348.85 2166.29 348.85 Q2162.84 348.85 2160.85 351.05 Q2158.85 353.249 2158.85 357.045 L2158.85 371.698 L2154.57 371.698 L2154.57 345.772 L2158.85 345.772 L2158.85 349.8 Q2160.38 347.462 2162.44 346.304 Q2164.53 345.147 2167.23 345.147 Q2171.7 345.147 2173.99 347.925 Q2176.28 350.679 2176.28 356.049 Z\" fill=\"#000000\" fill-rule=\"evenodd\" fill-opacity=\"1\" /><path clip-path=\"url(#clip650)\" d=\"M2203.44 346.767 L2203.44 350.749 Q2201.63 349.753 2199.8 349.267 Q2198 348.758 2196.15 348.758 Q2192 348.758 2189.71 351.397 Q2187.42 354.012 2187.42 358.758 Q2187.42 363.503 2189.71 366.142 Q2192 368.758 2196.15 368.758 Q2198 368.758 2199.8 368.272 Q2201.63 367.762 2203.44 366.767 L2203.44 370.702 Q2201.66 371.536 2199.73 371.952 Q2197.84 372.369 2195.68 372.369 Q2189.83 372.369 2186.38 368.688 Q2182.93 365.008 2182.93 358.758 Q2182.93 352.415 2186.4 348.781 Q2189.9 345.147 2195.96 345.147 Q2197.93 345.147 2199.8 345.563 Q2201.68 345.957 2203.44 346.767 Z\" fill=\"#000000\" fill-rule=\"evenodd\" fill-opacity=\"1\" /><path clip-path=\"url(#clip650)\" d=\"M2232.4 356.049 L2232.4 371.698 L2228.14 371.698 L2228.14 356.188 Q2228.14 352.508 2226.7 350.679 Q2225.27 348.85 2222.4 348.85 Q2218.95 348.85 2216.96 351.05 Q2214.97 353.249 2214.97 357.045 L2214.97 371.698 L2210.68 371.698 L2210.68 335.679 L2214.97 335.679 L2214.97 349.8 Q2216.49 347.462 2218.55 346.304 Q2220.64 345.147 2223.34 345.147 Q2227.81 345.147 2230.1 347.925 Q2232.4 350.679 2232.4 356.049 Z\" fill=\"#000000\" fill-rule=\"evenodd\" fill-opacity=\"1\" /><polyline clip-path=\"url(#clip650)\" style=\"stroke:#00a9ad; stroke-linecap:butt; stroke-linejoin:round; stroke-width:4; stroke-opacity:1; fill:none\" points=\"\n",
       "  1918.55,406.258 2062.98,406.258 \n",
       "  \"/>\n",
       "<path clip-path=\"url(#clip650)\" d=\"M2105.48 398.376 L2105.48 402.403 Q2103.67 401.477 2101.73 401.015 Q2099.78 400.552 2097.7 400.552 Q2094.53 400.552 2092.93 401.524 Q2091.35 402.496 2091.35 404.44 Q2091.35 405.922 2092.49 406.778 Q2093.62 407.612 2097.05 408.376 L2098.51 408.7 Q2103.04 409.672 2104.94 411.454 Q2106.86 413.214 2106.86 416.385 Q2106.86 419.996 2103.99 422.102 Q2101.15 424.209 2096.15 424.209 Q2094.06 424.209 2091.79 423.792 Q2089.55 423.399 2087.05 422.588 L2087.05 418.19 Q2089.41 419.417 2091.7 420.042 Q2093.99 420.644 2096.24 420.644 Q2099.25 420.644 2100.87 419.626 Q2102.49 418.584 2102.49 416.709 Q2102.49 414.973 2101.31 414.047 Q2100.15 413.121 2096.19 412.264 L2094.71 411.917 Q2090.75 411.084 2088.99 409.371 Q2087.23 407.635 2087.23 404.626 Q2087.23 400.968 2089.83 398.978 Q2092.42 396.987 2097.19 396.987 Q2099.55 396.987 2101.63 397.334 Q2103.72 397.681 2105.48 398.376 Z\" fill=\"#000000\" fill-rule=\"evenodd\" fill-opacity=\"1\" /><path clip-path=\"url(#clip650)\" d=\"M2123.69 400.598 Q2120.27 400.598 2118.28 403.283 Q2116.29 405.945 2116.29 410.598 Q2116.29 415.251 2118.25 417.936 Q2120.24 420.598 2123.69 420.598 Q2127.1 420.598 2129.09 417.913 Q2131.08 415.227 2131.08 410.598 Q2131.08 405.991 2129.09 403.306 Q2127.1 400.598 2123.69 400.598 M2123.69 396.987 Q2129.25 396.987 2132.42 400.598 Q2135.59 404.209 2135.59 410.598 Q2135.59 416.964 2132.42 420.598 Q2129.25 424.209 2123.69 424.209 Q2118.11 424.209 2114.94 420.598 Q2111.79 416.964 2111.79 410.598 Q2111.79 404.209 2114.94 400.598 Q2118.11 396.987 2123.69 396.987 Z\" fill=\"#000000\" fill-rule=\"evenodd\" fill-opacity=\"1\" /><path clip-path=\"url(#clip650)\" d=\"M2155.78 387.519 L2155.78 391.061 L2151.7 391.061 Q2149.41 391.061 2148.51 391.987 Q2147.63 392.913 2147.63 395.32 L2147.63 397.612 L2154.64 397.612 L2154.64 400.922 L2147.63 400.922 L2147.63 423.538 L2143.35 423.538 L2143.35 400.922 L2139.27 400.922 L2139.27 397.612 L2143.35 397.612 L2143.35 395.806 Q2143.35 391.478 2145.36 389.51 Q2147.37 387.519 2151.75 387.519 L2155.78 387.519 Z\" fill=\"#000000\" fill-rule=\"evenodd\" fill-opacity=\"1\" /><path clip-path=\"url(#clip650)\" d=\"M2162.72 390.251 L2162.72 397.612 L2171.49 397.612 L2171.49 400.922 L2162.72 400.922 L2162.72 414.996 Q2162.72 418.167 2163.58 419.07 Q2164.46 419.973 2167.12 419.973 L2171.49 419.973 L2171.49 423.538 L2167.12 423.538 Q2162.19 423.538 2160.31 421.709 Q2158.44 419.857 2158.44 414.996 L2158.44 400.922 L2155.31 400.922 L2155.31 397.612 L2158.44 397.612 L2158.44 390.251 L2162.72 390.251 Z\" fill=\"#000000\" fill-rule=\"evenodd\" fill-opacity=\"1\" /><polyline clip-path=\"url(#clip650)\" style=\"stroke:#ed5d92; stroke-linecap:butt; stroke-linejoin:round; stroke-width:4; stroke-opacity:1; fill:none\" points=\"\n",
       "  1918.55,458.098 2062.98,458.098 \n",
       "  \"/>\n",
       "<path clip-path=\"url(#clip650)\" d=\"M2087.05 440.818 L2094.02 440.818 L2102.84 464.336 L2111.7 440.818 L2118.67 440.818 L2118.67 475.378 L2114.11 475.378 L2114.11 445.03 L2105.2 468.734 L2100.5 468.734 L2091.59 445.03 L2091.59 475.378 L2087.05 475.378 L2087.05 440.818 Z\" fill=\"#000000\" fill-rule=\"evenodd\" fill-opacity=\"1\" /><path clip-path=\"url(#clip650)\" d=\"M2127.95 440.818 L2132.63 440.818 L2132.63 454.984 L2149.62 454.984 L2149.62 440.818 L2154.29 440.818 L2154.29 475.378 L2149.62 475.378 L2149.62 458.919 L2132.63 458.919 L2132.63 475.378 L2127.95 475.378 L2127.95 440.818 Z\" fill=\"#000000\" fill-rule=\"evenodd\" fill-opacity=\"1\" /><polyline clip-path=\"url(#clip650)\" style=\"stroke:#c68125; stroke-linecap:butt; stroke-linejoin:round; stroke-width:4; stroke-opacity:1; fill:none\" points=\"\n",
       "  1918.55,509.938 2062.98,509.938 \n",
       "  \"/>\n",
       "<path clip-path=\"url(#clip650)\" d=\"M2105.48 502.056 L2105.48 506.083 Q2103.67 505.157 2101.73 504.695 Q2099.78 504.232 2097.7 504.232 Q2094.53 504.232 2092.93 505.204 Q2091.35 506.176 2091.35 508.12 Q2091.35 509.602 2092.49 510.458 Q2093.62 511.292 2097.05 512.056 L2098.51 512.38 Q2103.04 513.352 2104.94 515.134 Q2106.86 516.894 2106.86 520.065 Q2106.86 523.676 2103.99 525.782 Q2101.15 527.889 2096.15 527.889 Q2094.06 527.889 2091.79 527.472 Q2089.55 527.079 2087.05 526.268 L2087.05 521.87 Q2089.41 523.097 2091.7 523.722 Q2093.99 524.324 2096.24 524.324 Q2099.25 524.324 2100.87 523.306 Q2102.49 522.264 2102.49 520.389 Q2102.49 518.653 2101.31 517.727 Q2100.15 516.801 2096.19 515.944 L2094.71 515.597 Q2090.75 514.764 2088.99 513.051 Q2087.23 511.315 2087.23 508.306 Q2087.23 504.648 2089.83 502.658 Q2092.42 500.667 2097.19 500.667 Q2099.55 500.667 2101.63 501.014 Q2103.72 501.361 2105.48 502.056 Z\" fill=\"#000000\" fill-rule=\"evenodd\" fill-opacity=\"1\" /><path clip-path=\"url(#clip650)\" d=\"M2113.65 501.292 L2117.91 501.292 L2117.91 527.218 L2113.65 527.218 L2113.65 501.292 M2113.65 491.199 L2117.91 491.199 L2117.91 496.593 L2113.65 496.593 L2113.65 491.199 Z\" fill=\"#000000\" fill-rule=\"evenodd\" fill-opacity=\"1\" /><path clip-path=\"url(#clip650)\" d=\"M2145.43 514.278 Q2145.43 509.579 2143.48 506.917 Q2141.56 504.232 2138.18 504.232 Q2134.8 504.232 2132.86 506.917 Q2130.94 509.579 2130.94 514.278 Q2130.94 518.977 2132.86 521.662 Q2134.8 524.324 2138.18 524.324 Q2141.56 524.324 2143.48 521.662 Q2145.43 518.977 2145.43 514.278 M2130.94 505.227 Q2132.28 502.912 2134.32 501.801 Q2136.38 500.667 2139.23 500.667 Q2143.95 500.667 2146.89 504.417 Q2149.85 508.167 2149.85 514.278 Q2149.85 520.389 2146.89 524.139 Q2143.95 527.889 2139.23 527.889 Q2136.38 527.889 2134.32 526.778 Q2132.28 525.643 2130.94 523.329 L2130.94 527.218 L2126.66 527.218 L2126.66 491.199 L2130.94 491.199 L2130.94 505.227 Z\" fill=\"#000000\" fill-rule=\"evenodd\" fill-opacity=\"1\" /></svg>\n"
      ]
     },
     "execution_count": 351,
     "metadata": {},
     "output_type": "execute_result"
    }
   ],
   "source": [
    "#Marginals\n",
    "bins = 10 * Int(T)\n",
    "using Plots\n",
    "p_cau = zeros(N,bins)\n",
    "p_cau2 = zeros(N,bins)\n",
    "p_cau3 = zeros(N,bins)\n",
    "p_cau4 = zeros(N,bins)\n",
    "p_french = zeros(N,bins)\n",
    "p_mh = zeros(N,bins)\n",
    "p_soft = zeros(N,bins)\n",
    "for i = 1:N\n",
    "    for t = 1:bins\n",
    "       p_cau[i,t] = marginal(i, t*T/bins, statscau)\n",
    "        p_cau2[i,t] = marginal(i, t*T/bins, statscau2)\n",
    "        p_cau3[i,t] = marginal(i, t*T/bins, statscau3)\n",
    "        p_cau4[i,t] = marginal(i, t*T/bins, statscau4)\n",
    "       p_french[i,t] = marginal(i, t*T/bins, statsfre)\n",
    "     #  p_mh[i,t] = marginal(i, t*T/bins, stats_mh)\n",
    "       p_soft[i,t] = marginal(i, t*T/bins, stats)\n",
    "    end\n",
    "end\n",
    "i = 4\n",
    "plot(LinRange(1,Int(T),bins),p_cau[i,:], label = \"cau\")\n",
    "plot!(LinRange(1,Int(T),bins),p_cau2[i,:], label = \"cau2\")\n",
    "plot!(LinRange(1,Int(T),bins),p_cau3[i,:], label = \"cau3\")\n",
    "plot!(LinRange(1,Int(T),bins),p_cau4[i,:], label = \"cau4\")\n",
    "plot!(LinRange(1,Int(T),bins),p_french[i,:], label = \"french\")\n",
    "plot!(LinRange(1,Int(T),bins),p_soft[i,:], label = \"soft\")\n",
    "plot!(LinRange(1,Int(T),bins),p_mh[i,:], label = \"MH\")\n",
    "plot!(LinRange(1,Int(T),Int(round(T/dt))),p_sib[i,:], label = \"sib\")"
   ]
  },
  {
   "cell_type": "code",
   "execution_count": 352,
   "metadata": {},
   "outputs": [
    {
     "data": {
      "image/svg+xml": [
       "<?xml version=\"1.0\" encoding=\"utf-8\"?>\n",
       "<svg xmlns=\"http://www.w3.org/2000/svg\" xmlns:xlink=\"http://www.w3.org/1999/xlink\" width=\"600\" height=\"400\" viewBox=\"0 0 2400 1600\">\n",
       "<defs>\n",
       "  <clipPath id=\"clip700\">\n",
       "    <rect x=\"0\" y=\"0\" width=\"2400\" height=\"1600\"/>\n",
       "  </clipPath>\n",
       "</defs>\n",
       "<path clip-path=\"url(#clip700)\" d=\"\n",
       "M0 1600 L2400 1600 L2400 0 L0 0  Z\n",
       "  \" fill=\"#ffffff\" fill-rule=\"evenodd\" fill-opacity=\"1\"/>\n",
       "<defs>\n",
       "  <clipPath id=\"clip701\">\n",
       "    <rect x=\"480\" y=\"0\" width=\"1681\" height=\"1600\"/>\n",
       "  </clipPath>\n",
       "</defs>\n",
       "<path clip-path=\"url(#clip700)\" d=\"\n",
       "M219.542 1423.18 L2352.76 1423.18 L2352.76 123.472 L219.542 123.472  Z\n",
       "  \" fill=\"#ffffff\" fill-rule=\"evenodd\" fill-opacity=\"1\"/>\n",
       "<defs>\n",
       "  <clipPath id=\"clip702\">\n",
       "    <rect x=\"219\" y=\"123\" width=\"2134\" height=\"1301\"/>\n",
       "  </clipPath>\n",
       "</defs>\n",
       "<polyline clip-path=\"url(#clip702)\" style=\"stroke:#000000; stroke-linecap:butt; stroke-linejoin:round; stroke-width:2; stroke-opacity:0.1; fill:none\" points=\"\n",
       "  703.593,1423.18 703.593,123.472 \n",
       "  \"/>\n",
       "<polyline clip-path=\"url(#clip702)\" style=\"stroke:#000000; stroke-linecap:butt; stroke-linejoin:round; stroke-width:2; stroke-opacity:0.1; fill:none\" points=\"\n",
       "  1233.19,1423.18 1233.19,123.472 \n",
       "  \"/>\n",
       "<polyline clip-path=\"url(#clip702)\" style=\"stroke:#000000; stroke-linecap:butt; stroke-linejoin:round; stroke-width:2; stroke-opacity:0.1; fill:none\" points=\"\n",
       "  1762.79,1423.18 1762.79,123.472 \n",
       "  \"/>\n",
       "<polyline clip-path=\"url(#clip702)\" style=\"stroke:#000000; stroke-linecap:butt; stroke-linejoin:round; stroke-width:2; stroke-opacity:0.1; fill:none\" points=\"\n",
       "  2292.38,1423.18 2292.38,123.472 \n",
       "  \"/>\n",
       "<polyline clip-path=\"url(#clip700)\" style=\"stroke:#000000; stroke-linecap:butt; stroke-linejoin:round; stroke-width:4; stroke-opacity:1; fill:none\" points=\"\n",
       "  219.542,1423.18 2352.76,1423.18 \n",
       "  \"/>\n",
       "<polyline clip-path=\"url(#clip700)\" style=\"stroke:#000000; stroke-linecap:butt; stroke-linejoin:round; stroke-width:4; stroke-opacity:1; fill:none\" points=\"\n",
       "  703.593,1423.18 703.593,1404.28 \n",
       "  \"/>\n",
       "<polyline clip-path=\"url(#clip700)\" style=\"stroke:#000000; stroke-linecap:butt; stroke-linejoin:round; stroke-width:4; stroke-opacity:1; fill:none\" points=\"\n",
       "  1233.19,1423.18 1233.19,1404.28 \n",
       "  \"/>\n",
       "<polyline clip-path=\"url(#clip700)\" style=\"stroke:#000000; stroke-linecap:butt; stroke-linejoin:round; stroke-width:4; stroke-opacity:1; fill:none\" points=\"\n",
       "  1762.79,1423.18 1762.79,1404.28 \n",
       "  \"/>\n",
       "<polyline clip-path=\"url(#clip700)\" style=\"stroke:#000000; stroke-linecap:butt; stroke-linejoin:round; stroke-width:4; stroke-opacity:1; fill:none\" points=\"\n",
       "  2292.38,1423.18 2292.38,1404.28 \n",
       "  \"/>\n",
       "<path clip-path=\"url(#clip700)\" d=\"M693.871 1451.02 L712.227 1451.02 L712.227 1454.96 L698.153 1454.96 L698.153 1463.43 Q699.172 1463.08 700.19 1462.92 Q701.209 1462.73 702.227 1462.73 Q708.014 1462.73 711.394 1465.9 Q714.774 1469.08 714.774 1474.49 Q714.774 1480.07 711.301 1483.17 Q707.829 1486.25 701.51 1486.25 Q699.334 1486.25 697.065 1485.88 Q694.82 1485.51 692.413 1484.77 L692.413 1480.07 Q694.496 1481.2 696.718 1481.76 Q698.94 1482.32 701.417 1482.32 Q705.422 1482.32 707.76 1480.21 Q710.098 1478.1 710.098 1474.49 Q710.098 1470.88 707.76 1468.77 Q705.422 1466.67 701.417 1466.67 Q699.542 1466.67 697.667 1467.08 Q695.815 1467.5 693.871 1468.38 L693.871 1451.02 Z\" fill=\"#000000\" fill-rule=\"evenodd\" fill-opacity=\"1\" /><path clip-path=\"url(#clip700)\" d=\"M1207.88 1481.64 L1215.52 1481.64 L1215.52 1455.28 L1207.21 1456.95 L1207.21 1452.69 L1215.47 1451.02 L1220.15 1451.02 L1220.15 1481.64 L1227.78 1481.64 L1227.78 1485.58 L1207.88 1485.58 L1207.88 1481.64 Z\" fill=\"#000000\" fill-rule=\"evenodd\" fill-opacity=\"1\" /><path clip-path=\"url(#clip700)\" d=\"M1247.23 1454.1 Q1243.62 1454.1 1241.79 1457.66 Q1239.98 1461.2 1239.98 1468.33 Q1239.98 1475.44 1241.79 1479.01 Q1243.62 1482.55 1247.23 1482.55 Q1250.86 1482.55 1252.67 1479.01 Q1254.5 1475.44 1254.5 1468.33 Q1254.5 1461.2 1252.67 1457.66 Q1250.86 1454.1 1247.23 1454.1 M1247.23 1450.39 Q1253.04 1450.39 1256.09 1455 Q1259.17 1459.58 1259.17 1468.33 Q1259.17 1477.06 1256.09 1481.67 Q1253.04 1486.25 1247.23 1486.25 Q1241.42 1486.25 1238.34 1481.67 Q1235.28 1477.06 1235.28 1468.33 Q1235.28 1459.58 1238.34 1455 Q1241.42 1450.39 1247.23 1450.39 Z\" fill=\"#000000\" fill-rule=\"evenodd\" fill-opacity=\"1\" /><path clip-path=\"url(#clip700)\" d=\"M1737.97 1481.64 L1745.61 1481.64 L1745.61 1455.28 L1737.3 1456.95 L1737.3 1452.69 L1745.56 1451.02 L1750.24 1451.02 L1750.24 1481.64 L1757.88 1481.64 L1757.88 1485.58 L1737.97 1485.58 L1737.97 1481.64 Z\" fill=\"#000000\" fill-rule=\"evenodd\" fill-opacity=\"1\" /><path clip-path=\"url(#clip700)\" d=\"M1767.37 1451.02 L1785.73 1451.02 L1785.73 1454.96 L1771.65 1454.96 L1771.65 1463.43 Q1772.67 1463.08 1773.69 1462.92 Q1774.71 1462.73 1775.73 1462.73 Q1781.51 1462.73 1784.89 1465.9 Q1788.27 1469.08 1788.27 1474.49 Q1788.27 1480.07 1784.8 1483.17 Q1781.33 1486.25 1775.01 1486.25 Q1772.83 1486.25 1770.56 1485.88 Q1768.32 1485.51 1765.91 1484.77 L1765.91 1480.07 Q1767.99 1481.2 1770.22 1481.76 Q1772.44 1482.32 1774.92 1482.32 Q1778.92 1482.32 1781.26 1480.21 Q1783.6 1478.1 1783.6 1474.49 Q1783.6 1470.88 1781.26 1468.77 Q1778.92 1466.67 1774.92 1466.67 Q1773.04 1466.67 1771.17 1467.08 Q1769.31 1467.5 1767.37 1468.38 L1767.37 1451.02 Z\" fill=\"#000000\" fill-rule=\"evenodd\" fill-opacity=\"1\" /><path clip-path=\"url(#clip700)\" d=\"M2271.16 1481.64 L2287.47 1481.64 L2287.47 1485.58 L2265.53 1485.58 L2265.53 1481.64 Q2268.19 1478.89 2272.78 1474.26 Q2277.38 1469.61 2278.56 1468.27 Q2280.81 1465.74 2281.69 1464.01 Q2282.59 1462.25 2282.59 1460.56 Q2282.59 1457.8 2280.65 1456.07 Q2278.72 1454.33 2275.62 1454.33 Q2273.42 1454.33 2270.97 1455.09 Q2268.54 1455.86 2265.76 1457.41 L2265.76 1452.69 Q2268.59 1451.55 2271.04 1450.97 Q2273.49 1450.39 2275.53 1450.39 Q2280.9 1450.39 2284.09 1453.08 Q2287.29 1455.77 2287.29 1460.26 Q2287.29 1462.39 2286.48 1464.31 Q2285.69 1466.2 2283.59 1468.8 Q2283.01 1469.47 2279.91 1472.69 Q2276.8 1475.88 2271.16 1481.64 Z\" fill=\"#000000\" fill-rule=\"evenodd\" fill-opacity=\"1\" /><path clip-path=\"url(#clip700)\" d=\"M2307.29 1454.1 Q2303.68 1454.1 2301.85 1457.66 Q2300.04 1461.2 2300.04 1468.33 Q2300.04 1475.44 2301.85 1479.01 Q2303.68 1482.55 2307.29 1482.55 Q2310.92 1482.55 2312.73 1479.01 Q2314.56 1475.44 2314.56 1468.33 Q2314.56 1461.2 2312.73 1457.66 Q2310.92 1454.1 2307.29 1454.1 M2307.29 1450.39 Q2313.1 1450.39 2316.15 1455 Q2319.23 1459.58 2319.23 1468.33 Q2319.23 1477.06 2316.15 1481.67 Q2313.1 1486.25 2307.29 1486.25 Q2301.48 1486.25 2298.4 1481.67 Q2295.34 1477.06 2295.34 1468.33 Q2295.34 1459.58 2298.4 1455 Q2301.48 1450.39 2307.29 1450.39 Z\" fill=\"#000000\" fill-rule=\"evenodd\" fill-opacity=\"1\" /><path clip-path=\"url(#clip700)\" d=\"M1285.21 1522.27 L1285.21 1532.4 L1297.27 1532.4 L1297.27 1536.95 L1285.21 1536.95 L1285.21 1556.3 Q1285.21 1560.66 1286.39 1561.9 Q1287.6 1563.14 1291.26 1563.14 L1297.27 1563.14 L1297.27 1568.04 L1291.26 1568.04 Q1284.48 1568.04 1281.9 1565.53 Q1279.32 1562.98 1279.32 1556.3 L1279.32 1536.95 L1275.02 1536.95 L1275.02 1532.4 L1279.32 1532.4 L1279.32 1522.27 L1285.21 1522.27 Z\" fill=\"#000000\" fill-rule=\"evenodd\" fill-opacity=\"1\" /><polyline clip-path=\"url(#clip702)\" style=\"stroke:#000000; stroke-linecap:butt; stroke-linejoin:round; stroke-width:2; stroke-opacity:0.1; fill:none\" points=\"\n",
       "  219.542,1423.18 2352.76,1423.18 \n",
       "  \"/>\n",
       "<polyline clip-path=\"url(#clip702)\" style=\"stroke:#000000; stroke-linecap:butt; stroke-linejoin:round; stroke-width:2; stroke-opacity:0.1; fill:none\" points=\"\n",
       "  219.542,1168.34 2352.76,1168.34 \n",
       "  \"/>\n",
       "<polyline clip-path=\"url(#clip702)\" style=\"stroke:#000000; stroke-linecap:butt; stroke-linejoin:round; stroke-width:2; stroke-opacity:0.1; fill:none\" points=\"\n",
       "  219.542,913.491 2352.76,913.491 \n",
       "  \"/>\n",
       "<polyline clip-path=\"url(#clip702)\" style=\"stroke:#000000; stroke-linecap:butt; stroke-linejoin:round; stroke-width:2; stroke-opacity:0.1; fill:none\" points=\"\n",
       "  219.542,658.646 2352.76,658.646 \n",
       "  \"/>\n",
       "<polyline clip-path=\"url(#clip702)\" style=\"stroke:#000000; stroke-linecap:butt; stroke-linejoin:round; stroke-width:2; stroke-opacity:0.1; fill:none\" points=\"\n",
       "  219.542,403.801 2352.76,403.801 \n",
       "  \"/>\n",
       "<polyline clip-path=\"url(#clip702)\" style=\"stroke:#000000; stroke-linecap:butt; stroke-linejoin:round; stroke-width:2; stroke-opacity:0.1; fill:none\" points=\"\n",
       "  219.542,148.957 2352.76,148.957 \n",
       "  \"/>\n",
       "<polyline clip-path=\"url(#clip700)\" style=\"stroke:#000000; stroke-linecap:butt; stroke-linejoin:round; stroke-width:4; stroke-opacity:1; fill:none\" points=\"\n",
       "  219.542,1423.18 219.542,123.472 \n",
       "  \"/>\n",
       "<polyline clip-path=\"url(#clip700)\" style=\"stroke:#000000; stroke-linecap:butt; stroke-linejoin:round; stroke-width:4; stroke-opacity:1; fill:none\" points=\"\n",
       "  219.542,1423.18 238.44,1423.18 \n",
       "  \"/>\n",
       "<polyline clip-path=\"url(#clip700)\" style=\"stroke:#000000; stroke-linecap:butt; stroke-linejoin:round; stroke-width:4; stroke-opacity:1; fill:none\" points=\"\n",
       "  219.542,1168.34 238.44,1168.34 \n",
       "  \"/>\n",
       "<polyline clip-path=\"url(#clip700)\" style=\"stroke:#000000; stroke-linecap:butt; stroke-linejoin:round; stroke-width:4; stroke-opacity:1; fill:none\" points=\"\n",
       "  219.542,913.491 238.44,913.491 \n",
       "  \"/>\n",
       "<polyline clip-path=\"url(#clip700)\" style=\"stroke:#000000; stroke-linecap:butt; stroke-linejoin:round; stroke-width:4; stroke-opacity:1; fill:none\" points=\"\n",
       "  219.542,658.646 238.44,658.646 \n",
       "  \"/>\n",
       "<polyline clip-path=\"url(#clip700)\" style=\"stroke:#000000; stroke-linecap:butt; stroke-linejoin:round; stroke-width:4; stroke-opacity:1; fill:none\" points=\"\n",
       "  219.542,403.801 238.44,403.801 \n",
       "  \"/>\n",
       "<polyline clip-path=\"url(#clip700)\" style=\"stroke:#000000; stroke-linecap:butt; stroke-linejoin:round; stroke-width:4; stroke-opacity:1; fill:none\" points=\"\n",
       "  219.542,148.957 238.44,148.957 \n",
       "  \"/>\n",
       "<path clip-path=\"url(#clip700)\" d=\"M127.362 1408.98 Q123.751 1408.98 121.922 1412.54 Q120.117 1416.08 120.117 1423.21 Q120.117 1430.32 121.922 1433.89 Q123.751 1437.43 127.362 1437.43 Q130.996 1437.43 132.802 1433.89 Q134.63 1430.32 134.63 1423.21 Q134.63 1416.08 132.802 1412.54 Q130.996 1408.98 127.362 1408.98 M127.362 1405.27 Q133.172 1405.27 136.228 1409.88 Q139.306 1414.46 139.306 1423.21 Q139.306 1431.94 136.228 1436.55 Q133.172 1441.13 127.362 1441.13 Q121.552 1441.13 118.473 1436.55 Q115.418 1431.94 115.418 1423.21 Q115.418 1414.46 118.473 1409.88 Q121.552 1405.27 127.362 1405.27 Z\" fill=\"#000000\" fill-rule=\"evenodd\" fill-opacity=\"1\" /><path clip-path=\"url(#clip700)\" d=\"M147.524 1434.58 L152.408 1434.58 L152.408 1440.46 L147.524 1440.46 L147.524 1434.58 Z\" fill=\"#000000\" fill-rule=\"evenodd\" fill-opacity=\"1\" /><path clip-path=\"url(#clip700)\" d=\"M162.64 1405.9 L180.996 1405.9 L180.996 1409.84 L166.922 1409.84 L166.922 1418.31 Q167.94 1417.96 168.959 1417.8 Q169.977 1417.61 170.996 1417.61 Q176.783 1417.61 180.163 1420.78 Q183.542 1423.96 183.542 1429.37 Q183.542 1434.95 180.07 1438.05 Q176.598 1441.13 170.278 1441.13 Q168.102 1441.13 165.834 1440.76 Q163.589 1440.39 161.181 1439.65 L161.181 1434.95 Q163.265 1436.08 165.487 1436.64 Q167.709 1437.2 170.186 1437.2 Q174.19 1437.2 176.528 1435.09 Q178.866 1432.98 178.866 1429.37 Q178.866 1425.76 176.528 1423.65 Q174.19 1421.55 170.186 1421.55 Q168.311 1421.55 166.436 1421.96 Q164.584 1422.38 162.64 1423.26 L162.64 1405.9 Z\" fill=\"#000000\" fill-rule=\"evenodd\" fill-opacity=\"1\" /><path clip-path=\"url(#clip700)\" d=\"M126.205 1154.13 Q122.593 1154.13 120.765 1157.7 Q118.959 1161.24 118.959 1168.37 Q118.959 1175.48 120.765 1179.04 Q122.593 1182.58 126.205 1182.58 Q129.839 1182.58 131.644 1179.04 Q133.473 1175.48 133.473 1168.37 Q133.473 1161.24 131.644 1157.7 Q129.839 1154.13 126.205 1154.13 M126.205 1150.43 Q132.015 1150.43 135.07 1155.04 Q138.149 1159.62 138.149 1168.37 Q138.149 1177.1 135.07 1181.7 Q132.015 1186.29 126.205 1186.29 Q120.394 1186.29 117.316 1181.7 Q114.26 1177.1 114.26 1168.37 Q114.26 1159.62 117.316 1155.04 Q120.394 1150.43 126.205 1150.43 Z\" fill=\"#000000\" fill-rule=\"evenodd\" fill-opacity=\"1\" /><path clip-path=\"url(#clip700)\" d=\"M146.366 1179.74 L151.251 1179.74 L151.251 1185.62 L146.366 1185.62 L146.366 1179.74 Z\" fill=\"#000000\" fill-rule=\"evenodd\" fill-opacity=\"1\" /><path clip-path=\"url(#clip700)\" d=\"M172.014 1166.47 Q168.866 1166.47 167.015 1168.62 Q165.186 1170.78 165.186 1174.53 Q165.186 1178.25 167.015 1180.43 Q168.866 1182.58 172.014 1182.58 Q175.163 1182.58 176.991 1180.43 Q178.843 1178.25 178.843 1174.53 Q178.843 1170.78 176.991 1168.62 Q175.163 1166.47 172.014 1166.47 M181.297 1151.82 L181.297 1156.08 Q179.538 1155.24 177.732 1154.81 Q175.95 1154.37 174.19 1154.37 Q169.561 1154.37 167.107 1157.49 Q164.677 1160.62 164.329 1166.93 Q165.695 1164.92 167.755 1163.86 Q169.815 1162.77 172.292 1162.77 Q177.501 1162.77 180.51 1165.94 Q183.542 1169.09 183.542 1174.53 Q183.542 1179.85 180.394 1183.07 Q177.246 1186.29 172.014 1186.29 Q166.019 1186.29 162.848 1181.7 Q159.677 1177.1 159.677 1168.37 Q159.677 1160.18 163.565 1155.31 Q167.454 1150.43 174.005 1150.43 Q175.764 1150.43 177.547 1150.78 Q179.352 1151.12 181.297 1151.82 Z\" fill=\"#000000\" fill-rule=\"evenodd\" fill-opacity=\"1\" /><path clip-path=\"url(#clip700)\" d=\"M127.269 899.289 Q123.658 899.289 121.83 902.854 Q120.024 906.396 120.024 913.525 Q120.024 920.632 121.83 924.197 Q123.658 927.738 127.269 927.738 Q130.904 927.738 132.709 924.197 Q134.538 920.632 134.538 913.525 Q134.538 906.396 132.709 902.854 Q130.904 899.289 127.269 899.289 M127.269 895.586 Q133.08 895.586 136.135 900.192 Q139.214 904.775 139.214 913.525 Q139.214 922.252 136.135 926.859 Q133.08 931.442 127.269 931.442 Q121.459 931.442 118.381 926.859 Q115.325 922.252 115.325 913.525 Q115.325 904.775 118.381 900.192 Q121.459 895.586 127.269 895.586 Z\" fill=\"#000000\" fill-rule=\"evenodd\" fill-opacity=\"1\" /><path clip-path=\"url(#clip700)\" d=\"M147.431 924.891 L152.316 924.891 L152.316 930.771 L147.431 930.771 L147.431 924.891 Z\" fill=\"#000000\" fill-rule=\"evenodd\" fill-opacity=\"1\" /><path clip-path=\"url(#clip700)\" d=\"M161.32 896.211 L183.542 896.211 L183.542 898.201 L170.996 930.771 L166.112 930.771 L177.917 900.146 L161.32 900.146 L161.32 896.211 Z\" fill=\"#000000\" fill-rule=\"evenodd\" fill-opacity=\"1\" /><path clip-path=\"url(#clip700)\" d=\"M126.459 644.445 Q122.848 644.445 121.019 648.009 Q119.214 651.551 119.214 658.681 Q119.214 665.787 121.019 669.352 Q122.848 672.894 126.459 672.894 Q130.093 672.894 131.899 669.352 Q133.728 665.787 133.728 658.681 Q133.728 651.551 131.899 648.009 Q130.093 644.445 126.459 644.445 M126.459 640.741 Q132.269 640.741 135.325 645.347 Q138.404 649.931 138.404 658.681 Q138.404 667.407 135.325 672.014 Q132.269 676.597 126.459 676.597 Q120.649 676.597 117.57 672.014 Q114.515 667.407 114.515 658.681 Q114.515 649.931 117.57 645.347 Q120.649 640.741 126.459 640.741 Z\" fill=\"#000000\" fill-rule=\"evenodd\" fill-opacity=\"1\" /><path clip-path=\"url(#clip700)\" d=\"M146.621 670.046 L151.505 670.046 L151.505 675.926 L146.621 675.926 L146.621 670.046 Z\" fill=\"#000000\" fill-rule=\"evenodd\" fill-opacity=\"1\" /><path clip-path=\"url(#clip700)\" d=\"M171.69 659.514 Q168.357 659.514 166.436 661.296 Q164.538 663.079 164.538 666.204 Q164.538 669.329 166.436 671.111 Q168.357 672.894 171.69 672.894 Q175.024 672.894 176.945 671.111 Q178.866 669.306 178.866 666.204 Q178.866 663.079 176.945 661.296 Q175.047 659.514 171.69 659.514 M167.015 657.523 Q164.005 656.782 162.315 654.722 Q160.649 652.662 160.649 649.699 Q160.649 645.556 163.589 643.148 Q166.552 640.741 171.69 640.741 Q176.852 640.741 179.792 643.148 Q182.732 645.556 182.732 649.699 Q182.732 652.662 181.042 654.722 Q179.376 656.782 176.389 657.523 Q179.769 658.31 181.644 660.602 Q183.542 662.894 183.542 666.204 Q183.542 671.227 180.464 673.912 Q177.408 676.597 171.69 676.597 Q165.973 676.597 162.894 673.912 Q159.839 671.227 159.839 666.204 Q159.839 662.894 161.737 660.602 Q163.635 658.31 167.015 657.523 M165.302 650.139 Q165.302 652.824 166.968 654.329 Q168.658 655.833 171.69 655.833 Q174.7 655.833 176.389 654.329 Q178.102 652.824 178.102 650.139 Q178.102 647.454 176.389 645.949 Q174.7 644.445 171.69 644.445 Q168.658 644.445 166.968 645.949 Q165.302 647.454 165.302 650.139 Z\" fill=\"#000000\" fill-rule=\"evenodd\" fill-opacity=\"1\" /><path clip-path=\"url(#clip700)\" d=\"M126.552 389.6 Q122.941 389.6 121.112 393.165 Q119.306 396.706 119.306 403.836 Q119.306 410.942 121.112 414.507 Q122.941 418.049 126.552 418.049 Q130.186 418.049 131.992 414.507 Q133.82 410.942 133.82 403.836 Q133.82 396.706 131.992 393.165 Q130.186 389.6 126.552 389.6 M126.552 385.896 Q132.362 385.896 135.417 390.503 Q138.496 395.086 138.496 403.836 Q138.496 412.563 135.417 417.169 Q132.362 421.753 126.552 421.753 Q120.742 421.753 117.663 417.169 Q114.607 412.563 114.607 403.836 Q114.607 395.086 117.663 390.503 Q120.742 385.896 126.552 385.896 Z\" fill=\"#000000\" fill-rule=\"evenodd\" fill-opacity=\"1\" /><path clip-path=\"url(#clip700)\" d=\"M146.714 415.202 L151.598 415.202 L151.598 421.081 L146.714 421.081 L146.714 415.202 Z\" fill=\"#000000\" fill-rule=\"evenodd\" fill-opacity=\"1\" /><path clip-path=\"url(#clip700)\" d=\"M161.922 420.364 L161.922 416.104 Q163.681 416.938 165.487 417.378 Q167.292 417.817 169.028 417.817 Q173.658 417.817 176.089 414.716 Q178.542 411.591 178.889 405.248 Q177.547 407.239 175.487 408.304 Q173.427 409.368 170.927 409.368 Q165.741 409.368 162.709 406.243 Q159.7 403.095 159.7 397.655 Q159.7 392.331 162.848 389.114 Q165.996 385.896 171.227 385.896 Q177.223 385.896 180.371 390.503 Q183.542 395.086 183.542 403.836 Q183.542 412.007 179.653 416.891 Q175.788 421.753 169.237 421.753 Q167.477 421.753 165.672 421.405 Q163.866 421.058 161.922 420.364 M171.227 405.711 Q174.376 405.711 176.204 403.558 Q178.056 401.405 178.056 397.655 Q178.056 393.929 176.204 391.776 Q174.376 389.6 171.227 389.6 Q168.079 389.6 166.227 391.776 Q164.399 393.929 164.399 397.655 Q164.399 401.405 166.227 403.558 Q168.079 405.711 171.227 405.711 Z\" fill=\"#000000\" fill-rule=\"evenodd\" fill-opacity=\"1\" /><path clip-path=\"url(#clip700)\" d=\"M117.177 162.301 L124.816 162.301 L124.816 135.936 L116.506 137.602 L116.506 133.343 L124.769 131.677 L129.445 131.677 L129.445 162.301 L137.084 162.301 L137.084 166.237 L117.177 166.237 L117.177 162.301 Z\" fill=\"#000000\" fill-rule=\"evenodd\" fill-opacity=\"1\" /><path clip-path=\"url(#clip700)\" d=\"M146.529 160.357 L151.413 160.357 L151.413 166.237 L146.529 166.237 L146.529 160.357 Z\" fill=\"#000000\" fill-rule=\"evenodd\" fill-opacity=\"1\" /><path clip-path=\"url(#clip700)\" d=\"M171.598 134.755 Q167.987 134.755 166.158 138.32 Q164.352 141.862 164.352 148.991 Q164.352 156.098 166.158 159.663 Q167.987 163.204 171.598 163.204 Q175.232 163.204 177.038 159.663 Q178.866 156.098 178.866 148.991 Q178.866 141.862 177.038 138.32 Q175.232 134.755 171.598 134.755 M171.598 131.052 Q177.408 131.052 180.464 135.658 Q183.542 140.241 183.542 148.991 Q183.542 157.718 180.464 162.325 Q177.408 166.908 171.598 166.908 Q165.788 166.908 162.709 162.325 Q159.653 157.718 159.653 148.991 Q159.653 140.241 162.709 135.658 Q165.788 131.052 171.598 131.052 Z\" fill=\"#000000\" fill-rule=\"evenodd\" fill-opacity=\"1\" /><path clip-path=\"url(#clip700)\" d=\"M22.818 866.743 L46.4666 875.464 L46.4666 857.99 L22.818 866.743 M16.4842 870.371 L16.4842 863.082 L64.0042 844.972 L64.0042 851.656 L51.8138 855.985 L51.8138 877.405 L64.0042 881.734 L64.0042 888.513 L16.4842 870.371 Z\" fill=\"#000000\" fill-rule=\"evenodd\" fill-opacity=\"1\" /><path clip-path=\"url(#clip700)\" d=\"M16.4842 838.765 L16.4842 832.304 L45.3526 832.304 Q52.9915 832.304 56.3653 829.535 Q59.7073 826.766 59.7073 820.56 Q59.7073 814.385 56.3653 811.616 Q52.9915 808.847 45.3526 808.847 L16.4842 808.847 L16.4842 802.385 L46.1484 802.385 Q55.4423 802.385 60.1847 807.001 Q64.9272 811.584 64.9272 820.56 Q64.9272 829.567 60.1847 834.182 Q55.4423 838.765 46.1484 838.765 L16.4842 838.765 Z\" fill=\"#000000\" fill-rule=\"evenodd\" fill-opacity=\"1\" /><path clip-path=\"url(#clip700)\" d=\"M41.7242 767.788 Q42.4244 765.719 44.7161 763.777 Q47.0077 761.804 51.0181 759.831 L64.0042 753.306 L64.0042 760.213 L51.8138 766.292 Q47.0395 768.647 45.48 770.875 Q43.9204 773.071 43.9204 776.891 L43.9204 783.893 L64.0042 783.893 L64.0042 790.322 L16.4842 790.322 L16.4842 775.809 Q16.4842 767.661 19.8898 763.65 Q23.2955 759.64 30.1704 759.64 Q34.6582 759.64 37.6183 761.74 Q40.5784 763.809 41.7242 767.788 M21.7677 783.893 L38.6368 783.893 L38.6368 775.809 Q38.6368 771.162 36.5043 768.806 Q34.34 766.419 30.1704 766.419 Q26.0009 766.419 23.9002 768.806 Q21.7677 771.162 21.7677 775.809 L21.7677 783.893 Z\" fill=\"#000000\" fill-rule=\"evenodd\" fill-opacity=\"1\" /><path clip-path=\"url(#clip700)\" d=\"M20.8447 725.742 Q20.8447 732.745 26.0645 736.882 Q31.2844 740.988 40.2919 740.988 Q49.2675 740.988 54.4874 736.882 Q59.7073 732.745 59.7073 725.742 Q59.7073 718.74 54.4874 714.666 Q49.2675 710.56 40.2919 710.56 Q31.2844 710.56 26.0645 714.666 Q20.8447 718.74 20.8447 725.742 M15.6248 725.742 Q15.6248 715.748 22.3406 709.764 Q29.0246 703.781 40.2919 703.781 Q51.5274 703.781 58.2432 709.764 Q64.9272 715.748 64.9272 725.742 Q64.9272 735.768 58.2432 741.784 Q51.5592 747.768 40.2919 747.768 Q29.0246 747.768 22.3406 741.784 Q15.6248 735.768 15.6248 725.742 Z\" fill=\"#000000\" fill-rule=\"evenodd\" fill-opacity=\"1\" /><path clip-path=\"url(#clip700)\" d=\"M20.1444 658.139 L26.9239 658.139 Q23.9002 661.385 22.4043 665.077 Q20.9083 668.737 20.9083 672.875 Q20.9083 681.023 25.9054 685.352 Q30.8707 689.681 40.2919 689.681 Q49.6813 689.681 54.6784 685.352 Q59.6436 681.023 59.6436 672.875 Q59.6436 668.737 58.1477 665.077 Q56.6518 661.385 53.6281 658.139 L60.3439 658.139 Q62.6355 661.512 63.7814 665.3 Q64.9272 669.056 64.9272 673.257 Q64.9272 684.047 58.3387 690.254 Q51.7183 696.46 40.2919 696.46 Q28.8336 696.46 22.2451 690.254 Q15.6248 684.047 15.6248 673.257 Q15.6248 668.992 16.7706 665.236 Q17.8846 661.449 20.1444 658.139 Z\" fill=\"#000000\" fill-rule=\"evenodd\" fill-opacity=\"1\" /><path clip-path=\"url(#clip700)\" d=\"M446.559 16.7545 L446.559 25.383 Q442.427 21.5346 437.728 19.6307 Q433.069 17.7268 427.803 17.7268 Q417.433 17.7268 411.923 24.0867 Q406.414 30.4061 406.414 42.3968 Q406.414 54.3469 411.923 60.7069 Q417.433 67.0263 427.803 67.0263 Q433.069 67.0263 437.728 65.1223 Q442.427 63.2184 446.559 59.3701 L446.559 67.9175 Q442.265 70.8341 437.444 72.2924 Q432.664 73.7508 427.317 73.7508 Q413.584 73.7508 405.685 65.3654 Q397.786 56.9395 397.786 42.3968 Q397.786 27.8135 405.685 19.4281 Q413.584 11.0023 427.317 11.0023 Q432.745 11.0023 437.525 12.4606 Q442.346 13.8784 446.559 16.7545 Z\" fill=\"#000000\" fill-rule=\"evenodd\" fill-opacity=\"1\" /><path clip-path=\"url(#clip700)\" d=\"M479.492 49.7694 Q470.459 49.7694 466.975 51.8354 Q463.491 53.9013 463.491 58.8839 Q463.491 62.8538 466.084 65.2034 Q468.717 67.5124 473.214 67.5124 Q479.411 67.5124 483.138 63.1374 Q486.906 58.7219 486.906 51.4303 L486.906 49.7694 L479.492 49.7694 M494.359 46.6907 L494.359 72.576 L486.906 72.576 L486.906 65.6895 Q484.354 69.8214 480.546 71.8063 Q476.738 73.7508 471.229 73.7508 Q464.261 73.7508 460.129 69.8619 Q456.038 65.9325 456.038 59.3701 Q456.038 51.7138 461.142 47.825 Q466.287 43.9361 476.454 43.9361 L486.906 43.9361 L486.906 43.2069 Q486.906 38.0623 483.503 35.2672 Q480.141 32.4315 474.024 32.4315 Q470.135 32.4315 466.449 33.3632 Q462.762 34.295 459.359 36.1584 L459.359 29.2718 Q463.451 27.692 467.299 26.9223 Q471.148 26.1121 474.793 26.1121 Q484.637 26.1121 489.498 31.2163 Q494.359 36.3204 494.359 46.6907 Z\" fill=\"#000000\" fill-rule=\"evenodd\" fill-opacity=\"1\" /><path clip-path=\"url(#clip700)\" d=\"M508.943 54.671 L508.943 27.2059 L516.396 27.2059 L516.396 54.3874 Q516.396 60.8284 518.908 64.0691 Q521.419 67.2693 526.442 67.2693 Q532.478 67.2693 535.962 63.421 Q539.486 59.5726 539.486 52.9291 L539.486 27.2059 L546.94 27.2059 L546.94 72.576 L539.486 72.576 L539.486 65.6084 Q536.772 69.7404 533.167 71.7658 Q529.602 73.7508 524.863 73.7508 Q517.044 73.7508 512.993 68.8897 Q508.943 64.0286 508.943 54.671 M527.698 26.1121 L527.698 26.1121 Z\" fill=\"#000000\" fill-rule=\"evenodd\" fill-opacity=\"1\" /><path clip-path=\"url(#clip700)\" d=\"M591.216 28.5427 L591.216 35.5912 Q588.057 33.9709 584.654 33.1607 Q581.251 32.3505 577.605 32.3505 Q572.056 32.3505 569.261 34.0519 Q566.506 35.7533 566.506 39.156 Q566.506 41.7486 568.491 43.2475 Q570.476 44.7058 576.471 46.0426 L579.023 46.6097 Q586.963 48.3111 590.285 51.4303 Q593.647 54.509 593.647 60.0587 Q593.647 66.3781 588.624 70.0644 Q583.641 73.7508 574.891 73.7508 Q571.245 73.7508 567.276 73.0216 Q563.346 72.3329 558.971 70.9151 L558.971 63.2184 Q563.103 65.3654 567.114 66.4591 Q571.124 67.5124 575.053 67.5124 Q580.319 67.5124 583.155 65.73 Q585.991 63.9071 585.991 60.6258 Q585.991 57.5877 583.925 55.9673 Q581.899 54.3469 574.972 52.8481 L572.38 52.2405 Q565.453 50.7821 562.374 47.7845 Q559.295 44.7463 559.295 39.4801 Q559.295 33.0797 563.832 29.5959 Q568.369 26.1121 576.714 26.1121 Q580.846 26.1121 584.492 26.7198 Q588.138 27.3274 591.216 28.5427 Z\" fill=\"#000000\" fill-rule=\"evenodd\" fill-opacity=\"1\" /><path clip-path=\"url(#clip700)\" d=\"M626.135 49.7694 Q617.102 49.7694 613.618 51.8354 Q610.134 53.9013 610.134 58.8839 Q610.134 62.8538 612.727 65.2034 Q615.36 67.5124 619.856 67.5124 Q626.054 67.5124 629.781 63.1374 Q633.548 58.7219 633.548 51.4303 L633.548 49.7694 L626.135 49.7694 M641.002 46.6907 L641.002 72.576 L633.548 72.576 L633.548 65.6895 Q630.996 69.8214 627.188 71.8063 Q623.381 73.7508 617.871 73.7508 Q610.904 73.7508 606.772 69.8619 Q602.68 65.9325 602.68 59.3701 Q602.68 51.7138 607.785 47.825 Q612.929 43.9361 623.097 43.9361 L633.548 43.9361 L633.548 43.2069 Q633.548 38.0623 630.146 35.2672 Q626.783 32.4315 620.667 32.4315 Q616.778 32.4315 613.091 33.3632 Q609.405 34.295 606.002 36.1584 L606.002 29.2718 Q610.094 27.692 613.942 26.9223 Q617.79 26.1121 621.436 26.1121 Q631.28 26.1121 636.141 31.2163 Q641.002 36.3204 641.002 46.6907 Z\" fill=\"#000000\" fill-rule=\"evenodd\" fill-opacity=\"1\" /><path clip-path=\"url(#clip700)\" d=\"M656.355 9.54393 L663.809 9.54393 L663.809 72.576 L656.355 72.576 L656.355 9.54393 Z\" fill=\"#000000\" fill-rule=\"evenodd\" fill-opacity=\"1\" /><path clip-path=\"url(#clip700)\" d=\"M679.405 27.2059 L686.858 27.2059 L686.858 72.576 L679.405 72.576 L679.405 27.2059 M679.405 9.54393 L686.858 9.54393 L686.858 18.9825 L679.405 18.9825 L679.405 9.54393 Z\" fill=\"#000000\" fill-rule=\"evenodd\" fill-opacity=\"1\" /><path clip-path=\"url(#clip700)\" d=\"M709.827 14.324 L709.827 27.2059 L725.18 27.2059 L725.18 32.9987 L709.827 32.9987 L709.827 57.6282 Q709.827 63.1779 711.326 64.7578 Q712.865 66.3376 717.524 66.3376 L725.18 66.3376 L725.18 72.576 L717.524 72.576 Q708.895 72.576 705.614 69.3758 Q702.333 66.1351 702.333 57.6282 L702.333 32.9987 L696.864 32.9987 L696.864 27.2059 L702.333 27.2059 L702.333 14.324 L709.827 14.324 Z\" fill=\"#000000\" fill-rule=\"evenodd\" fill-opacity=\"1\" /><path clip-path=\"url(#clip700)\" d=\"M753.86 76.7889 Q750.701 84.8907 747.703 87.3618 Q744.705 89.8329 739.682 89.8329 L733.727 89.8329 L733.727 83.5945 L738.102 83.5945 Q741.181 83.5945 742.882 82.1361 Q744.584 80.6778 746.65 75.2496 L747.986 71.8468 L729.636 27.2059 L737.535 27.2059 L751.713 62.6918 L765.891 27.2059 L773.791 27.2059 L753.86 76.7889 Z\" fill=\"#000000\" fill-rule=\"evenodd\" fill-opacity=\"1\" /><path clip-path=\"url(#clip700)\" d=\"M826.371 72.576 L803.281 12.096 L811.829 12.096 L830.989 63.0159 L850.191 12.096 L858.698 12.096 L835.648 72.576 L826.371 72.576 Z\" fill=\"#000000\" fill-rule=\"evenodd\" fill-opacity=\"1\" /><path clip-path=\"url(#clip700)\" d=\"M903.784 14.0809 L903.784 22.0612 Q899.126 19.8332 894.994 18.7395 Q890.862 17.6457 887.013 17.6457 Q880.329 17.6457 876.684 20.2383 Q873.078 22.8309 873.078 27.611 Q873.078 31.6214 875.468 33.6873 Q877.899 35.7128 884.623 36.9686 L889.566 37.9813 Q898.721 39.7232 903.055 44.1387 Q907.43 48.5136 907.43 55.8863 Q907.43 64.6767 901.516 69.2137 Q895.642 73.7508 884.259 73.7508 Q879.965 73.7508 875.104 72.7785 Q870.283 71.8063 865.098 69.9024 L865.098 61.4765 Q870.081 64.2716 874.861 65.6895 Q879.641 67.1073 884.259 67.1073 Q891.267 67.1073 895.075 64.3527 Q898.883 61.598 898.883 56.4939 Q898.883 52.0379 896.128 49.5264 Q893.414 47.0148 887.175 45.759 L882.193 44.7868 Q873.038 42.9639 868.946 39.075 Q864.855 35.1862 864.855 28.2591 Q864.855 20.2383 870.486 15.6203 Q876.157 11.0023 886.082 11.0023 Q890.335 11.0023 894.751 11.7719 Q899.166 12.5416 903.784 14.0809 Z\" fill=\"#000000\" fill-rule=\"evenodd\" fill-opacity=\"1\" /><path clip-path=\"url(#clip700)\" d=\"M982.817 14.0809 L982.817 22.0612 Q978.159 19.8332 974.027 18.7395 Q969.895 17.6457 966.047 17.6457 Q959.363 17.6457 955.717 20.2383 Q952.111 22.8309 952.111 27.611 Q952.111 31.6214 954.502 33.6873 Q956.932 35.7128 963.657 36.9686 L968.599 37.9813 Q977.754 39.7232 982.088 44.1387 Q986.463 48.5136 986.463 55.8863 Q986.463 64.6767 980.549 69.2137 Q974.675 73.7508 963.292 73.7508 Q958.998 73.7508 954.137 72.7785 Q949.316 71.8063 944.131 69.9024 L944.131 61.4765 Q949.114 64.2716 953.894 65.6895 Q958.674 67.1073 963.292 67.1073 Q970.3 67.1073 974.108 64.3527 Q977.916 61.598 977.916 56.4939 Q977.916 52.0379 975.161 49.5264 Q972.447 47.0148 966.209 45.759 L961.226 44.7868 Q952.071 42.9639 947.98 39.075 Q943.888 35.1862 943.888 28.2591 Q943.888 20.2383 949.519 15.6203 Q955.19 11.0023 965.115 11.0023 Q969.368 11.0023 973.784 11.7719 Q978.199 12.5416 982.817 14.0809 Z\" fill=\"#000000\" fill-rule=\"evenodd\" fill-opacity=\"1\" /><path clip-path=\"url(#clip700)\" d=\"M998.899 27.2059 L1006.35 27.2059 L1006.35 72.576 L998.899 72.576 L998.899 27.2059 M998.899 9.54393 L1006.35 9.54393 L1006.35 18.9825 L998.899 18.9825 L998.899 9.54393 Z\" fill=\"#000000\" fill-rule=\"evenodd\" fill-opacity=\"1\" /><path clip-path=\"url(#clip700)\" d=\"M1054.52 49.9314 Q1054.52 41.7081 1051.12 37.0496 Q1047.75 32.3505 1041.84 32.3505 Q1035.92 32.3505 1032.52 37.0496 Q1029.16 41.7081 1029.16 49.9314 Q1029.16 58.1548 1032.52 62.8538 Q1035.92 67.5124 1041.84 67.5124 Q1047.75 67.5124 1051.12 62.8538 Q1054.52 58.1548 1054.52 49.9314 M1029.16 34.0924 Q1031.51 30.0415 1035.07 28.0971 Q1038.68 26.1121 1043.66 26.1121 Q1051.93 26.1121 1057.07 32.6746 Q1062.26 39.2371 1062.26 49.9314 Q1062.26 60.6258 1057.07 67.1883 Q1051.93 73.7508 1043.66 73.7508 Q1038.68 73.7508 1035.07 71.8063 Q1031.51 69.8214 1029.16 65.7705 L1029.16 72.576 L1021.67 72.576 L1021.67 9.54393 L1029.16 9.54393 L1029.16 34.0924 Z\" fill=\"#000000\" fill-rule=\"evenodd\" fill-opacity=\"1\" /><path clip-path=\"url(#clip700)\" d=\"M1121.52 20.1573 L1110.42 50.2555 L1132.66 50.2555 L1121.52 20.1573 M1116.9 12.096 L1126.18 12.096 L1149.23 72.576 L1140.72 72.576 L1135.21 57.061 L1107.95 57.061 L1102.44 72.576 L1093.81 72.576 L1116.9 12.096 Z\" fill=\"#000000\" fill-rule=\"evenodd\" fill-opacity=\"1\" /><path clip-path=\"url(#clip700)\" d=\"M1157.13 12.096 L1165.35 12.096 L1165.35 48.8377 Q1165.35 58.5599 1168.88 62.8538 Q1172.4 67.1073 1180.3 67.1073 Q1188.16 67.1073 1191.68 62.8538 Q1195.21 58.5599 1195.21 48.8377 L1195.21 12.096 L1203.43 12.096 L1203.43 49.8504 Q1203.43 61.6791 1197.56 67.7149 Q1191.72 73.7508 1180.3 73.7508 Q1168.83 73.7508 1162.96 67.7149 Q1157.13 61.6791 1157.13 49.8504 L1157.13 12.096 Z\" fill=\"#000000\" fill-rule=\"evenodd\" fill-opacity=\"1\" /><path clip-path=\"url(#clip700)\" d=\"M1247.46 44.2197 Q1250.1 45.1109 1252.57 48.0275 Q1255.08 50.9442 1257.59 56.0483 L1265.89 72.576 L1257.1 72.576 L1249.37 57.061 Q1246.37 50.9847 1243.53 48.9997 Q1240.74 47.0148 1235.88 47.0148 L1226.97 47.0148 L1226.97 72.576 L1218.78 72.576 L1218.78 12.096 L1237.25 12.096 Q1247.62 12.096 1252.73 16.4305 Q1257.83 20.7649 1257.83 29.5149 Q1257.83 35.2267 1255.16 38.994 Q1252.53 42.7613 1247.46 44.2197 M1226.97 18.8205 L1226.97 40.2903 L1237.25 40.2903 Q1243.17 40.2903 1246.17 37.5762 Q1249.2 34.8216 1249.2 29.5149 Q1249.2 24.2082 1246.17 21.5346 Q1243.17 18.8205 1237.25 18.8205 L1226.97 18.8205 Z\" fill=\"#000000\" fill-rule=\"evenodd\" fill-opacity=\"1\" /><path clip-path=\"url(#clip700)\" d=\"M1300.98 17.6457 Q1292.06 17.6457 1286.8 24.2892 Q1281.57 30.9327 1281.57 42.3968 Q1281.57 53.8203 1286.8 60.4638 Q1292.06 67.1073 1300.98 67.1073 Q1309.89 67.1073 1315.07 60.4638 Q1320.3 53.8203 1320.3 42.3968 Q1320.3 30.9327 1315.07 24.2892 Q1309.89 17.6457 1300.98 17.6457 M1300.98 11.0023 Q1313.7 11.0023 1321.31 19.5497 Q1328.93 28.0566 1328.93 42.3968 Q1328.93 56.6965 1321.31 65.2439 Q1313.7 73.7508 1300.98 73.7508 Q1288.22 73.7508 1280.56 65.2439 Q1272.94 56.737 1272.94 42.3968 Q1272.94 28.0566 1280.56 19.5497 Q1288.22 11.0023 1300.98 11.0023 Z\" fill=\"#000000\" fill-rule=\"evenodd\" fill-opacity=\"1\" /><path clip-path=\"url(#clip700)\" d=\"M1387.02 16.7545 L1387.02 25.383 Q1382.88 21.5346 1378.19 19.6307 Q1373.53 17.7268 1368.26 17.7268 Q1357.89 17.7268 1352.38 24.0867 Q1346.87 30.4061 1346.87 42.3968 Q1346.87 54.3469 1352.38 60.7069 Q1357.89 67.0263 1368.26 67.0263 Q1373.53 67.0263 1378.19 65.1223 Q1382.88 63.2184 1387.02 59.3701 L1387.02 67.9175 Q1382.72 70.8341 1377.9 72.2924 Q1373.12 73.7508 1367.77 73.7508 Q1354.04 73.7508 1346.14 65.3654 Q1338.24 56.9395 1338.24 42.3968 Q1338.24 27.8135 1346.14 19.4281 Q1354.04 11.0023 1367.77 11.0023 Q1373.2 11.0023 1377.98 12.4606 Q1382.8 13.8784 1387.02 16.7545 Z\" fill=\"#000000\" fill-rule=\"evenodd\" fill-opacity=\"1\" /><path clip-path=\"url(#clip700)\" d=\"M1425.7 27.2059 L1433.16 27.2059 L1433.16 72.576 L1425.7 72.576 L1425.7 27.2059 M1425.7 9.54393 L1433.16 9.54393 L1433.16 18.9825 L1425.7 18.9825 L1425.7 9.54393 Z\" fill=\"#000000\" fill-rule=\"evenodd\" fill-opacity=\"1\" /><path clip-path=\"url(#clip700)\" d=\"M1486.47 45.1919 L1486.47 72.576 L1479.01 72.576 L1479.01 45.4349 Q1479.01 38.994 1476.5 35.7938 Q1473.99 32.5936 1468.97 32.5936 Q1462.93 32.5936 1459.45 36.4419 Q1455.96 40.2903 1455.96 46.9338 L1455.96 72.576 L1448.47 72.576 L1448.47 27.2059 L1455.96 27.2059 L1455.96 34.2544 Q1458.64 30.163 1462.24 28.1376 Q1465.89 26.1121 1470.63 26.1121 Q1478.45 26.1121 1482.46 30.9732 Q1486.47 35.7938 1486.47 45.1919 Z\" fill=\"#000000\" fill-rule=\"evenodd\" fill-opacity=\"1\" /><path clip-path=\"url(#clip700)\" d=\"M1550.67 9.54393 L1550.67 15.7418 L1543.54 15.7418 Q1539.53 15.7418 1537.95 17.3622 Q1536.41 18.9825 1536.41 23.1955 L1536.41 27.2059 L1548.69 27.2059 L1548.69 32.9987 L1536.41 32.9987 L1536.41 72.576 L1528.92 72.576 L1528.92 32.9987 L1521.79 32.9987 L1521.79 27.2059 L1528.92 27.2059 L1528.92 24.0462 Q1528.92 16.471 1532.44 13.0277 Q1535.97 9.54393 1543.62 9.54393 L1550.67 9.54393 Z\" fill=\"#000000\" fill-rule=\"evenodd\" fill-opacity=\"1\" /><path clip-path=\"url(#clip700)\" d=\"M1556.14 54.671 L1556.14 27.2059 L1563.6 27.2059 L1563.6 54.3874 Q1563.6 60.8284 1566.11 64.0691 Q1568.62 67.2693 1573.64 67.2693 Q1579.68 67.2693 1583.16 63.421 Q1586.69 59.5726 1586.69 52.9291 L1586.69 27.2059 L1594.14 27.2059 L1594.14 72.576 L1586.69 72.576 L1586.69 65.6084 Q1583.97 69.7404 1580.37 71.7658 Q1576.8 73.7508 1572.06 73.7508 Q1564.24 73.7508 1560.19 68.8897 Q1556.14 64.0286 1556.14 54.671 M1574.9 26.1121 L1574.9 26.1121 Z\" fill=\"#000000\" fill-rule=\"evenodd\" fill-opacity=\"1\" /><path clip-path=\"url(#clip700)\" d=\"M1647.21 45.1919 L1647.21 72.576 L1639.75 72.576 L1639.75 45.4349 Q1639.75 38.994 1637.24 35.7938 Q1634.73 32.5936 1629.71 32.5936 Q1623.67 32.5936 1620.19 36.4419 Q1616.7 40.2903 1616.7 46.9338 L1616.7 72.576 L1609.21 72.576 L1609.21 27.2059 L1616.7 27.2059 L1616.7 34.2544 Q1619.38 30.163 1622.98 28.1376 Q1626.63 26.1121 1631.37 26.1121 Q1639.19 26.1121 1643.2 30.9732 Q1647.21 35.7938 1647.21 45.1919 Z\" fill=\"#000000\" fill-rule=\"evenodd\" fill-opacity=\"1\" /><path clip-path=\"url(#clip700)\" d=\"M1694.72 28.9478 L1694.72 35.9153 Q1691.56 34.1734 1688.36 33.3227 Q1685.2 32.4315 1681.96 32.4315 Q1674.71 32.4315 1670.7 37.0496 Q1666.69 41.6271 1666.69 49.9314 Q1666.69 58.2358 1670.7 62.8538 Q1674.71 67.4314 1681.96 67.4314 Q1685.2 67.4314 1688.36 66.5807 Q1691.56 65.6895 1694.72 63.9476 L1694.72 70.8341 Q1691.6 72.2924 1688.24 73.0216 Q1684.92 73.7508 1681.15 73.7508 Q1670.9 73.7508 1664.87 67.3098 Q1658.83 60.8689 1658.83 49.9314 Q1658.83 38.832 1664.91 32.472 Q1671.03 26.1121 1681.64 26.1121 Q1685.08 26.1121 1688.36 26.8413 Q1691.64 27.5299 1694.72 28.9478 Z\" fill=\"#000000\" fill-rule=\"evenodd\" fill-opacity=\"1\" /><path clip-path=\"url(#clip700)\" d=\"M1715.06 14.324 L1715.06 27.2059 L1730.41 27.2059 L1730.41 32.9987 L1715.06 32.9987 L1715.06 57.6282 Q1715.06 63.1779 1716.56 64.7578 Q1718.1 66.3376 1722.76 66.3376 L1730.41 66.3376 L1730.41 72.576 L1722.76 72.576 Q1714.13 72.576 1710.85 69.3758 Q1707.56 66.1351 1707.56 57.6282 L1707.56 32.9987 L1702.1 32.9987 L1702.1 27.2059 L1707.56 27.2059 L1707.56 14.324 L1715.06 14.324 Z\" fill=\"#000000\" fill-rule=\"evenodd\" fill-opacity=\"1\" /><path clip-path=\"url(#clip700)\" d=\"M1740.21 27.2059 L1747.67 27.2059 L1747.67 72.576 L1740.21 72.576 L1740.21 27.2059 M1740.21 9.54393 L1747.67 9.54393 L1747.67 18.9825 L1740.21 18.9825 L1740.21 9.54393 Z\" fill=\"#000000\" fill-rule=\"evenodd\" fill-opacity=\"1\" /><path clip-path=\"url(#clip700)\" d=\"M1780.85 32.4315 Q1774.85 32.4315 1771.37 37.1306 Q1767.88 41.7891 1767.88 49.9314 Q1767.88 58.0738 1771.33 62.7728 Q1774.81 67.4314 1780.85 67.4314 Q1786.8 67.4314 1790.28 62.7323 Q1793.77 58.0333 1793.77 49.9314 Q1793.77 41.8701 1790.28 37.1711 Q1786.8 32.4315 1780.85 32.4315 M1780.85 26.1121 Q1790.57 26.1121 1796.12 32.4315 Q1801.67 38.7509 1801.67 49.9314 Q1801.67 61.0714 1796.12 67.4314 Q1790.57 73.7508 1780.85 73.7508 Q1771.08 73.7508 1765.53 67.4314 Q1760.02 61.0714 1760.02 49.9314 Q1760.02 38.7509 1765.53 32.4315 Q1771.08 26.1121 1780.85 26.1121 Z\" fill=\"#000000\" fill-rule=\"evenodd\" fill-opacity=\"1\" /><path clip-path=\"url(#clip700)\" d=\"M1851.74 45.1919 L1851.74 72.576 L1844.28 72.576 L1844.28 45.4349 Q1844.28 38.994 1841.77 35.7938 Q1839.26 32.5936 1834.24 32.5936 Q1828.2 32.5936 1824.72 36.4419 Q1821.23 40.2903 1821.23 46.9338 L1821.23 72.576 L1813.74 72.576 L1813.74 27.2059 L1821.23 27.2059 L1821.23 34.2544 Q1823.91 30.163 1827.51 28.1376 Q1831.16 26.1121 1835.9 26.1121 Q1843.72 26.1121 1847.73 30.9732 Q1851.74 35.7938 1851.74 45.1919 Z\" fill=\"#000000\" fill-rule=\"evenodd\" fill-opacity=\"1\" /><path clip-path=\"url(#clip700)\" d=\"M1910.56 32.4315 Q1904.56 32.4315 1901.08 37.1306 Q1897.59 41.7891 1897.59 49.9314 Q1897.59 58.0738 1901.04 62.7728 Q1904.52 67.4314 1910.56 67.4314 Q1916.51 67.4314 1919.99 62.7323 Q1923.48 58.0333 1923.48 49.9314 Q1923.48 41.8701 1919.99 37.1711 Q1916.51 32.4315 1910.56 32.4315 M1910.56 26.1121 Q1920.28 26.1121 1925.83 32.4315 Q1931.38 38.7509 1931.38 49.9314 Q1931.38 61.0714 1925.83 67.4314 Q1920.28 73.7508 1910.56 73.7508 Q1900.79 73.7508 1895.24 67.4314 Q1889.73 61.0714 1889.73 49.9314 Q1889.73 38.7509 1895.24 32.4315 Q1900.79 26.1121 1910.56 26.1121 Z\" fill=\"#000000\" fill-rule=\"evenodd\" fill-opacity=\"1\" /><path clip-path=\"url(#clip700)\" d=\"M1966.7 9.54393 L1966.7 15.7418 L1959.57 15.7418 Q1955.56 15.7418 1953.98 17.3622 Q1952.44 18.9825 1952.44 23.1955 L1952.44 27.2059 L1964.72 27.2059 L1964.72 32.9987 L1952.44 32.9987 L1952.44 72.576 L1944.95 72.576 L1944.95 32.9987 L1937.82 32.9987 L1937.82 27.2059 L1944.95 27.2059 L1944.95 24.0462 Q1944.95 16.471 1948.47 13.0277 Q1952 9.54393 1959.65 9.54393 L1966.7 9.54393 Z\" fill=\"#000000\" fill-rule=\"evenodd\" fill-opacity=\"1\" /><path clip-path=\"url(#clip700)\" d=\"M2006.68 14.324 L2006.68 27.2059 L2022.04 27.2059 L2022.04 32.9987 L2006.68 32.9987 L2006.68 57.6282 Q2006.68 63.1779 2008.18 64.7578 Q2009.72 66.3376 2014.38 66.3376 L2022.04 66.3376 L2022.04 72.576 L2014.38 72.576 Q2005.75 72.576 2002.47 69.3758 Q1999.19 66.1351 1999.19 57.6282 L1999.19 32.9987 L1993.72 32.9987 L1993.72 27.2059 L1999.19 27.2059 L1999.19 14.324 L2006.68 14.324 Z\" fill=\"#000000\" fill-rule=\"evenodd\" fill-opacity=\"1\" /><path clip-path=\"url(#clip700)\" d=\"M2031.84 27.2059 L2039.29 27.2059 L2039.29 72.576 L2031.84 72.576 L2031.84 27.2059 M2031.84 9.54393 L2039.29 9.54393 L2039.29 18.9825 L2031.84 18.9825 L2031.84 9.54393 Z\" fill=\"#000000\" fill-rule=\"evenodd\" fill-opacity=\"1\" /><path clip-path=\"url(#clip700)\" d=\"M2090.21 35.9153 Q2093.01 30.8922 2096.9 28.5022 Q2100.79 26.1121 2106.05 26.1121 Q2113.14 26.1121 2116.99 31.0947 Q2120.84 36.0368 2120.84 45.1919 L2120.84 72.576 L2113.34 72.576 L2113.34 45.4349 Q2113.34 38.913 2111.03 35.7533 Q2108.73 32.5936 2103.99 32.5936 Q2098.19 32.5936 2094.83 36.4419 Q2091.47 40.2903 2091.47 46.9338 L2091.47 72.576 L2083.97 72.576 L2083.97 45.4349 Q2083.97 38.8725 2081.67 35.7533 Q2079.36 32.5936 2074.54 32.5936 Q2068.82 32.5936 2065.46 36.4824 Q2062.1 40.3308 2062.1 46.9338 L2062.1 72.576 L2054.61 72.576 L2054.61 27.2059 L2062.1 27.2059 L2062.1 34.2544 Q2064.65 30.082 2068.22 28.0971 Q2071.78 26.1121 2076.68 26.1121 Q2081.63 26.1121 2085.07 28.6237 Q2088.55 31.1352 2090.21 35.9153 Z\" fill=\"#000000\" fill-rule=\"evenodd\" fill-opacity=\"1\" /><path clip-path=\"url(#clip700)\" d=\"M2174.51 48.0275 L2174.51 51.6733 L2140.24 51.6733 Q2140.73 59.3701 2144.86 63.421 Q2149.03 67.4314 2156.45 67.4314 Q2160.74 67.4314 2164.75 66.3781 Q2168.8 65.3249 2172.77 63.2184 L2172.77 70.267 Q2168.76 71.9684 2164.55 72.8596 Q2160.33 73.7508 2156 73.7508 Q2145.14 73.7508 2138.78 67.4314 Q2132.46 61.1119 2132.46 50.3365 Q2132.46 39.1965 2138.46 32.6746 Q2144.5 26.1121 2154.7 26.1121 Q2163.86 26.1121 2169.17 32.0264 Q2174.51 37.9003 2174.51 48.0275 M2167.06 45.84 Q2166.98 39.7232 2163.62 36.0774 Q2160.29 32.4315 2154.78 32.4315 Q2148.55 32.4315 2144.78 35.9558 Q2141.05 39.4801 2140.48 45.8805 L2167.06 45.84 Z\" fill=\"#000000\" fill-rule=\"evenodd\" fill-opacity=\"1\" /><polyline clip-path=\"url(#clip702)\" style=\"stroke:#009af9; stroke-linecap:butt; stroke-linejoin:round; stroke-width:4; stroke-opacity:1; fill:none\" points=\"\n",
       "  279.916,735.099 385.835,781.706 491.755,719.906 597.674,695.889 703.593,698.772 809.512,640.497 915.432,512.193 1021.35,403.756 1127.27,347.258 1233.19,291.752 \n",
       "  1339.11,231.776 1445.03,200.413 1550.95,180.69 1656.87,180.327 1762.79,190.45 1868.7,186.695 1974.62,215.251 2080.54,246.1 2186.46,238.897 2292.38,241.116 \n",
       "  \n",
       "  \"/>\n",
       "<polyline clip-path=\"url(#clip702)\" style=\"stroke:#e26f46; stroke-linecap:butt; stroke-linejoin:round; stroke-width:4; stroke-opacity:1; fill:none\" points=\"\n",
       "  279.916,483.375 385.835,606.01 491.755,635.707 597.674,660.745 703.593,676.893 809.512,585.236 915.432,448.501 1021.35,310.104 1127.27,230.931 1233.19,196.597 \n",
       "  1339.11,178.643 1445.03,172.067 1550.95,166.757 1656.87,164.706 1762.79,162.541 1868.7,159.649 1974.62,170.327 2080.54,191.039 2186.46,184.385 2292.38,165.691 \n",
       "  \n",
       "  \"/>\n",
       "<polyline clip-path=\"url(#clip702)\" style=\"stroke:#3da44d; stroke-linecap:butt; stroke-linejoin:round; stroke-width:4; stroke-opacity:1; fill:none\" points=\"\n",
       "  279.916,594.675 385.835,654.478 491.755,602.086 597.674,579.596 703.593,582.376 809.512,516.701 915.432,415.038 1021.35,315.589 1127.27,262.297 1233.19,224.608 \n",
       "  1339.11,203.558 1445.03,191.987 1550.95,185.473 1656.87,178.168 1762.79,187.838 1868.7,196.13 1974.62,220.522 2080.54,241.857 2186.46,227.035 2292.38,209.513 \n",
       "  \n",
       "  \"/>\n",
       "<polyline clip-path=\"url(#clip702)\" style=\"stroke:#c271d2; stroke-linecap:butt; stroke-linejoin:round; stroke-width:4; stroke-opacity:1; fill:none\" points=\"\n",
       "  279.916,542.666 385.835,549.787 491.755,525.325 597.674,520.046 703.593,534.899 809.512,485.036 915.432,366.764 1021.35,259.723 1127.27,214.852 1233.19,196.016 \n",
       "  1339.11,181.212 1445.03,170.963 1550.95,168.546 1656.87,160.472 1762.79,160.321 1868.7,160.233 1974.62,178.827 2080.54,200.773 2186.46,196.563 2292.38,187.241 \n",
       "  \n",
       "  \"/>\n",
       "<circle clip-path=\"url(#clip702)\" cx=\"279.916\" cy=\"1261.43\" r=\"14\" fill=\"#ac8d18\" fill-rule=\"evenodd\" fill-opacity=\"1\" stroke=\"#000000\" stroke-opacity=\"1\" stroke-width=\"3.2\"/>\n",
       "<circle clip-path=\"url(#clip702)\" cx=\"385.835\" cy=\"1329.88\" r=\"14\" fill=\"#ac8d18\" fill-rule=\"evenodd\" fill-opacity=\"1\" stroke=\"#000000\" stroke-opacity=\"1\" stroke-width=\"3.2\"/>\n",
       "<circle clip-path=\"url(#clip702)\" cx=\"491.755\" cy=\"1345.9\" r=\"14\" fill=\"#ac8d18\" fill-rule=\"evenodd\" fill-opacity=\"1\" stroke=\"#000000\" stroke-opacity=\"1\" stroke-width=\"3.2\"/>\n",
       "<circle clip-path=\"url(#clip702)\" cx=\"597.674\" cy=\"1327.39\" r=\"14\" fill=\"#ac8d18\" fill-rule=\"evenodd\" fill-opacity=\"1\" stroke=\"#000000\" stroke-opacity=\"1\" stroke-width=\"3.2\"/>\n",
       "<circle clip-path=\"url(#clip702)\" cx=\"703.593\" cy=\"1345.07\" r=\"14\" fill=\"#ac8d18\" fill-rule=\"evenodd\" fill-opacity=\"1\" stroke=\"#000000\" stroke-opacity=\"1\" stroke-width=\"3.2\"/>\n",
       "<circle clip-path=\"url(#clip702)\" cx=\"809.512\" cy=\"1397.67\" r=\"14\" fill=\"#ac8d18\" fill-rule=\"evenodd\" fill-opacity=\"1\" stroke=\"#000000\" stroke-opacity=\"1\" stroke-width=\"3.2\"/>\n",
       "<circle clip-path=\"url(#clip702)\" cx=\"915.432\" cy=\"1420.59\" r=\"14\" fill=\"#ac8d18\" fill-rule=\"evenodd\" fill-opacity=\"1\" stroke=\"#000000\" stroke-opacity=\"1\" stroke-width=\"3.2\"/>\n",
       "<circle clip-path=\"url(#clip702)\" cx=\"1127.27\" cy=\"1417.58\" r=\"14\" fill=\"#ac8d18\" fill-rule=\"evenodd\" fill-opacity=\"1\" stroke=\"#000000\" stroke-opacity=\"1\" stroke-width=\"3.2\"/>\n",
       "<circle clip-path=\"url(#clip702)\" cx=\"1233.19\" cy=\"1415.23\" r=\"14\" fill=\"#ac8d18\" fill-rule=\"evenodd\" fill-opacity=\"1\" stroke=\"#000000\" stroke-opacity=\"1\" stroke-width=\"3.2\"/>\n",
       "<circle clip-path=\"url(#clip702)\" cx=\"1339.11\" cy=\"1420.16\" r=\"14\" fill=\"#ac8d18\" fill-rule=\"evenodd\" fill-opacity=\"1\" stroke=\"#000000\" stroke-opacity=\"1\" stroke-width=\"3.2\"/>\n",
       "<circle clip-path=\"url(#clip702)\" cx=\"1445.03\" cy=\"1401.71\" r=\"14\" fill=\"#ac8d18\" fill-rule=\"evenodd\" fill-opacity=\"1\" stroke=\"#000000\" stroke-opacity=\"1\" stroke-width=\"3.2\"/>\n",
       "<circle clip-path=\"url(#clip702)\" cx=\"1550.95\" cy=\"1402.78\" r=\"14\" fill=\"#ac8d18\" fill-rule=\"evenodd\" fill-opacity=\"1\" stroke=\"#000000\" stroke-opacity=\"1\" stroke-width=\"3.2\"/>\n",
       "<circle clip-path=\"url(#clip702)\" cx=\"1762.79\" cy=\"1421.9\" r=\"14\" fill=\"#ac8d18\" fill-rule=\"evenodd\" fill-opacity=\"1\" stroke=\"#000000\" stroke-opacity=\"1\" stroke-width=\"3.2\"/>\n",
       "<circle clip-path=\"url(#clip702)\" cx=\"279.916\" cy=\"1340.49\" r=\"14\" fill=\"#00a9ad\" fill-rule=\"evenodd\" fill-opacity=\"1\" stroke=\"#000000\" stroke-opacity=\"1\" stroke-width=\"3.2\"/>\n",
       "<circle clip-path=\"url(#clip702)\" cx=\"385.835\" cy=\"1231.73\" r=\"14\" fill=\"#00a9ad\" fill-rule=\"evenodd\" fill-opacity=\"1\" stroke=\"#000000\" stroke-opacity=\"1\" stroke-width=\"3.2\"/>\n",
       "<circle clip-path=\"url(#clip702)\" cx=\"491.755\" cy=\"1139.27\" r=\"14\" fill=\"#00a9ad\" fill-rule=\"evenodd\" fill-opacity=\"1\" stroke=\"#000000\" stroke-opacity=\"1\" stroke-width=\"3.2\"/>\n",
       "<circle clip-path=\"url(#clip702)\" cx=\"597.674\" cy=\"1133.48\" r=\"14\" fill=\"#00a9ad\" fill-rule=\"evenodd\" fill-opacity=\"1\" stroke=\"#000000\" stroke-opacity=\"1\" stroke-width=\"3.2\"/>\n",
       "<circle clip-path=\"url(#clip702)\" cx=\"703.593\" cy=\"1146.3\" r=\"14\" fill=\"#00a9ad\" fill-rule=\"evenodd\" fill-opacity=\"1\" stroke=\"#000000\" stroke-opacity=\"1\" stroke-width=\"3.2\"/>\n",
       "<circle clip-path=\"url(#clip702)\" cx=\"809.512\" cy=\"1069.06\" r=\"14\" fill=\"#00a9ad\" fill-rule=\"evenodd\" fill-opacity=\"1\" stroke=\"#000000\" stroke-opacity=\"1\" stroke-width=\"3.2\"/>\n",
       "<circle clip-path=\"url(#clip702)\" cx=\"915.432\" cy=\"742.456\" r=\"14\" fill=\"#00a9ad\" fill-rule=\"evenodd\" fill-opacity=\"1\" stroke=\"#000000\" stroke-opacity=\"1\" stroke-width=\"3.2\"/>\n",
       "<circle clip-path=\"url(#clip702)\" cx=\"1021.35\" cy=\"603.044\" r=\"14\" fill=\"#00a9ad\" fill-rule=\"evenodd\" fill-opacity=\"1\" stroke=\"#000000\" stroke-opacity=\"1\" stroke-width=\"3.2\"/>\n",
       "<circle clip-path=\"url(#clip702)\" cx=\"1127.27\" cy=\"470.307\" r=\"14\" fill=\"#00a9ad\" fill-rule=\"evenodd\" fill-opacity=\"1\" stroke=\"#000000\" stroke-opacity=\"1\" stroke-width=\"3.2\"/>\n",
       "<circle clip-path=\"url(#clip702)\" cx=\"1233.19\" cy=\"422.098\" r=\"14\" fill=\"#00a9ad\" fill-rule=\"evenodd\" fill-opacity=\"1\" stroke=\"#000000\" stroke-opacity=\"1\" stroke-width=\"3.2\"/>\n",
       "<circle clip-path=\"url(#clip702)\" cx=\"1339.11\" cy=\"347.83\" r=\"14\" fill=\"#00a9ad\" fill-rule=\"evenodd\" fill-opacity=\"1\" stroke=\"#000000\" stroke-opacity=\"1\" stroke-width=\"3.2\"/>\n",
       "<circle clip-path=\"url(#clip702)\" cx=\"1445.03\" cy=\"274.489\" r=\"14\" fill=\"#00a9ad\" fill-rule=\"evenodd\" fill-opacity=\"1\" stroke=\"#000000\" stroke-opacity=\"1\" stroke-width=\"3.2\"/>\n",
       "<circle clip-path=\"url(#clip702)\" cx=\"1550.95\" cy=\"215.792\" r=\"14\" fill=\"#00a9ad\" fill-rule=\"evenodd\" fill-opacity=\"1\" stroke=\"#000000\" stroke-opacity=\"1\" stroke-width=\"3.2\"/>\n",
       "<circle clip-path=\"url(#clip702)\" cx=\"1656.87\" cy=\"219.869\" r=\"14\" fill=\"#00a9ad\" fill-rule=\"evenodd\" fill-opacity=\"1\" stroke=\"#000000\" stroke-opacity=\"1\" stroke-width=\"3.2\"/>\n",
       "<circle clip-path=\"url(#clip702)\" cx=\"1762.79\" cy=\"196.981\" r=\"14\" fill=\"#00a9ad\" fill-rule=\"evenodd\" fill-opacity=\"1\" stroke=\"#000000\" stroke-opacity=\"1\" stroke-width=\"3.2\"/>\n",
       "<circle clip-path=\"url(#clip702)\" cx=\"1868.7\" cy=\"228.882\" r=\"14\" fill=\"#00a9ad\" fill-rule=\"evenodd\" fill-opacity=\"1\" stroke=\"#000000\" stroke-opacity=\"1\" stroke-width=\"3.2\"/>\n",
       "<circle clip-path=\"url(#clip702)\" cx=\"1974.62\" cy=\"250.393\" r=\"14\" fill=\"#00a9ad\" fill-rule=\"evenodd\" fill-opacity=\"1\" stroke=\"#000000\" stroke-opacity=\"1\" stroke-width=\"3.2\"/>\n",
       "<circle clip-path=\"url(#clip702)\" cx=\"2080.54\" cy=\"270.81\" r=\"14\" fill=\"#00a9ad\" fill-rule=\"evenodd\" fill-opacity=\"1\" stroke=\"#000000\" stroke-opacity=\"1\" stroke-width=\"3.2\"/>\n",
       "<circle clip-path=\"url(#clip702)\" cx=\"2186.46\" cy=\"235.576\" r=\"14\" fill=\"#00a9ad\" fill-rule=\"evenodd\" fill-opacity=\"1\" stroke=\"#000000\" stroke-opacity=\"1\" stroke-width=\"3.2\"/>\n",
       "<circle clip-path=\"url(#clip702)\" cx=\"2292.38\" cy=\"175.563\" r=\"14\" fill=\"#00a9ad\" fill-rule=\"evenodd\" fill-opacity=\"1\" stroke=\"#000000\" stroke-opacity=\"1\" stroke-width=\"3.2\"/>\n",
       "<circle clip-path=\"url(#clip702)\" cx=\"279.916\" cy=\"1261.43\" r=\"14\" fill=\"#ed5d92\" fill-rule=\"evenodd\" fill-opacity=\"1\" stroke=\"#000000\" stroke-opacity=\"1\" stroke-width=\"3.2\"/>\n",
       "<circle clip-path=\"url(#clip702)\" cx=\"385.835\" cy=\"1329.88\" r=\"14\" fill=\"#ed5d92\" fill-rule=\"evenodd\" fill-opacity=\"1\" stroke=\"#000000\" stroke-opacity=\"1\" stroke-width=\"3.2\"/>\n",
       "<circle clip-path=\"url(#clip702)\" cx=\"491.755\" cy=\"1345.9\" r=\"14\" fill=\"#ed5d92\" fill-rule=\"evenodd\" fill-opacity=\"1\" stroke=\"#000000\" stroke-opacity=\"1\" stroke-width=\"3.2\"/>\n",
       "<circle clip-path=\"url(#clip702)\" cx=\"597.674\" cy=\"1327.39\" r=\"14\" fill=\"#ed5d92\" fill-rule=\"evenodd\" fill-opacity=\"1\" stroke=\"#000000\" stroke-opacity=\"1\" stroke-width=\"3.2\"/>\n",
       "<circle clip-path=\"url(#clip702)\" cx=\"703.593\" cy=\"1345.07\" r=\"14\" fill=\"#ed5d92\" fill-rule=\"evenodd\" fill-opacity=\"1\" stroke=\"#000000\" stroke-opacity=\"1\" stroke-width=\"3.2\"/>\n",
       "<circle clip-path=\"url(#clip702)\" cx=\"809.512\" cy=\"1397.67\" r=\"14\" fill=\"#ed5d92\" fill-rule=\"evenodd\" fill-opacity=\"1\" stroke=\"#000000\" stroke-opacity=\"1\" stroke-width=\"3.2\"/>\n",
       "<circle clip-path=\"url(#clip702)\" cx=\"915.432\" cy=\"1420.59\" r=\"14\" fill=\"#ed5d92\" fill-rule=\"evenodd\" fill-opacity=\"1\" stroke=\"#000000\" stroke-opacity=\"1\" stroke-width=\"3.2\"/>\n",
       "<circle clip-path=\"url(#clip702)\" cx=\"1127.27\" cy=\"1417.58\" r=\"14\" fill=\"#ed5d92\" fill-rule=\"evenodd\" fill-opacity=\"1\" stroke=\"#000000\" stroke-opacity=\"1\" stroke-width=\"3.2\"/>\n",
       "<circle clip-path=\"url(#clip702)\" cx=\"1233.19\" cy=\"1415.23\" r=\"14\" fill=\"#ed5d92\" fill-rule=\"evenodd\" fill-opacity=\"1\" stroke=\"#000000\" stroke-opacity=\"1\" stroke-width=\"3.2\"/>\n",
       "<circle clip-path=\"url(#clip702)\" cx=\"1339.11\" cy=\"1420.16\" r=\"14\" fill=\"#ed5d92\" fill-rule=\"evenodd\" fill-opacity=\"1\" stroke=\"#000000\" stroke-opacity=\"1\" stroke-width=\"3.2\"/>\n",
       "<circle clip-path=\"url(#clip702)\" cx=\"1445.03\" cy=\"1401.71\" r=\"14\" fill=\"#ed5d92\" fill-rule=\"evenodd\" fill-opacity=\"1\" stroke=\"#000000\" stroke-opacity=\"1\" stroke-width=\"3.2\"/>\n",
       "<circle clip-path=\"url(#clip702)\" cx=\"1550.95\" cy=\"1402.78\" r=\"14\" fill=\"#ed5d92\" fill-rule=\"evenodd\" fill-opacity=\"1\" stroke=\"#000000\" stroke-opacity=\"1\" stroke-width=\"3.2\"/>\n",
       "<circle clip-path=\"url(#clip702)\" cx=\"1762.79\" cy=\"1421.9\" r=\"14\" fill=\"#ed5d92\" fill-rule=\"evenodd\" fill-opacity=\"1\" stroke=\"#000000\" stroke-opacity=\"1\" stroke-width=\"3.2\"/>\n",
       "<circle clip-path=\"url(#clip702)\" cx=\"279.916\" cy=\"436.567\" r=\"14\" fill=\"#c68125\" fill-rule=\"evenodd\" fill-opacity=\"1\" stroke=\"#000000\" stroke-opacity=\"1\" stroke-width=\"3.2\"/>\n",
       "<circle clip-path=\"url(#clip702)\" cx=\"385.835\" cy=\"409.23\" r=\"14\" fill=\"#c68125\" fill-rule=\"evenodd\" fill-opacity=\"1\" stroke=\"#000000\" stroke-opacity=\"1\" stroke-width=\"3.2\"/>\n",
       "<circle clip-path=\"url(#clip702)\" cx=\"491.755\" cy=\"342.794\" r=\"14\" fill=\"#c68125\" fill-rule=\"evenodd\" fill-opacity=\"1\" stroke=\"#000000\" stroke-opacity=\"1\" stroke-width=\"3.2\"/>\n",
       "<circle clip-path=\"url(#clip702)\" cx=\"597.674\" cy=\"280.626\" r=\"14\" fill=\"#c68125\" fill-rule=\"evenodd\" fill-opacity=\"1\" stroke=\"#000000\" stroke-opacity=\"1\" stroke-width=\"3.2\"/>\n",
       "<circle clip-path=\"url(#clip702)\" cx=\"703.593\" cy=\"250.146\" r=\"14\" fill=\"#c68125\" fill-rule=\"evenodd\" fill-opacity=\"1\" stroke=\"#000000\" stroke-opacity=\"1\" stroke-width=\"3.2\"/>\n",
       "<circle clip-path=\"url(#clip702)\" cx=\"809.512\" cy=\"256.53\" r=\"14\" fill=\"#c68125\" fill-rule=\"evenodd\" fill-opacity=\"1\" stroke=\"#000000\" stroke-opacity=\"1\" stroke-width=\"3.2\"/>\n",
       "<circle clip-path=\"url(#clip702)\" cx=\"915.432\" cy=\"242.61\" r=\"14\" fill=\"#c68125\" fill-rule=\"evenodd\" fill-opacity=\"1\" stroke=\"#000000\" stroke-opacity=\"1\" stroke-width=\"3.2\"/>\n",
       "<circle clip-path=\"url(#clip702)\" cx=\"1021.35\" cy=\"200.963\" r=\"14\" fill=\"#c68125\" fill-rule=\"evenodd\" fill-opacity=\"1\" stroke=\"#000000\" stroke-opacity=\"1\" stroke-width=\"3.2\"/>\n",
       "<circle clip-path=\"url(#clip702)\" cx=\"1127.27\" cy=\"244.329\" r=\"14\" fill=\"#c68125\" fill-rule=\"evenodd\" fill-opacity=\"1\" stroke=\"#000000\" stroke-opacity=\"1\" stroke-width=\"3.2\"/>\n",
       "<circle clip-path=\"url(#clip702)\" cx=\"1233.19\" cy=\"272.912\" r=\"14\" fill=\"#c68125\" fill-rule=\"evenodd\" fill-opacity=\"1\" stroke=\"#000000\" stroke-opacity=\"1\" stroke-width=\"3.2\"/>\n",
       "<circle clip-path=\"url(#clip702)\" cx=\"1339.11\" cy=\"244.54\" r=\"14\" fill=\"#c68125\" fill-rule=\"evenodd\" fill-opacity=\"1\" stroke=\"#000000\" stroke-opacity=\"1\" stroke-width=\"3.2\"/>\n",
       "<circle clip-path=\"url(#clip702)\" cx=\"1445.03\" cy=\"194.809\" r=\"14\" fill=\"#c68125\" fill-rule=\"evenodd\" fill-opacity=\"1\" stroke=\"#000000\" stroke-opacity=\"1\" stroke-width=\"3.2\"/>\n",
       "<circle clip-path=\"url(#clip702)\" cx=\"1550.95\" cy=\"169.336\" r=\"14\" fill=\"#c68125\" fill-rule=\"evenodd\" fill-opacity=\"1\" stroke=\"#000000\" stroke-opacity=\"1\" stroke-width=\"3.2\"/>\n",
       "<circle clip-path=\"url(#clip702)\" cx=\"1656.87\" cy=\"165.595\" r=\"14\" fill=\"#c68125\" fill-rule=\"evenodd\" fill-opacity=\"1\" stroke=\"#000000\" stroke-opacity=\"1\" stroke-width=\"3.2\"/>\n",
       "<circle clip-path=\"url(#clip702)\" cx=\"1762.79\" cy=\"182.091\" r=\"14\" fill=\"#c68125\" fill-rule=\"evenodd\" fill-opacity=\"1\" stroke=\"#000000\" stroke-opacity=\"1\" stroke-width=\"3.2\"/>\n",
       "<circle clip-path=\"url(#clip702)\" cx=\"1868.7\" cy=\"195.816\" r=\"14\" fill=\"#c68125\" fill-rule=\"evenodd\" fill-opacity=\"1\" stroke=\"#000000\" stroke-opacity=\"1\" stroke-width=\"3.2\"/>\n",
       "<circle clip-path=\"url(#clip702)\" cx=\"1974.62\" cy=\"202.002\" r=\"14\" fill=\"#c68125\" fill-rule=\"evenodd\" fill-opacity=\"1\" stroke=\"#000000\" stroke-opacity=\"1\" stroke-width=\"3.2\"/>\n",
       "<circle clip-path=\"url(#clip702)\" cx=\"2080.54\" cy=\"177.86\" r=\"14\" fill=\"#c68125\" fill-rule=\"evenodd\" fill-opacity=\"1\" stroke=\"#000000\" stroke-opacity=\"1\" stroke-width=\"3.2\"/>\n",
       "<circle clip-path=\"url(#clip702)\" cx=\"2186.46\" cy=\"170.677\" r=\"14\" fill=\"#c68125\" fill-rule=\"evenodd\" fill-opacity=\"1\" stroke=\"#000000\" stroke-opacity=\"1\" stroke-width=\"3.2\"/>\n",
       "<circle clip-path=\"url(#clip702)\" cx=\"2292.38\" cy=\"165.932\" r=\"14\" fill=\"#c68125\" fill-rule=\"evenodd\" fill-opacity=\"1\" stroke=\"#000000\" stroke-opacity=\"1\" stroke-width=\"3.2\"/>\n",
       "<path clip-path=\"url(#clip700)\" d=\"\n",
       "M290.649 1379.86 L1090.56 1379.86 L1090.56 913.296 L290.649 913.296  Z\n",
       "  \" fill=\"#ffffff\" fill-rule=\"evenodd\" fill-opacity=\"1\"/>\n",
       "<polyline clip-path=\"url(#clip700)\" style=\"stroke:#000000; stroke-linecap:butt; stroke-linejoin:round; stroke-width:4; stroke-opacity:1; fill:none\" points=\"\n",
       "  290.649,1379.86 1090.56,1379.86 1090.56,913.296 290.649,913.296 290.649,1379.86 \n",
       "  \"/>\n",
       "<polyline clip-path=\"url(#clip700)\" style=\"stroke:#009af9; stroke-linecap:butt; stroke-linejoin:round; stroke-width:4; stroke-opacity:1; fill:none\" points=\"\n",
       "  314.352,965.136 456.566,965.136 \n",
       "  \"/>\n",
       "<path clip-path=\"url(#clip700)\" d=\"M496.102 952.463 L489.759 969.662 L502.467 969.662 L496.102 952.463 M493.463 947.856 L498.764 947.856 L511.935 982.416 L507.074 982.416 L503.926 973.551 L488.347 973.551 L485.199 982.416 L480.268 982.416 L493.463 947.856 Z\" fill=\"#000000\" fill-rule=\"evenodd\" fill-opacity=\"1\" /><path clip-path=\"url(#clip700)\" d=\"M516.449 947.856 L521.148 947.856 L521.148 968.852 Q521.148 974.407 523.162 976.861 Q525.175 979.291 529.689 979.291 Q534.18 979.291 536.194 976.861 Q538.208 974.407 538.208 968.852 L538.208 947.856 L542.907 947.856 L542.907 969.43 Q542.907 976.189 539.55 979.638 Q536.217 983.088 529.689 983.088 Q523.138 983.088 519.782 979.638 Q516.449 976.189 516.449 969.43 L516.449 947.856 Z\" fill=\"#000000\" fill-rule=\"evenodd\" fill-opacity=\"1\" /><path clip-path=\"url(#clip700)\" d=\"M577.559 950.518 L577.559 955.449 Q575.198 953.25 572.513 952.162 Q569.851 951.074 566.842 951.074 Q560.916 951.074 557.768 954.708 Q554.62 958.319 554.62 965.171 Q554.62 972 557.768 975.634 Q560.916 979.245 566.842 979.245 Q569.851 979.245 572.513 978.157 Q575.198 977.069 577.559 974.87 L577.559 979.754 Q575.106 981.421 572.351 982.254 Q569.62 983.088 566.564 983.088 Q558.717 983.088 554.203 978.296 Q549.689 973.481 549.689 965.171 Q549.689 956.838 554.203 952.046 Q558.717 947.231 566.564 947.231 Q569.666 947.231 572.397 948.065 Q575.152 948.875 577.559 950.518 Z\" fill=\"#000000\" fill-rule=\"evenodd\" fill-opacity=\"1\" /><path clip-path=\"url(#clip700)\" d=\"M596.379 969.384 Q591.217 969.384 589.226 970.564 Q587.235 971.745 587.235 974.592 Q587.235 976.861 588.717 978.203 Q590.221 979.523 592.791 979.523 Q596.333 979.523 598.462 977.023 Q600.615 974.5 600.615 970.333 L600.615 969.384 L596.379 969.384 M604.874 967.625 L604.874 982.416 L600.615 982.416 L600.615 978.481 Q599.157 980.842 596.981 981.976 Q594.805 983.088 591.657 983.088 Q587.675 983.088 585.314 980.865 Q582.976 978.62 582.976 974.87 Q582.976 970.495 585.893 968.273 Q588.833 966.051 594.643 966.051 L600.615 966.051 L600.615 965.634 Q600.615 962.694 598.67 961.097 Q596.749 959.477 593.254 959.477 Q591.032 959.477 588.925 960.009 Q586.819 960.541 584.874 961.606 L584.874 957.671 Q587.212 956.768 589.411 956.328 Q591.61 955.865 593.694 955.865 Q599.319 955.865 602.096 958.782 Q604.874 961.699 604.874 967.625 Z\" fill=\"#000000\" fill-rule=\"evenodd\" fill-opacity=\"1\" /><path clip-path=\"url(#clip700)\" d=\"M613.207 972.185 L613.207 956.49 L617.467 956.49 L617.467 972.023 Q617.467 975.703 618.902 977.555 Q620.337 979.384 623.207 979.384 Q626.656 979.384 628.647 977.185 Q630.661 974.986 630.661 971.189 L630.661 956.49 L634.92 956.49 L634.92 982.416 L630.661 982.416 L630.661 978.435 Q629.11 980.796 627.05 981.953 Q625.013 983.088 622.305 983.088 Q617.837 983.088 615.522 980.31 Q613.207 977.532 613.207 972.185 M623.925 955.865 L623.925 955.865 Z\" fill=\"#000000\" fill-rule=\"evenodd\" fill-opacity=\"1\" /><path clip-path=\"url(#clip700)\" d=\"M645.105 978.481 L652.744 978.481 L652.744 952.115 L644.434 953.782 L644.434 949.523 L652.698 947.856 L657.374 947.856 L657.374 978.481 L665.013 978.481 L665.013 982.416 L645.105 982.416 L645.105 978.481 Z\" fill=\"#000000\" fill-rule=\"evenodd\" fill-opacity=\"1\" /><path clip-path=\"url(#clip700)\" d=\"M684.457 950.935 Q680.846 950.935 679.017 954.5 Q677.212 958.041 677.212 965.171 Q677.212 972.277 679.017 975.842 Q680.846 979.384 684.457 979.384 Q688.091 979.384 689.897 975.842 Q691.726 972.277 691.726 965.171 Q691.726 958.041 689.897 954.5 Q688.091 950.935 684.457 950.935 M684.457 947.231 Q690.267 947.231 693.323 951.838 Q696.401 956.421 696.401 965.171 Q696.401 973.898 693.323 978.504 Q690.267 983.088 684.457 983.088 Q678.647 983.088 675.568 978.504 Q672.513 973.898 672.513 965.171 Q672.513 956.421 675.568 951.838 Q678.647 947.231 684.457 947.231 Z\" fill=\"#000000\" fill-rule=\"evenodd\" fill-opacity=\"1\" /><path clip-path=\"url(#clip700)\" d=\"M714.619 950.935 Q711.008 950.935 709.179 954.5 Q707.374 958.041 707.374 965.171 Q707.374 972.277 709.179 975.842 Q711.008 979.384 714.619 979.384 Q718.253 979.384 720.059 975.842 Q721.887 972.277 721.887 965.171 Q721.887 958.041 720.059 954.5 Q718.253 950.935 714.619 950.935 M714.619 947.231 Q720.429 947.231 723.485 951.838 Q726.563 956.421 726.563 965.171 Q726.563 973.898 723.485 978.504 Q720.429 983.088 714.619 983.088 Q708.809 983.088 705.73 978.504 Q702.675 973.898 702.675 965.171 Q702.675 956.421 705.73 951.838 Q708.809 947.231 714.619 947.231 Z\" fill=\"#000000\" fill-rule=\"evenodd\" fill-opacity=\"1\" /><path clip-path=\"url(#clip700)\" d=\"M744.781 950.935 Q741.17 950.935 739.341 954.5 Q737.535 958.041 737.535 965.171 Q737.535 972.277 739.341 975.842 Q741.17 979.384 744.781 979.384 Q748.415 979.384 750.221 975.842 Q752.049 972.277 752.049 965.171 Q752.049 958.041 750.221 954.5 Q748.415 950.935 744.781 950.935 M744.781 947.231 Q750.591 947.231 753.646 951.838 Q756.725 956.421 756.725 965.171 Q756.725 973.898 753.646 978.504 Q750.591 983.088 744.781 983.088 Q738.971 983.088 735.892 978.504 Q732.836 973.898 732.836 965.171 Q732.836 956.421 735.892 951.838 Q738.971 947.231 744.781 947.231 Z\" fill=\"#000000\" fill-rule=\"evenodd\" fill-opacity=\"1\" /><polyline clip-path=\"url(#clip700)\" style=\"stroke:#e26f46; stroke-linecap:butt; stroke-linejoin:round; stroke-width:4; stroke-opacity:1; fill:none\" points=\"\n",
       "  314.352,1016.98 456.566,1016.98 \n",
       "  \"/>\n",
       "<path clip-path=\"url(#clip700)\" d=\"M496.102 1004.3 L489.759 1021.5 L502.467 1021.5 L496.102 1004.3 M493.463 999.696 L498.764 999.696 L511.935 1034.26 L507.074 1034.26 L503.926 1025.39 L488.347 1025.39 L485.199 1034.26 L480.268 1034.26 L493.463 999.696 Z\" fill=\"#000000\" fill-rule=\"evenodd\" fill-opacity=\"1\" /><path clip-path=\"url(#clip700)\" d=\"M516.449 999.696 L521.148 999.696 L521.148 1020.69 Q521.148 1026.25 523.162 1028.7 Q525.175 1031.13 529.689 1031.13 Q534.18 1031.13 536.194 1028.7 Q538.208 1026.25 538.208 1020.69 L538.208 999.696 L542.907 999.696 L542.907 1021.27 Q542.907 1028.03 539.55 1031.48 Q536.217 1034.93 529.689 1034.93 Q523.138 1034.93 519.782 1031.48 Q516.449 1028.03 516.449 1021.27 L516.449 999.696 Z\" fill=\"#000000\" fill-rule=\"evenodd\" fill-opacity=\"1\" /><path clip-path=\"url(#clip700)\" d=\"M577.559 1002.36 L577.559 1007.29 Q575.198 1005.09 572.513 1004 Q569.851 1002.91 566.842 1002.91 Q560.916 1002.91 557.768 1006.55 Q554.62 1010.16 554.62 1017.01 Q554.62 1023.84 557.768 1027.47 Q560.916 1031.08 566.842 1031.08 Q569.851 1031.08 572.513 1030 Q575.198 1028.91 577.559 1026.71 L577.559 1031.59 Q575.106 1033.26 572.351 1034.09 Q569.62 1034.93 566.564 1034.93 Q558.717 1034.93 554.203 1030.14 Q549.689 1025.32 549.689 1017.01 Q549.689 1008.68 554.203 1003.89 Q558.717 999.071 566.564 999.071 Q569.666 999.071 572.397 999.905 Q575.152 1000.71 577.559 1002.36 Z\" fill=\"#000000\" fill-rule=\"evenodd\" fill-opacity=\"1\" /><path clip-path=\"url(#clip700)\" d=\"M596.379 1021.22 Q591.217 1021.22 589.226 1022.4 Q587.235 1023.59 587.235 1026.43 Q587.235 1028.7 588.717 1030.04 Q590.221 1031.36 592.791 1031.36 Q596.333 1031.36 598.462 1028.86 Q600.615 1026.34 600.615 1022.17 L600.615 1021.22 L596.379 1021.22 M604.874 1019.46 L604.874 1034.26 L600.615 1034.26 L600.615 1030.32 Q599.157 1032.68 596.981 1033.82 Q594.805 1034.93 591.657 1034.93 Q587.675 1034.93 585.314 1032.71 Q582.976 1030.46 582.976 1026.71 Q582.976 1022.34 585.893 1020.11 Q588.833 1017.89 594.643 1017.89 L600.615 1017.89 L600.615 1017.47 Q600.615 1014.53 598.67 1012.94 Q596.749 1011.32 593.254 1011.32 Q591.032 1011.32 588.925 1011.85 Q586.819 1012.38 584.874 1013.45 L584.874 1009.51 Q587.212 1008.61 589.411 1008.17 Q591.61 1007.71 593.694 1007.71 Q599.319 1007.71 602.096 1010.62 Q604.874 1013.54 604.874 1019.46 Z\" fill=\"#000000\" fill-rule=\"evenodd\" fill-opacity=\"1\" /><path clip-path=\"url(#clip700)\" d=\"M613.207 1024.02 L613.207 1008.33 L617.467 1008.33 L617.467 1023.86 Q617.467 1027.54 618.902 1029.4 Q620.337 1031.22 623.207 1031.22 Q626.656 1031.22 628.647 1029.02 Q630.661 1026.83 630.661 1023.03 L630.661 1008.33 L634.92 1008.33 L634.92 1034.26 L630.661 1034.26 L630.661 1030.27 Q629.11 1032.64 627.05 1033.79 Q625.013 1034.93 622.305 1034.93 Q617.837 1034.93 615.522 1032.15 Q613.207 1029.37 613.207 1024.02 M623.925 1007.71 L623.925 1007.71 Z\" fill=\"#000000\" fill-rule=\"evenodd\" fill-opacity=\"1\" /><path clip-path=\"url(#clip700)\" d=\"M644.342 999.696 L662.698 999.696 L662.698 1003.63 L648.624 1003.63 L648.624 1012.1 Q649.642 1011.76 650.661 1011.59 Q651.679 1011.41 652.698 1011.41 Q658.485 1011.41 661.865 1014.58 Q665.244 1017.75 665.244 1023.17 Q665.244 1028.75 661.772 1031.85 Q658.3 1034.93 651.98 1034.93 Q649.804 1034.93 647.536 1034.56 Q645.291 1034.19 642.883 1033.45 L642.883 1028.75 Q644.967 1029.88 647.189 1030.44 Q649.411 1030.99 651.888 1030.99 Q655.892 1030.99 658.23 1028.89 Q660.568 1026.78 660.568 1023.17 Q660.568 1019.56 658.23 1017.45 Q655.892 1015.34 651.888 1015.34 Q650.013 1015.34 648.138 1015.76 Q646.286 1016.18 644.342 1017.06 L644.342 999.696 Z\" fill=\"#000000\" fill-rule=\"evenodd\" fill-opacity=\"1\" /><path clip-path=\"url(#clip700)\" d=\"M684.457 1002.77 Q680.846 1002.77 679.017 1006.34 Q677.212 1009.88 677.212 1017.01 Q677.212 1024.12 679.017 1027.68 Q680.846 1031.22 684.457 1031.22 Q688.091 1031.22 689.897 1027.68 Q691.726 1024.12 691.726 1017.01 Q691.726 1009.88 689.897 1006.34 Q688.091 1002.77 684.457 1002.77 M684.457 999.071 Q690.267 999.071 693.323 1003.68 Q696.401 1008.26 696.401 1017.01 Q696.401 1025.74 693.323 1030.34 Q690.267 1034.93 684.457 1034.93 Q678.647 1034.93 675.568 1030.34 Q672.513 1025.74 672.513 1017.01 Q672.513 1008.26 675.568 1003.68 Q678.647 999.071 684.457 999.071 Z\" fill=\"#000000\" fill-rule=\"evenodd\" fill-opacity=\"1\" /><path clip-path=\"url(#clip700)\" d=\"M714.619 1002.77 Q711.008 1002.77 709.179 1006.34 Q707.374 1009.88 707.374 1017.01 Q707.374 1024.12 709.179 1027.68 Q711.008 1031.22 714.619 1031.22 Q718.253 1031.22 720.059 1027.68 Q721.887 1024.12 721.887 1017.01 Q721.887 1009.88 720.059 1006.34 Q718.253 1002.77 714.619 1002.77 M714.619 999.071 Q720.429 999.071 723.485 1003.68 Q726.563 1008.26 726.563 1017.01 Q726.563 1025.74 723.485 1030.34 Q720.429 1034.93 714.619 1034.93 Q708.809 1034.93 705.73 1030.34 Q702.675 1025.74 702.675 1017.01 Q702.675 1008.26 705.73 1003.68 Q708.809 999.071 714.619 999.071 Z\" fill=\"#000000\" fill-rule=\"evenodd\" fill-opacity=\"1\" /><path clip-path=\"url(#clip700)\" d=\"M744.781 1002.77 Q741.17 1002.77 739.341 1006.34 Q737.535 1009.88 737.535 1017.01 Q737.535 1024.12 739.341 1027.68 Q741.17 1031.22 744.781 1031.22 Q748.415 1031.22 750.221 1027.68 Q752.049 1024.12 752.049 1017.01 Q752.049 1009.88 750.221 1006.34 Q748.415 1002.77 744.781 1002.77 M744.781 999.071 Q750.591 999.071 753.646 1003.68 Q756.725 1008.26 756.725 1017.01 Q756.725 1025.74 753.646 1030.34 Q750.591 1034.93 744.781 1034.93 Q738.971 1034.93 735.892 1030.34 Q732.836 1025.74 732.836 1017.01 Q732.836 1008.26 735.892 1003.68 Q738.971 999.071 744.781 999.071 Z\" fill=\"#000000\" fill-rule=\"evenodd\" fill-opacity=\"1\" /><polyline clip-path=\"url(#clip700)\" style=\"stroke:#3da44d; stroke-linecap:butt; stroke-linejoin:round; stroke-width:4; stroke-opacity:1; fill:none\" points=\"\n",
       "  314.352,1068.82 456.566,1068.82 \n",
       "  \"/>\n",
       "<path clip-path=\"url(#clip700)\" d=\"M508.139 1054.2 L508.139 1059.13 Q505.777 1056.93 503.092 1055.84 Q500.43 1054.75 497.421 1054.75 Q491.495 1054.75 488.347 1058.39 Q485.199 1062 485.199 1068.85 Q485.199 1075.68 488.347 1079.31 Q491.495 1082.92 497.421 1082.92 Q500.43 1082.92 503.092 1081.84 Q505.777 1080.75 508.139 1078.55 L508.139 1083.43 Q505.685 1085.1 502.93 1085.93 Q500.199 1086.77 497.143 1086.77 Q489.296 1086.77 484.782 1081.98 Q480.268 1077.16 480.268 1068.85 Q480.268 1060.52 484.782 1055.73 Q489.296 1050.91 497.143 1050.91 Q500.245 1050.91 502.977 1051.74 Q505.731 1052.55 508.139 1054.2 Z\" fill=\"#000000\" fill-rule=\"evenodd\" fill-opacity=\"1\" /><path clip-path=\"url(#clip700)\" d=\"M526.958 1073.06 Q521.796 1073.06 519.805 1074.24 Q517.814 1075.43 517.814 1078.27 Q517.814 1080.54 519.296 1081.88 Q520.801 1083.2 523.37 1083.2 Q526.912 1083.2 529.041 1080.7 Q531.194 1078.18 531.194 1074.01 L531.194 1073.06 L526.958 1073.06 M535.453 1071.3 L535.453 1086.1 L531.194 1086.1 L531.194 1082.16 Q529.736 1084.52 527.56 1085.66 Q525.384 1086.77 522.236 1086.77 Q518.254 1086.77 515.893 1084.55 Q513.555 1082.3 513.555 1078.55 Q513.555 1074.18 516.472 1071.95 Q519.412 1069.73 525.222 1069.73 L531.194 1069.73 L531.194 1069.31 Q531.194 1066.37 529.25 1064.78 Q527.328 1063.16 523.833 1063.16 Q521.611 1063.16 519.504 1063.69 Q517.398 1064.22 515.453 1065.29 L515.453 1061.35 Q517.791 1060.45 519.99 1060.01 Q522.189 1059.55 524.273 1059.55 Q529.898 1059.55 532.675 1062.46 Q535.453 1065.38 535.453 1071.3 Z\" fill=\"#000000\" fill-rule=\"evenodd\" fill-opacity=\"1\" /><path clip-path=\"url(#clip700)\" d=\"M543.786 1075.86 L543.786 1060.17 L548.046 1060.17 L548.046 1075.7 Q548.046 1079.38 549.481 1081.24 Q550.916 1083.06 553.786 1083.06 Q557.235 1083.06 559.226 1080.86 Q561.24 1078.67 561.24 1074.87 L561.24 1060.17 L565.499 1060.17 L565.499 1086.1 L561.24 1086.1 L561.24 1082.11 Q559.689 1084.48 557.629 1085.63 Q555.592 1086.77 552.884 1086.77 Q548.416 1086.77 546.101 1083.99 Q543.786 1081.21 543.786 1075.86 M554.504 1059.55 L554.504 1059.55 Z\" fill=\"#000000\" fill-rule=\"evenodd\" fill-opacity=\"1\" /><path clip-path=\"url(#clip700)\" d=\"M593.971 1093.97 L593.971 1097.28 L569.342 1097.28 L569.342 1093.97 L593.971 1093.97 Z\" fill=\"#000000\" fill-rule=\"evenodd\" fill-opacity=\"1\" /><path clip-path=\"url(#clip700)\" d=\"M598.161 1051.54 L602.837 1051.54 L602.837 1065.7 L619.828 1065.7 L619.828 1051.54 L624.504 1051.54 L624.504 1086.1 L619.828 1086.1 L619.828 1069.64 L602.837 1069.64 L602.837 1086.1 L598.161 1086.1 L598.161 1051.54 Z\" fill=\"#000000\" fill-rule=\"evenodd\" fill-opacity=\"1\" /><path clip-path=\"url(#clip700)\" d=\"M644.411 1088.5 Q642.605 1093.13 640.892 1094.55 Q639.179 1095.96 636.309 1095.96 L632.906 1095.96 L632.906 1092.39 L635.406 1092.39 Q637.166 1092.39 638.138 1091.56 Q639.11 1090.73 640.291 1087.62 L641.054 1085.68 L630.568 1060.17 L635.082 1060.17 L643.184 1080.45 L651.286 1060.17 L655.8 1060.17 L644.411 1088.5 Z\" fill=\"#000000\" fill-rule=\"evenodd\" fill-opacity=\"1\" /><path clip-path=\"url(#clip700)\" d=\"M665.8 1082.21 L665.8 1095.96 L661.517 1095.96 L661.517 1060.17 L665.8 1060.17 L665.8 1064.11 Q667.142 1061.79 669.179 1060.68 Q671.24 1059.55 674.087 1059.55 Q678.809 1059.55 681.749 1063.3 Q684.712 1067.05 684.712 1073.16 Q684.712 1079.27 681.749 1083.02 Q678.809 1086.77 674.087 1086.77 Q671.24 1086.77 669.179 1085.66 Q667.142 1084.52 665.8 1082.21 M680.29 1073.16 Q680.29 1068.46 678.346 1065.8 Q676.425 1063.11 673.045 1063.11 Q669.665 1063.11 667.721 1065.8 Q665.8 1068.46 665.8 1073.16 Q665.8 1077.86 667.721 1080.54 Q669.665 1083.2 673.045 1083.2 Q676.425 1083.2 678.346 1080.54 Q680.29 1077.86 680.29 1073.16 Z\" fill=\"#000000\" fill-rule=\"evenodd\" fill-opacity=\"1\" /><path clip-path=\"url(#clip700)\" d=\"M713.948 1072.07 L713.948 1074.15 L694.364 1074.15 Q694.642 1078.55 697.003 1080.86 Q699.388 1083.16 703.624 1083.16 Q706.077 1083.16 708.369 1082.55 Q710.684 1081.95 712.952 1080.75 L712.952 1084.78 Q710.661 1085.75 708.253 1086.26 Q705.846 1086.77 703.369 1086.77 Q697.165 1086.77 693.531 1083.16 Q689.92 1079.55 689.92 1073.39 Q689.92 1067.02 693.346 1063.3 Q696.795 1059.55 702.628 1059.55 Q707.86 1059.55 710.892 1062.93 Q713.948 1066.28 713.948 1072.07 M709.688 1070.82 Q709.642 1067.32 707.721 1065.24 Q705.823 1063.16 702.675 1063.16 Q699.11 1063.16 696.957 1065.17 Q694.827 1067.18 694.503 1070.84 L709.688 1070.82 Z\" fill=\"#000000\" fill-rule=\"evenodd\" fill-opacity=\"1\" /><path clip-path=\"url(#clip700)\" d=\"M735.961 1064.15 Q735.244 1063.74 734.387 1063.55 Q733.554 1063.34 732.535 1063.34 Q728.924 1063.34 726.98 1065.7 Q725.059 1068.04 725.059 1072.44 L725.059 1086.1 L720.776 1086.1 L720.776 1060.17 L725.059 1060.17 L725.059 1064.2 Q726.401 1061.84 728.554 1060.7 Q730.707 1059.55 733.785 1059.55 Q734.225 1059.55 734.758 1059.61 Q735.29 1059.66 735.938 1059.78 L735.961 1064.15 Z\" fill=\"#000000\" fill-rule=\"evenodd\" fill-opacity=\"1\" /><path clip-path=\"url(#clip700)\" d=\"M760.128 1093.97 L760.128 1097.28 L735.498 1097.28 L735.498 1093.97 L760.128 1093.97 Z\" fill=\"#000000\" fill-rule=\"evenodd\" fill-opacity=\"1\" /><path clip-path=\"url(#clip700)\" d=\"M782.79 1061.17 L782.79 1065.15 Q780.984 1064.15 779.156 1063.67 Q777.35 1063.16 775.498 1063.16 Q771.355 1063.16 769.063 1065.8 Q766.771 1068.41 766.771 1073.16 Q766.771 1077.9 769.063 1080.54 Q771.355 1083.16 775.498 1083.16 Q777.35 1083.16 779.156 1082.67 Q780.984 1082.16 782.79 1081.17 L782.79 1085.1 Q781.007 1085.93 779.086 1086.35 Q777.188 1086.77 775.035 1086.77 Q769.179 1086.77 765.73 1083.09 Q762.281 1079.41 762.281 1073.16 Q762.281 1066.81 765.753 1063.18 Q769.248 1059.55 775.313 1059.55 Q777.281 1059.55 779.156 1059.96 Q781.031 1060.36 782.79 1061.17 Z\" fill=\"#000000\" fill-rule=\"evenodd\" fill-opacity=\"1\" /><path clip-path=\"url(#clip700)\" d=\"M800.243 1063.16 Q796.818 1063.16 794.827 1065.84 Q792.836 1068.5 792.836 1073.16 Q792.836 1077.81 794.804 1080.49 Q796.794 1083.16 800.243 1083.16 Q803.646 1083.16 805.637 1080.47 Q807.628 1077.79 807.628 1073.16 Q807.628 1068.55 805.637 1065.86 Q803.646 1063.16 800.243 1063.16 M800.243 1059.55 Q805.799 1059.55 808.97 1063.16 Q812.142 1066.77 812.142 1073.16 Q812.142 1079.52 808.97 1083.16 Q805.799 1086.77 800.243 1086.77 Q794.665 1086.77 791.493 1083.16 Q788.345 1079.52 788.345 1073.16 Q788.345 1066.77 791.493 1063.16 Q794.665 1059.55 800.243 1059.55 Z\" fill=\"#000000\" fill-rule=\"evenodd\" fill-opacity=\"1\" /><path clip-path=\"url(#clip700)\" d=\"M834.225 1064.15 Q833.507 1063.74 832.651 1063.55 Q831.817 1063.34 830.799 1063.34 Q827.188 1063.34 825.243 1065.7 Q823.322 1068.04 823.322 1072.44 L823.322 1086.1 L819.04 1086.1 L819.04 1060.17 L823.322 1060.17 L823.322 1064.2 Q824.665 1061.84 826.817 1060.7 Q828.97 1059.55 832.049 1059.55 Q832.489 1059.55 833.021 1059.61 Q833.553 1059.66 834.202 1059.78 L834.225 1064.15 Z\" fill=\"#000000\" fill-rule=\"evenodd\" fill-opacity=\"1\" /><path clip-path=\"url(#clip700)\" d=\"M852.882 1064.15 Q852.164 1063.74 851.308 1063.55 Q850.475 1063.34 849.456 1063.34 Q845.845 1063.34 843.901 1065.7 Q841.979 1068.04 841.979 1072.44 L841.979 1086.1 L837.697 1086.1 L837.697 1060.17 L841.979 1060.17 L841.979 1064.2 Q843.322 1061.84 845.475 1060.7 Q847.627 1059.55 850.706 1059.55 Q851.146 1059.55 851.678 1059.61 Q852.211 1059.66 852.859 1059.78 L852.882 1064.15 Z\" fill=\"#000000\" fill-rule=\"evenodd\" fill-opacity=\"1\" /><path clip-path=\"url(#clip700)\" d=\"M878.484 1072.07 L878.484 1074.15 L858.901 1074.15 Q859.178 1078.55 861.539 1080.86 Q863.924 1083.16 868.16 1083.16 Q870.613 1083.16 872.905 1082.55 Q875.22 1081.95 877.488 1080.75 L877.488 1084.78 Q875.197 1085.75 872.789 1086.26 Q870.382 1086.77 867.905 1086.77 Q861.701 1086.77 858.067 1083.16 Q854.456 1079.55 854.456 1073.39 Q854.456 1067.02 857.882 1063.3 Q861.331 1059.55 867.164 1059.55 Q872.396 1059.55 875.428 1062.93 Q878.484 1066.28 878.484 1072.07 M874.225 1070.82 Q874.178 1067.32 872.257 1065.24 Q870.359 1063.16 867.211 1063.16 Q863.646 1063.16 861.493 1065.17 Q859.364 1067.18 859.039 1070.84 L874.225 1070.82 Z\" fill=\"#000000\" fill-rule=\"evenodd\" fill-opacity=\"1\" /><path clip-path=\"url(#clip700)\" d=\"M904.132 1061.17 L904.132 1065.15 Q902.326 1064.15 900.498 1063.67 Q898.692 1063.16 896.84 1063.16 Q892.697 1063.16 890.405 1065.8 Q888.113 1068.41 888.113 1073.16 Q888.113 1077.9 890.405 1080.54 Q892.697 1083.16 896.84 1083.16 Q898.692 1083.16 900.498 1082.67 Q902.326 1082.16 904.132 1081.17 L904.132 1085.1 Q902.349 1085.93 900.428 1086.35 Q898.53 1086.77 896.377 1086.77 Q890.521 1086.77 887.072 1083.09 Q883.623 1079.41 883.623 1073.16 Q883.623 1066.81 887.095 1063.18 Q890.59 1059.55 896.655 1059.55 Q898.623 1059.55 900.498 1059.96 Q902.373 1060.36 904.132 1061.17 Z\" fill=\"#000000\" fill-rule=\"evenodd\" fill-opacity=\"1\" /><path clip-path=\"url(#clip700)\" d=\"M915.752 1052.81 L915.752 1060.17 L924.525 1060.17 L924.525 1063.48 L915.752 1063.48 L915.752 1077.55 Q915.752 1080.73 916.609 1081.63 Q917.488 1082.53 920.15 1082.53 L924.525 1082.53 L924.525 1086.1 L920.15 1086.1 Q915.22 1086.1 913.345 1084.27 Q911.47 1082.42 911.47 1077.55 L911.47 1063.48 L908.345 1063.48 L908.345 1060.17 L911.47 1060.17 L911.47 1052.81 L915.752 1052.81 Z\" fill=\"#000000\" fill-rule=\"evenodd\" fill-opacity=\"1\" /><path clip-path=\"url(#clip700)\" d=\"M931.539 1082.16 L939.178 1082.16 L939.178 1055.8 L930.868 1057.46 L930.868 1053.2 L939.132 1051.54 L943.807 1051.54 L943.807 1082.16 L951.446 1082.16 L951.446 1086.1 L931.539 1086.1 L931.539 1082.16 Z\" fill=\"#000000\" fill-rule=\"evenodd\" fill-opacity=\"1\" /><path clip-path=\"url(#clip700)\" d=\"M970.891 1054.61 Q967.28 1054.61 965.451 1058.18 Q963.645 1061.72 963.645 1068.85 Q963.645 1075.96 965.451 1079.52 Q967.28 1083.06 970.891 1083.06 Q974.525 1083.06 976.33 1079.52 Q978.159 1075.96 978.159 1068.85 Q978.159 1061.72 976.33 1058.18 Q974.525 1054.61 970.891 1054.61 M970.891 1050.91 Q976.701 1050.91 979.756 1055.52 Q982.835 1060.1 982.835 1068.85 Q982.835 1077.58 979.756 1082.18 Q976.701 1086.77 970.891 1086.77 Q965.081 1086.77 962.002 1082.18 Q958.946 1077.58 958.946 1068.85 Q958.946 1060.1 962.002 1055.52 Q965.081 1050.91 970.891 1050.91 Z\" fill=\"#000000\" fill-rule=\"evenodd\" fill-opacity=\"1\" /><path clip-path=\"url(#clip700)\" d=\"M1001.05 1054.61 Q997.441 1054.61 995.613 1058.18 Q993.807 1061.72 993.807 1068.85 Q993.807 1075.96 995.613 1079.52 Q997.441 1083.06 1001.05 1083.06 Q1004.69 1083.06 1006.49 1079.52 Q1008.32 1075.96 1008.32 1068.85 Q1008.32 1061.72 1006.49 1058.18 Q1004.69 1054.61 1001.05 1054.61 M1001.05 1050.91 Q1006.86 1050.91 1009.92 1055.52 Q1013 1060.1 1013 1068.85 Q1013 1077.58 1009.92 1082.18 Q1006.86 1086.77 1001.05 1086.77 Q995.242 1086.77 992.164 1082.18 Q989.108 1077.58 989.108 1068.85 Q989.108 1060.1 992.164 1055.52 Q995.242 1050.91 1001.05 1050.91 Z\" fill=\"#000000\" fill-rule=\"evenodd\" fill-opacity=\"1\" /><path clip-path=\"url(#clip700)\" d=\"M1031.21 1054.61 Q1027.6 1054.61 1025.77 1058.18 Q1023.97 1061.72 1023.97 1068.85 Q1023.97 1075.96 1025.77 1079.52 Q1027.6 1083.06 1031.21 1083.06 Q1034.85 1083.06 1036.65 1079.52 Q1038.48 1075.96 1038.48 1068.85 Q1038.48 1061.72 1036.65 1058.18 Q1034.85 1054.61 1031.21 1054.61 M1031.21 1050.91 Q1037.02 1050.91 1040.08 1055.52 Q1043.16 1060.1 1043.16 1068.85 Q1043.16 1077.58 1040.08 1082.18 Q1037.02 1086.77 1031.21 1086.77 Q1025.4 1086.77 1022.33 1082.18 Q1019.27 1077.58 1019.27 1068.85 Q1019.27 1060.1 1022.33 1055.52 Q1025.4 1050.91 1031.21 1050.91 Z\" fill=\"#000000\" fill-rule=\"evenodd\" fill-opacity=\"1\" /><polyline clip-path=\"url(#clip700)\" style=\"stroke:#c271d2; stroke-linecap:butt; stroke-linejoin:round; stroke-width:4; stroke-opacity:1; fill:none\" points=\"\n",
       "  314.352,1120.66 456.566,1120.66 \n",
       "  \"/>\n",
       "<path clip-path=\"url(#clip700)\" d=\"M508.139 1106.04 L508.139 1110.97 Q505.777 1108.77 503.092 1107.68 Q500.43 1106.59 497.421 1106.59 Q491.495 1106.59 488.347 1110.23 Q485.199 1113.84 485.199 1120.69 Q485.199 1127.52 488.347 1131.15 Q491.495 1134.76 497.421 1134.76 Q500.43 1134.76 503.092 1133.68 Q505.777 1132.59 508.139 1130.39 L508.139 1135.27 Q505.685 1136.94 502.93 1137.77 Q500.199 1138.61 497.143 1138.61 Q489.296 1138.61 484.782 1133.82 Q480.268 1129 480.268 1120.69 Q480.268 1112.36 484.782 1107.57 Q489.296 1102.75 497.143 1102.75 Q500.245 1102.75 502.977 1103.58 Q505.731 1104.39 508.139 1106.04 Z\" fill=\"#000000\" fill-rule=\"evenodd\" fill-opacity=\"1\" /><path clip-path=\"url(#clip700)\" d=\"M526.958 1124.9 Q521.796 1124.9 519.805 1126.08 Q517.814 1127.27 517.814 1130.11 Q517.814 1132.38 519.296 1133.72 Q520.801 1135.04 523.37 1135.04 Q526.912 1135.04 529.041 1132.54 Q531.194 1130.02 531.194 1125.85 L531.194 1124.9 L526.958 1124.9 M535.453 1123.14 L535.453 1137.94 L531.194 1137.94 L531.194 1134 Q529.736 1136.36 527.56 1137.5 Q525.384 1138.61 522.236 1138.61 Q518.254 1138.61 515.893 1136.39 Q513.555 1134.14 513.555 1130.39 Q513.555 1126.02 516.472 1123.79 Q519.412 1121.57 525.222 1121.57 L531.194 1121.57 L531.194 1121.15 Q531.194 1118.21 529.25 1116.62 Q527.328 1115 523.833 1115 Q521.611 1115 519.504 1115.53 Q517.398 1116.06 515.453 1117.13 L515.453 1113.19 Q517.791 1112.29 519.99 1111.85 Q522.189 1111.39 524.273 1111.39 Q529.898 1111.39 532.675 1114.3 Q535.453 1117.22 535.453 1123.14 Z\" fill=\"#000000\" fill-rule=\"evenodd\" fill-opacity=\"1\" /><path clip-path=\"url(#clip700)\" d=\"M543.786 1127.7 L543.786 1112.01 L548.046 1112.01 L548.046 1127.54 Q548.046 1131.22 549.481 1133.08 Q550.916 1134.9 553.786 1134.9 Q557.235 1134.9 559.226 1132.7 Q561.24 1130.51 561.24 1126.71 L561.24 1112.01 L565.499 1112.01 L565.499 1137.94 L561.24 1137.94 L561.24 1133.95 Q559.689 1136.32 557.629 1137.47 Q555.592 1138.61 552.884 1138.61 Q548.416 1138.61 546.101 1135.83 Q543.786 1133.05 543.786 1127.7 M554.504 1111.39 L554.504 1111.39 Z\" fill=\"#000000\" fill-rule=\"evenodd\" fill-opacity=\"1\" /><path clip-path=\"url(#clip700)\" d=\"M593.971 1145.81 L593.971 1149.12 L569.342 1149.12 L569.342 1145.81 L593.971 1145.81 Z\" fill=\"#000000\" fill-rule=\"evenodd\" fill-opacity=\"1\" /><path clip-path=\"url(#clip700)\" d=\"M598.161 1103.38 L602.837 1103.38 L602.837 1117.54 L619.828 1117.54 L619.828 1103.38 L624.504 1103.38 L624.504 1137.94 L619.828 1137.94 L619.828 1121.48 L602.837 1121.48 L602.837 1137.94 L598.161 1137.94 L598.161 1103.38 Z\" fill=\"#000000\" fill-rule=\"evenodd\" fill-opacity=\"1\" /><path clip-path=\"url(#clip700)\" d=\"M644.411 1140.34 Q642.605 1144.97 640.892 1146.39 Q639.179 1147.8 636.309 1147.8 L632.906 1147.8 L632.906 1144.23 L635.406 1144.23 Q637.166 1144.23 638.138 1143.4 Q639.11 1142.57 640.291 1139.46 L641.054 1137.52 L630.568 1112.01 L635.082 1112.01 L643.184 1132.29 L651.286 1112.01 L655.8 1112.01 L644.411 1140.34 Z\" fill=\"#000000\" fill-rule=\"evenodd\" fill-opacity=\"1\" /><path clip-path=\"url(#clip700)\" d=\"M665.8 1134.05 L665.8 1147.8 L661.517 1147.8 L661.517 1112.01 L665.8 1112.01 L665.8 1115.95 Q667.142 1113.63 669.179 1112.52 Q671.24 1111.39 674.087 1111.39 Q678.809 1111.39 681.749 1115.14 Q684.712 1118.89 684.712 1125 Q684.712 1131.11 681.749 1134.86 Q678.809 1138.61 674.087 1138.61 Q671.24 1138.61 669.179 1137.5 Q667.142 1136.36 665.8 1134.05 M680.29 1125 Q680.29 1120.3 678.346 1117.64 Q676.425 1114.95 673.045 1114.95 Q669.665 1114.95 667.721 1117.64 Q665.8 1120.3 665.8 1125 Q665.8 1129.7 667.721 1132.38 Q669.665 1135.04 673.045 1135.04 Q676.425 1135.04 678.346 1132.38 Q680.29 1129.7 680.29 1125 Z\" fill=\"#000000\" fill-rule=\"evenodd\" fill-opacity=\"1\" /><path clip-path=\"url(#clip700)\" d=\"M713.948 1123.91 L713.948 1125.99 L694.364 1125.99 Q694.642 1130.39 697.003 1132.7 Q699.388 1135 703.624 1135 Q706.077 1135 708.369 1134.39 Q710.684 1133.79 712.952 1132.59 L712.952 1136.62 Q710.661 1137.59 708.253 1138.1 Q705.846 1138.61 703.369 1138.61 Q697.165 1138.61 693.531 1135 Q689.92 1131.39 689.92 1125.23 Q689.92 1118.86 693.346 1115.14 Q696.795 1111.39 702.628 1111.39 Q707.86 1111.39 710.892 1114.77 Q713.948 1118.12 713.948 1123.91 M709.688 1122.66 Q709.642 1119.16 707.721 1117.08 Q705.823 1115 702.675 1115 Q699.11 1115 696.957 1117.01 Q694.827 1119.02 694.503 1122.68 L709.688 1122.66 Z\" fill=\"#000000\" fill-rule=\"evenodd\" fill-opacity=\"1\" /><path clip-path=\"url(#clip700)\" d=\"M735.961 1115.99 Q735.244 1115.58 734.387 1115.39 Q733.554 1115.18 732.535 1115.18 Q728.924 1115.18 726.98 1117.54 Q725.059 1119.88 725.059 1124.28 L725.059 1137.94 L720.776 1137.94 L720.776 1112.01 L725.059 1112.01 L725.059 1116.04 Q726.401 1113.68 728.554 1112.54 Q730.707 1111.39 733.785 1111.39 Q734.225 1111.39 734.758 1111.45 Q735.29 1111.5 735.938 1111.62 L735.961 1115.99 Z\" fill=\"#000000\" fill-rule=\"evenodd\" fill-opacity=\"1\" /><path clip-path=\"url(#clip700)\" d=\"M760.128 1145.81 L760.128 1149.12 L735.498 1149.12 L735.498 1145.81 L760.128 1145.81 Z\" fill=\"#000000\" fill-rule=\"evenodd\" fill-opacity=\"1\" /><path clip-path=\"url(#clip700)\" d=\"M782.79 1113.01 L782.79 1116.99 Q780.984 1115.99 779.156 1115.51 Q777.35 1115 775.498 1115 Q771.355 1115 769.063 1117.64 Q766.771 1120.25 766.771 1125 Q766.771 1129.74 769.063 1132.38 Q771.355 1135 775.498 1135 Q777.35 1135 779.156 1134.51 Q780.984 1134 782.79 1133.01 L782.79 1136.94 Q781.007 1137.77 779.086 1138.19 Q777.188 1138.61 775.035 1138.61 Q769.179 1138.61 765.73 1134.93 Q762.281 1131.25 762.281 1125 Q762.281 1118.65 765.753 1115.02 Q769.248 1111.39 775.313 1111.39 Q777.281 1111.39 779.156 1111.8 Q781.031 1112.2 782.79 1113.01 Z\" fill=\"#000000\" fill-rule=\"evenodd\" fill-opacity=\"1\" /><path clip-path=\"url(#clip700)\" d=\"M800.243 1115 Q796.818 1115 794.827 1117.68 Q792.836 1120.34 792.836 1125 Q792.836 1129.65 794.804 1132.33 Q796.794 1135 800.243 1135 Q803.646 1135 805.637 1132.31 Q807.628 1129.63 807.628 1125 Q807.628 1120.39 805.637 1117.7 Q803.646 1115 800.243 1115 M800.243 1111.39 Q805.799 1111.39 808.97 1115 Q812.142 1118.61 812.142 1125 Q812.142 1131.36 808.97 1135 Q805.799 1138.61 800.243 1138.61 Q794.665 1138.61 791.493 1135 Q788.345 1131.36 788.345 1125 Q788.345 1118.61 791.493 1115 Q794.665 1111.39 800.243 1111.39 Z\" fill=\"#000000\" fill-rule=\"evenodd\" fill-opacity=\"1\" /><path clip-path=\"url(#clip700)\" d=\"M834.225 1115.99 Q833.507 1115.58 832.651 1115.39 Q831.817 1115.18 830.799 1115.18 Q827.188 1115.18 825.243 1117.54 Q823.322 1119.88 823.322 1124.28 L823.322 1137.94 L819.04 1137.94 L819.04 1112.01 L823.322 1112.01 L823.322 1116.04 Q824.665 1113.68 826.817 1112.54 Q828.97 1111.39 832.049 1111.39 Q832.489 1111.39 833.021 1111.45 Q833.553 1111.5 834.202 1111.62 L834.225 1115.99 Z\" fill=\"#000000\" fill-rule=\"evenodd\" fill-opacity=\"1\" /><path clip-path=\"url(#clip700)\" d=\"M852.882 1115.99 Q852.164 1115.58 851.308 1115.39 Q850.475 1115.18 849.456 1115.18 Q845.845 1115.18 843.901 1117.54 Q841.979 1119.88 841.979 1124.28 L841.979 1137.94 L837.697 1137.94 L837.697 1112.01 L841.979 1112.01 L841.979 1116.04 Q843.322 1113.68 845.475 1112.54 Q847.627 1111.39 850.706 1111.39 Q851.146 1111.39 851.678 1111.45 Q852.211 1111.5 852.859 1111.62 L852.882 1115.99 Z\" fill=\"#000000\" fill-rule=\"evenodd\" fill-opacity=\"1\" /><path clip-path=\"url(#clip700)\" d=\"M878.484 1123.91 L878.484 1125.99 L858.901 1125.99 Q859.178 1130.39 861.539 1132.7 Q863.924 1135 868.16 1135 Q870.613 1135 872.905 1134.39 Q875.22 1133.79 877.488 1132.59 L877.488 1136.62 Q875.197 1137.59 872.789 1138.1 Q870.382 1138.61 867.905 1138.61 Q861.701 1138.61 858.067 1135 Q854.456 1131.39 854.456 1125.23 Q854.456 1118.86 857.882 1115.14 Q861.331 1111.39 867.164 1111.39 Q872.396 1111.39 875.428 1114.77 Q878.484 1118.12 878.484 1123.91 M874.225 1122.66 Q874.178 1119.16 872.257 1117.08 Q870.359 1115 867.211 1115 Q863.646 1115 861.493 1117.01 Q859.364 1119.02 859.039 1122.68 L874.225 1122.66 Z\" fill=\"#000000\" fill-rule=\"evenodd\" fill-opacity=\"1\" /><path clip-path=\"url(#clip700)\" d=\"M904.132 1113.01 L904.132 1116.99 Q902.326 1115.99 900.498 1115.51 Q898.692 1115 896.84 1115 Q892.697 1115 890.405 1117.64 Q888.113 1120.25 888.113 1125 Q888.113 1129.74 890.405 1132.38 Q892.697 1135 896.84 1135 Q898.692 1135 900.498 1134.51 Q902.326 1134 904.132 1133.01 L904.132 1136.94 Q902.349 1137.77 900.428 1138.19 Q898.53 1138.61 896.377 1138.61 Q890.521 1138.61 887.072 1134.93 Q883.623 1131.25 883.623 1125 Q883.623 1118.65 887.095 1115.02 Q890.59 1111.39 896.655 1111.39 Q898.623 1111.39 900.498 1111.8 Q902.373 1112.2 904.132 1113.01 Z\" fill=\"#000000\" fill-rule=\"evenodd\" fill-opacity=\"1\" /><path clip-path=\"url(#clip700)\" d=\"M915.752 1104.65 L915.752 1112.01 L924.525 1112.01 L924.525 1115.32 L915.752 1115.32 L915.752 1129.39 Q915.752 1132.57 916.609 1133.47 Q917.488 1134.37 920.15 1134.37 L924.525 1134.37 L924.525 1137.94 L920.15 1137.94 Q915.22 1137.94 913.345 1136.11 Q911.47 1134.26 911.47 1129.39 L911.47 1115.32 L908.345 1115.32 L908.345 1112.01 L911.47 1112.01 L911.47 1104.65 L915.752 1104.65 Z\" fill=\"#000000\" fill-rule=\"evenodd\" fill-opacity=\"1\" /><path clip-path=\"url(#clip700)\" d=\"M930.775 1103.38 L949.132 1103.38 L949.132 1107.31 L935.058 1107.31 L935.058 1115.78 Q936.076 1115.44 937.095 1115.27 Q938.113 1115.09 939.132 1115.09 Q944.919 1115.09 948.298 1118.26 Q951.678 1121.43 951.678 1126.85 Q951.678 1132.43 948.206 1135.53 Q944.733 1138.61 938.414 1138.61 Q936.238 1138.61 933.97 1138.24 Q931.724 1137.87 929.317 1137.13 L929.317 1132.43 Q931.4 1133.56 933.622 1134.12 Q935.845 1134.67 938.321 1134.67 Q942.326 1134.67 944.664 1132.57 Q947.002 1130.46 947.002 1126.85 Q947.002 1123.24 944.664 1121.13 Q942.326 1119.02 938.321 1119.02 Q936.446 1119.02 934.571 1119.44 Q932.72 1119.86 930.775 1120.74 L930.775 1103.38 Z\" fill=\"#000000\" fill-rule=\"evenodd\" fill-opacity=\"1\" /><path clip-path=\"url(#clip700)\" d=\"M970.891 1106.45 Q967.28 1106.45 965.451 1110.02 Q963.645 1113.56 963.645 1120.69 Q963.645 1127.8 965.451 1131.36 Q967.28 1134.9 970.891 1134.9 Q974.525 1134.9 976.33 1131.36 Q978.159 1127.8 978.159 1120.69 Q978.159 1113.56 976.33 1110.02 Q974.525 1106.45 970.891 1106.45 M970.891 1102.75 Q976.701 1102.75 979.756 1107.36 Q982.835 1111.94 982.835 1120.69 Q982.835 1129.42 979.756 1134.02 Q976.701 1138.61 970.891 1138.61 Q965.081 1138.61 962.002 1134.02 Q958.946 1129.42 958.946 1120.69 Q958.946 1111.94 962.002 1107.36 Q965.081 1102.75 970.891 1102.75 Z\" fill=\"#000000\" fill-rule=\"evenodd\" fill-opacity=\"1\" /><path clip-path=\"url(#clip700)\" d=\"M1001.05 1106.45 Q997.441 1106.45 995.613 1110.02 Q993.807 1113.56 993.807 1120.69 Q993.807 1127.8 995.613 1131.36 Q997.441 1134.9 1001.05 1134.9 Q1004.69 1134.9 1006.49 1131.36 Q1008.32 1127.8 1008.32 1120.69 Q1008.32 1113.56 1006.49 1110.02 Q1004.69 1106.45 1001.05 1106.45 M1001.05 1102.75 Q1006.86 1102.75 1009.92 1107.36 Q1013 1111.94 1013 1120.69 Q1013 1129.42 1009.92 1134.02 Q1006.86 1138.61 1001.05 1138.61 Q995.242 1138.61 992.164 1134.02 Q989.108 1129.42 989.108 1120.69 Q989.108 1111.94 992.164 1107.36 Q995.242 1102.75 1001.05 1102.75 Z\" fill=\"#000000\" fill-rule=\"evenodd\" fill-opacity=\"1\" /><path clip-path=\"url(#clip700)\" d=\"M1031.21 1106.45 Q1027.6 1106.45 1025.77 1110.02 Q1023.97 1113.56 1023.97 1120.69 Q1023.97 1127.8 1025.77 1131.36 Q1027.6 1134.9 1031.21 1134.9 Q1034.85 1134.9 1036.65 1131.36 Q1038.48 1127.8 1038.48 1120.69 Q1038.48 1113.56 1036.65 1110.02 Q1034.85 1106.45 1031.21 1106.45 M1031.21 1102.75 Q1037.02 1102.75 1040.08 1107.36 Q1043.16 1111.94 1043.16 1120.69 Q1043.16 1129.42 1040.08 1134.02 Q1037.02 1138.61 1031.21 1138.61 Q1025.4 1138.61 1022.33 1134.02 Q1019.27 1129.42 1019.27 1120.69 Q1019.27 1111.94 1022.33 1107.36 Q1025.4 1102.75 1031.21 1102.75 Z\" fill=\"#000000\" fill-rule=\"evenodd\" fill-opacity=\"1\" /><circle clip-path=\"url(#clip700)\" cx=\"385.459\" cy=\"1172.5\" r=\"23\" fill=\"#ac8d18\" fill-rule=\"evenodd\" fill-opacity=\"1\" stroke=\"#000000\" stroke-opacity=\"1\" stroke-width=\"5.12\"/>\n",
       "<path clip-path=\"url(#clip700)\" d=\"M496.102 1159.82 L489.759 1177.02 L502.467 1177.02 L496.102 1159.82 M493.463 1155.22 L498.764 1155.22 L511.935 1189.78 L507.074 1189.78 L503.926 1180.91 L488.347 1180.91 L485.199 1189.78 L480.268 1189.78 L493.463 1155.22 Z\" fill=\"#000000\" fill-rule=\"evenodd\" fill-opacity=\"1\" /><path clip-path=\"url(#clip700)\" d=\"M516.449 1155.22 L521.148 1155.22 L521.148 1176.21 Q521.148 1181.77 523.162 1184.22 Q525.175 1186.65 529.689 1186.65 Q534.18 1186.65 536.194 1184.22 Q538.208 1181.77 538.208 1176.21 L538.208 1155.22 L542.907 1155.22 L542.907 1176.79 Q542.907 1183.55 539.55 1187 Q536.217 1190.45 529.689 1190.45 Q523.138 1190.45 519.782 1187 Q516.449 1183.55 516.449 1176.79 L516.449 1155.22 Z\" fill=\"#000000\" fill-rule=\"evenodd\" fill-opacity=\"1\" /><path clip-path=\"url(#clip700)\" d=\"M572.397 1156.35 L572.397 1160.91 Q569.735 1159.64 567.374 1159.01 Q565.013 1158.39 562.814 1158.39 Q558.995 1158.39 556.911 1159.87 Q554.851 1161.35 554.851 1164.08 Q554.851 1166.37 556.217 1167.55 Q557.606 1168.71 561.448 1169.43 L564.272 1170.01 Q569.504 1171 571.981 1173.53 Q574.481 1176.03 574.481 1180.24 Q574.481 1185.26 571.101 1187.85 Q567.745 1190.45 561.24 1190.45 Q558.786 1190.45 556.009 1189.89 Q553.254 1189.34 550.291 1188.25 L550.291 1183.43 Q553.138 1185.03 555.87 1185.84 Q558.601 1186.65 561.24 1186.65 Q565.245 1186.65 567.421 1185.08 Q569.597 1183.5 569.597 1180.59 Q569.597 1178.04 568.022 1176.61 Q566.472 1175.17 562.907 1174.45 L560.06 1173.9 Q554.828 1172.86 552.49 1170.63 Q550.152 1168.41 550.152 1164.45 Q550.152 1159.87 553.37 1157.23 Q556.61 1154.59 562.282 1154.59 Q564.712 1154.59 567.235 1155.03 Q569.759 1155.47 572.397 1156.35 Z\" fill=\"#000000\" fill-rule=\"evenodd\" fill-opacity=\"1\" /><path clip-path=\"url(#clip700)\" d=\"M591.633 1166.84 Q588.208 1166.84 586.217 1169.52 Q584.226 1172.18 584.226 1176.84 Q584.226 1181.49 586.194 1184.17 Q588.184 1186.84 591.633 1186.84 Q595.036 1186.84 597.027 1184.15 Q599.018 1181.47 599.018 1176.84 Q599.018 1172.23 597.027 1169.54 Q595.036 1166.84 591.633 1166.84 M591.633 1163.23 Q597.189 1163.23 600.36 1166.84 Q603.532 1170.45 603.532 1176.84 Q603.532 1183.2 600.36 1186.84 Q597.189 1190.45 591.633 1190.45 Q586.055 1190.45 582.884 1186.84 Q579.735 1183.2 579.735 1176.84 Q579.735 1170.45 582.884 1166.84 Q586.055 1163.23 591.633 1163.23 Z\" fill=\"#000000\" fill-rule=\"evenodd\" fill-opacity=\"1\" /><path clip-path=\"url(#clip700)\" d=\"M623.717 1153.76 L623.717 1157.3 L619.643 1157.3 Q617.351 1157.3 616.448 1158.23 Q615.569 1159.15 615.569 1161.56 L615.569 1163.85 L622.582 1163.85 L622.582 1167.16 L615.569 1167.16 L615.569 1189.78 L611.286 1189.78 L611.286 1167.16 L607.212 1167.16 L607.212 1163.85 L611.286 1163.85 L611.286 1162.04 Q611.286 1157.72 613.3 1155.75 Q615.314 1153.76 619.689 1153.76 L623.717 1153.76 Z\" fill=\"#000000\" fill-rule=\"evenodd\" fill-opacity=\"1\" /><path clip-path=\"url(#clip700)\" d=\"M630.661 1156.49 L630.661 1163.85 L639.434 1163.85 L639.434 1167.16 L630.661 1167.16 L630.661 1181.23 Q630.661 1184.41 631.518 1185.31 Q632.397 1186.21 635.059 1186.21 L639.434 1186.21 L639.434 1189.78 L635.059 1189.78 Q630.129 1189.78 628.254 1187.95 Q626.379 1186.1 626.379 1181.23 L626.379 1167.16 L623.254 1167.16 L623.254 1163.85 L626.379 1163.85 L626.379 1156.49 L630.661 1156.49 Z\" fill=\"#000000\" fill-rule=\"evenodd\" fill-opacity=\"1\" /><circle clip-path=\"url(#clip700)\" cx=\"385.459\" cy=\"1224.34\" r=\"23\" fill=\"#00a9ad\" fill-rule=\"evenodd\" fill-opacity=\"1\" stroke=\"#000000\" stroke-opacity=\"1\" stroke-width=\"5.12\"/>\n",
       "<path clip-path=\"url(#clip700)\" d=\"M496.102 1211.66 L489.759 1228.86 L502.467 1228.86 L496.102 1211.66 M493.463 1207.06 L498.764 1207.06 L511.935 1241.62 L507.074 1241.62 L503.926 1232.75 L488.347 1232.75 L485.199 1241.62 L480.268 1241.62 L493.463 1207.06 Z\" fill=\"#000000\" fill-rule=\"evenodd\" fill-opacity=\"1\" /><path clip-path=\"url(#clip700)\" d=\"M516.449 1207.06 L521.148 1207.06 L521.148 1228.05 Q521.148 1233.61 523.162 1236.06 Q525.175 1238.49 529.689 1238.49 Q534.18 1238.49 536.194 1236.06 Q538.208 1233.61 538.208 1228.05 L538.208 1207.06 L542.907 1207.06 L542.907 1228.63 Q542.907 1235.39 539.55 1238.84 Q536.217 1242.29 529.689 1242.29 Q523.138 1242.29 519.782 1238.84 Q516.449 1235.39 516.449 1228.63 L516.449 1207.06 Z\" fill=\"#000000\" fill-rule=\"evenodd\" fill-opacity=\"1\" /><path clip-path=\"url(#clip700)\" d=\"M551.68 1207.06 L571.541 1207.06 L571.541 1210.99 L556.356 1210.99 L556.356 1221.18 L570.059 1221.18 L570.059 1225.11 L556.356 1225.11 L556.356 1241.62 L551.68 1241.62 L551.68 1207.06 Z\" fill=\"#000000\" fill-rule=\"evenodd\" fill-opacity=\"1\" /><path clip-path=\"url(#clip700)\" d=\"M590.337 1219.67 Q589.62 1219.26 588.763 1219.07 Q587.93 1218.86 586.911 1218.86 Q583.3 1218.86 581.356 1221.22 Q579.434 1223.56 579.434 1227.96 L579.434 1241.62 L575.152 1241.62 L575.152 1215.69 L579.434 1215.69 L579.434 1219.72 Q580.777 1217.36 582.93 1216.22 Q585.083 1215.07 588.161 1215.07 Q588.601 1215.07 589.133 1215.13 Q589.666 1215.18 590.314 1215.3 L590.337 1219.67 Z\" fill=\"#000000\" fill-rule=\"evenodd\" fill-opacity=\"1\" /><path clip-path=\"url(#clip700)\" d=\"M615.939 1227.59 L615.939 1229.67 L596.356 1229.67 Q596.633 1234.07 598.995 1236.38 Q601.379 1238.68 605.615 1238.68 Q608.069 1238.68 610.36 1238.07 Q612.675 1237.47 614.944 1236.27 L614.944 1240.3 Q612.652 1241.27 610.244 1241.78 Q607.837 1242.29 605.36 1242.29 Q599.157 1242.29 595.522 1238.68 Q591.911 1235.07 591.911 1228.91 Q591.911 1222.54 595.337 1218.82 Q598.786 1215.07 604.619 1215.07 Q609.851 1215.07 612.883 1218.45 Q615.939 1221.8 615.939 1227.59 M611.68 1226.34 Q611.633 1222.84 609.712 1220.76 Q607.814 1218.68 604.666 1218.68 Q601.101 1218.68 598.948 1220.69 Q596.819 1222.7 596.495 1226.36 L611.68 1226.34 Z\" fill=\"#000000\" fill-rule=\"evenodd\" fill-opacity=\"1\" /><path clip-path=\"url(#clip700)\" d=\"M644.48 1225.97 L644.48 1241.62 L640.221 1241.62 L640.221 1226.11 Q640.221 1222.43 638.786 1220.6 Q637.351 1218.77 634.48 1218.77 Q631.031 1218.77 629.041 1220.97 Q627.05 1223.17 627.05 1226.96 L627.05 1241.62 L622.768 1241.62 L622.768 1215.69 L627.05 1215.69 L627.05 1219.72 Q628.578 1217.38 630.638 1216.22 Q632.721 1215.07 635.43 1215.07 Q639.897 1215.07 642.189 1217.84 Q644.48 1220.6 644.48 1225.97 Z\" fill=\"#000000\" fill-rule=\"evenodd\" fill-opacity=\"1\" /><path clip-path=\"url(#clip700)\" d=\"M671.633 1216.69 L671.633 1220.67 Q669.827 1219.67 667.999 1219.19 Q666.193 1218.68 664.341 1218.68 Q660.198 1218.68 657.906 1221.32 Q655.615 1223.93 655.615 1228.68 Q655.615 1233.42 657.906 1236.06 Q660.198 1238.68 664.341 1238.68 Q666.193 1238.68 667.999 1238.19 Q669.827 1237.68 671.633 1236.69 L671.633 1240.62 Q669.851 1241.45 667.929 1241.87 Q666.031 1242.29 663.878 1242.29 Q658.022 1242.29 654.573 1238.61 Q651.124 1234.93 651.124 1228.68 Q651.124 1222.33 654.596 1218.7 Q658.091 1215.07 664.156 1215.07 Q666.124 1215.07 667.999 1215.48 Q669.874 1215.88 671.633 1216.69 Z\" fill=\"#000000\" fill-rule=\"evenodd\" fill-opacity=\"1\" /><path clip-path=\"url(#clip700)\" d=\"M700.591 1225.97 L700.591 1241.62 L696.332 1241.62 L696.332 1226.11 Q696.332 1222.43 694.897 1220.6 Q693.462 1218.77 690.591 1218.77 Q687.142 1218.77 685.151 1220.97 Q683.161 1223.17 683.161 1226.96 L683.161 1241.62 L678.878 1241.62 L678.878 1205.6 L683.161 1205.6 L683.161 1219.72 Q684.689 1217.38 686.749 1216.22 Q688.832 1215.07 691.54 1215.07 Q696.008 1215.07 698.3 1217.84 Q700.591 1220.6 700.591 1225.97 Z\" fill=\"#000000\" fill-rule=\"evenodd\" fill-opacity=\"1\" /><circle clip-path=\"url(#clip700)\" cx=\"385.459\" cy=\"1276.18\" r=\"23\" fill=\"#ed5d92\" fill-rule=\"evenodd\" fill-opacity=\"1\" stroke=\"#000000\" stroke-opacity=\"1\" stroke-width=\"5.12\"/>\n",
       "<path clip-path=\"url(#clip700)\" d=\"M496.102 1263.5 L489.759 1280.7 L502.467 1280.7 L496.102 1263.5 M493.463 1258.9 L498.764 1258.9 L511.935 1293.46 L507.074 1293.46 L503.926 1284.59 L488.347 1284.59 L485.199 1293.46 L480.268 1293.46 L493.463 1258.9 Z\" fill=\"#000000\" fill-rule=\"evenodd\" fill-opacity=\"1\" /><path clip-path=\"url(#clip700)\" d=\"M516.449 1258.9 L521.148 1258.9 L521.148 1279.89 Q521.148 1285.45 523.162 1287.9 Q525.175 1290.33 529.689 1290.33 Q534.18 1290.33 536.194 1287.9 Q538.208 1285.45 538.208 1279.89 L538.208 1258.9 L542.907 1258.9 L542.907 1280.47 Q542.907 1287.23 539.55 1290.68 Q536.217 1294.13 529.689 1294.13 Q523.138 1294.13 519.782 1290.68 Q516.449 1287.23 516.449 1280.47 L516.449 1258.9 Z\" fill=\"#000000\" fill-rule=\"evenodd\" fill-opacity=\"1\" /><path clip-path=\"url(#clip700)\" d=\"M551.68 1258.9 L558.648 1258.9 L567.467 1282.41 L576.333 1258.9 L583.3 1258.9 L583.3 1293.46 L578.74 1293.46 L578.74 1263.11 L569.828 1286.81 L565.129 1286.81 L556.217 1263.11 L556.217 1293.46 L551.68 1293.46 L551.68 1258.9 Z\" fill=\"#000000\" fill-rule=\"evenodd\" fill-opacity=\"1\" /><path clip-path=\"url(#clip700)\" d=\"M592.583 1258.9 L597.258 1258.9 L597.258 1273.06 L614.249 1273.06 L614.249 1258.9 L618.925 1258.9 L618.925 1293.46 L614.249 1293.46 L614.249 1277 L597.258 1277 L597.258 1293.46 L592.583 1293.46 L592.583 1258.9 Z\" fill=\"#000000\" fill-rule=\"evenodd\" fill-opacity=\"1\" /><circle clip-path=\"url(#clip700)\" cx=\"385.459\" cy=\"1328.02\" r=\"23\" fill=\"#c68125\" fill-rule=\"evenodd\" fill-opacity=\"1\" stroke=\"#000000\" stroke-opacity=\"1\" stroke-width=\"5.12\"/>\n",
       "<path clip-path=\"url(#clip700)\" d=\"M496.102 1315.34 L489.759 1332.54 L502.467 1332.54 L496.102 1315.34 M493.463 1310.74 L498.764 1310.74 L511.935 1345.3 L507.074 1345.3 L503.926 1336.43 L488.347 1336.43 L485.199 1345.3 L480.268 1345.3 L493.463 1310.74 Z\" fill=\"#000000\" fill-rule=\"evenodd\" fill-opacity=\"1\" /><path clip-path=\"url(#clip700)\" d=\"M516.449 1310.74 L521.148 1310.74 L521.148 1331.73 Q521.148 1337.29 523.162 1339.74 Q525.175 1342.17 529.689 1342.17 Q534.18 1342.17 536.194 1339.74 Q538.208 1337.29 538.208 1331.73 L538.208 1310.74 L542.907 1310.74 L542.907 1332.31 Q542.907 1339.07 539.55 1342.52 Q536.217 1345.97 529.689 1345.97 Q523.138 1345.97 519.782 1342.52 Q516.449 1339.07 516.449 1332.31 L516.449 1310.74 Z\" fill=\"#000000\" fill-rule=\"evenodd\" fill-opacity=\"1\" /><path clip-path=\"url(#clip700)\" d=\"M568.022 1320.13 L568.022 1324.16 Q566.217 1323.24 564.272 1322.77 Q562.328 1322.31 560.245 1322.31 Q557.073 1322.31 555.476 1323.28 Q553.902 1324.25 553.902 1326.2 Q553.902 1327.68 555.036 1328.54 Q556.171 1329.37 559.597 1330.13 L561.055 1330.46 Q565.592 1331.43 567.49 1333.21 Q569.411 1334.97 569.411 1338.14 Q569.411 1341.75 566.541 1343.86 Q563.694 1345.97 558.694 1345.97 Q556.61 1345.97 554.342 1345.55 Q552.097 1345.16 549.597 1344.35 L549.597 1339.95 Q551.958 1341.18 554.249 1341.8 Q556.541 1342.4 558.786 1342.4 Q561.796 1342.4 563.416 1341.38 Q565.036 1340.34 565.036 1338.47 Q565.036 1336.73 563.856 1335.81 Q562.698 1334.88 558.74 1334.02 L557.259 1333.68 Q553.3 1332.84 551.541 1331.13 Q549.782 1329.39 549.782 1326.38 Q549.782 1322.73 552.374 1320.74 Q554.967 1318.75 559.735 1318.75 Q562.097 1318.75 564.18 1319.09 Q566.263 1319.44 568.022 1320.13 Z\" fill=\"#000000\" fill-rule=\"evenodd\" fill-opacity=\"1\" /><path clip-path=\"url(#clip700)\" d=\"M576.194 1319.37 L580.453 1319.37 L580.453 1345.3 L576.194 1345.3 L576.194 1319.37 M576.194 1309.28 L580.453 1309.28 L580.453 1314.67 L576.194 1314.67 L576.194 1309.28 Z\" fill=\"#000000\" fill-rule=\"evenodd\" fill-opacity=\"1\" /><path clip-path=\"url(#clip700)\" d=\"M607.976 1332.36 Q607.976 1327.66 606.032 1325 Q604.11 1322.31 600.731 1322.31 Q597.351 1322.31 595.407 1325 Q593.485 1327.66 593.485 1332.36 Q593.485 1337.06 595.407 1339.74 Q597.351 1342.4 600.731 1342.4 Q604.11 1342.4 606.032 1339.74 Q607.976 1337.06 607.976 1332.36 M593.485 1323.31 Q594.828 1320.99 596.865 1319.88 Q598.925 1318.75 601.772 1318.75 Q606.494 1318.75 609.434 1322.5 Q612.397 1326.25 612.397 1332.36 Q612.397 1338.47 609.434 1342.22 Q606.494 1345.97 601.772 1345.97 Q598.925 1345.97 596.865 1344.86 Q594.828 1343.72 593.485 1341.41 L593.485 1345.3 L589.203 1345.3 L589.203 1309.28 L593.485 1309.28 L593.485 1323.31 Z\" fill=\"#000000\" fill-rule=\"evenodd\" fill-opacity=\"1\" /></svg>\n"
      ]
     },
     "execution_count": 352,
     "metadata": {},
     "output_type": "execute_result"
    }
   ],
   "source": [
    "#AUROC curves\n",
    "\n",
    "T = Int(T)\n",
    "AU_curve=zeros(T)\n",
    "AU_curve2=zeros(T)\n",
    "AU_curve3=zeros(T)\n",
    "AU_curve4=zeros(T)\n",
    "AU_sib=zeros(T)\n",
    "AU_french = zeros(T)\n",
    "AU_soft = zeros(T)\n",
    "AU_MH = zeros(T)\n",
    "for t = 1:T\n",
    "    cau_risk=zeros(N)\n",
    "    cau_risk2=zeros(N)\n",
    "    cau_risk3=zeros(N)\n",
    "    cau_risk4=zeros(N)\n",
    "    sib_risk = zeros(N)\n",
    "    french_risk = zeros(N)\n",
    "    MH_risk = zeros(N)\n",
    "    soft_risk = zeros(N)\n",
    "    for i=1:N\n",
    "       cau_risk[i] = marginal(i,t,statscau)\n",
    "       cau_risk2[i] = marginal(i,t,statscau2)\n",
    "        cau_risk3[i] = marginal(i,t,statscau3)\n",
    "        cau_risk4[i] = marginal(i,t,statscau4)\n",
    "       french_risk[i] = marginal(i,t,statsfre)\n",
    "      # MH_risk[i] = marginal(i,t,stats_mh)\n",
    "       sib_risk[i] = p_sib[i,Int(round(t/dt))]\n",
    "       soft_risk[i] = marginal(i,t,stats) \n",
    "    end\n",
    "    xt = xtrue .< t\n",
    "    AU_soft[t] = AUROC(ROC(xt, soft_risk))\n",
    "    AU_curve[t] = AUROC(ROC(xt, cau_risk))\n",
    "    AU_curve2[t] = AUROC(ROC(xt, cau_risk2))\n",
    "    AU_curve3[t] = AUROC(ROC(xt, cau_risk3))\n",
    "    AU_curve4[t] = AUROC(ROC(xt, cau_risk4))\n",
    "    AU_french[t] = AUROC(ROC(xt, french_risk))\n",
    "    AU_MH[t] = AUROC(ROC(xt, MH_risk))\n",
    "    AU_sib[t] = AUROC(ROC(xt, sib_risk))\n",
    "end\n",
    "\n",
    "plot(LinRange(1,T,T),AU_curve, label=\"AUCau1000\", title=\"Causality VS Sib AUROC in function of time\")\n",
    "plot!(LinRange(1,T,T),AU_curve2, label=\"AUCau5000\" )\n",
    "plot!(LinRange(1,T,T),AU_curve3, label=\"Cau_Hyper_correct1000\" )\n",
    "plot!(LinRange(1,T,T),AU_curve4, label=\"Cau_Hyper_correct5000\" )\n",
    "scatter!(LinRange(1,T,T),AU_soft, label=\"AUSoft\",legend=:bottomleft)\n",
    "scatter!(LinRange(1,T,T),AU_french, label=\"AUFrench\")\n",
    "scatter!(LinRange(1,T,T),AU_MH, label=\"AUMH\")\n",
    "scatter!(LinRange(1,T,T), AU_sib, label=\"AUsib\")\n",
    "xlabel!(\"t\")\n",
    "ylabel!(\"AUROC\")\n",
    "savefig(\"confronti.pdf\")\n",
    "ylims!(0.5,1.01)"
   ]
  },
  {
   "cell_type": "code",
   "execution_count": null,
   "metadata": {},
   "outputs": [],
   "source": []
  }
 ],
 "metadata": {
  "kernelspec": {
   "display_name": "Julia 1.7.0-rc2",
   "language": "julia",
   "name": "julia-1.7"
  },
  "language_info": {
   "file_extension": ".jl",
   "mimetype": "application/julia",
   "name": "julia",
   "version": "1.7.0"
  }
 },
 "nbformat": 4,
 "nbformat_minor": 4
}
