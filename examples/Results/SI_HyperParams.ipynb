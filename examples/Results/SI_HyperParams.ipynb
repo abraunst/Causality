{
 "cells": [
  {
   "cell_type": "code",
   "execution_count": 72,
   "metadata": {},
   "outputs": [],
   "source": [
    "using SparseArrays, LinearAlgebra\n",
    "#using Pkg\n",
    "#Pkg.activate(\"../\")\n",
    "using Causality"
   ]
  },
  {
   "cell_type": "markdown",
   "metadata": {},
   "source": [
    "# Generation of Epidemics"
   ]
  },
  {
   "cell_type": "code",
   "execution_count": 73,
   "metadata": {},
   "outputs": [
    {
     "data": {
      "text/plain": [
       "500×500 SparseMatrixCSC{IndexedGraphs.NullNumber, Int64} with 3050 stored entries:\n",
       "⣊⡸⢦⡄⢤⡜⢢⠈⠱⠪⢖⢀⡿⢛⡐⠋⡌⠘⠂⠀⣄⣀⠾⡀⠺⠅⡈⣄⣀⣗⢄⠶⡂⢐⠒⠢⠡⢜⣔⢄\n",
       "⠈⠷⡺⢊⠅⠄⠃⠗⣑⠌⠠⠣⠪⢜⡁⠡⢧⢙⠌⢈⠀⠁⡀⡔⣈⠓⠌⢛⠘⠬⠚⠎⢤⡷⡄⠖⡛⠣⢢⠶\n",
       "⣀⠷⠁⠅⢫⠒⠸⢘⡗⣈⠰⠩⣸⣁⠐⡙⠤⢵⡋⡀⢥⢕⠣⢔⣂⠂⠊⢍⢃⡠⠭⢌⠔⠖⢔⢝⡤⠣⠃⠻\n",
       "⡈⠒⢭⠄⣒⢂⠄⠁⡯⠎⠑⠐⠠⡀⢟⣽⠅⠫⣺⠓⡠⢃⠏⣖⢀⣋⠕⡪⠶⠍⡯⠭⡅⠜⠇⡮⣠⠋⡺⡠\n",
       "⡱⡂⡑⠜⡙⢩⡫⠏⣕⠙⠺⡆⠪⠁⡀⡉⠋⡑⠍⣐⡂⠅⠊⠶⢚⠹⡌⡡⡨⣤⣓⢨⠵⢕⠠⢞⣣⡃⡫⢂\n",
       "⠘⢑⠤⡂⡔⡂⢑⠀⠺⠦⢊⡰⠑⠀⠐⢜⡆⢖⣅⠙⣼⣆⠠⣨⠓⠄⡪⣰⡅⠢⢇⠡⠾⣞⣰⡎⣧⢉⡵⢱\n",
       "⣿⢋⣊⢆⠖⢺⠀⠢⠎⠂⠑⠀⠠⢆⠣⠄⠰⢁⢶⠛⢍⢀⢺⢰⣬⢨⠰⠉⡈⡱⠐⠱⡀⠮⣸⡗⠂⠆⠖⡐\n",
       "⡴⠈⠅⡈⣔⠠⣟⣵⡄⠨⣐⢄⠉⠆⠱⢂⠜⠉⠈⡎⡀⠀⠇⡑⠮⠂⣡⢂⣂⡼⢜⢇⠎⢳⡁⠁⡇⢍⠲⡐\n",
       "⣂⠉⣍⢓⢄⣇⡥⡁⢏⠠⢨⢍⠔⢂⡖⠁⡡⠊⢀⠄⢁⠇⡓⣁⢒⠙⣎⢋⠰⣐⣭⠃⣑⣒⡒⢉⢻⢨⠠⠩\n",
       "⠈⠀⡂⢁⠋⠨⢾⠚⢃⢡⣅⠙⣼⠓⡢⠤⠀⠔⢋⡰⡊⢁⡄⠠⢍⠜⢘⢧⢀⡤⡔⠁⢀⠢⠊⠚⠠⣔⠇⠀\n",
       "⠀⢹⠄⠀⢅⢗⠤⢊⠌⠌⠲⢿⠃⢑⠀⠈⠥⠔⠎⢈⢎⢑⡑⡏⠂⠸⠀⣬⡪⡡⡿⠨⡆⠂⢆⡅⡌⠐⠤⡈\n",
       "⠚⠣⢀⠬⢉⢆⢫⢥⢪⡄⡀⣢⢚⣒⢍⠡⠝⢨⠀⡉⡵⠬⡔⠉⡙⣀⢀⣡⡠⢝⡭⢷⢅⣗⢆⣅⢍⠡⠁⡁\n",
       "⠞⠆⢦⠘⠨⠘⡤⢰⣞⡐⠙⠄⡂⣛⠪⠃⣜⠐⣃⠕⣈⡀⠓⢨⢊⡰⠠⣴⢄⢐⡅⡱⠑⢪⠠⠤⣢⡀⠌⠅\n",
       "⠂⢬⣦⢁⡎⢄⡱⡡⠆⡩⢊⣪⡔⠂⠡⢚⡮⢙⠶⣔⡀⣤⠄⣰⢀⣦⡰⠊⢖⣰⠨⢠⣩⣫⣥⠼⢕⠂⠌⣅\n",
       "⢤⢼⡒⡄⠉⡰⡜⠇⠂⣮⠡⡉⢆⡨⣈⡼⢐⢢⠀⡴⠎⡪⣄⢎⢀⢑⢘⣱⢮⠓⢫⠶⢂⣀⠉⠏⢁⣂⢑⡉\n",
       "⢠⡕⡺⠄⡃⢇⡏⡏⡙⣘⠍⡑⢔⡀⠶⢕⠧⠛⠔⠉⡛⡋⢧⣏⢅⡩⠂⣂⢫⡖⠎⠁⡢⠬⢅⠟⠃⠿⠩⠱\n",
       "⢈⢈⢤⡷⢰⠅⣁⠍⢕⢇⣺⢧⡠⡌⢮⣁⢱⢸⠠⡐⠨⠉⢥⢵⡱⣀⡧⣺⠈⢰⡈⡎⢮⠓⡏⠬⡦⣲⢸⠠\n",
       "⠸⡀⢠⠍⣔⢕⡩⡥⣠⢆⡰⠾⢶⠾⠅⠈⡜⢈⣪⠀⠌⠵⠌⢵⠀⡆⣁⡟⡧⠄⣥⠕⡋⡍⠠⠂⢖⠉⡄⡠\n",
       "⣁⢆⠿⡈⠤⡋⡤⠚⠭⠺⡍⢛⠨⠄⡍⢍⡛⣒⢀⢦⢂⠉⠇⡑⠈⠺⠱⠑⠡⢰⣭⡄⢨⣫⡜⠑⠪⠂⣎⡂\n",
       "⠐⢝⢨⡖⣭⡀⠚⡪⠫⢊⢕⣋⢘⠡⢘⠢⡄⡂⠉⠁⡀⠣⠅⠠⠆⠅⠆⢥⡕⠰⢇⡂⠒⡒⠀⡩⠪⠹⣐⠘"
      ]
     },
     "execution_count": 73,
     "metadata": {},
     "output_type": "execute_result"
    }
   ],
   "source": [
    "T, N = 20.0, 500\n",
    "#G = Causality.makeBarabasi(N,k=2)\n",
    "#ρ = 3/N\n",
    "#G = Causality.makeGNP(N,ρ)\n",
    "G = Causality.makeProximity(N,2.05/N)\n",
    "G.A "
   ]
  },
  {
   "cell_type": "code",
   "execution_count": 74,
   "metadata": {},
   "outputs": [
    {
     "data": {
      "text/plain": [
       "getpargen (generic function with 1 method)"
      ]
     },
     "execution_count": 74,
     "metadata": {},
     "output_type": "execute_result"
    }
   ],
   "source": [
    "getpar(pseed,autoinf::GaussianRate,inf_in::GaussianRate) = \n",
    "    [fill(pseed, 1, N);\n",
    "     fill(autoinf.a, 1, N); fill(autoinf.b, 1, N); fill(autoinf.c, 1, N);\n",
    "     fill(inf_in.a,   1, N); fill(inf_in.b, 1, N); fill(inf_in.c, 1, N);\n",
    "    ]\n",
    "\n",
    "getpargen(pseed, autoinf::GaussianRate, inf_out::GaussianRate) = \n",
    "    [pseed autoinf.a autoinf.b autoinf.c inf_out.a inf_out.b inf_out.c]\n"
   ]
  },
  {
   "cell_type": "code",
   "execution_count": 75,
   "metadata": {},
   "outputs": [],
   "source": [
    "#Initialize generation parameters\n",
    "ε = 1e-10\n",
    "λ = 0.2\n",
    "pseed = 1/N\n",
    "autoinf = GaussianRate(ε, T/2, 1/ε)\n",
    "inf_in = GaussianRate(1.0, T/2, 1/ε)\n",
    "inf_out = GaussianRate(λ, T/2, 1/ε)\n",
    "\n",
    "θp = getpar(pseed, autoinf, inf_in);\n",
    "θpgen = getpargen(pseed, autoinf, inf_out);"
   ]
  },
  {
   "cell_type": "code",
   "execution_count": 76,
   "metadata": {},
   "outputs": [],
   "source": [
    "#Initialize min/max boundaies\n",
    "T = Float64(T)\n",
    "pseed_min = ε\n",
    "pseed_max = 1-ε\n",
    "rate_min = GaussianRate(ε  ,  -T,   ε)\n",
    "rate_max = GaussianRate(1/ε  ,  2T,   1/ε)\n",
    "\n",
    "θmin = getpar(pseed_min , rate_min, rate_min);\n",
    "θmax = getpar(pseed_max , rate_max, rate_max);\n",
    "\n",
    "rate_min = GaussianRate(ε  ,  -T,   ε)\n",
    "rate_max = GaussianRate(1/ε  ,  T,   T)\n",
    "\n",
    "θgenmin = getpargen(pseed_min, rate_min, rate_min);\n",
    "θgenmax = getpargen(pseed_max, rate_max, rate_max);"
   ]
  },
  {
   "cell_type": "code",
   "execution_count": 77,
   "metadata": {},
   "outputs": [
    {
     "data": {
      "text/plain": [
       "GaussianInferentialSI"
      ]
     },
     "execution_count": 77,
     "metadata": {},
     "output_type": "execute_result"
    }
   ],
   "source": [
    "const Igen = GenerativeSI{GaussianRate,GaussianRate} \n",
    "const Igauss = GaussianInferentialSI"
   ]
  },
  {
   "cell_type": "code",
   "execution_count": 16,
   "metadata": {},
   "outputs": [
    {
     "data": {
      "text/plain": [
       "168"
      ]
     },
     "execution_count": 16,
     "metadata": {},
     "output_type": "execute_result"
    }
   ],
   "source": [
    "Mp = StochasticModel(Igen, T, θp, G, θpgen);\n",
    "sample! = Sampler(Mp);\n",
    "\n",
    "xtrue = zeros(N)\n",
    "sample!(xtrue)\n",
    "nobs, p = 100, 1e-5\n",
    "#nobs, p = N, 1e-5\n",
    "O = [(ti = T*(1+rand())/2; (i,xtrue[i] < ti,ti,p)) for i=1:nobs]\n",
    "sum(xtrue .< T)"
   ]
  },
  {
   "cell_type": "markdown",
   "metadata": {},
   "source": [
    "## Causality (with inference of Infection Hyperparameter)"
   ]
  },
  {
   "cell_type": "code",
   "execution_count": 54,
   "metadata": {},
   "outputs": [],
   "source": [
    "#Softened model\n",
    "T = Float64(T)\n",
    "ε = 1e-3\n",
    "autoinf = GaussianRate(ε, T/2, T);\n",
    "inf_out = GaussianRate(1/2, T/2, 3*T)\n",
    "θp2gen = getpargen(pseed, autoinf, inf_out);\n",
    "inf_in = GaussianRate(1., T/2, 3*T );\n",
    "\n",
    "θp2 = getpar(pseed, autoinf, inf_in);\n",
    "Mp2 = StochasticModel(Igen, T, θp2, G, θp2gen);"
   ]
  },
  {
   "cell_type": "code",
   "execution_count": 55,
   "metadata": {},
   "outputs": [],
   "source": [
    "θ = getpar(pseed, autoinf, inf_in);\n",
    "M = StochasticModel(Igauss, T, θ, G, θp2gen);"
   ]
  },
  {
   "cell_type": "code",
   "execution_count": 59,
   "metadata": {},
   "outputs": [
    {
     "name": "stderr",
     "output_type": "stream",
     "text": [
      "\u001b[32mProgress: 100%|█████████████████████████████████████████| Time: 0:01:33\u001b[39m\n",
      "\u001b[34m  F:  65.90857308666719\u001b[39m\n"
     ]
    },
    {
     "data": {
      "text/plain": [
       "65.90857308666719"
      ]
     },
     "execution_count": 59,
     "metadata": {},
     "output_type": "execute_result"
    }
   ],
   "source": [
    "using ProgressMeter\n",
    "ProgressMeter.ijulia_behavior(:clear)\n",
    "F = descend!(Mp2, O; M=M, numsamples=2000, numiters=100, \n",
    "         θmin=θmin, θmax=θmax,θgenmin=θgenmin, θgenmax=θgenmax, descender=SignDescender(0.1),\n",
    "         hyperdescender=SignDescender(0.1),learnhyper=1);\n",
    "F = descend!(Mp2, O; M=M, numsamples=2000, numiters=100, \n",
    "         θmin=θmin, θmax=θmax,θgenmin=θgenmin, θgenmax=θgenmax, descender=SignDescender(0.02),\n",
    "         hyperdescender=SignDescender(0.02),learnhyper=1);\n",
    "F"
   ]
  },
  {
   "cell_type": "code",
   "execution_count": 60,
   "metadata": {},
   "outputs": [
    {
     "data": {
      "text/plain": [
       "1×7 Matrix{Float64}:\n",
       " 0.005  1.0e-10  10.0  1.0e10  0.2  10.0  1.0e10"
      ]
     },
     "execution_count": 60,
     "metadata": {},
     "output_type": "execute_result"
    }
   ],
   "source": [
    "Mp.θgen"
   ]
  },
  {
   "cell_type": "code",
   "execution_count": 61,
   "metadata": {},
   "outputs": [
    {
     "data": {
      "text/plain": [
       "1×7 Matrix{Float64}:\n",
       " 0.011838  0.00889881  0.0419805  5.33951  0.141141  6.05217  13.228"
      ]
     },
     "execution_count": 61,
     "metadata": {},
     "output_type": "execute_result"
    }
   ],
   "source": [
    "M.θgen"
   ]
  },
  {
   "cell_type": "code",
   "execution_count": 62,
   "metadata": {},
   "outputs": [
    {
     "name": "stderr",
     "output_type": "stream",
     "text": [
      "\u001b[32mProgress: 100%|█████████████████████████████████████████| Time: 0:00:02\u001b[39m\n"
     ]
    }
   ],
   "source": [
    "statscauHyper = prior(M, numsamples=10000);"
   ]
  },
  {
   "cell_type": "markdown",
   "metadata": {},
   "source": [
    "## Causality (without inference of Hyperparameters)"
   ]
  },
  {
   "cell_type": "code",
   "execution_count": 38,
   "metadata": {},
   "outputs": [],
   "source": [
    "#Softened model\n",
    "T = Float64(T)\n",
    "ε = 1e-3\n",
    "autoinf = GaussianRate(ε, T/2, T);\n",
    "inf_out = GaussianRate(λ, T/2, 3*T)\n",
    "θp2gen = getpargen(pseed, autoinf, inf_out);\n",
    "inf_in = GaussianRate(1., T/2, 3*T );\n",
    "\n",
    "θp2 = getpar(pseed, autoinf, inf_in);\n",
    "Mp2 = StochasticModel(Igen, T, θp2, G, θp2gen);"
   ]
  },
  {
   "cell_type": "code",
   "execution_count": 39,
   "metadata": {},
   "outputs": [],
   "source": [
    "θ = getpar(pseed, autoinf, inf_in);\n",
    "M = StochasticModel(Igauss, T, θ, G, θp2gen);"
   ]
  },
  {
   "cell_type": "code",
   "execution_count": 40,
   "metadata": {
    "collapsed": true,
    "jupyter": {
     "outputs_hidden": true
    }
   },
   "outputs": [
    {
     "name": "stderr",
     "output_type": "stream",
     "text": [
      "\u001b[32mProgress:  72%|█████████████████████████████▌           |  ETA: 0:00:52\u001b[39m\n",
      "\u001b[34m  F:  120.16516762149983\u001b[39m"
     ]
    },
    {
     "ename": "LoadError",
     "evalue": "TaskFailedException\n\n\u001b[91m    nested task error: \u001b[39mInterruptException:\n    Stacktrace:\n      [1] \u001b[0m\u001b[1mreshape\u001b[22m\n    \u001b[90m    @ \u001b[39m\u001b[90m./\u001b[39m\u001b[90m\u001b[4mreshapedarray.jl:51\u001b[24m\u001b[39m\u001b[90m [inlined]\u001b[39m\n      [2] \u001b[0m\u001b[1mreshape\u001b[22m\n    \u001b[90m    @ \u001b[39m\u001b[90m./\u001b[39m\u001b[90m\u001b[4mreshapedarray.jl:111\u001b[24m\u001b[39m\u001b[90m [inlined]\u001b[39m\n      [3] \u001b[0m\u001b[1mreshape\u001b[22m\n    \u001b[90m    @ \u001b[39m\u001b[90m./\u001b[39m\u001b[90m\u001b[4mreshapedarray.jl:141\u001b[24m\u001b[39m\u001b[90m [inlined]\u001b[39m\n      [4] \u001b[0m\u001b[1m_maybe_reshape_parent\u001b[22m\n    \u001b[90m    @ \u001b[39m\u001b[90m./\u001b[39m\u001b[90m\u001b[4msubarray.jl:124\u001b[24m\u001b[39m\u001b[90m [inlined]\u001b[39m\n      [5] \u001b[0m\u001b[1mview\u001b[22m\n    \u001b[90m    @ \u001b[39m\u001b[90m./\u001b[39m\u001b[90m\u001b[4msubarray.jl:178\u001b[24m\u001b[39m\u001b[90m [inlined]\u001b[39m\n      [6] \u001b[0m\u001b[1mmaybeview\u001b[22m\n    \u001b[90m    @ \u001b[39m\u001b[90m./\u001b[39m\u001b[90m\u001b[4mviews.jl:146\u001b[24m\u001b[39m\u001b[90m [inlined]\u001b[39m\n      [7] \u001b[0m\u001b[1mindividual\u001b[22m\u001b[0m\u001b[1m(\u001b[22m\u001b[90m#unused#\u001b[39m::\u001b[0mType\u001b[90m{GaussianInferentialSI}\u001b[39m, \u001b[90mθi\u001b[39m::\u001b[0mSubArray\u001b[90m{Float64, 1, Matrix{Float64}, Tuple{Base.Slice{Base.OneTo{Int64}}, Int64}, true}\u001b[39m, \u001b[90mθg\u001b[39m::\u001b[0mMatrix\u001b[90m{Float64}\u001b[39m\u001b[0m\u001b[1m)\u001b[22m\n    \u001b[90m    @ \u001b[39m\u001b[35mCausality\u001b[39m \u001b[90m~/git/Causality/src/\u001b[39m\u001b[90m\u001b[4msi.jl:20\u001b[24m\u001b[39m\n      [8] \u001b[0m\u001b[1mindividual\u001b[22m\u001b[90m (repeats 3 times)\u001b[39m\n    \u001b[90m    @ \u001b[39m\u001b[90m~/git/Causality/src/\u001b[39m\u001b[90m\u001b[4mstochasticmodel.jl:51\u001b[24m\u001b[39m\u001b[90m [inlined]\u001b[39m\n      [9] \u001b[0m\u001b[1m(::Causality.var\"#sample!#66\"{StochasticModel{GaussianInferentialSI, IndexedGraphs.IndexedBiDiGraph{Int64}, Vector{UnitRate}}, TrackingHeaps.TrackingHeap{Int64, Float64, 2, TrackingHeaps.MinHeapOrder, TrackingHeaps.NoTrainingWheels}, BitVector, Int64})\u001b[22m\u001b[0m\u001b[1m(\u001b[22m\u001b[90mx\u001b[39m::\u001b[0mMatrix\u001b[90m{Float64}\u001b[39m\u001b[0m\u001b[1m)\u001b[22m\n    \u001b[90m    @ \u001b[39m\u001b[35mCausality\u001b[39m \u001b[90m~/git/Causality/src/\u001b[39m\u001b[90m\u001b[4msi.jl:70\u001b[24m\u001b[39m\n     [10] \u001b[0m\u001b[1mmacro expansion\u001b[22m\n    \u001b[90m    @ \u001b[39m\u001b[90m~/git/Causality/src/\u001b[39m\u001b[90m\u001b[4mvariation.jl:123\u001b[24m\u001b[39m\u001b[90m [inlined]\u001b[39m\n     [11] \u001b[0m\u001b[1m(::Causality.var\"#128#threadsfor_fun#52\"{StochasticModel{GaussianInferentialSI, IndexedGraphs.IndexedBiDiGraph{Int64}, Vector{UnitRate}}, Int64, StochasticModel{GenerativeSI{GaussianRate, GaussianRate}, IndexedGraphs.IndexedBiDiGraph{Int64}, Vector{UnitRate}}, Vector{Tuple{Int64, Bool, Float64, Float64}}, Matrix{Float64}, Vector{Causality.var\"#sample!#66\"{StochasticModel{GaussianInferentialSI, IndexedGraphs.IndexedBiDiGraph{Int64}, Vector{UnitRate}}, TrackingHeaps.TrackingHeap{Int64, Float64, 2, TrackingHeaps.MinHeapOrder, TrackingHeaps.NoTrainingWheels}, BitVector, Int64}}, Vector{Float64}, Vector{Matrix{Float64}}, Vector{Matrix{Float64}}, Vector{Matrix{Float64}}, Vector{Matrix{Float64}}, Vector{Matrix{Float64}}, Int64, UnitRange{Int64}})\u001b[22m\u001b[0m\u001b[1m(\u001b[22m\u001b[90monethread\u001b[39m::\u001b[0mBool\u001b[0m\u001b[1m)\u001b[22m\n    \u001b[90m    @ \u001b[39m\u001b[35mCausality\u001b[39m \u001b[90m./\u001b[39m\u001b[90m\u001b[4mthreadingconstructs.jl:85\u001b[24m\u001b[39m\n     [12] \u001b[0m\u001b[1m(::Causality.var\"#128#threadsfor_fun#52\"{StochasticModel{GaussianInferentialSI, IndexedGraphs.IndexedBiDiGraph{Int64}, Vector{UnitRate}}, Int64, StochasticModel{GenerativeSI{GaussianRate, GaussianRate}, IndexedGraphs.IndexedBiDiGraph{Int64}, Vector{UnitRate}}, Vector{Tuple{Int64, Bool, Float64, Float64}}, Matrix{Float64}, Vector{Causality.var\"#sample!#66\"{StochasticModel{GaussianInferentialSI, IndexedGraphs.IndexedBiDiGraph{Int64}, Vector{UnitRate}}, TrackingHeaps.TrackingHeap{Int64, Float64, 2, TrackingHeaps.MinHeapOrder, TrackingHeaps.NoTrainingWheels}, BitVector, Int64}}, Vector{Float64}, Vector{Matrix{Float64}}, Vector{Matrix{Float64}}, Vector{Matrix{Float64}}, Vector{Matrix{Float64}}, Vector{Matrix{Float64}}, Int64, UnitRange{Int64}})\u001b[22m\u001b[0m\u001b[1m(\u001b[22m\u001b[0m\u001b[1m)\u001b[22m\n    \u001b[90m    @ \u001b[39m\u001b[35mCausality\u001b[39m \u001b[90m./\u001b[39m\u001b[90m\u001b[4mthreadingconstructs.jl:52\u001b[24m\u001b[39m",
     "output_type": "error",
     "traceback": [
      "TaskFailedException\n\n\u001b[91m    nested task error: \u001b[39mInterruptException:\n    Stacktrace:\n      [1] \u001b[0m\u001b[1mreshape\u001b[22m\n    \u001b[90m    @ \u001b[39m\u001b[90m./\u001b[39m\u001b[90m\u001b[4mreshapedarray.jl:51\u001b[24m\u001b[39m\u001b[90m [inlined]\u001b[39m\n      [2] \u001b[0m\u001b[1mreshape\u001b[22m\n    \u001b[90m    @ \u001b[39m\u001b[90m./\u001b[39m\u001b[90m\u001b[4mreshapedarray.jl:111\u001b[24m\u001b[39m\u001b[90m [inlined]\u001b[39m\n      [3] \u001b[0m\u001b[1mreshape\u001b[22m\n    \u001b[90m    @ \u001b[39m\u001b[90m./\u001b[39m\u001b[90m\u001b[4mreshapedarray.jl:141\u001b[24m\u001b[39m\u001b[90m [inlined]\u001b[39m\n      [4] \u001b[0m\u001b[1m_maybe_reshape_parent\u001b[22m\n    \u001b[90m    @ \u001b[39m\u001b[90m./\u001b[39m\u001b[90m\u001b[4msubarray.jl:124\u001b[24m\u001b[39m\u001b[90m [inlined]\u001b[39m\n      [5] \u001b[0m\u001b[1mview\u001b[22m\n    \u001b[90m    @ \u001b[39m\u001b[90m./\u001b[39m\u001b[90m\u001b[4msubarray.jl:178\u001b[24m\u001b[39m\u001b[90m [inlined]\u001b[39m\n      [6] \u001b[0m\u001b[1mmaybeview\u001b[22m\n    \u001b[90m    @ \u001b[39m\u001b[90m./\u001b[39m\u001b[90m\u001b[4mviews.jl:146\u001b[24m\u001b[39m\u001b[90m [inlined]\u001b[39m\n      [7] \u001b[0m\u001b[1mindividual\u001b[22m\u001b[0m\u001b[1m(\u001b[22m\u001b[90m#unused#\u001b[39m::\u001b[0mType\u001b[90m{GaussianInferentialSI}\u001b[39m, \u001b[90mθi\u001b[39m::\u001b[0mSubArray\u001b[90m{Float64, 1, Matrix{Float64}, Tuple{Base.Slice{Base.OneTo{Int64}}, Int64}, true}\u001b[39m, \u001b[90mθg\u001b[39m::\u001b[0mMatrix\u001b[90m{Float64}\u001b[39m\u001b[0m\u001b[1m)\u001b[22m\n    \u001b[90m    @ \u001b[39m\u001b[35mCausality\u001b[39m \u001b[90m~/git/Causality/src/\u001b[39m\u001b[90m\u001b[4msi.jl:20\u001b[24m\u001b[39m\n      [8] \u001b[0m\u001b[1mindividual\u001b[22m\u001b[90m (repeats 3 times)\u001b[39m\n    \u001b[90m    @ \u001b[39m\u001b[90m~/git/Causality/src/\u001b[39m\u001b[90m\u001b[4mstochasticmodel.jl:51\u001b[24m\u001b[39m\u001b[90m [inlined]\u001b[39m\n      [9] \u001b[0m\u001b[1m(::Causality.var\"#sample!#66\"{StochasticModel{GaussianInferentialSI, IndexedGraphs.IndexedBiDiGraph{Int64}, Vector{UnitRate}}, TrackingHeaps.TrackingHeap{Int64, Float64, 2, TrackingHeaps.MinHeapOrder, TrackingHeaps.NoTrainingWheels}, BitVector, Int64})\u001b[22m\u001b[0m\u001b[1m(\u001b[22m\u001b[90mx\u001b[39m::\u001b[0mMatrix\u001b[90m{Float64}\u001b[39m\u001b[0m\u001b[1m)\u001b[22m\n    \u001b[90m    @ \u001b[39m\u001b[35mCausality\u001b[39m \u001b[90m~/git/Causality/src/\u001b[39m\u001b[90m\u001b[4msi.jl:70\u001b[24m\u001b[39m\n     [10] \u001b[0m\u001b[1mmacro expansion\u001b[22m\n    \u001b[90m    @ \u001b[39m\u001b[90m~/git/Causality/src/\u001b[39m\u001b[90m\u001b[4mvariation.jl:123\u001b[24m\u001b[39m\u001b[90m [inlined]\u001b[39m\n     [11] \u001b[0m\u001b[1m(::Causality.var\"#128#threadsfor_fun#52\"{StochasticModel{GaussianInferentialSI, IndexedGraphs.IndexedBiDiGraph{Int64}, Vector{UnitRate}}, Int64, StochasticModel{GenerativeSI{GaussianRate, GaussianRate}, IndexedGraphs.IndexedBiDiGraph{Int64}, Vector{UnitRate}}, Vector{Tuple{Int64, Bool, Float64, Float64}}, Matrix{Float64}, Vector{Causality.var\"#sample!#66\"{StochasticModel{GaussianInferentialSI, IndexedGraphs.IndexedBiDiGraph{Int64}, Vector{UnitRate}}, TrackingHeaps.TrackingHeap{Int64, Float64, 2, TrackingHeaps.MinHeapOrder, TrackingHeaps.NoTrainingWheels}, BitVector, Int64}}, Vector{Float64}, Vector{Matrix{Float64}}, Vector{Matrix{Float64}}, Vector{Matrix{Float64}}, Vector{Matrix{Float64}}, Vector{Matrix{Float64}}, Int64, UnitRange{Int64}})\u001b[22m\u001b[0m\u001b[1m(\u001b[22m\u001b[90monethread\u001b[39m::\u001b[0mBool\u001b[0m\u001b[1m)\u001b[22m\n    \u001b[90m    @ \u001b[39m\u001b[35mCausality\u001b[39m \u001b[90m./\u001b[39m\u001b[90m\u001b[4mthreadingconstructs.jl:85\u001b[24m\u001b[39m\n     [12] \u001b[0m\u001b[1m(::Causality.var\"#128#threadsfor_fun#52\"{StochasticModel{GaussianInferentialSI, IndexedGraphs.IndexedBiDiGraph{Int64}, Vector{UnitRate}}, Int64, StochasticModel{GenerativeSI{GaussianRate, GaussianRate}, IndexedGraphs.IndexedBiDiGraph{Int64}, Vector{UnitRate}}, Vector{Tuple{Int64, Bool, Float64, Float64}}, Matrix{Float64}, Vector{Causality.var\"#sample!#66\"{StochasticModel{GaussianInferentialSI, IndexedGraphs.IndexedBiDiGraph{Int64}, Vector{UnitRate}}, TrackingHeaps.TrackingHeap{Int64, Float64, 2, TrackingHeaps.MinHeapOrder, TrackingHeaps.NoTrainingWheels}, BitVector, Int64}}, Vector{Float64}, Vector{Matrix{Float64}}, Vector{Matrix{Float64}}, Vector{Matrix{Float64}}, Vector{Matrix{Float64}}, Vector{Matrix{Float64}}, Int64, UnitRange{Int64}})\u001b[22m\u001b[0m\u001b[1m(\u001b[22m\u001b[0m\u001b[1m)\u001b[22m\n    \u001b[90m    @ \u001b[39m\u001b[35mCausality\u001b[39m \u001b[90m./\u001b[39m\u001b[90m\u001b[4mthreadingconstructs.jl:52\u001b[24m\u001b[39m",
      "",
      "Stacktrace:",
      " [1] wait",
      "   @ ./task.jl:322 [inlined]",
      " [2] threading_run(func::Function)",
      "   @ Base.Threads ./threadingconstructs.jl:38",
      " [3] macro expansion",
      "   @ ./threadingconstructs.jl:97 [inlined]",
      " [4] descend!(Mp::StochasticModel{GenerativeSI{GaussianRate, GaussianRate}, IndexedGraphs.IndexedBiDiGraph{Int64}, Vector{UnitRate}}, O::Vector{Tuple{Int64, Bool, Float64, Float64}}; M::StochasticModel{GaussianInferentialSI, IndexedGraphs.IndexedBiDiGraph{Int64}, Vector{UnitRate}}, numiters::Int64, numsamples::Int64, ε::Float64, descender::SignDescender, hyperdescender::SignDescender, θmin::Matrix{Float64}, θmax::Matrix{Float64}, θgenmin::Matrix{Float64}, θgenmax::Matrix{Float64}, learnhyper::Int64)",
      "   @ Causality ~/git/Causality/src/variation.jl:120",
      " [5] top-level scope",
      "   @ In[40]:3",
      " [6] eval",
      "   @ ./boot.jl:373 [inlined]",
      " [7] include_string(mapexpr::typeof(REPL.softscope), mod::Module, code::String, filename::String)",
      "   @ Base ./loading.jl:1196"
     ]
    }
   ],
   "source": [
    "using ProgressMeter\n",
    "ProgressMeter.ijulia_behavior(:clear)\n",
    "F = descend!(Mp2, O; M=M, numsamples=2000, numiters=200, \n",
    "         θmin=θmin, θmax=θmax,θgenmin=θgenmin, θgenmax=θgenmax, descender=SignDescender(0.1),\n",
    "         hyperdescender=SignDescender(0.),learnhyper=1);\n",
    "F = descend!(Mp2, O; M=M, numsamples=2000, numiters=200, \n",
    "         θmin=θmin, θmax=θmax,θgenmin=θgenmin, θgenmax=θgenmax, descender=SignDescender(0.02),\n",
    "         hyperdescender=SignDescender(0.),learnhyper=1);\n",
    "F"
   ]
  },
  {
   "cell_type": "code",
   "execution_count": 28,
   "metadata": {},
   "outputs": [
    {
     "name": "stderr",
     "output_type": "stream",
     "text": [
      "\u001b[32mProgress: 100%|█████████████████████████████████████████| Time: 0:00:02\u001b[39m\n"
     ]
    }
   ],
   "source": [
    "statscau = prior(M, numsamples=10000);"
   ]
  },
  {
   "cell_type": "markdown",
   "metadata": {},
   "source": [
    "\n",
    "## Marginals and ROC curve"
   ]
  },
  {
   "cell_type": "code",
   "execution_count": 63,
   "metadata": {},
   "outputs": [
    {
     "data": {
      "text/plain": [
       "AUROC (generic function with 1 method)"
      ]
     },
     "execution_count": 63,
     "metadata": {},
     "output_type": "execute_result"
    }
   ],
   "source": [
    "function marginal(i, t, stats)\n",
    "    numsamp = size(stats,1)\n",
    "    sum(stats[:,i] .< t)/numsamp\n",
    "end\n",
    "\n",
    "function tpr(xtrue, rank) \n",
    "    cumsum(xtrue[rank]) ./( cumsum(xtrue[rank])[end])\n",
    "end\n",
    "\n",
    "function fpr(xtrue, rank) \n",
    "    N = size(rank,1)\n",
    "    return (range(1,N,length=N) .- cumsum(xtrue[rank])) ./ (range(1,N,length=N) .- cumsum(xtrue[rank]) )[end]\n",
    "end\n",
    "\n",
    "function ROC(xtrue, p)\n",
    "    N = size(xtrue,1)\n",
    "    rank = sortperm(p, rev=true)\n",
    "    \n",
    "    return fpr(xtrue, rank) , tpr(xtrue, rank)\n",
    "end\n",
    "\n",
    "function AUROC(ROC)\n",
    "    N = size(ROC[1],1) \n",
    "    AU = 0\n",
    "    for t = 1:N-1\n",
    "        AU += ROC[2][t] * (ROC[1][t+1] - ROC[1][t])\n",
    "    end\n",
    "    return AU\n",
    "end"
   ]
  },
  {
   "cell_type": "code",
   "execution_count": 71,
   "metadata": {},
   "outputs": [
    {
     "data": {
      "image/svg+xml": [
       "<?xml version=\"1.0\" encoding=\"utf-8\"?>\n",
       "<svg xmlns=\"http://www.w3.org/2000/svg\" xmlns:xlink=\"http://www.w3.org/1999/xlink\" width=\"600\" height=\"400\" viewBox=\"0 0 2400 1600\">\n",
       "<defs>\n",
       "  <clipPath id=\"clip720\">\n",
       "    <rect x=\"0\" y=\"0\" width=\"2400\" height=\"1600\"/>\n",
       "  </clipPath>\n",
       "</defs>\n",
       "<path clip-path=\"url(#clip720)\" d=\"\n",
       "M0 1600 L2400 1600 L2400 0 L0 0  Z\n",
       "  \" fill=\"#ffffff\" fill-rule=\"evenodd\" fill-opacity=\"1\"/>\n",
       "<defs>\n",
       "  <clipPath id=\"clip721\">\n",
       "    <rect x=\"480\" y=\"0\" width=\"1681\" height=\"1600\"/>\n",
       "  </clipPath>\n",
       "</defs>\n",
       "<path clip-path=\"url(#clip720)\" d=\"\n",
       "M156.112 1486.45 L2352.76 1486.45 L2352.76 47.2441 L156.112 47.2441  Z\n",
       "  \" fill=\"#ffffff\" fill-rule=\"evenodd\" fill-opacity=\"1\"/>\n",
       "<defs>\n",
       "  <clipPath id=\"clip722\">\n",
       "    <rect x=\"156\" y=\"47\" width=\"2198\" height=\"1440\"/>\n",
       "  </clipPath>\n",
       "</defs>\n",
       "<polyline clip-path=\"url(#clip722)\" style=\"stroke:#000000; stroke-linecap:butt; stroke-linejoin:round; stroke-width:2; stroke-opacity:0.1; fill:none\" points=\"\n",
       "  654.556,1486.45 654.556,47.2441 \n",
       "  \"/>\n",
       "<polyline clip-path=\"url(#clip722)\" style=\"stroke:#000000; stroke-linecap:butt; stroke-linejoin:round; stroke-width:2; stroke-opacity:0.1; fill:none\" points=\"\n",
       "  1199.9,1486.45 1199.9,47.2441 \n",
       "  \"/>\n",
       "<polyline clip-path=\"url(#clip722)\" style=\"stroke:#000000; stroke-linecap:butt; stroke-linejoin:round; stroke-width:2; stroke-opacity:0.1; fill:none\" points=\"\n",
       "  1745.24,1486.45 1745.24,47.2441 \n",
       "  \"/>\n",
       "<polyline clip-path=\"url(#clip722)\" style=\"stroke:#000000; stroke-linecap:butt; stroke-linejoin:round; stroke-width:2; stroke-opacity:0.1; fill:none\" points=\"\n",
       "  2290.59,1486.45 2290.59,47.2441 \n",
       "  \"/>\n",
       "<polyline clip-path=\"url(#clip720)\" style=\"stroke:#000000; stroke-linecap:butt; stroke-linejoin:round; stroke-width:4; stroke-opacity:1; fill:none\" points=\"\n",
       "  156.112,1486.45 2352.76,1486.45 \n",
       "  \"/>\n",
       "<polyline clip-path=\"url(#clip720)\" style=\"stroke:#000000; stroke-linecap:butt; stroke-linejoin:round; stroke-width:4; stroke-opacity:1; fill:none\" points=\"\n",
       "  654.556,1486.45 654.556,1467.55 \n",
       "  \"/>\n",
       "<polyline clip-path=\"url(#clip720)\" style=\"stroke:#000000; stroke-linecap:butt; stroke-linejoin:round; stroke-width:4; stroke-opacity:1; fill:none\" points=\"\n",
       "  1199.9,1486.45 1199.9,1467.55 \n",
       "  \"/>\n",
       "<polyline clip-path=\"url(#clip720)\" style=\"stroke:#000000; stroke-linecap:butt; stroke-linejoin:round; stroke-width:4; stroke-opacity:1; fill:none\" points=\"\n",
       "  1745.24,1486.45 1745.24,1467.55 \n",
       "  \"/>\n",
       "<polyline clip-path=\"url(#clip720)\" style=\"stroke:#000000; stroke-linecap:butt; stroke-linejoin:round; stroke-width:4; stroke-opacity:1; fill:none\" points=\"\n",
       "  2290.59,1486.45 2290.59,1467.55 \n",
       "  \"/>\n",
       "<path clip-path=\"url(#clip720)\" d=\"M644.834 1514.29 L663.19 1514.29 L663.19 1518.22 L649.116 1518.22 L649.116 1526.7 Q650.135 1526.35 651.153 1526.19 Q652.172 1526 653.19 1526 Q658.977 1526 662.357 1529.17 Q665.737 1532.34 665.737 1537.76 Q665.737 1543.34 662.264 1546.44 Q658.792 1549.52 652.473 1549.52 Q650.297 1549.52 648.028 1549.15 Q645.783 1548.78 643.376 1548.04 L643.376 1543.34 Q645.459 1544.47 647.681 1545.03 Q649.903 1545.58 652.38 1545.58 Q656.385 1545.58 658.723 1543.48 Q661.061 1541.37 661.061 1537.76 Q661.061 1534.15 658.723 1532.04 Q656.385 1529.94 652.38 1529.94 Q650.505 1529.94 648.63 1530.35 Q646.778 1530.77 644.834 1531.65 L644.834 1514.29 Z\" fill=\"#000000\" fill-rule=\"evenodd\" fill-opacity=\"1\" /><path clip-path=\"url(#clip720)\" d=\"M1174.59 1544.91 L1182.23 1544.91 L1182.23 1518.55 L1173.92 1520.21 L1173.92 1515.95 L1182.18 1514.29 L1186.86 1514.29 L1186.86 1544.91 L1194.49 1544.91 L1194.49 1548.85 L1174.59 1548.85 L1174.59 1544.91 Z\" fill=\"#000000\" fill-rule=\"evenodd\" fill-opacity=\"1\" /><path clip-path=\"url(#clip720)\" d=\"M1213.94 1517.37 Q1210.33 1517.37 1208.5 1520.93 Q1206.69 1524.47 1206.69 1531.6 Q1206.69 1538.71 1208.5 1542.27 Q1210.33 1545.82 1213.94 1545.82 Q1217.57 1545.82 1219.38 1542.27 Q1221.21 1538.71 1221.21 1531.6 Q1221.21 1524.47 1219.38 1520.93 Q1217.57 1517.37 1213.94 1517.37 M1213.94 1513.66 Q1219.75 1513.66 1222.8 1518.27 Q1225.88 1522.85 1225.88 1531.6 Q1225.88 1540.33 1222.8 1544.94 Q1219.75 1549.52 1213.94 1549.52 Q1208.13 1549.52 1205.05 1544.94 Q1201.99 1540.33 1201.99 1531.6 Q1201.99 1522.85 1205.05 1518.27 Q1208.13 1513.66 1213.94 1513.66 Z\" fill=\"#000000\" fill-rule=\"evenodd\" fill-opacity=\"1\" /><path clip-path=\"url(#clip720)\" d=\"M1720.43 1544.91 L1728.07 1544.91 L1728.07 1518.55 L1719.76 1520.21 L1719.76 1515.95 L1728.02 1514.29 L1732.7 1514.29 L1732.7 1544.91 L1740.34 1544.91 L1740.34 1548.85 L1720.43 1548.85 L1720.43 1544.91 Z\" fill=\"#000000\" fill-rule=\"evenodd\" fill-opacity=\"1\" /><path clip-path=\"url(#clip720)\" d=\"M1749.83 1514.29 L1768.18 1514.29 L1768.18 1518.22 L1754.11 1518.22 L1754.11 1526.7 Q1755.13 1526.35 1756.15 1526.19 Q1757.16 1526 1758.18 1526 Q1763.97 1526 1767.35 1529.17 Q1770.73 1532.34 1770.73 1537.76 Q1770.73 1543.34 1767.26 1546.44 Q1763.78 1549.52 1757.47 1549.52 Q1755.29 1549.52 1753.02 1549.15 Q1750.78 1548.78 1748.37 1548.04 L1748.37 1543.34 Q1750.45 1544.47 1752.67 1545.03 Q1754.9 1545.58 1757.37 1545.58 Q1761.38 1545.58 1763.72 1543.48 Q1766.05 1541.37 1766.05 1537.76 Q1766.05 1534.15 1763.72 1532.04 Q1761.38 1529.94 1757.37 1529.94 Q1755.5 1529.94 1753.62 1530.35 Q1751.77 1530.77 1749.83 1531.65 L1749.83 1514.29 Z\" fill=\"#000000\" fill-rule=\"evenodd\" fill-opacity=\"1\" /><path clip-path=\"url(#clip720)\" d=\"M2269.36 1544.91 L2285.68 1544.91 L2285.68 1548.85 L2263.74 1548.85 L2263.74 1544.91 Q2266.4 1542.16 2270.98 1537.53 Q2275.59 1532.88 2276.77 1531.53 Q2279.01 1529.01 2279.89 1527.27 Q2280.8 1525.51 2280.8 1523.82 Q2280.8 1521.07 2278.85 1519.33 Q2276.93 1517.6 2273.83 1517.6 Q2271.63 1517.6 2269.17 1518.36 Q2266.74 1519.13 2263.97 1520.68 L2263.97 1515.95 Q2266.79 1514.82 2269.24 1514.24 Q2271.7 1513.66 2273.73 1513.66 Q2279.11 1513.66 2282.3 1516.35 Q2285.49 1519.03 2285.49 1523.52 Q2285.49 1525.65 2284.68 1527.57 Q2283.9 1529.47 2281.79 1532.07 Q2281.21 1532.74 2278.11 1535.95 Q2275.01 1539.15 2269.36 1544.91 Z\" fill=\"#000000\" fill-rule=\"evenodd\" fill-opacity=\"1\" /><path clip-path=\"url(#clip720)\" d=\"M2305.49 1517.37 Q2301.88 1517.37 2300.05 1520.93 Q2298.25 1524.47 2298.25 1531.6 Q2298.25 1538.71 2300.05 1542.27 Q2301.88 1545.82 2305.49 1545.82 Q2309.13 1545.82 2310.93 1542.27 Q2312.76 1538.71 2312.76 1531.6 Q2312.76 1524.47 2310.93 1520.93 Q2309.13 1517.37 2305.49 1517.37 M2305.49 1513.66 Q2311.3 1513.66 2314.36 1518.27 Q2317.44 1522.85 2317.44 1531.6 Q2317.44 1540.33 2314.36 1544.94 Q2311.3 1549.52 2305.49 1549.52 Q2299.68 1549.52 2296.61 1544.94 Q2293.55 1540.33 2293.55 1531.6 Q2293.55 1522.85 2296.61 1518.27 Q2299.68 1513.66 2305.49 1513.66 Z\" fill=\"#000000\" fill-rule=\"evenodd\" fill-opacity=\"1\" /><polyline clip-path=\"url(#clip722)\" style=\"stroke:#000000; stroke-linecap:butt; stroke-linejoin:round; stroke-width:2; stroke-opacity:0.1; fill:none\" points=\"\n",
       "  156.112,1446.96 2352.76,1446.96 \n",
       "  \"/>\n",
       "<polyline clip-path=\"url(#clip722)\" style=\"stroke:#000000; stroke-linecap:butt; stroke-linejoin:round; stroke-width:2; stroke-opacity:0.1; fill:none\" points=\"\n",
       "  156.112,1032.51 2352.76,1032.51 \n",
       "  \"/>\n",
       "<polyline clip-path=\"url(#clip722)\" style=\"stroke:#000000; stroke-linecap:butt; stroke-linejoin:round; stroke-width:2; stroke-opacity:0.1; fill:none\" points=\"\n",
       "  156.112,618.058 2352.76,618.058 \n",
       "  \"/>\n",
       "<polyline clip-path=\"url(#clip722)\" style=\"stroke:#000000; stroke-linecap:butt; stroke-linejoin:round; stroke-width:2; stroke-opacity:0.1; fill:none\" points=\"\n",
       "  156.112,203.608 2352.76,203.608 \n",
       "  \"/>\n",
       "<polyline clip-path=\"url(#clip720)\" style=\"stroke:#000000; stroke-linecap:butt; stroke-linejoin:round; stroke-width:4; stroke-opacity:1; fill:none\" points=\"\n",
       "  156.112,1486.45 156.112,47.2441 \n",
       "  \"/>\n",
       "<polyline clip-path=\"url(#clip720)\" style=\"stroke:#000000; stroke-linecap:butt; stroke-linejoin:round; stroke-width:4; stroke-opacity:1; fill:none\" points=\"\n",
       "  156.112,1446.96 175.01,1446.96 \n",
       "  \"/>\n",
       "<polyline clip-path=\"url(#clip720)\" style=\"stroke:#000000; stroke-linecap:butt; stroke-linejoin:round; stroke-width:4; stroke-opacity:1; fill:none\" points=\"\n",
       "  156.112,1032.51 175.01,1032.51 \n",
       "  \"/>\n",
       "<polyline clip-path=\"url(#clip720)\" style=\"stroke:#000000; stroke-linecap:butt; stroke-linejoin:round; stroke-width:4; stroke-opacity:1; fill:none\" points=\"\n",
       "  156.112,618.058 175.01,618.058 \n",
       "  \"/>\n",
       "<polyline clip-path=\"url(#clip720)\" style=\"stroke:#000000; stroke-linecap:butt; stroke-linejoin:round; stroke-width:4; stroke-opacity:1; fill:none\" points=\"\n",
       "  156.112,203.608 175.01,203.608 \n",
       "  \"/>\n",
       "<path clip-path=\"url(#clip720)\" d=\"M62.9365 1432.76 Q59.3254 1432.76 57.4967 1436.32 Q55.6912 1439.86 55.6912 1446.99 Q55.6912 1454.1 57.4967 1457.67 Q59.3254 1461.21 62.9365 1461.21 Q66.5707 1461.21 68.3763 1457.67 Q70.205 1454.1 70.205 1446.99 Q70.205 1439.86 68.3763 1436.32 Q66.5707 1432.76 62.9365 1432.76 M62.9365 1429.05 Q68.7467 1429.05 71.8022 1433.66 Q74.8809 1438.24 74.8809 1446.99 Q74.8809 1455.72 71.8022 1460.33 Q68.7467 1464.91 62.9365 1464.91 Q57.1264 1464.91 54.0477 1460.33 Q50.9921 1455.72 50.9921 1446.99 Q50.9921 1438.24 54.0477 1433.66 Q57.1264 1429.05 62.9365 1429.05 Z\" fill=\"#000000\" fill-rule=\"evenodd\" fill-opacity=\"1\" /><path clip-path=\"url(#clip720)\" d=\"M83.0984 1458.36 L87.9827 1458.36 L87.9827 1464.24 L83.0984 1464.24 L83.0984 1458.36 Z\" fill=\"#000000\" fill-rule=\"evenodd\" fill-opacity=\"1\" /><path clip-path=\"url(#clip720)\" d=\"M108.168 1432.76 Q104.557 1432.76 102.728 1436.32 Q100.922 1439.86 100.922 1446.99 Q100.922 1454.1 102.728 1457.67 Q104.557 1461.21 108.168 1461.21 Q111.802 1461.21 113.608 1457.67 Q115.436 1454.1 115.436 1446.99 Q115.436 1439.86 113.608 1436.32 Q111.802 1432.76 108.168 1432.76 M108.168 1429.05 Q113.978 1429.05 117.033 1433.66 Q120.112 1438.24 120.112 1446.99 Q120.112 1455.72 117.033 1460.33 Q113.978 1464.91 108.168 1464.91 Q102.358 1464.91 99.2789 1460.33 Q96.2234 1455.72 96.2234 1446.99 Q96.2234 1438.24 99.2789 1433.66 Q102.358 1429.05 108.168 1429.05 Z\" fill=\"#000000\" fill-rule=\"evenodd\" fill-opacity=\"1\" /><path clip-path=\"url(#clip720)\" d=\"M64.1634 1018.31 Q60.5523 1018.31 58.7236 1021.87 Q56.918 1025.41 56.918 1032.54 Q56.918 1039.65 58.7236 1043.21 Q60.5523 1046.76 64.1634 1046.76 Q67.7976 1046.76 69.6031 1043.21 Q71.4318 1039.65 71.4318 1032.54 Q71.4318 1025.41 69.6031 1021.87 Q67.7976 1018.31 64.1634 1018.31 M64.1634 1014.6 Q69.9735 1014.6 73.029 1019.21 Q76.1077 1023.79 76.1077 1032.54 Q76.1077 1041.27 73.029 1045.88 Q69.9735 1050.46 64.1634 1050.46 Q58.3532 1050.46 55.2745 1045.88 Q52.219 1041.27 52.219 1032.54 Q52.219 1023.79 55.2745 1019.21 Q58.3532 1014.6 64.1634 1014.6 Z\" fill=\"#000000\" fill-rule=\"evenodd\" fill-opacity=\"1\" /><path clip-path=\"url(#clip720)\" d=\"M84.3253 1043.91 L89.2095 1043.91 L89.2095 1049.79 L84.3253 1049.79 L84.3253 1043.91 Z\" fill=\"#000000\" fill-rule=\"evenodd\" fill-opacity=\"1\" /><path clip-path=\"url(#clip720)\" d=\"M100.205 1045.85 L107.844 1045.85 L107.844 1019.49 L99.5335 1021.15 L99.5335 1016.9 L107.797 1015.23 L112.473 1015.23 L112.473 1045.85 L120.112 1045.85 L120.112 1049.79 L100.205 1049.79 L100.205 1045.85 Z\" fill=\"#000000\" fill-rule=\"evenodd\" fill-opacity=\"1\" /><path clip-path=\"url(#clip720)\" d=\"M64.5337 603.857 Q60.9226 603.857 59.0939 607.422 Q57.2884 610.963 57.2884 618.093 Q57.2884 625.199 59.0939 628.764 Q60.9226 632.306 64.5337 632.306 Q68.168 632.306 69.9735 628.764 Q71.8022 625.199 71.8022 618.093 Q71.8022 610.963 69.9735 607.422 Q68.168 603.857 64.5337 603.857 M64.5337 600.153 Q70.3439 600.153 73.3994 604.76 Q76.4781 609.343 76.4781 618.093 Q76.4781 626.82 73.3994 631.426 Q70.3439 636.01 64.5337 636.01 Q58.7236 636.01 55.6449 631.426 Q52.5893 626.82 52.5893 618.093 Q52.5893 609.343 55.6449 604.76 Q58.7236 600.153 64.5337 600.153 Z\" fill=\"#000000\" fill-rule=\"evenodd\" fill-opacity=\"1\" /><path clip-path=\"url(#clip720)\" d=\"M84.6956 629.459 L89.5799 629.459 L89.5799 635.338 L84.6956 635.338 L84.6956 629.459 Z\" fill=\"#000000\" fill-rule=\"evenodd\" fill-opacity=\"1\" /><path clip-path=\"url(#clip720)\" d=\"M103.793 631.403 L120.112 631.403 L120.112 635.338 L98.1678 635.338 L98.1678 631.403 Q100.83 628.649 105.413 624.019 Q110.02 619.366 111.2 618.024 Q113.445 615.5 114.325 613.764 Q115.228 612.005 115.228 610.315 Q115.228 607.561 113.283 605.825 Q111.362 604.088 108.26 604.088 Q106.061 604.088 103.608 604.852 Q101.177 605.616 98.3993 607.167 L98.3993 602.445 Q101.223 601.311 103.677 600.732 Q106.131 600.153 108.168 600.153 Q113.538 600.153 116.733 602.838 Q119.927 605.524 119.927 610.014 Q119.927 612.144 119.117 614.065 Q118.33 615.963 116.223 618.556 Q115.645 619.227 112.543 622.445 Q109.441 625.639 103.793 631.403 Z\" fill=\"#000000\" fill-rule=\"evenodd\" fill-opacity=\"1\" /><path clip-path=\"url(#clip720)\" d=\"M63.5847 189.407 Q59.9736 189.407 58.1449 192.971 Q56.3393 196.513 56.3393 203.643 Q56.3393 210.749 58.1449 214.314 Q59.9736 217.856 63.5847 217.856 Q67.2189 217.856 69.0244 214.314 Q70.8531 210.749 70.8531 203.643 Q70.8531 196.513 69.0244 192.971 Q67.2189 189.407 63.5847 189.407 M63.5847 185.703 Q69.3948 185.703 72.4503 190.309 Q75.529 194.893 75.529 203.643 Q75.529 212.369 72.4503 216.976 Q69.3948 221.559 63.5847 221.559 Q57.7745 221.559 54.6958 216.976 Q51.6403 212.369 51.6403 203.643 Q51.6403 194.893 54.6958 190.309 Q57.7745 185.703 63.5847 185.703 Z\" fill=\"#000000\" fill-rule=\"evenodd\" fill-opacity=\"1\" /><path clip-path=\"url(#clip720)\" d=\"M83.7466 215.008 L88.6308 215.008 L88.6308 220.888 L83.7466 220.888 L83.7466 215.008 Z\" fill=\"#000000\" fill-rule=\"evenodd\" fill-opacity=\"1\" /><path clip-path=\"url(#clip720)\" d=\"M112.983 202.254 Q116.339 202.971 118.214 205.24 Q120.112 207.508 120.112 210.842 Q120.112 215.957 116.594 218.758 Q113.075 221.559 106.594 221.559 Q104.418 221.559 102.103 221.119 Q99.8113 220.703 97.3576 219.846 L97.3576 215.332 Q99.3021 216.467 101.617 217.045 Q103.932 217.624 106.455 217.624 Q110.853 217.624 113.145 215.888 Q115.459 214.152 115.459 210.842 Q115.459 207.786 113.307 206.073 Q111.177 204.337 107.358 204.337 L103.33 204.337 L103.33 200.495 L107.543 200.495 Q110.992 200.495 112.82 199.129 Q114.649 197.74 114.649 195.147 Q114.649 192.485 112.751 191.073 Q110.876 189.638 107.358 189.638 Q105.436 189.638 103.237 190.055 Q101.038 190.471 98.3993 191.351 L98.3993 187.184 Q101.061 186.444 103.376 186.073 Q105.714 185.703 107.774 185.703 Q113.098 185.703 116.2 188.133 Q119.302 190.541 119.302 194.661 Q119.302 197.532 117.658 199.522 Q116.015 201.49 112.983 202.254 Z\" fill=\"#000000\" fill-rule=\"evenodd\" fill-opacity=\"1\" /><polyline clip-path=\"url(#clip722)\" style=\"stroke:#009af9; stroke-linecap:butt; stroke-linejoin:round; stroke-width:4; stroke-opacity:1; fill:none\" points=\"\n",
       "  218.281,1444.89 228.695,1444.89 239.108,1444.89 249.522,1444.89 259.936,1444.89 270.349,1444.89 280.763,1444.89 291.176,1444.89 301.59,1444.47 312.004,1444.06 \n",
       "  322.417,1444.06 332.831,1444.06 343.244,1444.06 353.658,1444.06 364.072,1444.06 374.485,1443.23 384.899,1442.81 395.312,1442.81 405.726,1442.81 416.14,1442.81 \n",
       "  426.553,1442.81 436.967,1442.4 447.38,1442.4 457.794,1442.4 468.208,1442.4 478.621,1442.4 489.035,1442.4 499.448,1442.4 509.862,1442.4 520.276,1442.4 \n",
       "  530.689,1441.99 541.103,1441.99 551.516,1441.99 561.93,1441.99 572.344,1441.99 582.757,1441.99 593.171,1441.99 603.584,1441.16 613.998,1440.74 624.412,1440.74 \n",
       "  634.825,1440.74 645.239,1440.74 655.652,1440.74 666.066,1440.74 676.479,1440.33 686.893,1440.33 697.307,1439.91 707.72,1439.5 718.134,1439.5 728.547,1439.5 \n",
       "  738.961,1438.67 749.375,1438.26 759.788,1437.84 770.202,1437.84 780.615,1437.84 791.029,1437.84 801.443,1437.84 811.856,1437.84 822.27,1437.84 832.683,1437.43 \n",
       "  843.097,1437.01 853.511,1436.18 863.924,1436.18 874.338,1435.77 884.751,1435.35 895.165,1435.35 905.579,1435.35 915.992,1434.94 926.406,1434.94 936.819,1434.53 \n",
       "  947.233,1433.28 957.647,1433.28 968.06,1431.62 978.474,1431.62 988.887,1431.21 999.301,1431.21 1009.71,1430.8 1020.13,1428.72 1030.54,1427.48 1040.96,1424.99 \n",
       "  1051.37,1423.75 1061.78,1422.51 1072.2,1421.26 1082.61,1420.43 1093.02,1417.53 1103.44,1416.7 1113.85,1415.88 1124.26,1414.63 1134.68,1412.56 1145.09,1412.15 \n",
       "  1155.5,1411.32 1165.92,1410.07 1176.33,1409.24 1186.75,1407.17 1197.16,1404.27 1207.57,1403.86 1217.99,1402.61 1228.4,1399.71 1238.81,1398.47 1249.23,1395.15 \n",
       "  1259.64,1393.08 1270.05,1390.18 1280.47,1387.28 1290.88,1386.03 1301.3,1383.96 1311.71,1380.23 1322.12,1377.75 1332.54,1376.5 1342.95,1374.84 1353.36,1371.53 \n",
       "  1363.78,1368.21 1374.19,1364.48 1384.6,1360.34 1395.02,1356.61 1405.43,1353.29 1415.84,1347.91 1426.26,1342.1 1436.67,1336.3 1447.09,1331.74 1457.5,1327.6 \n",
       "  1467.91,1323.04 1478.33,1317.65 1488.74,1313.92 1499.15,1307.29 1509.57,1301.07 1519.98,1296.51 1530.39,1289.47 1540.81,1281.59 1551.22,1273.72 1561.64,1266.26 \n",
       "  1572.05,1257.56 1582.46,1247.61 1592.88,1240.56 1603.29,1231.03 1613.7,1221.91 1624.12,1211.97 1634.53,1204.92 1644.94,1194.97 1655.36,1186.27 1665.77,1174.25 \n",
       "  1676.18,1165.96 1686.6,1153.53 1697.01,1142.75 1707.43,1129.9 1717.84,1119.13 1728.25,1109.18 1738.67,1099.24 1749.08,1086.39 1759.49,1074.78 1769.91,1064.01 \n",
       "  1780.32,1053.23 1790.73,1039.14 1801.15,1021.73 1811.56,1006.4 1821.97,989.406 1832.39,976.143 1842.8,962.881 1853.22,946.717 1863.63,927.653 1874.04,910.246 \n",
       "  1884.46,887.865 1894.87,872.116 1905.28,857.196 1915.7,840.204 1926.11,828.185 1936.52,814.508 1946.94,792.956 1957.35,777.207 1967.77,758.557 1978.18,741.15 \n",
       "  1988.59,724.986 1999.01,708.408 2009.42,688.515 2019.83,669.865 2030.25,653.701 2040.66,634.636 2051.07,614.328 2061.49,594.435 2071.9,572.054 2082.31,548.431 \n",
       "  2092.73,528.537 2103.14,498.282 2113.56,476.316 2123.97,452.693 2134.38,432.385 2144.8,406.274 2155.21,380.164 2165.62,357.783 2176.04,335.403 2186.45,315.095 \n",
       "  2196.86,294.787 2207.28,271.992 2217.69,248.369 2228.11,221.429 2238.52,200.292 2248.93,176.669 2259.35,154.288 2269.76,136.467 2280.17,112.429 2290.59,87.9763 \n",
       "  \n",
       "  \"/>\n",
       "<polyline clip-path=\"url(#clip722)\" style=\"stroke:#e26f46; stroke-linecap:butt; stroke-linejoin:round; stroke-width:4; stroke-opacity:1; fill:none\" points=\"\n",
       "  218.281,1445.72 228.695,1445.3 239.108,1444.89 249.522,1444.89 259.936,1444.89 270.349,1444.89 280.763,1444.89 291.176,1444.47 301.59,1444.06 312.004,1443.64 \n",
       "  322.417,1443.64 332.831,1443.64 343.244,1443.23 353.658,1443.23 364.072,1442.81 374.485,1442.81 384.899,1442.81 395.312,1442.4 405.726,1442.4 416.14,1442.4 \n",
       "  426.553,1442.4 436.967,1442.4 447.38,1441.57 457.794,1440.74 468.208,1440.74 478.621,1440.74 489.035,1440.33 499.448,1440.33 509.862,1439.91 520.276,1439.91 \n",
       "  530.689,1439.91 541.103,1439.91 551.516,1439.5 561.93,1439.5 572.344,1438.67 582.757,1438.67 593.171,1438.26 603.584,1438.26 613.998,1438.26 624.412,1438.26 \n",
       "  634.825,1438.26 645.239,1438.26 655.652,1438.26 666.066,1438.26 676.479,1437.84 686.893,1437.84 697.307,1437.84 707.72,1437.43 718.134,1437.43 728.547,1437.01 \n",
       "  738.961,1437.01 749.375,1436.6 759.788,1436.6 770.202,1436.18 780.615,1436.18 791.029,1436.18 801.443,1436.18 811.856,1436.18 822.27,1435.77 832.683,1435.35 \n",
       "  843.097,1435.35 853.511,1435.35 863.924,1435.35 874.338,1435.35 884.751,1434.53 895.165,1434.11 905.579,1433.7 915.992,1432.45 926.406,1432.04 936.819,1431.62 \n",
       "  947.233,1431.62 957.647,1430.8 968.06,1428.72 978.474,1428.72 988.887,1427.89 999.301,1427.07 1009.71,1425.82 1020.13,1424.58 1030.54,1424.16 1040.96,1424.16 \n",
       "  1051.37,1423.34 1061.78,1422.51 1072.2,1418.78 1082.61,1416.7 1093.02,1415.05 1103.44,1413.8 1113.85,1412.15 1124.26,1410.49 1134.68,1408 1145.09,1406.76 \n",
       "  1155.5,1404.69 1165.92,1401.78 1176.33,1399.3 1186.75,1395.57 1197.16,1395.15 1207.57,1391.84 1217.99,1390.18 1228.4,1387.69 1238.81,1385.62 1249.23,1383.13 \n",
       "  1259.64,1381.89 1270.05,1380.23 1280.47,1377.75 1290.88,1373.19 1301.3,1371.11 1311.71,1369.04 1322.12,1365.31 1332.54,1361.58 1342.95,1358.68 1353.36,1357.44 \n",
       "  1363.78,1352.88 1374.19,1349.56 1384.6,1346.25 1395.02,1340.45 1405.43,1335.47 1415.84,1330.91 1426.26,1326.35 1436.67,1320.97 1447.09,1315.58 1457.5,1312.68 \n",
       "  1467.91,1310.19 1478.33,1305.22 1488.74,1299 1499.15,1291.54 1509.57,1286.57 1519.98,1281.18 1530.39,1273.72 1540.81,1267.92 1551.22,1260.46 1561.64,1253.83 \n",
       "  1572.05,1243.88 1582.46,1236 1592.88,1226.06 1603.29,1219.84 1613.7,1215.28 1624.12,1206.58 1634.53,1201.19 1644.94,1193.32 1655.36,1185.86 1665.77,1177.57 \n",
       "  1676.18,1168.03 1686.6,1156.43 1697.01,1147.31 1707.43,1136.12 1717.84,1124.52 1728.25,1113.33 1738.67,1103.79 1749.08,1092.6 1759.49,1079.34 1769.91,1068.15 \n",
       "  1780.32,1059.03 1790.73,1049.92 1801.15,1033.75 1811.56,1021.73 1821.97,1013.03 1832.39,998.938 1842.8,986.919 1853.22,972.828 1863.63,960.394 1874.04,950.033 \n",
       "  1884.46,935.942 1894.87,923.094 1905.28,907.345 1915.7,895.74 1926.11,879.576 1936.52,867.972 1946.94,853.466 1957.35,839.375 1967.77,827.77 1978.18,809.12 \n",
       "  1988.59,793.371 1999.01,777.622 2009.42,764.359 2019.83,749.854 2030.25,737.834 2040.66,724.572 2051.07,711.31 2061.49,694.317 2071.9,681.055 2082.31,666.549 \n",
       "  2092.73,646.241 2103.14,634.222 2113.56,617.229 2123.97,599.408 2134.38,584.073 2144.8,564.594 2155.21,547.187 2165.62,531.438 2176.04,516.932 2186.45,499.94 \n",
       "  2196.86,482.119 2207.28,464.712 2217.69,446.061 2228.11,425.339 2238.52,410.004 2248.93,389.282 2259.35,369.388 2269.76,348.251 2280.17,332.916 2290.59,315.924 \n",
       "  \n",
       "  \"/>\n",
       "<path clip-path=\"url(#clip720)\" d=\"\n",
       "M1810.46 250.738 L2279.53 250.738 L2279.53 95.2176 L1810.46 95.2176  Z\n",
       "  \" fill=\"#ffffff\" fill-rule=\"evenodd\" fill-opacity=\"1\"/>\n",
       "<polyline clip-path=\"url(#clip720)\" style=\"stroke:#000000; stroke-linecap:butt; stroke-linejoin:round; stroke-width:4; stroke-opacity:1; fill:none\" points=\"\n",
       "  1810.46,250.738 2279.53,250.738 2279.53,95.2176 1810.46,95.2176 1810.46,250.738 \n",
       "  \"/>\n",
       "<polyline clip-path=\"url(#clip720)\" style=\"stroke:#009af9; stroke-linecap:butt; stroke-linejoin:round; stroke-width:4; stroke-opacity:1; fill:none\" points=\"\n",
       "  1834.87,147.058 1981.31,147.058 \n",
       "  \"/>\n",
       "<path clip-path=\"url(#clip720)\" d=\"M2026.23 139.407 L2026.23 143.389 Q2024.42 142.393 2022.6 141.907 Q2020.79 141.398 2018.94 141.398 Q2014.8 141.398 2012.5 144.037 Q2010.21 146.652 2010.21 151.398 Q2010.21 156.143 2012.5 158.782 Q2014.8 161.398 2018.94 161.398 Q2020.79 161.398 2022.6 160.912 Q2024.42 160.402 2026.23 159.407 L2026.23 163.342 Q2024.45 164.176 2022.53 164.592 Q2020.63 165.009 2018.48 165.009 Q2012.62 165.009 2009.17 161.328 Q2005.72 157.648 2005.72 151.398 Q2005.72 145.055 2009.19 141.421 Q2012.69 137.787 2018.75 137.787 Q2020.72 137.787 2022.6 138.203 Q2024.47 138.597 2026.23 139.407 Z\" fill=\"#000000\" fill-rule=\"evenodd\" fill-opacity=\"1\" /><path clip-path=\"url(#clip720)\" d=\"M2045.42 151.305 Q2040.26 151.305 2038.27 152.486 Q2036.28 153.666 2036.28 156.514 Q2036.28 158.782 2037.76 160.125 Q2039.26 161.444 2041.83 161.444 Q2045.37 161.444 2047.5 158.944 Q2049.66 156.421 2049.66 152.254 L2049.66 151.305 L2045.42 151.305 M2053.92 149.546 L2053.92 164.338 L2049.66 164.338 L2049.66 160.402 Q2048.2 162.763 2046.02 163.898 Q2043.85 165.009 2040.7 165.009 Q2036.72 165.009 2034.36 162.787 Q2032.02 160.541 2032.02 156.791 Q2032.02 152.416 2034.93 150.194 Q2037.87 147.972 2043.68 147.972 L2049.66 147.972 L2049.66 147.555 Q2049.66 144.615 2047.71 143.018 Q2045.79 141.398 2042.3 141.398 Q2040.07 141.398 2037.97 141.93 Q2035.86 142.463 2033.92 143.527 L2033.92 139.592 Q2036.25 138.69 2038.45 138.25 Q2040.65 137.787 2042.74 137.787 Q2048.36 137.787 2051.14 140.703 Q2053.92 143.62 2053.92 149.546 Z\" fill=\"#000000\" fill-rule=\"evenodd\" fill-opacity=\"1\" /><path clip-path=\"url(#clip720)\" d=\"M2062.25 154.106 L2062.25 138.412 L2066.51 138.412 L2066.51 153.944 Q2066.51 157.625 2067.94 159.476 Q2069.38 161.305 2072.25 161.305 Q2075.7 161.305 2077.69 159.106 Q2079.7 156.907 2079.7 153.111 L2079.7 138.412 L2083.96 138.412 L2083.96 164.338 L2079.7 164.338 L2079.7 160.356 Q2078.15 162.717 2076.09 163.875 Q2074.05 165.009 2071.35 165.009 Q2066.88 165.009 2064.56 162.231 Q2062.25 159.453 2062.25 154.106 M2072.97 137.787 L2072.97 137.787 Z\" fill=\"#000000\" fill-rule=\"evenodd\" fill-opacity=\"1\" /><polyline clip-path=\"url(#clip720)\" style=\"stroke:#e26f46; stroke-linecap:butt; stroke-linejoin:round; stroke-width:4; stroke-opacity:1; fill:none\" points=\"\n",
       "  1834.87,198.898 1981.31,198.898 \n",
       "  \"/>\n",
       "<path clip-path=\"url(#clip720)\" d=\"M2026.23 191.247 L2026.23 195.229 Q2024.42 194.233 2022.6 193.747 Q2020.79 193.238 2018.94 193.238 Q2014.8 193.238 2012.5 195.877 Q2010.21 198.492 2010.21 203.238 Q2010.21 207.983 2012.5 210.622 Q2014.8 213.238 2018.94 213.238 Q2020.79 213.238 2022.6 212.752 Q2024.42 212.242 2026.23 211.247 L2026.23 215.182 Q2024.45 216.016 2022.53 216.432 Q2020.63 216.849 2018.48 216.849 Q2012.62 216.849 2009.17 213.168 Q2005.72 209.488 2005.72 203.238 Q2005.72 196.895 2009.19 193.261 Q2012.69 189.627 2018.75 189.627 Q2020.72 189.627 2022.6 190.043 Q2024.47 190.437 2026.23 191.247 Z\" fill=\"#000000\" fill-rule=\"evenodd\" fill-opacity=\"1\" /><path clip-path=\"url(#clip720)\" d=\"M2045.42 203.145 Q2040.26 203.145 2038.27 204.326 Q2036.28 205.506 2036.28 208.354 Q2036.28 210.622 2037.76 211.965 Q2039.26 213.284 2041.83 213.284 Q2045.37 213.284 2047.5 210.784 Q2049.66 208.261 2049.66 204.094 L2049.66 203.145 L2045.42 203.145 M2053.92 201.386 L2053.92 216.178 L2049.66 216.178 L2049.66 212.242 Q2048.2 214.603 2046.02 215.738 Q2043.85 216.849 2040.7 216.849 Q2036.72 216.849 2034.36 214.627 Q2032.02 212.381 2032.02 208.631 Q2032.02 204.256 2034.93 202.034 Q2037.87 199.812 2043.68 199.812 L2049.66 199.812 L2049.66 199.395 Q2049.66 196.455 2047.71 194.858 Q2045.79 193.238 2042.3 193.238 Q2040.07 193.238 2037.97 193.77 Q2035.86 194.303 2033.92 195.367 L2033.92 191.432 Q2036.25 190.53 2038.45 190.09 Q2040.65 189.627 2042.74 189.627 Q2048.36 189.627 2051.14 192.543 Q2053.92 195.46 2053.92 201.386 Z\" fill=\"#000000\" fill-rule=\"evenodd\" fill-opacity=\"1\" /><path clip-path=\"url(#clip720)\" d=\"M2062.25 205.946 L2062.25 190.252 L2066.51 190.252 L2066.51 205.784 Q2066.51 209.465 2067.94 211.316 Q2069.38 213.145 2072.25 213.145 Q2075.7 213.145 2077.69 210.946 Q2079.7 208.747 2079.7 204.951 L2079.7 190.252 L2083.96 190.252 L2083.96 216.178 L2079.7 216.178 L2079.7 212.196 Q2078.15 214.557 2076.09 215.715 Q2074.05 216.849 2071.35 216.849 Q2066.88 216.849 2064.56 214.071 Q2062.25 211.293 2062.25 205.946 M2072.97 189.627 L2072.97 189.627 Z\" fill=\"#000000\" fill-rule=\"evenodd\" fill-opacity=\"1\" /><path clip-path=\"url(#clip720)\" d=\"M2092.92 181.618 L2097.6 181.618 L2097.6 195.784 L2114.59 195.784 L2114.59 181.618 L2119.26 181.618 L2119.26 216.178 L2114.59 216.178 L2114.59 199.719 L2097.6 199.719 L2097.6 216.178 L2092.92 216.178 L2092.92 181.618 Z\" fill=\"#000000\" fill-rule=\"evenodd\" fill-opacity=\"1\" /><path clip-path=\"url(#clip720)\" d=\"M2139.17 218.585 Q2137.36 223.215 2135.65 224.627 Q2133.94 226.039 2131.07 226.039 L2127.67 226.039 L2127.67 222.474 L2130.17 222.474 Q2131.92 222.474 2132.9 221.64 Q2133.87 220.807 2135.05 217.705 L2135.81 215.761 L2125.33 190.252 L2129.84 190.252 L2137.94 210.529 L2146.04 190.252 L2150.56 190.252 L2139.17 218.585 Z\" fill=\"#000000\" fill-rule=\"evenodd\" fill-opacity=\"1\" /><path clip-path=\"url(#clip720)\" d=\"M2160.56 212.289 L2160.56 226.039 L2156.28 226.039 L2156.28 190.252 L2160.56 190.252 L2160.56 194.187 Q2161.9 191.872 2163.94 190.761 Q2166 189.627 2168.85 189.627 Q2173.57 189.627 2176.51 193.377 Q2179.47 197.127 2179.47 203.238 Q2179.47 209.349 2176.51 213.099 Q2173.57 216.849 2168.85 216.849 Q2166 216.849 2163.94 215.738 Q2161.9 214.603 2160.56 212.289 M2175.05 203.238 Q2175.05 198.539 2173.1 195.877 Q2171.18 193.192 2167.8 193.192 Q2164.42 193.192 2162.48 195.877 Q2160.56 198.539 2160.56 203.238 Q2160.56 207.937 2162.48 210.622 Q2164.42 213.284 2167.8 213.284 Q2171.18 213.284 2173.1 210.622 Q2175.05 207.937 2175.05 203.238 Z\" fill=\"#000000\" fill-rule=\"evenodd\" fill-opacity=\"1\" /><path clip-path=\"url(#clip720)\" d=\"M2208.71 202.15 L2208.71 204.233 L2189.12 204.233 Q2189.4 208.631 2191.76 210.946 Q2194.15 213.238 2198.38 213.238 Q2200.84 213.238 2203.13 212.636 Q2205.44 212.034 2207.71 210.83 L2207.71 214.858 Q2205.42 215.83 2203.01 216.34 Q2200.6 216.849 2198.13 216.849 Q2191.92 216.849 2188.29 213.238 Q2184.68 209.627 2184.68 203.469 Q2184.68 197.104 2188.1 193.377 Q2191.55 189.627 2197.39 189.627 Q2202.62 189.627 2205.65 193.006 Q2208.71 196.363 2208.71 202.15 M2204.45 200.9 Q2204.4 197.405 2202.48 195.321 Q2200.58 193.238 2197.43 193.238 Q2193.87 193.238 2191.72 195.252 Q2189.59 197.266 2189.26 200.923 L2204.45 200.9 Z\" fill=\"#000000\" fill-rule=\"evenodd\" fill-opacity=\"1\" /><path clip-path=\"url(#clip720)\" d=\"M2230.72 194.233 Q2230 193.817 2229.15 193.631 Q2228.31 193.423 2227.29 193.423 Q2223.68 193.423 2221.74 195.784 Q2219.82 198.122 2219.82 202.52 L2219.82 216.178 L2215.54 216.178 L2215.54 190.252 L2219.82 190.252 L2219.82 194.28 Q2221.16 191.918 2223.31 190.784 Q2225.47 189.627 2228.54 189.627 Q2228.98 189.627 2229.52 189.696 Q2230.05 189.743 2230.7 189.858 L2230.72 194.233 Z\" fill=\"#000000\" fill-rule=\"evenodd\" fill-opacity=\"1\" /></svg>\n"
      ]
     },
     "execution_count": 71,
     "metadata": {},
     "output_type": "execute_result"
    }
   ],
   "source": [
    "#Marginals\n",
    "bins = 10 * Int(T)\n",
    "using Plots\n",
    "p_cau = zeros(N,bins)\n",
    "p_cauHyper = zeros(N,bins)\n",
    "for i = 1:N\n",
    "    for t = 1:bins\n",
    "       p_cau[i,t] = marginal(i, t*T/bins, statscau)\n",
    "       p_cauHyper[i,t] = marginal(i, t*T/bins, statscauHyper)\n",
    "    end\n",
    "end\n",
    "i = 150\n",
    "plot(LinRange(1,Int(T),bins),p_cau[i,:], label = \"cau\")\n",
    "plot!(LinRange(1,Int(T),bins),p_cauHyper[i,:], label = \"cauHyper\")"
   ]
  },
  {
   "cell_type": "code",
   "execution_count": 70,
   "metadata": {},
   "outputs": [
    {
     "data": {
      "image/svg+xml": [
       "<?xml version=\"1.0\" encoding=\"utf-8\"?>\n",
       "<svg xmlns=\"http://www.w3.org/2000/svg\" xmlns:xlink=\"http://www.w3.org/1999/xlink\" width=\"600\" height=\"400\" viewBox=\"0 0 2400 1600\">\n",
       "<defs>\n",
       "  <clipPath id=\"clip680\">\n",
       "    <rect x=\"0\" y=\"0\" width=\"2400\" height=\"1600\"/>\n",
       "  </clipPath>\n",
       "</defs>\n",
       "<path clip-path=\"url(#clip680)\" d=\"\n",
       "M0 1600 L2400 1600 L2400 0 L0 0  Z\n",
       "  \" fill=\"#ffffff\" fill-rule=\"evenodd\" fill-opacity=\"1\"/>\n",
       "<defs>\n",
       "  <clipPath id=\"clip681\">\n",
       "    <rect x=\"480\" y=\"0\" width=\"1681\" height=\"1600\"/>\n",
       "  </clipPath>\n",
       "</defs>\n",
       "<path clip-path=\"url(#clip680)\" d=\"\n",
       "M219.542 1423.18 L2352.76 1423.18 L2352.76 123.472 L219.542 123.472  Z\n",
       "  \" fill=\"#ffffff\" fill-rule=\"evenodd\" fill-opacity=\"1\"/>\n",
       "<defs>\n",
       "  <clipPath id=\"clip682\">\n",
       "    <rect x=\"219\" y=\"123\" width=\"2134\" height=\"1301\"/>\n",
       "  </clipPath>\n",
       "</defs>\n",
       "<polyline clip-path=\"url(#clip682)\" style=\"stroke:#000000; stroke-linecap:butt; stroke-linejoin:round; stroke-width:2; stroke-opacity:0.1; fill:none\" points=\"\n",
       "  703.593,1423.18 703.593,123.472 \n",
       "  \"/>\n",
       "<polyline clip-path=\"url(#clip682)\" style=\"stroke:#000000; stroke-linecap:butt; stroke-linejoin:round; stroke-width:2; stroke-opacity:0.1; fill:none\" points=\"\n",
       "  1233.19,1423.18 1233.19,123.472 \n",
       "  \"/>\n",
       "<polyline clip-path=\"url(#clip682)\" style=\"stroke:#000000; stroke-linecap:butt; stroke-linejoin:round; stroke-width:2; stroke-opacity:0.1; fill:none\" points=\"\n",
       "  1762.79,1423.18 1762.79,123.472 \n",
       "  \"/>\n",
       "<polyline clip-path=\"url(#clip682)\" style=\"stroke:#000000; stroke-linecap:butt; stroke-linejoin:round; stroke-width:2; stroke-opacity:0.1; fill:none\" points=\"\n",
       "  2292.38,1423.18 2292.38,123.472 \n",
       "  \"/>\n",
       "<polyline clip-path=\"url(#clip680)\" style=\"stroke:#000000; stroke-linecap:butt; stroke-linejoin:round; stroke-width:4; stroke-opacity:1; fill:none\" points=\"\n",
       "  219.542,1423.18 2352.76,1423.18 \n",
       "  \"/>\n",
       "<polyline clip-path=\"url(#clip680)\" style=\"stroke:#000000; stroke-linecap:butt; stroke-linejoin:round; stroke-width:4; stroke-opacity:1; fill:none\" points=\"\n",
       "  703.593,1423.18 703.593,1404.28 \n",
       "  \"/>\n",
       "<polyline clip-path=\"url(#clip680)\" style=\"stroke:#000000; stroke-linecap:butt; stroke-linejoin:round; stroke-width:4; stroke-opacity:1; fill:none\" points=\"\n",
       "  1233.19,1423.18 1233.19,1404.28 \n",
       "  \"/>\n",
       "<polyline clip-path=\"url(#clip680)\" style=\"stroke:#000000; stroke-linecap:butt; stroke-linejoin:round; stroke-width:4; stroke-opacity:1; fill:none\" points=\"\n",
       "  1762.79,1423.18 1762.79,1404.28 \n",
       "  \"/>\n",
       "<polyline clip-path=\"url(#clip680)\" style=\"stroke:#000000; stroke-linecap:butt; stroke-linejoin:round; stroke-width:4; stroke-opacity:1; fill:none\" points=\"\n",
       "  2292.38,1423.18 2292.38,1404.28 \n",
       "  \"/>\n",
       "<path clip-path=\"url(#clip680)\" d=\"M693.871 1451.02 L712.227 1451.02 L712.227 1454.96 L698.153 1454.96 L698.153 1463.43 Q699.172 1463.08 700.19 1462.92 Q701.209 1462.73 702.227 1462.73 Q708.014 1462.73 711.394 1465.9 Q714.774 1469.08 714.774 1474.49 Q714.774 1480.07 711.301 1483.17 Q707.829 1486.25 701.51 1486.25 Q699.334 1486.25 697.065 1485.88 Q694.82 1485.51 692.413 1484.77 L692.413 1480.07 Q694.496 1481.2 696.718 1481.76 Q698.94 1482.32 701.417 1482.32 Q705.422 1482.32 707.76 1480.21 Q710.098 1478.1 710.098 1474.49 Q710.098 1470.88 707.76 1468.77 Q705.422 1466.67 701.417 1466.67 Q699.542 1466.67 697.667 1467.08 Q695.815 1467.5 693.871 1468.38 L693.871 1451.02 Z\" fill=\"#000000\" fill-rule=\"evenodd\" fill-opacity=\"1\" /><path clip-path=\"url(#clip680)\" d=\"M1207.88 1481.64 L1215.52 1481.64 L1215.52 1455.28 L1207.21 1456.95 L1207.21 1452.69 L1215.47 1451.02 L1220.15 1451.02 L1220.15 1481.64 L1227.78 1481.64 L1227.78 1485.58 L1207.88 1485.58 L1207.88 1481.64 Z\" fill=\"#000000\" fill-rule=\"evenodd\" fill-opacity=\"1\" /><path clip-path=\"url(#clip680)\" d=\"M1247.23 1454.1 Q1243.62 1454.1 1241.79 1457.66 Q1239.98 1461.2 1239.98 1468.33 Q1239.98 1475.44 1241.79 1479.01 Q1243.62 1482.55 1247.23 1482.55 Q1250.86 1482.55 1252.67 1479.01 Q1254.5 1475.44 1254.5 1468.33 Q1254.5 1461.2 1252.67 1457.66 Q1250.86 1454.1 1247.23 1454.1 M1247.23 1450.39 Q1253.04 1450.39 1256.09 1455 Q1259.17 1459.58 1259.17 1468.33 Q1259.17 1477.06 1256.09 1481.67 Q1253.04 1486.25 1247.23 1486.25 Q1241.42 1486.25 1238.34 1481.67 Q1235.28 1477.06 1235.28 1468.33 Q1235.28 1459.58 1238.34 1455 Q1241.42 1450.39 1247.23 1450.39 Z\" fill=\"#000000\" fill-rule=\"evenodd\" fill-opacity=\"1\" /><path clip-path=\"url(#clip680)\" d=\"M1737.97 1481.64 L1745.61 1481.64 L1745.61 1455.28 L1737.3 1456.95 L1737.3 1452.69 L1745.56 1451.02 L1750.24 1451.02 L1750.24 1481.64 L1757.88 1481.64 L1757.88 1485.58 L1737.97 1485.58 L1737.97 1481.64 Z\" fill=\"#000000\" fill-rule=\"evenodd\" fill-opacity=\"1\" /><path clip-path=\"url(#clip680)\" d=\"M1767.37 1451.02 L1785.73 1451.02 L1785.73 1454.96 L1771.65 1454.96 L1771.65 1463.43 Q1772.67 1463.08 1773.69 1462.92 Q1774.71 1462.73 1775.73 1462.73 Q1781.51 1462.73 1784.89 1465.9 Q1788.27 1469.08 1788.27 1474.49 Q1788.27 1480.07 1784.8 1483.17 Q1781.33 1486.25 1775.01 1486.25 Q1772.83 1486.25 1770.56 1485.88 Q1768.32 1485.51 1765.91 1484.77 L1765.91 1480.07 Q1767.99 1481.2 1770.22 1481.76 Q1772.44 1482.32 1774.92 1482.32 Q1778.92 1482.32 1781.26 1480.21 Q1783.6 1478.1 1783.6 1474.49 Q1783.6 1470.88 1781.26 1468.77 Q1778.92 1466.67 1774.92 1466.67 Q1773.04 1466.67 1771.17 1467.08 Q1769.31 1467.5 1767.37 1468.38 L1767.37 1451.02 Z\" fill=\"#000000\" fill-rule=\"evenodd\" fill-opacity=\"1\" /><path clip-path=\"url(#clip680)\" d=\"M2271.16 1481.64 L2287.47 1481.64 L2287.47 1485.58 L2265.53 1485.58 L2265.53 1481.64 Q2268.19 1478.89 2272.78 1474.26 Q2277.38 1469.61 2278.56 1468.27 Q2280.81 1465.74 2281.69 1464.01 Q2282.59 1462.25 2282.59 1460.56 Q2282.59 1457.8 2280.65 1456.07 Q2278.72 1454.33 2275.62 1454.33 Q2273.42 1454.33 2270.97 1455.09 Q2268.54 1455.86 2265.76 1457.41 L2265.76 1452.69 Q2268.59 1451.55 2271.04 1450.97 Q2273.49 1450.39 2275.53 1450.39 Q2280.9 1450.39 2284.09 1453.08 Q2287.29 1455.77 2287.29 1460.26 Q2287.29 1462.39 2286.48 1464.31 Q2285.69 1466.2 2283.59 1468.8 Q2283.01 1469.47 2279.91 1472.69 Q2276.8 1475.88 2271.16 1481.64 Z\" fill=\"#000000\" fill-rule=\"evenodd\" fill-opacity=\"1\" /><path clip-path=\"url(#clip680)\" d=\"M2307.29 1454.1 Q2303.68 1454.1 2301.85 1457.66 Q2300.04 1461.2 2300.04 1468.33 Q2300.04 1475.44 2301.85 1479.01 Q2303.68 1482.55 2307.29 1482.55 Q2310.92 1482.55 2312.73 1479.01 Q2314.56 1475.44 2314.56 1468.33 Q2314.56 1461.2 2312.73 1457.66 Q2310.92 1454.1 2307.29 1454.1 M2307.29 1450.39 Q2313.1 1450.39 2316.15 1455 Q2319.23 1459.58 2319.23 1468.33 Q2319.23 1477.06 2316.15 1481.67 Q2313.1 1486.25 2307.29 1486.25 Q2301.48 1486.25 2298.4 1481.67 Q2295.34 1477.06 2295.34 1468.33 Q2295.34 1459.58 2298.4 1455 Q2301.48 1450.39 2307.29 1450.39 Z\" fill=\"#000000\" fill-rule=\"evenodd\" fill-opacity=\"1\" /><path clip-path=\"url(#clip680)\" d=\"M1285.21 1522.27 L1285.21 1532.4 L1297.27 1532.4 L1297.27 1536.95 L1285.21 1536.95 L1285.21 1556.3 Q1285.21 1560.66 1286.39 1561.9 Q1287.6 1563.14 1291.26 1563.14 L1297.27 1563.14 L1297.27 1568.04 L1291.26 1568.04 Q1284.48 1568.04 1281.9 1565.53 Q1279.32 1562.98 1279.32 1556.3 L1279.32 1536.95 L1275.02 1536.95 L1275.02 1532.4 L1279.32 1532.4 L1279.32 1522.27 L1285.21 1522.27 Z\" fill=\"#000000\" fill-rule=\"evenodd\" fill-opacity=\"1\" /><polyline clip-path=\"url(#clip682)\" style=\"stroke:#000000; stroke-linecap:butt; stroke-linejoin:round; stroke-width:2; stroke-opacity:0.1; fill:none\" points=\"\n",
       "  219.542,1423.18 2352.76,1423.18 \n",
       "  \"/>\n",
       "<polyline clip-path=\"url(#clip682)\" style=\"stroke:#000000; stroke-linecap:butt; stroke-linejoin:round; stroke-width:2; stroke-opacity:0.1; fill:none\" points=\"\n",
       "  219.542,1168.34 2352.76,1168.34 \n",
       "  \"/>\n",
       "<polyline clip-path=\"url(#clip682)\" style=\"stroke:#000000; stroke-linecap:butt; stroke-linejoin:round; stroke-width:2; stroke-opacity:0.1; fill:none\" points=\"\n",
       "  219.542,913.491 2352.76,913.491 \n",
       "  \"/>\n",
       "<polyline clip-path=\"url(#clip682)\" style=\"stroke:#000000; stroke-linecap:butt; stroke-linejoin:round; stroke-width:2; stroke-opacity:0.1; fill:none\" points=\"\n",
       "  219.542,658.646 2352.76,658.646 \n",
       "  \"/>\n",
       "<polyline clip-path=\"url(#clip682)\" style=\"stroke:#000000; stroke-linecap:butt; stroke-linejoin:round; stroke-width:2; stroke-opacity:0.1; fill:none\" points=\"\n",
       "  219.542,403.801 2352.76,403.801 \n",
       "  \"/>\n",
       "<polyline clip-path=\"url(#clip682)\" style=\"stroke:#000000; stroke-linecap:butt; stroke-linejoin:round; stroke-width:2; stroke-opacity:0.1; fill:none\" points=\"\n",
       "  219.542,148.957 2352.76,148.957 \n",
       "  \"/>\n",
       "<polyline clip-path=\"url(#clip680)\" style=\"stroke:#000000; stroke-linecap:butt; stroke-linejoin:round; stroke-width:4; stroke-opacity:1; fill:none\" points=\"\n",
       "  219.542,1423.18 219.542,123.472 \n",
       "  \"/>\n",
       "<polyline clip-path=\"url(#clip680)\" style=\"stroke:#000000; stroke-linecap:butt; stroke-linejoin:round; stroke-width:4; stroke-opacity:1; fill:none\" points=\"\n",
       "  219.542,1423.18 238.44,1423.18 \n",
       "  \"/>\n",
       "<polyline clip-path=\"url(#clip680)\" style=\"stroke:#000000; stroke-linecap:butt; stroke-linejoin:round; stroke-width:4; stroke-opacity:1; fill:none\" points=\"\n",
       "  219.542,1168.34 238.44,1168.34 \n",
       "  \"/>\n",
       "<polyline clip-path=\"url(#clip680)\" style=\"stroke:#000000; stroke-linecap:butt; stroke-linejoin:round; stroke-width:4; stroke-opacity:1; fill:none\" points=\"\n",
       "  219.542,913.491 238.44,913.491 \n",
       "  \"/>\n",
       "<polyline clip-path=\"url(#clip680)\" style=\"stroke:#000000; stroke-linecap:butt; stroke-linejoin:round; stroke-width:4; stroke-opacity:1; fill:none\" points=\"\n",
       "  219.542,658.646 238.44,658.646 \n",
       "  \"/>\n",
       "<polyline clip-path=\"url(#clip680)\" style=\"stroke:#000000; stroke-linecap:butt; stroke-linejoin:round; stroke-width:4; stroke-opacity:1; fill:none\" points=\"\n",
       "  219.542,403.801 238.44,403.801 \n",
       "  \"/>\n",
       "<polyline clip-path=\"url(#clip680)\" style=\"stroke:#000000; stroke-linecap:butt; stroke-linejoin:round; stroke-width:4; stroke-opacity:1; fill:none\" points=\"\n",
       "  219.542,148.957 238.44,148.957 \n",
       "  \"/>\n",
       "<path clip-path=\"url(#clip680)\" d=\"M127.362 1408.98 Q123.751 1408.98 121.922 1412.54 Q120.117 1416.08 120.117 1423.21 Q120.117 1430.32 121.922 1433.89 Q123.751 1437.43 127.362 1437.43 Q130.996 1437.43 132.802 1433.89 Q134.63 1430.32 134.63 1423.21 Q134.63 1416.08 132.802 1412.54 Q130.996 1408.98 127.362 1408.98 M127.362 1405.27 Q133.172 1405.27 136.228 1409.88 Q139.306 1414.46 139.306 1423.21 Q139.306 1431.94 136.228 1436.55 Q133.172 1441.13 127.362 1441.13 Q121.552 1441.13 118.473 1436.55 Q115.418 1431.94 115.418 1423.21 Q115.418 1414.46 118.473 1409.88 Q121.552 1405.27 127.362 1405.27 Z\" fill=\"#000000\" fill-rule=\"evenodd\" fill-opacity=\"1\" /><path clip-path=\"url(#clip680)\" d=\"M147.524 1434.58 L152.408 1434.58 L152.408 1440.46 L147.524 1440.46 L147.524 1434.58 Z\" fill=\"#000000\" fill-rule=\"evenodd\" fill-opacity=\"1\" /><path clip-path=\"url(#clip680)\" d=\"M162.64 1405.9 L180.996 1405.9 L180.996 1409.84 L166.922 1409.84 L166.922 1418.31 Q167.94 1417.96 168.959 1417.8 Q169.977 1417.61 170.996 1417.61 Q176.783 1417.61 180.163 1420.78 Q183.542 1423.96 183.542 1429.37 Q183.542 1434.95 180.07 1438.05 Q176.598 1441.13 170.278 1441.13 Q168.102 1441.13 165.834 1440.76 Q163.589 1440.39 161.181 1439.65 L161.181 1434.95 Q163.265 1436.08 165.487 1436.64 Q167.709 1437.2 170.186 1437.2 Q174.19 1437.2 176.528 1435.09 Q178.866 1432.98 178.866 1429.37 Q178.866 1425.76 176.528 1423.65 Q174.19 1421.55 170.186 1421.55 Q168.311 1421.55 166.436 1421.96 Q164.584 1422.38 162.64 1423.26 L162.64 1405.9 Z\" fill=\"#000000\" fill-rule=\"evenodd\" fill-opacity=\"1\" /><path clip-path=\"url(#clip680)\" d=\"M126.205 1154.13 Q122.593 1154.13 120.765 1157.7 Q118.959 1161.24 118.959 1168.37 Q118.959 1175.48 120.765 1179.04 Q122.593 1182.58 126.205 1182.58 Q129.839 1182.58 131.644 1179.04 Q133.473 1175.48 133.473 1168.37 Q133.473 1161.24 131.644 1157.7 Q129.839 1154.13 126.205 1154.13 M126.205 1150.43 Q132.015 1150.43 135.07 1155.04 Q138.149 1159.62 138.149 1168.37 Q138.149 1177.1 135.07 1181.7 Q132.015 1186.29 126.205 1186.29 Q120.394 1186.29 117.316 1181.7 Q114.26 1177.1 114.26 1168.37 Q114.26 1159.62 117.316 1155.04 Q120.394 1150.43 126.205 1150.43 Z\" fill=\"#000000\" fill-rule=\"evenodd\" fill-opacity=\"1\" /><path clip-path=\"url(#clip680)\" d=\"M146.366 1179.74 L151.251 1179.74 L151.251 1185.62 L146.366 1185.62 L146.366 1179.74 Z\" fill=\"#000000\" fill-rule=\"evenodd\" fill-opacity=\"1\" /><path clip-path=\"url(#clip680)\" d=\"M172.014 1166.47 Q168.866 1166.47 167.015 1168.62 Q165.186 1170.78 165.186 1174.53 Q165.186 1178.25 167.015 1180.43 Q168.866 1182.58 172.014 1182.58 Q175.163 1182.58 176.991 1180.43 Q178.843 1178.25 178.843 1174.53 Q178.843 1170.78 176.991 1168.62 Q175.163 1166.47 172.014 1166.47 M181.297 1151.82 L181.297 1156.08 Q179.538 1155.24 177.732 1154.81 Q175.95 1154.37 174.19 1154.37 Q169.561 1154.37 167.107 1157.49 Q164.677 1160.62 164.329 1166.93 Q165.695 1164.92 167.755 1163.86 Q169.815 1162.77 172.292 1162.77 Q177.501 1162.77 180.51 1165.94 Q183.542 1169.09 183.542 1174.53 Q183.542 1179.85 180.394 1183.07 Q177.246 1186.29 172.014 1186.29 Q166.019 1186.29 162.848 1181.7 Q159.677 1177.1 159.677 1168.37 Q159.677 1160.18 163.565 1155.31 Q167.454 1150.43 174.005 1150.43 Q175.764 1150.43 177.547 1150.78 Q179.352 1151.12 181.297 1151.82 Z\" fill=\"#000000\" fill-rule=\"evenodd\" fill-opacity=\"1\" /><path clip-path=\"url(#clip680)\" d=\"M127.269 899.289 Q123.658 899.289 121.83 902.854 Q120.024 906.396 120.024 913.525 Q120.024 920.632 121.83 924.197 Q123.658 927.738 127.269 927.738 Q130.904 927.738 132.709 924.197 Q134.538 920.632 134.538 913.525 Q134.538 906.396 132.709 902.854 Q130.904 899.289 127.269 899.289 M127.269 895.586 Q133.08 895.586 136.135 900.192 Q139.214 904.775 139.214 913.525 Q139.214 922.252 136.135 926.859 Q133.08 931.442 127.269 931.442 Q121.459 931.442 118.381 926.859 Q115.325 922.252 115.325 913.525 Q115.325 904.775 118.381 900.192 Q121.459 895.586 127.269 895.586 Z\" fill=\"#000000\" fill-rule=\"evenodd\" fill-opacity=\"1\" /><path clip-path=\"url(#clip680)\" d=\"M147.431 924.891 L152.316 924.891 L152.316 930.771 L147.431 930.771 L147.431 924.891 Z\" fill=\"#000000\" fill-rule=\"evenodd\" fill-opacity=\"1\" /><path clip-path=\"url(#clip680)\" d=\"M161.32 896.211 L183.542 896.211 L183.542 898.201 L170.996 930.771 L166.112 930.771 L177.917 900.146 L161.32 900.146 L161.32 896.211 Z\" fill=\"#000000\" fill-rule=\"evenodd\" fill-opacity=\"1\" /><path clip-path=\"url(#clip680)\" d=\"M126.459 644.445 Q122.848 644.445 121.019 648.009 Q119.214 651.551 119.214 658.681 Q119.214 665.787 121.019 669.352 Q122.848 672.894 126.459 672.894 Q130.093 672.894 131.899 669.352 Q133.728 665.787 133.728 658.681 Q133.728 651.551 131.899 648.009 Q130.093 644.445 126.459 644.445 M126.459 640.741 Q132.269 640.741 135.325 645.347 Q138.404 649.931 138.404 658.681 Q138.404 667.407 135.325 672.014 Q132.269 676.597 126.459 676.597 Q120.649 676.597 117.57 672.014 Q114.515 667.407 114.515 658.681 Q114.515 649.931 117.57 645.347 Q120.649 640.741 126.459 640.741 Z\" fill=\"#000000\" fill-rule=\"evenodd\" fill-opacity=\"1\" /><path clip-path=\"url(#clip680)\" d=\"M146.621 670.046 L151.505 670.046 L151.505 675.926 L146.621 675.926 L146.621 670.046 Z\" fill=\"#000000\" fill-rule=\"evenodd\" fill-opacity=\"1\" /><path clip-path=\"url(#clip680)\" d=\"M171.69 659.514 Q168.357 659.514 166.436 661.296 Q164.538 663.079 164.538 666.204 Q164.538 669.329 166.436 671.111 Q168.357 672.894 171.69 672.894 Q175.024 672.894 176.945 671.111 Q178.866 669.306 178.866 666.204 Q178.866 663.079 176.945 661.296 Q175.047 659.514 171.69 659.514 M167.015 657.523 Q164.005 656.782 162.315 654.722 Q160.649 652.662 160.649 649.699 Q160.649 645.556 163.589 643.148 Q166.552 640.741 171.69 640.741 Q176.852 640.741 179.792 643.148 Q182.732 645.556 182.732 649.699 Q182.732 652.662 181.042 654.722 Q179.376 656.782 176.389 657.523 Q179.769 658.31 181.644 660.602 Q183.542 662.894 183.542 666.204 Q183.542 671.227 180.464 673.912 Q177.408 676.597 171.69 676.597 Q165.973 676.597 162.894 673.912 Q159.839 671.227 159.839 666.204 Q159.839 662.894 161.737 660.602 Q163.635 658.31 167.015 657.523 M165.302 650.139 Q165.302 652.824 166.968 654.329 Q168.658 655.833 171.69 655.833 Q174.7 655.833 176.389 654.329 Q178.102 652.824 178.102 650.139 Q178.102 647.454 176.389 645.949 Q174.7 644.445 171.69 644.445 Q168.658 644.445 166.968 645.949 Q165.302 647.454 165.302 650.139 Z\" fill=\"#000000\" fill-rule=\"evenodd\" fill-opacity=\"1\" /><path clip-path=\"url(#clip680)\" d=\"M126.552 389.6 Q122.941 389.6 121.112 393.165 Q119.306 396.706 119.306 403.836 Q119.306 410.942 121.112 414.507 Q122.941 418.049 126.552 418.049 Q130.186 418.049 131.992 414.507 Q133.82 410.942 133.82 403.836 Q133.82 396.706 131.992 393.165 Q130.186 389.6 126.552 389.6 M126.552 385.896 Q132.362 385.896 135.417 390.503 Q138.496 395.086 138.496 403.836 Q138.496 412.563 135.417 417.169 Q132.362 421.753 126.552 421.753 Q120.742 421.753 117.663 417.169 Q114.607 412.563 114.607 403.836 Q114.607 395.086 117.663 390.503 Q120.742 385.896 126.552 385.896 Z\" fill=\"#000000\" fill-rule=\"evenodd\" fill-opacity=\"1\" /><path clip-path=\"url(#clip680)\" d=\"M146.714 415.202 L151.598 415.202 L151.598 421.081 L146.714 421.081 L146.714 415.202 Z\" fill=\"#000000\" fill-rule=\"evenodd\" fill-opacity=\"1\" /><path clip-path=\"url(#clip680)\" d=\"M161.922 420.364 L161.922 416.104 Q163.681 416.938 165.487 417.378 Q167.292 417.817 169.028 417.817 Q173.658 417.817 176.089 414.716 Q178.542 411.591 178.889 405.248 Q177.547 407.239 175.487 408.304 Q173.427 409.368 170.927 409.368 Q165.741 409.368 162.709 406.243 Q159.7 403.095 159.7 397.655 Q159.7 392.331 162.848 389.114 Q165.996 385.896 171.227 385.896 Q177.223 385.896 180.371 390.503 Q183.542 395.086 183.542 403.836 Q183.542 412.007 179.653 416.891 Q175.788 421.753 169.237 421.753 Q167.477 421.753 165.672 421.405 Q163.866 421.058 161.922 420.364 M171.227 405.711 Q174.376 405.711 176.204 403.558 Q178.056 401.405 178.056 397.655 Q178.056 393.929 176.204 391.776 Q174.376 389.6 171.227 389.6 Q168.079 389.6 166.227 391.776 Q164.399 393.929 164.399 397.655 Q164.399 401.405 166.227 403.558 Q168.079 405.711 171.227 405.711 Z\" fill=\"#000000\" fill-rule=\"evenodd\" fill-opacity=\"1\" /><path clip-path=\"url(#clip680)\" d=\"M117.177 162.301 L124.816 162.301 L124.816 135.936 L116.506 137.602 L116.506 133.343 L124.769 131.677 L129.445 131.677 L129.445 162.301 L137.084 162.301 L137.084 166.237 L117.177 166.237 L117.177 162.301 Z\" fill=\"#000000\" fill-rule=\"evenodd\" fill-opacity=\"1\" /><path clip-path=\"url(#clip680)\" d=\"M146.529 160.357 L151.413 160.357 L151.413 166.237 L146.529 166.237 L146.529 160.357 Z\" fill=\"#000000\" fill-rule=\"evenodd\" fill-opacity=\"1\" /><path clip-path=\"url(#clip680)\" d=\"M171.598 134.755 Q167.987 134.755 166.158 138.32 Q164.352 141.862 164.352 148.991 Q164.352 156.098 166.158 159.663 Q167.987 163.204 171.598 163.204 Q175.232 163.204 177.038 159.663 Q178.866 156.098 178.866 148.991 Q178.866 141.862 177.038 138.32 Q175.232 134.755 171.598 134.755 M171.598 131.052 Q177.408 131.052 180.464 135.658 Q183.542 140.241 183.542 148.991 Q183.542 157.718 180.464 162.325 Q177.408 166.908 171.598 166.908 Q165.788 166.908 162.709 162.325 Q159.653 157.718 159.653 148.991 Q159.653 140.241 162.709 135.658 Q165.788 131.052 171.598 131.052 Z\" fill=\"#000000\" fill-rule=\"evenodd\" fill-opacity=\"1\" /><path clip-path=\"url(#clip680)\" d=\"M22.818 866.743 L46.4666 875.464 L46.4666 857.99 L22.818 866.743 M16.4842 870.371 L16.4842 863.082 L64.0042 844.972 L64.0042 851.656 L51.8138 855.985 L51.8138 877.405 L64.0042 881.734 L64.0042 888.513 L16.4842 870.371 Z\" fill=\"#000000\" fill-rule=\"evenodd\" fill-opacity=\"1\" /><path clip-path=\"url(#clip680)\" d=\"M16.4842 838.765 L16.4842 832.304 L45.3526 832.304 Q52.9915 832.304 56.3653 829.535 Q59.7073 826.766 59.7073 820.56 Q59.7073 814.385 56.3653 811.616 Q52.9915 808.847 45.3526 808.847 L16.4842 808.847 L16.4842 802.385 L46.1484 802.385 Q55.4423 802.385 60.1847 807.001 Q64.9272 811.584 64.9272 820.56 Q64.9272 829.567 60.1847 834.182 Q55.4423 838.765 46.1484 838.765 L16.4842 838.765 Z\" fill=\"#000000\" fill-rule=\"evenodd\" fill-opacity=\"1\" /><path clip-path=\"url(#clip680)\" d=\"M41.7242 767.788 Q42.4244 765.719 44.7161 763.777 Q47.0077 761.804 51.0181 759.831 L64.0042 753.306 L64.0042 760.213 L51.8138 766.292 Q47.0395 768.647 45.48 770.875 Q43.9204 773.071 43.9204 776.891 L43.9204 783.893 L64.0042 783.893 L64.0042 790.322 L16.4842 790.322 L16.4842 775.809 Q16.4842 767.661 19.8898 763.65 Q23.2955 759.64 30.1704 759.64 Q34.6582 759.64 37.6183 761.74 Q40.5784 763.809 41.7242 767.788 M21.7677 783.893 L38.6368 783.893 L38.6368 775.809 Q38.6368 771.162 36.5043 768.806 Q34.34 766.419 30.1704 766.419 Q26.0009 766.419 23.9002 768.806 Q21.7677 771.162 21.7677 775.809 L21.7677 783.893 Z\" fill=\"#000000\" fill-rule=\"evenodd\" fill-opacity=\"1\" /><path clip-path=\"url(#clip680)\" d=\"M20.8447 725.742 Q20.8447 732.745 26.0645 736.882 Q31.2844 740.988 40.2919 740.988 Q49.2675 740.988 54.4874 736.882 Q59.7073 732.745 59.7073 725.742 Q59.7073 718.74 54.4874 714.666 Q49.2675 710.56 40.2919 710.56 Q31.2844 710.56 26.0645 714.666 Q20.8447 718.74 20.8447 725.742 M15.6248 725.742 Q15.6248 715.748 22.3406 709.764 Q29.0246 703.781 40.2919 703.781 Q51.5274 703.781 58.2432 709.764 Q64.9272 715.748 64.9272 725.742 Q64.9272 735.768 58.2432 741.784 Q51.5592 747.768 40.2919 747.768 Q29.0246 747.768 22.3406 741.784 Q15.6248 735.768 15.6248 725.742 Z\" fill=\"#000000\" fill-rule=\"evenodd\" fill-opacity=\"1\" /><path clip-path=\"url(#clip680)\" d=\"M20.1444 658.139 L26.9239 658.139 Q23.9002 661.385 22.4043 665.077 Q20.9083 668.737 20.9083 672.875 Q20.9083 681.023 25.9054 685.352 Q30.8707 689.681 40.2919 689.681 Q49.6813 689.681 54.6784 685.352 Q59.6436 681.023 59.6436 672.875 Q59.6436 668.737 58.1477 665.077 Q56.6518 661.385 53.6281 658.139 L60.3439 658.139 Q62.6355 661.512 63.7814 665.3 Q64.9272 669.056 64.9272 673.257 Q64.9272 684.047 58.3387 690.254 Q51.7183 696.46 40.2919 696.46 Q28.8336 696.46 22.2451 690.254 Q15.6248 684.047 15.6248 673.257 Q15.6248 668.992 16.7706 665.236 Q17.8846 661.449 20.1444 658.139 Z\" fill=\"#000000\" fill-rule=\"evenodd\" fill-opacity=\"1\" /><path clip-path=\"url(#clip680)\" d=\"M337.974 20.1573 L326.875 50.2555 L349.114 50.2555 L337.974 20.1573 M333.356 12.096 L342.633 12.096 L365.682 72.576 L357.175 72.576 L351.666 57.061 L324.404 57.061 L318.894 72.576 L310.266 72.576 L333.356 12.096 Z\" fill=\"#000000\" fill-rule=\"evenodd\" fill-opacity=\"1\" /><path clip-path=\"url(#clip680)\" d=\"M373.582 12.096 L381.805 12.096 L381.805 48.8377 Q381.805 58.5599 385.329 62.8538 Q388.854 67.1073 396.753 67.1073 Q404.612 67.1073 408.136 62.8538 Q411.66 58.5599 411.66 48.8377 L411.66 12.096 L419.883 12.096 L419.883 49.8504 Q419.883 61.6791 414.01 67.7149 Q408.176 73.7508 396.753 73.7508 Q385.289 73.7508 379.415 67.7149 Q373.582 61.6791 373.582 49.8504 L373.582 12.096 Z\" fill=\"#000000\" fill-rule=\"evenodd\" fill-opacity=\"1\" /><path clip-path=\"url(#clip680)\" d=\"M463.917 44.2197 Q466.55 45.1109 469.021 48.0275 Q471.532 50.9442 474.044 56.0483 L482.348 72.576 L473.558 72.576 L465.821 57.061 Q462.823 50.9847 459.987 48.9997 Q457.192 47.0148 452.331 47.0148 L443.419 47.0148 L443.419 72.576 L435.236 72.576 L435.236 12.096 L453.708 12.096 Q464.079 12.096 469.183 16.4305 Q474.287 20.7649 474.287 29.5149 Q474.287 35.2267 471.613 38.994 Q468.98 42.7613 463.917 44.2197 M443.419 18.8205 L443.419 40.2903 L453.708 40.2903 Q459.623 40.2903 462.62 37.5762 Q465.659 34.8216 465.659 29.5149 Q465.659 24.2082 462.62 21.5346 Q459.623 18.8205 453.708 18.8205 L443.419 18.8205 Z\" fill=\"#000000\" fill-rule=\"evenodd\" fill-opacity=\"1\" /><path clip-path=\"url(#clip680)\" d=\"M517.429 17.6457 Q508.517 17.6457 503.251 24.2892 Q498.025 30.9327 498.025 42.3968 Q498.025 53.8203 503.251 60.4638 Q508.517 67.1073 517.429 67.1073 Q526.341 67.1073 531.526 60.4638 Q536.752 53.8203 536.752 42.3968 Q536.752 30.9327 531.526 24.2892 Q526.341 17.6457 517.429 17.6457 M517.429 11.0023 Q530.149 11.0023 537.765 19.5497 Q545.38 28.0566 545.38 42.3968 Q545.38 56.6965 537.765 65.2439 Q530.149 73.7508 517.429 73.7508 Q504.669 73.7508 497.013 65.2439 Q489.397 56.737 489.397 42.3968 Q489.397 28.0566 497.013 19.5497 Q504.669 11.0023 517.429 11.0023 Z\" fill=\"#000000\" fill-rule=\"evenodd\" fill-opacity=\"1\" /><path clip-path=\"url(#clip680)\" d=\"M603.47 16.7545 L603.47 25.383 Q599.338 21.5346 594.639 19.6307 Q589.981 17.7268 584.715 17.7268 Q574.344 17.7268 568.835 24.0867 Q563.326 30.4061 563.326 42.3968 Q563.326 54.3469 568.835 60.7069 Q574.344 67.0263 584.715 67.0263 Q589.981 67.0263 594.639 65.1223 Q599.338 63.2184 603.47 59.3701 L603.47 67.9175 Q599.176 70.8341 594.356 72.2924 Q589.576 73.7508 584.229 73.7508 Q570.496 73.7508 562.597 65.3654 Q554.698 56.9395 554.698 42.3968 Q554.698 27.8135 562.597 19.4281 Q570.496 11.0023 584.229 11.0023 Q589.657 11.0023 594.437 12.4606 Q599.257 13.8784 603.47 16.7545 Z\" fill=\"#000000\" fill-rule=\"evenodd\" fill-opacity=\"1\" /><path clip-path=\"url(#clip680)\" d=\"M617.689 62.2867 L626.236 62.2867 L626.236 72.576 L617.689 72.576 L617.689 62.2867 M617.689 29.6769 L626.236 29.6769 L626.236 39.9662 L617.689 39.9662 L617.689 29.6769 Z\" fill=\"#000000\" fill-rule=\"evenodd\" fill-opacity=\"1\" /><path clip-path=\"url(#clip680)\" d=\"M665.773 27.2059 L673.227 27.2059 L682.544 62.6108 L691.821 27.2059 L700.611 27.2059 L709.928 62.6108 L719.205 27.2059 L726.658 27.2059 L714.789 72.576 L705.999 72.576 L696.236 35.3887 L686.433 72.576 L677.642 72.576 L665.773 27.2059 Z\" fill=\"#000000\" fill-rule=\"evenodd\" fill-opacity=\"1\" /><path clip-path=\"url(#clip680)\" d=\"M737.96 27.2059 L745.414 27.2059 L745.414 72.576 L737.96 72.576 L737.96 27.2059 M737.96 9.54393 L745.414 9.54393 L745.414 18.9825 L737.96 18.9825 L737.96 9.54393 Z\" fill=\"#000000\" fill-rule=\"evenodd\" fill-opacity=\"1\" /><path clip-path=\"url(#clip680)\" d=\"M768.383 14.324 L768.383 27.2059 L783.736 27.2059 L783.736 32.9987 L768.383 32.9987 L768.383 57.6282 Q768.383 63.1779 769.882 64.7578 Q771.421 66.3376 776.079 66.3376 L783.736 66.3376 L783.736 72.576 L776.079 72.576 Q767.451 72.576 764.17 69.3758 Q760.889 66.1351 760.889 57.6282 L760.889 32.9987 L755.42 32.9987 L755.42 27.2059 L760.889 27.2059 L760.889 14.324 L768.383 14.324 Z\" fill=\"#000000\" fill-rule=\"evenodd\" fill-opacity=\"1\" /><path clip-path=\"url(#clip680)\" d=\"M831.253 45.1919 L831.253 72.576 L823.799 72.576 L823.799 45.4349 Q823.799 38.994 821.288 35.7938 Q818.776 32.5936 813.753 32.5936 Q807.717 32.5936 804.233 36.4419 Q800.749 40.2903 800.749 46.9338 L800.749 72.576 L793.255 72.576 L793.255 9.54393 L800.749 9.54393 L800.749 34.2544 Q803.423 30.163 807.028 28.1376 Q810.674 26.1121 815.414 26.1121 Q823.232 26.1121 827.242 30.9732 Q831.253 35.7938 831.253 45.1919 Z\" fill=\"#000000\" fill-rule=\"evenodd\" fill-opacity=\"1\" /><path clip-path=\"url(#clip680)\" d=\"M893.11 49.7694 Q884.077 49.7694 880.593 51.8354 Q877.109 53.9013 877.109 58.8839 Q877.109 62.8538 879.702 65.2034 Q882.335 67.5124 886.831 67.5124 Q893.029 67.5124 896.756 63.1374 Q900.523 58.7219 900.523 51.4303 L900.523 49.7694 L893.11 49.7694 M907.977 46.6907 L907.977 72.576 L900.523 72.576 L900.523 65.6895 Q897.971 69.8214 894.163 71.8063 Q890.355 73.7508 884.846 73.7508 Q877.879 73.7508 873.747 69.8619 Q869.655 65.9325 869.655 59.3701 Q869.655 51.7138 874.759 47.825 Q879.904 43.9361 890.072 43.9361 L900.523 43.9361 L900.523 43.2069 Q900.523 38.0623 897.12 35.2672 Q893.758 32.4315 887.641 32.4315 Q883.752 32.4315 880.066 33.3632 Q876.38 34.295 872.977 36.1584 L872.977 29.2718 Q877.068 27.692 880.917 26.9223 Q884.765 26.1121 888.411 26.1121 Q898.255 26.1121 903.116 31.2163 Q907.977 36.3204 907.977 46.6907 Z\" fill=\"#000000\" fill-rule=\"evenodd\" fill-opacity=\"1\" /><path clip-path=\"url(#clip680)\" d=\"M961.044 45.1919 L961.044 72.576 L953.59 72.576 L953.59 45.4349 Q953.59 38.994 951.079 35.7938 Q948.567 32.5936 943.544 32.5936 Q937.508 32.5936 934.024 36.4419 Q930.54 40.2903 930.54 46.9338 L930.54 72.576 L923.046 72.576 L923.046 27.2059 L930.54 27.2059 L930.54 34.2544 Q933.214 30.163 936.819 28.1376 Q940.465 26.1121 945.205 26.1121 Q953.023 26.1121 957.033 30.9732 Q961.044 35.7938 961.044 45.1919 Z\" fill=\"#000000\" fill-rule=\"evenodd\" fill-opacity=\"1\" /><path clip-path=\"url(#clip680)\" d=\"M1005.77 34.0924 L1005.77 9.54393 L1013.22 9.54393 L1013.22 72.576 L1005.77 72.576 L1005.77 65.7705 Q1003.42 69.8214 999.811 71.8063 Q996.246 73.7508 991.223 73.7508 Q983 73.7508 977.814 67.1883 Q972.67 60.6258 972.67 49.9314 Q972.67 39.2371 977.814 32.6746 Q983 26.1121 991.223 26.1121 Q996.246 26.1121 999.811 28.0971 Q1003.42 30.0415 1005.77 34.0924 M980.367 49.9314 Q980.367 58.1548 983.729 62.8538 Q987.132 67.5124 993.046 67.5124 Q998.96 67.5124 1002.36 62.8538 Q1005.77 58.1548 1005.77 49.9314 Q1005.77 41.7081 1002.36 37.0496 Q998.96 32.3505 993.046 32.3505 Q987.132 32.3505 983.729 37.0496 Q980.367 41.7081 980.367 49.9314 Z\" fill=\"#000000\" fill-rule=\"evenodd\" fill-opacity=\"1\" /><path clip-path=\"url(#clip680)\" d=\"M1050.61 27.2059 L1058.06 27.2059 L1067.38 62.6108 L1076.66 27.2059 L1085.45 27.2059 L1094.76 62.6108 L1104.04 27.2059 L1111.49 27.2059 L1099.63 72.576 L1090.83 72.576 L1081.07 35.3887 L1071.27 72.576 L1062.48 72.576 L1050.61 27.2059 Z\" fill=\"#000000\" fill-rule=\"evenodd\" fill-opacity=\"1\" /><path clip-path=\"url(#clip680)\" d=\"M1122.8 27.2059 L1130.25 27.2059 L1130.25 72.576 L1122.8 72.576 L1122.8 27.2059 M1122.8 9.54393 L1130.25 9.54393 L1130.25 18.9825 L1122.8 18.9825 L1122.8 9.54393 Z\" fill=\"#000000\" fill-rule=\"evenodd\" fill-opacity=\"1\" /><path clip-path=\"url(#clip680)\" d=\"M1153.22 14.324 L1153.22 27.2059 L1168.57 27.2059 L1168.57 32.9987 L1153.22 32.9987 L1153.22 57.6282 Q1153.22 63.1779 1154.72 64.7578 Q1156.26 66.3376 1160.92 66.3376 L1168.57 66.3376 L1168.57 72.576 L1160.92 72.576 Q1152.29 72.576 1149.01 69.3758 Q1145.72 66.1351 1145.72 57.6282 L1145.72 32.9987 L1140.26 32.9987 L1140.26 27.2059 L1145.72 27.2059 L1145.72 14.324 L1153.22 14.324 Z\" fill=\"#000000\" fill-rule=\"evenodd\" fill-opacity=\"1\" /><path clip-path=\"url(#clip680)\" d=\"M1216.09 45.1919 L1216.09 72.576 L1208.63 72.576 L1208.63 45.4349 Q1208.63 38.994 1206.12 35.7938 Q1203.61 32.5936 1198.59 32.5936 Q1192.55 32.5936 1189.07 36.4419 Q1185.59 40.2903 1185.59 46.9338 L1185.59 72.576 L1178.09 72.576 L1178.09 9.54393 L1185.59 9.54393 L1185.59 34.2544 Q1188.26 30.163 1191.86 28.1376 Q1195.51 26.1121 1200.25 26.1121 Q1208.07 26.1121 1212.08 30.9732 Q1216.09 35.7938 1216.09 45.1919 Z\" fill=\"#000000\" fill-rule=\"evenodd\" fill-opacity=\"1\" /><path clip-path=\"url(#clip680)\" d=\"M1248.54 32.4315 Q1242.54 32.4315 1239.06 37.1306 Q1235.57 41.7891 1235.57 49.9314 Q1235.57 58.0738 1239.02 62.7728 Q1242.5 67.4314 1248.54 67.4314 Q1254.49 67.4314 1257.98 62.7323 Q1261.46 58.0333 1261.46 49.9314 Q1261.46 41.8701 1257.98 37.1711 Q1254.49 32.4315 1248.54 32.4315 M1248.54 26.1121 Q1258.26 26.1121 1263.81 32.4315 Q1269.36 38.7509 1269.36 49.9314 Q1269.36 61.0714 1263.81 67.4314 Q1258.26 73.7508 1248.54 73.7508 Q1238.77 73.7508 1233.22 67.4314 Q1227.71 61.0714 1227.71 49.9314 Q1227.71 38.7509 1233.22 32.4315 Q1238.77 26.1121 1248.54 26.1121 Z\" fill=\"#000000\" fill-rule=\"evenodd\" fill-opacity=\"1\" /><path clip-path=\"url(#clip680)\" d=\"M1280.94 54.671 L1280.94 27.2059 L1288.4 27.2059 L1288.4 54.3874 Q1288.4 60.8284 1290.91 64.0691 Q1293.42 67.2693 1298.44 67.2693 Q1304.48 67.2693 1307.96 63.421 Q1311.49 59.5726 1311.49 52.9291 L1311.49 27.2059 L1318.94 27.2059 L1318.94 72.576 L1311.49 72.576 L1311.49 65.6084 Q1308.77 69.7404 1305.17 71.7658 Q1301.6 73.7508 1296.86 73.7508 Q1289.05 73.7508 1284.99 68.8897 Q1280.94 64.0286 1280.94 54.671 M1299.7 26.1121 L1299.7 26.1121 Z\" fill=\"#000000\" fill-rule=\"evenodd\" fill-opacity=\"1\" /><path clip-path=\"url(#clip680)\" d=\"M1341.67 14.324 L1341.67 27.2059 L1357.02 27.2059 L1357.02 32.9987 L1341.67 32.9987 L1341.67 57.6282 Q1341.67 63.1779 1343.17 64.7578 Q1344.7 66.3376 1349.36 66.3376 L1357.02 66.3376 L1357.02 72.576 L1349.36 72.576 Q1340.73 72.576 1337.45 69.3758 Q1334.17 66.1351 1334.17 57.6282 L1334.17 32.9987 L1328.7 32.9987 L1328.7 27.2059 L1334.17 27.2059 L1334.17 14.324 L1341.67 14.324 Z\" fill=\"#000000\" fill-rule=\"evenodd\" fill-opacity=\"1\" /><path clip-path=\"url(#clip680)\" d=\"M1393.52 12.096 L1401.7 12.096 L1401.7 36.8875 L1431.43 36.8875 L1431.43 12.096 L1439.62 12.096 L1439.62 72.576 L1431.43 72.576 L1431.43 43.7741 L1401.7 43.7741 L1401.7 72.576 L1393.52 72.576 L1393.52 12.096 Z\" fill=\"#000000\" fill-rule=\"evenodd\" fill-opacity=\"1\" /><path clip-path=\"url(#clip680)\" d=\"M1474.46 76.7889 Q1471.3 84.8907 1468.3 87.3618 Q1465.3 89.8329 1460.28 89.8329 L1454.32 89.8329 L1454.32 83.5945 L1458.7 83.5945 Q1461.78 83.5945 1463.48 82.1361 Q1465.18 80.6778 1467.24 75.2496 L1468.58 71.8468 L1450.23 27.2059 L1458.13 27.2059 L1472.31 62.6918 L1486.49 27.2059 L1494.39 27.2059 L1474.46 76.7889 Z\" fill=\"#000000\" fill-rule=\"evenodd\" fill-opacity=\"1\" /><path clip-path=\"url(#clip680)\" d=\"M1511.89 65.7705 L1511.89 89.8329 L1504.39 89.8329 L1504.39 27.2059 L1511.89 27.2059 L1511.89 34.0924 Q1514.24 30.0415 1517.8 28.0971 Q1521.41 26.1121 1526.39 26.1121 Q1534.65 26.1121 1539.8 32.6746 Q1544.98 39.2371 1544.98 49.9314 Q1544.98 60.6258 1539.8 67.1883 Q1534.65 73.7508 1526.39 73.7508 Q1521.41 73.7508 1517.8 71.8063 Q1514.24 69.8214 1511.89 65.7705 M1537.24 49.9314 Q1537.24 41.7081 1533.84 37.0496 Q1530.48 32.3505 1524.57 32.3505 Q1518.65 32.3505 1515.25 37.0496 Q1511.89 41.7081 1511.89 49.9314 Q1511.89 58.1548 1515.25 62.8538 Q1518.65 67.5124 1524.57 67.5124 Q1530.48 67.5124 1533.84 62.8538 Q1537.24 58.1548 1537.24 49.9314 Z\" fill=\"#000000\" fill-rule=\"evenodd\" fill-opacity=\"1\" /><path clip-path=\"url(#clip680)\" d=\"M1596.14 48.0275 L1596.14 51.6733 L1561.87 51.6733 Q1562.36 59.3701 1566.49 63.421 Q1570.66 67.4314 1578.08 67.4314 Q1582.37 67.4314 1586.38 66.3781 Q1590.43 65.3249 1594.4 63.2184 L1594.4 70.267 Q1590.39 71.9684 1586.18 72.8596 Q1581.97 73.7508 1577.63 73.7508 Q1566.78 73.7508 1560.42 67.4314 Q1554.1 61.1119 1554.1 50.3365 Q1554.1 39.1965 1560.09 32.6746 Q1566.13 26.1121 1576.34 26.1121 Q1585.49 26.1121 1590.8 32.0264 Q1596.14 37.9003 1596.14 48.0275 M1588.69 45.84 Q1588.61 39.7232 1585.25 36.0774 Q1581.93 32.4315 1576.42 32.4315 Q1570.18 32.4315 1566.41 35.9558 Q1562.68 39.4801 1562.12 45.8805 L1588.69 45.84 Z\" fill=\"#000000\" fill-rule=\"evenodd\" fill-opacity=\"1\" /><path clip-path=\"url(#clip680)\" d=\"M1634.67 34.1734 Q1633.41 33.4443 1631.91 33.1202 Q1630.46 32.7556 1628.67 32.7556 Q1622.35 32.7556 1618.95 36.8875 Q1615.59 40.9789 1615.59 48.6757 L1615.59 72.576 L1608.09 72.576 L1608.09 27.2059 L1615.59 27.2059 L1615.59 34.2544 Q1617.94 30.1225 1621.71 28.1376 Q1625.47 26.1121 1630.86 26.1121 Q1631.63 26.1121 1632.56 26.2337 Q1633.49 26.3147 1634.63 26.5172 L1634.67 34.1734 Z\" fill=\"#000000\" fill-rule=\"evenodd\" fill-opacity=\"1\" /><path clip-path=\"url(#clip680)\" d=\"M1649.7 65.7705 L1649.7 89.8329 L1642.2 89.8329 L1642.2 27.2059 L1649.7 27.2059 L1649.7 34.0924 Q1652.05 30.0415 1655.61 28.0971 Q1659.22 26.1121 1664.2 26.1121 Q1672.46 26.1121 1677.61 32.6746 Q1682.79 39.2371 1682.79 49.9314 Q1682.79 60.6258 1677.61 67.1883 Q1672.46 73.7508 1664.2 73.7508 Q1659.22 73.7508 1655.61 71.8063 Q1652.05 69.8214 1649.7 65.7705 M1675.06 49.9314 Q1675.06 41.7081 1671.65 37.0496 Q1668.29 32.3505 1662.38 32.3505 Q1656.46 32.3505 1653.06 37.0496 Q1649.7 41.7081 1649.7 49.9314 Q1649.7 58.1548 1653.06 62.8538 Q1656.46 67.5124 1662.38 67.5124 Q1668.29 67.5124 1671.65 62.8538 Q1675.06 58.1548 1675.06 49.9314 Z\" fill=\"#000000\" fill-rule=\"evenodd\" fill-opacity=\"1\" /><path clip-path=\"url(#clip680)\" d=\"M1715.77 49.7694 Q1706.73 49.7694 1703.25 51.8354 Q1699.77 53.9013 1699.77 58.8839 Q1699.77 62.8538 1702.36 65.2034 Q1704.99 67.5124 1709.49 67.5124 Q1715.69 67.5124 1719.41 63.1374 Q1723.18 58.7219 1723.18 51.4303 L1723.18 49.7694 L1715.77 49.7694 M1730.63 46.6907 L1730.63 72.576 L1723.18 72.576 L1723.18 65.6895 Q1720.63 69.8214 1716.82 71.8063 Q1713.01 73.7508 1707.5 73.7508 Q1700.54 73.7508 1696.4 69.8619 Q1692.31 65.9325 1692.31 59.3701 Q1692.31 51.7138 1697.42 47.825 Q1702.56 43.9361 1712.73 43.9361 L1723.18 43.9361 L1723.18 43.2069 Q1723.18 38.0623 1719.78 35.2672 Q1716.42 32.4315 1710.3 32.4315 Q1706.41 32.4315 1702.72 33.3632 Q1699.04 34.295 1695.63 36.1584 L1695.63 29.2718 Q1699.73 27.692 1703.57 26.9223 Q1707.42 26.1121 1711.07 26.1121 Q1720.91 26.1121 1725.77 31.2163 Q1730.63 36.3204 1730.63 46.6907 Z\" fill=\"#000000\" fill-rule=\"evenodd\" fill-opacity=\"1\" /><path clip-path=\"url(#clip680)\" d=\"M1772.28 34.1734 Q1771.02 33.4443 1769.52 33.1202 Q1768.06 32.7556 1766.28 32.7556 Q1759.96 32.7556 1756.56 36.8875 Q1753.2 40.9789 1753.2 48.6757 L1753.2 72.576 L1745.7 72.576 L1745.7 27.2059 L1753.2 27.2059 L1753.2 34.2544 Q1755.55 30.1225 1759.31 28.1376 Q1763.08 26.1121 1768.47 26.1121 Q1769.24 26.1121 1770.17 26.2337 Q1771.1 26.3147 1772.24 26.5172 L1772.28 34.1734 Z\" fill=\"#000000\" fill-rule=\"evenodd\" fill-opacity=\"1\" /><path clip-path=\"url(#clip680)\" d=\"M1813.96 35.9153 Q1816.76 30.8922 1820.65 28.5022 Q1824.53 26.1121 1829.8 26.1121 Q1836.89 26.1121 1840.74 31.0947 Q1844.59 36.0368 1844.59 45.1919 L1844.59 72.576 L1837.09 72.576 L1837.09 45.4349 Q1837.09 38.913 1834.78 35.7533 Q1832.47 32.5936 1827.73 32.5936 Q1821.94 32.5936 1818.58 36.4419 Q1815.22 40.2903 1815.22 46.9338 L1815.22 72.576 L1807.72 72.576 L1807.72 45.4349 Q1807.72 38.8725 1805.41 35.7533 Q1803.11 32.5936 1798.28 32.5936 Q1792.57 32.5936 1789.21 36.4824 Q1785.85 40.3308 1785.85 46.9338 L1785.85 72.576 L1778.35 72.576 L1778.35 27.2059 L1785.85 27.2059 L1785.85 34.2544 Q1788.4 30.082 1791.97 28.0971 Q1795.53 26.1121 1800.43 26.1121 Q1805.37 26.1121 1808.82 28.6237 Q1812.3 31.1352 1813.96 35.9153 Z\" fill=\"#000000\" fill-rule=\"evenodd\" fill-opacity=\"1\" /><path clip-path=\"url(#clip680)\" d=\"M1885.82 27.2059 L1893.28 27.2059 L1893.28 72.576 L1885.82 72.576 L1885.82 27.2059 M1885.82 9.54393 L1893.28 9.54393 L1893.28 18.9825 L1885.82 18.9825 L1885.82 9.54393 Z\" fill=\"#000000\" fill-rule=\"evenodd\" fill-opacity=\"1\" /><path clip-path=\"url(#clip680)\" d=\"M1946.59 45.1919 L1946.59 72.576 L1939.13 72.576 L1939.13 45.4349 Q1939.13 38.994 1936.62 35.7938 Q1934.11 32.5936 1929.09 32.5936 Q1923.05 32.5936 1919.57 36.4419 Q1916.08 40.2903 1916.08 46.9338 L1916.08 72.576 L1908.59 72.576 L1908.59 27.2059 L1916.08 27.2059 L1916.08 34.2544 Q1918.76 30.163 1922.36 28.1376 Q1926.01 26.1121 1930.75 26.1121 Q1938.57 26.1121 1942.58 30.9732 Q1946.59 35.7938 1946.59 45.1919 Z\" fill=\"#000000\" fill-rule=\"evenodd\" fill-opacity=\"1\" /><path clip-path=\"url(#clip680)\" d=\"M1984.42 9.54393 L1984.42 15.7418 L1977.29 15.7418 Q1973.28 15.7418 1971.7 17.3622 Q1970.16 18.9825 1970.16 23.1955 L1970.16 27.2059 L1982.44 27.2059 L1982.44 32.9987 L1970.16 32.9987 L1970.16 72.576 L1962.67 72.576 L1962.67 32.9987 L1955.54 32.9987 L1955.54 27.2059 L1962.67 27.2059 L1962.67 24.0462 Q1962.67 16.471 1966.19 13.0277 Q1969.72 9.54393 1977.38 9.54393 L1984.42 9.54393 Z\" fill=\"#000000\" fill-rule=\"evenodd\" fill-opacity=\"1\" /><path clip-path=\"url(#clip680)\" d=\"M2029.47 48.0275 L2029.47 51.6733 L1995.2 51.6733 Q1995.69 59.3701 1999.82 63.421 Q2003.99 67.4314 2011.4 67.4314 Q2015.7 67.4314 2019.71 66.3781 Q2023.76 65.3249 2027.73 63.2184 L2027.73 70.267 Q2023.72 71.9684 2019.5 72.8596 Q2015.29 73.7508 2010.96 73.7508 Q2000.1 73.7508 1993.74 67.4314 Q1987.42 61.1119 1987.42 50.3365 Q1987.42 39.1965 1993.42 32.6746 Q1999.45 26.1121 2009.66 26.1121 Q2018.82 26.1121 2024.12 32.0264 Q2029.47 37.9003 2029.47 48.0275 M2022.02 45.84 Q2021.94 39.7232 2018.57 36.0774 Q2015.25 32.4315 2009.74 32.4315 Q2003.5 32.4315 1999.74 35.9558 Q1996.01 39.4801 1995.44 45.8805 L2022.02 45.84 Z\" fill=\"#000000\" fill-rule=\"evenodd\" fill-opacity=\"1\" /><path clip-path=\"url(#clip680)\" d=\"M2067.99 34.1734 Q2066.74 33.4443 2065.24 33.1202 Q2063.78 32.7556 2062 32.7556 Q2055.68 32.7556 2052.28 36.8875 Q2048.91 40.9789 2048.91 48.6757 L2048.91 72.576 L2041.42 72.576 L2041.42 27.2059 L2048.91 27.2059 L2048.91 34.2544 Q2051.26 30.1225 2055.03 28.1376 Q2058.8 26.1121 2064.19 26.1121 Q2064.96 26.1121 2065.89 26.2337 Q2066.82 26.3147 2067.95 26.5172 L2067.99 34.1734 Z\" fill=\"#000000\" fill-rule=\"evenodd\" fill-opacity=\"1\" /><path clip-path=\"url(#clip680)\" d=\"M2112.8 48.0275 L2112.8 51.6733 L2078.53 51.6733 Q2079.01 59.3701 2083.14 63.421 Q2087.32 67.4314 2094.73 67.4314 Q2099.02 67.4314 2103.03 66.3781 Q2107.09 65.3249 2111.05 63.2184 L2111.05 70.267 Q2107.04 71.9684 2102.83 72.8596 Q2098.62 73.7508 2094.28 73.7508 Q2083.43 73.7508 2077.07 67.4314 Q2070.75 61.1119 2070.75 50.3365 Q2070.75 39.1965 2076.74 32.6746 Q2082.78 26.1121 2092.99 26.1121 Q2102.14 26.1121 2107.45 32.0264 Q2112.8 37.9003 2112.8 48.0275 M2105.34 45.84 Q2105.26 39.7232 2101.9 36.0774 Q2098.58 32.4315 2093.07 32.4315 Q2086.83 32.4315 2083.06 35.9558 Q2079.34 39.4801 2078.77 45.8805 L2105.34 45.84 Z\" fill=\"#000000\" fill-rule=\"evenodd\" fill-opacity=\"1\" /><path clip-path=\"url(#clip680)\" d=\"M2162.74 45.1919 L2162.74 72.576 L2155.29 72.576 L2155.29 45.4349 Q2155.29 38.994 2152.78 35.7938 Q2150.27 32.5936 2145.24 32.5936 Q2139.21 32.5936 2135.72 36.4419 Q2132.24 40.2903 2132.24 46.9338 L2132.24 72.576 L2124.75 72.576 L2124.75 27.2059 L2132.24 27.2059 L2132.24 34.2544 Q2134.91 30.163 2138.52 28.1376 Q2142.17 26.1121 2146.91 26.1121 Q2154.72 26.1121 2158.73 30.9732 Q2162.74 35.7938 2162.74 45.1919 Z\" fill=\"#000000\" fill-rule=\"evenodd\" fill-opacity=\"1\" /><path clip-path=\"url(#clip680)\" d=\"M2210.26 28.9478 L2210.26 35.9153 Q2207.1 34.1734 2203.9 33.3227 Q2200.74 32.4315 2197.5 32.4315 Q2190.25 32.4315 2186.24 37.0496 Q2182.23 41.6271 2182.23 49.9314 Q2182.23 58.2358 2186.24 62.8538 Q2190.25 67.4314 2197.5 67.4314 Q2200.74 67.4314 2203.9 66.5807 Q2207.1 65.6895 2210.26 63.9476 L2210.26 70.8341 Q2207.14 72.2924 2203.78 73.0216 Q2200.46 73.7508 2196.69 73.7508 Q2186.44 73.7508 2180.41 67.3098 Q2174.37 60.8689 2174.37 49.9314 Q2174.37 38.832 2180.45 32.472 Q2186.56 26.1121 2197.18 26.1121 Q2200.62 26.1121 2203.9 26.8413 Q2207.18 27.5299 2210.26 28.9478 Z\" fill=\"#000000\" fill-rule=\"evenodd\" fill-opacity=\"1\" /><path clip-path=\"url(#clip680)\" d=\"M2262.03 48.0275 L2262.03 51.6733 L2227.76 51.6733 Q2228.25 59.3701 2232.38 63.421 Q2236.55 67.4314 2243.97 67.4314 Q2248.26 67.4314 2252.27 66.3781 Q2256.32 65.3249 2260.29 63.2184 L2260.29 70.267 Q2256.28 71.9684 2252.07 72.8596 Q2247.85 73.7508 2243.52 73.7508 Q2232.66 73.7508 2226.3 67.4314 Q2219.98 61.1119 2219.98 50.3365 Q2219.98 39.1965 2225.98 32.6746 Q2232.01 26.1121 2242.22 26.1121 Q2251.38 26.1121 2256.68 32.0264 Q2262.03 37.9003 2262.03 48.0275 M2254.58 45.84 Q2254.5 39.7232 2251.14 36.0774 Q2247.81 32.4315 2242.3 32.4315 Q2236.07 32.4315 2232.3 35.9558 Q2228.57 39.4801 2228 45.8805 L2254.58 45.84 Z\" fill=\"#000000\" fill-rule=\"evenodd\" fill-opacity=\"1\" /><circle clip-path=\"url(#clip682)\" cx=\"279.916\" cy=\"623.287\" r=\"14\" fill=\"#009af9\" fill-rule=\"evenodd\" fill-opacity=\"1\" stroke=\"#000000\" stroke-opacity=\"1\" stroke-width=\"3.2\"/>\n",
       "<circle clip-path=\"url(#clip682)\" cx=\"385.835\" cy=\"733.722\" r=\"14\" fill=\"#009af9\" fill-rule=\"evenodd\" fill-opacity=\"1\" stroke=\"#000000\" stroke-opacity=\"1\" stroke-width=\"3.2\"/>\n",
       "<circle clip-path=\"url(#clip682)\" cx=\"491.755\" cy=\"690.837\" r=\"14\" fill=\"#009af9\" fill-rule=\"evenodd\" fill-opacity=\"1\" stroke=\"#000000\" stroke-opacity=\"1\" stroke-width=\"3.2\"/>\n",
       "<circle clip-path=\"url(#clip682)\" cx=\"597.674\" cy=\"647.953\" r=\"14\" fill=\"#009af9\" fill-rule=\"evenodd\" fill-opacity=\"1\" stroke=\"#000000\" stroke-opacity=\"1\" stroke-width=\"3.2\"/>\n",
       "<circle clip-path=\"url(#clip682)\" cx=\"703.593\" cy=\"652.275\" r=\"14\" fill=\"#009af9\" fill-rule=\"evenodd\" fill-opacity=\"1\" stroke=\"#000000\" stroke-opacity=\"1\" stroke-width=\"3.2\"/>\n",
       "<circle clip-path=\"url(#clip682)\" cx=\"809.512\" cy=\"652.13\" r=\"14\" fill=\"#009af9\" fill-rule=\"evenodd\" fill-opacity=\"1\" stroke=\"#000000\" stroke-opacity=\"1\" stroke-width=\"3.2\"/>\n",
       "<circle clip-path=\"url(#clip682)\" cx=\"915.432\" cy=\"528.806\" r=\"14\" fill=\"#009af9\" fill-rule=\"evenodd\" fill-opacity=\"1\" stroke=\"#000000\" stroke-opacity=\"1\" stroke-width=\"3.2\"/>\n",
       "<circle clip-path=\"url(#clip682)\" cx=\"1021.35\" cy=\"359.367\" r=\"14\" fill=\"#009af9\" fill-rule=\"evenodd\" fill-opacity=\"1\" stroke=\"#000000\" stroke-opacity=\"1\" stroke-width=\"3.2\"/>\n",
       "<circle clip-path=\"url(#clip682)\" cx=\"1127.27\" cy=\"337.71\" r=\"14\" fill=\"#009af9\" fill-rule=\"evenodd\" fill-opacity=\"1\" stroke=\"#000000\" stroke-opacity=\"1\" stroke-width=\"3.2\"/>\n",
       "<circle clip-path=\"url(#clip682)\" cx=\"1233.19\" cy=\"231.357\" r=\"14\" fill=\"#009af9\" fill-rule=\"evenodd\" fill-opacity=\"1\" stroke=\"#000000\" stroke-opacity=\"1\" stroke-width=\"3.2\"/>\n",
       "<circle clip-path=\"url(#clip682)\" cx=\"1339.11\" cy=\"194.739\" r=\"14\" fill=\"#009af9\" fill-rule=\"evenodd\" fill-opacity=\"1\" stroke=\"#000000\" stroke-opacity=\"1\" stroke-width=\"3.2\"/>\n",
       "<circle clip-path=\"url(#clip682)\" cx=\"1445.03\" cy=\"189.623\" r=\"14\" fill=\"#009af9\" fill-rule=\"evenodd\" fill-opacity=\"1\" stroke=\"#000000\" stroke-opacity=\"1\" stroke-width=\"3.2\"/>\n",
       "<circle clip-path=\"url(#clip682)\" cx=\"1550.95\" cy=\"179.72\" r=\"14\" fill=\"#009af9\" fill-rule=\"evenodd\" fill-opacity=\"1\" stroke=\"#000000\" stroke-opacity=\"1\" stroke-width=\"3.2\"/>\n",
       "<circle clip-path=\"url(#clip682)\" cx=\"1656.87\" cy=\"169.218\" r=\"14\" fill=\"#009af9\" fill-rule=\"evenodd\" fill-opacity=\"1\" stroke=\"#000000\" stroke-opacity=\"1\" stroke-width=\"3.2\"/>\n",
       "<circle clip-path=\"url(#clip682)\" cx=\"1762.79\" cy=\"159.72\" r=\"14\" fill=\"#009af9\" fill-rule=\"evenodd\" fill-opacity=\"1\" stroke=\"#000000\" stroke-opacity=\"1\" stroke-width=\"3.2\"/>\n",
       "<circle clip-path=\"url(#clip682)\" cx=\"1868.7\" cy=\"195.001\" r=\"14\" fill=\"#009af9\" fill-rule=\"evenodd\" fill-opacity=\"1\" stroke=\"#000000\" stroke-opacity=\"1\" stroke-width=\"3.2\"/>\n",
       "<circle clip-path=\"url(#clip682)\" cx=\"1974.62\" cy=\"195.229\" r=\"14\" fill=\"#009af9\" fill-rule=\"evenodd\" fill-opacity=\"1\" stroke=\"#000000\" stroke-opacity=\"1\" stroke-width=\"3.2\"/>\n",
       "<circle clip-path=\"url(#clip682)\" cx=\"2080.54\" cy=\"184.635\" r=\"14\" fill=\"#009af9\" fill-rule=\"evenodd\" fill-opacity=\"1\" stroke=\"#000000\" stroke-opacity=\"1\" stroke-width=\"3.2\"/>\n",
       "<circle clip-path=\"url(#clip682)\" cx=\"2186.46\" cy=\"171.255\" r=\"14\" fill=\"#009af9\" fill-rule=\"evenodd\" fill-opacity=\"1\" stroke=\"#000000\" stroke-opacity=\"1\" stroke-width=\"3.2\"/>\n",
       "<circle clip-path=\"url(#clip682)\" cx=\"2292.38\" cy=\"192.568\" r=\"14\" fill=\"#009af9\" fill-rule=\"evenodd\" fill-opacity=\"1\" stroke=\"#000000\" stroke-opacity=\"1\" stroke-width=\"3.2\"/>\n",
       "<circle clip-path=\"url(#clip682)\" cx=\"279.916\" cy=\"558.605\" r=\"14\" fill=\"#e26f46\" fill-rule=\"evenodd\" fill-opacity=\"1\" stroke=\"#000000\" stroke-opacity=\"1\" stroke-width=\"3.2\"/>\n",
       "<circle clip-path=\"url(#clip682)\" cx=\"385.835\" cy=\"703.541\" r=\"14\" fill=\"#e26f46\" fill-rule=\"evenodd\" fill-opacity=\"1\" stroke=\"#000000\" stroke-opacity=\"1\" stroke-width=\"3.2\"/>\n",
       "<circle clip-path=\"url(#clip682)\" cx=\"491.755\" cy=\"643.892\" r=\"14\" fill=\"#e26f46\" fill-rule=\"evenodd\" fill-opacity=\"1\" stroke=\"#000000\" stroke-opacity=\"1\" stroke-width=\"3.2\"/>\n",
       "<circle clip-path=\"url(#clip682)\" cx=\"597.674\" cy=\"642.712\" r=\"14\" fill=\"#e26f46\" fill-rule=\"evenodd\" fill-opacity=\"1\" stroke=\"#000000\" stroke-opacity=\"1\" stroke-width=\"3.2\"/>\n",
       "<circle clip-path=\"url(#clip682)\" cx=\"703.593\" cy=\"656.522\" r=\"14\" fill=\"#e26f46\" fill-rule=\"evenodd\" fill-opacity=\"1\" stroke=\"#000000\" stroke-opacity=\"1\" stroke-width=\"3.2\"/>\n",
       "<circle clip-path=\"url(#clip682)\" cx=\"809.512\" cy=\"654.543\" r=\"14\" fill=\"#e26f46\" fill-rule=\"evenodd\" fill-opacity=\"1\" stroke=\"#000000\" stroke-opacity=\"1\" stroke-width=\"3.2\"/>\n",
       "<circle clip-path=\"url(#clip682)\" cx=\"915.432\" cy=\"485.21\" r=\"14\" fill=\"#e26f46\" fill-rule=\"evenodd\" fill-opacity=\"1\" stroke=\"#000000\" stroke-opacity=\"1\" stroke-width=\"3.2\"/>\n",
       "<circle clip-path=\"url(#clip682)\" cx=\"1021.35\" cy=\"339.255\" r=\"14\" fill=\"#e26f46\" fill-rule=\"evenodd\" fill-opacity=\"1\" stroke=\"#000000\" stroke-opacity=\"1\" stroke-width=\"3.2\"/>\n",
       "<circle clip-path=\"url(#clip682)\" cx=\"1127.27\" cy=\"308.585\" r=\"14\" fill=\"#e26f46\" fill-rule=\"evenodd\" fill-opacity=\"1\" stroke=\"#000000\" stroke-opacity=\"1\" stroke-width=\"3.2\"/>\n",
       "<circle clip-path=\"url(#clip682)\" cx=\"1233.19\" cy=\"223.559\" r=\"14\" fill=\"#e26f46\" fill-rule=\"evenodd\" fill-opacity=\"1\" stroke=\"#000000\" stroke-opacity=\"1\" stroke-width=\"3.2\"/>\n",
       "<circle clip-path=\"url(#clip682)\" cx=\"1339.11\" cy=\"192.437\" r=\"14\" fill=\"#e26f46\" fill-rule=\"evenodd\" fill-opacity=\"1\" stroke=\"#000000\" stroke-opacity=\"1\" stroke-width=\"3.2\"/>\n",
       "<circle clip-path=\"url(#clip682)\" cx=\"1445.03\" cy=\"198.319\" r=\"14\" fill=\"#e26f46\" fill-rule=\"evenodd\" fill-opacity=\"1\" stroke=\"#000000\" stroke-opacity=\"1\" stroke-width=\"3.2\"/>\n",
       "<circle clip-path=\"url(#clip682)\" cx=\"1550.95\" cy=\"191.713\" r=\"14\" fill=\"#e26f46\" fill-rule=\"evenodd\" fill-opacity=\"1\" stroke=\"#000000\" stroke-opacity=\"1\" stroke-width=\"3.2\"/>\n",
       "<circle clip-path=\"url(#clip682)\" cx=\"1656.87\" cy=\"185.748\" r=\"14\" fill=\"#e26f46\" fill-rule=\"evenodd\" fill-opacity=\"1\" stroke=\"#000000\" stroke-opacity=\"1\" stroke-width=\"3.2\"/>\n",
       "<circle clip-path=\"url(#clip682)\" cx=\"1762.79\" cy=\"179.632\" r=\"14\" fill=\"#e26f46\" fill-rule=\"evenodd\" fill-opacity=\"1\" stroke=\"#000000\" stroke-opacity=\"1\" stroke-width=\"3.2\"/>\n",
       "<circle clip-path=\"url(#clip682)\" cx=\"1868.7\" cy=\"207.012\" r=\"14\" fill=\"#e26f46\" fill-rule=\"evenodd\" fill-opacity=\"1\" stroke=\"#000000\" stroke-opacity=\"1\" stroke-width=\"3.2\"/>\n",
       "<circle clip-path=\"url(#clip682)\" cx=\"1974.62\" cy=\"208.674\" r=\"14\" fill=\"#e26f46\" fill-rule=\"evenodd\" fill-opacity=\"1\" stroke=\"#000000\" stroke-opacity=\"1\" stroke-width=\"3.2\"/>\n",
       "<circle clip-path=\"url(#clip682)\" cx=\"2080.54\" cy=\"202.304\" r=\"14\" fill=\"#e26f46\" fill-rule=\"evenodd\" fill-opacity=\"1\" stroke=\"#000000\" stroke-opacity=\"1\" stroke-width=\"3.2\"/>\n",
       "<circle clip-path=\"url(#clip682)\" cx=\"2186.46\" cy=\"198.731\" r=\"14\" fill=\"#e26f46\" fill-rule=\"evenodd\" fill-opacity=\"1\" stroke=\"#000000\" stroke-opacity=\"1\" stroke-width=\"3.2\"/>\n",
       "<circle clip-path=\"url(#clip682)\" cx=\"2292.38\" cy=\"226.225\" r=\"14\" fill=\"#e26f46\" fill-rule=\"evenodd\" fill-opacity=\"1\" stroke=\"#000000\" stroke-opacity=\"1\" stroke-width=\"3.2\"/>\n",
       "<path clip-path=\"url(#clip680)\" d=\"\n",
       "M1743.21 322.316 L2281.65 322.316 L2281.65 166.796 L1743.21 166.796  Z\n",
       "  \" fill=\"#ffffff\" fill-rule=\"evenodd\" fill-opacity=\"1\"/>\n",
       "<polyline clip-path=\"url(#clip680)\" style=\"stroke:#000000; stroke-linecap:butt; stroke-linejoin:round; stroke-width:4; stroke-opacity:1; fill:none\" points=\"\n",
       "  1743.21,322.316 2281.65,322.316 2281.65,166.796 1743.21,166.796 1743.21,322.316 \n",
       "  \"/>\n",
       "<circle clip-path=\"url(#clip680)\" cx=\"1838.02\" cy=\"218.636\" r=\"23\" fill=\"#009af9\" fill-rule=\"evenodd\" fill-opacity=\"1\" stroke=\"#000000\" stroke-opacity=\"1\" stroke-width=\"5.12\"/>\n",
       "<path clip-path=\"url(#clip680)\" d=\"M1948.67 205.962 L1942.32 223.161 L1955.03 223.161 L1948.67 205.962 M1946.03 201.356 L1951.33 201.356 L1964.5 235.916 L1959.64 235.916 L1956.49 227.05 L1940.91 227.05 L1937.76 235.916 L1932.83 235.916 L1946.03 201.356 Z\" fill=\"#000000\" fill-rule=\"evenodd\" fill-opacity=\"1\" /><path clip-path=\"url(#clip680)\" d=\"M1969.01 201.356 L1973.71 201.356 L1973.71 222.351 Q1973.71 227.907 1975.73 230.36 Q1977.74 232.791 1982.25 232.791 Q1986.75 232.791 1988.76 230.36 Q1990.77 227.907 1990.77 222.351 L1990.77 201.356 L1995.47 201.356 L1995.47 222.93 Q1995.47 229.689 1992.12 233.138 Q1988.78 236.587 1982.25 236.587 Q1975.7 236.587 1972.35 233.138 Q1969.01 229.689 1969.01 222.93 L1969.01 201.356 Z\" fill=\"#000000\" fill-rule=\"evenodd\" fill-opacity=\"1\" /><path clip-path=\"url(#clip680)\" d=\"M2030.12 204.018 L2030.12 208.948 Q2027.76 206.749 2025.08 205.661 Q2022.42 204.573 2019.41 204.573 Q2013.48 204.573 2010.33 208.208 Q2007.19 211.819 2007.19 218.67 Q2007.19 225.499 2010.33 229.133 Q2013.48 232.744 2019.41 232.744 Q2022.42 232.744 2025.08 231.656 Q2027.76 230.569 2030.12 228.369 L2030.12 233.254 Q2027.67 234.92 2024.92 235.754 Q2022.18 236.587 2019.13 236.587 Q2011.28 236.587 2006.77 231.795 Q2002.25 226.981 2002.25 218.67 Q2002.25 210.337 2006.77 205.546 Q2011.28 200.731 2019.13 200.731 Q2022.23 200.731 2024.96 201.564 Q2027.72 202.374 2030.12 204.018 Z\" fill=\"#000000\" fill-rule=\"evenodd\" fill-opacity=\"1\" /><path clip-path=\"url(#clip680)\" d=\"M2048.94 222.883 Q2043.78 222.883 2041.79 224.064 Q2039.8 225.244 2039.8 228.092 Q2039.8 230.36 2041.28 231.703 Q2042.79 233.022 2045.36 233.022 Q2048.9 233.022 2051.03 230.522 Q2053.18 227.999 2053.18 223.832 L2053.18 222.883 L2048.94 222.883 M2057.44 221.124 L2057.44 235.916 L2053.18 235.916 L2053.18 231.981 Q2051.72 234.342 2049.55 235.476 Q2047.37 236.587 2044.22 236.587 Q2040.24 236.587 2037.88 234.365 Q2035.54 232.119 2035.54 228.369 Q2035.54 223.994 2038.46 221.772 Q2041.4 219.55 2047.21 219.55 L2053.18 219.55 L2053.18 219.133 Q2053.18 216.194 2051.24 214.596 Q2049.31 212.976 2045.82 212.976 Q2043.6 212.976 2041.49 213.508 Q2039.38 214.041 2037.44 215.106 L2037.44 211.17 Q2039.78 210.268 2041.98 209.828 Q2044.18 209.365 2046.26 209.365 Q2051.88 209.365 2054.66 212.282 Q2057.44 215.198 2057.44 221.124 Z\" fill=\"#000000\" fill-rule=\"evenodd\" fill-opacity=\"1\" /><path clip-path=\"url(#clip680)\" d=\"M2065.77 225.684 L2065.77 209.99 L2070.03 209.99 L2070.03 225.522 Q2070.03 229.203 2071.47 231.055 Q2072.9 232.883 2075.77 232.883 Q2079.22 232.883 2081.21 230.684 Q2083.23 228.485 2083.23 224.689 L2083.23 209.99 L2087.49 209.99 L2087.49 235.916 L2083.23 235.916 L2083.23 231.934 Q2081.68 234.295 2079.62 235.453 Q2077.58 236.587 2074.87 236.587 Q2070.4 236.587 2068.09 233.809 Q2065.77 231.031 2065.77 225.684 M2076.49 209.365 L2076.49 209.365 Z\" fill=\"#000000\" fill-rule=\"evenodd\" fill-opacity=\"1\" /><circle clip-path=\"url(#clip680)\" cx=\"1838.02\" cy=\"270.476\" r=\"23\" fill=\"#e26f46\" fill-rule=\"evenodd\" fill-opacity=\"1\" stroke=\"#000000\" stroke-opacity=\"1\" stroke-width=\"5.12\"/>\n",
       "<path clip-path=\"url(#clip680)\" d=\"M1948.67 257.802 L1942.32 275.001 L1955.03 275.001 L1948.67 257.802 M1946.03 253.196 L1951.33 253.196 L1964.5 287.756 L1959.64 287.756 L1956.49 278.89 L1940.91 278.89 L1937.76 287.756 L1932.83 287.756 L1946.03 253.196 Z\" fill=\"#000000\" fill-rule=\"evenodd\" fill-opacity=\"1\" /><path clip-path=\"url(#clip680)\" d=\"M1969.01 253.196 L1973.71 253.196 L1973.71 274.191 Q1973.71 279.747 1975.73 282.2 Q1977.74 284.631 1982.25 284.631 Q1986.75 284.631 1988.76 282.2 Q1990.77 279.747 1990.77 274.191 L1990.77 253.196 L1995.47 253.196 L1995.47 274.77 Q1995.47 281.529 1992.12 284.978 Q1988.78 288.427 1982.25 288.427 Q1975.7 288.427 1972.35 284.978 Q1969.01 281.529 1969.01 274.77 L1969.01 253.196 Z\" fill=\"#000000\" fill-rule=\"evenodd\" fill-opacity=\"1\" /><path clip-path=\"url(#clip680)\" d=\"M2030.12 255.858 L2030.12 260.788 Q2027.76 258.589 2025.08 257.501 Q2022.42 256.413 2019.41 256.413 Q2013.48 256.413 2010.33 260.048 Q2007.19 263.659 2007.19 270.51 Q2007.19 277.339 2010.33 280.973 Q2013.48 284.584 2019.41 284.584 Q2022.42 284.584 2025.08 283.496 Q2027.76 282.409 2030.12 280.209 L2030.12 285.094 Q2027.67 286.76 2024.92 287.594 Q2022.18 288.427 2019.13 288.427 Q2011.28 288.427 2006.77 283.635 Q2002.25 278.821 2002.25 270.51 Q2002.25 262.177 2006.77 257.386 Q2011.28 252.571 2019.13 252.571 Q2022.23 252.571 2024.96 253.404 Q2027.72 254.214 2030.12 255.858 Z\" fill=\"#000000\" fill-rule=\"evenodd\" fill-opacity=\"1\" /><path clip-path=\"url(#clip680)\" d=\"M2048.94 274.723 Q2043.78 274.723 2041.79 275.904 Q2039.8 277.084 2039.8 279.932 Q2039.8 282.2 2041.28 283.543 Q2042.79 284.862 2045.36 284.862 Q2048.9 284.862 2051.03 282.362 Q2053.18 279.839 2053.18 275.672 L2053.18 274.723 L2048.94 274.723 M2057.44 272.964 L2057.44 287.756 L2053.18 287.756 L2053.18 283.821 Q2051.72 286.182 2049.55 287.316 Q2047.37 288.427 2044.22 288.427 Q2040.24 288.427 2037.88 286.205 Q2035.54 283.959 2035.54 280.209 Q2035.54 275.834 2038.46 273.612 Q2041.4 271.39 2047.21 271.39 L2053.18 271.39 L2053.18 270.973 Q2053.18 268.034 2051.24 266.436 Q2049.31 264.816 2045.82 264.816 Q2043.6 264.816 2041.49 265.348 Q2039.38 265.881 2037.44 266.946 L2037.44 263.01 Q2039.78 262.108 2041.98 261.668 Q2044.18 261.205 2046.26 261.205 Q2051.88 261.205 2054.66 264.122 Q2057.44 267.038 2057.44 272.964 Z\" fill=\"#000000\" fill-rule=\"evenodd\" fill-opacity=\"1\" /><path clip-path=\"url(#clip680)\" d=\"M2065.77 277.524 L2065.77 261.83 L2070.03 261.83 L2070.03 277.362 Q2070.03 281.043 2071.47 282.895 Q2072.9 284.723 2075.77 284.723 Q2079.22 284.723 2081.21 282.524 Q2083.23 280.325 2083.23 276.529 L2083.23 261.83 L2087.49 261.83 L2087.49 287.756 L2083.23 287.756 L2083.23 283.774 Q2081.68 286.135 2079.62 287.293 Q2077.58 288.427 2074.87 288.427 Q2070.4 288.427 2068.09 285.649 Q2065.77 282.871 2065.77 277.524 M2076.49 261.205 L2076.49 261.205 Z\" fill=\"#000000\" fill-rule=\"evenodd\" fill-opacity=\"1\" /><path clip-path=\"url(#clip680)\" d=\"M2096.44 253.196 L2101.12 253.196 L2101.12 267.362 L2118.11 267.362 L2118.11 253.196 L2122.79 253.196 L2122.79 287.756 L2118.11 287.756 L2118.11 271.297 L2101.12 271.297 L2101.12 287.756 L2096.44 287.756 L2096.44 253.196 Z\" fill=\"#000000\" fill-rule=\"evenodd\" fill-opacity=\"1\" /><path clip-path=\"url(#clip680)\" d=\"M2142.69 290.163 Q2140.89 294.793 2139.18 296.205 Q2137.46 297.617 2134.59 297.617 L2131.19 297.617 L2131.19 294.052 L2133.69 294.052 Q2135.45 294.052 2136.42 293.219 Q2137.39 292.385 2138.57 289.283 L2139.34 287.339 L2128.85 261.83 L2133.36 261.83 L2141.47 282.108 L2149.57 261.83 L2154.08 261.83 L2142.69 290.163 Z\" fill=\"#000000\" fill-rule=\"evenodd\" fill-opacity=\"1\" /><path clip-path=\"url(#clip680)\" d=\"M2164.08 283.867 L2164.08 297.617 L2159.8 297.617 L2159.8 261.83 L2164.08 261.83 L2164.08 265.765 Q2165.42 263.45 2167.46 262.339 Q2169.52 261.205 2172.37 261.205 Q2177.09 261.205 2180.03 264.955 Q2182.99 268.705 2182.99 274.816 Q2182.99 280.927 2180.03 284.677 Q2177.09 288.427 2172.37 288.427 Q2169.52 288.427 2167.46 287.316 Q2165.42 286.182 2164.08 283.867 M2178.57 274.816 Q2178.57 270.117 2176.63 267.455 Q2174.71 264.77 2171.33 264.77 Q2167.95 264.77 2166 267.455 Q2164.08 270.117 2164.08 274.816 Q2164.08 279.515 2166 282.2 Q2167.95 284.862 2171.33 284.862 Q2174.71 284.862 2176.63 282.2 Q2178.57 279.515 2178.57 274.816 Z\" fill=\"#000000\" fill-rule=\"evenodd\" fill-opacity=\"1\" /><path clip-path=\"url(#clip680)\" d=\"M2212.23 273.728 L2212.23 275.811 L2192.65 275.811 Q2192.92 280.209 2195.29 282.524 Q2197.67 284.816 2201.91 284.816 Q2204.36 284.816 2206.65 284.214 Q2208.97 283.612 2211.23 282.409 L2211.23 286.436 Q2208.94 287.408 2206.54 287.918 Q2204.13 288.427 2201.65 288.427 Q2195.45 288.427 2191.81 284.816 Q2188.2 281.205 2188.2 275.047 Q2188.2 268.682 2191.63 264.955 Q2195.08 261.205 2200.91 261.205 Q2206.14 261.205 2209.17 264.585 Q2212.23 267.941 2212.23 273.728 M2207.97 272.478 Q2207.92 268.983 2206 266.899 Q2204.11 264.816 2200.96 264.816 Q2197.39 264.816 2195.24 266.83 Q2193.11 268.844 2192.79 272.501 L2207.97 272.478 Z\" fill=\"#000000\" fill-rule=\"evenodd\" fill-opacity=\"1\" /><path clip-path=\"url(#clip680)\" d=\"M2234.24 265.811 Q2233.53 265.395 2232.67 265.21 Q2231.84 265.001 2230.82 265.001 Q2227.21 265.001 2225.26 267.362 Q2223.34 269.7 2223.34 274.098 L2223.34 287.756 L2219.06 287.756 L2219.06 261.83 L2223.34 261.83 L2223.34 265.858 Q2224.68 263.497 2226.84 262.362 Q2228.99 261.205 2232.07 261.205 Q2232.51 261.205 2233.04 261.274 Q2233.57 261.321 2234.22 261.436 L2234.24 265.811 Z\" fill=\"#000000\" fill-rule=\"evenodd\" fill-opacity=\"1\" /></svg>\n"
      ]
     },
     "execution_count": 70,
     "metadata": {},
     "output_type": "execute_result"
    }
   ],
   "source": [
    "#AUROC curves\n",
    "\n",
    "T = Int(T)\n",
    "AU_curve=zeros(T)\n",
    "AU_curveHyper=zeros(T)\n",
    "for t = 1:T\n",
    "    cau_risk=zeros(N)\n",
    "    cau_Hyper=zeros(N)\n",
    "    for i=1:N\n",
    "       cau_risk[i] = marginal(i,t,statscau)\n",
    "       cau_Hyper[i] = marginal(i,t,statscauHyper)\n",
    "    end\n",
    "    xt = xtrue .< t\n",
    "    AU_curve[t] = AUROC(ROC(xt, cau_risk))\n",
    "    AU_curveHyper[t] = AUROC(ROC(xt, cau_Hyper))\n",
    "end\n",
    "\n",
    "scatter(LinRange(1,T,T),AU_curve, label=\"AUCau\", title=\"AUROC: with and without Hyperparm inference\")\n",
    "scatter!(LinRange(1,T,T),AU_curveHyper, label=\"AUCauHyper\" )\n",
    "xlabel!(\"t\")\n",
    "ylabel!(\"AUROC\")\n",
    "savefig(\"confronti.pdf\")\n",
    "ylims!(0.5,1.01)"
   ]
  },
  {
   "cell_type": "code",
   "execution_count": null,
   "metadata": {},
   "outputs": [],
   "source": []
  }
 ],
 "metadata": {
  "kernelspec": {
   "display_name": "Julia 1.7.0-rc2",
   "language": "julia",
   "name": "julia-1.7"
  },
  "language_info": {
   "file_extension": ".jl",
   "mimetype": "application/julia",
   "name": "julia",
   "version": "1.7.0"
  }
 },
 "nbformat": 4,
 "nbformat_minor": 4
}
