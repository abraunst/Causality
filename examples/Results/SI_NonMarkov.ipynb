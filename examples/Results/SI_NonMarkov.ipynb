{
 "cells": [
  {
   "cell_type": "code",
   "execution_count": 36,
   "metadata": {},
   "outputs": [],
   "source": [
    "using SparseArrays, LinearAlgebra\n",
    "#using Pkg\n",
    "#Pkg.activate(\"../\")\n",
    "using Causality"
   ]
  },
  {
   "cell_type": "markdown",
   "metadata": {},
   "source": [
    "# Generation of Epidemics"
   ]
  },
  {
   "cell_type": "code",
   "execution_count": 37,
   "metadata": {},
   "outputs": [
    {
     "data": {
      "text/plain": [
       "100×100 SparseMatrixCSC{IndexedGraphs.NullNumber, Int64} with 1002 stored entries:\n",
       "⠀⠄⠀⠄⢈⠆⠐⠐⠒⠂⠤⠄⠀⠄⠄⡈⠀⠀⠄⠢⠀⢁⠔⠀⠠⢈⠄⠀⠠⠄⠀⠄⡁⠄⠀⠄⠀⠠⠤⠠\n",
       "⠀⠄⠀⠀⠄⠂⠄⠂⠀⠑⠐⡄⠀⠊⠊⠀⠀⠂⠄⠱⠡⠀⠐⠀⠢⠀⠖⠈⠠⢄⡐⠀⢠⠔⢈⠤⠑⡠⢢⡐\n",
       "⠢⠔⠠⠁⡀⠈⠠⡥⠤⠤⠡⠉⠈⡄⠤⠂⡠⢄⠁⠄⢈⠐⠤⡀⠤⠐⠠⠀⠁⠀⢨⠀⠂⠁⠀⢈⢨⠀⠄⠠\n",
       "⢐⠀⠠⠁⠄⡦⢀⠐⡒⡂⠠⠀⠄⠄⠄⠀⠄⠠⠀⠢⡠⠀⠰⢄⢄⠀⢄⠄⠄⠀⠠⠀⠨⠠⠈⠡⠠⠉⠀⠠\n",
       "⠸⠀⢄⠀⠀⡇⠸⠨⠮⠃⠀⠀⠀⠠⢀⠀⠀⡀⠀⠇⠅⠀⠰⢀⣈⠀⢀⢠⠀⠀⠀⠀⢀⠀⠠⠀⢄⠀⠀⠀\n",
       "⠀⠇⠐⠤⡅⠂⠀⠂⠀⠀⠄⠁⢀⠆⠆⡀⠁⠀⢅⠐⠸⠀⠅⡀⠺⠁⠂⠀⣀⠄⢔⠍⠀⠄⠀⠮⢀⠀⠶⠐\n",
       "⠀⠄⡠⠀⠂⠤⠀⠅⠀⡀⠠⠔⠀⠀⠄⠀⠠⠤⠀⡀⡀⠀⠌⠌⠡⠀⠈⠁⠒⠀⠘⠀⠈⠊⢀⠐⡈⠀⠄⠠\n",
       "⡀⠡⠊⠀⠠⠃⠀⠁⠀⠐⠈⠡⠀⠁⠀⠀⠐⠣⠠⠊⠂⡠⠁⠄⠉⣠⠑⠐⠠⠀⠨⢀⠄⠀⠀⠀⠢⠀⠁⠈\n",
       "⠀⠀⠠⠀⠀⢎⠀⡁⠀⠠⠁⠀⠀⡆⠴⡀⠠⠂⠀⠄⠈⠀⠆⡀⠔⠃⠠⠠⢀⠀⠀⠋⠀⠀⠀⠀⢠⠀⠆⠠\n",
       "⠠⡁⢄⡁⠁⠄⠠⡀⠤⠄⢁⠑⠀⠠⡠⠂⠀⠄⠀⠀⢌⠀⠡⠂⠈⠀⡀⠠⠘⡁⠀⠁⠀⠁⠠⡉⠄⢀⢈⢀\n",
       "⠄⢀⠁⠂⢂⠐⠀⠊⠁⠁⠒⠂⠀⠈⠈⡠⠂⠀⠂⠑⠀⠀⠐⠀⠈⢠⠂⠊⠀⠀⠐⠂⡀⠂⠈⠐⠁⠀⠐⠀\n",
       "⠐⠁⠐⠀⠀⠣⠐⢆⠐⢂⠁⠡⡂⠅⠁⠄⠈⠡⠡⠂⠐⠀⢀⠐⣊⠀⢐⠂⠠⠀⢰⠁⢐⢐⡀⠀⢠⠀⠁⠈\n",
       "⡀⢂⠈⠂⢀⠃⠀⠑⠂⠘⠞⠂⠁⠂⠃⣠⠴⠁⠂⠀⠂⣀⠊⠘⠀⠀⠘⠑⠀⠀⠈⠦⡘⠈⠀⠀⠚⠀⠂⠘\n",
       "⠀⠁⡘⠁⠀⠂⠀⠕⠀⣐⠈⠀⠆⠀⢑⠀⠀⡂⠀⡈⡨⠀⠰⠐⢖⠀⢠⠒⠀⠁⠠⠀⠐⠰⠀⠁⣐⠈⠨⠈\n",
       "⠀⠆⠀⢆⠁⠀⠀⠁⠀⠀⠀⠜⠘⠀⠀⠂⠀⠐⠖⠠⠀⠀⠀⠂⠀⠀⠄⠀⠪⠂⡘⠀⢀⠇⢀⠞⠘⡰⢰⡀\n",
       "⠀⠄⠐⠈⠂⠒⠀⠂⠀⠀⡔⠕⠒⠀⠂⢂⡤⠀⠄⠀⠰⠀⠔⠒⠢⡄⠀⠂⠒⠈⠀⡠⠘⠐⠈⠐⠐⠁⠈⠑\n",
       "⠁⠌⢀⠖⠌⠀⠂⡂⠀⠐⠀⠄⡢⠀⠀⠁⠀⠀⠄⠀⠠⠈⢐⢐⡒⠈⢐⡀⠤⠔⢒⠀⢀⠐⠒⠤⢐⠒⠠⠂\n",
       "⠀⠄⠂⡔⡀⢀⠆⡀⠀⠂⡠⡄⢀⠐⠀⠀⠀⠀⡄⠢⢂⠀⠀⠈⠀⠀⠄⠀⣠⠔⢂⠀⠘⡄⠀⠀⢂⠢⠠⠂\n",
       "⠀⡀⠑⡠⠂⠒⡄⠂⠀⠑⠀⠐⠂⠈⠈⠂⠀⠒⠀⢁⠁⠀⠀⠒⠚⠀⡐⠘⢒⡠⠔⠀⢰⠐⠨⡐⠀⠀⢀⠔\n",
       "⠀⡃⢈⠲⠀⡁⠀⡀⠀⠀⢘⠃⠀⡁⡁⠀⠈⡁⠂⢐⠐⠀⡁⠀⣈⠀⡂⠂⠐⠲⢆⠀⠠⠂⠠⠂⢀⠔⡀⠈"
      ]
     },
     "execution_count": 37,
     "metadata": {},
     "output_type": "execute_result"
    }
   ],
   "source": [
    "T, N = 30.0, 100\n",
    "#G = Causality.makeBarabasi(N,k=1)\n",
    "#ρ = 3/N\n",
    "#G = Causality.makeGNP(N,ρ)\n",
    "G = Causality.makeProximity(N,3.5/N)\n",
    "G.A "
   ]
  },
  {
   "cell_type": "code",
   "execution_count": 38,
   "metadata": {},
   "outputs": [
    {
     "data": {
      "text/plain": [
       "getpargen (generic function with 1 method)"
      ]
     },
     "execution_count": 38,
     "metadata": {},
     "output_type": "execute_result"
    }
   ],
   "source": [
    "getpar(pseed,autoinf::GaussianRate,inf_in::GaussianRate) = \n",
    "    [fill(pseed, 1, N);\n",
    "     fill(autoinf.a, 1, N); fill(autoinf.b, 1, N); fill(autoinf.c, 1, N);\n",
    "     fill(inf_in.a,   1, N); fill(inf_in.b, 1, N); fill(inf_in.c, 1, N);\n",
    "    ]\n",
    "\n",
    "getpargen(pseed, autoinf::GaussianRate, inf_out::GaussianRate) = \n",
    "    [pseed autoinf.a autoinf.b autoinf.c inf_out.a inf_out.b inf_out.c]\n"
   ]
  },
  {
   "cell_type": "code",
   "execution_count": 67,
   "metadata": {},
   "outputs": [],
   "source": [
    "#Initialize generation parameters\n",
    "ε = 1e-10\n",
    "λ = 0.2\n",
    "pseed = 1/N\n",
    "autoinf = GaussianRate(ε, T/2, 1/ε)\n",
    "inf_in = GaussianRate(1.0, T/2, 1/ε)\n",
    "inf_out = GaussianRate(λ, 3., 2.)\n",
    "\n",
    "θp = getpar(pseed, autoinf, inf_in);\n",
    "θpgen = getpargen(pseed, autoinf, inf_out);"
   ]
  },
  {
   "cell_type": "code",
   "execution_count": 68,
   "metadata": {},
   "outputs": [],
   "source": [
    "#Initialize min/max boundaies\n",
    "T = Float64(T)\n",
    "pseed_min = ε\n",
    "pseed_max = 1-ε\n",
    "rate_min = GaussianRate(ε  ,  -T,   ε)\n",
    "rate_max = GaussianRate(1/ε  ,  2T,   1/ε)\n",
    "\n",
    "θmin = getpar(pseed_min , rate_min, rate_min);\n",
    "θmax = getpar(pseed_max , rate_max, rate_max);\n",
    "\n",
    "rate_min = GaussianRate(ε  ,  -T,   ε)\n",
    "rate_max = GaussianRate(1/ε  ,  T,   T)\n",
    "\n",
    "θgenmin = getpargen(pseed_min, rate_min, rate_min);\n",
    "θgenmax = getpargen(pseed_max, rate_max, rate_max);"
   ]
  },
  {
   "cell_type": "code",
   "execution_count": 69,
   "metadata": {},
   "outputs": [
    {
     "data": {
      "text/plain": [
       "GaussianInferentialSI"
      ]
     },
     "execution_count": 69,
     "metadata": {},
     "output_type": "execute_result"
    }
   ],
   "source": [
    "const Igen = GenerativeSI{GaussianRate,GaussianRate} \n",
    "const Igauss = GaussianInferentialSI"
   ]
  },
  {
   "cell_type": "code",
   "execution_count": 70,
   "metadata": {},
   "outputs": [
    {
     "data": {
      "text/plain": [
       "89"
      ]
     },
     "execution_count": 70,
     "metadata": {},
     "output_type": "execute_result"
    }
   ],
   "source": [
    "Mp = StochasticModel(Igen, T, θp, G, θpgen);\n",
    "sample! = Sampler(Mp);\n",
    "\n",
    "xtrue = zeros(N)\n",
    "sample!(xtrue)\n",
    "nobs, p = Int(round(N/30)), 1e-5\n",
    "#nobs, p = N, 1e-5\n",
    "O = [(ti = T*(1+rand())/2; (i,xtrue[i] < ti,ti,p)) for i=1:nobs]\n",
    "sum(xtrue .< T)"
   ]
  },
  {
   "cell_type": "markdown",
   "metadata": {},
   "source": [
    "## Causality "
   ]
  },
  {
   "cell_type": "code",
   "execution_count": 71,
   "metadata": {},
   "outputs": [],
   "source": [
    "#Softened model\n",
    "T = Float64(T)\n",
    "ε = 2e-3\n",
    "autoinf = GaussianRate(ε, T/2, T);\n",
    "θp2gen = getpargen(pseed, autoinf, inf_out);\n",
    "inf_in = GaussianRate(1., T/2, 3*T );\n",
    "\n",
    "θp2 = getpar(pseed, autoinf, inf_in);\n",
    "Mp2 = StochasticModel(Igen, T, θp2, G, θp2gen);"
   ]
  },
  {
   "cell_type": "code",
   "execution_count": 73,
   "metadata": {},
   "outputs": [],
   "source": [
    "θ = getpar(pseed, autoinf, inf_in);\n",
    "M = StochasticModel(Igauss, T, θ, G, θp2gen);"
   ]
  },
  {
   "cell_type": "code",
   "execution_count": 74,
   "metadata": {
    "collapsed": true,
    "jupyter": {
     "outputs_hidden": true
    }
   },
   "outputs": [
    {
     "name": "stderr",
     "output_type": "stream",
     "text": [
      "\u001b[32mProgress:  79%|████████████████████████████████▍        |  ETA: 0:00:09\u001b[39m\n",
      "\u001b[34m  F:  4.997719091143761\u001b[39m"
     ]
    },
    {
     "ename": "LoadError",
     "evalue": "TaskFailedException\n\n\u001b[91m    nested task error: \u001b[39mInterruptException:\n    Stacktrace:\n     [1] \u001b[0m\u001b[1mgradient!\u001b[22m\u001b[0m\u001b[1m(\u001b[22m\u001b[90mresult\u001b[39m::\u001b[0mSubArray\u001b[90m{Float64, 1, Matrix{Float64}, Tuple{Base.Slice{Base.OneTo{Int64}}, Int64}, true}\u001b[39m, \u001b[90mf\u001b[39m::\u001b[0mCausality.var\"#55#56\"\u001b[90m{Matrix{Float64}, StochasticModel{GaussianInferentialSI, IndexedGraphs.IndexedBiDiGraph{Int64}, Vector{UnitRate}}, Int64}\u001b[39m, \u001b[90mx\u001b[39m::\u001b[0mSubArray\u001b[90m{Float64, 1, Matrix{Float64}, Tuple{Base.Slice{Base.OneTo{Int64}}, Int64}, true}\u001b[39m\u001b[0m\u001b[1m)\u001b[22m\n    \u001b[90m   @ \u001b[39m\u001b[35mForwardDiff\u001b[39m \u001b[90m~/.julia/packages/ForwardDiff/PBzup/src/\u001b[39m\u001b[90m\u001b[4mgradient.jl:35\u001b[24m\u001b[39m\n     [2] \u001b[0m\u001b[1mgradient!\u001b[22m\u001b[0m\u001b[1m(\u001b[22m\u001b[90mdθ\u001b[39m::\u001b[0mMatrix\u001b[90m{Float64}\u001b[39m, \u001b[90mx\u001b[39m::\u001b[0mMatrix\u001b[90m{Float64}\u001b[39m, \u001b[90mM\u001b[39m::\u001b[0mStochasticModel\u001b[90m{GaussianInferentialSI, IndexedGraphs.IndexedBiDiGraph{Int64}, Vector{UnitRate}}\u001b[39m\u001b[0m\u001b[1m)\u001b[22m\n    \u001b[90m   @ \u001b[39m\u001b[36mCausality\u001b[39m \u001b[90m~/git/Causality/src/\u001b[39m\u001b[90m\u001b[4mvariation.jl:162\u001b[24m\u001b[39m\n     [3] \u001b[0m\u001b[1mmacro expansion\u001b[22m\n    \u001b[90m   @ \u001b[39m\u001b[90m~/git/Causality/src/\u001b[39m\u001b[90m\u001b[4mvariation.jl:55\u001b[24m\u001b[39m\u001b[90m [inlined]\u001b[39m\n     [4] \u001b[0m\u001b[1m(::Causality.var\"#95#threadsfor_fun#29\"{StochasticModel{GaussianInferentialSI, IndexedGraphs.IndexedBiDiGraph{Int64}, Vector{UnitRate}}, Int64, StochasticModel{GenerativeSI{GaussianRate, GaussianRate}, IndexedGraphs.IndexedBiDiGraph{Int64}, Vector{UnitRate}}, Vector{Tuple{Int64, Bool, Float64, Float64}}, Matrix{Float64}, Vector{Causality.var\"#sample!#66\"{StochasticModel{GaussianInferentialSI, IndexedGraphs.IndexedBiDiGraph{Int64}, Vector{UnitRate}}, TrackingHeaps.TrackingHeap{Int64, Float64, 2, TrackingHeaps.MinHeapOrder, TrackingHeaps.NoTrainingWheels}, BitVector, Int64}}, Vector{Float64}, Vector{Vector{Tuple{Int64, Bool, Float64, Float64}}}, Vector{Matrix{Float64}}, Vector{Matrix{Float64}}, Vector{Matrix{Float64}}, Vector{Matrix{Float64}}, Vector{Matrix{Float64}}, Vector{Float64}, Int64, UnitRange{Int64}})\u001b[22m\u001b[0m\u001b[1m(\u001b[22m\u001b[90monethread\u001b[39m::\u001b[0mBool\u001b[0m\u001b[1m)\u001b[22m\n    \u001b[90m   @ \u001b[39m\u001b[36mCausality\u001b[39m \u001b[90m./\u001b[39m\u001b[90m\u001b[4mthreadingconstructs.jl:85\u001b[24m\u001b[39m\n     [5] \u001b[0m\u001b[1m(::Causality.var\"#95#threadsfor_fun#29\"{StochasticModel{GaussianInferentialSI, IndexedGraphs.IndexedBiDiGraph{Int64}, Vector{UnitRate}}, Int64, StochasticModel{GenerativeSI{GaussianRate, GaussianRate}, IndexedGraphs.IndexedBiDiGraph{Int64}, Vector{UnitRate}}, Vector{Tuple{Int64, Bool, Float64, Float64}}, Matrix{Float64}, Vector{Causality.var\"#sample!#66\"{StochasticModel{GaussianInferentialSI, IndexedGraphs.IndexedBiDiGraph{Int64}, Vector{UnitRate}}, TrackingHeaps.TrackingHeap{Int64, Float64, 2, TrackingHeaps.MinHeapOrder, TrackingHeaps.NoTrainingWheels}, BitVector, Int64}}, Vector{Float64}, Vector{Vector{Tuple{Int64, Bool, Float64, Float64}}}, Vector{Matrix{Float64}}, Vector{Matrix{Float64}}, Vector{Matrix{Float64}}, Vector{Matrix{Float64}}, Vector{Matrix{Float64}}, Vector{Float64}, Int64, UnitRange{Int64}})\u001b[22m\u001b[0m\u001b[1m(\u001b[22m\u001b[0m\u001b[1m)\u001b[22m\n    \u001b[90m   @ \u001b[39m\u001b[36mCausality\u001b[39m \u001b[90m./\u001b[39m\u001b[90m\u001b[4mthreadingconstructs.jl:52\u001b[24m\u001b[39m",
     "output_type": "error",
     "traceback": [
      "TaskFailedException\n\n\u001b[91m    nested task error: \u001b[39mInterruptException:\n    Stacktrace:\n     [1] \u001b[0m\u001b[1mgradient!\u001b[22m\u001b[0m\u001b[1m(\u001b[22m\u001b[90mresult\u001b[39m::\u001b[0mSubArray\u001b[90m{Float64, 1, Matrix{Float64}, Tuple{Base.Slice{Base.OneTo{Int64}}, Int64}, true}\u001b[39m, \u001b[90mf\u001b[39m::\u001b[0mCausality.var\"#55#56\"\u001b[90m{Matrix{Float64}, StochasticModel{GaussianInferentialSI, IndexedGraphs.IndexedBiDiGraph{Int64}, Vector{UnitRate}}, Int64}\u001b[39m, \u001b[90mx\u001b[39m::\u001b[0mSubArray\u001b[90m{Float64, 1, Matrix{Float64}, Tuple{Base.Slice{Base.OneTo{Int64}}, Int64}, true}\u001b[39m\u001b[0m\u001b[1m)\u001b[22m\n    \u001b[90m   @ \u001b[39m\u001b[35mForwardDiff\u001b[39m \u001b[90m~/.julia/packages/ForwardDiff/PBzup/src/\u001b[39m\u001b[90m\u001b[4mgradient.jl:35\u001b[24m\u001b[39m\n     [2] \u001b[0m\u001b[1mgradient!\u001b[22m\u001b[0m\u001b[1m(\u001b[22m\u001b[90mdθ\u001b[39m::\u001b[0mMatrix\u001b[90m{Float64}\u001b[39m, \u001b[90mx\u001b[39m::\u001b[0mMatrix\u001b[90m{Float64}\u001b[39m, \u001b[90mM\u001b[39m::\u001b[0mStochasticModel\u001b[90m{GaussianInferentialSI, IndexedGraphs.IndexedBiDiGraph{Int64}, Vector{UnitRate}}\u001b[39m\u001b[0m\u001b[1m)\u001b[22m\n    \u001b[90m   @ \u001b[39m\u001b[36mCausality\u001b[39m \u001b[90m~/git/Causality/src/\u001b[39m\u001b[90m\u001b[4mvariation.jl:162\u001b[24m\u001b[39m\n     [3] \u001b[0m\u001b[1mmacro expansion\u001b[22m\n    \u001b[90m   @ \u001b[39m\u001b[90m~/git/Causality/src/\u001b[39m\u001b[90m\u001b[4mvariation.jl:55\u001b[24m\u001b[39m\u001b[90m [inlined]\u001b[39m\n     [4] \u001b[0m\u001b[1m(::Causality.var\"#95#threadsfor_fun#29\"{StochasticModel{GaussianInferentialSI, IndexedGraphs.IndexedBiDiGraph{Int64}, Vector{UnitRate}}, Int64, StochasticModel{GenerativeSI{GaussianRate, GaussianRate}, IndexedGraphs.IndexedBiDiGraph{Int64}, Vector{UnitRate}}, Vector{Tuple{Int64, Bool, Float64, Float64}}, Matrix{Float64}, Vector{Causality.var\"#sample!#66\"{StochasticModel{GaussianInferentialSI, IndexedGraphs.IndexedBiDiGraph{Int64}, Vector{UnitRate}}, TrackingHeaps.TrackingHeap{Int64, Float64, 2, TrackingHeaps.MinHeapOrder, TrackingHeaps.NoTrainingWheels}, BitVector, Int64}}, Vector{Float64}, Vector{Vector{Tuple{Int64, Bool, Float64, Float64}}}, Vector{Matrix{Float64}}, Vector{Matrix{Float64}}, Vector{Matrix{Float64}}, Vector{Matrix{Float64}}, Vector{Matrix{Float64}}, Vector{Float64}, Int64, UnitRange{Int64}})\u001b[22m\u001b[0m\u001b[1m(\u001b[22m\u001b[90monethread\u001b[39m::\u001b[0mBool\u001b[0m\u001b[1m)\u001b[22m\n    \u001b[90m   @ \u001b[39m\u001b[36mCausality\u001b[39m \u001b[90m./\u001b[39m\u001b[90m\u001b[4mthreadingconstructs.jl:85\u001b[24m\u001b[39m\n     [5] \u001b[0m\u001b[1m(::Causality.var\"#95#threadsfor_fun#29\"{StochasticModel{GaussianInferentialSI, IndexedGraphs.IndexedBiDiGraph{Int64}, Vector{UnitRate}}, Int64, StochasticModel{GenerativeSI{GaussianRate, GaussianRate}, IndexedGraphs.IndexedBiDiGraph{Int64}, Vector{UnitRate}}, Vector{Tuple{Int64, Bool, Float64, Float64}}, Matrix{Float64}, Vector{Causality.var\"#sample!#66\"{StochasticModel{GaussianInferentialSI, IndexedGraphs.IndexedBiDiGraph{Int64}, Vector{UnitRate}}, TrackingHeaps.TrackingHeap{Int64, Float64, 2, TrackingHeaps.MinHeapOrder, TrackingHeaps.NoTrainingWheels}, BitVector, Int64}}, Vector{Float64}, Vector{Vector{Tuple{Int64, Bool, Float64, Float64}}}, Vector{Matrix{Float64}}, Vector{Matrix{Float64}}, Vector{Matrix{Float64}}, Vector{Matrix{Float64}}, Vector{Matrix{Float64}}, Vector{Float64}, Int64, UnitRange{Int64}})\u001b[22m\u001b[0m\u001b[1m(\u001b[22m\u001b[0m\u001b[1m)\u001b[22m\n    \u001b[90m   @ \u001b[39m\u001b[36mCausality\u001b[39m \u001b[90m./\u001b[39m\u001b[90m\u001b[4mthreadingconstructs.jl:52\u001b[24m\u001b[39m",
      "",
      "Stacktrace:",
      " [1] wait",
      "   @ ./task.jl:322 [inlined]",
      " [2] threading_run(func::Function)",
      "   @ Base.Threads ./threadingconstructs.jl:38",
      " [3] macro expansion",
      "   @ ./threadingconstructs.jl:97 [inlined]",
      " [4] localdescend!(Mp::StochasticModel{GenerativeSI{GaussianRate, GaussianRate}, IndexedGraphs.IndexedBiDiGraph{Int64}, Vector{UnitRate}}, O::Vector{Tuple{Int64, Bool, Float64, Float64}}; M::StochasticModel{GaussianInferentialSI, IndexedGraphs.IndexedBiDiGraph{Int64}, Vector{UnitRate}}, numiters::Int64, numsamples::Int64, ε::Float64, descender::SignDescender, hyperdescender::SignDescender, θmin::Matrix{Float64}, θmax::Matrix{Float64}, θgenmin::Matrix{Float64}, θgenmax::Matrix{Float64}, learnhyper::Int64)",
      "   @ Causality ~/git/Causality/src/variation.jl:50",
      " [5] top-level scope",
      "   @ In[74]:3",
      " [6] eval",
      "   @ ./boot.jl:373 [inlined]",
      " [7] include_string(mapexpr::typeof(REPL.softscope), mod::Module, code::String, filename::String)",
      "   @ Base ./loading.jl:1196"
     ]
    }
   ],
   "source": [
    "using ProgressMeter\n",
    "ProgressMeter.ijulia_behavior(:clear)\n",
    "F = descend!(Mp2, O; M=M, numsamples=1000, numiters=100, \n",
    "         θmin=θmin, θmax=θmax,θgenmin=θgenmin, θgenmax=θgenmax, descender=SignDescender(0.1),\n",
    "         hyperdescender=SignDescender(0.));\n",
    "F = descend!(Mp2, O; M=M, numsamples=1000, numiters=100, \n",
    "         θmin=θmin, θmax=θmax,θgenmin=θgenmin, θgenmax=θgenmax, descender=SignDescender(0.03),\n",
    "         hyperdescender=SignDescender(0.));\n",
    "F"
   ]
  },
  {
   "cell_type": "code",
   "execution_count": 75,
   "metadata": {},
   "outputs": [
    {
     "name": "stderr",
     "output_type": "stream",
     "text": [
      "\u001b[32mProgress: 100%|█████████████████████████████████████████| Time: 0:00:02\u001b[39m\n"
     ]
    }
   ],
   "source": [
    "statscau = prior(M, numsamples=10000);"
   ]
  },
  {
   "cell_type": "markdown",
   "metadata": {},
   "source": [
    "## SoftMarg"
   ]
  },
  {
   "cell_type": "code",
   "execution_count": 76,
   "metadata": {
    "collapsed": true,
    "jupyter": {
     "outputs_hidden": true
    }
   },
   "outputs": [
    {
     "name": "stderr",
     "output_type": "stream",
     "text": [
      "\u001b[32mProgress: 100%|█████████████████████████████████████████| Time: 0:00:31\u001b[39m\n"
     ]
    },
    {
     "data": {
      "text/plain": [
       "23038×100 Matrix{Float64}:\n",
       " 30.0      9.26166   3.79849   5.52512  …   6.4284    8.12904   4.71031\n",
       " 30.0     11.8829    1.82594   2.34358      0.97273   6.04307   4.44314\n",
       " 30.0     11.6804    2.98529   4.03778      4.38027   9.56708   6.37415\n",
       " 30.0      8.44662   3.49522   3.30819      3.98535   6.03907   2.86521\n",
       " 30.0      2.56815   8.49491   6.55324      7.75908  21.7781    5.19218\n",
       " 30.0      7.11298   3.53185   2.22293  …   1.93701   6.37364   2.59088\n",
       " 30.0     13.2832    4.57659   3.43498      2.77926   7.70341   6.37485\n",
       " 30.0     13.8577    4.39498   6.46158      7.91979  12.9849    4.86689\n",
       " 30.0      8.53682   1.41898   0.0          3.62801   1.42463   3.21832\n",
       " 30.0      8.98974   2.7249    0.0          5.11617   8.89462   2.59928\n",
       " 30.0      9.79176   4.75556   3.89709  …   5.41174  10.77      5.64893\n",
       " 30.0      6.82477   3.92525   6.14409      6.7236   15.208     5.70001\n",
       " 30.0     12.0202    5.68579   5.74887      5.86392  11.8691    4.43079\n",
       "  ⋮                                     ⋱                      \n",
       " 30.0      5.89117   5.24298   6.67013      7.93668   2.02359   3.89261\n",
       " 30.0     10.3578    4.23881   8.19334      3.98782  10.7253    6.2664\n",
       " 20.8116   5.63281   9.92518   9.23867     10.4947   16.3724    6.22748\n",
       " 30.0     10.3724    9.26007  10.7127      11.1611   17.9715    9.05184\n",
       " 20.7462  11.2468   11.3394   10.8754   …  11.5066   10.4341    8.37086\n",
       " 23.6121   7.20391   8.54097   7.21419      8.72679  15.5349    9.11445\n",
       " 28.6219  14.0234    5.67873   6.18499      8.52251   9.46674   3.51536\n",
       " 30.0      8.85149   5.21674   6.13448      6.95258  15.7977    4.02639\n",
       " 30.0      2.38264  11.8797    9.76533     11.4154   17.2276   10.9511\n",
       " 23.8268   5.34717   8.70352   8.16574  …   9.66175  30.0       8.55235\n",
       " 30.0      8.64053   5.0869    4.33927      5.50381  16.0254    2.58068\n",
       " 30.0      9.17176   5.64062   3.31597      5.49163  10.9146    1.84052"
      ]
     },
     "execution_count": 76,
     "metadata": {},
     "output_type": "execute_result"
    }
   ],
   "source": [
    "stats = softpost(Mp, O; numsamples=10^5);"
   ]
  },
  {
   "cell_type": "markdown",
   "metadata": {},
   "source": [
    "## Sib"
   ]
  },
  {
   "cell_type": "code",
   "execution_count": 77,
   "metadata": {},
   "outputs": [
    {
     "data": {
      "text/plain": [
       "NonMarkovSibyl (generic function with 1 method)"
      ]
     },
     "execution_count": 77,
     "metadata": {},
     "output_type": "execute_result"
    }
   ],
   "source": [
    "using PyCall\n",
    "@pyimport sib\n",
    "function NonMarkovSibyl(N, T_cont, Λ, a, b, c, O, γ; dt=1/5, maxit = 400, tol = 1e-14)\n",
    "    \n",
    "    T = Int(round(T_cont / dt))\n",
    "    contacts = [(i-1,j-1,t, 1) for t in 1:T for (i,j,v) in zip(findnz(Λ.A)...)];\n",
    "    obs = [[(i,-1,t) for t=1:T for i=0:N-1];\n",
    "           [(i-1,s,Int(round(t/dt))) for (i,s,t,p) in O]]\n",
    "    sort!(obs, lt=((i1,s1,t1),(i2,s2,t2))->(t1<t2))\n",
    "    prob_sus = 0.5\n",
    "    prob_seed=γ\n",
    "    pseed = prob_seed / (2 - prob_seed)\n",
    "    psus = prob_sus * (1 - pseed)\n",
    "    g = sib.PiecewiseLinear(pycall(sib.RealParams, PyObject, [a*exp(-((t-b)/c)^2) * dt for t =1:T]))\n",
    "    params = sib.Params(prob_r=sib.Exponential(mu=0), pseed=pseed, psus=psus,pautoinf=1e-10,fp_rate=1e-10,fn_rate=1e-10, prob_i = g)\n",
    "    f = sib.FactorGraph(contacts=contacts, observations=obs, params=params)\n",
    "    sib.iterate(f, maxit=maxit,tol=tol)\n",
    "    sib.iterate(f, maxit=maxit, damping=0.5, tol=tol)\n",
    "    sib.iterate(f, maxit=maxit, damping=0.9, tol=tol)\n",
    "    p_sib=[collect(n.bt) for n in f.nodes]\n",
    "    m_sib = zeros(N, T)\n",
    "    for i=1:N\n",
    "        m_sib[i,1] = p_sib[i][1] \n",
    "        for t=2:T\n",
    "            m_sib[i,t] = m_sib[i,t-1] + p_sib[i][t]\n",
    "        end\n",
    "    end \n",
    "    return m_sib\n",
    "end"
   ]
  },
  {
   "cell_type": "code",
   "execution_count": 86,
   "metadata": {},
   "outputs": [
    {
     "name": "stdout",
     "output_type": "stream",
     "text": [
      "\n",
      "sib.iterate(damp=0.0): 39/40 1.150e-06/1e-07      \n",
      "sib.iterate(damp=0.5): 9/40 6.268e-08/1e-07      \n",
      "14.958379983901978.9): 0/40 4.955e-08/1e-07      \n"
     ]
    }
   ],
   "source": [
    "a=time()\n",
    "dt = 1/2\n",
    "p_sib = NonMarkovSibyl(N, T, G, inf_out.a, inf_out.b, inf_out.c, O, 1/N; dt=dt, maxit = 40, tol = 1e-7);\n",
    "b=time()\n",
    "println(b-a)"
   ]
  },
  {
   "cell_type": "markdown",
   "metadata": {},
   "source": [
    "# Heuristic"
   ]
  },
  {
   "cell_type": "code",
   "execution_count": 79,
   "metadata": {},
   "outputs": [
    {
     "name": "stderr",
     "output_type": "stream",
     "text": [
      "\u001b[32mProgress: 100%|█████████████████████████████████████████| Time: 0:00:03\u001b[39m\n"
     ]
    }
   ],
   "source": [
    "using IntervalUnionArithmetic\n",
    "T = Float64(T)\n",
    "struct HeuristicSI <: SI end\n",
    "maskauto = fill(IntervalUnion(0., T),N)\n",
    "maskinf = fill(IntervalUnion(0., T),N)\n",
    "θfrench = getpar(pseed, GaussianRate(1e-10,T,T), inf_in);\n",
    "Causality.individual(M::StochasticModel{HeuristicSI}, i::Int, θi = @view(M.θ[:,i]), θg = M.θgen ) = \n",
    "@views IndividualSI(θi[1], \n",
    "    MaskedRate(GaussianRate(θi[2:4]...),maskauto[i]), \n",
    "    MaskedRate(UnitRate(),maskinf[i]), \n",
    "    GaussianRate(θg[5:7]...),)\n",
    "\n",
    "\n",
    "for o in O\n",
    "    if o[2] == 1 \n",
    "        maskauto[o[1]] = maskauto[o[1]] ∩ IntervalUnion(o[3]-5, T)        \n",
    "        θfrench[2,o[1]] = 10\n",
    "        θfrench[3,o[1]] = o[3] - 5\n",
    "        θfrench[4,o[1]] = 10\n",
    "    elseif o[2] == 0\n",
    "        maskinf[o[1]] = maskinf[o[1]] ∩ IntervalUnion(o[3], T)\n",
    "        θfrench[1,o[1]] = 1e-10\n",
    "    end\n",
    "end\n",
    "\n",
    "Mfrench = StochasticModel(HeuristicSI, T, θfrench, G, θp2gen);\n",
    "statsfre = prior(Mfrench,numsamples=10000);"
   ]
  },
  {
   "cell_type": "markdown",
   "metadata": {},
   "source": [
    "## Metropolis Monte Carlo"
   ]
  },
  {
   "cell_type": "code",
   "execution_count": 80,
   "metadata": {},
   "outputs": [
    {
     "name": "stderr",
     "output_type": "stream",
     "text": [
      "\u001b[32mProgress: 100%|█████████████████████████████████████████| Time: 0:00:27\u001b[39m\n",
      "\u001b[34m  acc_ratio:  0.397\u001b[39m\n"
     ]
    }
   ],
   "source": [
    "K = Causality.GaussMove(2.)\n",
    "#stats_mh = Causality.metropolis_sampling_parallel(Mp, O, K; numsamples = 10^3,numsteps=10^3)\n",
    "stats_mh = Causality.metropolis_sampling_sequential(Mp, O, K; numsamples = 10^3,numsteps=10^3);"
   ]
  },
  {
   "cell_type": "markdown",
   "metadata": {},
   "source": [
    "## Marginals and ROC curve"
   ]
  },
  {
   "cell_type": "code",
   "execution_count": 81,
   "metadata": {},
   "outputs": [
    {
     "data": {
      "text/plain": [
       "AUROC (generic function with 1 method)"
      ]
     },
     "execution_count": 81,
     "metadata": {},
     "output_type": "execute_result"
    }
   ],
   "source": [
    "function marginal(i, t, stats)\n",
    "    numsamp = size(stats,1)\n",
    "    sum(stats[:,i] .< t)/numsamp\n",
    "end\n",
    "\n",
    "function tpr(xtrue, rank) \n",
    "    cumsum(xtrue[rank]) ./( cumsum(xtrue[rank])[end])\n",
    "end\n",
    "\n",
    "function fpr(xtrue, rank) \n",
    "    N = size(rank,1)\n",
    "    return (range(1,N,length=N) .- cumsum(xtrue[rank])) ./ (range(1,N,length=N) .- cumsum(xtrue[rank]) )[end]\n",
    "end\n",
    "\n",
    "function ROC(xtrue, p)\n",
    "    N = size(xtrue,1)\n",
    "    rank = sortperm(p, rev=true)\n",
    "    \n",
    "    return fpr(xtrue, rank) , tpr(xtrue, rank)\n",
    "end\n",
    "\n",
    "function AUROC(ROC)\n",
    "    N = size(ROC[1],1) \n",
    "    AU = 0\n",
    "    for t = 1:N-1\n",
    "        AU += ROC[2][t] * (ROC[1][t+1] - ROC[1][t])\n",
    "    end\n",
    "    return AU\n",
    "end"
   ]
  },
  {
   "cell_type": "code",
   "execution_count": 82,
   "metadata": {},
   "outputs": [
    {
     "data": {
      "text/plain": [
       "3-element Vector{Tuple{Int64, Bool, Float64, Float64}}:\n",
       " (1, 0, 19.786538042025747, 1.0e-5)\n",
       " (2, 1, 16.12197504877565, 1.0e-5)\n",
       " (3, 1, 18.413482317284238, 1.0e-5)"
      ]
     },
     "execution_count": 82,
     "metadata": {},
     "output_type": "execute_result"
    }
   ],
   "source": [
    "O"
   ]
  },
  {
   "cell_type": "code",
   "execution_count": 87,
   "metadata": {},
   "outputs": [
    {
     "data": {
      "image/svg+xml": [
       "<?xml version=\"1.0\" encoding=\"utf-8\"?>\n",
       "<svg xmlns=\"http://www.w3.org/2000/svg\" xmlns:xlink=\"http://www.w3.org/1999/xlink\" width=\"600\" height=\"400\" viewBox=\"0 0 2400 1600\">\n",
       "<defs>\n",
       "  <clipPath id=\"clip180\">\n",
       "    <rect x=\"0\" y=\"0\" width=\"2400\" height=\"1600\"/>\n",
       "  </clipPath>\n",
       "</defs>\n",
       "<path clip-path=\"url(#clip180)\" d=\"\n",
       "M0 1600 L2400 1600 L2400 0 L0 0  Z\n",
       "  \" fill=\"#ffffff\" fill-rule=\"evenodd\" fill-opacity=\"1\"/>\n",
       "<defs>\n",
       "  <clipPath id=\"clip181\">\n",
       "    <rect x=\"480\" y=\"0\" width=\"1681\" height=\"1600\"/>\n",
       "  </clipPath>\n",
       "</defs>\n",
       "<path clip-path=\"url(#clip180)\" d=\"\n",
       "M186.274 1486.45 L2352.76 1486.45 L2352.76 47.2441 L186.274 47.2441  Z\n",
       "  \" fill=\"#ffffff\" fill-rule=\"evenodd\" fill-opacity=\"1\"/>\n",
       "<defs>\n",
       "  <clipPath id=\"clip182\">\n",
       "    <rect x=\"186\" y=\"47\" width=\"2167\" height=\"1440\"/>\n",
       "  </clipPath>\n",
       "</defs>\n",
       "<polyline clip-path=\"url(#clip182)\" style=\"stroke:#000000; stroke-linecap:butt; stroke-linejoin:round; stroke-width:2; stroke-opacity:0.1; fill:none\" points=\"\n",
       "  529.5,1486.45 529.5,47.2441 \n",
       "  \"/>\n",
       "<polyline clip-path=\"url(#clip182)\" style=\"stroke:#000000; stroke-linecap:butt; stroke-linejoin:round; stroke-width:2; stroke-opacity:0.1; fill:none\" points=\"\n",
       "  881.888,1486.45 881.888,47.2441 \n",
       "  \"/>\n",
       "<polyline clip-path=\"url(#clip182)\" style=\"stroke:#000000; stroke-linecap:butt; stroke-linejoin:round; stroke-width:2; stroke-opacity:0.1; fill:none\" points=\"\n",
       "  1234.28,1486.45 1234.28,47.2441 \n",
       "  \"/>\n",
       "<polyline clip-path=\"url(#clip182)\" style=\"stroke:#000000; stroke-linecap:butt; stroke-linejoin:round; stroke-width:2; stroke-opacity:0.1; fill:none\" points=\"\n",
       "  1586.66,1486.45 1586.66,47.2441 \n",
       "  \"/>\n",
       "<polyline clip-path=\"url(#clip182)\" style=\"stroke:#000000; stroke-linecap:butt; stroke-linejoin:round; stroke-width:2; stroke-opacity:0.1; fill:none\" points=\"\n",
       "  1939.05,1486.45 1939.05,47.2441 \n",
       "  \"/>\n",
       "<polyline clip-path=\"url(#clip182)\" style=\"stroke:#000000; stroke-linecap:butt; stroke-linejoin:round; stroke-width:2; stroke-opacity:0.1; fill:none\" points=\"\n",
       "  2291.44,1486.45 2291.44,47.2441 \n",
       "  \"/>\n",
       "<polyline clip-path=\"url(#clip180)\" style=\"stroke:#000000; stroke-linecap:butt; stroke-linejoin:round; stroke-width:4; stroke-opacity:1; fill:none\" points=\"\n",
       "  186.274,1486.45 2352.76,1486.45 \n",
       "  \"/>\n",
       "<polyline clip-path=\"url(#clip180)\" style=\"stroke:#000000; stroke-linecap:butt; stroke-linejoin:round; stroke-width:4; stroke-opacity:1; fill:none\" points=\"\n",
       "  529.5,1486.45 529.5,1467.55 \n",
       "  \"/>\n",
       "<polyline clip-path=\"url(#clip180)\" style=\"stroke:#000000; stroke-linecap:butt; stroke-linejoin:round; stroke-width:4; stroke-opacity:1; fill:none\" points=\"\n",
       "  881.888,1486.45 881.888,1467.55 \n",
       "  \"/>\n",
       "<polyline clip-path=\"url(#clip180)\" style=\"stroke:#000000; stroke-linecap:butt; stroke-linejoin:round; stroke-width:4; stroke-opacity:1; fill:none\" points=\"\n",
       "  1234.28,1486.45 1234.28,1467.55 \n",
       "  \"/>\n",
       "<polyline clip-path=\"url(#clip180)\" style=\"stroke:#000000; stroke-linecap:butt; stroke-linejoin:round; stroke-width:4; stroke-opacity:1; fill:none\" points=\"\n",
       "  1586.66,1486.45 1586.66,1467.55 \n",
       "  \"/>\n",
       "<polyline clip-path=\"url(#clip180)\" style=\"stroke:#000000; stroke-linecap:butt; stroke-linejoin:round; stroke-width:4; stroke-opacity:1; fill:none\" points=\"\n",
       "  1939.05,1486.45 1939.05,1467.55 \n",
       "  \"/>\n",
       "<polyline clip-path=\"url(#clip180)\" style=\"stroke:#000000; stroke-linecap:butt; stroke-linejoin:round; stroke-width:4; stroke-opacity:1; fill:none\" points=\"\n",
       "  2291.44,1486.45 2291.44,1467.55 \n",
       "  \"/>\n",
       "<path clip-path=\"url(#clip180)\" d=\"M519.778 1514.29 L538.134 1514.29 L538.134 1518.22 L524.06 1518.22 L524.06 1526.7 Q525.079 1526.35 526.097 1526.19 Q527.116 1526 528.134 1526 Q533.921 1526 537.301 1529.17 Q540.68 1532.34 540.68 1537.76 Q540.68 1543.34 537.208 1546.44 Q533.736 1549.52 527.417 1549.52 Q525.241 1549.52 522.972 1549.15 Q520.727 1548.78 518.319 1548.04 L518.319 1543.34 Q520.403 1544.47 522.625 1545.03 Q524.847 1545.58 527.324 1545.58 Q531.329 1545.58 533.667 1543.48 Q536.005 1541.37 536.005 1537.76 Q536.005 1534.15 533.667 1532.04 Q531.329 1529.94 527.324 1529.94 Q525.449 1529.94 523.574 1530.35 Q521.722 1530.77 519.778 1531.65 L519.778 1514.29 Z\" fill=\"#000000\" fill-rule=\"evenodd\" fill-opacity=\"1\" /><path clip-path=\"url(#clip180)\" d=\"M856.576 1544.91 L864.215 1544.91 L864.215 1518.55 L855.904 1520.21 L855.904 1515.95 L864.168 1514.29 L868.844 1514.29 L868.844 1544.91 L876.483 1544.91 L876.483 1548.85 L856.576 1548.85 L856.576 1544.91 Z\" fill=\"#000000\" fill-rule=\"evenodd\" fill-opacity=\"1\" /><path clip-path=\"url(#clip180)\" d=\"M895.927 1517.37 Q892.316 1517.37 890.488 1520.93 Q888.682 1524.47 888.682 1531.6 Q888.682 1538.71 890.488 1542.27 Q892.316 1545.82 895.927 1545.82 Q899.562 1545.82 901.367 1542.27 Q903.196 1538.71 903.196 1531.6 Q903.196 1524.47 901.367 1520.93 Q899.562 1517.37 895.927 1517.37 M895.927 1513.66 Q901.737 1513.66 904.793 1518.27 Q907.872 1522.85 907.872 1531.6 Q907.872 1540.33 904.793 1544.94 Q901.737 1549.52 895.927 1549.52 Q890.117 1549.52 887.039 1544.94 Q883.983 1540.33 883.983 1531.6 Q883.983 1522.85 887.039 1518.27 Q890.117 1513.66 895.927 1513.66 Z\" fill=\"#000000\" fill-rule=\"evenodd\" fill-opacity=\"1\" /><path clip-path=\"url(#clip180)\" d=\"M1209.46 1544.91 L1217.1 1544.91 L1217.1 1518.55 L1208.79 1520.21 L1208.79 1515.95 L1217.05 1514.29 L1221.73 1514.29 L1221.73 1544.91 L1229.37 1544.91 L1229.37 1548.85 L1209.46 1548.85 L1209.46 1544.91 Z\" fill=\"#000000\" fill-rule=\"evenodd\" fill-opacity=\"1\" /><path clip-path=\"url(#clip180)\" d=\"M1238.86 1514.29 L1257.22 1514.29 L1257.22 1518.22 L1243.14 1518.22 L1243.14 1526.7 Q1244.16 1526.35 1245.18 1526.19 Q1246.2 1526 1247.22 1526 Q1253 1526 1256.38 1529.17 Q1259.76 1532.34 1259.76 1537.76 Q1259.76 1543.34 1256.29 1546.44 Q1252.82 1549.52 1246.5 1549.52 Q1244.32 1549.52 1242.05 1549.15 Q1239.81 1548.78 1237.4 1548.04 L1237.4 1543.34 Q1239.48 1544.47 1241.71 1545.03 Q1243.93 1545.58 1246.41 1545.58 Q1250.41 1545.58 1252.75 1543.48 Q1255.09 1541.37 1255.09 1537.76 Q1255.09 1534.15 1252.75 1532.04 Q1250.41 1529.94 1246.41 1529.94 Q1244.53 1529.94 1242.66 1530.35 Q1240.8 1530.77 1238.86 1531.65 L1238.86 1514.29 Z\" fill=\"#000000\" fill-rule=\"evenodd\" fill-opacity=\"1\" /><path clip-path=\"url(#clip180)\" d=\"M1565.44 1544.91 L1581.76 1544.91 L1581.76 1548.85 L1559.81 1548.85 L1559.81 1544.91 Q1562.47 1542.16 1567.06 1537.53 Q1571.66 1532.88 1572.84 1531.53 Q1575.09 1529.01 1575.97 1527.27 Q1576.87 1525.51 1576.87 1523.82 Q1576.87 1521.07 1574.93 1519.33 Q1573.01 1517.6 1569.91 1517.6 Q1567.71 1517.6 1565.25 1518.36 Q1562.82 1519.13 1560.04 1520.68 L1560.04 1515.95 Q1562.87 1514.82 1565.32 1514.24 Q1567.78 1513.66 1569.81 1513.66 Q1575.18 1513.66 1578.38 1516.35 Q1581.57 1519.03 1581.57 1523.52 Q1581.57 1525.65 1580.76 1527.57 Q1579.97 1529.47 1577.87 1532.07 Q1577.29 1532.74 1574.19 1535.95 Q1571.09 1539.15 1565.44 1544.91 Z\" fill=\"#000000\" fill-rule=\"evenodd\" fill-opacity=\"1\" /><path clip-path=\"url(#clip180)\" d=\"M1601.57 1517.37 Q1597.96 1517.37 1596.13 1520.93 Q1594.33 1524.47 1594.33 1531.6 Q1594.33 1538.71 1596.13 1542.27 Q1597.96 1545.82 1601.57 1545.82 Q1605.21 1545.82 1607.01 1542.27 Q1608.84 1538.71 1608.84 1531.6 Q1608.84 1524.47 1607.01 1520.93 Q1605.21 1517.37 1601.57 1517.37 M1601.57 1513.66 Q1607.38 1513.66 1610.44 1518.27 Q1613.52 1522.85 1613.52 1531.6 Q1613.52 1540.33 1610.44 1544.94 Q1607.38 1549.52 1601.57 1549.52 Q1595.76 1549.52 1592.68 1544.94 Q1589.63 1540.33 1589.63 1531.6 Q1589.63 1522.85 1592.68 1518.27 Q1595.76 1513.66 1601.57 1513.66 Z\" fill=\"#000000\" fill-rule=\"evenodd\" fill-opacity=\"1\" /><path clip-path=\"url(#clip180)\" d=\"M1918.32 1544.91 L1934.64 1544.91 L1934.64 1548.85 L1912.7 1548.85 L1912.7 1544.91 Q1915.36 1542.16 1919.94 1537.53 Q1924.55 1532.88 1925.73 1531.53 Q1927.98 1529.01 1928.86 1527.27 Q1929.76 1525.51 1929.76 1523.82 Q1929.76 1521.07 1927.81 1519.33 Q1925.89 1517.6 1922.79 1517.6 Q1920.59 1517.6 1918.14 1518.36 Q1915.71 1519.13 1912.93 1520.68 L1912.93 1515.95 Q1915.75 1514.82 1918.21 1514.24 Q1920.66 1513.66 1922.7 1513.66 Q1928.07 1513.66 1931.26 1516.35 Q1934.46 1519.03 1934.46 1523.52 Q1934.46 1525.65 1933.65 1527.57 Q1932.86 1529.47 1930.75 1532.07 Q1930.18 1532.74 1927.07 1535.95 Q1923.97 1539.15 1918.32 1544.91 Z\" fill=\"#000000\" fill-rule=\"evenodd\" fill-opacity=\"1\" /><path clip-path=\"url(#clip180)\" d=\"M1944.5 1514.29 L1962.86 1514.29 L1962.86 1518.22 L1948.79 1518.22 L1948.79 1526.7 Q1949.8 1526.35 1950.82 1526.19 Q1951.84 1526 1952.86 1526 Q1958.65 1526 1962.03 1529.17 Q1965.41 1532.34 1965.41 1537.76 Q1965.41 1543.34 1961.93 1546.44 Q1958.46 1549.52 1952.14 1549.52 Q1949.97 1549.52 1947.7 1549.15 Q1945.45 1548.78 1943.05 1548.04 L1943.05 1543.34 Q1945.13 1544.47 1947.35 1545.03 Q1949.57 1545.58 1952.05 1545.58 Q1956.05 1545.58 1958.39 1543.48 Q1960.73 1541.37 1960.73 1537.76 Q1960.73 1534.15 1958.39 1532.04 Q1956.05 1529.94 1952.05 1529.94 Q1950.17 1529.94 1948.3 1530.35 Q1946.45 1530.77 1944.5 1531.65 L1944.5 1514.29 Z\" fill=\"#000000\" fill-rule=\"evenodd\" fill-opacity=\"1\" /><path clip-path=\"url(#clip180)\" d=\"M2280.28 1530.21 Q2283.64 1530.93 2285.51 1533.2 Q2287.41 1535.47 2287.41 1538.8 Q2287.41 1543.92 2283.89 1546.72 Q2280.38 1549.52 2273.89 1549.52 Q2271.72 1549.52 2269.4 1549.08 Q2267.11 1548.66 2264.66 1547.81 L2264.66 1543.29 Q2266.6 1544.43 2268.92 1545.01 Q2271.23 1545.58 2273.76 1545.58 Q2278.15 1545.58 2280.45 1543.85 Q2282.76 1542.11 2282.76 1538.8 Q2282.76 1535.75 2280.61 1534.03 Q2278.48 1532.3 2274.66 1532.3 L2270.63 1532.3 L2270.63 1528.45 L2274.84 1528.45 Q2278.29 1528.45 2280.12 1527.09 Q2281.95 1525.7 2281.95 1523.11 Q2281.95 1520.45 2280.05 1519.03 Q2278.18 1517.6 2274.66 1517.6 Q2272.74 1517.6 2270.54 1518.01 Q2268.34 1518.43 2265.7 1519.31 L2265.7 1515.14 Q2268.36 1514.4 2270.68 1514.03 Q2273.01 1513.66 2275.07 1513.66 Q2280.4 1513.66 2283.5 1516.09 Q2286.6 1518.5 2286.6 1522.62 Q2286.6 1525.49 2284.96 1527.48 Q2283.32 1529.45 2280.28 1530.21 Z\" fill=\"#000000\" fill-rule=\"evenodd\" fill-opacity=\"1\" /><path clip-path=\"url(#clip180)\" d=\"M2306.28 1517.37 Q2302.67 1517.37 2300.84 1520.93 Q2299.03 1524.47 2299.03 1531.6 Q2299.03 1538.71 2300.84 1542.27 Q2302.67 1545.82 2306.28 1545.82 Q2309.91 1545.82 2311.72 1542.27 Q2313.55 1538.71 2313.55 1531.6 Q2313.55 1524.47 2311.72 1520.93 Q2309.91 1517.37 2306.28 1517.37 M2306.28 1513.66 Q2312.09 1513.66 2315.14 1518.27 Q2318.22 1522.85 2318.22 1531.6 Q2318.22 1540.33 2315.14 1544.94 Q2312.09 1549.52 2306.28 1549.52 Q2300.47 1549.52 2297.39 1544.94 Q2294.33 1540.33 2294.33 1531.6 Q2294.33 1522.85 2297.39 1518.27 Q2300.47 1513.66 2306.28 1513.66 Z\" fill=\"#000000\" fill-rule=\"evenodd\" fill-opacity=\"1\" /><polyline clip-path=\"url(#clip182)\" style=\"stroke:#000000; stroke-linecap:butt; stroke-linejoin:round; stroke-width:2; stroke-opacity:0.1; fill:none\" points=\"\n",
       "  186.274,1445.72 2352.76,1445.72 \n",
       "  \"/>\n",
       "<polyline clip-path=\"url(#clip182)\" style=\"stroke:#000000; stroke-linecap:butt; stroke-linejoin:round; stroke-width:2; stroke-opacity:0.1; fill:none\" points=\"\n",
       "  186.274,1106.28 2352.76,1106.28 \n",
       "  \"/>\n",
       "<polyline clip-path=\"url(#clip182)\" style=\"stroke:#000000; stroke-linecap:butt; stroke-linejoin:round; stroke-width:2; stroke-opacity:0.1; fill:none\" points=\"\n",
       "  186.274,766.846 2352.76,766.846 \n",
       "  \"/>\n",
       "<polyline clip-path=\"url(#clip182)\" style=\"stroke:#000000; stroke-linecap:butt; stroke-linejoin:round; stroke-width:2; stroke-opacity:0.1; fill:none\" points=\"\n",
       "  186.274,427.411 2352.76,427.411 \n",
       "  \"/>\n",
       "<polyline clip-path=\"url(#clip182)\" style=\"stroke:#000000; stroke-linecap:butt; stroke-linejoin:round; stroke-width:2; stroke-opacity:0.1; fill:none\" points=\"\n",
       "  186.274,87.9763 2352.76,87.9763 \n",
       "  \"/>\n",
       "<polyline clip-path=\"url(#clip180)\" style=\"stroke:#000000; stroke-linecap:butt; stroke-linejoin:round; stroke-width:4; stroke-opacity:1; fill:none\" points=\"\n",
       "  186.274,1486.45 186.274,47.2441 \n",
       "  \"/>\n",
       "<polyline clip-path=\"url(#clip180)\" style=\"stroke:#000000; stroke-linecap:butt; stroke-linejoin:round; stroke-width:4; stroke-opacity:1; fill:none\" points=\"\n",
       "  186.274,1445.72 205.172,1445.72 \n",
       "  \"/>\n",
       "<polyline clip-path=\"url(#clip180)\" style=\"stroke:#000000; stroke-linecap:butt; stroke-linejoin:round; stroke-width:4; stroke-opacity:1; fill:none\" points=\"\n",
       "  186.274,1106.28 205.172,1106.28 \n",
       "  \"/>\n",
       "<polyline clip-path=\"url(#clip180)\" style=\"stroke:#000000; stroke-linecap:butt; stroke-linejoin:round; stroke-width:4; stroke-opacity:1; fill:none\" points=\"\n",
       "  186.274,766.846 205.172,766.846 \n",
       "  \"/>\n",
       "<polyline clip-path=\"url(#clip180)\" style=\"stroke:#000000; stroke-linecap:butt; stroke-linejoin:round; stroke-width:4; stroke-opacity:1; fill:none\" points=\"\n",
       "  186.274,427.411 205.172,427.411 \n",
       "  \"/>\n",
       "<polyline clip-path=\"url(#clip180)\" style=\"stroke:#000000; stroke-linecap:butt; stroke-linejoin:round; stroke-width:4; stroke-opacity:1; fill:none\" points=\"\n",
       "  186.274,87.9763 205.172,87.9763 \n",
       "  \"/>\n",
       "<path clip-path=\"url(#clip180)\" d=\"M62.9365 1431.51 Q59.3254 1431.51 57.4967 1435.08 Q55.6912 1438.62 55.6912 1445.75 Q55.6912 1452.86 57.4967 1456.42 Q59.3254 1459.96 62.9365 1459.96 Q66.5707 1459.96 68.3763 1456.42 Q70.205 1452.86 70.205 1445.75 Q70.205 1438.62 68.3763 1435.08 Q66.5707 1431.51 62.9365 1431.51 M62.9365 1427.81 Q68.7467 1427.81 71.8022 1432.42 Q74.8809 1437 74.8809 1445.75 Q74.8809 1454.48 71.8022 1459.08 Q68.7467 1463.67 62.9365 1463.67 Q57.1264 1463.67 54.0477 1459.08 Q50.9921 1454.48 50.9921 1445.75 Q50.9921 1437 54.0477 1432.42 Q57.1264 1427.81 62.9365 1427.81 Z\" fill=\"#000000\" fill-rule=\"evenodd\" fill-opacity=\"1\" /><path clip-path=\"url(#clip180)\" d=\"M83.0984 1457.12 L87.9827 1457.12 L87.9827 1463 L83.0984 1463 L83.0984 1457.12 Z\" fill=\"#000000\" fill-rule=\"evenodd\" fill-opacity=\"1\" /><path clip-path=\"url(#clip180)\" d=\"M108.168 1431.51 Q104.557 1431.51 102.728 1435.08 Q100.922 1438.62 100.922 1445.75 Q100.922 1452.86 102.728 1456.42 Q104.557 1459.96 108.168 1459.96 Q111.802 1459.96 113.608 1456.42 Q115.436 1452.86 115.436 1445.75 Q115.436 1438.62 113.608 1435.08 Q111.802 1431.51 108.168 1431.51 M108.168 1427.81 Q113.978 1427.81 117.033 1432.42 Q120.112 1437 120.112 1445.75 Q120.112 1454.48 117.033 1459.08 Q113.978 1463.67 108.168 1463.67 Q102.358 1463.67 99.2789 1459.08 Q96.2234 1454.48 96.2234 1445.75 Q96.2234 1437 99.2789 1432.42 Q102.358 1427.81 108.168 1427.81 Z\" fill=\"#000000\" fill-rule=\"evenodd\" fill-opacity=\"1\" /><path clip-path=\"url(#clip180)\" d=\"M138.33 1431.51 Q134.719 1431.51 132.89 1435.08 Q131.084 1438.62 131.084 1445.75 Q131.084 1452.86 132.89 1456.42 Q134.719 1459.96 138.33 1459.96 Q141.964 1459.96 143.769 1456.42 Q145.598 1452.86 145.598 1445.75 Q145.598 1438.62 143.769 1435.08 Q141.964 1431.51 138.33 1431.51 M138.33 1427.81 Q144.14 1427.81 147.195 1432.42 Q150.274 1437 150.274 1445.75 Q150.274 1454.48 147.195 1459.08 Q144.14 1463.67 138.33 1463.67 Q132.519 1463.67 129.441 1459.08 Q126.385 1454.48 126.385 1445.75 Q126.385 1437 129.441 1432.42 Q132.519 1427.81 138.33 1427.81 Z\" fill=\"#000000\" fill-rule=\"evenodd\" fill-opacity=\"1\" /><path clip-path=\"url(#clip180)\" d=\"M63.9319 1092.08 Q60.3208 1092.08 58.4921 1095.64 Q56.6865 1099.19 56.6865 1106.32 Q56.6865 1113.42 58.4921 1116.99 Q60.3208 1120.53 63.9319 1120.53 Q67.5661 1120.53 69.3717 1116.99 Q71.2004 1113.42 71.2004 1106.32 Q71.2004 1099.19 69.3717 1095.64 Q67.5661 1092.08 63.9319 1092.08 M63.9319 1088.38 Q69.742 1088.38 72.7976 1092.98 Q75.8763 1097.57 75.8763 1106.32 Q75.8763 1115.04 72.7976 1119.65 Q69.742 1124.23 63.9319 1124.23 Q58.1217 1124.23 55.043 1119.65 Q51.9875 1115.04 51.9875 1106.32 Q51.9875 1097.57 55.043 1092.98 Q58.1217 1088.38 63.9319 1088.38 Z\" fill=\"#000000\" fill-rule=\"evenodd\" fill-opacity=\"1\" /><path clip-path=\"url(#clip180)\" d=\"M84.0938 1117.68 L88.978 1117.68 L88.978 1123.56 L84.0938 1123.56 L84.0938 1117.68 Z\" fill=\"#000000\" fill-rule=\"evenodd\" fill-opacity=\"1\" /><path clip-path=\"url(#clip180)\" d=\"M103.191 1119.63 L119.51 1119.63 L119.51 1123.56 L97.566 1123.56 L97.566 1119.63 Q100.228 1116.87 104.811 1112.24 Q109.418 1107.59 110.598 1106.25 Q112.844 1103.72 113.723 1101.99 Q114.626 1100.23 114.626 1098.54 Q114.626 1095.78 112.682 1094.05 Q110.76 1092.31 107.658 1092.31 Q105.459 1092.31 103.006 1093.07 Q100.575 1093.84 97.7974 1095.39 L97.7974 1090.67 Q100.621 1089.53 103.075 1088.95 Q105.529 1088.38 107.566 1088.38 Q112.936 1088.38 116.131 1091.06 Q119.325 1093.75 119.325 1098.24 Q119.325 1100.37 118.515 1102.29 Q117.728 1104.19 115.621 1106.78 Q115.043 1107.45 111.941 1110.67 Q108.839 1113.86 103.191 1119.63 Z\" fill=\"#000000\" fill-rule=\"evenodd\" fill-opacity=\"1\" /><path clip-path=\"url(#clip180)\" d=\"M129.371 1089 L147.728 1089 L147.728 1092.94 L133.654 1092.94 L133.654 1101.41 Q134.672 1101.06 135.691 1100.9 Q136.709 1100.71 137.728 1100.71 Q143.515 1100.71 146.894 1103.89 Q150.274 1107.06 150.274 1112.47 Q150.274 1118.05 146.802 1121.15 Q143.33 1124.23 137.01 1124.23 Q134.834 1124.23 132.566 1123.86 Q130.32 1123.49 127.913 1122.75 L127.913 1118.05 Q129.996 1119.19 132.219 1119.74 Q134.441 1120.3 136.918 1120.3 Q140.922 1120.3 143.26 1118.19 Q145.598 1116.08 145.598 1112.47 Q145.598 1108.86 143.26 1106.76 Q140.922 1104.65 136.918 1104.65 Q135.043 1104.65 133.168 1105.07 Q131.316 1105.48 129.371 1106.36 L129.371 1089 Z\" fill=\"#000000\" fill-rule=\"evenodd\" fill-opacity=\"1\" /><path clip-path=\"url(#clip180)\" d=\"M62.9365 752.645 Q59.3254 752.645 57.4967 756.209 Q55.6912 759.751 55.6912 766.881 Q55.6912 773.987 57.4967 777.552 Q59.3254 781.094 62.9365 781.094 Q66.5707 781.094 68.3763 777.552 Q70.205 773.987 70.205 766.881 Q70.205 759.751 68.3763 756.209 Q66.5707 752.645 62.9365 752.645 M62.9365 748.941 Q68.7467 748.941 71.8022 753.547 Q74.8809 758.131 74.8809 766.881 Q74.8809 775.608 71.8022 780.214 Q68.7467 784.797 62.9365 784.797 Q57.1264 784.797 54.0477 780.214 Q50.9921 775.608 50.9921 766.881 Q50.9921 758.131 54.0477 753.547 Q57.1264 748.941 62.9365 748.941 Z\" fill=\"#000000\" fill-rule=\"evenodd\" fill-opacity=\"1\" /><path clip-path=\"url(#clip180)\" d=\"M83.0984 778.246 L87.9827 778.246 L87.9827 784.126 L83.0984 784.126 L83.0984 778.246 Z\" fill=\"#000000\" fill-rule=\"evenodd\" fill-opacity=\"1\" /><path clip-path=\"url(#clip180)\" d=\"M98.2141 749.566 L116.57 749.566 L116.57 753.501 L102.496 753.501 L102.496 761.973 Q103.515 761.626 104.534 761.464 Q105.552 761.279 106.571 761.279 Q112.358 761.279 115.737 764.45 Q119.117 767.621 119.117 773.038 Q119.117 778.617 115.645 781.719 Q112.172 784.797 105.853 784.797 Q103.677 784.797 101.409 784.427 Q99.1632 784.057 96.7558 783.316 L96.7558 778.617 Q98.8391 779.751 101.061 780.307 Q103.284 780.862 105.76 780.862 Q109.765 780.862 112.103 778.756 Q114.441 776.649 114.441 773.038 Q114.441 769.427 112.103 767.321 Q109.765 765.214 105.76 765.214 Q103.885 765.214 102.01 765.631 Q100.159 766.047 98.2141 766.927 L98.2141 749.566 Z\" fill=\"#000000\" fill-rule=\"evenodd\" fill-opacity=\"1\" /><path clip-path=\"url(#clip180)\" d=\"M138.33 752.645 Q134.719 752.645 132.89 756.209 Q131.084 759.751 131.084 766.881 Q131.084 773.987 132.89 777.552 Q134.719 781.094 138.33 781.094 Q141.964 781.094 143.769 777.552 Q145.598 773.987 145.598 766.881 Q145.598 759.751 143.769 756.209 Q141.964 752.645 138.33 752.645 M138.33 748.941 Q144.14 748.941 147.195 753.547 Q150.274 758.131 150.274 766.881 Q150.274 775.608 147.195 780.214 Q144.14 784.797 138.33 784.797 Q132.519 784.797 129.441 780.214 Q126.385 775.608 126.385 766.881 Q126.385 758.131 129.441 753.547 Q132.519 748.941 138.33 748.941 Z\" fill=\"#000000\" fill-rule=\"evenodd\" fill-opacity=\"1\" /><path clip-path=\"url(#clip180)\" d=\"M63.9319 413.21 Q60.3208 413.21 58.4921 416.775 Q56.6865 420.316 56.6865 427.446 Q56.6865 434.552 58.4921 438.117 Q60.3208 441.659 63.9319 441.659 Q67.5661 441.659 69.3717 438.117 Q71.2004 434.552 71.2004 427.446 Q71.2004 420.316 69.3717 416.775 Q67.5661 413.21 63.9319 413.21 M63.9319 409.506 Q69.742 409.506 72.7976 414.113 Q75.8763 418.696 75.8763 427.446 Q75.8763 436.173 72.7976 440.779 Q69.742 445.362 63.9319 445.362 Q58.1217 445.362 55.043 440.779 Q51.9875 436.173 51.9875 427.446 Q51.9875 418.696 55.043 414.113 Q58.1217 409.506 63.9319 409.506 Z\" fill=\"#000000\" fill-rule=\"evenodd\" fill-opacity=\"1\" /><path clip-path=\"url(#clip180)\" d=\"M84.0938 438.812 L88.978 438.812 L88.978 444.691 L84.0938 444.691 L84.0938 438.812 Z\" fill=\"#000000\" fill-rule=\"evenodd\" fill-opacity=\"1\" /><path clip-path=\"url(#clip180)\" d=\"M97.9826 410.131 L120.205 410.131 L120.205 412.122 L107.658 444.691 L102.774 444.691 L114.58 414.066 L97.9826 414.066 L97.9826 410.131 Z\" fill=\"#000000\" fill-rule=\"evenodd\" fill-opacity=\"1\" /><path clip-path=\"url(#clip180)\" d=\"M129.371 410.131 L147.728 410.131 L147.728 414.066 L133.654 414.066 L133.654 422.538 Q134.672 422.191 135.691 422.029 Q136.709 421.844 137.728 421.844 Q143.515 421.844 146.894 425.015 Q150.274 428.187 150.274 433.603 Q150.274 439.182 146.802 442.284 Q143.33 445.362 137.01 445.362 Q134.834 445.362 132.566 444.992 Q130.32 444.622 127.913 443.881 L127.913 439.182 Q129.996 440.316 132.219 440.872 Q134.441 441.427 136.918 441.427 Q140.922 441.427 143.26 439.321 Q145.598 437.214 145.598 433.603 Q145.598 429.992 143.26 427.886 Q140.922 425.779 136.918 425.779 Q135.043 425.779 133.168 426.196 Q131.316 426.613 129.371 427.492 L129.371 410.131 Z\" fill=\"#000000\" fill-rule=\"evenodd\" fill-opacity=\"1\" /><path clip-path=\"url(#clip180)\" d=\"M53.7467 101.321 L61.3856 101.321 L61.3856 74.9555 L53.0754 76.6222 L53.0754 72.3629 L61.3393 70.6963 L66.0152 70.6963 L66.0152 101.321 L73.654 101.321 L73.654 105.256 L53.7467 105.256 L53.7467 101.321 Z\" fill=\"#000000\" fill-rule=\"evenodd\" fill-opacity=\"1\" /><path clip-path=\"url(#clip180)\" d=\"M83.0984 99.3767 L87.9827 99.3767 L87.9827 105.256 L83.0984 105.256 L83.0984 99.3767 Z\" fill=\"#000000\" fill-rule=\"evenodd\" fill-opacity=\"1\" /><path clip-path=\"url(#clip180)\" d=\"M108.168 73.775 Q104.557 73.775 102.728 77.3398 Q100.922 80.8814 100.922 88.011 Q100.922 95.1174 102.728 98.6822 Q104.557 102.224 108.168 102.224 Q111.802 102.224 113.608 98.6822 Q115.436 95.1174 115.436 88.011 Q115.436 80.8814 113.608 77.3398 Q111.802 73.775 108.168 73.775 M108.168 70.0713 Q113.978 70.0713 117.033 74.6777 Q120.112 79.261 120.112 88.011 Q120.112 96.7378 117.033 101.344 Q113.978 105.928 108.168 105.928 Q102.358 105.928 99.2789 101.344 Q96.2234 96.7378 96.2234 88.011 Q96.2234 79.261 99.2789 74.6777 Q102.358 70.0713 108.168 70.0713 Z\" fill=\"#000000\" fill-rule=\"evenodd\" fill-opacity=\"1\" /><path clip-path=\"url(#clip180)\" d=\"M138.33 73.775 Q134.719 73.775 132.89 77.3398 Q131.084 80.8814 131.084 88.011 Q131.084 95.1174 132.89 98.6822 Q134.719 102.224 138.33 102.224 Q141.964 102.224 143.769 98.6822 Q145.598 95.1174 145.598 88.011 Q145.598 80.8814 143.769 77.3398 Q141.964 73.775 138.33 73.775 M138.33 70.0713 Q144.14 70.0713 147.195 74.6777 Q150.274 79.261 150.274 88.011 Q150.274 96.7378 147.195 101.344 Q144.14 105.928 138.33 105.928 Q132.519 105.928 129.441 101.344 Q126.385 96.7378 126.385 88.011 Q126.385 79.261 129.441 74.6777 Q132.519 70.0713 138.33 70.0713 Z\" fill=\"#000000\" fill-rule=\"evenodd\" fill-opacity=\"1\" /><polyline clip-path=\"url(#clip182)\" style=\"stroke:#009af9; stroke-linecap:butt; stroke-linejoin:round; stroke-width:4; stroke-opacity:1; fill:none\" points=\"\n",
       "  247.59,1383.94 254.425,1383.26 261.261,1381.36 268.096,1379.46 274.932,1377.56 281.768,1375.11 288.603,1372.4 295.439,1369.82 302.274,1367.1 309.11,1363.44 \n",
       "  315.946,1360.04 322.781,1355.83 329.617,1351.35 336.453,1345.24 343.288,1339.54 350.124,1333.7 356.959,1326.91 363.795,1319.31 370.631,1310.62 377.466,1301.39 \n",
       "  384.302,1293.11 391.138,1282.38 397.973,1273.15 404.809,1260.93 411.644,1248.16 418.48,1236.08 425.316,1222.91 432.151,1207.16 438.987,1193.45 445.823,1180.01 \n",
       "  452.658,1165.07 459.494,1149.86 466.329,1132.21 473.165,1115.38 480.001,1098.68 486.836,1079.67 493.672,1061.07 500.508,1044.37 507.343,1026.72 514.179,1007.44 \n",
       "  521.014,988.972 527.85,970.507 534.686,954.078 541.521,939.007 548.357,922.579 555.192,904.113 562.028,886.734 568.864,872.885 575.699,854.692 582.535,839.485 \n",
       "  589.371,824.55 596.206,808.8 603.042,794.951 609.877,781.238 616.713,768.339 623.549,752.454 630.384,739.012 637.22,723.941 644.056,710.5 650.891,696.651 \n",
       "  657.727,683.345 664.562,668.681 671.398,655.647 678.234,641.934 685.069,626.456 691.905,613.693 698.741,601.202 705.576,588.711 712.412,577.17 719.247,566.444 \n",
       "  726.083,555.446 732.919,544.041 739.754,533.451 746.59,523.539 753.426,512.134 760.261,501.408 767.097,491.361 773.932,480.091 780.768,468.551 787.604,459.861 \n",
       "  794.439,452.529 801.275,442.21 808.11,433.657 814.946,424.967 821.782,418.722 828.617,409.489 835.453,401.478 842.289,393.603 849.124,385.05 855.96,377.854 \n",
       "  862.795,370.386 869.631,363.733 876.467,357.759 883.302,349.205 890.138,342.552 896.974,336.986 903.809,329.247 910.645,320.964 917.48,313.768 924.316,306.844 \n",
       "  931.152,301.82 937.987,292.723 944.823,287.564 951.659,281.726 958.494,276.702 965.33,270.049 972.165,264.89 979.001,260.002 985.837,255.25 992.672,249.819 \n",
       "  999.508,245.067 1006.34,240.994 1013.18,238.142 1020.01,233.662 1026.85,229.317 1033.69,225.651 1040.52,219.813 1047.36,215.061 1054.19,211.802 1061.03,207.729 \n",
       "  1067.86,204.335 1074.7,199.175 1081.54,196.052 1088.37,192.251 1095.21,189.264 1102.04,185.462 1108.88,183.018 1115.71,179.352 1122.55,177.18 1129.38,173.65 \n",
       "  1136.22,170.12 1143.06,167.268 1149.89,164.553 1156.73,161.837 1163.56,158.715 1170.4,154.913 1177.23,152.469 1184.07,150.84 1190.91,147.988 1197.74,145.816 \n",
       "  1204.58,143.508 1211.41,142.014 1218.25,140.385 1225.08,138.62 1231.92,136.583 1238.75,134.683 1245.59,132.782 1252.43,131.56 1259.26,130.202 1266.1,129.252 \n",
       "  1272.93,128.165 1279.77,127.351 1286.6,125.721 1293.44,124.228 1300.28,122.734 1307.11,121.784 1313.95,120.426 1320.78,119.612 1327.62,118.39 1334.45,117.439 \n",
       "  1341.29,116.76 1348.12,115.674 1354.96,114.181 1361.8,113.502 1368.63,112.687 1375.47,111.601 1382.3,111.194 1389.14,109.836 1395.97,109.429 1402.81,109.157 \n",
       "  1409.65,107.663 1416.48,107.12 1423.32,106.17 1430.15,104.676 1436.99,103.59 1443.82,103.319 1450.66,102.64 1457.49,102.233 1464.33,101.554 1471.17,100.739 \n",
       "  1478,100.332 1484.84,99.2455 1491.67,98.7024 1498.51,97.8878 1505.34,97.4805 1512.18,97.3447 1519.02,97.0731 1525.85,96.6658 1532.69,96.3943 1539.52,95.9869 \n",
       "  1546.36,95.7154 1553.19,95.1723 1560.03,94.765 1566.86,94.4934 1573.7,93.8146 1580.54,93.543 1587.37,93.4072 1594.21,93.4072 1601.04,93.4072 1607.88,93.4072 \n",
       "  1614.71,92.9999 1621.55,92.9999 1628.39,92.9999 1635.22,92.7284 1642.06,92.7284 1648.89,92.7284 1655.73,92.7284 1662.56,92.321 1669.4,92.0495 1676.23,91.9137 \n",
       "  1683.07,91.9137 1689.91,91.7779 1696.74,91.6422 1703.58,91.6422 1710.41,91.6422 1717.25,91.6422 1724.08,91.6422 1730.92,91.6422 1737.76,91.5064 1744.59,91.3706 \n",
       "  1751.43,91.0991 1758.26,91.0991 1765.1,91.0991 1771.93,90.556 1778.77,90.4202 1785.6,90.4202 1792.44,90.2844 1799.28,90.1487 1806.11,90.1487 1812.95,90.0129 \n",
       "  1819.78,89.7413 1826.62,89.7413 1833.45,89.334 1840.29,89.334 1847.12,89.1982 1853.96,88.6551 1860.8,88.6551 1867.63,88.6551 1874.47,88.6551 1881.3,88.6551 \n",
       "  1888.14,88.5194 1894.97,88.5194 1901.81,88.5194 1908.65,88.5194 1915.48,88.3836 1922.32,88.3836 1929.15,88.3836 1935.99,88.3836 1942.82,88.3836 1949.66,88.3836 \n",
       "  1956.49,88.3836 1963.33,88.3836 1970.17,88.3836 1977,88.2478 1983.84,88.2478 1990.67,88.2478 1997.51,88.2478 2004.34,88.1121 2011.18,88.1121 2018.02,88.1121 \n",
       "  2024.85,88.1121 2031.69,88.1121 2038.52,88.1121 2045.36,88.1121 2052.19,88.1121 2059.03,88.1121 2065.86,88.1121 2072.7,88.1121 2079.54,88.1121 2086.37,88.1121 \n",
       "  2093.21,88.1121 2100.04,88.1121 2106.88,88.1121 2113.71,88.1121 2120.55,88.1121 2127.39,88.1121 2134.22,88.1121 2141.06,88.1121 2147.89,88.1121 2154.73,88.1121 \n",
       "  2161.56,88.1121 2168.4,88.1121 2175.23,88.1121 2182.07,88.1121 2188.91,88.1121 2195.74,88.1121 2202.58,88.1121 2209.41,88.1121 2216.25,88.1121 2223.08,88.1121 \n",
       "  2229.92,87.9763 2236.76,87.9763 2243.59,87.9763 2250.43,87.9763 2257.26,87.9763 2264.1,87.9763 2270.93,87.9763 2277.77,87.9763 2284.6,87.9763 2291.44,87.9763 \n",
       "  \n",
       "  \"/>\n",
       "<polyline clip-path=\"url(#clip182)\" style=\"stroke:#e26f46; stroke-linecap:butt; stroke-linejoin:round; stroke-width:4; stroke-opacity:1; fill:none\" points=\"\n",
       "  247.59,1432.82 254.425,1432.14 261.261,1431.19 268.096,1430.24 274.932,1428.88 281.768,1426.71 288.603,1425.76 295.439,1424.4 302.274,1423.04 309.11,1420.87 \n",
       "  315.946,1418.29 322.781,1415.17 329.617,1411.64 336.453,1408.24 343.288,1403.63 350.124,1399.55 356.959,1395.07 363.795,1389.37 370.631,1382.99 377.466,1375.66 \n",
       "  384.302,1370.09 391.138,1363.17 397.973,1354.75 404.809,1347.42 411.644,1338.73 418.48,1329.9 425.316,1319.85 432.151,1311.3 438.987,1298.13 445.823,1287.54 \n",
       "  452.658,1277.76 459.494,1268.39 466.329,1260.52 473.165,1250.61 480.001,1239.34 486.836,1226.71 493.672,1215.71 500.508,1203.63 507.343,1191.14 514.179,1181.77 \n",
       "  521.014,1170.5 527.85,1159.23 534.686,1147.96 541.521,1135.88 548.357,1124.2 555.192,1110.22 562.028,1100.44 568.864,1089.72 575.699,1080.48 582.535,1070.03 \n",
       "  589.371,1060.93 596.206,1049.66 603.042,1038.53 609.877,1028.08 616.713,1018.71 623.549,1009.2 630.384,999.155 637.22,989.244 644.056,979.74 650.891,971.186 \n",
       "  657.727,963.582 664.562,954.214 671.398,946.746 678.234,938.736 685.069,931.811 691.905,923.393 698.741,913.618 705.576,905.2 712.412,897.596 719.247,888.907 \n",
       "  726.083,882.118 732.919,874.922 739.754,867.726 746.59,860.666 753.426,853.741 760.261,847.903 767.097,843.015 773.932,836.226 780.768,830.66 787.604,824.686 \n",
       "  794.439,819.798 801.275,814.095 808.11,806.764 814.946,801.061 821.782,794.815 828.617,789.52 835.453,784.904 842.289,779.066 849.124,774.042 855.96,768.883 \n",
       "  862.795,764.266 869.631,758.7 876.467,754.219 883.302,749.603 890.138,745.801 896.974,742.407 903.809,739.284 910.645,734.668 917.48,730.73 924.316,727.064 \n",
       "  931.152,724.213 937.987,720.276 944.823,717.288 951.659,713.623 958.494,709.549 965.33,705.612 972.165,702.082 979.001,698.144 985.837,694.75 992.672,690.813 \n",
       "  999.508,688.097 1006.34,684.974 1013.18,682.259 1020.01,680.358 1026.85,678.321 1033.69,675.742 1040.52,673.434 1047.36,670.718 1054.19,668.681 1061.03,666.237 \n",
       "  1067.86,664.065 1074.7,662.707 1081.54,660.535 1088.37,658.363 1095.21,657.276 1102.04,655.511 1108.88,653.067 1115.71,651.981 1122.55,650.08 1129.38,648.315 \n",
       "  1136.22,646.822 1143.06,645.328 1149.89,644.106 1156.73,643.156 1163.56,641.255 1170.4,639.083 1177.23,636.367 1184.07,633.923 1190.91,630.122 1197.74,626.592 \n",
       "  1204.58,622.247 1211.41,618.309 1218.25,614.236 1225.08,609.484 1231.92,605.139 1238.75,598.215 1245.59,591.833 1252.43,582.601 1259.26,575.269 1266.1,568.616 \n",
       "  1272.93,556.804 1279.77,545.127 1286.6,533.179 1293.44,522.589 1300.28,510.233 1307.11,498.285 1313.95,483.35 1320.78,469.094 1327.62,454.837 1334.45,437.051 \n",
       "  1341.29,418.45 1348.12,402.564 1354.96,387.358 1361.8,368.349 1368.63,349.477 1375.47,332.369 1382.3,316.62 1389.14,299.241 1395.97,283.627 1402.81,266.655 \n",
       "  1409.65,250.362 1416.48,235.291 1423.32,221.306 1430.15,207.865 1436.99,194.016 1443.82,182.882 1450.66,172.563 1457.49,163.467 1464.33,154.777 1471.17,145.816 \n",
       "  1478,138.892 1484.84,132.51 1491.67,125.993 1498.51,121.512 1505.34,116.353 1512.18,112.959 1519.02,109.564 1525.85,105.22 1532.69,102.233 1539.52,100.196 \n",
       "  1546.36,97.752 1553.19,95.8512 1560.03,94.6292 1566.86,94.0861 1573.7,93.1357 1580.54,92.5926 1587.37,92.0495 1594.21,90.9633 1601.04,90.8275 1607.88,90.6918 \n",
       "  1614.71,89.8771 1621.55,89.4698 1628.39,89.4698 1635.22,89.1982 1642.06,88.9267 1648.89,88.5194 1655.73,88.5194 1662.56,88.3836 1669.4,88.3836 1676.23,88.3836 \n",
       "  1683.07,88.2478 1689.91,88.2478 1696.74,88.2478 1703.58,88.2478 1710.41,88.2478 1717.25,87.9763 1724.08,87.9763 1730.92,87.9763 1737.76,87.9763 1744.59,87.9763 \n",
       "  1751.43,87.9763 1758.26,87.9763 1765.1,87.9763 1771.93,87.9763 1778.77,87.9763 1785.6,87.9763 1792.44,87.9763 1799.28,87.9763 1806.11,87.9763 1812.95,87.9763 \n",
       "  1819.78,87.9763 1826.62,87.9763 1833.45,87.9763 1840.29,87.9763 1847.12,87.9763 1853.96,87.9763 1860.8,87.9763 1867.63,87.9763 1874.47,87.9763 1881.3,87.9763 \n",
       "  1888.14,87.9763 1894.97,87.9763 1901.81,87.9763 1908.65,87.9763 1915.48,87.9763 1922.32,87.9763 1929.15,87.9763 1935.99,87.9763 1942.82,87.9763 1949.66,87.9763 \n",
       "  1956.49,87.9763 1963.33,87.9763 1970.17,87.9763 1977,87.9763 1983.84,87.9763 1990.67,87.9763 1997.51,87.9763 2004.34,87.9763 2011.18,87.9763 2018.02,87.9763 \n",
       "  2024.85,87.9763 2031.69,87.9763 2038.52,87.9763 2045.36,87.9763 2052.19,87.9763 2059.03,87.9763 2065.86,87.9763 2072.7,87.9763 2079.54,87.9763 2086.37,87.9763 \n",
       "  2093.21,87.9763 2100.04,87.9763 2106.88,87.9763 2113.71,87.9763 2120.55,87.9763 2127.39,87.9763 2134.22,87.9763 2141.06,87.9763 2147.89,87.9763 2154.73,87.9763 \n",
       "  2161.56,87.9763 2168.4,87.9763 2175.23,87.9763 2182.07,87.9763 2188.91,87.9763 2195.74,87.9763 2202.58,87.9763 2209.41,87.9763 2216.25,87.9763 2223.08,87.9763 \n",
       "  2229.92,87.9763 2236.76,87.9763 2243.59,87.9763 2250.43,87.9763 2257.26,87.9763 2264.1,87.9763 2270.93,87.9763 2277.77,87.9763 2284.6,87.9763 2291.44,87.9763 \n",
       "  \n",
       "  \"/>\n",
       "<polyline clip-path=\"url(#clip182)\" style=\"stroke:#3da44d; stroke-linecap:butt; stroke-linejoin:round; stroke-width:4; stroke-opacity:1; fill:none\" points=\"\n",
       "  247.59,1423.14 254.425,1422.2 261.261,1420.37 268.096,1418.13 274.932,1415.78 281.768,1413.83 288.603,1411.3 295.439,1408.29 302.274,1405.52 309.11,1401.63 \n",
       "  315.946,1396.86 322.781,1391.67 329.617,1385.66 336.453,1378.82 343.288,1372.64 350.124,1364.62 356.959,1356.49 363.795,1348.12 370.631,1339.04 377.466,1329.08 \n",
       "  384.302,1317.71 391.138,1304.39 397.973,1291.01 404.809,1276.87 411.644,1263.96 418.48,1250.29 425.316,1234.38 432.151,1219.64 438.987,1202.55 445.823,1186.46 \n",
       "  452.658,1169.43 459.494,1153.4 466.329,1136.6 473.165,1118.39 480.001,1099.59 486.836,1080.5 493.672,1061.93 500.508,1042.01 507.343,1024.16 514.179,1005.41 \n",
       "  521.014,986.26 527.85,968.521 534.686,949.956 541.521,933.042 548.357,913.358 555.192,893.084 562.028,874.697 568.864,856.839 575.699,839.807 582.535,821.95 \n",
       "  589.371,806.922 596.206,790.479 603.042,775.392 609.877,760.835 616.713,743.685 623.549,728.833 630.384,713.215 637.22,698.658 644.056,686.459 650.891,671.49 \n",
       "  657.727,657.522 664.562,643.554 671.398,631.355 678.234,619.214 685.069,606.956 691.905,595.405 698.741,584.148 705.576,572.833 712.412,561.576 719.247,551.97 \n",
       "  726.083,539.004 732.919,528.514 739.754,516.196 746.59,504.999 753.426,494.155 760.261,483.429 767.097,473.115 773.932,464.039 780.768,454.374 787.604,445.475 \n",
       "  794.439,435.574 801.275,425.496 808.11,418.129 814.946,410.644 821.782,402.806 828.617,394.496 835.453,386.186 842.289,379.35 849.124,372.101 855.96,364.439 \n",
       "  862.795,356.955 869.631,349.175 876.467,341.867 883.302,334.324 890.138,327.723 896.974,320.828 903.809,314.522 910.645,307.862 917.48,302.086 924.316,296.252 \n",
       "  931.152,290.417 937.987,284.877 944.823,278.689 951.659,274.387 958.494,268.199 965.33,262.011 972.165,255.528 979.001,249.458 985.837,243.387 992.672,238.024 \n",
       "  999.508,233.486 1006.34,228.83 1013.18,223.762 1020.01,219.578 1026.85,214.627 1033.69,210.561 1040.52,206.317 1047.36,201.72 1054.19,197.006 1061.03,192.644 \n",
       "  1067.86,188.165 1074.7,183.922 1081.54,180.327 1088.37,176.673 1095.21,173.137 1102.04,169.188 1108.88,165.888 1115.71,163.177 1122.55,159.523 1129.38,156.458 \n",
       "  1136.22,152.922 1143.06,150.683 1149.89,147.618 1156.73,144.672 1163.56,142.373 1170.4,138.837 1177.23,136.774 1184.07,134.535 1190.91,132.59 1197.74,129.879 \n",
       "  1204.58,127.993 1211.41,126.284 1218.25,124.103 1225.08,121.864 1231.92,119.271 1238.75,117.149 1245.59,115.617 1252.43,114.851 1259.26,113.495 1266.1,112.14 \n",
       "  1272.93,110.313 1279.77,108.898 1286.6,107.366 1293.44,106.246 1300.28,105.244 1307.11,104.124 1313.95,103.181 1320.78,102.062 1327.62,101.001 1334.45,99.999 \n",
       "  1341.29,99.5864 1348.12,98.8792 1354.96,98.3488 1361.8,97.4058 1368.63,96.5218 1375.47,95.9914 1382.3,95.1663 1389.14,94.2234 1395.97,93.8108 1402.81,93.5161 \n",
       "  1409.65,93.2215 1416.48,92.6911 1423.32,92.1017 1430.15,91.7481 1436.99,91.3945 1443.82,91.1588 1450.66,90.6283 1457.49,90.2747 1464.33,90.0979 1471.17,89.6265 \n",
       "  1478,89.4496 1484.84,89.3318 1491.67,89.2728 1498.51,89.096 1505.34,89.0371 1512.18,88.8014 1519.02,88.6246 1525.85,88.3888 1532.69,88.3888 1539.52,88.3888 \n",
       "  1546.36,88.271 1553.19,88.271 1560.03,88.1531 1566.86,88.1531 1573.7,88.0941 1580.54,88.0941 1587.37,88.0941 1594.21,88.0941 1601.04,88.0941 1607.88,88.0941 \n",
       "  1614.71,88.0352 1621.55,88.0352 1628.39,88.0352 1635.22,88.0352 1642.06,88.0352 1648.89,88.0352 1655.73,88.0352 1662.56,87.9763 1669.4,87.9763 1676.23,87.9763 \n",
       "  1683.07,87.9763 1689.91,87.9763 1696.74,87.9763 1703.58,87.9763 1710.41,87.9763 1717.25,87.9763 1724.08,87.9763 1730.92,87.9763 1737.76,87.9763 1744.59,87.9763 \n",
       "  1751.43,87.9763 1758.26,87.9763 1765.1,87.9763 1771.93,87.9763 1778.77,87.9763 1785.6,87.9763 1792.44,87.9763 1799.28,87.9763 1806.11,87.9763 1812.95,87.9763 \n",
       "  1819.78,87.9763 1826.62,87.9763 1833.45,87.9763 1840.29,87.9763 1847.12,87.9763 1853.96,87.9763 1860.8,87.9763 1867.63,87.9763 1874.47,87.9763 1881.3,87.9763 \n",
       "  1888.14,87.9763 1894.97,87.9763 1901.81,87.9763 1908.65,87.9763 1915.48,87.9763 1922.32,87.9763 1929.15,87.9763 1935.99,87.9763 1942.82,87.9763 1949.66,87.9763 \n",
       "  1956.49,87.9763 1963.33,87.9763 1970.17,87.9763 1977,87.9763 1983.84,87.9763 1990.67,87.9763 1997.51,87.9763 2004.34,87.9763 2011.18,87.9763 2018.02,87.9763 \n",
       "  2024.85,87.9763 2031.69,87.9763 2038.52,87.9763 2045.36,87.9763 2052.19,87.9763 2059.03,87.9763 2065.86,87.9763 2072.7,87.9763 2079.54,87.9763 2086.37,87.9763 \n",
       "  2093.21,87.9763 2100.04,87.9763 2106.88,87.9763 2113.71,87.9763 2120.55,87.9763 2127.39,87.9763 2134.22,87.9763 2141.06,87.9763 2147.89,87.9763 2154.73,87.9763 \n",
       "  2161.56,87.9763 2168.4,87.9763 2175.23,87.9763 2182.07,87.9763 2188.91,87.9763 2195.74,87.9763 2202.58,87.9763 2209.41,87.9763 2216.25,87.9763 2223.08,87.9763 \n",
       "  2229.92,87.9763 2236.76,87.9763 2243.59,87.9763 2250.43,87.9763 2257.26,87.9763 2264.1,87.9763 2270.93,87.9763 2277.77,87.9763 2284.6,87.9763 2291.44,87.9763 \n",
       "  \n",
       "  \"/>\n",
       "<polyline clip-path=\"url(#clip182)\" style=\"stroke:#c271d2; stroke-linecap:butt; stroke-linejoin:round; stroke-width:4; stroke-opacity:1; fill:none\" points=\"\n",
       "  247.59,1445.72 254.425,1444.36 261.261,1444.36 268.096,1444.36 274.932,1443 281.768,1441.64 288.603,1438.93 295.439,1436.21 302.274,1434.85 309.11,1433.5 \n",
       "  315.946,1432.14 322.781,1430.78 329.617,1426.71 336.453,1425.35 343.288,1419.92 350.124,1415.85 356.959,1415.85 363.795,1415.85 370.631,1413.13 377.466,1406.34 \n",
       "  384.302,1396.84 391.138,1394.12 397.973,1387.33 404.809,1373.76 411.644,1366.97 418.48,1352.03 425.316,1343.89 432.151,1339.81 438.987,1333.02 445.823,1330.31 \n",
       "  452.658,1320.8 459.494,1301.8 466.329,1288.22 473.165,1280.07 480.001,1262.42 486.836,1252.92 493.672,1235.27 500.508,1218.97 507.343,1204.04 514.179,1182.31 \n",
       "  521.014,1155.16 527.85,1134.79 534.686,1121.22 541.521,1098.13 548.357,1085.91 555.192,1066.91 562.028,1049.26 568.864,1026.17 575.699,1004.45 582.535,986.8 \n",
       "  589.371,971.865 596.206,951.499 603.042,929.775 609.877,903.978 616.713,871.392 623.549,848.31 630.384,830.66 637.22,810.294 644.056,788.57 650.891,772.277 \n",
       "  657.727,751.911 664.562,732.902 671.398,712.536 678.234,694.886 685.069,685.382 691.905,669.089 698.741,656.869 705.576,635.145 712.412,620.21 719.247,597.129 \n",
       "  726.083,576.762 732.919,555.039 739.754,537.388 746.59,523.811 753.426,504.802 760.261,491.225 767.097,473.574 773.932,466.786 780.768,461.355 787.604,455.924 \n",
       "  794.439,438.273 801.275,421.98 808.11,412.476 814.946,401.614 821.782,390.752 828.617,381.248 835.453,366.313 842.289,348.662 849.124,333.727 855.96,326.938 \n",
       "  862.795,318.792 869.631,301.141 876.467,291.637 883.302,279.418 890.138,276.702 896.974,268.556 903.809,248.19 910.645,242.759 917.48,233.254 924.316,223.75 \n",
       "  931.152,219.677 937.987,212.888 944.823,207.457 951.659,196.595 958.494,185.734 965.33,181.66 972.165,178.945 979.001,174.872 985.837,166.725 992.672,158.579 \n",
       "  999.508,154.506 1006.34,151.79 1013.18,147.717 1020.01,145.001 1026.85,138.213 1033.69,132.782 1040.52,128.708 1047.36,124.635 1054.19,120.562 1061.03,116.489 \n",
       "  1067.86,112.416 1074.7,109.7 1081.54,104.269 1088.37,101.554 1095.21,100.196 1102.04,97.4805 1108.88,97.4805 1115.71,94.765 1122.55,93.4072 1129.38,93.4072 \n",
       "  1136.22,93.4072 1143.06,93.4072 1149.89,93.4072 1156.73,92.0495 1163.56,89.334 1170.4,89.334 1177.23,87.9763 1184.07,87.9763 1190.91,87.9763 1197.74,87.9763 \n",
       "  1204.58,87.9763 1211.41,87.9763 1218.25,87.9763 1225.08,87.9763 1231.92,87.9763 1238.75,87.9763 1245.59,87.9763 1252.43,87.9763 1259.26,87.9763 1266.1,87.9763 \n",
       "  1272.93,87.9763 1279.77,87.9763 1286.6,87.9763 1293.44,87.9763 1300.28,87.9763 1307.11,87.9763 1313.95,87.9763 1320.78,87.9763 1327.62,87.9763 1334.45,87.9763 \n",
       "  1341.29,87.9763 1348.12,87.9763 1354.96,87.9763 1361.8,87.9763 1368.63,87.9763 1375.47,87.9763 1382.3,87.9763 1389.14,87.9763 1395.97,87.9763 1402.81,87.9763 \n",
       "  1409.65,87.9763 1416.48,87.9763 1423.32,87.9763 1430.15,87.9763 1436.99,87.9763 1443.82,87.9763 1450.66,87.9763 1457.49,87.9763 1464.33,87.9763 1471.17,87.9763 \n",
       "  1478,87.9763 1484.84,87.9763 1491.67,87.9763 1498.51,87.9763 1505.34,87.9763 1512.18,87.9763 1519.02,87.9763 1525.85,87.9763 1532.69,87.9763 1539.52,87.9763 \n",
       "  1546.36,87.9763 1553.19,87.9763 1560.03,87.9763 1566.86,87.9763 1573.7,87.9763 1580.54,87.9763 1587.37,87.9763 1594.21,87.9763 1601.04,87.9763 1607.88,87.9763 \n",
       "  1614.71,87.9763 1621.55,87.9763 1628.39,87.9763 1635.22,87.9763 1642.06,87.9763 1648.89,87.9763 1655.73,87.9763 1662.56,87.9763 1669.4,87.9763 1676.23,87.9763 \n",
       "  1683.07,87.9763 1689.91,87.9763 1696.74,87.9763 1703.58,87.9763 1710.41,87.9763 1717.25,87.9763 1724.08,87.9763 1730.92,87.9763 1737.76,87.9763 1744.59,87.9763 \n",
       "  1751.43,87.9763 1758.26,87.9763 1765.1,87.9763 1771.93,87.9763 1778.77,87.9763 1785.6,87.9763 1792.44,87.9763 1799.28,87.9763 1806.11,87.9763 1812.95,87.9763 \n",
       "  1819.78,87.9763 1826.62,87.9763 1833.45,87.9763 1840.29,87.9763 1847.12,87.9763 1853.96,87.9763 1860.8,87.9763 1867.63,87.9763 1874.47,87.9763 1881.3,87.9763 \n",
       "  1888.14,87.9763 1894.97,87.9763 1901.81,87.9763 1908.65,87.9763 1915.48,87.9763 1922.32,87.9763 1929.15,87.9763 1935.99,87.9763 1942.82,87.9763 1949.66,87.9763 \n",
       "  1956.49,87.9763 1963.33,87.9763 1970.17,87.9763 1977,87.9763 1983.84,87.9763 1990.67,87.9763 1997.51,87.9763 2004.34,87.9763 2011.18,87.9763 2018.02,87.9763 \n",
       "  2024.85,87.9763 2031.69,87.9763 2038.52,87.9763 2045.36,87.9763 2052.19,87.9763 2059.03,87.9763 2065.86,87.9763 2072.7,87.9763 2079.54,87.9763 2086.37,87.9763 \n",
       "  2093.21,87.9763 2100.04,87.9763 2106.88,87.9763 2113.71,87.9763 2120.55,87.9763 2127.39,87.9763 2134.22,87.9763 2141.06,87.9763 2147.89,87.9763 2154.73,87.9763 \n",
       "  2161.56,87.9763 2168.4,87.9763 2175.23,87.9763 2182.07,87.9763 2188.91,87.9763 2195.74,87.9763 2202.58,87.9763 2209.41,87.9763 2216.25,87.9763 2223.08,87.9763 \n",
       "  2229.92,87.9763 2236.76,87.9763 2243.59,87.9763 2250.43,87.9763 2257.26,87.9763 2264.1,87.9763 2270.93,87.9763 2277.77,87.9763 2284.6,87.9763 2291.44,87.9763 \n",
       "  \n",
       "  \"/>\n",
       "<polyline clip-path=\"url(#clip182)\" style=\"stroke:#ac8d18; stroke-linecap:butt; stroke-linejoin:round; stroke-width:4; stroke-opacity:1; fill:none\" points=\"\n",
       "  247.59,1432.14 282.231,1405.51 316.873,1359.42 351.514,1275.22 386.156,1129.26 420.797,906.066 455.439,626.691 490.08,367.124 524.722,201.679 559.363,128.801 \n",
       "  594.005,103.642 628.646,95.4717 663.288,92.6299 697.93,91.5365 732.571,91.0816 767.213,90.8817 801.854,90.7896 836.496,90.7451 871.137,90.7225 905.779,90.7104 \n",
       "  940.42,90.7037 975.062,90.6999 1009.7,90.6975 1044.34,90.6961 1078.99,90.6952 1113.63,90.6947 1148.27,90.6943 1182.91,90.694 1217.55,90.6939 1252.19,90.6938 \n",
       "  1286.84,90.6937 1321.48,90.6936 1356.12,90.6936 1390.76,90.6936 1425.4,90.6935 1460.04,90.6935 1494.68,90.6935 1529.33,90.6935 1563.97,90.6935 1598.61,90.6935 \n",
       "  1633.25,90.6935 1667.89,90.6935 1702.53,90.6935 1737.18,90.6935 1771.82,90.6935 1806.46,90.6935 1841.1,90.6935 1875.74,90.6935 1910.38,90.6935 1945.02,90.6935 \n",
       "  1979.67,90.6935 2014.31,90.6935 2048.95,90.6935 2083.59,90.6935 2118.23,90.6935 2152.87,90.6935 2187.52,90.6935 2222.16,90.6935 2256.8,90.6935 2291.44,90.6935 \n",
       "  \n",
       "  \"/>\n",
       "<path clip-path=\"url(#clip180)\" d=\"\n",
       "M1894.47 406.258 L2280.54 406.258 L2280.54 95.2176 L1894.47 95.2176  Z\n",
       "  \" fill=\"#ffffff\" fill-rule=\"evenodd\" fill-opacity=\"1\"/>\n",
       "<polyline clip-path=\"url(#clip180)\" style=\"stroke:#000000; stroke-linecap:butt; stroke-linejoin:round; stroke-width:4; stroke-opacity:1; fill:none\" points=\"\n",
       "  1894.47,406.258 2280.54,406.258 2280.54,95.2176 1894.47,95.2176 1894.47,406.258 \n",
       "  \"/>\n",
       "<polyline clip-path=\"url(#clip180)\" style=\"stroke:#009af9; stroke-linecap:butt; stroke-linejoin:round; stroke-width:4; stroke-opacity:1; fill:none\" points=\"\n",
       "  1918.55,147.058 2062.98,147.058 \n",
       "  \"/>\n",
       "<path clip-path=\"url(#clip180)\" d=\"M2107.56 139.407 L2107.56 143.389 Q2105.75 142.393 2103.92 141.907 Q2102.12 141.398 2100.27 141.398 Q2096.12 141.398 2093.83 144.037 Q2091.54 146.652 2091.54 151.398 Q2091.54 156.143 2093.83 158.782 Q2096.12 161.398 2100.27 161.398 Q2102.12 161.398 2103.92 160.912 Q2105.75 160.402 2107.56 159.407 L2107.56 163.342 Q2105.78 164.176 2103.85 164.592 Q2101.96 165.009 2099.8 165.009 Q2093.95 165.009 2090.5 161.328 Q2087.05 157.648 2087.05 151.398 Q2087.05 145.055 2090.52 141.421 Q2094.02 137.787 2100.08 137.787 Q2102.05 137.787 2103.92 138.203 Q2105.8 138.597 2107.56 139.407 Z\" fill=\"#000000\" fill-rule=\"evenodd\" fill-opacity=\"1\" /><path clip-path=\"url(#clip180)\" d=\"M2126.75 151.305 Q2121.59 151.305 2119.6 152.486 Q2117.6 153.666 2117.6 156.514 Q2117.6 158.782 2119.09 160.125 Q2120.59 161.444 2123.16 161.444 Q2126.7 161.444 2128.83 158.944 Q2130.98 156.421 2130.98 152.254 L2130.98 151.305 L2126.75 151.305 M2135.24 149.546 L2135.24 164.338 L2130.98 164.338 L2130.98 160.402 Q2129.53 162.763 2127.35 163.898 Q2125.17 165.009 2122.03 165.009 Q2118.04 165.009 2115.68 162.787 Q2113.35 160.541 2113.35 156.791 Q2113.35 152.416 2116.26 150.194 Q2119.2 147.972 2125.01 147.972 L2130.98 147.972 L2130.98 147.555 Q2130.98 144.615 2129.04 143.018 Q2127.12 141.398 2123.62 141.398 Q2121.4 141.398 2119.29 141.93 Q2117.19 142.463 2115.24 143.527 L2115.24 139.592 Q2117.58 138.69 2119.78 138.25 Q2121.98 137.787 2124.06 137.787 Q2129.69 137.787 2132.47 140.703 Q2135.24 143.62 2135.24 149.546 Z\" fill=\"#000000\" fill-rule=\"evenodd\" fill-opacity=\"1\" /><path clip-path=\"url(#clip180)\" d=\"M2143.58 154.106 L2143.58 138.412 L2147.84 138.412 L2147.84 153.944 Q2147.84 157.625 2149.27 159.476 Q2150.71 161.305 2153.58 161.305 Q2157.03 161.305 2159.02 159.106 Q2161.03 156.907 2161.03 153.111 L2161.03 138.412 L2165.29 138.412 L2165.29 164.338 L2161.03 164.338 L2161.03 160.356 Q2159.48 162.717 2157.42 163.875 Q2155.38 165.009 2152.67 165.009 Q2148.21 165.009 2145.89 162.231 Q2143.58 159.453 2143.58 154.106 M2154.29 137.787 L2154.29 137.787 Z\" fill=\"#000000\" fill-rule=\"evenodd\" fill-opacity=\"1\" /><polyline clip-path=\"url(#clip180)\" style=\"stroke:#e26f46; stroke-linecap:butt; stroke-linejoin:round; stroke-width:4; stroke-opacity:1; fill:none\" points=\"\n",
       "  1918.55,198.898 2062.98,198.898 \n",
       "  \"/>\n",
       "<path clip-path=\"url(#clip180)\" d=\"M2103.55 180.159 L2103.55 183.701 L2099.48 183.701 Q2097.19 183.701 2096.29 184.627 Q2095.41 185.553 2095.41 187.96 L2095.41 190.252 L2102.42 190.252 L2102.42 193.562 L2095.41 193.562 L2095.41 216.178 L2091.12 216.178 L2091.12 193.562 L2087.05 193.562 L2087.05 190.252 L2091.12 190.252 L2091.12 188.446 Q2091.12 184.118 2093.14 182.15 Q2095.15 180.159 2099.53 180.159 L2103.55 180.159 Z\" fill=\"#000000\" fill-rule=\"evenodd\" fill-opacity=\"1\" /><path clip-path=\"url(#clip180)\" d=\"M2122.14 194.233 Q2121.42 193.817 2120.57 193.631 Q2119.73 193.423 2118.72 193.423 Q2115.1 193.423 2113.16 195.784 Q2111.24 198.122 2111.24 202.52 L2111.24 216.178 L2106.96 216.178 L2106.96 190.252 L2111.24 190.252 L2111.24 194.28 Q2112.58 191.918 2114.73 190.784 Q2116.89 189.627 2119.97 189.627 Q2120.41 189.627 2120.94 189.696 Q2121.47 189.743 2122.12 189.858 L2122.14 194.233 Z\" fill=\"#000000\" fill-rule=\"evenodd\" fill-opacity=\"1\" /><path clip-path=\"url(#clip180)\" d=\"M2147.74 202.15 L2147.74 204.233 L2128.16 204.233 Q2128.44 208.631 2130.8 210.946 Q2133.18 213.238 2137.42 213.238 Q2139.87 213.238 2142.16 212.636 Q2144.48 212.034 2146.75 210.83 L2146.75 214.858 Q2144.46 215.83 2142.05 216.34 Q2139.64 216.849 2137.16 216.849 Q2130.96 216.849 2127.33 213.238 Q2123.72 209.627 2123.72 203.469 Q2123.72 197.104 2127.14 193.377 Q2130.59 189.627 2136.42 189.627 Q2141.66 189.627 2144.69 193.006 Q2147.74 196.363 2147.74 202.15 M2143.48 200.9 Q2143.44 197.405 2141.52 195.321 Q2139.62 193.238 2136.47 193.238 Q2132.91 193.238 2130.75 195.252 Q2128.62 197.266 2128.3 200.923 L2143.48 200.9 Z\" fill=\"#000000\" fill-rule=\"evenodd\" fill-opacity=\"1\" /><path clip-path=\"url(#clip180)\" d=\"M2176.28 200.529 L2176.28 216.178 L2172.03 216.178 L2172.03 200.668 Q2172.03 196.988 2170.59 195.159 Q2169.16 193.33 2166.29 193.33 Q2162.84 193.33 2160.85 195.53 Q2158.85 197.729 2158.85 201.525 L2158.85 216.178 L2154.57 216.178 L2154.57 190.252 L2158.85 190.252 L2158.85 194.28 Q2160.38 191.942 2162.44 190.784 Q2164.53 189.627 2167.23 189.627 Q2171.7 189.627 2173.99 192.405 Q2176.28 195.159 2176.28 200.529 Z\" fill=\"#000000\" fill-rule=\"evenodd\" fill-opacity=\"1\" /><path clip-path=\"url(#clip180)\" d=\"M2203.44 191.247 L2203.44 195.229 Q2201.63 194.233 2199.8 193.747 Q2198 193.238 2196.15 193.238 Q2192 193.238 2189.71 195.877 Q2187.42 198.492 2187.42 203.238 Q2187.42 207.983 2189.71 210.622 Q2192 213.238 2196.15 213.238 Q2198 213.238 2199.8 212.752 Q2201.63 212.242 2203.44 211.247 L2203.44 215.182 Q2201.66 216.016 2199.73 216.432 Q2197.84 216.849 2195.68 216.849 Q2189.83 216.849 2186.38 213.168 Q2182.93 209.488 2182.93 203.238 Q2182.93 196.895 2186.4 193.261 Q2189.9 189.627 2195.96 189.627 Q2197.93 189.627 2199.8 190.043 Q2201.68 190.437 2203.44 191.247 Z\" fill=\"#000000\" fill-rule=\"evenodd\" fill-opacity=\"1\" /><path clip-path=\"url(#clip180)\" d=\"M2232.4 200.529 L2232.4 216.178 L2228.14 216.178 L2228.14 200.668 Q2228.14 196.988 2226.7 195.159 Q2225.27 193.33 2222.4 193.33 Q2218.95 193.33 2216.96 195.53 Q2214.97 197.729 2214.97 201.525 L2214.97 216.178 L2210.68 216.178 L2210.68 180.159 L2214.97 180.159 L2214.97 194.28 Q2216.49 191.942 2218.55 190.784 Q2220.64 189.627 2223.34 189.627 Q2227.81 189.627 2230.1 192.405 Q2232.4 195.159 2232.4 200.529 Z\" fill=\"#000000\" fill-rule=\"evenodd\" fill-opacity=\"1\" /><polyline clip-path=\"url(#clip180)\" style=\"stroke:#3da44d; stroke-linecap:butt; stroke-linejoin:round; stroke-width:4; stroke-opacity:1; fill:none\" points=\"\n",
       "  1918.55,250.738 2062.98,250.738 \n",
       "  \"/>\n",
       "<path clip-path=\"url(#clip180)\" d=\"M2105.48 242.856 L2105.48 246.883 Q2103.67 245.957 2101.73 245.495 Q2099.78 245.032 2097.7 245.032 Q2094.53 245.032 2092.93 246.004 Q2091.35 246.976 2091.35 248.92 Q2091.35 250.402 2092.49 251.258 Q2093.62 252.092 2097.05 252.856 L2098.51 253.18 Q2103.04 254.152 2104.94 255.934 Q2106.86 257.694 2106.86 260.865 Q2106.86 264.476 2103.99 266.582 Q2101.15 268.689 2096.15 268.689 Q2094.06 268.689 2091.79 268.272 Q2089.55 267.879 2087.05 267.068 L2087.05 262.67 Q2089.41 263.897 2091.7 264.522 Q2093.99 265.124 2096.24 265.124 Q2099.25 265.124 2100.87 264.106 Q2102.49 263.064 2102.49 261.189 Q2102.49 259.453 2101.31 258.527 Q2100.15 257.601 2096.19 256.744 L2094.71 256.397 Q2090.75 255.564 2088.99 253.851 Q2087.23 252.115 2087.23 249.106 Q2087.23 245.448 2089.83 243.458 Q2092.42 241.467 2097.19 241.467 Q2099.55 241.467 2101.63 241.814 Q2103.72 242.161 2105.48 242.856 Z\" fill=\"#000000\" fill-rule=\"evenodd\" fill-opacity=\"1\" /><path clip-path=\"url(#clip180)\" d=\"M2123.69 245.078 Q2120.27 245.078 2118.28 247.763 Q2116.29 250.425 2116.29 255.078 Q2116.29 259.731 2118.25 262.416 Q2120.24 265.078 2123.69 265.078 Q2127.1 265.078 2129.09 262.393 Q2131.08 259.707 2131.08 255.078 Q2131.08 250.471 2129.09 247.786 Q2127.1 245.078 2123.69 245.078 M2123.69 241.467 Q2129.25 241.467 2132.42 245.078 Q2135.59 248.689 2135.59 255.078 Q2135.59 261.444 2132.42 265.078 Q2129.25 268.689 2123.69 268.689 Q2118.11 268.689 2114.94 265.078 Q2111.79 261.444 2111.79 255.078 Q2111.79 248.689 2114.94 245.078 Q2118.11 241.467 2123.69 241.467 Z\" fill=\"#000000\" fill-rule=\"evenodd\" fill-opacity=\"1\" /><path clip-path=\"url(#clip180)\" d=\"M2155.78 231.999 L2155.78 235.541 L2151.7 235.541 Q2149.41 235.541 2148.51 236.467 Q2147.63 237.393 2147.63 239.8 L2147.63 242.092 L2154.64 242.092 L2154.64 245.402 L2147.63 245.402 L2147.63 268.018 L2143.35 268.018 L2143.35 245.402 L2139.27 245.402 L2139.27 242.092 L2143.35 242.092 L2143.35 240.286 Q2143.35 235.958 2145.36 233.99 Q2147.37 231.999 2151.75 231.999 L2155.78 231.999 Z\" fill=\"#000000\" fill-rule=\"evenodd\" fill-opacity=\"1\" /><path clip-path=\"url(#clip180)\" d=\"M2162.72 234.731 L2162.72 242.092 L2171.49 242.092 L2171.49 245.402 L2162.72 245.402 L2162.72 259.476 Q2162.72 262.647 2163.58 263.55 Q2164.46 264.453 2167.12 264.453 L2171.49 264.453 L2171.49 268.018 L2167.12 268.018 Q2162.19 268.018 2160.31 266.189 Q2158.44 264.337 2158.44 259.476 L2158.44 245.402 L2155.31 245.402 L2155.31 242.092 L2158.44 242.092 L2158.44 234.731 L2162.72 234.731 Z\" fill=\"#000000\" fill-rule=\"evenodd\" fill-opacity=\"1\" /><polyline clip-path=\"url(#clip180)\" style=\"stroke:#c271d2; stroke-linecap:butt; stroke-linejoin:round; stroke-width:4; stroke-opacity:1; fill:none\" points=\"\n",
       "  1918.55,302.578 2062.98,302.578 \n",
       "  \"/>\n",
       "<path clip-path=\"url(#clip180)\" d=\"M2087.05 285.298 L2094.02 285.298 L2102.84 308.816 L2111.7 285.298 L2118.67 285.298 L2118.67 319.858 L2114.11 319.858 L2114.11 289.51 L2105.2 313.214 L2100.5 313.214 L2091.59 289.51 L2091.59 319.858 L2087.05 319.858 L2087.05 285.298 Z\" fill=\"#000000\" fill-rule=\"evenodd\" fill-opacity=\"1\" /><path clip-path=\"url(#clip180)\" d=\"M2127.95 285.298 L2132.63 285.298 L2132.63 299.464 L2149.62 299.464 L2149.62 285.298 L2154.29 285.298 L2154.29 319.858 L2149.62 319.858 L2149.62 303.399 L2132.63 303.399 L2132.63 319.858 L2127.95 319.858 L2127.95 285.298 Z\" fill=\"#000000\" fill-rule=\"evenodd\" fill-opacity=\"1\" /><polyline clip-path=\"url(#clip180)\" style=\"stroke:#ac8d18; stroke-linecap:butt; stroke-linejoin:round; stroke-width:4; stroke-opacity:1; fill:none\" points=\"\n",
       "  1918.55,354.418 2062.98,354.418 \n",
       "  \"/>\n",
       "<path clip-path=\"url(#clip180)\" d=\"M2105.48 346.536 L2105.48 350.563 Q2103.67 349.637 2101.73 349.175 Q2099.78 348.712 2097.7 348.712 Q2094.53 348.712 2092.93 349.684 Q2091.35 350.656 2091.35 352.6 Q2091.35 354.082 2092.49 354.938 Q2093.62 355.772 2097.05 356.536 L2098.51 356.86 Q2103.04 357.832 2104.94 359.614 Q2106.86 361.374 2106.86 364.545 Q2106.86 368.156 2103.99 370.262 Q2101.15 372.369 2096.15 372.369 Q2094.06 372.369 2091.79 371.952 Q2089.55 371.559 2087.05 370.748 L2087.05 366.35 Q2089.41 367.577 2091.7 368.202 Q2093.99 368.804 2096.24 368.804 Q2099.25 368.804 2100.87 367.786 Q2102.49 366.744 2102.49 364.869 Q2102.49 363.133 2101.31 362.207 Q2100.15 361.281 2096.19 360.424 L2094.71 360.077 Q2090.75 359.244 2088.99 357.531 Q2087.23 355.795 2087.23 352.786 Q2087.23 349.128 2089.83 347.138 Q2092.42 345.147 2097.19 345.147 Q2099.55 345.147 2101.63 345.494 Q2103.72 345.841 2105.48 346.536 Z\" fill=\"#000000\" fill-rule=\"evenodd\" fill-opacity=\"1\" /><path clip-path=\"url(#clip180)\" d=\"M2113.65 345.772 L2117.91 345.772 L2117.91 371.698 L2113.65 371.698 L2113.65 345.772 M2113.65 335.679 L2117.91 335.679 L2117.91 341.073 L2113.65 341.073 L2113.65 335.679 Z\" fill=\"#000000\" fill-rule=\"evenodd\" fill-opacity=\"1\" /><path clip-path=\"url(#clip180)\" d=\"M2145.43 358.758 Q2145.43 354.059 2143.48 351.397 Q2141.56 348.712 2138.18 348.712 Q2134.8 348.712 2132.86 351.397 Q2130.94 354.059 2130.94 358.758 Q2130.94 363.457 2132.86 366.142 Q2134.8 368.804 2138.18 368.804 Q2141.56 368.804 2143.48 366.142 Q2145.43 363.457 2145.43 358.758 M2130.94 349.707 Q2132.28 347.392 2134.32 346.281 Q2136.38 345.147 2139.23 345.147 Q2143.95 345.147 2146.89 348.897 Q2149.85 352.647 2149.85 358.758 Q2149.85 364.869 2146.89 368.619 Q2143.95 372.369 2139.23 372.369 Q2136.38 372.369 2134.32 371.258 Q2132.28 370.123 2130.94 367.809 L2130.94 371.698 L2126.66 371.698 L2126.66 335.679 L2130.94 335.679 L2130.94 349.707 Z\" fill=\"#000000\" fill-rule=\"evenodd\" fill-opacity=\"1\" /></svg>\n"
      ]
     },
     "execution_count": 87,
     "metadata": {},
     "output_type": "execute_result"
    }
   ],
   "source": [
    "#Marginals\n",
    "bins = 10 * Int(T)\n",
    "using Plots\n",
    "p_cau = zeros(N,bins)\n",
    "p_french = zeros(N,bins)\n",
    "p_mh = zeros(N,bins)\n",
    "p_soft = zeros(N,bins)\n",
    "for i = 1:N\n",
    "    for t = 1:bins\n",
    "       p_cau[i,t] = marginal(i, t*T/bins, statscau)\n",
    "       p_french[i,t] = marginal(i, t*T/bins, statsfre)\n",
    "       p_mh[i,t] = marginal(i, t*T/bins, stats_mh)\n",
    "       p_soft[i,t] = marginal(i, t*T/bins, stats)\n",
    "    end\n",
    "end\n",
    "i = 4\n",
    "plot(LinRange(1,Int(T),bins),p_cau[i,:], label = \"cau\")\n",
    "plot!(LinRange(1,Int(T),bins),p_french[i,:], label = \"french\")\n",
    "plot!(LinRange(1,Int(T),bins),p_soft[i,:], label = \"soft\")\n",
    "plot!(LinRange(1,Int(T),bins),p_mh[i,:], label = \"MH\")\n",
    "plot!(LinRange(1,Int(T),Int(round(T/dt))),p_sib[i,:], label = \"sib\")"
   ]
  },
  {
   "cell_type": "code",
   "execution_count": 89,
   "metadata": {},
   "outputs": [
    {
     "data": {
      "image/svg+xml": [
       "<?xml version=\"1.0\" encoding=\"utf-8\"?>\n",
       "<svg xmlns=\"http://www.w3.org/2000/svg\" xmlns:xlink=\"http://www.w3.org/1999/xlink\" width=\"600\" height=\"400\" viewBox=\"0 0 2400 1600\">\n",
       "<defs>\n",
       "  <clipPath id=\"clip260\">\n",
       "    <rect x=\"0\" y=\"0\" width=\"2400\" height=\"1600\"/>\n",
       "  </clipPath>\n",
       "</defs>\n",
       "<path clip-path=\"url(#clip260)\" d=\"\n",
       "M0 1600 L2400 1600 L2400 0 L0 0  Z\n",
       "  \" fill=\"#ffffff\" fill-rule=\"evenodd\" fill-opacity=\"1\"/>\n",
       "<defs>\n",
       "  <clipPath id=\"clip261\">\n",
       "    <rect x=\"480\" y=\"0\" width=\"1681\" height=\"1600\"/>\n",
       "  </clipPath>\n",
       "</defs>\n",
       "<path clip-path=\"url(#clip260)\" d=\"\n",
       "M219.866 1423.18 L2352.76 1423.18 L2352.76 123.472 L219.866 123.472  Z\n",
       "  \" fill=\"#ffffff\" fill-rule=\"evenodd\" fill-opacity=\"1\"/>\n",
       "<defs>\n",
       "  <clipPath id=\"clip262\">\n",
       "    <rect x=\"219\" y=\"123\" width=\"2134\" height=\"1301\"/>\n",
       "  </clipPath>\n",
       "</defs>\n",
       "<polyline clip-path=\"url(#clip262)\" style=\"stroke:#000000; stroke-linecap:butt; stroke-linejoin:round; stroke-width:2; stroke-opacity:0.1; fill:none\" points=\"\n",
       "  557.77,1423.18 557.77,123.472 \n",
       "  \"/>\n",
       "<polyline clip-path=\"url(#clip262)\" style=\"stroke:#000000; stroke-linecap:butt; stroke-linejoin:round; stroke-width:2; stroke-opacity:0.1; fill:none\" points=\"\n",
       "  904.695,1423.18 904.695,123.472 \n",
       "  \"/>\n",
       "<polyline clip-path=\"url(#clip262)\" style=\"stroke:#000000; stroke-linecap:butt; stroke-linejoin:round; stroke-width:2; stroke-opacity:0.1; fill:none\" points=\"\n",
       "  1251.62,1423.18 1251.62,123.472 \n",
       "  \"/>\n",
       "<polyline clip-path=\"url(#clip262)\" style=\"stroke:#000000; stroke-linecap:butt; stroke-linejoin:round; stroke-width:2; stroke-opacity:0.1; fill:none\" points=\"\n",
       "  1598.54,1423.18 1598.54,123.472 \n",
       "  \"/>\n",
       "<polyline clip-path=\"url(#clip262)\" style=\"stroke:#000000; stroke-linecap:butt; stroke-linejoin:round; stroke-width:2; stroke-opacity:0.1; fill:none\" points=\"\n",
       "  1945.47,1423.18 1945.47,123.472 \n",
       "  \"/>\n",
       "<polyline clip-path=\"url(#clip262)\" style=\"stroke:#000000; stroke-linecap:butt; stroke-linejoin:round; stroke-width:2; stroke-opacity:0.1; fill:none\" points=\"\n",
       "  2292.39,1423.18 2292.39,123.472 \n",
       "  \"/>\n",
       "<polyline clip-path=\"url(#clip260)\" style=\"stroke:#000000; stroke-linecap:butt; stroke-linejoin:round; stroke-width:4; stroke-opacity:1; fill:none\" points=\"\n",
       "  219.866,1423.18 2352.76,1423.18 \n",
       "  \"/>\n",
       "<polyline clip-path=\"url(#clip260)\" style=\"stroke:#000000; stroke-linecap:butt; stroke-linejoin:round; stroke-width:4; stroke-opacity:1; fill:none\" points=\"\n",
       "  557.77,1423.18 557.77,1404.28 \n",
       "  \"/>\n",
       "<polyline clip-path=\"url(#clip260)\" style=\"stroke:#000000; stroke-linecap:butt; stroke-linejoin:round; stroke-width:4; stroke-opacity:1; fill:none\" points=\"\n",
       "  904.695,1423.18 904.695,1404.28 \n",
       "  \"/>\n",
       "<polyline clip-path=\"url(#clip260)\" style=\"stroke:#000000; stroke-linecap:butt; stroke-linejoin:round; stroke-width:4; stroke-opacity:1; fill:none\" points=\"\n",
       "  1251.62,1423.18 1251.62,1404.28 \n",
       "  \"/>\n",
       "<polyline clip-path=\"url(#clip260)\" style=\"stroke:#000000; stroke-linecap:butt; stroke-linejoin:round; stroke-width:4; stroke-opacity:1; fill:none\" points=\"\n",
       "  1598.54,1423.18 1598.54,1404.28 \n",
       "  \"/>\n",
       "<polyline clip-path=\"url(#clip260)\" style=\"stroke:#000000; stroke-linecap:butt; stroke-linejoin:round; stroke-width:4; stroke-opacity:1; fill:none\" points=\"\n",
       "  1945.47,1423.18 1945.47,1404.28 \n",
       "  \"/>\n",
       "<polyline clip-path=\"url(#clip260)\" style=\"stroke:#000000; stroke-linecap:butt; stroke-linejoin:round; stroke-width:4; stroke-opacity:1; fill:none\" points=\"\n",
       "  2292.39,1423.18 2292.39,1404.28 \n",
       "  \"/>\n",
       "<path clip-path=\"url(#clip260)\" d=\"M548.048 1451.02 L566.405 1451.02 L566.405 1454.96 L552.331 1454.96 L552.331 1463.43 Q553.349 1463.08 554.368 1462.92 Q555.386 1462.73 556.405 1462.73 Q562.192 1462.73 565.571 1465.9 Q568.951 1469.08 568.951 1474.49 Q568.951 1480.07 565.479 1483.17 Q562.006 1486.25 555.687 1486.25 Q553.511 1486.25 551.243 1485.88 Q548.997 1485.51 546.59 1484.77 L546.59 1480.07 Q548.673 1481.2 550.895 1481.76 Q553.118 1482.32 555.594 1482.32 Q559.599 1482.32 561.937 1480.21 Q564.275 1478.1 564.275 1474.49 Q564.275 1470.88 561.937 1468.77 Q559.599 1466.67 555.594 1466.67 Q553.719 1466.67 551.844 1467.08 Q549.993 1467.5 548.048 1468.38 L548.048 1451.02 Z\" fill=\"#000000\" fill-rule=\"evenodd\" fill-opacity=\"1\" /><path clip-path=\"url(#clip260)\" d=\"M879.382 1481.64 L887.021 1481.64 L887.021 1455.28 L878.711 1456.95 L878.711 1452.69 L886.975 1451.02 L891.651 1451.02 L891.651 1481.64 L899.289 1481.64 L899.289 1485.58 L879.382 1485.58 L879.382 1481.64 Z\" fill=\"#000000\" fill-rule=\"evenodd\" fill-opacity=\"1\" /><path clip-path=\"url(#clip260)\" d=\"M918.734 1454.1 Q915.123 1454.1 913.294 1457.66 Q911.488 1461.2 911.488 1468.33 Q911.488 1475.44 913.294 1479.01 Q915.123 1482.55 918.734 1482.55 Q922.368 1482.55 924.174 1479.01 Q926.002 1475.44 926.002 1468.33 Q926.002 1461.2 924.174 1457.66 Q922.368 1454.1 918.734 1454.1 M918.734 1450.39 Q924.544 1450.39 927.599 1455 Q930.678 1459.58 930.678 1468.33 Q930.678 1477.06 927.599 1481.67 Q924.544 1486.25 918.734 1486.25 Q912.924 1486.25 909.845 1481.67 Q906.789 1477.06 906.789 1468.33 Q906.789 1459.58 909.845 1455 Q912.924 1450.39 918.734 1450.39 Z\" fill=\"#000000\" fill-rule=\"evenodd\" fill-opacity=\"1\" /><path clip-path=\"url(#clip260)\" d=\"M1226.8 1481.64 L1234.44 1481.64 L1234.44 1455.28 L1226.13 1456.95 L1226.13 1452.69 L1234.4 1451.02 L1239.07 1451.02 L1239.07 1481.64 L1246.71 1481.64 L1246.71 1485.58 L1226.8 1485.58 L1226.8 1481.64 Z\" fill=\"#000000\" fill-rule=\"evenodd\" fill-opacity=\"1\" /><path clip-path=\"url(#clip260)\" d=\"M1256.2 1451.02 L1274.56 1451.02 L1274.56 1454.96 L1260.48 1454.96 L1260.48 1463.43 Q1261.5 1463.08 1262.52 1462.92 Q1263.54 1462.73 1264.56 1462.73 Q1270.35 1462.73 1273.73 1465.9 Q1277.1 1469.08 1277.1 1474.49 Q1277.1 1480.07 1273.63 1483.17 Q1270.16 1486.25 1263.84 1486.25 Q1261.66 1486.25 1259.4 1485.88 Q1257.15 1485.51 1254.74 1484.77 L1254.74 1480.07 Q1256.83 1481.2 1259.05 1481.76 Q1261.27 1482.32 1263.75 1482.32 Q1267.75 1482.32 1270.09 1480.21 Q1272.43 1478.1 1272.43 1474.49 Q1272.43 1470.88 1270.09 1468.77 Q1267.75 1466.67 1263.75 1466.67 Q1261.87 1466.67 1260 1467.08 Q1258.15 1467.5 1256.2 1468.38 L1256.2 1451.02 Z\" fill=\"#000000\" fill-rule=\"evenodd\" fill-opacity=\"1\" /><path clip-path=\"url(#clip260)\" d=\"M1577.32 1481.64 L1593.64 1481.64 L1593.64 1485.58 L1571.69 1485.58 L1571.69 1481.64 Q1574.35 1478.89 1578.94 1474.26 Q1583.54 1469.61 1584.72 1468.27 Q1586.97 1465.74 1587.85 1464.01 Q1588.75 1462.25 1588.75 1460.56 Q1588.75 1457.8 1586.81 1456.07 Q1584.89 1454.33 1581.78 1454.33 Q1579.58 1454.33 1577.13 1455.09 Q1574.7 1455.86 1571.92 1457.41 L1571.92 1452.69 Q1574.75 1451.55 1577.2 1450.97 Q1579.65 1450.39 1581.69 1450.39 Q1587.06 1450.39 1590.26 1453.08 Q1593.45 1455.77 1593.45 1460.26 Q1593.45 1462.39 1592.64 1464.31 Q1591.85 1466.2 1589.75 1468.8 Q1589.17 1469.47 1586.07 1472.69 Q1582.96 1475.88 1577.32 1481.64 Z\" fill=\"#000000\" fill-rule=\"evenodd\" fill-opacity=\"1\" /><path clip-path=\"url(#clip260)\" d=\"M1613.45 1454.1 Q1609.84 1454.1 1608.01 1457.66 Q1606.2 1461.2 1606.2 1468.33 Q1606.2 1475.44 1608.01 1479.01 Q1609.84 1482.55 1613.45 1482.55 Q1617.08 1482.55 1618.89 1479.01 Q1620.72 1475.44 1620.72 1468.33 Q1620.72 1461.2 1618.89 1457.66 Q1617.08 1454.1 1613.45 1454.1 M1613.45 1450.39 Q1619.26 1450.39 1622.32 1455 Q1625.39 1459.58 1625.39 1468.33 Q1625.39 1477.06 1622.32 1481.67 Q1619.26 1486.25 1613.45 1486.25 Q1607.64 1486.25 1604.56 1481.67 Q1601.51 1477.06 1601.51 1468.33 Q1601.51 1459.58 1604.56 1455 Q1607.64 1450.39 1613.45 1450.39 Z\" fill=\"#000000\" fill-rule=\"evenodd\" fill-opacity=\"1\" /><path clip-path=\"url(#clip260)\" d=\"M1924.74 1481.64 L1941.06 1481.64 L1941.06 1485.58 L1919.11 1485.58 L1919.11 1481.64 Q1921.77 1478.89 1926.36 1474.26 Q1930.96 1469.61 1932.15 1468.27 Q1934.39 1465.74 1935.27 1464.01 Q1936.17 1462.25 1936.17 1460.56 Q1936.17 1457.8 1934.23 1456.07 Q1932.31 1454.33 1929.21 1454.33 Q1927.01 1454.33 1924.55 1455.09 Q1922.12 1455.86 1919.34 1457.41 L1919.34 1452.69 Q1922.17 1451.55 1924.62 1450.97 Q1927.08 1450.39 1929.11 1450.39 Q1934.48 1450.39 1937.68 1453.08 Q1940.87 1455.77 1940.87 1460.26 Q1940.87 1462.39 1940.06 1464.31 Q1939.27 1466.2 1937.17 1468.8 Q1936.59 1469.47 1933.49 1472.69 Q1930.39 1475.88 1924.74 1481.64 Z\" fill=\"#000000\" fill-rule=\"evenodd\" fill-opacity=\"1\" /><path clip-path=\"url(#clip260)\" d=\"M1950.92 1451.02 L1969.27 1451.02 L1969.27 1454.96 L1955.2 1454.96 L1955.2 1463.43 Q1956.22 1463.08 1957.24 1462.92 Q1958.26 1462.73 1959.27 1462.73 Q1965.06 1462.73 1968.44 1465.9 Q1971.82 1469.08 1971.82 1474.49 Q1971.82 1480.07 1968.35 1483.17 Q1964.88 1486.25 1958.56 1486.25 Q1956.38 1486.25 1954.11 1485.88 Q1951.87 1485.51 1949.46 1484.77 L1949.46 1480.07 Q1951.54 1481.2 1953.77 1481.76 Q1955.99 1482.32 1958.46 1482.32 Q1962.47 1482.32 1964.81 1480.21 Q1967.15 1478.1 1967.15 1474.49 Q1967.15 1470.88 1964.81 1468.77 Q1962.47 1466.67 1958.46 1466.67 Q1956.59 1466.67 1954.71 1467.08 Q1952.86 1467.5 1950.92 1468.38 L1950.92 1451.02 Z\" fill=\"#000000\" fill-rule=\"evenodd\" fill-opacity=\"1\" /><path clip-path=\"url(#clip260)\" d=\"M2281.23 1466.95 Q2284.59 1467.66 2286.47 1469.93 Q2288.36 1472.2 2288.36 1475.53 Q2288.36 1480.65 2284.84 1483.45 Q2281.33 1486.25 2274.84 1486.25 Q2272.67 1486.25 2270.35 1485.81 Q2268.06 1485.39 2265.61 1484.54 L2265.61 1480.02 Q2267.55 1481.16 2269.87 1481.74 Q2272.18 1482.32 2274.71 1482.32 Q2279.1 1482.32 2281.4 1480.58 Q2283.71 1478.84 2283.71 1475.53 Q2283.71 1472.48 2281.56 1470.77 Q2279.43 1469.03 2275.61 1469.03 L2271.58 1469.03 L2271.58 1465.19 L2275.79 1465.19 Q2279.24 1465.19 2281.07 1463.82 Q2282.9 1462.43 2282.9 1459.84 Q2282.9 1457.18 2281 1455.77 Q2279.13 1454.33 2275.61 1454.33 Q2273.69 1454.33 2271.49 1454.75 Q2269.29 1455.16 2266.65 1456.04 L2266.65 1451.88 Q2269.31 1451.14 2271.63 1450.77 Q2273.97 1450.39 2276.03 1450.39 Q2281.35 1450.39 2284.45 1452.83 Q2287.55 1455.23 2287.55 1459.35 Q2287.55 1462.22 2285.91 1464.21 Q2284.27 1466.18 2281.23 1466.95 Z\" fill=\"#000000\" fill-rule=\"evenodd\" fill-opacity=\"1\" /><path clip-path=\"url(#clip260)\" d=\"M2307.23 1454.1 Q2303.62 1454.1 2301.79 1457.66 Q2299.98 1461.2 2299.98 1468.33 Q2299.98 1475.44 2301.79 1479.01 Q2303.62 1482.55 2307.23 1482.55 Q2310.86 1482.55 2312.67 1479.01 Q2314.5 1475.44 2314.5 1468.33 Q2314.5 1461.2 2312.67 1457.66 Q2310.86 1454.1 2307.23 1454.1 M2307.23 1450.39 Q2313.04 1450.39 2316.09 1455 Q2319.17 1459.58 2319.17 1468.33 Q2319.17 1477.06 2316.09 1481.67 Q2313.04 1486.25 2307.23 1486.25 Q2301.42 1486.25 2298.34 1481.67 Q2295.28 1477.06 2295.28 1468.33 Q2295.28 1459.58 2298.34 1455 Q2301.42 1450.39 2307.23 1450.39 Z\" fill=\"#000000\" fill-rule=\"evenodd\" fill-opacity=\"1\" /><path clip-path=\"url(#clip260)\" d=\"M1285.37 1522.27 L1285.37 1532.4 L1297.44 1532.4 L1297.44 1536.95 L1285.37 1536.95 L1285.37 1556.3 Q1285.37 1560.66 1286.55 1561.9 Q1287.76 1563.14 1291.42 1563.14 L1297.44 1563.14 L1297.44 1568.04 L1291.42 1568.04 Q1284.64 1568.04 1282.06 1565.53 Q1279.48 1562.98 1279.48 1556.3 L1279.48 1536.95 L1275.19 1536.95 L1275.19 1532.4 L1279.48 1532.4 L1279.48 1522.27 L1285.37 1522.27 Z\" fill=\"#000000\" fill-rule=\"evenodd\" fill-opacity=\"1\" /><polyline clip-path=\"url(#clip262)\" style=\"stroke:#000000; stroke-linecap:butt; stroke-linejoin:round; stroke-width:2; stroke-opacity:0.1; fill:none\" points=\"\n",
       "  219.866,1310.82 2352.76,1310.82 \n",
       "  \"/>\n",
       "<polyline clip-path=\"url(#clip262)\" style=\"stroke:#000000; stroke-linecap:butt; stroke-linejoin:round; stroke-width:2; stroke-opacity:0.1; fill:none\" points=\"\n",
       "  219.866,1020.4 2352.76,1020.4 \n",
       "  \"/>\n",
       "<polyline clip-path=\"url(#clip262)\" style=\"stroke:#000000; stroke-linecap:butt; stroke-linejoin:round; stroke-width:2; stroke-opacity:0.1; fill:none\" points=\"\n",
       "  219.866,729.968 2352.76,729.968 \n",
       "  \"/>\n",
       "<polyline clip-path=\"url(#clip262)\" style=\"stroke:#000000; stroke-linecap:butt; stroke-linejoin:round; stroke-width:2; stroke-opacity:0.1; fill:none\" points=\"\n",
       "  219.866,439.539 2352.76,439.539 \n",
       "  \"/>\n",
       "<polyline clip-path=\"url(#clip262)\" style=\"stroke:#000000; stroke-linecap:butt; stroke-linejoin:round; stroke-width:2; stroke-opacity:0.1; fill:none\" points=\"\n",
       "  219.866,149.11 2352.76,149.11 \n",
       "  \"/>\n",
       "<polyline clip-path=\"url(#clip260)\" style=\"stroke:#000000; stroke-linecap:butt; stroke-linejoin:round; stroke-width:4; stroke-opacity:1; fill:none\" points=\"\n",
       "  219.866,1423.18 219.866,123.472 \n",
       "  \"/>\n",
       "<polyline clip-path=\"url(#clip260)\" style=\"stroke:#000000; stroke-linecap:butt; stroke-linejoin:round; stroke-width:4; stroke-opacity:1; fill:none\" points=\"\n",
       "  219.866,1310.82 238.764,1310.82 \n",
       "  \"/>\n",
       "<polyline clip-path=\"url(#clip260)\" style=\"stroke:#000000; stroke-linecap:butt; stroke-linejoin:round; stroke-width:4; stroke-opacity:1; fill:none\" points=\"\n",
       "  219.866,1020.4 238.764,1020.4 \n",
       "  \"/>\n",
       "<polyline clip-path=\"url(#clip260)\" style=\"stroke:#000000; stroke-linecap:butt; stroke-linejoin:round; stroke-width:4; stroke-opacity:1; fill:none\" points=\"\n",
       "  219.866,729.968 238.764,729.968 \n",
       "  \"/>\n",
       "<polyline clip-path=\"url(#clip260)\" style=\"stroke:#000000; stroke-linecap:butt; stroke-linejoin:round; stroke-width:4; stroke-opacity:1; fill:none\" points=\"\n",
       "  219.866,439.539 238.764,439.539 \n",
       "  \"/>\n",
       "<polyline clip-path=\"url(#clip260)\" style=\"stroke:#000000; stroke-linecap:butt; stroke-linejoin:round; stroke-width:4; stroke-opacity:1; fill:none\" points=\"\n",
       "  219.866,149.11 238.764,149.11 \n",
       "  \"/>\n",
       "<path clip-path=\"url(#clip260)\" d=\"M128.288 1296.62 Q124.677 1296.62 122.848 1300.19 Q121.043 1303.73 121.043 1310.86 Q121.043 1317.97 122.848 1321.53 Q124.677 1325.07 128.288 1325.07 Q131.922 1325.07 133.728 1321.53 Q135.556 1317.97 135.556 1310.86 Q135.556 1303.73 133.728 1300.19 Q131.922 1296.62 128.288 1296.62 M128.288 1292.92 Q134.098 1292.92 137.154 1297.53 Q140.232 1302.11 140.232 1310.86 Q140.232 1319.59 137.154 1324.19 Q134.098 1328.78 128.288 1328.78 Q122.478 1328.78 119.399 1324.19 Q116.343 1319.59 116.343 1310.86 Q116.343 1302.11 119.399 1297.53 Q122.478 1292.92 128.288 1292.92 Z\" fill=\"#000000\" fill-rule=\"evenodd\" fill-opacity=\"1\" /><path clip-path=\"url(#clip260)\" d=\"M148.45 1322.23 L153.334 1322.23 L153.334 1328.1 L148.45 1328.1 L148.45 1322.23 Z\" fill=\"#000000\" fill-rule=\"evenodd\" fill-opacity=\"1\" /><path clip-path=\"url(#clip260)\" d=\"M167.547 1324.17 L183.866 1324.17 L183.866 1328.1 L161.922 1328.1 L161.922 1324.17 Q164.584 1321.42 169.167 1316.79 Q173.774 1312.13 174.954 1310.79 Q177.2 1308.27 178.079 1306.53 Q178.982 1304.77 178.982 1303.08 Q178.982 1300.33 177.038 1298.59 Q175.116 1296.86 172.014 1296.86 Q169.815 1296.86 167.362 1297.62 Q164.931 1298.38 162.153 1299.93 L162.153 1295.21 Q164.977 1294.08 167.431 1293.5 Q169.885 1292.92 171.922 1292.92 Q177.292 1292.92 180.487 1295.61 Q183.681 1298.29 183.681 1302.78 Q183.681 1304.91 182.871 1306.83 Q182.084 1308.73 179.977 1311.32 Q179.399 1311.99 176.297 1315.21 Q173.195 1318.41 167.547 1324.17 Z\" fill=\"#000000\" fill-rule=\"evenodd\" fill-opacity=\"1\" /><path clip-path=\"url(#clip260)\" d=\"M126.205 1006.2 Q122.593 1006.2 120.765 1009.76 Q118.959 1013.3 118.959 1020.43 Q118.959 1027.54 120.765 1031.1 Q122.593 1034.64 126.205 1034.64 Q129.839 1034.64 131.644 1031.1 Q133.473 1027.54 133.473 1020.43 Q133.473 1013.3 131.644 1009.76 Q129.839 1006.2 126.205 1006.2 M126.205 1002.49 Q132.015 1002.49 135.07 1007.1 Q138.149 1011.68 138.149 1020.43 Q138.149 1029.16 135.07 1033.76 Q132.015 1038.35 126.205 1038.35 Q120.394 1038.35 117.316 1033.76 Q114.26 1029.16 114.26 1020.43 Q114.26 1011.68 117.316 1007.1 Q120.394 1002.49 126.205 1002.49 Z\" fill=\"#000000\" fill-rule=\"evenodd\" fill-opacity=\"1\" /><path clip-path=\"url(#clip260)\" d=\"M146.366 1031.8 L151.251 1031.8 L151.251 1037.68 L146.366 1037.68 L146.366 1031.8 Z\" fill=\"#000000\" fill-rule=\"evenodd\" fill-opacity=\"1\" /><path clip-path=\"url(#clip260)\" d=\"M174.283 1007.19 L162.477 1025.64 L174.283 1025.64 L174.283 1007.19 M173.056 1003.12 L178.936 1003.12 L178.936 1025.64 L183.866 1025.64 L183.866 1029.53 L178.936 1029.53 L178.936 1037.68 L174.283 1037.68 L174.283 1029.53 L158.681 1029.53 L158.681 1025.01 L173.056 1003.12 Z\" fill=\"#000000\" fill-rule=\"evenodd\" fill-opacity=\"1\" /><path clip-path=\"url(#clip260)\" d=\"M126.529 715.766 Q122.918 715.766 121.089 719.331 Q119.283 722.873 119.283 730.002 Q119.283 737.109 121.089 740.674 Q122.918 744.215 126.529 744.215 Q130.163 744.215 131.968 740.674 Q133.797 737.109 133.797 730.002 Q133.797 722.873 131.968 719.331 Q130.163 715.766 126.529 715.766 M126.529 712.063 Q132.339 712.063 135.394 716.669 Q138.473 721.252 138.473 730.002 Q138.473 738.729 135.394 743.336 Q132.339 747.919 126.529 747.919 Q120.718 747.919 117.64 743.336 Q114.584 738.729 114.584 730.002 Q114.584 721.252 117.64 716.669 Q120.718 712.063 126.529 712.063 Z\" fill=\"#000000\" fill-rule=\"evenodd\" fill-opacity=\"1\" /><path clip-path=\"url(#clip260)\" d=\"M146.691 741.368 L151.575 741.368 L151.575 747.248 L146.691 747.248 L146.691 741.368 Z\" fill=\"#000000\" fill-rule=\"evenodd\" fill-opacity=\"1\" /><path clip-path=\"url(#clip260)\" d=\"M172.339 728.104 Q169.19 728.104 167.339 730.257 Q165.51 732.41 165.51 736.16 Q165.51 739.887 167.339 742.063 Q169.19 744.215 172.339 744.215 Q175.487 744.215 177.315 742.063 Q179.167 739.887 179.167 736.16 Q179.167 732.41 177.315 730.257 Q175.487 728.104 172.339 728.104 M181.621 713.452 L181.621 717.711 Q179.862 716.878 178.056 716.438 Q176.274 715.998 174.514 715.998 Q169.885 715.998 167.431 719.123 Q165.001 722.248 164.653 728.567 Q166.019 726.553 168.079 725.489 Q170.139 724.401 172.616 724.401 Q177.825 724.401 180.834 727.572 Q183.866 730.72 183.866 736.16 Q183.866 741.484 180.718 744.701 Q177.57 747.919 172.339 747.919 Q166.343 747.919 163.172 743.336 Q160.001 738.729 160.001 730.002 Q160.001 721.808 163.89 716.947 Q167.778 712.063 174.329 712.063 Q176.089 712.063 177.871 712.41 Q179.676 712.757 181.621 713.452 Z\" fill=\"#000000\" fill-rule=\"evenodd\" fill-opacity=\"1\" /><path clip-path=\"url(#clip260)\" d=\"M126.783 425.338 Q123.172 425.338 121.343 428.903 Q119.538 432.444 119.538 439.574 Q119.538 446.68 121.343 450.245 Q123.172 453.787 126.783 453.787 Q130.417 453.787 132.223 450.245 Q134.052 446.68 134.052 439.574 Q134.052 432.444 132.223 428.903 Q130.417 425.338 126.783 425.338 M126.783 421.634 Q132.593 421.634 135.649 426.241 Q138.728 430.824 138.728 439.574 Q138.728 448.301 135.649 452.907 Q132.593 457.49 126.783 457.49 Q120.973 457.49 117.894 452.907 Q114.839 448.301 114.839 439.574 Q114.839 430.824 117.894 426.241 Q120.973 421.634 126.783 421.634 Z\" fill=\"#000000\" fill-rule=\"evenodd\" fill-opacity=\"1\" /><path clip-path=\"url(#clip260)\" d=\"M146.945 450.939 L151.829 450.939 L151.829 456.819 L146.945 456.819 L146.945 450.939 Z\" fill=\"#000000\" fill-rule=\"evenodd\" fill-opacity=\"1\" /><path clip-path=\"url(#clip260)\" d=\"M172.014 440.407 Q168.681 440.407 166.76 442.19 Q164.862 443.972 164.862 447.097 Q164.862 450.222 166.76 452.004 Q168.681 453.787 172.014 453.787 Q175.348 453.787 177.269 452.004 Q179.19 450.199 179.19 447.097 Q179.19 443.972 177.269 442.19 Q175.371 440.407 172.014 440.407 M167.339 438.416 Q164.329 437.676 162.64 435.616 Q160.973 433.555 160.973 430.592 Q160.973 426.449 163.913 424.041 Q166.876 421.634 172.014 421.634 Q177.176 421.634 180.116 424.041 Q183.056 426.449 183.056 430.592 Q183.056 433.555 181.366 435.616 Q179.7 437.676 176.714 438.416 Q180.093 439.203 181.968 441.495 Q183.866 443.787 183.866 447.097 Q183.866 452.12 180.788 454.805 Q177.732 457.49 172.014 457.49 Q166.297 457.49 163.218 454.805 Q160.163 452.12 160.163 447.097 Q160.163 443.787 162.061 441.495 Q163.959 439.203 167.339 438.416 M165.626 431.032 Q165.626 433.717 167.292 435.222 Q168.982 436.727 172.014 436.727 Q175.024 436.727 176.714 435.222 Q178.426 433.717 178.426 431.032 Q178.426 428.347 176.714 426.842 Q175.024 425.338 172.014 425.338 Q168.982 425.338 167.292 426.842 Q165.626 428.347 165.626 431.032 Z\" fill=\"#000000\" fill-rule=\"evenodd\" fill-opacity=\"1\" /><path clip-path=\"url(#clip260)\" d=\"M117.501 162.455 L125.14 162.455 L125.14 136.09 L116.83 137.756 L116.83 133.497 L125.093 131.83 L129.769 131.83 L129.769 162.455 L137.408 162.455 L137.408 166.39 L117.501 166.39 L117.501 162.455 Z\" fill=\"#000000\" fill-rule=\"evenodd\" fill-opacity=\"1\" /><path clip-path=\"url(#clip260)\" d=\"M146.853 160.511 L151.737 160.511 L151.737 166.39 L146.853 166.39 L146.853 160.511 Z\" fill=\"#000000\" fill-rule=\"evenodd\" fill-opacity=\"1\" /><path clip-path=\"url(#clip260)\" d=\"M171.922 134.909 Q168.311 134.909 166.482 138.474 Q164.677 142.016 164.677 149.145 Q164.677 156.252 166.482 159.816 Q168.311 163.358 171.922 163.358 Q175.556 163.358 177.362 159.816 Q179.19 156.252 179.19 149.145 Q179.19 142.016 177.362 138.474 Q175.556 134.909 171.922 134.909 M171.922 131.205 Q177.732 131.205 180.788 135.812 Q183.866 140.395 183.866 149.145 Q183.866 157.872 180.788 162.478 Q177.732 167.062 171.922 167.062 Q166.112 167.062 163.033 162.478 Q159.978 157.872 159.978 149.145 Q159.978 140.395 163.033 135.812 Q166.112 131.205 171.922 131.205 Z\" fill=\"#000000\" fill-rule=\"evenodd\" fill-opacity=\"1\" /><path clip-path=\"url(#clip260)\" d=\"M22.818 866.743 L46.4666 875.464 L46.4666 857.99 L22.818 866.743 M16.4842 870.371 L16.4842 863.082 L64.0042 844.972 L64.0042 851.656 L51.8138 855.985 L51.8138 877.405 L64.0042 881.734 L64.0042 888.513 L16.4842 870.371 Z\" fill=\"#000000\" fill-rule=\"evenodd\" fill-opacity=\"1\" /><path clip-path=\"url(#clip260)\" d=\"M16.4842 838.765 L16.4842 832.304 L45.3526 832.304 Q52.9915 832.304 56.3653 829.535 Q59.7073 826.766 59.7073 820.56 Q59.7073 814.385 56.3653 811.616 Q52.9915 808.847 45.3526 808.847 L16.4842 808.847 L16.4842 802.385 L46.1484 802.385 Q55.4423 802.385 60.1847 807.001 Q64.9272 811.584 64.9272 820.56 Q64.9272 829.567 60.1847 834.182 Q55.4423 838.765 46.1484 838.765 L16.4842 838.765 Z\" fill=\"#000000\" fill-rule=\"evenodd\" fill-opacity=\"1\" /><path clip-path=\"url(#clip260)\" d=\"M41.7242 767.788 Q42.4244 765.719 44.7161 763.777 Q47.0077 761.804 51.0181 759.831 L64.0042 753.306 L64.0042 760.213 L51.8138 766.292 Q47.0395 768.647 45.48 770.875 Q43.9204 773.071 43.9204 776.891 L43.9204 783.893 L64.0042 783.893 L64.0042 790.322 L16.4842 790.322 L16.4842 775.809 Q16.4842 767.661 19.8898 763.65 Q23.2955 759.64 30.1704 759.64 Q34.6582 759.64 37.6183 761.74 Q40.5784 763.809 41.7242 767.788 M21.7677 783.893 L38.6368 783.893 L38.6368 775.809 Q38.6368 771.162 36.5043 768.806 Q34.34 766.419 30.1704 766.419 Q26.0009 766.419 23.9002 768.806 Q21.7677 771.162 21.7677 775.809 L21.7677 783.893 Z\" fill=\"#000000\" fill-rule=\"evenodd\" fill-opacity=\"1\" /><path clip-path=\"url(#clip260)\" d=\"M20.8447 725.742 Q20.8447 732.745 26.0645 736.882 Q31.2844 740.988 40.2919 740.988 Q49.2675 740.988 54.4874 736.882 Q59.7073 732.745 59.7073 725.742 Q59.7073 718.74 54.4874 714.666 Q49.2675 710.56 40.2919 710.56 Q31.2844 710.56 26.0645 714.666 Q20.8447 718.74 20.8447 725.742 M15.6248 725.742 Q15.6248 715.748 22.3406 709.764 Q29.0246 703.781 40.2919 703.781 Q51.5274 703.781 58.2432 709.764 Q64.9272 715.748 64.9272 725.742 Q64.9272 735.768 58.2432 741.784 Q51.5592 747.768 40.2919 747.768 Q29.0246 747.768 22.3406 741.784 Q15.6248 735.768 15.6248 725.742 Z\" fill=\"#000000\" fill-rule=\"evenodd\" fill-opacity=\"1\" /><path clip-path=\"url(#clip260)\" d=\"M20.1444 658.139 L26.9239 658.139 Q23.9002 661.385 22.4043 665.077 Q20.9083 668.737 20.9083 672.875 Q20.9083 681.023 25.9054 685.352 Q30.8707 689.681 40.2919 689.681 Q49.6813 689.681 54.6784 685.352 Q59.6436 681.023 59.6436 672.875 Q59.6436 668.737 58.1477 665.077 Q56.6518 661.385 53.6281 658.139 L60.3439 658.139 Q62.6355 661.512 63.7814 665.3 Q64.9272 669.056 64.9272 673.257 Q64.9272 684.047 58.3387 690.254 Q51.7183 696.46 40.2919 696.46 Q28.8336 696.46 22.2451 690.254 Q15.6248 684.047 15.6248 673.257 Q15.6248 668.992 16.7706 665.236 Q17.8846 661.449 20.1444 658.139 Z\" fill=\"#000000\" fill-rule=\"evenodd\" fill-opacity=\"1\" /><path clip-path=\"url(#clip260)\" d=\"M446.721 16.7545 L446.721 25.383 Q442.589 21.5346 437.89 19.6307 Q433.231 17.7268 427.965 17.7268 Q417.595 17.7268 412.085 24.0867 Q406.576 30.4061 406.576 42.3968 Q406.576 54.3469 412.085 60.7069 Q417.595 67.0263 427.965 67.0263 Q433.231 67.0263 437.89 65.1223 Q442.589 63.2184 446.721 59.3701 L446.721 67.9175 Q442.427 70.8341 437.606 72.2924 Q432.826 73.7508 427.479 73.7508 Q413.746 73.7508 405.847 65.3654 Q397.948 56.9395 397.948 42.3968 Q397.948 27.8135 405.847 19.4281 Q413.746 11.0023 427.479 11.0023 Q432.907 11.0023 437.687 12.4606 Q442.508 13.8784 446.721 16.7545 Z\" fill=\"#000000\" fill-rule=\"evenodd\" fill-opacity=\"1\" /><path clip-path=\"url(#clip260)\" d=\"M479.655 49.7694 Q470.621 49.7694 467.137 51.8354 Q463.653 53.9013 463.653 58.8839 Q463.653 62.8538 466.246 65.2034 Q468.879 67.5124 473.376 67.5124 Q479.574 67.5124 483.3 63.1374 Q487.068 58.7219 487.068 51.4303 L487.068 49.7694 L479.655 49.7694 M494.521 46.6907 L494.521 72.576 L487.068 72.576 L487.068 65.6895 Q484.516 69.8214 480.708 71.8063 Q476.9 73.7508 471.391 73.7508 Q464.423 73.7508 460.291 69.8619 Q456.2 65.9325 456.2 59.3701 Q456.2 51.7138 461.304 47.825 Q466.449 43.9361 476.616 43.9361 L487.068 43.9361 L487.068 43.2069 Q487.068 38.0623 483.665 35.2672 Q480.303 32.4315 474.186 32.4315 Q470.297 32.4315 466.611 33.3632 Q462.924 34.295 459.522 36.1584 L459.522 29.2718 Q463.613 27.692 467.461 26.9223 Q471.31 26.1121 474.955 26.1121 Q484.799 26.1121 489.66 31.2163 Q494.521 36.3204 494.521 46.6907 Z\" fill=\"#000000\" fill-rule=\"evenodd\" fill-opacity=\"1\" /><path clip-path=\"url(#clip260)\" d=\"M509.105 54.671 L509.105 27.2059 L516.558 27.2059 L516.558 54.3874 Q516.558 60.8284 519.07 64.0691 Q521.581 67.2693 526.605 67.2693 Q532.64 67.2693 536.124 63.421 Q539.648 59.5726 539.648 52.9291 L539.648 27.2059 L547.102 27.2059 L547.102 72.576 L539.648 72.576 L539.648 65.6084 Q536.934 69.7404 533.329 71.7658 Q529.764 73.7508 525.025 73.7508 Q517.206 73.7508 513.156 68.8897 Q509.105 64.0286 509.105 54.671 M527.86 26.1121 L527.86 26.1121 Z\" fill=\"#000000\" fill-rule=\"evenodd\" fill-opacity=\"1\" /><path clip-path=\"url(#clip260)\" d=\"M591.378 28.5427 L591.378 35.5912 Q588.219 33.9709 584.816 33.1607 Q581.413 32.3505 577.767 32.3505 Q572.218 32.3505 569.423 34.0519 Q566.668 35.7533 566.668 39.156 Q566.668 41.7486 568.653 43.2475 Q570.638 44.7058 576.633 46.0426 L579.185 46.6097 Q587.125 48.3111 590.447 51.4303 Q593.809 54.509 593.809 60.0587 Q593.809 66.3781 588.786 70.0644 Q583.803 73.7508 575.053 73.7508 Q571.408 73.7508 567.438 73.0216 Q563.508 72.3329 559.133 70.9151 L559.133 63.2184 Q563.265 65.3654 567.276 66.4591 Q571.286 67.5124 575.215 67.5124 Q580.482 67.5124 583.317 65.73 Q586.153 63.9071 586.153 60.6258 Q586.153 57.5877 584.087 55.9673 Q582.061 54.3469 575.134 52.8481 L572.542 52.2405 Q565.615 50.7821 562.536 47.7845 Q559.457 44.7463 559.457 39.4801 Q559.457 33.0797 563.994 29.5959 Q568.531 26.1121 576.876 26.1121 Q581.008 26.1121 584.654 26.7198 Q588.3 27.3274 591.378 28.5427 Z\" fill=\"#000000\" fill-rule=\"evenodd\" fill-opacity=\"1\" /><path clip-path=\"url(#clip260)\" d=\"M626.297 49.7694 Q617.264 49.7694 613.78 51.8354 Q610.296 53.9013 610.296 58.8839 Q610.296 62.8538 612.889 65.2034 Q615.522 67.5124 620.018 67.5124 Q626.216 67.5124 629.943 63.1374 Q633.71 58.7219 633.71 51.4303 L633.71 49.7694 L626.297 49.7694 M641.164 46.6907 L641.164 72.576 L633.71 72.576 L633.71 65.6895 Q631.158 69.8214 627.35 71.8063 Q623.543 73.7508 618.033 73.7508 Q611.066 73.7508 606.934 69.8619 Q602.843 65.9325 602.843 59.3701 Q602.843 51.7138 607.947 47.825 Q613.091 43.9361 623.259 43.9361 L633.71 43.9361 L633.71 43.2069 Q633.71 38.0623 630.308 35.2672 Q626.945 32.4315 620.829 32.4315 Q616.94 32.4315 613.253 33.3632 Q609.567 34.295 606.164 36.1584 L606.164 29.2718 Q610.256 27.692 614.104 26.9223 Q617.952 26.1121 621.598 26.1121 Q631.442 26.1121 636.303 31.2163 Q641.164 36.3204 641.164 46.6907 Z\" fill=\"#000000\" fill-rule=\"evenodd\" fill-opacity=\"1\" /><path clip-path=\"url(#clip260)\" d=\"M656.517 9.54393 L663.971 9.54393 L663.971 72.576 L656.517 72.576 L656.517 9.54393 Z\" fill=\"#000000\" fill-rule=\"evenodd\" fill-opacity=\"1\" /><path clip-path=\"url(#clip260)\" d=\"M679.567 27.2059 L687.02 27.2059 L687.02 72.576 L679.567 72.576 L679.567 27.2059 M679.567 9.54393 L687.02 9.54393 L687.02 18.9825 L679.567 18.9825 L679.567 9.54393 Z\" fill=\"#000000\" fill-rule=\"evenodd\" fill-opacity=\"1\" /><path clip-path=\"url(#clip260)\" d=\"M709.989 14.324 L709.989 27.2059 L725.342 27.2059 L725.342 32.9987 L709.989 32.9987 L709.989 57.6282 Q709.989 63.1779 711.488 64.7578 Q713.027 66.3376 717.686 66.3376 L725.342 66.3376 L725.342 72.576 L717.686 72.576 Q709.057 72.576 705.776 69.3758 Q702.495 66.1351 702.495 57.6282 L702.495 32.9987 L697.026 32.9987 L697.026 27.2059 L702.495 27.2059 L702.495 14.324 L709.989 14.324 Z\" fill=\"#000000\" fill-rule=\"evenodd\" fill-opacity=\"1\" /><path clip-path=\"url(#clip260)\" d=\"M754.022 76.7889 Q750.863 84.8907 747.865 87.3618 Q744.867 89.8329 739.844 89.8329 L733.889 89.8329 L733.889 83.5945 L738.264 83.5945 Q741.343 83.5945 743.044 82.1361 Q744.746 80.6778 746.812 75.2496 L748.148 71.8468 L729.798 27.2059 L737.697 27.2059 L751.875 62.6918 L766.053 27.2059 L773.953 27.2059 L754.022 76.7889 Z\" fill=\"#000000\" fill-rule=\"evenodd\" fill-opacity=\"1\" /><path clip-path=\"url(#clip260)\" d=\"M826.533 72.576 L803.443 12.096 L811.991 12.096 L831.151 63.0159 L850.353 12.096 L858.86 12.096 L835.81 72.576 L826.533 72.576 Z\" fill=\"#000000\" fill-rule=\"evenodd\" fill-opacity=\"1\" /><path clip-path=\"url(#clip260)\" d=\"M903.946 14.0809 L903.946 22.0612 Q899.288 19.8332 895.156 18.7395 Q891.024 17.6457 887.175 17.6457 Q880.492 17.6457 876.846 20.2383 Q873.24 22.8309 873.24 27.611 Q873.24 31.6214 875.63 33.6873 Q878.061 35.7128 884.785 36.9686 L889.728 37.9813 Q898.883 39.7232 903.217 44.1387 Q907.592 48.5136 907.592 55.8863 Q907.592 64.6767 901.678 69.2137 Q895.804 73.7508 884.421 73.7508 Q880.127 73.7508 875.266 72.7785 Q870.445 71.8063 865.26 69.9024 L865.26 61.4765 Q870.243 64.2716 875.023 65.6895 Q879.803 67.1073 884.421 67.1073 Q891.429 67.1073 895.237 64.3527 Q899.045 61.598 899.045 56.4939 Q899.045 52.0379 896.29 49.5264 Q893.576 47.0148 887.338 45.759 L882.355 44.7868 Q873.2 42.9639 869.108 39.075 Q865.017 35.1862 865.017 28.2591 Q865.017 20.2383 870.648 15.6203 Q876.319 11.0023 886.244 11.0023 Q890.497 11.0023 894.913 11.7719 Q899.328 12.5416 903.946 14.0809 Z\" fill=\"#000000\" fill-rule=\"evenodd\" fill-opacity=\"1\" /><path clip-path=\"url(#clip260)\" d=\"M982.979 14.0809 L982.979 22.0612 Q978.321 19.8332 974.189 18.7395 Q970.057 17.6457 966.209 17.6457 Q959.525 17.6457 955.879 20.2383 Q952.274 22.8309 952.274 27.611 Q952.274 31.6214 954.664 33.6873 Q957.094 35.7128 963.819 36.9686 L968.761 37.9813 Q977.916 39.7232 982.25 44.1387 Q986.625 48.5136 986.625 55.8863 Q986.625 64.6767 980.711 69.2137 Q974.837 73.7508 963.454 73.7508 Q959.16 73.7508 954.299 72.7785 Q949.478 71.8063 944.293 69.9024 L944.293 61.4765 Q949.276 64.2716 954.056 65.6895 Q958.836 67.1073 963.454 67.1073 Q970.462 67.1073 974.27 64.3527 Q978.078 61.598 978.078 56.4939 Q978.078 52.0379 975.323 49.5264 Q972.609 47.0148 966.371 45.759 L961.388 44.7868 Q952.233 42.9639 948.142 39.075 Q944.05 35.1862 944.05 28.2591 Q944.05 20.2383 949.681 15.6203 Q955.352 11.0023 965.277 11.0023 Q969.53 11.0023 973.946 11.7719 Q978.361 12.5416 982.979 14.0809 Z\" fill=\"#000000\" fill-rule=\"evenodd\" fill-opacity=\"1\" /><path clip-path=\"url(#clip260)\" d=\"M999.061 27.2059 L1006.52 27.2059 L1006.52 72.576 L999.061 72.576 L999.061 27.2059 M999.061 9.54393 L1006.52 9.54393 L1006.52 18.9825 L999.061 18.9825 L999.061 9.54393 Z\" fill=\"#000000\" fill-rule=\"evenodd\" fill-opacity=\"1\" /><path clip-path=\"url(#clip260)\" d=\"M1054.68 49.9314 Q1054.68 41.7081 1051.28 37.0496 Q1047.92 32.3505 1042 32.3505 Q1036.09 32.3505 1032.68 37.0496 Q1029.32 41.7081 1029.32 49.9314 Q1029.32 58.1548 1032.68 62.8538 Q1036.09 67.5124 1042 67.5124 Q1047.92 67.5124 1051.28 62.8538 Q1054.68 58.1548 1054.68 49.9314 M1029.32 34.0924 Q1031.67 30.0415 1035.24 28.0971 Q1038.84 26.1121 1043.82 26.1121 Q1052.09 26.1121 1057.23 32.6746 Q1062.42 39.2371 1062.42 49.9314 Q1062.42 60.6258 1057.23 67.1883 Q1052.09 73.7508 1043.82 73.7508 Q1038.84 73.7508 1035.24 71.8063 Q1031.67 69.8214 1029.32 65.7705 L1029.32 72.576 L1021.83 72.576 L1021.83 9.54393 L1029.32 9.54393 L1029.32 34.0924 Z\" fill=\"#000000\" fill-rule=\"evenodd\" fill-opacity=\"1\" /><path clip-path=\"url(#clip260)\" d=\"M1121.68 20.1573 L1110.58 50.2555 L1132.82 50.2555 L1121.68 20.1573 M1117.06 12.096 L1126.34 12.096 L1149.39 72.576 L1140.88 72.576 L1135.37 57.061 L1108.11 57.061 L1102.6 72.576 L1093.97 72.576 L1117.06 12.096 Z\" fill=\"#000000\" fill-rule=\"evenodd\" fill-opacity=\"1\" /><path clip-path=\"url(#clip260)\" d=\"M1157.29 12.096 L1165.51 12.096 L1165.51 48.8377 Q1165.51 58.5599 1169.04 62.8538 Q1172.56 67.1073 1180.46 67.1073 Q1188.32 67.1073 1191.84 62.8538 Q1195.37 58.5599 1195.37 48.8377 L1195.37 12.096 L1203.59 12.096 L1203.59 49.8504 Q1203.59 61.6791 1197.72 67.7149 Q1191.88 73.7508 1180.46 73.7508 Q1169 73.7508 1163.12 67.7149 Q1157.29 61.6791 1157.29 49.8504 L1157.29 12.096 Z\" fill=\"#000000\" fill-rule=\"evenodd\" fill-opacity=\"1\" /><path clip-path=\"url(#clip260)\" d=\"M1247.62 44.2197 Q1250.26 45.1109 1252.73 48.0275 Q1255.24 50.9442 1257.75 56.0483 L1266.06 72.576 L1257.27 72.576 L1249.53 57.061 Q1246.53 50.9847 1243.7 48.9997 Q1240.9 47.0148 1236.04 47.0148 L1227.13 47.0148 L1227.13 72.576 L1218.94 72.576 L1218.94 12.096 L1237.42 12.096 Q1247.79 12.096 1252.89 16.4305 Q1258 20.7649 1258 29.5149 Q1258 35.2267 1255.32 38.994 Q1252.69 42.7613 1247.62 44.2197 M1227.13 18.8205 L1227.13 40.2903 L1237.42 40.2903 Q1243.33 40.2903 1246.33 37.5762 Q1249.37 34.8216 1249.37 29.5149 Q1249.37 24.2082 1246.33 21.5346 Q1243.33 18.8205 1237.42 18.8205 L1227.13 18.8205 Z\" fill=\"#000000\" fill-rule=\"evenodd\" fill-opacity=\"1\" /><path clip-path=\"url(#clip260)\" d=\"M1301.14 17.6457 Q1292.23 17.6457 1286.96 24.2892 Q1281.73 30.9327 1281.73 42.3968 Q1281.73 53.8203 1286.96 60.4638 Q1292.23 67.1073 1301.14 67.1073 Q1310.05 67.1073 1315.23 60.4638 Q1320.46 53.8203 1320.46 42.3968 Q1320.46 30.9327 1315.23 24.2892 Q1310.05 17.6457 1301.14 17.6457 M1301.14 11.0023 Q1313.86 11.0023 1321.47 19.5497 Q1329.09 28.0566 1329.09 42.3968 Q1329.09 56.6965 1321.47 65.2439 Q1313.86 73.7508 1301.14 73.7508 Q1288.38 73.7508 1280.72 65.2439 Q1273.11 56.737 1273.11 42.3968 Q1273.11 28.0566 1280.72 19.5497 Q1288.38 11.0023 1301.14 11.0023 Z\" fill=\"#000000\" fill-rule=\"evenodd\" fill-opacity=\"1\" /><path clip-path=\"url(#clip260)\" d=\"M1387.18 16.7545 L1387.18 25.383 Q1383.05 21.5346 1378.35 19.6307 Q1373.69 17.7268 1368.42 17.7268 Q1358.05 17.7268 1352.54 24.0867 Q1347.03 30.4061 1347.03 42.3968 Q1347.03 54.3469 1352.54 60.7069 Q1358.05 67.0263 1368.42 67.0263 Q1373.69 67.0263 1378.35 65.1223 Q1383.05 63.2184 1387.18 59.3701 L1387.18 67.9175 Q1382.88 70.8341 1378.06 72.2924 Q1373.28 73.7508 1367.94 73.7508 Q1354.2 73.7508 1346.3 65.3654 Q1338.41 56.9395 1338.41 42.3968 Q1338.41 27.8135 1346.3 19.4281 Q1354.2 11.0023 1367.94 11.0023 Q1373.37 11.0023 1378.15 12.4606 Q1382.97 13.8784 1387.18 16.7545 Z\" fill=\"#000000\" fill-rule=\"evenodd\" fill-opacity=\"1\" /><path clip-path=\"url(#clip260)\" d=\"M1425.86 27.2059 L1433.32 27.2059 L1433.32 72.576 L1425.86 72.576 L1425.86 27.2059 M1425.86 9.54393 L1433.32 9.54393 L1433.32 18.9825 L1425.86 18.9825 L1425.86 9.54393 Z\" fill=\"#000000\" fill-rule=\"evenodd\" fill-opacity=\"1\" /><path clip-path=\"url(#clip260)\" d=\"M1486.63 45.1919 L1486.63 72.576 L1479.17 72.576 L1479.17 45.4349 Q1479.17 38.994 1476.66 35.7938 Q1474.15 32.5936 1469.13 32.5936 Q1463.09 32.5936 1459.61 36.4419 Q1456.12 40.2903 1456.12 46.9338 L1456.12 72.576 L1448.63 72.576 L1448.63 27.2059 L1456.12 27.2059 L1456.12 34.2544 Q1458.8 30.163 1462.4 28.1376 Q1466.05 26.1121 1470.79 26.1121 Q1478.61 26.1121 1482.62 30.9732 Q1486.63 35.7938 1486.63 45.1919 Z\" fill=\"#000000\" fill-rule=\"evenodd\" fill-opacity=\"1\" /><path clip-path=\"url(#clip260)\" d=\"M1550.84 9.54393 L1550.84 15.7418 L1543.71 15.7418 Q1539.7 15.7418 1538.12 17.3622 Q1536.58 18.9825 1536.58 23.1955 L1536.58 27.2059 L1548.85 27.2059 L1548.85 32.9987 L1536.58 32.9987 L1536.58 72.576 L1529.08 72.576 L1529.08 32.9987 L1521.95 32.9987 L1521.95 27.2059 L1529.08 27.2059 L1529.08 24.0462 Q1529.08 16.471 1532.61 13.0277 Q1536.13 9.54393 1543.79 9.54393 L1550.84 9.54393 Z\" fill=\"#000000\" fill-rule=\"evenodd\" fill-opacity=\"1\" /><path clip-path=\"url(#clip260)\" d=\"M1556.3 54.671 L1556.3 27.2059 L1563.76 27.2059 L1563.76 54.3874 Q1563.76 60.8284 1566.27 64.0691 Q1568.78 67.2693 1573.8 67.2693 Q1579.84 67.2693 1583.32 63.421 Q1586.85 59.5726 1586.85 52.9291 L1586.85 27.2059 L1594.3 27.2059 L1594.3 72.576 L1586.85 72.576 L1586.85 65.6084 Q1584.13 69.7404 1580.53 71.7658 Q1576.96 73.7508 1572.22 73.7508 Q1564.41 73.7508 1560.35 68.8897 Q1556.3 64.0286 1556.3 54.671 M1575.06 26.1121 L1575.06 26.1121 Z\" fill=\"#000000\" fill-rule=\"evenodd\" fill-opacity=\"1\" /><path clip-path=\"url(#clip260)\" d=\"M1647.37 45.1919 L1647.37 72.576 L1639.91 72.576 L1639.91 45.4349 Q1639.91 38.994 1637.4 35.7938 Q1634.89 32.5936 1629.87 32.5936 Q1623.83 32.5936 1620.35 36.4419 Q1616.86 40.2903 1616.86 46.9338 L1616.86 72.576 L1609.37 72.576 L1609.37 27.2059 L1616.86 27.2059 L1616.86 34.2544 Q1619.54 30.163 1623.14 28.1376 Q1626.79 26.1121 1631.53 26.1121 Q1639.35 26.1121 1643.36 30.9732 Q1647.37 35.7938 1647.37 45.1919 Z\" fill=\"#000000\" fill-rule=\"evenodd\" fill-opacity=\"1\" /><path clip-path=\"url(#clip260)\" d=\"M1694.89 28.9478 L1694.89 35.9153 Q1691.73 34.1734 1688.53 33.3227 Q1685.37 32.4315 1682.12 32.4315 Q1674.87 32.4315 1670.86 37.0496 Q1666.85 41.6271 1666.85 49.9314 Q1666.85 58.2358 1670.86 62.8538 Q1674.87 67.4314 1682.12 67.4314 Q1685.37 67.4314 1688.53 66.5807 Q1691.73 65.6895 1694.89 63.9476 L1694.89 70.8341 Q1691.77 72.2924 1688.4 73.0216 Q1685.08 73.7508 1681.31 73.7508 Q1671.07 73.7508 1665.03 67.3098 Q1658.99 60.8689 1658.99 49.9314 Q1658.99 38.832 1665.07 32.472 Q1671.19 26.1121 1681.8 26.1121 Q1685.24 26.1121 1688.53 26.8413 Q1691.81 27.5299 1694.89 28.9478 Z\" fill=\"#000000\" fill-rule=\"evenodd\" fill-opacity=\"1\" /><path clip-path=\"url(#clip260)\" d=\"M1715.22 14.324 L1715.22 27.2059 L1730.57 27.2059 L1730.57 32.9987 L1715.22 32.9987 L1715.22 57.6282 Q1715.22 63.1779 1716.72 64.7578 Q1718.26 66.3376 1722.92 66.3376 L1730.57 66.3376 L1730.57 72.576 L1722.92 72.576 Q1714.29 72.576 1711.01 69.3758 Q1707.73 66.1351 1707.73 57.6282 L1707.73 32.9987 L1702.26 32.9987 L1702.26 27.2059 L1707.73 27.2059 L1707.73 14.324 L1715.22 14.324 Z\" fill=\"#000000\" fill-rule=\"evenodd\" fill-opacity=\"1\" /><path clip-path=\"url(#clip260)\" d=\"M1740.38 27.2059 L1747.83 27.2059 L1747.83 72.576 L1740.38 72.576 L1740.38 27.2059 M1740.38 9.54393 L1747.83 9.54393 L1747.83 18.9825 L1740.38 18.9825 L1740.38 9.54393 Z\" fill=\"#000000\" fill-rule=\"evenodd\" fill-opacity=\"1\" /><path clip-path=\"url(#clip260)\" d=\"M1781.01 32.4315 Q1775.01 32.4315 1771.53 37.1306 Q1768.04 41.7891 1768.04 49.9314 Q1768.04 58.0738 1771.49 62.7728 Q1774.97 67.4314 1781.01 67.4314 Q1786.96 67.4314 1790.45 62.7323 Q1793.93 58.0333 1793.93 49.9314 Q1793.93 41.8701 1790.45 37.1711 Q1786.96 32.4315 1781.01 32.4315 M1781.01 26.1121 Q1790.73 26.1121 1796.28 32.4315 Q1801.83 38.7509 1801.83 49.9314 Q1801.83 61.0714 1796.28 67.4314 Q1790.73 73.7508 1781.01 73.7508 Q1771.24 73.7508 1765.7 67.4314 Q1760.19 61.0714 1760.19 49.9314 Q1760.19 38.7509 1765.7 32.4315 Q1771.24 26.1121 1781.01 26.1121 Z\" fill=\"#000000\" fill-rule=\"evenodd\" fill-opacity=\"1\" /><path clip-path=\"url(#clip260)\" d=\"M1851.9 45.1919 L1851.9 72.576 L1844.44 72.576 L1844.44 45.4349 Q1844.44 38.994 1841.93 35.7938 Q1839.42 32.5936 1834.4 32.5936 Q1828.36 32.5936 1824.88 36.4419 Q1821.4 40.2903 1821.4 46.9338 L1821.4 72.576 L1813.9 72.576 L1813.9 27.2059 L1821.4 27.2059 L1821.4 34.2544 Q1824.07 30.163 1827.67 28.1376 Q1831.32 26.1121 1836.06 26.1121 Q1843.88 26.1121 1847.89 30.9732 Q1851.9 35.7938 1851.9 45.1919 Z\" fill=\"#000000\" fill-rule=\"evenodd\" fill-opacity=\"1\" /><path clip-path=\"url(#clip260)\" d=\"M1910.72 32.4315 Q1904.72 32.4315 1901.24 37.1306 Q1897.75 41.7891 1897.75 49.9314 Q1897.75 58.0738 1901.2 62.7728 Q1904.68 67.4314 1910.72 67.4314 Q1916.67 67.4314 1920.16 62.7323 Q1923.64 58.0333 1923.64 49.9314 Q1923.64 41.8701 1920.16 37.1711 Q1916.67 32.4315 1910.72 32.4315 M1910.72 26.1121 Q1920.44 26.1121 1925.99 32.4315 Q1931.54 38.7509 1931.54 49.9314 Q1931.54 61.0714 1925.99 67.4314 Q1920.44 73.7508 1910.72 73.7508 Q1900.95 73.7508 1895.41 67.4314 Q1889.9 61.0714 1889.9 49.9314 Q1889.9 38.7509 1895.41 32.4315 Q1900.95 26.1121 1910.72 26.1121 Z\" fill=\"#000000\" fill-rule=\"evenodd\" fill-opacity=\"1\" /><path clip-path=\"url(#clip260)\" d=\"M1966.86 9.54393 L1966.86 15.7418 L1959.73 15.7418 Q1955.72 15.7418 1954.14 17.3622 Q1952.6 18.9825 1952.6 23.1955 L1952.6 27.2059 L1964.88 27.2059 L1964.88 32.9987 L1952.6 32.9987 L1952.6 72.576 L1945.11 72.576 L1945.11 32.9987 L1937.98 32.9987 L1937.98 27.2059 L1945.11 27.2059 L1945.11 24.0462 Q1945.11 16.471 1948.63 13.0277 Q1952.16 9.54393 1959.81 9.54393 L1966.86 9.54393 Z\" fill=\"#000000\" fill-rule=\"evenodd\" fill-opacity=\"1\" /><path clip-path=\"url(#clip260)\" d=\"M2006.85 14.324 L2006.85 27.2059 L2022.2 27.2059 L2022.2 32.9987 L2006.85 32.9987 L2006.85 57.6282 Q2006.85 63.1779 2008.34 64.7578 Q2009.88 66.3376 2014.54 66.3376 L2022.2 66.3376 L2022.2 72.576 L2014.54 72.576 Q2005.91 72.576 2002.63 69.3758 Q1999.35 66.1351 1999.35 57.6282 L1999.35 32.9987 L1993.88 32.9987 L1993.88 27.2059 L1999.35 27.2059 L1999.35 14.324 L2006.85 14.324 Z\" fill=\"#000000\" fill-rule=\"evenodd\" fill-opacity=\"1\" /><path clip-path=\"url(#clip260)\" d=\"M2032 27.2059 L2039.46 27.2059 L2039.46 72.576 L2032 72.576 L2032 27.2059 M2032 9.54393 L2039.46 9.54393 L2039.46 18.9825 L2032 18.9825 L2032 9.54393 Z\" fill=\"#000000\" fill-rule=\"evenodd\" fill-opacity=\"1\" /><path clip-path=\"url(#clip260)\" d=\"M2090.38 35.9153 Q2093.17 30.8922 2097.06 28.5022 Q2100.95 26.1121 2106.21 26.1121 Q2113.3 26.1121 2117.15 31.0947 Q2121 36.0368 2121 45.1919 L2121 72.576 L2113.51 72.576 L2113.51 45.4349 Q2113.51 38.913 2111.2 35.7533 Q2108.89 32.5936 2104.15 32.5936 Q2098.36 32.5936 2094.99 36.4419 Q2091.63 40.2903 2091.63 46.9338 L2091.63 72.576 L2084.14 72.576 L2084.14 45.4349 Q2084.14 38.8725 2081.83 35.7533 Q2079.52 32.5936 2074.7 32.5936 Q2068.99 32.5936 2065.62 36.4824 Q2062.26 40.3308 2062.26 46.9338 L2062.26 72.576 L2054.77 72.576 L2054.77 27.2059 L2062.26 27.2059 L2062.26 34.2544 Q2064.81 30.082 2068.38 28.0971 Q2071.94 26.1121 2076.85 26.1121 Q2081.79 26.1121 2085.23 28.6237 Q2088.71 31.1352 2090.38 35.9153 Z\" fill=\"#000000\" fill-rule=\"evenodd\" fill-opacity=\"1\" /><path clip-path=\"url(#clip260)\" d=\"M2174.67 48.0275 L2174.67 51.6733 L2140.4 51.6733 Q2140.89 59.3701 2145.02 63.421 Q2149.19 67.4314 2156.61 67.4314 Q2160.9 67.4314 2164.91 66.3781 Q2168.96 65.3249 2172.93 63.2184 L2172.93 70.267 Q2168.92 71.9684 2164.71 72.8596 Q2160.5 73.7508 2156.16 73.7508 Q2145.31 73.7508 2138.95 67.4314 Q2132.63 61.1119 2132.63 50.3365 Q2132.63 39.1965 2138.62 32.6746 Q2144.66 26.1121 2154.87 26.1121 Q2164.02 26.1121 2169.33 32.0264 Q2174.67 37.9003 2174.67 48.0275 M2167.22 45.84 Q2167.14 39.7232 2163.78 36.0774 Q2160.46 32.4315 2154.95 32.4315 Q2148.71 32.4315 2144.94 35.9558 Q2141.21 39.4801 2140.65 45.8805 L2167.22 45.84 Z\" fill=\"#000000\" fill-rule=\"evenodd\" fill-opacity=\"1\" /><polyline clip-path=\"url(#clip262)\" style=\"stroke:#009af9; stroke-linecap:butt; stroke-linejoin:round; stroke-width:4; stroke-opacity:1; fill:none\" points=\"\n",
       "  280.231,1117.21 349.616,1386.4 419.001,1267.85 488.386,1068.04 557.77,1096.61 627.155,1056.98 696.54,1031.05 765.925,831.178 835.31,798.174 904.695,704.469 \n",
       "  974.079,544.752 1043.46,447.318 1112.85,390.806 1182.23,288.341 1251.62,249.888 1321,205.205 1390.39,207.888 1459.77,200.859 1529.16,213.067 1598.54,228.37 \n",
       "  1667.93,228.801 1737.31,227.697 1806.7,237.119 1876.08,238.108 1945.47,236.625 2014.85,236.625 2084.24,238.108 2153.62,238.108 2223.01,238.108 2292.39,236.625 \n",
       "  \n",
       "  \"/>\n",
       "<circle clip-path=\"url(#clip262)\" cx=\"280.231\" cy=\"574.486\" r=\"14\" fill=\"#e26f46\" fill-rule=\"evenodd\" fill-opacity=\"1\" stroke=\"#000000\" stroke-opacity=\"1\" stroke-width=\"3.2\"/>\n",
       "<circle clip-path=\"url(#clip262)\" cx=\"349.616\" cy=\"993.724\" r=\"14\" fill=\"#e26f46\" fill-rule=\"evenodd\" fill-opacity=\"1\" stroke=\"#000000\" stroke-opacity=\"1\" stroke-width=\"3.2\"/>\n",
       "<circle clip-path=\"url(#clip262)\" cx=\"419.001\" cy=\"1053\" r=\"14\" fill=\"#e26f46\" fill-rule=\"evenodd\" fill-opacity=\"1\" stroke=\"#000000\" stroke-opacity=\"1\" stroke-width=\"3.2\"/>\n",
       "<circle clip-path=\"url(#clip262)\" cx=\"488.386\" cy=\"988.631\" r=\"14\" fill=\"#e26f46\" fill-rule=\"evenodd\" fill-opacity=\"1\" stroke=\"#000000\" stroke-opacity=\"1\" stroke-width=\"3.2\"/>\n",
       "<circle clip-path=\"url(#clip262)\" cx=\"557.77\" cy=\"965.297\" r=\"14\" fill=\"#e26f46\" fill-rule=\"evenodd\" fill-opacity=\"1\" stroke=\"#000000\" stroke-opacity=\"1\" stroke-width=\"3.2\"/>\n",
       "<circle clip-path=\"url(#clip262)\" cx=\"627.155\" cy=\"927.602\" r=\"14\" fill=\"#e26f46\" fill-rule=\"evenodd\" fill-opacity=\"1\" stroke=\"#000000\" stroke-opacity=\"1\" stroke-width=\"3.2\"/>\n",
       "<circle clip-path=\"url(#clip262)\" cx=\"696.54\" cy=\"861.371\" r=\"14\" fill=\"#e26f46\" fill-rule=\"evenodd\" fill-opacity=\"1\" stroke=\"#000000\" stroke-opacity=\"1\" stroke-width=\"3.2\"/>\n",
       "<circle clip-path=\"url(#clip262)\" cx=\"765.925\" cy=\"711.541\" r=\"14\" fill=\"#e26f46\" fill-rule=\"evenodd\" fill-opacity=\"1\" stroke=\"#000000\" stroke-opacity=\"1\" stroke-width=\"3.2\"/>\n",
       "<circle clip-path=\"url(#clip262)\" cx=\"835.31\" cy=\"677.163\" r=\"14\" fill=\"#e26f46\" fill-rule=\"evenodd\" fill-opacity=\"1\" stroke=\"#000000\" stroke-opacity=\"1\" stroke-width=\"3.2\"/>\n",
       "<circle clip-path=\"url(#clip262)\" cx=\"904.695\" cy=\"580.215\" r=\"14\" fill=\"#e26f46\" fill-rule=\"evenodd\" fill-opacity=\"1\" stroke=\"#000000\" stroke-opacity=\"1\" stroke-width=\"3.2\"/>\n",
       "<circle clip-path=\"url(#clip262)\" cx=\"974.079\" cy=\"468.599\" r=\"14\" fill=\"#e26f46\" fill-rule=\"evenodd\" fill-opacity=\"1\" stroke=\"#000000\" stroke-opacity=\"1\" stroke-width=\"3.2\"/>\n",
       "<circle clip-path=\"url(#clip262)\" cx=\"1043.46\" cy=\"409.142\" r=\"14\" fill=\"#e26f46\" fill-rule=\"evenodd\" fill-opacity=\"1\" stroke=\"#000000\" stroke-opacity=\"1\" stroke-width=\"3.2\"/>\n",
       "<circle clip-path=\"url(#clip262)\" cx=\"1112.85\" cy=\"333.666\" r=\"14\" fill=\"#e26f46\" fill-rule=\"evenodd\" fill-opacity=\"1\" stroke=\"#000000\" stroke-opacity=\"1\" stroke-width=\"3.2\"/>\n",
       "<circle clip-path=\"url(#clip262)\" cx=\"1182.23\" cy=\"269.974\" r=\"14\" fill=\"#e26f46\" fill-rule=\"evenodd\" fill-opacity=\"1\" stroke=\"#000000\" stroke-opacity=\"1\" stroke-width=\"3.2\"/>\n",
       "<circle clip-path=\"url(#clip262)\" cx=\"1251.62\" cy=\"228.672\" r=\"14\" fill=\"#e26f46\" fill-rule=\"evenodd\" fill-opacity=\"1\" stroke=\"#000000\" stroke-opacity=\"1\" stroke-width=\"3.2\"/>\n",
       "<circle clip-path=\"url(#clip262)\" cx=\"1321\" cy=\"186.927\" r=\"14\" fill=\"#e26f46\" fill-rule=\"evenodd\" fill-opacity=\"1\" stroke=\"#000000\" stroke-opacity=\"1\" stroke-width=\"3.2\"/>\n",
       "<circle clip-path=\"url(#clip262)\" cx=\"1390.39\" cy=\"189.909\" r=\"14\" fill=\"#e26f46\" fill-rule=\"evenodd\" fill-opacity=\"1\" stroke=\"#000000\" stroke-opacity=\"1\" stroke-width=\"3.2\"/>\n",
       "<circle clip-path=\"url(#clip262)\" cx=\"1459.77\" cy=\"183.344\" r=\"14\" fill=\"#e26f46\" fill-rule=\"evenodd\" fill-opacity=\"1\" stroke=\"#000000\" stroke-opacity=\"1\" stroke-width=\"3.2\"/>\n",
       "<circle clip-path=\"url(#clip262)\" cx=\"1529.16\" cy=\"199.948\" r=\"14\" fill=\"#e26f46\" fill-rule=\"evenodd\" fill-opacity=\"1\" stroke=\"#000000\" stroke-opacity=\"1\" stroke-width=\"3.2\"/>\n",
       "<circle clip-path=\"url(#clip262)\" cx=\"1598.54\" cy=\"217.991\" r=\"14\" fill=\"#e26f46\" fill-rule=\"evenodd\" fill-opacity=\"1\" stroke=\"#000000\" stroke-opacity=\"1\" stroke-width=\"3.2\"/>\n",
       "<circle clip-path=\"url(#clip262)\" cx=\"1667.93\" cy=\"223.882\" r=\"14\" fill=\"#e26f46\" fill-rule=\"evenodd\" fill-opacity=\"1\" stroke=\"#000000\" stroke-opacity=\"1\" stroke-width=\"3.2\"/>\n",
       "<circle clip-path=\"url(#clip262)\" cx=\"1737.31\" cy=\"227.697\" r=\"14\" fill=\"#e26f46\" fill-rule=\"evenodd\" fill-opacity=\"1\" stroke=\"#000000\" stroke-opacity=\"1\" stroke-width=\"3.2\"/>\n",
       "<circle clip-path=\"url(#clip262)\" cx=\"1806.7\" cy=\"238.494\" r=\"14\" fill=\"#e26f46\" fill-rule=\"evenodd\" fill-opacity=\"1\" stroke=\"#000000\" stroke-opacity=\"1\" stroke-width=\"3.2\"/>\n",
       "<circle clip-path=\"url(#clip262)\" cx=\"1876.08\" cy=\"235.141\" r=\"14\" fill=\"#e26f46\" fill-rule=\"evenodd\" fill-opacity=\"1\" stroke=\"#000000\" stroke-opacity=\"1\" stroke-width=\"3.2\"/>\n",
       "<circle clip-path=\"url(#clip262)\" cx=\"1945.47\" cy=\"239.591\" r=\"14\" fill=\"#e26f46\" fill-rule=\"evenodd\" fill-opacity=\"1\" stroke=\"#000000\" stroke-opacity=\"1\" stroke-width=\"3.2\"/>\n",
       "<circle clip-path=\"url(#clip262)\" cx=\"2014.85\" cy=\"236.625\" r=\"14\" fill=\"#e26f46\" fill-rule=\"evenodd\" fill-opacity=\"1\" stroke=\"#000000\" stroke-opacity=\"1\" stroke-width=\"3.2\"/>\n",
       "<circle clip-path=\"url(#clip262)\" cx=\"2084.24\" cy=\"241.075\" r=\"14\" fill=\"#e26f46\" fill-rule=\"evenodd\" fill-opacity=\"1\" stroke=\"#000000\" stroke-opacity=\"1\" stroke-width=\"3.2\"/>\n",
       "<circle clip-path=\"url(#clip262)\" cx=\"2153.62\" cy=\"241.075\" r=\"14\" fill=\"#e26f46\" fill-rule=\"evenodd\" fill-opacity=\"1\" stroke=\"#000000\" stroke-opacity=\"1\" stroke-width=\"3.2\"/>\n",
       "<circle clip-path=\"url(#clip262)\" cx=\"2223.01\" cy=\"241.075\" r=\"14\" fill=\"#e26f46\" fill-rule=\"evenodd\" fill-opacity=\"1\" stroke=\"#000000\" stroke-opacity=\"1\" stroke-width=\"3.2\"/>\n",
       "<circle clip-path=\"url(#clip262)\" cx=\"2292.39\" cy=\"241.075\" r=\"14\" fill=\"#e26f46\" fill-rule=\"evenodd\" fill-opacity=\"1\" stroke=\"#000000\" stroke-opacity=\"1\" stroke-width=\"3.2\"/>\n",
       "<circle clip-path=\"url(#clip262)\" cx=\"280.231\" cy=\"1058.53\" r=\"14\" fill=\"#3da44d\" fill-rule=\"evenodd\" fill-opacity=\"1\" stroke=\"#000000\" stroke-opacity=\"1\" stroke-width=\"3.2\"/>\n",
       "<circle clip-path=\"url(#clip262)\" cx=\"349.616\" cy=\"1238.22\" r=\"14\" fill=\"#3da44d\" fill-rule=\"evenodd\" fill-opacity=\"1\" stroke=\"#000000\" stroke-opacity=\"1\" stroke-width=\"3.2\"/>\n",
       "<circle clip-path=\"url(#clip262)\" cx=\"419.001\" cy=\"1297.49\" r=\"14\" fill=\"#3da44d\" fill-rule=\"evenodd\" fill-opacity=\"1\" stroke=\"#000000\" stroke-opacity=\"1\" stroke-width=\"3.2\"/>\n",
       "<circle clip-path=\"url(#clip262)\" cx=\"488.386\" cy=\"1170.15\" r=\"14\" fill=\"#3da44d\" fill-rule=\"evenodd\" fill-opacity=\"1\" stroke=\"#000000\" stroke-opacity=\"1\" stroke-width=\"3.2\"/>\n",
       "<circle clip-path=\"url(#clip262)\" cx=\"557.77\" cy=\"1127.5\" r=\"14\" fill=\"#3da44d\" fill-rule=\"evenodd\" fill-opacity=\"1\" stroke=\"#000000\" stroke-opacity=\"1\" stroke-width=\"3.2\"/>\n",
       "<circle clip-path=\"url(#clip262)\" cx=\"627.155\" cy=\"1059.21\" r=\"14\" fill=\"#3da44d\" fill-rule=\"evenodd\" fill-opacity=\"1\" stroke=\"#000000\" stroke-opacity=\"1\" stroke-width=\"3.2\"/>\n",
       "<circle clip-path=\"url(#clip262)\" cx=\"696.54\" cy=\"1021.19\" r=\"14\" fill=\"#3da44d\" fill-rule=\"evenodd\" fill-opacity=\"1\" stroke=\"#000000\" stroke-opacity=\"1\" stroke-width=\"3.2\"/>\n",
       "<circle clip-path=\"url(#clip262)\" cx=\"765.925\" cy=\"908.185\" r=\"14\" fill=\"#3da44d\" fill-rule=\"evenodd\" fill-opacity=\"1\" stroke=\"#000000\" stroke-opacity=\"1\" stroke-width=\"3.2\"/>\n",
       "<circle clip-path=\"url(#clip262)\" cx=\"835.31\" cy=\"895.809\" r=\"14\" fill=\"#3da44d\" fill-rule=\"evenodd\" fill-opacity=\"1\" stroke=\"#000000\" stroke-opacity=\"1\" stroke-width=\"3.2\"/>\n",
       "<circle clip-path=\"url(#clip262)\" cx=\"904.695\" cy=\"807.113\" r=\"14\" fill=\"#3da44d\" fill-rule=\"evenodd\" fill-opacity=\"1\" stroke=\"#000000\" stroke-opacity=\"1\" stroke-width=\"3.2\"/>\n",
       "<circle clip-path=\"url(#clip262)\" cx=\"974.079\" cy=\"724.191\" r=\"14\" fill=\"#3da44d\" fill-rule=\"evenodd\" fill-opacity=\"1\" stroke=\"#000000\" stroke-opacity=\"1\" stroke-width=\"3.2\"/>\n",
       "<circle clip-path=\"url(#clip262)\" cx=\"1043.46\" cy=\"679.258\" r=\"14\" fill=\"#3da44d\" fill-rule=\"evenodd\" fill-opacity=\"1\" stroke=\"#000000\" stroke-opacity=\"1\" stroke-width=\"3.2\"/>\n",
       "<circle clip-path=\"url(#clip262)\" cx=\"1112.85\" cy=\"554.344\" r=\"14\" fill=\"#3da44d\" fill-rule=\"evenodd\" fill-opacity=\"1\" stroke=\"#000000\" stroke-opacity=\"1\" stroke-width=\"3.2\"/>\n",
       "<circle clip-path=\"url(#clip262)\" cx=\"1182.23\" cy=\"415.722\" r=\"14\" fill=\"#3da44d\" fill-rule=\"evenodd\" fill-opacity=\"1\" stroke=\"#000000\" stroke-opacity=\"1\" stroke-width=\"3.2\"/>\n",
       "<circle clip-path=\"url(#clip262)\" cx=\"1251.62\" cy=\"308.233\" r=\"14\" fill=\"#3da44d\" fill-rule=\"evenodd\" fill-opacity=\"1\" stroke=\"#000000\" stroke-opacity=\"1\" stroke-width=\"3.2\"/>\n",
       "<circle clip-path=\"url(#clip262)\" cx=\"1321\" cy=\"258.147\" r=\"14\" fill=\"#3da44d\" fill-rule=\"evenodd\" fill-opacity=\"1\" stroke=\"#000000\" stroke-opacity=\"1\" stroke-width=\"3.2\"/>\n",
       "<circle clip-path=\"url(#clip262)\" cx=\"1390.39\" cy=\"239.005\" r=\"14\" fill=\"#3da44d\" fill-rule=\"evenodd\" fill-opacity=\"1\" stroke=\"#000000\" stroke-opacity=\"1\" stroke-width=\"3.2\"/>\n",
       "<circle clip-path=\"url(#clip262)\" cx=\"1459.77\" cy=\"225.539\" r=\"14\" fill=\"#3da44d\" fill-rule=\"evenodd\" fill-opacity=\"1\" stroke=\"#000000\" stroke-opacity=\"1\" stroke-width=\"3.2\"/>\n",
       "<circle clip-path=\"url(#clip262)\" cx=\"1529.16\" cy=\"222.087\" r=\"14\" fill=\"#3da44d\" fill-rule=\"evenodd\" fill-opacity=\"1\" stroke=\"#000000\" stroke-opacity=\"1\" stroke-width=\"3.2\"/>\n",
       "<circle clip-path=\"url(#clip262)\" cx=\"1598.54\" cy=\"230.257\" r=\"14\" fill=\"#3da44d\" fill-rule=\"evenodd\" fill-opacity=\"1\" stroke=\"#000000\" stroke-opacity=\"1\" stroke-width=\"3.2\"/>\n",
       "<circle clip-path=\"url(#clip262)\" cx=\"1667.93\" cy=\"228.801\" r=\"14\" fill=\"#3da44d\" fill-rule=\"evenodd\" fill-opacity=\"1\" stroke=\"#000000\" stroke-opacity=\"1\" stroke-width=\"3.2\"/>\n",
       "<circle clip-path=\"url(#clip262)\" cx=\"1737.31\" cy=\"231.114\" r=\"14\" fill=\"#3da44d\" fill-rule=\"evenodd\" fill-opacity=\"1\" stroke=\"#000000\" stroke-opacity=\"1\" stroke-width=\"3.2\"/>\n",
       "<circle clip-path=\"url(#clip262)\" cx=\"1806.7\" cy=\"234.369\" r=\"14\" fill=\"#3da44d\" fill-rule=\"evenodd\" fill-opacity=\"1\" stroke=\"#000000\" stroke-opacity=\"1\" stroke-width=\"3.2\"/>\n",
       "<circle clip-path=\"url(#clip262)\" cx=\"1876.08\" cy=\"235.141\" r=\"14\" fill=\"#3da44d\" fill-rule=\"evenodd\" fill-opacity=\"1\" stroke=\"#000000\" stroke-opacity=\"1\" stroke-width=\"3.2\"/>\n",
       "<circle clip-path=\"url(#clip262)\" cx=\"1945.47\" cy=\"235.141\" r=\"14\" fill=\"#3da44d\" fill-rule=\"evenodd\" fill-opacity=\"1\" stroke=\"#000000\" stroke-opacity=\"1\" stroke-width=\"3.2\"/>\n",
       "<circle clip-path=\"url(#clip262)\" cx=\"2014.85\" cy=\"235.141\" r=\"14\" fill=\"#3da44d\" fill-rule=\"evenodd\" fill-opacity=\"1\" stroke=\"#000000\" stroke-opacity=\"1\" stroke-width=\"3.2\"/>\n",
       "<circle clip-path=\"url(#clip262)\" cx=\"2084.24\" cy=\"236.625\" r=\"14\" fill=\"#3da44d\" fill-rule=\"evenodd\" fill-opacity=\"1\" stroke=\"#000000\" stroke-opacity=\"1\" stroke-width=\"3.2\"/>\n",
       "<circle clip-path=\"url(#clip262)\" cx=\"2153.62\" cy=\"236.625\" r=\"14\" fill=\"#3da44d\" fill-rule=\"evenodd\" fill-opacity=\"1\" stroke=\"#000000\" stroke-opacity=\"1\" stroke-width=\"3.2\"/>\n",
       "<circle clip-path=\"url(#clip262)\" cx=\"2223.01\" cy=\"238.108\" r=\"14\" fill=\"#3da44d\" fill-rule=\"evenodd\" fill-opacity=\"1\" stroke=\"#000000\" stroke-opacity=\"1\" stroke-width=\"3.2\"/>\n",
       "<circle clip-path=\"url(#clip262)\" cx=\"2292.39\" cy=\"236.625\" r=\"14\" fill=\"#3da44d\" fill-rule=\"evenodd\" fill-opacity=\"1\" stroke=\"#000000\" stroke-opacity=\"1\" stroke-width=\"3.2\"/>\n",
       "<circle clip-path=\"url(#clip262)\" cx=\"280.231\" cy=\"941.189\" r=\"14\" fill=\"#c271d2\" fill-rule=\"evenodd\" fill-opacity=\"1\" stroke=\"#000000\" stroke-opacity=\"1\" stroke-width=\"3.2\"/>\n",
       "<circle clip-path=\"url(#clip262)\" cx=\"349.616\" cy=\"956.68\" r=\"14\" fill=\"#c271d2\" fill-rule=\"evenodd\" fill-opacity=\"1\" stroke=\"#000000\" stroke-opacity=\"1\" stroke-width=\"3.2\"/>\n",
       "<circle clip-path=\"url(#clip262)\" cx=\"419.001\" cy=\"941.862\" r=\"14\" fill=\"#c271d2\" fill-rule=\"evenodd\" fill-opacity=\"1\" stroke=\"#000000\" stroke-opacity=\"1\" stroke-width=\"3.2\"/>\n",
       "<circle clip-path=\"url(#clip262)\" cx=\"488.386\" cy=\"856.274\" r=\"14\" fill=\"#c271d2\" fill-rule=\"evenodd\" fill-opacity=\"1\" stroke=\"#000000\" stroke-opacity=\"1\" stroke-width=\"3.2\"/>\n",
       "<circle clip-path=\"url(#clip262)\" cx=\"557.77\" cy=\"895.78\" r=\"14\" fill=\"#c271d2\" fill-rule=\"evenodd\" fill-opacity=\"1\" stroke=\"#000000\" stroke-opacity=\"1\" stroke-width=\"3.2\"/>\n",
       "<circle clip-path=\"url(#clip262)\" cx=\"627.155\" cy=\"903.065\" r=\"14\" fill=\"#c271d2\" fill-rule=\"evenodd\" fill-opacity=\"1\" stroke=\"#000000\" stroke-opacity=\"1\" stroke-width=\"3.2\"/>\n",
       "<circle clip-path=\"url(#clip262)\" cx=\"696.54\" cy=\"892.939\" r=\"14\" fill=\"#c271d2\" fill-rule=\"evenodd\" fill-opacity=\"1\" stroke=\"#000000\" stroke-opacity=\"1\" stroke-width=\"3.2\"/>\n",
       "<circle clip-path=\"url(#clip262)\" cx=\"765.925\" cy=\"798.174\" r=\"14\" fill=\"#c271d2\" fill-rule=\"evenodd\" fill-opacity=\"1\" stroke=\"#000000\" stroke-opacity=\"1\" stroke-width=\"3.2\"/>\n",
       "<circle clip-path=\"url(#clip262)\" cx=\"835.31\" cy=\"811.926\" r=\"14\" fill=\"#c271d2\" fill-rule=\"evenodd\" fill-opacity=\"1\" stroke=\"#000000\" stroke-opacity=\"1\" stroke-width=\"3.2\"/>\n",
       "<circle clip-path=\"url(#clip262)\" cx=\"904.695\" cy=\"714.193\" r=\"14\" fill=\"#c271d2\" fill-rule=\"evenodd\" fill-opacity=\"1\" stroke=\"#000000\" stroke-opacity=\"1\" stroke-width=\"3.2\"/>\n",
       "<circle clip-path=\"url(#clip262)\" cx=\"974.079\" cy=\"648.038\" r=\"14\" fill=\"#c271d2\" fill-rule=\"evenodd\" fill-opacity=\"1\" stroke=\"#000000\" stroke-opacity=\"1\" stroke-width=\"3.2\"/>\n",
       "<circle clip-path=\"url(#clip262)\" cx=\"1043.46\" cy=\"585.618\" r=\"14\" fill=\"#c271d2\" fill-rule=\"evenodd\" fill-opacity=\"1\" stroke=\"#000000\" stroke-opacity=\"1\" stroke-width=\"3.2\"/>\n",
       "<circle clip-path=\"url(#clip262)\" cx=\"1112.85\" cy=\"494.577\" r=\"14\" fill=\"#c271d2\" fill-rule=\"evenodd\" fill-opacity=\"1\" stroke=\"#000000\" stroke-opacity=\"1\" stroke-width=\"3.2\"/>\n",
       "<circle clip-path=\"url(#clip262)\" cx=\"1182.23\" cy=\"365.362\" r=\"14\" fill=\"#c271d2\" fill-rule=\"evenodd\" fill-opacity=\"1\" stroke=\"#000000\" stroke-opacity=\"1\" stroke-width=\"3.2\"/>\n",
       "<circle clip-path=\"url(#clip262)\" cx=\"1251.62\" cy=\"306.465\" r=\"14\" fill=\"#c271d2\" fill-rule=\"evenodd\" fill-opacity=\"1\" stroke=\"#000000\" stroke-opacity=\"1\" stroke-width=\"3.2\"/>\n",
       "<circle clip-path=\"url(#clip262)\" cx=\"1321\" cy=\"241.76\" r=\"14\" fill=\"#c271d2\" fill-rule=\"evenodd\" fill-opacity=\"1\" stroke=\"#000000\" stroke-opacity=\"1\" stroke-width=\"3.2\"/>\n",
       "<circle clip-path=\"url(#clip262)\" cx=\"1390.39\" cy=\"214.803\" r=\"14\" fill=\"#c271d2\" fill-rule=\"evenodd\" fill-opacity=\"1\" stroke=\"#000000\" stroke-opacity=\"1\" stroke-width=\"3.2\"/>\n",
       "<circle clip-path=\"url(#clip262)\" cx=\"1459.77\" cy=\"160.256\" r=\"14\" fill=\"#c271d2\" fill-rule=\"evenodd\" fill-opacity=\"1\" stroke=\"#000000\" stroke-opacity=\"1\" stroke-width=\"3.2\"/>\n",
       "<circle clip-path=\"url(#clip262)\" cx=\"1529.16\" cy=\"169.609\" r=\"14\" fill=\"#c271d2\" fill-rule=\"evenodd\" fill-opacity=\"1\" stroke=\"#000000\" stroke-opacity=\"1\" stroke-width=\"3.2\"/>\n",
       "<circle clip-path=\"url(#clip262)\" cx=\"1598.54\" cy=\"178.361\" r=\"14\" fill=\"#c271d2\" fill-rule=\"evenodd\" fill-opacity=\"1\" stroke=\"#000000\" stroke-opacity=\"1\" stroke-width=\"3.2\"/>\n",
       "<circle clip-path=\"url(#clip262)\" cx=\"1667.93\" cy=\"178.626\" r=\"14\" fill=\"#c271d2\" fill-rule=\"evenodd\" fill-opacity=\"1\" stroke=\"#000000\" stroke-opacity=\"1\" stroke-width=\"3.2\"/>\n",
       "<circle clip-path=\"url(#clip262)\" cx=\"1737.31\" cy=\"198.085\" r=\"14\" fill=\"#c271d2\" fill-rule=\"evenodd\" fill-opacity=\"1\" stroke=\"#000000\" stroke-opacity=\"1\" stroke-width=\"3.2\"/>\n",
       "<circle clip-path=\"url(#clip262)\" cx=\"1806.7\" cy=\"212.367\" r=\"14\" fill=\"#c271d2\" fill-rule=\"evenodd\" fill-opacity=\"1\" stroke=\"#000000\" stroke-opacity=\"1\" stroke-width=\"3.2\"/>\n",
       "<circle clip-path=\"url(#clip262)\" cx=\"1876.08\" cy=\"338.972\" r=\"14\" fill=\"#c271d2\" fill-rule=\"evenodd\" fill-opacity=\"1\" stroke=\"#000000\" stroke-opacity=\"1\" stroke-width=\"3.2\"/>\n",
       "<circle clip-path=\"url(#clip262)\" cx=\"1945.47\" cy=\"327.106\" r=\"14\" fill=\"#c271d2\" fill-rule=\"evenodd\" fill-opacity=\"1\" stroke=\"#000000\" stroke-opacity=\"1\" stroke-width=\"3.2\"/>\n",
       "<circle clip-path=\"url(#clip262)\" cx=\"2014.85\" cy=\"322.656\" r=\"14\" fill=\"#c271d2\" fill-rule=\"evenodd\" fill-opacity=\"1\" stroke=\"#000000\" stroke-opacity=\"1\" stroke-width=\"3.2\"/>\n",
       "<circle clip-path=\"url(#clip262)\" cx=\"2084.24\" cy=\"389.404\" r=\"14\" fill=\"#c271d2\" fill-rule=\"evenodd\" fill-opacity=\"1\" stroke=\"#000000\" stroke-opacity=\"1\" stroke-width=\"3.2\"/>\n",
       "<circle clip-path=\"url(#clip262)\" cx=\"2153.62\" cy=\"482.851\" r=\"14\" fill=\"#c271d2\" fill-rule=\"evenodd\" fill-opacity=\"1\" stroke=\"#000000\" stroke-opacity=\"1\" stroke-width=\"3.2\"/>\n",
       "<circle clip-path=\"url(#clip262)\" cx=\"2223.01\" cy=\"472.468\" r=\"14\" fill=\"#c271d2\" fill-rule=\"evenodd\" fill-opacity=\"1\" stroke=\"#000000\" stroke-opacity=\"1\" stroke-width=\"3.2\"/>\n",
       "<circle clip-path=\"url(#clip262)\" cx=\"2292.39\" cy=\"601.515\" r=\"14\" fill=\"#c271d2\" fill-rule=\"evenodd\" fill-opacity=\"1\" stroke=\"#000000\" stroke-opacity=\"1\" stroke-width=\"3.2\"/>\n",
       "<circle clip-path=\"url(#clip262)\" cx=\"280.231\" cy=\"1307.89\" r=\"14\" fill=\"#ac8d18\" fill-rule=\"evenodd\" fill-opacity=\"1\" stroke=\"#000000\" stroke-opacity=\"1\" stroke-width=\"3.2\"/>\n",
       "<circle clip-path=\"url(#clip262)\" cx=\"349.616\" cy=\"1319.72\" r=\"14\" fill=\"#ac8d18\" fill-rule=\"evenodd\" fill-opacity=\"1\" stroke=\"#000000\" stroke-opacity=\"1\" stroke-width=\"3.2\"/>\n",
       "<circle clip-path=\"url(#clip262)\" cx=\"419.001\" cy=\"1260.44\" r=\"14\" fill=\"#ac8d18\" fill-rule=\"evenodd\" fill-opacity=\"1\" stroke=\"#000000\" stroke-opacity=\"1\" stroke-width=\"3.2\"/>\n",
       "<circle clip-path=\"url(#clip262)\" cx=\"488.386\" cy=\"1162.59\" r=\"14\" fill=\"#ac8d18\" fill-rule=\"evenodd\" fill-opacity=\"1\" stroke=\"#000000\" stroke-opacity=\"1\" stroke-width=\"3.2\"/>\n",
       "<circle clip-path=\"url(#clip262)\" cx=\"557.77\" cy=\"1124.93\" r=\"14\" fill=\"#ac8d18\" fill-rule=\"evenodd\" fill-opacity=\"1\" stroke=\"#000000\" stroke-opacity=\"1\" stroke-width=\"3.2\"/>\n",
       "<circle clip-path=\"url(#clip262)\" cx=\"627.155\" cy=\"1065.9\" r=\"14\" fill=\"#ac8d18\" fill-rule=\"evenodd\" fill-opacity=\"1\" stroke=\"#000000\" stroke-opacity=\"1\" stroke-width=\"3.2\"/>\n",
       "<circle clip-path=\"url(#clip262)\" cx=\"696.54\" cy=\"1009.35\" r=\"14\" fill=\"#ac8d18\" fill-rule=\"evenodd\" fill-opacity=\"1\" stroke=\"#000000\" stroke-opacity=\"1\" stroke-width=\"3.2\"/>\n",
       "<circle clip-path=\"url(#clip262)\" cx=\"765.925\" cy=\"927.437\" r=\"14\" fill=\"#ac8d18\" fill-rule=\"evenodd\" fill-opacity=\"1\" stroke=\"#000000\" stroke-opacity=\"1\" stroke-width=\"3.2\"/>\n",
       "<circle clip-path=\"url(#clip262)\" cx=\"835.31\" cy=\"921.937\" r=\"14\" fill=\"#ac8d18\" fill-rule=\"evenodd\" fill-opacity=\"1\" stroke=\"#000000\" stroke-opacity=\"1\" stroke-width=\"3.2\"/>\n",
       "<circle clip-path=\"url(#clip262)\" cx=\"904.695\" cy=\"885.987\" r=\"14\" fill=\"#ac8d18\" fill-rule=\"evenodd\" fill-opacity=\"1\" stroke=\"#000000\" stroke-opacity=\"1\" stroke-width=\"3.2\"/>\n",
       "<circle clip-path=\"url(#clip262)\" cx=\"974.079\" cy=\"776.709\" r=\"14\" fill=\"#ac8d18\" fill-rule=\"evenodd\" fill-opacity=\"1\" stroke=\"#000000\" stroke-opacity=\"1\" stroke-width=\"3.2\"/>\n",
       "<circle clip-path=\"url(#clip262)\" cx=\"1043.46\" cy=\"705.909\" r=\"14\" fill=\"#ac8d18\" fill-rule=\"evenodd\" fill-opacity=\"1\" stroke=\"#000000\" stroke-opacity=\"1\" stroke-width=\"3.2\"/>\n",
       "<circle clip-path=\"url(#clip262)\" cx=\"1112.85\" cy=\"585.213\" r=\"14\" fill=\"#ac8d18\" fill-rule=\"evenodd\" fill-opacity=\"1\" stroke=\"#000000\" stroke-opacity=\"1\" stroke-width=\"3.2\"/>\n",
       "<circle clip-path=\"url(#clip262)\" cx=\"1182.23\" cy=\"438.236\" r=\"14\" fill=\"#ac8d18\" fill-rule=\"evenodd\" fill-opacity=\"1\" stroke=\"#000000\" stroke-opacity=\"1\" stroke-width=\"3.2\"/>\n",
       "<circle clip-path=\"url(#clip262)\" cx=\"1251.62\" cy=\"343.005\" r=\"14\" fill=\"#ac8d18\" fill-rule=\"evenodd\" fill-opacity=\"1\" stroke=\"#000000\" stroke-opacity=\"1\" stroke-width=\"3.2\"/>\n",
       "<circle clip-path=\"url(#clip262)\" cx=\"1321\" cy=\"307.308\" r=\"14\" fill=\"#ac8d18\" fill-rule=\"evenodd\" fill-opacity=\"1\" stroke=\"#000000\" stroke-opacity=\"1\" stroke-width=\"3.2\"/>\n",
       "<circle clip-path=\"url(#clip262)\" cx=\"1390.39\" cy=\"292.942\" r=\"14\" fill=\"#ac8d18\" fill-rule=\"evenodd\" fill-opacity=\"1\" stroke=\"#000000\" stroke-opacity=\"1\" stroke-width=\"3.2\"/>\n",
       "<circle clip-path=\"url(#clip262)\" cx=\"1459.77\" cy=\"249.423\" r=\"14\" fill=\"#ac8d18\" fill-rule=\"evenodd\" fill-opacity=\"1\" stroke=\"#000000\" stroke-opacity=\"1\" stroke-width=\"3.2\"/>\n",
       "<circle clip-path=\"url(#clip262)\" cx=\"1529.16\" cy=\"252.425\" r=\"14\" fill=\"#ac8d18\" fill-rule=\"evenodd\" fill-opacity=\"1\" stroke=\"#000000\" stroke-opacity=\"1\" stroke-width=\"3.2\"/>\n",
       "<circle clip-path=\"url(#clip262)\" cx=\"1598.54\" cy=\"246.297\" r=\"14\" fill=\"#ac8d18\" fill-rule=\"evenodd\" fill-opacity=\"1\" stroke=\"#000000\" stroke-opacity=\"1\" stroke-width=\"3.2\"/>\n",
       "<circle clip-path=\"url(#clip262)\" cx=\"1667.93\" cy=\"241.591\" r=\"14\" fill=\"#ac8d18\" fill-rule=\"evenodd\" fill-opacity=\"1\" stroke=\"#000000\" stroke-opacity=\"1\" stroke-width=\"3.2\"/>\n",
       "<circle clip-path=\"url(#clip262)\" cx=\"1737.31\" cy=\"232.253\" r=\"14\" fill=\"#ac8d18\" fill-rule=\"evenodd\" fill-opacity=\"1\" stroke=\"#000000\" stroke-opacity=\"1\" stroke-width=\"3.2\"/>\n",
       "<circle clip-path=\"url(#clip262)\" cx=\"1806.7\" cy=\"237.119\" r=\"14\" fill=\"#ac8d18\" fill-rule=\"evenodd\" fill-opacity=\"1\" stroke=\"#000000\" stroke-opacity=\"1\" stroke-width=\"3.2\"/>\n",
       "<circle clip-path=\"url(#clip262)\" cx=\"1876.08\" cy=\"233.658\" r=\"14\" fill=\"#ac8d18\" fill-rule=\"evenodd\" fill-opacity=\"1\" stroke=\"#000000\" stroke-opacity=\"1\" stroke-width=\"3.2\"/>\n",
       "<circle clip-path=\"url(#clip262)\" cx=\"1945.47\" cy=\"233.658\" r=\"14\" fill=\"#ac8d18\" fill-rule=\"evenodd\" fill-opacity=\"1\" stroke=\"#000000\" stroke-opacity=\"1\" stroke-width=\"3.2\"/>\n",
       "<circle clip-path=\"url(#clip262)\" cx=\"2014.85\" cy=\"233.658\" r=\"14\" fill=\"#ac8d18\" fill-rule=\"evenodd\" fill-opacity=\"1\" stroke=\"#000000\" stroke-opacity=\"1\" stroke-width=\"3.2\"/>\n",
       "<circle clip-path=\"url(#clip262)\" cx=\"2084.24\" cy=\"233.658\" r=\"14\" fill=\"#ac8d18\" fill-rule=\"evenodd\" fill-opacity=\"1\" stroke=\"#000000\" stroke-opacity=\"1\" stroke-width=\"3.2\"/>\n",
       "<circle clip-path=\"url(#clip262)\" cx=\"2153.62\" cy=\"233.658\" r=\"14\" fill=\"#ac8d18\" fill-rule=\"evenodd\" fill-opacity=\"1\" stroke=\"#000000\" stroke-opacity=\"1\" stroke-width=\"3.2\"/>\n",
       "<circle clip-path=\"url(#clip262)\" cx=\"2223.01\" cy=\"233.658\" r=\"14\" fill=\"#ac8d18\" fill-rule=\"evenodd\" fill-opacity=\"1\" stroke=\"#000000\" stroke-opacity=\"1\" stroke-width=\"3.2\"/>\n",
       "<circle clip-path=\"url(#clip262)\" cx=\"2292.39\" cy=\"233.658\" r=\"14\" fill=\"#ac8d18\" fill-rule=\"evenodd\" fill-opacity=\"1\" stroke=\"#000000\" stroke-opacity=\"1\" stroke-width=\"3.2\"/>\n",
       "<path clip-path=\"url(#clip260)\" d=\"\n",
       "M290.963 1379.86 L748.273 1379.86 L748.273 1068.82 L290.963 1068.82  Z\n",
       "  \" fill=\"#ffffff\" fill-rule=\"evenodd\" fill-opacity=\"1\"/>\n",
       "<polyline clip-path=\"url(#clip260)\" style=\"stroke:#000000; stroke-linecap:butt; stroke-linejoin:round; stroke-width:4; stroke-opacity:1; fill:none\" points=\"\n",
       "  290.963,1379.86 748.273,1379.86 748.273,1068.82 290.963,1068.82 290.963,1379.86 \n",
       "  \"/>\n",
       "<polyline clip-path=\"url(#clip260)\" style=\"stroke:#009af9; stroke-linecap:butt; stroke-linejoin:round; stroke-width:4; stroke-opacity:1; fill:none\" points=\"\n",
       "  314.661,1120.66 456.854,1120.66 \n",
       "  \"/>\n",
       "<path clip-path=\"url(#clip260)\" d=\"M496.386 1107.98 L490.043 1125.18 L502.752 1125.18 L496.386 1107.98 M493.747 1103.38 L499.048 1103.38 L512.219 1137.94 L507.358 1137.94 L504.21 1129.07 L488.631 1129.07 L485.483 1137.94 L480.553 1137.94 L493.747 1103.38 Z\" fill=\"#000000\" fill-rule=\"evenodd\" fill-opacity=\"1\" /><path clip-path=\"url(#clip260)\" d=\"M516.733 1103.38 L521.432 1103.38 L521.432 1124.37 Q521.432 1129.93 523.446 1132.38 Q525.46 1134.81 529.974 1134.81 Q534.465 1134.81 536.478 1132.38 Q538.492 1129.93 538.492 1124.37 L538.492 1103.38 L543.191 1103.38 L543.191 1124.95 Q543.191 1131.71 539.835 1135.16 Q536.502 1138.61 529.974 1138.61 Q523.423 1138.61 520.066 1135.16 Q516.733 1131.71 516.733 1124.95 L516.733 1103.38 Z\" fill=\"#000000\" fill-rule=\"evenodd\" fill-opacity=\"1\" /><path clip-path=\"url(#clip260)\" d=\"M577.844 1106.04 L577.844 1110.97 Q575.483 1108.77 572.798 1107.68 Q570.136 1106.59 567.126 1106.59 Q561.2 1106.59 558.052 1110.23 Q554.904 1113.84 554.904 1120.69 Q554.904 1127.52 558.052 1131.15 Q561.2 1134.76 567.126 1134.76 Q570.136 1134.76 572.798 1133.68 Q575.483 1132.59 577.844 1130.39 L577.844 1135.27 Q575.39 1136.94 572.636 1137.77 Q569.904 1138.61 566.849 1138.61 Q559.001 1138.61 554.488 1133.82 Q549.974 1129 549.974 1120.69 Q549.974 1112.36 554.488 1107.57 Q559.001 1102.75 566.849 1102.75 Q569.95 1102.75 572.682 1103.58 Q575.437 1104.39 577.844 1106.04 Z\" fill=\"#000000\" fill-rule=\"evenodd\" fill-opacity=\"1\" /><path clip-path=\"url(#clip260)\" d=\"M596.663 1124.9 Q591.501 1124.9 589.511 1126.08 Q587.52 1127.27 587.52 1130.11 Q587.52 1132.38 589.001 1133.72 Q590.506 1135.04 593.075 1135.04 Q596.617 1135.04 598.747 1132.54 Q600.899 1130.02 600.899 1125.85 L600.899 1124.9 L596.663 1124.9 M605.159 1123.14 L605.159 1137.94 L600.899 1137.94 L600.899 1134 Q599.441 1136.36 597.265 1137.5 Q595.089 1138.61 591.941 1138.61 Q587.96 1138.61 585.599 1136.39 Q583.261 1134.14 583.261 1130.39 Q583.261 1126.02 586.177 1123.79 Q589.117 1121.57 594.927 1121.57 L600.899 1121.57 L600.899 1121.15 Q600.899 1118.21 598.955 1116.62 Q597.034 1115 593.538 1115 Q591.316 1115 589.21 1115.53 Q587.103 1116.06 585.159 1117.13 L585.159 1113.19 Q587.497 1112.29 589.696 1111.85 Q591.895 1111.39 593.978 1111.39 Q599.603 1111.39 602.381 1114.3 Q605.159 1117.22 605.159 1123.14 Z\" fill=\"#000000\" fill-rule=\"evenodd\" fill-opacity=\"1\" /><path clip-path=\"url(#clip260)\" d=\"M613.492 1127.7 L613.492 1112.01 L617.751 1112.01 L617.751 1127.54 Q617.751 1131.22 619.186 1133.08 Q620.621 1134.9 623.492 1134.9 Q626.941 1134.9 628.932 1132.7 Q630.945 1130.51 630.945 1126.71 L630.945 1112.01 L635.205 1112.01 L635.205 1137.94 L630.945 1137.94 L630.945 1133.95 Q629.395 1136.32 627.334 1137.47 Q625.297 1138.61 622.589 1138.61 Q618.121 1138.61 615.807 1135.83 Q613.492 1133.05 613.492 1127.7 M624.209 1111.39 L624.209 1111.39 Z\" fill=\"#000000\" fill-rule=\"evenodd\" fill-opacity=\"1\" /><circle clip-path=\"url(#clip260)\" cx=\"385.758\" cy=\"1172.5\" r=\"23\" fill=\"#e26f46\" fill-rule=\"evenodd\" fill-opacity=\"1\" stroke=\"#000000\" stroke-opacity=\"1\" stroke-width=\"5.12\"/>\n",
       "<path clip-path=\"url(#clip260)\" d=\"M496.386 1159.82 L490.043 1177.02 L502.752 1177.02 L496.386 1159.82 M493.747 1155.22 L499.048 1155.22 L512.219 1189.78 L507.358 1189.78 L504.21 1180.91 L488.631 1180.91 L485.483 1189.78 L480.553 1189.78 L493.747 1155.22 Z\" fill=\"#000000\" fill-rule=\"evenodd\" fill-opacity=\"1\" /><path clip-path=\"url(#clip260)\" d=\"M516.733 1155.22 L521.432 1155.22 L521.432 1176.21 Q521.432 1181.77 523.446 1184.22 Q525.46 1186.65 529.974 1186.65 Q534.465 1186.65 536.478 1184.22 Q538.492 1181.77 538.492 1176.21 L538.492 1155.22 L543.191 1155.22 L543.191 1176.79 Q543.191 1183.55 539.835 1187 Q536.502 1190.45 529.974 1190.45 Q523.423 1190.45 520.066 1187 Q516.733 1183.55 516.733 1176.79 L516.733 1155.22 Z\" fill=\"#000000\" fill-rule=\"evenodd\" fill-opacity=\"1\" /><path clip-path=\"url(#clip260)\" d=\"M572.682 1156.35 L572.682 1160.91 Q570.02 1159.64 567.659 1159.01 Q565.298 1158.39 563.099 1158.39 Q559.279 1158.39 557.196 1159.87 Q555.136 1161.35 555.136 1164.08 Q555.136 1166.37 556.501 1167.55 Q557.89 1168.71 561.733 1169.43 L564.557 1170.01 Q569.788 1171 572.265 1173.53 Q574.765 1176.03 574.765 1180.24 Q574.765 1185.26 571.386 1187.85 Q568.029 1190.45 561.525 1190.45 Q559.071 1190.45 556.293 1189.89 Q553.538 1189.34 550.576 1188.25 L550.576 1183.43 Q553.423 1185.03 556.154 1185.84 Q558.886 1186.65 561.525 1186.65 Q565.529 1186.65 567.705 1185.08 Q569.881 1183.5 569.881 1180.59 Q569.881 1178.04 568.307 1176.61 Q566.756 1175.17 563.191 1174.45 L560.344 1173.9 Q555.113 1172.86 552.775 1170.63 Q550.437 1168.41 550.437 1164.45 Q550.437 1159.87 553.654 1157.23 Q556.895 1154.59 562.566 1154.59 Q564.997 1154.59 567.52 1155.03 Q570.043 1155.47 572.682 1156.35 Z\" fill=\"#000000\" fill-rule=\"evenodd\" fill-opacity=\"1\" /><path clip-path=\"url(#clip260)\" d=\"M591.918 1166.84 Q588.492 1166.84 586.501 1169.52 Q584.511 1172.18 584.511 1176.84 Q584.511 1181.49 586.478 1184.17 Q588.469 1186.84 591.918 1186.84 Q595.321 1186.84 597.311 1184.15 Q599.302 1181.47 599.302 1176.84 Q599.302 1172.23 597.311 1169.54 Q595.321 1166.84 591.918 1166.84 M591.918 1163.23 Q597.473 1163.23 600.645 1166.84 Q603.816 1170.45 603.816 1176.84 Q603.816 1183.2 600.645 1186.84 Q597.473 1190.45 591.918 1190.45 Q586.339 1190.45 583.168 1186.84 Q580.02 1183.2 580.02 1176.84 Q580.02 1170.45 583.168 1166.84 Q586.339 1163.23 591.918 1163.23 Z\" fill=\"#000000\" fill-rule=\"evenodd\" fill-opacity=\"1\" /><path clip-path=\"url(#clip260)\" d=\"M624.001 1153.76 L624.001 1157.3 L619.927 1157.3 Q617.635 1157.3 616.733 1158.23 Q615.853 1159.15 615.853 1161.56 L615.853 1163.85 L622.867 1163.85 L622.867 1167.16 L615.853 1167.16 L615.853 1189.78 L611.571 1189.78 L611.571 1167.16 L607.497 1167.16 L607.497 1163.85 L611.571 1163.85 L611.571 1162.04 Q611.571 1157.72 613.584 1155.75 Q615.598 1153.76 619.973 1153.76 L624.001 1153.76 Z\" fill=\"#000000\" fill-rule=\"evenodd\" fill-opacity=\"1\" /><path clip-path=\"url(#clip260)\" d=\"M630.945 1156.49 L630.945 1163.85 L639.719 1163.85 L639.719 1167.16 L630.945 1167.16 L630.945 1181.23 Q630.945 1184.41 631.802 1185.31 Q632.682 1186.21 635.344 1186.21 L639.719 1186.21 L639.719 1189.78 L635.344 1189.78 Q630.413 1189.78 628.538 1187.95 Q626.663 1186.1 626.663 1181.23 L626.663 1167.16 L623.538 1167.16 L623.538 1163.85 L626.663 1163.85 L626.663 1156.49 L630.945 1156.49 Z\" fill=\"#000000\" fill-rule=\"evenodd\" fill-opacity=\"1\" /><circle clip-path=\"url(#clip260)\" cx=\"385.758\" cy=\"1224.34\" r=\"23\" fill=\"#3da44d\" fill-rule=\"evenodd\" fill-opacity=\"1\" stroke=\"#000000\" stroke-opacity=\"1\" stroke-width=\"5.12\"/>\n",
       "<path clip-path=\"url(#clip260)\" d=\"M496.386 1211.66 L490.043 1228.86 L502.752 1228.86 L496.386 1211.66 M493.747 1207.06 L499.048 1207.06 L512.219 1241.62 L507.358 1241.62 L504.21 1232.75 L488.631 1232.75 L485.483 1241.62 L480.553 1241.62 L493.747 1207.06 Z\" fill=\"#000000\" fill-rule=\"evenodd\" fill-opacity=\"1\" /><path clip-path=\"url(#clip260)\" d=\"M516.733 1207.06 L521.432 1207.06 L521.432 1228.05 Q521.432 1233.61 523.446 1236.06 Q525.46 1238.49 529.974 1238.49 Q534.465 1238.49 536.478 1236.06 Q538.492 1233.61 538.492 1228.05 L538.492 1207.06 L543.191 1207.06 L543.191 1228.63 Q543.191 1235.39 539.835 1238.84 Q536.502 1242.29 529.974 1242.29 Q523.423 1242.29 520.066 1238.84 Q516.733 1235.39 516.733 1228.63 L516.733 1207.06 Z\" fill=\"#000000\" fill-rule=\"evenodd\" fill-opacity=\"1\" /><path clip-path=\"url(#clip260)\" d=\"M551.964 1207.06 L571.825 1207.06 L571.825 1210.99 L556.64 1210.99 L556.64 1221.18 L570.344 1221.18 L570.344 1225.11 L556.64 1225.11 L556.64 1241.62 L551.964 1241.62 L551.964 1207.06 Z\" fill=\"#000000\" fill-rule=\"evenodd\" fill-opacity=\"1\" /><path clip-path=\"url(#clip260)\" d=\"M590.622 1219.67 Q589.904 1219.26 589.048 1219.07 Q588.214 1218.86 587.196 1218.86 Q583.585 1218.86 581.64 1221.22 Q579.719 1223.56 579.719 1227.96 L579.719 1241.62 L575.437 1241.62 L575.437 1215.69 L579.719 1215.69 L579.719 1219.72 Q581.061 1217.36 583.214 1216.22 Q585.367 1215.07 588.446 1215.07 Q588.886 1215.07 589.418 1215.13 Q589.95 1215.18 590.598 1215.3 L590.622 1219.67 Z\" fill=\"#000000\" fill-rule=\"evenodd\" fill-opacity=\"1\" /><path clip-path=\"url(#clip260)\" d=\"M616.223 1227.59 L616.223 1229.67 L596.64 1229.67 Q596.918 1234.07 599.279 1236.38 Q601.663 1238.68 605.899 1238.68 Q608.353 1238.68 610.645 1238.07 Q612.959 1237.47 615.228 1236.27 L615.228 1240.3 Q612.936 1241.27 610.529 1241.78 Q608.122 1242.29 605.645 1242.29 Q599.441 1242.29 595.807 1238.68 Q592.196 1235.07 592.196 1228.91 Q592.196 1222.54 595.622 1218.82 Q599.071 1215.07 604.904 1215.07 Q610.135 1215.07 613.168 1218.45 Q616.223 1221.8 616.223 1227.59 M611.964 1226.34 Q611.918 1222.84 609.997 1220.76 Q608.098 1218.68 604.95 1218.68 Q601.385 1218.68 599.233 1220.69 Q597.103 1222.7 596.779 1226.36 L611.964 1226.34 Z\" fill=\"#000000\" fill-rule=\"evenodd\" fill-opacity=\"1\" /><path clip-path=\"url(#clip260)\" d=\"M644.765 1225.97 L644.765 1241.62 L640.506 1241.62 L640.506 1226.11 Q640.506 1222.43 639.07 1220.6 Q637.635 1218.77 634.765 1218.77 Q631.316 1218.77 629.325 1220.97 Q627.334 1223.17 627.334 1226.96 L627.334 1241.62 L623.052 1241.62 L623.052 1215.69 L627.334 1215.69 L627.334 1219.72 Q628.862 1217.38 630.922 1216.22 Q633.006 1215.07 635.714 1215.07 Q640.182 1215.07 642.473 1217.84 Q644.765 1220.6 644.765 1225.97 Z\" fill=\"#000000\" fill-rule=\"evenodd\" fill-opacity=\"1\" /><path clip-path=\"url(#clip260)\" d=\"M671.917 1216.69 L671.917 1220.67 Q670.112 1219.67 668.283 1219.19 Q666.478 1218.68 664.626 1218.68 Q660.482 1218.68 658.191 1221.32 Q655.899 1223.93 655.899 1228.68 Q655.899 1233.42 658.191 1236.06 Q660.482 1238.68 664.626 1238.68 Q666.478 1238.68 668.283 1238.19 Q670.112 1237.68 671.917 1236.69 L671.917 1240.62 Q670.135 1241.45 668.214 1241.87 Q666.316 1242.29 664.163 1242.29 Q658.306 1242.29 654.857 1238.61 Q651.408 1234.93 651.408 1228.68 Q651.408 1222.33 654.881 1218.7 Q658.376 1215.07 664.441 1215.07 Q666.408 1215.07 668.283 1215.48 Q670.158 1215.88 671.917 1216.69 Z\" fill=\"#000000\" fill-rule=\"evenodd\" fill-opacity=\"1\" /><path clip-path=\"url(#clip260)\" d=\"M700.876 1225.97 L700.876 1241.62 L696.616 1241.62 L696.616 1226.11 Q696.616 1222.43 695.181 1220.6 Q693.746 1218.77 690.876 1218.77 Q687.427 1218.77 685.436 1220.97 Q683.445 1223.17 683.445 1226.96 L683.445 1241.62 L679.163 1241.62 L679.163 1205.6 L683.445 1205.6 L683.445 1219.72 Q684.973 1217.38 687.033 1216.22 Q689.116 1215.07 691.825 1215.07 Q696.292 1215.07 698.584 1217.84 Q700.876 1220.6 700.876 1225.97 Z\" fill=\"#000000\" fill-rule=\"evenodd\" fill-opacity=\"1\" /><circle clip-path=\"url(#clip260)\" cx=\"385.758\" cy=\"1276.18\" r=\"23\" fill=\"#c271d2\" fill-rule=\"evenodd\" fill-opacity=\"1\" stroke=\"#000000\" stroke-opacity=\"1\" stroke-width=\"5.12\"/>\n",
       "<path clip-path=\"url(#clip260)\" d=\"M496.386 1263.5 L490.043 1280.7 L502.752 1280.7 L496.386 1263.5 M493.747 1258.9 L499.048 1258.9 L512.219 1293.46 L507.358 1293.46 L504.21 1284.59 L488.631 1284.59 L485.483 1293.46 L480.553 1293.46 L493.747 1258.9 Z\" fill=\"#000000\" fill-rule=\"evenodd\" fill-opacity=\"1\" /><path clip-path=\"url(#clip260)\" d=\"M516.733 1258.9 L521.432 1258.9 L521.432 1279.89 Q521.432 1285.45 523.446 1287.9 Q525.46 1290.33 529.974 1290.33 Q534.465 1290.33 536.478 1287.9 Q538.492 1285.45 538.492 1279.89 L538.492 1258.9 L543.191 1258.9 L543.191 1280.47 Q543.191 1287.23 539.835 1290.68 Q536.502 1294.13 529.974 1294.13 Q523.423 1294.13 520.066 1290.68 Q516.733 1287.23 516.733 1280.47 L516.733 1258.9 Z\" fill=\"#000000\" fill-rule=\"evenodd\" fill-opacity=\"1\" /><path clip-path=\"url(#clip260)\" d=\"M551.964 1258.9 L558.932 1258.9 L567.751 1282.41 L576.617 1258.9 L583.585 1258.9 L583.585 1293.46 L579.024 1293.46 L579.024 1263.11 L570.112 1286.81 L565.413 1286.81 L556.501 1263.11 L556.501 1293.46 L551.964 1293.46 L551.964 1258.9 Z\" fill=\"#000000\" fill-rule=\"evenodd\" fill-opacity=\"1\" /><path clip-path=\"url(#clip260)\" d=\"M592.867 1258.9 L597.543 1258.9 L597.543 1273.06 L614.534 1273.06 L614.534 1258.9 L619.209 1258.9 L619.209 1293.46 L614.534 1293.46 L614.534 1277 L597.543 1277 L597.543 1293.46 L592.867 1293.46 L592.867 1258.9 Z\" fill=\"#000000\" fill-rule=\"evenodd\" fill-opacity=\"1\" /><circle clip-path=\"url(#clip260)\" cx=\"385.758\" cy=\"1328.02\" r=\"23\" fill=\"#ac8d18\" fill-rule=\"evenodd\" fill-opacity=\"1\" stroke=\"#000000\" stroke-opacity=\"1\" stroke-width=\"5.12\"/>\n",
       "<path clip-path=\"url(#clip260)\" d=\"M496.386 1315.34 L490.043 1332.54 L502.752 1332.54 L496.386 1315.34 M493.747 1310.74 L499.048 1310.74 L512.219 1345.3 L507.358 1345.3 L504.21 1336.43 L488.631 1336.43 L485.483 1345.3 L480.553 1345.3 L493.747 1310.74 Z\" fill=\"#000000\" fill-rule=\"evenodd\" fill-opacity=\"1\" /><path clip-path=\"url(#clip260)\" d=\"M516.733 1310.74 L521.432 1310.74 L521.432 1331.73 Q521.432 1337.29 523.446 1339.74 Q525.46 1342.17 529.974 1342.17 Q534.465 1342.17 536.478 1339.74 Q538.492 1337.29 538.492 1331.73 L538.492 1310.74 L543.191 1310.74 L543.191 1332.31 Q543.191 1339.07 539.835 1342.52 Q536.502 1345.97 529.974 1345.97 Q523.423 1345.97 520.066 1342.52 Q516.733 1339.07 516.733 1332.31 L516.733 1310.74 Z\" fill=\"#000000\" fill-rule=\"evenodd\" fill-opacity=\"1\" /><path clip-path=\"url(#clip260)\" d=\"M568.307 1320.13 L568.307 1324.16 Q566.501 1323.24 564.557 1322.77 Q562.613 1322.31 560.529 1322.31 Q557.358 1322.31 555.761 1323.28 Q554.187 1324.25 554.187 1326.2 Q554.187 1327.68 555.321 1328.54 Q556.455 1329.37 559.881 1330.13 L561.339 1330.46 Q565.876 1331.43 567.775 1333.21 Q569.696 1334.97 569.696 1338.14 Q569.696 1341.75 566.825 1343.86 Q563.978 1345.97 558.978 1345.97 Q556.895 1345.97 554.626 1345.55 Q552.381 1345.16 549.881 1344.35 L549.881 1339.95 Q552.242 1341.18 554.534 1341.8 Q556.826 1342.4 559.071 1342.4 Q562.08 1342.4 563.7 1341.38 Q565.321 1340.34 565.321 1338.47 Q565.321 1336.73 564.14 1335.81 Q562.983 1334.88 559.025 1334.02 L557.543 1333.68 Q553.585 1332.84 551.826 1331.13 Q550.066 1329.39 550.066 1326.38 Q550.066 1322.73 552.659 1320.74 Q555.251 1318.75 560.02 1318.75 Q562.381 1318.75 564.464 1319.09 Q566.548 1319.44 568.307 1320.13 Z\" fill=\"#000000\" fill-rule=\"evenodd\" fill-opacity=\"1\" /><path clip-path=\"url(#clip260)\" d=\"M576.478 1319.37 L580.737 1319.37 L580.737 1345.3 L576.478 1345.3 L576.478 1319.37 M576.478 1309.28 L580.737 1309.28 L580.737 1314.67 L576.478 1314.67 L576.478 1309.28 Z\" fill=\"#000000\" fill-rule=\"evenodd\" fill-opacity=\"1\" /><path clip-path=\"url(#clip260)\" d=\"M608.26 1332.36 Q608.26 1327.66 606.316 1325 Q604.395 1322.31 601.015 1322.31 Q597.635 1322.31 595.691 1325 Q593.77 1327.66 593.77 1332.36 Q593.77 1337.06 595.691 1339.74 Q597.635 1342.4 601.015 1342.4 Q604.395 1342.4 606.316 1339.74 Q608.26 1337.06 608.26 1332.36 M593.77 1323.31 Q595.112 1320.99 597.149 1319.88 Q599.21 1318.75 602.057 1318.75 Q606.779 1318.75 609.719 1322.5 Q612.682 1326.25 612.682 1332.36 Q612.682 1338.47 609.719 1342.22 Q606.779 1345.97 602.057 1345.97 Q599.21 1345.97 597.149 1344.86 Q595.112 1343.72 593.77 1341.41 L593.77 1345.3 L589.487 1345.3 L589.487 1309.28 L593.77 1309.28 L593.77 1323.31 Z\" fill=\"#000000\" fill-rule=\"evenodd\" fill-opacity=\"1\" /></svg>\n"
      ]
     },
     "execution_count": 89,
     "metadata": {},
     "output_type": "execute_result"
    }
   ],
   "source": [
    "#AUROC curves\n",
    "\n",
    "T = Int(T)\n",
    "AU_curve=zeros(T)\n",
    "AU_sib=zeros(T)\n",
    "AU_french = zeros(T)\n",
    "AU_soft = zeros(T)\n",
    "AU_MH = zeros(T)\n",
    "for t = 1:T\n",
    "    cau_risk=zeros(N)\n",
    "    sib_risk = zeros(N)\n",
    "    french_risk = zeros(N)\n",
    "    MH_risk = zeros(N)\n",
    "    soft_risk = zeros(N)\n",
    "    for i=1:N\n",
    "       cau_risk[i] = marginal(i,t,statscau)\n",
    "       french_risk[i] = marginal(i,t,statsfre)\n",
    "       MH_risk[i] = marginal(i,t,stats_mh)\n",
    "       sib_risk[i] = p_sib[i,Int(round(t/dt))]\n",
    "       soft_risk[i] = marginal(i,t,stats) \n",
    "    end\n",
    "    xt = xtrue .< t\n",
    "    AU_soft[t] = AUROC(ROC(xt, soft_risk))\n",
    "    AU_curve[t] = AUROC(ROC(xt, cau_risk))\n",
    "    AU_french[t] = AUROC(ROC(xt, french_risk))\n",
    "    AU_MH[t] = AUROC(ROC(xt, MH_risk))\n",
    "    AU_sib[t] = AUROC(ROC(xt, sib_risk))\n",
    "end\n",
    "plot(LinRange(1,T,T),AU_curve, label=\"AUCau\", title=\"Causality VS Sib AUROC in function of time\")\n",
    "scatter!(LinRange(1,T,T),AU_soft, label=\"AUSoft\",legend=:bottomleft)\n",
    "scatter!(LinRange(1,T,T),AU_french, label=\"AUFrench\")\n",
    "scatter!(LinRange(1,T,T),AU_MH, label=\"AUMH\")\n",
    "scatter!(LinRange(1,T,T), AU_sib, label=\"AUsib\")\n",
    "xlabel!(\"t\")\n",
    "ylabel!(\"AUROC\")\n",
    "#savefig(\"confronti.pdf\")\n",
    "#ylims!(0.5,1.01)"
   ]
  }
 ],
 "metadata": {
  "kernelspec": {
   "display_name": "Julia 1.7.0-rc2",
   "language": "julia",
   "name": "julia-1.7"
  },
  "language_info": {
   "file_extension": ".jl",
   "mimetype": "application/julia",
   "name": "julia",
   "version": "1.7.0"
  }
 },
 "nbformat": 4,
 "nbformat_minor": 4
}
