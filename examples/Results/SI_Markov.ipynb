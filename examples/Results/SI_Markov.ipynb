{
 "cells": [
  {
   "cell_type": "code",
   "execution_count": 1,
   "metadata": {},
   "outputs": [],
   "source": [
    "using SparseArrays, LinearAlgebra\n",
    "#using Pkg\n",
    "#Pkg.activ§ate(\"../\")\n",
    "using Causality"
   ]
  },
  {
   "cell_type": "markdown",
   "metadata": {},
   "source": [
    "# Generation of Epidemics"
   ]
  },
  {
   "cell_type": "code",
   "execution_count": 3,
   "metadata": {},
   "outputs": [
    {
     "data": {
      "text/plain": [
       "200×200 SparseMatrixCSC{IndexedGraphs.NullNumber, Int64} with 1284 stored entries:\n",
       "⠡⠂⠡⠄⠄⠁⠄⠁⠁⠠⠐⠈⠡⢀⠐⢀⠠⠀⡀⠀⢤⢢⠀⠀⠠⠸⠄⠂⠈⠆⠁⠄⠀⠘⠀⢃⠀⠄⢀⠰\n",
       "⠁⠆⢀⠐⠢⠆⢀⠀⠡⠂⠀⢂⠙⠀⠄⠀⠀⠀⠀⢬⠇⠡⡆⣐⠀⠀⠄⡁⠁⠈⠄⠂⠀⠉⡋⠁⠉⢌⠨⠐\n",
       "⠄⠁⠨⠆⢐⠐⠀⢀⠉⠄⠤⠤⠨⠀⠄⠈⠀⢀⠈⢊⡁⠤⡢⠐⡁⠄⠀⠌⢁⠈⠄⠁⠀⡀⠉⠈⠀⠂⢘⠨\n",
       "⠄⠁⠀⠐⠀⢀⠑⡠⠀⠈⠈⢠⠐⢈⢀⠀⢘⣀⠁⠐⠎⢄⠀⠂⠠⠤⠁⢠⠠⠄⢄⠀⡄⠂⠀⢄⡄⠀⣄⡀\n",
       "⠁⡀⠡⠂⠃⠄⡀⠀⠀⠀⡀⡤⠡⡂⣐⡓⢄⢁⡘⢀⢀⠐⡀⠆⡂⠀⠀⠉⢀⠄⠄⢄⢐⡈⠀⠘⠀⢒⠀⠠\n",
       "⡐⠀⠠⢀⠀⡇⠂⣀⠀⡬⢊⡰⢠⢔⠱⠀⣚⢘⠄⠢⠈⠃⠙⢀⠄⢃⠂⡀⢠⠁⣴⠠⡢⠆⠀⡀⠀⠠⠀⢠\n",
       "⠁⢂⠓⠀⠂⠂⡐⢀⠡⠢⢀⢖⠀⠀⠠⠀⢐⢒⡄⠠⠂⠀⣀⠄⠄⠀⡀⠁⠠⠀⢠⠢⡰⠎⠈⠀⠁⠠⠀⡐\n",
       "⠐⢀⠀⠁⡀⠁⠀⠐⢴⠸⠑⠂⠀⠂⠀⠀⡀⠬⢄⠒⢈⠑⠙⣂⡀⡃⠈⠐⠀⡀⡑⡐⠰⠀⠀⢀⠈⠰⢃⠁\n",
       "⠀⠂⠀⠀⠀⢀⠒⢰⠄⢑⣚⢘⢰⢐⡀⡌⢀⠐⠀⠀⣀⠀⡒⠁⠈⠁⠂⠀⠀⠡⢙⠁⡣⡀⠀⠠⢀⠀⣀⡀\n",
       "⠀⠈⡀⣄⡢⢀⢁⠀⠒⢈⠠⡁⠀⡉⢠⠑⠀⠀⠀⡠⡀⠀⠠⡰⡁⠄⠤⠂⣈⠀⢄⢂⢈⡑⣀⠐⠀⢈⢀⠀\n",
       "⠠⣓⠍⡁⠁⡌⠊⢅⢀⠐⠦⠀⠈⠀⢆⠐⠀⠘⠀⠈⠀⠀⠢⠁⠈⠤⠀⢀⠡⠁⠀⠁⠀⠡⠈⢄⠄⡀⡈⠈\n",
       "⠀⠀⢈⢩⢈⠊⠠⠀⠠⠌⠓⢀⠀⠜⠳⢠⠜⠈⢀⡢⠌⠂⠀⠀⡀⠆⢊⠀⠀⠄⠆⠤⠂⠂⡁⠀⠀⠡⠈⠅\n",
       "⣀⡂⠀⠀⠁⠌⠀⡆⠈⠈⠤⢁⠀⠁⠤⠨⠆⠀⠁⠌⠂⡄⠠⠌⠤⠃⠀⠀⢈⡆⡜⠐⠏⢁⠉⡌⡀⠈⠀⢐\n",
       "⠠⠁⠄⠡⡀⠄⠁⣀⡄⠀⠈⠠⠄⠈⢂⠀⠈⠀⠠⠃⠀⢀⠊⠐⠀⠀⠛⠀⠀⢠⠃⠠⡁⠠⠤⠀⠠⠡⡀⠀\n",
       "⠢⠄⡁⠀⡁⠐⠀⠆⠀⠔⠄⠒⠀⠂⠀⠠⠄⡀⠂⠘⠅⠂⠀⠄⠢⠴⠀⣀⡁⠌⠆⢌⢔⠃⢉⠂⢊⢘⠈⠠\n",
       "⠁⠄⠠⠁⠄⠁⠀⠑⠀⢅⠐⡛⠠⡒⢑⠨⠗⠐⠠⢑⠄⠀⠈⡅⢒⠉⠉⡀⡈⢅⢀⠐⠂⠠⢀⠁⢀⢐⠀⠨\n",
       "⣀⠀⡄⠀⠀⠠⠠⠉⡐⠰⠨⠎⡰⠎⠐⠂⠉⠪⢆⠰⠄⡀⠨⠀⠏⢁⠁⡈⠴⠑⠈⡀⠄⠁⠀⡀⠀⠐⢠⠀\n",
       "⠤⢀⠏⠈⡃⠀⠀⢄⣀⠀⠀⠠⠂⠀⠀⢀⠀⡀⢀⠘⠂⢄⠁⠈⡃⠤⠀⠃⠣⠐⠄⠐⠀⠠⡊⠈⠖⡐⢐⠂\n",
       "⠀⠄⡃⢄⠠⠀⠀⠉⢠⢀⠀⡀⠁⡀⢂⡀⠀⠐⡀⢀⠀⠡⠄⡀⡀⠈⠄⡂⣊⢐⢀⢐⢀⠀⢘⠡⢀⢐⠢⠃\n",
       "⢀⡐⢂⠂⡒⡐⠀⠹⠀⡀⠀⣀⢀⠠⠍⠐⠀⠸⠀⠐⡂⠈⠆⠄⢀⢀⠀⠈⠂⡀⡀⡀⠀⠒⠰⠐⠬⠂⠄⠁"
      ]
     },
     "execution_count": 3,
     "metadata": {},
     "output_type": "execute_result"
    }
   ],
   "source": [
    "T, N = 20.0, 200\n",
    "#G = Causality.makeBarabasi(N,k=2)\n",
    "#ρ = 3/N\n",
    "#G = Causality.makeGNP(N,ρ)\n",
    "G = Causality.makeProximity(N,2.2/N)\n",
    "G.A "
   ]
  },
  {
   "cell_type": "code",
   "execution_count": 4,
   "metadata": {},
   "outputs": [
    {
     "data": {
      "text/plain": [
       "getpargen (generic function with 1 method)"
      ]
     },
     "execution_count": 4,
     "metadata": {},
     "output_type": "execute_result"
    }
   ],
   "source": [
    "getpar(pseed,autoinf::GaussianRate,inf_in::GaussianRate) = \n",
    "    [fill(pseed, 1, N);\n",
    "     fill(autoinf.a, 1, N); fill(autoinf.b, 1, N); fill(autoinf.c, 1, N);\n",
    "     fill(inf_in.a,   1, N); fill(inf_in.b, 1, N); fill(inf_in.c, 1, N);\n",
    "    ]\n",
    "\n",
    "getpargen(pseed, autoinf::GaussianRate, inf_out::GaussianRate) = \n",
    "    [pseed autoinf.a autoinf.b autoinf.c inf_out.a inf_out.b inf_out.c]\n"
   ]
  },
  {
   "cell_type": "code",
   "execution_count": 5,
   "metadata": {},
   "outputs": [],
   "source": [
    "#Initialize generation parameters\n",
    "ε = 1e-10\n",
    "λ = 0.4\n",
    "pseed = 1/N\n",
    "autoinf = GaussianRate(ε, T/2, 1/ε)\n",
    "inf_in = GaussianRate(1.0, T/2, 1/ε)\n",
    "inf_out = GaussianRate(λ, T/2, 1/ε)\n",
    "\n",
    "θp = getpar(pseed, autoinf, inf_in);\n",
    "θpgen = getpargen(pseed, autoinf, inf_out);"
   ]
  },
  {
   "cell_type": "code",
   "execution_count": 6,
   "metadata": {},
   "outputs": [],
   "source": [
    "#Initialize min/max boundaies\n",
    "T = Float64(T)\n",
    "pseed_min = ε\n",
    "pseed_max = 1-ε\n",
    "rate_min = GaussianRate(ε  ,  -T,   ε)\n",
    "rate_max = GaussianRate(1/ε  ,  2T,   1/ε)\n",
    "\n",
    "θmin = getpar(pseed_min , rate_min, rate_min);\n",
    "θmax = getpar(pseed_max , rate_max, rate_max);\n",
    "\n",
    "rate_min = GaussianRate(ε  ,  -T,   ε)\n",
    "rate_max = GaussianRate(1/ε  ,  T,   T)\n",
    "\n",
    "θgenmin = getpargen(pseed_min, rate_min, rate_min);\n",
    "θgenmax = getpargen(pseed_max, rate_max, rate_max);"
   ]
  },
  {
   "cell_type": "code",
   "execution_count": 7,
   "metadata": {},
   "outputs": [
    {
     "data": {
      "text/plain": [
       "GaussianInferentialSI"
      ]
     },
     "execution_count": 7,
     "metadata": {},
     "output_type": "execute_result"
    }
   ],
   "source": [
    "const Igen = GenerativeSI{GaussianRate,GaussianRate} \n",
    "const Igauss = GaussianInferentialSI"
   ]
  },
  {
   "cell_type": "code",
   "execution_count": 8,
   "metadata": {},
   "outputs": [
    {
     "data": {
      "text/plain": [
       "0.945"
      ]
     },
     "execution_count": 8,
     "metadata": {},
     "output_type": "execute_result"
    }
   ],
   "source": [
    "Mp = StochasticModel(Igen, T, θp, G, θpgen);\n",
    "sample! = Sampler(Mp);\n",
    "xtrue = zeros(N)\n",
    "sample!(xtrue)\n",
    "nobs, p = Int(round(N/2)), 1e-5\n",
    "#nobs, p = N, 1e-5\n",
    "O = [(ti = T-1e-3; (i,xtrue[i] < ti,ti,p)) for i=1:nobs]\n",
    "sum(xtrue .< T)/N"
   ]
  },
  {
   "cell_type": "markdown",
   "metadata": {},
   "source": [
    "## Causality "
   ]
  },
  {
   "cell_type": "code",
   "execution_count": 9,
   "metadata": {},
   "outputs": [],
   "source": [
    "#Softened model\n",
    "T = Float64(T)\n",
    "ε = 2e-3\n",
    "autoinf = GaussianRate(ε, T/2, T);\n",
    "θp2gen = getpargen(pseed, autoinf, inf_out);\n",
    "inf_in = GaussianRate(1., T/2, 3*T );\n",
    "\n",
    "θp2 = getpar(pseed, autoinf, inf_in);\n",
    "Mp2 = StochasticModel(Igen, T, θp2, G, θp2gen);"
   ]
  },
  {
   "cell_type": "code",
   "execution_count": 10,
   "metadata": {},
   "outputs": [],
   "source": [
    "θ = getpar(pseed, autoinf, inf_in);\n",
    "autoinf = GaussianRate(0.1, T/2, T);\n",
    "M = StochasticModel(Igauss, T, θ, G, θp2gen);"
   ]
  },
  {
   "cell_type": "code",
   "execution_count": 11,
   "metadata": {
    "collapsed": true,
    "jupyter": {
     "outputs_hidden": true
    }
   },
   "outputs": [
    {
     "name": "stderr",
     "output_type": "stream",
     "text": [
      "\u001b[32mProgress:   5%|██                                       |  ETA: 0:02:06\u001b[39m\n",
      "\u001b[34m  F:  668.7741180199382\u001b[39m"
     ]
    },
    {
     "ename": "LoadError",
     "evalue": "TaskFailedException\n\n\u001b[91m    nested task error: \u001b[39mInterruptException:\n    Stacktrace:\n      [1] \u001b[0m\u001b[1mreshape\u001b[22m\n    \u001b[90m    @ \u001b[39m\u001b[90m./\u001b[39m\u001b[90m\u001b[4mreshapedarray.jl:51\u001b[24m\u001b[39m\u001b[90m [inlined]\u001b[39m\n      [2] \u001b[0m\u001b[1mreshape\u001b[22m\n    \u001b[90m    @ \u001b[39m\u001b[90m./\u001b[39m\u001b[90m\u001b[4mreshapedarray.jl:111\u001b[24m\u001b[39m\u001b[90m [inlined]\u001b[39m\n      [3] \u001b[0m\u001b[1mreshape\u001b[22m\n    \u001b[90m    @ \u001b[39m\u001b[90m./\u001b[39m\u001b[90m\u001b[4mreshapedarray.jl:141\u001b[24m\u001b[39m\u001b[90m [inlined]\u001b[39m\n      [4] \u001b[0m\u001b[1m_maybe_reshape_parent\u001b[22m\n    \u001b[90m    @ \u001b[39m\u001b[90m./\u001b[39m\u001b[90m\u001b[4msubarray.jl:124\u001b[24m\u001b[39m\u001b[90m [inlined]\u001b[39m\n      [5] \u001b[0m\u001b[1mview\u001b[22m\n    \u001b[90m    @ \u001b[39m\u001b[90m./\u001b[39m\u001b[90m\u001b[4msubarray.jl:178\u001b[24m\u001b[39m\u001b[90m [inlined]\u001b[39m\n      [6] \u001b[0m\u001b[1mmaybeview\u001b[22m\n    \u001b[90m    @ \u001b[39m\u001b[90m./\u001b[39m\u001b[90m\u001b[4mviews.jl:146\u001b[24m\u001b[39m\u001b[90m [inlined]\u001b[39m\n      [7] \u001b[0m\u001b[1mindividual\u001b[22m\u001b[0m\u001b[1m(\u001b[22m\u001b[90m#unused#\u001b[39m::\u001b[0mType\u001b[90m{GenerativeSI{GaussianRate, GaussianRate}}\u001b[39m, \u001b[90mθi\u001b[39m::\u001b[0mSubArray\u001b[90m{Float64, 1, Matrix{Float64}, Tuple{Base.Slice{Base.OneTo{Int64}}, Int64}, true}\u001b[39m, \u001b[90mθgen\u001b[39m::\u001b[0mMatrix\u001b[90m{Float64}\u001b[39m\u001b[0m\u001b[1m)\u001b[22m\n    \u001b[90m    @ \u001b[39m\u001b[35mCausality\u001b[39m \u001b[90m~/git/Causality/src/\u001b[39m\u001b[90m\u001b[4mstochasticmodel.jl:48\u001b[24m\u001b[39m\n      [8] \u001b[0m\u001b[1mindividual\u001b[22m\u001b[90m (repeats 3 times)\u001b[39m\n    \u001b[90m    @ \u001b[39m\u001b[90m~/git/Causality/src/\u001b[39m\u001b[90m\u001b[4mstochasticmodel.jl:51\u001b[24m\u001b[39m\u001b[90m [inlined]\u001b[39m\n      [9] \u001b[0m\u001b[1m(::Causality.var\"#5#6\"{Matrix{Float64}, StochasticModel{GenerativeSI{GaussianRate, GaussianRate}, IndexedGraphs.IndexedBiDiGraph{Int64}, Vector{UnitRate}}})\u001b[22m\u001b[0m\u001b[1m(\u001b[22m\u001b[90mi\u001b[39m::\u001b[0mInt64\u001b[0m\u001b[1m)\u001b[22m\n    \u001b[90m    @ \u001b[39m\u001b[35mCausality\u001b[39m \u001b[90m./\u001b[39m\u001b[90m\u001b[4mnone:0\u001b[24m\u001b[39m\n     [10] \u001b[0m\u001b[1mMappingRF\u001b[22m\n    \u001b[90m    @ \u001b[39m\u001b[90m./\u001b[39m\u001b[90m\u001b[4mreduce.jl:95\u001b[24m\u001b[39m\u001b[90m [inlined]\u001b[39m\n     [11] \u001b[0m\u001b[1m_foldl_impl\u001b[22m\n    \u001b[90m    @ \u001b[39m\u001b[90m./\u001b[39m\u001b[90m\u001b[4mreduce.jl:62\u001b[24m\u001b[39m\u001b[90m [inlined]\u001b[39m\n     [12] \u001b[0m\u001b[1mfoldl_impl\u001b[22m\n    \u001b[90m    @ \u001b[39m\u001b[90m./\u001b[39m\u001b[90m\u001b[4mreduce.jl:48\u001b[24m\u001b[39m\u001b[90m [inlined]\u001b[39m\n     [13] \u001b[0m\u001b[1mmapfoldl_impl\u001b[22m\n    \u001b[90m    @ \u001b[39m\u001b[90m./\u001b[39m\u001b[90m\u001b[4mreduce.jl:44\u001b[24m\u001b[39m\u001b[90m [inlined]\u001b[39m\n     [14] \u001b[0m\u001b[1m#mapfoldl#244\u001b[22m\n    \u001b[90m    @ \u001b[39m\u001b[90m./\u001b[39m\u001b[90m\u001b[4mreduce.jl:162\u001b[24m\u001b[39m\u001b[90m [inlined]\u001b[39m\n     [15] \u001b[0m\u001b[1m#mapreduce#248\u001b[22m\n    \u001b[90m    @ \u001b[39m\u001b[90m./\u001b[39m\u001b[90m\u001b[4mreduce.jl:289\u001b[24m\u001b[39m\u001b[90m [inlined]\u001b[39m\n     [16] \u001b[0m\u001b[1m#sum#251\u001b[22m\n    \u001b[90m    @ \u001b[39m\u001b[90m./\u001b[39m\u001b[90m\u001b[4mreduce.jl:503\u001b[24m\u001b[39m\u001b[90m [inlined]\u001b[39m\n     [17] \u001b[0m\u001b[1m#sum#252\u001b[22m\n    \u001b[90m    @ \u001b[39m\u001b[90m./\u001b[39m\u001b[90m\u001b[4mreduce.jl:532\u001b[24m\u001b[39m\u001b[90m [inlined]\u001b[39m\n     [18] \u001b[0m\u001b[1mlogQ\u001b[22m\n    \u001b[90m    @ \u001b[39m\u001b[90m~/git/Causality/src/\u001b[39m\u001b[90m\u001b[4mvariation.jl:9\u001b[24m\u001b[39m\u001b[90m [inlined]\u001b[39m\n     [19] \u001b[0m\u001b[1mmacro expansion\u001b[22m\n    \u001b[90m    @ \u001b[39m\u001b[90m~/git/Causality/src/\u001b[39m\u001b[90m\u001b[4mvariation.jl:53\u001b[24m\u001b[39m\u001b[90m [inlined]\u001b[39m\n     [20] \u001b[0m\u001b[1m(::Causality.var\"#12#threadsfor_fun#28\"{StochasticModel{GaussianInferentialSI, IndexedGraphs.IndexedBiDiGraph{Int64}, Vector{UnitRate}}, Int64, StochasticModel{GenerativeSI{GaussianRate, GaussianRate}, IndexedGraphs.IndexedBiDiGraph{Int64}, Vector{UnitRate}}, Vector{Tuple{Int64, Bool, Float64, Float64}}, Matrix{Float64}, Vector{Causality.var\"#sample!#43\"{StochasticModel{GaussianInferentialSI, IndexedGraphs.IndexedBiDiGraph{Int64}, Vector{UnitRate}}, TrackingHeaps.TrackingHeap{Int64, Float64, 2, TrackingHeaps.MinHeapOrder, TrackingHeaps.NoTrainingWheels}, BitVector, Int64}}, Vector{Float64}, Vector{Matrix{Float64}}, Vector{Matrix{Float64}}, Vector{Matrix{Float64}}, Vector{Matrix{Float64}}, Vector{Matrix{Float64}}, Int64, UnitRange{Int64}})\u001b[22m\u001b[0m\u001b[1m(\u001b[22m\u001b[90monethread\u001b[39m::\u001b[0mBool\u001b[0m\u001b[1m)\u001b[22m\n    \u001b[90m    @ \u001b[39m\u001b[35mCausality\u001b[39m \u001b[90m./\u001b[39m\u001b[90m\u001b[4mthreadingconstructs.jl:85\u001b[24m\u001b[39m\n     [21] \u001b[0m\u001b[1m(::Causality.var\"#12#threadsfor_fun#28\"{StochasticModel{GaussianInferentialSI, IndexedGraphs.IndexedBiDiGraph{Int64}, Vector{UnitRate}}, Int64, StochasticModel{GenerativeSI{GaussianRate, GaussianRate}, IndexedGraphs.IndexedBiDiGraph{Int64}, Vector{UnitRate}}, Vector{Tuple{Int64, Bool, Float64, Float64}}, Matrix{Float64}, Vector{Causality.var\"#sample!#43\"{StochasticModel{GaussianInferentialSI, IndexedGraphs.IndexedBiDiGraph{Int64}, Vector{UnitRate}}, TrackingHeaps.TrackingHeap{Int64, Float64, 2, TrackingHeaps.MinHeapOrder, TrackingHeaps.NoTrainingWheels}, BitVector, Int64}}, Vector{Float64}, Vector{Matrix{Float64}}, Vector{Matrix{Float64}}, Vector{Matrix{Float64}}, Vector{Matrix{Float64}}, Vector{Matrix{Float64}}, Int64, UnitRange{Int64}})\u001b[22m\u001b[0m\u001b[1m(\u001b[22m\u001b[0m\u001b[1m)\u001b[22m\n    \u001b[90m    @ \u001b[39m\u001b[35mCausality\u001b[39m \u001b[90m./\u001b[39m\u001b[90m\u001b[4mthreadingconstructs.jl:52\u001b[24m\u001b[39m",
     "output_type": "error",
     "traceback": [
      "TaskFailedException\n\n\u001b[91m    nested task error: \u001b[39mInterruptException:\n    Stacktrace:\n      [1] \u001b[0m\u001b[1mreshape\u001b[22m\n    \u001b[90m    @ \u001b[39m\u001b[90m./\u001b[39m\u001b[90m\u001b[4mreshapedarray.jl:51\u001b[24m\u001b[39m\u001b[90m [inlined]\u001b[39m\n      [2] \u001b[0m\u001b[1mreshape\u001b[22m\n    \u001b[90m    @ \u001b[39m\u001b[90m./\u001b[39m\u001b[90m\u001b[4mreshapedarray.jl:111\u001b[24m\u001b[39m\u001b[90m [inlined]\u001b[39m\n      [3] \u001b[0m\u001b[1mreshape\u001b[22m\n    \u001b[90m    @ \u001b[39m\u001b[90m./\u001b[39m\u001b[90m\u001b[4mreshapedarray.jl:141\u001b[24m\u001b[39m\u001b[90m [inlined]\u001b[39m\n      [4] \u001b[0m\u001b[1m_maybe_reshape_parent\u001b[22m\n    \u001b[90m    @ \u001b[39m\u001b[90m./\u001b[39m\u001b[90m\u001b[4msubarray.jl:124\u001b[24m\u001b[39m\u001b[90m [inlined]\u001b[39m\n      [5] \u001b[0m\u001b[1mview\u001b[22m\n    \u001b[90m    @ \u001b[39m\u001b[90m./\u001b[39m\u001b[90m\u001b[4msubarray.jl:178\u001b[24m\u001b[39m\u001b[90m [inlined]\u001b[39m\n      [6] \u001b[0m\u001b[1mmaybeview\u001b[22m\n    \u001b[90m    @ \u001b[39m\u001b[90m./\u001b[39m\u001b[90m\u001b[4mviews.jl:146\u001b[24m\u001b[39m\u001b[90m [inlined]\u001b[39m\n      [7] \u001b[0m\u001b[1mindividual\u001b[22m\u001b[0m\u001b[1m(\u001b[22m\u001b[90m#unused#\u001b[39m::\u001b[0mType\u001b[90m{GenerativeSI{GaussianRate, GaussianRate}}\u001b[39m, \u001b[90mθi\u001b[39m::\u001b[0mSubArray\u001b[90m{Float64, 1, Matrix{Float64}, Tuple{Base.Slice{Base.OneTo{Int64}}, Int64}, true}\u001b[39m, \u001b[90mθgen\u001b[39m::\u001b[0mMatrix\u001b[90m{Float64}\u001b[39m\u001b[0m\u001b[1m)\u001b[22m\n    \u001b[90m    @ \u001b[39m\u001b[35mCausality\u001b[39m \u001b[90m~/git/Causality/src/\u001b[39m\u001b[90m\u001b[4mstochasticmodel.jl:48\u001b[24m\u001b[39m\n      [8] \u001b[0m\u001b[1mindividual\u001b[22m\u001b[90m (repeats 3 times)\u001b[39m\n    \u001b[90m    @ \u001b[39m\u001b[90m~/git/Causality/src/\u001b[39m\u001b[90m\u001b[4mstochasticmodel.jl:51\u001b[24m\u001b[39m\u001b[90m [inlined]\u001b[39m\n      [9] \u001b[0m\u001b[1m(::Causality.var\"#5#6\"{Matrix{Float64}, StochasticModel{GenerativeSI{GaussianRate, GaussianRate}, IndexedGraphs.IndexedBiDiGraph{Int64}, Vector{UnitRate}}})\u001b[22m\u001b[0m\u001b[1m(\u001b[22m\u001b[90mi\u001b[39m::\u001b[0mInt64\u001b[0m\u001b[1m)\u001b[22m\n    \u001b[90m    @ \u001b[39m\u001b[35mCausality\u001b[39m \u001b[90m./\u001b[39m\u001b[90m\u001b[4mnone:0\u001b[24m\u001b[39m\n     [10] \u001b[0m\u001b[1mMappingRF\u001b[22m\n    \u001b[90m    @ \u001b[39m\u001b[90m./\u001b[39m\u001b[90m\u001b[4mreduce.jl:95\u001b[24m\u001b[39m\u001b[90m [inlined]\u001b[39m\n     [11] \u001b[0m\u001b[1m_foldl_impl\u001b[22m\n    \u001b[90m    @ \u001b[39m\u001b[90m./\u001b[39m\u001b[90m\u001b[4mreduce.jl:62\u001b[24m\u001b[39m\u001b[90m [inlined]\u001b[39m\n     [12] \u001b[0m\u001b[1mfoldl_impl\u001b[22m\n    \u001b[90m    @ \u001b[39m\u001b[90m./\u001b[39m\u001b[90m\u001b[4mreduce.jl:48\u001b[24m\u001b[39m\u001b[90m [inlined]\u001b[39m\n     [13] \u001b[0m\u001b[1mmapfoldl_impl\u001b[22m\n    \u001b[90m    @ \u001b[39m\u001b[90m./\u001b[39m\u001b[90m\u001b[4mreduce.jl:44\u001b[24m\u001b[39m\u001b[90m [inlined]\u001b[39m\n     [14] \u001b[0m\u001b[1m#mapfoldl#244\u001b[22m\n    \u001b[90m    @ \u001b[39m\u001b[90m./\u001b[39m\u001b[90m\u001b[4mreduce.jl:162\u001b[24m\u001b[39m\u001b[90m [inlined]\u001b[39m\n     [15] \u001b[0m\u001b[1m#mapreduce#248\u001b[22m\n    \u001b[90m    @ \u001b[39m\u001b[90m./\u001b[39m\u001b[90m\u001b[4mreduce.jl:289\u001b[24m\u001b[39m\u001b[90m [inlined]\u001b[39m\n     [16] \u001b[0m\u001b[1m#sum#251\u001b[22m\n    \u001b[90m    @ \u001b[39m\u001b[90m./\u001b[39m\u001b[90m\u001b[4mreduce.jl:503\u001b[24m\u001b[39m\u001b[90m [inlined]\u001b[39m\n     [17] \u001b[0m\u001b[1m#sum#252\u001b[22m\n    \u001b[90m    @ \u001b[39m\u001b[90m./\u001b[39m\u001b[90m\u001b[4mreduce.jl:532\u001b[24m\u001b[39m\u001b[90m [inlined]\u001b[39m\n     [18] \u001b[0m\u001b[1mlogQ\u001b[22m\n    \u001b[90m    @ \u001b[39m\u001b[90m~/git/Causality/src/\u001b[39m\u001b[90m\u001b[4mvariation.jl:9\u001b[24m\u001b[39m\u001b[90m [inlined]\u001b[39m\n     [19] \u001b[0m\u001b[1mmacro expansion\u001b[22m\n    \u001b[90m    @ \u001b[39m\u001b[90m~/git/Causality/src/\u001b[39m\u001b[90m\u001b[4mvariation.jl:53\u001b[24m\u001b[39m\u001b[90m [inlined]\u001b[39m\n     [20] \u001b[0m\u001b[1m(::Causality.var\"#12#threadsfor_fun#28\"{StochasticModel{GaussianInferentialSI, IndexedGraphs.IndexedBiDiGraph{Int64}, Vector{UnitRate}}, Int64, StochasticModel{GenerativeSI{GaussianRate, GaussianRate}, IndexedGraphs.IndexedBiDiGraph{Int64}, Vector{UnitRate}}, Vector{Tuple{Int64, Bool, Float64, Float64}}, Matrix{Float64}, Vector{Causality.var\"#sample!#43\"{StochasticModel{GaussianInferentialSI, IndexedGraphs.IndexedBiDiGraph{Int64}, Vector{UnitRate}}, TrackingHeaps.TrackingHeap{Int64, Float64, 2, TrackingHeaps.MinHeapOrder, TrackingHeaps.NoTrainingWheels}, BitVector, Int64}}, Vector{Float64}, Vector{Matrix{Float64}}, Vector{Matrix{Float64}}, Vector{Matrix{Float64}}, Vector{Matrix{Float64}}, Vector{Matrix{Float64}}, Int64, UnitRange{Int64}})\u001b[22m\u001b[0m\u001b[1m(\u001b[22m\u001b[90monethread\u001b[39m::\u001b[0mBool\u001b[0m\u001b[1m)\u001b[22m\n    \u001b[90m    @ \u001b[39m\u001b[35mCausality\u001b[39m \u001b[90m./\u001b[39m\u001b[90m\u001b[4mthreadingconstructs.jl:85\u001b[24m\u001b[39m\n     [21] \u001b[0m\u001b[1m(::Causality.var\"#12#threadsfor_fun#28\"{StochasticModel{GaussianInferentialSI, IndexedGraphs.IndexedBiDiGraph{Int64}, Vector{UnitRate}}, Int64, StochasticModel{GenerativeSI{GaussianRate, GaussianRate}, IndexedGraphs.IndexedBiDiGraph{Int64}, Vector{UnitRate}}, Vector{Tuple{Int64, Bool, Float64, Float64}}, Matrix{Float64}, Vector{Causality.var\"#sample!#43\"{StochasticModel{GaussianInferentialSI, IndexedGraphs.IndexedBiDiGraph{Int64}, Vector{UnitRate}}, TrackingHeaps.TrackingHeap{Int64, Float64, 2, TrackingHeaps.MinHeapOrder, TrackingHeaps.NoTrainingWheels}, BitVector, Int64}}, Vector{Float64}, Vector{Matrix{Float64}}, Vector{Matrix{Float64}}, Vector{Matrix{Float64}}, Vector{Matrix{Float64}}, Vector{Matrix{Float64}}, Int64, UnitRange{Int64}})\u001b[22m\u001b[0m\u001b[1m(\u001b[22m\u001b[0m\u001b[1m)\u001b[22m\n    \u001b[90m    @ \u001b[39m\u001b[35mCausality\u001b[39m \u001b[90m./\u001b[39m\u001b[90m\u001b[4mthreadingconstructs.jl:52\u001b[24m\u001b[39m",
      "",
      "Stacktrace:",
      " [1] wait",
      "   @ ./task.jl:322 [inlined]",
      " [2] threading_run(func::Function)",
      "   @ Base.Threads ./threadingconstructs.jl:38",
      " [3] macro expansion",
      "   @ ./threadingconstructs.jl:97 [inlined]",
      " [4] descend!(Mp::StochasticModel{GenerativeSI{GaussianRate, GaussianRate}, IndexedGraphs.IndexedBiDiGraph{Int64}, Vector{UnitRate}}, O::Vector{Tuple{Int64, Bool, Float64, Float64}}; M::StochasticModel{GaussianInferentialSI, IndexedGraphs.IndexedBiDiGraph{Int64}, Vector{UnitRate}}, numiters::Int64, numsamples::Int64, ε::Float64, descender::SignDescender, hyperdescender::SignDescender, θmin::Matrix{Float64}, θmax::Matrix{Float64}, θgenmin::Matrix{Float64}, θgenmax::Matrix{Float64}, hyper_mask::Vector{Any})",
      "   @ Causality ~/git/Causality/src/variation.jl:49",
      " [5] top-level scope",
      "   @ In[11]:3",
      " [6] eval",
      "   @ ./boot.jl:373 [inlined]",
      " [7] include_string(mapexpr::typeof(REPL.softscope), mod::Module, code::String, filename::String)",
      "   @ Base ./loading.jl:1196"
     ]
    }
   ],
   "source": [
    "using ProgressMeter\n",
    "ProgressMeter.ijulia_behavior(:clear)\n",
    "F = descend!(Mp2, O; M=M, numsamples=1000, numiters=100, \n",
    "         θmin=θmin, θmax=θmax,θgenmin=θgenmin, θgenmax=θgenmax, descender=SignDescender(0.1),\n",
    "         hyperdescender=SignDescender(0.));\n",
    "F = descend!(Mp2, O; M=M, numsamples=1000, numiters=100, \n",
    "         θmin=θmin, θmax=θmax,θgenmin=θgenmin, θgenmax=θgenmax, descender=SignDescender(0.03),\n",
    "         hyperdescender=SignDescender(0.));\n",
    "F"
   ]
  },
  {
   "cell_type": "code",
   "execution_count": 12,
   "metadata": {},
   "outputs": [
    {
     "name": "stderr",
     "output_type": "stream",
     "text": [
      "\u001b[32mProgress: 100%|█████████████████████████████████████████| Time: 0:00:02\u001b[39m\n"
     ]
    }
   ],
   "source": [
    "statscau = prior(M, numsamples=10000);"
   ]
  },
  {
   "cell_type": "markdown",
   "metadata": {},
   "source": [
    "## SoftMarg"
   ]
  },
  {
   "cell_type": "code",
   "execution_count": 14,
   "metadata": {},
   "outputs": [
    {
     "data": {
      "text/plain": [
       "([2.7524406809544413 4.737387646588964 … 3.306953367318668 2.8056888673076728; 20.0 20.0 … 20.0 20.0; … ; 10.211424330985636 11.479385593507526 … 9.690104816784595 9.126171154847592; 20.0 20.0 … 20.0 20.0], [0.0, 0.0, 1.3127135852040554e-275, 4.369803323979708e-163, 0.0, 0.0, 2.7077509800242826e-284, 0.0, 2.571981148514422e-198, 0.0])"
      ]
     },
     "execution_count": 14,
     "metadata": {},
     "output_type": "execute_result"
    }
   ],
   "source": [
    "stats, weights = softpostnoise(Mp, O; numsamples=10^5)"
   ]
  },
  {
   "cell_type": "markdown",
   "metadata": {},
   "source": [
    "## Sib"
   ]
  },
  {
   "cell_type": "code",
   "execution_count": 16,
   "metadata": {},
   "outputs": [
    {
     "data": {
      "text/plain": [
       "NonMarkovSibyl (generic function with 2 methods)"
      ]
     },
     "execution_count": 16,
     "metadata": {},
     "output_type": "execute_result"
    }
   ],
   "source": [
    "using PyCall\n",
    "@pyimport sib\n",
    "function sibyl(N, T_cont, Λ, O, γ, λ ; dt=1/5, maxit = 400, tol = 1e-14)\n",
    "    \n",
    "    T = Int(round(T_cont / dt))\n",
    "    contacts = [(i-1,j-1,t, λ * dt) for t in 1:T for (i,j,v) in zip(findnz(Λ.A)...)];\n",
    "    obs = [[(i,-1,t) for t=1:T for i=0:N-1];\n",
    "           [(i-1,s,Int(round(t/dt))) for (i,s,t,p) in O]]\n",
    "    sort!(obs, lt=((i1,s1,t1),(i2,s2,t2))->(t1<t2))\n",
    "    prob_sus = 0.5\n",
    "    prob_seed=γ\n",
    "    pseed = prob_seed / (2 - prob_seed)\n",
    "    psus = prob_sus * (1 - pseed)\n",
    "    params = sib.Params(prob_r=sib.Exponential(mu=0), pseed=pseed, psus=psus,pautoinf=1e-10,fp_rate=1e-10,fn_rate=1e-10)\n",
    "    f = sib.FactorGraph(contacts=contacts, observations=obs, params=params)\n",
    "    sib.iterate(f, maxit=maxit,tol=tol)\n",
    "    sib.iterate(f, maxit=maxit, damping=0.5, tol=tol)\n",
    "    sib.iterate(f, maxit=maxit, damping=0.9, tol=tol)\n",
    "    p_sib=[collect(n.bt) for n in f.nodes]\n",
    "    m_sib = zeros(N, T)\n",
    "    for i=1:N\n",
    "        m_sib[i,1] = p_sib[i][1] \n",
    "        for t=2:T\n",
    "            m_sib[i,t] = m_sib[i,t-1] + p_sib[i][t]\n",
    "        end\n",
    "    end \n",
    "    return m_sib\n",
    "end\n",
    "\n",
    "function NonMarkovSibyl(N, T_cont, Λ, a, O, γ; dt=1/5, maxit = 400, tol = 1e-14)\n",
    "    \n",
    "    T = Int(round(T_cont / dt))\n",
    "    contacts = [(i-1,j-1,t, 1.0) for t in 1:T for (i,j,v) in zip(findnz(Λ.A)...)];\n",
    "    obs = [[(i,-1,t) for t=1:T for i=0:N-1];\n",
    "           [(i-1,s,Int(round(t/dt))) for (i,s,t,p) in O]]\n",
    "    sort!(obs, lt=((i1,s1,t1),(i2,s2,t2))->(t1<t2))\n",
    "    prob_sus = 0.5\n",
    "    prob_seed=γ\n",
    "    pseed = prob_seed / (2 - prob_seed)\n",
    "    psus = prob_sus * (1 - pseed)\n",
    "    g = sib.PiecewiseLinear(pycall(sib.RealParams, PyObject, [a * dt for t =1:T]))\n",
    "    params = sib.Params(prob_r=sib.Exponential(mu=0), pseed=pseed, psus=psus,pautoinf=1e-10,fp_rate=1e-10,fn_rate=1e-10, prob_i = g)\n",
    "    f = sib.FactorGraph(contacts=contacts, observations=obs, params=params)\n",
    "    sib.iterate(f, maxit=maxit,tol=tol)\n",
    "    sib.iterate(f, maxit=maxit, damping=0.5, tol=tol)\n",
    "    sib.iterate(f, maxit=maxit, damping=0.9, tol=tol)\n",
    "    p_sib=[collect(n.bt) for n in f.nodes]\n",
    "    m_sib = zeros(N, T)\n",
    "    for i=1:N\n",
    "        m_sib[i,1] = p_sib[i][1] \n",
    "        for t=2:T\n",
    "            m_sib[i,t] = m_sib[i,t-1] + p_sib[i][t]\n",
    "        end\n",
    "    end \n",
    "    return m_sib\n",
    "end\n"
   ]
  },
  {
   "cell_type": "code",
   "execution_count": 30,
   "metadata": {},
   "outputs": [
    {
     "name": "stdout",
     "output_type": "stream",
     "text": [
      "\n",
      "sib.iterate(damp=0.0): 39/40 6.362e-02/1e-07      \n",
      "sib.iterate(damp=0.5): 39/40 2.270e-02/1e-07      \n",
      "sib.iterate(damp=0.9): 39/40 1.848e-02/1e-07      \n",
      "sib.iterate(damp=0.0): 39/40 6.994e-02/1e-07      \n",
      "sib.iterate(damp=0.5): 39/40 2.713e-02/1e-07      \n",
      "128.17014288902283.9): 39/40 1.907e-02/1e-07      \n"
     ]
    }
   ],
   "source": [
    "a=time()\n",
    "dt = 1/4\n",
    "p_sib = sibyl(N, T, G, O, 1/N, λ; dt=dt, maxit = 40, tol = 1e-7);\n",
    "p_sib2 = NonMarkovSibyl(N, T, G, λ, O, 1/N; dt=dt, maxit = 40, tol = 1e-7)\n",
    "b=time()\n",
    "println(b-a)"
   ]
  },
  {
   "cell_type": "code",
   "execution_count": 39,
   "metadata": {},
   "outputs": [
    {
     "data": {
      "text/plain": [
       "200×80 Matrix{Float64}:\n",
       " 2.10596e-19  2.10596e-19  2.10596e-19  …  1.0          1.0\n",
       " 4.1664e-28   4.1664e-28   4.1664e-28      3.84695e-11  4.9988e-11\n",
       " 6.74911e-17  6.74914e-17  6.7492e-17      1.0          1.0\n",
       " 0.000446451  0.000474613  0.000509103     0.999999     1.0\n",
       " 8.32082e-26  8.32082e-26  8.32082e-26     1.0          1.0\n",
       " 1.1642e-5    1.17168e-5   1.18113e-5   …  1.0          1.0\n",
       " 5.14413e-6   5.20206e-6   5.2839e-6       1.0          1.0\n",
       " 0.00119267   0.00128068   0.00137588      0.998059     1.0\n",
       " 5.927e-5     6.39206e-5   7.01654e-5      1.0          1.0\n",
       " 5.56088e-41  5.56088e-41  5.56088e-41     4.10132e-12  8.24748e-12\n",
       " 4.19208e-9   4.19209e-9   4.1921e-9    …  1.0          1.0\n",
       " 1.34257e-17  1.34353e-17  1.34628e-17     1.0          1.0\n",
       " 5.8303e-21   5.8303e-21   5.8303e-21      1.0          1.0\n",
       " ⋮                                      ⋱               \n",
       " 1.27504e-13  1.27509e-13  1.2752e-13      1.0          1.0\n",
       " 5.25626e-11  5.25802e-11  5.26104e-11     1.0          1.0\n",
       " 0.00490461   0.0121766    0.0244874    …  1.0          1.0\n",
       " 0.00292596   0.00359185   0.00452231      1.0          1.0\n",
       " 1.32323e-10  1.32356e-10  1.32405e-10     1.0          1.0\n",
       " 0.00019249   0.000202032  0.000213621     1.0          1.0\n",
       " 2.94941e-5   3.41037e-5   4.31983e-5      1.0          1.0\n",
       " 2.37514e-13  2.37539e-13  2.37585e-13  …  1.0          1.0\n",
       " 1.46044e-13  1.46044e-13  1.46044e-13     7.06806e-10  8.89357e-10\n",
       " 0.0014271    0.00206509   0.0030507       1.0          1.0\n",
       " 6.02327e-20  6.02327e-20  6.02327e-20     1.0          1.0\n",
       " 5.72173e-25  5.72173e-25  5.72173e-25     1.0          1.0"
      ]
     },
     "execution_count": 39,
     "metadata": {},
     "output_type": "execute_result"
    }
   ],
   "source": [
    "p_sib"
   ]
  },
  {
   "cell_type": "markdown",
   "metadata": {},
   "source": [
    "# Heuristic"
   ]
  },
  {
   "cell_type": "code",
   "execution_count": 18,
   "metadata": {},
   "outputs": [
    {
     "name": "stderr",
     "output_type": "stream",
     "text": [
      "\u001b[32mProgress: 100%|█████████████████████████████████████████| Time: 0:00:03\u001b[39m\n"
     ]
    }
   ],
   "source": [
    "using IntervalUnionArithmetic\n",
    "T = Float64(T)\n",
    "struct HeuristicSI <: SI end\n",
    "maskauto = fill(intervalUnion(0., T),N)\n",
    "maskinf = fill(intervalUnion(0., T),N)\n",
    "θfrench = getpar(pseed, GaussianRate(1e-10,T,T), inf_in);\n",
    "Causality.individual(M::StochasticModel{HeuristicSI}, i::Int, θi = @view(M.θ[:,i]), θg = M.θgen ) = \n",
    "@views IndividualSI(θi[1], \n",
    "    MaskedRate(GaussianRate(θi[2:4]...),maskauto[i]), \n",
    "    MaskedRate(UnitRate(),maskinf[i]), \n",
    "    GaussianRate(θg[5:7]...),)\n",
    "\n",
    "\n",
    "for o in O\n",
    "    if o[2] == 1 \n",
    "        maskauto[o[1]] = maskauto[o[1]] ∩ intervalUnion(o[3]-5, T)        \n",
    "        θfrench[2,o[1]] = 10\n",
    "        θfrench[3,o[1]] = o[3] - 5\n",
    "        θfrench[4,o[1]] = 10\n",
    "    elseif o[2] == 0\n",
    "        maskinf[o[1]] = maskinf[o[1]] ∩ intervalUnion(o[3], T)\n",
    "        θfrench[1,o[1]] = 1e-10\n",
    "    end\n",
    "end\n",
    "\n",
    "Mfrench = StochasticModel(HeuristicSI, T, θfrench, G, θp2gen);\n",
    "statsfre = prior(Mfrench,numsamples=10000);"
   ]
  },
  {
   "cell_type": "markdown",
   "metadata": {},
   "source": [
    "## Metropolis Monte Carlo"
   ]
  },
  {
   "cell_type": "code",
   "execution_count": 19,
   "metadata": {},
   "outputs": [],
   "source": [
    "K = Causality.GaussMove(2.0)\n",
    "#stats_mh = Causality.metropolis_sampling_parallel(Mp, O, K; numsamples = 10^3,numsteps=10^3)\n",
    "stats_mh = Causality.metropolis_sampling_sequential(Mp, O, K; numsamples = 0,numsteps=0);"
   ]
  },
  {
   "cell_type": "markdown",
   "metadata": {},
   "source": [
    "\n",
    "## Marginals and ROC curve"
   ]
  },
  {
   "cell_type": "code",
   "execution_count": 31,
   "metadata": {},
   "outputs": [
    {
     "data": {
      "text/plain": [
       "AUROC (generic function with 1 method)"
      ]
     },
     "execution_count": 31,
     "metadata": {},
     "output_type": "execute_result"
    }
   ],
   "source": [
    "function marginal(i, t, stats)\n",
    "    numsamp = size(stats,1)\n",
    "    sum(stats[:,i] .< t)/numsamp\n",
    "end\n",
    "\n",
    "function reweighted_marginal(i, t, stats, weights)\n",
    "    numsamp = size(stats,1)\n",
    "    @assert numsamp == size(weights,1)\n",
    "    weights ./= maximum(weights)\n",
    "    sum(weights .* (stats[:,i] .< t))/sum(weights)\n",
    "end\n",
    "\n",
    "function tpr(xtrue, rank) \n",
    "    cumsum(xtrue[rank]) ./( cumsum(xtrue[rank])[end])\n",
    "end\n",
    "\n",
    "function fpr(xtrue, rank) \n",
    "    N = size(rank,1)\n",
    "    return (range(1,N,length=N) .- cumsum(xtrue[rank])) ./ (range(1,N,length=N) .- cumsum(xtrue[rank]) )[end]\n",
    "end\n",
    "\n",
    "function ROC(xtrue, p)\n",
    "    N = size(xtrue,1)\n",
    "    rank = sortperm(p, rev=true)\n",
    "    \n",
    "    return fpr(xtrue, rank) , tpr(xtrue, rank)\n",
    "end\n",
    "\n",
    "function AUROC(ROC)\n",
    "    N = size(ROC[1],1) \n",
    "    AU = 0\n",
    "    for t = 1:N-1\n",
    "        AU += ROC[2][t] * (ROC[1][t+1] - ROC[1][t])\n",
    "    end\n",
    "    return AU\n",
    "end"
   ]
  },
  {
   "cell_type": "code",
   "execution_count": 40,
   "metadata": {},
   "outputs": [],
   "source": [
    "#Marginals\n",
    "bins = 10 * Int(T)\n",
    "using Plots\n",
    "p_cau = zeros(N,bins)\n",
    "p_french = zeros(N,bins)\n",
    "p_mh = zeros(N,bins)\n",
    "p_soft = zeros(N,bins)\n",
    "for i = 1:N\n",
    "    for t = 1:bins\n",
    "       p_cau[i,t] = marginal(i, t*T/bins, statscau)\n",
    "       p_french[i,t] = marginal(i, t*T/bins, statsfre)\n",
    "       #p_mh[i,t] = marginal(i, t*T/bins, stats_mh)\n",
    "       p_soft[i,t] = reweighted_marginal(i, t*T/bins, stats, weights)\n",
    "    end\n",
    "end"
   ]
  },
  {
   "cell_type": "code",
   "execution_count": 51,
   "metadata": {},
   "outputs": [
    {
     "data": {
      "image/svg+xml": [
       "<?xml version=\"1.0\" encoding=\"utf-8\"?>\n",
       "<svg xmlns=\"http://www.w3.org/2000/svg\" xmlns:xlink=\"http://www.w3.org/1999/xlink\" width=\"600\" height=\"400\" viewBox=\"0 0 2400 1600\">\n",
       "<defs>\n",
       "  <clipPath id=\"clip560\">\n",
       "    <rect x=\"0\" y=\"0\" width=\"2400\" height=\"1600\"/>\n",
       "  </clipPath>\n",
       "</defs>\n",
       "<path clip-path=\"url(#clip560)\" d=\"\n",
       "M0 1600 L2400 1600 L2400 0 L0 0  Z\n",
       "  \" fill=\"#ffffff\" fill-rule=\"evenodd\" fill-opacity=\"1\"/>\n",
       "<defs>\n",
       "  <clipPath id=\"clip561\">\n",
       "    <rect x=\"480\" y=\"0\" width=\"1681\" height=\"1600\"/>\n",
       "  </clipPath>\n",
       "</defs>\n",
       "<path clip-path=\"url(#clip560)\" d=\"\n",
       "M186.274 1486.45 L2352.76 1486.45 L2352.76 47.2441 L186.274 47.2441  Z\n",
       "  \" fill=\"#ffffff\" fill-rule=\"evenodd\" fill-opacity=\"1\"/>\n",
       "<defs>\n",
       "  <clipPath id=\"clip562\">\n",
       "    <rect x=\"186\" y=\"47\" width=\"2167\" height=\"1440\"/>\n",
       "  </clipPath>\n",
       "</defs>\n",
       "<polyline clip-path=\"url(#clip562)\" style=\"stroke:#000000; stroke-linecap:butt; stroke-linejoin:round; stroke-width:2; stroke-opacity:0.1; fill:none\" points=\"\n",
       "  677.874,1486.45 677.874,47.2441 \n",
       "  \"/>\n",
       "<polyline clip-path=\"url(#clip562)\" style=\"stroke:#000000; stroke-linecap:butt; stroke-linejoin:round; stroke-width:2; stroke-opacity:0.1; fill:none\" points=\"\n",
       "  1215.73,1486.45 1215.73,47.2441 \n",
       "  \"/>\n",
       "<polyline clip-path=\"url(#clip562)\" style=\"stroke:#000000; stroke-linecap:butt; stroke-linejoin:round; stroke-width:2; stroke-opacity:0.1; fill:none\" points=\"\n",
       "  1753.58,1486.45 1753.58,47.2441 \n",
       "  \"/>\n",
       "<polyline clip-path=\"url(#clip562)\" style=\"stroke:#000000; stroke-linecap:butt; stroke-linejoin:round; stroke-width:2; stroke-opacity:0.1; fill:none\" points=\"\n",
       "  2291.44,1486.45 2291.44,47.2441 \n",
       "  \"/>\n",
       "<polyline clip-path=\"url(#clip560)\" style=\"stroke:#000000; stroke-linecap:butt; stroke-linejoin:round; stroke-width:4; stroke-opacity:1; fill:none\" points=\"\n",
       "  186.274,1486.45 2352.76,1486.45 \n",
       "  \"/>\n",
       "<polyline clip-path=\"url(#clip560)\" style=\"stroke:#000000; stroke-linecap:butt; stroke-linejoin:round; stroke-width:4; stroke-opacity:1; fill:none\" points=\"\n",
       "  677.874,1486.45 677.874,1467.55 \n",
       "  \"/>\n",
       "<polyline clip-path=\"url(#clip560)\" style=\"stroke:#000000; stroke-linecap:butt; stroke-linejoin:round; stroke-width:4; stroke-opacity:1; fill:none\" points=\"\n",
       "  1215.73,1486.45 1215.73,1467.55 \n",
       "  \"/>\n",
       "<polyline clip-path=\"url(#clip560)\" style=\"stroke:#000000; stroke-linecap:butt; stroke-linejoin:round; stroke-width:4; stroke-opacity:1; fill:none\" points=\"\n",
       "  1753.58,1486.45 1753.58,1467.55 \n",
       "  \"/>\n",
       "<polyline clip-path=\"url(#clip560)\" style=\"stroke:#000000; stroke-linecap:butt; stroke-linejoin:round; stroke-width:4; stroke-opacity:1; fill:none\" points=\"\n",
       "  2291.44,1486.45 2291.44,1467.55 \n",
       "  \"/>\n",
       "<path clip-path=\"url(#clip560)\" d=\"M668.152 1514.29 L686.508 1514.29 L686.508 1518.22 L672.434 1518.22 L672.434 1526.7 Q673.453 1526.35 674.471 1526.19 Q675.49 1526 676.508 1526 Q682.295 1526 685.675 1529.17 Q689.054 1532.34 689.054 1537.76 Q689.054 1543.34 685.582 1546.44 Q682.11 1549.52 675.791 1549.52 Q673.615 1549.52 671.346 1549.15 Q669.101 1548.78 666.693 1548.04 L666.693 1543.34 Q668.777 1544.47 670.999 1545.03 Q673.221 1545.58 675.698 1545.58 Q679.703 1545.58 682.041 1543.48 Q684.379 1541.37 684.379 1537.76 Q684.379 1534.15 682.041 1532.04 Q679.703 1529.94 675.698 1529.94 Q673.823 1529.94 671.948 1530.35 Q670.096 1530.77 668.152 1531.65 L668.152 1514.29 Z\" fill=\"#000000\" fill-rule=\"evenodd\" fill-opacity=\"1\" /><path clip-path=\"url(#clip560)\" d=\"M1190.42 1544.91 L1198.06 1544.91 L1198.06 1518.55 L1189.75 1520.21 L1189.75 1515.95 L1198.01 1514.29 L1202.69 1514.29 L1202.69 1544.91 L1210.32 1544.91 L1210.32 1548.85 L1190.42 1548.85 L1190.42 1544.91 Z\" fill=\"#000000\" fill-rule=\"evenodd\" fill-opacity=\"1\" /><path clip-path=\"url(#clip560)\" d=\"M1229.77 1517.37 Q1226.16 1517.37 1224.33 1520.93 Q1222.52 1524.47 1222.52 1531.6 Q1222.52 1538.71 1224.33 1542.27 Q1226.16 1545.82 1229.77 1545.82 Q1233.4 1545.82 1235.21 1542.27 Q1237.04 1538.71 1237.04 1531.6 Q1237.04 1524.47 1235.21 1520.93 Q1233.4 1517.37 1229.77 1517.37 M1229.77 1513.66 Q1235.58 1513.66 1238.63 1518.27 Q1241.71 1522.85 1241.71 1531.6 Q1241.71 1540.33 1238.63 1544.94 Q1235.58 1549.52 1229.77 1549.52 Q1223.96 1549.52 1220.88 1544.94 Q1217.82 1540.33 1217.82 1531.6 Q1217.82 1522.85 1220.88 1518.27 Q1223.96 1513.66 1229.77 1513.66 Z\" fill=\"#000000\" fill-rule=\"evenodd\" fill-opacity=\"1\" /><path clip-path=\"url(#clip560)\" d=\"M1728.77 1544.91 L1736.41 1544.91 L1736.41 1518.55 L1728.1 1520.21 L1728.1 1515.95 L1736.36 1514.29 L1741.04 1514.29 L1741.04 1544.91 L1748.68 1544.91 L1748.68 1548.85 L1728.77 1548.85 L1728.77 1544.91 Z\" fill=\"#000000\" fill-rule=\"evenodd\" fill-opacity=\"1\" /><path clip-path=\"url(#clip560)\" d=\"M1758.17 1514.29 L1776.52 1514.29 L1776.52 1518.22 L1762.45 1518.22 L1762.45 1526.7 Q1763.47 1526.35 1764.49 1526.19 Q1765.51 1526 1766.52 1526 Q1772.31 1526 1775.69 1529.17 Q1779.07 1532.34 1779.07 1537.76 Q1779.07 1543.34 1775.6 1546.44 Q1772.13 1549.52 1765.81 1549.52 Q1763.63 1549.52 1761.36 1549.15 Q1759.12 1548.78 1756.71 1548.04 L1756.71 1543.34 Q1758.79 1544.47 1761.02 1545.03 Q1763.24 1545.58 1765.71 1545.58 Q1769.72 1545.58 1772.06 1543.48 Q1774.39 1541.37 1774.39 1537.76 Q1774.39 1534.15 1772.06 1532.04 Q1769.72 1529.94 1765.71 1529.94 Q1763.84 1529.94 1761.96 1530.35 Q1760.11 1530.77 1758.17 1531.65 L1758.17 1514.29 Z\" fill=\"#000000\" fill-rule=\"evenodd\" fill-opacity=\"1\" /><path clip-path=\"url(#clip560)\" d=\"M2270.21 1544.91 L2286.53 1544.91 L2286.53 1548.85 L2264.59 1548.85 L2264.59 1544.91 Q2267.25 1542.16 2271.83 1537.53 Q2276.44 1532.88 2277.62 1531.53 Q2279.87 1529.01 2280.75 1527.27 Q2281.65 1525.51 2281.65 1523.82 Q2281.65 1521.07 2279.7 1519.33 Q2277.78 1517.6 2274.68 1517.6 Q2272.48 1517.6 2270.03 1518.36 Q2267.6 1519.13 2264.82 1520.68 L2264.82 1515.95 Q2267.64 1514.82 2270.1 1514.24 Q2272.55 1513.66 2274.59 1513.66 Q2279.96 1513.66 2283.15 1516.35 Q2286.35 1519.03 2286.35 1523.52 Q2286.35 1525.65 2285.54 1527.57 Q2284.75 1529.47 2282.64 1532.07 Q2282.07 1532.74 2278.96 1535.95 Q2275.86 1539.15 2270.21 1544.91 Z\" fill=\"#000000\" fill-rule=\"evenodd\" fill-opacity=\"1\" /><path clip-path=\"url(#clip560)\" d=\"M2306.35 1517.37 Q2302.74 1517.37 2300.91 1520.93 Q2299.1 1524.47 2299.1 1531.6 Q2299.1 1538.71 2300.91 1542.27 Q2302.74 1545.82 2306.35 1545.82 Q2309.98 1545.82 2311.79 1542.27 Q2313.62 1538.71 2313.62 1531.6 Q2313.62 1524.47 2311.79 1520.93 Q2309.98 1517.37 2306.35 1517.37 M2306.35 1513.66 Q2312.16 1513.66 2315.21 1518.27 Q2318.29 1522.85 2318.29 1531.6 Q2318.29 1540.33 2315.21 1544.94 Q2312.16 1549.52 2306.35 1549.52 Q2300.54 1549.52 2297.46 1544.94 Q2294.4 1540.33 2294.4 1531.6 Q2294.4 1522.85 2297.46 1518.27 Q2300.54 1513.66 2306.35 1513.66 Z\" fill=\"#000000\" fill-rule=\"evenodd\" fill-opacity=\"1\" /><polyline clip-path=\"url(#clip562)\" style=\"stroke:#000000; stroke-linecap:butt; stroke-linejoin:round; stroke-width:2; stroke-opacity:0.1; fill:none\" points=\"\n",
       "  186.274,1485.01 2352.76,1485.01 \n",
       "  \"/>\n",
       "<polyline clip-path=\"url(#clip562)\" style=\"stroke:#000000; stroke-linecap:butt; stroke-linejoin:round; stroke-width:2; stroke-opacity:0.1; fill:none\" points=\"\n",
       "  186.274,1125.57 2352.76,1125.57 \n",
       "  \"/>\n",
       "<polyline clip-path=\"url(#clip562)\" style=\"stroke:#000000; stroke-linecap:butt; stroke-linejoin:round; stroke-width:2; stroke-opacity:0.1; fill:none\" points=\"\n",
       "  186.274,766.127 2352.76,766.127 \n",
       "  \"/>\n",
       "<polyline clip-path=\"url(#clip562)\" style=\"stroke:#000000; stroke-linecap:butt; stroke-linejoin:round; stroke-width:2; stroke-opacity:0.1; fill:none\" points=\"\n",
       "  186.274,406.686 2352.76,406.686 \n",
       "  \"/>\n",
       "<polyline clip-path=\"url(#clip562)\" style=\"stroke:#000000; stroke-linecap:butt; stroke-linejoin:round; stroke-width:2; stroke-opacity:0.1; fill:none\" points=\"\n",
       "  186.274,47.2441 2352.76,47.2441 \n",
       "  \"/>\n",
       "<polyline clip-path=\"url(#clip560)\" style=\"stroke:#000000; stroke-linecap:butt; stroke-linejoin:round; stroke-width:4; stroke-opacity:1; fill:none\" points=\"\n",
       "  186.274,1486.45 186.274,47.2441 \n",
       "  \"/>\n",
       "<polyline clip-path=\"url(#clip560)\" style=\"stroke:#000000; stroke-linecap:butt; stroke-linejoin:round; stroke-width:4; stroke-opacity:1; fill:none\" points=\"\n",
       "  186.274,1485.01 205.172,1485.01 \n",
       "  \"/>\n",
       "<polyline clip-path=\"url(#clip560)\" style=\"stroke:#000000; stroke-linecap:butt; stroke-linejoin:round; stroke-width:4; stroke-opacity:1; fill:none\" points=\"\n",
       "  186.274,1125.57 205.172,1125.57 \n",
       "  \"/>\n",
       "<polyline clip-path=\"url(#clip560)\" style=\"stroke:#000000; stroke-linecap:butt; stroke-linejoin:round; stroke-width:4; stroke-opacity:1; fill:none\" points=\"\n",
       "  186.274,766.127 205.172,766.127 \n",
       "  \"/>\n",
       "<polyline clip-path=\"url(#clip560)\" style=\"stroke:#000000; stroke-linecap:butt; stroke-linejoin:round; stroke-width:4; stroke-opacity:1; fill:none\" points=\"\n",
       "  186.274,406.686 205.172,406.686 \n",
       "  \"/>\n",
       "<polyline clip-path=\"url(#clip560)\" style=\"stroke:#000000; stroke-linecap:butt; stroke-linejoin:round; stroke-width:4; stroke-opacity:1; fill:none\" points=\"\n",
       "  186.274,47.2441 205.172,47.2441 \n",
       "  \"/>\n",
       "<path clip-path=\"url(#clip560)\" d=\"M62.9365 1470.81 Q59.3254 1470.81 57.4967 1474.37 Q55.6912 1477.92 55.6912 1485.04 Q55.6912 1492.15 57.4967 1495.72 Q59.3254 1499.26 62.9365 1499.26 Q66.5707 1499.26 68.3763 1495.72 Q70.205 1492.15 70.205 1485.04 Q70.205 1477.92 68.3763 1474.37 Q66.5707 1470.81 62.9365 1470.81 M62.9365 1467.11 Q68.7467 1467.11 71.8022 1471.71 Q74.8809 1476.29 74.8809 1485.04 Q74.8809 1493.77 71.8022 1498.38 Q68.7467 1502.96 62.9365 1502.96 Q57.1264 1502.96 54.0477 1498.38 Q50.9921 1493.77 50.9921 1485.04 Q50.9921 1476.29 54.0477 1471.71 Q57.1264 1467.11 62.9365 1467.11 Z\" fill=\"#000000\" fill-rule=\"evenodd\" fill-opacity=\"1\" /><path clip-path=\"url(#clip560)\" d=\"M83.0984 1496.41 L87.9827 1496.41 L87.9827 1502.29 L83.0984 1502.29 L83.0984 1496.41 Z\" fill=\"#000000\" fill-rule=\"evenodd\" fill-opacity=\"1\" /><path clip-path=\"url(#clip560)\" d=\"M108.168 1470.81 Q104.557 1470.81 102.728 1474.37 Q100.922 1477.92 100.922 1485.04 Q100.922 1492.15 102.728 1495.72 Q104.557 1499.26 108.168 1499.26 Q111.802 1499.26 113.608 1495.72 Q115.436 1492.15 115.436 1485.04 Q115.436 1477.92 113.608 1474.37 Q111.802 1470.81 108.168 1470.81 M108.168 1467.11 Q113.978 1467.11 117.033 1471.71 Q120.112 1476.29 120.112 1485.04 Q120.112 1493.77 117.033 1498.38 Q113.978 1502.96 108.168 1502.96 Q102.358 1502.96 99.2789 1498.38 Q96.2234 1493.77 96.2234 1485.04 Q96.2234 1476.29 99.2789 1471.71 Q102.358 1467.11 108.168 1467.11 Z\" fill=\"#000000\" fill-rule=\"evenodd\" fill-opacity=\"1\" /><path clip-path=\"url(#clip560)\" d=\"M138.33 1470.81 Q134.719 1470.81 132.89 1474.37 Q131.084 1477.92 131.084 1485.04 Q131.084 1492.15 132.89 1495.72 Q134.719 1499.26 138.33 1499.26 Q141.964 1499.26 143.769 1495.72 Q145.598 1492.15 145.598 1485.04 Q145.598 1477.92 143.769 1474.37 Q141.964 1470.81 138.33 1470.81 M138.33 1467.11 Q144.14 1467.11 147.195 1471.71 Q150.274 1476.29 150.274 1485.04 Q150.274 1493.77 147.195 1498.38 Q144.14 1502.96 138.33 1502.96 Q132.519 1502.96 129.441 1498.38 Q126.385 1493.77 126.385 1485.04 Q126.385 1476.29 129.441 1471.71 Q132.519 1467.11 138.33 1467.11 Z\" fill=\"#000000\" fill-rule=\"evenodd\" fill-opacity=\"1\" /><path clip-path=\"url(#clip560)\" d=\"M63.9319 1111.37 Q60.3208 1111.37 58.4921 1114.93 Q56.6865 1118.47 56.6865 1125.6 Q56.6865 1132.71 58.4921 1136.27 Q60.3208 1139.82 63.9319 1139.82 Q67.5661 1139.82 69.3717 1136.27 Q71.2004 1132.71 71.2004 1125.6 Q71.2004 1118.47 69.3717 1114.93 Q67.5661 1111.37 63.9319 1111.37 M63.9319 1107.66 Q69.742 1107.66 72.7976 1112.27 Q75.8763 1116.85 75.8763 1125.6 Q75.8763 1134.33 72.7976 1138.94 Q69.742 1143.52 63.9319 1143.52 Q58.1217 1143.52 55.043 1138.94 Q51.9875 1134.33 51.9875 1125.6 Q51.9875 1116.85 55.043 1112.27 Q58.1217 1107.66 63.9319 1107.66 Z\" fill=\"#000000\" fill-rule=\"evenodd\" fill-opacity=\"1\" /><path clip-path=\"url(#clip560)\" d=\"M84.0938 1136.97 L88.978 1136.97 L88.978 1142.85 L84.0938 1142.85 L84.0938 1136.97 Z\" fill=\"#000000\" fill-rule=\"evenodd\" fill-opacity=\"1\" /><path clip-path=\"url(#clip560)\" d=\"M103.191 1138.91 L119.51 1138.91 L119.51 1142.85 L97.566 1142.85 L97.566 1138.91 Q100.228 1136.16 104.811 1131.53 Q109.418 1126.88 110.598 1125.53 Q112.844 1123.01 113.723 1121.27 Q114.626 1119.52 114.626 1117.83 Q114.626 1115.07 112.682 1113.33 Q110.76 1111.6 107.658 1111.6 Q105.459 1111.6 103.006 1112.36 Q100.575 1113.13 97.7974 1114.68 L97.7974 1109.96 Q100.621 1108.82 103.075 1108.24 Q105.529 1107.66 107.566 1107.66 Q112.936 1107.66 116.131 1110.35 Q119.325 1113.03 119.325 1117.52 Q119.325 1119.65 118.515 1121.58 Q117.728 1123.47 115.621 1126.07 Q115.043 1126.74 111.941 1129.96 Q108.839 1133.15 103.191 1138.91 Z\" fill=\"#000000\" fill-rule=\"evenodd\" fill-opacity=\"1\" /><path clip-path=\"url(#clip560)\" d=\"M129.371 1108.29 L147.728 1108.29 L147.728 1112.22 L133.654 1112.22 L133.654 1120.7 Q134.672 1120.35 135.691 1120.19 Q136.709 1120 137.728 1120 Q143.515 1120 146.894 1123.17 Q150.274 1126.34 150.274 1131.76 Q150.274 1137.34 146.802 1140.44 Q143.33 1143.52 137.01 1143.52 Q134.834 1143.52 132.566 1143.15 Q130.32 1142.78 127.913 1142.04 L127.913 1137.34 Q129.996 1138.47 132.219 1139.03 Q134.441 1139.58 136.918 1139.58 Q140.922 1139.58 143.26 1137.48 Q145.598 1135.37 145.598 1131.76 Q145.598 1128.15 143.26 1126.04 Q140.922 1123.94 136.918 1123.94 Q135.043 1123.94 133.168 1124.35 Q131.316 1124.77 129.371 1125.65 L129.371 1108.29 Z\" fill=\"#000000\" fill-rule=\"evenodd\" fill-opacity=\"1\" /><path clip-path=\"url(#clip560)\" d=\"M62.9365 751.926 Q59.3254 751.926 57.4967 755.491 Q55.6912 759.032 55.6912 766.162 Q55.6912 773.268 57.4967 776.833 Q59.3254 780.375 62.9365 780.375 Q66.5707 780.375 68.3763 776.833 Q70.205 773.268 70.205 766.162 Q70.205 759.032 68.3763 755.491 Q66.5707 751.926 62.9365 751.926 M62.9365 748.222 Q68.7467 748.222 71.8022 752.829 Q74.8809 757.412 74.8809 766.162 Q74.8809 774.889 71.8022 779.495 Q68.7467 784.078 62.9365 784.078 Q57.1264 784.078 54.0477 779.495 Q50.9921 774.889 50.9921 766.162 Q50.9921 757.412 54.0477 752.829 Q57.1264 748.222 62.9365 748.222 Z\" fill=\"#000000\" fill-rule=\"evenodd\" fill-opacity=\"1\" /><path clip-path=\"url(#clip560)\" d=\"M83.0984 777.528 L87.9827 777.528 L87.9827 783.407 L83.0984 783.407 L83.0984 777.528 Z\" fill=\"#000000\" fill-rule=\"evenodd\" fill-opacity=\"1\" /><path clip-path=\"url(#clip560)\" d=\"M98.2141 748.847 L116.57 748.847 L116.57 752.782 L102.496 752.782 L102.496 761.254 Q103.515 760.907 104.534 760.745 Q105.552 760.56 106.571 760.56 Q112.358 760.56 115.737 763.731 Q119.117 766.903 119.117 772.319 Q119.117 777.898 115.645 781 Q112.172 784.078 105.853 784.078 Q103.677 784.078 101.409 783.708 Q99.1632 783.338 96.7558 782.597 L96.7558 777.898 Q98.8391 779.032 101.061 779.588 Q103.284 780.143 105.76 780.143 Q109.765 780.143 112.103 778.037 Q114.441 775.93 114.441 772.319 Q114.441 768.708 112.103 766.602 Q109.765 764.495 105.76 764.495 Q103.885 764.495 102.01 764.912 Q100.159 765.328 98.2141 766.208 L98.2141 748.847 Z\" fill=\"#000000\" fill-rule=\"evenodd\" fill-opacity=\"1\" /><path clip-path=\"url(#clip560)\" d=\"M138.33 751.926 Q134.719 751.926 132.89 755.491 Q131.084 759.032 131.084 766.162 Q131.084 773.268 132.89 776.833 Q134.719 780.375 138.33 780.375 Q141.964 780.375 143.769 776.833 Q145.598 773.268 145.598 766.162 Q145.598 759.032 143.769 755.491 Q141.964 751.926 138.33 751.926 M138.33 748.222 Q144.14 748.222 147.195 752.829 Q150.274 757.412 150.274 766.162 Q150.274 774.889 147.195 779.495 Q144.14 784.078 138.33 784.078 Q132.519 784.078 129.441 779.495 Q126.385 774.889 126.385 766.162 Q126.385 757.412 129.441 752.829 Q132.519 748.222 138.33 748.222 Z\" fill=\"#000000\" fill-rule=\"evenodd\" fill-opacity=\"1\" /><path clip-path=\"url(#clip560)\" d=\"M63.9319 392.484 Q60.3208 392.484 58.4921 396.049 Q56.6865 399.591 56.6865 406.72 Q56.6865 413.827 58.4921 417.392 Q60.3208 420.933 63.9319 420.933 Q67.5661 420.933 69.3717 417.392 Q71.2004 413.827 71.2004 406.72 Q71.2004 399.591 69.3717 396.049 Q67.5661 392.484 63.9319 392.484 M63.9319 388.781 Q69.742 388.781 72.7976 393.387 Q75.8763 397.97 75.8763 406.72 Q75.8763 415.447 72.7976 420.054 Q69.742 424.637 63.9319 424.637 Q58.1217 424.637 55.043 420.054 Q51.9875 415.447 51.9875 406.72 Q51.9875 397.97 55.043 393.387 Q58.1217 388.781 63.9319 388.781 Z\" fill=\"#000000\" fill-rule=\"evenodd\" fill-opacity=\"1\" /><path clip-path=\"url(#clip560)\" d=\"M84.0938 418.086 L88.978 418.086 L88.978 423.966 L84.0938 423.966 L84.0938 418.086 Z\" fill=\"#000000\" fill-rule=\"evenodd\" fill-opacity=\"1\" /><path clip-path=\"url(#clip560)\" d=\"M97.9826 389.406 L120.205 389.406 L120.205 391.396 L107.658 423.966 L102.774 423.966 L114.58 393.341 L97.9826 393.341 L97.9826 389.406 Z\" fill=\"#000000\" fill-rule=\"evenodd\" fill-opacity=\"1\" /><path clip-path=\"url(#clip560)\" d=\"M129.371 389.406 L147.728 389.406 L147.728 393.341 L133.654 393.341 L133.654 401.813 Q134.672 401.466 135.691 401.304 Q136.709 401.118 137.728 401.118 Q143.515 401.118 146.894 404.29 Q150.274 407.461 150.274 412.878 Q150.274 418.456 146.802 421.558 Q143.33 424.637 137.01 424.637 Q134.834 424.637 132.566 424.267 Q130.32 423.896 127.913 423.155 L127.913 418.456 Q129.996 419.591 132.219 420.146 Q134.441 420.702 136.918 420.702 Q140.922 420.702 143.26 418.595 Q145.598 416.489 145.598 412.878 Q145.598 409.267 143.26 407.16 Q140.922 405.054 136.918 405.054 Q135.043 405.054 133.168 405.47 Q131.316 405.887 129.371 406.767 L129.371 389.406 Z\" fill=\"#000000\" fill-rule=\"evenodd\" fill-opacity=\"1\" /><path clip-path=\"url(#clip560)\" d=\"M53.7467 60.5889 L61.3856 60.5889 L61.3856 34.2233 L53.0754 35.89 L53.0754 31.6308 L61.3393 29.9641 L66.0152 29.9641 L66.0152 60.5889 L73.654 60.5889 L73.654 64.5241 L53.7467 64.5241 L53.7467 60.5889 Z\" fill=\"#000000\" fill-rule=\"evenodd\" fill-opacity=\"1\" /><path clip-path=\"url(#clip560)\" d=\"M83.0984 58.6445 L87.9827 58.6445 L87.9827 64.5241 L83.0984 64.5241 L83.0984 58.6445 Z\" fill=\"#000000\" fill-rule=\"evenodd\" fill-opacity=\"1\" /><path clip-path=\"url(#clip560)\" d=\"M108.168 33.0428 Q104.557 33.0428 102.728 36.6076 Q100.922 40.1492 100.922 47.2788 Q100.922 54.3853 102.728 57.9501 Q104.557 61.4917 108.168 61.4917 Q111.802 61.4917 113.608 57.9501 Q115.436 54.3853 115.436 47.2788 Q115.436 40.1492 113.608 36.6076 Q111.802 33.0428 108.168 33.0428 M108.168 29.3391 Q113.978 29.3391 117.033 33.9456 Q120.112 38.5289 120.112 47.2788 Q120.112 56.0056 117.033 60.6121 Q113.978 65.1954 108.168 65.1954 Q102.358 65.1954 99.2789 60.6121 Q96.2234 56.0056 96.2234 47.2788 Q96.2234 38.5289 99.2789 33.9456 Q102.358 29.3391 108.168 29.3391 Z\" fill=\"#000000\" fill-rule=\"evenodd\" fill-opacity=\"1\" /><path clip-path=\"url(#clip560)\" d=\"M138.33 33.0428 Q134.719 33.0428 132.89 36.6076 Q131.084 40.1492 131.084 47.2788 Q131.084 54.3853 132.89 57.9501 Q134.719 61.4917 138.33 61.4917 Q141.964 61.4917 143.769 57.9501 Q145.598 54.3853 145.598 47.2788 Q145.598 40.1492 143.769 36.6076 Q141.964 33.0428 138.33 33.0428 M138.33 29.3391 Q144.14 29.3391 147.195 33.9456 Q150.274 38.5289 150.274 47.2788 Q150.274 56.0056 147.195 60.6121 Q144.14 65.1954 138.33 65.1954 Q132.519 65.1954 129.441 60.6121 Q126.385 56.0056 126.385 47.2788 Q126.385 38.5289 129.441 33.9456 Q132.519 29.3391 138.33 29.3391 Z\" fill=\"#000000\" fill-rule=\"evenodd\" fill-opacity=\"1\" /><polyline clip-path=\"url(#clip562)\" style=\"stroke:#009af9; stroke-linecap:butt; stroke-linejoin:round; stroke-width:4; stroke-opacity:1; fill:none\" points=\"\n",
       "  247.59,1477.53 257.86,1476.24 268.131,1473.36 278.401,1470.63 288.672,1468.33 298.943,1464.74 309.213,1461 319.484,1456.25 329.754,1451.8 340.025,1445.18 \n",
       "  350.296,1439 360.566,1433.39 370.837,1426.92 381.107,1421.75 391.378,1414.42 401.649,1408.09 411.919,1401.91 422.19,1394.57 432.46,1386.81 442.731,1377.32 \n",
       "  453.002,1368.26 463.272,1359.49 473.543,1352.02 483.813,1343.97 494.084,1336.35 504.355,1328.58 514.625,1320.82 524.896,1313.63 535.167,1305 545.437,1298.1 \n",
       "  555.708,1287.75 565.978,1278.98 576.249,1269.06 586.52,1258.71 596.79,1248.79 607.061,1238.29 617.331,1227.94 627.602,1218.74 637.873,1210.68 648.143,1201.63 \n",
       "  658.414,1193.72 668.684,1183.94 678.955,1174.74 689.226,1163.67 699.496,1154.18 709.767,1144.83 720.037,1131.61 730.308,1120.25 740.579,1108.89 750.849,1097.68 \n",
       "  761.12,1086.75 771.39,1076.68 781.661,1068.35 791.932,1056.12 802.202,1045.05 812.473,1034.85 822.744,1024.49 833.014,1014.29 843.285,1003.65 853.555,992.575 \n",
       "  863.826,981.361 874.097,968.996 884.367,959.075 894.638,951.743 904.908,941.822 915.179,929.601 925.45,918.53 935.72,908.466 945.991,896.676 956.261,885.749 \n",
       "  966.532,874.103 976.803,862.601 987.073,852.393 997.344,841.035 1007.61,827.807 1017.89,816.305 1028.16,804.947 1038.43,794.164 1048.7,782.374 1058.97,771.016 \n",
       "  1069.24,760.088 1079.51,748.874 1089.78,736.365 1100.05,723.282 1110.32,710.342 1120.59,700.853 1130.86,688.775 1141.13,674.541 1151.4,663.758 1161.67,651.393 \n",
       "  1171.94,637.159 1182.21,626.664 1192.49,613.293 1202.76,602.941 1213.03,593.739 1223.3,582.812 1233.57,572.029 1243.84,560.527 1254.11,549.168 1264.38,539.823 \n",
       "  1274.65,529.327 1284.92,517.825 1295.19,505.891 1305.46,495.396 1315.73,484.756 1326,471.529 1336.27,462.183 1346.54,452.694 1356.82,442.63 1367.09,434.147 \n",
       "  1377.36,422.645 1387.63,413.874 1397.9,405.679 1408.17,397.915 1418.44,387.851 1428.71,377.643 1438.98,369.304 1449.25,360.677 1459.52,352.913 1469.79,344.143 \n",
       "  1480.06,333.503 1490.33,326.458 1500.6,318.119 1510.87,309.349 1521.14,303.31 1531.42,296.265 1541.69,290.514 1551.96,284.044 1562.23,276.855 1572.5,270.529 \n",
       "  1582.77,265.066 1593.04,256.295 1603.31,250.257 1613.58,242.205 1623.85,237.461 1634.12,231.566 1644.39,224.808 1654.66,218.194 1664.93,212.875 1675.2,207.267 \n",
       "  1685.47,202.379 1695.75,197.922 1706.02,193.465 1716.29,187.714 1726.56,181.675 1736.83,177.218 1747.1,172.33 1757.37,169.454 1767.64,165.141 1777.91,159.965 \n",
       "  1788.18,156.083 1798.45,152.345 1808.72,148.463 1818.99,144.868 1829.26,141.705 1839.53,138.686 1849.8,133.941 1860.07,130.922 1870.35,127.759 1880.62,123.877 \n",
       "  1890.89,121.577 1901.16,118.989 1911.43,116.113 1921.7,113.094 1931.97,109.499 1942.24,106.768 1952.51,103.605 1962.78,101.448 1973.05,100.729 1983.32,98.4286 \n",
       "  1993.59,96.1281 2003.86,94.9779 2014.13,92.5337 2024.4,91.096 2034.68,89.802 2044.95,88.6518 2055.22,86.9264 2065.49,85.2011 2075.76,83.7634 2086.03,81.7505 \n",
       "  2096.3,80.744 2106.57,79.3063 2116.84,78.2998 2127.11,77.1496 2137.38,76.287 2147.65,75.4243 2157.92,74.7054 2168.19,73.4114 2178.46,72.1174 2188.73,71.9737 \n",
       "  2199,70.6797 2209.28,69.0981 2219.55,68.2355 2229.82,67.3728 2240.09,65.7913 2250.36,65.2162 2260.63,64.4973 2270.9,63.7784 2281.17,63.2033 2291.44,62.3406 \n",
       "  \n",
       "  \"/>\n",
       "<polyline clip-path=\"url(#clip562)\" style=\"stroke:#e26f46; stroke-linecap:butt; stroke-linejoin:round; stroke-width:4; stroke-opacity:1; fill:none\" points=\"\n",
       "  247.59,1478.4 257.86,1477.53 268.131,1475.81 278.401,1474.51 288.672,1473.08 298.943,1470.2 309.213,1467.9 319.484,1466.46 329.754,1463.73 340.025,1461.72 \n",
       "  350.296,1459.99 360.566,1455.82 370.837,1453.38 381.107,1450.5 391.378,1446.91 401.649,1443.31 411.919,1439.43 422.19,1435.41 432.46,1431.96 442.731,1427.5 \n",
       "  453.002,1424.77 463.272,1421.17 473.543,1417.72 483.813,1414.56 494.084,1409.67 504.355,1406.22 514.625,1402.77 524.896,1399.18 535.167,1396.01 545.437,1391.99 \n",
       "  555.708,1387.53 565.978,1383.36 576.249,1379.48 586.52,1375.88 596.79,1372.15 607.061,1368.41 617.331,1365.53 627.602,1362.51 637.873,1359.49 648.143,1355.04 \n",
       "  658.414,1352.88 668.684,1350 678.955,1347.99 689.226,1343.82 699.496,1341.23 709.767,1336.92 720.037,1333.9 730.308,1330.88 740.579,1328.01 750.849,1325.42 \n",
       "  761.12,1322.25 771.39,1320.39 781.661,1317.37 791.932,1313.92 802.202,1311.33 812.473,1308.45 822.744,1305.86 833.014,1303.71 843.285,1300.54 853.555,1298.24 \n",
       "  863.826,1295.37 874.097,1293.07 884.367,1289.76 894.638,1287.17 904.908,1284.15 915.179,1280.99 925.45,1278.55 935.72,1274.95 945.991,1271.07 956.261,1268.05 \n",
       "  966.532,1265.03 976.803,1261.29 987.073,1256.41 997.344,1252.52 1007.61,1247.92 1017.89,1242.89 1028.16,1239.3 1038.43,1234.7 1048.7,1229.52 1058.97,1226.07 \n",
       "  1069.24,1221.47 1079.51,1218.16 1089.78,1214.57 1100.05,1210.25 1110.32,1205.94 1120.59,1200.19 1130.86,1195.3 1141.13,1189.26 1151.4,1184.66 1161.67,1179.2 \n",
       "  1171.94,1175.6 1182.21,1170.57 1192.49,1165.54 1202.76,1160.22 1213.03,1155.04 1223.3,1149.87 1233.57,1145.84 1243.84,1142.53 1254.11,1137.65 1264.38,1132.33 \n",
       "  1274.65,1128.01 1284.92,1122.69 1295.19,1117.8 1305.46,1113.06 1315.73,1106.88 1326,1101.7 1336.27,1097.68 1346.54,1091.64 1356.82,1086.61 1367.09,1081.57 \n",
       "  1377.36,1075.68 1387.63,1070.36 1397.9,1065.47 1408.17,1059.58 1418.44,1056.56 1428.71,1051.38 1438.98,1047.79 1449.25,1042.47 1459.52,1037 1469.79,1031.83 \n",
       "  1480.06,1025.36 1490.33,1018.6 1500.6,1013.85 1510.87,1009.4 1521.14,1003.65 1531.42,998.901 1541.69,992.431 1551.96,986.249 1562.23,981.073 1572.5,975.178 \n",
       "  1582.77,969.283 1593.04,963.245 1603.31,957.925 1613.58,951.599 1623.85,945.273 1634.12,939.378 1644.39,934.49 1654.66,928.163 1664.93,921.837 1675.2,916.661 \n",
       "  1685.47,911.341 1695.75,907.028 1706.02,903.146 1716.29,896.532 1726.56,891.5 1736.83,886.324 1747.1,881.148 1757.37,876.691 1767.64,869.646 1777.91,853.831 \n",
       "  1788.18,332.928 1798.45,138.686 1808.72,76.7183 1818.99,58.0273 1829.26,49.8321 1839.53,48.5381 1849.8,47.963 1860.07,47.3879 1870.35,47.2441 1880.62,47.2441 \n",
       "  1890.89,47.2441 1901.16,47.2441 1911.43,47.2441 1921.7,47.2441 1931.97,47.2441 1942.24,47.2441 1952.51,47.2441 1962.78,47.2441 1973.05,47.2441 1983.32,47.2441 \n",
       "  1993.59,47.2441 2003.86,47.2441 2014.13,47.2441 2024.4,47.2441 2034.68,47.2441 2044.95,47.2441 2055.22,47.2441 2065.49,47.2441 2075.76,47.2441 2086.03,47.2441 \n",
       "  2096.3,47.2441 2106.57,47.2441 2116.84,47.2441 2127.11,47.2441 2137.38,47.2441 2147.65,47.2441 2157.92,47.2441 2168.19,47.2441 2178.46,47.2441 2188.73,47.2441 \n",
       "  2199,47.2441 2209.28,47.2441 2219.55,47.2441 2229.82,47.2441 2240.09,47.2441 2250.36,47.2441 2260.63,47.2441 2270.9,47.2441 2281.17,47.2441 2291.44,47.2441 \n",
       "  \n",
       "  \"/>\n",
       "<polyline clip-path=\"url(#clip562)\" style=\"stroke:#3da44d; stroke-linecap:butt; stroke-linejoin:round; stroke-width:4; stroke-opacity:1; fill:none\" points=\"\n",
       "  247.59,1485.01 257.86,1485.01 268.131,1485.01 278.401,1485.01 288.672,1485.01 298.943,1485.01 309.213,1485.01 319.484,1485.01 329.754,1485.01 340.025,1485.01 \n",
       "  350.296,1485.01 360.566,1485.01 370.837,1485.01 381.107,1485.01 391.378,1485.01 401.649,1485.01 411.919,1485.01 422.19,1485.01 432.46,1485.01 442.731,1485.01 \n",
       "  453.002,1485.01 463.272,1485.01 473.543,1485.01 483.813,1485.01 494.084,1485.01 504.355,1485.01 514.625,1485.01 524.896,1485.01 535.167,1485.01 545.437,1485.01 \n",
       "  555.708,1485.01 565.978,1485.01 576.249,1485.01 586.52,1485.01 596.79,1485.01 607.061,1485.01 617.331,1485.01 627.602,1485.01 637.873,1485.01 648.143,1485.01 \n",
       "  658.414,1485.01 668.684,1485.01 678.955,1485.01 689.226,1485.01 699.496,1485.01 709.767,1485.01 720.037,1485.01 730.308,1485.01 740.579,1485.01 750.849,1485.01 \n",
       "  761.12,1485.01 771.39,1485.01 781.661,1485.01 791.932,1485.01 802.202,1485.01 812.473,1485.01 822.744,1485.01 833.014,1485.01 843.285,1485.01 853.555,1485.01 \n",
       "  863.826,1485.01 874.097,1485.01 884.367,1485.01 894.638,1485.01 904.908,1485.01 915.179,1485.01 925.45,1485.01 935.72,1485.01 945.991,1485.01 956.261,1485.01 \n",
       "  966.532,1485.01 976.803,1485.01 987.073,1485.01 997.344,1485.01 1007.61,1485.01 1017.89,1485.01 1028.16,1485.01 1038.43,1485.01 1048.7,1485.01 1058.97,1485.01 \n",
       "  1069.24,1485.01 1079.51,1485.01 1089.78,1485.01 1100.05,1485.01 1110.32,1485.01 1120.59,47.2441 1130.86,47.2441 1141.13,47.2441 1151.4,47.2441 1161.67,47.2441 \n",
       "  1171.94,47.2441 1182.21,47.2441 1192.49,47.2441 1202.76,47.2441 1213.03,47.2441 1223.3,47.2441 1233.57,47.2441 1243.84,47.2441 1254.11,47.2441 1264.38,47.2441 \n",
       "  1274.65,47.2441 1284.92,47.2441 1295.19,47.2441 1305.46,47.2441 1315.73,47.2441 1326,47.2441 1336.27,47.2441 1346.54,47.2441 1356.82,47.2441 1367.09,47.2441 \n",
       "  1377.36,47.2441 1387.63,47.2441 1397.9,47.2441 1408.17,47.2441 1418.44,47.2441 1428.71,47.2441 1438.98,47.2441 1449.25,47.2441 1459.52,47.2441 1469.79,47.2441 \n",
       "  1480.06,47.2441 1490.33,47.2441 1500.6,47.2441 1510.87,47.2441 1521.14,47.2441 1531.42,47.2441 1541.69,47.2441 1551.96,47.2441 1562.23,47.2441 1572.5,47.2441 \n",
       "  1582.77,47.2441 1593.04,47.2441 1603.31,47.2441 1613.58,47.2441 1623.85,47.2441 1634.12,47.2441 1644.39,47.2441 1654.66,47.2441 1664.93,47.2441 1675.2,47.2441 \n",
       "  1685.47,47.2441 1695.75,47.2441 1706.02,47.2441 1716.29,47.2441 1726.56,47.2441 1736.83,47.2441 1747.1,47.2441 1757.37,47.2441 1767.64,47.2441 1777.91,47.2441 \n",
       "  1788.18,47.2441 1798.45,47.2441 1808.72,47.2441 1818.99,47.2441 1829.26,47.2441 1839.53,47.2441 1849.8,47.2441 1860.07,47.2441 1870.35,47.2441 1880.62,47.2441 \n",
       "  1890.89,47.2441 1901.16,47.2441 1911.43,47.2441 1921.7,47.2441 1931.97,47.2441 1942.24,47.2441 1952.51,47.2441 1962.78,47.2441 1973.05,47.2441 1983.32,47.2441 \n",
       "  1993.59,47.2441 2003.86,47.2441 2014.13,47.2441 2024.4,47.2441 2034.68,47.2441 2044.95,47.2441 2055.22,47.2441 2065.49,47.2441 2075.76,47.2441 2086.03,47.2441 \n",
       "  2096.3,47.2441 2106.57,47.2441 2116.84,47.2441 2127.11,47.2441 2137.38,47.2441 2147.65,47.2441 2157.92,47.2441 2168.19,47.2441 2178.46,47.2441 2188.73,47.2441 \n",
       "  2199,47.2441 2209.28,47.2441 2219.55,47.2441 2229.82,47.2441 2240.09,47.2441 2250.36,47.2441 2260.63,47.2441 2270.9,47.2441 2281.17,47.2441 2291.44,47.2441 \n",
       "  \n",
       "  \"/>\n",
       "<polyline clip-path=\"url(#clip562)\" style=\"stroke:#c271d2; stroke-linecap:butt; stroke-linejoin:round; stroke-width:4; stroke-opacity:1; fill:none\" points=\"\n",
       "  247.59,1484.99 273.461,1484.99 299.333,1484.99 325.204,1484.99 351.076,1484.99 376.947,1484.99 402.819,1484.99 428.69,1484.99 454.562,1484.99 480.433,1484.99 \n",
       "  506.305,1484.99 532.176,1484.98 558.048,1484.98 583.919,1484.97 609.791,1484.95 635.662,1484.93 661.534,1484.88 687.406,1484.8 713.277,1484.65 739.149,1484.38 \n",
       "  765.02,1483.88 790.892,1482.96 816.763,1481.28 842.635,1478.28 868.506,1473.06 894.378,1464.19 920.249,1449.5 946.121,1425.76 971.992,1388.49 997.864,1331.9 \n",
       "  1023.74,1249.88 1049.61,1138.18 1075.48,997.938 1101.35,838.227 1127.22,674.628 1153.09,523.41 1178.96,395.572 1204.84,294.87 1230.71,219.584 1256.58,165.351 \n",
       "  1282.45,127.288 1308.32,101.055 1334.19,83.2067 1360.07,71.174 1385.94,63.1157 1411.81,57.7454 1437.68,54.1793 1463.55,51.8178 1489.42,50.2571 1515.29,49.2273 \n",
       "  1541.17,48.5486 1567.04,48.1017 1592.91,47.8077 1618.78,47.6143 1644.65,47.4873 1670.52,47.4038 1696.4,47.3489 1722.27,47.3129 1748.14,47.2893 1774.01,47.2737 \n",
       "  1799.88,47.2635 1825.75,47.2569 1851.62,47.2525 1877.5,47.2496 1903.37,47.2477 1929.24,47.2465 1955.11,47.2456 1980.98,47.2451 2006.85,47.2448 2032.73,47.2445 \n",
       "  2058.6,47.2444 2084.47,47.2443 2110.34,47.2442 2136.21,47.2442 2162.08,47.2441 2187.95,47.2441 2213.83,47.2441 2239.7,47.2441 2265.57,47.2441 2291.44,47.2441 \n",
       "  \n",
       "  \"/>\n",
       "<path clip-path=\"url(#clip560)\" d=\"\n",
       "M1894.47 354.418 L2280.54 354.418 L2280.54 95.2176 L1894.47 95.2176  Z\n",
       "  \" fill=\"#ffffff\" fill-rule=\"evenodd\" fill-opacity=\"1\"/>\n",
       "<polyline clip-path=\"url(#clip560)\" style=\"stroke:#000000; stroke-linecap:butt; stroke-linejoin:round; stroke-width:4; stroke-opacity:1; fill:none\" points=\"\n",
       "  1894.47,354.418 2280.54,354.418 2280.54,95.2176 1894.47,95.2176 1894.47,354.418 \n",
       "  \"/>\n",
       "<polyline clip-path=\"url(#clip560)\" style=\"stroke:#009af9; stroke-linecap:butt; stroke-linejoin:round; stroke-width:4; stroke-opacity:1; fill:none\" points=\"\n",
       "  1918.55,147.058 2062.98,147.058 \n",
       "  \"/>\n",
       "<path clip-path=\"url(#clip560)\" d=\"M2107.56 139.407 L2107.56 143.389 Q2105.75 142.393 2103.92 141.907 Q2102.12 141.398 2100.27 141.398 Q2096.12 141.398 2093.83 144.037 Q2091.54 146.652 2091.54 151.398 Q2091.54 156.143 2093.83 158.782 Q2096.12 161.398 2100.27 161.398 Q2102.12 161.398 2103.92 160.912 Q2105.75 160.402 2107.56 159.407 L2107.56 163.342 Q2105.78 164.176 2103.85 164.592 Q2101.96 165.009 2099.8 165.009 Q2093.95 165.009 2090.5 161.328 Q2087.05 157.648 2087.05 151.398 Q2087.05 145.055 2090.52 141.421 Q2094.02 137.787 2100.08 137.787 Q2102.05 137.787 2103.92 138.203 Q2105.8 138.597 2107.56 139.407 Z\" fill=\"#000000\" fill-rule=\"evenodd\" fill-opacity=\"1\" /><path clip-path=\"url(#clip560)\" d=\"M2126.75 151.305 Q2121.59 151.305 2119.6 152.486 Q2117.6 153.666 2117.6 156.514 Q2117.6 158.782 2119.09 160.125 Q2120.59 161.444 2123.16 161.444 Q2126.7 161.444 2128.83 158.944 Q2130.98 156.421 2130.98 152.254 L2130.98 151.305 L2126.75 151.305 M2135.24 149.546 L2135.24 164.338 L2130.98 164.338 L2130.98 160.402 Q2129.53 162.763 2127.35 163.898 Q2125.17 165.009 2122.03 165.009 Q2118.04 165.009 2115.68 162.787 Q2113.35 160.541 2113.35 156.791 Q2113.35 152.416 2116.26 150.194 Q2119.2 147.972 2125.01 147.972 L2130.98 147.972 L2130.98 147.555 Q2130.98 144.615 2129.04 143.018 Q2127.12 141.398 2123.62 141.398 Q2121.4 141.398 2119.29 141.93 Q2117.19 142.463 2115.24 143.527 L2115.24 139.592 Q2117.58 138.69 2119.78 138.25 Q2121.98 137.787 2124.06 137.787 Q2129.69 137.787 2132.47 140.703 Q2135.24 143.62 2135.24 149.546 Z\" fill=\"#000000\" fill-rule=\"evenodd\" fill-opacity=\"1\" /><path clip-path=\"url(#clip560)\" d=\"M2143.58 154.106 L2143.58 138.412 L2147.84 138.412 L2147.84 153.944 Q2147.84 157.625 2149.27 159.476 Q2150.71 161.305 2153.58 161.305 Q2157.03 161.305 2159.02 159.106 Q2161.03 156.907 2161.03 153.111 L2161.03 138.412 L2165.29 138.412 L2165.29 164.338 L2161.03 164.338 L2161.03 160.356 Q2159.48 162.717 2157.42 163.875 Q2155.38 165.009 2152.67 165.009 Q2148.21 165.009 2145.89 162.231 Q2143.58 159.453 2143.58 154.106 M2154.29 137.787 L2154.29 137.787 Z\" fill=\"#000000\" fill-rule=\"evenodd\" fill-opacity=\"1\" /><polyline clip-path=\"url(#clip560)\" style=\"stroke:#e26f46; stroke-linecap:butt; stroke-linejoin:round; stroke-width:4; stroke-opacity:1; fill:none\" points=\"\n",
       "  1918.55,198.898 2062.98,198.898 \n",
       "  \"/>\n",
       "<path clip-path=\"url(#clip560)\" d=\"M2103.55 180.159 L2103.55 183.701 L2099.48 183.701 Q2097.19 183.701 2096.29 184.627 Q2095.41 185.553 2095.41 187.96 L2095.41 190.252 L2102.42 190.252 L2102.42 193.562 L2095.41 193.562 L2095.41 216.178 L2091.12 216.178 L2091.12 193.562 L2087.05 193.562 L2087.05 190.252 L2091.12 190.252 L2091.12 188.446 Q2091.12 184.118 2093.14 182.15 Q2095.15 180.159 2099.53 180.159 L2103.55 180.159 Z\" fill=\"#000000\" fill-rule=\"evenodd\" fill-opacity=\"1\" /><path clip-path=\"url(#clip560)\" d=\"M2122.14 194.233 Q2121.42 193.817 2120.57 193.631 Q2119.73 193.423 2118.72 193.423 Q2115.1 193.423 2113.16 195.784 Q2111.24 198.122 2111.24 202.52 L2111.24 216.178 L2106.96 216.178 L2106.96 190.252 L2111.24 190.252 L2111.24 194.28 Q2112.58 191.918 2114.73 190.784 Q2116.89 189.627 2119.97 189.627 Q2120.41 189.627 2120.94 189.696 Q2121.47 189.743 2122.12 189.858 L2122.14 194.233 Z\" fill=\"#000000\" fill-rule=\"evenodd\" fill-opacity=\"1\" /><path clip-path=\"url(#clip560)\" d=\"M2147.74 202.15 L2147.74 204.233 L2128.16 204.233 Q2128.44 208.631 2130.8 210.946 Q2133.18 213.238 2137.42 213.238 Q2139.87 213.238 2142.16 212.636 Q2144.48 212.034 2146.75 210.83 L2146.75 214.858 Q2144.46 215.83 2142.05 216.34 Q2139.64 216.849 2137.16 216.849 Q2130.96 216.849 2127.33 213.238 Q2123.72 209.627 2123.72 203.469 Q2123.72 197.104 2127.14 193.377 Q2130.59 189.627 2136.42 189.627 Q2141.66 189.627 2144.69 193.006 Q2147.74 196.363 2147.74 202.15 M2143.48 200.9 Q2143.44 197.405 2141.52 195.321 Q2139.62 193.238 2136.47 193.238 Q2132.91 193.238 2130.75 195.252 Q2128.62 197.266 2128.3 200.923 L2143.48 200.9 Z\" fill=\"#000000\" fill-rule=\"evenodd\" fill-opacity=\"1\" /><path clip-path=\"url(#clip560)\" d=\"M2176.28 200.529 L2176.28 216.178 L2172.03 216.178 L2172.03 200.668 Q2172.03 196.988 2170.59 195.159 Q2169.16 193.33 2166.29 193.33 Q2162.84 193.33 2160.85 195.53 Q2158.85 197.729 2158.85 201.525 L2158.85 216.178 L2154.57 216.178 L2154.57 190.252 L2158.85 190.252 L2158.85 194.28 Q2160.38 191.942 2162.44 190.784 Q2164.53 189.627 2167.23 189.627 Q2171.7 189.627 2173.99 192.405 Q2176.28 195.159 2176.28 200.529 Z\" fill=\"#000000\" fill-rule=\"evenodd\" fill-opacity=\"1\" /><path clip-path=\"url(#clip560)\" d=\"M2203.44 191.247 L2203.44 195.229 Q2201.63 194.233 2199.8 193.747 Q2198 193.238 2196.15 193.238 Q2192 193.238 2189.71 195.877 Q2187.42 198.492 2187.42 203.238 Q2187.42 207.983 2189.71 210.622 Q2192 213.238 2196.15 213.238 Q2198 213.238 2199.8 212.752 Q2201.63 212.242 2203.44 211.247 L2203.44 215.182 Q2201.66 216.016 2199.73 216.432 Q2197.84 216.849 2195.68 216.849 Q2189.83 216.849 2186.38 213.168 Q2182.93 209.488 2182.93 203.238 Q2182.93 196.895 2186.4 193.261 Q2189.9 189.627 2195.96 189.627 Q2197.93 189.627 2199.8 190.043 Q2201.68 190.437 2203.44 191.247 Z\" fill=\"#000000\" fill-rule=\"evenodd\" fill-opacity=\"1\" /><path clip-path=\"url(#clip560)\" d=\"M2232.4 200.529 L2232.4 216.178 L2228.14 216.178 L2228.14 200.668 Q2228.14 196.988 2226.7 195.159 Q2225.27 193.33 2222.4 193.33 Q2218.95 193.33 2216.96 195.53 Q2214.97 197.729 2214.97 201.525 L2214.97 216.178 L2210.68 216.178 L2210.68 180.159 L2214.97 180.159 L2214.97 194.28 Q2216.49 191.942 2218.55 190.784 Q2220.64 189.627 2223.34 189.627 Q2227.81 189.627 2230.1 192.405 Q2232.4 195.159 2232.4 200.529 Z\" fill=\"#000000\" fill-rule=\"evenodd\" fill-opacity=\"1\" /><polyline clip-path=\"url(#clip560)\" style=\"stroke:#3da44d; stroke-linecap:butt; stroke-linejoin:round; stroke-width:4; stroke-opacity:1; fill:none\" points=\"\n",
       "  1918.55,250.738 2062.98,250.738 \n",
       "  \"/>\n",
       "<path clip-path=\"url(#clip560)\" d=\"M2105.48 242.856 L2105.48 246.883 Q2103.67 245.957 2101.73 245.495 Q2099.78 245.032 2097.7 245.032 Q2094.53 245.032 2092.93 246.004 Q2091.35 246.976 2091.35 248.92 Q2091.35 250.402 2092.49 251.258 Q2093.62 252.092 2097.05 252.856 L2098.51 253.18 Q2103.04 254.152 2104.94 255.934 Q2106.86 257.694 2106.86 260.865 Q2106.86 264.476 2103.99 266.582 Q2101.15 268.689 2096.15 268.689 Q2094.06 268.689 2091.79 268.272 Q2089.55 267.879 2087.05 267.068 L2087.05 262.67 Q2089.41 263.897 2091.7 264.522 Q2093.99 265.124 2096.24 265.124 Q2099.25 265.124 2100.87 264.106 Q2102.49 263.064 2102.49 261.189 Q2102.49 259.453 2101.31 258.527 Q2100.15 257.601 2096.19 256.744 L2094.71 256.397 Q2090.75 255.564 2088.99 253.851 Q2087.23 252.115 2087.23 249.106 Q2087.23 245.448 2089.83 243.458 Q2092.42 241.467 2097.19 241.467 Q2099.55 241.467 2101.63 241.814 Q2103.72 242.161 2105.48 242.856 Z\" fill=\"#000000\" fill-rule=\"evenodd\" fill-opacity=\"1\" /><path clip-path=\"url(#clip560)\" d=\"M2123.69 245.078 Q2120.27 245.078 2118.28 247.763 Q2116.29 250.425 2116.29 255.078 Q2116.29 259.731 2118.25 262.416 Q2120.24 265.078 2123.69 265.078 Q2127.1 265.078 2129.09 262.393 Q2131.08 259.707 2131.08 255.078 Q2131.08 250.471 2129.09 247.786 Q2127.1 245.078 2123.69 245.078 M2123.69 241.467 Q2129.25 241.467 2132.42 245.078 Q2135.59 248.689 2135.59 255.078 Q2135.59 261.444 2132.42 265.078 Q2129.25 268.689 2123.69 268.689 Q2118.11 268.689 2114.94 265.078 Q2111.79 261.444 2111.79 255.078 Q2111.79 248.689 2114.94 245.078 Q2118.11 241.467 2123.69 241.467 Z\" fill=\"#000000\" fill-rule=\"evenodd\" fill-opacity=\"1\" /><path clip-path=\"url(#clip560)\" d=\"M2155.78 231.999 L2155.78 235.541 L2151.7 235.541 Q2149.41 235.541 2148.51 236.467 Q2147.63 237.393 2147.63 239.8 L2147.63 242.092 L2154.64 242.092 L2154.64 245.402 L2147.63 245.402 L2147.63 268.018 L2143.35 268.018 L2143.35 245.402 L2139.27 245.402 L2139.27 242.092 L2143.35 242.092 L2143.35 240.286 Q2143.35 235.958 2145.36 233.99 Q2147.37 231.999 2151.75 231.999 L2155.78 231.999 Z\" fill=\"#000000\" fill-rule=\"evenodd\" fill-opacity=\"1\" /><path clip-path=\"url(#clip560)\" d=\"M2162.72 234.731 L2162.72 242.092 L2171.49 242.092 L2171.49 245.402 L2162.72 245.402 L2162.72 259.476 Q2162.72 262.647 2163.58 263.55 Q2164.46 264.453 2167.12 264.453 L2171.49 264.453 L2171.49 268.018 L2167.12 268.018 Q2162.19 268.018 2160.31 266.189 Q2158.44 264.337 2158.44 259.476 L2158.44 245.402 L2155.31 245.402 L2155.31 242.092 L2158.44 242.092 L2158.44 234.731 L2162.72 234.731 Z\" fill=\"#000000\" fill-rule=\"evenodd\" fill-opacity=\"1\" /><polyline clip-path=\"url(#clip560)\" style=\"stroke:#c271d2; stroke-linecap:butt; stroke-linejoin:round; stroke-width:4; stroke-opacity:1; fill:none\" points=\"\n",
       "  1918.55,302.578 2062.98,302.578 \n",
       "  \"/>\n",
       "<path clip-path=\"url(#clip560)\" d=\"M2105.48 294.696 L2105.48 298.723 Q2103.67 297.797 2101.73 297.335 Q2099.78 296.872 2097.7 296.872 Q2094.53 296.872 2092.93 297.844 Q2091.35 298.816 2091.35 300.76 Q2091.35 302.242 2092.49 303.098 Q2093.62 303.932 2097.05 304.696 L2098.51 305.02 Q2103.04 305.992 2104.94 307.774 Q2106.86 309.534 2106.86 312.705 Q2106.86 316.316 2103.99 318.422 Q2101.15 320.529 2096.15 320.529 Q2094.06 320.529 2091.79 320.112 Q2089.55 319.719 2087.05 318.908 L2087.05 314.51 Q2089.41 315.737 2091.7 316.362 Q2093.99 316.964 2096.24 316.964 Q2099.25 316.964 2100.87 315.946 Q2102.49 314.904 2102.49 313.029 Q2102.49 311.293 2101.31 310.367 Q2100.15 309.441 2096.19 308.584 L2094.71 308.237 Q2090.75 307.404 2088.99 305.691 Q2087.23 303.955 2087.23 300.946 Q2087.23 297.288 2089.83 295.298 Q2092.42 293.307 2097.19 293.307 Q2099.55 293.307 2101.63 293.654 Q2103.72 294.001 2105.48 294.696 Z\" fill=\"#000000\" fill-rule=\"evenodd\" fill-opacity=\"1\" /><path clip-path=\"url(#clip560)\" d=\"M2113.65 293.932 L2117.91 293.932 L2117.91 319.858 L2113.65 319.858 L2113.65 293.932 M2113.65 283.839 L2117.91 283.839 L2117.91 289.233 L2113.65 289.233 L2113.65 283.839 Z\" fill=\"#000000\" fill-rule=\"evenodd\" fill-opacity=\"1\" /><path clip-path=\"url(#clip560)\" d=\"M2145.43 306.918 Q2145.43 302.219 2143.48 299.557 Q2141.56 296.872 2138.18 296.872 Q2134.8 296.872 2132.86 299.557 Q2130.94 302.219 2130.94 306.918 Q2130.94 311.617 2132.86 314.302 Q2134.8 316.964 2138.18 316.964 Q2141.56 316.964 2143.48 314.302 Q2145.43 311.617 2145.43 306.918 M2130.94 297.867 Q2132.28 295.552 2134.32 294.441 Q2136.38 293.307 2139.23 293.307 Q2143.95 293.307 2146.89 297.057 Q2149.85 300.807 2149.85 306.918 Q2149.85 313.029 2146.89 316.779 Q2143.95 320.529 2139.23 320.529 Q2136.38 320.529 2134.32 319.418 Q2132.28 318.283 2130.94 315.969 L2130.94 319.858 L2126.66 319.858 L2126.66 283.839 L2130.94 283.839 L2130.94 297.867 Z\" fill=\"#000000\" fill-rule=\"evenodd\" fill-opacity=\"1\" /></svg>\n"
      ]
     },
     "execution_count": 51,
     "metadata": {},
     "output_type": "execute_result"
    }
   ],
   "source": [
    "i = 6\n",
    "plot(LinRange(1,Int(T),bins),p_cau[i,:], label = \"cau\")\n",
    "plot!(LinRange(1,Int(T),bins),p_french[i,:], label = \"french\")\n",
    "plot!(LinRange(1,Int(T),bins),p_soft[i,:], label = \"soft\")\n",
    "#plot!(LinRange(1,Int(T),bins),p_MH[i,:], label = \"MH\")\n",
    "plot!(LinRange(1,Int(T),Int(round(T/dt))),p_sib[i,:], label = \"sib\")\n",
    "ylims!(-0.001,1)"
   ]
  },
  {
   "cell_type": "code",
   "execution_count": 50,
   "metadata": {},
   "outputs": [
    {
     "data": {
      "image/svg+xml": [
       "<?xml version=\"1.0\" encoding=\"utf-8\"?>\n",
       "<svg xmlns=\"http://www.w3.org/2000/svg\" xmlns:xlink=\"http://www.w3.org/1999/xlink\" width=\"600\" height=\"400\" viewBox=\"0 0 2400 1600\">\n",
       "<defs>\n",
       "  <clipPath id=\"clip520\">\n",
       "    <rect x=\"0\" y=\"0\" width=\"2400\" height=\"1600\"/>\n",
       "  </clipPath>\n",
       "</defs>\n",
       "<path clip-path=\"url(#clip520)\" d=\"\n",
       "M0 1600 L2400 1600 L2400 0 L0 0  Z\n",
       "  \" fill=\"#ffffff\" fill-rule=\"evenodd\" fill-opacity=\"1\"/>\n",
       "<defs>\n",
       "  <clipPath id=\"clip521\">\n",
       "    <rect x=\"480\" y=\"0\" width=\"1681\" height=\"1600\"/>\n",
       "  </clipPath>\n",
       "</defs>\n",
       "<path clip-path=\"url(#clip520)\" d=\"\n",
       "M219.866 1423.18 L2352.76 1423.18 L2352.76 123.472 L219.866 123.472  Z\n",
       "  \" fill=\"#ffffff\" fill-rule=\"evenodd\" fill-opacity=\"1\"/>\n",
       "<defs>\n",
       "  <clipPath id=\"clip522\">\n",
       "    <rect x=\"219\" y=\"123\" width=\"2134\" height=\"1301\"/>\n",
       "  </clipPath>\n",
       "</defs>\n",
       "<polyline clip-path=\"url(#clip522)\" style=\"stroke:#000000; stroke-linecap:butt; stroke-linejoin:round; stroke-width:2; stroke-opacity:0.1; fill:none\" points=\"\n",
       "  703.844,1423.18 703.844,123.472 \n",
       "  \"/>\n",
       "<polyline clip-path=\"url(#clip522)\" style=\"stroke:#000000; stroke-linecap:butt; stroke-linejoin:round; stroke-width:2; stroke-opacity:0.1; fill:none\" points=\"\n",
       "  1233.36,1423.18 1233.36,123.472 \n",
       "  \"/>\n",
       "<polyline clip-path=\"url(#clip522)\" style=\"stroke:#000000; stroke-linecap:butt; stroke-linejoin:round; stroke-width:2; stroke-opacity:0.1; fill:none\" points=\"\n",
       "  1762.88,1423.18 1762.88,123.472 \n",
       "  \"/>\n",
       "<polyline clip-path=\"url(#clip522)\" style=\"stroke:#000000; stroke-linecap:butt; stroke-linejoin:round; stroke-width:2; stroke-opacity:0.1; fill:none\" points=\"\n",
       "  2292.39,1423.18 2292.39,123.472 \n",
       "  \"/>\n",
       "<polyline clip-path=\"url(#clip520)\" style=\"stroke:#000000; stroke-linecap:butt; stroke-linejoin:round; stroke-width:4; stroke-opacity:1; fill:none\" points=\"\n",
       "  219.866,1423.18 2352.76,1423.18 \n",
       "  \"/>\n",
       "<polyline clip-path=\"url(#clip520)\" style=\"stroke:#000000; stroke-linecap:butt; stroke-linejoin:round; stroke-width:4; stroke-opacity:1; fill:none\" points=\"\n",
       "  703.844,1423.18 703.844,1404.28 \n",
       "  \"/>\n",
       "<polyline clip-path=\"url(#clip520)\" style=\"stroke:#000000; stroke-linecap:butt; stroke-linejoin:round; stroke-width:4; stroke-opacity:1; fill:none\" points=\"\n",
       "  1233.36,1423.18 1233.36,1404.28 \n",
       "  \"/>\n",
       "<polyline clip-path=\"url(#clip520)\" style=\"stroke:#000000; stroke-linecap:butt; stroke-linejoin:round; stroke-width:4; stroke-opacity:1; fill:none\" points=\"\n",
       "  1762.88,1423.18 1762.88,1404.28 \n",
       "  \"/>\n",
       "<polyline clip-path=\"url(#clip520)\" style=\"stroke:#000000; stroke-linecap:butt; stroke-linejoin:round; stroke-width:4; stroke-opacity:1; fill:none\" points=\"\n",
       "  2292.39,1423.18 2292.39,1404.28 \n",
       "  \"/>\n",
       "<path clip-path=\"url(#clip520)\" d=\"M694.122 1451.02 L712.478 1451.02 L712.478 1454.96 L698.404 1454.96 L698.404 1463.43 Q699.422 1463.08 700.441 1462.92 Q701.459 1462.73 702.478 1462.73 Q708.265 1462.73 711.645 1465.9 Q715.024 1469.08 715.024 1474.49 Q715.024 1480.07 711.552 1483.17 Q708.08 1486.25 701.76 1486.25 Q699.584 1486.25 697.316 1485.88 Q695.071 1485.51 692.663 1484.77 L692.663 1480.07 Q694.747 1481.2 696.969 1481.76 Q699.191 1482.32 701.668 1482.32 Q705.672 1482.32 708.01 1480.21 Q710.348 1478.1 710.348 1474.49 Q710.348 1470.88 708.01 1468.77 Q705.672 1466.67 701.668 1466.67 Q699.793 1466.67 697.918 1467.08 Q696.066 1467.5 694.122 1468.38 L694.122 1451.02 Z\" fill=\"#000000\" fill-rule=\"evenodd\" fill-opacity=\"1\" /><path clip-path=\"url(#clip520)\" d=\"M1208.05 1481.64 L1215.69 1481.64 L1215.69 1455.28 L1207.38 1456.95 L1207.38 1452.69 L1215.64 1451.02 L1220.32 1451.02 L1220.32 1481.64 L1227.95 1481.64 L1227.95 1485.58 L1208.05 1485.58 L1208.05 1481.64 Z\" fill=\"#000000\" fill-rule=\"evenodd\" fill-opacity=\"1\" /><path clip-path=\"url(#clip520)\" d=\"M1247.4 1454.1 Q1243.79 1454.1 1241.96 1457.66 Q1240.15 1461.2 1240.15 1468.33 Q1240.15 1475.44 1241.96 1479.01 Q1243.79 1482.55 1247.4 1482.55 Q1251.03 1482.55 1252.84 1479.01 Q1254.67 1475.44 1254.67 1468.33 Q1254.67 1461.2 1252.84 1457.66 Q1251.03 1454.1 1247.4 1454.1 M1247.4 1450.39 Q1253.21 1450.39 1256.26 1455 Q1259.34 1459.58 1259.34 1468.33 Q1259.34 1477.06 1256.26 1481.67 Q1253.21 1486.25 1247.4 1486.25 Q1241.59 1486.25 1238.51 1481.67 Q1235.45 1477.06 1235.45 1468.33 Q1235.45 1459.58 1238.51 1455 Q1241.59 1450.39 1247.4 1450.39 Z\" fill=\"#000000\" fill-rule=\"evenodd\" fill-opacity=\"1\" /><path clip-path=\"url(#clip520)\" d=\"M1738.06 1481.64 L1745.7 1481.64 L1745.7 1455.28 L1737.39 1456.95 L1737.39 1452.69 L1745.65 1451.02 L1750.33 1451.02 L1750.33 1481.64 L1757.97 1481.64 L1757.97 1485.58 L1738.06 1485.58 L1738.06 1481.64 Z\" fill=\"#000000\" fill-rule=\"evenodd\" fill-opacity=\"1\" /><path clip-path=\"url(#clip520)\" d=\"M1767.46 1451.02 L1785.81 1451.02 L1785.81 1454.96 L1771.74 1454.96 L1771.74 1463.43 Q1772.76 1463.08 1773.78 1462.92 Q1774.8 1462.73 1775.82 1462.73 Q1781.6 1462.73 1784.98 1465.9 Q1788.36 1469.08 1788.36 1474.49 Q1788.36 1480.07 1784.89 1483.17 Q1781.42 1486.25 1775.1 1486.25 Q1772.92 1486.25 1770.65 1485.88 Q1768.41 1485.51 1766 1484.77 L1766 1480.07 Q1768.08 1481.2 1770.31 1481.76 Q1772.53 1482.32 1775 1482.32 Q1779.01 1482.32 1781.35 1480.21 Q1783.69 1478.1 1783.69 1474.49 Q1783.69 1470.88 1781.35 1468.77 Q1779.01 1466.67 1775 1466.67 Q1773.13 1466.67 1771.25 1467.08 Q1769.4 1467.5 1767.46 1468.38 L1767.46 1451.02 Z\" fill=\"#000000\" fill-rule=\"evenodd\" fill-opacity=\"1\" /><path clip-path=\"url(#clip520)\" d=\"M2271.16 1481.64 L2287.48 1481.64 L2287.48 1485.58 L2265.54 1485.58 L2265.54 1481.64 Q2268.2 1478.89 2272.78 1474.26 Q2277.39 1469.61 2278.57 1468.27 Q2280.82 1465.74 2281.7 1464.01 Q2282.6 1462.25 2282.6 1460.56 Q2282.6 1457.8 2280.66 1456.07 Q2278.73 1454.33 2275.63 1454.33 Q2273.43 1454.33 2270.98 1455.09 Q2268.55 1455.86 2265.77 1457.41 L2265.77 1452.69 Q2268.59 1451.55 2271.05 1450.97 Q2273.5 1450.39 2275.54 1450.39 Q2280.91 1450.39 2284.1 1453.08 Q2287.3 1455.77 2287.3 1460.26 Q2287.3 1462.39 2286.49 1464.31 Q2285.7 1466.2 2283.59 1468.8 Q2283.02 1469.47 2279.91 1472.69 Q2276.81 1475.88 2271.16 1481.64 Z\" fill=\"#000000\" fill-rule=\"evenodd\" fill-opacity=\"1\" /><path clip-path=\"url(#clip520)\" d=\"M2307.3 1454.1 Q2303.69 1454.1 2301.86 1457.66 Q2300.05 1461.2 2300.05 1468.33 Q2300.05 1475.44 2301.86 1479.01 Q2303.69 1482.55 2307.3 1482.55 Q2310.93 1482.55 2312.74 1479.01 Q2314.57 1475.44 2314.57 1468.33 Q2314.57 1461.2 2312.74 1457.66 Q2310.93 1454.1 2307.3 1454.1 M2307.3 1450.39 Q2313.11 1450.39 2316.16 1455 Q2319.24 1459.58 2319.24 1468.33 Q2319.24 1477.06 2316.16 1481.67 Q2313.11 1486.25 2307.3 1486.25 Q2301.49 1486.25 2298.41 1481.67 Q2295.35 1477.06 2295.35 1468.33 Q2295.35 1459.58 2298.41 1455 Q2301.49 1450.39 2307.3 1450.39 Z\" fill=\"#000000\" fill-rule=\"evenodd\" fill-opacity=\"1\" /><path clip-path=\"url(#clip520)\" d=\"M1285.37 1522.27 L1285.37 1532.4 L1297.44 1532.4 L1297.44 1536.95 L1285.37 1536.95 L1285.37 1556.3 Q1285.37 1560.66 1286.55 1561.9 Q1287.76 1563.14 1291.42 1563.14 L1297.44 1563.14 L1297.44 1568.04 L1291.42 1568.04 Q1284.64 1568.04 1282.06 1565.53 Q1279.48 1562.98 1279.48 1556.3 L1279.48 1536.95 L1275.19 1536.95 L1275.19 1532.4 L1279.48 1532.4 L1279.48 1522.27 L1285.37 1522.27 Z\" fill=\"#000000\" fill-rule=\"evenodd\" fill-opacity=\"1\" /><polyline clip-path=\"url(#clip522)\" style=\"stroke:#000000; stroke-linecap:butt; stroke-linejoin:round; stroke-width:2; stroke-opacity:0.1; fill:none\" points=\"\n",
       "  219.866,1137.82 2352.76,1137.82 \n",
       "  \"/>\n",
       "<polyline clip-path=\"url(#clip522)\" style=\"stroke:#000000; stroke-linecap:butt; stroke-linejoin:round; stroke-width:2; stroke-opacity:0.1; fill:none\" points=\"\n",
       "  219.866,811.963 2352.76,811.963 \n",
       "  \"/>\n",
       "<polyline clip-path=\"url(#clip522)\" style=\"stroke:#000000; stroke-linecap:butt; stroke-linejoin:round; stroke-width:2; stroke-opacity:0.1; fill:none\" points=\"\n",
       "  219.866,486.11 2352.76,486.11 \n",
       "  \"/>\n",
       "<polyline clip-path=\"url(#clip522)\" style=\"stroke:#000000; stroke-linecap:butt; stroke-linejoin:round; stroke-width:2; stroke-opacity:0.1; fill:none\" points=\"\n",
       "  219.866,160.256 2352.76,160.256 \n",
       "  \"/>\n",
       "<polyline clip-path=\"url(#clip520)\" style=\"stroke:#000000; stroke-linecap:butt; stroke-linejoin:round; stroke-width:4; stroke-opacity:1; fill:none\" points=\"\n",
       "  219.866,1423.18 219.866,123.472 \n",
       "  \"/>\n",
       "<polyline clip-path=\"url(#clip520)\" style=\"stroke:#000000; stroke-linecap:butt; stroke-linejoin:round; stroke-width:4; stroke-opacity:1; fill:none\" points=\"\n",
       "  219.866,1137.82 238.764,1137.82 \n",
       "  \"/>\n",
       "<polyline clip-path=\"url(#clip520)\" style=\"stroke:#000000; stroke-linecap:butt; stroke-linejoin:round; stroke-width:4; stroke-opacity:1; fill:none\" points=\"\n",
       "  219.866,811.963 238.764,811.963 \n",
       "  \"/>\n",
       "<polyline clip-path=\"url(#clip520)\" style=\"stroke:#000000; stroke-linecap:butt; stroke-linejoin:round; stroke-width:4; stroke-opacity:1; fill:none\" points=\"\n",
       "  219.866,486.11 238.764,486.11 \n",
       "  \"/>\n",
       "<polyline clip-path=\"url(#clip520)\" style=\"stroke:#000000; stroke-linecap:butt; stroke-linejoin:round; stroke-width:4; stroke-opacity:1; fill:none\" points=\"\n",
       "  219.866,160.256 238.764,160.256 \n",
       "  \"/>\n",
       "<path clip-path=\"url(#clip520)\" d=\"M126.205 1123.62 Q122.593 1123.62 120.765 1127.18 Q118.959 1130.72 118.959 1137.85 Q118.959 1144.96 120.765 1148.52 Q122.593 1152.06 126.205 1152.06 Q129.839 1152.06 131.644 1148.52 Q133.473 1144.96 133.473 1137.85 Q133.473 1130.72 131.644 1127.18 Q129.839 1123.62 126.205 1123.62 M126.205 1119.91 Q132.015 1119.91 135.07 1124.52 Q138.149 1129.1 138.149 1137.85 Q138.149 1146.58 135.07 1151.18 Q132.015 1155.77 126.205 1155.77 Q120.394 1155.77 117.316 1151.18 Q114.26 1146.58 114.26 1137.85 Q114.26 1129.1 117.316 1124.52 Q120.394 1119.91 126.205 1119.91 Z\" fill=\"#000000\" fill-rule=\"evenodd\" fill-opacity=\"1\" /><path clip-path=\"url(#clip520)\" d=\"M146.366 1149.22 L151.251 1149.22 L151.251 1155.1 L146.366 1155.1 L146.366 1149.22 Z\" fill=\"#000000\" fill-rule=\"evenodd\" fill-opacity=\"1\" /><path clip-path=\"url(#clip520)\" d=\"M174.283 1124.61 L162.477 1143.06 L174.283 1143.06 L174.283 1124.61 M173.056 1120.54 L178.936 1120.54 L178.936 1143.06 L183.866 1143.06 L183.866 1146.95 L178.936 1146.95 L178.936 1155.1 L174.283 1155.1 L174.283 1146.95 L158.681 1146.95 L158.681 1142.43 L173.056 1120.54 Z\" fill=\"#000000\" fill-rule=\"evenodd\" fill-opacity=\"1\" /><path clip-path=\"url(#clip520)\" d=\"M126.529 797.762 Q122.918 797.762 121.089 801.327 Q119.283 804.868 119.283 811.998 Q119.283 819.104 121.089 822.669 Q122.918 826.211 126.529 826.211 Q130.163 826.211 131.968 822.669 Q133.797 819.104 133.797 811.998 Q133.797 804.868 131.968 801.327 Q130.163 797.762 126.529 797.762 M126.529 794.058 Q132.339 794.058 135.394 798.665 Q138.473 803.248 138.473 811.998 Q138.473 820.725 135.394 825.331 Q132.339 829.914 126.529 829.914 Q120.718 829.914 117.64 825.331 Q114.584 820.725 114.584 811.998 Q114.584 803.248 117.64 798.665 Q120.718 794.058 126.529 794.058 Z\" fill=\"#000000\" fill-rule=\"evenodd\" fill-opacity=\"1\" /><path clip-path=\"url(#clip520)\" d=\"M146.691 823.364 L151.575 823.364 L151.575 829.243 L146.691 829.243 L146.691 823.364 Z\" fill=\"#000000\" fill-rule=\"evenodd\" fill-opacity=\"1\" /><path clip-path=\"url(#clip520)\" d=\"M172.339 810.1 Q169.19 810.1 167.339 812.253 Q165.51 814.405 165.51 818.155 Q165.51 821.882 167.339 824.058 Q169.19 826.211 172.339 826.211 Q175.487 826.211 177.315 824.058 Q179.167 821.882 179.167 818.155 Q179.167 814.405 177.315 812.253 Q175.487 810.1 172.339 810.1 M181.621 795.447 L181.621 799.706 Q179.862 798.873 178.056 798.433 Q176.274 797.993 174.514 797.993 Q169.885 797.993 167.431 801.118 Q165.001 804.243 164.653 810.563 Q166.019 808.549 168.079 807.484 Q170.139 806.396 172.616 806.396 Q177.825 806.396 180.834 809.567 Q183.866 812.715 183.866 818.155 Q183.866 823.479 180.718 826.697 Q177.57 829.914 172.339 829.914 Q166.343 829.914 163.172 825.331 Q160.001 820.725 160.001 811.998 Q160.001 803.803 163.89 798.942 Q167.778 794.058 174.329 794.058 Q176.089 794.058 177.871 794.405 Q179.676 794.753 181.621 795.447 Z\" fill=\"#000000\" fill-rule=\"evenodd\" fill-opacity=\"1\" /><path clip-path=\"url(#clip520)\" d=\"M126.783 471.908 Q123.172 471.908 121.343 475.473 Q119.538 479.015 119.538 486.144 Q119.538 493.251 121.343 496.816 Q123.172 500.357 126.783 500.357 Q130.417 500.357 132.223 496.816 Q134.052 493.251 134.052 486.144 Q134.052 479.015 132.223 475.473 Q130.417 471.908 126.783 471.908 M126.783 468.205 Q132.593 468.205 135.649 472.811 Q138.728 477.395 138.728 486.144 Q138.728 494.871 135.649 499.478 Q132.593 504.061 126.783 504.061 Q120.973 504.061 117.894 499.478 Q114.839 494.871 114.839 486.144 Q114.839 477.395 117.894 472.811 Q120.973 468.205 126.783 468.205 Z\" fill=\"#000000\" fill-rule=\"evenodd\" fill-opacity=\"1\" /><path clip-path=\"url(#clip520)\" d=\"M146.945 497.51 L151.829 497.51 L151.829 503.39 L146.945 503.39 L146.945 497.51 Z\" fill=\"#000000\" fill-rule=\"evenodd\" fill-opacity=\"1\" /><path clip-path=\"url(#clip520)\" d=\"M172.014 486.978 Q168.681 486.978 166.76 488.76 Q164.862 490.543 164.862 493.668 Q164.862 496.793 166.76 498.575 Q168.681 500.357 172.014 500.357 Q175.348 500.357 177.269 498.575 Q179.19 496.769 179.19 493.668 Q179.19 490.543 177.269 488.76 Q175.371 486.978 172.014 486.978 M167.339 484.987 Q164.329 484.246 162.64 482.186 Q160.973 480.126 160.973 477.163 Q160.973 473.02 163.913 470.612 Q166.876 468.205 172.014 468.205 Q177.176 468.205 180.116 470.612 Q183.056 473.02 183.056 477.163 Q183.056 480.126 181.366 482.186 Q179.7 484.246 176.714 484.987 Q180.093 485.774 181.968 488.066 Q183.866 490.357 183.866 493.668 Q183.866 498.691 180.788 501.376 Q177.732 504.061 172.014 504.061 Q166.297 504.061 163.218 501.376 Q160.163 498.691 160.163 493.668 Q160.163 490.357 162.061 488.066 Q163.959 485.774 167.339 484.987 M165.626 477.603 Q165.626 480.288 167.292 481.793 Q168.982 483.297 172.014 483.297 Q175.024 483.297 176.714 481.793 Q178.426 480.288 178.426 477.603 Q178.426 474.918 176.714 473.413 Q175.024 471.908 172.014 471.908 Q168.982 471.908 167.292 473.413 Q165.626 474.918 165.626 477.603 Z\" fill=\"#000000\" fill-rule=\"evenodd\" fill-opacity=\"1\" /><path clip-path=\"url(#clip520)\" d=\"M117.501 173.601 L125.14 173.601 L125.14 147.236 L116.83 148.902 L116.83 144.643 L125.093 142.976 L129.769 142.976 L129.769 173.601 L137.408 173.601 L137.408 177.536 L117.501 177.536 L117.501 173.601 Z\" fill=\"#000000\" fill-rule=\"evenodd\" fill-opacity=\"1\" /><path clip-path=\"url(#clip520)\" d=\"M146.853 171.657 L151.737 171.657 L151.737 177.536 L146.853 177.536 L146.853 171.657 Z\" fill=\"#000000\" fill-rule=\"evenodd\" fill-opacity=\"1\" /><path clip-path=\"url(#clip520)\" d=\"M171.922 146.055 Q168.311 146.055 166.482 149.62 Q164.677 153.161 164.677 160.291 Q164.677 167.397 166.482 170.962 Q168.311 174.504 171.922 174.504 Q175.556 174.504 177.362 170.962 Q179.19 167.397 179.19 160.291 Q179.19 153.161 177.362 149.62 Q175.556 146.055 171.922 146.055 M171.922 142.351 Q177.732 142.351 180.788 146.958 Q183.866 151.541 183.866 160.291 Q183.866 169.018 180.788 173.624 Q177.732 178.208 171.922 178.208 Q166.112 178.208 163.033 173.624 Q159.978 169.018 159.978 160.291 Q159.978 151.541 163.033 146.958 Q166.112 142.351 171.922 142.351 Z\" fill=\"#000000\" fill-rule=\"evenodd\" fill-opacity=\"1\" /><path clip-path=\"url(#clip520)\" d=\"M22.818 866.743 L46.4666 875.464 L46.4666 857.99 L22.818 866.743 M16.4842 870.371 L16.4842 863.082 L64.0042 844.972 L64.0042 851.656 L51.8138 855.985 L51.8138 877.405 L64.0042 881.734 L64.0042 888.513 L16.4842 870.371 Z\" fill=\"#000000\" fill-rule=\"evenodd\" fill-opacity=\"1\" /><path clip-path=\"url(#clip520)\" d=\"M16.4842 838.765 L16.4842 832.304 L45.3526 832.304 Q52.9915 832.304 56.3653 829.535 Q59.7073 826.766 59.7073 820.56 Q59.7073 814.385 56.3653 811.616 Q52.9915 808.847 45.3526 808.847 L16.4842 808.847 L16.4842 802.385 L46.1484 802.385 Q55.4423 802.385 60.1847 807.001 Q64.9272 811.584 64.9272 820.56 Q64.9272 829.567 60.1847 834.182 Q55.4423 838.765 46.1484 838.765 L16.4842 838.765 Z\" fill=\"#000000\" fill-rule=\"evenodd\" fill-opacity=\"1\" /><path clip-path=\"url(#clip520)\" d=\"M41.7242 767.788 Q42.4244 765.719 44.7161 763.777 Q47.0077 761.804 51.0181 759.831 L64.0042 753.306 L64.0042 760.213 L51.8138 766.292 Q47.0395 768.647 45.48 770.875 Q43.9204 773.071 43.9204 776.891 L43.9204 783.893 L64.0042 783.893 L64.0042 790.322 L16.4842 790.322 L16.4842 775.809 Q16.4842 767.661 19.8898 763.65 Q23.2955 759.64 30.1704 759.64 Q34.6582 759.64 37.6183 761.74 Q40.5784 763.809 41.7242 767.788 M21.7677 783.893 L38.6368 783.893 L38.6368 775.809 Q38.6368 771.162 36.5043 768.806 Q34.34 766.419 30.1704 766.419 Q26.0009 766.419 23.9002 768.806 Q21.7677 771.162 21.7677 775.809 L21.7677 783.893 Z\" fill=\"#000000\" fill-rule=\"evenodd\" fill-opacity=\"1\" /><path clip-path=\"url(#clip520)\" d=\"M20.8447 725.742 Q20.8447 732.745 26.0645 736.882 Q31.2844 740.988 40.2919 740.988 Q49.2675 740.988 54.4874 736.882 Q59.7073 732.745 59.7073 725.742 Q59.7073 718.74 54.4874 714.666 Q49.2675 710.56 40.2919 710.56 Q31.2844 710.56 26.0645 714.666 Q20.8447 718.74 20.8447 725.742 M15.6248 725.742 Q15.6248 715.748 22.3406 709.764 Q29.0246 703.781 40.2919 703.781 Q51.5274 703.781 58.2432 709.764 Q64.9272 715.748 64.9272 725.742 Q64.9272 735.768 58.2432 741.784 Q51.5592 747.768 40.2919 747.768 Q29.0246 747.768 22.3406 741.784 Q15.6248 735.768 15.6248 725.742 Z\" fill=\"#000000\" fill-rule=\"evenodd\" fill-opacity=\"1\" /><path clip-path=\"url(#clip520)\" d=\"M20.1444 658.139 L26.9239 658.139 Q23.9002 661.385 22.4043 665.077 Q20.9083 668.737 20.9083 672.875 Q20.9083 681.023 25.9054 685.352 Q30.8707 689.681 40.2919 689.681 Q49.6813 689.681 54.6784 685.352 Q59.6436 681.023 59.6436 672.875 Q59.6436 668.737 58.1477 665.077 Q56.6518 661.385 53.6281 658.139 L60.3439 658.139 Q62.6355 661.512 63.7814 665.3 Q64.9272 669.056 64.9272 673.257 Q64.9272 684.047 58.3387 690.254 Q51.7183 696.46 40.2919 696.46 Q28.8336 696.46 22.2451 690.254 Q15.6248 684.047 15.6248 673.257 Q15.6248 668.992 16.7706 665.236 Q17.8846 661.449 20.1444 658.139 Z\" fill=\"#000000\" fill-rule=\"evenodd\" fill-opacity=\"1\" /><path clip-path=\"url(#clip520)\" d=\"M446.721 16.7545 L446.721 25.383 Q442.589 21.5346 437.89 19.6307 Q433.231 17.7268 427.965 17.7268 Q417.595 17.7268 412.085 24.0867 Q406.576 30.4061 406.576 42.3968 Q406.576 54.3469 412.085 60.7069 Q417.595 67.0263 427.965 67.0263 Q433.231 67.0263 437.89 65.1223 Q442.589 63.2184 446.721 59.3701 L446.721 67.9175 Q442.427 70.8341 437.606 72.2924 Q432.826 73.7508 427.479 73.7508 Q413.746 73.7508 405.847 65.3654 Q397.948 56.9395 397.948 42.3968 Q397.948 27.8135 405.847 19.4281 Q413.746 11.0023 427.479 11.0023 Q432.907 11.0023 437.687 12.4606 Q442.508 13.8784 446.721 16.7545 Z\" fill=\"#000000\" fill-rule=\"evenodd\" fill-opacity=\"1\" /><path clip-path=\"url(#clip520)\" d=\"M479.655 49.7694 Q470.621 49.7694 467.137 51.8354 Q463.653 53.9013 463.653 58.8839 Q463.653 62.8538 466.246 65.2034 Q468.879 67.5124 473.376 67.5124 Q479.574 67.5124 483.3 63.1374 Q487.068 58.7219 487.068 51.4303 L487.068 49.7694 L479.655 49.7694 M494.521 46.6907 L494.521 72.576 L487.068 72.576 L487.068 65.6895 Q484.516 69.8214 480.708 71.8063 Q476.9 73.7508 471.391 73.7508 Q464.423 73.7508 460.291 69.8619 Q456.2 65.9325 456.2 59.3701 Q456.2 51.7138 461.304 47.825 Q466.449 43.9361 476.616 43.9361 L487.068 43.9361 L487.068 43.2069 Q487.068 38.0623 483.665 35.2672 Q480.303 32.4315 474.186 32.4315 Q470.297 32.4315 466.611 33.3632 Q462.924 34.295 459.522 36.1584 L459.522 29.2718 Q463.613 27.692 467.461 26.9223 Q471.31 26.1121 474.955 26.1121 Q484.799 26.1121 489.66 31.2163 Q494.521 36.3204 494.521 46.6907 Z\" fill=\"#000000\" fill-rule=\"evenodd\" fill-opacity=\"1\" /><path clip-path=\"url(#clip520)\" d=\"M509.105 54.671 L509.105 27.2059 L516.558 27.2059 L516.558 54.3874 Q516.558 60.8284 519.07 64.0691 Q521.581 67.2693 526.605 67.2693 Q532.64 67.2693 536.124 63.421 Q539.648 59.5726 539.648 52.9291 L539.648 27.2059 L547.102 27.2059 L547.102 72.576 L539.648 72.576 L539.648 65.6084 Q536.934 69.7404 533.329 71.7658 Q529.764 73.7508 525.025 73.7508 Q517.206 73.7508 513.156 68.8897 Q509.105 64.0286 509.105 54.671 M527.86 26.1121 L527.86 26.1121 Z\" fill=\"#000000\" fill-rule=\"evenodd\" fill-opacity=\"1\" /><path clip-path=\"url(#clip520)\" d=\"M591.378 28.5427 L591.378 35.5912 Q588.219 33.9709 584.816 33.1607 Q581.413 32.3505 577.767 32.3505 Q572.218 32.3505 569.423 34.0519 Q566.668 35.7533 566.668 39.156 Q566.668 41.7486 568.653 43.2475 Q570.638 44.7058 576.633 46.0426 L579.185 46.6097 Q587.125 48.3111 590.447 51.4303 Q593.809 54.509 593.809 60.0587 Q593.809 66.3781 588.786 70.0644 Q583.803 73.7508 575.053 73.7508 Q571.408 73.7508 567.438 73.0216 Q563.508 72.3329 559.133 70.9151 L559.133 63.2184 Q563.265 65.3654 567.276 66.4591 Q571.286 67.5124 575.215 67.5124 Q580.482 67.5124 583.317 65.73 Q586.153 63.9071 586.153 60.6258 Q586.153 57.5877 584.087 55.9673 Q582.061 54.3469 575.134 52.8481 L572.542 52.2405 Q565.615 50.7821 562.536 47.7845 Q559.457 44.7463 559.457 39.4801 Q559.457 33.0797 563.994 29.5959 Q568.531 26.1121 576.876 26.1121 Q581.008 26.1121 584.654 26.7198 Q588.3 27.3274 591.378 28.5427 Z\" fill=\"#000000\" fill-rule=\"evenodd\" fill-opacity=\"1\" /><path clip-path=\"url(#clip520)\" d=\"M626.297 49.7694 Q617.264 49.7694 613.78 51.8354 Q610.296 53.9013 610.296 58.8839 Q610.296 62.8538 612.889 65.2034 Q615.522 67.5124 620.018 67.5124 Q626.216 67.5124 629.943 63.1374 Q633.71 58.7219 633.71 51.4303 L633.71 49.7694 L626.297 49.7694 M641.164 46.6907 L641.164 72.576 L633.71 72.576 L633.71 65.6895 Q631.158 69.8214 627.35 71.8063 Q623.543 73.7508 618.033 73.7508 Q611.066 73.7508 606.934 69.8619 Q602.843 65.9325 602.843 59.3701 Q602.843 51.7138 607.947 47.825 Q613.091 43.9361 623.259 43.9361 L633.71 43.9361 L633.71 43.2069 Q633.71 38.0623 630.308 35.2672 Q626.945 32.4315 620.829 32.4315 Q616.94 32.4315 613.253 33.3632 Q609.567 34.295 606.164 36.1584 L606.164 29.2718 Q610.256 27.692 614.104 26.9223 Q617.952 26.1121 621.598 26.1121 Q631.442 26.1121 636.303 31.2163 Q641.164 36.3204 641.164 46.6907 Z\" fill=\"#000000\" fill-rule=\"evenodd\" fill-opacity=\"1\" /><path clip-path=\"url(#clip520)\" d=\"M656.517 9.54393 L663.971 9.54393 L663.971 72.576 L656.517 72.576 L656.517 9.54393 Z\" fill=\"#000000\" fill-rule=\"evenodd\" fill-opacity=\"1\" /><path clip-path=\"url(#clip520)\" d=\"M679.567 27.2059 L687.02 27.2059 L687.02 72.576 L679.567 72.576 L679.567 27.2059 M679.567 9.54393 L687.02 9.54393 L687.02 18.9825 L679.567 18.9825 L679.567 9.54393 Z\" fill=\"#000000\" fill-rule=\"evenodd\" fill-opacity=\"1\" /><path clip-path=\"url(#clip520)\" d=\"M709.989 14.324 L709.989 27.2059 L725.342 27.2059 L725.342 32.9987 L709.989 32.9987 L709.989 57.6282 Q709.989 63.1779 711.488 64.7578 Q713.027 66.3376 717.686 66.3376 L725.342 66.3376 L725.342 72.576 L717.686 72.576 Q709.057 72.576 705.776 69.3758 Q702.495 66.1351 702.495 57.6282 L702.495 32.9987 L697.026 32.9987 L697.026 27.2059 L702.495 27.2059 L702.495 14.324 L709.989 14.324 Z\" fill=\"#000000\" fill-rule=\"evenodd\" fill-opacity=\"1\" /><path clip-path=\"url(#clip520)\" d=\"M754.022 76.7889 Q750.863 84.8907 747.865 87.3618 Q744.867 89.8329 739.844 89.8329 L733.889 89.8329 L733.889 83.5945 L738.264 83.5945 Q741.343 83.5945 743.044 82.1361 Q744.746 80.6778 746.812 75.2496 L748.148 71.8468 L729.798 27.2059 L737.697 27.2059 L751.875 62.6918 L766.053 27.2059 L773.953 27.2059 L754.022 76.7889 Z\" fill=\"#000000\" fill-rule=\"evenodd\" fill-opacity=\"1\" /><path clip-path=\"url(#clip520)\" d=\"M826.533 72.576 L803.443 12.096 L811.991 12.096 L831.151 63.0159 L850.353 12.096 L858.86 12.096 L835.81 72.576 L826.533 72.576 Z\" fill=\"#000000\" fill-rule=\"evenodd\" fill-opacity=\"1\" /><path clip-path=\"url(#clip520)\" d=\"M903.946 14.0809 L903.946 22.0612 Q899.288 19.8332 895.156 18.7395 Q891.024 17.6457 887.175 17.6457 Q880.492 17.6457 876.846 20.2383 Q873.24 22.8309 873.24 27.611 Q873.24 31.6214 875.63 33.6873 Q878.061 35.7128 884.785 36.9686 L889.728 37.9813 Q898.883 39.7232 903.217 44.1387 Q907.592 48.5136 907.592 55.8863 Q907.592 64.6767 901.678 69.2137 Q895.804 73.7508 884.421 73.7508 Q880.127 73.7508 875.266 72.7785 Q870.445 71.8063 865.26 69.9024 L865.26 61.4765 Q870.243 64.2716 875.023 65.6895 Q879.803 67.1073 884.421 67.1073 Q891.429 67.1073 895.237 64.3527 Q899.045 61.598 899.045 56.4939 Q899.045 52.0379 896.29 49.5264 Q893.576 47.0148 887.338 45.759 L882.355 44.7868 Q873.2 42.9639 869.108 39.075 Q865.017 35.1862 865.017 28.2591 Q865.017 20.2383 870.648 15.6203 Q876.319 11.0023 886.244 11.0023 Q890.497 11.0023 894.913 11.7719 Q899.328 12.5416 903.946 14.0809 Z\" fill=\"#000000\" fill-rule=\"evenodd\" fill-opacity=\"1\" /><path clip-path=\"url(#clip520)\" d=\"M982.979 14.0809 L982.979 22.0612 Q978.321 19.8332 974.189 18.7395 Q970.057 17.6457 966.209 17.6457 Q959.525 17.6457 955.879 20.2383 Q952.274 22.8309 952.274 27.611 Q952.274 31.6214 954.664 33.6873 Q957.094 35.7128 963.819 36.9686 L968.761 37.9813 Q977.916 39.7232 982.25 44.1387 Q986.625 48.5136 986.625 55.8863 Q986.625 64.6767 980.711 69.2137 Q974.837 73.7508 963.454 73.7508 Q959.16 73.7508 954.299 72.7785 Q949.478 71.8063 944.293 69.9024 L944.293 61.4765 Q949.276 64.2716 954.056 65.6895 Q958.836 67.1073 963.454 67.1073 Q970.462 67.1073 974.27 64.3527 Q978.078 61.598 978.078 56.4939 Q978.078 52.0379 975.323 49.5264 Q972.609 47.0148 966.371 45.759 L961.388 44.7868 Q952.233 42.9639 948.142 39.075 Q944.05 35.1862 944.05 28.2591 Q944.05 20.2383 949.681 15.6203 Q955.352 11.0023 965.277 11.0023 Q969.53 11.0023 973.946 11.7719 Q978.361 12.5416 982.979 14.0809 Z\" fill=\"#000000\" fill-rule=\"evenodd\" fill-opacity=\"1\" /><path clip-path=\"url(#clip520)\" d=\"M999.061 27.2059 L1006.52 27.2059 L1006.52 72.576 L999.061 72.576 L999.061 27.2059 M999.061 9.54393 L1006.52 9.54393 L1006.52 18.9825 L999.061 18.9825 L999.061 9.54393 Z\" fill=\"#000000\" fill-rule=\"evenodd\" fill-opacity=\"1\" /><path clip-path=\"url(#clip520)\" d=\"M1054.68 49.9314 Q1054.68 41.7081 1051.28 37.0496 Q1047.92 32.3505 1042 32.3505 Q1036.09 32.3505 1032.68 37.0496 Q1029.32 41.7081 1029.32 49.9314 Q1029.32 58.1548 1032.68 62.8538 Q1036.09 67.5124 1042 67.5124 Q1047.92 67.5124 1051.28 62.8538 Q1054.68 58.1548 1054.68 49.9314 M1029.32 34.0924 Q1031.67 30.0415 1035.24 28.0971 Q1038.84 26.1121 1043.82 26.1121 Q1052.09 26.1121 1057.23 32.6746 Q1062.42 39.2371 1062.42 49.9314 Q1062.42 60.6258 1057.23 67.1883 Q1052.09 73.7508 1043.82 73.7508 Q1038.84 73.7508 1035.24 71.8063 Q1031.67 69.8214 1029.32 65.7705 L1029.32 72.576 L1021.83 72.576 L1021.83 9.54393 L1029.32 9.54393 L1029.32 34.0924 Z\" fill=\"#000000\" fill-rule=\"evenodd\" fill-opacity=\"1\" /><path clip-path=\"url(#clip520)\" d=\"M1121.68 20.1573 L1110.58 50.2555 L1132.82 50.2555 L1121.68 20.1573 M1117.06 12.096 L1126.34 12.096 L1149.39 72.576 L1140.88 72.576 L1135.37 57.061 L1108.11 57.061 L1102.6 72.576 L1093.97 72.576 L1117.06 12.096 Z\" fill=\"#000000\" fill-rule=\"evenodd\" fill-opacity=\"1\" /><path clip-path=\"url(#clip520)\" d=\"M1157.29 12.096 L1165.51 12.096 L1165.51 48.8377 Q1165.51 58.5599 1169.04 62.8538 Q1172.56 67.1073 1180.46 67.1073 Q1188.32 67.1073 1191.84 62.8538 Q1195.37 58.5599 1195.37 48.8377 L1195.37 12.096 L1203.59 12.096 L1203.59 49.8504 Q1203.59 61.6791 1197.72 67.7149 Q1191.88 73.7508 1180.46 73.7508 Q1169 73.7508 1163.12 67.7149 Q1157.29 61.6791 1157.29 49.8504 L1157.29 12.096 Z\" fill=\"#000000\" fill-rule=\"evenodd\" fill-opacity=\"1\" /><path clip-path=\"url(#clip520)\" d=\"M1247.62 44.2197 Q1250.26 45.1109 1252.73 48.0275 Q1255.24 50.9442 1257.75 56.0483 L1266.06 72.576 L1257.27 72.576 L1249.53 57.061 Q1246.53 50.9847 1243.7 48.9997 Q1240.9 47.0148 1236.04 47.0148 L1227.13 47.0148 L1227.13 72.576 L1218.94 72.576 L1218.94 12.096 L1237.42 12.096 Q1247.79 12.096 1252.89 16.4305 Q1258 20.7649 1258 29.5149 Q1258 35.2267 1255.32 38.994 Q1252.69 42.7613 1247.62 44.2197 M1227.13 18.8205 L1227.13 40.2903 L1237.42 40.2903 Q1243.33 40.2903 1246.33 37.5762 Q1249.37 34.8216 1249.37 29.5149 Q1249.37 24.2082 1246.33 21.5346 Q1243.33 18.8205 1237.42 18.8205 L1227.13 18.8205 Z\" fill=\"#000000\" fill-rule=\"evenodd\" fill-opacity=\"1\" /><path clip-path=\"url(#clip520)\" d=\"M1301.14 17.6457 Q1292.23 17.6457 1286.96 24.2892 Q1281.73 30.9327 1281.73 42.3968 Q1281.73 53.8203 1286.96 60.4638 Q1292.23 67.1073 1301.14 67.1073 Q1310.05 67.1073 1315.23 60.4638 Q1320.46 53.8203 1320.46 42.3968 Q1320.46 30.9327 1315.23 24.2892 Q1310.05 17.6457 1301.14 17.6457 M1301.14 11.0023 Q1313.86 11.0023 1321.47 19.5497 Q1329.09 28.0566 1329.09 42.3968 Q1329.09 56.6965 1321.47 65.2439 Q1313.86 73.7508 1301.14 73.7508 Q1288.38 73.7508 1280.72 65.2439 Q1273.11 56.737 1273.11 42.3968 Q1273.11 28.0566 1280.72 19.5497 Q1288.38 11.0023 1301.14 11.0023 Z\" fill=\"#000000\" fill-rule=\"evenodd\" fill-opacity=\"1\" /><path clip-path=\"url(#clip520)\" d=\"M1387.18 16.7545 L1387.18 25.383 Q1383.05 21.5346 1378.35 19.6307 Q1373.69 17.7268 1368.42 17.7268 Q1358.05 17.7268 1352.54 24.0867 Q1347.03 30.4061 1347.03 42.3968 Q1347.03 54.3469 1352.54 60.7069 Q1358.05 67.0263 1368.42 67.0263 Q1373.69 67.0263 1378.35 65.1223 Q1383.05 63.2184 1387.18 59.3701 L1387.18 67.9175 Q1382.88 70.8341 1378.06 72.2924 Q1373.28 73.7508 1367.94 73.7508 Q1354.2 73.7508 1346.3 65.3654 Q1338.41 56.9395 1338.41 42.3968 Q1338.41 27.8135 1346.3 19.4281 Q1354.2 11.0023 1367.94 11.0023 Q1373.37 11.0023 1378.15 12.4606 Q1382.97 13.8784 1387.18 16.7545 Z\" fill=\"#000000\" fill-rule=\"evenodd\" fill-opacity=\"1\" /><path clip-path=\"url(#clip520)\" d=\"M1425.86 27.2059 L1433.32 27.2059 L1433.32 72.576 L1425.86 72.576 L1425.86 27.2059 M1425.86 9.54393 L1433.32 9.54393 L1433.32 18.9825 L1425.86 18.9825 L1425.86 9.54393 Z\" fill=\"#000000\" fill-rule=\"evenodd\" fill-opacity=\"1\" /><path clip-path=\"url(#clip520)\" d=\"M1486.63 45.1919 L1486.63 72.576 L1479.17 72.576 L1479.17 45.4349 Q1479.17 38.994 1476.66 35.7938 Q1474.15 32.5936 1469.13 32.5936 Q1463.09 32.5936 1459.61 36.4419 Q1456.12 40.2903 1456.12 46.9338 L1456.12 72.576 L1448.63 72.576 L1448.63 27.2059 L1456.12 27.2059 L1456.12 34.2544 Q1458.8 30.163 1462.4 28.1376 Q1466.05 26.1121 1470.79 26.1121 Q1478.61 26.1121 1482.62 30.9732 Q1486.63 35.7938 1486.63 45.1919 Z\" fill=\"#000000\" fill-rule=\"evenodd\" fill-opacity=\"1\" /><path clip-path=\"url(#clip520)\" d=\"M1550.84 9.54393 L1550.84 15.7418 L1543.71 15.7418 Q1539.7 15.7418 1538.12 17.3622 Q1536.58 18.9825 1536.58 23.1955 L1536.58 27.2059 L1548.85 27.2059 L1548.85 32.9987 L1536.58 32.9987 L1536.58 72.576 L1529.08 72.576 L1529.08 32.9987 L1521.95 32.9987 L1521.95 27.2059 L1529.08 27.2059 L1529.08 24.0462 Q1529.08 16.471 1532.61 13.0277 Q1536.13 9.54393 1543.79 9.54393 L1550.84 9.54393 Z\" fill=\"#000000\" fill-rule=\"evenodd\" fill-opacity=\"1\" /><path clip-path=\"url(#clip520)\" d=\"M1556.3 54.671 L1556.3 27.2059 L1563.76 27.2059 L1563.76 54.3874 Q1563.76 60.8284 1566.27 64.0691 Q1568.78 67.2693 1573.8 67.2693 Q1579.84 67.2693 1583.32 63.421 Q1586.85 59.5726 1586.85 52.9291 L1586.85 27.2059 L1594.3 27.2059 L1594.3 72.576 L1586.85 72.576 L1586.85 65.6084 Q1584.13 69.7404 1580.53 71.7658 Q1576.96 73.7508 1572.22 73.7508 Q1564.41 73.7508 1560.35 68.8897 Q1556.3 64.0286 1556.3 54.671 M1575.06 26.1121 L1575.06 26.1121 Z\" fill=\"#000000\" fill-rule=\"evenodd\" fill-opacity=\"1\" /><path clip-path=\"url(#clip520)\" d=\"M1647.37 45.1919 L1647.37 72.576 L1639.91 72.576 L1639.91 45.4349 Q1639.91 38.994 1637.4 35.7938 Q1634.89 32.5936 1629.87 32.5936 Q1623.83 32.5936 1620.35 36.4419 Q1616.86 40.2903 1616.86 46.9338 L1616.86 72.576 L1609.37 72.576 L1609.37 27.2059 L1616.86 27.2059 L1616.86 34.2544 Q1619.54 30.163 1623.14 28.1376 Q1626.79 26.1121 1631.53 26.1121 Q1639.35 26.1121 1643.36 30.9732 Q1647.37 35.7938 1647.37 45.1919 Z\" fill=\"#000000\" fill-rule=\"evenodd\" fill-opacity=\"1\" /><path clip-path=\"url(#clip520)\" d=\"M1694.89 28.9478 L1694.89 35.9153 Q1691.73 34.1734 1688.53 33.3227 Q1685.37 32.4315 1682.12 32.4315 Q1674.87 32.4315 1670.86 37.0496 Q1666.85 41.6271 1666.85 49.9314 Q1666.85 58.2358 1670.86 62.8538 Q1674.87 67.4314 1682.12 67.4314 Q1685.37 67.4314 1688.53 66.5807 Q1691.73 65.6895 1694.89 63.9476 L1694.89 70.8341 Q1691.77 72.2924 1688.4 73.0216 Q1685.08 73.7508 1681.31 73.7508 Q1671.07 73.7508 1665.03 67.3098 Q1658.99 60.8689 1658.99 49.9314 Q1658.99 38.832 1665.07 32.472 Q1671.19 26.1121 1681.8 26.1121 Q1685.24 26.1121 1688.53 26.8413 Q1691.81 27.5299 1694.89 28.9478 Z\" fill=\"#000000\" fill-rule=\"evenodd\" fill-opacity=\"1\" /><path clip-path=\"url(#clip520)\" d=\"M1715.22 14.324 L1715.22 27.2059 L1730.57 27.2059 L1730.57 32.9987 L1715.22 32.9987 L1715.22 57.6282 Q1715.22 63.1779 1716.72 64.7578 Q1718.26 66.3376 1722.92 66.3376 L1730.57 66.3376 L1730.57 72.576 L1722.92 72.576 Q1714.29 72.576 1711.01 69.3758 Q1707.73 66.1351 1707.73 57.6282 L1707.73 32.9987 L1702.26 32.9987 L1702.26 27.2059 L1707.73 27.2059 L1707.73 14.324 L1715.22 14.324 Z\" fill=\"#000000\" fill-rule=\"evenodd\" fill-opacity=\"1\" /><path clip-path=\"url(#clip520)\" d=\"M1740.38 27.2059 L1747.83 27.2059 L1747.83 72.576 L1740.38 72.576 L1740.38 27.2059 M1740.38 9.54393 L1747.83 9.54393 L1747.83 18.9825 L1740.38 18.9825 L1740.38 9.54393 Z\" fill=\"#000000\" fill-rule=\"evenodd\" fill-opacity=\"1\" /><path clip-path=\"url(#clip520)\" d=\"M1781.01 32.4315 Q1775.01 32.4315 1771.53 37.1306 Q1768.04 41.7891 1768.04 49.9314 Q1768.04 58.0738 1771.49 62.7728 Q1774.97 67.4314 1781.01 67.4314 Q1786.96 67.4314 1790.45 62.7323 Q1793.93 58.0333 1793.93 49.9314 Q1793.93 41.8701 1790.45 37.1711 Q1786.96 32.4315 1781.01 32.4315 M1781.01 26.1121 Q1790.73 26.1121 1796.28 32.4315 Q1801.83 38.7509 1801.83 49.9314 Q1801.83 61.0714 1796.28 67.4314 Q1790.73 73.7508 1781.01 73.7508 Q1771.24 73.7508 1765.7 67.4314 Q1760.19 61.0714 1760.19 49.9314 Q1760.19 38.7509 1765.7 32.4315 Q1771.24 26.1121 1781.01 26.1121 Z\" fill=\"#000000\" fill-rule=\"evenodd\" fill-opacity=\"1\" /><path clip-path=\"url(#clip520)\" d=\"M1851.9 45.1919 L1851.9 72.576 L1844.44 72.576 L1844.44 45.4349 Q1844.44 38.994 1841.93 35.7938 Q1839.42 32.5936 1834.4 32.5936 Q1828.36 32.5936 1824.88 36.4419 Q1821.4 40.2903 1821.4 46.9338 L1821.4 72.576 L1813.9 72.576 L1813.9 27.2059 L1821.4 27.2059 L1821.4 34.2544 Q1824.07 30.163 1827.67 28.1376 Q1831.32 26.1121 1836.06 26.1121 Q1843.88 26.1121 1847.89 30.9732 Q1851.9 35.7938 1851.9 45.1919 Z\" fill=\"#000000\" fill-rule=\"evenodd\" fill-opacity=\"1\" /><path clip-path=\"url(#clip520)\" d=\"M1910.72 32.4315 Q1904.72 32.4315 1901.24 37.1306 Q1897.75 41.7891 1897.75 49.9314 Q1897.75 58.0738 1901.2 62.7728 Q1904.68 67.4314 1910.72 67.4314 Q1916.67 67.4314 1920.16 62.7323 Q1923.64 58.0333 1923.64 49.9314 Q1923.64 41.8701 1920.16 37.1711 Q1916.67 32.4315 1910.72 32.4315 M1910.72 26.1121 Q1920.44 26.1121 1925.99 32.4315 Q1931.54 38.7509 1931.54 49.9314 Q1931.54 61.0714 1925.99 67.4314 Q1920.44 73.7508 1910.72 73.7508 Q1900.95 73.7508 1895.41 67.4314 Q1889.9 61.0714 1889.9 49.9314 Q1889.9 38.7509 1895.41 32.4315 Q1900.95 26.1121 1910.72 26.1121 Z\" fill=\"#000000\" fill-rule=\"evenodd\" fill-opacity=\"1\" /><path clip-path=\"url(#clip520)\" d=\"M1966.86 9.54393 L1966.86 15.7418 L1959.73 15.7418 Q1955.72 15.7418 1954.14 17.3622 Q1952.6 18.9825 1952.6 23.1955 L1952.6 27.2059 L1964.88 27.2059 L1964.88 32.9987 L1952.6 32.9987 L1952.6 72.576 L1945.11 72.576 L1945.11 32.9987 L1937.98 32.9987 L1937.98 27.2059 L1945.11 27.2059 L1945.11 24.0462 Q1945.11 16.471 1948.63 13.0277 Q1952.16 9.54393 1959.81 9.54393 L1966.86 9.54393 Z\" fill=\"#000000\" fill-rule=\"evenodd\" fill-opacity=\"1\" /><path clip-path=\"url(#clip520)\" d=\"M2006.85 14.324 L2006.85 27.2059 L2022.2 27.2059 L2022.2 32.9987 L2006.85 32.9987 L2006.85 57.6282 Q2006.85 63.1779 2008.34 64.7578 Q2009.88 66.3376 2014.54 66.3376 L2022.2 66.3376 L2022.2 72.576 L2014.54 72.576 Q2005.91 72.576 2002.63 69.3758 Q1999.35 66.1351 1999.35 57.6282 L1999.35 32.9987 L1993.88 32.9987 L1993.88 27.2059 L1999.35 27.2059 L1999.35 14.324 L2006.85 14.324 Z\" fill=\"#000000\" fill-rule=\"evenodd\" fill-opacity=\"1\" /><path clip-path=\"url(#clip520)\" d=\"M2032 27.2059 L2039.46 27.2059 L2039.46 72.576 L2032 72.576 L2032 27.2059 M2032 9.54393 L2039.46 9.54393 L2039.46 18.9825 L2032 18.9825 L2032 9.54393 Z\" fill=\"#000000\" fill-rule=\"evenodd\" fill-opacity=\"1\" /><path clip-path=\"url(#clip520)\" d=\"M2090.38 35.9153 Q2093.17 30.8922 2097.06 28.5022 Q2100.95 26.1121 2106.21 26.1121 Q2113.3 26.1121 2117.15 31.0947 Q2121 36.0368 2121 45.1919 L2121 72.576 L2113.51 72.576 L2113.51 45.4349 Q2113.51 38.913 2111.2 35.7533 Q2108.89 32.5936 2104.15 32.5936 Q2098.36 32.5936 2094.99 36.4419 Q2091.63 40.2903 2091.63 46.9338 L2091.63 72.576 L2084.14 72.576 L2084.14 45.4349 Q2084.14 38.8725 2081.83 35.7533 Q2079.52 32.5936 2074.7 32.5936 Q2068.99 32.5936 2065.62 36.4824 Q2062.26 40.3308 2062.26 46.9338 L2062.26 72.576 L2054.77 72.576 L2054.77 27.2059 L2062.26 27.2059 L2062.26 34.2544 Q2064.81 30.082 2068.38 28.0971 Q2071.94 26.1121 2076.85 26.1121 Q2081.79 26.1121 2085.23 28.6237 Q2088.71 31.1352 2090.38 35.9153 Z\" fill=\"#000000\" fill-rule=\"evenodd\" fill-opacity=\"1\" /><path clip-path=\"url(#clip520)\" d=\"M2174.67 48.0275 L2174.67 51.6733 L2140.4 51.6733 Q2140.89 59.3701 2145.02 63.421 Q2149.19 67.4314 2156.61 67.4314 Q2160.9 67.4314 2164.91 66.3781 Q2168.96 65.3249 2172.93 63.2184 L2172.93 70.267 Q2168.92 71.9684 2164.71 72.8596 Q2160.5 73.7508 2156.16 73.7508 Q2145.31 73.7508 2138.95 67.4314 Q2132.63 61.1119 2132.63 50.3365 Q2132.63 39.1965 2138.62 32.6746 Q2144.66 26.1121 2154.87 26.1121 Q2164.02 26.1121 2169.33 32.0264 Q2174.67 37.9003 2174.67 48.0275 M2167.22 45.84 Q2167.14 39.7232 2163.78 36.0774 Q2160.46 32.4315 2154.95 32.4315 Q2148.71 32.4315 2144.94 35.9558 Q2141.21 39.4801 2140.65 45.8805 L2167.22 45.84 Z\" fill=\"#000000\" fill-rule=\"evenodd\" fill-opacity=\"1\" /><polyline clip-path=\"url(#clip522)\" style=\"stroke:#009af9; stroke-linecap:butt; stroke-linejoin:round; stroke-width:4; stroke-opacity:1; fill:none\" points=\"\n",
       "  280.231,572.877 386.134,868.53 492.037,1042.29 597.941,1160.36 703.844,1192.37 809.747,1257.93 915.65,1142.96 1021.55,934.267 1127.46,848.352 1233.36,801.014 \n",
       "  1339.26,762.391 1445.17,580.363 1551.07,604.568 1656.97,611.398 1762.88,538.735 1868.78,414.514 1974.68,395.106 2080.58,424.987 2186.49,399.278 2292.39,403.98 \n",
       "  \n",
       "  \"/>\n",
       "<circle clip-path=\"url(#clip522)\" cx=\"280.231\" cy=\"1095.81\" r=\"14\" fill=\"#e26f46\" fill-rule=\"evenodd\" fill-opacity=\"1\" stroke=\"#000000\" stroke-opacity=\"1\" stroke-width=\"3.2\"/>\n",
       "<circle clip-path=\"url(#clip522)\" cx=\"386.134\" cy=\"1381.61\" r=\"14\" fill=\"#e26f46\" fill-rule=\"evenodd\" fill-opacity=\"1\" stroke=\"#000000\" stroke-opacity=\"1\" stroke-width=\"3.2\"/>\n",
       "<circle clip-path=\"url(#clip522)\" cx=\"492.037\" cy=\"1307.32\" r=\"14\" fill=\"#e26f46\" fill-rule=\"evenodd\" fill-opacity=\"1\" stroke=\"#000000\" stroke-opacity=\"1\" stroke-width=\"3.2\"/>\n",
       "<circle clip-path=\"url(#clip522)\" cx=\"597.941\" cy=\"1289.29\" r=\"14\" fill=\"#e26f46\" fill-rule=\"evenodd\" fill-opacity=\"1\" stroke=\"#000000\" stroke-opacity=\"1\" stroke-width=\"3.2\"/>\n",
       "<circle clip-path=\"url(#clip522)\" cx=\"703.844\" cy=\"1290.04\" r=\"14\" fill=\"#e26f46\" fill-rule=\"evenodd\" fill-opacity=\"1\" stroke=\"#000000\" stroke-opacity=\"1\" stroke-width=\"3.2\"/>\n",
       "<circle clip-path=\"url(#clip522)\" cx=\"809.747\" cy=\"1372.27\" r=\"14\" fill=\"#e26f46\" fill-rule=\"evenodd\" fill-opacity=\"1\" stroke=\"#000000\" stroke-opacity=\"1\" stroke-width=\"3.2\"/>\n",
       "<circle clip-path=\"url(#clip522)\" cx=\"915.65\" cy=\"1322.12\" r=\"14\" fill=\"#e26f46\" fill-rule=\"evenodd\" fill-opacity=\"1\" stroke=\"#000000\" stroke-opacity=\"1\" stroke-width=\"3.2\"/>\n",
       "<circle clip-path=\"url(#clip522)\" cx=\"1021.55\" cy=\"1069.17\" r=\"14\" fill=\"#e26f46\" fill-rule=\"evenodd\" fill-opacity=\"1\" stroke=\"#000000\" stroke-opacity=\"1\" stroke-width=\"3.2\"/>\n",
       "<circle clip-path=\"url(#clip522)\" cx=\"1127.46\" cy=\"954.674\" r=\"14\" fill=\"#e26f46\" fill-rule=\"evenodd\" fill-opacity=\"1\" stroke=\"#000000\" stroke-opacity=\"1\" stroke-width=\"3.2\"/>\n",
       "<circle clip-path=\"url(#clip522)\" cx=\"1233.36\" cy=\"921.102\" r=\"14\" fill=\"#e26f46\" fill-rule=\"evenodd\" fill-opacity=\"1\" stroke=\"#000000\" stroke-opacity=\"1\" stroke-width=\"3.2\"/>\n",
       "<circle clip-path=\"url(#clip522)\" cx=\"1339.26\" cy=\"888.678\" r=\"14\" fill=\"#e26f46\" fill-rule=\"evenodd\" fill-opacity=\"1\" stroke=\"#000000\" stroke-opacity=\"1\" stroke-width=\"3.2\"/>\n",
       "<circle clip-path=\"url(#clip522)\" cx=\"1445.17\" cy=\"791.401\" r=\"14\" fill=\"#e26f46\" fill-rule=\"evenodd\" fill-opacity=\"1\" stroke=\"#000000\" stroke-opacity=\"1\" stroke-width=\"3.2\"/>\n",
       "<circle clip-path=\"url(#clip522)\" cx=\"1551.07\" cy=\"904.428\" r=\"14\" fill=\"#e26f46\" fill-rule=\"evenodd\" fill-opacity=\"1\" stroke=\"#000000\" stroke-opacity=\"1\" stroke-width=\"3.2\"/>\n",
       "<circle clip-path=\"url(#clip522)\" cx=\"1656.97\" cy=\"914.425\" r=\"14\" fill=\"#e26f46\" fill-rule=\"evenodd\" fill-opacity=\"1\" stroke=\"#000000\" stroke-opacity=\"1\" stroke-width=\"3.2\"/>\n",
       "<circle clip-path=\"url(#clip522)\" cx=\"1762.88\" cy=\"949.091\" r=\"14\" fill=\"#e26f46\" fill-rule=\"evenodd\" fill-opacity=\"1\" stroke=\"#000000\" stroke-opacity=\"1\" stroke-width=\"3.2\"/>\n",
       "<circle clip-path=\"url(#clip522)\" cx=\"1868.78\" cy=\"970.928\" r=\"14\" fill=\"#e26f46\" fill-rule=\"evenodd\" fill-opacity=\"1\" stroke=\"#000000\" stroke-opacity=\"1\" stroke-width=\"3.2\"/>\n",
       "<circle clip-path=\"url(#clip522)\" cx=\"1974.68\" cy=\"1038.59\" r=\"14\" fill=\"#e26f46\" fill-rule=\"evenodd\" fill-opacity=\"1\" stroke=\"#000000\" stroke-opacity=\"1\" stroke-width=\"3.2\"/>\n",
       "<circle clip-path=\"url(#clip522)\" cx=\"2080.58\" cy=\"1007.39\" r=\"14\" fill=\"#e26f46\" fill-rule=\"evenodd\" fill-opacity=\"1\" stroke=\"#000000\" stroke-opacity=\"1\" stroke-width=\"3.2\"/>\n",
       "<circle clip-path=\"url(#clip522)\" cx=\"2186.49\" cy=\"1031.71\" r=\"14\" fill=\"#e26f46\" fill-rule=\"evenodd\" fill-opacity=\"1\" stroke=\"#000000\" stroke-opacity=\"1\" stroke-width=\"3.2\"/>\n",
       "<circle clip-path=\"url(#clip522)\" cx=\"2292.39\" cy=\"1022.3\" r=\"14\" fill=\"#e26f46\" fill-rule=\"evenodd\" fill-opacity=\"1\" stroke=\"#000000\" stroke-opacity=\"1\" stroke-width=\"3.2\"/>\n",
       "<circle clip-path=\"url(#clip522)\" cx=\"280.231\" cy=\"835.935\" r=\"14\" fill=\"#3da44d\" fill-rule=\"evenodd\" fill-opacity=\"1\" stroke=\"#000000\" stroke-opacity=\"1\" stroke-width=\"3.2\"/>\n",
       "<circle clip-path=\"url(#clip522)\" cx=\"386.134\" cy=\"1075.56\" r=\"14\" fill=\"#3da44d\" fill-rule=\"evenodd\" fill-opacity=\"1\" stroke=\"#000000\" stroke-opacity=\"1\" stroke-width=\"3.2\"/>\n",
       "<circle clip-path=\"url(#clip522)\" cx=\"492.037\" cy=\"1260.72\" r=\"14\" fill=\"#3da44d\" fill-rule=\"evenodd\" fill-opacity=\"1\" stroke=\"#000000\" stroke-opacity=\"1\" stroke-width=\"3.2\"/>\n",
       "<circle clip-path=\"url(#clip522)\" cx=\"597.941\" cy=\"1356.64\" r=\"14\" fill=\"#3da44d\" fill-rule=\"evenodd\" fill-opacity=\"1\" stroke=\"#000000\" stroke-opacity=\"1\" stroke-width=\"3.2\"/>\n",
       "<circle clip-path=\"url(#clip522)\" cx=\"703.844\" cy=\"1348.98\" r=\"14\" fill=\"#3da44d\" fill-rule=\"evenodd\" fill-opacity=\"1\" stroke=\"#000000\" stroke-opacity=\"1\" stroke-width=\"3.2\"/>\n",
       "<circle clip-path=\"url(#clip522)\" cx=\"809.747\" cy=\"1386.4\" r=\"14\" fill=\"#3da44d\" fill-rule=\"evenodd\" fill-opacity=\"1\" stroke=\"#000000\" stroke-opacity=\"1\" stroke-width=\"3.2\"/>\n",
       "<circle clip-path=\"url(#clip522)\" cx=\"915.65\" cy=\"1277.18\" r=\"14\" fill=\"#3da44d\" fill-rule=\"evenodd\" fill-opacity=\"1\" stroke=\"#000000\" stroke-opacity=\"1\" stroke-width=\"3.2\"/>\n",
       "<circle clip-path=\"url(#clip522)\" cx=\"1021.55\" cy=\"1060.05\" r=\"14\" fill=\"#3da44d\" fill-rule=\"evenodd\" fill-opacity=\"1\" stroke=\"#000000\" stroke-opacity=\"1\" stroke-width=\"3.2\"/>\n",
       "<circle clip-path=\"url(#clip522)\" cx=\"1127.46\" cy=\"971.521\" r=\"14\" fill=\"#3da44d\" fill-rule=\"evenodd\" fill-opacity=\"1\" stroke=\"#000000\" stroke-opacity=\"1\" stroke-width=\"3.2\"/>\n",
       "<circle clip-path=\"url(#clip522)\" cx=\"1233.36\" cy=\"892.253\" r=\"14\" fill=\"#3da44d\" fill-rule=\"evenodd\" fill-opacity=\"1\" stroke=\"#000000\" stroke-opacity=\"1\" stroke-width=\"3.2\"/>\n",
       "<circle clip-path=\"url(#clip522)\" cx=\"1339.26\" cy=\"843.72\" r=\"14\" fill=\"#3da44d\" fill-rule=\"evenodd\" fill-opacity=\"1\" stroke=\"#000000\" stroke-opacity=\"1\" stroke-width=\"3.2\"/>\n",
       "<circle clip-path=\"url(#clip522)\" cx=\"1445.17\" cy=\"623.325\" r=\"14\" fill=\"#3da44d\" fill-rule=\"evenodd\" fill-opacity=\"1\" stroke=\"#000000\" stroke-opacity=\"1\" stroke-width=\"3.2\"/>\n",
       "<circle clip-path=\"url(#clip522)\" cx=\"1551.07\" cy=\"628.334\" r=\"14\" fill=\"#3da44d\" fill-rule=\"evenodd\" fill-opacity=\"1\" stroke=\"#000000\" stroke-opacity=\"1\" stroke-width=\"3.2\"/>\n",
       "<circle clip-path=\"url(#clip522)\" cx=\"1656.97\" cy=\"626.989\" r=\"14\" fill=\"#3da44d\" fill-rule=\"evenodd\" fill-opacity=\"1\" stroke=\"#000000\" stroke-opacity=\"1\" stroke-width=\"3.2\"/>\n",
       "<circle clip-path=\"url(#clip522)\" cx=\"1762.88\" cy=\"530.36\" r=\"14\" fill=\"#3da44d\" fill-rule=\"evenodd\" fill-opacity=\"1\" stroke=\"#000000\" stroke-opacity=\"1\" stroke-width=\"3.2\"/>\n",
       "<circle clip-path=\"url(#clip522)\" cx=\"1868.78\" cy=\"505.989\" r=\"14\" fill=\"#3da44d\" fill-rule=\"evenodd\" fill-opacity=\"1\" stroke=\"#000000\" stroke-opacity=\"1\" stroke-width=\"3.2\"/>\n",
       "<circle clip-path=\"url(#clip522)\" cx=\"1974.68\" cy=\"329.935\" r=\"14\" fill=\"#3da44d\" fill-rule=\"evenodd\" fill-opacity=\"1\" stroke=\"#000000\" stroke-opacity=\"1\" stroke-width=\"3.2\"/>\n",
       "<circle clip-path=\"url(#clip522)\" cx=\"2080.58\" cy=\"231.968\" r=\"14\" fill=\"#3da44d\" fill-rule=\"evenodd\" fill-opacity=\"1\" stroke=\"#000000\" stroke-opacity=\"1\" stroke-width=\"3.2\"/>\n",
       "<circle clip-path=\"url(#clip522)\" cx=\"2186.49\" cy=\"161.824\" r=\"14\" fill=\"#3da44d\" fill-rule=\"evenodd\" fill-opacity=\"1\" stroke=\"#000000\" stroke-opacity=\"1\" stroke-width=\"3.2\"/>\n",
       "<circle clip-path=\"url(#clip522)\" cx=\"2292.39\" cy=\"161.824\" r=\"14\" fill=\"#3da44d\" fill-rule=\"evenodd\" fill-opacity=\"1\" stroke=\"#000000\" stroke-opacity=\"1\" stroke-width=\"3.2\"/>\n",
       "<circle clip-path=\"url(#clip522)\" cx=\"280.231\" cy=\"1129.76\" r=\"14\" fill=\"#c271d2\" fill-rule=\"evenodd\" fill-opacity=\"1\" stroke=\"#000000\" stroke-opacity=\"1\" stroke-width=\"3.2\"/>\n",
       "<circle clip-path=\"url(#clip522)\" cx=\"386.134\" cy=\"1046.19\" r=\"14\" fill=\"#c271d2\" fill-rule=\"evenodd\" fill-opacity=\"1\" stroke=\"#000000\" stroke-opacity=\"1\" stroke-width=\"3.2\"/>\n",
       "<circle clip-path=\"url(#clip522)\" cx=\"492.037\" cy=\"1021.49\" r=\"14\" fill=\"#c271d2\" fill-rule=\"evenodd\" fill-opacity=\"1\" stroke=\"#000000\" stroke-opacity=\"1\" stroke-width=\"3.2\"/>\n",
       "<circle clip-path=\"url(#clip522)\" cx=\"597.941\" cy=\"979.212\" r=\"14\" fill=\"#c271d2\" fill-rule=\"evenodd\" fill-opacity=\"1\" stroke=\"#000000\" stroke-opacity=\"1\" stroke-width=\"3.2\"/>\n",
       "<circle clip-path=\"url(#clip522)\" cx=\"703.844\" cy=\"970.879\" r=\"14\" fill=\"#c271d2\" fill-rule=\"evenodd\" fill-opacity=\"1\" stroke=\"#000000\" stroke-opacity=\"1\" stroke-width=\"3.2\"/>\n",
       "<circle clip-path=\"url(#clip522)\" cx=\"809.747\" cy=\"971.44\" r=\"14\" fill=\"#c271d2\" fill-rule=\"evenodd\" fill-opacity=\"1\" stroke=\"#000000\" stroke-opacity=\"1\" stroke-width=\"3.2\"/>\n",
       "<circle clip-path=\"url(#clip522)\" cx=\"915.65\" cy=\"928.031\" r=\"14\" fill=\"#c271d2\" fill-rule=\"evenodd\" fill-opacity=\"1\" stroke=\"#000000\" stroke-opacity=\"1\" stroke-width=\"3.2\"/>\n",
       "<circle clip-path=\"url(#clip522)\" cx=\"1021.55\" cy=\"760.913\" r=\"14\" fill=\"#c271d2\" fill-rule=\"evenodd\" fill-opacity=\"1\" stroke=\"#000000\" stroke-opacity=\"1\" stroke-width=\"3.2\"/>\n",
       "<circle clip-path=\"url(#clip522)\" cx=\"1127.46\" cy=\"669.777\" r=\"14\" fill=\"#c271d2\" fill-rule=\"evenodd\" fill-opacity=\"1\" stroke=\"#000000\" stroke-opacity=\"1\" stroke-width=\"3.2\"/>\n",
       "<circle clip-path=\"url(#clip522)\" cx=\"1233.36\" cy=\"648.428\" r=\"14\" fill=\"#c271d2\" fill-rule=\"evenodd\" fill-opacity=\"1\" stroke=\"#000000\" stroke-opacity=\"1\" stroke-width=\"3.2\"/>\n",
       "<circle clip-path=\"url(#clip522)\" cx=\"1339.26\" cy=\"645.197\" r=\"14\" fill=\"#c271d2\" fill-rule=\"evenodd\" fill-opacity=\"1\" stroke=\"#000000\" stroke-opacity=\"1\" stroke-width=\"3.2\"/>\n",
       "<circle clip-path=\"url(#clip522)\" cx=\"1445.17\" cy=\"569.541\" r=\"14\" fill=\"#c271d2\" fill-rule=\"evenodd\" fill-opacity=\"1\" stroke=\"#000000\" stroke-opacity=\"1\" stroke-width=\"3.2\"/>\n",
       "<circle clip-path=\"url(#clip522)\" cx=\"1551.07\" cy=\"302.852\" r=\"14\" fill=\"#c271d2\" fill-rule=\"evenodd\" fill-opacity=\"1\" stroke=\"#000000\" stroke-opacity=\"1\" stroke-width=\"3.2\"/>\n",
       "<circle clip-path=\"url(#clip522)\" cx=\"1656.97\" cy=\"277.789\" r=\"14\" fill=\"#c271d2\" fill-rule=\"evenodd\" fill-opacity=\"1\" stroke=\"#000000\" stroke-opacity=\"1\" stroke-width=\"3.2\"/>\n",
       "<circle clip-path=\"url(#clip522)\" cx=\"1762.88\" cy=\"278.311\" r=\"14\" fill=\"#c271d2\" fill-rule=\"evenodd\" fill-opacity=\"1\" stroke=\"#000000\" stroke-opacity=\"1\" stroke-width=\"3.2\"/>\n",
       "<circle clip-path=\"url(#clip522)\" cx=\"1868.78\" cy=\"254.613\" r=\"14\" fill=\"#c271d2\" fill-rule=\"evenodd\" fill-opacity=\"1\" stroke=\"#000000\" stroke-opacity=\"1\" stroke-width=\"3.2\"/>\n",
       "<circle clip-path=\"url(#clip522)\" cx=\"1974.68\" cy=\"182.567\" r=\"14\" fill=\"#c271d2\" fill-rule=\"evenodd\" fill-opacity=\"1\" stroke=\"#000000\" stroke-opacity=\"1\" stroke-width=\"3.2\"/>\n",
       "<circle clip-path=\"url(#clip522)\" cx=\"2080.58\" cy=\"160.927\" r=\"14\" fill=\"#c271d2\" fill-rule=\"evenodd\" fill-opacity=\"1\" stroke=\"#000000\" stroke-opacity=\"1\" stroke-width=\"3.2\"/>\n",
       "<circle clip-path=\"url(#clip522)\" cx=\"2186.49\" cy=\"160.256\" r=\"14\" fill=\"#c271d2\" fill-rule=\"evenodd\" fill-opacity=\"1\" stroke=\"#000000\" stroke-opacity=\"1\" stroke-width=\"3.2\"/>\n",
       "<circle clip-path=\"url(#clip522)\" cx=\"2292.39\" cy=\"160.256\" r=\"14\" fill=\"#c271d2\" fill-rule=\"evenodd\" fill-opacity=\"1\" stroke=\"#000000\" stroke-opacity=\"1\" stroke-width=\"3.2\"/>\n",
       "<circle clip-path=\"url(#clip522)\" cx=\"280.231\" cy=\"1125.51\" r=\"14\" fill=\"#ac8d18\" fill-rule=\"evenodd\" fill-opacity=\"1\" stroke=\"#000000\" stroke-opacity=\"1\" stroke-width=\"3.2\"/>\n",
       "<circle clip-path=\"url(#clip522)\" cx=\"386.134\" cy=\"1043.35\" r=\"14\" fill=\"#ac8d18\" fill-rule=\"evenodd\" fill-opacity=\"1\" stroke=\"#000000\" stroke-opacity=\"1\" stroke-width=\"3.2\"/>\n",
       "<circle clip-path=\"url(#clip522)\" cx=\"492.037\" cy=\"1016.08\" r=\"14\" fill=\"#ac8d18\" fill-rule=\"evenodd\" fill-opacity=\"1\" stroke=\"#000000\" stroke-opacity=\"1\" stroke-width=\"3.2\"/>\n",
       "<circle clip-path=\"url(#clip522)\" cx=\"597.941\" cy=\"976.691\" r=\"14\" fill=\"#ac8d18\" fill-rule=\"evenodd\" fill-opacity=\"1\" stroke=\"#000000\" stroke-opacity=\"1\" stroke-width=\"3.2\"/>\n",
       "<circle clip-path=\"url(#clip522)\" cx=\"703.844\" cy=\"969.483\" r=\"14\" fill=\"#ac8d18\" fill-rule=\"evenodd\" fill-opacity=\"1\" stroke=\"#000000\" stroke-opacity=\"1\" stroke-width=\"3.2\"/>\n",
       "<circle clip-path=\"url(#clip522)\" cx=\"809.747\" cy=\"969.797\" r=\"14\" fill=\"#ac8d18\" fill-rule=\"evenodd\" fill-opacity=\"1\" stroke=\"#000000\" stroke-opacity=\"1\" stroke-width=\"3.2\"/>\n",
       "<circle clip-path=\"url(#clip522)\" cx=\"915.65\" cy=\"925.37\" r=\"14\" fill=\"#ac8d18\" fill-rule=\"evenodd\" fill-opacity=\"1\" stroke=\"#000000\" stroke-opacity=\"1\" stroke-width=\"3.2\"/>\n",
       "<circle clip-path=\"url(#clip522)\" cx=\"1021.55\" cy=\"757.654\" r=\"14\" fill=\"#ac8d18\" fill-rule=\"evenodd\" fill-opacity=\"1\" stroke=\"#000000\" stroke-opacity=\"1\" stroke-width=\"3.2\"/>\n",
       "<circle clip-path=\"url(#clip522)\" cx=\"1127.46\" cy=\"667.343\" r=\"14\" fill=\"#ac8d18\" fill-rule=\"evenodd\" fill-opacity=\"1\" stroke=\"#000000\" stroke-opacity=\"1\" stroke-width=\"3.2\"/>\n",
       "<circle clip-path=\"url(#clip522)\" cx=\"1233.36\" cy=\"646.343\" r=\"14\" fill=\"#ac8d18\" fill-rule=\"evenodd\" fill-opacity=\"1\" stroke=\"#000000\" stroke-opacity=\"1\" stroke-width=\"3.2\"/>\n",
       "<circle clip-path=\"url(#clip522)\" cx=\"1339.26\" cy=\"644.019\" r=\"14\" fill=\"#ac8d18\" fill-rule=\"evenodd\" fill-opacity=\"1\" stroke=\"#000000\" stroke-opacity=\"1\" stroke-width=\"3.2\"/>\n",
       "<circle clip-path=\"url(#clip522)\" cx=\"1445.17\" cy=\"569.869\" r=\"14\" fill=\"#ac8d18\" fill-rule=\"evenodd\" fill-opacity=\"1\" stroke=\"#000000\" stroke-opacity=\"1\" stroke-width=\"3.2\"/>\n",
       "<circle clip-path=\"url(#clip522)\" cx=\"1551.07\" cy=\"300.067\" r=\"14\" fill=\"#ac8d18\" fill-rule=\"evenodd\" fill-opacity=\"1\" stroke=\"#000000\" stroke-opacity=\"1\" stroke-width=\"3.2\"/>\n",
       "<circle clip-path=\"url(#clip522)\" cx=\"1656.97\" cy=\"276.59\" r=\"14\" fill=\"#ac8d18\" fill-rule=\"evenodd\" fill-opacity=\"1\" stroke=\"#000000\" stroke-opacity=\"1\" stroke-width=\"3.2\"/>\n",
       "<circle clip-path=\"url(#clip522)\" cx=\"1762.88\" cy=\"277.771\" r=\"14\" fill=\"#ac8d18\" fill-rule=\"evenodd\" fill-opacity=\"1\" stroke=\"#000000\" stroke-opacity=\"1\" stroke-width=\"3.2\"/>\n",
       "<circle clip-path=\"url(#clip522)\" cx=\"1868.78\" cy=\"253.532\" r=\"14\" fill=\"#ac8d18\" fill-rule=\"evenodd\" fill-opacity=\"1\" stroke=\"#000000\" stroke-opacity=\"1\" stroke-width=\"3.2\"/>\n",
       "<circle clip-path=\"url(#clip522)\" cx=\"1974.68\" cy=\"182.567\" r=\"14\" fill=\"#ac8d18\" fill-rule=\"evenodd\" fill-opacity=\"1\" stroke=\"#000000\" stroke-opacity=\"1\" stroke-width=\"3.2\"/>\n",
       "<circle clip-path=\"url(#clip522)\" cx=\"2080.58\" cy=\"160.927\" r=\"14\" fill=\"#ac8d18\" fill-rule=\"evenodd\" fill-opacity=\"1\" stroke=\"#000000\" stroke-opacity=\"1\" stroke-width=\"3.2\"/>\n",
       "<circle clip-path=\"url(#clip522)\" cx=\"2186.49\" cy=\"160.256\" r=\"14\" fill=\"#ac8d18\" fill-rule=\"evenodd\" fill-opacity=\"1\" stroke=\"#000000\" stroke-opacity=\"1\" stroke-width=\"3.2\"/>\n",
       "<circle clip-path=\"url(#clip522)\" cx=\"2292.39\" cy=\"160.256\" r=\"14\" fill=\"#ac8d18\" fill-rule=\"evenodd\" fill-opacity=\"1\" stroke=\"#000000\" stroke-opacity=\"1\" stroke-width=\"3.2\"/>\n",
       "<path clip-path=\"url(#clip520)\" d=\"\n",
       "M290.963 1379.86 L748.273 1379.86 L748.273 1068.82 L290.963 1068.82  Z\n",
       "  \" fill=\"#ffffff\" fill-rule=\"evenodd\" fill-opacity=\"1\"/>\n",
       "<polyline clip-path=\"url(#clip520)\" style=\"stroke:#000000; stroke-linecap:butt; stroke-linejoin:round; stroke-width:4; stroke-opacity:1; fill:none\" points=\"\n",
       "  290.963,1379.86 748.273,1379.86 748.273,1068.82 290.963,1068.82 290.963,1379.86 \n",
       "  \"/>\n",
       "<polyline clip-path=\"url(#clip520)\" style=\"stroke:#009af9; stroke-linecap:butt; stroke-linejoin:round; stroke-width:4; stroke-opacity:1; fill:none\" points=\"\n",
       "  314.661,1120.66 456.854,1120.66 \n",
       "  \"/>\n",
       "<path clip-path=\"url(#clip520)\" d=\"M496.386 1107.98 L490.043 1125.18 L502.752 1125.18 L496.386 1107.98 M493.747 1103.38 L499.048 1103.38 L512.219 1137.94 L507.358 1137.94 L504.21 1129.07 L488.631 1129.07 L485.483 1137.94 L480.553 1137.94 L493.747 1103.38 Z\" fill=\"#000000\" fill-rule=\"evenodd\" fill-opacity=\"1\" /><path clip-path=\"url(#clip520)\" d=\"M516.733 1103.38 L521.432 1103.38 L521.432 1124.37 Q521.432 1129.93 523.446 1132.38 Q525.46 1134.81 529.974 1134.81 Q534.465 1134.81 536.478 1132.38 Q538.492 1129.93 538.492 1124.37 L538.492 1103.38 L543.191 1103.38 L543.191 1124.95 Q543.191 1131.71 539.835 1135.16 Q536.502 1138.61 529.974 1138.61 Q523.423 1138.61 520.066 1135.16 Q516.733 1131.71 516.733 1124.95 L516.733 1103.38 Z\" fill=\"#000000\" fill-rule=\"evenodd\" fill-opacity=\"1\" /><path clip-path=\"url(#clip520)\" d=\"M577.844 1106.04 L577.844 1110.97 Q575.483 1108.77 572.798 1107.68 Q570.136 1106.59 567.126 1106.59 Q561.2 1106.59 558.052 1110.23 Q554.904 1113.84 554.904 1120.69 Q554.904 1127.52 558.052 1131.15 Q561.2 1134.76 567.126 1134.76 Q570.136 1134.76 572.798 1133.68 Q575.483 1132.59 577.844 1130.39 L577.844 1135.27 Q575.39 1136.94 572.636 1137.77 Q569.904 1138.61 566.849 1138.61 Q559.001 1138.61 554.488 1133.82 Q549.974 1129 549.974 1120.69 Q549.974 1112.36 554.488 1107.57 Q559.001 1102.75 566.849 1102.75 Q569.95 1102.75 572.682 1103.58 Q575.437 1104.39 577.844 1106.04 Z\" fill=\"#000000\" fill-rule=\"evenodd\" fill-opacity=\"1\" /><path clip-path=\"url(#clip520)\" d=\"M596.663 1124.9 Q591.501 1124.9 589.511 1126.08 Q587.52 1127.27 587.52 1130.11 Q587.52 1132.38 589.001 1133.72 Q590.506 1135.04 593.075 1135.04 Q596.617 1135.04 598.747 1132.54 Q600.899 1130.02 600.899 1125.85 L600.899 1124.9 L596.663 1124.9 M605.159 1123.14 L605.159 1137.94 L600.899 1137.94 L600.899 1134 Q599.441 1136.36 597.265 1137.5 Q595.089 1138.61 591.941 1138.61 Q587.96 1138.61 585.599 1136.39 Q583.261 1134.14 583.261 1130.39 Q583.261 1126.02 586.177 1123.79 Q589.117 1121.57 594.927 1121.57 L600.899 1121.57 L600.899 1121.15 Q600.899 1118.21 598.955 1116.62 Q597.034 1115 593.538 1115 Q591.316 1115 589.21 1115.53 Q587.103 1116.06 585.159 1117.13 L585.159 1113.19 Q587.497 1112.29 589.696 1111.85 Q591.895 1111.39 593.978 1111.39 Q599.603 1111.39 602.381 1114.3 Q605.159 1117.22 605.159 1123.14 Z\" fill=\"#000000\" fill-rule=\"evenodd\" fill-opacity=\"1\" /><path clip-path=\"url(#clip520)\" d=\"M613.492 1127.7 L613.492 1112.01 L617.751 1112.01 L617.751 1127.54 Q617.751 1131.22 619.186 1133.08 Q620.621 1134.9 623.492 1134.9 Q626.941 1134.9 628.932 1132.7 Q630.945 1130.51 630.945 1126.71 L630.945 1112.01 L635.205 1112.01 L635.205 1137.94 L630.945 1137.94 L630.945 1133.95 Q629.395 1136.32 627.334 1137.47 Q625.297 1138.61 622.589 1138.61 Q618.121 1138.61 615.807 1135.83 Q613.492 1133.05 613.492 1127.7 M624.209 1111.39 L624.209 1111.39 Z\" fill=\"#000000\" fill-rule=\"evenodd\" fill-opacity=\"1\" /><circle clip-path=\"url(#clip520)\" cx=\"385.758\" cy=\"1172.5\" r=\"23\" fill=\"#e26f46\" fill-rule=\"evenodd\" fill-opacity=\"1\" stroke=\"#000000\" stroke-opacity=\"1\" stroke-width=\"5.12\"/>\n",
       "<path clip-path=\"url(#clip520)\" d=\"M496.386 1159.82 L490.043 1177.02 L502.752 1177.02 L496.386 1159.82 M493.747 1155.22 L499.048 1155.22 L512.219 1189.78 L507.358 1189.78 L504.21 1180.91 L488.631 1180.91 L485.483 1189.78 L480.553 1189.78 L493.747 1155.22 Z\" fill=\"#000000\" fill-rule=\"evenodd\" fill-opacity=\"1\" /><path clip-path=\"url(#clip520)\" d=\"M516.733 1155.22 L521.432 1155.22 L521.432 1176.21 Q521.432 1181.77 523.446 1184.22 Q525.46 1186.65 529.974 1186.65 Q534.465 1186.65 536.478 1184.22 Q538.492 1181.77 538.492 1176.21 L538.492 1155.22 L543.191 1155.22 L543.191 1176.79 Q543.191 1183.55 539.835 1187 Q536.502 1190.45 529.974 1190.45 Q523.423 1190.45 520.066 1187 Q516.733 1183.55 516.733 1176.79 L516.733 1155.22 Z\" fill=\"#000000\" fill-rule=\"evenodd\" fill-opacity=\"1\" /><path clip-path=\"url(#clip520)\" d=\"M572.682 1156.35 L572.682 1160.91 Q570.02 1159.64 567.659 1159.01 Q565.298 1158.39 563.099 1158.39 Q559.279 1158.39 557.196 1159.87 Q555.136 1161.35 555.136 1164.08 Q555.136 1166.37 556.501 1167.55 Q557.89 1168.71 561.733 1169.43 L564.557 1170.01 Q569.788 1171 572.265 1173.53 Q574.765 1176.03 574.765 1180.24 Q574.765 1185.26 571.386 1187.85 Q568.029 1190.45 561.525 1190.45 Q559.071 1190.45 556.293 1189.89 Q553.538 1189.34 550.576 1188.25 L550.576 1183.43 Q553.423 1185.03 556.154 1185.84 Q558.886 1186.65 561.525 1186.65 Q565.529 1186.65 567.705 1185.08 Q569.881 1183.5 569.881 1180.59 Q569.881 1178.04 568.307 1176.61 Q566.756 1175.17 563.191 1174.45 L560.344 1173.9 Q555.113 1172.86 552.775 1170.63 Q550.437 1168.41 550.437 1164.45 Q550.437 1159.87 553.654 1157.23 Q556.895 1154.59 562.566 1154.59 Q564.997 1154.59 567.52 1155.03 Q570.043 1155.47 572.682 1156.35 Z\" fill=\"#000000\" fill-rule=\"evenodd\" fill-opacity=\"1\" /><path clip-path=\"url(#clip520)\" d=\"M591.918 1166.84 Q588.492 1166.84 586.501 1169.52 Q584.511 1172.18 584.511 1176.84 Q584.511 1181.49 586.478 1184.17 Q588.469 1186.84 591.918 1186.84 Q595.321 1186.84 597.311 1184.15 Q599.302 1181.47 599.302 1176.84 Q599.302 1172.23 597.311 1169.54 Q595.321 1166.84 591.918 1166.84 M591.918 1163.23 Q597.473 1163.23 600.645 1166.84 Q603.816 1170.45 603.816 1176.84 Q603.816 1183.2 600.645 1186.84 Q597.473 1190.45 591.918 1190.45 Q586.339 1190.45 583.168 1186.84 Q580.02 1183.2 580.02 1176.84 Q580.02 1170.45 583.168 1166.84 Q586.339 1163.23 591.918 1163.23 Z\" fill=\"#000000\" fill-rule=\"evenodd\" fill-opacity=\"1\" /><path clip-path=\"url(#clip520)\" d=\"M624.001 1153.76 L624.001 1157.3 L619.927 1157.3 Q617.635 1157.3 616.733 1158.23 Q615.853 1159.15 615.853 1161.56 L615.853 1163.85 L622.867 1163.85 L622.867 1167.16 L615.853 1167.16 L615.853 1189.78 L611.571 1189.78 L611.571 1167.16 L607.497 1167.16 L607.497 1163.85 L611.571 1163.85 L611.571 1162.04 Q611.571 1157.72 613.584 1155.75 Q615.598 1153.76 619.973 1153.76 L624.001 1153.76 Z\" fill=\"#000000\" fill-rule=\"evenodd\" fill-opacity=\"1\" /><path clip-path=\"url(#clip520)\" d=\"M630.945 1156.49 L630.945 1163.85 L639.719 1163.85 L639.719 1167.16 L630.945 1167.16 L630.945 1181.23 Q630.945 1184.41 631.802 1185.31 Q632.682 1186.21 635.344 1186.21 L639.719 1186.21 L639.719 1189.78 L635.344 1189.78 Q630.413 1189.78 628.538 1187.95 Q626.663 1186.1 626.663 1181.23 L626.663 1167.16 L623.538 1167.16 L623.538 1163.85 L626.663 1163.85 L626.663 1156.49 L630.945 1156.49 Z\" fill=\"#000000\" fill-rule=\"evenodd\" fill-opacity=\"1\" /><circle clip-path=\"url(#clip520)\" cx=\"385.758\" cy=\"1224.34\" r=\"23\" fill=\"#3da44d\" fill-rule=\"evenodd\" fill-opacity=\"1\" stroke=\"#000000\" stroke-opacity=\"1\" stroke-width=\"5.12\"/>\n",
       "<path clip-path=\"url(#clip520)\" d=\"M496.386 1211.66 L490.043 1228.86 L502.752 1228.86 L496.386 1211.66 M493.747 1207.06 L499.048 1207.06 L512.219 1241.62 L507.358 1241.62 L504.21 1232.75 L488.631 1232.75 L485.483 1241.62 L480.553 1241.62 L493.747 1207.06 Z\" fill=\"#000000\" fill-rule=\"evenodd\" fill-opacity=\"1\" /><path clip-path=\"url(#clip520)\" d=\"M516.733 1207.06 L521.432 1207.06 L521.432 1228.05 Q521.432 1233.61 523.446 1236.06 Q525.46 1238.49 529.974 1238.49 Q534.465 1238.49 536.478 1236.06 Q538.492 1233.61 538.492 1228.05 L538.492 1207.06 L543.191 1207.06 L543.191 1228.63 Q543.191 1235.39 539.835 1238.84 Q536.502 1242.29 529.974 1242.29 Q523.423 1242.29 520.066 1238.84 Q516.733 1235.39 516.733 1228.63 L516.733 1207.06 Z\" fill=\"#000000\" fill-rule=\"evenodd\" fill-opacity=\"1\" /><path clip-path=\"url(#clip520)\" d=\"M551.964 1207.06 L571.825 1207.06 L571.825 1210.99 L556.64 1210.99 L556.64 1221.18 L570.344 1221.18 L570.344 1225.11 L556.64 1225.11 L556.64 1241.62 L551.964 1241.62 L551.964 1207.06 Z\" fill=\"#000000\" fill-rule=\"evenodd\" fill-opacity=\"1\" /><path clip-path=\"url(#clip520)\" d=\"M590.622 1219.67 Q589.904 1219.26 589.048 1219.07 Q588.214 1218.86 587.196 1218.86 Q583.585 1218.86 581.64 1221.22 Q579.719 1223.56 579.719 1227.96 L579.719 1241.62 L575.437 1241.62 L575.437 1215.69 L579.719 1215.69 L579.719 1219.72 Q581.061 1217.36 583.214 1216.22 Q585.367 1215.07 588.446 1215.07 Q588.886 1215.07 589.418 1215.13 Q589.95 1215.18 590.598 1215.3 L590.622 1219.67 Z\" fill=\"#000000\" fill-rule=\"evenodd\" fill-opacity=\"1\" /><path clip-path=\"url(#clip520)\" d=\"M616.223 1227.59 L616.223 1229.67 L596.64 1229.67 Q596.918 1234.07 599.279 1236.38 Q601.663 1238.68 605.899 1238.68 Q608.353 1238.68 610.645 1238.07 Q612.959 1237.47 615.228 1236.27 L615.228 1240.3 Q612.936 1241.27 610.529 1241.78 Q608.122 1242.29 605.645 1242.29 Q599.441 1242.29 595.807 1238.68 Q592.196 1235.07 592.196 1228.91 Q592.196 1222.54 595.622 1218.82 Q599.071 1215.07 604.904 1215.07 Q610.135 1215.07 613.168 1218.45 Q616.223 1221.8 616.223 1227.59 M611.964 1226.34 Q611.918 1222.84 609.997 1220.76 Q608.098 1218.68 604.95 1218.68 Q601.385 1218.68 599.233 1220.69 Q597.103 1222.7 596.779 1226.36 L611.964 1226.34 Z\" fill=\"#000000\" fill-rule=\"evenodd\" fill-opacity=\"1\" /><path clip-path=\"url(#clip520)\" d=\"M644.765 1225.97 L644.765 1241.62 L640.506 1241.62 L640.506 1226.11 Q640.506 1222.43 639.07 1220.6 Q637.635 1218.77 634.765 1218.77 Q631.316 1218.77 629.325 1220.97 Q627.334 1223.17 627.334 1226.96 L627.334 1241.62 L623.052 1241.62 L623.052 1215.69 L627.334 1215.69 L627.334 1219.72 Q628.862 1217.38 630.922 1216.22 Q633.006 1215.07 635.714 1215.07 Q640.182 1215.07 642.473 1217.84 Q644.765 1220.6 644.765 1225.97 Z\" fill=\"#000000\" fill-rule=\"evenodd\" fill-opacity=\"1\" /><path clip-path=\"url(#clip520)\" d=\"M671.917 1216.69 L671.917 1220.67 Q670.112 1219.67 668.283 1219.19 Q666.478 1218.68 664.626 1218.68 Q660.482 1218.68 658.191 1221.32 Q655.899 1223.93 655.899 1228.68 Q655.899 1233.42 658.191 1236.06 Q660.482 1238.68 664.626 1238.68 Q666.478 1238.68 668.283 1238.19 Q670.112 1237.68 671.917 1236.69 L671.917 1240.62 Q670.135 1241.45 668.214 1241.87 Q666.316 1242.29 664.163 1242.29 Q658.306 1242.29 654.857 1238.61 Q651.408 1234.93 651.408 1228.68 Q651.408 1222.33 654.881 1218.7 Q658.376 1215.07 664.441 1215.07 Q666.408 1215.07 668.283 1215.48 Q670.158 1215.88 671.917 1216.69 Z\" fill=\"#000000\" fill-rule=\"evenodd\" fill-opacity=\"1\" /><path clip-path=\"url(#clip520)\" d=\"M700.876 1225.97 L700.876 1241.62 L696.616 1241.62 L696.616 1226.11 Q696.616 1222.43 695.181 1220.6 Q693.746 1218.77 690.876 1218.77 Q687.427 1218.77 685.436 1220.97 Q683.445 1223.17 683.445 1226.96 L683.445 1241.62 L679.163 1241.62 L679.163 1205.6 L683.445 1205.6 L683.445 1219.72 Q684.973 1217.38 687.033 1216.22 Q689.116 1215.07 691.825 1215.07 Q696.292 1215.07 698.584 1217.84 Q700.876 1220.6 700.876 1225.97 Z\" fill=\"#000000\" fill-rule=\"evenodd\" fill-opacity=\"1\" /><circle clip-path=\"url(#clip520)\" cx=\"385.758\" cy=\"1276.18\" r=\"23\" fill=\"#c271d2\" fill-rule=\"evenodd\" fill-opacity=\"1\" stroke=\"#000000\" stroke-opacity=\"1\" stroke-width=\"5.12\"/>\n",
       "<path clip-path=\"url(#clip520)\" d=\"M496.386 1263.5 L490.043 1280.7 L502.752 1280.7 L496.386 1263.5 M493.747 1258.9 L499.048 1258.9 L512.219 1293.46 L507.358 1293.46 L504.21 1284.59 L488.631 1284.59 L485.483 1293.46 L480.553 1293.46 L493.747 1258.9 Z\" fill=\"#000000\" fill-rule=\"evenodd\" fill-opacity=\"1\" /><path clip-path=\"url(#clip520)\" d=\"M516.733 1258.9 L521.432 1258.9 L521.432 1279.89 Q521.432 1285.45 523.446 1287.9 Q525.46 1290.33 529.974 1290.33 Q534.465 1290.33 536.478 1287.9 Q538.492 1285.45 538.492 1279.89 L538.492 1258.9 L543.191 1258.9 L543.191 1280.47 Q543.191 1287.23 539.835 1290.68 Q536.502 1294.13 529.974 1294.13 Q523.423 1294.13 520.066 1290.68 Q516.733 1287.23 516.733 1280.47 L516.733 1258.9 Z\" fill=\"#000000\" fill-rule=\"evenodd\" fill-opacity=\"1\" /><path clip-path=\"url(#clip520)\" d=\"M551.964 1258.9 L558.932 1258.9 L567.751 1282.41 L576.617 1258.9 L583.585 1258.9 L583.585 1293.46 L579.024 1293.46 L579.024 1263.11 L570.112 1286.81 L565.413 1286.81 L556.501 1263.11 L556.501 1293.46 L551.964 1293.46 L551.964 1258.9 Z\" fill=\"#000000\" fill-rule=\"evenodd\" fill-opacity=\"1\" /><path clip-path=\"url(#clip520)\" d=\"M592.867 1258.9 L597.543 1258.9 L597.543 1273.06 L614.534 1273.06 L614.534 1258.9 L619.209 1258.9 L619.209 1293.46 L614.534 1293.46 L614.534 1277 L597.543 1277 L597.543 1293.46 L592.867 1293.46 L592.867 1258.9 Z\" fill=\"#000000\" fill-rule=\"evenodd\" fill-opacity=\"1\" /><circle clip-path=\"url(#clip520)\" cx=\"385.758\" cy=\"1328.02\" r=\"23\" fill=\"#ac8d18\" fill-rule=\"evenodd\" fill-opacity=\"1\" stroke=\"#000000\" stroke-opacity=\"1\" stroke-width=\"5.12\"/>\n",
       "<path clip-path=\"url(#clip520)\" d=\"M496.386 1315.34 L490.043 1332.54 L502.752 1332.54 L496.386 1315.34 M493.747 1310.74 L499.048 1310.74 L512.219 1345.3 L507.358 1345.3 L504.21 1336.43 L488.631 1336.43 L485.483 1345.3 L480.553 1345.3 L493.747 1310.74 Z\" fill=\"#000000\" fill-rule=\"evenodd\" fill-opacity=\"1\" /><path clip-path=\"url(#clip520)\" d=\"M516.733 1310.74 L521.432 1310.74 L521.432 1331.73 Q521.432 1337.29 523.446 1339.74 Q525.46 1342.17 529.974 1342.17 Q534.465 1342.17 536.478 1339.74 Q538.492 1337.29 538.492 1331.73 L538.492 1310.74 L543.191 1310.74 L543.191 1332.31 Q543.191 1339.07 539.835 1342.52 Q536.502 1345.97 529.974 1345.97 Q523.423 1345.97 520.066 1342.52 Q516.733 1339.07 516.733 1332.31 L516.733 1310.74 Z\" fill=\"#000000\" fill-rule=\"evenodd\" fill-opacity=\"1\" /><path clip-path=\"url(#clip520)\" d=\"M568.307 1320.13 L568.307 1324.16 Q566.501 1323.24 564.557 1322.77 Q562.613 1322.31 560.529 1322.31 Q557.358 1322.31 555.761 1323.28 Q554.187 1324.25 554.187 1326.2 Q554.187 1327.68 555.321 1328.54 Q556.455 1329.37 559.881 1330.13 L561.339 1330.46 Q565.876 1331.43 567.775 1333.21 Q569.696 1334.97 569.696 1338.14 Q569.696 1341.75 566.825 1343.86 Q563.978 1345.97 558.978 1345.97 Q556.895 1345.97 554.626 1345.55 Q552.381 1345.16 549.881 1344.35 L549.881 1339.95 Q552.242 1341.18 554.534 1341.8 Q556.826 1342.4 559.071 1342.4 Q562.08 1342.4 563.7 1341.38 Q565.321 1340.34 565.321 1338.47 Q565.321 1336.73 564.14 1335.81 Q562.983 1334.88 559.025 1334.02 L557.543 1333.68 Q553.585 1332.84 551.826 1331.13 Q550.066 1329.39 550.066 1326.38 Q550.066 1322.73 552.659 1320.74 Q555.251 1318.75 560.02 1318.75 Q562.381 1318.75 564.464 1319.09 Q566.548 1319.44 568.307 1320.13 Z\" fill=\"#000000\" fill-rule=\"evenodd\" fill-opacity=\"1\" /><path clip-path=\"url(#clip520)\" d=\"M576.478 1319.37 L580.737 1319.37 L580.737 1345.3 L576.478 1345.3 L576.478 1319.37 M576.478 1309.28 L580.737 1309.28 L580.737 1314.67 L576.478 1314.67 L576.478 1309.28 Z\" fill=\"#000000\" fill-rule=\"evenodd\" fill-opacity=\"1\" /><path clip-path=\"url(#clip520)\" d=\"M608.26 1332.36 Q608.26 1327.66 606.316 1325 Q604.395 1322.31 601.015 1322.31 Q597.635 1322.31 595.691 1325 Q593.77 1327.66 593.77 1332.36 Q593.77 1337.06 595.691 1339.74 Q597.635 1342.4 601.015 1342.4 Q604.395 1342.4 606.316 1339.74 Q608.26 1337.06 608.26 1332.36 M593.77 1323.31 Q595.112 1320.99 597.149 1319.88 Q599.21 1318.75 602.057 1318.75 Q606.779 1318.75 609.719 1322.5 Q612.682 1326.25 612.682 1332.36 Q612.682 1338.47 609.719 1342.22 Q606.779 1345.97 602.057 1345.97 Q599.21 1345.97 597.149 1344.86 Q595.112 1343.72 593.77 1341.41 L593.77 1345.3 L589.487 1345.3 L589.487 1309.28 L593.77 1309.28 L593.77 1323.31 Z\" fill=\"#000000\" fill-rule=\"evenodd\" fill-opacity=\"1\" /></svg>\n"
      ]
     },
     "execution_count": 50,
     "metadata": {},
     "output_type": "execute_result"
    }
   ],
   "source": [
    "#AUROC curves\n",
    "\n",
    "T = Int(T)\n",
    "AU_curve=zeros(T)\n",
    "AU_sib=zeros(T)\n",
    "AU_french = zeros(T)\n",
    "AU_soft = zeros(T)\n",
    "AU_MH = zeros(T)\n",
    "for t = 1:T\n",
    "    cau_risk=zeros(N)\n",
    "    sib_risk = zeros(N)\n",
    "    french_risk = zeros(N)\n",
    "    MH_risk = zeros(N)\n",
    "    soft_risk = zeros(N)\n",
    "    for i=1:N\n",
    "       cau_risk[i] = marginal(i,t,statscau)\n",
    "       french_risk[i] = marginal(i,t,statsfre)\n",
    "       MH_risk[i] = p_sib2[i,Int(round(t/dt))]\n",
    "       sib_risk[i] = p_sib[i,Int(round(t/dt))]\n",
    "       soft_risk[i] = marginal(i,t,stats) \n",
    "    end\n",
    "    xt = xtrue .< t\n",
    "    AU_soft[t] = AUROC(ROC(xt, soft_risk))\n",
    "    AU_curve[t] = AUROC(ROC(xt, cau_risk))\n",
    "    AU_french[t] = AUROC(ROC(xt, french_risk))\n",
    "    AU_MH[t] = AUROC(ROC(xt, MH_risk))\n",
    "    AU_sib[t] = AUROC(ROC(xt, sib_risk))\n",
    "end\n",
    "\n",
    "plot(LinRange(1,T,T),AU_curve, label=\"AUCau\", title=\"Causality VS Sib AUROC in function of time\")\n",
    "scatter!(LinRange(1,T,T),AU_soft, label=\"AUSoft\",legend=:bottomleft)\n",
    "scatter!(LinRange(1,T,T),AU_french, label=\"AUFrench\")\n",
    "scatter!(LinRange(1,T,T),AU_MH, label=\"AUMH\")\n",
    "scatter!(LinRange(1,T,T), AU_sib, label=\"AUsib\")\n",
    "xlabel!(\"t\")\n",
    "ylabel!(\"AUROC\")\n",
    "#savefig(\"confronti.pdf\")\n",
    "#ylims!(0.5,1.01)"
   ]
  },
  {
   "cell_type": "code",
   "execution_count": null,
   "metadata": {},
   "outputs": [],
   "source": []
  },
  {
   "cell_type": "code",
   "execution_count": null,
   "metadata": {},
   "outputs": [],
   "source": []
  }
 ],
 "metadata": {
  "kernelspec": {
   "display_name": "Julia 1.7.0-rc2",
   "language": "julia",
   "name": "julia-1.7"
  },
  "language_info": {
   "file_extension": ".jl",
   "mimetype": "application/julia",
   "name": "julia",
   "version": "1.7.0"
  }
 },
 "nbformat": 4,
 "nbformat_minor": 4
}
