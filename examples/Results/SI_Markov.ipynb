{
 "cells": [
  {
   "cell_type": "code",
   "execution_count": 253,
   "metadata": {},
   "outputs": [],
   "source": [
    "using SparseArrays, LinearAlgebra\n",
    "#using Pkg\n",
    "#Pkg.activate(\"../\")\n",
    "using Causality"
   ]
  },
  {
   "cell_type": "markdown",
   "metadata": {},
   "source": [
    "# Generation of Epidemics"
   ]
  },
  {
   "cell_type": "code",
   "execution_count": 254,
   "metadata": {},
   "outputs": [
    {
     "data": {
      "text/plain": [
       "300×300 SparseMatrixCSC{IndexedGraphs.NullNumber, Int64} with 2034 stored entries:\n",
       "⠀⠀⠐⠐⡐⡲⠐⠰⠐⢀⠁⠤⣈⠔⠠⡀⣂⡅⣆⢀⠠⠐⡂⢠⢜⠐⡀⢀⢨⠘⠜⡅⠁⠁⠠⠡⣡⢖⠁⠆\n",
       "⢐⠀⠀⡠⠂⣩⠨⢁⠒⡂⢁⢒⠜⣦⠁⠃⠮⠈⡔⠐⡊⠣⡒⡀⡆⠁⣋⣰⠌⡚⢈⠌⡘⢖⣊⠁⡈⠰⢂⠀\n",
       "⢰⡨⡌⣠⠰⠂⠰⢠⠿⡁⠁⢅⠪⠰⢂⠌⠆⡥⡈⠁⠈⠀⠇⠉⡈⡑⡬⠈⠨⠱⡀⡂⠜⠀⢡⢀⣡⡾⠀⠁\n",
       "⢐⡀⠆⢂⠐⣂⠁⠀⠐⠁⠬⣂⠐⠄⠍⡠⢖⢦⡲⣀⢀⠦⡂⡤⠈⣰⣉⠤⣦⠐⠢⡀⡂⠆⣂⠒⢀⠒⣈⠅\n",
       "⠐⢀⠸⠠⠟⠣⠔⠀⠠⢂⡸⠡⠺⢀⢹⠁⠂⠊⠈⠃⠅⠉⢎⠀⠇⡐⡀⠳⠀⠖⠄⡘⡺⠰⢄⢐⢄⠺⠠⢐\n",
       "⠁⡄⢡⢐⠅⢄⠢⢣⠖⡊⠀⠄⠨⠀⠐⠈⠍⠅⡨⠈⡌⡍⠐⠎⠀⠩⡚⠆⠨⠪⠐⡐⠇⢄⡌⠓⣡⠐⡕⠁\n",
       "⢂⠜⠲⣥⢊⡂⠐⠄⠚⢂⠂⠂⠀⡠⢀⠊⣀⠂⡐⠡⠦⠂⠢⠄⢔⠀⣓⡵⠄⢒⢠⣉⡺⡴⠊⠒⠰⡐⠆⢈\n",
       "⠀⠢⠥⠀⡈⠔⠃⡡⠗⠒⡐⠀⡠⠐⠀⢀⠠⠊⠀⣀⠔⢀⠙⠤⠀⣅⠤⠈⢀⠀⠀⠢⠎⠁⠀⠐⠡⠀⠠⠱\n",
       "⠌⠼⡊⠃⠌⡥⠸⣕⡨⠀⠇⠅⠠⠘⡠⠂⠎⠁⠫⠀⠐⢅⡀⠯⠀⢊⠂⢀⢩⠨⠀⠇⠇⣁⢱⠥⡀⠁⢅⡤\n",
       "⠈⢙⢐⠉⠆⠈⠘⢪⠦⠀⡂⠊⠔⡈⠀⢠⠋⠂⠀⡠⠲⠃⢀⢚⣁⠄⢑⠤⡷⠐⠕⠁⠀⣢⡆⠠⡊⠁⡤⡃\n",
       "⢀⠂⠮⡈⠂⠀⠠⡔⡅⠁⡆⠭⠨⠃⠐⢁⠔⢄⠼⠂⠀⢀⠄⠘⠃⢠⠔⠈⢂⠣⢄⠈⠄⢄⠔⠤⠓⠀⠎⠎\n",
       "⠈⣈⠘⠨⡍⠁⠈⡬⠊⠑⡰⠄⠈⠆⠓⡄⡤⡌⣠⢐⣀⠁⠪⡢⠀⠪⢂⠎⣤⠉⠣⠀⠞⠚⢎⠃⡱⡈⣓⣀\n",
       "⢒⠑⠌⠉⢆⠨⢂⣠⢉⠡⡄⡀⠐⠑⠄⢤⡠⢀⠁⠜⠉⣀⡠⡀⠀⠀⠤⡙⢀⠁⡑⠀⠎⡀⡩⡂⢣⠉⡂⠂\n",
       "⠀⢈⢋⣸⡂⠋⠃⡜⢤⡈⠺⠌⢝⡼⡀⠃⠈⢀⠑⡔⡐⠁⡨⠔⣄⠣⢮⠓⡴⣃⠤⡑⠃⢂⠄⢀⡚⢸⢘⠂\n",
       "⣂⠒⣢⠡⢆⡂⢈⠛⢠⠄⡢⡂⢠⢁⠀⠐⡃⡒⢙⠋⠬⡐⡄⠛⠄⠐⠴⢫⠀⠀⢘⡠⡤⣀⡂⣐⡐⣠⠱⠀\n",
       "⠖⠥⡂⠔⠠⠨⠈⠢⣀⠡⢐⠠⡄⢲⠠⡀⠤⠄⠕⠁⡀⠑⠉⠂⠑⠈⢄⠣⠒⡰⠠⠂⠀⡀⢆⠡⠦⢁⢀⢡\n",
       "⠅⠀⢲⢌⠒⠁⠨⠌⢚⡊⠉⢅⢚⡮⠎⠁⠍⢡⠠⣠⠀⢅⣺⠁⠊⠡⠩⢀⠀⢫⠀⠠⠄⡡⡄⢅⠔⢐⣅⠌\n",
       "⠄⡂⠎⠘⠁⢒⢨⠘⢀⢑⢦⠉⢪⠀⢀⠀⠕⡖⠈⡉⠐⡅⠮⠑⠣⠪⠀⢁⢈⢨⠌⡑⠄⢍⢀⡴⠘⠂⢑⢖\n",
       "⢡⢞⢂⡈⣡⡾⢠⠐⣠⡑⢁⠚⢐⠢⠁⠂⠄⠈⠎⠈⠙⠀⡑⠪⡍⠒⣚⣈⠐⣨⠌⢃⢐⢁⠲⠀⠀⡤⢁⠅\n",
       "⠡⠄⠈⠐⠄⠀⠆⠜⢀⢂⠕⠉⡈⢁⢄⡂⠁⡵⠤⠫⡪⠅⠙⢸⠨⠈⠲⠐⠑⠂⠄⣐⡁⠝⢱⢔⠅⠔⠠⠂"
      ]
     },
     "execution_count": 254,
     "metadata": {},
     "output_type": "execute_result"
    }
   ],
   "source": [
    "T, N = 20.0, 300\n",
    "#G = Causality.makeBarabasi(N,k=2)\n",
    "#ρ = 3/N\n",
    "#G = Causality.makeGNP(N,ρ)\n",
    "G = Causality.makeProximity(N,2.4/N)\n",
    "G.A "
   ]
  },
  {
   "cell_type": "code",
   "execution_count": 255,
   "metadata": {},
   "outputs": [
    {
     "data": {
      "text/plain": [
       "getpargen (generic function with 1 method)"
      ]
     },
     "execution_count": 255,
     "metadata": {},
     "output_type": "execute_result"
    }
   ],
   "source": [
    "getpar(pseed,autoinf::GaussianRate,inf_in::GaussianRate) = \n",
    "    [fill(pseed, 1, N);\n",
    "     fill(autoinf.a, 1, N); fill(autoinf.b, 1, N); fill(autoinf.c, 1, N);\n",
    "     fill(inf_in.a,   1, N); fill(inf_in.b, 1, N); fill(inf_in.c, 1, N);\n",
    "    ]\n",
    "\n",
    "getpargen(pseed, autoinf::GaussianRate, inf_out::GaussianRate) = \n",
    "    [pseed autoinf.a autoinf.b autoinf.c inf_out.a inf_out.b inf_out.c]\n"
   ]
  },
  {
   "cell_type": "code",
   "execution_count": 285,
   "metadata": {},
   "outputs": [],
   "source": [
    "#Initialize generation parameters\n",
    "ε = 1e-10\n",
    "λ = 0.28\n",
    "pseed = 1/N\n",
    "autoinf = GaussianRate(ε, T/2, 1/ε)\n",
    "inf_in = GaussianRate(1.0, T/2, 1/ε)\n",
    "inf_out = GaussianRate(λ, T/2, 1/ε)\n",
    "\n",
    "θp = getpar(pseed, autoinf, inf_in);\n",
    "θpgen = getpargen(pseed, autoinf, inf_out);"
   ]
  },
  {
   "cell_type": "code",
   "execution_count": 286,
   "metadata": {},
   "outputs": [],
   "source": [
    "#Initialize min/max boundaies\n",
    "T = Float64(T)\n",
    "pseed_min = ε\n",
    "pseed_max = 1-ε\n",
    "rate_min = GaussianRate(ε  ,  -T,   ε)\n",
    "rate_max = GaussianRate(1/ε  ,  2T,   1/ε)\n",
    "\n",
    "θmin = getpar(pseed_min , rate_min, rate_min);\n",
    "θmax = getpar(pseed_max , rate_max, rate_max);\n",
    "\n",
    "rate_min = GaussianRate(ε  ,  -T,   ε)\n",
    "rate_max = GaussianRate(1/ε  ,  T,   T)\n",
    "\n",
    "θgenmin = getpargen(pseed_min, rate_min, rate_min);\n",
    "θgenmax = getpargen(pseed_max, rate_max, rate_max);"
   ]
  },
  {
   "cell_type": "code",
   "execution_count": 287,
   "metadata": {},
   "outputs": [
    {
     "data": {
      "text/plain": [
       "GaussianInferentialSI"
      ]
     },
     "execution_count": 287,
     "metadata": {},
     "output_type": "execute_result"
    }
   ],
   "source": [
    "const Igen = GenerativeSI{GaussianRate,GaussianRate} \n",
    "const Igauss = GaussianInferentialSI"
   ]
  },
  {
   "cell_type": "code",
   "execution_count": 296,
   "metadata": {},
   "outputs": [
    {
     "data": {
      "text/plain": [
       "257"
      ]
     },
     "execution_count": 296,
     "metadata": {},
     "output_type": "execute_result"
    }
   ],
   "source": [
    "Mp = StochasticModel(Igen, T, θp, G, θpgen);\n",
    "sample! = Sampler(Mp);\n",
    "\n",
    "xtrue = zeros(N)\n",
    "sample!(xtrue)\n",
    "nobs, p = Int(round(N/20)), 1e-5\n",
    "#nobs, p = N, 1e-5\n",
    "O = [(ti = T*(1+rand())/2; (i,xtrue[i] < ti,ti,p)) for i=1:nobs]\n",
    "sum(xtrue .< T)"
   ]
  },
  {
   "cell_type": "code",
   "execution_count": 297,
   "metadata": {},
   "outputs": [],
   "source": [
    "#Softened model\n",
    "T = Float64(T)\n",
    "ε = 2e-3\n",
    "autoinf = GaussianRate(ε, T/2, T);\n",
    "θp2gen = getpargen(pseed, autoinf, inf_out);\n",
    "inf_in = GaussianRate(1., T/2, 3*T );\n",
    "\n",
    "θp2 = getpar(pseed, autoinf, inf_in);\n",
    "Mp2 = StochasticModel(Igen, T, θp2, G, θp2gen);"
   ]
  },
  {
   "cell_type": "code",
   "execution_count": 298,
   "metadata": {},
   "outputs": [],
   "source": [
    "using IntervalUnionArithmetic\n",
    "T = Float64(T)\n",
    "mask = fill(IntervalUnion(0., T),N)\n",
    "for o in O\n",
    "    if o[2] == 1 \n",
    "        mask[o[1]] = mask[o[1]] ∩ IntervalUnion(0., o[3])\n",
    "    elseif o[2] == 0\n",
    "        mask[o[1]] = mask[o[1]] ∩ IntervalUnion(o[3], T)\n",
    "    end\n",
    "end\n",
    "struct MaskedInferentialSI <: SI end\n",
    "\n",
    "Causality.individual(M::StochasticModel{MaskedInferentialSI}, i::Int, θi = @view(M.θ[:,i]), θg = M.θgen ) = \n",
    "@views IndividualSI(θi[1], \n",
    "    MaskedRate(GaussianRate(θi[2:4]...),mask[i]), \n",
    "    MaskedRate(GaussianRate(θi[5:7]...),mask[i]), \n",
    "    GaussianRate(θg[5:7]...))"
   ]
  },
  {
   "cell_type": "markdown",
   "metadata": {},
   "source": [
    "## Causality "
   ]
  },
  {
   "cell_type": "code",
   "execution_count": 299,
   "metadata": {},
   "outputs": [],
   "source": [
    "θ = getpar(pseed, autoinf, inf_in);\n",
    "M = StochasticModel(Igauss, T, θ, G, θp2gen);"
   ]
  },
  {
   "cell_type": "code",
   "execution_count": 300,
   "metadata": {},
   "outputs": [
    {
     "name": "stderr",
     "output_type": "stream",
     "text": [
      "\u001b[32mProgress: 100%|█████████████████████████████████████████| Time: 0:00:36\u001b[39m\n",
      "\u001b[34m  F:  33.28005820937852\u001b[39m\n"
     ]
    },
    {
     "data": {
      "text/plain": [
       "33.28005820937852"
      ]
     },
     "execution_count": 300,
     "metadata": {},
     "output_type": "execute_result"
    }
   ],
   "source": [
    "using ProgressMeter\n",
    "ProgressMeter.ijulia_behavior(:clear)\n",
    "F = descend!(Mp2, O; M=M, numsamples=1000, numiters=100, \n",
    "         θmin=θmin, θmax=θmax,θgenmin=θgenmin, θgenmax=θgenmax, descender=SignDescender(0.1),\n",
    "         hyperdescender=SignDescender(0.),learnhyper=1);\n",
    "F = descend!(Mp2, O; M=M, numsamples=1000, numiters=40, \n",
    "         θmin=θmin, θmax=θmax,θgenmin=θgenmin, θgenmax=θgenmax, descender=SignDescender(0.01),\n",
    "         hyperdescender=SignDescender(0.),learnhyper=1);\n",
    "F"
   ]
  },
  {
   "cell_type": "code",
   "execution_count": 301,
   "metadata": {},
   "outputs": [
    {
     "name": "stderr",
     "output_type": "stream",
     "text": [
      "\u001b[32mProgress: 100%|█████████████████████████████████████████| Time: 0:00:04\u001b[39m\n"
     ]
    }
   ],
   "source": [
    "statscau = prior(M, numsamples=10000);"
   ]
  },
  {
   "cell_type": "markdown",
   "metadata": {},
   "source": [
    "## SoftMarg"
   ]
  },
  {
   "cell_type": "code",
   "execution_count": 302,
   "metadata": {},
   "outputs": [
    {
     "name": "stderr",
     "output_type": "stream",
     "text": [
      "\u001b[32mProgress: 100%|█████████████████████████████████████████| Time: 0:00:58\u001b[39m\n"
     ]
    },
    {
     "data": {
      "text/plain": [
       "1247×300 Matrix{Float64}:\n",
       "  8.65305   7.1178    20.0     20.0     …   7.00177     7.97318    4.21581\n",
       "  7.22501   6.60129   16.5551  16.5269      7.06607     3.02941    4.25996\n",
       " 15.1503   12.7512    19.7685  20.0        14.5212      3.76665    5.82905\n",
       "  2.68834   4.19204   18.8068  17.3543      0.0473044   1.98325    1.49484\n",
       " 10.9026    8.65213   20.0     20.0         9.28766     4.97072    8.0771\n",
       "  3.70198   1.62818   16.6723  16.7997  …   2.36254     4.54808    9.78625\n",
       "  1.72908   2.11042   20.0     20.0         0.629409    9.28069    9.69135\n",
       "  4.52733   0.379746  18.5811  18.8823      4.40937     3.21366    4.94157\n",
       "  9.35608   7.35976   16.6595  15.8143      8.75222     5.12398   11.0451\n",
       "  8.14576   1.57525   19.059   19.144       3.56574    10.2785     8.64094\n",
       "  8.65174   3.89165   17.7796  17.3285  …   7.03866     7.39263   14.4902\n",
       " 12.3601    7.30425   18.0907  17.5554      9.93973     2.65393    0.0\n",
       "  7.52748   4.51974   17.4149  17.2495      6.0172      2.7731     9.32434\n",
       "  ⋮                                     ⋱                         \n",
       " 12.7424   11.2734    20.0     20.0     …  12.91        3.80209    1.39105\n",
       "  9.95241  10.5393    18.1099  18.2353      9.60187     0.254908   1.47584\n",
       " 12.1758   10.9947    17.7623  18.6554     12.9289      1.26584    2.88439\n",
       " 14.084    10.0051    20.0     20.0        12.4951      7.7026     9.07347\n",
       "  0.92443   3.85824   18.7836  18.9746      1.73758     5.42354   12.0629\n",
       "  1.70059   2.82446   19.6308  17.9951  …   1.42582     7.70632    9.24319\n",
       "  6.42488   2.91505   17.154   17.1225      5.72149     6.06833    2.31125\n",
       " 11.2884    7.1007    20.0     19.9823     10.1933      3.42514   11.2529\n",
       "  4.42601   5.08237   17.5955  17.6176      1.87348     7.934     12.3847\n",
       " 14.5612   12.45      19.4723  18.8118     15.015       4.8806     5.30123\n",
       "  5.18688   3.68222   19.2411  19.6833  …   2.91345     3.73024    2.29801\n",
       "  4.09848   3.4818    18.9015  18.7269      2.13953     6.79507   14.6927"
      ]
     },
     "execution_count": 302,
     "metadata": {},
     "output_type": "execute_result"
    }
   ],
   "source": [
    "stats = softpost(Mp, O; numsamples=10^5)"
   ]
  },
  {
   "cell_type": "markdown",
   "metadata": {},
   "source": [
    "## Sib"
   ]
  },
  {
   "cell_type": "code",
   "execution_count": 303,
   "metadata": {},
   "outputs": [
    {
     "data": {
      "text/plain": [
       "sibyl (generic function with 1 method)"
      ]
     },
     "execution_count": 303,
     "metadata": {},
     "output_type": "execute_result"
    }
   ],
   "source": [
    "using PyCall\n",
    "@pyimport sib\n",
    "function sibyl(N, T_cont, Λ, O, γ, λ ; dt=1/5, maxit = 400, tol = 1e-14)\n",
    "    \n",
    "    T = Int(round(T_cont / dt))\n",
    "    contacts = [(i-1,j-1,t, λ * dt) for t in 1:T for (i,j,v) in zip(findnz(Λ.A)...)];\n",
    "    obs = [[(i,-1,t) for t=1:T for i=0:N-1];\n",
    "           [(i-1,s,Int(round(t/dt))) for (i,s,t,p) in O]]\n",
    "    sort!(obs, lt=((i1,s1,t1),(i2,s2,t2))->(t1<t2))\n",
    "    prob_sus = 0.5\n",
    "    prob_seed=γ\n",
    "    pseed = prob_seed / (2 - prob_seed)\n",
    "    psus = prob_sus * (1 - pseed)\n",
    "    params = sib.Params(prob_r=sib.Exponential(mu=0), pseed=pseed, psus=psus,pautoinf=1e-10,fp_rate=1e-10,fn_rate=1e-10)\n",
    "    f = sib.FactorGraph(contacts=contacts, observations=obs, params=params)\n",
    "    sib.iterate(f, maxit=maxit,tol=tol)\n",
    "    sib.iterate(f, maxit=maxit, damping=0.5, tol=tol)\n",
    "    sib.iterate(f, maxit=maxit, damping=0.9, tol=tol)\n",
    "    p_sib=[collect(n.bt) for n in f.nodes]\n",
    "    m_sib = zeros(N, T)\n",
    "    for i=1:N\n",
    "        m_sib[i,1] = p_sib[i][1] \n",
    "        for t=2:T\n",
    "            m_sib[i,t] = m_sib[i,t-1] + p_sib[i][t]\n",
    "        end\n",
    "    end \n",
    "    return m_sib\n",
    "end\n"
   ]
  },
  {
   "cell_type": "code",
   "execution_count": 304,
   "metadata": {},
   "outputs": [
    {
     "name": "stdout",
     "output_type": "stream",
     "text": [
      "\n",
      "sib.iterate(damp=0.0): 39/40 1.173e-01/1e-07      \n",
      "sib.iterate(damp=0.5): 39/40 3.663e-02/1e-07      \n",
      "88.891103982925420.9): 39/40 1.958e-02/1e-07      \n"
     ]
    }
   ],
   "source": [
    "a=time()\n",
    "dt = 1/4\n",
    "p_sib = sibyl(N, T, G, O, 1/N, λ; dt=dt, maxit = 40, tol = 1e-7);\n",
    "b=time()\n",
    "println(b-a)"
   ]
  },
  {
   "cell_type": "markdown",
   "metadata": {},
   "source": [
    "# Heuristic"
   ]
  },
  {
   "cell_type": "code",
   "execution_count": 305,
   "metadata": {},
   "outputs": [
    {
     "name": "stderr",
     "output_type": "stream",
     "text": [
      "\u001b[32mProgress: 100%|█████████████████████████████████████████| Time: 0:00:06\u001b[39m\n"
     ]
    }
   ],
   "source": [
    "T = Float64(T)\n",
    "struct HeuristicSI <: SI end\n",
    "maskauto = fill(IntervalUnion(0., T),N)\n",
    "maskinf = fill(IntervalUnion(0., T),N)\n",
    "θfrench = getpar(pseed, GaussianRate(1e-10,T,T), inf_in);\n",
    "Causality.individual(M::StochasticModel{HeuristicSI}, i::Int, θi = @view(M.θ[:,i]), θg = M.θgen ) = \n",
    "@views IndividualSI(θi[1], \n",
    "    MaskedRate(GaussianRate(θi[2:4]...),maskauto[i]), \n",
    "    MaskedRate(UnitRate(),maskinf[i]), \n",
    "    GaussianRate(θg[5:7]...),)\n",
    "\n",
    "\n",
    "for o in O\n",
    "    if o[2] == 1 \n",
    "        maskauto[o[1]] = maskauto[o[1]] ∩ IntervalUnion(o[3]-5, T)        \n",
    "        θfrench[2,o[1]] = 10\n",
    "        θfrench[3,o[1]] = o[3] - 5\n",
    "        θfrench[4,o[1]] = 10\n",
    "    elseif o[2] == 0\n",
    "        maskinf[o[1]] = maskinf[o[1]] ∩ IntervalUnion(o[3], T)\n",
    "        θfrench[1,o[1]] = 1e-10\n",
    "    end\n",
    "end\n",
    "\n",
    "Mfrench = StochasticModel(HeuristicSI, T, θfrench, G, θp2gen);\n",
    "statsfre = prior(Mfrench,numsamples=10000);"
   ]
  },
  {
   "cell_type": "markdown",
   "metadata": {},
   "source": [
    "## Metropolis Monte Carlo"
   ]
  },
  {
   "cell_type": "code",
   "execution_count": 306,
   "metadata": {},
   "outputs": [
    {
     "name": "stderr",
     "output_type": "stream",
     "text": [
      "\u001b[32mProgress: 100%|█████████████████████████████████████████| Time: 0:00:09\u001b[39m\n",
      "\u001b[34m  acc_ratio:  0.243\u001b[39m\n"
     ]
    }
   ],
   "source": [
    "K = Causality.GaussMove(2.0)\n",
    "#stats_mh = Causality.metropolis_sampling_parallel(Mp, O, K; numsamples = 10^3,numsteps=10^3)\n",
    "stats_mh = Causality.metropolis_sampling_sequential(Mp, O, K; numsamples = 10^3,numsteps=10^3);"
   ]
  },
  {
   "cell_type": "markdown",
   "metadata": {},
   "source": [
    "## Marginals and ROC curve"
   ]
  },
  {
   "cell_type": "code",
   "execution_count": 307,
   "metadata": {},
   "outputs": [
    {
     "data": {
      "text/plain": [
       "AUROC (generic function with 1 method)"
      ]
     },
     "execution_count": 307,
     "metadata": {},
     "output_type": "execute_result"
    }
   ],
   "source": [
    "function marginal(i, t, stats)\n",
    "    numsamp = size(stats,1)\n",
    "    sum(stats[:,i] .< t)/numsamp\n",
    "end\n",
    "\n",
    "function tpr(xtrue, rank) \n",
    "    cumsum(xtrue[rank]) ./( cumsum(xtrue[rank])[end])\n",
    "end\n",
    "\n",
    "function fpr(xtrue, rank) \n",
    "    N = size(rank,1)\n",
    "    return (range(1,N,length=N) .- cumsum(xtrue[rank])) ./ (range(1,N,length=N) .- cumsum(xtrue[rank]) )[end]\n",
    "end\n",
    "\n",
    "function ROC(xtrue, p)\n",
    "    N = size(xtrue,1)\n",
    "    rank = sortperm(p, rev=true)\n",
    "    \n",
    "    return fpr(xtrue, rank) , tpr(xtrue, rank)\n",
    "end\n",
    "\n",
    "function AUROC(ROC)\n",
    "    N = size(ROC[1],1) \n",
    "    AU = 0\n",
    "    for t = 1:N-1\n",
    "        AU += ROC[2][t] * (ROC[1][t+1] - ROC[1][t])\n",
    "    end\n",
    "    return AU\n",
    "end"
   ]
  },
  {
   "cell_type": "code",
   "execution_count": 308,
   "metadata": {},
   "outputs": [
    {
     "data": {
      "image/svg+xml": [
       "<?xml version=\"1.0\" encoding=\"utf-8\"?>\n",
       "<svg xmlns=\"http://www.w3.org/2000/svg\" xmlns:xlink=\"http://www.w3.org/1999/xlink\" width=\"600\" height=\"400\" viewBox=\"0 0 2400 1600\">\n",
       "<defs>\n",
       "  <clipPath id=\"clip210\">\n",
       "    <rect x=\"0\" y=\"0\" width=\"2400\" height=\"1600\"/>\n",
       "  </clipPath>\n",
       "</defs>\n",
       "<path clip-path=\"url(#clip210)\" d=\"\n",
       "M0 1600 L2400 1600 L2400 0 L0 0  Z\n",
       "  \" fill=\"#ffffff\" fill-rule=\"evenodd\" fill-opacity=\"1\"/>\n",
       "<defs>\n",
       "  <clipPath id=\"clip211\">\n",
       "    <rect x=\"480\" y=\"0\" width=\"1681\" height=\"1600\"/>\n",
       "  </clipPath>\n",
       "</defs>\n",
       "<path clip-path=\"url(#clip210)\" d=\"\n",
       "M186.274 1486.45 L2352.76 1486.45 L2352.76 47.2441 L186.274 47.2441  Z\n",
       "  \" fill=\"#ffffff\" fill-rule=\"evenodd\" fill-opacity=\"1\"/>\n",
       "<defs>\n",
       "  <clipPath id=\"clip212\">\n",
       "    <rect x=\"186\" y=\"47\" width=\"2167\" height=\"1440\"/>\n",
       "  </clipPath>\n",
       "</defs>\n",
       "<polyline clip-path=\"url(#clip212)\" style=\"stroke:#000000; stroke-linecap:butt; stroke-linejoin:round; stroke-width:2; stroke-opacity:0.1; fill:none\" points=\"\n",
       "  677.874,1486.45 677.874,47.2441 \n",
       "  \"/>\n",
       "<polyline clip-path=\"url(#clip212)\" style=\"stroke:#000000; stroke-linecap:butt; stroke-linejoin:round; stroke-width:2; stroke-opacity:0.1; fill:none\" points=\"\n",
       "  1215.73,1486.45 1215.73,47.2441 \n",
       "  \"/>\n",
       "<polyline clip-path=\"url(#clip212)\" style=\"stroke:#000000; stroke-linecap:butt; stroke-linejoin:round; stroke-width:2; stroke-opacity:0.1; fill:none\" points=\"\n",
       "  1753.58,1486.45 1753.58,47.2441 \n",
       "  \"/>\n",
       "<polyline clip-path=\"url(#clip212)\" style=\"stroke:#000000; stroke-linecap:butt; stroke-linejoin:round; stroke-width:2; stroke-opacity:0.1; fill:none\" points=\"\n",
       "  2291.44,1486.45 2291.44,47.2441 \n",
       "  \"/>\n",
       "<polyline clip-path=\"url(#clip210)\" style=\"stroke:#000000; stroke-linecap:butt; stroke-linejoin:round; stroke-width:4; stroke-opacity:1; fill:none\" points=\"\n",
       "  186.274,1486.45 2352.76,1486.45 \n",
       "  \"/>\n",
       "<polyline clip-path=\"url(#clip210)\" style=\"stroke:#000000; stroke-linecap:butt; stroke-linejoin:round; stroke-width:4; stroke-opacity:1; fill:none\" points=\"\n",
       "  677.874,1486.45 677.874,1467.55 \n",
       "  \"/>\n",
       "<polyline clip-path=\"url(#clip210)\" style=\"stroke:#000000; stroke-linecap:butt; stroke-linejoin:round; stroke-width:4; stroke-opacity:1; fill:none\" points=\"\n",
       "  1215.73,1486.45 1215.73,1467.55 \n",
       "  \"/>\n",
       "<polyline clip-path=\"url(#clip210)\" style=\"stroke:#000000; stroke-linecap:butt; stroke-linejoin:round; stroke-width:4; stroke-opacity:1; fill:none\" points=\"\n",
       "  1753.58,1486.45 1753.58,1467.55 \n",
       "  \"/>\n",
       "<polyline clip-path=\"url(#clip210)\" style=\"stroke:#000000; stroke-linecap:butt; stroke-linejoin:round; stroke-width:4; stroke-opacity:1; fill:none\" points=\"\n",
       "  2291.44,1486.45 2291.44,1467.55 \n",
       "  \"/>\n",
       "<path clip-path=\"url(#clip210)\" d=\"M668.152 1514.29 L686.508 1514.29 L686.508 1518.22 L672.434 1518.22 L672.434 1526.7 Q673.453 1526.35 674.471 1526.19 Q675.49 1526 676.508 1526 Q682.295 1526 685.675 1529.17 Q689.054 1532.34 689.054 1537.76 Q689.054 1543.34 685.582 1546.44 Q682.11 1549.52 675.791 1549.52 Q673.615 1549.52 671.346 1549.15 Q669.101 1548.78 666.693 1548.04 L666.693 1543.34 Q668.777 1544.47 670.999 1545.03 Q673.221 1545.58 675.698 1545.58 Q679.703 1545.58 682.041 1543.48 Q684.379 1541.37 684.379 1537.76 Q684.379 1534.15 682.041 1532.04 Q679.703 1529.94 675.698 1529.94 Q673.823 1529.94 671.948 1530.35 Q670.096 1530.77 668.152 1531.65 L668.152 1514.29 Z\" fill=\"#000000\" fill-rule=\"evenodd\" fill-opacity=\"1\" /><path clip-path=\"url(#clip210)\" d=\"M1190.42 1544.91 L1198.06 1544.91 L1198.06 1518.55 L1189.75 1520.21 L1189.75 1515.95 L1198.01 1514.29 L1202.69 1514.29 L1202.69 1544.91 L1210.32 1544.91 L1210.32 1548.85 L1190.42 1548.85 L1190.42 1544.91 Z\" fill=\"#000000\" fill-rule=\"evenodd\" fill-opacity=\"1\" /><path clip-path=\"url(#clip210)\" d=\"M1229.77 1517.37 Q1226.16 1517.37 1224.33 1520.93 Q1222.52 1524.47 1222.52 1531.6 Q1222.52 1538.71 1224.33 1542.27 Q1226.16 1545.82 1229.77 1545.82 Q1233.4 1545.82 1235.21 1542.27 Q1237.04 1538.71 1237.04 1531.6 Q1237.04 1524.47 1235.21 1520.93 Q1233.4 1517.37 1229.77 1517.37 M1229.77 1513.66 Q1235.58 1513.66 1238.63 1518.27 Q1241.71 1522.85 1241.71 1531.6 Q1241.71 1540.33 1238.63 1544.94 Q1235.58 1549.52 1229.77 1549.52 Q1223.96 1549.52 1220.88 1544.94 Q1217.82 1540.33 1217.82 1531.6 Q1217.82 1522.85 1220.88 1518.27 Q1223.96 1513.66 1229.77 1513.66 Z\" fill=\"#000000\" fill-rule=\"evenodd\" fill-opacity=\"1\" /><path clip-path=\"url(#clip210)\" d=\"M1728.77 1544.91 L1736.41 1544.91 L1736.41 1518.55 L1728.1 1520.21 L1728.1 1515.95 L1736.36 1514.29 L1741.04 1514.29 L1741.04 1544.91 L1748.68 1544.91 L1748.68 1548.85 L1728.77 1548.85 L1728.77 1544.91 Z\" fill=\"#000000\" fill-rule=\"evenodd\" fill-opacity=\"1\" /><path clip-path=\"url(#clip210)\" d=\"M1758.17 1514.29 L1776.52 1514.29 L1776.52 1518.22 L1762.45 1518.22 L1762.45 1526.7 Q1763.47 1526.35 1764.49 1526.19 Q1765.51 1526 1766.52 1526 Q1772.31 1526 1775.69 1529.17 Q1779.07 1532.34 1779.07 1537.76 Q1779.07 1543.34 1775.6 1546.44 Q1772.13 1549.52 1765.81 1549.52 Q1763.63 1549.52 1761.36 1549.15 Q1759.12 1548.78 1756.71 1548.04 L1756.71 1543.34 Q1758.79 1544.47 1761.02 1545.03 Q1763.24 1545.58 1765.71 1545.58 Q1769.72 1545.58 1772.06 1543.48 Q1774.39 1541.37 1774.39 1537.76 Q1774.39 1534.15 1772.06 1532.04 Q1769.72 1529.94 1765.71 1529.94 Q1763.84 1529.94 1761.96 1530.35 Q1760.11 1530.77 1758.17 1531.65 L1758.17 1514.29 Z\" fill=\"#000000\" fill-rule=\"evenodd\" fill-opacity=\"1\" /><path clip-path=\"url(#clip210)\" d=\"M2270.21 1544.91 L2286.53 1544.91 L2286.53 1548.85 L2264.59 1548.85 L2264.59 1544.91 Q2267.25 1542.16 2271.83 1537.53 Q2276.44 1532.88 2277.62 1531.53 Q2279.87 1529.01 2280.75 1527.27 Q2281.65 1525.51 2281.65 1523.82 Q2281.65 1521.07 2279.7 1519.33 Q2277.78 1517.6 2274.68 1517.6 Q2272.48 1517.6 2270.03 1518.36 Q2267.6 1519.13 2264.82 1520.68 L2264.82 1515.95 Q2267.64 1514.82 2270.1 1514.24 Q2272.55 1513.66 2274.59 1513.66 Q2279.96 1513.66 2283.15 1516.35 Q2286.35 1519.03 2286.35 1523.52 Q2286.35 1525.65 2285.54 1527.57 Q2284.75 1529.47 2282.64 1532.07 Q2282.07 1532.74 2278.96 1535.95 Q2275.86 1539.15 2270.21 1544.91 Z\" fill=\"#000000\" fill-rule=\"evenodd\" fill-opacity=\"1\" /><path clip-path=\"url(#clip210)\" d=\"M2306.35 1517.37 Q2302.74 1517.37 2300.91 1520.93 Q2299.1 1524.47 2299.1 1531.6 Q2299.1 1538.71 2300.91 1542.27 Q2302.74 1545.82 2306.35 1545.82 Q2309.98 1545.82 2311.79 1542.27 Q2313.62 1538.71 2313.62 1531.6 Q2313.62 1524.47 2311.79 1520.93 Q2309.98 1517.37 2306.35 1517.37 M2306.35 1513.66 Q2312.16 1513.66 2315.21 1518.27 Q2318.29 1522.85 2318.29 1531.6 Q2318.29 1540.33 2315.21 1544.94 Q2312.16 1549.52 2306.35 1549.52 Q2300.54 1549.52 2297.46 1544.94 Q2294.4 1540.33 2294.4 1531.6 Q2294.4 1522.85 2297.46 1518.27 Q2300.54 1513.66 2306.35 1513.66 Z\" fill=\"#000000\" fill-rule=\"evenodd\" fill-opacity=\"1\" /><polyline clip-path=\"url(#clip212)\" style=\"stroke:#000000; stroke-linecap:butt; stroke-linejoin:round; stroke-width:2; stroke-opacity:0.1; fill:none\" points=\"\n",
       "  186.274,1445.72 2352.76,1445.72 \n",
       "  \"/>\n",
       "<polyline clip-path=\"url(#clip212)\" style=\"stroke:#000000; stroke-linecap:butt; stroke-linejoin:round; stroke-width:2; stroke-opacity:0.1; fill:none\" points=\"\n",
       "  186.274,1106.11 2352.76,1106.11 \n",
       "  \"/>\n",
       "<polyline clip-path=\"url(#clip212)\" style=\"stroke:#000000; stroke-linecap:butt; stroke-linejoin:round; stroke-width:2; stroke-opacity:0.1; fill:none\" points=\"\n",
       "  186.274,766.506 2352.76,766.506 \n",
       "  \"/>\n",
       "<polyline clip-path=\"url(#clip212)\" style=\"stroke:#000000; stroke-linecap:butt; stroke-linejoin:round; stroke-width:2; stroke-opacity:0.1; fill:none\" points=\"\n",
       "  186.274,426.902 2352.76,426.902 \n",
       "  \"/>\n",
       "<polyline clip-path=\"url(#clip212)\" style=\"stroke:#000000; stroke-linecap:butt; stroke-linejoin:round; stroke-width:2; stroke-opacity:0.1; fill:none\" points=\"\n",
       "  186.274,87.2973 2352.76,87.2973 \n",
       "  \"/>\n",
       "<polyline clip-path=\"url(#clip210)\" style=\"stroke:#000000; stroke-linecap:butt; stroke-linejoin:round; stroke-width:4; stroke-opacity:1; fill:none\" points=\"\n",
       "  186.274,1486.45 186.274,47.2441 \n",
       "  \"/>\n",
       "<polyline clip-path=\"url(#clip210)\" style=\"stroke:#000000; stroke-linecap:butt; stroke-linejoin:round; stroke-width:4; stroke-opacity:1; fill:none\" points=\"\n",
       "  186.274,1445.72 205.172,1445.72 \n",
       "  \"/>\n",
       "<polyline clip-path=\"url(#clip210)\" style=\"stroke:#000000; stroke-linecap:butt; stroke-linejoin:round; stroke-width:4; stroke-opacity:1; fill:none\" points=\"\n",
       "  186.274,1106.11 205.172,1106.11 \n",
       "  \"/>\n",
       "<polyline clip-path=\"url(#clip210)\" style=\"stroke:#000000; stroke-linecap:butt; stroke-linejoin:round; stroke-width:4; stroke-opacity:1; fill:none\" points=\"\n",
       "  186.274,766.506 205.172,766.506 \n",
       "  \"/>\n",
       "<polyline clip-path=\"url(#clip210)\" style=\"stroke:#000000; stroke-linecap:butt; stroke-linejoin:round; stroke-width:4; stroke-opacity:1; fill:none\" points=\"\n",
       "  186.274,426.902 205.172,426.902 \n",
       "  \"/>\n",
       "<polyline clip-path=\"url(#clip210)\" style=\"stroke:#000000; stroke-linecap:butt; stroke-linejoin:round; stroke-width:4; stroke-opacity:1; fill:none\" points=\"\n",
       "  186.274,87.2973 205.172,87.2973 \n",
       "  \"/>\n",
       "<path clip-path=\"url(#clip210)\" d=\"M62.9365 1431.51 Q59.3254 1431.51 57.4967 1435.08 Q55.6912 1438.62 55.6912 1445.75 Q55.6912 1452.86 57.4967 1456.42 Q59.3254 1459.96 62.9365 1459.96 Q66.5707 1459.96 68.3763 1456.42 Q70.205 1452.86 70.205 1445.75 Q70.205 1438.62 68.3763 1435.08 Q66.5707 1431.51 62.9365 1431.51 M62.9365 1427.81 Q68.7467 1427.81 71.8022 1432.42 Q74.8809 1437 74.8809 1445.75 Q74.8809 1454.48 71.8022 1459.08 Q68.7467 1463.67 62.9365 1463.67 Q57.1264 1463.67 54.0477 1459.08 Q50.9921 1454.48 50.9921 1445.75 Q50.9921 1437 54.0477 1432.42 Q57.1264 1427.81 62.9365 1427.81 Z\" fill=\"#000000\" fill-rule=\"evenodd\" fill-opacity=\"1\" /><path clip-path=\"url(#clip210)\" d=\"M83.0984 1457.12 L87.9827 1457.12 L87.9827 1463 L83.0984 1463 L83.0984 1457.12 Z\" fill=\"#000000\" fill-rule=\"evenodd\" fill-opacity=\"1\" /><path clip-path=\"url(#clip210)\" d=\"M108.168 1431.51 Q104.557 1431.51 102.728 1435.08 Q100.922 1438.62 100.922 1445.75 Q100.922 1452.86 102.728 1456.42 Q104.557 1459.96 108.168 1459.96 Q111.802 1459.96 113.608 1456.42 Q115.436 1452.86 115.436 1445.75 Q115.436 1438.62 113.608 1435.08 Q111.802 1431.51 108.168 1431.51 M108.168 1427.81 Q113.978 1427.81 117.033 1432.42 Q120.112 1437 120.112 1445.75 Q120.112 1454.48 117.033 1459.08 Q113.978 1463.67 108.168 1463.67 Q102.358 1463.67 99.2789 1459.08 Q96.2234 1454.48 96.2234 1445.75 Q96.2234 1437 99.2789 1432.42 Q102.358 1427.81 108.168 1427.81 Z\" fill=\"#000000\" fill-rule=\"evenodd\" fill-opacity=\"1\" /><path clip-path=\"url(#clip210)\" d=\"M138.33 1431.51 Q134.719 1431.51 132.89 1435.08 Q131.084 1438.62 131.084 1445.75 Q131.084 1452.86 132.89 1456.42 Q134.719 1459.96 138.33 1459.96 Q141.964 1459.96 143.769 1456.42 Q145.598 1452.86 145.598 1445.75 Q145.598 1438.62 143.769 1435.08 Q141.964 1431.51 138.33 1431.51 M138.33 1427.81 Q144.14 1427.81 147.195 1432.42 Q150.274 1437 150.274 1445.75 Q150.274 1454.48 147.195 1459.08 Q144.14 1463.67 138.33 1463.67 Q132.519 1463.67 129.441 1459.08 Q126.385 1454.48 126.385 1445.75 Q126.385 1437 129.441 1432.42 Q132.519 1427.81 138.33 1427.81 Z\" fill=\"#000000\" fill-rule=\"evenodd\" fill-opacity=\"1\" /><path clip-path=\"url(#clip210)\" d=\"M63.9319 1091.91 Q60.3208 1091.91 58.4921 1095.47 Q56.6865 1099.02 56.6865 1106.15 Q56.6865 1113.25 58.4921 1116.82 Q60.3208 1120.36 63.9319 1120.36 Q67.5661 1120.36 69.3717 1116.82 Q71.2004 1113.25 71.2004 1106.15 Q71.2004 1099.02 69.3717 1095.47 Q67.5661 1091.91 63.9319 1091.91 M63.9319 1088.21 Q69.742 1088.21 72.7976 1092.81 Q75.8763 1097.4 75.8763 1106.15 Q75.8763 1114.87 72.7976 1119.48 Q69.742 1124.06 63.9319 1124.06 Q58.1217 1124.06 55.043 1119.48 Q51.9875 1114.87 51.9875 1106.15 Q51.9875 1097.4 55.043 1092.81 Q58.1217 1088.21 63.9319 1088.21 Z\" fill=\"#000000\" fill-rule=\"evenodd\" fill-opacity=\"1\" /><path clip-path=\"url(#clip210)\" d=\"M84.0938 1117.51 L88.978 1117.51 L88.978 1123.39 L84.0938 1123.39 L84.0938 1117.51 Z\" fill=\"#000000\" fill-rule=\"evenodd\" fill-opacity=\"1\" /><path clip-path=\"url(#clip210)\" d=\"M103.191 1119.46 L119.51 1119.46 L119.51 1123.39 L97.566 1123.39 L97.566 1119.46 Q100.228 1116.7 104.811 1112.07 Q109.418 1107.42 110.598 1106.08 Q112.844 1103.55 113.723 1101.82 Q114.626 1100.06 114.626 1098.37 Q114.626 1095.61 112.682 1093.88 Q110.76 1092.14 107.658 1092.14 Q105.459 1092.14 103.006 1092.91 Q100.575 1093.67 97.7974 1095.22 L97.7974 1090.5 Q100.621 1089.36 103.075 1088.78 Q105.529 1088.21 107.566 1088.21 Q112.936 1088.21 116.131 1090.89 Q119.325 1093.58 119.325 1098.07 Q119.325 1100.2 118.515 1102.12 Q117.728 1104.02 115.621 1106.61 Q115.043 1107.28 111.941 1110.5 Q108.839 1113.69 103.191 1119.46 Z\" fill=\"#000000\" fill-rule=\"evenodd\" fill-opacity=\"1\" /><path clip-path=\"url(#clip210)\" d=\"M129.371 1088.83 L147.728 1088.83 L147.728 1092.77 L133.654 1092.77 L133.654 1101.24 Q134.672 1100.89 135.691 1100.73 Q136.709 1100.54 137.728 1100.54 Q143.515 1100.54 146.894 1103.72 Q150.274 1106.89 150.274 1112.3 Q150.274 1117.88 146.802 1120.98 Q143.33 1124.06 137.01 1124.06 Q134.834 1124.06 132.566 1123.69 Q130.32 1123.32 127.913 1122.58 L127.913 1117.88 Q129.996 1119.02 132.219 1119.57 Q134.441 1120.13 136.918 1120.13 Q140.922 1120.13 143.26 1118.02 Q145.598 1115.91 145.598 1112.3 Q145.598 1108.69 143.26 1106.59 Q140.922 1104.48 136.918 1104.48 Q135.043 1104.48 133.168 1104.9 Q131.316 1105.31 129.371 1106.19 L129.371 1088.83 Z\" fill=\"#000000\" fill-rule=\"evenodd\" fill-opacity=\"1\" /><path clip-path=\"url(#clip210)\" d=\"M62.9365 752.305 Q59.3254 752.305 57.4967 755.87 Q55.6912 759.412 55.6912 766.541 Q55.6912 773.648 57.4967 777.212 Q59.3254 780.754 62.9365 780.754 Q66.5707 780.754 68.3763 777.212 Q70.205 773.648 70.205 766.541 Q70.205 759.412 68.3763 755.87 Q66.5707 752.305 62.9365 752.305 M62.9365 748.602 Q68.7467 748.602 71.8022 753.208 Q74.8809 757.791 74.8809 766.541 Q74.8809 775.268 71.8022 779.874 Q68.7467 784.458 62.9365 784.458 Q57.1264 784.458 54.0477 779.874 Q50.9921 775.268 50.9921 766.541 Q50.9921 757.791 54.0477 753.208 Q57.1264 748.602 62.9365 748.602 Z\" fill=\"#000000\" fill-rule=\"evenodd\" fill-opacity=\"1\" /><path clip-path=\"url(#clip210)\" d=\"M83.0984 777.907 L87.9827 777.907 L87.9827 783.786 L83.0984 783.786 L83.0984 777.907 Z\" fill=\"#000000\" fill-rule=\"evenodd\" fill-opacity=\"1\" /><path clip-path=\"url(#clip210)\" d=\"M98.2141 749.226 L116.57 749.226 L116.57 753.162 L102.496 753.162 L102.496 761.634 Q103.515 761.287 104.534 761.125 Q105.552 760.939 106.571 760.939 Q112.358 760.939 115.737 764.111 Q119.117 767.282 119.117 772.699 Q119.117 778.277 115.645 781.379 Q112.172 784.458 105.853 784.458 Q103.677 784.458 101.409 784.087 Q99.1632 783.717 96.7558 782.976 L96.7558 778.277 Q98.8391 779.412 101.061 779.967 Q103.284 780.523 105.76 780.523 Q109.765 780.523 112.103 778.416 Q114.441 776.31 114.441 772.699 Q114.441 769.088 112.103 766.981 Q109.765 764.875 105.76 764.875 Q103.885 764.875 102.01 765.291 Q100.159 765.708 98.2141 766.588 L98.2141 749.226 Z\" fill=\"#000000\" fill-rule=\"evenodd\" fill-opacity=\"1\" /><path clip-path=\"url(#clip210)\" d=\"M138.33 752.305 Q134.719 752.305 132.89 755.87 Q131.084 759.412 131.084 766.541 Q131.084 773.648 132.89 777.212 Q134.719 780.754 138.33 780.754 Q141.964 780.754 143.769 777.212 Q145.598 773.648 145.598 766.541 Q145.598 759.412 143.769 755.87 Q141.964 752.305 138.33 752.305 M138.33 748.602 Q144.14 748.602 147.195 753.208 Q150.274 757.791 150.274 766.541 Q150.274 775.268 147.195 779.874 Q144.14 784.458 138.33 784.458 Q132.519 784.458 129.441 779.874 Q126.385 775.268 126.385 766.541 Q126.385 757.791 129.441 753.208 Q132.519 748.602 138.33 748.602 Z\" fill=\"#000000\" fill-rule=\"evenodd\" fill-opacity=\"1\" /><path clip-path=\"url(#clip210)\" d=\"M63.9319 412.701 Q60.3208 412.701 58.4921 416.265 Q56.6865 419.807 56.6865 426.937 Q56.6865 434.043 58.4921 437.608 Q60.3208 441.15 63.9319 441.15 Q67.5661 441.15 69.3717 437.608 Q71.2004 434.043 71.2004 426.937 Q71.2004 419.807 69.3717 416.265 Q67.5661 412.701 63.9319 412.701 M63.9319 408.997 Q69.742 408.997 72.7976 413.603 Q75.8763 418.187 75.8763 426.937 Q75.8763 435.663 72.7976 440.27 Q69.742 444.853 63.9319 444.853 Q58.1217 444.853 55.043 440.27 Q51.9875 435.663 51.9875 426.937 Q51.9875 418.187 55.043 413.603 Q58.1217 408.997 63.9319 408.997 Z\" fill=\"#000000\" fill-rule=\"evenodd\" fill-opacity=\"1\" /><path clip-path=\"url(#clip210)\" d=\"M84.0938 438.302 L88.978 438.302 L88.978 444.182 L84.0938 444.182 L84.0938 438.302 Z\" fill=\"#000000\" fill-rule=\"evenodd\" fill-opacity=\"1\" /><path clip-path=\"url(#clip210)\" d=\"M97.9826 409.622 L120.205 409.622 L120.205 411.613 L107.658 444.182 L102.774 444.182 L114.58 413.557 L97.9826 413.557 L97.9826 409.622 Z\" fill=\"#000000\" fill-rule=\"evenodd\" fill-opacity=\"1\" /><path clip-path=\"url(#clip210)\" d=\"M129.371 409.622 L147.728 409.622 L147.728 413.557 L133.654 413.557 L133.654 422.029 Q134.672 421.682 135.691 421.52 Q136.709 421.335 137.728 421.335 Q143.515 421.335 146.894 424.506 Q150.274 427.677 150.274 433.094 Q150.274 438.673 146.802 441.775 Q143.33 444.853 137.01 444.853 Q134.834 444.853 132.566 444.483 Q130.32 444.112 127.913 443.372 L127.913 438.673 Q129.996 439.807 132.219 440.362 Q134.441 440.918 136.918 440.918 Q140.922 440.918 143.26 438.812 Q145.598 436.705 145.598 433.094 Q145.598 429.483 143.26 427.376 Q140.922 425.27 136.918 425.27 Q135.043 425.27 133.168 425.687 Q131.316 426.103 129.371 426.983 L129.371 409.622 Z\" fill=\"#000000\" fill-rule=\"evenodd\" fill-opacity=\"1\" /><path clip-path=\"url(#clip210)\" d=\"M53.7467 100.642 L61.3856 100.642 L61.3856 74.2765 L53.0754 75.9432 L53.0754 71.684 L61.3393 70.0173 L66.0152 70.0173 L66.0152 100.642 L73.654 100.642 L73.654 104.577 L53.7467 104.577 L53.7467 100.642 Z\" fill=\"#000000\" fill-rule=\"evenodd\" fill-opacity=\"1\" /><path clip-path=\"url(#clip210)\" d=\"M83.0984 98.6977 L87.9827 98.6977 L87.9827 104.577 L83.0984 104.577 L83.0984 98.6977 Z\" fill=\"#000000\" fill-rule=\"evenodd\" fill-opacity=\"1\" /><path clip-path=\"url(#clip210)\" d=\"M108.168 73.096 Q104.557 73.096 102.728 76.6608 Q100.922 80.2024 100.922 87.332 Q100.922 94.4385 102.728 98.0033 Q104.557 101.545 108.168 101.545 Q111.802 101.545 113.608 98.0033 Q115.436 94.4385 115.436 87.332 Q115.436 80.2024 113.608 76.6608 Q111.802 73.096 108.168 73.096 M108.168 69.3923 Q113.978 69.3923 117.033 73.9988 Q120.112 78.5821 120.112 87.332 Q120.112 96.0588 117.033 100.665 Q113.978 105.249 108.168 105.249 Q102.358 105.249 99.2789 100.665 Q96.2234 96.0588 96.2234 87.332 Q96.2234 78.5821 99.2789 73.9988 Q102.358 69.3923 108.168 69.3923 Z\" fill=\"#000000\" fill-rule=\"evenodd\" fill-opacity=\"1\" /><path clip-path=\"url(#clip210)\" d=\"M138.33 73.096 Q134.719 73.096 132.89 76.6608 Q131.084 80.2024 131.084 87.332 Q131.084 94.4385 132.89 98.0033 Q134.719 101.545 138.33 101.545 Q141.964 101.545 143.769 98.0033 Q145.598 94.4385 145.598 87.332 Q145.598 80.2024 143.769 76.6608 Q141.964 73.096 138.33 73.096 M138.33 69.3923 Q144.14 69.3923 147.195 73.9988 Q150.274 78.5821 150.274 87.332 Q150.274 96.0588 147.195 100.665 Q144.14 105.249 138.33 105.249 Q132.519 105.249 129.441 100.665 Q126.385 96.0588 126.385 87.332 Q126.385 78.5821 129.441 73.9988 Q132.519 69.3923 138.33 69.3923 Z\" fill=\"#000000\" fill-rule=\"evenodd\" fill-opacity=\"1\" /><polyline clip-path=\"url(#clip212)\" style=\"stroke:#009af9; stroke-linecap:butt; stroke-linejoin:round; stroke-width:4; stroke-opacity:1; fill:none\" points=\"\n",
       "  247.59,1444.63 257.86,1444.63 268.131,1444.63 278.401,1444.63 288.672,1444.63 298.943,1444.63 309.213,1444.63 319.484,1444.63 329.754,1444.63 340.025,1444.63 \n",
       "  350.296,1444.63 360.566,1444.63 370.837,1444.63 381.107,1444.63 391.378,1444.63 401.649,1444.63 411.919,1444.63 422.19,1444.63 432.46,1444.63 442.731,1444.63 \n",
       "  453.002,1444.63 463.272,1444.63 473.543,1444.63 483.813,1444.63 494.084,1444.63 504.355,1444.63 514.625,1444.63 524.896,1444.63 535.167,1444.63 545.437,1444.63 \n",
       "  555.708,1444.63 565.978,1444.63 576.249,1444.63 586.52,1444.63 596.79,1444.63 607.061,1444.63 617.331,1444.63 627.602,1444.63 637.873,1444.63 648.143,1444.63 \n",
       "  658.414,1444.63 668.684,1444.63 678.955,1444.63 689.226,1444.63 699.496,1444.63 709.767,1444.63 720.037,1444.63 730.308,1444.63 740.579,1444.63 750.849,1444.63 \n",
       "  761.12,1444.63 771.39,1444.63 781.661,1444.63 791.932,1444.63 802.202,1444.63 812.473,1444.63 822.744,1444.63 833.014,1444.63 843.285,1444.63 853.555,1444.63 \n",
       "  863.826,1444.63 874.097,1444.63 884.367,1444.63 894.638,1444.63 904.908,1444.63 915.179,1444.63 925.45,1444.63 935.72,1444.63 945.991,1444.63 956.261,1444.63 \n",
       "  966.532,1444.63 976.803,1444.63 987.073,1444.63 997.344,1444.63 1007.61,1444.63 1017.89,1444.63 1028.16,1444.63 1038.43,1444.63 1048.7,1444.63 1058.97,1444.63 \n",
       "  1069.24,1444.63 1079.51,1444.63 1089.78,1444.63 1100.05,1444.63 1110.32,1444.49 1120.59,1444.49 1130.86,1444.49 1141.13,1444.49 1151.4,1444.22 1161.67,1444.22 \n",
       "  1171.94,1444.22 1182.21,1444.09 1192.49,1444.09 1202.76,1444.09 1213.03,1444.09 1223.3,1444.09 1233.57,1444.09 1243.84,1444.09 1254.11,1444.09 1264.38,1444.09 \n",
       "  1274.65,1444.09 1284.92,1444.09 1295.19,1443.95 1305.46,1443.81 1315.73,1443.81 1326,1443.81 1336.27,1443.81 1346.54,1443.81 1356.82,1443.81 1367.09,1443.81 \n",
       "  1377.36,1443.81 1387.63,1443.81 1397.9,1443.81 1408.17,1443.68 1418.44,1443.68 1428.71,1443.54 1438.98,1443.54 1449.25,1443.54 1459.52,1443.13 1469.79,1443.13 \n",
       "  1480.06,1443.13 1490.33,1442.86 1500.6,1442.73 1510.87,1442.73 1521.14,1442.59 1531.42,1442.32 1541.69,1442.32 1551.96,1442.18 1562.23,1442.18 1572.5,1442.18 \n",
       "  1582.77,1442.05 1593.04,1441.91 1603.31,1441.91 1613.58,1441.5 1623.85,1441.37 1634.12,1441.37 1644.39,1441.23 1654.66,1440.83 1664.93,1440.83 1675.2,1440.15 \n",
       "  1685.47,1440.01 1695.75,1439.74 1706.02,1439.33 1716.29,1439.06 1726.56,1438.65 1736.83,1438.38 1747.1,1438.38 1757.37,1437.97 1767.64,1437.97 1777.91,1437.29 \n",
       "  1788.18,1437.02 1798.45,1436.34 1808.72,1435.53 1818.99,1434.98 1829.26,1434.3 1839.53,1434.17 1849.8,1433.76 1860.07,1433.22 1870.35,1432.27 1880.62,1430.91 \n",
       "  1890.89,1430.23 1901.16,1429.14 1911.43,1428.74 1921.7,1428.19 1931.97,1427.11 1942.24,1426.15 1952.51,1425.88 1962.78,1425.2 1973.05,1424.52 1983.32,1424.25 \n",
       "  1993.59,1423.3 2003.86,1422.22 2014.13,1421.54 2024.4,1420.86 2034.68,1419.77 2044.95,1419.09 2055.22,1418.55 2065.49,1418 2075.76,1417.19 2086.03,1416.1 \n",
       "  2096.3,1415.29 2106.57,1414.47 2116.84,1413.66 2127.11,1412.57 2137.38,1411.35 2147.65,1410.67 2157.92,1410.13 2168.19,1408.5 2178.46,1407.68 2188.73,1406.73 \n",
       "  2199,1405.37 2209.28,1403.06 2219.55,1401.97 2229.82,1400.21 2240.09,1398.58 2250.36,1397.08 2260.63,1396 2270.9,1395.18 2281.17,1394.37 2291.44,1393.01 \n",
       "  \n",
       "  \"/>\n",
       "<polyline clip-path=\"url(#clip212)\" style=\"stroke:#e26f46; stroke-linecap:butt; stroke-linejoin:round; stroke-width:4; stroke-opacity:1; fill:none\" points=\"\n",
       "  247.59,1445.72 257.86,1445.72 268.131,1445.72 278.401,1445.72 288.672,1445.72 298.943,1445.72 309.213,1445.72 319.484,1445.72 329.754,1445.72 340.025,1445.72 \n",
       "  350.296,1445.72 360.566,1445.72 370.837,1445.72 381.107,1445.72 391.378,1445.72 401.649,1445.72 411.919,1445.72 422.19,1445.72 432.46,1445.72 442.731,1445.72 \n",
       "  453.002,1445.72 463.272,1445.72 473.543,1445.72 483.813,1445.72 494.084,1445.72 504.355,1445.72 514.625,1445.72 524.896,1445.72 535.167,1445.72 545.437,1445.72 \n",
       "  555.708,1445.72 565.978,1445.72 576.249,1445.72 586.52,1445.72 596.79,1445.72 607.061,1445.72 617.331,1445.72 627.602,1445.72 637.873,1445.72 648.143,1445.72 \n",
       "  658.414,1445.72 668.684,1445.72 678.955,1445.72 689.226,1445.72 699.496,1445.72 709.767,1445.72 720.037,1445.72 730.308,1445.72 740.579,1445.72 750.849,1445.72 \n",
       "  761.12,1445.72 771.39,1445.72 781.661,1445.72 791.932,1445.72 802.202,1445.72 812.473,1445.72 822.744,1445.72 833.014,1445.72 843.285,1445.72 853.555,1445.72 \n",
       "  863.826,1445.72 874.097,1445.72 884.367,1445.72 894.638,1445.72 904.908,1445.72 915.179,1445.72 925.45,1445.72 935.72,1445.72 945.991,1445.72 956.261,1445.72 \n",
       "  966.532,1445.72 976.803,1445.72 987.073,1445.72 997.344,1445.72 1007.61,1445.72 1017.89,1445.72 1028.16,1445.72 1038.43,1445.72 1048.7,1445.72 1058.97,1445.72 \n",
       "  1069.24,1445.72 1079.51,1445.72 1089.78,1445.72 1100.05,1445.72 1110.32,1445.72 1120.59,1445.72 1130.86,1445.72 1141.13,1445.72 1151.4,1445.72 1161.67,1445.72 \n",
       "  1171.94,1445.72 1182.21,1445.72 1192.49,1445.72 1202.76,1445.72 1213.03,1445.72 1223.3,1445.72 1233.57,1445.72 1243.84,1445.72 1254.11,1445.72 1264.38,1445.72 \n",
       "  1274.65,1445.72 1284.92,1445.72 1295.19,1445.72 1305.46,1445.72 1315.73,1445.72 1326,1445.72 1336.27,1445.72 1346.54,1445.72 1356.82,1445.72 1367.09,1445.72 \n",
       "  1377.36,1445.72 1387.63,1445.72 1397.9,1445.72 1408.17,1445.72 1418.44,1445.72 1428.71,1445.72 1438.98,1445.72 1449.25,1445.72 1459.52,1445.72 1469.79,1445.72 \n",
       "  1480.06,1445.72 1490.33,1445.72 1500.6,1445.72 1510.87,1445.72 1521.14,1445.72 1531.42,1445.72 1541.69,1423.98 1551.96,1346.55 1562.23,1292.35 1572.5,1244.53 \n",
       "  1582.77,1206.36 1593.04,1177.16 1603.31,1153.79 1613.58,1136 1623.85,1121.19 1634.12,1108.96 1644.39,1100.27 1654.66,1092.8 1664.93,1086.28 1675.2,1081.52 \n",
       "  1685.47,1075.68 1695.75,1071.34 1706.02,1066.04 1716.29,1062.23 1726.56,1058.02 1736.83,1054.9 1747.1,1052.32 1757.37,1049.06 1767.64,1045.93 1777.91,1043.76 \n",
       "  1788.18,1040.09 1798.45,1037.24 1808.72,1033.98 1818.99,1031.53 1829.26,1029.22 1839.53,1026.64 1849.8,1024.06 1860.07,1020.53 1870.35,1017.54 1880.62,1015.5 \n",
       "  1890.89,1012.92 1901.16,1009.66 1911.43,1006.4 1921.7,1002.46 1931.97,998.796 1942.24,994.721 1952.51,991.325 1962.78,988.472 1973.05,984.397 1983.32,980.729 \n",
       "  1993.59,977.469 2003.86,973.122 2014.13,969.59 2024.4,966.058 2034.68,962.119 2044.95,957.5 2055.22,953.289 2065.49,946.633 2075.76,940.52 2086.03,931.962 \n",
       "  2096.3,926.257 2106.57,919.329 2116.84,913.623 2127.11,905.473 2137.38,898.952 2147.65,890.938 2157.92,882.515 2168.19,874.229 2178.46,864.856 2188.73,856.026 \n",
       "  2199,846.653 2209.28,839.318 2219.55,830.76 2229.82,820.979 2240.09,812.557 2250.36,803.455 2260.63,794.082 2270.9,784.438 2281.17,776.559 2291.44,766.371 \n",
       "  \n",
       "  \"/>\n",
       "<polyline clip-path=\"url(#clip212)\" style=\"stroke:#3da44d; stroke-linecap:butt; stroke-linejoin:round; stroke-width:4; stroke-opacity:1; fill:none\" points=\"\n",
       "  247.59,1445.72 257.86,1445.72 268.131,1445.72 278.401,1445.72 288.672,1445.72 298.943,1445.72 309.213,1445.72 319.484,1445.72 329.754,1445.72 340.025,1445.72 \n",
       "  350.296,1445.72 360.566,1445.72 370.837,1445.72 381.107,1445.72 391.378,1445.72 401.649,1445.72 411.919,1445.72 422.19,1445.72 432.46,1445.72 442.731,1445.72 \n",
       "  453.002,1445.72 463.272,1445.72 473.543,1445.72 483.813,1445.72 494.084,1445.72 504.355,1445.72 514.625,1445.72 524.896,1445.72 535.167,1445.72 545.437,1445.72 \n",
       "  555.708,1445.72 565.978,1445.72 576.249,1445.72 586.52,1445.72 596.79,1445.72 607.061,1445.72 617.331,1445.72 627.602,1445.72 637.873,1445.72 648.143,1445.72 \n",
       "  658.414,1445.72 668.684,1445.72 678.955,1445.72 689.226,1445.72 699.496,1445.72 709.767,1445.72 720.037,1445.72 730.308,1445.72 740.579,1445.72 750.849,1445.72 \n",
       "  761.12,1445.72 771.39,1445.72 781.661,1445.72 791.932,1445.72 802.202,1445.72 812.473,1445.72 822.744,1445.72 833.014,1445.72 843.285,1445.72 853.555,1445.72 \n",
       "  863.826,1445.72 874.097,1445.72 884.367,1445.72 894.638,1445.72 904.908,1445.72 915.179,1445.72 925.45,1445.72 935.72,1445.72 945.991,1445.72 956.261,1445.72 \n",
       "  966.532,1445.72 976.803,1445.72 987.073,1445.72 997.344,1445.72 1007.61,1445.72 1017.89,1445.72 1028.16,1445.72 1038.43,1445.72 1048.7,1445.72 1058.97,1445.72 \n",
       "  1069.24,1445.72 1079.51,1445.72 1089.78,1445.72 1100.05,1445.72 1110.32,1445.72 1120.59,1445.72 1130.86,1445.72 1141.13,1445.72 1151.4,1445.72 1161.67,1445.72 \n",
       "  1171.94,1445.72 1182.21,1445.72 1192.49,1445.72 1202.76,1445.72 1213.03,1445.72 1223.3,1445.72 1233.57,1445.72 1243.84,1445.72 1254.11,1445.72 1264.38,1445.72 \n",
       "  1274.65,1445.72 1284.92,1445.72 1295.19,1445.72 1305.46,1445.72 1315.73,1445.72 1326,1445.72 1336.27,1445.72 1346.54,1445.72 1356.82,1445.72 1367.09,1445.72 \n",
       "  1377.36,1445.72 1387.63,1445.72 1397.9,1445.72 1408.17,1445.72 1418.44,1445.72 1428.71,1445.72 1438.98,1445.72 1449.25,1445.72 1459.52,1445.72 1469.79,1445.72 \n",
       "  1480.06,1445.72 1490.33,1445.72 1500.6,1445.72 1510.87,1445.72 1521.14,1445.72 1531.42,1445.72 1541.69,1445.72 1551.96,1445.72 1562.23,1445.72 1572.5,1445.72 \n",
       "  1582.77,1445.72 1593.04,1445.72 1603.31,1445.72 1613.58,1445.72 1623.85,1445.72 1634.12,1445.72 1644.39,1445.72 1654.66,1445.72 1664.93,1445.72 1675.2,1445.72 \n",
       "  1685.47,1445.72 1695.75,1445.72 1706.02,1445.72 1716.29,1445.72 1726.56,1445.72 1736.83,1445.72 1747.1,1445.72 1757.37,1445.72 1767.64,1445.72 1777.91,1445.72 \n",
       "  1788.18,1445.72 1798.45,1444.63 1808.72,1443.54 1818.99,1443.54 1829.26,1442.45 1839.53,1442.45 1849.8,1441.36 1860.07,1441.36 1870.35,1440.27 1880.62,1438.09 \n",
       "  1890.89,1438.09 1901.16,1435.91 1911.43,1431.55 1921.7,1429.38 1931.97,1421.75 1942.24,1411.95 1952.51,1403.23 1962.78,1394.52 1973.05,1389.07 1983.32,1380.35 \n",
       "  1993.59,1369.46 2003.86,1356.39 2014.13,1344.41 2024.4,1321.53 2034.68,1301.92 2044.95,1285.58 2055.22,1263.79 2065.49,1238.74 2075.76,1222.4 2086.03,1189.72 \n",
       "  2096.3,1164.66 2106.57,1135.25 2116.84,1102.57 2127.11,1076.43 2137.38,1055.73 2147.65,1031.76 2157.92,1005.62 2168.19,967.491 2178.46,931.543 2188.73,909.756 \n",
       "  2199,882.522 2209.28,858.557 2219.55,837.859 2229.82,806.268 2240.09,783.391 2250.36,758.336 2260.63,737.639 2270.9,704.958 2281.17,687.529 2291.44,663.563 \n",
       "  \n",
       "  \"/>\n",
       "<polyline clip-path=\"url(#clip212)\" style=\"stroke:#c271d2; stroke-linecap:butt; stroke-linejoin:round; stroke-width:4; stroke-opacity:1; fill:none\" points=\"\n",
       "  247.59,1445.72 257.86,1445.72 268.131,1445.72 278.401,1445.72 288.672,1445.72 298.943,1445.72 309.213,1445.72 319.484,1445.72 329.754,1445.72 340.025,1445.72 \n",
       "  350.296,1445.72 360.566,1445.72 370.837,1445.72 381.107,1445.72 391.378,1445.72 401.649,1445.72 411.919,1445.72 422.19,1445.72 432.46,1445.72 442.731,1445.72 \n",
       "  453.002,1445.72 463.272,1445.72 473.543,1445.72 483.813,1445.72 494.084,1445.72 504.355,1445.72 514.625,1445.72 524.896,1445.72 535.167,1445.72 545.437,1445.72 \n",
       "  555.708,1445.72 565.978,1445.72 576.249,1445.72 586.52,1445.72 596.79,1445.72 607.061,1445.72 617.331,1445.72 627.602,1445.72 637.873,1445.72 648.143,1445.72 \n",
       "  658.414,1445.72 668.684,1445.72 678.955,1445.72 689.226,1445.72 699.496,1445.72 709.767,1445.72 720.037,1445.72 730.308,1445.72 740.579,1445.72 750.849,1445.72 \n",
       "  761.12,1445.72 771.39,1445.72 781.661,1445.72 791.932,1445.72 802.202,1445.72 812.473,1445.72 822.744,1445.72 833.014,1445.72 843.285,1445.72 853.555,1445.72 \n",
       "  863.826,1445.72 874.097,1445.72 884.367,1445.72 894.638,1445.72 904.908,1445.72 915.179,1445.72 925.45,1445.72 935.72,1445.72 945.991,1445.72 956.261,1445.72 \n",
       "  966.532,1445.72 976.803,1445.72 987.073,1445.72 997.344,1445.72 1007.61,1445.72 1017.89,1445.72 1028.16,1445.72 1038.43,1445.72 1048.7,1445.72 1058.97,1445.72 \n",
       "  1069.24,1445.72 1079.51,1445.72 1089.78,1445.72 1100.05,1445.72 1110.32,1445.72 1120.59,1445.72 1130.86,1445.72 1141.13,1445.72 1151.4,1445.72 1161.67,1445.72 \n",
       "  1171.94,1445.72 1182.21,1445.72 1192.49,1445.72 1202.76,1445.72 1213.03,1445.72 1223.3,1445.72 1233.57,1445.72 1243.84,1445.72 1254.11,1445.72 1264.38,1445.72 \n",
       "  1274.65,1445.72 1284.92,1445.72 1295.19,1445.72 1305.46,1445.72 1315.73,1445.72 1326,1445.72 1336.27,1445.72 1346.54,1445.72 1356.82,1445.72 1367.09,1445.72 \n",
       "  1377.36,1445.72 1387.63,1445.72 1397.9,1445.72 1408.17,1445.72 1418.44,1445.72 1428.71,1445.72 1438.98,1445.72 1449.25,1445.72 1459.52,1445.72 1469.79,1445.72 \n",
       "  1480.06,1445.72 1490.33,1445.72 1500.6,1445.72 1510.87,1445.72 1521.14,1445.72 1531.42,1445.72 1541.69,1445.72 1551.96,1445.72 1562.23,1445.72 1572.5,1445.72 \n",
       "  1582.77,1445.72 1593.04,1445.72 1603.31,1445.72 1613.58,1445.72 1623.85,1445.72 1634.12,1444.36 1644.39,1444.36 1654.66,1444.36 1664.93,1444.36 1675.2,1444.36 \n",
       "  1685.47,1444.36 1695.75,1444.36 1706.02,1436.21 1716.29,1436.21 1726.56,1434.85 1736.83,1425.34 1747.1,1417.19 1757.37,1409.04 1767.64,1404.96 1777.91,1404.96 \n",
       "  1788.18,1402.25 1798.45,1371 1808.72,1342.48 1818.99,1335.68 1829.26,1318.02 1839.53,1305.8 1849.8,1274.55 1860.07,1214.78 1870.35,1153.66 1880.62,1123.77 \n",
       "  1890.89,1061.28 1901.16,990.646 1911.43,928.158 1921.7,854.804 1931.97,790.958 1942.24,759.714 1952.51,709.453 1962.78,661.908 1973.05,611.647 1983.32,561.385 \n",
       "  1993.59,521.991 2003.86,489.389 2014.13,436.411 2024.4,383.433 2034.68,337.246 2044.95,323.662 2055.22,296.494 2065.49,261.175 2075.76,228.573 2086.03,202.763 \n",
       "  2096.3,191.896 2106.57,179.67 2116.84,175.595 2127.11,160.652 2137.38,151.143 2147.65,147.068 2157.92,134.842 2168.19,130.767 2178.46,126.691 2188.73,119.899 \n",
       "  2199,109.032 2209.28,106.315 2219.55,102.24 2229.82,102.24 2240.09,99.5231 2250.36,96.8062 2260.63,94.0894 2270.9,90.0141 2281.17,90.0141 2291.44,90.0141 \n",
       "  \n",
       "  \"/>\n",
       "<polyline clip-path=\"url(#clip212)\" style=\"stroke:#ac8d18; stroke-linecap:butt; stroke-linejoin:round; stroke-width:4; stroke-opacity:1; fill:none\" points=\"\n",
       "  247.59,1445.72 273.461,1445.72 299.333,1445.72 325.204,1445.72 351.076,1445.72 376.947,1445.72 402.819,1445.72 428.69,1445.72 454.562,1445.72 480.433,1445.72 \n",
       "  506.305,1445.72 532.176,1445.72 558.048,1445.72 583.919,1445.72 609.791,1445.72 635.662,1445.72 661.534,1445.72 687.406,1445.72 713.277,1445.72 739.149,1445.72 \n",
       "  765.02,1445.72 790.892,1445.72 816.763,1445.72 842.635,1445.72 868.506,1445.72 894.378,1445.72 920.249,1445.72 946.121,1445.72 971.992,1445.72 997.864,1445.72 \n",
       "  1023.74,1445.72 1049.61,1445.72 1075.48,1445.72 1101.35,1445.72 1127.22,1445.72 1153.09,1445.72 1178.96,1445.72 1204.84,1445.72 1230.71,1445.72 1256.58,1445.72 \n",
       "  1282.45,1445.72 1308.32,1445.72 1334.19,1445.72 1360.07,1445.72 1385.94,1445.72 1411.81,1445.72 1437.68,1445.72 1463.55,1445.72 1489.42,1445.72 1515.29,1445.72 \n",
       "  1541.17,1445.72 1567.04,1445.72 1592.91,1445.72 1618.78,1445.72 1644.65,1445.72 1670.52,1445.72 1696.4,1445.71 1722.27,1445.69 1748.14,1445.6 1774.01,1445.2 \n",
       "  1799.88,1443.8 1825.75,1439.63 1851.62,1428.95 1877.5,1405.28 1903.37,1359.25 1929.24,1280.08 1955.11,1157.23 1980.98,988.919 2006.85,785.42 2032.73,575.793 \n",
       "  2058.6,395.264 2084.47,264.556 2110.34,182.626 2136.21,136.331 2162.08,111.853 2187.95,99.4089 2213.83,93.2209 2239.7,90.181 2265.57,88.6976 2291.44,87.9763 \n",
       "  \n",
       "  \"/>\n",
       "<path clip-path=\"url(#clip210)\" d=\"\n",
       "M1894.47 406.258 L2280.54 406.258 L2280.54 95.2176 L1894.47 95.2176  Z\n",
       "  \" fill=\"#ffffff\" fill-rule=\"evenodd\" fill-opacity=\"1\"/>\n",
       "<polyline clip-path=\"url(#clip210)\" style=\"stroke:#000000; stroke-linecap:butt; stroke-linejoin:round; stroke-width:4; stroke-opacity:1; fill:none\" points=\"\n",
       "  1894.47,406.258 2280.54,406.258 2280.54,95.2176 1894.47,95.2176 1894.47,406.258 \n",
       "  \"/>\n",
       "<polyline clip-path=\"url(#clip210)\" style=\"stroke:#009af9; stroke-linecap:butt; stroke-linejoin:round; stroke-width:4; stroke-opacity:1; fill:none\" points=\"\n",
       "  1918.55,147.058 2062.98,147.058 \n",
       "  \"/>\n",
       "<path clip-path=\"url(#clip210)\" d=\"M2107.56 139.407 L2107.56 143.389 Q2105.75 142.393 2103.92 141.907 Q2102.12 141.398 2100.27 141.398 Q2096.12 141.398 2093.83 144.037 Q2091.54 146.652 2091.54 151.398 Q2091.54 156.143 2093.83 158.782 Q2096.12 161.398 2100.27 161.398 Q2102.12 161.398 2103.92 160.912 Q2105.75 160.402 2107.56 159.407 L2107.56 163.342 Q2105.78 164.176 2103.85 164.592 Q2101.96 165.009 2099.8 165.009 Q2093.95 165.009 2090.5 161.328 Q2087.05 157.648 2087.05 151.398 Q2087.05 145.055 2090.52 141.421 Q2094.02 137.787 2100.08 137.787 Q2102.05 137.787 2103.92 138.203 Q2105.8 138.597 2107.56 139.407 Z\" fill=\"#000000\" fill-rule=\"evenodd\" fill-opacity=\"1\" /><path clip-path=\"url(#clip210)\" d=\"M2126.75 151.305 Q2121.59 151.305 2119.6 152.486 Q2117.6 153.666 2117.6 156.514 Q2117.6 158.782 2119.09 160.125 Q2120.59 161.444 2123.16 161.444 Q2126.7 161.444 2128.83 158.944 Q2130.98 156.421 2130.98 152.254 L2130.98 151.305 L2126.75 151.305 M2135.24 149.546 L2135.24 164.338 L2130.98 164.338 L2130.98 160.402 Q2129.53 162.763 2127.35 163.898 Q2125.17 165.009 2122.03 165.009 Q2118.04 165.009 2115.68 162.787 Q2113.35 160.541 2113.35 156.791 Q2113.35 152.416 2116.26 150.194 Q2119.2 147.972 2125.01 147.972 L2130.98 147.972 L2130.98 147.555 Q2130.98 144.615 2129.04 143.018 Q2127.12 141.398 2123.62 141.398 Q2121.4 141.398 2119.29 141.93 Q2117.19 142.463 2115.24 143.527 L2115.24 139.592 Q2117.58 138.69 2119.78 138.25 Q2121.98 137.787 2124.06 137.787 Q2129.69 137.787 2132.47 140.703 Q2135.24 143.62 2135.24 149.546 Z\" fill=\"#000000\" fill-rule=\"evenodd\" fill-opacity=\"1\" /><path clip-path=\"url(#clip210)\" d=\"M2143.58 154.106 L2143.58 138.412 L2147.84 138.412 L2147.84 153.944 Q2147.84 157.625 2149.27 159.476 Q2150.71 161.305 2153.58 161.305 Q2157.03 161.305 2159.02 159.106 Q2161.03 156.907 2161.03 153.111 L2161.03 138.412 L2165.29 138.412 L2165.29 164.338 L2161.03 164.338 L2161.03 160.356 Q2159.48 162.717 2157.42 163.875 Q2155.38 165.009 2152.67 165.009 Q2148.21 165.009 2145.89 162.231 Q2143.58 159.453 2143.58 154.106 M2154.29 137.787 L2154.29 137.787 Z\" fill=\"#000000\" fill-rule=\"evenodd\" fill-opacity=\"1\" /><polyline clip-path=\"url(#clip210)\" style=\"stroke:#e26f46; stroke-linecap:butt; stroke-linejoin:round; stroke-width:4; stroke-opacity:1; fill:none\" points=\"\n",
       "  1918.55,198.898 2062.98,198.898 \n",
       "  \"/>\n",
       "<path clip-path=\"url(#clip210)\" d=\"M2103.55 180.159 L2103.55 183.701 L2099.48 183.701 Q2097.19 183.701 2096.29 184.627 Q2095.41 185.553 2095.41 187.96 L2095.41 190.252 L2102.42 190.252 L2102.42 193.562 L2095.41 193.562 L2095.41 216.178 L2091.12 216.178 L2091.12 193.562 L2087.05 193.562 L2087.05 190.252 L2091.12 190.252 L2091.12 188.446 Q2091.12 184.118 2093.14 182.15 Q2095.15 180.159 2099.53 180.159 L2103.55 180.159 Z\" fill=\"#000000\" fill-rule=\"evenodd\" fill-opacity=\"1\" /><path clip-path=\"url(#clip210)\" d=\"M2122.14 194.233 Q2121.42 193.817 2120.57 193.631 Q2119.73 193.423 2118.72 193.423 Q2115.1 193.423 2113.16 195.784 Q2111.24 198.122 2111.24 202.52 L2111.24 216.178 L2106.96 216.178 L2106.96 190.252 L2111.24 190.252 L2111.24 194.28 Q2112.58 191.918 2114.73 190.784 Q2116.89 189.627 2119.97 189.627 Q2120.41 189.627 2120.94 189.696 Q2121.47 189.743 2122.12 189.858 L2122.14 194.233 Z\" fill=\"#000000\" fill-rule=\"evenodd\" fill-opacity=\"1\" /><path clip-path=\"url(#clip210)\" d=\"M2147.74 202.15 L2147.74 204.233 L2128.16 204.233 Q2128.44 208.631 2130.8 210.946 Q2133.18 213.238 2137.42 213.238 Q2139.87 213.238 2142.16 212.636 Q2144.48 212.034 2146.75 210.83 L2146.75 214.858 Q2144.46 215.83 2142.05 216.34 Q2139.64 216.849 2137.16 216.849 Q2130.96 216.849 2127.33 213.238 Q2123.72 209.627 2123.72 203.469 Q2123.72 197.104 2127.14 193.377 Q2130.59 189.627 2136.42 189.627 Q2141.66 189.627 2144.69 193.006 Q2147.74 196.363 2147.74 202.15 M2143.48 200.9 Q2143.44 197.405 2141.52 195.321 Q2139.62 193.238 2136.47 193.238 Q2132.91 193.238 2130.75 195.252 Q2128.62 197.266 2128.3 200.923 L2143.48 200.9 Z\" fill=\"#000000\" fill-rule=\"evenodd\" fill-opacity=\"1\" /><path clip-path=\"url(#clip210)\" d=\"M2176.28 200.529 L2176.28 216.178 L2172.03 216.178 L2172.03 200.668 Q2172.03 196.988 2170.59 195.159 Q2169.16 193.33 2166.29 193.33 Q2162.84 193.33 2160.85 195.53 Q2158.85 197.729 2158.85 201.525 L2158.85 216.178 L2154.57 216.178 L2154.57 190.252 L2158.85 190.252 L2158.85 194.28 Q2160.38 191.942 2162.44 190.784 Q2164.53 189.627 2167.23 189.627 Q2171.7 189.627 2173.99 192.405 Q2176.28 195.159 2176.28 200.529 Z\" fill=\"#000000\" fill-rule=\"evenodd\" fill-opacity=\"1\" /><path clip-path=\"url(#clip210)\" d=\"M2203.44 191.247 L2203.44 195.229 Q2201.63 194.233 2199.8 193.747 Q2198 193.238 2196.15 193.238 Q2192 193.238 2189.71 195.877 Q2187.42 198.492 2187.42 203.238 Q2187.42 207.983 2189.71 210.622 Q2192 213.238 2196.15 213.238 Q2198 213.238 2199.8 212.752 Q2201.63 212.242 2203.44 211.247 L2203.44 215.182 Q2201.66 216.016 2199.73 216.432 Q2197.84 216.849 2195.68 216.849 Q2189.83 216.849 2186.38 213.168 Q2182.93 209.488 2182.93 203.238 Q2182.93 196.895 2186.4 193.261 Q2189.9 189.627 2195.96 189.627 Q2197.93 189.627 2199.8 190.043 Q2201.68 190.437 2203.44 191.247 Z\" fill=\"#000000\" fill-rule=\"evenodd\" fill-opacity=\"1\" /><path clip-path=\"url(#clip210)\" d=\"M2232.4 200.529 L2232.4 216.178 L2228.14 216.178 L2228.14 200.668 Q2228.14 196.988 2226.7 195.159 Q2225.27 193.33 2222.4 193.33 Q2218.95 193.33 2216.96 195.53 Q2214.97 197.729 2214.97 201.525 L2214.97 216.178 L2210.68 216.178 L2210.68 180.159 L2214.97 180.159 L2214.97 194.28 Q2216.49 191.942 2218.55 190.784 Q2220.64 189.627 2223.34 189.627 Q2227.81 189.627 2230.1 192.405 Q2232.4 195.159 2232.4 200.529 Z\" fill=\"#000000\" fill-rule=\"evenodd\" fill-opacity=\"1\" /><polyline clip-path=\"url(#clip210)\" style=\"stroke:#3da44d; stroke-linecap:butt; stroke-linejoin:round; stroke-width:4; stroke-opacity:1; fill:none\" points=\"\n",
       "  1918.55,250.738 2062.98,250.738 \n",
       "  \"/>\n",
       "<path clip-path=\"url(#clip210)\" d=\"M2105.48 242.856 L2105.48 246.883 Q2103.67 245.957 2101.73 245.495 Q2099.78 245.032 2097.7 245.032 Q2094.53 245.032 2092.93 246.004 Q2091.35 246.976 2091.35 248.92 Q2091.35 250.402 2092.49 251.258 Q2093.62 252.092 2097.05 252.856 L2098.51 253.18 Q2103.04 254.152 2104.94 255.934 Q2106.86 257.694 2106.86 260.865 Q2106.86 264.476 2103.99 266.582 Q2101.15 268.689 2096.15 268.689 Q2094.06 268.689 2091.79 268.272 Q2089.55 267.879 2087.05 267.068 L2087.05 262.67 Q2089.41 263.897 2091.7 264.522 Q2093.99 265.124 2096.24 265.124 Q2099.25 265.124 2100.87 264.106 Q2102.49 263.064 2102.49 261.189 Q2102.49 259.453 2101.31 258.527 Q2100.15 257.601 2096.19 256.744 L2094.71 256.397 Q2090.75 255.564 2088.99 253.851 Q2087.23 252.115 2087.23 249.106 Q2087.23 245.448 2089.83 243.458 Q2092.42 241.467 2097.19 241.467 Q2099.55 241.467 2101.63 241.814 Q2103.72 242.161 2105.48 242.856 Z\" fill=\"#000000\" fill-rule=\"evenodd\" fill-opacity=\"1\" /><path clip-path=\"url(#clip210)\" d=\"M2123.69 245.078 Q2120.27 245.078 2118.28 247.763 Q2116.29 250.425 2116.29 255.078 Q2116.29 259.731 2118.25 262.416 Q2120.24 265.078 2123.69 265.078 Q2127.1 265.078 2129.09 262.393 Q2131.08 259.707 2131.08 255.078 Q2131.08 250.471 2129.09 247.786 Q2127.1 245.078 2123.69 245.078 M2123.69 241.467 Q2129.25 241.467 2132.42 245.078 Q2135.59 248.689 2135.59 255.078 Q2135.59 261.444 2132.42 265.078 Q2129.25 268.689 2123.69 268.689 Q2118.11 268.689 2114.94 265.078 Q2111.79 261.444 2111.79 255.078 Q2111.79 248.689 2114.94 245.078 Q2118.11 241.467 2123.69 241.467 Z\" fill=\"#000000\" fill-rule=\"evenodd\" fill-opacity=\"1\" /><path clip-path=\"url(#clip210)\" d=\"M2155.78 231.999 L2155.78 235.541 L2151.7 235.541 Q2149.41 235.541 2148.51 236.467 Q2147.63 237.393 2147.63 239.8 L2147.63 242.092 L2154.64 242.092 L2154.64 245.402 L2147.63 245.402 L2147.63 268.018 L2143.35 268.018 L2143.35 245.402 L2139.27 245.402 L2139.27 242.092 L2143.35 242.092 L2143.35 240.286 Q2143.35 235.958 2145.36 233.99 Q2147.37 231.999 2151.75 231.999 L2155.78 231.999 Z\" fill=\"#000000\" fill-rule=\"evenodd\" fill-opacity=\"1\" /><path clip-path=\"url(#clip210)\" d=\"M2162.72 234.731 L2162.72 242.092 L2171.49 242.092 L2171.49 245.402 L2162.72 245.402 L2162.72 259.476 Q2162.72 262.647 2163.58 263.55 Q2164.46 264.453 2167.12 264.453 L2171.49 264.453 L2171.49 268.018 L2167.12 268.018 Q2162.19 268.018 2160.31 266.189 Q2158.44 264.337 2158.44 259.476 L2158.44 245.402 L2155.31 245.402 L2155.31 242.092 L2158.44 242.092 L2158.44 234.731 L2162.72 234.731 Z\" fill=\"#000000\" fill-rule=\"evenodd\" fill-opacity=\"1\" /><polyline clip-path=\"url(#clip210)\" style=\"stroke:#c271d2; stroke-linecap:butt; stroke-linejoin:round; stroke-width:4; stroke-opacity:1; fill:none\" points=\"\n",
       "  1918.55,302.578 2062.98,302.578 \n",
       "  \"/>\n",
       "<path clip-path=\"url(#clip210)\" d=\"M2087.05 285.298 L2094.02 285.298 L2102.84 308.816 L2111.7 285.298 L2118.67 285.298 L2118.67 319.858 L2114.11 319.858 L2114.11 289.51 L2105.2 313.214 L2100.5 313.214 L2091.59 289.51 L2091.59 319.858 L2087.05 319.858 L2087.05 285.298 Z\" fill=\"#000000\" fill-rule=\"evenodd\" fill-opacity=\"1\" /><path clip-path=\"url(#clip210)\" d=\"M2127.95 285.298 L2132.63 285.298 L2132.63 299.464 L2149.62 299.464 L2149.62 285.298 L2154.29 285.298 L2154.29 319.858 L2149.62 319.858 L2149.62 303.399 L2132.63 303.399 L2132.63 319.858 L2127.95 319.858 L2127.95 285.298 Z\" fill=\"#000000\" fill-rule=\"evenodd\" fill-opacity=\"1\" /><polyline clip-path=\"url(#clip210)\" style=\"stroke:#ac8d18; stroke-linecap:butt; stroke-linejoin:round; stroke-width:4; stroke-opacity:1; fill:none\" points=\"\n",
       "  1918.55,354.418 2062.98,354.418 \n",
       "  \"/>\n",
       "<path clip-path=\"url(#clip210)\" d=\"M2105.48 346.536 L2105.48 350.563 Q2103.67 349.637 2101.73 349.175 Q2099.78 348.712 2097.7 348.712 Q2094.53 348.712 2092.93 349.684 Q2091.35 350.656 2091.35 352.6 Q2091.35 354.082 2092.49 354.938 Q2093.62 355.772 2097.05 356.536 L2098.51 356.86 Q2103.04 357.832 2104.94 359.614 Q2106.86 361.374 2106.86 364.545 Q2106.86 368.156 2103.99 370.262 Q2101.15 372.369 2096.15 372.369 Q2094.06 372.369 2091.79 371.952 Q2089.55 371.559 2087.05 370.748 L2087.05 366.35 Q2089.41 367.577 2091.7 368.202 Q2093.99 368.804 2096.24 368.804 Q2099.25 368.804 2100.87 367.786 Q2102.49 366.744 2102.49 364.869 Q2102.49 363.133 2101.31 362.207 Q2100.15 361.281 2096.19 360.424 L2094.71 360.077 Q2090.75 359.244 2088.99 357.531 Q2087.23 355.795 2087.23 352.786 Q2087.23 349.128 2089.83 347.138 Q2092.42 345.147 2097.19 345.147 Q2099.55 345.147 2101.63 345.494 Q2103.72 345.841 2105.48 346.536 Z\" fill=\"#000000\" fill-rule=\"evenodd\" fill-opacity=\"1\" /><path clip-path=\"url(#clip210)\" d=\"M2113.65 345.772 L2117.91 345.772 L2117.91 371.698 L2113.65 371.698 L2113.65 345.772 M2113.65 335.679 L2117.91 335.679 L2117.91 341.073 L2113.65 341.073 L2113.65 335.679 Z\" fill=\"#000000\" fill-rule=\"evenodd\" fill-opacity=\"1\" /><path clip-path=\"url(#clip210)\" d=\"M2145.43 358.758 Q2145.43 354.059 2143.48 351.397 Q2141.56 348.712 2138.18 348.712 Q2134.8 348.712 2132.86 351.397 Q2130.94 354.059 2130.94 358.758 Q2130.94 363.457 2132.86 366.142 Q2134.8 368.804 2138.18 368.804 Q2141.56 368.804 2143.48 366.142 Q2145.43 363.457 2145.43 358.758 M2130.94 349.707 Q2132.28 347.392 2134.32 346.281 Q2136.38 345.147 2139.23 345.147 Q2143.95 345.147 2146.89 348.897 Q2149.85 352.647 2149.85 358.758 Q2149.85 364.869 2146.89 368.619 Q2143.95 372.369 2139.23 372.369 Q2136.38 372.369 2134.32 371.258 Q2132.28 370.123 2130.94 367.809 L2130.94 371.698 L2126.66 371.698 L2126.66 335.679 L2130.94 335.679 L2130.94 349.707 Z\" fill=\"#000000\" fill-rule=\"evenodd\" fill-opacity=\"1\" /></svg>\n"
      ]
     },
     "execution_count": 308,
     "metadata": {},
     "output_type": "execute_result"
    }
   ],
   "source": [
    "#Marginals\n",
    "bins = 10 * Int(T)\n",
    "using Plots\n",
    "p_cau = zeros(N,bins)\n",
    "p_french = zeros(N,bins)\n",
    "p_mh = zeros(N,bins)\n",
    "p_soft = zeros(N,bins)\n",
    "for i = 1:N\n",
    "    for t = 1:bins\n",
    "       p_cau[i,t] = marginal(i, t*T/bins, statscau)\n",
    "       p_french[i,t] = marginal(i, t*T/bins, statsfre)\n",
    "       p_mh[i,t] = marginal(i, t*T/bins, stats_mh)\n",
    "       p_soft[i,t] = marginal(i, t*T/bins, stats)\n",
    "    end\n",
    "end\n",
    "i = 4\n",
    "plot(LinRange(1,Int(T),bins),p_cau[i,:], label = \"cau\")\n",
    "plot!(LinRange(1,Int(T),bins),p_french[i,:], label = \"french\")\n",
    "plot!(LinRange(1,Int(T),bins),p_soft[i,:], label = \"soft\")\n",
    "plot!(LinRange(1,Int(T),bins),p_mh[i,:], label = \"MH\")\n",
    "plot!(LinRange(1,Int(T),Int(round(T/dt))),p_sib[i,:], label = \"sib\")"
   ]
  },
  {
   "cell_type": "code",
   "execution_count": 309,
   "metadata": {},
   "outputs": [
    {
     "data": {
      "image/svg+xml": [
       "<?xml version=\"1.0\" encoding=\"utf-8\"?>\n",
       "<svg xmlns=\"http://www.w3.org/2000/svg\" xmlns:xlink=\"http://www.w3.org/1999/xlink\" width=\"600\" height=\"400\" viewBox=\"0 0 2400 1600\">\n",
       "<defs>\n",
       "  <clipPath id=\"clip260\">\n",
       "    <rect x=\"0\" y=\"0\" width=\"2400\" height=\"1600\"/>\n",
       "  </clipPath>\n",
       "</defs>\n",
       "<path clip-path=\"url(#clip260)\" d=\"\n",
       "M0 1600 L2400 1600 L2400 0 L0 0  Z\n",
       "  \" fill=\"#ffffff\" fill-rule=\"evenodd\" fill-opacity=\"1\"/>\n",
       "<defs>\n",
       "  <clipPath id=\"clip261\">\n",
       "    <rect x=\"480\" y=\"0\" width=\"1681\" height=\"1600\"/>\n",
       "  </clipPath>\n",
       "</defs>\n",
       "<path clip-path=\"url(#clip260)\" d=\"\n",
       "M219.542 1423.18 L2352.76 1423.18 L2352.76 123.472 L219.542 123.472  Z\n",
       "  \" fill=\"#ffffff\" fill-rule=\"evenodd\" fill-opacity=\"1\"/>\n",
       "<defs>\n",
       "  <clipPath id=\"clip262\">\n",
       "    <rect x=\"219\" y=\"123\" width=\"2134\" height=\"1301\"/>\n",
       "  </clipPath>\n",
       "</defs>\n",
       "<polyline clip-path=\"url(#clip262)\" style=\"stroke:#000000; stroke-linecap:butt; stroke-linejoin:round; stroke-width:2; stroke-opacity:0.1; fill:none\" points=\"\n",
       "  703.593,1423.18 703.593,123.472 \n",
       "  \"/>\n",
       "<polyline clip-path=\"url(#clip262)\" style=\"stroke:#000000; stroke-linecap:butt; stroke-linejoin:round; stroke-width:2; stroke-opacity:0.1; fill:none\" points=\"\n",
       "  1233.19,1423.18 1233.19,123.472 \n",
       "  \"/>\n",
       "<polyline clip-path=\"url(#clip262)\" style=\"stroke:#000000; stroke-linecap:butt; stroke-linejoin:round; stroke-width:2; stroke-opacity:0.1; fill:none\" points=\"\n",
       "  1762.79,1423.18 1762.79,123.472 \n",
       "  \"/>\n",
       "<polyline clip-path=\"url(#clip262)\" style=\"stroke:#000000; stroke-linecap:butt; stroke-linejoin:round; stroke-width:2; stroke-opacity:0.1; fill:none\" points=\"\n",
       "  2292.38,1423.18 2292.38,123.472 \n",
       "  \"/>\n",
       "<polyline clip-path=\"url(#clip260)\" style=\"stroke:#000000; stroke-linecap:butt; stroke-linejoin:round; stroke-width:4; stroke-opacity:1; fill:none\" points=\"\n",
       "  219.542,1423.18 2352.76,1423.18 \n",
       "  \"/>\n",
       "<polyline clip-path=\"url(#clip260)\" style=\"stroke:#000000; stroke-linecap:butt; stroke-linejoin:round; stroke-width:4; stroke-opacity:1; fill:none\" points=\"\n",
       "  703.593,1423.18 703.593,1404.28 \n",
       "  \"/>\n",
       "<polyline clip-path=\"url(#clip260)\" style=\"stroke:#000000; stroke-linecap:butt; stroke-linejoin:round; stroke-width:4; stroke-opacity:1; fill:none\" points=\"\n",
       "  1233.19,1423.18 1233.19,1404.28 \n",
       "  \"/>\n",
       "<polyline clip-path=\"url(#clip260)\" style=\"stroke:#000000; stroke-linecap:butt; stroke-linejoin:round; stroke-width:4; stroke-opacity:1; fill:none\" points=\"\n",
       "  1762.79,1423.18 1762.79,1404.28 \n",
       "  \"/>\n",
       "<polyline clip-path=\"url(#clip260)\" style=\"stroke:#000000; stroke-linecap:butt; stroke-linejoin:round; stroke-width:4; stroke-opacity:1; fill:none\" points=\"\n",
       "  2292.38,1423.18 2292.38,1404.28 \n",
       "  \"/>\n",
       "<path clip-path=\"url(#clip260)\" d=\"M693.871 1451.02 L712.227 1451.02 L712.227 1454.96 L698.153 1454.96 L698.153 1463.43 Q699.172 1463.08 700.19 1462.92 Q701.209 1462.73 702.227 1462.73 Q708.014 1462.73 711.394 1465.9 Q714.774 1469.08 714.774 1474.49 Q714.774 1480.07 711.301 1483.17 Q707.829 1486.25 701.51 1486.25 Q699.334 1486.25 697.065 1485.88 Q694.82 1485.51 692.413 1484.77 L692.413 1480.07 Q694.496 1481.2 696.718 1481.76 Q698.94 1482.32 701.417 1482.32 Q705.422 1482.32 707.76 1480.21 Q710.098 1478.1 710.098 1474.49 Q710.098 1470.88 707.76 1468.77 Q705.422 1466.67 701.417 1466.67 Q699.542 1466.67 697.667 1467.08 Q695.815 1467.5 693.871 1468.38 L693.871 1451.02 Z\" fill=\"#000000\" fill-rule=\"evenodd\" fill-opacity=\"1\" /><path clip-path=\"url(#clip260)\" d=\"M1207.88 1481.64 L1215.52 1481.64 L1215.52 1455.28 L1207.21 1456.95 L1207.21 1452.69 L1215.47 1451.02 L1220.15 1451.02 L1220.15 1481.64 L1227.78 1481.64 L1227.78 1485.58 L1207.88 1485.58 L1207.88 1481.64 Z\" fill=\"#000000\" fill-rule=\"evenodd\" fill-opacity=\"1\" /><path clip-path=\"url(#clip260)\" d=\"M1247.23 1454.1 Q1243.62 1454.1 1241.79 1457.66 Q1239.98 1461.2 1239.98 1468.33 Q1239.98 1475.44 1241.79 1479.01 Q1243.62 1482.55 1247.23 1482.55 Q1250.86 1482.55 1252.67 1479.01 Q1254.5 1475.44 1254.5 1468.33 Q1254.5 1461.2 1252.67 1457.66 Q1250.86 1454.1 1247.23 1454.1 M1247.23 1450.39 Q1253.04 1450.39 1256.09 1455 Q1259.17 1459.58 1259.17 1468.33 Q1259.17 1477.06 1256.09 1481.67 Q1253.04 1486.25 1247.23 1486.25 Q1241.42 1486.25 1238.34 1481.67 Q1235.28 1477.06 1235.28 1468.33 Q1235.28 1459.58 1238.34 1455 Q1241.42 1450.39 1247.23 1450.39 Z\" fill=\"#000000\" fill-rule=\"evenodd\" fill-opacity=\"1\" /><path clip-path=\"url(#clip260)\" d=\"M1737.97 1481.64 L1745.61 1481.64 L1745.61 1455.28 L1737.3 1456.95 L1737.3 1452.69 L1745.56 1451.02 L1750.24 1451.02 L1750.24 1481.64 L1757.88 1481.64 L1757.88 1485.58 L1737.97 1485.58 L1737.97 1481.64 Z\" fill=\"#000000\" fill-rule=\"evenodd\" fill-opacity=\"1\" /><path clip-path=\"url(#clip260)\" d=\"M1767.37 1451.02 L1785.73 1451.02 L1785.73 1454.96 L1771.65 1454.96 L1771.65 1463.43 Q1772.67 1463.08 1773.69 1462.92 Q1774.71 1462.73 1775.73 1462.73 Q1781.51 1462.73 1784.89 1465.9 Q1788.27 1469.08 1788.27 1474.49 Q1788.27 1480.07 1784.8 1483.17 Q1781.33 1486.25 1775.01 1486.25 Q1772.83 1486.25 1770.56 1485.88 Q1768.32 1485.51 1765.91 1484.77 L1765.91 1480.07 Q1767.99 1481.2 1770.22 1481.76 Q1772.44 1482.32 1774.92 1482.32 Q1778.92 1482.32 1781.26 1480.21 Q1783.6 1478.1 1783.6 1474.49 Q1783.6 1470.88 1781.26 1468.77 Q1778.92 1466.67 1774.92 1466.67 Q1773.04 1466.67 1771.17 1467.08 Q1769.31 1467.5 1767.37 1468.38 L1767.37 1451.02 Z\" fill=\"#000000\" fill-rule=\"evenodd\" fill-opacity=\"1\" /><path clip-path=\"url(#clip260)\" d=\"M2271.16 1481.64 L2287.47 1481.64 L2287.47 1485.58 L2265.53 1485.58 L2265.53 1481.64 Q2268.19 1478.89 2272.78 1474.26 Q2277.38 1469.61 2278.56 1468.27 Q2280.81 1465.74 2281.69 1464.01 Q2282.59 1462.25 2282.59 1460.56 Q2282.59 1457.8 2280.65 1456.07 Q2278.72 1454.33 2275.62 1454.33 Q2273.42 1454.33 2270.97 1455.09 Q2268.54 1455.86 2265.76 1457.41 L2265.76 1452.69 Q2268.59 1451.55 2271.04 1450.97 Q2273.49 1450.39 2275.53 1450.39 Q2280.9 1450.39 2284.09 1453.08 Q2287.29 1455.77 2287.29 1460.26 Q2287.29 1462.39 2286.48 1464.31 Q2285.69 1466.2 2283.59 1468.8 Q2283.01 1469.47 2279.91 1472.69 Q2276.8 1475.88 2271.16 1481.64 Z\" fill=\"#000000\" fill-rule=\"evenodd\" fill-opacity=\"1\" /><path clip-path=\"url(#clip260)\" d=\"M2307.29 1454.1 Q2303.68 1454.1 2301.85 1457.66 Q2300.04 1461.2 2300.04 1468.33 Q2300.04 1475.44 2301.85 1479.01 Q2303.68 1482.55 2307.29 1482.55 Q2310.92 1482.55 2312.73 1479.01 Q2314.56 1475.44 2314.56 1468.33 Q2314.56 1461.2 2312.73 1457.66 Q2310.92 1454.1 2307.29 1454.1 M2307.29 1450.39 Q2313.1 1450.39 2316.15 1455 Q2319.23 1459.58 2319.23 1468.33 Q2319.23 1477.06 2316.15 1481.67 Q2313.1 1486.25 2307.29 1486.25 Q2301.48 1486.25 2298.4 1481.67 Q2295.34 1477.06 2295.34 1468.33 Q2295.34 1459.58 2298.4 1455 Q2301.48 1450.39 2307.29 1450.39 Z\" fill=\"#000000\" fill-rule=\"evenodd\" fill-opacity=\"1\" /><path clip-path=\"url(#clip260)\" d=\"M1285.21 1522.27 L1285.21 1532.4 L1297.27 1532.4 L1297.27 1536.95 L1285.21 1536.95 L1285.21 1556.3 Q1285.21 1560.66 1286.39 1561.9 Q1287.6 1563.14 1291.26 1563.14 L1297.27 1563.14 L1297.27 1568.04 L1291.26 1568.04 Q1284.48 1568.04 1281.9 1565.53 Q1279.32 1562.98 1279.32 1556.3 L1279.32 1536.95 L1275.02 1536.95 L1275.02 1532.4 L1279.32 1532.4 L1279.32 1522.27 L1285.21 1522.27 Z\" fill=\"#000000\" fill-rule=\"evenodd\" fill-opacity=\"1\" /><polyline clip-path=\"url(#clip262)\" style=\"stroke:#000000; stroke-linecap:butt; stroke-linejoin:round; stroke-width:2; stroke-opacity:0.1; fill:none\" points=\"\n",
       "  219.542,1423.18 2352.76,1423.18 \n",
       "  \"/>\n",
       "<polyline clip-path=\"url(#clip262)\" style=\"stroke:#000000; stroke-linecap:butt; stroke-linejoin:round; stroke-width:2; stroke-opacity:0.1; fill:none\" points=\"\n",
       "  219.542,1168.34 2352.76,1168.34 \n",
       "  \"/>\n",
       "<polyline clip-path=\"url(#clip262)\" style=\"stroke:#000000; stroke-linecap:butt; stroke-linejoin:round; stroke-width:2; stroke-opacity:0.1; fill:none\" points=\"\n",
       "  219.542,913.491 2352.76,913.491 \n",
       "  \"/>\n",
       "<polyline clip-path=\"url(#clip262)\" style=\"stroke:#000000; stroke-linecap:butt; stroke-linejoin:round; stroke-width:2; stroke-opacity:0.1; fill:none\" points=\"\n",
       "  219.542,658.646 2352.76,658.646 \n",
       "  \"/>\n",
       "<polyline clip-path=\"url(#clip262)\" style=\"stroke:#000000; stroke-linecap:butt; stroke-linejoin:round; stroke-width:2; stroke-opacity:0.1; fill:none\" points=\"\n",
       "  219.542,403.801 2352.76,403.801 \n",
       "  \"/>\n",
       "<polyline clip-path=\"url(#clip262)\" style=\"stroke:#000000; stroke-linecap:butt; stroke-linejoin:round; stroke-width:2; stroke-opacity:0.1; fill:none\" points=\"\n",
       "  219.542,148.957 2352.76,148.957 \n",
       "  \"/>\n",
       "<polyline clip-path=\"url(#clip260)\" style=\"stroke:#000000; stroke-linecap:butt; stroke-linejoin:round; stroke-width:4; stroke-opacity:1; fill:none\" points=\"\n",
       "  219.542,1423.18 219.542,123.472 \n",
       "  \"/>\n",
       "<polyline clip-path=\"url(#clip260)\" style=\"stroke:#000000; stroke-linecap:butt; stroke-linejoin:round; stroke-width:4; stroke-opacity:1; fill:none\" points=\"\n",
       "  219.542,1423.18 238.44,1423.18 \n",
       "  \"/>\n",
       "<polyline clip-path=\"url(#clip260)\" style=\"stroke:#000000; stroke-linecap:butt; stroke-linejoin:round; stroke-width:4; stroke-opacity:1; fill:none\" points=\"\n",
       "  219.542,1168.34 238.44,1168.34 \n",
       "  \"/>\n",
       "<polyline clip-path=\"url(#clip260)\" style=\"stroke:#000000; stroke-linecap:butt; stroke-linejoin:round; stroke-width:4; stroke-opacity:1; fill:none\" points=\"\n",
       "  219.542,913.491 238.44,913.491 \n",
       "  \"/>\n",
       "<polyline clip-path=\"url(#clip260)\" style=\"stroke:#000000; stroke-linecap:butt; stroke-linejoin:round; stroke-width:4; stroke-opacity:1; fill:none\" points=\"\n",
       "  219.542,658.646 238.44,658.646 \n",
       "  \"/>\n",
       "<polyline clip-path=\"url(#clip260)\" style=\"stroke:#000000; stroke-linecap:butt; stroke-linejoin:round; stroke-width:4; stroke-opacity:1; fill:none\" points=\"\n",
       "  219.542,403.801 238.44,403.801 \n",
       "  \"/>\n",
       "<polyline clip-path=\"url(#clip260)\" style=\"stroke:#000000; stroke-linecap:butt; stroke-linejoin:round; stroke-width:4; stroke-opacity:1; fill:none\" points=\"\n",
       "  219.542,148.957 238.44,148.957 \n",
       "  \"/>\n",
       "<path clip-path=\"url(#clip260)\" d=\"M127.362 1408.98 Q123.751 1408.98 121.922 1412.54 Q120.117 1416.08 120.117 1423.21 Q120.117 1430.32 121.922 1433.89 Q123.751 1437.43 127.362 1437.43 Q130.996 1437.43 132.802 1433.89 Q134.63 1430.32 134.63 1423.21 Q134.63 1416.08 132.802 1412.54 Q130.996 1408.98 127.362 1408.98 M127.362 1405.27 Q133.172 1405.27 136.228 1409.88 Q139.306 1414.46 139.306 1423.21 Q139.306 1431.94 136.228 1436.55 Q133.172 1441.13 127.362 1441.13 Q121.552 1441.13 118.473 1436.55 Q115.418 1431.94 115.418 1423.21 Q115.418 1414.46 118.473 1409.88 Q121.552 1405.27 127.362 1405.27 Z\" fill=\"#000000\" fill-rule=\"evenodd\" fill-opacity=\"1\" /><path clip-path=\"url(#clip260)\" d=\"M147.524 1434.58 L152.408 1434.58 L152.408 1440.46 L147.524 1440.46 L147.524 1434.58 Z\" fill=\"#000000\" fill-rule=\"evenodd\" fill-opacity=\"1\" /><path clip-path=\"url(#clip260)\" d=\"M162.64 1405.9 L180.996 1405.9 L180.996 1409.84 L166.922 1409.84 L166.922 1418.31 Q167.94 1417.96 168.959 1417.8 Q169.977 1417.61 170.996 1417.61 Q176.783 1417.61 180.163 1420.78 Q183.542 1423.96 183.542 1429.37 Q183.542 1434.95 180.07 1438.05 Q176.598 1441.13 170.278 1441.13 Q168.102 1441.13 165.834 1440.76 Q163.589 1440.39 161.181 1439.65 L161.181 1434.95 Q163.265 1436.08 165.487 1436.64 Q167.709 1437.2 170.186 1437.2 Q174.19 1437.2 176.528 1435.09 Q178.866 1432.98 178.866 1429.37 Q178.866 1425.76 176.528 1423.65 Q174.19 1421.55 170.186 1421.55 Q168.311 1421.55 166.436 1421.96 Q164.584 1422.38 162.64 1423.26 L162.64 1405.9 Z\" fill=\"#000000\" fill-rule=\"evenodd\" fill-opacity=\"1\" /><path clip-path=\"url(#clip260)\" d=\"M126.205 1154.13 Q122.593 1154.13 120.765 1157.7 Q118.959 1161.24 118.959 1168.37 Q118.959 1175.48 120.765 1179.04 Q122.593 1182.58 126.205 1182.58 Q129.839 1182.58 131.644 1179.04 Q133.473 1175.48 133.473 1168.37 Q133.473 1161.24 131.644 1157.7 Q129.839 1154.13 126.205 1154.13 M126.205 1150.43 Q132.015 1150.43 135.07 1155.04 Q138.149 1159.62 138.149 1168.37 Q138.149 1177.1 135.07 1181.7 Q132.015 1186.29 126.205 1186.29 Q120.394 1186.29 117.316 1181.7 Q114.26 1177.1 114.26 1168.37 Q114.26 1159.62 117.316 1155.04 Q120.394 1150.43 126.205 1150.43 Z\" fill=\"#000000\" fill-rule=\"evenodd\" fill-opacity=\"1\" /><path clip-path=\"url(#clip260)\" d=\"M146.366 1179.74 L151.251 1179.74 L151.251 1185.62 L146.366 1185.62 L146.366 1179.74 Z\" fill=\"#000000\" fill-rule=\"evenodd\" fill-opacity=\"1\" /><path clip-path=\"url(#clip260)\" d=\"M172.014 1166.47 Q168.866 1166.47 167.015 1168.62 Q165.186 1170.78 165.186 1174.53 Q165.186 1178.25 167.015 1180.43 Q168.866 1182.58 172.014 1182.58 Q175.163 1182.58 176.991 1180.43 Q178.843 1178.25 178.843 1174.53 Q178.843 1170.78 176.991 1168.62 Q175.163 1166.47 172.014 1166.47 M181.297 1151.82 L181.297 1156.08 Q179.538 1155.24 177.732 1154.81 Q175.95 1154.37 174.19 1154.37 Q169.561 1154.37 167.107 1157.49 Q164.677 1160.62 164.329 1166.93 Q165.695 1164.92 167.755 1163.86 Q169.815 1162.77 172.292 1162.77 Q177.501 1162.77 180.51 1165.94 Q183.542 1169.09 183.542 1174.53 Q183.542 1179.85 180.394 1183.07 Q177.246 1186.29 172.014 1186.29 Q166.019 1186.29 162.848 1181.7 Q159.677 1177.1 159.677 1168.37 Q159.677 1160.18 163.565 1155.31 Q167.454 1150.43 174.005 1150.43 Q175.764 1150.43 177.547 1150.78 Q179.352 1151.12 181.297 1151.82 Z\" fill=\"#000000\" fill-rule=\"evenodd\" fill-opacity=\"1\" /><path clip-path=\"url(#clip260)\" d=\"M127.269 899.289 Q123.658 899.289 121.83 902.854 Q120.024 906.396 120.024 913.525 Q120.024 920.632 121.83 924.197 Q123.658 927.738 127.269 927.738 Q130.904 927.738 132.709 924.197 Q134.538 920.632 134.538 913.525 Q134.538 906.396 132.709 902.854 Q130.904 899.289 127.269 899.289 M127.269 895.586 Q133.08 895.586 136.135 900.192 Q139.214 904.775 139.214 913.525 Q139.214 922.252 136.135 926.859 Q133.08 931.442 127.269 931.442 Q121.459 931.442 118.381 926.859 Q115.325 922.252 115.325 913.525 Q115.325 904.775 118.381 900.192 Q121.459 895.586 127.269 895.586 Z\" fill=\"#000000\" fill-rule=\"evenodd\" fill-opacity=\"1\" /><path clip-path=\"url(#clip260)\" d=\"M147.431 924.891 L152.316 924.891 L152.316 930.771 L147.431 930.771 L147.431 924.891 Z\" fill=\"#000000\" fill-rule=\"evenodd\" fill-opacity=\"1\" /><path clip-path=\"url(#clip260)\" d=\"M161.32 896.211 L183.542 896.211 L183.542 898.201 L170.996 930.771 L166.112 930.771 L177.917 900.146 L161.32 900.146 L161.32 896.211 Z\" fill=\"#000000\" fill-rule=\"evenodd\" fill-opacity=\"1\" /><path clip-path=\"url(#clip260)\" d=\"M126.459 644.445 Q122.848 644.445 121.019 648.009 Q119.214 651.551 119.214 658.681 Q119.214 665.787 121.019 669.352 Q122.848 672.894 126.459 672.894 Q130.093 672.894 131.899 669.352 Q133.728 665.787 133.728 658.681 Q133.728 651.551 131.899 648.009 Q130.093 644.445 126.459 644.445 M126.459 640.741 Q132.269 640.741 135.325 645.347 Q138.404 649.931 138.404 658.681 Q138.404 667.407 135.325 672.014 Q132.269 676.597 126.459 676.597 Q120.649 676.597 117.57 672.014 Q114.515 667.407 114.515 658.681 Q114.515 649.931 117.57 645.347 Q120.649 640.741 126.459 640.741 Z\" fill=\"#000000\" fill-rule=\"evenodd\" fill-opacity=\"1\" /><path clip-path=\"url(#clip260)\" d=\"M146.621 670.046 L151.505 670.046 L151.505 675.926 L146.621 675.926 L146.621 670.046 Z\" fill=\"#000000\" fill-rule=\"evenodd\" fill-opacity=\"1\" /><path clip-path=\"url(#clip260)\" d=\"M171.69 659.514 Q168.357 659.514 166.436 661.296 Q164.538 663.079 164.538 666.204 Q164.538 669.329 166.436 671.111 Q168.357 672.894 171.69 672.894 Q175.024 672.894 176.945 671.111 Q178.866 669.306 178.866 666.204 Q178.866 663.079 176.945 661.296 Q175.047 659.514 171.69 659.514 M167.015 657.523 Q164.005 656.782 162.315 654.722 Q160.649 652.662 160.649 649.699 Q160.649 645.556 163.589 643.148 Q166.552 640.741 171.69 640.741 Q176.852 640.741 179.792 643.148 Q182.732 645.556 182.732 649.699 Q182.732 652.662 181.042 654.722 Q179.376 656.782 176.389 657.523 Q179.769 658.31 181.644 660.602 Q183.542 662.894 183.542 666.204 Q183.542 671.227 180.464 673.912 Q177.408 676.597 171.69 676.597 Q165.973 676.597 162.894 673.912 Q159.839 671.227 159.839 666.204 Q159.839 662.894 161.737 660.602 Q163.635 658.31 167.015 657.523 M165.302 650.139 Q165.302 652.824 166.968 654.329 Q168.658 655.833 171.69 655.833 Q174.7 655.833 176.389 654.329 Q178.102 652.824 178.102 650.139 Q178.102 647.454 176.389 645.949 Q174.7 644.445 171.69 644.445 Q168.658 644.445 166.968 645.949 Q165.302 647.454 165.302 650.139 Z\" fill=\"#000000\" fill-rule=\"evenodd\" fill-opacity=\"1\" /><path clip-path=\"url(#clip260)\" d=\"M126.552 389.6 Q122.941 389.6 121.112 393.165 Q119.306 396.706 119.306 403.836 Q119.306 410.942 121.112 414.507 Q122.941 418.049 126.552 418.049 Q130.186 418.049 131.992 414.507 Q133.82 410.942 133.82 403.836 Q133.82 396.706 131.992 393.165 Q130.186 389.6 126.552 389.6 M126.552 385.896 Q132.362 385.896 135.417 390.503 Q138.496 395.086 138.496 403.836 Q138.496 412.563 135.417 417.169 Q132.362 421.753 126.552 421.753 Q120.742 421.753 117.663 417.169 Q114.607 412.563 114.607 403.836 Q114.607 395.086 117.663 390.503 Q120.742 385.896 126.552 385.896 Z\" fill=\"#000000\" fill-rule=\"evenodd\" fill-opacity=\"1\" /><path clip-path=\"url(#clip260)\" d=\"M146.714 415.202 L151.598 415.202 L151.598 421.081 L146.714 421.081 L146.714 415.202 Z\" fill=\"#000000\" fill-rule=\"evenodd\" fill-opacity=\"1\" /><path clip-path=\"url(#clip260)\" d=\"M161.922 420.364 L161.922 416.104 Q163.681 416.938 165.487 417.378 Q167.292 417.817 169.028 417.817 Q173.658 417.817 176.089 414.716 Q178.542 411.591 178.889 405.248 Q177.547 407.239 175.487 408.304 Q173.427 409.368 170.927 409.368 Q165.741 409.368 162.709 406.243 Q159.7 403.095 159.7 397.655 Q159.7 392.331 162.848 389.114 Q165.996 385.896 171.227 385.896 Q177.223 385.896 180.371 390.503 Q183.542 395.086 183.542 403.836 Q183.542 412.007 179.653 416.891 Q175.788 421.753 169.237 421.753 Q167.477 421.753 165.672 421.405 Q163.866 421.058 161.922 420.364 M171.227 405.711 Q174.376 405.711 176.204 403.558 Q178.056 401.405 178.056 397.655 Q178.056 393.929 176.204 391.776 Q174.376 389.6 171.227 389.6 Q168.079 389.6 166.227 391.776 Q164.399 393.929 164.399 397.655 Q164.399 401.405 166.227 403.558 Q168.079 405.711 171.227 405.711 Z\" fill=\"#000000\" fill-rule=\"evenodd\" fill-opacity=\"1\" /><path clip-path=\"url(#clip260)\" d=\"M117.177 162.301 L124.816 162.301 L124.816 135.936 L116.506 137.602 L116.506 133.343 L124.769 131.677 L129.445 131.677 L129.445 162.301 L137.084 162.301 L137.084 166.237 L117.177 166.237 L117.177 162.301 Z\" fill=\"#000000\" fill-rule=\"evenodd\" fill-opacity=\"1\" /><path clip-path=\"url(#clip260)\" d=\"M146.529 160.357 L151.413 160.357 L151.413 166.237 L146.529 166.237 L146.529 160.357 Z\" fill=\"#000000\" fill-rule=\"evenodd\" fill-opacity=\"1\" /><path clip-path=\"url(#clip260)\" d=\"M171.598 134.755 Q167.987 134.755 166.158 138.32 Q164.352 141.862 164.352 148.991 Q164.352 156.098 166.158 159.663 Q167.987 163.204 171.598 163.204 Q175.232 163.204 177.038 159.663 Q178.866 156.098 178.866 148.991 Q178.866 141.862 177.038 138.32 Q175.232 134.755 171.598 134.755 M171.598 131.052 Q177.408 131.052 180.464 135.658 Q183.542 140.241 183.542 148.991 Q183.542 157.718 180.464 162.325 Q177.408 166.908 171.598 166.908 Q165.788 166.908 162.709 162.325 Q159.653 157.718 159.653 148.991 Q159.653 140.241 162.709 135.658 Q165.788 131.052 171.598 131.052 Z\" fill=\"#000000\" fill-rule=\"evenodd\" fill-opacity=\"1\" /><path clip-path=\"url(#clip260)\" d=\"M22.818 866.743 L46.4666 875.464 L46.4666 857.99 L22.818 866.743 M16.4842 870.371 L16.4842 863.082 L64.0042 844.972 L64.0042 851.656 L51.8138 855.985 L51.8138 877.405 L64.0042 881.734 L64.0042 888.513 L16.4842 870.371 Z\" fill=\"#000000\" fill-rule=\"evenodd\" fill-opacity=\"1\" /><path clip-path=\"url(#clip260)\" d=\"M16.4842 838.765 L16.4842 832.304 L45.3526 832.304 Q52.9915 832.304 56.3653 829.535 Q59.7073 826.766 59.7073 820.56 Q59.7073 814.385 56.3653 811.616 Q52.9915 808.847 45.3526 808.847 L16.4842 808.847 L16.4842 802.385 L46.1484 802.385 Q55.4423 802.385 60.1847 807.001 Q64.9272 811.584 64.9272 820.56 Q64.9272 829.567 60.1847 834.182 Q55.4423 838.765 46.1484 838.765 L16.4842 838.765 Z\" fill=\"#000000\" fill-rule=\"evenodd\" fill-opacity=\"1\" /><path clip-path=\"url(#clip260)\" d=\"M41.7242 767.788 Q42.4244 765.719 44.7161 763.777 Q47.0077 761.804 51.0181 759.831 L64.0042 753.306 L64.0042 760.213 L51.8138 766.292 Q47.0395 768.647 45.48 770.875 Q43.9204 773.071 43.9204 776.891 L43.9204 783.893 L64.0042 783.893 L64.0042 790.322 L16.4842 790.322 L16.4842 775.809 Q16.4842 767.661 19.8898 763.65 Q23.2955 759.64 30.1704 759.64 Q34.6582 759.64 37.6183 761.74 Q40.5784 763.809 41.7242 767.788 M21.7677 783.893 L38.6368 783.893 L38.6368 775.809 Q38.6368 771.162 36.5043 768.806 Q34.34 766.419 30.1704 766.419 Q26.0009 766.419 23.9002 768.806 Q21.7677 771.162 21.7677 775.809 L21.7677 783.893 Z\" fill=\"#000000\" fill-rule=\"evenodd\" fill-opacity=\"1\" /><path clip-path=\"url(#clip260)\" d=\"M20.8447 725.742 Q20.8447 732.745 26.0645 736.882 Q31.2844 740.988 40.2919 740.988 Q49.2675 740.988 54.4874 736.882 Q59.7073 732.745 59.7073 725.742 Q59.7073 718.74 54.4874 714.666 Q49.2675 710.56 40.2919 710.56 Q31.2844 710.56 26.0645 714.666 Q20.8447 718.74 20.8447 725.742 M15.6248 725.742 Q15.6248 715.748 22.3406 709.764 Q29.0246 703.781 40.2919 703.781 Q51.5274 703.781 58.2432 709.764 Q64.9272 715.748 64.9272 725.742 Q64.9272 735.768 58.2432 741.784 Q51.5592 747.768 40.2919 747.768 Q29.0246 747.768 22.3406 741.784 Q15.6248 735.768 15.6248 725.742 Z\" fill=\"#000000\" fill-rule=\"evenodd\" fill-opacity=\"1\" /><path clip-path=\"url(#clip260)\" d=\"M20.1444 658.139 L26.9239 658.139 Q23.9002 661.385 22.4043 665.077 Q20.9083 668.737 20.9083 672.875 Q20.9083 681.023 25.9054 685.352 Q30.8707 689.681 40.2919 689.681 Q49.6813 689.681 54.6784 685.352 Q59.6436 681.023 59.6436 672.875 Q59.6436 668.737 58.1477 665.077 Q56.6518 661.385 53.6281 658.139 L60.3439 658.139 Q62.6355 661.512 63.7814 665.3 Q64.9272 669.056 64.9272 673.257 Q64.9272 684.047 58.3387 690.254 Q51.7183 696.46 40.2919 696.46 Q28.8336 696.46 22.2451 690.254 Q15.6248 684.047 15.6248 673.257 Q15.6248 668.992 16.7706 665.236 Q17.8846 661.449 20.1444 658.139 Z\" fill=\"#000000\" fill-rule=\"evenodd\" fill-opacity=\"1\" /><path clip-path=\"url(#clip260)\" d=\"M446.559 16.7545 L446.559 25.383 Q442.427 21.5346 437.728 19.6307 Q433.069 17.7268 427.803 17.7268 Q417.433 17.7268 411.923 24.0867 Q406.414 30.4061 406.414 42.3968 Q406.414 54.3469 411.923 60.7069 Q417.433 67.0263 427.803 67.0263 Q433.069 67.0263 437.728 65.1223 Q442.427 63.2184 446.559 59.3701 L446.559 67.9175 Q442.265 70.8341 437.444 72.2924 Q432.664 73.7508 427.317 73.7508 Q413.584 73.7508 405.685 65.3654 Q397.786 56.9395 397.786 42.3968 Q397.786 27.8135 405.685 19.4281 Q413.584 11.0023 427.317 11.0023 Q432.745 11.0023 437.525 12.4606 Q442.346 13.8784 446.559 16.7545 Z\" fill=\"#000000\" fill-rule=\"evenodd\" fill-opacity=\"1\" /><path clip-path=\"url(#clip260)\" d=\"M479.492 49.7694 Q470.459 49.7694 466.975 51.8354 Q463.491 53.9013 463.491 58.8839 Q463.491 62.8538 466.084 65.2034 Q468.717 67.5124 473.214 67.5124 Q479.411 67.5124 483.138 63.1374 Q486.906 58.7219 486.906 51.4303 L486.906 49.7694 L479.492 49.7694 M494.359 46.6907 L494.359 72.576 L486.906 72.576 L486.906 65.6895 Q484.354 69.8214 480.546 71.8063 Q476.738 73.7508 471.229 73.7508 Q464.261 73.7508 460.129 69.8619 Q456.038 65.9325 456.038 59.3701 Q456.038 51.7138 461.142 47.825 Q466.287 43.9361 476.454 43.9361 L486.906 43.9361 L486.906 43.2069 Q486.906 38.0623 483.503 35.2672 Q480.141 32.4315 474.024 32.4315 Q470.135 32.4315 466.449 33.3632 Q462.762 34.295 459.359 36.1584 L459.359 29.2718 Q463.451 27.692 467.299 26.9223 Q471.148 26.1121 474.793 26.1121 Q484.637 26.1121 489.498 31.2163 Q494.359 36.3204 494.359 46.6907 Z\" fill=\"#000000\" fill-rule=\"evenodd\" fill-opacity=\"1\" /><path clip-path=\"url(#clip260)\" d=\"M508.943 54.671 L508.943 27.2059 L516.396 27.2059 L516.396 54.3874 Q516.396 60.8284 518.908 64.0691 Q521.419 67.2693 526.442 67.2693 Q532.478 67.2693 535.962 63.421 Q539.486 59.5726 539.486 52.9291 L539.486 27.2059 L546.94 27.2059 L546.94 72.576 L539.486 72.576 L539.486 65.6084 Q536.772 69.7404 533.167 71.7658 Q529.602 73.7508 524.863 73.7508 Q517.044 73.7508 512.993 68.8897 Q508.943 64.0286 508.943 54.671 M527.698 26.1121 L527.698 26.1121 Z\" fill=\"#000000\" fill-rule=\"evenodd\" fill-opacity=\"1\" /><path clip-path=\"url(#clip260)\" d=\"M591.216 28.5427 L591.216 35.5912 Q588.057 33.9709 584.654 33.1607 Q581.251 32.3505 577.605 32.3505 Q572.056 32.3505 569.261 34.0519 Q566.506 35.7533 566.506 39.156 Q566.506 41.7486 568.491 43.2475 Q570.476 44.7058 576.471 46.0426 L579.023 46.6097 Q586.963 48.3111 590.285 51.4303 Q593.647 54.509 593.647 60.0587 Q593.647 66.3781 588.624 70.0644 Q583.641 73.7508 574.891 73.7508 Q571.245 73.7508 567.276 73.0216 Q563.346 72.3329 558.971 70.9151 L558.971 63.2184 Q563.103 65.3654 567.114 66.4591 Q571.124 67.5124 575.053 67.5124 Q580.319 67.5124 583.155 65.73 Q585.991 63.9071 585.991 60.6258 Q585.991 57.5877 583.925 55.9673 Q581.899 54.3469 574.972 52.8481 L572.38 52.2405 Q565.453 50.7821 562.374 47.7845 Q559.295 44.7463 559.295 39.4801 Q559.295 33.0797 563.832 29.5959 Q568.369 26.1121 576.714 26.1121 Q580.846 26.1121 584.492 26.7198 Q588.138 27.3274 591.216 28.5427 Z\" fill=\"#000000\" fill-rule=\"evenodd\" fill-opacity=\"1\" /><path clip-path=\"url(#clip260)\" d=\"M626.135 49.7694 Q617.102 49.7694 613.618 51.8354 Q610.134 53.9013 610.134 58.8839 Q610.134 62.8538 612.727 65.2034 Q615.36 67.5124 619.856 67.5124 Q626.054 67.5124 629.781 63.1374 Q633.548 58.7219 633.548 51.4303 L633.548 49.7694 L626.135 49.7694 M641.002 46.6907 L641.002 72.576 L633.548 72.576 L633.548 65.6895 Q630.996 69.8214 627.188 71.8063 Q623.381 73.7508 617.871 73.7508 Q610.904 73.7508 606.772 69.8619 Q602.68 65.9325 602.68 59.3701 Q602.68 51.7138 607.785 47.825 Q612.929 43.9361 623.097 43.9361 L633.548 43.9361 L633.548 43.2069 Q633.548 38.0623 630.146 35.2672 Q626.783 32.4315 620.667 32.4315 Q616.778 32.4315 613.091 33.3632 Q609.405 34.295 606.002 36.1584 L606.002 29.2718 Q610.094 27.692 613.942 26.9223 Q617.79 26.1121 621.436 26.1121 Q631.28 26.1121 636.141 31.2163 Q641.002 36.3204 641.002 46.6907 Z\" fill=\"#000000\" fill-rule=\"evenodd\" fill-opacity=\"1\" /><path clip-path=\"url(#clip260)\" d=\"M656.355 9.54393 L663.809 9.54393 L663.809 72.576 L656.355 72.576 L656.355 9.54393 Z\" fill=\"#000000\" fill-rule=\"evenodd\" fill-opacity=\"1\" /><path clip-path=\"url(#clip260)\" d=\"M679.405 27.2059 L686.858 27.2059 L686.858 72.576 L679.405 72.576 L679.405 27.2059 M679.405 9.54393 L686.858 9.54393 L686.858 18.9825 L679.405 18.9825 L679.405 9.54393 Z\" fill=\"#000000\" fill-rule=\"evenodd\" fill-opacity=\"1\" /><path clip-path=\"url(#clip260)\" d=\"M709.827 14.324 L709.827 27.2059 L725.18 27.2059 L725.18 32.9987 L709.827 32.9987 L709.827 57.6282 Q709.827 63.1779 711.326 64.7578 Q712.865 66.3376 717.524 66.3376 L725.18 66.3376 L725.18 72.576 L717.524 72.576 Q708.895 72.576 705.614 69.3758 Q702.333 66.1351 702.333 57.6282 L702.333 32.9987 L696.864 32.9987 L696.864 27.2059 L702.333 27.2059 L702.333 14.324 L709.827 14.324 Z\" fill=\"#000000\" fill-rule=\"evenodd\" fill-opacity=\"1\" /><path clip-path=\"url(#clip260)\" d=\"M753.86 76.7889 Q750.701 84.8907 747.703 87.3618 Q744.705 89.8329 739.682 89.8329 L733.727 89.8329 L733.727 83.5945 L738.102 83.5945 Q741.181 83.5945 742.882 82.1361 Q744.584 80.6778 746.65 75.2496 L747.986 71.8468 L729.636 27.2059 L737.535 27.2059 L751.713 62.6918 L765.891 27.2059 L773.791 27.2059 L753.86 76.7889 Z\" fill=\"#000000\" fill-rule=\"evenodd\" fill-opacity=\"1\" /><path clip-path=\"url(#clip260)\" d=\"M826.371 72.576 L803.281 12.096 L811.829 12.096 L830.989 63.0159 L850.191 12.096 L858.698 12.096 L835.648 72.576 L826.371 72.576 Z\" fill=\"#000000\" fill-rule=\"evenodd\" fill-opacity=\"1\" /><path clip-path=\"url(#clip260)\" d=\"M903.784 14.0809 L903.784 22.0612 Q899.126 19.8332 894.994 18.7395 Q890.862 17.6457 887.013 17.6457 Q880.329 17.6457 876.684 20.2383 Q873.078 22.8309 873.078 27.611 Q873.078 31.6214 875.468 33.6873 Q877.899 35.7128 884.623 36.9686 L889.566 37.9813 Q898.721 39.7232 903.055 44.1387 Q907.43 48.5136 907.43 55.8863 Q907.43 64.6767 901.516 69.2137 Q895.642 73.7508 884.259 73.7508 Q879.965 73.7508 875.104 72.7785 Q870.283 71.8063 865.098 69.9024 L865.098 61.4765 Q870.081 64.2716 874.861 65.6895 Q879.641 67.1073 884.259 67.1073 Q891.267 67.1073 895.075 64.3527 Q898.883 61.598 898.883 56.4939 Q898.883 52.0379 896.128 49.5264 Q893.414 47.0148 887.175 45.759 L882.193 44.7868 Q873.038 42.9639 868.946 39.075 Q864.855 35.1862 864.855 28.2591 Q864.855 20.2383 870.486 15.6203 Q876.157 11.0023 886.082 11.0023 Q890.335 11.0023 894.751 11.7719 Q899.166 12.5416 903.784 14.0809 Z\" fill=\"#000000\" fill-rule=\"evenodd\" fill-opacity=\"1\" /><path clip-path=\"url(#clip260)\" d=\"M982.817 14.0809 L982.817 22.0612 Q978.159 19.8332 974.027 18.7395 Q969.895 17.6457 966.047 17.6457 Q959.363 17.6457 955.717 20.2383 Q952.111 22.8309 952.111 27.611 Q952.111 31.6214 954.502 33.6873 Q956.932 35.7128 963.657 36.9686 L968.599 37.9813 Q977.754 39.7232 982.088 44.1387 Q986.463 48.5136 986.463 55.8863 Q986.463 64.6767 980.549 69.2137 Q974.675 73.7508 963.292 73.7508 Q958.998 73.7508 954.137 72.7785 Q949.316 71.8063 944.131 69.9024 L944.131 61.4765 Q949.114 64.2716 953.894 65.6895 Q958.674 67.1073 963.292 67.1073 Q970.3 67.1073 974.108 64.3527 Q977.916 61.598 977.916 56.4939 Q977.916 52.0379 975.161 49.5264 Q972.447 47.0148 966.209 45.759 L961.226 44.7868 Q952.071 42.9639 947.98 39.075 Q943.888 35.1862 943.888 28.2591 Q943.888 20.2383 949.519 15.6203 Q955.19 11.0023 965.115 11.0023 Q969.368 11.0023 973.784 11.7719 Q978.199 12.5416 982.817 14.0809 Z\" fill=\"#000000\" fill-rule=\"evenodd\" fill-opacity=\"1\" /><path clip-path=\"url(#clip260)\" d=\"M998.899 27.2059 L1006.35 27.2059 L1006.35 72.576 L998.899 72.576 L998.899 27.2059 M998.899 9.54393 L1006.35 9.54393 L1006.35 18.9825 L998.899 18.9825 L998.899 9.54393 Z\" fill=\"#000000\" fill-rule=\"evenodd\" fill-opacity=\"1\" /><path clip-path=\"url(#clip260)\" d=\"M1054.52 49.9314 Q1054.52 41.7081 1051.12 37.0496 Q1047.75 32.3505 1041.84 32.3505 Q1035.92 32.3505 1032.52 37.0496 Q1029.16 41.7081 1029.16 49.9314 Q1029.16 58.1548 1032.52 62.8538 Q1035.92 67.5124 1041.84 67.5124 Q1047.75 67.5124 1051.12 62.8538 Q1054.52 58.1548 1054.52 49.9314 M1029.16 34.0924 Q1031.51 30.0415 1035.07 28.0971 Q1038.68 26.1121 1043.66 26.1121 Q1051.93 26.1121 1057.07 32.6746 Q1062.26 39.2371 1062.26 49.9314 Q1062.26 60.6258 1057.07 67.1883 Q1051.93 73.7508 1043.66 73.7508 Q1038.68 73.7508 1035.07 71.8063 Q1031.51 69.8214 1029.16 65.7705 L1029.16 72.576 L1021.67 72.576 L1021.67 9.54393 L1029.16 9.54393 L1029.16 34.0924 Z\" fill=\"#000000\" fill-rule=\"evenodd\" fill-opacity=\"1\" /><path clip-path=\"url(#clip260)\" d=\"M1121.52 20.1573 L1110.42 50.2555 L1132.66 50.2555 L1121.52 20.1573 M1116.9 12.096 L1126.18 12.096 L1149.23 72.576 L1140.72 72.576 L1135.21 57.061 L1107.95 57.061 L1102.44 72.576 L1093.81 72.576 L1116.9 12.096 Z\" fill=\"#000000\" fill-rule=\"evenodd\" fill-opacity=\"1\" /><path clip-path=\"url(#clip260)\" d=\"M1157.13 12.096 L1165.35 12.096 L1165.35 48.8377 Q1165.35 58.5599 1168.88 62.8538 Q1172.4 67.1073 1180.3 67.1073 Q1188.16 67.1073 1191.68 62.8538 Q1195.21 58.5599 1195.21 48.8377 L1195.21 12.096 L1203.43 12.096 L1203.43 49.8504 Q1203.43 61.6791 1197.56 67.7149 Q1191.72 73.7508 1180.3 73.7508 Q1168.83 73.7508 1162.96 67.7149 Q1157.13 61.6791 1157.13 49.8504 L1157.13 12.096 Z\" fill=\"#000000\" fill-rule=\"evenodd\" fill-opacity=\"1\" /><path clip-path=\"url(#clip260)\" d=\"M1247.46 44.2197 Q1250.1 45.1109 1252.57 48.0275 Q1255.08 50.9442 1257.59 56.0483 L1265.89 72.576 L1257.1 72.576 L1249.37 57.061 Q1246.37 50.9847 1243.53 48.9997 Q1240.74 47.0148 1235.88 47.0148 L1226.97 47.0148 L1226.97 72.576 L1218.78 72.576 L1218.78 12.096 L1237.25 12.096 Q1247.62 12.096 1252.73 16.4305 Q1257.83 20.7649 1257.83 29.5149 Q1257.83 35.2267 1255.16 38.994 Q1252.53 42.7613 1247.46 44.2197 M1226.97 18.8205 L1226.97 40.2903 L1237.25 40.2903 Q1243.17 40.2903 1246.17 37.5762 Q1249.2 34.8216 1249.2 29.5149 Q1249.2 24.2082 1246.17 21.5346 Q1243.17 18.8205 1237.25 18.8205 L1226.97 18.8205 Z\" fill=\"#000000\" fill-rule=\"evenodd\" fill-opacity=\"1\" /><path clip-path=\"url(#clip260)\" d=\"M1300.98 17.6457 Q1292.06 17.6457 1286.8 24.2892 Q1281.57 30.9327 1281.57 42.3968 Q1281.57 53.8203 1286.8 60.4638 Q1292.06 67.1073 1300.98 67.1073 Q1309.89 67.1073 1315.07 60.4638 Q1320.3 53.8203 1320.3 42.3968 Q1320.3 30.9327 1315.07 24.2892 Q1309.89 17.6457 1300.98 17.6457 M1300.98 11.0023 Q1313.7 11.0023 1321.31 19.5497 Q1328.93 28.0566 1328.93 42.3968 Q1328.93 56.6965 1321.31 65.2439 Q1313.7 73.7508 1300.98 73.7508 Q1288.22 73.7508 1280.56 65.2439 Q1272.94 56.737 1272.94 42.3968 Q1272.94 28.0566 1280.56 19.5497 Q1288.22 11.0023 1300.98 11.0023 Z\" fill=\"#000000\" fill-rule=\"evenodd\" fill-opacity=\"1\" /><path clip-path=\"url(#clip260)\" d=\"M1387.02 16.7545 L1387.02 25.383 Q1382.88 21.5346 1378.19 19.6307 Q1373.53 17.7268 1368.26 17.7268 Q1357.89 17.7268 1352.38 24.0867 Q1346.87 30.4061 1346.87 42.3968 Q1346.87 54.3469 1352.38 60.7069 Q1357.89 67.0263 1368.26 67.0263 Q1373.53 67.0263 1378.19 65.1223 Q1382.88 63.2184 1387.02 59.3701 L1387.02 67.9175 Q1382.72 70.8341 1377.9 72.2924 Q1373.12 73.7508 1367.77 73.7508 Q1354.04 73.7508 1346.14 65.3654 Q1338.24 56.9395 1338.24 42.3968 Q1338.24 27.8135 1346.14 19.4281 Q1354.04 11.0023 1367.77 11.0023 Q1373.2 11.0023 1377.98 12.4606 Q1382.8 13.8784 1387.02 16.7545 Z\" fill=\"#000000\" fill-rule=\"evenodd\" fill-opacity=\"1\" /><path clip-path=\"url(#clip260)\" d=\"M1425.7 27.2059 L1433.16 27.2059 L1433.16 72.576 L1425.7 72.576 L1425.7 27.2059 M1425.7 9.54393 L1433.16 9.54393 L1433.16 18.9825 L1425.7 18.9825 L1425.7 9.54393 Z\" fill=\"#000000\" fill-rule=\"evenodd\" fill-opacity=\"1\" /><path clip-path=\"url(#clip260)\" d=\"M1486.47 45.1919 L1486.47 72.576 L1479.01 72.576 L1479.01 45.4349 Q1479.01 38.994 1476.5 35.7938 Q1473.99 32.5936 1468.97 32.5936 Q1462.93 32.5936 1459.45 36.4419 Q1455.96 40.2903 1455.96 46.9338 L1455.96 72.576 L1448.47 72.576 L1448.47 27.2059 L1455.96 27.2059 L1455.96 34.2544 Q1458.64 30.163 1462.24 28.1376 Q1465.89 26.1121 1470.63 26.1121 Q1478.45 26.1121 1482.46 30.9732 Q1486.47 35.7938 1486.47 45.1919 Z\" fill=\"#000000\" fill-rule=\"evenodd\" fill-opacity=\"1\" /><path clip-path=\"url(#clip260)\" d=\"M1550.67 9.54393 L1550.67 15.7418 L1543.54 15.7418 Q1539.53 15.7418 1537.95 17.3622 Q1536.41 18.9825 1536.41 23.1955 L1536.41 27.2059 L1548.69 27.2059 L1548.69 32.9987 L1536.41 32.9987 L1536.41 72.576 L1528.92 72.576 L1528.92 32.9987 L1521.79 32.9987 L1521.79 27.2059 L1528.92 27.2059 L1528.92 24.0462 Q1528.92 16.471 1532.44 13.0277 Q1535.97 9.54393 1543.62 9.54393 L1550.67 9.54393 Z\" fill=\"#000000\" fill-rule=\"evenodd\" fill-opacity=\"1\" /><path clip-path=\"url(#clip260)\" d=\"M1556.14 54.671 L1556.14 27.2059 L1563.6 27.2059 L1563.6 54.3874 Q1563.6 60.8284 1566.11 64.0691 Q1568.62 67.2693 1573.64 67.2693 Q1579.68 67.2693 1583.16 63.421 Q1586.69 59.5726 1586.69 52.9291 L1586.69 27.2059 L1594.14 27.2059 L1594.14 72.576 L1586.69 72.576 L1586.69 65.6084 Q1583.97 69.7404 1580.37 71.7658 Q1576.8 73.7508 1572.06 73.7508 Q1564.24 73.7508 1560.19 68.8897 Q1556.14 64.0286 1556.14 54.671 M1574.9 26.1121 L1574.9 26.1121 Z\" fill=\"#000000\" fill-rule=\"evenodd\" fill-opacity=\"1\" /><path clip-path=\"url(#clip260)\" d=\"M1647.21 45.1919 L1647.21 72.576 L1639.75 72.576 L1639.75 45.4349 Q1639.75 38.994 1637.24 35.7938 Q1634.73 32.5936 1629.71 32.5936 Q1623.67 32.5936 1620.19 36.4419 Q1616.7 40.2903 1616.7 46.9338 L1616.7 72.576 L1609.21 72.576 L1609.21 27.2059 L1616.7 27.2059 L1616.7 34.2544 Q1619.38 30.163 1622.98 28.1376 Q1626.63 26.1121 1631.37 26.1121 Q1639.19 26.1121 1643.2 30.9732 Q1647.21 35.7938 1647.21 45.1919 Z\" fill=\"#000000\" fill-rule=\"evenodd\" fill-opacity=\"1\" /><path clip-path=\"url(#clip260)\" d=\"M1694.72 28.9478 L1694.72 35.9153 Q1691.56 34.1734 1688.36 33.3227 Q1685.2 32.4315 1681.96 32.4315 Q1674.71 32.4315 1670.7 37.0496 Q1666.69 41.6271 1666.69 49.9314 Q1666.69 58.2358 1670.7 62.8538 Q1674.71 67.4314 1681.96 67.4314 Q1685.2 67.4314 1688.36 66.5807 Q1691.56 65.6895 1694.72 63.9476 L1694.72 70.8341 Q1691.6 72.2924 1688.24 73.0216 Q1684.92 73.7508 1681.15 73.7508 Q1670.9 73.7508 1664.87 67.3098 Q1658.83 60.8689 1658.83 49.9314 Q1658.83 38.832 1664.91 32.472 Q1671.03 26.1121 1681.64 26.1121 Q1685.08 26.1121 1688.36 26.8413 Q1691.64 27.5299 1694.72 28.9478 Z\" fill=\"#000000\" fill-rule=\"evenodd\" fill-opacity=\"1\" /><path clip-path=\"url(#clip260)\" d=\"M1715.06 14.324 L1715.06 27.2059 L1730.41 27.2059 L1730.41 32.9987 L1715.06 32.9987 L1715.06 57.6282 Q1715.06 63.1779 1716.56 64.7578 Q1718.1 66.3376 1722.76 66.3376 L1730.41 66.3376 L1730.41 72.576 L1722.76 72.576 Q1714.13 72.576 1710.85 69.3758 Q1707.56 66.1351 1707.56 57.6282 L1707.56 32.9987 L1702.1 32.9987 L1702.1 27.2059 L1707.56 27.2059 L1707.56 14.324 L1715.06 14.324 Z\" fill=\"#000000\" fill-rule=\"evenodd\" fill-opacity=\"1\" /><path clip-path=\"url(#clip260)\" d=\"M1740.21 27.2059 L1747.67 27.2059 L1747.67 72.576 L1740.21 72.576 L1740.21 27.2059 M1740.21 9.54393 L1747.67 9.54393 L1747.67 18.9825 L1740.21 18.9825 L1740.21 9.54393 Z\" fill=\"#000000\" fill-rule=\"evenodd\" fill-opacity=\"1\" /><path clip-path=\"url(#clip260)\" d=\"M1780.85 32.4315 Q1774.85 32.4315 1771.37 37.1306 Q1767.88 41.7891 1767.88 49.9314 Q1767.88 58.0738 1771.33 62.7728 Q1774.81 67.4314 1780.85 67.4314 Q1786.8 67.4314 1790.28 62.7323 Q1793.77 58.0333 1793.77 49.9314 Q1793.77 41.8701 1790.28 37.1711 Q1786.8 32.4315 1780.85 32.4315 M1780.85 26.1121 Q1790.57 26.1121 1796.12 32.4315 Q1801.67 38.7509 1801.67 49.9314 Q1801.67 61.0714 1796.12 67.4314 Q1790.57 73.7508 1780.85 73.7508 Q1771.08 73.7508 1765.53 67.4314 Q1760.02 61.0714 1760.02 49.9314 Q1760.02 38.7509 1765.53 32.4315 Q1771.08 26.1121 1780.85 26.1121 Z\" fill=\"#000000\" fill-rule=\"evenodd\" fill-opacity=\"1\" /><path clip-path=\"url(#clip260)\" d=\"M1851.74 45.1919 L1851.74 72.576 L1844.28 72.576 L1844.28 45.4349 Q1844.28 38.994 1841.77 35.7938 Q1839.26 32.5936 1834.24 32.5936 Q1828.2 32.5936 1824.72 36.4419 Q1821.23 40.2903 1821.23 46.9338 L1821.23 72.576 L1813.74 72.576 L1813.74 27.2059 L1821.23 27.2059 L1821.23 34.2544 Q1823.91 30.163 1827.51 28.1376 Q1831.16 26.1121 1835.9 26.1121 Q1843.72 26.1121 1847.73 30.9732 Q1851.74 35.7938 1851.74 45.1919 Z\" fill=\"#000000\" fill-rule=\"evenodd\" fill-opacity=\"1\" /><path clip-path=\"url(#clip260)\" d=\"M1910.56 32.4315 Q1904.56 32.4315 1901.08 37.1306 Q1897.59 41.7891 1897.59 49.9314 Q1897.59 58.0738 1901.04 62.7728 Q1904.52 67.4314 1910.56 67.4314 Q1916.51 67.4314 1919.99 62.7323 Q1923.48 58.0333 1923.48 49.9314 Q1923.48 41.8701 1919.99 37.1711 Q1916.51 32.4315 1910.56 32.4315 M1910.56 26.1121 Q1920.28 26.1121 1925.83 32.4315 Q1931.38 38.7509 1931.38 49.9314 Q1931.38 61.0714 1925.83 67.4314 Q1920.28 73.7508 1910.56 73.7508 Q1900.79 73.7508 1895.24 67.4314 Q1889.73 61.0714 1889.73 49.9314 Q1889.73 38.7509 1895.24 32.4315 Q1900.79 26.1121 1910.56 26.1121 Z\" fill=\"#000000\" fill-rule=\"evenodd\" fill-opacity=\"1\" /><path clip-path=\"url(#clip260)\" d=\"M1966.7 9.54393 L1966.7 15.7418 L1959.57 15.7418 Q1955.56 15.7418 1953.98 17.3622 Q1952.44 18.9825 1952.44 23.1955 L1952.44 27.2059 L1964.72 27.2059 L1964.72 32.9987 L1952.44 32.9987 L1952.44 72.576 L1944.95 72.576 L1944.95 32.9987 L1937.82 32.9987 L1937.82 27.2059 L1944.95 27.2059 L1944.95 24.0462 Q1944.95 16.471 1948.47 13.0277 Q1952 9.54393 1959.65 9.54393 L1966.7 9.54393 Z\" fill=\"#000000\" fill-rule=\"evenodd\" fill-opacity=\"1\" /><path clip-path=\"url(#clip260)\" d=\"M2006.68 14.324 L2006.68 27.2059 L2022.04 27.2059 L2022.04 32.9987 L2006.68 32.9987 L2006.68 57.6282 Q2006.68 63.1779 2008.18 64.7578 Q2009.72 66.3376 2014.38 66.3376 L2022.04 66.3376 L2022.04 72.576 L2014.38 72.576 Q2005.75 72.576 2002.47 69.3758 Q1999.19 66.1351 1999.19 57.6282 L1999.19 32.9987 L1993.72 32.9987 L1993.72 27.2059 L1999.19 27.2059 L1999.19 14.324 L2006.68 14.324 Z\" fill=\"#000000\" fill-rule=\"evenodd\" fill-opacity=\"1\" /><path clip-path=\"url(#clip260)\" d=\"M2031.84 27.2059 L2039.29 27.2059 L2039.29 72.576 L2031.84 72.576 L2031.84 27.2059 M2031.84 9.54393 L2039.29 9.54393 L2039.29 18.9825 L2031.84 18.9825 L2031.84 9.54393 Z\" fill=\"#000000\" fill-rule=\"evenodd\" fill-opacity=\"1\" /><path clip-path=\"url(#clip260)\" d=\"M2090.21 35.9153 Q2093.01 30.8922 2096.9 28.5022 Q2100.79 26.1121 2106.05 26.1121 Q2113.14 26.1121 2116.99 31.0947 Q2120.84 36.0368 2120.84 45.1919 L2120.84 72.576 L2113.34 72.576 L2113.34 45.4349 Q2113.34 38.913 2111.03 35.7533 Q2108.73 32.5936 2103.99 32.5936 Q2098.19 32.5936 2094.83 36.4419 Q2091.47 40.2903 2091.47 46.9338 L2091.47 72.576 L2083.97 72.576 L2083.97 45.4349 Q2083.97 38.8725 2081.67 35.7533 Q2079.36 32.5936 2074.54 32.5936 Q2068.82 32.5936 2065.46 36.4824 Q2062.1 40.3308 2062.1 46.9338 L2062.1 72.576 L2054.61 72.576 L2054.61 27.2059 L2062.1 27.2059 L2062.1 34.2544 Q2064.65 30.082 2068.22 28.0971 Q2071.78 26.1121 2076.68 26.1121 Q2081.63 26.1121 2085.07 28.6237 Q2088.55 31.1352 2090.21 35.9153 Z\" fill=\"#000000\" fill-rule=\"evenodd\" fill-opacity=\"1\" /><path clip-path=\"url(#clip260)\" d=\"M2174.51 48.0275 L2174.51 51.6733 L2140.24 51.6733 Q2140.73 59.3701 2144.86 63.421 Q2149.03 67.4314 2156.45 67.4314 Q2160.74 67.4314 2164.75 66.3781 Q2168.8 65.3249 2172.77 63.2184 L2172.77 70.267 Q2168.76 71.9684 2164.55 72.8596 Q2160.33 73.7508 2156 73.7508 Q2145.14 73.7508 2138.78 67.4314 Q2132.46 61.1119 2132.46 50.3365 Q2132.46 39.1965 2138.46 32.6746 Q2144.5 26.1121 2154.7 26.1121 Q2163.86 26.1121 2169.17 32.0264 Q2174.51 37.9003 2174.51 48.0275 M2167.06 45.84 Q2166.98 39.7232 2163.62 36.0774 Q2160.29 32.4315 2154.78 32.4315 Q2148.55 32.4315 2144.78 35.9558 Q2141.05 39.4801 2140.48 45.8805 L2167.06 45.84 Z\" fill=\"#000000\" fill-rule=\"evenodd\" fill-opacity=\"1\" /><circle clip-path=\"url(#clip262)\" cx=\"279.916\" cy=\"595.592\" r=\"14\" fill=\"#009af9\" fill-rule=\"evenodd\" fill-opacity=\"1\" stroke=\"#000000\" stroke-opacity=\"1\" stroke-width=\"3.2\"/>\n",
       "<circle clip-path=\"url(#clip262)\" cx=\"385.835\" cy=\"940.877\" r=\"14\" fill=\"#009af9\" fill-rule=\"evenodd\" fill-opacity=\"1\" stroke=\"#000000\" stroke-opacity=\"1\" stroke-width=\"3.2\"/>\n",
       "<circle clip-path=\"url(#clip262)\" cx=\"491.755\" cy=\"1024.97\" r=\"14\" fill=\"#009af9\" fill-rule=\"evenodd\" fill-opacity=\"1\" stroke=\"#000000\" stroke-opacity=\"1\" stroke-width=\"3.2\"/>\n",
       "<circle clip-path=\"url(#clip262)\" cx=\"597.674\" cy=\"1044.92\" r=\"14\" fill=\"#009af9\" fill-rule=\"evenodd\" fill-opacity=\"1\" stroke=\"#000000\" stroke-opacity=\"1\" stroke-width=\"3.2\"/>\n",
       "<circle clip-path=\"url(#clip262)\" cx=\"703.593\" cy=\"1051.69\" r=\"14\" fill=\"#009af9\" fill-rule=\"evenodd\" fill-opacity=\"1\" stroke=\"#000000\" stroke-opacity=\"1\" stroke-width=\"3.2\"/>\n",
       "<circle clip-path=\"url(#clip262)\" cx=\"809.512\" cy=\"974.948\" r=\"14\" fill=\"#009af9\" fill-rule=\"evenodd\" fill-opacity=\"1\" stroke=\"#000000\" stroke-opacity=\"1\" stroke-width=\"3.2\"/>\n",
       "<circle clip-path=\"url(#clip262)\" cx=\"915.432\" cy=\"884.336\" r=\"14\" fill=\"#009af9\" fill-rule=\"evenodd\" fill-opacity=\"1\" stroke=\"#000000\" stroke-opacity=\"1\" stroke-width=\"3.2\"/>\n",
       "<circle clip-path=\"url(#clip262)\" cx=\"1021.35\" cy=\"849.49\" r=\"14\" fill=\"#009af9\" fill-rule=\"evenodd\" fill-opacity=\"1\" stroke=\"#000000\" stroke-opacity=\"1\" stroke-width=\"3.2\"/>\n",
       "<circle clip-path=\"url(#clip262)\" cx=\"1127.27\" cy=\"752.311\" r=\"14\" fill=\"#009af9\" fill-rule=\"evenodd\" fill-opacity=\"1\" stroke=\"#000000\" stroke-opacity=\"1\" stroke-width=\"3.2\"/>\n",
       "<circle clip-path=\"url(#clip262)\" cx=\"1233.19\" cy=\"699.525\" r=\"14\" fill=\"#009af9\" fill-rule=\"evenodd\" fill-opacity=\"1\" stroke=\"#000000\" stroke-opacity=\"1\" stroke-width=\"3.2\"/>\n",
       "<circle clip-path=\"url(#clip262)\" cx=\"1339.11\" cy=\"632.291\" r=\"14\" fill=\"#009af9\" fill-rule=\"evenodd\" fill-opacity=\"1\" stroke=\"#000000\" stroke-opacity=\"1\" stroke-width=\"3.2\"/>\n",
       "<circle clip-path=\"url(#clip262)\" cx=\"1445.03\" cy=\"555.027\" r=\"14\" fill=\"#009af9\" fill-rule=\"evenodd\" fill-opacity=\"1\" stroke=\"#000000\" stroke-opacity=\"1\" stroke-width=\"3.2\"/>\n",
       "<circle clip-path=\"url(#clip262)\" cx=\"1550.95\" cy=\"396.677\" r=\"14\" fill=\"#009af9\" fill-rule=\"evenodd\" fill-opacity=\"1\" stroke=\"#000000\" stroke-opacity=\"1\" stroke-width=\"3.2\"/>\n",
       "<circle clip-path=\"url(#clip262)\" cx=\"1656.87\" cy=\"306.281\" r=\"14\" fill=\"#009af9\" fill-rule=\"evenodd\" fill-opacity=\"1\" stroke=\"#000000\" stroke-opacity=\"1\" stroke-width=\"3.2\"/>\n",
       "<circle clip-path=\"url(#clip262)\" cx=\"1762.79\" cy=\"244.209\" r=\"14\" fill=\"#009af9\" fill-rule=\"evenodd\" fill-opacity=\"1\" stroke=\"#000000\" stroke-opacity=\"1\" stroke-width=\"3.2\"/>\n",
       "<circle clip-path=\"url(#clip262)\" cx=\"1868.7\" cy=\"190.988\" r=\"14\" fill=\"#009af9\" fill-rule=\"evenodd\" fill-opacity=\"1\" stroke=\"#000000\" stroke-opacity=\"1\" stroke-width=\"3.2\"/>\n",
       "<circle clip-path=\"url(#clip262)\" cx=\"1974.62\" cy=\"198.365\" r=\"14\" fill=\"#009af9\" fill-rule=\"evenodd\" fill-opacity=\"1\" stroke=\"#000000\" stroke-opacity=\"1\" stroke-width=\"3.2\"/>\n",
       "<circle clip-path=\"url(#clip262)\" cx=\"2080.54\" cy=\"268.729\" r=\"14\" fill=\"#009af9\" fill-rule=\"evenodd\" fill-opacity=\"1\" stroke=\"#000000\" stroke-opacity=\"1\" stroke-width=\"3.2\"/>\n",
       "<circle clip-path=\"url(#clip262)\" cx=\"2186.46\" cy=\"326.76\" r=\"14\" fill=\"#009af9\" fill-rule=\"evenodd\" fill-opacity=\"1\" stroke=\"#000000\" stroke-opacity=\"1\" stroke-width=\"3.2\"/>\n",
       "<circle clip-path=\"url(#clip262)\" cx=\"2292.38\" cy=\"341.745\" r=\"14\" fill=\"#009af9\" fill-rule=\"evenodd\" fill-opacity=\"1\" stroke=\"#000000\" stroke-opacity=\"1\" stroke-width=\"3.2\"/>\n",
       "<circle clip-path=\"url(#clip262)\" cx=\"279.916\" cy=\"286.158\" r=\"14\" fill=\"#e26f46\" fill-rule=\"evenodd\" fill-opacity=\"1\" stroke=\"#000000\" stroke-opacity=\"1\" stroke-width=\"3.2\"/>\n",
       "<circle clip-path=\"url(#clip262)\" cx=\"385.835\" cy=\"494.329\" r=\"14\" fill=\"#e26f46\" fill-rule=\"evenodd\" fill-opacity=\"1\" stroke=\"#000000\" stroke-opacity=\"1\" stroke-width=\"3.2\"/>\n",
       "<circle clip-path=\"url(#clip262)\" cx=\"491.755\" cy=\"593.054\" r=\"14\" fill=\"#e26f46\" fill-rule=\"evenodd\" fill-opacity=\"1\" stroke=\"#000000\" stroke-opacity=\"1\" stroke-width=\"3.2\"/>\n",
       "<circle clip-path=\"url(#clip262)\" cx=\"597.674\" cy=\"720.322\" r=\"14\" fill=\"#e26f46\" fill-rule=\"evenodd\" fill-opacity=\"1\" stroke=\"#000000\" stroke-opacity=\"1\" stroke-width=\"3.2\"/>\n",
       "<circle clip-path=\"url(#clip262)\" cx=\"703.593\" cy=\"729.463\" r=\"14\" fill=\"#e26f46\" fill-rule=\"evenodd\" fill-opacity=\"1\" stroke=\"#000000\" stroke-opacity=\"1\" stroke-width=\"3.2\"/>\n",
       "<circle clip-path=\"url(#clip262)\" cx=\"809.512\" cy=\"679.047\" r=\"14\" fill=\"#e26f46\" fill-rule=\"evenodd\" fill-opacity=\"1\" stroke=\"#000000\" stroke-opacity=\"1\" stroke-width=\"3.2\"/>\n",
       "<circle clip-path=\"url(#clip262)\" cx=\"915.432\" cy=\"606.609\" r=\"14\" fill=\"#e26f46\" fill-rule=\"evenodd\" fill-opacity=\"1\" stroke=\"#000000\" stroke-opacity=\"1\" stroke-width=\"3.2\"/>\n",
       "<circle clip-path=\"url(#clip262)\" cx=\"1021.35\" cy=\"535.423\" r=\"14\" fill=\"#e26f46\" fill-rule=\"evenodd\" fill-opacity=\"1\" stroke=\"#000000\" stroke-opacity=\"1\" stroke-width=\"3.2\"/>\n",
       "<circle clip-path=\"url(#clip262)\" cx=\"1127.27\" cy=\"443.034\" r=\"14\" fill=\"#e26f46\" fill-rule=\"evenodd\" fill-opacity=\"1\" stroke=\"#000000\" stroke-opacity=\"1\" stroke-width=\"3.2\"/>\n",
       "<circle clip-path=\"url(#clip262)\" cx=\"1233.19\" cy=\"420.335\" r=\"14\" fill=\"#e26f46\" fill-rule=\"evenodd\" fill-opacity=\"1\" stroke=\"#000000\" stroke-opacity=\"1\" stroke-width=\"3.2\"/>\n",
       "<circle clip-path=\"url(#clip262)\" cx=\"1339.11\" cy=\"404.751\" r=\"14\" fill=\"#e26f46\" fill-rule=\"evenodd\" fill-opacity=\"1\" stroke=\"#000000\" stroke-opacity=\"1\" stroke-width=\"3.2\"/>\n",
       "<circle clip-path=\"url(#clip262)\" cx=\"1445.03\" cy=\"373.589\" r=\"14\" fill=\"#e26f46\" fill-rule=\"evenodd\" fill-opacity=\"1\" stroke=\"#000000\" stroke-opacity=\"1\" stroke-width=\"3.2\"/>\n",
       "<circle clip-path=\"url(#clip262)\" cx=\"1550.95\" cy=\"319.653\" r=\"14\" fill=\"#e26f46\" fill-rule=\"evenodd\" fill-opacity=\"1\" stroke=\"#000000\" stroke-opacity=\"1\" stroke-width=\"3.2\"/>\n",
       "<circle clip-path=\"url(#clip262)\" cx=\"1656.87\" cy=\"279.964\" r=\"14\" fill=\"#e26f46\" fill-rule=\"evenodd\" fill-opacity=\"1\" stroke=\"#000000\" stroke-opacity=\"1\" stroke-width=\"3.2\"/>\n",
       "<circle clip-path=\"url(#clip262)\" cx=\"1762.79\" cy=\"238.278\" r=\"14\" fill=\"#e26f46\" fill-rule=\"evenodd\" fill-opacity=\"1\" stroke=\"#000000\" stroke-opacity=\"1\" stroke-width=\"3.2\"/>\n",
       "<circle clip-path=\"url(#clip262)\" cx=\"1868.7\" cy=\"179.016\" r=\"14\" fill=\"#e26f46\" fill-rule=\"evenodd\" fill-opacity=\"1\" stroke=\"#000000\" stroke-opacity=\"1\" stroke-width=\"3.2\"/>\n",
       "<circle clip-path=\"url(#clip262)\" cx=\"1974.62\" cy=\"183.715\" r=\"14\" fill=\"#e26f46\" fill-rule=\"evenodd\" fill-opacity=\"1\" stroke=\"#000000\" stroke-opacity=\"1\" stroke-width=\"3.2\"/>\n",
       "<circle clip-path=\"url(#clip262)\" cx=\"2080.54\" cy=\"257.453\" r=\"14\" fill=\"#e26f46\" fill-rule=\"evenodd\" fill-opacity=\"1\" stroke=\"#000000\" stroke-opacity=\"1\" stroke-width=\"3.2\"/>\n",
       "<circle clip-path=\"url(#clip262)\" cx=\"2186.46\" cy=\"356.661\" r=\"14\" fill=\"#e26f46\" fill-rule=\"evenodd\" fill-opacity=\"1\" stroke=\"#000000\" stroke-opacity=\"1\" stroke-width=\"3.2\"/>\n",
       "<circle clip-path=\"url(#clip262)\" cx=\"2292.38\" cy=\"371.724\" r=\"14\" fill=\"#e26f46\" fill-rule=\"evenodd\" fill-opacity=\"1\" stroke=\"#000000\" stroke-opacity=\"1\" stroke-width=\"3.2\"/>\n",
       "<circle clip-path=\"url(#clip262)\" cx=\"1021.35\" cy=\"1402.62\" r=\"14\" fill=\"#3da44d\" fill-rule=\"evenodd\" fill-opacity=\"1\" stroke=\"#000000\" stroke-opacity=\"1\" stroke-width=\"3.2\"/>\n",
       "<circle clip-path=\"url(#clip262)\" cx=\"1127.27\" cy=\"1176.4\" r=\"14\" fill=\"#3da44d\" fill-rule=\"evenodd\" fill-opacity=\"1\" stroke=\"#000000\" stroke-opacity=\"1\" stroke-width=\"3.2\"/>\n",
       "<circle clip-path=\"url(#clip262)\" cx=\"1233.19\" cy=\"1106.99\" r=\"14\" fill=\"#3da44d\" fill-rule=\"evenodd\" fill-opacity=\"1\" stroke=\"#000000\" stroke-opacity=\"1\" stroke-width=\"3.2\"/>\n",
       "<circle clip-path=\"url(#clip262)\" cx=\"1339.11\" cy=\"873.709\" r=\"14\" fill=\"#3da44d\" fill-rule=\"evenodd\" fill-opacity=\"1\" stroke=\"#000000\" stroke-opacity=\"1\" stroke-width=\"3.2\"/>\n",
       "<circle clip-path=\"url(#clip262)\" cx=\"1445.03\" cy=\"676.532\" r=\"14\" fill=\"#3da44d\" fill-rule=\"evenodd\" fill-opacity=\"1\" stroke=\"#000000\" stroke-opacity=\"1\" stroke-width=\"3.2\"/>\n",
       "<circle clip-path=\"url(#clip262)\" cx=\"1550.95\" cy=\"469.849\" r=\"14\" fill=\"#3da44d\" fill-rule=\"evenodd\" fill-opacity=\"1\" stroke=\"#000000\" stroke-opacity=\"1\" stroke-width=\"3.2\"/>\n",
       "<circle clip-path=\"url(#clip262)\" cx=\"1656.87\" cy=\"368.567\" r=\"14\" fill=\"#3da44d\" fill-rule=\"evenodd\" fill-opacity=\"1\" stroke=\"#000000\" stroke-opacity=\"1\" stroke-width=\"3.2\"/>\n",
       "<circle clip-path=\"url(#clip262)\" cx=\"1762.79\" cy=\"279.187\" r=\"14\" fill=\"#3da44d\" fill-rule=\"evenodd\" fill-opacity=\"1\" stroke=\"#000000\" stroke-opacity=\"1\" stroke-width=\"3.2\"/>\n",
       "<circle clip-path=\"url(#clip262)\" cx=\"1868.7\" cy=\"230.808\" r=\"14\" fill=\"#3da44d\" fill-rule=\"evenodd\" fill-opacity=\"1\" stroke=\"#000000\" stroke-opacity=\"1\" stroke-width=\"3.2\"/>\n",
       "<circle clip-path=\"url(#clip262)\" cx=\"1974.62\" cy=\"240.315\" r=\"14\" fill=\"#3da44d\" fill-rule=\"evenodd\" fill-opacity=\"1\" stroke=\"#000000\" stroke-opacity=\"1\" stroke-width=\"3.2\"/>\n",
       "<circle clip-path=\"url(#clip262)\" cx=\"2080.54\" cy=\"304.082\" r=\"14\" fill=\"#3da44d\" fill-rule=\"evenodd\" fill-opacity=\"1\" stroke=\"#000000\" stroke-opacity=\"1\" stroke-width=\"3.2\"/>\n",
       "<circle clip-path=\"url(#clip262)\" cx=\"2186.46\" cy=\"389.573\" r=\"14\" fill=\"#3da44d\" fill-rule=\"evenodd\" fill-opacity=\"1\" stroke=\"#000000\" stroke-opacity=\"1\" stroke-width=\"3.2\"/>\n",
       "<circle clip-path=\"url(#clip262)\" cx=\"2292.38\" cy=\"410.235\" r=\"14\" fill=\"#3da44d\" fill-rule=\"evenodd\" fill-opacity=\"1\" stroke=\"#000000\" stroke-opacity=\"1\" stroke-width=\"3.2\"/>\n",
       "<circle clip-path=\"url(#clip262)\" cx=\"279.916\" cy=\"623.81\" r=\"14\" fill=\"#c271d2\" fill-rule=\"evenodd\" fill-opacity=\"1\" stroke=\"#000000\" stroke-opacity=\"1\" stroke-width=\"3.2\"/>\n",
       "<circle clip-path=\"url(#clip262)\" cx=\"385.835\" cy=\"397.921\" r=\"14\" fill=\"#c271d2\" fill-rule=\"evenodd\" fill-opacity=\"1\" stroke=\"#000000\" stroke-opacity=\"1\" stroke-width=\"3.2\"/>\n",
       "<circle clip-path=\"url(#clip262)\" cx=\"491.755\" cy=\"428.638\" r=\"14\" fill=\"#c271d2\" fill-rule=\"evenodd\" fill-opacity=\"1\" stroke=\"#000000\" stroke-opacity=\"1\" stroke-width=\"3.2\"/>\n",
       "<circle clip-path=\"url(#clip262)\" cx=\"597.674\" cy=\"481.01\" r=\"14\" fill=\"#c271d2\" fill-rule=\"evenodd\" fill-opacity=\"1\" stroke=\"#000000\" stroke-opacity=\"1\" stroke-width=\"3.2\"/>\n",
       "<circle clip-path=\"url(#clip262)\" cx=\"703.593\" cy=\"490.056\" r=\"14\" fill=\"#c271d2\" fill-rule=\"evenodd\" fill-opacity=\"1\" stroke=\"#000000\" stroke-opacity=\"1\" stroke-width=\"3.2\"/>\n",
       "<circle clip-path=\"url(#clip262)\" cx=\"809.512\" cy=\"444.273\" r=\"14\" fill=\"#c271d2\" fill-rule=\"evenodd\" fill-opacity=\"1\" stroke=\"#000000\" stroke-opacity=\"1\" stroke-width=\"3.2\"/>\n",
       "<circle clip-path=\"url(#clip262)\" cx=\"915.432\" cy=\"403.398\" r=\"14\" fill=\"#c271d2\" fill-rule=\"evenodd\" fill-opacity=\"1\" stroke=\"#000000\" stroke-opacity=\"1\" stroke-width=\"3.2\"/>\n",
       "<circle clip-path=\"url(#clip262)\" cx=\"1021.35\" cy=\"406.552\" r=\"14\" fill=\"#c271d2\" fill-rule=\"evenodd\" fill-opacity=\"1\" stroke=\"#000000\" stroke-opacity=\"1\" stroke-width=\"3.2\"/>\n",
       "<circle clip-path=\"url(#clip262)\" cx=\"1127.27\" cy=\"409.515\" r=\"14\" fill=\"#c271d2\" fill-rule=\"evenodd\" fill-opacity=\"1\" stroke=\"#000000\" stroke-opacity=\"1\" stroke-width=\"3.2\"/>\n",
       "<circle clip-path=\"url(#clip262)\" cx=\"1233.19\" cy=\"461.638\" r=\"14\" fill=\"#c271d2\" fill-rule=\"evenodd\" fill-opacity=\"1\" stroke=\"#000000\" stroke-opacity=\"1\" stroke-width=\"3.2\"/>\n",
       "<circle clip-path=\"url(#clip262)\" cx=\"1339.11\" cy=\"474.139\" r=\"14\" fill=\"#c271d2\" fill-rule=\"evenodd\" fill-opacity=\"1\" stroke=\"#000000\" stroke-opacity=\"1\" stroke-width=\"3.2\"/>\n",
       "<circle clip-path=\"url(#clip262)\" cx=\"1445.03\" cy=\"502.351\" r=\"14\" fill=\"#c271d2\" fill-rule=\"evenodd\" fill-opacity=\"1\" stroke=\"#000000\" stroke-opacity=\"1\" stroke-width=\"3.2\"/>\n",
       "<circle clip-path=\"url(#clip262)\" cx=\"1550.95\" cy=\"434.622\" r=\"14\" fill=\"#c271d2\" fill-rule=\"evenodd\" fill-opacity=\"1\" stroke=\"#000000\" stroke-opacity=\"1\" stroke-width=\"3.2\"/>\n",
       "<circle clip-path=\"url(#clip262)\" cx=\"1656.87\" cy=\"354.317\" r=\"14\" fill=\"#c271d2\" fill-rule=\"evenodd\" fill-opacity=\"1\" stroke=\"#000000\" stroke-opacity=\"1\" stroke-width=\"3.2\"/>\n",
       "<circle clip-path=\"url(#clip262)\" cx=\"1762.79\" cy=\"270.836\" r=\"14\" fill=\"#c271d2\" fill-rule=\"evenodd\" fill-opacity=\"1\" stroke=\"#000000\" stroke-opacity=\"1\" stroke-width=\"3.2\"/>\n",
       "<circle clip-path=\"url(#clip262)\" cx=\"1868.7\" cy=\"248.375\" r=\"14\" fill=\"#c271d2\" fill-rule=\"evenodd\" fill-opacity=\"1\" stroke=\"#000000\" stroke-opacity=\"1\" stroke-width=\"3.2\"/>\n",
       "<circle clip-path=\"url(#clip262)\" cx=\"1974.62\" cy=\"280.134\" r=\"14\" fill=\"#c271d2\" fill-rule=\"evenodd\" fill-opacity=\"1\" stroke=\"#000000\" stroke-opacity=\"1\" stroke-width=\"3.2\"/>\n",
       "<circle clip-path=\"url(#clip262)\" cx=\"2080.54\" cy=\"320.692\" r=\"14\" fill=\"#c271d2\" fill-rule=\"evenodd\" fill-opacity=\"1\" stroke=\"#000000\" stroke-opacity=\"1\" stroke-width=\"3.2\"/>\n",
       "<circle clip-path=\"url(#clip262)\" cx=\"2186.46\" cy=\"437.134\" r=\"14\" fill=\"#c271d2\" fill-rule=\"evenodd\" fill-opacity=\"1\" stroke=\"#000000\" stroke-opacity=\"1\" stroke-width=\"3.2\"/>\n",
       "<circle clip-path=\"url(#clip262)\" cx=\"2292.38\" cy=\"1129.04\" r=\"14\" fill=\"#c271d2\" fill-rule=\"evenodd\" fill-opacity=\"1\" stroke=\"#000000\" stroke-opacity=\"1\" stroke-width=\"3.2\"/>\n",
       "<circle clip-path=\"url(#clip262)\" cx=\"279.916\" cy=\"349.407\" r=\"14\" fill=\"#ac8d18\" fill-rule=\"evenodd\" fill-opacity=\"1\" stroke=\"#000000\" stroke-opacity=\"1\" stroke-width=\"3.2\"/>\n",
       "<circle clip-path=\"url(#clip262)\" cx=\"385.835\" cy=\"557.365\" r=\"14\" fill=\"#ac8d18\" fill-rule=\"evenodd\" fill-opacity=\"1\" stroke=\"#000000\" stroke-opacity=\"1\" stroke-width=\"3.2\"/>\n",
       "<circle clip-path=\"url(#clip262)\" cx=\"491.755\" cy=\"737.896\" r=\"14\" fill=\"#ac8d18\" fill-rule=\"evenodd\" fill-opacity=\"1\" stroke=\"#000000\" stroke-opacity=\"1\" stroke-width=\"3.2\"/>\n",
       "<circle clip-path=\"url(#clip262)\" cx=\"597.674\" cy=\"732.969\" r=\"14\" fill=\"#ac8d18\" fill-rule=\"evenodd\" fill-opacity=\"1\" stroke=\"#000000\" stroke-opacity=\"1\" stroke-width=\"3.2\"/>\n",
       "<circle clip-path=\"url(#clip262)\" cx=\"703.593\" cy=\"745.391\" r=\"14\" fill=\"#ac8d18\" fill-rule=\"evenodd\" fill-opacity=\"1\" stroke=\"#000000\" stroke-opacity=\"1\" stroke-width=\"3.2\"/>\n",
       "<circle clip-path=\"url(#clip262)\" cx=\"809.512\" cy=\"699.099\" r=\"14\" fill=\"#ac8d18\" fill-rule=\"evenodd\" fill-opacity=\"1\" stroke=\"#000000\" stroke-opacity=\"1\" stroke-width=\"3.2\"/>\n",
       "<circle clip-path=\"url(#clip262)\" cx=\"915.432\" cy=\"654.113\" r=\"14\" fill=\"#ac8d18\" fill-rule=\"evenodd\" fill-opacity=\"1\" stroke=\"#000000\" stroke-opacity=\"1\" stroke-width=\"3.2\"/>\n",
       "<circle clip-path=\"url(#clip262)\" cx=\"1021.35\" cy=\"700.493\" r=\"14\" fill=\"#ac8d18\" fill-rule=\"evenodd\" fill-opacity=\"1\" stroke=\"#000000\" stroke-opacity=\"1\" stroke-width=\"3.2\"/>\n",
       "<circle clip-path=\"url(#clip262)\" cx=\"1127.27\" cy=\"685.679\" r=\"14\" fill=\"#ac8d18\" fill-rule=\"evenodd\" fill-opacity=\"1\" stroke=\"#000000\" stroke-opacity=\"1\" stroke-width=\"3.2\"/>\n",
       "<circle clip-path=\"url(#clip262)\" cx=\"1233.19\" cy=\"716.999\" r=\"14\" fill=\"#ac8d18\" fill-rule=\"evenodd\" fill-opacity=\"1\" stroke=\"#000000\" stroke-opacity=\"1\" stroke-width=\"3.2\"/>\n",
       "<circle clip-path=\"url(#clip262)\" cx=\"1339.11\" cy=\"706.054\" r=\"14\" fill=\"#ac8d18\" fill-rule=\"evenodd\" fill-opacity=\"1\" stroke=\"#000000\" stroke-opacity=\"1\" stroke-width=\"3.2\"/>\n",
       "<circle clip-path=\"url(#clip262)\" cx=\"1445.03\" cy=\"649.609\" r=\"14\" fill=\"#ac8d18\" fill-rule=\"evenodd\" fill-opacity=\"1\" stroke=\"#000000\" stroke-opacity=\"1\" stroke-width=\"3.2\"/>\n",
       "<circle clip-path=\"url(#clip262)\" cx=\"1550.95\" cy=\"438.36\" r=\"14\" fill=\"#ac8d18\" fill-rule=\"evenodd\" fill-opacity=\"1\" stroke=\"#000000\" stroke-opacity=\"1\" stroke-width=\"3.2\"/>\n",
       "<circle clip-path=\"url(#clip262)\" cx=\"1656.87\" cy=\"317.658\" r=\"14\" fill=\"#ac8d18\" fill-rule=\"evenodd\" fill-opacity=\"1\" stroke=\"#000000\" stroke-opacity=\"1\" stroke-width=\"3.2\"/>\n",
       "<circle clip-path=\"url(#clip262)\" cx=\"1762.79\" cy=\"254.98\" r=\"14\" fill=\"#ac8d18\" fill-rule=\"evenodd\" fill-opacity=\"1\" stroke=\"#000000\" stroke-opacity=\"1\" stroke-width=\"3.2\"/>\n",
       "<circle clip-path=\"url(#clip262)\" cx=\"1868.7\" cy=\"189.557\" r=\"14\" fill=\"#ac8d18\" fill-rule=\"evenodd\" fill-opacity=\"1\" stroke=\"#000000\" stroke-opacity=\"1\" stroke-width=\"3.2\"/>\n",
       "<circle clip-path=\"url(#clip262)\" cx=\"1974.62\" cy=\"201.295\" r=\"14\" fill=\"#ac8d18\" fill-rule=\"evenodd\" fill-opacity=\"1\" stroke=\"#000000\" stroke-opacity=\"1\" stroke-width=\"3.2\"/>\n",
       "<circle clip-path=\"url(#clip262)\" cx=\"2080.54\" cy=\"298.139\" r=\"14\" fill=\"#ac8d18\" fill-rule=\"evenodd\" fill-opacity=\"1\" stroke=\"#000000\" stroke-opacity=\"1\" stroke-width=\"3.2\"/>\n",
       "<circle clip-path=\"url(#clip262)\" cx=\"2186.46\" cy=\"395.593\" r=\"14\" fill=\"#ac8d18\" fill-rule=\"evenodd\" fill-opacity=\"1\" stroke=\"#000000\" stroke-opacity=\"1\" stroke-width=\"3.2\"/>\n",
       "<circle clip-path=\"url(#clip262)\" cx=\"2292.38\" cy=\"400.088\" r=\"14\" fill=\"#ac8d18\" fill-rule=\"evenodd\" fill-opacity=\"1\" stroke=\"#000000\" stroke-opacity=\"1\" stroke-width=\"3.2\"/>\n",
       "<path clip-path=\"url(#clip260)\" d=\"\n",
       "M290.649 1379.86 L747.996 1379.86 L747.996 1068.82 L290.649 1068.82  Z\n",
       "  \" fill=\"#ffffff\" fill-rule=\"evenodd\" fill-opacity=\"1\"/>\n",
       "<polyline clip-path=\"url(#clip260)\" style=\"stroke:#000000; stroke-linecap:butt; stroke-linejoin:round; stroke-width:4; stroke-opacity:1; fill:none\" points=\"\n",
       "  290.649,1379.86 747.996,1379.86 747.996,1068.82 290.649,1068.82 290.649,1379.86 \n",
       "  \"/>\n",
       "<circle clip-path=\"url(#clip260)\" cx=\"385.459\" cy=\"1120.66\" r=\"23\" fill=\"#009af9\" fill-rule=\"evenodd\" fill-opacity=\"1\" stroke=\"#000000\" stroke-opacity=\"1\" stroke-width=\"5.12\"/>\n",
       "<path clip-path=\"url(#clip260)\" d=\"M496.102 1107.98 L489.759 1125.18 L502.467 1125.18 L496.102 1107.98 M493.463 1103.38 L498.764 1103.38 L511.935 1137.94 L507.074 1137.94 L503.926 1129.07 L488.347 1129.07 L485.199 1137.94 L480.268 1137.94 L493.463 1103.38 Z\" fill=\"#000000\" fill-rule=\"evenodd\" fill-opacity=\"1\" /><path clip-path=\"url(#clip260)\" d=\"M516.449 1103.38 L521.148 1103.38 L521.148 1124.37 Q521.148 1129.93 523.162 1132.38 Q525.175 1134.81 529.689 1134.81 Q534.18 1134.81 536.194 1132.38 Q538.208 1129.93 538.208 1124.37 L538.208 1103.38 L542.907 1103.38 L542.907 1124.95 Q542.907 1131.71 539.55 1135.16 Q536.217 1138.61 529.689 1138.61 Q523.138 1138.61 519.782 1135.16 Q516.449 1131.71 516.449 1124.95 L516.449 1103.38 Z\" fill=\"#000000\" fill-rule=\"evenodd\" fill-opacity=\"1\" /><path clip-path=\"url(#clip260)\" d=\"M577.559 1106.04 L577.559 1110.97 Q575.198 1108.77 572.513 1107.68 Q569.851 1106.59 566.842 1106.59 Q560.916 1106.59 557.768 1110.23 Q554.62 1113.84 554.62 1120.69 Q554.62 1127.52 557.768 1131.15 Q560.916 1134.76 566.842 1134.76 Q569.851 1134.76 572.513 1133.68 Q575.198 1132.59 577.559 1130.39 L577.559 1135.27 Q575.106 1136.94 572.351 1137.77 Q569.62 1138.61 566.564 1138.61 Q558.717 1138.61 554.203 1133.82 Q549.689 1129 549.689 1120.69 Q549.689 1112.36 554.203 1107.57 Q558.717 1102.75 566.564 1102.75 Q569.666 1102.75 572.397 1103.58 Q575.152 1104.39 577.559 1106.04 Z\" fill=\"#000000\" fill-rule=\"evenodd\" fill-opacity=\"1\" /><path clip-path=\"url(#clip260)\" d=\"M596.379 1124.9 Q591.217 1124.9 589.226 1126.08 Q587.235 1127.27 587.235 1130.11 Q587.235 1132.38 588.717 1133.72 Q590.221 1135.04 592.791 1135.04 Q596.333 1135.04 598.462 1132.54 Q600.615 1130.02 600.615 1125.85 L600.615 1124.9 L596.379 1124.9 M604.874 1123.14 L604.874 1137.94 L600.615 1137.94 L600.615 1134 Q599.157 1136.36 596.981 1137.5 Q594.805 1138.61 591.657 1138.61 Q587.675 1138.61 585.314 1136.39 Q582.976 1134.14 582.976 1130.39 Q582.976 1126.02 585.893 1123.79 Q588.833 1121.57 594.643 1121.57 L600.615 1121.57 L600.615 1121.15 Q600.615 1118.21 598.67 1116.62 Q596.749 1115 593.254 1115 Q591.032 1115 588.925 1115.53 Q586.819 1116.06 584.874 1117.13 L584.874 1113.19 Q587.212 1112.29 589.411 1111.85 Q591.61 1111.39 593.694 1111.39 Q599.319 1111.39 602.096 1114.3 Q604.874 1117.22 604.874 1123.14 Z\" fill=\"#000000\" fill-rule=\"evenodd\" fill-opacity=\"1\" /><path clip-path=\"url(#clip260)\" d=\"M613.207 1127.7 L613.207 1112.01 L617.467 1112.01 L617.467 1127.54 Q617.467 1131.22 618.902 1133.08 Q620.337 1134.9 623.207 1134.9 Q626.656 1134.9 628.647 1132.7 Q630.661 1130.51 630.661 1126.71 L630.661 1112.01 L634.92 1112.01 L634.92 1137.94 L630.661 1137.94 L630.661 1133.95 Q629.11 1136.32 627.05 1137.47 Q625.013 1138.61 622.305 1138.61 Q617.837 1138.61 615.522 1135.83 Q613.207 1133.05 613.207 1127.7 M623.925 1111.39 L623.925 1111.39 Z\" fill=\"#000000\" fill-rule=\"evenodd\" fill-opacity=\"1\" /><circle clip-path=\"url(#clip260)\" cx=\"385.459\" cy=\"1172.5\" r=\"23\" fill=\"#e26f46\" fill-rule=\"evenodd\" fill-opacity=\"1\" stroke=\"#000000\" stroke-opacity=\"1\" stroke-width=\"5.12\"/>\n",
       "<path clip-path=\"url(#clip260)\" d=\"M496.102 1159.82 L489.759 1177.02 L502.467 1177.02 L496.102 1159.82 M493.463 1155.22 L498.764 1155.22 L511.935 1189.78 L507.074 1189.78 L503.926 1180.91 L488.347 1180.91 L485.199 1189.78 L480.268 1189.78 L493.463 1155.22 Z\" fill=\"#000000\" fill-rule=\"evenodd\" fill-opacity=\"1\" /><path clip-path=\"url(#clip260)\" d=\"M516.449 1155.22 L521.148 1155.22 L521.148 1176.21 Q521.148 1181.77 523.162 1184.22 Q525.175 1186.65 529.689 1186.65 Q534.18 1186.65 536.194 1184.22 Q538.208 1181.77 538.208 1176.21 L538.208 1155.22 L542.907 1155.22 L542.907 1176.79 Q542.907 1183.55 539.55 1187 Q536.217 1190.45 529.689 1190.45 Q523.138 1190.45 519.782 1187 Q516.449 1183.55 516.449 1176.79 L516.449 1155.22 Z\" fill=\"#000000\" fill-rule=\"evenodd\" fill-opacity=\"1\" /><path clip-path=\"url(#clip260)\" d=\"M572.397 1156.35 L572.397 1160.91 Q569.735 1159.64 567.374 1159.01 Q565.013 1158.39 562.814 1158.39 Q558.995 1158.39 556.911 1159.87 Q554.851 1161.35 554.851 1164.08 Q554.851 1166.37 556.217 1167.55 Q557.606 1168.71 561.448 1169.43 L564.272 1170.01 Q569.504 1171 571.981 1173.53 Q574.481 1176.03 574.481 1180.24 Q574.481 1185.26 571.101 1187.85 Q567.745 1190.45 561.24 1190.45 Q558.786 1190.45 556.009 1189.89 Q553.254 1189.34 550.291 1188.25 L550.291 1183.43 Q553.138 1185.03 555.87 1185.84 Q558.601 1186.65 561.24 1186.65 Q565.245 1186.65 567.421 1185.08 Q569.597 1183.5 569.597 1180.59 Q569.597 1178.04 568.022 1176.61 Q566.472 1175.17 562.907 1174.45 L560.06 1173.9 Q554.828 1172.86 552.49 1170.63 Q550.152 1168.41 550.152 1164.45 Q550.152 1159.87 553.37 1157.23 Q556.61 1154.59 562.282 1154.59 Q564.712 1154.59 567.235 1155.03 Q569.759 1155.47 572.397 1156.35 Z\" fill=\"#000000\" fill-rule=\"evenodd\" fill-opacity=\"1\" /><path clip-path=\"url(#clip260)\" d=\"M591.633 1166.84 Q588.208 1166.84 586.217 1169.52 Q584.226 1172.18 584.226 1176.84 Q584.226 1181.49 586.194 1184.17 Q588.184 1186.84 591.633 1186.84 Q595.036 1186.84 597.027 1184.15 Q599.018 1181.47 599.018 1176.84 Q599.018 1172.23 597.027 1169.54 Q595.036 1166.84 591.633 1166.84 M591.633 1163.23 Q597.189 1163.23 600.36 1166.84 Q603.532 1170.45 603.532 1176.84 Q603.532 1183.2 600.36 1186.84 Q597.189 1190.45 591.633 1190.45 Q586.055 1190.45 582.884 1186.84 Q579.735 1183.2 579.735 1176.84 Q579.735 1170.45 582.884 1166.84 Q586.055 1163.23 591.633 1163.23 Z\" fill=\"#000000\" fill-rule=\"evenodd\" fill-opacity=\"1\" /><path clip-path=\"url(#clip260)\" d=\"M623.717 1153.76 L623.717 1157.3 L619.643 1157.3 Q617.351 1157.3 616.448 1158.23 Q615.569 1159.15 615.569 1161.56 L615.569 1163.85 L622.582 1163.85 L622.582 1167.16 L615.569 1167.16 L615.569 1189.78 L611.286 1189.78 L611.286 1167.16 L607.212 1167.16 L607.212 1163.85 L611.286 1163.85 L611.286 1162.04 Q611.286 1157.72 613.3 1155.75 Q615.314 1153.76 619.689 1153.76 L623.717 1153.76 Z\" fill=\"#000000\" fill-rule=\"evenodd\" fill-opacity=\"1\" /><path clip-path=\"url(#clip260)\" d=\"M630.661 1156.49 L630.661 1163.85 L639.434 1163.85 L639.434 1167.16 L630.661 1167.16 L630.661 1181.23 Q630.661 1184.41 631.518 1185.31 Q632.397 1186.21 635.059 1186.21 L639.434 1186.21 L639.434 1189.78 L635.059 1189.78 Q630.129 1189.78 628.254 1187.95 Q626.379 1186.1 626.379 1181.23 L626.379 1167.16 L623.254 1167.16 L623.254 1163.85 L626.379 1163.85 L626.379 1156.49 L630.661 1156.49 Z\" fill=\"#000000\" fill-rule=\"evenodd\" fill-opacity=\"1\" /><circle clip-path=\"url(#clip260)\" cx=\"385.459\" cy=\"1224.34\" r=\"23\" fill=\"#3da44d\" fill-rule=\"evenodd\" fill-opacity=\"1\" stroke=\"#000000\" stroke-opacity=\"1\" stroke-width=\"5.12\"/>\n",
       "<path clip-path=\"url(#clip260)\" d=\"M496.102 1211.66 L489.759 1228.86 L502.467 1228.86 L496.102 1211.66 M493.463 1207.06 L498.764 1207.06 L511.935 1241.62 L507.074 1241.62 L503.926 1232.75 L488.347 1232.75 L485.199 1241.62 L480.268 1241.62 L493.463 1207.06 Z\" fill=\"#000000\" fill-rule=\"evenodd\" fill-opacity=\"1\" /><path clip-path=\"url(#clip260)\" d=\"M516.449 1207.06 L521.148 1207.06 L521.148 1228.05 Q521.148 1233.61 523.162 1236.06 Q525.175 1238.49 529.689 1238.49 Q534.18 1238.49 536.194 1236.06 Q538.208 1233.61 538.208 1228.05 L538.208 1207.06 L542.907 1207.06 L542.907 1228.63 Q542.907 1235.39 539.55 1238.84 Q536.217 1242.29 529.689 1242.29 Q523.138 1242.29 519.782 1238.84 Q516.449 1235.39 516.449 1228.63 L516.449 1207.06 Z\" fill=\"#000000\" fill-rule=\"evenodd\" fill-opacity=\"1\" /><path clip-path=\"url(#clip260)\" d=\"M551.68 1207.06 L571.541 1207.06 L571.541 1210.99 L556.356 1210.99 L556.356 1221.18 L570.059 1221.18 L570.059 1225.11 L556.356 1225.11 L556.356 1241.62 L551.68 1241.62 L551.68 1207.06 Z\" fill=\"#000000\" fill-rule=\"evenodd\" fill-opacity=\"1\" /><path clip-path=\"url(#clip260)\" d=\"M590.337 1219.67 Q589.62 1219.26 588.763 1219.07 Q587.93 1218.86 586.911 1218.86 Q583.3 1218.86 581.356 1221.22 Q579.434 1223.56 579.434 1227.96 L579.434 1241.62 L575.152 1241.62 L575.152 1215.69 L579.434 1215.69 L579.434 1219.72 Q580.777 1217.36 582.93 1216.22 Q585.083 1215.07 588.161 1215.07 Q588.601 1215.07 589.133 1215.13 Q589.666 1215.18 590.314 1215.3 L590.337 1219.67 Z\" fill=\"#000000\" fill-rule=\"evenodd\" fill-opacity=\"1\" /><path clip-path=\"url(#clip260)\" d=\"M615.939 1227.59 L615.939 1229.67 L596.356 1229.67 Q596.633 1234.07 598.995 1236.38 Q601.379 1238.68 605.615 1238.68 Q608.069 1238.68 610.36 1238.07 Q612.675 1237.47 614.944 1236.27 L614.944 1240.3 Q612.652 1241.27 610.244 1241.78 Q607.837 1242.29 605.36 1242.29 Q599.157 1242.29 595.522 1238.68 Q591.911 1235.07 591.911 1228.91 Q591.911 1222.54 595.337 1218.82 Q598.786 1215.07 604.619 1215.07 Q609.851 1215.07 612.883 1218.45 Q615.939 1221.8 615.939 1227.59 M611.68 1226.34 Q611.633 1222.84 609.712 1220.76 Q607.814 1218.68 604.666 1218.68 Q601.101 1218.68 598.948 1220.69 Q596.819 1222.7 596.495 1226.36 L611.68 1226.34 Z\" fill=\"#000000\" fill-rule=\"evenodd\" fill-opacity=\"1\" /><path clip-path=\"url(#clip260)\" d=\"M644.48 1225.97 L644.48 1241.62 L640.221 1241.62 L640.221 1226.11 Q640.221 1222.43 638.786 1220.6 Q637.351 1218.77 634.48 1218.77 Q631.031 1218.77 629.041 1220.97 Q627.05 1223.17 627.05 1226.96 L627.05 1241.62 L622.768 1241.62 L622.768 1215.69 L627.05 1215.69 L627.05 1219.72 Q628.578 1217.38 630.638 1216.22 Q632.721 1215.07 635.43 1215.07 Q639.897 1215.07 642.189 1217.84 Q644.48 1220.6 644.48 1225.97 Z\" fill=\"#000000\" fill-rule=\"evenodd\" fill-opacity=\"1\" /><path clip-path=\"url(#clip260)\" d=\"M671.633 1216.69 L671.633 1220.67 Q669.827 1219.67 667.999 1219.19 Q666.193 1218.68 664.341 1218.68 Q660.198 1218.68 657.906 1221.32 Q655.615 1223.93 655.615 1228.68 Q655.615 1233.42 657.906 1236.06 Q660.198 1238.68 664.341 1238.68 Q666.193 1238.68 667.999 1238.19 Q669.827 1237.68 671.633 1236.69 L671.633 1240.62 Q669.851 1241.45 667.929 1241.87 Q666.031 1242.29 663.878 1242.29 Q658.022 1242.29 654.573 1238.61 Q651.124 1234.93 651.124 1228.68 Q651.124 1222.33 654.596 1218.7 Q658.091 1215.07 664.156 1215.07 Q666.124 1215.07 667.999 1215.48 Q669.874 1215.88 671.633 1216.69 Z\" fill=\"#000000\" fill-rule=\"evenodd\" fill-opacity=\"1\" /><path clip-path=\"url(#clip260)\" d=\"M700.591 1225.97 L700.591 1241.62 L696.332 1241.62 L696.332 1226.11 Q696.332 1222.43 694.897 1220.6 Q693.462 1218.77 690.591 1218.77 Q687.142 1218.77 685.151 1220.97 Q683.161 1223.17 683.161 1226.96 L683.161 1241.62 L678.878 1241.62 L678.878 1205.6 L683.161 1205.6 L683.161 1219.72 Q684.689 1217.38 686.749 1216.22 Q688.832 1215.07 691.54 1215.07 Q696.008 1215.07 698.3 1217.84 Q700.591 1220.6 700.591 1225.97 Z\" fill=\"#000000\" fill-rule=\"evenodd\" fill-opacity=\"1\" /><circle clip-path=\"url(#clip260)\" cx=\"385.459\" cy=\"1276.18\" r=\"23\" fill=\"#c271d2\" fill-rule=\"evenodd\" fill-opacity=\"1\" stroke=\"#000000\" stroke-opacity=\"1\" stroke-width=\"5.12\"/>\n",
       "<path clip-path=\"url(#clip260)\" d=\"M496.102 1263.5 L489.759 1280.7 L502.467 1280.7 L496.102 1263.5 M493.463 1258.9 L498.764 1258.9 L511.935 1293.46 L507.074 1293.46 L503.926 1284.59 L488.347 1284.59 L485.199 1293.46 L480.268 1293.46 L493.463 1258.9 Z\" fill=\"#000000\" fill-rule=\"evenodd\" fill-opacity=\"1\" /><path clip-path=\"url(#clip260)\" d=\"M516.449 1258.9 L521.148 1258.9 L521.148 1279.89 Q521.148 1285.45 523.162 1287.9 Q525.175 1290.33 529.689 1290.33 Q534.18 1290.33 536.194 1287.9 Q538.208 1285.45 538.208 1279.89 L538.208 1258.9 L542.907 1258.9 L542.907 1280.47 Q542.907 1287.23 539.55 1290.68 Q536.217 1294.13 529.689 1294.13 Q523.138 1294.13 519.782 1290.68 Q516.449 1287.23 516.449 1280.47 L516.449 1258.9 Z\" fill=\"#000000\" fill-rule=\"evenodd\" fill-opacity=\"1\" /><path clip-path=\"url(#clip260)\" d=\"M551.68 1258.9 L558.648 1258.9 L567.467 1282.41 L576.333 1258.9 L583.3 1258.9 L583.3 1293.46 L578.74 1293.46 L578.74 1263.11 L569.828 1286.81 L565.129 1286.81 L556.217 1263.11 L556.217 1293.46 L551.68 1293.46 L551.68 1258.9 Z\" fill=\"#000000\" fill-rule=\"evenodd\" fill-opacity=\"1\" /><path clip-path=\"url(#clip260)\" d=\"M592.583 1258.9 L597.258 1258.9 L597.258 1273.06 L614.249 1273.06 L614.249 1258.9 L618.925 1258.9 L618.925 1293.46 L614.249 1293.46 L614.249 1277 L597.258 1277 L597.258 1293.46 L592.583 1293.46 L592.583 1258.9 Z\" fill=\"#000000\" fill-rule=\"evenodd\" fill-opacity=\"1\" /><circle clip-path=\"url(#clip260)\" cx=\"385.459\" cy=\"1328.02\" r=\"23\" fill=\"#ac8d18\" fill-rule=\"evenodd\" fill-opacity=\"1\" stroke=\"#000000\" stroke-opacity=\"1\" stroke-width=\"5.12\"/>\n",
       "<path clip-path=\"url(#clip260)\" d=\"M496.102 1315.34 L489.759 1332.54 L502.467 1332.54 L496.102 1315.34 M493.463 1310.74 L498.764 1310.74 L511.935 1345.3 L507.074 1345.3 L503.926 1336.43 L488.347 1336.43 L485.199 1345.3 L480.268 1345.3 L493.463 1310.74 Z\" fill=\"#000000\" fill-rule=\"evenodd\" fill-opacity=\"1\" /><path clip-path=\"url(#clip260)\" d=\"M516.449 1310.74 L521.148 1310.74 L521.148 1331.73 Q521.148 1337.29 523.162 1339.74 Q525.175 1342.17 529.689 1342.17 Q534.18 1342.17 536.194 1339.74 Q538.208 1337.29 538.208 1331.73 L538.208 1310.74 L542.907 1310.74 L542.907 1332.31 Q542.907 1339.07 539.55 1342.52 Q536.217 1345.97 529.689 1345.97 Q523.138 1345.97 519.782 1342.52 Q516.449 1339.07 516.449 1332.31 L516.449 1310.74 Z\" fill=\"#000000\" fill-rule=\"evenodd\" fill-opacity=\"1\" /><path clip-path=\"url(#clip260)\" d=\"M568.022 1320.13 L568.022 1324.16 Q566.217 1323.24 564.272 1322.77 Q562.328 1322.31 560.245 1322.31 Q557.073 1322.31 555.476 1323.28 Q553.902 1324.25 553.902 1326.2 Q553.902 1327.68 555.036 1328.54 Q556.171 1329.37 559.597 1330.13 L561.055 1330.46 Q565.592 1331.43 567.49 1333.21 Q569.411 1334.97 569.411 1338.14 Q569.411 1341.75 566.541 1343.86 Q563.694 1345.97 558.694 1345.97 Q556.61 1345.97 554.342 1345.55 Q552.097 1345.16 549.597 1344.35 L549.597 1339.95 Q551.958 1341.18 554.249 1341.8 Q556.541 1342.4 558.786 1342.4 Q561.796 1342.4 563.416 1341.38 Q565.036 1340.34 565.036 1338.47 Q565.036 1336.73 563.856 1335.81 Q562.698 1334.88 558.74 1334.02 L557.259 1333.68 Q553.3 1332.84 551.541 1331.13 Q549.782 1329.39 549.782 1326.38 Q549.782 1322.73 552.374 1320.74 Q554.967 1318.75 559.735 1318.75 Q562.097 1318.75 564.18 1319.09 Q566.263 1319.44 568.022 1320.13 Z\" fill=\"#000000\" fill-rule=\"evenodd\" fill-opacity=\"1\" /><path clip-path=\"url(#clip260)\" d=\"M576.194 1319.37 L580.453 1319.37 L580.453 1345.3 L576.194 1345.3 L576.194 1319.37 M576.194 1309.28 L580.453 1309.28 L580.453 1314.67 L576.194 1314.67 L576.194 1309.28 Z\" fill=\"#000000\" fill-rule=\"evenodd\" fill-opacity=\"1\" /><path clip-path=\"url(#clip260)\" d=\"M607.976 1332.36 Q607.976 1327.66 606.032 1325 Q604.11 1322.31 600.731 1322.31 Q597.351 1322.31 595.407 1325 Q593.485 1327.66 593.485 1332.36 Q593.485 1337.06 595.407 1339.74 Q597.351 1342.4 600.731 1342.4 Q604.11 1342.4 606.032 1339.74 Q607.976 1337.06 607.976 1332.36 M593.485 1323.31 Q594.828 1320.99 596.865 1319.88 Q598.925 1318.75 601.772 1318.75 Q606.494 1318.75 609.434 1322.5 Q612.397 1326.25 612.397 1332.36 Q612.397 1338.47 609.434 1342.22 Q606.494 1345.97 601.772 1345.97 Q598.925 1345.97 596.865 1344.86 Q594.828 1343.72 593.485 1341.41 L593.485 1345.3 L589.203 1345.3 L589.203 1309.28 L593.485 1309.28 L593.485 1323.31 Z\" fill=\"#000000\" fill-rule=\"evenodd\" fill-opacity=\"1\" /></svg>\n"
      ]
     },
     "execution_count": 309,
     "metadata": {},
     "output_type": "execute_result"
    }
   ],
   "source": [
    "#AUROC curves\n",
    "\n",
    "T = Int(T)\n",
    "AU_curve=zeros(T)\n",
    "AU_sib=zeros(T)\n",
    "AU_french = zeros(T)\n",
    "AU_soft = zeros(T)\n",
    "AU_MH = zeros(T)\n",
    "for t = 1:T\n",
    "    cau_risk=zeros(N)\n",
    "    sib_risk = zeros(N)\n",
    "    french_risk = zeros(N)\n",
    "    MH_risk = zeros(N)\n",
    "    soft_risk = zeros(N)\n",
    "    for i=1:N\n",
    "       cau_risk[i] = marginal(i,t,statscau)\n",
    "       french_risk[i] = marginal(i,t,statsfre)\n",
    "       MH_risk[i] = marginal(i,t,stats_mh)\n",
    "       sib_risk[i] = p_sib[i,Int(round(t/dt))]\n",
    "       soft_risk[i] = marginal(i,t,stats) \n",
    "    end\n",
    "    xt = xtrue .< t\n",
    "    AU_soft[t] = AUROC(ROC(xt, soft_risk))\n",
    "    AU_curve[t] = AUROC(ROC(xt, cau_risk))\n",
    "    AU_french[t] = AUROC(ROC(xt, french_risk))\n",
    "    AU_MH[t] = AUROC(ROC(xt, MH_risk))\n",
    "    AU_sib[t] = AUROC(ROC(xt, sib_risk))\n",
    "end\n",
    "\n",
    "scatter(LinRange(1,T,T),AU_curve, label=\"AUCau\", title=\"Causality VS Sib AUROC in function of time\")\n",
    "scatter!(LinRange(1,T,T),AU_soft, label=\"AUSoft\",legend=:bottomleft)\n",
    "scatter!(LinRange(1,T,T),AU_french, label=\"AUFrench\")\n",
    "scatter!(LinRange(1,T,T),AU_MH, label=\"AUMH\")\n",
    "scatter!(LinRange(1,T,T), AU_sib, label=\"AUsib\")\n",
    "xlabel!(\"t\")\n",
    "ylabel!(\"AUROC\")\n",
    "savefig(\"confronti.pdf\")\n",
    "ylims!(0.5,1.01)"
   ]
  },
  {
   "cell_type": "code",
   "execution_count": null,
   "metadata": {},
   "outputs": [],
   "source": []
  }
 ],
 "metadata": {
  "kernelspec": {
   "display_name": "Julia 1.7.0-rc2",
   "language": "julia",
   "name": "julia-1.7"
  },
  "language_info": {
   "file_extension": ".jl",
   "mimetype": "application/julia",
   "name": "julia",
   "version": "1.7.0"
  }
 },
 "nbformat": 4,
 "nbformat_minor": 4
}
