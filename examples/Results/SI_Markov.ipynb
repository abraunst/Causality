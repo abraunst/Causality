{
 "cells": [
  {
   "cell_type": "code",
   "execution_count": 1,
   "metadata": {},
   "outputs": [],
   "source": [
    "using SparseArrays, LinearAlgebra, IndexedGraphs\n",
    "#using Pkg\n",
    "#Pkg.activ§ate(\"../\")\n",
    "using Causality\n",
    "using Plots"
   ]
  },
  {
   "cell_type": "markdown",
   "metadata": {},
   "source": [
    "# Generation of Epidemics"
   ]
  },
  {
   "cell_type": "code",
   "execution_count": 2,
   "metadata": {},
   "outputs": [
    {
     "data": {
      "text/plain": [
       "{20, 78} directed sparse Int64 graph\n",
       "⠠⠂⠐⠈⠁⠆⡄⠡⠱⡴\n",
       "⡐⠀⠊⠀⠀⠈⠤⡠⡘⠐\n",
       "⠡⠄⡀⠀⠠⠂⠌⠁⠀⠴\n",
       "⠄⡉⠀⡣⠆⠁⣀⠘⠄⠁\n",
       "⢑⡦⢒⠈⢀⡄⠄⠁⢀⠐"
      ]
     },
     "execution_count": 2,
     "metadata": {},
     "output_type": "execute_result"
    }
   ],
   "source": [
    "T, N = 20.0, 20\n",
    "#G = Causality.makeBarabasi(N,k=2)\n",
    "#ρ = 3/N\n",
    "#G = Causality.makeGNP(N,ρ)\n",
    "G = Causality.makeProximity(N,2.1/N)\n",
    "#=A = [0 0 0 1 0;\n",
    "     0 0 0 0 1;\n",
    "     0 0 0 0 0;\n",
    "     0 0 1 0 0;\n",
    "     0 0 1 0 0]=#\n",
    "#G = IndexedBiDiGraph(A)"
   ]
  },
  {
   "cell_type": "code",
   "execution_count": 3,
   "metadata": {},
   "outputs": [
    {
     "data": {
      "text/plain": [
       "getpargen (generic function with 1 method)"
      ]
     },
     "execution_count": 3,
     "metadata": {},
     "output_type": "execute_result"
    }
   ],
   "source": [
    "getpar(pseed,autoinf::GaussianRate,inf_in::GaussianRate) = \n",
    "    [fill(pseed, 1, N);\n",
    "     fill(autoinf.a, 1, N); fill(autoinf.b, 1, N); fill(autoinf.c, 1, N);\n",
    "     fill(inf_in.a,   1, N); fill(inf_in.b, 1, N); fill(inf_in.c, 1, N);\n",
    "    ]\n",
    "\n",
    "getpargen(pseed, autoinf::GaussianRate, inf_out::GaussianRate) = \n",
    "    [pseed autoinf.a autoinf.b autoinf.c inf_out.a inf_out.b inf_out.c]\n"
   ]
  },
  {
   "cell_type": "code",
   "execution_count": 24,
   "metadata": {},
   "outputs": [],
   "source": [
    "#Initialize generation parameters\n",
    "ε = 1e-10\n",
    "λ = 0.13\n",
    "pseed = 1e-3\n",
    "autoinf = GaussianRate(ε, T/2, 1/ε)\n",
    "inf_in = GaussianRate(1.0, T/2, 1/ε)\n",
    "inf_out = GaussianRate(λ, T/2, 1/ε)\n",
    "\n",
    "θp = getpar(pseed, autoinf, inf_in);\n",
    "θpgen = getpargen(pseed, autoinf, inf_out);"
   ]
  },
  {
   "cell_type": "code",
   "execution_count": 25,
   "metadata": {},
   "outputs": [],
   "source": [
    "#Initialize min/max boundaies\n",
    "T = Float64(T)\n",
    "pseed_min = ε\n",
    "pseed_max = 1-ε\n",
    "rate_min = GaussianRate(ε  ,  -T,   ε)\n",
    "rate_max = GaussianRate(1/ε  ,  2T,   1/ε)\n",
    "\n",
    "inf_min = GaussianRate(ε  ,  -T,   ε)\n",
    "inf_max = GaussianRate(1/ε  ,  2T, 1. )\n",
    "\n",
    "θmin = getpar(pseed_min , rate_min, rate_min);\n",
    "θmax = getpar(pseed_max , rate_max, rate_max);\n",
    "\n",
    "rate_min = GaussianRate(ε  ,  -T,   ε)\n",
    "rate_max = GaussianRate(1/ε  ,  T,   T)\n",
    "\n",
    "θgenmin = getpargen(pseed_min, rate_min, rate_min);\n",
    "θgenmax = getpargen(pseed_max, rate_max, rate_max);"
   ]
  },
  {
   "cell_type": "code",
   "execution_count": null,
   "metadata": {},
   "outputs": [],
   "source": []
  },
  {
   "cell_type": "code",
   "execution_count": 26,
   "metadata": {},
   "outputs": [
    {
     "data": {
      "text/plain": [
       "GaussianInferentialSI"
      ]
     },
     "execution_count": 26,
     "metadata": {},
     "output_type": "execute_result"
    }
   ],
   "source": [
    "const Igen = GenerativeSI{GaussianRate,GaussianRate} \n",
    "const Igauss = GaussianInferentialSI"
   ]
  },
  {
   "cell_type": "code",
   "execution_count": 27,
   "metadata": {},
   "outputs": [
    {
     "name": "stdout",
     "output_type": "stream",
     "text": [
      "0.75\n"
     ]
    },
    {
     "data": {
      "image/svg+xml": [
       "<?xml version=\"1.0\" encoding=\"utf-8\"?>\n",
       "<svg xmlns=\"http://www.w3.org/2000/svg\" xmlns:xlink=\"http://www.w3.org/1999/xlink\" width=\"600\" height=\"400\" viewBox=\"0 0 2400 1600\">\n",
       "<defs>\n",
       "  <clipPath id=\"clip510\">\n",
       "    <rect x=\"0\" y=\"0\" width=\"2400\" height=\"1600\"/>\n",
       "  </clipPath>\n",
       "</defs>\n",
       "<path clip-path=\"url(#clip510)\" d=\"\n",
       "M0 1600 L2400 1600 L2400 0 L0 0  Z\n",
       "  \" fill=\"#ffffff\" fill-rule=\"evenodd\" fill-opacity=\"1\"/>\n",
       "<defs>\n",
       "  <clipPath id=\"clip511\">\n",
       "    <rect x=\"480\" y=\"0\" width=\"1681\" height=\"1600\"/>\n",
       "  </clipPath>\n",
       "</defs>\n",
       "<path clip-path=\"url(#clip510)\" d=\"\n",
       "M140.696 1486.45 L2352.76 1486.45 L2352.76 47.2441 L140.696 47.2441  Z\n",
       "  \" fill=\"#ffffff\" fill-rule=\"evenodd\" fill-opacity=\"1\"/>\n",
       "<defs>\n",
       "  <clipPath id=\"clip512\">\n",
       "    <rect x=\"140\" y=\"47\" width=\"2213\" height=\"1440\"/>\n",
       "  </clipPath>\n",
       "</defs>\n",
       "<polyline clip-path=\"url(#clip512)\" style=\"stroke:#000000; stroke-linecap:butt; stroke-linejoin:round; stroke-width:2; stroke-opacity:0.1; fill:none\" points=\"\n",
       "  642.638,1486.45 642.638,47.2441 \n",
       "  \"/>\n",
       "<polyline clip-path=\"url(#clip512)\" style=\"stroke:#000000; stroke-linecap:butt; stroke-linejoin:round; stroke-width:2; stroke-opacity:0.1; fill:none\" points=\"\n",
       "  1191.81,1486.45 1191.81,47.2441 \n",
       "  \"/>\n",
       "<polyline clip-path=\"url(#clip512)\" style=\"stroke:#000000; stroke-linecap:butt; stroke-linejoin:round; stroke-width:2; stroke-opacity:0.1; fill:none\" points=\"\n",
       "  1740.98,1486.45 1740.98,47.2441 \n",
       "  \"/>\n",
       "<polyline clip-path=\"url(#clip512)\" style=\"stroke:#000000; stroke-linecap:butt; stroke-linejoin:round; stroke-width:2; stroke-opacity:0.1; fill:none\" points=\"\n",
       "  2290.15,1486.45 2290.15,47.2441 \n",
       "  \"/>\n",
       "<polyline clip-path=\"url(#clip510)\" style=\"stroke:#000000; stroke-linecap:butt; stroke-linejoin:round; stroke-width:4; stroke-opacity:1; fill:none\" points=\"\n",
       "  140.696,1486.45 2352.76,1486.45 \n",
       "  \"/>\n",
       "<polyline clip-path=\"url(#clip510)\" style=\"stroke:#000000; stroke-linecap:butt; stroke-linejoin:round; stroke-width:4; stroke-opacity:1; fill:none\" points=\"\n",
       "  642.638,1486.45 642.638,1467.55 \n",
       "  \"/>\n",
       "<polyline clip-path=\"url(#clip510)\" style=\"stroke:#000000; stroke-linecap:butt; stroke-linejoin:round; stroke-width:4; stroke-opacity:1; fill:none\" points=\"\n",
       "  1191.81,1486.45 1191.81,1467.55 \n",
       "  \"/>\n",
       "<polyline clip-path=\"url(#clip510)\" style=\"stroke:#000000; stroke-linecap:butt; stroke-linejoin:round; stroke-width:4; stroke-opacity:1; fill:none\" points=\"\n",
       "  1740.98,1486.45 1740.98,1467.55 \n",
       "  \"/>\n",
       "<polyline clip-path=\"url(#clip510)\" style=\"stroke:#000000; stroke-linecap:butt; stroke-linejoin:round; stroke-width:4; stroke-opacity:1; fill:none\" points=\"\n",
       "  2290.15,1486.45 2290.15,1467.55 \n",
       "  \"/>\n",
       "<path clip-path=\"url(#clip510)\" d=\"M632.916 1514.29 L651.272 1514.29 L651.272 1518.22 L637.198 1518.22 L637.198 1526.7 Q638.216 1526.35 639.235 1526.19 Q640.253 1526 641.272 1526 Q647.059 1526 650.439 1529.17 Q653.818 1532.34 653.818 1537.76 Q653.818 1543.34 650.346 1546.44 Q646.874 1549.52 640.554 1549.52 Q638.379 1549.52 636.11 1549.15 Q633.865 1548.78 631.457 1548.04 L631.457 1543.34 Q633.541 1544.47 635.763 1545.03 Q637.985 1545.58 640.462 1545.58 Q644.466 1545.58 646.804 1543.48 Q649.142 1541.37 649.142 1537.76 Q649.142 1534.15 646.804 1532.04 Q644.466 1529.94 640.462 1529.94 Q638.587 1529.94 636.712 1530.35 Q634.86 1530.77 632.916 1531.65 L632.916 1514.29 Z\" fill=\"#000000\" fill-rule=\"evenodd\" fill-opacity=\"1\" /><path clip-path=\"url(#clip510)\" d=\"M1166.5 1544.91 L1174.14 1544.91 L1174.14 1518.55 L1165.82 1520.21 L1165.82 1515.95 L1174.09 1514.29 L1178.76 1514.29 L1178.76 1544.91 L1186.4 1544.91 L1186.4 1548.85 L1166.5 1548.85 L1166.5 1544.91 Z\" fill=\"#000000\" fill-rule=\"evenodd\" fill-opacity=\"1\" /><path clip-path=\"url(#clip510)\" d=\"M1205.85 1517.37 Q1202.24 1517.37 1200.41 1520.93 Q1198.6 1524.47 1198.6 1531.6 Q1198.6 1538.71 1200.41 1542.27 Q1202.24 1545.82 1205.85 1545.82 Q1209.48 1545.82 1211.29 1542.27 Q1213.12 1538.71 1213.12 1531.6 Q1213.12 1524.47 1211.29 1520.93 Q1209.48 1517.37 1205.85 1517.37 M1205.85 1513.66 Q1211.66 1513.66 1214.71 1518.27 Q1217.79 1522.85 1217.79 1531.6 Q1217.79 1540.33 1214.71 1544.94 Q1211.66 1549.52 1205.85 1549.52 Q1200.04 1549.52 1196.96 1544.94 Q1193.9 1540.33 1193.9 1531.6 Q1193.9 1522.85 1196.96 1518.27 Q1200.04 1513.66 1205.85 1513.66 Z\" fill=\"#000000\" fill-rule=\"evenodd\" fill-opacity=\"1\" /><path clip-path=\"url(#clip510)\" d=\"M1716.16 1544.91 L1723.8 1544.91 L1723.8 1518.55 L1715.49 1520.21 L1715.49 1515.95 L1723.76 1514.29 L1728.43 1514.29 L1728.43 1544.91 L1736.07 1544.91 L1736.07 1548.85 L1716.16 1548.85 L1716.16 1544.91 Z\" fill=\"#000000\" fill-rule=\"evenodd\" fill-opacity=\"1\" /><path clip-path=\"url(#clip510)\" d=\"M1745.56 1514.29 L1763.92 1514.29 L1763.92 1518.22 L1749.85 1518.22 L1749.85 1526.7 Q1750.86 1526.35 1751.88 1526.19 Q1752.9 1526 1753.92 1526 Q1759.71 1526 1763.09 1529.17 Q1766.47 1532.34 1766.47 1537.76 Q1766.47 1543.34 1762.99 1546.44 Q1759.52 1549.52 1753.2 1549.52 Q1751.03 1549.52 1748.76 1549.15 Q1746.51 1548.78 1744.1 1548.04 L1744.1 1543.34 Q1746.19 1544.47 1748.41 1545.03 Q1750.63 1545.58 1753.11 1545.58 Q1757.11 1545.58 1759.45 1543.48 Q1761.79 1541.37 1761.79 1537.76 Q1761.79 1534.15 1759.45 1532.04 Q1757.11 1529.94 1753.11 1529.94 Q1751.23 1529.94 1749.36 1530.35 Q1747.51 1530.77 1745.56 1531.65 L1745.56 1514.29 Z\" fill=\"#000000\" fill-rule=\"evenodd\" fill-opacity=\"1\" /><path clip-path=\"url(#clip510)\" d=\"M2268.92 1544.91 L2285.24 1544.91 L2285.24 1548.85 L2263.3 1548.85 L2263.3 1544.91 Q2265.96 1542.16 2270.54 1537.53 Q2275.15 1532.88 2276.33 1531.53 Q2278.58 1529.01 2279.46 1527.27 Q2280.36 1525.51 2280.36 1523.82 Q2280.36 1521.07 2278.41 1519.33 Q2276.49 1517.6 2273.39 1517.6 Q2271.19 1517.6 2268.74 1518.36 Q2266.31 1519.13 2263.53 1520.68 L2263.53 1515.95 Q2266.35 1514.82 2268.81 1514.24 Q2271.26 1513.66 2273.3 1513.66 Q2278.67 1513.66 2281.86 1516.35 Q2285.06 1519.03 2285.06 1523.52 Q2285.06 1525.65 2284.25 1527.57 Q2283.46 1529.47 2281.35 1532.07 Q2280.78 1532.74 2277.67 1535.95 Q2274.57 1539.15 2268.92 1544.91 Z\" fill=\"#000000\" fill-rule=\"evenodd\" fill-opacity=\"1\" /><path clip-path=\"url(#clip510)\" d=\"M2305.06 1517.37 Q2301.45 1517.37 2299.62 1520.93 Q2297.81 1524.47 2297.81 1531.6 Q2297.81 1538.71 2299.62 1542.27 Q2301.45 1545.82 2305.06 1545.82 Q2308.69 1545.82 2310.5 1542.27 Q2312.33 1538.71 2312.33 1531.6 Q2312.33 1524.47 2310.5 1520.93 Q2308.69 1517.37 2305.06 1517.37 M2305.06 1513.66 Q2310.87 1513.66 2313.92 1518.27 Q2317 1522.85 2317 1531.6 Q2317 1540.33 2313.92 1544.94 Q2310.87 1549.52 2305.06 1549.52 Q2299.25 1549.52 2296.17 1544.94 Q2293.11 1540.33 2293.11 1531.6 Q2293.11 1522.85 2296.17 1518.27 Q2299.25 1513.66 2305.06 1513.66 Z\" fill=\"#000000\" fill-rule=\"evenodd\" fill-opacity=\"1\" /><polyline clip-path=\"url(#clip512)\" style=\"stroke:#000000; stroke-linecap:butt; stroke-linejoin:round; stroke-width:2; stroke-opacity:0.1; fill:none\" points=\"\n",
       "  140.696,1445.72 2352.76,1445.72 \n",
       "  \"/>\n",
       "<polyline clip-path=\"url(#clip512)\" style=\"stroke:#000000; stroke-linecap:butt; stroke-linejoin:round; stroke-width:2; stroke-opacity:0.1; fill:none\" points=\"\n",
       "  140.696,1106.28 2352.76,1106.28 \n",
       "  \"/>\n",
       "<polyline clip-path=\"url(#clip512)\" style=\"stroke:#000000; stroke-linecap:butt; stroke-linejoin:round; stroke-width:2; stroke-opacity:0.1; fill:none\" points=\"\n",
       "  140.696,766.846 2352.76,766.846 \n",
       "  \"/>\n",
       "<polyline clip-path=\"url(#clip512)\" style=\"stroke:#000000; stroke-linecap:butt; stroke-linejoin:round; stroke-width:2; stroke-opacity:0.1; fill:none\" points=\"\n",
       "  140.696,427.411 2352.76,427.411 \n",
       "  \"/>\n",
       "<polyline clip-path=\"url(#clip512)\" style=\"stroke:#000000; stroke-linecap:butt; stroke-linejoin:round; stroke-width:2; stroke-opacity:0.1; fill:none\" points=\"\n",
       "  140.696,87.9763 2352.76,87.9763 \n",
       "  \"/>\n",
       "<polyline clip-path=\"url(#clip510)\" style=\"stroke:#000000; stroke-linecap:butt; stroke-linejoin:round; stroke-width:4; stroke-opacity:1; fill:none\" points=\"\n",
       "  140.696,1486.45 140.696,47.2441 \n",
       "  \"/>\n",
       "<polyline clip-path=\"url(#clip510)\" style=\"stroke:#000000; stroke-linecap:butt; stroke-linejoin:round; stroke-width:4; stroke-opacity:1; fill:none\" points=\"\n",
       "  140.696,1445.72 159.593,1445.72 \n",
       "  \"/>\n",
       "<polyline clip-path=\"url(#clip510)\" style=\"stroke:#000000; stroke-linecap:butt; stroke-linejoin:round; stroke-width:4; stroke-opacity:1; fill:none\" points=\"\n",
       "  140.696,1106.28 159.593,1106.28 \n",
       "  \"/>\n",
       "<polyline clip-path=\"url(#clip510)\" style=\"stroke:#000000; stroke-linecap:butt; stroke-linejoin:round; stroke-width:4; stroke-opacity:1; fill:none\" points=\"\n",
       "  140.696,766.846 159.593,766.846 \n",
       "  \"/>\n",
       "<polyline clip-path=\"url(#clip510)\" style=\"stroke:#000000; stroke-linecap:butt; stroke-linejoin:round; stroke-width:4; stroke-opacity:1; fill:none\" points=\"\n",
       "  140.696,427.411 159.593,427.411 \n",
       "  \"/>\n",
       "<polyline clip-path=\"url(#clip510)\" style=\"stroke:#000000; stroke-linecap:butt; stroke-linejoin:round; stroke-width:4; stroke-opacity:1; fill:none\" points=\"\n",
       "  140.696,87.9763 159.593,87.9763 \n",
       "  \"/>\n",
       "<path clip-path=\"url(#clip510)\" d=\"M92.7512 1431.51 Q89.1401 1431.51 87.3114 1435.08 Q85.5058 1438.62 85.5058 1445.75 Q85.5058 1452.86 87.3114 1456.42 Q89.1401 1459.96 92.7512 1459.96 Q96.3854 1459.96 98.1909 1456.42 Q100.02 1452.86 100.02 1445.75 Q100.02 1438.62 98.1909 1435.08 Q96.3854 1431.51 92.7512 1431.51 M92.7512 1427.81 Q98.5613 1427.81 101.617 1432.42 Q104.696 1437 104.696 1445.75 Q104.696 1454.48 101.617 1459.08 Q98.5613 1463.67 92.7512 1463.67 Q86.941 1463.67 83.8623 1459.08 Q80.8068 1454.48 80.8068 1445.75 Q80.8068 1437 83.8623 1432.42 Q86.941 1427.81 92.7512 1427.81 Z\" fill=\"#000000\" fill-rule=\"evenodd\" fill-opacity=\"1\" /><path clip-path=\"url(#clip510)\" d=\"M83.7929 1089 L102.149 1089 L102.149 1092.94 L88.0753 1092.94 L88.0753 1101.41 Q89.0938 1101.06 90.1123 1100.9 Q91.1308 1100.71 92.1493 1100.71 Q97.9363 1100.71 101.316 1103.89 Q104.696 1107.06 104.696 1112.47 Q104.696 1118.05 101.223 1121.15 Q97.7511 1124.23 91.4317 1124.23 Q89.2558 1124.23 86.9873 1123.86 Q84.7419 1123.49 82.3346 1122.75 L82.3346 1118.05 Q84.4179 1119.19 86.6401 1119.74 Q88.8623 1120.3 91.3391 1120.3 Q95.3437 1120.3 97.6817 1118.19 Q100.02 1116.08 100.02 1112.47 Q100.02 1108.86 97.6817 1106.76 Q95.3437 1104.65 91.3391 1104.65 Q89.4641 1104.65 87.5892 1105.07 Q85.7373 1105.48 83.7929 1106.36 L83.7929 1089 Z\" fill=\"#000000\" fill-rule=\"evenodd\" fill-opacity=\"1\" /><path clip-path=\"url(#clip510)\" d=\"M53.3995 780.191 L61.0384 780.191 L61.0384 753.825 L52.7282 755.492 L52.7282 751.233 L60.9921 749.566 L65.668 749.566 L65.668 780.191 L73.3068 780.191 L73.3068 784.126 L53.3995 784.126 L53.3995 780.191 Z\" fill=\"#000000\" fill-rule=\"evenodd\" fill-opacity=\"1\" /><path clip-path=\"url(#clip510)\" d=\"M92.7512 752.645 Q89.1401 752.645 87.3114 756.209 Q85.5058 759.751 85.5058 766.881 Q85.5058 773.987 87.3114 777.552 Q89.1401 781.094 92.7512 781.094 Q96.3854 781.094 98.1909 777.552 Q100.02 773.987 100.02 766.881 Q100.02 759.751 98.1909 756.209 Q96.3854 752.645 92.7512 752.645 M92.7512 748.941 Q98.5613 748.941 101.617 753.547 Q104.696 758.131 104.696 766.881 Q104.696 775.608 101.617 780.214 Q98.5613 784.797 92.7512 784.797 Q86.941 784.797 83.8623 780.214 Q80.8068 775.608 80.8068 766.881 Q80.8068 758.131 83.8623 753.547 Q86.941 748.941 92.7512 748.941 Z\" fill=\"#000000\" fill-rule=\"evenodd\" fill-opacity=\"1\" /><path clip-path=\"url(#clip510)\" d=\"M54.3949 440.756 L62.0337 440.756 L62.0337 414.39 L53.7236 416.057 L53.7236 411.798 L61.9874 410.131 L66.6633 410.131 L66.6633 440.756 L74.3022 440.756 L74.3022 444.691 L54.3949 444.691 L54.3949 440.756 Z\" fill=\"#000000\" fill-rule=\"evenodd\" fill-opacity=\"1\" /><path clip-path=\"url(#clip510)\" d=\"M83.7929 410.131 L102.149 410.131 L102.149 414.066 L88.0753 414.066 L88.0753 422.538 Q89.0938 422.191 90.1123 422.029 Q91.1308 421.844 92.1493 421.844 Q97.9363 421.844 101.316 425.015 Q104.696 428.187 104.696 433.603 Q104.696 439.182 101.223 442.284 Q97.7511 445.362 91.4317 445.362 Q89.2558 445.362 86.9873 444.992 Q84.7419 444.622 82.3346 443.881 L82.3346 439.182 Q84.4179 440.316 86.6401 440.872 Q88.8623 441.427 91.3391 441.427 Q95.3437 441.427 97.6817 439.321 Q100.02 437.214 100.02 433.603 Q100.02 429.992 97.6817 427.886 Q95.3437 425.779 91.3391 425.779 Q89.4641 425.779 87.5892 426.196 Q85.7373 426.613 83.7929 427.492 L83.7929 410.131 Z\" fill=\"#000000\" fill-rule=\"evenodd\" fill-opacity=\"1\" /><path clip-path=\"url(#clip510)\" d=\"M56.6171 101.321 L72.9365 101.321 L72.9365 105.256 L50.9921 105.256 L50.9921 101.321 Q53.6541 98.5665 58.2375 93.9369 Q62.8439 89.2841 64.0245 87.9416 Q66.2698 85.4184 67.1494 83.6823 Q68.0522 81.9231 68.0522 80.2333 Q68.0522 77.4786 66.1078 75.7425 Q64.1865 74.0064 61.0847 74.0064 Q58.8856 74.0064 56.4319 74.7703 Q54.0014 75.5342 51.2236 77.0851 L51.2236 72.3629 Q54.0477 71.2287 56.5014 70.65 Q58.955 70.0713 60.9921 70.0713 Q66.3624 70.0713 69.5568 72.7565 Q72.7513 75.4416 72.7513 79.9323 Q72.7513 82.062 71.9411 83.9832 Q71.1541 85.8814 69.0476 88.474 Q68.4689 89.1453 65.367 92.3628 Q62.2652 95.5573 56.6171 101.321 Z\" fill=\"#000000\" fill-rule=\"evenodd\" fill-opacity=\"1\" /><path clip-path=\"url(#clip510)\" d=\"M92.7512 73.775 Q89.1401 73.775 87.3114 77.3398 Q85.5058 80.8814 85.5058 88.011 Q85.5058 95.1174 87.3114 98.6822 Q89.1401 102.224 92.7512 102.224 Q96.3854 102.224 98.1909 98.6822 Q100.02 95.1174 100.02 88.011 Q100.02 80.8814 98.1909 77.3398 Q96.3854 73.775 92.7512 73.775 M92.7512 70.0713 Q98.5613 70.0713 101.617 74.6777 Q104.696 79.261 104.696 88.011 Q104.696 96.7378 101.617 101.344 Q98.5613 105.928 92.7512 105.928 Q86.941 105.928 83.8623 101.344 Q80.8068 96.7378 80.8068 88.011 Q80.8068 79.261 83.8623 74.6777 Q86.941 70.0713 92.7512 70.0713 Z\" fill=\"#000000\" fill-rule=\"evenodd\" fill-opacity=\"1\" /><circle clip-path=\"url(#clip512)\" cx=\"203.301\" cy=\"87.9763\" r=\"14\" fill=\"#009af9\" fill-rule=\"evenodd\" fill-opacity=\"1\" stroke=\"#000000\" stroke-opacity=\"1\" stroke-width=\"3.2\"/>\n",
       "<circle clip-path=\"url(#clip512)\" cx=\"313.135\" cy=\"1178.69\" r=\"14\" fill=\"#009af9\" fill-rule=\"evenodd\" fill-opacity=\"1\" stroke=\"#000000\" stroke-opacity=\"1\" stroke-width=\"3.2\"/>\n",
       "<circle clip-path=\"url(#clip512)\" cx=\"422.969\" cy=\"1445.72\" r=\"14\" fill=\"#009af9\" fill-rule=\"evenodd\" fill-opacity=\"1\" stroke=\"#000000\" stroke-opacity=\"1\" stroke-width=\"3.2\"/>\n",
       "<circle clip-path=\"url(#clip512)\" cx=\"532.804\" cy=\"599.024\" r=\"14\" fill=\"#009af9\" fill-rule=\"evenodd\" fill-opacity=\"1\" stroke=\"#000000\" stroke-opacity=\"1\" stroke-width=\"3.2\"/>\n",
       "<circle clip-path=\"url(#clip512)\" cx=\"642.638\" cy=\"378.734\" r=\"14\" fill=\"#009af9\" fill-rule=\"evenodd\" fill-opacity=\"1\" stroke=\"#000000\" stroke-opacity=\"1\" stroke-width=\"3.2\"/>\n",
       "<circle clip-path=\"url(#clip512)\" cx=\"752.472\" cy=\"955.821\" r=\"14\" fill=\"#009af9\" fill-rule=\"evenodd\" fill-opacity=\"1\" stroke=\"#000000\" stroke-opacity=\"1\" stroke-width=\"3.2\"/>\n",
       "<circle clip-path=\"url(#clip512)\" cx=\"862.306\" cy=\"353.198\" r=\"14\" fill=\"#009af9\" fill-rule=\"evenodd\" fill-opacity=\"1\" stroke=\"#000000\" stroke-opacity=\"1\" stroke-width=\"3.2\"/>\n",
       "<circle clip-path=\"url(#clip512)\" cx=\"972.14\" cy=\"87.9763\" r=\"14\" fill=\"#009af9\" fill-rule=\"evenodd\" fill-opacity=\"1\" stroke=\"#000000\" stroke-opacity=\"1\" stroke-width=\"3.2\"/>\n",
       "<circle clip-path=\"url(#clip512)\" cx=\"1081.97\" cy=\"310.754\" r=\"14\" fill=\"#009af9\" fill-rule=\"evenodd\" fill-opacity=\"1\" stroke=\"#000000\" stroke-opacity=\"1\" stroke-width=\"3.2\"/>\n",
       "<circle clip-path=\"url(#clip512)\" cx=\"1191.81\" cy=\"960.179\" r=\"14\" fill=\"#009af9\" fill-rule=\"evenodd\" fill-opacity=\"1\" stroke=\"#000000\" stroke-opacity=\"1\" stroke-width=\"3.2\"/>\n",
       "<circle clip-path=\"url(#clip512)\" cx=\"1301.64\" cy=\"1005.09\" r=\"14\" fill=\"#009af9\" fill-rule=\"evenodd\" fill-opacity=\"1\" stroke=\"#000000\" stroke-opacity=\"1\" stroke-width=\"3.2\"/>\n",
       "<circle clip-path=\"url(#clip512)\" cx=\"1411.48\" cy=\"87.9763\" r=\"14\" fill=\"#009af9\" fill-rule=\"evenodd\" fill-opacity=\"1\" stroke=\"#000000\" stroke-opacity=\"1\" stroke-width=\"3.2\"/>\n",
       "<circle clip-path=\"url(#clip512)\" cx=\"1521.31\" cy=\"975.296\" r=\"14\" fill=\"#009af9\" fill-rule=\"evenodd\" fill-opacity=\"1\" stroke=\"#000000\" stroke-opacity=\"1\" stroke-width=\"3.2\"/>\n",
       "<circle clip-path=\"url(#clip512)\" cx=\"1631.15\" cy=\"684.588\" r=\"14\" fill=\"#009af9\" fill-rule=\"evenodd\" fill-opacity=\"1\" stroke=\"#000000\" stroke-opacity=\"1\" stroke-width=\"3.2\"/>\n",
       "<circle clip-path=\"url(#clip512)\" cx=\"1740.98\" cy=\"87.9763\" r=\"14\" fill=\"#009af9\" fill-rule=\"evenodd\" fill-opacity=\"1\" stroke=\"#000000\" stroke-opacity=\"1\" stroke-width=\"3.2\"/>\n",
       "<circle clip-path=\"url(#clip512)\" cx=\"1850.81\" cy=\"936.753\" r=\"14\" fill=\"#009af9\" fill-rule=\"evenodd\" fill-opacity=\"1\" stroke=\"#000000\" stroke-opacity=\"1\" stroke-width=\"3.2\"/>\n",
       "<circle clip-path=\"url(#clip512)\" cx=\"1960.65\" cy=\"87.9763\" r=\"14\" fill=\"#009af9\" fill-rule=\"evenodd\" fill-opacity=\"1\" stroke=\"#000000\" stroke-opacity=\"1\" stroke-width=\"3.2\"/>\n",
       "<circle clip-path=\"url(#clip512)\" cx=\"2070.48\" cy=\"1122.15\" r=\"14\" fill=\"#009af9\" fill-rule=\"evenodd\" fill-opacity=\"1\" stroke=\"#000000\" stroke-opacity=\"1\" stroke-width=\"3.2\"/>\n",
       "<circle clip-path=\"url(#clip512)\" cx=\"2180.32\" cy=\"931.698\" r=\"14\" fill=\"#009af9\" fill-rule=\"evenodd\" fill-opacity=\"1\" stroke=\"#000000\" stroke-opacity=\"1\" stroke-width=\"3.2\"/>\n",
       "<circle clip-path=\"url(#clip512)\" cx=\"2290.15\" cy=\"1048.06\" r=\"14\" fill=\"#009af9\" fill-rule=\"evenodd\" fill-opacity=\"1\" stroke=\"#000000\" stroke-opacity=\"1\" stroke-width=\"3.2\"/>\n",
       "<path clip-path=\"url(#clip510)\" d=\"\n",
       "M1980.81 198.898 L2279.02 198.898 L2279.02 95.2176 L1980.81 95.2176  Z\n",
       "  \" fill=\"#ffffff\" fill-rule=\"evenodd\" fill-opacity=\"1\"/>\n",
       "<polyline clip-path=\"url(#clip510)\" style=\"stroke:#000000; stroke-linecap:butt; stroke-linejoin:round; stroke-width:4; stroke-opacity:1; fill:none\" points=\"\n",
       "  1980.81,198.898 2279.02,198.898 2279.02,95.2176 1980.81,95.2176 1980.81,198.898 \n",
       "  \"/>\n",
       "<circle clip-path=\"url(#clip510)\" cx=\"2079.12\" cy=\"147.058\" r=\"23\" fill=\"#009af9\" fill-rule=\"evenodd\" fill-opacity=\"1\" stroke=\"#000000\" stroke-opacity=\"1\" stroke-width=\"5.12\"/>\n",
       "<path clip-path=\"url(#clip510)\" d=\"M2191.28 166.745 Q2189.47 171.375 2187.76 172.787 Q2186.04 174.199 2183.17 174.199 L2179.77 174.199 L2179.77 170.634 L2182.27 170.634 Q2184.03 170.634 2185 169.8 Q2185.98 168.967 2187.16 165.865 L2187.92 163.921 L2177.43 138.412 L2181.95 138.412 L2190.05 158.689 L2198.15 138.412 L2202.66 138.412 L2191.28 166.745 Z\" fill=\"#000000\" fill-rule=\"evenodd\" fill-opacity=\"1\" /><path clip-path=\"url(#clip510)\" d=\"M2209.96 160.402 L2217.6 160.402 L2217.6 134.037 L2209.29 135.703 L2209.29 131.444 L2217.55 129.778 L2222.22 129.778 L2222.22 160.402 L2229.86 160.402 L2229.86 164.338 L2209.96 164.338 L2209.96 160.402 Z\" fill=\"#000000\" fill-rule=\"evenodd\" fill-opacity=\"1\" /></svg>\n"
      ]
     },
     "execution_count": 27,
     "metadata": {},
     "output_type": "execute_result"
    }
   ],
   "source": [
    "V = fill(MaskedRate(UnitRate(),Causality.intervalUnion(0,T)), ne(G));\n",
    "Mp = StochasticModel(Igen, T, θp, G, θpgen, V);\n",
    "sample! = Sampler(Mp);\n",
    "xtrue = zeros(N)\n",
    "ni = 0\n",
    "sample!(xtrue)\n",
    "#=while !(0.45 < ni < 0.55)\n",
    "    sample!(xtrue)\n",
    "    ni = sum(xtrue .< T)/N\n",
    "end=#\n",
    "println(sum(xtrue .< T)/N)\n",
    "scatter(xtrue)\n",
    "#scatter!(xtrue .+ 1)\n",
    "#scatter!(xtrue .- 1)"
   ]
  },
  {
   "cell_type": "code",
   "execution_count": 29,
   "metadata": {},
   "outputs": [
    {
     "data": {
      "text/plain": [
       "11-element Vector{Tuple{Int64, Bool, Float64, Float64}}:\n",
       " (1, 0, 20.0, 1.0e-5)\n",
       " (2, 1, 20.0, 1.0e-5)\n",
       " (3, 1, 20.0, 1.0e-5)\n",
       " (4, 1, 20.0, 1.0e-5)\n",
       " (5, 1, 20.0, 1.0e-5)\n",
       " (6, 1, 20.0, 1.0e-5)\n",
       " (7, 1, 20.0, 1.0e-5)\n",
       " (8, 0, 20.0, 1.0e-5)\n",
       " (9, 1, 20.0, 1.0e-5)\n",
       " (10, 1, 20.0, 1.0e-5)\n",
       " (11, 1, 20.0, 1.0e-5)"
      ]
     },
     "execution_count": 29,
     "metadata": {},
     "output_type": "execute_result"
    }
   ],
   "source": [
    "nobs, p = 11, 1e-5 #p is mute\n",
    "O = [(ti = T; (i,xtrue[i] < ti,ti,p)) for i=1:nobs]\n",
    "#f_rate = 1e-5\n",
    "#O=[rand()< f_rate ? (o[1],!o[2],o[3],f_rate) : (o[1],o[2],o[3],f_rate) for o in O]"
   ]
  },
  {
   "cell_type": "markdown",
   "metadata": {},
   "source": [
    "## Causality "
   ]
  },
  {
   "cell_type": "code",
   "execution_count": 30,
   "metadata": {},
   "outputs": [],
   "source": [
    "#Softened model\n",
    "T = Float64(T)\n",
    "ε = 2e-3\n",
    "autoinf = GaussianRate(ε, T/2, T);\n",
    "θp2gen = getpargen(pseed, autoinf, inf_out);\n",
    "inf_in = GaussianRate(1., T/2, 3*T );\n",
    "\n",
    "θp2 = getpar(pseed, autoinf, inf_in);\n",
    "Mp2 = StochasticModel(Igen, T, θp2, G, θp2gen, V);"
   ]
  },
  {
   "cell_type": "code",
   "execution_count": 31,
   "metadata": {},
   "outputs": [],
   "source": [
    "θ = getpar(pseed, autoinf, inf_in);\n",
    "autoinf = GaussianRate(1., T/2, T);\n",
    "M = StochasticModel(Igauss, T, θ, G, θp2gen, V);"
   ]
  },
  {
   "cell_type": "code",
   "execution_count": 32,
   "metadata": {
    "tags": []
   },
   "outputs": [
    {
     "name": "stderr",
     "output_type": "stream",
     "text": [
      "\u001b[32mProgress: 100%|█████████████████████████████████████████| Time: 0:00:01\u001b[39m\n",
      "\u001b[34m  F:  8.00832849068997\u001b[39m\n"
     ]
    }
   ],
   "source": [
    "using ProgressMeter\n",
    "ProgressMeter.ijulia_behavior(:clear)\n",
    "F = descend!(Mp2, O; M=M, numsamples=500, numiters=50, \n",
    "         θmin=θmin, θmax=θmax,θgenmin=θgenmin, θgenmax=θgenmax, descender=SignDescender(0.1),\n",
    "         hyperdescender=SignDescender(0.));\n",
    "F = descend!(Mp2, O; M=M, numsamples=500, numiters=50, \n",
    "         θmin=θmin, θmax=θmax,θgenmin=θgenmin, θgenmax=θgenmax, descender=SignDescender(0.03),\n",
    "         hyperdescender=SignDescender(0.));"
   ]
  },
  {
   "cell_type": "code",
   "execution_count": 33,
   "metadata": {},
   "outputs": [
    {
     "data": {
      "text/plain": [
       "7×20 Matrix{Float64}:\n",
       "  0.000100149    0.00749506    0.00935145  …   0.00663511   0.0089737\n",
       "  0.000536131    0.00962936    0.0223517       0.00670515   0.0186687\n",
       " 24.8343         9.2951        4.89431        12.3147       9.10543\n",
       "  9.03031      172.224       149.627          46.7752      46.7752\n",
       "  0.0741858      1.66246       1.33488         0.987005     1.18172\n",
       "  0.527334      16.9709       13.3244      …  16.9709       7.31126\n",
       "  6.13414       24.9922       39.716          51.4501      47.4643"
      ]
     },
     "execution_count": 33,
     "metadata": {},
     "output_type": "execute_result"
    }
   ],
   "source": [
    "M.θ"
   ]
  },
  {
   "cell_type": "code",
   "execution_count": 34,
   "metadata": {},
   "outputs": [],
   "source": [
    "statscau = prior(M, numsamples=1000);"
   ]
  },
  {
   "cell_type": "markdown",
   "metadata": {},
   "source": [
    "## SoftMarg"
   ]
  },
  {
   "cell_type": "code",
   "execution_count": 82,
   "metadata": {},
   "outputs": [
    {
     "data": {
      "text/plain": [
       "11-element Vector{Tuple{Int64, Bool, Float64, Float64}}:\n",
       " (1, 0, 20.0, 1.0e-5)\n",
       " (2, 1, 20.0, 1.0e-5)\n",
       " (3, 1, 20.0, 1.0e-5)\n",
       " (4, 1, 20.0, 1.0e-5)\n",
       " (5, 1, 20.0, 1.0e-5)\n",
       " (6, 1, 20.0, 1.0e-5)\n",
       " (7, 1, 20.0, 1.0e-5)\n",
       " (8, 0, 20.0, 1.0e-5)\n",
       " (9, 1, 20.0, 1.0e-5)\n",
       " (10, 1, 20.0, 1.0e-5)\n",
       " (11, 1, 20.0, 1.0e-5)"
      ]
     },
     "execution_count": 82,
     "metadata": {},
     "output_type": "execute_result"
    }
   ],
   "source": [
    "Osoft = [(o[1],o[2],o[3],p) for o in O]"
   ]
  },
  {
   "cell_type": "code",
   "execution_count": 85,
   "metadata": {},
   "outputs": [
    {
     "name": "stderr",
     "output_type": "stream",
     "text": [
      "\u001b[32mProgress: 100%|█████████████████████████████████████████| Time: 0:00:12\u001b[39m\n"
     ]
    }
   ],
   "source": [
    "stats, weights = softpostnoise(Mp, Osoft; numsamples=5 * 10^5);"
   ]
  },
  {
   "cell_type": "markdown",
   "metadata": {},
   "source": [
    "## Sib"
   ]
  },
  {
   "cell_type": "code",
   "execution_count": 37,
   "metadata": {},
   "outputs": [
    {
     "data": {
      "text/plain": [
       "sibyl (generic function with 1 method)"
      ]
     },
     "execution_count": 37,
     "metadata": {},
     "output_type": "execute_result"
    }
   ],
   "source": [
    "using PyCall\n",
    "@pyimport sib\n",
    "function sibyl(N, T_cont, Λ, O, γ, λ ; dt=1/5, maxit = 400, tol = 1e-14)\n",
    "    \n",
    "    T = Int(round(T_cont / dt))\n",
    "    contacts = [(i-1,j-1,t, λ * dt) for t in 1:T for (j,i,v) in zip(findnz(Λ.A)...)];\n",
    "    obs = [[(i,-1,t) for t=1:T for i=0:N-1];\n",
    "           [(i-1,s,Int(round(t/dt))) for (i,s,t,p) in O]]\n",
    "    sort!(obs, lt=((i1,s1,t1),(i2,s2,t2))->(t1<t2))\n",
    "    prob_sus = 0.5\n",
    "    prob_seed=γ\n",
    "    pseed = prob_seed / (2 - prob_seed)\n",
    "    psus = prob_sus * (1 - pseed)\n",
    "    params = sib.Params(prob_r=sib.Exponential(mu=0), pseed=pseed, psus=psus,pautoinf=0,fp_rate=0,fn_rate=0)\n",
    "    f = sib.FactorGraph(contacts=contacts, observations=obs, params=params)\n",
    "    sib.iterate(f, maxit=maxit,tol=tol)\n",
    "    sib.iterate(f, maxit=maxit, damping=0.5, tol=tol)\n",
    "    sib.iterate(f, maxit=maxit, damping=0.9, tol=tol)\n",
    "    p_sib=[collect(n.bt) for n in f.nodes]\n",
    "    m_sib = zeros(N, T)\n",
    "    for i=1:N\n",
    "        m_sib[i,1] = p_sib[i][1] \n",
    "        for t=2:T\n",
    "            m_sib[i,t] = m_sib[i,t-1] + p_sib[i][t]\n",
    "        end\n",
    "    end \n",
    "    return m_sib\n",
    "end\n"
   ]
  },
  {
   "cell_type": "code",
   "execution_count": 38,
   "metadata": {},
   "outputs": [
    {
     "name": "stdout",
     "output_type": "stream",
     "text": [
      "sib.iterate(damp=0.0): 19/20 3.963e-02/1e-07      \n",
      "sib.iterate(damp=0.5): 19/20 2.785e-02/1e-07      \n",
      "21.169769048690796.9): 19/20 2.493e-02/1e-07      \n"
     ]
    }
   ],
   "source": [
    "a=time()\n",
    "dt = 1/4\n",
    "p_sib = sibyl(N, T, G, O, pseed, λ; dt=dt, maxit = 20, tol = 1e-7);\n",
    "b=time()\n",
    "println(b-a)"
   ]
  },
  {
   "cell_type": "markdown",
   "metadata": {},
   "source": [
    "# Heuristic"
   ]
  },
  {
   "cell_type": "code",
   "execution_count": 39,
   "metadata": {},
   "outputs": [
    {
     "name": "stderr",
     "output_type": "stream",
     "text": [
      "\u001b[32mProgress: 100%|█████████████████████████████████████████| Time: 0:00:00\u001b[39m\n"
     ]
    }
   ],
   "source": [
    "using IntervalUnionArithmetic\n",
    "T = Float64(T)\n",
    "struct HeuristicSI <: SI end\n",
    "θp2gen = getpargen(pseed, autoinf, inf_out);\n",
    "maskauto = fill(intervalUnion(0., T),N)\n",
    "maskinf = fill(intervalUnion(0., T),N)\n",
    "θfrench = getpar(pseed, autoinf, inf_in);\n",
    "Causality.individual(M::StochasticModel{HeuristicSI}, i::Int, θi = @view(M.θ[:,i]), θg = M.θgen ) = \n",
    "@views IndividualSI(θi[1], \n",
    "    MaskedRate(GaussianRate(θi[2:4]...),maskauto[i]), \n",
    "    MaskedRate(UnitRate(),maskinf[i]), \n",
    "    GaussianRate(θg[5:7]...),)\n",
    "inf_start_time = T * ones(N)\n",
    "for o in O\n",
    "    if o[2] == 1\n",
    "        inf_start_time[o[1]] = min(inf_start_time[o[1]], o[3] - 5)\n",
    "        maskauto[o[1]] = maskauto[o[1]] ∩ intervalUnion(o[3]-5, T)       \n",
    "        θfrench[2,o[1]] = 10^10\n",
    "        θfrench[3,o[1]] = o[3] - 5\n",
    "        θfrench[4,o[1]] = 100 * T\n",
    "    elseif o[2] == 0\n",
    "        maskinf[o[1]] = maskinf[o[1]] ∩ intervalUnion(o[3], T)\n",
    "        maskauto[o[1]] = maskauto[o[1]] ∩ intervalUnion(o[3], T)\n",
    "        θfrench[1,o[1]] = 1e-10\n",
    "    end\n",
    "end\n",
    "for i=1:N\n",
    "    if inf_start_time[i] != T \n",
    "        maskauto[i] = maskauto[i] ∩ intervalUnion(inf_start_time[i], T)\n",
    "    end\n",
    "end\n",
    "Mfrench = StochasticModel(HeuristicSI, T, θfrench, G, θp2gen);\n",
    "statsfre = prior(Mfrench,numsamples=10000); "
   ]
  },
  {
   "cell_type": "code",
   "execution_count": 40,
   "metadata": {},
   "outputs": [
    {
     "data": {
      "text/plain": [
       "MF_heu (generic function with 1 method)"
      ]
     },
     "execution_count": 40,
     "metadata": {},
     "output_type": "execute_result"
    }
   ],
   "source": [
    "function MF_heu(N, T_cont, Λ, O, γ, λ ; dt=1/5, maxit = 400)\n",
    "    T = Int(round(T_cont / dt))\n",
    "    p_MF = zeros(N,T) #prob to be S\n",
    "    p_MF[:,1] .= 1 - γ \n",
    "    obs_I = [o[1] for o in O if o[2] == 1]\n",
    "    obs_S = [o[1] for o in O if o[2] == 0]\n",
    "    for st = 1:maxit\n",
    "        for t = 2:T\n",
    "            for i = 1:N\n",
    "                p_MF[i,t] = p_MF[i,t-1]\n",
    "                for j in collect(Causality.outedges(Λ,1))\n",
    "                    p_MF[i,t] *= 1 - λ*(1 - p_MF[j.dst,t-1])\n",
    "                end\n",
    "                if i in obs_I                    \n",
    "                    o = O[i]\n",
    "                    p_MF[i, Int(round((o[3]-5)/dt)) : end] .= 0\n",
    "                end\n",
    "                if i in obs_S\n",
    "                    o = O[i]\n",
    "                    p_MF[i, 1 : Int(round(o[3]/dt))] .= 1\n",
    "                end\n",
    "            end\n",
    "        end\n",
    "    end\n",
    "    return 1 .- p_MF\n",
    "end"
   ]
  },
  {
   "cell_type": "code",
   "execution_count": 41,
   "metadata": {},
   "outputs": [
    {
     "data": {
      "text/plain": [
       "20×80 Matrix{Float64}:\n",
       " 0.05  0.0744602  0.109779  0.15952  …  1.0  1.0  1.0  1.0  1.0  1.0  1.0\n",
       " 0.05  0.0744602  0.109779  0.15952     1.0  1.0  1.0  1.0  1.0  1.0  1.0\n",
       " 0.05  0.0744602  0.109779  0.15952     1.0  1.0  1.0  1.0  1.0  1.0  1.0\n",
       " 0.05  0.0744602  0.109779  0.15952     1.0  1.0  1.0  1.0  1.0  1.0  1.0\n",
       " 0.05  0.0744602  0.109779  0.15952     1.0  1.0  1.0  1.0  1.0  1.0  1.0\n",
       " 0.05  0.0744602  0.109779  0.15952  …  1.0  1.0  1.0  1.0  1.0  1.0  1.0\n",
       " 0.05  0.0744602  0.109779  0.15952     1.0  1.0  1.0  1.0  1.0  1.0  1.0\n",
       " 0.05  0.0744602  0.109779  0.15952     1.0  1.0  1.0  1.0  1.0  1.0  1.0\n",
       " 0.05  0.0744602  0.109779  0.15952     1.0  1.0  1.0  1.0  1.0  1.0  1.0\n",
       " 0.05  0.0744602  0.109779  0.15952     1.0  1.0  1.0  1.0  1.0  1.0  1.0\n",
       " 0.05  0.0744602  0.109779  0.15952  …  1.0  1.0  1.0  1.0  1.0  1.0  1.0\n",
       " 0.05  0.0744602  0.109779  0.15952     1.0  1.0  1.0  1.0  1.0  1.0  1.0\n",
       " 0.05  0.0744602  0.109779  0.15952     1.0  1.0  1.0  1.0  1.0  1.0  1.0\n",
       " 0.05  0.0744602  0.109779  0.15952     1.0  1.0  1.0  1.0  1.0  1.0  1.0\n",
       " 0.05  0.0744602  0.109779  0.15952     1.0  1.0  1.0  1.0  1.0  1.0  1.0\n",
       " 0.05  0.0744602  0.109779  0.15952  …  1.0  1.0  1.0  1.0  1.0  1.0  1.0\n",
       " 0.05  0.0744602  0.109779  0.15952     1.0  1.0  1.0  1.0  1.0  1.0  1.0\n",
       " 0.05  0.0744602  0.109779  0.15952     1.0  1.0  1.0  1.0  1.0  1.0  1.0\n",
       " 0.05  0.0744602  0.109779  0.15952     1.0  1.0  1.0  1.0  1.0  1.0  1.0\n",
       " 0.05  0.0744602  0.109779  0.15952     1.0  1.0  1.0  1.0  1.0  1.0  1.0"
      ]
     },
     "execution_count": 41,
     "metadata": {},
     "output_type": "execute_result"
    }
   ],
   "source": [
    "p_MF = MF_heu(N, T, G, [], 1/N, λ ; dt=dt, maxit = 100)"
   ]
  },
  {
   "cell_type": "markdown",
   "metadata": {},
   "source": [
    "## Metropolis Monte Carlo"
   ]
  },
  {
   "cell_type": "code",
   "execution_count": null,
   "metadata": {
    "tags": []
   },
   "outputs": [
    {
     "name": "stderr",
     "output_type": "stream",
     "text": [
      "\u001b[32mProgress:  46%|██████████████████▋                      |  ETA: 0:41:04\u001b[39m\n",
      "\u001b[34m  acc_ratio:  0.35\u001b[39m"
     ]
    }
   ],
   "source": [
    "K =  Causality.RectifiedGaussMove(4.0)\n",
    "#stats_mh = Causality.metropolis_sampling_parallel(Mp, O, K; numsamples = 10^3,numsteps=10^3,nfirst = 10^3)\n",
    "stats_mh = Causality.metropolis_sampling_sequential(Mp, O, K; numsamples = 5 * 10^5,numsteps=10^2,nfirst = 10^4);\n",
    "stats_mh1 = Causality.metropolis_sampling_sequential(Mp, O, K; numsamples = 10^3,numsteps=10,nfirst = 10^3);"
   ]
  },
  {
   "cell_type": "markdown",
   "metadata": {},
   "source": [
    "\n",
    "## Marginals and ROC curve"
   ]
  },
  {
   "cell_type": "code",
   "execution_count": null,
   "metadata": {},
   "outputs": [],
   "source": [
    "function marginal(i, t, stats)\n",
    "    numsamp = size(stats,1)\n",
    "    sum(stats[:,i] .< t)/numsamp\n",
    "end\n",
    "\n",
    "function reweighted_marginal(i, t, stats, weights)\n",
    "    numsamp = size(stats,1)\n",
    "    @assert numsamp == size(weights,1)\n",
    "    weights ./= maximum(weights)\n",
    "    sum(weights .* (stats[:,i] .< t))/sum(weights)\n",
    "end\n",
    "\n",
    "function tpr(xtrue, rank) \n",
    "    cumsum(xtrue[rank]) ./( cumsum(xtrue[rank])[end])\n",
    "end\n",
    "\n",
    "function fpr(xtrue, rank) \n",
    "    N = size(rank,1)\n",
    "    return (range(1,N,length=N) .- cumsum(xtrue[rank])) ./ (range(1,N,length=N) .- cumsum(xtrue[rank]) )[end]\n",
    "end\n",
    "\n",
    "function ROC(xtrue, p)\n",
    "    N = size(xtrue,1)\n",
    "    rank = sortperm(p, rev=true)\n",
    "    \n",
    "    return fpr(xtrue, rank) , tpr(xtrue, rank)\n",
    "end\n",
    "\n",
    "function AUROC(ROC)\n",
    "    N = size(ROC[1],1) \n",
    "    AU = 0\n",
    "    for t = 1:N-1\n",
    "        AU += ROC[2][t] * (ROC[1][t+1] - ROC[1][t])\n",
    "    end\n",
    "    return AU\n",
    "end"
   ]
  },
  {
   "cell_type": "code",
   "execution_count": null,
   "metadata": {},
   "outputs": [],
   "source": [
    "#Marginals\n",
    "bins = 2 * Int(T)\n",
    "using Plots\n",
    "p_cau = zeros(N,bins)\n",
    "p_french = zeros(N,bins)\n",
    "p_mh = zeros(N,bins)\n",
    "p_mh1 = zeros(N,bins)\n",
    "p_soft = zeros(N,bins)\n",
    "for i = 1:N\n",
    "    for t = 1:bins\n",
    "       p_cau[i,t] = marginal(i, t*T/bins, statscau)\n",
    "       p_french[i,t] = marginal(i, t*T/bins, statsfre)\n",
    "       p_mh[i,t] = marginal(i, t*T/bins, stats_mh)\n",
    "       p_mh1[i,t] = marginal(i, t*T/bins, stats_mh1) \n",
    "       p_soft[i,t] = reweighted_marginal(i, t*T/bins, stats, weights)\n",
    "    end\n",
    "end"
   ]
  },
  {
   "cell_type": "code",
   "execution_count": null,
   "metadata": {},
   "outputs": [],
   "source": [
    "O"
   ]
  },
  {
   "cell_type": "code",
   "execution_count": 121,
   "metadata": {},
   "outputs": [],
   "source": [
    "\n",
    "i = 11\n",
    "#p1 = plot(LinRange(1,Int(T),bins-1),diff(p_cau[i,:]), label = \"cau\")\n",
    "p1 = plot(LinRange(1,Int(T),bins-1),diff(p_soft[i,:]), label = \"soft\")\n",
    "p1 = plot!(LinRange(1,Int(T),bins-1),diff(p_mh[i,:]), label = \"MH\")\n",
    "#p1 = plot!(LinRange(1,Int(T),bins-1),diff(p_mh1[i,:]), label = \"MH_iter=10\")\n",
    "\n",
    "i = 19\n",
    "#p2 = plot(LinRange(1,Int(T),bins-1),diff(p_cau[i,:]), label = \"cau\")\n",
    "p2 = plot(LinRange(1,Int(T),bins-1),diff(p_soft[i,:]), label = \"soft\")\n",
    "p2 = plot!(LinRange(1,Int(T),bins-1),diff(p_mh[i,:]), label = \"MH\")\n",
    "#p2 = plot!(LinRange(1,Int(T),bins-1),diff(p_mh1[i,:]), label = \"MH_iter=10\")\n",
    "\n",
    "i = 17\n",
    "#p3 = plot(LinRange(1,Int(T),bins-1),diff(p_cau[i,:]), label = \"cau\")\n",
    "p3 = plot(LinRange(1,Int(T),bins-1),diff(p_soft[i,:]), label = \"soft\")\n",
    "p3 = plot!(LinRange(1,Int(T),bins-1),diff(p_mh[i,:]), label = \"MH\")\n",
    "#p3 = plot!(LinRange(1,Int(T),bins-1),diff(p_mh1[i,:]), label = \"MH_iter=10\")\n",
    "\n",
    "i = 9\n",
    "#p4 = plot(LinRange(1,Int(T),bins-1),diff(p_cau[i,:]), label = \"cau\")\n",
    "p4 = plot(LinRange(1,Int(T),bins-1),diff(p_soft[i,:]), label = \"soft\")\n",
    "p4 = plot!(LinRange(1,Int(T),bins-1),diff(p_mh[i,:]), label = \"MH\")\n",
    "#p4 = plot!(LinRange(1,Int(T),bins-1),diff(p_mh1[i,:]), label = \"MH_iter=10\")\n",
    "\n",
    "plot(p1,p2,p3,p4,size=(1000,500))\n",
    "\n",
    "savefig(\"comparison.pdf\")"
   ]
  },
  {
   "cell_type": "code",
   "execution_count": 49,
   "metadata": {},
   "outputs": [
    {
     "ename": "LoadError",
     "evalue": "UndefVarError: stats_mh not defined",
     "output_type": "error",
     "traceback": [
      "UndefVarError: stats_mh not defined",
      "",
      "Stacktrace:",
      " [1] top-level scope",
      "   @ ./In[49]:23",
      " [2] eval",
      "   @ ./boot.jl:373 [inlined]",
      " [3] include_string(mapexpr::typeof(REPL.softscope), mod::Module, code::String, filename::String)",
      "   @ Base ./loading.jl:1196"
     ]
    }
   ],
   "source": [
    "#AUROC curves\n",
    "\n",
    "T = Int(T)\n",
    "AU_curve=zeros(T)\n",
    "AU_curveLoc=zeros(T)\n",
    "AU_sib=zeros(T)\n",
    "AU_MF=zeros(T)\n",
    "AU_french = zeros(T)\n",
    "AU_soft = zeros(T)\n",
    "AU_MH = zeros(T)\n",
    "for t = 1:T\n",
    "    cau_risk=zeros(N)\n",
    "    cau_riskLoc=zeros(N)\n",
    "    sib_risk = zeros(N)\n",
    "    MF_risk = zeros(N)\n",
    "    french_risk = zeros(N)\n",
    "    MH_risk = zeros(N)\n",
    "    soft_risk = zeros(N)\n",
    "    for i=1:N\n",
    "       cau_risk[i] = marginal(i,t,statscau)\n",
    "        #cau_riskLoc[i] = marginal(i,t,statscauLoc)\n",
    "       french_risk[i] = marginal(i,t,statsfre)\n",
    "       MH_risk[i] = marginal(i,t,stats_mh)\n",
    "       sib_risk[i] = p_sib[i,Int(round(t/dt))]\n",
    "        MF_risk[i] = p_MF[i,Int(round(t/dt))]\n",
    "       soft_risk[i] = reweighted_marginal(i, t*T/bins, stats, weights)\n",
    "    end\n",
    "    xt = xtrue .< t\n",
    "    AU_soft[t] = AUROC(ROC(xt, soft_risk))\n",
    "    AU_curve[t] = AUROC(ROC(xt, cau_risk))\n",
    "    #AU_curveLoc[t] = AUROC(ROC(xt, cau_riskLoc))\n",
    "    AU_french[t] = AUROC(ROC(xt, french_risk))\n",
    "    AU_MH[t] = AUROC(ROC(xt, MH_risk))\n",
    "    AU_sib[t] = AUROC(ROC(xt, sib_risk))\n",
    "    AU_MF[t] = AUROC(ROC(xt, MF_risk))\n",
    "end\n",
    "\n",
    "plot(LinRange(1,T,T),AU_curve, label=\"AUCau\", title=\"Causality VS Sib AUROC in function of time\")\n",
    "scatter!(LinRange(1,T,T),AU_soft, label=\"AUSoft\",legend=:bottomleft)\n",
    "#plot!(LinRange(1,T,T),AU_french, label=\"AUFrench\")\n",
    "scatter!(LinRange(1,T,T),AU_MH, label=\"AUMH\")\n",
    "#plot!(LinRange(1,T,T),AU_curveLoc, label=\"Loc\")\n",
    "#scatter!(LinRange(1,T,T), AU_sib, label=\"AUsib\")\n",
    "#scatter!(LinRange(1,T,T), AU_MF, label=\"AUMF\")\n",
    "xlabel!(\"t\")\n",
    "ylabel!(\"AUROC\")\n",
    "#savefig(\"confronti.pdf\")\n",
    "#ylims!(0.5,1.01)"
   ]
  },
  {
   "cell_type": "code",
   "execution_count": null,
   "metadata": {},
   "outputs": [],
   "source": []
  },
  {
   "cell_type": "code",
   "execution_count": null,
   "metadata": {},
   "outputs": [],
   "source": []
  },
  {
   "cell_type": "code",
   "execution_count": null,
   "metadata": {},
   "outputs": [],
   "source": []
  }
 ],
 "metadata": {
  "kernelspec": {
   "display_name": "Julia 1.7.0-rc2",
   "language": "julia",
   "name": "julia-1.7"
  },
  "language_info": {
   "file_extension": ".jl",
   "mimetype": "application/julia",
   "name": "julia",
   "version": "1.7.0"
  }
 },
 "nbformat": 4,
 "nbformat_minor": 4
}
