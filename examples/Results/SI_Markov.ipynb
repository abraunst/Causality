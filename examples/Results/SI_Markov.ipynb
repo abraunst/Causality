{
 "cells": [
  {
   "cell_type": "code",
   "execution_count": 202,
   "metadata": {},
   "outputs": [],
   "source": [
    "using SparseArrays, LinearAlgebra\n",
    "#using Pkg\n",
    "#Pkg.activ§ate(\"../\")\n",
    "using Causality"
   ]
  },
  {
   "cell_type": "markdown",
   "metadata": {},
   "source": [
    "# Generation of Epidemics"
   ]
  },
  {
   "cell_type": "code",
   "execution_count": 241,
   "metadata": {},
   "outputs": [
    {
     "data": {
      "text/plain": [
       "40×40 SparseMatrixCSC{IndexedGraphs.NullNumber, Int64} with 466 stored entries:\n",
       "⣊⠘⡃⡃⠄⢛⢜⢘⠠⢜⠛⡣⡃⠢⠠⡣⢘⠤⠣⠓\n",
       "⠭⠨⢄⠑⠀⠠⠨⠨⠀⠨⠁⢅⢔⠀⣂⠅⡢⠀⠁⠈\n",
       "⣤⢁⠀⡀⠠⡢⢅⢆⡮⢁⢲⠈⡄⢪⠈⡮⢀⡍⠊⡆\n",
       "⣒⢑⡂⡂⠡⢕⢀⠐⠬⢑⠠⡊⡂⠈⠈⡪⢐⠍⠈⠄\n",
       "⣀⢆⡀⡀⠎⢋⢆⢃⠀⠀⠉⡠⡀⠑⠰⡱⢀⠲⠰⠃\n",
       "⠿⡠⠅⢄⡘⠒⡠⠢⠃⡠⠊⠀⢂⠃⢀⠇⠠⢂⢃⠋\n",
       "⠩⡈⠐⠑⡠⣉⡈⠈⢄⠈⠬⠐⣊⠘⢒⢅⡋⣑⢄⡡\n",
       "⠤⡢⠌⠜⡢⡤⡢⡠⢔⡢⠤⠔⠜⢔⢊⠐⠣⣒⢔⡤\n",
       "⠒⡔⠈⠊⡄⠴⡔⠔⢠⡐⠠⢂⢏⢨⢩⢢⡊⡨⢠⠄\n",
       "⢭⠂⡁⠀⠪⠤⠂⠄⠴⠂⡭⠐⠄⡱⠐⡵⠀⠖⡀⠈"
      ]
     },
     "execution_count": 241,
     "metadata": {},
     "output_type": "execute_result"
    }
   ],
   "source": [
    "T, N = 20.0, 40\n",
    "#G = Causality.makeBarabasi(N,k=2)\n",
    "#ρ = 3/N\n",
    "#G = Causality.makeGNP(N,ρ)\n",
    "G = Causality.makeProximity(N,5/N)\n",
    "G.A "
   ]
  },
  {
   "cell_type": "code",
   "execution_count": 242,
   "metadata": {},
   "outputs": [
    {
     "data": {
      "text/plain": [
       "getpargen (generic function with 1 method)"
      ]
     },
     "execution_count": 242,
     "metadata": {},
     "output_type": "execute_result"
    }
   ],
   "source": [
    "getpar(pseed,autoinf::GaussianRate,inf_in::GaussianRate) = \n",
    "    [fill(pseed, 1, N);\n",
    "     fill(autoinf.a, 1, N); fill(autoinf.b, 1, N); fill(autoinf.c, 1, N);\n",
    "     fill(inf_in.a,   1, N); fill(inf_in.b, 1, N); fill(inf_in.c, 1, N);\n",
    "    ]\n",
    "\n",
    "getpargen(pseed, autoinf::GaussianRate, inf_out::GaussianRate) = \n",
    "    [pseed autoinf.a autoinf.b autoinf.c inf_out.a inf_out.b inf_out.c]\n"
   ]
  },
  {
   "cell_type": "code",
   "execution_count": 243,
   "metadata": {},
   "outputs": [],
   "source": [
    "#Initialize generation parameters\n",
    "ε = 1e-10\n",
    "λ = 0.01\n",
    "pseed = 1/N\n",
    "autoinf = GaussianRate(ε, T/2, 1/ε)\n",
    "inf_in = GaussianRate(1.0, T/2, 1/ε)\n",
    "inf_out = GaussianRate(λ, T/2, 1/ε)\n",
    "\n",
    "θp = getpar(pseed, autoinf, inf_in);\n",
    "θpgen = getpargen(pseed, autoinf, inf_out);"
   ]
  },
  {
   "cell_type": "code",
   "execution_count": 244,
   "metadata": {},
   "outputs": [],
   "source": [
    "#Initialize min/max boundaies\n",
    "T = Float64(T)\n",
    "pseed_min = ε\n",
    "pseed_max = 1-ε\n",
    "rate_min = GaussianRate(ε  ,  -T,   ε)\n",
    "rate_max = GaussianRate(1/ε  ,  2T,   1/ε)\n",
    "\n",
    "θmin = getpar(pseed_min , rate_min, rate_min);\n",
    "θmax = getpar(pseed_max , rate_max, rate_max);\n",
    "\n",
    "rate_min = GaussianRate(ε  ,  -T,   ε)\n",
    "rate_max = GaussianRate(1/ε  ,  T,   T)\n",
    "\n",
    "θgenmin = getpargen(pseed_min, rate_min, rate_min);\n",
    "θgenmax = getpargen(pseed_max, rate_max, rate_max);"
   ]
  },
  {
   "cell_type": "code",
   "execution_count": 245,
   "metadata": {},
   "outputs": [
    {
     "data": {
      "text/plain": [
       "GaussianInferentialSI"
      ]
     },
     "execution_count": 245,
     "metadata": {},
     "output_type": "execute_result"
    }
   ],
   "source": [
    "const Igen = GenerativeSI{GaussianRate,GaussianRate} \n",
    "const Igauss = GaussianInferentialSI"
   ]
  },
  {
   "cell_type": "code",
   "execution_count": 246,
   "metadata": {},
   "outputs": [
    {
     "data": {
      "text/plain": [
       "0.35"
      ]
     },
     "execution_count": 246,
     "metadata": {},
     "output_type": "execute_result"
    }
   ],
   "source": [
    "Mp = StochasticModel(Igen, T, θp, G, θpgen);\n",
    "sample! = Sampler(Mp);\n",
    "xtrue = zeros(N)\n",
    "sample!(xtrue)\n",
    "sum(xtrue .< T)/N"
   ]
  },
  {
   "cell_type": "code",
   "execution_count": 249,
   "metadata": {},
   "outputs": [
    {
     "data": {
      "text/plain": [
       "22-element Vector{Tuple{Int64, Bool, Float64, Float64}}:\n",
       " (1, 0, 16.75959831712561, 1.0e-10)\n",
       " (2, 1, 13.439498259502658, 1.0e-10)\n",
       " (3, 0, 18.244746742017227, 1.0e-10)\n",
       " (4, 0, 15.112896186916815, 1.0e-10)\n",
       " (5, 0, 18.206908612156965, 1.0e-10)\n",
       " (6, 0, 16.72199945665048, 1.0e-10)\n",
       " (7, 0, 11.412308998201155, 1.0e-10)\n",
       " (8, 0, 13.123832549094452, 1.0e-10)\n",
       " (9, 1, 13.018576968127782, 1.0e-10)\n",
       " (10, 1, 17.635985001557664, 1.0e-10)\n",
       " (11, 0, 16.011387190554874, 1.0e-10)\n",
       " (12, 0, 18.005780444167613, 1.0e-10)\n",
       " (13, 0, 12.718819916314155, 1.0e-10)\n",
       " (14, 0, 16.658686808830446, 1.0e-10)\n",
       " (15, 1, 11.760403406814987, 1.0e-10)\n",
       " (16, 0, 16.184067974296134, 1.0e-10)\n",
       " (17, 0, 18.714250727800255, 1.0e-10)\n",
       " (18, 0, 19.556898917321814, 1.0e-10)\n",
       " (19, 0, 11.990858623412839, 1.0e-10)\n",
       " (20, 0, 16.09868726900642, 1.0e-10)\n",
       " (21, 1, 15.910513046264203, 1.0e-10)\n",
       " (22, 0, 17.83186753812317, 1.0e-10)"
      ]
     },
     "execution_count": 249,
     "metadata": {},
     "output_type": "execute_result"
    }
   ],
   "source": [
    "nobs, p = 22, 1e-5 #p is mute\n",
    "O = [(ti = T*(1+rand())/2; (i,xtrue[i] < ti,ti,p)) for i=1:nobs]\n",
    "f_rate = 1e-10\n",
    "O=[rand()< f_rate ? (o[1],!o[2],o[3],f_rate) : (o[1],o[2],o[3],f_rate) for o in O]"
   ]
  },
  {
   "cell_type": "markdown",
   "metadata": {},
   "source": [
    "## Causality "
   ]
  },
  {
   "cell_type": "code",
   "execution_count": 250,
   "metadata": {},
   "outputs": [],
   "source": [
    "#Softened model\n",
    "T = Float64(T)\n",
    "ε = 2e-3\n",
    "autoinf = GaussianRate(ε, T/2, T);\n",
    "θp2gen = getpargen(pseed, autoinf, inf_out);\n",
    "inf_in = GaussianRate(1., T/2, 3*T );\n",
    "\n",
    "θp2 = getpar(pseed, autoinf, inf_in);\n",
    "Mp2 = StochasticModel(Igen, T, θp2, G, θp2gen);"
   ]
  },
  {
   "cell_type": "code",
   "execution_count": 251,
   "metadata": {},
   "outputs": [],
   "source": [
    "θ = getpar(pseed, autoinf, inf_in);\n",
    "autoinf = GaussianRate(0.1, T/2, T);\n",
    "M = StochasticModel(Igauss, T, θ, G, θp2gen);"
   ]
  },
  {
   "cell_type": "code",
   "execution_count": null,
   "metadata": {},
   "outputs": [
    {
     "name": "stderr",
     "output_type": "stream",
     "text": [
      "\u001b[32mProgress:  88%|████████████████████████████████████▏    |  ETA: 0:00:04\u001b[39m\n",
      "\u001b[34m  F:  23.467457684066375\u001b[39m"
     ]
    }
   ],
   "source": [
    "using ProgressMeter\n",
    "ProgressMeter.ijulia_behavior(:clear)\n",
    "F = descend!(Mp2, O; M=M, numsamples=1000, numiters=100, \n",
    "         θmin=θmin, θmax=θmax,θgenmin=θgenmin, θgenmax=θgenmax, descender=SignDescender(0.1),\n",
    "         hyperdescender=SignDescender(0.));\n",
    "F = descend!(Mp2, O; M=M, numsamples=1000, numiters=100, \n",
    "         θmin=θmin, θmax=θmax,θgenmin=θgenmin, θgenmax=θgenmax, descender=SignDescender(0.03),\n",
    "         hyperdescender=SignDescender(0.));\n",
    "F"
   ]
  },
  {
   "cell_type": "code",
   "execution_count": null,
   "metadata": {},
   "outputs": [],
   "source": [
    "statscau = prior(M, numsamples=10000);"
   ]
  },
  {
   "cell_type": "markdown",
   "metadata": {},
   "source": [
    "## SoftMarg"
   ]
  },
  {
   "cell_type": "code",
   "execution_count": null,
   "metadata": {},
   "outputs": [],
   "source": [
    "stats, weights = softpostnoise(Mp, O; numsamples=2 * 10^5)"
   ]
  },
  {
   "cell_type": "markdown",
   "metadata": {},
   "source": [
    "## Sib"
   ]
  },
  {
   "cell_type": "code",
   "execution_count": null,
   "metadata": {},
   "outputs": [],
   "source": [
    "using PyCall\n",
    "@pyimport sib\n",
    "function sibyl(N, T_cont, Λ, O, γ, λ ; dt=1/5, maxit = 400, tol = 1e-14)\n",
    "    \n",
    "    T = Int(round(T_cont / dt))\n",
    "    contacts = [(i-1,j-1,t, λ * dt) for t in 1:T for (i,j,v) in zip(findnz(Λ.A)...)];\n",
    "    obs = [[(i,-1,t) for t=1:T for i=0:N-1];\n",
    "           [(i-1,s,Int(round(t/dt))) for (i,s,t,p) in O]]\n",
    "    sort!(obs, lt=((i1,s1,t1),(i2,s2,t2))->(t1<t2))\n",
    "    prob_sus = 0.5\n",
    "    prob_seed=γ\n",
    "    pseed = prob_seed / (2 - prob_seed)\n",
    "    psus = prob_sus * (1 - pseed)\n",
    "    params = sib.Params(prob_r=sib.Exponential(mu=0), pseed=pseed, psus=psus,pautoinf=1e-10,fp_rate=1e-10,fn_rate=1e-10)\n",
    "    f = sib.FactorGraph(contacts=contacts, observations=obs, params=params)\n",
    "    sib.iterate(f, maxit=maxit,tol=tol)\n",
    "    sib.iterate(f, maxit=maxit, damping=0.5, tol=tol)\n",
    "    sib.iterate(f, maxit=maxit, damping=0.9, tol=tol)\n",
    "    p_sib=[collect(n.bt) for n in f.nodes]\n",
    "    m_sib = zeros(N, T)\n",
    "    for i=1:N\n",
    "        m_sib[i,1] = p_sib[i][1] \n",
    "        for t=2:T\n",
    "            m_sib[i,t] = m_sib[i,t-1] + p_sib[i][t]\n",
    "        end\n",
    "    end \n",
    "    return m_sib\n",
    "end\n"
   ]
  },
  {
   "cell_type": "code",
   "execution_count": null,
   "metadata": {},
   "outputs": [],
   "source": [
    "a=time()\n",
    "dt = 1/4\n",
    "p_sib = sibyl(N, T, G, O, 1/N, λ; dt=dt, maxit = 40, tol = 1e-7);\n",
    "b=time()\n",
    "println(b-a)"
   ]
  },
  {
   "cell_type": "markdown",
   "metadata": {},
   "source": [
    "# Heuristic"
   ]
  },
  {
   "cell_type": "code",
   "execution_count": null,
   "metadata": {},
   "outputs": [],
   "source": [
    "using IntervalUnionArithmetic\n",
    "T = Float64(T)\n",
    "struct HeuristicSI <: SI end\n",
    "θp2gen = getpargen(pseed, autoinf, inf_out);\n",
    "maskauto = fill(intervalUnion(0., T),N)\n",
    "maskinf = fill(intervalUnion(0., T),N)\n",
    "θfrench = getpar(pseed, autoinf, inf_in);\n",
    "Causality.individual(M::StochasticModel{HeuristicSI}, i::Int, θi = @view(M.θ[:,i]), θg = M.θgen ) = \n",
    "@views IndividualSI(θi[1], \n",
    "    MaskedRate(GaussianRate(θi[2:4]...),maskauto[i]), \n",
    "    MaskedRate(UnitRate(),maskinf[i]), \n",
    "    GaussianRate(θg[5:7]...),)\n",
    "inf_start_time = T * ones(N)\n",
    "for o in O\n",
    "    if o[2] == 1\n",
    "        inf_start_time[o[1]] = min(inf_start_time[o[1]], o[3] - 5)\n",
    "        maskauto[o[1]] = maskauto[o[1]] ∩ intervalUnion(o[3]-5, T)       \n",
    "        θfrench[2,o[1]] = 10^10\n",
    "        θfrench[3,o[1]] = o[3] - 5\n",
    "        θfrench[4,o[1]] = 100 * T\n",
    "    elseif o[2] == 0\n",
    "        maskinf[o[1]] = maskinf[o[1]] ∩ intervalUnion(o[3], T)\n",
    "        maskauto[o[1]] = maskauto[o[1]] ∩ intervalUnion(o[3], T)\n",
    "        θfrench[1,o[1]] = 1e-10\n",
    "    end\n",
    "end\n",
    "for i=1:N\n",
    "    if inf_start_time[i] != T \n",
    "        maskauto[i] = maskauto[i] ∩ intervalUnion(inf_start_time[i], T)\n",
    "    end\n",
    "end\n",
    "Mfrench = StochasticModel(HeuristicSI, T, θfrench, G, θp2gen);\n",
    "statsfre = prior(Mfrench,numsamples=2000); "
   ]
  },
  {
   "cell_type": "code",
   "execution_count": null,
   "metadata": {},
   "outputs": [],
   "source": [
    "function MF_heu(N, T_cont, Λ, O, γ, λ ; dt=1/5, maxit = 400)\n",
    "    T = Int(round(T_cont / dt))\n",
    "    p_MF = zeros(N,T) #prob to be S\n",
    "    p_MF[:,1] .= 1 - γ \n",
    "    obs_I = [o[1] for o in O if o[2] == 1]\n",
    "    obs_S = [o[1] for o in O if o[2] == 0]\n",
    "    for st = 1:maxit\n",
    "        for t = 2:T\n",
    "            for i = 1:N\n",
    "                p_MF[i,t] = p_MF[i,t-1]\n",
    "                for j in collect(Causality.outedges(Λ,1))\n",
    "                    p_MF[i,t] *= 1 - λ*(1 - p_MF[j.dst,t-1])\n",
    "                end\n",
    "                if i in obs_I                    \n",
    "                    o = O[i]\n",
    "                    p_MF[i, Int(round((o[3]-5)/dt)) : end] .= 0\n",
    "                end\n",
    "                if i in obs_S\n",
    "                    o = O[i]\n",
    "                    p_MF[i, 1 : Int(round(o[3]/dt))] .= 1\n",
    "                end\n",
    "            end\n",
    "        end\n",
    "    end\n",
    "    m_MF = zeros(N,T)\n",
    "    m_MF[:,1] = 1 .- p_MF[:,1]\n",
    "    for t = 2:T\n",
    "        m_MF[:,t] = p_MF[:,t-1] .- p_MF[:,t]\n",
    "    end\n",
    "    return m_MF\n",
    "end"
   ]
  },
  {
   "cell_type": "markdown",
   "metadata": {},
   "source": [
    "## Metropolis Monte Carlo"
   ]
  },
  {
   "cell_type": "code",
   "execution_count": null,
   "metadata": {},
   "outputs": [],
   "source": [
    "K = Causality.GaussMove(2.0)\n",
    "#stats_mh = Causality.metropolis_sampling_parallel(Mp, O, K; numsamples = 10^3,numsteps=10^3)\n",
    "stats_mh = Causality.metropolis_sampling_sequential(Mp, O, K; numsamples = 2,numsteps=10^5);"
   ]
  },
  {
   "cell_type": "markdown",
   "metadata": {},
   "source": [
    "\n",
    "## Marginals and ROC curve"
   ]
  },
  {
   "cell_type": "code",
   "execution_count": null,
   "metadata": {},
   "outputs": [],
   "source": [
    "function marginal(i, t, stats)\n",
    "    numsamp = size(stats,1)\n",
    "    sum(stats[:,i] .< t)/numsamp\n",
    "end\n",
    "\n",
    "function reweighted_marginal(i, t, stats, weights)\n",
    "    numsamp = size(stats,1)\n",
    "    @assert numsamp == size(weights,1)\n",
    "    weights ./= maximum(weights)\n",
    "    sum(weights .* (stats[:,i] .< t))/sum(weights)\n",
    "end\n",
    "\n",
    "function tpr(xtrue, rank) \n",
    "    cumsum(xtrue[rank]) ./( cumsum(xtrue[rank])[end])\n",
    "end\n",
    "\n",
    "function fpr(xtrue, rank) \n",
    "    N = size(rank,1)\n",
    "    return (range(1,N,length=N) .- cumsum(xtrue[rank])) ./ (range(1,N,length=N) .- cumsum(xtrue[rank]) )[end]\n",
    "end\n",
    "\n",
    "function ROC(xtrue, p)\n",
    "    N = size(xtrue,1)\n",
    "    rank = sortperm(p, rev=true)\n",
    "    \n",
    "    return fpr(xtrue, rank) , tpr(xtrue, rank)\n",
    "end\n",
    "\n",
    "function AUROC(ROC)\n",
    "    N = size(ROC[1],1) \n",
    "    AU = 0\n",
    "    for t = 1:N-1\n",
    "        AU += ROC[2][t] * (ROC[1][t+1] - ROC[1][t])\n",
    "    end\n",
    "    return AU\n",
    "end"
   ]
  },
  {
   "cell_type": "code",
   "execution_count": null,
   "metadata": {},
   "outputs": [],
   "source": [
    "#Marginals\n",
    "bins = 10 * Int(T)\n",
    "using Plots\n",
    "p_cau = zeros(N,bins)\n",
    "p_french = zeros(N,bins)\n",
    "p_mh = zeros(N,bins)\n",
    "p_soft = zeros(N,bins)\n",
    "for i = 1:N\n",
    "    for t = 1:bins\n",
    "       p_cau[i,t] = marginal(i, t*T/bins, statscau)\n",
    "       p_french[i,t] = marginal(i, t*T/bins, statsfre)\n",
    "       p_mh[i,t] = marginal(i, t*T/bins, stats_mh)\n",
    "       p_soft[i,t] = reweighted_marginal(i, t*T/bins, stats, weights)\n",
    "    end\n",
    "end"
   ]
  },
  {
   "cell_type": "code",
   "execution_count": null,
   "metadata": {},
   "outputs": [],
   "source": [
    "i = 6\n",
    "plot(LinRange(1,Int(T),bins),p_cau[i,:], label = \"cau\")\n",
    "plot!(LinRange(1,Int(T),bins),p_french[i,:], label = \"french\")\n",
    "plot!(LinRange(1,Int(T),bins),p_soft[i,:], label = \"soft\")\n",
    "plot!(LinRange(1,Int(T),bins),p_mh[i,:], label = \"MH\")\n",
    "plot!(LinRange(1,Int(T),Int(round(T/dt))),p_sib[i,:], label = \"sib\")\n",
    "plot!(LinRange(1,Int(T),Int(round(T/dt))),p_MF[i,:], label = \"MF\")\n",
    "ylims!(-0.001,1)"
   ]
  },
  {
   "cell_type": "code",
   "execution_count": null,
   "metadata": {},
   "outputs": [],
   "source": [
    "#AUROC curves\n",
    "\n",
    "T = Int(T)\n",
    "AU_curve=zeros(T)\n",
    "AU_sib=zeros(T)\n",
    "AU_MF=zeros(T)\n",
    "AU_french = zeros(T)\n",
    "AU_soft = zeros(T)\n",
    "AU_MH = zeros(T)\n",
    "for t = 1:T\n",
    "    cau_risk=zeros(N)\n",
    "    sib_risk = zeros(N)\n",
    "    MF_risk = zeros(N)\n",
    "    french_risk = zeros(N)\n",
    "    MH_risk = zeros(N)\n",
    "    soft_risk = zeros(N)\n",
    "    for i=1:N\n",
    "       cau_risk[i] = marginal(i,t,statscau)\n",
    "       french_risk[i] = marginal(i,t,statsfre)\n",
    "       MH_risk[i] = marginal(i,t,stats_mh)\n",
    "       sib_risk[i] = p_sib[i,Int(round(t/dt))]\n",
    "        MF_risk[i] = p_MF[i,Int(round(t/dt))]\n",
    "       soft_risk[i] = marginal(i,t,stats) \n",
    "    end\n",
    "    xt = xtrue .< t\n",
    "    AU_soft[t] = AUROC(ROC(xt, soft_risk))\n",
    "    AU_curve[t] = AUROC(ROC(xt, cau_risk))\n",
    "    AU_french[t] = AUROC(ROC(xt, french_risk))\n",
    "    AU_MH[t] = AUROC(ROC(xt, MH_risk))\n",
    "    AU_sib[t] = AUROC(ROC(xt, sib_risk))\n",
    "    AU_MF[t] = AUROC(ROC(xt, MF_risk))\n",
    "end\n",
    "\n",
    "plot(LinRange(1,T,T),AU_curve, label=\"AUCau\", title=\"Causality VS Sib AUROC in function of time\")\n",
    "scatter!(LinRange(1,T,T),AU_soft, label=\"AUSoft\",legend=:bottomleft)\n",
    "scatter!(LinRange(1,T,T),AU_french, label=\"AUFrench\")\n",
    "scatter!(LinRange(1,T,T),AU_MH, label=\"AUMH\")\n",
    "scatter!(LinRange(1,T,T), AU_sib, label=\"AUsib\")\n",
    "scatter!(LinRange(1,T,T), AU_MF, label=\"AUMF\")\n",
    "xlabel!(\"t\")\n",
    "ylabel!(\"AUROC\")\n",
    "#savefig(\"confronti.pdf\")\n",
    "#ylims!(0.5,1.01)"
   ]
  },
  {
   "cell_type": "code",
   "execution_count": 178,
   "metadata": {},
   "outputs": [
    {
     "data": {
      "text/plain": [
       "5-element Vector{Float64}:\n",
       "  5.289164122278385\n",
       "  0.0\n",
       " 20.0\n",
       " 20.0\n",
       "  8.228459063533716"
      ]
     },
     "execution_count": 178,
     "metadata": {},
     "output_type": "execute_result"
    }
   ],
   "source": [
    "xtrue"
   ]
  },
  {
   "cell_type": "code",
   "execution_count": null,
   "metadata": {},
   "outputs": [],
   "source": []
  }
 ],
 "metadata": {
  "kernelspec": {
   "display_name": "Julia 1.7.0-rc2",
   "language": "julia",
   "name": "julia-1.7"
  },
  "language_info": {
   "file_extension": ".jl",
   "mimetype": "application/julia",
   "name": "julia",
   "version": "1.7.0"
  }
 },
 "nbformat": 4,
 "nbformat_minor": 4
}
