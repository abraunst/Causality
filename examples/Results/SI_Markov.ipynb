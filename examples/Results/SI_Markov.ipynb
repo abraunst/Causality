{
 "cells": [
  {
   "cell_type": "code",
   "execution_count": 1,
   "metadata": {},
   "outputs": [
    {
     "name": "stderr",
     "output_type": "stream",
     "text": [
      "┌ Info: Precompiling Causality [943c2df0-3341-4665-8895-8aff0dd63d80]\n",
      "└ @ Base loading.jl:1423\n",
      "WARNING: Method definition union(IntervalArithmetic.Interval{T} where T<:Real, IntervalArithmetic.Interval{T} where T<:Real) in module IntervalArithmetic at /home/students/mmariani/.julia/packages/IntervalArithmetic/997vH/src/intervals/set_operations.jl:137 overwritten in module IntervalUnionArithmetic at /home/students/mmariani/.julia/packages/IntervalUnionArithmetic/DhDcd/src/interval_unions.jl:51.\n",
      "  ** incremental compilation may be fatally broken for this module **\n",
      "\n"
     ]
    }
   ],
   "source": [
    "using SparseArrays, LinearAlgebra, IndexedGraphs\n",
    "#using Pkg\n",
    "#Pkg.activ§ate(\"../\")\n",
    "using Causality"
   ]
  },
  {
   "cell_type": "markdown",
   "metadata": {},
   "source": [
    "# Generation of Epidemics"
   ]
  },
  {
   "cell_type": "code",
   "execution_count": 2,
   "metadata": {},
   "outputs": [
    {
     "data": {
      "text/plain": [
       "{300, 1752} directed sparse Int64 graph\n",
       "⠤⠇⠄⠁⠀⢆⡀⠀⢂⢀⠀⠠⠨⢄⠅⠅⠀⠄⠐⠁⠀⠀⡇⡀⠀⠆⠠⠁⠀⠀⠒⣲⡀⠀⢁⠰⠰⡆⠒⡁\n",
       "⠄⠁⡠⠊⠀⢀⠄⠜⢄⠠⠈⠈⡁⡀⡂⠴⠀⣁⠠⢌⠀⢃⡈⠈⡊⢃⠉⠆⠤⠂⢈⡈⣁⠠⣄⡹⠌⠉⠁⠀\n",
       "⠠⢄⠀⢀⢎⠑⠚⡘⡀⠉⠈⡀⢈⢑⢐⠠⠦⢉⡪⢁⡪⠼⣀⢈⠀⠜⠀⡈⢐⠠⡈⡆⢀⣸⠀⠀⠁⡊⢬⠸\n",
       "⠀⠈⣀⠅⣚⠠⠠⠂⢕⠘⢆⠄⠩⠀⡀⠀⡆⠂⡏⠂⠕⣐⢦⠁⡐⡀⠀⠔⠙⡄⠒⠁⠀⢈⠄⢀⢄⠒⠢⢲\n",
       "⠈⢐⠀⡑⡄⠈⣑⠑⣀⠜⡃⠡⡣⠀⠊⠀⠅⠠⢌⠀⠁⠠⡉⠠⠁⢀⠔⠠⠀⠁⣒⠂⡒⢯⠀⠈⢔⠒⠠⠀\n",
       "⠀⡀⡂⠀⠂⠠⠈⠕⠍⡈⢤⡳⡢⠠⠮⡕⠒⠀⠐⢵⢱⠂⠽⠨⣤⡀⢑⠊⠐⠬⠛⡀⣤⠔⡎⢔⢒⡨⠠⠄\n",
       "⠂⢆⠁⠨⢆⢐⠃⠂⠉⠊⠈⡊⠀⢄⢊⠎⠩⠤⠊⠈⡀⠐⡀⡰⢰⢀⢦⡐⣉⣁⠀⡀⡕⠈⠨⡉⡉⡡⠐⠂\n",
       "⠅⠅⢈⡌⠐⡐⠀⠈⠊⠀⢎⠧⡪⠔⠄⠅⣀⠀⢀⢎⣂⠃⠃⠰⠓⠄⠢⠐⣰⢲⠀⠂⠨⠀⢐⠒⡠⠶⡀⠅\n",
       "⠀⠄⠄⢠⡌⢃⠨⠉⠁⡁⠘⠀⠃⡆⠀⠘⠊⡠⠉⢄⠲⠨⠀⢬⣰⢀⡄⠢⠀⠐⡒⠃⢄⠘⠢⠀⢁⠀⠚⠈\n",
       "⠔⠀⡀⢆⠎⢊⠫⠉⠂⠑⢔⣄⡊⠀⡠⢔⠃⢄⠀⠀⠁⡘⠀⠠⣠⢀⠄⡤⣌⠠⢀⢁⠀⠵⡤⢈⠀⠡⣀⠘\n",
       "⠀⠀⠤⢀⣊⡎⢑⢡⠁⡀⠱⠒⢀⠈⠬⠘⡘⡂⣁⠠⢴⠓⠋⠀⠔⠄⡀⠺⠸⠩⠐⠁⡀⣀⠃⠀⠁⠩⠇⢀\n",
       "⠉⠩⡂⠈⡀⢘⠌⠓⠃⡈⡓⡃⢀⡨⢉⡀⡀⣄⠀⡀⠋⠀⢚⠐⢀⠁⡄⢢⠀⢀⠂⠈⢑⡒⢠⠀⠐⢑⢀⡂\n",
       "⠠⠄⠮⢈⣀⠄⠐⠨⠁⢀⠀⠻⠐⢒⠙⠄⠐⢚⠀⢚⠐⠅⠄⠐⠎⠁⠣⠂⠀⡒⢀⢠⠂⠂⡃⡠⢀⠄⠐⠀\n",
       "⠄⠂⠣⠄⡀⠠⢀⠄⠐⡁⡱⠐⢈⠳⢈⠂⠠⡉⠀⡥⣠⡈⠠⣉⠩⠂⡁⠈⢆⢀⠶⠀⠂⠳⢌⠂⠖⠪⣠⡀\n",
       "⠀⠀⠠⠃⠐⡐⠓⠤⠄⠀⡐⡄⠇⢸⢰⣚⢀⠀⠂⡙⡖⡂⠀⢀⢠⠠⠈⢑⠀⡠⡀⠂⣅⡅⢌⠥⢅⢢⡊⡀\n",
       "⢸⣠⡂⠰⠢⠬⠜⠀⠸⠘⠛⠠⠀⠠⠠⠀⠼⠈⠄⢐⠔⠀⡈⠀⠀⣐⠘⠃⠠⠈⢊⡰⠠⠛⡂⡒⠨⡜⠢⠀\n",
       "⠀⠈⠁⡘⣀⣰⡀⢀⡼⣌⢀⠟⡑⠉⠂⠂⣀⠑⢄⡄⠀⢨⢱⠰⠨⠀⢬⡀⠅⠽⣤⠂⠄⡡⠈⠁⠉⠑⠀⢃\n",
       "⢁⡐⣄⡹⠀⠀⠀⢁⡀⠀⢊⢍⡆⠢⢰⠐⠈⠂⡀⢋⠉⠀⠀⠒⠉⡨⠢⠑⠆⡕⢨⠨⠆⠀⠄⠁⢇⠐⡈⢅\n",
       "⠰⠦⡆⠁⡡⠠⢠⠑⢰⠑⡘⡰⠇⡨⢠⡎⠁⠐⠄⡀⡅⡀⢔⢀⠀⠔⡸⡁⠡⣑⣂⠦⢇⠀⢉⠑⠠⠂⠒⠀\n",
       "⠜⠠⠁⠀⣂⡓⢨⣂⠀⠂⠀⠆⠰⠀⠄⠌⡚⠀⣀⠘⠉⢁⠠⠰⠐⠀⠀⠺⠊⠨⠈⠂⠤⢀⠆⢌⠘⠀⡀⠈"
      ]
     },
     "execution_count": 2,
     "metadata": {},
     "output_type": "execute_result"
    }
   ],
   "source": [
    "T, N = 20.0, 300\n",
    "#G = Causality.makeBarabasi(N,k=2)\n",
    "#ρ = 3/N\n",
    "#G = Causality.makeGNP(N,ρ)\n",
    "G = Causality.makeProximity(N,2.1/N)"
   ]
  },
  {
   "cell_type": "code",
   "execution_count": 3,
   "metadata": {},
   "outputs": [
    {
     "data": {
      "text/plain": [
       "getpargen (generic function with 1 method)"
      ]
     },
     "execution_count": 3,
     "metadata": {},
     "output_type": "execute_result"
    }
   ],
   "source": [
    "getpar(pseed,autoinf::GaussianRate,inf_in::GaussianRate) = \n",
    "    [fill(pseed, 1, N);\n",
    "     fill(autoinf.a, 1, N); fill(autoinf.b, 1, N); fill(autoinf.c, 1, N);\n",
    "     fill(inf_in.a,   1, N); fill(inf_in.b, 1, N); fill(inf_in.c, 1, N);\n",
    "    ]\n",
    "\n",
    "getpargen(pseed, autoinf::GaussianRate, inf_out::GaussianRate) = \n",
    "    [pseed autoinf.a autoinf.b autoinf.c inf_out.a inf_out.b inf_out.c]\n"
   ]
  },
  {
   "cell_type": "code",
   "execution_count": 4,
   "metadata": {},
   "outputs": [],
   "source": [
    "#Initialize generation parameters\n",
    "ε = 1e-10\n",
    "λ = 0.2\n",
    "pseed = 1/N\n",
    "autoinf = GaussianRate(ε, T/2, 1/ε)\n",
    "inf_in = GaussianRate(1.0, T/2, 1/ε)\n",
    "inf_out = GaussianRate(λ, T/2, 1/ε)\n",
    "\n",
    "θp = getpar(pseed, autoinf, inf_in);\n",
    "θpgen = getpargen(pseed, autoinf, inf_out);"
   ]
  },
  {
   "cell_type": "code",
   "execution_count": 40,
   "metadata": {},
   "outputs": [],
   "source": [
    "#Initialize min/max boundaies\n",
    "T = Float64(T)\n",
    "pseed_min = ε\n",
    "pseed_max = 1-ε\n",
    "rate_min = GaussianRate(ε  ,  -T,   ε)\n",
    "rate_max = GaussianRate(1/ε  ,  2T,   1/ε)\n",
    "\n",
    "inf_min = GaussianRate(ε  ,  -T,   ε)\n",
    "inf_max = GaussianRate(1/ε  ,  2T, 1. )\n",
    "\n",
    "θmin = getpar(pseed_min , rate_min, rate_min);\n",
    "θmax = getpar(pseed_max , rate_max, rate_max);\n",
    "\n",
    "rate_min = GaussianRate(ε  ,  -T,   ε)\n",
    "rate_max = GaussianRate(1/ε  ,  T,   T)\n",
    "\n",
    "θgenmin = getpargen(pseed_min, rate_min, rate_min);\n",
    "θgenmax = getpargen(pseed_max, rate_max, rate_max);"
   ]
  },
  {
   "cell_type": "code",
   "execution_count": 34,
   "metadata": {},
   "outputs": [
    {
     "data": {
      "text/plain": [
       "GaussianInferentialSI"
      ]
     },
     "execution_count": 34,
     "metadata": {},
     "output_type": "execute_result"
    }
   ],
   "source": [
    "const Igen = GenerativeSI{GaussianRate,GaussianRate} \n",
    "const Igauss = GaussianInferentialSI"
   ]
  },
  {
   "cell_type": "code",
   "execution_count": 35,
   "metadata": {},
   "outputs": [
    {
     "data": {
      "text/plain": [
       "0.5366666666666666"
      ]
     },
     "execution_count": 35,
     "metadata": {},
     "output_type": "execute_result"
    }
   ],
   "source": [
    "V = fill(MaskedRate(UnitRate(),Causality.intervalUnion(0,T)), ne(G));\n",
    "Mp = StochasticModel(Igen, T, θp, G, θpgen, V);\n",
    "sample! = Sampler(Mp);\n",
    "xtrue = zeros(N)\n",
    "ni = 0\n",
    "while !(0.45 < ni < 0.55)\n",
    "    sample!(xtrue)\n",
    "    ni = sum(xtrue .< T)/N\n",
    "end\n",
    "ni"
   ]
  },
  {
   "cell_type": "code",
   "execution_count": 36,
   "metadata": {},
   "outputs": [
    {
     "data": {
      "text/plain": [
       "100-element Vector{Tuple{Int64, Bool, Float64, Float64}}:\n",
       " (1, 0, 11.358778319604852, 1.0e-5)\n",
       " (2, 1, 19.079537486139113, 1.0e-5)\n",
       " (3, 0, 10.326879437391456, 1.0e-5)\n",
       " (4, 1, 14.591139850481976, 1.0e-5)\n",
       " (5, 0, 18.41437813175135, 1.0e-5)\n",
       " (6, 0, 13.814646465936793, 1.0e-5)\n",
       " (7, 0, 19.806257416058216, 1.0e-5)\n",
       " (8, 0, 16.020977650200482, 1.0e-5)\n",
       " (9, 0, 15.89096713975062, 1.0e-5)\n",
       " (10, 0, 18.593106807023975, 1.0e-5)\n",
       " (11, 1, 15.173841981063958, 1.0e-5)\n",
       " (12, 0, 12.594231459620826, 1.0e-5)\n",
       " (13, 0, 16.910735278217675, 1.0e-5)\n",
       " ⋮\n",
       " (89, 1, 11.700926101540311, 1.0e-5)\n",
       " (90, 1, 19.667209767475118, 1.0e-5)\n",
       " (91, 0, 14.844725197387305, 1.0e-5)\n",
       " (92, 0, 18.706495221738386, 1.0e-5)\n",
       " (93, 1, 17.28766450673233, 1.0e-5)\n",
       " (94, 0, 13.773597507730265, 1.0e-5)\n",
       " (95, 1, 18.572393556514463, 1.0e-5)\n",
       " (96, 0, 17.98380626501986, 1.0e-5)\n",
       " (97, 1, 12.285000199050419, 1.0e-5)\n",
       " (98, 0, 12.780810152436308, 1.0e-5)\n",
       " (99, 1, 14.193415620305164, 1.0e-5)\n",
       " (100, 1, 19.70783906979277, 1.0e-5)"
      ]
     },
     "execution_count": 36,
     "metadata": {},
     "output_type": "execute_result"
    }
   ],
   "source": [
    "nobs, p = 100, 1e-5 #p is mute\n",
    "O = [(ti = T*(1+rand())/2; (i,xtrue[i] < ti,ti,p)) for i=1:nobs]\n",
    "f_rate = 1e-5\n",
    "O=[rand()< f_rate ? (o[1],!o[2],o[3],f_rate) : (o[1],o[2],o[3],f_rate) for o in O]"
   ]
  },
  {
   "cell_type": "markdown",
   "metadata": {},
   "source": [
    "## Causality "
   ]
  },
  {
   "cell_type": "code",
   "execution_count": 41,
   "metadata": {},
   "outputs": [],
   "source": [
    "#Softened model\n",
    "T = Float64(T)\n",
    "ε = 2e-6\n",
    "autoinf = GaussianRate(ε, T/2, T);\n",
    "θp2gen = getpargen(pseed, autoinf, inf_out);\n",
    "inf_in = GaussianRate(1., T/2, 3*T );\n",
    "\n",
    "θp2 = getpar(pseed, autoinf, inf_in);\n",
    "Mp2 = StochasticModel(Igen, T, θp2, G, θp2gen, V);"
   ]
  },
  {
   "cell_type": "code",
   "execution_count": 42,
   "metadata": {},
   "outputs": [],
   "source": [
    "θ = getpar(pseed, autoinf, inf_in);\n",
    "autoinf = GaussianRate(1/(N*T), T/2, T);\n",
    "M = StochasticModel(Igauss, T, θ, G, θp2gen, V);"
   ]
  },
  {
   "cell_type": "code",
   "execution_count": 43,
   "metadata": {},
   "outputs": [
    {
     "name": "stderr",
     "output_type": "stream",
     "text": [
      "\u001b[32mProgress: 100%|█████████████████████████████████████████| Time: 0:01:17\u001b[39m\n",
      "\u001b[34m  F:  82.5492409610415\u001b[39m\n"
     ]
    }
   ],
   "source": [
    "using ProgressMeter\n",
    "ProgressMeter.ijulia_behavior(:clear)\n",
    "F = descend!(Mp2, O; M=M, numsamples=1000, numiters=100, \n",
    "         θmin=θmin, θmax=θmax,θgenmin=θgenmin, θgenmax=θgenmax, descender=SignDescender(0.1),\n",
    "         hyperdescender=SignDescender(0.));\n",
    "F = descend!(Mp2, O; M=M, numsamples=1000, numiters=100, \n",
    "         θmin=θmin, θmax=θmax,θgenmin=θgenmin, θgenmax=θgenmax, descender=SignDescender(0.03),\n",
    "         hyperdescender=SignDescender(0.));"
   ]
  },
  {
   "cell_type": "code",
   "execution_count": 44,
   "metadata": {},
   "outputs": [
    {
     "name": "stderr",
     "output_type": "stream",
     "text": [
      "\u001b[32mProgress: 100%|█████████████████████████████████████████| Time: 0:00:04\u001b[39m\n"
     ]
    }
   ],
   "source": [
    "statscau = prior(M, numsamples=10000);"
   ]
  },
  {
   "cell_type": "markdown",
   "metadata": {},
   "source": [
    "## SoftMarg"
   ]
  },
  {
   "cell_type": "code",
   "execution_count": 45,
   "metadata": {},
   "outputs": [
    {
     "data": {
      "text/plain": [
       "100-element Vector{Tuple{Int64, Bool, Float64, Float64}}:\n",
       " (1, 0, 11.358778319604852, 0.05)\n",
       " (2, 1, 19.079537486139113, 0.05)\n",
       " (3, 0, 10.326879437391456, 0.05)\n",
       " (4, 1, 14.591139850481976, 0.05)\n",
       " (5, 0, 18.41437813175135, 0.05)\n",
       " (6, 0, 13.814646465936793, 0.05)\n",
       " (7, 0, 19.806257416058216, 0.05)\n",
       " (8, 0, 16.020977650200482, 0.05)\n",
       " (9, 0, 15.89096713975062, 0.05)\n",
       " (10, 0, 18.593106807023975, 0.05)\n",
       " (11, 1, 15.173841981063958, 0.05)\n",
       " (12, 0, 12.594231459620826, 0.05)\n",
       " (13, 0, 16.910735278217675, 0.05)\n",
       " ⋮\n",
       " (89, 1, 11.700926101540311, 0.05)\n",
       " (90, 1, 19.667209767475118, 0.05)\n",
       " (91, 0, 14.844725197387305, 0.05)\n",
       " (92, 0, 18.706495221738386, 0.05)\n",
       " (93, 1, 17.28766450673233, 0.05)\n",
       " (94, 0, 13.773597507730265, 0.05)\n",
       " (95, 1, 18.572393556514463, 0.05)\n",
       " (96, 0, 17.98380626501986, 0.05)\n",
       " (97, 1, 12.285000199050419, 0.05)\n",
       " (98, 0, 12.780810152436308, 0.05)\n",
       " (99, 1, 14.193415620305164, 0.05)\n",
       " (100, 1, 19.70783906979277, 0.05)"
      ]
     },
     "execution_count": 45,
     "metadata": {},
     "output_type": "execute_result"
    }
   ],
   "source": [
    "Osoft = [(o[1],o[2],o[3],max(0.05,f_rate)) for o in O]"
   ]
  },
  {
   "cell_type": "code",
   "execution_count": 46,
   "metadata": {},
   "outputs": [
    {
     "name": "stderr",
     "output_type": "stream",
     "text": [
      "\u001b[32mProgress: 100%|█████████████████████████████████████████| Time: 0:02:01\u001b[39m\n"
     ]
    }
   ],
   "source": [
    "stats, weights = softpostnoise(Mp, Osoft; numsamples=2 * 10^5);"
   ]
  },
  {
   "cell_type": "markdown",
   "metadata": {},
   "source": [
    "## Sib"
   ]
  },
  {
   "cell_type": "code",
   "execution_count": 47,
   "metadata": {},
   "outputs": [
    {
     "data": {
      "text/plain": [
       "sibyl (generic function with 1 method)"
      ]
     },
     "execution_count": 47,
     "metadata": {},
     "output_type": "execute_result"
    }
   ],
   "source": [
    "using PyCall\n",
    "@pyimport sib\n",
    "function sibyl(N, T_cont, Λ, O, γ, λ ; dt=1/5, maxit = 400, tol = 1e-14)\n",
    "    \n",
    "    T = Int(round(T_cont / dt))\n",
    "    contacts = [(i-1,j-1,t, λ * dt) for t in 1:T for (i,j,v) in zip(findnz(Λ.A)...)];\n",
    "    obs = [[(i,-1,t) for t=1:T for i=0:N-1];\n",
    "           [(i-1,s,Int(round(t/dt))) for (i,s,t,p) in O]]\n",
    "    sort!(obs, lt=((i1,s1,t1),(i2,s2,t2))->(t1<t2))\n",
    "    prob_sus = 0.5\n",
    "    prob_seed=γ\n",
    "    pseed = prob_seed / (2 - prob_seed)\n",
    "    psus = prob_sus * (1 - pseed)\n",
    "    params = sib.Params(prob_r=sib.Exponential(mu=0), pseed=pseed, psus=psus,pautoinf=1e-10,fp_rate=1e-10,fn_rate=1e-10)\n",
    "    f = sib.FactorGraph(contacts=contacts, observations=obs, params=params)\n",
    "    sib.iterate(f, maxit=maxit,tol=tol)\n",
    "    sib.iterate(f, maxit=maxit, damping=0.5, tol=tol)\n",
    "    sib.iterate(f, maxit=maxit, damping=0.9, tol=tol)\n",
    "    p_sib=[collect(n.bt) for n in f.nodes]\n",
    "    m_sib = zeros(N, T)\n",
    "    for i=1:N\n",
    "        m_sib[i,1] = p_sib[i][1] \n",
    "        for t=2:T\n",
    "            m_sib[i,t] = m_sib[i,t-1] + p_sib[i][t]\n",
    "        end\n",
    "    end \n",
    "    return m_sib\n",
    "end\n"
   ]
  },
  {
   "cell_type": "code",
   "execution_count": 48,
   "metadata": {},
   "outputs": [
    {
     "name": "stdout",
     "output_type": "stream",
     "text": [
      "\n",
      "sib.iterate(damp=0.0): 39/40 4.042e-01/1e-07      \n",
      "sib.iterate(damp=0.5): 39/40 3.988e-02/1e-07      \n",
      "67.303073883056640.9): 39/40 1.389e-01/1e-07      \n"
     ]
    }
   ],
   "source": [
    "a=time()\n",
    "dt = 1/4\n",
    "p_sib = sibyl(N, T, G, O, 1/N, λ; dt=dt, maxit = 40, tol = 1e-7);\n",
    "b=time()\n",
    "println(b-a)"
   ]
  },
  {
   "cell_type": "markdown",
   "metadata": {},
   "source": [
    "# Heuristic"
   ]
  },
  {
   "cell_type": "code",
   "execution_count": 49,
   "metadata": {},
   "outputs": [
    {
     "name": "stderr",
     "output_type": "stream",
     "text": [
      "\u001b[32mProgress: 100%|█████████████████████████████████████████| Time: 0:00:05\u001b[39m\n"
     ]
    }
   ],
   "source": [
    "using IntervalUnionArithmetic\n",
    "T = Float64(T)\n",
    "struct HeuristicSI <: SI end\n",
    "θp2gen = getpargen(pseed, autoinf, inf_out);\n",
    "maskauto = fill(intervalUnion(0., T),N)\n",
    "maskinf = fill(intervalUnion(0., T),N)\n",
    "θfrench = getpar(pseed, autoinf, inf_in);\n",
    "Causality.individual(M::StochasticModel{HeuristicSI}, i::Int, θi = @view(M.θ[:,i]), θg = M.θgen ) = \n",
    "@views IndividualSI(θi[1], \n",
    "    MaskedRate(GaussianRate(θi[2:4]...),maskauto[i]), \n",
    "    MaskedRate(UnitRate(),maskinf[i]), \n",
    "    GaussianRate(θg[5:7]...),)\n",
    "inf_start_time = T * ones(N)\n",
    "for o in O\n",
    "    if o[2] == 1\n",
    "        inf_start_time[o[1]] = min(inf_start_time[o[1]], o[3] - 5)\n",
    "        maskauto[o[1]] = maskauto[o[1]] ∩ intervalUnion(o[3]-5, T)       \n",
    "        θfrench[2,o[1]] = 10^10\n",
    "        θfrench[3,o[1]] = o[3] - 5\n",
    "        θfrench[4,o[1]] = 100 * T\n",
    "    elseif o[2] == 0\n",
    "        maskinf[o[1]] = maskinf[o[1]] ∩ intervalUnion(o[3], T)\n",
    "        maskauto[o[1]] = maskauto[o[1]] ∩ intervalUnion(o[3], T)\n",
    "        θfrench[1,o[1]] = 1e-10\n",
    "    end\n",
    "end\n",
    "for i=1:N\n",
    "    if inf_start_time[i] != T \n",
    "        maskauto[i] = maskauto[i] ∩ intervalUnion(inf_start_time[i], T)\n",
    "    end\n",
    "end\n",
    "Mfrench = StochasticModel(HeuristicSI, T, θfrench, G, θp2gen);\n",
    "statsfre = prior(Mfrench,numsamples=10000); "
   ]
  },
  {
   "cell_type": "code",
   "execution_count": 50,
   "metadata": {},
   "outputs": [
    {
     "data": {
      "text/plain": [
       "MF_heu (generic function with 1 method)"
      ]
     },
     "execution_count": 50,
     "metadata": {},
     "output_type": "execute_result"
    }
   ],
   "source": [
    "function MF_heu(N, T_cont, Λ, O, γ, λ ; dt=1/5, maxit = 400)\n",
    "    T = Int(round(T_cont / dt))\n",
    "    p_MF = zeros(N,T) #prob to be S\n",
    "    p_MF[:,1] .= 1 - γ \n",
    "    obs_I = [o[1] for o in O if o[2] == 1]\n",
    "    obs_S = [o[1] for o in O if o[2] == 0]\n",
    "    for st = 1:maxit\n",
    "        for t = 2:T\n",
    "            for i = 1:N\n",
    "                p_MF[i,t] = p_MF[i,t-1]\n",
    "                for j in collect(Causality.outedges(Λ,1))\n",
    "                    p_MF[i,t] *= 1 - λ*(1 - p_MF[j.dst,t-1])\n",
    "                end\n",
    "                if i in obs_I                    \n",
    "                    o = O[i]\n",
    "                    p_MF[i, Int(round((o[3]-5)/dt)) : end] .= 0\n",
    "                end\n",
    "                if i in obs_S\n",
    "                    o = O[i]\n",
    "                    p_MF[i, 1 : Int(round(o[3]/dt))] .= 1\n",
    "                end\n",
    "            end\n",
    "        end\n",
    "    end\n",
    "    return 1 .- p_MF\n",
    "end"
   ]
  },
  {
   "cell_type": "code",
   "execution_count": 51,
   "metadata": {},
   "outputs": [
    {
     "data": {
      "text/plain": [
       "300×80 Matrix{Float64}:\n",
       " 0.0         0.0         0.0        …  1.0       1.0       1.0\n",
       " 0.00333333  0.00665113  0.0132405     1.0       1.0       1.0\n",
       " 0.0         0.0         0.0           1.0       1.0       1.0\n",
       " 0.00333333  0.00665113  0.0132405     1.0       1.0       1.0\n",
       " 0.0         0.0         0.0           0.99729   0.999431  0.999881\n",
       " 0.0         0.0         0.0        …  1.0       1.0       1.0\n",
       " 0.0         0.0         0.0           0.0       0.0       0.790252\n",
       " 0.0         0.0         0.0           1.0       1.0       1.0\n",
       " 0.0         0.0         0.0           1.0       1.0       1.0\n",
       " 0.0         0.0         0.0           0.99729   0.999431  0.999881\n",
       " 0.00333333  0.00665113  0.0132405  …  1.0       1.0       1.0\n",
       " 0.0         0.0         0.0           1.0       1.0       1.0\n",
       " 0.0         0.0         0.0           0.999997  0.999999  1.0\n",
       " ⋮                                  ⋱                      \n",
       " 0.00333333  0.00665113  0.0132405     1.0       1.0       1.0\n",
       " 0.00333333  0.00665113  0.0132405     1.0       1.0       1.0\n",
       " 0.00333333  0.00665113  0.0132405  …  1.0       1.0       1.0\n",
       " 0.00333333  0.00665113  0.0132405     1.0       1.0       1.0\n",
       " 0.00333333  0.00665113  0.0132405     1.0       1.0       1.0\n",
       " 0.00333333  0.00665113  0.0132405     1.0       1.0       1.0\n",
       " 0.00333333  0.00665113  0.0132405     1.0       1.0       1.0\n",
       " 0.00333333  0.00665113  0.0132405  …  1.0       1.0       1.0\n",
       " 0.00333333  0.00665113  0.0132405     1.0       1.0       1.0\n",
       " 0.00333333  0.00665113  0.0132405     1.0       1.0       1.0\n",
       " 0.00333333  0.00665113  0.0132405     1.0       1.0       1.0\n",
       " 0.00333333  0.00665113  0.0132405     1.0       1.0       1.0"
      ]
     },
     "execution_count": 51,
     "metadata": {},
     "output_type": "execute_result"
    }
   ],
   "source": [
    "p_MF = MF_heu(N, T, G, O, 1/N, λ ; dt=dt, maxit = 100)"
   ]
  },
  {
   "cell_type": "markdown",
   "metadata": {},
   "source": [
    "## Metropolis Monte Carlo"
   ]
  },
  {
   "cell_type": "code",
   "execution_count": 52,
   "metadata": {},
   "outputs": [
    {
     "name": "stderr",
     "output_type": "stream",
     "text": [
      "\u001b[32mProgress: 100%|█████████████████████████████████████████| Time: 0:02:39\u001b[39m\n",
      "\u001b[34m  acc_ratio:  0.4866666666666667\u001b[39m\n"
     ]
    }
   ],
   "source": [
    "K = Causality.GaussMove(2.0)\n",
    "#stats_mh = Causality.metropolis_sampling_parallel(Mp, O, K; numsamples = 10^3,numsteps=10^3)\n",
    "stats_mh = Causality.metropolis_sampling_sequential(Mp, O, K; numsamples = 10^5,numsteps=150);"
   ]
  },
  {
   "cell_type": "markdown",
   "metadata": {},
   "source": [
    "\n",
    "## Marginals and ROC curve"
   ]
  },
  {
   "cell_type": "code",
   "execution_count": 53,
   "metadata": {},
   "outputs": [
    {
     "data": {
      "text/plain": [
       "AUROC (generic function with 1 method)"
      ]
     },
     "execution_count": 53,
     "metadata": {},
     "output_type": "execute_result"
    }
   ],
   "source": [
    "function marginal(i, t, stats)\n",
    "    numsamp = size(stats,1)\n",
    "    sum(stats[:,i] .< t)/numsamp\n",
    "end\n",
    "\n",
    "function reweighted_marginal(i, t, stats, weights)\n",
    "    numsamp = size(stats,1)\n",
    "    @assert numsamp == size(weights,1)\n",
    "    weights ./= maximum(weights)\n",
    "    sum(weights .* (stats[:,i] .< t))/sum(weights)\n",
    "end\n",
    "\n",
    "function tpr(xtrue, rank) \n",
    "    cumsum(xtrue[rank]) ./( cumsum(xtrue[rank])[end])\n",
    "end\n",
    "\n",
    "function fpr(xtrue, rank) \n",
    "    N = size(rank,1)\n",
    "    return (range(1,N,length=N) .- cumsum(xtrue[rank])) ./ (range(1,N,length=N) .- cumsum(xtrue[rank]) )[end]\n",
    "end\n",
    "\n",
    "function ROC(xtrue, p)\n",
    "    N = size(xtrue,1)\n",
    "    rank = sortperm(p, rev=true)\n",
    "    \n",
    "    return fpr(xtrue, rank) , tpr(xtrue, rank)\n",
    "end\n",
    "\n",
    "function AUROC(ROC)\n",
    "    N = size(ROC[1],1) \n",
    "    AU = 0\n",
    "    for t = 1:N-1\n",
    "        AU += ROC[2][t] * (ROC[1][t+1] - ROC[1][t])\n",
    "    end\n",
    "    return AU\n",
    "end"
   ]
  },
  {
   "cell_type": "code",
   "execution_count": 54,
   "metadata": {},
   "outputs": [],
   "source": [
    "#Marginals\n",
    "bins = 2 * Int(T)\n",
    "using Plots\n",
    "p_cau = zeros(N,bins)\n",
    "p_french = zeros(N,bins)\n",
    "p_mh = zeros(N,bins)\n",
    "p_soft = zeros(N,bins)\n",
    "for i = 1:N\n",
    "    for t = 1:bins\n",
    "       p_cau[i,t] = marginal(i, t*T/bins, statscau)\n",
    "       p_french[i,t] = marginal(i, t*T/bins, statsfre)\n",
    "       p_mh[i,t] = marginal(i, t*T/bins, stats_mh)\n",
    "       p_soft[i,t] = reweighted_marginal(i, t*T/bins, stats, weights)\n",
    "    end\n",
    "end"
   ]
  },
  {
   "cell_type": "code",
   "execution_count": 55,
   "metadata": {},
   "outputs": [
    {
     "data": {
      "text/plain": [
       "20.0"
      ]
     },
     "execution_count": 55,
     "metadata": {},
     "output_type": "execute_result"
    }
   ],
   "source": [
    "xtrue[13]"
   ]
  },
  {
   "cell_type": "code",
   "execution_count": 56,
   "metadata": {},
   "outputs": [
    {
     "data": {
      "image/svg+xml": [
       "<?xml version=\"1.0\" encoding=\"utf-8\"?>\n",
       "<svg xmlns=\"http://www.w3.org/2000/svg\" xmlns:xlink=\"http://www.w3.org/1999/xlink\" width=\"600\" height=\"400\" viewBox=\"0 0 2400 1600\">\n",
       "<defs>\n",
       "  <clipPath id=\"clip120\">\n",
       "    <rect x=\"0\" y=\"0\" width=\"2400\" height=\"1600\"/>\n",
       "  </clipPath>\n",
       "</defs>\n",
       "<path clip-path=\"url(#clip120)\" d=\"\n",
       "M0 1600 L2400 1600 L2400 0 L0 0  Z\n",
       "  \" fill=\"#ffffff\" fill-rule=\"evenodd\" fill-opacity=\"1\"/>\n",
       "<defs>\n",
       "  <clipPath id=\"clip121\">\n",
       "    <rect x=\"480\" y=\"0\" width=\"1681\" height=\"1600\"/>\n",
       "  </clipPath>\n",
       "</defs>\n",
       "<path clip-path=\"url(#clip120)\" d=\"\n",
       "M186.274 1486.45 L2352.76 1486.45 L2352.76 47.2441 L186.274 47.2441  Z\n",
       "  \" fill=\"#ffffff\" fill-rule=\"evenodd\" fill-opacity=\"1\"/>\n",
       "<defs>\n",
       "  <clipPath id=\"clip122\">\n",
       "    <rect x=\"186\" y=\"47\" width=\"2167\" height=\"1440\"/>\n",
       "  </clipPath>\n",
       "</defs>\n",
       "<polyline clip-path=\"url(#clip122)\" style=\"stroke:#000000; stroke-linecap:butt; stroke-linejoin:round; stroke-width:2; stroke-opacity:0.1; fill:none\" points=\"\n",
       "  677.874,1486.45 677.874,47.2441 \n",
       "  \"/>\n",
       "<polyline clip-path=\"url(#clip122)\" style=\"stroke:#000000; stroke-linecap:butt; stroke-linejoin:round; stroke-width:2; stroke-opacity:0.1; fill:none\" points=\"\n",
       "  1215.73,1486.45 1215.73,47.2441 \n",
       "  \"/>\n",
       "<polyline clip-path=\"url(#clip122)\" style=\"stroke:#000000; stroke-linecap:butt; stroke-linejoin:round; stroke-width:2; stroke-opacity:0.1; fill:none\" points=\"\n",
       "  1753.58,1486.45 1753.58,47.2441 \n",
       "  \"/>\n",
       "<polyline clip-path=\"url(#clip122)\" style=\"stroke:#000000; stroke-linecap:butt; stroke-linejoin:round; stroke-width:2; stroke-opacity:0.1; fill:none\" points=\"\n",
       "  2291.44,1486.45 2291.44,47.2441 \n",
       "  \"/>\n",
       "<polyline clip-path=\"url(#clip120)\" style=\"stroke:#000000; stroke-linecap:butt; stroke-linejoin:round; stroke-width:4; stroke-opacity:1; fill:none\" points=\"\n",
       "  186.274,1486.45 2352.76,1486.45 \n",
       "  \"/>\n",
       "<polyline clip-path=\"url(#clip120)\" style=\"stroke:#000000; stroke-linecap:butt; stroke-linejoin:round; stroke-width:4; stroke-opacity:1; fill:none\" points=\"\n",
       "  677.874,1486.45 677.874,1467.55 \n",
       "  \"/>\n",
       "<polyline clip-path=\"url(#clip120)\" style=\"stroke:#000000; stroke-linecap:butt; stroke-linejoin:round; stroke-width:4; stroke-opacity:1; fill:none\" points=\"\n",
       "  1215.73,1486.45 1215.73,1467.55 \n",
       "  \"/>\n",
       "<polyline clip-path=\"url(#clip120)\" style=\"stroke:#000000; stroke-linecap:butt; stroke-linejoin:round; stroke-width:4; stroke-opacity:1; fill:none\" points=\"\n",
       "  1753.58,1486.45 1753.58,1467.55 \n",
       "  \"/>\n",
       "<polyline clip-path=\"url(#clip120)\" style=\"stroke:#000000; stroke-linecap:butt; stroke-linejoin:round; stroke-width:4; stroke-opacity:1; fill:none\" points=\"\n",
       "  2291.44,1486.45 2291.44,1467.55 \n",
       "  \"/>\n",
       "<path clip-path=\"url(#clip120)\" d=\"M668.152 1514.29 L686.508 1514.29 L686.508 1518.22 L672.434 1518.22 L672.434 1526.7 Q673.453 1526.35 674.471 1526.19 Q675.49 1526 676.508 1526 Q682.295 1526 685.675 1529.17 Q689.054 1532.34 689.054 1537.76 Q689.054 1543.34 685.582 1546.44 Q682.11 1549.52 675.791 1549.52 Q673.615 1549.52 671.346 1549.15 Q669.101 1548.78 666.693 1548.04 L666.693 1543.34 Q668.777 1544.47 670.999 1545.03 Q673.221 1545.58 675.698 1545.58 Q679.703 1545.58 682.041 1543.48 Q684.379 1541.37 684.379 1537.76 Q684.379 1534.15 682.041 1532.04 Q679.703 1529.94 675.698 1529.94 Q673.823 1529.94 671.948 1530.35 Q670.096 1530.77 668.152 1531.65 L668.152 1514.29 Z\" fill=\"#000000\" fill-rule=\"evenodd\" fill-opacity=\"1\" /><path clip-path=\"url(#clip120)\" d=\"M1190.42 1544.91 L1198.06 1544.91 L1198.06 1518.55 L1189.75 1520.21 L1189.75 1515.95 L1198.01 1514.29 L1202.69 1514.29 L1202.69 1544.91 L1210.32 1544.91 L1210.32 1548.85 L1190.42 1548.85 L1190.42 1544.91 Z\" fill=\"#000000\" fill-rule=\"evenodd\" fill-opacity=\"1\" /><path clip-path=\"url(#clip120)\" d=\"M1229.77 1517.37 Q1226.16 1517.37 1224.33 1520.93 Q1222.52 1524.47 1222.52 1531.6 Q1222.52 1538.71 1224.33 1542.27 Q1226.16 1545.82 1229.77 1545.82 Q1233.4 1545.82 1235.21 1542.27 Q1237.04 1538.71 1237.04 1531.6 Q1237.04 1524.47 1235.21 1520.93 Q1233.4 1517.37 1229.77 1517.37 M1229.77 1513.66 Q1235.58 1513.66 1238.63 1518.27 Q1241.71 1522.85 1241.71 1531.6 Q1241.71 1540.33 1238.63 1544.94 Q1235.58 1549.52 1229.77 1549.52 Q1223.96 1549.52 1220.88 1544.94 Q1217.82 1540.33 1217.82 1531.6 Q1217.82 1522.85 1220.88 1518.27 Q1223.96 1513.66 1229.77 1513.66 Z\" fill=\"#000000\" fill-rule=\"evenodd\" fill-opacity=\"1\" /><path clip-path=\"url(#clip120)\" d=\"M1728.77 1544.91 L1736.41 1544.91 L1736.41 1518.55 L1728.1 1520.21 L1728.1 1515.95 L1736.36 1514.29 L1741.04 1514.29 L1741.04 1544.91 L1748.68 1544.91 L1748.68 1548.85 L1728.77 1548.85 L1728.77 1544.91 Z\" fill=\"#000000\" fill-rule=\"evenodd\" fill-opacity=\"1\" /><path clip-path=\"url(#clip120)\" d=\"M1758.17 1514.29 L1776.52 1514.29 L1776.52 1518.22 L1762.45 1518.22 L1762.45 1526.7 Q1763.47 1526.35 1764.49 1526.19 Q1765.51 1526 1766.52 1526 Q1772.31 1526 1775.69 1529.17 Q1779.07 1532.34 1779.07 1537.76 Q1779.07 1543.34 1775.6 1546.44 Q1772.13 1549.52 1765.81 1549.52 Q1763.63 1549.52 1761.36 1549.15 Q1759.12 1548.78 1756.71 1548.04 L1756.71 1543.34 Q1758.79 1544.47 1761.02 1545.03 Q1763.24 1545.58 1765.71 1545.58 Q1769.72 1545.58 1772.06 1543.48 Q1774.39 1541.37 1774.39 1537.76 Q1774.39 1534.15 1772.06 1532.04 Q1769.72 1529.94 1765.71 1529.94 Q1763.84 1529.94 1761.96 1530.35 Q1760.11 1530.77 1758.17 1531.65 L1758.17 1514.29 Z\" fill=\"#000000\" fill-rule=\"evenodd\" fill-opacity=\"1\" /><path clip-path=\"url(#clip120)\" d=\"M2270.21 1544.91 L2286.53 1544.91 L2286.53 1548.85 L2264.59 1548.85 L2264.59 1544.91 Q2267.25 1542.16 2271.83 1537.53 Q2276.44 1532.88 2277.62 1531.53 Q2279.87 1529.01 2280.75 1527.27 Q2281.65 1525.51 2281.65 1523.82 Q2281.65 1521.07 2279.7 1519.33 Q2277.78 1517.6 2274.68 1517.6 Q2272.48 1517.6 2270.03 1518.36 Q2267.6 1519.13 2264.82 1520.68 L2264.82 1515.95 Q2267.64 1514.82 2270.1 1514.24 Q2272.55 1513.66 2274.59 1513.66 Q2279.96 1513.66 2283.15 1516.35 Q2286.35 1519.03 2286.35 1523.52 Q2286.35 1525.65 2285.54 1527.57 Q2284.75 1529.47 2282.64 1532.07 Q2282.07 1532.74 2278.96 1535.95 Q2275.86 1539.15 2270.21 1544.91 Z\" fill=\"#000000\" fill-rule=\"evenodd\" fill-opacity=\"1\" /><path clip-path=\"url(#clip120)\" d=\"M2306.35 1517.37 Q2302.74 1517.37 2300.91 1520.93 Q2299.1 1524.47 2299.1 1531.6 Q2299.1 1538.71 2300.91 1542.27 Q2302.74 1545.82 2306.35 1545.82 Q2309.98 1545.82 2311.79 1542.27 Q2313.62 1538.71 2313.62 1531.6 Q2313.62 1524.47 2311.79 1520.93 Q2309.98 1517.37 2306.35 1517.37 M2306.35 1513.66 Q2312.16 1513.66 2315.21 1518.27 Q2318.29 1522.85 2318.29 1531.6 Q2318.29 1540.33 2315.21 1544.94 Q2312.16 1549.52 2306.35 1549.52 Q2300.54 1549.52 2297.46 1544.94 Q2294.4 1540.33 2294.4 1531.6 Q2294.4 1522.85 2297.46 1518.27 Q2300.54 1513.66 2306.35 1513.66 Z\" fill=\"#000000\" fill-rule=\"evenodd\" fill-opacity=\"1\" /><polyline clip-path=\"url(#clip122)\" style=\"stroke:#000000; stroke-linecap:butt; stroke-linejoin:round; stroke-width:2; stroke-opacity:0.1; fill:none\" points=\"\n",
       "  186.274,1485.01 2352.76,1485.01 \n",
       "  \"/>\n",
       "<polyline clip-path=\"url(#clip122)\" style=\"stroke:#000000; stroke-linecap:butt; stroke-linejoin:round; stroke-width:2; stroke-opacity:0.1; fill:none\" points=\"\n",
       "  186.274,1125.57 2352.76,1125.57 \n",
       "  \"/>\n",
       "<polyline clip-path=\"url(#clip122)\" style=\"stroke:#000000; stroke-linecap:butt; stroke-linejoin:round; stroke-width:2; stroke-opacity:0.1; fill:none\" points=\"\n",
       "  186.274,766.127 2352.76,766.127 \n",
       "  \"/>\n",
       "<polyline clip-path=\"url(#clip122)\" style=\"stroke:#000000; stroke-linecap:butt; stroke-linejoin:round; stroke-width:2; stroke-opacity:0.1; fill:none\" points=\"\n",
       "  186.274,406.686 2352.76,406.686 \n",
       "  \"/>\n",
       "<polyline clip-path=\"url(#clip122)\" style=\"stroke:#000000; stroke-linecap:butt; stroke-linejoin:round; stroke-width:2; stroke-opacity:0.1; fill:none\" points=\"\n",
       "  186.274,47.2441 2352.76,47.2441 \n",
       "  \"/>\n",
       "<polyline clip-path=\"url(#clip120)\" style=\"stroke:#000000; stroke-linecap:butt; stroke-linejoin:round; stroke-width:4; stroke-opacity:1; fill:none\" points=\"\n",
       "  186.274,1486.45 186.274,47.2441 \n",
       "  \"/>\n",
       "<polyline clip-path=\"url(#clip120)\" style=\"stroke:#000000; stroke-linecap:butt; stroke-linejoin:round; stroke-width:4; stroke-opacity:1; fill:none\" points=\"\n",
       "  186.274,1485.01 205.172,1485.01 \n",
       "  \"/>\n",
       "<polyline clip-path=\"url(#clip120)\" style=\"stroke:#000000; stroke-linecap:butt; stroke-linejoin:round; stroke-width:4; stroke-opacity:1; fill:none\" points=\"\n",
       "  186.274,1125.57 205.172,1125.57 \n",
       "  \"/>\n",
       "<polyline clip-path=\"url(#clip120)\" style=\"stroke:#000000; stroke-linecap:butt; stroke-linejoin:round; stroke-width:4; stroke-opacity:1; fill:none\" points=\"\n",
       "  186.274,766.127 205.172,766.127 \n",
       "  \"/>\n",
       "<polyline clip-path=\"url(#clip120)\" style=\"stroke:#000000; stroke-linecap:butt; stroke-linejoin:round; stroke-width:4; stroke-opacity:1; fill:none\" points=\"\n",
       "  186.274,406.686 205.172,406.686 \n",
       "  \"/>\n",
       "<polyline clip-path=\"url(#clip120)\" style=\"stroke:#000000; stroke-linecap:butt; stroke-linejoin:round; stroke-width:4; stroke-opacity:1; fill:none\" points=\"\n",
       "  186.274,47.2441 205.172,47.2441 \n",
       "  \"/>\n",
       "<path clip-path=\"url(#clip120)\" d=\"M62.9365 1470.81 Q59.3254 1470.81 57.4967 1474.37 Q55.6912 1477.92 55.6912 1485.04 Q55.6912 1492.15 57.4967 1495.72 Q59.3254 1499.26 62.9365 1499.26 Q66.5707 1499.26 68.3763 1495.72 Q70.205 1492.15 70.205 1485.04 Q70.205 1477.92 68.3763 1474.37 Q66.5707 1470.81 62.9365 1470.81 M62.9365 1467.11 Q68.7467 1467.11 71.8022 1471.71 Q74.8809 1476.29 74.8809 1485.04 Q74.8809 1493.77 71.8022 1498.38 Q68.7467 1502.96 62.9365 1502.96 Q57.1264 1502.96 54.0477 1498.38 Q50.9921 1493.77 50.9921 1485.04 Q50.9921 1476.29 54.0477 1471.71 Q57.1264 1467.11 62.9365 1467.11 Z\" fill=\"#000000\" fill-rule=\"evenodd\" fill-opacity=\"1\" /><path clip-path=\"url(#clip120)\" d=\"M83.0984 1496.41 L87.9827 1496.41 L87.9827 1502.29 L83.0984 1502.29 L83.0984 1496.41 Z\" fill=\"#000000\" fill-rule=\"evenodd\" fill-opacity=\"1\" /><path clip-path=\"url(#clip120)\" d=\"M108.168 1470.81 Q104.557 1470.81 102.728 1474.37 Q100.922 1477.92 100.922 1485.04 Q100.922 1492.15 102.728 1495.72 Q104.557 1499.26 108.168 1499.26 Q111.802 1499.26 113.608 1495.72 Q115.436 1492.15 115.436 1485.04 Q115.436 1477.92 113.608 1474.37 Q111.802 1470.81 108.168 1470.81 M108.168 1467.11 Q113.978 1467.11 117.033 1471.71 Q120.112 1476.29 120.112 1485.04 Q120.112 1493.77 117.033 1498.38 Q113.978 1502.96 108.168 1502.96 Q102.358 1502.96 99.2789 1498.38 Q96.2234 1493.77 96.2234 1485.04 Q96.2234 1476.29 99.2789 1471.71 Q102.358 1467.11 108.168 1467.11 Z\" fill=\"#000000\" fill-rule=\"evenodd\" fill-opacity=\"1\" /><path clip-path=\"url(#clip120)\" d=\"M138.33 1470.81 Q134.719 1470.81 132.89 1474.37 Q131.084 1477.92 131.084 1485.04 Q131.084 1492.15 132.89 1495.72 Q134.719 1499.26 138.33 1499.26 Q141.964 1499.26 143.769 1495.72 Q145.598 1492.15 145.598 1485.04 Q145.598 1477.92 143.769 1474.37 Q141.964 1470.81 138.33 1470.81 M138.33 1467.11 Q144.14 1467.11 147.195 1471.71 Q150.274 1476.29 150.274 1485.04 Q150.274 1493.77 147.195 1498.38 Q144.14 1502.96 138.33 1502.96 Q132.519 1502.96 129.441 1498.38 Q126.385 1493.77 126.385 1485.04 Q126.385 1476.29 129.441 1471.71 Q132.519 1467.11 138.33 1467.11 Z\" fill=\"#000000\" fill-rule=\"evenodd\" fill-opacity=\"1\" /><path clip-path=\"url(#clip120)\" d=\"M63.9319 1111.37 Q60.3208 1111.37 58.4921 1114.93 Q56.6865 1118.47 56.6865 1125.6 Q56.6865 1132.71 58.4921 1136.27 Q60.3208 1139.82 63.9319 1139.82 Q67.5661 1139.82 69.3717 1136.27 Q71.2004 1132.71 71.2004 1125.6 Q71.2004 1118.47 69.3717 1114.93 Q67.5661 1111.37 63.9319 1111.37 M63.9319 1107.66 Q69.742 1107.66 72.7976 1112.27 Q75.8763 1116.85 75.8763 1125.6 Q75.8763 1134.33 72.7976 1138.94 Q69.742 1143.52 63.9319 1143.52 Q58.1217 1143.52 55.043 1138.94 Q51.9875 1134.33 51.9875 1125.6 Q51.9875 1116.85 55.043 1112.27 Q58.1217 1107.66 63.9319 1107.66 Z\" fill=\"#000000\" fill-rule=\"evenodd\" fill-opacity=\"1\" /><path clip-path=\"url(#clip120)\" d=\"M84.0938 1136.97 L88.978 1136.97 L88.978 1142.85 L84.0938 1142.85 L84.0938 1136.97 Z\" fill=\"#000000\" fill-rule=\"evenodd\" fill-opacity=\"1\" /><path clip-path=\"url(#clip120)\" d=\"M103.191 1138.91 L119.51 1138.91 L119.51 1142.85 L97.566 1142.85 L97.566 1138.91 Q100.228 1136.16 104.811 1131.53 Q109.418 1126.88 110.598 1125.53 Q112.844 1123.01 113.723 1121.27 Q114.626 1119.52 114.626 1117.83 Q114.626 1115.07 112.682 1113.33 Q110.76 1111.6 107.658 1111.6 Q105.459 1111.6 103.006 1112.36 Q100.575 1113.13 97.7974 1114.68 L97.7974 1109.96 Q100.621 1108.82 103.075 1108.24 Q105.529 1107.66 107.566 1107.66 Q112.936 1107.66 116.131 1110.35 Q119.325 1113.03 119.325 1117.52 Q119.325 1119.65 118.515 1121.58 Q117.728 1123.47 115.621 1126.07 Q115.043 1126.74 111.941 1129.96 Q108.839 1133.15 103.191 1138.91 Z\" fill=\"#000000\" fill-rule=\"evenodd\" fill-opacity=\"1\" /><path clip-path=\"url(#clip120)\" d=\"M129.371 1108.29 L147.728 1108.29 L147.728 1112.22 L133.654 1112.22 L133.654 1120.7 Q134.672 1120.35 135.691 1120.19 Q136.709 1120 137.728 1120 Q143.515 1120 146.894 1123.17 Q150.274 1126.34 150.274 1131.76 Q150.274 1137.34 146.802 1140.44 Q143.33 1143.52 137.01 1143.52 Q134.834 1143.52 132.566 1143.15 Q130.32 1142.78 127.913 1142.04 L127.913 1137.34 Q129.996 1138.47 132.219 1139.03 Q134.441 1139.58 136.918 1139.58 Q140.922 1139.58 143.26 1137.48 Q145.598 1135.37 145.598 1131.76 Q145.598 1128.15 143.26 1126.04 Q140.922 1123.94 136.918 1123.94 Q135.043 1123.94 133.168 1124.35 Q131.316 1124.77 129.371 1125.65 L129.371 1108.29 Z\" fill=\"#000000\" fill-rule=\"evenodd\" fill-opacity=\"1\" /><path clip-path=\"url(#clip120)\" d=\"M62.9365 751.926 Q59.3254 751.926 57.4967 755.491 Q55.6912 759.032 55.6912 766.162 Q55.6912 773.268 57.4967 776.833 Q59.3254 780.375 62.9365 780.375 Q66.5707 780.375 68.3763 776.833 Q70.205 773.268 70.205 766.162 Q70.205 759.032 68.3763 755.491 Q66.5707 751.926 62.9365 751.926 M62.9365 748.222 Q68.7467 748.222 71.8022 752.829 Q74.8809 757.412 74.8809 766.162 Q74.8809 774.889 71.8022 779.495 Q68.7467 784.078 62.9365 784.078 Q57.1264 784.078 54.0477 779.495 Q50.9921 774.889 50.9921 766.162 Q50.9921 757.412 54.0477 752.829 Q57.1264 748.222 62.9365 748.222 Z\" fill=\"#000000\" fill-rule=\"evenodd\" fill-opacity=\"1\" /><path clip-path=\"url(#clip120)\" d=\"M83.0984 777.528 L87.9827 777.528 L87.9827 783.407 L83.0984 783.407 L83.0984 777.528 Z\" fill=\"#000000\" fill-rule=\"evenodd\" fill-opacity=\"1\" /><path clip-path=\"url(#clip120)\" d=\"M98.2141 748.847 L116.57 748.847 L116.57 752.782 L102.496 752.782 L102.496 761.254 Q103.515 760.907 104.534 760.745 Q105.552 760.56 106.571 760.56 Q112.358 760.56 115.737 763.731 Q119.117 766.903 119.117 772.319 Q119.117 777.898 115.645 781 Q112.172 784.078 105.853 784.078 Q103.677 784.078 101.409 783.708 Q99.1632 783.338 96.7558 782.597 L96.7558 777.898 Q98.8391 779.032 101.061 779.588 Q103.284 780.143 105.76 780.143 Q109.765 780.143 112.103 778.037 Q114.441 775.93 114.441 772.319 Q114.441 768.708 112.103 766.602 Q109.765 764.495 105.76 764.495 Q103.885 764.495 102.01 764.912 Q100.159 765.328 98.2141 766.208 L98.2141 748.847 Z\" fill=\"#000000\" fill-rule=\"evenodd\" fill-opacity=\"1\" /><path clip-path=\"url(#clip120)\" d=\"M138.33 751.926 Q134.719 751.926 132.89 755.491 Q131.084 759.032 131.084 766.162 Q131.084 773.268 132.89 776.833 Q134.719 780.375 138.33 780.375 Q141.964 780.375 143.769 776.833 Q145.598 773.268 145.598 766.162 Q145.598 759.032 143.769 755.491 Q141.964 751.926 138.33 751.926 M138.33 748.222 Q144.14 748.222 147.195 752.829 Q150.274 757.412 150.274 766.162 Q150.274 774.889 147.195 779.495 Q144.14 784.078 138.33 784.078 Q132.519 784.078 129.441 779.495 Q126.385 774.889 126.385 766.162 Q126.385 757.412 129.441 752.829 Q132.519 748.222 138.33 748.222 Z\" fill=\"#000000\" fill-rule=\"evenodd\" fill-opacity=\"1\" /><path clip-path=\"url(#clip120)\" d=\"M63.9319 392.484 Q60.3208 392.484 58.4921 396.049 Q56.6865 399.591 56.6865 406.72 Q56.6865 413.827 58.4921 417.392 Q60.3208 420.933 63.9319 420.933 Q67.5661 420.933 69.3717 417.392 Q71.2004 413.827 71.2004 406.72 Q71.2004 399.591 69.3717 396.049 Q67.5661 392.484 63.9319 392.484 M63.9319 388.781 Q69.742 388.781 72.7976 393.387 Q75.8763 397.97 75.8763 406.72 Q75.8763 415.447 72.7976 420.054 Q69.742 424.637 63.9319 424.637 Q58.1217 424.637 55.043 420.054 Q51.9875 415.447 51.9875 406.72 Q51.9875 397.97 55.043 393.387 Q58.1217 388.781 63.9319 388.781 Z\" fill=\"#000000\" fill-rule=\"evenodd\" fill-opacity=\"1\" /><path clip-path=\"url(#clip120)\" d=\"M84.0938 418.086 L88.978 418.086 L88.978 423.966 L84.0938 423.966 L84.0938 418.086 Z\" fill=\"#000000\" fill-rule=\"evenodd\" fill-opacity=\"1\" /><path clip-path=\"url(#clip120)\" d=\"M97.9826 389.406 L120.205 389.406 L120.205 391.396 L107.658 423.966 L102.774 423.966 L114.58 393.341 L97.9826 393.341 L97.9826 389.406 Z\" fill=\"#000000\" fill-rule=\"evenodd\" fill-opacity=\"1\" /><path clip-path=\"url(#clip120)\" d=\"M129.371 389.406 L147.728 389.406 L147.728 393.341 L133.654 393.341 L133.654 401.813 Q134.672 401.466 135.691 401.304 Q136.709 401.118 137.728 401.118 Q143.515 401.118 146.894 404.29 Q150.274 407.461 150.274 412.878 Q150.274 418.456 146.802 421.558 Q143.33 424.637 137.01 424.637 Q134.834 424.637 132.566 424.267 Q130.32 423.896 127.913 423.155 L127.913 418.456 Q129.996 419.591 132.219 420.146 Q134.441 420.702 136.918 420.702 Q140.922 420.702 143.26 418.595 Q145.598 416.489 145.598 412.878 Q145.598 409.267 143.26 407.16 Q140.922 405.054 136.918 405.054 Q135.043 405.054 133.168 405.47 Q131.316 405.887 129.371 406.767 L129.371 389.406 Z\" fill=\"#000000\" fill-rule=\"evenodd\" fill-opacity=\"1\" /><path clip-path=\"url(#clip120)\" d=\"M53.7467 60.5889 L61.3856 60.5889 L61.3856 34.2233 L53.0754 35.89 L53.0754 31.6308 L61.3393 29.9641 L66.0152 29.9641 L66.0152 60.5889 L73.654 60.5889 L73.654 64.5241 L53.7467 64.5241 L53.7467 60.5889 Z\" fill=\"#000000\" fill-rule=\"evenodd\" fill-opacity=\"1\" /><path clip-path=\"url(#clip120)\" d=\"M83.0984 58.6445 L87.9827 58.6445 L87.9827 64.5241 L83.0984 64.5241 L83.0984 58.6445 Z\" fill=\"#000000\" fill-rule=\"evenodd\" fill-opacity=\"1\" /><path clip-path=\"url(#clip120)\" d=\"M108.168 33.0428 Q104.557 33.0428 102.728 36.6076 Q100.922 40.1492 100.922 47.2788 Q100.922 54.3853 102.728 57.9501 Q104.557 61.4917 108.168 61.4917 Q111.802 61.4917 113.608 57.9501 Q115.436 54.3853 115.436 47.2788 Q115.436 40.1492 113.608 36.6076 Q111.802 33.0428 108.168 33.0428 M108.168 29.3391 Q113.978 29.3391 117.033 33.9456 Q120.112 38.5289 120.112 47.2788 Q120.112 56.0056 117.033 60.6121 Q113.978 65.1954 108.168 65.1954 Q102.358 65.1954 99.2789 60.6121 Q96.2234 56.0056 96.2234 47.2788 Q96.2234 38.5289 99.2789 33.9456 Q102.358 29.3391 108.168 29.3391 Z\" fill=\"#000000\" fill-rule=\"evenodd\" fill-opacity=\"1\" /><path clip-path=\"url(#clip120)\" d=\"M138.33 33.0428 Q134.719 33.0428 132.89 36.6076 Q131.084 40.1492 131.084 47.2788 Q131.084 54.3853 132.89 57.9501 Q134.719 61.4917 138.33 61.4917 Q141.964 61.4917 143.769 57.9501 Q145.598 54.3853 145.598 47.2788 Q145.598 40.1492 143.769 36.6076 Q141.964 33.0428 138.33 33.0428 M138.33 29.3391 Q144.14 29.3391 147.195 33.9456 Q150.274 38.5289 150.274 47.2788 Q150.274 56.0056 147.195 60.6121 Q144.14 65.1954 138.33 65.1954 Q132.519 65.1954 129.441 60.6121 Q126.385 56.0056 126.385 47.2788 Q126.385 38.5289 129.441 33.9456 Q132.519 29.3391 138.33 29.3391 Z\" fill=\"#000000\" fill-rule=\"evenodd\" fill-opacity=\"1\" /><polyline clip-path=\"url(#clip122)\" style=\"stroke:#009af9; stroke-linecap:butt; stroke-linejoin:round; stroke-width:4; stroke-opacity:1; fill:none\" points=\"\n",
       "  247.59,1375.16 299.996,1297.81 352.402,1195.3 404.809,1074.24 457.215,947.142 509.622,810.123 562.028,680.436 614.435,569.872 666.841,480.012 719.247,400.503 \n",
       "  771.654,327.033 824.06,272.83 876.467,227.971 928.873,191.452 981.28,161.834 1033.69,137.392 1086.09,115.969 1138.5,99.2912 1190.91,89.3706 1243.31,79.8814 \n",
       "  1295.72,71.2548 1348.12,66.6539 1400.53,62.0531 1452.94,57.4522 1505.34,54.2891 1557.75,52.1325 1610.16,50.9823 1662.56,50.2634 1714.97,49.257 1767.38,48.3943 \n",
       "  1819.78,47.8192 1872.19,47.8192 1924.6,47.6754 1977,47.6754 2029.41,47.3879 2081.81,47.3879 2134.22,47.3879 2186.63,47.3879 2239.03,47.2441 2291.44,47.2441 \n",
       "  \n",
       "  \"/>\n",
       "<polyline clip-path=\"url(#clip122)\" style=\"stroke:#e26f46; stroke-linecap:butt; stroke-linejoin:round; stroke-width:4; stroke-opacity:1; fill:none\" points=\"\n",
       "  247.59,1474.8 299.996,1466.75 352.402,1454.39 404.809,1437.56 457.215,1422.61 509.622,1403.92 562.028,1387.67 614.435,1372 666.841,1356.19 719.247,1343.25 \n",
       "  771.654,1329.73 824.06,1312.48 876.467,1297.38 928.873,1277.11 981.28,1248.21 1033.69,1115.79 1086.09,966.264 1138.5,816.161 1190.91,665.483 1243.31,517.394 \n",
       "  1295.72,47.2441 1348.12,47.2441 1400.53,47.2441 1452.94,47.2441 1505.34,47.2441 1557.75,47.2441 1610.16,47.2441 1662.56,47.2441 1714.97,47.2441 1767.38,47.2441 \n",
       "  1819.78,47.2441 1872.19,47.2441 1924.6,47.2441 1977,47.2441 2029.41,47.2441 2081.81,47.2441 2134.22,47.2441 2186.63,47.2441 2239.03,47.2441 2291.44,47.2441 \n",
       "  \n",
       "  \"/>\n",
       "<polyline clip-path=\"url(#clip122)\" style=\"stroke:#3da44d; stroke-linecap:butt; stroke-linejoin:round; stroke-width:4; stroke-opacity:1; fill:none\" points=\"\n",
       "  247.59,1485.01 299.996,1484.55 352.402,1449.67 404.809,1449.56 457.215,1449.15 509.622,1449.05 562.028,1447.84 614.435,1421.98 666.841,1365.38 719.247,1365.37 \n",
       "  771.654,1364.67 824.06,1347.66 876.467,740.476 928.873,689.227 981.28,687.916 1033.69,686.944 1086.09,656.328 1138.5,656.238 1190.91,656.229 1243.31,654.675 \n",
       "  1295.72,49.4008 1348.12,49.3002 1400.53,47.2468 1452.94,47.2468 1505.34,47.2468 1557.75,47.2441 1610.16,47.2441 1662.56,47.2441 1714.97,47.2441 1767.38,47.2441 \n",
       "  1819.78,47.2441 1872.19,47.2441 1924.6,47.2441 1977,47.2441 2029.41,47.2441 2081.81,47.2441 2134.22,47.2441 2186.63,47.2441 2239.03,47.2441 2291.44,47.2441 \n",
       "  \n",
       "  \"/>\n",
       "<polyline clip-path=\"url(#clip122)\" style=\"stroke:#c271d2; stroke-linecap:butt; stroke-linejoin:round; stroke-width:4; stroke-opacity:1; fill:none\" points=\"\n",
       "  247.59,1348.32 299.996,1217.95 352.402,1049.21 404.809,859.639 457.215,666.001 509.622,502.527 562.028,359.527 614.435,250.587 666.841,173.178 719.247,122.08 \n",
       "  771.654,92.9507 824.06,75.4962 876.467,63.0308 928.873,56.7477 981.28,52.7795 1033.69,50.4934 1086.09,49.4583 1138.5,49.0988 1190.91,48.5812 1243.31,48.2218 \n",
       "  1295.72,47.9774 1348.12,47.5748 1400.53,47.4598 1452.94,47.431 1505.34,47.4166 1557.75,47.2728 1610.16,47.2728 1662.56,47.2728 1714.97,47.2441 1767.38,47.2441 \n",
       "  1819.78,47.2441 1872.19,47.2441 1924.6,47.2441 1977,47.2441 2029.41,47.2441 2081.81,47.2441 2134.22,47.2441 2186.63,47.2441 2239.03,47.2441 2291.44,47.2441 \n",
       "  \n",
       "  \"/>\n",
       "<polyline clip-path=\"url(#clip122)\" style=\"stroke:#ac8d18; stroke-linecap:butt; stroke-linejoin:round; stroke-width:4; stroke-opacity:1; fill:none\" points=\"\n",
       "  247.59,1479.81 273.461,1477.88 299.333,1475.25 325.204,1471.71 351.076,1466.94 376.947,1460.55 402.819,1452.02 428.69,1440.68 454.562,1425.7 480.433,1406.02 \n",
       "  506.305,1380.38 532.176,1347.28 558.048,1305.1 583.919,1252.2 609.791,1187.19 635.662,1109.29 661.534,1018.74 687.406,917.251 713.277,808.096 739.149,695.935 \n",
       "  765.02,586.093 790.892,483.598 816.763,392.294 842.635,314.342 868.506,250.228 894.378,199.138 920.249,159.475 946.121,129.323 971.992,106.779 997.864,90.1447 \n",
       "  1023.74,77.9959 1049.61,69.1946 1075.48,62.859 1101.35,58.3212 1127.22,55.0843 1153.09,52.7828 1178.96,51.1507 1204.84,49.9959 1230.71,49.1802 1256.58,48.605 \n",
       "  1282.45,48.1998 1308.32,47.9147 1334.19,47.7143 1360.07,47.5736 1385.94,47.4748 1411.81,47.4055 1437.68,47.3569 1463.55,47.3228 1489.42,47.299 1515.29,47.2823 \n",
       "  1541.17,47.2706 1567.04,47.2624 1592.91,47.2567 1618.78,47.2527 1644.65,47.2498 1670.52,47.2479 1696.4,47.2465 1722.27,47.2456 1748.14,47.2449 1774.01,47.2444 \n",
       "  1799.88,47.2441 1825.75,47.2441 1851.62,47.2441 1877.5,47.2441 1903.37,47.2441 1929.24,47.2441 1955.11,47.2441 1980.98,47.2441 2006.85,47.2441 2032.73,47.2441 \n",
       "  2058.6,47.2441 2084.47,47.2441 2110.34,47.2441 2136.21,47.2441 2162.08,47.2441 2187.95,47.2441 2213.83,47.2441 2239.7,47.2441 2265.57,47.2441 2291.44,47.2441 \n",
       "  \n",
       "  \"/>\n",
       "<polyline clip-path=\"url(#clip122)\" style=\"stroke:#00a9ad; stroke-linecap:butt; stroke-linejoin:round; stroke-width:4; stroke-opacity:1; fill:none\" points=\"\n",
       "  247.59,1480.22 273.461,1475.45 299.333,1465.97 325.204,1447.29 351.076,1410.94 376.947,1342.12 402.819,1218.44 428.69,1016.81 454.562,739.614 480.433,447.773 \n",
       "  506.305,231.017 532.176,117.719 558.048,71.7873 583.919,55.4595 609.791,49.9554 635.662,48.1346 661.534,47.5361 687.406,47.3398 713.277,47.2755 739.149,47.2544 \n",
       "  765.02,47.2475 790.892,47.2452 816.763,47.2445 842.635,47.2442 868.506,47.2441 894.378,47.2441 920.249,47.2441 946.121,47.2441 971.992,47.2441 997.864,47.2441 \n",
       "  1023.74,47.2441 1049.61,47.2441 1075.48,47.2441 1101.35,47.2441 1127.22,47.2441 1153.09,47.2441 1178.96,47.2441 1204.84,47.2441 1230.71,47.2441 1256.58,47.2441 \n",
       "  1282.45,47.2441 1308.32,47.2441 1334.19,47.2441 1360.07,47.2441 1385.94,47.2441 1411.81,47.2441 1437.68,47.2441 1463.55,47.2441 1489.42,47.2441 1515.29,47.2441 \n",
       "  1541.17,47.2441 1567.04,47.2441 1592.91,47.2441 1618.78,47.2441 1644.65,47.2441 1670.52,47.2441 1696.4,47.2441 1722.27,47.2441 1748.14,47.2441 1774.01,47.2441 \n",
       "  1799.88,47.2441 1825.75,47.2441 1851.62,47.2441 1877.5,47.2441 1903.37,47.2441 1929.24,47.2441 1955.11,47.2441 1980.98,47.2441 2006.85,47.2441 2032.73,47.2441 \n",
       "  2058.6,47.2441 2084.47,47.2441 2110.34,47.2441 2136.21,47.2441 2162.08,47.2441 2187.95,47.2441 2213.83,47.2441 2239.7,47.2441 2265.57,47.2441 2291.44,47.2441 \n",
       "  \n",
       "  \"/>\n",
       "<path clip-path=\"url(#clip120)\" d=\"\n",
       "M1894.47 458.098 L2280.54 458.098 L2280.54 95.2176 L1894.47 95.2176  Z\n",
       "  \" fill=\"#ffffff\" fill-rule=\"evenodd\" fill-opacity=\"1\"/>\n",
       "<polyline clip-path=\"url(#clip120)\" style=\"stroke:#000000; stroke-linecap:butt; stroke-linejoin:round; stroke-width:4; stroke-opacity:1; fill:none\" points=\"\n",
       "  1894.47,458.098 2280.54,458.098 2280.54,95.2176 1894.47,95.2176 1894.47,458.098 \n",
       "  \"/>\n",
       "<polyline clip-path=\"url(#clip120)\" style=\"stroke:#009af9; stroke-linecap:butt; stroke-linejoin:round; stroke-width:4; stroke-opacity:1; fill:none\" points=\"\n",
       "  1918.55,147.058 2062.98,147.058 \n",
       "  \"/>\n",
       "<path clip-path=\"url(#clip120)\" d=\"M2107.56 139.407 L2107.56 143.389 Q2105.75 142.393 2103.92 141.907 Q2102.12 141.398 2100.27 141.398 Q2096.12 141.398 2093.83 144.037 Q2091.54 146.652 2091.54 151.398 Q2091.54 156.143 2093.83 158.782 Q2096.12 161.398 2100.27 161.398 Q2102.12 161.398 2103.92 160.912 Q2105.75 160.402 2107.56 159.407 L2107.56 163.342 Q2105.78 164.176 2103.85 164.592 Q2101.96 165.009 2099.8 165.009 Q2093.95 165.009 2090.5 161.328 Q2087.05 157.648 2087.05 151.398 Q2087.05 145.055 2090.52 141.421 Q2094.02 137.787 2100.08 137.787 Q2102.05 137.787 2103.92 138.203 Q2105.8 138.597 2107.56 139.407 Z\" fill=\"#000000\" fill-rule=\"evenodd\" fill-opacity=\"1\" /><path clip-path=\"url(#clip120)\" d=\"M2126.75 151.305 Q2121.59 151.305 2119.6 152.486 Q2117.6 153.666 2117.6 156.514 Q2117.6 158.782 2119.09 160.125 Q2120.59 161.444 2123.16 161.444 Q2126.7 161.444 2128.83 158.944 Q2130.98 156.421 2130.98 152.254 L2130.98 151.305 L2126.75 151.305 M2135.24 149.546 L2135.24 164.338 L2130.98 164.338 L2130.98 160.402 Q2129.53 162.763 2127.35 163.898 Q2125.17 165.009 2122.03 165.009 Q2118.04 165.009 2115.68 162.787 Q2113.35 160.541 2113.35 156.791 Q2113.35 152.416 2116.26 150.194 Q2119.2 147.972 2125.01 147.972 L2130.98 147.972 L2130.98 147.555 Q2130.98 144.615 2129.04 143.018 Q2127.12 141.398 2123.62 141.398 Q2121.4 141.398 2119.29 141.93 Q2117.19 142.463 2115.24 143.527 L2115.24 139.592 Q2117.58 138.69 2119.78 138.25 Q2121.98 137.787 2124.06 137.787 Q2129.69 137.787 2132.47 140.703 Q2135.24 143.62 2135.24 149.546 Z\" fill=\"#000000\" fill-rule=\"evenodd\" fill-opacity=\"1\" /><path clip-path=\"url(#clip120)\" d=\"M2143.58 154.106 L2143.58 138.412 L2147.84 138.412 L2147.84 153.944 Q2147.84 157.625 2149.27 159.476 Q2150.71 161.305 2153.58 161.305 Q2157.03 161.305 2159.02 159.106 Q2161.03 156.907 2161.03 153.111 L2161.03 138.412 L2165.29 138.412 L2165.29 164.338 L2161.03 164.338 L2161.03 160.356 Q2159.48 162.717 2157.42 163.875 Q2155.38 165.009 2152.67 165.009 Q2148.21 165.009 2145.89 162.231 Q2143.58 159.453 2143.58 154.106 M2154.29 137.787 L2154.29 137.787 Z\" fill=\"#000000\" fill-rule=\"evenodd\" fill-opacity=\"1\" /><polyline clip-path=\"url(#clip120)\" style=\"stroke:#e26f46; stroke-linecap:butt; stroke-linejoin:round; stroke-width:4; stroke-opacity:1; fill:none\" points=\"\n",
       "  1918.55,198.898 2062.98,198.898 \n",
       "  \"/>\n",
       "<path clip-path=\"url(#clip120)\" d=\"M2103.55 180.159 L2103.55 183.701 L2099.48 183.701 Q2097.19 183.701 2096.29 184.627 Q2095.41 185.553 2095.41 187.96 L2095.41 190.252 L2102.42 190.252 L2102.42 193.562 L2095.41 193.562 L2095.41 216.178 L2091.12 216.178 L2091.12 193.562 L2087.05 193.562 L2087.05 190.252 L2091.12 190.252 L2091.12 188.446 Q2091.12 184.118 2093.14 182.15 Q2095.15 180.159 2099.53 180.159 L2103.55 180.159 Z\" fill=\"#000000\" fill-rule=\"evenodd\" fill-opacity=\"1\" /><path clip-path=\"url(#clip120)\" d=\"M2122.14 194.233 Q2121.42 193.817 2120.57 193.631 Q2119.73 193.423 2118.72 193.423 Q2115.1 193.423 2113.16 195.784 Q2111.24 198.122 2111.24 202.52 L2111.24 216.178 L2106.96 216.178 L2106.96 190.252 L2111.24 190.252 L2111.24 194.28 Q2112.58 191.918 2114.73 190.784 Q2116.89 189.627 2119.97 189.627 Q2120.41 189.627 2120.94 189.696 Q2121.47 189.743 2122.12 189.858 L2122.14 194.233 Z\" fill=\"#000000\" fill-rule=\"evenodd\" fill-opacity=\"1\" /><path clip-path=\"url(#clip120)\" d=\"M2147.74 202.15 L2147.74 204.233 L2128.16 204.233 Q2128.44 208.631 2130.8 210.946 Q2133.18 213.238 2137.42 213.238 Q2139.87 213.238 2142.16 212.636 Q2144.48 212.034 2146.75 210.83 L2146.75 214.858 Q2144.46 215.83 2142.05 216.34 Q2139.64 216.849 2137.16 216.849 Q2130.96 216.849 2127.33 213.238 Q2123.72 209.627 2123.72 203.469 Q2123.72 197.104 2127.14 193.377 Q2130.59 189.627 2136.42 189.627 Q2141.66 189.627 2144.69 193.006 Q2147.74 196.363 2147.74 202.15 M2143.48 200.9 Q2143.44 197.405 2141.52 195.321 Q2139.62 193.238 2136.47 193.238 Q2132.91 193.238 2130.75 195.252 Q2128.62 197.266 2128.3 200.923 L2143.48 200.9 Z\" fill=\"#000000\" fill-rule=\"evenodd\" fill-opacity=\"1\" /><path clip-path=\"url(#clip120)\" d=\"M2176.28 200.529 L2176.28 216.178 L2172.03 216.178 L2172.03 200.668 Q2172.03 196.988 2170.59 195.159 Q2169.16 193.33 2166.29 193.33 Q2162.84 193.33 2160.85 195.53 Q2158.85 197.729 2158.85 201.525 L2158.85 216.178 L2154.57 216.178 L2154.57 190.252 L2158.85 190.252 L2158.85 194.28 Q2160.38 191.942 2162.44 190.784 Q2164.53 189.627 2167.23 189.627 Q2171.7 189.627 2173.99 192.405 Q2176.28 195.159 2176.28 200.529 Z\" fill=\"#000000\" fill-rule=\"evenodd\" fill-opacity=\"1\" /><path clip-path=\"url(#clip120)\" d=\"M2203.44 191.247 L2203.44 195.229 Q2201.63 194.233 2199.8 193.747 Q2198 193.238 2196.15 193.238 Q2192 193.238 2189.71 195.877 Q2187.42 198.492 2187.42 203.238 Q2187.42 207.983 2189.71 210.622 Q2192 213.238 2196.15 213.238 Q2198 213.238 2199.8 212.752 Q2201.63 212.242 2203.44 211.247 L2203.44 215.182 Q2201.66 216.016 2199.73 216.432 Q2197.84 216.849 2195.68 216.849 Q2189.83 216.849 2186.38 213.168 Q2182.93 209.488 2182.93 203.238 Q2182.93 196.895 2186.4 193.261 Q2189.9 189.627 2195.96 189.627 Q2197.93 189.627 2199.8 190.043 Q2201.68 190.437 2203.44 191.247 Z\" fill=\"#000000\" fill-rule=\"evenodd\" fill-opacity=\"1\" /><path clip-path=\"url(#clip120)\" d=\"M2232.4 200.529 L2232.4 216.178 L2228.14 216.178 L2228.14 200.668 Q2228.14 196.988 2226.7 195.159 Q2225.27 193.33 2222.4 193.33 Q2218.95 193.33 2216.96 195.53 Q2214.97 197.729 2214.97 201.525 L2214.97 216.178 L2210.68 216.178 L2210.68 180.159 L2214.97 180.159 L2214.97 194.28 Q2216.49 191.942 2218.55 190.784 Q2220.64 189.627 2223.34 189.627 Q2227.81 189.627 2230.1 192.405 Q2232.4 195.159 2232.4 200.529 Z\" fill=\"#000000\" fill-rule=\"evenodd\" fill-opacity=\"1\" /><polyline clip-path=\"url(#clip120)\" style=\"stroke:#3da44d; stroke-linecap:butt; stroke-linejoin:round; stroke-width:4; stroke-opacity:1; fill:none\" points=\"\n",
       "  1918.55,250.738 2062.98,250.738 \n",
       "  \"/>\n",
       "<path clip-path=\"url(#clip120)\" d=\"M2105.48 242.856 L2105.48 246.883 Q2103.67 245.957 2101.73 245.495 Q2099.78 245.032 2097.7 245.032 Q2094.53 245.032 2092.93 246.004 Q2091.35 246.976 2091.35 248.92 Q2091.35 250.402 2092.49 251.258 Q2093.62 252.092 2097.05 252.856 L2098.51 253.18 Q2103.04 254.152 2104.94 255.934 Q2106.86 257.694 2106.86 260.865 Q2106.86 264.476 2103.99 266.582 Q2101.15 268.689 2096.15 268.689 Q2094.06 268.689 2091.79 268.272 Q2089.55 267.879 2087.05 267.068 L2087.05 262.67 Q2089.41 263.897 2091.7 264.522 Q2093.99 265.124 2096.24 265.124 Q2099.25 265.124 2100.87 264.106 Q2102.49 263.064 2102.49 261.189 Q2102.49 259.453 2101.31 258.527 Q2100.15 257.601 2096.19 256.744 L2094.71 256.397 Q2090.75 255.564 2088.99 253.851 Q2087.23 252.115 2087.23 249.106 Q2087.23 245.448 2089.83 243.458 Q2092.42 241.467 2097.19 241.467 Q2099.55 241.467 2101.63 241.814 Q2103.72 242.161 2105.48 242.856 Z\" fill=\"#000000\" fill-rule=\"evenodd\" fill-opacity=\"1\" /><path clip-path=\"url(#clip120)\" d=\"M2123.69 245.078 Q2120.27 245.078 2118.28 247.763 Q2116.29 250.425 2116.29 255.078 Q2116.29 259.731 2118.25 262.416 Q2120.24 265.078 2123.69 265.078 Q2127.1 265.078 2129.09 262.393 Q2131.08 259.707 2131.08 255.078 Q2131.08 250.471 2129.09 247.786 Q2127.1 245.078 2123.69 245.078 M2123.69 241.467 Q2129.25 241.467 2132.42 245.078 Q2135.59 248.689 2135.59 255.078 Q2135.59 261.444 2132.42 265.078 Q2129.25 268.689 2123.69 268.689 Q2118.11 268.689 2114.94 265.078 Q2111.79 261.444 2111.79 255.078 Q2111.79 248.689 2114.94 245.078 Q2118.11 241.467 2123.69 241.467 Z\" fill=\"#000000\" fill-rule=\"evenodd\" fill-opacity=\"1\" /><path clip-path=\"url(#clip120)\" d=\"M2155.78 231.999 L2155.78 235.541 L2151.7 235.541 Q2149.41 235.541 2148.51 236.467 Q2147.63 237.393 2147.63 239.8 L2147.63 242.092 L2154.64 242.092 L2154.64 245.402 L2147.63 245.402 L2147.63 268.018 L2143.35 268.018 L2143.35 245.402 L2139.27 245.402 L2139.27 242.092 L2143.35 242.092 L2143.35 240.286 Q2143.35 235.958 2145.36 233.99 Q2147.37 231.999 2151.75 231.999 L2155.78 231.999 Z\" fill=\"#000000\" fill-rule=\"evenodd\" fill-opacity=\"1\" /><path clip-path=\"url(#clip120)\" d=\"M2162.72 234.731 L2162.72 242.092 L2171.49 242.092 L2171.49 245.402 L2162.72 245.402 L2162.72 259.476 Q2162.72 262.647 2163.58 263.55 Q2164.46 264.453 2167.12 264.453 L2171.49 264.453 L2171.49 268.018 L2167.12 268.018 Q2162.19 268.018 2160.31 266.189 Q2158.44 264.337 2158.44 259.476 L2158.44 245.402 L2155.31 245.402 L2155.31 242.092 L2158.44 242.092 L2158.44 234.731 L2162.72 234.731 Z\" fill=\"#000000\" fill-rule=\"evenodd\" fill-opacity=\"1\" /><polyline clip-path=\"url(#clip120)\" style=\"stroke:#c271d2; stroke-linecap:butt; stroke-linejoin:round; stroke-width:4; stroke-opacity:1; fill:none\" points=\"\n",
       "  1918.55,302.578 2062.98,302.578 \n",
       "  \"/>\n",
       "<path clip-path=\"url(#clip120)\" d=\"M2087.05 285.298 L2094.02 285.298 L2102.84 308.816 L2111.7 285.298 L2118.67 285.298 L2118.67 319.858 L2114.11 319.858 L2114.11 289.51 L2105.2 313.214 L2100.5 313.214 L2091.59 289.51 L2091.59 319.858 L2087.05 319.858 L2087.05 285.298 Z\" fill=\"#000000\" fill-rule=\"evenodd\" fill-opacity=\"1\" /><path clip-path=\"url(#clip120)\" d=\"M2127.95 285.298 L2132.63 285.298 L2132.63 299.464 L2149.62 299.464 L2149.62 285.298 L2154.29 285.298 L2154.29 319.858 L2149.62 319.858 L2149.62 303.399 L2132.63 303.399 L2132.63 319.858 L2127.95 319.858 L2127.95 285.298 Z\" fill=\"#000000\" fill-rule=\"evenodd\" fill-opacity=\"1\" /><polyline clip-path=\"url(#clip120)\" style=\"stroke:#ac8d18; stroke-linecap:butt; stroke-linejoin:round; stroke-width:4; stroke-opacity:1; fill:none\" points=\"\n",
       "  1918.55,354.418 2062.98,354.418 \n",
       "  \"/>\n",
       "<path clip-path=\"url(#clip120)\" d=\"M2105.48 346.536 L2105.48 350.563 Q2103.67 349.637 2101.73 349.175 Q2099.78 348.712 2097.7 348.712 Q2094.53 348.712 2092.93 349.684 Q2091.35 350.656 2091.35 352.6 Q2091.35 354.082 2092.49 354.938 Q2093.62 355.772 2097.05 356.536 L2098.51 356.86 Q2103.04 357.832 2104.94 359.614 Q2106.86 361.374 2106.86 364.545 Q2106.86 368.156 2103.99 370.262 Q2101.15 372.369 2096.15 372.369 Q2094.06 372.369 2091.79 371.952 Q2089.55 371.559 2087.05 370.748 L2087.05 366.35 Q2089.41 367.577 2091.7 368.202 Q2093.99 368.804 2096.24 368.804 Q2099.25 368.804 2100.87 367.786 Q2102.49 366.744 2102.49 364.869 Q2102.49 363.133 2101.31 362.207 Q2100.15 361.281 2096.19 360.424 L2094.71 360.077 Q2090.75 359.244 2088.99 357.531 Q2087.23 355.795 2087.23 352.786 Q2087.23 349.128 2089.83 347.138 Q2092.42 345.147 2097.19 345.147 Q2099.55 345.147 2101.63 345.494 Q2103.72 345.841 2105.48 346.536 Z\" fill=\"#000000\" fill-rule=\"evenodd\" fill-opacity=\"1\" /><path clip-path=\"url(#clip120)\" d=\"M2113.65 345.772 L2117.91 345.772 L2117.91 371.698 L2113.65 371.698 L2113.65 345.772 M2113.65 335.679 L2117.91 335.679 L2117.91 341.073 L2113.65 341.073 L2113.65 335.679 Z\" fill=\"#000000\" fill-rule=\"evenodd\" fill-opacity=\"1\" /><path clip-path=\"url(#clip120)\" d=\"M2145.43 358.758 Q2145.43 354.059 2143.48 351.397 Q2141.56 348.712 2138.18 348.712 Q2134.8 348.712 2132.86 351.397 Q2130.94 354.059 2130.94 358.758 Q2130.94 363.457 2132.86 366.142 Q2134.8 368.804 2138.18 368.804 Q2141.56 368.804 2143.48 366.142 Q2145.43 363.457 2145.43 358.758 M2130.94 349.707 Q2132.28 347.392 2134.32 346.281 Q2136.38 345.147 2139.23 345.147 Q2143.95 345.147 2146.89 348.897 Q2149.85 352.647 2149.85 358.758 Q2149.85 364.869 2146.89 368.619 Q2143.95 372.369 2139.23 372.369 Q2136.38 372.369 2134.32 371.258 Q2132.28 370.123 2130.94 367.809 L2130.94 371.698 L2126.66 371.698 L2126.66 335.679 L2130.94 335.679 L2130.94 349.707 Z\" fill=\"#000000\" fill-rule=\"evenodd\" fill-opacity=\"1\" /><polyline clip-path=\"url(#clip120)\" style=\"stroke:#00a9ad; stroke-linecap:butt; stroke-linejoin:round; stroke-width:4; stroke-opacity:1; fill:none\" points=\"\n",
       "  1918.55,406.258 2062.98,406.258 \n",
       "  \"/>\n",
       "<path clip-path=\"url(#clip120)\" d=\"M2087.05 388.978 L2094.02 388.978 L2102.84 412.496 L2111.7 388.978 L2118.67 388.978 L2118.67 423.538 L2114.11 423.538 L2114.11 393.19 L2105.2 416.894 L2100.5 416.894 L2091.59 393.19 L2091.59 423.538 L2087.05 423.538 L2087.05 388.978 Z\" fill=\"#000000\" fill-rule=\"evenodd\" fill-opacity=\"1\" /><path clip-path=\"url(#clip120)\" d=\"M2127.95 388.978 L2147.81 388.978 L2147.81 392.913 L2132.63 392.913 L2132.63 403.098 L2146.33 403.098 L2146.33 407.033 L2132.63 407.033 L2132.63 423.538 L2127.95 423.538 L2127.95 388.978 Z\" fill=\"#000000\" fill-rule=\"evenodd\" fill-opacity=\"1\" /></svg>\n"
      ]
     },
     "execution_count": 56,
     "metadata": {},
     "output_type": "execute_result"
    }
   ],
   "source": [
    "i = 11\n",
    "plot(LinRange(1,Int(T),bins),p_cau[i,:], label = \"cau\")\n",
    "plot!(LinRange(1,Int(T),bins),p_french[i,:], label = \"french\")\n",
    "plot!(LinRange(1,Int(T),bins),p_soft[i,:], label = \"soft\")\n",
    "plot!(LinRange(1,Int(T),bins),p_mh[i,:], label = \"MH\")\n",
    "plot!(LinRange(1,Int(T),Int(round(T/dt))),p_sib[i,:], label = \"sib\")\n",
    "plot!(LinRange(1,Int(T),Int(round(T/dt))),p_MF[i,:], label = \"MF\")\n",
    "ylims!(-0.001,1)"
   ]
  },
  {
   "cell_type": "code",
   "execution_count": 57,
   "metadata": {},
   "outputs": [
    {
     "data": {
      "image/svg+xml": [
       "<?xml version=\"1.0\" encoding=\"utf-8\"?>\n",
       "<svg xmlns=\"http://www.w3.org/2000/svg\" xmlns:xlink=\"http://www.w3.org/1999/xlink\" width=\"600\" height=\"400\" viewBox=\"0 0 2400 1600\">\n",
       "<defs>\n",
       "  <clipPath id=\"clip170\">\n",
       "    <rect x=\"0\" y=\"0\" width=\"2400\" height=\"1600\"/>\n",
       "  </clipPath>\n",
       "</defs>\n",
       "<path clip-path=\"url(#clip170)\" d=\"\n",
       "M0 1600 L2400 1600 L2400 0 L0 0  Z\n",
       "  \" fill=\"#ffffff\" fill-rule=\"evenodd\" fill-opacity=\"1\"/>\n",
       "<defs>\n",
       "  <clipPath id=\"clip171\">\n",
       "    <rect x=\"480\" y=\"0\" width=\"1681\" height=\"1600\"/>\n",
       "  </clipPath>\n",
       "</defs>\n",
       "<path clip-path=\"url(#clip170)\" d=\"\n",
       "M219.542 1423.18 L2352.76 1423.18 L2352.76 123.472 L219.542 123.472  Z\n",
       "  \" fill=\"#ffffff\" fill-rule=\"evenodd\" fill-opacity=\"1\"/>\n",
       "<defs>\n",
       "  <clipPath id=\"clip172\">\n",
       "    <rect x=\"219\" y=\"123\" width=\"2134\" height=\"1301\"/>\n",
       "  </clipPath>\n",
       "</defs>\n",
       "<polyline clip-path=\"url(#clip172)\" style=\"stroke:#000000; stroke-linecap:butt; stroke-linejoin:round; stroke-width:2; stroke-opacity:0.1; fill:none\" points=\"\n",
       "  703.593,1423.18 703.593,123.472 \n",
       "  \"/>\n",
       "<polyline clip-path=\"url(#clip172)\" style=\"stroke:#000000; stroke-linecap:butt; stroke-linejoin:round; stroke-width:2; stroke-opacity:0.1; fill:none\" points=\"\n",
       "  1233.19,1423.18 1233.19,123.472 \n",
       "  \"/>\n",
       "<polyline clip-path=\"url(#clip172)\" style=\"stroke:#000000; stroke-linecap:butt; stroke-linejoin:round; stroke-width:2; stroke-opacity:0.1; fill:none\" points=\"\n",
       "  1762.79,1423.18 1762.79,123.472 \n",
       "  \"/>\n",
       "<polyline clip-path=\"url(#clip172)\" style=\"stroke:#000000; stroke-linecap:butt; stroke-linejoin:round; stroke-width:2; stroke-opacity:0.1; fill:none\" points=\"\n",
       "  2292.38,1423.18 2292.38,123.472 \n",
       "  \"/>\n",
       "<polyline clip-path=\"url(#clip170)\" style=\"stroke:#000000; stroke-linecap:butt; stroke-linejoin:round; stroke-width:4; stroke-opacity:1; fill:none\" points=\"\n",
       "  219.542,1423.18 2352.76,1423.18 \n",
       "  \"/>\n",
       "<polyline clip-path=\"url(#clip170)\" style=\"stroke:#000000; stroke-linecap:butt; stroke-linejoin:round; stroke-width:4; stroke-opacity:1; fill:none\" points=\"\n",
       "  703.593,1423.18 703.593,1404.28 \n",
       "  \"/>\n",
       "<polyline clip-path=\"url(#clip170)\" style=\"stroke:#000000; stroke-linecap:butt; stroke-linejoin:round; stroke-width:4; stroke-opacity:1; fill:none\" points=\"\n",
       "  1233.19,1423.18 1233.19,1404.28 \n",
       "  \"/>\n",
       "<polyline clip-path=\"url(#clip170)\" style=\"stroke:#000000; stroke-linecap:butt; stroke-linejoin:round; stroke-width:4; stroke-opacity:1; fill:none\" points=\"\n",
       "  1762.79,1423.18 1762.79,1404.28 \n",
       "  \"/>\n",
       "<polyline clip-path=\"url(#clip170)\" style=\"stroke:#000000; stroke-linecap:butt; stroke-linejoin:round; stroke-width:4; stroke-opacity:1; fill:none\" points=\"\n",
       "  2292.38,1423.18 2292.38,1404.28 \n",
       "  \"/>\n",
       "<path clip-path=\"url(#clip170)\" d=\"M693.871 1451.02 L712.227 1451.02 L712.227 1454.96 L698.153 1454.96 L698.153 1463.43 Q699.172 1463.08 700.19 1462.92 Q701.209 1462.73 702.227 1462.73 Q708.014 1462.73 711.394 1465.9 Q714.774 1469.08 714.774 1474.49 Q714.774 1480.07 711.301 1483.17 Q707.829 1486.25 701.51 1486.25 Q699.334 1486.25 697.065 1485.88 Q694.82 1485.51 692.413 1484.77 L692.413 1480.07 Q694.496 1481.2 696.718 1481.76 Q698.94 1482.32 701.417 1482.32 Q705.422 1482.32 707.76 1480.21 Q710.098 1478.1 710.098 1474.49 Q710.098 1470.88 707.76 1468.77 Q705.422 1466.67 701.417 1466.67 Q699.542 1466.67 697.667 1467.08 Q695.815 1467.5 693.871 1468.38 L693.871 1451.02 Z\" fill=\"#000000\" fill-rule=\"evenodd\" fill-opacity=\"1\" /><path clip-path=\"url(#clip170)\" d=\"M1207.88 1481.64 L1215.52 1481.64 L1215.52 1455.28 L1207.21 1456.95 L1207.21 1452.69 L1215.47 1451.02 L1220.15 1451.02 L1220.15 1481.64 L1227.78 1481.64 L1227.78 1485.58 L1207.88 1485.58 L1207.88 1481.64 Z\" fill=\"#000000\" fill-rule=\"evenodd\" fill-opacity=\"1\" /><path clip-path=\"url(#clip170)\" d=\"M1247.23 1454.1 Q1243.62 1454.1 1241.79 1457.66 Q1239.98 1461.2 1239.98 1468.33 Q1239.98 1475.44 1241.79 1479.01 Q1243.62 1482.55 1247.23 1482.55 Q1250.86 1482.55 1252.67 1479.01 Q1254.5 1475.44 1254.5 1468.33 Q1254.5 1461.2 1252.67 1457.66 Q1250.86 1454.1 1247.23 1454.1 M1247.23 1450.39 Q1253.04 1450.39 1256.09 1455 Q1259.17 1459.58 1259.17 1468.33 Q1259.17 1477.06 1256.09 1481.67 Q1253.04 1486.25 1247.23 1486.25 Q1241.42 1486.25 1238.34 1481.67 Q1235.28 1477.06 1235.28 1468.33 Q1235.28 1459.58 1238.34 1455 Q1241.42 1450.39 1247.23 1450.39 Z\" fill=\"#000000\" fill-rule=\"evenodd\" fill-opacity=\"1\" /><path clip-path=\"url(#clip170)\" d=\"M1737.97 1481.64 L1745.61 1481.64 L1745.61 1455.28 L1737.3 1456.95 L1737.3 1452.69 L1745.56 1451.02 L1750.24 1451.02 L1750.24 1481.64 L1757.88 1481.64 L1757.88 1485.58 L1737.97 1485.58 L1737.97 1481.64 Z\" fill=\"#000000\" fill-rule=\"evenodd\" fill-opacity=\"1\" /><path clip-path=\"url(#clip170)\" d=\"M1767.37 1451.02 L1785.73 1451.02 L1785.73 1454.96 L1771.65 1454.96 L1771.65 1463.43 Q1772.67 1463.08 1773.69 1462.92 Q1774.71 1462.73 1775.73 1462.73 Q1781.51 1462.73 1784.89 1465.9 Q1788.27 1469.08 1788.27 1474.49 Q1788.27 1480.07 1784.8 1483.17 Q1781.33 1486.25 1775.01 1486.25 Q1772.83 1486.25 1770.56 1485.88 Q1768.32 1485.51 1765.91 1484.77 L1765.91 1480.07 Q1767.99 1481.2 1770.22 1481.76 Q1772.44 1482.32 1774.92 1482.32 Q1778.92 1482.32 1781.26 1480.21 Q1783.6 1478.1 1783.6 1474.49 Q1783.6 1470.88 1781.26 1468.77 Q1778.92 1466.67 1774.92 1466.67 Q1773.04 1466.67 1771.17 1467.08 Q1769.31 1467.5 1767.37 1468.38 L1767.37 1451.02 Z\" fill=\"#000000\" fill-rule=\"evenodd\" fill-opacity=\"1\" /><path clip-path=\"url(#clip170)\" d=\"M2271.16 1481.64 L2287.47 1481.64 L2287.47 1485.58 L2265.53 1485.58 L2265.53 1481.64 Q2268.19 1478.89 2272.78 1474.26 Q2277.38 1469.61 2278.56 1468.27 Q2280.81 1465.74 2281.69 1464.01 Q2282.59 1462.25 2282.59 1460.56 Q2282.59 1457.8 2280.65 1456.07 Q2278.72 1454.33 2275.62 1454.33 Q2273.42 1454.33 2270.97 1455.09 Q2268.54 1455.86 2265.76 1457.41 L2265.76 1452.69 Q2268.59 1451.55 2271.04 1450.97 Q2273.49 1450.39 2275.53 1450.39 Q2280.9 1450.39 2284.09 1453.08 Q2287.29 1455.77 2287.29 1460.26 Q2287.29 1462.39 2286.48 1464.31 Q2285.69 1466.2 2283.59 1468.8 Q2283.01 1469.47 2279.91 1472.69 Q2276.8 1475.88 2271.16 1481.64 Z\" fill=\"#000000\" fill-rule=\"evenodd\" fill-opacity=\"1\" /><path clip-path=\"url(#clip170)\" d=\"M2307.29 1454.1 Q2303.68 1454.1 2301.85 1457.66 Q2300.04 1461.2 2300.04 1468.33 Q2300.04 1475.44 2301.85 1479.01 Q2303.68 1482.55 2307.29 1482.55 Q2310.92 1482.55 2312.73 1479.01 Q2314.56 1475.44 2314.56 1468.33 Q2314.56 1461.2 2312.73 1457.66 Q2310.92 1454.1 2307.29 1454.1 M2307.29 1450.39 Q2313.1 1450.39 2316.15 1455 Q2319.23 1459.58 2319.23 1468.33 Q2319.23 1477.06 2316.15 1481.67 Q2313.1 1486.25 2307.29 1486.25 Q2301.48 1486.25 2298.4 1481.67 Q2295.34 1477.06 2295.34 1468.33 Q2295.34 1459.58 2298.4 1455 Q2301.48 1450.39 2307.29 1450.39 Z\" fill=\"#000000\" fill-rule=\"evenodd\" fill-opacity=\"1\" /><path clip-path=\"url(#clip170)\" d=\"M1285.21 1522.27 L1285.21 1532.4 L1297.27 1532.4 L1297.27 1536.95 L1285.21 1536.95 L1285.21 1556.3 Q1285.21 1560.66 1286.39 1561.9 Q1287.6 1563.14 1291.26 1563.14 L1297.27 1563.14 L1297.27 1568.04 L1291.26 1568.04 Q1284.48 1568.04 1281.9 1565.53 Q1279.32 1562.98 1279.32 1556.3 L1279.32 1536.95 L1275.02 1536.95 L1275.02 1532.4 L1279.32 1532.4 L1279.32 1522.27 L1285.21 1522.27 Z\" fill=\"#000000\" fill-rule=\"evenodd\" fill-opacity=\"1\" /><polyline clip-path=\"url(#clip172)\" style=\"stroke:#000000; stroke-linecap:butt; stroke-linejoin:round; stroke-width:2; stroke-opacity:0.1; fill:none\" points=\"\n",
       "  219.542,1423.18 2352.76,1423.18 \n",
       "  \"/>\n",
       "<polyline clip-path=\"url(#clip172)\" style=\"stroke:#000000; stroke-linecap:butt; stroke-linejoin:round; stroke-width:2; stroke-opacity:0.1; fill:none\" points=\"\n",
       "  219.542,1168.34 2352.76,1168.34 \n",
       "  \"/>\n",
       "<polyline clip-path=\"url(#clip172)\" style=\"stroke:#000000; stroke-linecap:butt; stroke-linejoin:round; stroke-width:2; stroke-opacity:0.1; fill:none\" points=\"\n",
       "  219.542,913.491 2352.76,913.491 \n",
       "  \"/>\n",
       "<polyline clip-path=\"url(#clip172)\" style=\"stroke:#000000; stroke-linecap:butt; stroke-linejoin:round; stroke-width:2; stroke-opacity:0.1; fill:none\" points=\"\n",
       "  219.542,658.646 2352.76,658.646 \n",
       "  \"/>\n",
       "<polyline clip-path=\"url(#clip172)\" style=\"stroke:#000000; stroke-linecap:butt; stroke-linejoin:round; stroke-width:2; stroke-opacity:0.1; fill:none\" points=\"\n",
       "  219.542,403.801 2352.76,403.801 \n",
       "  \"/>\n",
       "<polyline clip-path=\"url(#clip172)\" style=\"stroke:#000000; stroke-linecap:butt; stroke-linejoin:round; stroke-width:2; stroke-opacity:0.1; fill:none\" points=\"\n",
       "  219.542,148.957 2352.76,148.957 \n",
       "  \"/>\n",
       "<polyline clip-path=\"url(#clip170)\" style=\"stroke:#000000; stroke-linecap:butt; stroke-linejoin:round; stroke-width:4; stroke-opacity:1; fill:none\" points=\"\n",
       "  219.542,1423.18 219.542,123.472 \n",
       "  \"/>\n",
       "<polyline clip-path=\"url(#clip170)\" style=\"stroke:#000000; stroke-linecap:butt; stroke-linejoin:round; stroke-width:4; stroke-opacity:1; fill:none\" points=\"\n",
       "  219.542,1423.18 238.44,1423.18 \n",
       "  \"/>\n",
       "<polyline clip-path=\"url(#clip170)\" style=\"stroke:#000000; stroke-linecap:butt; stroke-linejoin:round; stroke-width:4; stroke-opacity:1; fill:none\" points=\"\n",
       "  219.542,1168.34 238.44,1168.34 \n",
       "  \"/>\n",
       "<polyline clip-path=\"url(#clip170)\" style=\"stroke:#000000; stroke-linecap:butt; stroke-linejoin:round; stroke-width:4; stroke-opacity:1; fill:none\" points=\"\n",
       "  219.542,913.491 238.44,913.491 \n",
       "  \"/>\n",
       "<polyline clip-path=\"url(#clip170)\" style=\"stroke:#000000; stroke-linecap:butt; stroke-linejoin:round; stroke-width:4; stroke-opacity:1; fill:none\" points=\"\n",
       "  219.542,658.646 238.44,658.646 \n",
       "  \"/>\n",
       "<polyline clip-path=\"url(#clip170)\" style=\"stroke:#000000; stroke-linecap:butt; stroke-linejoin:round; stroke-width:4; stroke-opacity:1; fill:none\" points=\"\n",
       "  219.542,403.801 238.44,403.801 \n",
       "  \"/>\n",
       "<polyline clip-path=\"url(#clip170)\" style=\"stroke:#000000; stroke-linecap:butt; stroke-linejoin:round; stroke-width:4; stroke-opacity:1; fill:none\" points=\"\n",
       "  219.542,148.957 238.44,148.957 \n",
       "  \"/>\n",
       "<path clip-path=\"url(#clip170)\" d=\"M127.362 1408.98 Q123.751 1408.98 121.922 1412.54 Q120.117 1416.08 120.117 1423.21 Q120.117 1430.32 121.922 1433.89 Q123.751 1437.43 127.362 1437.43 Q130.996 1437.43 132.802 1433.89 Q134.63 1430.32 134.63 1423.21 Q134.63 1416.08 132.802 1412.54 Q130.996 1408.98 127.362 1408.98 M127.362 1405.27 Q133.172 1405.27 136.228 1409.88 Q139.306 1414.46 139.306 1423.21 Q139.306 1431.94 136.228 1436.55 Q133.172 1441.13 127.362 1441.13 Q121.552 1441.13 118.473 1436.55 Q115.418 1431.94 115.418 1423.21 Q115.418 1414.46 118.473 1409.88 Q121.552 1405.27 127.362 1405.27 Z\" fill=\"#000000\" fill-rule=\"evenodd\" fill-opacity=\"1\" /><path clip-path=\"url(#clip170)\" d=\"M147.524 1434.58 L152.408 1434.58 L152.408 1440.46 L147.524 1440.46 L147.524 1434.58 Z\" fill=\"#000000\" fill-rule=\"evenodd\" fill-opacity=\"1\" /><path clip-path=\"url(#clip170)\" d=\"M162.64 1405.9 L180.996 1405.9 L180.996 1409.84 L166.922 1409.84 L166.922 1418.31 Q167.94 1417.96 168.959 1417.8 Q169.977 1417.61 170.996 1417.61 Q176.783 1417.61 180.163 1420.78 Q183.542 1423.96 183.542 1429.37 Q183.542 1434.95 180.07 1438.05 Q176.598 1441.13 170.278 1441.13 Q168.102 1441.13 165.834 1440.76 Q163.589 1440.39 161.181 1439.65 L161.181 1434.95 Q163.265 1436.08 165.487 1436.64 Q167.709 1437.2 170.186 1437.2 Q174.19 1437.2 176.528 1435.09 Q178.866 1432.98 178.866 1429.37 Q178.866 1425.76 176.528 1423.65 Q174.19 1421.55 170.186 1421.55 Q168.311 1421.55 166.436 1421.96 Q164.584 1422.38 162.64 1423.26 L162.64 1405.9 Z\" fill=\"#000000\" fill-rule=\"evenodd\" fill-opacity=\"1\" /><path clip-path=\"url(#clip170)\" d=\"M126.205 1154.13 Q122.593 1154.13 120.765 1157.7 Q118.959 1161.24 118.959 1168.37 Q118.959 1175.48 120.765 1179.04 Q122.593 1182.58 126.205 1182.58 Q129.839 1182.58 131.644 1179.04 Q133.473 1175.48 133.473 1168.37 Q133.473 1161.24 131.644 1157.7 Q129.839 1154.13 126.205 1154.13 M126.205 1150.43 Q132.015 1150.43 135.07 1155.04 Q138.149 1159.62 138.149 1168.37 Q138.149 1177.1 135.07 1181.7 Q132.015 1186.29 126.205 1186.29 Q120.394 1186.29 117.316 1181.7 Q114.26 1177.1 114.26 1168.37 Q114.26 1159.62 117.316 1155.04 Q120.394 1150.43 126.205 1150.43 Z\" fill=\"#000000\" fill-rule=\"evenodd\" fill-opacity=\"1\" /><path clip-path=\"url(#clip170)\" d=\"M146.366 1179.74 L151.251 1179.74 L151.251 1185.62 L146.366 1185.62 L146.366 1179.74 Z\" fill=\"#000000\" fill-rule=\"evenodd\" fill-opacity=\"1\" /><path clip-path=\"url(#clip170)\" d=\"M172.014 1166.47 Q168.866 1166.47 167.015 1168.62 Q165.186 1170.78 165.186 1174.53 Q165.186 1178.25 167.015 1180.43 Q168.866 1182.58 172.014 1182.58 Q175.163 1182.58 176.991 1180.43 Q178.843 1178.25 178.843 1174.53 Q178.843 1170.78 176.991 1168.62 Q175.163 1166.47 172.014 1166.47 M181.297 1151.82 L181.297 1156.08 Q179.538 1155.24 177.732 1154.81 Q175.95 1154.37 174.19 1154.37 Q169.561 1154.37 167.107 1157.49 Q164.677 1160.62 164.329 1166.93 Q165.695 1164.92 167.755 1163.86 Q169.815 1162.77 172.292 1162.77 Q177.501 1162.77 180.51 1165.94 Q183.542 1169.09 183.542 1174.53 Q183.542 1179.85 180.394 1183.07 Q177.246 1186.29 172.014 1186.29 Q166.019 1186.29 162.848 1181.7 Q159.677 1177.1 159.677 1168.37 Q159.677 1160.18 163.565 1155.31 Q167.454 1150.43 174.005 1150.43 Q175.764 1150.43 177.547 1150.78 Q179.352 1151.12 181.297 1151.82 Z\" fill=\"#000000\" fill-rule=\"evenodd\" fill-opacity=\"1\" /><path clip-path=\"url(#clip170)\" d=\"M127.269 899.289 Q123.658 899.289 121.83 902.854 Q120.024 906.396 120.024 913.525 Q120.024 920.632 121.83 924.197 Q123.658 927.738 127.269 927.738 Q130.904 927.738 132.709 924.197 Q134.538 920.632 134.538 913.525 Q134.538 906.396 132.709 902.854 Q130.904 899.289 127.269 899.289 M127.269 895.586 Q133.08 895.586 136.135 900.192 Q139.214 904.775 139.214 913.525 Q139.214 922.252 136.135 926.859 Q133.08 931.442 127.269 931.442 Q121.459 931.442 118.381 926.859 Q115.325 922.252 115.325 913.525 Q115.325 904.775 118.381 900.192 Q121.459 895.586 127.269 895.586 Z\" fill=\"#000000\" fill-rule=\"evenodd\" fill-opacity=\"1\" /><path clip-path=\"url(#clip170)\" d=\"M147.431 924.891 L152.316 924.891 L152.316 930.771 L147.431 930.771 L147.431 924.891 Z\" fill=\"#000000\" fill-rule=\"evenodd\" fill-opacity=\"1\" /><path clip-path=\"url(#clip170)\" d=\"M161.32 896.211 L183.542 896.211 L183.542 898.201 L170.996 930.771 L166.112 930.771 L177.917 900.146 L161.32 900.146 L161.32 896.211 Z\" fill=\"#000000\" fill-rule=\"evenodd\" fill-opacity=\"1\" /><path clip-path=\"url(#clip170)\" d=\"M126.459 644.445 Q122.848 644.445 121.019 648.009 Q119.214 651.551 119.214 658.681 Q119.214 665.787 121.019 669.352 Q122.848 672.894 126.459 672.894 Q130.093 672.894 131.899 669.352 Q133.728 665.787 133.728 658.681 Q133.728 651.551 131.899 648.009 Q130.093 644.445 126.459 644.445 M126.459 640.741 Q132.269 640.741 135.325 645.347 Q138.404 649.931 138.404 658.681 Q138.404 667.407 135.325 672.014 Q132.269 676.597 126.459 676.597 Q120.649 676.597 117.57 672.014 Q114.515 667.407 114.515 658.681 Q114.515 649.931 117.57 645.347 Q120.649 640.741 126.459 640.741 Z\" fill=\"#000000\" fill-rule=\"evenodd\" fill-opacity=\"1\" /><path clip-path=\"url(#clip170)\" d=\"M146.621 670.046 L151.505 670.046 L151.505 675.926 L146.621 675.926 L146.621 670.046 Z\" fill=\"#000000\" fill-rule=\"evenodd\" fill-opacity=\"1\" /><path clip-path=\"url(#clip170)\" d=\"M171.69 659.514 Q168.357 659.514 166.436 661.296 Q164.538 663.079 164.538 666.204 Q164.538 669.329 166.436 671.111 Q168.357 672.894 171.69 672.894 Q175.024 672.894 176.945 671.111 Q178.866 669.306 178.866 666.204 Q178.866 663.079 176.945 661.296 Q175.047 659.514 171.69 659.514 M167.015 657.523 Q164.005 656.782 162.315 654.722 Q160.649 652.662 160.649 649.699 Q160.649 645.556 163.589 643.148 Q166.552 640.741 171.69 640.741 Q176.852 640.741 179.792 643.148 Q182.732 645.556 182.732 649.699 Q182.732 652.662 181.042 654.722 Q179.376 656.782 176.389 657.523 Q179.769 658.31 181.644 660.602 Q183.542 662.894 183.542 666.204 Q183.542 671.227 180.464 673.912 Q177.408 676.597 171.69 676.597 Q165.973 676.597 162.894 673.912 Q159.839 671.227 159.839 666.204 Q159.839 662.894 161.737 660.602 Q163.635 658.31 167.015 657.523 M165.302 650.139 Q165.302 652.824 166.968 654.329 Q168.658 655.833 171.69 655.833 Q174.7 655.833 176.389 654.329 Q178.102 652.824 178.102 650.139 Q178.102 647.454 176.389 645.949 Q174.7 644.445 171.69 644.445 Q168.658 644.445 166.968 645.949 Q165.302 647.454 165.302 650.139 Z\" fill=\"#000000\" fill-rule=\"evenodd\" fill-opacity=\"1\" /><path clip-path=\"url(#clip170)\" d=\"M126.552 389.6 Q122.941 389.6 121.112 393.165 Q119.306 396.706 119.306 403.836 Q119.306 410.942 121.112 414.507 Q122.941 418.049 126.552 418.049 Q130.186 418.049 131.992 414.507 Q133.82 410.942 133.82 403.836 Q133.82 396.706 131.992 393.165 Q130.186 389.6 126.552 389.6 M126.552 385.896 Q132.362 385.896 135.417 390.503 Q138.496 395.086 138.496 403.836 Q138.496 412.563 135.417 417.169 Q132.362 421.753 126.552 421.753 Q120.742 421.753 117.663 417.169 Q114.607 412.563 114.607 403.836 Q114.607 395.086 117.663 390.503 Q120.742 385.896 126.552 385.896 Z\" fill=\"#000000\" fill-rule=\"evenodd\" fill-opacity=\"1\" /><path clip-path=\"url(#clip170)\" d=\"M146.714 415.202 L151.598 415.202 L151.598 421.081 L146.714 421.081 L146.714 415.202 Z\" fill=\"#000000\" fill-rule=\"evenodd\" fill-opacity=\"1\" /><path clip-path=\"url(#clip170)\" d=\"M161.922 420.364 L161.922 416.104 Q163.681 416.938 165.487 417.378 Q167.292 417.817 169.028 417.817 Q173.658 417.817 176.089 414.716 Q178.542 411.591 178.889 405.248 Q177.547 407.239 175.487 408.304 Q173.427 409.368 170.927 409.368 Q165.741 409.368 162.709 406.243 Q159.7 403.095 159.7 397.655 Q159.7 392.331 162.848 389.114 Q165.996 385.896 171.227 385.896 Q177.223 385.896 180.371 390.503 Q183.542 395.086 183.542 403.836 Q183.542 412.007 179.653 416.891 Q175.788 421.753 169.237 421.753 Q167.477 421.753 165.672 421.405 Q163.866 421.058 161.922 420.364 M171.227 405.711 Q174.376 405.711 176.204 403.558 Q178.056 401.405 178.056 397.655 Q178.056 393.929 176.204 391.776 Q174.376 389.6 171.227 389.6 Q168.079 389.6 166.227 391.776 Q164.399 393.929 164.399 397.655 Q164.399 401.405 166.227 403.558 Q168.079 405.711 171.227 405.711 Z\" fill=\"#000000\" fill-rule=\"evenodd\" fill-opacity=\"1\" /><path clip-path=\"url(#clip170)\" d=\"M117.177 162.301 L124.816 162.301 L124.816 135.936 L116.506 137.602 L116.506 133.343 L124.769 131.677 L129.445 131.677 L129.445 162.301 L137.084 162.301 L137.084 166.237 L117.177 166.237 L117.177 162.301 Z\" fill=\"#000000\" fill-rule=\"evenodd\" fill-opacity=\"1\" /><path clip-path=\"url(#clip170)\" d=\"M146.529 160.357 L151.413 160.357 L151.413 166.237 L146.529 166.237 L146.529 160.357 Z\" fill=\"#000000\" fill-rule=\"evenodd\" fill-opacity=\"1\" /><path clip-path=\"url(#clip170)\" d=\"M171.598 134.755 Q167.987 134.755 166.158 138.32 Q164.352 141.862 164.352 148.991 Q164.352 156.098 166.158 159.663 Q167.987 163.204 171.598 163.204 Q175.232 163.204 177.038 159.663 Q178.866 156.098 178.866 148.991 Q178.866 141.862 177.038 138.32 Q175.232 134.755 171.598 134.755 M171.598 131.052 Q177.408 131.052 180.464 135.658 Q183.542 140.241 183.542 148.991 Q183.542 157.718 180.464 162.325 Q177.408 166.908 171.598 166.908 Q165.788 166.908 162.709 162.325 Q159.653 157.718 159.653 148.991 Q159.653 140.241 162.709 135.658 Q165.788 131.052 171.598 131.052 Z\" fill=\"#000000\" fill-rule=\"evenodd\" fill-opacity=\"1\" /><path clip-path=\"url(#clip170)\" d=\"M22.818 866.743 L46.4666 875.464 L46.4666 857.99 L22.818 866.743 M16.4842 870.371 L16.4842 863.082 L64.0042 844.972 L64.0042 851.656 L51.8138 855.985 L51.8138 877.405 L64.0042 881.734 L64.0042 888.513 L16.4842 870.371 Z\" fill=\"#000000\" fill-rule=\"evenodd\" fill-opacity=\"1\" /><path clip-path=\"url(#clip170)\" d=\"M16.4842 838.765 L16.4842 832.304 L45.3526 832.304 Q52.9915 832.304 56.3653 829.535 Q59.7073 826.766 59.7073 820.56 Q59.7073 814.385 56.3653 811.616 Q52.9915 808.847 45.3526 808.847 L16.4842 808.847 L16.4842 802.385 L46.1484 802.385 Q55.4423 802.385 60.1847 807.001 Q64.9272 811.584 64.9272 820.56 Q64.9272 829.567 60.1847 834.182 Q55.4423 838.765 46.1484 838.765 L16.4842 838.765 Z\" fill=\"#000000\" fill-rule=\"evenodd\" fill-opacity=\"1\" /><path clip-path=\"url(#clip170)\" d=\"M41.7242 767.788 Q42.4244 765.719 44.7161 763.777 Q47.0077 761.804 51.0181 759.831 L64.0042 753.306 L64.0042 760.213 L51.8138 766.292 Q47.0395 768.647 45.48 770.875 Q43.9204 773.071 43.9204 776.891 L43.9204 783.893 L64.0042 783.893 L64.0042 790.322 L16.4842 790.322 L16.4842 775.809 Q16.4842 767.661 19.8898 763.65 Q23.2955 759.64 30.1704 759.64 Q34.6582 759.64 37.6183 761.74 Q40.5784 763.809 41.7242 767.788 M21.7677 783.893 L38.6368 783.893 L38.6368 775.809 Q38.6368 771.162 36.5043 768.806 Q34.34 766.419 30.1704 766.419 Q26.0009 766.419 23.9002 768.806 Q21.7677 771.162 21.7677 775.809 L21.7677 783.893 Z\" fill=\"#000000\" fill-rule=\"evenodd\" fill-opacity=\"1\" /><path clip-path=\"url(#clip170)\" d=\"M20.8447 725.742 Q20.8447 732.745 26.0645 736.882 Q31.2844 740.988 40.2919 740.988 Q49.2675 740.988 54.4874 736.882 Q59.7073 732.745 59.7073 725.742 Q59.7073 718.74 54.4874 714.666 Q49.2675 710.56 40.2919 710.56 Q31.2844 710.56 26.0645 714.666 Q20.8447 718.74 20.8447 725.742 M15.6248 725.742 Q15.6248 715.748 22.3406 709.764 Q29.0246 703.781 40.2919 703.781 Q51.5274 703.781 58.2432 709.764 Q64.9272 715.748 64.9272 725.742 Q64.9272 735.768 58.2432 741.784 Q51.5592 747.768 40.2919 747.768 Q29.0246 747.768 22.3406 741.784 Q15.6248 735.768 15.6248 725.742 Z\" fill=\"#000000\" fill-rule=\"evenodd\" fill-opacity=\"1\" /><path clip-path=\"url(#clip170)\" d=\"M20.1444 658.139 L26.9239 658.139 Q23.9002 661.385 22.4043 665.077 Q20.9083 668.737 20.9083 672.875 Q20.9083 681.023 25.9054 685.352 Q30.8707 689.681 40.2919 689.681 Q49.6813 689.681 54.6784 685.352 Q59.6436 681.023 59.6436 672.875 Q59.6436 668.737 58.1477 665.077 Q56.6518 661.385 53.6281 658.139 L60.3439 658.139 Q62.6355 661.512 63.7814 665.3 Q64.9272 669.056 64.9272 673.257 Q64.9272 684.047 58.3387 690.254 Q51.7183 696.46 40.2919 696.46 Q28.8336 696.46 22.2451 690.254 Q15.6248 684.047 15.6248 673.257 Q15.6248 668.992 16.7706 665.236 Q17.8846 661.449 20.1444 658.139 Z\" fill=\"#000000\" fill-rule=\"evenodd\" fill-opacity=\"1\" /><path clip-path=\"url(#clip170)\" d=\"M446.559 16.7545 L446.559 25.383 Q442.427 21.5346 437.728 19.6307 Q433.069 17.7268 427.803 17.7268 Q417.433 17.7268 411.923 24.0867 Q406.414 30.4061 406.414 42.3968 Q406.414 54.3469 411.923 60.7069 Q417.433 67.0263 427.803 67.0263 Q433.069 67.0263 437.728 65.1223 Q442.427 63.2184 446.559 59.3701 L446.559 67.9175 Q442.265 70.8341 437.444 72.2924 Q432.664 73.7508 427.317 73.7508 Q413.584 73.7508 405.685 65.3654 Q397.786 56.9395 397.786 42.3968 Q397.786 27.8135 405.685 19.4281 Q413.584 11.0023 427.317 11.0023 Q432.745 11.0023 437.525 12.4606 Q442.346 13.8784 446.559 16.7545 Z\" fill=\"#000000\" fill-rule=\"evenodd\" fill-opacity=\"1\" /><path clip-path=\"url(#clip170)\" d=\"M479.492 49.7694 Q470.459 49.7694 466.975 51.8354 Q463.491 53.9013 463.491 58.8839 Q463.491 62.8538 466.084 65.2034 Q468.717 67.5124 473.214 67.5124 Q479.411 67.5124 483.138 63.1374 Q486.906 58.7219 486.906 51.4303 L486.906 49.7694 L479.492 49.7694 M494.359 46.6907 L494.359 72.576 L486.906 72.576 L486.906 65.6895 Q484.354 69.8214 480.546 71.8063 Q476.738 73.7508 471.229 73.7508 Q464.261 73.7508 460.129 69.8619 Q456.038 65.9325 456.038 59.3701 Q456.038 51.7138 461.142 47.825 Q466.287 43.9361 476.454 43.9361 L486.906 43.9361 L486.906 43.2069 Q486.906 38.0623 483.503 35.2672 Q480.141 32.4315 474.024 32.4315 Q470.135 32.4315 466.449 33.3632 Q462.762 34.295 459.359 36.1584 L459.359 29.2718 Q463.451 27.692 467.299 26.9223 Q471.148 26.1121 474.793 26.1121 Q484.637 26.1121 489.498 31.2163 Q494.359 36.3204 494.359 46.6907 Z\" fill=\"#000000\" fill-rule=\"evenodd\" fill-opacity=\"1\" /><path clip-path=\"url(#clip170)\" d=\"M508.943 54.671 L508.943 27.2059 L516.396 27.2059 L516.396 54.3874 Q516.396 60.8284 518.908 64.0691 Q521.419 67.2693 526.442 67.2693 Q532.478 67.2693 535.962 63.421 Q539.486 59.5726 539.486 52.9291 L539.486 27.2059 L546.94 27.2059 L546.94 72.576 L539.486 72.576 L539.486 65.6084 Q536.772 69.7404 533.167 71.7658 Q529.602 73.7508 524.863 73.7508 Q517.044 73.7508 512.993 68.8897 Q508.943 64.0286 508.943 54.671 M527.698 26.1121 L527.698 26.1121 Z\" fill=\"#000000\" fill-rule=\"evenodd\" fill-opacity=\"1\" /><path clip-path=\"url(#clip170)\" d=\"M591.216 28.5427 L591.216 35.5912 Q588.057 33.9709 584.654 33.1607 Q581.251 32.3505 577.605 32.3505 Q572.056 32.3505 569.261 34.0519 Q566.506 35.7533 566.506 39.156 Q566.506 41.7486 568.491 43.2475 Q570.476 44.7058 576.471 46.0426 L579.023 46.6097 Q586.963 48.3111 590.285 51.4303 Q593.647 54.509 593.647 60.0587 Q593.647 66.3781 588.624 70.0644 Q583.641 73.7508 574.891 73.7508 Q571.245 73.7508 567.276 73.0216 Q563.346 72.3329 558.971 70.9151 L558.971 63.2184 Q563.103 65.3654 567.114 66.4591 Q571.124 67.5124 575.053 67.5124 Q580.319 67.5124 583.155 65.73 Q585.991 63.9071 585.991 60.6258 Q585.991 57.5877 583.925 55.9673 Q581.899 54.3469 574.972 52.8481 L572.38 52.2405 Q565.453 50.7821 562.374 47.7845 Q559.295 44.7463 559.295 39.4801 Q559.295 33.0797 563.832 29.5959 Q568.369 26.1121 576.714 26.1121 Q580.846 26.1121 584.492 26.7198 Q588.138 27.3274 591.216 28.5427 Z\" fill=\"#000000\" fill-rule=\"evenodd\" fill-opacity=\"1\" /><path clip-path=\"url(#clip170)\" d=\"M626.135 49.7694 Q617.102 49.7694 613.618 51.8354 Q610.134 53.9013 610.134 58.8839 Q610.134 62.8538 612.727 65.2034 Q615.36 67.5124 619.856 67.5124 Q626.054 67.5124 629.781 63.1374 Q633.548 58.7219 633.548 51.4303 L633.548 49.7694 L626.135 49.7694 M641.002 46.6907 L641.002 72.576 L633.548 72.576 L633.548 65.6895 Q630.996 69.8214 627.188 71.8063 Q623.381 73.7508 617.871 73.7508 Q610.904 73.7508 606.772 69.8619 Q602.68 65.9325 602.68 59.3701 Q602.68 51.7138 607.785 47.825 Q612.929 43.9361 623.097 43.9361 L633.548 43.9361 L633.548 43.2069 Q633.548 38.0623 630.146 35.2672 Q626.783 32.4315 620.667 32.4315 Q616.778 32.4315 613.091 33.3632 Q609.405 34.295 606.002 36.1584 L606.002 29.2718 Q610.094 27.692 613.942 26.9223 Q617.79 26.1121 621.436 26.1121 Q631.28 26.1121 636.141 31.2163 Q641.002 36.3204 641.002 46.6907 Z\" fill=\"#000000\" fill-rule=\"evenodd\" fill-opacity=\"1\" /><path clip-path=\"url(#clip170)\" d=\"M656.355 9.54393 L663.809 9.54393 L663.809 72.576 L656.355 72.576 L656.355 9.54393 Z\" fill=\"#000000\" fill-rule=\"evenodd\" fill-opacity=\"1\" /><path clip-path=\"url(#clip170)\" d=\"M679.405 27.2059 L686.858 27.2059 L686.858 72.576 L679.405 72.576 L679.405 27.2059 M679.405 9.54393 L686.858 9.54393 L686.858 18.9825 L679.405 18.9825 L679.405 9.54393 Z\" fill=\"#000000\" fill-rule=\"evenodd\" fill-opacity=\"1\" /><path clip-path=\"url(#clip170)\" d=\"M709.827 14.324 L709.827 27.2059 L725.18 27.2059 L725.18 32.9987 L709.827 32.9987 L709.827 57.6282 Q709.827 63.1779 711.326 64.7578 Q712.865 66.3376 717.524 66.3376 L725.18 66.3376 L725.18 72.576 L717.524 72.576 Q708.895 72.576 705.614 69.3758 Q702.333 66.1351 702.333 57.6282 L702.333 32.9987 L696.864 32.9987 L696.864 27.2059 L702.333 27.2059 L702.333 14.324 L709.827 14.324 Z\" fill=\"#000000\" fill-rule=\"evenodd\" fill-opacity=\"1\" /><path clip-path=\"url(#clip170)\" d=\"M753.86 76.7889 Q750.701 84.8907 747.703 87.3618 Q744.705 89.8329 739.682 89.8329 L733.727 89.8329 L733.727 83.5945 L738.102 83.5945 Q741.181 83.5945 742.882 82.1361 Q744.584 80.6778 746.65 75.2496 L747.986 71.8468 L729.636 27.2059 L737.535 27.2059 L751.713 62.6918 L765.891 27.2059 L773.791 27.2059 L753.86 76.7889 Z\" fill=\"#000000\" fill-rule=\"evenodd\" fill-opacity=\"1\" /><path clip-path=\"url(#clip170)\" d=\"M826.371 72.576 L803.281 12.096 L811.829 12.096 L830.989 63.0159 L850.191 12.096 L858.698 12.096 L835.648 72.576 L826.371 72.576 Z\" fill=\"#000000\" fill-rule=\"evenodd\" fill-opacity=\"1\" /><path clip-path=\"url(#clip170)\" d=\"M903.784 14.0809 L903.784 22.0612 Q899.126 19.8332 894.994 18.7395 Q890.862 17.6457 887.013 17.6457 Q880.329 17.6457 876.684 20.2383 Q873.078 22.8309 873.078 27.611 Q873.078 31.6214 875.468 33.6873 Q877.899 35.7128 884.623 36.9686 L889.566 37.9813 Q898.721 39.7232 903.055 44.1387 Q907.43 48.5136 907.43 55.8863 Q907.43 64.6767 901.516 69.2137 Q895.642 73.7508 884.259 73.7508 Q879.965 73.7508 875.104 72.7785 Q870.283 71.8063 865.098 69.9024 L865.098 61.4765 Q870.081 64.2716 874.861 65.6895 Q879.641 67.1073 884.259 67.1073 Q891.267 67.1073 895.075 64.3527 Q898.883 61.598 898.883 56.4939 Q898.883 52.0379 896.128 49.5264 Q893.414 47.0148 887.175 45.759 L882.193 44.7868 Q873.038 42.9639 868.946 39.075 Q864.855 35.1862 864.855 28.2591 Q864.855 20.2383 870.486 15.6203 Q876.157 11.0023 886.082 11.0023 Q890.335 11.0023 894.751 11.7719 Q899.166 12.5416 903.784 14.0809 Z\" fill=\"#000000\" fill-rule=\"evenodd\" fill-opacity=\"1\" /><path clip-path=\"url(#clip170)\" d=\"M982.817 14.0809 L982.817 22.0612 Q978.159 19.8332 974.027 18.7395 Q969.895 17.6457 966.047 17.6457 Q959.363 17.6457 955.717 20.2383 Q952.111 22.8309 952.111 27.611 Q952.111 31.6214 954.502 33.6873 Q956.932 35.7128 963.657 36.9686 L968.599 37.9813 Q977.754 39.7232 982.088 44.1387 Q986.463 48.5136 986.463 55.8863 Q986.463 64.6767 980.549 69.2137 Q974.675 73.7508 963.292 73.7508 Q958.998 73.7508 954.137 72.7785 Q949.316 71.8063 944.131 69.9024 L944.131 61.4765 Q949.114 64.2716 953.894 65.6895 Q958.674 67.1073 963.292 67.1073 Q970.3 67.1073 974.108 64.3527 Q977.916 61.598 977.916 56.4939 Q977.916 52.0379 975.161 49.5264 Q972.447 47.0148 966.209 45.759 L961.226 44.7868 Q952.071 42.9639 947.98 39.075 Q943.888 35.1862 943.888 28.2591 Q943.888 20.2383 949.519 15.6203 Q955.19 11.0023 965.115 11.0023 Q969.368 11.0023 973.784 11.7719 Q978.199 12.5416 982.817 14.0809 Z\" fill=\"#000000\" fill-rule=\"evenodd\" fill-opacity=\"1\" /><path clip-path=\"url(#clip170)\" d=\"M998.899 27.2059 L1006.35 27.2059 L1006.35 72.576 L998.899 72.576 L998.899 27.2059 M998.899 9.54393 L1006.35 9.54393 L1006.35 18.9825 L998.899 18.9825 L998.899 9.54393 Z\" fill=\"#000000\" fill-rule=\"evenodd\" fill-opacity=\"1\" /><path clip-path=\"url(#clip170)\" d=\"M1054.52 49.9314 Q1054.52 41.7081 1051.12 37.0496 Q1047.75 32.3505 1041.84 32.3505 Q1035.92 32.3505 1032.52 37.0496 Q1029.16 41.7081 1029.16 49.9314 Q1029.16 58.1548 1032.52 62.8538 Q1035.92 67.5124 1041.84 67.5124 Q1047.75 67.5124 1051.12 62.8538 Q1054.52 58.1548 1054.52 49.9314 M1029.16 34.0924 Q1031.51 30.0415 1035.07 28.0971 Q1038.68 26.1121 1043.66 26.1121 Q1051.93 26.1121 1057.07 32.6746 Q1062.26 39.2371 1062.26 49.9314 Q1062.26 60.6258 1057.07 67.1883 Q1051.93 73.7508 1043.66 73.7508 Q1038.68 73.7508 1035.07 71.8063 Q1031.51 69.8214 1029.16 65.7705 L1029.16 72.576 L1021.67 72.576 L1021.67 9.54393 L1029.16 9.54393 L1029.16 34.0924 Z\" fill=\"#000000\" fill-rule=\"evenodd\" fill-opacity=\"1\" /><path clip-path=\"url(#clip170)\" d=\"M1121.52 20.1573 L1110.42 50.2555 L1132.66 50.2555 L1121.52 20.1573 M1116.9 12.096 L1126.18 12.096 L1149.23 72.576 L1140.72 72.576 L1135.21 57.061 L1107.95 57.061 L1102.44 72.576 L1093.81 72.576 L1116.9 12.096 Z\" fill=\"#000000\" fill-rule=\"evenodd\" fill-opacity=\"1\" /><path clip-path=\"url(#clip170)\" d=\"M1157.13 12.096 L1165.35 12.096 L1165.35 48.8377 Q1165.35 58.5599 1168.88 62.8538 Q1172.4 67.1073 1180.3 67.1073 Q1188.16 67.1073 1191.68 62.8538 Q1195.21 58.5599 1195.21 48.8377 L1195.21 12.096 L1203.43 12.096 L1203.43 49.8504 Q1203.43 61.6791 1197.56 67.7149 Q1191.72 73.7508 1180.3 73.7508 Q1168.83 73.7508 1162.96 67.7149 Q1157.13 61.6791 1157.13 49.8504 L1157.13 12.096 Z\" fill=\"#000000\" fill-rule=\"evenodd\" fill-opacity=\"1\" /><path clip-path=\"url(#clip170)\" d=\"M1247.46 44.2197 Q1250.1 45.1109 1252.57 48.0275 Q1255.08 50.9442 1257.59 56.0483 L1265.89 72.576 L1257.1 72.576 L1249.37 57.061 Q1246.37 50.9847 1243.53 48.9997 Q1240.74 47.0148 1235.88 47.0148 L1226.97 47.0148 L1226.97 72.576 L1218.78 72.576 L1218.78 12.096 L1237.25 12.096 Q1247.62 12.096 1252.73 16.4305 Q1257.83 20.7649 1257.83 29.5149 Q1257.83 35.2267 1255.16 38.994 Q1252.53 42.7613 1247.46 44.2197 M1226.97 18.8205 L1226.97 40.2903 L1237.25 40.2903 Q1243.17 40.2903 1246.17 37.5762 Q1249.2 34.8216 1249.2 29.5149 Q1249.2 24.2082 1246.17 21.5346 Q1243.17 18.8205 1237.25 18.8205 L1226.97 18.8205 Z\" fill=\"#000000\" fill-rule=\"evenodd\" fill-opacity=\"1\" /><path clip-path=\"url(#clip170)\" d=\"M1300.98 17.6457 Q1292.06 17.6457 1286.8 24.2892 Q1281.57 30.9327 1281.57 42.3968 Q1281.57 53.8203 1286.8 60.4638 Q1292.06 67.1073 1300.98 67.1073 Q1309.89 67.1073 1315.07 60.4638 Q1320.3 53.8203 1320.3 42.3968 Q1320.3 30.9327 1315.07 24.2892 Q1309.89 17.6457 1300.98 17.6457 M1300.98 11.0023 Q1313.7 11.0023 1321.31 19.5497 Q1328.93 28.0566 1328.93 42.3968 Q1328.93 56.6965 1321.31 65.2439 Q1313.7 73.7508 1300.98 73.7508 Q1288.22 73.7508 1280.56 65.2439 Q1272.94 56.737 1272.94 42.3968 Q1272.94 28.0566 1280.56 19.5497 Q1288.22 11.0023 1300.98 11.0023 Z\" fill=\"#000000\" fill-rule=\"evenodd\" fill-opacity=\"1\" /><path clip-path=\"url(#clip170)\" d=\"M1387.02 16.7545 L1387.02 25.383 Q1382.88 21.5346 1378.19 19.6307 Q1373.53 17.7268 1368.26 17.7268 Q1357.89 17.7268 1352.38 24.0867 Q1346.87 30.4061 1346.87 42.3968 Q1346.87 54.3469 1352.38 60.7069 Q1357.89 67.0263 1368.26 67.0263 Q1373.53 67.0263 1378.19 65.1223 Q1382.88 63.2184 1387.02 59.3701 L1387.02 67.9175 Q1382.72 70.8341 1377.9 72.2924 Q1373.12 73.7508 1367.77 73.7508 Q1354.04 73.7508 1346.14 65.3654 Q1338.24 56.9395 1338.24 42.3968 Q1338.24 27.8135 1346.14 19.4281 Q1354.04 11.0023 1367.77 11.0023 Q1373.2 11.0023 1377.98 12.4606 Q1382.8 13.8784 1387.02 16.7545 Z\" fill=\"#000000\" fill-rule=\"evenodd\" fill-opacity=\"1\" /><path clip-path=\"url(#clip170)\" d=\"M1425.7 27.2059 L1433.16 27.2059 L1433.16 72.576 L1425.7 72.576 L1425.7 27.2059 M1425.7 9.54393 L1433.16 9.54393 L1433.16 18.9825 L1425.7 18.9825 L1425.7 9.54393 Z\" fill=\"#000000\" fill-rule=\"evenodd\" fill-opacity=\"1\" /><path clip-path=\"url(#clip170)\" d=\"M1486.47 45.1919 L1486.47 72.576 L1479.01 72.576 L1479.01 45.4349 Q1479.01 38.994 1476.5 35.7938 Q1473.99 32.5936 1468.97 32.5936 Q1462.93 32.5936 1459.45 36.4419 Q1455.96 40.2903 1455.96 46.9338 L1455.96 72.576 L1448.47 72.576 L1448.47 27.2059 L1455.96 27.2059 L1455.96 34.2544 Q1458.64 30.163 1462.24 28.1376 Q1465.89 26.1121 1470.63 26.1121 Q1478.45 26.1121 1482.46 30.9732 Q1486.47 35.7938 1486.47 45.1919 Z\" fill=\"#000000\" fill-rule=\"evenodd\" fill-opacity=\"1\" /><path clip-path=\"url(#clip170)\" d=\"M1550.67 9.54393 L1550.67 15.7418 L1543.54 15.7418 Q1539.53 15.7418 1537.95 17.3622 Q1536.41 18.9825 1536.41 23.1955 L1536.41 27.2059 L1548.69 27.2059 L1548.69 32.9987 L1536.41 32.9987 L1536.41 72.576 L1528.92 72.576 L1528.92 32.9987 L1521.79 32.9987 L1521.79 27.2059 L1528.92 27.2059 L1528.92 24.0462 Q1528.92 16.471 1532.44 13.0277 Q1535.97 9.54393 1543.62 9.54393 L1550.67 9.54393 Z\" fill=\"#000000\" fill-rule=\"evenodd\" fill-opacity=\"1\" /><path clip-path=\"url(#clip170)\" d=\"M1556.14 54.671 L1556.14 27.2059 L1563.6 27.2059 L1563.6 54.3874 Q1563.6 60.8284 1566.11 64.0691 Q1568.62 67.2693 1573.64 67.2693 Q1579.68 67.2693 1583.16 63.421 Q1586.69 59.5726 1586.69 52.9291 L1586.69 27.2059 L1594.14 27.2059 L1594.14 72.576 L1586.69 72.576 L1586.69 65.6084 Q1583.97 69.7404 1580.37 71.7658 Q1576.8 73.7508 1572.06 73.7508 Q1564.24 73.7508 1560.19 68.8897 Q1556.14 64.0286 1556.14 54.671 M1574.9 26.1121 L1574.9 26.1121 Z\" fill=\"#000000\" fill-rule=\"evenodd\" fill-opacity=\"1\" /><path clip-path=\"url(#clip170)\" d=\"M1647.21 45.1919 L1647.21 72.576 L1639.75 72.576 L1639.75 45.4349 Q1639.75 38.994 1637.24 35.7938 Q1634.73 32.5936 1629.71 32.5936 Q1623.67 32.5936 1620.19 36.4419 Q1616.7 40.2903 1616.7 46.9338 L1616.7 72.576 L1609.21 72.576 L1609.21 27.2059 L1616.7 27.2059 L1616.7 34.2544 Q1619.38 30.163 1622.98 28.1376 Q1626.63 26.1121 1631.37 26.1121 Q1639.19 26.1121 1643.2 30.9732 Q1647.21 35.7938 1647.21 45.1919 Z\" fill=\"#000000\" fill-rule=\"evenodd\" fill-opacity=\"1\" /><path clip-path=\"url(#clip170)\" d=\"M1694.72 28.9478 L1694.72 35.9153 Q1691.56 34.1734 1688.36 33.3227 Q1685.2 32.4315 1681.96 32.4315 Q1674.71 32.4315 1670.7 37.0496 Q1666.69 41.6271 1666.69 49.9314 Q1666.69 58.2358 1670.7 62.8538 Q1674.71 67.4314 1681.96 67.4314 Q1685.2 67.4314 1688.36 66.5807 Q1691.56 65.6895 1694.72 63.9476 L1694.72 70.8341 Q1691.6 72.2924 1688.24 73.0216 Q1684.92 73.7508 1681.15 73.7508 Q1670.9 73.7508 1664.87 67.3098 Q1658.83 60.8689 1658.83 49.9314 Q1658.83 38.832 1664.91 32.472 Q1671.03 26.1121 1681.64 26.1121 Q1685.08 26.1121 1688.36 26.8413 Q1691.64 27.5299 1694.72 28.9478 Z\" fill=\"#000000\" fill-rule=\"evenodd\" fill-opacity=\"1\" /><path clip-path=\"url(#clip170)\" d=\"M1715.06 14.324 L1715.06 27.2059 L1730.41 27.2059 L1730.41 32.9987 L1715.06 32.9987 L1715.06 57.6282 Q1715.06 63.1779 1716.56 64.7578 Q1718.1 66.3376 1722.76 66.3376 L1730.41 66.3376 L1730.41 72.576 L1722.76 72.576 Q1714.13 72.576 1710.85 69.3758 Q1707.56 66.1351 1707.56 57.6282 L1707.56 32.9987 L1702.1 32.9987 L1702.1 27.2059 L1707.56 27.2059 L1707.56 14.324 L1715.06 14.324 Z\" fill=\"#000000\" fill-rule=\"evenodd\" fill-opacity=\"1\" /><path clip-path=\"url(#clip170)\" d=\"M1740.21 27.2059 L1747.67 27.2059 L1747.67 72.576 L1740.21 72.576 L1740.21 27.2059 M1740.21 9.54393 L1747.67 9.54393 L1747.67 18.9825 L1740.21 18.9825 L1740.21 9.54393 Z\" fill=\"#000000\" fill-rule=\"evenodd\" fill-opacity=\"1\" /><path clip-path=\"url(#clip170)\" d=\"M1780.85 32.4315 Q1774.85 32.4315 1771.37 37.1306 Q1767.88 41.7891 1767.88 49.9314 Q1767.88 58.0738 1771.33 62.7728 Q1774.81 67.4314 1780.85 67.4314 Q1786.8 67.4314 1790.28 62.7323 Q1793.77 58.0333 1793.77 49.9314 Q1793.77 41.8701 1790.28 37.1711 Q1786.8 32.4315 1780.85 32.4315 M1780.85 26.1121 Q1790.57 26.1121 1796.12 32.4315 Q1801.67 38.7509 1801.67 49.9314 Q1801.67 61.0714 1796.12 67.4314 Q1790.57 73.7508 1780.85 73.7508 Q1771.08 73.7508 1765.53 67.4314 Q1760.02 61.0714 1760.02 49.9314 Q1760.02 38.7509 1765.53 32.4315 Q1771.08 26.1121 1780.85 26.1121 Z\" fill=\"#000000\" fill-rule=\"evenodd\" fill-opacity=\"1\" /><path clip-path=\"url(#clip170)\" d=\"M1851.74 45.1919 L1851.74 72.576 L1844.28 72.576 L1844.28 45.4349 Q1844.28 38.994 1841.77 35.7938 Q1839.26 32.5936 1834.24 32.5936 Q1828.2 32.5936 1824.72 36.4419 Q1821.23 40.2903 1821.23 46.9338 L1821.23 72.576 L1813.74 72.576 L1813.74 27.2059 L1821.23 27.2059 L1821.23 34.2544 Q1823.91 30.163 1827.51 28.1376 Q1831.16 26.1121 1835.9 26.1121 Q1843.72 26.1121 1847.73 30.9732 Q1851.74 35.7938 1851.74 45.1919 Z\" fill=\"#000000\" fill-rule=\"evenodd\" fill-opacity=\"1\" /><path clip-path=\"url(#clip170)\" d=\"M1910.56 32.4315 Q1904.56 32.4315 1901.08 37.1306 Q1897.59 41.7891 1897.59 49.9314 Q1897.59 58.0738 1901.04 62.7728 Q1904.52 67.4314 1910.56 67.4314 Q1916.51 67.4314 1919.99 62.7323 Q1923.48 58.0333 1923.48 49.9314 Q1923.48 41.8701 1919.99 37.1711 Q1916.51 32.4315 1910.56 32.4315 M1910.56 26.1121 Q1920.28 26.1121 1925.83 32.4315 Q1931.38 38.7509 1931.38 49.9314 Q1931.38 61.0714 1925.83 67.4314 Q1920.28 73.7508 1910.56 73.7508 Q1900.79 73.7508 1895.24 67.4314 Q1889.73 61.0714 1889.73 49.9314 Q1889.73 38.7509 1895.24 32.4315 Q1900.79 26.1121 1910.56 26.1121 Z\" fill=\"#000000\" fill-rule=\"evenodd\" fill-opacity=\"1\" /><path clip-path=\"url(#clip170)\" d=\"M1966.7 9.54393 L1966.7 15.7418 L1959.57 15.7418 Q1955.56 15.7418 1953.98 17.3622 Q1952.44 18.9825 1952.44 23.1955 L1952.44 27.2059 L1964.72 27.2059 L1964.72 32.9987 L1952.44 32.9987 L1952.44 72.576 L1944.95 72.576 L1944.95 32.9987 L1937.82 32.9987 L1937.82 27.2059 L1944.95 27.2059 L1944.95 24.0462 Q1944.95 16.471 1948.47 13.0277 Q1952 9.54393 1959.65 9.54393 L1966.7 9.54393 Z\" fill=\"#000000\" fill-rule=\"evenodd\" fill-opacity=\"1\" /><path clip-path=\"url(#clip170)\" d=\"M2006.68 14.324 L2006.68 27.2059 L2022.04 27.2059 L2022.04 32.9987 L2006.68 32.9987 L2006.68 57.6282 Q2006.68 63.1779 2008.18 64.7578 Q2009.72 66.3376 2014.38 66.3376 L2022.04 66.3376 L2022.04 72.576 L2014.38 72.576 Q2005.75 72.576 2002.47 69.3758 Q1999.19 66.1351 1999.19 57.6282 L1999.19 32.9987 L1993.72 32.9987 L1993.72 27.2059 L1999.19 27.2059 L1999.19 14.324 L2006.68 14.324 Z\" fill=\"#000000\" fill-rule=\"evenodd\" fill-opacity=\"1\" /><path clip-path=\"url(#clip170)\" d=\"M2031.84 27.2059 L2039.29 27.2059 L2039.29 72.576 L2031.84 72.576 L2031.84 27.2059 M2031.84 9.54393 L2039.29 9.54393 L2039.29 18.9825 L2031.84 18.9825 L2031.84 9.54393 Z\" fill=\"#000000\" fill-rule=\"evenodd\" fill-opacity=\"1\" /><path clip-path=\"url(#clip170)\" d=\"M2090.21 35.9153 Q2093.01 30.8922 2096.9 28.5022 Q2100.79 26.1121 2106.05 26.1121 Q2113.14 26.1121 2116.99 31.0947 Q2120.84 36.0368 2120.84 45.1919 L2120.84 72.576 L2113.34 72.576 L2113.34 45.4349 Q2113.34 38.913 2111.03 35.7533 Q2108.73 32.5936 2103.99 32.5936 Q2098.19 32.5936 2094.83 36.4419 Q2091.47 40.2903 2091.47 46.9338 L2091.47 72.576 L2083.97 72.576 L2083.97 45.4349 Q2083.97 38.8725 2081.67 35.7533 Q2079.36 32.5936 2074.54 32.5936 Q2068.82 32.5936 2065.46 36.4824 Q2062.1 40.3308 2062.1 46.9338 L2062.1 72.576 L2054.61 72.576 L2054.61 27.2059 L2062.1 27.2059 L2062.1 34.2544 Q2064.65 30.082 2068.22 28.0971 Q2071.78 26.1121 2076.68 26.1121 Q2081.63 26.1121 2085.07 28.6237 Q2088.55 31.1352 2090.21 35.9153 Z\" fill=\"#000000\" fill-rule=\"evenodd\" fill-opacity=\"1\" /><path clip-path=\"url(#clip170)\" d=\"M2174.51 48.0275 L2174.51 51.6733 L2140.24 51.6733 Q2140.73 59.3701 2144.86 63.421 Q2149.03 67.4314 2156.45 67.4314 Q2160.74 67.4314 2164.75 66.3781 Q2168.8 65.3249 2172.77 63.2184 L2172.77 70.267 Q2168.76 71.9684 2164.55 72.8596 Q2160.33 73.7508 2156 73.7508 Q2145.14 73.7508 2138.78 67.4314 Q2132.46 61.1119 2132.46 50.3365 Q2132.46 39.1965 2138.46 32.6746 Q2144.5 26.1121 2154.7 26.1121 Q2163.86 26.1121 2169.17 32.0264 Q2174.51 37.9003 2174.51 48.0275 M2167.06 45.84 Q2166.98 39.7232 2163.62 36.0774 Q2160.29 32.4315 2154.78 32.4315 Q2148.55 32.4315 2144.78 35.9558 Q2141.05 39.4801 2140.48 45.8805 L2167.06 45.84 Z\" fill=\"#000000\" fill-rule=\"evenodd\" fill-opacity=\"1\" /><polyline clip-path=\"url(#clip172)\" style=\"stroke:#009af9; stroke-linecap:butt; stroke-linejoin:round; stroke-width:4; stroke-opacity:1; fill:none\" points=\"\n",
       "  279.916,245.711 385.835,236.336 491.755,207.697 597.674,275.098 703.593,304.847 809.512,292.381 915.432,288.767 1021.35,244.725 1127.27,245.587 1233.19,245.037 \n",
       "  1339.11,244.24 1445.03,218.184 1550.95,177.779 1656.87,167.673 1762.79,158.733 1868.7,159.834 1974.62,159.842 2080.54,159.162 2186.46,169.077 2292.38,182.322 \n",
       "  \n",
       "  \"/>\n",
       "<circle clip-path=\"url(#clip172)\" cx=\"279.916\" cy=\"387.388\" r=\"14\" fill=\"#e26f46\" fill-rule=\"evenodd\" fill-opacity=\"1\" stroke=\"#000000\" stroke-opacity=\"1\" stroke-width=\"3.2\"/>\n",
       "<circle clip-path=\"url(#clip172)\" cx=\"385.835\" cy=\"270.807\" r=\"14\" fill=\"#e26f46\" fill-rule=\"evenodd\" fill-opacity=\"1\" stroke=\"#000000\" stroke-opacity=\"1\" stroke-width=\"3.2\"/>\n",
       "<circle clip-path=\"url(#clip172)\" cx=\"491.755\" cy=\"272.965\" r=\"14\" fill=\"#e26f46\" fill-rule=\"evenodd\" fill-opacity=\"1\" stroke=\"#000000\" stroke-opacity=\"1\" stroke-width=\"3.2\"/>\n",
       "<circle clip-path=\"url(#clip172)\" cx=\"597.674\" cy=\"314.983\" r=\"14\" fill=\"#e26f46\" fill-rule=\"evenodd\" fill-opacity=\"1\" stroke=\"#000000\" stroke-opacity=\"1\" stroke-width=\"3.2\"/>\n",
       "<circle clip-path=\"url(#clip172)\" cx=\"703.593\" cy=\"311.996\" r=\"14\" fill=\"#e26f46\" fill-rule=\"evenodd\" fill-opacity=\"1\" stroke=\"#000000\" stroke-opacity=\"1\" stroke-width=\"3.2\"/>\n",
       "<circle clip-path=\"url(#clip172)\" cx=\"809.512\" cy=\"297.79\" r=\"14\" fill=\"#e26f46\" fill-rule=\"evenodd\" fill-opacity=\"1\" stroke=\"#000000\" stroke-opacity=\"1\" stroke-width=\"3.2\"/>\n",
       "<circle clip-path=\"url(#clip172)\" cx=\"915.432\" cy=\"293.369\" r=\"14\" fill=\"#e26f46\" fill-rule=\"evenodd\" fill-opacity=\"1\" stroke=\"#000000\" stroke-opacity=\"1\" stroke-width=\"3.2\"/>\n",
       "<circle clip-path=\"url(#clip172)\" cx=\"1021.35\" cy=\"304.6\" r=\"14\" fill=\"#e26f46\" fill-rule=\"evenodd\" fill-opacity=\"1\" stroke=\"#000000\" stroke-opacity=\"1\" stroke-width=\"3.2\"/>\n",
       "<circle clip-path=\"url(#clip172)\" cx=\"1127.27\" cy=\"308.645\" r=\"14\" fill=\"#e26f46\" fill-rule=\"evenodd\" fill-opacity=\"1\" stroke=\"#000000\" stroke-opacity=\"1\" stroke-width=\"3.2\"/>\n",
       "<circle clip-path=\"url(#clip172)\" cx=\"1233.19\" cy=\"317.912\" r=\"14\" fill=\"#e26f46\" fill-rule=\"evenodd\" fill-opacity=\"1\" stroke=\"#000000\" stroke-opacity=\"1\" stroke-width=\"3.2\"/>\n",
       "<circle clip-path=\"url(#clip172)\" cx=\"1339.11\" cy=\"299.182\" r=\"14\" fill=\"#e26f46\" fill-rule=\"evenodd\" fill-opacity=\"1\" stroke=\"#000000\" stroke-opacity=\"1\" stroke-width=\"3.2\"/>\n",
       "<circle clip-path=\"url(#clip172)\" cx=\"1445.03\" cy=\"263.855\" r=\"14\" fill=\"#e26f46\" fill-rule=\"evenodd\" fill-opacity=\"1\" stroke=\"#000000\" stroke-opacity=\"1\" stroke-width=\"3.2\"/>\n",
       "<circle clip-path=\"url(#clip172)\" cx=\"1550.95\" cy=\"231.489\" r=\"14\" fill=\"#e26f46\" fill-rule=\"evenodd\" fill-opacity=\"1\" stroke=\"#000000\" stroke-opacity=\"1\" stroke-width=\"3.2\"/>\n",
       "<circle clip-path=\"url(#clip172)\" cx=\"1656.87\" cy=\"213.321\" r=\"14\" fill=\"#e26f46\" fill-rule=\"evenodd\" fill-opacity=\"1\" stroke=\"#000000\" stroke-opacity=\"1\" stroke-width=\"3.2\"/>\n",
       "<circle clip-path=\"url(#clip172)\" cx=\"1762.79\" cy=\"202.838\" r=\"14\" fill=\"#e26f46\" fill-rule=\"evenodd\" fill-opacity=\"1\" stroke=\"#000000\" stroke-opacity=\"1\" stroke-width=\"3.2\"/>\n",
       "<circle clip-path=\"url(#clip172)\" cx=\"1868.7\" cy=\"194.734\" r=\"14\" fill=\"#e26f46\" fill-rule=\"evenodd\" fill-opacity=\"1\" stroke=\"#000000\" stroke-opacity=\"1\" stroke-width=\"3.2\"/>\n",
       "<circle clip-path=\"url(#clip172)\" cx=\"1974.62\" cy=\"193.179\" r=\"14\" fill=\"#e26f46\" fill-rule=\"evenodd\" fill-opacity=\"1\" stroke=\"#000000\" stroke-opacity=\"1\" stroke-width=\"3.2\"/>\n",
       "<circle clip-path=\"url(#clip172)\" cx=\"2080.54\" cy=\"189.664\" r=\"14\" fill=\"#e26f46\" fill-rule=\"evenodd\" fill-opacity=\"1\" stroke=\"#000000\" stroke-opacity=\"1\" stroke-width=\"3.2\"/>\n",
       "<circle clip-path=\"url(#clip172)\" cx=\"2186.46\" cy=\"199.314\" r=\"14\" fill=\"#e26f46\" fill-rule=\"evenodd\" fill-opacity=\"1\" stroke=\"#000000\" stroke-opacity=\"1\" stroke-width=\"3.2\"/>\n",
       "<circle clip-path=\"url(#clip172)\" cx=\"2292.38\" cy=\"209.994\" r=\"14\" fill=\"#e26f46\" fill-rule=\"evenodd\" fill-opacity=\"1\" stroke=\"#000000\" stroke-opacity=\"1\" stroke-width=\"3.2\"/>\n",
       "<polyline clip-path=\"url(#clip172)\" style=\"stroke:#3da44d; stroke-linecap:butt; stroke-linejoin:round; stroke-width:4; stroke-opacity:1; fill:none\" points=\"\n",
       "  279.916,565.347 385.835,376.625 491.755,351.788 597.674,473.876 703.593,341.514 809.512,335.838 915.432,344.691 1021.35,360.556 1127.27,345.283 1233.19,361.474 \n",
       "  1339.11,314.422 1445.03,243.303 1550.95,196.995 1656.87,174.748 1762.79,157.482 1868.7,168.672 1974.62,180.592 2080.54,167.779 2186.46,174.533 2292.38,165.696 \n",
       "  \n",
       "  \"/>\n",
       "<circle clip-path=\"url(#clip172)\" cx=\"279.916\" cy=\"368.382\" r=\"14\" fill=\"#c271d2\" fill-rule=\"evenodd\" fill-opacity=\"1\" stroke=\"#000000\" stroke-opacity=\"1\" stroke-width=\"3.2\"/>\n",
       "<circle clip-path=\"url(#clip172)\" cx=\"385.835\" cy=\"307.683\" r=\"14\" fill=\"#c271d2\" fill-rule=\"evenodd\" fill-opacity=\"1\" stroke=\"#000000\" stroke-opacity=\"1\" stroke-width=\"3.2\"/>\n",
       "<circle clip-path=\"url(#clip172)\" cx=\"491.755\" cy=\"306.603\" r=\"14\" fill=\"#c271d2\" fill-rule=\"evenodd\" fill-opacity=\"1\" stroke=\"#000000\" stroke-opacity=\"1\" stroke-width=\"3.2\"/>\n",
       "<circle clip-path=\"url(#clip172)\" cx=\"597.674\" cy=\"384.053\" r=\"14\" fill=\"#c271d2\" fill-rule=\"evenodd\" fill-opacity=\"1\" stroke=\"#000000\" stroke-opacity=\"1\" stroke-width=\"3.2\"/>\n",
       "<circle clip-path=\"url(#clip172)\" cx=\"703.593\" cy=\"294.931\" r=\"14\" fill=\"#c271d2\" fill-rule=\"evenodd\" fill-opacity=\"1\" stroke=\"#000000\" stroke-opacity=\"1\" stroke-width=\"3.2\"/>\n",
       "<circle clip-path=\"url(#clip172)\" cx=\"809.512\" cy=\"213.115\" r=\"14\" fill=\"#c271d2\" fill-rule=\"evenodd\" fill-opacity=\"1\" stroke=\"#000000\" stroke-opacity=\"1\" stroke-width=\"3.2\"/>\n",
       "<circle clip-path=\"url(#clip172)\" cx=\"915.432\" cy=\"200.102\" r=\"14\" fill=\"#c271d2\" fill-rule=\"evenodd\" fill-opacity=\"1\" stroke=\"#000000\" stroke-opacity=\"1\" stroke-width=\"3.2\"/>\n",
       "<circle clip-path=\"url(#clip172)\" cx=\"1021.35\" cy=\"213.847\" r=\"14\" fill=\"#c271d2\" fill-rule=\"evenodd\" fill-opacity=\"1\" stroke=\"#000000\" stroke-opacity=\"1\" stroke-width=\"3.2\"/>\n",
       "<circle clip-path=\"url(#clip172)\" cx=\"1127.27\" cy=\"223.838\" r=\"14\" fill=\"#c271d2\" fill-rule=\"evenodd\" fill-opacity=\"1\" stroke=\"#000000\" stroke-opacity=\"1\" stroke-width=\"3.2\"/>\n",
       "<circle clip-path=\"url(#clip172)\" cx=\"1233.19\" cy=\"228.21\" r=\"14\" fill=\"#c271d2\" fill-rule=\"evenodd\" fill-opacity=\"1\" stroke=\"#000000\" stroke-opacity=\"1\" stroke-width=\"3.2\"/>\n",
       "<circle clip-path=\"url(#clip172)\" cx=\"1339.11\" cy=\"225.414\" r=\"14\" fill=\"#c271d2\" fill-rule=\"evenodd\" fill-opacity=\"1\" stroke=\"#000000\" stroke-opacity=\"1\" stroke-width=\"3.2\"/>\n",
       "<circle clip-path=\"url(#clip172)\" cx=\"1445.03\" cy=\"209.411\" r=\"14\" fill=\"#c271d2\" fill-rule=\"evenodd\" fill-opacity=\"1\" stroke=\"#000000\" stroke-opacity=\"1\" stroke-width=\"3.2\"/>\n",
       "<circle clip-path=\"url(#clip172)\" cx=\"1550.95\" cy=\"170.834\" r=\"14\" fill=\"#c271d2\" fill-rule=\"evenodd\" fill-opacity=\"1\" stroke=\"#000000\" stroke-opacity=\"1\" stroke-width=\"3.2\"/>\n",
       "<circle clip-path=\"url(#clip172)\" cx=\"1656.87\" cy=\"165.162\" r=\"14\" fill=\"#c271d2\" fill-rule=\"evenodd\" fill-opacity=\"1\" stroke=\"#000000\" stroke-opacity=\"1\" stroke-width=\"3.2\"/>\n",
       "<circle clip-path=\"url(#clip172)\" cx=\"1762.79\" cy=\"160.551\" r=\"14\" fill=\"#c271d2\" fill-rule=\"evenodd\" fill-opacity=\"1\" stroke=\"#000000\" stroke-opacity=\"1\" stroke-width=\"3.2\"/>\n",
       "<circle clip-path=\"url(#clip172)\" cx=\"1868.7\" cy=\"168.446\" r=\"14\" fill=\"#c271d2\" fill-rule=\"evenodd\" fill-opacity=\"1\" stroke=\"#000000\" stroke-opacity=\"1\" stroke-width=\"3.2\"/>\n",
       "<circle clip-path=\"url(#clip172)\" cx=\"1974.62\" cy=\"181.386\" r=\"14\" fill=\"#c271d2\" fill-rule=\"evenodd\" fill-opacity=\"1\" stroke=\"#000000\" stroke-opacity=\"1\" stroke-width=\"3.2\"/>\n",
       "<circle clip-path=\"url(#clip172)\" cx=\"2080.54\" cy=\"180.026\" r=\"14\" fill=\"#c271d2\" fill-rule=\"evenodd\" fill-opacity=\"1\" stroke=\"#000000\" stroke-opacity=\"1\" stroke-width=\"3.2\"/>\n",
       "<circle clip-path=\"url(#clip172)\" cx=\"2186.46\" cy=\"202.497\" r=\"14\" fill=\"#c271d2\" fill-rule=\"evenodd\" fill-opacity=\"1\" stroke=\"#000000\" stroke-opacity=\"1\" stroke-width=\"3.2\"/>\n",
       "<circle clip-path=\"url(#clip172)\" cx=\"2292.38\" cy=\"213.98\" r=\"14\" fill=\"#c271d2\" fill-rule=\"evenodd\" fill-opacity=\"1\" stroke=\"#000000\" stroke-opacity=\"1\" stroke-width=\"3.2\"/>\n",
       "<circle clip-path=\"url(#clip172)\" cx=\"279.916\" cy=\"363.199\" r=\"14\" fill=\"#ac8d18\" fill-rule=\"evenodd\" fill-opacity=\"1\" stroke=\"#000000\" stroke-opacity=\"1\" stroke-width=\"3.2\"/>\n",
       "<circle clip-path=\"url(#clip172)\" cx=\"385.835\" cy=\"399.873\" r=\"14\" fill=\"#ac8d18\" fill-rule=\"evenodd\" fill-opacity=\"1\" stroke=\"#000000\" stroke-opacity=\"1\" stroke-width=\"3.2\"/>\n",
       "<circle clip-path=\"url(#clip172)\" cx=\"491.755\" cy=\"408.521\" r=\"14\" fill=\"#ac8d18\" fill-rule=\"evenodd\" fill-opacity=\"1\" stroke=\"#000000\" stroke-opacity=\"1\" stroke-width=\"3.2\"/>\n",
       "<circle clip-path=\"url(#clip172)\" cx=\"597.674\" cy=\"449.88\" r=\"14\" fill=\"#ac8d18\" fill-rule=\"evenodd\" fill-opacity=\"1\" stroke=\"#000000\" stroke-opacity=\"1\" stroke-width=\"3.2\"/>\n",
       "<circle clip-path=\"url(#clip172)\" cx=\"703.593\" cy=\"348.202\" r=\"14\" fill=\"#ac8d18\" fill-rule=\"evenodd\" fill-opacity=\"1\" stroke=\"#000000\" stroke-opacity=\"1\" stroke-width=\"3.2\"/>\n",
       "<circle clip-path=\"url(#clip172)\" cx=\"809.512\" cy=\"231.393\" r=\"14\" fill=\"#ac8d18\" fill-rule=\"evenodd\" fill-opacity=\"1\" stroke=\"#000000\" stroke-opacity=\"1\" stroke-width=\"3.2\"/>\n",
       "<circle clip-path=\"url(#clip172)\" cx=\"915.432\" cy=\"202.049\" r=\"14\" fill=\"#ac8d18\" fill-rule=\"evenodd\" fill-opacity=\"1\" stroke=\"#000000\" stroke-opacity=\"1\" stroke-width=\"3.2\"/>\n",
       "<circle clip-path=\"url(#clip172)\" cx=\"1021.35\" cy=\"218.863\" r=\"14\" fill=\"#ac8d18\" fill-rule=\"evenodd\" fill-opacity=\"1\" stroke=\"#000000\" stroke-opacity=\"1\" stroke-width=\"3.2\"/>\n",
       "<circle clip-path=\"url(#clip172)\" cx=\"1127.27\" cy=\"221.648\" r=\"14\" fill=\"#ac8d18\" fill-rule=\"evenodd\" fill-opacity=\"1\" stroke=\"#000000\" stroke-opacity=\"1\" stroke-width=\"3.2\"/>\n",
       "<circle clip-path=\"url(#clip172)\" cx=\"1233.19\" cy=\"218.167\" r=\"14\" fill=\"#ac8d18\" fill-rule=\"evenodd\" fill-opacity=\"1\" stroke=\"#000000\" stroke-opacity=\"1\" stroke-width=\"3.2\"/>\n",
       "<circle clip-path=\"url(#clip172)\" cx=\"1339.11\" cy=\"217.986\" r=\"14\" fill=\"#ac8d18\" fill-rule=\"evenodd\" fill-opacity=\"1\" stroke=\"#000000\" stroke-opacity=\"1\" stroke-width=\"3.2\"/>\n",
       "<circle clip-path=\"url(#clip172)\" cx=\"1445.03\" cy=\"201.358\" r=\"14\" fill=\"#ac8d18\" fill-rule=\"evenodd\" fill-opacity=\"1\" stroke=\"#000000\" stroke-opacity=\"1\" stroke-width=\"3.2\"/>\n",
       "<circle clip-path=\"url(#clip172)\" cx=\"1550.95\" cy=\"174.423\" r=\"14\" fill=\"#ac8d18\" fill-rule=\"evenodd\" fill-opacity=\"1\" stroke=\"#000000\" stroke-opacity=\"1\" stroke-width=\"3.2\"/>\n",
       "<circle clip-path=\"url(#clip172)\" cx=\"1656.87\" cy=\"163.678\" r=\"14\" fill=\"#ac8d18\" fill-rule=\"evenodd\" fill-opacity=\"1\" stroke=\"#000000\" stroke-opacity=\"1\" stroke-width=\"3.2\"/>\n",
       "<circle clip-path=\"url(#clip172)\" cx=\"1762.79\" cy=\"159.415\" r=\"14\" fill=\"#ac8d18\" fill-rule=\"evenodd\" fill-opacity=\"1\" stroke=\"#000000\" stroke-opacity=\"1\" stroke-width=\"3.2\"/>\n",
       "<circle clip-path=\"url(#clip172)\" cx=\"1868.7\" cy=\"159.494\" r=\"14\" fill=\"#ac8d18\" fill-rule=\"evenodd\" fill-opacity=\"1\" stroke=\"#000000\" stroke-opacity=\"1\" stroke-width=\"3.2\"/>\n",
       "<circle clip-path=\"url(#clip172)\" cx=\"1974.62\" cy=\"155.987\" r=\"14\" fill=\"#ac8d18\" fill-rule=\"evenodd\" fill-opacity=\"1\" stroke=\"#000000\" stroke-opacity=\"1\" stroke-width=\"3.2\"/>\n",
       "<circle clip-path=\"url(#clip172)\" cx=\"2080.54\" cy=\"155.306\" r=\"14\" fill=\"#ac8d18\" fill-rule=\"evenodd\" fill-opacity=\"1\" stroke=\"#000000\" stroke-opacity=\"1\" stroke-width=\"3.2\"/>\n",
       "<circle clip-path=\"url(#clip172)\" cx=\"2186.46\" cy=\"154.072\" r=\"14\" fill=\"#ac8d18\" fill-rule=\"evenodd\" fill-opacity=\"1\" stroke=\"#000000\" stroke-opacity=\"1\" stroke-width=\"3.2\"/>\n",
       "<circle clip-path=\"url(#clip172)\" cx=\"2292.38\" cy=\"154.423\" r=\"14\" fill=\"#ac8d18\" fill-rule=\"evenodd\" fill-opacity=\"1\" stroke=\"#000000\" stroke-opacity=\"1\" stroke-width=\"3.2\"/>\n",
       "<circle clip-path=\"url(#clip172)\" cx=\"279.916\" cy=\"1080.22\" r=\"14\" fill=\"#00a9ad\" fill-rule=\"evenodd\" fill-opacity=\"1\" stroke=\"#000000\" stroke-opacity=\"1\" stroke-width=\"3.2\"/>\n",
       "<circle clip-path=\"url(#clip172)\" cx=\"385.835\" cy=\"1038.79\" r=\"14\" fill=\"#00a9ad\" fill-rule=\"evenodd\" fill-opacity=\"1\" stroke=\"#000000\" stroke-opacity=\"1\" stroke-width=\"3.2\"/>\n",
       "<circle clip-path=\"url(#clip172)\" cx=\"491.755\" cy=\"1158.6\" r=\"14\" fill=\"#00a9ad\" fill-rule=\"evenodd\" fill-opacity=\"1\" stroke=\"#000000\" stroke-opacity=\"1\" stroke-width=\"3.2\"/>\n",
       "<circle clip-path=\"url(#clip172)\" cx=\"597.674\" cy=\"1149.98\" r=\"14\" fill=\"#00a9ad\" fill-rule=\"evenodd\" fill-opacity=\"1\" stroke=\"#000000\" stroke-opacity=\"1\" stroke-width=\"3.2\"/>\n",
       "<circle clip-path=\"url(#clip172)\" cx=\"703.593\" cy=\"1053.86\" r=\"14\" fill=\"#00a9ad\" fill-rule=\"evenodd\" fill-opacity=\"1\" stroke=\"#000000\" stroke-opacity=\"1\" stroke-width=\"3.2\"/>\n",
       "<circle clip-path=\"url(#clip172)\" cx=\"809.512\" cy=\"956.35\" r=\"14\" fill=\"#00a9ad\" fill-rule=\"evenodd\" fill-opacity=\"1\" stroke=\"#000000\" stroke-opacity=\"1\" stroke-width=\"3.2\"/>\n",
       "<circle clip-path=\"url(#clip172)\" cx=\"915.432\" cy=\"899.156\" r=\"14\" fill=\"#00a9ad\" fill-rule=\"evenodd\" fill-opacity=\"1\" stroke=\"#000000\" stroke-opacity=\"1\" stroke-width=\"3.2\"/>\n",
       "<circle clip-path=\"url(#clip172)\" cx=\"1021.35\" cy=\"859.619\" r=\"14\" fill=\"#00a9ad\" fill-rule=\"evenodd\" fill-opacity=\"1\" stroke=\"#000000\" stroke-opacity=\"1\" stroke-width=\"3.2\"/>\n",
       "<circle clip-path=\"url(#clip172)\" cx=\"1127.27\" cy=\"898.208\" r=\"14\" fill=\"#00a9ad\" fill-rule=\"evenodd\" fill-opacity=\"1\" stroke=\"#000000\" stroke-opacity=\"1\" stroke-width=\"3.2\"/>\n",
       "<circle clip-path=\"url(#clip172)\" cx=\"1233.19\" cy=\"871.326\" r=\"14\" fill=\"#00a9ad\" fill-rule=\"evenodd\" fill-opacity=\"1\" stroke=\"#000000\" stroke-opacity=\"1\" stroke-width=\"3.2\"/>\n",
       "<circle clip-path=\"url(#clip172)\" cx=\"1339.11\" cy=\"836.175\" r=\"14\" fill=\"#00a9ad\" fill-rule=\"evenodd\" fill-opacity=\"1\" stroke=\"#000000\" stroke-opacity=\"1\" stroke-width=\"3.2\"/>\n",
       "<circle clip-path=\"url(#clip172)\" cx=\"1445.03\" cy=\"758.906\" r=\"14\" fill=\"#00a9ad\" fill-rule=\"evenodd\" fill-opacity=\"1\" stroke=\"#000000\" stroke-opacity=\"1\" stroke-width=\"3.2\"/>\n",
       "<circle clip-path=\"url(#clip172)\" cx=\"1550.95\" cy=\"729.696\" r=\"14\" fill=\"#00a9ad\" fill-rule=\"evenodd\" fill-opacity=\"1\" stroke=\"#000000\" stroke-opacity=\"1\" stroke-width=\"3.2\"/>\n",
       "<circle clip-path=\"url(#clip172)\" cx=\"1656.87\" cy=\"705.755\" r=\"14\" fill=\"#00a9ad\" fill-rule=\"evenodd\" fill-opacity=\"1\" stroke=\"#000000\" stroke-opacity=\"1\" stroke-width=\"3.2\"/>\n",
       "<circle clip-path=\"url(#clip172)\" cx=\"1762.79\" cy=\"712.323\" r=\"14\" fill=\"#00a9ad\" fill-rule=\"evenodd\" fill-opacity=\"1\" stroke=\"#000000\" stroke-opacity=\"1\" stroke-width=\"3.2\"/>\n",
       "<circle clip-path=\"url(#clip172)\" cx=\"1868.7\" cy=\"721.283\" r=\"14\" fill=\"#00a9ad\" fill-rule=\"evenodd\" fill-opacity=\"1\" stroke=\"#000000\" stroke-opacity=\"1\" stroke-width=\"3.2\"/>\n",
       "<circle clip-path=\"url(#clip172)\" cx=\"1974.62\" cy=\"741.081\" r=\"14\" fill=\"#00a9ad\" fill-rule=\"evenodd\" fill-opacity=\"1\" stroke=\"#000000\" stroke-opacity=\"1\" stroke-width=\"3.2\"/>\n",
       "<circle clip-path=\"url(#clip172)\" cx=\"2080.54\" cy=\"741.081\" r=\"14\" fill=\"#00a9ad\" fill-rule=\"evenodd\" fill-opacity=\"1\" stroke=\"#000000\" stroke-opacity=\"1\" stroke-width=\"3.2\"/>\n",
       "<circle clip-path=\"url(#clip172)\" cx=\"2186.46\" cy=\"868.737\" r=\"14\" fill=\"#00a9ad\" fill-rule=\"evenodd\" fill-opacity=\"1\" stroke=\"#000000\" stroke-opacity=\"1\" stroke-width=\"3.2\"/>\n",
       "<circle clip-path=\"url(#clip172)\" cx=\"2292.38\" cy=\"898.265\" r=\"14\" fill=\"#00a9ad\" fill-rule=\"evenodd\" fill-opacity=\"1\" stroke=\"#000000\" stroke-opacity=\"1\" stroke-width=\"3.2\"/>\n",
       "<path clip-path=\"url(#clip170)\" d=\"\n",
       "M290.649 1379.86 L747.996 1379.86 L747.996 1016.98 L290.649 1016.98  Z\n",
       "  \" fill=\"#ffffff\" fill-rule=\"evenodd\" fill-opacity=\"1\"/>\n",
       "<polyline clip-path=\"url(#clip170)\" style=\"stroke:#000000; stroke-linecap:butt; stroke-linejoin:round; stroke-width:4; stroke-opacity:1; fill:none\" points=\"\n",
       "  290.649,1379.86 747.996,1379.86 747.996,1016.98 290.649,1016.98 290.649,1379.86 \n",
       "  \"/>\n",
       "<polyline clip-path=\"url(#clip170)\" style=\"stroke:#009af9; stroke-linecap:butt; stroke-linejoin:round; stroke-width:4; stroke-opacity:1; fill:none\" points=\"\n",
       "  314.352,1068.82 456.566,1068.82 \n",
       "  \"/>\n",
       "<path clip-path=\"url(#clip170)\" d=\"M496.102 1056.14 L489.759 1073.34 L502.467 1073.34 L496.102 1056.14 M493.463 1051.54 L498.764 1051.54 L511.935 1086.1 L507.074 1086.1 L503.926 1077.23 L488.347 1077.23 L485.199 1086.1 L480.268 1086.1 L493.463 1051.54 Z\" fill=\"#000000\" fill-rule=\"evenodd\" fill-opacity=\"1\" /><path clip-path=\"url(#clip170)\" d=\"M516.449 1051.54 L521.148 1051.54 L521.148 1072.53 Q521.148 1078.09 523.162 1080.54 Q525.175 1082.97 529.689 1082.97 Q534.18 1082.97 536.194 1080.54 Q538.208 1078.09 538.208 1072.53 L538.208 1051.54 L542.907 1051.54 L542.907 1073.11 Q542.907 1079.87 539.55 1083.32 Q536.217 1086.77 529.689 1086.77 Q523.138 1086.77 519.782 1083.32 Q516.449 1079.87 516.449 1073.11 L516.449 1051.54 Z\" fill=\"#000000\" fill-rule=\"evenodd\" fill-opacity=\"1\" /><path clip-path=\"url(#clip170)\" d=\"M577.559 1054.2 L577.559 1059.13 Q575.198 1056.93 572.513 1055.84 Q569.851 1054.75 566.842 1054.75 Q560.916 1054.75 557.768 1058.39 Q554.62 1062 554.62 1068.85 Q554.62 1075.68 557.768 1079.31 Q560.916 1082.92 566.842 1082.92 Q569.851 1082.92 572.513 1081.84 Q575.198 1080.75 577.559 1078.55 L577.559 1083.43 Q575.106 1085.1 572.351 1085.93 Q569.62 1086.77 566.564 1086.77 Q558.717 1086.77 554.203 1081.98 Q549.689 1077.16 549.689 1068.85 Q549.689 1060.52 554.203 1055.73 Q558.717 1050.91 566.564 1050.91 Q569.666 1050.91 572.397 1051.74 Q575.152 1052.55 577.559 1054.2 Z\" fill=\"#000000\" fill-rule=\"evenodd\" fill-opacity=\"1\" /><path clip-path=\"url(#clip170)\" d=\"M596.379 1073.06 Q591.217 1073.06 589.226 1074.24 Q587.235 1075.43 587.235 1078.27 Q587.235 1080.54 588.717 1081.88 Q590.221 1083.2 592.791 1083.2 Q596.333 1083.2 598.462 1080.7 Q600.615 1078.18 600.615 1074.01 L600.615 1073.06 L596.379 1073.06 M604.874 1071.3 L604.874 1086.1 L600.615 1086.1 L600.615 1082.16 Q599.157 1084.52 596.981 1085.66 Q594.805 1086.77 591.657 1086.77 Q587.675 1086.77 585.314 1084.55 Q582.976 1082.3 582.976 1078.55 Q582.976 1074.18 585.893 1071.95 Q588.833 1069.73 594.643 1069.73 L600.615 1069.73 L600.615 1069.31 Q600.615 1066.37 598.67 1064.78 Q596.749 1063.16 593.254 1063.16 Q591.032 1063.16 588.925 1063.69 Q586.819 1064.22 584.874 1065.29 L584.874 1061.35 Q587.212 1060.45 589.411 1060.01 Q591.61 1059.55 593.694 1059.55 Q599.319 1059.55 602.096 1062.46 Q604.874 1065.38 604.874 1071.3 Z\" fill=\"#000000\" fill-rule=\"evenodd\" fill-opacity=\"1\" /><path clip-path=\"url(#clip170)\" d=\"M613.207 1075.86 L613.207 1060.17 L617.467 1060.17 L617.467 1075.7 Q617.467 1079.38 618.902 1081.24 Q620.337 1083.06 623.207 1083.06 Q626.656 1083.06 628.647 1080.86 Q630.661 1078.67 630.661 1074.87 L630.661 1060.17 L634.92 1060.17 L634.92 1086.1 L630.661 1086.1 L630.661 1082.11 Q629.11 1084.48 627.05 1085.63 Q625.013 1086.77 622.305 1086.77 Q617.837 1086.77 615.522 1083.99 Q613.207 1081.21 613.207 1075.86 M623.925 1059.55 L623.925 1059.55 Z\" fill=\"#000000\" fill-rule=\"evenodd\" fill-opacity=\"1\" /><circle clip-path=\"url(#clip170)\" cx=\"385.459\" cy=\"1120.66\" r=\"23\" fill=\"#e26f46\" fill-rule=\"evenodd\" fill-opacity=\"1\" stroke=\"#000000\" stroke-opacity=\"1\" stroke-width=\"5.12\"/>\n",
       "<path clip-path=\"url(#clip170)\" d=\"M496.102 1107.98 L489.759 1125.18 L502.467 1125.18 L496.102 1107.98 M493.463 1103.38 L498.764 1103.38 L511.935 1137.94 L507.074 1137.94 L503.926 1129.07 L488.347 1129.07 L485.199 1137.94 L480.268 1137.94 L493.463 1103.38 Z\" fill=\"#000000\" fill-rule=\"evenodd\" fill-opacity=\"1\" /><path clip-path=\"url(#clip170)\" d=\"M516.449 1103.38 L521.148 1103.38 L521.148 1124.37 Q521.148 1129.93 523.162 1132.38 Q525.175 1134.81 529.689 1134.81 Q534.18 1134.81 536.194 1132.38 Q538.208 1129.93 538.208 1124.37 L538.208 1103.38 L542.907 1103.38 L542.907 1124.95 Q542.907 1131.71 539.55 1135.16 Q536.217 1138.61 529.689 1138.61 Q523.138 1138.61 519.782 1135.16 Q516.449 1131.71 516.449 1124.95 L516.449 1103.38 Z\" fill=\"#000000\" fill-rule=\"evenodd\" fill-opacity=\"1\" /><path clip-path=\"url(#clip170)\" d=\"M572.397 1104.51 L572.397 1109.07 Q569.735 1107.8 567.374 1107.17 Q565.013 1106.55 562.814 1106.55 Q558.995 1106.55 556.911 1108.03 Q554.851 1109.51 554.851 1112.24 Q554.851 1114.53 556.217 1115.71 Q557.606 1116.87 561.448 1117.59 L564.272 1118.17 Q569.504 1119.16 571.981 1121.69 Q574.481 1124.19 574.481 1128.4 Q574.481 1133.42 571.101 1136.01 Q567.745 1138.61 561.24 1138.61 Q558.786 1138.61 556.009 1138.05 Q553.254 1137.5 550.291 1136.41 L550.291 1131.59 Q553.138 1133.19 555.87 1134 Q558.601 1134.81 561.24 1134.81 Q565.245 1134.81 567.421 1133.24 Q569.597 1131.66 569.597 1128.75 Q569.597 1126.2 568.022 1124.77 Q566.472 1123.33 562.907 1122.61 L560.06 1122.06 Q554.828 1121.02 552.49 1118.79 Q550.152 1116.57 550.152 1112.61 Q550.152 1108.03 553.37 1105.39 Q556.61 1102.75 562.282 1102.75 Q564.712 1102.75 567.235 1103.19 Q569.759 1103.63 572.397 1104.51 Z\" fill=\"#000000\" fill-rule=\"evenodd\" fill-opacity=\"1\" /><path clip-path=\"url(#clip170)\" d=\"M591.633 1115 Q588.208 1115 586.217 1117.68 Q584.226 1120.34 584.226 1125 Q584.226 1129.65 586.194 1132.33 Q588.184 1135 591.633 1135 Q595.036 1135 597.027 1132.31 Q599.018 1129.63 599.018 1125 Q599.018 1120.39 597.027 1117.7 Q595.036 1115 591.633 1115 M591.633 1111.39 Q597.189 1111.39 600.36 1115 Q603.532 1118.61 603.532 1125 Q603.532 1131.36 600.36 1135 Q597.189 1138.61 591.633 1138.61 Q586.055 1138.61 582.884 1135 Q579.735 1131.36 579.735 1125 Q579.735 1118.61 582.884 1115 Q586.055 1111.39 591.633 1111.39 Z\" fill=\"#000000\" fill-rule=\"evenodd\" fill-opacity=\"1\" /><path clip-path=\"url(#clip170)\" d=\"M623.717 1101.92 L623.717 1105.46 L619.643 1105.46 Q617.351 1105.46 616.448 1106.39 Q615.569 1107.31 615.569 1109.72 L615.569 1112.01 L622.582 1112.01 L622.582 1115.32 L615.569 1115.32 L615.569 1137.94 L611.286 1137.94 L611.286 1115.32 L607.212 1115.32 L607.212 1112.01 L611.286 1112.01 L611.286 1110.2 Q611.286 1105.88 613.3 1103.91 Q615.314 1101.92 619.689 1101.92 L623.717 1101.92 Z\" fill=\"#000000\" fill-rule=\"evenodd\" fill-opacity=\"1\" /><path clip-path=\"url(#clip170)\" d=\"M630.661 1104.65 L630.661 1112.01 L639.434 1112.01 L639.434 1115.32 L630.661 1115.32 L630.661 1129.39 Q630.661 1132.57 631.518 1133.47 Q632.397 1134.37 635.059 1134.37 L639.434 1134.37 L639.434 1137.94 L635.059 1137.94 Q630.129 1137.94 628.254 1136.11 Q626.379 1134.26 626.379 1129.39 L626.379 1115.32 L623.254 1115.32 L623.254 1112.01 L626.379 1112.01 L626.379 1104.65 L630.661 1104.65 Z\" fill=\"#000000\" fill-rule=\"evenodd\" fill-opacity=\"1\" /><polyline clip-path=\"url(#clip170)\" style=\"stroke:#3da44d; stroke-linecap:butt; stroke-linejoin:round; stroke-width:4; stroke-opacity:1; fill:none\" points=\"\n",
       "  314.352,1172.5 456.566,1172.5 \n",
       "  \"/>\n",
       "<path clip-path=\"url(#clip170)\" d=\"M496.102 1159.82 L489.759 1177.02 L502.467 1177.02 L496.102 1159.82 M493.463 1155.22 L498.764 1155.22 L511.935 1189.78 L507.074 1189.78 L503.926 1180.91 L488.347 1180.91 L485.199 1189.78 L480.268 1189.78 L493.463 1155.22 Z\" fill=\"#000000\" fill-rule=\"evenodd\" fill-opacity=\"1\" /><path clip-path=\"url(#clip170)\" d=\"M516.449 1155.22 L521.148 1155.22 L521.148 1176.21 Q521.148 1181.77 523.162 1184.22 Q525.175 1186.65 529.689 1186.65 Q534.18 1186.65 536.194 1184.22 Q538.208 1181.77 538.208 1176.21 L538.208 1155.22 L542.907 1155.22 L542.907 1176.79 Q542.907 1183.55 539.55 1187 Q536.217 1190.45 529.689 1190.45 Q523.138 1190.45 519.782 1187 Q516.449 1183.55 516.449 1176.79 L516.449 1155.22 Z\" fill=\"#000000\" fill-rule=\"evenodd\" fill-opacity=\"1\" /><path clip-path=\"url(#clip170)\" d=\"M551.68 1155.22 L571.541 1155.22 L571.541 1159.15 L556.356 1159.15 L556.356 1169.34 L570.059 1169.34 L570.059 1173.27 L556.356 1173.27 L556.356 1189.78 L551.68 1189.78 L551.68 1155.22 Z\" fill=\"#000000\" fill-rule=\"evenodd\" fill-opacity=\"1\" /><path clip-path=\"url(#clip170)\" d=\"M590.337 1167.83 Q589.62 1167.42 588.763 1167.23 Q587.93 1167.02 586.911 1167.02 Q583.3 1167.02 581.356 1169.38 Q579.434 1171.72 579.434 1176.12 L579.434 1189.78 L575.152 1189.78 L575.152 1163.85 L579.434 1163.85 L579.434 1167.88 Q580.777 1165.52 582.93 1164.38 Q585.083 1163.23 588.161 1163.23 Q588.601 1163.23 589.133 1163.29 Q589.666 1163.34 590.314 1163.46 L590.337 1167.83 Z\" fill=\"#000000\" fill-rule=\"evenodd\" fill-opacity=\"1\" /><path clip-path=\"url(#clip170)\" d=\"M615.939 1175.75 L615.939 1177.83 L596.356 1177.83 Q596.633 1182.23 598.995 1184.54 Q601.379 1186.84 605.615 1186.84 Q608.069 1186.84 610.36 1186.23 Q612.675 1185.63 614.944 1184.43 L614.944 1188.46 Q612.652 1189.43 610.244 1189.94 Q607.837 1190.45 605.36 1190.45 Q599.157 1190.45 595.522 1186.84 Q591.911 1183.23 591.911 1177.07 Q591.911 1170.7 595.337 1166.98 Q598.786 1163.23 604.619 1163.23 Q609.851 1163.23 612.883 1166.61 Q615.939 1169.96 615.939 1175.75 M611.68 1174.5 Q611.633 1171 609.712 1168.92 Q607.814 1166.84 604.666 1166.84 Q601.101 1166.84 598.948 1168.85 Q596.819 1170.86 596.495 1174.52 L611.68 1174.5 Z\" fill=\"#000000\" fill-rule=\"evenodd\" fill-opacity=\"1\" /><path clip-path=\"url(#clip170)\" d=\"M644.48 1174.13 L644.48 1189.78 L640.221 1189.78 L640.221 1174.27 Q640.221 1170.59 638.786 1168.76 Q637.351 1166.93 634.48 1166.93 Q631.031 1166.93 629.041 1169.13 Q627.05 1171.33 627.05 1175.12 L627.05 1189.78 L622.768 1189.78 L622.768 1163.85 L627.05 1163.85 L627.05 1167.88 Q628.578 1165.54 630.638 1164.38 Q632.721 1163.23 635.43 1163.23 Q639.897 1163.23 642.189 1166 Q644.48 1168.76 644.48 1174.13 Z\" fill=\"#000000\" fill-rule=\"evenodd\" fill-opacity=\"1\" /><path clip-path=\"url(#clip170)\" d=\"M671.633 1164.85 L671.633 1168.83 Q669.827 1167.83 667.999 1167.35 Q666.193 1166.84 664.341 1166.84 Q660.198 1166.84 657.906 1169.48 Q655.615 1172.09 655.615 1176.84 Q655.615 1181.58 657.906 1184.22 Q660.198 1186.84 664.341 1186.84 Q666.193 1186.84 667.999 1186.35 Q669.827 1185.84 671.633 1184.85 L671.633 1188.78 Q669.851 1189.61 667.929 1190.03 Q666.031 1190.45 663.878 1190.45 Q658.022 1190.45 654.573 1186.77 Q651.124 1183.09 651.124 1176.84 Q651.124 1170.49 654.596 1166.86 Q658.091 1163.23 664.156 1163.23 Q666.124 1163.23 667.999 1163.64 Q669.874 1164.04 671.633 1164.85 Z\" fill=\"#000000\" fill-rule=\"evenodd\" fill-opacity=\"1\" /><path clip-path=\"url(#clip170)\" d=\"M700.591 1174.13 L700.591 1189.78 L696.332 1189.78 L696.332 1174.27 Q696.332 1170.59 694.897 1168.76 Q693.462 1166.93 690.591 1166.93 Q687.142 1166.93 685.151 1169.13 Q683.161 1171.33 683.161 1175.12 L683.161 1189.78 L678.878 1189.78 L678.878 1153.76 L683.161 1153.76 L683.161 1167.88 Q684.689 1165.54 686.749 1164.38 Q688.832 1163.23 691.54 1163.23 Q696.008 1163.23 698.3 1166 Q700.591 1168.76 700.591 1174.13 Z\" fill=\"#000000\" fill-rule=\"evenodd\" fill-opacity=\"1\" /><circle clip-path=\"url(#clip170)\" cx=\"385.459\" cy=\"1224.34\" r=\"23\" fill=\"#c271d2\" fill-rule=\"evenodd\" fill-opacity=\"1\" stroke=\"#000000\" stroke-opacity=\"1\" stroke-width=\"5.12\"/>\n",
       "<path clip-path=\"url(#clip170)\" d=\"M496.102 1211.66 L489.759 1228.86 L502.467 1228.86 L496.102 1211.66 M493.463 1207.06 L498.764 1207.06 L511.935 1241.62 L507.074 1241.62 L503.926 1232.75 L488.347 1232.75 L485.199 1241.62 L480.268 1241.62 L493.463 1207.06 Z\" fill=\"#000000\" fill-rule=\"evenodd\" fill-opacity=\"1\" /><path clip-path=\"url(#clip170)\" d=\"M516.449 1207.06 L521.148 1207.06 L521.148 1228.05 Q521.148 1233.61 523.162 1236.06 Q525.175 1238.49 529.689 1238.49 Q534.18 1238.49 536.194 1236.06 Q538.208 1233.61 538.208 1228.05 L538.208 1207.06 L542.907 1207.06 L542.907 1228.63 Q542.907 1235.39 539.55 1238.84 Q536.217 1242.29 529.689 1242.29 Q523.138 1242.29 519.782 1238.84 Q516.449 1235.39 516.449 1228.63 L516.449 1207.06 Z\" fill=\"#000000\" fill-rule=\"evenodd\" fill-opacity=\"1\" /><path clip-path=\"url(#clip170)\" d=\"M551.68 1207.06 L558.648 1207.06 L567.467 1230.57 L576.333 1207.06 L583.3 1207.06 L583.3 1241.62 L578.74 1241.62 L578.74 1211.27 L569.828 1234.97 L565.129 1234.97 L556.217 1211.27 L556.217 1241.62 L551.68 1241.62 L551.68 1207.06 Z\" fill=\"#000000\" fill-rule=\"evenodd\" fill-opacity=\"1\" /><path clip-path=\"url(#clip170)\" d=\"M592.583 1207.06 L597.258 1207.06 L597.258 1221.22 L614.249 1221.22 L614.249 1207.06 L618.925 1207.06 L618.925 1241.62 L614.249 1241.62 L614.249 1225.16 L597.258 1225.16 L597.258 1241.62 L592.583 1241.62 L592.583 1207.06 Z\" fill=\"#000000\" fill-rule=\"evenodd\" fill-opacity=\"1\" /><circle clip-path=\"url(#clip170)\" cx=\"385.459\" cy=\"1276.18\" r=\"23\" fill=\"#ac8d18\" fill-rule=\"evenodd\" fill-opacity=\"1\" stroke=\"#000000\" stroke-opacity=\"1\" stroke-width=\"5.12\"/>\n",
       "<path clip-path=\"url(#clip170)\" d=\"M496.102 1263.5 L489.759 1280.7 L502.467 1280.7 L496.102 1263.5 M493.463 1258.9 L498.764 1258.9 L511.935 1293.46 L507.074 1293.46 L503.926 1284.59 L488.347 1284.59 L485.199 1293.46 L480.268 1293.46 L493.463 1258.9 Z\" fill=\"#000000\" fill-rule=\"evenodd\" fill-opacity=\"1\" /><path clip-path=\"url(#clip170)\" d=\"M516.449 1258.9 L521.148 1258.9 L521.148 1279.89 Q521.148 1285.45 523.162 1287.9 Q525.175 1290.33 529.689 1290.33 Q534.18 1290.33 536.194 1287.9 Q538.208 1285.45 538.208 1279.89 L538.208 1258.9 L542.907 1258.9 L542.907 1280.47 Q542.907 1287.23 539.55 1290.68 Q536.217 1294.13 529.689 1294.13 Q523.138 1294.13 519.782 1290.68 Q516.449 1287.23 516.449 1280.47 L516.449 1258.9 Z\" fill=\"#000000\" fill-rule=\"evenodd\" fill-opacity=\"1\" /><path clip-path=\"url(#clip170)\" d=\"M568.022 1268.29 L568.022 1272.32 Q566.217 1271.4 564.272 1270.93 Q562.328 1270.47 560.245 1270.47 Q557.073 1270.47 555.476 1271.44 Q553.902 1272.41 553.902 1274.36 Q553.902 1275.84 555.036 1276.7 Q556.171 1277.53 559.597 1278.29 L561.055 1278.62 Q565.592 1279.59 567.49 1281.37 Q569.411 1283.13 569.411 1286.3 Q569.411 1289.91 566.541 1292.02 Q563.694 1294.13 558.694 1294.13 Q556.61 1294.13 554.342 1293.71 Q552.097 1293.32 549.597 1292.51 L549.597 1288.11 Q551.958 1289.34 554.249 1289.96 Q556.541 1290.56 558.786 1290.56 Q561.796 1290.56 563.416 1289.54 Q565.036 1288.5 565.036 1286.63 Q565.036 1284.89 563.856 1283.97 Q562.698 1283.04 558.74 1282.18 L557.259 1281.84 Q553.3 1281 551.541 1279.29 Q549.782 1277.55 549.782 1274.54 Q549.782 1270.89 552.374 1268.9 Q554.967 1266.91 559.735 1266.91 Q562.097 1266.91 564.18 1267.25 Q566.263 1267.6 568.022 1268.29 Z\" fill=\"#000000\" fill-rule=\"evenodd\" fill-opacity=\"1\" /><path clip-path=\"url(#clip170)\" d=\"M576.194 1267.53 L580.453 1267.53 L580.453 1293.46 L576.194 1293.46 L576.194 1267.53 M576.194 1257.44 L580.453 1257.44 L580.453 1262.83 L576.194 1262.83 L576.194 1257.44 Z\" fill=\"#000000\" fill-rule=\"evenodd\" fill-opacity=\"1\" /><path clip-path=\"url(#clip170)\" d=\"M607.976 1280.52 Q607.976 1275.82 606.032 1273.16 Q604.11 1270.47 600.731 1270.47 Q597.351 1270.47 595.407 1273.16 Q593.485 1275.82 593.485 1280.52 Q593.485 1285.22 595.407 1287.9 Q597.351 1290.56 600.731 1290.56 Q604.11 1290.56 606.032 1287.9 Q607.976 1285.22 607.976 1280.52 M593.485 1271.47 Q594.828 1269.15 596.865 1268.04 Q598.925 1266.91 601.772 1266.91 Q606.494 1266.91 609.434 1270.66 Q612.397 1274.41 612.397 1280.52 Q612.397 1286.63 609.434 1290.38 Q606.494 1294.13 601.772 1294.13 Q598.925 1294.13 596.865 1293.02 Q594.828 1291.88 593.485 1289.57 L593.485 1293.46 L589.203 1293.46 L589.203 1257.44 L593.485 1257.44 L593.485 1271.47 Z\" fill=\"#000000\" fill-rule=\"evenodd\" fill-opacity=\"1\" /><circle clip-path=\"url(#clip170)\" cx=\"385.459\" cy=\"1328.02\" r=\"23\" fill=\"#00a9ad\" fill-rule=\"evenodd\" fill-opacity=\"1\" stroke=\"#000000\" stroke-opacity=\"1\" stroke-width=\"5.12\"/>\n",
       "<path clip-path=\"url(#clip170)\" d=\"M496.102 1315.34 L489.759 1332.54 L502.467 1332.54 L496.102 1315.34 M493.463 1310.74 L498.764 1310.74 L511.935 1345.3 L507.074 1345.3 L503.926 1336.43 L488.347 1336.43 L485.199 1345.3 L480.268 1345.3 L493.463 1310.74 Z\" fill=\"#000000\" fill-rule=\"evenodd\" fill-opacity=\"1\" /><path clip-path=\"url(#clip170)\" d=\"M516.449 1310.74 L521.148 1310.74 L521.148 1331.73 Q521.148 1337.29 523.162 1339.74 Q525.175 1342.17 529.689 1342.17 Q534.18 1342.17 536.194 1339.74 Q538.208 1337.29 538.208 1331.73 L538.208 1310.74 L542.907 1310.74 L542.907 1332.31 Q542.907 1339.07 539.55 1342.52 Q536.217 1345.97 529.689 1345.97 Q523.138 1345.97 519.782 1342.52 Q516.449 1339.07 516.449 1332.31 L516.449 1310.74 Z\" fill=\"#000000\" fill-rule=\"evenodd\" fill-opacity=\"1\" /><path clip-path=\"url(#clip170)\" d=\"M551.68 1310.74 L558.648 1310.74 L567.467 1334.25 L576.333 1310.74 L583.3 1310.74 L583.3 1345.3 L578.74 1345.3 L578.74 1314.95 L569.828 1338.65 L565.129 1338.65 L556.217 1314.95 L556.217 1345.3 L551.68 1345.3 L551.68 1310.74 Z\" fill=\"#000000\" fill-rule=\"evenodd\" fill-opacity=\"1\" /><path clip-path=\"url(#clip170)\" d=\"M592.583 1310.74 L612.444 1310.74 L612.444 1314.67 L597.258 1314.67 L597.258 1324.86 L610.962 1324.86 L610.962 1328.79 L597.258 1328.79 L597.258 1345.3 L592.583 1345.3 L592.583 1310.74 Z\" fill=\"#000000\" fill-rule=\"evenodd\" fill-opacity=\"1\" /></svg>\n"
      ]
     },
     "execution_count": 57,
     "metadata": {},
     "output_type": "execute_result"
    }
   ],
   "source": [
    "#AUROC curves\n",
    "\n",
    "T = Int(T)\n",
    "AU_curve=zeros(T)\n",
    "AU_sib=zeros(T)\n",
    "AU_MF=zeros(T)\n",
    "AU_french = zeros(T)\n",
    "AU_soft = zeros(T)\n",
    "AU_MH = zeros(T)\n",
    "for t = 1:T\n",
    "    cau_risk=zeros(N)\n",
    "    sib_risk = zeros(N)\n",
    "    MF_risk = zeros(N)\n",
    "    french_risk = zeros(N)\n",
    "    MH_risk = zeros(N)\n",
    "    soft_risk = zeros(N)\n",
    "    for i=1:N\n",
    "       cau_risk[i] = marginal(i,t,statscau)\n",
    "       french_risk[i] = marginal(i,t,statsfre)\n",
    "       MH_risk[i] = marginal(i,t,stats_mh)\n",
    "       sib_risk[i] = p_sib[i,Int(round(t/dt))]\n",
    "        MF_risk[i] = p_MF[i,Int(round(t/dt))]\n",
    "       soft_risk[i] = reweighted_marginal(i, t*T/bins, stats, weights)\n",
    "    end\n",
    "    xt = xtrue .< t\n",
    "    AU_soft[t] = AUROC(ROC(xt, soft_risk))\n",
    "    AU_curve[t] = AUROC(ROC(xt, cau_risk))\n",
    "    AU_french[t] = AUROC(ROC(xt, french_risk))\n",
    "    AU_MH[t] = AUROC(ROC(xt, MH_risk))\n",
    "    AU_sib[t] = AUROC(ROC(xt, sib_risk))\n",
    "    AU_MF[t] = AUROC(ROC(xt, MF_risk))\n",
    "end\n",
    "\n",
    "plot(LinRange(1,T,T),AU_curve, label=\"AUCau\", title=\"Causality VS Sib AUROC in function of time\")\n",
    "scatter!(LinRange(1,T,T),AU_soft, label=\"AUSoft\",legend=:bottomleft)\n",
    "plot!(LinRange(1,T,T),AU_french, label=\"AUFrench\")\n",
    "scatter!(LinRange(1,T,T),AU_MH, label=\"AUMH\")\n",
    "scatter!(LinRange(1,T,T), AU_sib, label=\"AUsib\")\n",
    "scatter!(LinRange(1,T,T), AU_MF, label=\"AUMF\")\n",
    "xlabel!(\"t\")\n",
    "ylabel!(\"AUROC\")\n",
    "savefig(\"confronti.pdf\")\n",
    "ylims!(0.5,1.01)"
   ]
  },
  {
   "cell_type": "markdown",
   "metadata": {},
   "source": [
    "## Final state correlations\n",
    "Causality can not reproduce negative correlations in its actual form. Let us see if they are important or not.\n",
    "We will use MC or SoftMarg in order to study them. These methods are not exact, yet they should provide at least a qualitative scheme on the correlations."
   ]
  },
  {
   "cell_type": "code",
   "execution_count": null,
   "metadata": {},
   "outputs": [],
   "source": [
    "weights ./= maximum(weights)\n",
    "norm = sum(weights)\n",
    "xTsoft = (stats .< T ) .* 2 .- 1\n",
    "corr = 0\n",
    "for i = 1:N\n",
    "    for j=1:i\n",
    "        corr += sum(xTsoft[:,i] .* xTsoft[:,j] .* weights )/norm  - sum(xTsoft[:,i] .* weights )/norm * sum(xTsoft[:,j] .* weights ) /norm \n",
    "    end\n",
    "end\n",
    "corr\n"
   ]
  }
 ],
 "metadata": {
  "kernelspec": {
   "display_name": "Julia 1.7.0-rc2",
   "language": "julia",
   "name": "julia-1.7"
  },
  "language_info": {
   "file_extension": ".jl",
   "mimetype": "application/julia",
   "name": "julia",
   "version": "1.7.0"
  }
 },
 "nbformat": 4,
 "nbformat_minor": 4
}
