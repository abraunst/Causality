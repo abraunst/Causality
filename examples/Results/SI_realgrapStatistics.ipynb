{
 "cells": [
  {
   "cell_type": "code",
   "execution_count": null,
   "metadata": {},
   "outputs": [],
   "source": [
    "using SparseArrays, LinearAlgebra, DelimitedFiles, IndexedGraphs, Plots\n",
    "using IntervalUnionArithmetic\n",
    "using ProgressMeter\n",
    "#using Pkg\n",
    "#Pkg.activate(\"../\")\n",
    "using Causality\n",
    "using Graphs\n",
    "using Dictionaries"
   ]
  },
  {
   "cell_type": "markdown",
   "metadata": {},
   "source": [
    "# Generation of Epidemics"
   ]
  },
  {
   "cell_type": "code",
   "execution_count": null,
   "metadata": {},
   "outputs": [],
   "source": [
    "DS=readdlm(\"./RealGraph/detailed_list_of_contacts_Hospital.dat_\");\n",
    "timescale = 20000\n",
    "\n",
    "\n",
    "#DS=readdlm(\"./tij_SFHH.dat_\");\n",
    "#timescale = 7000;"
   ]
  },
  {
   "cell_type": "code",
   "execution_count": null,
   "metadata": {},
   "outputs": [],
   "source": [
    "DS[:,1] ./= timescale\n",
    "nodes = unique(DS[:,[2,3]])\n",
    "T = Float64(maximum(DS[:,1]))\n",
    "N = length(nodes)\n",
    "G = SimpleGraph(N)\n",
    "id = Dictionary(nodes, [i for i = 1:N]); \n",
    "for st = 1:size(DS,1)\n",
    "    add_edge!(G,id[DS[st,2]],id[DS[st,3]]) \n",
    "end\n",
    "jobs = Dictionary([i for i = 1:N],(unique([unique(DS[:,[2,4]], dims=1) ; unique(DS[:,[3,5]], dims=1)],dims=1))[:,2])\n",
    "G = IndexedBiDiGraph(G)"
   ]
  },
  {
   "cell_type": "code",
   "execution_count": null,
   "metadata": {},
   "outputs": [],
   "source": [
    "contacts = Dictionary([(i,j) for i=1:N for j=1:N if sparse(G)[i,j] != 0 ] ,[i for i = 1:nnz(G.A)])\n",
    "meet_time=20/timescale\n",
    "masks = [intervalUnion(∅) for g=1:nnz(G.A)]\n",
    "for st = 1:size(DS,1)\n",
    "    masks[contacts[(id[DS[st,2]],id[DS[st,3]])]] = masks[contacts[(id[DS[st,2]],id[DS[st,3]])]] ∪ intervalUnion(DS[st,1]-meet_time,DS[st,1])\n",
    "    #symmetrization\n",
    "    masks[contacts[(id[DS[st,3]],id[DS[st,2]])]] = masks[contacts[(id[DS[st,3]],id[DS[st,2]])]] ∪ intervalUnion(DS[st,1]-meet_time,DS[st,1])\n",
    "end\n",
    "V = [MaskedRate(UnitRate(),mask) for mask in masks];"
   ]
  },
  {
   "cell_type": "code",
   "execution_count": null,
   "metadata": {},
   "outputs": [],
   "source": [
    "exposuretime = [(sum(DS[:,2] .== j) + sum(DS[:,3] .== j)) * meet_time for j in id.indices]\n",
    "scatter([i for i = 1:N if jobs[i] == \"MED\"],[exposuretime[i] for i = 1:N if jobs[i] == \"MED\"],label = \"MED\",title=\"Total exposure time for each individual\")\n",
    "scatter!([i for i = 1:N if jobs[i] == \"ADM\"],[exposuretime[i] for i = 1:N if jobs[i] == \"ADM\"], label = \"ADM\",xlabel=\"ID number\")\n",
    "scatter!([i for i = 1:N if jobs[i] == \"NUR\"],[exposuretime[i] for i = 1:N if jobs[i] == \"NUR\"], label = \"NUR\",ylabel = \"time\")\n",
    "scatter!([i for i = 1:N if jobs[i] == \"PAT\"],[exposuretime[i] for i = 1:N if jobs[i] == \"PAT\"], label = \"PAT\")\n",
    "#savefig(\"HospitalStudy\")"
   ]
  },
  {
   "cell_type": "code",
   "execution_count": null,
   "metadata": {},
   "outputs": [],
   "source": [
    "getpar(pseed,autoinf::GaussianRate,inf_in::GaussianRate) = \n",
    "    [fill(pseed, 1, N);\n",
    "     fill(autoinf.a, 1, N); fill(autoinf.b, 1, N); fill(autoinf.c, 1, N);\n",
    "     fill(inf_in.a,   1, N); fill(inf_in.b, 1, N); fill(inf_in.c, 1, N);\n",
    "    ]\n",
    "\n",
    "getpargen(pseed, autoinf::GaussianRate, inf_out::GaussianRate) = \n",
    "    [pseed autoinf.a autoinf.b autoinf.c inf_out.a inf_out.b inf_out.c]\n"
   ]
  },
  {
   "cell_type": "code",
   "execution_count": null,
   "metadata": {},
   "outputs": [],
   "source": [
    "#Initialize generation parameters\n",
    "ε = 1e-10\n",
    "λ = 0.05 / 20 * timescale\n",
    "pseed = 1/N\n",
    "autoinf = GaussianRate(0.01, T/2, 1/ε)\n",
    "inf_in = GaussianRate(1.0, T/2, 1/ε)\n",
    "inf_out = GaussianRate(λ, 2., 1.)\n",
    "\n",
    "θp = getpar(pseed, autoinf, inf_in);\n",
    "θpgen = getpargen(pseed, autoinf, inf_out);"
   ]
  },
  {
   "cell_type": "code",
   "execution_count": null,
   "metadata": {},
   "outputs": [],
   "source": [
    "#Initialize min/max boundaies\n",
    "pseed_min = ε\n",
    "pseed_max = 1-ε\n",
    "rate_min = GaussianRate(ε  ,  -T,   ε)\n",
    "rate_max = GaussianRate(1/ε  ,  2T,   1/ε)\n",
    "\n",
    "θmin = getpar(pseed_min , rate_min, rate_min);\n",
    "θmax = getpar(pseed_max , rate_max, rate_max);\n",
    "\n",
    "rate_min = GaussianRate(ε  ,  -T,   ε)\n",
    "rate_max = GaussianRate(1/ε  ,  T,   T)\n",
    "\n",
    "θgenmin = getpargen(pseed_min, rate_min, rate_min);\n",
    "θgenmax = getpargen(pseed_max, rate_max, rate_max);"
   ]
  },
  {
   "cell_type": "code",
   "execution_count": null,
   "metadata": {},
   "outputs": [],
   "source": [
    "const Igen = GenerativeSI{GaussianRate,GaussianRate} \n",
    "const Igauss = GaussianInferentialSI"
   ]
  },
  {
   "cell_type": "code",
   "execution_count": null,
   "metadata": {},
   "outputs": [],
   "source": [
    "Mp = StochasticModel(Igen, T, θp, G, θpgen,V);\n",
    "sample! = Sampler(Mp);\n",
    "xtrue = zeros(N)\n",
    "sample!(xtrue)\n",
    "println(sum(xtrue .< T)/N)\n",
    "scatter(xtrue)"
   ]
  },
  {
   "cell_type": "code",
   "execution_count": null,
   "metadata": {},
   "outputs": [],
   "source": [
    "function Cau_infereSI(G, V, N, T, pseed, autoinf, inf_out; ε=1e-10)\n",
    "    pseed_min = ε\n",
    "    pseed_max = 1-ε\n",
    "    rate_min = GaussianRate(ε  ,  -T,   ε)\n",
    "    rate_max = GaussianRate(1/ε  ,  2T,   1/ε)\n",
    "\n",
    "    θmin = getpar(pseed_min , rate_min, rate_min);\n",
    "    θmax = getpar(pseed_max , rate_max, rate_max);\n",
    "\n",
    "    rate_min = GaussianRate(ε  ,  -T,   ε)\n",
    "    rate_max = GaussianRate(1/ε  ,  T,   T)\n",
    "\n",
    "    θgenmin = getpargen(pseed_min, rate_min, rate_min);\n",
    "    θgenmax = getpargen(pseed_max, rate_max, rate_max);\n",
    "    \n",
    "    const Igen = GenerativeSI{GaussianRate,GaussianRate} \n",
    "    const Igauss = GaussianInferentialSI\n",
    "    \n",
    "    θp2gen = getpargen(pseed, autoinf, inf_out);\n",
    "    inf_in = GaussianRate(1., T/2, 3*T );\n",
    "    θp2 = getpar(pseed, autoinf, inf_in);\n",
    "    Mp2 = StochasticModel(Igen, T, θp2, G, θp2gen, V);\n",
    "    θ = getpar(pseed, autoinf, inf_in);\n",
    "    M = StochasticModel(Igauss, T, θ, G, θp2gen, V);    \n",
    "    \n",
    "    ProgressMeter.ijulia_behavior(:clear)\n",
    "    F = descend!(Mp2, Ofalse; M=M, numsamples=1000, numiters=100, \n",
    "         θmin=θmin, θmax=θmax,θgenmin=θgenmin, θgenmax=θgenmax, descender=SignDescender(0.1),\n",
    "         hyperdescender=SignDescender(0.));\n",
    "    F = descend!(Mp2, Ofalse; M=M, numsamples=1000, numiters=100, \n",
    "         θmin=θmin, θmax=θmax,θgenmin=θgenmin, θgenmax=θgenmax, descender=SignDescender(0.03),\n",
    "         hyperdescender=SignDescender(0.));\n",
    "    statscau = prior(M, numsamples=10000);\n",
    "    return statscau\n",
    "end"
   ]
  },
  {
   "cell_type": "code",
   "execution_count": 17,
   "metadata": {},
   "outputs": [],
   "source": [
    "nobs_max, p = 300, 1e-5\n",
    "O = [(i = rand(1:N) ; ti = T*(0.2+rand())/1.2; (i,xtrue[i] < ti,ti,p)) for l=1:nobs_max]\n",
    "f_rate = 1e-5\n",
    "Ofalse=[rand()< f_rate ? (o[1],!o[2],o[3],f_rate) : (o[1],o[2],o[3],f_rate) for o in O]\n",
    "Oav = []\n",
    "for nobs in (10, 25, 40, 80, 160, 300)\n",
    "    Oav = Ofalse[1:nobs]\n",
    "    θp2gen = getpargen(pseed, autoinf, inf_out);\n",
    "    inf_in = GaussianRate(1., T/2, 3*T );\n",
    "    θp2 = getpar(pseed, autoinf, inf_in);\n",
    "    Mp2 = StochasticModel(Igen, T, θp2, G, θp2gen, V);\n",
    "    θ = getpar(pseed, autoinf, inf_in);\n",
    "    M = StochasticModel(Igauss, T, θ, G, θp2gen, V);\n",
    "end"
   ]
  },
  {
   "cell_type": "code",
   "execution_count": 12,
   "metadata": {},
   "outputs": [],
   "source": [
    "#Softened model\n",
    "θp2gen = getpargen(pseed, autoinf, inf_out);\n",
    "inf_in = GaussianRate(1., T/2, 3*T );\n",
    "\n",
    "θp2 = getpar(pseed, autoinf, inf_in);\n",
    "Mp2 = StochasticModel(Igen, T, θp2, G, θp2gen, V);"
   ]
  },
  {
   "cell_type": "markdown",
   "metadata": {},
   "source": [
    "## Causality "
   ]
  },
  {
   "cell_type": "raw",
   "metadata": {
    "jupyter": {
     "outputs_hidden": true
    }
   },
   "source": [
    "# tecnica in cui metto un'osservazione alla volta\n",
    "for i=1:Int(round(nobs/10))\n",
    "    F = descend!(Mp2, Ofalse[1:Int(10*i)]; M=M, numsamples=1000, numiters=10, \n",
    "         θmin=θmin, θmax=θmax,θgenmin=θgenmin, θgenmax=θgenmax, descender=SignDescender(0.1),\n",
    "         hyperdescender=SignDescender(0.));\n",
    "end\n",
    "F = descend!(Mp2, Ofalse; M=M, numsamples=1000, numiters=100, \n",
    "         θmin=θmin, θmax=θmax,θgenmin=θgenmin, θgenmax=θgenmax, descender=SignDescender(0.03),\n",
    "         hyperdescender=SignDescender(0.));"
   ]
  },
  {
   "cell_type": "code",
   "execution_count": 13,
   "metadata": {},
   "outputs": [],
   "source": [
    "θ = getpar(pseed, autoinf, inf_in);\n",
    "M = StochasticModel(Igauss, T, θ, G, θp2gen, V);"
   ]
  },
  {
   "cell_type": "code",
   "execution_count": null,
   "metadata": {},
   "outputs": [
    {
     "name": "stderr",
     "output_type": "stream",
     "text": [
      "\u001b[32mProgress:  88%|████████████████████████████████████▏    |  ETA: 0:00:24\u001b[39m\n",
      "\u001b[34m  F:  113.20165281224237\u001b[39m"
     ]
    }
   ],
   "source": [
    "\n",
    "ProgressMeter.ijulia_behavior(:clear)\n",
    "F = descend!(Mp2, Ofalse; M=M, numsamples=1000, numiters=100, \n",
    "         θmin=θmin, θmax=θmax,θgenmin=θgenmin, θgenmax=θgenmax, descender=SignDescender(0.1),\n",
    "         hyperdescender=SignDescender(0.));\n",
    "F = descend!(Mp2, Ofalse; M=M, numsamples=1000, numiters=100, \n",
    "         θmin=θmin, θmax=θmax,θgenmin=θgenmin, θgenmax=θgenmax, descender=SignDescender(0.03),\n",
    "         hyperdescender=SignDescender(0.));"
   ]
  },
  {
   "cell_type": "code",
   "execution_count": null,
   "metadata": {},
   "outputs": [],
   "source": [
    "statscau = prior(M, numsamples=10000);"
   ]
  },
  {
   "cell_type": "markdown",
   "metadata": {},
   "source": [
    "## SoftMarg"
   ]
  },
  {
   "cell_type": "code",
   "execution_count": null,
   "metadata": {},
   "outputs": [],
   "source": [
    "stats,weights_soft = softpostnoise(Mp, Ofalse; numsamples=2 * 10^5);"
   ]
  },
  {
   "cell_type": "markdown",
   "metadata": {},
   "source": [
    "## Sib"
   ]
  },
  {
   "cell_type": "code",
   "execution_count": null,
   "metadata": {},
   "outputs": [],
   "source": [
    "using PyCall\n",
    "@pyimport sib\n",
    "function NonMarkovDynamicSibyl(N, T_cont, Λ, V, a, b, c, O, γ; n_steps=20, maxit = 400, tol = 1e-14)\n",
    "    dt = T_cont / n_steps\n",
    "    T = Int(round(T_cont / dt))\n",
    "    @show T n_steps\n",
    "    i = findnz(G.A)[1]\n",
    "    j = findnz(G.A)[2]    \n",
    "    contacts = [(i[a]-1, j[a]-1, t, 1.) for t in 1:T for a = 1:nnz(Λ.A) if (t * dt) in V[a].mask];\n",
    "    obs = [[(i,-1,t) for t=1:T for i=0:N-1];\n",
    "           [(i-1,s,Int(round(t/dt))) for (i,s,t,p) in O]]\n",
    "    sort!(obs, lt=((i1,s1,t1),(i2,s2,t2))->(t1<t2))\n",
    "    prob_sus = 0.5\n",
    "    prob_seed=γ\n",
    "    pseed = prob_seed / (2 - prob_seed)\n",
    "    psus = prob_sus * (1 - pseed)\n",
    "    g = sib.PiecewiseLinear(pycall(sib.RealParams, PyObject, [a*exp(-((t-b)/c)^2) * dt for t =1:T]))\n",
    "    params = sib.Params(prob_r=sib.Exponential(mu=0), pseed=pseed, psus=psus,pautoinf=autoinf.a*dt,fp_rate=f_rate,fn_rate=f_rate, prob_i = g)\n",
    "    f = sib.FactorGraph(contacts=contacts, observations=obs, params=params)\n",
    "    sib.iterate(f, maxit=maxit,tol=tol)\n",
    "    sib.iterate(f, maxit=maxit, damping=0.5, tol=tol)\n",
    "    sib.iterate(f, maxit=maxit, damping=0.9, tol=tol)\n",
    "    p_sib=[collect(n.bt) for n in f.nodes]\n",
    "    m_sib = zeros(N, T)\n",
    "    for i=1:N\n",
    "        m_sib[i,1] = p_sib[i][1] \n",
    "        for t=2:T\n",
    "            m_sib[i,t] = m_sib[i,t-1] + p_sib[i][t]\n",
    "        end\n",
    "    end \n",
    "    return m_sib\n",
    "end"
   ]
  },
  {
   "cell_type": "code",
   "execution_count": null,
   "metadata": {},
   "outputs": [],
   "source": [
    "a=time()\n",
    "nsteps_sib = 2100\n",
    "p_sib = NonMarkovDynamicSibyl(N, T, G, V, inf_out.a, inf_out.b, inf_out.c, Ofalse, 1/N; n_steps=nsteps_sib, maxit = 40, tol = 1e-4);\n",
    "b=time()\n",
    "println(b-a)"
   ]
  },
  {
   "cell_type": "markdown",
   "metadata": {},
   "source": [
    "# Heuristic\n",
    "Causality version"
   ]
  },
  {
   "cell_type": "code",
   "execution_count": null,
   "metadata": {},
   "outputs": [],
   "source": [
    "using IntervalUnionArithmetic\n",
    "T = Float64(T)\n",
    "struct HeuristicSI <: SI end\n",
    "maskauto = fill(intervalUnion(0., T),N)\n",
    "maskinf = fill(intervalUnion(0., T),N)\n",
    "θfrench = getpar(pseed, autoinf, inf_in);\n",
    "Causality.individual(M::StochasticModel{HeuristicSI}, i::Int, θi = @view(M.θ[:,i]), θg = M.θgen ) = \n",
    "@views IndividualSI(θi[1], \n",
    "    MaskedRate(GaussianRate(θi[2:4]...),maskauto[i]), \n",
    "    MaskedRate(UnitRate(),maskinf[i]), \n",
    "    GaussianRate(θg[5:7]...),)\n",
    "\n",
    "inf_start_time = T * ones(N)\n",
    "for o in Ofalse\n",
    "    if o[2] == 1\n",
    "        inf_start_time[o[1]] = min(inf_start_time[o[1]], o[3] - 5)\n",
    "        maskauto[o[1]] = maskauto[o[1]] ∩ intervalUnion(o[3]-5, T)       \n",
    "        θfrench[2,o[1]] = 10^10\n",
    "        θfrench[3,o[1]] = o[3] - 5\n",
    "        θfrench[4,o[1]] = 100 * T\n",
    "    elseif o[2] == 0\n",
    "        maskinf[o[1]] = maskinf[o[1]] ∩ intervalUnion(o[3], T)\n",
    "        maskauto[o[1]] = maskauto[o[1]] ∩ intervalUnion(o[3], T)\n",
    "        θfrench[1,o[1]] = 1e-10\n",
    "    end\n",
    "end\n",
    "for i=1:N\n",
    "    if inf_start_time[i] != T \n",
    "        maskauto[i] = maskauto[i] ∩ intervalUnion(inf_start_time[i], T)\n",
    "    end\n",
    "end\n",
    "\n",
    "Mfrench = StochasticModel(HeuristicSI, T, θfrench, G, θp2gen, V);\n",
    "statsfre = prior(Mfrench,numsamples=1000);"
   ]
  },
  {
   "cell_type": "markdown",
   "metadata": {},
   "source": [
    "## Metropolis Monte Carlo"
   ]
  },
  {
   "cell_type": "code",
   "execution_count": null,
   "metadata": {},
   "outputs": [],
   "source": [
    "K = Causality.GaussMove(2.)\n",
    "#stats_mh = Causality.metropolis_sampling_parallel(Mp, O, K; numsamples = 10^3,numsteps=10^3)\n",
    "xmc = zeros(N)\n",
    "sample!(xmc)\n",
    "Mmc = StochasticModel(Igen, T, θp, G, θpgen,V);\n",
    "stats_mh = Causality.metropolis_sampling_sequential(Mp, Ofalse, K; numsamples = 6 * 10^4,numsteps= 2, x = xmc);"
   ]
  },
  {
   "cell_type": "markdown",
   "metadata": {},
   "source": [
    "## Marginals and ROC curve"
   ]
  },
  {
   "cell_type": "code",
   "execution_count": null,
   "metadata": {},
   "outputs": [],
   "source": [
    "function marginal(i, t, stats)\n",
    "    numsamp = size(stats,1)\n",
    "    sum(stats[:,i] .< t)/numsamp\n",
    "end\n",
    "\n",
    "function reweighted_marginal(i, t, stats, weights)\n",
    "    numsamp = size(stats,1)\n",
    "    @assert numsamp == size(weights,1)\n",
    "    weights ./= maximum(weights)\n",
    "    sum(weights .* (stats[:,i] .< t))/sum(weights)\n",
    "end\n",
    "\n",
    "\n",
    "function tpr(xtrue, rank) \n",
    "    if sum(xtrue) == 0\n",
    "        return ones(N)\n",
    "    end\n",
    "    return cumsum(xtrue[rank]) ./ sum(xtrue)\n",
    "end\n",
    "\n",
    "function fpr(xtrue, rank) \n",
    "    N = size(rank,1)\n",
    "    if sum(xtrue) == N\n",
    "       a = zeros(N) \n",
    "       a[N] = 1\n",
    "       return a \n",
    "    end    \n",
    "    return (range(1,N,length=N) .- cumsum(xtrue[rank])) ./ (range(1,N,length=N) .- cumsum(xtrue[rank]) )[end]\n",
    "end\n",
    "\n",
    "function ROC(xtrue, p)\n",
    "    N = size(xtrue,1)\n",
    "    rank = sortperm(p, rev=true)\n",
    "    \n",
    "    return fpr(xtrue, rank) , tpr(xtrue, rank)\n",
    "end\n",
    "\n",
    "function AUROC(ROC)\n",
    "    N = size(ROC[1],1) \n",
    "    AU = 0\n",
    "    for t = 1:N-1\n",
    "        AU += ROC[2][t] * (ROC[1][t+1] - ROC[1][t])\n",
    "    end\n",
    "    return AU\n",
    "end"
   ]
  },
  {
   "cell_type": "code",
   "execution_count": null,
   "metadata": {},
   "outputs": [],
   "source": [
    "#Marginals\n",
    "bins = 20\n",
    "using Plots\n",
    "p_cau = zeros(N,bins)\n",
    "p_french = zeros(N,bins)\n",
    "p_mh = zeros(N,bins)\n",
    "p_soft = zeros(N,bins)\n",
    "for i = 1:N\n",
    "    for t = 1:bins\n",
    "       p_cau[i,t] = marginal(i, t*T/bins, statscau)\n",
    "       p_french[i,t] = marginal(i, t*T/bins, statsfre)\n",
    "       p_mh[i,t] = marginal(i, t*T/bins, stats_mh)\n",
    "       p_soft[i,t] = reweighted_marginal(i, t*T/bins, stats, weights_soft)\n",
    "    end\n",
    "end"
   ]
  },
  {
   "cell_type": "code",
   "execution_count": null,
   "metadata": {},
   "outputs": [],
   "source": [
    "i = 1\n",
    "round(T)\n",
    "plot(LinRange(1,T,bins),p_cau[i,:], label = \"cau\", legend=:right)\n",
    "plot!(LinRange(1,T,bins),p_french[i,:], label = \"french\")\n",
    "plot!(LinRange(1,T,bins),p_soft[i,:], label = \"soft\")\n",
    "plot!(LinRange(1,T,bins),p_mh[i,:], label = \"MH\")\n",
    "plot!(LinRange(1,T,nsteps_sib),p_sib[i,:], label = \"sib\")"
   ]
  },
  {
   "cell_type": "code",
   "execution_count": null,
   "metadata": {},
   "outputs": [],
   "source": [
    "#AUROC curves\n",
    "AU_curve=zeros(bins)\n",
    "AU_sib=zeros(bins)\n",
    "AU_french = zeros(bins)\n",
    "AU_soft = zeros(bins)\n",
    "AU_MH = zeros(bins)\n",
    "for t = 1:bins\n",
    "    cau_risk=zeros(N)\n",
    "    sib_risk = zeros(N)\n",
    "    french_risk = zeros(N)\n",
    "    MH_risk = zeros(N)\n",
    "    soft_risk = zeros(N)\n",
    "    for i=1:N\n",
    "       cau_risk[i] = p_cau[i,t]\n",
    "       french_risk[i] = p_french[i,t]\n",
    "       MH_risk[i] = p_mh[i,t]\n",
    "       sib_risk[i] = p_sib[i,Int(round(t/bins*nsteps_sib))]\n",
    "       soft_risk[i] = p_soft[i,t]\n",
    "    end\n",
    "    xt = xtrue .< t * T / bins\n",
    "    AU_soft[t] = AUROC(ROC(xt, soft_risk))\n",
    "    AU_curve[t] = AUROC(ROC(xt, cau_risk))\n",
    "    AU_french[t] = AUROC(ROC(xt, french_risk))\n",
    "    AU_MH[t] = AUROC(ROC(xt, MH_risk))\n",
    "    AU_sib[t] = AUROC(ROC(xt, sib_risk))\n",
    "end\n",
    "\n",
    "plot(LinRange(1,T,bins),AU_curve, label=\"AUCau\", title=\"Causality VS Sib AUROC in function of time\")\n",
    "scatter!(LinRange(1,T,bins),AU_soft, label=\"AUSoft\",legend=:bottomleft)\n",
    "scatter!(LinRange(1,T,bins),AU_french, label=\"AUFrench\")\n",
    "scatter!(LinRange(1,T,bins),AU_MH, label=\"AUMH\")\n",
    "scatter!(LinRange(1,T,bins), AU_sib, label=\"AUsib\")\n",
    "xlabel!(\"t\")\n",
    "ylabel!(\"AUROC\")\n",
    "#savefig(\"confronti.pdf\")\n",
    "#ylims!(0.5,1.01)"
   ]
  },
  {
   "cell_type": "code",
   "execution_count": 82,
   "metadata": {},
   "outputs": [
    {
     "data": {
      "text/plain": [
       "1"
      ]
     },
     "execution_count": 82,
     "metadata": {},
     "output_type": "execute_result"
    }
   ],
   "source": [
    "trial = 1"
   ]
  },
  {
   "cell_type": "code",
   "execution_count": 83,
   "metadata": {},
   "outputs": [],
   "source": [
    "open(\"./RealGraph/try$(trial)nobs$(nobs)cau.txt\",\"a\") do io\n",
    "    writedlm(io,AU_curve') \n",
    "end\n",
    "open(\"./RealGraph/try$(trial)nobs$(nobs)sib.txt\",\"a\") do io\n",
    "    writedlm(io,AU_sib')  \n",
    "end\n",
    "open(\"./RealGraph/try$(trial)nobs$(nobs)fre.txt\",\"a\") do io\n",
    "    writedlm(io,AU_french') \n",
    "end\n",
    "open(\"./RealGraph/try$(trial)nobs$(nobs)mc.txt\",\"a\") do io\n",
    "    writedlm(io,AU_MH') \n",
    "end\n",
    "open(\"./RealGraph/try$(trial)nobs$(nobs)soft.txt\",\"a\") do io\n",
    "    writedlm(io,AU_soft') \n",
    "end"
   ]
  },
  {
   "cell_type": "code",
   "execution_count": null,
   "metadata": {},
   "outputs": [],
   "source": []
  }
 ],
 "metadata": {
  "kernelspec": {
   "display_name": "Julia 1.7.0-rc2",
   "language": "julia",
   "name": "julia-1.7"
  },
  "language_info": {
   "file_extension": ".jl",
   "mimetype": "application/julia",
   "name": "julia",
   "version": "1.7.0"
  }
 },
 "nbformat": 4,
 "nbformat_minor": 4
}
