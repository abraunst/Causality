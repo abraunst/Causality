{
 "cells": [
  {
   "cell_type": "code",
   "execution_count": 1,
   "metadata": {},
   "outputs": [],
   "source": [
    "using SparseArrays, LinearAlgebra, DelimitedFiles, IndexedGraphs, Plots\n",
    "using IntervalUnionArithmetic\n",
    "using ProgressMeter\n",
    "#using Pkg\n",
    "#Pkg.activate(\"../\")\n",
    "using Causality\n",
    "using Graphs\n",
    "using Dictionaries"
   ]
  },
  {
   "cell_type": "markdown",
   "metadata": {},
   "source": [
    "# Generation of Epidemics (REAL Graph)"
   ]
  },
  {
   "cell_type": "code",
   "execution_count": null,
   "metadata": {},
   "outputs": [],
   "source": [
    "#=DS=readdlm(\"./RealGraph/High-School_data_2013.csv\");\n",
    "DS[:,1] .-= minimum(DS[:,1])\n",
    "timescale = maximum(DS[:,1])/20\n",
    "DS[:,1] ./= timescale=#\n",
    "\n",
    "\n",
    "DS=readdlm(\"./RealGraph/detailed_list_of_contacts_Hospital.dat_\");\n",
    "timescale = 20000 \n",
    "DS[:,1] ./= timescale\n",
    "\n",
    "#DS=readdlm(\"./tij_SFHH.dat_\");\n",
    "#timescale = 7000;"
   ]
  },
  {
   "cell_type": "code",
   "execution_count": 6,
   "metadata": {},
   "outputs": [
    {
     "data": {
      "text/plain": [
       "{75, 2278} directed sparse Int64 graph\n",
       "⣮⡻⠾⡇⠯⣽⠿⢿⣿⢭⠻⢿⠀⠹⠿⠿⠿⠌⠿⢿⠠⠨⠹⠛⠏⡿⠏⠇⠀⠐⠘⠬⢬⠔⠠⠷⠋⠅\n",
       "⠾⠧⡮⡫⡿⣿⣿⠾⠾⣾⡤⢴⠐⡲⢿⠷⠶⢾⠿⠿⠶⠀⡶⢿⠜⠴⡷⠆⠆⠲⠤⠲⠴⡇⡢⠶⠆⠄\n",
       "⣏⣧⣿⣯⣎⡹⣿⡿⢭⣯⣹⣽⠀⣼⣽⣭⣭⠭⣍⣯⣉⣈⣙⣸⠠⣹⣿⣃⣄⣘⠉⡱⢋⣥⡌⢟⡁⠄\n",
       "⣿⣇⣻⡟⣿⡿⣮⡻⡴⣗⢇⣞⠄⢸⣿⡇⣄⠚⣞⣿⣶⣗⣿⣨⣈⢼⡛⠇⡍⢌⠀⢠⢑⡆⠀⡿⠇⡄\n",
       "⡟⣟⣺⣧⡧⣷⢴⢯⢮⡳⣾⢳⠀⣴⣳⡗⢺⢄⣻⣴⣲⣗⣲⢂⢡⣯⡅⠄⠤⢠⠑⣤⢴⣤⠐⠀⠤⠄\n",
       "⣿⣆⢀⣏⣗⣾⣩⢵⢾⣛⢀⡰⣀⢰⣲⣆⣴⢄⣼⡓⠩⠎⠩⠀⡆⢶⢖⣅⢉⠸⠀⢑⠪⡀⠀⢜⠅⠀\n",
       "⣄⡀⢰⡠⣀⣤⣀⣁⢀⣤⢀⣘⠮⠃⣤⣄⣀⣀⣀⢀⣛⣘⣛⣸⣀⣀⣃⡀⡀⣀⠀⣀⣘⣓⡓⡀⡀⠀\n",
       "⣿⡇⢿⡗⡗⣿⠿⠿⢽⠾⠸⢾⠀⢿⣮⡻⡿⠝⡿⢿⣿⡍⣽⣿⠾⢿⠷⡆⠂⠀⢈⠰⠾⠟⠯⡦⠶⠂\n",
       "⡛⠇⣸⣇⡇⡟⣠⠙⠚⢖⠐⢟⠀⢸⣟⠏⡊⠈⡗⠈⠹⠋⠉⠛⠒⢚⠒⡀⠀⠐⠐⠚⠀⠁⠀⢁⠐⠀\n",
       "⣿⣇⣿⡇⡧⣽⣾⣽⢛⣾⢶⠻⠀⢘⣿⣏⡙⠉⣮⡻⣜⣩⣭⢯⢚⢚⡷⣆⣆⣠⠂⣆⢬⡄⠀⢦⢢⠀\n",
       "⡀⡂⠘⠃⡃⢸⢼⢿⢼⢾⡣⠆⣛⢸⡟⠿⡷⠂⡖⣹⠊⠀⠀⠀⠀⢸⠀⠠⢀⢀⠀⠀⠀⠀⠀⠀⠀⠀\n",
       "⣷⠂⣼⣏⣓⣸⡛⣻⠸⢚⠃⠂⣛⣸⣷⣿⣧⠀⡧⣟⠀⠀⠀⠀⡀⢺⠀⣼⢸⠀⠀⢠⠀⠀⠀⡀⠀⠂\n",
       "⣯⡥⢒⡅⣄⣢⣂⣜⡥⣶⢨⣍⠀⢸⣾⣇⣸⢀⣺⢐⣀⣀⣠⣈⠊⠀⣎⡒⠐⣀⡀⣹⡀⠀⠀⣩⣈⠀\n",
       "⠯⠅⠹⠏⠿⢻⠿⠌⠁⠍⠜⢵⠉⠸⠹⠧⠘⠠⠹⢯⠀⡀⣀⣤⢪⠹⣤⡻⣸⠀⠀⠘⠀⠀⠀⡄⡀⠀\n",
       "⢀⠀⢨⡁⣀⢹⡃⢍⠀⣃⣃⡐⠀⢨⠈⠀⢀⠀⠈⣹⠀⢐⠒⠒⠐⢠⠒⠚⢊⠐⠄⠢⠂⠀⠀⠂⢐⠀\n",
       "⡒⡄⢠⡃⢇⡠⠀⣀⠑⣤⢄⢀⠀⢠⢂⡐⣰⠀⠨⢤⠀⠀⠀⣀⣄⣨⣀⠀⠠⡁⠀⠀⡀⠀⠀⡐⠀⡀\n",
       "⢂⠗⠴⠧⠏⣴⠱⠴⠐⣷⠊⠢⢶⢸⣾⠇⠄⠀⠂⠷⠀⠀⠀⠀⠀⠈⠀⠀⠈⠀⠀⠈⠀⠀⠀⠀⠀⠀\n",
       "⢤⡆⢨⡎⣦⢍⣤⡤⠐⠀⣀⢄⠙⠨⠫⡧⠄⢀⠠⣄⠀⠀⠀⠠⡄⣠⠀⠤⠠⠀⢀⠠⠀⠀⠀⠀⠀⠀\n",
       "⠏⠄⠈⠅⠁⠌⠉⠥⠀⠇⠁⠁⠀⠈⠸⠃⠐⠀⠈⠒⠀⠀⠠⠀⠂⠘⠀⠈⠐⠐⠀⠠⠀⠀⠀⠀⠀⠀"
      ]
     },
     "execution_count": 6,
     "metadata": {},
     "output_type": "execute_result"
    }
   ],
   "source": [
    "nodes = unique(DS[:,[2,3]])\n",
    "T = Float64(maximum(DS[:,1]))\n",
    "N = length(nodes)\n",
    "G = SimpleGraph(N)\n",
    "id = Dictionary(nodes, [i for i = 1:N]); \n",
    "for st = 1:size(DS,1)\n",
    "    add_edge!(G,id[DS[st,2]],id[DS[st,3]]) \n",
    "end\n",
    "jobs = Dictionary([i for i = 1:N],(unique([unique(DS[:,[2,4]], dims=1) ; unique(DS[:,[3,5]], dims=1)],dims=1))[:,2])\n",
    "G = IndexedBiDiGraph(G)"
   ]
  },
  {
   "cell_type": "code",
   "execution_count": 7,
   "metadata": {},
   "outputs": [],
   "source": [
    "H = sparse(G)\n",
    "contacts = Dictionary([(i,j) for i=1:N for j=1:N if H[i,j] != 0 ] ,[i for i = 1:nnz(G.A)])\n",
    "meet_time=20/timescale\n",
    "masks = [intervalUnion(∅) for g=1:nnz(G.A)]\n",
    "for st = 1:size(DS,1)\n",
    "    masks[contacts[(id[DS[st,2]],id[DS[st,3]])]] = masks[contacts[(id[DS[st,2]],id[DS[st,3]])]] ∪ intervalUnion(DS[st,1]-meet_time,DS[st,1])\n",
    "    #symmetrization\n",
    "    masks[contacts[(id[DS[st,3]],id[DS[st,2]])]] = masks[contacts[(id[DS[st,3]],id[DS[st,2]])]] ∪ intervalUnion(DS[st,1]-meet_time,DS[st,1])\n",
    "end\n",
    "V = [MaskedRate(UnitRate(),mask) for mask in masks];"
   ]
  },
  {
   "cell_type": "markdown",
   "metadata": {},
   "source": [
    "# Generation of Epidemics (SIMULATED Graph)"
   ]
  },
  {
   "cell_type": "code",
   "execution_count": 2,
   "metadata": {},
   "outputs": [
    {
     "data": {
      "text/plain": [
       "1000×1000 SparseMatrixCSC{IndexedGraphs.NullNumber, Int64} with 6262 stored entries:\n",
       "⢔⡵⣬⣥⡯⢱⢖⡩⡗⠲⡦⣻⢨⢴⡕⣒⡪⣴⠵⡡⡧⣞⠶⣇⡳⣯⣫⠵⣷⠙⡻⡓⢪⣝⡷⢼⣿⣆⣾⡅\n",
       "⠆⣿⡥⡫⢶⠟⡝⣺⢾⡉⣩⡗⡒⣒⢲⢳⡿⡵⡲⡕⡷⣊⠋⣆⡞⠫⠽⠆⢴⣾⢵⡦⠸⣥⡏⢣⣏⡶⣯⡄\n",
       "⢏⣋⣼⠗⢎⣱⢋⣷⣼⢷⣽⣓⡚⣾⣻⣾⡬⢌⡿⣓⣗⢳⣖⢙⢣⣵⠮⡯⣿⠿⡱⡝⠽⢎⠯⣸⣝⡷⠬⢝\n",
       "⡜⡱⣳⣩⢯⣴⡠⡮⣞⠱⢣⣝⢲⡝⠭⡰⣏⣛⢽⢷⣫⣋⢺⡪⠷⢥⡓⣼⣜⠢⢷⣟⣗⣿⢹⣺⣗⢹⡱⣿\n",
       "⢹⡉⡞⠳⢶⣟⢞⡙⣤⣻⠖⡾⠑⢎⣗⡽⢻⠟⣶⡗⡏⢾⣗⢟⣍⢍⡵⣫⡼⢒⡟⡓⢉⢰⢽⠒⢿⠾⡯⢷\n",
       "⣬⣫⢧⠾⢷⢻⣍⢶⣸⡥⠊⣤⣚⡓⣞⣎⣇⢉⡾⣊⣊⣿⣁⡿⡩⡅⢷⠛⣾⠛⢽⣽⣃⢸⣹⣹⣵⡺⢧⠭\n",
       "⢂⣖⢸⢨⣺⣬⣜⠶⡱⢄⢾⠸⣡⣾⣙⣉⠞⢸⣵⢽⣯⣳⢫⢲⣯⠫⠴⣜⡿⢋⡞⣩⢞⠶⠵⣞⢴⠶⡕⢧\n",
       "⢱⢩⢼⣒⣻⣾⢃⡣⣝⡽⡺⢽⡗⢸⢕⡱⠯⢆⡷⡛⣻⡎⡯⢑⡥⠾⣞⠭⢾⡺⢼⠞⠸⢘⣾⡕⣸⡘⣟⠊\n",
       "⢊⣮⢟⡯⡂⢏⣯⢹⣿⠖⡍⢙⣚⣁⠫⢇⢮⠗⢟⠿⢵⢮⢚⡭⢻⣺⣰⡷⣽⢻⣟⣪⢛⣾⣷⢭⣶⣋⡓⢗\n",
       "⠕⡣⢜⠮⢿⢫⢷⣗⢼⠿⡺⢫⣕⣟⣽⠫⣿⡕⡔⠉⣯⣱⣻⡋⣇⣹⢙⢵⢿⢶⠵⢿⠯⢬⢏⣿⣮⢏⢇⡟\n",
       "⣩⢯⡹⢫⢽⣙⡯⢺⣫⣍⣮⣼⢯⣻⡻⠾⡱⣗⢏⣻⠮⡣⢪⣱⣶⢕⡿⣑⣨⠭⣱⡓⢟⣾⣕⣷⢍⡿⡪⡗\n",
       "⠼⢧⠫⢤⣜⢙⡺⡲⣽⢝⣥⡼⢫⣒⢏⢋⡞⡴⡿⠺⢎⣲⠮⣧⣯⡿⠛⢸⢞⢒⡿⢿⠤⣲⠋⣺⡆⡴⢮⠶\n",
       "⡽⣮⡾⡉⢍⣶⠝⣇⡇⢝⠇⠮⡯⡛⣡⡏⣻⣲⣍⣹⢜⢟⣯⡿⣚⢘⣥⠯⣽⡨⣗⡋⣶⣻⠥⠛⠎⢫⣫⡆\n",
       "⢏⡞⠳⠇⡮⡧⣙⣬⡵⣫⣽⠓⣐⢧⡞⡝⢴⡾⢗⣔⢟⢫⣛⣀⡥⡟⠚⡤⣭⢥⢸⡇⡯⠛⠩⣫⣜⢟⡴⠆\n",
       "⣝⠛⣰⣷⣿⡟⠲⡙⢲⢋⣾⠛⡿⢋⣺⡳⣷⣛⢻⣗⡆⡞⢺⢑⡓⡻⠇⣟⣞⡽⣩⣗⢻⢴⢟⢸⣟⡧⣗⠃\n",
       "⢿⠪⠱⡷⣕⠮⣽⢷⢿⠩⣗⣷⡞⣩⣲⠗⡻⣹⣵⣇⢵⠺⣿⣏⡽⠹⠶⠶⢧⢾⡴⠏⠾⢓⢇⣼⣩⣥⣻⢠\n",
       "⣎⢶⠖⣦⡳⢇⣽⣽⢃⣐⣉⣘⢺⡕⣒⢂⣻⣴⡋⣇⣻⣵⢠⣣⣼⣻⣯⠋⢛⣖⢾⢃⠿⡧⢸⢍⡓⣷⣚⣗\n",
       "⣙⣏⠯⣉⣋⣣⣳⣲⢳⠓⣗⣺⣱⢧⢞⠿⡝⣟⣯⣵⢵⣽⣫⣠⣥⠃⡧⣢⣛⣑⣉⣵⡖⢖⢊⠔⣧⣾⣵⠕\n",
       "⠻⢿⢫⡽⢷⡽⣝⣙⣻⡗⣱⡻⢰⡗⣒⠺⡼⢻⡮⢟⣧⡵⢈⡭⡮⣁⣶⢝⠿⡽⠇⣾⢽⣬⣩⣿⠤⠃⢿⣯\n",
       "⠞⠿⠋⠿⣆⢇⣵⣮⢯⣏⡍⡗⠵⣍⡻⠙⢽⢌⣭⠵⢮⠮⢪⡗⠫⠾⠰⠏⠽⠙⠛⣚⢾⢼⢕⠟⡿⣷⠠⡢"
      ]
     },
     "execution_count": 2,
     "metadata": {},
     "output_type": "execute_result"
    }
   ],
   "source": [
    "T, N = 20.0, 1000\n",
    "timescale = 1\n",
    "#G = Causality.makeBarabasi(N,k=2)\n",
    "#ρ = 3/N\n",
    "#G = Causality.makeGNP(N,ρ)\n",
    "G = Causality.makeProximity(N,2/N)\n",
    "G.A \n"
   ]
  },
  {
   "cell_type": "code",
   "execution_count": 3,
   "metadata": {},
   "outputs": [],
   "source": [
    "V = fill(MaskedRate(UnitRate(),intervalUnion(0,T)), ne(G));"
   ]
  },
  {
   "cell_type": "code",
   "execution_count": 4,
   "metadata": {},
   "outputs": [
    {
     "data": {
      "text/plain": [
       "getpargen (generic function with 1 method)"
      ]
     },
     "execution_count": 4,
     "metadata": {},
     "output_type": "execute_result"
    }
   ],
   "source": [
    "getpar(pseed,autoinf::GaussianRate,inf_in::GaussianRate) = \n",
    "    [fill(pseed, 1, N);\n",
    "     fill(autoinf.a, 1, N); fill(autoinf.b, 1, N); fill(autoinf.c, 1, N);\n",
    "     fill(inf_in.a,   1, N); fill(inf_in.b, 1, N); fill(inf_in.c, 1, N);\n",
    "    ]\n",
    "\n",
    "getpargen(pseed, autoinf::GaussianRate, inf_out::GaussianRate) = \n",
    "    [pseed autoinf.a autoinf.b autoinf.c inf_out.a inf_out.b inf_out.c]\n"
   ]
  },
  {
   "cell_type": "code",
   "execution_count": 5,
   "metadata": {},
   "outputs": [],
   "source": [
    "##### Initialize generation parameters\n",
    "ε = 1e-10\n",
    "\n",
    "λ = 0.4\n",
    "pseed = 1/N\n",
    "autoinf = GaussianRate(ε, T/2, 1/ε)\n",
    "inf_in = GaussianRate(1.0, T/2, 1/ε)\n",
    "inf_out = GaussianRate(λ, T/2, 1/ε)\n",
    "\n",
    "\n",
    "\n",
    "θp = getpar(pseed, autoinf, inf_in);\n",
    "θpgen = getpargen(pseed, autoinf, inf_out);"
   ]
  },
  {
   "cell_type": "code",
   "execution_count": 6,
   "metadata": {},
   "outputs": [],
   "source": [
    "#Initialize min/max boundaies\n",
    "pseed_min = ε\n",
    "pseed_max = 1-ε\n",
    "rate_min = GaussianRate(ε  ,  -10*T,   ε)\n",
    "rate_max = GaussianRate(1/ε  ,  10*T,   1/ε)\n",
    "\n",
    "θmin = getpar(pseed_min , rate_min, rate_min);\n",
    "θmax = getpar(pseed_max , rate_max, rate_max);\n",
    "\n",
    "θgenmin = getpargen(pseed_min, rate_min, rate_min);\n",
    "θgenmax = getpargen(pseed_max, rate_max, rate_max);"
   ]
  },
  {
   "cell_type": "code",
   "execution_count": 7,
   "metadata": {},
   "outputs": [
    {
     "data": {
      "text/plain": [
       "GaussianInferentialSI"
      ]
     },
     "execution_count": 7,
     "metadata": {},
     "output_type": "execute_result"
    }
   ],
   "source": [
    "const Igen = GenerativeSI{GaussianRate,GaussianRate} \n",
    "const Igauss = GaussianInferentialSI"
   ]
  },
  {
   "cell_type": "code",
   "execution_count": 15,
   "metadata": {},
   "outputs": [
    {
     "name": "stdout",
     "output_type": "stream",
     "text": [
      "0.567\n"
     ]
    }
   ],
   "source": [
    "Mp = StochasticModel(Igen, T, θp, G, θpgen,V);\n",
    "sample! = Sampler(Mp);\n",
    "xtrue = zeros(N)\n",
    "sample!(xtrue)\n",
    "println(sum(xtrue .< T)/N)\n",
    "#scatter(xtrue)"
   ]
  },
  {
   "cell_type": "code",
   "execution_count": 16,
   "metadata": {},
   "outputs": [
    {
     "data": {
      "text/plain": [
       "MF_heu (generic function with 1 method)"
      ]
     },
     "execution_count": 16,
     "metadata": {},
     "output_type": "execute_result"
    }
   ],
   "source": [
    "function Cau_infereSI(G, V, N, T, pseed, autoinf, inf_out, O; ε=1e-10)\n",
    "    pseed_min = ε\n",
    "    pseed_max = 1-ε\n",
    "    rate_min = GaussianRate(ε  ,  -10*T,   ε)\n",
    "    rate_max = GaussianRate(1/ε  ,  10*T,   1/ε)\n",
    "\n",
    "    θmin = getpar(pseed_min , rate_min, rate_min);\n",
    "    θmax = getpar(pseed_max , rate_max, rate_max);\n",
    "\n",
    "    θgenmin = getpargen(pseed_min, rate_min, rate_min);\n",
    "    θgenmax = getpargen(pseed_max, rate_max, rate_max);\n",
    "    \n",
    "    \n",
    "    θp2gen = getpargen(pseed, autoinf, inf_out);\n",
    "    inf_in = GaussianRate(1., T/2, 3*T );\n",
    "    θp2 = getpar(pseed, autoinf, inf_in);\n",
    "    Mp2 = StochasticModel(Igen, T, θp2, G, θp2gen, V);\n",
    "    θ = getpar(pseed, autoinf, inf_in);\n",
    "    M = StochasticModel(Igauss, T, θ, G, θp2gen, V);    \n",
    "    \n",
    "    ProgressMeter.ijulia_behavior(:clear)\n",
    "    F = descend!(Mp2, O; M=M, numsamples=1000, numiters=100, \n",
    "         θmin=θmin, θmax=θmax,θgenmin=θgenmin, θgenmax=θgenmax, descender=SignDescender(0.1),\n",
    "         hyperdescender=SignDescender(0.));\n",
    "    F = descend!(Mp2, O; M=M, numsamples=1000, numiters=100, \n",
    "         θmin=θmin, θmax=θmax,θgenmin=θgenmin, θgenmax=θgenmax, descender=SignDescender(0.03),\n",
    "         hyperdescender=SignDescender(0.));\n",
    "    return prior(M, numsamples=10000);\n",
    "end\n",
    "\n",
    "function marginal(i, t, stats)\n",
    "    numsamp = size(stats,1)\n",
    "    sum(stats[:,i] .< t)/numsamp\n",
    "end\n",
    "\n",
    "function reweighted_marginal(i, t, stats, weights)\n",
    "    numsamp = size(stats,1)\n",
    "    @assert numsamp == size(weights,1)\n",
    "    weights ./= maximum(weights)\n",
    "    sum(weights .* (stats[:,i] .< t))/sum(weights)\n",
    "end\n",
    "\n",
    "\n",
    "function tpr(xtrue, rank)\n",
    "    if sum(xtrue) == 0\n",
    "        return ones(N)\n",
    "    end\n",
    "    return cumsum(xtrue[rank]) ./ sum(xtrue)\n",
    "end\n",
    "\n",
    "function fpr(xtrue, rank) \n",
    "    N = size(rank,1)\n",
    "    if sum(xtrue) == N\n",
    "       a = zeros(N) \n",
    "       a[N] = 1\n",
    "       return a \n",
    "    end   \n",
    "    return (range(1,N,length=N) .- cumsum(xtrue[rank])) ./ (range(1,N,length=N) .- cumsum(xtrue[rank]) )[end]\n",
    "end\n",
    "\n",
    "function ROC(xtrue, p)\n",
    "    N = size(xtrue,1)\n",
    "    rank = sortperm(p, rev=true)\n",
    "    return fpr(xtrue, rank) , tpr(xtrue, rank)\n",
    "end\n",
    "\n",
    "function AUROC(ROC)\n",
    "    N = size(ROC[1],1) \n",
    "    AU = 0\n",
    "    for t = 1:N-1\n",
    "        AU += ROC[2][t] * (ROC[1][t+1] - ROC[1][t])\n",
    "    end\n",
    "    return AU\n",
    "end\n",
    "\n",
    "using PyCall\n",
    "@pyimport sib\n",
    "function NonMarkovDynamicSibyl(N, T_cont, Λ, V, a, b, c, O, γ, f_rate; n_steps=20, maxit = 400, tol = 1e-14)\n",
    "    dt = T_cont / n_steps\n",
    "    T = Int(round(T_cont / dt))\n",
    "    i = findnz(G.A)[1]\n",
    "    j = findnz(G.A)[2]    \n",
    "    contacts = [(i[a]-1, j[a]-1, t, 1.) for t in 1:T for a = 1:nnz(Λ.A) if (t * dt) in V[a].mask];\n",
    "    obs = [[(i,-1,t) for t=1:T for i=0:N-1];\n",
    "           [(i-1,s,Int(round(t/dt))) for (i,s,t,p) in O]]\n",
    "    sort!(obs, lt=((i1,s1,t1),(i2,s2,t2))->(t1<t2))\n",
    "    prob_sus = 0.5\n",
    "    prob_seed=γ\n",
    "    pseed = prob_seed / (2 - prob_seed)\n",
    "    psus = prob_sus * (1 - pseed)\n",
    "    g = sib.PiecewiseLinear(pycall(sib.RealParams, PyObject, [a*exp(-((t-b)/c)^2) * dt for t =1:T]))\n",
    "    params = sib.Params(prob_r=sib.Exponential(mu=0), pseed=pseed, psus=psus,pautoinf=autoinf.a*dt,fp_rate=f_rate,fn_rate=f_rate, prob_i = g)\n",
    "    f = sib.FactorGraph(contacts=contacts, observations=obs, params=params)\n",
    "    sib.iterate(f, maxit=maxit,tol=tol)\n",
    "    sib.iterate(f, maxit=maxit, damping=0.5, tol=tol)\n",
    "    sib.iterate(f, maxit=maxit, damping=0.9, tol=tol)\n",
    "    p_sib=[collect(n.bt) for n in f.nodes]\n",
    "    m_sib = zeros(N, T)\n",
    "    for i= 1:N\n",
    "        m_sib[i,1] = p_sib[i][1] \n",
    "        for t=2:T\n",
    "            m_sib[i,t] = m_sib[i,t-1] + p_sib[i][t]\n",
    "        end\n",
    "            end\n",
    "    return m_sib\n",
    "end\n",
    "\n",
    "function MF_heu(N, T_cont, Λ, O, γ, λ ; dt=1/5, maxit = 400)\n",
    "    T = Int(round(T_cont / dt))\n",
    "    p_MF = zeros(N,T) #prob to be S\n",
    "    p_MF[:,1] .= 1 - γ \n",
    "    obs_I = [o[1] for o in O if o[2] == 1]\n",
    "    obs_S = [o[1] for o in O if o[2] == 0]\n",
    "    for st = 1:maxit\n",
    "        for t = 2:T\n",
    "            for i = 1:N\n",
    "                p_MF[i,t] = p_MF[i,t-1]\n",
    "                for j in collect(Causality.outedges(Λ,1))\n",
    "                    p_MF[i,t] *= 1 - λ*(1 - p_MF[j.dst,t-1])\n",
    "                end\n",
    "                if i in obs_I                    \n",
    "                    o = O[i]\n",
    "                    p_MF[i, Int(round((o[3]-5)/dt)) : end] .= 0\n",
    "                end\n",
    "                if i in obs_S\n",
    "                    o = O[i]\n",
    "                    p_MF[i, 1 : Int(round(o[3]/dt))] .= 1\n",
    "                end\n",
    "            end\n",
    "        end\n",
    "    end\n",
    "    return 1 .- p_MF\n",
    "end"
   ]
  },
  {
   "cell_type": "code",
   "execution_count": null,
   "metadata": {},
   "outputs": [
    {
     "name": "stderr",
     "output_type": "stream",
     "text": [
      "\u001b[32mProgress: 100%|█████████████████████████████████████████| Time: 0:08:24\u001b[39m\n",
      "\u001b[34m  F:  219.7599906741392\u001b[39m\n",
      "\u001b[32mProgress: 100%|█████████████████████████████████████████| Time: 0:00:12\u001b[39m\n",
      "\u001b[32mProgress:  24%|█████████▋                               |  ETA: 0:05:45\u001b[39m"
     ]
    }
   ],
   "source": [
    "nobs_max, p = 300, 1e-5\n",
    "Oav = []\n",
    "nsteps_sib = 80\n",
    "folderstring = \"./SimulatedGraphs/SimulatedGraphData2/\"\n",
    "bins = 20\n",
    "for trial = 1: 25\n",
    "    G = Causality.makeProximity(N,2/N)\n",
    "    V = fill(MaskedRate(UnitRate(),intervalUnion(0,T)), ne(G));\n",
    "    Mp = StochasticModel(Igen, T, θp, G, θpgen,V);\n",
    "    sample! = Sampler(Mp);\n",
    "    sample!(xtrue)\n",
    "    ni = sum(xtrue .< T) / N\n",
    "    while !(0.4 < ni < 0.6)\n",
    "        sample!(xtrue)\n",
    "        ni = sum(xtrue .< T) / N\n",
    "    end\n",
    "    #O = [(i = rand(1:N) ; ti = T*(0.2+rand())/1.2; (i,xtrue[i] < ti,ti,p)) for l=1:nobs_max]\n",
    "    O = [(ti = T*(1+rand())/2; (i,xtrue[i] < ti,ti,p)) for i=1:nobs_max]\n",
    "    f_rate = 1e-5\n",
    "    open(\"$(folderstring)try$(trial)xtrue.txt\",\"w\") do io\n",
    "         writedlm(io,xtrue') \n",
    "    end\n",
    "    Ofalse=[rand()< f_rate ? (o[1],!o[2],o[3],f_rate) : (o[1],o[2],o[3],f_rate) for o in O]\n",
    "    for nobs in (10, 25, 40, 80, 160, 300)\n",
    "        Oav = Ofalse[1:nobs] #available observations for the experiment\n",
    "        statscau = Cau_infereSI(G, V, N, T, pseed, autoinf, inf_out, Oav)\n",
    "        Osoft = [(o[1],o[2],o[3],max(0.05,f_rate)) for o in Oav]\n",
    "        stats,weights_soft = softpostnoise(Mp, Osoft; numsamples=2 * 10^5);\n",
    "        p_sib = NonMarkovDynamicSibyl(N, T, G, V, inf_out.a, inf_out.b, inf_out.c, Oav, 1/N, f_rate; n_steps=nsteps_sib, maxit = 40, tol = 1e-4);\n",
    "        K = Causality.GaussMove(2.)\n",
    "        xmc = zeros(N)\n",
    "        sample!(xmc)\n",
    "        Mmc = StochasticModel(Igen, T, θp, G, θpgen,V);\n",
    "        stats_mh = Causality.metropolis_sampling_sequential(Mp, Oav, K; numsamples = 6 * 10^4,numsteps= 3, x = xmc); \n",
    "\n",
    "        struct HeuristicSI <: SI end\n",
    "        θp2gen = getpargen(pseed, autoinf, inf_out);\n",
    "        maskauto = fill(intervalUnion(0., T),N)\n",
    "        maskinf = fill(intervalUnion(0., T),N)\n",
    "        θfrench = getpar(pseed, autoinf, inf_in);\n",
    "        Causality.individual(M::StochasticModel{HeuristicSI}, i::Int, θi = @view(M.θ[:,i]), θg = M.θgen ) = \n",
    "        @views IndividualSI(θi[1], \n",
    "            MaskedRate(GaussianRate(θi[2:4]...),maskauto[i]), \n",
    "            MaskedRate(UnitRate(),maskinf[i]), \n",
    "            GaussianRate(θg[5:7]...),)\n",
    "        inf_start_time = T * ones(N)\n",
    "        for o in Oav\n",
    "            if o[2] == 1\n",
    "                inf_start_time[o[1]] = min(inf_start_time[o[1]], o[3] - 5)\n",
    "                maskauto[o[1]] = maskauto[o[1]] ∩ intervalUnion(o[3]-5, T)       \n",
    "                θfrench[2,o[1]] = 10^10\n",
    "                θfrench[3,o[1]] = o[3] - 5\n",
    "                θfrench[4,o[1]] = 100 * T\n",
    "            elseif o[2] == 0\n",
    "                maskinf[o[1]] = maskinf[o[1]] ∩ intervalUnion(o[3], T)\n",
    "                maskauto[o[1]] = maskauto[o[1]] ∩ intervalUnion(o[3], T)\n",
    "                θfrench[1,o[1]] = 1e-10\n",
    "            end\n",
    "        end\n",
    "        for i=1:N\n",
    "            if inf_start_time[i] != T \n",
    "                maskauto[i] = maskauto[i] ∩ intervalUnion(inf_start_time[i], T)\n",
    "            end\n",
    "        end\n",
    "        Mfrench = StochasticModel(HeuristicSI, T, θfrench, G, θp2gen, V);\n",
    "        statsfre = prior(Mfrench,numsamples=2000);       \n",
    "        p_cau = zeros(N,bins)\n",
    "        p_french = zeros(N,bins)\n",
    "        p_mh = zeros(N,bins)\n",
    "        p_soft = zeros(N,bins)\n",
    "        p_MF = MF_heu(N, T, G, Oav, 1/N, λ ; dt=1/4, maxit = 40)\n",
    "        for i = 1:N\n",
    "            for t = 1:bins\n",
    "               p_cau[i,t] = marginal(i, t*T/bins, statscau)\n",
    "               p_french[i,t] = marginal(i, t*T/bins, statsfre)\n",
    "               p_mh[i,t] = marginal(i, t*T/bins, stats_mh)\n",
    "               p_soft[i,t] = reweighted_marginal(i, t*T/bins, stats, weights_soft)\n",
    "            end\n",
    "        end\n",
    "        AU_curve=zeros(bins)\n",
    "        AU_sib=zeros(bins)\n",
    "        AU_french = zeros(bins)\n",
    "        AU_soft = zeros(bins)\n",
    "        AU_MH = zeros(bins)\n",
    "        AU_MF = zeros(bins)\n",
    "        for t = 1:bins\n",
    "            cau_risk=zeros(N)\n",
    "            sib_risk = zeros(N)\n",
    "            french_risk = zeros(N)\n",
    "            MH_risk = zeros(N)\n",
    "            MF_risk = zeros(N)\n",
    "            soft_risk = zeros(N)\n",
    "            for i=1:N\n",
    "               cau_risk[i] = p_cau[i,t]\n",
    "               french_risk[i] = p_french[i,t]\n",
    "               MH_risk[i] = p_mh[i,t]\n",
    "               MF_risk[i] = p_MF[i,Int(round(4*t))]\n",
    "               sib_risk[i] = p_sib[i,Int(round(t/bins*nsteps_sib))]\n",
    "               soft_risk[i] = p_soft[i,t]\n",
    "            end\n",
    "            xt = xtrue .< t * T / bins\n",
    "            AU_soft[t] = AUROC(ROC(xt, soft_risk))\n",
    "            AU_curve[t] = AUROC(ROC(xt, cau_risk))\n",
    "            AU_french[t] = AUROC(ROC(xt, french_risk))\n",
    "            AU_MH[t] = AUROC(ROC(xt, MH_risk))\n",
    "            AU_MF[t] = AUROC(ROC(xt, MF_risk))\n",
    "            AU_sib[t] = AUROC(ROC(xt, sib_risk))\n",
    "        end\n",
    "        open(\"$(folderstring)try$(trial)nobs$(nobs)cau.txt\",\"w\") do io\n",
    "            writedlm(io,AU_curve') \n",
    "        end\n",
    "        open(\"$(folderstring)try$(trial)nobs$(nobs)sib.txt\",\"w\") do io\n",
    "            writedlm(io,AU_sib')  \n",
    "        end\n",
    "        open(\"$(folderstring)try$(trial)nobs$(nobs)fre.txt\",\"w\") do io\n",
    "            writedlm(io,AU_french') \n",
    "        end\n",
    "        open(\"$(folderstring)try$(trial)nobs$(nobs)mc.txt\",\"w\") do io\n",
    "            writedlm(io,AU_MH') \n",
    "        end\n",
    "        open(\"$(folderstring)try$(trial)nobs$(nobs)soft.txt\",\"w\") do io\n",
    "            writedlm(io,AU_soft') \n",
    "        end\n",
    "        open(\"$(folderstring)try$(trial)nobs$(nobs)mf.txt\",\"w\") do io\n",
    "            writedlm(io,AU_MF') \n",
    "        end\n",
    "        \n",
    "\n",
    "    end\n",
    "end"
   ]
  },
  {
   "cell_type": "code",
   "execution_count": null,
   "metadata": {},
   "outputs": [],
   "source": []
  }
 ],
 "metadata": {
  "kernelspec": {
   "display_name": "Julia 1.7.0-rc2",
   "language": "julia",
   "name": "julia-1.7"
  },
  "language_info": {
   "file_extension": ".jl",
   "mimetype": "application/julia",
   "name": "julia",
   "version": "1.7.0"
  }
 },
 "nbformat": 4,
 "nbformat_minor": 4
}
