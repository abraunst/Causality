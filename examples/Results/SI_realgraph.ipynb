{
 "cells": [
  {
   "cell_type": "code",
   "execution_count": 1,
   "metadata": {},
   "outputs": [],
   "source": [
    "using SparseArrays, LinearAlgebra, DelimitedFiles, IndexedGraphs, Plots\n",
    "using IntervalUnionArithmetic\n",
    "#using Pkg\n",
    "#Pkg.activate(\"../\")\n",
    "using Causality\n",
    "using Graphs\n",
    "using Dictionaries"
   ]
  },
  {
   "cell_type": "markdown",
   "metadata": {},
   "source": [
    "# Generation of Epidemics"
   ]
  },
  {
   "cell_type": "code",
   "execution_count": 7,
   "metadata": {},
   "outputs": [],
   "source": [
    "#=DS=readdlm(\"./RealGraph/High-School_data_2013.csv\");\n",
    "DS[:,1] .-= minimum(DS[:,1])\n",
    "timescale = maximum(DS[:,1])/20\n",
    "DS[:,1] ./= timescale=#\n",
    "\n",
    "\n",
    "#=DS=readdlm(\"./RealGraph/InfectiousSP.txt\");\n",
    "DS[:,1] .-= minimum(DS[:,1])\n",
    "timescale = maximum(DS[:,1])/20\n",
    "DS[:,1] ./= timescale=#\n",
    "\n",
    "DS=readdlm(\"./RealGraph/detailed_list_of_contacts_Hospital.dat_\");\n",
    "timescale = 20000\n",
    "DS[:,1] ./= timescale\n",
    "\n",
    "#DS=readdlm(\"./tij_SFHH.dat_\");\n",
    "#timescale = 7000;"
   ]
  },
  {
   "cell_type": "code",
   "execution_count": 8,
   "metadata": {},
   "outputs": [
    {
     "data": {
      "text/plain": [
       "{75, 2278} directed sparse Int64 graph\n",
       "⣮⡻⠾⡇⠯⣽⠿⢿⣿⢭⠻⢿⠀⠹⠿⠿⠿⠌⠿⢿⠠⠨⠹⠛⠏⡿⠏⠇⠀⠐⠘⠬⢬⠔⠠⠷⠋⠅\n",
       "⠾⠧⡮⡫⡿⣿⣿⠾⠾⣾⡤⢴⠐⡲⢿⠷⠶⢾⠿⠿⠶⠀⡶⢿⠜⠴⡷⠆⠆⠲⠤⠲⠴⡇⡢⠶⠆⠄\n",
       "⣏⣧⣿⣯⣎⡹⣿⡿⢭⣯⣹⣽⠀⣼⣽⣭⣭⠭⣍⣯⣉⣈⣙⣸⠠⣹⣿⣃⣄⣘⠉⡱⢋⣥⡌⢟⡁⠄\n",
       "⣿⣇⣻⡟⣿⡿⣮⡻⡴⣗⢇⣞⠄⢸⣿⡇⣄⠚⣞⣿⣶⣗⣿⣨⣈⢼⡛⠇⡍⢌⠀⢠⢑⡆⠀⡿⠇⡄\n",
       "⡟⣟⣺⣧⡧⣷⢴⢯⢮⡳⣾⢳⠀⣴⣳⡗⢺⢄⣻⣴⣲⣗⣲⢂⢡⣯⡅⠄⠤⢠⠑⣤⢴⣤⠐⠀⠤⠄\n",
       "⣿⣆⢀⣏⣗⣾⣩⢵⢾⣛⢀⡰⣀⢰⣲⣆⣴⢄⣼⡓⠩⠎⠩⠀⡆⢶⢖⣅⢉⠸⠀⢑⠪⡀⠀⢜⠅⠀\n",
       "⣄⡀⢰⡠⣀⣤⣀⣁⢀⣤⢀⣘⠮⠃⣤⣄⣀⣀⣀⢀⣛⣘⣛⣸⣀⣀⣃⡀⡀⣀⠀⣀⣘⣓⡓⡀⡀⠀\n",
       "⣿⡇⢿⡗⡗⣿⠿⠿⢽⠾⠸⢾⠀⢿⣮⡻⡿⠝⡿⢿⣿⡍⣽⣿⠾⢿⠷⡆⠂⠀⢈⠰⠾⠟⠯⡦⠶⠂\n",
       "⡛⠇⣸⣇⡇⡟⣠⠙⠚⢖⠐⢟⠀⢸⣟⠏⡊⠈⡗⠈⠹⠋⠉⠛⠒⢚⠒⡀⠀⠐⠐⠚⠀⠁⠀⢁⠐⠀\n",
       "⣿⣇⣿⡇⡧⣽⣾⣽⢛⣾⢶⠻⠀⢘⣿⣏⡙⠉⣮⡻⣜⣩⣭⢯⢚⢚⡷⣆⣆⣠⠂⣆⢬⡄⠀⢦⢢⠀\n",
       "⡀⡂⠘⠃⡃⢸⢼⢿⢼⢾⡣⠆⣛⢸⡟⠿⡷⠂⡖⣹⠊⠀⠀⠀⠀⢸⠀⠠⢀⢀⠀⠀⠀⠀⠀⠀⠀⠀\n",
       "⣷⠂⣼⣏⣓⣸⡛⣻⠸⢚⠃⠂⣛⣸⣷⣿⣧⠀⡧⣟⠀⠀⠀⠀⡀⢺⠀⣼⢸⠀⠀⢠⠀⠀⠀⡀⠀⠂\n",
       "⣯⡥⢒⡅⣄⣢⣂⣜⡥⣶⢨⣍⠀⢸⣾⣇⣸⢀⣺⢐⣀⣀⣠⣈⠊⠀⣎⡒⠐⣀⡀⣹⡀⠀⠀⣩⣈⠀\n",
       "⠯⠅⠹⠏⠿⢻⠿⠌⠁⠍⠜⢵⠉⠸⠹⠧⠘⠠⠹⢯⠀⡀⣀⣤⢪⠹⣤⡻⣸⠀⠀⠘⠀⠀⠀⡄⡀⠀\n",
       "⢀⠀⢨⡁⣀⢹⡃⢍⠀⣃⣃⡐⠀⢨⠈⠀⢀⠀⠈⣹⠀⢐⠒⠒⠐⢠⠒⠚⢊⠐⠄⠢⠂⠀⠀⠂⢐⠀\n",
       "⡒⡄⢠⡃⢇⡠⠀⣀⠑⣤⢄⢀⠀⢠⢂⡐⣰⠀⠨⢤⠀⠀⠀⣀⣄⣨⣀⠀⠠⡁⠀⠀⡀⠀⠀⡐⠀⡀\n",
       "⢂⠗⠴⠧⠏⣴⠱⠴⠐⣷⠊⠢⢶⢸⣾⠇⠄⠀⠂⠷⠀⠀⠀⠀⠀⠈⠀⠀⠈⠀⠀⠈⠀⠀⠀⠀⠀⠀\n",
       "⢤⡆⢨⡎⣦⢍⣤⡤⠐⠀⣀⢄⠙⠨⠫⡧⠄⢀⠠⣄⠀⠀⠀⠠⡄⣠⠀⠤⠠⠀⢀⠠⠀⠀⠀⠀⠀⠀\n",
       "⠏⠄⠈⠅⠁⠌⠉⠥⠀⠇⠁⠁⠀⠈⠸⠃⠐⠀⠈⠒⠀⠀⠠⠀⠂⠘⠀⠈⠐⠐⠀⠠⠀⠀⠀⠀⠀⠀"
      ]
     },
     "execution_count": 8,
     "metadata": {},
     "output_type": "execute_result"
    }
   ],
   "source": [
    "nodes = unique(DS[:,[2,3]])\n",
    "T = Float64(maximum(DS[:,1]))\n",
    "N = length(nodes)\n",
    "G = SimpleGraph(N)\n",
    "id = Dictionary(nodes, [i for i = 1:N]); \n",
    "for st = 1:size(DS,1)\n",
    "    add_edge!(G,id[DS[st,2]],id[DS[st,3]]) \n",
    "end\n",
    "#jobs = Dictionary([i for i = 1:N],(unique([unique(DS[:,[2,4]], dims=1) ; unique(DS[:,[3,5]], dims=1)],dims=1))[:,2])\n",
    "G = IndexedBiDiGraph(G)"
   ]
  },
  {
   "cell_type": "code",
   "execution_count": 9,
   "metadata": {},
   "outputs": [
    {
     "data": {
      "text/plain": [
       "17.382"
      ]
     },
     "execution_count": 9,
     "metadata": {},
     "output_type": "execute_result"
    }
   ],
   "source": [
    "T"
   ]
  },
  {
   "cell_type": "code",
   "execution_count": 10,
   "metadata": {},
   "outputs": [],
   "source": [
    "H = sparse(G)\n",
    "contacts = Dictionary([(i,j) for i=1:N for j=1:N if H[i,j] != 0 ] ,[i for i = 1:nnz(G.A)])\n",
    "meet_time=20/timescale\n",
    "masks = [intervalUnion(∅) for g=1:nnz(G.A)]\n",
    "for st = 1:size(DS,1)\n",
    "    masks[contacts[(id[DS[st,2]],id[DS[st,3]])]] = masks[contacts[(id[DS[st,2]],id[DS[st,3]])]] ∪ intervalUnion(DS[st,1]-meet_time,DS[st,1])\n",
    "    #symmetrization\n",
    "    masks[contacts[(id[DS[st,3]],id[DS[st,2]])]] = masks[contacts[(id[DS[st,3]],id[DS[st,2]])]] ∪ intervalUnion(DS[st,1]-meet_time,DS[st,1])\n",
    "end\n",
    "V = [MaskedRate(UnitRate(),mask) for mask in masks];"
   ]
  },
  {
   "cell_type": "raw",
   "metadata": {},
   "source": [
    "exposuretime = [(sum(DS[:,2] .== j) + sum(DS[:,3] .== j)) * meet_time for j in id.indices]\n",
    "scatter([i for i = 1:N if jobs[i] == \"MED\"],[exposuretime[i] for i = 1:N if jobs[i] == \"MED\"],label = \"MED\",title=\"Total exposure time for each individual\")\n",
    "scatter!([i for i = 1:N if jobs[i] == \"ADM\"],[exposuretime[i] for i = 1:N if jobs[i] == \"ADM\"], label = \"ADM\",xlabel=\"ID number\")\n",
    "scatter!([i for i = 1:N if jobs[i] == \"NUR\"],[exposuretime[i] for i = 1:N if jobs[i] == \"NUR\"], label = \"NUR\",ylabel = \"time\")\n",
    "scatter!([i for i = 1:N if jobs[i] == \"PAT\"],[exposuretime[i] for i = 1:N if jobs[i] == \"PAT\"], label = \"PAT\")\n",
    "#savefig(\"HospitalStudy\")"
   ]
  },
  {
   "cell_type": "code",
   "execution_count": 11,
   "metadata": {},
   "outputs": [
    {
     "data": {
      "text/plain": [
       "getpargen (generic function with 1 method)"
      ]
     },
     "execution_count": 11,
     "metadata": {},
     "output_type": "execute_result"
    }
   ],
   "source": [
    "getpar(pseed,autoinf::GaussianRate,inf_in::GaussianRate) = \n",
    "    [fill(pseed, 1, N);\n",
    "     fill(autoinf.a, 1, N); fill(autoinf.b, 1, N); fill(autoinf.c, 1, N);\n",
    "     fill(inf_in.a,   1, N); fill(inf_in.b, 1, N); fill(inf_in.c, 1, N);\n",
    "    ]\n",
    "\n",
    "getpargen(pseed, autoinf::GaussianRate, inf_out::GaussianRate) = \n",
    "    [pseed autoinf.a autoinf.b autoinf.c inf_out.a inf_out.b inf_out.c]\n"
   ]
  },
  {
   "cell_type": "code",
   "execution_count": 16,
   "metadata": {},
   "outputs": [],
   "source": [
    "#Initialize generation parameters\n",
    "\n",
    "\n",
    "#=try this set:\n",
    "λ = 0.005 / 20 * timescale\n",
    "autoinf = GaussianRate(0.02, T/2, 1/ε)\n",
    "inf_out = GaussianRate(λ, 5., 4.)\n",
    "=#\n",
    "\n",
    "#= and try also a Markovian dynamics, where you could put \n",
    "also the french dynamical method =#\n",
    "ε = 1e-10\n",
    "λ = 0.05 * timescale / 20\n",
    "pseed = 1/N\n",
    "autoinf = GaussianRate(0.01, T/2, 1/ε)\n",
    "inf_in = GaussianRate(1.0, T/2, 1/ε)\n",
    "inf_out = GaussianRate(λ, 2., 1.)\n",
    "\n",
    "θp = getpar(pseed, autoinf, inf_in);\n",
    "θpgen = getpargen(pseed, autoinf, inf_out);"
   ]
  },
  {
   "cell_type": "code",
   "execution_count": 17,
   "metadata": {},
   "outputs": [],
   "source": [
    "#Initialize min/max boundaies\n",
    "T = Float64(T)\n",
    "pseed_min = ε\n",
    "pseed_max = 1-ε\n",
    "rate_min = GaussianRate(ε  ,  -T,   ε)\n",
    "rate_max = GaussianRate(1/ε  ,  2T,   1/ε)\n",
    "\n",
    "θmin = getpar(pseed_min , rate_min, rate_min);\n",
    "θmax = getpar(pseed_max , rate_max, rate_max);\n",
    "\n",
    "rate_min = GaussianRate(ε  ,  -T,   ε)\n",
    "rate_max = GaussianRate(1/ε  ,  T,   T)\n",
    "\n",
    "θgenmin = getpargen(pseed_min, rate_min, rate_min);\n",
    "θgenmax = getpargen(pseed_max, rate_max, rate_max);"
   ]
  },
  {
   "cell_type": "code",
   "execution_count": 18,
   "metadata": {},
   "outputs": [
    {
     "data": {
      "text/plain": [
       "GaussianInferentialSI"
      ]
     },
     "execution_count": 18,
     "metadata": {},
     "output_type": "execute_result"
    }
   ],
   "source": [
    "const Igen = GenerativeSI{GaussianRate,GaussianRate} \n",
    "const Igauss = GaussianInferentialSI"
   ]
  },
  {
   "cell_type": "code",
   "execution_count": 19,
   "metadata": {},
   "outputs": [
    {
     "name": "stdout",
     "output_type": "stream",
     "text": [
      "0.5466666666666666\n"
     ]
    },
    {
     "data": {
      "image/svg+xml": [
       "<?xml version=\"1.0\" encoding=\"utf-8\"?>\n",
       "<svg xmlns=\"http://www.w3.org/2000/svg\" xmlns:xlink=\"http://www.w3.org/1999/xlink\" width=\"600\" height=\"400\" viewBox=\"0 0 2400 1600\">\n",
       "<defs>\n",
       "  <clipPath id=\"clip850\">\n",
       "    <rect x=\"0\" y=\"0\" width=\"2400\" height=\"1600\"/>\n",
       "  </clipPath>\n",
       "</defs>\n",
       "<path clip-path=\"url(#clip850)\" d=\"\n",
       "M0 1600 L2400 1600 L2400 0 L0 0  Z\n",
       "  \" fill=\"#ffffff\" fill-rule=\"evenodd\" fill-opacity=\"1\"/>\n",
       "<defs>\n",
       "  <clipPath id=\"clip851\">\n",
       "    <rect x=\"480\" y=\"0\" width=\"1681\" height=\"1600\"/>\n",
       "  </clipPath>\n",
       "</defs>\n",
       "<path clip-path=\"url(#clip850)\" d=\"\n",
       "M138.959 1486.45 L2352.76 1486.45 L2352.76 47.2441 L138.959 47.2441  Z\n",
       "  \" fill=\"#ffffff\" fill-rule=\"evenodd\" fill-opacity=\"1\"/>\n",
       "<defs>\n",
       "  <clipPath id=\"clip852\">\n",
       "    <rect x=\"138\" y=\"47\" width=\"2215\" height=\"1440\"/>\n",
       "  </clipPath>\n",
       "</defs>\n",
       "<polyline clip-path=\"url(#clip852)\" style=\"stroke:#000000; stroke-linecap:butt; stroke-linejoin:round; stroke-width:2; stroke-opacity:0.1; fill:none\" points=\"\n",
       "  173.391,1486.45 173.391,47.2441 \n",
       "  \"/>\n",
       "<polyline clip-path=\"url(#clip852)\" style=\"stroke:#000000; stroke-linecap:butt; stroke-linejoin:round; stroke-width:2; stroke-opacity:0.1; fill:none\" points=\"\n",
       "  737.847,1486.45 737.847,47.2441 \n",
       "  \"/>\n",
       "<polyline clip-path=\"url(#clip852)\" style=\"stroke:#000000; stroke-linecap:butt; stroke-linejoin:round; stroke-width:2; stroke-opacity:0.1; fill:none\" points=\"\n",
       "  1302.3,1486.45 1302.3,47.2441 \n",
       "  \"/>\n",
       "<polyline clip-path=\"url(#clip852)\" style=\"stroke:#000000; stroke-linecap:butt; stroke-linejoin:round; stroke-width:2; stroke-opacity:0.1; fill:none\" points=\"\n",
       "  1866.76,1486.45 1866.76,47.2441 \n",
       "  \"/>\n",
       "<polyline clip-path=\"url(#clip850)\" style=\"stroke:#000000; stroke-linecap:butt; stroke-linejoin:round; stroke-width:4; stroke-opacity:1; fill:none\" points=\"\n",
       "  138.959,1486.45 2352.76,1486.45 \n",
       "  \"/>\n",
       "<polyline clip-path=\"url(#clip850)\" style=\"stroke:#000000; stroke-linecap:butt; stroke-linejoin:round; stroke-width:4; stroke-opacity:1; fill:none\" points=\"\n",
       "  173.391,1486.45 173.391,1467.55 \n",
       "  \"/>\n",
       "<polyline clip-path=\"url(#clip850)\" style=\"stroke:#000000; stroke-linecap:butt; stroke-linejoin:round; stroke-width:4; stroke-opacity:1; fill:none\" points=\"\n",
       "  737.847,1486.45 737.847,1467.55 \n",
       "  \"/>\n",
       "<polyline clip-path=\"url(#clip850)\" style=\"stroke:#000000; stroke-linecap:butt; stroke-linejoin:round; stroke-width:4; stroke-opacity:1; fill:none\" points=\"\n",
       "  1302.3,1486.45 1302.3,1467.55 \n",
       "  \"/>\n",
       "<polyline clip-path=\"url(#clip850)\" style=\"stroke:#000000; stroke-linecap:butt; stroke-linejoin:round; stroke-width:4; stroke-opacity:1; fill:none\" points=\"\n",
       "  1866.76,1486.45 1866.76,1467.55 \n",
       "  \"/>\n",
       "<path clip-path=\"url(#clip850)\" d=\"M173.391 1517.37 Q169.78 1517.37 167.951 1520.93 Q166.146 1524.47 166.146 1531.6 Q166.146 1538.71 167.951 1542.27 Q169.78 1545.82 173.391 1545.82 Q177.025 1545.82 178.831 1542.27 Q180.66 1538.71 180.66 1531.6 Q180.66 1524.47 178.831 1520.93 Q177.025 1517.37 173.391 1517.37 M173.391 1513.66 Q179.201 1513.66 182.257 1518.27 Q185.336 1522.85 185.336 1531.6 Q185.336 1540.33 182.257 1544.94 Q179.201 1549.52 173.391 1549.52 Q167.581 1549.52 164.502 1544.94 Q161.447 1540.33 161.447 1531.6 Q161.447 1522.85 164.502 1518.27 Q167.581 1513.66 173.391 1513.66 Z\" fill=\"#000000\" fill-rule=\"evenodd\" fill-opacity=\"1\" /><path clip-path=\"url(#clip850)\" d=\"M716.621 1544.91 L732.94 1544.91 L732.94 1548.85 L710.996 1548.85 L710.996 1544.91 Q713.658 1542.16 718.241 1537.53 Q722.847 1532.88 724.028 1531.53 Q726.273 1529.01 727.153 1527.27 Q728.056 1525.51 728.056 1523.82 Q728.056 1521.07 726.111 1519.33 Q724.19 1517.6 721.088 1517.6 Q718.889 1517.6 716.435 1518.36 Q714.005 1519.13 711.227 1520.68 L711.227 1515.95 Q714.051 1514.82 716.505 1514.24 Q718.958 1513.66 720.996 1513.66 Q726.366 1513.66 729.56 1516.35 Q732.755 1519.03 732.755 1523.52 Q732.755 1525.65 731.945 1527.57 Q731.157 1529.47 729.051 1532.07 Q728.472 1532.74 725.37 1535.95 Q722.269 1539.15 716.621 1544.91 Z\" fill=\"#000000\" fill-rule=\"evenodd\" fill-opacity=\"1\" /><path clip-path=\"url(#clip850)\" d=\"M752.755 1517.37 Q749.144 1517.37 747.315 1520.93 Q745.509 1524.47 745.509 1531.6 Q745.509 1538.71 747.315 1542.27 Q749.144 1545.82 752.755 1545.82 Q756.389 1545.82 758.194 1542.27 Q760.023 1538.71 760.023 1531.6 Q760.023 1524.47 758.194 1520.93 Q756.389 1517.37 752.755 1517.37 M752.755 1513.66 Q758.565 1513.66 761.62 1518.27 Q764.699 1522.85 764.699 1531.6 Q764.699 1540.33 761.62 1544.94 Q758.565 1549.52 752.755 1549.52 Q746.944 1549.52 743.866 1544.94 Q740.81 1540.33 740.81 1531.6 Q740.81 1522.85 743.866 1518.27 Q746.944 1513.66 752.755 1513.66 Z\" fill=\"#000000\" fill-rule=\"evenodd\" fill-opacity=\"1\" /><path clip-path=\"url(#clip850)\" d=\"M1290.47 1518.36 L1278.67 1536.81 L1290.47 1536.81 L1290.47 1518.36 M1289.25 1514.29 L1295.13 1514.29 L1295.13 1536.81 L1300.06 1536.81 L1300.06 1540.7 L1295.13 1540.7 L1295.13 1548.85 L1290.47 1548.85 L1290.47 1540.7 L1274.87 1540.7 L1274.87 1536.19 L1289.25 1514.29 Z\" fill=\"#000000\" fill-rule=\"evenodd\" fill-opacity=\"1\" /><path clip-path=\"url(#clip850)\" d=\"M1317.79 1517.37 Q1314.18 1517.37 1312.35 1520.93 Q1310.54 1524.47 1310.54 1531.6 Q1310.54 1538.71 1312.35 1542.27 Q1314.18 1545.82 1317.79 1545.82 Q1321.42 1545.82 1323.23 1542.27 Q1325.06 1538.71 1325.06 1531.6 Q1325.06 1524.47 1323.23 1520.93 Q1321.42 1517.37 1317.79 1517.37 M1317.79 1513.66 Q1323.6 1513.66 1326.65 1518.27 Q1329.73 1522.85 1329.73 1531.6 Q1329.73 1540.33 1326.65 1544.94 Q1323.6 1549.52 1317.79 1549.52 Q1311.98 1549.52 1308.9 1544.94 Q1305.84 1540.33 1305.84 1531.6 Q1305.84 1522.85 1308.9 1518.27 Q1311.98 1513.66 1317.79 1513.66 Z\" fill=\"#000000\" fill-rule=\"evenodd\" fill-opacity=\"1\" /><path clip-path=\"url(#clip850)\" d=\"M1852.16 1529.7 Q1849.02 1529.7 1847.16 1531.86 Q1845.34 1534.01 1845.34 1537.76 Q1845.34 1541.49 1847.16 1543.66 Q1849.02 1545.82 1852.16 1545.82 Q1855.31 1545.82 1857.14 1543.66 Q1858.99 1541.49 1858.99 1537.76 Q1858.99 1534.01 1857.14 1531.86 Q1855.31 1529.7 1852.16 1529.7 M1861.45 1515.05 L1861.45 1519.31 Q1859.69 1518.48 1857.88 1518.04 Q1856.1 1517.6 1854.34 1517.6 Q1849.71 1517.6 1847.26 1520.72 Q1844.83 1523.85 1844.48 1530.17 Q1845.85 1528.15 1847.91 1527.09 Q1849.97 1526 1852.44 1526 Q1857.65 1526 1860.66 1529.17 Q1863.69 1532.32 1863.69 1537.76 Q1863.69 1543.08 1860.54 1546.3 Q1857.4 1549.52 1852.16 1549.52 Q1846.17 1549.52 1843 1544.94 Q1839.83 1540.33 1839.83 1531.6 Q1839.83 1523.41 1843.72 1518.55 Q1847.6 1513.66 1854.16 1513.66 Q1855.91 1513.66 1857.7 1514.01 Q1859.5 1514.36 1861.45 1515.05 Z\" fill=\"#000000\" fill-rule=\"evenodd\" fill-opacity=\"1\" /><path clip-path=\"url(#clip850)\" d=\"M1881.75 1517.37 Q1878.14 1517.37 1876.31 1520.93 Q1874.5 1524.47 1874.5 1531.6 Q1874.5 1538.71 1876.31 1542.27 Q1878.14 1545.82 1881.75 1545.82 Q1885.38 1545.82 1887.19 1542.27 Q1889.02 1538.71 1889.02 1531.6 Q1889.02 1524.47 1887.19 1520.93 Q1885.38 1517.37 1881.75 1517.37 M1881.75 1513.66 Q1887.56 1513.66 1890.61 1518.27 Q1893.69 1522.85 1893.69 1531.6 Q1893.69 1540.33 1890.61 1544.94 Q1887.56 1549.52 1881.75 1549.52 Q1875.94 1549.52 1872.86 1544.94 Q1869.8 1540.33 1869.8 1531.6 Q1869.8 1522.85 1872.86 1518.27 Q1875.94 1513.66 1881.75 1513.66 Z\" fill=\"#000000\" fill-rule=\"evenodd\" fill-opacity=\"1\" /><polyline clip-path=\"url(#clip852)\" style=\"stroke:#000000; stroke-linecap:butt; stroke-linejoin:round; stroke-width:2; stroke-opacity:0.1; fill:none\" points=\"\n",
       "  138.959,1483.59 2352.76,1483.59 \n",
       "  \"/>\n",
       "<polyline clip-path=\"url(#clip852)\" style=\"stroke:#000000; stroke-linecap:butt; stroke-linejoin:round; stroke-width:2; stroke-opacity:0.1; fill:none\" points=\"\n",
       "  138.959,1082.13 2352.76,1082.13 \n",
       "  \"/>\n",
       "<polyline clip-path=\"url(#clip852)\" style=\"stroke:#000000; stroke-linecap:butt; stroke-linejoin:round; stroke-width:2; stroke-opacity:0.1; fill:none\" points=\"\n",
       "  138.959,680.681 2352.76,680.681 \n",
       "  \"/>\n",
       "<polyline clip-path=\"url(#clip852)\" style=\"stroke:#000000; stroke-linecap:butt; stroke-linejoin:round; stroke-width:2; stroke-opacity:0.1; fill:none\" points=\"\n",
       "  138.959,279.228 2352.76,279.228 \n",
       "  \"/>\n",
       "<polyline clip-path=\"url(#clip850)\" style=\"stroke:#000000; stroke-linecap:butt; stroke-linejoin:round; stroke-width:4; stroke-opacity:1; fill:none\" points=\"\n",
       "  138.959,1486.45 138.959,47.2441 \n",
       "  \"/>\n",
       "<polyline clip-path=\"url(#clip850)\" style=\"stroke:#000000; stroke-linecap:butt; stroke-linejoin:round; stroke-width:4; stroke-opacity:1; fill:none\" points=\"\n",
       "  138.959,1483.59 157.857,1483.59 \n",
       "  \"/>\n",
       "<polyline clip-path=\"url(#clip850)\" style=\"stroke:#000000; stroke-linecap:butt; stroke-linejoin:round; stroke-width:4; stroke-opacity:1; fill:none\" points=\"\n",
       "  138.959,1082.13 157.857,1082.13 \n",
       "  \"/>\n",
       "<polyline clip-path=\"url(#clip850)\" style=\"stroke:#000000; stroke-linecap:butt; stroke-linejoin:round; stroke-width:4; stroke-opacity:1; fill:none\" points=\"\n",
       "  138.959,680.681 157.857,680.681 \n",
       "  \"/>\n",
       "<polyline clip-path=\"url(#clip850)\" style=\"stroke:#000000; stroke-linecap:butt; stroke-linejoin:round; stroke-width:4; stroke-opacity:1; fill:none\" points=\"\n",
       "  138.959,279.228 157.857,279.228 \n",
       "  \"/>\n",
       "<path clip-path=\"url(#clip850)\" d=\"M91.0151 1469.39 Q87.404 1469.39 85.5753 1472.95 Q83.7697 1476.49 83.7697 1483.62 Q83.7697 1490.73 85.5753 1494.29 Q87.404 1497.84 91.0151 1497.84 Q94.6493 1497.84 96.4548 1494.29 Q98.2835 1490.73 98.2835 1483.62 Q98.2835 1476.49 96.4548 1472.95 Q94.6493 1469.39 91.0151 1469.39 M91.0151 1465.68 Q96.8252 1465.68 99.8808 1470.29 Q102.959 1474.87 102.959 1483.62 Q102.959 1492.35 99.8808 1496.96 Q96.8252 1501.54 91.0151 1501.54 Q85.2049 1501.54 82.1262 1496.96 Q79.0707 1492.35 79.0707 1483.62 Q79.0707 1474.87 82.1262 1470.29 Q85.2049 1465.68 91.0151 1465.68 Z\" fill=\"#000000\" fill-rule=\"evenodd\" fill-opacity=\"1\" /><path clip-path=\"url(#clip850)\" d=\"M82.0568 1064.85 L100.413 1064.85 L100.413 1068.79 L86.3392 1068.79 L86.3392 1077.26 Q87.3577 1076.91 88.3762 1076.75 Q89.3947 1076.57 90.4132 1076.57 Q96.2002 1076.57 99.5798 1079.74 Q102.959 1082.91 102.959 1088.33 Q102.959 1093.91 99.4872 1097.01 Q96.015 1100.09 89.6956 1100.09 Q87.5197 1100.09 85.2512 1099.72 Q83.0058 1099.35 80.5984 1098.6 L80.5984 1093.91 Q82.6818 1095.04 84.904 1095.6 Q87.1262 1096.15 89.603 1096.15 Q93.6076 1096.15 95.9456 1094.04 Q98.2835 1091.94 98.2835 1088.33 Q98.2835 1084.72 95.9456 1082.61 Q93.6076 1080.5 89.603 1080.5 Q87.728 1080.5 85.8531 1080.92 Q84.0012 1081.34 82.0568 1082.22 L82.0568 1064.85 Z\" fill=\"#000000\" fill-rule=\"evenodd\" fill-opacity=\"1\" /><path clip-path=\"url(#clip850)\" d=\"M51.6634 694.026 L59.3023 694.026 L59.3023 667.661 L50.9921 669.327 L50.9921 665.068 L59.256 663.401 L63.9319 663.401 L63.9319 694.026 L71.5707 694.026 L71.5707 697.961 L51.6634 697.961 L51.6634 694.026 Z\" fill=\"#000000\" fill-rule=\"evenodd\" fill-opacity=\"1\" /><path clip-path=\"url(#clip850)\" d=\"M91.0151 666.48 Q87.404 666.48 85.5753 670.045 Q83.7697 673.587 83.7697 680.716 Q83.7697 687.823 85.5753 691.387 Q87.404 694.929 91.0151 694.929 Q94.6493 694.929 96.4548 691.387 Q98.2835 687.823 98.2835 680.716 Q98.2835 673.587 96.4548 670.045 Q94.6493 666.48 91.0151 666.48 M91.0151 662.777 Q96.8252 662.777 99.8808 667.383 Q102.959 671.966 102.959 680.716 Q102.959 689.443 99.8808 694.049 Q96.8252 698.633 91.0151 698.633 Q85.2049 698.633 82.1262 694.049 Q79.0707 689.443 79.0707 680.716 Q79.0707 671.966 82.1262 667.383 Q85.2049 662.777 91.0151 662.777 Z\" fill=\"#000000\" fill-rule=\"evenodd\" fill-opacity=\"1\" /><path clip-path=\"url(#clip850)\" d=\"M52.6588 292.573 L60.2976 292.573 L60.2976 266.208 L51.9875 267.874 L51.9875 263.615 L60.2513 261.948 L64.9272 261.948 L64.9272 292.573 L72.5661 292.573 L72.5661 296.508 L52.6588 296.508 L52.6588 292.573 Z\" fill=\"#000000\" fill-rule=\"evenodd\" fill-opacity=\"1\" /><path clip-path=\"url(#clip850)\" d=\"M82.0568 261.948 L100.413 261.948 L100.413 265.884 L86.3392 265.884 L86.3392 274.356 Q87.3577 274.009 88.3762 273.847 Q89.3947 273.661 90.4132 273.661 Q96.2002 273.661 99.5798 276.833 Q102.959 280.004 102.959 285.421 Q102.959 290.999 99.4872 294.101 Q96.015 297.18 89.6956 297.18 Q87.5197 297.18 85.2512 296.809 Q83.0058 296.439 80.5984 295.698 L80.5984 290.999 Q82.6818 292.134 84.904 292.689 Q87.1262 293.245 89.603 293.245 Q93.6076 293.245 95.9456 291.138 Q98.2835 289.032 98.2835 285.421 Q98.2835 281.809 95.9456 279.703 Q93.6076 277.597 89.603 277.597 Q87.728 277.597 85.8531 278.013 Q84.0012 278.43 82.0568 279.31 L82.0568 261.948 Z\" fill=\"#000000\" fill-rule=\"evenodd\" fill-opacity=\"1\" /><circle clip-path=\"url(#clip852)\" cx=\"201.614\" cy=\"1162.81\" r=\"14\" fill=\"#009af9\" fill-rule=\"evenodd\" fill-opacity=\"1\" stroke=\"#000000\" stroke-opacity=\"1\" stroke-width=\"3.2\"/>\n",
       "<circle clip-path=\"url(#clip852)\" cx=\"229.837\" cy=\"1291.01\" r=\"14\" fill=\"#009af9\" fill-rule=\"evenodd\" fill-opacity=\"1\" stroke=\"#000000\" stroke-opacity=\"1\" stroke-width=\"3.2\"/>\n",
       "<circle clip-path=\"url(#clip852)\" cx=\"258.06\" cy=\"1105.83\" r=\"14\" fill=\"#009af9\" fill-rule=\"evenodd\" fill-opacity=\"1\" stroke=\"#000000\" stroke-opacity=\"1\" stroke-width=\"3.2\"/>\n",
       "<circle clip-path=\"url(#clip852)\" cx=\"286.282\" cy=\"87.9763\" r=\"14\" fill=\"#009af9\" fill-rule=\"evenodd\" fill-opacity=\"1\" stroke=\"#000000\" stroke-opacity=\"1\" stroke-width=\"3.2\"/>\n",
       "<circle clip-path=\"url(#clip852)\" cx=\"314.505\" cy=\"586.641\" r=\"14\" fill=\"#009af9\" fill-rule=\"evenodd\" fill-opacity=\"1\" stroke=\"#000000\" stroke-opacity=\"1\" stroke-width=\"3.2\"/>\n",
       "<circle clip-path=\"url(#clip852)\" cx=\"342.728\" cy=\"147.055\" r=\"14\" fill=\"#009af9\" fill-rule=\"evenodd\" fill-opacity=\"1\" stroke=\"#000000\" stroke-opacity=\"1\" stroke-width=\"3.2\"/>\n",
       "<circle clip-path=\"url(#clip852)\" cx=\"370.951\" cy=\"1178.03\" r=\"14\" fill=\"#009af9\" fill-rule=\"evenodd\" fill-opacity=\"1\" stroke=\"#000000\" stroke-opacity=\"1\" stroke-width=\"3.2\"/>\n",
       "<circle clip-path=\"url(#clip852)\" cx=\"399.174\" cy=\"1220.16\" r=\"14\" fill=\"#009af9\" fill-rule=\"evenodd\" fill-opacity=\"1\" stroke=\"#000000\" stroke-opacity=\"1\" stroke-width=\"3.2\"/>\n",
       "<circle clip-path=\"url(#clip852)\" cx=\"427.396\" cy=\"1154.46\" r=\"14\" fill=\"#009af9\" fill-rule=\"evenodd\" fill-opacity=\"1\" stroke=\"#000000\" stroke-opacity=\"1\" stroke-width=\"3.2\"/>\n",
       "<circle clip-path=\"url(#clip852)\" cx=\"455.619\" cy=\"87.9763\" r=\"14\" fill=\"#009af9\" fill-rule=\"evenodd\" fill-opacity=\"1\" stroke=\"#000000\" stroke-opacity=\"1\" stroke-width=\"3.2\"/>\n",
       "<circle clip-path=\"url(#clip852)\" cx=\"483.842\" cy=\"87.9763\" r=\"14\" fill=\"#009af9\" fill-rule=\"evenodd\" fill-opacity=\"1\" stroke=\"#000000\" stroke-opacity=\"1\" stroke-width=\"3.2\"/>\n",
       "<circle clip-path=\"url(#clip852)\" cx=\"512.065\" cy=\"806.785\" r=\"14\" fill=\"#009af9\" fill-rule=\"evenodd\" fill-opacity=\"1\" stroke=\"#000000\" stroke-opacity=\"1\" stroke-width=\"3.2\"/>\n",
       "<circle clip-path=\"url(#clip852)\" cx=\"540.288\" cy=\"337.672\" r=\"14\" fill=\"#009af9\" fill-rule=\"evenodd\" fill-opacity=\"1\" stroke=\"#000000\" stroke-opacity=\"1\" stroke-width=\"3.2\"/>\n",
       "<circle clip-path=\"url(#clip852)\" cx=\"568.51\" cy=\"281.821\" r=\"14\" fill=\"#009af9\" fill-rule=\"evenodd\" fill-opacity=\"1\" stroke=\"#000000\" stroke-opacity=\"1\" stroke-width=\"3.2\"/>\n",
       "<circle clip-path=\"url(#clip852)\" cx=\"596.733\" cy=\"1219.13\" r=\"14\" fill=\"#009af9\" fill-rule=\"evenodd\" fill-opacity=\"1\" stroke=\"#000000\" stroke-opacity=\"1\" stroke-width=\"3.2\"/>\n",
       "<circle clip-path=\"url(#clip852)\" cx=\"624.956\" cy=\"87.9763\" r=\"14\" fill=\"#009af9\" fill-rule=\"evenodd\" fill-opacity=\"1\" stroke=\"#000000\" stroke-opacity=\"1\" stroke-width=\"3.2\"/>\n",
       "<circle clip-path=\"url(#clip852)\" cx=\"653.179\" cy=\"1102.73\" r=\"14\" fill=\"#009af9\" fill-rule=\"evenodd\" fill-opacity=\"1\" stroke=\"#000000\" stroke-opacity=\"1\" stroke-width=\"3.2\"/>\n",
       "<circle clip-path=\"url(#clip852)\" cx=\"681.402\" cy=\"1182.58\" r=\"14\" fill=\"#009af9\" fill-rule=\"evenodd\" fill-opacity=\"1\" stroke=\"#000000\" stroke-opacity=\"1\" stroke-width=\"3.2\"/>\n",
       "<circle clip-path=\"url(#clip852)\" cx=\"709.624\" cy=\"87.9763\" r=\"14\" fill=\"#009af9\" fill-rule=\"evenodd\" fill-opacity=\"1\" stroke=\"#000000\" stroke-opacity=\"1\" stroke-width=\"3.2\"/>\n",
       "<circle clip-path=\"url(#clip852)\" cx=\"737.847\" cy=\"87.9763\" r=\"14\" fill=\"#009af9\" fill-rule=\"evenodd\" fill-opacity=\"1\" stroke=\"#000000\" stroke-opacity=\"1\" stroke-width=\"3.2\"/>\n",
       "<circle clip-path=\"url(#clip852)\" cx=\"766.07\" cy=\"365.382\" r=\"14\" fill=\"#009af9\" fill-rule=\"evenodd\" fill-opacity=\"1\" stroke=\"#000000\" stroke-opacity=\"1\" stroke-width=\"3.2\"/>\n",
       "<circle clip-path=\"url(#clip852)\" cx=\"794.293\" cy=\"847.378\" r=\"14\" fill=\"#009af9\" fill-rule=\"evenodd\" fill-opacity=\"1\" stroke=\"#000000\" stroke-opacity=\"1\" stroke-width=\"3.2\"/>\n",
       "<circle clip-path=\"url(#clip852)\" cx=\"822.516\" cy=\"1144.7\" r=\"14\" fill=\"#009af9\" fill-rule=\"evenodd\" fill-opacity=\"1\" stroke=\"#000000\" stroke-opacity=\"1\" stroke-width=\"3.2\"/>\n",
       "<circle clip-path=\"url(#clip852)\" cx=\"850.738\" cy=\"429.92\" r=\"14\" fill=\"#009af9\" fill-rule=\"evenodd\" fill-opacity=\"1\" stroke=\"#000000\" stroke-opacity=\"1\" stroke-width=\"3.2\"/>\n",
       "<circle clip-path=\"url(#clip852)\" cx=\"878.961\" cy=\"87.9763\" r=\"14\" fill=\"#009af9\" fill-rule=\"evenodd\" fill-opacity=\"1\" stroke=\"#000000\" stroke-opacity=\"1\" stroke-width=\"3.2\"/>\n",
       "<circle clip-path=\"url(#clip852)\" cx=\"907.184\" cy=\"87.9763\" r=\"14\" fill=\"#009af9\" fill-rule=\"evenodd\" fill-opacity=\"1\" stroke=\"#000000\" stroke-opacity=\"1\" stroke-width=\"3.2\"/>\n",
       "<circle clip-path=\"url(#clip852)\" cx=\"935.407\" cy=\"87.9763\" r=\"14\" fill=\"#009af9\" fill-rule=\"evenodd\" fill-opacity=\"1\" stroke=\"#000000\" stroke-opacity=\"1\" stroke-width=\"3.2\"/>\n",
       "<circle clip-path=\"url(#clip852)\" cx=\"963.63\" cy=\"529.133\" r=\"14\" fill=\"#009af9\" fill-rule=\"evenodd\" fill-opacity=\"1\" stroke=\"#000000\" stroke-opacity=\"1\" stroke-width=\"3.2\"/>\n",
       "<circle clip-path=\"url(#clip852)\" cx=\"991.852\" cy=\"87.9763\" r=\"14\" fill=\"#009af9\" fill-rule=\"evenodd\" fill-opacity=\"1\" stroke=\"#000000\" stroke-opacity=\"1\" stroke-width=\"3.2\"/>\n",
       "<circle clip-path=\"url(#clip852)\" cx=\"1020.08\" cy=\"450.432\" r=\"14\" fill=\"#009af9\" fill-rule=\"evenodd\" fill-opacity=\"1\" stroke=\"#000000\" stroke-opacity=\"1\" stroke-width=\"3.2\"/>\n",
       "<circle clip-path=\"url(#clip852)\" cx=\"1048.3\" cy=\"783.308\" r=\"14\" fill=\"#009af9\" fill-rule=\"evenodd\" fill-opacity=\"1\" stroke=\"#000000\" stroke-opacity=\"1\" stroke-width=\"3.2\"/>\n",
       "<circle clip-path=\"url(#clip852)\" cx=\"1076.52\" cy=\"87.9763\" r=\"14\" fill=\"#009af9\" fill-rule=\"evenodd\" fill-opacity=\"1\" stroke=\"#000000\" stroke-opacity=\"1\" stroke-width=\"3.2\"/>\n",
       "<circle clip-path=\"url(#clip852)\" cx=\"1104.74\" cy=\"334.12\" r=\"14\" fill=\"#009af9\" fill-rule=\"evenodd\" fill-opacity=\"1\" stroke=\"#000000\" stroke-opacity=\"1\" stroke-width=\"3.2\"/>\n",
       "<circle clip-path=\"url(#clip852)\" cx=\"1132.97\" cy=\"1070.92\" r=\"14\" fill=\"#009af9\" fill-rule=\"evenodd\" fill-opacity=\"1\" stroke=\"#000000\" stroke-opacity=\"1\" stroke-width=\"3.2\"/>\n",
       "<circle clip-path=\"url(#clip852)\" cx=\"1161.19\" cy=\"87.9763\" r=\"14\" fill=\"#009af9\" fill-rule=\"evenodd\" fill-opacity=\"1\" stroke=\"#000000\" stroke-opacity=\"1\" stroke-width=\"3.2\"/>\n",
       "<circle clip-path=\"url(#clip852)\" cx=\"1189.41\" cy=\"87.9763\" r=\"14\" fill=\"#009af9\" fill-rule=\"evenodd\" fill-opacity=\"1\" stroke=\"#000000\" stroke-opacity=\"1\" stroke-width=\"3.2\"/>\n",
       "<circle clip-path=\"url(#clip852)\" cx=\"1217.63\" cy=\"1116.01\" r=\"14\" fill=\"#009af9\" fill-rule=\"evenodd\" fill-opacity=\"1\" stroke=\"#000000\" stroke-opacity=\"1\" stroke-width=\"3.2\"/>\n",
       "<circle clip-path=\"url(#clip852)\" cx=\"1245.86\" cy=\"1129.94\" r=\"14\" fill=\"#009af9\" fill-rule=\"evenodd\" fill-opacity=\"1\" stroke=\"#000000\" stroke-opacity=\"1\" stroke-width=\"3.2\"/>\n",
       "<circle clip-path=\"url(#clip852)\" cx=\"1274.08\" cy=\"87.9763\" r=\"14\" fill=\"#009af9\" fill-rule=\"evenodd\" fill-opacity=\"1\" stroke=\"#000000\" stroke-opacity=\"1\" stroke-width=\"3.2\"/>\n",
       "<circle clip-path=\"url(#clip852)\" cx=\"1302.3\" cy=\"442.003\" r=\"14\" fill=\"#009af9\" fill-rule=\"evenodd\" fill-opacity=\"1\" stroke=\"#000000\" stroke-opacity=\"1\" stroke-width=\"3.2\"/>\n",
       "<circle clip-path=\"url(#clip852)\" cx=\"1330.53\" cy=\"87.9763\" r=\"14\" fill=\"#009af9\" fill-rule=\"evenodd\" fill-opacity=\"1\" stroke=\"#000000\" stroke-opacity=\"1\" stroke-width=\"3.2\"/>\n",
       "<circle clip-path=\"url(#clip852)\" cx=\"1358.75\" cy=\"87.9763\" r=\"14\" fill=\"#009af9\" fill-rule=\"evenodd\" fill-opacity=\"1\" stroke=\"#000000\" stroke-opacity=\"1\" stroke-width=\"3.2\"/>\n",
       "<circle clip-path=\"url(#clip852)\" cx=\"1386.97\" cy=\"838.877\" r=\"14\" fill=\"#009af9\" fill-rule=\"evenodd\" fill-opacity=\"1\" stroke=\"#000000\" stroke-opacity=\"1\" stroke-width=\"3.2\"/>\n",
       "<circle clip-path=\"url(#clip852)\" cx=\"1415.19\" cy=\"87.9763\" r=\"14\" fill=\"#009af9\" fill-rule=\"evenodd\" fill-opacity=\"1\" stroke=\"#000000\" stroke-opacity=\"1\" stroke-width=\"3.2\"/>\n",
       "<circle clip-path=\"url(#clip852)\" cx=\"1443.42\" cy=\"332.348\" r=\"14\" fill=\"#009af9\" fill-rule=\"evenodd\" fill-opacity=\"1\" stroke=\"#000000\" stroke-opacity=\"1\" stroke-width=\"3.2\"/>\n",
       "<circle clip-path=\"url(#clip852)\" cx=\"1471.64\" cy=\"476.443\" r=\"14\" fill=\"#009af9\" fill-rule=\"evenodd\" fill-opacity=\"1\" stroke=\"#000000\" stroke-opacity=\"1\" stroke-width=\"3.2\"/>\n",
       "<circle clip-path=\"url(#clip852)\" cx=\"1499.86\" cy=\"1070.92\" r=\"14\" fill=\"#009af9\" fill-rule=\"evenodd\" fill-opacity=\"1\" stroke=\"#000000\" stroke-opacity=\"1\" stroke-width=\"3.2\"/>\n",
       "<circle clip-path=\"url(#clip852)\" cx=\"1528.09\" cy=\"726.38\" r=\"14\" fill=\"#009af9\" fill-rule=\"evenodd\" fill-opacity=\"1\" stroke=\"#000000\" stroke-opacity=\"1\" stroke-width=\"3.2\"/>\n",
       "<circle clip-path=\"url(#clip852)\" cx=\"1556.31\" cy=\"1281.17\" r=\"14\" fill=\"#009af9\" fill-rule=\"evenodd\" fill-opacity=\"1\" stroke=\"#000000\" stroke-opacity=\"1\" stroke-width=\"3.2\"/>\n",
       "<circle clip-path=\"url(#clip852)\" cx=\"1584.53\" cy=\"87.9763\" r=\"14\" fill=\"#009af9\" fill-rule=\"evenodd\" fill-opacity=\"1\" stroke=\"#000000\" stroke-opacity=\"1\" stroke-width=\"3.2\"/>\n",
       "<circle clip-path=\"url(#clip852)\" cx=\"1612.75\" cy=\"87.9763\" r=\"14\" fill=\"#009af9\" fill-rule=\"evenodd\" fill-opacity=\"1\" stroke=\"#000000\" stroke-opacity=\"1\" stroke-width=\"3.2\"/>\n",
       "<circle clip-path=\"url(#clip852)\" cx=\"1640.98\" cy=\"529.098\" r=\"14\" fill=\"#009af9\" fill-rule=\"evenodd\" fill-opacity=\"1\" stroke=\"#000000\" stroke-opacity=\"1\" stroke-width=\"3.2\"/>\n",
       "<circle clip-path=\"url(#clip852)\" cx=\"1669.2\" cy=\"87.9763\" r=\"14\" fill=\"#009af9\" fill-rule=\"evenodd\" fill-opacity=\"1\" stroke=\"#000000\" stroke-opacity=\"1\" stroke-width=\"3.2\"/>\n",
       "<circle clip-path=\"url(#clip852)\" cx=\"1697.42\" cy=\"369.796\" r=\"14\" fill=\"#009af9\" fill-rule=\"evenodd\" fill-opacity=\"1\" stroke=\"#000000\" stroke-opacity=\"1\" stroke-width=\"3.2\"/>\n",
       "<circle clip-path=\"url(#clip852)\" cx=\"1725.65\" cy=\"87.9763\" r=\"14\" fill=\"#009af9\" fill-rule=\"evenodd\" fill-opacity=\"1\" stroke=\"#000000\" stroke-opacity=\"1\" stroke-width=\"3.2\"/>\n",
       "<circle clip-path=\"url(#clip852)\" cx=\"1753.87\" cy=\"1445.72\" r=\"14\" fill=\"#009af9\" fill-rule=\"evenodd\" fill-opacity=\"1\" stroke=\"#000000\" stroke-opacity=\"1\" stroke-width=\"3.2\"/>\n",
       "<circle clip-path=\"url(#clip852)\" cx=\"1782.09\" cy=\"523.462\" r=\"14\" fill=\"#009af9\" fill-rule=\"evenodd\" fill-opacity=\"1\" stroke=\"#000000\" stroke-opacity=\"1\" stroke-width=\"3.2\"/>\n",
       "<circle clip-path=\"url(#clip852)\" cx=\"1810.31\" cy=\"549.856\" r=\"14\" fill=\"#009af9\" fill-rule=\"evenodd\" fill-opacity=\"1\" stroke=\"#000000\" stroke-opacity=\"1\" stroke-width=\"3.2\"/>\n",
       "<circle clip-path=\"url(#clip852)\" cx=\"1838.54\" cy=\"87.9763\" r=\"14\" fill=\"#009af9\" fill-rule=\"evenodd\" fill-opacity=\"1\" stroke=\"#000000\" stroke-opacity=\"1\" stroke-width=\"3.2\"/>\n",
       "<circle clip-path=\"url(#clip852)\" cx=\"1866.76\" cy=\"87.9763\" r=\"14\" fill=\"#009af9\" fill-rule=\"evenodd\" fill-opacity=\"1\" stroke=\"#000000\" stroke-opacity=\"1\" stroke-width=\"3.2\"/>\n",
       "<circle clip-path=\"url(#clip852)\" cx=\"1894.98\" cy=\"87.9763\" r=\"14\" fill=\"#009af9\" fill-rule=\"evenodd\" fill-opacity=\"1\" stroke=\"#000000\" stroke-opacity=\"1\" stroke-width=\"3.2\"/>\n",
       "<circle clip-path=\"url(#clip852)\" cx=\"1923.2\" cy=\"87.9763\" r=\"14\" fill=\"#009af9\" fill-rule=\"evenodd\" fill-opacity=\"1\" stroke=\"#000000\" stroke-opacity=\"1\" stroke-width=\"3.2\"/>\n",
       "<circle clip-path=\"url(#clip852)\" cx=\"1951.43\" cy=\"87.9763\" r=\"14\" fill=\"#009af9\" fill-rule=\"evenodd\" fill-opacity=\"1\" stroke=\"#000000\" stroke-opacity=\"1\" stroke-width=\"3.2\"/>\n",
       "<circle clip-path=\"url(#clip852)\" cx=\"1979.65\" cy=\"168.139\" r=\"14\" fill=\"#009af9\" fill-rule=\"evenodd\" fill-opacity=\"1\" stroke=\"#000000\" stroke-opacity=\"1\" stroke-width=\"3.2\"/>\n",
       "<circle clip-path=\"url(#clip852)\" cx=\"2007.87\" cy=\"87.9763\" r=\"14\" fill=\"#009af9\" fill-rule=\"evenodd\" fill-opacity=\"1\" stroke=\"#000000\" stroke-opacity=\"1\" stroke-width=\"3.2\"/>\n",
       "<circle clip-path=\"url(#clip852)\" cx=\"2036.1\" cy=\"87.9763\" r=\"14\" fill=\"#009af9\" fill-rule=\"evenodd\" fill-opacity=\"1\" stroke=\"#000000\" stroke-opacity=\"1\" stroke-width=\"3.2\"/>\n",
       "<circle clip-path=\"url(#clip852)\" cx=\"2064.32\" cy=\"87.9763\" r=\"14\" fill=\"#009af9\" fill-rule=\"evenodd\" fill-opacity=\"1\" stroke=\"#000000\" stroke-opacity=\"1\" stroke-width=\"3.2\"/>\n",
       "<circle clip-path=\"url(#clip852)\" cx=\"2092.54\" cy=\"87.9763\" r=\"14\" fill=\"#009af9\" fill-rule=\"evenodd\" fill-opacity=\"1\" stroke=\"#000000\" stroke-opacity=\"1\" stroke-width=\"3.2\"/>\n",
       "<circle clip-path=\"url(#clip852)\" cx=\"2120.76\" cy=\"87.9763\" r=\"14\" fill=\"#009af9\" fill-rule=\"evenodd\" fill-opacity=\"1\" stroke=\"#000000\" stroke-opacity=\"1\" stroke-width=\"3.2\"/>\n",
       "<circle clip-path=\"url(#clip852)\" cx=\"2148.99\" cy=\"87.9763\" r=\"14\" fill=\"#009af9\" fill-rule=\"evenodd\" fill-opacity=\"1\" stroke=\"#000000\" stroke-opacity=\"1\" stroke-width=\"3.2\"/>\n",
       "<circle clip-path=\"url(#clip852)\" cx=\"2177.21\" cy=\"87.9763\" r=\"14\" fill=\"#009af9\" fill-rule=\"evenodd\" fill-opacity=\"1\" stroke=\"#000000\" stroke-opacity=\"1\" stroke-width=\"3.2\"/>\n",
       "<circle clip-path=\"url(#clip852)\" cx=\"2205.43\" cy=\"743.109\" r=\"14\" fill=\"#009af9\" fill-rule=\"evenodd\" fill-opacity=\"1\" stroke=\"#000000\" stroke-opacity=\"1\" stroke-width=\"3.2\"/>\n",
       "<circle clip-path=\"url(#clip852)\" cx=\"2233.66\" cy=\"1220.99\" r=\"14\" fill=\"#009af9\" fill-rule=\"evenodd\" fill-opacity=\"1\" stroke=\"#000000\" stroke-opacity=\"1\" stroke-width=\"3.2\"/>\n",
       "<circle clip-path=\"url(#clip852)\" cx=\"2261.88\" cy=\"87.9763\" r=\"14\" fill=\"#009af9\" fill-rule=\"evenodd\" fill-opacity=\"1\" stroke=\"#000000\" stroke-opacity=\"1\" stroke-width=\"3.2\"/>\n",
       "<circle clip-path=\"url(#clip852)\" cx=\"2290.1\" cy=\"786.452\" r=\"14\" fill=\"#009af9\" fill-rule=\"evenodd\" fill-opacity=\"1\" stroke=\"#000000\" stroke-opacity=\"1\" stroke-width=\"3.2\"/>\n",
       "<path clip-path=\"url(#clip850)\" d=\"\n",
       "M1980.56 198.898 L2278.96 198.898 L2278.96 95.2176 L1980.56 95.2176  Z\n",
       "  \" fill=\"#ffffff\" fill-rule=\"evenodd\" fill-opacity=\"1\"/>\n",
       "<polyline clip-path=\"url(#clip850)\" style=\"stroke:#000000; stroke-linecap:butt; stroke-linejoin:round; stroke-width:4; stroke-opacity:1; fill:none\" points=\"\n",
       "  1980.56,198.898 2278.96,198.898 2278.96,95.2176 1980.56,95.2176 1980.56,198.898 \n",
       "  \"/>\n",
       "<circle clip-path=\"url(#clip850)\" cx=\"2078.95\" cy=\"147.058\" r=\"23\" fill=\"#009af9\" fill-rule=\"evenodd\" fill-opacity=\"1\" stroke=\"#000000\" stroke-opacity=\"1\" stroke-width=\"5.12\"/>\n",
       "<path clip-path=\"url(#clip850)\" d=\"M2191.18 166.745 Q2189.37 171.375 2187.66 172.787 Q2185.95 174.199 2183.08 174.199 L2179.67 174.199 L2179.67 170.634 L2182.17 170.634 Q2183.93 170.634 2184.91 169.8 Q2185.88 168.967 2187.06 165.865 L2187.82 163.921 L2177.34 138.412 L2181.85 138.412 L2189.95 158.689 L2198.05 138.412 L2202.57 138.412 L2191.18 166.745 Z\" fill=\"#000000\" fill-rule=\"evenodd\" fill-opacity=\"1\" /><path clip-path=\"url(#clip850)\" d=\"M2209.86 160.402 L2217.5 160.402 L2217.5 134.037 L2209.19 135.703 L2209.19 131.444 L2217.45 129.778 L2222.13 129.778 L2222.13 160.402 L2229.77 160.402 L2229.77 164.338 L2209.86 164.338 L2209.86 160.402 Z\" fill=\"#000000\" fill-rule=\"evenodd\" fill-opacity=\"1\" /></svg>\n"
      ]
     },
     "execution_count": 19,
     "metadata": {},
     "output_type": "execute_result"
    }
   ],
   "source": [
    "Mp = StochasticModel(Igen, T, θp, G, θpgen,V);\n",
    "sample! = Sampler(Mp);\n",
    "xtrue = zeros(N)\n",
    "sample!(xtrue)\n",
    "println(sum(xtrue .< T)/N)\n",
    "scatter(xtrue)"
   ]
  },
  {
   "cell_type": "code",
   "execution_count": 21,
   "metadata": {},
   "outputs": [
    {
     "data": {
      "text/plain": [
       "400-element Vector{Tuple{Int64, Bool, Float64, Float64}}:\n",
       " (22, 1, 9.319958125525796, 0.1)\n",
       " (19, 0, 6.181928031440722, 0.1)\n",
       " (6, 0, 16.93825894106721, 0.1)\n",
       " (65, 1, 15.279519141739948, 0.1)\n",
       " (6, 0, 3.3121430285264952, 0.1)\n",
       " (6, 0, 15.501728214543412, 0.1)\n",
       " (69, 0, 11.274696786179993, 0.1)\n",
       " (31, 0, 4.619431666416705, 0.1)\n",
       " (40, 0, 3.728948419700699, 0.1)\n",
       " (56, 1, 13.280638733231662, 0.1)\n",
       " (60, 0, 9.45830264543416, 0.1)\n",
       " (15, 1, 10.634435517907544, 0.1)\n",
       " (60, 0, 6.676867960187131, 0.1)\n",
       " ⋮\n",
       " (50, 0, 3.2872724407666483, 0.1)\n",
       " (66, 0, 4.615225156927917, 0.1)\n",
       " (28, 0, 11.149656322042855, 0.1)\n",
       " (58, 0, 11.754744562963552, 0.1)\n",
       " (60, 0, 15.260179013895572, 0.1)\n",
       " (19, 1, 5.226348096612744, 0.1)\n",
       " (3, 1, 5.757969926825538, 0.1)\n",
       " (2, 1, 14.666901570108875, 0.1)\n",
       " (51, 0, 13.95767671729355, 0.1)\n",
       " (28, 1, 12.114265188415791, 0.1)\n",
       " (31, 0, 11.405806895659865, 0.1)\n",
       " (40, 0, 3.794035414787822, 0.1)"
      ]
     },
     "execution_count": 21,
     "metadata": {},
     "output_type": "execute_result"
    }
   ],
   "source": [
    "nobs, p = 400, 1e-5\n",
    "O = [(i = rand(1:N) ; ti = T*(0.2+rand())/1.2; (i,xtrue[i] < ti,ti,p)) for l=1:nobs]\n",
    "f_rate = 1/10\n",
    "Ofalse=[rand()< f_rate ? (o[1],!o[2],o[3],f_rate) : (o[1],o[2],o[3],f_rate) for o in O]"
   ]
  },
  {
   "cell_type": "code",
   "execution_count": 22,
   "metadata": {},
   "outputs": [],
   "source": [
    "#Softened model\n",
    "T = Float64(T)\n",
    "#ε = 3e-2 / T \n",
    "#autoinf = GaussianRate(ε, T/2, T);\n",
    "θp2gen = getpargen(pseed, autoinf, inf_out);\n",
    "inf_in = GaussianRate(1., T/2, 3*T );\n",
    "\n",
    "θp2 = getpar(pseed, autoinf, inf_in);\n",
    "Mp2 = StochasticModel(Igen, T, θp2, G, θp2gen, V);"
   ]
  },
  {
   "cell_type": "markdown",
   "metadata": {},
   "source": [
    "## Causality "
   ]
  },
  {
   "cell_type": "raw",
   "metadata": {
    "jupyter": {
     "outputs_hidden": true
    }
   },
   "source": [
    "# tecnica in cui metto un'osservazione alla volta\n",
    "for i=1:Int(round(nobs/10))\n",
    "    F = descend!(Mp2, Ofalse[1:Int(10*i)]; M=M, numsamples=1000, numiters=10, \n",
    "         θmin=θmin, θmax=θmax,θgenmin=θgenmin, θgenmax=θgenmax, descender=SignDescender(0.1),\n",
    "         hyperdescender=SignDescender(0.));\n",
    "end\n",
    "F = descend!(Mp2, Ofalse; M=M, numsamples=1000, numiters=100, \n",
    "         θmin=θmin, θmax=θmax,θgenmin=θgenmin, θgenmax=θgenmax, descender=SignDescender(0.03),\n",
    "         hyperdescender=SignDescender(0.));"
   ]
  },
  {
   "cell_type": "code",
   "execution_count": 23,
   "metadata": {},
   "outputs": [],
   "source": [
    "θ = getpar(pseed, autoinf, inf_in);\n",
    "M = StochasticModel(Igauss, T, θ, G, θp2gen, V);"
   ]
  },
  {
   "cell_type": "code",
   "execution_count": 196,
   "metadata": {},
   "outputs": [
    {
     "name": "stderr",
     "output_type": "stream",
     "text": [
      "\u001b[32mProgress: 100%|█████████████████████████████████████████| Time: 0:14:47\u001b[39m\n",
      "\u001b[34m  F:  8621.11577397988\u001b[39m\n"
     ]
    }
   ],
   "source": [
    "using ProgressMeter\n",
    "ProgressMeter.ijulia_behavior(:clear)\n",
    "F = descend!(Mp2, Ofalse; M=M, numsamples=1000, numiters=100, \n",
    "         θmin=θmin, θmax=θmax,θgenmin=θgenmin, θgenmax=θgenmax, descender=SignDescender(0.1),\n",
    "         hyperdescender=SignDescender(0.));\n",
    "F = descend!(Mp2, Ofalse; M=M, numsamples=1000, numiters=100, \n",
    "         θmin=θmin, θmax=θmax,θgenmin=θgenmin, θgenmax=θgenmax, descender=SignDescender(0.03),\n",
    "         hyperdescender=SignDescender(0.));"
   ]
  },
  {
   "cell_type": "code",
   "execution_count": 24,
   "metadata": {},
   "outputs": [
    {
     "name": "stderr",
     "output_type": "stream",
     "text": [
      "\u001b[32mProgress: 100%|█████████████████████████████████████████| Time: 0:00:17\u001b[39m\n"
     ]
    }
   ],
   "source": [
    "statscau = prior(M, numsamples=10000);"
   ]
  },
  {
   "cell_type": "markdown",
   "metadata": {},
   "source": [
    "## SoftMarg"
   ]
  },
  {
   "cell_type": "code",
   "execution_count": 27,
   "metadata": {},
   "outputs": [
    {
     "name": "stderr",
     "output_type": "stream",
     "text": [
      "\u001b[32mProgress: 100%|█████████████████████████████████████████| Time: 0:06:27\u001b[39m\n"
     ]
    }
   ],
   "source": [
    "stats,weights_soft = softpostnoise(Mp, Ofalse; numsamples=2 * 10^5);"
   ]
  },
  {
   "cell_type": "markdown",
   "metadata": {},
   "source": [
    "## Sib"
   ]
  },
  {
   "cell_type": "code",
   "execution_count": 1,
   "metadata": {},
   "outputs": [
    {
     "data": {
      "text/plain": [
       "NonMarkovDynamicSibyl (generic function with 1 method)"
      ]
     },
     "execution_count": 1,
     "metadata": {},
     "output_type": "execute_result"
    }
   ],
   "source": [
    "using PyCall\n",
    "@pyimport sib\n",
    "function NonMarkovDynamicSibyl(N, T_cont, Λ, V, a, b, c, O, γ; n_steps=20, maxit = 400, tol = 1e-14)\n",
    "    dt = T_cont / n_steps\n",
    "    T = Int(round(T_cont / dt))\n",
    "    @show T n_steps\n",
    "    i = findnz(G.A)[1]\n",
    "    j = findnz(G.A)[2]    \n",
    "    contacts = [(i[a]-1, j[a]-1, t, 1.) for t in 1:T for a = 1:nnz(Λ.A) if (t * dt) in V[a].mask];\n",
    "    obs = [[(i,-1,t) for t=1:T for i=0:N-1];\n",
    "           [(i-1,s,Int(round(t/dt))) for (i,s,t,p) in O]]\n",
    "    sort!(obs, lt=((i1,s1,t1),(i2,s2,t2))->(t1<t2))\n",
    "    prob_sus = 0.5\n",
    "    prob_seed=γ\n",
    "    pseed = prob_seed / (2 - prob_seed)\n",
    "    psus = prob_sus * (1 - pseed)\n",
    "    g = sib.PiecewiseLinear(pycall(sib.RealParams, PyObject, [a*exp(-((t-b)/c)^2) * dt for t =1:T]))\n",
    "    params = sib.Params(prob_r=sib.Exponential(mu=0), pseed=pseed, psus=psus,pautoinf=autoinf.a*dt,fp_rate=f_rate,fn_rate=f_rate, prob_i = g)\n",
    "    f = sib.FactorGraph(contacts=contacts, observations=obs, params=params)\n",
    "    sib.iterate(f, maxit=maxit,tol=tol)\n",
    "    sib.iterate(f, maxit=maxit, damping=0.5, tol=tol)\n",
    "    sib.iterate(f, maxit=maxit, damping=0.9, tol=tol)\n",
    "    p_sib=[collect(n.bt) for n in f.nodes]\n",
    "    m_sib = zeros(N, T)\n",
    "    for i=1:N\n",
    "        m_sib[i,1] = p_sib[i][1] \n",
    "        for t=2:T\n",
    "            m_sib[i,t] = m_sib[i,t-1] + p_sib[i][t]\n",
    "        end\n",
    "    end \n",
    "    return m_sib\n",
    "end"
   ]
  },
  {
   "cell_type": "code",
   "execution_count": 2,
   "metadata": {},
   "outputs": [
    {
     "ename": "LoadError",
     "evalue": "UndefVarError: N not defined",
     "output_type": "error",
     "traceback": [
      "UndefVarError: N not defined",
      "",
      "Stacktrace:",
      " [1] top-level scope",
      "   @ In[2]:3",
      " [2] eval",
      "   @ ./boot.jl:373 [inlined]",
      " [3] include_string(mapexpr::typeof(REPL.softscope), mod::Module, code::String, filename::String)",
      "   @ Base ./loading.jl:1196"
     ]
    }
   ],
   "source": [
    "a=time()\n",
    "nsteps_sib = 2100\n",
    "p_sib = NonMarkovDynamicSibyl(N, T, G, V, inf_out.a, inf_out.b, inf_out.c, Ofalse, 1/N; n_steps=nsteps_sib, maxit = 40, tol = 1e-4);\n",
    "b=time()\n",
    "println(b-a)"
   ]
  },
  {
   "cell_type": "markdown",
   "metadata": {},
   "source": [
    "# Heuristic\n",
    "Causality version"
   ]
  },
  {
   "cell_type": "code",
   "execution_count": null,
   "metadata": {},
   "outputs": [],
   "source": [
    "using IntervalUnionArithmetic\n",
    "T = Float64(T)\n",
    "struct HeuristicSI <: SI end\n",
    "maskauto = fill(intervalUnion(0., T),N)\n",
    "maskinf = fill(intervalUnion(0., T),N)\n",
    "θfrench = getpar(pseed, autoinf, inf_in);\n",
    "Causality.individual(M::StochasticModel{HeuristicSI}, i::Int, θi = @view(M.θ[:,i]), θg = M.θgen ) = \n",
    "@views IndividualSI(θi[1], \n",
    "    MaskedRate(GaussianRate(θi[2:4]...),maskauto[i]), \n",
    "    MaskedRate(UnitRate(),maskinf[i]), \n",
    "    GaussianRate(θg[5:7]...),)\n",
    "\n",
    "inf_start_time = T * ones(N)\n",
    "for o in Ofalse\n",
    "    if o[2] == 1\n",
    "        inf_start_time[o[1]] = min(inf_start_time[o[1]], o[3] - 5)\n",
    "        maskauto[o[1]] = maskauto[o[1]] ∩ intervalUnion(o[3]-5, T)       \n",
    "        θfrench[2,o[1]] = 10^10\n",
    "        θfrench[3,o[1]] = o[3] - 5\n",
    "        θfrench[4,o[1]] = 100 * T\n",
    "    elseif o[2] == 0\n",
    "        maskinf[o[1]] = maskinf[o[1]] ∩ intervalUnion(o[3], T)\n",
    "        maskauto[o[1]] = maskauto[o[1]] ∩ intervalUnion(o[3], T)\n",
    "        θfrench[1,o[1]] = 1e-10\n",
    "    end\n",
    "end\n",
    "for i=1:N\n",
    "    if inf_start_time[i] != T \n",
    "        maskauto[i] = maskauto[i] ∩ intervalUnion(inf_start_time[i], T)\n",
    "    end\n",
    "end\n",
    "\n",
    "Mfrench = StochasticModel(HeuristicSI, T, θfrench, G, θp2gen, V);\n",
    "statsfre = prior(Mfrench,numsamples=2000);"
   ]
  },
  {
   "cell_type": "markdown",
   "metadata": {},
   "source": [
    "## Metropolis Monte Carlo"
   ]
  },
  {
   "cell_type": "code",
   "execution_count": null,
   "metadata": {},
   "outputs": [],
   "source": [
    "K = Causality.GaussMove(2.)\n",
    "#stats_mh = Causality.metropolis_sampling_parallel(Mp, O, K; numsamples = 10^3,numsteps=10^3)\n",
    "xmc = zeros(N)\n",
    "sample!(xmc)\n",
    "Mmc = StochasticModel(Igen, T, θp, G, θpgen,V);\n",
    "stats_mh = Causality.metropolis_sampling_sequential(Mp, Ofalse, K; numsamples = 6 * 10^4,numsteps= 15, x = xmc);"
   ]
  },
  {
   "cell_type": "markdown",
   "metadata": {},
   "source": [
    "## Marginals and ROC curve"
   ]
  },
  {
   "cell_type": "code",
   "execution_count": null,
   "metadata": {},
   "outputs": [],
   "source": [
    "function marginal(i, t, stats)\n",
    "    numsamp = size(stats,1)\n",
    "    sum(stats[:,i] .< t)/numsamp\n",
    "end\n",
    "\n",
    "function reweighted_marginal(i, t, stats, weights)\n",
    "    numsamp = size(stats,1)\n",
    "    @assert numsamp == size(weights,1)\n",
    "    weights ./= maximum(weights)\n",
    "    sum(weights .* (stats[:,i] .< t))/sum(weights)\n",
    "end\n",
    "\n",
    "\n",
    "function tpr(xtrue, rank) \n",
    "    if sum(xtrue) == 0\n",
    "        return ones(N)\n",
    "    end\n",
    "    return cumsum(xtrue[rank]) ./ sum(xtrue)\n",
    "end\n",
    "\n",
    "function fpr(xtrue, rank) \n",
    "    N = size(rank,1)\n",
    "    if sum(xtrue) == N\n",
    "       a = zeros(N) \n",
    "       a[N] = 1\n",
    "       return a \n",
    "    end    \n",
    "    return (range(1,N,length=N) .- cumsum(xtrue[rank])) ./ (range(1,N,length=N) .- cumsum(xtrue[rank]) )[end]\n",
    "end\n",
    "\n",
    "function ROC(xtrue, p)\n",
    "    N = size(xtrue,1)\n",
    "    rank = sortperm(p, rev=true)\n",
    "    \n",
    "    return fpr(xtrue, rank) , tpr(xtrue, rank)\n",
    "end\n",
    "\n",
    "function AUROC(ROC)\n",
    "    N = size(ROC[1],1) \n",
    "    AU = 0\n",
    "    for t = 1:N-1\n",
    "        AU += ROC[2][t] * (ROC[1][t+1] - ROC[1][t])\n",
    "    end\n",
    "    return AU\n",
    "end"
   ]
  },
  {
   "cell_type": "code",
   "execution_count": null,
   "metadata": {},
   "outputs": [],
   "source": [
    "#Marginals\n",
    "bins = 20\n",
    "using Plots\n",
    "p_cau = zeros(N,bins)\n",
    "p_french = zeros(N,bins)\n",
    "p_mh = zeros(N,bins)\n",
    "p_soft = zeros(N,bins)\n",
    "for i = 1:N\n",
    "    for t = 1:bins\n",
    "       p_cau[i,t] = marginal(i, t*T/bins, statscau)\n",
    "       p_french[i,t] = marginal(i, t*T/bins, statsfre)\n",
    "       p_mh[i,t] = marginal(i, t*T/bins, stats_mh)\n",
    "       p_soft[i,t] = reweighted_marginal(i, t*T/bins, stats, weights_soft)\n",
    "    end\n",
    "end"
   ]
  },
  {
   "cell_type": "code",
   "execution_count": null,
   "metadata": {},
   "outputs": [],
   "source": [
    "O"
   ]
  },
  {
   "cell_type": "code",
   "execution_count": null,
   "metadata": {},
   "outputs": [],
   "source": [
    "i = 167\n",
    "round(T)\n",
    "plot(LinRange(1,T,bins),p_cau[i,:], label = \"cau\", legend=:right)\n",
    "plot!(LinRange(1,T,bins),p_french[i,:], label = \"french\")\n",
    "plot!(LinRange(1,T,bins),p_soft[i,:], label = \"soft\")\n",
    "plot!(LinRange(1,T,bins),p_mh[i,:], label = \"MH\")\n",
    "plot!(LinRange(1,T,nsteps_sib),p_sib[i,:], label = \"sib\")\n",
    "ylims!(0,1)"
   ]
  },
  {
   "cell_type": "code",
   "execution_count": null,
   "metadata": {},
   "outputs": [],
   "source": [
    "#AUROC curves\n",
    "AU_curve=zeros(bins)\n",
    "AU_sib=zeros(bins)\n",
    "AU_french = zeros(bins)\n",
    "AU_soft = zeros(bins)\n",
    "AU_MH = zeros(bins)\n",
    "for t = 1:bins\n",
    "    cau_risk=zeros(N)\n",
    "    sib_risk = zeros(N)\n",
    "    french_risk = zeros(N)\n",
    "    MH_risk = zeros(N)\n",
    "    soft_risk = zeros(N)\n",
    "    for i=1:N\n",
    "       cau_risk[i] = p_cau[i,t]\n",
    "       french_risk[i] = p_french[i,t]\n",
    "       MH_risk[i] = p_mh[i,t]\n",
    "       sib_risk[i] = p_sib[i,Int(round(t/bins*nsteps_sib))]\n",
    "       soft_risk[i] = p_soft[i,t]\n",
    "    end\n",
    "    xt = xtrue .< t * T / bins\n",
    "    AU_soft[t] = AUROC(ROC(xt, soft_risk))\n",
    "    AU_curve[t] = AUROC(ROC(xt, cau_risk))\n",
    "    AU_french[t] = AUROC(ROC(xt, french_risk))\n",
    "    AU_MH[t] = AUROC(ROC(xt, MH_risk))\n",
    "    AU_sib[t] = AUROC(ROC(xt, sib_risk))\n",
    "end\n",
    "\n",
    "plot(LinRange(1,T,bins),AU_curve, label=\"AUCau\", title=\"Causality VS Sib AUROC in function of time\")\n",
    "scatter!(LinRange(1,T,bins),AU_soft, label=\"AUSoft\",legend=:bottomleft)\n",
    "scatter!(LinRange(1,T,bins),AU_french, label=\"AUFrench\")\n",
    "scatter!(LinRange(1,T,bins),AU_MH, label=\"AUMH\")\n",
    "scatter!(LinRange(1,T,bins), AU_sib, label=\"AUsib\")\n",
    "xlabel!(\"t\")\n",
    "ylabel!(\"AUROC\")\n",
    "#savefig(\"confronti.pdf\")\n",
    "#ylims!(0.5,1.01)"
   ]
  },
  {
   "cell_type": "code",
   "execution_count": null,
   "metadata": {},
   "outputs": [],
   "source": []
  }
 ],
 "metadata": {
  "kernelspec": {
   "display_name": "Julia 1.7.0-rc2",
   "language": "julia",
   "name": "julia-1.7"
  },
  "language_info": {
   "file_extension": ".jl",
   "mimetype": "application/julia",
   "name": "julia",
   "version": "1.7.0"
  }
 },
 "nbformat": 4,
 "nbformat_minor": 4
}
