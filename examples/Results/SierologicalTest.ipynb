{
 "cells": [
  {
   "cell_type": "code",
   "execution_count": 2,
   "metadata": {},
   "outputs": [],
   "source": [
    "using Causality, IntervalUnionArithmetic"
   ]
  },
  {
   "cell_type": "markdown",
   "metadata": {},
   "source": [
    "# Generation of Epidemics"
   ]
  },
  {
   "cell_type": "code",
   "execution_count": 3,
   "metadata": {},
   "outputs": [
    {
     "data": {
      "text/plain": [
       "200×200 SparseArrays.SparseMatrixCSC{IndexedGraphs.NullNumber, Int64} with 1700 stored entries:\n",
       "⠀⠀⠐⠀⢓⢐⠢⠄⠁⢂⠐⠐⢠⡀⠆⠰⣀⠠⢄⢁⡀⠠⡣⠆⢀⠐⠑⢄⠣⡀⢁⡠⠀⢀⣘⢈⠔⠈⢠⠀\n",
       "⠐⠀⠐⡠⠈⠁⢢⠐⡀⠂⠑⢨⠈⠀⡈⠀⠀⢍⠙⡄⠈⠠⠂⠉⠃⠍⠑⠁⠀⠌⠐⠁⠉⠄⠐⠁⠀⡉⠈⢨\n",
       "⢙⢐⠆⠀⢀⠐⡢⠀⠴⠁⠈⠀⠔⠠⠨⢔⣠⠀⠒⢠⡂⠄⡁⠁⠊⠈⡉⠂⠅⠊⢅⣓⠆⢔⡘⠍⠨⠉⠴⠅\n",
       "⠈⠆⢈⠒⠈⠊⡀⢈⠐⣁⠩⠝⠒⡀⢀⠌⠈⠊⢂⢆⡣⠓⡁⢀⡁⠂⢉⡁⠄⣰⢎⢖⠉⠖⢨⠀⠠⠄⡂⠐\n",
       "⠡⢀⠠⠈⠔⠃⠔⢠⠊⠀⠡⠀⠀⡐⢁⢂⠐⢈⠒⢀⡃⠃⢄⢔⠢⠠⠰⡈⠅⡢⠢⠔⠊⢖⢤⠢⡠⠄⣐⡄\n",
       "⢐⠀⡑⣀⠂⠀⣇⠆⠁⠂⣤⡻⢹⠀⡁⠀⠈⣈⠑⡄⢗⠁⠂⡂⠃⡐⡕⡍⠆⠀⠀⡅⢈⡂⠰⠀⠰⠀⠀⢀\n",
       "⠀⠲⠂⠀⠐⡁⠘⠠⢀⠠⠓⠒⢄⢑⠠⡈⡦⠂⠒⢠⠂⠐⠀⢣⠢⡒⠃⠧⡀⢨⠁⠇⡒⡰⠐⡀⠀⠢⡑⠁\n",
       "⢈⡁⠂⠈⢂⢆⡀⠔⠡⢐⠁⠈⡀⠢⠀⠀⠀⠈⠀⠔⠉⠀⢀⡕⠀⠀⡢⠊⢄⠐⡀⢀⠎⠄⡀⢆⡠⠑⠖⠔\n",
       "⠀⡘⡄⢄⠀⠚⡢⠀⡐⢀⡂⢠⠨⠋⡀⠀⢊⡰⠀⢜⣢⡂⠁⠐⠘⢭⠄⢘⢐⠀⠚⠃⢢⠝⠃⢂⠀⡄⡐⠠\n",
       "⠄⢑⠓⠤⠘⣀⠨⢔⠘⢀⠑⠤⠘⣀⢀⠄⣀⢄⠊⠀⠃⠉⠆⢁⢃⠄⠄⢃⠄⢃⢀⡋⠃⢔⡰⢀⢰⢠⡐⠠\n",
       "⠀⡈⠂⡀⠈⠌⢭⠊⠭⠈⠝⠑⢈⠀⠃⠀⠨⠺⡍⠀⡄⡩⠃⡂⠀⠐⠂⠘⠤⡕⠈⢫⠸⠊⠈⠀⠀⠂⠈⢀\n",
       "⠩⠎⡌⠀⠅⠈⠁⢈⢀⢕⠨⠠⠤⣀⢄⠴⢁⠀⠌⢁⠩⠠⠀⠀⠀⠨⠭⡀⠅⢀⠉⠑⡤⠉⠉⢜⠪⢈⣀⢂\n",
       "⢀⠐⡍⠄⡊⠀⠡⠈⠈⡂⢉⠠⢨⠢⠀⠀⡖⣄⠉⠔⢀⠀⡀⡀⠀⡤⣌⠑⡀⠐⠘⠃⣥⠞⠂⡐⢀⡔⠀⠢\n",
       "⠑⢄⠕⠀⠣⠈⠇⠰⡐⠢⡕⠭⠭⡄⡨⠊⣀⢁⠤⢁⣈⠀⠃⠣⢆⠙⠄⠁⠂⠠⢐⡄⠏⢀⡘⢊⠐⣈⠠⠀\n",
       "⠉⠢⡀⠄⡡⠁⢀⣡⠡⡡⠈⠁⡀⣈⢀⠑⠐⠐⠤⢁⢄⠧⠁⢁⢀⠈⠈⡀⠐⠀⡢⡠⠀⡠⠪⠁⠈⡠⠠⡀\n",
       "⠁⡰⠔⠀⢥⢱⢪⢕⢈⠆⠄⠤⠥⠄⠀⢈⠾⠀⡤⠰⡦⣀⢇⠀⠶⠀⠐⠴⠈⡪⢤⠓⠅⠶⠶⠹⡁⠍⠩⠄\n",
       "⠀⢀⠃⠄⢈⢅⢣⠄⢪⢄⠢⠰⢘⡨⠊⠅⣌⠖⢉⢄⡲⠂⡄⠋⣡⠟⠋⢁⠀⡠⢡⡅⡊⢈⣄⠅⠀⠎⢈⠠\n",
       "⡒⢘⠔⠀⡖⠌⠂⠒⠠⡓⠐⠂⠐⠠⠠⢌⠩⢀⠐⢊⠂⠀⣃⢄⢈⠠⡲⢈⠎⠂⣜⡃⠄⠝⣀⠘⠠⢑⡰⡀\n",
       "⡐⠁⡄⠠⡆⠂⠀⠆⠀⠎⠐⠂⠠⡀⢄⠊⠀⠤⠐⣒⠠⠀⡊⢂⢀⠴⡐⢠⠂⡠⡅⠌⡠⠄⢄⢂⠀⠀⠂⢇\n",
       "⠀⠒⡂⣀⠔⠇⢈⠈⠐⠼⠀⢀⠕⠈⢘⠅⠐⡈⠐⡈⠂⢀⠠⢘⠠⡀⠀⠂⠀⠢⠃⠆⠂⡐⠐⠪⠬⢄⠄⠁"
      ]
     },
     "execution_count": 3,
     "metadata": {},
     "output_type": "execute_result"
    }
   ],
   "source": [
    "T, N = 50., 200\n",
    "#G = Causality.makeBarabasi(N,k=2)\n",
    "#ρ = 3/N\n",
    "#G = Causality.makeGNP(N,ρ)\n",
    "G = Causality.makeProximity(N,3/N)\n",
    "G.A "
   ]
  },
  {
   "cell_type": "code",
   "execution_count": 4,
   "metadata": {},
   "outputs": [
    {
     "data": {
      "text/plain": [
       "getpargenSI (generic function with 1 method)"
      ]
     },
     "execution_count": 4,
     "metadata": {},
     "output_type": "execute_result"
    }
   ],
   "source": [
    "getpargen(pseed, autoinf::GaussianRate, inf_out::GaussianRate, lat_gen::GaussianRate, rec_gen::GaussianRate) = \n",
    "    [pseed autoinf.a autoinf.b autoinf.c inf_out.a inf_out.b inf_out.c lat_gen.a lat_gen.b lat_gen.c rec_gen.a rec_gen.b rec_gen.c]\n",
    "\n",
    "getpar(pseed,autoinf::GaussianRate,inf_in::GaussianRate, latency::GaussianRate, recov::GaussianRate) = \n",
    "    [fill(pseed, 1, N);\n",
    "     fill(autoinf.a, 1, N); fill(autoinf.b, 1, N); fill(autoinf.c, 1, N);\n",
    "     fill(inf_in.a,   1, N); fill(inf_in.b, 1, N); fill(inf_in.c, 1, N);\n",
    "     fill(latency.a, 1, N); fill(latency.b, 1, N); fill(latency.c, 1, N);\n",
    "     fill(recov.a, 1, N); fill(recov.b, 1, N); fill(recov.c, 1, N)\n",
    "    ]\n",
    "\n",
    "getparSI(pseed,autoinf::GaussianRate,inf_in::GaussianRate) = \n",
    "    [fill(pseed, 1, N);\n",
    "     fill(autoinf.a, 1, N); fill(autoinf.b, 1, N); fill(autoinf.c, 1, N);\n",
    "     fill(inf_in.a,   1, N); fill(inf_in.b, 1, N); fill(inf_in.c, 1, N);\n",
    "    ]\n",
    "\n",
    "getpargenSI(pseed, autoinf::GaussianRate, inf_out::GaussianRate) = \n",
    "    [pseed autoinf.a autoinf.b autoinf.c inf_out.a inf_out.b inf_out.c]\n",
    "\n"
   ]
  },
  {
   "cell_type": "code",
   "execution_count": 5,
   "metadata": {},
   "outputs": [],
   "source": [
    "#Initialize generation parameters\n",
    "ε = 1e-10\n",
    "λ = 0.5\n",
    "\n",
    "pseed = 1/N \n",
    "autoinf = GaussianRate(ε, T/2, 1/ε)\n",
    "inf_in = GaussianRate(1.0, T/2, 1/ε)\n",
    "latency = GaussianRate(1., T/2, 1/ε)\n",
    "recov = GaussianRate(1., T/2, 1/ε)\n",
    "\n",
    "inf_out = GaussianRate(λ, T/2, T)\n",
    "l_delay = GaussianRate(0.27, 3., sqrt(3.56))\n",
    "r_delay = GaussianRate(0.23, 16., sqrt(6.))\n",
    "\n",
    "θp = getpar(pseed, autoinf, inf_in, latency, recov);\n",
    "θpgen = getpargen(pseed, autoinf, inf_out, l_delay, r_delay);"
   ]
  },
  {
   "cell_type": "code",
   "execution_count": 6,
   "metadata": {},
   "outputs": [],
   "source": [
    "#Initialize min/max boundaies\n",
    "pseed_min = ε\n",
    "pseed_max = 1-ε\n",
    "rate_min = GaussianRate(ε  ,  -T,   ε)\n",
    "rate_max = GaussianRate(1/ε  ,  2T,   1/ε)\n",
    "\n",
    "θmin = getpar(pseed_min , rate_min, rate_min, rate_min, rate_min);\n",
    "θmax = getpar(pseed_max , rate_max, rate_max, rate_max, rate_max);\n",
    "\n",
    "\n",
    "rate_min = GaussianRate(ε  ,  0.,   ε)\n",
    "rate_max = GaussianRate(1/ε  ,  T,   T)\n",
    "\n",
    "θgenmin = getpargen(pseed_min, rate_min, rate_min, rate_min, rate_min);\n",
    "θgenmax = getpargen(pseed_max, rate_max, rate_max, rate_max, rate_max);"
   ]
  },
  {
   "cell_type": "code",
   "execution_count": 7,
   "metadata": {},
   "outputs": [
    {
     "data": {
      "text/plain": [
       "GenerativeSEIR{GaussianRate, GaussianRate, GaussianRate, GaussianRate}"
      ]
     },
     "execution_count": 7,
     "metadata": {},
     "output_type": "execute_result"
    }
   ],
   "source": [
    "const Igauss = GaussianInferentialSEIR\n",
    "const Igen = GenerativeSEIR{GaussianRate,GaussianRate,GaussianRate,GaussianRate} "
   ]
  },
  {
   "cell_type": "code",
   "execution_count": 22,
   "metadata": {},
   "outputs": [
    {
     "data": {
      "text/plain": [
       "23"
      ]
     },
     "execution_count": 22,
     "metadata": {},
     "output_type": "execute_result"
    }
   ],
   "source": [
    "Mp = StochasticModel(Igen, T, θp, G, θpgen);\n",
    "sample! = Sampler(Mp);\n",
    "\n",
    "xtrue = zeros(N,3)\n",
    "sample!(xtrue)\n",
    "nobs, p = Int(round(N/4)), 1e-6\n",
    "O = [(ti = T*(1+rand())/2; i =rand(1:N) ; (i,xtrue[i,1] < ti ,ti,p)) for r=1:nobs]\n",
    "length([o for o in O if o[2]==1])"
   ]
  },
  {
   "cell_type": "code",
   "execution_count": 23,
   "metadata": {},
   "outputs": [
    {
     "data": {
      "text/plain": [
       "27"
      ]
     },
     "execution_count": 23,
     "metadata": {},
     "output_type": "execute_result"
    }
   ],
   "source": [
    "length([o for o in O if o[2]==0])"
   ]
  },
  {
   "cell_type": "markdown",
   "metadata": {},
   "source": [
    "## Inference with Causality (SEIR)"
   ]
  },
  {
   "cell_type": "code",
   "execution_count": 26,
   "metadata": {},
   "outputs": [],
   "source": [
    "#Softened model\n",
    "T = Float64(T)\n",
    "ε = 2e-3\n",
    "autoinf = GaussianRate(ε, T/2, T/2)\n",
    "\n",
    "θp2gen = getpargen(pseed, autoinf, inf_out, l_delay, r_delay);\n",
    "\n",
    "θp2 = getpar(pseed, autoinf, inf_in, latency, recov);\n",
    "Mp2 = StochasticModel(Igen, T, θp2, G, θp2gen);"
   ]
  },
  {
   "cell_type": "code",
   "execution_count": 27,
   "metadata": {},
   "outputs": [],
   "source": [
    "#Initialize the parameters to learn\n",
    "\n",
    "autoinf = GaussianRate(1/N, T/2, 2T)\n",
    "inf_in = GaussianRate(1.0, T/2, 2T)\n",
    "latency = GaussianRate(1., T/2, 2T)\n",
    "recov = GaussianRate(1., T/2, 2T)\n",
    "\n",
    "\n",
    "θ = getpar(pseed, autoinf, inf_in,  latency, recov);\n",
    "M = StochasticModel(Igauss, T, θ, G, θp2gen);"
   ]
  },
  {
   "cell_type": "code",
   "execution_count": 28,
   "metadata": {},
   "outputs": [
    {
     "name": "stderr",
     "output_type": "stream",
     "text": [
      "\u001b[32mProgress: 100%|█████████████████████████████████████████| Time: 0:05:33\u001b[39m\n",
      "\u001b[34m  F:  37.63167267259359\u001b[39m\n"
     ]
    }
   ],
   "source": [
    "using ProgressMeter\n",
    "ProgressMeter.ijulia_behavior(:clear)\n",
    "descend!(Mp2, O; M=M, numsamples=3000, numiters=100, \n",
    "         θmin=θmin, θmax=θmax,θgenmin=θgenmin, θgenmax=θgenmax, descender=SignDescender(0.1),\n",
    "         hyperdescender=SignDescender(0.));\n",
    "descend!(Mp2, O; M=M, numsamples=3000, numiters=100, \n",
    "         θmin=θmin, θmax=θmax,θgenmin=θgenmin, θgenmax=θgenmax, descender=SignDescender(0.02),\n",
    "         hyperdescender=SignDescender(0.));"
   ]
  },
  {
   "cell_type": "code",
   "execution_count": 29,
   "metadata": {},
   "outputs": [
    {
     "name": "stderr",
     "output_type": "stream",
     "text": [
      "\u001b[32mProgress: 100%|█████████████████████████████████████████| Time: 0:00:03\u001b[39m\n"
     ]
    }
   ],
   "source": [
    "statscauSEIR = prior(M);"
   ]
  },
  {
   "cell_type": "markdown",
   "metadata": {},
   "source": [
    "## Inference with Causality (SIR)"
   ]
  },
  {
   "cell_type": "code",
   "execution_count": 31,
   "metadata": {},
   "outputs": [],
   "source": [
    "#Softened model\n",
    "T = Float64(T)\n",
    "ε = 2e-3\n",
    "autoinf = GaussianRate(ε, T/2, T/2)\n",
    "l_delay = GaussianRate(100., 0.1, 10.)\n",
    "\n",
    "θp2gen = getpargen(pseed, autoinf, inf_out, l_delay, r_delay);\n",
    "\n",
    "θp2 = getpar(pseed, autoinf, inf_in, latency, recov);\n",
    "Mp2 = StochasticModel(Igen, T, θp2, G, θp2gen);"
   ]
  },
  {
   "cell_type": "code",
   "execution_count": 32,
   "metadata": {},
   "outputs": [],
   "source": [
    "#Initialize the parameters to learn\n",
    "\n",
    "autoinf = GaussianRate(1/N, T/2, 2T)\n",
    "inf_in = GaussianRate(1.0, T/2, 2T)\n",
    "latency = GaussianRate(1., T/2, 2T)\n",
    "recov = GaussianRate(1., T/2, 2T)\n",
    "\n",
    "\n",
    "θ = getpar(pseed, autoinf, inf_in,  latency, recov);\n",
    "M = StochasticModel(Igauss, T, θ, G, θp2gen);"
   ]
  },
  {
   "cell_type": "code",
   "execution_count": 33,
   "metadata": {},
   "outputs": [
    {
     "name": "stderr",
     "output_type": "stream",
     "text": [
      "\u001b[32mProgress: 100%|█████████████████████████████████████████| Time: 0:08:25\u001b[39m\n",
      "\u001b[34m  F:  46.57156473845221\u001b[39m\n"
     ]
    }
   ],
   "source": [
    "using ProgressMeter\n",
    "ProgressMeter.ijulia_behavior(:clear)\n",
    "descend!(Mp2, O; M=M, numsamples=3000, numiters=100, \n",
    "         θmin=θmin, θmax=θmax,θgenmin=θgenmin, θgenmax=θgenmax, descender=SignDescender(0.1),\n",
    "         hyperdescender=SignDescender(0.1),hyper_mask=[1,2,3,4,8,9,10,11,12,13]);\n",
    "descend!(Mp2, O; M=M, numsamples=3000, numiters=100, \n",
    "         θmin=θmin, θmax=θmax,θgenmin=θgenmin, θgenmax=θgenmax, descender=SignDescender(0.02),\n",
    "         hyperdescender=SignDescender(0.02),hyper_mask=[1,2,3,4,8,9,10,11,12,13]);"
   ]
  },
  {
   "cell_type": "code",
   "execution_count": 34,
   "metadata": {},
   "outputs": [
    {
     "name": "stderr",
     "output_type": "stream",
     "text": [
      "\u001b[32mProgress: 100%|█████████████████████████████████████████| Time: 0:00:05\u001b[39m\n"
     ]
    }
   ],
   "source": [
    "statscauSIR = prior(M);"
   ]
  },
  {
   "cell_type": "markdown",
   "metadata": {},
   "source": [
    "## Inference with Causality (SI)"
   ]
  },
  {
   "cell_type": "code",
   "execution_count": 35,
   "metadata": {},
   "outputs": [],
   "source": [
    "const IgenSI = GenerativeSI{GaussianRate,GaussianRate} \n",
    "const IgaussSI = GaussianInferentialSI\n",
    "θmin = getparSI(pseed_min , rate_min, rate_min);\n",
    "θmax = getparSI(pseed_max , rate_max, rate_max);\n",
    "\n",
    "\n",
    "rate_min = GaussianRate(ε  ,  0.,   ε)\n",
    "rate_max = GaussianRate(1/ε  ,  T,   T)\n",
    "\n",
    "θgenmin = getpargenSI(pseed_min, rate_min, rate_min);\n",
    "θgenmax = getpargenSI(pseed_max, rate_max, rate_max);\n",
    "\n",
    "\n",
    "#Softened model\n",
    "T = Float64(T)\n",
    "ε = 2e-3\n",
    "\n",
    "autoinf = GaussianRate(ε, T/2, T/2)\n",
    "\n",
    "θp2gen = getpargenSI(pseed, autoinf, inf_out);\n",
    "\n",
    "θp2 = getparSI(pseed, autoinf, inf_in);\n",
    "Mp2 = StochasticModel(IgenSI, T, θp2, G, θp2gen);"
   ]
  },
  {
   "cell_type": "code",
   "execution_count": 36,
   "metadata": {},
   "outputs": [],
   "source": [
    "#Initialize the parameters to learn\n",
    "\n",
    "autoinf = GaussianRate(1/N, T/2, 2T)\n",
    "inf_in = GaussianRate(1.0, T/2, 2T)\n",
    "\n",
    "\n",
    "θ = getparSI(pseed, autoinf, inf_in);\n",
    "M = StochasticModel(IgaussSI, T, θ, G, θp2gen);"
   ]
  },
  {
   "cell_type": "code",
   "execution_count": 37,
   "metadata": {},
   "outputs": [
    {
     "name": "stderr",
     "output_type": "stream",
     "text": [
      "\u001b[32mProgress: 100%|█████████████████████████████████████████| Time: 0:03:06\u001b[39m\n",
      "\u001b[34m  F:  35.80812821659245\u001b[39m\n"
     ]
    }
   ],
   "source": [
    "using ProgressMeter\n",
    "ProgressMeter.ijulia_behavior(:clear)\n",
    "descend!(Mp2, O; M=M, numsamples=3000, numiters=100, \n",
    "         θmin=θmin, θmax=θmax,θgenmin=θgenmin, θgenmax=θgenmax, descender=SignDescender(0.1),\n",
    "         hyperdescender=SignDescender(0.1),hyper_mask=[1,2,3,4]);\n",
    "descend!(Mp2, O; M=M, numsamples=3000, numiters=100, \n",
    "         θmin=θmin, θmax=θmax,θgenmin=θgenmin, θgenmax=θgenmax, descender=SignDescender(0.02),\n",
    "         hyperdescender=SignDescender(0.02),hyper_mask=[1,2,3,4]);"
   ]
  },
  {
   "cell_type": "code",
   "execution_count": 38,
   "metadata": {},
   "outputs": [
    {
     "name": "stderr",
     "output_type": "stream",
     "text": [
      "\u001b[32mProgress: 100%|█████████████████████████████████████████| Time: 0:00:04\u001b[39m\n"
     ]
    }
   ],
   "source": [
    "statscauSI = prior(M);"
   ]
  },
  {
   "cell_type": "markdown",
   "metadata": {},
   "source": [
    "## Marginals and ROC curve"
   ]
  },
  {
   "cell_type": "raw",
   "metadata": {
    "jupyter": {
     "source_hidden": true
    }
   },
   "source": [
    "using Plots\n",
    "state = 1\n",
    "pl = map(22:41) do k\n",
    "    p = plot()\n",
    "    bar!(p, 0:M.T/20:M.T, histo((@view statscau[:, k, state]), up=M.T), alpha=0.5, xlims=(0,M.T+0.5), bins=20, label=\"cau\", legend=false);\n",
    "    bar!(p, 0:M.T/20:M.T, histo((@view stats[:, k, state]), up=M.T),    alpha=0.5, xlims=(0,M.T+0.5), bins=20, label=\"true\", legend=false);\n",
    "end;\n",
    "savefig(\"marginals.pdf\")\n",
    "plot(pl..., size=(800,600))"
   ]
  },
  {
   "cell_type": "code",
   "execution_count": 39,
   "metadata": {},
   "outputs": [
    {
     "data": {
      "text/plain": [
       "AUROC (generic function with 1 method)"
      ]
     },
     "execution_count": 39,
     "metadata": {},
     "output_type": "execute_result"
    }
   ],
   "source": [
    "function marginal(i, t, stats)\n",
    "    numsamp = size(stats,1)\n",
    "    sum( stats[:,i,1] .< t ) / numsamp\n",
    "end\n",
    "\n",
    "function marginalSI(i, t, stats)\n",
    "    numsamp = size(stats,1)\n",
    "    sum( stats[:,i] .< t ) / numsamp\n",
    "end\n",
    "\n",
    "\n",
    "function tpr(xtrue, rank) \n",
    "    den = sum(xtrue[rank])\n",
    "    if den != 0\n",
    "        return cumsum(xtrue[rank]) ./ den\n",
    "    else\n",
    "        return ones(size(rank))\n",
    "    end\n",
    "end\n",
    "\n",
    "function fpr(xtrue, rank) \n",
    "    N = size(rank,1)\n",
    "    return (range(1,N,length=N) .- cumsum(xtrue[rank])) ./ (range(1,N,length=N) .- cumsum(xtrue[rank]) )[end]\n",
    "end\n",
    "\n",
    "function ROC(xtrue, p)\n",
    "    N = size(xtrue,1)\n",
    "    rank = sortperm(p, rev=true)\n",
    "    \n",
    "    return fpr(xtrue, rank) , tpr(xtrue, rank)\n",
    "end\n",
    "\n",
    "function AUROC(ROC)\n",
    "    N = size(ROC[1],1) \n",
    "    AU = 0\n",
    "    for t = 1:N-1\n",
    "        AU += ROC[2][t] * (ROC[1][t+1] - ROC[1][t])\n",
    "    end\n",
    "    return AU\n",
    "end"
   ]
  },
  {
   "cell_type": "code",
   "execution_count": 40,
   "metadata": {},
   "outputs": [],
   "source": [
    "using Plots\n",
    "p_cauSEIR = zeros(N,Int(T))\n",
    "p_cauSIR = zeros(N,Int(T))\n",
    "p_cauSI = zeros(N,Int(T))\n",
    "for i = 1:N\n",
    "    for t = 1:Int(T)\n",
    "       p_cauSEIR[i,t] = marginal(i, t, statscauSEIR)\n",
    "       p_cauSIR[i,t] = marginal(i, t, statscauSIR)\n",
    "       p_cauSI[i,t] = marginalSI(i, t, statscauSI)\n",
    "    end\n",
    "end\n",
    "i = 12\n",
    "plot(p_cauSEIR[i,1:end], label = \"cauSEIR\")\n",
    "plot!(p_cauSIR[i,1:end], label = \"cauSIR\")\n",
    "plot!(p_cauSI[i,1:end], label = \"cauSI\")\n",
    "savefig(\"marginals.pdf\")"
   ]
  },
  {
   "cell_type": "raw",
   "metadata": {},
   "source": [
    "#Let us find the ROC of the infected individuals at time t\n",
    "t = T\n",
    "epidemic_risk=zeros(N)\n",
    "true_risk=zeros(N)\n",
    "for i=1:N\n",
    "   epidemic_risk[i] = marginal(i,t,statscau)\n",
    "   true_risk[i] = marginal(i,t,stats)\n",
    "end\n",
    "xt = xtrue[:,2] .< t-1e-3 .< xtrue[:,3]\n",
    "plot(ROC(xt, epidemic_risk)[1],ROC(xt, epidemic_risk)[2], label=\"ROC\", title=\"Causality VS Exact ROC at time t=$t\")\n",
    "plot!(ROC(xt, true_risk)[1],ROC(xt, true_risk)[2], label=\"exactROC\")"
   ]
  },
  {
   "cell_type": "code",
   "execution_count": 41,
   "metadata": {},
   "outputs": [
    {
     "data": {
      "image/svg+xml": [
       "<?xml version=\"1.0\" encoding=\"utf-8\"?>\n",
       "<svg xmlns=\"http://www.w3.org/2000/svg\" xmlns:xlink=\"http://www.w3.org/1999/xlink\" width=\"600\" height=\"400\" viewBox=\"0 0 2400 1600\">\n",
       "<defs>\n",
       "  <clipPath id=\"clip950\">\n",
       "    <rect x=\"0\" y=\"0\" width=\"2400\" height=\"1600\"/>\n",
       "  </clipPath>\n",
       "</defs>\n",
       "<path clip-path=\"url(#clip950)\" d=\"\n",
       "M0 1600 L2400 1600 L2400 0 L0 0  Z\n",
       "  \" fill=\"#ffffff\" fill-rule=\"evenodd\" fill-opacity=\"1\"/>\n",
       "<defs>\n",
       "  <clipPath id=\"clip951\">\n",
       "    <rect x=\"480\" y=\"0\" width=\"1681\" height=\"1600\"/>\n",
       "  </clipPath>\n",
       "</defs>\n",
       "<path clip-path=\"url(#clip950)\" d=\"\n",
       "M219.542 1423.18 L2352.76 1423.18 L2352.76 123.472 L219.542 123.472  Z\n",
       "  \" fill=\"#ffffff\" fill-rule=\"evenodd\" fill-opacity=\"1\"/>\n",
       "<defs>\n",
       "  <clipPath id=\"clip952\">\n",
       "    <rect x=\"219\" y=\"123\" width=\"2134\" height=\"1301\"/>\n",
       "  </clipPath>\n",
       "</defs>\n",
       "<polyline clip-path=\"url(#clip952)\" style=\"stroke:#000000; stroke-linecap:butt; stroke-linejoin:round; stroke-width:2; stroke-opacity:0.1; fill:none\" points=\"\n",
       "  238.845,1423.18 238.845,123.472 \n",
       "  \"/>\n",
       "<polyline clip-path=\"url(#clip952)\" style=\"stroke:#000000; stroke-linecap:butt; stroke-linejoin:round; stroke-width:2; stroke-opacity:0.1; fill:none\" points=\"\n",
       "  649.553,1423.18 649.553,123.472 \n",
       "  \"/>\n",
       "<polyline clip-path=\"url(#clip952)\" style=\"stroke:#000000; stroke-linecap:butt; stroke-linejoin:round; stroke-width:2; stroke-opacity:0.1; fill:none\" points=\"\n",
       "  1060.26,1423.18 1060.26,123.472 \n",
       "  \"/>\n",
       "<polyline clip-path=\"url(#clip952)\" style=\"stroke:#000000; stroke-linecap:butt; stroke-linejoin:round; stroke-width:2; stroke-opacity:0.1; fill:none\" points=\"\n",
       "  1470.97,1423.18 1470.97,123.472 \n",
       "  \"/>\n",
       "<polyline clip-path=\"url(#clip952)\" style=\"stroke:#000000; stroke-linecap:butt; stroke-linejoin:round; stroke-width:2; stroke-opacity:0.1; fill:none\" points=\"\n",
       "  1881.67,1423.18 1881.67,123.472 \n",
       "  \"/>\n",
       "<polyline clip-path=\"url(#clip952)\" style=\"stroke:#000000; stroke-linecap:butt; stroke-linejoin:round; stroke-width:2; stroke-opacity:0.1; fill:none\" points=\"\n",
       "  2292.38,1423.18 2292.38,123.472 \n",
       "  \"/>\n",
       "<polyline clip-path=\"url(#clip950)\" style=\"stroke:#000000; stroke-linecap:butt; stroke-linejoin:round; stroke-width:4; stroke-opacity:1; fill:none\" points=\"\n",
       "  219.542,1423.18 2352.76,1423.18 \n",
       "  \"/>\n",
       "<polyline clip-path=\"url(#clip950)\" style=\"stroke:#000000; stroke-linecap:butt; stroke-linejoin:round; stroke-width:4; stroke-opacity:1; fill:none\" points=\"\n",
       "  238.845,1423.18 238.845,1404.28 \n",
       "  \"/>\n",
       "<polyline clip-path=\"url(#clip950)\" style=\"stroke:#000000; stroke-linecap:butt; stroke-linejoin:round; stroke-width:4; stroke-opacity:1; fill:none\" points=\"\n",
       "  649.553,1423.18 649.553,1404.28 \n",
       "  \"/>\n",
       "<polyline clip-path=\"url(#clip950)\" style=\"stroke:#000000; stroke-linecap:butt; stroke-linejoin:round; stroke-width:4; stroke-opacity:1; fill:none\" points=\"\n",
       "  1060.26,1423.18 1060.26,1404.28 \n",
       "  \"/>\n",
       "<polyline clip-path=\"url(#clip950)\" style=\"stroke:#000000; stroke-linecap:butt; stroke-linejoin:round; stroke-width:4; stroke-opacity:1; fill:none\" points=\"\n",
       "  1470.97,1423.18 1470.97,1404.28 \n",
       "  \"/>\n",
       "<polyline clip-path=\"url(#clip950)\" style=\"stroke:#000000; stroke-linecap:butt; stroke-linejoin:round; stroke-width:4; stroke-opacity:1; fill:none\" points=\"\n",
       "  1881.67,1423.18 1881.67,1404.28 \n",
       "  \"/>\n",
       "<polyline clip-path=\"url(#clip950)\" style=\"stroke:#000000; stroke-linecap:butt; stroke-linejoin:round; stroke-width:4; stroke-opacity:1; fill:none\" points=\"\n",
       "  2292.38,1423.18 2292.38,1404.28 \n",
       "  \"/>\n",
       "<path clip-path=\"url(#clip950)\" d=\"M238.845 1454.1 Q235.234 1454.1 233.406 1457.66 Q231.6 1461.2 231.6 1468.33 Q231.6 1475.44 233.406 1479.01 Q235.234 1482.55 238.845 1482.55 Q242.48 1482.55 244.285 1479.01 Q246.114 1475.44 246.114 1468.33 Q246.114 1461.2 244.285 1457.66 Q242.48 1454.1 238.845 1454.1 M238.845 1450.39 Q244.656 1450.39 247.711 1455 Q250.79 1459.58 250.79 1468.33 Q250.79 1477.06 247.711 1481.67 Q244.656 1486.25 238.845 1486.25 Q233.035 1486.25 229.957 1481.67 Q226.901 1477.06 226.901 1468.33 Q226.901 1459.58 229.957 1455 Q233.035 1450.39 238.845 1450.39 Z\" fill=\"#000000\" fill-rule=\"evenodd\" fill-opacity=\"1\" /><path clip-path=\"url(#clip950)\" d=\"M624.24 1481.64 L631.879 1481.64 L631.879 1455.28 L623.569 1456.95 L623.569 1452.69 L631.833 1451.02 L636.509 1451.02 L636.509 1481.64 L644.148 1481.64 L644.148 1485.58 L624.24 1485.58 L624.24 1481.64 Z\" fill=\"#000000\" fill-rule=\"evenodd\" fill-opacity=\"1\" /><path clip-path=\"url(#clip950)\" d=\"M663.592 1454.1 Q659.981 1454.1 658.152 1457.66 Q656.347 1461.2 656.347 1468.33 Q656.347 1475.44 658.152 1479.01 Q659.981 1482.55 663.592 1482.55 Q667.226 1482.55 669.032 1479.01 Q670.86 1475.44 670.86 1468.33 Q670.86 1461.2 669.032 1457.66 Q667.226 1454.1 663.592 1454.1 M663.592 1450.39 Q669.402 1450.39 672.458 1455 Q675.536 1459.58 675.536 1468.33 Q675.536 1477.06 672.458 1481.67 Q669.402 1486.25 663.592 1486.25 Q657.782 1486.25 654.703 1481.67 Q651.648 1477.06 651.648 1468.33 Q651.648 1459.58 654.703 1455 Q657.782 1450.39 663.592 1450.39 Z\" fill=\"#000000\" fill-rule=\"evenodd\" fill-opacity=\"1\" /><path clip-path=\"url(#clip950)\" d=\"M1039.03 1481.64 L1055.35 1481.64 L1055.35 1485.58 L1033.41 1485.58 L1033.41 1481.64 Q1036.07 1478.89 1040.65 1474.26 Q1045.26 1469.61 1046.44 1468.27 Q1048.69 1465.74 1049.57 1464.01 Q1050.47 1462.25 1050.47 1460.56 Q1050.47 1457.8 1048.52 1456.07 Q1046.6 1454.33 1043.5 1454.33 Q1041.3 1454.33 1038.85 1455.09 Q1036.42 1455.86 1033.64 1457.41 L1033.64 1452.69 Q1036.46 1451.55 1038.92 1450.97 Q1041.37 1450.39 1043.41 1450.39 Q1048.78 1450.39 1051.97 1453.08 Q1055.17 1455.77 1055.17 1460.26 Q1055.17 1462.39 1054.36 1464.31 Q1053.57 1466.2 1051.46 1468.8 Q1050.89 1469.47 1047.78 1472.69 Q1044.68 1475.88 1039.03 1481.64 Z\" fill=\"#000000\" fill-rule=\"evenodd\" fill-opacity=\"1\" /><path clip-path=\"url(#clip950)\" d=\"M1075.17 1454.1 Q1071.56 1454.1 1069.73 1457.66 Q1067.92 1461.2 1067.92 1468.33 Q1067.92 1475.44 1069.73 1479.01 Q1071.56 1482.55 1075.17 1482.55 Q1078.8 1482.55 1080.61 1479.01 Q1082.44 1475.44 1082.44 1468.33 Q1082.44 1461.2 1080.61 1457.66 Q1078.8 1454.1 1075.17 1454.1 M1075.17 1450.39 Q1080.98 1450.39 1084.03 1455 Q1087.11 1459.58 1087.11 1468.33 Q1087.11 1477.06 1084.03 1481.67 Q1080.98 1486.25 1075.17 1486.25 Q1069.36 1486.25 1066.28 1481.67 Q1063.22 1477.06 1063.22 1468.33 Q1063.22 1459.58 1066.28 1455 Q1069.36 1450.39 1075.17 1450.39 Z\" fill=\"#000000\" fill-rule=\"evenodd\" fill-opacity=\"1\" /><path clip-path=\"url(#clip950)\" d=\"M1459.81 1466.95 Q1463.17 1467.66 1465.04 1469.93 Q1466.94 1472.2 1466.94 1475.53 Q1466.94 1480.65 1463.42 1483.45 Q1459.9 1486.25 1453.42 1486.25 Q1451.25 1486.25 1448.93 1485.81 Q1446.64 1485.39 1444.19 1484.54 L1444.19 1480.02 Q1446.13 1481.16 1448.44 1481.74 Q1450.76 1482.32 1453.28 1482.32 Q1457.68 1482.32 1459.97 1480.58 Q1462.29 1478.84 1462.29 1475.53 Q1462.29 1472.48 1460.13 1470.77 Q1458 1469.03 1454.19 1469.03 L1450.16 1469.03 L1450.16 1465.19 L1454.37 1465.19 Q1457.82 1465.19 1459.65 1463.82 Q1461.48 1462.43 1461.48 1459.84 Q1461.48 1457.18 1459.58 1455.77 Q1457.7 1454.33 1454.19 1454.33 Q1452.26 1454.33 1450.06 1454.75 Q1447.87 1455.16 1445.23 1456.04 L1445.23 1451.88 Q1447.89 1451.14 1450.2 1450.77 Q1452.54 1450.39 1454.6 1450.39 Q1459.93 1450.39 1463.03 1452.83 Q1466.13 1455.23 1466.13 1459.35 Q1466.13 1462.22 1464.49 1464.21 Q1462.84 1466.18 1459.81 1466.95 Z\" fill=\"#000000\" fill-rule=\"evenodd\" fill-opacity=\"1\" /><path clip-path=\"url(#clip950)\" d=\"M1485.81 1454.1 Q1482.19 1454.1 1480.37 1457.66 Q1478.56 1461.2 1478.56 1468.33 Q1478.56 1475.44 1480.37 1479.01 Q1482.19 1482.55 1485.81 1482.55 Q1489.44 1482.55 1491.25 1479.01 Q1493.07 1475.44 1493.07 1468.33 Q1493.07 1461.2 1491.25 1457.66 Q1489.44 1454.1 1485.81 1454.1 M1485.81 1450.39 Q1491.62 1450.39 1494.67 1455 Q1497.75 1459.58 1497.75 1468.33 Q1497.75 1477.06 1494.67 1481.67 Q1491.62 1486.25 1485.81 1486.25 Q1480 1486.25 1476.92 1481.67 Q1473.86 1477.06 1473.86 1468.33 Q1473.86 1459.58 1476.92 1455 Q1480 1450.39 1485.81 1450.39 Z\" fill=\"#000000\" fill-rule=\"evenodd\" fill-opacity=\"1\" /><path clip-path=\"url(#clip950)\" d=\"M1869.85 1455.09 L1858.04 1473.54 L1869.85 1473.54 L1869.85 1455.09 M1868.62 1451.02 L1874.5 1451.02 L1874.5 1473.54 L1879.43 1473.54 L1879.43 1477.43 L1874.5 1477.43 L1874.5 1485.58 L1869.85 1485.58 L1869.85 1477.43 L1854.24 1477.43 L1854.24 1472.92 L1868.62 1451.02 Z\" fill=\"#000000\" fill-rule=\"evenodd\" fill-opacity=\"1\" /><path clip-path=\"url(#clip950)\" d=\"M1897.16 1454.1 Q1893.55 1454.1 1891.72 1457.66 Q1889.92 1461.2 1889.92 1468.33 Q1889.92 1475.44 1891.72 1479.01 Q1893.55 1482.55 1897.16 1482.55 Q1900.79 1482.55 1902.6 1479.01 Q1904.43 1475.44 1904.43 1468.33 Q1904.43 1461.2 1902.6 1457.66 Q1900.79 1454.1 1897.16 1454.1 M1897.16 1450.39 Q1902.97 1450.39 1906.03 1455 Q1909.11 1459.58 1909.11 1468.33 Q1909.11 1477.06 1906.03 1481.67 Q1902.97 1486.25 1897.16 1486.25 Q1891.35 1486.25 1888.27 1481.67 Q1885.22 1477.06 1885.22 1468.33 Q1885.22 1459.58 1888.27 1455 Q1891.35 1450.39 1897.16 1450.39 Z\" fill=\"#000000\" fill-rule=\"evenodd\" fill-opacity=\"1\" /><path clip-path=\"url(#clip950)\" d=\"M2267.08 1451.02 L2285.44 1451.02 L2285.44 1454.96 L2271.36 1454.96 L2271.36 1463.43 Q2272.38 1463.08 2273.4 1462.92 Q2274.42 1462.73 2275.44 1462.73 Q2281.22 1462.73 2284.6 1465.9 Q2287.98 1469.08 2287.98 1474.49 Q2287.98 1480.07 2284.51 1483.17 Q2281.04 1486.25 2274.72 1486.25 Q2272.54 1486.25 2270.28 1485.88 Q2268.03 1485.51 2265.62 1484.77 L2265.62 1480.07 Q2267.71 1481.2 2269.93 1481.76 Q2272.15 1482.32 2274.63 1482.32 Q2278.63 1482.32 2280.97 1480.21 Q2283.31 1478.1 2283.31 1474.49 Q2283.31 1470.88 2280.97 1468.77 Q2278.63 1466.67 2274.63 1466.67 Q2272.75 1466.67 2270.88 1467.08 Q2269.03 1467.5 2267.08 1468.38 L2267.08 1451.02 Z\" fill=\"#000000\" fill-rule=\"evenodd\" fill-opacity=\"1\" /><path clip-path=\"url(#clip950)\" d=\"M2307.2 1454.1 Q2303.59 1454.1 2301.76 1457.66 Q2299.95 1461.2 2299.95 1468.33 Q2299.95 1475.44 2301.76 1479.01 Q2303.59 1482.55 2307.2 1482.55 Q2310.83 1482.55 2312.64 1479.01 Q2314.47 1475.44 2314.47 1468.33 Q2314.47 1461.2 2312.64 1457.66 Q2310.83 1454.1 2307.2 1454.1 M2307.2 1450.39 Q2313.01 1450.39 2316.06 1455 Q2319.14 1459.58 2319.14 1468.33 Q2319.14 1477.06 2316.06 1481.67 Q2313.01 1486.25 2307.2 1486.25 Q2301.39 1486.25 2298.31 1481.67 Q2295.25 1477.06 2295.25 1468.33 Q2295.25 1459.58 2298.31 1455 Q2301.39 1450.39 2307.2 1450.39 Z\" fill=\"#000000\" fill-rule=\"evenodd\" fill-opacity=\"1\" /><path clip-path=\"url(#clip950)\" d=\"M1285.21 1522.27 L1285.21 1532.4 L1297.27 1532.4 L1297.27 1536.95 L1285.21 1536.95 L1285.21 1556.3 Q1285.21 1560.66 1286.39 1561.9 Q1287.6 1563.14 1291.26 1563.14 L1297.27 1563.14 L1297.27 1568.04 L1291.26 1568.04 Q1284.48 1568.04 1281.9 1565.53 Q1279.32 1562.98 1279.32 1556.3 L1279.32 1536.95 L1275.02 1536.95 L1275.02 1532.4 L1279.32 1532.4 L1279.32 1522.27 L1285.21 1522.27 Z\" fill=\"#000000\" fill-rule=\"evenodd\" fill-opacity=\"1\" /><polyline clip-path=\"url(#clip952)\" style=\"stroke:#000000; stroke-linecap:butt; stroke-linejoin:round; stroke-width:2; stroke-opacity:0.1; fill:none\" points=\"\n",
       "  219.542,1388.5 2352.76,1388.5 \n",
       "  \"/>\n",
       "<polyline clip-path=\"url(#clip952)\" style=\"stroke:#000000; stroke-linecap:butt; stroke-linejoin:round; stroke-width:2; stroke-opacity:0.1; fill:none\" points=\"\n",
       "  219.542,1139.8 2352.76,1139.8 \n",
       "  \"/>\n",
       "<polyline clip-path=\"url(#clip952)\" style=\"stroke:#000000; stroke-linecap:butt; stroke-linejoin:round; stroke-width:2; stroke-opacity:0.1; fill:none\" points=\"\n",
       "  219.542,891.095 2352.76,891.095 \n",
       "  \"/>\n",
       "<polyline clip-path=\"url(#clip952)\" style=\"stroke:#000000; stroke-linecap:butt; stroke-linejoin:round; stroke-width:2; stroke-opacity:0.1; fill:none\" points=\"\n",
       "  219.542,642.393 2352.76,642.393 \n",
       "  \"/>\n",
       "<polyline clip-path=\"url(#clip952)\" style=\"stroke:#000000; stroke-linecap:butt; stroke-linejoin:round; stroke-width:2; stroke-opacity:0.1; fill:none\" points=\"\n",
       "  219.542,393.69 2352.76,393.69 \n",
       "  \"/>\n",
       "<polyline clip-path=\"url(#clip952)\" style=\"stroke:#000000; stroke-linecap:butt; stroke-linejoin:round; stroke-width:2; stroke-opacity:0.1; fill:none\" points=\"\n",
       "  219.542,144.988 2352.76,144.988 \n",
       "  \"/>\n",
       "<polyline clip-path=\"url(#clip950)\" style=\"stroke:#000000; stroke-linecap:butt; stroke-linejoin:round; stroke-width:4; stroke-opacity:1; fill:none\" points=\"\n",
       "  219.542,1423.18 219.542,123.472 \n",
       "  \"/>\n",
       "<polyline clip-path=\"url(#clip950)\" style=\"stroke:#000000; stroke-linecap:butt; stroke-linejoin:round; stroke-width:4; stroke-opacity:1; fill:none\" points=\"\n",
       "  219.542,1388.5 238.44,1388.5 \n",
       "  \"/>\n",
       "<polyline clip-path=\"url(#clip950)\" style=\"stroke:#000000; stroke-linecap:butt; stroke-linejoin:round; stroke-width:4; stroke-opacity:1; fill:none\" points=\"\n",
       "  219.542,1139.8 238.44,1139.8 \n",
       "  \"/>\n",
       "<polyline clip-path=\"url(#clip950)\" style=\"stroke:#000000; stroke-linecap:butt; stroke-linejoin:round; stroke-width:4; stroke-opacity:1; fill:none\" points=\"\n",
       "  219.542,891.095 238.44,891.095 \n",
       "  \"/>\n",
       "<polyline clip-path=\"url(#clip950)\" style=\"stroke:#000000; stroke-linecap:butt; stroke-linejoin:round; stroke-width:4; stroke-opacity:1; fill:none\" points=\"\n",
       "  219.542,642.393 238.44,642.393 \n",
       "  \"/>\n",
       "<polyline clip-path=\"url(#clip950)\" style=\"stroke:#000000; stroke-linecap:butt; stroke-linejoin:round; stroke-width:4; stroke-opacity:1; fill:none\" points=\"\n",
       "  219.542,393.69 238.44,393.69 \n",
       "  \"/>\n",
       "<polyline clip-path=\"url(#clip950)\" style=\"stroke:#000000; stroke-linecap:butt; stroke-linejoin:round; stroke-width:4; stroke-opacity:1; fill:none\" points=\"\n",
       "  219.542,144.988 238.44,144.988 \n",
       "  \"/>\n",
       "<path clip-path=\"url(#clip950)\" d=\"M127.362 1374.3 Q123.751 1374.3 121.922 1377.86 Q120.117 1381.4 120.117 1388.53 Q120.117 1395.64 121.922 1399.21 Q123.751 1402.75 127.362 1402.75 Q130.996 1402.75 132.802 1399.21 Q134.63 1395.64 134.63 1388.53 Q134.63 1381.4 132.802 1377.86 Q130.996 1374.3 127.362 1374.3 M127.362 1370.59 Q133.172 1370.59 136.228 1375.2 Q139.306 1379.78 139.306 1388.53 Q139.306 1397.26 136.228 1401.87 Q133.172 1406.45 127.362 1406.45 Q121.552 1406.45 118.473 1401.87 Q115.418 1397.26 115.418 1388.53 Q115.418 1379.78 118.473 1375.2 Q121.552 1370.59 127.362 1370.59 Z\" fill=\"#000000\" fill-rule=\"evenodd\" fill-opacity=\"1\" /><path clip-path=\"url(#clip950)\" d=\"M147.524 1399.9 L152.408 1399.9 L152.408 1405.78 L147.524 1405.78 L147.524 1399.9 Z\" fill=\"#000000\" fill-rule=\"evenodd\" fill-opacity=\"1\" /><path clip-path=\"url(#clip950)\" d=\"M162.64 1371.22 L180.996 1371.22 L180.996 1375.15 L166.922 1375.15 L166.922 1383.63 Q167.94 1383.28 168.959 1383.12 Q169.977 1382.93 170.996 1382.93 Q176.783 1382.93 180.163 1386.1 Q183.542 1389.28 183.542 1394.69 Q183.542 1400.27 180.07 1403.37 Q176.598 1406.45 170.278 1406.45 Q168.102 1406.45 165.834 1406.08 Q163.589 1405.71 161.181 1404.97 L161.181 1400.27 Q163.265 1401.4 165.487 1401.96 Q167.709 1402.52 170.186 1402.52 Q174.19 1402.52 176.528 1400.41 Q178.866 1398.3 178.866 1394.69 Q178.866 1391.08 176.528 1388.97 Q174.19 1386.87 170.186 1386.87 Q168.311 1386.87 166.436 1387.28 Q164.584 1387.7 162.64 1388.58 L162.64 1371.22 Z\" fill=\"#000000\" fill-rule=\"evenodd\" fill-opacity=\"1\" /><path clip-path=\"url(#clip950)\" d=\"M126.205 1125.6 Q122.593 1125.6 120.765 1129.16 Q118.959 1132.7 118.959 1139.83 Q118.959 1146.94 120.765 1150.5 Q122.593 1154.04 126.205 1154.04 Q129.839 1154.04 131.644 1150.5 Q133.473 1146.94 133.473 1139.83 Q133.473 1132.7 131.644 1129.16 Q129.839 1125.6 126.205 1125.6 M126.205 1121.89 Q132.015 1121.89 135.07 1126.5 Q138.149 1131.08 138.149 1139.83 Q138.149 1148.56 135.07 1153.17 Q132.015 1157.75 126.205 1157.75 Q120.394 1157.75 117.316 1153.17 Q114.26 1148.56 114.26 1139.83 Q114.26 1131.08 117.316 1126.5 Q120.394 1121.89 126.205 1121.89 Z\" fill=\"#000000\" fill-rule=\"evenodd\" fill-opacity=\"1\" /><path clip-path=\"url(#clip950)\" d=\"M146.366 1151.2 L151.251 1151.2 L151.251 1157.08 L146.366 1157.08 L146.366 1151.2 Z\" fill=\"#000000\" fill-rule=\"evenodd\" fill-opacity=\"1\" /><path clip-path=\"url(#clip950)\" d=\"M172.014 1137.93 Q168.866 1137.93 167.015 1140.09 Q165.186 1142.24 165.186 1145.99 Q165.186 1149.72 167.015 1151.89 Q168.866 1154.04 172.014 1154.04 Q175.163 1154.04 176.991 1151.89 Q178.843 1149.72 178.843 1145.99 Q178.843 1142.24 176.991 1140.09 Q175.163 1137.93 172.014 1137.93 M181.297 1123.28 L181.297 1127.54 Q179.538 1126.71 177.732 1126.27 Q175.95 1125.83 174.19 1125.83 Q169.561 1125.83 167.107 1128.95 Q164.677 1132.08 164.329 1138.4 Q165.695 1136.38 167.755 1135.32 Q169.815 1134.23 172.292 1134.23 Q177.501 1134.23 180.51 1137.4 Q183.542 1140.55 183.542 1145.99 Q183.542 1151.31 180.394 1154.53 Q177.246 1157.75 172.014 1157.75 Q166.019 1157.75 162.848 1153.17 Q159.677 1148.56 159.677 1139.83 Q159.677 1131.64 163.565 1126.78 Q167.454 1121.89 174.005 1121.89 Q175.764 1121.89 177.547 1122.24 Q179.352 1122.59 181.297 1123.28 Z\" fill=\"#000000\" fill-rule=\"evenodd\" fill-opacity=\"1\" /><path clip-path=\"url(#clip950)\" d=\"M127.269 876.894 Q123.658 876.894 121.83 880.458 Q120.024 884 120.024 891.13 Q120.024 898.236 121.83 901.801 Q123.658 905.343 127.269 905.343 Q130.904 905.343 132.709 901.801 Q134.538 898.236 134.538 891.13 Q134.538 884 132.709 880.458 Q130.904 876.894 127.269 876.894 M127.269 873.19 Q133.08 873.19 136.135 877.796 Q139.214 882.38 139.214 891.13 Q139.214 899.856 136.135 904.463 Q133.08 909.046 127.269 909.046 Q121.459 909.046 118.381 904.463 Q115.325 899.856 115.325 891.13 Q115.325 882.38 118.381 877.796 Q121.459 873.19 127.269 873.19 Z\" fill=\"#000000\" fill-rule=\"evenodd\" fill-opacity=\"1\" /><path clip-path=\"url(#clip950)\" d=\"M147.431 902.495 L152.316 902.495 L152.316 908.375 L147.431 908.375 L147.431 902.495 Z\" fill=\"#000000\" fill-rule=\"evenodd\" fill-opacity=\"1\" /><path clip-path=\"url(#clip950)\" d=\"M161.32 873.815 L183.542 873.815 L183.542 875.806 L170.996 908.375 L166.112 908.375 L177.917 877.75 L161.32 877.75 L161.32 873.815 Z\" fill=\"#000000\" fill-rule=\"evenodd\" fill-opacity=\"1\" /><path clip-path=\"url(#clip950)\" d=\"M126.459 628.191 Q122.848 628.191 121.019 631.756 Q119.214 635.298 119.214 642.427 Q119.214 649.534 121.019 653.099 Q122.848 656.64 126.459 656.64 Q130.093 656.64 131.899 653.099 Q133.728 649.534 133.728 642.427 Q133.728 635.298 131.899 631.756 Q130.093 628.191 126.459 628.191 M126.459 624.488 Q132.269 624.488 135.325 629.094 Q138.404 633.677 138.404 642.427 Q138.404 651.154 135.325 655.761 Q132.269 660.344 126.459 660.344 Q120.649 660.344 117.57 655.761 Q114.515 651.154 114.515 642.427 Q114.515 633.677 117.57 629.094 Q120.649 624.488 126.459 624.488 Z\" fill=\"#000000\" fill-rule=\"evenodd\" fill-opacity=\"1\" /><path clip-path=\"url(#clip950)\" d=\"M146.621 653.793 L151.505 653.793 L151.505 659.673 L146.621 659.673 L146.621 653.793 Z\" fill=\"#000000\" fill-rule=\"evenodd\" fill-opacity=\"1\" /><path clip-path=\"url(#clip950)\" d=\"M171.69 643.261 Q168.357 643.261 166.436 645.043 Q164.538 646.825 164.538 649.95 Q164.538 653.075 166.436 654.858 Q168.357 656.64 171.69 656.64 Q175.024 656.64 176.945 654.858 Q178.866 653.052 178.866 649.95 Q178.866 646.825 176.945 645.043 Q175.047 643.261 171.69 643.261 M167.015 641.27 Q164.005 640.529 162.315 638.469 Q160.649 636.409 160.649 633.446 Q160.649 629.302 163.589 626.895 Q166.552 624.488 171.69 624.488 Q176.852 624.488 179.792 626.895 Q182.732 629.302 182.732 633.446 Q182.732 636.409 181.042 638.469 Q179.376 640.529 176.389 641.27 Q179.769 642.057 181.644 644.349 Q183.542 646.64 183.542 649.95 Q183.542 654.973 180.464 657.659 Q177.408 660.344 171.69 660.344 Q165.973 660.344 162.894 657.659 Q159.839 654.973 159.839 649.95 Q159.839 646.64 161.737 644.349 Q163.635 642.057 167.015 641.27 M165.302 633.886 Q165.302 636.571 166.968 638.075 Q168.658 639.58 171.69 639.58 Q174.7 639.58 176.389 638.075 Q178.102 636.571 178.102 633.886 Q178.102 631.2 176.389 629.696 Q174.7 628.191 171.69 628.191 Q168.658 628.191 166.968 629.696 Q165.302 631.2 165.302 633.886 Z\" fill=\"#000000\" fill-rule=\"evenodd\" fill-opacity=\"1\" /><path clip-path=\"url(#clip950)\" d=\"M126.552 379.489 Q122.941 379.489 121.112 383.054 Q119.306 386.595 119.306 393.725 Q119.306 400.831 121.112 404.396 Q122.941 407.938 126.552 407.938 Q130.186 407.938 131.992 404.396 Q133.82 400.831 133.82 393.725 Q133.82 386.595 131.992 383.054 Q130.186 379.489 126.552 379.489 M126.552 375.785 Q132.362 375.785 135.417 380.392 Q138.496 384.975 138.496 393.725 Q138.496 402.452 135.417 407.058 Q132.362 411.641 126.552 411.641 Q120.742 411.641 117.663 407.058 Q114.607 402.452 114.607 393.725 Q114.607 384.975 117.663 380.392 Q120.742 375.785 126.552 375.785 Z\" fill=\"#000000\" fill-rule=\"evenodd\" fill-opacity=\"1\" /><path clip-path=\"url(#clip950)\" d=\"M146.714 405.091 L151.598 405.091 L151.598 410.97 L146.714 410.97 L146.714 405.091 Z\" fill=\"#000000\" fill-rule=\"evenodd\" fill-opacity=\"1\" /><path clip-path=\"url(#clip950)\" d=\"M161.922 410.253 L161.922 405.993 Q163.681 406.827 165.487 407.266 Q167.292 407.706 169.028 407.706 Q173.658 407.706 176.089 404.604 Q178.542 401.479 178.889 395.137 Q177.547 397.128 175.487 398.192 Q173.427 399.257 170.927 399.257 Q165.741 399.257 162.709 396.132 Q159.7 392.984 159.7 387.544 Q159.7 382.22 162.848 379.003 Q165.996 375.785 171.227 375.785 Q177.223 375.785 180.371 380.392 Q183.542 384.975 183.542 393.725 Q183.542 401.896 179.653 406.78 Q175.788 411.641 169.237 411.641 Q167.477 411.641 165.672 411.294 Q163.866 410.947 161.922 410.253 M171.227 395.6 Q174.376 395.6 176.204 393.447 Q178.056 391.294 178.056 387.544 Q178.056 383.818 176.204 381.665 Q174.376 379.489 171.227 379.489 Q168.079 379.489 166.227 381.665 Q164.399 383.818 164.399 387.544 Q164.399 391.294 166.227 393.447 Q168.079 395.6 171.227 395.6 Z\" fill=\"#000000\" fill-rule=\"evenodd\" fill-opacity=\"1\" /><path clip-path=\"url(#clip950)\" d=\"M117.177 158.333 L124.816 158.333 L124.816 131.967 L116.506 133.634 L116.506 129.374 L124.769 127.708 L129.445 127.708 L129.445 158.333 L137.084 158.333 L137.084 162.268 L117.177 162.268 L117.177 158.333 Z\" fill=\"#000000\" fill-rule=\"evenodd\" fill-opacity=\"1\" /><path clip-path=\"url(#clip950)\" d=\"M146.529 156.388 L151.413 156.388 L151.413 162.268 L146.529 162.268 L146.529 156.388 Z\" fill=\"#000000\" fill-rule=\"evenodd\" fill-opacity=\"1\" /><path clip-path=\"url(#clip950)\" d=\"M171.598 130.786 Q167.987 130.786 166.158 134.351 Q164.352 137.893 164.352 145.022 Q164.352 152.129 166.158 155.694 Q167.987 159.235 171.598 159.235 Q175.232 159.235 177.038 155.694 Q178.866 152.129 178.866 145.022 Q178.866 137.893 177.038 134.351 Q175.232 130.786 171.598 130.786 M171.598 127.083 Q177.408 127.083 180.464 131.689 Q183.542 136.273 183.542 145.022 Q183.542 153.749 180.464 158.356 Q177.408 162.939 171.598 162.939 Q165.788 162.939 162.709 158.356 Q159.653 153.749 159.653 145.022 Q159.653 136.273 162.709 131.689 Q165.788 127.083 171.598 127.083 Z\" fill=\"#000000\" fill-rule=\"evenodd\" fill-opacity=\"1\" /><path clip-path=\"url(#clip950)\" d=\"M22.818 866.743 L46.4666 875.464 L46.4666 857.99 L22.818 866.743 M16.4842 870.371 L16.4842 863.082 L64.0042 844.972 L64.0042 851.656 L51.8138 855.985 L51.8138 877.405 L64.0042 881.734 L64.0042 888.513 L16.4842 870.371 Z\" fill=\"#000000\" fill-rule=\"evenodd\" fill-opacity=\"1\" /><path clip-path=\"url(#clip950)\" d=\"M16.4842 838.765 L16.4842 832.304 L45.3526 832.304 Q52.9915 832.304 56.3653 829.535 Q59.7073 826.766 59.7073 820.56 Q59.7073 814.385 56.3653 811.616 Q52.9915 808.847 45.3526 808.847 L16.4842 808.847 L16.4842 802.385 L46.1484 802.385 Q55.4423 802.385 60.1847 807.001 Q64.9272 811.584 64.9272 820.56 Q64.9272 829.567 60.1847 834.182 Q55.4423 838.765 46.1484 838.765 L16.4842 838.765 Z\" fill=\"#000000\" fill-rule=\"evenodd\" fill-opacity=\"1\" /><path clip-path=\"url(#clip950)\" d=\"M41.7242 767.788 Q42.4244 765.719 44.7161 763.777 Q47.0077 761.804 51.0181 759.831 L64.0042 753.306 L64.0042 760.213 L51.8138 766.292 Q47.0395 768.647 45.48 770.875 Q43.9204 773.071 43.9204 776.891 L43.9204 783.893 L64.0042 783.893 L64.0042 790.322 L16.4842 790.322 L16.4842 775.809 Q16.4842 767.661 19.8898 763.65 Q23.2955 759.64 30.1704 759.64 Q34.6582 759.64 37.6183 761.74 Q40.5784 763.809 41.7242 767.788 M21.7677 783.893 L38.6368 783.893 L38.6368 775.809 Q38.6368 771.162 36.5043 768.806 Q34.34 766.419 30.1704 766.419 Q26.0009 766.419 23.9002 768.806 Q21.7677 771.162 21.7677 775.809 L21.7677 783.893 Z\" fill=\"#000000\" fill-rule=\"evenodd\" fill-opacity=\"1\" /><path clip-path=\"url(#clip950)\" d=\"M20.8447 725.742 Q20.8447 732.745 26.0645 736.882 Q31.2844 740.988 40.2919 740.988 Q49.2675 740.988 54.4874 736.882 Q59.7073 732.745 59.7073 725.742 Q59.7073 718.74 54.4874 714.666 Q49.2675 710.56 40.2919 710.56 Q31.2844 710.56 26.0645 714.666 Q20.8447 718.74 20.8447 725.742 M15.6248 725.742 Q15.6248 715.748 22.3406 709.764 Q29.0246 703.781 40.2919 703.781 Q51.5274 703.781 58.2432 709.764 Q64.9272 715.748 64.9272 725.742 Q64.9272 735.768 58.2432 741.784 Q51.5592 747.768 40.2919 747.768 Q29.0246 747.768 22.3406 741.784 Q15.6248 735.768 15.6248 725.742 Z\" fill=\"#000000\" fill-rule=\"evenodd\" fill-opacity=\"1\" /><path clip-path=\"url(#clip950)\" d=\"M20.1444 658.139 L26.9239 658.139 Q23.9002 661.385 22.4043 665.077 Q20.9083 668.737 20.9083 672.875 Q20.9083 681.023 25.9054 685.352 Q30.8707 689.681 40.2919 689.681 Q49.6813 689.681 54.6784 685.352 Q59.6436 681.023 59.6436 672.875 Q59.6436 668.737 58.1477 665.077 Q56.6518 661.385 53.6281 658.139 L60.3439 658.139 Q62.6355 661.512 63.7814 665.3 Q64.9272 669.056 64.9272 673.257 Q64.9272 684.047 58.3387 690.254 Q51.7183 696.46 40.2919 696.46 Q28.8336 696.46 22.2451 690.254 Q15.6248 684.047 15.6248 673.257 Q15.6248 668.992 16.7706 665.236 Q17.8846 661.449 20.1444 658.139 Z\" fill=\"#000000\" fill-rule=\"evenodd\" fill-opacity=\"1\" /><path clip-path=\"url(#clip950)\" d=\"M531.891 14.0809 L531.891 22.0612 Q527.232 19.8332 523.1 18.7395 Q518.969 17.6457 515.12 17.6457 Q508.436 17.6457 504.79 20.2383 Q501.185 22.8309 501.185 27.611 Q501.185 31.6214 503.575 33.6873 Q506.006 35.7128 512.73 36.9686 L517.672 37.9813 Q526.827 39.7232 531.162 44.1387 Q535.537 48.5136 535.537 55.8863 Q535.537 64.6767 529.622 69.2137 Q523.749 73.7508 512.366 73.7508 Q508.072 73.7508 503.211 72.7785 Q498.39 71.8063 493.205 69.9024 L493.205 61.4765 Q498.187 64.2716 502.967 65.6895 Q507.748 67.1073 512.366 67.1073 Q519.374 67.1073 523.181 64.3527 Q526.989 61.598 526.989 56.4939 Q526.989 52.0379 524.235 49.5264 Q521.521 47.0148 515.282 45.759 L510.3 44.7868 Q501.145 42.9639 497.053 39.075 Q492.962 35.1862 492.962 28.2591 Q492.962 20.2383 498.593 15.6203 Q504.264 11.0023 514.188 11.0023 Q518.442 11.0023 522.857 11.7719 Q527.273 12.5416 531.891 14.0809 Z\" fill=\"#000000\" fill-rule=\"evenodd\" fill-opacity=\"1\" /><path clip-path=\"url(#clip950)\" d=\"M548.297 12.096 L586.538 12.096 L586.538 18.9825 L556.48 18.9825 L556.48 36.8875 L585.282 36.8875 L585.282 43.7741 L556.48 43.7741 L556.48 65.6895 L587.267 65.6895 L587.267 72.576 L548.297 72.576 L548.297 12.096 Z\" fill=\"#000000\" fill-rule=\"evenodd\" fill-opacity=\"1\" /><path clip-path=\"url(#clip950)\" d=\"M600.716 12.096 L608.899 12.096 L608.899 72.576 L600.716 72.576 L600.716 12.096 Z\" fill=\"#000000\" fill-rule=\"evenodd\" fill-opacity=\"1\" /><path clip-path=\"url(#clip950)\" d=\"M653.864 44.2197 Q656.497 45.1109 658.968 48.0275 Q661.479 50.9442 663.991 56.0483 L672.295 72.576 L663.505 72.576 L655.768 57.061 Q652.77 50.9847 649.934 48.9997 Q647.139 47.0148 642.278 47.0148 L633.366 47.0148 L633.366 72.576 L625.183 72.576 L625.183 12.096 L643.655 12.096 Q654.026 12.096 659.13 16.4305 Q664.234 20.7649 664.234 29.5149 Q664.234 35.2267 661.56 38.994 Q658.927 42.7613 653.864 44.2197 M633.366 18.8205 L633.366 40.2903 L643.655 40.2903 Q649.57 40.2903 652.567 37.5762 Q655.606 34.8216 655.606 29.5149 Q655.606 24.2082 652.567 21.5346 Q649.57 18.8205 643.655 18.8205 L633.366 18.8205 Z\" fill=\"#000000\" fill-rule=\"evenodd\" fill-opacity=\"1\" /><path clip-path=\"url(#clip950)\" d=\"M724.795 72.576 L701.705 12.096 L710.252 12.096 L729.413 63.0159 L748.614 12.096 L757.121 12.096 L734.072 72.576 L724.795 72.576 Z\" fill=\"#000000\" fill-rule=\"evenodd\" fill-opacity=\"1\" /><path clip-path=\"url(#clip950)\" d=\"M802.208 14.0809 L802.208 22.0612 Q797.549 19.8332 793.417 18.7395 Q789.285 17.6457 785.437 17.6457 Q778.753 17.6457 775.107 20.2383 Q771.502 22.8309 771.502 27.611 Q771.502 31.6214 773.892 33.6873 Q776.322 35.7128 783.047 36.9686 L787.989 37.9813 Q797.144 39.7232 801.479 44.1387 Q805.854 48.5136 805.854 55.8863 Q805.854 64.6767 799.939 69.2137 Q794.065 73.7508 782.682 73.7508 Q778.388 73.7508 773.527 72.7785 Q768.707 71.8063 763.522 69.9024 L763.522 61.4765 Q768.504 64.2716 773.284 65.6895 Q778.064 67.1073 782.682 67.1073 Q789.69 67.1073 793.498 64.3527 Q797.306 61.598 797.306 56.4939 Q797.306 52.0379 794.552 49.5264 Q791.837 47.0148 785.599 45.759 L780.616 44.7868 Q771.461 42.9639 767.37 39.075 Q763.279 35.1862 763.279 28.2591 Q763.279 20.2383 768.909 15.6203 Q774.581 11.0023 784.505 11.0023 Q788.759 11.0023 793.174 11.7719 Q797.59 12.5416 802.208 14.0809 Z\" fill=\"#000000\" fill-rule=\"evenodd\" fill-opacity=\"1\" /><path clip-path=\"url(#clip950)\" d=\"M881.241 14.0809 L881.241 22.0612 Q876.582 19.8332 872.45 18.7395 Q868.319 17.6457 864.47 17.6457 Q857.786 17.6457 854.14 20.2383 Q850.535 22.8309 850.535 27.611 Q850.535 31.6214 852.925 33.6873 Q855.356 35.7128 862.08 36.9686 L867.022 37.9813 Q876.177 39.7232 880.512 44.1387 Q884.887 48.5136 884.887 55.8863 Q884.887 64.6767 878.972 69.2137 Q873.099 73.7508 861.716 73.7508 Q857.422 73.7508 852.561 72.7785 Q847.74 71.8063 842.555 69.9024 L842.555 61.4765 Q847.537 64.2716 852.317 65.6895 Q857.098 67.1073 861.716 67.1073 Q868.724 67.1073 872.531 64.3527 Q876.339 61.598 876.339 56.4939 Q876.339 52.0379 873.585 49.5264 Q870.871 47.0148 864.632 45.759 L859.65 44.7868 Q850.495 42.9639 846.403 39.075 Q842.312 35.1862 842.312 28.2591 Q842.312 20.2383 847.942 15.6203 Q853.614 11.0023 863.538 11.0023 Q867.792 11.0023 872.207 11.7719 Q876.623 12.5416 881.241 14.0809 Z\" fill=\"#000000\" fill-rule=\"evenodd\" fill-opacity=\"1\" /><path clip-path=\"url(#clip950)\" d=\"M897.647 12.096 L905.83 12.096 L905.83 72.576 L897.647 72.576 L897.647 12.096 Z\" fill=\"#000000\" fill-rule=\"evenodd\" fill-opacity=\"1\" /><path clip-path=\"url(#clip950)\" d=\"M950.795 44.2197 Q953.428 45.1109 955.899 48.0275 Q958.411 50.9442 960.922 56.0483 L969.227 72.576 L960.436 72.576 L952.699 57.061 Q949.701 50.9847 946.866 48.9997 Q944.07 47.0148 939.209 47.0148 L930.297 47.0148 L930.297 72.576 L922.115 72.576 L922.115 12.096 L940.587 12.096 Q950.957 12.096 956.061 16.4305 Q961.165 20.7649 961.165 29.5149 Q961.165 35.2267 958.492 38.994 Q955.859 42.7613 950.795 44.2197 M930.297 18.8205 L930.297 40.2903 L940.587 40.2903 Q946.501 40.2903 949.499 37.5762 Q952.537 34.8216 952.537 29.5149 Q952.537 24.2082 949.499 21.5346 Q946.501 18.8205 940.587 18.8205 L930.297 18.8205 Z\" fill=\"#000000\" fill-rule=\"evenodd\" fill-opacity=\"1\" /><path clip-path=\"url(#clip950)\" d=\"M1026.34 20.1573 L1015.24 50.2555 L1037.48 50.2555 L1026.34 20.1573 M1021.73 12.096 L1031 12.096 L1054.05 72.576 L1045.55 72.576 L1040.04 57.061 L1012.77 57.061 L1007.26 72.576 L998.636 72.576 L1021.73 12.096 Z\" fill=\"#000000\" fill-rule=\"evenodd\" fill-opacity=\"1\" /><path clip-path=\"url(#clip950)\" d=\"M1061.95 12.096 L1070.18 12.096 L1070.18 48.8377 Q1070.18 58.5599 1073.7 62.8538 Q1077.22 67.1073 1085.12 67.1073 Q1092.98 67.1073 1096.51 62.8538 Q1100.03 58.5599 1100.03 48.8377 L1100.03 12.096 L1108.25 12.096 L1108.25 49.8504 Q1108.25 61.6791 1102.38 67.7149 Q1096.55 73.7508 1085.12 73.7508 Q1073.66 73.7508 1067.79 67.7149 Q1061.95 61.6791 1061.95 49.8504 L1061.95 12.096 Z\" fill=\"#000000\" fill-rule=\"evenodd\" fill-opacity=\"1\" /><path clip-path=\"url(#clip950)\" d=\"M1152.29 44.2197 Q1154.92 45.1109 1157.39 48.0275 Q1159.9 50.9442 1162.41 56.0483 L1170.72 72.576 L1161.93 72.576 L1154.19 57.061 Q1151.19 50.9847 1148.36 48.9997 Q1145.56 47.0148 1140.7 47.0148 L1131.79 47.0148 L1131.79 72.576 L1123.61 72.576 L1123.61 12.096 L1142.08 12.096 Q1152.45 12.096 1157.55 16.4305 Q1162.66 20.7649 1162.66 29.5149 Q1162.66 35.2267 1159.98 38.994 Q1157.35 42.7613 1152.29 44.2197 M1131.79 18.8205 L1131.79 40.2903 L1142.08 40.2903 Q1147.99 40.2903 1150.99 37.5762 Q1154.03 34.8216 1154.03 29.5149 Q1154.03 24.2082 1150.99 21.5346 Q1147.99 18.8205 1142.08 18.8205 L1131.79 18.8205 Z\" fill=\"#000000\" fill-rule=\"evenodd\" fill-opacity=\"1\" /><path clip-path=\"url(#clip950)\" d=\"M1205.8 17.6457 Q1196.89 17.6457 1191.62 24.2892 Q1186.4 30.9327 1186.4 42.3968 Q1186.4 53.8203 1191.62 60.4638 Q1196.89 67.1073 1205.8 67.1073 Q1214.71 67.1073 1219.9 60.4638 Q1225.12 53.8203 1225.12 42.3968 Q1225.12 30.9327 1219.9 24.2892 Q1214.71 17.6457 1205.8 17.6457 M1205.8 11.0023 Q1218.52 11.0023 1226.13 19.5497 Q1233.75 28.0566 1233.75 42.3968 Q1233.75 56.6965 1226.13 65.2439 Q1218.52 73.7508 1205.8 73.7508 Q1193.04 73.7508 1185.38 65.2439 Q1177.77 56.737 1177.77 42.3968 Q1177.77 28.0566 1185.38 19.5497 Q1193.04 11.0023 1205.8 11.0023 Z\" fill=\"#000000\" fill-rule=\"evenodd\" fill-opacity=\"1\" /><path clip-path=\"url(#clip950)\" d=\"M1291.84 16.7545 L1291.84 25.383 Q1287.71 21.5346 1283.01 19.6307 Q1278.35 17.7268 1273.08 17.7268 Q1262.71 17.7268 1257.21 24.0867 Q1251.7 30.4061 1251.7 42.3968 Q1251.7 54.3469 1257.21 60.7069 Q1262.71 67.0263 1273.08 67.0263 Q1278.35 67.0263 1283.01 65.1223 Q1287.71 63.2184 1291.84 59.3701 L1291.84 67.9175 Q1287.55 70.8341 1282.73 72.2924 Q1277.95 73.7508 1272.6 73.7508 Q1258.87 73.7508 1250.97 65.3654 Q1243.07 56.9395 1243.07 42.3968 Q1243.07 27.8135 1250.97 19.4281 Q1258.87 11.0023 1272.6 11.0023 Q1278.03 11.0023 1282.81 12.4606 Q1287.63 13.8784 1291.84 16.7545 Z\" fill=\"#000000\" fill-rule=\"evenodd\" fill-opacity=\"1\" /><path clip-path=\"url(#clip950)\" d=\"M1330.53 27.2059 L1337.98 27.2059 L1337.98 72.576 L1330.53 72.576 L1330.53 27.2059 M1330.53 9.54393 L1337.98 9.54393 L1337.98 18.9825 L1330.53 18.9825 L1330.53 9.54393 Z\" fill=\"#000000\" fill-rule=\"evenodd\" fill-opacity=\"1\" /><path clip-path=\"url(#clip950)\" d=\"M1391.29 45.1919 L1391.29 72.576 L1383.84 72.576 L1383.84 45.4349 Q1383.84 38.994 1381.33 35.7938 Q1378.81 32.5936 1373.79 32.5936 Q1367.75 32.5936 1364.27 36.4419 Q1360.79 40.2903 1360.79 46.9338 L1360.79 72.576 L1353.29 72.576 L1353.29 27.2059 L1360.79 27.2059 L1360.79 34.2544 Q1363.46 30.163 1367.07 28.1376 Q1370.71 26.1121 1375.45 26.1121 Q1383.27 26.1121 1387.28 30.9732 Q1391.29 35.7938 1391.29 45.1919 Z\" fill=\"#000000\" fill-rule=\"evenodd\" fill-opacity=\"1\" /><path clip-path=\"url(#clip950)\" d=\"M1455.5 9.54393 L1455.5 15.7418 L1448.37 15.7418 Q1444.36 15.7418 1442.78 17.3622 Q1441.24 18.9825 1441.24 23.1955 L1441.24 27.2059 L1453.51 27.2059 L1453.51 32.9987 L1441.24 32.9987 L1441.24 72.576 L1433.74 72.576 L1433.74 32.9987 L1426.61 32.9987 L1426.61 27.2059 L1433.74 27.2059 L1433.74 24.0462 Q1433.74 16.471 1437.27 13.0277 Q1440.79 9.54393 1448.45 9.54393 L1455.5 9.54393 Z\" fill=\"#000000\" fill-rule=\"evenodd\" fill-opacity=\"1\" /><path clip-path=\"url(#clip950)\" d=\"M1460.97 54.671 L1460.97 27.2059 L1468.42 27.2059 L1468.42 54.3874 Q1468.42 60.8284 1470.93 64.0691 Q1473.44 67.2693 1478.47 67.2693 Q1484.5 67.2693 1487.99 63.421 Q1491.51 59.5726 1491.51 52.9291 L1491.51 27.2059 L1498.96 27.2059 L1498.96 72.576 L1491.51 72.576 L1491.51 65.6084 Q1488.8 69.7404 1485.19 71.7658 Q1481.63 73.7508 1476.89 73.7508 Q1469.07 73.7508 1465.02 68.8897 Q1460.97 64.0286 1460.97 54.671 M1479.72 26.1121 L1479.72 26.1121 Z\" fill=\"#000000\" fill-rule=\"evenodd\" fill-opacity=\"1\" /><path clip-path=\"url(#clip950)\" d=\"M1552.03 45.1919 L1552.03 72.576 L1544.58 72.576 L1544.58 45.4349 Q1544.58 38.994 1542.06 35.7938 Q1539.55 32.5936 1534.53 32.5936 Q1528.49 32.5936 1525.01 36.4419 Q1521.53 40.2903 1521.53 46.9338 L1521.53 72.576 L1514.03 72.576 L1514.03 27.2059 L1521.53 27.2059 L1521.53 34.2544 Q1524.2 30.163 1527.81 28.1376 Q1531.45 26.1121 1536.19 26.1121 Q1544.01 26.1121 1548.02 30.9732 Q1552.03 35.7938 1552.03 45.1919 Z\" fill=\"#000000\" fill-rule=\"evenodd\" fill-opacity=\"1\" /><path clip-path=\"url(#clip950)\" d=\"M1599.55 28.9478 L1599.55 35.9153 Q1596.39 34.1734 1593.19 33.3227 Q1590.03 32.4315 1586.79 32.4315 Q1579.54 32.4315 1575.53 37.0496 Q1571.51 41.6271 1571.51 49.9314 Q1571.51 58.2358 1575.53 62.8538 Q1579.54 67.4314 1586.79 67.4314 Q1590.03 67.4314 1593.19 66.5807 Q1596.39 65.6895 1599.55 63.9476 L1599.55 70.8341 Q1596.43 72.2924 1593.07 73.0216 Q1589.74 73.7508 1585.98 73.7508 Q1575.73 73.7508 1569.69 67.3098 Q1563.66 60.8689 1563.66 49.9314 Q1563.66 38.832 1569.73 32.472 Q1575.85 26.1121 1586.46 26.1121 Q1589.91 26.1121 1593.19 26.8413 Q1596.47 27.5299 1599.55 28.9478 Z\" fill=\"#000000\" fill-rule=\"evenodd\" fill-opacity=\"1\" /><path clip-path=\"url(#clip950)\" d=\"M1619.88 14.324 L1619.88 27.2059 L1635.24 27.2059 L1635.24 32.9987 L1619.88 32.9987 L1619.88 57.6282 Q1619.88 63.1779 1621.38 64.7578 Q1622.92 66.3376 1627.58 66.3376 L1635.24 66.3376 L1635.24 72.576 L1627.58 72.576 Q1618.95 72.576 1615.67 69.3758 Q1612.39 66.1351 1612.39 57.6282 L1612.39 32.9987 L1606.92 32.9987 L1606.92 27.2059 L1612.39 27.2059 L1612.39 14.324 L1619.88 14.324 Z\" fill=\"#000000\" fill-rule=\"evenodd\" fill-opacity=\"1\" /><path clip-path=\"url(#clip950)\" d=\"M1645.04 27.2059 L1652.49 27.2059 L1652.49 72.576 L1645.04 72.576 L1645.04 27.2059 M1645.04 9.54393 L1652.49 9.54393 L1652.49 18.9825 L1645.04 18.9825 L1645.04 9.54393 Z\" fill=\"#000000\" fill-rule=\"evenodd\" fill-opacity=\"1\" /><path clip-path=\"url(#clip950)\" d=\"M1685.67 32.4315 Q1679.67 32.4315 1676.19 37.1306 Q1672.71 41.7891 1672.71 49.9314 Q1672.71 58.0738 1676.15 62.7728 Q1679.63 67.4314 1685.67 67.4314 Q1691.62 67.4314 1695.11 62.7323 Q1698.59 58.0333 1698.59 49.9314 Q1698.59 41.8701 1695.11 37.1711 Q1691.62 32.4315 1685.67 32.4315 M1685.67 26.1121 Q1695.39 26.1121 1700.94 32.4315 Q1706.49 38.7509 1706.49 49.9314 Q1706.49 61.0714 1700.94 67.4314 Q1695.39 73.7508 1685.67 73.7508 Q1675.91 73.7508 1670.36 67.4314 Q1664.85 61.0714 1664.85 49.9314 Q1664.85 38.7509 1670.36 32.4315 Q1675.91 26.1121 1685.67 26.1121 Z\" fill=\"#000000\" fill-rule=\"evenodd\" fill-opacity=\"1\" /><path clip-path=\"url(#clip950)\" d=\"M1756.56 45.1919 L1756.56 72.576 L1749.11 72.576 L1749.11 45.4349 Q1749.11 38.994 1746.6 35.7938 Q1744.08 32.5936 1739.06 32.5936 Q1733.02 32.5936 1729.54 36.4419 Q1726.06 40.2903 1726.06 46.9338 L1726.06 72.576 L1718.56 72.576 L1718.56 27.2059 L1726.06 27.2059 L1726.06 34.2544 Q1728.73 30.163 1732.34 28.1376 Q1735.98 26.1121 1740.72 26.1121 Q1748.54 26.1121 1752.55 30.9732 Q1756.56 35.7938 1756.56 45.1919 Z\" fill=\"#000000\" fill-rule=\"evenodd\" fill-opacity=\"1\" /><path clip-path=\"url(#clip950)\" d=\"M1815.38 32.4315 Q1809.38 32.4315 1805.9 37.1306 Q1802.42 41.7891 1802.42 49.9314 Q1802.42 58.0738 1805.86 62.7728 Q1809.34 67.4314 1815.38 67.4314 Q1821.33 67.4314 1824.82 62.7323 Q1828.3 58.0333 1828.3 49.9314 Q1828.3 41.8701 1824.82 37.1711 Q1821.33 32.4315 1815.38 32.4315 M1815.38 26.1121 Q1825.1 26.1121 1830.65 32.4315 Q1836.2 38.7509 1836.2 49.9314 Q1836.2 61.0714 1830.65 67.4314 Q1825.1 73.7508 1815.38 73.7508 Q1805.62 73.7508 1800.07 67.4314 Q1794.56 61.0714 1794.56 49.9314 Q1794.56 38.7509 1800.07 32.4315 Q1805.62 26.1121 1815.38 26.1121 Z\" fill=\"#000000\" fill-rule=\"evenodd\" fill-opacity=\"1\" /><path clip-path=\"url(#clip950)\" d=\"M1871.52 9.54393 L1871.52 15.7418 L1864.4 15.7418 Q1860.38 15.7418 1858.81 17.3622 Q1857.27 18.9825 1857.27 23.1955 L1857.27 27.2059 L1869.54 27.2059 L1869.54 32.9987 L1857.27 32.9987 L1857.27 72.576 L1849.77 72.576 L1849.77 32.9987 L1842.64 32.9987 L1842.64 27.2059 L1849.77 27.2059 L1849.77 24.0462 Q1849.77 16.471 1853.3 13.0277 Q1856.82 9.54393 1864.48 9.54393 L1871.52 9.54393 Z\" fill=\"#000000\" fill-rule=\"evenodd\" fill-opacity=\"1\" /><path clip-path=\"url(#clip950)\" d=\"M1911.51 14.324 L1911.51 27.2059 L1926.86 27.2059 L1926.86 32.9987 L1911.51 32.9987 L1911.51 57.6282 Q1911.51 63.1779 1913.01 64.7578 Q1914.55 66.3376 1919.2 66.3376 L1926.86 66.3376 L1926.86 72.576 L1919.2 72.576 Q1910.58 72.576 1907.29 69.3758 Q1904.01 66.1351 1904.01 57.6282 L1904.01 32.9987 L1898.54 32.9987 L1898.54 27.2059 L1904.01 27.2059 L1904.01 14.324 L1911.51 14.324 Z\" fill=\"#000000\" fill-rule=\"evenodd\" fill-opacity=\"1\" /><path clip-path=\"url(#clip950)\" d=\"M1936.66 27.2059 L1944.12 27.2059 L1944.12 72.576 L1936.66 72.576 L1936.66 27.2059 M1936.66 9.54393 L1944.12 9.54393 L1944.12 18.9825 L1936.66 18.9825 L1936.66 9.54393 Z\" fill=\"#000000\" fill-rule=\"evenodd\" fill-opacity=\"1\" /><path clip-path=\"url(#clip950)\" d=\"M1995.04 35.9153 Q1997.83 30.8922 2001.72 28.5022 Q2005.61 26.1121 2010.88 26.1121 Q2017.97 26.1121 2021.81 31.0947 Q2025.66 36.0368 2025.66 45.1919 L2025.66 72.576 L2018.17 72.576 L2018.17 45.4349 Q2018.17 38.913 2015.86 35.7533 Q2013.55 32.5936 2008.81 32.5936 Q2003.02 32.5936 1999.66 36.4419 Q1996.29 40.2903 1996.29 46.9338 L1996.29 72.576 L1988.8 72.576 L1988.8 45.4349 Q1988.8 38.8725 1986.49 35.7533 Q1984.18 32.5936 1979.36 32.5936 Q1973.65 32.5936 1970.29 36.4824 Q1966.92 40.3308 1966.92 46.9338 L1966.92 72.576 L1959.43 72.576 L1959.43 27.2059 L1966.92 27.2059 L1966.92 34.2544 Q1969.48 30.082 1973.04 28.0971 Q1976.61 26.1121 1981.51 26.1121 Q1986.45 26.1121 1989.89 28.6237 Q1993.38 31.1352 1995.04 35.9153 Z\" fill=\"#000000\" fill-rule=\"evenodd\" fill-opacity=\"1\" /><path clip-path=\"url(#clip950)\" d=\"M2079.34 48.0275 L2079.34 51.6733 L2045.07 51.6733 Q2045.55 59.3701 2049.68 63.421 Q2053.86 67.4314 2061.27 67.4314 Q2065.56 67.4314 2069.57 66.3781 Q2073.62 65.3249 2077.59 63.2184 L2077.59 70.267 Q2073.58 71.9684 2069.37 72.8596 Q2065.16 73.7508 2060.82 73.7508 Q2049.97 73.7508 2043.61 67.4314 Q2037.29 61.1119 2037.29 50.3365 Q2037.29 39.1965 2043.28 32.6746 Q2049.32 26.1121 2059.53 26.1121 Q2068.68 26.1121 2073.99 32.0264 Q2079.34 37.9003 2079.34 48.0275 M2071.88 45.84 Q2071.8 39.7232 2068.44 36.0774 Q2065.12 32.4315 2059.61 32.4315 Q2053.37 32.4315 2049.6 35.9558 Q2045.88 39.4801 2045.31 45.8805 L2071.88 45.84 Z\" fill=\"#000000\" fill-rule=\"evenodd\" fill-opacity=\"1\" /><polyline clip-path=\"url(#clip952)\" style=\"stroke:#009af9; stroke-linecap:butt; stroke-linejoin:round; stroke-width:4; stroke-opacity:1; fill:none\" points=\"\n",
       "  279.916,622.295 320.987,634.856 362.058,877.208 403.128,969.766 444.199,638.343 485.27,549.777 526.341,425.781 567.411,421.005 608.482,379.57 649.553,334.854 \n",
       "  690.623,317.008 731.694,298.774 772.765,255.916 813.836,245.191 854.906,235.198 895.977,230.206 937.048,212.981 978.119,203.031 1019.19,190.941 1060.26,195.81 \n",
       "  1101.33,184.81 1142.4,174.081 1183.47,174.777 1224.54,176.144 1265.61,175.301 1306.68,176.462 1347.76,171.781 1388.83,169.267 1429.9,171.51 1470.97,173.998 \n",
       "  1512.04,174.66 1553.11,173.415 1594.18,177.458 1635.25,167.095 1676.32,160.757 1717.39,161.007 1758.46,160.256 1799.53,166.953 1840.6,161.194 1881.67,183.847 \n",
       "  1922.75,205.447 1963.82,204.451 2004.89,205.447 2045.96,205.695 2087.03,217.865 2128.1,232.531 2169.17,269.14 2210.24,279.159 2251.31,291.459 2292.38,290.214 \n",
       "  \n",
       "  \"/>\n",
       "<polyline clip-path=\"url(#clip952)\" style=\"stroke:#e26f46; stroke-linecap:butt; stroke-linejoin:round; stroke-width:4; stroke-opacity:1; fill:none\" points=\"\n",
       "  279.916,999.117 320.987,942.594 362.058,1386.4 403.128,1378.98 444.199,1109.61 485.27,982.092 526.341,803.992 567.411,803.037 608.482,740.173 649.553,628.181 \n",
       "  690.623,595.35 731.694,523.946 772.765,472 813.836,433.071 854.906,416.332 895.977,405.757 937.048,365.248 978.119,354.132 1019.19,331.576 1060.26,326.754 \n",
       "  1101.33,296.721 1142.4,246.397 1183.47,245.289 1224.54,245.562 1265.61,227.88 1306.68,221.807 1347.76,217.675 1388.83,203.31 1429.9,205.909 1470.97,205.36 \n",
       "  1512.04,203.558 1553.11,202.099 1594.18,215.763 1635.25,202.265 1676.32,195.299 1717.39,193.046 1758.46,191.044 1799.53,193.161 1840.6,180.143 1881.67,188.082 \n",
       "  1922.75,188.528 1963.82,187.533 2004.89,187.035 2045.96,186.538 2087.03,186.028 2128.1,185.029 2169.17,193.255 2210.24,197.262 2251.31,203.526 2292.38,203.277 \n",
       "  \n",
       "  \"/>\n",
       "<polyline clip-path=\"url(#clip952)\" style=\"stroke:#3da44d; stroke-linecap:butt; stroke-linejoin:round; stroke-width:4; stroke-opacity:1; fill:none\" points=\"\n",
       "  279.916,710.22 320.987,722.781 362.058,847.751 403.128,922.183 444.199,794.817 485.27,721.407 526.341,583.369 567.411,582.414 608.482,567.843 649.553,513.92 \n",
       "  690.623,495.548 731.694,461.374 772.765,424.989 813.836,392.548 854.906,383.172 895.977,355.989 937.048,316.727 978.119,304.922 1019.19,279.763 1060.26,282.807 \n",
       "  1101.33,255.735 1142.4,232.82 1183.47,232.17 1224.54,234.357 1265.61,207.492 1306.68,201.269 1347.76,193.534 1388.83,176.92 1429.9,180.175 1470.97,180.27 \n",
       "  1512.04,174.66 1553.11,172.903 1594.18,182.024 1635.25,171.616 1676.32,167.515 1717.39,168.516 1758.46,170.769 1799.53,177.186 1840.6,165.931 1881.67,168.403 \n",
       "  1922.75,168.375 1963.82,169.868 2004.89,171.61 2045.96,172.605 2087.03,174.586 2128.1,173.589 2169.17,177.083 2210.24,184.567 2251.31,195.057 2292.38,196.552 \n",
       "  \n",
       "  \"/>\n",
       "<path clip-path=\"url(#clip950)\" d=\"\n",
       "M1787.1 374.156 L2281.65 374.156 L2281.65 166.796 L1787.1 166.796  Z\n",
       "  \" fill=\"#ffffff\" fill-rule=\"evenodd\" fill-opacity=\"1\"/>\n",
       "<polyline clip-path=\"url(#clip950)\" style=\"stroke:#000000; stroke-linecap:butt; stroke-linejoin:round; stroke-width:4; stroke-opacity:1; fill:none\" points=\"\n",
       "  1787.1,374.156 2281.65,374.156 2281.65,166.796 1787.1,166.796 1787.1,374.156 \n",
       "  \"/>\n",
       "<polyline clip-path=\"url(#clip950)\" style=\"stroke:#009af9; stroke-linecap:butt; stroke-linejoin:round; stroke-width:4; stroke-opacity:1; fill:none\" points=\"\n",
       "  1810.81,218.636 1953.02,218.636 \n",
       "  \"/>\n",
       "<path clip-path=\"url(#clip950)\" d=\"M1992.56 205.962 L1986.21 223.161 L1998.92 223.161 L1992.56 205.962 M1989.92 201.356 L1995.22 201.356 L2008.39 235.916 L2003.53 235.916 L2000.38 227.05 L1984.8 227.05 L1981.65 235.916 L1976.72 235.916 L1989.92 201.356 Z\" fill=\"#000000\" fill-rule=\"evenodd\" fill-opacity=\"1\" /><path clip-path=\"url(#clip950)\" d=\"M2012.9 201.356 L2017.6 201.356 L2017.6 222.351 Q2017.6 227.907 2019.62 230.36 Q2021.63 232.791 2026.14 232.791 Q2030.63 232.791 2032.65 230.36 Q2034.66 227.907 2034.66 222.351 L2034.66 201.356 L2039.36 201.356 L2039.36 222.93 Q2039.36 229.689 2036 233.138 Q2032.67 236.587 2026.14 236.587 Q2019.59 236.587 2016.24 233.138 Q2012.9 229.689 2012.9 222.93 L2012.9 201.356 Z\" fill=\"#000000\" fill-rule=\"evenodd\" fill-opacity=\"1\" /><path clip-path=\"url(#clip950)\" d=\"M2066.61 210.985 L2066.61 214.967 Q2064.8 213.971 2062.97 213.485 Q2061.17 212.976 2059.31 212.976 Q2055.17 212.976 2052.88 215.615 Q2050.59 218.231 2050.59 222.976 Q2050.59 227.721 2052.88 230.36 Q2055.17 232.976 2059.31 232.976 Q2061.17 232.976 2062.97 232.49 Q2064.8 231.981 2066.61 230.985 L2066.61 234.92 Q2064.82 235.754 2062.9 236.17 Q2061 236.587 2058.85 236.587 Q2053 236.587 2049.55 232.906 Q2046.1 229.226 2046.1 222.976 Q2046.1 216.633 2049.57 212.999 Q2053.06 209.365 2059.13 209.365 Q2061.1 209.365 2062.97 209.782 Q2064.85 210.175 2066.61 210.985 Z\" fill=\"#000000\" fill-rule=\"evenodd\" fill-opacity=\"1\" /><path clip-path=\"url(#clip950)\" d=\"M2085.8 222.883 Q2080.63 222.883 2078.64 224.064 Q2076.65 225.244 2076.65 228.092 Q2076.65 230.36 2078.13 231.703 Q2079.64 233.022 2082.21 233.022 Q2085.75 233.022 2087.88 230.522 Q2090.03 227.999 2090.03 223.832 L2090.03 222.883 L2085.8 222.883 M2094.29 221.124 L2094.29 235.916 L2090.03 235.916 L2090.03 231.981 Q2088.57 234.342 2086.4 235.476 Q2084.22 236.587 2081.07 236.587 Q2077.09 236.587 2074.73 234.365 Q2072.39 232.119 2072.39 228.369 Q2072.39 223.994 2075.31 221.772 Q2078.25 219.55 2084.06 219.55 L2090.03 219.55 L2090.03 219.133 Q2090.03 216.194 2088.09 214.596 Q2086.17 212.976 2082.67 212.976 Q2080.45 212.976 2078.34 213.508 Q2076.24 214.041 2074.29 215.106 L2074.29 211.17 Q2076.63 210.268 2078.83 209.828 Q2081.03 209.365 2083.11 209.365 Q2088.74 209.365 2091.51 212.282 Q2094.29 215.198 2094.29 221.124 Z\" fill=\"#000000\" fill-rule=\"evenodd\" fill-opacity=\"1\" /><path clip-path=\"url(#clip950)\" d=\"M2102.62 225.684 L2102.62 209.99 L2106.88 209.99 L2106.88 225.522 Q2106.88 229.203 2108.32 231.055 Q2109.75 232.883 2112.62 232.883 Q2116.07 232.883 2118.06 230.684 Q2120.08 228.485 2120.08 224.689 L2120.08 209.99 L2124.34 209.99 L2124.34 235.916 L2120.08 235.916 L2120.08 231.934 Q2118.53 234.295 2116.47 235.453 Q2114.43 236.587 2111.72 236.587 Q2107.25 236.587 2104.94 233.809 Q2102.62 231.031 2102.62 225.684 M2113.34 209.365 L2113.34 209.365 Z\" fill=\"#000000\" fill-rule=\"evenodd\" fill-opacity=\"1\" /><path clip-path=\"url(#clip950)\" d=\"M2154.01 202.49 L2154.01 207.05 Q2151.35 205.777 2148.99 205.152 Q2146.63 204.527 2144.43 204.527 Q2140.61 204.527 2138.53 206.008 Q2136.47 207.49 2136.47 210.221 Q2136.47 212.513 2137.83 213.694 Q2139.22 214.851 2143.06 215.569 L2145.89 216.147 Q2151.12 217.143 2153.6 219.666 Q2156.1 222.166 2156.1 226.379 Q2156.1 231.402 2152.72 233.994 Q2149.36 236.587 2142.86 236.587 Q2140.4 236.587 2137.62 236.031 Q2134.87 235.476 2131.91 234.388 L2131.91 229.573 Q2134.75 231.17 2137.49 231.981 Q2140.22 232.791 2142.86 232.791 Q2146.86 232.791 2149.04 231.217 Q2151.21 229.643 2151.21 226.726 Q2151.21 224.18 2149.64 222.744 Q2148.09 221.309 2144.52 220.592 L2141.68 220.036 Q2136.44 218.995 2134.11 216.772 Q2131.77 214.55 2131.77 210.592 Q2131.77 206.008 2134.99 203.37 Q2138.23 200.731 2143.9 200.731 Q2146.33 200.731 2148.85 201.171 Q2151.37 201.61 2154.01 202.49 Z\" fill=\"#000000\" fill-rule=\"evenodd\" fill-opacity=\"1\" /><path clip-path=\"url(#clip950)\" d=\"M2163.39 201.356 L2185.24 201.356 L2185.24 205.291 L2168.06 205.291 L2168.06 215.522 L2184.52 215.522 L2184.52 219.457 L2168.06 219.457 L2168.06 231.981 L2185.66 231.981 L2185.66 235.916 L2163.39 235.916 L2163.39 201.356 Z\" fill=\"#000000\" fill-rule=\"evenodd\" fill-opacity=\"1\" /><path clip-path=\"url(#clip950)\" d=\"M2193.34 201.356 L2198.02 201.356 L2198.02 235.916 L2193.34 235.916 L2193.34 201.356 Z\" fill=\"#000000\" fill-rule=\"evenodd\" fill-opacity=\"1\" /><path clip-path=\"url(#clip950)\" d=\"M2223.71 219.712 Q2225.22 220.221 2226.63 221.888 Q2228.06 223.555 2229.5 226.471 L2234.24 235.916 L2229.22 235.916 L2224.8 227.05 Q2223.09 223.578 2221.47 222.444 Q2219.87 221.309 2217.09 221.309 L2212 221.309 L2212 235.916 L2207.32 235.916 L2207.32 201.356 L2217.88 201.356 Q2223.8 201.356 2226.72 203.833 Q2229.64 206.309 2229.64 211.309 Q2229.64 214.573 2228.11 216.726 Q2226.61 218.879 2223.71 219.712 M2212 205.198 L2212 217.467 L2217.88 217.467 Q2221.26 217.467 2222.97 215.916 Q2224.71 214.342 2224.71 211.309 Q2224.71 208.277 2222.97 206.749 Q2221.26 205.198 2217.88 205.198 L2212 205.198 Z\" fill=\"#000000\" fill-rule=\"evenodd\" fill-opacity=\"1\" /><polyline clip-path=\"url(#clip950)\" style=\"stroke:#e26f46; stroke-linecap:butt; stroke-linejoin:round; stroke-width:4; stroke-opacity:1; fill:none\" points=\"\n",
       "  1810.81,270.476 1953.02,270.476 \n",
       "  \"/>\n",
       "<path clip-path=\"url(#clip950)\" d=\"M1992.56 257.802 L1986.21 275.001 L1998.92 275.001 L1992.56 257.802 M1989.92 253.196 L1995.22 253.196 L2008.39 287.756 L2003.53 287.756 L2000.38 278.89 L1984.8 278.89 L1981.65 287.756 L1976.72 287.756 L1989.92 253.196 Z\" fill=\"#000000\" fill-rule=\"evenodd\" fill-opacity=\"1\" /><path clip-path=\"url(#clip950)\" d=\"M2012.9 253.196 L2017.6 253.196 L2017.6 274.191 Q2017.6 279.747 2019.62 282.2 Q2021.63 284.631 2026.14 284.631 Q2030.63 284.631 2032.65 282.2 Q2034.66 279.747 2034.66 274.191 L2034.66 253.196 L2039.36 253.196 L2039.36 274.77 Q2039.36 281.529 2036 284.978 Q2032.67 288.427 2026.14 288.427 Q2019.59 288.427 2016.24 284.978 Q2012.9 281.529 2012.9 274.77 L2012.9 253.196 Z\" fill=\"#000000\" fill-rule=\"evenodd\" fill-opacity=\"1\" /><path clip-path=\"url(#clip950)\" d=\"M2066.61 262.825 L2066.61 266.807 Q2064.8 265.811 2062.97 265.325 Q2061.17 264.816 2059.31 264.816 Q2055.17 264.816 2052.88 267.455 Q2050.59 270.071 2050.59 274.816 Q2050.59 279.561 2052.88 282.2 Q2055.17 284.816 2059.31 284.816 Q2061.17 284.816 2062.97 284.33 Q2064.8 283.821 2066.61 282.825 L2066.61 286.76 Q2064.82 287.594 2062.9 288.01 Q2061 288.427 2058.85 288.427 Q2053 288.427 2049.55 284.746 Q2046.1 281.066 2046.1 274.816 Q2046.1 268.473 2049.57 264.839 Q2053.06 261.205 2059.13 261.205 Q2061.1 261.205 2062.97 261.622 Q2064.85 262.015 2066.61 262.825 Z\" fill=\"#000000\" fill-rule=\"evenodd\" fill-opacity=\"1\" /><path clip-path=\"url(#clip950)\" d=\"M2085.8 274.723 Q2080.63 274.723 2078.64 275.904 Q2076.65 277.084 2076.65 279.932 Q2076.65 282.2 2078.13 283.543 Q2079.64 284.862 2082.21 284.862 Q2085.75 284.862 2087.88 282.362 Q2090.03 279.839 2090.03 275.672 L2090.03 274.723 L2085.8 274.723 M2094.29 272.964 L2094.29 287.756 L2090.03 287.756 L2090.03 283.821 Q2088.57 286.182 2086.4 287.316 Q2084.22 288.427 2081.07 288.427 Q2077.09 288.427 2074.73 286.205 Q2072.39 283.959 2072.39 280.209 Q2072.39 275.834 2075.31 273.612 Q2078.25 271.39 2084.06 271.39 L2090.03 271.39 L2090.03 270.973 Q2090.03 268.034 2088.09 266.436 Q2086.17 264.816 2082.67 264.816 Q2080.45 264.816 2078.34 265.348 Q2076.24 265.881 2074.29 266.946 L2074.29 263.01 Q2076.63 262.108 2078.83 261.668 Q2081.03 261.205 2083.11 261.205 Q2088.74 261.205 2091.51 264.122 Q2094.29 267.038 2094.29 272.964 Z\" fill=\"#000000\" fill-rule=\"evenodd\" fill-opacity=\"1\" /><path clip-path=\"url(#clip950)\" d=\"M2102.62 277.524 L2102.62 261.83 L2106.88 261.83 L2106.88 277.362 Q2106.88 281.043 2108.32 282.895 Q2109.75 284.723 2112.62 284.723 Q2116.07 284.723 2118.06 282.524 Q2120.08 280.325 2120.08 276.529 L2120.08 261.83 L2124.34 261.83 L2124.34 287.756 L2120.08 287.756 L2120.08 283.774 Q2118.53 286.135 2116.47 287.293 Q2114.43 288.427 2111.72 288.427 Q2107.25 288.427 2104.94 285.649 Q2102.62 282.871 2102.62 277.524 M2113.34 261.205 L2113.34 261.205 Z\" fill=\"#000000\" fill-rule=\"evenodd\" fill-opacity=\"1\" /><path clip-path=\"url(#clip950)\" d=\"M2154.01 254.33 L2154.01 258.89 Q2151.35 257.617 2148.99 256.992 Q2146.63 256.367 2144.43 256.367 Q2140.61 256.367 2138.53 257.848 Q2136.47 259.33 2136.47 262.061 Q2136.47 264.353 2137.83 265.534 Q2139.22 266.691 2143.06 267.409 L2145.89 267.987 Q2151.12 268.983 2153.6 271.506 Q2156.1 274.006 2156.1 278.219 Q2156.1 283.242 2152.72 285.834 Q2149.36 288.427 2142.86 288.427 Q2140.4 288.427 2137.62 287.871 Q2134.87 287.316 2131.91 286.228 L2131.91 281.413 Q2134.75 283.01 2137.49 283.821 Q2140.22 284.631 2142.86 284.631 Q2146.86 284.631 2149.04 283.057 Q2151.21 281.483 2151.21 278.566 Q2151.21 276.02 2149.64 274.584 Q2148.09 273.149 2144.52 272.432 L2141.68 271.876 Q2136.44 270.835 2134.11 268.612 Q2131.77 266.39 2131.77 262.432 Q2131.77 257.848 2134.99 255.21 Q2138.23 252.571 2143.9 252.571 Q2146.33 252.571 2148.85 253.011 Q2151.37 253.45 2154.01 254.33 Z\" fill=\"#000000\" fill-rule=\"evenodd\" fill-opacity=\"1\" /><path clip-path=\"url(#clip950)\" d=\"M2163.39 253.196 L2168.06 253.196 L2168.06 287.756 L2163.39 287.756 L2163.39 253.196 Z\" fill=\"#000000\" fill-rule=\"evenodd\" fill-opacity=\"1\" /><path clip-path=\"url(#clip950)\" d=\"M2193.76 271.552 Q2195.26 272.061 2196.67 273.728 Q2198.11 275.395 2199.55 278.311 L2204.29 287.756 L2199.27 287.756 L2194.85 278.89 Q2193.13 275.418 2191.51 274.284 Q2189.92 273.149 2187.14 273.149 L2182.05 273.149 L2182.05 287.756 L2177.37 287.756 L2177.37 253.196 L2187.92 253.196 Q2193.85 253.196 2196.77 255.673 Q2199.68 258.149 2199.68 263.149 Q2199.68 266.413 2198.16 268.566 Q2196.65 270.719 2193.76 271.552 M2182.05 257.038 L2182.05 269.307 L2187.92 269.307 Q2191.3 269.307 2193.02 267.756 Q2194.75 266.182 2194.75 263.149 Q2194.75 260.117 2193.02 258.589 Q2191.3 257.038 2187.92 257.038 L2182.05 257.038 Z\" fill=\"#000000\" fill-rule=\"evenodd\" fill-opacity=\"1\" /><polyline clip-path=\"url(#clip950)\" style=\"stroke:#3da44d; stroke-linecap:butt; stroke-linejoin:round; stroke-width:4; stroke-opacity:1; fill:none\" points=\"\n",
       "  1810.81,322.316 1953.02,322.316 \n",
       "  \"/>\n",
       "<path clip-path=\"url(#clip950)\" d=\"M1992.56 309.642 L1986.21 326.841 L1998.92 326.841 L1992.56 309.642 M1989.92 305.036 L1995.22 305.036 L2008.39 339.596 L2003.53 339.596 L2000.38 330.73 L1984.8 330.73 L1981.65 339.596 L1976.72 339.596 L1989.92 305.036 Z\" fill=\"#000000\" fill-rule=\"evenodd\" fill-opacity=\"1\" /><path clip-path=\"url(#clip950)\" d=\"M2012.9 305.036 L2017.6 305.036 L2017.6 326.031 Q2017.6 331.587 2019.62 334.04 Q2021.63 336.471 2026.14 336.471 Q2030.63 336.471 2032.65 334.04 Q2034.66 331.587 2034.66 326.031 L2034.66 305.036 L2039.36 305.036 L2039.36 326.61 Q2039.36 333.369 2036 336.818 Q2032.67 340.267 2026.14 340.267 Q2019.59 340.267 2016.24 336.818 Q2012.9 333.369 2012.9 326.61 L2012.9 305.036 Z\" fill=\"#000000\" fill-rule=\"evenodd\" fill-opacity=\"1\" /><path clip-path=\"url(#clip950)\" d=\"M2066.61 314.665 L2066.61 318.647 Q2064.8 317.651 2062.97 317.165 Q2061.17 316.656 2059.31 316.656 Q2055.17 316.656 2052.88 319.295 Q2050.59 321.911 2050.59 326.656 Q2050.59 331.401 2052.88 334.04 Q2055.17 336.656 2059.31 336.656 Q2061.17 336.656 2062.97 336.17 Q2064.8 335.661 2066.61 334.665 L2066.61 338.6 Q2064.82 339.434 2062.9 339.85 Q2061 340.267 2058.85 340.267 Q2053 340.267 2049.55 336.586 Q2046.1 332.906 2046.1 326.656 Q2046.1 320.313 2049.57 316.679 Q2053.06 313.045 2059.13 313.045 Q2061.1 313.045 2062.97 313.462 Q2064.85 313.855 2066.61 314.665 Z\" fill=\"#000000\" fill-rule=\"evenodd\" fill-opacity=\"1\" /><path clip-path=\"url(#clip950)\" d=\"M2085.8 326.563 Q2080.63 326.563 2078.64 327.744 Q2076.65 328.924 2076.65 331.772 Q2076.65 334.04 2078.13 335.383 Q2079.64 336.702 2082.21 336.702 Q2085.75 336.702 2087.88 334.202 Q2090.03 331.679 2090.03 327.512 L2090.03 326.563 L2085.8 326.563 M2094.29 324.804 L2094.29 339.596 L2090.03 339.596 L2090.03 335.661 Q2088.57 338.022 2086.4 339.156 Q2084.22 340.267 2081.07 340.267 Q2077.09 340.267 2074.73 338.045 Q2072.39 335.799 2072.39 332.049 Q2072.39 327.674 2075.31 325.452 Q2078.25 323.23 2084.06 323.23 L2090.03 323.23 L2090.03 322.813 Q2090.03 319.874 2088.09 318.276 Q2086.17 316.656 2082.67 316.656 Q2080.45 316.656 2078.34 317.188 Q2076.24 317.721 2074.29 318.786 L2074.29 314.85 Q2076.63 313.948 2078.83 313.508 Q2081.03 313.045 2083.11 313.045 Q2088.74 313.045 2091.51 315.962 Q2094.29 318.878 2094.29 324.804 Z\" fill=\"#000000\" fill-rule=\"evenodd\" fill-opacity=\"1\" /><path clip-path=\"url(#clip950)\" d=\"M2102.62 329.364 L2102.62 313.67 L2106.88 313.67 L2106.88 329.202 Q2106.88 332.883 2108.32 334.735 Q2109.75 336.563 2112.62 336.563 Q2116.07 336.563 2118.06 334.364 Q2120.08 332.165 2120.08 328.369 L2120.08 313.67 L2124.34 313.67 L2124.34 339.596 L2120.08 339.596 L2120.08 335.614 Q2118.53 337.975 2116.47 339.133 Q2114.43 340.267 2111.72 340.267 Q2107.25 340.267 2104.94 337.489 Q2102.62 334.711 2102.62 329.364 M2113.34 313.045 L2113.34 313.045 Z\" fill=\"#000000\" fill-rule=\"evenodd\" fill-opacity=\"1\" /><path clip-path=\"url(#clip950)\" d=\"M2154.01 306.17 L2154.01 310.73 Q2151.35 309.457 2148.99 308.832 Q2146.63 308.207 2144.43 308.207 Q2140.61 308.207 2138.53 309.688 Q2136.47 311.17 2136.47 313.901 Q2136.47 316.193 2137.83 317.374 Q2139.22 318.531 2143.06 319.249 L2145.89 319.827 Q2151.12 320.823 2153.6 323.346 Q2156.1 325.846 2156.1 330.059 Q2156.1 335.082 2152.72 337.674 Q2149.36 340.267 2142.86 340.267 Q2140.4 340.267 2137.62 339.711 Q2134.87 339.156 2131.91 338.068 L2131.91 333.253 Q2134.75 334.85 2137.49 335.661 Q2140.22 336.471 2142.86 336.471 Q2146.86 336.471 2149.04 334.897 Q2151.21 333.323 2151.21 330.406 Q2151.21 327.86 2149.64 326.424 Q2148.09 324.989 2144.52 324.272 L2141.68 323.716 Q2136.44 322.675 2134.11 320.452 Q2131.77 318.23 2131.77 314.272 Q2131.77 309.688 2134.99 307.05 Q2138.23 304.411 2143.9 304.411 Q2146.33 304.411 2148.85 304.851 Q2151.37 305.29 2154.01 306.17 Z\" fill=\"#000000\" fill-rule=\"evenodd\" fill-opacity=\"1\" /><path clip-path=\"url(#clip950)\" d=\"M2163.39 305.036 L2168.06 305.036 L2168.06 339.596 L2163.39 339.596 L2163.39 305.036 Z\" fill=\"#000000\" fill-rule=\"evenodd\" fill-opacity=\"1\" /></svg>\n"
      ]
     },
     "execution_count": 41,
     "metadata": {},
     "output_type": "execute_result"
    }
   ],
   "source": [
    "T = Int(T)\n",
    "AU_cauSEIR=zeros(T)\n",
    "AU_cauSIR=zeros(T)\n",
    "AU_cauSI=zeros(T)\n",
    "for t = 1:T\n",
    "    cauSEIR_risk=zeros(N)\n",
    "    cauSIR_risk=zeros(N)\n",
    "    cauSI_risk=zeros(N)\n",
    "    for i=1:N\n",
    "       cauSEIR_risk[i] = marginal(i,t,statscauSEIR)\n",
    "       cauSIR_risk[i] = marginal(i,t,statscauSIR)\n",
    "       cauSI_risk[i] = marginalSI(i,t,statscauSI)\n",
    "    end\n",
    "    xt = xtrue[:,1] .< t-1e-3 \n",
    "    AU_cauSEIR[t] = AUROC(ROC(xt, cauSEIR_risk))\n",
    "    AU_cauSIR[t] = AUROC(ROC(xt, cauSIR_risk))\n",
    "    AU_cauSI[t] = AUROC(ROC(xt, cauSI_risk))\n",
    "end\n",
    "\n",
    "plot(LinRange(1,T,T),AU_cauSEIR, label=\"AUcauSEIR\", title=\"SEIR VS SIR AUROC in function of time\")\n",
    "plot!(LinRange(1,T,T),AU_cauSIR, label=\"AUcauSIR\")\n",
    "plot!(LinRange(1,T,T),AU_cauSI, label=\"AUcauSI\")\n",
    "T = Float64(T)\n",
    "savefig(\"SierologicalAUROC\")\n",
    "xlabel!(\"t\")\n",
    "ylabel!(\"AUROC\")"
   ]
  },
  {
   "cell_type": "code",
   "execution_count": null,
   "metadata": {},
   "outputs": [],
   "source": []
  }
 ],
 "metadata": {
  "kernelspec": {
   "display_name": "Julia 1.7.0-rc2",
   "language": "julia",
   "name": "julia-1.7"
  },
  "language_info": {
   "file_extension": ".jl",
   "mimetype": "application/julia",
   "name": "julia",
   "version": "1.7.0"
  }
 },
 "nbformat": 4,
 "nbformat_minor": 4
}
