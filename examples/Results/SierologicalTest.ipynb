{
 "cells": [
  {
   "cell_type": "code",
   "execution_count": 1,
   "metadata": {},
   "outputs": [
    {
     "name": "stderr",
     "output_type": "stream",
     "text": [
      "┌ Info: Precompiling Causality [943c2df0-3341-4665-8895-8aff0dd63d80]\n",
      "└ @ Base loading.jl:1423\n",
      "WARNING: Method definition union(IntervalArithmetic.Interval{T} where T<:Real, IntervalArithmetic.Interval{T} where T<:Real) in module IntervalArithmetic at /home/students/mmariani/.julia/packages/IntervalArithmetic/LgwfS/src/intervals/set_operations.jl:137 overwritten in module IntervalUnionArithmetic at /home/students/mmariani/.julia/packages/IntervalUnionArithmetic/uttGJ/src/interval_unions.jl:51.\n",
      "  ** incremental compilation may be fatally broken for this module **\n",
      "\n"
     ]
    }
   ],
   "source": [
    "using Causality, IntervalUnionArithmetic"
   ]
  },
  {
   "cell_type": "markdown",
   "metadata": {},
   "source": [
    "# Generation of Epidemics"
   ]
  },
  {
   "cell_type": "code",
   "execution_count": 465,
   "metadata": {},
   "outputs": [
    {
     "data": {
      "text/plain": [
       "2×2 SparseArrays.SparseMatrixCSC{IndexedGraphs.NullNumber, Int64} with 2 stored entries:\n",
       "          ⋅    NullNumber()\n",
       " NullNumber()           ⋅  "
      ]
     },
     "execution_count": 465,
     "metadata": {},
     "output_type": "execute_result"
    }
   ],
   "source": [
    "T, N = 20., 2\n",
    "#G = Causality.makeBarabasi(N,k=2)\n",
    "#ρ = 3/N\n",
    "#G = Causality.makeGNP(N,ρ)\n",
    "G = Causality.makeProximity(N,2.2/N)\n",
    "G.A "
   ]
  },
  {
   "cell_type": "code",
   "execution_count": 466,
   "metadata": {},
   "outputs": [
    {
     "data": {
      "text/plain": [
       "getpargenSI (generic function with 1 method)"
      ]
     },
     "execution_count": 466,
     "metadata": {},
     "output_type": "execute_result"
    }
   ],
   "source": [
    "getpargen(pseed, autoinf::GaussianRate, inf_out::GaussianRate, lat_gen::GaussianRate, rec_gen::GaussianRate) = \n",
    "    [pseed autoinf.a autoinf.b autoinf.c inf_out.a inf_out.b inf_out.c lat_gen.a lat_gen.b lat_gen.c rec_gen.a rec_gen.b rec_gen.c]\n",
    "\n",
    "getpar(pseed,autoinf::GaussianRate,inf_in::GaussianRate, latency::GaussianRate, recov::GaussianRate) = \n",
    "    [fill(pseed, 1, N);\n",
    "     fill(autoinf.a, 1, N); fill(autoinf.b, 1, N); fill(autoinf.c, 1, N);\n",
    "     fill(inf_in.a,   1, N); fill(inf_in.b, 1, N); fill(inf_in.c, 1, N);\n",
    "     fill(latency.a, 1, N); fill(latency.b, 1, N); fill(latency.c, 1, N);\n",
    "     fill(recov.a, 1, N); fill(recov.b, 1, N); fill(recov.c, 1, N)\n",
    "    ]\n",
    "\n",
    "getparSI(pseed,autoinf::GaussianRate,inf_in::GaussianRate) = \n",
    "    [fill(pseed, 1, N);\n",
    "     fill(autoinf.a, 1, N); fill(autoinf.b, 1, N); fill(autoinf.c, 1, N);\n",
    "     fill(inf_in.a,   1, N); fill(inf_in.b, 1, N); fill(inf_in.c, 1, N);\n",
    "    ]\n",
    "\n",
    "getpargenSI(pseed, autoinf::GaussianRate, inf_out::GaussianRate) = \n",
    "    [pseed autoinf.a autoinf.b autoinf.c inf_out.a inf_out.b inf_out.c]\n",
    "\n"
   ]
  },
  {
   "cell_type": "code",
   "execution_count": 467,
   "metadata": {},
   "outputs": [],
   "source": [
    "#Initialize generation parameters\n",
    "ε = 1e-10\n",
    "λ = 0.1\n",
    "\n",
    "pseed = 1/N \n",
    "autoinf = GaussianRate(ε, T/2, 1/ε)\n",
    "inf_in = GaussianRate(1.0, T/2, 1/ε)\n",
    "latency = GaussianRate(1., T/2, 1/ε)\n",
    "recov = GaussianRate(1., T/2, 1/ε)\n",
    "\n",
    "inf_out = GaussianRate(λ, T/2, 1/ε)\n",
    "l_delay = GaussianRate(0.4, T/2, 1/ε)\n",
    "r_delay = GaussianRate(0.07, T/2, 1/ε)\n",
    "\n",
    "\n",
    "#=inf_out = GaussianRate(λ, T/2, 2T)\n",
    "l_delay = GaussianRate(0.57, 8., 5.)\n",
    "r_delay = GaussianRate(0.23, 18., 10.)=#\n",
    "\n",
    "θp = getpar(pseed, autoinf, inf_in, latency, recov);\n",
    "θpgen = getpargen(pseed, autoinf, inf_out, l_delay, r_delay);"
   ]
  },
  {
   "cell_type": "code",
   "execution_count": 468,
   "metadata": {},
   "outputs": [
    {
     "data": {
      "text/plain": [
       "GenerativeSEIR{GaussianRate, GaussianRate, GaussianRate, GaussianRate}"
      ]
     },
     "execution_count": 468,
     "metadata": {},
     "output_type": "execute_result"
    }
   ],
   "source": [
    "const Igauss = GaussianInferentialSEIR\n",
    "const Igen = GenerativeSEIR{GaussianRate,GaussianRate,GaussianRate,GaussianRate} "
   ]
  },
  {
   "cell_type": "code",
   "execution_count": 471,
   "metadata": {},
   "outputs": [
    {
     "data": {
      "text/plain": [
       "1-element Vector{Tuple{Int64, Bool, Float64, Float64}}:\n",
       " (1, 1, 20.0, 1.0e-6)"
      ]
     },
     "execution_count": 471,
     "metadata": {},
     "output_type": "execute_result"
    }
   ],
   "source": [
    "Mp = StochasticModel(Igen, T, θp, G, θpgen);\n",
    "sample! = Sampler(Mp);\n",
    "\n",
    "xtrue = zeros(N,3)\n",
    "sample!(xtrue)\n",
    "nobs, p = 1, 1e-6\n",
    "O = [(ti = T ; (i,xtrue[i,1] < ti ,ti,p)) for i=1:nobs]"
   ]
  },
  {
   "cell_type": "code",
   "execution_count": null,
   "metadata": {},
   "outputs": [],
   "source": []
  },
  {
   "cell_type": "markdown",
   "metadata": {},
   "source": [
    "## Inference with Causality (SEIR)"
   ]
  },
  {
   "cell_type": "code",
   "execution_count": 472,
   "metadata": {},
   "outputs": [],
   "source": [
    "#Initialize min/max boundaies\n",
    "T = Float64(T)\n",
    "pseed_min = ε\n",
    "pseed_max = 1-ε\n",
    "rate_min = GaussianRate(ε  ,  -T,   ε)\n",
    "rate_max = GaussianRate(1/ε  ,  2T,   1/ε)\n",
    "\n",
    "θmin = getpar(pseed_min , rate_min, rate_min, rate_min, rate_min);\n",
    "θmax = getpar(pseed_max , rate_max, rate_max, rate_max, rate_max);\n",
    "\n",
    "\n",
    "rate_min = GaussianRate(ε  ,  0.,   ε)\n",
    "rate_max = GaussianRate(1/ε  ,  T,   T)\n",
    "\n",
    "θgenmin = getpargen(pseed_min, rate_min, rate_min, rate_min, rate_min);\n",
    "θgenmax = getpargen(pseed_max, rate_max, rate_max, rate_max, rate_max);\n",
    "\n",
    "\n",
    "#Softened model\n",
    "T = Float64(T)\n",
    "ε = 1e-3\n",
    "autoinf = GaussianRate(ε, T/2, T/2)\n",
    "\n",
    "θp2gen = getpargen(pseed, autoinf, inf_out, l_delay, r_delay);\n",
    "\n",
    "θp2 = getpar(pseed, autoinf, inf_in, latency, recov);\n",
    "Mp2 = StochasticModel(Igen, T, θp2, G, θp2gen);"
   ]
  },
  {
   "cell_type": "code",
   "execution_count": 473,
   "metadata": {},
   "outputs": [],
   "source": [
    "#Initialize the parameters to learn\n",
    "\n",
    "autoinf = GaussianRate(2e-3, T/2, 2T)\n",
    "inf_in = GaussianRate(1.0, T/2, 2T)\n",
    "latency = GaussianRate(1., T/2, 2T)\n",
    "recov = GaussianRate(1., T/2, 2T)\n",
    "\n",
    "\n",
    "θ = getpar(pseed, autoinf, inf_in,  latency, recov);\n",
    "M = StochasticModel(Igauss, T, θ, G, θp2gen);"
   ]
  },
  {
   "cell_type": "code",
   "execution_count": 474,
   "metadata": {},
   "outputs": [
    {
     "data": {
      "text/plain": [
       "1-element Vector{Tuple{Int64, Bool, Float64, Float64}}:\n",
       " (1, 1, 20.0, 1.0e-6)"
      ]
     },
     "execution_count": 474,
     "metadata": {},
     "output_type": "execute_result"
    }
   ],
   "source": [
    "O"
   ]
  },
  {
   "cell_type": "code",
   "execution_count": 475,
   "metadata": {},
   "outputs": [
    {
     "name": "stderr",
     "output_type": "stream",
     "text": [
      "\u001b[32mProgress: 100%|█████████████████████████████████████████| Time: 0:00:00\u001b[39m\n",
      "\u001b[34m  F:  0.292723947112082\u001b[39m\n"
     ]
    },
    {
     "data": {
      "text/plain": [
       "0.292723947112082"
      ]
     },
     "execution_count": 475,
     "metadata": {},
     "output_type": "execute_result"
    }
   ],
   "source": [
    "using ProgressMeter\n",
    "ProgressMeter.ijulia_behavior(:clear)\n",
    "descend!(Mp2, O; M=M, numsamples=1000, numiters=50, \n",
    "         θmin=θmin, θmax=θmax,θgenmin=θgenmin, θgenmax=θgenmax, descender=SignDescender(0.1),\n",
    "         hyperdescender=SignDescender(0.),hyper_mask=[1,2,3,4,6,7,9,10,12,13]);\n",
    "#=descend!(Mp2, O; M=M, numsamples=1000, numiters=100, \n",
    "         θmin=θmin, θmax=θmax,θgenmin=θgenmin, θgenmax=θgenmax, descender=SignDescender(0.02),\n",
    "         hyperdescender=SignDescender(0.03),hyper_mask=[1,2,3,4,6,7,9,10,12,13]);=#\n",
    "\n"
   ]
  },
  {
   "cell_type": "code",
   "execution_count": 476,
   "metadata": {},
   "outputs": [
    {
     "data": {
      "text/plain": [
       "0.07"
      ]
     },
     "execution_count": 476,
     "metadata": {},
     "output_type": "execute_result"
    }
   ],
   "source": [
    "rate_inf = M.θgen[5]\n",
    "rate_lat = M.θgen[8]\n",
    "rate_rec = M.θgen[11]"
   ]
  },
  {
   "cell_type": "code",
   "execution_count": 477,
   "metadata": {},
   "outputs": [],
   "source": [
    "statscauSEIR = prior(M);"
   ]
  },
  {
   "cell_type": "markdown",
   "metadata": {},
   "source": [
    "## Inference with Causality (SI)"
   ]
  },
  {
   "cell_type": "code",
   "execution_count": 568,
   "metadata": {},
   "outputs": [],
   "source": [
    "const IgenSI = GenerativeSI{GaussianRate,GaussianRate} \n",
    "const IgaussSI = GaussianInferentialSI\n",
    "θmin = getparSI(pseed_min , rate_min, rate_min);\n",
    "θmax = getparSI(pseed_max , rate_max, rate_max);\n",
    "\n",
    "ε = 1e-10\n",
    "rate_min = GaussianRate(ε  ,  0.,   ε)\n",
    "rate_max = GaussianRate(1/ε  ,  T,   T)\n",
    "\n",
    "θgenmin = getpargenSI(pseed_min, rate_min, rate_min);\n",
    "θgenmax = getpargenSI(pseed_max, rate_max, rate_max);\n",
    "\n",
    "\n",
    "#Softened model\n",
    "T = Float64(T)\n",
    "ε = 2e-3\n",
    "autoinf = GaussianRate(ε, T/2, T/2)\n",
    "\n",
    "θp2gen = getpargenSI(pseed, autoinf, inf_out);\n",
    "\n",
    "θp2 = getparSI(pseed, autoinf, inf_in);\n",
    "Mp2SI = StochasticModel(IgenSI, T, θp2, G, θp2gen);"
   ]
  },
  {
   "cell_type": "code",
   "execution_count": 569,
   "metadata": {},
   "outputs": [],
   "source": [
    "#Initialize the parameters to learn\n",
    "\n",
    "autoinf = GaussianRate(1/(N*T), T/2, 2T)\n",
    "inf_in = GaussianRate(1.0, T/2, 2T)\n",
    "\n",
    "\n",
    "θ = getparSI(pseed, autoinf, inf_in);\n",
    "MSI = StochasticModel(IgaussSI, T, θ, G, θp2gen);"
   ]
  },
  {
   "cell_type": "code",
   "execution_count": 570,
   "metadata": {},
   "outputs": [
    {
     "data": {
      "text/plain": [
       "1×7 Matrix{Float64}:\n",
       " 0.5  0.002  10.0  10.0  0.1  10.0  1.0e10"
      ]
     },
     "execution_count": 570,
     "metadata": {},
     "output_type": "execute_result"
    }
   ],
   "source": [
    "MSI.θgen"
   ]
  },
  {
   "cell_type": "code",
   "execution_count": 571,
   "metadata": {},
   "outputs": [
    {
     "name": "stderr",
     "output_type": "stream",
     "text": [
      "\u001b[32mProgress: 100%|█████████████████████████████████████████| Time: 0:00:02\u001b[39m\n",
      "\u001b[34m  F:  1.7041002027897498\u001b[39m\n"
     ]
    },
    {
     "data": {
      "text/plain": [
       "1×7 Matrix{Float64}:\n",
       " 0.451887  9.6991e-8  20.0  0.000396781  0.000400872  9.41806  0.443603"
      ]
     },
     "execution_count": 571,
     "metadata": {},
     "output_type": "execute_result"
    }
   ],
   "source": [
    "using ProgressMeter\n",
    "ProgressMeter.ijulia_behavior(:clear)\n",
    "descend!(Mp2SI, O; M=MSI, numsamples=1000, numiters=100, \n",
    "         θmin=θmin, θmax=θmax,θgenmin=θgenmin, θgenmax=θgenmax, descender=SignDescender(0.1),\n",
    "         hyperdescender=SignDescender(0.1),hyper_mask=[]);\n",
    "#=descend!(Mp2SI, O; M=MSI, numsamples=1000, numiters=100, \n",
    "         θmin=θmin, θmax=θmax,θgenmin=θgenmin, θgenmax=θgenmax, descender=SignDescender(0.02),\n",
    "         hyperdescender=SignDescender(0.02),hyper_mask=[2,3,4,5,6,7]);=#\n",
    "MSI.θgen"
   ]
  },
  {
   "cell_type": "code",
   "execution_count": 547,
   "metadata": {},
   "outputs": [],
   "source": [
    "statscauSI = prior(MSI);"
   ]
  },
  {
   "cell_type": "markdown",
   "metadata": {},
   "source": [
    "## Check of Hyperparameters\n",
    "we now see if the hyperparameters found are consistent with the prior distribution"
   ]
  },
  {
   "cell_type": "code",
   "execution_count": 418,
   "metadata": {},
   "outputs": [
    {
     "data": {
      "image/svg+xml": [
       "<?xml version=\"1.0\" encoding=\"utf-8\"?>\n",
       "<svg xmlns=\"http://www.w3.org/2000/svg\" xmlns:xlink=\"http://www.w3.org/1999/xlink\" width=\"600\" height=\"400\" viewBox=\"0 0 2400 1600\">\n",
       "<defs>\n",
       "  <clipPath id=\"clip190\">\n",
       "    <rect x=\"0\" y=\"0\" width=\"2400\" height=\"1600\"/>\n",
       "  </clipPath>\n",
       "</defs>\n",
       "<path clip-path=\"url(#clip190)\" d=\"\n",
       "M0 1600 L2400 1600 L2400 0 L0 0  Z\n",
       "  \" fill=\"#ffffff\" fill-rule=\"evenodd\" fill-opacity=\"1\"/>\n",
       "<defs>\n",
       "  <clipPath id=\"clip191\">\n",
       "    <rect x=\"480\" y=\"0\" width=\"1681\" height=\"1600\"/>\n",
       "  </clipPath>\n",
       "</defs>\n",
       "<path clip-path=\"url(#clip190)\" d=\"\n",
       "M186.274 1486.45 L2352.76 1486.45 L2352.76 47.2441 L186.274 47.2441  Z\n",
       "  \" fill=\"#ffffff\" fill-rule=\"evenodd\" fill-opacity=\"1\"/>\n",
       "<defs>\n",
       "  <clipPath id=\"clip192\">\n",
       "    <rect x=\"186\" y=\"47\" width=\"2167\" height=\"1440\"/>\n",
       "  </clipPath>\n",
       "</defs>\n",
       "<polyline clip-path=\"url(#clip192)\" style=\"stroke:#000000; stroke-linecap:butt; stroke-linejoin:round; stroke-width:2; stroke-opacity:0.1; fill:none\" points=\"\n",
       "  677.874,1486.45 677.874,47.2441 \n",
       "  \"/>\n",
       "<polyline clip-path=\"url(#clip192)\" style=\"stroke:#000000; stroke-linecap:butt; stroke-linejoin:round; stroke-width:2; stroke-opacity:0.1; fill:none\" points=\"\n",
       "  1215.73,1486.45 1215.73,47.2441 \n",
       "  \"/>\n",
       "<polyline clip-path=\"url(#clip192)\" style=\"stroke:#000000; stroke-linecap:butt; stroke-linejoin:round; stroke-width:2; stroke-opacity:0.1; fill:none\" points=\"\n",
       "  1753.58,1486.45 1753.58,47.2441 \n",
       "  \"/>\n",
       "<polyline clip-path=\"url(#clip192)\" style=\"stroke:#000000; stroke-linecap:butt; stroke-linejoin:round; stroke-width:2; stroke-opacity:0.1; fill:none\" points=\"\n",
       "  2291.44,1486.45 2291.44,47.2441 \n",
       "  \"/>\n",
       "<polyline clip-path=\"url(#clip190)\" style=\"stroke:#000000; stroke-linecap:butt; stroke-linejoin:round; stroke-width:4; stroke-opacity:1; fill:none\" points=\"\n",
       "  186.274,1486.45 2352.76,1486.45 \n",
       "  \"/>\n",
       "<polyline clip-path=\"url(#clip190)\" style=\"stroke:#000000; stroke-linecap:butt; stroke-linejoin:round; stroke-width:4; stroke-opacity:1; fill:none\" points=\"\n",
       "  677.874,1486.45 677.874,1467.55 \n",
       "  \"/>\n",
       "<polyline clip-path=\"url(#clip190)\" style=\"stroke:#000000; stroke-linecap:butt; stroke-linejoin:round; stroke-width:4; stroke-opacity:1; fill:none\" points=\"\n",
       "  1215.73,1486.45 1215.73,1467.55 \n",
       "  \"/>\n",
       "<polyline clip-path=\"url(#clip190)\" style=\"stroke:#000000; stroke-linecap:butt; stroke-linejoin:round; stroke-width:4; stroke-opacity:1; fill:none\" points=\"\n",
       "  1753.58,1486.45 1753.58,1467.55 \n",
       "  \"/>\n",
       "<polyline clip-path=\"url(#clip190)\" style=\"stroke:#000000; stroke-linecap:butt; stroke-linejoin:round; stroke-width:4; stroke-opacity:1; fill:none\" points=\"\n",
       "  2291.44,1486.45 2291.44,1467.55 \n",
       "  \"/>\n",
       "<path clip-path=\"url(#clip190)\" d=\"M668.152 1514.29 L686.508 1514.29 L686.508 1518.22 L672.434 1518.22 L672.434 1526.7 Q673.453 1526.35 674.471 1526.19 Q675.49 1526 676.508 1526 Q682.295 1526 685.675 1529.17 Q689.054 1532.34 689.054 1537.76 Q689.054 1543.34 685.582 1546.44 Q682.11 1549.52 675.791 1549.52 Q673.615 1549.52 671.346 1549.15 Q669.101 1548.78 666.693 1548.04 L666.693 1543.34 Q668.777 1544.47 670.999 1545.03 Q673.221 1545.58 675.698 1545.58 Q679.703 1545.58 682.041 1543.48 Q684.379 1541.37 684.379 1537.76 Q684.379 1534.15 682.041 1532.04 Q679.703 1529.94 675.698 1529.94 Q673.823 1529.94 671.948 1530.35 Q670.096 1530.77 668.152 1531.65 L668.152 1514.29 Z\" fill=\"#000000\" fill-rule=\"evenodd\" fill-opacity=\"1\" /><path clip-path=\"url(#clip190)\" d=\"M1190.42 1544.91 L1198.06 1544.91 L1198.06 1518.55 L1189.75 1520.21 L1189.75 1515.95 L1198.01 1514.29 L1202.69 1514.29 L1202.69 1544.91 L1210.32 1544.91 L1210.32 1548.85 L1190.42 1548.85 L1190.42 1544.91 Z\" fill=\"#000000\" fill-rule=\"evenodd\" fill-opacity=\"1\" /><path clip-path=\"url(#clip190)\" d=\"M1229.77 1517.37 Q1226.16 1517.37 1224.33 1520.93 Q1222.52 1524.47 1222.52 1531.6 Q1222.52 1538.71 1224.33 1542.27 Q1226.16 1545.82 1229.77 1545.82 Q1233.4 1545.82 1235.21 1542.27 Q1237.04 1538.71 1237.04 1531.6 Q1237.04 1524.47 1235.21 1520.93 Q1233.4 1517.37 1229.77 1517.37 M1229.77 1513.66 Q1235.58 1513.66 1238.63 1518.27 Q1241.71 1522.85 1241.71 1531.6 Q1241.71 1540.33 1238.63 1544.94 Q1235.58 1549.52 1229.77 1549.52 Q1223.96 1549.52 1220.88 1544.94 Q1217.82 1540.33 1217.82 1531.6 Q1217.82 1522.85 1220.88 1518.27 Q1223.96 1513.66 1229.77 1513.66 Z\" fill=\"#000000\" fill-rule=\"evenodd\" fill-opacity=\"1\" /><path clip-path=\"url(#clip190)\" d=\"M1728.77 1544.91 L1736.41 1544.91 L1736.41 1518.55 L1728.1 1520.21 L1728.1 1515.95 L1736.36 1514.29 L1741.04 1514.29 L1741.04 1544.91 L1748.68 1544.91 L1748.68 1548.85 L1728.77 1548.85 L1728.77 1544.91 Z\" fill=\"#000000\" fill-rule=\"evenodd\" fill-opacity=\"1\" /><path clip-path=\"url(#clip190)\" d=\"M1758.17 1514.29 L1776.52 1514.29 L1776.52 1518.22 L1762.45 1518.22 L1762.45 1526.7 Q1763.47 1526.35 1764.49 1526.19 Q1765.51 1526 1766.52 1526 Q1772.31 1526 1775.69 1529.17 Q1779.07 1532.34 1779.07 1537.76 Q1779.07 1543.34 1775.6 1546.44 Q1772.13 1549.52 1765.81 1549.52 Q1763.63 1549.52 1761.36 1549.15 Q1759.12 1548.78 1756.71 1548.04 L1756.71 1543.34 Q1758.79 1544.47 1761.02 1545.03 Q1763.24 1545.58 1765.71 1545.58 Q1769.72 1545.58 1772.06 1543.48 Q1774.39 1541.37 1774.39 1537.76 Q1774.39 1534.15 1772.06 1532.04 Q1769.72 1529.94 1765.71 1529.94 Q1763.84 1529.94 1761.96 1530.35 Q1760.11 1530.77 1758.17 1531.65 L1758.17 1514.29 Z\" fill=\"#000000\" fill-rule=\"evenodd\" fill-opacity=\"1\" /><path clip-path=\"url(#clip190)\" d=\"M2270.21 1544.91 L2286.53 1544.91 L2286.53 1548.85 L2264.59 1548.85 L2264.59 1544.91 Q2267.25 1542.16 2271.83 1537.53 Q2276.44 1532.88 2277.62 1531.53 Q2279.87 1529.01 2280.75 1527.27 Q2281.65 1525.51 2281.65 1523.82 Q2281.65 1521.07 2279.7 1519.33 Q2277.78 1517.6 2274.68 1517.6 Q2272.48 1517.6 2270.03 1518.36 Q2267.6 1519.13 2264.82 1520.68 L2264.82 1515.95 Q2267.64 1514.82 2270.1 1514.24 Q2272.55 1513.66 2274.59 1513.66 Q2279.96 1513.66 2283.15 1516.35 Q2286.35 1519.03 2286.35 1523.52 Q2286.35 1525.65 2285.54 1527.57 Q2284.75 1529.47 2282.64 1532.07 Q2282.07 1532.74 2278.96 1535.95 Q2275.86 1539.15 2270.21 1544.91 Z\" fill=\"#000000\" fill-rule=\"evenodd\" fill-opacity=\"1\" /><path clip-path=\"url(#clip190)\" d=\"M2306.35 1517.37 Q2302.74 1517.37 2300.91 1520.93 Q2299.1 1524.47 2299.1 1531.6 Q2299.1 1538.71 2300.91 1542.27 Q2302.74 1545.82 2306.35 1545.82 Q2309.98 1545.82 2311.79 1542.27 Q2313.62 1538.71 2313.62 1531.6 Q2313.62 1524.47 2311.79 1520.93 Q2309.98 1517.37 2306.35 1517.37 M2306.35 1513.66 Q2312.16 1513.66 2315.21 1518.27 Q2318.29 1522.85 2318.29 1531.6 Q2318.29 1540.33 2315.21 1544.94 Q2312.16 1549.52 2306.35 1549.52 Q2300.54 1549.52 2297.46 1544.94 Q2294.4 1540.33 2294.4 1531.6 Q2294.4 1522.85 2297.46 1518.27 Q2300.54 1513.66 2306.35 1513.66 Z\" fill=\"#000000\" fill-rule=\"evenodd\" fill-opacity=\"1\" /><polyline clip-path=\"url(#clip192)\" style=\"stroke:#000000; stroke-linecap:butt; stroke-linejoin:round; stroke-width:2; stroke-opacity:0.1; fill:none\" points=\"\n",
       "  186.274,1452.24 2352.76,1452.24 \n",
       "  \"/>\n",
       "<polyline clip-path=\"url(#clip192)\" style=\"stroke:#000000; stroke-linecap:butt; stroke-linejoin:round; stroke-width:2; stroke-opacity:0.1; fill:none\" points=\"\n",
       "  186.274,1098.52 2352.76,1098.52 \n",
       "  \"/>\n",
       "<polyline clip-path=\"url(#clip192)\" style=\"stroke:#000000; stroke-linecap:butt; stroke-linejoin:round; stroke-width:2; stroke-opacity:0.1; fill:none\" points=\"\n",
       "  186.274,744.81 2352.76,744.81 \n",
       "  \"/>\n",
       "<polyline clip-path=\"url(#clip192)\" style=\"stroke:#000000; stroke-linecap:butt; stroke-linejoin:round; stroke-width:2; stroke-opacity:0.1; fill:none\" points=\"\n",
       "  186.274,391.097 2352.76,391.097 \n",
       "  \"/>\n",
       "<polyline clip-path=\"url(#clip190)\" style=\"stroke:#000000; stroke-linecap:butt; stroke-linejoin:round; stroke-width:4; stroke-opacity:1; fill:none\" points=\"\n",
       "  186.274,1486.45 186.274,47.2441 \n",
       "  \"/>\n",
       "<polyline clip-path=\"url(#clip190)\" style=\"stroke:#000000; stroke-linecap:butt; stroke-linejoin:round; stroke-width:4; stroke-opacity:1; fill:none\" points=\"\n",
       "  186.274,1452.24 205.172,1452.24 \n",
       "  \"/>\n",
       "<polyline clip-path=\"url(#clip190)\" style=\"stroke:#000000; stroke-linecap:butt; stroke-linejoin:round; stroke-width:4; stroke-opacity:1; fill:none\" points=\"\n",
       "  186.274,1098.52 205.172,1098.52 \n",
       "  \"/>\n",
       "<polyline clip-path=\"url(#clip190)\" style=\"stroke:#000000; stroke-linecap:butt; stroke-linejoin:round; stroke-width:4; stroke-opacity:1; fill:none\" points=\"\n",
       "  186.274,744.81 205.172,744.81 \n",
       "  \"/>\n",
       "<polyline clip-path=\"url(#clip190)\" style=\"stroke:#000000; stroke-linecap:butt; stroke-linejoin:round; stroke-width:4; stroke-opacity:1; fill:none\" points=\"\n",
       "  186.274,391.097 205.172,391.097 \n",
       "  \"/>\n",
       "<path clip-path=\"url(#clip190)\" d=\"M62.9365 1438.03 Q59.3254 1438.03 57.4967 1441.6 Q55.6912 1445.14 55.6912 1452.27 Q55.6912 1459.38 57.4967 1462.94 Q59.3254 1466.48 62.9365 1466.48 Q66.5707 1466.48 68.3763 1462.94 Q70.205 1459.38 70.205 1452.27 Q70.205 1445.14 68.3763 1441.6 Q66.5707 1438.03 62.9365 1438.03 M62.9365 1434.33 Q68.7467 1434.33 71.8022 1438.94 Q74.8809 1443.52 74.8809 1452.27 Q74.8809 1461 71.8022 1465.6 Q68.7467 1470.19 62.9365 1470.19 Q57.1264 1470.19 54.0477 1465.6 Q50.9921 1461 50.9921 1452.27 Q50.9921 1443.52 54.0477 1438.94 Q57.1264 1434.33 62.9365 1434.33 Z\" fill=\"#000000\" fill-rule=\"evenodd\" fill-opacity=\"1\" /><path clip-path=\"url(#clip190)\" d=\"M83.0984 1463.64 L87.9827 1463.64 L87.9827 1469.52 L83.0984 1469.52 L83.0984 1463.64 Z\" fill=\"#000000\" fill-rule=\"evenodd\" fill-opacity=\"1\" /><path clip-path=\"url(#clip190)\" d=\"M108.168 1438.03 Q104.557 1438.03 102.728 1441.6 Q100.922 1445.14 100.922 1452.27 Q100.922 1459.38 102.728 1462.94 Q104.557 1466.48 108.168 1466.48 Q111.802 1466.48 113.608 1462.94 Q115.436 1459.38 115.436 1452.27 Q115.436 1445.14 113.608 1441.6 Q111.802 1438.03 108.168 1438.03 M108.168 1434.33 Q113.978 1434.33 117.033 1438.94 Q120.112 1443.52 120.112 1452.27 Q120.112 1461 117.033 1465.6 Q113.978 1470.19 108.168 1470.19 Q102.358 1470.19 99.2789 1465.6 Q96.2234 1461 96.2234 1452.27 Q96.2234 1443.52 99.2789 1438.94 Q102.358 1434.33 108.168 1434.33 Z\" fill=\"#000000\" fill-rule=\"evenodd\" fill-opacity=\"1\" /><path clip-path=\"url(#clip190)\" d=\"M138.33 1438.03 Q134.719 1438.03 132.89 1441.6 Q131.084 1445.14 131.084 1452.27 Q131.084 1459.38 132.89 1462.94 Q134.719 1466.48 138.33 1466.48 Q141.964 1466.48 143.769 1462.94 Q145.598 1459.38 145.598 1452.27 Q145.598 1445.14 143.769 1441.6 Q141.964 1438.03 138.33 1438.03 M138.33 1434.33 Q144.14 1434.33 147.195 1438.94 Q150.274 1443.52 150.274 1452.27 Q150.274 1461 147.195 1465.6 Q144.14 1470.19 138.33 1470.19 Q132.519 1470.19 129.441 1465.6 Q126.385 1461 126.385 1452.27 Q126.385 1443.52 129.441 1438.94 Q132.519 1434.33 138.33 1434.33 Z\" fill=\"#000000\" fill-rule=\"evenodd\" fill-opacity=\"1\" /><path clip-path=\"url(#clip190)\" d=\"M63.9319 1084.32 Q60.3208 1084.32 58.4921 1087.89 Q56.6865 1091.43 56.6865 1098.56 Q56.6865 1105.66 58.4921 1109.23 Q60.3208 1112.77 63.9319 1112.77 Q67.5661 1112.77 69.3717 1109.23 Q71.2004 1105.66 71.2004 1098.56 Q71.2004 1091.43 69.3717 1087.89 Q67.5661 1084.32 63.9319 1084.32 M63.9319 1080.62 Q69.742 1080.62 72.7976 1085.22 Q75.8763 1089.81 75.8763 1098.56 Q75.8763 1107.28 72.7976 1111.89 Q69.742 1116.47 63.9319 1116.47 Q58.1217 1116.47 55.043 1111.89 Q51.9875 1107.28 51.9875 1098.56 Q51.9875 1089.81 55.043 1085.22 Q58.1217 1080.62 63.9319 1080.62 Z\" fill=\"#000000\" fill-rule=\"evenodd\" fill-opacity=\"1\" /><path clip-path=\"url(#clip190)\" d=\"M84.0938 1109.92 L88.978 1109.92 L88.978 1115.8 L84.0938 1115.8 L84.0938 1109.92 Z\" fill=\"#000000\" fill-rule=\"evenodd\" fill-opacity=\"1\" /><path clip-path=\"url(#clip190)\" d=\"M109.163 1084.32 Q105.552 1084.32 103.723 1087.89 Q101.918 1091.43 101.918 1098.56 Q101.918 1105.66 103.723 1109.23 Q105.552 1112.77 109.163 1112.77 Q112.797 1112.77 114.603 1109.23 Q116.432 1105.66 116.432 1098.56 Q116.432 1091.43 114.603 1087.89 Q112.797 1084.32 109.163 1084.32 M109.163 1080.62 Q114.973 1080.62 118.029 1085.22 Q121.107 1089.81 121.107 1098.56 Q121.107 1107.28 118.029 1111.89 Q114.973 1116.47 109.163 1116.47 Q103.353 1116.47 100.274 1111.89 Q97.2187 1107.28 97.2187 1098.56 Q97.2187 1089.81 100.274 1085.22 Q103.353 1080.62 109.163 1080.62 Z\" fill=\"#000000\" fill-rule=\"evenodd\" fill-opacity=\"1\" /><path clip-path=\"url(#clip190)\" d=\"M129.371 1081.24 L147.728 1081.24 L147.728 1085.18 L133.654 1085.18 L133.654 1093.65 Q134.672 1093.3 135.691 1093.14 Q136.709 1092.96 137.728 1092.96 Q143.515 1092.96 146.894 1096.13 Q150.274 1099.3 150.274 1104.71 Q150.274 1110.29 146.802 1113.4 Q143.33 1116.47 137.01 1116.47 Q134.834 1116.47 132.566 1116.1 Q130.32 1115.73 127.913 1114.99 L127.913 1110.29 Q129.996 1111.43 132.219 1111.98 Q134.441 1112.54 136.918 1112.54 Q140.922 1112.54 143.26 1110.43 Q145.598 1108.33 145.598 1104.71 Q145.598 1101.1 143.26 1099 Q140.922 1096.89 136.918 1096.89 Q135.043 1096.89 133.168 1097.31 Q131.316 1097.72 129.371 1098.6 L129.371 1081.24 Z\" fill=\"#000000\" fill-rule=\"evenodd\" fill-opacity=\"1\" /><path clip-path=\"url(#clip190)\" d=\"M62.9365 730.609 Q59.3254 730.609 57.4967 734.174 Q55.6912 737.715 55.6912 744.845 Q55.6912 751.951 57.4967 755.516 Q59.3254 759.058 62.9365 759.058 Q66.5707 759.058 68.3763 755.516 Q70.205 751.951 70.205 744.845 Q70.205 737.715 68.3763 734.174 Q66.5707 730.609 62.9365 730.609 M62.9365 726.905 Q68.7467 726.905 71.8022 731.511 Q74.8809 736.095 74.8809 744.845 Q74.8809 753.572 71.8022 758.178 Q68.7467 762.761 62.9365 762.761 Q57.1264 762.761 54.0477 758.178 Q50.9921 753.572 50.9921 744.845 Q50.9921 736.095 54.0477 731.511 Q57.1264 726.905 62.9365 726.905 Z\" fill=\"#000000\" fill-rule=\"evenodd\" fill-opacity=\"1\" /><path clip-path=\"url(#clip190)\" d=\"M83.0984 756.21 L87.9827 756.21 L87.9827 762.09 L83.0984 762.09 L83.0984 756.21 Z\" fill=\"#000000\" fill-rule=\"evenodd\" fill-opacity=\"1\" /><path clip-path=\"url(#clip190)\" d=\"M98.978 758.155 L106.617 758.155 L106.617 731.789 L98.3067 733.456 L98.3067 729.197 L106.571 727.53 L111.246 727.53 L111.246 758.155 L118.885 758.155 L118.885 762.09 L98.978 762.09 L98.978 758.155 Z\" fill=\"#000000\" fill-rule=\"evenodd\" fill-opacity=\"1\" /><path clip-path=\"url(#clip190)\" d=\"M138.33 730.609 Q134.719 730.609 132.89 734.174 Q131.084 737.715 131.084 744.845 Q131.084 751.951 132.89 755.516 Q134.719 759.058 138.33 759.058 Q141.964 759.058 143.769 755.516 Q145.598 751.951 145.598 744.845 Q145.598 737.715 143.769 734.174 Q141.964 730.609 138.33 730.609 M138.33 726.905 Q144.14 726.905 147.195 731.511 Q150.274 736.095 150.274 744.845 Q150.274 753.572 147.195 758.178 Q144.14 762.761 138.33 762.761 Q132.519 762.761 129.441 758.178 Q126.385 753.572 126.385 744.845 Q126.385 736.095 129.441 731.511 Q132.519 726.905 138.33 726.905 Z\" fill=\"#000000\" fill-rule=\"evenodd\" fill-opacity=\"1\" /><path clip-path=\"url(#clip190)\" d=\"M63.9319 376.896 Q60.3208 376.896 58.4921 380.461 Q56.6865 384.002 56.6865 391.132 Q56.6865 398.238 58.4921 401.803 Q60.3208 405.345 63.9319 405.345 Q67.5661 405.345 69.3717 401.803 Q71.2004 398.238 71.2004 391.132 Q71.2004 384.002 69.3717 380.461 Q67.5661 376.896 63.9319 376.896 M63.9319 373.192 Q69.742 373.192 72.7976 377.799 Q75.8763 382.382 75.8763 391.132 Q75.8763 399.859 72.7976 404.465 Q69.742 409.049 63.9319 409.049 Q58.1217 409.049 55.043 404.465 Q51.9875 399.859 51.9875 391.132 Q51.9875 382.382 55.043 377.799 Q58.1217 373.192 63.9319 373.192 Z\" fill=\"#000000\" fill-rule=\"evenodd\" fill-opacity=\"1\" /><path clip-path=\"url(#clip190)\" d=\"M84.0938 402.498 L88.978 402.498 L88.978 408.377 L84.0938 408.377 L84.0938 402.498 Z\" fill=\"#000000\" fill-rule=\"evenodd\" fill-opacity=\"1\" /><path clip-path=\"url(#clip190)\" d=\"M99.9733 404.442 L107.612 404.442 L107.612 378.076 L99.3021 379.743 L99.3021 375.484 L107.566 373.817 L112.242 373.817 L112.242 404.442 L119.881 404.442 L119.881 408.377 L99.9733 408.377 L99.9733 404.442 Z\" fill=\"#000000\" fill-rule=\"evenodd\" fill-opacity=\"1\" /><path clip-path=\"url(#clip190)\" d=\"M129.371 373.817 L147.728 373.817 L147.728 377.752 L133.654 377.752 L133.654 386.225 Q134.672 385.877 135.691 385.715 Q136.709 385.53 137.728 385.53 Q143.515 385.53 146.894 388.701 Q150.274 391.873 150.274 397.289 Q150.274 402.868 146.802 405.97 Q143.33 409.049 137.01 409.049 Q134.834 409.049 132.566 408.678 Q130.32 408.308 127.913 407.567 L127.913 402.868 Q129.996 404.002 132.219 404.558 Q134.441 405.113 136.918 405.113 Q140.922 405.113 143.26 403.007 Q145.598 400.9 145.598 397.289 Q145.598 393.678 143.26 391.572 Q140.922 389.465 136.918 389.465 Q135.043 389.465 133.168 389.882 Q131.316 390.299 129.371 391.178 L129.371 373.817 Z\" fill=\"#000000\" fill-rule=\"evenodd\" fill-opacity=\"1\" /><polyline clip-path=\"url(#clip192)\" style=\"stroke:#009af9; stroke-linecap:butt; stroke-linejoin:round; stroke-width:4; stroke-opacity:1; fill:none\" points=\"\n",
       "  247.59,874.572 355.161,666.004 462.732,649.598 570.303,723.837 677.874,832.478 785.445,945.969 893.016,1050.14 1000.59,1139.36 1108.16,1212.58 1215.73,1270.91 \n",
       "  1323.3,1316.41 1430.87,1351.32 1538.44,1377.78 1646.01,1397.62 1753.58,1412.37 1861.16,1423.27 1968.73,1431.27 2076.3,1437.11 2183.87,1441.36 2291.44,1444.43 \n",
       "  \n",
       "  \"/>\n",
       "<polyline clip-path=\"url(#clip192)\" style=\"stroke:#e26f46; stroke-linecap:butt; stroke-linejoin:round; stroke-width:4; stroke-opacity:1; fill:none\" points=\"\n",
       "  247.59,87.9763 355.161,344.054 462.732,565.657 570.303,753.001 677.874,907.998 785.445,1033.71 893.016,1133.82 1000.59,1212.25 1108.16,1272.8 1215.73,1318.94 \n",
       "  1323.3,1353.71 1430.87,1379.67 1538.44,1398.89 1646.01,1413.05 1753.58,1423.43 1861.16,1431.01 1968.73,1436.55 2076.3,1440.59 2183.87,1443.55 2291.44,1445.72 \n",
       "  \n",
       "  \"/>\n",
       "<path clip-path=\"url(#clip190)\" d=\"\n",
       "M1862.53 250.738 L2280.54 250.738 L2280.54 95.2176 L1862.53 95.2176  Z\n",
       "  \" fill=\"#ffffff\" fill-rule=\"evenodd\" fill-opacity=\"1\"/>\n",
       "<polyline clip-path=\"url(#clip190)\" style=\"stroke:#000000; stroke-linecap:butt; stroke-linejoin:round; stroke-width:4; stroke-opacity:1; fill:none\" points=\"\n",
       "  1862.53,250.738 2280.54,250.738 2280.54,95.2176 1862.53,95.2176 1862.53,250.738 \n",
       "  \"/>\n",
       "<polyline clip-path=\"url(#clip190)\" style=\"stroke:#009af9; stroke-linecap:butt; stroke-linejoin:round; stroke-width:4; stroke-opacity:1; fill:none\" points=\"\n",
       "  1886.6,147.058 2031.03,147.058 \n",
       "  \"/>\n",
       "<path clip-path=\"url(#clip190)\" d=\"M2071.49 148.134 Q2073 148.643 2074.41 150.31 Q2075.85 151.977 2077.28 154.893 L2082.03 164.338 L2077 164.338 L2072.58 155.472 Q2070.87 152 2069.25 150.865 Q2067.65 149.731 2064.87 149.731 L2059.78 149.731 L2059.78 164.338 L2055.11 164.338 L2055.11 129.778 L2065.66 129.778 Q2071.59 129.778 2074.5 132.254 Q2077.42 134.731 2077.42 139.731 Q2077.42 142.995 2075.89 145.148 Q2074.39 147.301 2071.49 148.134 M2059.78 133.62 L2059.78 145.889 L2065.66 145.889 Q2069.04 145.889 2070.75 144.338 Q2072.49 142.764 2072.49 139.731 Q2072.49 136.699 2070.75 135.171 Q2069.04 133.62 2065.66 133.62 L2059.78 133.62 Z\" fill=\"#000000\" fill-rule=\"evenodd\" fill-opacity=\"1\" /><path clip-path=\"url(#clip190)\" d=\"M2107.91 150.31 L2107.91 152.393 L2088.32 152.393 Q2088.6 156.791 2090.96 159.106 Q2093.35 161.398 2097.58 161.398 Q2100.04 161.398 2102.33 160.796 Q2104.64 160.194 2106.91 158.99 L2106.91 163.018 Q2104.62 163.99 2102.21 164.5 Q2099.8 165.009 2097.33 165.009 Q2091.12 165.009 2087.49 161.398 Q2083.88 157.787 2083.88 151.629 Q2083.88 145.264 2087.3 141.537 Q2090.75 137.787 2096.59 137.787 Q2101.82 137.787 2104.85 141.166 Q2107.91 144.523 2107.91 150.31 M2103.65 149.06 Q2103.6 145.565 2101.68 143.481 Q2099.78 141.398 2096.63 141.398 Q2093.07 141.398 2090.92 143.412 Q2088.79 145.426 2088.46 149.083 L2103.65 149.06 Z\" fill=\"#000000\" fill-rule=\"evenodd\" fill-opacity=\"1\" /><path clip-path=\"url(#clip190)\" d=\"M2126.68 151.305 Q2121.52 151.305 2119.53 152.486 Q2117.54 153.666 2117.54 156.514 Q2117.54 158.782 2119.02 160.125 Q2120.52 161.444 2123.09 161.444 Q2126.63 161.444 2128.76 158.944 Q2130.91 156.421 2130.91 152.254 L2130.91 151.305 L2126.68 151.305 M2135.17 149.546 L2135.17 164.338 L2130.91 164.338 L2130.91 160.402 Q2129.46 162.763 2127.28 163.898 Q2125.1 165.009 2121.96 165.009 Q2117.98 165.009 2115.61 162.787 Q2113.28 160.541 2113.28 156.791 Q2113.28 152.416 2116.19 150.194 Q2119.13 147.972 2124.94 147.972 L2130.91 147.972 L2130.91 147.555 Q2130.91 144.615 2128.97 143.018 Q2127.05 141.398 2123.55 141.398 Q2121.33 141.398 2119.23 141.93 Q2117.12 142.463 2115.17 143.527 L2115.17 139.592 Q2117.51 138.69 2119.71 138.25 Q2121.91 137.787 2123.99 137.787 Q2129.62 137.787 2132.4 140.703 Q2135.17 143.62 2135.17 149.546 Z\" fill=\"#000000\" fill-rule=\"evenodd\" fill-opacity=\"1\" /><path clip-path=\"url(#clip190)\" d=\"M2143.95 128.319 L2148.21 128.319 L2148.21 164.338 L2143.95 164.338 L2143.95 128.319 Z\" fill=\"#000000\" fill-rule=\"evenodd\" fill-opacity=\"1\" /><polyline clip-path=\"url(#clip190)\" style=\"stroke:#e26f46; stroke-linecap:butt; stroke-linejoin:round; stroke-width:4; stroke-opacity:1; fill:none\" points=\"\n",
       "  1886.6,198.898 2031.03,198.898 \n",
       "  \"/>\n",
       "<path clip-path=\"url(#clip190)\" d=\"M2055.11 181.618 L2059.78 181.618 L2059.78 216.178 L2055.11 216.178 L2055.11 181.618 Z\" fill=\"#000000\" fill-rule=\"evenodd\" fill-opacity=\"1\" /><path clip-path=\"url(#clip190)\" d=\"M2090.45 200.529 L2090.45 216.178 L2086.19 216.178 L2086.19 200.668 Q2086.19 196.988 2084.76 195.159 Q2083.32 193.33 2080.45 193.33 Q2077 193.33 2075.01 195.53 Q2073.02 197.729 2073.02 201.525 L2073.02 216.178 L2068.74 216.178 L2068.74 190.252 L2073.02 190.252 L2073.02 194.28 Q2074.55 191.942 2076.61 190.784 Q2078.69 189.627 2081.4 189.627 Q2085.87 189.627 2088.16 192.405 Q2090.45 195.159 2090.45 200.529 Z\" fill=\"#000000\" fill-rule=\"evenodd\" fill-opacity=\"1\" /><path clip-path=\"url(#clip190)\" d=\"M2112.07 180.159 L2112.07 183.701 L2108 183.701 Q2105.71 183.701 2104.8 184.627 Q2103.92 185.553 2103.92 187.96 L2103.92 190.252 L2110.94 190.252 L2110.94 193.562 L2103.92 193.562 L2103.92 216.178 L2099.64 216.178 L2099.64 193.562 L2095.57 193.562 L2095.57 190.252 L2099.64 190.252 L2099.64 188.446 Q2099.64 184.118 2101.66 182.15 Q2103.67 180.159 2108.04 180.159 L2112.07 180.159 Z\" fill=\"#000000\" fill-rule=\"evenodd\" fill-opacity=\"1\" /><path clip-path=\"url(#clip190)\" d=\"M2137.81 202.15 L2137.81 204.233 L2118.23 204.233 Q2118.51 208.631 2120.87 210.946 Q2123.25 213.238 2127.49 213.238 Q2129.94 213.238 2132.23 212.636 Q2134.55 212.034 2136.82 210.83 L2136.82 214.858 Q2134.53 215.83 2132.12 216.34 Q2129.71 216.849 2127.23 216.849 Q2121.03 216.849 2117.4 213.238 Q2113.79 209.627 2113.79 203.469 Q2113.79 197.104 2117.21 193.377 Q2120.66 189.627 2126.49 189.627 Q2131.73 189.627 2134.76 193.006 Q2137.81 196.363 2137.81 202.15 M2133.55 200.9 Q2133.51 197.405 2131.59 195.321 Q2129.69 193.238 2126.54 193.238 Q2122.98 193.238 2120.82 195.252 Q2118.69 197.266 2118.37 200.923 L2133.55 200.9 Z\" fill=\"#000000\" fill-rule=\"evenodd\" fill-opacity=\"1\" /><path clip-path=\"url(#clip190)\" d=\"M2159.83 194.233 Q2159.11 193.817 2158.25 193.631 Q2157.42 193.423 2156.4 193.423 Q2152.79 193.423 2150.85 195.784 Q2148.92 198.122 2148.92 202.52 L2148.92 216.178 L2144.64 216.178 L2144.64 190.252 L2148.92 190.252 L2148.92 194.28 Q2150.27 191.918 2152.42 190.784 Q2154.57 189.627 2157.65 189.627 Q2158.09 189.627 2158.62 189.696 Q2159.16 189.743 2159.8 189.858 L2159.83 194.233 Z\" fill=\"#000000\" fill-rule=\"evenodd\" fill-opacity=\"1\" /><path clip-path=\"url(#clip190)\" d=\"M2178.48 194.233 Q2177.77 193.817 2176.91 193.631 Q2176.08 193.423 2175.06 193.423 Q2171.45 193.423 2169.5 195.784 Q2167.58 198.122 2167.58 202.52 L2167.58 216.178 L2163.3 216.178 L2163.3 190.252 L2167.58 190.252 L2167.58 194.28 Q2168.92 191.918 2171.08 190.784 Q2173.23 189.627 2176.31 189.627 Q2176.75 189.627 2177.28 189.696 Q2177.81 189.743 2178.46 189.858 L2178.48 194.233 Z\" fill=\"#000000\" fill-rule=\"evenodd\" fill-opacity=\"1\" /><path clip-path=\"url(#clip190)\" d=\"M2204.09 202.15 L2204.09 204.233 L2184.5 204.233 Q2184.78 208.631 2187.14 210.946 Q2189.53 213.238 2193.76 213.238 Q2196.22 213.238 2198.51 212.636 Q2200.82 212.034 2203.09 210.83 L2203.09 214.858 Q2200.8 215.83 2198.39 216.34 Q2195.98 216.849 2193.51 216.849 Q2187.3 216.849 2183.67 213.238 Q2180.06 209.627 2180.06 203.469 Q2180.06 197.104 2183.48 193.377 Q2186.93 189.627 2192.77 189.627 Q2198 189.627 2201.03 193.006 Q2204.09 196.363 2204.09 202.15 M2199.83 200.9 Q2199.78 197.405 2197.86 195.321 Q2195.96 193.238 2192.81 193.238 Q2189.25 193.238 2187.1 195.252 Q2184.97 197.266 2184.64 200.923 L2199.83 200.9 Z\" fill=\"#000000\" fill-rule=\"evenodd\" fill-opacity=\"1\" /><path clip-path=\"url(#clip190)\" d=\"M2228.14 194.187 L2228.14 180.159 L2232.4 180.159 L2232.4 216.178 L2228.14 216.178 L2228.14 212.289 Q2226.79 214.603 2224.73 215.738 Q2222.7 216.849 2219.83 216.849 Q2215.13 216.849 2212.16 213.099 Q2209.22 209.349 2209.22 203.238 Q2209.22 197.127 2212.16 193.377 Q2215.13 189.627 2219.83 189.627 Q2222.7 189.627 2224.73 190.761 Q2226.79 191.872 2228.14 194.187 M2213.62 203.238 Q2213.62 207.937 2215.54 210.622 Q2217.49 213.284 2220.87 213.284 Q2224.25 213.284 2226.19 210.622 Q2228.14 207.937 2228.14 203.238 Q2228.14 198.539 2226.19 195.877 Q2224.25 193.192 2220.87 193.192 Q2217.49 193.192 2215.54 195.877 Q2213.62 198.539 2213.62 203.238 Z\" fill=\"#000000\" fill-rule=\"evenodd\" fill-opacity=\"1\" /></svg>\n"
      ]
     },
     "execution_count": 418,
     "metadata": {},
     "output_type": "execute_result"
    }
   ],
   "source": [
    "using Plots\n",
    "inferred_inf = GaussianRate(MSI.θgen[5], MSI.θgen[6] , MSI.θgen[7])\n",
    "\n",
    "real_trans = [rate_inf * rate_lat * exp(-(rate_inf+rate_rec)*t) *(exp((rate_inf-rate_lat+rate_rec)*t) - 1)/(rate_inf-rate_lat+rate_rec) for t=1:T]\n",
    "inferred_trans=[Causality.density(inferred_inf,t) * exp(-Causality.cumulated(inferred_inf,t)) for t=1:T];\n",
    "\n",
    "plot(real_trans, label = \"Real\")\n",
    "plot!(inferred_trans,label=\"Inferred\")\n",
    "#savefig(\"comparisonHyperparams.pdf\")"
   ]
  },
  {
   "cell_type": "code",
   "execution_count": 419,
   "metadata": {},
   "outputs": [
    {
     "data": {
      "image/svg+xml": [
       "<?xml version=\"1.0\" encoding=\"utf-8\"?>\n",
       "<svg xmlns=\"http://www.w3.org/2000/svg\" xmlns:xlink=\"http://www.w3.org/1999/xlink\" width=\"600\" height=\"400\" viewBox=\"0 0 2400 1600\">\n",
       "<defs>\n",
       "  <clipPath id=\"clip230\">\n",
       "    <rect x=\"0\" y=\"0\" width=\"2400\" height=\"1600\"/>\n",
       "  </clipPath>\n",
       "</defs>\n",
       "<path clip-path=\"url(#clip230)\" d=\"\n",
       "M0 1600 L2400 1600 L2400 0 L0 0  Z\n",
       "  \" fill=\"#ffffff\" fill-rule=\"evenodd\" fill-opacity=\"1\"/>\n",
       "<defs>\n",
       "  <clipPath id=\"clip231\">\n",
       "    <rect x=\"480\" y=\"0\" width=\"1681\" height=\"1600\"/>\n",
       "  </clipPath>\n",
       "</defs>\n",
       "<path clip-path=\"url(#clip230)\" d=\"\n",
       "M156.598 1486.45 L2352.76 1486.45 L2352.76 123.472 L156.598 123.472  Z\n",
       "  \" fill=\"#ffffff\" fill-rule=\"evenodd\" fill-opacity=\"1\"/>\n",
       "<defs>\n",
       "  <clipPath id=\"clip232\">\n",
       "    <rect x=\"156\" y=\"123\" width=\"2197\" height=\"1364\"/>\n",
       "  </clipPath>\n",
       "</defs>\n",
       "<polyline clip-path=\"url(#clip232)\" style=\"stroke:#000000; stroke-linecap:butt; stroke-linejoin:round; stroke-width:2; stroke-opacity:0.1; fill:none\" points=\"\n",
       "  654.932,1486.45 654.932,123.472 \n",
       "  \"/>\n",
       "<polyline clip-path=\"url(#clip232)\" style=\"stroke:#000000; stroke-linecap:butt; stroke-linejoin:round; stroke-width:2; stroke-opacity:0.1; fill:none\" points=\"\n",
       "  1200.15,1486.45 1200.15,123.472 \n",
       "  \"/>\n",
       "<polyline clip-path=\"url(#clip232)\" style=\"stroke:#000000; stroke-linecap:butt; stroke-linejoin:round; stroke-width:2; stroke-opacity:0.1; fill:none\" points=\"\n",
       "  1745.38,1486.45 1745.38,123.472 \n",
       "  \"/>\n",
       "<polyline clip-path=\"url(#clip232)\" style=\"stroke:#000000; stroke-linecap:butt; stroke-linejoin:round; stroke-width:2; stroke-opacity:0.1; fill:none\" points=\"\n",
       "  2290.6,1486.45 2290.6,123.472 \n",
       "  \"/>\n",
       "<polyline clip-path=\"url(#clip230)\" style=\"stroke:#000000; stroke-linecap:butt; stroke-linejoin:round; stroke-width:4; stroke-opacity:1; fill:none\" points=\"\n",
       "  156.598,1486.45 2352.76,1486.45 \n",
       "  \"/>\n",
       "<polyline clip-path=\"url(#clip230)\" style=\"stroke:#000000; stroke-linecap:butt; stroke-linejoin:round; stroke-width:4; stroke-opacity:1; fill:none\" points=\"\n",
       "  654.932,1486.45 654.932,1467.55 \n",
       "  \"/>\n",
       "<polyline clip-path=\"url(#clip230)\" style=\"stroke:#000000; stroke-linecap:butt; stroke-linejoin:round; stroke-width:4; stroke-opacity:1; fill:none\" points=\"\n",
       "  1200.15,1486.45 1200.15,1467.55 \n",
       "  \"/>\n",
       "<polyline clip-path=\"url(#clip230)\" style=\"stroke:#000000; stroke-linecap:butt; stroke-linejoin:round; stroke-width:4; stroke-opacity:1; fill:none\" points=\"\n",
       "  1745.38,1486.45 1745.38,1467.55 \n",
       "  \"/>\n",
       "<polyline clip-path=\"url(#clip230)\" style=\"stroke:#000000; stroke-linecap:butt; stroke-linejoin:round; stroke-width:4; stroke-opacity:1; fill:none\" points=\"\n",
       "  2290.6,1486.45 2290.6,1467.55 \n",
       "  \"/>\n",
       "<path clip-path=\"url(#clip230)\" d=\"M645.21 1514.29 L663.566 1514.29 L663.566 1518.22 L649.492 1518.22 L649.492 1526.7 Q650.511 1526.35 651.529 1526.19 Q652.548 1526 653.566 1526 Q659.353 1526 662.733 1529.17 Q666.112 1532.34 666.112 1537.76 Q666.112 1543.34 662.64 1546.44 Q659.168 1549.52 652.849 1549.52 Q650.673 1549.52 648.404 1549.15 Q646.159 1548.78 643.751 1548.04 L643.751 1543.34 Q645.835 1544.47 648.057 1545.03 Q650.279 1545.58 652.756 1545.58 Q656.761 1545.58 659.099 1543.48 Q661.437 1541.37 661.437 1537.76 Q661.437 1534.15 659.099 1532.04 Q656.761 1529.94 652.756 1529.94 Q650.881 1529.94 649.006 1530.35 Q647.154 1530.77 645.21 1531.65 L645.21 1514.29 Z\" fill=\"#000000\" fill-rule=\"evenodd\" fill-opacity=\"1\" /><path clip-path=\"url(#clip230)\" d=\"M1174.84 1544.91 L1182.48 1544.91 L1182.48 1518.55 L1174.17 1520.21 L1174.17 1515.95 L1182.43 1514.29 L1187.11 1514.29 L1187.11 1544.91 L1194.75 1544.91 L1194.75 1548.85 L1174.84 1548.85 L1174.84 1544.91 Z\" fill=\"#000000\" fill-rule=\"evenodd\" fill-opacity=\"1\" /><path clip-path=\"url(#clip230)\" d=\"M1214.19 1517.37 Q1210.58 1517.37 1208.75 1520.93 Q1206.95 1524.47 1206.95 1531.6 Q1206.95 1538.71 1208.75 1542.27 Q1210.58 1545.82 1214.19 1545.82 Q1217.83 1545.82 1219.63 1542.27 Q1221.46 1538.71 1221.46 1531.6 Q1221.46 1524.47 1219.63 1520.93 Q1217.83 1517.37 1214.19 1517.37 M1214.19 1513.66 Q1220 1513.66 1223.06 1518.27 Q1226.14 1522.85 1226.14 1531.6 Q1226.14 1540.33 1223.06 1544.94 Q1220 1549.52 1214.19 1549.52 Q1208.38 1549.52 1205.31 1544.94 Q1202.25 1540.33 1202.25 1531.6 Q1202.25 1522.85 1205.31 1518.27 Q1208.38 1513.66 1214.19 1513.66 Z\" fill=\"#000000\" fill-rule=\"evenodd\" fill-opacity=\"1\" /><path clip-path=\"url(#clip230)\" d=\"M1720.56 1544.91 L1728.2 1544.91 L1728.2 1518.55 L1719.89 1520.21 L1719.89 1515.95 L1728.16 1514.29 L1732.83 1514.29 L1732.83 1544.91 L1740.47 1544.91 L1740.47 1548.85 L1720.56 1548.85 L1720.56 1544.91 Z\" fill=\"#000000\" fill-rule=\"evenodd\" fill-opacity=\"1\" /><path clip-path=\"url(#clip230)\" d=\"M1749.96 1514.29 L1768.32 1514.29 L1768.32 1518.22 L1754.24 1518.22 L1754.24 1526.7 Q1755.26 1526.35 1756.28 1526.19 Q1757.3 1526 1758.32 1526 Q1764.1 1526 1767.48 1529.17 Q1770.86 1532.34 1770.86 1537.76 Q1770.86 1543.34 1767.39 1546.44 Q1763.92 1549.52 1757.6 1549.52 Q1755.42 1549.52 1753.16 1549.15 Q1750.91 1548.78 1748.5 1548.04 L1748.5 1543.34 Q1750.59 1544.47 1752.81 1545.03 Q1755.03 1545.58 1757.51 1545.58 Q1761.51 1545.58 1763.85 1543.48 Q1766.19 1541.37 1766.19 1537.76 Q1766.19 1534.15 1763.85 1532.04 Q1761.51 1529.94 1757.51 1529.94 Q1755.63 1529.94 1753.76 1530.35 Q1751.91 1530.77 1749.96 1531.65 L1749.96 1514.29 Z\" fill=\"#000000\" fill-rule=\"evenodd\" fill-opacity=\"1\" /><path clip-path=\"url(#clip230)\" d=\"M2269.37 1544.91 L2285.69 1544.91 L2285.69 1548.85 L2263.75 1548.85 L2263.75 1544.91 Q2266.41 1542.16 2270.99 1537.53 Q2275.6 1532.88 2276.78 1531.53 Q2279.03 1529.01 2279.91 1527.27 Q2280.81 1525.51 2280.81 1523.82 Q2280.81 1521.07 2278.86 1519.33 Q2276.94 1517.6 2273.84 1517.6 Q2271.64 1517.6 2269.19 1518.36 Q2266.76 1519.13 2263.98 1520.68 L2263.98 1515.95 Q2266.8 1514.82 2269.26 1514.24 Q2271.71 1513.66 2273.75 1513.66 Q2279.12 1513.66 2282.31 1516.35 Q2285.51 1519.03 2285.51 1523.52 Q2285.51 1525.65 2284.7 1527.57 Q2283.91 1529.47 2281.8 1532.07 Q2281.23 1532.74 2278.12 1535.95 Q2275.02 1539.15 2269.37 1544.91 Z\" fill=\"#000000\" fill-rule=\"evenodd\" fill-opacity=\"1\" /><path clip-path=\"url(#clip230)\" d=\"M2305.51 1517.37 Q2301.9 1517.37 2300.07 1520.93 Q2298.26 1524.47 2298.26 1531.6 Q2298.26 1538.71 2300.07 1542.27 Q2301.9 1545.82 2305.51 1545.82 Q2309.14 1545.82 2310.95 1542.27 Q2312.78 1538.71 2312.78 1531.6 Q2312.78 1524.47 2310.95 1520.93 Q2309.14 1517.37 2305.51 1517.37 M2305.51 1513.66 Q2311.32 1513.66 2314.37 1518.27 Q2317.45 1522.85 2317.45 1531.6 Q2317.45 1540.33 2314.37 1544.94 Q2311.32 1549.52 2305.51 1549.52 Q2299.7 1549.52 2296.62 1544.94 Q2293.56 1540.33 2293.56 1531.6 Q2293.56 1522.85 2296.62 1518.27 Q2299.7 1513.66 2305.51 1513.66 Z\" fill=\"#000000\" fill-rule=\"evenodd\" fill-opacity=\"1\" /><polyline clip-path=\"url(#clip232)\" style=\"stroke:#000000; stroke-linecap:butt; stroke-linejoin:round; stroke-width:2; stroke-opacity:0.1; fill:none\" points=\"\n",
       "  156.598,1330.98 2352.76,1330.98 \n",
       "  \"/>\n",
       "<polyline clip-path=\"url(#clip232)\" style=\"stroke:#000000; stroke-linecap:butt; stroke-linejoin:round; stroke-width:2; stroke-opacity:0.1; fill:none\" points=\"\n",
       "  156.598,941.336 2352.76,941.336 \n",
       "  \"/>\n",
       "<polyline clip-path=\"url(#clip232)\" style=\"stroke:#000000; stroke-linecap:butt; stroke-linejoin:round; stroke-width:2; stroke-opacity:0.1; fill:none\" points=\"\n",
       "  156.598,551.691 2352.76,551.691 \n",
       "  \"/>\n",
       "<polyline clip-path=\"url(#clip232)\" style=\"stroke:#000000; stroke-linecap:butt; stroke-linejoin:round; stroke-width:2; stroke-opacity:0.1; fill:none\" points=\"\n",
       "  156.598,162.047 2352.76,162.047 \n",
       "  \"/>\n",
       "<polyline clip-path=\"url(#clip230)\" style=\"stroke:#000000; stroke-linecap:butt; stroke-linejoin:round; stroke-width:4; stroke-opacity:1; fill:none\" points=\"\n",
       "  156.598,1486.45 156.598,123.472 \n",
       "  \"/>\n",
       "<polyline clip-path=\"url(#clip230)\" style=\"stroke:#000000; stroke-linecap:butt; stroke-linejoin:round; stroke-width:4; stroke-opacity:1; fill:none\" points=\"\n",
       "  156.598,1330.98 175.496,1330.98 \n",
       "  \"/>\n",
       "<polyline clip-path=\"url(#clip230)\" style=\"stroke:#000000; stroke-linecap:butt; stroke-linejoin:round; stroke-width:4; stroke-opacity:1; fill:none\" points=\"\n",
       "  156.598,941.336 175.496,941.336 \n",
       "  \"/>\n",
       "<polyline clip-path=\"url(#clip230)\" style=\"stroke:#000000; stroke-linecap:butt; stroke-linejoin:round; stroke-width:4; stroke-opacity:1; fill:none\" points=\"\n",
       "  156.598,551.691 175.496,551.691 \n",
       "  \"/>\n",
       "<polyline clip-path=\"url(#clip230)\" style=\"stroke:#000000; stroke-linecap:butt; stroke-linejoin:round; stroke-width:4; stroke-opacity:1; fill:none\" points=\"\n",
       "  156.598,162.047 175.496,162.047 \n",
       "  \"/>\n",
       "<path clip-path=\"url(#clip230)\" d=\"M64.6495 1316.78 Q61.0384 1316.78 59.2097 1320.34 Q57.4041 1323.88 57.4041 1331.01 Q57.4041 1338.12 59.2097 1341.69 Q61.0384 1345.23 64.6495 1345.23 Q68.2837 1345.23 70.0892 1341.69 Q71.9179 1338.12 71.9179 1331.01 Q71.9179 1323.88 70.0892 1320.34 Q68.2837 1316.78 64.6495 1316.78 M64.6495 1313.07 Q70.4596 1313.07 73.5152 1317.68 Q76.5938 1322.26 76.5938 1331.01 Q76.5938 1339.74 73.5152 1344.35 Q70.4596 1348.93 64.6495 1348.93 Q58.8393 1348.93 55.7606 1344.35 Q52.7051 1339.74 52.7051 1331.01 Q52.7051 1322.26 55.7606 1317.68 Q58.8393 1313.07 64.6495 1313.07 Z\" fill=\"#000000\" fill-rule=\"evenodd\" fill-opacity=\"1\" /><path clip-path=\"url(#clip230)\" d=\"M84.8114 1342.38 L89.6956 1342.38 L89.6956 1348.26 L84.8114 1348.26 L84.8114 1342.38 Z\" fill=\"#000000\" fill-rule=\"evenodd\" fill-opacity=\"1\" /><path clip-path=\"url(#clip230)\" d=\"M100.691 1344.32 L108.33 1344.32 L108.33 1317.96 L100.02 1319.63 L100.02 1315.37 L108.283 1313.7 L112.959 1313.7 L112.959 1344.32 L120.598 1344.32 L120.598 1348.26 L100.691 1348.26 L100.691 1344.32 Z\" fill=\"#000000\" fill-rule=\"evenodd\" fill-opacity=\"1\" /><path clip-path=\"url(#clip230)\" d=\"M65.0198 927.134 Q61.4087 927.134 59.58 930.699 Q57.7745 934.241 57.7745 941.37 Q57.7745 948.477 59.58 952.041 Q61.4087 955.583 65.0198 955.583 Q68.6541 955.583 70.4596 952.041 Q72.2883 948.477 72.2883 941.37 Q72.2883 934.241 70.4596 930.699 Q68.6541 927.134 65.0198 927.134 M65.0198 923.431 Q70.83 923.431 73.8855 928.037 Q76.9642 932.62 76.9642 941.37 Q76.9642 950.097 73.8855 954.703 Q70.83 959.287 65.0198 959.287 Q59.2097 959.287 56.131 954.703 Q53.0754 950.097 53.0754 941.37 Q53.0754 932.62 56.131 928.037 Q59.2097 923.431 65.0198 923.431 Z\" fill=\"#000000\" fill-rule=\"evenodd\" fill-opacity=\"1\" /><path clip-path=\"url(#clip230)\" d=\"M85.1818 952.736 L90.066 952.736 L90.066 958.616 L85.1818 958.616 L85.1818 952.736 Z\" fill=\"#000000\" fill-rule=\"evenodd\" fill-opacity=\"1\" /><path clip-path=\"url(#clip230)\" d=\"M104.279 954.68 L120.598 954.68 L120.598 958.616 L98.6539 958.616 L98.6539 954.68 Q101.316 951.926 105.899 947.296 Q110.506 942.643 111.686 941.301 Q113.932 938.778 114.811 937.042 Q115.714 935.282 115.714 933.592 Q115.714 930.838 113.77 929.102 Q111.848 927.366 108.746 927.366 Q106.547 927.366 104.094 928.13 Q101.663 928.893 98.8854 930.444 L98.8854 925.722 Q101.709 924.588 104.163 924.009 Q106.617 923.431 108.654 923.431 Q114.024 923.431 117.219 926.116 Q120.413 928.801 120.413 933.292 Q120.413 935.421 119.603 937.342 Q118.816 939.241 116.709 941.833 Q116.131 942.504 113.029 945.722 Q109.927 948.916 104.279 954.68 Z\" fill=\"#000000\" fill-rule=\"evenodd\" fill-opacity=\"1\" /><path clip-path=\"url(#clip230)\" d=\"M64.0708 537.49 Q60.4597 537.49 58.631 541.055 Q56.8254 544.596 56.8254 551.726 Q56.8254 558.832 58.631 562.397 Q60.4597 565.939 64.0708 565.939 Q67.705 565.939 69.5105 562.397 Q71.3392 558.832 71.3392 551.726 Q71.3392 544.596 69.5105 541.055 Q67.705 537.49 64.0708 537.49 M64.0708 533.786 Q69.8809 533.786 72.9365 538.393 Q76.0151 542.976 76.0151 551.726 Q76.0151 560.453 72.9365 565.059 Q69.8809 569.643 64.0708 569.643 Q58.2606 569.643 55.1819 565.059 Q52.1264 560.453 52.1264 551.726 Q52.1264 542.976 55.1819 538.393 Q58.2606 533.786 64.0708 533.786 Z\" fill=\"#000000\" fill-rule=\"evenodd\" fill-opacity=\"1\" /><path clip-path=\"url(#clip230)\" d=\"M84.2327 563.092 L89.1169 563.092 L89.1169 568.971 L84.2327 568.971 L84.2327 563.092 Z\" fill=\"#000000\" fill-rule=\"evenodd\" fill-opacity=\"1\" /><path clip-path=\"url(#clip230)\" d=\"M113.469 550.337 Q116.825 551.055 118.7 553.323 Q120.598 555.592 120.598 558.925 Q120.598 564.041 117.08 566.842 Q113.561 569.643 107.08 569.643 Q104.904 569.643 102.589 569.203 Q100.297 568.786 97.8437 567.93 L97.8437 563.416 Q99.7882 564.55 102.103 565.129 Q104.418 565.707 106.941 565.707 Q111.339 565.707 113.631 563.971 Q115.945 562.235 115.945 558.925 Q115.945 555.869 113.793 554.156 Q111.663 552.42 107.844 552.42 L103.816 552.42 L103.816 548.578 L108.029 548.578 Q111.478 548.578 113.307 547.212 Q115.135 545.823 115.135 543.231 Q115.135 540.569 113.237 539.157 Q111.362 537.721 107.844 537.721 Q105.922 537.721 103.723 538.138 Q101.524 538.555 98.8854 539.434 L98.8854 535.268 Q101.547 534.527 103.862 534.157 Q106.2 533.786 108.26 533.786 Q113.584 533.786 116.686 536.217 Q119.788 538.624 119.788 542.744 Q119.788 545.615 118.145 547.606 Q116.501 549.573 113.469 550.337 Z\" fill=\"#000000\" fill-rule=\"evenodd\" fill-opacity=\"1\" /><path clip-path=\"url(#clip230)\" d=\"M62.9365 147.846 Q59.3254 147.846 57.4967 151.41 Q55.6912 154.952 55.6912 162.082 Q55.6912 169.188 57.4967 172.753 Q59.3254 176.295 62.9365 176.295 Q66.5707 176.295 68.3763 172.753 Q70.205 169.188 70.205 162.082 Q70.205 154.952 68.3763 151.41 Q66.5707 147.846 62.9365 147.846 M62.9365 144.142 Q68.7467 144.142 71.8022 148.748 Q74.8809 153.332 74.8809 162.082 Q74.8809 170.808 71.8022 175.415 Q68.7467 179.998 62.9365 179.998 Q57.1264 179.998 54.0477 175.415 Q50.9921 170.808 50.9921 162.082 Q50.9921 153.332 54.0477 148.748 Q57.1264 144.142 62.9365 144.142 Z\" fill=\"#000000\" fill-rule=\"evenodd\" fill-opacity=\"1\" /><path clip-path=\"url(#clip230)\" d=\"M83.0984 173.447 L87.9827 173.447 L87.9827 179.327 L83.0984 179.327 L83.0984 173.447 Z\" fill=\"#000000\" fill-rule=\"evenodd\" fill-opacity=\"1\" /><path clip-path=\"url(#clip230)\" d=\"M111.015 148.841 L99.2095 167.29 L111.015 167.29 L111.015 148.841 M109.788 144.767 L115.668 144.767 L115.668 167.29 L120.598 167.29 L120.598 171.179 L115.668 171.179 L115.668 179.327 L111.015 179.327 L111.015 171.179 L95.4132 171.179 L95.4132 166.665 L109.788 144.767 Z\" fill=\"#000000\" fill-rule=\"evenodd\" fill-opacity=\"1\" /><path clip-path=\"url(#clip230)\" d=\"M725.994 12.096 L734.176 12.096 L734.176 36.8875 L763.91 36.8875 L763.91 12.096 L772.093 12.096 L772.093 72.576 L763.91 72.576 L763.91 43.7741 L734.176 43.7741 L734.176 72.576 L725.994 72.576 L725.994 12.096 Z\" fill=\"#000000\" fill-rule=\"evenodd\" fill-opacity=\"1\" /><path clip-path=\"url(#clip230)\" d=\"M806.931 76.7889 Q803.771 84.8907 800.773 87.3618 Q797.776 89.8329 792.752 89.8329 L786.798 89.8329 L786.798 83.5945 L791.173 83.5945 Q794.251 83.5945 795.953 82.1361 Q797.654 80.6778 799.72 75.2496 L801.057 71.8468 L782.706 27.2059 L790.605 27.2059 L804.784 62.6918 L818.962 27.2059 L826.861 27.2059 L806.931 76.7889 Z\" fill=\"#000000\" fill-rule=\"evenodd\" fill-opacity=\"1\" /><path clip-path=\"url(#clip230)\" d=\"M844.361 65.7705 L844.361 89.8329 L836.867 89.8329 L836.867 27.2059 L844.361 27.2059 L844.361 34.0924 Q846.711 30.0415 850.275 28.0971 Q853.881 26.1121 858.863 26.1121 Q867.127 26.1121 872.272 32.6746 Q877.457 39.2371 877.457 49.9314 Q877.457 60.6258 872.272 67.1883 Q867.127 73.7508 858.863 73.7508 Q853.881 73.7508 850.275 71.8063 Q846.711 69.8214 844.361 65.7705 M869.72 49.9314 Q869.72 41.7081 866.317 37.0496 Q862.955 32.3505 857.04 32.3505 Q851.126 32.3505 847.723 37.0496 Q844.361 41.7081 844.361 49.9314 Q844.361 58.1548 847.723 62.8538 Q851.126 67.5124 857.04 67.5124 Q862.955 67.5124 866.317 62.8538 Q869.72 58.1548 869.72 49.9314 Z\" fill=\"#000000\" fill-rule=\"evenodd\" fill-opacity=\"1\" /><path clip-path=\"url(#clip230)\" d=\"M928.62 48.0275 L928.62 51.6733 L894.349 51.6733 Q894.835 59.3701 898.967 63.421 Q903.14 67.4314 910.553 67.4314 Q914.847 67.4314 918.857 66.3781 Q922.908 65.3249 926.878 63.2184 L926.878 70.267 Q922.868 71.9684 918.655 72.8596 Q914.442 73.7508 910.107 73.7508 Q899.251 73.7508 892.891 67.4314 Q886.571 61.1119 886.571 50.3365 Q886.571 39.1965 892.567 32.6746 Q898.603 26.1121 908.811 26.1121 Q917.966 26.1121 923.273 32.0264 Q928.62 37.9003 928.62 48.0275 M921.166 45.84 Q921.085 39.7232 917.723 36.0774 Q914.401 32.4315 908.892 32.4315 Q902.653 32.4315 898.886 35.9558 Q895.159 39.4801 894.592 45.8805 L921.166 45.84 Z\" fill=\"#000000\" fill-rule=\"evenodd\" fill-opacity=\"1\" /><path clip-path=\"url(#clip230)\" d=\"M967.144 34.1734 Q965.888 33.4443 964.389 33.1202 Q962.931 32.7556 961.149 32.7556 Q954.829 32.7556 951.426 36.8875 Q948.064 40.9789 948.064 48.6757 L948.064 72.576 L940.57 72.576 L940.57 27.2059 L948.064 27.2059 L948.064 34.2544 Q950.414 30.1225 954.181 28.1376 Q957.948 26.1121 963.336 26.1121 Q964.106 26.1121 965.037 26.2337 Q965.969 26.3147 967.103 26.5172 L967.144 34.1734 Z\" fill=\"#000000\" fill-rule=\"evenodd\" fill-opacity=\"1\" /><path clip-path=\"url(#clip230)\" d=\"M982.173 65.7705 L982.173 89.8329 L974.679 89.8329 L974.679 27.2059 L982.173 27.2059 L982.173 34.0924 Q984.522 30.0415 988.087 28.0971 Q991.692 26.1121 996.675 26.1121 Q1004.94 26.1121 1010.08 32.6746 Q1015.27 39.2371 1015.27 49.9314 Q1015.27 60.6258 1010.08 67.1883 Q1004.94 73.7508 996.675 73.7508 Q991.692 73.7508 988.087 71.8063 Q984.522 69.8214 982.173 65.7705 M1007.53 49.9314 Q1007.53 41.7081 1004.13 37.0496 Q1000.77 32.3505 994.852 32.3505 Q988.938 32.3505 985.535 37.0496 Q982.173 41.7081 982.173 49.9314 Q982.173 58.1548 985.535 62.8538 Q988.938 67.5124 994.852 67.5124 Q1000.77 67.5124 1004.13 62.8538 Q1007.53 58.1548 1007.53 49.9314 Z\" fill=\"#000000\" fill-rule=\"evenodd\" fill-opacity=\"1\" /><path clip-path=\"url(#clip230)\" d=\"M1048.24 49.7694 Q1039.21 49.7694 1035.73 51.8354 Q1032.24 53.9013 1032.24 58.8839 Q1032.24 62.8538 1034.83 65.2034 Q1037.47 67.5124 1041.96 67.5124 Q1048.16 67.5124 1051.89 63.1374 Q1055.66 58.7219 1055.66 51.4303 L1055.66 49.7694 L1048.24 49.7694 M1063.11 46.6907 L1063.11 72.576 L1055.66 72.576 L1055.66 65.6895 Q1053.1 69.8214 1049.3 71.8063 Q1045.49 73.7508 1039.98 73.7508 Q1033.01 73.7508 1028.88 69.8619 Q1024.79 65.9325 1024.79 59.3701 Q1024.79 51.7138 1029.89 47.825 Q1035.04 43.9361 1045.2 43.9361 L1055.66 43.9361 L1055.66 43.2069 Q1055.66 38.0623 1052.25 35.2672 Q1048.89 32.4315 1042.77 32.4315 Q1038.89 32.4315 1035.2 33.3632 Q1031.51 34.295 1028.11 36.1584 L1028.11 29.2718 Q1032.2 27.692 1036.05 26.9223 Q1039.9 26.1121 1043.54 26.1121 Q1053.39 26.1121 1058.25 31.2163 Q1063.11 36.3204 1063.11 46.6907 Z\" fill=\"#000000\" fill-rule=\"evenodd\" fill-opacity=\"1\" /><path clip-path=\"url(#clip230)\" d=\"M1104.75 34.1734 Q1103.5 33.4443 1102 33.1202 Q1100.54 32.7556 1098.76 32.7556 Q1092.44 32.7556 1089.04 36.8875 Q1085.67 40.9789 1085.67 48.6757 L1085.67 72.576 L1078.18 72.576 L1078.18 27.2059 L1085.67 27.2059 L1085.67 34.2544 Q1088.02 30.1225 1091.79 28.1376 Q1095.56 26.1121 1100.95 26.1121 Q1101.71 26.1121 1102.65 26.2337 Q1103.58 26.3147 1104.71 26.5172 L1104.75 34.1734 Z\" fill=\"#000000\" fill-rule=\"evenodd\" fill-opacity=\"1\" /><path clip-path=\"url(#clip230)\" d=\"M1133.19 49.7694 Q1124.16 49.7694 1120.67 51.8354 Q1117.19 53.9013 1117.19 58.8839 Q1117.19 62.8538 1119.78 65.2034 Q1122.42 67.5124 1126.91 67.5124 Q1133.11 67.5124 1136.84 63.1374 Q1140.6 58.7219 1140.6 51.4303 L1140.6 49.7694 L1133.19 49.7694 M1148.06 46.6907 L1148.06 72.576 L1140.6 72.576 L1140.6 65.6895 Q1138.05 69.8214 1134.24 71.8063 Q1130.44 73.7508 1124.93 73.7508 Q1117.96 73.7508 1113.83 69.8619 Q1109.74 65.9325 1109.74 59.3701 Q1109.74 51.7138 1114.84 47.825 Q1119.98 43.9361 1130.15 43.9361 L1140.6 43.9361 L1140.6 43.2069 Q1140.6 38.0623 1137.2 35.2672 Q1133.84 32.4315 1127.72 32.4315 Q1123.83 32.4315 1120.15 33.3632 Q1116.46 34.295 1113.06 36.1584 L1113.06 29.2718 Q1117.15 27.692 1121 26.9223 Q1124.85 26.1121 1128.49 26.1121 Q1138.34 26.1121 1143.2 31.2163 Q1148.06 36.3204 1148.06 46.6907 Z\" fill=\"#000000\" fill-rule=\"evenodd\" fill-opacity=\"1\" /><path clip-path=\"url(#clip230)\" d=\"M1198.73 35.9153 Q1201.53 30.8922 1205.42 28.5022 Q1209.31 26.1121 1214.57 26.1121 Q1221.66 26.1121 1225.51 31.0947 Q1229.36 36.0368 1229.36 45.1919 L1229.36 72.576 L1221.86 72.576 L1221.86 45.4349 Q1221.86 38.913 1219.56 35.7533 Q1217.25 32.5936 1212.51 32.5936 Q1206.71 32.5936 1203.35 36.4419 Q1199.99 40.2903 1199.99 46.9338 L1199.99 72.576 L1192.5 72.576 L1192.5 45.4349 Q1192.5 38.8725 1190.19 35.7533 Q1187.88 32.5936 1183.06 32.5936 Q1177.35 32.5936 1173.98 36.4824 Q1170.62 40.3308 1170.62 46.9338 L1170.62 72.576 L1163.13 72.576 L1163.13 27.2059 L1170.62 27.2059 L1170.62 34.2544 Q1173.17 30.082 1176.74 28.0971 Q1180.3 26.1121 1185.2 26.1121 Q1190.15 26.1121 1193.59 28.6237 Q1197.07 31.1352 1198.73 35.9153 Z\" fill=\"#000000\" fill-rule=\"evenodd\" fill-opacity=\"1\" /><path clip-path=\"url(#clip230)\" d=\"M1273.15 28.5427 L1273.15 35.5912 Q1269.99 33.9709 1266.59 33.1607 Q1263.18 32.3505 1259.54 32.3505 Q1253.99 32.3505 1251.19 34.0519 Q1248.44 35.7533 1248.44 39.156 Q1248.44 41.7486 1250.42 43.2475 Q1252.41 44.7058 1258.4 46.0426 L1260.96 46.6097 Q1268.9 48.3111 1272.22 51.4303 Q1275.58 54.509 1275.58 60.0587 Q1275.58 66.3781 1270.56 70.0644 Q1265.57 73.7508 1256.82 73.7508 Q1253.18 73.7508 1249.21 73.0216 Q1245.28 72.3329 1240.9 70.9151 L1240.9 63.2184 Q1245.04 65.3654 1249.05 66.4591 Q1253.06 67.5124 1256.99 67.5124 Q1262.25 67.5124 1265.09 65.73 Q1267.92 63.9071 1267.92 60.6258 Q1267.92 57.5877 1265.86 55.9673 Q1263.83 54.3469 1256.91 52.8481 L1254.31 52.2405 Q1247.39 50.7821 1244.31 47.7845 Q1241.23 44.7463 1241.23 39.4801 Q1241.23 33.0797 1245.77 29.5959 Q1250.3 26.1121 1258.65 26.1121 Q1262.78 26.1121 1266.42 26.7198 Q1270.07 27.3274 1273.15 28.5427 Z\" fill=\"#000000\" fill-rule=\"evenodd\" fill-opacity=\"1\" /><path clip-path=\"url(#clip230)\" d=\"M1346.47 28.9478 L1346.47 35.9153 Q1343.31 34.1734 1340.11 33.3227 Q1336.95 32.4315 1333.71 32.4315 Q1326.46 32.4315 1322.45 37.0496 Q1318.44 41.6271 1318.44 49.9314 Q1318.44 58.2358 1322.45 62.8538 Q1326.46 67.4314 1333.71 67.4314 Q1336.95 67.4314 1340.11 66.5807 Q1343.31 65.6895 1346.47 63.9476 L1346.47 70.8341 Q1343.35 72.2924 1339.99 73.0216 Q1336.67 73.7508 1332.9 73.7508 Q1322.65 73.7508 1316.62 67.3098 Q1310.58 60.8689 1310.58 49.9314 Q1310.58 38.832 1316.66 32.472 Q1322.77 26.1121 1333.39 26.1121 Q1336.83 26.1121 1340.11 26.8413 Q1343.39 27.5299 1346.47 28.9478 Z\" fill=\"#000000\" fill-rule=\"evenodd\" fill-opacity=\"1\" /><path clip-path=\"url(#clip230)\" d=\"M1377.01 32.4315 Q1371.02 32.4315 1367.54 37.1306 Q1364.05 41.7891 1364.05 49.9314 Q1364.05 58.0738 1367.49 62.7728 Q1370.98 67.4314 1377.01 67.4314 Q1382.97 67.4314 1386.45 62.7323 Q1389.94 58.0333 1389.94 49.9314 Q1389.94 41.8701 1386.45 37.1711 Q1382.97 32.4315 1377.01 32.4315 M1377.01 26.1121 Q1386.74 26.1121 1392.29 32.4315 Q1397.84 38.7509 1397.84 49.9314 Q1397.84 61.0714 1392.29 67.4314 Q1386.74 73.7508 1377.01 73.7508 Q1367.25 73.7508 1361.7 67.4314 Q1356.19 61.0714 1356.19 49.9314 Q1356.19 38.7509 1361.7 32.4315 Q1367.25 26.1121 1377.01 26.1121 Z\" fill=\"#000000\" fill-rule=\"evenodd\" fill-opacity=\"1\" /><path clip-path=\"url(#clip230)\" d=\"M1445.52 35.9153 Q1448.31 30.8922 1452.2 28.5022 Q1456.09 26.1121 1461.35 26.1121 Q1468.44 26.1121 1472.29 31.0947 Q1476.14 36.0368 1476.14 45.1919 L1476.14 72.576 L1468.65 72.576 L1468.65 45.4349 Q1468.65 38.913 1466.34 35.7533 Q1464.03 32.5936 1459.29 32.5936 Q1453.5 32.5936 1450.13 36.4419 Q1446.77 40.2903 1446.77 46.9338 L1446.77 72.576 L1439.28 72.576 L1439.28 45.4349 Q1439.28 38.8725 1436.97 35.7533 Q1434.66 32.5936 1429.84 32.5936 Q1424.13 32.5936 1420.76 36.4824 Q1417.4 40.3308 1417.4 46.9338 L1417.4 72.576 L1409.91 72.576 L1409.91 27.2059 L1417.4 27.2059 L1417.4 34.2544 Q1419.95 30.082 1423.52 28.0971 Q1427.08 26.1121 1431.99 26.1121 Q1436.93 26.1121 1440.37 28.6237 Q1443.85 31.1352 1445.52 35.9153 Z\" fill=\"#000000\" fill-rule=\"evenodd\" fill-opacity=\"1\" /><path clip-path=\"url(#clip230)\" d=\"M1498.22 65.7705 L1498.22 89.8329 L1490.72 89.8329 L1490.72 27.2059 L1498.22 27.2059 L1498.22 34.0924 Q1500.57 30.0415 1504.13 28.0971 Q1507.74 26.1121 1512.72 26.1121 Q1520.98 26.1121 1526.13 32.6746 Q1531.31 39.2371 1531.31 49.9314 Q1531.31 60.6258 1526.13 67.1883 Q1520.98 73.7508 1512.72 73.7508 Q1507.74 73.7508 1504.13 71.8063 Q1500.57 69.8214 1498.22 65.7705 M1523.58 49.9314 Q1523.58 41.7081 1520.17 37.0496 Q1516.81 32.3505 1510.9 32.3505 Q1504.98 32.3505 1501.58 37.0496 Q1498.22 41.7081 1498.22 49.9314 Q1498.22 58.1548 1501.58 62.8538 Q1504.98 67.5124 1510.9 67.5124 Q1516.81 67.5124 1520.17 62.8538 Q1523.58 58.1548 1523.58 49.9314 Z\" fill=\"#000000\" fill-rule=\"evenodd\" fill-opacity=\"1\" /><path clip-path=\"url(#clip230)\" d=\"M1564.29 49.7694 Q1555.25 49.7694 1551.77 51.8354 Q1548.29 53.9013 1548.29 58.8839 Q1548.29 62.8538 1550.88 65.2034 Q1553.51 67.5124 1558.01 67.5124 Q1564.21 67.5124 1567.93 63.1374 Q1571.7 58.7219 1571.7 51.4303 L1571.7 49.7694 L1564.29 49.7694 M1579.15 46.6907 L1579.15 72.576 L1571.7 72.576 L1571.7 65.6895 Q1569.15 69.8214 1565.34 71.8063 Q1561.53 73.7508 1556.02 73.7508 Q1549.06 73.7508 1544.92 69.8619 Q1540.83 65.9325 1540.83 59.3701 Q1540.83 51.7138 1545.94 47.825 Q1551.08 43.9361 1561.25 43.9361 L1571.7 43.9361 L1571.7 43.2069 Q1571.7 38.0623 1568.3 35.2672 Q1564.94 32.4315 1558.82 32.4315 Q1554.93 32.4315 1551.24 33.3632 Q1547.56 34.295 1544.15 36.1584 L1544.15 29.2718 Q1548.25 27.692 1552.09 26.9223 Q1555.94 26.1121 1559.59 26.1121 Q1569.43 26.1121 1574.29 31.2163 Q1579.15 36.3204 1579.15 46.6907 Z\" fill=\"#000000\" fill-rule=\"evenodd\" fill-opacity=\"1\" /><path clip-path=\"url(#clip230)\" d=\"M1620.8 34.1734 Q1619.54 33.4443 1618.04 33.1202 Q1616.58 32.7556 1614.8 32.7556 Q1608.48 32.7556 1605.08 36.8875 Q1601.72 40.9789 1601.72 48.6757 L1601.72 72.576 L1594.22 72.576 L1594.22 27.2059 L1601.72 27.2059 L1601.72 34.2544 Q1604.07 30.1225 1607.83 28.1376 Q1611.6 26.1121 1616.99 26.1121 Q1617.76 26.1121 1618.69 26.2337 Q1619.62 26.3147 1620.76 26.5172 L1620.8 34.1734 Z\" fill=\"#000000\" fill-rule=\"evenodd\" fill-opacity=\"1\" /><path clip-path=\"url(#clip230)\" d=\"M1628.62 27.2059 L1636.07 27.2059 L1636.07 72.576 L1628.62 72.576 L1628.62 27.2059 M1628.62 9.54393 L1636.07 9.54393 L1636.07 18.9825 L1628.62 18.9825 L1628.62 9.54393 Z\" fill=\"#000000\" fill-rule=\"evenodd\" fill-opacity=\"1\" /><path clip-path=\"url(#clip230)\" d=\"M1680.59 28.5427 L1680.59 35.5912 Q1677.43 33.9709 1674.03 33.1607 Q1670.62 32.3505 1666.98 32.3505 Q1661.43 32.3505 1658.63 34.0519 Q1655.88 35.7533 1655.88 39.156 Q1655.88 41.7486 1657.86 43.2475 Q1659.85 44.7058 1665.84 46.0426 L1668.4 46.6097 Q1676.34 48.3111 1679.66 51.4303 Q1683.02 54.509 1683.02 60.0587 Q1683.02 66.3781 1678 70.0644 Q1673.01 73.7508 1664.26 73.7508 Q1660.62 73.7508 1656.65 73.0216 Q1652.72 72.3329 1648.34 70.9151 L1648.34 63.2184 Q1652.48 65.3654 1656.49 66.4591 Q1660.5 67.5124 1664.43 67.5124 Q1669.69 67.5124 1672.53 65.73 Q1675.36 63.9071 1675.36 60.6258 Q1675.36 57.5877 1673.3 55.9673 Q1671.27 54.3469 1664.35 52.8481 L1661.75 52.2405 Q1654.83 50.7821 1651.75 47.7845 Q1648.67 44.7463 1648.67 39.4801 Q1648.67 33.0797 1653.21 29.5959 Q1657.74 26.1121 1666.09 26.1121 Q1670.22 26.1121 1673.86 26.7198 Q1677.51 27.3274 1680.59 28.5427 Z\" fill=\"#000000\" fill-rule=\"evenodd\" fill-opacity=\"1\" /><path clip-path=\"url(#clip230)\" d=\"M1712.47 32.4315 Q1706.47 32.4315 1702.99 37.1306 Q1699.51 41.7891 1699.51 49.9314 Q1699.51 58.0738 1702.95 62.7728 Q1706.43 67.4314 1712.47 67.4314 Q1718.42 67.4314 1721.91 62.7323 Q1725.39 58.0333 1725.39 49.9314 Q1725.39 41.8701 1721.91 37.1711 Q1718.42 32.4315 1712.47 32.4315 M1712.47 26.1121 Q1722.19 26.1121 1727.74 32.4315 Q1733.29 38.7509 1733.29 49.9314 Q1733.29 61.0714 1727.74 67.4314 Q1722.19 73.7508 1712.47 73.7508 Q1702.71 73.7508 1697.16 67.4314 Q1691.65 61.0714 1691.65 49.9314 Q1691.65 38.7509 1697.16 32.4315 Q1702.71 26.1121 1712.47 26.1121 Z\" fill=\"#000000\" fill-rule=\"evenodd\" fill-opacity=\"1\" /><path clip-path=\"url(#clip230)\" d=\"M1783.36 45.1919 L1783.36 72.576 L1775.91 72.576 L1775.91 45.4349 Q1775.91 38.994 1773.4 35.7938 Q1770.88 32.5936 1765.86 32.5936 Q1759.82 32.5936 1756.34 36.4419 Q1752.86 40.2903 1752.86 46.9338 L1752.86 72.576 L1745.36 72.576 L1745.36 27.2059 L1752.86 27.2059 L1752.86 34.2544 Q1755.53 30.163 1759.14 28.1376 Q1762.78 26.1121 1767.52 26.1121 Q1775.34 26.1121 1779.35 30.9732 Q1783.36 35.7938 1783.36 45.1919 Z\" fill=\"#000000\" fill-rule=\"evenodd\" fill-opacity=\"1\" /><polyline clip-path=\"url(#clip232)\" style=\"stroke:#009af9; stroke-linecap:butt; stroke-linejoin:round; stroke-width:4; stroke-opacity:1; fill:none\" points=\"\n",
       "  218.754,810.258 327.798,763.715 436.843,720.35 545.887,680.796 654.932,645.65 763.976,615.456 873.021,590.692 982.066,571.755 1091.11,558.954 1200.15,552.5 \n",
       "  1309.2,552.5 1418.24,558.954 1527.29,571.755 1636.33,590.692 1745.38,615.456 1854.42,645.65 1963.47,680.796 2072.51,720.35 2181.56,763.715 2290.6,810.258 \n",
       "  \n",
       "  \"/>\n",
       "<polyline clip-path=\"url(#clip232)\" style=\"stroke:#e26f46; stroke-linecap:butt; stroke-linejoin:round; stroke-width:4; stroke-opacity:1; fill:none\" points=\"\n",
       "  218.754,551.691 327.798,551.691 436.843,551.691 545.887,551.691 654.932,551.691 763.976,551.691 873.021,551.691 982.066,551.691 1091.11,551.691 1200.15,551.691 \n",
       "  1309.2,551.691 1418.24,551.691 1527.29,551.691 1636.33,551.691 1745.38,551.691 1854.42,551.691 1963.47,551.691 2072.51,551.691 2181.56,551.691 2290.6,551.691 \n",
       "  \n",
       "  \"/>\n",
       "<polyline clip-path=\"url(#clip232)\" style=\"stroke:#3da44d; stroke-linecap:butt; stroke-linejoin:round; stroke-width:4; stroke-opacity:1; fill:none\" points=\"\n",
       "  218.754,162.047 327.798,162.047 436.843,162.047 545.887,162.047 654.932,162.047 763.976,162.047 873.021,162.047 982.066,162.047 1091.11,162.047 1200.15,162.047 \n",
       "  1309.2,162.047 1418.24,162.047 1527.29,162.047 1636.33,162.047 1745.38,162.047 1854.42,162.047 1963.47,162.047 2072.51,162.047 2181.56,162.047 2290.6,162.047 \n",
       "  \n",
       "  \"/>\n",
       "<polyline clip-path=\"url(#clip232)\" style=\"stroke:#c271d2; stroke-linecap:butt; stroke-linejoin:round; stroke-width:4; stroke-opacity:1; fill:none\" points=\"\n",
       "  218.754,1447.87 327.798,1447.87 436.843,1447.87 545.887,1447.87 654.932,1447.87 763.976,1447.87 873.021,1447.87 982.066,1447.87 1091.11,1447.87 1200.15,1447.87 \n",
       "  1309.2,1447.87 1418.24,1447.87 1527.29,1447.87 1636.33,1447.87 1745.38,1447.87 1854.42,1447.87 1963.47,1447.87 2072.51,1447.87 2181.56,1447.87 2290.6,1447.87 \n",
       "  \n",
       "  \"/>\n",
       "<path clip-path=\"url(#clip230)\" d=\"\n",
       "M1430.58 908.64 L2279.55 908.64 L2279.55 649.44 L1430.58 649.44  Z\n",
       "  \" fill=\"#ffffff\" fill-rule=\"evenodd\" fill-opacity=\"1\"/>\n",
       "<polyline clip-path=\"url(#clip230)\" style=\"stroke:#000000; stroke-linecap:butt; stroke-linejoin:round; stroke-width:4; stroke-opacity:1; fill:none\" points=\"\n",
       "  1430.58,908.64 2279.55,908.64 2279.55,649.44 1430.58,649.44 1430.58,908.64 \n",
       "  \"/>\n",
       "<polyline clip-path=\"url(#clip230)\" style=\"stroke:#009af9; stroke-linecap:butt; stroke-linejoin:round; stroke-width:4; stroke-opacity:1; fill:none\" points=\"\n",
       "  1454.98,701.28 1601.39,701.28 \n",
       "  \"/>\n",
       "<path clip-path=\"url(#clip230)\" d=\"M1625.8 684 L1630.47 684 L1630.47 718.56 L1625.8 718.56 L1625.8 684 Z\" fill=\"#000000\" fill-rule=\"evenodd\" fill-opacity=\"1\" /><path clip-path=\"url(#clip230)\" d=\"M1661.14 702.912 L1661.14 718.56 L1656.88 718.56 L1656.88 703.051 Q1656.88 699.37 1655.45 697.542 Q1654.01 695.713 1651.14 695.713 Q1647.69 695.713 1645.7 697.912 Q1643.71 700.111 1643.71 703.907 L1643.71 718.56 L1639.43 718.56 L1639.43 692.634 L1643.71 692.634 L1643.71 696.662 Q1645.24 694.324 1647.3 693.167 Q1649.38 692.009 1652.09 692.009 Q1656.56 692.009 1658.85 694.787 Q1661.14 697.542 1661.14 702.912 Z\" fill=\"#000000\" fill-rule=\"evenodd\" fill-opacity=\"1\" /><path clip-path=\"url(#clip230)\" d=\"M1682.76 682.542 L1682.76 686.083 L1678.69 686.083 Q1676.4 686.083 1675.5 687.009 Q1674.62 687.935 1674.62 690.343 L1674.62 692.634 L1681.63 692.634 L1681.63 695.944 L1674.62 695.944 L1674.62 718.56 L1670.33 718.56 L1670.33 695.944 L1666.26 695.944 L1666.26 692.634 L1670.33 692.634 L1670.33 690.829 Q1670.33 686.5 1672.35 684.532 Q1674.36 682.542 1678.74 682.542 L1682.76 682.542 Z\" fill=\"#000000\" fill-rule=\"evenodd\" fill-opacity=\"1\" /><path clip-path=\"url(#clip230)\" d=\"M1708.5 704.532 L1708.5 706.616 L1688.92 706.616 Q1689.2 711.014 1691.56 713.329 Q1693.94 715.62 1698.18 715.62 Q1700.63 715.62 1702.93 715.018 Q1705.24 714.417 1707.51 713.213 L1707.51 717.241 Q1705.22 718.213 1702.81 718.722 Q1700.4 719.231 1697.93 719.231 Q1691.72 719.231 1688.09 715.62 Q1684.48 712.009 1684.48 705.852 Q1684.48 699.486 1687.9 695.759 Q1691.35 692.009 1697.19 692.009 Q1702.42 692.009 1705.45 695.389 Q1708.5 698.745 1708.5 704.532 M1704.25 703.282 Q1704.2 699.787 1702.28 697.704 Q1700.38 695.62 1697.23 695.62 Q1693.67 695.62 1691.51 697.634 Q1689.38 699.648 1689.06 703.305 L1704.25 703.282 Z\" fill=\"#000000\" fill-rule=\"evenodd\" fill-opacity=\"1\" /><path clip-path=\"url(#clip230)\" d=\"M1730.52 696.616 Q1729.8 696.199 1728.94 696.014 Q1728.11 695.805 1727.09 695.805 Q1723.48 695.805 1721.54 698.167 Q1719.62 700.505 1719.62 704.903 L1719.62 718.56 L1715.33 718.56 L1715.33 692.634 L1719.62 692.634 L1719.62 696.662 Q1720.96 694.301 1723.11 693.167 Q1725.26 692.009 1728.34 692.009 Q1728.78 692.009 1729.31 692.079 Q1729.85 692.125 1730.5 692.241 L1730.52 696.616 Z\" fill=\"#000000\" fill-rule=\"evenodd\" fill-opacity=\"1\" /><path clip-path=\"url(#clip230)\" d=\"M1749.18 696.616 Q1748.46 696.199 1747.6 696.014 Q1746.77 695.805 1745.75 695.805 Q1742.14 695.805 1740.19 698.167 Q1738.27 700.505 1738.27 704.903 L1738.27 718.56 L1733.99 718.56 L1733.99 692.634 L1738.27 692.634 L1738.27 696.662 Q1739.62 694.301 1741.77 693.167 Q1743.92 692.009 1747 692.009 Q1747.44 692.009 1747.97 692.079 Q1748.5 692.125 1749.15 692.241 L1749.18 696.616 Z\" fill=\"#000000\" fill-rule=\"evenodd\" fill-opacity=\"1\" /><path clip-path=\"url(#clip230)\" d=\"M1774.78 704.532 L1774.78 706.616 L1755.19 706.616 Q1755.47 711.014 1757.83 713.329 Q1760.22 715.62 1764.45 715.62 Q1766.91 715.62 1769.2 715.018 Q1771.51 714.417 1773.78 713.213 L1773.78 717.241 Q1771.49 718.213 1769.08 718.722 Q1766.68 719.231 1764.2 719.231 Q1758 719.231 1754.36 715.62 Q1750.75 712.009 1750.75 705.852 Q1750.75 699.486 1754.18 695.759 Q1757.62 692.009 1763.46 692.009 Q1768.69 692.009 1771.72 695.389 Q1774.78 698.745 1774.78 704.532 M1770.52 703.282 Q1770.47 699.787 1768.55 697.704 Q1766.65 695.62 1763.5 695.62 Q1759.94 695.62 1757.79 697.634 Q1755.66 699.648 1755.33 703.305 L1770.52 703.282 Z\" fill=\"#000000\" fill-rule=\"evenodd\" fill-opacity=\"1\" /><path clip-path=\"url(#clip230)\" d=\"M1798.83 696.569 L1798.83 682.542 L1803.09 682.542 L1803.09 718.56 L1798.83 718.56 L1798.83 714.671 Q1797.49 716.986 1795.43 718.12 Q1793.39 719.231 1790.52 719.231 Q1785.82 719.231 1782.86 715.481 Q1779.92 711.731 1779.92 705.62 Q1779.92 699.509 1782.86 695.759 Q1785.82 692.009 1790.52 692.009 Q1793.39 692.009 1795.43 693.143 Q1797.49 694.255 1798.83 696.569 M1784.31 705.62 Q1784.31 710.319 1786.24 713.004 Q1788.18 715.666 1791.56 715.666 Q1794.94 715.666 1796.88 713.004 Q1798.83 710.319 1798.83 705.62 Q1798.83 700.921 1796.88 698.259 Q1794.94 695.574 1791.56 695.574 Q1788.18 695.574 1786.24 698.259 Q1784.31 700.921 1784.31 705.62 Z\" fill=\"#000000\" fill-rule=\"evenodd\" fill-opacity=\"1\" /><path clip-path=\"url(#clip230)\" d=\"M1847.83 685.134 L1847.83 689.694 Q1845.17 688.421 1842.81 687.796 Q1840.45 687.171 1838.25 687.171 Q1834.43 687.171 1832.35 688.653 Q1830.29 690.134 1830.29 692.866 Q1830.29 695.157 1831.65 696.338 Q1833.04 697.495 1836.88 698.213 L1839.71 698.792 Q1844.94 699.787 1847.42 702.31 Q1849.92 704.81 1849.92 709.023 Q1849.92 714.046 1846.54 716.639 Q1843.18 719.231 1836.68 719.231 Q1834.22 719.231 1831.44 718.676 Q1828.69 718.12 1825.73 717.032 L1825.73 712.217 Q1828.57 713.815 1831.3 714.625 Q1834.04 715.435 1836.68 715.435 Q1840.68 715.435 1842.86 713.861 Q1845.03 712.287 1845.03 709.37 Q1845.03 706.824 1843.46 705.389 Q1841.91 703.954 1838.34 703.236 L1835.49 702.68 Q1830.26 701.639 1827.93 699.417 Q1825.59 697.194 1825.59 693.236 Q1825.59 688.653 1828.8 686.014 Q1832.05 683.375 1837.72 683.375 Q1840.15 683.375 1842.67 683.815 Q1845.19 684.255 1847.83 685.134 Z\" fill=\"#000000\" fill-rule=\"evenodd\" fill-opacity=\"1\" /><path clip-path=\"url(#clip230)\" d=\"M1857.21 684 L1861.88 684 L1861.88 718.56 L1857.21 718.56 L1857.21 684 Z\" fill=\"#000000\" fill-rule=\"evenodd\" fill-opacity=\"1\" /><path clip-path=\"url(#clip230)\" d=\"M1886.07 692.634 L1890.33 692.634 L1890.33 718.56 L1886.07 718.56 L1886.07 692.634 M1886.07 682.542 L1890.33 682.542 L1890.33 687.935 L1886.07 687.935 L1886.07 682.542 Z\" fill=\"#000000\" fill-rule=\"evenodd\" fill-opacity=\"1\" /><path clip-path=\"url(#clip230)\" d=\"M1920.8 702.912 L1920.8 718.56 L1916.54 718.56 L1916.54 703.051 Q1916.54 699.37 1915.1 697.542 Q1913.67 695.713 1910.8 695.713 Q1907.35 695.713 1905.36 697.912 Q1903.36 700.111 1903.36 703.907 L1903.36 718.56 L1899.08 718.56 L1899.08 692.634 L1903.36 692.634 L1903.36 696.662 Q1904.89 694.324 1906.95 693.167 Q1909.04 692.009 1911.74 692.009 Q1916.21 692.009 1918.5 694.787 Q1920.8 697.542 1920.8 702.912 Z\" fill=\"#000000\" fill-rule=\"evenodd\" fill-opacity=\"1\" /><path clip-path=\"url(#clip230)\" d=\"M1942.42 682.542 L1942.42 686.083 L1938.34 686.083 Q1936.05 686.083 1935.15 687.009 Q1934.27 687.935 1934.27 690.343 L1934.27 692.634 L1941.28 692.634 L1941.28 695.944 L1934.27 695.944 L1934.27 718.56 L1929.98 718.56 L1929.98 695.944 L1925.91 695.944 L1925.91 692.634 L1929.98 692.634 L1929.98 690.829 Q1929.98 686.5 1932 684.532 Q1934.01 682.542 1938.39 682.542 L1942.42 682.542 Z\" fill=\"#000000\" fill-rule=\"evenodd\" fill-opacity=\"1\" /><path clip-path=\"url(#clip230)\" d=\"M1968.16 704.532 L1968.16 706.616 L1948.57 706.616 Q1948.85 711.014 1951.21 713.329 Q1953.6 715.62 1957.83 715.62 Q1960.29 715.62 1962.58 715.018 Q1964.89 714.417 1967.16 713.213 L1967.16 717.241 Q1964.87 718.213 1962.46 718.722 Q1960.05 719.231 1957.58 719.231 Q1951.37 719.231 1947.74 715.62 Q1944.13 712.009 1944.13 705.852 Q1944.13 699.486 1947.55 695.759 Q1951 692.009 1956.84 692.009 Q1962.07 692.009 1965.1 695.389 Q1968.16 698.745 1968.16 704.532 M1963.9 703.282 Q1963.85 699.787 1961.93 697.704 Q1960.03 695.62 1956.88 695.62 Q1953.32 695.62 1951.17 697.634 Q1949.04 699.648 1948.71 703.305 L1963.9 703.282 Z\" fill=\"#000000\" fill-rule=\"evenodd\" fill-opacity=\"1\" /><path clip-path=\"url(#clip230)\" d=\"M1993.8 693.63 L1993.8 697.611 Q1992 696.616 1990.17 696.13 Q1988.36 695.62 1986.51 695.62 Q1982.37 695.62 1980.08 698.259 Q1977.79 700.875 1977.79 705.62 Q1977.79 710.366 1980.08 713.004 Q1982.37 715.62 1986.51 715.62 Q1988.36 715.62 1990.17 715.134 Q1992 714.625 1993.8 713.629 L1993.8 717.565 Q1992.02 718.398 1990.1 718.815 Q1988.2 719.231 1986.05 719.231 Q1980.19 719.231 1976.74 715.551 Q1973.29 711.87 1973.29 705.62 Q1973.29 699.278 1976.77 695.643 Q1980.26 692.009 1986.33 692.009 Q1988.29 692.009 1990.17 692.426 Q1992.04 692.819 1993.8 693.63 Z\" fill=\"#000000\" fill-rule=\"evenodd\" fill-opacity=\"1\" /><path clip-path=\"url(#clip230)\" d=\"M2005.42 685.273 L2005.42 692.634 L2014.2 692.634 L2014.2 695.944 L2005.42 695.944 L2005.42 710.018 Q2005.42 713.19 2006.28 714.092 Q2007.16 714.995 2009.82 714.995 L2014.2 714.995 L2014.2 718.56 L2009.82 718.56 Q2004.89 718.56 2003.02 716.731 Q2001.14 714.879 2001.14 710.018 L2001.14 695.944 L1998.02 695.944 L1998.02 692.634 L2001.14 692.634 L2001.14 685.273 L2005.42 685.273 Z\" fill=\"#000000\" fill-rule=\"evenodd\" fill-opacity=\"1\" /><path clip-path=\"url(#clip230)\" d=\"M2019.8 692.634 L2024.06 692.634 L2024.06 718.56 L2019.8 718.56 L2019.8 692.634 M2019.8 682.542 L2024.06 682.542 L2024.06 687.935 L2019.8 687.935 L2019.8 682.542 Z\" fill=\"#000000\" fill-rule=\"evenodd\" fill-opacity=\"1\" /><path clip-path=\"url(#clip230)\" d=\"M2043.02 695.62 Q2039.59 695.62 2037.6 698.305 Q2035.61 700.968 2035.61 705.62 Q2035.61 710.273 2037.58 712.958 Q2039.57 715.62 2043.02 715.62 Q2046.42 715.62 2048.41 712.935 Q2050.4 710.25 2050.4 705.62 Q2050.4 701.014 2048.41 698.329 Q2046.42 695.62 2043.02 695.62 M2043.02 692.009 Q2048.57 692.009 2051.74 695.62 Q2054.91 699.231 2054.91 705.62 Q2054.91 711.986 2051.74 715.62 Q2048.57 719.231 2043.02 719.231 Q2037.44 719.231 2034.27 715.62 Q2031.12 711.986 2031.12 705.62 Q2031.12 699.231 2034.27 695.62 Q2037.44 692.009 2043.02 692.009 Z\" fill=\"#000000\" fill-rule=\"evenodd\" fill-opacity=\"1\" /><path clip-path=\"url(#clip230)\" d=\"M2083.53 702.912 L2083.53 718.56 L2079.27 718.56 L2079.27 703.051 Q2079.27 699.37 2077.83 697.542 Q2076.4 695.713 2073.53 695.713 Q2070.08 695.713 2068.09 697.912 Q2066.1 700.111 2066.1 703.907 L2066.1 718.56 L2061.81 718.56 L2061.81 692.634 L2066.1 692.634 L2066.1 696.662 Q2067.62 694.324 2069.68 693.167 Q2071.77 692.009 2074.47 692.009 Q2078.94 692.009 2081.23 694.787 Q2083.53 697.542 2083.53 702.912 Z\" fill=\"#000000\" fill-rule=\"evenodd\" fill-opacity=\"1\" /><path clip-path=\"url(#clip230)\" d=\"M2124.15 696.569 L2124.15 682.542 L2128.41 682.542 L2128.41 718.56 L2124.15 718.56 L2124.15 714.671 Q2122.81 716.986 2120.75 718.12 Q2118.71 719.231 2115.84 719.231 Q2111.14 719.231 2108.18 715.481 Q2105.24 711.731 2105.24 705.62 Q2105.24 699.509 2108.18 695.759 Q2111.14 692.009 2115.84 692.009 Q2118.71 692.009 2120.75 693.143 Q2122.81 694.255 2124.15 696.569 M2109.64 705.62 Q2109.64 710.319 2111.56 713.004 Q2113.5 715.666 2116.88 715.666 Q2120.26 715.666 2122.21 713.004 Q2124.15 710.319 2124.15 705.62 Q2124.15 700.921 2122.21 698.259 Q2120.26 695.574 2116.88 695.574 Q2113.5 695.574 2111.56 698.259 Q2109.64 700.921 2109.64 705.62 Z\" fill=\"#000000\" fill-rule=\"evenodd\" fill-opacity=\"1\" /><path clip-path=\"url(#clip230)\" d=\"M2159.36 704.532 L2159.36 706.616 L2139.78 706.616 Q2140.05 711.014 2142.41 713.329 Q2144.8 715.62 2149.03 715.62 Q2151.49 715.62 2153.78 715.018 Q2156.09 714.417 2158.36 713.213 L2158.36 717.241 Q2156.07 718.213 2153.66 718.722 Q2151.26 719.231 2148.78 719.231 Q2142.58 719.231 2138.94 715.62 Q2135.33 712.009 2135.33 705.852 Q2135.33 699.486 2138.76 695.759 Q2142.21 692.009 2148.04 692.009 Q2153.27 692.009 2156.3 695.389 Q2159.36 698.745 2159.36 704.532 M2155.1 703.282 Q2155.05 699.787 2153.13 697.704 Q2151.23 695.62 2148.09 695.62 Q2144.52 695.62 2142.37 697.634 Q2140.24 699.648 2139.91 703.305 L2155.1 703.282 Z\" fill=\"#000000\" fill-rule=\"evenodd\" fill-opacity=\"1\" /><path clip-path=\"url(#clip230)\" d=\"M2166.35 682.542 L2170.61 682.542 L2170.61 718.56 L2166.35 718.56 L2166.35 682.542 Z\" fill=\"#000000\" fill-rule=\"evenodd\" fill-opacity=\"1\" /><path clip-path=\"url(#clip230)\" d=\"M2191.3 705.528 Q2186.14 705.528 2184.15 706.708 Q2182.16 707.889 2182.16 710.736 Q2182.16 713.004 2183.64 714.347 Q2185.15 715.666 2187.71 715.666 Q2191.26 715.666 2193.39 713.167 Q2195.54 710.643 2195.54 706.477 L2195.54 705.528 L2191.3 705.528 M2199.8 703.768 L2199.8 718.56 L2195.54 718.56 L2195.54 714.625 Q2194.08 716.986 2191.9 718.12 Q2189.73 719.231 2186.58 719.231 Q2182.6 719.231 2180.24 717.009 Q2177.9 714.764 2177.9 711.014 Q2177.9 706.639 2180.82 704.417 Q2183.76 702.194 2189.57 702.194 L2195.54 702.194 L2195.54 701.778 Q2195.54 698.838 2193.59 697.241 Q2191.67 695.62 2188.18 695.62 Q2185.96 695.62 2183.85 696.153 Q2181.74 696.685 2179.8 697.75 L2179.8 693.815 Q2182.14 692.912 2184.34 692.472 Q2186.53 692.009 2188.62 692.009 Q2194.24 692.009 2197.02 694.926 Q2199.8 697.843 2199.8 703.768 Z\" fill=\"#000000\" fill-rule=\"evenodd\" fill-opacity=\"1\" /><path clip-path=\"url(#clip230)\" d=\"M2219.36 720.967 Q2217.55 725.597 2215.84 727.009 Q2214.13 728.421 2211.26 728.421 L2207.85 728.421 L2207.85 724.856 L2210.35 724.856 Q2212.11 724.856 2213.09 724.023 Q2214.06 723.19 2215.24 720.088 L2216 718.143 L2205.52 692.634 L2210.03 692.634 L2218.13 712.912 L2226.23 692.634 L2230.75 692.634 L2219.36 720.967 Z\" fill=\"#000000\" fill-rule=\"evenodd\" fill-opacity=\"1\" /><polyline clip-path=\"url(#clip230)\" style=\"stroke:#e26f46; stroke-linecap:butt; stroke-linejoin:round; stroke-width:4; stroke-opacity:1; fill:none\" points=\"\n",
       "  1454.98,753.12 1601.39,753.12 \n",
       "  \"/>\n",
       "<path clip-path=\"url(#clip230)\" d=\"M1625.8 735.84 L1655.03 735.84 L1655.03 739.775 L1642.76 739.775 L1642.76 770.4 L1638.07 770.4 L1638.07 739.775 L1625.8 739.775 L1625.8 735.84 Z\" fill=\"#000000\" fill-rule=\"evenodd\" fill-opacity=\"1\" /><path clip-path=\"url(#clip230)\" d=\"M1667.42 748.456 Q1666.7 748.039 1665.84 747.854 Q1665.01 747.645 1663.99 747.645 Q1660.38 747.645 1658.44 750.007 Q1656.51 752.345 1656.51 756.743 L1656.51 770.4 L1652.23 770.4 L1652.23 744.474 L1656.51 744.474 L1656.51 748.502 Q1657.86 746.141 1660.01 745.007 Q1662.16 743.849 1665.24 743.849 Q1665.68 743.849 1666.21 743.919 Q1666.75 743.965 1667.39 744.081 L1667.42 748.456 Z\" fill=\"#000000\" fill-rule=\"evenodd\" fill-opacity=\"1\" /><path clip-path=\"url(#clip230)\" d=\"M1671.44 760.169 L1671.44 744.474 L1675.7 744.474 L1675.7 760.007 Q1675.7 763.687 1677.14 765.539 Q1678.57 767.368 1681.44 767.368 Q1684.89 767.368 1686.88 765.169 Q1688.9 762.969 1688.9 759.173 L1688.9 744.474 L1693.16 744.474 L1693.16 770.4 L1688.9 770.4 L1688.9 766.419 Q1687.35 768.78 1685.29 769.937 Q1683.25 771.071 1680.54 771.071 Q1676.07 771.071 1673.76 768.294 Q1671.44 765.516 1671.44 760.169 M1682.16 743.849 L1682.16 743.849 Z\" fill=\"#000000\" fill-rule=\"evenodd\" fill-opacity=\"1\" /><path clip-path=\"url(#clip230)\" d=\"M1724.11 756.372 L1724.11 758.456 L1704.52 758.456 Q1704.8 762.854 1707.16 765.169 Q1709.55 767.46 1713.78 767.46 Q1716.24 767.46 1718.53 766.858 Q1720.84 766.257 1723.11 765.053 L1723.11 769.081 Q1720.82 770.053 1718.41 770.562 Q1716 771.071 1713.53 771.071 Q1707.32 771.071 1703.69 767.46 Q1700.08 763.849 1700.08 757.692 Q1700.08 751.326 1703.5 747.599 Q1706.95 743.849 1712.79 743.849 Q1718.02 743.849 1721.05 747.229 Q1724.11 750.585 1724.11 756.372 M1719.85 755.122 Q1719.8 751.627 1717.88 749.544 Q1715.98 747.46 1712.83 747.46 Q1709.27 747.46 1707.12 749.474 Q1704.99 751.488 1704.66 755.145 L1719.85 755.122 Z\" fill=\"#000000\" fill-rule=\"evenodd\" fill-opacity=\"1\" /><path clip-path=\"url(#clip230)\" d=\"M1746.17 744.474 L1750.43 744.474 L1750.43 770.4 L1746.17 770.4 L1746.17 744.474 M1746.17 734.382 L1750.43 734.382 L1750.43 739.775 L1746.17 739.775 L1746.17 734.382 Z\" fill=\"#000000\" fill-rule=\"evenodd\" fill-opacity=\"1\" /><path clip-path=\"url(#clip230)\" d=\"M1780.89 754.752 L1780.89 770.4 L1776.63 770.4 L1776.63 754.891 Q1776.63 751.21 1775.19 749.382 Q1773.76 747.553 1770.89 747.553 Q1767.44 747.553 1765.45 749.752 Q1763.46 751.951 1763.46 755.747 L1763.46 770.4 L1759.18 770.4 L1759.18 744.474 L1763.46 744.474 L1763.46 748.502 Q1764.99 746.164 1767.05 745.007 Q1769.13 743.849 1771.84 743.849 Q1776.31 743.849 1778.6 746.627 Q1780.89 749.382 1780.89 754.752 Z\" fill=\"#000000\" fill-rule=\"evenodd\" fill-opacity=\"1\" /><path clip-path=\"url(#clip230)\" d=\"M1802.51 734.382 L1802.51 737.923 L1798.43 737.923 Q1796.14 737.923 1795.24 738.849 Q1794.36 739.775 1794.36 742.183 L1794.36 744.474 L1801.37 744.474 L1801.37 747.784 L1794.36 747.784 L1794.36 770.4 L1790.08 770.4 L1790.08 747.784 L1786 747.784 L1786 744.474 L1790.08 744.474 L1790.08 742.669 Q1790.08 738.34 1792.09 736.372 Q1794.11 734.382 1798.48 734.382 L1802.51 734.382 Z\" fill=\"#000000\" fill-rule=\"evenodd\" fill-opacity=\"1\" /><path clip-path=\"url(#clip230)\" d=\"M1828.25 756.372 L1828.25 758.456 L1808.67 758.456 Q1808.94 762.854 1811.3 765.169 Q1813.69 767.46 1817.93 767.46 Q1820.38 767.46 1822.67 766.858 Q1824.99 766.257 1827.25 765.053 L1827.25 769.081 Q1824.96 770.053 1822.55 770.562 Q1820.15 771.071 1817.67 771.071 Q1811.47 771.071 1807.83 767.46 Q1804.22 763.849 1804.22 757.692 Q1804.22 751.326 1807.65 747.599 Q1811.1 743.849 1816.93 743.849 Q1822.16 743.849 1825.19 747.229 Q1828.25 750.585 1828.25 756.372 M1823.99 755.122 Q1823.94 751.627 1822.02 749.544 Q1820.12 747.46 1816.98 747.46 Q1813.41 747.46 1811.26 749.474 Q1809.13 751.488 1808.8 755.145 L1823.99 755.122 Z\" fill=\"#000000\" fill-rule=\"evenodd\" fill-opacity=\"1\" /><path clip-path=\"url(#clip230)\" d=\"M1853.9 745.47 L1853.9 749.451 Q1852.09 748.456 1850.26 747.97 Q1848.46 747.46 1846.61 747.46 Q1842.46 747.46 1840.17 750.099 Q1837.88 752.715 1837.88 757.46 Q1837.88 762.206 1840.17 764.844 Q1842.46 767.46 1846.61 767.46 Q1848.46 767.46 1850.26 766.974 Q1852.09 766.465 1853.9 765.469 L1853.9 769.405 Q1852.11 770.238 1850.19 770.655 Q1848.3 771.071 1846.14 771.071 Q1840.29 771.071 1836.84 767.391 Q1833.39 763.71 1833.39 757.46 Q1833.39 751.118 1836.86 747.483 Q1840.36 743.849 1846.42 743.849 Q1848.39 743.849 1850.26 744.266 Q1852.14 744.659 1853.9 745.47 Z\" fill=\"#000000\" fill-rule=\"evenodd\" fill-opacity=\"1\" /><path clip-path=\"url(#clip230)\" d=\"M1865.52 737.113 L1865.52 744.474 L1874.29 744.474 L1874.29 747.784 L1865.52 747.784 L1865.52 761.858 Q1865.52 765.03 1866.37 765.932 Q1867.25 766.835 1869.92 766.835 L1874.29 766.835 L1874.29 770.4 L1869.92 770.4 Q1864.99 770.4 1863.11 768.571 Q1861.24 766.719 1861.24 761.858 L1861.24 747.784 L1858.11 747.784 L1858.11 744.474 L1861.24 744.474 L1861.24 737.113 L1865.52 737.113 Z\" fill=\"#000000\" fill-rule=\"evenodd\" fill-opacity=\"1\" /><path clip-path=\"url(#clip230)\" d=\"M1879.89 744.474 L1884.15 744.474 L1884.15 770.4 L1879.89 770.4 L1879.89 744.474 M1879.89 734.382 L1884.15 734.382 L1884.15 739.775 L1879.89 739.775 L1879.89 734.382 Z\" fill=\"#000000\" fill-rule=\"evenodd\" fill-opacity=\"1\" /><path clip-path=\"url(#clip230)\" d=\"M1903.11 747.46 Q1899.68 747.46 1897.69 750.145 Q1895.7 752.808 1895.7 757.46 Q1895.7 762.113 1897.67 764.798 Q1899.66 767.46 1903.11 767.46 Q1906.51 767.46 1908.5 764.775 Q1910.49 762.09 1910.49 757.46 Q1910.49 752.854 1908.5 750.169 Q1906.51 747.46 1903.11 747.46 M1903.11 743.849 Q1908.67 743.849 1911.84 747.46 Q1915.01 751.071 1915.01 757.46 Q1915.01 763.826 1911.84 767.46 Q1908.67 771.071 1903.11 771.071 Q1897.53 771.071 1894.36 767.46 Q1891.21 763.826 1891.21 757.46 Q1891.21 751.071 1894.36 747.46 Q1897.53 743.849 1903.11 743.849 Z\" fill=\"#000000\" fill-rule=\"evenodd\" fill-opacity=\"1\" /><path clip-path=\"url(#clip230)\" d=\"M1943.62 754.752 L1943.62 770.4 L1939.36 770.4 L1939.36 754.891 Q1939.36 751.21 1937.92 749.382 Q1936.49 747.553 1933.62 747.553 Q1930.17 747.553 1928.18 749.752 Q1926.19 751.951 1926.19 755.747 L1926.19 770.4 L1921.91 770.4 L1921.91 744.474 L1926.19 744.474 L1926.19 748.502 Q1927.72 746.164 1929.78 745.007 Q1931.86 743.849 1934.57 743.849 Q1939.04 743.849 1941.33 746.627 Q1943.62 749.382 1943.62 754.752 Z\" fill=\"#000000\" fill-rule=\"evenodd\" fill-opacity=\"1\" /><path clip-path=\"url(#clip230)\" d=\"M1984.24 748.409 L1984.24 734.382 L1988.5 734.382 L1988.5 770.4 L1984.24 770.4 L1984.24 766.511 Q1982.9 768.826 1980.84 769.96 Q1978.8 771.071 1975.93 771.071 Q1971.23 771.071 1968.27 767.321 Q1965.33 763.571 1965.33 757.46 Q1965.33 751.349 1968.27 747.599 Q1971.23 743.849 1975.93 743.849 Q1978.8 743.849 1980.84 744.983 Q1982.9 746.095 1984.24 748.409 M1969.73 757.46 Q1969.73 762.159 1971.65 764.844 Q1973.6 767.506 1976.98 767.506 Q1980.35 767.506 1982.3 764.844 Q1984.24 762.159 1984.24 757.46 Q1984.24 752.761 1982.3 750.099 Q1980.35 747.414 1976.98 747.414 Q1973.6 747.414 1971.65 750.099 Q1969.73 752.761 1969.73 757.46 Z\" fill=\"#000000\" fill-rule=\"evenodd\" fill-opacity=\"1\" /><path clip-path=\"url(#clip230)\" d=\"M2019.45 756.372 L2019.45 758.456 L1999.87 758.456 Q2000.15 762.854 2002.51 765.169 Q2004.89 767.46 2009.13 767.46 Q2011.58 767.46 2013.87 766.858 Q2016.19 766.257 2018.46 765.053 L2018.46 769.081 Q2016.16 770.053 2013.76 770.562 Q2011.35 771.071 2008.87 771.071 Q2002.67 771.071 1999.04 767.46 Q1995.42 763.849 1995.42 757.692 Q1995.42 751.326 1998.85 747.599 Q2002.3 743.849 2008.13 743.849 Q2013.36 743.849 2016.4 747.229 Q2019.45 750.585 2019.45 756.372 M2015.19 755.122 Q2015.15 751.627 2013.23 749.544 Q2011.33 747.46 2008.18 747.46 Q2004.61 747.46 2002.46 749.474 Q2000.33 751.488 2000.01 755.145 L2015.19 755.122 Z\" fill=\"#000000\" fill-rule=\"evenodd\" fill-opacity=\"1\" /><path clip-path=\"url(#clip230)\" d=\"M2026.44 734.382 L2030.7 734.382 L2030.7 770.4 L2026.44 770.4 L2026.44 734.382 Z\" fill=\"#000000\" fill-rule=\"evenodd\" fill-opacity=\"1\" /><path clip-path=\"url(#clip230)\" d=\"M2051.4 757.368 Q2046.23 757.368 2044.24 758.548 Q2042.25 759.729 2042.25 762.576 Q2042.25 764.844 2043.73 766.187 Q2045.24 767.506 2047.81 767.506 Q2051.35 767.506 2053.48 765.007 Q2055.63 762.483 2055.63 758.317 L2055.63 757.368 L2051.4 757.368 M2059.89 755.608 L2059.89 770.4 L2055.63 770.4 L2055.63 766.465 Q2054.17 768.826 2052 769.96 Q2049.82 771.071 2046.67 771.071 Q2042.69 771.071 2040.33 768.849 Q2037.99 766.604 2037.99 762.854 Q2037.99 758.479 2040.91 756.257 Q2043.85 754.034 2049.66 754.034 L2055.63 754.034 L2055.63 753.618 Q2055.63 750.678 2053.69 749.081 Q2051.77 747.46 2048.27 747.46 Q2046.05 747.46 2043.94 747.993 Q2041.84 748.525 2039.89 749.59 L2039.89 745.655 Q2042.23 744.752 2044.43 744.312 Q2046.63 743.849 2048.71 743.849 Q2054.34 743.849 2057.11 746.766 Q2059.89 749.683 2059.89 755.608 Z\" fill=\"#000000\" fill-rule=\"evenodd\" fill-opacity=\"1\" /><path clip-path=\"url(#clip230)\" d=\"M2079.45 772.807 Q2077.65 777.437 2075.93 778.849 Q2074.22 780.261 2071.35 780.261 L2067.95 780.261 L2067.95 776.696 L2070.45 776.696 Q2072.21 776.696 2073.18 775.863 Q2074.15 775.03 2075.33 771.928 L2076.1 769.983 L2065.61 744.474 L2070.12 744.474 L2078.22 764.752 L2086.33 744.474 L2090.84 744.474 L2079.45 772.807 Z\" fill=\"#000000\" fill-rule=\"evenodd\" fill-opacity=\"1\" /><polyline clip-path=\"url(#clip230)\" style=\"stroke:#3da44d; stroke-linecap:butt; stroke-linejoin:round; stroke-width:4; stroke-opacity:1; fill:none\" points=\"\n",
       "  1454.98,804.96 1601.39,804.96 \n",
       "  \"/>\n",
       "<path clip-path=\"url(#clip230)\" d=\"M1625.8 787.68 L1655.03 787.68 L1655.03 791.615 L1642.76 791.615 L1642.76 822.24 L1638.07 822.24 L1638.07 791.615 L1625.8 791.615 L1625.8 787.68 Z\" fill=\"#000000\" fill-rule=\"evenodd\" fill-opacity=\"1\" /><path clip-path=\"url(#clip230)\" d=\"M1667.42 800.296 Q1666.7 799.879 1665.84 799.694 Q1665.01 799.485 1663.99 799.485 Q1660.38 799.485 1658.44 801.847 Q1656.51 804.185 1656.51 808.583 L1656.51 822.24 L1652.23 822.24 L1652.23 796.314 L1656.51 796.314 L1656.51 800.342 Q1657.86 797.981 1660.01 796.847 Q1662.16 795.689 1665.24 795.689 Q1665.68 795.689 1666.21 795.759 Q1666.75 795.805 1667.39 795.921 L1667.42 800.296 Z\" fill=\"#000000\" fill-rule=\"evenodd\" fill-opacity=\"1\" /><path clip-path=\"url(#clip230)\" d=\"M1671.44 812.009 L1671.44 796.314 L1675.7 796.314 L1675.7 811.847 Q1675.7 815.527 1677.14 817.379 Q1678.57 819.208 1681.44 819.208 Q1684.89 819.208 1686.88 817.009 Q1688.9 814.809 1688.9 811.013 L1688.9 796.314 L1693.16 796.314 L1693.16 822.24 L1688.9 822.24 L1688.9 818.259 Q1687.35 820.62 1685.29 821.777 Q1683.25 822.911 1680.54 822.911 Q1676.07 822.911 1673.76 820.134 Q1671.44 817.356 1671.44 812.009 M1682.16 795.689 L1682.16 795.689 Z\" fill=\"#000000\" fill-rule=\"evenodd\" fill-opacity=\"1\" /><path clip-path=\"url(#clip230)\" d=\"M1724.11 808.212 L1724.11 810.296 L1704.52 810.296 Q1704.8 814.694 1707.16 817.009 Q1709.55 819.3 1713.78 819.3 Q1716.24 819.3 1718.53 818.698 Q1720.84 818.097 1723.11 816.893 L1723.11 820.921 Q1720.82 821.893 1718.41 822.402 Q1716 822.911 1713.53 822.911 Q1707.32 822.911 1703.69 819.3 Q1700.08 815.689 1700.08 809.532 Q1700.08 803.166 1703.5 799.439 Q1706.95 795.689 1712.79 795.689 Q1718.02 795.689 1721.05 799.069 Q1724.11 802.425 1724.11 808.212 M1719.85 806.962 Q1719.8 803.467 1717.88 801.384 Q1715.98 799.3 1712.83 799.3 Q1709.27 799.3 1707.12 801.314 Q1704.99 803.328 1704.66 806.985 L1719.85 806.962 Z\" fill=\"#000000\" fill-rule=\"evenodd\" fill-opacity=\"1\" /><path clip-path=\"url(#clip230)\" d=\"M1746.17 786.222 L1750.43 786.222 L1750.43 822.24 L1746.17 822.24 L1746.17 786.222 Z\" fill=\"#000000\" fill-rule=\"evenodd\" fill-opacity=\"1\" /><path clip-path=\"url(#clip230)\" d=\"M1771.12 809.208 Q1765.96 809.208 1763.97 810.388 Q1761.98 811.569 1761.98 814.416 Q1761.98 816.684 1763.46 818.027 Q1764.96 819.346 1767.53 819.346 Q1771.07 819.346 1773.2 816.847 Q1775.36 814.323 1775.36 810.157 L1775.36 809.208 L1771.12 809.208 M1779.62 807.448 L1779.62 822.24 L1775.36 822.24 L1775.36 818.305 Q1773.9 820.666 1771.72 821.8 Q1769.55 822.911 1766.4 822.911 Q1762.42 822.911 1760.06 820.689 Q1757.72 818.444 1757.72 814.694 Q1757.72 810.319 1760.63 808.097 Q1763.57 805.874 1769.38 805.874 L1775.36 805.874 L1775.36 805.458 Q1775.36 802.518 1773.41 800.921 Q1771.49 799.3 1767.99 799.3 Q1765.77 799.3 1763.67 799.833 Q1761.56 800.365 1759.62 801.43 L1759.62 797.495 Q1761.95 796.592 1764.15 796.152 Q1766.35 795.689 1768.43 795.689 Q1774.06 795.689 1776.84 798.606 Q1779.62 801.523 1779.62 807.448 Z\" fill=\"#000000\" fill-rule=\"evenodd\" fill-opacity=\"1\" /><path clip-path=\"url(#clip230)\" d=\"M1792.6 788.953 L1792.6 796.314 L1801.37 796.314 L1801.37 799.624 L1792.6 799.624 L1792.6 813.698 Q1792.6 816.87 1793.46 817.772 Q1794.34 818.675 1797 818.675 L1801.37 818.675 L1801.37 822.24 L1797 822.24 Q1792.07 822.24 1790.19 820.411 Q1788.32 818.559 1788.32 813.698 L1788.32 799.624 L1785.19 799.624 L1785.19 796.314 L1788.32 796.314 L1788.32 788.953 L1792.6 788.953 Z\" fill=\"#000000\" fill-rule=\"evenodd\" fill-opacity=\"1\" /><path clip-path=\"url(#clip230)\" d=\"M1829.15 808.212 L1829.15 810.296 L1809.57 810.296 Q1809.85 814.694 1812.21 817.009 Q1814.59 819.3 1818.83 819.3 Q1821.28 819.3 1823.57 818.698 Q1825.89 818.097 1828.16 816.893 L1828.16 820.921 Q1825.87 821.893 1823.46 822.402 Q1821.05 822.911 1818.57 822.911 Q1812.37 822.911 1808.74 819.3 Q1805.12 815.689 1805.12 809.532 Q1805.12 803.166 1808.55 799.439 Q1812 795.689 1817.83 795.689 Q1823.06 795.689 1826.1 799.069 Q1829.15 802.425 1829.15 808.212 M1824.89 806.962 Q1824.85 803.467 1822.93 801.384 Q1821.03 799.3 1817.88 799.3 Q1814.31 799.3 1812.16 801.314 Q1810.03 803.328 1809.71 806.985 L1824.89 806.962 Z\" fill=\"#000000\" fill-rule=\"evenodd\" fill-opacity=\"1\" /><path clip-path=\"url(#clip230)\" d=\"M1857.69 806.592 L1857.69 822.24 L1853.43 822.24 L1853.43 806.731 Q1853.43 803.05 1852 801.222 Q1850.56 799.393 1847.69 799.393 Q1844.24 799.393 1842.25 801.592 Q1840.26 803.791 1840.26 807.587 L1840.26 822.24 L1835.98 822.24 L1835.98 796.314 L1840.26 796.314 L1840.26 800.342 Q1841.79 798.004 1843.85 796.847 Q1845.93 795.689 1848.64 795.689 Q1853.11 795.689 1855.4 798.467 Q1857.69 801.222 1857.69 806.592 Z\" fill=\"#000000\" fill-rule=\"evenodd\" fill-opacity=\"1\" /><path clip-path=\"url(#clip230)\" d=\"M1884.85 797.31 L1884.85 801.291 Q1883.04 800.296 1881.21 799.81 Q1879.41 799.3 1877.55 799.3 Q1873.41 799.3 1871.12 801.939 Q1868.83 804.555 1868.83 809.3 Q1868.83 814.046 1871.12 816.684 Q1873.41 819.3 1877.55 819.3 Q1879.41 819.3 1881.21 818.814 Q1883.04 818.305 1884.85 817.309 L1884.85 821.245 Q1883.06 822.078 1881.14 822.495 Q1879.24 822.911 1877.09 822.911 Q1871.24 822.911 1867.79 819.231 Q1864.34 815.55 1864.34 809.3 Q1864.34 802.958 1867.81 799.323 Q1871.3 795.689 1877.37 795.689 Q1879.34 795.689 1881.21 796.106 Q1883.09 796.499 1884.85 797.31 Z\" fill=\"#000000\" fill-rule=\"evenodd\" fill-opacity=\"1\" /><path clip-path=\"url(#clip230)\" d=\"M1903.04 824.647 Q1901.24 829.277 1899.52 830.689 Q1897.81 832.101 1894.94 832.101 L1891.54 832.101 L1891.54 828.536 L1894.04 828.536 Q1895.8 828.536 1896.77 827.703 Q1897.74 826.87 1898.92 823.768 L1899.68 821.823 L1889.2 796.314 L1893.71 796.314 L1901.81 816.592 L1909.92 796.314 L1914.43 796.314 L1903.04 824.647 Z\" fill=\"#000000\" fill-rule=\"evenodd\" fill-opacity=\"1\" /><path clip-path=\"url(#clip230)\" d=\"M1952.44 800.249 L1952.44 786.222 L1956.7 786.222 L1956.7 822.24 L1952.44 822.24 L1952.44 818.351 Q1951.1 820.666 1949.04 821.8 Q1947 822.911 1944.13 822.911 Q1939.43 822.911 1936.47 819.161 Q1933.53 815.411 1933.53 809.3 Q1933.53 803.189 1936.47 799.439 Q1939.43 795.689 1944.13 795.689 Q1947 795.689 1949.04 796.823 Q1951.1 797.935 1952.44 800.249 M1937.92 809.3 Q1937.92 813.999 1939.85 816.684 Q1941.79 819.346 1945.17 819.346 Q1948.55 819.346 1950.49 816.684 Q1952.44 813.999 1952.44 809.3 Q1952.44 804.601 1950.49 801.939 Q1948.55 799.254 1945.17 799.254 Q1941.79 799.254 1939.85 801.939 Q1937.92 804.601 1937.92 809.3 Z\" fill=\"#000000\" fill-rule=\"evenodd\" fill-opacity=\"1\" /><path clip-path=\"url(#clip230)\" d=\"M1987.65 808.212 L1987.65 810.296 L1968.06 810.296 Q1968.34 814.694 1970.7 817.009 Q1973.09 819.3 1977.32 819.3 Q1979.78 819.3 1982.07 818.698 Q1984.38 818.097 1986.65 816.893 L1986.65 820.921 Q1984.36 821.893 1981.95 822.402 Q1979.54 822.911 1977.07 822.911 Q1970.86 822.911 1967.23 819.3 Q1963.62 815.689 1963.62 809.532 Q1963.62 803.166 1967.04 799.439 Q1970.49 795.689 1976.33 795.689 Q1981.56 795.689 1984.59 799.069 Q1987.65 802.425 1987.65 808.212 M1983.39 806.962 Q1983.34 803.467 1981.42 801.384 Q1979.52 799.3 1976.37 799.3 Q1972.81 799.3 1970.66 801.314 Q1968.53 803.328 1968.2 806.985 L1983.39 806.962 Z\" fill=\"#000000\" fill-rule=\"evenodd\" fill-opacity=\"1\" /><path clip-path=\"url(#clip230)\" d=\"M1994.64 786.222 L1998.9 786.222 L1998.9 822.24 L1994.64 822.24 L1994.64 786.222 Z\" fill=\"#000000\" fill-rule=\"evenodd\" fill-opacity=\"1\" /><path clip-path=\"url(#clip230)\" d=\"M2019.59 809.208 Q2014.43 809.208 2012.44 810.388 Q2010.45 811.569 2010.45 814.416 Q2010.45 816.684 2011.93 818.027 Q2013.43 819.346 2016 819.346 Q2019.54 819.346 2021.67 816.847 Q2023.83 814.323 2023.83 810.157 L2023.83 809.208 L2019.59 809.208 M2028.09 807.448 L2028.09 822.24 L2023.83 822.24 L2023.83 818.305 Q2022.37 820.666 2020.19 821.8 Q2018.02 822.911 2014.87 822.911 Q2010.89 822.911 2008.53 820.689 Q2006.19 818.444 2006.19 814.694 Q2006.19 810.319 2009.1 808.097 Q2012.04 805.874 2017.85 805.874 L2023.83 805.874 L2023.83 805.458 Q2023.83 802.518 2021.88 800.921 Q2019.96 799.3 2016.47 799.3 Q2014.24 799.3 2012.14 799.833 Q2010.03 800.365 2008.09 801.43 L2008.09 797.495 Q2010.42 796.592 2012.62 796.152 Q2014.82 795.689 2016.91 795.689 Q2022.53 795.689 2025.31 798.606 Q2028.09 801.523 2028.09 807.448 Z\" fill=\"#000000\" fill-rule=\"evenodd\" fill-opacity=\"1\" /><path clip-path=\"url(#clip230)\" d=\"M2047.65 824.647 Q2045.84 829.277 2044.13 830.689 Q2042.41 832.101 2039.54 832.101 L2036.14 832.101 L2036.14 828.536 L2038.64 828.536 Q2040.4 828.536 2041.37 827.703 Q2042.35 826.87 2043.53 823.768 L2044.29 821.823 L2033.8 796.314 L2038.32 796.314 L2046.42 816.592 L2054.52 796.314 L2059.04 796.314 L2047.65 824.647 Z\" fill=\"#000000\" fill-rule=\"evenodd\" fill-opacity=\"1\" /><polyline clip-path=\"url(#clip230)\" style=\"stroke:#c271d2; stroke-linecap:butt; stroke-linejoin:round; stroke-width:4; stroke-opacity:1; fill:none\" points=\"\n",
       "  1454.98,856.8 1601.39,856.8 \n",
       "  \"/>\n",
       "<path clip-path=\"url(#clip230)\" d=\"M1625.8 839.52 L1655.03 839.52 L1655.03 843.455 L1642.76 843.455 L1642.76 874.08 L1638.07 874.08 L1638.07 843.455 L1625.8 843.455 L1625.8 839.52 Z\" fill=\"#000000\" fill-rule=\"evenodd\" fill-opacity=\"1\" /><path clip-path=\"url(#clip230)\" d=\"M1667.42 852.136 Q1666.7 851.719 1665.84 851.534 Q1665.01 851.325 1663.99 851.325 Q1660.38 851.325 1658.44 853.687 Q1656.51 856.025 1656.51 860.423 L1656.51 874.08 L1652.23 874.08 L1652.23 848.154 L1656.51 848.154 L1656.51 852.182 Q1657.86 849.821 1660.01 848.687 Q1662.16 847.529 1665.24 847.529 Q1665.68 847.529 1666.21 847.599 Q1666.75 847.645 1667.39 847.761 L1667.42 852.136 Z\" fill=\"#000000\" fill-rule=\"evenodd\" fill-opacity=\"1\" /><path clip-path=\"url(#clip230)\" d=\"M1671.44 863.849 L1671.44 848.154 L1675.7 848.154 L1675.7 863.687 Q1675.7 867.367 1677.14 869.219 Q1678.57 871.048 1681.44 871.048 Q1684.89 871.048 1686.88 868.849 Q1688.9 866.649 1688.9 862.853 L1688.9 848.154 L1693.16 848.154 L1693.16 874.08 L1688.9 874.08 L1688.9 870.099 Q1687.35 872.46 1685.29 873.617 Q1683.25 874.751 1680.54 874.751 Q1676.07 874.751 1673.76 871.974 Q1671.44 869.196 1671.44 863.849 M1682.16 847.529 L1682.16 847.529 Z\" fill=\"#000000\" fill-rule=\"evenodd\" fill-opacity=\"1\" /><path clip-path=\"url(#clip230)\" d=\"M1724.11 860.052 L1724.11 862.136 L1704.52 862.136 Q1704.8 866.534 1707.16 868.849 Q1709.55 871.14 1713.78 871.14 Q1716.24 871.14 1718.53 870.538 Q1720.84 869.937 1723.11 868.733 L1723.11 872.761 Q1720.82 873.733 1718.41 874.242 Q1716 874.751 1713.53 874.751 Q1707.32 874.751 1703.69 871.14 Q1700.08 867.529 1700.08 861.372 Q1700.08 855.006 1703.5 851.279 Q1706.95 847.529 1712.79 847.529 Q1718.02 847.529 1721.05 850.909 Q1724.11 854.265 1724.11 860.052 M1719.85 858.802 Q1719.8 855.307 1717.88 853.224 Q1715.98 851.14 1712.83 851.14 Q1709.27 851.14 1707.12 853.154 Q1704.99 855.168 1704.66 858.825 L1719.85 858.802 Z\" fill=\"#000000\" fill-rule=\"evenodd\" fill-opacity=\"1\" /><path clip-path=\"url(#clip230)\" d=\"M1761.19 852.136 Q1760.47 851.719 1759.62 851.534 Q1758.78 851.325 1757.76 851.325 Q1754.15 851.325 1752.21 853.687 Q1750.29 856.025 1750.29 860.423 L1750.29 874.08 L1746 874.08 L1746 848.154 L1750.29 848.154 L1750.29 852.182 Q1751.63 849.821 1753.78 848.687 Q1755.93 847.529 1759.01 847.529 Q1759.45 847.529 1759.99 847.599 Q1760.52 847.645 1761.17 847.761 L1761.19 852.136 Z\" fill=\"#000000\" fill-rule=\"evenodd\" fill-opacity=\"1\" /><path clip-path=\"url(#clip230)\" d=\"M1786.79 860.052 L1786.79 862.136 L1767.21 862.136 Q1767.49 866.534 1769.85 868.849 Q1772.23 871.14 1776.47 871.14 Q1778.92 871.14 1781.21 870.538 Q1783.53 869.937 1785.8 868.733 L1785.8 872.761 Q1783.5 873.733 1781.1 874.242 Q1778.69 874.751 1776.21 874.751 Q1770.01 874.751 1766.37 871.14 Q1762.76 867.529 1762.76 861.372 Q1762.76 855.006 1766.19 851.279 Q1769.64 847.529 1775.47 847.529 Q1780.7 847.529 1783.74 850.909 Q1786.79 854.265 1786.79 860.052 M1782.53 858.802 Q1782.49 855.307 1780.56 853.224 Q1778.67 851.14 1775.52 851.14 Q1771.95 851.14 1769.8 853.154 Q1767.67 855.168 1767.35 858.825 L1782.53 858.802 Z\" fill=\"#000000\" fill-rule=\"evenodd\" fill-opacity=\"1\" /><path clip-path=\"url(#clip230)\" d=\"M1812.44 849.15 L1812.44 853.131 Q1810.63 852.136 1808.8 851.65 Q1807 851.14 1805.15 851.14 Q1801 851.14 1798.71 853.779 Q1796.42 856.395 1796.42 861.14 Q1796.42 865.886 1798.71 868.524 Q1801 871.14 1805.15 871.14 Q1807 871.14 1808.8 870.654 Q1810.63 870.145 1812.44 869.149 L1812.44 873.085 Q1810.66 873.918 1808.74 874.335 Q1806.84 874.751 1804.68 874.751 Q1798.83 874.751 1795.38 871.071 Q1791.93 867.39 1791.93 861.14 Q1791.93 854.798 1795.4 851.163 Q1798.9 847.529 1804.96 847.529 Q1806.93 847.529 1808.8 847.946 Q1810.68 848.339 1812.44 849.15 Z\" fill=\"#000000\" fill-rule=\"evenodd\" fill-opacity=\"1\" /><path clip-path=\"url(#clip230)\" d=\"M1829.89 851.14 Q1826.47 851.14 1824.48 853.825 Q1822.49 856.488 1822.49 861.14 Q1822.49 865.793 1824.45 868.478 Q1826.44 871.14 1829.89 871.14 Q1833.3 871.14 1835.29 868.455 Q1837.28 865.77 1837.28 861.14 Q1837.28 856.534 1835.29 853.849 Q1833.3 851.14 1829.89 851.14 M1829.89 847.529 Q1835.45 847.529 1838.62 851.14 Q1841.79 854.751 1841.79 861.14 Q1841.79 867.506 1838.62 871.14 Q1835.45 874.751 1829.89 874.751 Q1824.31 874.751 1821.14 871.14 Q1817.99 867.506 1817.99 861.14 Q1817.99 854.751 1821.14 851.14 Q1824.31 847.529 1829.89 847.529 Z\" fill=\"#000000\" fill-rule=\"evenodd\" fill-opacity=\"1\" /><path clip-path=\"url(#clip230)\" d=\"M1845.8 848.154 L1850.31 848.154 L1858.41 869.913 L1866.51 848.154 L1871.03 848.154 L1861.3 874.08 L1855.52 874.08 L1845.8 848.154 Z\" fill=\"#000000\" fill-rule=\"evenodd\" fill-opacity=\"1\" /><path clip-path=\"url(#clip230)\" d=\"M1899.08 860.052 L1899.08 862.136 L1879.5 862.136 Q1879.78 866.534 1882.14 868.849 Q1884.52 871.14 1888.76 871.14 Q1891.21 871.14 1893.5 870.538 Q1895.82 869.937 1898.09 868.733 L1898.09 872.761 Q1895.8 873.733 1893.39 874.242 Q1890.98 874.751 1888.5 874.751 Q1882.3 874.751 1878.67 871.14 Q1875.05 867.529 1875.05 861.372 Q1875.05 855.006 1878.48 851.279 Q1881.93 847.529 1887.76 847.529 Q1892.99 847.529 1896.03 850.909 Q1899.08 854.265 1899.08 860.052 M1894.82 858.802 Q1894.78 855.307 1892.86 853.224 Q1890.96 851.14 1887.81 851.14 Q1884.24 851.14 1882.09 853.154 Q1879.96 855.168 1879.64 858.825 L1894.82 858.802 Z\" fill=\"#000000\" fill-rule=\"evenodd\" fill-opacity=\"1\" /><path clip-path=\"url(#clip230)\" d=\"M1921.1 852.136 Q1920.38 851.719 1919.52 851.534 Q1918.69 851.325 1917.67 851.325 Q1914.06 851.325 1912.11 853.687 Q1910.19 856.025 1910.19 860.423 L1910.19 874.08 L1905.91 874.08 L1905.91 848.154 L1910.19 848.154 L1910.19 852.182 Q1911.54 849.821 1913.69 848.687 Q1915.84 847.529 1918.92 847.529 Q1919.36 847.529 1919.89 847.599 Q1920.42 847.645 1921.07 847.761 L1921.1 852.136 Z\" fill=\"#000000\" fill-rule=\"evenodd\" fill-opacity=\"1\" /><path clip-path=\"url(#clip230)\" d=\"M1936.35 876.487 Q1934.55 881.117 1932.83 882.529 Q1931.12 883.941 1928.25 883.941 L1924.85 883.941 L1924.85 880.376 L1927.35 880.376 Q1929.11 880.376 1930.08 879.543 Q1931.05 878.71 1932.23 875.608 L1932.99 873.663 L1922.51 848.154 L1927.02 848.154 L1935.12 868.432 L1943.23 848.154 L1947.74 848.154 L1936.35 876.487 Z\" fill=\"#000000\" fill-rule=\"evenodd\" fill-opacity=\"1\" /><path clip-path=\"url(#clip230)\" d=\"M1985.75 852.089 L1985.75 838.062 L1990.01 838.062 L1990.01 874.08 L1985.75 874.08 L1985.75 870.191 Q1984.41 872.506 1982.35 873.64 Q1980.31 874.751 1977.44 874.751 Q1972.74 874.751 1969.78 871.001 Q1966.84 867.251 1966.84 861.14 Q1966.84 855.029 1969.78 851.279 Q1972.74 847.529 1977.44 847.529 Q1980.31 847.529 1982.35 848.663 Q1984.41 849.775 1985.75 852.089 M1971.23 861.14 Q1971.23 865.839 1973.16 868.524 Q1975.1 871.186 1978.48 871.186 Q1981.86 871.186 1983.8 868.524 Q1985.75 865.839 1985.75 861.14 Q1985.75 856.441 1983.8 853.779 Q1981.86 851.094 1978.48 851.094 Q1975.1 851.094 1973.16 853.779 Q1971.23 856.441 1971.23 861.14 Z\" fill=\"#000000\" fill-rule=\"evenodd\" fill-opacity=\"1\" /><path clip-path=\"url(#clip230)\" d=\"M2020.96 860.052 L2020.96 862.136 L2001.37 862.136 Q2001.65 866.534 2004.01 868.849 Q2006.4 871.14 2010.63 871.14 Q2013.09 871.14 2015.38 870.538 Q2017.69 869.937 2019.96 868.733 L2019.96 872.761 Q2017.67 873.733 2015.26 874.242 Q2012.85 874.751 2010.38 874.751 Q2004.17 874.751 2000.54 871.14 Q1996.93 867.529 1996.93 861.372 Q1996.93 855.006 2000.35 851.279 Q2003.8 847.529 2009.64 847.529 Q2014.87 847.529 2017.9 850.909 Q2020.96 854.265 2020.96 860.052 M2016.7 858.802 Q2016.65 855.307 2014.73 853.224 Q2012.83 851.14 2009.68 851.14 Q2006.12 851.14 2003.97 853.154 Q2001.84 855.168 2001.51 858.825 L2016.7 858.802 Z\" fill=\"#000000\" fill-rule=\"evenodd\" fill-opacity=\"1\" /><path clip-path=\"url(#clip230)\" d=\"M2027.95 838.062 L2032.21 838.062 L2032.21 874.08 L2027.95 874.08 L2027.95 838.062 Z\" fill=\"#000000\" fill-rule=\"evenodd\" fill-opacity=\"1\" /><path clip-path=\"url(#clip230)\" d=\"M2052.9 861.048 Q2047.74 861.048 2045.75 862.228 Q2043.76 863.409 2043.76 866.256 Q2043.76 868.524 2045.24 869.867 Q2046.74 871.186 2049.31 871.186 Q2052.85 871.186 2054.98 868.687 Q2057.14 866.163 2057.14 861.997 L2057.14 861.048 L2052.9 861.048 M2061.4 859.288 L2061.4 874.08 L2057.14 874.08 L2057.14 870.145 Q2055.68 872.506 2053.5 873.64 Q2051.33 874.751 2048.18 874.751 Q2044.2 874.751 2041.84 872.529 Q2039.5 870.284 2039.5 866.534 Q2039.5 862.159 2042.41 859.937 Q2045.35 857.714 2051.16 857.714 L2057.14 857.714 L2057.14 857.298 Q2057.14 854.358 2055.19 852.761 Q2053.27 851.14 2049.78 851.14 Q2047.55 851.14 2045.45 851.673 Q2043.34 852.205 2041.4 853.27 L2041.4 849.335 Q2043.73 848.432 2045.93 847.992 Q2048.13 847.529 2050.22 847.529 Q2055.84 847.529 2058.62 850.446 Q2061.4 853.363 2061.4 859.288 Z\" fill=\"#000000\" fill-rule=\"evenodd\" fill-opacity=\"1\" /><path clip-path=\"url(#clip230)\" d=\"M2080.96 876.487 Q2079.15 881.117 2077.44 882.529 Q2075.72 883.941 2072.85 883.941 L2069.45 883.941 L2069.45 880.376 L2071.95 880.376 Q2073.71 880.376 2074.68 879.543 Q2075.66 878.71 2076.84 875.608 L2077.6 873.663 L2067.11 848.154 L2071.63 848.154 L2079.73 868.432 L2087.83 848.154 L2092.35 848.154 L2080.96 876.487 Z\" fill=\"#000000\" fill-rule=\"evenodd\" fill-opacity=\"1\" /></svg>\n"
      ]
     },
     "execution_count": 419,
     "metadata": {},
     "output_type": "execute_result"
    }
   ],
   "source": [
    "using Plots\n",
    "x = LinRange(0,T,Int(T))\n",
    "gauss(a,b,c,x) = a .* exp.(-((x .- b)/c) .^ 2)\n",
    "plot(gauss(MSI.θgen[5], MSI.θgen[6] , MSI.θgen[7], x),label=\"Inferred SI infection delay\",legend=:right,title=\"Hyperparams comparison\")\n",
    "plot!(gauss(inf_out.a,inf_out.b,inf_out.c,x),label=\"True infection delay\")\n",
    "plot!(gauss(l_delay.a, l_delay.b, l_delay.c,x),label=\"True latency delay \")\n",
    "plot!(gauss(r_delay.a, r_delay.b, r_delay.c,x),label=\"True recovery delay \")\n",
    "#plot!(gauss(0.47, 8., sqrt(3.56),x),label=\"True latency delay \")\n",
    "#plot!(gauss(0.23, 16., sqrt(6.),x),label=\"True recovery delay \")\n",
    "#savefig(\"Hyperparams_SEIRvsSI\")"
   ]
  },
  {
   "cell_type": "markdown",
   "metadata": {},
   "source": [
    "## Marginals and ROC curve"
   ]
  },
  {
   "cell_type": "code",
   "execution_count": 420,
   "metadata": {},
   "outputs": [
    {
     "data": {
      "text/plain": [
       "AUROC (generic function with 1 method)"
      ]
     },
     "execution_count": 420,
     "metadata": {},
     "output_type": "execute_result"
    }
   ],
   "source": [
    "function marginal(i, t, stats)\n",
    "    numsamp = size(stats,1)\n",
    "    sum( stats[:,i,1] .< t ) / numsamp\n",
    "end\n",
    "\n",
    "function marginalSI(i, t, stats)\n",
    "    numsamp = size(stats,1)\n",
    "    sum( stats[:,i] .< t ) / numsamp\n",
    "end\n",
    "\n",
    "\n",
    "function tpr(xtrue, rank) \n",
    "    den = sum(xtrue[rank])\n",
    "    if den != 0\n",
    "        return cumsum(xtrue[rank]) ./ den\n",
    "    else\n",
    "        return ones(size(rank))\n",
    "    end\n",
    "end\n",
    "\n",
    "function fpr(xtrue, rank) \n",
    "    N = size(rank,1)\n",
    "    return (range(1,N,length=N) .- cumsum(xtrue[rank])) ./ (range(1,N,length=N) .- cumsum(xtrue[rank]) )[end]\n",
    "end\n",
    "\n",
    "function ROC(xtrue, p)\n",
    "    N = size(xtrue,1)\n",
    "    rank = sortperm(p, rev=true)\n",
    "    \n",
    "    return fpr(xtrue, rank) , tpr(xtrue, rank)\n",
    "end\n",
    "\n",
    "function AUROC(ROC)\n",
    "    N = size(ROC[1],1) \n",
    "    AU = 0\n",
    "    for t = 1:N-1\n",
    "        AU += ROC[2][t] * (ROC[1][t+1] - ROC[1][t])\n",
    "    end\n",
    "    return AU\n",
    "end"
   ]
  },
  {
   "cell_type": "code",
   "execution_count": 421,
   "metadata": {},
   "outputs": [
    {
     "data": {
      "text/plain": [
       "100×3 Matrix{Float64}:\n",
       "  4.64097   6.41536   19.8259\n",
       " 20.0      20.0       20.0\n",
       " 20.0      20.0       20.0\n",
       "  5.57593   7.16263   17.3295\n",
       "  7.66265   7.77203   12.9445\n",
       " 14.6764   14.739     20.0\n",
       " 10.1442   14.3428    18.9674\n",
       " 20.0      20.0       20.0\n",
       "  0.0       0.735106  20.0\n",
       " 12.4514   16.0267    17.1482\n",
       " 14.2768   17.1655    20.0\n",
       " 20.0      20.0       20.0\n",
       " 20.0      20.0       20.0\n",
       "  ⋮                   \n",
       " 20.0      20.0       20.0\n",
       " 20.0      20.0       20.0\n",
       " 20.0      20.0       20.0\n",
       " 12.3316   12.4827    14.447\n",
       " 20.0      20.0       20.0\n",
       " 20.0      20.0       20.0\n",
       " 11.111    16.3886    20.0\n",
       "  3.958     4.93047   17.7051\n",
       " 20.0      20.0       20.0\n",
       " 20.0      20.0       20.0\n",
       " 13.4563   15.8666    20.0\n",
       "  0.0       3.53679   10.0494"
      ]
     },
     "execution_count": 421,
     "metadata": {},
     "output_type": "execute_result"
    }
   ],
   "source": [
    "xtrue"
   ]
  },
  {
   "cell_type": "code",
   "execution_count": 422,
   "metadata": {},
   "outputs": [
    {
     "data": {
      "image/svg+xml": [
       "<?xml version=\"1.0\" encoding=\"utf-8\"?>\n",
       "<svg xmlns=\"http://www.w3.org/2000/svg\" xmlns:xlink=\"http://www.w3.org/1999/xlink\" width=\"600\" height=\"400\" viewBox=\"0 0 2400 1600\">\n",
       "<defs>\n",
       "  <clipPath id=\"clip270\">\n",
       "    <rect x=\"0\" y=\"0\" width=\"2400\" height=\"1600\"/>\n",
       "  </clipPath>\n",
       "</defs>\n",
       "<path clip-path=\"url(#clip270)\" d=\"\n",
       "M0 1600 L2400 1600 L2400 0 L0 0  Z\n",
       "  \" fill=\"#ffffff\" fill-rule=\"evenodd\" fill-opacity=\"1\"/>\n",
       "<defs>\n",
       "  <clipPath id=\"clip271\">\n",
       "    <rect x=\"480\" y=\"0\" width=\"1681\" height=\"1600\"/>\n",
       "  </clipPath>\n",
       "</defs>\n",
       "<path clip-path=\"url(#clip270)\" d=\"\n",
       "M156.598 1486.45 L2352.76 1486.45 L2352.76 47.2441 L156.598 47.2441  Z\n",
       "  \" fill=\"#ffffff\" fill-rule=\"evenodd\" fill-opacity=\"1\"/>\n",
       "<defs>\n",
       "  <clipPath id=\"clip272\">\n",
       "    <rect x=\"156\" y=\"47\" width=\"2197\" height=\"1440\"/>\n",
       "  </clipPath>\n",
       "</defs>\n",
       "<polyline clip-path=\"url(#clip272)\" style=\"stroke:#000000; stroke-linecap:butt; stroke-linejoin:round; stroke-width:2; stroke-opacity:0.1; fill:none\" points=\"\n",
       "  654.932,1486.45 654.932,47.2441 \n",
       "  \"/>\n",
       "<polyline clip-path=\"url(#clip272)\" style=\"stroke:#000000; stroke-linecap:butt; stroke-linejoin:round; stroke-width:2; stroke-opacity:0.1; fill:none\" points=\"\n",
       "  1200.15,1486.45 1200.15,47.2441 \n",
       "  \"/>\n",
       "<polyline clip-path=\"url(#clip272)\" style=\"stroke:#000000; stroke-linecap:butt; stroke-linejoin:round; stroke-width:2; stroke-opacity:0.1; fill:none\" points=\"\n",
       "  1745.38,1486.45 1745.38,47.2441 \n",
       "  \"/>\n",
       "<polyline clip-path=\"url(#clip272)\" style=\"stroke:#000000; stroke-linecap:butt; stroke-linejoin:round; stroke-width:2; stroke-opacity:0.1; fill:none\" points=\"\n",
       "  2290.6,1486.45 2290.6,47.2441 \n",
       "  \"/>\n",
       "<polyline clip-path=\"url(#clip270)\" style=\"stroke:#000000; stroke-linecap:butt; stroke-linejoin:round; stroke-width:4; stroke-opacity:1; fill:none\" points=\"\n",
       "  156.598,1486.45 2352.76,1486.45 \n",
       "  \"/>\n",
       "<polyline clip-path=\"url(#clip270)\" style=\"stroke:#000000; stroke-linecap:butt; stroke-linejoin:round; stroke-width:4; stroke-opacity:1; fill:none\" points=\"\n",
       "  654.932,1486.45 654.932,1467.55 \n",
       "  \"/>\n",
       "<polyline clip-path=\"url(#clip270)\" style=\"stroke:#000000; stroke-linecap:butt; stroke-linejoin:round; stroke-width:4; stroke-opacity:1; fill:none\" points=\"\n",
       "  1200.15,1486.45 1200.15,1467.55 \n",
       "  \"/>\n",
       "<polyline clip-path=\"url(#clip270)\" style=\"stroke:#000000; stroke-linecap:butt; stroke-linejoin:round; stroke-width:4; stroke-opacity:1; fill:none\" points=\"\n",
       "  1745.38,1486.45 1745.38,1467.55 \n",
       "  \"/>\n",
       "<polyline clip-path=\"url(#clip270)\" style=\"stroke:#000000; stroke-linecap:butt; stroke-linejoin:round; stroke-width:4; stroke-opacity:1; fill:none\" points=\"\n",
       "  2290.6,1486.45 2290.6,1467.55 \n",
       "  \"/>\n",
       "<path clip-path=\"url(#clip270)\" d=\"M645.21 1514.29 L663.566 1514.29 L663.566 1518.22 L649.492 1518.22 L649.492 1526.7 Q650.511 1526.35 651.529 1526.19 Q652.548 1526 653.566 1526 Q659.353 1526 662.733 1529.17 Q666.112 1532.34 666.112 1537.76 Q666.112 1543.34 662.64 1546.44 Q659.168 1549.52 652.849 1549.52 Q650.673 1549.52 648.404 1549.15 Q646.159 1548.78 643.751 1548.04 L643.751 1543.34 Q645.835 1544.47 648.057 1545.03 Q650.279 1545.58 652.756 1545.58 Q656.761 1545.58 659.099 1543.48 Q661.437 1541.37 661.437 1537.76 Q661.437 1534.15 659.099 1532.04 Q656.761 1529.94 652.756 1529.94 Q650.881 1529.94 649.006 1530.35 Q647.154 1530.77 645.21 1531.65 L645.21 1514.29 Z\" fill=\"#000000\" fill-rule=\"evenodd\" fill-opacity=\"1\" /><path clip-path=\"url(#clip270)\" d=\"M1174.84 1544.91 L1182.48 1544.91 L1182.48 1518.55 L1174.17 1520.21 L1174.17 1515.95 L1182.43 1514.29 L1187.11 1514.29 L1187.11 1544.91 L1194.75 1544.91 L1194.75 1548.85 L1174.84 1548.85 L1174.84 1544.91 Z\" fill=\"#000000\" fill-rule=\"evenodd\" fill-opacity=\"1\" /><path clip-path=\"url(#clip270)\" d=\"M1214.19 1517.37 Q1210.58 1517.37 1208.75 1520.93 Q1206.95 1524.47 1206.95 1531.6 Q1206.95 1538.71 1208.75 1542.27 Q1210.58 1545.82 1214.19 1545.82 Q1217.83 1545.82 1219.63 1542.27 Q1221.46 1538.71 1221.46 1531.6 Q1221.46 1524.47 1219.63 1520.93 Q1217.83 1517.37 1214.19 1517.37 M1214.19 1513.66 Q1220 1513.66 1223.06 1518.27 Q1226.14 1522.85 1226.14 1531.6 Q1226.14 1540.33 1223.06 1544.94 Q1220 1549.52 1214.19 1549.52 Q1208.38 1549.52 1205.31 1544.94 Q1202.25 1540.33 1202.25 1531.6 Q1202.25 1522.85 1205.31 1518.27 Q1208.38 1513.66 1214.19 1513.66 Z\" fill=\"#000000\" fill-rule=\"evenodd\" fill-opacity=\"1\" /><path clip-path=\"url(#clip270)\" d=\"M1720.56 1544.91 L1728.2 1544.91 L1728.2 1518.55 L1719.89 1520.21 L1719.89 1515.95 L1728.16 1514.29 L1732.83 1514.29 L1732.83 1544.91 L1740.47 1544.91 L1740.47 1548.85 L1720.56 1548.85 L1720.56 1544.91 Z\" fill=\"#000000\" fill-rule=\"evenodd\" fill-opacity=\"1\" /><path clip-path=\"url(#clip270)\" d=\"M1749.96 1514.29 L1768.32 1514.29 L1768.32 1518.22 L1754.24 1518.22 L1754.24 1526.7 Q1755.26 1526.35 1756.28 1526.19 Q1757.3 1526 1758.32 1526 Q1764.1 1526 1767.48 1529.17 Q1770.86 1532.34 1770.86 1537.76 Q1770.86 1543.34 1767.39 1546.44 Q1763.92 1549.52 1757.6 1549.52 Q1755.42 1549.52 1753.16 1549.15 Q1750.91 1548.78 1748.5 1548.04 L1748.5 1543.34 Q1750.59 1544.47 1752.81 1545.03 Q1755.03 1545.58 1757.51 1545.58 Q1761.51 1545.58 1763.85 1543.48 Q1766.19 1541.37 1766.19 1537.76 Q1766.19 1534.15 1763.85 1532.04 Q1761.51 1529.94 1757.51 1529.94 Q1755.63 1529.94 1753.76 1530.35 Q1751.91 1530.77 1749.96 1531.65 L1749.96 1514.29 Z\" fill=\"#000000\" fill-rule=\"evenodd\" fill-opacity=\"1\" /><path clip-path=\"url(#clip270)\" d=\"M2269.37 1544.91 L2285.69 1544.91 L2285.69 1548.85 L2263.75 1548.85 L2263.75 1544.91 Q2266.41 1542.16 2270.99 1537.53 Q2275.6 1532.88 2276.78 1531.53 Q2279.03 1529.01 2279.91 1527.27 Q2280.81 1525.51 2280.81 1523.82 Q2280.81 1521.07 2278.86 1519.33 Q2276.94 1517.6 2273.84 1517.6 Q2271.64 1517.6 2269.19 1518.36 Q2266.76 1519.13 2263.98 1520.68 L2263.98 1515.95 Q2266.8 1514.82 2269.26 1514.24 Q2271.71 1513.66 2273.75 1513.66 Q2279.12 1513.66 2282.31 1516.35 Q2285.51 1519.03 2285.51 1523.52 Q2285.51 1525.65 2284.7 1527.57 Q2283.91 1529.47 2281.8 1532.07 Q2281.23 1532.74 2278.12 1535.95 Q2275.02 1539.15 2269.37 1544.91 Z\" fill=\"#000000\" fill-rule=\"evenodd\" fill-opacity=\"1\" /><path clip-path=\"url(#clip270)\" d=\"M2305.51 1517.37 Q2301.9 1517.37 2300.07 1520.93 Q2298.26 1524.47 2298.26 1531.6 Q2298.26 1538.71 2300.07 1542.27 Q2301.9 1545.82 2305.51 1545.82 Q2309.14 1545.82 2310.95 1542.27 Q2312.78 1538.71 2312.78 1531.6 Q2312.78 1524.47 2310.95 1520.93 Q2309.14 1517.37 2305.51 1517.37 M2305.51 1513.66 Q2311.32 1513.66 2314.37 1518.27 Q2317.45 1522.85 2317.45 1531.6 Q2317.45 1540.33 2314.37 1544.94 Q2311.32 1549.52 2305.51 1549.52 Q2299.7 1549.52 2296.62 1544.94 Q2293.56 1540.33 2293.56 1531.6 Q2293.56 1522.85 2296.62 1518.27 Q2299.7 1513.66 2305.51 1513.66 Z\" fill=\"#000000\" fill-rule=\"evenodd\" fill-opacity=\"1\" /><polyline clip-path=\"url(#clip272)\" style=\"stroke:#000000; stroke-linecap:butt; stroke-linejoin:round; stroke-width:2; stroke-opacity:0.1; fill:none\" points=\"\n",
       "  156.598,1486.45 2352.76,1486.45 \n",
       "  \"/>\n",
       "<polyline clip-path=\"url(#clip272)\" style=\"stroke:#000000; stroke-linecap:butt; stroke-linejoin:round; stroke-width:2; stroke-opacity:0.1; fill:none\" points=\"\n",
       "  156.598,1198.61 2352.76,1198.61 \n",
       "  \"/>\n",
       "<polyline clip-path=\"url(#clip272)\" style=\"stroke:#000000; stroke-linecap:butt; stroke-linejoin:round; stroke-width:2; stroke-opacity:0.1; fill:none\" points=\"\n",
       "  156.598,910.766 2352.76,910.766 \n",
       "  \"/>\n",
       "<polyline clip-path=\"url(#clip272)\" style=\"stroke:#000000; stroke-linecap:butt; stroke-linejoin:round; stroke-width:2; stroke-opacity:0.1; fill:none\" points=\"\n",
       "  156.598,622.926 2352.76,622.926 \n",
       "  \"/>\n",
       "<polyline clip-path=\"url(#clip272)\" style=\"stroke:#000000; stroke-linecap:butt; stroke-linejoin:round; stroke-width:2; stroke-opacity:0.1; fill:none\" points=\"\n",
       "  156.598,335.085 2352.76,335.085 \n",
       "  \"/>\n",
       "<polyline clip-path=\"url(#clip272)\" style=\"stroke:#000000; stroke-linecap:butt; stroke-linejoin:round; stroke-width:2; stroke-opacity:0.1; fill:none\" points=\"\n",
       "  156.598,47.2441 2352.76,47.2441 \n",
       "  \"/>\n",
       "<polyline clip-path=\"url(#clip270)\" style=\"stroke:#000000; stroke-linecap:butt; stroke-linejoin:round; stroke-width:4; stroke-opacity:1; fill:none\" points=\"\n",
       "  156.598,1486.45 156.598,47.2441 \n",
       "  \"/>\n",
       "<polyline clip-path=\"url(#clip270)\" style=\"stroke:#000000; stroke-linecap:butt; stroke-linejoin:round; stroke-width:4; stroke-opacity:1; fill:none\" points=\"\n",
       "  156.598,1486.45 175.496,1486.45 \n",
       "  \"/>\n",
       "<polyline clip-path=\"url(#clip270)\" style=\"stroke:#000000; stroke-linecap:butt; stroke-linejoin:round; stroke-width:4; stroke-opacity:1; fill:none\" points=\"\n",
       "  156.598,1198.61 175.496,1198.61 \n",
       "  \"/>\n",
       "<polyline clip-path=\"url(#clip270)\" style=\"stroke:#000000; stroke-linecap:butt; stroke-linejoin:round; stroke-width:4; stroke-opacity:1; fill:none\" points=\"\n",
       "  156.598,910.766 175.496,910.766 \n",
       "  \"/>\n",
       "<polyline clip-path=\"url(#clip270)\" style=\"stroke:#000000; stroke-linecap:butt; stroke-linejoin:round; stroke-width:4; stroke-opacity:1; fill:none\" points=\"\n",
       "  156.598,622.926 175.496,622.926 \n",
       "  \"/>\n",
       "<polyline clip-path=\"url(#clip270)\" style=\"stroke:#000000; stroke-linecap:butt; stroke-linejoin:round; stroke-width:4; stroke-opacity:1; fill:none\" points=\"\n",
       "  156.598,335.085 175.496,335.085 \n",
       "  \"/>\n",
       "<polyline clip-path=\"url(#clip270)\" style=\"stroke:#000000; stroke-linecap:butt; stroke-linejoin:round; stroke-width:4; stroke-opacity:1; fill:none\" points=\"\n",
       "  156.598,47.2441 175.496,47.2441 \n",
       "  \"/>\n",
       "<path clip-path=\"url(#clip270)\" d=\"M63.4226 1472.25 Q59.8115 1472.25 57.9828 1475.81 Q56.1773 1479.35 56.1773 1486.48 Q56.1773 1493.59 57.9828 1497.15 Q59.8115 1500.7 63.4226 1500.7 Q67.0569 1500.7 68.8624 1497.15 Q70.6911 1493.59 70.6911 1486.48 Q70.6911 1479.35 68.8624 1475.81 Q67.0569 1472.25 63.4226 1472.25 M63.4226 1468.54 Q69.2328 1468.54 72.2883 1473.15 Q75.367 1477.73 75.367 1486.48 Q75.367 1495.21 72.2883 1499.82 Q69.2328 1504.4 63.4226 1504.4 Q57.6125 1504.4 54.5338 1499.82 Q51.4782 1495.21 51.4782 1486.48 Q51.4782 1477.73 54.5338 1473.15 Q57.6125 1468.54 63.4226 1468.54 Z\" fill=\"#000000\" fill-rule=\"evenodd\" fill-opacity=\"1\" /><path clip-path=\"url(#clip270)\" d=\"M83.5845 1497.85 L88.4688 1497.85 L88.4688 1503.73 L83.5845 1503.73 L83.5845 1497.85 Z\" fill=\"#000000\" fill-rule=\"evenodd\" fill-opacity=\"1\" /><path clip-path=\"url(#clip270)\" d=\"M108.654 1472.25 Q105.043 1472.25 103.214 1475.81 Q101.409 1479.35 101.409 1486.48 Q101.409 1493.59 103.214 1497.15 Q105.043 1500.7 108.654 1500.7 Q112.288 1500.7 114.094 1497.15 Q115.922 1493.59 115.922 1486.48 Q115.922 1479.35 114.094 1475.81 Q112.288 1472.25 108.654 1472.25 M108.654 1468.54 Q114.464 1468.54 117.52 1473.15 Q120.598 1477.73 120.598 1486.48 Q120.598 1495.21 117.52 1499.82 Q114.464 1504.4 108.654 1504.4 Q102.844 1504.4 99.765 1499.82 Q96.7095 1495.21 96.7095 1486.48 Q96.7095 1477.73 99.765 1473.15 Q102.844 1468.54 108.654 1468.54 Z\" fill=\"#000000\" fill-rule=\"evenodd\" fill-opacity=\"1\" /><path clip-path=\"url(#clip270)\" d=\"M65.0198 1184.41 Q61.4087 1184.41 59.58 1187.97 Q57.7745 1191.51 57.7745 1198.64 Q57.7745 1205.75 59.58 1209.31 Q61.4087 1212.85 65.0198 1212.85 Q68.6541 1212.85 70.4596 1209.31 Q72.2883 1205.75 72.2883 1198.64 Q72.2883 1191.51 70.4596 1187.97 Q68.6541 1184.41 65.0198 1184.41 M65.0198 1180.7 Q70.83 1180.7 73.8855 1185.31 Q76.9642 1189.89 76.9642 1198.64 Q76.9642 1207.37 73.8855 1211.98 Q70.83 1216.56 65.0198 1216.56 Q59.2097 1216.56 56.131 1211.98 Q53.0754 1207.37 53.0754 1198.64 Q53.0754 1189.89 56.131 1185.31 Q59.2097 1180.7 65.0198 1180.7 Z\" fill=\"#000000\" fill-rule=\"evenodd\" fill-opacity=\"1\" /><path clip-path=\"url(#clip270)\" d=\"M85.1818 1210.01 L90.066 1210.01 L90.066 1215.89 L85.1818 1215.89 L85.1818 1210.01 Z\" fill=\"#000000\" fill-rule=\"evenodd\" fill-opacity=\"1\" /><path clip-path=\"url(#clip270)\" d=\"M104.279 1211.95 L120.598 1211.95 L120.598 1215.89 L98.6539 1215.89 L98.6539 1211.95 Q101.316 1209.2 105.899 1204.57 Q110.506 1199.91 111.686 1198.57 Q113.932 1196.05 114.811 1194.31 Q115.714 1192.55 115.714 1190.86 Q115.714 1188.11 113.77 1186.37 Q111.848 1184.64 108.746 1184.64 Q106.547 1184.64 104.094 1185.4 Q101.663 1186.17 98.8854 1187.72 L98.8854 1182.99 Q101.709 1181.86 104.163 1181.28 Q106.617 1180.7 108.654 1180.7 Q114.024 1180.7 117.219 1183.39 Q120.413 1186.07 120.413 1190.56 Q120.413 1192.69 119.603 1194.61 Q118.816 1196.51 116.709 1199.1 Q116.131 1199.78 113.029 1202.99 Q109.927 1206.19 104.279 1211.95 Z\" fill=\"#000000\" fill-rule=\"evenodd\" fill-opacity=\"1\" /><path clip-path=\"url(#clip270)\" d=\"M62.9365 896.565 Q59.3254 896.565 57.4967 900.13 Q55.6912 903.671 55.6912 910.801 Q55.6912 917.908 57.4967 921.472 Q59.3254 925.014 62.9365 925.014 Q66.5707 925.014 68.3763 921.472 Q70.205 917.908 70.205 910.801 Q70.205 903.671 68.3763 900.13 Q66.5707 896.565 62.9365 896.565 M62.9365 892.861 Q68.7467 892.861 71.8022 897.468 Q74.8809 902.051 74.8809 910.801 Q74.8809 919.528 71.8022 924.134 Q68.7467 928.718 62.9365 928.718 Q57.1264 928.718 54.0477 924.134 Q50.9921 919.528 50.9921 910.801 Q50.9921 902.051 54.0477 897.468 Q57.1264 892.861 62.9365 892.861 Z\" fill=\"#000000\" fill-rule=\"evenodd\" fill-opacity=\"1\" /><path clip-path=\"url(#clip270)\" d=\"M83.0984 922.167 L87.9827 922.167 L87.9827 928.046 L83.0984 928.046 L83.0984 922.167 Z\" fill=\"#000000\" fill-rule=\"evenodd\" fill-opacity=\"1\" /><path clip-path=\"url(#clip270)\" d=\"M111.015 897.56 L99.2095 916.009 L111.015 916.009 L111.015 897.56 M109.788 893.486 L115.668 893.486 L115.668 916.009 L120.598 916.009 L120.598 919.898 L115.668 919.898 L115.668 928.046 L111.015 928.046 L111.015 919.898 L95.4132 919.898 L95.4132 915.384 L109.788 893.486 Z\" fill=\"#000000\" fill-rule=\"evenodd\" fill-opacity=\"1\" /><path clip-path=\"url(#clip270)\" d=\"M63.2606 608.724 Q59.6495 608.724 57.8208 612.289 Q56.0152 615.831 56.0152 622.96 Q56.0152 630.067 57.8208 633.632 Q59.6495 637.173 63.2606 637.173 Q66.8948 637.173 68.7004 633.632 Q70.5291 630.067 70.5291 622.96 Q70.5291 615.831 68.7004 612.289 Q66.8948 608.724 63.2606 608.724 M63.2606 605.021 Q69.0707 605.021 72.1263 609.627 Q75.205 614.21 75.205 622.96 Q75.205 631.687 72.1263 636.294 Q69.0707 640.877 63.2606 640.877 Q57.4504 640.877 54.3717 636.294 Q51.3162 631.687 51.3162 622.96 Q51.3162 614.21 54.3717 609.627 Q57.4504 605.021 63.2606 605.021 Z\" fill=\"#000000\" fill-rule=\"evenodd\" fill-opacity=\"1\" /><path clip-path=\"url(#clip270)\" d=\"M83.4225 634.326 L88.3067 634.326 L88.3067 640.206 L83.4225 640.206 L83.4225 634.326 Z\" fill=\"#000000\" fill-rule=\"evenodd\" fill-opacity=\"1\" /><path clip-path=\"url(#clip270)\" d=\"M109.071 621.062 Q105.922 621.062 104.071 623.215 Q102.242 625.368 102.242 629.118 Q102.242 632.845 104.071 635.02 Q105.922 637.173 109.071 637.173 Q112.219 637.173 114.047 635.02 Q115.899 632.845 115.899 629.118 Q115.899 625.368 114.047 623.215 Q112.219 621.062 109.071 621.062 M118.353 606.409 L118.353 610.669 Q116.594 609.835 114.788 609.396 Q113.006 608.956 111.246 608.956 Q106.617 608.956 104.163 612.081 Q101.733 615.206 101.385 621.525 Q102.751 619.511 104.811 618.446 Q106.871 617.359 109.348 617.359 Q114.557 617.359 117.566 620.53 Q120.598 623.678 120.598 629.118 Q120.598 634.442 117.45 637.659 Q114.302 640.877 109.071 640.877 Q103.075 640.877 99.9039 636.294 Q96.7326 631.687 96.7326 622.96 Q96.7326 614.766 100.621 609.905 Q104.51 605.021 111.061 605.021 Q112.82 605.021 114.603 605.368 Q116.408 605.715 118.353 606.409 Z\" fill=\"#000000\" fill-rule=\"evenodd\" fill-opacity=\"1\" /><path clip-path=\"url(#clip270)\" d=\"M63.5152 320.884 Q59.9041 320.884 58.0754 324.448 Q56.2699 327.99 56.2699 335.12 Q56.2699 342.226 58.0754 345.791 Q59.9041 349.332 63.5152 349.332 Q67.1494 349.332 68.955 345.791 Q70.7837 342.226 70.7837 335.12 Q70.7837 327.99 68.955 324.448 Q67.1494 320.884 63.5152 320.884 M63.5152 317.18 Q69.3254 317.18 72.3809 321.786 Q75.4596 326.37 75.4596 335.12 Q75.4596 343.846 72.3809 348.453 Q69.3254 353.036 63.5152 353.036 Q57.7051 353.036 54.6264 348.453 Q51.5708 343.846 51.5708 335.12 Q51.5708 326.37 54.6264 321.786 Q57.7051 317.18 63.5152 317.18 Z\" fill=\"#000000\" fill-rule=\"evenodd\" fill-opacity=\"1\" /><path clip-path=\"url(#clip270)\" d=\"M83.6771 346.485 L88.5614 346.485 L88.5614 352.365 L83.6771 352.365 L83.6771 346.485 Z\" fill=\"#000000\" fill-rule=\"evenodd\" fill-opacity=\"1\" /><path clip-path=\"url(#clip270)\" d=\"M108.746 335.953 Q105.413 335.953 103.492 337.735 Q101.594 339.518 101.594 342.643 Q101.594 345.768 103.492 347.55 Q105.413 349.332 108.746 349.332 Q112.08 349.332 114.001 347.55 Q115.922 345.745 115.922 342.643 Q115.922 339.518 114.001 337.735 Q112.103 335.953 108.746 335.953 M104.071 333.962 Q101.061 333.221 99.3715 331.161 Q97.7048 329.101 97.7048 326.138 Q97.7048 321.995 100.645 319.587 Q103.608 317.18 108.746 317.18 Q113.908 317.18 116.848 319.587 Q119.788 321.995 119.788 326.138 Q119.788 329.101 118.098 331.161 Q116.432 333.221 113.445 333.962 Q116.825 334.749 118.7 337.041 Q120.598 339.333 120.598 342.643 Q120.598 347.666 117.52 350.351 Q114.464 353.036 108.746 353.036 Q103.029 353.036 99.9502 350.351 Q96.8947 347.666 96.8947 342.643 Q96.8947 339.333 98.7928 337.041 Q100.691 334.749 104.071 333.962 M102.358 326.578 Q102.358 329.263 104.024 330.768 Q105.714 332.272 108.746 332.272 Q111.756 332.272 113.445 330.768 Q115.158 329.263 115.158 326.578 Q115.158 323.893 113.445 322.388 Q111.756 320.884 108.746 320.884 Q105.714 320.884 104.024 322.388 Q102.358 323.893 102.358 326.578 Z\" fill=\"#000000\" fill-rule=\"evenodd\" fill-opacity=\"1\" /><path clip-path=\"url(#clip270)\" d=\"M54.2328 60.5889 L61.8717 60.5889 L61.8717 34.2233 L53.5616 35.89 L53.5616 31.6308 L61.8254 29.9641 L66.5013 29.9641 L66.5013 60.5889 L74.1402 60.5889 L74.1402 64.5241 L54.2328 64.5241 L54.2328 60.5889 Z\" fill=\"#000000\" fill-rule=\"evenodd\" fill-opacity=\"1\" /><path clip-path=\"url(#clip270)\" d=\"M83.5845 58.6445 L88.4688 58.6445 L88.4688 64.5241 L83.5845 64.5241 L83.5845 58.6445 Z\" fill=\"#000000\" fill-rule=\"evenodd\" fill-opacity=\"1\" /><path clip-path=\"url(#clip270)\" d=\"M108.654 33.0428 Q105.043 33.0428 103.214 36.6076 Q101.409 40.1492 101.409 47.2788 Q101.409 54.3853 103.214 57.9501 Q105.043 61.4917 108.654 61.4917 Q112.288 61.4917 114.094 57.9501 Q115.922 54.3853 115.922 47.2788 Q115.922 40.1492 114.094 36.6076 Q112.288 33.0428 108.654 33.0428 M108.654 29.3391 Q114.464 29.3391 117.52 33.9456 Q120.598 38.5289 120.598 47.2788 Q120.598 56.0056 117.52 60.6121 Q114.464 65.1954 108.654 65.1954 Q102.844 65.1954 99.765 60.6121 Q96.7095 56.0056 96.7095 47.2788 Q96.7095 38.5289 99.765 33.9456 Q102.844 29.3391 108.654 29.3391 Z\" fill=\"#000000\" fill-rule=\"evenodd\" fill-opacity=\"1\" /><polyline clip-path=\"url(#clip272)\" style=\"stroke:#009af9; stroke-linecap:butt; stroke-linejoin:round; stroke-width:4; stroke-opacity:1; fill:none\" points=\"\n",
       "  218.754,1485.58 327.798,1485.58 436.843,1485.58 545.887,1485.44 654.932,1485.44 763.976,1484.86 873.021,1484.43 982.066,1484.15 1091.11,1483.71 1200.15,1483.71 \n",
       "  1309.2,1483.43 1418.24,1483.43 1527.29,1483.43 1636.33,1483.28 1745.38,1483.14 1854.42,1483.14 1963.47,1482.99 2072.51,1482.85 2181.56,1482.85 2290.6,1482.42 \n",
       "  \n",
       "  \"/>\n",
       "<polyline clip-path=\"url(#clip272)\" style=\"stroke:#e26f46; stroke-linecap:butt; stroke-linejoin:round; stroke-width:4; stroke-opacity:1; fill:none\" points=\"\n",
       "  218.754,1468.89 327.798,1464.57 436.843,1459.82 545.887,1454.21 654.932,1447.73 763.976,1439.96 873.021,1428.59 982.066,1416.21 1091.11,1405.42 1200.15,1392.18 \n",
       "  1309.2,1376.06 1418.24,1358.79 1527.29,1338.93 1636.33,1318.35 1745.38,1299.93 1854.42,1279.92 1963.47,1257.04 2072.51,1231.85 2181.56,1202.49 2290.6,1174.86 \n",
       "  \n",
       "  \"/>\n",
       "<path clip-path=\"url(#clip270)\" d=\"\n",
       "M1847.39 250.738 L2279.55 250.738 L2279.55 95.2176 L1847.39 95.2176  Z\n",
       "  \" fill=\"#ffffff\" fill-rule=\"evenodd\" fill-opacity=\"1\"/>\n",
       "<polyline clip-path=\"url(#clip270)\" style=\"stroke:#000000; stroke-linecap:butt; stroke-linejoin:round; stroke-width:4; stroke-opacity:1; fill:none\" points=\"\n",
       "  1847.39,250.738 2279.55,250.738 2279.55,95.2176 1847.39,95.2176 1847.39,250.738 \n",
       "  \"/>\n",
       "<polyline clip-path=\"url(#clip270)\" style=\"stroke:#009af9; stroke-linecap:butt; stroke-linejoin:round; stroke-width:4; stroke-opacity:1; fill:none\" points=\"\n",
       "  1871.79,147.058 2018.2,147.058 \n",
       "  \"/>\n",
       "<path clip-path=\"url(#clip270)\" d=\"M2063.11 139.407 L2063.11 143.389 Q2061.3 142.393 2059.47 141.907 Q2057.67 141.398 2055.82 141.398 Q2051.67 141.398 2049.38 144.037 Q2047.09 146.652 2047.09 151.398 Q2047.09 156.143 2049.38 158.782 Q2051.67 161.398 2055.82 161.398 Q2057.67 161.398 2059.47 160.912 Q2061.3 160.402 2063.11 159.407 L2063.11 163.342 Q2061.33 164.176 2059.41 164.592 Q2057.51 165.009 2055.35 165.009 Q2049.5 165.009 2046.05 161.328 Q2042.6 157.648 2042.6 151.398 Q2042.6 145.055 2046.07 141.421 Q2049.57 137.787 2055.63 137.787 Q2057.6 137.787 2059.47 138.203 Q2061.35 138.597 2063.11 139.407 Z\" fill=\"#000000\" fill-rule=\"evenodd\" fill-opacity=\"1\" /><path clip-path=\"url(#clip270)\" d=\"M2082.3 151.305 Q2077.14 151.305 2075.15 152.486 Q2073.16 153.666 2073.16 156.514 Q2073.16 158.782 2074.64 160.125 Q2076.14 161.444 2078.71 161.444 Q2082.25 161.444 2084.38 158.944 Q2086.53 156.421 2086.53 152.254 L2086.53 151.305 L2082.3 151.305 M2090.79 149.546 L2090.79 164.338 L2086.53 164.338 L2086.53 160.402 Q2085.08 162.763 2082.9 163.898 Q2080.72 165.009 2077.58 165.009 Q2073.6 165.009 2071.23 162.787 Q2068.9 160.541 2068.9 156.791 Q2068.9 152.416 2071.81 150.194 Q2074.75 147.972 2080.56 147.972 L2086.53 147.972 L2086.53 147.555 Q2086.53 144.615 2084.59 143.018 Q2082.67 141.398 2079.17 141.398 Q2076.95 141.398 2074.85 141.93 Q2072.74 142.463 2070.79 143.527 L2070.79 139.592 Q2073.13 138.69 2075.33 138.25 Q2077.53 137.787 2079.61 137.787 Q2085.24 137.787 2088.02 140.703 Q2090.79 143.62 2090.79 149.546 Z\" fill=\"#000000\" fill-rule=\"evenodd\" fill-opacity=\"1\" /><path clip-path=\"url(#clip270)\" d=\"M2099.13 154.106 L2099.13 138.412 L2103.39 138.412 L2103.39 153.944 Q2103.39 157.625 2104.82 159.476 Q2106.26 161.305 2109.13 161.305 Q2112.58 161.305 2114.57 159.106 Q2116.58 156.907 2116.58 153.111 L2116.58 138.412 L2120.84 138.412 L2120.84 164.338 L2116.58 164.338 L2116.58 160.356 Q2115.03 162.717 2112.97 163.875 Q2110.93 165.009 2108.22 165.009 Q2103.76 165.009 2101.44 162.231 Q2099.13 159.453 2099.13 154.106 M2109.85 137.787 L2109.85 137.787 Z\" fill=\"#000000\" fill-rule=\"evenodd\" fill-opacity=\"1\" /><path clip-path=\"url(#clip270)\" d=\"M2150.52 130.912 L2150.52 135.472 Q2147.85 134.199 2145.49 133.574 Q2143.13 132.949 2140.93 132.949 Q2137.11 132.949 2135.03 134.43 Q2132.97 135.912 2132.97 138.643 Q2132.97 140.935 2134.34 142.115 Q2135.72 143.273 2139.57 143.99 L2142.39 144.569 Q2147.62 145.565 2150.1 148.088 Q2152.6 150.588 2152.6 154.801 Q2152.6 159.824 2149.22 162.416 Q2145.86 165.009 2139.36 165.009 Q2136.91 165.009 2134.13 164.453 Q2131.37 163.898 2128.41 162.81 L2128.41 157.995 Q2131.26 159.592 2133.99 160.402 Q2136.72 161.213 2139.36 161.213 Q2143.36 161.213 2145.54 159.639 Q2147.72 158.064 2147.72 155.148 Q2147.72 152.602 2146.14 151.166 Q2144.59 149.731 2141.03 149.014 L2138.18 148.458 Q2132.95 147.416 2130.61 145.194 Q2128.27 142.972 2128.27 139.014 Q2128.27 134.43 2131.49 131.791 Q2134.73 129.153 2140.4 129.153 Q2142.83 129.153 2145.35 129.592 Q2147.88 130.032 2150.52 130.912 Z\" fill=\"#000000\" fill-rule=\"evenodd\" fill-opacity=\"1\" /><path clip-path=\"url(#clip270)\" d=\"M2159.89 129.778 L2164.57 129.778 L2164.57 164.338 L2159.89 164.338 L2159.89 129.778 Z\" fill=\"#000000\" fill-rule=\"evenodd\" fill-opacity=\"1\" /><polyline clip-path=\"url(#clip270)\" style=\"stroke:#e26f46; stroke-linecap:butt; stroke-linejoin:round; stroke-width:4; stroke-opacity:1; fill:none\" points=\"\n",
       "  1871.79,198.898 2018.2,198.898 \n",
       "  \"/>\n",
       "<path clip-path=\"url(#clip270)\" d=\"M2063.11 191.247 L2063.11 195.229 Q2061.3 194.233 2059.47 193.747 Q2057.67 193.238 2055.82 193.238 Q2051.67 193.238 2049.38 195.877 Q2047.09 198.492 2047.09 203.238 Q2047.09 207.983 2049.38 210.622 Q2051.67 213.238 2055.82 213.238 Q2057.67 213.238 2059.47 212.752 Q2061.3 212.242 2063.11 211.247 L2063.11 215.182 Q2061.33 216.016 2059.41 216.432 Q2057.51 216.849 2055.35 216.849 Q2049.5 216.849 2046.05 213.168 Q2042.6 209.488 2042.6 203.238 Q2042.6 196.895 2046.07 193.261 Q2049.57 189.627 2055.63 189.627 Q2057.6 189.627 2059.47 190.043 Q2061.35 190.437 2063.11 191.247 Z\" fill=\"#000000\" fill-rule=\"evenodd\" fill-opacity=\"1\" /><path clip-path=\"url(#clip270)\" d=\"M2082.3 203.145 Q2077.14 203.145 2075.15 204.326 Q2073.16 205.506 2073.16 208.354 Q2073.16 210.622 2074.64 211.965 Q2076.14 213.284 2078.71 213.284 Q2082.25 213.284 2084.38 210.784 Q2086.53 208.261 2086.53 204.094 L2086.53 203.145 L2082.3 203.145 M2090.79 201.386 L2090.79 216.178 L2086.53 216.178 L2086.53 212.242 Q2085.08 214.603 2082.9 215.738 Q2080.72 216.849 2077.58 216.849 Q2073.6 216.849 2071.23 214.627 Q2068.9 212.381 2068.9 208.631 Q2068.9 204.256 2071.81 202.034 Q2074.75 199.812 2080.56 199.812 L2086.53 199.812 L2086.53 199.395 Q2086.53 196.455 2084.59 194.858 Q2082.67 193.238 2079.17 193.238 Q2076.95 193.238 2074.85 193.77 Q2072.74 194.303 2070.79 195.367 L2070.79 191.432 Q2073.13 190.53 2075.33 190.09 Q2077.53 189.627 2079.61 189.627 Q2085.24 189.627 2088.02 192.543 Q2090.79 195.46 2090.79 201.386 Z\" fill=\"#000000\" fill-rule=\"evenodd\" fill-opacity=\"1\" /><path clip-path=\"url(#clip270)\" d=\"M2099.13 205.946 L2099.13 190.252 L2103.39 190.252 L2103.39 205.784 Q2103.39 209.465 2104.82 211.316 Q2106.26 213.145 2109.13 213.145 Q2112.58 213.145 2114.57 210.946 Q2116.58 208.747 2116.58 204.951 L2116.58 190.252 L2120.84 190.252 L2120.84 216.178 L2116.58 216.178 L2116.58 212.196 Q2115.03 214.557 2112.97 215.715 Q2110.93 216.849 2108.22 216.849 Q2103.76 216.849 2101.44 214.071 Q2099.13 211.293 2099.13 205.946 M2109.85 189.627 L2109.85 189.627 Z\" fill=\"#000000\" fill-rule=\"evenodd\" fill-opacity=\"1\" /><path clip-path=\"url(#clip270)\" d=\"M2150.52 182.752 L2150.52 187.312 Q2147.85 186.039 2145.49 185.414 Q2143.13 184.789 2140.93 184.789 Q2137.11 184.789 2135.03 186.27 Q2132.97 187.752 2132.97 190.483 Q2132.97 192.775 2134.34 193.955 Q2135.72 195.113 2139.57 195.83 L2142.39 196.409 Q2147.62 197.405 2150.1 199.928 Q2152.6 202.428 2152.6 206.641 Q2152.6 211.664 2149.22 214.256 Q2145.86 216.849 2139.36 216.849 Q2136.91 216.849 2134.13 216.293 Q2131.37 215.738 2128.41 214.65 L2128.41 209.835 Q2131.26 211.432 2133.99 212.242 Q2136.72 213.053 2139.36 213.053 Q2143.36 213.053 2145.54 211.479 Q2147.72 209.904 2147.72 206.988 Q2147.72 204.442 2146.14 203.006 Q2144.59 201.571 2141.03 200.854 L2138.18 200.298 Q2132.95 199.256 2130.61 197.034 Q2128.27 194.812 2128.27 190.854 Q2128.27 186.27 2131.49 183.631 Q2134.73 180.993 2140.4 180.993 Q2142.83 180.993 2145.35 181.432 Q2147.88 181.872 2150.52 182.752 Z\" fill=\"#000000\" fill-rule=\"evenodd\" fill-opacity=\"1\" /><path clip-path=\"url(#clip270)\" d=\"M2159.89 181.618 L2181.74 181.618 L2181.74 185.553 L2164.57 185.553 L2164.57 195.784 L2181.03 195.784 L2181.03 199.719 L2164.57 199.719 L2164.57 212.242 L2182.16 212.242 L2182.16 216.178 L2159.89 216.178 L2159.89 181.618 Z\" fill=\"#000000\" fill-rule=\"evenodd\" fill-opacity=\"1\" /><path clip-path=\"url(#clip270)\" d=\"M2189.84 181.618 L2194.52 181.618 L2194.52 216.178 L2189.84 216.178 L2189.84 181.618 Z\" fill=\"#000000\" fill-rule=\"evenodd\" fill-opacity=\"1\" /><path clip-path=\"url(#clip270)\" d=\"M2220.21 199.974 Q2221.72 200.483 2223.13 202.15 Q2224.57 203.817 2226 206.733 L2230.75 216.178 L2225.72 216.178 L2221.3 207.312 Q2219.59 203.84 2217.97 202.705 Q2216.37 201.571 2213.59 201.571 L2208.5 201.571 L2208.5 216.178 L2203.83 216.178 L2203.83 181.618 L2214.38 181.618 Q2220.31 181.618 2223.22 184.094 Q2226.14 186.571 2226.14 191.571 Q2226.14 194.835 2224.61 196.988 Q2223.11 199.141 2220.21 199.974 M2208.5 185.46 L2208.5 197.729 L2214.38 197.729 Q2217.76 197.729 2219.47 196.178 Q2221.21 194.604 2221.21 191.571 Q2221.21 188.539 2219.47 187.011 Q2217.76 185.46 2214.38 185.46 L2208.5 185.46 Z\" fill=\"#000000\" fill-rule=\"evenodd\" fill-opacity=\"1\" /></svg>\n"
      ]
     },
     "execution_count": 422,
     "metadata": {},
     "output_type": "execute_result"
    }
   ],
   "source": [
    "using Plots\n",
    "p_cauSEIR = zeros(N,Int(T))\n",
    "p_cauSI = zeros(N,Int(T))\n",
    "for i = 1:N\n",
    "    for t = 1:Int(T)\n",
    "       p_cauSEIR[i,t] = marginal(i, t, statscauSEIR)\n",
    "       p_cauSI[i,t] = marginalSI(i, t, statscauSI)\n",
    "    end\n",
    "end\n",
    "i = 1\n",
    "plot(p_cauSI[i,1:end], label = \"cauSI\")\n",
    "plot!(p_cauSEIR[i,1:end], label = \"cauSEIR\")\n",
    "#savefig(\"SEIRmarkov.pdf\")\n",
    "ylims!(0,1)"
   ]
  },
  {
   "cell_type": "code",
   "execution_count": 423,
   "metadata": {},
   "outputs": [
    {
     "data": {
      "text/plain": [
       "1-element Vector{Tuple{Int64, Int64, Int64, Float64}}:\n",
       " (1, 0, 20, 1.0e-6)"
      ]
     },
     "execution_count": 423,
     "metadata": {},
     "output_type": "execute_result"
    }
   ],
   "source": [
    "O"
   ]
  },
  {
   "cell_type": "code",
   "execution_count": 424,
   "metadata": {},
   "outputs": [
    {
     "data": {
      "text/plain": [
       "Tuple{Int64, Int64, Int64, Float64}[]"
      ]
     },
     "execution_count": 424,
     "metadata": {},
     "output_type": "execute_result"
    }
   ],
   "source": [
    "[o for o in O if o[1] == 12]"
   ]
  },
  {
   "cell_type": "code",
   "execution_count": 426,
   "metadata": {},
   "outputs": [
    {
     "data": {
      "image/svg+xml": [
       "<?xml version=\"1.0\" encoding=\"utf-8\"?>\n",
       "<svg xmlns=\"http://www.w3.org/2000/svg\" xmlns:xlink=\"http://www.w3.org/1999/xlink\" width=\"600\" height=\"400\" viewBox=\"0 0 2400 1600\">\n",
       "<defs>\n",
       "  <clipPath id=\"clip370\">\n",
       "    <rect x=\"0\" y=\"0\" width=\"2400\" height=\"1600\"/>\n",
       "  </clipPath>\n",
       "</defs>\n",
       "<path clip-path=\"url(#clip370)\" d=\"\n",
       "M0 1600 L2400 1600 L2400 0 L0 0  Z\n",
       "  \" fill=\"#ffffff\" fill-rule=\"evenodd\" fill-opacity=\"1\"/>\n",
       "<defs>\n",
       "  <clipPath id=\"clip371\">\n",
       "    <rect x=\"480\" y=\"0\" width=\"1681\" height=\"1600\"/>\n",
       "  </clipPath>\n",
       "</defs>\n",
       "<path clip-path=\"url(#clip370)\" d=\"\n",
       "M219.866 1423.18 L2352.76 1423.18 L2352.76 123.472 L219.866 123.472  Z\n",
       "  \" fill=\"#ffffff\" fill-rule=\"evenodd\" fill-opacity=\"1\"/>\n",
       "<defs>\n",
       "  <clipPath id=\"clip372\">\n",
       "    <rect x=\"219\" y=\"123\" width=\"2134\" height=\"1301\"/>\n",
       "  </clipPath>\n",
       "</defs>\n",
       "<polyline clip-path=\"url(#clip372)\" style=\"stroke:#000000; stroke-linecap:butt; stroke-linejoin:round; stroke-width:2; stroke-opacity:0.1; fill:none\" points=\"\n",
       "  703.844,1423.18 703.844,123.472 \n",
       "  \"/>\n",
       "<polyline clip-path=\"url(#clip372)\" style=\"stroke:#000000; stroke-linecap:butt; stroke-linejoin:round; stroke-width:2; stroke-opacity:0.1; fill:none\" points=\"\n",
       "  1233.36,1423.18 1233.36,123.472 \n",
       "  \"/>\n",
       "<polyline clip-path=\"url(#clip372)\" style=\"stroke:#000000; stroke-linecap:butt; stroke-linejoin:round; stroke-width:2; stroke-opacity:0.1; fill:none\" points=\"\n",
       "  1762.88,1423.18 1762.88,123.472 \n",
       "  \"/>\n",
       "<polyline clip-path=\"url(#clip372)\" style=\"stroke:#000000; stroke-linecap:butt; stroke-linejoin:round; stroke-width:2; stroke-opacity:0.1; fill:none\" points=\"\n",
       "  2292.39,1423.18 2292.39,123.472 \n",
       "  \"/>\n",
       "<polyline clip-path=\"url(#clip370)\" style=\"stroke:#000000; stroke-linecap:butt; stroke-linejoin:round; stroke-width:4; stroke-opacity:1; fill:none\" points=\"\n",
       "  219.866,1423.18 2352.76,1423.18 \n",
       "  \"/>\n",
       "<polyline clip-path=\"url(#clip370)\" style=\"stroke:#000000; stroke-linecap:butt; stroke-linejoin:round; stroke-width:4; stroke-opacity:1; fill:none\" points=\"\n",
       "  703.844,1423.18 703.844,1404.28 \n",
       "  \"/>\n",
       "<polyline clip-path=\"url(#clip370)\" style=\"stroke:#000000; stroke-linecap:butt; stroke-linejoin:round; stroke-width:4; stroke-opacity:1; fill:none\" points=\"\n",
       "  1233.36,1423.18 1233.36,1404.28 \n",
       "  \"/>\n",
       "<polyline clip-path=\"url(#clip370)\" style=\"stroke:#000000; stroke-linecap:butt; stroke-linejoin:round; stroke-width:4; stroke-opacity:1; fill:none\" points=\"\n",
       "  1762.88,1423.18 1762.88,1404.28 \n",
       "  \"/>\n",
       "<polyline clip-path=\"url(#clip370)\" style=\"stroke:#000000; stroke-linecap:butt; stroke-linejoin:round; stroke-width:4; stroke-opacity:1; fill:none\" points=\"\n",
       "  2292.39,1423.18 2292.39,1404.28 \n",
       "  \"/>\n",
       "<path clip-path=\"url(#clip370)\" d=\"M694.122 1451.02 L712.478 1451.02 L712.478 1454.96 L698.404 1454.96 L698.404 1463.43 Q699.422 1463.08 700.441 1462.92 Q701.459 1462.73 702.478 1462.73 Q708.265 1462.73 711.645 1465.9 Q715.024 1469.08 715.024 1474.49 Q715.024 1480.07 711.552 1483.17 Q708.08 1486.25 701.76 1486.25 Q699.584 1486.25 697.316 1485.88 Q695.071 1485.51 692.663 1484.77 L692.663 1480.07 Q694.747 1481.2 696.969 1481.76 Q699.191 1482.32 701.668 1482.32 Q705.672 1482.32 708.01 1480.21 Q710.348 1478.1 710.348 1474.49 Q710.348 1470.88 708.01 1468.77 Q705.672 1466.67 701.668 1466.67 Q699.793 1466.67 697.918 1467.08 Q696.066 1467.5 694.122 1468.38 L694.122 1451.02 Z\" fill=\"#000000\" fill-rule=\"evenodd\" fill-opacity=\"1\" /><path clip-path=\"url(#clip370)\" d=\"M1208.05 1481.64 L1215.69 1481.64 L1215.69 1455.28 L1207.38 1456.95 L1207.38 1452.69 L1215.64 1451.02 L1220.32 1451.02 L1220.32 1481.64 L1227.95 1481.64 L1227.95 1485.58 L1208.05 1485.58 L1208.05 1481.64 Z\" fill=\"#000000\" fill-rule=\"evenodd\" fill-opacity=\"1\" /><path clip-path=\"url(#clip370)\" d=\"M1247.4 1454.1 Q1243.79 1454.1 1241.96 1457.66 Q1240.15 1461.2 1240.15 1468.33 Q1240.15 1475.44 1241.96 1479.01 Q1243.79 1482.55 1247.4 1482.55 Q1251.03 1482.55 1252.84 1479.01 Q1254.67 1475.44 1254.67 1468.33 Q1254.67 1461.2 1252.84 1457.66 Q1251.03 1454.1 1247.4 1454.1 M1247.4 1450.39 Q1253.21 1450.39 1256.26 1455 Q1259.34 1459.58 1259.34 1468.33 Q1259.34 1477.06 1256.26 1481.67 Q1253.21 1486.25 1247.4 1486.25 Q1241.59 1486.25 1238.51 1481.67 Q1235.45 1477.06 1235.45 1468.33 Q1235.45 1459.58 1238.51 1455 Q1241.59 1450.39 1247.4 1450.39 Z\" fill=\"#000000\" fill-rule=\"evenodd\" fill-opacity=\"1\" /><path clip-path=\"url(#clip370)\" d=\"M1738.06 1481.64 L1745.7 1481.64 L1745.7 1455.28 L1737.39 1456.95 L1737.39 1452.69 L1745.65 1451.02 L1750.33 1451.02 L1750.33 1481.64 L1757.97 1481.64 L1757.97 1485.58 L1738.06 1485.58 L1738.06 1481.64 Z\" fill=\"#000000\" fill-rule=\"evenodd\" fill-opacity=\"1\" /><path clip-path=\"url(#clip370)\" d=\"M1767.46 1451.02 L1785.81 1451.02 L1785.81 1454.96 L1771.74 1454.96 L1771.74 1463.43 Q1772.76 1463.08 1773.78 1462.92 Q1774.8 1462.73 1775.82 1462.73 Q1781.6 1462.73 1784.98 1465.9 Q1788.36 1469.08 1788.36 1474.49 Q1788.36 1480.07 1784.89 1483.17 Q1781.42 1486.25 1775.1 1486.25 Q1772.92 1486.25 1770.65 1485.88 Q1768.41 1485.51 1766 1484.77 L1766 1480.07 Q1768.08 1481.2 1770.31 1481.76 Q1772.53 1482.32 1775 1482.32 Q1779.01 1482.32 1781.35 1480.21 Q1783.69 1478.1 1783.69 1474.49 Q1783.69 1470.88 1781.35 1468.77 Q1779.01 1466.67 1775 1466.67 Q1773.13 1466.67 1771.25 1467.08 Q1769.4 1467.5 1767.46 1468.38 L1767.46 1451.02 Z\" fill=\"#000000\" fill-rule=\"evenodd\" fill-opacity=\"1\" /><path clip-path=\"url(#clip370)\" d=\"M2271.16 1481.64 L2287.48 1481.64 L2287.48 1485.58 L2265.54 1485.58 L2265.54 1481.64 Q2268.2 1478.89 2272.78 1474.26 Q2277.39 1469.61 2278.57 1468.27 Q2280.82 1465.74 2281.7 1464.01 Q2282.6 1462.25 2282.6 1460.56 Q2282.6 1457.8 2280.66 1456.07 Q2278.73 1454.33 2275.63 1454.33 Q2273.43 1454.33 2270.98 1455.09 Q2268.55 1455.86 2265.77 1457.41 L2265.77 1452.69 Q2268.59 1451.55 2271.05 1450.97 Q2273.5 1450.39 2275.54 1450.39 Q2280.91 1450.39 2284.1 1453.08 Q2287.3 1455.77 2287.3 1460.26 Q2287.3 1462.39 2286.49 1464.31 Q2285.7 1466.2 2283.59 1468.8 Q2283.02 1469.47 2279.91 1472.69 Q2276.81 1475.88 2271.16 1481.64 Z\" fill=\"#000000\" fill-rule=\"evenodd\" fill-opacity=\"1\" /><path clip-path=\"url(#clip370)\" d=\"M2307.3 1454.1 Q2303.69 1454.1 2301.86 1457.66 Q2300.05 1461.2 2300.05 1468.33 Q2300.05 1475.44 2301.86 1479.01 Q2303.69 1482.55 2307.3 1482.55 Q2310.93 1482.55 2312.74 1479.01 Q2314.57 1475.44 2314.57 1468.33 Q2314.57 1461.2 2312.74 1457.66 Q2310.93 1454.1 2307.3 1454.1 M2307.3 1450.39 Q2313.11 1450.39 2316.16 1455 Q2319.24 1459.58 2319.24 1468.33 Q2319.24 1477.06 2316.16 1481.67 Q2313.11 1486.25 2307.3 1486.25 Q2301.49 1486.25 2298.41 1481.67 Q2295.35 1477.06 2295.35 1468.33 Q2295.35 1459.58 2298.41 1455 Q2301.49 1450.39 2307.3 1450.39 Z\" fill=\"#000000\" fill-rule=\"evenodd\" fill-opacity=\"1\" /><path clip-path=\"url(#clip370)\" d=\"M1285.37 1522.27 L1285.37 1532.4 L1297.44 1532.4 L1297.44 1536.95 L1285.37 1536.95 L1285.37 1556.3 Q1285.37 1560.66 1286.55 1561.9 Q1287.76 1563.14 1291.42 1563.14 L1297.44 1563.14 L1297.44 1568.04 L1291.42 1568.04 Q1284.64 1568.04 1282.06 1565.53 Q1279.48 1562.98 1279.48 1556.3 L1279.48 1536.95 L1275.19 1536.95 L1275.19 1532.4 L1279.48 1532.4 L1279.48 1522.27 L1285.37 1522.27 Z\" fill=\"#000000\" fill-rule=\"evenodd\" fill-opacity=\"1\" /><polyline clip-path=\"url(#clip372)\" style=\"stroke:#000000; stroke-linecap:butt; stroke-linejoin:round; stroke-width:2; stroke-opacity:0.1; fill:none\" points=\"\n",
       "  219.866,1337.79 2352.76,1337.79 \n",
       "  \"/>\n",
       "<polyline clip-path=\"url(#clip372)\" style=\"stroke:#000000; stroke-linecap:butt; stroke-linejoin:round; stroke-width:2; stroke-opacity:0.1; fill:none\" points=\"\n",
       "  219.866,1030.32 2352.76,1030.32 \n",
       "  \"/>\n",
       "<polyline clip-path=\"url(#clip372)\" style=\"stroke:#000000; stroke-linecap:butt; stroke-linejoin:round; stroke-width:2; stroke-opacity:0.1; fill:none\" points=\"\n",
       "  219.866,722.847 2352.76,722.847 \n",
       "  \"/>\n",
       "<polyline clip-path=\"url(#clip372)\" style=\"stroke:#000000; stroke-linecap:butt; stroke-linejoin:round; stroke-width:2; stroke-opacity:0.1; fill:none\" points=\"\n",
       "  219.866,415.375 2352.76,415.375 \n",
       "  \"/>\n",
       "<polyline clip-path=\"url(#clip370)\" style=\"stroke:#000000; stroke-linecap:butt; stroke-linejoin:round; stroke-width:4; stroke-opacity:1; fill:none\" points=\"\n",
       "  219.866,1423.18 219.866,123.472 \n",
       "  \"/>\n",
       "<polyline clip-path=\"url(#clip370)\" style=\"stroke:#000000; stroke-linecap:butt; stroke-linejoin:round; stroke-width:4; stroke-opacity:1; fill:none\" points=\"\n",
       "  219.866,1337.79 238.764,1337.79 \n",
       "  \"/>\n",
       "<polyline clip-path=\"url(#clip370)\" style=\"stroke:#000000; stroke-linecap:butt; stroke-linejoin:round; stroke-width:4; stroke-opacity:1; fill:none\" points=\"\n",
       "  219.866,1030.32 238.764,1030.32 \n",
       "  \"/>\n",
       "<polyline clip-path=\"url(#clip370)\" style=\"stroke:#000000; stroke-linecap:butt; stroke-linejoin:round; stroke-width:4; stroke-opacity:1; fill:none\" points=\"\n",
       "  219.866,722.847 238.764,722.847 \n",
       "  \"/>\n",
       "<polyline clip-path=\"url(#clip370)\" style=\"stroke:#000000; stroke-linecap:butt; stroke-linejoin:round; stroke-width:4; stroke-opacity:1; fill:none\" points=\"\n",
       "  219.866,415.375 238.764,415.375 \n",
       "  \"/>\n",
       "<path clip-path=\"url(#clip370)\" d=\"M128.288 1323.59 Q124.677 1323.59 122.848 1327.16 Q121.043 1330.7 121.043 1337.83 Q121.043 1344.93 122.848 1348.5 Q124.677 1352.04 128.288 1352.04 Q131.922 1352.04 133.728 1348.5 Q135.556 1344.93 135.556 1337.83 Q135.556 1330.7 133.728 1327.16 Q131.922 1323.59 128.288 1323.59 M128.288 1319.89 Q134.098 1319.89 137.154 1324.49 Q140.232 1329.08 140.232 1337.83 Q140.232 1346.55 137.154 1351.16 Q134.098 1355.74 128.288 1355.74 Q122.478 1355.74 119.399 1351.16 Q116.343 1346.55 116.343 1337.83 Q116.343 1329.08 119.399 1324.49 Q122.478 1319.89 128.288 1319.89 Z\" fill=\"#000000\" fill-rule=\"evenodd\" fill-opacity=\"1\" /><path clip-path=\"url(#clip370)\" d=\"M148.45 1349.19 L153.334 1349.19 L153.334 1355.07 L148.45 1355.07 L148.45 1349.19 Z\" fill=\"#000000\" fill-rule=\"evenodd\" fill-opacity=\"1\" /><path clip-path=\"url(#clip370)\" d=\"M167.547 1351.14 L183.866 1351.14 L183.866 1355.07 L161.922 1355.07 L161.922 1351.14 Q164.584 1348.38 169.167 1343.75 Q173.774 1339.1 174.954 1337.76 Q177.2 1335.23 178.079 1333.5 Q178.982 1331.74 178.982 1330.05 Q178.982 1327.29 177.038 1325.56 Q175.116 1323.82 172.014 1323.82 Q169.815 1323.82 167.362 1324.59 Q164.931 1325.35 162.153 1326.9 L162.153 1322.18 Q164.977 1321.04 167.431 1320.47 Q169.885 1319.89 171.922 1319.89 Q177.292 1319.89 180.487 1322.57 Q183.681 1325.26 183.681 1329.75 Q183.681 1331.88 182.871 1333.8 Q182.084 1335.7 179.977 1338.29 Q179.399 1338.96 176.297 1342.18 Q173.195 1345.37 167.547 1351.14 Z\" fill=\"#000000\" fill-rule=\"evenodd\" fill-opacity=\"1\" /><path clip-path=\"url(#clip370)\" d=\"M126.205 1016.12 Q122.593 1016.12 120.765 1019.68 Q118.959 1023.22 118.959 1030.35 Q118.959 1037.46 120.765 1041.03 Q122.593 1044.57 126.205 1044.57 Q129.839 1044.57 131.644 1041.03 Q133.473 1037.46 133.473 1030.35 Q133.473 1023.22 131.644 1019.68 Q129.839 1016.12 126.205 1016.12 M126.205 1012.41 Q132.015 1012.41 135.07 1017.02 Q138.149 1021.6 138.149 1030.35 Q138.149 1039.08 135.07 1043.69 Q132.015 1048.27 126.205 1048.27 Q120.394 1048.27 117.316 1043.69 Q114.26 1039.08 114.26 1030.35 Q114.26 1021.6 117.316 1017.02 Q120.394 1012.41 126.205 1012.41 Z\" fill=\"#000000\" fill-rule=\"evenodd\" fill-opacity=\"1\" /><path clip-path=\"url(#clip370)\" d=\"M146.366 1041.72 L151.251 1041.72 L151.251 1047.6 L146.366 1047.6 L146.366 1041.72 Z\" fill=\"#000000\" fill-rule=\"evenodd\" fill-opacity=\"1\" /><path clip-path=\"url(#clip370)\" d=\"M174.283 1017.11 L162.477 1035.56 L174.283 1035.56 L174.283 1017.11 M173.056 1013.04 L178.936 1013.04 L178.936 1035.56 L183.866 1035.56 L183.866 1039.45 L178.936 1039.45 L178.936 1047.6 L174.283 1047.6 L174.283 1039.45 L158.681 1039.45 L158.681 1034.94 L173.056 1013.04 Z\" fill=\"#000000\" fill-rule=\"evenodd\" fill-opacity=\"1\" /><path clip-path=\"url(#clip370)\" d=\"M126.529 708.646 Q122.918 708.646 121.089 712.21 Q119.283 715.752 119.283 722.882 Q119.283 729.988 121.089 733.553 Q122.918 737.095 126.529 737.095 Q130.163 737.095 131.968 733.553 Q133.797 729.988 133.797 722.882 Q133.797 715.752 131.968 712.21 Q130.163 708.646 126.529 708.646 M126.529 704.942 Q132.339 704.942 135.394 709.548 Q138.473 714.132 138.473 722.882 Q138.473 731.609 135.394 736.215 Q132.339 740.798 126.529 740.798 Q120.718 740.798 117.64 736.215 Q114.584 731.609 114.584 722.882 Q114.584 714.132 117.64 709.548 Q120.718 704.942 126.529 704.942 Z\" fill=\"#000000\" fill-rule=\"evenodd\" fill-opacity=\"1\" /><path clip-path=\"url(#clip370)\" d=\"M146.691 734.247 L151.575 734.247 L151.575 740.127 L146.691 740.127 L146.691 734.247 Z\" fill=\"#000000\" fill-rule=\"evenodd\" fill-opacity=\"1\" /><path clip-path=\"url(#clip370)\" d=\"M172.339 720.984 Q169.19 720.984 167.339 723.136 Q165.51 725.289 165.51 729.039 Q165.51 732.766 167.339 734.942 Q169.19 737.095 172.339 737.095 Q175.487 737.095 177.315 734.942 Q179.167 732.766 179.167 729.039 Q179.167 725.289 177.315 723.136 Q175.487 720.984 172.339 720.984 M181.621 706.331 L181.621 710.59 Q179.862 709.757 178.056 709.317 Q176.274 708.877 174.514 708.877 Q169.885 708.877 167.431 712.002 Q165.001 715.127 164.653 721.447 Q166.019 719.433 168.079 718.368 Q170.139 717.28 172.616 717.28 Q177.825 717.28 180.834 720.451 Q183.866 723.599 183.866 729.039 Q183.866 734.363 180.718 737.581 Q177.57 740.798 172.339 740.798 Q166.343 740.798 163.172 736.215 Q160.001 731.609 160.001 722.882 Q160.001 714.687 163.89 709.826 Q167.778 704.942 174.329 704.942 Q176.089 704.942 177.871 705.289 Q179.676 705.636 181.621 706.331 Z\" fill=\"#000000\" fill-rule=\"evenodd\" fill-opacity=\"1\" /><path clip-path=\"url(#clip370)\" d=\"M126.783 401.173 Q123.172 401.173 121.343 404.738 Q119.538 408.28 119.538 415.409 Q119.538 422.516 121.343 426.081 Q123.172 429.622 126.783 429.622 Q130.417 429.622 132.223 426.081 Q134.052 422.516 134.052 415.409 Q134.052 408.28 132.223 404.738 Q130.417 401.173 126.783 401.173 M126.783 397.47 Q132.593 397.47 135.649 402.076 Q138.728 406.659 138.728 415.409 Q138.728 424.136 135.649 428.743 Q132.593 433.326 126.783 433.326 Q120.973 433.326 117.894 428.743 Q114.839 424.136 114.839 415.409 Q114.839 406.659 117.894 402.076 Q120.973 397.47 126.783 397.47 Z\" fill=\"#000000\" fill-rule=\"evenodd\" fill-opacity=\"1\" /><path clip-path=\"url(#clip370)\" d=\"M146.945 426.775 L151.829 426.775 L151.829 432.655 L146.945 432.655 L146.945 426.775 Z\" fill=\"#000000\" fill-rule=\"evenodd\" fill-opacity=\"1\" /><path clip-path=\"url(#clip370)\" d=\"M172.014 416.243 Q168.681 416.243 166.76 418.025 Q164.862 419.807 164.862 422.932 Q164.862 426.057 166.76 427.84 Q168.681 429.622 172.014 429.622 Q175.348 429.622 177.269 427.84 Q179.19 426.034 179.19 422.932 Q179.19 419.807 177.269 418.025 Q175.371 416.243 172.014 416.243 M167.339 414.252 Q164.329 413.511 162.64 411.451 Q160.973 409.391 160.973 406.428 Q160.973 402.284 163.913 399.877 Q166.876 397.47 172.014 397.47 Q177.176 397.47 180.116 399.877 Q183.056 402.284 183.056 406.428 Q183.056 409.391 181.366 411.451 Q179.7 413.511 176.714 414.252 Q180.093 415.039 181.968 417.331 Q183.866 419.622 183.866 422.932 Q183.866 427.956 180.788 430.641 Q177.732 433.326 172.014 433.326 Q166.297 433.326 163.218 430.641 Q160.163 427.956 160.163 422.932 Q160.163 419.622 162.061 417.331 Q163.959 415.039 167.339 414.252 M165.626 406.868 Q165.626 409.553 167.292 411.058 Q168.982 412.562 172.014 412.562 Q175.024 412.562 176.714 411.058 Q178.426 409.553 178.426 406.868 Q178.426 404.183 176.714 402.678 Q175.024 401.173 172.014 401.173 Q168.982 401.173 167.292 402.678 Q165.626 404.183 165.626 406.868 Z\" fill=\"#000000\" fill-rule=\"evenodd\" fill-opacity=\"1\" /><path clip-path=\"url(#clip370)\" d=\"M22.818 866.743 L46.4666 875.464 L46.4666 857.99 L22.818 866.743 M16.4842 870.371 L16.4842 863.082 L64.0042 844.972 L64.0042 851.656 L51.8138 855.985 L51.8138 877.405 L64.0042 881.734 L64.0042 888.513 L16.4842 870.371 Z\" fill=\"#000000\" fill-rule=\"evenodd\" fill-opacity=\"1\" /><path clip-path=\"url(#clip370)\" d=\"M16.4842 838.765 L16.4842 832.304 L45.3526 832.304 Q52.9915 832.304 56.3653 829.535 Q59.7073 826.766 59.7073 820.56 Q59.7073 814.385 56.3653 811.616 Q52.9915 808.847 45.3526 808.847 L16.4842 808.847 L16.4842 802.385 L46.1484 802.385 Q55.4423 802.385 60.1847 807.001 Q64.9272 811.584 64.9272 820.56 Q64.9272 829.567 60.1847 834.182 Q55.4423 838.765 46.1484 838.765 L16.4842 838.765 Z\" fill=\"#000000\" fill-rule=\"evenodd\" fill-opacity=\"1\" /><path clip-path=\"url(#clip370)\" d=\"M41.7242 767.788 Q42.4244 765.719 44.7161 763.777 Q47.0077 761.804 51.0181 759.831 L64.0042 753.306 L64.0042 760.213 L51.8138 766.292 Q47.0395 768.647 45.48 770.875 Q43.9204 773.071 43.9204 776.891 L43.9204 783.893 L64.0042 783.893 L64.0042 790.322 L16.4842 790.322 L16.4842 775.809 Q16.4842 767.661 19.8898 763.65 Q23.2955 759.64 30.1704 759.64 Q34.6582 759.64 37.6183 761.74 Q40.5784 763.809 41.7242 767.788 M21.7677 783.893 L38.6368 783.893 L38.6368 775.809 Q38.6368 771.162 36.5043 768.806 Q34.34 766.419 30.1704 766.419 Q26.0009 766.419 23.9002 768.806 Q21.7677 771.162 21.7677 775.809 L21.7677 783.893 Z\" fill=\"#000000\" fill-rule=\"evenodd\" fill-opacity=\"1\" /><path clip-path=\"url(#clip370)\" d=\"M20.8447 725.742 Q20.8447 732.745 26.0645 736.882 Q31.2844 740.988 40.2919 740.988 Q49.2675 740.988 54.4874 736.882 Q59.7073 732.745 59.7073 725.742 Q59.7073 718.74 54.4874 714.666 Q49.2675 710.56 40.2919 710.56 Q31.2844 710.56 26.0645 714.666 Q20.8447 718.74 20.8447 725.742 M15.6248 725.742 Q15.6248 715.748 22.3406 709.764 Q29.0246 703.781 40.2919 703.781 Q51.5274 703.781 58.2432 709.764 Q64.9272 715.748 64.9272 725.742 Q64.9272 735.768 58.2432 741.784 Q51.5592 747.768 40.2919 747.768 Q29.0246 747.768 22.3406 741.784 Q15.6248 735.768 15.6248 725.742 Z\" fill=\"#000000\" fill-rule=\"evenodd\" fill-opacity=\"1\" /><path clip-path=\"url(#clip370)\" d=\"M20.1444 658.139 L26.9239 658.139 Q23.9002 661.385 22.4043 665.077 Q20.9083 668.737 20.9083 672.875 Q20.9083 681.023 25.9054 685.352 Q30.8707 689.681 40.2919 689.681 Q49.6813 689.681 54.6784 685.352 Q59.6436 681.023 59.6436 672.875 Q59.6436 668.737 58.1477 665.077 Q56.6518 661.385 53.6281 658.139 L60.3439 658.139 Q62.6355 661.512 63.7814 665.3 Q64.9272 669.056 64.9272 673.257 Q64.9272 684.047 58.3387 690.254 Q51.7183 696.46 40.2919 696.46 Q28.8336 696.46 22.2451 690.254 Q15.6248 684.047 15.6248 673.257 Q15.6248 668.992 16.7706 665.236 Q17.8846 661.449 20.1444 658.139 Z\" fill=\"#000000\" fill-rule=\"evenodd\" fill-opacity=\"1\" /><path clip-path=\"url(#clip370)\" d=\"M532.053 14.0809 L532.053 22.0612 Q527.394 19.8332 523.263 18.7395 Q519.131 17.6457 515.282 17.6457 Q508.598 17.6457 504.952 20.2383 Q501.347 22.8309 501.347 27.611 Q501.347 31.6214 503.737 33.6873 Q506.168 35.7128 512.892 36.9686 L517.834 37.9813 Q526.989 39.7232 531.324 44.1387 Q535.699 48.5136 535.699 55.8863 Q535.699 64.6767 529.784 69.2137 Q523.911 73.7508 512.528 73.7508 Q508.234 73.7508 503.373 72.7785 Q498.552 71.8063 493.367 69.9024 L493.367 61.4765 Q498.349 64.2716 503.13 65.6895 Q507.91 67.1073 512.528 67.1073 Q519.536 67.1073 523.344 64.3527 Q527.151 61.598 527.151 56.4939 Q527.151 52.0379 524.397 49.5264 Q521.683 47.0148 515.444 45.759 L510.462 44.7868 Q501.307 42.9639 497.215 39.075 Q493.124 35.1862 493.124 28.2591 Q493.124 20.2383 498.755 15.6203 Q504.426 11.0023 514.351 11.0023 Q518.604 11.0023 523.019 11.7719 Q527.435 12.5416 532.053 14.0809 Z\" fill=\"#000000\" fill-rule=\"evenodd\" fill-opacity=\"1\" /><path clip-path=\"url(#clip370)\" d=\"M548.459 12.096 L586.7 12.096 L586.7 18.9825 L556.642 18.9825 L556.642 36.8875 L585.444 36.8875 L585.444 43.7741 L556.642 43.7741 L556.642 65.6895 L587.429 65.6895 L587.429 72.576 L548.459 72.576 L548.459 12.096 Z\" fill=\"#000000\" fill-rule=\"evenodd\" fill-opacity=\"1\" /><path clip-path=\"url(#clip370)\" d=\"M600.878 12.096 L609.061 12.096 L609.061 72.576 L600.878 72.576 L600.878 12.096 Z\" fill=\"#000000\" fill-rule=\"evenodd\" fill-opacity=\"1\" /><path clip-path=\"url(#clip370)\" d=\"M654.026 44.2197 Q656.659 45.1109 659.13 48.0275 Q661.641 50.9442 664.153 56.0483 L672.457 72.576 L663.667 72.576 L655.93 57.061 Q652.932 50.9847 650.096 48.9997 Q647.301 47.0148 642.44 47.0148 L633.528 47.0148 L633.528 72.576 L625.345 72.576 L625.345 12.096 L643.817 12.096 Q654.188 12.096 659.292 16.4305 Q664.396 20.7649 664.396 29.5149 Q664.396 35.2267 661.722 38.994 Q659.089 42.7613 654.026 44.2197 M633.528 18.8205 L633.528 40.2903 L643.817 40.2903 Q649.732 40.2903 652.729 37.5762 Q655.768 34.8216 655.768 29.5149 Q655.768 24.2082 652.729 21.5346 Q649.732 18.8205 643.817 18.8205 L633.528 18.8205 Z\" fill=\"#000000\" fill-rule=\"evenodd\" fill-opacity=\"1\" /><path clip-path=\"url(#clip370)\" d=\"M724.957 72.576 L701.867 12.096 L710.414 12.096 L729.575 63.0159 L748.776 12.096 L757.283 12.096 L734.234 72.576 L724.957 72.576 Z\" fill=\"#000000\" fill-rule=\"evenodd\" fill-opacity=\"1\" /><path clip-path=\"url(#clip370)\" d=\"M802.37 14.0809 L802.37 22.0612 Q797.711 19.8332 793.579 18.7395 Q789.447 17.6457 785.599 17.6457 Q778.915 17.6457 775.269 20.2383 Q771.664 22.8309 771.664 27.611 Q771.664 31.6214 774.054 33.6873 Q776.485 35.7128 783.209 36.9686 L788.151 37.9813 Q797.306 39.7232 801.641 44.1387 Q806.016 48.5136 806.016 55.8863 Q806.016 64.6767 800.101 69.2137 Q794.227 73.7508 782.844 73.7508 Q778.55 73.7508 773.689 72.7785 Q768.869 71.8063 763.684 69.9024 L763.684 61.4765 Q768.666 64.2716 773.446 65.6895 Q778.226 67.1073 782.844 67.1073 Q789.853 67.1073 793.66 64.3527 Q797.468 61.598 797.468 56.4939 Q797.468 52.0379 794.714 49.5264 Q791.999 47.0148 785.761 45.759 L780.778 44.7868 Q771.623 42.9639 767.532 39.075 Q763.441 35.1862 763.441 28.2591 Q763.441 20.2383 769.071 15.6203 Q774.743 11.0023 784.667 11.0023 Q788.921 11.0023 793.336 11.7719 Q797.752 12.5416 802.37 14.0809 Z\" fill=\"#000000\" fill-rule=\"evenodd\" fill-opacity=\"1\" /><path clip-path=\"url(#clip370)\" d=\"M881.403 14.0809 L881.403 22.0612 Q876.744 19.8332 872.612 18.7395 Q868.481 17.6457 864.632 17.6457 Q857.948 17.6457 854.302 20.2383 Q850.697 22.8309 850.697 27.611 Q850.697 31.6214 853.087 33.6873 Q855.518 35.7128 862.242 36.9686 L867.184 37.9813 Q876.339 39.7232 880.674 44.1387 Q885.049 48.5136 885.049 55.8863 Q885.049 64.6767 879.134 69.2137 Q873.261 73.7508 861.878 73.7508 Q857.584 73.7508 852.723 72.7785 Q847.902 71.8063 842.717 69.9024 L842.717 61.4765 Q847.699 64.2716 852.479 65.6895 Q857.26 67.1073 861.878 67.1073 Q868.886 67.1073 872.694 64.3527 Q876.501 61.598 876.501 56.4939 Q876.501 52.0379 873.747 49.5264 Q871.033 47.0148 864.794 45.759 L859.812 44.7868 Q850.657 42.9639 846.565 39.075 Q842.474 35.1862 842.474 28.2591 Q842.474 20.2383 848.105 15.6203 Q853.776 11.0023 863.701 11.0023 Q867.954 11.0023 872.369 11.7719 Q876.785 12.5416 881.403 14.0809 Z\" fill=\"#000000\" fill-rule=\"evenodd\" fill-opacity=\"1\" /><path clip-path=\"url(#clip370)\" d=\"M897.809 12.096 L905.992 12.096 L905.992 72.576 L897.809 72.576 L897.809 12.096 Z\" fill=\"#000000\" fill-rule=\"evenodd\" fill-opacity=\"1\" /><path clip-path=\"url(#clip370)\" d=\"M950.957 44.2197 Q953.59 45.1109 956.061 48.0275 Q958.573 50.9442 961.084 56.0483 L969.389 72.576 L960.598 72.576 L952.861 57.061 Q949.863 50.9847 947.028 48.9997 Q944.232 47.0148 939.371 47.0148 L930.459 47.0148 L930.459 72.576 L922.277 72.576 L922.277 12.096 L940.749 12.096 Q951.119 12.096 956.223 16.4305 Q961.327 20.7649 961.327 29.5149 Q961.327 35.2267 958.654 38.994 Q956.021 42.7613 950.957 44.2197 M930.459 18.8205 L930.459 40.2903 L940.749 40.2903 Q946.663 40.2903 949.661 37.5762 Q952.699 34.8216 952.699 29.5149 Q952.699 24.2082 949.661 21.5346 Q946.663 18.8205 940.749 18.8205 L930.459 18.8205 Z\" fill=\"#000000\" fill-rule=\"evenodd\" fill-opacity=\"1\" /><path clip-path=\"url(#clip370)\" d=\"M1026.51 20.1573 L1015.41 50.2555 L1037.65 50.2555 L1026.51 20.1573 M1021.89 12.096 L1031.16 12.096 L1054.21 72.576 L1045.71 72.576 L1040.2 57.061 L1012.94 57.061 L1007.43 72.576 L998.798 72.576 L1021.89 12.096 Z\" fill=\"#000000\" fill-rule=\"evenodd\" fill-opacity=\"1\" /><path clip-path=\"url(#clip370)\" d=\"M1062.11 12.096 L1070.34 12.096 L1070.34 48.8377 Q1070.34 58.5599 1073.86 62.8538 Q1077.39 67.1073 1085.28 67.1073 Q1093.14 67.1073 1096.67 62.8538 Q1100.19 58.5599 1100.19 48.8377 L1100.19 12.096 L1108.42 12.096 L1108.42 49.8504 Q1108.42 61.6791 1102.54 67.7149 Q1096.71 73.7508 1085.28 73.7508 Q1073.82 73.7508 1067.95 67.7149 Q1062.11 61.6791 1062.11 49.8504 L1062.11 12.096 Z\" fill=\"#000000\" fill-rule=\"evenodd\" fill-opacity=\"1\" /><path clip-path=\"url(#clip370)\" d=\"M1152.45 44.2197 Q1155.08 45.1109 1157.55 48.0275 Q1160.06 50.9442 1162.58 56.0483 L1170.88 72.576 L1162.09 72.576 L1154.35 57.061 Q1151.36 50.9847 1148.52 48.9997 Q1145.72 47.0148 1140.86 47.0148 L1131.95 47.0148 L1131.95 72.576 L1123.77 72.576 L1123.77 12.096 L1142.24 12.096 Q1152.61 12.096 1157.72 16.4305 Q1162.82 20.7649 1162.82 29.5149 Q1162.82 35.2267 1160.15 38.994 Q1157.51 42.7613 1152.45 44.2197 M1131.95 18.8205 L1131.95 40.2903 L1142.24 40.2903 Q1148.15 40.2903 1151.15 37.5762 Q1154.19 34.8216 1154.19 29.5149 Q1154.19 24.2082 1151.15 21.5346 Q1148.15 18.8205 1142.24 18.8205 L1131.95 18.8205 Z\" fill=\"#000000\" fill-rule=\"evenodd\" fill-opacity=\"1\" /><path clip-path=\"url(#clip370)\" d=\"M1205.96 17.6457 Q1197.05 17.6457 1191.78 24.2892 Q1186.56 30.9327 1186.56 42.3968 Q1186.56 53.8203 1191.78 60.4638 Q1197.05 67.1073 1205.96 67.1073 Q1214.87 67.1073 1220.06 60.4638 Q1225.28 53.8203 1225.28 42.3968 Q1225.28 30.9327 1220.06 24.2892 Q1214.87 17.6457 1205.96 17.6457 M1205.96 11.0023 Q1218.68 11.0023 1226.3 19.5497 Q1233.91 28.0566 1233.91 42.3968 Q1233.91 56.6965 1226.3 65.2439 Q1218.68 73.7508 1205.96 73.7508 Q1193.2 73.7508 1185.54 65.2439 Q1177.93 56.737 1177.93 42.3968 Q1177.93 28.0566 1185.54 19.5497 Q1193.2 11.0023 1205.96 11.0023 Z\" fill=\"#000000\" fill-rule=\"evenodd\" fill-opacity=\"1\" /><path clip-path=\"url(#clip370)\" d=\"M1292 16.7545 L1292 25.383 Q1287.87 21.5346 1283.17 19.6307 Q1278.51 17.7268 1273.25 17.7268 Q1262.88 17.7268 1257.37 24.0867 Q1251.86 30.4061 1251.86 42.3968 Q1251.86 54.3469 1257.37 60.7069 Q1262.88 67.0263 1273.25 67.0263 Q1278.51 67.0263 1283.17 65.1223 Q1287.87 63.2184 1292 59.3701 L1292 67.9175 Q1287.71 70.8341 1282.89 72.2924 Q1278.11 73.7508 1272.76 73.7508 Q1259.03 73.7508 1251.13 65.3654 Q1243.23 56.9395 1243.23 42.3968 Q1243.23 27.8135 1251.13 19.4281 Q1259.03 11.0023 1272.76 11.0023 Q1278.19 11.0023 1282.97 12.4606 Q1287.79 13.8784 1292 16.7545 Z\" fill=\"#000000\" fill-rule=\"evenodd\" fill-opacity=\"1\" /><path clip-path=\"url(#clip370)\" d=\"M1330.69 27.2059 L1338.14 27.2059 L1338.14 72.576 L1330.69 72.576 L1330.69 27.2059 M1330.69 9.54393 L1338.14 9.54393 L1338.14 18.9825 L1330.69 18.9825 L1330.69 9.54393 Z\" fill=\"#000000\" fill-rule=\"evenodd\" fill-opacity=\"1\" /><path clip-path=\"url(#clip370)\" d=\"M1391.45 45.1919 L1391.45 72.576 L1384 72.576 L1384 45.4349 Q1384 38.994 1381.49 35.7938 Q1378.98 32.5936 1373.95 32.5936 Q1367.92 32.5936 1364.43 36.4419 Q1360.95 40.2903 1360.95 46.9338 L1360.95 72.576 L1353.45 72.576 L1353.45 27.2059 L1360.95 27.2059 L1360.95 34.2544 Q1363.62 30.163 1367.23 28.1376 Q1370.87 26.1121 1375.61 26.1121 Q1383.43 26.1121 1387.44 30.9732 Q1391.45 35.7938 1391.45 45.1919 Z\" fill=\"#000000\" fill-rule=\"evenodd\" fill-opacity=\"1\" /><path clip-path=\"url(#clip370)\" d=\"M1455.66 9.54393 L1455.66 15.7418 L1448.53 15.7418 Q1444.52 15.7418 1442.94 17.3622 Q1441.4 18.9825 1441.4 23.1955 L1441.4 27.2059 L1453.67 27.2059 L1453.67 32.9987 L1441.4 32.9987 L1441.4 72.576 L1433.91 72.576 L1433.91 32.9987 L1426.78 32.9987 L1426.78 27.2059 L1433.91 27.2059 L1433.91 24.0462 Q1433.91 16.471 1437.43 13.0277 Q1440.95 9.54393 1448.61 9.54393 L1455.66 9.54393 Z\" fill=\"#000000\" fill-rule=\"evenodd\" fill-opacity=\"1\" /><path clip-path=\"url(#clip370)\" d=\"M1461.13 54.671 L1461.13 27.2059 L1468.58 27.2059 L1468.58 54.3874 Q1468.58 60.8284 1471.09 64.0691 Q1473.6 67.2693 1478.63 67.2693 Q1484.66 67.2693 1488.15 63.421 Q1491.67 59.5726 1491.67 52.9291 L1491.67 27.2059 L1499.13 27.2059 L1499.13 72.576 L1491.67 72.576 L1491.67 65.6084 Q1488.96 69.7404 1485.35 71.7658 Q1481.79 73.7508 1477.05 73.7508 Q1469.23 73.7508 1465.18 68.8897 Q1461.13 64.0286 1461.13 54.671 M1479.88 26.1121 L1479.88 26.1121 Z\" fill=\"#000000\" fill-rule=\"evenodd\" fill-opacity=\"1\" /><path clip-path=\"url(#clip370)\" d=\"M1552.19 45.1919 L1552.19 72.576 L1544.74 72.576 L1544.74 45.4349 Q1544.74 38.994 1542.23 35.7938 Q1539.72 32.5936 1534.69 32.5936 Q1528.66 32.5936 1525.17 36.4419 Q1521.69 40.2903 1521.69 46.9338 L1521.69 72.576 L1514.19 72.576 L1514.19 27.2059 L1521.69 27.2059 L1521.69 34.2544 Q1524.36 30.163 1527.97 28.1376 Q1531.61 26.1121 1536.35 26.1121 Q1544.17 26.1121 1548.18 30.9732 Q1552.19 35.7938 1552.19 45.1919 Z\" fill=\"#000000\" fill-rule=\"evenodd\" fill-opacity=\"1\" /><path clip-path=\"url(#clip370)\" d=\"M1599.71 28.9478 L1599.71 35.9153 Q1596.55 34.1734 1593.35 33.3227 Q1590.19 32.4315 1586.95 32.4315 Q1579.7 32.4315 1575.69 37.0496 Q1571.68 41.6271 1571.68 49.9314 Q1571.68 58.2358 1575.69 62.8538 Q1579.7 67.4314 1586.95 67.4314 Q1590.19 67.4314 1593.35 66.5807 Q1596.55 65.6895 1599.71 63.9476 L1599.71 70.8341 Q1596.59 72.2924 1593.23 73.0216 Q1589.91 73.7508 1586.14 73.7508 Q1575.89 73.7508 1569.85 67.3098 Q1563.82 60.8689 1563.82 49.9314 Q1563.82 38.832 1569.89 32.472 Q1576.01 26.1121 1586.62 26.1121 Q1590.07 26.1121 1593.35 26.8413 Q1596.63 27.5299 1599.71 28.9478 Z\" fill=\"#000000\" fill-rule=\"evenodd\" fill-opacity=\"1\" /><path clip-path=\"url(#clip370)\" d=\"M1620.04 14.324 L1620.04 27.2059 L1635.4 27.2059 L1635.4 32.9987 L1620.04 32.9987 L1620.04 57.6282 Q1620.04 63.1779 1621.54 64.7578 Q1623.08 66.3376 1627.74 66.3376 L1635.4 66.3376 L1635.4 72.576 L1627.74 72.576 Q1619.11 72.576 1615.83 69.3758 Q1612.55 66.1351 1612.55 57.6282 L1612.55 32.9987 L1607.08 32.9987 L1607.08 27.2059 L1612.55 27.2059 L1612.55 14.324 L1620.04 14.324 Z\" fill=\"#000000\" fill-rule=\"evenodd\" fill-opacity=\"1\" /><path clip-path=\"url(#clip370)\" d=\"M1645.2 27.2059 L1652.65 27.2059 L1652.65 72.576 L1645.2 72.576 L1645.2 27.2059 M1645.2 9.54393 L1652.65 9.54393 L1652.65 18.9825 L1645.2 18.9825 L1645.2 9.54393 Z\" fill=\"#000000\" fill-rule=\"evenodd\" fill-opacity=\"1\" /><path clip-path=\"url(#clip370)\" d=\"M1685.83 32.4315 Q1679.84 32.4315 1676.35 37.1306 Q1672.87 41.7891 1672.87 49.9314 Q1672.87 58.0738 1676.31 62.7728 Q1679.8 67.4314 1685.83 67.4314 Q1691.79 67.4314 1695.27 62.7323 Q1698.75 58.0333 1698.75 49.9314 Q1698.75 41.8701 1695.27 37.1711 Q1691.79 32.4315 1685.83 32.4315 M1685.83 26.1121 Q1695.55 26.1121 1701.1 32.4315 Q1706.65 38.7509 1706.65 49.9314 Q1706.65 61.0714 1701.1 67.4314 Q1695.55 73.7508 1685.83 73.7508 Q1676.07 73.7508 1670.52 67.4314 Q1665.01 61.0714 1665.01 49.9314 Q1665.01 38.7509 1670.52 32.4315 Q1676.07 26.1121 1685.83 26.1121 Z\" fill=\"#000000\" fill-rule=\"evenodd\" fill-opacity=\"1\" /><path clip-path=\"url(#clip370)\" d=\"M1756.72 45.1919 L1756.72 72.576 L1749.27 72.576 L1749.27 45.4349 Q1749.27 38.994 1746.76 35.7938 Q1744.25 32.5936 1739.22 32.5936 Q1733.19 32.5936 1729.7 36.4419 Q1726.22 40.2903 1726.22 46.9338 L1726.22 72.576 L1718.72 72.576 L1718.72 27.2059 L1726.22 27.2059 L1726.22 34.2544 Q1728.89 30.163 1732.5 28.1376 Q1736.14 26.1121 1740.88 26.1121 Q1748.7 26.1121 1752.71 30.9732 Q1756.72 35.7938 1756.72 45.1919 Z\" fill=\"#000000\" fill-rule=\"evenodd\" fill-opacity=\"1\" /><path clip-path=\"url(#clip370)\" d=\"M1815.54 32.4315 Q1809.55 32.4315 1806.06 37.1306 Q1802.58 41.7891 1802.58 49.9314 Q1802.58 58.0738 1806.02 62.7728 Q1809.51 67.4314 1815.54 67.4314 Q1821.5 67.4314 1824.98 62.7323 Q1828.46 58.0333 1828.46 49.9314 Q1828.46 41.8701 1824.98 37.1711 Q1821.5 32.4315 1815.54 32.4315 M1815.54 26.1121 Q1825.26 26.1121 1830.81 32.4315 Q1836.36 38.7509 1836.36 49.9314 Q1836.36 61.0714 1830.81 67.4314 Q1825.26 73.7508 1815.54 73.7508 Q1805.78 73.7508 1800.23 67.4314 Q1794.72 61.0714 1794.72 49.9314 Q1794.72 38.7509 1800.23 32.4315 Q1805.78 26.1121 1815.54 26.1121 Z\" fill=\"#000000\" fill-rule=\"evenodd\" fill-opacity=\"1\" /><path clip-path=\"url(#clip370)\" d=\"M1871.69 9.54393 L1871.69 15.7418 L1864.56 15.7418 Q1860.55 15.7418 1858.97 17.3622 Q1857.43 18.9825 1857.43 23.1955 L1857.43 27.2059 L1869.7 27.2059 L1869.7 32.9987 L1857.43 32.9987 L1857.43 72.576 L1849.93 72.576 L1849.93 32.9987 L1842.8 32.9987 L1842.8 27.2059 L1849.93 27.2059 L1849.93 24.0462 Q1849.93 16.471 1853.46 13.0277 Q1856.98 9.54393 1864.64 9.54393 L1871.69 9.54393 Z\" fill=\"#000000\" fill-rule=\"evenodd\" fill-opacity=\"1\" /><path clip-path=\"url(#clip370)\" d=\"M1911.67 14.324 L1911.67 27.2059 L1927.02 27.2059 L1927.02 32.9987 L1911.67 32.9987 L1911.67 57.6282 Q1911.67 63.1779 1913.17 64.7578 Q1914.71 66.3376 1919.37 66.3376 L1927.02 66.3376 L1927.02 72.576 L1919.37 72.576 Q1910.74 72.576 1907.46 69.3758 Q1904.18 66.1351 1904.18 57.6282 L1904.18 32.9987 L1898.71 32.9987 L1898.71 27.2059 L1904.18 27.2059 L1904.18 14.324 L1911.67 14.324 Z\" fill=\"#000000\" fill-rule=\"evenodd\" fill-opacity=\"1\" /><path clip-path=\"url(#clip370)\" d=\"M1936.83 27.2059 L1944.28 27.2059 L1944.28 72.576 L1936.83 72.576 L1936.83 27.2059 M1936.83 9.54393 L1944.28 9.54393 L1944.28 18.9825 L1936.83 18.9825 L1936.83 9.54393 Z\" fill=\"#000000\" fill-rule=\"evenodd\" fill-opacity=\"1\" /><path clip-path=\"url(#clip370)\" d=\"M1995.2 35.9153 Q1997.99 30.8922 2001.88 28.5022 Q2005.77 26.1121 2011.04 26.1121 Q2018.13 26.1121 2021.98 31.0947 Q2025.82 36.0368 2025.82 45.1919 L2025.82 72.576 L2018.33 72.576 L2018.33 45.4349 Q2018.33 38.913 2016.02 35.7533 Q2013.71 32.5936 2008.97 32.5936 Q2003.18 32.5936 1999.82 36.4419 Q1996.45 40.2903 1996.45 46.9338 L1996.45 72.576 L1988.96 72.576 L1988.96 45.4349 Q1988.96 38.8725 1986.65 35.7533 Q1984.34 32.5936 1979.52 32.5936 Q1973.81 32.5936 1970.45 36.4824 Q1967.09 40.3308 1967.09 46.9338 L1967.09 72.576 L1959.59 72.576 L1959.59 27.2059 L1967.09 27.2059 L1967.09 34.2544 Q1969.64 30.082 1973.2 28.0971 Q1976.77 26.1121 1981.67 26.1121 Q1986.61 26.1121 1990.05 28.6237 Q1993.54 31.1352 1995.2 35.9153 Z\" fill=\"#000000\" fill-rule=\"evenodd\" fill-opacity=\"1\" /><path clip-path=\"url(#clip370)\" d=\"M2079.5 48.0275 L2079.5 51.6733 L2045.23 51.6733 Q2045.71 59.3701 2049.85 63.421 Q2054.02 67.4314 2061.43 67.4314 Q2065.73 67.4314 2069.74 66.3781 Q2073.79 65.3249 2077.76 63.2184 L2077.76 70.267 Q2073.75 71.9684 2069.53 72.8596 Q2065.32 73.7508 2060.99 73.7508 Q2050.13 73.7508 2043.77 67.4314 Q2037.45 61.1119 2037.45 50.3365 Q2037.45 39.1965 2043.45 32.6746 Q2049.48 26.1121 2059.69 26.1121 Q2068.84 26.1121 2074.15 32.0264 Q2079.5 37.9003 2079.5 48.0275 M2072.04 45.84 Q2071.96 39.7232 2068.6 36.0774 Q2065.28 32.4315 2059.77 32.4315 Q2053.53 32.4315 2049.76 35.9558 Q2046.04 39.4801 2045.47 45.8805 L2072.04 45.84 Z\" fill=\"#000000\" fill-rule=\"evenodd\" fill-opacity=\"1\" /><circle clip-path=\"url(#clip372)\" cx=\"280.231\" cy=\"1375.83\" r=\"14\" fill=\"#009af9\" fill-rule=\"evenodd\" fill-opacity=\"1\" stroke=\"#000000\" stroke-opacity=\"1\" stroke-width=\"3.2\"/>\n",
       "<circle clip-path=\"url(#clip372)\" cx=\"386.134\" cy=\"1386.4\" r=\"14\" fill=\"#009af9\" fill-rule=\"evenodd\" fill-opacity=\"1\" stroke=\"#000000\" stroke-opacity=\"1\" stroke-width=\"3.2\"/>\n",
       "<circle clip-path=\"url(#clip372)\" cx=\"492.037\" cy=\"1277.28\" r=\"14\" fill=\"#009af9\" fill-rule=\"evenodd\" fill-opacity=\"1\" stroke=\"#000000\" stroke-opacity=\"1\" stroke-width=\"3.2\"/>\n",
       "<circle clip-path=\"url(#clip372)\" cx=\"597.941\" cy=\"1256.75\" r=\"14\" fill=\"#009af9\" fill-rule=\"evenodd\" fill-opacity=\"1\" stroke=\"#000000\" stroke-opacity=\"1\" stroke-width=\"3.2\"/>\n",
       "<circle clip-path=\"url(#clip372)\" cx=\"703.844\" cy=\"1271.72\" r=\"14\" fill=\"#009af9\" fill-rule=\"evenodd\" fill-opacity=\"1\" stroke=\"#000000\" stroke-opacity=\"1\" stroke-width=\"3.2\"/>\n",
       "<circle clip-path=\"url(#clip372)\" cx=\"809.747\" cy=\"1138.63\" r=\"14\" fill=\"#009af9\" fill-rule=\"evenodd\" fill-opacity=\"1\" stroke=\"#000000\" stroke-opacity=\"1\" stroke-width=\"3.2\"/>\n",
       "<circle clip-path=\"url(#clip372)\" cx=\"915.65\" cy=\"1044.79\" r=\"14\" fill=\"#009af9\" fill-rule=\"evenodd\" fill-opacity=\"1\" stroke=\"#000000\" stroke-opacity=\"1\" stroke-width=\"3.2\"/>\n",
       "<circle clip-path=\"url(#clip372)\" cx=\"1021.55\" cy=\"1090.68\" r=\"14\" fill=\"#009af9\" fill-rule=\"evenodd\" fill-opacity=\"1\" stroke=\"#000000\" stroke-opacity=\"1\" stroke-width=\"3.2\"/>\n",
       "<circle clip-path=\"url(#clip372)\" cx=\"1127.46\" cy=\"1176.36\" r=\"14\" fill=\"#009af9\" fill-rule=\"evenodd\" fill-opacity=\"1\" stroke=\"#000000\" stroke-opacity=\"1\" stroke-width=\"3.2\"/>\n",
       "<circle clip-path=\"url(#clip372)\" cx=\"1233.36\" cy=\"1184.22\" r=\"14\" fill=\"#009af9\" fill-rule=\"evenodd\" fill-opacity=\"1\" stroke=\"#000000\" stroke-opacity=\"1\" stroke-width=\"3.2\"/>\n",
       "<circle clip-path=\"url(#clip372)\" cx=\"1339.26\" cy=\"1170.9\" r=\"14\" fill=\"#009af9\" fill-rule=\"evenodd\" fill-opacity=\"1\" stroke=\"#000000\" stroke-opacity=\"1\" stroke-width=\"3.2\"/>\n",
       "<circle clip-path=\"url(#clip372)\" cx=\"1445.17\" cy=\"1130.83\" r=\"14\" fill=\"#009af9\" fill-rule=\"evenodd\" fill-opacity=\"1\" stroke=\"#000000\" stroke-opacity=\"1\" stroke-width=\"3.2\"/>\n",
       "<circle clip-path=\"url(#clip372)\" cx=\"1551.07\" cy=\"1230.03\" r=\"14\" fill=\"#009af9\" fill-rule=\"evenodd\" fill-opacity=\"1\" stroke=\"#000000\" stroke-opacity=\"1\" stroke-width=\"3.2\"/>\n",
       "<circle clip-path=\"url(#clip372)\" cx=\"1656.97\" cy=\"1266.49\" r=\"14\" fill=\"#009af9\" fill-rule=\"evenodd\" fill-opacity=\"1\" stroke=\"#000000\" stroke-opacity=\"1\" stroke-width=\"3.2\"/>\n",
       "<circle clip-path=\"url(#clip372)\" cx=\"1762.88\" cy=\"1213.5\" r=\"14\" fill=\"#009af9\" fill-rule=\"evenodd\" fill-opacity=\"1\" stroke=\"#000000\" stroke-opacity=\"1\" stroke-width=\"3.2\"/>\n",
       "<circle clip-path=\"url(#clip372)\" cx=\"1868.78\" cy=\"1223.86\" r=\"14\" fill=\"#009af9\" fill-rule=\"evenodd\" fill-opacity=\"1\" stroke=\"#000000\" stroke-opacity=\"1\" stroke-width=\"3.2\"/>\n",
       "<circle clip-path=\"url(#clip372)\" cx=\"1974.68\" cy=\"1248.47\" r=\"14\" fill=\"#009af9\" fill-rule=\"evenodd\" fill-opacity=\"1\" stroke=\"#000000\" stroke-opacity=\"1\" stroke-width=\"3.2\"/>\n",
       "<circle clip-path=\"url(#clip372)\" cx=\"2080.58\" cy=\"1244.16\" r=\"14\" fill=\"#009af9\" fill-rule=\"evenodd\" fill-opacity=\"1\" stroke=\"#000000\" stroke-opacity=\"1\" stroke-width=\"3.2\"/>\n",
       "<circle clip-path=\"url(#clip372)\" cx=\"2186.49\" cy=\"1203.64\" r=\"14\" fill=\"#009af9\" fill-rule=\"evenodd\" fill-opacity=\"1\" stroke=\"#000000\" stroke-opacity=\"1\" stroke-width=\"3.2\"/>\n",
       "<circle clip-path=\"url(#clip372)\" cx=\"2292.39\" cy=\"1192.56\" r=\"14\" fill=\"#009af9\" fill-rule=\"evenodd\" fill-opacity=\"1\" stroke=\"#000000\" stroke-opacity=\"1\" stroke-width=\"3.2\"/>\n",
       "<circle clip-path=\"url(#clip372)\" cx=\"280.231\" cy=\"398.469\" r=\"14\" fill=\"#e26f46\" fill-rule=\"evenodd\" fill-opacity=\"1\" stroke=\"#000000\" stroke-opacity=\"1\" stroke-width=\"3.2\"/>\n",
       "<circle clip-path=\"url(#clip372)\" cx=\"386.134\" cy=\"409.035\" r=\"14\" fill=\"#e26f46\" fill-rule=\"evenodd\" fill-opacity=\"1\" stroke=\"#000000\" stroke-opacity=\"1\" stroke-width=\"3.2\"/>\n",
       "<circle clip-path=\"url(#clip372)\" cx=\"492.037\" cy=\"377.758\" r=\"14\" fill=\"#e26f46\" fill-rule=\"evenodd\" fill-opacity=\"1\" stroke=\"#000000\" stroke-opacity=\"1\" stroke-width=\"3.2\"/>\n",
       "<circle clip-path=\"url(#clip372)\" cx=\"597.941\" cy=\"366.914\" r=\"14\" fill=\"#e26f46\" fill-rule=\"evenodd\" fill-opacity=\"1\" stroke=\"#000000\" stroke-opacity=\"1\" stroke-width=\"3.2\"/>\n",
       "<circle clip-path=\"url(#clip372)\" cx=\"703.844\" cy=\"383.839\" r=\"14\" fill=\"#e26f46\" fill-rule=\"evenodd\" fill-opacity=\"1\" stroke=\"#000000\" stroke-opacity=\"1\" stroke-width=\"3.2\"/>\n",
       "<circle clip-path=\"url(#clip372)\" cx=\"809.747\" cy=\"302.984\" r=\"14\" fill=\"#e26f46\" fill-rule=\"evenodd\" fill-opacity=\"1\" stroke=\"#000000\" stroke-opacity=\"1\" stroke-width=\"3.2\"/>\n",
       "<circle clip-path=\"url(#clip372)\" cx=\"915.65\" cy=\"234.509\" r=\"14\" fill=\"#e26f46\" fill-rule=\"evenodd\" fill-opacity=\"1\" stroke=\"#000000\" stroke-opacity=\"1\" stroke-width=\"3.2\"/>\n",
       "<circle clip-path=\"url(#clip372)\" cx=\"1021.55\" cy=\"245.186\" r=\"14\" fill=\"#e26f46\" fill-rule=\"evenodd\" fill-opacity=\"1\" stroke=\"#000000\" stroke-opacity=\"1\" stroke-width=\"3.2\"/>\n",
       "<circle clip-path=\"url(#clip372)\" cx=\"1127.46\" cy=\"266.364\" r=\"14\" fill=\"#e26f46\" fill-rule=\"evenodd\" fill-opacity=\"1\" stroke=\"#000000\" stroke-opacity=\"1\" stroke-width=\"3.2\"/>\n",
       "<circle clip-path=\"url(#clip372)\" cx=\"1233.36\" cy=\"218.17\" r=\"14\" fill=\"#e26f46\" fill-rule=\"evenodd\" fill-opacity=\"1\" stroke=\"#000000\" stroke-opacity=\"1\" stroke-width=\"3.2\"/>\n",
       "<circle clip-path=\"url(#clip372)\" cx=\"1339.26\" cy=\"214.993\" r=\"14\" fill=\"#e26f46\" fill-rule=\"evenodd\" fill-opacity=\"1\" stroke=\"#000000\" stroke-opacity=\"1\" stroke-width=\"3.2\"/>\n",
       "<circle clip-path=\"url(#clip372)\" cx=\"1445.17\" cy=\"227.936\" r=\"14\" fill=\"#e26f46\" fill-rule=\"evenodd\" fill-opacity=\"1\" stroke=\"#000000\" stroke-opacity=\"1\" stroke-width=\"3.2\"/>\n",
       "<circle clip-path=\"url(#clip372)\" cx=\"1551.07\" cy=\"250.285\" r=\"14\" fill=\"#e26f46\" fill-rule=\"evenodd\" fill-opacity=\"1\" stroke=\"#000000\" stroke-opacity=\"1\" stroke-width=\"3.2\"/>\n",
       "<circle clip-path=\"url(#clip372)\" cx=\"1656.97\" cy=\"234.778\" r=\"14\" fill=\"#e26f46\" fill-rule=\"evenodd\" fill-opacity=\"1\" stroke=\"#000000\" stroke-opacity=\"1\" stroke-width=\"3.2\"/>\n",
       "<circle clip-path=\"url(#clip372)\" cx=\"1762.88\" cy=\"213.842\" r=\"14\" fill=\"#e26f46\" fill-rule=\"evenodd\" fill-opacity=\"1\" stroke=\"#000000\" stroke-opacity=\"1\" stroke-width=\"3.2\"/>\n",
       "<circle clip-path=\"url(#clip372)\" cx=\"1868.78\" cy=\"187.262\" r=\"14\" fill=\"#e26f46\" fill-rule=\"evenodd\" fill-opacity=\"1\" stroke=\"#000000\" stroke-opacity=\"1\" stroke-width=\"3.2\"/>\n",
       "<circle clip-path=\"url(#clip372)\" cx=\"1974.68\" cy=\"185.416\" r=\"14\" fill=\"#e26f46\" fill-rule=\"evenodd\" fill-opacity=\"1\" stroke=\"#000000\" stroke-opacity=\"1\" stroke-width=\"3.2\"/>\n",
       "<circle clip-path=\"url(#clip372)\" cx=\"2080.58\" cy=\"176.804\" r=\"14\" fill=\"#e26f46\" fill-rule=\"evenodd\" fill-opacity=\"1\" stroke=\"#000000\" stroke-opacity=\"1\" stroke-width=\"3.2\"/>\n",
       "<circle clip-path=\"url(#clip372)\" cx=\"2186.49\" cy=\"162.104\" r=\"14\" fill=\"#e26f46\" fill-rule=\"evenodd\" fill-opacity=\"1\" stroke=\"#000000\" stroke-opacity=\"1\" stroke-width=\"3.2\"/>\n",
       "<circle clip-path=\"url(#clip372)\" cx=\"2292.39\" cy=\"160.256\" r=\"14\" fill=\"#e26f46\" fill-rule=\"evenodd\" fill-opacity=\"1\" stroke=\"#000000\" stroke-opacity=\"1\" stroke-width=\"3.2\"/>\n",
       "<path clip-path=\"url(#clip370)\" d=\"\n",
       "M1787.15 825.166 L2281.66 825.166 L2281.66 669.646 L1787.15 669.646  Z\n",
       "  \" fill=\"#ffffff\" fill-rule=\"evenodd\" fill-opacity=\"1\"/>\n",
       "<polyline clip-path=\"url(#clip370)\" style=\"stroke:#000000; stroke-linecap:butt; stroke-linejoin:round; stroke-width:4; stroke-opacity:1; fill:none\" points=\"\n",
       "  1787.15,825.166 2281.66,825.166 2281.66,669.646 1787.15,669.646 1787.15,825.166 \n",
       "  \"/>\n",
       "<circle clip-path=\"url(#clip370)\" cx=\"1881.95\" cy=\"721.486\" r=\"23\" fill=\"#009af9\" fill-rule=\"evenodd\" fill-opacity=\"1\" stroke=\"#000000\" stroke-opacity=\"1\" stroke-width=\"5.12\"/>\n",
       "<path clip-path=\"url(#clip370)\" d=\"M1992.57 708.812 L1986.23 726.011 L1998.94 726.011 L1992.57 708.812 M1989.93 704.206 L1995.24 704.206 L2008.41 738.766 L2003.55 738.766 L2000.4 729.9 L1984.82 729.9 L1981.67 738.766 L1976.74 738.766 L1989.93 704.206 Z\" fill=\"#000000\" fill-rule=\"evenodd\" fill-opacity=\"1\" /><path clip-path=\"url(#clip370)\" d=\"M2012.92 704.206 L2017.62 704.206 L2017.62 725.201 Q2017.62 730.757 2019.63 733.21 Q2021.65 735.641 2026.16 735.641 Q2030.65 735.641 2032.67 733.21 Q2034.68 730.757 2034.68 725.201 L2034.68 704.206 L2039.38 704.206 L2039.38 725.78 Q2039.38 732.539 2036.02 735.988 Q2032.69 739.437 2026.16 739.437 Q2019.61 739.437 2016.25 735.988 Q2012.92 732.539 2012.92 725.78 L2012.92 704.206 Z\" fill=\"#000000\" fill-rule=\"evenodd\" fill-opacity=\"1\" /><path clip-path=\"url(#clip370)\" d=\"M2066.62 713.836 L2066.62 717.817 Q2064.82 716.822 2062.99 716.336 Q2061.18 715.826 2059.33 715.826 Q2055.19 715.826 2052.9 718.465 Q2050.61 721.081 2050.61 725.826 Q2050.61 730.572 2052.9 733.21 Q2055.19 735.826 2059.33 735.826 Q2061.18 735.826 2062.99 735.34 Q2064.82 734.831 2066.62 733.835 L2066.62 737.771 Q2064.84 738.604 2062.92 739.021 Q2061.02 739.437 2058.87 739.437 Q2053.01 739.437 2049.56 735.757 Q2046.11 732.076 2046.11 725.826 Q2046.11 719.484 2049.59 715.849 Q2053.08 712.215 2059.15 712.215 Q2061.11 712.215 2062.99 712.632 Q2064.86 713.025 2066.62 713.836 Z\" fill=\"#000000\" fill-rule=\"evenodd\" fill-opacity=\"1\" /><path clip-path=\"url(#clip370)\" d=\"M2085.81 725.734 Q2080.65 725.734 2078.66 726.914 Q2076.67 728.095 2076.67 730.942 Q2076.67 733.21 2078.15 734.553 Q2079.66 735.872 2082.23 735.872 Q2085.77 735.872 2087.9 733.372 Q2090.05 730.849 2090.05 726.683 L2090.05 725.734 L2085.81 725.734 M2094.31 723.974 L2094.31 738.766 L2090.05 738.766 L2090.05 734.831 Q2088.59 737.192 2086.42 738.326 Q2084.24 739.437 2081.09 739.437 Q2077.11 739.437 2074.75 737.215 Q2072.41 734.97 2072.41 731.22 Q2072.41 726.845 2075.33 724.623 Q2078.27 722.4 2084.08 722.4 L2090.05 722.4 L2090.05 721.984 Q2090.05 719.044 2088.11 717.447 Q2086.18 715.826 2082.69 715.826 Q2080.47 715.826 2078.36 716.359 Q2076.25 716.891 2074.31 717.956 L2074.31 714.021 Q2076.65 713.118 2078.85 712.678 Q2081.05 712.215 2083.13 712.215 Q2088.75 712.215 2091.53 715.132 Q2094.31 718.049 2094.31 723.974 Z\" fill=\"#000000\" fill-rule=\"evenodd\" fill-opacity=\"1\" /><path clip-path=\"url(#clip370)\" d=\"M2102.64 728.535 L2102.64 712.84 L2106.9 712.84 L2106.9 728.373 Q2106.9 732.053 2108.34 733.905 Q2109.77 735.734 2112.64 735.734 Q2116.09 735.734 2118.08 733.535 Q2120.1 731.335 2120.1 727.539 L2120.1 712.84 L2124.36 712.84 L2124.36 738.766 L2120.1 738.766 L2120.1 734.785 Q2118.55 737.146 2116.48 738.303 Q2114.45 739.437 2111.74 739.437 Q2107.27 739.437 2104.96 736.66 Q2102.64 733.882 2102.64 728.535 M2113.36 712.215 L2113.36 712.215 Z\" fill=\"#000000\" fill-rule=\"evenodd\" fill-opacity=\"1\" /><path clip-path=\"url(#clip370)\" d=\"M2154.03 705.34 L2154.03 709.9 Q2151.37 708.627 2149.01 708.002 Q2146.65 707.377 2144.45 707.377 Q2140.63 707.377 2138.54 708.859 Q2136.48 710.34 2136.48 713.072 Q2136.48 715.363 2137.85 716.544 Q2139.24 717.701 2143.08 718.419 L2145.91 718.998 Q2151.14 719.993 2153.61 722.516 Q2156.11 725.016 2156.11 729.229 Q2156.11 734.252 2152.73 736.845 Q2149.38 739.437 2142.87 739.437 Q2140.42 739.437 2137.64 738.882 Q2134.89 738.326 2131.92 737.238 L2131.92 732.423 Q2134.77 734.021 2137.5 734.831 Q2140.23 735.641 2142.87 735.641 Q2146.88 735.641 2149.05 734.067 Q2151.23 732.493 2151.23 729.576 Q2151.23 727.03 2149.66 725.595 Q2148.11 724.16 2144.54 723.442 L2141.69 722.886 Q2136.46 721.845 2134.12 719.623 Q2131.79 717.4 2131.79 713.442 Q2131.79 708.859 2135 706.22 Q2138.24 703.581 2143.92 703.581 Q2146.35 703.581 2148.87 704.021 Q2151.39 704.461 2154.03 705.34 Z\" fill=\"#000000\" fill-rule=\"evenodd\" fill-opacity=\"1\" /><path clip-path=\"url(#clip370)\" d=\"M2163.41 704.206 L2168.08 704.206 L2168.08 738.766 L2163.41 738.766 L2163.41 704.206 Z\" fill=\"#000000\" fill-rule=\"evenodd\" fill-opacity=\"1\" /><circle clip-path=\"url(#clip370)\" cx=\"1881.95\" cy=\"773.326\" r=\"23\" fill=\"#e26f46\" fill-rule=\"evenodd\" fill-opacity=\"1\" stroke=\"#000000\" stroke-opacity=\"1\" stroke-width=\"5.12\"/>\n",
       "<path clip-path=\"url(#clip370)\" d=\"M1992.57 760.652 L1986.23 777.851 L1998.94 777.851 L1992.57 760.652 M1989.93 756.046 L1995.24 756.046 L2008.41 790.606 L2003.55 790.606 L2000.4 781.74 L1984.82 781.74 L1981.67 790.606 L1976.74 790.606 L1989.93 756.046 Z\" fill=\"#000000\" fill-rule=\"evenodd\" fill-opacity=\"1\" /><path clip-path=\"url(#clip370)\" d=\"M2012.92 756.046 L2017.62 756.046 L2017.62 777.041 Q2017.62 782.597 2019.63 785.05 Q2021.65 787.481 2026.16 787.481 Q2030.65 787.481 2032.67 785.05 Q2034.68 782.597 2034.68 777.041 L2034.68 756.046 L2039.38 756.046 L2039.38 777.62 Q2039.38 784.379 2036.02 787.828 Q2032.69 791.277 2026.16 791.277 Q2019.61 791.277 2016.25 787.828 Q2012.92 784.379 2012.92 777.62 L2012.92 756.046 Z\" fill=\"#000000\" fill-rule=\"evenodd\" fill-opacity=\"1\" /><path clip-path=\"url(#clip370)\" d=\"M2066.62 765.676 L2066.62 769.657 Q2064.82 768.662 2062.99 768.176 Q2061.18 767.666 2059.33 767.666 Q2055.19 767.666 2052.9 770.305 Q2050.61 772.921 2050.61 777.666 Q2050.61 782.412 2052.9 785.05 Q2055.19 787.666 2059.33 787.666 Q2061.18 787.666 2062.99 787.18 Q2064.82 786.671 2066.62 785.675 L2066.62 789.611 Q2064.84 790.444 2062.92 790.861 Q2061.02 791.277 2058.87 791.277 Q2053.01 791.277 2049.56 787.597 Q2046.11 783.916 2046.11 777.666 Q2046.11 771.324 2049.59 767.689 Q2053.08 764.055 2059.15 764.055 Q2061.11 764.055 2062.99 764.472 Q2064.86 764.865 2066.62 765.676 Z\" fill=\"#000000\" fill-rule=\"evenodd\" fill-opacity=\"1\" /><path clip-path=\"url(#clip370)\" d=\"M2085.81 777.574 Q2080.65 777.574 2078.66 778.754 Q2076.67 779.935 2076.67 782.782 Q2076.67 785.05 2078.15 786.393 Q2079.66 787.712 2082.23 787.712 Q2085.77 787.712 2087.9 785.212 Q2090.05 782.689 2090.05 778.523 L2090.05 777.574 L2085.81 777.574 M2094.31 775.814 L2094.31 790.606 L2090.05 790.606 L2090.05 786.671 Q2088.59 789.032 2086.42 790.166 Q2084.24 791.277 2081.09 791.277 Q2077.11 791.277 2074.75 789.055 Q2072.41 786.81 2072.41 783.06 Q2072.41 778.685 2075.33 776.463 Q2078.27 774.24 2084.08 774.24 L2090.05 774.24 L2090.05 773.824 Q2090.05 770.884 2088.11 769.287 Q2086.18 767.666 2082.69 767.666 Q2080.47 767.666 2078.36 768.199 Q2076.25 768.731 2074.31 769.796 L2074.31 765.861 Q2076.65 764.958 2078.85 764.518 Q2081.05 764.055 2083.13 764.055 Q2088.75 764.055 2091.53 766.972 Q2094.31 769.889 2094.31 775.814 Z\" fill=\"#000000\" fill-rule=\"evenodd\" fill-opacity=\"1\" /><path clip-path=\"url(#clip370)\" d=\"M2102.64 780.375 L2102.64 764.68 L2106.9 764.68 L2106.9 780.213 Q2106.9 783.893 2108.34 785.745 Q2109.77 787.574 2112.64 787.574 Q2116.09 787.574 2118.08 785.375 Q2120.1 783.175 2120.1 779.379 L2120.1 764.68 L2124.36 764.68 L2124.36 790.606 L2120.1 790.606 L2120.1 786.625 Q2118.55 788.986 2116.48 790.143 Q2114.45 791.277 2111.74 791.277 Q2107.27 791.277 2104.96 788.5 Q2102.64 785.722 2102.64 780.375 M2113.36 764.055 L2113.36 764.055 Z\" fill=\"#000000\" fill-rule=\"evenodd\" fill-opacity=\"1\" /><path clip-path=\"url(#clip370)\" d=\"M2154.03 757.18 L2154.03 761.74 Q2151.37 760.467 2149.01 759.842 Q2146.65 759.217 2144.45 759.217 Q2140.63 759.217 2138.54 760.699 Q2136.48 762.18 2136.48 764.912 Q2136.48 767.203 2137.85 768.384 Q2139.24 769.541 2143.08 770.259 L2145.91 770.838 Q2151.14 771.833 2153.61 774.356 Q2156.11 776.856 2156.11 781.069 Q2156.11 786.092 2152.73 788.685 Q2149.38 791.277 2142.87 791.277 Q2140.42 791.277 2137.64 790.722 Q2134.89 790.166 2131.92 789.078 L2131.92 784.263 Q2134.77 785.861 2137.5 786.671 Q2140.23 787.481 2142.87 787.481 Q2146.88 787.481 2149.05 785.907 Q2151.23 784.333 2151.23 781.416 Q2151.23 778.87 2149.66 777.435 Q2148.11 776 2144.54 775.282 L2141.69 774.726 Q2136.46 773.685 2134.12 771.463 Q2131.79 769.24 2131.79 765.282 Q2131.79 760.699 2135 758.06 Q2138.24 755.421 2143.92 755.421 Q2146.35 755.421 2148.87 755.861 Q2151.39 756.301 2154.03 757.18 Z\" fill=\"#000000\" fill-rule=\"evenodd\" fill-opacity=\"1\" /><path clip-path=\"url(#clip370)\" d=\"M2163.41 756.046 L2185.26 756.046 L2185.26 759.981 L2168.08 759.981 L2168.08 770.213 L2184.54 770.213 L2184.54 774.148 L2168.08 774.148 L2168.08 786.671 L2185.67 786.671 L2185.67 790.606 L2163.41 790.606 L2163.41 756.046 Z\" fill=\"#000000\" fill-rule=\"evenodd\" fill-opacity=\"1\" /><path clip-path=\"url(#clip370)\" d=\"M2193.36 756.046 L2198.04 756.046 L2198.04 790.606 L2193.36 790.606 L2193.36 756.046 Z\" fill=\"#000000\" fill-rule=\"evenodd\" fill-opacity=\"1\" /><path clip-path=\"url(#clip370)\" d=\"M2223.73 774.402 Q2225.23 774.912 2226.65 776.578 Q2228.08 778.245 2229.52 781.162 L2234.26 790.606 L2229.24 790.606 L2224.82 781.74 Q2223.1 778.268 2221.48 777.134 Q2219.89 776 2217.11 776 L2212.02 776 L2212.02 790.606 L2207.34 790.606 L2207.34 756.046 L2217.9 756.046 Q2223.82 756.046 2226.74 758.523 Q2229.66 761 2229.66 766 Q2229.66 769.264 2228.13 771.416 Q2226.62 773.569 2223.73 774.402 M2212.02 759.889 L2212.02 772.157 L2217.9 772.157 Q2221.28 772.157 2222.99 770.606 Q2224.73 769.032 2224.73 766 Q2224.73 762.967 2222.99 761.439 Q2221.28 759.889 2217.9 759.889 L2212.02 759.889 Z\" fill=\"#000000\" fill-rule=\"evenodd\" fill-opacity=\"1\" /></svg>\n"
      ]
     },
     "execution_count": 426,
     "metadata": {},
     "output_type": "execute_result"
    }
   ],
   "source": [
    "T = Int(T)\n",
    "AU_cauSEIR=zeros(T)\n",
    "AU_cauSI=zeros(T)\n",
    "for t = 1:T\n",
    "    cauSEIR_risk=zeros(N)\n",
    "    cauSI_risk=zeros(N)\n",
    "    for i=1:N\n",
    "       cauSEIR_risk[i] = marginal(i,t,statscauSEIR)\n",
    "       cauSI_risk[i] = marginalSI(i,t,statscauSI)\n",
    "    end\n",
    "    xt = xtrue[:,1] .< t-1e-3 \n",
    "    AU_cauSEIR[t] = AUROC(ROC(xt, cauSEIR_risk))\n",
    "    AU_cauSI[t] = AUROC(ROC(xt, cauSI_risk))\n",
    "end\n",
    "\n",
    "scatter(LinRange(1,T,T),AU_cauSI, label=\"AUcauSI\",legend=:right)\n",
    "scatter!(LinRange(1,T,T),AU_cauSEIR, label=\"AUcauSEIR\", title=\"SEIR VS SIR AUROC in function of time\")\n",
    "\n",
    "T = Float64(T)\n",
    "#ylims!(0.5,1.05)\n",
    "savefig(\"SierologicalAUROC\")\n",
    "xlabel!(\"t\")\n",
    "ylabel!(\"AUROC\")"
   ]
  },
  {
   "cell_type": "code",
   "execution_count": null,
   "metadata": {},
   "outputs": [],
   "source": []
  },
  {
   "cell_type": "code",
   "execution_count": null,
   "metadata": {},
   "outputs": [],
   "source": []
  }
 ],
 "metadata": {
  "kernelspec": {
   "display_name": "Julia 1.7.0-rc2",
   "language": "julia",
   "name": "julia-1.7"
  },
  "language_info": {
   "file_extension": ".jl",
   "mimetype": "application/julia",
   "name": "julia",
   "version": "1.7.0"
  }
 },
 "nbformat": 4,
 "nbformat_minor": 4
}
