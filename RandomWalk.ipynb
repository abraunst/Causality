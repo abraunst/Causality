{
 "cells": [
  {
   "cell_type": "code",
   "execution_count": 170,
   "id": "6b77c459-19bd-4e2f-a949-5f9155de3286",
   "metadata": {},
   "outputs": [],
   "source": [
    "using Plots\n",
    "using ForwardDiff"
   ]
  },
  {
   "cell_type": "code",
   "execution_count": 171,
   "id": "c0f80b21-39cf-463b-aec9-de23fc768771",
   "metadata": {},
   "outputs": [
    {
     "data": {
      "text/plain": [
       "sample! (generic function with 1 method)"
      ]
     },
     "execution_count": 171,
     "metadata": {},
     "output_type": "execute_result"
    }
   ],
   "source": [
    "function sample!(x,θ)\n",
    "    T = size(θ,2)\n",
    "    for t = 1:T-1\n",
    "        x[t+1] = x[t] + ( rand() < θ[x[t] + T, t] ? 1 : -1 )\n",
    "    end\n",
    "end"
   ]
  },
  {
   "cell_type": "code",
   "execution_count": 268,
   "id": "d2f01854-5143-4074-8376-cac09ae69de7",
   "metadata": {},
   "outputs": [
    {
     "data": {
      "text/plain": [
       "logO (generic function with 1 method)"
      ]
     },
     "execution_count": 268,
     "metadata": {},
     "output_type": "execute_result"
    }
   ],
   "source": [
    "function logqt(x,θt,t)\n",
    "    return log((x[t+1] - x[t]) == 1 ? θt[x[t] + T] : 1 - θt[x[t] + T])\n",
    "end\n",
    "\n",
    "function logQ(x,θ)\n",
    "    T = size(θ,2)\n",
    "    s = 0\n",
    "    for t = 1:T-1\n",
    "        s += logqt(x,θ[:,t],t) \n",
    "    end\n",
    "    return s\n",
    "end\n",
    "\n",
    "function isok(x)\n",
    "    return 3 <= abs(x[end]) <= 6 \n",
    "end\n",
    "\n",
    "function logO(x)\n",
    "    if 3 <= abs(x[end]) <= 6 \n",
    "        return 0\n",
    "    else\n",
    "        return -100\n",
    "    end\n",
    "end"
   ]
  },
  {
   "cell_type": "code",
   "execution_count": 269,
   "id": "089d67d2-4537-4a77-a360-03efb8acc593",
   "metadata": {},
   "outputs": [
    {
     "data": {
      "text/plain": [
       "gradient! (generic function with 1 method)"
      ]
     },
     "execution_count": 269,
     "metadata": {},
     "output_type": "execute_result"
    }
   ],
   "source": [
    "function gradient!(dθ, x, θ)\n",
    "    T = size(θ,2)\n",
    "    for t = 1:T-1\n",
    "        ForwardDiff.gradient!((@view dθ[:,t]), θt -> logqt(x,θt,t), θ[:,t])\n",
    "    end\n",
    "end"
   ]
  },
  {
   "cell_type": "code",
   "execution_count": 283,
   "id": "ca7edb11-4583-4ebf-9bb7-bcb78d9581a2",
   "metadata": {},
   "outputs": [
    {
     "data": {
      "text/plain": [
       "descend! (generic function with 1 method)"
      ]
     },
     "execution_count": 283,
     "metadata": {},
     "output_type": "execute_result"
    }
   ],
   "source": [
    "function descend!(θ, θp, θmin, θmax; numsamples=10^4, η=0.1)\n",
    "    N, T = size(θ)\n",
    "    dθ = zero(θ)\n",
    "    x = zeros(Int, T)\n",
    "    \n",
    "    Dθ = zero(θ)\n",
    "    avF = 0    \n",
    "    for s = 1:numsamples\n",
    "        sample!(x, θ)\n",
    "        F = logQ(x,θ) - logO(x)\n",
    "        avF += F\n",
    "        gradient!(dθ, x, θ)\n",
    "        Dθ .+= F .* dθ ./ numsamples\n",
    "    end\n",
    "    θ .-= sign.(Dθ) .* abs.(θ) .* η\n",
    "    θ .= clamp.(θ, θmin, θmax)\n",
    "    return avF / numsamples\n",
    "end"
   ]
  },
  {
   "cell_type": "code",
   "execution_count": 284,
   "id": "6ae1f474-80d0-4a0e-b72c-3bd16bc35743",
   "metadata": {},
   "outputs": [],
   "source": [
    "T = 25 #total time of movement\n",
    "N = 2T - 1\n",
    "\n",
    "θ = fill(0.5,N,T); \n",
    "#This is an N x T matrix where θ[i,t] represents \n",
    "#the probability of jumping to right at time t for particle i\n",
    "#The prob of jumping to left is 1-θ[i,t]\n",
    "dθ = fill(1/2,N,T); \n",
    "\n",
    "θp = fill(1/2,N,T); \n",
    "\n",
    "x = zeros(Int,T);"
   ]
  },
  {
   "cell_type": "code",
   "execution_count": 285,
   "id": "ca07fabd-a6e1-41f6-a84e-98227bc9574b",
   "metadata": {},
   "outputs": [
    {
     "data": {
      "image/svg+xml": [
       "<?xml version=\"1.0\" encoding=\"utf-8\"?>\n",
       "<svg xmlns=\"http://www.w3.org/2000/svg\" xmlns:xlink=\"http://www.w3.org/1999/xlink\" width=\"600\" height=\"400\" viewBox=\"0 0 2400 1600\">\n",
       "<defs>\n",
       "  <clipPath id=\"clip440\">\n",
       "    <rect x=\"0\" y=\"0\" width=\"2400\" height=\"1600\"/>\n",
       "  </clipPath>\n",
       "</defs>\n",
       "<path clip-path=\"url(#clip440)\" d=\"\n",
       "M0 1600 L2400 1600 L2400 0 L0 0  Z\n",
       "  \" fill=\"#ffffff\" fill-rule=\"evenodd\" fill-opacity=\"1\"/>\n",
       "<defs>\n",
       "  <clipPath id=\"clip441\">\n",
       "    <rect x=\"480\" y=\"0\" width=\"1681\" height=\"1600\"/>\n",
       "  </clipPath>\n",
       "</defs>\n",
       "<path clip-path=\"url(#clip440)\" d=\"\n",
       "M149.191 1486.45 L2352.76 1486.45 L2352.76 47.2441 L149.191 47.2441  Z\n",
       "  \" fill=\"#ffffff\" fill-rule=\"evenodd\" fill-opacity=\"1\"/>\n",
       "<defs>\n",
       "  <clipPath id=\"clip442\">\n",
       "    <rect x=\"149\" y=\"47\" width=\"2205\" height=\"1440\"/>\n",
       "  </clipPath>\n",
       "</defs>\n",
       "<polyline clip-path=\"url(#clip442)\" style=\"stroke:#000000; stroke-linecap:butt; stroke-linejoin:round; stroke-width:2; stroke-opacity:0.1; fill:none\" points=\"\n",
       "  558.028,1486.45 558.028,47.2441 \n",
       "  \"/>\n",
       "<polyline clip-path=\"url(#clip442)\" style=\"stroke:#000000; stroke-linecap:butt; stroke-linejoin:round; stroke-width:2; stroke-opacity:0.1; fill:none\" points=\"\n",
       "  991.119,1486.45 991.119,47.2441 \n",
       "  \"/>\n",
       "<polyline clip-path=\"url(#clip442)\" style=\"stroke:#000000; stroke-linecap:butt; stroke-linejoin:round; stroke-width:2; stroke-opacity:0.1; fill:none\" points=\"\n",
       "  1424.21,1486.45 1424.21,47.2441 \n",
       "  \"/>\n",
       "<polyline clip-path=\"url(#clip442)\" style=\"stroke:#000000; stroke-linecap:butt; stroke-linejoin:round; stroke-width:2; stroke-opacity:0.1; fill:none\" points=\"\n",
       "  1857.3,1486.45 1857.3,47.2441 \n",
       "  \"/>\n",
       "<polyline clip-path=\"url(#clip442)\" style=\"stroke:#000000; stroke-linecap:butt; stroke-linejoin:round; stroke-width:2; stroke-opacity:0.1; fill:none\" points=\"\n",
       "  2290.39,1486.45 2290.39,47.2441 \n",
       "  \"/>\n",
       "<polyline clip-path=\"url(#clip440)\" style=\"stroke:#000000; stroke-linecap:butt; stroke-linejoin:round; stroke-width:4; stroke-opacity:1; fill:none\" points=\"\n",
       "  149.191,1486.45 2352.76,1486.45 \n",
       "  \"/>\n",
       "<polyline clip-path=\"url(#clip440)\" style=\"stroke:#000000; stroke-linecap:butt; stroke-linejoin:round; stroke-width:4; stroke-opacity:1; fill:none\" points=\"\n",
       "  558.028,1486.45 558.028,1467.55 \n",
       "  \"/>\n",
       "<polyline clip-path=\"url(#clip440)\" style=\"stroke:#000000; stroke-linecap:butt; stroke-linejoin:round; stroke-width:4; stroke-opacity:1; fill:none\" points=\"\n",
       "  991.119,1486.45 991.119,1467.55 \n",
       "  \"/>\n",
       "<polyline clip-path=\"url(#clip440)\" style=\"stroke:#000000; stroke-linecap:butt; stroke-linejoin:round; stroke-width:4; stroke-opacity:1; fill:none\" points=\"\n",
       "  1424.21,1486.45 1424.21,1467.55 \n",
       "  \"/>\n",
       "<polyline clip-path=\"url(#clip440)\" style=\"stroke:#000000; stroke-linecap:butt; stroke-linejoin:round; stroke-width:4; stroke-opacity:1; fill:none\" points=\"\n",
       "  1857.3,1486.45 1857.3,1467.55 \n",
       "  \"/>\n",
       "<polyline clip-path=\"url(#clip440)\" style=\"stroke:#000000; stroke-linecap:butt; stroke-linejoin:round; stroke-width:4; stroke-opacity:1; fill:none\" points=\"\n",
       "  2290.39,1486.45 2290.39,1467.55 \n",
       "  \"/>\n",
       "<path clip-path=\"url(#clip440)\" d=\"M548.306 1514.29 L566.663 1514.29 L566.663 1518.22 L552.589 1518.22 L552.589 1526.7 Q553.607 1526.35 554.626 1526.19 Q555.644 1526 556.663 1526 Q562.45 1526 565.829 1529.17 Q569.209 1532.34 569.209 1537.76 Q569.209 1543.34 565.737 1546.44 Q562.264 1549.52 555.945 1549.52 Q553.769 1549.52 551.501 1549.15 Q549.255 1548.78 546.848 1548.04 L546.848 1543.34 Q548.931 1544.47 551.153 1545.03 Q553.376 1545.58 555.852 1545.58 Q559.857 1545.58 562.195 1543.48 Q564.533 1541.37 564.533 1537.76 Q564.533 1534.15 562.195 1532.04 Q559.857 1529.94 555.852 1529.94 Q553.978 1529.94 552.103 1530.35 Q550.251 1530.77 548.306 1531.65 L548.306 1514.29 Z\" fill=\"#000000\" fill-rule=\"evenodd\" fill-opacity=\"1\" /><path clip-path=\"url(#clip440)\" d=\"M965.807 1544.91 L973.446 1544.91 L973.446 1518.55 L965.135 1520.21 L965.135 1515.95 L973.399 1514.29 L978.075 1514.29 L978.075 1544.91 L985.714 1544.91 L985.714 1548.85 L965.807 1548.85 L965.807 1544.91 Z\" fill=\"#000000\" fill-rule=\"evenodd\" fill-opacity=\"1\" /><path clip-path=\"url(#clip440)\" d=\"M1005.16 1517.37 Q1001.55 1517.37 999.719 1520.93 Q997.913 1524.47 997.913 1531.6 Q997.913 1538.71 999.719 1542.27 Q1001.55 1545.82 1005.16 1545.82 Q1008.79 1545.82 1010.6 1542.27 Q1012.43 1538.71 1012.43 1531.6 Q1012.43 1524.47 1010.6 1520.93 Q1008.79 1517.37 1005.16 1517.37 M1005.16 1513.66 Q1010.97 1513.66 1014.02 1518.27 Q1017.1 1522.85 1017.1 1531.6 Q1017.1 1540.33 1014.02 1544.94 Q1010.97 1549.52 1005.16 1549.52 Q999.348 1549.52 996.269 1544.94 Q993.214 1540.33 993.214 1531.6 Q993.214 1522.85 996.269 1518.27 Q999.348 1513.66 1005.16 1513.66 Z\" fill=\"#000000\" fill-rule=\"evenodd\" fill-opacity=\"1\" /><path clip-path=\"url(#clip440)\" d=\"M1399.39 1544.91 L1407.03 1544.91 L1407.03 1518.55 L1398.72 1520.21 L1398.72 1515.95 L1406.99 1514.29 L1411.66 1514.29 L1411.66 1544.91 L1419.3 1544.91 L1419.3 1548.85 L1399.39 1548.85 L1399.39 1544.91 Z\" fill=\"#000000\" fill-rule=\"evenodd\" fill-opacity=\"1\" /><path clip-path=\"url(#clip440)\" d=\"M1428.79 1514.29 L1447.15 1514.29 L1447.15 1518.22 L1433.08 1518.22 L1433.08 1526.7 Q1434.09 1526.35 1435.11 1526.19 Q1436.13 1526 1437.15 1526 Q1442.94 1526 1446.32 1529.17 Q1449.7 1532.34 1449.7 1537.76 Q1449.7 1543.34 1446.22 1546.44 Q1442.75 1549.52 1436.43 1549.52 Q1434.26 1549.52 1431.99 1549.15 Q1429.74 1548.78 1427.33 1548.04 L1427.33 1543.34 Q1429.42 1544.47 1431.64 1545.03 Q1433.86 1545.58 1436.34 1545.58 Q1440.34 1545.58 1442.68 1543.48 Q1445.02 1541.37 1445.02 1537.76 Q1445.02 1534.15 1442.68 1532.04 Q1440.34 1529.94 1436.34 1529.94 Q1434.46 1529.94 1432.59 1530.35 Q1430.74 1530.77 1428.79 1531.65 L1428.79 1514.29 Z\" fill=\"#000000\" fill-rule=\"evenodd\" fill-opacity=\"1\" /><path clip-path=\"url(#clip440)\" d=\"M1836.07 1544.91 L1852.39 1544.91 L1852.39 1548.85 L1830.45 1548.85 L1830.45 1544.91 Q1833.11 1542.16 1837.69 1537.53 Q1842.3 1532.88 1843.48 1531.53 Q1845.73 1529.01 1846.61 1527.27 Q1847.51 1525.51 1847.51 1523.82 Q1847.51 1521.07 1845.56 1519.33 Q1843.64 1517.6 1840.54 1517.6 Q1838.34 1517.6 1835.89 1518.36 Q1833.46 1519.13 1830.68 1520.68 L1830.68 1515.95 Q1833.5 1514.82 1835.96 1514.24 Q1838.41 1513.66 1840.45 1513.66 Q1845.82 1513.66 1849.01 1516.35 Q1852.21 1519.03 1852.21 1523.52 Q1852.21 1525.65 1851.4 1527.57 Q1850.61 1529.47 1848.5 1532.07 Q1847.93 1532.74 1844.82 1535.95 Q1841.72 1539.15 1836.07 1544.91 Z\" fill=\"#000000\" fill-rule=\"evenodd\" fill-opacity=\"1\" /><path clip-path=\"url(#clip440)\" d=\"M1872.21 1517.37 Q1868.6 1517.37 1866.77 1520.93 Q1864.96 1524.47 1864.96 1531.6 Q1864.96 1538.71 1866.77 1542.27 Q1868.6 1545.82 1872.21 1545.82 Q1875.84 1545.82 1877.65 1542.27 Q1879.48 1538.71 1879.48 1531.6 Q1879.48 1524.47 1877.65 1520.93 Q1875.84 1517.37 1872.21 1517.37 M1872.21 1513.66 Q1878.02 1513.66 1881.07 1518.27 Q1884.15 1522.85 1884.15 1531.6 Q1884.15 1540.33 1881.07 1544.94 Q1878.02 1549.52 1872.21 1549.52 Q1866.4 1549.52 1863.32 1544.94 Q1860.26 1540.33 1860.26 1531.6 Q1860.26 1522.85 1863.32 1518.27 Q1866.4 1513.66 1872.21 1513.66 Z\" fill=\"#000000\" fill-rule=\"evenodd\" fill-opacity=\"1\" /><path clip-path=\"url(#clip440)\" d=\"M2269.66 1544.91 L2285.98 1544.91 L2285.98 1548.85 L2264.04 1548.85 L2264.04 1544.91 Q2266.7 1542.16 2271.28 1537.53 Q2275.89 1532.88 2277.07 1531.53 Q2279.31 1529.01 2280.19 1527.27 Q2281.1 1525.51 2281.1 1523.82 Q2281.1 1521.07 2279.15 1519.33 Q2277.23 1517.6 2274.13 1517.6 Q2271.93 1517.6 2269.48 1518.36 Q2267.05 1519.13 2264.27 1520.68 L2264.27 1515.95 Q2267.09 1514.82 2269.55 1514.24 Q2272 1513.66 2274.04 1513.66 Q2279.41 1513.66 2282.6 1516.35 Q2285.8 1519.03 2285.8 1523.52 Q2285.8 1525.65 2284.99 1527.57 Q2284.2 1529.47 2282.09 1532.07 Q2281.51 1532.74 2278.41 1535.95 Q2275.31 1539.15 2269.66 1544.91 Z\" fill=\"#000000\" fill-rule=\"evenodd\" fill-opacity=\"1\" /><path clip-path=\"url(#clip440)\" d=\"M2295.84 1514.29 L2314.2 1514.29 L2314.2 1518.22 L2300.12 1518.22 L2300.12 1526.7 Q2301.14 1526.35 2302.16 1526.19 Q2303.18 1526 2304.2 1526 Q2309.99 1526 2313.37 1529.17 Q2316.74 1532.34 2316.74 1537.76 Q2316.74 1543.34 2313.27 1546.44 Q2309.8 1549.52 2303.48 1549.52 Q2301.31 1549.52 2299.04 1549.15 Q2296.79 1548.78 2294.38 1548.04 L2294.38 1543.34 Q2296.47 1544.47 2298.69 1545.03 Q2300.91 1545.58 2303.39 1545.58 Q2307.39 1545.58 2309.73 1543.48 Q2312.07 1541.37 2312.07 1537.76 Q2312.07 1534.15 2309.73 1532.04 Q2307.39 1529.94 2303.39 1529.94 Q2301.51 1529.94 2299.64 1530.35 Q2297.79 1530.77 2295.84 1531.65 L2295.84 1514.29 Z\" fill=\"#000000\" fill-rule=\"evenodd\" fill-opacity=\"1\" /><polyline clip-path=\"url(#clip442)\" style=\"stroke:#000000; stroke-linecap:butt; stroke-linejoin:round; stroke-width:2; stroke-opacity:0.1; fill:none\" points=\"\n",
       "  149.191,1445.72 2352.76,1445.72 \n",
       "  \"/>\n",
       "<polyline clip-path=\"url(#clip442)\" style=\"stroke:#000000; stroke-linecap:butt; stroke-linejoin:round; stroke-width:2; stroke-opacity:0.1; fill:none\" points=\"\n",
       "  149.191,1144 2352.76,1144 \n",
       "  \"/>\n",
       "<polyline clip-path=\"url(#clip442)\" style=\"stroke:#000000; stroke-linecap:butt; stroke-linejoin:round; stroke-width:2; stroke-opacity:0.1; fill:none\" points=\"\n",
       "  149.191,842.276 2352.76,842.276 \n",
       "  \"/>\n",
       "<polyline clip-path=\"url(#clip442)\" style=\"stroke:#000000; stroke-linecap:butt; stroke-linejoin:round; stroke-width:2; stroke-opacity:0.1; fill:none\" points=\"\n",
       "  149.191,540.556 2352.76,540.556 \n",
       "  \"/>\n",
       "<polyline clip-path=\"url(#clip442)\" style=\"stroke:#000000; stroke-linecap:butt; stroke-linejoin:round; stroke-width:2; stroke-opacity:0.1; fill:none\" points=\"\n",
       "  149.191,238.836 2352.76,238.836 \n",
       "  \"/>\n",
       "<polyline clip-path=\"url(#clip440)\" style=\"stroke:#000000; stroke-linecap:butt; stroke-linejoin:round; stroke-width:4; stroke-opacity:1; fill:none\" points=\"\n",
       "  149.191,1486.45 149.191,47.2441 \n",
       "  \"/>\n",
       "<polyline clip-path=\"url(#clip440)\" style=\"stroke:#000000; stroke-linecap:butt; stroke-linejoin:round; stroke-width:4; stroke-opacity:1; fill:none\" points=\"\n",
       "  149.191,1445.72 168.089,1445.72 \n",
       "  \"/>\n",
       "<polyline clip-path=\"url(#clip440)\" style=\"stroke:#000000; stroke-linecap:butt; stroke-linejoin:round; stroke-width:4; stroke-opacity:1; fill:none\" points=\"\n",
       "  149.191,1144 168.089,1144 \n",
       "  \"/>\n",
       "<polyline clip-path=\"url(#clip440)\" style=\"stroke:#000000; stroke-linecap:butt; stroke-linejoin:round; stroke-width:4; stroke-opacity:1; fill:none\" points=\"\n",
       "  149.191,842.276 168.089,842.276 \n",
       "  \"/>\n",
       "<polyline clip-path=\"url(#clip440)\" style=\"stroke:#000000; stroke-linecap:butt; stroke-linejoin:round; stroke-width:4; stroke-opacity:1; fill:none\" points=\"\n",
       "  149.191,540.556 168.089,540.556 \n",
       "  \"/>\n",
       "<polyline clip-path=\"url(#clip440)\" style=\"stroke:#000000; stroke-linecap:butt; stroke-linejoin:round; stroke-width:4; stroke-opacity:1; fill:none\" points=\"\n",
       "  149.191,238.836 168.089,238.836 \n",
       "  \"/>\n",
       "<path clip-path=\"url(#clip440)\" d=\"M51.3162 1446.17 L80.992 1446.17 L80.992 1450.1 L51.3162 1450.1 L51.3162 1446.17 Z\" fill=\"#000000\" fill-rule=\"evenodd\" fill-opacity=\"1\" /><path clip-path=\"url(#clip440)\" d=\"M101.663 1443.85 Q98.515 1443.85 96.6632 1446.01 Q94.8345 1448.16 94.8345 1451.91 Q94.8345 1455.63 96.6632 1457.81 Q98.515 1459.96 101.663 1459.96 Q104.811 1459.96 106.64 1457.81 Q108.492 1455.63 108.492 1451.91 Q108.492 1448.16 106.64 1446.01 Q104.811 1443.85 101.663 1443.85 M110.946 1429.2 L110.946 1433.46 Q109.186 1432.63 107.381 1432.19 Q105.598 1431.75 103.839 1431.75 Q99.2095 1431.75 96.7558 1434.87 Q94.3252 1438 93.978 1444.32 Q95.3437 1442.3 97.4039 1441.24 Q99.4641 1440.15 101.941 1440.15 Q107.149 1440.15 110.158 1443.32 Q113.191 1446.47 113.191 1451.91 Q113.191 1457.23 110.043 1460.45 Q106.895 1463.67 101.663 1463.67 Q95.6678 1463.67 92.4965 1459.08 Q89.3253 1454.48 89.3253 1445.75 Q89.3253 1437.56 93.2141 1432.69 Q97.103 1427.81 103.654 1427.81 Q105.413 1427.81 107.196 1428.16 Q109.001 1428.51 110.946 1429.2 Z\" fill=\"#000000\" fill-rule=\"evenodd\" fill-opacity=\"1\" /><path clip-path=\"url(#clip440)\" d=\"M50.9921 1144.45 L80.6679 1144.45 L80.6679 1148.38 L50.9921 1148.38 L50.9921 1144.45 Z\" fill=\"#000000\" fill-rule=\"evenodd\" fill-opacity=\"1\" /><path clip-path=\"url(#clip440)\" d=\"M103.608 1130.79 L91.8021 1149.24 L103.608 1149.24 L103.608 1130.79 M102.381 1126.72 L108.26 1126.72 L108.26 1149.24 L113.191 1149.24 L113.191 1153.13 L108.26 1153.13 L108.26 1161.28 L103.608 1161.28 L103.608 1153.13 L88.0058 1153.13 L88.0058 1148.61 L102.381 1126.72 Z\" fill=\"#000000\" fill-rule=\"evenodd\" fill-opacity=\"1\" /><path clip-path=\"url(#clip440)\" d=\"M53.0754 842.727 L82.7512 842.727 L82.7512 846.663 L53.0754 846.663 L53.0754 842.727 Z\" fill=\"#000000\" fill-rule=\"evenodd\" fill-opacity=\"1\" /><path clip-path=\"url(#clip440)\" d=\"M96.8715 855.621 L113.191 855.621 L113.191 859.556 L91.2465 859.556 L91.2465 855.621 Q93.9086 852.866 98.4919 848.237 Q103.098 843.584 104.279 842.241 Q106.524 839.718 107.404 837.982 Q108.307 836.223 108.307 834.533 Q108.307 831.778 106.362 830.042 Q104.441 828.306 101.339 828.306 Q99.14 828.306 96.6863 829.07 Q94.2558 829.834 91.478 831.385 L91.478 826.663 Q94.3021 825.528 96.7558 824.95 Q99.2095 824.371 101.246 824.371 Q106.617 824.371 109.811 827.056 Q113.006 829.741 113.006 834.232 Q113.006 836.362 112.196 838.283 Q111.408 840.181 109.302 842.774 Q108.723 843.445 105.621 846.663 Q102.52 849.857 96.8715 855.621 Z\" fill=\"#000000\" fill-rule=\"evenodd\" fill-opacity=\"1\" /><path clip-path=\"url(#clip440)\" d=\"M101.246 526.355 Q97.6354 526.355 95.8067 529.92 Q94.0012 533.461 94.0012 540.591 Q94.0012 547.697 95.8067 551.262 Q97.6354 554.804 101.246 554.804 Q104.881 554.804 106.686 551.262 Q108.515 547.697 108.515 540.591 Q108.515 533.461 106.686 529.92 Q104.881 526.355 101.246 526.355 M101.246 522.651 Q107.057 522.651 110.112 527.258 Q113.191 531.841 113.191 540.591 Q113.191 549.318 110.112 553.924 Q107.057 558.507 101.246 558.507 Q95.4363 558.507 92.3576 553.924 Q89.3021 549.318 89.3021 540.591 Q89.3021 531.841 92.3576 527.258 Q95.4363 522.651 101.246 522.651 Z\" fill=\"#000000\" fill-rule=\"evenodd\" fill-opacity=\"1\" /><path clip-path=\"url(#clip440)\" d=\"M96.8715 252.181 L113.191 252.181 L113.191 256.116 L91.2465 256.116 L91.2465 252.181 Q93.9086 249.426 98.4919 244.797 Q103.098 240.144 104.279 238.801 Q106.524 236.278 107.404 234.542 Q108.307 232.783 108.307 231.093 Q108.307 228.339 106.362 226.602 Q104.441 224.866 101.339 224.866 Q99.14 224.866 96.6863 225.63 Q94.2558 226.394 91.478 227.945 L91.478 223.223 Q94.3021 222.089 96.7558 221.51 Q99.2095 220.931 101.246 220.931 Q106.617 220.931 109.811 223.616 Q113.006 226.302 113.006 230.792 Q113.006 232.922 112.196 234.843 Q111.408 236.741 109.302 239.334 Q108.723 240.005 105.621 243.223 Q102.52 246.417 96.8715 252.181 Z\" fill=\"#000000\" fill-rule=\"evenodd\" fill-opacity=\"1\" /><polyline clip-path=\"url(#clip442)\" style=\"stroke:#009af9; stroke-linecap:butt; stroke-linejoin:round; stroke-width:4; stroke-opacity:1; fill:none\" points=\"\n",
       "  211.556,540.556 298.174,691.416 384.792,540.556 471.41,389.696 558.028,540.556 644.647,389.696 731.265,540.556 817.883,389.696 904.501,238.836 991.119,87.9763 \n",
       "  1077.74,238.836 1164.36,389.696 1250.97,540.556 1337.59,389.696 1424.21,540.556 1510.83,691.416 1597.45,540.556 1684.06,389.696 1770.68,540.556 1857.3,691.416 \n",
       "  1943.92,842.276 2030.54,993.136 2117.15,1144 2203.77,1294.86 2290.39,1445.72 \n",
       "  \"/>\n",
       "<path clip-path=\"url(#clip440)\" d=\"\n",
       "M1982.03 198.898 L2279.3 198.898 L2279.3 95.2176 L1982.03 95.2176  Z\n",
       "  \" fill=\"#ffffff\" fill-rule=\"evenodd\" fill-opacity=\"1\"/>\n",
       "<polyline clip-path=\"url(#clip440)\" style=\"stroke:#000000; stroke-linecap:butt; stroke-linejoin:round; stroke-width:4; stroke-opacity:1; fill:none\" points=\"\n",
       "  1982.03,198.898 2279.3,198.898 2279.3,95.2176 1982.03,95.2176 1982.03,198.898 \n",
       "  \"/>\n",
       "<polyline clip-path=\"url(#clip440)\" style=\"stroke:#009af9; stroke-linecap:butt; stroke-linejoin:round; stroke-width:4; stroke-opacity:1; fill:none\" points=\"\n",
       "  2006.52,147.058 2153.42,147.058 \n",
       "  \"/>\n",
       "<path clip-path=\"url(#clip440)\" d=\"M2191.75 166.745 Q2189.94 171.375 2188.23 172.787 Q2186.52 174.199 2183.65 174.199 L2180.24 174.199 L2180.24 170.634 L2182.74 170.634 Q2184.5 170.634 2185.47 169.8 Q2186.45 168.967 2187.63 165.865 L2188.39 163.921 L2177.91 138.412 L2182.42 138.412 L2190.52 158.689 L2198.62 138.412 L2203.14 138.412 L2191.75 166.745 Z\" fill=\"#000000\" fill-rule=\"evenodd\" fill-opacity=\"1\" /><path clip-path=\"url(#clip440)\" d=\"M2210.43 160.402 L2218.07 160.402 L2218.07 134.037 L2209.76 135.703 L2209.76 131.444 L2218.02 129.778 L2222.7 129.778 L2222.7 160.402 L2230.34 160.402 L2230.34 164.338 L2210.43 164.338 L2210.43 160.402 Z\" fill=\"#000000\" fill-rule=\"evenodd\" fill-opacity=\"1\" /></svg>\n"
      ]
     },
     "execution_count": 285,
     "metadata": {},
     "output_type": "execute_result"
    }
   ],
   "source": [
    "sample!(x,θ)\n",
    "\n",
    "plot(x)"
   ]
  },
  {
   "cell_type": "code",
   "execution_count": 299,
   "id": "95f047d2-21e2-4f48-9b8c-74632d2c5515",
   "metadata": {},
   "outputs": [
    {
     "data": {
      "text/plain": [
       "-8.911781503372397"
      ]
     },
     "execution_count": 299,
     "metadata": {},
     "output_type": "execute_result"
    }
   ],
   "source": [
    "avF = descend!(θ, θp, 1e-4, 1-1e-4; numsamples=100, η=0.2)"
   ]
  },
  {
   "cell_type": "code",
   "execution_count": 300,
   "id": "cd2b5d69-6112-4f89-8ec0-0e00026c0570",
   "metadata": {},
   "outputs": [
    {
     "data": {
      "image/svg+xml": [
       "<?xml version=\"1.0\" encoding=\"utf-8\"?>\n",
       "<svg xmlns=\"http://www.w3.org/2000/svg\" xmlns:xlink=\"http://www.w3.org/1999/xlink\" width=\"600\" height=\"400\" viewBox=\"0 0 2400 1600\">\n",
       "<defs>\n",
       "  <clipPath id=\"clip560\">\n",
       "    <rect x=\"0\" y=\"0\" width=\"2400\" height=\"1600\"/>\n",
       "  </clipPath>\n",
       "</defs>\n",
       "<path clip-path=\"url(#clip560)\" d=\"\n",
       "M0 1600 L2400 1600 L2400 0 L0 0  Z\n",
       "  \" fill=\"#ffffff\" fill-rule=\"evenodd\" fill-opacity=\"1\"/>\n",
       "<defs>\n",
       "  <clipPath id=\"clip561\">\n",
       "    <rect x=\"480\" y=\"0\" width=\"1681\" height=\"1600\"/>\n",
       "  </clipPath>\n",
       "</defs>\n",
       "<path clip-path=\"url(#clip560)\" d=\"\n",
       "M156.598 1486.45 L2352.76 1486.45 L2352.76 47.2441 L156.598 47.2441  Z\n",
       "  \" fill=\"#ffffff\" fill-rule=\"evenodd\" fill-opacity=\"1\"/>\n",
       "<defs>\n",
       "  <clipPath id=\"clip562\">\n",
       "    <rect x=\"156\" y=\"47\" width=\"2197\" height=\"1440\"/>\n",
       "  </clipPath>\n",
       "</defs>\n",
       "<polyline clip-path=\"url(#clip562)\" style=\"stroke:#000000; stroke-linecap:butt; stroke-linejoin:round; stroke-width:2; stroke-opacity:0.1; fill:none\" points=\"\n",
       "  175.59,1486.45 175.59,47.2441 \n",
       "  \"/>\n",
       "<polyline clip-path=\"url(#clip562)\" style=\"stroke:#000000; stroke-linecap:butt; stroke-linejoin:round; stroke-width:2; stroke-opacity:0.1; fill:none\" points=\"\n",
       "  607.225,1486.45 607.225,47.2441 \n",
       "  \"/>\n",
       "<polyline clip-path=\"url(#clip562)\" style=\"stroke:#000000; stroke-linecap:butt; stroke-linejoin:round; stroke-width:2; stroke-opacity:0.1; fill:none\" points=\"\n",
       "  1038.86,1486.45 1038.86,47.2441 \n",
       "  \"/>\n",
       "<polyline clip-path=\"url(#clip562)\" style=\"stroke:#000000; stroke-linecap:butt; stroke-linejoin:round; stroke-width:2; stroke-opacity:0.1; fill:none\" points=\"\n",
       "  1470.49,1486.45 1470.49,47.2441 \n",
       "  \"/>\n",
       "<polyline clip-path=\"url(#clip562)\" style=\"stroke:#000000; stroke-linecap:butt; stroke-linejoin:round; stroke-width:2; stroke-opacity:0.1; fill:none\" points=\"\n",
       "  1902.13,1486.45 1902.13,47.2441 \n",
       "  \"/>\n",
       "<polyline clip-path=\"url(#clip562)\" style=\"stroke:#000000; stroke-linecap:butt; stroke-linejoin:round; stroke-width:2; stroke-opacity:0.1; fill:none\" points=\"\n",
       "  2333.76,1486.45 2333.76,47.2441 \n",
       "  \"/>\n",
       "<polyline clip-path=\"url(#clip560)\" style=\"stroke:#000000; stroke-linecap:butt; stroke-linejoin:round; stroke-width:4; stroke-opacity:1; fill:none\" points=\"\n",
       "  156.598,1486.45 2352.76,1486.45 \n",
       "  \"/>\n",
       "<polyline clip-path=\"url(#clip560)\" style=\"stroke:#000000; stroke-linecap:butt; stroke-linejoin:round; stroke-width:4; stroke-opacity:1; fill:none\" points=\"\n",
       "  175.59,1486.45 175.59,1467.55 \n",
       "  \"/>\n",
       "<polyline clip-path=\"url(#clip560)\" style=\"stroke:#000000; stroke-linecap:butt; stroke-linejoin:round; stroke-width:4; stroke-opacity:1; fill:none\" points=\"\n",
       "  607.225,1486.45 607.225,1467.55 \n",
       "  \"/>\n",
       "<polyline clip-path=\"url(#clip560)\" style=\"stroke:#000000; stroke-linecap:butt; stroke-linejoin:round; stroke-width:4; stroke-opacity:1; fill:none\" points=\"\n",
       "  1038.86,1486.45 1038.86,1467.55 \n",
       "  \"/>\n",
       "<polyline clip-path=\"url(#clip560)\" style=\"stroke:#000000; stroke-linecap:butt; stroke-linejoin:round; stroke-width:4; stroke-opacity:1; fill:none\" points=\"\n",
       "  1470.49,1486.45 1470.49,1467.55 \n",
       "  \"/>\n",
       "<polyline clip-path=\"url(#clip560)\" style=\"stroke:#000000; stroke-linecap:butt; stroke-linejoin:round; stroke-width:4; stroke-opacity:1; fill:none\" points=\"\n",
       "  1902.13,1486.45 1902.13,1467.55 \n",
       "  \"/>\n",
       "<polyline clip-path=\"url(#clip560)\" style=\"stroke:#000000; stroke-linecap:butt; stroke-linejoin:round; stroke-width:4; stroke-opacity:1; fill:none\" points=\"\n",
       "  2333.76,1486.45 2333.76,1467.55 \n",
       "  \"/>\n",
       "<path clip-path=\"url(#clip560)\" d=\"M175.59 1517.37 Q171.979 1517.37 170.15 1520.93 Q168.345 1524.47 168.345 1531.6 Q168.345 1538.71 170.15 1542.27 Q171.979 1545.82 175.59 1545.82 Q179.224 1545.82 181.03 1542.27 Q182.859 1538.71 182.859 1531.6 Q182.859 1524.47 181.03 1520.93 Q179.224 1517.37 175.59 1517.37 M175.59 1513.66 Q181.4 1513.66 184.456 1518.27 Q187.535 1522.85 187.535 1531.6 Q187.535 1540.33 184.456 1544.94 Q181.4 1549.52 175.59 1549.52 Q169.78 1549.52 166.701 1544.94 Q163.646 1540.33 163.646 1531.6 Q163.646 1522.85 166.701 1518.27 Q169.78 1513.66 175.59 1513.66 Z\" fill=\"#000000\" fill-rule=\"evenodd\" fill-opacity=\"1\" /><path clip-path=\"url(#clip560)\" d=\"M581.913 1544.91 L589.551 1544.91 L589.551 1518.55 L581.241 1520.21 L581.241 1515.95 L589.505 1514.29 L594.181 1514.29 L594.181 1544.91 L601.82 1544.91 L601.82 1548.85 L581.913 1548.85 L581.913 1544.91 Z\" fill=\"#000000\" fill-rule=\"evenodd\" fill-opacity=\"1\" /><path clip-path=\"url(#clip560)\" d=\"M621.264 1517.37 Q617.653 1517.37 615.824 1520.93 Q614.019 1524.47 614.019 1531.6 Q614.019 1538.71 615.824 1542.27 Q617.653 1545.82 621.264 1545.82 Q624.898 1545.82 626.704 1542.27 Q628.533 1538.71 628.533 1531.6 Q628.533 1524.47 626.704 1520.93 Q624.898 1517.37 621.264 1517.37 M621.264 1513.66 Q627.074 1513.66 630.13 1518.27 Q633.209 1522.85 633.209 1531.6 Q633.209 1540.33 630.13 1544.94 Q627.074 1549.52 621.264 1549.52 Q615.454 1549.52 612.375 1544.94 Q609.32 1540.33 609.32 1531.6 Q609.32 1522.85 612.375 1518.27 Q615.454 1513.66 621.264 1513.66 Z\" fill=\"#000000\" fill-rule=\"evenodd\" fill-opacity=\"1\" /><path clip-path=\"url(#clip560)\" d=\"M1017.63 1544.91 L1033.95 1544.91 L1033.95 1548.85 L1012.01 1548.85 L1012.01 1544.91 Q1014.67 1542.16 1019.25 1537.53 Q1023.86 1532.88 1025.04 1531.53 Q1027.29 1529.01 1028.17 1527.27 Q1029.07 1525.51 1029.07 1523.82 Q1029.07 1521.07 1027.12 1519.33 Q1025.2 1517.6 1022.1 1517.6 Q1019.9 1517.6 1017.45 1518.36 Q1015.02 1519.13 1012.24 1520.68 L1012.24 1515.95 Q1015.06 1514.82 1017.52 1514.24 Q1019.97 1513.66 1022.01 1513.66 Q1027.38 1513.66 1030.57 1516.35 Q1033.77 1519.03 1033.77 1523.52 Q1033.77 1525.65 1032.96 1527.57 Q1032.17 1529.47 1030.06 1532.07 Q1029.48 1532.74 1026.38 1535.95 Q1023.28 1539.15 1017.63 1544.91 Z\" fill=\"#000000\" fill-rule=\"evenodd\" fill-opacity=\"1\" /><path clip-path=\"url(#clip560)\" d=\"M1053.77 1517.37 Q1050.16 1517.37 1048.33 1520.93 Q1046.52 1524.47 1046.52 1531.6 Q1046.52 1538.71 1048.33 1542.27 Q1050.16 1545.82 1053.77 1545.82 Q1057.4 1545.82 1059.21 1542.27 Q1061.04 1538.71 1061.04 1531.6 Q1061.04 1524.47 1059.21 1520.93 Q1057.4 1517.37 1053.77 1517.37 M1053.77 1513.66 Q1059.58 1513.66 1062.63 1518.27 Q1065.71 1522.85 1065.71 1531.6 Q1065.71 1540.33 1062.63 1544.94 Q1059.58 1549.52 1053.77 1549.52 Q1047.96 1549.52 1044.88 1544.94 Q1041.82 1540.33 1041.82 1531.6 Q1041.82 1522.85 1044.88 1518.27 Q1047.96 1513.66 1053.77 1513.66 Z\" fill=\"#000000\" fill-rule=\"evenodd\" fill-opacity=\"1\" /><path clip-path=\"url(#clip560)\" d=\"M1459.34 1530.21 Q1462.69 1530.93 1464.57 1533.2 Q1466.47 1535.47 1466.47 1538.8 Q1466.47 1543.92 1462.95 1546.72 Q1459.43 1549.52 1452.95 1549.52 Q1450.77 1549.52 1448.46 1549.08 Q1446.17 1548.66 1443.71 1547.81 L1443.71 1543.29 Q1445.66 1544.43 1447.97 1545.01 Q1450.29 1545.58 1452.81 1545.58 Q1457.21 1545.58 1459.5 1543.85 Q1461.81 1542.11 1461.81 1538.8 Q1461.81 1535.75 1459.66 1534.03 Q1457.53 1532.3 1453.71 1532.3 L1449.68 1532.3 L1449.68 1528.45 L1453.9 1528.45 Q1457.35 1528.45 1459.18 1527.09 Q1461 1525.7 1461 1523.11 Q1461 1520.45 1459.11 1519.03 Q1457.23 1517.6 1453.71 1517.6 Q1451.79 1517.6 1449.59 1518.01 Q1447.39 1518.43 1444.75 1519.31 L1444.75 1515.14 Q1447.42 1514.4 1449.73 1514.03 Q1452.07 1513.66 1454.13 1513.66 Q1459.45 1513.66 1462.55 1516.09 Q1465.66 1518.5 1465.66 1522.62 Q1465.66 1525.49 1464.01 1527.48 Q1462.37 1529.45 1459.34 1530.21 Z\" fill=\"#000000\" fill-rule=\"evenodd\" fill-opacity=\"1\" /><path clip-path=\"url(#clip560)\" d=\"M1485.33 1517.37 Q1481.72 1517.37 1479.89 1520.93 Q1478.09 1524.47 1478.09 1531.6 Q1478.09 1538.71 1479.89 1542.27 Q1481.72 1545.82 1485.33 1545.82 Q1488.97 1545.82 1490.77 1542.27 Q1492.6 1538.71 1492.6 1531.6 Q1492.6 1524.47 1490.77 1520.93 Q1488.97 1517.37 1485.33 1517.37 M1485.33 1513.66 Q1491.14 1513.66 1494.2 1518.27 Q1497.28 1522.85 1497.28 1531.6 Q1497.28 1540.33 1494.2 1544.94 Q1491.14 1549.52 1485.33 1549.52 Q1479.52 1549.52 1476.44 1544.94 Q1473.39 1540.33 1473.39 1531.6 Q1473.39 1522.85 1476.44 1518.27 Q1479.52 1513.66 1485.33 1513.66 Z\" fill=\"#000000\" fill-rule=\"evenodd\" fill-opacity=\"1\" /><path clip-path=\"url(#clip560)\" d=\"M1890.3 1518.36 L1878.5 1536.81 L1890.3 1536.81 L1890.3 1518.36 M1889.07 1514.29 L1894.95 1514.29 L1894.95 1536.81 L1899.88 1536.81 L1899.88 1540.7 L1894.95 1540.7 L1894.95 1548.85 L1890.3 1548.85 L1890.3 1540.7 L1874.7 1540.7 L1874.7 1536.19 L1889.07 1514.29 Z\" fill=\"#000000\" fill-rule=\"evenodd\" fill-opacity=\"1\" /><path clip-path=\"url(#clip560)\" d=\"M1917.62 1517.37 Q1914 1517.37 1912.18 1520.93 Q1910.37 1524.47 1910.37 1531.6 Q1910.37 1538.71 1912.18 1542.27 Q1914 1545.82 1917.62 1545.82 Q1921.25 1545.82 1923.06 1542.27 Q1924.88 1538.71 1924.88 1531.6 Q1924.88 1524.47 1923.06 1520.93 Q1921.25 1517.37 1917.62 1517.37 M1917.62 1513.66 Q1923.43 1513.66 1926.48 1518.27 Q1929.56 1522.85 1929.56 1531.6 Q1929.56 1540.33 1926.48 1544.94 Q1923.43 1549.52 1917.62 1549.52 Q1911.81 1549.52 1908.73 1544.94 Q1905.67 1540.33 1905.67 1531.6 Q1905.67 1522.85 1908.73 1518.27 Q1911.81 1513.66 1917.62 1513.66 Z\" fill=\"#000000\" fill-rule=\"evenodd\" fill-opacity=\"1\" /><path clip-path=\"url(#clip560)\" d=\"M2308.46 1514.29 L2326.82 1514.29 L2326.82 1518.22 L2312.75 1518.22 L2312.75 1526.7 Q2313.76 1526.35 2314.78 1526.19 Q2315.8 1526 2316.82 1526 Q2322.61 1526 2325.99 1529.17 Q2329.37 1532.34 2329.37 1537.76 Q2329.37 1543.34 2325.89 1546.44 Q2322.42 1549.52 2316.1 1549.52 Q2313.93 1549.52 2311.66 1549.15 Q2309.41 1548.78 2307 1548.04 L2307 1543.34 Q2309.09 1544.47 2311.31 1545.03 Q2313.53 1545.58 2316.01 1545.58 Q2320.01 1545.58 2322.35 1543.48 Q2324.69 1541.37 2324.69 1537.76 Q2324.69 1534.15 2322.35 1532.04 Q2320.01 1529.94 2316.01 1529.94 Q2314.13 1529.94 2312.26 1530.35 Q2310.41 1530.77 2308.46 1531.65 L2308.46 1514.29 Z\" fill=\"#000000\" fill-rule=\"evenodd\" fill-opacity=\"1\" /><path clip-path=\"url(#clip560)\" d=\"M2348.58 1517.37 Q2344.97 1517.37 2343.14 1520.93 Q2341.33 1524.47 2341.33 1531.6 Q2341.33 1538.71 2343.14 1542.27 Q2344.97 1545.82 2348.58 1545.82 Q2352.21 1545.82 2354.02 1542.27 Q2355.85 1538.71 2355.85 1531.6 Q2355.85 1524.47 2354.02 1520.93 Q2352.21 1517.37 2348.58 1517.37 M2348.58 1513.66 Q2354.39 1513.66 2357.44 1518.27 Q2360.52 1522.85 2360.52 1531.6 Q2360.52 1540.33 2357.44 1544.94 Q2354.39 1549.52 2348.58 1549.52 Q2342.77 1549.52 2339.69 1544.94 Q2336.63 1540.33 2336.63 1531.6 Q2336.63 1522.85 2339.69 1518.27 Q2342.77 1513.66 2348.58 1513.66 Z\" fill=\"#000000\" fill-rule=\"evenodd\" fill-opacity=\"1\" /><polyline clip-path=\"url(#clip562)\" style=\"stroke:#000000; stroke-linecap:butt; stroke-linejoin:round; stroke-width:2; stroke-opacity:0.1; fill:none\" points=\"\n",
       "  156.598,1222.89 2352.76,1222.89 \n",
       "  \"/>\n",
       "<polyline clip-path=\"url(#clip562)\" style=\"stroke:#000000; stroke-linecap:butt; stroke-linejoin:round; stroke-width:2; stroke-opacity:0.1; fill:none\" points=\"\n",
       "  156.598,939.126 2352.76,939.126 \n",
       "  \"/>\n",
       "<polyline clip-path=\"url(#clip562)\" style=\"stroke:#000000; stroke-linecap:butt; stroke-linejoin:round; stroke-width:2; stroke-opacity:0.1; fill:none\" points=\"\n",
       "  156.598,655.362 2352.76,655.362 \n",
       "  \"/>\n",
       "<polyline clip-path=\"url(#clip562)\" style=\"stroke:#000000; stroke-linecap:butt; stroke-linejoin:round; stroke-width:2; stroke-opacity:0.1; fill:none\" points=\"\n",
       "  156.598,371.598 2352.76,371.598 \n",
       "  \"/>\n",
       "<polyline clip-path=\"url(#clip562)\" style=\"stroke:#000000; stroke-linecap:butt; stroke-linejoin:round; stroke-width:2; stroke-opacity:0.1; fill:none\" points=\"\n",
       "  156.598,87.8344 2352.76,87.8344 \n",
       "  \"/>\n",
       "<polyline clip-path=\"url(#clip560)\" style=\"stroke:#000000; stroke-linecap:butt; stroke-linejoin:round; stroke-width:4; stroke-opacity:1; fill:none\" points=\"\n",
       "  156.598,1486.45 156.598,47.2441 \n",
       "  \"/>\n",
       "<polyline clip-path=\"url(#clip560)\" style=\"stroke:#000000; stroke-linecap:butt; stroke-linejoin:round; stroke-width:4; stroke-opacity:1; fill:none\" points=\"\n",
       "  156.598,1222.89 175.496,1222.89 \n",
       "  \"/>\n",
       "<polyline clip-path=\"url(#clip560)\" style=\"stroke:#000000; stroke-linecap:butt; stroke-linejoin:round; stroke-width:4; stroke-opacity:1; fill:none\" points=\"\n",
       "  156.598,939.126 175.496,939.126 \n",
       "  \"/>\n",
       "<polyline clip-path=\"url(#clip560)\" style=\"stroke:#000000; stroke-linecap:butt; stroke-linejoin:round; stroke-width:4; stroke-opacity:1; fill:none\" points=\"\n",
       "  156.598,655.362 175.496,655.362 \n",
       "  \"/>\n",
       "<polyline clip-path=\"url(#clip560)\" style=\"stroke:#000000; stroke-linecap:butt; stroke-linejoin:round; stroke-width:4; stroke-opacity:1; fill:none\" points=\"\n",
       "  156.598,371.598 175.496,371.598 \n",
       "  \"/>\n",
       "<polyline clip-path=\"url(#clip560)\" style=\"stroke:#000000; stroke-linecap:butt; stroke-linejoin:round; stroke-width:4; stroke-opacity:1; fill:none\" points=\"\n",
       "  156.598,87.8344 175.496,87.8344 \n",
       "  \"/>\n",
       "<path clip-path=\"url(#clip560)\" d=\"M65.0198 1208.69 Q61.4087 1208.69 59.58 1212.25 Q57.7745 1215.79 57.7745 1222.92 Q57.7745 1230.03 59.58 1233.6 Q61.4087 1237.14 65.0198 1237.14 Q68.6541 1237.14 70.4596 1233.6 Q72.2883 1230.03 72.2883 1222.92 Q72.2883 1215.79 70.4596 1212.25 Q68.6541 1208.69 65.0198 1208.69 M65.0198 1204.98 Q70.83 1204.98 73.8855 1209.59 Q76.9642 1214.17 76.9642 1222.92 Q76.9642 1231.65 73.8855 1236.26 Q70.83 1240.84 65.0198 1240.84 Q59.2097 1240.84 56.131 1236.26 Q53.0754 1231.65 53.0754 1222.92 Q53.0754 1214.17 56.131 1209.59 Q59.2097 1204.98 65.0198 1204.98 Z\" fill=\"#000000\" fill-rule=\"evenodd\" fill-opacity=\"1\" /><path clip-path=\"url(#clip560)\" d=\"M85.1818 1234.29 L90.066 1234.29 L90.066 1240.17 L85.1818 1240.17 L85.1818 1234.29 Z\" fill=\"#000000\" fill-rule=\"evenodd\" fill-opacity=\"1\" /><path clip-path=\"url(#clip560)\" d=\"M104.279 1236.23 L120.598 1236.23 L120.598 1240.17 L98.6539 1240.17 L98.6539 1236.23 Q101.316 1233.48 105.899 1228.85 Q110.506 1224.2 111.686 1222.85 Q113.932 1220.33 114.811 1218.6 Q115.714 1216.84 115.714 1215.15 Q115.714 1212.39 113.77 1210.66 Q111.848 1208.92 108.746 1208.92 Q106.547 1208.92 104.094 1209.68 Q101.663 1210.45 98.8854 1212 L98.8854 1207.28 Q101.709 1206.14 104.163 1205.56 Q106.617 1204.98 108.654 1204.98 Q114.024 1204.98 117.219 1207.67 Q120.413 1210.36 120.413 1214.85 Q120.413 1216.98 119.603 1218.9 Q118.816 1220.79 116.709 1223.39 Q116.131 1224.06 113.029 1227.28 Q109.927 1230.47 104.279 1236.23 Z\" fill=\"#000000\" fill-rule=\"evenodd\" fill-opacity=\"1\" /><path clip-path=\"url(#clip560)\" d=\"M62.9365 924.925 Q59.3254 924.925 57.4967 928.489 Q55.6912 932.031 55.6912 939.161 Q55.6912 946.267 57.4967 949.832 Q59.3254 953.373 62.9365 953.373 Q66.5707 953.373 68.3763 949.832 Q70.205 946.267 70.205 939.161 Q70.205 932.031 68.3763 928.489 Q66.5707 924.925 62.9365 924.925 M62.9365 921.221 Q68.7467 921.221 71.8022 925.827 Q74.8809 930.411 74.8809 939.161 Q74.8809 947.887 71.8022 952.494 Q68.7467 957.077 62.9365 957.077 Q57.1264 957.077 54.0477 952.494 Q50.9921 947.887 50.9921 939.161 Q50.9921 930.411 54.0477 925.827 Q57.1264 921.221 62.9365 921.221 Z\" fill=\"#000000\" fill-rule=\"evenodd\" fill-opacity=\"1\" /><path clip-path=\"url(#clip560)\" d=\"M83.0984 950.526 L87.9827 950.526 L87.9827 956.406 L83.0984 956.406 L83.0984 950.526 Z\" fill=\"#000000\" fill-rule=\"evenodd\" fill-opacity=\"1\" /><path clip-path=\"url(#clip560)\" d=\"M111.015 925.92 L99.2095 944.369 L111.015 944.369 L111.015 925.92 M109.788 921.846 L115.668 921.846 L115.668 944.369 L120.598 944.369 L120.598 948.258 L115.668 948.258 L115.668 956.406 L111.015 956.406 L111.015 948.258 L95.4132 948.258 L95.4132 943.744 L109.788 921.846 Z\" fill=\"#000000\" fill-rule=\"evenodd\" fill-opacity=\"1\" /><path clip-path=\"url(#clip560)\" d=\"M63.2606 641.161 Q59.6495 641.161 57.8208 644.726 Q56.0152 648.267 56.0152 655.397 Q56.0152 662.503 57.8208 666.068 Q59.6495 669.61 63.2606 669.61 Q66.8948 669.61 68.7004 666.068 Q70.5291 662.503 70.5291 655.397 Q70.5291 648.267 68.7004 644.726 Q66.8948 641.161 63.2606 641.161 M63.2606 637.457 Q69.0707 637.457 72.1263 642.064 Q75.205 646.647 75.205 655.397 Q75.205 664.124 72.1263 668.73 Q69.0707 673.313 63.2606 673.313 Q57.4504 673.313 54.3717 668.73 Q51.3162 664.124 51.3162 655.397 Q51.3162 646.647 54.3717 642.064 Q57.4504 637.457 63.2606 637.457 Z\" fill=\"#000000\" fill-rule=\"evenodd\" fill-opacity=\"1\" /><path clip-path=\"url(#clip560)\" d=\"M83.4225 666.762 L88.3067 666.762 L88.3067 672.642 L83.4225 672.642 L83.4225 666.762 Z\" fill=\"#000000\" fill-rule=\"evenodd\" fill-opacity=\"1\" /><path clip-path=\"url(#clip560)\" d=\"M109.071 653.499 Q105.922 653.499 104.071 655.651 Q102.242 657.804 102.242 661.554 Q102.242 665.281 104.071 667.457 Q105.922 669.61 109.071 669.61 Q112.219 669.61 114.047 667.457 Q115.899 665.281 115.899 661.554 Q115.899 657.804 114.047 655.651 Q112.219 653.499 109.071 653.499 M118.353 638.846 L118.353 643.105 Q116.594 642.272 114.788 641.832 Q113.006 641.392 111.246 641.392 Q106.617 641.392 104.163 644.517 Q101.733 647.642 101.385 653.962 Q102.751 651.948 104.811 650.883 Q106.871 649.795 109.348 649.795 Q114.557 649.795 117.566 652.966 Q120.598 656.114 120.598 661.554 Q120.598 666.878 117.45 670.096 Q114.302 673.313 109.071 673.313 Q103.075 673.313 99.9039 668.73 Q96.7326 664.124 96.7326 655.397 Q96.7326 647.202 100.621 642.341 Q104.51 637.457 111.061 637.457 Q112.82 637.457 114.603 637.804 Q116.408 638.151 118.353 638.846 Z\" fill=\"#000000\" fill-rule=\"evenodd\" fill-opacity=\"1\" /><path clip-path=\"url(#clip560)\" d=\"M63.5152 357.397 Q59.9041 357.397 58.0754 360.962 Q56.2699 364.503 56.2699 371.633 Q56.2699 378.739 58.0754 382.304 Q59.9041 385.846 63.5152 385.846 Q67.1494 385.846 68.955 382.304 Q70.7837 378.739 70.7837 371.633 Q70.7837 364.503 68.955 360.962 Q67.1494 357.397 63.5152 357.397 M63.5152 353.693 Q69.3254 353.693 72.3809 358.3 Q75.4596 362.883 75.4596 371.633 Q75.4596 380.36 72.3809 384.966 Q69.3254 389.55 63.5152 389.55 Q57.7051 389.55 54.6264 384.966 Q51.5708 380.36 51.5708 371.633 Q51.5708 362.883 54.6264 358.3 Q57.7051 353.693 63.5152 353.693 Z\" fill=\"#000000\" fill-rule=\"evenodd\" fill-opacity=\"1\" /><path clip-path=\"url(#clip560)\" d=\"M83.6771 382.999 L88.5614 382.999 L88.5614 388.878 L83.6771 388.878 L83.6771 382.999 Z\" fill=\"#000000\" fill-rule=\"evenodd\" fill-opacity=\"1\" /><path clip-path=\"url(#clip560)\" d=\"M108.746 372.466 Q105.413 372.466 103.492 374.249 Q101.594 376.031 101.594 379.156 Q101.594 382.281 103.492 384.063 Q105.413 385.846 108.746 385.846 Q112.08 385.846 114.001 384.063 Q115.922 382.258 115.922 379.156 Q115.922 376.031 114.001 374.249 Q112.103 372.466 108.746 372.466 M104.071 370.476 Q101.061 369.735 99.3715 367.675 Q97.7048 365.614 97.7048 362.652 Q97.7048 358.508 100.645 356.101 Q103.608 353.693 108.746 353.693 Q113.908 353.693 116.848 356.101 Q119.788 358.508 119.788 362.652 Q119.788 365.614 118.098 367.675 Q116.432 369.735 113.445 370.476 Q116.825 371.263 118.7 373.554 Q120.598 375.846 120.598 379.156 Q120.598 384.179 117.52 386.864 Q114.464 389.55 108.746 389.55 Q103.029 389.55 99.9502 386.864 Q96.8947 384.179 96.8947 379.156 Q96.8947 375.846 98.7928 373.554 Q100.691 371.263 104.071 370.476 M102.358 363.091 Q102.358 365.776 104.024 367.281 Q105.714 368.786 108.746 368.786 Q111.756 368.786 113.445 367.281 Q115.158 365.776 115.158 363.091 Q115.158 360.406 113.445 358.902 Q111.756 357.397 108.746 357.397 Q105.714 357.397 104.024 358.902 Q102.358 360.406 102.358 363.091 Z\" fill=\"#000000\" fill-rule=\"evenodd\" fill-opacity=\"1\" /><path clip-path=\"url(#clip560)\" d=\"M54.2328 101.179 L61.8717 101.179 L61.8717 74.8136 L53.5616 76.4803 L53.5616 72.2211 L61.8254 70.5544 L66.5013 70.5544 L66.5013 101.179 L74.1402 101.179 L74.1402 105.114 L54.2328 105.114 L54.2328 101.179 Z\" fill=\"#000000\" fill-rule=\"evenodd\" fill-opacity=\"1\" /><path clip-path=\"url(#clip560)\" d=\"M83.5845 99.2348 L88.4688 99.2348 L88.4688 105.114 L83.5845 105.114 L83.5845 99.2348 Z\" fill=\"#000000\" fill-rule=\"evenodd\" fill-opacity=\"1\" /><path clip-path=\"url(#clip560)\" d=\"M108.654 73.6331 Q105.043 73.6331 103.214 77.1979 Q101.409 80.7395 101.409 87.8691 Q101.409 94.9756 103.214 98.5404 Q105.043 102.082 108.654 102.082 Q112.288 102.082 114.094 98.5404 Q115.922 94.9756 115.922 87.8691 Q115.922 80.7395 114.094 77.1979 Q112.288 73.6331 108.654 73.6331 M108.654 69.9294 Q114.464 69.9294 117.52 74.5359 Q120.598 79.1192 120.598 87.8691 Q120.598 96.5959 117.52 101.202 Q114.464 105.786 108.654 105.786 Q102.844 105.786 99.765 101.202 Q96.7095 96.5959 96.7095 87.8691 Q96.7095 79.1192 99.765 74.5359 Q102.844 69.9294 108.654 69.9294 Z\" fill=\"#000000\" fill-rule=\"evenodd\" fill-opacity=\"1\" /><polyline clip-path=\"url(#clip562)\" style=\"stroke:#009af9; stroke-linecap:butt; stroke-linejoin:round; stroke-width:4; stroke-opacity:1; fill:none\" points=\"\n",
       "  218.754,797.244 261.917,797.244 305.081,797.244 348.244,797.244 391.408,797.244 434.571,797.244 477.734,797.244 520.898,797.244 564.061,797.244 607.225,1052.63 \n",
       "  650.388,797.244 693.552,1052.63 736.715,797.244 779.879,485.104 823.042,797.244 866.206,961.827 909.369,797.244 952.533,87.9763 995.696,797.244 1038.86,812.534 \n",
       "  1082.02,797.244 1125.19,1430.48 1168.35,797.244 1211.51,602.852 1254.68,797.244 1297.84,371.712 1341,797.244 1384.17,87.9763 1427.33,797.244 1470.49,812.534 \n",
       "  1513.66,797.244 1556.82,1445.72 1599.98,797.244 1643.15,565.193 1686.31,797.244 1729.48,961.827 1772.64,797.244 1815.8,655.362 1858.97,797.244 1902.13,655.362 \n",
       "  1945.29,797.244 1988.46,797.244 2031.62,797.244 2074.78,797.244 2117.95,797.244 2161.11,797.244 2204.27,797.244 2247.44,797.244 2290.6,797.244 \n",
       "  \"/>\n",
       "<path clip-path=\"url(#clip560)\" d=\"\n",
       "M1983.1 198.898 L2279.55 198.898 L2279.55 95.2176 L1983.1 95.2176  Z\n",
       "  \" fill=\"#ffffff\" fill-rule=\"evenodd\" fill-opacity=\"1\"/>\n",
       "<polyline clip-path=\"url(#clip560)\" style=\"stroke:#000000; stroke-linecap:butt; stroke-linejoin:round; stroke-width:4; stroke-opacity:1; fill:none\" points=\"\n",
       "  1983.1,198.898 2279.55,198.898 2279.55,95.2176 1983.1,95.2176 1983.1,198.898 \n",
       "  \"/>\n",
       "<polyline clip-path=\"url(#clip560)\" style=\"stroke:#009af9; stroke-linecap:butt; stroke-linejoin:round; stroke-width:4; stroke-opacity:1; fill:none\" points=\"\n",
       "  2007.5,147.058 2153.92,147.058 \n",
       "  \"/>\n",
       "<path clip-path=\"url(#clip560)\" d=\"M2192.16 166.745 Q2190.35 171.375 2188.64 172.787 Q2186.93 174.199 2184.06 174.199 L2180.65 174.199 L2180.65 170.634 L2183.15 170.634 Q2184.91 170.634 2185.89 169.8 Q2186.86 168.967 2188.04 165.865 L2188.8 163.921 L2178.32 138.412 L2182.83 138.412 L2190.93 158.689 L2199.03 138.412 L2203.55 138.412 L2192.16 166.745 Z\" fill=\"#000000\" fill-rule=\"evenodd\" fill-opacity=\"1\" /><path clip-path=\"url(#clip560)\" d=\"M2210.84 160.402 L2218.48 160.402 L2218.48 134.037 L2210.17 135.703 L2210.17 131.444 L2218.43 129.778 L2223.11 129.778 L2223.11 160.402 L2230.75 160.402 L2230.75 164.338 L2210.84 164.338 L2210.84 160.402 Z\" fill=\"#000000\" fill-rule=\"evenodd\" fill-opacity=\"1\" /></svg>\n"
      ]
     },
     "execution_count": 300,
     "metadata": {},
     "output_type": "execute_result"
    }
   ],
   "source": [
    "plot(θ[:,end-1])"
   ]
  },
  {
   "cell_type": "code",
   "execution_count": 301,
   "id": "6c330de0-f7e5-49a7-9319-5e4da6c13769",
   "metadata": {},
   "outputs": [
    {
     "data": {
      "text/plain": [
       "-11.1879602764194"
      ]
     },
     "execution_count": 301,
     "metadata": {},
     "output_type": "execute_result"
    }
   ],
   "source": [
    "logQ(x,θ)"
   ]
  },
  {
   "cell_type": "code",
   "execution_count": 320,
   "id": "d41c3734-a025-424f-a7a1-c45096078f74",
   "metadata": {},
   "outputs": [
    {
     "data": {
      "text/plain": [
       "true"
      ]
     },
     "execution_count": 320,
     "metadata": {},
     "output_type": "execute_result"
    }
   ],
   "source": [
    "sample!(x,θ)\n",
    "isok(x)"
   ]
  },
  {
   "cell_type": "code",
   "execution_count": 236,
   "id": "12255123-7459-4bef-a0c0-7258f680814a",
   "metadata": {},
   "outputs": [
    {
     "data": {
      "text/plain": [
       "49×25 Matrix{Float64}:\n",
       " 0.5  0.5  0.5  0.5  0.5  0.5  0.5  0.5  …  0.5       0.5       0.5       0.5\n",
       " 0.5  0.5  0.5  0.5  0.5  0.5  0.5  0.5     0.5       0.5       0.5       0.5\n",
       " 0.5  0.5  0.5  0.5  0.5  0.5  0.5  0.5     0.5       0.5       0.5       0.5\n",
       " 0.5  0.5  0.5  0.5  0.5  0.5  0.5  0.5     0.5       0.5       0.6       0.5\n",
       " 0.5  0.5  0.5  0.5  0.5  0.5  0.5  0.5     0.5       0.48      0.5       0.5\n",
       " 0.5  0.5  0.5  0.5  0.5  0.5  0.5  0.5  …  0.576     0.5       0.663552  0.5\n",
       " 0.5  0.5  0.5  0.5  0.5  0.5  0.5  0.5     0.5       0.614339  0.5       0.5\n",
       " 0.5  0.5  0.5  0.5  0.5  0.5  0.5  0.5     0.407686  0.5       0.489224  0.5\n",
       " 0.5  0.5  0.5  0.5  0.5  0.5  0.5  0.5     0.5       0.489224  0.5       0.5\n",
       " 0.5  0.5  0.5  0.5  0.5  0.5  0.5  0.5     0.251633  0.5       0.326149  0.5\n",
       " 0.5  0.5  0.5  0.5  0.5  0.5  0.5  0.5  …  0.5       0.115964  0.5       0.5\n",
       " 0.5  0.5  0.5  0.5  0.5  0.5  0.5  0.5     0.587068  0.5       0.587068  0.5\n",
       " 0.5  0.5  0.5  0.5  0.5  0.5  0.5  0.5     0.5       0.115964  0.5       0.5\n",
       " ⋮                        ⋮              ⋱                                \n",
       " 0.5  0.5  0.5  0.5  0.5  0.5  0.5  0.5     0.271791  0.5       0.764412  0.5\n",
       " 0.5  0.5  0.5  0.5  0.5  0.5  0.5  0.5     0.5       0.530842  0.5       0.5\n",
       " 0.5  0.5  0.5  0.5  0.5  0.5  0.5  0.5     0.384     0.5       0.55296   0.5\n",
       " 0.5  0.5  0.5  0.5  0.5  0.5  0.5  0.5  …  0.5       0.576     0.5       0.5\n",
       " 0.5  0.5  0.5  0.5  0.5  0.5  0.5  0.5     0.5       0.5       0.48      0.5\n",
       " 0.5  0.5  0.5  0.5  0.5  0.5  0.5  0.5     0.5       0.4       0.5       0.5\n",
       " 0.5  0.5  0.5  0.5  0.5  0.5  0.5  0.5     0.6       0.5       0.6       0.5\n",
       " 0.5  0.5  0.5  0.5  0.5  0.5  0.5  0.5     0.5       0.5       0.5       0.5\n",
       " 0.5  0.5  0.5  0.5  0.5  0.5  0.5  0.5  …  0.5       0.5       0.5       0.5\n",
       " 0.5  0.5  0.5  0.5  0.5  0.5  0.5  0.5     0.5       0.5       0.5       0.5\n",
       " 0.5  0.5  0.5  0.5  0.5  0.5  0.5  0.5     0.5       0.5       0.5       0.5\n",
       " 0.5  0.5  0.5  0.5  0.5  0.5  0.5  0.5     0.5       0.5       0.5       0.5"
      ]
     },
     "execution_count": 236,
     "metadata": {},
     "output_type": "execute_result"
    }
   ],
   "source": [
    "θ"
   ]
  },
  {
   "cell_type": "code",
   "execution_count": null,
   "id": "bf838dde-1118-4980-96b8-ba5a37e8f8cd",
   "metadata": {},
   "outputs": [],
   "source": []
  },
  {
   "cell_type": "code",
   "execution_count": null,
   "id": "ce006fcb-678b-440f-b566-d186fa7c9290",
   "metadata": {},
   "outputs": [],
   "source": []
  }
 ],
 "metadata": {
  "kernelspec": {
   "display_name": "Julia 1.7.0-rc2",
   "language": "julia",
   "name": "julia-1.7"
  },
  "language_info": {
   "file_extension": ".jl",
   "mimetype": "application/julia",
   "name": "julia",
   "version": "1.7.0"
  }
 },
 "nbformat": 4,
 "nbformat_minor": 5
}
