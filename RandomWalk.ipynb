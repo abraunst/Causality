{
 "cells": [
  {
   "cell_type": "code",
   "execution_count": 1,
   "id": "6b77c459-19bd-4e2f-a949-5f9155de3286",
   "metadata": {},
   "outputs": [],
   "source": [
    "using Plots\n",
    "using ForwardDiff"
   ]
  },
  {
   "cell_type": "code",
   "execution_count": 2,
   "id": "c0f80b21-39cf-463b-aec9-de23fc768771",
   "metadata": {},
   "outputs": [
    {
     "data": {
      "text/plain": [
       "sample! (generic function with 1 method)"
      ]
     },
     "execution_count": 2,
     "metadata": {},
     "output_type": "execute_result"
    }
   ],
   "source": [
    "function sample!(x,θ)\n",
    "    T = size(θ,2)\n",
    "    for t = 1:T-1\n",
    "        x[t+1] = x[t] + ( rand() < θ[x[t] + T, t] ? 1 : -1 )\n",
    "    end\n",
    "end"
   ]
  },
  {
   "cell_type": "code",
   "execution_count": 294,
   "id": "d2f01854-5143-4074-8376-cac09ae69de7",
   "metadata": {},
   "outputs": [
    {
     "data": {
      "text/plain": [
       "logO (generic function with 1 method)"
      ]
     },
     "execution_count": 294,
     "metadata": {},
     "output_type": "execute_result"
    }
   ],
   "source": [
    "function logqt(x,θt,t)\n",
    "    return log((x[t+1] - x[t]) == 1 ? θt[x[t] + T] : 1 - θt[x[t] + T])\n",
    "end\n",
    "\n",
    "function logQ(x,θ)\n",
    "    T = size(θ,2)\n",
    "    s = 0\n",
    "    for t = 1:T-1\n",
    "        s += logqt(x,θ[:,t],t) \n",
    "    end\n",
    "    return s\n",
    "end\n",
    "\n",
    "function isok(x)\n",
    "    return 3 <= abs(x[end]) <= 6 \n",
    "end\n",
    "\n",
    "function logO(x)\n",
    "    if isok(x)\n",
    "        @show x\n",
    "        return 0\n",
    "    else\n",
    "        return -10\n",
    "    end\n",
    "end"
   ]
  },
  {
   "cell_type": "code",
   "execution_count": 295,
   "id": "089d67d2-4537-4a77-a360-03efb8acc593",
   "metadata": {},
   "outputs": [
    {
     "data": {
      "text/plain": [
       "gradient! (generic function with 1 method)"
      ]
     },
     "execution_count": 295,
     "metadata": {},
     "output_type": "execute_result"
    }
   ],
   "source": [
    "function gradient!(dθ, x, θ)\n",
    "    T = size(θ,2)\n",
    "    for t = 1:T-1\n",
    "        ForwardDiff.gradient!((@view dθ[:,t]), θt -> logqt(x,θt,t), θ[:,t])\n",
    "    end\n",
    "end"
   ]
  },
  {
   "cell_type": "code",
   "execution_count": 296,
   "id": "ca7edb11-4583-4ebf-9bb7-bcb78d9581a2",
   "metadata": {},
   "outputs": [
    {
     "data": {
      "text/plain": [
       "descend! (generic function with 2 methods)"
      ]
     },
     "execution_count": 296,
     "metadata": {},
     "output_type": "execute_result"
    }
   ],
   "source": [
    "function descend!(θ, θp, θmin, θmax; numsamples=10^4, η=0.1)\n",
    "    N, T = size(θ)\n",
    "    dθ = zero(θ)\n",
    "    x = zeros(Int, N)\n",
    "    \n",
    "    Dθ = zero(θ)\n",
    "    avF = 0    \n",
    "    for s = 1:numsamples\n",
    "        sample!(x, θ)\n",
    "        F = logQ(x,θ) - logQ(x,θp) - logO(x)\n",
    "        avF += F\n",
    "        gradient!(dθ, x, θ)\n",
    "        Dθ .+= F .* dθ\n",
    "    end\n",
    "    θ .-= sign.(dθ) .* abs.(θ) .* η\n",
    "    θ .= clamp.(θ, θmin, θmax)\n",
    "    return avF / numsamples\n",
    "end"
   ]
  },
  {
   "cell_type": "code",
   "execution_count": 388,
   "id": "6ae1f474-80d0-4a0e-b72c-3bd16bc35743",
   "metadata": {},
   "outputs": [],
   "source": [
    "T = 25 #total time of movement\n",
    "N = 2T - 1\n",
    "\n",
    "θ = fill(0.5,N,T); \n",
    "#This is an N x T matrix where θ[i,t] represents \n",
    "#the probability of jumping to right at time t for particle i\n",
    "#The prob of jumping to left is 1-θ[i,t]\n",
    "dθ = fill(1/2,N,T); \n",
    "\n",
    "θp = fill(1/2,N,T); \n",
    "\n",
    "x = zeros(Int,T);"
   ]
  },
  {
   "cell_type": "code",
   "execution_count": 389,
   "id": "ca07fabd-a6e1-41f6-a84e-98227bc9574b",
   "metadata": {},
   "outputs": [
    {
     "data": {
      "image/svg+xml": [
       "<?xml version=\"1.0\" encoding=\"utf-8\"?>\n",
       "<svg xmlns=\"http://www.w3.org/2000/svg\" xmlns:xlink=\"http://www.w3.org/1999/xlink\" width=\"600\" height=\"400\" viewBox=\"0 0 2400 1600\">\n",
       "<defs>\n",
       "  <clipPath id=\"clip200\">\n",
       "    <rect x=\"0\" y=\"0\" width=\"2400\" height=\"1600\"/>\n",
       "  </clipPath>\n",
       "</defs>\n",
       "<path clip-path=\"url(#clip200)\" d=\"\n",
       "M0 1600 L2400 1600 L2400 0 L0 0  Z\n",
       "  \" fill=\"#ffffff\" fill-rule=\"evenodd\" fill-opacity=\"1\"/>\n",
       "<defs>\n",
       "  <clipPath id=\"clip201\">\n",
       "    <rect x=\"480\" y=\"0\" width=\"1681\" height=\"1600\"/>\n",
       "  </clipPath>\n",
       "</defs>\n",
       "<path clip-path=\"url(#clip200)\" d=\"\n",
       "M149.191 1486.45 L2352.76 1486.45 L2352.76 47.2441 L149.191 47.2441  Z\n",
       "  \" fill=\"#ffffff\" fill-rule=\"evenodd\" fill-opacity=\"1\"/>\n",
       "<defs>\n",
       "  <clipPath id=\"clip202\">\n",
       "    <rect x=\"149\" y=\"47\" width=\"2205\" height=\"1440\"/>\n",
       "  </clipPath>\n",
       "</defs>\n",
       "<polyline clip-path=\"url(#clip202)\" style=\"stroke:#000000; stroke-linecap:butt; stroke-linejoin:round; stroke-width:2; stroke-opacity:0.1; fill:none\" points=\"\n",
       "  558.028,1486.45 558.028,47.2441 \n",
       "  \"/>\n",
       "<polyline clip-path=\"url(#clip202)\" style=\"stroke:#000000; stroke-linecap:butt; stroke-linejoin:round; stroke-width:2; stroke-opacity:0.1; fill:none\" points=\"\n",
       "  991.119,1486.45 991.119,47.2441 \n",
       "  \"/>\n",
       "<polyline clip-path=\"url(#clip202)\" style=\"stroke:#000000; stroke-linecap:butt; stroke-linejoin:round; stroke-width:2; stroke-opacity:0.1; fill:none\" points=\"\n",
       "  1424.21,1486.45 1424.21,47.2441 \n",
       "  \"/>\n",
       "<polyline clip-path=\"url(#clip202)\" style=\"stroke:#000000; stroke-linecap:butt; stroke-linejoin:round; stroke-width:2; stroke-opacity:0.1; fill:none\" points=\"\n",
       "  1857.3,1486.45 1857.3,47.2441 \n",
       "  \"/>\n",
       "<polyline clip-path=\"url(#clip202)\" style=\"stroke:#000000; stroke-linecap:butt; stroke-linejoin:round; stroke-width:2; stroke-opacity:0.1; fill:none\" points=\"\n",
       "  2290.39,1486.45 2290.39,47.2441 \n",
       "  \"/>\n",
       "<polyline clip-path=\"url(#clip200)\" style=\"stroke:#000000; stroke-linecap:butt; stroke-linejoin:round; stroke-width:4; stroke-opacity:1; fill:none\" points=\"\n",
       "  149.191,1486.45 2352.76,1486.45 \n",
       "  \"/>\n",
       "<polyline clip-path=\"url(#clip200)\" style=\"stroke:#000000; stroke-linecap:butt; stroke-linejoin:round; stroke-width:4; stroke-opacity:1; fill:none\" points=\"\n",
       "  558.028,1486.45 558.028,1467.55 \n",
       "  \"/>\n",
       "<polyline clip-path=\"url(#clip200)\" style=\"stroke:#000000; stroke-linecap:butt; stroke-linejoin:round; stroke-width:4; stroke-opacity:1; fill:none\" points=\"\n",
       "  991.119,1486.45 991.119,1467.55 \n",
       "  \"/>\n",
       "<polyline clip-path=\"url(#clip200)\" style=\"stroke:#000000; stroke-linecap:butt; stroke-linejoin:round; stroke-width:4; stroke-opacity:1; fill:none\" points=\"\n",
       "  1424.21,1486.45 1424.21,1467.55 \n",
       "  \"/>\n",
       "<polyline clip-path=\"url(#clip200)\" style=\"stroke:#000000; stroke-linecap:butt; stroke-linejoin:round; stroke-width:4; stroke-opacity:1; fill:none\" points=\"\n",
       "  1857.3,1486.45 1857.3,1467.55 \n",
       "  \"/>\n",
       "<polyline clip-path=\"url(#clip200)\" style=\"stroke:#000000; stroke-linecap:butt; stroke-linejoin:round; stroke-width:4; stroke-opacity:1; fill:none\" points=\"\n",
       "  2290.39,1486.45 2290.39,1467.55 \n",
       "  \"/>\n",
       "<path clip-path=\"url(#clip200)\" d=\"M548.306 1514.29 L566.663 1514.29 L566.663 1518.22 L552.589 1518.22 L552.589 1526.7 Q553.607 1526.35 554.626 1526.19 Q555.644 1526 556.663 1526 Q562.45 1526 565.829 1529.17 Q569.209 1532.34 569.209 1537.76 Q569.209 1543.34 565.737 1546.44 Q562.264 1549.52 555.945 1549.52 Q553.769 1549.52 551.501 1549.15 Q549.255 1548.78 546.848 1548.04 L546.848 1543.34 Q548.931 1544.47 551.153 1545.03 Q553.376 1545.58 555.852 1545.58 Q559.857 1545.58 562.195 1543.48 Q564.533 1541.37 564.533 1537.76 Q564.533 1534.15 562.195 1532.04 Q559.857 1529.94 555.852 1529.94 Q553.978 1529.94 552.103 1530.35 Q550.251 1530.77 548.306 1531.65 L548.306 1514.29 Z\" fill=\"#000000\" fill-rule=\"evenodd\" fill-opacity=\"1\" /><path clip-path=\"url(#clip200)\" d=\"M965.807 1544.91 L973.446 1544.91 L973.446 1518.55 L965.135 1520.21 L965.135 1515.95 L973.399 1514.29 L978.075 1514.29 L978.075 1544.91 L985.714 1544.91 L985.714 1548.85 L965.807 1548.85 L965.807 1544.91 Z\" fill=\"#000000\" fill-rule=\"evenodd\" fill-opacity=\"1\" /><path clip-path=\"url(#clip200)\" d=\"M1005.16 1517.37 Q1001.55 1517.37 999.719 1520.93 Q997.913 1524.47 997.913 1531.6 Q997.913 1538.71 999.719 1542.27 Q1001.55 1545.82 1005.16 1545.82 Q1008.79 1545.82 1010.6 1542.27 Q1012.43 1538.71 1012.43 1531.6 Q1012.43 1524.47 1010.6 1520.93 Q1008.79 1517.37 1005.16 1517.37 M1005.16 1513.66 Q1010.97 1513.66 1014.02 1518.27 Q1017.1 1522.85 1017.1 1531.6 Q1017.1 1540.33 1014.02 1544.94 Q1010.97 1549.52 1005.16 1549.52 Q999.348 1549.52 996.269 1544.94 Q993.214 1540.33 993.214 1531.6 Q993.214 1522.85 996.269 1518.27 Q999.348 1513.66 1005.16 1513.66 Z\" fill=\"#000000\" fill-rule=\"evenodd\" fill-opacity=\"1\" /><path clip-path=\"url(#clip200)\" d=\"M1399.39 1544.91 L1407.03 1544.91 L1407.03 1518.55 L1398.72 1520.21 L1398.72 1515.95 L1406.99 1514.29 L1411.66 1514.29 L1411.66 1544.91 L1419.3 1544.91 L1419.3 1548.85 L1399.39 1548.85 L1399.39 1544.91 Z\" fill=\"#000000\" fill-rule=\"evenodd\" fill-opacity=\"1\" /><path clip-path=\"url(#clip200)\" d=\"M1428.79 1514.29 L1447.15 1514.29 L1447.15 1518.22 L1433.08 1518.22 L1433.08 1526.7 Q1434.09 1526.35 1435.11 1526.19 Q1436.13 1526 1437.15 1526 Q1442.94 1526 1446.32 1529.17 Q1449.7 1532.34 1449.7 1537.76 Q1449.7 1543.34 1446.22 1546.44 Q1442.75 1549.52 1436.43 1549.52 Q1434.26 1549.52 1431.99 1549.15 Q1429.74 1548.78 1427.33 1548.04 L1427.33 1543.34 Q1429.42 1544.47 1431.64 1545.03 Q1433.86 1545.58 1436.34 1545.58 Q1440.34 1545.58 1442.68 1543.48 Q1445.02 1541.37 1445.02 1537.76 Q1445.02 1534.15 1442.68 1532.04 Q1440.34 1529.94 1436.34 1529.94 Q1434.46 1529.94 1432.59 1530.35 Q1430.74 1530.77 1428.79 1531.65 L1428.79 1514.29 Z\" fill=\"#000000\" fill-rule=\"evenodd\" fill-opacity=\"1\" /><path clip-path=\"url(#clip200)\" d=\"M1836.07 1544.91 L1852.39 1544.91 L1852.39 1548.85 L1830.45 1548.85 L1830.45 1544.91 Q1833.11 1542.16 1837.69 1537.53 Q1842.3 1532.88 1843.48 1531.53 Q1845.73 1529.01 1846.61 1527.27 Q1847.51 1525.51 1847.51 1523.82 Q1847.51 1521.07 1845.56 1519.33 Q1843.64 1517.6 1840.54 1517.6 Q1838.34 1517.6 1835.89 1518.36 Q1833.46 1519.13 1830.68 1520.68 L1830.68 1515.95 Q1833.5 1514.82 1835.96 1514.24 Q1838.41 1513.66 1840.45 1513.66 Q1845.82 1513.66 1849.01 1516.35 Q1852.21 1519.03 1852.21 1523.52 Q1852.21 1525.65 1851.4 1527.57 Q1850.61 1529.47 1848.5 1532.07 Q1847.93 1532.74 1844.82 1535.95 Q1841.72 1539.15 1836.07 1544.91 Z\" fill=\"#000000\" fill-rule=\"evenodd\" fill-opacity=\"1\" /><path clip-path=\"url(#clip200)\" d=\"M1872.21 1517.37 Q1868.6 1517.37 1866.77 1520.93 Q1864.96 1524.47 1864.96 1531.6 Q1864.96 1538.71 1866.77 1542.27 Q1868.6 1545.82 1872.21 1545.82 Q1875.84 1545.82 1877.65 1542.27 Q1879.48 1538.71 1879.48 1531.6 Q1879.48 1524.47 1877.65 1520.93 Q1875.84 1517.37 1872.21 1517.37 M1872.21 1513.66 Q1878.02 1513.66 1881.07 1518.27 Q1884.15 1522.85 1884.15 1531.6 Q1884.15 1540.33 1881.07 1544.94 Q1878.02 1549.52 1872.21 1549.52 Q1866.4 1549.52 1863.32 1544.94 Q1860.26 1540.33 1860.26 1531.6 Q1860.26 1522.85 1863.32 1518.27 Q1866.4 1513.66 1872.21 1513.66 Z\" fill=\"#000000\" fill-rule=\"evenodd\" fill-opacity=\"1\" /><path clip-path=\"url(#clip200)\" d=\"M2269.66 1544.91 L2285.98 1544.91 L2285.98 1548.85 L2264.04 1548.85 L2264.04 1544.91 Q2266.7 1542.16 2271.28 1537.53 Q2275.89 1532.88 2277.07 1531.53 Q2279.31 1529.01 2280.19 1527.27 Q2281.1 1525.51 2281.1 1523.82 Q2281.1 1521.07 2279.15 1519.33 Q2277.23 1517.6 2274.13 1517.6 Q2271.93 1517.6 2269.48 1518.36 Q2267.05 1519.13 2264.27 1520.68 L2264.27 1515.95 Q2267.09 1514.82 2269.55 1514.24 Q2272 1513.66 2274.04 1513.66 Q2279.41 1513.66 2282.6 1516.35 Q2285.8 1519.03 2285.8 1523.52 Q2285.8 1525.65 2284.99 1527.57 Q2284.2 1529.47 2282.09 1532.07 Q2281.51 1532.74 2278.41 1535.95 Q2275.31 1539.15 2269.66 1544.91 Z\" fill=\"#000000\" fill-rule=\"evenodd\" fill-opacity=\"1\" /><path clip-path=\"url(#clip200)\" d=\"M2295.84 1514.29 L2314.2 1514.29 L2314.2 1518.22 L2300.12 1518.22 L2300.12 1526.7 Q2301.14 1526.35 2302.16 1526.19 Q2303.18 1526 2304.2 1526 Q2309.99 1526 2313.37 1529.17 Q2316.74 1532.34 2316.74 1537.76 Q2316.74 1543.34 2313.27 1546.44 Q2309.8 1549.52 2303.48 1549.52 Q2301.31 1549.52 2299.04 1549.15 Q2296.79 1548.78 2294.38 1548.04 L2294.38 1543.34 Q2296.47 1544.47 2298.69 1545.03 Q2300.91 1545.58 2303.39 1545.58 Q2307.39 1545.58 2309.73 1543.48 Q2312.07 1541.37 2312.07 1537.76 Q2312.07 1534.15 2309.73 1532.04 Q2307.39 1529.94 2303.39 1529.94 Q2301.51 1529.94 2299.64 1530.35 Q2297.79 1530.77 2295.84 1531.65 L2295.84 1514.29 Z\" fill=\"#000000\" fill-rule=\"evenodd\" fill-opacity=\"1\" /><polyline clip-path=\"url(#clip202)\" style=\"stroke:#000000; stroke-linecap:butt; stroke-linejoin:round; stroke-width:2; stroke-opacity:0.1; fill:none\" points=\"\n",
       "  149.191,1445.72 2352.76,1445.72 \n",
       "  \"/>\n",
       "<polyline clip-path=\"url(#clip202)\" style=\"stroke:#000000; stroke-linecap:butt; stroke-linejoin:round; stroke-width:2; stroke-opacity:0.1; fill:none\" points=\"\n",
       "  149.191,1219.43 2352.76,1219.43 \n",
       "  \"/>\n",
       "<polyline clip-path=\"url(#clip202)\" style=\"stroke:#000000; stroke-linecap:butt; stroke-linejoin:round; stroke-width:2; stroke-opacity:0.1; fill:none\" points=\"\n",
       "  149.191,993.136 2352.76,993.136 \n",
       "  \"/>\n",
       "<polyline clip-path=\"url(#clip202)\" style=\"stroke:#000000; stroke-linecap:butt; stroke-linejoin:round; stroke-width:2; stroke-opacity:0.1; fill:none\" points=\"\n",
       "  149.191,766.846 2352.76,766.846 \n",
       "  \"/>\n",
       "<polyline clip-path=\"url(#clip202)\" style=\"stroke:#000000; stroke-linecap:butt; stroke-linejoin:round; stroke-width:2; stroke-opacity:0.1; fill:none\" points=\"\n",
       "  149.191,540.556 2352.76,540.556 \n",
       "  \"/>\n",
       "<polyline clip-path=\"url(#clip202)\" style=\"stroke:#000000; stroke-linecap:butt; stroke-linejoin:round; stroke-width:2; stroke-opacity:0.1; fill:none\" points=\"\n",
       "  149.191,314.266 2352.76,314.266 \n",
       "  \"/>\n",
       "<polyline clip-path=\"url(#clip202)\" style=\"stroke:#000000; stroke-linecap:butt; stroke-linejoin:round; stroke-width:2; stroke-opacity:0.1; fill:none\" points=\"\n",
       "  149.191,87.9763 2352.76,87.9763 \n",
       "  \"/>\n",
       "<polyline clip-path=\"url(#clip200)\" style=\"stroke:#000000; stroke-linecap:butt; stroke-linejoin:round; stroke-width:4; stroke-opacity:1; fill:none\" points=\"\n",
       "  149.191,1486.45 149.191,47.2441 \n",
       "  \"/>\n",
       "<polyline clip-path=\"url(#clip200)\" style=\"stroke:#000000; stroke-linecap:butt; stroke-linejoin:round; stroke-width:4; stroke-opacity:1; fill:none\" points=\"\n",
       "  149.191,1445.72 168.089,1445.72 \n",
       "  \"/>\n",
       "<polyline clip-path=\"url(#clip200)\" style=\"stroke:#000000; stroke-linecap:butt; stroke-linejoin:round; stroke-width:4; stroke-opacity:1; fill:none\" points=\"\n",
       "  149.191,1219.43 168.089,1219.43 \n",
       "  \"/>\n",
       "<polyline clip-path=\"url(#clip200)\" style=\"stroke:#000000; stroke-linecap:butt; stroke-linejoin:round; stroke-width:4; stroke-opacity:1; fill:none\" points=\"\n",
       "  149.191,993.136 168.089,993.136 \n",
       "  \"/>\n",
       "<polyline clip-path=\"url(#clip200)\" style=\"stroke:#000000; stroke-linecap:butt; stroke-linejoin:round; stroke-width:4; stroke-opacity:1; fill:none\" points=\"\n",
       "  149.191,766.846 168.089,766.846 \n",
       "  \"/>\n",
       "<polyline clip-path=\"url(#clip200)\" style=\"stroke:#000000; stroke-linecap:butt; stroke-linejoin:round; stroke-width:4; stroke-opacity:1; fill:none\" points=\"\n",
       "  149.191,540.556 168.089,540.556 \n",
       "  \"/>\n",
       "<polyline clip-path=\"url(#clip200)\" style=\"stroke:#000000; stroke-linecap:butt; stroke-linejoin:round; stroke-width:4; stroke-opacity:1; fill:none\" points=\"\n",
       "  149.191,314.266 168.089,314.266 \n",
       "  \"/>\n",
       "<polyline clip-path=\"url(#clip200)\" style=\"stroke:#000000; stroke-linecap:butt; stroke-linejoin:round; stroke-width:4; stroke-opacity:1; fill:none\" points=\"\n",
       "  149.191,87.9763 168.089,87.9763 \n",
       "  \"/>\n",
       "<path clip-path=\"url(#clip200)\" d=\"M50.9921 1446.17 L80.6679 1446.17 L80.6679 1450.1 L50.9921 1450.1 L50.9921 1446.17 Z\" fill=\"#000000\" fill-rule=\"evenodd\" fill-opacity=\"1\" /><path clip-path=\"url(#clip200)\" d=\"M103.608 1432.51 L91.8021 1450.96 L103.608 1450.96 L103.608 1432.51 M102.381 1428.44 L108.26 1428.44 L108.26 1450.96 L113.191 1450.96 L113.191 1454.85 L108.26 1454.85 L108.26 1463 L103.608 1463 L103.608 1454.85 L88.0058 1454.85 L88.0058 1450.33 L102.381 1428.44 Z\" fill=\"#000000\" fill-rule=\"evenodd\" fill-opacity=\"1\" /><path clip-path=\"url(#clip200)\" d=\"M52.1264 1219.88 L81.8021 1219.88 L81.8021 1223.81 L52.1264 1223.81 L52.1264 1219.88 Z\" fill=\"#000000\" fill-rule=\"evenodd\" fill-opacity=\"1\" /><path clip-path=\"url(#clip200)\" d=\"M106.061 1218.07 Q109.418 1218.79 111.293 1221.06 Q113.191 1223.33 113.191 1226.66 Q113.191 1231.78 109.672 1234.58 Q106.154 1237.38 99.6724 1237.38 Q97.4965 1237.38 95.1817 1236.94 Q92.89 1236.52 90.4364 1235.66 L90.4364 1231.15 Q92.3808 1232.28 94.6956 1232.86 Q97.0104 1233.44 99.5335 1233.44 Q103.932 1233.44 106.223 1231.71 Q108.538 1229.97 108.538 1226.66 Q108.538 1223.6 106.385 1221.89 Q104.256 1220.15 100.436 1220.15 L96.4085 1220.15 L96.4085 1216.31 L100.621 1216.31 Q104.071 1216.31 105.899 1214.95 Q107.728 1213.56 107.728 1210.97 Q107.728 1208.3 105.83 1206.89 Q103.955 1205.46 100.436 1205.46 Q98.515 1205.46 96.316 1205.87 Q94.1169 1206.29 91.478 1207.17 L91.478 1203 Q94.14 1202.26 96.4548 1201.89 Q98.7928 1201.52 100.853 1201.52 Q106.177 1201.52 109.279 1203.95 Q112.381 1206.36 112.381 1210.48 Q112.381 1213.35 110.737 1215.34 Q109.094 1217.31 106.061 1218.07 Z\" fill=\"#000000\" fill-rule=\"evenodd\" fill-opacity=\"1\" /><path clip-path=\"url(#clip200)\" d=\"M53.0754 993.587 L82.7512 993.587 L82.7512 997.522 L53.0754 997.522 L53.0754 993.587 Z\" fill=\"#000000\" fill-rule=\"evenodd\" fill-opacity=\"1\" /><path clip-path=\"url(#clip200)\" d=\"M96.8715 1006.48 L113.191 1006.48 L113.191 1010.42 L91.2465 1010.42 L91.2465 1006.48 Q93.9086 1003.73 98.4919 999.097 Q103.098 994.444 104.279 993.101 Q106.524 990.578 107.404 988.842 Q108.307 987.083 108.307 985.393 Q108.307 982.638 106.362 980.902 Q104.441 979.166 101.339 979.166 Q99.14 979.166 96.6863 979.93 Q94.2558 980.694 91.478 982.245 L91.478 977.523 Q94.3021 976.388 96.7558 975.81 Q99.2095 975.231 101.246 975.231 Q106.617 975.231 109.811 977.916 Q113.006 980.601 113.006 985.092 Q113.006 987.222 112.196 989.143 Q111.408 991.041 109.302 993.634 Q108.723 994.305 105.621 997.522 Q102.52 1000.72 96.8715 1006.48 Z\" fill=\"#000000\" fill-rule=\"evenodd\" fill-opacity=\"1\" /><path clip-path=\"url(#clip200)\" d=\"M52.7051 767.297 L82.3808 767.297 L82.3808 771.233 L52.7051 771.233 L52.7051 767.297 Z\" fill=\"#000000\" fill-rule=\"evenodd\" fill-opacity=\"1\" /><path clip-path=\"url(#clip200)\" d=\"M93.2836 780.191 L100.922 780.191 L100.922 753.825 L92.6123 755.492 L92.6123 751.233 L100.876 749.566 L105.552 749.566 L105.552 780.191 L113.191 780.191 L113.191 784.126 L93.2836 784.126 L93.2836 780.191 Z\" fill=\"#000000\" fill-rule=\"evenodd\" fill-opacity=\"1\" /><path clip-path=\"url(#clip200)\" d=\"M101.246 526.355 Q97.6354 526.355 95.8067 529.92 Q94.0012 533.461 94.0012 540.591 Q94.0012 547.697 95.8067 551.262 Q97.6354 554.804 101.246 554.804 Q104.881 554.804 106.686 551.262 Q108.515 547.697 108.515 540.591 Q108.515 533.461 106.686 529.92 Q104.881 526.355 101.246 526.355 M101.246 522.651 Q107.057 522.651 110.112 527.258 Q113.191 531.841 113.191 540.591 Q113.191 549.318 110.112 553.924 Q107.057 558.507 101.246 558.507 Q95.4363 558.507 92.3576 553.924 Q89.3021 549.318 89.3021 540.591 Q89.3021 531.841 92.3576 527.258 Q95.4363 522.651 101.246 522.651 Z\" fill=\"#000000\" fill-rule=\"evenodd\" fill-opacity=\"1\" /><path clip-path=\"url(#clip200)\" d=\"M93.2836 327.611 L100.922 327.611 L100.922 301.245 L92.6123 302.912 L92.6123 298.653 L100.876 296.986 L105.552 296.986 L105.552 327.611 L113.191 327.611 L113.191 331.546 L93.2836 331.546 L93.2836 327.611 Z\" fill=\"#000000\" fill-rule=\"evenodd\" fill-opacity=\"1\" /><path clip-path=\"url(#clip200)\" d=\"M96.8715 101.321 L113.191 101.321 L113.191 105.256 L91.2465 105.256 L91.2465 101.321 Q93.9086 98.5665 98.4919 93.9369 Q103.098 89.2841 104.279 87.9416 Q106.524 85.4184 107.404 83.6823 Q108.307 81.9231 108.307 80.2333 Q108.307 77.4786 106.362 75.7425 Q104.441 74.0064 101.339 74.0064 Q99.14 74.0064 96.6863 74.7703 Q94.2558 75.5342 91.478 77.0851 L91.478 72.3629 Q94.3021 71.2287 96.7558 70.65 Q99.2095 70.0713 101.246 70.0713 Q106.617 70.0713 109.811 72.7565 Q113.006 75.4416 113.006 79.9323 Q113.006 82.062 112.196 83.9832 Q111.408 85.8814 109.302 88.474 Q108.723 89.1453 105.621 92.3628 Q102.52 95.5573 96.8715 101.321 Z\" fill=\"#000000\" fill-rule=\"evenodd\" fill-opacity=\"1\" /><polyline clip-path=\"url(#clip202)\" style=\"stroke:#009af9; stroke-linecap:butt; stroke-linejoin:round; stroke-width:4; stroke-opacity:1; fill:none\" points=\"\n",
       "  211.556,540.556 298.174,766.846 384.792,993.136 471.41,766.846 558.028,993.136 644.647,766.846 731.265,540.556 817.883,314.266 904.501,87.9763 991.119,314.266 \n",
       "  1077.74,540.556 1164.36,766.846 1250.97,993.136 1337.59,766.846 1424.21,993.136 1510.83,1219.43 1597.45,993.136 1684.06,1219.43 1770.68,993.136 1857.3,1219.43 \n",
       "  1943.92,1445.72 2030.54,1219.43 2117.15,1445.72 2203.77,1219.43 2290.39,993.136 \n",
       "  \"/>\n",
       "<path clip-path=\"url(#clip200)\" d=\"\n",
       "M1982.03 198.898 L2279.3 198.898 L2279.3 95.2176 L1982.03 95.2176  Z\n",
       "  \" fill=\"#ffffff\" fill-rule=\"evenodd\" fill-opacity=\"1\"/>\n",
       "<polyline clip-path=\"url(#clip200)\" style=\"stroke:#000000; stroke-linecap:butt; stroke-linejoin:round; stroke-width:4; stroke-opacity:1; fill:none\" points=\"\n",
       "  1982.03,198.898 2279.3,198.898 2279.3,95.2176 1982.03,95.2176 1982.03,198.898 \n",
       "  \"/>\n",
       "<polyline clip-path=\"url(#clip200)\" style=\"stroke:#009af9; stroke-linecap:butt; stroke-linejoin:round; stroke-width:4; stroke-opacity:1; fill:none\" points=\"\n",
       "  2006.52,147.058 2153.42,147.058 \n",
       "  \"/>\n",
       "<path clip-path=\"url(#clip200)\" d=\"M2191.75 166.745 Q2189.94 171.375 2188.23 172.787 Q2186.52 174.199 2183.65 174.199 L2180.24 174.199 L2180.24 170.634 L2182.74 170.634 Q2184.5 170.634 2185.47 169.8 Q2186.45 168.967 2187.63 165.865 L2188.39 163.921 L2177.91 138.412 L2182.42 138.412 L2190.52 158.689 L2198.62 138.412 L2203.14 138.412 L2191.75 166.745 Z\" fill=\"#000000\" fill-rule=\"evenodd\" fill-opacity=\"1\" /><path clip-path=\"url(#clip200)\" d=\"M2210.43 160.402 L2218.07 160.402 L2218.07 134.037 L2209.76 135.703 L2209.76 131.444 L2218.02 129.778 L2222.7 129.778 L2222.7 160.402 L2230.34 160.402 L2230.34 164.338 L2210.43 164.338 L2210.43 160.402 Z\" fill=\"#000000\" fill-rule=\"evenodd\" fill-opacity=\"1\" /></svg>\n"
      ]
     },
     "execution_count": 389,
     "metadata": {},
     "output_type": "execute_result"
    }
   ],
   "source": [
    "sample!(x,θp)\n",
    "\n",
    "plot(x)"
   ]
  },
  {
   "cell_type": "code",
   "execution_count": 390,
   "id": "14fa2071-98de-41f4-ab48-7b39598b328a",
   "metadata": {},
   "outputs": [
    {
     "data": {
      "text/plain": [
       "false"
      ]
     },
     "execution_count": 390,
     "metadata": {},
     "output_type": "execute_result"
    }
   ],
   "source": [
    "isok(x)"
   ]
  },
  {
   "cell_type": "code",
   "execution_count": 472,
   "id": "95f047d2-21e2-4f48-9b8c-74632d2c5515",
   "metadata": {},
   "outputs": [
    {
     "data": {
      "text/plain": [
       "11.022417734251"
      ]
     },
     "execution_count": 472,
     "metadata": {},
     "output_type": "execute_result"
    }
   ],
   "source": [
    "using ProgressMeter\n",
    "avF = descend!(θ, θp, 1e-4, 1-1e-4; numsamples=1000, η=0.3)"
   ]
  },
  {
   "cell_type": "code",
   "execution_count": 473,
   "id": "cd2b5d69-6112-4f89-8ec0-0e00026c0570",
   "metadata": {},
   "outputs": [
    {
     "data": {
      "text/plain": [
       "11.022417734251"
      ]
     },
     "execution_count": 473,
     "metadata": {},
     "output_type": "execute_result"
    }
   ],
   "source": [
    "avF"
   ]
  },
  {
   "cell_type": "code",
   "execution_count": 474,
   "id": "b91c2b06-9feb-467e-b2f0-83817dad37aa",
   "metadata": {},
   "outputs": [
    {
     "data": {
      "text/plain": [
       "49×25 Matrix{Float64}:\n",
       " 0.5  0.5  0.5  0.5  0.5  0.5  0.5  …  0.5  0.5  0.5  0.5  0.5   0.5  0.5\n",
       " 0.5  0.5  0.5  0.5  0.5  0.5  0.5     0.5  0.5  0.5  0.5  0.5   0.5  0.5\n",
       " 0.5  0.5  0.5  0.5  0.5  0.5  0.5     0.5  0.5  0.5  0.5  0.5   0.5  0.5\n",
       " 0.5  0.5  0.5  0.5  0.5  0.5  0.5     0.5  0.5  0.5  0.5  0.5   0.5  0.5\n",
       " 0.5  0.5  0.5  0.5  0.5  0.5  0.5     0.5  0.5  0.5  0.5  0.5   0.5  0.5\n",
       " 0.5  0.5  0.5  0.5  0.5  0.5  0.5  …  0.5  0.5  0.5  0.5  0.5   0.5  0.5\n",
       " 0.5  0.5  0.5  0.5  0.5  0.5  0.5     0.5  0.5  0.5  0.5  0.5   0.5  0.5\n",
       " 0.5  0.5  0.5  0.5  0.5  0.5  0.5     0.5  0.5  0.5  0.5  0.5   0.5  0.5\n",
       " 0.5  0.5  0.5  0.5  0.5  0.5  0.5     0.5  0.5  0.5  0.5  0.5   0.5  0.5\n",
       " 0.5  0.5  0.5  0.5  0.5  0.5  0.5     0.5  0.5  0.5  0.5  0.5   0.5  0.5\n",
       " 0.5  0.5  0.5  0.5  0.5  0.5  0.5  …  0.5  0.5  0.5  0.5  0.5   0.5  0.5\n",
       " 0.5  0.5  0.5  0.5  0.5  0.5  0.5     0.5  0.5  0.5  0.5  0.5   0.5  0.5\n",
       " 0.5  0.5  0.5  0.5  0.5  0.5  0.5     0.5  0.5  0.5  0.5  0.35  0.5  0.5\n",
       " ⋮                        ⋮         ⋱            ⋮                    \n",
       " 0.5  0.5  0.5  0.5  0.5  0.5  0.5     0.5  0.5  0.5  0.5  0.5   0.5  0.5\n",
       " 0.5  0.5  0.5  0.5  0.5  0.5  0.5     0.5  0.5  0.5  0.5  0.5   0.5  0.5\n",
       " 0.5  0.5  0.5  0.5  0.5  0.5  0.5     0.5  0.5  0.5  0.5  0.5   0.5  0.5\n",
       " 0.5  0.5  0.5  0.5  0.5  0.5  0.5  …  0.5  0.5  0.5  0.5  0.5   0.5  0.5\n",
       " 0.5  0.5  0.5  0.5  0.5  0.5  0.5     0.5  0.5  0.5  0.5  0.5   0.5  0.5\n",
       " 0.5  0.5  0.5  0.5  0.5  0.5  0.5     0.5  0.5  0.5  0.5  0.5   0.5  0.5\n",
       " 0.5  0.5  0.5  0.5  0.5  0.5  0.5     0.5  0.5  0.5  0.5  0.5   0.5  0.5\n",
       " 0.5  0.5  0.5  0.5  0.5  0.5  0.5     0.5  0.5  0.5  0.5  0.5   0.5  0.5\n",
       " 0.5  0.5  0.5  0.5  0.5  0.5  0.5  …  0.5  0.5  0.5  0.5  0.5   0.5  0.5\n",
       " 0.5  0.5  0.5  0.5  0.5  0.5  0.5     0.5  0.5  0.5  0.5  0.5   0.5  0.5\n",
       " 0.5  0.5  0.5  0.5  0.5  0.5  0.5     0.5  0.5  0.5  0.5  0.5   0.5  0.5\n",
       " 0.5  0.5  0.5  0.5  0.5  0.5  0.5     0.5  0.5  0.5  0.5  0.5   0.5  0.5"
      ]
     },
     "execution_count": 474,
     "metadata": {},
     "output_type": "execute_result"
    }
   ],
   "source": [
    "θ"
   ]
  },
  {
   "cell_type": "code",
   "execution_count": 476,
   "id": "d41c3734-a025-424f-a7a1-c45096078f74",
   "metadata": {},
   "outputs": [
    {
     "data": {
      "image/svg+xml": [
       "<?xml version=\"1.0\" encoding=\"utf-8\"?>\n",
       "<svg xmlns=\"http://www.w3.org/2000/svg\" xmlns:xlink=\"http://www.w3.org/1999/xlink\" width=\"600\" height=\"400\" viewBox=\"0 0 2400 1600\">\n",
       "<defs>\n",
       "  <clipPath id=\"clip320\">\n",
       "    <rect x=\"0\" y=\"0\" width=\"2400\" height=\"1600\"/>\n",
       "  </clipPath>\n",
       "</defs>\n",
       "<path clip-path=\"url(#clip320)\" d=\"\n",
       "M0 1600 L2400 1600 L2400 0 L0 0  Z\n",
       "  \" fill=\"#ffffff\" fill-rule=\"evenodd\" fill-opacity=\"1\"/>\n",
       "<defs>\n",
       "  <clipPath id=\"clip321\">\n",
       "    <rect x=\"480\" y=\"0\" width=\"1681\" height=\"1600\"/>\n",
       "  </clipPath>\n",
       "</defs>\n",
       "<path clip-path=\"url(#clip320)\" d=\"\n",
       "M224.098 1486.45 L2352.76 1486.45 L2352.76 47.2441 L224.098 47.2441  Z\n",
       "  \" fill=\"#ffffff\" fill-rule=\"evenodd\" fill-opacity=\"1\"/>\n",
       "<defs>\n",
       "  <clipPath id=\"clip322\">\n",
       "    <rect x=\"224\" y=\"47\" width=\"2130\" height=\"1440\"/>\n",
       "  </clipPath>\n",
       "</defs>\n",
       "<polyline clip-path=\"url(#clip322)\" style=\"stroke:#000000; stroke-linecap:butt; stroke-linejoin:round; stroke-width:2; stroke-opacity:0.1; fill:none\" points=\"\n",
       "  619.038,1486.45 619.038,47.2441 \n",
       "  \"/>\n",
       "<polyline clip-path=\"url(#clip322)\" style=\"stroke:#000000; stroke-linecap:butt; stroke-linejoin:round; stroke-width:2; stroke-opacity:0.1; fill:none\" points=\"\n",
       "  1037.41,1486.45 1037.41,47.2441 \n",
       "  \"/>\n",
       "<polyline clip-path=\"url(#clip322)\" style=\"stroke:#000000; stroke-linecap:butt; stroke-linejoin:round; stroke-width:2; stroke-opacity:0.1; fill:none\" points=\"\n",
       "  1455.77,1486.45 1455.77,47.2441 \n",
       "  \"/>\n",
       "<polyline clip-path=\"url(#clip322)\" style=\"stroke:#000000; stroke-linecap:butt; stroke-linejoin:round; stroke-width:2; stroke-opacity:0.1; fill:none\" points=\"\n",
       "  1874.14,1486.45 1874.14,47.2441 \n",
       "  \"/>\n",
       "<polyline clip-path=\"url(#clip322)\" style=\"stroke:#000000; stroke-linecap:butt; stroke-linejoin:round; stroke-width:2; stroke-opacity:0.1; fill:none\" points=\"\n",
       "  2292.51,1486.45 2292.51,47.2441 \n",
       "  \"/>\n",
       "<polyline clip-path=\"url(#clip320)\" style=\"stroke:#000000; stroke-linecap:butt; stroke-linejoin:round; stroke-width:4; stroke-opacity:1; fill:none\" points=\"\n",
       "  224.098,1486.45 2352.76,1486.45 \n",
       "  \"/>\n",
       "<polyline clip-path=\"url(#clip320)\" style=\"stroke:#000000; stroke-linecap:butt; stroke-linejoin:round; stroke-width:4; stroke-opacity:1; fill:none\" points=\"\n",
       "  619.038,1486.45 619.038,1467.55 \n",
       "  \"/>\n",
       "<polyline clip-path=\"url(#clip320)\" style=\"stroke:#000000; stroke-linecap:butt; stroke-linejoin:round; stroke-width:4; stroke-opacity:1; fill:none\" points=\"\n",
       "  1037.41,1486.45 1037.41,1467.55 \n",
       "  \"/>\n",
       "<polyline clip-path=\"url(#clip320)\" style=\"stroke:#000000; stroke-linecap:butt; stroke-linejoin:round; stroke-width:4; stroke-opacity:1; fill:none\" points=\"\n",
       "  1455.77,1486.45 1455.77,1467.55 \n",
       "  \"/>\n",
       "<polyline clip-path=\"url(#clip320)\" style=\"stroke:#000000; stroke-linecap:butt; stroke-linejoin:round; stroke-width:4; stroke-opacity:1; fill:none\" points=\"\n",
       "  1874.14,1486.45 1874.14,1467.55 \n",
       "  \"/>\n",
       "<polyline clip-path=\"url(#clip320)\" style=\"stroke:#000000; stroke-linecap:butt; stroke-linejoin:round; stroke-width:4; stroke-opacity:1; fill:none\" points=\"\n",
       "  2292.51,1486.45 2292.51,1467.55 \n",
       "  \"/>\n",
       "<path clip-path=\"url(#clip320)\" d=\"M609.315 1514.29 L627.672 1514.29 L627.672 1518.22 L613.598 1518.22 L613.598 1526.7 Q614.616 1526.35 615.635 1526.19 Q616.653 1526 617.672 1526 Q623.459 1526 626.838 1529.17 Q630.218 1532.34 630.218 1537.76 Q630.218 1543.34 626.746 1546.44 Q623.274 1549.52 616.954 1549.52 Q614.778 1549.52 612.51 1549.15 Q610.264 1548.78 607.857 1548.04 L607.857 1543.34 Q609.94 1544.47 612.163 1545.03 Q614.385 1545.58 616.862 1545.58 Q620.866 1545.58 623.204 1543.48 Q625.542 1541.37 625.542 1537.76 Q625.542 1534.15 623.204 1532.04 Q620.866 1529.94 616.862 1529.94 Q614.987 1529.94 613.112 1530.35 Q611.26 1530.77 609.315 1531.65 L609.315 1514.29 Z\" fill=\"#000000\" fill-rule=\"evenodd\" fill-opacity=\"1\" /><path clip-path=\"url(#clip320)\" d=\"M1012.09 1544.91 L1019.73 1544.91 L1019.73 1518.55 L1011.42 1520.21 L1011.42 1515.95 L1019.69 1514.29 L1024.36 1514.29 L1024.36 1544.91 L1032 1544.91 L1032 1548.85 L1012.09 1548.85 L1012.09 1544.91 Z\" fill=\"#000000\" fill-rule=\"evenodd\" fill-opacity=\"1\" /><path clip-path=\"url(#clip320)\" d=\"M1051.45 1517.37 Q1047.83 1517.37 1046.01 1520.93 Q1044.2 1524.47 1044.2 1531.6 Q1044.2 1538.71 1046.01 1542.27 Q1047.83 1545.82 1051.45 1545.82 Q1055.08 1545.82 1056.88 1542.27 Q1058.71 1538.71 1058.71 1531.6 Q1058.71 1524.47 1056.88 1520.93 Q1055.08 1517.37 1051.45 1517.37 M1051.45 1513.66 Q1057.26 1513.66 1060.31 1518.27 Q1063.39 1522.85 1063.39 1531.6 Q1063.39 1540.33 1060.31 1544.94 Q1057.26 1549.52 1051.45 1549.52 Q1045.64 1549.52 1042.56 1544.94 Q1039.5 1540.33 1039.5 1531.6 Q1039.5 1522.85 1042.56 1518.27 Q1045.64 1513.66 1051.45 1513.66 Z\" fill=\"#000000\" fill-rule=\"evenodd\" fill-opacity=\"1\" /><path clip-path=\"url(#clip320)\" d=\"M1430.96 1544.91 L1438.6 1544.91 L1438.6 1518.55 L1430.29 1520.21 L1430.29 1515.95 L1438.55 1514.29 L1443.23 1514.29 L1443.23 1544.91 L1450.87 1544.91 L1450.87 1548.85 L1430.96 1548.85 L1430.96 1544.91 Z\" fill=\"#000000\" fill-rule=\"evenodd\" fill-opacity=\"1\" /><path clip-path=\"url(#clip320)\" d=\"M1460.36 1514.29 L1478.71 1514.29 L1478.71 1518.22 L1464.64 1518.22 L1464.64 1526.7 Q1465.66 1526.35 1466.68 1526.19 Q1467.7 1526 1468.71 1526 Q1474.5 1526 1477.88 1529.17 Q1481.26 1532.34 1481.26 1537.76 Q1481.26 1543.34 1477.79 1546.44 Q1474.32 1549.52 1468 1549.52 Q1465.82 1549.52 1463.55 1549.15 Q1461.31 1548.78 1458.9 1548.04 L1458.9 1543.34 Q1460.98 1544.47 1463.2 1545.03 Q1465.43 1545.58 1467.9 1545.58 Q1471.91 1545.58 1474.25 1543.48 Q1476.58 1541.37 1476.58 1537.76 Q1476.58 1534.15 1474.25 1532.04 Q1471.91 1529.94 1467.9 1529.94 Q1466.03 1529.94 1464.15 1530.35 Q1462.3 1530.77 1460.36 1531.65 L1460.36 1514.29 Z\" fill=\"#000000\" fill-rule=\"evenodd\" fill-opacity=\"1\" /><path clip-path=\"url(#clip320)\" d=\"M1852.92 1544.91 L1869.24 1544.91 L1869.24 1548.85 L1847.29 1548.85 L1847.29 1544.91 Q1849.95 1542.16 1854.54 1537.53 Q1859.14 1532.88 1860.32 1531.53 Q1862.57 1529.01 1863.45 1527.27 Q1864.35 1525.51 1864.35 1523.82 Q1864.35 1521.07 1862.41 1519.33 Q1860.49 1517.6 1857.38 1517.6 Q1855.18 1517.6 1852.73 1518.36 Q1850.3 1519.13 1847.52 1520.68 L1847.52 1515.95 Q1850.35 1514.82 1852.8 1514.24 Q1855.25 1513.66 1857.29 1513.66 Q1862.66 1513.66 1865.86 1516.35 Q1869.05 1519.03 1869.05 1523.52 Q1869.05 1525.65 1868.24 1527.57 Q1867.45 1529.47 1865.35 1532.07 Q1864.77 1532.74 1861.67 1535.95 Q1858.56 1539.15 1852.92 1544.91 Z\" fill=\"#000000\" fill-rule=\"evenodd\" fill-opacity=\"1\" /><path clip-path=\"url(#clip320)\" d=\"M1889.05 1517.37 Q1885.44 1517.37 1883.61 1520.93 Q1881.8 1524.47 1881.8 1531.6 Q1881.8 1538.71 1883.61 1542.27 Q1885.44 1545.82 1889.05 1545.82 Q1892.68 1545.82 1894.49 1542.27 Q1896.32 1538.71 1896.32 1531.6 Q1896.32 1524.47 1894.49 1520.93 Q1892.68 1517.37 1889.05 1517.37 M1889.05 1513.66 Q1894.86 1513.66 1897.92 1518.27 Q1900.99 1522.85 1900.99 1531.6 Q1900.99 1540.33 1897.92 1544.94 Q1894.86 1549.52 1889.05 1549.52 Q1883.24 1549.52 1880.16 1544.94 Q1877.11 1540.33 1877.11 1531.6 Q1877.11 1522.85 1880.16 1518.27 Q1883.24 1513.66 1889.05 1513.66 Z\" fill=\"#000000\" fill-rule=\"evenodd\" fill-opacity=\"1\" /><path clip-path=\"url(#clip320)\" d=\"M2271.78 1544.91 L2288.1 1544.91 L2288.1 1548.85 L2266.16 1548.85 L2266.16 1544.91 Q2268.82 1542.16 2273.4 1537.53 Q2278.01 1532.88 2279.19 1531.53 Q2281.43 1529.01 2282.31 1527.27 Q2283.22 1525.51 2283.22 1523.82 Q2283.22 1521.07 2281.27 1519.33 Q2279.35 1517.6 2276.25 1517.6 Q2274.05 1517.6 2271.6 1518.36 Q2269.17 1519.13 2266.39 1520.68 L2266.39 1515.95 Q2269.21 1514.82 2271.67 1514.24 Q2274.12 1513.66 2276.16 1513.66 Q2281.53 1513.66 2284.72 1516.35 Q2287.92 1519.03 2287.92 1523.52 Q2287.92 1525.65 2287.11 1527.57 Q2286.32 1529.47 2284.21 1532.07 Q2283.63 1532.74 2280.53 1535.95 Q2277.43 1539.15 2271.78 1544.91 Z\" fill=\"#000000\" fill-rule=\"evenodd\" fill-opacity=\"1\" /><path clip-path=\"url(#clip320)\" d=\"M2297.96 1514.29 L2316.32 1514.29 L2316.32 1518.22 L2302.24 1518.22 L2302.24 1526.7 Q2303.26 1526.35 2304.28 1526.19 Q2305.3 1526 2306.32 1526 Q2312.11 1526 2315.49 1529.17 Q2318.86 1532.34 2318.86 1537.76 Q2318.86 1543.34 2315.39 1546.44 Q2311.92 1549.52 2305.6 1549.52 Q2303.43 1549.52 2301.16 1549.15 Q2298.91 1548.78 2296.5 1548.04 L2296.5 1543.34 Q2298.59 1544.47 2300.81 1545.03 Q2303.03 1545.58 2305.51 1545.58 Q2309.51 1545.58 2311.85 1543.48 Q2314.19 1541.37 2314.19 1537.76 Q2314.19 1534.15 2311.85 1532.04 Q2309.51 1529.94 2305.51 1529.94 Q2303.63 1529.94 2301.76 1530.35 Q2299.91 1530.77 2297.96 1531.65 L2297.96 1514.29 Z\" fill=\"#000000\" fill-rule=\"evenodd\" fill-opacity=\"1\" /><polyline clip-path=\"url(#clip322)\" style=\"stroke:#000000; stroke-linecap:butt; stroke-linejoin:round; stroke-width:2; stroke-opacity:0.1; fill:none\" points=\"\n",
       "  224.098,1445.72 2352.76,1445.72 \n",
       "  \"/>\n",
       "<polyline clip-path=\"url(#clip322)\" style=\"stroke:#000000; stroke-linecap:butt; stroke-linejoin:round; stroke-width:2; stroke-opacity:0.1; fill:none\" points=\"\n",
       "  224.098,1106.28 2352.76,1106.28 \n",
       "  \"/>\n",
       "<polyline clip-path=\"url(#clip322)\" style=\"stroke:#000000; stroke-linecap:butt; stroke-linejoin:round; stroke-width:2; stroke-opacity:0.1; fill:none\" points=\"\n",
       "  224.098,766.846 2352.76,766.846 \n",
       "  \"/>\n",
       "<polyline clip-path=\"url(#clip322)\" style=\"stroke:#000000; stroke-linecap:butt; stroke-linejoin:round; stroke-width:2; stroke-opacity:0.1; fill:none\" points=\"\n",
       "  224.098,427.411 2352.76,427.411 \n",
       "  \"/>\n",
       "<polyline clip-path=\"url(#clip322)\" style=\"stroke:#000000; stroke-linecap:butt; stroke-linejoin:round; stroke-width:2; stroke-opacity:0.1; fill:none\" points=\"\n",
       "  224.098,87.9763 2352.76,87.9763 \n",
       "  \"/>\n",
       "<polyline clip-path=\"url(#clip320)\" style=\"stroke:#000000; stroke-linecap:butt; stroke-linejoin:round; stroke-width:4; stroke-opacity:1; fill:none\" points=\"\n",
       "  224.098,1486.45 224.098,47.2441 \n",
       "  \"/>\n",
       "<polyline clip-path=\"url(#clip320)\" style=\"stroke:#000000; stroke-linecap:butt; stroke-linejoin:round; stroke-width:4; stroke-opacity:1; fill:none\" points=\"\n",
       "  224.098,1445.72 242.996,1445.72 \n",
       "  \"/>\n",
       "<polyline clip-path=\"url(#clip320)\" style=\"stroke:#000000; stroke-linecap:butt; stroke-linejoin:round; stroke-width:4; stroke-opacity:1; fill:none\" points=\"\n",
       "  224.098,1106.28 242.996,1106.28 \n",
       "  \"/>\n",
       "<polyline clip-path=\"url(#clip320)\" style=\"stroke:#000000; stroke-linecap:butt; stroke-linejoin:round; stroke-width:4; stroke-opacity:1; fill:none\" points=\"\n",
       "  224.098,766.846 242.996,766.846 \n",
       "  \"/>\n",
       "<polyline clip-path=\"url(#clip320)\" style=\"stroke:#000000; stroke-linecap:butt; stroke-linejoin:round; stroke-width:4; stroke-opacity:1; fill:none\" points=\"\n",
       "  224.098,427.411 242.996,427.411 \n",
       "  \"/>\n",
       "<polyline clip-path=\"url(#clip320)\" style=\"stroke:#000000; stroke-linecap:butt; stroke-linejoin:round; stroke-width:4; stroke-opacity:1; fill:none\" points=\"\n",
       "  224.098,87.9763 242.996,87.9763 \n",
       "  \"/>\n",
       "<path clip-path=\"url(#clip320)\" d=\"M50.9921 1446.17 L80.6679 1446.17 L80.6679 1450.1 L50.9921 1450.1 L50.9921 1446.17 Z\" fill=\"#000000\" fill-rule=\"evenodd\" fill-opacity=\"1\" /><path clip-path=\"url(#clip320)\" d=\"M91.5706 1459.06 L99.2095 1459.06 L99.2095 1432.69 L90.8993 1434.36 L90.8993 1430.1 L99.1632 1428.44 L103.839 1428.44 L103.839 1459.06 L111.478 1459.06 L111.478 1463 L91.5706 1463 L91.5706 1459.06 Z\" fill=\"#000000\" fill-rule=\"evenodd\" fill-opacity=\"1\" /><path clip-path=\"url(#clip320)\" d=\"M130.922 1431.51 Q127.311 1431.51 125.482 1435.08 Q123.677 1438.62 123.677 1445.75 Q123.677 1452.86 125.482 1456.42 Q127.311 1459.96 130.922 1459.96 Q134.556 1459.96 136.362 1456.42 Q138.191 1452.86 138.191 1445.75 Q138.191 1438.62 136.362 1435.08 Q134.556 1431.51 130.922 1431.51 M130.922 1427.81 Q136.732 1427.81 139.788 1432.42 Q142.867 1437 142.867 1445.75 Q142.867 1454.48 139.788 1459.08 Q136.732 1463.67 130.922 1463.67 Q125.112 1463.67 122.033 1459.08 Q118.978 1454.48 118.978 1445.75 Q118.978 1437 122.033 1432.42 Q125.112 1427.81 130.922 1427.81 Z\" fill=\"#000000\" fill-rule=\"evenodd\" fill-opacity=\"1\" /><path clip-path=\"url(#clip320)\" d=\"M151.084 1457.12 L155.968 1457.12 L155.968 1463 L151.084 1463 L151.084 1457.12 Z\" fill=\"#000000\" fill-rule=\"evenodd\" fill-opacity=\"1\" /><path clip-path=\"url(#clip320)\" d=\"M176.153 1431.51 Q172.542 1431.51 170.714 1435.08 Q168.908 1438.62 168.908 1445.75 Q168.908 1452.86 170.714 1456.42 Q172.542 1459.96 176.153 1459.96 Q179.788 1459.96 181.593 1456.42 Q183.422 1452.86 183.422 1445.75 Q183.422 1438.62 181.593 1435.08 Q179.788 1431.51 176.153 1431.51 M176.153 1427.81 Q181.964 1427.81 185.019 1432.42 Q188.098 1437 188.098 1445.75 Q188.098 1454.48 185.019 1459.08 Q181.964 1463.67 176.153 1463.67 Q170.343 1463.67 167.265 1459.08 Q164.209 1454.48 164.209 1445.75 Q164.209 1437 167.265 1432.42 Q170.343 1427.81 176.153 1427.81 Z\" fill=\"#000000\" fill-rule=\"evenodd\" fill-opacity=\"1\" /><path clip-path=\"url(#clip320)\" d=\"M82.1494 1106.73 L111.825 1106.73 L111.825 1110.67 L82.1494 1110.67 L82.1494 1106.73 Z\" fill=\"#000000\" fill-rule=\"evenodd\" fill-opacity=\"1\" /><path clip-path=\"url(#clip320)\" d=\"M120.737 1089 L142.959 1089 L142.959 1090.99 L130.413 1123.56 L125.529 1123.56 L137.334 1092.94 L120.737 1092.94 L120.737 1089 Z\" fill=\"#000000\" fill-rule=\"evenodd\" fill-opacity=\"1\" /><path clip-path=\"url(#clip320)\" d=\"M152.08 1117.68 L156.964 1117.68 L156.964 1123.56 L152.08 1123.56 L152.08 1117.68 Z\" fill=\"#000000\" fill-rule=\"evenodd\" fill-opacity=\"1\" /><path clip-path=\"url(#clip320)\" d=\"M167.195 1089 L185.552 1089 L185.552 1092.94 L171.478 1092.94 L171.478 1101.41 Q172.496 1101.06 173.515 1100.9 Q174.533 1100.71 175.552 1100.71 Q181.339 1100.71 184.718 1103.89 Q188.098 1107.06 188.098 1112.47 Q188.098 1118.05 184.626 1121.15 Q181.153 1124.23 174.834 1124.23 Q172.658 1124.23 170.39 1123.86 Q168.144 1123.49 165.737 1122.75 L165.737 1118.05 Q167.82 1119.19 170.042 1119.74 Q172.265 1120.3 174.741 1120.3 Q178.746 1120.3 181.084 1118.19 Q183.422 1116.08 183.422 1112.47 Q183.422 1108.86 181.084 1106.76 Q178.746 1104.65 174.741 1104.65 Q172.866 1104.65 170.991 1105.07 Q169.14 1105.48 167.195 1106.36 L167.195 1089 Z\" fill=\"#000000\" fill-rule=\"evenodd\" fill-opacity=\"1\" /><path clip-path=\"url(#clip320)\" d=\"M81.154 767.297 L110.83 767.297 L110.83 771.233 L81.154 771.233 L81.154 767.297 Z\" fill=\"#000000\" fill-rule=\"evenodd\" fill-opacity=\"1\" /><path clip-path=\"url(#clip320)\" d=\"M120.969 749.566 L139.325 749.566 L139.325 753.501 L125.251 753.501 L125.251 761.973 Q126.27 761.626 127.288 761.464 Q128.307 761.279 129.325 761.279 Q135.112 761.279 138.492 764.45 Q141.871 767.621 141.871 773.038 Q141.871 778.617 138.399 781.719 Q134.927 784.797 128.607 784.797 Q126.432 784.797 124.163 784.427 Q121.918 784.057 119.51 783.316 L119.51 778.617 Q121.594 779.751 123.816 780.307 Q126.038 780.862 128.515 780.862 Q132.519 780.862 134.857 778.756 Q137.195 776.649 137.195 773.038 Q137.195 769.427 134.857 767.321 Q132.519 765.214 128.515 765.214 Q126.64 765.214 124.765 765.631 Q122.913 766.047 120.969 766.927 L120.969 749.566 Z\" fill=\"#000000\" fill-rule=\"evenodd\" fill-opacity=\"1\" /><path clip-path=\"url(#clip320)\" d=\"M151.084 778.246 L155.968 778.246 L155.968 784.126 L151.084 784.126 L151.084 778.246 Z\" fill=\"#000000\" fill-rule=\"evenodd\" fill-opacity=\"1\" /><path clip-path=\"url(#clip320)\" d=\"M176.153 752.645 Q172.542 752.645 170.714 756.209 Q168.908 759.751 168.908 766.881 Q168.908 773.987 170.714 777.552 Q172.542 781.094 176.153 781.094 Q179.788 781.094 181.593 777.552 Q183.422 773.987 183.422 766.881 Q183.422 759.751 181.593 756.209 Q179.788 752.645 176.153 752.645 M176.153 748.941 Q181.964 748.941 185.019 753.547 Q188.098 758.131 188.098 766.881 Q188.098 775.608 185.019 780.214 Q181.964 784.797 176.153 784.797 Q170.343 784.797 167.265 780.214 Q164.209 775.608 164.209 766.881 Q164.209 758.131 167.265 753.547 Q170.343 748.941 176.153 748.941 Z\" fill=\"#000000\" fill-rule=\"evenodd\" fill-opacity=\"1\" /><path clip-path=\"url(#clip320)\" d=\"M82.1494 427.863 L111.825 427.863 L111.825 431.798 L82.1494 431.798 L82.1494 427.863 Z\" fill=\"#000000\" fill-rule=\"evenodd\" fill-opacity=\"1\" /><path clip-path=\"url(#clip320)\" d=\"M125.945 440.756 L142.265 440.756 L142.265 444.691 L120.32 444.691 L120.32 440.756 Q122.982 438.001 127.566 433.372 Q132.172 428.719 133.353 427.376 Q135.598 424.853 136.478 423.117 Q137.381 421.358 137.381 419.668 Q137.381 416.914 135.436 415.177 Q133.515 413.441 130.413 413.441 Q128.214 413.441 125.76 414.205 Q123.33 414.969 120.552 416.52 L120.552 411.798 Q123.376 410.664 125.83 410.085 Q128.283 409.506 130.32 409.506 Q135.691 409.506 138.885 412.191 Q142.08 414.876 142.08 419.367 Q142.08 421.497 141.269 423.418 Q140.482 425.316 138.376 427.909 Q137.797 428.58 134.695 431.798 Q131.594 434.992 125.945 440.756 Z\" fill=\"#000000\" fill-rule=\"evenodd\" fill-opacity=\"1\" /><path clip-path=\"url(#clip320)\" d=\"M152.08 438.812 L156.964 438.812 L156.964 444.691 L152.08 444.691 L152.08 438.812 Z\" fill=\"#000000\" fill-rule=\"evenodd\" fill-opacity=\"1\" /><path clip-path=\"url(#clip320)\" d=\"M167.195 410.131 L185.552 410.131 L185.552 414.066 L171.478 414.066 L171.478 422.538 Q172.496 422.191 173.515 422.029 Q174.533 421.844 175.552 421.844 Q181.339 421.844 184.718 425.015 Q188.098 428.187 188.098 433.603 Q188.098 439.182 184.626 442.284 Q181.153 445.362 174.834 445.362 Q172.658 445.362 170.39 444.992 Q168.144 444.622 165.737 443.881 L165.737 439.182 Q167.82 440.316 170.042 440.872 Q172.265 441.427 174.741 441.427 Q178.746 441.427 181.084 439.321 Q183.422 437.214 183.422 433.603 Q183.422 429.992 181.084 427.886 Q178.746 425.779 174.741 425.779 Q172.866 425.779 170.991 426.196 Q169.14 426.613 167.195 427.492 L167.195 410.131 Z\" fill=\"#000000\" fill-rule=\"evenodd\" fill-opacity=\"1\" /><path clip-path=\"url(#clip320)\" d=\"M130.922 73.775 Q127.311 73.775 125.482 77.3398 Q123.677 80.8814 123.677 88.011 Q123.677 95.1174 125.482 98.6822 Q127.311 102.224 130.922 102.224 Q134.556 102.224 136.362 98.6822 Q138.191 95.1174 138.191 88.011 Q138.191 80.8814 136.362 77.3398 Q134.556 73.775 130.922 73.775 M130.922 70.0713 Q136.732 70.0713 139.788 74.6777 Q142.867 79.261 142.867 88.011 Q142.867 96.7378 139.788 101.344 Q136.732 105.928 130.922 105.928 Q125.112 105.928 122.033 101.344 Q118.978 96.7378 118.978 88.011 Q118.978 79.261 122.033 74.6777 Q125.112 70.0713 130.922 70.0713 Z\" fill=\"#000000\" fill-rule=\"evenodd\" fill-opacity=\"1\" /><path clip-path=\"url(#clip320)\" d=\"M151.084 99.3767 L155.968 99.3767 L155.968 105.256 L151.084 105.256 L151.084 99.3767 Z\" fill=\"#000000\" fill-rule=\"evenodd\" fill-opacity=\"1\" /><path clip-path=\"url(#clip320)\" d=\"M176.153 73.775 Q172.542 73.775 170.714 77.3398 Q168.908 80.8814 168.908 88.011 Q168.908 95.1174 170.714 98.6822 Q172.542 102.224 176.153 102.224 Q179.788 102.224 181.593 98.6822 Q183.422 95.1174 183.422 88.011 Q183.422 80.8814 181.593 77.3398 Q179.788 73.775 176.153 73.775 M176.153 70.0713 Q181.964 70.0713 185.019 74.6777 Q188.098 79.261 188.098 88.011 Q188.098 96.7378 185.019 101.344 Q181.964 105.928 176.153 105.928 Q170.343 105.928 167.265 101.344 Q164.209 96.7378 164.209 88.011 Q164.209 79.261 167.265 74.6777 Q170.343 70.0713 176.153 70.0713 Z\" fill=\"#000000\" fill-rule=\"evenodd\" fill-opacity=\"1\" /><circle clip-path=\"url(#clip322)\" cx=\"284.343\" cy=\"87.9763\" r=\"14\" fill=\"#009af9\" fill-rule=\"evenodd\" fill-opacity=\"1\" stroke=\"#000000\" stroke-opacity=\"1\" stroke-width=\"3.2\"/>\n",
       "<circle clip-path=\"url(#clip322)\" cx=\"368.017\" cy=\"223.75\" r=\"14\" fill=\"#009af9\" fill-rule=\"evenodd\" fill-opacity=\"1\" stroke=\"#000000\" stroke-opacity=\"1\" stroke-width=\"3.2\"/>\n",
       "<circle clip-path=\"url(#clip322)\" cx=\"451.69\" cy=\"359.524\" r=\"14\" fill=\"#009af9\" fill-rule=\"evenodd\" fill-opacity=\"1\" stroke=\"#000000\" stroke-opacity=\"1\" stroke-width=\"3.2\"/>\n",
       "<circle clip-path=\"url(#clip322)\" cx=\"535.364\" cy=\"495.298\" r=\"14\" fill=\"#009af9\" fill-rule=\"evenodd\" fill-opacity=\"1\" stroke=\"#000000\" stroke-opacity=\"1\" stroke-width=\"3.2\"/>\n",
       "<circle clip-path=\"url(#clip322)\" cx=\"619.038\" cy=\"359.524\" r=\"14\" fill=\"#009af9\" fill-rule=\"evenodd\" fill-opacity=\"1\" stroke=\"#000000\" stroke-opacity=\"1\" stroke-width=\"3.2\"/>\n",
       "<circle clip-path=\"url(#clip322)\" cx=\"702.711\" cy=\"495.298\" r=\"14\" fill=\"#009af9\" fill-rule=\"evenodd\" fill-opacity=\"1\" stroke=\"#000000\" stroke-opacity=\"1\" stroke-width=\"3.2\"/>\n",
       "<circle clip-path=\"url(#clip322)\" cx=\"786.385\" cy=\"359.524\" r=\"14\" fill=\"#009af9\" fill-rule=\"evenodd\" fill-opacity=\"1\" stroke=\"#000000\" stroke-opacity=\"1\" stroke-width=\"3.2\"/>\n",
       "<circle clip-path=\"url(#clip322)\" cx=\"870.059\" cy=\"223.75\" r=\"14\" fill=\"#009af9\" fill-rule=\"evenodd\" fill-opacity=\"1\" stroke=\"#000000\" stroke-opacity=\"1\" stroke-width=\"3.2\"/>\n",
       "<circle clip-path=\"url(#clip322)\" cx=\"953.732\" cy=\"359.524\" r=\"14\" fill=\"#009af9\" fill-rule=\"evenodd\" fill-opacity=\"1\" stroke=\"#000000\" stroke-opacity=\"1\" stroke-width=\"3.2\"/>\n",
       "<circle clip-path=\"url(#clip322)\" cx=\"1037.41\" cy=\"223.75\" r=\"14\" fill=\"#009af9\" fill-rule=\"evenodd\" fill-opacity=\"1\" stroke=\"#000000\" stroke-opacity=\"1\" stroke-width=\"3.2\"/>\n",
       "<circle clip-path=\"url(#clip322)\" cx=\"1121.08\" cy=\"359.524\" r=\"14\" fill=\"#009af9\" fill-rule=\"evenodd\" fill-opacity=\"1\" stroke=\"#000000\" stroke-opacity=\"1\" stroke-width=\"3.2\"/>\n",
       "<circle clip-path=\"url(#clip322)\" cx=\"1204.75\" cy=\"495.298\" r=\"14\" fill=\"#009af9\" fill-rule=\"evenodd\" fill-opacity=\"1\" stroke=\"#000000\" stroke-opacity=\"1\" stroke-width=\"3.2\"/>\n",
       "<circle clip-path=\"url(#clip322)\" cx=\"1288.43\" cy=\"631.072\" r=\"14\" fill=\"#009af9\" fill-rule=\"evenodd\" fill-opacity=\"1\" stroke=\"#000000\" stroke-opacity=\"1\" stroke-width=\"3.2\"/>\n",
       "<circle clip-path=\"url(#clip322)\" cx=\"1372.1\" cy=\"766.846\" r=\"14\" fill=\"#009af9\" fill-rule=\"evenodd\" fill-opacity=\"1\" stroke=\"#000000\" stroke-opacity=\"1\" stroke-width=\"3.2\"/>\n",
       "<circle clip-path=\"url(#clip322)\" cx=\"1455.77\" cy=\"631.072\" r=\"14\" fill=\"#009af9\" fill-rule=\"evenodd\" fill-opacity=\"1\" stroke=\"#000000\" stroke-opacity=\"1\" stroke-width=\"3.2\"/>\n",
       "<circle clip-path=\"url(#clip322)\" cx=\"1539.45\" cy=\"495.298\" r=\"14\" fill=\"#009af9\" fill-rule=\"evenodd\" fill-opacity=\"1\" stroke=\"#000000\" stroke-opacity=\"1\" stroke-width=\"3.2\"/>\n",
       "<circle clip-path=\"url(#clip322)\" cx=\"1623.12\" cy=\"359.524\" r=\"14\" fill=\"#009af9\" fill-rule=\"evenodd\" fill-opacity=\"1\" stroke=\"#000000\" stroke-opacity=\"1\" stroke-width=\"3.2\"/>\n",
       "<circle clip-path=\"url(#clip322)\" cx=\"1706.8\" cy=\"495.298\" r=\"14\" fill=\"#009af9\" fill-rule=\"evenodd\" fill-opacity=\"1\" stroke=\"#000000\" stroke-opacity=\"1\" stroke-width=\"3.2\"/>\n",
       "<circle clip-path=\"url(#clip322)\" cx=\"1790.47\" cy=\"631.072\" r=\"14\" fill=\"#009af9\" fill-rule=\"evenodd\" fill-opacity=\"1\" stroke=\"#000000\" stroke-opacity=\"1\" stroke-width=\"3.2\"/>\n",
       "<circle clip-path=\"url(#clip322)\" cx=\"1874.14\" cy=\"766.846\" r=\"14\" fill=\"#009af9\" fill-rule=\"evenodd\" fill-opacity=\"1\" stroke=\"#000000\" stroke-opacity=\"1\" stroke-width=\"3.2\"/>\n",
       "<circle clip-path=\"url(#clip322)\" cx=\"1957.82\" cy=\"902.62\" r=\"14\" fill=\"#009af9\" fill-rule=\"evenodd\" fill-opacity=\"1\" stroke=\"#000000\" stroke-opacity=\"1\" stroke-width=\"3.2\"/>\n",
       "<circle clip-path=\"url(#clip322)\" cx=\"2041.49\" cy=\"1038.39\" r=\"14\" fill=\"#009af9\" fill-rule=\"evenodd\" fill-opacity=\"1\" stroke=\"#000000\" stroke-opacity=\"1\" stroke-width=\"3.2\"/>\n",
       "<circle clip-path=\"url(#clip322)\" cx=\"2125.16\" cy=\"1174.17\" r=\"14\" fill=\"#009af9\" fill-rule=\"evenodd\" fill-opacity=\"1\" stroke=\"#000000\" stroke-opacity=\"1\" stroke-width=\"3.2\"/>\n",
       "<circle clip-path=\"url(#clip322)\" cx=\"2208.84\" cy=\"1309.94\" r=\"14\" fill=\"#009af9\" fill-rule=\"evenodd\" fill-opacity=\"1\" stroke=\"#000000\" stroke-opacity=\"1\" stroke-width=\"3.2\"/>\n",
       "<circle clip-path=\"url(#clip322)\" cx=\"2292.51\" cy=\"1445.72\" r=\"14\" fill=\"#009af9\" fill-rule=\"evenodd\" fill-opacity=\"1\" stroke=\"#000000\" stroke-opacity=\"1\" stroke-width=\"3.2\"/>\n",
       "<path clip-path=\"url(#clip320)\" d=\"\n",
       "M1992.85 198.898 L2281.8 198.898 L2281.8 95.2176 L1992.85 95.2176  Z\n",
       "  \" fill=\"#ffffff\" fill-rule=\"evenodd\" fill-opacity=\"1\"/>\n",
       "<polyline clip-path=\"url(#clip320)\" style=\"stroke:#000000; stroke-linecap:butt; stroke-linejoin:round; stroke-width:4; stroke-opacity:1; fill:none\" points=\"\n",
       "  1992.85,198.898 2281.8,198.898 2281.8,95.2176 1992.85,95.2176 1992.85,198.898 \n",
       "  \"/>\n",
       "<circle clip-path=\"url(#clip320)\" cx=\"2087.46\" cy=\"147.058\" r=\"23\" fill=\"#009af9\" fill-rule=\"evenodd\" fill-opacity=\"1\" stroke=\"#000000\" stroke-opacity=\"1\" stroke-width=\"5.12\"/>\n",
       "<path clip-path=\"url(#clip320)\" d=\"M2195.91 166.745 Q2194.1 171.375 2192.39 172.787 Q2190.68 174.199 2187.81 174.199 L2184.4 174.199 L2184.4 170.634 L2186.9 170.634 Q2188.66 170.634 2189.64 169.8 Q2190.61 168.967 2191.79 165.865 L2192.55 163.921 L2182.07 138.412 L2186.58 138.412 L2194.68 158.689 L2202.78 138.412 L2207.3 138.412 L2195.91 166.745 Z\" fill=\"#000000\" fill-rule=\"evenodd\" fill-opacity=\"1\" /><path clip-path=\"url(#clip320)\" d=\"M2214.59 160.402 L2222.23 160.402 L2222.23 134.037 L2213.92 135.703 L2213.92 131.444 L2222.18 129.778 L2226.86 129.778 L2226.86 160.402 L2234.5 160.402 L2234.5 164.338 L2214.59 164.338 L2214.59 160.402 Z\" fill=\"#000000\" fill-rule=\"evenodd\" fill-opacity=\"1\" /></svg>\n"
      ]
     },
     "execution_count": 476,
     "metadata": {},
     "output_type": "execute_result"
    }
   ],
   "source": [
    "sample!(x,θ)\n",
    "\n",
    "scatter(x)"
   ]
  },
  {
   "cell_type": "code",
   "execution_count": null,
   "id": "12255123-7459-4bef-a0c0-7258f680814a",
   "metadata": {},
   "outputs": [],
   "source": []
  }
 ],
 "metadata": {
  "kernelspec": {
   "display_name": "Julia 1.7.0-rc2",
   "language": "julia",
   "name": "julia-1.7"
  },
  "language_info": {
   "file_extension": ".jl",
   "mimetype": "application/julia",
   "name": "julia",
   "version": "1.7.0"
  }
 },
 "nbformat": 4,
 "nbformat_minor": 5
}
